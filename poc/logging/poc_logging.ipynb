{
 "cells": [
  {
   "cell_type": "code",
   "execution_count": null,
   "id": "20a5a560",
   "metadata": {},
   "outputs": [],
   "source": [
    "from mylogger import logger\n",
    "import logging"
   ]
  },
  {
   "cell_type": "code",
   "execution_count": null,
   "id": "de2a3bd0",
   "metadata": {},
   "outputs": [],
   "source": [
    "logger.setLevel(\"DEBUG\")\n"
   ]
  },
  {
   "cell_type": "code",
   "execution_count": null,
   "id": "4100f234",
   "metadata": {},
   "outputs": [],
   "source": [
    "jmesg = {\n",
    "    \"key_1\" : 12.345,\n",
    "    \"key_2\" : \"this is a string\",\n",
    "    \"key_3\" : ( \"this\", \"is\", 1 , \"list\")\n",
    "}\n"
   ]
  },
  {
   "cell_type": "code",
   "execution_count": null,
   "id": "57eef69e",
   "metadata": {},
   "outputs": [],
   "source": [
    "print(jmesg)"
   ]
  },
  {
   "cell_type": "code",
   "execution_count": null,
   "id": "69f0ae1c",
   "metadata": {},
   "outputs": [],
   "source": [
    "logger.setLevel(\"DEBUG\")\n",
    "logger.debug( \"this is a string on console\")\n",
    "logger.debug(jmesg)"
   ]
  },
  {
   "cell_type": "code",
   "execution_count": null,
   "id": "d4088777",
   "metadata": {},
   "outputs": [],
   "source": [
    "logger.addJsonFileHandler( level = logging.ERROR)\n",
    "\n"
   ]
  },
  {
   "cell_type": "code",
   "execution_count": null,
   "id": "07419163",
   "metadata": {},
   "outputs": [],
   "source": [
    "logger.debug( \"only on console because level is low\")\n",
    "logger.error( \"should be on console and file\" )\n",
    "logger.error( jmesg )\n"
   ]
  },
  {
   "cell_type": "code",
   "execution_count": null,
   "id": "5712a1e4",
   "metadata": {},
   "outputs": [],
   "source": [
    "try:\n",
    "    x = 0.0 / 0.0\n",
    "except:\n",
    "    logger.exception(\"Got the trace ? \")\n"
   ]
  },
  {
   "cell_type": "code",
   "execution_count": null,
   "id": "70e7c686",
   "metadata": {},
   "outputs": [],
   "source": [
    "logger.setLevel(\"WARNING\")\n"
   ]
  },
  {
   "cell_type": "code",
   "execution_count": null,
   "id": "0cd8ec09",
   "metadata": {},
   "outputs": [],
   "source": [
    "logger.debug(\"nobody can see me\")\n",
    "logger.warning(\"every body should see me\")\n"
   ]
  },
  {
   "cell_type": "code",
   "execution_count": null,
   "id": "c00fe440",
   "metadata": {},
   "outputs": [],
   "source": []
  },
  {
   "cell_type": "code",
   "execution_count": null,
   "id": "c2f559e1",
   "metadata": {},
   "outputs": [],
   "source": []
  },
  {
   "cell_type": "code",
   "execution_count": null,
   "id": "627960fd",
   "metadata": {},
   "outputs": [],
   "source": []
  }
 ],
 "metadata": {
  "kernelspec": {
   "display_name": "Python 3 (ipykernel)",
   "language": "python",
   "name": "python3"
  },
  "language_info": {
   "codemirror_mode": {
    "name": "ipython",
    "version": 3
   },
   "file_extension": ".py",
   "mimetype": "text/x-python",
   "name": "python",
   "nbconvert_exporter": "python",
   "pygments_lexer": "ipython3",
   "version": "3.9.6"
  }
 },
 "nbformat": 4,
 "nbformat_minor": 5
}

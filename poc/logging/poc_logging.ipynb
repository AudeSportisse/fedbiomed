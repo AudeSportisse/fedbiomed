{
 "cells": [
  {
   "cell_type": "code",
   "execution_count": 1,
   "id": "20a5a560",
   "metadata": {},
   "outputs": [],
   "source": [
    "from mylogger import logger\n",
    "import logging"
   ]
  },
  {
   "cell_type": "code",
   "execution_count": 2,
   "id": "de2a3bd0",
   "metadata": {},
   "outputs": [],
   "source": [
    "logger.setLevel(\"DEBUG\")\n"
   ]
  },
  {
   "cell_type": "code",
   "execution_count": 3,
   "id": "4100f234",
   "metadata": {},
   "outputs": [],
   "source": [
    "i  = 0 "
   ]
  },
  {
   "cell_type": "code",
   "execution_count": 4,
   "id": "57eef69e",
   "metadata": {},
   "outputs": [
    {
     "name": "stdout",
     "output_type": "stream",
     "text": [
      "0\n"
     ]
    }
   ],
   "source": [
    "print(i)"
   ]
  },
  {
   "cell_type": "code",
   "execution_count": 5,
   "id": "69f0ae1c",
   "metadata": {},
   "outputs": [
    {
     "data": {
      "text/plain": [
       "0"
      ]
     },
     "execution_count": 5,
     "metadata": {},
     "output_type": "execute_result"
    }
   ],
   "source": [
    "i"
   ]
  },
  {
   "cell_type": "code",
   "execution_count": 6,
   "id": "d4088777",
   "metadata": {},
   "outputs": [],
   "source": [
    "logger.debug( \"this is a string\")\n"
   ]
  },
  {
   "cell_type": "code",
   "execution_count": 7,
   "id": "85d47d38",
   "metadata": {},
   "outputs": [],
   "source": [
    "jmesg = {\n",
    "    \"key_1\" : 12.345,\n",
    "    \"key_2\" : \"this is a string\",\n",
    "    \"key_3\" : ( \"this\", \"is\", 1 , \"list\")\n",
    "}\n"
   ]
  },
  {
   "cell_type": "code",
   "execution_count": 8,
   "id": "07c1ff3b",
   "metadata": {},
   "outputs": [
    {
     "data": {
      "text/plain": [
       "{'key_1': 12.345,\n",
       " 'key_2': 'this is a string',\n",
       " 'key_3': ('this', 'is', 1, 'list')}"
      ]
     },
     "execution_count": 8,
     "metadata": {},
     "output_type": "execute_result"
    }
   ],
   "source": [
    "jmesg"
   ]
  },
  {
   "cell_type": "code",
   "execution_count": 9,
   "id": "8092fcfc",
   "metadata": {},
   "outputs": [],
   "source": [
    "logger.debug(jmesg)\n"
   ]
  },
  {
   "cell_type": "code",
   "execution_count": 10,
   "id": "44e45e07",
   "metadata": {},
   "outputs": [],
   "source": [
    "try:\n",
    "    x = 0.0 / 0.0\n",
    "except:\n",
    "    logger.exception(\"Got the trace ? \")\n"
   ]
  },
  {
   "cell_type": "markdown",
   "id": "c2cd06b0",
   "metadata": {},
   "source": [
    "\n",
    "how to add a console handler\n"
   ]
  },
  {
   "cell_type": "code",
   "execution_count": 11,
   "id": "36b24c3a",
   "metadata": {},
   "outputs": [],
   "source": [
    "ch = logging.StreamHandler()\n",
    "ch.setLevel(logging.DEBUG)\n",
    "formatter = logging.Formatter('%(asctime)s - %(name)s - %(levelname)s - %(message)s')\n",
    "ch.setFormatter(formatter)\n",
    "logger.addHandler(ch)\n"
   ]
  },
  {
   "cell_type": "code",
   "execution_count": 12,
   "id": "2d241c95",
   "metadata": {},
   "outputs": [
    {
     "name": "stderr",
     "output_type": "stream",
     "text": [
      "2021-09-03 15:59:16,443 - fedbiomed - DEBUG - console and file - from notebook???\n"
     ]
    }
   ],
   "source": [
    "logger.debug('console and file - from notebook???') "
   ]
  },
  {
   "cell_type": "code",
   "execution_count": null,
   "id": "3db20a04",
   "metadata": {},
   "outputs": [],
   "source": []
  }
 ],
 "metadata": {
  "kernelspec": {
   "display_name": "Python 3 (ipykernel)",
   "language": "python",
   "name": "python3"
  },
  "language_info": {
   "codemirror_mode": {
    "name": "ipython",
    "version": 3
   },
   "file_extension": ".py",
   "mimetype": "text/x-python",
   "name": "python",
   "nbconvert_exporter": "python",
   "pygments_lexer": "ipython3",
   "version": "3.9.6"
  }
 },
 "nbformat": 4,
 "nbformat_minor": 5
}

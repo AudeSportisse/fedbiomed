{
 "cells": [
  {
   "cell_type": "code",
   "execution_count": 1,
   "id": "20a5a560",
   "metadata": {},
   "outputs": [],
   "source": [
    "from mylogger import logger"
   ]
  },
  {
   "cell_type": "code",
   "execution_count": 2,
   "id": "de2a3bd0",
   "metadata": {},
   "outputs": [],
   "source": [
    "logger.setLevel(\"DEBUG\")\n"
   ]
  },
  {
   "cell_type": "code",
   "execution_count": 3,
   "id": "4100f234",
   "metadata": {},
   "outputs": [],
   "source": [
    "i  = 0 "
   ]
  },
  {
   "cell_type": "code",
   "execution_count": 4,
   "id": "57eef69e",
   "metadata": {},
   "outputs": [
    {
     "name": "stdout",
     "output_type": "stream",
     "text": [
      "0\n"
     ]
    }
   ],
   "source": [
    "print(i)"
   ]
  },
  {
   "cell_type": "code",
   "execution_count": 5,
   "id": "7b7ab7d9",
   "metadata": {},
   "outputs": [
    {
     "data": {
      "text/plain": [
       "0"
      ]
     },
     "execution_count": 5,
     "metadata": {},
     "output_type": "execute_result"
    }
   ],
   "source": [
    "i"
   ]
  },
  {
   "cell_type": "code",
   "execution_count": 6,
   "id": "bcbe3c38",
   "metadata": {},
   "outputs": [],
   "source": [
    "logger.debug( \"this is a string\")\n"
   ]
  },
  {
   "cell_type": "code",
   "execution_count": 7,
   "id": "da758384",
   "metadata": {},
   "outputs": [],
   "source": [
    "jmesg = {\n",
    "    \"key_1\" : 12.345,\n",
    "    \"key_2\" : \"this is a string\",\n",
    "    \"key_3\" : ( \"this\", \"is\", 1 , \"list\")\n",
    "}\n"
   ]
  },
  {
   "cell_type": "code",
   "execution_count": 8,
   "id": "81797bbc",
   "metadata": {},
   "outputs": [
    {
     "data": {
      "text/plain": [
       "{'key_1': 12.345,\n",
       " 'key_2': 'this is a string',\n",
       " 'key_3': ('this', 'is', 1, 'list')}"
      ]
     },
     "execution_count": 8,
     "metadata": {},
     "output_type": "execute_result"
    }
   ],
   "source": [
    "jmesg"
   ]
  },
  {
   "cell_type": "code",
   "execution_count": 9,
   "id": "c9778323",
   "metadata": {},
   "outputs": [],
   "source": [
    "logger.debug(jmesg)\n"
   ]
  },
  {
   "cell_type": "code",
   "execution_count": 10,
   "id": "de6cc9af",
   "metadata": {},
   "outputs": [],
   "source": [
    "try:\n",
    "    x = 0.0 / 0.0\n",
    "except:\n",
    "    logger.exception(\"Got the trace ? \")\n"
   ]
  },
  {
   "cell_type": "code",
   "execution_count": null,
   "id": "baa037f0",
   "metadata": {},
   "outputs": [],
   "source": []
  }
 ],
 "metadata": {
  "kernelspec": {
   "display_name": "Python 3 (ipykernel)",
   "language": "python",
   "name": "python3"
  },
  "language_info": {
   "codemirror_mode": {
    "name": "ipython",
    "version": 3
   },
   "file_extension": ".py",
   "mimetype": "text/x-python",
   "name": "python",
   "nbconvert_exporter": "python",
   "pygments_lexer": "ipython3",
   "version": "3.9.6"
  }
 },
 "nbformat": 4,
 "nbformat_minor": 5
}

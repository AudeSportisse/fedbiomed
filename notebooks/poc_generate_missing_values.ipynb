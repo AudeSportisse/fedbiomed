{
 "cells": [
  {
   "cell_type": "code",
   "execution_count": 1,
   "id": "a43afa6e",
   "metadata": {},
   "outputs": [],
   "source": [
    "import pandas as pd\n",
    "from sklearn.impute import KNNImputer\n",
    "\n",
    "#{'feature_name': {'test_name' :{'success': [], 'details':[]}}\n",
    "test_name =[]\n",
    "feature_name = []\n",
    "test_success = []\n",
    "test_details = []\n",
    "#report ={'feature_name': feature_name,'test_name': test_name,'success':test_success,'details':test_details}\n",
    "report ={}\n",
    "\n",
    "\n",
    "#Loading data from csv files\n",
    "#Excel data files\n",
    "def load_data(data_set):\n",
    "    try:\n",
    "        excel = ['.xls','.xlsx']\n",
    "        if '.csv' in data_set:\n",
    "            d1 = pd.read_csv(data_set,delimiter=',',header=0)\n",
    "            print('CSV file loaded')\n",
    "            print(d1.head())\n",
    "        elif any(x in data_set for x in excel): \n",
    "            d1 = pd.read_excel(data_set,index_col=None)\n",
    "            print('Excel file loaded')\n",
    "            print(d1.head())\n",
    "        return d1\n",
    "    except Exception as err:\n",
    "        print(err)\n",
    "        print('Error encountered in loading data file')\n",
    "\n",
    "    \n",
    "#Missing values \n",
    "\n",
    "#Impute missing values with mean for Qualitative Data\n",
    "\n",
    "def impute_missing_values_mean(data):\n",
    "    try:\n",
    "        if type(data) == pd.core.frame.DataFrame:\n",
    "            for col in data.columns:\n",
    "                if (data[col].isnull().sum()>0):\n",
    "                    if any(data[col].dtype in x2 for x2 in  [x.value for x in QuantitativeDataType]):\n",
    "                        data[col].fillna(value=data[col].mean(),inplace=True)\n",
    "        else:\n",
    "            data = data.fillna(data.mean())\n",
    "        return data\n",
    "    except Exception as err:\n",
    "        print(err)\n",
    "        print('Error encountered in loading data file')\n",
    "\n",
    " \n",
    " #Categorical Data\n",
    "def impute_missing_values_mode(data):\n",
    "    try:\n",
    "        if type(data) == pd.core.frame.DataFrame:\n",
    "            for col in data.columns:\n",
    "                if (data[col].isnull().sum()>0):\n",
    "                    if any(data[col].dtype in x2 for x2 in  [x.value for x in CategoricalDataType]):\n",
    "                        print(col)\n",
    "                        data[col].fillna(value=data[col].mode()[0],inplace=True)\n",
    "                        \n",
    "        else:\n",
    "            data = data.fillna(data.value_counts().index[0])\n",
    "            \n",
    "        return data\n",
    "    except Exception as err:\n",
    "        print(err)\n",
    "        print('Error encountered in imputing missing values - mode')\n",
    "       \n",
    "\n",
    "\n",
    "    # Impute missing values with KNN            \n",
    "\n",
    "def impute_missing_values_knn(data,k=2):\n",
    "    try:\n",
    "        if type(data) == pd.core.frame.DataFrame:\n",
    "            missing_cols = data.columns[data.isnull().any()]\n",
    "            if len(missing_cols)>0:\n",
    "                    imputer =KNNImputer(n_neighbors=k)\n",
    "                    data = pd.DataFrame(imputer.fit_transform(data),columns=data.columns) \n",
    "        else:\n",
    "            imputer =KNNImputer(n_neighbors=k)\n",
    "            data =pd.DataFrame( (imputer.fit_transform(np.array(data).reshape(1,-1))).reshape(-1,1),columns=[data.name])                    \n",
    "\n",
    "        return data  \n",
    "    except Exception as err:\n",
    "        print(err)\n",
    "        print('Error encountered in imputing missing values - knn')\n",
    "\n",
    "#Impute missing values with Interpolate\n",
    "def impute_missing_values_interpolate(data):\n",
    "    try:\n",
    "        data_filled = data.interpolate()\n",
    "            \n",
    "        return data_filled\n",
    "    except Exception as err:\n",
    "        print(err)\n",
    "        print('Error encountered in imputing missing values - interpolate')"
   ]
  },
  {
   "cell_type": "code",
   "execution_count": 2,
   "id": "bc29aa1f",
   "metadata": {},
   "outputs": [],
   "source": [
    "import numpy as np\n",
    "import enum\n",
    "from enum import Enum, auto\n",
    "import logging\n",
    "\n",
    "# the use of Enum classes will prevent incorrect combination of values\n",
    "class QuantitativeDataType(Enum):\n",
    "    CONTINUOUS = [float, np.float64]\n",
    "    DISCRETE = [int]\n",
    "\n",
    "class CategoricalDataType(Enum):\n",
    "    BOOLEAN = [bool]\n",
    "    NUMERICAL = [float, int, np.float64, np.int64]\n",
    "    CHARACTER = [str, object]\n",
    "    \n",
    "class DataType(Enum):\n",
    "    \"\"\"\n",
    "\n",
    "    \"\"\"\n",
    "    QUANTITATIVE = [QuantitativeDataType.CONTINUOUS,\n",
    "                   QuantitativeDataType.DISCRETE]\n",
    "    CATEGORICAL = [CategoricalDataType.BOOLEAN,\n",
    "                  CategoricalDataType.NUMERICAL,\n",
    "                  CategoricalDataType.CHARACTER]\n",
    "    #MISSING = 'MISSING'\n",
    "    DATETIME = 'DATETIME'\n",
    "    UNKNOWN = 'UNKNOWN'\n",
    "    \n",
    "class CustomWarning:\n",
    "    \n",
    "        def __init__(self, disclosure,level):\n",
    "            self.level = level\n",
    "            self.disclosure = disclosure\n",
    "\n",
    "            \n",
    "        def display(self,message, columns = ' ' ):\n",
    "            \n",
    "            logger = logging.getLogger('mylogger')\n",
    "            logger.setLevel(self.level)\n",
    "\n",
    "            handler = logging.FileHandler('mylog.log')\n",
    "            formatter = logging.Formatter('%(asctime)s - %(name)s - %(levelname)s - %(message)s')\n",
    "            handler.setFormatter(formatter)\n",
    "            logger.addHandler(handler)\n",
    "            \n",
    "            if self.disclosure == 1:\n",
    "                if self.level == 'CRITICAL':\n",
    "                    logger.critical(message)\n",
    "                elif self.level == 'WARNING':\n",
    "                    logger.warning(message)\n",
    "            elif self.disclosure == 2:\n",
    "                if self.level == 'CRITICAL':\n",
    "                    message = 'Critical Warning.' + message\n",
    "                    logger.critical(message)\n",
    "                elif self.level == 'WARNING':\n",
    "                    message = 'Regular Warning.' + message\n",
    "                    logger.warning(message)\n",
    "            elif self.disclosure == 3:\n",
    "                if self.level == 'CRITICAL':\n",
    "                    message = 'Critical Warning. ' + message + 'Columns affected :' + columns\n",
    "                    logger.critical(message)\n",
    "                elif self.level == 'WARNING':\n",
    "                    message = 'Regular Warning. ' + message  + 'Columns affected :' + columns\n",
    "                    logger.warning(message) \n",
    "            print (message) \n",
    "            return message"
   ]
  },
  {
   "cell_type": "code",
   "execution_count": 3,
   "id": "73713d25",
   "metadata": {},
   "outputs": [],
   "source": [
    "import math #Checking if missing values exceed threshold limit(50%)\n",
    "def check_missing_values_limit(data,percent,disclosure):\n",
    "    MIN_NB_MISSING_DATA = math.ceil((percent/100)*data.shape[0])\n",
    "    report_details = []\n",
    "    for col in data.columns:\n",
    "        elem_report ={}\n",
    "       \n",
    "        elem_report['feature_name']=col\n",
    "        \n",
    "        if (data[col].isnull().sum()>MIN_NB_MISSING_DATA):\n",
    "            elem_report['success']='No'\n",
    "            critical_warning = CustomWarning(disclosure,'CRITICAL')\n",
    "            message = critical_warning.display(f'Missing value exceeds threshold limit {MIN_NB_MISSING_DATA}',col) \n",
    "            elem_report['msg']= message\n",
    "        else:\n",
    "            elem_report['success']='Yes'\n",
    "            elem_report['msg']='Test passed'\n",
    "        \n",
    "        report_details.append(elem_report)\n",
    "        print(report_details)\n",
    "            \n",
    "        report['check_missing_values_limit'] = report_details\n",
    "\n",
    "    return report"
   ]
  },
  {
   "cell_type": "code",
   "execution_count": 4,
   "id": "78a40d23",
   "metadata": {},
   "outputs": [],
   "source": [
    "#Checking samples limit\n",
    "\n",
    "def check_number_of_samples(data,MIN_NB_SAMPLES,disclosure):\n",
    "    \n",
    "    sample_count = data.shape[0]\n",
    "    elem_report ={}\n",
    "    report_details = []\n",
    "    elem_report['feature_name']='ALL'    \n",
    "    \n",
    "    if sample_count> MIN_NB_SAMPLES:\n",
    "        elem_report['success']='No'\n",
    "        critical_warning = CustomWarning(disclosure,'CRITICAL')\n",
    "        message = critical_warning.display(f'Samples count exceeds the threshold limit {MIN_NB_SAMPLES}')\n",
    "        elem_report['msg']= message\n",
    "    else:\n",
    "        elem_report['success']='Yes'\n",
    "        elem_report['msg']='Test passed'\n",
    "        \n",
    "    report_details.append(elem_report)\n",
    "    print(report_details)\n",
    "        \n",
    "    report['check_number_of_samples'] = report_details\n",
    "\n",
    "    return report"
   ]
  },
  {
   "cell_type": "code",
   "execution_count": null,
   "id": "3bf4a185",
   "metadata": {},
   "outputs": [],
   "source": [
    "report_details"
   ]
  },
  {
   "cell_type": "code",
   "execution_count": null,
   "id": "888775c5",
   "metadata": {},
   "outputs": [],
   "source": [
    "csv_data1 = load_data('C:\\\\Users\\\\p.santosha.dasari\\\\Desktop\\\\Feature164\\\\pseudo_adni_mod.csv')"
   ]
  },
  {
   "cell_type": "code",
   "execution_count": null,
   "id": "f0ffa9c4",
   "metadata": {},
   "outputs": [],
   "source": [
    "import pandas as pd\n",
    "def load_data(data_set):\n",
    "    try:\n",
    "        excel = ['.xls','.xlsx']\n",
    "        if '.csv' in data_set:\n",
    "            d1 = pd.read_csv(data_set,delimiter=';',header=0)\n",
    "            print('CSV file loaded')\n",
    "            print(d1.head())\n",
    "        elif any(x in data_set for x in excel): \n",
    "            d1 = pd.read_excel(data_set,index_col=0)\n",
    "            print('Excel file loaded')\n",
    "            print(d1.head())\n",
    "        return d1\n",
    "    except:\n",
    "        print('Exception encountered in loading data file')"
   ]
  },
  {
   "cell_type": "code",
   "execution_count": 5,
   "id": "274d6b49",
   "metadata": {},
   "outputs": [
    {
     "name": "stdout",
     "output_type": "stream",
     "text": [
      "Excel file loaded\n",
      "   ID   Age Eligibility\n",
      "0    1   45           Y\n",
      "1    2   45           Y\n",
      "2    3   33           N\n",
      "3    4   54           Y\n",
      "4    5   45           Y\n"
     ]
    }
   ],
   "source": [
    "d1 = load_data('/mnt/c/Users/p.santosha.dasari/Desktop/Feature164/Exceltest.xlsx')"
   ]
  },
  {
   "cell_type": "code",
   "execution_count": 6,
   "id": "77a8bdd9",
   "metadata": {},
   "outputs": [
    {
     "name": "stdout",
     "output_type": "stream",
     "text": [
      "[{'feature_name': 'ID ', 'success': 'Yes', 'msg': 'Test passed'}]\n",
      "[{'feature_name': 'ID ', 'success': 'Yes', 'msg': 'Test passed'}, {'feature_name': 'Age', 'success': 'Yes', 'msg': 'Test passed'}]\n",
      "Critical Warning.Missing value exceeds threshold limit 1\n",
      "[{'feature_name': 'ID ', 'success': 'Yes', 'msg': 'Test passed'}, {'feature_name': 'Age', 'success': 'Yes', 'msg': 'Test passed'}, {'feature_name': 'Eligibility', 'success': 'No', 'msg': 'Critical Warning.Missing value exceeds threshold limit 1'}]\n"
     ]
    }
   ],
   "source": [
    "a1 =check_missing_values_limit(d1,0.1,2)"
   ]
  },
  {
   "cell_type": "code",
   "execution_count": 7,
   "id": "ee040b7e",
   "metadata": {},
   "outputs": [
    {
     "name": "stdout",
     "output_type": "stream",
     "text": [
      "Samples count exceeds the threshold limit 2\n",
      "[{'feature_name': 'ALL', 'success': 'No', 'msg': 'Samples count exceeds the threshold limit 2'}]\n"
     ]
    }
   ],
   "source": [
    "b1 = check_number_of_samples(d1,2,1)"
   ]
  },
  {
   "cell_type": "code",
   "execution_count": 8,
   "id": "017191db",
   "metadata": {},
   "outputs": [
    {
     "data": {
      "text/plain": [
       "{'check_missing_values_limit': [{'feature_name': 'ID ',\n",
       "   'success': 'Yes',\n",
       "   'msg': 'Test passed'},\n",
       "  {'feature_name': 'Age', 'success': 'Yes', 'msg': 'Test passed'},\n",
       "  {'feature_name': 'Eligibility',\n",
       "   'success': 'No',\n",
       "   'msg': 'Critical Warning.Missing value exceeds threshold limit 1'}],\n",
       " 'check_number_of_samples': [{'feature_name': 'ALL',\n",
       "   'success': 'No',\n",
       "   'msg': 'Samples count exceeds the threshold limit 2'}]}"
      ]
     },
     "execution_count": 8,
     "metadata": {},
     "output_type": "execute_result"
    }
   ],
   "source": [
    "b1"
   ]
  },
  {
   "cell_type": "code",
   "execution_count": null,
   "id": "c4f67616",
   "metadata": {},
   "outputs": [],
   "source": []
  }
 ],
 "metadata": {
  "kernelspec": {
   "display_name": "Python 3 (ipykernel)",
   "language": "python",
   "name": "python3"
  },
  "language_info": {
   "codemirror_mode": {
    "name": "ipython",
    "version": 3
   },
   "file_extension": ".py",
   "mimetype": "text/x-python",
   "name": "python",
   "nbconvert_exporter": "python",
   "pygments_lexer": "ipython3",
   "version": "3.9.7"
  }
 },
 "nbformat": 4,
 "nbformat_minor": 5
}

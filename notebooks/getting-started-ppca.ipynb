{
 "cells": [
  {
   "cell_type": "markdown",
   "id": "64e87007",
   "metadata": {},
   "source": [
    "# Fedbiomed Researcher to train a federated ppca model."
   ]
  },
  {
   "cell_type": "markdown",
   "id": "92e17d2f",
   "metadata": {},
   "source": [
    "## Description of the exercise :"
   ]
  },
  {
   "cell_type": "markdown",
   "id": "fb782b14",
   "metadata": {},
   "source": [
    "Three datasets `n1.csv` , `n2.csv` and `n3.csv` will be generated randomly using 3-views PPCA from a 4-dimensional latent space, with views dimensions [15,8,10] and 2 groups. Henceforth, we will distribute the 3 dataset to 3 distinct nodes and use Fed-mv-PPCA. In each center we check the evolution of expected LL during training."
   ]
  },
  {
   "cell_type": "markdown",
   "id": "11c0bc07",
   "metadata": {},
   "source": [
    "## Data Generation\n",
    "\n",
    "We will generate three datasets using mv-PPCA.\n",
    "Then save them in a path of your choice on your machine."
   ]
  },
  {
   "cell_type": "code",
   "execution_count": null,
   "id": "b48f8c46",
   "metadata": {},
   "outputs": [],
   "source": [
    "import numpy as np\n",
    "import pandas as pd\n",
    "\n",
    "def sample_x_n(N, q, random_state=None):\n",
    "    return np.random.RandomState(random_state).randn(N,q)\n",
    "\n",
    "def generate_data(N_g, W, a_g, mu, sigma2, x_n, view, random_state=None):\n",
    "    rnd=np.random.RandomState(random_state)\n",
    "\n",
    "    N=N_g.sum()\n",
    "    d, q = W.shape\n",
    "    sigma=np.sqrt(sigma2)\n",
    "\n",
    "    return compute_mean_likelihood(N_g, W, a_g, mu, x_n, view) + sigma*rnd.randn(N,d)\n",
    "\n",
    "def compute_mean_likelihood(N_g, W, a_g, mu, x_n, view):\n",
    "    G=len(N_g)\n",
    "    N=N_g.sum()\n",
    "    d, q = W.shape\n",
    "\n",
    "    g_ind=np.concatenate((np.zeros(1, dtype=np.int64), np.cumsum(N_g)))\n",
    "\n",
    "\n",
    "    y_n=np.empty((N, d))\n",
    "\n",
    "    for g in range(G):\n",
    "        y_n[g_ind[g]:g_ind[g+1]]= np.einsum(\"dq,nq->nd\", W, x_n[g_ind[g]:g_ind[g+1]]+a_g[g]) + mu\n",
    "    y_n = pd.DataFrame(data=y_n,\n",
    "                     columns=[f'var_{view},{i + 1}' for i in range(d)])\n",
    "\n",
    "    return y_n"
   ]
  },
  {
   "cell_type": "code",
   "execution_count": null,
   "id": "d14ab247",
   "metadata": {},
   "outputs": [],
   "source": [
    "np.random.seed(100)\n",
    "\n",
    "D_i = [15, 8, 10]\n",
    "G = 2\n",
    "n_centers = 3\n",
    "testing_samples = 40\n",
    "\n",
    "q_gen, sigma2_gen1, sigma2_gen2, sigma2_gen3 = 4, 2, 1, 3\n",
    "\n",
    "W_gen1 = np.random.uniform(-10, 10, (D_i[0], q_gen))\n",
    "W_gen2 = np.random.uniform(-5, 5, (D_i[1], q_gen))\n",
    "W_gen3 = np.random.uniform(-15, 15, (D_i[2], q_gen))\n",
    "a_g_gen = np.concatenate((np.zeros((1, q_gen)), np.random.uniform(-10, 10, (G - 1, q_gen))))\n",
    "mu_gen1 = np.random.uniform(-10, 10, D_i[0])\n",
    "mu_gen2 = np.random.uniform(-5, 5, D_i[1])\n",
    "mu_gen3 = np.random.uniform(-15, 15, D_i[2])\n",
    "\n",
    "for i in range(n_centers):\n",
    "    N_g = np.array([np.random.randint(25,300),np.random.randint(25,300)])\n",
    "    g_ind = np.concatenate((np.zeros(1, dtype=np.int64), np.cumsum(N_g)))\n",
    "    N = N_g.sum()\n",
    "    x_n_gen = sample_x_n(N, q_gen, random_state=150)\n",
    "    y_t1 = generate_data(N_g, W_gen1, a_g_gen, mu_gen1, sigma2_gen1, x_n_gen, view = 1, random_state=250)\n",
    "    y_t2 = generate_data(N_g, W_gen2, a_g_gen, mu_gen2, sigma2_gen2, x_n_gen, view = 2, random_state=250)\n",
    "    y_t3 = generate_data(N_g, W_gen3, a_g_gen, mu_gen3, sigma2_gen3, x_n_gen, view = 3, random_state=250)\n",
    "\n",
    "    gr = [int(0) for _ in range(N_g[0])]+[int(1) for _ in range(N_g[1])]\n",
    "    gr = pd.Series(gr)\n",
    "\n",
    "    t_i = pd.concat((y_t1, y_t2, y_t3, gr), axis=1)\n",
    "    t_i.columns.values[-1] = 'Label'\n",
    "    t_i.to_csv('== Local path to node' + str(i+1) + '.csv',sep=',')\n",
    "    #np.savetxt('== Local path to node' + str(i+1) + '.csv',t_i,delimiter=',')\n",
    "               \n",
    "N_test = np.array([testing_samples//2,testing_samples//2])\n",
    "g_ind = np.concatenate((np.zeros(1, dtype=np.int64), np.cumsum(N_test)))\n",
    "N = N_test.sum()\n",
    "x_n_gen = sample_x_n(N, q_gen, random_state=150)\n",
    "y_t1 = generate_data(N_test, W_gen1, a_g_gen, mu_gen1, sigma2_gen1, x_n_gen, view = 1, random_state=250)\n",
    "y_t2 = generate_data(N_test, W_gen2, a_g_gen, mu_gen2, sigma2_gen2, x_n_gen, view = 2, random_state=250)\n",
    "y_t3 = generate_data(N_test, W_gen3, a_g_gen, mu_gen3, sigma2_gen3, x_n_gen, view = 3, random_state=250)\n",
    "\n",
    "gr = [0 for _ in range(N_test[0])]+[1 for _ in range(N_test[1])]\n",
    "gr = pd.Series(gr)\n",
    "\n",
    "t_test = pd.concat((y_t1, y_t2, y_t3, gr), axis=1)"
   ]
  },
  {
   "cell_type": "markdown",
   "id": "d39f160e",
   "metadata": {},
   "source": [
    "## Start the network and setting the client up\n",
    "Before running this notebook:\n",
    "1. You should start the network from fedbiomed-network, as detailed in :\n",
    "https://gitlab.inria.fr/fedbiomed/fedbiomed\n",
    "\n",
    "2. You need to configure at least 2 nodes: <br/>\n",
    "* **Node 1 :** `./scripts/fedbiomed_run node add`\n",
    "  * Select option 1 to add a csv file to the client\n",
    "  * Choose the name, tags and description of the dataset (you can write 'sk' always and it will be good)\n",
    "  * Pick the .csv file you stored the couple X[0],y[0].\n",
    "  * Check that your data has been added in node 1 by executing `./scripts/fedbiomed_run node list`\n",
    "  * Run the node using `./scripts/fedbiomed_run node start`. <br/>\n",
    "\n",
    "* **Node 2 :** Open a second terminal and run ./scripts/fedbiomed_run node add config n2.ini\n",
    "  * Select option 1 to add a csv file to the client\n",
    "  * Choose the name, tags and description of the dataset (you can write 'sk' always and it will be good)\n",
    "  * Pick the .csv file you stored the couple X[1],y[1].\n",
    "  * Check that your data has been added in node 2 by executing `./scripts/fedbiomed_run node config n2.ini list`\n",
    "  * Run the node using `./scripts/fedbiomed_run node config n2.ini start`.\n",
    "  \n",
    "* **Node 3 :** Open a third terminal and run ./scripts/fedbiomed_run node add config n3.ini\n",
    "  * Select option 1 to add a csv file to the client\n",
    "  * Choose the name, tags and description of the dataset (you can write 'sk' always and it will be good)\n",
    "  * Pick the .csv file you stored the couple X[2],y[2].\n",
    "  * Check that your data has been added in node 2 by executing `./scripts/fedbiomed_run node config n3.ini list`\n",
    "  * Run the node using `./scripts/fedbiomed_run node config n3.ini start `.\n",
    "\n",
    " Wait until you get `Connected with result code 0`. it means node is online.\n"
   ]
  },
  {
   "cell_type": "code",
   "execution_count": 1,
   "id": "ade4cbea",
   "metadata": {},
   "outputs": [],
   "source": [
    "%load_ext autoreload\n",
    "%autoreload 2"
   ]
  },
  {
   "cell_type": "code",
   "execution_count": 2,
   "id": "b8c80070",
   "metadata": {},
   "outputs": [],
   "source": [
    "import numpy as np\n",
    "from fedbiomed.researcher.environ import TMP_DIR\n",
    "import tempfile\n",
    "tmp_dir_model = tempfile.TemporaryDirectory(dir=TMP_DIR+'/')\n",
    "model_file = tmp_dir_model.name + '/ppca_id.py'"
   ]
  },
  {
   "cell_type": "markdown",
   "id": "8e9aaa87",
   "metadata": {},
   "source": [
    "Hereafter the template of the class you should provide to Fedbiomed :\n",
    "\n",
    "**__init__** : we add here the needed sklearn libraries\n",
    "       \n",
    "**training_data** : you must return here the (X,y) that must be of the same type of \n",
    "your method partial_fit parameters. "
   ]
  },
  {
   "cell_type": "code",
   "execution_count": 3,
   "id": "f10cc76c",
   "metadata": {},
   "outputs": [
    {
     "name": "stdout",
     "output_type": "stream",
     "text": [
      "Writing /Users/balelli/ownCloud/INRIA_EPIONE/FedBioMed/fedbiomed/var/tmp/tmpjo_dv67c/ppca_id.py\n"
     ]
    }
   ],
   "source": [
    "%%writefile \"$model_file\"\n",
    "\n",
    "from fedbiomed.common.ppca import PpcaPlan\n",
    "import numpy as np\n",
    "\n",
    "\n",
    "class IID_MV_PPCA(PpcaPlan):\n",
    "    def __init__(self, kwargs):\n",
    "        super(IID_MV_PPCA, self).__init__(kwargs)\n",
    "        #self.add_dependency([\"from sklearn.linear_model import SGDRegressor\"])\n",
    "    \n",
    "    def training_data(self):\n",
    "        \"\"\"\n",
    "            Perform in this method all data reading and data transformations you need.\n",
    "            At the end you should provide a couple (X,y,ViewsX), where X is the training dataset, \n",
    "            y the corresponding labels, ViewsX a list, with len(ViewsX)=K, containing 1 at position i \n",
    "            if the center dispose of data for the i-th view 0 otherwise.\n",
    "            :raise NotImplementedError if developer do not implement this method.\n",
    "        \"\"\"\n",
    "        dataset = pd.read_csv(self.dataset_path,delimiter=',', index_col=0)\n",
    "        X = dataset.iloc[:,:-1]\n",
    "        y = dataset[dataset.columns[-1]]\n",
    "        return (X,y,[1,1,1])\n",
    "    "
   ]
  },
  {
   "cell_type": "markdown",
   "id": "69cda129",
   "metadata": {},
   "source": [
    "**model_args** is a dictionary containing the mv-ppca model arguments: the total number of views across all datasets, the dimension of each view and the latent space size.\n",
    "\n",
    "**training_args** contains here the number of local iterations for EM. "
   ]
  },
  {
   "cell_type": "code",
   "execution_count": 4,
   "id": "05aa5273",
   "metadata": {},
   "outputs": [],
   "source": [
    "model_args = {'tot_views':3, 'dim_views': [15, 8, 10] , 'n_components': 4}\n",
    "\n",
    "training_args = {'n_iterations': 15}"
   ]
  },
  {
   "cell_type": "code",
   "execution_count": 5,
   "id": "4b1a1341",
   "metadata": {},
   "outputs": [
    {
     "name": "stderr",
     "output_type": "stream",
     "text": [
      "2021-10-08 16:33:44,822 fedbiomed INFO - Messaging researcher_c2567539-90f1-4ceb-8d3d-9db61bed9838 successfully connected to the message broker, object = <fedbiomed.common.messaging.Messaging object at 0x155e005b0>\n",
      "2021-10-08 16:33:44,904 fedbiomed INFO - Searching for clients with data tags: ['ppca_data']\n",
      "2021-10-08 16:33:44,933 fedbiomed INFO - message received:{'researcher_id': 'researcher_c2567539-90f1-4ceb-8d3d-9db61bed9838', 'success': True, 'databases': [{'name': 'ppca_data', 'data_type': 'csv', 'tags': ['ppca_data'], 'description': 'ppca_data', 'shape': [351, 34], 'dataset_id': 'dataset_6408d072-5f60-4592-ad83-e095f92aef13'}], 'count': 1, 'client_id': 'client_d5ae6538-a16d-4d84-a002-e2260fcc10f4', 'command': 'search'}\n",
      "2021-10-08 16:33:44,940 fedbiomed INFO - message received:{'researcher_id': 'researcher_c2567539-90f1-4ceb-8d3d-9db61bed9838', 'success': True, 'databases': [{'name': 'ppca_data', 'data_type': 'csv', 'tags': ['ppca_data'], 'description': 'ppca_data', 'shape': [215, 34], 'dataset_id': 'dataset_e009a9dc-a088-4603-83f8-bb9bf82dc849'}], 'count': 1, 'client_id': 'client_305a6614-69ea-42ca-9850-43de0246b72f', 'command': 'search'}\n"
     ]
    }
   ],
   "source": [
    "from fedbiomed.researcher.experiment import Experiment\n",
    "from fedbiomed.researcher.aggregators.mlaggregator import MLaggregator\n",
    "\n",
    "tags =  ['ppca_data']\n",
    "rounds = 20\n",
    "\n",
    "# select nodes participing to this experiment\n",
    "exp = Experiment(tags=tags,\n",
    "                 #clients=None,\n",
    "                 model_path=model_file,\n",
    "                 model_args=model_args,\n",
    "                 model_class='IID_MV_PPCA',\n",
    "                 training_args=training_args,\n",
    "                 rounds=rounds,\n",
    "                 aggregator=MLaggregator(),\n",
    "                 client_selection_strategy=None)"
   ]
  },
  {
   "cell_type": "code",
   "execution_count": 6,
   "id": "d6ff55da",
   "metadata": {
    "scrolled": false
   },
   "outputs": [
    {
     "name": "stderr",
     "output_type": "stream",
     "text": [
      "2021-10-08 16:33:57,611 fedbiomed INFO - Sampled clients in round 0 ['client_d5ae6538-a16d-4d84-a002-e2260fcc10f4', 'client_305a6614-69ea-42ca-9850-43de0246b72f']\n",
      "2021-10-08 16:33:57,613 fedbiomed INFO - Send message to client client_d5ae6538-a16d-4d84-a002-e2260fcc10f4 - {'researcher_id': 'researcher_c2567539-90f1-4ceb-8d3d-9db61bed9838', 'job_id': '2457bda6-10c1-4be7-82cb-caa87f72086f', 'training_args': {'n_iterations': 15}, 'model_args': {'tot_views': 3, 'dim_views': [15, 8, 10], 'n_components': 4}, 'command': 'train', 'model_url': 'http://localhost:8844/media/uploads/2021/10/08/my_model_c291cf4f-8e30-4075-98d0-21a89628d23f.py', 'params_url': 'http://localhost:8844/media/uploads/2021/10/08/my_model_2eb56e7b-edc5-4f0a-b7f9-11dd925cffc8.pt', 'model_class': 'IID_MV_PPCA', 'training_data': {'client_d5ae6538-a16d-4d84-a002-e2260fcc10f4': ['dataset_6408d072-5f60-4592-ad83-e095f92aef13']}}\n",
      "2021-10-08 16:33:57,615 fedbiomed DEBUG - researcher_c2567539-90f1-4ceb-8d3d-9db61bed9838\n",
      "2021-10-08 16:33:57,622 fedbiomed INFO - Send message to client client_305a6614-69ea-42ca-9850-43de0246b72f - {'researcher_id': 'researcher_c2567539-90f1-4ceb-8d3d-9db61bed9838', 'job_id': '2457bda6-10c1-4be7-82cb-caa87f72086f', 'training_args': {'n_iterations': 15}, 'model_args': {'tot_views': 3, 'dim_views': [15, 8, 10], 'n_components': 4}, 'command': 'train', 'model_url': 'http://localhost:8844/media/uploads/2021/10/08/my_model_c291cf4f-8e30-4075-98d0-21a89628d23f.py', 'params_url': 'http://localhost:8844/media/uploads/2021/10/08/my_model_2eb56e7b-edc5-4f0a-b7f9-11dd925cffc8.pt', 'model_class': 'IID_MV_PPCA', 'training_data': {'client_305a6614-69ea-42ca-9850-43de0246b72f': ['dataset_e009a9dc-a088-4603-83f8-bb9bf82dc849']}}\n",
      "2021-10-08 16:33:57,633 fedbiomed DEBUG - researcher_c2567539-90f1-4ceb-8d3d-9db61bed9838\n",
      "2021-10-08 16:34:04,652 fedbiomed INFO - message received:{'researcher_id': 'researcher_c2567539-90f1-4ceb-8d3d-9db61bed9838', 'job_id': '2457bda6-10c1-4be7-82cb-caa87f72086f', 'success': True, 'client_id': 'client_305a6614-69ea-42ca-9850-43de0246b72f', 'dataset_id': 'dataset_e009a9dc-a088-4603-83f8-bb9bf82dc849', 'params_url': 'http://localhost:8844/media/uploads/2021/10/08/node_params_254d095e-9d65-40a1-969f-f9d6d57c8ddd.pt', 'timing': {'rtime_training': 5.209942417999997, 'ptime_training': 2.564469}, 'msg': '', 'command': 'train'}\n",
      "2021-10-08 16:34:06,077 fedbiomed INFO - message received:{'researcher_id': 'researcher_c2567539-90f1-4ceb-8d3d-9db61bed9838', 'job_id': '2457bda6-10c1-4be7-82cb-caa87f72086f', 'success': True, 'client_id': 'client_d5ae6538-a16d-4d84-a002-e2260fcc10f4', 'dataset_id': 'dataset_6408d072-5f60-4592-ad83-e095f92aef13', 'params_url': 'http://localhost:8844/media/uploads/2021/10/08/node_params_6a1f1574-274c-434f-8258-68732cd0ac88.pt', 'timing': {'rtime_training': 6.645021187000005, 'ptime_training': 6.258614000000001}, 'msg': '', 'command': 'train'}\n",
      "2021-10-08 16:34:12,670 fedbiomed INFO - Downloading model params after training on client_305a6614-69ea-42ca-9850-43de0246b72f - from http://localhost:8844/media/uploads/2021/10/08/node_params_254d095e-9d65-40a1-969f-f9d6d57c8ddd.pt\n",
      "2021-10-08 16:34:12,711 fedbiomed INFO - Downloading model params after training on client_d5ae6538-a16d-4d84-a002-e2260fcc10f4 - from http://localhost:8844/media/uploads/2021/10/08/node_params_6a1f1574-274c-434f-8258-68732cd0ac88.pt\n",
      "2021-10-08 16:34:12,752 fedbiomed INFO - Clients that successfully reply in round 0 ['client_305a6614-69ea-42ca-9850-43de0246b72f', 'client_d5ae6538-a16d-4d84-a002-e2260fcc10f4']\n",
      "2021-10-08 16:34:12,856 fedbiomed INFO - Sampled clients in round 1 ['client_d5ae6538-a16d-4d84-a002-e2260fcc10f4', 'client_305a6614-69ea-42ca-9850-43de0246b72f']\n",
      "2021-10-08 16:34:12,858 fedbiomed INFO - Send message to client client_d5ae6538-a16d-4d84-a002-e2260fcc10f4 - {'researcher_id': 'researcher_c2567539-90f1-4ceb-8d3d-9db61bed9838', 'job_id': '2457bda6-10c1-4be7-82cb-caa87f72086f', 'training_args': {'n_iterations': 15}, 'model_args': {'tot_views': 3, 'dim_views': [15, 8, 10], 'n_components': 4}, 'command': 'train', 'model_url': 'http://localhost:8844/media/uploads/2021/10/08/my_model_c291cf4f-8e30-4075-98d0-21a89628d23f.py', 'params_url': 'http://localhost:8844/media/uploads/2021/10/08/researcher_params_7982c59c-2bc8-410e-8c19-93f34fa12728.pt', 'model_class': 'IID_MV_PPCA', 'training_data': {'client_d5ae6538-a16d-4d84-a002-e2260fcc10f4': ['dataset_6408d072-5f60-4592-ad83-e095f92aef13']}}\n",
      "2021-10-08 16:34:12,859 fedbiomed DEBUG - researcher_c2567539-90f1-4ceb-8d3d-9db61bed9838\n",
      "2021-10-08 16:34:12,861 fedbiomed INFO - Send message to client client_305a6614-69ea-42ca-9850-43de0246b72f - {'researcher_id': 'researcher_c2567539-90f1-4ceb-8d3d-9db61bed9838', 'job_id': '2457bda6-10c1-4be7-82cb-caa87f72086f', 'training_args': {'n_iterations': 15}, 'model_args': {'tot_views': 3, 'dim_views': [15, 8, 10], 'n_components': 4}, 'command': 'train', 'model_url': 'http://localhost:8844/media/uploads/2021/10/08/my_model_c291cf4f-8e30-4075-98d0-21a89628d23f.py', 'params_url': 'http://localhost:8844/media/uploads/2021/10/08/researcher_params_7982c59c-2bc8-410e-8c19-93f34fa12728.pt', 'model_class': 'IID_MV_PPCA', 'training_data': {'client_305a6614-69ea-42ca-9850-43de0246b72f': ['dataset_e009a9dc-a088-4603-83f8-bb9bf82dc849']}}\n",
      "2021-10-08 16:34:12,877 fedbiomed DEBUG - researcher_c2567539-90f1-4ceb-8d3d-9db61bed9838\n",
      "2021-10-08 16:34:19,689 fedbiomed INFO - message received:{'researcher_id': 'researcher_c2567539-90f1-4ceb-8d3d-9db61bed9838', 'job_id': '2457bda6-10c1-4be7-82cb-caa87f72086f', 'success': True, 'client_id': 'client_305a6614-69ea-42ca-9850-43de0246b72f', 'dataset_id': 'dataset_e009a9dc-a088-4603-83f8-bb9bf82dc849', 'params_url': 'http://localhost:8844/media/uploads/2021/10/08/node_params_569c0f03-ca92-4d1c-9d76-8815df4f212e.pt', 'timing': {'rtime_training': 6.5236421460000145, 'ptime_training': 3.983091999999999}, 'msg': '', 'command': 'train'}\n",
      "2021-10-08 16:34:21,867 fedbiomed INFO - message received:{'researcher_id': 'researcher_c2567539-90f1-4ceb-8d3d-9db61bed9838', 'job_id': '2457bda6-10c1-4be7-82cb-caa87f72086f', 'success': True, 'client_id': 'client_d5ae6538-a16d-4d84-a002-e2260fcc10f4', 'dataset_id': 'dataset_6408d072-5f60-4592-ad83-e095f92aef13', 'params_url': 'http://localhost:8844/media/uploads/2021/10/08/node_params_19ac0fbf-dbcb-4116-b108-3f30aed8848e.pt', 'timing': {'rtime_training': 8.795540104999994, 'ptime_training': 9.583229000000001}, 'msg': '', 'command': 'train'}\n",
      "2021-10-08 16:34:27,911 fedbiomed INFO - Downloading model params after training on client_305a6614-69ea-42ca-9850-43de0246b72f - from http://localhost:8844/media/uploads/2021/10/08/node_params_569c0f03-ca92-4d1c-9d76-8815df4f212e.pt\n",
      "2021-10-08 16:34:27,953 fedbiomed INFO - Downloading model params after training on client_d5ae6538-a16d-4d84-a002-e2260fcc10f4 - from http://localhost:8844/media/uploads/2021/10/08/node_params_19ac0fbf-dbcb-4116-b108-3f30aed8848e.pt\n",
      "2021-10-08 16:34:27,990 fedbiomed INFO - Clients that successfully reply in round 1 ['client_305a6614-69ea-42ca-9850-43de0246b72f', 'client_d5ae6538-a16d-4d84-a002-e2260fcc10f4']\n",
      "2021-10-08 16:34:28,104 fedbiomed INFO - Sampled clients in round 2 ['client_d5ae6538-a16d-4d84-a002-e2260fcc10f4', 'client_305a6614-69ea-42ca-9850-43de0246b72f']\n",
      "2021-10-08 16:34:28,106 fedbiomed INFO - Send message to client client_d5ae6538-a16d-4d84-a002-e2260fcc10f4 - {'researcher_id': 'researcher_c2567539-90f1-4ceb-8d3d-9db61bed9838', 'job_id': '2457bda6-10c1-4be7-82cb-caa87f72086f', 'training_args': {'n_iterations': 15}, 'model_args': {'tot_views': 3, 'dim_views': [15, 8, 10], 'n_components': 4}, 'command': 'train', 'model_url': 'http://localhost:8844/media/uploads/2021/10/08/my_model_c291cf4f-8e30-4075-98d0-21a89628d23f.py', 'params_url': 'http://localhost:8844/media/uploads/2021/10/08/researcher_params_136c1ae4-9501-4c90-96a0-f89438badd52.pt', 'model_class': 'IID_MV_PPCA', 'training_data': {'client_d5ae6538-a16d-4d84-a002-e2260fcc10f4': ['dataset_6408d072-5f60-4592-ad83-e095f92aef13']}}\n",
      "2021-10-08 16:34:28,107 fedbiomed DEBUG - researcher_c2567539-90f1-4ceb-8d3d-9db61bed9838\n",
      "2021-10-08 16:34:28,110 fedbiomed INFO - Send message to client client_305a6614-69ea-42ca-9850-43de0246b72f - {'researcher_id': 'researcher_c2567539-90f1-4ceb-8d3d-9db61bed9838', 'job_id': '2457bda6-10c1-4be7-82cb-caa87f72086f', 'training_args': {'n_iterations': 15}, 'model_args': {'tot_views': 3, 'dim_views': [15, 8, 10], 'n_components': 4}, 'command': 'train', 'model_url': 'http://localhost:8844/media/uploads/2021/10/08/my_model_c291cf4f-8e30-4075-98d0-21a89628d23f.py', 'params_url': 'http://localhost:8844/media/uploads/2021/10/08/researcher_params_136c1ae4-9501-4c90-96a0-f89438badd52.pt', 'model_class': 'IID_MV_PPCA', 'training_data': {'client_305a6614-69ea-42ca-9850-43de0246b72f': ['dataset_e009a9dc-a088-4603-83f8-bb9bf82dc849']}}\n"
     ]
    },
    {
     "name": "stderr",
     "output_type": "stream",
     "text": [
      "2021-10-08 16:34:28,124 fedbiomed DEBUG - researcher_c2567539-90f1-4ceb-8d3d-9db61bed9838\n",
      "2021-10-08 16:34:35,212 fedbiomed INFO - message received:{'researcher_id': 'researcher_c2567539-90f1-4ceb-8d3d-9db61bed9838', 'job_id': '2457bda6-10c1-4be7-82cb-caa87f72086f', 'success': True, 'client_id': 'client_305a6614-69ea-42ca-9850-43de0246b72f', 'dataset_id': 'dataset_e009a9dc-a088-4603-83f8-bb9bf82dc849', 'params_url': 'http://localhost:8844/media/uploads/2021/10/08/node_params_cb83af4a-8d2e-4f6c-b0fb-a2cb800f7120.pt', 'timing': {'rtime_training': 6.806645809000003, 'ptime_training': 3.8936030000000006}, 'msg': '', 'command': 'train'}\n",
      "2021-10-08 16:34:37,344 fedbiomed INFO - message received:{'researcher_id': 'researcher_c2567539-90f1-4ceb-8d3d-9db61bed9838', 'job_id': '2457bda6-10c1-4be7-82cb-caa87f72086f', 'success': True, 'client_id': 'client_d5ae6538-a16d-4d84-a002-e2260fcc10f4', 'dataset_id': 'dataset_6408d072-5f60-4592-ad83-e095f92aef13', 'params_url': 'http://localhost:8844/media/uploads/2021/10/08/node_params_8416cd5a-e029-4152-946e-72775c398665.pt', 'timing': {'rtime_training': 8.976377101000011, 'ptime_training': 9.683723999999998}, 'msg': '', 'command': 'train'}\n",
      "2021-10-08 16:34:43,153 fedbiomed INFO - Downloading model params after training on client_305a6614-69ea-42ca-9850-43de0246b72f - from http://localhost:8844/media/uploads/2021/10/08/node_params_cb83af4a-8d2e-4f6c-b0fb-a2cb800f7120.pt\n",
      "2021-10-08 16:34:43,189 fedbiomed INFO - Downloading model params after training on client_d5ae6538-a16d-4d84-a002-e2260fcc10f4 - from http://localhost:8844/media/uploads/2021/10/08/node_params_8416cd5a-e029-4152-946e-72775c398665.pt\n",
      "2021-10-08 16:34:43,224 fedbiomed INFO - Clients that successfully reply in round 2 ['client_305a6614-69ea-42ca-9850-43de0246b72f', 'client_d5ae6538-a16d-4d84-a002-e2260fcc10f4']\n",
      "2021-10-08 16:34:43,354 fedbiomed INFO - Sampled clients in round 3 ['client_d5ae6538-a16d-4d84-a002-e2260fcc10f4', 'client_305a6614-69ea-42ca-9850-43de0246b72f']\n",
      "2021-10-08 16:34:43,356 fedbiomed INFO - Send message to client client_d5ae6538-a16d-4d84-a002-e2260fcc10f4 - {'researcher_id': 'researcher_c2567539-90f1-4ceb-8d3d-9db61bed9838', 'job_id': '2457bda6-10c1-4be7-82cb-caa87f72086f', 'training_args': {'n_iterations': 15}, 'model_args': {'tot_views': 3, 'dim_views': [15, 8, 10], 'n_components': 4}, 'command': 'train', 'model_url': 'http://localhost:8844/media/uploads/2021/10/08/my_model_c291cf4f-8e30-4075-98d0-21a89628d23f.py', 'params_url': 'http://localhost:8844/media/uploads/2021/10/08/researcher_params_65552cfd-5c30-4590-98da-0ede7960cfcf.pt', 'model_class': 'IID_MV_PPCA', 'training_data': {'client_d5ae6538-a16d-4d84-a002-e2260fcc10f4': ['dataset_6408d072-5f60-4592-ad83-e095f92aef13']}}\n",
      "2021-10-08 16:34:43,358 fedbiomed DEBUG - researcher_c2567539-90f1-4ceb-8d3d-9db61bed9838\n",
      "2021-10-08 16:34:43,369 fedbiomed INFO - Send message to client client_305a6614-69ea-42ca-9850-43de0246b72f - {'researcher_id': 'researcher_c2567539-90f1-4ceb-8d3d-9db61bed9838', 'job_id': '2457bda6-10c1-4be7-82cb-caa87f72086f', 'training_args': {'n_iterations': 15}, 'model_args': {'tot_views': 3, 'dim_views': [15, 8, 10], 'n_components': 4}, 'command': 'train', 'model_url': 'http://localhost:8844/media/uploads/2021/10/08/my_model_c291cf4f-8e30-4075-98d0-21a89628d23f.py', 'params_url': 'http://localhost:8844/media/uploads/2021/10/08/researcher_params_65552cfd-5c30-4590-98da-0ede7960cfcf.pt', 'model_class': 'IID_MV_PPCA', 'training_data': {'client_305a6614-69ea-42ca-9850-43de0246b72f': ['dataset_e009a9dc-a088-4603-83f8-bb9bf82dc849']}}\n",
      "2021-10-08 16:34:43,375 fedbiomed DEBUG - researcher_c2567539-90f1-4ceb-8d3d-9db61bed9838\n",
      "2021-10-08 16:34:52,079 fedbiomed INFO - message received:{'researcher_id': 'researcher_c2567539-90f1-4ceb-8d3d-9db61bed9838', 'job_id': '2457bda6-10c1-4be7-82cb-caa87f72086f', 'success': True, 'client_id': 'client_305a6614-69ea-42ca-9850-43de0246b72f', 'dataset_id': 'dataset_e009a9dc-a088-4603-83f8-bb9bf82dc849', 'params_url': 'http://localhost:8844/media/uploads/2021/10/08/node_params_ac961b1a-815a-43a9-a621-ff205ad94e50.pt', 'timing': {'rtime_training': 8.318256665999996, 'ptime_training': 4.043524}, 'msg': '', 'command': 'train'}\n",
      "2021-10-08 16:34:54,885 fedbiomed INFO - message received:{'researcher_id': 'researcher_c2567539-90f1-4ceb-8d3d-9db61bed9838', 'job_id': '2457bda6-10c1-4be7-82cb-caa87f72086f', 'success': True, 'client_id': 'client_d5ae6538-a16d-4d84-a002-e2260fcc10f4', 'dataset_id': 'dataset_6408d072-5f60-4592-ad83-e095f92aef13', 'params_url': 'http://localhost:8844/media/uploads/2021/10/08/node_params_def52e16-dbe8-4fda-b428-15fc0a9f6599.pt', 'timing': {'rtime_training': 11.277051391, 'ptime_training': 9.217683000000001}, 'msg': '', 'command': 'train'}\n",
      "2021-10-08 16:35:03,417 fedbiomed INFO - Downloading model params after training on client_305a6614-69ea-42ca-9850-43de0246b72f - from http://localhost:8844/media/uploads/2021/10/08/node_params_ac961b1a-815a-43a9-a621-ff205ad94e50.pt\n",
      "2021-10-08 16:35:03,445 fedbiomed INFO - Downloading model params after training on client_d5ae6538-a16d-4d84-a002-e2260fcc10f4 - from http://localhost:8844/media/uploads/2021/10/08/node_params_def52e16-dbe8-4fda-b428-15fc0a9f6599.pt\n",
      "2021-10-08 16:35:03,477 fedbiomed INFO - Clients that successfully reply in round 3 ['client_305a6614-69ea-42ca-9850-43de0246b72f', 'client_d5ae6538-a16d-4d84-a002-e2260fcc10f4']\n",
      "2021-10-08 16:35:03,568 fedbiomed INFO - Sampled clients in round 4 ['client_d5ae6538-a16d-4d84-a002-e2260fcc10f4', 'client_305a6614-69ea-42ca-9850-43de0246b72f']\n",
      "2021-10-08 16:35:03,570 fedbiomed INFO - Send message to client client_d5ae6538-a16d-4d84-a002-e2260fcc10f4 - {'researcher_id': 'researcher_c2567539-90f1-4ceb-8d3d-9db61bed9838', 'job_id': '2457bda6-10c1-4be7-82cb-caa87f72086f', 'training_args': {'n_iterations': 15}, 'model_args': {'tot_views': 3, 'dim_views': [15, 8, 10], 'n_components': 4}, 'command': 'train', 'model_url': 'http://localhost:8844/media/uploads/2021/10/08/my_model_c291cf4f-8e30-4075-98d0-21a89628d23f.py', 'params_url': 'http://localhost:8844/media/uploads/2021/10/08/researcher_params_17767ba3-4934-4ef0-a811-0bae095d6cc7.pt', 'model_class': 'IID_MV_PPCA', 'training_data': {'client_d5ae6538-a16d-4d84-a002-e2260fcc10f4': ['dataset_6408d072-5f60-4592-ad83-e095f92aef13']}}\n",
      "2021-10-08 16:35:03,571 fedbiomed DEBUG - researcher_c2567539-90f1-4ceb-8d3d-9db61bed9838\n",
      "2021-10-08 16:35:03,574 fedbiomed INFO - Send message to client client_305a6614-69ea-42ca-9850-43de0246b72f - {'researcher_id': 'researcher_c2567539-90f1-4ceb-8d3d-9db61bed9838', 'job_id': '2457bda6-10c1-4be7-82cb-caa87f72086f', 'training_args': {'n_iterations': 15}, 'model_args': {'tot_views': 3, 'dim_views': [15, 8, 10], 'n_components': 4}, 'command': 'train', 'model_url': 'http://localhost:8844/media/uploads/2021/10/08/my_model_c291cf4f-8e30-4075-98d0-21a89628d23f.py', 'params_url': 'http://localhost:8844/media/uploads/2021/10/08/researcher_params_17767ba3-4934-4ef0-a811-0bae095d6cc7.pt', 'model_class': 'IID_MV_PPCA', 'training_data': {'client_305a6614-69ea-42ca-9850-43de0246b72f': ['dataset_e009a9dc-a088-4603-83f8-bb9bf82dc849']}}\n",
      "2021-10-08 16:35:03,579 fedbiomed DEBUG - researcher_c2567539-90f1-4ceb-8d3d-9db61bed9838\n",
      "2021-10-08 16:35:11,797 fedbiomed INFO - message received:{'researcher_id': 'researcher_c2567539-90f1-4ceb-8d3d-9db61bed9838', 'job_id': '2457bda6-10c1-4be7-82cb-caa87f72086f', 'success': True, 'client_id': 'client_305a6614-69ea-42ca-9850-43de0246b72f', 'dataset_id': 'dataset_e009a9dc-a088-4603-83f8-bb9bf82dc849', 'params_url': 'http://localhost:8844/media/uploads/2021/10/08/node_params_f85d369f-9a32-4c49-a2ad-da8a730a5f0d.pt', 'timing': {'rtime_training': 7.9654625389999865, 'ptime_training': 3.9699170000000024}, 'msg': '', 'command': 'train'}\n",
      "2021-10-08 16:35:14,457 fedbiomed INFO - message received:{'researcher_id': 'researcher_c2567539-90f1-4ceb-8d3d-9db61bed9838', 'job_id': '2457bda6-10c1-4be7-82cb-caa87f72086f', 'success': True, 'client_id': 'client_d5ae6538-a16d-4d84-a002-e2260fcc10f4', 'dataset_id': 'dataset_6408d072-5f60-4592-ad83-e095f92aef13', 'params_url': 'http://localhost:8844/media/uploads/2021/10/08/node_params_f369866b-5fbf-41d1-bd47-db97992783e5.pt', 'timing': {'rtime_training': 10.632681892999997, 'ptime_training': 8.306227}, 'msg': '', 'command': 'train'}\n"
     ]
    },
    {
     "name": "stderr",
     "output_type": "stream",
     "text": [
      "2021-10-08 16:35:23,626 fedbiomed INFO - Downloading model params after training on client_305a6614-69ea-42ca-9850-43de0246b72f - from http://localhost:8844/media/uploads/2021/10/08/node_params_f85d369f-9a32-4c49-a2ad-da8a730a5f0d.pt\n",
      "2021-10-08 16:35:23,660 fedbiomed INFO - Downloading model params after training on client_d5ae6538-a16d-4d84-a002-e2260fcc10f4 - from http://localhost:8844/media/uploads/2021/10/08/node_params_f369866b-5fbf-41d1-bd47-db97992783e5.pt\n",
      "2021-10-08 16:35:23,714 fedbiomed INFO - Clients that successfully reply in round 4 ['client_305a6614-69ea-42ca-9850-43de0246b72f', 'client_d5ae6538-a16d-4d84-a002-e2260fcc10f4']\n",
      "2021-10-08 16:35:23,821 fedbiomed INFO - Sampled clients in round 5 ['client_d5ae6538-a16d-4d84-a002-e2260fcc10f4', 'client_305a6614-69ea-42ca-9850-43de0246b72f']\n",
      "2021-10-08 16:35:23,825 fedbiomed INFO - Send message to client client_d5ae6538-a16d-4d84-a002-e2260fcc10f4 - {'researcher_id': 'researcher_c2567539-90f1-4ceb-8d3d-9db61bed9838', 'job_id': '2457bda6-10c1-4be7-82cb-caa87f72086f', 'training_args': {'n_iterations': 15}, 'model_args': {'tot_views': 3, 'dim_views': [15, 8, 10], 'n_components': 4}, 'command': 'train', 'model_url': 'http://localhost:8844/media/uploads/2021/10/08/my_model_c291cf4f-8e30-4075-98d0-21a89628d23f.py', 'params_url': 'http://localhost:8844/media/uploads/2021/10/08/researcher_params_f01f5b9e-5ecc-4781-8761-c2b82b9c4e26.pt', 'model_class': 'IID_MV_PPCA', 'training_data': {'client_d5ae6538-a16d-4d84-a002-e2260fcc10f4': ['dataset_6408d072-5f60-4592-ad83-e095f92aef13']}}\n",
      "2021-10-08 16:35:23,829 fedbiomed DEBUG - researcher_c2567539-90f1-4ceb-8d3d-9db61bed9838\n",
      "2021-10-08 16:35:23,837 fedbiomed INFO - Send message to client client_305a6614-69ea-42ca-9850-43de0246b72f - {'researcher_id': 'researcher_c2567539-90f1-4ceb-8d3d-9db61bed9838', 'job_id': '2457bda6-10c1-4be7-82cb-caa87f72086f', 'training_args': {'n_iterations': 15}, 'model_args': {'tot_views': 3, 'dim_views': [15, 8, 10], 'n_components': 4}, 'command': 'train', 'model_url': 'http://localhost:8844/media/uploads/2021/10/08/my_model_c291cf4f-8e30-4075-98d0-21a89628d23f.py', 'params_url': 'http://localhost:8844/media/uploads/2021/10/08/researcher_params_f01f5b9e-5ecc-4781-8761-c2b82b9c4e26.pt', 'model_class': 'IID_MV_PPCA', 'training_data': {'client_305a6614-69ea-42ca-9850-43de0246b72f': ['dataset_e009a9dc-a088-4603-83f8-bb9bf82dc849']}}\n",
      "2021-10-08 16:35:23,838 fedbiomed DEBUG - researcher_c2567539-90f1-4ceb-8d3d-9db61bed9838\n",
      "2021-10-08 16:35:37,383 fedbiomed INFO - message received:{'researcher_id': 'researcher_c2567539-90f1-4ceb-8d3d-9db61bed9838', 'job_id': '2457bda6-10c1-4be7-82cb-caa87f72086f', 'success': True, 'client_id': 'client_305a6614-69ea-42ca-9850-43de0246b72f', 'dataset_id': 'dataset_e009a9dc-a088-4603-83f8-bb9bf82dc849', 'params_url': 'http://localhost:8844/media/uploads/2021/10/08/node_params_ca30e6c3-7a2b-410e-8465-99e18d39693c.pt', 'timing': {'rtime_training': 12.339899623999997, 'ptime_training': 4.407737000000001}, 'msg': '', 'command': 'train'}\n",
      "2021-10-08 16:35:43,862 fedbiomed INFO - Downloading model params after training on client_305a6614-69ea-42ca-9850-43de0246b72f - from http://localhost:8844/media/uploads/2021/10/08/node_params_ca30e6c3-7a2b-410e-8465-99e18d39693c.pt\n",
      "2021-10-08 16:35:46,030 fedbiomed INFO - message received:{'researcher_id': 'researcher_c2567539-90f1-4ceb-8d3d-9db61bed9838', 'job_id': '2457bda6-10c1-4be7-82cb-caa87f72086f', 'success': True, 'client_id': 'client_d5ae6538-a16d-4d84-a002-e2260fcc10f4', 'dataset_id': 'dataset_6408d072-5f60-4592-ad83-e095f92aef13', 'params_url': 'http://localhost:8844/media/uploads/2021/10/08/node_params_39b7f4b3-9f5a-4159-896b-e2a4c08d0c7f.pt', 'timing': {'rtime_training': 21.692575049999988, 'ptime_training': 7.078327000000002}, 'msg': '', 'command': 'train'}\n",
      "2021-10-08 16:35:53,994 fedbiomed INFO - Downloading model params after training on client_d5ae6538-a16d-4d84-a002-e2260fcc10f4 - from http://localhost:8844/media/uploads/2021/10/08/node_params_39b7f4b3-9f5a-4159-896b-e2a4c08d0c7f.pt\n",
      "2021-10-08 16:35:54,023 fedbiomed INFO - Clients that successfully reply in round 5 ['client_305a6614-69ea-42ca-9850-43de0246b72f', 'client_d5ae6538-a16d-4d84-a002-e2260fcc10f4']\n",
      "2021-10-08 16:35:54,125 fedbiomed INFO - Sampled clients in round 6 ['client_d5ae6538-a16d-4d84-a002-e2260fcc10f4', 'client_305a6614-69ea-42ca-9850-43de0246b72f']\n",
      "2021-10-08 16:35:54,126 fedbiomed INFO - Send message to client client_d5ae6538-a16d-4d84-a002-e2260fcc10f4 - {'researcher_id': 'researcher_c2567539-90f1-4ceb-8d3d-9db61bed9838', 'job_id': '2457bda6-10c1-4be7-82cb-caa87f72086f', 'training_args': {'n_iterations': 15}, 'model_args': {'tot_views': 3, 'dim_views': [15, 8, 10], 'n_components': 4}, 'command': 'train', 'model_url': 'http://localhost:8844/media/uploads/2021/10/08/my_model_c291cf4f-8e30-4075-98d0-21a89628d23f.py', 'params_url': 'http://localhost:8844/media/uploads/2021/10/08/researcher_params_def5d429-add5-41fc-9497-e5ed3fe89396.pt', 'model_class': 'IID_MV_PPCA', 'training_data': {'client_d5ae6538-a16d-4d84-a002-e2260fcc10f4': ['dataset_6408d072-5f60-4592-ad83-e095f92aef13']}}\n",
      "2021-10-08 16:35:54,128 fedbiomed DEBUG - researcher_c2567539-90f1-4ceb-8d3d-9db61bed9838\n",
      "2021-10-08 16:35:54,131 fedbiomed INFO - Send message to client client_305a6614-69ea-42ca-9850-43de0246b72f - {'researcher_id': 'researcher_c2567539-90f1-4ceb-8d3d-9db61bed9838', 'job_id': '2457bda6-10c1-4be7-82cb-caa87f72086f', 'training_args': {'n_iterations': 15}, 'model_args': {'tot_views': 3, 'dim_views': [15, 8, 10], 'n_components': 4}, 'command': 'train', 'model_url': 'http://localhost:8844/media/uploads/2021/10/08/my_model_c291cf4f-8e30-4075-98d0-21a89628d23f.py', 'params_url': 'http://localhost:8844/media/uploads/2021/10/08/researcher_params_def5d429-add5-41fc-9497-e5ed3fe89396.pt', 'model_class': 'IID_MV_PPCA', 'training_data': {'client_305a6614-69ea-42ca-9850-43de0246b72f': ['dataset_e009a9dc-a088-4603-83f8-bb9bf82dc849']}}\n",
      "2021-10-08 16:35:54,140 fedbiomed DEBUG - researcher_c2567539-90f1-4ceb-8d3d-9db61bed9838\n",
      "2021-10-08 16:36:01,116 fedbiomed INFO - message received:{'researcher_id': 'researcher_c2567539-90f1-4ceb-8d3d-9db61bed9838', 'job_id': '2457bda6-10c1-4be7-82cb-caa87f72086f', 'success': True, 'client_id': 'client_305a6614-69ea-42ca-9850-43de0246b72f', 'dataset_id': 'dataset_e009a9dc-a088-4603-83f8-bb9bf82dc849', 'params_url': 'http://localhost:8844/media/uploads/2021/10/08/node_params_56703b19-a3c1-4174-853a-065928118286.pt', 'timing': {'rtime_training': 6.732792522000011, 'ptime_training': 4.33839}, 'msg': '', 'command': 'train'}\n",
      "2021-10-08 16:36:03,896 fedbiomed INFO - message received:{'researcher_id': 'researcher_c2567539-90f1-4ceb-8d3d-9db61bed9838', 'job_id': '2457bda6-10c1-4be7-82cb-caa87f72086f', 'success': True, 'client_id': 'client_d5ae6538-a16d-4d84-a002-e2260fcc10f4', 'dataset_id': 'dataset_6408d072-5f60-4592-ad83-e095f92aef13', 'params_url': 'http://localhost:8844/media/uploads/2021/10/08/node_params_5d37bb5d-97b8-4203-9b8a-883ba7dfe8ee.pt', 'timing': {'rtime_training': 9.512673817999996, 'ptime_training': 7.288369000000003}, 'msg': '', 'command': 'train'}\n",
      "2021-10-08 16:36:09,162 fedbiomed INFO - Downloading model params after training on client_305a6614-69ea-42ca-9850-43de0246b72f - from http://localhost:8844/media/uploads/2021/10/08/node_params_56703b19-a3c1-4174-853a-065928118286.pt\n",
      "2021-10-08 16:36:09,197 fedbiomed INFO - Downloading model params after training on client_d5ae6538-a16d-4d84-a002-e2260fcc10f4 - from http://localhost:8844/media/uploads/2021/10/08/node_params_5d37bb5d-97b8-4203-9b8a-883ba7dfe8ee.pt\n",
      "2021-10-08 16:36:09,228 fedbiomed INFO - Clients that successfully reply in round 6 ['client_305a6614-69ea-42ca-9850-43de0246b72f', 'client_d5ae6538-a16d-4d84-a002-e2260fcc10f4']\n",
      "2021-10-08 16:36:09,326 fedbiomed INFO - Sampled clients in round 7 ['client_d5ae6538-a16d-4d84-a002-e2260fcc10f4', 'client_305a6614-69ea-42ca-9850-43de0246b72f']\n",
      "2021-10-08 16:36:09,328 fedbiomed INFO - Send message to client client_d5ae6538-a16d-4d84-a002-e2260fcc10f4 - {'researcher_id': 'researcher_c2567539-90f1-4ceb-8d3d-9db61bed9838', 'job_id': '2457bda6-10c1-4be7-82cb-caa87f72086f', 'training_args': {'n_iterations': 15}, 'model_args': {'tot_views': 3, 'dim_views': [15, 8, 10], 'n_components': 4}, 'command': 'train', 'model_url': 'http://localhost:8844/media/uploads/2021/10/08/my_model_c291cf4f-8e30-4075-98d0-21a89628d23f.py', 'params_url': 'http://localhost:8844/media/uploads/2021/10/08/researcher_params_9adde7e1-d3cb-4078-8fda-2d8828f05762.pt', 'model_class': 'IID_MV_PPCA', 'training_data': {'client_d5ae6538-a16d-4d84-a002-e2260fcc10f4': ['dataset_6408d072-5f60-4592-ad83-e095f92aef13']}}\n"
     ]
    },
    {
     "name": "stderr",
     "output_type": "stream",
     "text": [
      "2021-10-08 16:36:09,330 fedbiomed DEBUG - researcher_c2567539-90f1-4ceb-8d3d-9db61bed9838\n",
      "2021-10-08 16:36:09,331 fedbiomed INFO - Send message to client client_305a6614-69ea-42ca-9850-43de0246b72f - {'researcher_id': 'researcher_c2567539-90f1-4ceb-8d3d-9db61bed9838', 'job_id': '2457bda6-10c1-4be7-82cb-caa87f72086f', 'training_args': {'n_iterations': 15}, 'model_args': {'tot_views': 3, 'dim_views': [15, 8, 10], 'n_components': 4}, 'command': 'train', 'model_url': 'http://localhost:8844/media/uploads/2021/10/08/my_model_c291cf4f-8e30-4075-98d0-21a89628d23f.py', 'params_url': 'http://localhost:8844/media/uploads/2021/10/08/researcher_params_9adde7e1-d3cb-4078-8fda-2d8828f05762.pt', 'model_class': 'IID_MV_PPCA', 'training_data': {'client_305a6614-69ea-42ca-9850-43de0246b72f': ['dataset_e009a9dc-a088-4603-83f8-bb9bf82dc849']}}\n",
      "2021-10-08 16:36:09,339 fedbiomed DEBUG - researcher_c2567539-90f1-4ceb-8d3d-9db61bed9838\n",
      "2021-10-08 16:36:16,274 fedbiomed INFO - message received:{'researcher_id': 'researcher_c2567539-90f1-4ceb-8d3d-9db61bed9838', 'job_id': '2457bda6-10c1-4be7-82cb-caa87f72086f', 'success': True, 'client_id': 'client_305a6614-69ea-42ca-9850-43de0246b72f', 'dataset_id': 'dataset_e009a9dc-a088-4603-83f8-bb9bf82dc849', 'params_url': 'http://localhost:8844/media/uploads/2021/10/08/node_params_a0cff77d-81ae-4349-b804-46a99f516b97.pt', 'timing': {'rtime_training': 6.69974463799997, 'ptime_training': 4.345037999999999}, 'msg': '', 'command': 'train'}\n",
      "2021-10-08 16:36:18,323 fedbiomed INFO - message received:{'researcher_id': 'researcher_c2567539-90f1-4ceb-8d3d-9db61bed9838', 'job_id': '2457bda6-10c1-4be7-82cb-caa87f72086f', 'success': True, 'client_id': 'client_d5ae6538-a16d-4d84-a002-e2260fcc10f4', 'dataset_id': 'dataset_6408d072-5f60-4592-ad83-e095f92aef13', 'params_url': 'http://localhost:8844/media/uploads/2021/10/08/node_params_9477bd42-d8df-44b7-9534-f78096296163.pt', 'timing': {'rtime_training': 8.776476327000012, 'ptime_training': 10.173893999999997}, 'msg': '', 'command': 'train'}\n",
      "2021-10-08 16:36:24,379 fedbiomed INFO - Downloading model params after training on client_305a6614-69ea-42ca-9850-43de0246b72f - from http://localhost:8844/media/uploads/2021/10/08/node_params_a0cff77d-81ae-4349-b804-46a99f516b97.pt\n",
      "2021-10-08 16:36:24,413 fedbiomed INFO - Downloading model params after training on client_d5ae6538-a16d-4d84-a002-e2260fcc10f4 - from http://localhost:8844/media/uploads/2021/10/08/node_params_9477bd42-d8df-44b7-9534-f78096296163.pt\n",
      "2021-10-08 16:36:24,442 fedbiomed INFO - Clients that successfully reply in round 7 ['client_305a6614-69ea-42ca-9850-43de0246b72f', 'client_d5ae6538-a16d-4d84-a002-e2260fcc10f4']\n",
      "2021-10-08 16:36:24,548 fedbiomed INFO - Sampled clients in round 8 ['client_d5ae6538-a16d-4d84-a002-e2260fcc10f4', 'client_305a6614-69ea-42ca-9850-43de0246b72f']\n",
      "2021-10-08 16:36:24,549 fedbiomed INFO - Send message to client client_d5ae6538-a16d-4d84-a002-e2260fcc10f4 - {'researcher_id': 'researcher_c2567539-90f1-4ceb-8d3d-9db61bed9838', 'job_id': '2457bda6-10c1-4be7-82cb-caa87f72086f', 'training_args': {'n_iterations': 15}, 'model_args': {'tot_views': 3, 'dim_views': [15, 8, 10], 'n_components': 4}, 'command': 'train', 'model_url': 'http://localhost:8844/media/uploads/2021/10/08/my_model_c291cf4f-8e30-4075-98d0-21a89628d23f.py', 'params_url': 'http://localhost:8844/media/uploads/2021/10/08/researcher_params_75d521b9-28a6-421b-90d9-8da87d85ff70.pt', 'model_class': 'IID_MV_PPCA', 'training_data': {'client_d5ae6538-a16d-4d84-a002-e2260fcc10f4': ['dataset_6408d072-5f60-4592-ad83-e095f92aef13']}}\n",
      "2021-10-08 16:36:24,551 fedbiomed DEBUG - researcher_c2567539-90f1-4ceb-8d3d-9db61bed9838\n",
      "2021-10-08 16:36:24,552 fedbiomed INFO - Send message to client client_305a6614-69ea-42ca-9850-43de0246b72f - {'researcher_id': 'researcher_c2567539-90f1-4ceb-8d3d-9db61bed9838', 'job_id': '2457bda6-10c1-4be7-82cb-caa87f72086f', 'training_args': {'n_iterations': 15}, 'model_args': {'tot_views': 3, 'dim_views': [15, 8, 10], 'n_components': 4}, 'command': 'train', 'model_url': 'http://localhost:8844/media/uploads/2021/10/08/my_model_c291cf4f-8e30-4075-98d0-21a89628d23f.py', 'params_url': 'http://localhost:8844/media/uploads/2021/10/08/researcher_params_75d521b9-28a6-421b-90d9-8da87d85ff70.pt', 'model_class': 'IID_MV_PPCA', 'training_data': {'client_305a6614-69ea-42ca-9850-43de0246b72f': ['dataset_e009a9dc-a088-4603-83f8-bb9bf82dc849']}}\n",
      "2021-10-08 16:36:24,558 fedbiomed DEBUG - researcher_c2567539-90f1-4ceb-8d3d-9db61bed9838\n",
      "2021-10-08 16:36:32,080 fedbiomed INFO - message received:{'researcher_id': 'researcher_c2567539-90f1-4ceb-8d3d-9db61bed9838', 'job_id': '2457bda6-10c1-4be7-82cb-caa87f72086f', 'success': True, 'client_id': 'client_305a6614-69ea-42ca-9850-43de0246b72f', 'dataset_id': 'dataset_e009a9dc-a088-4603-83f8-bb9bf82dc849', 'params_url': 'http://localhost:8844/media/uploads/2021/10/08/node_params_662f5800-8e61-470b-a640-436646177ab3.pt', 'timing': {'rtime_training': 7.211817673999974, 'ptime_training': 4.188290000000002}, 'msg': '', 'command': 'train'}\n",
      "2021-10-08 16:36:34,901 fedbiomed INFO - message received:{'researcher_id': 'researcher_c2567539-90f1-4ceb-8d3d-9db61bed9838', 'job_id': '2457bda6-10c1-4be7-82cb-caa87f72086f', 'success': True, 'client_id': 'client_d5ae6538-a16d-4d84-a002-e2260fcc10f4', 'dataset_id': 'dataset_6408d072-5f60-4592-ad83-e095f92aef13', 'params_url': 'http://localhost:8844/media/uploads/2021/10/08/node_params_d52b26a1-a36a-49b9-94ec-b25b6669b83a.pt', 'timing': {'rtime_training': 9.938275489000006, 'ptime_training': 7.335808}, 'msg': '', 'command': 'train'}\n",
      "2021-10-08 16:36:44,588 fedbiomed INFO - Downloading model params after training on client_305a6614-69ea-42ca-9850-43de0246b72f - from http://localhost:8844/media/uploads/2021/10/08/node_params_662f5800-8e61-470b-a640-436646177ab3.pt\n",
      "2021-10-08 16:36:44,619 fedbiomed INFO - Downloading model params after training on client_d5ae6538-a16d-4d84-a002-e2260fcc10f4 - from http://localhost:8844/media/uploads/2021/10/08/node_params_d52b26a1-a36a-49b9-94ec-b25b6669b83a.pt\n",
      "2021-10-08 16:36:44,649 fedbiomed INFO - Clients that successfully reply in round 8 ['client_305a6614-69ea-42ca-9850-43de0246b72f', 'client_d5ae6538-a16d-4d84-a002-e2260fcc10f4']\n",
      "2021-10-08 16:36:44,740 fedbiomed INFO - Sampled clients in round 9 ['client_d5ae6538-a16d-4d84-a002-e2260fcc10f4', 'client_305a6614-69ea-42ca-9850-43de0246b72f']\n",
      "2021-10-08 16:36:44,742 fedbiomed INFO - Send message to client client_d5ae6538-a16d-4d84-a002-e2260fcc10f4 - {'researcher_id': 'researcher_c2567539-90f1-4ceb-8d3d-9db61bed9838', 'job_id': '2457bda6-10c1-4be7-82cb-caa87f72086f', 'training_args': {'n_iterations': 15}, 'model_args': {'tot_views': 3, 'dim_views': [15, 8, 10], 'n_components': 4}, 'command': 'train', 'model_url': 'http://localhost:8844/media/uploads/2021/10/08/my_model_c291cf4f-8e30-4075-98d0-21a89628d23f.py', 'params_url': 'http://localhost:8844/media/uploads/2021/10/08/researcher_params_412f06e7-4f12-42d3-a943-90a0ad6623fd.pt', 'model_class': 'IID_MV_PPCA', 'training_data': {'client_d5ae6538-a16d-4d84-a002-e2260fcc10f4': ['dataset_6408d072-5f60-4592-ad83-e095f92aef13']}}\n",
      "2021-10-08 16:36:44,745 fedbiomed DEBUG - researcher_c2567539-90f1-4ceb-8d3d-9db61bed9838\n",
      "2021-10-08 16:36:44,750 fedbiomed INFO - Send message to client client_305a6614-69ea-42ca-9850-43de0246b72f - {'researcher_id': 'researcher_c2567539-90f1-4ceb-8d3d-9db61bed9838', 'job_id': '2457bda6-10c1-4be7-82cb-caa87f72086f', 'training_args': {'n_iterations': 15}, 'model_args': {'tot_views': 3, 'dim_views': [15, 8, 10], 'n_components': 4}, 'command': 'train', 'model_url': 'http://localhost:8844/media/uploads/2021/10/08/my_model_c291cf4f-8e30-4075-98d0-21a89628d23f.py', 'params_url': 'http://localhost:8844/media/uploads/2021/10/08/researcher_params_412f06e7-4f12-42d3-a943-90a0ad6623fd.pt', 'model_class': 'IID_MV_PPCA', 'training_data': {'client_305a6614-69ea-42ca-9850-43de0246b72f': ['dataset_e009a9dc-a088-4603-83f8-bb9bf82dc849']}}\n",
      "2021-10-08 16:36:44,758 fedbiomed DEBUG - researcher_c2567539-90f1-4ceb-8d3d-9db61bed9838\n",
      "2021-10-08 16:36:50,883 fedbiomed INFO - message received:{'researcher_id': 'researcher_c2567539-90f1-4ceb-8d3d-9db61bed9838', 'job_id': '2457bda6-10c1-4be7-82cb-caa87f72086f', 'success': True, 'client_id': 'client_305a6614-69ea-42ca-9850-43de0246b72f', 'dataset_id': 'dataset_e009a9dc-a088-4603-83f8-bb9bf82dc849', 'params_url': 'http://localhost:8844/media/uploads/2021/10/08/node_params_93ece63f-9d20-4547-9e87-e4bfd6511e9f.pt', 'timing': {'rtime_training': 5.801278155000034, 'ptime_training': 4.892267999999994}, 'msg': '', 'command': 'train'}\n"
     ]
    },
    {
     "name": "stderr",
     "output_type": "stream",
     "text": [
      "2021-10-08 16:36:53,119 fedbiomed INFO - message received:{'researcher_id': 'researcher_c2567539-90f1-4ceb-8d3d-9db61bed9838', 'job_id': '2457bda6-10c1-4be7-82cb-caa87f72086f', 'success': True, 'client_id': 'client_d5ae6538-a16d-4d84-a002-e2260fcc10f4', 'dataset_id': 'dataset_6408d072-5f60-4592-ad83-e095f92aef13', 'params_url': 'http://localhost:8844/media/uploads/2021/10/08/node_params_99a4ac56-7d60-425f-a56b-2e6dbbc65ba7.pt', 'timing': {'rtime_training': 8.148407865999985, 'ptime_training': 10.139786999999998}, 'msg': '', 'command': 'train'}\n",
      "2021-10-08 16:36:59,785 fedbiomed INFO - Downloading model params after training on client_305a6614-69ea-42ca-9850-43de0246b72f - from http://localhost:8844/media/uploads/2021/10/08/node_params_93ece63f-9d20-4547-9e87-e4bfd6511e9f.pt\n",
      "2021-10-08 16:36:59,826 fedbiomed INFO - Downloading model params after training on client_d5ae6538-a16d-4d84-a002-e2260fcc10f4 - from http://localhost:8844/media/uploads/2021/10/08/node_params_99a4ac56-7d60-425f-a56b-2e6dbbc65ba7.pt\n",
      "2021-10-08 16:36:59,856 fedbiomed INFO - Clients that successfully reply in round 9 ['client_305a6614-69ea-42ca-9850-43de0246b72f', 'client_d5ae6538-a16d-4d84-a002-e2260fcc10f4']\n",
      "2021-10-08 16:36:59,962 fedbiomed INFO - Sampled clients in round 10 ['client_d5ae6538-a16d-4d84-a002-e2260fcc10f4', 'client_305a6614-69ea-42ca-9850-43de0246b72f']\n",
      "2021-10-08 16:36:59,963 fedbiomed INFO - Send message to client client_d5ae6538-a16d-4d84-a002-e2260fcc10f4 - {'researcher_id': 'researcher_c2567539-90f1-4ceb-8d3d-9db61bed9838', 'job_id': '2457bda6-10c1-4be7-82cb-caa87f72086f', 'training_args': {'n_iterations': 15}, 'model_args': {'tot_views': 3, 'dim_views': [15, 8, 10], 'n_components': 4}, 'command': 'train', 'model_url': 'http://localhost:8844/media/uploads/2021/10/08/my_model_c291cf4f-8e30-4075-98d0-21a89628d23f.py', 'params_url': 'http://localhost:8844/media/uploads/2021/10/08/researcher_params_8cd4eb0c-5394-44fe-9048-ab5a7caea136.pt', 'model_class': 'IID_MV_PPCA', 'training_data': {'client_d5ae6538-a16d-4d84-a002-e2260fcc10f4': ['dataset_6408d072-5f60-4592-ad83-e095f92aef13']}}\n",
      "2021-10-08 16:36:59,965 fedbiomed DEBUG - researcher_c2567539-90f1-4ceb-8d3d-9db61bed9838\n",
      "2021-10-08 16:36:59,983 fedbiomed INFO - Send message to client client_305a6614-69ea-42ca-9850-43de0246b72f - {'researcher_id': 'researcher_c2567539-90f1-4ceb-8d3d-9db61bed9838', 'job_id': '2457bda6-10c1-4be7-82cb-caa87f72086f', 'training_args': {'n_iterations': 15}, 'model_args': {'tot_views': 3, 'dim_views': [15, 8, 10], 'n_components': 4}, 'command': 'train', 'model_url': 'http://localhost:8844/media/uploads/2021/10/08/my_model_c291cf4f-8e30-4075-98d0-21a89628d23f.py', 'params_url': 'http://localhost:8844/media/uploads/2021/10/08/researcher_params_8cd4eb0c-5394-44fe-9048-ab5a7caea136.pt', 'model_class': 'IID_MV_PPCA', 'training_data': {'client_305a6614-69ea-42ca-9850-43de0246b72f': ['dataset_e009a9dc-a088-4603-83f8-bb9bf82dc849']}}\n",
      "2021-10-08 16:36:59,985 fedbiomed DEBUG - researcher_c2567539-90f1-4ceb-8d3d-9db61bed9838\n",
      "2021-10-08 16:37:05,723 fedbiomed INFO - message received:{'researcher_id': 'researcher_c2567539-90f1-4ceb-8d3d-9db61bed9838', 'job_id': '2457bda6-10c1-4be7-82cb-caa87f72086f', 'success': True, 'client_id': 'client_305a6614-69ea-42ca-9850-43de0246b72f', 'dataset_id': 'dataset_e009a9dc-a088-4603-83f8-bb9bf82dc849', 'params_url': 'http://localhost:8844/media/uploads/2021/10/08/node_params_e6949133-73e9-4ca0-b344-4eec6f5dbecc.pt', 'timing': {'rtime_training': 5.487710100000015, 'ptime_training': 5.061864999999997}, 'msg': '', 'command': 'train'}\n",
      "2021-10-08 16:37:08,416 fedbiomed INFO - message received:{'researcher_id': 'researcher_c2567539-90f1-4ceb-8d3d-9db61bed9838', 'job_id': '2457bda6-10c1-4be7-82cb-caa87f72086f', 'success': True, 'client_id': 'client_d5ae6538-a16d-4d84-a002-e2260fcc10f4', 'dataset_id': 'dataset_6408d072-5f60-4592-ad83-e095f92aef13', 'params_url': 'http://localhost:8844/media/uploads/2021/10/08/node_params_7789c265-320d-47fb-a200-7cdd1cd8ab28.pt', 'timing': {'rtime_training': 8.202167000999992, 'ptime_training': 8.009536000000011}, 'msg': '', 'command': 'train'}\n",
      "2021-10-08 16:37:15,009 fedbiomed INFO - Downloading model params after training on client_305a6614-69ea-42ca-9850-43de0246b72f - from http://localhost:8844/media/uploads/2021/10/08/node_params_e6949133-73e9-4ca0-b344-4eec6f5dbecc.pt\n",
      "2021-10-08 16:37:15,041 fedbiomed INFO - Downloading model params after training on client_d5ae6538-a16d-4d84-a002-e2260fcc10f4 - from http://localhost:8844/media/uploads/2021/10/08/node_params_7789c265-320d-47fb-a200-7cdd1cd8ab28.pt\n",
      "2021-10-08 16:37:15,074 fedbiomed INFO - Clients that successfully reply in round 10 ['client_305a6614-69ea-42ca-9850-43de0246b72f', 'client_d5ae6538-a16d-4d84-a002-e2260fcc10f4']\n",
      "2021-10-08 16:37:15,247 fedbiomed INFO - Sampled clients in round 11 ['client_d5ae6538-a16d-4d84-a002-e2260fcc10f4', 'client_305a6614-69ea-42ca-9850-43de0246b72f']\n",
      "2021-10-08 16:37:15,248 fedbiomed INFO - Send message to client client_d5ae6538-a16d-4d84-a002-e2260fcc10f4 - {'researcher_id': 'researcher_c2567539-90f1-4ceb-8d3d-9db61bed9838', 'job_id': '2457bda6-10c1-4be7-82cb-caa87f72086f', 'training_args': {'n_iterations': 15}, 'model_args': {'tot_views': 3, 'dim_views': [15, 8, 10], 'n_components': 4}, 'command': 'train', 'model_url': 'http://localhost:8844/media/uploads/2021/10/08/my_model_c291cf4f-8e30-4075-98d0-21a89628d23f.py', 'params_url': 'http://localhost:8844/media/uploads/2021/10/08/researcher_params_fb9b8c62-99e0-4357-93db-6e713e1a6a11.pt', 'model_class': 'IID_MV_PPCA', 'training_data': {'client_d5ae6538-a16d-4d84-a002-e2260fcc10f4': ['dataset_6408d072-5f60-4592-ad83-e095f92aef13']}}\n",
      "2021-10-08 16:37:15,251 fedbiomed DEBUG - researcher_c2567539-90f1-4ceb-8d3d-9db61bed9838\n",
      "2021-10-08 16:37:15,257 fedbiomed INFO - Send message to client client_305a6614-69ea-42ca-9850-43de0246b72f - {'researcher_id': 'researcher_c2567539-90f1-4ceb-8d3d-9db61bed9838', 'job_id': '2457bda6-10c1-4be7-82cb-caa87f72086f', 'training_args': {'n_iterations': 15}, 'model_args': {'tot_views': 3, 'dim_views': [15, 8, 10], 'n_components': 4}, 'command': 'train', 'model_url': 'http://localhost:8844/media/uploads/2021/10/08/my_model_c291cf4f-8e30-4075-98d0-21a89628d23f.py', 'params_url': 'http://localhost:8844/media/uploads/2021/10/08/researcher_params_fb9b8c62-99e0-4357-93db-6e713e1a6a11.pt', 'model_class': 'IID_MV_PPCA', 'training_data': {'client_305a6614-69ea-42ca-9850-43de0246b72f': ['dataset_e009a9dc-a088-4603-83f8-bb9bf82dc849']}}\n",
      "2021-10-08 16:37:15,265 fedbiomed DEBUG - researcher_c2567539-90f1-4ceb-8d3d-9db61bed9838\n",
      "2021-10-08 16:37:21,490 fedbiomed INFO - message received:{'researcher_id': 'researcher_c2567539-90f1-4ceb-8d3d-9db61bed9838', 'job_id': '2457bda6-10c1-4be7-82cb-caa87f72086f', 'success': True, 'client_id': 'client_305a6614-69ea-42ca-9850-43de0246b72f', 'dataset_id': 'dataset_e009a9dc-a088-4603-83f8-bb9bf82dc849', 'params_url': 'http://localhost:8844/media/uploads/2021/10/08/node_params_978efd3e-f8b5-4432-b970-e91ac3df7c95.pt', 'timing': {'rtime_training': 6.003730851, 'ptime_training': 4.910434000000002}, 'msg': '', 'command': 'train'}\n",
      "2021-10-08 16:37:23,688 fedbiomed INFO - message received:{'researcher_id': 'researcher_c2567539-90f1-4ceb-8d3d-9db61bed9838', 'job_id': '2457bda6-10c1-4be7-82cb-caa87f72086f', 'success': True, 'client_id': 'client_d5ae6538-a16d-4d84-a002-e2260fcc10f4', 'dataset_id': 'dataset_6408d072-5f60-4592-ad83-e095f92aef13', 'params_url': 'http://localhost:8844/media/uploads/2021/10/08/node_params_d25d4f82-3f9f-4eb9-9a1c-7a55abf437f7.pt', 'timing': {'rtime_training': 8.170314676999993, 'ptime_training': 10.386178999999998}, 'msg': '', 'command': 'train'}\n",
      "2021-10-08 16:37:30,285 fedbiomed INFO - Downloading model params after training on client_305a6614-69ea-42ca-9850-43de0246b72f - from http://localhost:8844/media/uploads/2021/10/08/node_params_978efd3e-f8b5-4432-b970-e91ac3df7c95.pt\n",
      "2021-10-08 16:37:30,336 fedbiomed INFO - Downloading model params after training on client_d5ae6538-a16d-4d84-a002-e2260fcc10f4 - from http://localhost:8844/media/uploads/2021/10/08/node_params_d25d4f82-3f9f-4eb9-9a1c-7a55abf437f7.pt\n",
      "2021-10-08 16:37:30,364 fedbiomed INFO - Clients that successfully reply in round 11 ['client_305a6614-69ea-42ca-9850-43de0246b72f', 'client_d5ae6538-a16d-4d84-a002-e2260fcc10f4']\n"
     ]
    },
    {
     "name": "stderr",
     "output_type": "stream",
     "text": [
      "2021-10-08 16:37:30,454 fedbiomed INFO - Sampled clients in round 12 ['client_d5ae6538-a16d-4d84-a002-e2260fcc10f4', 'client_305a6614-69ea-42ca-9850-43de0246b72f']\n",
      "2021-10-08 16:37:30,456 fedbiomed INFO - Send message to client client_d5ae6538-a16d-4d84-a002-e2260fcc10f4 - {'researcher_id': 'researcher_c2567539-90f1-4ceb-8d3d-9db61bed9838', 'job_id': '2457bda6-10c1-4be7-82cb-caa87f72086f', 'training_args': {'n_iterations': 15}, 'model_args': {'tot_views': 3, 'dim_views': [15, 8, 10], 'n_components': 4}, 'command': 'train', 'model_url': 'http://localhost:8844/media/uploads/2021/10/08/my_model_c291cf4f-8e30-4075-98d0-21a89628d23f.py', 'params_url': 'http://localhost:8844/media/uploads/2021/10/08/researcher_params_6e6d36bd-194b-4522-a019-97fe6a5c4b33.pt', 'model_class': 'IID_MV_PPCA', 'training_data': {'client_d5ae6538-a16d-4d84-a002-e2260fcc10f4': ['dataset_6408d072-5f60-4592-ad83-e095f92aef13']}}\n",
      "2021-10-08 16:37:30,459 fedbiomed DEBUG - researcher_c2567539-90f1-4ceb-8d3d-9db61bed9838\n",
      "2021-10-08 16:37:30,462 fedbiomed INFO - Send message to client client_305a6614-69ea-42ca-9850-43de0246b72f - {'researcher_id': 'researcher_c2567539-90f1-4ceb-8d3d-9db61bed9838', 'job_id': '2457bda6-10c1-4be7-82cb-caa87f72086f', 'training_args': {'n_iterations': 15}, 'model_args': {'tot_views': 3, 'dim_views': [15, 8, 10], 'n_components': 4}, 'command': 'train', 'model_url': 'http://localhost:8844/media/uploads/2021/10/08/my_model_c291cf4f-8e30-4075-98d0-21a89628d23f.py', 'params_url': 'http://localhost:8844/media/uploads/2021/10/08/researcher_params_6e6d36bd-194b-4522-a019-97fe6a5c4b33.pt', 'model_class': 'IID_MV_PPCA', 'training_data': {'client_305a6614-69ea-42ca-9850-43de0246b72f': ['dataset_e009a9dc-a088-4603-83f8-bb9bf82dc849']}}\n",
      "2021-10-08 16:37:30,467 fedbiomed DEBUG - researcher_c2567539-90f1-4ceb-8d3d-9db61bed9838\n",
      "2021-10-08 16:37:36,199 fedbiomed INFO - message received:{'researcher_id': 'researcher_c2567539-90f1-4ceb-8d3d-9db61bed9838', 'job_id': '2457bda6-10c1-4be7-82cb-caa87f72086f', 'success': True, 'client_id': 'client_305a6614-69ea-42ca-9850-43de0246b72f', 'dataset_id': 'dataset_e009a9dc-a088-4603-83f8-bb9bf82dc849', 'params_url': 'http://localhost:8844/media/uploads/2021/10/08/node_params_23b7e14d-17e4-47db-ac9a-cdf803c6a214.pt', 'timing': {'rtime_training': 5.4248112370000285, 'ptime_training': 5.074652}, 'msg': '', 'command': 'train'}\n",
      "2021-10-08 16:37:38,258 fedbiomed INFO - message received:{'researcher_id': 'researcher_c2567539-90f1-4ceb-8d3d-9db61bed9838', 'job_id': '2457bda6-10c1-4be7-82cb-caa87f72086f', 'success': True, 'client_id': 'client_d5ae6538-a16d-4d84-a002-e2260fcc10f4', 'dataset_id': 'dataset_6408d072-5f60-4592-ad83-e095f92aef13', 'params_url': 'http://localhost:8844/media/uploads/2021/10/08/node_params_11b2a566-456e-4ef3-9c3b-3a38313b9b84.pt', 'timing': {'rtime_training': 7.556001349999974, 'ptime_training': 10.849072000000007}, 'msg': '', 'command': 'train'}\n",
      "2021-10-08 16:37:45,510 fedbiomed INFO - Downloading model params after training on client_305a6614-69ea-42ca-9850-43de0246b72f - from http://localhost:8844/media/uploads/2021/10/08/node_params_23b7e14d-17e4-47db-ac9a-cdf803c6a214.pt\n",
      "2021-10-08 16:37:45,538 fedbiomed INFO - Downloading model params after training on client_d5ae6538-a16d-4d84-a002-e2260fcc10f4 - from http://localhost:8844/media/uploads/2021/10/08/node_params_11b2a566-456e-4ef3-9c3b-3a38313b9b84.pt\n",
      "2021-10-08 16:37:45,564 fedbiomed INFO - Clients that successfully reply in round 12 ['client_305a6614-69ea-42ca-9850-43de0246b72f', 'client_d5ae6538-a16d-4d84-a002-e2260fcc10f4']\n",
      "2021-10-08 16:37:45,658 fedbiomed INFO - Sampled clients in round 13 ['client_d5ae6538-a16d-4d84-a002-e2260fcc10f4', 'client_305a6614-69ea-42ca-9850-43de0246b72f']\n",
      "2021-10-08 16:37:45,659 fedbiomed INFO - Send message to client client_d5ae6538-a16d-4d84-a002-e2260fcc10f4 - {'researcher_id': 'researcher_c2567539-90f1-4ceb-8d3d-9db61bed9838', 'job_id': '2457bda6-10c1-4be7-82cb-caa87f72086f', 'training_args': {'n_iterations': 15}, 'model_args': {'tot_views': 3, 'dim_views': [15, 8, 10], 'n_components': 4}, 'command': 'train', 'model_url': 'http://localhost:8844/media/uploads/2021/10/08/my_model_c291cf4f-8e30-4075-98d0-21a89628d23f.py', 'params_url': 'http://localhost:8844/media/uploads/2021/10/08/researcher_params_94c55555-cefb-421f-94d0-13522b50d5f3.pt', 'model_class': 'IID_MV_PPCA', 'training_data': {'client_d5ae6538-a16d-4d84-a002-e2260fcc10f4': ['dataset_6408d072-5f60-4592-ad83-e095f92aef13']}}\n",
      "2021-10-08 16:37:45,660 fedbiomed DEBUG - researcher_c2567539-90f1-4ceb-8d3d-9db61bed9838\n",
      "2021-10-08 16:37:45,665 fedbiomed INFO - Send message to client client_305a6614-69ea-42ca-9850-43de0246b72f - {'researcher_id': 'researcher_c2567539-90f1-4ceb-8d3d-9db61bed9838', 'job_id': '2457bda6-10c1-4be7-82cb-caa87f72086f', 'training_args': {'n_iterations': 15}, 'model_args': {'tot_views': 3, 'dim_views': [15, 8, 10], 'n_components': 4}, 'command': 'train', 'model_url': 'http://localhost:8844/media/uploads/2021/10/08/my_model_c291cf4f-8e30-4075-98d0-21a89628d23f.py', 'params_url': 'http://localhost:8844/media/uploads/2021/10/08/researcher_params_94c55555-cefb-421f-94d0-13522b50d5f3.pt', 'model_class': 'IID_MV_PPCA', 'training_data': {'client_305a6614-69ea-42ca-9850-43de0246b72f': ['dataset_e009a9dc-a088-4603-83f8-bb9bf82dc849']}}\n",
      "2021-10-08 16:37:45,671 fedbiomed DEBUG - researcher_c2567539-90f1-4ceb-8d3d-9db61bed9838\n",
      "2021-10-08 16:37:51,972 fedbiomed INFO - message received:{'researcher_id': 'researcher_c2567539-90f1-4ceb-8d3d-9db61bed9838', 'job_id': '2457bda6-10c1-4be7-82cb-caa87f72086f', 'success': True, 'client_id': 'client_305a6614-69ea-42ca-9850-43de0246b72f', 'dataset_id': 'dataset_e009a9dc-a088-4603-83f8-bb9bf82dc849', 'params_url': 'http://localhost:8844/media/uploads/2021/10/08/node_params_ceb84bb6-f346-452e-91da-b5b046d6aa9e.pt', 'timing': {'rtime_training': 6.051129973999991, 'ptime_training': 4.756048999999997}, 'msg': '', 'command': 'train'}\n",
      "2021-10-08 16:37:54,447 fedbiomed INFO - message received:{'researcher_id': 'researcher_c2567539-90f1-4ceb-8d3d-9db61bed9838', 'job_id': '2457bda6-10c1-4be7-82cb-caa87f72086f', 'success': True, 'client_id': 'client_d5ae6538-a16d-4d84-a002-e2260fcc10f4', 'dataset_id': 'dataset_6408d072-5f60-4592-ad83-e095f92aef13', 'params_url': 'http://localhost:8844/media/uploads/2021/10/08/node_params_7a7618d0-e105-4991-a569-161a4107f00b.pt', 'timing': {'rtime_training': 8.534280905999992, 'ptime_training': 7.728538999999998}, 'msg': '', 'command': 'train'}\n",
      "2021-10-08 16:38:00,705 fedbiomed INFO - Downloading model params after training on client_305a6614-69ea-42ca-9850-43de0246b72f - from http://localhost:8844/media/uploads/2021/10/08/node_params_ceb84bb6-f346-452e-91da-b5b046d6aa9e.pt\n",
      "2021-10-08 16:38:00,741 fedbiomed INFO - Downloading model params after training on client_d5ae6538-a16d-4d84-a002-e2260fcc10f4 - from http://localhost:8844/media/uploads/2021/10/08/node_params_7a7618d0-e105-4991-a569-161a4107f00b.pt\n",
      "2021-10-08 16:38:00,778 fedbiomed INFO - Clients that successfully reply in round 13 ['client_305a6614-69ea-42ca-9850-43de0246b72f', 'client_d5ae6538-a16d-4d84-a002-e2260fcc10f4']\n",
      "2021-10-08 16:38:00,883 fedbiomed INFO - Sampled clients in round 14 ['client_d5ae6538-a16d-4d84-a002-e2260fcc10f4', 'client_305a6614-69ea-42ca-9850-43de0246b72f']\n",
      "2021-10-08 16:38:00,885 fedbiomed INFO - Send message to client client_d5ae6538-a16d-4d84-a002-e2260fcc10f4 - {'researcher_id': 'researcher_c2567539-90f1-4ceb-8d3d-9db61bed9838', 'job_id': '2457bda6-10c1-4be7-82cb-caa87f72086f', 'training_args': {'n_iterations': 15}, 'model_args': {'tot_views': 3, 'dim_views': [15, 8, 10], 'n_components': 4}, 'command': 'train', 'model_url': 'http://localhost:8844/media/uploads/2021/10/08/my_model_c291cf4f-8e30-4075-98d0-21a89628d23f.py', 'params_url': 'http://localhost:8844/media/uploads/2021/10/08/researcher_params_6e6fc69e-6902-41b7-81b0-d1142adda3ce.pt', 'model_class': 'IID_MV_PPCA', 'training_data': {'client_d5ae6538-a16d-4d84-a002-e2260fcc10f4': ['dataset_6408d072-5f60-4592-ad83-e095f92aef13']}}\n",
      "2021-10-08 16:38:00,888 fedbiomed DEBUG - researcher_c2567539-90f1-4ceb-8d3d-9db61bed9838\n",
      "2021-10-08 16:38:00,893 fedbiomed INFO - Send message to client client_305a6614-69ea-42ca-9850-43de0246b72f - {'researcher_id': 'researcher_c2567539-90f1-4ceb-8d3d-9db61bed9838', 'job_id': '2457bda6-10c1-4be7-82cb-caa87f72086f', 'training_args': {'n_iterations': 15}, 'model_args': {'tot_views': 3, 'dim_views': [15, 8, 10], 'n_components': 4}, 'command': 'train', 'model_url': 'http://localhost:8844/media/uploads/2021/10/08/my_model_c291cf4f-8e30-4075-98d0-21a89628d23f.py', 'params_url': 'http://localhost:8844/media/uploads/2021/10/08/researcher_params_6e6fc69e-6902-41b7-81b0-d1142adda3ce.pt', 'model_class': 'IID_MV_PPCA', 'training_data': {'client_305a6614-69ea-42ca-9850-43de0246b72f': ['dataset_e009a9dc-a088-4603-83f8-bb9bf82dc849']}}\n"
     ]
    },
    {
     "name": "stderr",
     "output_type": "stream",
     "text": [
      "2021-10-08 16:38:00,898 fedbiomed DEBUG - researcher_c2567539-90f1-4ceb-8d3d-9db61bed9838\n",
      "2021-10-08 16:38:06,441 fedbiomed INFO - message received:{'researcher_id': 'researcher_c2567539-90f1-4ceb-8d3d-9db61bed9838', 'job_id': '2457bda6-10c1-4be7-82cb-caa87f72086f', 'success': True, 'client_id': 'client_305a6614-69ea-42ca-9850-43de0246b72f', 'dataset_id': 'dataset_e009a9dc-a088-4603-83f8-bb9bf82dc849', 'params_url': 'http://localhost:8844/media/uploads/2021/10/08/node_params_16085300-effe-44e2-8ae1-1309ef5fd85e.pt', 'timing': {'rtime_training': 5.262860255000021, 'ptime_training': 5.0171140000000065}, 'msg': '', 'command': 'train'}\n",
      "2021-10-08 16:38:08,438 fedbiomed INFO - message received:{'researcher_id': 'researcher_c2567539-90f1-4ceb-8d3d-9db61bed9838', 'job_id': '2457bda6-10c1-4be7-82cb-caa87f72086f', 'success': True, 'client_id': 'client_d5ae6538-a16d-4d84-a002-e2260fcc10f4', 'dataset_id': 'dataset_6408d072-5f60-4592-ad83-e095f92aef13', 'params_url': 'http://localhost:8844/media/uploads/2021/10/08/node_params_fd8a94e4-aece-43f7-a729-cc05b2c1491c.pt', 'timing': {'rtime_training': 7.32458610599997, 'ptime_training': 10.890619999999984}, 'msg': '', 'command': 'train'}\n",
      "2021-10-08 16:38:15,919 fedbiomed INFO - Downloading model params after training on client_305a6614-69ea-42ca-9850-43de0246b72f - from http://localhost:8844/media/uploads/2021/10/08/node_params_16085300-effe-44e2-8ae1-1309ef5fd85e.pt\n",
      "2021-10-08 16:38:15,954 fedbiomed INFO - Downloading model params after training on client_d5ae6538-a16d-4d84-a002-e2260fcc10f4 - from http://localhost:8844/media/uploads/2021/10/08/node_params_fd8a94e4-aece-43f7-a729-cc05b2c1491c.pt\n",
      "2021-10-08 16:38:15,986 fedbiomed INFO - Clients that successfully reply in round 14 ['client_305a6614-69ea-42ca-9850-43de0246b72f', 'client_d5ae6538-a16d-4d84-a002-e2260fcc10f4']\n",
      "2021-10-08 16:38:16,085 fedbiomed INFO - Sampled clients in round 15 ['client_d5ae6538-a16d-4d84-a002-e2260fcc10f4', 'client_305a6614-69ea-42ca-9850-43de0246b72f']\n",
      "2021-10-08 16:38:16,087 fedbiomed INFO - Send message to client client_d5ae6538-a16d-4d84-a002-e2260fcc10f4 - {'researcher_id': 'researcher_c2567539-90f1-4ceb-8d3d-9db61bed9838', 'job_id': '2457bda6-10c1-4be7-82cb-caa87f72086f', 'training_args': {'n_iterations': 15}, 'model_args': {'tot_views': 3, 'dim_views': [15, 8, 10], 'n_components': 4}, 'command': 'train', 'model_url': 'http://localhost:8844/media/uploads/2021/10/08/my_model_c291cf4f-8e30-4075-98d0-21a89628d23f.py', 'params_url': 'http://localhost:8844/media/uploads/2021/10/08/researcher_params_8dee7f5d-92db-4bfd-9d2a-858a4a15d10f.pt', 'model_class': 'IID_MV_PPCA', 'training_data': {'client_d5ae6538-a16d-4d84-a002-e2260fcc10f4': ['dataset_6408d072-5f60-4592-ad83-e095f92aef13']}}\n",
      "2021-10-08 16:38:16,088 fedbiomed DEBUG - researcher_c2567539-90f1-4ceb-8d3d-9db61bed9838\n",
      "2021-10-08 16:38:16,093 fedbiomed INFO - Send message to client client_305a6614-69ea-42ca-9850-43de0246b72f - {'researcher_id': 'researcher_c2567539-90f1-4ceb-8d3d-9db61bed9838', 'job_id': '2457bda6-10c1-4be7-82cb-caa87f72086f', 'training_args': {'n_iterations': 15}, 'model_args': {'tot_views': 3, 'dim_views': [15, 8, 10], 'n_components': 4}, 'command': 'train', 'model_url': 'http://localhost:8844/media/uploads/2021/10/08/my_model_c291cf4f-8e30-4075-98d0-21a89628d23f.py', 'params_url': 'http://localhost:8844/media/uploads/2021/10/08/researcher_params_8dee7f5d-92db-4bfd-9d2a-858a4a15d10f.pt', 'model_class': 'IID_MV_PPCA', 'training_data': {'client_305a6614-69ea-42ca-9850-43de0246b72f': ['dataset_e009a9dc-a088-4603-83f8-bb9bf82dc849']}}\n",
      "2021-10-08 16:38:16,101 fedbiomed DEBUG - researcher_c2567539-90f1-4ceb-8d3d-9db61bed9838\n",
      "2021-10-08 16:38:22,251 fedbiomed INFO - message received:{'researcher_id': 'researcher_c2567539-90f1-4ceb-8d3d-9db61bed9838', 'job_id': '2457bda6-10c1-4be7-82cb-caa87f72086f', 'success': True, 'client_id': 'client_305a6614-69ea-42ca-9850-43de0246b72f', 'dataset_id': 'dataset_e009a9dc-a088-4603-83f8-bb9bf82dc849', 'params_url': 'http://localhost:8844/media/uploads/2021/10/08/node_params_24fda59f-6ff7-4081-854f-16fb6f20ce8a.pt', 'timing': {'rtime_training': 5.896821084999999, 'ptime_training': 5.016157000000007}, 'msg': '', 'command': 'train'}\n",
      "2021-10-08 16:38:24,633 fedbiomed INFO - message received:{'researcher_id': 'researcher_c2567539-90f1-4ceb-8d3d-9db61bed9838', 'job_id': '2457bda6-10c1-4be7-82cb-caa87f72086f', 'success': True, 'client_id': 'client_d5ae6538-a16d-4d84-a002-e2260fcc10f4', 'dataset_id': 'dataset_6408d072-5f60-4592-ad83-e095f92aef13', 'params_url': 'http://localhost:8844/media/uploads/2021/10/08/node_params_1b880496-9aba-4efa-8435-fd5acac48dfc.pt', 'timing': {'rtime_training': 8.293938437999998, 'ptime_training': 7.770826999999997}, 'msg': '', 'command': 'train'}\n",
      "2021-10-08 16:38:31,124 fedbiomed INFO - Downloading model params after training on client_305a6614-69ea-42ca-9850-43de0246b72f - from http://localhost:8844/media/uploads/2021/10/08/node_params_24fda59f-6ff7-4081-854f-16fb6f20ce8a.pt\n",
      "2021-10-08 16:38:31,156 fedbiomed INFO - Downloading model params after training on client_d5ae6538-a16d-4d84-a002-e2260fcc10f4 - from http://localhost:8844/media/uploads/2021/10/08/node_params_1b880496-9aba-4efa-8435-fd5acac48dfc.pt\n",
      "2021-10-08 16:38:31,184 fedbiomed INFO - Clients that successfully reply in round 15 ['client_305a6614-69ea-42ca-9850-43de0246b72f', 'client_d5ae6538-a16d-4d84-a002-e2260fcc10f4']\n",
      "2021-10-08 16:38:31,285 fedbiomed INFO - Sampled clients in round 16 ['client_d5ae6538-a16d-4d84-a002-e2260fcc10f4', 'client_305a6614-69ea-42ca-9850-43de0246b72f']\n",
      "2021-10-08 16:38:31,286 fedbiomed INFO - Send message to client client_d5ae6538-a16d-4d84-a002-e2260fcc10f4 - {'researcher_id': 'researcher_c2567539-90f1-4ceb-8d3d-9db61bed9838', 'job_id': '2457bda6-10c1-4be7-82cb-caa87f72086f', 'training_args': {'n_iterations': 15}, 'model_args': {'tot_views': 3, 'dim_views': [15, 8, 10], 'n_components': 4}, 'command': 'train', 'model_url': 'http://localhost:8844/media/uploads/2021/10/08/my_model_c291cf4f-8e30-4075-98d0-21a89628d23f.py', 'params_url': 'http://localhost:8844/media/uploads/2021/10/08/researcher_params_76720aa6-b535-4cf2-861a-5702d163f78b.pt', 'model_class': 'IID_MV_PPCA', 'training_data': {'client_d5ae6538-a16d-4d84-a002-e2260fcc10f4': ['dataset_6408d072-5f60-4592-ad83-e095f92aef13']}}\n",
      "2021-10-08 16:38:31,288 fedbiomed DEBUG - researcher_c2567539-90f1-4ceb-8d3d-9db61bed9838\n",
      "2021-10-08 16:38:31,289 fedbiomed INFO - Send message to client client_305a6614-69ea-42ca-9850-43de0246b72f - {'researcher_id': 'researcher_c2567539-90f1-4ceb-8d3d-9db61bed9838', 'job_id': '2457bda6-10c1-4be7-82cb-caa87f72086f', 'training_args': {'n_iterations': 15}, 'model_args': {'tot_views': 3, 'dim_views': [15, 8, 10], 'n_components': 4}, 'command': 'train', 'model_url': 'http://localhost:8844/media/uploads/2021/10/08/my_model_c291cf4f-8e30-4075-98d0-21a89628d23f.py', 'params_url': 'http://localhost:8844/media/uploads/2021/10/08/researcher_params_76720aa6-b535-4cf2-861a-5702d163f78b.pt', 'model_class': 'IID_MV_PPCA', 'training_data': {'client_305a6614-69ea-42ca-9850-43de0246b72f': ['dataset_e009a9dc-a088-4603-83f8-bb9bf82dc849']}}\n",
      "2021-10-08 16:38:31,296 fedbiomed DEBUG - researcher_c2567539-90f1-4ceb-8d3d-9db61bed9838\n",
      "2021-10-08 16:38:36,995 fedbiomed INFO - message received:{'researcher_id': 'researcher_c2567539-90f1-4ceb-8d3d-9db61bed9838', 'job_id': '2457bda6-10c1-4be7-82cb-caa87f72086f', 'success': True, 'client_id': 'client_305a6614-69ea-42ca-9850-43de0246b72f', 'dataset_id': 'dataset_e009a9dc-a088-4603-83f8-bb9bf82dc849', 'params_url': 'http://localhost:8844/media/uploads/2021/10/08/node_params_2bff9170-8924-413f-9829-242c8871e424.pt', 'timing': {'rtime_training': 5.452623087999996, 'ptime_training': 5.081683999999996}, 'msg': '', 'command': 'train'}\n",
      "2021-10-08 16:38:39,018 fedbiomed INFO - message received:{'researcher_id': 'researcher_c2567539-90f1-4ceb-8d3d-9db61bed9838', 'job_id': '2457bda6-10c1-4be7-82cb-caa87f72086f', 'success': True, 'client_id': 'client_d5ae6538-a16d-4d84-a002-e2260fcc10f4', 'dataset_id': 'dataset_6408d072-5f60-4592-ad83-e095f92aef13', 'params_url': 'http://localhost:8844/media/uploads/2021/10/08/node_params_a59c34bc-9b1c-497a-93ea-df505be62f07.pt', 'timing': {'rtime_training': 7.502570300000002, 'ptime_training': 11.071823000000023}, 'msg': '', 'command': 'train'}\n"
     ]
    },
    {
     "name": "stderr",
     "output_type": "stream",
     "text": [
      "2021-10-08 16:38:46,314 fedbiomed INFO - Downloading model params after training on client_305a6614-69ea-42ca-9850-43de0246b72f - from http://localhost:8844/media/uploads/2021/10/08/node_params_2bff9170-8924-413f-9829-242c8871e424.pt\n",
      "2021-10-08 16:38:46,350 fedbiomed INFO - Downloading model params after training on client_d5ae6538-a16d-4d84-a002-e2260fcc10f4 - from http://localhost:8844/media/uploads/2021/10/08/node_params_a59c34bc-9b1c-497a-93ea-df505be62f07.pt\n",
      "2021-10-08 16:38:46,378 fedbiomed INFO - Clients that successfully reply in round 16 ['client_305a6614-69ea-42ca-9850-43de0246b72f', 'client_d5ae6538-a16d-4d84-a002-e2260fcc10f4']\n",
      "2021-10-08 16:38:46,480 fedbiomed INFO - Sampled clients in round 17 ['client_d5ae6538-a16d-4d84-a002-e2260fcc10f4', 'client_305a6614-69ea-42ca-9850-43de0246b72f']\n",
      "2021-10-08 16:38:46,481 fedbiomed INFO - Send message to client client_d5ae6538-a16d-4d84-a002-e2260fcc10f4 - {'researcher_id': 'researcher_c2567539-90f1-4ceb-8d3d-9db61bed9838', 'job_id': '2457bda6-10c1-4be7-82cb-caa87f72086f', 'training_args': {'n_iterations': 15}, 'model_args': {'tot_views': 3, 'dim_views': [15, 8, 10], 'n_components': 4}, 'command': 'train', 'model_url': 'http://localhost:8844/media/uploads/2021/10/08/my_model_c291cf4f-8e30-4075-98d0-21a89628d23f.py', 'params_url': 'http://localhost:8844/media/uploads/2021/10/08/researcher_params_5ea8d02f-644b-4228-a3d2-3deab415331a.pt', 'model_class': 'IID_MV_PPCA', 'training_data': {'client_d5ae6538-a16d-4d84-a002-e2260fcc10f4': ['dataset_6408d072-5f60-4592-ad83-e095f92aef13']}}\n",
      "2021-10-08 16:38:46,483 fedbiomed DEBUG - researcher_c2567539-90f1-4ceb-8d3d-9db61bed9838\n",
      "2021-10-08 16:38:46,487 fedbiomed INFO - Send message to client client_305a6614-69ea-42ca-9850-43de0246b72f - {'researcher_id': 'researcher_c2567539-90f1-4ceb-8d3d-9db61bed9838', 'job_id': '2457bda6-10c1-4be7-82cb-caa87f72086f', 'training_args': {'n_iterations': 15}, 'model_args': {'tot_views': 3, 'dim_views': [15, 8, 10], 'n_components': 4}, 'command': 'train', 'model_url': 'http://localhost:8844/media/uploads/2021/10/08/my_model_c291cf4f-8e30-4075-98d0-21a89628d23f.py', 'params_url': 'http://localhost:8844/media/uploads/2021/10/08/researcher_params_5ea8d02f-644b-4228-a3d2-3deab415331a.pt', 'model_class': 'IID_MV_PPCA', 'training_data': {'client_305a6614-69ea-42ca-9850-43de0246b72f': ['dataset_e009a9dc-a088-4603-83f8-bb9bf82dc849']}}\n",
      "2021-10-08 16:38:46,494 fedbiomed DEBUG - researcher_c2567539-90f1-4ceb-8d3d-9db61bed9838\n",
      "2021-10-08 16:38:51,979 fedbiomed INFO - message received:{'researcher_id': 'researcher_c2567539-90f1-4ceb-8d3d-9db61bed9838', 'job_id': '2457bda6-10c1-4be7-82cb-caa87f72086f', 'success': True, 'client_id': 'client_305a6614-69ea-42ca-9850-43de0246b72f', 'dataset_id': 'dataset_e009a9dc-a088-4603-83f8-bb9bf82dc849', 'params_url': 'http://localhost:8844/media/uploads/2021/10/08/node_params_a1228869-c62b-49bb-a8d9-c53df16abbb7.pt', 'timing': {'rtime_training': 5.235643325000012, 'ptime_training': 5.0552239999999955}, 'msg': '', 'command': 'train'}\n",
      "2021-10-08 16:38:54,079 fedbiomed INFO - message received:{'researcher_id': 'researcher_c2567539-90f1-4ceb-8d3d-9db61bed9838', 'job_id': '2457bda6-10c1-4be7-82cb-caa87f72086f', 'success': True, 'client_id': 'client_d5ae6538-a16d-4d84-a002-e2260fcc10f4', 'dataset_id': 'dataset_6408d072-5f60-4592-ad83-e095f92aef13', 'params_url': 'http://localhost:8844/media/uploads/2021/10/08/node_params_8a1b615d-d6db-4746-ba38-783efbd199e0.pt', 'timing': {'rtime_training': 7.354179185000021, 'ptime_training': 10.645156000000014}, 'msg': '', 'command': 'train'}\n",
      "2021-10-08 16:39:01,514 fedbiomed INFO - Downloading model params after training on client_305a6614-69ea-42ca-9850-43de0246b72f - from http://localhost:8844/media/uploads/2021/10/08/node_params_a1228869-c62b-49bb-a8d9-c53df16abbb7.pt\n",
      "2021-10-08 16:39:01,549 fedbiomed INFO - Downloading model params after training on client_d5ae6538-a16d-4d84-a002-e2260fcc10f4 - from http://localhost:8844/media/uploads/2021/10/08/node_params_8a1b615d-d6db-4746-ba38-783efbd199e0.pt\n",
      "2021-10-08 16:39:01,585 fedbiomed INFO - Clients that successfully reply in round 17 ['client_305a6614-69ea-42ca-9850-43de0246b72f', 'client_d5ae6538-a16d-4d84-a002-e2260fcc10f4']\n",
      "2021-10-08 16:39:01,707 fedbiomed INFO - Sampled clients in round 18 ['client_d5ae6538-a16d-4d84-a002-e2260fcc10f4', 'client_305a6614-69ea-42ca-9850-43de0246b72f']\n",
      "2021-10-08 16:39:01,709 fedbiomed INFO - Send message to client client_d5ae6538-a16d-4d84-a002-e2260fcc10f4 - {'researcher_id': 'researcher_c2567539-90f1-4ceb-8d3d-9db61bed9838', 'job_id': '2457bda6-10c1-4be7-82cb-caa87f72086f', 'training_args': {'n_iterations': 15}, 'model_args': {'tot_views': 3, 'dim_views': [15, 8, 10], 'n_components': 4}, 'command': 'train', 'model_url': 'http://localhost:8844/media/uploads/2021/10/08/my_model_c291cf4f-8e30-4075-98d0-21a89628d23f.py', 'params_url': 'http://localhost:8844/media/uploads/2021/10/08/researcher_params_cca371dc-607b-4c2b-9240-372d71d157be.pt', 'model_class': 'IID_MV_PPCA', 'training_data': {'client_d5ae6538-a16d-4d84-a002-e2260fcc10f4': ['dataset_6408d072-5f60-4592-ad83-e095f92aef13']}}\n",
      "2021-10-08 16:39:01,710 fedbiomed DEBUG - researcher_c2567539-90f1-4ceb-8d3d-9db61bed9838\n",
      "2021-10-08 16:39:01,720 fedbiomed INFO - Send message to client client_305a6614-69ea-42ca-9850-43de0246b72f - {'researcher_id': 'researcher_c2567539-90f1-4ceb-8d3d-9db61bed9838', 'job_id': '2457bda6-10c1-4be7-82cb-caa87f72086f', 'training_args': {'n_iterations': 15}, 'model_args': {'tot_views': 3, 'dim_views': [15, 8, 10], 'n_components': 4}, 'command': 'train', 'model_url': 'http://localhost:8844/media/uploads/2021/10/08/my_model_c291cf4f-8e30-4075-98d0-21a89628d23f.py', 'params_url': 'http://localhost:8844/media/uploads/2021/10/08/researcher_params_cca371dc-607b-4c2b-9240-372d71d157be.pt', 'model_class': 'IID_MV_PPCA', 'training_data': {'client_305a6614-69ea-42ca-9850-43de0246b72f': ['dataset_e009a9dc-a088-4603-83f8-bb9bf82dc849']}}\n",
      "2021-10-08 16:39:01,726 fedbiomed DEBUG - researcher_c2567539-90f1-4ceb-8d3d-9db61bed9838\n",
      "2021-10-08 16:39:07,470 fedbiomed INFO - message received:{'researcher_id': 'researcher_c2567539-90f1-4ceb-8d3d-9db61bed9838', 'job_id': '2457bda6-10c1-4be7-82cb-caa87f72086f', 'success': True, 'client_id': 'client_305a6614-69ea-42ca-9850-43de0246b72f', 'dataset_id': 'dataset_e009a9dc-a088-4603-83f8-bb9bf82dc849', 'params_url': 'http://localhost:8844/media/uploads/2021/10/08/node_params_c3eb186c-e4c0-4ba3-b6ea-0cfad74255c1.pt', 'timing': {'rtime_training': 5.518625960999998, 'ptime_training': 5.0878139999999945}, 'msg': '', 'command': 'train'}\n",
      "2021-10-08 16:39:09,521 fedbiomed INFO - message received:{'researcher_id': 'researcher_c2567539-90f1-4ceb-8d3d-9db61bed9838', 'job_id': '2457bda6-10c1-4be7-82cb-caa87f72086f', 'success': True, 'client_id': 'client_d5ae6538-a16d-4d84-a002-e2260fcc10f4', 'dataset_id': 'dataset_6408d072-5f60-4592-ad83-e095f92aef13', 'params_url': 'http://localhost:8844/media/uploads/2021/10/08/node_params_e3daa1f6-3657-41b2-adeb-16b197379653.pt', 'timing': {'rtime_training': 7.579885277000017, 'ptime_training': 10.777546000000001}, 'msg': '', 'command': 'train'}\n",
      "2021-10-08 16:39:16,757 fedbiomed INFO - Downloading model params after training on client_305a6614-69ea-42ca-9850-43de0246b72f - from http://localhost:8844/media/uploads/2021/10/08/node_params_c3eb186c-e4c0-4ba3-b6ea-0cfad74255c1.pt\n",
      "2021-10-08 16:39:16,783 fedbiomed INFO - Downloading model params after training on client_d5ae6538-a16d-4d84-a002-e2260fcc10f4 - from http://localhost:8844/media/uploads/2021/10/08/node_params_e3daa1f6-3657-41b2-adeb-16b197379653.pt\n",
      "2021-10-08 16:39:16,818 fedbiomed INFO - Clients that successfully reply in round 18 ['client_305a6614-69ea-42ca-9850-43de0246b72f', 'client_d5ae6538-a16d-4d84-a002-e2260fcc10f4']\n",
      "2021-10-08 16:39:16,921 fedbiomed INFO - Sampled clients in round 19 ['client_d5ae6538-a16d-4d84-a002-e2260fcc10f4', 'client_305a6614-69ea-42ca-9850-43de0246b72f']\n",
      "2021-10-08 16:39:16,924 fedbiomed INFO - Send message to client client_d5ae6538-a16d-4d84-a002-e2260fcc10f4 - {'researcher_id': 'researcher_c2567539-90f1-4ceb-8d3d-9db61bed9838', 'job_id': '2457bda6-10c1-4be7-82cb-caa87f72086f', 'training_args': {'n_iterations': 15}, 'model_args': {'tot_views': 3, 'dim_views': [15, 8, 10], 'n_components': 4}, 'command': 'train', 'model_url': 'http://localhost:8844/media/uploads/2021/10/08/my_model_c291cf4f-8e30-4075-98d0-21a89628d23f.py', 'params_url': 'http://localhost:8844/media/uploads/2021/10/08/researcher_params_ebf501bb-a43a-4c5a-9781-948fd7ffa853.pt', 'model_class': 'IID_MV_PPCA', 'training_data': {'client_d5ae6538-a16d-4d84-a002-e2260fcc10f4': ['dataset_6408d072-5f60-4592-ad83-e095f92aef13']}}\n"
     ]
    },
    {
     "name": "stderr",
     "output_type": "stream",
     "text": [
      "2021-10-08 16:39:16,930 fedbiomed DEBUG - researcher_c2567539-90f1-4ceb-8d3d-9db61bed9838\n",
      "2021-10-08 16:39:16,935 fedbiomed INFO - Send message to client client_305a6614-69ea-42ca-9850-43de0246b72f - {'researcher_id': 'researcher_c2567539-90f1-4ceb-8d3d-9db61bed9838', 'job_id': '2457bda6-10c1-4be7-82cb-caa87f72086f', 'training_args': {'n_iterations': 15}, 'model_args': {'tot_views': 3, 'dim_views': [15, 8, 10], 'n_components': 4}, 'command': 'train', 'model_url': 'http://localhost:8844/media/uploads/2021/10/08/my_model_c291cf4f-8e30-4075-98d0-21a89628d23f.py', 'params_url': 'http://localhost:8844/media/uploads/2021/10/08/researcher_params_ebf501bb-a43a-4c5a-9781-948fd7ffa853.pt', 'model_class': 'IID_MV_PPCA', 'training_data': {'client_305a6614-69ea-42ca-9850-43de0246b72f': ['dataset_e009a9dc-a088-4603-83f8-bb9bf82dc849']}}\n",
      "2021-10-08 16:39:16,940 fedbiomed DEBUG - researcher_c2567539-90f1-4ceb-8d3d-9db61bed9838\n",
      "2021-10-08 16:39:23,098 fedbiomed INFO - message received:{'researcher_id': 'researcher_c2567539-90f1-4ceb-8d3d-9db61bed9838', 'job_id': '2457bda6-10c1-4be7-82cb-caa87f72086f', 'success': True, 'client_id': 'client_305a6614-69ea-42ca-9850-43de0246b72f', 'dataset_id': 'dataset_e009a9dc-a088-4603-83f8-bb9bf82dc849', 'params_url': 'http://localhost:8844/media/uploads/2021/10/08/node_params_3edb3d47-6443-4aa2-96ff-3369b9058675.pt', 'timing': {'rtime_training': 5.933765011999981, 'ptime_training': 4.600687999999991}, 'msg': '', 'command': 'train'}\n",
      "2021-10-08 16:39:25,747 fedbiomed INFO - message received:{'researcher_id': 'researcher_c2567539-90f1-4ceb-8d3d-9db61bed9838', 'job_id': '2457bda6-10c1-4be7-82cb-caa87f72086f', 'success': True, 'client_id': 'client_d5ae6538-a16d-4d84-a002-e2260fcc10f4', 'dataset_id': 'dataset_6408d072-5f60-4592-ad83-e095f92aef13', 'params_url': 'http://localhost:8844/media/uploads/2021/10/08/node_params_73b23ced-a934-46e4-9dbb-8749746205d7.pt', 'timing': {'rtime_training': 8.544465278000018, 'ptime_training': 7.44437099999999}, 'msg': '', 'command': 'train'}\n",
      "2021-10-08 16:39:31,962 fedbiomed INFO - Downloading model params after training on client_305a6614-69ea-42ca-9850-43de0246b72f - from http://localhost:8844/media/uploads/2021/10/08/node_params_3edb3d47-6443-4aa2-96ff-3369b9058675.pt\n",
      "2021-10-08 16:39:32,003 fedbiomed INFO - Downloading model params after training on client_d5ae6538-a16d-4d84-a002-e2260fcc10f4 - from http://localhost:8844/media/uploads/2021/10/08/node_params_73b23ced-a934-46e4-9dbb-8749746205d7.pt\n",
      "2021-10-08 16:39:32,041 fedbiomed INFO - Clients that successfully reply in round 19 ['client_305a6614-69ea-42ca-9850-43de0246b72f', 'client_d5ae6538-a16d-4d84-a002-e2260fcc10f4']\n"
     ]
    }
   ],
   "source": [
    "# start federated training\n",
    "exp.run()"
   ]
  },
  {
   "cell_type": "code",
   "execution_count": 7,
   "id": "0eca4af7",
   "metadata": {},
   "outputs": [
    {
     "name": "stdout",
     "output_type": "stream",
     "text": [
      "\n",
      "List the training rounds :  dict_keys([0, 1, 2, 3, 4, 5, 6, 7, 8, 9, 10, 11, 12, 13, 14, 15, 16, 17, 18, 19])\n",
      "\n",
      "Access the federated params for the last training round :\n",
      "\t- params_path:  /Users/balelli/ownCloud/INRIA_EPIONE/FedBioMed/fedbiomed/var/tmp/researcher_params_07e93e56-573a-4223-b225-53bebf262e68.pt\n",
      "\t- parameter data:  dict_keys(['tilde_muk', 'tilde_Wk', 'tilde_Sigma2k', 'Alpha', 'Beta', 'sigma_til_muk', 'sigma_til_Wk', 'sigma_til_sigma2k'])\n"
     ]
    }
   ],
   "source": [
    "print(\"\\nList the training rounds : \", exp.aggregated_params.keys())\n",
    "\n",
    "print(\"\\nAccess the federated params for the last training round :\")\n",
    "print(\"\\t- params_path: \", exp.aggregated_params[rounds - 1]['params_path'])\n",
    "print(\"\\t- parameter data: \", exp.aggregated_params[rounds - 1]['params'].keys())"
   ]
  },
  {
   "cell_type": "markdown",
   "id": "88e2a782",
   "metadata": {},
   "source": [
    "## Test"
   ]
  },
  {
   "cell_type": "code",
   "execution_count": null,
   "id": "ddd8cf9e",
   "metadata": {},
   "outputs": [],
   "source": []
  }
 ],
 "metadata": {
  "kernelspec": {
   "display_name": "Python 3",
   "language": "python",
   "name": "python3"
  },
  "language_info": {
   "codemirror_mode": {
    "name": "ipython",
    "version": 3
   },
   "file_extension": ".py",
   "mimetype": "text/x-python",
   "name": "python",
   "nbconvert_exporter": "python",
   "pygments_lexer": "ipython3",
   "version": "3.9.5"
  }
 },
 "nbformat": 4,
 "nbformat_minor": 5
}

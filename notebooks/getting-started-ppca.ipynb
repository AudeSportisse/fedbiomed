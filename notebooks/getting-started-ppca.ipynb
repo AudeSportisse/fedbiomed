{
 "cells": [
  {
   "cell_type": "markdown",
   "id": "64e87007",
   "metadata": {},
   "source": [
    "# Fedbiomed Researcher to train a federated ppca model."
   ]
  },
  {
   "cell_type": "markdown",
   "id": "92e17d2f",
   "metadata": {},
   "source": [
    "## Description of the exercise :"
   ]
  },
  {
   "cell_type": "markdown",
   "id": "fb782b14",
   "metadata": {},
   "source": [
    "Three datasets `n1.csv` , `n2.csv` and `n3.csv` will be generated randomly using 3-views PPCA from a 4-dimensional latent space, with views dimensions [15,8,10] and 2 groups. Henceforth, we will distribute the 3 dataset to 3 distinct nodes and use Fed-mv-PPCA. In each center we check the evolution of expected LL during training."
   ]
  },
  {
   "cell_type": "markdown",
   "id": "11c0bc07",
   "metadata": {},
   "source": [
    "## Data Generation\n",
    "\n",
    "We will generate three datasets using mv-PPCA.\n",
    "Then save them in a path of your choice on your machine."
   ]
  },
  {
   "cell_type": "code",
   "execution_count": 1,
   "id": "b48f8c46",
   "metadata": {},
   "outputs": [],
   "source": [
    "import numpy as np\n",
    "import pandas as pd\n",
    "\n",
    "def sample_x_n(N, q, random_state=None):\n",
    "    return np.random.RandomState(random_state).randn(N,q)\n",
    "\n",
    "def generate_data(N_g, W, a_g, mu, sigma2, x_n, view, random_state=None):\n",
    "    rnd=np.random.RandomState(random_state)\n",
    "\n",
    "    N=N_g.sum()\n",
    "    d, q = W.shape\n",
    "    sigma=np.sqrt(sigma2)\n",
    "\n",
    "    return compute_mean_likelihood(N_g, W, a_g, mu, x_n, view) + sigma*rnd.randn(N,d)\n",
    "\n",
    "def compute_mean_likelihood(N_g, W, a_g, mu, x_n, view):\n",
    "    G=len(N_g)\n",
    "    N=N_g.sum()\n",
    "    d, q = W.shape\n",
    "\n",
    "    g_ind=np.concatenate((np.zeros(1, dtype=np.int64), np.cumsum(N_g)))\n",
    "\n",
    "\n",
    "    y_n=np.empty((N, d))\n",
    "\n",
    "    for g in range(G):\n",
    "        y_n[g_ind[g]:g_ind[g+1]]= np.einsum(\"dq,nq->nd\", W, x_n[g_ind[g]:g_ind[g+1]]+a_g[g]) + mu\n",
    "    y_n = pd.DataFrame(data=y_n,\n",
    "                     columns=[f'var_{view},{i + 1}' for i in range(d)])\n",
    "\n",
    "    return y_n"
   ]
  },
  {
   "cell_type": "code",
   "execution_count": 2,
   "id": "d14ab247",
   "metadata": {},
   "outputs": [],
   "source": [
    "np.random.seed(100)\n",
    "\n",
    "D_i = [15, 8, 10]\n",
    "G = 2\n",
    "n_centers = 3\n",
    "testing_samples = 40\n",
    "\n",
    "q_gen = 4\n",
    "\n",
    "sigma2_gen1, sigma2_gen2, sigma2_gen3 = 2, 1, 3\n",
    "W_gen1 = np.random.uniform(-10, 10, (D_i[0], q_gen))\n",
    "W_gen2 = np.random.uniform(-5, 5, (D_i[1], q_gen))\n",
    "W_gen3 = np.random.uniform(-15, 15, (D_i[2], q_gen))\n",
    "mu_gen1 = np.random.uniform(-10, 10, D_i[0])\n",
    "mu_gen2 = np.random.uniform(-5, 5, D_i[1])\n",
    "mu_gen3 = np.random.uniform(-15, 15, D_i[2])\n",
    "\n",
    "a_g_gen = np.concatenate((np.zeros((1, q_gen)), np.random.uniform(-10, 10, (G - 1, q_gen))))\n",
    "\n",
    "W = [W_gen1,W_gen2,W_gen3]\n",
    "mu = [mu_gen1,mu_gen2,mu_gen3]\n",
    "sigma = [sigma2_gen1,sigma2_gen2,sigma2_gen3]\n",
    "\n",
    "# absent_views contains as key the id of a center in which we want to simulate absent views,\n",
    "# and as argumet the id of the missing view. \n",
    "absent_views = {'2': 2}\n",
    "\n",
    "for i in range(n_centers):\n",
    "    N_g = np.array([np.random.randint(25,300),np.random.randint(25,300)])\n",
    "    g_ind = np.concatenate((np.zeros(1, dtype=np.int64), np.cumsum(N_g)))\n",
    "    N = N_g.sum()\n",
    "    x_n_gen = sample_x_n(N, q_gen, random_state=150)\n",
    "    Y = []\n",
    "    for d in range(len(D_i)):\n",
    "        y_t = generate_data(N_g, W[d], a_g_gen, mu[d], sigma[d], x_n_gen, view = d+1, random_state=250)\n",
    "        if ((str(i+1) in absent_views.keys()) \\\n",
    "            and (type(absent_views[str(i+1)])== int) \\\n",
    "            and (absent_views[str(i+1)]==d+1)):\n",
    "            absent_views.update({str(i+1): y_t})\n",
    "            y_abs=pd.DataFrame(np.nan, index = np.arange(N_g.sum()), \\\n",
    "                               columns = [f'var_{d+1},{i + 1}' for i in range(D_i[d])])\n",
    "            Y.append(y_abs)\n",
    "        else:\n",
    "            Y.append(y_t)\n",
    "\n",
    "    gr = [int(0) for _ in range(N_g[0])]+[int(1) for _ in range(N_g[1])]\n",
    "    gr = pd.Series(gr)\n",
    "    Y.append(gr)\n",
    "\n",
    "    t_i = pd.concat(Y, axis=1)\n",
    "    t_i.columns.values[-1] = 'Label'\n",
    "    t_i.to_csv('== Local path to node' + str(i+1) + '.csv',sep=',')\n",
    "    #np.savetxt('== Local path to node' + str(i+1) + '.csv',t_i,delimiter=',')\n",
    "               \n",
    "N_g_test = np.array([testing_samples//2,testing_samples//2])\n",
    "g_ind_test = np.concatenate((np.zeros(1, dtype=np.int64), np.cumsum(N_g_test)))\n",
    "N_test = N_g_test.sum()\n",
    "x_n_gen = sample_x_n(N_test, q_gen, random_state=150)\n",
    "Y_test = []\n",
    "for d in range(len(D_i)):\n",
    "    y_t = generate_data(N_g_test, W[d], a_g_gen, mu[d], sigma[d], x_n_gen, view = d+1, random_state=250)\n",
    "    Y_test.append(y_t)\n",
    "\n",
    "gr_test = [0 for _ in range(N_g_test[0])]+[1 for _ in range(N_g_test[1])]\n",
    "gr_test = pd.Series(gr_test)\n",
    "Y_test.append(gr_test)\n",
    "\n",
    "t_test = pd.concat(Y_test, axis=1)"
   ]
  },
  {
   "cell_type": "markdown",
   "id": "d39f160e",
   "metadata": {},
   "source": [
    "## Start the network and setting the client up\n",
    "Before running this notebook:\n",
    "1. You should start the network from fedbiomed-network, as detailed in :\n",
    "https://gitlab.inria.fr/fedbiomed/fedbiomed\n",
    "\n",
    "2. You need to configure at least 2 nodes: <br/>\n",
    "* **Node 1 :** `./scripts/fedbiomed_run node add`\n",
    "  * Select option 1 to add a csv file to the client\n",
    "  * Choose the name, tags and description of the dataset (you can write 'sk' always and it will be good)\n",
    "  * Pick the .csv file you stored the couple X[0],y[0].\n",
    "  * Check that your data has been added in node 1 by executing `./scripts/fedbiomed_run node list`\n",
    "  * Run the node using `./scripts/fedbiomed_run node start`. <br/>\n",
    "\n",
    "* **Node 2 :** Open a second terminal and run ./scripts/fedbiomed_run node add config n2.ini\n",
    "  * Select option 1 to add a csv file to the client\n",
    "  * Choose the name, tags and description of the dataset (you can write 'sk' always and it will be good)\n",
    "  * Pick the .csv file you stored the couple X[1],y[1].\n",
    "  * Check that your data has been added in node 2 by executing `./scripts/fedbiomed_run node config n2.ini list`\n",
    "  * Run the node using `./scripts/fedbiomed_run node config n2.ini start`.\n",
    "  \n",
    "* **Node 3 :** Open a third terminal and run ./scripts/fedbiomed_run node add config n3.ini\n",
    "  * Select option 1 to add a csv file to the client\n",
    "  * Choose the name, tags and description of the dataset (you can write 'sk' always and it will be good)\n",
    "  * Pick the .csv file you stored the couple X[2],y[2].\n",
    "  * Check that your data has been added in node 2 by executing `./scripts/fedbiomed_run node config n3.ini list`\n",
    "  * Run the node using `./scripts/fedbiomed_run node config n3.ini start `.\n",
    "\n",
    " Wait until you get `Connected with result code 0`. it means node is online.\n"
   ]
  },
  {
   "cell_type": "code",
   "execution_count": 3,
   "id": "ade4cbea",
   "metadata": {},
   "outputs": [],
   "source": [
    "%load_ext autoreload\n",
    "%autoreload 2"
   ]
  },
  {
   "cell_type": "code",
   "execution_count": 4,
   "id": "b8c80070",
   "metadata": {},
   "outputs": [],
   "source": [
    "import numpy as np\n",
    "from fedbiomed.researcher.environ import TMP_DIR\n",
    "import tempfile\n",
    "tmp_dir_model = tempfile.TemporaryDirectory(dir=TMP_DIR+'/')\n",
    "model_file = tmp_dir_model.name + '/fed_mv_ppca.py'"
   ]
  },
  {
   "cell_type": "markdown",
   "id": "8e9aaa87",
   "metadata": {},
   "source": [
    "Hereafter the template of the class you should provide to Fedbiomed :\n",
    "       \n",
    "**training_data** : you must return here a tuple (X,X_k,ViewsX,y) or (X,X_k,ViewsX). Note that all centers should provide a dataset with the same view-specific columns. If in a specific center a view has not been observed, then the corresponding columns will be filled of nan. The training_data method take care of identifying view-specific sub-datasets and collecting information concerning non-available observations. Data can also been normalized here."
   ]
  },
  {
   "cell_type": "code",
   "execution_count": 5,
   "id": "f10cc76c",
   "metadata": {},
   "outputs": [
    {
     "name": "stdout",
     "output_type": "stream",
     "text": [
      "Writing /Users/balelli/ownCloud/INRIA_EPIONE/FedBioMed/fedbiomed/var/tmp/tmpvvzacinz/fed_mv_ppca.py\n"
     ]
    }
   ],
   "source": [
    "%%writefile \"$model_file\"\n",
    "\n",
    "from fedbiomed.common.ppca import PpcaPlan\n",
    "import numpy as np\n",
    "\n",
    "\n",
    "class Fed_MV_PPCA(PpcaPlan):\n",
    "    def __init__(self, kwargs):\n",
    "        super(Fed_MV_PPCA, self).__init__(kwargs)\n",
    "    \n",
    "    def training_data(self):\n",
    "        \"\"\"\n",
    "            Perform in this method all data reading and data transformations you need.\n",
    "            At the end you should provide a tuple (X_obs,Xk,ViewsX,y), where: \n",
    "            X_obs is the training dataset, \n",
    "            Xk is a list containing the k-specific dataframe if it exists or 'NaN' otherwise,\n",
    "            ViewsX is the indicator function for observed vies (ViewsX[k]=1 if view k is observed, 0 otherwise)\n",
    "            y the corresponding labels\n",
    "            The dataset is normalized using min max scaler if model_args['norm'] is true\n",
    "            Note: since labels are not needed for the optimization, \n",
    "            training_data can also simply return (X_obs,Xk,ViewsX)\n",
    "            :raise NotImplementedError if developer do not implement this method.\n",
    "        \"\"\"\n",
    "        dataset = pd.read_csv(self.dataset_path,delimiter=',', index_col=0)\n",
    "        X = dataset.iloc[:,:-1]\n",
    "        y = dataset[dataset.columns[-1]]\n",
    "        \n",
    "        # Xk is a list contianing the view-specific local datasets\n",
    "        Xk = []\n",
    "        ViewsX = []\n",
    "        ind = 0\n",
    "        for k in range(self.K):\n",
    "            if X.iloc[:, ind].isnull().values.any():\n",
    "                Xk.append('NaN')\n",
    "                ViewsX.append(0)\n",
    "            else:\n",
    "                # if norm = true, data are normalized with min max scaler\n",
    "                X_k = self.normalize_data(X.iloc[:, ind:ind + self.dim_views[k]]) if self.norm \\\n",
    "                    else X.iloc[:, ind:ind + self.dim_views[k]]\n",
    "                Xk.append(X_k)\n",
    "                ViewsX.append(1)\n",
    "            ind += self.dim_views[k]\n",
    "        \n",
    "        # The entire dataset is re-built without empty columns\n",
    "        Xk_obs = [item for item in Xk if type(item) != str]\n",
    "        X_obs = pd.concat(Xk_obs, axis=1)\n",
    "        \n",
    "        return (X_obs,Xk,ViewsX,y)\n",
    "    "
   ]
  },
  {
   "cell_type": "markdown",
   "id": "69cda129",
   "metadata": {},
   "source": [
    "**model_args** is a dictionary containing the mv-ppca model arguments: the total number of views across all datasets (tot_views), the dimension of each view (dim_views), the latent space size (n_components), and a boolean (norm) for data preprocessing. Additionaly, the researcher can provide priors for one ore more global parameters.\n",
    "\n",
    "**training_args** contains here the number of local iterations for EM/MAP. "
   ]
  },
  {
   "cell_type": "code",
   "execution_count": 6,
   "id": "05aa5273",
   "metadata": {},
   "outputs": [],
   "source": [
    "tot_views = 3\n",
    "dim_views = [15, 8, 10]\n",
    "n_components = 4\n",
    "norm = True\n",
    "\n",
    "model_args = {'tot_views': tot_views, 'dim_views': dim_views, 'n_components': n_components, 'norm': norm}\n",
    "\n",
    "training_args = {'n_iterations': 15}"
   ]
  },
  {
   "cell_type": "code",
   "execution_count": 7,
   "id": "4b1a1341",
   "metadata": {},
   "outputs": [
    {
     "name": "stderr",
     "output_type": "stream",
     "text": [
      "2021-10-11 17:18:43,037 fedbiomed INFO - Messaging researcher_f73a21e9-2868-492a-bcaa-215790d1209d successfully connected to the message broker, object = <fedbiomed.common.messaging.Messaging object at 0x157973c40>\n",
      "2021-10-11 17:18:43,106 fedbiomed INFO - Searching for clients with data tags: ['ppca_data']\n",
      "2021-10-11 17:18:43,147 fedbiomed INFO - message received:{'researcher_id': 'researcher_f73a21e9-2868-492a-bcaa-215790d1209d', 'success': True, 'databases': [{'name': 'ppca_data', 'data_type': 'csv', 'tags': ['ppca_data'], 'description': 'ppca_data', 'shape': [351, 34], 'dataset_id': 'dataset_dae0d8e7-bf06-44c5-9074-a015a7283d32'}], 'count': 1, 'client_id': 'client_e9aebe88-efbc-4733-927c-581c17b65ba4', 'command': 'search'}\n",
      "2021-10-11 17:18:43,151 fedbiomed INFO - message received:{'researcher_id': 'researcher_f73a21e9-2868-492a-bcaa-215790d1209d', 'success': True, 'databases': [{'name': 'ppca_data', 'data_type': 'csv', 'tags': ['ppca_data'], 'description': 'ppca_data', 'shape': [324, 34], 'dataset_id': 'dataset_a976f0ea-ef99-4d3b-a261-ba84bd3c2e98'}], 'count': 1, 'client_id': 'client_e7b1f510-ceb2-4a55-9bdf-f2a54fc3a9a5', 'command': 'search'}\n",
      "2021-10-11 17:18:43,158 fedbiomed INFO - message received:{'researcher_id': 'researcher_f73a21e9-2868-492a-bcaa-215790d1209d', 'success': True, 'databases': [{'name': 'ppca_data', 'data_type': 'csv', 'tags': ['ppca_data'], 'description': 'ppca_data', 'shape': [215, 34], 'dataset_id': 'dataset_e13296e5-d681-4e36-99cb-c3fed191441f'}], 'count': 1, 'client_id': 'client_f2103a22-e8ca-4770-ab00-e9eb3b9767af', 'command': 'search'}\n"
     ]
    }
   ],
   "source": [
    "from fedbiomed.researcher.experiment import Experiment\n",
    "from fedbiomed.researcher.aggregators.mlaggregator import MLaggregator\n",
    "\n",
    "tags =  ['ppca_data']\n",
    "rounds = 15\n",
    "\n",
    "# select nodes participing to this experiment\n",
    "exp = Experiment(tags=tags,\n",
    "                 #clients=None,\n",
    "                 model_path=model_file,\n",
    "                 model_args=model_args,\n",
    "                 model_class='Fed_MV_PPCA',\n",
    "                 training_args=training_args,\n",
    "                 rounds=rounds,\n",
    "                 aggregator=MLaggregator(),\n",
    "                 client_selection_strategy=None)"
   ]
  },
  {
   "cell_type": "code",
   "execution_count": 8,
   "id": "d6ff55da",
   "metadata": {
    "scrolled": false
   },
   "outputs": [
    {
     "name": "stderr",
     "output_type": "stream",
     "text": [
      "2021-10-11 17:18:56,241 fedbiomed INFO - Sampled clients in round 0 ['client_e9aebe88-efbc-4733-927c-581c17b65ba4', 'client_e7b1f510-ceb2-4a55-9bdf-f2a54fc3a9a5', 'client_f2103a22-e8ca-4770-ab00-e9eb3b9767af']\n",
      "2021-10-11 17:18:56,243 fedbiomed INFO - Send message to client client_e9aebe88-efbc-4733-927c-581c17b65ba4 - {'researcher_id': 'researcher_f73a21e9-2868-492a-bcaa-215790d1209d', 'job_id': 'e429db4d-7bf8-4150-9597-2b5b00999084', 'training_args': {'n_iterations': 15}, 'model_args': {'tot_views': 3, 'dim_views': [15, 8, 10], 'n_components': 4, 'norm': True}, 'command': 'train', 'model_url': 'http://localhost:8844/media/uploads/2021/10/11/my_model_505ee41b-4296-4426-9907-d1ba7a4f5371.py', 'params_url': 'http://localhost:8844/media/uploads/2021/10/11/my_model_536bf040-623a-4d98-9e57-122c239f6183.pt', 'model_class': 'Fed_MV_PPCA', 'training_data': {'client_e9aebe88-efbc-4733-927c-581c17b65ba4': ['dataset_dae0d8e7-bf06-44c5-9074-a015a7283d32']}}\n",
      "2021-10-11 17:18:56,245 fedbiomed DEBUG - researcher_f73a21e9-2868-492a-bcaa-215790d1209d\n",
      "2021-10-11 17:18:56,257 fedbiomed INFO - Send message to client client_e7b1f510-ceb2-4a55-9bdf-f2a54fc3a9a5 - {'researcher_id': 'researcher_f73a21e9-2868-492a-bcaa-215790d1209d', 'job_id': 'e429db4d-7bf8-4150-9597-2b5b00999084', 'training_args': {'n_iterations': 15}, 'model_args': {'tot_views': 3, 'dim_views': [15, 8, 10], 'n_components': 4, 'norm': True}, 'command': 'train', 'model_url': 'http://localhost:8844/media/uploads/2021/10/11/my_model_505ee41b-4296-4426-9907-d1ba7a4f5371.py', 'params_url': 'http://localhost:8844/media/uploads/2021/10/11/my_model_536bf040-623a-4d98-9e57-122c239f6183.pt', 'model_class': 'Fed_MV_PPCA', 'training_data': {'client_e7b1f510-ceb2-4a55-9bdf-f2a54fc3a9a5': ['dataset_a976f0ea-ef99-4d3b-a261-ba84bd3c2e98']}}\n",
      "2021-10-11 17:18:56,264 fedbiomed DEBUG - researcher_f73a21e9-2868-492a-bcaa-215790d1209d\n",
      "2021-10-11 17:18:56,268 fedbiomed INFO - Send message to client client_f2103a22-e8ca-4770-ab00-e9eb3b9767af - {'researcher_id': 'researcher_f73a21e9-2868-492a-bcaa-215790d1209d', 'job_id': 'e429db4d-7bf8-4150-9597-2b5b00999084', 'training_args': {'n_iterations': 15}, 'model_args': {'tot_views': 3, 'dim_views': [15, 8, 10], 'n_components': 4, 'norm': True}, 'command': 'train', 'model_url': 'http://localhost:8844/media/uploads/2021/10/11/my_model_505ee41b-4296-4426-9907-d1ba7a4f5371.py', 'params_url': 'http://localhost:8844/media/uploads/2021/10/11/my_model_536bf040-623a-4d98-9e57-122c239f6183.pt', 'model_class': 'Fed_MV_PPCA', 'training_data': {'client_f2103a22-e8ca-4770-ab00-e9eb3b9767af': ['dataset_e13296e5-d681-4e36-99cb-c3fed191441f']}}\n",
      "2021-10-11 17:18:56,281 fedbiomed DEBUG - researcher_f73a21e9-2868-492a-bcaa-215790d1209d\n",
      "2021-10-11 17:19:03,071 fedbiomed INFO - message received:{'researcher_id': 'researcher_f73a21e9-2868-492a-bcaa-215790d1209d', 'job_id': 'e429db4d-7bf8-4150-9597-2b5b00999084', 'success': True, 'client_id': 'client_f2103a22-e8ca-4770-ab00-e9eb3b9767af', 'dataset_id': 'dataset_e13296e5-d681-4e36-99cb-c3fed191441f', 'params_url': 'http://localhost:8844/media/uploads/2021/10/11/node_params_b114d555-8356-4605-a388-2d4920c39b44.pt', 'timing': {'rtime_training': 4.423456788999999, 'ptime_training': 2.516655}, 'msg': '', 'command': 'train'}\n",
      "2021-10-11 17:19:03,636 fedbiomed INFO - message received:{'researcher_id': 'researcher_f73a21e9-2868-492a-bcaa-215790d1209d', 'job_id': 'e429db4d-7bf8-4150-9597-2b5b00999084', 'success': True, 'client_id': 'client_e9aebe88-efbc-4733-927c-581c17b65ba4', 'dataset_id': 'dataset_dae0d8e7-bf06-44c5-9074-a015a7283d32', 'params_url': 'http://localhost:8844/media/uploads/2021/10/11/node_params_f53359a6-5ce1-4c34-94af-cb1448c0f20a.pt', 'timing': {'rtime_training': 4.528135466000002, 'ptime_training': 3.1346449999999995}, 'msg': '', 'command': 'train'}\n",
      "2021-10-11 17:19:04,669 fedbiomed INFO - message received:{'researcher_id': 'researcher_f73a21e9-2868-492a-bcaa-215790d1209d', 'job_id': 'e429db4d-7bf8-4150-9597-2b5b00999084', 'success': True, 'client_id': 'client_e7b1f510-ceb2-4a55-9bdf-f2a54fc3a9a5', 'dataset_id': 'dataset_a976f0ea-ef99-4d3b-a261-ba84bd3c2e98', 'params_url': 'http://localhost:8844/media/uploads/2021/10/11/node_params_d9dd7bc4-632f-4df3-8257-7bcdbf40e87b.pt', 'timing': {'rtime_training': 5.6580399590000034, 'ptime_training': 4.715045}, 'msg': '', 'command': 'train'}\n",
      "2021-10-11 17:19:11,316 fedbiomed INFO - Downloading model params after training on client_f2103a22-e8ca-4770-ab00-e9eb3b9767af - from http://localhost:8844/media/uploads/2021/10/11/node_params_b114d555-8356-4605-a388-2d4920c39b44.pt\n",
      "2021-10-11 17:19:11,374 fedbiomed INFO - Downloading model params after training on client_e9aebe88-efbc-4733-927c-581c17b65ba4 - from http://localhost:8844/media/uploads/2021/10/11/node_params_f53359a6-5ce1-4c34-94af-cb1448c0f20a.pt\n",
      "2021-10-11 17:19:11,408 fedbiomed INFO - Downloading model params after training on client_e7b1f510-ceb2-4a55-9bdf-f2a54fc3a9a5 - from http://localhost:8844/media/uploads/2021/10/11/node_params_d9dd7bc4-632f-4df3-8257-7bcdbf40e87b.pt\n",
      "2021-10-11 17:19:11,452 fedbiomed INFO - Clients that successfully reply in round 0 ['client_f2103a22-e8ca-4770-ab00-e9eb3b9767af', 'client_e9aebe88-efbc-4733-927c-581c17b65ba4', 'client_e7b1f510-ceb2-4a55-9bdf-f2a54fc3a9a5']\n",
      "2021-10-11 17:19:11,552 fedbiomed INFO - Sampled clients in round 1 ['client_e9aebe88-efbc-4733-927c-581c17b65ba4', 'client_e7b1f510-ceb2-4a55-9bdf-f2a54fc3a9a5', 'client_f2103a22-e8ca-4770-ab00-e9eb3b9767af']\n",
      "2021-10-11 17:19:11,553 fedbiomed INFO - Send message to client client_e9aebe88-efbc-4733-927c-581c17b65ba4 - {'researcher_id': 'researcher_f73a21e9-2868-492a-bcaa-215790d1209d', 'job_id': 'e429db4d-7bf8-4150-9597-2b5b00999084', 'training_args': {'n_iterations': 15}, 'model_args': {'tot_views': 3, 'dim_views': [15, 8, 10], 'n_components': 4, 'norm': True}, 'command': 'train', 'model_url': 'http://localhost:8844/media/uploads/2021/10/11/my_model_505ee41b-4296-4426-9907-d1ba7a4f5371.py', 'params_url': 'http://localhost:8844/media/uploads/2021/10/11/researcher_params_25d7ade6-191f-413f-a08e-1efa832a8b6a.pt', 'model_class': 'Fed_MV_PPCA', 'training_data': {'client_e9aebe88-efbc-4733-927c-581c17b65ba4': ['dataset_dae0d8e7-bf06-44c5-9074-a015a7283d32']}}\n",
      "2021-10-11 17:19:11,554 fedbiomed DEBUG - researcher_f73a21e9-2868-492a-bcaa-215790d1209d\n",
      "2021-10-11 17:19:11,559 fedbiomed INFO - Send message to client client_e7b1f510-ceb2-4a55-9bdf-f2a54fc3a9a5 - {'researcher_id': 'researcher_f73a21e9-2868-492a-bcaa-215790d1209d', 'job_id': 'e429db4d-7bf8-4150-9597-2b5b00999084', 'training_args': {'n_iterations': 15}, 'model_args': {'tot_views': 3, 'dim_views': [15, 8, 10], 'n_components': 4, 'norm': True}, 'command': 'train', 'model_url': 'http://localhost:8844/media/uploads/2021/10/11/my_model_505ee41b-4296-4426-9907-d1ba7a4f5371.py', 'params_url': 'http://localhost:8844/media/uploads/2021/10/11/researcher_params_25d7ade6-191f-413f-a08e-1efa832a8b6a.pt', 'model_class': 'Fed_MV_PPCA', 'training_data': {'client_e7b1f510-ceb2-4a55-9bdf-f2a54fc3a9a5': ['dataset_a976f0ea-ef99-4d3b-a261-ba84bd3c2e98']}}\n",
      "2021-10-11 17:19:11,573 fedbiomed DEBUG - researcher_f73a21e9-2868-492a-bcaa-215790d1209d\n",
      "2021-10-11 17:19:11,580 fedbiomed INFO - Send message to client client_f2103a22-e8ca-4770-ab00-e9eb3b9767af - {'researcher_id': 'researcher_f73a21e9-2868-492a-bcaa-215790d1209d', 'job_id': 'e429db4d-7bf8-4150-9597-2b5b00999084', 'training_args': {'n_iterations': 15}, 'model_args': {'tot_views': 3, 'dim_views': [15, 8, 10], 'n_components': 4, 'norm': True}, 'command': 'train', 'model_url': 'http://localhost:8844/media/uploads/2021/10/11/my_model_505ee41b-4296-4426-9907-d1ba7a4f5371.py', 'params_url': 'http://localhost:8844/media/uploads/2021/10/11/researcher_params_25d7ade6-191f-413f-a08e-1efa832a8b6a.pt', 'model_class': 'Fed_MV_PPCA', 'training_data': {'client_f2103a22-e8ca-4770-ab00-e9eb3b9767af': ['dataset_e13296e5-d681-4e36-99cb-c3fed191441f']}}\n",
      "2021-10-11 17:19:11,593 fedbiomed DEBUG - researcher_f73a21e9-2868-492a-bcaa-215790d1209d\n",
      "2021-10-11 17:19:19,004 fedbiomed INFO - message received:{'researcher_id': 'researcher_f73a21e9-2868-492a-bcaa-215790d1209d', 'job_id': 'e429db4d-7bf8-4150-9597-2b5b00999084', 'success': True, 'client_id': 'client_f2103a22-e8ca-4770-ab00-e9eb3b9767af', 'dataset_id': 'dataset_e13296e5-d681-4e36-99cb-c3fed191441f', 'params_url': 'http://localhost:8844/media/uploads/2021/10/11/node_params_ab44452e-d2de-4eb4-a27b-72c738708bcc.pt', 'timing': {'rtime_training': 7.119595590000003, 'ptime_training': 4.287114000000001}, 'msg': '', 'command': 'train'}\n"
     ]
    },
    {
     "name": "stderr",
     "output_type": "stream",
     "text": [
      "2021-10-11 17:19:19,490 fedbiomed INFO - message received:{'researcher_id': 'researcher_f73a21e9-2868-492a-bcaa-215790d1209d', 'job_id': 'e429db4d-7bf8-4150-9597-2b5b00999084', 'success': True, 'client_id': 'client_e9aebe88-efbc-4733-927c-581c17b65ba4', 'dataset_id': 'dataset_dae0d8e7-bf06-44c5-9074-a015a7283d32', 'params_url': 'http://localhost:8844/media/uploads/2021/10/11/node_params_8224dfe6-923b-4474-a849-43b3c56f8abb.pt', 'timing': {'rtime_training': 7.638504230999999, 'ptime_training': 4.882817000000001}, 'msg': '', 'command': 'train'}\n",
      "2021-10-11 17:19:21,193 fedbiomed INFO - message received:{'researcher_id': 'researcher_f73a21e9-2868-492a-bcaa-215790d1209d', 'job_id': 'e429db4d-7bf8-4150-9597-2b5b00999084', 'success': True, 'client_id': 'client_e7b1f510-ceb2-4a55-9bdf-f2a54fc3a9a5', 'dataset_id': 'dataset_a976f0ea-ef99-4d3b-a261-ba84bd3c2e98', 'params_url': 'http://localhost:8844/media/uploads/2021/10/11/node_params_63518adf-80fd-432d-9884-d806dd9ee135.pt', 'timing': {'rtime_training': 9.292039686999999, 'ptime_training': 7.360639999999999}, 'msg': '', 'command': 'train'}\n",
      "2021-10-11 17:19:26,613 fedbiomed INFO - Downloading model params after training on client_f2103a22-e8ca-4770-ab00-e9eb3b9767af - from http://localhost:8844/media/uploads/2021/10/11/node_params_ab44452e-d2de-4eb4-a27b-72c738708bcc.pt\n",
      "2021-10-11 17:19:26,657 fedbiomed INFO - Downloading model params after training on client_e9aebe88-efbc-4733-927c-581c17b65ba4 - from http://localhost:8844/media/uploads/2021/10/11/node_params_8224dfe6-923b-4474-a849-43b3c56f8abb.pt\n",
      "2021-10-11 17:19:26,691 fedbiomed INFO - Downloading model params after training on client_e7b1f510-ceb2-4a55-9bdf-f2a54fc3a9a5 - from http://localhost:8844/media/uploads/2021/10/11/node_params_63518adf-80fd-432d-9884-d806dd9ee135.pt\n",
      "2021-10-11 17:19:26,736 fedbiomed INFO - Clients that successfully reply in round 1 ['client_f2103a22-e8ca-4770-ab00-e9eb3b9767af', 'client_e9aebe88-efbc-4733-927c-581c17b65ba4', 'client_e7b1f510-ceb2-4a55-9bdf-f2a54fc3a9a5']\n",
      "2021-10-11 17:19:26,844 fedbiomed INFO - Sampled clients in round 2 ['client_e9aebe88-efbc-4733-927c-581c17b65ba4', 'client_e7b1f510-ceb2-4a55-9bdf-f2a54fc3a9a5', 'client_f2103a22-e8ca-4770-ab00-e9eb3b9767af']\n",
      "2021-10-11 17:19:26,845 fedbiomed INFO - Send message to client client_e9aebe88-efbc-4733-927c-581c17b65ba4 - {'researcher_id': 'researcher_f73a21e9-2868-492a-bcaa-215790d1209d', 'job_id': 'e429db4d-7bf8-4150-9597-2b5b00999084', 'training_args': {'n_iterations': 15}, 'model_args': {'tot_views': 3, 'dim_views': [15, 8, 10], 'n_components': 4, 'norm': True}, 'command': 'train', 'model_url': 'http://localhost:8844/media/uploads/2021/10/11/my_model_505ee41b-4296-4426-9907-d1ba7a4f5371.py', 'params_url': 'http://localhost:8844/media/uploads/2021/10/11/researcher_params_063bff78-254f-4bfd-85ae-4e58bf65bb7f.pt', 'model_class': 'Fed_MV_PPCA', 'training_data': {'client_e9aebe88-efbc-4733-927c-581c17b65ba4': ['dataset_dae0d8e7-bf06-44c5-9074-a015a7283d32']}}\n",
      "2021-10-11 17:19:26,860 fedbiomed DEBUG - researcher_f73a21e9-2868-492a-bcaa-215790d1209d\n",
      "2021-10-11 17:19:26,862 fedbiomed INFO - Send message to client client_e7b1f510-ceb2-4a55-9bdf-f2a54fc3a9a5 - {'researcher_id': 'researcher_f73a21e9-2868-492a-bcaa-215790d1209d', 'job_id': 'e429db4d-7bf8-4150-9597-2b5b00999084', 'training_args': {'n_iterations': 15}, 'model_args': {'tot_views': 3, 'dim_views': [15, 8, 10], 'n_components': 4, 'norm': True}, 'command': 'train', 'model_url': 'http://localhost:8844/media/uploads/2021/10/11/my_model_505ee41b-4296-4426-9907-d1ba7a4f5371.py', 'params_url': 'http://localhost:8844/media/uploads/2021/10/11/researcher_params_063bff78-254f-4bfd-85ae-4e58bf65bb7f.pt', 'model_class': 'Fed_MV_PPCA', 'training_data': {'client_e7b1f510-ceb2-4a55-9bdf-f2a54fc3a9a5': ['dataset_a976f0ea-ef99-4d3b-a261-ba84bd3c2e98']}}\n",
      "2021-10-11 17:19:26,867 fedbiomed DEBUG - researcher_f73a21e9-2868-492a-bcaa-215790d1209d\n",
      "2021-10-11 17:19:26,875 fedbiomed INFO - Send message to client client_f2103a22-e8ca-4770-ab00-e9eb3b9767af - {'researcher_id': 'researcher_f73a21e9-2868-492a-bcaa-215790d1209d', 'job_id': 'e429db4d-7bf8-4150-9597-2b5b00999084', 'training_args': {'n_iterations': 15}, 'model_args': {'tot_views': 3, 'dim_views': [15, 8, 10], 'n_components': 4, 'norm': True}, 'command': 'train', 'model_url': 'http://localhost:8844/media/uploads/2021/10/11/my_model_505ee41b-4296-4426-9907-d1ba7a4f5371.py', 'params_url': 'http://localhost:8844/media/uploads/2021/10/11/researcher_params_063bff78-254f-4bfd-85ae-4e58bf65bb7f.pt', 'model_class': 'Fed_MV_PPCA', 'training_data': {'client_f2103a22-e8ca-4770-ab00-e9eb3b9767af': ['dataset_e13296e5-d681-4e36-99cb-c3fed191441f']}}\n",
      "2021-10-11 17:19:26,877 fedbiomed DEBUG - researcher_f73a21e9-2868-492a-bcaa-215790d1209d\n",
      "2021-10-11 17:19:32,632 fedbiomed INFO - message received:{'researcher_id': 'researcher_f73a21e9-2868-492a-bcaa-215790d1209d', 'job_id': 'e429db4d-7bf8-4150-9597-2b5b00999084', 'success': True, 'client_id': 'client_f2103a22-e8ca-4770-ab00-e9eb3b9767af', 'dataset_id': 'dataset_e13296e5-d681-4e36-99cb-c3fed191441f', 'params_url': 'http://localhost:8844/media/uploads/2021/10/11/node_params_b6a9b6bb-208a-4cdb-896f-14cab29d5431.pt', 'timing': {'rtime_training': 5.396115065999993, 'ptime_training': 4.078992999999999}, 'msg': '', 'command': 'train'}\n",
      "2021-10-11 17:19:33,059 fedbiomed INFO - message received:{'researcher_id': 'researcher_f73a21e9-2868-492a-bcaa-215790d1209d', 'job_id': 'e429db4d-7bf8-4150-9597-2b5b00999084', 'success': True, 'client_id': 'client_e9aebe88-efbc-4733-927c-581c17b65ba4', 'dataset_id': 'dataset_dae0d8e7-bf06-44c5-9074-a015a7283d32', 'params_url': 'http://localhost:8844/media/uploads/2021/10/11/node_params_7ce44516-66fe-4610-8f8b-e921a095cb04.pt', 'timing': {'rtime_training': 5.791805224000001, 'ptime_training': 4.668965}, 'msg': '', 'command': 'train'}\n",
      "2021-10-11 17:19:34,460 fedbiomed INFO - message received:{'researcher_id': 'researcher_f73a21e9-2868-492a-bcaa-215790d1209d', 'job_id': 'e429db4d-7bf8-4150-9597-2b5b00999084', 'success': True, 'client_id': 'client_e7b1f510-ceb2-4a55-9bdf-f2a54fc3a9a5', 'dataset_id': 'dataset_a976f0ea-ef99-4d3b-a261-ba84bd3c2e98', 'params_url': 'http://localhost:8844/media/uploads/2021/10/11/node_params_910be8d0-1a66-4ebc-82ae-3a138c5d45dd.pt', 'timing': {'rtime_training': 7.141888346999998, 'ptime_training': 9.042447}, 'msg': '', 'command': 'train'}\n",
      "2021-10-11 17:19:41,917 fedbiomed INFO - Downloading model params after training on client_f2103a22-e8ca-4770-ab00-e9eb3b9767af - from http://localhost:8844/media/uploads/2021/10/11/node_params_b6a9b6bb-208a-4cdb-896f-14cab29d5431.pt\n",
      "2021-10-11 17:19:41,963 fedbiomed INFO - Downloading model params after training on client_e9aebe88-efbc-4733-927c-581c17b65ba4 - from http://localhost:8844/media/uploads/2021/10/11/node_params_7ce44516-66fe-4610-8f8b-e921a095cb04.pt\n",
      "2021-10-11 17:19:42,002 fedbiomed INFO - Downloading model params after training on client_e7b1f510-ceb2-4a55-9bdf-f2a54fc3a9a5 - from http://localhost:8844/media/uploads/2021/10/11/node_params_910be8d0-1a66-4ebc-82ae-3a138c5d45dd.pt\n",
      "2021-10-11 17:19:42,042 fedbiomed INFO - Clients that successfully reply in round 2 ['client_f2103a22-e8ca-4770-ab00-e9eb3b9767af', 'client_e9aebe88-efbc-4733-927c-581c17b65ba4', 'client_e7b1f510-ceb2-4a55-9bdf-f2a54fc3a9a5']\n",
      "2021-10-11 17:19:42,161 fedbiomed INFO - Sampled clients in round 3 ['client_e9aebe88-efbc-4733-927c-581c17b65ba4', 'client_e7b1f510-ceb2-4a55-9bdf-f2a54fc3a9a5', 'client_f2103a22-e8ca-4770-ab00-e9eb3b9767af']\n",
      "2021-10-11 17:19:42,162 fedbiomed INFO - Send message to client client_e9aebe88-efbc-4733-927c-581c17b65ba4 - {'researcher_id': 'researcher_f73a21e9-2868-492a-bcaa-215790d1209d', 'job_id': 'e429db4d-7bf8-4150-9597-2b5b00999084', 'training_args': {'n_iterations': 15}, 'model_args': {'tot_views': 3, 'dim_views': [15, 8, 10], 'n_components': 4, 'norm': True}, 'command': 'train', 'model_url': 'http://localhost:8844/media/uploads/2021/10/11/my_model_505ee41b-4296-4426-9907-d1ba7a4f5371.py', 'params_url': 'http://localhost:8844/media/uploads/2021/10/11/researcher_params_08ceef1a-34de-45c7-a238-32de32df1f96.pt', 'model_class': 'Fed_MV_PPCA', 'training_data': {'client_e9aebe88-efbc-4733-927c-581c17b65ba4': ['dataset_dae0d8e7-bf06-44c5-9074-a015a7283d32']}}\n"
     ]
    },
    {
     "name": "stderr",
     "output_type": "stream",
     "text": [
      "2021-10-11 17:19:42,166 fedbiomed DEBUG - researcher_f73a21e9-2868-492a-bcaa-215790d1209d\n",
      "2021-10-11 17:19:42,178 fedbiomed INFO - Send message to client client_e7b1f510-ceb2-4a55-9bdf-f2a54fc3a9a5 - {'researcher_id': 'researcher_f73a21e9-2868-492a-bcaa-215790d1209d', 'job_id': 'e429db4d-7bf8-4150-9597-2b5b00999084', 'training_args': {'n_iterations': 15}, 'model_args': {'tot_views': 3, 'dim_views': [15, 8, 10], 'n_components': 4, 'norm': True}, 'command': 'train', 'model_url': 'http://localhost:8844/media/uploads/2021/10/11/my_model_505ee41b-4296-4426-9907-d1ba7a4f5371.py', 'params_url': 'http://localhost:8844/media/uploads/2021/10/11/researcher_params_08ceef1a-34de-45c7-a238-32de32df1f96.pt', 'model_class': 'Fed_MV_PPCA', 'training_data': {'client_e7b1f510-ceb2-4a55-9bdf-f2a54fc3a9a5': ['dataset_a976f0ea-ef99-4d3b-a261-ba84bd3c2e98']}}\n",
      "2021-10-11 17:19:42,182 fedbiomed DEBUG - researcher_f73a21e9-2868-492a-bcaa-215790d1209d\n",
      "2021-10-11 17:19:42,186 fedbiomed INFO - Send message to client client_f2103a22-e8ca-4770-ab00-e9eb3b9767af - {'researcher_id': 'researcher_f73a21e9-2868-492a-bcaa-215790d1209d', 'job_id': 'e429db4d-7bf8-4150-9597-2b5b00999084', 'training_args': {'n_iterations': 15}, 'model_args': {'tot_views': 3, 'dim_views': [15, 8, 10], 'n_components': 4, 'norm': True}, 'command': 'train', 'model_url': 'http://localhost:8844/media/uploads/2021/10/11/my_model_505ee41b-4296-4426-9907-d1ba7a4f5371.py', 'params_url': 'http://localhost:8844/media/uploads/2021/10/11/researcher_params_08ceef1a-34de-45c7-a238-32de32df1f96.pt', 'model_class': 'Fed_MV_PPCA', 'training_data': {'client_f2103a22-e8ca-4770-ab00-e9eb3b9767af': ['dataset_e13296e5-d681-4e36-99cb-c3fed191441f']}}\n",
      "2021-10-11 17:19:42,189 fedbiomed DEBUG - researcher_f73a21e9-2868-492a-bcaa-215790d1209d\n",
      "2021-10-11 17:19:47,971 fedbiomed INFO - message received:{'researcher_id': 'researcher_f73a21e9-2868-492a-bcaa-215790d1209d', 'job_id': 'e429db4d-7bf8-4150-9597-2b5b00999084', 'success': True, 'client_id': 'client_f2103a22-e8ca-4770-ab00-e9eb3b9767af', 'dataset_id': 'dataset_e13296e5-d681-4e36-99cb-c3fed191441f', 'params_url': 'http://localhost:8844/media/uploads/2021/10/11/node_params_d603804d-e966-4adc-819a-996b8dd62adf.pt', 'timing': {'rtime_training': 5.509952460000008, 'ptime_training': 4.190391}, 'msg': '', 'command': 'train'}\n",
      "2021-10-11 17:19:48,276 fedbiomed INFO - message received:{'researcher_id': 'researcher_f73a21e9-2868-492a-bcaa-215790d1209d', 'job_id': 'e429db4d-7bf8-4150-9597-2b5b00999084', 'success': True, 'client_id': 'client_e9aebe88-efbc-4733-927c-581c17b65ba4', 'dataset_id': 'dataset_dae0d8e7-bf06-44c5-9074-a015a7283d32', 'params_url': 'http://localhost:8844/media/uploads/2021/10/11/node_params_57cf4d8e-d6e7-4059-879b-73554e90db99.pt', 'timing': {'rtime_training': 5.794586715000008, 'ptime_training': 4.562162000000001}, 'msg': '', 'command': 'train'}\n",
      "2021-10-11 17:19:49,746 fedbiomed INFO - message received:{'researcher_id': 'researcher_f73a21e9-2868-492a-bcaa-215790d1209d', 'job_id': 'e429db4d-7bf8-4150-9597-2b5b00999084', 'success': True, 'client_id': 'client_e7b1f510-ceb2-4a55-9bdf-f2a54fc3a9a5', 'dataset_id': 'dataset_a976f0ea-ef99-4d3b-a261-ba84bd3c2e98', 'params_url': 'http://localhost:8844/media/uploads/2021/10/11/node_params_b9a7427f-3e64-48c9-838f-f624639787e9.pt', 'timing': {'rtime_training': 7.272402599000003, 'ptime_training': 9.136035}, 'msg': '', 'command': 'train'}\n",
      "2021-10-11 17:19:57,217 fedbiomed INFO - Downloading model params after training on client_f2103a22-e8ca-4770-ab00-e9eb3b9767af - from http://localhost:8844/media/uploads/2021/10/11/node_params_d603804d-e966-4adc-819a-996b8dd62adf.pt\n",
      "2021-10-11 17:19:57,262 fedbiomed INFO - Downloading model params after training on client_e9aebe88-efbc-4733-927c-581c17b65ba4 - from http://localhost:8844/media/uploads/2021/10/11/node_params_57cf4d8e-d6e7-4059-879b-73554e90db99.pt\n",
      "2021-10-11 17:19:57,298 fedbiomed INFO - Downloading model params after training on client_e7b1f510-ceb2-4a55-9bdf-f2a54fc3a9a5 - from http://localhost:8844/media/uploads/2021/10/11/node_params_b9a7427f-3e64-48c9-838f-f624639787e9.pt\n",
      "2021-10-11 17:19:57,339 fedbiomed INFO - Clients that successfully reply in round 3 ['client_f2103a22-e8ca-4770-ab00-e9eb3b9767af', 'client_e9aebe88-efbc-4733-927c-581c17b65ba4', 'client_e7b1f510-ceb2-4a55-9bdf-f2a54fc3a9a5']\n",
      "2021-10-11 17:19:57,454 fedbiomed INFO - Sampled clients in round 4 ['client_e9aebe88-efbc-4733-927c-581c17b65ba4', 'client_e7b1f510-ceb2-4a55-9bdf-f2a54fc3a9a5', 'client_f2103a22-e8ca-4770-ab00-e9eb3b9767af']\n",
      "2021-10-11 17:19:57,458 fedbiomed INFO - Send message to client client_e9aebe88-efbc-4733-927c-581c17b65ba4 - {'researcher_id': 'researcher_f73a21e9-2868-492a-bcaa-215790d1209d', 'job_id': 'e429db4d-7bf8-4150-9597-2b5b00999084', 'training_args': {'n_iterations': 15}, 'model_args': {'tot_views': 3, 'dim_views': [15, 8, 10], 'n_components': 4, 'norm': True}, 'command': 'train', 'model_url': 'http://localhost:8844/media/uploads/2021/10/11/my_model_505ee41b-4296-4426-9907-d1ba7a4f5371.py', 'params_url': 'http://localhost:8844/media/uploads/2021/10/11/researcher_params_309dd353-6565-46fc-aac4-bce568e5287a.pt', 'model_class': 'Fed_MV_PPCA', 'training_data': {'client_e9aebe88-efbc-4733-927c-581c17b65ba4': ['dataset_dae0d8e7-bf06-44c5-9074-a015a7283d32']}}\n",
      "2021-10-11 17:19:57,462 fedbiomed DEBUG - researcher_f73a21e9-2868-492a-bcaa-215790d1209d\n",
      "2021-10-11 17:19:57,473 fedbiomed INFO - Send message to client client_e7b1f510-ceb2-4a55-9bdf-f2a54fc3a9a5 - {'researcher_id': 'researcher_f73a21e9-2868-492a-bcaa-215790d1209d', 'job_id': 'e429db4d-7bf8-4150-9597-2b5b00999084', 'training_args': {'n_iterations': 15}, 'model_args': {'tot_views': 3, 'dim_views': [15, 8, 10], 'n_components': 4, 'norm': True}, 'command': 'train', 'model_url': 'http://localhost:8844/media/uploads/2021/10/11/my_model_505ee41b-4296-4426-9907-d1ba7a4f5371.py', 'params_url': 'http://localhost:8844/media/uploads/2021/10/11/researcher_params_309dd353-6565-46fc-aac4-bce568e5287a.pt', 'model_class': 'Fed_MV_PPCA', 'training_data': {'client_e7b1f510-ceb2-4a55-9bdf-f2a54fc3a9a5': ['dataset_a976f0ea-ef99-4d3b-a261-ba84bd3c2e98']}}\n",
      "2021-10-11 17:19:57,476 fedbiomed DEBUG - researcher_f73a21e9-2868-492a-bcaa-215790d1209d\n",
      "2021-10-11 17:19:57,485 fedbiomed INFO - Send message to client client_f2103a22-e8ca-4770-ab00-e9eb3b9767af - {'researcher_id': 'researcher_f73a21e9-2868-492a-bcaa-215790d1209d', 'job_id': 'e429db4d-7bf8-4150-9597-2b5b00999084', 'training_args': {'n_iterations': 15}, 'model_args': {'tot_views': 3, 'dim_views': [15, 8, 10], 'n_components': 4, 'norm': True}, 'command': 'train', 'model_url': 'http://localhost:8844/media/uploads/2021/10/11/my_model_505ee41b-4296-4426-9907-d1ba7a4f5371.py', 'params_url': 'http://localhost:8844/media/uploads/2021/10/11/researcher_params_309dd353-6565-46fc-aac4-bce568e5287a.pt', 'model_class': 'Fed_MV_PPCA', 'training_data': {'client_f2103a22-e8ca-4770-ab00-e9eb3b9767af': ['dataset_e13296e5-d681-4e36-99cb-c3fed191441f']}}\n",
      "2021-10-11 17:19:57,490 fedbiomed DEBUG - researcher_f73a21e9-2868-492a-bcaa-215790d1209d\n",
      "2021-10-11 17:20:03,330 fedbiomed INFO - message received:{'researcher_id': 'researcher_f73a21e9-2868-492a-bcaa-215790d1209d', 'job_id': 'e429db4d-7bf8-4150-9597-2b5b00999084', 'success': True, 'client_id': 'client_f2103a22-e8ca-4770-ab00-e9eb3b9767af', 'dataset_id': 'dataset_e13296e5-d681-4e36-99cb-c3fed191441f', 'params_url': 'http://localhost:8844/media/uploads/2021/10/11/node_params_974161b8-3f7f-4de3-abb2-18e283715e8a.pt', 'timing': {'rtime_training': 5.540507166999987, 'ptime_training': 4.326131}, 'msg': '', 'command': 'train'}\n",
      "2021-10-11 17:20:03,639 fedbiomed INFO - message received:{'researcher_id': 'researcher_f73a21e9-2868-492a-bcaa-215790d1209d', 'job_id': 'e429db4d-7bf8-4150-9597-2b5b00999084', 'success': True, 'client_id': 'client_e9aebe88-efbc-4733-927c-581c17b65ba4', 'dataset_id': 'dataset_dae0d8e7-bf06-44c5-9074-a015a7283d32', 'params_url': 'http://localhost:8844/media/uploads/2021/10/11/node_params_0af628ac-a5ce-426b-af4b-5bcec55d0aa5.pt', 'timing': {'rtime_training': 5.887353046999991, 'ptime_training': 4.739791999999998}, 'msg': '', 'command': 'train'}\n",
      "2021-10-11 17:20:06,092 fedbiomed INFO - message received:{'researcher_id': 'researcher_f73a21e9-2868-492a-bcaa-215790d1209d', 'job_id': 'e429db4d-7bf8-4150-9597-2b5b00999084', 'success': True, 'client_id': 'client_e7b1f510-ceb2-4a55-9bdf-f2a54fc3a9a5', 'dataset_id': 'dataset_a976f0ea-ef99-4d3b-a261-ba84bd3c2e98', 'params_url': 'http://localhost:8844/media/uploads/2021/10/11/node_params_d399f348-19be-440b-9d17-381ca1c676ba.pt', 'timing': {'rtime_training': 8.287706669000002, 'ptime_training': 7.187410999999997}, 'msg': '', 'command': 'train'}\n"
     ]
    },
    {
     "name": "stderr",
     "output_type": "stream",
     "text": [
      "2021-10-11 17:20:12,511 fedbiomed INFO - Downloading model params after training on client_f2103a22-e8ca-4770-ab00-e9eb3b9767af - from http://localhost:8844/media/uploads/2021/10/11/node_params_974161b8-3f7f-4de3-abb2-18e283715e8a.pt\n",
      "2021-10-11 17:20:12,545 fedbiomed INFO - Downloading model params after training on client_e9aebe88-efbc-4733-927c-581c17b65ba4 - from http://localhost:8844/media/uploads/2021/10/11/node_params_0af628ac-a5ce-426b-af4b-5bcec55d0aa5.pt\n",
      "2021-10-11 17:20:12,589 fedbiomed INFO - Downloading model params after training on client_e7b1f510-ceb2-4a55-9bdf-f2a54fc3a9a5 - from http://localhost:8844/media/uploads/2021/10/11/node_params_d399f348-19be-440b-9d17-381ca1c676ba.pt\n",
      "2021-10-11 17:20:12,628 fedbiomed INFO - Clients that successfully reply in round 4 ['client_f2103a22-e8ca-4770-ab00-e9eb3b9767af', 'client_e9aebe88-efbc-4733-927c-581c17b65ba4', 'client_e7b1f510-ceb2-4a55-9bdf-f2a54fc3a9a5']\n",
      "2021-10-11 17:20:12,739 fedbiomed INFO - Sampled clients in round 5 ['client_e9aebe88-efbc-4733-927c-581c17b65ba4', 'client_e7b1f510-ceb2-4a55-9bdf-f2a54fc3a9a5', 'client_f2103a22-e8ca-4770-ab00-e9eb3b9767af']\n",
      "2021-10-11 17:20:12,741 fedbiomed INFO - Send message to client client_e9aebe88-efbc-4733-927c-581c17b65ba4 - {'researcher_id': 'researcher_f73a21e9-2868-492a-bcaa-215790d1209d', 'job_id': 'e429db4d-7bf8-4150-9597-2b5b00999084', 'training_args': {'n_iterations': 15}, 'model_args': {'tot_views': 3, 'dim_views': [15, 8, 10], 'n_components': 4, 'norm': True}, 'command': 'train', 'model_url': 'http://localhost:8844/media/uploads/2021/10/11/my_model_505ee41b-4296-4426-9907-d1ba7a4f5371.py', 'params_url': 'http://localhost:8844/media/uploads/2021/10/11/researcher_params_a0b65e07-edc1-49c4-96a3-e42c5962c066.pt', 'model_class': 'Fed_MV_PPCA', 'training_data': {'client_e9aebe88-efbc-4733-927c-581c17b65ba4': ['dataset_dae0d8e7-bf06-44c5-9074-a015a7283d32']}}\n",
      "2021-10-11 17:20:12,743 fedbiomed DEBUG - researcher_f73a21e9-2868-492a-bcaa-215790d1209d\n",
      "2021-10-11 17:20:12,748 fedbiomed INFO - Send message to client client_e7b1f510-ceb2-4a55-9bdf-f2a54fc3a9a5 - {'researcher_id': 'researcher_f73a21e9-2868-492a-bcaa-215790d1209d', 'job_id': 'e429db4d-7bf8-4150-9597-2b5b00999084', 'training_args': {'n_iterations': 15}, 'model_args': {'tot_views': 3, 'dim_views': [15, 8, 10], 'n_components': 4, 'norm': True}, 'command': 'train', 'model_url': 'http://localhost:8844/media/uploads/2021/10/11/my_model_505ee41b-4296-4426-9907-d1ba7a4f5371.py', 'params_url': 'http://localhost:8844/media/uploads/2021/10/11/researcher_params_a0b65e07-edc1-49c4-96a3-e42c5962c066.pt', 'model_class': 'Fed_MV_PPCA', 'training_data': {'client_e7b1f510-ceb2-4a55-9bdf-f2a54fc3a9a5': ['dataset_a976f0ea-ef99-4d3b-a261-ba84bd3c2e98']}}\n",
      "2021-10-11 17:20:12,767 fedbiomed DEBUG - researcher_f73a21e9-2868-492a-bcaa-215790d1209d\n",
      "2021-10-11 17:20:12,771 fedbiomed INFO - Send message to client client_f2103a22-e8ca-4770-ab00-e9eb3b9767af - {'researcher_id': 'researcher_f73a21e9-2868-492a-bcaa-215790d1209d', 'job_id': 'e429db4d-7bf8-4150-9597-2b5b00999084', 'training_args': {'n_iterations': 15}, 'model_args': {'tot_views': 3, 'dim_views': [15, 8, 10], 'n_components': 4, 'norm': True}, 'command': 'train', 'model_url': 'http://localhost:8844/media/uploads/2021/10/11/my_model_505ee41b-4296-4426-9907-d1ba7a4f5371.py', 'params_url': 'http://localhost:8844/media/uploads/2021/10/11/researcher_params_a0b65e07-edc1-49c4-96a3-e42c5962c066.pt', 'model_class': 'Fed_MV_PPCA', 'training_data': {'client_f2103a22-e8ca-4770-ab00-e9eb3b9767af': ['dataset_e13296e5-d681-4e36-99cb-c3fed191441f']}}\n",
      "2021-10-11 17:20:12,773 fedbiomed DEBUG - researcher_f73a21e9-2868-492a-bcaa-215790d1209d\n",
      "2021-10-11 17:20:19,419 fedbiomed INFO - message received:{'researcher_id': 'researcher_f73a21e9-2868-492a-bcaa-215790d1209d', 'job_id': 'e429db4d-7bf8-4150-9597-2b5b00999084', 'success': True, 'client_id': 'client_f2103a22-e8ca-4770-ab00-e9eb3b9767af', 'dataset_id': 'dataset_e13296e5-d681-4e36-99cb-c3fed191441f', 'params_url': 'http://localhost:8844/media/uploads/2021/10/11/node_params_57f4ded9-da73-4701-970e-ed300089feb9.pt', 'timing': {'rtime_training': 6.321309646000003, 'ptime_training': 4.217206000000001}, 'msg': '', 'command': 'train'}\n",
      "2021-10-11 17:20:19,793 fedbiomed INFO - message received:{'researcher_id': 'researcher_f73a21e9-2868-492a-bcaa-215790d1209d', 'job_id': 'e429db4d-7bf8-4150-9597-2b5b00999084', 'success': True, 'client_id': 'client_e9aebe88-efbc-4733-927c-581c17b65ba4', 'dataset_id': 'dataset_dae0d8e7-bf06-44c5-9074-a015a7283d32', 'params_url': 'http://localhost:8844/media/uploads/2021/10/11/node_params_fa3f6f5c-6b5d-4499-96d7-54bac2afb512.pt', 'timing': {'rtime_training': 6.791591115999978, 'ptime_training': 4.744549999999997}, 'msg': '', 'command': 'train'}\n",
      "2021-10-11 17:20:21,147 fedbiomed INFO - message received:{'researcher_id': 'researcher_f73a21e9-2868-492a-bcaa-215790d1209d', 'job_id': 'e429db4d-7bf8-4150-9597-2b5b00999084', 'success': True, 'client_id': 'client_e7b1f510-ceb2-4a55-9bdf-f2a54fc3a9a5', 'dataset_id': 'dataset_a976f0ea-ef99-4d3b-a261-ba84bd3c2e98', 'params_url': 'http://localhost:8844/media/uploads/2021/10/11/node_params_76f41841-8bd2-417a-b40a-42fea2e5058a.pt', 'timing': {'rtime_training': 8.108379458999991, 'ptime_training': 8.969730999999996}, 'msg': '', 'command': 'train'}\n",
      "2021-10-11 17:20:27,795 fedbiomed INFO - Downloading model params after training on client_f2103a22-e8ca-4770-ab00-e9eb3b9767af - from http://localhost:8844/media/uploads/2021/10/11/node_params_57f4ded9-da73-4701-970e-ed300089feb9.pt\n",
      "2021-10-11 17:20:27,842 fedbiomed INFO - Downloading model params after training on client_e9aebe88-efbc-4733-927c-581c17b65ba4 - from http://localhost:8844/media/uploads/2021/10/11/node_params_fa3f6f5c-6b5d-4499-96d7-54bac2afb512.pt\n",
      "2021-10-11 17:20:27,882 fedbiomed INFO - Downloading model params after training on client_e7b1f510-ceb2-4a55-9bdf-f2a54fc3a9a5 - from http://localhost:8844/media/uploads/2021/10/11/node_params_76f41841-8bd2-417a-b40a-42fea2e5058a.pt\n",
      "2021-10-11 17:20:27,930 fedbiomed INFO - Clients that successfully reply in round 5 ['client_f2103a22-e8ca-4770-ab00-e9eb3b9767af', 'client_e9aebe88-efbc-4733-927c-581c17b65ba4', 'client_e7b1f510-ceb2-4a55-9bdf-f2a54fc3a9a5']\n",
      "2021-10-11 17:20:28,070 fedbiomed INFO - Sampled clients in round 6 ['client_e9aebe88-efbc-4733-927c-581c17b65ba4', 'client_e7b1f510-ceb2-4a55-9bdf-f2a54fc3a9a5', 'client_f2103a22-e8ca-4770-ab00-e9eb3b9767af']\n",
      "2021-10-11 17:20:28,071 fedbiomed INFO - Send message to client client_e9aebe88-efbc-4733-927c-581c17b65ba4 - {'researcher_id': 'researcher_f73a21e9-2868-492a-bcaa-215790d1209d', 'job_id': 'e429db4d-7bf8-4150-9597-2b5b00999084', 'training_args': {'n_iterations': 15}, 'model_args': {'tot_views': 3, 'dim_views': [15, 8, 10], 'n_components': 4, 'norm': True}, 'command': 'train', 'model_url': 'http://localhost:8844/media/uploads/2021/10/11/my_model_505ee41b-4296-4426-9907-d1ba7a4f5371.py', 'params_url': 'http://localhost:8844/media/uploads/2021/10/11/researcher_params_a194511f-d9f2-43f7-b73f-52e750d4fe6f.pt', 'model_class': 'Fed_MV_PPCA', 'training_data': {'client_e9aebe88-efbc-4733-927c-581c17b65ba4': ['dataset_dae0d8e7-bf06-44c5-9074-a015a7283d32']}}\n",
      "2021-10-11 17:20:28,071 fedbiomed DEBUG - researcher_f73a21e9-2868-492a-bcaa-215790d1209d\n",
      "2021-10-11 17:20:28,075 fedbiomed INFO - Send message to client client_e7b1f510-ceb2-4a55-9bdf-f2a54fc3a9a5 - {'researcher_id': 'researcher_f73a21e9-2868-492a-bcaa-215790d1209d', 'job_id': 'e429db4d-7bf8-4150-9597-2b5b00999084', 'training_args': {'n_iterations': 15}, 'model_args': {'tot_views': 3, 'dim_views': [15, 8, 10], 'n_components': 4, 'norm': True}, 'command': 'train', 'model_url': 'http://localhost:8844/media/uploads/2021/10/11/my_model_505ee41b-4296-4426-9907-d1ba7a4f5371.py', 'params_url': 'http://localhost:8844/media/uploads/2021/10/11/researcher_params_a194511f-d9f2-43f7-b73f-52e750d4fe6f.pt', 'model_class': 'Fed_MV_PPCA', 'training_data': {'client_e7b1f510-ceb2-4a55-9bdf-f2a54fc3a9a5': ['dataset_a976f0ea-ef99-4d3b-a261-ba84bd3c2e98']}}\n",
      "2021-10-11 17:20:28,096 fedbiomed DEBUG - researcher_f73a21e9-2868-492a-bcaa-215790d1209d\n",
      "2021-10-11 17:20:28,106 fedbiomed INFO - Send message to client client_f2103a22-e8ca-4770-ab00-e9eb3b9767af - {'researcher_id': 'researcher_f73a21e9-2868-492a-bcaa-215790d1209d', 'job_id': 'e429db4d-7bf8-4150-9597-2b5b00999084', 'training_args': {'n_iterations': 15}, 'model_args': {'tot_views': 3, 'dim_views': [15, 8, 10], 'n_components': 4, 'norm': True}, 'command': 'train', 'model_url': 'http://localhost:8844/media/uploads/2021/10/11/my_model_505ee41b-4296-4426-9907-d1ba7a4f5371.py', 'params_url': 'http://localhost:8844/media/uploads/2021/10/11/researcher_params_a194511f-d9f2-43f7-b73f-52e750d4fe6f.pt', 'model_class': 'Fed_MV_PPCA', 'training_data': {'client_f2103a22-e8ca-4770-ab00-e9eb3b9767af': ['dataset_e13296e5-d681-4e36-99cb-c3fed191441f']}}\n"
     ]
    },
    {
     "name": "stderr",
     "output_type": "stream",
     "text": [
      "2021-10-11 17:20:28,110 fedbiomed DEBUG - researcher_f73a21e9-2868-492a-bcaa-215790d1209d\n",
      "2021-10-11 17:20:33,877 fedbiomed INFO - message received:{'researcher_id': 'researcher_f73a21e9-2868-492a-bcaa-215790d1209d', 'job_id': 'e429db4d-7bf8-4150-9597-2b5b00999084', 'success': True, 'client_id': 'client_f2103a22-e8ca-4770-ab00-e9eb3b9767af', 'dataset_id': 'dataset_e13296e5-d681-4e36-99cb-c3fed191441f', 'params_url': 'http://localhost:8844/media/uploads/2021/10/11/node_params_aea909b7-d05e-43f5-85c8-c2c140b70ba1.pt', 'timing': {'rtime_training': 5.489849896999999, 'ptime_training': 4.253733}, 'msg': '', 'command': 'train'}\n",
      "2021-10-11 17:20:34,132 fedbiomed INFO - message received:{'researcher_id': 'researcher_f73a21e9-2868-492a-bcaa-215790d1209d', 'job_id': 'e429db4d-7bf8-4150-9597-2b5b00999084', 'success': True, 'client_id': 'client_e9aebe88-efbc-4733-927c-581c17b65ba4', 'dataset_id': 'dataset_dae0d8e7-bf06-44c5-9074-a015a7283d32', 'params_url': 'http://localhost:8844/media/uploads/2021/10/11/node_params_6a437bb4-29a3-4808-b38c-1a2c76eff10d.pt', 'timing': {'rtime_training': 5.784290824999999, 'ptime_training': 4.7525140000000015}, 'msg': '', 'command': 'train'}\n",
      "2021-10-11 17:20:35,816 fedbiomed INFO - message received:{'researcher_id': 'researcher_f73a21e9-2868-492a-bcaa-215790d1209d', 'job_id': 'e429db4d-7bf8-4150-9597-2b5b00999084', 'success': True, 'client_id': 'client_e7b1f510-ceb2-4a55-9bdf-f2a54fc3a9a5', 'dataset_id': 'dataset_a976f0ea-ef99-4d3b-a261-ba84bd3c2e98', 'params_url': 'http://localhost:8844/media/uploads/2021/10/11/node_params_e1418710-44d4-4dc4-b6ef-53d7bfc81378.pt', 'timing': {'rtime_training': 7.418930290000006, 'ptime_training': 7.081858000000004}, 'msg': '', 'command': 'train'}\n",
      "2021-10-11 17:20:43,137 fedbiomed INFO - Downloading model params after training on client_f2103a22-e8ca-4770-ab00-e9eb3b9767af - from http://localhost:8844/media/uploads/2021/10/11/node_params_aea909b7-d05e-43f5-85c8-c2c140b70ba1.pt\n",
      "2021-10-11 17:20:43,186 fedbiomed INFO - Downloading model params after training on client_e9aebe88-efbc-4733-927c-581c17b65ba4 - from http://localhost:8844/media/uploads/2021/10/11/node_params_6a437bb4-29a3-4808-b38c-1a2c76eff10d.pt\n",
      "2021-10-11 17:20:43,225 fedbiomed INFO - Downloading model params after training on client_e7b1f510-ceb2-4a55-9bdf-f2a54fc3a9a5 - from http://localhost:8844/media/uploads/2021/10/11/node_params_e1418710-44d4-4dc4-b6ef-53d7bfc81378.pt\n",
      "2021-10-11 17:20:43,269 fedbiomed INFO - Clients that successfully reply in round 6 ['client_f2103a22-e8ca-4770-ab00-e9eb3b9767af', 'client_e9aebe88-efbc-4733-927c-581c17b65ba4', 'client_e7b1f510-ceb2-4a55-9bdf-f2a54fc3a9a5']\n",
      "2021-10-11 17:20:43,403 fedbiomed INFO - Sampled clients in round 7 ['client_e9aebe88-efbc-4733-927c-581c17b65ba4', 'client_e7b1f510-ceb2-4a55-9bdf-f2a54fc3a9a5', 'client_f2103a22-e8ca-4770-ab00-e9eb3b9767af']\n",
      "2021-10-11 17:20:43,404 fedbiomed INFO - Send message to client client_e9aebe88-efbc-4733-927c-581c17b65ba4 - {'researcher_id': 'researcher_f73a21e9-2868-492a-bcaa-215790d1209d', 'job_id': 'e429db4d-7bf8-4150-9597-2b5b00999084', 'training_args': {'n_iterations': 15}, 'model_args': {'tot_views': 3, 'dim_views': [15, 8, 10], 'n_components': 4, 'norm': True}, 'command': 'train', 'model_url': 'http://localhost:8844/media/uploads/2021/10/11/my_model_505ee41b-4296-4426-9907-d1ba7a4f5371.py', 'params_url': 'http://localhost:8844/media/uploads/2021/10/11/researcher_params_bd1a00fa-6d51-4dd4-8222-624cf2062b17.pt', 'model_class': 'Fed_MV_PPCA', 'training_data': {'client_e9aebe88-efbc-4733-927c-581c17b65ba4': ['dataset_dae0d8e7-bf06-44c5-9074-a015a7283d32']}}\n",
      "2021-10-11 17:20:43,405 fedbiomed DEBUG - researcher_f73a21e9-2868-492a-bcaa-215790d1209d\n",
      "2021-10-11 17:20:43,418 fedbiomed INFO - Send message to client client_e7b1f510-ceb2-4a55-9bdf-f2a54fc3a9a5 - {'researcher_id': 'researcher_f73a21e9-2868-492a-bcaa-215790d1209d', 'job_id': 'e429db4d-7bf8-4150-9597-2b5b00999084', 'training_args': {'n_iterations': 15}, 'model_args': {'tot_views': 3, 'dim_views': [15, 8, 10], 'n_components': 4, 'norm': True}, 'command': 'train', 'model_url': 'http://localhost:8844/media/uploads/2021/10/11/my_model_505ee41b-4296-4426-9907-d1ba7a4f5371.py', 'params_url': 'http://localhost:8844/media/uploads/2021/10/11/researcher_params_bd1a00fa-6d51-4dd4-8222-624cf2062b17.pt', 'model_class': 'Fed_MV_PPCA', 'training_data': {'client_e7b1f510-ceb2-4a55-9bdf-f2a54fc3a9a5': ['dataset_a976f0ea-ef99-4d3b-a261-ba84bd3c2e98']}}\n",
      "2021-10-11 17:20:43,420 fedbiomed DEBUG - researcher_f73a21e9-2868-492a-bcaa-215790d1209d\n",
      "2021-10-11 17:20:43,428 fedbiomed INFO - Send message to client client_f2103a22-e8ca-4770-ab00-e9eb3b9767af - {'researcher_id': 'researcher_f73a21e9-2868-492a-bcaa-215790d1209d', 'job_id': 'e429db4d-7bf8-4150-9597-2b5b00999084', 'training_args': {'n_iterations': 15}, 'model_args': {'tot_views': 3, 'dim_views': [15, 8, 10], 'n_components': 4, 'norm': True}, 'command': 'train', 'model_url': 'http://localhost:8844/media/uploads/2021/10/11/my_model_505ee41b-4296-4426-9907-d1ba7a4f5371.py', 'params_url': 'http://localhost:8844/media/uploads/2021/10/11/researcher_params_bd1a00fa-6d51-4dd4-8222-624cf2062b17.pt', 'model_class': 'Fed_MV_PPCA', 'training_data': {'client_f2103a22-e8ca-4770-ab00-e9eb3b9767af': ['dataset_e13296e5-d681-4e36-99cb-c3fed191441f']}}\n",
      "2021-10-11 17:20:43,436 fedbiomed DEBUG - researcher_f73a21e9-2868-492a-bcaa-215790d1209d\n",
      "2021-10-11 17:20:49,752 fedbiomed INFO - message received:{'researcher_id': 'researcher_f73a21e9-2868-492a-bcaa-215790d1209d', 'job_id': 'e429db4d-7bf8-4150-9597-2b5b00999084', 'success': True, 'client_id': 'client_f2103a22-e8ca-4770-ab00-e9eb3b9767af', 'dataset_id': 'dataset_e13296e5-d681-4e36-99cb-c3fed191441f', 'params_url': 'http://localhost:8844/media/uploads/2021/10/11/node_params_90ae9af3-cd59-4391-aca7-5d32f55ffd75.pt', 'timing': {'rtime_training': 6.009693112000008, 'ptime_training': 4.231476000000001}, 'msg': '', 'command': 'train'}\n",
      "2021-10-11 17:20:50,533 fedbiomed INFO - message received:{'researcher_id': 'researcher_f73a21e9-2868-492a-bcaa-215790d1209d', 'job_id': 'e429db4d-7bf8-4150-9597-2b5b00999084', 'success': True, 'client_id': 'client_e9aebe88-efbc-4733-927c-581c17b65ba4', 'dataset_id': 'dataset_dae0d8e7-bf06-44c5-9074-a015a7283d32', 'params_url': 'http://localhost:8844/media/uploads/2021/10/11/node_params_e162cf25-bdf5-4adf-9d0e-cb7368b86d1f.pt', 'timing': {'rtime_training': 6.650335713000004, 'ptime_training': 4.734044999999995}, 'msg': '', 'command': 'train'}\n",
      "2021-10-11 17:20:53,364 fedbiomed INFO - message received:{'researcher_id': 'researcher_f73a21e9-2868-492a-bcaa-215790d1209d', 'job_id': 'e429db4d-7bf8-4150-9597-2b5b00999084', 'success': True, 'client_id': 'client_e7b1f510-ceb2-4a55-9bdf-f2a54fc3a9a5', 'dataset_id': 'dataset_a976f0ea-ef99-4d3b-a261-ba84bd3c2e98', 'params_url': 'http://localhost:8844/media/uploads/2021/10/11/node_params_cd10cf8d-441e-4728-9821-a08bbedea348.pt', 'timing': {'rtime_training': 9.600377245000004, 'ptime_training': 6.400682000000003}, 'msg': '', 'command': 'train'}\n",
      "2021-10-11 17:20:58,461 fedbiomed INFO - Downloading model params after training on client_f2103a22-e8ca-4770-ab00-e9eb3b9767af - from http://localhost:8844/media/uploads/2021/10/11/node_params_90ae9af3-cd59-4391-aca7-5d32f55ffd75.pt\n",
      "2021-10-11 17:20:58,510 fedbiomed INFO - Downloading model params after training on client_e9aebe88-efbc-4733-927c-581c17b65ba4 - from http://localhost:8844/media/uploads/2021/10/11/node_params_e162cf25-bdf5-4adf-9d0e-cb7368b86d1f.pt\n",
      "2021-10-11 17:20:58,546 fedbiomed INFO - Downloading model params after training on client_e7b1f510-ceb2-4a55-9bdf-f2a54fc3a9a5 - from http://localhost:8844/media/uploads/2021/10/11/node_params_cd10cf8d-441e-4728-9821-a08bbedea348.pt\n",
      "2021-10-11 17:20:58,591 fedbiomed INFO - Clients that successfully reply in round 7 ['client_f2103a22-e8ca-4770-ab00-e9eb3b9767af', 'client_e9aebe88-efbc-4733-927c-581c17b65ba4', 'client_e7b1f510-ceb2-4a55-9bdf-f2a54fc3a9a5']\n",
      "2021-10-11 17:20:58,816 fedbiomed INFO - Sampled clients in round 8 ['client_e9aebe88-efbc-4733-927c-581c17b65ba4', 'client_e7b1f510-ceb2-4a55-9bdf-f2a54fc3a9a5', 'client_f2103a22-e8ca-4770-ab00-e9eb3b9767af']\n"
     ]
    },
    {
     "name": "stderr",
     "output_type": "stream",
     "text": [
      "2021-10-11 17:20:58,818 fedbiomed INFO - Send message to client client_e9aebe88-efbc-4733-927c-581c17b65ba4 - {'researcher_id': 'researcher_f73a21e9-2868-492a-bcaa-215790d1209d', 'job_id': 'e429db4d-7bf8-4150-9597-2b5b00999084', 'training_args': {'n_iterations': 15}, 'model_args': {'tot_views': 3, 'dim_views': [15, 8, 10], 'n_components': 4, 'norm': True}, 'command': 'train', 'model_url': 'http://localhost:8844/media/uploads/2021/10/11/my_model_505ee41b-4296-4426-9907-d1ba7a4f5371.py', 'params_url': 'http://localhost:8844/media/uploads/2021/10/11/researcher_params_bd96e781-82e6-40ff-ab5a-3be4404bcc6a.pt', 'model_class': 'Fed_MV_PPCA', 'training_data': {'client_e9aebe88-efbc-4733-927c-581c17b65ba4': ['dataset_dae0d8e7-bf06-44c5-9074-a015a7283d32']}}\n",
      "2021-10-11 17:20:58,827 fedbiomed DEBUG - researcher_f73a21e9-2868-492a-bcaa-215790d1209d\n",
      "2021-10-11 17:20:58,836 fedbiomed INFO - Send message to client client_e7b1f510-ceb2-4a55-9bdf-f2a54fc3a9a5 - {'researcher_id': 'researcher_f73a21e9-2868-492a-bcaa-215790d1209d', 'job_id': 'e429db4d-7bf8-4150-9597-2b5b00999084', 'training_args': {'n_iterations': 15}, 'model_args': {'tot_views': 3, 'dim_views': [15, 8, 10], 'n_components': 4, 'norm': True}, 'command': 'train', 'model_url': 'http://localhost:8844/media/uploads/2021/10/11/my_model_505ee41b-4296-4426-9907-d1ba7a4f5371.py', 'params_url': 'http://localhost:8844/media/uploads/2021/10/11/researcher_params_bd96e781-82e6-40ff-ab5a-3be4404bcc6a.pt', 'model_class': 'Fed_MV_PPCA', 'training_data': {'client_e7b1f510-ceb2-4a55-9bdf-f2a54fc3a9a5': ['dataset_a976f0ea-ef99-4d3b-a261-ba84bd3c2e98']}}\n",
      "2021-10-11 17:20:58,837 fedbiomed DEBUG - researcher_f73a21e9-2868-492a-bcaa-215790d1209d\n",
      "2021-10-11 17:20:58,848 fedbiomed INFO - Send message to client client_f2103a22-e8ca-4770-ab00-e9eb3b9767af - {'researcher_id': 'researcher_f73a21e9-2868-492a-bcaa-215790d1209d', 'job_id': 'e429db4d-7bf8-4150-9597-2b5b00999084', 'training_args': {'n_iterations': 15}, 'model_args': {'tot_views': 3, 'dim_views': [15, 8, 10], 'n_components': 4, 'norm': True}, 'command': 'train', 'model_url': 'http://localhost:8844/media/uploads/2021/10/11/my_model_505ee41b-4296-4426-9907-d1ba7a4f5371.py', 'params_url': 'http://localhost:8844/media/uploads/2021/10/11/researcher_params_bd96e781-82e6-40ff-ab5a-3be4404bcc6a.pt', 'model_class': 'Fed_MV_PPCA', 'training_data': {'client_f2103a22-e8ca-4770-ab00-e9eb3b9767af': ['dataset_e13296e5-d681-4e36-99cb-c3fed191441f']}}\n",
      "2021-10-11 17:20:58,850 fedbiomed DEBUG - researcher_f73a21e9-2868-492a-bcaa-215790d1209d\n",
      "2021-10-11 17:21:05,872 fedbiomed INFO - message received:{'researcher_id': 'researcher_f73a21e9-2868-492a-bcaa-215790d1209d', 'job_id': 'e429db4d-7bf8-4150-9597-2b5b00999084', 'success': True, 'client_id': 'client_f2103a22-e8ca-4770-ab00-e9eb3b9767af', 'dataset_id': 'dataset_e13296e5-d681-4e36-99cb-c3fed191441f', 'params_url': 'http://localhost:8844/media/uploads/2021/10/11/node_params_67362cdc-913f-410a-b460-f883694702b9.pt', 'timing': {'rtime_training': 6.749666616000013, 'ptime_training': 4.2670750000000055}, 'msg': '', 'command': 'train'}\n",
      "2021-10-11 17:21:06,204 fedbiomed INFO - message received:{'researcher_id': 'researcher_f73a21e9-2868-492a-bcaa-215790d1209d', 'job_id': 'e429db4d-7bf8-4150-9597-2b5b00999084', 'success': True, 'client_id': 'client_e9aebe88-efbc-4733-927c-581c17b65ba4', 'dataset_id': 'dataset_dae0d8e7-bf06-44c5-9074-a015a7283d32', 'params_url': 'http://localhost:8844/media/uploads/2021/10/11/node_params_751b519c-5d3e-462d-805b-03897e3e8db7.pt', 'timing': {'rtime_training': 7.1001208799999915, 'ptime_training': 4.749392999999998}, 'msg': '', 'command': 'train'}\n",
      "2021-10-11 17:21:08,070 fedbiomed INFO - message received:{'researcher_id': 'researcher_f73a21e9-2868-492a-bcaa-215790d1209d', 'job_id': 'e429db4d-7bf8-4150-9597-2b5b00999084', 'success': True, 'client_id': 'client_e7b1f510-ceb2-4a55-9bdf-f2a54fc3a9a5', 'dataset_id': 'dataset_a976f0ea-ef99-4d3b-a261-ba84bd3c2e98', 'params_url': 'http://localhost:8844/media/uploads/2021/10/11/node_params_aa412a90-e46f-4cf4-aa20-3764b49d178d.pt', 'timing': {'rtime_training': 8.878134344000017, 'ptime_training': 6.760968000000005}, 'msg': '', 'command': 'train'}\n",
      "2021-10-11 17:21:13,881 fedbiomed INFO - Downloading model params after training on client_f2103a22-e8ca-4770-ab00-e9eb3b9767af - from http://localhost:8844/media/uploads/2021/10/11/node_params_67362cdc-913f-410a-b460-f883694702b9.pt\n",
      "2021-10-11 17:21:13,921 fedbiomed INFO - Downloading model params after training on client_e9aebe88-efbc-4733-927c-581c17b65ba4 - from http://localhost:8844/media/uploads/2021/10/11/node_params_751b519c-5d3e-462d-805b-03897e3e8db7.pt\n",
      "2021-10-11 17:21:13,962 fedbiomed INFO - Downloading model params after training on client_e7b1f510-ceb2-4a55-9bdf-f2a54fc3a9a5 - from http://localhost:8844/media/uploads/2021/10/11/node_params_aa412a90-e46f-4cf4-aa20-3764b49d178d.pt\n",
      "2021-10-11 17:21:14,004 fedbiomed INFO - Clients that successfully reply in round 8 ['client_f2103a22-e8ca-4770-ab00-e9eb3b9767af', 'client_e9aebe88-efbc-4733-927c-581c17b65ba4', 'client_e7b1f510-ceb2-4a55-9bdf-f2a54fc3a9a5']\n",
      "2021-10-11 17:21:14,110 fedbiomed INFO - Sampled clients in round 9 ['client_e9aebe88-efbc-4733-927c-581c17b65ba4', 'client_e7b1f510-ceb2-4a55-9bdf-f2a54fc3a9a5', 'client_f2103a22-e8ca-4770-ab00-e9eb3b9767af']\n",
      "2021-10-11 17:21:14,111 fedbiomed INFO - Send message to client client_e9aebe88-efbc-4733-927c-581c17b65ba4 - {'researcher_id': 'researcher_f73a21e9-2868-492a-bcaa-215790d1209d', 'job_id': 'e429db4d-7bf8-4150-9597-2b5b00999084', 'training_args': {'n_iterations': 15}, 'model_args': {'tot_views': 3, 'dim_views': [15, 8, 10], 'n_components': 4, 'norm': True}, 'command': 'train', 'model_url': 'http://localhost:8844/media/uploads/2021/10/11/my_model_505ee41b-4296-4426-9907-d1ba7a4f5371.py', 'params_url': 'http://localhost:8844/media/uploads/2021/10/11/researcher_params_c4c479a0-2bf1-4e84-81c2-16ea7b71adaf.pt', 'model_class': 'Fed_MV_PPCA', 'training_data': {'client_e9aebe88-efbc-4733-927c-581c17b65ba4': ['dataset_dae0d8e7-bf06-44c5-9074-a015a7283d32']}}\n",
      "2021-10-11 17:21:14,112 fedbiomed DEBUG - researcher_f73a21e9-2868-492a-bcaa-215790d1209d\n",
      "2021-10-11 17:21:14,123 fedbiomed INFO - Send message to client client_e7b1f510-ceb2-4a55-9bdf-f2a54fc3a9a5 - {'researcher_id': 'researcher_f73a21e9-2868-492a-bcaa-215790d1209d', 'job_id': 'e429db4d-7bf8-4150-9597-2b5b00999084', 'training_args': {'n_iterations': 15}, 'model_args': {'tot_views': 3, 'dim_views': [15, 8, 10], 'n_components': 4, 'norm': True}, 'command': 'train', 'model_url': 'http://localhost:8844/media/uploads/2021/10/11/my_model_505ee41b-4296-4426-9907-d1ba7a4f5371.py', 'params_url': 'http://localhost:8844/media/uploads/2021/10/11/researcher_params_c4c479a0-2bf1-4e84-81c2-16ea7b71adaf.pt', 'model_class': 'Fed_MV_PPCA', 'training_data': {'client_e7b1f510-ceb2-4a55-9bdf-f2a54fc3a9a5': ['dataset_a976f0ea-ef99-4d3b-a261-ba84bd3c2e98']}}\n",
      "2021-10-11 17:21:14,132 fedbiomed DEBUG - researcher_f73a21e9-2868-492a-bcaa-215790d1209d\n",
      "2021-10-11 17:21:14,142 fedbiomed INFO - Send message to client client_f2103a22-e8ca-4770-ab00-e9eb3b9767af - {'researcher_id': 'researcher_f73a21e9-2868-492a-bcaa-215790d1209d', 'job_id': 'e429db4d-7bf8-4150-9597-2b5b00999084', 'training_args': {'n_iterations': 15}, 'model_args': {'tot_views': 3, 'dim_views': [15, 8, 10], 'n_components': 4, 'norm': True}, 'command': 'train', 'model_url': 'http://localhost:8844/media/uploads/2021/10/11/my_model_505ee41b-4296-4426-9907-d1ba7a4f5371.py', 'params_url': 'http://localhost:8844/media/uploads/2021/10/11/researcher_params_c4c479a0-2bf1-4e84-81c2-16ea7b71adaf.pt', 'model_class': 'Fed_MV_PPCA', 'training_data': {'client_f2103a22-e8ca-4770-ab00-e9eb3b9767af': ['dataset_e13296e5-d681-4e36-99cb-c3fed191441f']}}\n",
      "2021-10-11 17:21:14,147 fedbiomed DEBUG - researcher_f73a21e9-2868-492a-bcaa-215790d1209d\n",
      "2021-10-11 17:21:20,526 fedbiomed INFO - message received:{'researcher_id': 'researcher_f73a21e9-2868-492a-bcaa-215790d1209d', 'job_id': 'e429db4d-7bf8-4150-9597-2b5b00999084', 'success': True, 'client_id': 'client_f2103a22-e8ca-4770-ab00-e9eb3b9767af', 'dataset_id': 'dataset_e13296e5-d681-4e36-99cb-c3fed191441f', 'params_url': 'http://localhost:8844/media/uploads/2021/10/11/node_params_deb70db8-2dc7-4b15-96c5-2a9565b06291.pt', 'timing': {'rtime_training': 6.0590397150000115, 'ptime_training': 4.248545}, 'msg': '', 'command': 'train'}\n"
     ]
    },
    {
     "name": "stderr",
     "output_type": "stream",
     "text": [
      "2021-10-11 17:21:20,905 fedbiomed INFO - message received:{'researcher_id': 'researcher_f73a21e9-2868-492a-bcaa-215790d1209d', 'job_id': 'e429db4d-7bf8-4150-9597-2b5b00999084', 'success': True, 'client_id': 'client_e9aebe88-efbc-4733-927c-581c17b65ba4', 'dataset_id': 'dataset_dae0d8e7-bf06-44c5-9074-a015a7283d32', 'params_url': 'http://localhost:8844/media/uploads/2021/10/11/node_params_c4320bef-eace-4981-8581-af5332b9daae.pt', 'timing': {'rtime_training': 6.394040262999994, 'ptime_training': 4.6168850000000035}, 'msg': '', 'command': 'train'}\n",
      "2021-10-11 17:21:22,859 fedbiomed INFO - message received:{'researcher_id': 'researcher_f73a21e9-2868-492a-bcaa-215790d1209d', 'job_id': 'e429db4d-7bf8-4150-9597-2b5b00999084', 'success': True, 'client_id': 'client_e7b1f510-ceb2-4a55-9bdf-f2a54fc3a9a5', 'dataset_id': 'dataset_a976f0ea-ef99-4d3b-a261-ba84bd3c2e98', 'params_url': 'http://localhost:8844/media/uploads/2021/10/11/node_params_335ea1a7-a039-4f0d-8967-0841e4c1c6b8.pt', 'timing': {'rtime_training': 8.349478431000023, 'ptime_training': 6.728088999999997}, 'msg': '', 'command': 'train'}\n",
      "2021-10-11 17:21:29,170 fedbiomed INFO - Downloading model params after training on client_f2103a22-e8ca-4770-ab00-e9eb3b9767af - from http://localhost:8844/media/uploads/2021/10/11/node_params_deb70db8-2dc7-4b15-96c5-2a9565b06291.pt\n",
      "2021-10-11 17:21:29,213 fedbiomed INFO - Downloading model params after training on client_e9aebe88-efbc-4733-927c-581c17b65ba4 - from http://localhost:8844/media/uploads/2021/10/11/node_params_c4320bef-eace-4981-8581-af5332b9daae.pt\n",
      "2021-10-11 17:21:29,251 fedbiomed INFO - Downloading model params after training on client_e7b1f510-ceb2-4a55-9bdf-f2a54fc3a9a5 - from http://localhost:8844/media/uploads/2021/10/11/node_params_335ea1a7-a039-4f0d-8967-0841e4c1c6b8.pt\n",
      "2021-10-11 17:21:29,294 fedbiomed INFO - Clients that successfully reply in round 9 ['client_f2103a22-e8ca-4770-ab00-e9eb3b9767af', 'client_e9aebe88-efbc-4733-927c-581c17b65ba4', 'client_e7b1f510-ceb2-4a55-9bdf-f2a54fc3a9a5']\n",
      "2021-10-11 17:21:29,409 fedbiomed INFO - Sampled clients in round 10 ['client_e9aebe88-efbc-4733-927c-581c17b65ba4', 'client_e7b1f510-ceb2-4a55-9bdf-f2a54fc3a9a5', 'client_f2103a22-e8ca-4770-ab00-e9eb3b9767af']\n",
      "2021-10-11 17:21:29,410 fedbiomed INFO - Send message to client client_e9aebe88-efbc-4733-927c-581c17b65ba4 - {'researcher_id': 'researcher_f73a21e9-2868-492a-bcaa-215790d1209d', 'job_id': 'e429db4d-7bf8-4150-9597-2b5b00999084', 'training_args': {'n_iterations': 15}, 'model_args': {'tot_views': 3, 'dim_views': [15, 8, 10], 'n_components': 4, 'norm': True}, 'command': 'train', 'model_url': 'http://localhost:8844/media/uploads/2021/10/11/my_model_505ee41b-4296-4426-9907-d1ba7a4f5371.py', 'params_url': 'http://localhost:8844/media/uploads/2021/10/11/researcher_params_b957120d-de93-409c-910f-a07ffac14c0a.pt', 'model_class': 'Fed_MV_PPCA', 'training_data': {'client_e9aebe88-efbc-4733-927c-581c17b65ba4': ['dataset_dae0d8e7-bf06-44c5-9074-a015a7283d32']}}\n",
      "2021-10-11 17:21:29,411 fedbiomed DEBUG - researcher_f73a21e9-2868-492a-bcaa-215790d1209d\n",
      "2021-10-11 17:21:29,413 fedbiomed INFO - Send message to client client_e7b1f510-ceb2-4a55-9bdf-f2a54fc3a9a5 - {'researcher_id': 'researcher_f73a21e9-2868-492a-bcaa-215790d1209d', 'job_id': 'e429db4d-7bf8-4150-9597-2b5b00999084', 'training_args': {'n_iterations': 15}, 'model_args': {'tot_views': 3, 'dim_views': [15, 8, 10], 'n_components': 4, 'norm': True}, 'command': 'train', 'model_url': 'http://localhost:8844/media/uploads/2021/10/11/my_model_505ee41b-4296-4426-9907-d1ba7a4f5371.py', 'params_url': 'http://localhost:8844/media/uploads/2021/10/11/researcher_params_b957120d-de93-409c-910f-a07ffac14c0a.pt', 'model_class': 'Fed_MV_PPCA', 'training_data': {'client_e7b1f510-ceb2-4a55-9bdf-f2a54fc3a9a5': ['dataset_a976f0ea-ef99-4d3b-a261-ba84bd3c2e98']}}\n",
      "2021-10-11 17:21:29,434 fedbiomed DEBUG - researcher_f73a21e9-2868-492a-bcaa-215790d1209d\n",
      "2021-10-11 17:21:29,445 fedbiomed INFO - Send message to client client_f2103a22-e8ca-4770-ab00-e9eb3b9767af - {'researcher_id': 'researcher_f73a21e9-2868-492a-bcaa-215790d1209d', 'job_id': 'e429db4d-7bf8-4150-9597-2b5b00999084', 'training_args': {'n_iterations': 15}, 'model_args': {'tot_views': 3, 'dim_views': [15, 8, 10], 'n_components': 4, 'norm': True}, 'command': 'train', 'model_url': 'http://localhost:8844/media/uploads/2021/10/11/my_model_505ee41b-4296-4426-9907-d1ba7a4f5371.py', 'params_url': 'http://localhost:8844/media/uploads/2021/10/11/researcher_params_b957120d-de93-409c-910f-a07ffac14c0a.pt', 'model_class': 'Fed_MV_PPCA', 'training_data': {'client_f2103a22-e8ca-4770-ab00-e9eb3b9767af': ['dataset_e13296e5-d681-4e36-99cb-c3fed191441f']}}\n",
      "2021-10-11 17:21:29,451 fedbiomed DEBUG - researcher_f73a21e9-2868-492a-bcaa-215790d1209d\n",
      "2021-10-11 17:21:35,495 fedbiomed INFO - message received:{'researcher_id': 'researcher_f73a21e9-2868-492a-bcaa-215790d1209d', 'job_id': 'e429db4d-7bf8-4150-9597-2b5b00999084', 'success': True, 'client_id': 'client_f2103a22-e8ca-4770-ab00-e9eb3b9767af', 'dataset_id': 'dataset_e13296e5-d681-4e36-99cb-c3fed191441f', 'params_url': 'http://localhost:8844/media/uploads/2021/10/11/node_params_2f4dcf45-42bd-4272-9b24-748a8d2bd26b.pt', 'timing': {'rtime_training': 5.727941176999991, 'ptime_training': 4.207208999999999}, 'msg': '', 'command': 'train'}\n",
      "2021-10-11 17:21:35,865 fedbiomed INFO - message received:{'researcher_id': 'researcher_f73a21e9-2868-492a-bcaa-215790d1209d', 'job_id': 'e429db4d-7bf8-4150-9597-2b5b00999084', 'success': True, 'client_id': 'client_e9aebe88-efbc-4733-927c-581c17b65ba4', 'dataset_id': 'dataset_dae0d8e7-bf06-44c5-9074-a015a7283d32', 'params_url': 'http://localhost:8844/media/uploads/2021/10/11/node_params_e6a2146c-20fd-4a9b-a641-661dad7f23dc.pt', 'timing': {'rtime_training': 6.071835088, 'ptime_training': 4.694074999999998}, 'msg': '', 'command': 'train'}\n",
      "2021-10-11 17:21:37,283 fedbiomed INFO - message received:{'researcher_id': 'researcher_f73a21e9-2868-492a-bcaa-215790d1209d', 'job_id': 'e429db4d-7bf8-4150-9597-2b5b00999084', 'success': True, 'client_id': 'client_e7b1f510-ceb2-4a55-9bdf-f2a54fc3a9a5', 'dataset_id': 'dataset_a976f0ea-ef99-4d3b-a261-ba84bd3c2e98', 'params_url': 'http://localhost:8844/media/uploads/2021/10/11/node_params_7659fd8f-2da6-485e-91c0-352408359ea4.pt', 'timing': {'rtime_training': 7.506166452000002, 'ptime_training': 9.108821000000006}, 'msg': '', 'command': 'train'}\n",
      "2021-10-11 17:21:44,481 fedbiomed INFO - Downloading model params after training on client_f2103a22-e8ca-4770-ab00-e9eb3b9767af - from http://localhost:8844/media/uploads/2021/10/11/node_params_2f4dcf45-42bd-4272-9b24-748a8d2bd26b.pt\n",
      "2021-10-11 17:21:44,537 fedbiomed INFO - Downloading model params after training on client_e9aebe88-efbc-4733-927c-581c17b65ba4 - from http://localhost:8844/media/uploads/2021/10/11/node_params_e6a2146c-20fd-4a9b-a641-661dad7f23dc.pt\n",
      "2021-10-11 17:21:44,580 fedbiomed INFO - Downloading model params after training on client_e7b1f510-ceb2-4a55-9bdf-f2a54fc3a9a5 - from http://localhost:8844/media/uploads/2021/10/11/node_params_7659fd8f-2da6-485e-91c0-352408359ea4.pt\n",
      "2021-10-11 17:21:44,616 fedbiomed INFO - Clients that successfully reply in round 10 ['client_f2103a22-e8ca-4770-ab00-e9eb3b9767af', 'client_e9aebe88-efbc-4733-927c-581c17b65ba4', 'client_e7b1f510-ceb2-4a55-9bdf-f2a54fc3a9a5']\n",
      "2021-10-11 17:21:44,761 fedbiomed INFO - Sampled clients in round 11 ['client_e9aebe88-efbc-4733-927c-581c17b65ba4', 'client_e7b1f510-ceb2-4a55-9bdf-f2a54fc3a9a5', 'client_f2103a22-e8ca-4770-ab00-e9eb3b9767af']\n",
      "2021-10-11 17:21:44,763 fedbiomed INFO - Send message to client client_e9aebe88-efbc-4733-927c-581c17b65ba4 - {'researcher_id': 'researcher_f73a21e9-2868-492a-bcaa-215790d1209d', 'job_id': 'e429db4d-7bf8-4150-9597-2b5b00999084', 'training_args': {'n_iterations': 15}, 'model_args': {'tot_views': 3, 'dim_views': [15, 8, 10], 'n_components': 4, 'norm': True}, 'command': 'train', 'model_url': 'http://localhost:8844/media/uploads/2021/10/11/my_model_505ee41b-4296-4426-9907-d1ba7a4f5371.py', 'params_url': 'http://localhost:8844/media/uploads/2021/10/11/researcher_params_0fb0a4d0-efb2-4d61-8849-cd38c95ea407.pt', 'model_class': 'Fed_MV_PPCA', 'training_data': {'client_e9aebe88-efbc-4733-927c-581c17b65ba4': ['dataset_dae0d8e7-bf06-44c5-9074-a015a7283d32']}}\n"
     ]
    },
    {
     "name": "stderr",
     "output_type": "stream",
     "text": [
      "2021-10-11 17:21:44,769 fedbiomed DEBUG - researcher_f73a21e9-2868-492a-bcaa-215790d1209d\n",
      "2021-10-11 17:21:44,781 fedbiomed INFO - Send message to client client_e7b1f510-ceb2-4a55-9bdf-f2a54fc3a9a5 - {'researcher_id': 'researcher_f73a21e9-2868-492a-bcaa-215790d1209d', 'job_id': 'e429db4d-7bf8-4150-9597-2b5b00999084', 'training_args': {'n_iterations': 15}, 'model_args': {'tot_views': 3, 'dim_views': [15, 8, 10], 'n_components': 4, 'norm': True}, 'command': 'train', 'model_url': 'http://localhost:8844/media/uploads/2021/10/11/my_model_505ee41b-4296-4426-9907-d1ba7a4f5371.py', 'params_url': 'http://localhost:8844/media/uploads/2021/10/11/researcher_params_0fb0a4d0-efb2-4d61-8849-cd38c95ea407.pt', 'model_class': 'Fed_MV_PPCA', 'training_data': {'client_e7b1f510-ceb2-4a55-9bdf-f2a54fc3a9a5': ['dataset_a976f0ea-ef99-4d3b-a261-ba84bd3c2e98']}}\n",
      "2021-10-11 17:21:44,782 fedbiomed DEBUG - researcher_f73a21e9-2868-492a-bcaa-215790d1209d\n",
      "2021-10-11 17:21:44,792 fedbiomed INFO - Send message to client client_f2103a22-e8ca-4770-ab00-e9eb3b9767af - {'researcher_id': 'researcher_f73a21e9-2868-492a-bcaa-215790d1209d', 'job_id': 'e429db4d-7bf8-4150-9597-2b5b00999084', 'training_args': {'n_iterations': 15}, 'model_args': {'tot_views': 3, 'dim_views': [15, 8, 10], 'n_components': 4, 'norm': True}, 'command': 'train', 'model_url': 'http://localhost:8844/media/uploads/2021/10/11/my_model_505ee41b-4296-4426-9907-d1ba7a4f5371.py', 'params_url': 'http://localhost:8844/media/uploads/2021/10/11/researcher_params_0fb0a4d0-efb2-4d61-8849-cd38c95ea407.pt', 'model_class': 'Fed_MV_PPCA', 'training_data': {'client_f2103a22-e8ca-4770-ab00-e9eb3b9767af': ['dataset_e13296e5-d681-4e36-99cb-c3fed191441f']}}\n",
      "2021-10-11 17:21:44,795 fedbiomed DEBUG - researcher_f73a21e9-2868-492a-bcaa-215790d1209d\n",
      "2021-10-11 17:21:51,910 fedbiomed INFO - message received:{'researcher_id': 'researcher_f73a21e9-2868-492a-bcaa-215790d1209d', 'job_id': 'e429db4d-7bf8-4150-9597-2b5b00999084', 'success': True, 'client_id': 'client_f2103a22-e8ca-4770-ab00-e9eb3b9767af', 'dataset_id': 'dataset_e13296e5-d681-4e36-99cb-c3fed191441f', 'params_url': 'http://localhost:8844/media/uploads/2021/10/11/node_params_344d3339-996a-4505-8994-fd34c24851f0.pt', 'timing': {'rtime_training': 6.704343969000007, 'ptime_training': 4.328969999999998}, 'msg': '', 'command': 'train'}\n",
      "2021-10-11 17:21:52,163 fedbiomed INFO - message received:{'researcher_id': 'researcher_f73a21e9-2868-492a-bcaa-215790d1209d', 'job_id': 'e429db4d-7bf8-4150-9597-2b5b00999084', 'success': True, 'client_id': 'client_e9aebe88-efbc-4733-927c-581c17b65ba4', 'dataset_id': 'dataset_dae0d8e7-bf06-44c5-9074-a015a7283d32', 'params_url': 'http://localhost:8844/media/uploads/2021/10/11/node_params_bab50ec1-6005-4461-be8a-edbb6a9236c5.pt', 'timing': {'rtime_training': 7.109053916999983, 'ptime_training': 4.686644999999999}, 'msg': '', 'command': 'train'}\n",
      "2021-10-11 17:21:53,566 fedbiomed INFO - message received:{'researcher_id': 'researcher_f73a21e9-2868-492a-bcaa-215790d1209d', 'job_id': 'e429db4d-7bf8-4150-9597-2b5b00999084', 'success': True, 'client_id': 'client_e7b1f510-ceb2-4a55-9bdf-f2a54fc3a9a5', 'dataset_id': 'dataset_a976f0ea-ef99-4d3b-a261-ba84bd3c2e98', 'params_url': 'http://localhost:8844/media/uploads/2021/10/11/node_params_02396400-4dca-431f-91cf-b704c9f90420.pt', 'timing': {'rtime_training': 8.412031181000003, 'ptime_training': 9.044224}, 'msg': '', 'command': 'train'}\n",
      "2021-10-11 17:21:59,821 fedbiomed INFO - Downloading model params after training on client_f2103a22-e8ca-4770-ab00-e9eb3b9767af - from http://localhost:8844/media/uploads/2021/10/11/node_params_344d3339-996a-4505-8994-fd34c24851f0.pt\n",
      "2021-10-11 17:21:59,867 fedbiomed INFO - Downloading model params after training on client_e9aebe88-efbc-4733-927c-581c17b65ba4 - from http://localhost:8844/media/uploads/2021/10/11/node_params_bab50ec1-6005-4461-be8a-edbb6a9236c5.pt\n",
      "2021-10-11 17:21:59,917 fedbiomed INFO - Downloading model params after training on client_e7b1f510-ceb2-4a55-9bdf-f2a54fc3a9a5 - from http://localhost:8844/media/uploads/2021/10/11/node_params_02396400-4dca-431f-91cf-b704c9f90420.pt\n",
      "2021-10-11 17:21:59,973 fedbiomed INFO - Clients that successfully reply in round 11 ['client_f2103a22-e8ca-4770-ab00-e9eb3b9767af', 'client_e9aebe88-efbc-4733-927c-581c17b65ba4', 'client_e7b1f510-ceb2-4a55-9bdf-f2a54fc3a9a5']\n",
      "2021-10-11 17:22:00,184 fedbiomed INFO - Sampled clients in round 12 ['client_e9aebe88-efbc-4733-927c-581c17b65ba4', 'client_e7b1f510-ceb2-4a55-9bdf-f2a54fc3a9a5', 'client_f2103a22-e8ca-4770-ab00-e9eb3b9767af']\n",
      "2021-10-11 17:22:00,187 fedbiomed INFO - Send message to client client_e9aebe88-efbc-4733-927c-581c17b65ba4 - {'researcher_id': 'researcher_f73a21e9-2868-492a-bcaa-215790d1209d', 'job_id': 'e429db4d-7bf8-4150-9597-2b5b00999084', 'training_args': {'n_iterations': 15}, 'model_args': {'tot_views': 3, 'dim_views': [15, 8, 10], 'n_components': 4, 'norm': True}, 'command': 'train', 'model_url': 'http://localhost:8844/media/uploads/2021/10/11/my_model_505ee41b-4296-4426-9907-d1ba7a4f5371.py', 'params_url': 'http://localhost:8844/media/uploads/2021/10/11/researcher_params_8721be08-f05a-43bb-9794-d9ce305b607b.pt', 'model_class': 'Fed_MV_PPCA', 'training_data': {'client_e9aebe88-efbc-4733-927c-581c17b65ba4': ['dataset_dae0d8e7-bf06-44c5-9074-a015a7283d32']}}\n",
      "2021-10-11 17:22:00,191 fedbiomed DEBUG - researcher_f73a21e9-2868-492a-bcaa-215790d1209d\n",
      "2021-10-11 17:22:00,207 fedbiomed INFO - Send message to client client_e7b1f510-ceb2-4a55-9bdf-f2a54fc3a9a5 - {'researcher_id': 'researcher_f73a21e9-2868-492a-bcaa-215790d1209d', 'job_id': 'e429db4d-7bf8-4150-9597-2b5b00999084', 'training_args': {'n_iterations': 15}, 'model_args': {'tot_views': 3, 'dim_views': [15, 8, 10], 'n_components': 4, 'norm': True}, 'command': 'train', 'model_url': 'http://localhost:8844/media/uploads/2021/10/11/my_model_505ee41b-4296-4426-9907-d1ba7a4f5371.py', 'params_url': 'http://localhost:8844/media/uploads/2021/10/11/researcher_params_8721be08-f05a-43bb-9794-d9ce305b607b.pt', 'model_class': 'Fed_MV_PPCA', 'training_data': {'client_e7b1f510-ceb2-4a55-9bdf-f2a54fc3a9a5': ['dataset_a976f0ea-ef99-4d3b-a261-ba84bd3c2e98']}}\n",
      "2021-10-11 17:22:00,216 fedbiomed DEBUG - researcher_f73a21e9-2868-492a-bcaa-215790d1209d\n",
      "2021-10-11 17:22:00,219 fedbiomed INFO - Send message to client client_f2103a22-e8ca-4770-ab00-e9eb3b9767af - {'researcher_id': 'researcher_f73a21e9-2868-492a-bcaa-215790d1209d', 'job_id': 'e429db4d-7bf8-4150-9597-2b5b00999084', 'training_args': {'n_iterations': 15}, 'model_args': {'tot_views': 3, 'dim_views': [15, 8, 10], 'n_components': 4, 'norm': True}, 'command': 'train', 'model_url': 'http://localhost:8844/media/uploads/2021/10/11/my_model_505ee41b-4296-4426-9907-d1ba7a4f5371.py', 'params_url': 'http://localhost:8844/media/uploads/2021/10/11/researcher_params_8721be08-f05a-43bb-9794-d9ce305b607b.pt', 'model_class': 'Fed_MV_PPCA', 'training_data': {'client_f2103a22-e8ca-4770-ab00-e9eb3b9767af': ['dataset_e13296e5-d681-4e36-99cb-c3fed191441f']}}\n",
      "2021-10-11 17:22:00,229 fedbiomed DEBUG - researcher_f73a21e9-2868-492a-bcaa-215790d1209d\n",
      "2021-10-11 17:22:07,324 fedbiomed INFO - message received:{'researcher_id': 'researcher_f73a21e9-2868-492a-bcaa-215790d1209d', 'job_id': 'e429db4d-7bf8-4150-9597-2b5b00999084', 'success': True, 'client_id': 'client_f2103a22-e8ca-4770-ab00-e9eb3b9767af', 'dataset_id': 'dataset_e13296e5-d681-4e36-99cb-c3fed191441f', 'params_url': 'http://localhost:8844/media/uploads/2021/10/11/node_params_59f9f346-9f28-4fe9-81a9-7fc155dbb88b.pt', 'timing': {'rtime_training': 6.737182278999967, 'ptime_training': 4.34516}, 'msg': '', 'command': 'train'}\n",
      "2021-10-11 17:22:07,602 fedbiomed INFO - message received:{'researcher_id': 'researcher_f73a21e9-2868-492a-bcaa-215790d1209d', 'job_id': 'e429db4d-7bf8-4150-9597-2b5b00999084', 'success': True, 'client_id': 'client_e9aebe88-efbc-4733-927c-581c17b65ba4', 'dataset_id': 'dataset_dae0d8e7-bf06-44c5-9074-a015a7283d32', 'params_url': 'http://localhost:8844/media/uploads/2021/10/11/node_params_21b53a4f-382d-448a-b67b-7ed0487ad665.pt', 'timing': {'rtime_training': 7.1372123220000105, 'ptime_training': 4.806030999999997}, 'msg': '', 'command': 'train'}\n"
     ]
    },
    {
     "name": "stderr",
     "output_type": "stream",
     "text": [
      "2021-10-11 17:22:09,456 fedbiomed INFO - message received:{'researcher_id': 'researcher_f73a21e9-2868-492a-bcaa-215790d1209d', 'job_id': 'e429db4d-7bf8-4150-9597-2b5b00999084', 'success': True, 'client_id': 'client_e7b1f510-ceb2-4a55-9bdf-f2a54fc3a9a5', 'dataset_id': 'dataset_a976f0ea-ef99-4d3b-a261-ba84bd3c2e98', 'params_url': 'http://localhost:8844/media/uploads/2021/10/11/node_params_cc30d681-dbda-43c0-ac9b-acad48efcfb9.pt', 'timing': {'rtime_training': 8.664217627, 'ptime_training': 7.270694000000006}, 'msg': '', 'command': 'train'}\n",
      "2021-10-11 17:22:15,238 fedbiomed INFO - Downloading model params after training on client_f2103a22-e8ca-4770-ab00-e9eb3b9767af - from http://localhost:8844/media/uploads/2021/10/11/node_params_59f9f346-9f28-4fe9-81a9-7fc155dbb88b.pt\n",
      "2021-10-11 17:22:15,284 fedbiomed INFO - Downloading model params after training on client_e9aebe88-efbc-4733-927c-581c17b65ba4 - from http://localhost:8844/media/uploads/2021/10/11/node_params_21b53a4f-382d-448a-b67b-7ed0487ad665.pt\n",
      "2021-10-11 17:22:15,323 fedbiomed INFO - Downloading model params after training on client_e7b1f510-ceb2-4a55-9bdf-f2a54fc3a9a5 - from http://localhost:8844/media/uploads/2021/10/11/node_params_cc30d681-dbda-43c0-ac9b-acad48efcfb9.pt\n",
      "2021-10-11 17:22:15,370 fedbiomed INFO - Clients that successfully reply in round 12 ['client_f2103a22-e8ca-4770-ab00-e9eb3b9767af', 'client_e9aebe88-efbc-4733-927c-581c17b65ba4', 'client_e7b1f510-ceb2-4a55-9bdf-f2a54fc3a9a5']\n",
      "2021-10-11 17:22:15,505 fedbiomed INFO - Sampled clients in round 13 ['client_e9aebe88-efbc-4733-927c-581c17b65ba4', 'client_e7b1f510-ceb2-4a55-9bdf-f2a54fc3a9a5', 'client_f2103a22-e8ca-4770-ab00-e9eb3b9767af']\n",
      "2021-10-11 17:22:15,507 fedbiomed INFO - Send message to client client_e9aebe88-efbc-4733-927c-581c17b65ba4 - {'researcher_id': 'researcher_f73a21e9-2868-492a-bcaa-215790d1209d', 'job_id': 'e429db4d-7bf8-4150-9597-2b5b00999084', 'training_args': {'n_iterations': 15}, 'model_args': {'tot_views': 3, 'dim_views': [15, 8, 10], 'n_components': 4, 'norm': True}, 'command': 'train', 'model_url': 'http://localhost:8844/media/uploads/2021/10/11/my_model_505ee41b-4296-4426-9907-d1ba7a4f5371.py', 'params_url': 'http://localhost:8844/media/uploads/2021/10/11/researcher_params_81fc1b93-04c8-443a-8282-38b3d0eba7f2.pt', 'model_class': 'Fed_MV_PPCA', 'training_data': {'client_e9aebe88-efbc-4733-927c-581c17b65ba4': ['dataset_dae0d8e7-bf06-44c5-9074-a015a7283d32']}}\n",
      "2021-10-11 17:22:15,519 fedbiomed DEBUG - researcher_f73a21e9-2868-492a-bcaa-215790d1209d\n",
      "2021-10-11 17:22:15,532 fedbiomed INFO - Send message to client client_e7b1f510-ceb2-4a55-9bdf-f2a54fc3a9a5 - {'researcher_id': 'researcher_f73a21e9-2868-492a-bcaa-215790d1209d', 'job_id': 'e429db4d-7bf8-4150-9597-2b5b00999084', 'training_args': {'n_iterations': 15}, 'model_args': {'tot_views': 3, 'dim_views': [15, 8, 10], 'n_components': 4, 'norm': True}, 'command': 'train', 'model_url': 'http://localhost:8844/media/uploads/2021/10/11/my_model_505ee41b-4296-4426-9907-d1ba7a4f5371.py', 'params_url': 'http://localhost:8844/media/uploads/2021/10/11/researcher_params_81fc1b93-04c8-443a-8282-38b3d0eba7f2.pt', 'model_class': 'Fed_MV_PPCA', 'training_data': {'client_e7b1f510-ceb2-4a55-9bdf-f2a54fc3a9a5': ['dataset_a976f0ea-ef99-4d3b-a261-ba84bd3c2e98']}}\n",
      "2021-10-11 17:22:15,536 fedbiomed DEBUG - researcher_f73a21e9-2868-492a-bcaa-215790d1209d\n",
      "2021-10-11 17:22:15,545 fedbiomed INFO - Send message to client client_f2103a22-e8ca-4770-ab00-e9eb3b9767af - {'researcher_id': 'researcher_f73a21e9-2868-492a-bcaa-215790d1209d', 'job_id': 'e429db4d-7bf8-4150-9597-2b5b00999084', 'training_args': {'n_iterations': 15}, 'model_args': {'tot_views': 3, 'dim_views': [15, 8, 10], 'n_components': 4, 'norm': True}, 'command': 'train', 'model_url': 'http://localhost:8844/media/uploads/2021/10/11/my_model_505ee41b-4296-4426-9907-d1ba7a4f5371.py', 'params_url': 'http://localhost:8844/media/uploads/2021/10/11/researcher_params_81fc1b93-04c8-443a-8282-38b3d0eba7f2.pt', 'model_class': 'Fed_MV_PPCA', 'training_data': {'client_f2103a22-e8ca-4770-ab00-e9eb3b9767af': ['dataset_e13296e5-d681-4e36-99cb-c3fed191441f']}}\n",
      "2021-10-11 17:22:15,555 fedbiomed DEBUG - researcher_f73a21e9-2868-492a-bcaa-215790d1209d\n",
      "2021-10-11 17:22:22,627 fedbiomed INFO - message received:{'researcher_id': 'researcher_f73a21e9-2868-492a-bcaa-215790d1209d', 'job_id': 'e429db4d-7bf8-4150-9597-2b5b00999084', 'success': True, 'client_id': 'client_f2103a22-e8ca-4770-ab00-e9eb3b9767af', 'dataset_id': 'dataset_e13296e5-d681-4e36-99cb-c3fed191441f', 'params_url': 'http://localhost:8844/media/uploads/2021/10/11/node_params_fdb79712-4a7b-42e5-aeac-36eaf24193b0.pt', 'timing': {'rtime_training': 6.756094841999982, 'ptime_training': 4.419651999999999}, 'msg': '', 'command': 'train'}\n",
      "2021-10-11 17:22:23,043 fedbiomed INFO - message received:{'researcher_id': 'researcher_f73a21e9-2868-492a-bcaa-215790d1209d', 'job_id': 'e429db4d-7bf8-4150-9597-2b5b00999084', 'success': True, 'client_id': 'client_e9aebe88-efbc-4733-927c-581c17b65ba4', 'dataset_id': 'dataset_dae0d8e7-bf06-44c5-9074-a015a7283d32', 'params_url': 'http://localhost:8844/media/uploads/2021/10/11/node_params_e741d718-2d76-48ea-95c8-c3c43611452b.pt', 'timing': {'rtime_training': 7.157532913000011, 'ptime_training': 4.792096000000001}, 'msg': '', 'command': 'train'}\n",
      "2021-10-11 17:22:25,019 fedbiomed INFO - message received:{'researcher_id': 'researcher_f73a21e9-2868-492a-bcaa-215790d1209d', 'job_id': 'e429db4d-7bf8-4150-9597-2b5b00999084', 'success': True, 'client_id': 'client_e7b1f510-ceb2-4a55-9bdf-f2a54fc3a9a5', 'dataset_id': 'dataset_a976f0ea-ef99-4d3b-a261-ba84bd3c2e98', 'params_url': 'http://localhost:8844/media/uploads/2021/10/11/node_params_f4b47c04-92f9-4b1a-ac92-a6324d5e6484.pt', 'timing': {'rtime_training': 9.200367116999985, 'ptime_training': 7.085883999999993}, 'msg': '', 'command': 'train'}\n",
      "2021-10-11 17:22:30,572 fedbiomed INFO - Downloading model params after training on client_f2103a22-e8ca-4770-ab00-e9eb3b9767af - from http://localhost:8844/media/uploads/2021/10/11/node_params_fdb79712-4a7b-42e5-aeac-36eaf24193b0.pt\n",
      "2021-10-11 17:22:30,623 fedbiomed INFO - Downloading model params after training on client_e9aebe88-efbc-4733-927c-581c17b65ba4 - from http://localhost:8844/media/uploads/2021/10/11/node_params_e741d718-2d76-48ea-95c8-c3c43611452b.pt\n",
      "2021-10-11 17:22:30,668 fedbiomed INFO - Downloading model params after training on client_e7b1f510-ceb2-4a55-9bdf-f2a54fc3a9a5 - from http://localhost:8844/media/uploads/2021/10/11/node_params_f4b47c04-92f9-4b1a-ac92-a6324d5e6484.pt\n",
      "2021-10-11 17:22:30,703 fedbiomed INFO - Clients that successfully reply in round 13 ['client_f2103a22-e8ca-4770-ab00-e9eb3b9767af', 'client_e9aebe88-efbc-4733-927c-581c17b65ba4', 'client_e7b1f510-ceb2-4a55-9bdf-f2a54fc3a9a5']\n",
      "2021-10-11 17:22:30,829 fedbiomed INFO - Sampled clients in round 14 ['client_e9aebe88-efbc-4733-927c-581c17b65ba4', 'client_e7b1f510-ceb2-4a55-9bdf-f2a54fc3a9a5', 'client_f2103a22-e8ca-4770-ab00-e9eb3b9767af']\n",
      "2021-10-11 17:22:30,831 fedbiomed INFO - Send message to client client_e9aebe88-efbc-4733-927c-581c17b65ba4 - {'researcher_id': 'researcher_f73a21e9-2868-492a-bcaa-215790d1209d', 'job_id': 'e429db4d-7bf8-4150-9597-2b5b00999084', 'training_args': {'n_iterations': 15}, 'model_args': {'tot_views': 3, 'dim_views': [15, 8, 10], 'n_components': 4, 'norm': True}, 'command': 'train', 'model_url': 'http://localhost:8844/media/uploads/2021/10/11/my_model_505ee41b-4296-4426-9907-d1ba7a4f5371.py', 'params_url': 'http://localhost:8844/media/uploads/2021/10/11/researcher_params_a7190d96-32a3-4f82-b524-cc78903b9661.pt', 'model_class': 'Fed_MV_PPCA', 'training_data': {'client_e9aebe88-efbc-4733-927c-581c17b65ba4': ['dataset_dae0d8e7-bf06-44c5-9074-a015a7283d32']}}\n",
      "2021-10-11 17:22:30,837 fedbiomed DEBUG - researcher_f73a21e9-2868-492a-bcaa-215790d1209d\n",
      "2021-10-11 17:22:30,857 fedbiomed INFO - Send message to client client_e7b1f510-ceb2-4a55-9bdf-f2a54fc3a9a5 - {'researcher_id': 'researcher_f73a21e9-2868-492a-bcaa-215790d1209d', 'job_id': 'e429db4d-7bf8-4150-9597-2b5b00999084', 'training_args': {'n_iterations': 15}, 'model_args': {'tot_views': 3, 'dim_views': [15, 8, 10], 'n_components': 4, 'norm': True}, 'command': 'train', 'model_url': 'http://localhost:8844/media/uploads/2021/10/11/my_model_505ee41b-4296-4426-9907-d1ba7a4f5371.py', 'params_url': 'http://localhost:8844/media/uploads/2021/10/11/researcher_params_a7190d96-32a3-4f82-b524-cc78903b9661.pt', 'model_class': 'Fed_MV_PPCA', 'training_data': {'client_e7b1f510-ceb2-4a55-9bdf-f2a54fc3a9a5': ['dataset_a976f0ea-ef99-4d3b-a261-ba84bd3c2e98']}}\n"
     ]
    },
    {
     "name": "stderr",
     "output_type": "stream",
     "text": [
      "2021-10-11 17:22:30,862 fedbiomed DEBUG - researcher_f73a21e9-2868-492a-bcaa-215790d1209d\n",
      "2021-10-11 17:22:30,870 fedbiomed INFO - Send message to client client_f2103a22-e8ca-4770-ab00-e9eb3b9767af - {'researcher_id': 'researcher_f73a21e9-2868-492a-bcaa-215790d1209d', 'job_id': 'e429db4d-7bf8-4150-9597-2b5b00999084', 'training_args': {'n_iterations': 15}, 'model_args': {'tot_views': 3, 'dim_views': [15, 8, 10], 'n_components': 4, 'norm': True}, 'command': 'train', 'model_url': 'http://localhost:8844/media/uploads/2021/10/11/my_model_505ee41b-4296-4426-9907-d1ba7a4f5371.py', 'params_url': 'http://localhost:8844/media/uploads/2021/10/11/researcher_params_a7190d96-32a3-4f82-b524-cc78903b9661.pt', 'model_class': 'Fed_MV_PPCA', 'training_data': {'client_f2103a22-e8ca-4770-ab00-e9eb3b9767af': ['dataset_e13296e5-d681-4e36-99cb-c3fed191441f']}}\n",
      "2021-10-11 17:22:30,882 fedbiomed DEBUG - researcher_f73a21e9-2868-492a-bcaa-215790d1209d\n",
      "2021-10-11 17:22:40,068 fedbiomed INFO - message received:{'researcher_id': 'researcher_f73a21e9-2868-492a-bcaa-215790d1209d', 'job_id': 'e429db4d-7bf8-4150-9597-2b5b00999084', 'success': True, 'client_id': 'client_f2103a22-e8ca-4770-ab00-e9eb3b9767af', 'dataset_id': 'dataset_e13296e5-d681-4e36-99cb-c3fed191441f', 'params_url': 'http://localhost:8844/media/uploads/2021/10/11/node_params_7a82850c-1efe-44fc-be31-5f87b55324e9.pt', 'timing': {'rtime_training': 8.837040785999989, 'ptime_training': 4.414391999999992}, 'msg': '', 'command': 'train'}\n",
      "2021-10-11 17:22:40,775 fedbiomed INFO - message received:{'researcher_id': 'researcher_f73a21e9-2868-492a-bcaa-215790d1209d', 'job_id': 'e429db4d-7bf8-4150-9597-2b5b00999084', 'success': True, 'client_id': 'client_e9aebe88-efbc-4733-927c-581c17b65ba4', 'dataset_id': 'dataset_dae0d8e7-bf06-44c5-9074-a015a7283d32', 'params_url': 'http://localhost:8844/media/uploads/2021/10/11/node_params_1e4c3305-0a17-4b2b-b9f4-cab5fb7fd0e2.pt', 'timing': {'rtime_training': 9.548952665000002, 'ptime_training': 4.853755000000007}, 'msg': '', 'command': 'train'}\n",
      "2021-10-11 17:22:42,707 fedbiomed INFO - message received:{'researcher_id': 'researcher_f73a21e9-2868-492a-bcaa-215790d1209d', 'job_id': 'e429db4d-7bf8-4150-9597-2b5b00999084', 'success': True, 'client_id': 'client_e7b1f510-ceb2-4a55-9bdf-f2a54fc3a9a5', 'dataset_id': 'dataset_a976f0ea-ef99-4d3b-a261-ba84bd3c2e98', 'params_url': 'http://localhost:8844/media/uploads/2021/10/11/node_params_c73bcb07-0b39-49ca-9e37-af03d80d4385.pt', 'timing': {'rtime_training': 11.498281581999976, 'ptime_training': 8.201387999999994}, 'msg': '', 'command': 'train'}\n",
      "2021-10-11 17:22:50,907 fedbiomed INFO - Downloading model params after training on client_f2103a22-e8ca-4770-ab00-e9eb3b9767af - from http://localhost:8844/media/uploads/2021/10/11/node_params_7a82850c-1efe-44fc-be31-5f87b55324e9.pt\n",
      "2021-10-11 17:22:50,955 fedbiomed INFO - Downloading model params after training on client_e9aebe88-efbc-4733-927c-581c17b65ba4 - from http://localhost:8844/media/uploads/2021/10/11/node_params_1e4c3305-0a17-4b2b-b9f4-cab5fb7fd0e2.pt\n",
      "2021-10-11 17:22:51,000 fedbiomed INFO - Downloading model params after training on client_e7b1f510-ceb2-4a55-9bdf-f2a54fc3a9a5 - from http://localhost:8844/media/uploads/2021/10/11/node_params_c73bcb07-0b39-49ca-9e37-af03d80d4385.pt\n",
      "2021-10-11 17:22:51,043 fedbiomed INFO - Clients that successfully reply in round 14 ['client_f2103a22-e8ca-4770-ab00-e9eb3b9767af', 'client_e9aebe88-efbc-4733-927c-581c17b65ba4', 'client_e7b1f510-ceb2-4a55-9bdf-f2a54fc3a9a5']\n"
     ]
    }
   ],
   "source": [
    "# start federated training\n",
    "exp.run()"
   ]
  },
  {
   "cell_type": "code",
   "execution_count": 9,
   "id": "0eca4af7",
   "metadata": {},
   "outputs": [
    {
     "name": "stdout",
     "output_type": "stream",
     "text": [
      "\n",
      "List the training rounds :  dict_keys([0, 1, 2, 3, 4, 5, 6, 7, 8, 9, 10, 11, 12, 13, 14])\n",
      "\n",
      "Access the federated params for the last training round :\n",
      "\t- params_path:  /Users/balelli/ownCloud/INRIA_EPIONE/FedBioMed/fedbiomed/var/tmp/researcher_params_1aff067a-94c5-4e95-a4f9-9c402c3b5431.pt\n",
      "\t- parameter data:  dict_keys(['tilde_muk', 'tilde_Wk', 'tilde_Sigma2k', 'Alpha', 'Beta', 'sigma_til_muk', 'sigma_til_Wk', 'sigma_til_sigma2k'])\n"
     ]
    }
   ],
   "source": [
    "print(\"\\nList the training rounds : \", exp.aggregated_params.keys())\n",
    "\n",
    "print(\"\\nAccess the federated params for the last training round :\")\n",
    "print(\"\\t- params_path: \", exp.aggregated_params[rounds - 1]['params_path'])\n",
    "print(\"\\t- parameter data: \", exp.aggregated_params[rounds - 1]['params'].keys())"
   ]
  },
  {
   "cell_type": "markdown",
   "id": "88e2a782",
   "metadata": {},
   "source": [
    "## Test"
   ]
  },
  {
   "cell_type": "markdown",
   "id": "3fa6b9ea",
   "metadata": {},
   "source": [
    "Herafter we test the performance of the aggregated parameters on a test dataset. In particular, for each round we use the global parameters to evaluate the mean absolute error and the separation in the latent space using LDA. Note that we have already defined the test dataset at the beginning of this notebook."
   ]
  },
  {
   "cell_type": "code",
   "execution_count": 10,
   "id": "56f65126",
   "metadata": {},
   "outputs": [],
   "source": [
    "import numpy as np\n",
    "import pandas as pd\n",
    "from numpy.linalg import solve\n",
    "from sklearn.discriminant_analysis import LinearDiscriminantAnalysis\n",
    "from sklearn.metrics import confusion_matrix\n",
    "from sklearn.metrics import mean_absolute_error\n",
    "\n",
    "def normalize_data(X):\n",
    "    \"\"\"\n",
    "    This function normalize the dataset X\n",
    "    :param X: pandas dataframe\n",
    "    :return pandas dataframe\n",
    "    \"\"\"\n",
    "    col_name = [col.strip() for col in list(X.columns)]\n",
    "    x = X.values  # returns a numpy array\n",
    "    min_max_scaler = preprocessing.MinMaxScaler()\n",
    "    x_scaled = min_max_scaler.fit_transform(x)\n",
    "    norm_dataset = pd.DataFrame(x_scaled, index=X.index, columns=col_name)\n",
    "\n",
    "    return norm_dataset\n",
    "\n",
    "def eval_MB(Wk, q, D_i, K, Sigma2, ViewsX):\n",
    "    \"\"\"\n",
    "    Computes matrices M:=inv(I_q+sum_k Wk.TWk/sigma2k) and B:= [W1.T/sigma2K,...,W1.T/sigma2K].\n",
    "    :param Wk: list of matrices (d_k x q)\n",
    "    :param Sigma2: list of float > 0\n",
    "    :return np.arrays\n",
    "    \"\"\"\n",
    "    index = ViewsX.index(1)\n",
    "\n",
    "    M1 = Wk[index].reshape(D_i[index], q).T.dot(Wk[index].reshape(D_i[index],q)) / Sigma2[index]\n",
    "    B = Wk[index].reshape(D_i[index], q).T / Sigma2[index]\n",
    "    for k in range(index + 1, K):\n",
    "        if ViewsX[k] == 1:\n",
    "            M1 += Wk[k].reshape(D_i[k], q).T.dot(Wk[k].reshape(D_i[k],q)) / Sigma2[k]\n",
    "            B = np.concatenate((B, (Wk[k].reshape(D_i[k], q)).T / Sigma2[k]), axis=1)\n",
    "\n",
    "    M = solve(np.eye(q) + M1,np.eye(q))\n",
    "\n",
    "    return M, B\n",
    "\n",
    "def concat_params(park, K, ViewsX):\n",
    "    \"\"\"\n",
    "    This function concatenates parameters from a list\n",
    "    :param park: list of vectors/matrices to concatenate\n",
    "    :return np.array\n",
    "    \"\"\"\n",
    "    index = ViewsX.index(1)\n",
    "\n",
    "    par = park[index]\n",
    "    for k in range(index + 1, K):\n",
    "        if ViewsX[k] == 1:\n",
    "            par = np.concatenate((par, park[k]), axis=0)\n",
    "\n",
    "    return par\n",
    "\n",
    "def simu_latent(q,dataset,ViewsX,global_params):\n",
    "    \"\"\"\n",
    "    This function allows sampling of x_n (latent variables) from the posterior distribution \n",
    "    (with global parameters).\n",
    "    :return pandas dataframe\n",
    "    \"\"\"\n",
    "    d = dataset.shape[1]\n",
    "    N = dataset.shape[0]\n",
    "    K = len(ViewsX)\n",
    "\n",
    "    mu = concat_params(global_params['tilde_muk'], K, ViewsX)\n",
    "    M, B = eval_MB(global_params['tilde_Wk'], q, D_i, K, global_params['tilde_Sigma2k'],ViewsX)\n",
    "\n",
    "    Xn = [(M.dot(B).dot(dataset.iloc[n].values.reshape(d, 1) - mu)).reshape(1, q) for n in range(N)]\n",
    "\n",
    "    df = pd.DataFrame(np.vstack(Xn), index=dataset.index)\n",
    "\n",
    "    return df\n",
    "\n",
    "def MAE(dataset,ViewsX,q,global_params):\n",
    "    \"\"\"\n",
    "    This function evaluates the MAE using global parameters\n",
    "    :return float\n",
    "    \"\"\"    \n",
    "    d = dataset.shape[1]\n",
    "    N = dataset.shape[0]\n",
    "    K = len(ViewsX)\n",
    "    \n",
    "    mu = concat_params(global_params['tilde_muk'], K, ViewsX)\n",
    "    W = concat_params(global_params['tilde_Wk'], K, ViewsX)\n",
    "    M, B = eval_MB(global_params['tilde_Wk'], q, D_i, K, global_params['tilde_Sigma2k'],ViewsX)\n",
    "\n",
    "    T_true = dataset.values.tolist()\n",
    "\n",
    "    T_pred = []\n",
    "    for n in range(N):\n",
    "        Xng = (M.dot(B).dot(dataset.iloc[n].values.reshape(d, 1) - mu)).reshape(q, 1)\n",
    "        T_pred.append((W.dot(Xng) + mu).reshape(d))\n",
    "\n",
    "    MAE = mean_absolute_error(T_true, T_pred)\n",
    "\n",
    "    return MAE"
   ]
  },
  {
   "cell_type": "code",
   "execution_count": 11,
   "id": "d4989893",
   "metadata": {},
   "outputs": [],
   "source": [
    "# Test dataset\n",
    "from sklearn import preprocessing\n",
    "\n",
    "def test_data(dataset,norm,K,dim_views):\n",
    "        \"\"\"\n",
    "            Equivalent to training_data, for the test dataset\n",
    "        \"\"\"\n",
    "        X = dataset.iloc[:,:-1]\n",
    "        y = dataset[dataset.columns[-1]]\n",
    "        \n",
    "        # Xk is a list contianing the view-specific local datasets\n",
    "        Xk = []\n",
    "        ViewsX = []\n",
    "        ind = 0\n",
    "        for k in range(K):\n",
    "            if X.iloc[:, ind].isnull().values.any():\n",
    "                Xk.append('NaN')\n",
    "                ViewsX.append(0)\n",
    "            else:\n",
    "                # if norm = true, data are normalized with min max scaler\n",
    "                X_k = normalize_data(X.iloc[:, ind:ind + dim_views[k]]) if norm \\\n",
    "                    else X.iloc[:, ind:ind + dim_views[k]]\n",
    "                Xk.append(X_k)\n",
    "                ViewsX.append(1)\n",
    "            ind += dim_views[k]\n",
    "        \n",
    "        # The entire dataset is re-built without empty columns\n",
    "        Xk_obs = [item for item in Xk if type(item) != str]\n",
    "        X_obs = pd.concat(Xk_obs, axis=1)\n",
    "        \n",
    "        return (X_obs,Xk,ViewsX,y)"
   ]
  },
  {
   "cell_type": "code",
   "execution_count": 17,
   "id": "ed35c994",
   "metadata": {},
   "outputs": [
    {
     "name": "stderr",
     "output_type": "stream",
     "text": [
      "<ipython-input-17-ad7c72496923>:6: DeprecationWarning: The default dtype for empty Series will be 'object' instead of 'float64' in a future version. Specify a dtype explicitly to silence this warning.\n",
      "  Label_Train = pd.Series()\n",
      "<ipython-input-17-ad7c72496923>:23: DeprecationWarning: The default dtype for empty Series will be 'object' instead of 'float64' in a future version. Specify a dtype explicitly to silence this warning.\n",
      "  Label_Test = pd.Series()\n",
      "<ipython-input-17-ad7c72496923>:6: DeprecationWarning: The default dtype for empty Series will be 'object' instead of 'float64' in a future version. Specify a dtype explicitly to silence this warning.\n",
      "  Label_Train = pd.Series()\n"
     ]
    },
    {
     "name": "stdout",
     "output_type": "stream",
     "text": [
      "Round 1:\n",
      "MAE train (mean,std) = (0.0391,0.0036)     \t MAE test = 0.0591     \t Accuracy in latent space = 1.00\n"
     ]
    },
    {
     "name": "stderr",
     "output_type": "stream",
     "text": [
      "<ipython-input-17-ad7c72496923>:23: DeprecationWarning: The default dtype for empty Series will be 'object' instead of 'float64' in a future version. Specify a dtype explicitly to silence this warning.\n",
      "  Label_Test = pd.Series()\n",
      "<ipython-input-17-ad7c72496923>:6: DeprecationWarning: The default dtype for empty Series will be 'object' instead of 'float64' in a future version. Specify a dtype explicitly to silence this warning.\n",
      "  Label_Train = pd.Series()\n"
     ]
    },
    {
     "name": "stdout",
     "output_type": "stream",
     "text": [
      "Round 2:\n",
      "MAE train (mean,std) = (0.0217,0.0007)     \t MAE test = 0.0364     \t Accuracy in latent space = 1.00\n"
     ]
    },
    {
     "name": "stderr",
     "output_type": "stream",
     "text": [
      "<ipython-input-17-ad7c72496923>:23: DeprecationWarning: The default dtype for empty Series will be 'object' instead of 'float64' in a future version. Specify a dtype explicitly to silence this warning.\n",
      "  Label_Test = pd.Series()\n",
      "<ipython-input-17-ad7c72496923>:6: DeprecationWarning: The default dtype for empty Series will be 'object' instead of 'float64' in a future version. Specify a dtype explicitly to silence this warning.\n",
      "  Label_Train = pd.Series()\n"
     ]
    },
    {
     "name": "stdout",
     "output_type": "stream",
     "text": [
      "Round 3:\n",
      "MAE train (mean,std) = (0.0212,0.0005)     \t MAE test = 0.0359     \t Accuracy in latent space = 1.00\n"
     ]
    },
    {
     "name": "stderr",
     "output_type": "stream",
     "text": [
      "<ipython-input-17-ad7c72496923>:23: DeprecationWarning: The default dtype for empty Series will be 'object' instead of 'float64' in a future version. Specify a dtype explicitly to silence this warning.\n",
      "  Label_Test = pd.Series()\n",
      "<ipython-input-17-ad7c72496923>:6: DeprecationWarning: The default dtype for empty Series will be 'object' instead of 'float64' in a future version. Specify a dtype explicitly to silence this warning.\n",
      "  Label_Train = pd.Series()\n"
     ]
    },
    {
     "name": "stdout",
     "output_type": "stream",
     "text": [
      "Round 4:\n",
      "MAE train (mean,std) = (0.0212,0.0005)     \t MAE test = 0.0359     \t Accuracy in latent space = 1.00\n"
     ]
    },
    {
     "name": "stderr",
     "output_type": "stream",
     "text": [
      "<ipython-input-17-ad7c72496923>:23: DeprecationWarning: The default dtype for empty Series will be 'object' instead of 'float64' in a future version. Specify a dtype explicitly to silence this warning.\n",
      "  Label_Test = pd.Series()\n",
      "<ipython-input-17-ad7c72496923>:6: DeprecationWarning: The default dtype for empty Series will be 'object' instead of 'float64' in a future version. Specify a dtype explicitly to silence this warning.\n",
      "  Label_Train = pd.Series()\n"
     ]
    },
    {
     "name": "stdout",
     "output_type": "stream",
     "text": [
      "Round 5:\n",
      "MAE train (mean,std) = (0.0213,0.0005)     \t MAE test = 0.0359     \t Accuracy in latent space = 1.00\n"
     ]
    },
    {
     "name": "stderr",
     "output_type": "stream",
     "text": [
      "<ipython-input-17-ad7c72496923>:23: DeprecationWarning: The default dtype for empty Series will be 'object' instead of 'float64' in a future version. Specify a dtype explicitly to silence this warning.\n",
      "  Label_Test = pd.Series()\n",
      "<ipython-input-17-ad7c72496923>:6: DeprecationWarning: The default dtype for empty Series will be 'object' instead of 'float64' in a future version. Specify a dtype explicitly to silence this warning.\n",
      "  Label_Train = pd.Series()\n"
     ]
    },
    {
     "name": "stdout",
     "output_type": "stream",
     "text": [
      "Round 6:\n",
      "MAE train (mean,std) = (0.0213,0.0005)     \t MAE test = 0.0360     \t Accuracy in latent space = 1.00\n"
     ]
    },
    {
     "name": "stderr",
     "output_type": "stream",
     "text": [
      "<ipython-input-17-ad7c72496923>:23: DeprecationWarning: The default dtype for empty Series will be 'object' instead of 'float64' in a future version. Specify a dtype explicitly to silence this warning.\n",
      "  Label_Test = pd.Series()\n",
      "<ipython-input-17-ad7c72496923>:6: DeprecationWarning: The default dtype for empty Series will be 'object' instead of 'float64' in a future version. Specify a dtype explicitly to silence this warning.\n",
      "  Label_Train = pd.Series()\n"
     ]
    },
    {
     "name": "stdout",
     "output_type": "stream",
     "text": [
      "Round 7:\n",
      "MAE train (mean,std) = (0.0213,0.0005)     \t MAE test = 0.0360     \t Accuracy in latent space = 1.00\n"
     ]
    },
    {
     "name": "stderr",
     "output_type": "stream",
     "text": [
      "<ipython-input-17-ad7c72496923>:23: DeprecationWarning: The default dtype for empty Series will be 'object' instead of 'float64' in a future version. Specify a dtype explicitly to silence this warning.\n",
      "  Label_Test = pd.Series()\n",
      "<ipython-input-17-ad7c72496923>:6: DeprecationWarning: The default dtype for empty Series will be 'object' instead of 'float64' in a future version. Specify a dtype explicitly to silence this warning.\n",
      "  Label_Train = pd.Series()\n"
     ]
    },
    {
     "name": "stdout",
     "output_type": "stream",
     "text": [
      "Round 8:\n",
      "MAE train (mean,std) = (0.0213,0.0005)     \t MAE test = 0.0360     \t Accuracy in latent space = 1.00\n"
     ]
    },
    {
     "name": "stderr",
     "output_type": "stream",
     "text": [
      "<ipython-input-17-ad7c72496923>:23: DeprecationWarning: The default dtype for empty Series will be 'object' instead of 'float64' in a future version. Specify a dtype explicitly to silence this warning.\n",
      "  Label_Test = pd.Series()\n",
      "<ipython-input-17-ad7c72496923>:6: DeprecationWarning: The default dtype for empty Series will be 'object' instead of 'float64' in a future version. Specify a dtype explicitly to silence this warning.\n",
      "  Label_Train = pd.Series()\n"
     ]
    },
    {
     "name": "stdout",
     "output_type": "stream",
     "text": [
      "Round 9:\n",
      "MAE train (mean,std) = (0.0213,0.0005)     \t MAE test = 0.0360     \t Accuracy in latent space = 1.00\n"
     ]
    },
    {
     "name": "stderr",
     "output_type": "stream",
     "text": [
      "<ipython-input-17-ad7c72496923>:23: DeprecationWarning: The default dtype for empty Series will be 'object' instead of 'float64' in a future version. Specify a dtype explicitly to silence this warning.\n",
      "  Label_Test = pd.Series()\n",
      "<ipython-input-17-ad7c72496923>:6: DeprecationWarning: The default dtype for empty Series will be 'object' instead of 'float64' in a future version. Specify a dtype explicitly to silence this warning.\n",
      "  Label_Train = pd.Series()\n"
     ]
    },
    {
     "name": "stdout",
     "output_type": "stream",
     "text": [
      "Round 10:\n",
      "MAE train (mean,std) = (0.0213,0.0005)     \t MAE test = 0.0360     \t Accuracy in latent space = 1.00\n"
     ]
    },
    {
     "name": "stderr",
     "output_type": "stream",
     "text": [
      "<ipython-input-17-ad7c72496923>:23: DeprecationWarning: The default dtype for empty Series will be 'object' instead of 'float64' in a future version. Specify a dtype explicitly to silence this warning.\n",
      "  Label_Test = pd.Series()\n",
      "<ipython-input-17-ad7c72496923>:6: DeprecationWarning: The default dtype for empty Series will be 'object' instead of 'float64' in a future version. Specify a dtype explicitly to silence this warning.\n",
      "  Label_Train = pd.Series()\n"
     ]
    },
    {
     "name": "stdout",
     "output_type": "stream",
     "text": [
      "Round 11:\n",
      "MAE train (mean,std) = (0.0212,0.0005)     \t MAE test = 0.0360     \t Accuracy in latent space = 1.00\n"
     ]
    },
    {
     "name": "stderr",
     "output_type": "stream",
     "text": [
      "<ipython-input-17-ad7c72496923>:23: DeprecationWarning: The default dtype for empty Series will be 'object' instead of 'float64' in a future version. Specify a dtype explicitly to silence this warning.\n",
      "  Label_Test = pd.Series()\n",
      "<ipython-input-17-ad7c72496923>:6: DeprecationWarning: The default dtype for empty Series will be 'object' instead of 'float64' in a future version. Specify a dtype explicitly to silence this warning.\n",
      "  Label_Train = pd.Series()\n"
     ]
    },
    {
     "name": "stdout",
     "output_type": "stream",
     "text": [
      "Round 12:\n",
      "MAE train (mean,std) = (0.0212,0.0005)     \t MAE test = 0.0360     \t Accuracy in latent space = 1.00\n"
     ]
    },
    {
     "name": "stderr",
     "output_type": "stream",
     "text": [
      "<ipython-input-17-ad7c72496923>:23: DeprecationWarning: The default dtype for empty Series will be 'object' instead of 'float64' in a future version. Specify a dtype explicitly to silence this warning.\n",
      "  Label_Test = pd.Series()\n",
      "<ipython-input-17-ad7c72496923>:6: DeprecationWarning: The default dtype for empty Series will be 'object' instead of 'float64' in a future version. Specify a dtype explicitly to silence this warning.\n",
      "  Label_Train = pd.Series()\n"
     ]
    },
    {
     "name": "stdout",
     "output_type": "stream",
     "text": [
      "Round 13:\n",
      "MAE train (mean,std) = (0.0212,0.0005)     \t MAE test = 0.0360     \t Accuracy in latent space = 1.00\n",
      "Round 14:\n",
      "MAE train (mean,std) = (0.0212,0.0005)     \t MAE test = 0.0360     \t Accuracy in latent space = 1.00\n"
     ]
    },
    {
     "name": "stderr",
     "output_type": "stream",
     "text": [
      "<ipython-input-17-ad7c72496923>:23: DeprecationWarning: The default dtype for empty Series will be 'object' instead of 'float64' in a future version. Specify a dtype explicitly to silence this warning.\n",
      "  Label_Test = pd.Series()\n"
     ]
    }
   ],
   "source": [
    "for r in range(1,rounds):\n",
    "    global_params = exp.aggregated_params[r]['params']\n",
    "    ######## Train data\n",
    "    MAE_train = []\n",
    "    Latent_Train = pd.DataFrame()\n",
    "    Label_Train = pd.Series(dtype='int64')\n",
    "    for c in range(n_centers):\n",
    "        dataset_c = pd.read_csv('== Local path to node' + str(c+1) + '.csv', delimiter=',', index_col=0)\n",
    "        X_obs_c,Xk_c,ViewsX_c,y_c = test_data(dataset_c,norm,tot_views,dim_views)\n",
    "        # Dataframe of latent space for LDA\n",
    "        Latent_Train = Latent_Train.append(simu_latent(n_components,X_obs_c,ViewsX_c,global_params))\n",
    "        Label_Train = Label_Train.append(y_c)\n",
    "        # MAE Train\n",
    "        MAE_train.append(MAE(X_obs_c,ViewsX_c,n_components,global_params))\n",
    "\n",
    "    lda = LinearDiscriminantAnalysis()\n",
    "    X_Train_lda = lda.fit_transform(Latent_Train, Label_Train.reindex(Latent_Train.index))\n",
    "\n",
    "    ######## Test data\n",
    "    X_obs_test,Xk_test,ViewsX_test,y_test = test_data(t_test,norm,tot_views,dim_views)\n",
    "\n",
    "    Latent_Test = pd.DataFrame()\n",
    "    Label_Test = pd.Series(dtype='int64')\n",
    "\n",
    "    # Dataframe of latent space for LDA\n",
    "    Latent_Test = Latent_Test.append(simu_latent(n_components,X_obs_test,ViewsX_test,global_params))\n",
    "    Label_Test = Label_Test.append(y_test)\n",
    "    # MAE Test\n",
    "    MAE_test = MAE(X_obs_test,ViewsX_test,n_components,global_params)\n",
    "    # LDA Test\n",
    "    Size_tes = Latent_Test.shape[0]\n",
    "    y_pred_test = lda.predict(Latent_Test)\n",
    "    conf_LDA_Test = confusion_matrix(Label_Test.reindex(Latent_Test.index), y_pred_test)\n",
    "    TP = np.diag(conf_LDA_Test)\n",
    "    num_classes = len(np.unique(Label_Test))\n",
    "    accuracy_LDA_Test = sum(TP) / Size_tes\n",
    "\n",
    "    print('Round {}:'.format(r))\n",
    "    print('MAE train (mean,std) = ({:.4f},{:.4f}) \\\n",
    "    \\t MAE test = {:.4f} \\\n",
    "    \\t Accuracy in latent space = {:.2f}'.format(np.mean(np.array(MAE_train)), \\\n",
    "                                                 np.std(np.array(MAE_train)), MAE_test, accuracy_LDA_Test))"
   ]
  },
  {
   "cell_type": "code",
   "execution_count": null,
   "id": "24796736",
   "metadata": {},
   "outputs": [],
   "source": []
  }
 ],
 "metadata": {
  "kernelspec": {
   "display_name": "Python 3",
   "language": "python",
   "name": "python3"
  },
  "language_info": {
   "codemirror_mode": {
    "name": "ipython",
    "version": 3
   },
   "file_extension": ".py",
   "mimetype": "text/x-python",
   "name": "python",
   "nbconvert_exporter": "python",
   "pygments_lexer": "ipython3",
   "version": "3.9.5"
  }
 },
 "nbformat": 4,
 "nbformat_minor": 5
}

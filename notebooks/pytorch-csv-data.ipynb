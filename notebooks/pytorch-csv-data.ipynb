{
 "cells": [
  {
   "cell_type": "markdown",
   "metadata": {},
   "source": [
    "# Fedbiomed Researcher to train a model on a CSV dataset"
   ]
  },
  {
   "cell_type": "markdown",
   "metadata": {},
   "source": [
    "Use for developing (autoreloads changes made across packages)"
   ]
  },
  {
   "cell_type": "code",
   "execution_count": null,
   "metadata": {},
   "outputs": [],
   "source": [
    "%load_ext autoreload\n",
    "%autoreload 2"
   ]
  },
  {
   "cell_type": "markdown",
   "metadata": {},
   "source": [
    "This example shows how to use a CSV format file as a node dataset. The example CSV file is synthetic data with a format inspired from ADNI dataset."
   ]
  },
  {
   "cell_type": "markdown",
   "metadata": {},
   "source": [
    "## Start the network\n",
    "Before running this notebook, start the network with `./scripts/fedbiomed_run network`"
   ]
  },
  {
   "cell_type": "markdown",
   "metadata": {},
   "source": [
    "## Setting the node up\n",
    "It is necessary to previously configure a node:\n",
    "1. `./scripts/fedbiomed_run node add`\n",
    "  * Select option 1 to add a csv file to the node\n",
    "  * Choose the name, tags and description of the dataset\n",
    "    * use `#test_data` for the tags\n",
    "  * Pick the .csv file from your PC (here: [pseudo_adni_mod.csv](./data/CSV/pseudo_adni_mod.csv))\n",
    "  * Data must have been added\n",
    "2. Check that your data has been added by executing `./scripts/fedbiomed_run node list`\n",
    "3. Run the node using `./scripts/fedbiomed_run node start`. Wait until you get `Starting task manager`. it means you are online."
   ]
  },
  {
   "cell_type": "markdown",
   "metadata": {},
   "source": [
    "## Create an experiment to train a model on the data found"
   ]
  },
  {
   "cell_type": "markdown",
   "metadata": {},
   "source": [
    "Declare a torch.nn MyTrainingPlan class to send for training on the node"
   ]
  },
  {
   "cell_type": "code",
   "execution_count": 1,
   "metadata": {},
   "outputs": [],
   "source": [
    "import torch\n",
    "import torch.nn as nn\n",
    "from fedbiomed.common.training_plans import TorchTrainingPlan\n",
    "from fedbiomed.common.data import DataManager\n",
    "from torch.utils.data import Dataset\n",
    "import pandas as pd\n",
    "\n",
    "# Here we define the model to be used. \n",
    "# You can use any class name (here 'MyTrainingPlan')\n",
    "class MyTrainingPlan(TorchTrainingPlan):\n",
    "    def __init__(self, model_args: dict = {}):\n",
    "        super(MyTrainingPlan, self).__init__(model_args)\n",
    "        # should match the model arguments dict passed below to the experiment class\n",
    "        self.in_features = model_args['in_features']\n",
    "        self.out_features = model_args['out_features']\n",
    "        self.fc1 = nn.Linear(self.in_features, 5)\n",
    "        self.fc2 = nn.Linear(5, self.out_features)\n",
    "        \n",
    "        # Here we define the custom dependencies that will be needed by our custom Dataloader\n",
    "        # In this case, we need the torch Dataset and DataLoader classes\n",
    "        # We need pandas to read the local .csv file at the node side\n",
    "        deps = [\"from torch.utils.data import Dataset, DataLoader\",\n",
    "                \"import pandas as pd\"]\n",
    "        self.add_dependency(deps)\n",
    "\n",
    "    def forward(self, x):\n",
    "        x = self.fc1(x)\n",
    "        x = F.relu(x)\n",
    "        x = self.fc2(x)\n",
    "        return x\n",
    "\n",
    "    def training_step(self, data, target):\n",
    "        output = self.forward(data).float()\n",
    "        criterion = torch.nn.MSELoss()\n",
    "        loss   = criterion(output, target.unsqueeze(1))\n",
    "        return loss\n",
    "\n",
    "      # OLD WAY \n",
    "#     class csv_Dataset(Dataset):\n",
    "#     # Here we define a custom Dataset class inherited from the general torch Dataset class\n",
    "#     # This class takes as argument a .csv file path and creates a torch Dataset \n",
    "#         def __init__(self, dataset_path, x_dim):\n",
    "#             self.input_file = pd.read_csv(dataset_path,sep=';',index_col=False)\n",
    "#             x_train = self.input_file.iloc[:,:x_dim].values\n",
    "#             y_train = self.input_file.iloc[:,-1].values\n",
    "#             self.X_train = torch.from_numpy(x_train).float()\n",
    "#             self.Y_train = torch.from_numpy(y_train).float()\n",
    "\n",
    "#         def __len__(self):            \n",
    "#             return len(self.Y_train)\n",
    "\n",
    "#         def __getitem__(self, idx):\n",
    "\n",
    "#             return (self.X_train[idx], self.Y_train[idx])\n",
    "        \n",
    "    def training_data(self,  batch_size = 48):\n",
    "        # OLD WAY\n",
    "        # The training_data creates the Dataloader to be used for training in the \n",
    "        # general class TorchTrainingPlan of fedbiomed\n",
    "        # dataset = self.csv_Dataset(self.dataset_path, self.in_features)\n",
    "        \n",
    "        # NEW WAY\n",
    "        # Training data method reads the dataset and craete DataManager by passing \n",
    "        # input variables and output(target) variable. DataManager will automaticly \n",
    "        # create PyTorch Dataset instnce for training\n",
    "        \n",
    "        df = pd.read_csv(self.dataset_path, sep=';', index_col=False)\n",
    "        x_dim = self.in_features\n",
    "        x_train = df.iloc[:,:x_dim].values\n",
    "        y_train = df.iloc[:,-1].values\n",
    "        train_kwargs = {'batch_size': batch_size, 'shuffle': True}\n",
    "        \n",
    "        data_manager = DataManager(dataset=x_train , target=y_train, **train_kwargs)\n",
    "        \n",
    "        return data_manager"
   ]
  },
  {
   "cell_type": "code",
   "execution_count": 2,
   "metadata": {
    "pycharm": {
     "name": "#%%\n"
    }
   },
   "outputs": [],
   "source": [
    "# model parameters \n",
    "model_args = {\n",
    "    'in_features': 15, \n",
    "    'out_features': 1\n",
    "}\n",
    "\n",
    "# training parameters \n",
    "training_args = {\n",
    "    'batch_size': 20, \n",
    "    'lr': 1e-3, \n",
    "    'epochs': 10, \n",
    "    'dry_run': False,  \n",
    "    #'batch_maxnum': 100 # Fast pass for development : only use ( batch_maxnum * batch_size ) samples\n",
    "}"
   ]
  },
  {
   "cell_type": "markdown",
   "metadata": {},
   "source": [
    "Define an experiment\n",
    "- search nodes serving data for these `tags`, optionally filter on a list of node ID with `nodes`\n",
    "- run a round of local training on nodes with model defined in `model_path` + federation with `aggregator`\n",
    "- run for `round_limit` rounds, applying the `node_selection_strategy` between the rounds"
   ]
  },
  {
   "cell_type": "code",
   "execution_count": 3,
   "metadata": {
    "pycharm": {
     "name": "#%%\n"
    },
    "scrolled": true
   },
   "outputs": [
    {
     "name": "stderr",
     "output_type": "stream",
     "text": [
      "2022-03-08 16:38:10,642 fedbiomed INFO - Component environment:\n",
      "2022-03-08 16:38:10,643 fedbiomed INFO - type = ComponentType.RESEARCHER\n",
      "2022-03-08 16:38:10,817 fedbiomed INFO - Messaging researcher_420cfc13-37cb-447c-af20-f7ac5cb2b6ab successfully connected to the message broker, object = <fedbiomed.common.messaging.Messaging object at 0x7f2da6538e50>\n",
      "2022-03-08 16:38:10,828 fedbiomed INFO - Searching dataset with data tags: ['#test_data'] for all nodes\n",
      "2022-03-08 16:38:10,830 fedbiomed INFO - log from: node_bd90cc6f-67c4-4f81-aaa5-588c9c26c6e0 / DEBUG - Message received: {'researcher_id': 'researcher_420cfc13-37cb-447c-af20-f7ac5cb2b6ab', 'tags': ['#test_data'], 'command': 'search'}\n",
      "2022-03-08 16:38:20,868 fedbiomed INFO - Node selected for training -> node_bd90cc6f-67c4-4f81-aaa5-588c9c26c6e0\n",
      "2022-03-08 16:38:20,905 fedbiomed DEBUG - Model file has been saved: /home/scansiz/Desktop/Inria/development/fedbiomed/var/experiments/Experiment_0096/my_model_3eb0c81a-136a-461b-bc4c-49d2858cd9f2.py\n",
      "2022-03-08 16:38:20,936 fedbiomed DEBUG - upload (HTTP POST request) of file /home/scansiz/Desktop/Inria/development/fedbiomed/var/experiments/Experiment_0096/my_model_3eb0c81a-136a-461b-bc4c-49d2858cd9f2.py successful, with status code 201\n",
      "2022-03-08 16:38:20,963 fedbiomed DEBUG - upload (HTTP POST request) of file /home/scansiz/Desktop/Inria/development/fedbiomed/var/experiments/Experiment_0096/aggregated_params_init_058e957b-3b11-4d07-aac8-fb36d3721312.pt successful, with status code 201\n"
     ]
    }
   ],
   "source": [
    "from fedbiomed.researcher.experiment import Experiment\n",
    "from fedbiomed.researcher.aggregators.fedavg import FedAverage\n",
    "\n",
    "# Calling the training data with specified tags\n",
    "tags =  ['#test_data']\n",
    "rounds = 5\n",
    "\n",
    "exp = Experiment(tags=tags,\n",
    "                 model_class=MyTrainingPlan,\n",
    "                 model_args=model_args,\n",
    "                 training_args=training_args,\n",
    "                 round_limit=rounds,\n",
    "                 aggregator=FedAverage(),\n",
    "                 node_selection_strategy=None)"
   ]
  },
  {
   "cell_type": "markdown",
   "metadata": {
    "pycharm": {
     "name": "#%% md\n"
    }
   },
   "source": [
    "Let's start the experiment.\n",
    "\n",
    "By default, this function doesn't stop until all the `round_limit` rounds are done for all the nodes"
   ]
  },
  {
   "cell_type": "code",
   "execution_count": 4,
   "metadata": {
    "pycharm": {
     "name": "#%%\n"
    },
    "scrolled": true
   },
   "outputs": [
    {
     "name": "stderr",
     "output_type": "stream",
     "text": [
      "2022-03-08 16:38:20,971 fedbiomed INFO - Sampled nodes in round 0 ['node_bd90cc6f-67c4-4f81-aaa5-588c9c26c6e0']\n",
      "2022-03-08 16:38:20,974 fedbiomed INFO - Send message to node node_bd90cc6f-67c4-4f81-aaa5-588c9c26c6e0 - {'researcher_id': 'researcher_420cfc13-37cb-447c-af20-f7ac5cb2b6ab', 'job_id': 'c851d69a-94c2-4e35-a885-7dfdaa54853c', 'training_args': {'batch_size': 20, 'lr': 0.001, 'epochs': 10, 'dry_run': False}, 'model_args': {'in_features': 15, 'out_features': 1}, 'command': 'train', 'model_url': 'http://localhost:8844/media/uploads/2022/03/08/my_model_3eb0c81a-136a-461b-bc4c-49d2858cd9f2.py', 'params_url': 'http://localhost:8844/media/uploads/2022/03/08/aggregated_params_init_058e957b-3b11-4d07-aac8-fb36d3721312.pt', 'model_class': 'MyTrainingPlan', 'training_data': {'node_bd90cc6f-67c4-4f81-aaa5-588c9c26c6e0': ['dataset_644ad54e-bf5f-45f7-a76c-7d88eaed4d73']}}\n",
      "2022-03-08 16:38:20,975 fedbiomed DEBUG - researcher_420cfc13-37cb-447c-af20-f7ac5cb2b6ab\n",
      "2022-03-08 16:38:20,981 fedbiomed INFO - log from: node_bd90cc6f-67c4-4f81-aaa5-588c9c26c6e0 / DEBUG - Message received: {'researcher_id': 'researcher_420cfc13-37cb-447c-af20-f7ac5cb2b6ab', 'job_id': 'c851d69a-94c2-4e35-a885-7dfdaa54853c', 'training_args': {'batch_size': 20, 'lr': 0.001, 'epochs': 10, 'dry_run': False}, 'model_args': {'in_features': 15, 'out_features': 1}, 'command': 'train', 'model_url': 'http://localhost:8844/media/uploads/2022/03/08/my_model_3eb0c81a-136a-461b-bc4c-49d2858cd9f2.py', 'params_url': 'http://localhost:8844/media/uploads/2022/03/08/aggregated_params_init_058e957b-3b11-4d07-aac8-fb36d3721312.pt', 'model_class': 'MyTrainingPlan', 'training_data': {'node_bd90cc6f-67c4-4f81-aaa5-588c9c26c6e0': ['dataset_644ad54e-bf5f-45f7-a76c-7d88eaed4d73']}}\n",
      "2022-03-08 16:38:20,983 fedbiomed INFO - log from: node_bd90cc6f-67c4-4f81-aaa5-588c9c26c6e0 / DEBUG - [TASKS QUEUE] Item:{'researcher_id': 'researcher_420cfc13-37cb-447c-af20-f7ac5cb2b6ab', 'job_id': 'c851d69a-94c2-4e35-a885-7dfdaa54853c', 'params_url': 'http://localhost:8844/media/uploads/2022/03/08/aggregated_params_init_058e957b-3b11-4d07-aac8-fb36d3721312.pt', 'training_args': {'batch_size': 20, 'lr': 0.001, 'epochs': 10, 'dry_run': False}, 'training_data': {'node_bd90cc6f-67c4-4f81-aaa5-588c9c26c6e0': ['dataset_644ad54e-bf5f-45f7-a76c-7d88eaed4d73']}, 'model_args': {'in_features': 15, 'out_features': 1}, 'model_url': 'http://localhost:8844/media/uploads/2022/03/08/my_model_3eb0c81a-136a-461b-bc4c-49d2858cd9f2.py', 'model_class': 'MyTrainingPlan', 'command': 'train'}\n",
      "2022-03-08 16:38:20,999 fedbiomed INFO - log from: node_bd90cc6f-67c4-4f81-aaa5-588c9c26c6e0 / DEBUG - upload (HTTP GET request) of file my_model_3d752aeb099a4910ad0be548b5968308.py successful, with status code 200\n",
      "2022-03-08 16:38:21,006 fedbiomed INFO - log from: node_bd90cc6f-67c4-4f81-aaa5-588c9c26c6e0 / DEBUG - upload (HTTP GET request) of file my_model_1f1b7d11-d40a-4820-84d0-6e054a7df766.pt successful, with status code 200\n",
      "2022-03-08 16:38:21,278 fedbiomed INFO - log from: node_bd90cc6f-67c4-4f81-aaa5-588c9c26c6e0 / DEBUG - Dataset path has been set as/home/scansiz/Desktop/Inria/development/data/adni/pseudo_adni_mod.csv\n",
      "2022-03-08 16:38:21,287 fedbiomed INFO - log from: node_bd90cc6f-67c4-4f81-aaa5-588c9c26c6e0 / INFO - training with arguments {'monitor': <fedbiomed.node.history_monitor.HistoryMonitor object at 0x7fd0fde9fd00>, 'node_args': {'gpu': False, 'gpu_num': None, 'gpu_only': False}, 'batch_size': 20, 'lr': 0.001, 'epochs': 10, 'dry_run': False}\n",
      "2022-03-08 16:38:21,288 fedbiomed INFO - log from: node_bd90cc6f-67c4-4f81-aaa5-588c9c26c6e0 / DEBUG - Using device cpu for training (cuda_available=False, gpu=False, gpu_only=False, use_gpu=False, gpu_num=None)\n",
      "2022-03-08 16:38:21,291 fedbiomed INFO - log from: node_bd90cc6f-67c4-4f81-aaa5-588c9c26c6e0 / INFO - Train Epoch: 1 [0/1000 (0%)]\tLoss: 4288.002930\n",
      "2022-03-08 16:38:21,304 fedbiomed INFO - log from: node_bd90cc6f-67c4-4f81-aaa5-588c9c26c6e0 / INFO - Train Epoch: 1 [200/1000 (20%)]\tLoss: 4241.057617\n",
      "2022-03-08 16:38:21,313 fedbiomed INFO - log from: node_bd90cc6f-67c4-4f81-aaa5-588c9c26c6e0 / INFO - Train Epoch: 1 [400/1000 (40%)]\tLoss: 3691.905762\n",
      "2022-03-08 16:38:21,323 fedbiomed INFO - log from: node_bd90cc6f-67c4-4f81-aaa5-588c9c26c6e0 / INFO - Train Epoch: 1 [600/1000 (60%)]\tLoss: 3377.421143\n",
      "2022-03-08 16:38:21,333 fedbiomed INFO - log from: node_bd90cc6f-67c4-4f81-aaa5-588c9c26c6e0 / INFO - Train Epoch: 1 [800/1000 (80%)]\tLoss: 3341.979248\n",
      "2022-03-08 16:38:21,347 fedbiomed INFO - log from: node_bd90cc6f-67c4-4f81-aaa5-588c9c26c6e0 / INFO - Train Epoch: 2 [0/1000 (0%)]\tLoss: 3126.046387\n",
      "2022-03-08 16:38:21,356 fedbiomed INFO - log from: node_bd90cc6f-67c4-4f81-aaa5-588c9c26c6e0 / INFO - Train Epoch: 2 [200/1000 (20%)]\tLoss: 3026.954590\n",
      "2022-03-08 16:38:21,368 fedbiomed INFO - log from: node_bd90cc6f-67c4-4f81-aaa5-588c9c26c6e0 / INFO - Train Epoch: 2 [400/1000 (40%)]\tLoss: 2584.802002\n",
      "2022-03-08 16:38:21,382 fedbiomed INFO - log from: node_bd90cc6f-67c4-4f81-aaa5-588c9c26c6e0 / INFO - Train Epoch: 2 [600/1000 (60%)]\tLoss: 2690.064209\n",
      "2022-03-08 16:38:21,393 fedbiomed INFO - log from: node_bd90cc6f-67c4-4f81-aaa5-588c9c26c6e0 / INFO - Train Epoch: 2 [800/1000 (80%)]\tLoss: 2188.106445\n",
      "2022-03-08 16:38:21,404 fedbiomed INFO - log from: node_bd90cc6f-67c4-4f81-aaa5-588c9c26c6e0 / INFO - Train Epoch: 3 [0/1000 (0%)]\tLoss: 1935.893188\n",
      "2022-03-08 16:38:21,416 fedbiomed INFO - log from: node_bd90cc6f-67c4-4f81-aaa5-588c9c26c6e0 / INFO - Train Epoch: 3 [200/1000 (20%)]\tLoss: 1722.387085\n",
      "2022-03-08 16:38:21,428 fedbiomed INFO - log from: node_bd90cc6f-67c4-4f81-aaa5-588c9c26c6e0 / INFO - Train Epoch: 3 [400/1000 (40%)]\tLoss: 1566.693359\n",
      "2022-03-08 16:38:21,439 fedbiomed INFO - log from: node_bd90cc6f-67c4-4f81-aaa5-588c9c26c6e0 / INFO - Train Epoch: 3 [600/1000 (60%)]\tLoss: 1353.923340\n",
      "2022-03-08 16:38:21,452 fedbiomed INFO - log from: node_bd90cc6f-67c4-4f81-aaa5-588c9c26c6e0 / INFO - Train Epoch: 3 [800/1000 (80%)]\tLoss: 1587.240967\n",
      "2022-03-08 16:38:21,465 fedbiomed INFO - log from: node_bd90cc6f-67c4-4f81-aaa5-588c9c26c6e0 / INFO - Train Epoch: 4 [0/1000 (0%)]\tLoss: 1396.561401\n",
      "2022-03-08 16:38:21,474 fedbiomed INFO - log from: node_bd90cc6f-67c4-4f81-aaa5-588c9c26c6e0 / INFO - Train Epoch: 4 [200/1000 (20%)]\tLoss: 976.660767\n",
      "2022-03-08 16:38:21,483 fedbiomed INFO - log from: node_bd90cc6f-67c4-4f81-aaa5-588c9c26c6e0 / INFO - Train Epoch: 4 [400/1000 (40%)]\tLoss: 881.283813\n",
      "2022-03-08 16:38:21,497 fedbiomed INFO - log from: node_bd90cc6f-67c4-4f81-aaa5-588c9c26c6e0 / INFO - Train Epoch: 4 [600/1000 (60%)]\tLoss: 844.480103\n",
      "2022-03-08 16:38:21,510 fedbiomed INFO - log from: node_bd90cc6f-67c4-4f81-aaa5-588c9c26c6e0 / INFO - Train Epoch: 4 [800/1000 (80%)]\tLoss: 849.593872\n",
      "2022-03-08 16:38:21,520 fedbiomed INFO - log from: node_bd90cc6f-67c4-4f81-aaa5-588c9c26c6e0 / INFO - Train Epoch: 5 [0/1000 (0%)]\tLoss: 803.137756\n",
      "2022-03-08 16:38:21,532 fedbiomed INFO - log from: node_bd90cc6f-67c4-4f81-aaa5-588c9c26c6e0 / INFO - Train Epoch: 5 [200/1000 (20%)]\tLoss: 445.511719\n",
      "2022-03-08 16:38:21,543 fedbiomed INFO - log from: node_bd90cc6f-67c4-4f81-aaa5-588c9c26c6e0 / INFO - Train Epoch: 5 [400/1000 (40%)]\tLoss: 492.528473\n",
      "2022-03-08 16:38:21,552 fedbiomed INFO - log from: node_bd90cc6f-67c4-4f81-aaa5-588c9c26c6e0 / INFO - Train Epoch: 5 [600/1000 (60%)]\tLoss: 414.623352\n",
      "2022-03-08 16:38:21,562 fedbiomed INFO - log from: node_bd90cc6f-67c4-4f81-aaa5-588c9c26c6e0 / INFO - Train Epoch: 5 [800/1000 (80%)]\tLoss: 212.687103\n",
      "2022-03-08 16:38:21,571 fedbiomed INFO - log from: node_bd90cc6f-67c4-4f81-aaa5-588c9c26c6e0 / INFO - Train Epoch: 6 [0/1000 (0%)]\tLoss: 340.941833\n",
      "2022-03-08 16:38:21,580 fedbiomed INFO - log from: node_bd90cc6f-67c4-4f81-aaa5-588c9c26c6e0 / INFO - Train Epoch: 6 [200/1000 (20%)]\tLoss: 249.058716\n",
      "2022-03-08 16:38:21,590 fedbiomed INFO - log from: node_bd90cc6f-67c4-4f81-aaa5-588c9c26c6e0 / INFO - Train Epoch: 6 [400/1000 (40%)]\tLoss: 272.183777\n",
      "2022-03-08 16:38:21,599 fedbiomed INFO - log from: node_bd90cc6f-67c4-4f81-aaa5-588c9c26c6e0 / INFO - Train Epoch: 6 [600/1000 (60%)]\tLoss: 177.978729\n",
      "2022-03-08 16:38:21,609 fedbiomed INFO - log from: node_bd90cc6f-67c4-4f81-aaa5-588c9c26c6e0 / INFO - Train Epoch: 6 [800/1000 (80%)]\tLoss: 382.471924\n"
     ]
    },
    {
     "name": "stderr",
     "output_type": "stream",
     "text": [
      "2022-03-08 16:38:21,622 fedbiomed INFO - log from: node_bd90cc6f-67c4-4f81-aaa5-588c9c26c6e0 / INFO - Train Epoch: 7 [0/1000 (0%)]\tLoss: 233.559036\n",
      "2022-03-08 16:38:21,632 fedbiomed INFO - log from: node_bd90cc6f-67c4-4f81-aaa5-588c9c26c6e0 / INFO - Train Epoch: 7 [200/1000 (20%)]\tLoss: 155.664841\n",
      "2022-03-08 16:38:21,644 fedbiomed INFO - log from: node_bd90cc6f-67c4-4f81-aaa5-588c9c26c6e0 / INFO - Train Epoch: 7 [400/1000 (40%)]\tLoss: 336.358185\n",
      "2022-03-08 16:38:21,655 fedbiomed INFO - log from: node_bd90cc6f-67c4-4f81-aaa5-588c9c26c6e0 / INFO - Train Epoch: 7 [600/1000 (60%)]\tLoss: 374.487854\n",
      "2022-03-08 16:38:21,665 fedbiomed INFO - log from: node_bd90cc6f-67c4-4f81-aaa5-588c9c26c6e0 / INFO - Train Epoch: 7 [800/1000 (80%)]\tLoss: 365.745087\n",
      "2022-03-08 16:38:21,675 fedbiomed INFO - log from: node_bd90cc6f-67c4-4f81-aaa5-588c9c26c6e0 / INFO - Train Epoch: 8 [0/1000 (0%)]\tLoss: 168.363968\n",
      "2022-03-08 16:38:21,684 fedbiomed INFO - log from: node_bd90cc6f-67c4-4f81-aaa5-588c9c26c6e0 / INFO - Train Epoch: 8 [200/1000 (20%)]\tLoss: 202.557526\n",
      "2022-03-08 16:38:21,693 fedbiomed INFO - log from: node_bd90cc6f-67c4-4f81-aaa5-588c9c26c6e0 / INFO - Train Epoch: 8 [400/1000 (40%)]\tLoss: 240.203049\n",
      "2022-03-08 16:38:21,701 fedbiomed INFO - log from: node_bd90cc6f-67c4-4f81-aaa5-588c9c26c6e0 / INFO - Train Epoch: 8 [600/1000 (60%)]\tLoss: 258.898499\n",
      "2022-03-08 16:38:21,710 fedbiomed INFO - log from: node_bd90cc6f-67c4-4f81-aaa5-588c9c26c6e0 / INFO - Train Epoch: 8 [800/1000 (80%)]\tLoss: 302.401184\n",
      "2022-03-08 16:38:21,718 fedbiomed INFO - log from: node_bd90cc6f-67c4-4f81-aaa5-588c9c26c6e0 / INFO - Train Epoch: 9 [0/1000 (0%)]\tLoss: 116.688454\n",
      "2022-03-08 16:38:21,728 fedbiomed INFO - log from: node_bd90cc6f-67c4-4f81-aaa5-588c9c26c6e0 / INFO - Train Epoch: 9 [200/1000 (20%)]\tLoss: 180.399445\n",
      "2022-03-08 16:38:21,740 fedbiomed INFO - log from: node_bd90cc6f-67c4-4f81-aaa5-588c9c26c6e0 / INFO - Train Epoch: 9 [400/1000 (40%)]\tLoss: 164.459747\n",
      "2022-03-08 16:38:21,754 fedbiomed INFO - log from: node_bd90cc6f-67c4-4f81-aaa5-588c9c26c6e0 / INFO - Train Epoch: 9 [600/1000 (60%)]\tLoss: 104.579590\n",
      "2022-03-08 16:38:21,770 fedbiomed INFO - log from: node_bd90cc6f-67c4-4f81-aaa5-588c9c26c6e0 / INFO - Train Epoch: 9 [800/1000 (80%)]\tLoss: 205.657501\n",
      "2022-03-08 16:38:21,788 fedbiomed INFO - log from: node_bd90cc6f-67c4-4f81-aaa5-588c9c26c6e0 / INFO - Train Epoch: 10 [0/1000 (0%)]\tLoss: 203.612137\n",
      "2022-03-08 16:38:21,808 fedbiomed INFO - log from: node_bd90cc6f-67c4-4f81-aaa5-588c9c26c6e0 / INFO - Train Epoch: 10 [200/1000 (20%)]\tLoss: 205.548294\n",
      "2022-03-08 16:38:21,826 fedbiomed INFO - log from: node_bd90cc6f-67c4-4f81-aaa5-588c9c26c6e0 / INFO - Train Epoch: 10 [400/1000 (40%)]\tLoss: 238.932343\n",
      "2022-03-08 16:38:21,845 fedbiomed INFO - log from: node_bd90cc6f-67c4-4f81-aaa5-588c9c26c6e0 / INFO - Train Epoch: 10 [600/1000 (60%)]\tLoss: 189.355499\n",
      "2022-03-08 16:38:21,861 fedbiomed INFO - log from: node_bd90cc6f-67c4-4f81-aaa5-588c9c26c6e0 / INFO - Train Epoch: 10 [800/1000 (80%)]\tLoss: 158.577332\n",
      "2022-03-08 16:38:21,874 fedbiomed INFO - log from: node_bd90cc6f-67c4-4f81-aaa5-588c9c26c6e0 / DEBUG - running model.postprocess() method\n",
      "2022-03-08 16:38:21,876 fedbiomed INFO - log from: node_bd90cc6f-67c4-4f81-aaa5-588c9c26c6e0 / DEBUG - model.postprocess() method not provided\n",
      "2022-03-08 16:38:21,925 fedbiomed INFO - log from: node_bd90cc6f-67c4-4f81-aaa5-588c9c26c6e0 / DEBUG - upload (HTTP POST request) of file /home/scansiz/Desktop/Inria/development/fedbiomed/var/tmp/node_params_0d73cd00-2a9c-421f-b1fb-9b57390c18a3.pt successful, with status code 201\n",
      "2022-03-08 16:38:21,926 fedbiomed INFO - log from: node_bd90cc6f-67c4-4f81-aaa5-588c9c26c6e0 / INFO - results uploaded successfully \n",
      "2022-03-08 16:38:25,145 fedbiomed CRITICAL - Fed-BioMed researcher stopped due to keyboard interrupt\n"
     ]
    },
    {
     "name": "stdout",
     "output_type": "stream",
     "text": [
      "\n",
      "--------------------\n",
      "Fed-BioMed researcher stopped due to keyboard interrupt\n",
      "--------------------\n"
     ]
    }
   ],
   "source": [
    "exp.run()"
   ]
  },
  {
   "cell_type": "markdown",
   "metadata": {},
   "source": [
    "Local training results for each round and each node are available via `exp.training_replies()` (index 0 to (`rounds` - 1) ).\n",
    "\n",
    "For example you can view the training results for the last round below.\n",
    "\n",
    "Different timings (in seconds) are reported for each dataset of a node participating in a round :\n",
    "- `rtime_training` real time (clock time) spent in the training function on the node\n",
    "- `ptime_training` process time (user and system CPU) spent in the training function on the node\n",
    "- `rtime_total` real time (clock time) spent in the researcher between sending the request and handling the response, at the `Job()` layer"
   ]
  },
  {
   "cell_type": "code",
   "execution_count": null,
   "metadata": {
    "pycharm": {
     "name": "#%%\n"
    },
    "scrolled": true
   },
   "outputs": [],
   "source": [
    "print(\"\\nList the training rounds : \", exp.training_replies().keys())\n",
    "\n",
    "print(\"\\nList the nodes for the last training round and their timings : \")\n",
    "round_data = exp.training_replies()[rounds - 1].data()\n",
    "for c in range(len(round_data)):\n",
    "    print(\"\\t- {id} :\\\n",
    "    \\n\\t\\trtime_training={rtraining:.2f} seconds\\\n",
    "    \\n\\t\\tptime_training={ptraining:.2f} seconds\\\n",
    "    \\n\\t\\trtime_total={rtotal:.2f} seconds\".format(id = round_data[c]['node_id'],\n",
    "        rtraining = round_data[c]['timing']['rtime_training'],\n",
    "        ptraining = round_data[c]['timing']['ptime_training'],\n",
    "        rtotal = round_data[c]['timing']['rtime_total']))\n",
    "print('\\n')\n",
    "    \n",
    "exp.training_replies()[rounds - 1].dataframe()"
   ]
  },
  {
   "cell_type": "markdown",
   "metadata": {},
   "source": [
    "Federated parameters for each round are available in `exp.aggregated_params()` (index 0 to (`rounds` - 1) ).\n",
    "\n",
    "For example you can view the federated parameters for the last round of the experiment :"
   ]
  },
  {
   "cell_type": "code",
   "execution_count": null,
   "metadata": {
    "pycharm": {
     "name": "#%%\n"
    }
   },
   "outputs": [],
   "source": [
    "print(\"\\nList the training rounds : \", exp.aggregated_params().keys())\n",
    "\n",
    "print(\"\\nAccess the federated params for the last training round :\")\n",
    "print(\"\\t- params_path: \", exp.aggregated_params()[rounds - 1]['params_path'])\n",
    "print(\"\\t- parameter data: \", exp.aggregated_params()[rounds - 1]['params'].keys())\n"
   ]
  }
 ],
 "metadata": {
  "interpreter": {
   "hash": "aee8b7b246df8f9039afb4144a1f6fd8d2ca17a180786b69acc140d282b71a49"
  },
  "kernelspec": {
   "display_name": "Python 3 (ipykernel)",
   "language": "python",
   "name": "python3"
  },
  "language_info": {
   "codemirror_mode": {
    "name": "ipython",
    "version": 3
   },
   "file_extension": ".py",
   "mimetype": "text/x-python",
   "name": "python",
   "nbconvert_exporter": "python",
   "pygments_lexer": "ipython3",
   "version": "3.9.7"
  }
 },
 "nbformat": 4,
 "nbformat_minor": 1
}

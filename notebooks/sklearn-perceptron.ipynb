{
 "cells": [
  {
   "cell_type": "markdown",
   "id": "64e87007",
   "metadata": {},
   "source": [
    "# Fedbiomed Researcher to train a federated scikit learn model."
   ]
  },
  {
   "cell_type": "markdown",
   "id": "92e17d2f",
   "metadata": {},
   "source": [
    "## Purpose of the exercise :"
   ]
  },
  {
   "cell_type": "markdown",
   "id": "fb782b14",
   "metadata": {},
   "source": [
    "Three datasets `c1.csv` , `c2.csv` and `c3.csv` has been generated with a target column of 3 different classes.\n",
    "We will fit a Perceptron (classifier) using Federated Learning."
   ]
  },
  {
   "cell_type": "markdown",
   "id": "f4cf562e",
   "metadata": {},
   "source": [
    "## Extending this notebook to any incremental learning scikit model:\n",
    "\n",
    "The same federated learning scheme below applies to any sklearn model supporting the method partial_fit():"
   ]
  },
  {
   "cell_type": "markdown",
   "id": "ed98bbac",
   "metadata": {},
   "source": [
    "A family of models could be naturally imported in Fed-BioMed, following the same approach. For example: \n",
    "- Naive Bayes.  \n",
    "- Logistic regression,\n",
    "- SVM/SVC (linear and non-linear), \n",
    "- perceptron, \n",
    "- KMeans, \n",
    "- incremental PCA, \n",
    "- mini batch dictionary learning, \n",
    "- latent Dirichlet annotation, "
   ]
  },
  {
   "cell_type": "markdown",
   "id": "5010d38f",
   "metadata": {},
   "source": [
    "## Get the data \n",
    "\n",
    "We use the make_classification dataset from sklearn datasets"
   ]
  },
  {
   "cell_type": "code",
   "execution_count": null,
   "id": "094e08d7",
   "metadata": {},
   "outputs": [],
   "source": [
    "from sklearn import datasets\n",
    "import numpy as np"
   ]
  },
  {
   "cell_type": "code",
   "execution_count": null,
   "id": "3c026f9e",
   "metadata": {},
   "outputs": [],
   "source": [
    "X,y = datasets.make_classification(n_samples=300, n_features=20,n_clusters_per_class=2, weights=None, flip_y=0.01, class_sep=1.0, hypercube=True, shift=0.0, scale=1.0,shuffle=True, random_state=123)"
   ]
  },
  {
   "cell_type": "code",
   "execution_count": null,
   "id": "54ba7b80",
   "metadata": {},
   "outputs": [],
   "source": [
    "X.shape"
   ]
  },
  {
   "cell_type": "code",
   "execution_count": null,
   "id": "2fddbce9",
   "metadata": {},
   "outputs": [],
   "source": [
    "y.shape"
   ]
  },
  {
   "cell_type": "code",
   "execution_count": null,
   "id": "2691e48c",
   "metadata": {},
   "outputs": [],
   "source": [
    "C1 = X[:150,:]\n",
    "C2 = X[150:250,:]\n",
    "C3 = X[250:300,:]"
   ]
  },
  {
   "cell_type": "code",
   "execution_count": null,
   "id": "7323c4db",
   "metadata": {},
   "outputs": [],
   "source": [
    "y1 = y[:150].reshape([150,1])\n",
    "y2 = y[150:250].reshape([100,1])\n",
    "y3 = y[250:300].reshape([50,1])"
   ]
  },
  {
   "cell_type": "code",
   "execution_count": null,
   "id": "075c6228",
   "metadata": {},
   "outputs": [],
   "source": [
    "C1.shape ,C2.shape , C3.shape , y1.shape, y2.shape, y3.shape"
   ]
  },
  {
   "cell_type": "code",
   "execution_count": null,
   "id": "ad768917",
   "metadata": {},
   "outputs": [],
   "source": [
    "C2.shape"
   ]
  },
  {
   "cell_type": "code",
   "execution_count": null,
   "id": "e2f383af",
   "metadata": {},
   "outputs": [],
   "source": [
    "n1 = np.concatenate((C1, y1), axis=1)\n",
    "np.savetxt('== local path to c1.csv',n1,delimiter=',')"
   ]
  },
  {
   "cell_type": "code",
   "execution_count": null,
   "id": "3ddb72c3",
   "metadata": {},
   "outputs": [],
   "source": [
    "n2 = np.concatenate((C2, y2), axis=1)\n",
    "np.savetxt('== local path to c2.csv',n2,delimiter=',')"
   ]
  },
  {
   "cell_type": "code",
   "execution_count": null,
   "id": "7d2bb9fa",
   "metadata": {},
   "outputs": [],
   "source": [
    "n3 = np.concatenate((C3, y3), axis=1)\n",
    "np.savetxt('== local path to c3.csv',n3,delimiter=',')"
   ]
  },
  {
   "cell_type": "markdown",
   "id": "440cd141",
   "metadata": {},
   "source": [
    "## Start the network\n",
    "Before running this notebook, start the network with `./scripts/fedbiomed_run network`"
   ]
  },
  {
   "cell_type": "markdown",
   "id": "d39f160e",
   "metadata": {},
   "source": [
    "## Setting the node up\n",
    "Before running this notebook you need to configure 2 nodes: <br/>\n",
    "* **Node 1 :** `./scripts/fedbiomed_run node add`\n",
    "  * Select option 1 to add a csv file to the node\n",
    "  * Choose the name, tags and description of the dataset (you can write 'perp' always and it will be good)\n",
    "  * Pick the c1.csv file in your machine.\n",
    "  * Check that your data has been added in node 1 by executing `./scripts/fedbiomed_run node list`\n",
    "  * Run the node using `./scripts/fedbiomed_run node start`. <br/>\n",
    "\n",
    "* **Node 2 :** Open a second terminal and run ./scripts/fedbiomed_run node add config n2.ini\n",
    "  * Select option 1 to add a csv file to the node\n",
    "  * Choose the name, tags and description of the dataset (you can write 'perp' always and it will be good)\n",
    "  * Pick the c2.csv file in your machine.\n",
    "  * Check that your data has been added in node 2 by executing `./scripts/fedbiomed_run node config n2.ini list `\n",
    "  * Run the node using `./scripts/fedbiomed_run node config n2.ini start`.\n",
    " \n",
    "\n",
    " Wait until you get `Starting task manager`. it means node is online.\n"
   ]
  },
  {
   "cell_type": "code",
   "execution_count": null,
   "id": "ade4cbea",
   "metadata": {},
   "outputs": [],
   "source": [
    "%load_ext autoreload\n",
    "%autoreload 2"
   ]
  },
  {
   "cell_type": "markdown",
   "id": "9f91e69a",
   "metadata": {},
   "source": [
    "**model_args** is a dictionnary containing your model arguments, in case of SGDRegressor this will be max_iter and tol.\n",
    "\n",
    "**training_args** is a dictionnary with parameters , related to Federated Learning. "
   ]
  },
  {
   "cell_type": "code",
   "execution_count": 8,
   "id": "3a28b429",
   "metadata": {},
   "outputs": [],
   "source": [
    "input_sklearn_model = 'Perceptron'\n",
    "\n",
    "n_features = 20\n",
    "n_classes = 2\n",
    "\n",
    "model_args = { 'model': input_sklearn_model, 'max_iter':1000, 'tol': 1e-3 , \n",
    "               'n_features' : n_features, 'n_classes' : n_classes}\n",
    "\n",
    "training_args = {   \n",
    "    'epochs': 5, \n",
    "}"
   ]
  },
  {
   "cell_type": "markdown",
   "id": "8e9aaa87",
   "metadata": {},
   "source": [
    "Hereafter the template of the class you should provide to Fedbiomed :\n",
    "    \n",
    "**training_data** : you must return here the (X,y) that must be of the same type of \n",
    "your method partial_fit parameters. "
   ]
  },
  {
   "cell_type": "code",
   "execution_count": 9,
   "id": "f10cc76c",
   "metadata": {},
   "outputs": [],
   "source": [
    "from fedbiomed.common.training_plans import SGDSkLearnModel\n",
    "from fedbiomed.common.data import DataManager\n",
    "class SkLearnTrainingPlan(SGDSkLearnModel):\n",
    "    def __init__(self, model_args: dict = {}):\n",
    "        super(SkLearnTrainingPlan,self).__init__(model_args)\n",
    "        self.add_dependency([\"from sklearn.linear_model import Perceptron\"])\n",
    "    \n",
    "    def training_data(self):\n",
    "        NUMBER_COLS = 20\n",
    "        dataset = pd.read_csv(self.dataset_path,header=None,delimiter=',')\n",
    "        X = dataset.iloc[:,0:NUMBER_COLS].values\n",
    "        y = dataset.iloc[:,NUMBER_COLS]       \n",
    "        return DataManager(dataset=X,target=y.values)"
   ]
  },
  {
   "cell_type": "code",
   "execution_count": 10,
   "id": "4b1a1341",
   "metadata": {},
   "outputs": [
    {
     "name": "stderr",
     "output_type": "stream",
     "text": [
      "2022-03-22 14:27:44,095 fedbiomed INFO - Searching dataset with data tags: ['perp'] for all nodes\n",
      "2022-03-22 14:27:54,110 fedbiomed INFO - Node selected for training -> node_fa6a1655-e676-42a8-a6a5-fe2630057d46\n",
      "2022-03-22 14:27:54,116 fedbiomed DEBUG - Model file has been saved: /home/scansiz/Desktop/Inria/development/fedbiomed/var/experiments/Experiment_0021/my_model_20050bcf-c4d5-430a-96eb-43ab6e2e612a.py\n",
      "2022-03-22 14:27:54,185 fedbiomed DEBUG - upload (HTTP POST request) of file /home/scansiz/Desktop/Inria/development/fedbiomed/var/experiments/Experiment_0021/my_model_20050bcf-c4d5-430a-96eb-43ab6e2e612a.py successful, with status code 201\n",
      "2022-03-22 14:27:54,229 fedbiomed DEBUG - upload (HTTP POST request) of file /home/scansiz/Desktop/Inria/development/fedbiomed/var/experiments/Experiment_0021/aggregated_params_init_27574674-90b7-4126-9486-3fddd7149008.pt successful, with status code 201\n"
     ]
    }
   ],
   "source": [
    "from fedbiomed.researcher.experiment import Experiment\n",
    "from fedbiomed.researcher.aggregators.fedavg import FedAverage\n",
    "\n",
    "tags =  ['perp']\n",
    "rounds = 8\n",
    "\n",
    "# search for corresponding datasets across nodes datasets\n",
    "exp = Experiment(tags=tags,\n",
    "                 model_args=model_args,\n",
    "                 model_class=SkLearnTrainingPlan,\n",
    "                 training_args=training_args,\n",
    "                 round_limit=rounds,\n",
    "                 aggregator=FedAverage(),\n",
    "                 node_selection_strategy=None)"
   ]
  },
  {
   "cell_type": "code",
   "execution_count": 11,
   "id": "d6ff55da",
   "metadata": {},
   "outputs": [
    {
     "name": "stderr",
     "output_type": "stream",
     "text": [
      "2022-03-22 14:27:58,380 fedbiomed INFO - Sampled nodes in round 0 ['node_fa6a1655-e676-42a8-a6a5-fe2630057d46']\n",
      "2022-03-22 14:27:58,383 fedbiomed INFO - Send message to node node_fa6a1655-e676-42a8-a6a5-fe2630057d46 - {'researcher_id': 'researcher_1fecd236-3507-4a58-9921-8d364492a6d1', 'job_id': 'd4ba1080-9d92-42c7-b8f6-0f0cfa024f87', 'training_args': {'epochs': 5}, 'model_args': {'model': 'Perceptron', 'max_iter': 1000, 'tol': 0.001, 'n_features': 20, 'n_classes': 2, 'verbose': 1}, 'command': 'train', 'model_url': 'http://localhost:8844/media/uploads/2022/03/22/my_model_20050bcf-c4d5-430a-96eb-43ab6e2e612a.py', 'params_url': 'http://localhost:8844/media/uploads/2022/03/22/aggregated_params_init_27574674-90b7-4126-9486-3fddd7149008.pt', 'model_class': 'SkLearnTrainingPlan', 'training_data': {'node_fa6a1655-e676-42a8-a6a5-fe2630057d46': ['dataset_579dde20-22b3-443b-8efd-a73a799d2ea6']}}\n",
      "2022-03-22 14:27:58,385 fedbiomed DEBUG - researcher_1fecd236-3507-4a58-9921-8d364492a6d1\n",
      "2022-03-22 14:27:58,880 fedbiomed INFO - log from: node_fa6a1655-e676-42a8-a6a5-fe2630057d46 / INFO - training with arguments {'history_monitor': <fedbiomed.node.history_monitor.HistoryMonitor object at 0x7fd2e6f27850>, 'node_args': {'gpu': False, 'gpu_num': None, 'gpu_only': False}, 'epochs': 5}\n",
      "2022-03-22 14:27:58,884 fedbiomed INFO - \u001b[1mTESTING BEFORE TRAINING\u001b[0m \n",
      "\t\t\t\t\t NODE_ID: node_fa6a1655-e676-42a8-a6a5-fe2630057d46 \n",
      "\t\t\t\t\t Completed: 30/30 (100%) \n",
      " \t\t\t\t\t RECALL: \u001b[1m0.000000\u001b[0m \n",
      "\t\t\t\t\t ---------\n",
      "2022-03-22 14:27:58,885 fedbiomed INFO - log from: node_fa6a1655-e676-42a8-a6a5-fe2630057d46 / INFO - Train Epoch: 0 [Batch All Samples]\tLoss: 2.229394\n",
      "2022-03-22 14:27:58,887 fedbiomed INFO - \u001b[1mTRAINING\u001b[0m \n",
      "\t\t\t\t\t NODE_ID: node_fa6a1655-e676-42a8-a6a5-fe2630057d46 \n",
      "\t\t\t\t\t Epoch: 0 | Completed: 120/120 (100%) \n",
      " \t\t\t\t\t Loss: \u001b[1m2.229394\u001b[0m \n",
      "\t\t\t\t\t ---------\n",
      "2022-03-22 14:27:58,887 fedbiomed INFO - log from: node_fa6a1655-e676-42a8-a6a5-fe2630057d46 / INFO - Train Epoch: 1 [Batch All Samples]\tLoss: 1.470553\n",
      "2022-03-22 14:27:58,888 fedbiomed INFO - \u001b[1mTRAINING\u001b[0m \n",
      "\t\t\t\t\t NODE_ID: node_fa6a1655-e676-42a8-a6a5-fe2630057d46 \n",
      "\t\t\t\t\t Epoch: 1 | Completed: 120/120 (100%) \n",
      " \t\t\t\t\t Loss: \u001b[1m1.470553\u001b[0m \n",
      "\t\t\t\t\t ---------\n",
      "2022-03-22 14:27:58,890 fedbiomed INFO - log from: node_fa6a1655-e676-42a8-a6a5-fe2630057d46 / INFO - Train Epoch: 2 [Batch All Samples]\tLoss: 1.352431\n",
      "2022-03-22 14:27:58,891 fedbiomed INFO - \u001b[1mTRAINING\u001b[0m \n",
      "\t\t\t\t\t NODE_ID: node_fa6a1655-e676-42a8-a6a5-fe2630057d46 \n",
      "\t\t\t\t\t Epoch: 2 | Completed: 120/120 (100%) \n",
      " \t\t\t\t\t Loss: \u001b[1m1.352431\u001b[0m \n",
      "\t\t\t\t\t ---------\n",
      "2022-03-22 14:27:58,894 fedbiomed INFO - log from: node_fa6a1655-e676-42a8-a6a5-fe2630057d46 / INFO - Train Epoch: 3 [Batch All Samples]\tLoss: 1.607864\n",
      "2022-03-22 14:27:58,896 fedbiomed INFO - \u001b[1mTRAINING\u001b[0m \n",
      "\t\t\t\t\t NODE_ID: node_fa6a1655-e676-42a8-a6a5-fe2630057d46 \n",
      "\t\t\t\t\t Epoch: 3 | Completed: 120/120 (100%) \n",
      " \t\t\t\t\t Loss: \u001b[1m1.607864\u001b[0m \n",
      "\t\t\t\t\t ---------\n",
      "2022-03-22 14:27:58,898 fedbiomed INFO - log from: node_fa6a1655-e676-42a8-a6a5-fe2630057d46 / INFO - Train Epoch: 4 [Batch All Samples]\tLoss: 1.471896\n",
      "2022-03-22 14:27:58,901 fedbiomed INFO - \u001b[1mTRAINING\u001b[0m \n",
      "\t\t\t\t\t NODE_ID: node_fa6a1655-e676-42a8-a6a5-fe2630057d46 \n",
      "\t\t\t\t\t Epoch: 4 | Completed: 120/120 (100%) \n",
      " \t\t\t\t\t Loss: \u001b[1m1.471896\u001b[0m \n",
      "\t\t\t\t\t ---------\n",
      "2022-03-22 14:27:58,905 fedbiomed INFO - \u001b[1mTESTING AFTER TRAINING\u001b[0m \n",
      "\t\t\t\t\t NODE_ID: node_fa6a1655-e676-42a8-a6a5-fe2630057d46 \n",
      "\t\t\t\t\t Completed: 30/30 (100%) \n",
      " \t\t\t\t\t ACCURACY: \u001b[1m0.800000\u001b[0m \n",
      "\t\t\t\t\t ---------\n",
      "2022-03-22 14:27:58,966 fedbiomed INFO - log from: node_fa6a1655-e676-42a8-a6a5-fe2630057d46 / INFO - results uploaded successfully \n",
      "2022-03-22 14:28:08,402 fedbiomed INFO - Downloading model params after training on node_fa6a1655-e676-42a8-a6a5-fe2630057d46 - from http://localhost:8844/media/uploads/2022/03/22/node_params_ada88973-6a77-4e20-bcb6-e79250dee84f.pt\n",
      "2022-03-22 14:28:08,421 fedbiomed DEBUG - upload (HTTP GET request) of file node_params_9c679fe6-7a82-4dfc-90b3-9bd9cc724461.pt successful, with status code 200\n",
      "2022-03-22 14:28:08,430 fedbiomed INFO - Nodes that successfully reply in round 0 ['node_fa6a1655-e676-42a8-a6a5-fe2630057d46']\n",
      "2022-03-22 14:28:08,489 fedbiomed DEBUG - upload (HTTP POST request) of file /home/scansiz/Desktop/Inria/development/fedbiomed/var/experiments/Experiment_0021/aggregated_params_cb969058-f6b2-48dd-a774-252139f1261c.pt successful, with status code 201\n",
      "2022-03-22 14:28:08,490 fedbiomed INFO - Saved aggregated params for round 0 in /home/scansiz/Desktop/Inria/development/fedbiomed/var/experiments/Experiment_0021/aggregated_params_cb969058-f6b2-48dd-a774-252139f1261c.pt\n",
      "2022-03-22 14:28:08,491 fedbiomed INFO - Sampled nodes in round 1 ['node_fa6a1655-e676-42a8-a6a5-fe2630057d46']\n",
      "2022-03-22 14:28:08,492 fedbiomed INFO - Send message to node node_fa6a1655-e676-42a8-a6a5-fe2630057d46 - {'researcher_id': 'researcher_1fecd236-3507-4a58-9921-8d364492a6d1', 'job_id': 'd4ba1080-9d92-42c7-b8f6-0f0cfa024f87', 'training_args': {'epochs': 5}, 'model_args': {'model': 'Perceptron', 'max_iter': 1000, 'tol': 0.001, 'n_features': 20, 'n_classes': 2, 'verbose': 1}, 'command': 'train', 'model_url': 'http://localhost:8844/media/uploads/2022/03/22/my_model_20050bcf-c4d5-430a-96eb-43ab6e2e612a.py', 'params_url': 'http://localhost:8844/media/uploads/2022/03/22/aggregated_params_cb969058-f6b2-48dd-a774-252139f1261c.pt', 'model_class': 'SkLearnTrainingPlan', 'training_data': {'node_fa6a1655-e676-42a8-a6a5-fe2630057d46': ['dataset_579dde20-22b3-443b-8efd-a73a799d2ea6']}}\n",
      "2022-03-22 14:28:08,494 fedbiomed DEBUG - researcher_1fecd236-3507-4a58-9921-8d364492a6d1\n",
      "2022-03-22 14:28:08,549 fedbiomed INFO - log from: node_fa6a1655-e676-42a8-a6a5-fe2630057d46 / INFO - training with arguments {'history_monitor': <fedbiomed.node.history_monitor.HistoryMonitor object at 0x7fd2e6f98d90>, 'node_args': {'gpu': False, 'gpu_num': None, 'gpu_only': False}, 'epochs': 5}\n",
      "2022-03-22 14:28:08,553 fedbiomed INFO - \u001b[1mTESTING BEFORE TRAINING\u001b[0m \n",
      "\t\t\t\t\t NODE_ID: node_fa6a1655-e676-42a8-a6a5-fe2630057d46 \n",
      "\t\t\t\t\t Completed: 30/30 (100%) \n",
      " \t\t\t\t\t RECALL: \u001b[1m0.857143\u001b[0m \n",
      "\t\t\t\t\t ---------\n",
      "2022-03-22 14:28:08,558 fedbiomed INFO - log from: node_fa6a1655-e676-42a8-a6a5-fe2630057d46 / INFO - Train Epoch: 0 [Batch All Samples]\tLoss: 1.568475\n",
      "2022-03-22 14:28:08,561 fedbiomed INFO - \u001b[1mTRAINING\u001b[0m \n",
      "\t\t\t\t\t NODE_ID: node_fa6a1655-e676-42a8-a6a5-fe2630057d46 \n",
      "\t\t\t\t\t Epoch: 0 | Completed: 120/120 (100%) \n",
      " \t\t\t\t\t Loss: \u001b[1m1.568475\u001b[0m \n",
      "\t\t\t\t\t ---------\n",
      "2022-03-22 14:28:08,565 fedbiomed INFO - log from: node_fa6a1655-e676-42a8-a6a5-fe2630057d46 / INFO - Train Epoch: 1 [Batch All Samples]\tLoss: 1.278137\n",
      "2022-03-22 14:28:08,569 fedbiomed INFO - \u001b[1mTRAINING\u001b[0m \n",
      "\t\t\t\t\t NODE_ID: node_fa6a1655-e676-42a8-a6a5-fe2630057d46 \n",
      "\t\t\t\t\t Epoch: 1 | Completed: 120/120 (100%) \n",
      " \t\t\t\t\t Loss: \u001b[1m1.278137\u001b[0m \n",
      "\t\t\t\t\t ---------\n",
      "2022-03-22 14:28:08,573 fedbiomed INFO - log from: node_fa6a1655-e676-42a8-a6a5-fe2630057d46 / INFO - Train Epoch: 2 [Batch All Samples]\tLoss: 1.573845\n",
      "2022-03-22 14:28:08,577 fedbiomed INFO - \u001b[1mTRAINING\u001b[0m \n",
      "\t\t\t\t\t NODE_ID: node_fa6a1655-e676-42a8-a6a5-fe2630057d46 \n",
      "\t\t\t\t\t Epoch: 2 | Completed: 120/120 (100%) \n",
      " \t\t\t\t\t Loss: \u001b[1m1.573845\u001b[0m \n",
      "\t\t\t\t\t ---------\n",
      "2022-03-22 14:28:08,579 fedbiomed INFO - log from: node_fa6a1655-e676-42a8-a6a5-fe2630057d46 / INFO - Train Epoch: 3 [Batch All Samples]\tLoss: 1.093544\n",
      "2022-03-22 14:28:08,582 fedbiomed INFO - \u001b[1mTRAINING\u001b[0m \n",
      "\t\t\t\t\t NODE_ID: node_fa6a1655-e676-42a8-a6a5-fe2630057d46 \n",
      "\t\t\t\t\t Epoch: 3 | Completed: 120/120 (100%) \n",
      " \t\t\t\t\t Loss: \u001b[1m1.093544\u001b[0m \n",
      "\t\t\t\t\t ---------\n",
      "2022-03-22 14:28:08,585 fedbiomed INFO - log from: node_fa6a1655-e676-42a8-a6a5-fe2630057d46 / INFO - Train Epoch: 4 [Batch All Samples]\tLoss: 1.174920\n",
      "2022-03-22 14:28:08,588 fedbiomed INFO - \u001b[1mTRAINING\u001b[0m \n",
      "\t\t\t\t\t NODE_ID: node_fa6a1655-e676-42a8-a6a5-fe2630057d46 \n",
      "\t\t\t\t\t Epoch: 4 | Completed: 120/120 (100%) \n",
      " \t\t\t\t\t Loss: \u001b[1m1.174920\u001b[0m \n",
      "\t\t\t\t\t ---------\n",
      "2022-03-22 14:28:08,593 fedbiomed INFO - \u001b[1mTESTING AFTER TRAINING\u001b[0m \n",
      "\t\t\t\t\t NODE_ID: node_fa6a1655-e676-42a8-a6a5-fe2630057d46 \n",
      "\t\t\t\t\t Completed: 30/30 (100%) \n",
      " \t\t\t\t\t ACCURACY: \u001b[1m0.866667\u001b[0m \n",
      "\t\t\t\t\t ---------\n",
      "2022-03-22 14:28:08,648 fedbiomed INFO - log from: node_fa6a1655-e676-42a8-a6a5-fe2630057d46 / INFO - results uploaded successfully \n"
     ]
    },
    {
     "name": "stderr",
     "output_type": "stream",
     "text": [
      "2022-03-22 14:28:18,510 fedbiomed INFO - Downloading model params after training on node_fa6a1655-e676-42a8-a6a5-fe2630057d46 - from http://localhost:8844/media/uploads/2022/03/22/node_params_789927e7-88ab-4b11-bbf2-d67c723121d7.pt\n",
      "2022-03-22 14:28:18,532 fedbiomed DEBUG - upload (HTTP GET request) of file node_params_45583a3a-de38-4c7b-8c28-0eb2cb57059c.pt successful, with status code 200\n",
      "2022-03-22 14:28:18,538 fedbiomed INFO - Nodes that successfully reply in round 1 ['node_fa6a1655-e676-42a8-a6a5-fe2630057d46']\n",
      "2022-03-22 14:28:18,600 fedbiomed DEBUG - upload (HTTP POST request) of file /home/scansiz/Desktop/Inria/development/fedbiomed/var/experiments/Experiment_0021/aggregated_params_5a2aacc5-f74e-4527-991f-0d855bb3aa6b.pt successful, with status code 201\n",
      "2022-03-22 14:28:18,601 fedbiomed INFO - Saved aggregated params for round 1 in /home/scansiz/Desktop/Inria/development/fedbiomed/var/experiments/Experiment_0021/aggregated_params_5a2aacc5-f74e-4527-991f-0d855bb3aa6b.pt\n",
      "2022-03-22 14:28:18,602 fedbiomed INFO - Sampled nodes in round 2 ['node_fa6a1655-e676-42a8-a6a5-fe2630057d46']\n",
      "2022-03-22 14:28:18,604 fedbiomed INFO - Send message to node node_fa6a1655-e676-42a8-a6a5-fe2630057d46 - {'researcher_id': 'researcher_1fecd236-3507-4a58-9921-8d364492a6d1', 'job_id': 'd4ba1080-9d92-42c7-b8f6-0f0cfa024f87', 'training_args': {'epochs': 5}, 'model_args': {'model': 'Perceptron', 'max_iter': 1000, 'tol': 0.001, 'n_features': 20, 'n_classes': 2, 'verbose': 1}, 'command': 'train', 'model_url': 'http://localhost:8844/media/uploads/2022/03/22/my_model_20050bcf-c4d5-430a-96eb-43ab6e2e612a.py', 'params_url': 'http://localhost:8844/media/uploads/2022/03/22/aggregated_params_5a2aacc5-f74e-4527-991f-0d855bb3aa6b.pt', 'model_class': 'SkLearnTrainingPlan', 'training_data': {'node_fa6a1655-e676-42a8-a6a5-fe2630057d46': ['dataset_579dde20-22b3-443b-8efd-a73a799d2ea6']}}\n",
      "2022-03-22 14:28:18,605 fedbiomed DEBUG - researcher_1fecd236-3507-4a58-9921-8d364492a6d1\n",
      "2022-03-22 14:28:18,659 fedbiomed INFO - log from: node_fa6a1655-e676-42a8-a6a5-fe2630057d46 / INFO - training with arguments {'history_monitor': <fedbiomed.node.history_monitor.HistoryMonitor object at 0x7fd380d38130>, 'node_args': {'gpu': False, 'gpu_num': None, 'gpu_only': False}, 'epochs': 5}\n",
      "2022-03-22 14:28:18,663 fedbiomed INFO - \u001b[1mTESTING BEFORE TRAINING\u001b[0m \n",
      "\t\t\t\t\t NODE_ID: node_fa6a1655-e676-42a8-a6a5-fe2630057d46 \n",
      "\t\t\t\t\t Completed: 30/30 (100%) \n",
      " \t\t\t\t\t RECALL: \u001b[1m1.000000\u001b[0m \n",
      "\t\t\t\t\t ---------\n",
      "2022-03-22 14:28:18,667 fedbiomed INFO - log from: node_fa6a1655-e676-42a8-a6a5-fe2630057d46 / INFO - Train Epoch: 0 [Batch All Samples]\tLoss: 1.220484\n",
      "2022-03-22 14:28:18,671 fedbiomed INFO - \u001b[1mTRAINING\u001b[0m \n",
      "\t\t\t\t\t NODE_ID: node_fa6a1655-e676-42a8-a6a5-fe2630057d46 \n",
      "\t\t\t\t\t Epoch: 0 | Completed: 120/120 (100%) \n",
      " \t\t\t\t\t Loss: \u001b[1m1.220484\u001b[0m \n",
      "\t\t\t\t\t ---------\n",
      "2022-03-22 14:28:18,673 fedbiomed INFO - log from: node_fa6a1655-e676-42a8-a6a5-fe2630057d46 / INFO - Train Epoch: 1 [Batch All Samples]\tLoss: 1.138932\n",
      "2022-03-22 14:28:18,676 fedbiomed INFO - \u001b[1mTRAINING\u001b[0m \n",
      "\t\t\t\t\t NODE_ID: node_fa6a1655-e676-42a8-a6a5-fe2630057d46 \n",
      "\t\t\t\t\t Epoch: 1 | Completed: 120/120 (100%) \n",
      " \t\t\t\t\t Loss: \u001b[1m1.138932\u001b[0m \n",
      "\t\t\t\t\t ---------\n",
      "2022-03-22 14:28:18,680 fedbiomed INFO - log from: node_fa6a1655-e676-42a8-a6a5-fe2630057d46 / INFO - Train Epoch: 2 [Batch All Samples]\tLoss: 0.937751\n",
      "2022-03-22 14:28:18,683 fedbiomed INFO - \u001b[1mTRAINING\u001b[0m \n",
      "\t\t\t\t\t NODE_ID: node_fa6a1655-e676-42a8-a6a5-fe2630057d46 \n",
      "\t\t\t\t\t Epoch: 2 | Completed: 120/120 (100%) \n",
      " \t\t\t\t\t Loss: \u001b[1m0.937751\u001b[0m \n",
      "\t\t\t\t\t ---------\n",
      "2022-03-22 14:28:18,686 fedbiomed INFO - log from: node_fa6a1655-e676-42a8-a6a5-fe2630057d46 / INFO - Train Epoch: 3 [Batch All Samples]\tLoss: 0.659191\n",
      "2022-03-22 14:28:18,693 fedbiomed INFO - \u001b[1mTRAINING\u001b[0m \n",
      "\t\t\t\t\t NODE_ID: node_fa6a1655-e676-42a8-a6a5-fe2630057d46 \n",
      "\t\t\t\t\t Epoch: 3 | Completed: 120/120 (100%) \n",
      " \t\t\t\t\t Loss: \u001b[1m0.659191\u001b[0m \n",
      "\t\t\t\t\t ---------\n",
      "2022-03-22 14:28:18,696 fedbiomed INFO - log from: node_fa6a1655-e676-42a8-a6a5-fe2630057d46 / INFO - Train Epoch: 4 [Batch All Samples]\tLoss: 1.030384\n",
      "2022-03-22 14:28:18,700 fedbiomed INFO - \u001b[1mTRAINING\u001b[0m \n",
      "\t\t\t\t\t NODE_ID: node_fa6a1655-e676-42a8-a6a5-fe2630057d46 \n",
      "\t\t\t\t\t Epoch: 4 | Completed: 120/120 (100%) \n",
      " \t\t\t\t\t Loss: \u001b[1m1.030384\u001b[0m \n",
      "\t\t\t\t\t ---------\n",
      "2022-03-22 14:28:18,703 fedbiomed INFO - \u001b[1mTESTING AFTER TRAINING\u001b[0m \n",
      "\t\t\t\t\t NODE_ID: node_fa6a1655-e676-42a8-a6a5-fe2630057d46 \n",
      "\t\t\t\t\t Completed: 30/30 (100%) \n",
      " \t\t\t\t\t ACCURACY: \u001b[1m0.866667\u001b[0m \n",
      "\t\t\t\t\t ---------\n",
      "2022-03-22 14:28:18,761 fedbiomed INFO - log from: node_fa6a1655-e676-42a8-a6a5-fe2630057d46 / INFO - results uploaded successfully \n",
      "2022-03-22 14:28:28,621 fedbiomed INFO - Downloading model params after training on node_fa6a1655-e676-42a8-a6a5-fe2630057d46 - from http://localhost:8844/media/uploads/2022/03/22/node_params_fd975a99-c7f3-4c0b-9935-311d96602f9f.pt\n",
      "2022-03-22 14:28:28,641 fedbiomed DEBUG - upload (HTTP GET request) of file node_params_29024820-2ec7-4a8a-9ad7-85d69e1517fe.pt successful, with status code 200\n",
      "2022-03-22 14:28:28,649 fedbiomed INFO - Nodes that successfully reply in round 2 ['node_fa6a1655-e676-42a8-a6a5-fe2630057d46']\n",
      "2022-03-22 14:28:28,715 fedbiomed DEBUG - upload (HTTP POST request) of file /home/scansiz/Desktop/Inria/development/fedbiomed/var/experiments/Experiment_0021/aggregated_params_e3e0bbca-ee16-4870-ba82-c556b606b982.pt successful, with status code 201\n",
      "2022-03-22 14:28:28,718 fedbiomed INFO - Saved aggregated params for round 2 in /home/scansiz/Desktop/Inria/development/fedbiomed/var/experiments/Experiment_0021/aggregated_params_e3e0bbca-ee16-4870-ba82-c556b606b982.pt\n",
      "2022-03-22 14:28:28,720 fedbiomed INFO - Sampled nodes in round 3 ['node_fa6a1655-e676-42a8-a6a5-fe2630057d46']\n",
      "2022-03-22 14:28:28,723 fedbiomed INFO - Send message to node node_fa6a1655-e676-42a8-a6a5-fe2630057d46 - {'researcher_id': 'researcher_1fecd236-3507-4a58-9921-8d364492a6d1', 'job_id': 'd4ba1080-9d92-42c7-b8f6-0f0cfa024f87', 'training_args': {'epochs': 5}, 'model_args': {'model': 'Perceptron', 'max_iter': 1000, 'tol': 0.001, 'n_features': 20, 'n_classes': 2, 'verbose': 1}, 'command': 'train', 'model_url': 'http://localhost:8844/media/uploads/2022/03/22/my_model_20050bcf-c4d5-430a-96eb-43ab6e2e612a.py', 'params_url': 'http://localhost:8844/media/uploads/2022/03/22/aggregated_params_e3e0bbca-ee16-4870-ba82-c556b606b982.pt', 'model_class': 'SkLearnTrainingPlan', 'training_data': {'node_fa6a1655-e676-42a8-a6a5-fe2630057d46': ['dataset_579dde20-22b3-443b-8efd-a73a799d2ea6']}}\n",
      "2022-03-22 14:28:28,727 fedbiomed DEBUG - researcher_1fecd236-3507-4a58-9921-8d364492a6d1\n",
      "2022-03-22 14:28:28,766 fedbiomed INFO - log from: node_fa6a1655-e676-42a8-a6a5-fe2630057d46 / INFO - training with arguments {'history_monitor': <fedbiomed.node.history_monitor.HistoryMonitor object at 0x7fd37fef4c70>, 'node_args': {'gpu': False, 'gpu_num': None, 'gpu_only': False}, 'epochs': 5}\n",
      "2022-03-22 14:28:28,768 fedbiomed INFO - \u001b[1mTESTING BEFORE TRAINING\u001b[0m \n",
      "\t\t\t\t\t NODE_ID: node_fa6a1655-e676-42a8-a6a5-fe2630057d46 \n",
      "\t\t\t\t\t Completed: 30/30 (100%) \n",
      " \t\t\t\t\t RECALL: \u001b[1m0.933333\u001b[0m \n",
      "\t\t\t\t\t ---------\n",
      "2022-03-22 14:28:28,772 fedbiomed INFO - log from: node_fa6a1655-e676-42a8-a6a5-fe2630057d46 / INFO - Train Epoch: 0 [Batch All Samples]\tLoss: 1.491979\n",
      "2022-03-22 14:28:28,775 fedbiomed INFO - \u001b[1mTRAINING\u001b[0m \n",
      "\t\t\t\t\t NODE_ID: node_fa6a1655-e676-42a8-a6a5-fe2630057d46 \n",
      "\t\t\t\t\t Epoch: 0 | Completed: 120/120 (100%) \n",
      " \t\t\t\t\t Loss: \u001b[1m1.491979\u001b[0m \n",
      "\t\t\t\t\t ---------\n",
      "2022-03-22 14:28:28,778 fedbiomed INFO - log from: node_fa6a1655-e676-42a8-a6a5-fe2630057d46 / INFO - Train Epoch: 1 [Batch All Samples]\tLoss: 1.280515\n",
      "2022-03-22 14:28:28,780 fedbiomed INFO - \u001b[1mTRAINING\u001b[0m \n",
      "\t\t\t\t\t NODE_ID: node_fa6a1655-e676-42a8-a6a5-fe2630057d46 \n",
      "\t\t\t\t\t Epoch: 1 | Completed: 120/120 (100%) \n",
      " \t\t\t\t\t Loss: \u001b[1m1.280515\u001b[0m \n",
      "\t\t\t\t\t ---------\n",
      "2022-03-22 14:28:28,782 fedbiomed INFO - log from: node_fa6a1655-e676-42a8-a6a5-fe2630057d46 / INFO - Train Epoch: 2 [Batch All Samples]\tLoss: 1.354739\n",
      "2022-03-22 14:28:28,784 fedbiomed INFO - \u001b[1mTRAINING\u001b[0m \n",
      "\t\t\t\t\t NODE_ID: node_fa6a1655-e676-42a8-a6a5-fe2630057d46 \n",
      "\t\t\t\t\t Epoch: 2 | Completed: 120/120 (100%) \n",
      " \t\t\t\t\t Loss: \u001b[1m1.354739\u001b[0m \n",
      "\t\t\t\t\t ---------\n"
     ]
    },
    {
     "name": "stderr",
     "output_type": "stream",
     "text": [
      "2022-03-22 14:28:28,786 fedbiomed INFO - log from: node_fa6a1655-e676-42a8-a6a5-fe2630057d46 / INFO - Train Epoch: 3 [Batch All Samples]\tLoss: 1.357425\n",
      "2022-03-22 14:28:28,788 fedbiomed INFO - \u001b[1mTRAINING\u001b[0m \n",
      "\t\t\t\t\t NODE_ID: node_fa6a1655-e676-42a8-a6a5-fe2630057d46 \n",
      "\t\t\t\t\t Epoch: 3 | Completed: 120/120 (100%) \n",
      " \t\t\t\t\t Loss: \u001b[1m1.357425\u001b[0m \n",
      "\t\t\t\t\t ---------\n",
      "2022-03-22 14:28:28,790 fedbiomed INFO - log from: node_fa6a1655-e676-42a8-a6a5-fe2630057d46 / INFO - Train Epoch: 4 [Batch All Samples]\tLoss: 1.204858\n",
      "2022-03-22 14:28:28,792 fedbiomed INFO - \u001b[1mTRAINING\u001b[0m \n",
      "\t\t\t\t\t NODE_ID: node_fa6a1655-e676-42a8-a6a5-fe2630057d46 \n",
      "\t\t\t\t\t Epoch: 4 | Completed: 120/120 (100%) \n",
      " \t\t\t\t\t Loss: \u001b[1m1.204858\u001b[0m \n",
      "\t\t\t\t\t ---------\n",
      "2022-03-22 14:28:28,793 fedbiomed INFO - \u001b[1mTESTING AFTER TRAINING\u001b[0m \n",
      "\t\t\t\t\t NODE_ID: node_fa6a1655-e676-42a8-a6a5-fe2630057d46 \n",
      "\t\t\t\t\t Completed: 30/30 (100%) \n",
      " \t\t\t\t\t ACCURACY: \u001b[1m0.833333\u001b[0m \n",
      "\t\t\t\t\t ---------\n",
      "2022-03-22 14:28:28,830 fedbiomed INFO - log from: node_fa6a1655-e676-42a8-a6a5-fe2630057d46 / INFO - results uploaded successfully \n",
      "2022-03-22 14:28:38,743 fedbiomed INFO - Downloading model params after training on node_fa6a1655-e676-42a8-a6a5-fe2630057d46 - from http://localhost:8844/media/uploads/2022/03/22/node_params_f88b36a7-3c45-45de-bab4-8251fae3fb66.pt\n",
      "2022-03-22 14:28:38,760 fedbiomed DEBUG - upload (HTTP GET request) of file node_params_97d64db2-cf5f-4f6c-9423-a08e2ecf1635.pt successful, with status code 200\n",
      "2022-03-22 14:28:38,768 fedbiomed INFO - Nodes that successfully reply in round 3 ['node_fa6a1655-e676-42a8-a6a5-fe2630057d46']\n",
      "2022-03-22 14:28:38,832 fedbiomed DEBUG - upload (HTTP POST request) of file /home/scansiz/Desktop/Inria/development/fedbiomed/var/experiments/Experiment_0021/aggregated_params_58142410-4c07-4ed2-bbc3-532ce68a9b7b.pt successful, with status code 201\n",
      "2022-03-22 14:28:38,834 fedbiomed INFO - Saved aggregated params for round 3 in /home/scansiz/Desktop/Inria/development/fedbiomed/var/experiments/Experiment_0021/aggregated_params_58142410-4c07-4ed2-bbc3-532ce68a9b7b.pt\n",
      "2022-03-22 14:28:38,834 fedbiomed INFO - Sampled nodes in round 4 ['node_fa6a1655-e676-42a8-a6a5-fe2630057d46']\n",
      "2022-03-22 14:28:38,836 fedbiomed INFO - Send message to node node_fa6a1655-e676-42a8-a6a5-fe2630057d46 - {'researcher_id': 'researcher_1fecd236-3507-4a58-9921-8d364492a6d1', 'job_id': 'd4ba1080-9d92-42c7-b8f6-0f0cfa024f87', 'training_args': {'epochs': 5}, 'model_args': {'model': 'Perceptron', 'max_iter': 1000, 'tol': 0.001, 'n_features': 20, 'n_classes': 2, 'verbose': 1}, 'command': 'train', 'model_url': 'http://localhost:8844/media/uploads/2022/03/22/my_model_20050bcf-c4d5-430a-96eb-43ab6e2e612a.py', 'params_url': 'http://localhost:8844/media/uploads/2022/03/22/aggregated_params_58142410-4c07-4ed2-bbc3-532ce68a9b7b.pt', 'model_class': 'SkLearnTrainingPlan', 'training_data': {'node_fa6a1655-e676-42a8-a6a5-fe2630057d46': ['dataset_579dde20-22b3-443b-8efd-a73a799d2ea6']}}\n",
      "2022-03-22 14:28:38,837 fedbiomed DEBUG - researcher_1fecd236-3507-4a58-9921-8d364492a6d1\n",
      "2022-03-22 14:28:38,890 fedbiomed INFO - log from: node_fa6a1655-e676-42a8-a6a5-fe2630057d46 / INFO - training with arguments {'history_monitor': <fedbiomed.node.history_monitor.HistoryMonitor object at 0x7fd37fef4c10>, 'node_args': {'gpu': False, 'gpu_num': None, 'gpu_only': False}, 'epochs': 5}\n",
      "2022-03-22 14:28:38,896 fedbiomed INFO - \u001b[1mTESTING BEFORE TRAINING\u001b[0m \n",
      "\t\t\t\t\t NODE_ID: node_fa6a1655-e676-42a8-a6a5-fe2630057d46 \n",
      "\t\t\t\t\t Completed: 30/30 (100%) \n",
      " \t\t\t\t\t RECALL: \u001b[1m0.857143\u001b[0m \n",
      "\t\t\t\t\t ---------\n",
      "2022-03-22 14:28:38,899 fedbiomed INFO - log from: node_fa6a1655-e676-42a8-a6a5-fe2630057d46 / INFO - Train Epoch: 0 [Batch All Samples]\tLoss: 1.745081\n",
      "2022-03-22 14:28:38,902 fedbiomed INFO - \u001b[1mTRAINING\u001b[0m \n",
      "\t\t\t\t\t NODE_ID: node_fa6a1655-e676-42a8-a6a5-fe2630057d46 \n",
      "\t\t\t\t\t Epoch: 0 | Completed: 120/120 (100%) \n",
      " \t\t\t\t\t Loss: \u001b[1m1.745081\u001b[0m \n",
      "\t\t\t\t\t ---------\n",
      "2022-03-22 14:28:38,906 fedbiomed INFO - log from: node_fa6a1655-e676-42a8-a6a5-fe2630057d46 / INFO - Train Epoch: 1 [Batch All Samples]\tLoss: 1.587091\n",
      "2022-03-22 14:28:38,909 fedbiomed INFO - \u001b[1mTRAINING\u001b[0m \n",
      "\t\t\t\t\t NODE_ID: node_fa6a1655-e676-42a8-a6a5-fe2630057d46 \n",
      "\t\t\t\t\t Epoch: 1 | Completed: 120/120 (100%) \n",
      " \t\t\t\t\t Loss: \u001b[1m1.587091\u001b[0m \n",
      "\t\t\t\t\t ---------\n",
      "2022-03-22 14:28:38,910 fedbiomed INFO - log from: node_fa6a1655-e676-42a8-a6a5-fe2630057d46 / INFO - Train Epoch: 2 [Batch All Samples]\tLoss: 1.535943\n",
      "2022-03-22 14:28:38,913 fedbiomed INFO - \u001b[1mTRAINING\u001b[0m \n",
      "\t\t\t\t\t NODE_ID: node_fa6a1655-e676-42a8-a6a5-fe2630057d46 \n",
      "\t\t\t\t\t Epoch: 2 | Completed: 120/120 (100%) \n",
      " \t\t\t\t\t Loss: \u001b[1m1.535943\u001b[0m \n",
      "\t\t\t\t\t ---------\n",
      "2022-03-22 14:28:38,918 fedbiomed INFO - log from: node_fa6a1655-e676-42a8-a6a5-fe2630057d46 / INFO - Train Epoch: 3 [Batch All Samples]\tLoss: 1.125725\n",
      "2022-03-22 14:28:38,923 fedbiomed INFO - \u001b[1mTRAINING\u001b[0m \n",
      "\t\t\t\t\t NODE_ID: node_fa6a1655-e676-42a8-a6a5-fe2630057d46 \n",
      "\t\t\t\t\t Epoch: 3 | Completed: 120/120 (100%) \n",
      " \t\t\t\t\t Loss: \u001b[1m1.125725\u001b[0m \n",
      "\t\t\t\t\t ---------\n",
      "2022-03-22 14:28:38,929 fedbiomed INFO - log from: node_fa6a1655-e676-42a8-a6a5-fe2630057d46 / INFO - Train Epoch: 4 [Batch All Samples]\tLoss: 0.909819\n",
      "2022-03-22 14:28:38,937 fedbiomed INFO - \u001b[1mTRAINING\u001b[0m \n",
      "\t\t\t\t\t NODE_ID: node_fa6a1655-e676-42a8-a6a5-fe2630057d46 \n",
      "\t\t\t\t\t Epoch: 4 | Completed: 120/120 (100%) \n",
      " \t\t\t\t\t Loss: \u001b[1m0.909819\u001b[0m \n",
      "\t\t\t\t\t ---------\n",
      "2022-03-22 14:28:38,941 fedbiomed INFO - \u001b[1mTESTING AFTER TRAINING\u001b[0m \n",
      "\t\t\t\t\t NODE_ID: node_fa6a1655-e676-42a8-a6a5-fe2630057d46 \n",
      "\t\t\t\t\t Completed: 30/30 (100%) \n",
      " \t\t\t\t\t ACCURACY: \u001b[1m0.800000\u001b[0m \n",
      "\t\t\t\t\t ---------\n",
      "2022-03-22 14:28:38,995 fedbiomed INFO - log from: node_fa6a1655-e676-42a8-a6a5-fe2630057d46 / INFO - results uploaded successfully \n",
      "2022-03-22 14:28:48,852 fedbiomed INFO - Downloading model params after training on node_fa6a1655-e676-42a8-a6a5-fe2630057d46 - from http://localhost:8844/media/uploads/2022/03/22/node_params_68caf37d-9d67-4007-99c7-b65bd51e46e6.pt\n",
      "2022-03-22 14:28:48,871 fedbiomed DEBUG - upload (HTTP GET request) of file node_params_d3cc59c5-62fb-40a1-85a5-570bc377158a.pt successful, with status code 200\n",
      "2022-03-22 14:28:48,879 fedbiomed INFO - Nodes that successfully reply in round 4 ['node_fa6a1655-e676-42a8-a6a5-fe2630057d46']\n",
      "2022-03-22 14:28:48,936 fedbiomed DEBUG - upload (HTTP POST request) of file /home/scansiz/Desktop/Inria/development/fedbiomed/var/experiments/Experiment_0021/aggregated_params_f2140779-849f-4ea5-a978-ec8f3b986c3b.pt successful, with status code 201\n",
      "2022-03-22 14:28:48,938 fedbiomed INFO - Saved aggregated params for round 4 in /home/scansiz/Desktop/Inria/development/fedbiomed/var/experiments/Experiment_0021/aggregated_params_f2140779-849f-4ea5-a978-ec8f3b986c3b.pt\n",
      "2022-03-22 14:28:48,939 fedbiomed INFO - Sampled nodes in round 5 ['node_fa6a1655-e676-42a8-a6a5-fe2630057d46']\n",
      "2022-03-22 14:28:48,940 fedbiomed INFO - Send message to node node_fa6a1655-e676-42a8-a6a5-fe2630057d46 - {'researcher_id': 'researcher_1fecd236-3507-4a58-9921-8d364492a6d1', 'job_id': 'd4ba1080-9d92-42c7-b8f6-0f0cfa024f87', 'training_args': {'epochs': 5}, 'model_args': {'model': 'Perceptron', 'max_iter': 1000, 'tol': 0.001, 'n_features': 20, 'n_classes': 2, 'verbose': 1}, 'command': 'train', 'model_url': 'http://localhost:8844/media/uploads/2022/03/22/my_model_20050bcf-c4d5-430a-96eb-43ab6e2e612a.py', 'params_url': 'http://localhost:8844/media/uploads/2022/03/22/aggregated_params_f2140779-849f-4ea5-a978-ec8f3b986c3b.pt', 'model_class': 'SkLearnTrainingPlan', 'training_data': {'node_fa6a1655-e676-42a8-a6a5-fe2630057d46': ['dataset_579dde20-22b3-443b-8efd-a73a799d2ea6']}}\n",
      "2022-03-22 14:28:48,941 fedbiomed DEBUG - researcher_1fecd236-3507-4a58-9921-8d364492a6d1\n",
      "2022-03-22 14:28:48,989 fedbiomed INFO - log from: node_fa6a1655-e676-42a8-a6a5-fe2630057d46 / INFO - training with arguments {'history_monitor': <fedbiomed.node.history_monitor.HistoryMonitor object at 0x7fd2e6f98d60>, 'node_args': {'gpu': False, 'gpu_num': None, 'gpu_only': False}, 'epochs': 5}\n",
      "2022-03-22 14:28:48,993 fedbiomed INFO - \u001b[1mTESTING BEFORE TRAINING\u001b[0m \n",
      "\t\t\t\t\t NODE_ID: node_fa6a1655-e676-42a8-a6a5-fe2630057d46 \n",
      "\t\t\t\t\t Completed: 30/30 (100%) \n",
      " \t\t\t\t\t RECALL: \u001b[1m0.941176\u001b[0m \n",
      "\t\t\t\t\t ---------\n",
      "2022-03-22 14:28:48,996 fedbiomed INFO - log from: node_fa6a1655-e676-42a8-a6a5-fe2630057d46 / INFO - Train Epoch: 0 [Batch All Samples]\tLoss: 1.597376\n"
     ]
    },
    {
     "name": "stderr",
     "output_type": "stream",
     "text": [
      "2022-03-22 14:28:48,999 fedbiomed INFO - \u001b[1mTRAINING\u001b[0m \n",
      "\t\t\t\t\t NODE_ID: node_fa6a1655-e676-42a8-a6a5-fe2630057d46 \n",
      "\t\t\t\t\t Epoch: 0 | Completed: 120/120 (100%) \n",
      " \t\t\t\t\t Loss: \u001b[1m1.597376\u001b[0m \n",
      "\t\t\t\t\t ---------\n",
      "2022-03-22 14:28:49,002 fedbiomed INFO - log from: node_fa6a1655-e676-42a8-a6a5-fe2630057d46 / INFO - Train Epoch: 1 [Batch All Samples]\tLoss: 1.238870\n",
      "2022-03-22 14:28:49,004 fedbiomed INFO - \u001b[1mTRAINING\u001b[0m \n",
      "\t\t\t\t\t NODE_ID: node_fa6a1655-e676-42a8-a6a5-fe2630057d46 \n",
      "\t\t\t\t\t Epoch: 1 | Completed: 120/120 (100%) \n",
      " \t\t\t\t\t Loss: \u001b[1m1.238870\u001b[0m \n",
      "\t\t\t\t\t ---------\n",
      "2022-03-22 14:28:49,007 fedbiomed INFO - log from: node_fa6a1655-e676-42a8-a6a5-fe2630057d46 / INFO - Train Epoch: 2 [Batch All Samples]\tLoss: 0.788212\n",
      "2022-03-22 14:28:49,012 fedbiomed INFO - \u001b[1mTRAINING\u001b[0m \n",
      "\t\t\t\t\t NODE_ID: node_fa6a1655-e676-42a8-a6a5-fe2630057d46 \n",
      "\t\t\t\t\t Epoch: 2 | Completed: 120/120 (100%) \n",
      " \t\t\t\t\t Loss: \u001b[1m0.788212\u001b[0m \n",
      "\t\t\t\t\t ---------\n",
      "2022-03-22 14:28:49,016 fedbiomed INFO - log from: node_fa6a1655-e676-42a8-a6a5-fe2630057d46 / INFO - Train Epoch: 3 [Batch All Samples]\tLoss: 0.911004\n",
      "2022-03-22 14:28:49,019 fedbiomed INFO - \u001b[1mTRAINING\u001b[0m \n",
      "\t\t\t\t\t NODE_ID: node_fa6a1655-e676-42a8-a6a5-fe2630057d46 \n",
      "\t\t\t\t\t Epoch: 3 | Completed: 120/120 (100%) \n",
      " \t\t\t\t\t Loss: \u001b[1m0.911004\u001b[0m \n",
      "\t\t\t\t\t ---------\n",
      "2022-03-22 14:28:49,022 fedbiomed INFO - log from: node_fa6a1655-e676-42a8-a6a5-fe2630057d46 / INFO - Train Epoch: 4 [Batch All Samples]\tLoss: 0.978750\n",
      "2022-03-22 14:28:49,025 fedbiomed INFO - \u001b[1mTRAINING\u001b[0m \n",
      "\t\t\t\t\t NODE_ID: node_fa6a1655-e676-42a8-a6a5-fe2630057d46 \n",
      "\t\t\t\t\t Epoch: 4 | Completed: 120/120 (100%) \n",
      " \t\t\t\t\t Loss: \u001b[1m0.978750\u001b[0m \n",
      "\t\t\t\t\t ---------\n",
      "2022-03-22 14:28:49,029 fedbiomed INFO - \u001b[1mTESTING AFTER TRAINING\u001b[0m \n",
      "\t\t\t\t\t NODE_ID: node_fa6a1655-e676-42a8-a6a5-fe2630057d46 \n",
      "\t\t\t\t\t Completed: 30/30 (100%) \n",
      " \t\t\t\t\t ACCURACY: \u001b[1m0.833333\u001b[0m \n",
      "\t\t\t\t\t ---------\n",
      "2022-03-22 14:28:49,083 fedbiomed INFO - log from: node_fa6a1655-e676-42a8-a6a5-fe2630057d46 / INFO - results uploaded successfully \n",
      "2022-03-22 14:28:58,954 fedbiomed INFO - Downloading model params after training on node_fa6a1655-e676-42a8-a6a5-fe2630057d46 - from http://localhost:8844/media/uploads/2022/03/22/node_params_d98d6855-631d-435e-ba41-f4461d0af541.pt\n",
      "2022-03-22 14:28:58,968 fedbiomed DEBUG - upload (HTTP GET request) of file node_params_6d23f96f-af00-4009-af16-7e84d454a6b7.pt successful, with status code 200\n",
      "2022-03-22 14:28:58,971 fedbiomed INFO - Nodes that successfully reply in round 5 ['node_fa6a1655-e676-42a8-a6a5-fe2630057d46']\n",
      "2022-03-22 14:28:59,023 fedbiomed DEBUG - upload (HTTP POST request) of file /home/scansiz/Desktop/Inria/development/fedbiomed/var/experiments/Experiment_0021/aggregated_params_fbed1805-a1f8-448a-b332-43a6ea53c2e5.pt successful, with status code 201\n",
      "2022-03-22 14:28:59,026 fedbiomed INFO - Saved aggregated params for round 5 in /home/scansiz/Desktop/Inria/development/fedbiomed/var/experiments/Experiment_0021/aggregated_params_fbed1805-a1f8-448a-b332-43a6ea53c2e5.pt\n",
      "2022-03-22 14:28:59,028 fedbiomed INFO - Sampled nodes in round 6 ['node_fa6a1655-e676-42a8-a6a5-fe2630057d46']\n",
      "2022-03-22 14:28:59,029 fedbiomed INFO - Send message to node node_fa6a1655-e676-42a8-a6a5-fe2630057d46 - {'researcher_id': 'researcher_1fecd236-3507-4a58-9921-8d364492a6d1', 'job_id': 'd4ba1080-9d92-42c7-b8f6-0f0cfa024f87', 'training_args': {'epochs': 5}, 'model_args': {'model': 'Perceptron', 'max_iter': 1000, 'tol': 0.001, 'n_features': 20, 'n_classes': 2, 'verbose': 1}, 'command': 'train', 'model_url': 'http://localhost:8844/media/uploads/2022/03/22/my_model_20050bcf-c4d5-430a-96eb-43ab6e2e612a.py', 'params_url': 'http://localhost:8844/media/uploads/2022/03/22/aggregated_params_fbed1805-a1f8-448a-b332-43a6ea53c2e5.pt', 'model_class': 'SkLearnTrainingPlan', 'training_data': {'node_fa6a1655-e676-42a8-a6a5-fe2630057d46': ['dataset_579dde20-22b3-443b-8efd-a73a799d2ea6']}}\n",
      "2022-03-22 14:28:59,030 fedbiomed DEBUG - researcher_1fecd236-3507-4a58-9921-8d364492a6d1\n",
      "2022-03-22 14:28:59,084 fedbiomed INFO - log from: node_fa6a1655-e676-42a8-a6a5-fe2630057d46 / INFO - training with arguments {'history_monitor': <fedbiomed.node.history_monitor.HistoryMonitor object at 0x7fd37fef4c10>, 'node_args': {'gpu': False, 'gpu_num': None, 'gpu_only': False}, 'epochs': 5}\n",
      "2022-03-22 14:28:59,091 fedbiomed INFO - \u001b[1mTESTING BEFORE TRAINING\u001b[0m \n",
      "\t\t\t\t\t NODE_ID: node_fa6a1655-e676-42a8-a6a5-fe2630057d46 \n",
      "\t\t\t\t\t Completed: 30/30 (100%) \n",
      " \t\t\t\t\t RECALL: \u001b[1m1.000000\u001b[0m \n",
      "\t\t\t\t\t ---------\n",
      "2022-03-22 14:28:59,094 fedbiomed INFO - log from: node_fa6a1655-e676-42a8-a6a5-fe2630057d46 / INFO - Train Epoch: 0 [Batch All Samples]\tLoss: 1.566879\n",
      "2022-03-22 14:28:59,095 fedbiomed INFO - \u001b[1mTRAINING\u001b[0m \n",
      "\t\t\t\t\t NODE_ID: node_fa6a1655-e676-42a8-a6a5-fe2630057d46 \n",
      "\t\t\t\t\t Epoch: 0 | Completed: 120/120 (100%) \n",
      " \t\t\t\t\t Loss: \u001b[1m1.566879\u001b[0m \n",
      "\t\t\t\t\t ---------\n",
      "2022-03-22 14:28:59,097 fedbiomed INFO - log from: node_fa6a1655-e676-42a8-a6a5-fe2630057d46 / INFO - Train Epoch: 1 [Batch All Samples]\tLoss: 1.414304\n",
      "2022-03-22 14:28:59,101 fedbiomed INFO - \u001b[1mTRAINING\u001b[0m \n",
      "\t\t\t\t\t NODE_ID: node_fa6a1655-e676-42a8-a6a5-fe2630057d46 \n",
      "\t\t\t\t\t Epoch: 1 | Completed: 120/120 (100%) \n",
      " \t\t\t\t\t Loss: \u001b[1m1.414304\u001b[0m \n",
      "\t\t\t\t\t ---------\n",
      "2022-03-22 14:28:59,104 fedbiomed INFO - log from: node_fa6a1655-e676-42a8-a6a5-fe2630057d46 / INFO - Train Epoch: 2 [Batch All Samples]\tLoss: 1.185608\n",
      "2022-03-22 14:28:59,107 fedbiomed INFO - \u001b[1mTRAINING\u001b[0m \n",
      "\t\t\t\t\t NODE_ID: node_fa6a1655-e676-42a8-a6a5-fe2630057d46 \n",
      "\t\t\t\t\t Epoch: 2 | Completed: 120/120 (100%) \n",
      " \t\t\t\t\t Loss: \u001b[1m1.185608\u001b[0m \n",
      "\t\t\t\t\t ---------\n",
      "2022-03-22 14:28:59,111 fedbiomed INFO - log from: node_fa6a1655-e676-42a8-a6a5-fe2630057d46 / INFO - Train Epoch: 3 [Batch All Samples]\tLoss: 1.344579\n",
      "2022-03-22 14:28:59,114 fedbiomed INFO - \u001b[1mTRAINING\u001b[0m \n",
      "\t\t\t\t\t NODE_ID: node_fa6a1655-e676-42a8-a6a5-fe2630057d46 \n",
      "\t\t\t\t\t Epoch: 3 | Completed: 120/120 (100%) \n",
      " \t\t\t\t\t Loss: \u001b[1m1.344579\u001b[0m \n",
      "\t\t\t\t\t ---------\n",
      "2022-03-22 14:28:59,117 fedbiomed INFO - log from: node_fa6a1655-e676-42a8-a6a5-fe2630057d46 / INFO - Train Epoch: 4 [Batch All Samples]\tLoss: 1.107575\n",
      "2022-03-22 14:28:59,123 fedbiomed INFO - \u001b[1mTRAINING\u001b[0m \n",
      "\t\t\t\t\t NODE_ID: node_fa6a1655-e676-42a8-a6a5-fe2630057d46 \n",
      "\t\t\t\t\t Epoch: 4 | Completed: 120/120 (100%) \n",
      " \t\t\t\t\t Loss: \u001b[1m1.107575\u001b[0m \n",
      "\t\t\t\t\t ---------\n",
      "2022-03-22 14:28:59,125 fedbiomed INFO - \u001b[1mTESTING AFTER TRAINING\u001b[0m \n",
      "\t\t\t\t\t NODE_ID: node_fa6a1655-e676-42a8-a6a5-fe2630057d46 \n",
      "\t\t\t\t\t Completed: 30/30 (100%) \n",
      " \t\t\t\t\t ACCURACY: \u001b[1m0.900000\u001b[0m \n",
      "\t\t\t\t\t ---------\n",
      "2022-03-22 14:28:59,178 fedbiomed INFO - log from: node_fa6a1655-e676-42a8-a6a5-fe2630057d46 / INFO - results uploaded successfully \n",
      "2022-03-22 14:29:09,043 fedbiomed INFO - Downloading model params after training on node_fa6a1655-e676-42a8-a6a5-fe2630057d46 - from http://localhost:8844/media/uploads/2022/03/22/node_params_b037662c-2112-40ed-a32e-54fd9a1bb640.pt\n",
      "2022-03-22 14:29:09,056 fedbiomed DEBUG - upload (HTTP GET request) of file node_params_b89389d5-3a80-48f8-b389-8e8a6f08aa12.pt successful, with status code 200\n",
      "2022-03-22 14:29:09,059 fedbiomed INFO - Nodes that successfully reply in round 6 ['node_fa6a1655-e676-42a8-a6a5-fe2630057d46']\n",
      "2022-03-22 14:29:09,112 fedbiomed DEBUG - upload (HTTP POST request) of file /home/scansiz/Desktop/Inria/development/fedbiomed/var/experiments/Experiment_0021/aggregated_params_1b6e89b2-2282-41ec-a560-9ead9885795d.pt successful, with status code 201\n",
      "2022-03-22 14:29:09,114 fedbiomed INFO - Saved aggregated params for round 6 in /home/scansiz/Desktop/Inria/development/fedbiomed/var/experiments/Experiment_0021/aggregated_params_1b6e89b2-2282-41ec-a560-9ead9885795d.pt\n",
      "2022-03-22 14:29:09,114 fedbiomed INFO - Sampled nodes in round 7 ['node_fa6a1655-e676-42a8-a6a5-fe2630057d46']\n",
      "2022-03-22 14:29:09,115 fedbiomed INFO - Send message to node node_fa6a1655-e676-42a8-a6a5-fe2630057d46 - {'researcher_id': 'researcher_1fecd236-3507-4a58-9921-8d364492a6d1', 'job_id': 'd4ba1080-9d92-42c7-b8f6-0f0cfa024f87', 'training_args': {'epochs': 5}, 'model_args': {'model': 'Perceptron', 'max_iter': 1000, 'tol': 0.001, 'n_features': 20, 'n_classes': 2, 'verbose': 1}, 'command': 'train', 'model_url': 'http://localhost:8844/media/uploads/2022/03/22/my_model_20050bcf-c4d5-430a-96eb-43ab6e2e612a.py', 'params_url': 'http://localhost:8844/media/uploads/2022/03/22/aggregated_params_1b6e89b2-2282-41ec-a560-9ead9885795d.pt', 'model_class': 'SkLearnTrainingPlan', 'training_data': {'node_fa6a1655-e676-42a8-a6a5-fe2630057d46': ['dataset_579dde20-22b3-443b-8efd-a73a799d2ea6']}}\n"
     ]
    },
    {
     "name": "stderr",
     "output_type": "stream",
     "text": [
      "2022-03-22 14:29:09,116 fedbiomed DEBUG - researcher_1fecd236-3507-4a58-9921-8d364492a6d1\n",
      "2022-03-22 14:29:09,174 fedbiomed INFO - log from: node_fa6a1655-e676-42a8-a6a5-fe2630057d46 / INFO - training with arguments {'history_monitor': <fedbiomed.node.history_monitor.HistoryMonitor object at 0x7fd37fef4c70>, 'node_args': {'gpu': False, 'gpu_num': None, 'gpu_only': False}, 'epochs': 5}\n",
      "2022-03-22 14:29:09,177 fedbiomed INFO - \u001b[1mTESTING BEFORE TRAINING\u001b[0m \n",
      "\t\t\t\t\t NODE_ID: node_fa6a1655-e676-42a8-a6a5-fe2630057d46 \n",
      "\t\t\t\t\t Completed: 30/30 (100%) \n",
      " \t\t\t\t\t RECALL: \u001b[1m1.000000\u001b[0m \n",
      "\t\t\t\t\t ---------\n",
      "2022-03-22 14:29:09,180 fedbiomed INFO - log from: node_fa6a1655-e676-42a8-a6a5-fe2630057d46 / INFO - Train Epoch: 0 [Batch All Samples]\tLoss: 1.115159\n",
      "2022-03-22 14:29:09,183 fedbiomed INFO - \u001b[1mTRAINING\u001b[0m \n",
      "\t\t\t\t\t NODE_ID: node_fa6a1655-e676-42a8-a6a5-fe2630057d46 \n",
      "\t\t\t\t\t Epoch: 0 | Completed: 120/120 (100%) \n",
      " \t\t\t\t\t Loss: \u001b[1m1.115159\u001b[0m \n",
      "\t\t\t\t\t ---------\n",
      "2022-03-22 14:29:09,186 fedbiomed INFO - log from: node_fa6a1655-e676-42a8-a6a5-fe2630057d46 / INFO - Train Epoch: 1 [Batch All Samples]\tLoss: 1.226322\n",
      "2022-03-22 14:29:09,191 fedbiomed INFO - \u001b[1mTRAINING\u001b[0m \n",
      "\t\t\t\t\t NODE_ID: node_fa6a1655-e676-42a8-a6a5-fe2630057d46 \n",
      "\t\t\t\t\t Epoch: 1 | Completed: 120/120 (100%) \n",
      " \t\t\t\t\t Loss: \u001b[1m1.226322\u001b[0m \n",
      "\t\t\t\t\t ---------\n",
      "2022-03-22 14:29:09,194 fedbiomed INFO - log from: node_fa6a1655-e676-42a8-a6a5-fe2630057d46 / INFO - Train Epoch: 2 [Batch All Samples]\tLoss: 1.669121\n",
      "2022-03-22 14:29:09,197 fedbiomed INFO - \u001b[1mTRAINING\u001b[0m \n",
      "\t\t\t\t\t NODE_ID: node_fa6a1655-e676-42a8-a6a5-fe2630057d46 \n",
      "\t\t\t\t\t Epoch: 2 | Completed: 120/120 (100%) \n",
      " \t\t\t\t\t Loss: \u001b[1m1.669121\u001b[0m \n",
      "\t\t\t\t\t ---------\n",
      "2022-03-22 14:29:09,205 fedbiomed INFO - log from: node_fa6a1655-e676-42a8-a6a5-fe2630057d46 / INFO - Train Epoch: 3 [Batch All Samples]\tLoss: 1.362244\n",
      "2022-03-22 14:29:09,210 fedbiomed INFO - log from: node_fa6a1655-e676-42a8-a6a5-fe2630057d46 / INFO - Train Epoch: 4 [Batch All Samples]\tLoss: 1.316419\n",
      "2022-03-22 14:29:09,265 fedbiomed INFO - log from: node_fa6a1655-e676-42a8-a6a5-fe2630057d46 / INFO - results uploaded successfully \n",
      "2022-03-22 14:29:19,130 fedbiomed INFO - Downloading model params after training on node_fa6a1655-e676-42a8-a6a5-fe2630057d46 - from http://localhost:8844/media/uploads/2022/03/22/node_params_a5a7528a-d124-4087-ad21-7ddb7da5809e.pt\n",
      "2022-03-22 14:29:19,147 fedbiomed DEBUG - upload (HTTP GET request) of file node_params_597c1e66-37f4-45c0-b1ac-b5d824c292d3.pt successful, with status code 200\n",
      "2022-03-22 14:29:19,155 fedbiomed INFO - Nodes that successfully reply in round 7 ['node_fa6a1655-e676-42a8-a6a5-fe2630057d46']\n",
      "2022-03-22 14:29:19,216 fedbiomed DEBUG - upload (HTTP POST request) of file /home/scansiz/Desktop/Inria/development/fedbiomed/var/experiments/Experiment_0021/aggregated_params_67127575-2327-4fd0-83b1-52b7bd823b58.pt successful, with status code 201\n",
      "2022-03-22 14:29:19,218 fedbiomed INFO - Saved aggregated params for round 7 in /home/scansiz/Desktop/Inria/development/fedbiomed/var/experiments/Experiment_0021/aggregated_params_67127575-2327-4fd0-83b1-52b7bd823b58.pt\n"
     ]
    },
    {
     "data": {
      "text/plain": [
       "8"
      ]
     },
     "execution_count": 11,
     "metadata": {},
     "output_type": "execute_result"
    },
    {
     "name": "stderr",
     "output_type": "stream",
     "text": [
      "2022-03-22 14:29:22,034 fedbiomed INFO - log from: node_fa6a1655-e676-42a8-a6a5-fe2630057d46 / CRITICAL - Node stopped in signal_handler, probably by user decision (Ctrl C)\n",
      "2022-03-22 14:29:22,187 fedbiomed INFO - log from: node_fa6a1655-e676-42a8-a6a5-fe2630057d46 / CRITICAL - Node stopped in signal_handler, probably by user decision (Ctrl C)\n",
      "2022-03-22 14:53:59,479 fedbiomed INFO - log from: node_fa6a1655-e676-42a8-a6a5-fe2630057d46 / INFO - Starting task manager\n",
      "2022-03-22 14:54:25,978 fedbiomed INFO - log from: node_fa6a1655-e676-42a8-a6a5-fe2630057d46 / INFO - training with arguments {'history_monitor': <fedbiomed.node.history_monitor.HistoryMonitor object at 0x7fae105b6850>, 'node_args': {'gpu': False, 'gpu_num': None, 'gpu_only': False}, 'batch_size': 48, 'lr': 0.001, 'epochs': 1, 'dry_run': False, 'batch_maxnum': 100}\n",
      "2022-03-22 14:54:33,518 fedbiomed INFO - log from: node_fa6a1655-e676-42a8-a6a5-fe2630057d46 / INFO - Actual/True values (y_true) has more than two levels, using multiclass `weighted` calculation for the metric RECALL\n",
      "2022-03-22 14:54:33,530 fedbiomed INFO - log from: node_fa6a1655-e676-42a8-a6a5-fe2630057d46 / ERROR - Cannot train model in round: training_routine() missing 1 required positional argument: 'data_loader'\n",
      "2022-03-22 14:54:50,023 fedbiomed INFO - log from: node_fa6a1655-e676-42a8-a6a5-fe2630057d46 / CRITICAL - Node stopped in signal_handler, probably by user decision (Ctrl C)\n",
      "2022-03-22 14:54:54,500 fedbiomed INFO - log from: node_fa6a1655-e676-42a8-a6a5-fe2630057d46 / INFO - Starting task manager\n",
      "2022-03-22 14:54:57,405 fedbiomed INFO - log from: node_fa6a1655-e676-42a8-a6a5-fe2630057d46 / INFO - training with arguments {'history_monitor': <fedbiomed.node.history_monitor.HistoryMonitor object at 0x7f18c22d9880>, 'node_args': {'gpu': False, 'gpu_num': None, 'gpu_only': False}, 'batch_size': 48, 'lr': 0.001, 'epochs': 1, 'dry_run': False, 'batch_maxnum': 100}\n",
      "2022-03-22 14:55:02,185 fedbiomed INFO - log from: node_fa6a1655-e676-42a8-a6a5-fe2630057d46 / INFO - Actual/True values (y_true) has more than two levels, using multiclass `weighted` calculation for the metric RECALL\n",
      "2022-03-22 14:55:14,304 fedbiomed INFO - log from: node_fa6a1655-e676-42a8-a6a5-fe2630057d46 / INFO - results uploaded successfully \n",
      "2022-03-22 14:55:27,635 fedbiomed INFO - log from: node_fa6a1655-e676-42a8-a6a5-fe2630057d46 / INFO - training with arguments {'history_monitor': <fedbiomed.node.history_monitor.HistoryMonitor object at 0x7f18c22d9f10>, 'node_args': {'gpu': False, 'gpu_num': None, 'gpu_only': False}, 'batch_size': 48, 'lr': 0.001, 'epochs': 1, 'dry_run': False, 'batch_maxnum': 100}\n",
      "2022-03-22 14:55:32,118 fedbiomed INFO - log from: node_fa6a1655-e676-42a8-a6a5-fe2630057d46 / INFO - Actual/True values (y_true) has more than two levels, using multiclass `weighted` calculation for the metric RECALL\n",
      "2022-03-22 14:55:44,396 fedbiomed INFO - log from: node_fa6a1655-e676-42a8-a6a5-fe2630057d46 / INFO - results uploaded successfully \n",
      "2022-03-22 14:55:44,525 fedbiomed INFO - log from: node_fa6a1655-e676-42a8-a6a5-fe2630057d46 / INFO - training with arguments {'history_monitor': <fedbiomed.node.history_monitor.HistoryMonitor object at 0x7f195bd7c430>, 'node_args': {'gpu': False, 'gpu_num': None, 'gpu_only': False}, 'batch_size': 48, 'lr': 0.001, 'epochs': 1, 'dry_run': False, 'batch_maxnum': 100}\n",
      "2022-03-22 14:55:50,607 fedbiomed INFO - log from: node_fa6a1655-e676-42a8-a6a5-fe2630057d46 / INFO - Actual/True values (y_true) has more than two levels, using multiclass `weighted` calculation for the metric RECALL\n",
      "2022-03-22 14:56:08,803 fedbiomed INFO - log from: node_fa6a1655-e676-42a8-a6a5-fe2630057d46 / INFO - results uploaded successfully \n",
      "2022-03-22 14:57:38,306 fedbiomed INFO - log from: node_fa6a1655-e676-42a8-a6a5-fe2630057d46 / CRITICAL - Node stopped in signal_handler, probably by user decision (Ctrl C)\n",
      "2022-03-22 14:57:41,959 fedbiomed INFO - log from: node_fa6a1655-e676-42a8-a6a5-fe2630057d46 / INFO - Starting task manager\n",
      "2022-03-22 14:58:22,824 fedbiomed INFO - log from: node_fa6a1655-e676-42a8-a6a5-fe2630057d46 / INFO - training with arguments {'history_monitor': <fedbiomed.node.history_monitor.HistoryMonitor object at 0x7f4a8db4b880>, 'node_args': {'gpu': False, 'gpu_num': None, 'gpu_only': False}, 'batch_size': 48, 'lr': 0.001, 'epochs': 1, 'dry_run': False, 'batch_maxnum': 100}\n",
      "2022-03-22 14:58:28,886 fedbiomed INFO - log from: node_fa6a1655-e676-42a8-a6a5-fe2630057d46 / INFO - Actual/True values (y_true) has more than two levels, using multiclass `weighted` calculation for the metric RECALL\n",
      "2022-03-22 14:58:42,488 fedbiomed INFO - log from: node_fa6a1655-e676-42a8-a6a5-fe2630057d46 / INFO - results uploaded successfully \n",
      "2022-03-22 14:58:52,835 fedbiomed INFO - log from: node_fa6a1655-e676-42a8-a6a5-fe2630057d46 / INFO - training with arguments {'history_monitor': <fedbiomed.node.history_monitor.HistoryMonitor object at 0x7f4a8dbbbdc0>, 'node_args': {'gpu': False, 'gpu_num': None, 'gpu_only': False}, 'batch_size': 48, 'lr': 0.001, 'epochs': 1, 'dry_run': False, 'batch_maxnum': 100}\n",
      "2022-03-22 14:58:57,275 fedbiomed INFO - log from: node_fa6a1655-e676-42a8-a6a5-fe2630057d46 / INFO - Actual/True values (y_true) has more than two levels, using multiclass `weighted` calculation for the metric RECALL\n",
      "2022-03-22 14:59:11,633 fedbiomed INFO - log from: node_fa6a1655-e676-42a8-a6a5-fe2630057d46 / INFO - results uploaded successfully \n",
      "2022-03-22 15:03:20,603 fedbiomed INFO - log from: node_fa6a1655-e676-42a8-a6a5-fe2630057d46 / INFO - training with arguments {'history_monitor': <fedbiomed.node.history_monitor.HistoryMonitor object at 0x7f4b275ef400>, 'node_args': {'gpu': False, 'gpu_num': None, 'gpu_only': False}, 'batch_size': 48, 'lr': 0.001, 'epochs': 1, 'dry_run': False, 'batch_maxnum': 100}\n",
      "2022-03-22 15:03:26,370 fedbiomed INFO - log from: node_fa6a1655-e676-42a8-a6a5-fe2630057d46 / INFO - Actual/True values (y_true) has more than two levels, using multiclass `weighted` calculation for the metric RECALL\n",
      "2022-03-22 15:03:38,512 fedbiomed INFO - log from: node_fa6a1655-e676-42a8-a6a5-fe2630057d46 / INFO - results uploaded successfully \n",
      "2022-03-22 15:03:45,996 fedbiomed INFO - log from: node_fa6a1655-e676-42a8-a6a5-fe2630057d46 / INFO - training with arguments {'history_monitor': <fedbiomed.node.history_monitor.HistoryMonitor object at 0x7f4b2737dac0>, 'node_args': {'gpu': False, 'gpu_num': None, 'gpu_only': False}, 'batch_size': 48, 'lr': 0.001, 'epochs': 1, 'dry_run': False, 'batch_maxnum': 100}\n",
      "2022-03-22 15:03:51,292 fedbiomed INFO - log from: node_fa6a1655-e676-42a8-a6a5-fe2630057d46 / INFO - Actual/True values (y_true) has more than two levels, using multiclass `weighted` calculation for the metric RECALL\n",
      "2022-03-22 15:04:04,507 fedbiomed INFO - log from: node_fa6a1655-e676-42a8-a6a5-fe2630057d46 / INFO - results uploaded successfully \n",
      "2022-03-22 15:05:02,996 fedbiomed INFO - log from: node_fa6a1655-e676-42a8-a6a5-fe2630057d46 / CRITICAL - Node stopped in signal_handler, probably by user decision (Ctrl C)\n"
     ]
    }
   ],
   "source": [
    "# train experiments\n",
    "exp.run()"
   ]
  },
  {
   "cell_type": "markdown",
   "id": "88e2a782",
   "metadata": {},
   "source": [
    "## Lets validate the trained model with the test dataset c3.csv."
   ]
  },
  {
   "cell_type": "code",
   "execution_count": null,
   "id": "ec4439e6",
   "metadata": {},
   "outputs": [],
   "source": [
    "import pandas as pd"
   ]
  },
  {
   "cell_type": "code",
   "execution_count": null,
   "id": "6b970bd9",
   "metadata": {},
   "outputs": [],
   "source": [
    "data = pd.read_csv('== local path to c3.csv')"
   ]
  },
  {
   "cell_type": "code",
   "execution_count": null,
   "id": "91f579d5",
   "metadata": {},
   "outputs": [],
   "source": [
    "X_test = data.iloc[:,:n_features]\n",
    "y_test = data.iloc[:,n_features]"
   ]
  },
  {
   "cell_type": "markdown",
   "id": "63e6d380",
   "metadata": {},
   "source": [
    "F1 score computed with federated algorithm :\n",
    "\n",
    "For that, we are exporting `exp.aggregated_params()` containing models parameters collected at the end of each round"
   ]
  },
  {
   "cell_type": "code",
   "execution_count": null,
   "id": "6edb32ed",
   "metadata": {
    "pycharm": {
     "name": "#%%\n"
    }
   },
   "outputs": [],
   "source": [
    "from sklearn.metrics import f1_score\n",
    "loss_metric = f1_score\n",
    "    \n",
    "testing_error = []\n",
    "\n",
    "for i in range(rounds):\n",
    "    fed_model = exp.model_instance().get_model()\n",
    "    fed_model.coef_ = exp.aggregated_params()[i]['params']['coef_']\n",
    "    fed_model.intercept_ = exp.aggregated_params()[i]['params']['intercept_']\n",
    "    metric = loss_metric(fed_model.predict(X_test),y_test.ravel())\n",
    "    print('F1 score metric: ', metric, )\n",
    "    testing_error.append(metric)"
   ]
  }
 ],
 "metadata": {
  "kernelspec": {
   "display_name": "Python 3 (ipykernel)",
   "language": "python",
   "name": "python3"
  },
  "language_info": {
   "codemirror_mode": {
    "name": "ipython",
    "version": 3
   },
   "file_extension": ".py",
   "mimetype": "text/x-python",
   "name": "python",
   "nbconvert_exporter": "python",
   "pygments_lexer": "ipython3",
   "version": "3.9.7"
  }
 },
 "nbformat": 4,
 "nbformat_minor": 5
}

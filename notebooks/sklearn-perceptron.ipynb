{
 "cells": [
  {
   "cell_type": "markdown",
   "id": "64e87007",
   "metadata": {},
   "source": [
    "# Fedbiomed Researcher to train a federated scikit learn model."
   ]
  },
  {
   "cell_type": "markdown",
   "id": "92e17d2f",
   "metadata": {},
   "source": [
    "## Purpose of the exercise :"
   ]
  },
  {
   "cell_type": "markdown",
   "id": "fb782b14",
   "metadata": {},
   "source": [
    "Three datasets `c1.csv` , `c2.csv` and `c3.csv` has been generated with a target column of 3 different classes.\n",
    "We will fit a Perceptron (classifier) using Federated Learning."
   ]
  },
  {
   "cell_type": "markdown",
   "id": "f4cf562e",
   "metadata": {},
   "source": [
    "## Extending this notebook to any incremental learning scikit model:\n",
    "\n",
    "The same federated learning scheme below applies to any sklearn model supporting the method partial_fit():"
   ]
  },
  {
   "cell_type": "markdown",
   "id": "ed98bbac",
   "metadata": {},
   "source": [
    "A family of models could be naturally imported in Fed-BioMed, following the same approach. For example: \n",
    "- Naive Bayes.  \n",
    "- Logistic regression,\n",
    "- SVM/SVC (linear and non-linear), \n",
    "- perceptron, \n",
    "- KMeans, \n",
    "- incremental PCA, \n",
    "- mini batch dictionary learning, \n",
    "- latent Dirichlet annotation, "
   ]
  },
  {
   "cell_type": "markdown",
   "id": "5010d38f",
   "metadata": {},
   "source": [
    "## Get the data \n",
    "\n",
    "We use the make_classification dataset from sklearn datasets"
   ]
  },
  {
   "cell_type": "code",
   "execution_count": null,
   "id": "094e08d7",
   "metadata": {},
   "outputs": [],
   "source": [
    "from sklearn import datasets\n",
    "import numpy as np"
   ]
  },
  {
   "cell_type": "code",
   "execution_count": null,
   "id": "3c026f9e",
   "metadata": {},
   "outputs": [],
   "source": [
    "X,y = datasets.make_classification(n_samples=300, n_features=20,n_clusters_per_class=2, weights=None, flip_y=0.01, class_sep=1.0, hypercube=True, shift=0.0, scale=1.0,shuffle=True, random_state=123)"
   ]
  },
  {
   "cell_type": "code",
   "execution_count": null,
   "id": "54ba7b80",
   "metadata": {},
   "outputs": [],
   "source": [
    "X.shape"
   ]
  },
  {
   "cell_type": "code",
   "execution_count": null,
   "id": "2fddbce9",
   "metadata": {},
   "outputs": [],
   "source": [
    "y.shape"
   ]
  },
  {
   "cell_type": "code",
   "execution_count": null,
   "id": "2691e48c",
   "metadata": {},
   "outputs": [],
   "source": [
    "C1 = X[:150,:]\n",
    "C2 = X[150:250,:]\n",
    "C3 = X[250:300,:]"
   ]
  },
  {
   "cell_type": "code",
   "execution_count": null,
   "id": "7323c4db",
   "metadata": {},
   "outputs": [],
   "source": [
    "y1 = y[:150].reshape([150,1])\n",
    "y2 = y[150:250].reshape([100,1])\n",
    "y3 = y[250:300].reshape([50,1])"
   ]
  },
  {
   "cell_type": "code",
   "execution_count": null,
   "id": "075c6228",
   "metadata": {},
   "outputs": [],
   "source": [
    "C1.shape ,C2.shape , C3.shape , y1.shape, y2.shape, y3.shape"
   ]
  },
  {
   "cell_type": "code",
   "execution_count": null,
   "id": "ad768917",
   "metadata": {},
   "outputs": [],
   "source": [
    "C2.shape"
   ]
  },
  {
   "cell_type": "code",
   "execution_count": null,
   "id": "e2f383af",
   "metadata": {},
   "outputs": [],
   "source": [
    "n1 = np.concatenate((C1, y1), axis=1)\n",
    "np.savetxt('== local path to c1.csv',n1,delimiter=',')"
   ]
  },
  {
   "cell_type": "code",
   "execution_count": null,
   "id": "3ddb72c3",
   "metadata": {},
   "outputs": [],
   "source": [
    "n2 = np.concatenate((C2, y2), axis=1)\n",
    "np.savetxt('== local path to c2.csv',n2,delimiter=',')"
   ]
  },
  {
   "cell_type": "code",
   "execution_count": null,
   "id": "7d2bb9fa",
   "metadata": {},
   "outputs": [],
   "source": [
    "n3 = np.concatenate((C3, y3), axis=1)\n",
    "np.savetxt('== local path to c3.csv',n3,delimiter=',')"
   ]
  },
  {
   "cell_type": "markdown",
   "id": "440cd141",
   "metadata": {},
   "source": [
    "## Start the network\n",
    "Before running this notebook, start the network with `./scripts/fedbiomed_run network`"
   ]
  },
  {
   "cell_type": "markdown",
   "id": "d39f160e",
   "metadata": {},
   "source": [
    "## Setting the node up\n",
    "Before running this notebook you need to configure 2 nodes: <br/>\n",
    "* **Node 1 :** `./scripts/fedbiomed_run node add`\n",
    "  * Select option 1 to add a csv file to the node\n",
    "  * Choose the name, tags and description of the dataset (you can write 'perp' always and it will be good)\n",
    "  * Pick the c1.csv file in your machine.\n",
    "  * Check that your data has been added in node 1 by executing `./scripts/fedbiomed_run node list`\n",
    "  * Run the node using `./scripts/fedbiomed_run node start`. <br/>\n",
    "\n",
    "* **Node 2 :** Open a second terminal and run ./scripts/fedbiomed_run node add config n2.ini\n",
    "  * Select option 1 to add a csv file to the node\n",
    "  * Choose the name, tags and description of the dataset (you can write 'perp' always and it will be good)\n",
    "  * Pick the c2.csv file in your machine.\n",
    "  * Check that your data has been added in node 2 by executing `./scripts/fedbiomed_run node config n2.ini list `\n",
    "  * Run the node using `./scripts/fedbiomed_run node config n2.ini start`.\n",
    " \n",
    "\n",
    " Wait until you get `Starting task manager`. it means node is online.\n"
   ]
  },
  {
   "cell_type": "code",
   "execution_count": null,
   "id": "ade4cbea",
   "metadata": {},
   "outputs": [],
   "source": [
    "%load_ext autoreload\n",
    "%autoreload 2"
   ]
  },
  {
   "cell_type": "markdown",
   "id": "9f91e69a",
   "metadata": {},
   "source": [
    "**model_args** is a dictionnary containing your model arguments, in case of SGDRegressor this will be max_iter and tol.\n",
    "\n",
    "**training_args** is a dictionnary with parameters , related to Federated Learning. "
   ]
  },
  {
   "cell_type": "code",
   "execution_count": 1,
   "id": "3a28b429",
   "metadata": {},
   "outputs": [],
   "source": [
    "input_sklearn_model = 'Perceptron'\n",
    "\n",
    "n_features = 20\n",
    "n_classes = 2\n",
    "\n",
    "model_args = { 'model': input_sklearn_model, 'max_iter':1000, 'tol': 1e-3 , \n",
    "               'n_features' : n_features, 'n_classes' : n_classes}\n",
    "\n",
    "training_args = {   \n",
    "    'epochs': 5, \n",
    "}"
   ]
  },
  {
   "cell_type": "markdown",
   "id": "8e9aaa87",
   "metadata": {},
   "source": [
    "Hereafter the template of the class you should provide to Fedbiomed :\n",
    "    \n",
    "**training_data** : you must return here the (X,y) that must be of the same type of \n",
    "your method partial_fit parameters. "
   ]
  },
  {
   "cell_type": "code",
   "execution_count": 2,
   "id": "f10cc76c",
   "metadata": {},
   "outputs": [],
   "source": [
    "from fedbiomed.common.training_plans import SGDSkLearnModel\n",
    "from fedbiomed.common.data import DataManager\n",
    "class SkLearnTrainingPlan(SGDSkLearnModel):\n",
    "    def __init__(self, model_args: dict = {}):\n",
    "        super(SkLearnTrainingPlan,self).__init__(model_args)\n",
    "        self.add_dependency([\"from sklearn.linear_model import Perceptron\"])\n",
    "    \n",
    "    def training_data(self):\n",
    "        NUMBER_COLS = 20\n",
    "        dataset = pd.read_csv(self.dataset_path,header=None,delimiter=',')\n",
    "        X = dataset.iloc[:,0:NUMBER_COLS].values\n",
    "        y = dataset.iloc[:,NUMBER_COLS]       \n",
    "        return DataManager(dataset=X,target=y.values)"
   ]
  },
  {
   "cell_type": "code",
   "execution_count": 3,
   "id": "4b1a1341",
   "metadata": {},
   "outputs": [
    {
     "name": "stderr",
     "output_type": "stream",
     "text": [
      "2022-03-22 09:12:44,013 fedbiomed INFO - Component environment:\n",
      "2022-03-22 09:12:44,014 fedbiomed INFO - type = ComponentType.RESEARCHER\n",
      "2022-03-22 09:12:44,226 fedbiomed INFO - Messaging researcher_1fecd236-3507-4a58-9921-8d364492a6d1 successfully connected to the message broker, object = <fedbiomed.common.messaging.Messaging object at 0x7f350a7fc5e0>\n",
      "2022-03-22 09:12:44,267 fedbiomed INFO - Searching dataset with data tags: ['perp'] for all nodes\n",
      "2022-03-22 09:12:54,305 fedbiomed INFO - Node selected for training -> node_fa6a1655-e676-42a8-a6a5-fe2630057d46\n",
      "2022-03-22 09:12:54,334 fedbiomed DEBUG - Model file has been saved: /home/scansiz/Desktop/Inria/development/fedbiomed/var/experiments/Experiment_0015/my_model_3782e2a4-1385-4653-a3a3-c3e80c1f9560.py\n",
      "2022-03-22 09:12:54,368 fedbiomed DEBUG - upload (HTTP POST request) of file /home/scansiz/Desktop/Inria/development/fedbiomed/var/experiments/Experiment_0015/my_model_3782e2a4-1385-4653-a3a3-c3e80c1f9560.py successful, with status code 201\n",
      "2022-03-22 09:12:54,399 fedbiomed DEBUG - upload (HTTP POST request) of file /home/scansiz/Desktop/Inria/development/fedbiomed/var/experiments/Experiment_0015/aggregated_params_init_402bc571-08e0-41fe-a161-02b0de2d03df.pt successful, with status code 201\n"
     ]
    }
   ],
   "source": [
    "from fedbiomed.researcher.experiment import Experiment\n",
    "from fedbiomed.researcher.aggregators.fedavg import FedAverage\n",
    "\n",
    "tags =  ['perp']\n",
    "rounds = 8\n",
    "\n",
    "# search for corresponding datasets across nodes datasets\n",
    "exp = Experiment(tags=tags,\n",
    "                 model_args=model_args,\n",
    "                 model_class=SkLearnTrainingPlan,\n",
    "                 training_args=training_args,\n",
    "                 round_limit=rounds,\n",
    "                 aggregator=FedAverage(),\n",
    "                 node_selection_strategy=None)"
   ]
  },
  {
   "cell_type": "code",
   "execution_count": 4,
   "id": "d6ff55da",
   "metadata": {},
   "outputs": [
    {
     "name": "stderr",
     "output_type": "stream",
     "text": [
      "2022-03-22 09:12:54,410 fedbiomed INFO - Sampled nodes in round 0 ['node_fa6a1655-e676-42a8-a6a5-fe2630057d46']\n",
      "2022-03-22 09:12:54,413 fedbiomed INFO - Send message to node node_fa6a1655-e676-42a8-a6a5-fe2630057d46 - {'researcher_id': 'researcher_1fecd236-3507-4a58-9921-8d364492a6d1', 'job_id': 'a1ba5071-4500-4fcb-bff8-6b97ca345aed', 'training_args': {'epochs': 5}, 'model_args': {'model': 'Perceptron', 'max_iter': 1000, 'tol': 0.001, 'n_features': 20, 'n_classes': 2, 'verbose': 1}, 'command': 'train', 'model_url': 'http://localhost:8844/media/uploads/2022/03/22/my_model_3782e2a4-1385-4653-a3a3-c3e80c1f9560.py', 'params_url': 'http://localhost:8844/media/uploads/2022/03/22/aggregated_params_init_402bc571-08e0-41fe-a161-02b0de2d03df.pt', 'model_class': 'SkLearnTrainingPlan', 'training_data': {'node_fa6a1655-e676-42a8-a6a5-fe2630057d46': ['dataset_579dde20-22b3-443b-8efd-a73a799d2ea6']}}\n",
      "2022-03-22 09:12:54,415 fedbiomed DEBUG - researcher_1fecd236-3507-4a58-9921-8d364492a6d1\n",
      "2022-03-22 09:12:54,847 fedbiomed INFO - log from: node_fa6a1655-e676-42a8-a6a5-fe2630057d46 / INFO - training with arguments {'history_monitor': <fedbiomed.node.history_monitor.HistoryMonitor object at 0x7fde8d3ae850>, 'node_args': {'gpu': False, 'gpu_num': None, 'gpu_only': False}, 'epochs': 5}\n",
      "2022-03-22 09:12:54,849 fedbiomed INFO - \u001b[1mTESTING BEFORE TRAINING\u001b[0m \n",
      "\t\t\t\t\t NODE_ID: node_fa6a1655-e676-42a8-a6a5-fe2630057d46 \n",
      "\t\t\t\t\t Completed: 30/30 (3%) \n",
      " \t\t\t\t\t RECALL: \u001b[1m0.000000\u001b[0m \n",
      "\t\t\t\t\t ---------\n",
      "2022-03-22 09:12:54,850 fedbiomed INFO - log from: node_fa6a1655-e676-42a8-a6a5-fe2630057d46 / INFO - Train Epoch: 0 [Batch All Samples]\tLoss: 1.430766\n",
      "2022-03-22 09:12:54,851 fedbiomed INFO - \u001b[1mTRAINING\u001b[0m \n",
      "\t\t\t\t\t NODE_ID: node_fa6a1655-e676-42a8-a6a5-fe2630057d46 \n",
      "\t\t\t\t\t Epoch: 0 | Completed: 120/120 (100%) \n",
      " \t\t\t\t\t Loss: \u001b[1m1.430766\u001b[0m \n",
      "\t\t\t\t\t ---------\n",
      "2022-03-22 09:12:54,852 fedbiomed INFO - log from: node_fa6a1655-e676-42a8-a6a5-fe2630057d46 / INFO - Train Epoch: 1 [Batch All Samples]\tLoss: 1.379794\n",
      "2022-03-22 09:12:54,853 fedbiomed INFO - \u001b[1mTRAINING\u001b[0m \n",
      "\t\t\t\t\t NODE_ID: node_fa6a1655-e676-42a8-a6a5-fe2630057d46 \n",
      "\t\t\t\t\t Epoch: 1 | Completed: 120/120 (100%) \n",
      " \t\t\t\t\t Loss: \u001b[1m1.379794\u001b[0m \n",
      "\t\t\t\t\t ---------\n",
      "2022-03-22 09:12:54,855 fedbiomed INFO - log from: node_fa6a1655-e676-42a8-a6a5-fe2630057d46 / INFO - Train Epoch: 2 [Batch All Samples]\tLoss: 1.384186\n",
      "2022-03-22 09:12:54,857 fedbiomed INFO - \u001b[1mTRAINING\u001b[0m \n",
      "\t\t\t\t\t NODE_ID: node_fa6a1655-e676-42a8-a6a5-fe2630057d46 \n",
      "\t\t\t\t\t Epoch: 2 | Completed: 120/120 (100%) \n",
      " \t\t\t\t\t Loss: \u001b[1m1.384186\u001b[0m \n",
      "\t\t\t\t\t ---------\n",
      "2022-03-22 09:12:54,860 fedbiomed INFO - log from: node_fa6a1655-e676-42a8-a6a5-fe2630057d46 / INFO - Train Epoch: 3 [Batch All Samples]\tLoss: 1.509033\n",
      "2022-03-22 09:12:54,861 fedbiomed INFO - \u001b[1mTRAINING\u001b[0m \n",
      "\t\t\t\t\t NODE_ID: node_fa6a1655-e676-42a8-a6a5-fe2630057d46 \n",
      "\t\t\t\t\t Epoch: 3 | Completed: 120/120 (100%) \n",
      " \t\t\t\t\t Loss: \u001b[1m1.509033\u001b[0m \n",
      "\t\t\t\t\t ---------\n",
      "2022-03-22 09:12:54,865 fedbiomed INFO - log from: node_fa6a1655-e676-42a8-a6a5-fe2630057d46 / INFO - Train Epoch: 4 [Batch All Samples]\tLoss: 1.447329\n",
      "2022-03-22 09:12:54,867 fedbiomed INFO - \u001b[1mTRAINING\u001b[0m \n",
      "\t\t\t\t\t NODE_ID: node_fa6a1655-e676-42a8-a6a5-fe2630057d46 \n",
      "\t\t\t\t\t Epoch: 4 | Completed: 120/120 (100%) \n",
      " \t\t\t\t\t Loss: \u001b[1m1.447329\u001b[0m \n",
      "\t\t\t\t\t ---------\n",
      "2022-03-22 09:12:54,868 fedbiomed INFO - \u001b[1mTESTING AFTER TRAINING\u001b[0m \n",
      "\t\t\t\t\t NODE_ID: node_fa6a1655-e676-42a8-a6a5-fe2630057d46 \n",
      "\t\t\t\t\t Completed: 30/30 (3%) \n",
      " \t\t\t\t\t ACCURACY: \u001b[1m1.000000\u001b[0m \n",
      "\t\t\t\t\t ---------\n",
      "2022-03-22 09:12:54,918 fedbiomed INFO - log from: node_fa6a1655-e676-42a8-a6a5-fe2630057d46 / INFO - results uploaded successfully \n",
      "2022-03-22 09:13:04,428 fedbiomed INFO - Downloading model params after training on node_fa6a1655-e676-42a8-a6a5-fe2630057d46 - from http://localhost:8844/media/uploads/2022/03/22/node_params_a1eed3f1-0d94-445f-99aa-419937c58890.pt\n",
      "2022-03-22 09:13:04,434 fedbiomed DEBUG - upload (HTTP GET request) of file node_params_aeaedac8-8af4-4373-ab23-afe392ed9941.pt successful, with status code 200\n",
      "2022-03-22 09:13:04,437 fedbiomed INFO - Nodes that successfully reply in round 0 ['node_fa6a1655-e676-42a8-a6a5-fe2630057d46']\n",
      "2022-03-22 09:13:04,487 fedbiomed DEBUG - upload (HTTP POST request) of file /home/scansiz/Desktop/Inria/development/fedbiomed/var/experiments/Experiment_0015/aggregated_params_d7910f0c-8225-4e40-aa81-54b5c8f871e9.pt successful, with status code 201\n",
      "2022-03-22 09:13:04,488 fedbiomed INFO - Saved aggregated params for round 0 in /home/scansiz/Desktop/Inria/development/fedbiomed/var/experiments/Experiment_0015/aggregated_params_d7910f0c-8225-4e40-aa81-54b5c8f871e9.pt\n",
      "2022-03-22 09:13:04,489 fedbiomed INFO - Sampled nodes in round 1 ['node_fa6a1655-e676-42a8-a6a5-fe2630057d46']\n",
      "2022-03-22 09:13:04,489 fedbiomed INFO - Send message to node node_fa6a1655-e676-42a8-a6a5-fe2630057d46 - {'researcher_id': 'researcher_1fecd236-3507-4a58-9921-8d364492a6d1', 'job_id': 'a1ba5071-4500-4fcb-bff8-6b97ca345aed', 'training_args': {'epochs': 5}, 'model_args': {'model': 'Perceptron', 'max_iter': 1000, 'tol': 0.001, 'n_features': 20, 'n_classes': 2, 'verbose': 1}, 'command': 'train', 'model_url': 'http://localhost:8844/media/uploads/2022/03/22/my_model_3782e2a4-1385-4653-a3a3-c3e80c1f9560.py', 'params_url': 'http://localhost:8844/media/uploads/2022/03/22/aggregated_params_d7910f0c-8225-4e40-aa81-54b5c8f871e9.pt', 'model_class': 'SkLearnTrainingPlan', 'training_data': {'node_fa6a1655-e676-42a8-a6a5-fe2630057d46': ['dataset_579dde20-22b3-443b-8efd-a73a799d2ea6']}}\n",
      "2022-03-22 09:13:04,490 fedbiomed DEBUG - researcher_1fecd236-3507-4a58-9921-8d364492a6d1\n",
      "2022-03-22 09:13:04,533 fedbiomed INFO - log from: node_fa6a1655-e676-42a8-a6a5-fe2630057d46 / INFO - training with arguments {'history_monitor': <fedbiomed.node.history_monitor.HistoryMonitor object at 0x7fde8d41fd60>, 'node_args': {'gpu': False, 'gpu_num': None, 'gpu_only': False}, 'epochs': 5}\n",
      "2022-03-22 09:13:04,537 fedbiomed INFO - \u001b[1mTESTING BEFORE TRAINING\u001b[0m \n",
      "\t\t\t\t\t NODE_ID: node_fa6a1655-e676-42a8-a6a5-fe2630057d46 \n",
      "\t\t\t\t\t Completed: 30/30 (3%) \n",
      " \t\t\t\t\t RECALL: \u001b[1m1.000000\u001b[0m \n",
      "\t\t\t\t\t ---------\n",
      "2022-03-22 09:13:04,540 fedbiomed INFO - log from: node_fa6a1655-e676-42a8-a6a5-fe2630057d46 / INFO - Train Epoch: 0 [Batch All Samples]\tLoss: 1.903984\n",
      "2022-03-22 09:13:04,543 fedbiomed INFO - \u001b[1mTRAINING\u001b[0m \n",
      "\t\t\t\t\t NODE_ID: node_fa6a1655-e676-42a8-a6a5-fe2630057d46 \n",
      "\t\t\t\t\t Epoch: 0 | Completed: 120/120 (100%) \n",
      " \t\t\t\t\t Loss: \u001b[1m1.903984\u001b[0m \n",
      "\t\t\t\t\t ---------\n",
      "2022-03-22 09:13:04,547 fedbiomed INFO - log from: node_fa6a1655-e676-42a8-a6a5-fe2630057d46 / INFO - Train Epoch: 1 [Batch All Samples]\tLoss: 2.183955\n",
      "2022-03-22 09:13:04,548 fedbiomed INFO - \u001b[1mTRAINING\u001b[0m \n",
      "\t\t\t\t\t NODE_ID: node_fa6a1655-e676-42a8-a6a5-fe2630057d46 \n",
      "\t\t\t\t\t Epoch: 1 | Completed: 120/120 (100%) \n",
      " \t\t\t\t\t Loss: \u001b[1m2.183955\u001b[0m \n",
      "\t\t\t\t\t ---------\n",
      "2022-03-22 09:13:04,551 fedbiomed INFO - log from: node_fa6a1655-e676-42a8-a6a5-fe2630057d46 / INFO - Train Epoch: 2 [Batch All Samples]\tLoss: 1.632909\n",
      "2022-03-22 09:13:04,555 fedbiomed INFO - \u001b[1mTRAINING\u001b[0m \n",
      "\t\t\t\t\t NODE_ID: node_fa6a1655-e676-42a8-a6a5-fe2630057d46 \n",
      "\t\t\t\t\t Epoch: 2 | Completed: 120/120 (100%) \n",
      " \t\t\t\t\t Loss: \u001b[1m1.632909\u001b[0m \n",
      "\t\t\t\t\t ---------\n",
      "2022-03-22 09:13:04,562 fedbiomed INFO - log from: node_fa6a1655-e676-42a8-a6a5-fe2630057d46 / INFO - Train Epoch: 3 [Batch All Samples]\tLoss: 2.001212\n",
      "2022-03-22 09:13:04,565 fedbiomed INFO - \u001b[1mTRAINING\u001b[0m \n",
      "\t\t\t\t\t NODE_ID: node_fa6a1655-e676-42a8-a6a5-fe2630057d46 \n",
      "\t\t\t\t\t Epoch: 3 | Completed: 120/120 (100%) \n",
      " \t\t\t\t\t Loss: \u001b[1m2.001212\u001b[0m \n",
      "\t\t\t\t\t ---------\n",
      "2022-03-22 09:13:04,567 fedbiomed INFO - log from: node_fa6a1655-e676-42a8-a6a5-fe2630057d46 / INFO - Train Epoch: 4 [Batch All Samples]\tLoss: 1.428159\n",
      "2022-03-22 09:13:04,570 fedbiomed INFO - \u001b[1mTRAINING\u001b[0m \n",
      "\t\t\t\t\t NODE_ID: node_fa6a1655-e676-42a8-a6a5-fe2630057d46 \n",
      "\t\t\t\t\t Epoch: 4 | Completed: 120/120 (100%) \n",
      " \t\t\t\t\t Loss: \u001b[1m1.428159\u001b[0m \n",
      "\t\t\t\t\t ---------\n",
      "2022-03-22 09:13:04,573 fedbiomed INFO - \u001b[1mTESTING AFTER TRAINING\u001b[0m \n",
      "\t\t\t\t\t NODE_ID: node_fa6a1655-e676-42a8-a6a5-fe2630057d46 \n",
      "\t\t\t\t\t Completed: 30/30 (3%) \n",
      " \t\t\t\t\t ACCURACY: \u001b[1m1.000000\u001b[0m \n",
      "\t\t\t\t\t ---------\n",
      "2022-03-22 09:13:04,638 fedbiomed INFO - log from: node_fa6a1655-e676-42a8-a6a5-fe2630057d46 / INFO - results uploaded successfully \n"
     ]
    },
    {
     "name": "stderr",
     "output_type": "stream",
     "text": [
      "2022-03-22 09:13:14,502 fedbiomed INFO - Downloading model params after training on node_fa6a1655-e676-42a8-a6a5-fe2630057d46 - from http://localhost:8844/media/uploads/2022/03/22/node_params_95823fed-8277-4559-876b-3a780f556865.pt\n",
      "2022-03-22 09:13:14,506 fedbiomed DEBUG - upload (HTTP GET request) of file node_params_cab995ee-8d19-4263-8169-46ba2393aed1.pt successful, with status code 200\n",
      "2022-03-22 09:13:14,509 fedbiomed INFO - Nodes that successfully reply in round 1 ['node_fa6a1655-e676-42a8-a6a5-fe2630057d46']\n",
      "2022-03-22 09:13:14,554 fedbiomed DEBUG - upload (HTTP POST request) of file /home/scansiz/Desktop/Inria/development/fedbiomed/var/experiments/Experiment_0015/aggregated_params_2aade478-0c68-4c85-8e61-f985df0d5b41.pt successful, with status code 201\n",
      "2022-03-22 09:13:14,555 fedbiomed INFO - Saved aggregated params for round 1 in /home/scansiz/Desktop/Inria/development/fedbiomed/var/experiments/Experiment_0015/aggregated_params_2aade478-0c68-4c85-8e61-f985df0d5b41.pt\n",
      "2022-03-22 09:13:14,555 fedbiomed INFO - Sampled nodes in round 2 ['node_fa6a1655-e676-42a8-a6a5-fe2630057d46']\n",
      "2022-03-22 09:13:14,556 fedbiomed INFO - Send message to node node_fa6a1655-e676-42a8-a6a5-fe2630057d46 - {'researcher_id': 'researcher_1fecd236-3507-4a58-9921-8d364492a6d1', 'job_id': 'a1ba5071-4500-4fcb-bff8-6b97ca345aed', 'training_args': {'epochs': 5}, 'model_args': {'model': 'Perceptron', 'max_iter': 1000, 'tol': 0.001, 'n_features': 20, 'n_classes': 2, 'verbose': 1}, 'command': 'train', 'model_url': 'http://localhost:8844/media/uploads/2022/03/22/my_model_3782e2a4-1385-4653-a3a3-c3e80c1f9560.py', 'params_url': 'http://localhost:8844/media/uploads/2022/03/22/aggregated_params_2aade478-0c68-4c85-8e61-f985df0d5b41.pt', 'model_class': 'SkLearnTrainingPlan', 'training_data': {'node_fa6a1655-e676-42a8-a6a5-fe2630057d46': ['dataset_579dde20-22b3-443b-8efd-a73a799d2ea6']}}\n",
      "2022-03-22 09:13:14,556 fedbiomed DEBUG - researcher_1fecd236-3507-4a58-9921-8d364492a6d1\n",
      "2022-03-22 09:13:14,593 fedbiomed INFO - log from: node_fa6a1655-e676-42a8-a6a5-fe2630057d46 / INFO - training with arguments {'history_monitor': <fedbiomed.node.history_monitor.HistoryMonitor object at 0x7fdf271bc130>, 'node_args': {'gpu': False, 'gpu_num': None, 'gpu_only': False}, 'epochs': 5}\n",
      "2022-03-22 09:13:14,595 fedbiomed INFO - \u001b[1mTESTING BEFORE TRAINING\u001b[0m \n",
      "\t\t\t\t\t NODE_ID: node_fa6a1655-e676-42a8-a6a5-fe2630057d46 \n",
      "\t\t\t\t\t Completed: 30/30 (3%) \n",
      " \t\t\t\t\t RECALL: \u001b[1m1.000000\u001b[0m \n",
      "\t\t\t\t\t ---------\n",
      "2022-03-22 09:13:14,597 fedbiomed INFO - log from: node_fa6a1655-e676-42a8-a6a5-fe2630057d46 / INFO - Train Epoch: 0 [Batch All Samples]\tLoss: 0.762171\n",
      "2022-03-22 09:13:14,601 fedbiomed INFO - \u001b[1mTRAINING\u001b[0m \n",
      "\t\t\t\t\t NODE_ID: node_fa6a1655-e676-42a8-a6a5-fe2630057d46 \n",
      "\t\t\t\t\t Epoch: 0 | Completed: 120/120 (100%) \n",
      " \t\t\t\t\t Loss: \u001b[1m0.762171\u001b[0m \n",
      "\t\t\t\t\t ---------\n",
      "2022-03-22 09:13:14,602 fedbiomed INFO - log from: node_fa6a1655-e676-42a8-a6a5-fe2630057d46 / INFO - Train Epoch: 1 [Batch All Samples]\tLoss: 1.147030\n",
      "2022-03-22 09:13:14,604 fedbiomed INFO - \u001b[1mTRAINING\u001b[0m \n",
      "\t\t\t\t\t NODE_ID: node_fa6a1655-e676-42a8-a6a5-fe2630057d46 \n",
      "\t\t\t\t\t Epoch: 1 | Completed: 120/120 (100%) \n",
      " \t\t\t\t\t Loss: \u001b[1m1.147030\u001b[0m \n",
      "\t\t\t\t\t ---------\n",
      "2022-03-22 09:13:14,605 fedbiomed INFO - log from: node_fa6a1655-e676-42a8-a6a5-fe2630057d46 / INFO - Train Epoch: 2 [Batch All Samples]\tLoss: 0.506398\n",
      "2022-03-22 09:13:14,606 fedbiomed INFO - \u001b[1mTRAINING\u001b[0m \n",
      "\t\t\t\t\t NODE_ID: node_fa6a1655-e676-42a8-a6a5-fe2630057d46 \n",
      "\t\t\t\t\t Epoch: 2 | Completed: 120/120 (100%) \n",
      " \t\t\t\t\t Loss: \u001b[1m0.506398\u001b[0m \n",
      "\t\t\t\t\t ---------\n",
      "2022-03-22 09:13:14,608 fedbiomed INFO - log from: node_fa6a1655-e676-42a8-a6a5-fe2630057d46 / INFO - Train Epoch: 3 [Batch All Samples]\tLoss: 1.015405\n",
      "2022-03-22 09:13:14,610 fedbiomed INFO - \u001b[1mTRAINING\u001b[0m \n",
      "\t\t\t\t\t NODE_ID: node_fa6a1655-e676-42a8-a6a5-fe2630057d46 \n",
      "\t\t\t\t\t Epoch: 3 | Completed: 120/120 (100%) \n",
      " \t\t\t\t\t Loss: \u001b[1m1.015405\u001b[0m \n",
      "\t\t\t\t\t ---------\n",
      "2022-03-22 09:13:14,613 fedbiomed INFO - log from: node_fa6a1655-e676-42a8-a6a5-fe2630057d46 / INFO - Train Epoch: 4 [Batch All Samples]\tLoss: 0.610186\n",
      "2022-03-22 09:13:14,615 fedbiomed INFO - \u001b[1mTRAINING\u001b[0m \n",
      "\t\t\t\t\t NODE_ID: node_fa6a1655-e676-42a8-a6a5-fe2630057d46 \n",
      "\t\t\t\t\t Epoch: 4 | Completed: 120/120 (100%) \n",
      " \t\t\t\t\t Loss: \u001b[1m0.610186\u001b[0m \n",
      "\t\t\t\t\t ---------\n",
      "2022-03-22 09:13:14,619 fedbiomed INFO - \u001b[1mTESTING AFTER TRAINING\u001b[0m \n",
      "\t\t\t\t\t NODE_ID: node_fa6a1655-e676-42a8-a6a5-fe2630057d46 \n",
      "\t\t\t\t\t Completed: 30/30 (3%) \n",
      " \t\t\t\t\t ACCURACY: \u001b[1m1.000000\u001b[0m \n",
      "\t\t\t\t\t ---------\n",
      "2022-03-22 09:13:14,647 fedbiomed INFO - log from: node_fa6a1655-e676-42a8-a6a5-fe2630057d46 / INFO - results uploaded successfully \n",
      "2022-03-22 09:13:24,568 fedbiomed INFO - Downloading model params after training on node_fa6a1655-e676-42a8-a6a5-fe2630057d46 - from http://localhost:8844/media/uploads/2022/03/22/node_params_24b71b28-d5b6-4809-a4c4-fce797c6c631.pt\n",
      "2022-03-22 09:13:24,581 fedbiomed DEBUG - upload (HTTP GET request) of file node_params_4395d12d-00fc-4994-9afc-0b5727366c84.pt successful, with status code 200\n",
      "2022-03-22 09:13:24,588 fedbiomed INFO - Nodes that successfully reply in round 2 ['node_fa6a1655-e676-42a8-a6a5-fe2630057d46']\n",
      "2022-03-22 09:13:24,656 fedbiomed DEBUG - upload (HTTP POST request) of file /home/scansiz/Desktop/Inria/development/fedbiomed/var/experiments/Experiment_0015/aggregated_params_74df6469-b4c9-4a0f-a715-6cd62ea8d975.pt successful, with status code 201\n",
      "2022-03-22 09:13:24,658 fedbiomed INFO - Saved aggregated params for round 2 in /home/scansiz/Desktop/Inria/development/fedbiomed/var/experiments/Experiment_0015/aggregated_params_74df6469-b4c9-4a0f-a715-6cd62ea8d975.pt\n",
      "2022-03-22 09:13:24,660 fedbiomed INFO - Sampled nodes in round 3 ['node_fa6a1655-e676-42a8-a6a5-fe2630057d46']\n",
      "2022-03-22 09:13:24,661 fedbiomed INFO - Send message to node node_fa6a1655-e676-42a8-a6a5-fe2630057d46 - {'researcher_id': 'researcher_1fecd236-3507-4a58-9921-8d364492a6d1', 'job_id': 'a1ba5071-4500-4fcb-bff8-6b97ca345aed', 'training_args': {'epochs': 5}, 'model_args': {'model': 'Perceptron', 'max_iter': 1000, 'tol': 0.001, 'n_features': 20, 'n_classes': 2, 'verbose': 1}, 'command': 'train', 'model_url': 'http://localhost:8844/media/uploads/2022/03/22/my_model_3782e2a4-1385-4653-a3a3-c3e80c1f9560.py', 'params_url': 'http://localhost:8844/media/uploads/2022/03/22/aggregated_params_74df6469-b4c9-4a0f-a715-6cd62ea8d975.pt', 'model_class': 'SkLearnTrainingPlan', 'training_data': {'node_fa6a1655-e676-42a8-a6a5-fe2630057d46': ['dataset_579dde20-22b3-443b-8efd-a73a799d2ea6']}}\n",
      "2022-03-22 09:13:24,662 fedbiomed DEBUG - researcher_1fecd236-3507-4a58-9921-8d364492a6d1\n",
      "2022-03-22 09:13:24,711 fedbiomed INFO - log from: node_fa6a1655-e676-42a8-a6a5-fe2630057d46 / INFO - training with arguments {'history_monitor': <fedbiomed.node.history_monitor.HistoryMonitor object at 0x7fdf26314fd0>, 'node_args': {'gpu': False, 'gpu_num': None, 'gpu_only': False}, 'epochs': 5}\n",
      "2022-03-22 09:13:24,715 fedbiomed INFO - \u001b[1mTESTING BEFORE TRAINING\u001b[0m \n",
      "\t\t\t\t\t NODE_ID: node_fa6a1655-e676-42a8-a6a5-fe2630057d46 \n",
      "\t\t\t\t\t Completed: 30/30 (3%) \n",
      " \t\t\t\t\t RECALL: \u001b[1m1.000000\u001b[0m \n",
      "\t\t\t\t\t ---------\n",
      "2022-03-22 09:13:24,718 fedbiomed INFO - log from: node_fa6a1655-e676-42a8-a6a5-fe2630057d46 / INFO - Train Epoch: 0 [Batch All Samples]\tLoss: 1.760757\n",
      "2022-03-22 09:13:24,722 fedbiomed INFO - \u001b[1mTRAINING\u001b[0m \n",
      "\t\t\t\t\t NODE_ID: node_fa6a1655-e676-42a8-a6a5-fe2630057d46 \n",
      "\t\t\t\t\t Epoch: 0 | Completed: 120/120 (100%) \n",
      " \t\t\t\t\t Loss: \u001b[1m1.760757\u001b[0m \n",
      "\t\t\t\t\t ---------\n",
      "2022-03-22 09:13:24,726 fedbiomed INFO - log from: node_fa6a1655-e676-42a8-a6a5-fe2630057d46 / INFO - Train Epoch: 1 [Batch All Samples]\tLoss: 1.369909\n",
      "2022-03-22 09:13:24,728 fedbiomed INFO - \u001b[1mTRAINING\u001b[0m \n",
      "\t\t\t\t\t NODE_ID: node_fa6a1655-e676-42a8-a6a5-fe2630057d46 \n",
      "\t\t\t\t\t Epoch: 1 | Completed: 120/120 (100%) \n",
      " \t\t\t\t\t Loss: \u001b[1m1.369909\u001b[0m \n",
      "\t\t\t\t\t ---------\n",
      "2022-03-22 09:13:24,733 fedbiomed INFO - log from: node_fa6a1655-e676-42a8-a6a5-fe2630057d46 / INFO - Train Epoch: 2 [Batch All Samples]\tLoss: 1.323026\n",
      "2022-03-22 09:13:24,736 fedbiomed INFO - \u001b[1mTRAINING\u001b[0m \n",
      "\t\t\t\t\t NODE_ID: node_fa6a1655-e676-42a8-a6a5-fe2630057d46 \n",
      "\t\t\t\t\t Epoch: 2 | Completed: 120/120 (100%) \n",
      " \t\t\t\t\t Loss: \u001b[1m1.323026\u001b[0m \n",
      "\t\t\t\t\t ---------\n",
      "2022-03-22 09:13:24,747 fedbiomed INFO - log from: node_fa6a1655-e676-42a8-a6a5-fe2630057d46 / INFO - Train Epoch: 3 [Batch All Samples]\tLoss: 1.352828\n"
     ]
    },
    {
     "name": "stderr",
     "output_type": "stream",
     "text": [
      "2022-03-22 09:13:24,753 fedbiomed INFO - \u001b[1mTRAINING\u001b[0m \n",
      "\t\t\t\t\t NODE_ID: node_fa6a1655-e676-42a8-a6a5-fe2630057d46 \n",
      "\t\t\t\t\t Epoch: 3 | Completed: 120/120 (100%) \n",
      " \t\t\t\t\t Loss: \u001b[1m1.352828\u001b[0m \n",
      "\t\t\t\t\t ---------\n",
      "2022-03-22 09:13:24,757 fedbiomed INFO - log from: node_fa6a1655-e676-42a8-a6a5-fe2630057d46 / INFO - Train Epoch: 4 [Batch All Samples]\tLoss: 1.372400\n",
      "2022-03-22 09:13:24,759 fedbiomed INFO - \u001b[1mTRAINING\u001b[0m \n",
      "\t\t\t\t\t NODE_ID: node_fa6a1655-e676-42a8-a6a5-fe2630057d46 \n",
      "\t\t\t\t\t Epoch: 4 | Completed: 120/120 (100%) \n",
      " \t\t\t\t\t Loss: \u001b[1m1.372400\u001b[0m \n",
      "\t\t\t\t\t ---------\n",
      "2022-03-22 09:13:24,762 fedbiomed INFO - \u001b[1mTESTING AFTER TRAINING\u001b[0m \n",
      "\t\t\t\t\t NODE_ID: node_fa6a1655-e676-42a8-a6a5-fe2630057d46 \n",
      "\t\t\t\t\t Completed: 30/30 (3%) \n",
      " \t\t\t\t\t ACCURACY: \u001b[1m1.000000\u001b[0m \n",
      "\t\t\t\t\t ---------\n",
      "2022-03-22 09:13:24,816 fedbiomed INFO - log from: node_fa6a1655-e676-42a8-a6a5-fe2630057d46 / INFO - results uploaded successfully \n",
      "2022-03-22 09:13:34,674 fedbiomed INFO - Downloading model params after training on node_fa6a1655-e676-42a8-a6a5-fe2630057d46 - from http://localhost:8844/media/uploads/2022/03/22/node_params_7b9fc353-e7c6-4628-a82a-481b5d92d500.pt\n",
      "2022-03-22 09:13:34,680 fedbiomed DEBUG - upload (HTTP GET request) of file node_params_37d04f4a-52ec-4835-a991-beb5be885dda.pt successful, with status code 200\n",
      "2022-03-22 09:13:34,684 fedbiomed INFO - Nodes that successfully reply in round 3 ['node_fa6a1655-e676-42a8-a6a5-fe2630057d46']\n",
      "2022-03-22 09:13:34,733 fedbiomed DEBUG - upload (HTTP POST request) of file /home/scansiz/Desktop/Inria/development/fedbiomed/var/experiments/Experiment_0015/aggregated_params_d51f431c-7ac6-4c9f-b57c-1691e188da3f.pt successful, with status code 201\n",
      "2022-03-22 09:13:34,733 fedbiomed INFO - Saved aggregated params for round 3 in /home/scansiz/Desktop/Inria/development/fedbiomed/var/experiments/Experiment_0015/aggregated_params_d51f431c-7ac6-4c9f-b57c-1691e188da3f.pt\n",
      "2022-03-22 09:13:34,734 fedbiomed INFO - Sampled nodes in round 4 ['node_fa6a1655-e676-42a8-a6a5-fe2630057d46']\n",
      "2022-03-22 09:13:34,735 fedbiomed INFO - Send message to node node_fa6a1655-e676-42a8-a6a5-fe2630057d46 - {'researcher_id': 'researcher_1fecd236-3507-4a58-9921-8d364492a6d1', 'job_id': 'a1ba5071-4500-4fcb-bff8-6b97ca345aed', 'training_args': {'epochs': 5}, 'model_args': {'model': 'Perceptron', 'max_iter': 1000, 'tol': 0.001, 'n_features': 20, 'n_classes': 2, 'verbose': 1}, 'command': 'train', 'model_url': 'http://localhost:8844/media/uploads/2022/03/22/my_model_3782e2a4-1385-4653-a3a3-c3e80c1f9560.py', 'params_url': 'http://localhost:8844/media/uploads/2022/03/22/aggregated_params_d51f431c-7ac6-4c9f-b57c-1691e188da3f.pt', 'model_class': 'SkLearnTrainingPlan', 'training_data': {'node_fa6a1655-e676-42a8-a6a5-fe2630057d46': ['dataset_579dde20-22b3-443b-8efd-a73a799d2ea6']}}\n",
      "2022-03-22 09:13:34,735 fedbiomed DEBUG - researcher_1fecd236-3507-4a58-9921-8d364492a6d1\n",
      "2022-03-22 09:13:34,757 fedbiomed INFO - log from: node_fa6a1655-e676-42a8-a6a5-fe2630057d46 / INFO - training with arguments {'history_monitor': <fedbiomed.node.history_monitor.HistoryMonitor object at 0x7fde8d41fca0>, 'node_args': {'gpu': False, 'gpu_num': None, 'gpu_only': False}, 'epochs': 5}\n",
      "2022-03-22 09:13:34,759 fedbiomed INFO - \u001b[1mTESTING BEFORE TRAINING\u001b[0m \n",
      "\t\t\t\t\t NODE_ID: node_fa6a1655-e676-42a8-a6a5-fe2630057d46 \n",
      "\t\t\t\t\t Completed: 30/30 (3%) \n",
      " \t\t\t\t\t RECALL: \u001b[1m1.000000\u001b[0m \n",
      "\t\t\t\t\t ---------\n",
      "2022-03-22 09:13:34,761 fedbiomed INFO - log from: node_fa6a1655-e676-42a8-a6a5-fe2630057d46 / INFO - Train Epoch: 0 [Batch All Samples]\tLoss: 1.575308\n",
      "2022-03-22 09:13:34,762 fedbiomed INFO - \u001b[1mTRAINING\u001b[0m \n",
      "\t\t\t\t\t NODE_ID: node_fa6a1655-e676-42a8-a6a5-fe2630057d46 \n",
      "\t\t\t\t\t Epoch: 0 | Completed: 120/120 (100%) \n",
      " \t\t\t\t\t Loss: \u001b[1m1.575308\u001b[0m \n",
      "\t\t\t\t\t ---------\n",
      "2022-03-22 09:13:34,763 fedbiomed INFO - log from: node_fa6a1655-e676-42a8-a6a5-fe2630057d46 / INFO - Train Epoch: 1 [Batch All Samples]\tLoss: 1.170845\n",
      "2022-03-22 09:13:34,765 fedbiomed INFO - \u001b[1mTRAINING\u001b[0m \n",
      "\t\t\t\t\t NODE_ID: node_fa6a1655-e676-42a8-a6a5-fe2630057d46 \n",
      "\t\t\t\t\t Epoch: 1 | Completed: 120/120 (100%) \n",
      " \t\t\t\t\t Loss: \u001b[1m1.170845\u001b[0m \n",
      "\t\t\t\t\t ---------\n",
      "2022-03-22 09:13:34,766 fedbiomed INFO - log from: node_fa6a1655-e676-42a8-a6a5-fe2630057d46 / INFO - Train Epoch: 2 [Batch All Samples]\tLoss: 1.241702\n",
      "2022-03-22 09:13:34,769 fedbiomed INFO - \u001b[1mTRAINING\u001b[0m \n",
      "\t\t\t\t\t NODE_ID: node_fa6a1655-e676-42a8-a6a5-fe2630057d46 \n",
      "\t\t\t\t\t Epoch: 2 | Completed: 120/120 (100%) \n",
      " \t\t\t\t\t Loss: \u001b[1m1.241702\u001b[0m \n",
      "\t\t\t\t\t ---------\n",
      "2022-03-22 09:13:34,770 fedbiomed INFO - log from: node_fa6a1655-e676-42a8-a6a5-fe2630057d46 / INFO - Train Epoch: 3 [Batch All Samples]\tLoss: 1.243347\n",
      "2022-03-22 09:13:34,771 fedbiomed INFO - \u001b[1mTRAINING\u001b[0m \n",
      "\t\t\t\t\t NODE_ID: node_fa6a1655-e676-42a8-a6a5-fe2630057d46 \n",
      "\t\t\t\t\t Epoch: 3 | Completed: 120/120 (100%) \n",
      " \t\t\t\t\t Loss: \u001b[1m1.243347\u001b[0m \n",
      "\t\t\t\t\t ---------\n",
      "2022-03-22 09:13:34,772 fedbiomed INFO - log from: node_fa6a1655-e676-42a8-a6a5-fe2630057d46 / INFO - Train Epoch: 4 [Batch All Samples]\tLoss: 1.031781\n",
      "2022-03-22 09:13:34,774 fedbiomed INFO - \u001b[1mTRAINING\u001b[0m \n",
      "\t\t\t\t\t NODE_ID: node_fa6a1655-e676-42a8-a6a5-fe2630057d46 \n",
      "\t\t\t\t\t Epoch: 4 | Completed: 120/120 (100%) \n",
      " \t\t\t\t\t Loss: \u001b[1m1.031781\u001b[0m \n",
      "\t\t\t\t\t ---------\n",
      "2022-03-22 09:13:34,775 fedbiomed INFO - \u001b[1mTESTING AFTER TRAINING\u001b[0m \n",
      "\t\t\t\t\t NODE_ID: node_fa6a1655-e676-42a8-a6a5-fe2630057d46 \n",
      "\t\t\t\t\t Completed: 30/30 (3%) \n",
      " \t\t\t\t\t ACCURACY: \u001b[1m1.000000\u001b[0m \n",
      "\t\t\t\t\t ---------\n",
      "2022-03-22 09:13:34,805 fedbiomed INFO - log from: node_fa6a1655-e676-42a8-a6a5-fe2630057d46 / INFO - results uploaded successfully \n",
      "2022-03-22 09:13:44,746 fedbiomed INFO - Downloading model params after training on node_fa6a1655-e676-42a8-a6a5-fe2630057d46 - from http://localhost:8844/media/uploads/2022/03/22/node_params_9b715506-47f0-4983-80be-e2386824f518.pt\n",
      "2022-03-22 09:13:44,813 fedbiomed DEBUG - upload (HTTP GET request) of file node_params_f3ddd7f2-1485-4d1d-8cb5-18fea0da40e6.pt successful, with status code 200\n",
      "2022-03-22 09:13:44,826 fedbiomed INFO - Nodes that successfully reply in round 4 ['node_fa6a1655-e676-42a8-a6a5-fe2630057d46']\n",
      "2022-03-22 09:13:44,881 fedbiomed DEBUG - upload (HTTP POST request) of file /home/scansiz/Desktop/Inria/development/fedbiomed/var/experiments/Experiment_0015/aggregated_params_7b988699-a5b3-46a2-bd1d-b58aade4d66b.pt successful, with status code 201\n",
      "2022-03-22 09:13:44,883 fedbiomed INFO - Saved aggregated params for round 4 in /home/scansiz/Desktop/Inria/development/fedbiomed/var/experiments/Experiment_0015/aggregated_params_7b988699-a5b3-46a2-bd1d-b58aade4d66b.pt\n",
      "2022-03-22 09:13:44,885 fedbiomed INFO - Sampled nodes in round 5 ['node_fa6a1655-e676-42a8-a6a5-fe2630057d46']\n",
      "2022-03-22 09:13:44,887 fedbiomed INFO - Send message to node node_fa6a1655-e676-42a8-a6a5-fe2630057d46 - {'researcher_id': 'researcher_1fecd236-3507-4a58-9921-8d364492a6d1', 'job_id': 'a1ba5071-4500-4fcb-bff8-6b97ca345aed', 'training_args': {'epochs': 5}, 'model_args': {'model': 'Perceptron', 'max_iter': 1000, 'tol': 0.001, 'n_features': 20, 'n_classes': 2, 'verbose': 1}, 'command': 'train', 'model_url': 'http://localhost:8844/media/uploads/2022/03/22/my_model_3782e2a4-1385-4653-a3a3-c3e80c1f9560.py', 'params_url': 'http://localhost:8844/media/uploads/2022/03/22/aggregated_params_7b988699-a5b3-46a2-bd1d-b58aade4d66b.pt', 'model_class': 'SkLearnTrainingPlan', 'training_data': {'node_fa6a1655-e676-42a8-a6a5-fe2630057d46': ['dataset_579dde20-22b3-443b-8efd-a73a799d2ea6']}}\n",
      "2022-03-22 09:13:44,898 fedbiomed DEBUG - researcher_1fecd236-3507-4a58-9921-8d364492a6d1\n",
      "2022-03-22 09:13:44,968 fedbiomed INFO - log from: node_fa6a1655-e676-42a8-a6a5-fe2630057d46 / INFO - training with arguments {'history_monitor': <fedbiomed.node.history_monitor.HistoryMonitor object at 0x7fdf271bc130>, 'node_args': {'gpu': False, 'gpu_num': None, 'gpu_only': False}, 'epochs': 5}\n",
      "2022-03-22 09:13:44,974 fedbiomed INFO - \u001b[1mTESTING BEFORE TRAINING\u001b[0m \n",
      "\t\t\t\t\t NODE_ID: node_fa6a1655-e676-42a8-a6a5-fe2630057d46 \n",
      "\t\t\t\t\t Completed: 30/30 (3%) \n",
      " \t\t\t\t\t RECALL: \u001b[1m1.000000\u001b[0m \n",
      "\t\t\t\t\t ---------\n",
      "2022-03-22 09:13:44,978 fedbiomed INFO - log from: node_fa6a1655-e676-42a8-a6a5-fe2630057d46 / INFO - Train Epoch: 0 [Batch All Samples]\tLoss: 2.161884\n",
      "2022-03-22 09:13:44,982 fedbiomed INFO - \u001b[1mTRAINING\u001b[0m \n",
      "\t\t\t\t\t NODE_ID: node_fa6a1655-e676-42a8-a6a5-fe2630057d46 \n",
      "\t\t\t\t\t Epoch: 0 | Completed: 120/120 (100%) \n",
      " \t\t\t\t\t Loss: \u001b[1m2.161884\u001b[0m \n",
      "\t\t\t\t\t ---------\n"
     ]
    },
    {
     "name": "stderr",
     "output_type": "stream",
     "text": [
      "2022-03-22 09:13:44,993 fedbiomed INFO - log from: node_fa6a1655-e676-42a8-a6a5-fe2630057d46 / INFO - Train Epoch: 1 [Batch All Samples]\tLoss: 1.109058\n",
      "2022-03-22 09:13:44,999 fedbiomed INFO - \u001b[1mTRAINING\u001b[0m \n",
      "\t\t\t\t\t NODE_ID: node_fa6a1655-e676-42a8-a6a5-fe2630057d46 \n",
      "\t\t\t\t\t Epoch: 1 | Completed: 120/120 (100%) \n",
      " \t\t\t\t\t Loss: \u001b[1m1.109058\u001b[0m \n",
      "\t\t\t\t\t ---------\n",
      "2022-03-22 09:13:45,003 fedbiomed INFO - log from: node_fa6a1655-e676-42a8-a6a5-fe2630057d46 / INFO - Train Epoch: 2 [Batch All Samples]\tLoss: 1.201760\n",
      "2022-03-22 09:13:45,006 fedbiomed INFO - \u001b[1mTRAINING\u001b[0m \n",
      "\t\t\t\t\t NODE_ID: node_fa6a1655-e676-42a8-a6a5-fe2630057d46 \n",
      "\t\t\t\t\t Epoch: 2 | Completed: 120/120 (100%) \n",
      " \t\t\t\t\t Loss: \u001b[1m1.201760\u001b[0m \n",
      "\t\t\t\t\t ---------\n",
      "2022-03-22 09:13:45,008 fedbiomed INFO - log from: node_fa6a1655-e676-42a8-a6a5-fe2630057d46 / INFO - Train Epoch: 3 [Batch All Samples]\tLoss: 0.693517\n",
      "2022-03-22 09:13:45,010 fedbiomed INFO - \u001b[1mTRAINING\u001b[0m \n",
      "\t\t\t\t\t NODE_ID: node_fa6a1655-e676-42a8-a6a5-fe2630057d46 \n",
      "\t\t\t\t\t Epoch: 3 | Completed: 120/120 (100%) \n",
      " \t\t\t\t\t Loss: \u001b[1m0.693517\u001b[0m \n",
      "\t\t\t\t\t ---------\n",
      "2022-03-22 09:13:45,018 fedbiomed INFO - log from: node_fa6a1655-e676-42a8-a6a5-fe2630057d46 / INFO - Train Epoch: 4 [Batch All Samples]\tLoss: 1.015319\n",
      "2022-03-22 09:13:45,023 fedbiomed INFO - \u001b[1mTRAINING\u001b[0m \n",
      "\t\t\t\t\t NODE_ID: node_fa6a1655-e676-42a8-a6a5-fe2630057d46 \n",
      "\t\t\t\t\t Epoch: 4 | Completed: 120/120 (100%) \n",
      " \t\t\t\t\t Loss: \u001b[1m1.015319\u001b[0m \n",
      "\t\t\t\t\t ---------\n",
      "2022-03-22 09:13:45,041 fedbiomed INFO - \u001b[1mTESTING AFTER TRAINING\u001b[0m \n",
      "\t\t\t\t\t NODE_ID: node_fa6a1655-e676-42a8-a6a5-fe2630057d46 \n",
      "\t\t\t\t\t Completed: 30/30 (3%) \n",
      " \t\t\t\t\t ACCURACY: \u001b[1m1.000000\u001b[0m \n",
      "\t\t\t\t\t ---------\n",
      "2022-03-22 09:13:45,104 fedbiomed INFO - log from: node_fa6a1655-e676-42a8-a6a5-fe2630057d46 / INFO - results uploaded successfully \n",
      "2022-03-22 09:13:54,914 fedbiomed INFO - Downloading model params after training on node_fa6a1655-e676-42a8-a6a5-fe2630057d46 - from http://localhost:8844/media/uploads/2022/03/22/node_params_03449434-adb3-4082-8005-bdcbb5b1323c.pt\n",
      "2022-03-22 09:13:54,922 fedbiomed DEBUG - upload (HTTP GET request) of file node_params_75c935d3-dd29-454a-9283-3f10ebfde34b.pt successful, with status code 200\n",
      "2022-03-22 09:13:54,929 fedbiomed INFO - Nodes that successfully reply in round 5 ['node_fa6a1655-e676-42a8-a6a5-fe2630057d46']\n",
      "2022-03-22 09:13:54,993 fedbiomed DEBUG - upload (HTTP POST request) of file /home/scansiz/Desktop/Inria/development/fedbiomed/var/experiments/Experiment_0015/aggregated_params_739448ac-bd03-479b-964f-a20d05e07e06.pt successful, with status code 201\n",
      "2022-03-22 09:13:54,994 fedbiomed INFO - Saved aggregated params for round 5 in /home/scansiz/Desktop/Inria/development/fedbiomed/var/experiments/Experiment_0015/aggregated_params_739448ac-bd03-479b-964f-a20d05e07e06.pt\n",
      "2022-03-22 09:13:54,995 fedbiomed INFO - Sampled nodes in round 6 ['node_fa6a1655-e676-42a8-a6a5-fe2630057d46']\n",
      "2022-03-22 09:13:54,995 fedbiomed INFO - Send message to node node_fa6a1655-e676-42a8-a6a5-fe2630057d46 - {'researcher_id': 'researcher_1fecd236-3507-4a58-9921-8d364492a6d1', 'job_id': 'a1ba5071-4500-4fcb-bff8-6b97ca345aed', 'training_args': {'epochs': 5}, 'model_args': {'model': 'Perceptron', 'max_iter': 1000, 'tol': 0.001, 'n_features': 20, 'n_classes': 2, 'verbose': 1}, 'command': 'train', 'model_url': 'http://localhost:8844/media/uploads/2022/03/22/my_model_3782e2a4-1385-4653-a3a3-c3e80c1f9560.py', 'params_url': 'http://localhost:8844/media/uploads/2022/03/22/aggregated_params_739448ac-bd03-479b-964f-a20d05e07e06.pt', 'model_class': 'SkLearnTrainingPlan', 'training_data': {'node_fa6a1655-e676-42a8-a6a5-fe2630057d46': ['dataset_579dde20-22b3-443b-8efd-a73a799d2ea6']}}\n",
      "2022-03-22 09:13:54,996 fedbiomed DEBUG - researcher_1fecd236-3507-4a58-9921-8d364492a6d1\n",
      "2022-03-22 09:13:55,046 fedbiomed INFO - log from: node_fa6a1655-e676-42a8-a6a5-fe2630057d46 / INFO - training with arguments {'history_monitor': <fedbiomed.node.history_monitor.HistoryMonitor object at 0x7fdf26378e80>, 'node_args': {'gpu': False, 'gpu_num': None, 'gpu_only': False}, 'epochs': 5}\n",
      "2022-03-22 09:13:55,056 fedbiomed INFO - \u001b[1mTESTING BEFORE TRAINING\u001b[0m \n",
      "\t\t\t\t\t NODE_ID: node_fa6a1655-e676-42a8-a6a5-fe2630057d46 \n",
      "\t\t\t\t\t Completed: 30/30 (3%) \n",
      " \t\t\t\t\t RECALL: \u001b[1m1.000000\u001b[0m \n",
      "\t\t\t\t\t ---------\n",
      "2022-03-22 09:13:55,059 fedbiomed INFO - log from: node_fa6a1655-e676-42a8-a6a5-fe2630057d46 / INFO - Train Epoch: 0 [Batch All Samples]\tLoss: 1.528512\n",
      "2022-03-22 09:13:55,061 fedbiomed INFO - \u001b[1mTRAINING\u001b[0m \n",
      "\t\t\t\t\t NODE_ID: node_fa6a1655-e676-42a8-a6a5-fe2630057d46 \n",
      "\t\t\t\t\t Epoch: 0 | Completed: 120/120 (100%) \n",
      " \t\t\t\t\t Loss: \u001b[1m1.528512\u001b[0m \n",
      "\t\t\t\t\t ---------\n",
      "2022-03-22 09:13:55,063 fedbiomed INFO - log from: node_fa6a1655-e676-42a8-a6a5-fe2630057d46 / INFO - Train Epoch: 1 [Batch All Samples]\tLoss: 1.670475\n",
      "2022-03-22 09:13:55,068 fedbiomed INFO - \u001b[1mTRAINING\u001b[0m \n",
      "\t\t\t\t\t NODE_ID: node_fa6a1655-e676-42a8-a6a5-fe2630057d46 \n",
      "\t\t\t\t\t Epoch: 1 | Completed: 120/120 (100%) \n",
      " \t\t\t\t\t Loss: \u001b[1m1.670475\u001b[0m \n",
      "\t\t\t\t\t ---------\n",
      "2022-03-22 09:13:55,072 fedbiomed INFO - log from: node_fa6a1655-e676-42a8-a6a5-fe2630057d46 / INFO - Train Epoch: 2 [Batch All Samples]\tLoss: 1.208833\n",
      "2022-03-22 09:13:55,077 fedbiomed INFO - \u001b[1mTRAINING\u001b[0m \n",
      "\t\t\t\t\t NODE_ID: node_fa6a1655-e676-42a8-a6a5-fe2630057d46 \n",
      "\t\t\t\t\t Epoch: 2 | Completed: 120/120 (100%) \n",
      " \t\t\t\t\t Loss: \u001b[1m1.208833\u001b[0m \n",
      "\t\t\t\t\t ---------\n",
      "2022-03-22 09:13:55,081 fedbiomed INFO - log from: node_fa6a1655-e676-42a8-a6a5-fe2630057d46 / INFO - Train Epoch: 3 [Batch All Samples]\tLoss: 1.083291\n",
      "2022-03-22 09:13:55,084 fedbiomed INFO - \u001b[1mTRAINING\u001b[0m \n",
      "\t\t\t\t\t NODE_ID: node_fa6a1655-e676-42a8-a6a5-fe2630057d46 \n",
      "\t\t\t\t\t Epoch: 3 | Completed: 120/120 (100%) \n",
      " \t\t\t\t\t Loss: \u001b[1m1.083291\u001b[0m \n",
      "\t\t\t\t\t ---------\n",
      "2022-03-22 09:13:55,086 fedbiomed INFO - log from: node_fa6a1655-e676-42a8-a6a5-fe2630057d46 / INFO - Train Epoch: 4 [Batch All Samples]\tLoss: 1.393747\n",
      "2022-03-22 09:13:55,089 fedbiomed INFO - \u001b[1mTRAINING\u001b[0m \n",
      "\t\t\t\t\t NODE_ID: node_fa6a1655-e676-42a8-a6a5-fe2630057d46 \n",
      "\t\t\t\t\t Epoch: 4 | Completed: 120/120 (100%) \n",
      " \t\t\t\t\t Loss: \u001b[1m1.393747\u001b[0m \n",
      "\t\t\t\t\t ---------\n",
      "2022-03-22 09:13:55,096 fedbiomed INFO - \u001b[1mTESTING AFTER TRAINING\u001b[0m \n",
      "\t\t\t\t\t NODE_ID: node_fa6a1655-e676-42a8-a6a5-fe2630057d46 \n",
      "\t\t\t\t\t Completed: 30/30 (3%) \n",
      " \t\t\t\t\t ACCURACY: \u001b[1m1.000000\u001b[0m \n",
      "\t\t\t\t\t ---------\n",
      "2022-03-22 09:13:55,159 fedbiomed INFO - log from: node_fa6a1655-e676-42a8-a6a5-fe2630057d46 / INFO - results uploaded successfully \n",
      "2022-03-22 09:14:05,008 fedbiomed INFO - Downloading model params after training on node_fa6a1655-e676-42a8-a6a5-fe2630057d46 - from http://localhost:8844/media/uploads/2022/03/22/node_params_2fb17fcc-aa88-4ee7-94f6-850a9f76c040.pt\n",
      "2022-03-22 09:14:05,014 fedbiomed DEBUG - upload (HTTP GET request) of file node_params_1cc7bde3-78cb-451a-beee-2258d6f07d05.pt successful, with status code 200\n",
      "2022-03-22 09:14:05,016 fedbiomed INFO - Nodes that successfully reply in round 6 ['node_fa6a1655-e676-42a8-a6a5-fe2630057d46']\n",
      "2022-03-22 09:14:05,064 fedbiomed DEBUG - upload (HTTP POST request) of file /home/scansiz/Desktop/Inria/development/fedbiomed/var/experiments/Experiment_0015/aggregated_params_933d3dd4-a112-4423-aa9c-d8a71380fea9.pt successful, with status code 201\n",
      "2022-03-22 09:14:05,064 fedbiomed INFO - Saved aggregated params for round 6 in /home/scansiz/Desktop/Inria/development/fedbiomed/var/experiments/Experiment_0015/aggregated_params_933d3dd4-a112-4423-aa9c-d8a71380fea9.pt\n",
      "2022-03-22 09:14:05,065 fedbiomed INFO - Sampled nodes in round 7 ['node_fa6a1655-e676-42a8-a6a5-fe2630057d46']\n",
      "2022-03-22 09:14:05,065 fedbiomed INFO - Send message to node node_fa6a1655-e676-42a8-a6a5-fe2630057d46 - {'researcher_id': 'researcher_1fecd236-3507-4a58-9921-8d364492a6d1', 'job_id': 'a1ba5071-4500-4fcb-bff8-6b97ca345aed', 'training_args': {'epochs': 5}, 'model_args': {'model': 'Perceptron', 'max_iter': 1000, 'tol': 0.001, 'n_features': 20, 'n_classes': 2, 'verbose': 1}, 'command': 'train', 'model_url': 'http://localhost:8844/media/uploads/2022/03/22/my_model_3782e2a4-1385-4653-a3a3-c3e80c1f9560.py', 'params_url': 'http://localhost:8844/media/uploads/2022/03/22/aggregated_params_933d3dd4-a112-4423-aa9c-d8a71380fea9.pt', 'model_class': 'SkLearnTrainingPlan', 'training_data': {'node_fa6a1655-e676-42a8-a6a5-fe2630057d46': ['dataset_579dde20-22b3-443b-8efd-a73a799d2ea6']}}\n"
     ]
    },
    {
     "name": "stderr",
     "output_type": "stream",
     "text": [
      "2022-03-22 09:14:05,066 fedbiomed DEBUG - researcher_1fecd236-3507-4a58-9921-8d364492a6d1\n",
      "2022-03-22 09:14:05,091 fedbiomed INFO - log from: node_fa6a1655-e676-42a8-a6a5-fe2630057d46 / INFO - training with arguments {'history_monitor': <fedbiomed.node.history_monitor.HistoryMonitor object at 0x7fde8d41fd60>, 'node_args': {'gpu': False, 'gpu_num': None, 'gpu_only': False}, 'epochs': 5}\n",
      "2022-03-22 09:14:05,100 fedbiomed INFO - \u001b[1mTESTING BEFORE TRAINING\u001b[0m \n",
      "\t\t\t\t\t NODE_ID: node_fa6a1655-e676-42a8-a6a5-fe2630057d46 \n",
      "\t\t\t\t\t Completed: 30/30 (3%) \n",
      " \t\t\t\t\t RECALL: \u001b[1m1.000000\u001b[0m \n",
      "\t\t\t\t\t ---------\n",
      "2022-03-22 09:14:05,104 fedbiomed INFO - log from: node_fa6a1655-e676-42a8-a6a5-fe2630057d46 / INFO - Train Epoch: 0 [Batch All Samples]\tLoss: 2.052002\n",
      "2022-03-22 09:14:05,109 fedbiomed INFO - \u001b[1mTRAINING\u001b[0m \n",
      "\t\t\t\t\t NODE_ID: node_fa6a1655-e676-42a8-a6a5-fe2630057d46 \n",
      "\t\t\t\t\t Epoch: 0 | Completed: 120/120 (100%) \n",
      " \t\t\t\t\t Loss: \u001b[1m2.052002\u001b[0m \n",
      "\t\t\t\t\t ---------\n",
      "2022-03-22 09:14:05,111 fedbiomed INFO - log from: node_fa6a1655-e676-42a8-a6a5-fe2630057d46 / INFO - Train Epoch: 1 [Batch All Samples]\tLoss: 1.920099\n",
      "2022-03-22 09:14:05,112 fedbiomed INFO - \u001b[1mTRAINING\u001b[0m \n",
      "\t\t\t\t\t NODE_ID: node_fa6a1655-e676-42a8-a6a5-fe2630057d46 \n",
      "\t\t\t\t\t Epoch: 1 | Completed: 120/120 (100%) \n",
      " \t\t\t\t\t Loss: \u001b[1m1.920099\u001b[0m \n",
      "\t\t\t\t\t ---------\n",
      "2022-03-22 09:14:05,114 fedbiomed INFO - log from: node_fa6a1655-e676-42a8-a6a5-fe2630057d46 / INFO - Train Epoch: 2 [Batch All Samples]\tLoss: 1.920290\n",
      "2022-03-22 09:14:05,118 fedbiomed INFO - \u001b[1mTRAINING\u001b[0m \n",
      "\t\t\t\t\t NODE_ID: node_fa6a1655-e676-42a8-a6a5-fe2630057d46 \n",
      "\t\t\t\t\t Epoch: 2 | Completed: 120/120 (100%) \n",
      " \t\t\t\t\t Loss: \u001b[1m1.920290\u001b[0m \n",
      "\t\t\t\t\t ---------\n",
      "2022-03-22 09:14:05,121 fedbiomed INFO - log from: node_fa6a1655-e676-42a8-a6a5-fe2630057d46 / INFO - Train Epoch: 3 [Batch All Samples]\tLoss: 1.773280\n",
      "2022-03-22 09:14:05,128 fedbiomed INFO - \u001b[1mTRAINING\u001b[0m \n",
      "\t\t\t\t\t NODE_ID: node_fa6a1655-e676-42a8-a6a5-fe2630057d46 \n",
      "\t\t\t\t\t Epoch: 3 | Completed: 120/120 (100%) \n",
      " \t\t\t\t\t Loss: \u001b[1m1.773280\u001b[0m \n",
      "\t\t\t\t\t ---------\n",
      "2022-03-22 09:14:05,130 fedbiomed INFO - log from: node_fa6a1655-e676-42a8-a6a5-fe2630057d46 / INFO - Train Epoch: 4 [Batch All Samples]\tLoss: 1.902077\n",
      "2022-03-22 09:14:05,134 fedbiomed INFO - \u001b[1mTRAINING\u001b[0m \n",
      "\t\t\t\t\t NODE_ID: node_fa6a1655-e676-42a8-a6a5-fe2630057d46 \n",
      "\t\t\t\t\t Epoch: 4 | Completed: 120/120 (100%) \n",
      " \t\t\t\t\t Loss: \u001b[1m1.902077\u001b[0m \n",
      "\t\t\t\t\t ---------\n",
      "2022-03-22 09:14:05,136 fedbiomed INFO - \u001b[1mTESTING AFTER TRAINING\u001b[0m \n",
      "\t\t\t\t\t NODE_ID: node_fa6a1655-e676-42a8-a6a5-fe2630057d46 \n",
      "\t\t\t\t\t Completed: 30/30 (3%) \n",
      " \t\t\t\t\t ACCURACY: \u001b[1m1.000000\u001b[0m \n",
      "\t\t\t\t\t ---------\n",
      "2022-03-22 09:14:05,175 fedbiomed INFO - log from: node_fa6a1655-e676-42a8-a6a5-fe2630057d46 / INFO - results uploaded successfully \n",
      "2022-03-22 09:14:15,078 fedbiomed INFO - Downloading model params after training on node_fa6a1655-e676-42a8-a6a5-fe2630057d46 - from http://localhost:8844/media/uploads/2022/03/22/node_params_e4675526-a7d1-4fed-ae61-87ebab294e15.pt\n",
      "2022-03-22 09:14:15,103 fedbiomed DEBUG - upload (HTTP GET request) of file node_params_f5a5fbc2-bb6b-49b6-8456-aa0469ec7b33.pt successful, with status code 200\n",
      "2022-03-22 09:14:15,119 fedbiomed INFO - Nodes that successfully reply in round 7 ['node_fa6a1655-e676-42a8-a6a5-fe2630057d46']\n",
      "2022-03-22 09:14:15,174 fedbiomed DEBUG - upload (HTTP POST request) of file /home/scansiz/Desktop/Inria/development/fedbiomed/var/experiments/Experiment_0015/aggregated_params_4dffe9a4-d652-4965-b5d4-f30197c6b02f.pt successful, with status code 201\n",
      "2022-03-22 09:14:15,180 fedbiomed INFO - Saved aggregated params for round 7 in /home/scansiz/Desktop/Inria/development/fedbiomed/var/experiments/Experiment_0015/aggregated_params_4dffe9a4-d652-4965-b5d4-f30197c6b02f.pt\n"
     ]
    },
    {
     "data": {
      "text/plain": [
       "8"
      ]
     },
     "execution_count": 4,
     "metadata": {},
     "output_type": "execute_result"
    },
    {
     "name": "stderr",
     "output_type": "stream",
     "text": [
      "2022-03-22 09:14:32,053 fedbiomed INFO - log from: node_fa6a1655-e676-42a8-a6a5-fe2630057d46 / CRITICAL - Node stopped in signal_handler, probably by user decision (Ctrl C)\n",
      "2022-03-22 09:14:32,205 fedbiomed INFO - log from: node_fa6a1655-e676-42a8-a6a5-fe2630057d46 / CRITICAL - Node stopped in signal_handler, probably by user decision (Ctrl C)\n"
     ]
    }
   ],
   "source": [
    "# train experiments\n",
    "exp.run()"
   ]
  },
  {
   "cell_type": "markdown",
   "id": "88e2a782",
   "metadata": {},
   "source": [
    "## Lets validate the trained model with the test dataset c3.csv."
   ]
  },
  {
   "cell_type": "code",
   "execution_count": null,
   "id": "ec4439e6",
   "metadata": {},
   "outputs": [],
   "source": [
    "import pandas as pd"
   ]
  },
  {
   "cell_type": "code",
   "execution_count": null,
   "id": "6b970bd9",
   "metadata": {},
   "outputs": [],
   "source": [
    "data = pd.read_csv('== local path to c3.csv')"
   ]
  },
  {
   "cell_type": "code",
   "execution_count": null,
   "id": "91f579d5",
   "metadata": {},
   "outputs": [],
   "source": [
    "X_test = data.iloc[:,:n_features]\n",
    "y_test = data.iloc[:,n_features]"
   ]
  },
  {
   "cell_type": "markdown",
   "id": "63e6d380",
   "metadata": {},
   "source": [
    "F1 score computed with federated algorithm :\n",
    "\n",
    "For that, we are exporting `exp.aggregated_params()` containing models parameters collected at the end of each round"
   ]
  },
  {
   "cell_type": "code",
   "execution_count": null,
   "id": "6edb32ed",
   "metadata": {
    "pycharm": {
     "name": "#%%\n"
    }
   },
   "outputs": [],
   "source": [
    "from sklearn.metrics import f1_score\n",
    "loss_metric = f1_score\n",
    "    \n",
    "testing_error = []\n",
    "\n",
    "for i in range(rounds):\n",
    "    fed_model = exp.model_instance().get_model()\n",
    "    fed_model.coef_ = exp.aggregated_params()[i]['params']['coef_']\n",
    "    fed_model.intercept_ = exp.aggregated_params()[i]['params']['intercept_']\n",
    "    metric = loss_metric(fed_model.predict(X_test),y_test.ravel())\n",
    "    print('F1 score metric: ', metric, )\n",
    "    testing_error.append(metric)"
   ]
  }
 ],
 "metadata": {
  "kernelspec": {
   "display_name": "Python 3 (ipykernel)",
   "language": "python",
   "name": "python3"
  },
  "language_info": {
   "codemirror_mode": {
    "name": "ipython",
    "version": 3
   },
   "file_extension": ".py",
   "mimetype": "text/x-python",
   "name": "python",
   "nbconvert_exporter": "python",
   "pygments_lexer": "ipython3",
   "version": "3.9.7"
  }
 },
 "nbformat": 4,
 "nbformat_minor": 5
}

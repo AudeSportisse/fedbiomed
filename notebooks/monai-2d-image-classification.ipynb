{
 "cells": [
  {
   "cell_type": "markdown",
   "metadata": {},
   "source": [
    "# Federated 2d image classification with MONAI"
   ]
  },
  {
   "cell_type": "markdown",
   "metadata": {},
   "source": [
    "## Introduction\n",
    "\n",
    "This tutorial shows how to deploy in Fed-BioMed the 2d image classification example provided in the project MONAI (https://monai.io/):\n",
    "\n",
    "https://github.com/Project-MONAI/tutorials/blob/master/2d_classification/mednist_tutorial.ipynb\n",
    "\n",
    "Being MONAI based on PyTorch, the deployment within Fed-BioMed follows seamlessy the same general structure of general PyTorch models. \n",
    "\n",
    "Following the MONAI example, this tutorial is based on the MedNIST dataset.\n",
    "\n",
    "## Creating MedNIST nodes\n",
    "\n",
    "MedNIST provides an artificial 2d classification dataset created by gathering different medical imaging datasets from TCIA, the RSNA Bone Age Challenge, and the NIH Chest X-ray dataset. The dataset is kindly made available by Dr. Bradley J. Erickson M.D., Ph.D. (Department of Radiology, Mayo Clinic) under the Creative Commons CC BY-SA 4.0 license.\n",
    "\n",
    "To proceed with the tutorial, we created an iid partitioning of the MedNIST dataset between 3 clients. Each client has 3000 image samples for each class. The training partitions are availables at the following link:\n",
    "\n",
    "https://drive.google.com/file/d/1vLIcBdtdAhh6K-vrgCFy_0Y55dxOWZwf/view\n",
    "\n",
    "The dataset owned by each client has structure:\n",
    "\n",
    "\n",
    "└── client_*/\n",
    "\n",
    "    ├── AbdomenCT/\n",
    "    \n",
    "    └── BreastMRI/\n",
    "    \n",
    "    └── CXR/\n",
    "    \n",
    "    └── ChestCT/\n",
    "    \n",
    "    └── Hand/\n",
    "    \n",
    "    └── HeadCT/   \n",
    "\n",
    "To create the federated dataset, we follow the standard procedure for node creation/population of Fed-BioMed. \n",
    "After activating the fedbiomed network with the commands\n",
    "\n",
    "`source ./scripts/fedbiomed_environment network`\n",
    "\n",
    "and \n",
    "\n",
    "`./scripts/fedbiomed_run network`\n",
    "\n",
    "we create a first node by using the commands\n",
    "\n",
    "`source ./scripts/fedbiomed_environment node`\n",
    "\n",
    "`./scripts/fedbiomed_run node start`\n",
    "\n",
    "We then poulate the node with the data of first client:\n",
    "\n",
    "`./scripts/fedbiomed_run node add`\n",
    "\n",
    "We select option 3 (images) to add MedNIST partition of client 1, by just picking the folder of client 1. \n",
    "Assign tag `mednist` to the data when asked.\n",
    "\n",
    "We can further check that the data has been added by executing `./scripts/fedbiomed_run node list`\n",
    "\n",
    "Following the same procedure, we create the other two nodes with the datasets of client 2 and client 3 respectively.\n"
   ]
  },
  {
   "cell_type": "markdown",
   "metadata": {},
   "source": [
    "## Running Fed-BioMed Researcher"
   ]
  },
  {
   "cell_type": "markdown",
   "metadata": {},
   "source": [
    "We are now ready to start the reseracher enviroment with the command `source ./scripts/fedbiomed_environment researcher`, and open the Jupyter notebook. "
   ]
  },
  {
   "cell_type": "markdown",
   "metadata": {},
   "source": [
    "We can first quesry the network for the mednist dataset. In this case, the nodes are sharing the respective partitions unsing the same tag `mednist`:"
   ]
  },
  {
   "cell_type": "code",
   "execution_count": 1,
   "metadata": {},
   "outputs": [
    {
     "name": "stderr",
     "output_type": "stream",
     "text": [
      "2022-01-07 17:32:20,661 fedbiomed INFO - Component environment:\n",
      "2022-01-07 17:32:20,662 fedbiomed INFO - - type = ComponentType.RESEARCHER\n",
      "2022-01-07 17:32:21,125 fedbiomed INFO - Messaging researcher_92feca42-d5ac-4555-9db3-d676f5fec16b successfully connected to the message broker, object = <fedbiomed.common.messaging.Messaging object at 0x108bab460>\n",
      "2022-01-07 17:32:21,161 fedbiomed INFO - Listing available datasets in all nodes... \n",
      "2022-01-07 17:32:21,169 fedbiomed INFO - log from: node_267dfb38-d101-4107-a93e-8fa21ae92d11 / DEBUG - Message received: {'researcher_id': 'researcher_92feca42-d5ac-4555-9db3-d676f5fec16b', 'command': 'list'}\n",
      "2022-01-07 17:32:21,170 fedbiomed INFO - log from: node_706bed89-d9e8-48ea-a024-94507f7b7baf / DEBUG - Message received: {'researcher_id': 'researcher_92feca42-d5ac-4555-9db3-d676f5fec16b', 'command': 'list'}\n",
      "2022-01-07 17:32:21,174 fedbiomed INFO - log from: node_5d88d235-9341-4495-ad13-3d129aeaa30e / DEBUG - Message received: {'researcher_id': 'researcher_92feca42-d5ac-4555-9db3-d676f5fec16b', 'command': 'list'}\n",
      "2022-01-07 17:32:31,166 fedbiomed INFO - \n",
      " Node: node_267dfb38-d101-4107-a93e-8fa21ae92d11 | Number of Datasets: 1 \n",
      "+---------+-------------+-------------+---------------+--------------------+\n",
      "| name    | data_type   | tags        | description   | shape              |\n",
      "+=========+=============+=============+===============+====================+\n",
      "| mednist | images      | ['mednist'] | bla           | [18000, 3, 64, 64] |\n",
      "+---------+-------------+-------------+---------------+--------------------+\n",
      "\n",
      "2022-01-07 17:32:31,167 fedbiomed INFO - \n",
      " Node: node_706bed89-d9e8-48ea-a024-94507f7b7baf | Number of Datasets: 1 \n",
      "+---------+-------------+-------------+---------------+--------------------+\n",
      "| name    | data_type   | tags        | description   | shape              |\n",
      "+=========+=============+=============+===============+====================+\n",
      "| mednist | images      | ['mednist'] | bla           | [18000, 3, 64, 64] |\n",
      "+---------+-------------+-------------+---------------+--------------------+\n",
      "\n",
      "2022-01-07 17:32:31,168 fedbiomed INFO - \n",
      " Node: node_5d88d235-9341-4495-ad13-3d129aeaa30e | Number of Datasets: 1 \n",
      "+---------+-------------+-------------+---------------+--------------------+\n",
      "| name    | data_type   | tags        | description   | shape              |\n",
      "+=========+=============+=============+===============+====================+\n",
      "| mednist | images      | ['mednist'] | bla           | [16954, 3, 64, 64] |\n",
      "+---------+-------------+-------------+---------------+--------------------+\n",
      "\n"
     ]
    },
    {
     "data": {
      "text/plain": [
       "{'node_267dfb38-d101-4107-a93e-8fa21ae92d11': [{'name': 'mednist',\n",
       "   'data_type': 'images',\n",
       "   'tags': ['mednist'],\n",
       "   'description': 'bla',\n",
       "   'shape': [18000, 3, 64, 64]}],\n",
       " 'node_706bed89-d9e8-48ea-a024-94507f7b7baf': [{'name': 'mednist',\n",
       "   'data_type': 'images',\n",
       "   'tags': ['mednist'],\n",
       "   'description': 'bla',\n",
       "   'shape': [18000, 3, 64, 64]}],\n",
       " 'node_5d88d235-9341-4495-ad13-3d129aeaa30e': [{'name': 'mednist',\n",
       "   'data_type': 'images',\n",
       "   'tags': ['mednist'],\n",
       "   'description': 'bla',\n",
       "   'shape': [16954, 3, 64, 64]}]}"
      ]
     },
     "execution_count": 1,
     "metadata": {},
     "output_type": "execute_result"
    }
   ],
   "source": [
    "from fedbiomed.researcher.requests import Requests\n",
    "req = Requests()\n",
    "req.list(verbose=True)\n"
   ]
  },
  {
   "cell_type": "markdown",
   "metadata": {},
   "source": [
    "## Create an experiment to train a model on the data found"
   ]
  },
  {
   "cell_type": "markdown",
   "metadata": {},
   "source": [
    "The code for network and data loader of the MONAI tutorial can now be deployed in Fed-BioMed.\n",
    "We first import the necessary modules from `fedbiomed` and `monai` libraries:"
   ]
  },
  {
   "cell_type": "code",
   "execution_count": 2,
   "metadata": {},
   "outputs": [],
   "source": [
    "from fedbiomed.researcher.environ import environ\n",
    "import tempfile\n",
    "import os\n",
    "\n",
    "tmp_dir_model = tempfile.TemporaryDirectory(dir=environ['TMP_DIR']+os.sep)\n",
    "model_file = os.path.join(tmp_dir_model.name, 'class_export_mednist.py')"
   ]
  },
  {
   "cell_type": "code",
   "execution_count": 3,
   "metadata": {},
   "outputs": [],
   "source": [
    "from monai.apps import download_and_extract\n",
    "from monai.config import print_config\n",
    "from monai.data import decollate_batch\n",
    "from monai.metrics import ROCAUCMetric\n",
    "from monai.networks.nets import DenseNet121\n",
    "from monai.transforms import (\n",
    "    Activations,\n",
    "    AddChannel,\n",
    "    AsDiscrete,\n",
    "    Compose,\n",
    "    LoadImage,\n",
    "    RandFlip,\n",
    "    RandRotate,\n",
    "    RandZoom,\n",
    "    ScaleIntensity,\n",
    "    EnsureType,\n",
    ")\n",
    "from monai.utils import set_determinism"
   ]
  },
  {
   "cell_type": "markdown",
   "metadata": {},
   "source": [
    "We can now define the training plan. Note that we can simply use the standard `TorchTrainingPlan` natively provided in Fed-BioMed. We reuse the `MedNISTDataset` data loader defined in the original MONAI tutorial, which is returned by the method `training_data`, which also implements the data parsing from the nodes `dataset_path`. Following the MONAI tutorial, the model is the `DenseNet121`."
   ]
  },
  {
   "cell_type": "code",
   "execution_count": 4,
   "metadata": {},
   "outputs": [
    {
     "name": "stdout",
     "output_type": "stream",
     "text": [
      "Writing /Users/mlorenzi/works/temp/fedbiomed/var/tmp/tmpf5gbxg1r/class_export_mednist.py\n"
     ]
    }
   ],
   "source": [
    "%%writefile \"$model_file\"\n",
    "\n",
    "import os\n",
    "import numpy as np\n",
    "import torch\n",
    "import torch.nn as nn\n",
    "from fedbiomed.common.torchnn import TorchTrainingPlan\n",
    "from torch.utils.data import DataLoader\n",
    "from torchvision import datasets, transforms\n",
    "\n",
    "from monai.apps import download_and_extract\n",
    "from monai.config import print_config\n",
    "from monai.data import decollate_batch\n",
    "from monai.metrics import ROCAUCMetric\n",
    "from monai.networks.nets import DenseNet121\n",
    "from monai.transforms import (\n",
    "    Activations,\n",
    "    AddChannel,\n",
    "    AsDiscrete,\n",
    "    Compose,\n",
    "    LoadImage,\n",
    "    RandFlip,\n",
    "    RandRotate,\n",
    "    RandZoom,\n",
    "    ScaleIntensity,\n",
    "    EnsureType,\n",
    ")\n",
    "from monai.utils import set_determinism\n",
    "\n",
    "\n",
    "\n",
    "# Here we define the model to be used. \n",
    "# You can use any class name (here 'DenseNet121')\n",
    "class MyTrainingPlan(TorchTrainingPlan):\n",
    "    def __init__(self, kwargs):\n",
    "        super(MyTrainingPlan, self).__init__()\n",
    "        \n",
    "        # Here we define the custom dependencies that will be needed by our custom Dataloader\n",
    "        # In this case, we need the torch DataLoader classes\n",
    "        # Since we will train on MNIST, we need datasets and transform from torchvision\n",
    "        deps = [\"import numpy as np\",\n",
    "                \"import os\",\n",
    "                \"from torch.utils.data import DataLoader\",\n",
    "                \"from monai.apps import download_and_extract\",\n",
    "                \"from monai.config import print_config\",\n",
    "                \"from monai.data import decollate_batch\",\n",
    "                \"from monai.metrics import ROCAUCMetric\",\n",
    "                \"from monai.networks.nets import DenseNet121\",\n",
    "                \"from monai.transforms import ( Activations, AddChannel, AsDiscrete, Compose, LoadImage, RandFlip, RandRotate, RandZoom, ScaleIntensity, EnsureType, )\",\n",
    "                \"from monai.utils import set_determinism\",]\n",
    "        self.add_dependency(deps)\n",
    "         \n",
    "        self.num_class =  kwargs['num_class']\n",
    "        \n",
    "        self.model = DenseNet121(spatial_dims=2, in_channels=1,\n",
    "                    out_channels = self.num_class)\n",
    "        \n",
    "        self.loss_function = torch.nn.CrossEntropyLoss()\n",
    "\n",
    "    def forward(self, x):\n",
    "        return self.model(x)\n",
    "\n",
    "    class MedNISTDataset(torch.utils.data.Dataset):\n",
    "            def __init__(self, image_files, labels, transforms):\n",
    "                self.image_files = image_files\n",
    "                self.labels = labels\n",
    "                self.transforms = transforms\n",
    "\n",
    "            def __len__(self):\n",
    "                return len(self.image_files)\n",
    "\n",
    "            def __getitem__(self, index):\n",
    "                return self.transforms(self.image_files[index]), self.labels[index]\n",
    "    \n",
    "    def parse_data(self, path):\n",
    "        print(self.dataset_path)\n",
    "        class_names = sorted(x for x in os.listdir(path)\n",
    "                     if os.path.isdir(os.path.join(path, x)))\n",
    "        num_class = len(class_names)\n",
    "        image_files = [\n",
    "                        [\n",
    "                            os.path.join(path, class_names[i], x)\n",
    "                            for x in os.listdir(os.path.join(path, class_names[i]))\n",
    "                        ]\n",
    "                        for i in range(num_class)\n",
    "                      ]\n",
    "        \n",
    "        return image_files, num_class\n",
    "    \n",
    "    def training_data(self, batch_size = 48):\n",
    "        self.image_files, num_class = self.parse_data(self.dataset_path)\n",
    "        \n",
    "        if self.num_class!=num_class:\n",
    "                raise Exception('number of available classes does not match declared classes')\n",
    "        \n",
    "        num_each = [len(self.image_files[i]) for i in range(self.num_class)]\n",
    "        image_files_list = []\n",
    "        image_class = []\n",
    "        \n",
    "        for i in range(self.num_class):\n",
    "            image_files_list.extend(self.image_files[i])\n",
    "            image_class.extend([i] * num_each[i])\n",
    "        num_total = len(image_class)\n",
    "        \n",
    "        \n",
    "        length = len(image_files_list)\n",
    "        indices = np.arange(length)\n",
    "        np.random.shuffle(indices)\n",
    "\n",
    "        val_split = int(1. * length) \n",
    "        train_indices = indices[:val_split]\n",
    "\n",
    "        train_x = [image_files_list[i] for i in train_indices]\n",
    "        train_y = [image_class[i] for i in train_indices]\n",
    "\n",
    "\n",
    "        train_transforms = Compose(\n",
    "            [\n",
    "                LoadImage(image_only=True),\n",
    "                AddChannel(),\n",
    "                ScaleIntensity(),\n",
    "                RandRotate(range_x=np.pi / 12, prob=0.5, keep_size=True),\n",
    "                RandFlip(spatial_axis=0, prob=0.5),\n",
    "                RandZoom(min_zoom=0.9, max_zoom=1.1, prob=0.5),\n",
    "                EnsureType(),\n",
    "            ]\n",
    "        )\n",
    "\n",
    "        val_transforms = Compose(\n",
    "            [LoadImage(image_only=True), AddChannel(), ScaleIntensity(), EnsureType()])\n",
    "\n",
    "        y_pred_trans = Compose([EnsureType(), Activations(softmax=True)])\n",
    "        y_trans = Compose([EnsureType(), AsDiscrete(to_onehot=num_class)])\n",
    "\n",
    "        print(\n",
    "            f\"Training count: {len(train_x)}\")\n",
    "        \n",
    "        \n",
    "        train_ds = self.MedNISTDataset(train_x, train_y, train_transforms)\n",
    "        train_loader = torch.utils.data.DataLoader(\n",
    "            train_ds, batch_size, shuffle=True)\n",
    "        \n",
    "        return train_loader\n",
    "    \n",
    "    def training_step(self, data, target):\n",
    "        output = self.forward(data)\n",
    "        loss   = self.loss_function(output, target)\n",
    "        return loss\n"
   ]
  },
  {
   "cell_type": "markdown",
   "metadata": {},
   "source": [
    "We now set the model and training parameters. Note that we use only 1 epoch for this experiment, and perform the training on ~26% of the locally available training data."
   ]
  },
  {
   "cell_type": "code",
   "execution_count": 5,
   "metadata": {
    "pycharm": {
     "name": "#%%\n"
    }
   },
   "outputs": [],
   "source": [
    "model_args = {'num_class':6,}\n",
    "\n",
    "training_args = {\n",
    "    'batch_size': 20, \n",
    "    'lr': 1e-5, \n",
    "    'epochs': 1, \n",
    "    'dry_run': False,  \n",
    "    'batch_maxnum':250 # Fast pass for development : only use ( batch_maxnum * batch_size ) samples\n",
    "}"
   ]
  },
  {
   "cell_type": "markdown",
   "metadata": {},
   "source": [
    "The experiment can be now defined, by providing the `mednist` tag, and running the local training on nodes with model defined in `model_path`, standard `aggregator` (FedAvg) and `client_selection_strategy` (all nodes used). Federated learning is going to be perfomed through 3 optimization rounds.\n",
    "\n",
    "## WARNING:\n",
    "\n",
    "**For running this experiment, you need a computer with the following specifications:**\n",
    "\n",
    "- more than 16 GB of RAM\n",
    "- 2.5 GHz processor or higher, with at least 4 cores\n",
    "\n",
    "\n",
    "\n",
    "If your computer specification are lower, you can reduce the number of data passed when training model (set `batchnum` from 250 to 25) and the number of `rounds` (from 3 to 1) but model performances may decrease dramatically"
   ]
  },
  {
   "cell_type": "code",
   "execution_count": 6,
   "metadata": {
    "pycharm": {
     "name": "#%%\n"
    },
    "scrolled": true
   },
   "outputs": [
    {
     "name": "stderr",
     "output_type": "stream",
     "text": [
      "2022-01-07 17:32:33,970 fedbiomed INFO - Searching dataset with data tags: ['mednist'] for all nodes\n",
      "2022-01-07 17:32:33,978 fedbiomed INFO - log from: node_706bed89-d9e8-48ea-a024-94507f7b7baf / DEBUG - Message received: {'researcher_id': 'researcher_92feca42-d5ac-4555-9db3-d676f5fec16b', 'tags': ['mednist'], 'command': 'search'}\n",
      "2022-01-07 17:32:33,979 fedbiomed INFO - log from: node_267dfb38-d101-4107-a93e-8fa21ae92d11 / DEBUG - Message received: {'researcher_id': 'researcher_92feca42-d5ac-4555-9db3-d676f5fec16b', 'tags': ['mednist'], 'command': 'search'}\n",
      "2022-01-07 17:32:33,980 fedbiomed INFO - log from: node_5d88d235-9341-4495-ad13-3d129aeaa30e / DEBUG - Message received: {'researcher_id': 'researcher_92feca42-d5ac-4555-9db3-d676f5fec16b', 'tags': ['mednist'], 'command': 'search'}\n",
      "2022-01-07 17:32:43,975 fedbiomed INFO - Node selected for training -> node_706bed89-d9e8-48ea-a024-94507f7b7baf\n",
      "2022-01-07 17:32:43,975 fedbiomed INFO - Node selected for training -> node_267dfb38-d101-4107-a93e-8fa21ae92d11\n",
      "2022-01-07 17:32:43,976 fedbiomed INFO - Node selected for training -> node_5d88d235-9341-4495-ad13-3d129aeaa30e\n",
      "2022-01-07 17:32:43,977 fedbiomed INFO - Checking data quality of federated datasets...\n",
      "2022-01-07 17:32:44,134 fedbiomed DEBUG - torchnn saved model filename: /Users/mlorenzi/works/temp/fedbiomed/var/experiments/Experiment_0002/my_model_18bf1810-e08f-4393-b705-819dde05205c.py\n"
     ]
    }
   ],
   "source": [
    "from fedbiomed.researcher.experiment import Experiment\n",
    "from fedbiomed.researcher.aggregators.fedavg import FedAverage\n",
    "\n",
    "tags =  ['mednist']\n",
    "rounds = 3\n",
    "\n",
    "exp = Experiment(tags=tags,\n",
    "                 model_path=model_file,\n",
    "                 model_args=model_args,\n",
    "                 model_class='MyTrainingPlan',\n",
    "                 training_args=training_args,\n",
    "                 rounds=rounds,\n",
    "                 aggregator=FedAverage(),\n",
    "                 node_selection_strategy=None\n",
    "                )"
   ]
  },
  {
   "cell_type": "markdown",
   "metadata": {
    "pycharm": {
     "name": "#%% md\n"
    }
   },
   "source": [
    "Let's start the experiment.\n",
    "\n",
    "By default, this function doesn't stop until all the `rounds` are done for all the clients\n",
    "\n"
   ]
  },
  {
   "cell_type": "code",
   "execution_count": 7,
   "metadata": {
    "pycharm": {
     "name": "#%%\n"
    },
    "scrolled": true
   },
   "outputs": [
    {
     "name": "stderr",
     "output_type": "stream",
     "text": [
      "2022-01-07 17:32:46,243 fedbiomed INFO - Sampled nodes in round 0 ['node_706bed89-d9e8-48ea-a024-94507f7b7baf', 'node_267dfb38-d101-4107-a93e-8fa21ae92d11', 'node_5d88d235-9341-4495-ad13-3d129aeaa30e']\n",
      "2022-01-07 17:32:46,245 fedbiomed INFO - Send message to node node_706bed89-d9e8-48ea-a024-94507f7b7baf - {'researcher_id': 'researcher_92feca42-d5ac-4555-9db3-d676f5fec16b', 'job_id': '09d0f9b5-5d53-4d40-8528-577e53b5ca28', 'training_args': {'batch_size': 20, 'lr': 1e-05, 'epochs': 1, 'dry_run': False, 'batch_maxnum': 250}, 'model_args': {'num_class': 6}, 'command': 'train', 'model_url': 'http://localhost:8844/media/uploads/2022/01/07/my_model_18bf1810-e08f-4393-b705-819dde05205c.py', 'params_url': 'http://localhost:8844/media/uploads/2022/01/07/aggregated_params_init_e2c6019c-75d4-4959-bb11-913ad069d2af.pt', 'model_class': 'MyTrainingPlan', 'training_data': {'node_706bed89-d9e8-48ea-a024-94507f7b7baf': ['dataset_353bc909-acf6-4111-b21b-0e245b3637cb']}}\n",
      "2022-01-07 17:32:46,246 fedbiomed DEBUG - researcher_92feca42-d5ac-4555-9db3-d676f5fec16b\n",
      "2022-01-07 17:32:46,247 fedbiomed INFO - Send message to node node_267dfb38-d101-4107-a93e-8fa21ae92d11 - {'researcher_id': 'researcher_92feca42-d5ac-4555-9db3-d676f5fec16b', 'job_id': '09d0f9b5-5d53-4d40-8528-577e53b5ca28', 'training_args': {'batch_size': 20, 'lr': 1e-05, 'epochs': 1, 'dry_run': False, 'batch_maxnum': 250}, 'model_args': {'num_class': 6}, 'command': 'train', 'model_url': 'http://localhost:8844/media/uploads/2022/01/07/my_model_18bf1810-e08f-4393-b705-819dde05205c.py', 'params_url': 'http://localhost:8844/media/uploads/2022/01/07/aggregated_params_init_e2c6019c-75d4-4959-bb11-913ad069d2af.pt', 'model_class': 'MyTrainingPlan', 'training_data': {'node_267dfb38-d101-4107-a93e-8fa21ae92d11': ['dataset_ca169f7d-222d-4b9d-87c7-5c1bd5155e52']}}\n",
      "2022-01-07 17:32:46,248 fedbiomed DEBUG - researcher_92feca42-d5ac-4555-9db3-d676f5fec16b\n",
      "2022-01-07 17:32:46,248 fedbiomed INFO - Send message to node node_5d88d235-9341-4495-ad13-3d129aeaa30e - {'researcher_id': 'researcher_92feca42-d5ac-4555-9db3-d676f5fec16b', 'job_id': '09d0f9b5-5d53-4d40-8528-577e53b5ca28', 'training_args': {'batch_size': 20, 'lr': 1e-05, 'epochs': 1, 'dry_run': False, 'batch_maxnum': 250}, 'model_args': {'num_class': 6}, 'command': 'train', 'model_url': 'http://localhost:8844/media/uploads/2022/01/07/my_model_18bf1810-e08f-4393-b705-819dde05205c.py', 'params_url': 'http://localhost:8844/media/uploads/2022/01/07/aggregated_params_init_e2c6019c-75d4-4959-bb11-913ad069d2af.pt', 'model_class': 'MyTrainingPlan', 'training_data': {'node_5d88d235-9341-4495-ad13-3d129aeaa30e': ['dataset_060132d0-4f31-4d1c-9b8b-67c593228711']}}\n",
      "2022-01-07 17:32:46,249 fedbiomed DEBUG - researcher_92feca42-d5ac-4555-9db3-d676f5fec16b\n",
      "2022-01-07 17:32:46,256 fedbiomed INFO - log from: node_267dfb38-d101-4107-a93e-8fa21ae92d11 / DEBUG - Message received: {'researcher_id': 'researcher_92feca42-d5ac-4555-9db3-d676f5fec16b', 'job_id': '09d0f9b5-5d53-4d40-8528-577e53b5ca28', 'training_args': {'batch_size': 20, 'lr': 1e-05, 'epochs': 1, 'dry_run': False, 'batch_maxnum': 250}, 'model_args': {'num_class': 6}, 'command': 'train', 'model_url': 'http://localhost:8844/media/uploads/2022/01/07/my_model_18bf1810-e08f-4393-b705-819dde05205c.py', 'params_url': 'http://localhost:8844/media/uploads/2022/01/07/aggregated_params_init_e2c6019c-75d4-4959-bb11-913ad069d2af.pt', 'model_class': 'MyTrainingPlan', 'training_data': {'node_267dfb38-d101-4107-a93e-8fa21ae92d11': ['dataset_ca169f7d-222d-4b9d-87c7-5c1bd5155e52']}}\n",
      "2022-01-07 17:32:46,257 fedbiomed INFO - log from: node_267dfb38-d101-4107-a93e-8fa21ae92d11 / DEBUG - [TASKS QUEUE] Item:{'researcher_id': 'researcher_92feca42-d5ac-4555-9db3-d676f5fec16b', 'job_id': '09d0f9b5-5d53-4d40-8528-577e53b5ca28', 'params_url': 'http://localhost:8844/media/uploads/2022/01/07/aggregated_params_init_e2c6019c-75d4-4959-bb11-913ad069d2af.pt', 'training_args': {'batch_size': 20, 'lr': 1e-05, 'epochs': 1, 'dry_run': False, 'batch_maxnum': 250}, 'training_data': {'node_267dfb38-d101-4107-a93e-8fa21ae92d11': ['dataset_ca169f7d-222d-4b9d-87c7-5c1bd5155e52']}, 'model_args': {'num_class': 6}, 'model_url': 'http://localhost:8844/media/uploads/2022/01/07/my_model_18bf1810-e08f-4393-b705-819dde05205c.py', 'model_class': 'MyTrainingPlan', 'command': 'train'}\n",
      "2022-01-07 17:32:46,260 fedbiomed INFO - log from: node_706bed89-d9e8-48ea-a024-94507f7b7baf / DEBUG - Message received: {'researcher_id': 'researcher_92feca42-d5ac-4555-9db3-d676f5fec16b', 'job_id': '09d0f9b5-5d53-4d40-8528-577e53b5ca28', 'training_args': {'batch_size': 20, 'lr': 1e-05, 'epochs': 1, 'dry_run': False, 'batch_maxnum': 250}, 'model_args': {'num_class': 6}, 'command': 'train', 'model_url': 'http://localhost:8844/media/uploads/2022/01/07/my_model_18bf1810-e08f-4393-b705-819dde05205c.py', 'params_url': 'http://localhost:8844/media/uploads/2022/01/07/aggregated_params_init_e2c6019c-75d4-4959-bb11-913ad069d2af.pt', 'model_class': 'MyTrainingPlan', 'training_data': {'node_706bed89-d9e8-48ea-a024-94507f7b7baf': ['dataset_353bc909-acf6-4111-b21b-0e245b3637cb']}}\n",
      "2022-01-07 17:32:46,261 fedbiomed INFO - log from: node_706bed89-d9e8-48ea-a024-94507f7b7baf / DEBUG - [TASKS QUEUE] Item:{'researcher_id': 'researcher_92feca42-d5ac-4555-9db3-d676f5fec16b', 'job_id': '09d0f9b5-5d53-4d40-8528-577e53b5ca28', 'params_url': 'http://localhost:8844/media/uploads/2022/01/07/aggregated_params_init_e2c6019c-75d4-4959-bb11-913ad069d2af.pt', 'training_args': {'batch_size': 20, 'lr': 1e-05, 'epochs': 1, 'dry_run': False, 'batch_maxnum': 250}, 'training_data': {'node_706bed89-d9e8-48ea-a024-94507f7b7baf': ['dataset_353bc909-acf6-4111-b21b-0e245b3637cb']}, 'model_args': {'num_class': 6}, 'model_url': 'http://localhost:8844/media/uploads/2022/01/07/my_model_18bf1810-e08f-4393-b705-819dde05205c.py', 'model_class': 'MyTrainingPlan', 'command': 'train'}\n",
      "2022-01-07 17:32:46,263 fedbiomed INFO - log from: node_5d88d235-9341-4495-ad13-3d129aeaa30e / DEBUG - Message received: {'researcher_id': 'researcher_92feca42-d5ac-4555-9db3-d676f5fec16b', 'job_id': '09d0f9b5-5d53-4d40-8528-577e53b5ca28', 'training_args': {'batch_size': 20, 'lr': 1e-05, 'epochs': 1, 'dry_run': False, 'batch_maxnum': 250}, 'model_args': {'num_class': 6}, 'command': 'train', 'model_url': 'http://localhost:8844/media/uploads/2022/01/07/my_model_18bf1810-e08f-4393-b705-819dde05205c.py', 'params_url': 'http://localhost:8844/media/uploads/2022/01/07/aggregated_params_init_e2c6019c-75d4-4959-bb11-913ad069d2af.pt', 'model_class': 'MyTrainingPlan', 'training_data': {'node_5d88d235-9341-4495-ad13-3d129aeaa30e': ['dataset_060132d0-4f31-4d1c-9b8b-67c593228711']}}\n",
      "2022-01-07 17:32:46,265 fedbiomed INFO - log from: node_5d88d235-9341-4495-ad13-3d129aeaa30e / DEBUG - [TASKS QUEUE] Item:{'researcher_id': 'researcher_92feca42-d5ac-4555-9db3-d676f5fec16b', 'job_id': '09d0f9b5-5d53-4d40-8528-577e53b5ca28', 'params_url': 'http://localhost:8844/media/uploads/2022/01/07/aggregated_params_init_e2c6019c-75d4-4959-bb11-913ad069d2af.pt', 'training_args': {'batch_size': 20, 'lr': 1e-05, 'epochs': 1, 'dry_run': False, 'batch_maxnum': 250}, 'training_data': {'node_5d88d235-9341-4495-ad13-3d129aeaa30e': ['dataset_060132d0-4f31-4d1c-9b8b-67c593228711']}, 'model_args': {'num_class': 6}, 'model_url': 'http://localhost:8844/media/uploads/2022/01/07/my_model_18bf1810-e08f-4393-b705-819dde05205c.py', 'model_class': 'MyTrainingPlan', 'command': 'train'}\n",
      "2022-01-07 17:32:47,924 fedbiomed INFO - log from: node_706bed89-d9e8-48ea-a024-94507f7b7baf / INFO - {'monitor': <fedbiomed.node.history_monitor.HistoryMonitor object at 0x131c62fd0>, 'batch_size': 20, 'lr': 1e-05, 'epochs': 1, 'dry_run': False, 'batch_maxnum': 250}\n",
      "2022-01-07 17:32:47,925 fedbiomed INFO - log from: node_706bed89-d9e8-48ea-a024-94507f7b7baf / DEBUG - Dataset_path/Users/mlorenzi/works/temp/MedNIST/client_2\n",
      "2022-01-07 17:32:47,975 fedbiomed INFO - log from: node_267dfb38-d101-4107-a93e-8fa21ae92d11 / INFO - {'monitor': <fedbiomed.node.history_monitor.HistoryMonitor object at 0x1067d11f0>, 'batch_size': 20, 'lr': 1e-05, 'epochs': 1, 'dry_run': False, 'batch_maxnum': 250}\n",
      "2022-01-07 17:32:47,979 fedbiomed INFO - log from: node_267dfb38-d101-4107-a93e-8fa21ae92d11 / DEBUG - Dataset_path/Users/mlorenzi/works/temp/MedNIST/client_1\n"
     ]
    },
    {
     "name": "stderr",
     "output_type": "stream",
     "text": [
      "2022-01-07 17:32:48,923 fedbiomed INFO - log from: node_5d88d235-9341-4495-ad13-3d129aeaa30e / INFO - {'monitor': <fedbiomed.node.history_monitor.HistoryMonitor object at 0x137413550>, 'batch_size': 20, 'lr': 1e-05, 'epochs': 1, 'dry_run': False, 'batch_maxnum': 250}\n",
      "2022-01-07 17:32:48,927 fedbiomed INFO - log from: node_5d88d235-9341-4495-ad13-3d129aeaa30e / DEBUG - Dataset_path/Users/mlorenzi/works/temp/MedNIST/client_3\n",
      "2022-01-07 17:32:49,668 fedbiomed INFO - log from: node_706bed89-d9e8-48ea-a024-94507f7b7baf / INFO - Train Epoch: 1 [0/18000 (0%)]\tLoss: 1.876778\n",
      "2022-01-07 17:32:49,735 fedbiomed INFO - log from: node_267dfb38-d101-4107-a93e-8fa21ae92d11 / INFO - Train Epoch: 1 [0/18000 (0%)]\tLoss: 1.714762\n",
      "2022-01-07 17:32:50,775 fedbiomed INFO - log from: node_5d88d235-9341-4495-ad13-3d129aeaa30e / INFO - Train Epoch: 1 [0/16954 (0%)]\tLoss: 1.835494\n",
      "2022-01-07 17:33:04,507 fedbiomed INFO - log from: node_706bed89-d9e8-48ea-a024-94507f7b7baf / INFO - Train Epoch: 1 [200/18000 (1%)]\tLoss: 1.754568\n",
      "2022-01-07 17:33:04,566 fedbiomed INFO - log from: node_267dfb38-d101-4107-a93e-8fa21ae92d11 / INFO - Train Epoch: 1 [200/18000 (1%)]\tLoss: 1.725058\n",
      "2022-01-07 17:33:05,399 fedbiomed INFO - log from: node_5d88d235-9341-4495-ad13-3d129aeaa30e / INFO - Train Epoch: 1 [200/16954 (1%)]\tLoss: 1.707374\n",
      "2022-01-07 17:33:23,654 fedbiomed INFO - log from: node_706bed89-d9e8-48ea-a024-94507f7b7baf / INFO - Train Epoch: 1 [400/18000 (2%)]\tLoss: 1.516147\n",
      "2022-01-07 17:33:23,721 fedbiomed INFO - log from: node_267dfb38-d101-4107-a93e-8fa21ae92d11 / INFO - Train Epoch: 1 [400/18000 (2%)]\tLoss: 1.581627\n",
      "2022-01-07 17:33:24,680 fedbiomed INFO - log from: node_5d88d235-9341-4495-ad13-3d129aeaa30e / INFO - Train Epoch: 1 [400/16954 (2%)]\tLoss: 1.610932\n",
      "2022-01-07 17:33:41,855 fedbiomed INFO - log from: node_706bed89-d9e8-48ea-a024-94507f7b7baf / INFO - Train Epoch: 1 [600/18000 (3%)]\tLoss: 1.547678\n",
      "2022-01-07 17:33:41,908 fedbiomed INFO - log from: node_267dfb38-d101-4107-a93e-8fa21ae92d11 / INFO - Train Epoch: 1 [600/18000 (3%)]\tLoss: 1.496077\n",
      "2022-01-07 17:33:42,845 fedbiomed INFO - log from: node_5d88d235-9341-4495-ad13-3d129aeaa30e / INFO - Train Epoch: 1 [600/16954 (4%)]\tLoss: 1.648577\n",
      "2022-01-07 17:34:00,413 fedbiomed INFO - log from: node_706bed89-d9e8-48ea-a024-94507f7b7baf / INFO - Train Epoch: 1 [800/18000 (4%)]\tLoss: 1.372229\n",
      "2022-01-07 17:34:00,451 fedbiomed INFO - log from: node_267dfb38-d101-4107-a93e-8fa21ae92d11 / INFO - Train Epoch: 1 [800/18000 (4%)]\tLoss: 1.377072\n",
      "2022-01-07 17:34:01,508 fedbiomed INFO - log from: node_5d88d235-9341-4495-ad13-3d129aeaa30e / INFO - Train Epoch: 1 [800/16954 (5%)]\tLoss: 1.341996\n",
      "2022-01-07 17:34:21,297 fedbiomed INFO - log from: node_706bed89-d9e8-48ea-a024-94507f7b7baf / INFO - Train Epoch: 1 [1000/18000 (6%)]\tLoss: 1.319338\n",
      "2022-01-07 17:34:21,354 fedbiomed INFO - log from: node_267dfb38-d101-4107-a93e-8fa21ae92d11 / INFO - Train Epoch: 1 [1000/18000 (6%)]\tLoss: 1.261723\n",
      "2022-01-07 17:34:22,718 fedbiomed INFO - log from: node_5d88d235-9341-4495-ad13-3d129aeaa30e / INFO - Train Epoch: 1 [1000/16954 (6%)]\tLoss: 1.405478\n",
      "2022-01-07 17:34:41,267 fedbiomed INFO - log from: node_267dfb38-d101-4107-a93e-8fa21ae92d11 / INFO - Train Epoch: 1 [1200/18000 (7%)]\tLoss: 1.186116\n",
      "2022-01-07 17:34:41,337 fedbiomed INFO - log from: node_706bed89-d9e8-48ea-a024-94507f7b7baf / INFO - Train Epoch: 1 [1200/18000 (7%)]\tLoss: 1.244613\n",
      "2022-01-07 17:34:42,408 fedbiomed INFO - log from: node_5d88d235-9341-4495-ad13-3d129aeaa30e / INFO - Train Epoch: 1 [1200/16954 (7%)]\tLoss: 1.133257\n",
      "2022-01-07 17:35:01,139 fedbiomed INFO - log from: node_267dfb38-d101-4107-a93e-8fa21ae92d11 / INFO - Train Epoch: 1 [1400/18000 (8%)]\tLoss: 1.167848\n",
      "2022-01-07 17:35:01,299 fedbiomed INFO - log from: node_706bed89-d9e8-48ea-a024-94507f7b7baf / INFO - Train Epoch: 1 [1400/18000 (8%)]\tLoss: 1.295775\n",
      "2022-01-07 17:35:02,344 fedbiomed INFO - log from: node_5d88d235-9341-4495-ad13-3d129aeaa30e / INFO - Train Epoch: 1 [1400/16954 (8%)]\tLoss: 1.330764\n",
      "2022-01-07 17:35:22,863 fedbiomed INFO - log from: node_267dfb38-d101-4107-a93e-8fa21ae92d11 / INFO - Train Epoch: 1 [1600/18000 (9%)]\tLoss: 1.043771\n",
      "2022-01-07 17:35:23,096 fedbiomed INFO - log from: node_706bed89-d9e8-48ea-a024-94507f7b7baf / INFO - Train Epoch: 1 [1600/18000 (9%)]\tLoss: 1.043532\n",
      "2022-01-07 17:35:24,463 fedbiomed INFO - log from: node_5d88d235-9341-4495-ad13-3d129aeaa30e / INFO - Train Epoch: 1 [1600/16954 (9%)]\tLoss: 1.083082\n",
      "2022-01-07 17:35:44,639 fedbiomed INFO - log from: node_267dfb38-d101-4107-a93e-8fa21ae92d11 / INFO - Train Epoch: 1 [1800/18000 (10%)]\tLoss: 1.158608\n",
      "2022-01-07 17:35:44,950 fedbiomed INFO - log from: node_706bed89-d9e8-48ea-a024-94507f7b7baf / INFO - Train Epoch: 1 [1800/18000 (10%)]\tLoss: 1.029905\n",
      "2022-01-07 17:35:46,121 fedbiomed INFO - log from: node_5d88d235-9341-4495-ad13-3d129aeaa30e / INFO - Train Epoch: 1 [1800/16954 (11%)]\tLoss: 0.877808\n",
      "2022-01-07 17:36:07,635 fedbiomed INFO - log from: node_267dfb38-d101-4107-a93e-8fa21ae92d11 / INFO - Train Epoch: 1 [2000/18000 (11%)]\tLoss: 0.998251\n",
      "2022-01-07 17:36:07,735 fedbiomed INFO - log from: node_706bed89-d9e8-48ea-a024-94507f7b7baf / INFO - Train Epoch: 1 [2000/18000 (11%)]\tLoss: 1.072519\n",
      "2022-01-07 17:36:08,797 fedbiomed INFO - log from: node_5d88d235-9341-4495-ad13-3d129aeaa30e / INFO - Train Epoch: 1 [2000/16954 (12%)]\tLoss: 1.073216\n",
      "2022-01-07 17:36:26,477 fedbiomed INFO - log from: node_267dfb38-d101-4107-a93e-8fa21ae92d11 / INFO - Train Epoch: 1 [2200/18000 (12%)]\tLoss: 0.909861\n",
      "2022-01-07 17:36:26,556 fedbiomed INFO - log from: node_706bed89-d9e8-48ea-a024-94507f7b7baf / INFO - Train Epoch: 1 [2200/18000 (12%)]\tLoss: 1.207698\n",
      "2022-01-07 17:36:27,352 fedbiomed INFO - log from: node_5d88d235-9341-4495-ad13-3d129aeaa30e / INFO - Train Epoch: 1 [2200/16954 (13%)]\tLoss: 0.975885\n",
      "2022-01-07 17:36:47,235 fedbiomed INFO - log from: node_706bed89-d9e8-48ea-a024-94507f7b7baf / INFO - Train Epoch: 1 [2400/18000 (13%)]\tLoss: 0.751105\n",
      "2022-01-07 17:36:47,371 fedbiomed INFO - log from: node_267dfb38-d101-4107-a93e-8fa21ae92d11 / INFO - Train Epoch: 1 [2400/18000 (13%)]\tLoss: 0.903978\n",
      "2022-01-07 17:36:48,404 fedbiomed INFO - log from: node_5d88d235-9341-4495-ad13-3d129aeaa30e / INFO - Train Epoch: 1 [2400/16954 (14%)]\tLoss: 0.793610\n",
      "2022-01-07 17:37:09,772 fedbiomed INFO - log from: node_706bed89-d9e8-48ea-a024-94507f7b7baf / INFO - Train Epoch: 1 [2600/18000 (14%)]\tLoss: 0.839618\n",
      "2022-01-07 17:37:09,873 fedbiomed INFO - log from: node_267dfb38-d101-4107-a93e-8fa21ae92d11 / INFO - Train Epoch: 1 [2600/18000 (14%)]\tLoss: 0.991235\n",
      "2022-01-07 17:37:10,764 fedbiomed INFO - log from: node_5d88d235-9341-4495-ad13-3d129aeaa30e / INFO - Train Epoch: 1 [2600/16954 (15%)]\tLoss: 1.058135\n",
      "2022-01-07 17:37:27,882 fedbiomed INFO - log from: node_706bed89-d9e8-48ea-a024-94507f7b7baf / INFO - Train Epoch: 1 [2800/18000 (16%)]\tLoss: 0.704885\n",
      "2022-01-07 17:37:27,993 fedbiomed INFO - log from: node_267dfb38-d101-4107-a93e-8fa21ae92d11 / INFO - Train Epoch: 1 [2800/18000 (16%)]\tLoss: 0.805195\n",
      "2022-01-07 17:37:28,835 fedbiomed INFO - log from: node_5d88d235-9341-4495-ad13-3d129aeaa30e / INFO - Train Epoch: 1 [2800/16954 (17%)]\tLoss: 0.703218\n",
      "2022-01-07 17:37:51,180 fedbiomed INFO - log from: node_267dfb38-d101-4107-a93e-8fa21ae92d11 / INFO - Train Epoch: 1 [3000/18000 (17%)]\tLoss: 0.989835\n",
      "2022-01-07 17:37:51,183 fedbiomed INFO - log from: node_706bed89-d9e8-48ea-a024-94507f7b7baf / INFO - Train Epoch: 1 [3000/18000 (17%)]\tLoss: 0.765238\n",
      "2022-01-07 17:37:52,059 fedbiomed INFO - log from: node_5d88d235-9341-4495-ad13-3d129aeaa30e / INFO - Train Epoch: 1 [3000/16954 (18%)]\tLoss: 0.913264\n",
      "2022-01-07 17:38:09,816 fedbiomed INFO - log from: node_267dfb38-d101-4107-a93e-8fa21ae92d11 / INFO - Train Epoch: 1 [3200/18000 (18%)]\tLoss: 0.867484\n",
      "2022-01-07 17:38:09,945 fedbiomed INFO - log from: node_706bed89-d9e8-48ea-a024-94507f7b7baf / INFO - Train Epoch: 1 [3200/18000 (18%)]\tLoss: 0.630471\n",
      "2022-01-07 17:38:10,794 fedbiomed INFO - log from: node_5d88d235-9341-4495-ad13-3d129aeaa30e / INFO - Train Epoch: 1 [3200/16954 (19%)]\tLoss: 0.855945\n",
      "2022-01-07 17:38:28,719 fedbiomed INFO - log from: node_267dfb38-d101-4107-a93e-8fa21ae92d11 / INFO - Train Epoch: 1 [3400/18000 (19%)]\tLoss: 0.978679\n"
     ]
    },
    {
     "name": "stderr",
     "output_type": "stream",
     "text": [
      "2022-01-07 17:38:28,881 fedbiomed INFO - log from: node_706bed89-d9e8-48ea-a024-94507f7b7baf / INFO - Train Epoch: 1 [3400/18000 (19%)]\tLoss: 0.662678\n",
      "2022-01-07 17:38:29,783 fedbiomed INFO - log from: node_5d88d235-9341-4495-ad13-3d129aeaa30e / INFO - Train Epoch: 1 [3400/16954 (20%)]\tLoss: 0.854314\n",
      "2022-01-07 17:38:47,643 fedbiomed INFO - log from: node_267dfb38-d101-4107-a93e-8fa21ae92d11 / INFO - Train Epoch: 1 [3600/18000 (20%)]\tLoss: 0.684626\n",
      "2022-01-07 17:38:47,805 fedbiomed INFO - log from: node_706bed89-d9e8-48ea-a024-94507f7b7baf / INFO - Train Epoch: 1 [3600/18000 (20%)]\tLoss: 0.802997\n",
      "2022-01-07 17:38:48,533 fedbiomed INFO - log from: node_5d88d235-9341-4495-ad13-3d129aeaa30e / INFO - Train Epoch: 1 [3600/16954 (21%)]\tLoss: 0.832401\n",
      "2022-01-07 17:39:06,580 fedbiomed INFO - log from: node_267dfb38-d101-4107-a93e-8fa21ae92d11 / INFO - Train Epoch: 1 [3800/18000 (21%)]\tLoss: 0.740053\n",
      "2022-01-07 17:39:06,871 fedbiomed INFO - log from: node_706bed89-d9e8-48ea-a024-94507f7b7baf / INFO - Train Epoch: 1 [3800/18000 (21%)]\tLoss: 0.738121\n",
      "2022-01-07 17:39:07,572 fedbiomed INFO - log from: node_5d88d235-9341-4495-ad13-3d129aeaa30e / INFO - Train Epoch: 1 [3800/16954 (22%)]\tLoss: 0.813136\n",
      "2022-01-07 17:39:25,718 fedbiomed INFO - log from: node_267dfb38-d101-4107-a93e-8fa21ae92d11 / INFO - Train Epoch: 1 [4000/18000 (22%)]\tLoss: 0.519212\n",
      "2022-01-07 17:39:25,928 fedbiomed INFO - log from: node_706bed89-d9e8-48ea-a024-94507f7b7baf / INFO - Train Epoch: 1 [4000/18000 (22%)]\tLoss: 0.710131\n",
      "2022-01-07 17:39:26,615 fedbiomed INFO - log from: node_5d88d235-9341-4495-ad13-3d129aeaa30e / INFO - Train Epoch: 1 [4000/16954 (24%)]\tLoss: 0.422288\n",
      "2022-01-07 17:39:43,934 fedbiomed INFO - log from: node_267dfb38-d101-4107-a93e-8fa21ae92d11 / INFO - Train Epoch: 1 [4200/18000 (23%)]\tLoss: 0.717037\n",
      "2022-01-07 17:39:44,334 fedbiomed INFO - log from: node_706bed89-d9e8-48ea-a024-94507f7b7baf / INFO - Train Epoch: 1 [4200/18000 (23%)]\tLoss: 0.640563\n",
      "2022-01-07 17:39:44,924 fedbiomed INFO - log from: node_5d88d235-9341-4495-ad13-3d129aeaa30e / INFO - Train Epoch: 1 [4200/16954 (25%)]\tLoss: 0.545534\n",
      "2022-01-07 17:40:02,341 fedbiomed INFO - log from: node_267dfb38-d101-4107-a93e-8fa21ae92d11 / INFO - Train Epoch: 1 [4400/18000 (24%)]\tLoss: 0.519390\n",
      "2022-01-07 17:40:03,117 fedbiomed INFO - log from: node_706bed89-d9e8-48ea-a024-94507f7b7baf / INFO - Train Epoch: 1 [4400/18000 (24%)]\tLoss: 0.475950\n",
      "2022-01-07 17:40:03,609 fedbiomed INFO - log from: node_5d88d235-9341-4495-ad13-3d129aeaa30e / INFO - Train Epoch: 1 [4400/16954 (26%)]\tLoss: 0.858236\n",
      "2022-01-07 17:40:19,946 fedbiomed INFO - log from: node_267dfb38-d101-4107-a93e-8fa21ae92d11 / INFO - Train Epoch: 1 [4600/18000 (26%)]\tLoss: 0.425009\n",
      "2022-01-07 17:40:20,670 fedbiomed INFO - log from: node_706bed89-d9e8-48ea-a024-94507f7b7baf / INFO - Train Epoch: 1 [4600/18000 (26%)]\tLoss: 0.476106\n",
      "2022-01-07 17:40:21,275 fedbiomed INFO - log from: node_5d88d235-9341-4495-ad13-3d129aeaa30e / INFO - Train Epoch: 1 [4600/16954 (27%)]\tLoss: 0.702336\n",
      "2022-01-07 17:40:37,921 fedbiomed INFO - log from: node_267dfb38-d101-4107-a93e-8fa21ae92d11 / INFO - Train Epoch: 1 [4800/18000 (27%)]\tLoss: 0.402075\n",
      "2022-01-07 17:40:38,491 fedbiomed INFO - log from: node_706bed89-d9e8-48ea-a024-94507f7b7baf / INFO - Train Epoch: 1 [4800/18000 (27%)]\tLoss: 0.651475\n",
      "2022-01-07 17:40:39,100 fedbiomed INFO - log from: node_5d88d235-9341-4495-ad13-3d129aeaa30e / INFO - Train Epoch: 1 [4800/16954 (28%)]\tLoss: 0.575245\n",
      "2022-01-07 17:40:56,568 fedbiomed INFO - log from: node_267dfb38-d101-4107-a93e-8fa21ae92d11 / DEBUG - Reached 250 batches for this epoch, ignore remaining data\n",
      "2022-01-07 17:40:57,362 fedbiomed INFO - log from: node_706bed89-d9e8-48ea-a024-94507f7b7baf / DEBUG - Reached 250 batches for this epoch, ignore remaining data\n",
      "2022-01-07 17:40:57,995 fedbiomed INFO - log from: node_5d88d235-9341-4495-ad13-3d129aeaa30e / DEBUG - Reached 250 batches for this epoch, ignore remaining data\n",
      "2022-01-07 17:41:00,857 fedbiomed INFO - log from: node_267dfb38-d101-4107-a93e-8fa21ae92d11 / INFO - results uploaded successfully \n",
      "2022-01-07 17:41:01,481 fedbiomed INFO - log from: node_706bed89-d9e8-48ea-a024-94507f7b7baf / INFO - results uploaded successfully \n",
      "2022-01-07 17:41:01,806 fedbiomed INFO - log from: node_5d88d235-9341-4495-ad13-3d129aeaa30e / INFO - results uploaded successfully \n",
      "2022-01-07 17:41:11,486 fedbiomed INFO - Downloading model params after training on node_267dfb38-d101-4107-a93e-8fa21ae92d11 - from http://localhost:8844/media/uploads/2022/01/07/node_params_8aa5fb99-993b-403a-a702-d4c71cc5296f.pt\n",
      "2022-01-07 17:41:12,247 fedbiomed INFO - Downloading model params after training on node_706bed89-d9e8-48ea-a024-94507f7b7baf - from http://localhost:8844/media/uploads/2022/01/07/node_params_d839faa8-5a2f-4ea3-b61a-83150bce00a7.pt\n",
      "2022-01-07 17:41:13,036 fedbiomed INFO - Downloading model params after training on node_5d88d235-9341-4495-ad13-3d129aeaa30e - from http://localhost:8844/media/uploads/2022/01/07/node_params_657a532d-824a-4b21-a237-61355ef1f4fd.pt\n",
      "2022-01-07 17:41:13,796 fedbiomed INFO - Nodes that successfully reply in round 0 ['node_267dfb38-d101-4107-a93e-8fa21ae92d11', 'node_706bed89-d9e8-48ea-a024-94507f7b7baf', 'node_5d88d235-9341-4495-ad13-3d129aeaa30e']\n",
      "2022-01-07 17:41:15,717 fedbiomed INFO - Saved aggregated params for round 0 in /Users/mlorenzi/works/temp/fedbiomed/var/experiments/Experiment_0002/aggregated_params_e22eaca4-b0ec-4c19-b235-624b12082c26.pt\n",
      "2022-01-07 17:41:15,718 fedbiomed INFO - Sampled nodes in round 1 ['node_706bed89-d9e8-48ea-a024-94507f7b7baf', 'node_267dfb38-d101-4107-a93e-8fa21ae92d11', 'node_5d88d235-9341-4495-ad13-3d129aeaa30e']\n",
      "2022-01-07 17:41:15,718 fedbiomed INFO - Send message to node node_706bed89-d9e8-48ea-a024-94507f7b7baf - {'researcher_id': 'researcher_92feca42-d5ac-4555-9db3-d676f5fec16b', 'job_id': '09d0f9b5-5d53-4d40-8528-577e53b5ca28', 'training_args': {'batch_size': 20, 'lr': 1e-05, 'epochs': 1, 'dry_run': False, 'batch_maxnum': 250}, 'model_args': {'num_class': 6}, 'command': 'train', 'model_url': 'http://localhost:8844/media/uploads/2022/01/07/my_model_18bf1810-e08f-4393-b705-819dde05205c.py', 'params_url': 'http://localhost:8844/media/uploads/2022/01/07/aggregated_params_e22eaca4-b0ec-4c19-b235-624b12082c26.pt', 'model_class': 'MyTrainingPlan', 'training_data': {'node_706bed89-d9e8-48ea-a024-94507f7b7baf': ['dataset_353bc909-acf6-4111-b21b-0e245b3637cb']}}\n",
      "2022-01-07 17:41:15,719 fedbiomed DEBUG - researcher_92feca42-d5ac-4555-9db3-d676f5fec16b\n",
      "2022-01-07 17:41:15,720 fedbiomed INFO - Send message to node node_267dfb38-d101-4107-a93e-8fa21ae92d11 - {'researcher_id': 'researcher_92feca42-d5ac-4555-9db3-d676f5fec16b', 'job_id': '09d0f9b5-5d53-4d40-8528-577e53b5ca28', 'training_args': {'batch_size': 20, 'lr': 1e-05, 'epochs': 1, 'dry_run': False, 'batch_maxnum': 250}, 'model_args': {'num_class': 6}, 'command': 'train', 'model_url': 'http://localhost:8844/media/uploads/2022/01/07/my_model_18bf1810-e08f-4393-b705-819dde05205c.py', 'params_url': 'http://localhost:8844/media/uploads/2022/01/07/aggregated_params_e22eaca4-b0ec-4c19-b235-624b12082c26.pt', 'model_class': 'MyTrainingPlan', 'training_data': {'node_267dfb38-d101-4107-a93e-8fa21ae92d11': ['dataset_ca169f7d-222d-4b9d-87c7-5c1bd5155e52']}}\n",
      "2022-01-07 17:41:15,721 fedbiomed DEBUG - researcher_92feca42-d5ac-4555-9db3-d676f5fec16b\n",
      "2022-01-07 17:41:15,722 fedbiomed INFO - Send message to node node_5d88d235-9341-4495-ad13-3d129aeaa30e - {'researcher_id': 'researcher_92feca42-d5ac-4555-9db3-d676f5fec16b', 'job_id': '09d0f9b5-5d53-4d40-8528-577e53b5ca28', 'training_args': {'batch_size': 20, 'lr': 1e-05, 'epochs': 1, 'dry_run': False, 'batch_maxnum': 250}, 'model_args': {'num_class': 6}, 'command': 'train', 'model_url': 'http://localhost:8844/media/uploads/2022/01/07/my_model_18bf1810-e08f-4393-b705-819dde05205c.py', 'params_url': 'http://localhost:8844/media/uploads/2022/01/07/aggregated_params_e22eaca4-b0ec-4c19-b235-624b12082c26.pt', 'model_class': 'MyTrainingPlan', 'training_data': {'node_5d88d235-9341-4495-ad13-3d129aeaa30e': ['dataset_060132d0-4f31-4d1c-9b8b-67c593228711']}}\n",
      "2022-01-07 17:41:15,724 fedbiomed DEBUG - researcher_92feca42-d5ac-4555-9db3-d676f5fec16b\n"
     ]
    },
    {
     "name": "stderr",
     "output_type": "stream",
     "text": [
      "2022-01-07 17:41:15,730 fedbiomed INFO - log from: node_706bed89-d9e8-48ea-a024-94507f7b7baf / DEBUG - Message received: {'researcher_id': 'researcher_92feca42-d5ac-4555-9db3-d676f5fec16b', 'job_id': '09d0f9b5-5d53-4d40-8528-577e53b5ca28', 'training_args': {'batch_size': 20, 'lr': 1e-05, 'epochs': 1, 'dry_run': False, 'batch_maxnum': 250}, 'model_args': {'num_class': 6}, 'command': 'train', 'model_url': 'http://localhost:8844/media/uploads/2022/01/07/my_model_18bf1810-e08f-4393-b705-819dde05205c.py', 'params_url': 'http://localhost:8844/media/uploads/2022/01/07/aggregated_params_e22eaca4-b0ec-4c19-b235-624b12082c26.pt', 'model_class': 'MyTrainingPlan', 'training_data': {'node_706bed89-d9e8-48ea-a024-94507f7b7baf': ['dataset_353bc909-acf6-4111-b21b-0e245b3637cb']}}\n",
      "2022-01-07 17:41:15,733 fedbiomed INFO - log from: node_706bed89-d9e8-48ea-a024-94507f7b7baf / DEBUG - [TASKS QUEUE] Item:{'researcher_id': 'researcher_92feca42-d5ac-4555-9db3-d676f5fec16b', 'job_id': '09d0f9b5-5d53-4d40-8528-577e53b5ca28', 'params_url': 'http://localhost:8844/media/uploads/2022/01/07/aggregated_params_e22eaca4-b0ec-4c19-b235-624b12082c26.pt', 'training_args': {'batch_size': 20, 'lr': 1e-05, 'epochs': 1, 'dry_run': False, 'batch_maxnum': 250}, 'training_data': {'node_706bed89-d9e8-48ea-a024-94507f7b7baf': ['dataset_353bc909-acf6-4111-b21b-0e245b3637cb']}, 'model_args': {'num_class': 6}, 'model_url': 'http://localhost:8844/media/uploads/2022/01/07/my_model_18bf1810-e08f-4393-b705-819dde05205c.py', 'model_class': 'MyTrainingPlan', 'command': 'train'}\n",
      "2022-01-07 17:41:15,734 fedbiomed INFO - log from: node_267dfb38-d101-4107-a93e-8fa21ae92d11 / DEBUG - Message received: {'researcher_id': 'researcher_92feca42-d5ac-4555-9db3-d676f5fec16b', 'job_id': '09d0f9b5-5d53-4d40-8528-577e53b5ca28', 'training_args': {'batch_size': 20, 'lr': 1e-05, 'epochs': 1, 'dry_run': False, 'batch_maxnum': 250}, 'model_args': {'num_class': 6}, 'command': 'train', 'model_url': 'http://localhost:8844/media/uploads/2022/01/07/my_model_18bf1810-e08f-4393-b705-819dde05205c.py', 'params_url': 'http://localhost:8844/media/uploads/2022/01/07/aggregated_params_e22eaca4-b0ec-4c19-b235-624b12082c26.pt', 'model_class': 'MyTrainingPlan', 'training_data': {'node_267dfb38-d101-4107-a93e-8fa21ae92d11': ['dataset_ca169f7d-222d-4b9d-87c7-5c1bd5155e52']}}\n",
      "2022-01-07 17:41:15,736 fedbiomed INFO - log from: node_267dfb38-d101-4107-a93e-8fa21ae92d11 / DEBUG - [TASKS QUEUE] Item:{'researcher_id': 'researcher_92feca42-d5ac-4555-9db3-d676f5fec16b', 'job_id': '09d0f9b5-5d53-4d40-8528-577e53b5ca28', 'params_url': 'http://localhost:8844/media/uploads/2022/01/07/aggregated_params_e22eaca4-b0ec-4c19-b235-624b12082c26.pt', 'training_args': {'batch_size': 20, 'lr': 1e-05, 'epochs': 1, 'dry_run': False, 'batch_maxnum': 250}, 'training_data': {'node_267dfb38-d101-4107-a93e-8fa21ae92d11': ['dataset_ca169f7d-222d-4b9d-87c7-5c1bd5155e52']}, 'model_args': {'num_class': 6}, 'model_url': 'http://localhost:8844/media/uploads/2022/01/07/my_model_18bf1810-e08f-4393-b705-819dde05205c.py', 'model_class': 'MyTrainingPlan', 'command': 'train'}\n",
      "2022-01-07 17:41:15,739 fedbiomed INFO - log from: node_5d88d235-9341-4495-ad13-3d129aeaa30e / DEBUG - Message received: {'researcher_id': 'researcher_92feca42-d5ac-4555-9db3-d676f5fec16b', 'job_id': '09d0f9b5-5d53-4d40-8528-577e53b5ca28', 'training_args': {'batch_size': 20, 'lr': 1e-05, 'epochs': 1, 'dry_run': False, 'batch_maxnum': 250}, 'model_args': {'num_class': 6}, 'command': 'train', 'model_url': 'http://localhost:8844/media/uploads/2022/01/07/my_model_18bf1810-e08f-4393-b705-819dde05205c.py', 'params_url': 'http://localhost:8844/media/uploads/2022/01/07/aggregated_params_e22eaca4-b0ec-4c19-b235-624b12082c26.pt', 'model_class': 'MyTrainingPlan', 'training_data': {'node_5d88d235-9341-4495-ad13-3d129aeaa30e': ['dataset_060132d0-4f31-4d1c-9b8b-67c593228711']}}\n",
      "2022-01-07 17:41:15,741 fedbiomed INFO - log from: node_5d88d235-9341-4495-ad13-3d129aeaa30e / DEBUG - [TASKS QUEUE] Item:{'researcher_id': 'researcher_92feca42-d5ac-4555-9db3-d676f5fec16b', 'job_id': '09d0f9b5-5d53-4d40-8528-577e53b5ca28', 'params_url': 'http://localhost:8844/media/uploads/2022/01/07/aggregated_params_e22eaca4-b0ec-4c19-b235-624b12082c26.pt', 'training_args': {'batch_size': 20, 'lr': 1e-05, 'epochs': 1, 'dry_run': False, 'batch_maxnum': 250}, 'training_data': {'node_5d88d235-9341-4495-ad13-3d129aeaa30e': ['dataset_060132d0-4f31-4d1c-9b8b-67c593228711']}, 'model_args': {'num_class': 6}, 'model_url': 'http://localhost:8844/media/uploads/2022/01/07/my_model_18bf1810-e08f-4393-b705-819dde05205c.py', 'model_class': 'MyTrainingPlan', 'command': 'train'}\n",
      "2022-01-07 17:41:17,387 fedbiomed INFO - log from: node_706bed89-d9e8-48ea-a024-94507f7b7baf / INFO - {'monitor': <fedbiomed.node.history_monitor.HistoryMonitor object at 0x1462f8df0>, 'batch_size': 20, 'lr': 1e-05, 'epochs': 1, 'dry_run': False, 'batch_maxnum': 250}\n",
      "2022-01-07 17:41:17,388 fedbiomed INFO - log from: node_706bed89-d9e8-48ea-a024-94507f7b7baf / DEBUG - Dataset_path/Users/mlorenzi/works/temp/MedNIST/client_2\n",
      "2022-01-07 17:41:17,447 fedbiomed INFO - log from: node_267dfb38-d101-4107-a93e-8fa21ae92d11 / INFO - {'monitor': <fedbiomed.node.history_monitor.HistoryMonitor object at 0x13bd29310>, 'batch_size': 20, 'lr': 1e-05, 'epochs': 1, 'dry_run': False, 'batch_maxnum': 250}\n",
      "2022-01-07 17:41:17,449 fedbiomed INFO - log from: node_267dfb38-d101-4107-a93e-8fa21ae92d11 / DEBUG - Dataset_path/Users/mlorenzi/works/temp/MedNIST/client_1\n",
      "2022-01-07 17:41:17,450 fedbiomed INFO - log from: node_5d88d235-9341-4495-ad13-3d129aeaa30e / INFO - {'monitor': <fedbiomed.node.history_monitor.HistoryMonitor object at 0x137413c70>, 'batch_size': 20, 'lr': 1e-05, 'epochs': 1, 'dry_run': False, 'batch_maxnum': 250}\n",
      "2022-01-07 17:41:17,451 fedbiomed INFO - log from: node_5d88d235-9341-4495-ad13-3d129aeaa30e / DEBUG - Dataset_path/Users/mlorenzi/works/temp/MedNIST/client_3\n",
      "2022-01-07 17:41:19,059 fedbiomed INFO - log from: node_706bed89-d9e8-48ea-a024-94507f7b7baf / INFO - Train Epoch: 1 [0/18000 (0%)]\tLoss: 0.531031\n",
      "2022-01-07 17:41:19,099 fedbiomed INFO - log from: node_5d88d235-9341-4495-ad13-3d129aeaa30e / INFO - Train Epoch: 1 [0/16954 (0%)]\tLoss: 0.587400\n",
      "2022-01-07 17:41:19,142 fedbiomed INFO - log from: node_267dfb38-d101-4107-a93e-8fa21ae92d11 / INFO - Train Epoch: 1 [0/18000 (0%)]\tLoss: 0.474888\n",
      "2022-01-07 17:41:37,202 fedbiomed INFO - log from: node_706bed89-d9e8-48ea-a024-94507f7b7baf / INFO - Train Epoch: 1 [200/18000 (1%)]\tLoss: 0.425256\n",
      "2022-01-07 17:41:37,208 fedbiomed INFO - log from: node_5d88d235-9341-4495-ad13-3d129aeaa30e / INFO - Train Epoch: 1 [200/16954 (1%)]\tLoss: 0.584268\n",
      "2022-01-07 17:41:37,245 fedbiomed INFO - log from: node_267dfb38-d101-4107-a93e-8fa21ae92d11 / INFO - Train Epoch: 1 [200/18000 (1%)]\tLoss: 0.643901\n",
      "2022-01-07 17:41:56,466 fedbiomed INFO - log from: node_706bed89-d9e8-48ea-a024-94507f7b7baf / INFO - Train Epoch: 1 [400/18000 (2%)]\tLoss: 0.420323\n",
      "2022-01-07 17:41:56,468 fedbiomed INFO - log from: node_5d88d235-9341-4495-ad13-3d129aeaa30e / INFO - Train Epoch: 1 [400/16954 (2%)]\tLoss: 0.417543\n",
      "2022-01-07 17:41:56,585 fedbiomed INFO - log from: node_267dfb38-d101-4107-a93e-8fa21ae92d11 / INFO - Train Epoch: 1 [400/18000 (2%)]\tLoss: 0.365802\n",
      "2022-01-07 17:42:15,081 fedbiomed INFO - log from: node_5d88d235-9341-4495-ad13-3d129aeaa30e / INFO - Train Epoch: 1 [600/16954 (4%)]\tLoss: 0.562253\n",
      "2022-01-07 17:42:15,197 fedbiomed INFO - log from: node_706bed89-d9e8-48ea-a024-94507f7b7baf / INFO - Train Epoch: 1 [600/18000 (3%)]\tLoss: 0.502830\n",
      "2022-01-07 17:42:15,448 fedbiomed INFO - log from: node_267dfb38-d101-4107-a93e-8fa21ae92d11 / INFO - Train Epoch: 1 [600/18000 (3%)]\tLoss: 0.594607\n",
      "2022-01-07 17:42:32,850 fedbiomed INFO - log from: node_5d88d235-9341-4495-ad13-3d129aeaa30e / INFO - Train Epoch: 1 [800/16954 (5%)]\tLoss: 0.397046\n",
      "2022-01-07 17:42:33,002 fedbiomed INFO - log from: node_706bed89-d9e8-48ea-a024-94507f7b7baf / INFO - Train Epoch: 1 [800/18000 (4%)]\tLoss: 0.377443\n",
      "2022-01-07 17:42:33,432 fedbiomed INFO - log from: node_267dfb38-d101-4107-a93e-8fa21ae92d11 / INFO - Train Epoch: 1 [800/18000 (4%)]\tLoss: 0.572855\n",
      "2022-01-07 17:42:51,212 fedbiomed INFO - log from: node_5d88d235-9341-4495-ad13-3d129aeaa30e / INFO - Train Epoch: 1 [1000/16954 (6%)]\tLoss: 0.343688\n"
     ]
    },
    {
     "name": "stderr",
     "output_type": "stream",
     "text": [
      "2022-01-07 17:42:51,300 fedbiomed INFO - log from: node_706bed89-d9e8-48ea-a024-94507f7b7baf / INFO - Train Epoch: 1 [1000/18000 (6%)]\tLoss: 0.288770\n",
      "2022-01-07 17:42:51,899 fedbiomed INFO - log from: node_267dfb38-d101-4107-a93e-8fa21ae92d11 / INFO - Train Epoch: 1 [1000/18000 (6%)]\tLoss: 0.559138\n",
      "2022-01-07 17:43:10,601 fedbiomed INFO - log from: node_5d88d235-9341-4495-ad13-3d129aeaa30e / INFO - Train Epoch: 1 [1200/16954 (7%)]\tLoss: 0.402620\n",
      "2022-01-07 17:43:10,712 fedbiomed INFO - log from: node_706bed89-d9e8-48ea-a024-94507f7b7baf / INFO - Train Epoch: 1 [1200/18000 (7%)]\tLoss: 0.333680\n",
      "2022-01-07 17:43:11,547 fedbiomed INFO - log from: node_267dfb38-d101-4107-a93e-8fa21ae92d11 / INFO - Train Epoch: 1 [1200/18000 (7%)]\tLoss: 0.314890\n",
      "2022-01-07 17:43:29,474 fedbiomed INFO - log from: node_5d88d235-9341-4495-ad13-3d129aeaa30e / INFO - Train Epoch: 1 [1400/16954 (8%)]\tLoss: 0.468755\n",
      "2022-01-07 17:43:29,665 fedbiomed INFO - log from: node_706bed89-d9e8-48ea-a024-94507f7b7baf / INFO - Train Epoch: 1 [1400/18000 (8%)]\tLoss: 0.389082\n",
      "2022-01-07 17:43:30,575 fedbiomed INFO - log from: node_267dfb38-d101-4107-a93e-8fa21ae92d11 / INFO - Train Epoch: 1 [1400/18000 (8%)]\tLoss: 0.257364\n",
      "2022-01-07 17:43:47,510 fedbiomed INFO - log from: node_5d88d235-9341-4495-ad13-3d129aeaa30e / INFO - Train Epoch: 1 [1600/16954 (9%)]\tLoss: 0.312054\n",
      "2022-01-07 17:43:47,748 fedbiomed INFO - log from: node_706bed89-d9e8-48ea-a024-94507f7b7baf / INFO - Train Epoch: 1 [1600/18000 (9%)]\tLoss: 0.423986\n",
      "2022-01-07 17:43:48,535 fedbiomed INFO - log from: node_267dfb38-d101-4107-a93e-8fa21ae92d11 / INFO - Train Epoch: 1 [1600/18000 (9%)]\tLoss: 0.275768\n",
      "2022-01-07 17:44:05,396 fedbiomed INFO - log from: node_5d88d235-9341-4495-ad13-3d129aeaa30e / INFO - Train Epoch: 1 [1800/16954 (11%)]\tLoss: 0.437561\n",
      "2022-01-07 17:44:05,586 fedbiomed INFO - log from: node_706bed89-d9e8-48ea-a024-94507f7b7baf / INFO - Train Epoch: 1 [1800/18000 (10%)]\tLoss: 0.388606\n",
      "2022-01-07 17:44:06,921 fedbiomed INFO - log from: node_267dfb38-d101-4107-a93e-8fa21ae92d11 / INFO - Train Epoch: 1 [1800/18000 (10%)]\tLoss: 0.234887\n",
      "2022-01-07 17:44:29,826 fedbiomed INFO - log from: node_5d88d235-9341-4495-ad13-3d129aeaa30e / INFO - Train Epoch: 1 [2000/16954 (12%)]\tLoss: 0.443238\n",
      "2022-01-07 17:44:30,144 fedbiomed INFO - log from: node_706bed89-d9e8-48ea-a024-94507f7b7baf / INFO - Train Epoch: 1 [2000/18000 (11%)]\tLoss: 0.227101\n",
      "2022-01-07 17:44:31,391 fedbiomed INFO - log from: node_267dfb38-d101-4107-a93e-8fa21ae92d11 / INFO - Train Epoch: 1 [2000/18000 (11%)]\tLoss: 0.295672\n",
      "2022-01-07 17:44:50,339 fedbiomed INFO - log from: node_5d88d235-9341-4495-ad13-3d129aeaa30e / INFO - Train Epoch: 1 [2200/16954 (13%)]\tLoss: 0.379684\n",
      "2022-01-07 17:44:50,873 fedbiomed INFO - log from: node_706bed89-d9e8-48ea-a024-94507f7b7baf / INFO - Train Epoch: 1 [2200/18000 (12%)]\tLoss: 0.257534\n",
      "2022-01-07 17:44:51,966 fedbiomed INFO - log from: node_267dfb38-d101-4107-a93e-8fa21ae92d11 / INFO - Train Epoch: 1 [2200/18000 (12%)]\tLoss: 0.450478\n",
      "2022-01-07 17:45:09,881 fedbiomed INFO - log from: node_5d88d235-9341-4495-ad13-3d129aeaa30e / INFO - Train Epoch: 1 [2400/16954 (14%)]\tLoss: 0.243825\n",
      "2022-01-07 17:45:10,466 fedbiomed INFO - log from: node_706bed89-d9e8-48ea-a024-94507f7b7baf / INFO - Train Epoch: 1 [2400/18000 (13%)]\tLoss: 0.311923\n",
      "2022-01-07 17:45:11,436 fedbiomed INFO - log from: node_267dfb38-d101-4107-a93e-8fa21ae92d11 / INFO - Train Epoch: 1 [2400/18000 (13%)]\tLoss: 0.157937\n",
      "2022-01-07 17:45:32,824 fedbiomed INFO - log from: node_5d88d235-9341-4495-ad13-3d129aeaa30e / INFO - Train Epoch: 1 [2600/16954 (15%)]\tLoss: 0.325214\n",
      "2022-01-07 17:45:33,564 fedbiomed INFO - log from: node_706bed89-d9e8-48ea-a024-94507f7b7baf / INFO - Train Epoch: 1 [2600/18000 (14%)]\tLoss: 0.525372\n",
      "2022-01-07 17:45:34,308 fedbiomed INFO - log from: node_267dfb38-d101-4107-a93e-8fa21ae92d11 / INFO - Train Epoch: 1 [2600/18000 (14%)]\tLoss: 0.336595\n",
      "2022-01-07 17:45:53,348 fedbiomed INFO - log from: node_5d88d235-9341-4495-ad13-3d129aeaa30e / INFO - Train Epoch: 1 [2800/16954 (17%)]\tLoss: 0.493323\n",
      "2022-01-07 17:45:53,853 fedbiomed INFO - log from: node_706bed89-d9e8-48ea-a024-94507f7b7baf / INFO - Train Epoch: 1 [2800/18000 (16%)]\tLoss: 0.323606\n",
      "2022-01-07 17:45:54,658 fedbiomed INFO - log from: node_267dfb38-d101-4107-a93e-8fa21ae92d11 / INFO - Train Epoch: 1 [2800/18000 (16%)]\tLoss: 0.355419\n",
      "2022-01-07 17:46:13,875 fedbiomed INFO - log from: node_5d88d235-9341-4495-ad13-3d129aeaa30e / INFO - Train Epoch: 1 [3000/16954 (18%)]\tLoss: 0.500399\n",
      "2022-01-07 17:46:14,563 fedbiomed INFO - log from: node_706bed89-d9e8-48ea-a024-94507f7b7baf / INFO - Train Epoch: 1 [3000/18000 (17%)]\tLoss: 0.165877\n",
      "2022-01-07 17:46:15,302 fedbiomed INFO - log from: node_267dfb38-d101-4107-a93e-8fa21ae92d11 / INFO - Train Epoch: 1 [3000/18000 (17%)]\tLoss: 0.448767\n",
      "2022-01-07 17:46:38,112 fedbiomed INFO - log from: node_5d88d235-9341-4495-ad13-3d129aeaa30e / INFO - Train Epoch: 1 [3200/16954 (19%)]\tLoss: 0.447014\n",
      "2022-01-07 17:46:38,900 fedbiomed INFO - log from: node_706bed89-d9e8-48ea-a024-94507f7b7baf / INFO - Train Epoch: 1 [3200/18000 (18%)]\tLoss: 0.186769\n",
      "2022-01-07 17:46:40,091 fedbiomed INFO - log from: node_267dfb38-d101-4107-a93e-8fa21ae92d11 / INFO - Train Epoch: 1 [3200/18000 (18%)]\tLoss: 0.185251\n",
      "2022-01-07 17:47:03,102 fedbiomed INFO - log from: node_5d88d235-9341-4495-ad13-3d129aeaa30e / INFO - Train Epoch: 1 [3400/16954 (20%)]\tLoss: 0.171284\n",
      "2022-01-07 17:47:04,127 fedbiomed INFO - log from: node_706bed89-d9e8-48ea-a024-94507f7b7baf / INFO - Train Epoch: 1 [3400/18000 (19%)]\tLoss: 0.318327\n",
      "2022-01-07 17:47:05,032 fedbiomed INFO - log from: node_267dfb38-d101-4107-a93e-8fa21ae92d11 / INFO - Train Epoch: 1 [3400/18000 (19%)]\tLoss: 0.172280\n",
      "2022-01-07 17:47:22,544 fedbiomed INFO - log from: node_5d88d235-9341-4495-ad13-3d129aeaa30e / INFO - Train Epoch: 1 [3600/16954 (21%)]\tLoss: 0.340563\n",
      "2022-01-07 17:47:23,278 fedbiomed INFO - log from: node_706bed89-d9e8-48ea-a024-94507f7b7baf / INFO - Train Epoch: 1 [3600/18000 (20%)]\tLoss: 0.221813\n",
      "2022-01-07 17:47:23,914 fedbiomed INFO - log from: node_267dfb38-d101-4107-a93e-8fa21ae92d11 / INFO - Train Epoch: 1 [3600/18000 (20%)]\tLoss: 0.320108\n",
      "2022-01-07 17:47:42,124 fedbiomed INFO - log from: node_5d88d235-9341-4495-ad13-3d129aeaa30e / INFO - Train Epoch: 1 [3800/16954 (22%)]\tLoss: 0.244959\n",
      "2022-01-07 17:47:42,993 fedbiomed INFO - log from: node_706bed89-d9e8-48ea-a024-94507f7b7baf / INFO - Train Epoch: 1 [3800/18000 (21%)]\tLoss: 0.108576\n",
      "2022-01-07 17:47:43,643 fedbiomed INFO - log from: node_267dfb38-d101-4107-a93e-8fa21ae92d11 / INFO - Train Epoch: 1 [3800/18000 (21%)]\tLoss: 0.164337\n",
      "2022-01-07 17:48:01,363 fedbiomed INFO - log from: node_5d88d235-9341-4495-ad13-3d129aeaa30e / INFO - Train Epoch: 1 [4000/16954 (24%)]\tLoss: 0.109770\n",
      "2022-01-07 17:48:02,169 fedbiomed INFO - log from: node_706bed89-d9e8-48ea-a024-94507f7b7baf / INFO - Train Epoch: 1 [4000/18000 (22%)]\tLoss: 0.160122\n",
      "2022-01-07 17:48:02,592 fedbiomed INFO - log from: node_267dfb38-d101-4107-a93e-8fa21ae92d11 / INFO - Train Epoch: 1 [4000/18000 (22%)]\tLoss: 0.133512\n",
      "2022-01-07 17:48:19,804 fedbiomed INFO - log from: node_5d88d235-9341-4495-ad13-3d129aeaa30e / INFO - Train Epoch: 1 [4200/16954 (25%)]\tLoss: 0.261629\n",
      "2022-01-07 17:48:20,394 fedbiomed INFO - log from: node_706bed89-d9e8-48ea-a024-94507f7b7baf / INFO - Train Epoch: 1 [4200/18000 (23%)]\tLoss: 0.182354\n",
      "2022-01-07 17:48:21,040 fedbiomed INFO - log from: node_267dfb38-d101-4107-a93e-8fa21ae92d11 / INFO - Train Epoch: 1 [4200/18000 (23%)]\tLoss: 0.110344\n",
      "2022-01-07 17:48:40,542 fedbiomed INFO - log from: node_5d88d235-9341-4495-ad13-3d129aeaa30e / INFO - Train Epoch: 1 [4400/16954 (26%)]\tLoss: 0.177781\n",
      "2022-01-07 17:48:41,022 fedbiomed INFO - log from: node_706bed89-d9e8-48ea-a024-94507f7b7baf / INFO - Train Epoch: 1 [4400/18000 (24%)]\tLoss: 0.183779\n",
      "2022-01-07 17:48:41,630 fedbiomed INFO - log from: node_267dfb38-d101-4107-a93e-8fa21ae92d11 / INFO - Train Epoch: 1 [4400/18000 (24%)]\tLoss: 0.082916\n",
      "2022-01-07 17:48:59,939 fedbiomed INFO - log from: node_5d88d235-9341-4495-ad13-3d129aeaa30e / INFO - Train Epoch: 1 [4600/16954 (27%)]\tLoss: 0.186246\n",
      "2022-01-07 17:49:00,559 fedbiomed INFO - log from: node_706bed89-d9e8-48ea-a024-94507f7b7baf / INFO - Train Epoch: 1 [4600/18000 (26%)]\tLoss: 0.334766\n"
     ]
    },
    {
     "name": "stderr",
     "output_type": "stream",
     "text": [
      "2022-01-07 17:49:01,067 fedbiomed INFO - log from: node_267dfb38-d101-4107-a93e-8fa21ae92d11 / INFO - Train Epoch: 1 [4600/18000 (26%)]\tLoss: 0.241717\n",
      "2022-01-07 17:49:21,165 fedbiomed INFO - log from: node_5d88d235-9341-4495-ad13-3d129aeaa30e / INFO - Train Epoch: 1 [4800/16954 (28%)]\tLoss: 0.313083\n",
      "2022-01-07 17:49:21,707 fedbiomed INFO - log from: node_706bed89-d9e8-48ea-a024-94507f7b7baf / INFO - Train Epoch: 1 [4800/18000 (27%)]\tLoss: 0.241771\n",
      "2022-01-07 17:49:22,221 fedbiomed INFO - log from: node_267dfb38-d101-4107-a93e-8fa21ae92d11 / INFO - Train Epoch: 1 [4800/18000 (27%)]\tLoss: 0.086481\n",
      "2022-01-07 17:49:41,477 fedbiomed INFO - log from: node_5d88d235-9341-4495-ad13-3d129aeaa30e / DEBUG - Reached 250 batches for this epoch, ignore remaining data\n",
      "2022-01-07 17:49:42,452 fedbiomed INFO - log from: node_706bed89-d9e8-48ea-a024-94507f7b7baf / DEBUG - Reached 250 batches for this epoch, ignore remaining data\n",
      "2022-01-07 17:49:43,181 fedbiomed INFO - log from: node_267dfb38-d101-4107-a93e-8fa21ae92d11 / DEBUG - Reached 250 batches for this epoch, ignore remaining data\n",
      "2022-01-07 17:49:47,108 fedbiomed INFO - log from: node_5d88d235-9341-4495-ad13-3d129aeaa30e / INFO - results uploaded successfully \n",
      "2022-01-07 17:49:48,140 fedbiomed INFO - log from: node_706bed89-d9e8-48ea-a024-94507f7b7baf / INFO - results uploaded successfully \n",
      "2022-01-07 17:49:48,193 fedbiomed INFO - log from: node_267dfb38-d101-4107-a93e-8fa21ae92d11 / INFO - results uploaded successfully \n",
      "2022-01-07 17:49:56,046 fedbiomed INFO - Downloading model params after training on node_5d88d235-9341-4495-ad13-3d129aeaa30e - from http://localhost:8844/media/uploads/2022/01/07/node_params_21d55280-ee83-432b-8eef-2c47f35f9b7f.pt\n",
      "2022-01-07 17:49:56,781 fedbiomed INFO - Downloading model params after training on node_706bed89-d9e8-48ea-a024-94507f7b7baf - from http://localhost:8844/media/uploads/2022/01/07/node_params_3bb505b3-77e4-412d-b72a-39318cd40533.pt\n",
      "2022-01-07 17:49:57,540 fedbiomed INFO - Downloading model params after training on node_267dfb38-d101-4107-a93e-8fa21ae92d11 - from http://localhost:8844/media/uploads/2022/01/07/node_params_7bf0c809-5ffb-4be7-8d6a-f8bdc96a163e.pt\n",
      "2022-01-07 17:49:58,260 fedbiomed INFO - Nodes that successfully reply in round 1 ['node_5d88d235-9341-4495-ad13-3d129aeaa30e', 'node_706bed89-d9e8-48ea-a024-94507f7b7baf', 'node_267dfb38-d101-4107-a93e-8fa21ae92d11']\n",
      "2022-01-07 17:50:00,189 fedbiomed INFO - Saved aggregated params for round 1 in /Users/mlorenzi/works/temp/fedbiomed/var/experiments/Experiment_0002/aggregated_params_2add2602-4a10-498e-a036-3c1d69076382.pt\n",
      "2022-01-07 17:50:00,190 fedbiomed INFO - Sampled nodes in round 2 ['node_706bed89-d9e8-48ea-a024-94507f7b7baf', 'node_267dfb38-d101-4107-a93e-8fa21ae92d11', 'node_5d88d235-9341-4495-ad13-3d129aeaa30e']\n",
      "2022-01-07 17:50:00,191 fedbiomed INFO - Send message to node node_706bed89-d9e8-48ea-a024-94507f7b7baf - {'researcher_id': 'researcher_92feca42-d5ac-4555-9db3-d676f5fec16b', 'job_id': '09d0f9b5-5d53-4d40-8528-577e53b5ca28', 'training_args': {'batch_size': 20, 'lr': 1e-05, 'epochs': 1, 'dry_run': False, 'batch_maxnum': 250}, 'model_args': {'num_class': 6}, 'command': 'train', 'model_url': 'http://localhost:8844/media/uploads/2022/01/07/my_model_18bf1810-e08f-4393-b705-819dde05205c.py', 'params_url': 'http://localhost:8844/media/uploads/2022/01/07/aggregated_params_2add2602-4a10-498e-a036-3c1d69076382.pt', 'model_class': 'MyTrainingPlan', 'training_data': {'node_706bed89-d9e8-48ea-a024-94507f7b7baf': ['dataset_353bc909-acf6-4111-b21b-0e245b3637cb']}}\n",
      "2022-01-07 17:50:00,191 fedbiomed DEBUG - researcher_92feca42-d5ac-4555-9db3-d676f5fec16b\n",
      "2022-01-07 17:50:00,192 fedbiomed INFO - Send message to node node_267dfb38-d101-4107-a93e-8fa21ae92d11 - {'researcher_id': 'researcher_92feca42-d5ac-4555-9db3-d676f5fec16b', 'job_id': '09d0f9b5-5d53-4d40-8528-577e53b5ca28', 'training_args': {'batch_size': 20, 'lr': 1e-05, 'epochs': 1, 'dry_run': False, 'batch_maxnum': 250}, 'model_args': {'num_class': 6}, 'command': 'train', 'model_url': 'http://localhost:8844/media/uploads/2022/01/07/my_model_18bf1810-e08f-4393-b705-819dde05205c.py', 'params_url': 'http://localhost:8844/media/uploads/2022/01/07/aggregated_params_2add2602-4a10-498e-a036-3c1d69076382.pt', 'model_class': 'MyTrainingPlan', 'training_data': {'node_267dfb38-d101-4107-a93e-8fa21ae92d11': ['dataset_ca169f7d-222d-4b9d-87c7-5c1bd5155e52']}}\n",
      "2022-01-07 17:50:00,193 fedbiomed DEBUG - researcher_92feca42-d5ac-4555-9db3-d676f5fec16b\n",
      "2022-01-07 17:50:00,195 fedbiomed INFO - Send message to node node_5d88d235-9341-4495-ad13-3d129aeaa30e - {'researcher_id': 'researcher_92feca42-d5ac-4555-9db3-d676f5fec16b', 'job_id': '09d0f9b5-5d53-4d40-8528-577e53b5ca28', 'training_args': {'batch_size': 20, 'lr': 1e-05, 'epochs': 1, 'dry_run': False, 'batch_maxnum': 250}, 'model_args': {'num_class': 6}, 'command': 'train', 'model_url': 'http://localhost:8844/media/uploads/2022/01/07/my_model_18bf1810-e08f-4393-b705-819dde05205c.py', 'params_url': 'http://localhost:8844/media/uploads/2022/01/07/aggregated_params_2add2602-4a10-498e-a036-3c1d69076382.pt', 'model_class': 'MyTrainingPlan', 'training_data': {'node_5d88d235-9341-4495-ad13-3d129aeaa30e': ['dataset_060132d0-4f31-4d1c-9b8b-67c593228711']}}\n",
      "2022-01-07 17:50:00,196 fedbiomed DEBUG - researcher_92feca42-d5ac-4555-9db3-d676f5fec16b\n",
      "2022-01-07 17:50:00,202 fedbiomed INFO - log from: node_706bed89-d9e8-48ea-a024-94507f7b7baf / DEBUG - Message received: {'researcher_id': 'researcher_92feca42-d5ac-4555-9db3-d676f5fec16b', 'job_id': '09d0f9b5-5d53-4d40-8528-577e53b5ca28', 'training_args': {'batch_size': 20, 'lr': 1e-05, 'epochs': 1, 'dry_run': False, 'batch_maxnum': 250}, 'model_args': {'num_class': 6}, 'command': 'train', 'model_url': 'http://localhost:8844/media/uploads/2022/01/07/my_model_18bf1810-e08f-4393-b705-819dde05205c.py', 'params_url': 'http://localhost:8844/media/uploads/2022/01/07/aggregated_params_2add2602-4a10-498e-a036-3c1d69076382.pt', 'model_class': 'MyTrainingPlan', 'training_data': {'node_706bed89-d9e8-48ea-a024-94507f7b7baf': ['dataset_353bc909-acf6-4111-b21b-0e245b3637cb']}}\n",
      "2022-01-07 17:50:00,205 fedbiomed INFO - log from: node_706bed89-d9e8-48ea-a024-94507f7b7baf / DEBUG - [TASKS QUEUE] Item:{'researcher_id': 'researcher_92feca42-d5ac-4555-9db3-d676f5fec16b', 'job_id': '09d0f9b5-5d53-4d40-8528-577e53b5ca28', 'params_url': 'http://localhost:8844/media/uploads/2022/01/07/aggregated_params_2add2602-4a10-498e-a036-3c1d69076382.pt', 'training_args': {'batch_size': 20, 'lr': 1e-05, 'epochs': 1, 'dry_run': False, 'batch_maxnum': 250}, 'training_data': {'node_706bed89-d9e8-48ea-a024-94507f7b7baf': ['dataset_353bc909-acf6-4111-b21b-0e245b3637cb']}, 'model_args': {'num_class': 6}, 'model_url': 'http://localhost:8844/media/uploads/2022/01/07/my_model_18bf1810-e08f-4393-b705-819dde05205c.py', 'model_class': 'MyTrainingPlan', 'command': 'train'}\n",
      "2022-01-07 17:50:00,208 fedbiomed INFO - log from: node_267dfb38-d101-4107-a93e-8fa21ae92d11 / DEBUG - Message received: {'researcher_id': 'researcher_92feca42-d5ac-4555-9db3-d676f5fec16b', 'job_id': '09d0f9b5-5d53-4d40-8528-577e53b5ca28', 'training_args': {'batch_size': 20, 'lr': 1e-05, 'epochs': 1, 'dry_run': False, 'batch_maxnum': 250}, 'model_args': {'num_class': 6}, 'command': 'train', 'model_url': 'http://localhost:8844/media/uploads/2022/01/07/my_model_18bf1810-e08f-4393-b705-819dde05205c.py', 'params_url': 'http://localhost:8844/media/uploads/2022/01/07/aggregated_params_2add2602-4a10-498e-a036-3c1d69076382.pt', 'model_class': 'MyTrainingPlan', 'training_data': {'node_267dfb38-d101-4107-a93e-8fa21ae92d11': ['dataset_ca169f7d-222d-4b9d-87c7-5c1bd5155e52']}}\n",
      "2022-01-07 17:50:00,211 fedbiomed INFO - log from: node_267dfb38-d101-4107-a93e-8fa21ae92d11 / DEBUG - [TASKS QUEUE] Item:{'researcher_id': 'researcher_92feca42-d5ac-4555-9db3-d676f5fec16b', 'job_id': '09d0f9b5-5d53-4d40-8528-577e53b5ca28', 'params_url': 'http://localhost:8844/media/uploads/2022/01/07/aggregated_params_2add2602-4a10-498e-a036-3c1d69076382.pt', 'training_args': {'batch_size': 20, 'lr': 1e-05, 'epochs': 1, 'dry_run': False, 'batch_maxnum': 250}, 'training_data': {'node_267dfb38-d101-4107-a93e-8fa21ae92d11': ['dataset_ca169f7d-222d-4b9d-87c7-5c1bd5155e52']}, 'model_args': {'num_class': 6}, 'model_url': 'http://localhost:8844/media/uploads/2022/01/07/my_model_18bf1810-e08f-4393-b705-819dde05205c.py', 'model_class': 'MyTrainingPlan', 'command': 'train'}\n"
     ]
    },
    {
     "name": "stderr",
     "output_type": "stream",
     "text": [
      "2022-01-07 17:50:00,214 fedbiomed INFO - log from: node_5d88d235-9341-4495-ad13-3d129aeaa30e / DEBUG - Message received: {'researcher_id': 'researcher_92feca42-d5ac-4555-9db3-d676f5fec16b', 'job_id': '09d0f9b5-5d53-4d40-8528-577e53b5ca28', 'training_args': {'batch_size': 20, 'lr': 1e-05, 'epochs': 1, 'dry_run': False, 'batch_maxnum': 250}, 'model_args': {'num_class': 6}, 'command': 'train', 'model_url': 'http://localhost:8844/media/uploads/2022/01/07/my_model_18bf1810-e08f-4393-b705-819dde05205c.py', 'params_url': 'http://localhost:8844/media/uploads/2022/01/07/aggregated_params_2add2602-4a10-498e-a036-3c1d69076382.pt', 'model_class': 'MyTrainingPlan', 'training_data': {'node_5d88d235-9341-4495-ad13-3d129aeaa30e': ['dataset_060132d0-4f31-4d1c-9b8b-67c593228711']}}\n",
      "2022-01-07 17:50:00,216 fedbiomed INFO - log from: node_5d88d235-9341-4495-ad13-3d129aeaa30e / DEBUG - [TASKS QUEUE] Item:{'researcher_id': 'researcher_92feca42-d5ac-4555-9db3-d676f5fec16b', 'job_id': '09d0f9b5-5d53-4d40-8528-577e53b5ca28', 'params_url': 'http://localhost:8844/media/uploads/2022/01/07/aggregated_params_2add2602-4a10-498e-a036-3c1d69076382.pt', 'training_args': {'batch_size': 20, 'lr': 1e-05, 'epochs': 1, 'dry_run': False, 'batch_maxnum': 250}, 'training_data': {'node_5d88d235-9341-4495-ad13-3d129aeaa30e': ['dataset_060132d0-4f31-4d1c-9b8b-67c593228711']}, 'model_args': {'num_class': 6}, 'model_url': 'http://localhost:8844/media/uploads/2022/01/07/my_model_18bf1810-e08f-4393-b705-819dde05205c.py', 'model_class': 'MyTrainingPlan', 'command': 'train'}\n",
      "2022-01-07 17:50:01,904 fedbiomed INFO - log from: node_706bed89-d9e8-48ea-a024-94507f7b7baf / INFO - {'monitor': <fedbiomed.node.history_monitor.HistoryMonitor object at 0x109f54c70>, 'batch_size': 20, 'lr': 1e-05, 'epochs': 1, 'dry_run': False, 'batch_maxnum': 250}\n",
      "2022-01-07 17:50:01,910 fedbiomed INFO - log from: node_706bed89-d9e8-48ea-a024-94507f7b7baf / DEBUG - Dataset_path/Users/mlorenzi/works/temp/MedNIST/client_2\n",
      "2022-01-07 17:50:01,969 fedbiomed INFO - log from: node_5d88d235-9341-4495-ad13-3d129aeaa30e / INFO - {'monitor': <fedbiomed.node.history_monitor.HistoryMonitor object at 0x137413580>, 'batch_size': 20, 'lr': 1e-05, 'epochs': 1, 'dry_run': False, 'batch_maxnum': 250}\n",
      "2022-01-07 17:50:01,971 fedbiomed INFO - log from: node_267dfb38-d101-4107-a93e-8fa21ae92d11 / INFO - {'monitor': <fedbiomed.node.history_monitor.HistoryMonitor object at 0x106856c70>, 'batch_size': 20, 'lr': 1e-05, 'epochs': 1, 'dry_run': False, 'batch_maxnum': 250}\n",
      "2022-01-07 17:50:01,971 fedbiomed INFO - log from: node_5d88d235-9341-4495-ad13-3d129aeaa30e / DEBUG - Dataset_path/Users/mlorenzi/works/temp/MedNIST/client_3\n",
      "2022-01-07 17:50:01,973 fedbiomed INFO - log from: node_267dfb38-d101-4107-a93e-8fa21ae92d11 / DEBUG - Dataset_path/Users/mlorenzi/works/temp/MedNIST/client_1\n",
      "2022-01-07 17:50:03,686 fedbiomed INFO - log from: node_706bed89-d9e8-48ea-a024-94507f7b7baf / INFO - Train Epoch: 1 [0/18000 (0%)]\tLoss: 0.238407\n",
      "2022-01-07 17:50:03,748 fedbiomed INFO - log from: node_267dfb38-d101-4107-a93e-8fa21ae92d11 / INFO - Train Epoch: 1 [0/18000 (0%)]\tLoss: 0.096867\n",
      "2022-01-07 17:50:03,755 fedbiomed INFO - log from: node_5d88d235-9341-4495-ad13-3d129aeaa30e / INFO - Train Epoch: 1 [0/16954 (0%)]\tLoss: 0.313543\n",
      "2022-01-07 17:50:21,985 fedbiomed INFO - log from: node_706bed89-d9e8-48ea-a024-94507f7b7baf / INFO - Train Epoch: 1 [200/18000 (1%)]\tLoss: 0.238608\n",
      "2022-01-07 17:50:22,164 fedbiomed INFO - log from: node_267dfb38-d101-4107-a93e-8fa21ae92d11 / INFO - Train Epoch: 1 [200/18000 (1%)]\tLoss: 0.263599\n",
      "2022-01-07 17:50:22,281 fedbiomed INFO - log from: node_5d88d235-9341-4495-ad13-3d129aeaa30e / INFO - Train Epoch: 1 [200/16954 (1%)]\tLoss: 0.180896\n",
      "2022-01-07 17:50:40,490 fedbiomed INFO - log from: node_706bed89-d9e8-48ea-a024-94507f7b7baf / INFO - Train Epoch: 1 [400/18000 (2%)]\tLoss: 0.108753\n",
      "2022-01-07 17:50:40,713 fedbiomed INFO - log from: node_267dfb38-d101-4107-a93e-8fa21ae92d11 / INFO - Train Epoch: 1 [400/18000 (2%)]\tLoss: 0.182862\n",
      "2022-01-07 17:50:41,087 fedbiomed INFO - log from: node_5d88d235-9341-4495-ad13-3d129aeaa30e / INFO - Train Epoch: 1 [400/16954 (2%)]\tLoss: 0.113120\n",
      "2022-01-07 17:51:01,941 fedbiomed INFO - log from: node_267dfb38-d101-4107-a93e-8fa21ae92d11 / INFO - Train Epoch: 1 [600/18000 (3%)]\tLoss: 0.189910\n",
      "2022-01-07 17:51:02,002 fedbiomed INFO - log from: node_706bed89-d9e8-48ea-a024-94507f7b7baf / INFO - Train Epoch: 1 [600/18000 (3%)]\tLoss: 0.080414\n",
      "2022-01-07 17:51:02,668 fedbiomed INFO - log from: node_5d88d235-9341-4495-ad13-3d129aeaa30e / INFO - Train Epoch: 1 [600/16954 (4%)]\tLoss: 0.159476\n",
      "2022-01-07 17:51:22,600 fedbiomed INFO - log from: node_267dfb38-d101-4107-a93e-8fa21ae92d11 / INFO - Train Epoch: 1 [800/18000 (4%)]\tLoss: 0.168731\n",
      "2022-01-07 17:51:22,684 fedbiomed INFO - log from: node_706bed89-d9e8-48ea-a024-94507f7b7baf / INFO - Train Epoch: 1 [800/18000 (4%)]\tLoss: 0.112432\n",
      "2022-01-07 17:51:23,542 fedbiomed INFO - log from: node_5d88d235-9341-4495-ad13-3d129aeaa30e / INFO - Train Epoch: 1 [800/16954 (5%)]\tLoss: 0.110255\n",
      "2022-01-07 17:51:43,904 fedbiomed INFO - log from: node_267dfb38-d101-4107-a93e-8fa21ae92d11 / INFO - Train Epoch: 1 [1000/18000 (6%)]\tLoss: 0.154047\n",
      "2022-01-07 17:51:43,930 fedbiomed INFO - log from: node_706bed89-d9e8-48ea-a024-94507f7b7baf / INFO - Train Epoch: 1 [1000/18000 (6%)]\tLoss: 0.592293\n",
      "2022-01-07 17:51:45,305 fedbiomed INFO - log from: node_5d88d235-9341-4495-ad13-3d129aeaa30e / INFO - Train Epoch: 1 [1000/16954 (6%)]\tLoss: 0.087085\n",
      "2022-01-07 17:52:09,718 fedbiomed INFO - log from: node_267dfb38-d101-4107-a93e-8fa21ae92d11 / INFO - Train Epoch: 1 [1200/18000 (7%)]\tLoss: 0.125305\n",
      "2022-01-07 17:52:09,749 fedbiomed INFO - log from: node_706bed89-d9e8-48ea-a024-94507f7b7baf / INFO - Train Epoch: 1 [1200/18000 (7%)]\tLoss: 0.058062\n",
      "2022-01-07 17:52:11,374 fedbiomed INFO - log from: node_5d88d235-9341-4495-ad13-3d129aeaa30e / INFO - Train Epoch: 1 [1200/16954 (7%)]\tLoss: 0.166976\n",
      "2022-01-07 17:52:28,647 fedbiomed INFO - log from: node_267dfb38-d101-4107-a93e-8fa21ae92d11 / INFO - Train Epoch: 1 [1400/18000 (8%)]\tLoss: 0.221918\n",
      "2022-01-07 17:52:28,691 fedbiomed INFO - log from: node_706bed89-d9e8-48ea-a024-94507f7b7baf / INFO - Train Epoch: 1 [1400/18000 (8%)]\tLoss: 0.130518\n",
      "2022-01-07 17:52:29,697 fedbiomed INFO - log from: node_5d88d235-9341-4495-ad13-3d129aeaa30e / INFO - Train Epoch: 1 [1400/16954 (8%)]\tLoss: 0.145809\n",
      "2022-01-07 17:52:46,879 fedbiomed INFO - log from: node_706bed89-d9e8-48ea-a024-94507f7b7baf / INFO - Train Epoch: 1 [1600/18000 (9%)]\tLoss: 0.143897\n",
      "2022-01-07 17:52:46,894 fedbiomed INFO - log from: node_267dfb38-d101-4107-a93e-8fa21ae92d11 / INFO - Train Epoch: 1 [1600/18000 (9%)]\tLoss: 0.122418\n",
      "2022-01-07 17:52:47,938 fedbiomed INFO - log from: node_5d88d235-9341-4495-ad13-3d129aeaa30e / INFO - Train Epoch: 1 [1600/16954 (9%)]\tLoss: 0.272138\n",
      "2022-01-07 17:53:06,458 fedbiomed INFO - log from: node_706bed89-d9e8-48ea-a024-94507f7b7baf / INFO - Train Epoch: 1 [1800/18000 (10%)]\tLoss: 0.145600\n",
      "2022-01-07 17:53:06,569 fedbiomed INFO - log from: node_267dfb38-d101-4107-a93e-8fa21ae92d11 / INFO - Train Epoch: 1 [1800/18000 (10%)]\tLoss: 0.207021\n",
      "2022-01-07 17:53:07,481 fedbiomed INFO - log from: node_5d88d235-9341-4495-ad13-3d129aeaa30e / INFO - Train Epoch: 1 [1800/16954 (11%)]\tLoss: 0.158790\n",
      "2022-01-07 17:53:25,529 fedbiomed INFO - log from: node_706bed89-d9e8-48ea-a024-94507f7b7baf / INFO - Train Epoch: 1 [2000/18000 (11%)]\tLoss: 0.176007\n",
      "2022-01-07 17:53:25,625 fedbiomed INFO - log from: node_267dfb38-d101-4107-a93e-8fa21ae92d11 / INFO - Train Epoch: 1 [2000/18000 (11%)]\tLoss: 0.233000\n",
      "2022-01-07 17:53:27,006 fedbiomed INFO - log from: node_5d88d235-9341-4495-ad13-3d129aeaa30e / INFO - Train Epoch: 1 [2000/16954 (12%)]\tLoss: 0.267609\n",
      "2022-01-07 17:53:45,562 fedbiomed INFO - log from: node_706bed89-d9e8-48ea-a024-94507f7b7baf / INFO - Train Epoch: 1 [2200/18000 (12%)]\tLoss: 0.074127\n",
      "2022-01-07 17:53:45,579 fedbiomed INFO - log from: node_267dfb38-d101-4107-a93e-8fa21ae92d11 / INFO - Train Epoch: 1 [2200/18000 (12%)]\tLoss: 0.165422\n",
      "2022-01-07 17:53:46,740 fedbiomed INFO - log from: node_5d88d235-9341-4495-ad13-3d129aeaa30e / INFO - Train Epoch: 1 [2200/16954 (13%)]\tLoss: 0.163308\n"
     ]
    },
    {
     "name": "stderr",
     "output_type": "stream",
     "text": [
      "2022-01-07 17:54:05,501 fedbiomed INFO - log from: node_267dfb38-d101-4107-a93e-8fa21ae92d11 / INFO - Train Epoch: 1 [2400/18000 (13%)]\tLoss: 0.120380\n",
      "2022-01-07 17:54:05,580 fedbiomed INFO - log from: node_706bed89-d9e8-48ea-a024-94507f7b7baf / INFO - Train Epoch: 1 [2400/18000 (13%)]\tLoss: 0.064889\n",
      "2022-01-07 17:54:06,660 fedbiomed INFO - log from: node_5d88d235-9341-4495-ad13-3d129aeaa30e / INFO - Train Epoch: 1 [2400/16954 (14%)]\tLoss: 0.175555\n",
      "2022-01-07 17:54:23,763 fedbiomed INFO - log from: node_267dfb38-d101-4107-a93e-8fa21ae92d11 / INFO - Train Epoch: 1 [2600/18000 (14%)]\tLoss: 0.066925\n",
      "2022-01-07 17:54:24,077 fedbiomed INFO - log from: node_706bed89-d9e8-48ea-a024-94507f7b7baf / INFO - Train Epoch: 1 [2600/18000 (14%)]\tLoss: 0.149110\n",
      "2022-01-07 17:54:24,825 fedbiomed INFO - log from: node_5d88d235-9341-4495-ad13-3d129aeaa30e / INFO - Train Epoch: 1 [2600/16954 (15%)]\tLoss: 0.087030\n",
      "2022-01-07 17:54:41,645 fedbiomed INFO - log from: node_267dfb38-d101-4107-a93e-8fa21ae92d11 / INFO - Train Epoch: 1 [2800/18000 (16%)]\tLoss: 0.044219\n",
      "2022-01-07 17:54:42,013 fedbiomed INFO - log from: node_706bed89-d9e8-48ea-a024-94507f7b7baf / INFO - Train Epoch: 1 [2800/18000 (16%)]\tLoss: 0.115631\n",
      "2022-01-07 17:54:42,498 fedbiomed INFO - log from: node_5d88d235-9341-4495-ad13-3d129aeaa30e / INFO - Train Epoch: 1 [2800/16954 (17%)]\tLoss: 0.194856\n",
      "2022-01-07 17:55:00,536 fedbiomed INFO - log from: node_267dfb38-d101-4107-a93e-8fa21ae92d11 / INFO - Train Epoch: 1 [3000/18000 (17%)]\tLoss: 0.222899\n",
      "2022-01-07 17:55:00,939 fedbiomed INFO - log from: node_706bed89-d9e8-48ea-a024-94507f7b7baf / INFO - Train Epoch: 1 [3000/18000 (17%)]\tLoss: 0.148651\n",
      "2022-01-07 17:55:01,702 fedbiomed INFO - log from: node_5d88d235-9341-4495-ad13-3d129aeaa30e / INFO - Train Epoch: 1 [3000/16954 (18%)]\tLoss: 0.129199\n",
      "2022-01-07 17:55:20,655 fedbiomed INFO - log from: node_267dfb38-d101-4107-a93e-8fa21ae92d11 / INFO - Train Epoch: 1 [3200/18000 (18%)]\tLoss: 0.092729\n",
      "2022-01-07 17:55:21,190 fedbiomed INFO - log from: node_706bed89-d9e8-48ea-a024-94507f7b7baf / INFO - Train Epoch: 1 [3200/18000 (18%)]\tLoss: 0.082522\n",
      "2022-01-07 17:55:21,810 fedbiomed INFO - log from: node_5d88d235-9341-4495-ad13-3d129aeaa30e / INFO - Train Epoch: 1 [3200/16954 (19%)]\tLoss: 0.195793\n",
      "2022-01-07 17:55:39,146 fedbiomed INFO - log from: node_267dfb38-d101-4107-a93e-8fa21ae92d11 / INFO - Train Epoch: 1 [3400/18000 (19%)]\tLoss: 0.096936\n",
      "2022-01-07 17:55:39,862 fedbiomed INFO - log from: node_706bed89-d9e8-48ea-a024-94507f7b7baf / INFO - Train Epoch: 1 [3400/18000 (19%)]\tLoss: 0.149095\n",
      "2022-01-07 17:55:40,419 fedbiomed INFO - log from: node_5d88d235-9341-4495-ad13-3d129aeaa30e / INFO - Train Epoch: 1 [3400/16954 (20%)]\tLoss: 0.223551\n",
      "2022-01-07 17:56:01,996 fedbiomed INFO - log from: node_267dfb38-d101-4107-a93e-8fa21ae92d11 / INFO - Train Epoch: 1 [3600/18000 (20%)]\tLoss: 0.119091\n",
      "2022-01-07 17:56:02,651 fedbiomed INFO - log from: node_706bed89-d9e8-48ea-a024-94507f7b7baf / INFO - Train Epoch: 1 [3600/18000 (20%)]\tLoss: 0.325303\n",
      "2022-01-07 17:56:03,446 fedbiomed INFO - log from: node_5d88d235-9341-4495-ad13-3d129aeaa30e / INFO - Train Epoch: 1 [3600/16954 (21%)]\tLoss: 0.181040\n",
      "2022-01-07 17:56:23,776 fedbiomed INFO - log from: node_267dfb38-d101-4107-a93e-8fa21ae92d11 / INFO - Train Epoch: 1 [3800/18000 (21%)]\tLoss: 0.116079\n",
      "2022-01-07 17:56:24,605 fedbiomed INFO - log from: node_706bed89-d9e8-48ea-a024-94507f7b7baf / INFO - Train Epoch: 1 [3800/18000 (21%)]\tLoss: 0.340369\n",
      "2022-01-07 17:56:25,259 fedbiomed INFO - log from: node_5d88d235-9341-4495-ad13-3d129aeaa30e / INFO - Train Epoch: 1 [3800/16954 (22%)]\tLoss: 0.122051\n",
      "2022-01-07 17:56:45,339 fedbiomed INFO - log from: node_267dfb38-d101-4107-a93e-8fa21ae92d11 / INFO - Train Epoch: 1 [4000/18000 (22%)]\tLoss: 0.173674\n",
      "2022-01-07 17:56:46,094 fedbiomed INFO - log from: node_706bed89-d9e8-48ea-a024-94507f7b7baf / INFO - Train Epoch: 1 [4000/18000 (22%)]\tLoss: 0.087962\n",
      "2022-01-07 17:56:46,761 fedbiomed INFO - log from: node_5d88d235-9341-4495-ad13-3d129aeaa30e / INFO - Train Epoch: 1 [4000/16954 (24%)]\tLoss: 0.138181\n",
      "2022-01-07 17:57:06,298 fedbiomed INFO - log from: node_267dfb38-d101-4107-a93e-8fa21ae92d11 / INFO - Train Epoch: 1 [4200/18000 (23%)]\tLoss: 0.223482\n",
      "2022-01-07 17:57:07,252 fedbiomed INFO - log from: node_706bed89-d9e8-48ea-a024-94507f7b7baf / INFO - Train Epoch: 1 [4200/18000 (23%)]\tLoss: 0.213635\n",
      "2022-01-07 17:57:07,914 fedbiomed INFO - log from: node_5d88d235-9341-4495-ad13-3d129aeaa30e / INFO - Train Epoch: 1 [4200/16954 (25%)]\tLoss: 0.158486\n",
      "2022-01-07 17:57:28,964 fedbiomed INFO - log from: node_267dfb38-d101-4107-a93e-8fa21ae92d11 / INFO - Train Epoch: 1 [4400/18000 (24%)]\tLoss: 0.128803\n",
      "2022-01-07 17:57:29,809 fedbiomed INFO - log from: node_706bed89-d9e8-48ea-a024-94507f7b7baf / INFO - Train Epoch: 1 [4400/18000 (24%)]\tLoss: 0.035770\n",
      "2022-01-07 17:57:30,304 fedbiomed INFO - log from: node_5d88d235-9341-4495-ad13-3d129aeaa30e / INFO - Train Epoch: 1 [4400/16954 (26%)]\tLoss: 0.113156\n",
      "2022-01-07 17:57:49,052 fedbiomed INFO - log from: node_267dfb38-d101-4107-a93e-8fa21ae92d11 / INFO - Train Epoch: 1 [4600/18000 (26%)]\tLoss: 0.054730\n",
      "2022-01-07 17:57:49,970 fedbiomed INFO - log from: node_706bed89-d9e8-48ea-a024-94507f7b7baf / INFO - Train Epoch: 1 [4600/18000 (26%)]\tLoss: 0.108712\n",
      "2022-01-07 17:57:50,606 fedbiomed INFO - log from: node_5d88d235-9341-4495-ad13-3d129aeaa30e / INFO - Train Epoch: 1 [4600/16954 (27%)]\tLoss: 0.069349\n",
      "2022-01-07 17:58:09,064 fedbiomed INFO - log from: node_267dfb38-d101-4107-a93e-8fa21ae92d11 / INFO - Train Epoch: 1 [4800/18000 (27%)]\tLoss: 0.169147\n",
      "2022-01-07 17:58:10,043 fedbiomed INFO - log from: node_706bed89-d9e8-48ea-a024-94507f7b7baf / INFO - Train Epoch: 1 [4800/18000 (27%)]\tLoss: 0.089119\n",
      "2022-01-07 17:58:10,663 fedbiomed INFO - log from: node_5d88d235-9341-4495-ad13-3d129aeaa30e / INFO - Train Epoch: 1 [4800/16954 (28%)]\tLoss: 0.144508\n",
      "2022-01-07 17:58:30,557 fedbiomed INFO - log from: node_267dfb38-d101-4107-a93e-8fa21ae92d11 / DEBUG - Reached 250 batches for this epoch, ignore remaining data\n",
      "2022-01-07 17:58:31,610 fedbiomed INFO - log from: node_706bed89-d9e8-48ea-a024-94507f7b7baf / DEBUG - Reached 250 batches for this epoch, ignore remaining data\n",
      "2022-01-07 17:58:32,450 fedbiomed INFO - log from: node_5d88d235-9341-4495-ad13-3d129aeaa30e / DEBUG - Reached 250 batches for this epoch, ignore remaining data\n",
      "2022-01-07 17:58:35,584 fedbiomed INFO - log from: node_267dfb38-d101-4107-a93e-8fa21ae92d11 / INFO - results uploaded successfully \n",
      "2022-01-07 17:58:36,640 fedbiomed INFO - log from: node_5d88d235-9341-4495-ad13-3d129aeaa30e / INFO - results uploaded successfully \n",
      "2022-01-07 17:58:36,813 fedbiomed INFO - log from: node_706bed89-d9e8-48ea-a024-94507f7b7baf / INFO - results uploaded successfully \n",
      "2022-01-07 17:58:45,476 fedbiomed INFO - Downloading model params after training on node_267dfb38-d101-4107-a93e-8fa21ae92d11 - from http://localhost:8844/media/uploads/2022/01/07/node_params_39d16b3a-ae47-4eb3-a397-e6495ea23430.pt\n",
      "2022-01-07 17:58:46,163 fedbiomed INFO - Downloading model params after training on node_5d88d235-9341-4495-ad13-3d129aeaa30e - from http://localhost:8844/media/uploads/2022/01/07/node_params_0dcfa33a-9510-4153-af89-e434ecde7f20.pt\n",
      "2022-01-07 17:58:46,909 fedbiomed INFO - Downloading model params after training on node_706bed89-d9e8-48ea-a024-94507f7b7baf - from http://localhost:8844/media/uploads/2022/01/07/node_params_a47fb838-f77e-4ce8-b741-f5466882f79d.pt\n",
      "2022-01-07 17:58:47,693 fedbiomed INFO - Nodes that successfully reply in round 2 ['node_267dfb38-d101-4107-a93e-8fa21ae92d11', 'node_5d88d235-9341-4495-ad13-3d129aeaa30e', 'node_706bed89-d9e8-48ea-a024-94507f7b7baf']\n",
      "2022-01-07 17:58:49,855 fedbiomed INFO - Saved aggregated params for round 2 in /Users/mlorenzi/works/temp/fedbiomed/var/experiments/Experiment_0002/aggregated_params_e0cb8d9b-f3a2-4a69-8352-f358944a40e0.pt\n"
     ]
    }
   ],
   "source": [
    "exp.run()"
   ]
  },
  {
   "cell_type": "markdown",
   "metadata": {
    "pycharm": {
     "name": "#%% md\n"
    }
   },
   "source": [
    "## Testing\n"
   ]
  },
  {
   "cell_type": "markdown",
   "metadata": {},
   "source": [
    "Once the federated model is obtained, it is possible to test it locally on an independent testing partition.\n",
    "The test dataset is available at this link:\n",
    "\n",
    "https://drive.google.com/file/d/1YbwA0WitMoucoIa_Qao7IC1haPfDp-XD/"
   ]
  },
  {
   "cell_type": "code",
   "execution_count": 8,
   "metadata": {},
   "outputs": [
    {
     "name": "stdout",
     "output_type": "stream",
     "text": [
      "Requirement already satisfied: gdown in /Users/mlorenzi/miniconda3/envs/fedbiomed-researcher/lib/python3.9/site-packages (4.2.0)\n",
      "Requirement already satisfied: beautifulsoup4 in /Users/mlorenzi/miniconda3/envs/fedbiomed-researcher/lib/python3.9/site-packages (from gdown) (4.10.0)\n",
      "Requirement already satisfied: tqdm in /Users/mlorenzi/miniconda3/envs/fedbiomed-researcher/lib/python3.9/site-packages (from gdown) (4.62.3)\n",
      "Requirement already satisfied: filelock in /Users/mlorenzi/miniconda3/envs/fedbiomed-researcher/lib/python3.9/site-packages (from gdown) (3.4.2)\n",
      "Requirement already satisfied: six in /Users/mlorenzi/miniconda3/envs/fedbiomed-researcher/lib/python3.9/site-packages (from gdown) (1.16.0)\n",
      "Requirement already satisfied: requests[socks] in /Users/mlorenzi/miniconda3/envs/fedbiomed-researcher/lib/python3.9/site-packages (from gdown) (2.26.0)\n",
      "Requirement already satisfied: soupsieve>1.2 in /Users/mlorenzi/miniconda3/envs/fedbiomed-researcher/lib/python3.9/site-packages (from beautifulsoup4->gdown) (2.3.1)\n",
      "Requirement already satisfied: certifi>=2017.4.17 in /Users/mlorenzi/miniconda3/envs/fedbiomed-researcher/lib/python3.9/site-packages (from requests[socks]->gdown) (2021.10.8)\n",
      "Requirement already satisfied: urllib3<1.27,>=1.21.1 in /Users/mlorenzi/miniconda3/envs/fedbiomed-researcher/lib/python3.9/site-packages (from requests[socks]->gdown) (1.26.7)\n",
      "Requirement already satisfied: idna<4,>=2.5 in /Users/mlorenzi/miniconda3/envs/fedbiomed-researcher/lib/python3.9/site-packages (from requests[socks]->gdown) (3.1)\n",
      "Requirement already satisfied: charset-normalizer~=2.0.0 in /Users/mlorenzi/miniconda3/envs/fedbiomed-researcher/lib/python3.9/site-packages (from requests[socks]->gdown) (2.0.9)\n",
      "Requirement already satisfied: PySocks!=1.5.7,>=1.5.6 in /Users/mlorenzi/miniconda3/envs/fedbiomed-researcher/lib/python3.9/site-packages (from requests[socks]->gdown) (1.7.1)\n"
     ]
    }
   ],
   "source": [
    "!pip install gdown"
   ]
  },
  {
   "cell_type": "code",
   "execution_count": 9,
   "metadata": {
    "pycharm": {
     "name": "#%% md\n"
    }
   },
   "outputs": [
    {
     "name": "stdout",
     "output_type": "stream",
     "text": [
      "MONAI version: 0.8.0\n",
      "Numpy version: 1.22.0\n",
      "Pytorch version: 1.8.1\n",
      "MONAI flags: HAS_EXT = False, USE_COMPILED = False\n",
      "MONAI rev id: 714d00dffe6653e21260160666c4c201ab66511b\n",
      "\n",
      "Optional dependencies:\n",
      "Pytorch Ignite version: NOT INSTALLED or UNKNOWN VERSION.\n",
      "Nibabel version: NOT INSTALLED or UNKNOWN VERSION.\n",
      "scikit-image version: NOT INSTALLED or UNKNOWN VERSION.\n",
      "Pillow version: 9.0.0\n",
      "Tensorboard version: 2.7.0\n",
      "gdown version: 4.2.0\n",
      "TorchVision version: 0.9.1\n",
      "tqdm version: 4.62.3\n",
      "lmdb version: NOT INSTALLED or UNKNOWN VERSION.\n",
      "psutil version: NOT INSTALLED or UNKNOWN VERSION.\n",
      "pandas version: 1.3.5\n",
      "einops version: NOT INSTALLED or UNKNOWN VERSION.\n",
      "transformers version: NOT INSTALLED or UNKNOWN VERSION.\n",
      "mlflow version: NOT INSTALLED or UNKNOWN VERSION.\n",
      "\n",
      "For details about installing the optional dependencies, please visit:\n",
      "    https://docs.monai.io/en/latest/installation.html#installing-the-recommended-dependencies\n",
      "\n"
     ]
    }
   ],
   "source": [
    "import os\n",
    "import shutil\n",
    "import tempfile\n",
    "import PIL\n",
    "import torch\n",
    "import numpy as np\n",
    "from sklearn.metrics import classification_report\n",
    "\n",
    "from monai.config import print_config\n",
    "from monai.data import decollate_batch\n",
    "from monai.metrics import ROCAUCMetric\n",
    "from monai.networks.nets import DenseNet121\n",
    "import zipfile\n",
    "from monai.transforms import (\n",
    "    Activations,\n",
    "    AddChannel,\n",
    "    AsDiscrete,\n",
    "    Compose,\n",
    "    LoadImage,\n",
    "    RandFlip,\n",
    "    RandRotate,\n",
    "    RandZoom,\n",
    "    ScaleIntensity,\n",
    "    EnsureType,\n",
    ")\n",
    "from monai.utils import set_determinism\n",
    "\n",
    "print_config()"
   ]
  },
  {
   "cell_type": "markdown",
   "metadata": {},
   "source": [
    "Download the testing dataset on the local temporary folder."
   ]
  },
  {
   "cell_type": "code",
   "execution_count": 10,
   "metadata": {},
   "outputs": [
    {
     "name": "stderr",
     "output_type": "stream",
     "text": [
      "Downloading...\n",
      "From: https://drive.google.com/uc?id=1YbwA0WitMoucoIa_Qao7IC1haPfDp-XD\n",
      "To: /Users/mlorenzi/works/temp/fedbiomed/var/tmp/tmpf5gbxg1r/MedNIST_testing.zip\n",
      "100%|██████████████████████████████████████████████████████████████████████████████████████████████████████████████████████████████████████████████████████████████████| 9.50M/9.50M [00:00<00:00, 35.1MB/s]\n"
     ]
    }
   ],
   "source": [
    "import gdown\n",
    "import zipfile\n",
    "\n",
    "resource = \"https://drive.google.com/uc?id=1YbwA0WitMoucoIa_Qao7IC1haPfDp-XD\"\n",
    "base_dir = tmp_dir_model.name \n",
    "test_file = os.path.join(base_dir, \"MedNIST_testing.zip\")\n",
    "\n",
    "gdown.download(resource, test_file, quiet=False)\n",
    "\n",
    "zf = zipfile.ZipFile(test_file)\n",
    "\n",
    "for file in zf.infolist():\n",
    "    zf.extract(file, base_dir)\n",
    "    \n",
    "data_dir = os.path.join(base_dir, \"MedNIST_testing\")"
   ]
  },
  {
   "cell_type": "markdown",
   "metadata": {},
   "source": [
    "Parse the data and create the testing data loader:"
   ]
  },
  {
   "cell_type": "code",
   "execution_count": 11,
   "metadata": {},
   "outputs": [
    {
     "name": "stdout",
     "output_type": "stream",
     "text": [
      "Total image count: 6000\n",
      "Image dimensions: 64 x 64\n",
      "Label names: ['AbdomenCT', 'BreastMRI', 'CXR', 'ChestCT', 'Hand', 'HeadCT']\n",
      "Label counts: [1000, 1000, 1000, 1000, 1000, 1000]\n"
     ]
    }
   ],
   "source": [
    "class_names = sorted(x for x in os.listdir(data_dir)\n",
    "                     if os.path.isdir(os.path.join(data_dir, x)))\n",
    "num_class = len(class_names)\n",
    "image_files = [\n",
    "    [\n",
    "        os.path.join(data_dir, class_names[i], x)\n",
    "        for x in os.listdir(os.path.join(data_dir, class_names[i]))\n",
    "    ]\n",
    "    for i in range(num_class)\n",
    "]\n",
    "\n",
    "num_each = [len(image_files[i]) for i in range(num_class)]\n",
    "image_files_list = []\n",
    "\n",
    "image_class = []\n",
    "for i in range(num_class):\n",
    "    image_files_list.extend(image_files[i])\n",
    "    image_class.extend([i] * num_each[i])\n",
    "num_total = len(image_class)\n",
    "image_width, image_height = PIL.Image.open(image_files_list[0]).size\n",
    "\n",
    "print(f\"Total image count: {num_total}\")\n",
    "print(f\"Image dimensions: {image_width} x {image_height}\")\n",
    "print(f\"Label names: {class_names}\")\n",
    "print(f\"Label counts: {num_each}\")"
   ]
  },
  {
   "cell_type": "code",
   "execution_count": 12,
   "metadata": {},
   "outputs": [],
   "source": [
    "length = len(image_files_list)\n",
    "indices = np.arange(length)\n",
    "np.random.shuffle(indices)\n",
    "\n",
    "\n",
    "test_split = int(0.1 * length)\n",
    "test_indices = indices[:test_split]\n",
    "\n",
    "test_x = [image_files_list[i] for i in test_indices]\n",
    "test_y = [image_class[i] for i in test_indices]\n",
    "\n",
    "val_transforms = Compose(\n",
    "    [LoadImage(image_only=True), AddChannel(), ScaleIntensity(), EnsureType()])\n",
    "\n",
    "y_pred_trans = Compose([EnsureType(), Activations(softmax=True)])\n",
    "y_trans = Compose([EnsureType(), AsDiscrete(to_onehot=num_class)])"
   ]
  },
  {
   "cell_type": "code",
   "execution_count": 13,
   "metadata": {},
   "outputs": [],
   "source": [
    "class MedNISTDataset(torch.utils.data.Dataset):\n",
    "    def __init__(self, image_files, labels, transforms):\n",
    "        self.image_files = image_files\n",
    "        self.labels = labels\n",
    "        self.transforms = transforms\n",
    "\n",
    "    def __len__(self):\n",
    "        return len(self.image_files)\n",
    "\n",
    "    def __getitem__(self, index):\n",
    "        return self.transforms(self.image_files[index]), self.labels[index]\n",
    "\n",
    "\n",
    "test_ds = MedNISTDataset(test_x, test_y, val_transforms)\n",
    "test_loader = torch.utils.data.DataLoader(\n",
    "    test_ds, batch_size=300)"
   ]
  },
  {
   "cell_type": "markdown",
   "metadata": {},
   "source": [
    "Define testing metric:"
   ]
  },
  {
   "cell_type": "code",
   "execution_count": 14,
   "metadata": {},
   "outputs": [],
   "source": [
    "auc_metric = ROCAUCMetric()"
   ]
  },
  {
   "cell_type": "markdown",
   "metadata": {},
   "source": [
    "To test the federated model we need to create a model instance and assign to it the model parameters estimated at the last federated optimization round."
   ]
  },
  {
   "cell_type": "code",
   "execution_count": 15,
   "metadata": {},
   "outputs": [
    {
     "data": {
      "text/plain": [
       "<All keys matched successfully>"
      ]
     },
     "execution_count": 15,
     "metadata": {},
     "output_type": "execute_result"
    }
   ],
   "source": [
    "model = exp.model_instance\n",
    "model.load_state_dict(exp.aggregated_params[rounds - 1]['params'])"
   ]
  },
  {
   "cell_type": "markdown",
   "metadata": {},
   "source": [
    "Compute the testing performance:"
   ]
  },
  {
   "cell_type": "code",
   "execution_count": 16,
   "metadata": {},
   "outputs": [],
   "source": [
    "y_true = []\n",
    "y_pred = []\n",
    "with torch.no_grad():\n",
    "    for test_data in test_loader:\n",
    "        test_images, test_labels = (\n",
    "            test_data[0],\n",
    "            test_data[1],\n",
    "        )\n",
    "        pred = model(test_images).argmax(dim=1)\n",
    "        for i in range(len(pred)):\n",
    "            y_true.append(test_labels[i].item())\n",
    "            y_pred.append(pred[i].item())\n"
   ]
  },
  {
   "cell_type": "code",
   "execution_count": 17,
   "metadata": {},
   "outputs": [
    {
     "name": "stdout",
     "output_type": "stream",
     "text": [
      "              precision    recall  f1-score   support\n",
      "\n",
      "   AbdomenCT     1.0000    0.9901    0.9950       101\n",
      "   BreastMRI     1.0000    1.0000    1.0000        95\n",
      "         CXR     1.0000    1.0000    1.0000       105\n",
      "     ChestCT     0.9890    1.0000    0.9945        90\n",
      "        Hand     1.0000    1.0000    1.0000        99\n",
      "      HeadCT     1.0000    1.0000    1.0000       110\n",
      "\n",
      "    accuracy                         0.9983       600\n",
      "   macro avg     0.9982    0.9983    0.9983       600\n",
      "weighted avg     0.9984    0.9983    0.9983       600\n",
      "\n"
     ]
    }
   ],
   "source": [
    "print(classification_report(\n",
    "    y_true, y_pred, target_names=class_names, digits=4))"
   ]
  },
  {
   "cell_type": "markdown",
   "metadata": {},
   "source": [
    "In spite of the relatively small training performed on the data shared in the 3 nodes, the performance of the federated model seems pretty good. Well done! "
   ]
  }
 ],
 "metadata": {
  "kernelspec": {
   "display_name": "Python 3 (ipykernel)",
   "language": "python",
   "name": "python3"
  },
  "language_info": {
   "codemirror_mode": {
    "name": "ipython",
    "version": 3
   },
   "file_extension": ".py",
   "mimetype": "text/x-python",
   "name": "python",
   "nbconvert_exporter": "python",
   "pygments_lexer": "ipython3",
   "version": "3.9.9"
  }
 },
 "nbformat": 4,
 "nbformat_minor": 4
}

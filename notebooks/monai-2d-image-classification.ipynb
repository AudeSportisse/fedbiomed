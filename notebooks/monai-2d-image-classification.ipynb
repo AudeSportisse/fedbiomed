{
 "cells": [
  {
   "cell_type": "markdown",
   "metadata": {},
   "source": [
    "# Federated 2d image classification with MONAI"
   ]
  },
  {
   "cell_type": "markdown",
   "metadata": {},
   "source": [
    "## Introduction\n",
    "\n",
    "This tutorial shows how to deploy in Fed-BioMed the 2d image classification example provided in the project MONAI (https://monai.io/):\n",
    "\n",
    "https://github.com/Project-MONAI/tutorials/blob/master/2d_classification/mednist_tutorial.ipynb\n",
    "\n",
    "Being MONAI based on PyTorch, the deployment within Fed-BioMed follows seamlessy the same general structure of general PyTorch models. \n",
    "\n",
    "Following the MONAI example, this tutorial is based on the MedNIST dataset:\n",
    "\n",
    "https://github.com/Project-MONAI/MONAI/blob/master/examples/notebooks/mednist_tutorial.ipynb.\n",
    "\n",
    "## Creating MedNIST nodes\n",
    "\n",
    "MedNIST provides an artificial 2d classification dataset created by gathering different medical imaging datasets from TCIA, the RSNA Bone Age Challenge, and the NIH Chest X-ray dataset. The dataset is kindly made available by Dr. Bradley J. Erickson M.D., Ph.D. (Department of Radiology, Mayo Clinic) under the Creative Commons CC BY-SA 4.0 license.\n",
    "\n",
    "To proceed with the tutorial, we created an iid partitioning of the MedNIST dataset between 3 clients. Each client has 3000 image samples for each class. The training partitions are availables at the following link:\n",
    "\n",
    "https://drive.google.com/file/d/1vLIcBdtdAhh6K-vrgCFy_0Y55dxOWZwf/view\n",
    "\n",
    "The dataset owned by each client has structure:\n",
    "\n",
    "\n",
    "└── client_*/\n",
    "\n",
    "    ├── AbdomenCT/\n",
    "    \n",
    "    └── BreastMRI/\n",
    "    \n",
    "    └── CXR/\n",
    "    \n",
    "    └── ChestCT/\n",
    "    \n",
    "    └── Hand/\n",
    "    \n",
    "    └── HeadCT/   \n",
    "\n",
    "To create the federated dataset, we follow the standard procedure for node creation/population of Fed-BioMed. \n",
    "After activating the fedbiomed network with the commands\n",
    "\n",
    "`source ./scripts/fedbiomed_environment network`\n",
    "\n",
    "and \n",
    "\n",
    "`./scripts/fedbiomed_run network`\n",
    "\n",
    "we create a first node by using the commands\n",
    "\n",
    "`source ./scripts/fedbiomed_environment node`\n",
    "\n",
    "`./scripts/fedbiomed_run node start`\n",
    "\n",
    "We then poulate the node with the data of first client:\n",
    "\n",
    "`./scripts/fedbiomed_run node add`\n",
    "\n",
    "We select option 3 (images) to add MedNIST partition of client 1, by just picking the folder of client 1. \n",
    "Assign tag `mednist` to the data when asked.\n",
    "\n",
    "We can further check that the data has been added by executing `./scripts/fedbiomed_run node list`\n",
    "\n",
    "Following the same procedure, we create the other two nodes with the datasets of client 2 and client 3 respectively.\n"
   ]
  },
  {
   "cell_type": "markdown",
   "metadata": {},
   "source": [
    "## Running Fed-BioMed Researcher"
   ]
  },
  {
   "cell_type": "markdown",
   "metadata": {},
   "source": [
    "We are now ready to start the reseracher enviroment with the command `source ./scripts/fedbiomed_environment researcher`, and open the Jupyter notebook. "
   ]
  },
  {
   "cell_type": "code",
   "execution_count": 1,
   "metadata": {},
   "outputs": [],
   "source": [
    "%load_ext autoreload\n",
    "%autoreload 2"
   ]
  },
  {
   "cell_type": "markdown",
   "metadata": {},
   "source": [
    "We can first quesry the network for the mednist dataset. In this case, the nodes are sharing the respective partitions unsing the same tag `mednist`:"
   ]
  },
  {
   "cell_type": "code",
   "execution_count": 1,
   "metadata": {},
   "outputs": [
    {
     "name": "stderr",
     "output_type": "stream",
     "text": [
      "2022-01-06 19:29:58,786 fedbiomed INFO - Component environment:\n",
      "2022-01-06 19:29:58,787 fedbiomed INFO - - type = ComponentType.RESEARCHER\n",
      "2022-01-06 19:29:59,143 fedbiomed INFO - Messaging researcher_ccf4bfd5-a09e-4e86-b698-d656c390b98f successfully connected to the message broker, object = <fedbiomed.common.messaging.Messaging object at 0x7fbd8854dd90>\n",
      "2022-01-06 19:29:59,170 fedbiomed INFO - Listing available datasets in all nodes... \n",
      "2022-01-06 19:29:59,172 fedbiomed INFO - log from: node_b4eb76b3-54fe-42e4-8f01-501a4f1a179a / DEBUG - Message received: {'researcher_id': 'researcher_ccf4bfd5-a09e-4e86-b698-d656c390b98f', 'command': 'list'}\n",
      "2022-01-06 19:29:59,183 fedbiomed INFO - log from: node_30bcc00b-f402-4658-982c-6642390eb80a / DEBUG - Message received: {'researcher_id': 'researcher_ccf4bfd5-a09e-4e86-b698-d656c390b98f', 'command': 'list'}\n",
      "2022-01-06 19:29:59,185 fedbiomed INFO - log from: node_0341dbee-4250-4f28-8f05-fc0a98bde6b7 / DEBUG - Message received: {'researcher_id': 'researcher_ccf4bfd5-a09e-4e86-b698-d656c390b98f', 'command': 'list'}\n",
      "2022-01-06 19:30:09,192 fedbiomed INFO - \n",
      " Node: node_b4eb76b3-54fe-42e4-8f01-501a4f1a179a | Number of Datasets: 1 \n",
      "+---------+-------------+-------------+---------------+--------------------+\n",
      "| name    | data_type   | tags        | description   | shape              |\n",
      "+=========+=============+=============+===============+====================+\n",
      "| mednist | images      | ['mednist'] |               | [18000, 3, 64, 64] |\n",
      "+---------+-------------+-------------+---------------+--------------------+\n",
      "\n",
      "2022-01-06 19:30:09,195 fedbiomed INFO - \n",
      " Node: node_30bcc00b-f402-4658-982c-6642390eb80a | Number of Datasets: 1 \n",
      "+---------+-------------+-------------+---------------+--------------------+\n",
      "| name    | data_type   | tags        | description   | shape              |\n",
      "+=========+=============+=============+===============+====================+\n",
      "| mednist | images      | ['mednist'] |               | [16954, 3, 64, 64] |\n",
      "+---------+-------------+-------------+---------------+--------------------+\n",
      "\n",
      "2022-01-06 19:30:09,197 fedbiomed INFO - \n",
      " Node: node_0341dbee-4250-4f28-8f05-fc0a98bde6b7 | Number of Datasets: 1 \n",
      "+---------+-------------+-------------+---------------+--------------------+\n",
      "| name    | data_type   | tags        | description   | shape              |\n",
      "+=========+=============+=============+===============+====================+\n",
      "| mednist | images      | ['mednist'] |               | [18000, 3, 64, 64] |\n",
      "+---------+-------------+-------------+---------------+--------------------+\n",
      "\n"
     ]
    },
    {
     "data": {
      "text/plain": [
       "{'node_b4eb76b3-54fe-42e4-8f01-501a4f1a179a': [{'name': 'mednist',\n",
       "   'data_type': 'images',\n",
       "   'tags': ['mednist'],\n",
       "   'description': '',\n",
       "   'shape': [18000, 3, 64, 64]}],\n",
       " 'node_30bcc00b-f402-4658-982c-6642390eb80a': [{'name': 'mednist',\n",
       "   'data_type': 'images',\n",
       "   'tags': ['mednist'],\n",
       "   'description': '',\n",
       "   'shape': [16954, 3, 64, 64]}],\n",
       " 'node_0341dbee-4250-4f28-8f05-fc0a98bde6b7': [{'name': 'mednist',\n",
       "   'data_type': 'images',\n",
       "   'tags': ['mednist'],\n",
       "   'description': '',\n",
       "   'shape': [18000, 3, 64, 64]}]}"
      ]
     },
     "execution_count": 1,
     "metadata": {},
     "output_type": "execute_result"
    }
   ],
   "source": [
    "from fedbiomed.researcher.requests import Requests\n",
    "req = Requests()\n",
    "req.list(verbose=True)\n"
   ]
  },
  {
   "cell_type": "markdown",
   "metadata": {},
   "source": [
    "## Create an experiment to train a model on the data found"
   ]
  },
  {
   "cell_type": "markdown",
   "metadata": {},
   "source": [
    "The code for network and data loader of the MONAI tutorial can now be deployed in Fed-BioMed.\n",
    "We first import the necessary modules from `fedbiomed` and `monai` libraries:"
   ]
  },
  {
   "cell_type": "code",
   "execution_count": 2,
   "metadata": {},
   "outputs": [],
   "source": [
    "from fedbiomed.researcher.environ import environ\n",
    "import tempfile\n",
    "import os\n",
    "\n",
    "tmp_dir_model = tempfile.TemporaryDirectory(dir=environ['TMP_DIR']+os.sep)\n",
    "model_file = os.path.join(tmp_dir_model.name, 'class_export_mednist.py')"
   ]
  },
  {
   "cell_type": "code",
   "execution_count": 3,
   "metadata": {},
   "outputs": [],
   "source": [
    "from monai.apps import download_and_extract\n",
    "from monai.config import print_config\n",
    "from monai.data import decollate_batch\n",
    "from monai.metrics import ROCAUCMetric\n",
    "from monai.networks.nets import DenseNet121\n",
    "from monai.transforms import (\n",
    "    Activations,\n",
    "    AddChannel,\n",
    "    AsDiscrete,\n",
    "    Compose,\n",
    "    LoadImage,\n",
    "    RandFlip,\n",
    "    RandRotate,\n",
    "    RandZoom,\n",
    "    ScaleIntensity,\n",
    "    EnsureType,\n",
    ")\n",
    "from monai.utils import set_determinism"
   ]
  },
  {
   "cell_type": "markdown",
   "metadata": {},
   "source": [
    "We can now define the training plan. Note that we can simply use the standard `TorchTrainingPlan` natively provided in Fed-BioMed. We reuse the `MedNISTDataset` data loader defined in the original MONAI tutorial, which is returned by the method `training_data`, which also implements the data parsing from the nodes `dataset_path`. Following the MONAI tutorial, the model is the `DenseNet121`."
   ]
  },
  {
   "cell_type": "code",
   "execution_count": 4,
   "metadata": {},
   "outputs": [
    {
     "name": "stdout",
     "output_type": "stream",
     "text": [
      "Writing /home/ybouilla/fedbiomed/var/tmp/tmpo8drwl14/class_export_mednist.py\n"
     ]
    }
   ],
   "source": [
    "%%writefile \"$model_file\"\n",
    "\n",
    "import os\n",
    "import numpy as np\n",
    "import torch\n",
    "import torch.nn as nn\n",
    "from fedbiomed.common.torchnn import TorchTrainingPlan\n",
    "from torch.utils.data import DataLoader\n",
    "from torchvision import datasets, transforms\n",
    "\n",
    "from monai.apps import download_and_extract\n",
    "from monai.config import print_config\n",
    "from monai.data import decollate_batch\n",
    "from monai.metrics import ROCAUCMetric\n",
    "from monai.networks.nets import DenseNet121\n",
    "from monai.transforms import (\n",
    "    Activations,\n",
    "    AddChannel,\n",
    "    AsDiscrete,\n",
    "    Compose,\n",
    "    LoadImage,\n",
    "    RandFlip,\n",
    "    RandRotate,\n",
    "    RandZoom,\n",
    "    ScaleIntensity,\n",
    "    EnsureType,\n",
    ")\n",
    "from monai.utils import set_determinism\n",
    "\n",
    "\n",
    "# Here we define the model to be used. \n",
    "# You can use any class name (here 'Net')\n",
    "class MyTrainingPlan(TorchTrainingPlan):\n",
    "    def __init__(self, kwargs):\n",
    "        super(MyTrainingPlan, self).__init__()\n",
    "        \n",
    "        # Here we define the custom dependencies that will be needed by our custom Dataloader\n",
    "        # In this case, we need the torch DataLoader classes\n",
    "        # Since we will train on MNIST, we need datasets and transform from torchvision\n",
    "        deps = [\"import numpy as np\",\n",
    "                \"import os\",\n",
    "                \"from torch.utils.data import DataLoader\",\n",
    "                \"from monai.apps import download_and_extract\",\n",
    "                \"from monai.config import print_config\",\n",
    "                \"from monai.data import decollate_batch\",\n",
    "                \"from monai.metrics import ROCAUCMetric\",\n",
    "                \"from monai.networks.nets import DenseNet121\",\n",
    "                \"from monai.transforms import ( Activations, AddChannel, AsDiscrete, Compose, LoadImage, RandFlip, RandRotate, RandZoom, ScaleIntensity, EnsureType, )\",\n",
    "                \"from monai.utils import set_determinism\",]\n",
    "        self.add_dependency(deps)\n",
    "         \n",
    "        self.num_class =  kwargs['num_class']  \n",
    "        self.model = DenseNet121(spatial_dims=2, in_channels=1,\n",
    "                    out_channels = self.num_class)\n",
    "        \n",
    "        self.loss_function = torch.nn.CrossEntropyLoss()\n",
    "\n",
    "    def forward(self, x):\n",
    "        return self.model(x)\n",
    "\n",
    "    class MedNISTDataset(torch.utils.data.Dataset):\n",
    "            def __init__(self, image_files, labels, transforms):\n",
    "                self.image_files = image_files\n",
    "                self.labels = labels\n",
    "                self.transforms = transforms\n",
    "\n",
    "            def __len__(self):\n",
    "                return len(self.image_files)\n",
    "\n",
    "            def __getitem__(self, index):\n",
    "                return self.transforms(self.image_files[index]), self.labels[index]\n",
    "    \n",
    "    def parse_data(self, path):\n",
    "        print(self.dataset_path)\n",
    "        class_names = sorted(x for x in os.listdir(path)\n",
    "                     if os.path.isdir(os.path.join(path, x)))\n",
    "        num_class = len(class_names)\n",
    "        image_files = [\n",
    "                        [\n",
    "                            os.path.join(path, class_names[i], x)\n",
    "                            for x in os.listdir(os.path.join(path, class_names[i]))\n",
    "                        ]\n",
    "                        for i in range(num_class)\n",
    "                      ]\n",
    "        \n",
    "        return image_files, num_class\n",
    "    \n",
    "    def training_data(self, batch_size = 48):\n",
    "        self.image_files, num_class = self.parse_data(self.dataset_path)\n",
    "        \n",
    "        if self.num_class!=num_class:\n",
    "                raise Exception('number of available classes does not match declared classes')\n",
    "        \n",
    "        num_each = [len(self.image_files[i]) for i in range(self.num_class)]\n",
    "        image_files_list = []\n",
    "        image_class = []\n",
    "        \n",
    "        for i in range(self.num_class):\n",
    "            image_files_list.extend(self.image_files[i])\n",
    "            image_class.extend([i] * num_each[i])\n",
    "        num_total = len(image_class)\n",
    "        \n",
    "        \n",
    "        length = len(image_files_list)\n",
    "        indices = np.arange(length)\n",
    "        np.random.shuffle(indices)\n",
    "\n",
    "        val_split = int(1. * length) \n",
    "        train_indices = indices[:val_split]\n",
    "\n",
    "        train_x = [image_files_list[i] for i in train_indices]\n",
    "        train_y = [image_class[i] for i in train_indices]\n",
    "\n",
    "\n",
    "        train_transforms = Compose(\n",
    "            [\n",
    "                LoadImage(image_only=True),\n",
    "                AddChannel(),\n",
    "                ScaleIntensity(),\n",
    "                RandRotate(range_x=np.pi / 12, prob=0.5, keep_size=True),\n",
    "                RandFlip(spatial_axis=0, prob=0.5),\n",
    "                RandZoom(min_zoom=0.9, max_zoom=1.1, prob=0.5),\n",
    "                EnsureType(),\n",
    "            ]\n",
    "        )\n",
    "\n",
    "        val_transforms = Compose(\n",
    "            [LoadImage(image_only=True), AddChannel(), ScaleIntensity(), EnsureType()])\n",
    "\n",
    "        y_pred_trans = Compose([EnsureType(), Activations(softmax=True)])\n",
    "        y_trans = Compose([EnsureType(), AsDiscrete(to_onehot=num_class)])\n",
    "\n",
    "        print(\n",
    "            f\"Training count: {len(train_x)}\")\n",
    "        \n",
    "        \n",
    "        train_ds = self.MedNISTDataset(train_x, train_y, train_transforms)\n",
    "        train_loader = torch.utils.data.DataLoader(\n",
    "            train_ds, batch_size, shuffle=True)\n",
    "        \n",
    "        return train_loader\n",
    "    \n",
    "    def training_step(self, data, target):\n",
    "        output = self.forward(data)\n",
    "        loss   = self.loss_function(output, target)\n",
    "        return loss\n"
   ]
  },
  {
   "cell_type": "markdown",
   "metadata": {},
   "source": [
    "We now set the model and training parameters. Note that we use only 1 epoch for this experiment, and perform the training on ~26% of the locally available training data."
   ]
  },
  {
   "cell_type": "code",
   "execution_count": 5,
   "metadata": {
    "pycharm": {
     "name": "#%%\n"
    }
   },
   "outputs": [],
   "source": [
    "model_args = {'num_class':6,}\n",
    "\n",
    "training_args = {\n",
    "    'batch_size': 20, \n",
    "    'lr': 1e-5, \n",
    "    'epochs': 1, \n",
    "    'dry_run': False,  \n",
    "    'batch_maxnum':250 # Fast pass for development : only use ( batch_maxnum * batch_size ) samples\n",
    "}"
   ]
  },
  {
   "cell_type": "markdown",
   "metadata": {},
   "source": [
    "The experiment can be now defined, by providing the `mednist` tag, and running the local training on nodes with model defined in `model_path`, standard `aggregator` (FedAvg) and `client_selection_strategy` (all nodes used). Federated learning is going to be perfomed through 3 optimization rounds."
   ]
  },
  {
   "cell_type": "code",
   "execution_count": 6,
   "metadata": {
    "pycharm": {
     "name": "#%%\n"
    },
    "scrolled": true
   },
   "outputs": [
    {
     "name": "stderr",
     "output_type": "stream",
     "text": [
      "2022-01-06 19:30:34,669 fedbiomed INFO - Searching dataset with data tags: ['mednist'] for all nodes\n",
      "2022-01-06 19:30:34,671 fedbiomed INFO - log from: node_b4eb76b3-54fe-42e4-8f01-501a4f1a179a / DEBUG - Message received: {'researcher_id': 'researcher_ccf4bfd5-a09e-4e86-b698-d656c390b98f', 'tags': ['mednist'], 'command': 'search'}\n",
      "2022-01-06 19:30:34,671 fedbiomed INFO - log from: node_0341dbee-4250-4f28-8f05-fc0a98bde6b7 / DEBUG - Message received: {'researcher_id': 'researcher_ccf4bfd5-a09e-4e86-b698-d656c390b98f', 'tags': ['mednist'], 'command': 'search'}\n",
      "2022-01-06 19:30:34,672 fedbiomed INFO - log from: node_30bcc00b-f402-4658-982c-6642390eb80a / DEBUG - Message received: {'researcher_id': 'researcher_ccf4bfd5-a09e-4e86-b698-d656c390b98f', 'tags': ['mednist'], 'command': 'search'}\n",
      "2022-01-06 19:30:44,682 fedbiomed INFO - Node selected for training -> node_b4eb76b3-54fe-42e4-8f01-501a4f1a179a\n",
      "2022-01-06 19:30:44,685 fedbiomed INFO - Node selected for training -> node_0341dbee-4250-4f28-8f05-fc0a98bde6b7\n",
      "2022-01-06 19:30:44,687 fedbiomed INFO - Node selected for training -> node_30bcc00b-f402-4658-982c-6642390eb80a\n",
      "2022-01-06 19:30:44,690 fedbiomed INFO - Checking data quality of federated datasets...\n",
      "2022-01-06 19:30:45,004 fedbiomed DEBUG - torchnn saved model filename: /home/ybouilla/fedbiomed/var/experiments/Experiment_0000/my_model_3741fb7c-a0e8-48fe-82de-48ef82904df1.py\n"
     ]
    }
   ],
   "source": [
    "from fedbiomed.researcher.experiment import Experiment\n",
    "from fedbiomed.researcher.aggregators.fedavg import FedAverage\n",
    "\n",
    "tags =  ['mednist']\n",
    "rounds = 3\n",
    "\n",
    "exp = Experiment(tags=tags,\n",
    "                 model_path=model_file,\n",
    "                 model_args=model_args,\n",
    "                 model_class='MyTrainingPlan',\n",
    "                 training_args=training_args,\n",
    "                 rounds=rounds,\n",
    "                 aggregator=FedAverage(),\n",
    "                 node_selection_strategy=None\n",
    "                )"
   ]
  },
  {
   "cell_type": "markdown",
   "metadata": {
    "pycharm": {
     "name": "#%% md\n"
    }
   },
   "source": [
    "Let's start the experiment.\n",
    "\n",
    "By default, this function doesn't stop until all the `rounds` are done for all the clients"
   ]
  },
  {
   "cell_type": "code",
   "execution_count": 7,
   "metadata": {
    "pycharm": {
     "name": "#%%\n"
    },
    "scrolled": true
   },
   "outputs": [
    {
     "name": "stderr",
     "output_type": "stream",
     "text": [
      "2022-01-06 19:37:42,385 fedbiomed INFO - Sampled nodes in round 0 ['node_b4eb76b3-54fe-42e4-8f01-501a4f1a179a', 'node_0341dbee-4250-4f28-8f05-fc0a98bde6b7', 'node_30bcc00b-f402-4658-982c-6642390eb80a']\n",
      "2022-01-06 19:37:42,390 fedbiomed INFO - Send message to node node_b4eb76b3-54fe-42e4-8f01-501a4f1a179a - {'researcher_id': 'researcher_ccf4bfd5-a09e-4e86-b698-d656c390b98f', 'job_id': '2f5ac007-c792-442b-a7a7-4cc24ea9a186', 'training_args': {'batch_size': 20, 'lr': 1e-05, 'epochs': 1, 'dry_run': False, 'batch_maxnum': 250}, 'model_args': {'num_class': 6}, 'command': 'train', 'model_url': 'http://localhost:8844/media/uploads/2022/01/06/my_model_3741fb7c-a0e8-48fe-82de-48ef82904df1.py', 'params_url': 'http://localhost:8844/media/uploads/2022/01/06/aggregated_params_init_365d8c09-1c12-485c-b7eb-4367e7305781.pt', 'model_class': 'MyTrainingPlan', 'training_data': {'node_b4eb76b3-54fe-42e4-8f01-501a4f1a179a': ['dataset_9088096e-ff15-4339-ada6-65974ba24a1c']}}\n",
      "2022-01-06 19:37:42,393 fedbiomed DEBUG - researcher_ccf4bfd5-a09e-4e86-b698-d656c390b98f\n",
      "2022-01-06 19:37:42,394 fedbiomed INFO - Send message to node node_0341dbee-4250-4f28-8f05-fc0a98bde6b7 - {'researcher_id': 'researcher_ccf4bfd5-a09e-4e86-b698-d656c390b98f', 'job_id': '2f5ac007-c792-442b-a7a7-4cc24ea9a186', 'training_args': {'batch_size': 20, 'lr': 1e-05, 'epochs': 1, 'dry_run': False, 'batch_maxnum': 250}, 'model_args': {'num_class': 6}, 'command': 'train', 'model_url': 'http://localhost:8844/media/uploads/2022/01/06/my_model_3741fb7c-a0e8-48fe-82de-48ef82904df1.py', 'params_url': 'http://localhost:8844/media/uploads/2022/01/06/aggregated_params_init_365d8c09-1c12-485c-b7eb-4367e7305781.pt', 'model_class': 'MyTrainingPlan', 'training_data': {'node_0341dbee-4250-4f28-8f05-fc0a98bde6b7': ['dataset_32496af1-6482-47ce-90d6-b839ac1e43ab']}}\n",
      "2022-01-06 19:37:42,396 fedbiomed DEBUG - researcher_ccf4bfd5-a09e-4e86-b698-d656c390b98f\n",
      "2022-01-06 19:37:42,397 fedbiomed INFO - Send message to node node_30bcc00b-f402-4658-982c-6642390eb80a - {'researcher_id': 'researcher_ccf4bfd5-a09e-4e86-b698-d656c390b98f', 'job_id': '2f5ac007-c792-442b-a7a7-4cc24ea9a186', 'training_args': {'batch_size': 20, 'lr': 1e-05, 'epochs': 1, 'dry_run': False, 'batch_maxnum': 250}, 'model_args': {'num_class': 6}, 'command': 'train', 'model_url': 'http://localhost:8844/media/uploads/2022/01/06/my_model_3741fb7c-a0e8-48fe-82de-48ef82904df1.py', 'params_url': 'http://localhost:8844/media/uploads/2022/01/06/aggregated_params_init_365d8c09-1c12-485c-b7eb-4367e7305781.pt', 'model_class': 'MyTrainingPlan', 'training_data': {'node_30bcc00b-f402-4658-982c-6642390eb80a': ['dataset_1457517a-ff70-4d89-95d6-e5e16208e917']}}\n",
      "2022-01-06 19:37:42,398 fedbiomed INFO - log from: node_b4eb76b3-54fe-42e4-8f01-501a4f1a179a / DEBUG - Message received: {'researcher_id': 'researcher_ccf4bfd5-a09e-4e86-b698-d656c390b98f', 'job_id': '2f5ac007-c792-442b-a7a7-4cc24ea9a186', 'training_args': {'batch_size': 20, 'lr': 1e-05, 'epochs': 1, 'dry_run': False, 'batch_maxnum': 250}, 'model_args': {'num_class': 6}, 'command': 'train', 'model_url': 'http://localhost:8844/media/uploads/2022/01/06/my_model_3741fb7c-a0e8-48fe-82de-48ef82904df1.py', 'params_url': 'http://localhost:8844/media/uploads/2022/01/06/aggregated_params_init_365d8c09-1c12-485c-b7eb-4367e7305781.pt', 'model_class': 'MyTrainingPlan', 'training_data': {'node_b4eb76b3-54fe-42e4-8f01-501a4f1a179a': ['dataset_9088096e-ff15-4339-ada6-65974ba24a1c']}}\n",
      "2022-01-06 19:37:42,399 fedbiomed DEBUG - researcher_ccf4bfd5-a09e-4e86-b698-d656c390b98f\n",
      "2022-01-06 19:37:42,401 fedbiomed INFO - log from: node_0341dbee-4250-4f28-8f05-fc0a98bde6b7 / DEBUG - Message received: {'researcher_id': 'researcher_ccf4bfd5-a09e-4e86-b698-d656c390b98f', 'job_id': '2f5ac007-c792-442b-a7a7-4cc24ea9a186', 'training_args': {'batch_size': 20, 'lr': 1e-05, 'epochs': 1, 'dry_run': False, 'batch_maxnum': 250}, 'model_args': {'num_class': 6}, 'command': 'train', 'model_url': 'http://localhost:8844/media/uploads/2022/01/06/my_model_3741fb7c-a0e8-48fe-82de-48ef82904df1.py', 'params_url': 'http://localhost:8844/media/uploads/2022/01/06/aggregated_params_init_365d8c09-1c12-485c-b7eb-4367e7305781.pt', 'model_class': 'MyTrainingPlan', 'training_data': {'node_0341dbee-4250-4f28-8f05-fc0a98bde6b7': ['dataset_32496af1-6482-47ce-90d6-b839ac1e43ab']}}\n",
      "2022-01-06 19:37:42,411 fedbiomed INFO - log from: node_30bcc00b-f402-4658-982c-6642390eb80a / DEBUG - Message received: {'researcher_id': 'researcher_ccf4bfd5-a09e-4e86-b698-d656c390b98f', 'job_id': '2f5ac007-c792-442b-a7a7-4cc24ea9a186', 'training_args': {'batch_size': 20, 'lr': 1e-05, 'epochs': 1, 'dry_run': False, 'batch_maxnum': 250}, 'model_args': {'num_class': 6}, 'command': 'train', 'model_url': 'http://localhost:8844/media/uploads/2022/01/06/my_model_3741fb7c-a0e8-48fe-82de-48ef82904df1.py', 'params_url': 'http://localhost:8844/media/uploads/2022/01/06/aggregated_params_init_365d8c09-1c12-485c-b7eb-4367e7305781.pt', 'model_class': 'MyTrainingPlan', 'training_data': {'node_30bcc00b-f402-4658-982c-6642390eb80a': ['dataset_1457517a-ff70-4d89-95d6-e5e16208e917']}}\n",
      "2022-01-06 19:37:42,438 fedbiomed INFO - log from: node_b4eb76b3-54fe-42e4-8f01-501a4f1a179a / DEBUG - [TASKS QUEUE] Item:{'researcher_id': 'researcher_ccf4bfd5-a09e-4e86-b698-d656c390b98f', 'job_id': '2f5ac007-c792-442b-a7a7-4cc24ea9a186', 'params_url': 'http://localhost:8844/media/uploads/2022/01/06/aggregated_params_init_365d8c09-1c12-485c-b7eb-4367e7305781.pt', 'training_args': {'batch_size': 20, 'lr': 1e-05, 'epochs': 1, 'dry_run': False, 'batch_maxnum': 250}, 'training_data': {'node_b4eb76b3-54fe-42e4-8f01-501a4f1a179a': ['dataset_9088096e-ff15-4339-ada6-65974ba24a1c']}, 'model_args': {'num_class': 6}, 'model_url': 'http://localhost:8844/media/uploads/2022/01/06/my_model_3741fb7c-a0e8-48fe-82de-48ef82904df1.py', 'model_class': 'MyTrainingPlan', 'command': 'train'}\n",
      "2022-01-06 19:37:42,441 fedbiomed INFO - log from: node_0341dbee-4250-4f28-8f05-fc0a98bde6b7 / DEBUG - [TASKS QUEUE] Item:{'researcher_id': 'researcher_ccf4bfd5-a09e-4e86-b698-d656c390b98f', 'job_id': '2f5ac007-c792-442b-a7a7-4cc24ea9a186', 'params_url': 'http://localhost:8844/media/uploads/2022/01/06/aggregated_params_init_365d8c09-1c12-485c-b7eb-4367e7305781.pt', 'training_args': {'batch_size': 20, 'lr': 1e-05, 'epochs': 1, 'dry_run': False, 'batch_maxnum': 250}, 'training_data': {'node_0341dbee-4250-4f28-8f05-fc0a98bde6b7': ['dataset_32496af1-6482-47ce-90d6-b839ac1e43ab']}, 'model_args': {'num_class': 6}, 'model_url': 'http://localhost:8844/media/uploads/2022/01/06/my_model_3741fb7c-a0e8-48fe-82de-48ef82904df1.py', 'model_class': 'MyTrainingPlan', 'command': 'train'}\n",
      "2022-01-06 19:37:42,453 fedbiomed INFO - log from: node_30bcc00b-f402-4658-982c-6642390eb80a / DEBUG - [TASKS QUEUE] Item:{'researcher_id': 'researcher_ccf4bfd5-a09e-4e86-b698-d656c390b98f', 'job_id': '2f5ac007-c792-442b-a7a7-4cc24ea9a186', 'params_url': 'http://localhost:8844/media/uploads/2022/01/06/aggregated_params_init_365d8c09-1c12-485c-b7eb-4367e7305781.pt', 'training_args': {'batch_size': 20, 'lr': 1e-05, 'epochs': 1, 'dry_run': False, 'batch_maxnum': 250}, 'training_data': {'node_30bcc00b-f402-4658-982c-6642390eb80a': ['dataset_1457517a-ff70-4d89-95d6-e5e16208e917']}, 'model_args': {'num_class': 6}, 'model_url': 'http://localhost:8844/media/uploads/2022/01/06/my_model_3741fb7c-a0e8-48fe-82de-48ef82904df1.py', 'model_class': 'MyTrainingPlan', 'command': 'train'}\n",
      "2022-01-06 19:37:43,164 fedbiomed INFO - log from: node_0341dbee-4250-4f28-8f05-fc0a98bde6b7 / INFO - {'monitor': <fedbiomed.node.history_monitor.HistoryMonitor object at 0x7f84b7e53b20>, 'batch_size': 20, 'lr': 1e-05, 'epochs': 1, 'dry_run': False, 'batch_maxnum': 250}\n",
      "2022-01-06 19:37:43,177 fedbiomed INFO - log from: node_0341dbee-4250-4f28-8f05-fc0a98bde6b7 / DEBUG - Dataset_path/home/ybouilla/fedbiomed/notebooks/data/mednist/client_1\n",
      "2022-01-06 19:37:43,261 fedbiomed INFO - log from: node_30bcc00b-f402-4658-982c-6642390eb80a / INFO - {'monitor': <fedbiomed.node.history_monitor.HistoryMonitor object at 0x7f6b06d25f40>, 'batch_size': 20, 'lr': 1e-05, 'epochs': 1, 'dry_run': False, 'batch_maxnum': 250}\n",
      "2022-01-06 19:37:43,267 fedbiomed INFO - log from: node_30bcc00b-f402-4658-982c-6642390eb80a / DEBUG - Dataset_path/home/ybouilla/fedbiomed/notebooks/data/mednist/client_3\n"
     ]
    },
    {
     "name": "stderr",
     "output_type": "stream",
     "text": [
      "2022-01-06 19:37:43,276 fedbiomed INFO - log from: node_b4eb76b3-54fe-42e4-8f01-501a4f1a179a / INFO - {'monitor': <fedbiomed.node.history_monitor.HistoryMonitor object at 0x7f7a5e7baf40>, 'batch_size': 20, 'lr': 1e-05, 'epochs': 1, 'dry_run': False, 'batch_maxnum': 250}\n",
      "2022-01-06 19:37:43,278 fedbiomed INFO - log from: node_b4eb76b3-54fe-42e4-8f01-501a4f1a179a / DEBUG - Dataset_path/home/ybouilla/fedbiomed/notebooks/data/mednist/client_2\n",
      "2022-01-06 19:37:46,824 fedbiomed INFO - log from: node_30bcc00b-f402-4658-982c-6642390eb80a / INFO - Train Epoch: 1 [0/16954 (0%)]\tLoss: 1.769837\n",
      "2022-01-06 19:37:46,913 fedbiomed INFO - log from: node_0341dbee-4250-4f28-8f05-fc0a98bde6b7 / INFO - Train Epoch: 1 [0/18000 (0%)]\tLoss: 1.816945\n",
      "2022-01-06 19:37:47,121 fedbiomed INFO - log from: node_b4eb76b3-54fe-42e4-8f01-501a4f1a179a / INFO - Train Epoch: 1 [0/18000 (0%)]\tLoss: 1.787506\n",
      "2022-01-06 19:38:36,367 fedbiomed INFO - log from: node_30bcc00b-f402-4658-982c-6642390eb80a / INFO - Train Epoch: 1 [200/16954 (1%)]\tLoss: 1.653214\n",
      "2022-01-06 19:38:37,431 fedbiomed INFO - log from: node_b4eb76b3-54fe-42e4-8f01-501a4f1a179a / INFO - Train Epoch: 1 [200/18000 (1%)]\tLoss: 1.646138\n",
      "2022-01-06 19:38:39,090 fedbiomed INFO - log from: node_0341dbee-4250-4f28-8f05-fc0a98bde6b7 / INFO - Train Epoch: 1 [200/18000 (1%)]\tLoss: 1.718302\n",
      "2022-01-06 19:39:15,173 fedbiomed INFO - log from: node_0341dbee-4250-4f28-8f05-fc0a98bde6b7 / INFO - Train Epoch: 1 [400/18000 (2%)]\tLoss: 1.619629\n",
      "2022-01-06 19:39:18,320 fedbiomed INFO - log from: node_30bcc00b-f402-4658-982c-6642390eb80a / INFO - Train Epoch: 1 [400/16954 (2%)]\tLoss: 1.578260\n",
      "2022-01-06 19:39:22,383 fedbiomed INFO - log from: node_b4eb76b3-54fe-42e4-8f01-501a4f1a179a / INFO - Train Epoch: 1 [400/18000 (2%)]\tLoss: 1.630369\n",
      "2022-01-06 19:39:57,990 fedbiomed INFO - log from: node_0341dbee-4250-4f28-8f05-fc0a98bde6b7 / INFO - Train Epoch: 1 [600/18000 (3%)]\tLoss: 1.498131\n",
      "2022-01-06 19:39:59,136 fedbiomed INFO - log from: node_b4eb76b3-54fe-42e4-8f01-501a4f1a179a / INFO - Train Epoch: 1 [600/18000 (3%)]\tLoss: 1.412486\n",
      "2022-01-06 19:40:02,991 fedbiomed INFO - log from: node_30bcc00b-f402-4658-982c-6642390eb80a / INFO - Train Epoch: 1 [600/16954 (4%)]\tLoss: 1.428625\n",
      "2022-01-06 19:40:50,029 fedbiomed INFO - log from: node_0341dbee-4250-4f28-8f05-fc0a98bde6b7 / INFO - Train Epoch: 1 [800/18000 (4%)]\tLoss: 1.434440\n",
      "2022-01-06 19:41:04,167 fedbiomed INFO - log from: node_b4eb76b3-54fe-42e4-8f01-501a4f1a179a / INFO - Train Epoch: 1 [800/18000 (4%)]\tLoss: 1.401906\n",
      "2022-01-06 19:41:09,825 fedbiomed INFO - log from: node_30bcc00b-f402-4658-982c-6642390eb80a / INFO - Train Epoch: 1 [800/16954 (5%)]\tLoss: 1.335210\n",
      "2022-01-06 19:41:42,494 fedbiomed INFO - log from: node_0341dbee-4250-4f28-8f05-fc0a98bde6b7 / INFO - Train Epoch: 1 [1000/18000 (6%)]\tLoss: 1.321900\n",
      "2022-01-06 19:41:58,064 fedbiomed INFO - log from: node_b4eb76b3-54fe-42e4-8f01-501a4f1a179a / INFO - Train Epoch: 1 [1000/18000 (6%)]\tLoss: 1.327702\n",
      "2022-01-06 19:42:09,336 fedbiomed INFO - log from: node_30bcc00b-f402-4658-982c-6642390eb80a / INFO - Train Epoch: 1 [1000/16954 (6%)]\tLoss: 1.329460\n",
      "2022-01-06 19:42:20,675 fedbiomed INFO - log from: node_0341dbee-4250-4f28-8f05-fc0a98bde6b7 / INFO - Train Epoch: 1 [1200/18000 (7%)]\tLoss: 1.219022\n",
      "2022-01-06 19:42:40,845 fedbiomed INFO - log from: node_b4eb76b3-54fe-42e4-8f01-501a4f1a179a / INFO - Train Epoch: 1 [1200/18000 (7%)]\tLoss: 1.099238\n",
      "2022-01-06 19:42:45,674 fedbiomed INFO - log from: node_30bcc00b-f402-4658-982c-6642390eb80a / INFO - Train Epoch: 1 [1200/16954 (7%)]\tLoss: 1.333486\n",
      "2022-01-06 19:43:00,975 fedbiomed INFO - log from: node_0341dbee-4250-4f28-8f05-fc0a98bde6b7 / INFO - Train Epoch: 1 [1400/18000 (8%)]\tLoss: 1.083962\n",
      "2022-01-06 19:43:20,463 fedbiomed INFO - log from: node_b4eb76b3-54fe-42e4-8f01-501a4f1a179a / INFO - Train Epoch: 1 [1400/18000 (8%)]\tLoss: 1.233271\n",
      "2022-01-06 19:43:24,277 fedbiomed INFO - log from: node_30bcc00b-f402-4658-982c-6642390eb80a / INFO - Train Epoch: 1 [1400/16954 (8%)]\tLoss: 1.198964\n",
      "2022-01-06 19:43:41,264 fedbiomed INFO - log from: node_0341dbee-4250-4f28-8f05-fc0a98bde6b7 / INFO - Train Epoch: 1 [1600/18000 (9%)]\tLoss: 1.117154\n",
      "2022-01-06 19:43:59,745 fedbiomed INFO - log from: node_b4eb76b3-54fe-42e4-8f01-501a4f1a179a / INFO - Train Epoch: 1 [1600/18000 (9%)]\tLoss: 1.071866\n",
      "2022-01-06 19:44:08,179 fedbiomed INFO - log from: node_30bcc00b-f402-4658-982c-6642390eb80a / INFO - Train Epoch: 1 [1600/16954 (9%)]\tLoss: 1.098858\n",
      "2022-01-06 19:44:28,361 fedbiomed INFO - log from: node_0341dbee-4250-4f28-8f05-fc0a98bde6b7 / INFO - Train Epoch: 1 [1800/18000 (10%)]\tLoss: 0.954992\n",
      "2022-01-06 19:44:44,344 fedbiomed INFO - log from: node_b4eb76b3-54fe-42e4-8f01-501a4f1a179a / INFO - Train Epoch: 1 [1800/18000 (10%)]\tLoss: 1.027641\n",
      "2022-01-06 19:44:50,479 fedbiomed INFO - log from: node_30bcc00b-f402-4658-982c-6642390eb80a / INFO - Train Epoch: 1 [1800/16954 (11%)]\tLoss: 1.137070\n",
      "2022-01-06 19:45:02,667 fedbiomed INFO - log from: node_0341dbee-4250-4f28-8f05-fc0a98bde6b7 / INFO - Train Epoch: 1 [2000/18000 (11%)]\tLoss: 0.968910\n",
      "2022-01-06 19:45:28,346 fedbiomed INFO - log from: node_b4eb76b3-54fe-42e4-8f01-501a4f1a179a / INFO - Train Epoch: 1 [2000/18000 (11%)]\tLoss: 0.998920\n",
      "2022-01-06 19:45:43,297 fedbiomed INFO - log from: node_0341dbee-4250-4f28-8f05-fc0a98bde6b7 / INFO - Train Epoch: 1 [2200/18000 (12%)]\tLoss: 0.950213\n",
      "2022-01-06 19:45:44,729 fedbiomed INFO - log from: node_30bcc00b-f402-4658-982c-6642390eb80a / INFO - Train Epoch: 1 [2000/16954 (12%)]\tLoss: 1.030813\n",
      "2022-01-06 19:46:21,500 fedbiomed INFO - log from: node_b4eb76b3-54fe-42e4-8f01-501a4f1a179a / INFO - Train Epoch: 1 [2200/18000 (12%)]\tLoss: 0.917213\n",
      "2022-01-06 19:46:32,957 fedbiomed INFO - log from: node_0341dbee-4250-4f28-8f05-fc0a98bde6b7 / INFO - Train Epoch: 1 [2400/18000 (13%)]\tLoss: 1.007461\n",
      "2022-01-06 19:46:38,470 fedbiomed INFO - log from: node_30bcc00b-f402-4658-982c-6642390eb80a / INFO - Train Epoch: 1 [2200/16954 (13%)]\tLoss: 0.928799\n",
      "2022-01-06 19:47:17,004 fedbiomed INFO - log from: node_b4eb76b3-54fe-42e4-8f01-501a4f1a179a / INFO - Train Epoch: 1 [2400/18000 (13%)]\tLoss: 0.794672\n",
      "2022-01-06 19:47:17,290 fedbiomed INFO - log from: node_0341dbee-4250-4f28-8f05-fc0a98bde6b7 / INFO - Train Epoch: 1 [2600/18000 (14%)]\tLoss: 0.999880\n",
      "2022-01-06 19:47:21,410 fedbiomed INFO - log from: node_30bcc00b-f402-4658-982c-6642390eb80a / INFO - Train Epoch: 1 [2400/16954 (14%)]\tLoss: 0.796599\n",
      "2022-01-06 19:48:04,526 fedbiomed INFO - log from: node_0341dbee-4250-4f28-8f05-fc0a98bde6b7 / INFO - Train Epoch: 1 [2800/18000 (16%)]\tLoss: 0.814967\n",
      "2022-01-06 19:48:16,971 fedbiomed INFO - log from: node_b4eb76b3-54fe-42e4-8f01-501a4f1a179a / INFO - Train Epoch: 1 [2600/18000 (14%)]\tLoss: 0.860934\n",
      "2022-01-06 19:48:20,794 fedbiomed INFO - log from: node_30bcc00b-f402-4658-982c-6642390eb80a / INFO - Train Epoch: 1 [2600/16954 (15%)]\tLoss: 0.904329\n",
      "2022-01-06 19:49:03,099 fedbiomed INFO - log from: node_0341dbee-4250-4f28-8f05-fc0a98bde6b7 / INFO - Train Epoch: 1 [3000/18000 (17%)]\tLoss: 0.744435\n",
      "2022-01-06 19:49:03,229 fedbiomed INFO - log from: node_b4eb76b3-54fe-42e4-8f01-501a4f1a179a / INFO - Train Epoch: 1 [2800/18000 (16%)]\tLoss: 0.672389\n",
      "2022-01-06 19:49:18,333 fedbiomed INFO - log from: node_30bcc00b-f402-4658-982c-6642390eb80a / INFO - Train Epoch: 1 [2800/16954 (17%)]\tLoss: 0.826322\n",
      "2022-01-06 19:49:54,159 fedbiomed INFO - log from: node_0341dbee-4250-4f28-8f05-fc0a98bde6b7 / INFO - Train Epoch: 1 [3200/18000 (18%)]\tLoss: 0.815917\n",
      "2022-01-06 19:49:55,975 fedbiomed INFO - log from: node_b4eb76b3-54fe-42e4-8f01-501a4f1a179a / INFO - Train Epoch: 1 [3000/18000 (17%)]\tLoss: 0.806947\n",
      "2022-01-06 19:50:20,085 fedbiomed INFO - log from: node_30bcc00b-f402-4658-982c-6642390eb80a / INFO - Train Epoch: 1 [3000/16954 (18%)]\tLoss: 0.799701\n",
      "2022-01-06 19:50:43,671 fedbiomed INFO - log from: node_0341dbee-4250-4f28-8f05-fc0a98bde6b7 / INFO - Train Epoch: 1 [3400/18000 (19%)]\tLoss: 0.803591\n",
      "2022-01-06 19:50:52,766 fedbiomed INFO - log from: node_b4eb76b3-54fe-42e4-8f01-501a4f1a179a / INFO - Train Epoch: 1 [3200/18000 (18%)]\tLoss: 0.607979\n",
      "2022-01-06 19:51:18,295 fedbiomed INFO - log from: node_30bcc00b-f402-4658-982c-6642390eb80a / INFO - Train Epoch: 1 [3200/16954 (19%)]\tLoss: 0.699767\n"
     ]
    },
    {
     "name": "stderr",
     "output_type": "stream",
     "text": [
      "2022-01-06 19:51:31,564 fedbiomed INFO - log from: node_0341dbee-4250-4f28-8f05-fc0a98bde6b7 / INFO - Train Epoch: 1 [3600/18000 (20%)]\tLoss: 0.782915\n",
      "2022-01-06 19:51:44,564 fedbiomed INFO - log from: node_b4eb76b3-54fe-42e4-8f01-501a4f1a179a / INFO - Train Epoch: 1 [3400/18000 (19%)]\tLoss: 0.612654\n",
      "2022-01-06 19:52:05,176 fedbiomed INFO - log from: node_30bcc00b-f402-4658-982c-6642390eb80a / INFO - Train Epoch: 1 [3400/16954 (20%)]\tLoss: 0.538178\n",
      "2022-01-06 19:52:20,741 fedbiomed INFO - log from: node_0341dbee-4250-4f28-8f05-fc0a98bde6b7 / INFO - Train Epoch: 1 [3800/18000 (21%)]\tLoss: 0.741194\n",
      "2022-01-06 19:52:32,183 fedbiomed INFO - log from: node_b4eb76b3-54fe-42e4-8f01-501a4f1a179a / INFO - Train Epoch: 1 [3600/18000 (20%)]\tLoss: 0.536325\n",
      "2022-01-06 19:52:59,882 fedbiomed INFO - log from: node_30bcc00b-f402-4658-982c-6642390eb80a / INFO - Train Epoch: 1 [3600/16954 (21%)]\tLoss: 0.621068\n",
      "2022-01-06 19:53:17,083 fedbiomed INFO - log from: node_0341dbee-4250-4f28-8f05-fc0a98bde6b7 / INFO - Train Epoch: 1 [4000/18000 (22%)]\tLoss: 0.712915\n",
      "2022-01-06 19:53:24,995 fedbiomed INFO - log from: node_b4eb76b3-54fe-42e4-8f01-501a4f1a179a / INFO - Train Epoch: 1 [3800/18000 (21%)]\tLoss: 0.438860\n",
      "2022-01-06 19:54:01,002 fedbiomed INFO - log from: node_0341dbee-4250-4f28-8f05-fc0a98bde6b7 / INFO - Train Epoch: 1 [4200/18000 (23%)]\tLoss: 0.659264\n",
      "2022-01-06 19:54:02,900 fedbiomed INFO - log from: node_30bcc00b-f402-4658-982c-6642390eb80a / INFO - Train Epoch: 1 [3800/16954 (22%)]\tLoss: 1.005917\n",
      "2022-01-06 19:54:19,508 fedbiomed INFO - log from: node_b4eb76b3-54fe-42e4-8f01-501a4f1a179a / INFO - Train Epoch: 1 [4000/18000 (22%)]\tLoss: 0.507312\n",
      "2022-01-06 19:54:49,944 fedbiomed INFO - log from: node_30bcc00b-f402-4658-982c-6642390eb80a / INFO - Train Epoch: 1 [4000/16954 (24%)]\tLoss: 0.446574\n",
      "2022-01-06 19:54:58,071 fedbiomed INFO - log from: node_0341dbee-4250-4f28-8f05-fc0a98bde6b7 / INFO - Train Epoch: 1 [4400/18000 (24%)]\tLoss: 0.562954\n",
      "2022-01-06 19:55:22,820 fedbiomed INFO - log from: node_b4eb76b3-54fe-42e4-8f01-501a4f1a179a / INFO - Train Epoch: 1 [4200/18000 (23%)]\tLoss: 0.636641\n",
      "2022-01-06 19:55:44,901 fedbiomed INFO - log from: node_30bcc00b-f402-4658-982c-6642390eb80a / INFO - Train Epoch: 1 [4200/16954 (25%)]\tLoss: 0.777717\n",
      "2022-01-06 19:55:45,661 fedbiomed INFO - log from: node_0341dbee-4250-4f28-8f05-fc0a98bde6b7 / INFO - Train Epoch: 1 [4600/18000 (26%)]\tLoss: 0.546786\n",
      "2022-01-06 19:56:12,976 fedbiomed INFO - log from: node_b4eb76b3-54fe-42e4-8f01-501a4f1a179a / INFO - Train Epoch: 1 [4400/18000 (24%)]\tLoss: 0.424414\n",
      "2022-01-06 19:56:28,174 fedbiomed INFO - log from: node_0341dbee-4250-4f28-8f05-fc0a98bde6b7 / INFO - Train Epoch: 1 [4800/18000 (27%)]\tLoss: 0.471461\n",
      "2022-01-06 19:56:29,101 fedbiomed INFO - log from: node_30bcc00b-f402-4658-982c-6642390eb80a / INFO - Train Epoch: 1 [4400/16954 (26%)]\tLoss: 0.516050\n",
      "2022-01-06 19:56:49,726 fedbiomed INFO - log from: node_b4eb76b3-54fe-42e4-8f01-501a4f1a179a / INFO - Train Epoch: 1 [4600/18000 (26%)]\tLoss: 0.565404\n",
      "2022-01-06 19:57:05,507 fedbiomed INFO - log from: node_30bcc00b-f402-4658-982c-6642390eb80a / INFO - Train Epoch: 1 [4600/16954 (27%)]\tLoss: 0.504161\n",
      "2022-01-06 19:57:15,955 fedbiomed INFO - log from: node_0341dbee-4250-4f28-8f05-fc0a98bde6b7 / DEBUG - Reached 250 batches for this epoch, ignore remaining data\n",
      "2022-01-06 19:57:16,941 fedbiomed INFO - log from: node_0341dbee-4250-4f28-8f05-fc0a98bde6b7 / INFO - results uploaded successfully \n",
      "2022-01-06 19:57:20,068 fedbiomed INFO - log from: node_b4eb76b3-54fe-42e4-8f01-501a4f1a179a / INFO - Train Epoch: 1 [4800/18000 (27%)]\tLoss: 0.613206\n",
      "2022-01-06 19:57:22,650 fedbiomed INFO - log from: node_30bcc00b-f402-4658-982c-6642390eb80a / INFO - Train Epoch: 1 [4800/16954 (28%)]\tLoss: 0.699034\n",
      "2022-01-06 19:57:23,671 fedbiomed INFO - Downloading model params after training on node_0341dbee-4250-4f28-8f05-fc0a98bde6b7 - from http://localhost:8844/media/uploads/2022/01/06/node_params_080a8e20-a70f-48a5-b87f-97ce93e4f9bd.pt\n",
      "2022-01-06 19:57:29,056 fedbiomed INFO - log from: node_b4eb76b3-54fe-42e4-8f01-501a4f1a179a / DEBUG - Reached 250 batches for this epoch, ignore remaining data\n",
      "2022-01-06 19:57:29,918 fedbiomed INFO - log from: node_b4eb76b3-54fe-42e4-8f01-501a4f1a179a / INFO - results uploaded successfully \n",
      "2022-01-06 19:57:30,430 fedbiomed INFO - log from: node_30bcc00b-f402-4658-982c-6642390eb80a / DEBUG - Reached 250 batches for this epoch, ignore remaining data\n",
      "2022-01-06 19:57:31,086 fedbiomed INFO - log from: node_30bcc00b-f402-4658-982c-6642390eb80a / INFO - results uploaded successfully \n",
      "2022-01-06 19:57:38,914 fedbiomed INFO - Downloading model params after training on node_b4eb76b3-54fe-42e4-8f01-501a4f1a179a - from http://localhost:8844/media/uploads/2022/01/06/node_params_0e92c1c1-1669-4829-9d8f-87a7f216eaeb.pt\n",
      "2022-01-06 19:57:39,037 fedbiomed INFO - Downloading model params after training on node_30bcc00b-f402-4658-982c-6642390eb80a - from http://localhost:8844/media/uploads/2022/01/06/node_params_8cb15781-9809-446a-ae4b-c8324cb582b6.pt\n",
      "2022-01-06 19:57:39,143 fedbiomed INFO - Nodes that successfully reply in round 0 ['node_0341dbee-4250-4f28-8f05-fc0a98bde6b7', 'node_b4eb76b3-54fe-42e4-8f01-501a4f1a179a', 'node_30bcc00b-f402-4658-982c-6642390eb80a']\n",
      "2022-01-06 19:57:39,821 fedbiomed INFO - Saved aggregated params for round 0 in /home/ybouilla/fedbiomed/var/experiments/Experiment_0000/aggregated_params_bc671c9c-54b8-4727-96f5-dbb2aeaeeb5b.pt\n",
      "2022-01-06 19:57:39,822 fedbiomed INFO - Sampled nodes in round 1 ['node_b4eb76b3-54fe-42e4-8f01-501a4f1a179a', 'node_0341dbee-4250-4f28-8f05-fc0a98bde6b7', 'node_30bcc00b-f402-4658-982c-6642390eb80a']\n",
      "2022-01-06 19:57:39,822 fedbiomed INFO - Send message to node node_b4eb76b3-54fe-42e4-8f01-501a4f1a179a - {'researcher_id': 'researcher_ccf4bfd5-a09e-4e86-b698-d656c390b98f', 'job_id': '2f5ac007-c792-442b-a7a7-4cc24ea9a186', 'training_args': {'batch_size': 20, 'lr': 1e-05, 'epochs': 1, 'dry_run': False, 'batch_maxnum': 250}, 'model_args': {'num_class': 6}, 'command': 'train', 'model_url': 'http://localhost:8844/media/uploads/2022/01/06/my_model_3741fb7c-a0e8-48fe-82de-48ef82904df1.py', 'params_url': 'http://localhost:8844/media/uploads/2022/01/06/aggregated_params_bc671c9c-54b8-4727-96f5-dbb2aeaeeb5b.pt', 'model_class': 'MyTrainingPlan', 'training_data': {'node_b4eb76b3-54fe-42e4-8f01-501a4f1a179a': ['dataset_9088096e-ff15-4339-ada6-65974ba24a1c']}}\n",
      "2022-01-06 19:57:39,823 fedbiomed DEBUG - researcher_ccf4bfd5-a09e-4e86-b698-d656c390b98f\n",
      "2022-01-06 19:57:39,824 fedbiomed INFO - Send message to node node_0341dbee-4250-4f28-8f05-fc0a98bde6b7 - {'researcher_id': 'researcher_ccf4bfd5-a09e-4e86-b698-d656c390b98f', 'job_id': '2f5ac007-c792-442b-a7a7-4cc24ea9a186', 'training_args': {'batch_size': 20, 'lr': 1e-05, 'epochs': 1, 'dry_run': False, 'batch_maxnum': 250}, 'model_args': {'num_class': 6}, 'command': 'train', 'model_url': 'http://localhost:8844/media/uploads/2022/01/06/my_model_3741fb7c-a0e8-48fe-82de-48ef82904df1.py', 'params_url': 'http://localhost:8844/media/uploads/2022/01/06/aggregated_params_bc671c9c-54b8-4727-96f5-dbb2aeaeeb5b.pt', 'model_class': 'MyTrainingPlan', 'training_data': {'node_0341dbee-4250-4f28-8f05-fc0a98bde6b7': ['dataset_32496af1-6482-47ce-90d6-b839ac1e43ab']}}\n",
      "2022-01-06 19:57:39,824 fedbiomed DEBUG - researcher_ccf4bfd5-a09e-4e86-b698-d656c390b98f\n",
      "2022-01-06 19:57:39,826 fedbiomed INFO - Send message to node node_30bcc00b-f402-4658-982c-6642390eb80a - {'researcher_id': 'researcher_ccf4bfd5-a09e-4e86-b698-d656c390b98f', 'job_id': '2f5ac007-c792-442b-a7a7-4cc24ea9a186', 'training_args': {'batch_size': 20, 'lr': 1e-05, 'epochs': 1, 'dry_run': False, 'batch_maxnum': 250}, 'model_args': {'num_class': 6}, 'command': 'train', 'model_url': 'http://localhost:8844/media/uploads/2022/01/06/my_model_3741fb7c-a0e8-48fe-82de-48ef82904df1.py', 'params_url': 'http://localhost:8844/media/uploads/2022/01/06/aggregated_params_bc671c9c-54b8-4727-96f5-dbb2aeaeeb5b.pt', 'model_class': 'MyTrainingPlan', 'training_data': {'node_30bcc00b-f402-4658-982c-6642390eb80a': ['dataset_1457517a-ff70-4d89-95d6-e5e16208e917']}}\n",
      "2022-01-06 19:57:39,826 fedbiomed DEBUG - researcher_ccf4bfd5-a09e-4e86-b698-d656c390b98f\n"
     ]
    },
    {
     "name": "stderr",
     "output_type": "stream",
     "text": [
      "2022-01-06 19:57:39,827 fedbiomed INFO - log from: node_b4eb76b3-54fe-42e4-8f01-501a4f1a179a / DEBUG - Message received: {'researcher_id': 'researcher_ccf4bfd5-a09e-4e86-b698-d656c390b98f', 'job_id': '2f5ac007-c792-442b-a7a7-4cc24ea9a186', 'training_args': {'batch_size': 20, 'lr': 1e-05, 'epochs': 1, 'dry_run': False, 'batch_maxnum': 250}, 'model_args': {'num_class': 6}, 'command': 'train', 'model_url': 'http://localhost:8844/media/uploads/2022/01/06/my_model_3741fb7c-a0e8-48fe-82de-48ef82904df1.py', 'params_url': 'http://localhost:8844/media/uploads/2022/01/06/aggregated_params_bc671c9c-54b8-4727-96f5-dbb2aeaeeb5b.pt', 'model_class': 'MyTrainingPlan', 'training_data': {'node_b4eb76b3-54fe-42e4-8f01-501a4f1a179a': ['dataset_9088096e-ff15-4339-ada6-65974ba24a1c']}}\n",
      "2022-01-06 19:57:39,829 fedbiomed INFO - log from: node_b4eb76b3-54fe-42e4-8f01-501a4f1a179a / DEBUG - [TASKS QUEUE] Item:{'researcher_id': 'researcher_ccf4bfd5-a09e-4e86-b698-d656c390b98f', 'job_id': '2f5ac007-c792-442b-a7a7-4cc24ea9a186', 'params_url': 'http://localhost:8844/media/uploads/2022/01/06/aggregated_params_bc671c9c-54b8-4727-96f5-dbb2aeaeeb5b.pt', 'training_args': {'batch_size': 20, 'lr': 1e-05, 'epochs': 1, 'dry_run': False, 'batch_maxnum': 250}, 'training_data': {'node_b4eb76b3-54fe-42e4-8f01-501a4f1a179a': ['dataset_9088096e-ff15-4339-ada6-65974ba24a1c']}, 'model_args': {'num_class': 6}, 'model_url': 'http://localhost:8844/media/uploads/2022/01/06/my_model_3741fb7c-a0e8-48fe-82de-48ef82904df1.py', 'model_class': 'MyTrainingPlan', 'command': 'train'}\n",
      "2022-01-06 19:57:39,830 fedbiomed INFO - log from: node_0341dbee-4250-4f28-8f05-fc0a98bde6b7 / DEBUG - Message received: {'researcher_id': 'researcher_ccf4bfd5-a09e-4e86-b698-d656c390b98f', 'job_id': '2f5ac007-c792-442b-a7a7-4cc24ea9a186', 'training_args': {'batch_size': 20, 'lr': 1e-05, 'epochs': 1, 'dry_run': False, 'batch_maxnum': 250}, 'model_args': {'num_class': 6}, 'command': 'train', 'model_url': 'http://localhost:8844/media/uploads/2022/01/06/my_model_3741fb7c-a0e8-48fe-82de-48ef82904df1.py', 'params_url': 'http://localhost:8844/media/uploads/2022/01/06/aggregated_params_bc671c9c-54b8-4727-96f5-dbb2aeaeeb5b.pt', 'model_class': 'MyTrainingPlan', 'training_data': {'node_0341dbee-4250-4f28-8f05-fc0a98bde6b7': ['dataset_32496af1-6482-47ce-90d6-b839ac1e43ab']}}\n",
      "2022-01-06 19:57:39,831 fedbiomed INFO - log from: node_0341dbee-4250-4f28-8f05-fc0a98bde6b7 / DEBUG - [TASKS QUEUE] Item:{'researcher_id': 'researcher_ccf4bfd5-a09e-4e86-b698-d656c390b98f', 'job_id': '2f5ac007-c792-442b-a7a7-4cc24ea9a186', 'params_url': 'http://localhost:8844/media/uploads/2022/01/06/aggregated_params_bc671c9c-54b8-4727-96f5-dbb2aeaeeb5b.pt', 'training_args': {'batch_size': 20, 'lr': 1e-05, 'epochs': 1, 'dry_run': False, 'batch_maxnum': 250}, 'training_data': {'node_0341dbee-4250-4f28-8f05-fc0a98bde6b7': ['dataset_32496af1-6482-47ce-90d6-b839ac1e43ab']}, 'model_args': {'num_class': 6}, 'model_url': 'http://localhost:8844/media/uploads/2022/01/06/my_model_3741fb7c-a0e8-48fe-82de-48ef82904df1.py', 'model_class': 'MyTrainingPlan', 'command': 'train'}\n",
      "2022-01-06 19:57:39,832 fedbiomed INFO - log from: node_30bcc00b-f402-4658-982c-6642390eb80a / DEBUG - Message received: {'researcher_id': 'researcher_ccf4bfd5-a09e-4e86-b698-d656c390b98f', 'job_id': '2f5ac007-c792-442b-a7a7-4cc24ea9a186', 'training_args': {'batch_size': 20, 'lr': 1e-05, 'epochs': 1, 'dry_run': False, 'batch_maxnum': 250}, 'model_args': {'num_class': 6}, 'command': 'train', 'model_url': 'http://localhost:8844/media/uploads/2022/01/06/my_model_3741fb7c-a0e8-48fe-82de-48ef82904df1.py', 'params_url': 'http://localhost:8844/media/uploads/2022/01/06/aggregated_params_bc671c9c-54b8-4727-96f5-dbb2aeaeeb5b.pt', 'model_class': 'MyTrainingPlan', 'training_data': {'node_30bcc00b-f402-4658-982c-6642390eb80a': ['dataset_1457517a-ff70-4d89-95d6-e5e16208e917']}}\n",
      "2022-01-06 19:57:39,871 fedbiomed INFO - log from: node_30bcc00b-f402-4658-982c-6642390eb80a / DEBUG - [TASKS QUEUE] Item:{'researcher_id': 'researcher_ccf4bfd5-a09e-4e86-b698-d656c390b98f', 'job_id': '2f5ac007-c792-442b-a7a7-4cc24ea9a186', 'params_url': 'http://localhost:8844/media/uploads/2022/01/06/aggregated_params_bc671c9c-54b8-4727-96f5-dbb2aeaeeb5b.pt', 'training_args': {'batch_size': 20, 'lr': 1e-05, 'epochs': 1, 'dry_run': False, 'batch_maxnum': 250}, 'training_data': {'node_30bcc00b-f402-4658-982c-6642390eb80a': ['dataset_1457517a-ff70-4d89-95d6-e5e16208e917']}, 'model_args': {'num_class': 6}, 'model_url': 'http://localhost:8844/media/uploads/2022/01/06/my_model_3741fb7c-a0e8-48fe-82de-48ef82904df1.py', 'model_class': 'MyTrainingPlan', 'command': 'train'}\n",
      "2022-01-06 19:57:40,240 fedbiomed INFO - log from: node_0341dbee-4250-4f28-8f05-fc0a98bde6b7 / INFO - {'monitor': <fedbiomed.node.history_monitor.HistoryMonitor object at 0x7f854d3b5ca0>, 'batch_size': 20, 'lr': 1e-05, 'epochs': 1, 'dry_run': False, 'batch_maxnum': 250}\n",
      "2022-01-06 19:57:40,242 fedbiomed INFO - log from: node_0341dbee-4250-4f28-8f05-fc0a98bde6b7 / DEBUG - Dataset_path/home/ybouilla/fedbiomed/notebooks/data/mednist/client_1\n",
      "2022-01-06 19:57:40,263 fedbiomed INFO - log from: node_b4eb76b3-54fe-42e4-8f01-501a4f1a179a / INFO - {'monitor': <fedbiomed.node.history_monitor.HistoryMonitor object at 0x7f7af3d1ca90>, 'batch_size': 20, 'lr': 1e-05, 'epochs': 1, 'dry_run': False, 'batch_maxnum': 250}\n",
      "2022-01-06 19:57:40,265 fedbiomed INFO - log from: node_b4eb76b3-54fe-42e4-8f01-501a4f1a179a / DEBUG - Dataset_path/home/ybouilla/fedbiomed/notebooks/data/mednist/client_2\n",
      "2022-01-06 19:57:40,334 fedbiomed INFO - log from: node_30bcc00b-f402-4658-982c-6642390eb80a / INFO - {'monitor': <fedbiomed.node.history_monitor.HistoryMonitor object at 0x7f6b9c28beb0>, 'batch_size': 20, 'lr': 1e-05, 'epochs': 1, 'dry_run': False, 'batch_maxnum': 250}\n",
      "2022-01-06 19:57:40,335 fedbiomed INFO - log from: node_30bcc00b-f402-4658-982c-6642390eb80a / DEBUG - Dataset_path/home/ybouilla/fedbiomed/notebooks/data/mednist/client_3\n",
      "2022-01-06 19:57:42,420 fedbiomed INFO - log from: node_b4eb76b3-54fe-42e4-8f01-501a4f1a179a / INFO - Train Epoch: 1 [0/18000 (0%)]\tLoss: 0.623203\n",
      "2022-01-06 19:57:43,061 fedbiomed INFO - log from: node_0341dbee-4250-4f28-8f05-fc0a98bde6b7 / INFO - Train Epoch: 1 [0/18000 (0%)]\tLoss: 0.528543\n",
      "2022-01-06 19:57:43,403 fedbiomed INFO - log from: node_30bcc00b-f402-4658-982c-6642390eb80a / INFO - Train Epoch: 1 [0/16954 (0%)]\tLoss: 0.424659\n",
      "2022-01-06 19:58:13,059 fedbiomed INFO - log from: node_b4eb76b3-54fe-42e4-8f01-501a4f1a179a / INFO - Train Epoch: 1 [200/18000 (1%)]\tLoss: 0.381227\n",
      "2022-01-06 19:58:18,942 fedbiomed INFO - log from: node_30bcc00b-f402-4658-982c-6642390eb80a / INFO - Train Epoch: 1 [200/16954 (1%)]\tLoss: 0.408882\n",
      "2022-01-06 19:58:19,213 fedbiomed INFO - log from: node_0341dbee-4250-4f28-8f05-fc0a98bde6b7 / INFO - Train Epoch: 1 [200/18000 (1%)]\tLoss: 0.409577\n",
      "2022-01-06 19:58:48,482 fedbiomed INFO - log from: node_0341dbee-4250-4f28-8f05-fc0a98bde6b7 / INFO - Train Epoch: 1 [400/18000 (2%)]\tLoss: 0.648950\n",
      "2022-01-06 19:58:50,353 fedbiomed INFO - log from: node_b4eb76b3-54fe-42e4-8f01-501a4f1a179a / INFO - Train Epoch: 1 [400/18000 (2%)]\tLoss: 0.284779\n",
      "2022-01-06 19:59:00,226 fedbiomed INFO - log from: node_30bcc00b-f402-4658-982c-6642390eb80a / INFO - Train Epoch: 1 [400/16954 (2%)]\tLoss: 0.441016\n",
      "2022-01-06 19:59:24,077 fedbiomed INFO - log from: node_b4eb76b3-54fe-42e4-8f01-501a4f1a179a / INFO - Train Epoch: 1 [600/18000 (3%)]\tLoss: 0.423078\n",
      "2022-01-06 19:59:26,726 fedbiomed INFO - log from: node_0341dbee-4250-4f28-8f05-fc0a98bde6b7 / INFO - Train Epoch: 1 [600/18000 (3%)]\tLoss: 0.368214\n",
      "2022-01-06 19:59:33,415 fedbiomed INFO - log from: node_30bcc00b-f402-4658-982c-6642390eb80a / INFO - Train Epoch: 1 [600/16954 (4%)]\tLoss: 0.340008\n",
      "2022-01-06 19:59:58,311 fedbiomed INFO - log from: node_b4eb76b3-54fe-42e4-8f01-501a4f1a179a / INFO - Train Epoch: 1 [800/18000 (4%)]\tLoss: 0.349350\n",
      "2022-01-06 20:00:01,138 fedbiomed INFO - log from: node_0341dbee-4250-4f28-8f05-fc0a98bde6b7 / INFO - Train Epoch: 1 [800/18000 (4%)]\tLoss: 0.353735\n",
      "2022-01-06 20:00:16,888 fedbiomed INFO - log from: node_30bcc00b-f402-4658-982c-6642390eb80a / INFO - Train Epoch: 1 [800/16954 (5%)]\tLoss: 0.469116\n"
     ]
    },
    {
     "name": "stderr",
     "output_type": "stream",
     "text": [
      "2022-01-06 20:00:27,547 fedbiomed INFO - log from: node_b4eb76b3-54fe-42e4-8f01-501a4f1a179a / INFO - Train Epoch: 1 [1000/18000 (6%)]\tLoss: 0.360890\n",
      "2022-01-06 20:00:38,634 fedbiomed INFO - log from: node_0341dbee-4250-4f28-8f05-fc0a98bde6b7 / INFO - Train Epoch: 1 [1000/18000 (6%)]\tLoss: 0.573974\n",
      "2022-01-06 20:00:48,731 fedbiomed INFO - log from: node_30bcc00b-f402-4658-982c-6642390eb80a / INFO - Train Epoch: 1 [1000/16954 (6%)]\tLoss: 0.335039\n",
      "2022-01-06 20:01:03,748 fedbiomed INFO - log from: node_b4eb76b3-54fe-42e4-8f01-501a4f1a179a / INFO - Train Epoch: 1 [1200/18000 (7%)]\tLoss: 0.443353\n",
      "2022-01-06 20:01:18,684 fedbiomed INFO - log from: node_0341dbee-4250-4f28-8f05-fc0a98bde6b7 / INFO - Train Epoch: 1 [1200/18000 (7%)]\tLoss: 0.253346\n",
      "2022-01-06 20:01:26,381 fedbiomed INFO - log from: node_30bcc00b-f402-4658-982c-6642390eb80a / INFO - Train Epoch: 1 [1200/16954 (7%)]\tLoss: 0.267557\n",
      "2022-01-06 20:01:44,236 fedbiomed INFO - log from: node_b4eb76b3-54fe-42e4-8f01-501a4f1a179a / INFO - Train Epoch: 1 [1400/18000 (8%)]\tLoss: 0.260715\n",
      "2022-01-06 20:01:57,861 fedbiomed INFO - log from: node_0341dbee-4250-4f28-8f05-fc0a98bde6b7 / INFO - Train Epoch: 1 [1400/18000 (8%)]\tLoss: 0.241023\n",
      "2022-01-06 20:02:01,582 fedbiomed INFO - log from: node_30bcc00b-f402-4658-982c-6642390eb80a / INFO - Train Epoch: 1 [1400/16954 (8%)]\tLoss: 0.639400\n",
      "2022-01-06 20:02:16,500 fedbiomed INFO - log from: node_b4eb76b3-54fe-42e4-8f01-501a4f1a179a / INFO - Train Epoch: 1 [1600/18000 (9%)]\tLoss: 0.218697\n",
      "2022-01-06 20:02:38,441 fedbiomed INFO - log from: node_0341dbee-4250-4f28-8f05-fc0a98bde6b7 / INFO - Train Epoch: 1 [1600/18000 (9%)]\tLoss: 0.212359\n",
      "2022-01-06 20:02:42,184 fedbiomed INFO - log from: node_30bcc00b-f402-4658-982c-6642390eb80a / INFO - Train Epoch: 1 [1600/16954 (9%)]\tLoss: 0.440956\n",
      "2022-01-06 20:02:50,162 fedbiomed INFO - log from: node_b4eb76b3-54fe-42e4-8f01-501a4f1a179a / INFO - Train Epoch: 1 [1800/18000 (10%)]\tLoss: 0.253641\n",
      "2022-01-06 20:03:15,389 fedbiomed INFO - log from: node_0341dbee-4250-4f28-8f05-fc0a98bde6b7 / INFO - Train Epoch: 1 [1800/18000 (10%)]\tLoss: 0.258043\n",
      "2022-01-06 20:03:17,874 fedbiomed INFO - log from: node_30bcc00b-f402-4658-982c-6642390eb80a / INFO - Train Epoch: 1 [1800/16954 (11%)]\tLoss: 0.163051\n",
      "2022-01-06 20:03:26,610 fedbiomed INFO - log from: node_b4eb76b3-54fe-42e4-8f01-501a4f1a179a / INFO - Train Epoch: 1 [2000/18000 (11%)]\tLoss: 0.256562\n",
      "2022-01-06 20:03:50,038 fedbiomed INFO - log from: node_0341dbee-4250-4f28-8f05-fc0a98bde6b7 / INFO - Train Epoch: 1 [2000/18000 (11%)]\tLoss: 0.252161\n",
      "2022-01-06 20:03:56,061 fedbiomed INFO - log from: node_30bcc00b-f402-4658-982c-6642390eb80a / INFO - Train Epoch: 1 [2000/16954 (12%)]\tLoss: 0.346309\n",
      "2022-01-06 20:04:04,452 fedbiomed INFO - log from: node_b4eb76b3-54fe-42e4-8f01-501a4f1a179a / INFO - Train Epoch: 1 [2200/18000 (12%)]\tLoss: 0.243562\n",
      "2022-01-06 20:04:21,342 fedbiomed INFO - log from: node_0341dbee-4250-4f28-8f05-fc0a98bde6b7 / INFO - Train Epoch: 1 [2200/18000 (12%)]\tLoss: 0.257677\n",
      "2022-01-06 20:04:30,441 fedbiomed INFO - log from: node_30bcc00b-f402-4658-982c-6642390eb80a / INFO - Train Epoch: 1 [2200/16954 (13%)]\tLoss: 0.321157\n",
      "2022-01-06 20:04:41,919 fedbiomed INFO - log from: node_b4eb76b3-54fe-42e4-8f01-501a4f1a179a / INFO - Train Epoch: 1 [2400/18000 (13%)]\tLoss: 0.198584\n",
      "2022-01-06 20:05:01,178 fedbiomed INFO - log from: node_0341dbee-4250-4f28-8f05-fc0a98bde6b7 / INFO - Train Epoch: 1 [2400/18000 (13%)]\tLoss: 0.167746\n",
      "2022-01-06 20:05:05,206 fedbiomed INFO - log from: node_30bcc00b-f402-4658-982c-6642390eb80a / INFO - Train Epoch: 1 [2400/16954 (14%)]\tLoss: 0.237048\n",
      "2022-01-06 20:05:19,308 fedbiomed INFO - log from: node_b4eb76b3-54fe-42e4-8f01-501a4f1a179a / INFO - Train Epoch: 1 [2600/18000 (14%)]\tLoss: 0.110998\n",
      "2022-01-06 20:05:38,905 fedbiomed INFO - log from: node_30bcc00b-f402-4658-982c-6642390eb80a / INFO - Train Epoch: 1 [2600/16954 (15%)]\tLoss: 0.178307\n",
      "2022-01-06 20:05:44,642 fedbiomed INFO - log from: node_0341dbee-4250-4f28-8f05-fc0a98bde6b7 / INFO - Train Epoch: 1 [2600/18000 (14%)]\tLoss: 0.468108\n",
      "2022-01-06 20:05:55,783 fedbiomed INFO - log from: node_b4eb76b3-54fe-42e4-8f01-501a4f1a179a / INFO - Train Epoch: 1 [2800/18000 (16%)]\tLoss: 0.132719\n",
      "2022-01-06 20:06:13,030 fedbiomed INFO - log from: node_30bcc00b-f402-4658-982c-6642390eb80a / INFO - Train Epoch: 1 [2800/16954 (17%)]\tLoss: 0.342210\n",
      "2022-01-06 20:06:15,857 fedbiomed INFO - log from: node_0341dbee-4250-4f28-8f05-fc0a98bde6b7 / INFO - Train Epoch: 1 [2800/18000 (16%)]\tLoss: 0.202799\n",
      "2022-01-06 20:06:31,426 fedbiomed INFO - log from: node_b4eb76b3-54fe-42e4-8f01-501a4f1a179a / INFO - Train Epoch: 1 [3000/18000 (17%)]\tLoss: 0.389673\n",
      "2022-01-06 20:06:51,668 fedbiomed INFO - log from: node_0341dbee-4250-4f28-8f05-fc0a98bde6b7 / INFO - Train Epoch: 1 [3000/18000 (17%)]\tLoss: 0.225911\n",
      "2022-01-06 20:06:53,089 fedbiomed INFO - log from: node_30bcc00b-f402-4658-982c-6642390eb80a / INFO - Train Epoch: 1 [3000/16954 (18%)]\tLoss: 0.195284\n",
      "2022-01-06 20:07:04,282 fedbiomed INFO - log from: node_b4eb76b3-54fe-42e4-8f01-501a4f1a179a / INFO - Train Epoch: 1 [3200/18000 (18%)]\tLoss: 0.224319\n",
      "2022-01-06 20:07:28,166 fedbiomed INFO - log from: node_0341dbee-4250-4f28-8f05-fc0a98bde6b7 / INFO - Train Epoch: 1 [3200/18000 (18%)]\tLoss: 0.374555\n",
      "2022-01-06 20:07:33,986 fedbiomed INFO - log from: node_30bcc00b-f402-4658-982c-6642390eb80a / INFO - Train Epoch: 1 [3200/16954 (19%)]\tLoss: 0.171254\n",
      "2022-01-06 20:07:42,478 fedbiomed INFO - log from: node_b4eb76b3-54fe-42e4-8f01-501a4f1a179a / INFO - Train Epoch: 1 [3400/18000 (19%)]\tLoss: 0.246958\n",
      "2022-01-06 20:08:06,401 fedbiomed INFO - log from: node_0341dbee-4250-4f28-8f05-fc0a98bde6b7 / INFO - Train Epoch: 1 [3400/18000 (19%)]\tLoss: 0.233052\n",
      "2022-01-06 20:08:11,391 fedbiomed INFO - log from: node_30bcc00b-f402-4658-982c-6642390eb80a / INFO - Train Epoch: 1 [3400/16954 (20%)]\tLoss: 0.631687\n",
      "2022-01-06 20:08:12,540 fedbiomed INFO - log from: node_b4eb76b3-54fe-42e4-8f01-501a4f1a179a / INFO - Train Epoch: 1 [3600/18000 (20%)]\tLoss: 0.374923\n",
      "2022-01-06 20:08:47,397 fedbiomed INFO - log from: node_b4eb76b3-54fe-42e4-8f01-501a4f1a179a / INFO - Train Epoch: 1 [3800/18000 (21%)]\tLoss: 0.322148\n",
      "2022-01-06 20:08:48,670 fedbiomed INFO - log from: node_0341dbee-4250-4f28-8f05-fc0a98bde6b7 / INFO - Train Epoch: 1 [3600/18000 (20%)]\tLoss: 0.184228\n",
      "2022-01-06 20:08:48,770 fedbiomed INFO - log from: node_30bcc00b-f402-4658-982c-6642390eb80a / INFO - Train Epoch: 1 [3600/16954 (21%)]\tLoss: 0.202503\n",
      "2022-01-06 20:09:20,033 fedbiomed INFO - log from: node_b4eb76b3-54fe-42e4-8f01-501a4f1a179a / INFO - Train Epoch: 1 [4000/18000 (22%)]\tLoss: 0.174984\n",
      "2022-01-06 20:09:24,871 fedbiomed INFO - log from: node_0341dbee-4250-4f28-8f05-fc0a98bde6b7 / INFO - Train Epoch: 1 [3800/18000 (21%)]\tLoss: 0.305524\n",
      "2022-01-06 20:09:32,768 fedbiomed INFO - log from: node_30bcc00b-f402-4658-982c-6642390eb80a / INFO - Train Epoch: 1 [3800/16954 (22%)]\tLoss: 0.118295\n",
      "2022-01-06 20:09:56,321 fedbiomed INFO - log from: node_b4eb76b3-54fe-42e4-8f01-501a4f1a179a / INFO - Train Epoch: 1 [4200/18000 (23%)]\tLoss: 0.176619\n",
      "2022-01-06 20:09:58,803 fedbiomed INFO - log from: node_0341dbee-4250-4f28-8f05-fc0a98bde6b7 / INFO - Train Epoch: 1 [4000/18000 (22%)]\tLoss: 0.315567\n",
      "2022-01-06 20:10:07,763 fedbiomed INFO - log from: node_30bcc00b-f402-4658-982c-6642390eb80a / INFO - Train Epoch: 1 [4000/16954 (24%)]\tLoss: 0.165944\n",
      "2022-01-06 20:10:33,653 fedbiomed INFO - log from: node_0341dbee-4250-4f28-8f05-fc0a98bde6b7 / INFO - Train Epoch: 1 [4200/18000 (23%)]\tLoss: 0.163470\n",
      "2022-01-06 20:10:35,266 fedbiomed INFO - log from: node_b4eb76b3-54fe-42e4-8f01-501a4f1a179a / INFO - Train Epoch: 1 [4400/18000 (24%)]\tLoss: 0.170499\n",
      "2022-01-06 20:10:47,515 fedbiomed INFO - log from: node_30bcc00b-f402-4658-982c-6642390eb80a / INFO - Train Epoch: 1 [4200/16954 (25%)]\tLoss: 0.274673\n",
      "2022-01-06 20:11:11,108 fedbiomed INFO - log from: node_0341dbee-4250-4f28-8f05-fc0a98bde6b7 / INFO - Train Epoch: 1 [4400/18000 (24%)]\tLoss: 0.490640\n",
      "2022-01-06 20:11:15,027 fedbiomed INFO - log from: node_b4eb76b3-54fe-42e4-8f01-501a4f1a179a / INFO - Train Epoch: 1 [4600/18000 (26%)]\tLoss: 0.181041\n",
      "2022-01-06 20:11:24,743 fedbiomed INFO - log from: node_30bcc00b-f402-4658-982c-6642390eb80a / INFO - Train Epoch: 1 [4400/16954 (26%)]\tLoss: 0.284060\n"
     ]
    },
    {
     "name": "stderr",
     "output_type": "stream",
     "text": [
      "2022-01-06 20:11:45,342 fedbiomed INFO - log from: node_0341dbee-4250-4f28-8f05-fc0a98bde6b7 / INFO - Train Epoch: 1 [4600/18000 (26%)]\tLoss: 0.206550\n",
      "2022-01-06 20:11:52,177 fedbiomed INFO - log from: node_b4eb76b3-54fe-42e4-8f01-501a4f1a179a / INFO - Train Epoch: 1 [4800/18000 (27%)]\tLoss: 0.218345\n",
      "2022-01-06 20:12:08,303 fedbiomed INFO - log from: node_30bcc00b-f402-4658-982c-6642390eb80a / INFO - Train Epoch: 1 [4600/16954 (27%)]\tLoss: 0.325356\n",
      "2022-01-06 20:12:19,334 fedbiomed INFO - log from: node_0341dbee-4250-4f28-8f05-fc0a98bde6b7 / INFO - Train Epoch: 1 [4800/18000 (27%)]\tLoss: 0.215443\n",
      "2022-01-06 20:12:27,861 fedbiomed INFO - log from: node_b4eb76b3-54fe-42e4-8f01-501a4f1a179a / DEBUG - Reached 250 batches for this epoch, ignore remaining data\n",
      "2022-01-06 20:12:28,790 fedbiomed INFO - log from: node_b4eb76b3-54fe-42e4-8f01-501a4f1a179a / INFO - results uploaded successfully \n",
      "2022-01-06 20:12:32,788 fedbiomed INFO - log from: node_30bcc00b-f402-4658-982c-6642390eb80a / INFO - Train Epoch: 1 [4800/16954 (28%)]\tLoss: 0.287866\n",
      "2022-01-06 20:12:34,989 fedbiomed INFO - log from: node_0341dbee-4250-4f28-8f05-fc0a98bde6b7 / DEBUG - Reached 250 batches for this epoch, ignore remaining data\n",
      "2022-01-06 20:12:35,730 fedbiomed INFO - Downloading model params after training on node_b4eb76b3-54fe-42e4-8f01-501a4f1a179a - from http://localhost:8844/media/uploads/2022/01/06/node_params_efa9a69b-0201-44e1-9f22-de9530b83f49.pt\n",
      "2022-01-06 20:12:36,099 fedbiomed INFO - log from: node_0341dbee-4250-4f28-8f05-fc0a98bde6b7 / INFO - results uploaded successfully \n",
      "2022-01-06 20:12:39,168 fedbiomed INFO - log from: node_30bcc00b-f402-4658-982c-6642390eb80a / DEBUG - Reached 250 batches for this epoch, ignore remaining data\n",
      "2022-01-06 20:12:39,818 fedbiomed INFO - log from: node_30bcc00b-f402-4658-982c-6642390eb80a / INFO - results uploaded successfully \n",
      "2022-01-06 20:12:45,905 fedbiomed INFO - Downloading model params after training on node_0341dbee-4250-4f28-8f05-fc0a98bde6b7 - from http://localhost:8844/media/uploads/2022/01/06/node_params_5f9e039c-4e4e-4d10-b6ee-390760826c35.pt\n",
      "2022-01-06 20:12:46,002 fedbiomed INFO - Downloading model params after training on node_30bcc00b-f402-4658-982c-6642390eb80a - from http://localhost:8844/media/uploads/2022/01/06/node_params_b3acb92e-0df4-4b1b-abd7-dd98af1069b8.pt\n",
      "2022-01-06 20:12:46,082 fedbiomed INFO - Nodes that successfully reply in round 1 ['node_b4eb76b3-54fe-42e4-8f01-501a4f1a179a', 'node_0341dbee-4250-4f28-8f05-fc0a98bde6b7', 'node_30bcc00b-f402-4658-982c-6642390eb80a']\n",
      "2022-01-06 20:12:46,770 fedbiomed INFO - Saved aggregated params for round 1 in /home/ybouilla/fedbiomed/var/experiments/Experiment_0000/aggregated_params_6d142ddc-0a8f-4ca3-9c94-c790879157f4.pt\n",
      "2022-01-06 20:12:46,770 fedbiomed INFO - Sampled nodes in round 2 ['node_b4eb76b3-54fe-42e4-8f01-501a4f1a179a', 'node_0341dbee-4250-4f28-8f05-fc0a98bde6b7', 'node_30bcc00b-f402-4658-982c-6642390eb80a']\n",
      "2022-01-06 20:12:46,771 fedbiomed INFO - Send message to node node_b4eb76b3-54fe-42e4-8f01-501a4f1a179a - {'researcher_id': 'researcher_ccf4bfd5-a09e-4e86-b698-d656c390b98f', 'job_id': '2f5ac007-c792-442b-a7a7-4cc24ea9a186', 'training_args': {'batch_size': 20, 'lr': 1e-05, 'epochs': 1, 'dry_run': False, 'batch_maxnum': 250}, 'model_args': {'num_class': 6}, 'command': 'train', 'model_url': 'http://localhost:8844/media/uploads/2022/01/06/my_model_3741fb7c-a0e8-48fe-82de-48ef82904df1.py', 'params_url': 'http://localhost:8844/media/uploads/2022/01/06/aggregated_params_6d142ddc-0a8f-4ca3-9c94-c790879157f4.pt', 'model_class': 'MyTrainingPlan', 'training_data': {'node_b4eb76b3-54fe-42e4-8f01-501a4f1a179a': ['dataset_9088096e-ff15-4339-ada6-65974ba24a1c']}}\n",
      "2022-01-06 20:12:46,772 fedbiomed DEBUG - researcher_ccf4bfd5-a09e-4e86-b698-d656c390b98f\n",
      "2022-01-06 20:12:46,773 fedbiomed INFO - Send message to node node_0341dbee-4250-4f28-8f05-fc0a98bde6b7 - {'researcher_id': 'researcher_ccf4bfd5-a09e-4e86-b698-d656c390b98f', 'job_id': '2f5ac007-c792-442b-a7a7-4cc24ea9a186', 'training_args': {'batch_size': 20, 'lr': 1e-05, 'epochs': 1, 'dry_run': False, 'batch_maxnum': 250}, 'model_args': {'num_class': 6}, 'command': 'train', 'model_url': 'http://localhost:8844/media/uploads/2022/01/06/my_model_3741fb7c-a0e8-48fe-82de-48ef82904df1.py', 'params_url': 'http://localhost:8844/media/uploads/2022/01/06/aggregated_params_6d142ddc-0a8f-4ca3-9c94-c790879157f4.pt', 'model_class': 'MyTrainingPlan', 'training_data': {'node_0341dbee-4250-4f28-8f05-fc0a98bde6b7': ['dataset_32496af1-6482-47ce-90d6-b839ac1e43ab']}}\n",
      "2022-01-06 20:12:46,773 fedbiomed DEBUG - researcher_ccf4bfd5-a09e-4e86-b698-d656c390b98f\n",
      "2022-01-06 20:12:46,774 fedbiomed INFO - Send message to node node_30bcc00b-f402-4658-982c-6642390eb80a - {'researcher_id': 'researcher_ccf4bfd5-a09e-4e86-b698-d656c390b98f', 'job_id': '2f5ac007-c792-442b-a7a7-4cc24ea9a186', 'training_args': {'batch_size': 20, 'lr': 1e-05, 'epochs': 1, 'dry_run': False, 'batch_maxnum': 250}, 'model_args': {'num_class': 6}, 'command': 'train', 'model_url': 'http://localhost:8844/media/uploads/2022/01/06/my_model_3741fb7c-a0e8-48fe-82de-48ef82904df1.py', 'params_url': 'http://localhost:8844/media/uploads/2022/01/06/aggregated_params_6d142ddc-0a8f-4ca3-9c94-c790879157f4.pt', 'model_class': 'MyTrainingPlan', 'training_data': {'node_30bcc00b-f402-4658-982c-6642390eb80a': ['dataset_1457517a-ff70-4d89-95d6-e5e16208e917']}}\n",
      "2022-01-06 20:12:46,775 fedbiomed DEBUG - researcher_ccf4bfd5-a09e-4e86-b698-d656c390b98f\n",
      "2022-01-06 20:12:46,777 fedbiomed INFO - log from: node_b4eb76b3-54fe-42e4-8f01-501a4f1a179a / DEBUG - Message received: {'researcher_id': 'researcher_ccf4bfd5-a09e-4e86-b698-d656c390b98f', 'job_id': '2f5ac007-c792-442b-a7a7-4cc24ea9a186', 'training_args': {'batch_size': 20, 'lr': 1e-05, 'epochs': 1, 'dry_run': False, 'batch_maxnum': 250}, 'model_args': {'num_class': 6}, 'command': 'train', 'model_url': 'http://localhost:8844/media/uploads/2022/01/06/my_model_3741fb7c-a0e8-48fe-82de-48ef82904df1.py', 'params_url': 'http://localhost:8844/media/uploads/2022/01/06/aggregated_params_6d142ddc-0a8f-4ca3-9c94-c790879157f4.pt', 'model_class': 'MyTrainingPlan', 'training_data': {'node_b4eb76b3-54fe-42e4-8f01-501a4f1a179a': ['dataset_9088096e-ff15-4339-ada6-65974ba24a1c']}}\n",
      "2022-01-06 20:12:46,777 fedbiomed INFO - log from: node_b4eb76b3-54fe-42e4-8f01-501a4f1a179a / DEBUG - [TASKS QUEUE] Item:{'researcher_id': 'researcher_ccf4bfd5-a09e-4e86-b698-d656c390b98f', 'job_id': '2f5ac007-c792-442b-a7a7-4cc24ea9a186', 'params_url': 'http://localhost:8844/media/uploads/2022/01/06/aggregated_params_6d142ddc-0a8f-4ca3-9c94-c790879157f4.pt', 'training_args': {'batch_size': 20, 'lr': 1e-05, 'epochs': 1, 'dry_run': False, 'batch_maxnum': 250}, 'training_data': {'node_b4eb76b3-54fe-42e4-8f01-501a4f1a179a': ['dataset_9088096e-ff15-4339-ada6-65974ba24a1c']}, 'model_args': {'num_class': 6}, 'model_url': 'http://localhost:8844/media/uploads/2022/01/06/my_model_3741fb7c-a0e8-48fe-82de-48ef82904df1.py', 'model_class': 'MyTrainingPlan', 'command': 'train'}\n",
      "2022-01-06 20:12:46,778 fedbiomed INFO - log from: node_0341dbee-4250-4f28-8f05-fc0a98bde6b7 / DEBUG - Message received: {'researcher_id': 'researcher_ccf4bfd5-a09e-4e86-b698-d656c390b98f', 'job_id': '2f5ac007-c792-442b-a7a7-4cc24ea9a186', 'training_args': {'batch_size': 20, 'lr': 1e-05, 'epochs': 1, 'dry_run': False, 'batch_maxnum': 250}, 'model_args': {'num_class': 6}, 'command': 'train', 'model_url': 'http://localhost:8844/media/uploads/2022/01/06/my_model_3741fb7c-a0e8-48fe-82de-48ef82904df1.py', 'params_url': 'http://localhost:8844/media/uploads/2022/01/06/aggregated_params_6d142ddc-0a8f-4ca3-9c94-c790879157f4.pt', 'model_class': 'MyTrainingPlan', 'training_data': {'node_0341dbee-4250-4f28-8f05-fc0a98bde6b7': ['dataset_32496af1-6482-47ce-90d6-b839ac1e43ab']}}\n",
      "2022-01-06 20:12:46,779 fedbiomed INFO - log from: node_0341dbee-4250-4f28-8f05-fc0a98bde6b7 / DEBUG - [TASKS QUEUE] Item:{'researcher_id': 'researcher_ccf4bfd5-a09e-4e86-b698-d656c390b98f', 'job_id': '2f5ac007-c792-442b-a7a7-4cc24ea9a186', 'params_url': 'http://localhost:8844/media/uploads/2022/01/06/aggregated_params_6d142ddc-0a8f-4ca3-9c94-c790879157f4.pt', 'training_args': {'batch_size': 20, 'lr': 1e-05, 'epochs': 1, 'dry_run': False, 'batch_maxnum': 250}, 'training_data': {'node_0341dbee-4250-4f28-8f05-fc0a98bde6b7': ['dataset_32496af1-6482-47ce-90d6-b839ac1e43ab']}, 'model_args': {'num_class': 6}, 'model_url': 'http://localhost:8844/media/uploads/2022/01/06/my_model_3741fb7c-a0e8-48fe-82de-48ef82904df1.py', 'model_class': 'MyTrainingPlan', 'command': 'train'}\n"
     ]
    },
    {
     "name": "stderr",
     "output_type": "stream",
     "text": [
      "2022-01-06 20:12:46,782 fedbiomed INFO - log from: node_30bcc00b-f402-4658-982c-6642390eb80a / DEBUG - Message received: {'researcher_id': 'researcher_ccf4bfd5-a09e-4e86-b698-d656c390b98f', 'job_id': '2f5ac007-c792-442b-a7a7-4cc24ea9a186', 'training_args': {'batch_size': 20, 'lr': 1e-05, 'epochs': 1, 'dry_run': False, 'batch_maxnum': 250}, 'model_args': {'num_class': 6}, 'command': 'train', 'model_url': 'http://localhost:8844/media/uploads/2022/01/06/my_model_3741fb7c-a0e8-48fe-82de-48ef82904df1.py', 'params_url': 'http://localhost:8844/media/uploads/2022/01/06/aggregated_params_6d142ddc-0a8f-4ca3-9c94-c790879157f4.pt', 'model_class': 'MyTrainingPlan', 'training_data': {'node_30bcc00b-f402-4658-982c-6642390eb80a': ['dataset_1457517a-ff70-4d89-95d6-e5e16208e917']}}\n",
      "2022-01-06 20:12:46,820 fedbiomed INFO - log from: node_30bcc00b-f402-4658-982c-6642390eb80a / DEBUG - [TASKS QUEUE] Item:{'researcher_id': 'researcher_ccf4bfd5-a09e-4e86-b698-d656c390b98f', 'job_id': '2f5ac007-c792-442b-a7a7-4cc24ea9a186', 'params_url': 'http://localhost:8844/media/uploads/2022/01/06/aggregated_params_6d142ddc-0a8f-4ca3-9c94-c790879157f4.pt', 'training_args': {'batch_size': 20, 'lr': 1e-05, 'epochs': 1, 'dry_run': False, 'batch_maxnum': 250}, 'training_data': {'node_30bcc00b-f402-4658-982c-6642390eb80a': ['dataset_1457517a-ff70-4d89-95d6-e5e16208e917']}, 'model_args': {'num_class': 6}, 'model_url': 'http://localhost:8844/media/uploads/2022/01/06/my_model_3741fb7c-a0e8-48fe-82de-48ef82904df1.py', 'model_class': 'MyTrainingPlan', 'command': 'train'}\n",
      "2022-01-06 20:12:47,148 fedbiomed INFO - log from: node_b4eb76b3-54fe-42e4-8f01-501a4f1a179a / INFO - {'monitor': <fedbiomed.node.history_monitor.HistoryMonitor object at 0x7f7af3ea1cd0>, 'batch_size': 20, 'lr': 1e-05, 'epochs': 1, 'dry_run': False, 'batch_maxnum': 250}\n",
      "2022-01-06 20:12:47,159 fedbiomed INFO - log from: node_b4eb76b3-54fe-42e4-8f01-501a4f1a179a / DEBUG - Dataset_path/home/ybouilla/fedbiomed/notebooks/data/mednist/client_2\n",
      "2022-01-06 20:12:47,223 fedbiomed INFO - log from: node_0341dbee-4250-4f28-8f05-fc0a98bde6b7 / INFO - {'monitor': <fedbiomed.node.history_monitor.HistoryMonitor object at 0x7f854d534d60>, 'batch_size': 20, 'lr': 1e-05, 'epochs': 1, 'dry_run': False, 'batch_maxnum': 250}\n",
      "2022-01-06 20:12:47,225 fedbiomed INFO - log from: node_0341dbee-4250-4f28-8f05-fc0a98bde6b7 / DEBUG - Dataset_path/home/ybouilla/fedbiomed/notebooks/data/mednist/client_1\n",
      "2022-01-06 20:12:47,407 fedbiomed INFO - log from: node_30bcc00b-f402-4658-982c-6642390eb80a / INFO - {'monitor': <fedbiomed.node.history_monitor.HistoryMonitor object at 0x7f6b06d8c940>, 'batch_size': 20, 'lr': 1e-05, 'epochs': 1, 'dry_run': False, 'batch_maxnum': 250}\n",
      "2022-01-06 20:12:47,410 fedbiomed INFO - log from: node_30bcc00b-f402-4658-982c-6642390eb80a / DEBUG - Dataset_path/home/ybouilla/fedbiomed/notebooks/data/mednist/client_3\n",
      "2022-01-06 20:12:48,902 fedbiomed INFO - log from: node_30bcc00b-f402-4658-982c-6642390eb80a / INFO - Train Epoch: 1 [0/16954 (0%)]\tLoss: 0.304824\n",
      "2022-01-06 20:12:50,053 fedbiomed INFO - log from: node_b4eb76b3-54fe-42e4-8f01-501a4f1a179a / INFO - Train Epoch: 1 [0/18000 (0%)]\tLoss: 0.146284\n",
      "2022-01-06 20:12:50,126 fedbiomed INFO - log from: node_0341dbee-4250-4f28-8f05-fc0a98bde6b7 / INFO - Train Epoch: 1 [0/18000 (0%)]\tLoss: 0.203358\n",
      "2022-01-06 20:13:22,774 fedbiomed INFO - log from: node_30bcc00b-f402-4658-982c-6642390eb80a / INFO - Train Epoch: 1 [200/16954 (1%)]\tLoss: 0.106594\n",
      "2022-01-06 20:13:23,776 fedbiomed INFO - log from: node_0341dbee-4250-4f28-8f05-fc0a98bde6b7 / INFO - Train Epoch: 1 [200/18000 (1%)]\tLoss: 0.077680\n",
      "2022-01-06 20:13:24,429 fedbiomed INFO - log from: node_b4eb76b3-54fe-42e4-8f01-501a4f1a179a / INFO - Train Epoch: 1 [200/18000 (1%)]\tLoss: 0.280829\n",
      "2022-01-06 20:13:59,004 fedbiomed INFO - log from: node_30bcc00b-f402-4658-982c-6642390eb80a / INFO - Train Epoch: 1 [400/16954 (2%)]\tLoss: 0.496907\n",
      "2022-01-06 20:14:01,833 fedbiomed INFO - log from: node_b4eb76b3-54fe-42e4-8f01-501a4f1a179a / INFO - Train Epoch: 1 [400/18000 (2%)]\tLoss: 0.206404\n",
      "2022-01-06 20:14:13,060 fedbiomed INFO - log from: node_0341dbee-4250-4f28-8f05-fc0a98bde6b7 / INFO - Train Epoch: 1 [400/18000 (2%)]\tLoss: 0.133943\n",
      "2022-01-06 20:14:35,724 fedbiomed INFO - log from: node_b4eb76b3-54fe-42e4-8f01-501a4f1a179a / INFO - Train Epoch: 1 [600/18000 (3%)]\tLoss: 0.257295\n",
      "2022-01-06 20:14:35,839 fedbiomed INFO - log from: node_30bcc00b-f402-4658-982c-6642390eb80a / INFO - Train Epoch: 1 [600/16954 (4%)]\tLoss: 0.238833\n",
      "2022-01-06 20:14:53,101 fedbiomed INFO - log from: node_0341dbee-4250-4f28-8f05-fc0a98bde6b7 / INFO - Train Epoch: 1 [600/18000 (3%)]\tLoss: 0.281658\n",
      "2022-01-06 20:15:09,563 fedbiomed INFO - log from: node_30bcc00b-f402-4658-982c-6642390eb80a / INFO - Train Epoch: 1 [800/16954 (5%)]\tLoss: 0.157698\n",
      "2022-01-06 20:15:16,537 fedbiomed INFO - log from: node_b4eb76b3-54fe-42e4-8f01-501a4f1a179a / INFO - Train Epoch: 1 [800/18000 (4%)]\tLoss: 0.186259\n",
      "2022-01-06 20:15:25,432 fedbiomed INFO - log from: node_0341dbee-4250-4f28-8f05-fc0a98bde6b7 / INFO - Train Epoch: 1 [800/18000 (4%)]\tLoss: 0.116629\n",
      "2022-01-06 20:15:46,831 fedbiomed INFO - log from: node_30bcc00b-f402-4658-982c-6642390eb80a / INFO - Train Epoch: 1 [1000/16954 (6%)]\tLoss: 0.100119\n",
      "2022-01-06 20:15:56,488 fedbiomed INFO - log from: node_b4eb76b3-54fe-42e4-8f01-501a4f1a179a / INFO - Train Epoch: 1 [1000/18000 (6%)]\tLoss: 0.193438\n",
      "2022-01-06 20:16:05,510 fedbiomed INFO - log from: node_0341dbee-4250-4f28-8f05-fc0a98bde6b7 / INFO - Train Epoch: 1 [1000/18000 (6%)]\tLoss: 0.105474\n",
      "2022-01-06 20:16:19,764 fedbiomed INFO - log from: node_30bcc00b-f402-4658-982c-6642390eb80a / INFO - Train Epoch: 1 [1200/16954 (7%)]\tLoss: 0.246068\n",
      "2022-01-06 20:16:28,750 fedbiomed INFO - log from: node_b4eb76b3-54fe-42e4-8f01-501a4f1a179a / INFO - Train Epoch: 1 [1200/18000 (7%)]\tLoss: 0.123529\n",
      "2022-01-06 20:16:44,616 fedbiomed INFO - log from: node_0341dbee-4250-4f28-8f05-fc0a98bde6b7 / INFO - Train Epoch: 1 [1200/18000 (7%)]\tLoss: 0.190733\n",
      "2022-01-06 20:16:55,816 fedbiomed INFO - log from: node_30bcc00b-f402-4658-982c-6642390eb80a / INFO - Train Epoch: 1 [1400/16954 (8%)]\tLoss: 0.246574\n",
      "2022-01-06 20:17:08,597 fedbiomed INFO - log from: node_b4eb76b3-54fe-42e4-8f01-501a4f1a179a / INFO - Train Epoch: 1 [1400/18000 (8%)]\tLoss: 0.129444\n",
      "2022-01-06 20:17:23,939 fedbiomed INFO - log from: node_0341dbee-4250-4f28-8f05-fc0a98bde6b7 / INFO - Train Epoch: 1 [1400/18000 (8%)]\tLoss: 0.105699\n",
      "2022-01-06 20:17:32,990 fedbiomed INFO - log from: node_30bcc00b-f402-4658-982c-6642390eb80a / INFO - Train Epoch: 1 [1600/16954 (9%)]\tLoss: 0.425381\n",
      "2022-01-06 20:17:45,371 fedbiomed INFO - log from: node_b4eb76b3-54fe-42e4-8f01-501a4f1a179a / INFO - Train Epoch: 1 [1600/18000 (9%)]\tLoss: 0.137424\n",
      "2022-01-06 20:17:54,905 fedbiomed INFO - log from: node_0341dbee-4250-4f28-8f05-fc0a98bde6b7 / INFO - Train Epoch: 1 [1600/18000 (9%)]\tLoss: 0.246604\n",
      "2022-01-06 20:18:14,760 fedbiomed INFO - log from: node_30bcc00b-f402-4658-982c-6642390eb80a / INFO - Train Epoch: 1 [1800/16954 (11%)]\tLoss: 0.198621\n",
      "2022-01-06 20:18:17,287 fedbiomed INFO - log from: node_b4eb76b3-54fe-42e4-8f01-501a4f1a179a / INFO - Train Epoch: 1 [1800/18000 (10%)]\tLoss: 0.148204\n",
      "2022-01-06 20:18:31,470 fedbiomed INFO - log from: node_0341dbee-4250-4f28-8f05-fc0a98bde6b7 / INFO - Train Epoch: 1 [1800/18000 (10%)]\tLoss: 0.478077\n",
      "2022-01-06 20:18:47,297 fedbiomed INFO - log from: node_30bcc00b-f402-4658-982c-6642390eb80a / INFO - Train Epoch: 1 [2000/16954 (12%)]\tLoss: 0.132535\n",
      "2022-01-06 20:18:50,108 fedbiomed INFO - log from: node_b4eb76b3-54fe-42e4-8f01-501a4f1a179a / INFO - Train Epoch: 1 [2000/18000 (11%)]\tLoss: 0.067862\n",
      "2022-01-06 20:19:08,960 fedbiomed INFO - log from: node_0341dbee-4250-4f28-8f05-fc0a98bde6b7 / INFO - Train Epoch: 1 [2000/18000 (11%)]\tLoss: 0.101014\n",
      "2022-01-06 20:19:23,835 fedbiomed INFO - log from: node_b4eb76b3-54fe-42e4-8f01-501a4f1a179a / INFO - Train Epoch: 1 [2200/18000 (12%)]\tLoss: 0.066636\n",
      "2022-01-06 20:19:25,808 fedbiomed INFO - log from: node_30bcc00b-f402-4658-982c-6642390eb80a / INFO - Train Epoch: 1 [2200/16954 (13%)]\tLoss: 0.117628\n",
      "2022-01-06 20:19:42,494 fedbiomed INFO - log from: node_0341dbee-4250-4f28-8f05-fc0a98bde6b7 / INFO - Train Epoch: 1 [2200/18000 (12%)]\tLoss: 0.174244\n"
     ]
    },
    {
     "name": "stderr",
     "output_type": "stream",
     "text": [
      "2022-01-06 20:19:56,105 fedbiomed INFO - log from: node_b4eb76b3-54fe-42e4-8f01-501a4f1a179a / INFO - Train Epoch: 1 [2400/18000 (13%)]\tLoss: 0.079549\n",
      "2022-01-06 20:20:05,931 fedbiomed INFO - log from: node_30bcc00b-f402-4658-982c-6642390eb80a / INFO - Train Epoch: 1 [2400/16954 (14%)]\tLoss: 0.190527\n",
      "2022-01-06 20:20:17,857 fedbiomed INFO - log from: node_0341dbee-4250-4f28-8f05-fc0a98bde6b7 / INFO - Train Epoch: 1 [2400/18000 (13%)]\tLoss: 0.137602\n",
      "2022-01-06 20:20:36,363 fedbiomed INFO - log from: node_b4eb76b3-54fe-42e4-8f01-501a4f1a179a / INFO - Train Epoch: 1 [2600/18000 (14%)]\tLoss: 0.097215\n",
      "2022-01-06 20:20:43,046 fedbiomed INFO - log from: node_30bcc00b-f402-4658-982c-6642390eb80a / INFO - Train Epoch: 1 [2600/16954 (15%)]\tLoss: 0.134369\n",
      "2022-01-06 20:20:51,721 fedbiomed INFO - log from: node_0341dbee-4250-4f28-8f05-fc0a98bde6b7 / INFO - Train Epoch: 1 [2600/18000 (14%)]\tLoss: 0.195798\n",
      "2022-01-06 20:21:16,440 fedbiomed INFO - log from: node_b4eb76b3-54fe-42e4-8f01-501a4f1a179a / INFO - Train Epoch: 1 [2800/18000 (16%)]\tLoss: 0.286148\n",
      "2022-01-06 20:21:19,131 fedbiomed INFO - log from: node_30bcc00b-f402-4658-982c-6642390eb80a / INFO - Train Epoch: 1 [2800/16954 (17%)]\tLoss: 0.240342\n",
      "2022-01-06 20:21:27,972 fedbiomed INFO - log from: node_0341dbee-4250-4f28-8f05-fc0a98bde6b7 / INFO - Train Epoch: 1 [2800/18000 (16%)]\tLoss: 0.108399\n",
      "2022-01-06 20:21:54,254 fedbiomed INFO - log from: node_30bcc00b-f402-4658-982c-6642390eb80a / INFO - Train Epoch: 1 [3000/16954 (18%)]\tLoss: 0.211254\n",
      "2022-01-06 20:21:57,177 fedbiomed INFO - log from: node_b4eb76b3-54fe-42e4-8f01-501a4f1a179a / INFO - Train Epoch: 1 [3000/18000 (17%)]\tLoss: 0.070960\n",
      "2022-01-06 20:22:09,947 fedbiomed INFO - log from: node_0341dbee-4250-4f28-8f05-fc0a98bde6b7 / INFO - Train Epoch: 1 [3000/18000 (17%)]\tLoss: 0.103803\n",
      "2022-01-06 20:22:30,241 fedbiomed INFO - log from: node_30bcc00b-f402-4658-982c-6642390eb80a / INFO - Train Epoch: 1 [3200/16954 (19%)]\tLoss: 0.239408\n",
      "2022-01-06 20:22:38,154 fedbiomed INFO - log from: node_b4eb76b3-54fe-42e4-8f01-501a4f1a179a / INFO - Train Epoch: 1 [3200/18000 (18%)]\tLoss: 0.055241\n",
      "2022-01-06 20:22:43,501 fedbiomed INFO - log from: node_0341dbee-4250-4f28-8f05-fc0a98bde6b7 / INFO - Train Epoch: 1 [3200/18000 (18%)]\tLoss: 0.092847\n",
      "2022-01-06 20:23:13,648 fedbiomed INFO - log from: node_30bcc00b-f402-4658-982c-6642390eb80a / INFO - Train Epoch: 1 [3400/16954 (20%)]\tLoss: 0.250523\n",
      "2022-01-06 20:23:14,495 fedbiomed INFO - log from: node_b4eb76b3-54fe-42e4-8f01-501a4f1a179a / INFO - Train Epoch: 1 [3400/18000 (19%)]\tLoss: 0.065165\n",
      "2022-01-06 20:23:17,056 fedbiomed INFO - log from: node_0341dbee-4250-4f28-8f05-fc0a98bde6b7 / INFO - Train Epoch: 1 [3400/18000 (19%)]\tLoss: 0.080077\n",
      "2022-01-06 20:23:50,661 fedbiomed INFO - log from: node_b4eb76b3-54fe-42e4-8f01-501a4f1a179a / INFO - Train Epoch: 1 [3600/18000 (20%)]\tLoss: 0.175836\n",
      "2022-01-06 20:23:51,009 fedbiomed INFO - log from: node_0341dbee-4250-4f28-8f05-fc0a98bde6b7 / INFO - Train Epoch: 1 [3600/18000 (20%)]\tLoss: 0.072465\n",
      "2022-01-06 20:23:53,868 fedbiomed INFO - log from: node_30bcc00b-f402-4658-982c-6642390eb80a / INFO - Train Epoch: 1 [3600/16954 (21%)]\tLoss: 0.147367\n",
      "2022-01-06 20:24:20,585 fedbiomed INFO - log from: node_b4eb76b3-54fe-42e4-8f01-501a4f1a179a / INFO - Train Epoch: 1 [3800/18000 (21%)]\tLoss: 0.177971\n",
      "2022-01-06 20:24:31,654 fedbiomed INFO - log from: node_0341dbee-4250-4f28-8f05-fc0a98bde6b7 / INFO - Train Epoch: 1 [3800/18000 (21%)]\tLoss: 0.152306\n",
      "2022-01-06 20:24:31,745 fedbiomed INFO - log from: node_30bcc00b-f402-4658-982c-6642390eb80a / INFO - Train Epoch: 1 [3800/16954 (22%)]\tLoss: 0.074149\n",
      "2022-01-06 20:24:57,533 fedbiomed INFO - log from: node_b4eb76b3-54fe-42e4-8f01-501a4f1a179a / INFO - Train Epoch: 1 [4000/18000 (22%)]\tLoss: 0.096149\n",
      "2022-01-06 20:25:09,330 fedbiomed INFO - log from: node_30bcc00b-f402-4658-982c-6642390eb80a / INFO - Train Epoch: 1 [4000/16954 (24%)]\tLoss: 0.096421\n",
      "2022-01-06 20:25:11,797 fedbiomed INFO - log from: node_0341dbee-4250-4f28-8f05-fc0a98bde6b7 / INFO - Train Epoch: 1 [4000/18000 (22%)]\tLoss: 0.069303\n",
      "2022-01-06 20:25:29,325 fedbiomed INFO - log from: node_b4eb76b3-54fe-42e4-8f01-501a4f1a179a / INFO - Train Epoch: 1 [4200/18000 (23%)]\tLoss: 0.090682\n",
      "2022-01-06 20:25:46,741 fedbiomed INFO - log from: node_30bcc00b-f402-4658-982c-6642390eb80a / INFO - Train Epoch: 1 [4200/16954 (25%)]\tLoss: 0.158253\n",
      "2022-01-06 20:25:51,937 fedbiomed INFO - log from: node_0341dbee-4250-4f28-8f05-fc0a98bde6b7 / INFO - Train Epoch: 1 [4200/18000 (23%)]\tLoss: 0.328130\n",
      "2022-01-06 20:26:04,763 fedbiomed INFO - log from: node_b4eb76b3-54fe-42e4-8f01-501a4f1a179a / INFO - Train Epoch: 1 [4400/18000 (24%)]\tLoss: 0.229129\n",
      "2022-01-06 20:26:18,760 fedbiomed INFO - log from: node_30bcc00b-f402-4658-982c-6642390eb80a / INFO - Train Epoch: 1 [4400/16954 (26%)]\tLoss: 0.112059\n",
      "2022-01-06 20:26:31,449 fedbiomed INFO - log from: node_0341dbee-4250-4f28-8f05-fc0a98bde6b7 / INFO - Train Epoch: 1 [4400/18000 (24%)]\tLoss: 0.098355\n",
      "2022-01-06 20:26:41,819 fedbiomed INFO - log from: node_b4eb76b3-54fe-42e4-8f01-501a4f1a179a / INFO - Train Epoch: 1 [4600/18000 (26%)]\tLoss: 0.129917\n",
      "2022-01-06 20:26:58,129 fedbiomed INFO - log from: node_30bcc00b-f402-4658-982c-6642390eb80a / INFO - Train Epoch: 1 [4600/16954 (27%)]\tLoss: 0.205219\n",
      "2022-01-06 20:27:04,754 fedbiomed INFO - log from: node_0341dbee-4250-4f28-8f05-fc0a98bde6b7 / INFO - Train Epoch: 1 [4600/18000 (26%)]\tLoss: 0.082702\n",
      "2022-01-06 20:27:15,260 fedbiomed INFO - log from: node_b4eb76b3-54fe-42e4-8f01-501a4f1a179a / INFO - Train Epoch: 1 [4800/18000 (27%)]\tLoss: 0.098620\n",
      "2022-01-06 20:27:33,221 fedbiomed INFO - log from: node_30bcc00b-f402-4658-982c-6642390eb80a / INFO - Train Epoch: 1 [4800/16954 (28%)]\tLoss: 0.215281\n",
      "2022-01-06 20:27:43,993 fedbiomed INFO - log from: node_0341dbee-4250-4f28-8f05-fc0a98bde6b7 / INFO - Train Epoch: 1 [4800/18000 (27%)]\tLoss: 0.062543\n",
      "2022-01-06 20:27:58,840 fedbiomed INFO - log from: node_b4eb76b3-54fe-42e4-8f01-501a4f1a179a / DEBUG - Reached 250 batches for this epoch, ignore remaining data\n",
      "2022-01-06 20:27:59,925 fedbiomed INFO - log from: node_b4eb76b3-54fe-42e4-8f01-501a4f1a179a / INFO - results uploaded successfully \n",
      "2022-01-06 20:28:01,994 fedbiomed INFO - log from: node_30bcc00b-f402-4658-982c-6642390eb80a / DEBUG - Reached 250 batches for this epoch, ignore remaining data\n",
      "2022-01-06 20:28:03,053 fedbiomed INFO - log from: node_30bcc00b-f402-4658-982c-6642390eb80a / INFO - results uploaded successfully \n",
      "2022-01-06 20:28:03,924 fedbiomed INFO - log from: node_0341dbee-4250-4f28-8f05-fc0a98bde6b7 / DEBUG - Reached 250 batches for this epoch, ignore remaining data\n",
      "2022-01-06 20:28:04,610 fedbiomed INFO - log from: node_0341dbee-4250-4f28-8f05-fc0a98bde6b7 / INFO - results uploaded successfully \n",
      "2022-01-06 20:28:12,713 fedbiomed INFO - Downloading model params after training on node_b4eb76b3-54fe-42e4-8f01-501a4f1a179a - from http://localhost:8844/media/uploads/2022/01/06/node_params_f6089065-8e45-4a20-b154-ed65c39bedf2.pt\n",
      "2022-01-06 20:28:12,819 fedbiomed INFO - Downloading model params after training on node_30bcc00b-f402-4658-982c-6642390eb80a - from http://localhost:8844/media/uploads/2022/01/06/node_params_ec39d755-6aa4-46ba-8b1e-42d7c0a0d10c.pt\n",
      "2022-01-06 20:28:12,897 fedbiomed INFO - Downloading model params after training on node_0341dbee-4250-4f28-8f05-fc0a98bde6b7 - from http://localhost:8844/media/uploads/2022/01/06/node_params_75ac8431-e783-4c64-bb2f-d0524fbd0ded.pt\n",
      "2022-01-06 20:28:12,980 fedbiomed INFO - Nodes that successfully reply in round 2 ['node_b4eb76b3-54fe-42e4-8f01-501a4f1a179a', 'node_30bcc00b-f402-4658-982c-6642390eb80a', 'node_0341dbee-4250-4f28-8f05-fc0a98bde6b7']\n",
      "2022-01-06 20:28:13,665 fedbiomed INFO - Saved aggregated params for round 2 in /home/ybouilla/fedbiomed/var/experiments/Experiment_0000/aggregated_params_b1b52539-6816-4aad-a047-13555cb8ad23.pt\n"
     ]
    }
   ],
   "source": [
    "exp.run()"
   ]
  },
  {
   "cell_type": "markdown",
   "metadata": {
    "pycharm": {
     "name": "#%% md\n"
    }
   },
   "source": [
    "## Testing\n"
   ]
  },
  {
   "cell_type": "markdown",
   "metadata": {},
   "source": [
    "Once the federated model is obtained, it is possible to test it locally on an independent testing partition.\n",
    "The test dataset is available at this link:\n",
    "\n",
    "https://drive.google.com/file/d/1YbwA0WitMoucoIa_Qao7IC1haPfDp-XD/"
   ]
  },
  {
   "cell_type": "code",
   "execution_count": 8,
   "metadata": {},
   "outputs": [
    {
     "name": "stdout",
     "output_type": "stream",
     "text": [
      "Requirement already satisfied: gdown in /home/ybouilla/.conda/envs/fedbiomed-researcher/lib/python3.9/site-packages (4.2.0)\n",
      "Requirement already satisfied: six in /home/ybouilla/.conda/envs/fedbiomed-researcher/lib/python3.9/site-packages (from gdown) (1.16.0)\n",
      "Requirement already satisfied: filelock in /home/ybouilla/.local/lib/python3.9/site-packages (from gdown) (3.0.12)\n",
      "Requirement already satisfied: requests[socks] in /home/ybouilla/.conda/envs/fedbiomed-researcher/lib/python3.9/site-packages (from gdown) (2.26.0)\n",
      "Requirement already satisfied: tqdm in /home/ybouilla/.conda/envs/fedbiomed-researcher/lib/python3.9/site-packages (from gdown) (4.62.3)\n",
      "Requirement already satisfied: beautifulsoup4 in /home/ybouilla/.conda/envs/fedbiomed-researcher/lib/python3.9/site-packages (from gdown) (4.10.0)\n",
      "Requirement already satisfied: soupsieve>1.2 in /home/ybouilla/.conda/envs/fedbiomed-researcher/lib/python3.9/site-packages (from beautifulsoup4->gdown) (2.3.1)\n",
      "Requirement already satisfied: idna<4,>=2.5 in /home/ybouilla/.conda/envs/fedbiomed-researcher/lib/python3.9/site-packages (from requests[socks]->gdown) (3.1)\n",
      "Requirement already satisfied: urllib3<1.27,>=1.21.1 in /home/ybouilla/.conda/envs/fedbiomed-researcher/lib/python3.9/site-packages (from requests[socks]->gdown) (1.26.6)\n",
      "Requirement already satisfied: charset-normalizer~=2.0.0 in /home/ybouilla/.conda/envs/fedbiomed-researcher/lib/python3.9/site-packages (from requests[socks]->gdown) (2.0.0)\n",
      "Requirement already satisfied: certifi>=2017.4.17 in /home/ybouilla/.conda/envs/fedbiomed-researcher/lib/python3.9/site-packages (from requests[socks]->gdown) (2021.10.8)\n",
      "Requirement already satisfied: PySocks!=1.5.7,>=1.5.6 in /home/ybouilla/.conda/envs/fedbiomed-researcher/lib/python3.9/site-packages (from requests[socks]->gdown) (1.7.1)\n"
     ]
    }
   ],
   "source": [
    "!pip install gdown"
   ]
  },
  {
   "cell_type": "code",
   "execution_count": 9,
   "metadata": {
    "pycharm": {
     "name": "#%% md\n"
    }
   },
   "outputs": [
    {
     "name": "stdout",
     "output_type": "stream",
     "text": [
      "MONAI version: 0.8.0\n",
      "Numpy version: 1.21.2\n",
      "Pytorch version: 1.8.1+cu102\n",
      "MONAI flags: HAS_EXT = False, USE_COMPILED = False\n",
      "MONAI rev id: 714d00dffe6653e21260160666c4c201ab66511b\n",
      "\n",
      "Optional dependencies:\n",
      "Pytorch Ignite version: 0.4.6\n",
      "Nibabel version: 3.2.1\n",
      "scikit-image version: 0.19.0\n",
      "Pillow version: 8.4.0\n",
      "Tensorboard version: 2.7.0\n",
      "gdown version: 4.2.0\n",
      "TorchVision version: 0.9.1+cu102\n",
      "tqdm version: 4.62.3\n",
      "lmdb version: 1.2.1\n",
      "psutil version: 5.8.0\n",
      "pandas version: 1.3.5\n",
      "einops version: NOT INSTALLED or UNKNOWN VERSION.\n",
      "transformers version: NOT INSTALLED or UNKNOWN VERSION.\n",
      "mlflow version: NOT INSTALLED or UNKNOWN VERSION.\n",
      "\n",
      "For details about installing the optional dependencies, please visit:\n",
      "    https://docs.monai.io/en/latest/installation.html#installing-the-recommended-dependencies\n",
      "\n"
     ]
    }
   ],
   "source": [
    "import os\n",
    "import shutil\n",
    "import tempfile\n",
    "import PIL\n",
    "import torch\n",
    "import numpy as np\n",
    "from sklearn.metrics import classification_report\n",
    "\n",
    "from monai.config import print_config\n",
    "from monai.data import decollate_batch\n",
    "from monai.metrics import ROCAUCMetric\n",
    "from monai.networks.nets import DenseNet121\n",
    "import zipfile\n",
    "from monai.transforms import (\n",
    "    Activations,\n",
    "    AddChannel,\n",
    "    AsDiscrete,\n",
    "    Compose,\n",
    "    LoadImage,\n",
    "    RandFlip,\n",
    "    RandRotate,\n",
    "    RandZoom,\n",
    "    ScaleIntensity,\n",
    "    EnsureType,\n",
    ")\n",
    "from monai.utils import set_determinism\n",
    "\n",
    "print_config()"
   ]
  },
  {
   "cell_type": "markdown",
   "metadata": {},
   "source": [
    "Download the testing dataset on the local temporary folder."
   ]
  },
  {
   "cell_type": "code",
   "execution_count": 10,
   "metadata": {},
   "outputs": [
    {
     "name": "stderr",
     "output_type": "stream",
     "text": [
      "Downloading...\n",
      "From: https://drive.google.com/uc?id=1YbwA0WitMoucoIa_Qao7IC1haPfDp-XD\n",
      "To: /home/ybouilla/fedbiomed/var/tmp/tmpo8drwl14/MedNIST_testing.zip\n",
      "100%|██████████████████████████████████████| 9.50M/9.50M [00:07<00:00, 1.31MB/s]\n"
     ]
    }
   ],
   "source": [
    "import gdown\n",
    "import zipfile\n",
    "\n",
    "resource = \"https://drive.google.com/uc?id=1YbwA0WitMoucoIa_Qao7IC1haPfDp-XD\"\n",
    "base_dir = tmp_dir_model.name \n",
    "test_file = os.path.join(base_dir, \"MedNIST_testing.zip\")\n",
    "\n",
    "gdown.download(resource, test_file, quiet=False)\n",
    "\n",
    "zf = zipfile.ZipFile(test_file)\n",
    "\n",
    "for file in zf.infolist():\n",
    "    zf.extract(file, base_dir)\n",
    "    \n",
    "data_dir = os.path.join(base_dir, \"MedNIST_testing\")"
   ]
  },
  {
   "cell_type": "markdown",
   "metadata": {},
   "source": [
    "Parse the data and create the testing data loader:"
   ]
  },
  {
   "cell_type": "code",
   "execution_count": 11,
   "metadata": {},
   "outputs": [
    {
     "name": "stdout",
     "output_type": "stream",
     "text": [
      "Total image count: 6000\n",
      "Image dimensions: 64 x 64\n",
      "Label names: ['AbdomenCT', 'BreastMRI', 'CXR', 'ChestCT', 'Hand', 'HeadCT']\n",
      "Label counts: [1000, 1000, 1000, 1000, 1000, 1000]\n"
     ]
    }
   ],
   "source": [
    "class_names = sorted(x for x in os.listdir(data_dir)\n",
    "                     if os.path.isdir(os.path.join(data_dir, x)))\n",
    "num_class = len(class_names)\n",
    "image_files = [\n",
    "    [\n",
    "        os.path.join(data_dir, class_names[i], x)\n",
    "        for x in os.listdir(os.path.join(data_dir, class_names[i]))\n",
    "    ]\n",
    "    for i in range(num_class)\n",
    "]\n",
    "\n",
    "num_each = [len(image_files[i]) for i in range(num_class)]\n",
    "image_files_list = []\n",
    "\n",
    "image_class = []\n",
    "for i in range(num_class):\n",
    "    image_files_list.extend(image_files[i])\n",
    "    image_class.extend([i] * num_each[i])\n",
    "num_total = len(image_class)\n",
    "image_width, image_height = PIL.Image.open(image_files_list[0]).size\n",
    "\n",
    "print(f\"Total image count: {num_total}\")\n",
    "print(f\"Image dimensions: {image_width} x {image_height}\")\n",
    "print(f\"Label names: {class_names}\")\n",
    "print(f\"Label counts: {num_each}\")"
   ]
  },
  {
   "cell_type": "code",
   "execution_count": 12,
   "metadata": {},
   "outputs": [],
   "source": [
    "length = len(image_files_list)\n",
    "indices = np.arange(length)\n",
    "np.random.shuffle(indices)\n",
    "\n",
    "\n",
    "test_split = int(0.1 * length)\n",
    "test_indices = indices[:test_split]\n",
    "\n",
    "test_x = [image_files_list[i] for i in test_indices]\n",
    "test_y = [image_class[i] for i in test_indices]\n",
    "\n",
    "val_transforms = Compose(\n",
    "    [LoadImage(image_only=True), AddChannel(), ScaleIntensity(), EnsureType()])\n",
    "\n",
    "y_pred_trans = Compose([EnsureType(), Activations(softmax=True)])\n",
    "y_trans = Compose([EnsureType(), AsDiscrete(to_onehot=num_class)])"
   ]
  },
  {
   "cell_type": "code",
   "execution_count": 13,
   "metadata": {},
   "outputs": [],
   "source": [
    "class MedNISTDataset(torch.utils.data.Dataset):\n",
    "    def __init__(self, image_files, labels, transforms):\n",
    "        self.image_files = image_files\n",
    "        self.labels = labels\n",
    "        self.transforms = transforms\n",
    "\n",
    "    def __len__(self):\n",
    "        return len(self.image_files)\n",
    "\n",
    "    def __getitem__(self, index):\n",
    "        return self.transforms(self.image_files[index]), self.labels[index]\n",
    "\n",
    "\n",
    "test_ds = MedNISTDataset(test_x, test_y, val_transforms)\n",
    "test_loader = torch.utils.data.DataLoader(\n",
    "    test_ds, batch_size=300)"
   ]
  },
  {
   "cell_type": "markdown",
   "metadata": {},
   "source": [
    "Define testing metric:"
   ]
  },
  {
   "cell_type": "code",
   "execution_count": 14,
   "metadata": {},
   "outputs": [],
   "source": [
    "auc_metric = ROCAUCMetric()"
   ]
  },
  {
   "cell_type": "markdown",
   "metadata": {},
   "source": [
    "To test the federated model we need to create a model instance and assign to it the model parameters estimated at the last federated optimization round."
   ]
  },
  {
   "cell_type": "code",
   "execution_count": 15,
   "metadata": {},
   "outputs": [
    {
     "data": {
      "text/plain": [
       "<All keys matched successfully>"
      ]
     },
     "execution_count": 15,
     "metadata": {},
     "output_type": "execute_result"
    }
   ],
   "source": [
    "model = exp.model_instance\n",
    "model.load_state_dict(exp.aggregated_params[rounds - 1]['params'])"
   ]
  },
  {
   "cell_type": "markdown",
   "metadata": {},
   "source": [
    "Compute the testing performance:"
   ]
  },
  {
   "cell_type": "code",
   "execution_count": 16,
   "metadata": {},
   "outputs": [],
   "source": [
    "device = torch.device(\"cuda\" if torch.cuda.is_available() else \"cpu\")\n",
    "\n",
    "y_true = []\n",
    "y_pred = []\n",
    "with torch.no_grad():\n",
    "    for test_data in test_loader:\n",
    "        test_images, test_labels = (\n",
    "            test_data[0].to(device),\n",
    "            test_data[1].to(device),\n",
    "        )\n",
    "        pred = model(test_images).argmax(dim=1)\n",
    "        for i in range(len(pred)):\n",
    "            y_true.append(test_labels[i].item())\n",
    "            y_pred.append(pred[i].item())\n"
   ]
  },
  {
   "cell_type": "code",
   "execution_count": 17,
   "metadata": {},
   "outputs": [
    {
     "name": "stdout",
     "output_type": "stream",
     "text": [
      "              precision    recall  f1-score   support\n",
      "\n",
      "   AbdomenCT     0.9802    0.9900    0.9851       100\n",
      "   BreastMRI     0.9885    1.0000    0.9942        86\n",
      "         CXR     1.0000    0.9902    0.9951       102\n",
      "     ChestCT     0.9895    1.0000    0.9947        94\n",
      "        Hand     0.9902    1.0000    0.9951       101\n",
      "      HeadCT     1.0000    0.9744    0.9870       117\n",
      "\n",
      "    accuracy                         0.9917       600\n",
      "   macro avg     0.9914    0.9924    0.9919       600\n",
      "weighted avg     0.9918    0.9917    0.9917       600\n",
      "\n"
     ]
    }
   ],
   "source": [
    "print(classification_report(\n",
    "    y_true, y_pred, target_names=class_names, digits=4))"
   ]
  },
  {
   "cell_type": "markdown",
   "metadata": {},
   "source": [
    "In spite of the relatively small training performed on the data shared in the 3 nodes, the performance of the federated model seems pretty good. Well done! "
   ]
  },
  {
   "cell_type": "code",
   "execution_count": null,
   "metadata": {},
   "outputs": [],
   "source": []
  }
 ],
 "metadata": {
  "kernelspec": {
   "display_name": "Python 3 (ipykernel)",
   "language": "python",
   "name": "python3"
  },
  "language_info": {
   "codemirror_mode": {
    "name": "ipython",
    "version": 3
   },
   "file_extension": ".py",
   "mimetype": "text/x-python",
   "name": "python",
   "nbconvert_exporter": "python",
   "pygments_lexer": "ipython3",
   "version": "3.9.7"
  }
 },
 "nbformat": 4,
 "nbformat_minor": 4
}

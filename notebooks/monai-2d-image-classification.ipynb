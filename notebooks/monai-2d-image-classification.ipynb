{
 "cells": [
  {
   "cell_type": "markdown",
   "metadata": {},
   "source": [
    "# Federated 2d image classification with MONAI"
   ]
  },
  {
   "cell_type": "markdown",
   "metadata": {},
   "source": [
    "## Introduction\n",
    "\n",
    "This tutorial shows how to deploy in Fed-BioMed the 2d image classification example provided in the project MONAI (https://monai.io/):\n",
    "\n",
    "https://github.com/Project-MONAI/tutorials/blob/master/2d_classification/mednist_tutorial.ipynb\n",
    "\n",
    "Being MONAI based on PyTorch, the deployment within Fed-BioMed follows seamlessy the same general structure of general PyTorch models. \n",
    "\n",
    "Following the MONAI example, this tutorial is based on the MedNIST dataset:\n",
    "\n",
    "https://github.com/Project-MONAI/MONAI/blob/master/examples/notebooks/mednist_tutorial.ipynb.\n",
    "\n",
    "## Creating MedNIST nodes\n",
    "\n",
    "MedNIST provides an artificial 2d classification dataset created by gathering different medical imaging datasets from TCIA, the RSNA Bone Age Challenge, and the NIH Chest X-ray dataset. The dataset is kindly made available by Dr. Bradley J. Erickson M.D., Ph.D. (Department of Radiology, Mayo Clinic) under the Creative Commons CC BY-SA 4.0 license.\n",
    "\n",
    "To proceed with the tutorial, we created an iid partitioning of the MedNIST dataset between 3 clients. Each client has 3000 image samples for each class. The training partitions are availables at the following link:\n",
    "\n",
    "https://drive.google.com/file/d/1vLIcBdtdAhh6K-vrgCFy_0Y55dxOWZwf/view\n",
    "\n",
    "The dataset owned by each client has structure:\n",
    "\n",
    "\n",
    "└── client_*/\n",
    "\n",
    "    ├── AbdomenCT/\n",
    "    \n",
    "    └── BreastMRI/\n",
    "    \n",
    "    └── CXR/\n",
    "    \n",
    "    └── ChestCT/\n",
    "    \n",
    "    └── Hand/\n",
    "    \n",
    "    └── HeadCT/   \n",
    "\n",
    "To create the federated dataset, we follow the standard procedure for node creation/population of Fed-BioMed. \n",
    "After activating the fedbiomed network with the commands\n",
    "\n",
    "`source ./scripts/fedbiomed_environment network`\n",
    "\n",
    "and \n",
    "\n",
    "`./scripts/fedbiomed_run network`\n",
    "\n",
    "we create a first node by using the commands\n",
    "\n",
    "`source ./scripts/fedbiomed_environment node`\n",
    "\n",
    "`./scripts/fedbiomed_run node start`\n",
    "\n",
    "We then poulate the node with the data of first client:\n",
    "\n",
    "`./scripts/fedbiomed_run node add`\n",
    "\n",
    "We select option 3 (images) to add MedNIST partition of client 1, by just picking the folder of client 1. \n",
    "We can further check that the data has been added by executing `./scripts/fedbiomed_run node list`\n",
    "\n",
    "Following the same procedure, we create the other two nodes with the datasets of client 2 and client 3 respectively.\n"
   ]
  },
  {
   "cell_type": "markdown",
   "metadata": {},
   "source": [
    "## Running Fed-BioMed Researcher"
   ]
  },
  {
   "cell_type": "markdown",
   "metadata": {},
   "source": [
    "We are now ready to start the reseracher enviroment with the command `source ./scripts/fedbiomed_environment researcher`, and open the Jupyter notebook. "
   ]
  },
  {
   "cell_type": "code",
   "execution_count": 1,
   "metadata": {},
   "outputs": [],
   "source": [
    "%load_ext autoreload\n",
    "%autoreload 2"
   ]
  },
  {
   "cell_type": "markdown",
   "metadata": {},
   "source": [
    "We can first quesry the network for the mednist dataset. In this case, the nodes are sharing the respective partitions unsing the same tag `mednist`:"
   ]
  },
  {
   "cell_type": "code",
   "execution_count": 2,
   "metadata": {},
   "outputs": [
    {
     "name": "stderr",
     "output_type": "stream",
     "text": [
      "2022-01-05 09:31:00,876 fedbiomed INFO - Component environment:\n",
      "2022-01-05 09:31:00,877 fedbiomed INFO - - type = ComponentType.RESEARCHER\n",
      "2022-01-05 09:31:01,439 fedbiomed INFO - Messaging researcher_6614eef6-5331-401a-b4de-4e2a69e51c81 successfully connected to the message broker, object = <fedbiomed.common.messaging.Messaging object at 0x103f98760>\n",
      "2022-01-05 09:31:01,506 fedbiomed INFO - Listing available datasets in all nodes... \n",
      "2022-01-05 09:31:01,514 fedbiomed INFO - log from: node_d562b808-8ed3-401b-8222-494283894e5d / DEBUG - Message received: {'researcher_id': 'researcher_6614eef6-5331-401a-b4de-4e2a69e51c81', 'command': 'list'}\n",
      "2022-01-05 09:31:01,517 fedbiomed INFO - log from: node_b4095fb0-5dac-49f5-9af7-a478f8942a4a / DEBUG - Message received: {'researcher_id': 'researcher_6614eef6-5331-401a-b4de-4e2a69e51c81', 'command': 'list'}\n",
      "2022-01-05 09:31:01,520 fedbiomed INFO - log from: node_de591a20-68ff-4697-8abb-9daccd955df2 / DEBUG - Message received: {'researcher_id': 'researcher_6614eef6-5331-401a-b4de-4e2a69e51c81', 'command': 'list'}\n",
      "2022-01-05 09:31:11,516 fedbiomed INFO - \n",
      " Node: node_d562b808-8ed3-401b-8222-494283894e5d | Number of Datasets: 1 \n",
      "+---------+-------------+-------------+---------------+--------------------+\n",
      "| name    | data_type   | tags        | description   | shape              |\n",
      "+=========+=============+=============+===============+====================+\n",
      "| mednist | images      | ['mednist'] | bla           | [16954, 3, 64, 64] |\n",
      "+---------+-------------+-------------+---------------+--------------------+\n",
      "\n",
      "2022-01-05 09:31:11,517 fedbiomed INFO - \n",
      " Node: node_b4095fb0-5dac-49f5-9af7-a478f8942a4a | Number of Datasets: 1 \n",
      "+---------+-------------+-------------+---------------+--------------------+\n",
      "| name    | data_type   | tags        | description   | shape              |\n",
      "+=========+=============+=============+===============+====================+\n",
      "| mednist | images      | ['mednist'] | bla           | [18000, 3, 64, 64] |\n",
      "+---------+-------------+-------------+---------------+--------------------+\n",
      "\n",
      "2022-01-05 09:31:11,518 fedbiomed INFO - \n",
      " Node: node_de591a20-68ff-4697-8abb-9daccd955df2 | Number of Datasets: 1 \n",
      "+---------+-------------+-------------+---------------+--------------------+\n",
      "| name    | data_type   | tags        | description   | shape              |\n",
      "+=========+=============+=============+===============+====================+\n",
      "| mednist | images      | ['mednist'] | bla           | [18000, 3, 64, 64] |\n",
      "+---------+-------------+-------------+---------------+--------------------+\n",
      "\n"
     ]
    },
    {
     "data": {
      "text/plain": [
       "{'node_d562b808-8ed3-401b-8222-494283894e5d': [{'name': 'mednist',\n",
       "   'data_type': 'images',\n",
       "   'tags': ['mednist'],\n",
       "   'description': 'bla',\n",
       "   'shape': [16954, 3, 64, 64]}],\n",
       " 'node_b4095fb0-5dac-49f5-9af7-a478f8942a4a': [{'name': 'mednist',\n",
       "   'data_type': 'images',\n",
       "   'tags': ['mednist'],\n",
       "   'description': 'bla',\n",
       "   'shape': [18000, 3, 64, 64]}],\n",
       " 'node_de591a20-68ff-4697-8abb-9daccd955df2': [{'name': 'mednist',\n",
       "   'data_type': 'images',\n",
       "   'tags': ['mednist'],\n",
       "   'description': 'bla',\n",
       "   'shape': [18000, 3, 64, 64]}]}"
      ]
     },
     "execution_count": 2,
     "metadata": {},
     "output_type": "execute_result"
    }
   ],
   "source": [
    "from fedbiomed.researcher.requests import Requests\n",
    "req = Requests()\n",
    "req.list(verbose=True)"
   ]
  },
  {
   "cell_type": "markdown",
   "metadata": {},
   "source": [
    "## Create an experiment to train a model on the data found"
   ]
  },
  {
   "cell_type": "markdown",
   "metadata": {},
   "source": [
    "The code for network and data loader of the MONAI tutorial can now be deployed in Fed-BioMed.\n",
    "We first import the necessary modules from `fedbiomed` and `monai` libraries:"
   ]
  },
  {
   "cell_type": "code",
   "execution_count": 3,
   "metadata": {},
   "outputs": [],
   "source": [
    "from fedbiomed.researcher.environ import environ\n",
    "import tempfile\n",
    "tmp_dir_model = tempfile.TemporaryDirectory(dir=environ['TMP_DIR']+'/')\n",
    "model_file = tmp_dir_model.name + '/class_export_mnist.py'"
   ]
  },
  {
   "cell_type": "code",
   "execution_count": 4,
   "metadata": {},
   "outputs": [],
   "source": [
    "from monai.apps import download_and_extract\n",
    "from monai.config import print_config\n",
    "from monai.data import decollate_batch\n",
    "from monai.metrics import ROCAUCMetric\n",
    "from monai.networks.nets import DenseNet121\n",
    "from monai.transforms import (\n",
    "    Activations,\n",
    "    AddChannel,\n",
    "    AsDiscrete,\n",
    "    Compose,\n",
    "    LoadImage,\n",
    "    RandFlip,\n",
    "    RandRotate,\n",
    "    RandZoom,\n",
    "    ScaleIntensity,\n",
    "    EnsureType,\n",
    ")\n",
    "from monai.utils import set_determinism"
   ]
  },
  {
   "cell_type": "markdown",
   "metadata": {},
   "source": [
    "We can now define the training plan. Note that we can simply use the standard `TorchTrainingPlan` natively provided in Fed-BioMed. We reuse the `MedNISTDataset` data loader defined in the original MONAI tutorial, which is returned by the method `training_data`, which also implements the data parsing from the nodes `dataset_path`. Following the MONAI tutorial, the model is the `DenseNet121`."
   ]
  },
  {
   "cell_type": "code",
   "execution_count": 5,
   "metadata": {},
   "outputs": [
    {
     "name": "stdout",
     "output_type": "stream",
     "text": [
      "Writing /Users/mlorenzi/works/temp/fedbiomed/var/tmp/tmp8_zt0d5r/class_export_mnist.py\n"
     ]
    }
   ],
   "source": [
    "%%writefile \"$model_file\"\n",
    "\n",
    "import os\n",
    "import numpy as np\n",
    "import torch\n",
    "import torch.nn as nn\n",
    "from fedbiomed.common.torchnn import TorchTrainingPlan\n",
    "from torch.utils.data import DataLoader\n",
    "from torchvision import datasets, transforms\n",
    "\n",
    "from monai.apps import download_and_extract\n",
    "from monai.config import print_config\n",
    "from monai.data import decollate_batch\n",
    "from monai.metrics import ROCAUCMetric\n",
    "from monai.networks.nets import DenseNet121\n",
    "from monai.transforms import (\n",
    "    Activations,\n",
    "    AddChannel,\n",
    "    AsDiscrete,\n",
    "    Compose,\n",
    "    LoadImage,\n",
    "    RandFlip,\n",
    "    RandRotate,\n",
    "    RandZoom,\n",
    "    ScaleIntensity,\n",
    "    EnsureType,\n",
    ")\n",
    "from monai.utils import set_determinism\n",
    "\n",
    "\n",
    "# Here we define the model to be used. \n",
    "# You can use any class name (here 'Net')\n",
    "class MyTrainingPlan(TorchTrainingPlan):\n",
    "    def __init__(self, kwargs):\n",
    "        super(MyTrainingPlan, self).__init__()\n",
    "        \n",
    "        # Here we define the custom dependencies that will be needed by our custom Dataloader\n",
    "        # In this case, we need the torch DataLoader classes\n",
    "        # Since we will train on MNIST, we need datasets and transform from torchvision\n",
    "        deps = [\"import numpy as np\",\n",
    "                \"import os\",\n",
    "                \"from torch.utils.data import DataLoader\",\n",
    "                \"from monai.apps import download_and_extract\",\n",
    "                \"from monai.config import print_config\",\n",
    "                \"from monai.data import decollate_batch\",\n",
    "                \"from monai.metrics import ROCAUCMetric\",\n",
    "                \"from monai.networks.nets import DenseNet121\",\n",
    "                \"from monai.transforms import ( Activations, AddChannel, AsDiscrete, Compose, LoadImage, RandFlip, RandRotate, RandZoom, ScaleIntensity, EnsureType, )\",\n",
    "                \"from monai.utils import set_determinism\",]\n",
    "        self.add_dependency(deps)\n",
    "         \n",
    "        self.num_class =  kwargs['num_class']  \n",
    "        self.model = DenseNet121(spatial_dims=2, in_channels=1,\n",
    "                    out_channels = self.num_class)\n",
    "        \n",
    "        self.loss_function = torch.nn.CrossEntropyLoss()\n",
    "\n",
    "    def forward(self, x):\n",
    "        return self.model(x)\n",
    "\n",
    "    class MedNISTDataset(torch.utils.data.Dataset):\n",
    "            def __init__(self, image_files, labels, transforms):\n",
    "                self.image_files = image_files\n",
    "                self.labels = labels\n",
    "                self.transforms = transforms\n",
    "\n",
    "            def __len__(self):\n",
    "                return len(self.image_files)\n",
    "\n",
    "            def __getitem__(self, index):\n",
    "                return self.transforms(self.image_files[index]), self.labels[index]\n",
    "    \n",
    "    def parse_data(self, path):\n",
    "        print(self.dataset_path)\n",
    "        class_names = sorted(x for x in os.listdir(path)\n",
    "                     if os.path.isdir(os.path.join(path, x)))\n",
    "        num_class = len(class_names)\n",
    "        image_files = [\n",
    "                        [\n",
    "                            os.path.join(path, class_names[i], x)\n",
    "                            for x in os.listdir(os.path.join(path, class_names[i]))\n",
    "                        ]\n",
    "                        for i in range(num_class)\n",
    "                      ]\n",
    "        \n",
    "        return image_files, num_class\n",
    "    \n",
    "    def training_data(self, batch_size = 48):\n",
    "        self.image_files, num_class = self.parse_data(self.dataset_path)\n",
    "        \n",
    "        if self.num_class!=num_class:\n",
    "                raise Exception('number of available classes does not match declared classes')\n",
    "        \n",
    "        num_each = [len(self.image_files[i]) for i in range(self.num_class)]\n",
    "        image_files_list = []\n",
    "        image_class = []\n",
    "        \n",
    "        for i in range(self.num_class):\n",
    "            image_files_list.extend(self.image_files[i])\n",
    "            image_class.extend([i] * num_each[i])\n",
    "        num_total = len(image_class)\n",
    "        \n",
    "        \n",
    "        length = len(image_files_list)\n",
    "        indices = np.arange(length)\n",
    "        np.random.shuffle(indices)\n",
    "\n",
    "        val_split = int(1. * length) \n",
    "        train_indices = indices[:val_split]\n",
    "\n",
    "        train_x = [image_files_list[i] for i in train_indices]\n",
    "        train_y = [image_class[i] for i in train_indices]\n",
    "\n",
    "\n",
    "        train_transforms = Compose(\n",
    "            [\n",
    "                LoadImage(image_only=True),\n",
    "                AddChannel(),\n",
    "                ScaleIntensity(),\n",
    "                RandRotate(range_x=np.pi / 12, prob=0.5, keep_size=True),\n",
    "                RandFlip(spatial_axis=0, prob=0.5),\n",
    "                RandZoom(min_zoom=0.9, max_zoom=1.1, prob=0.5),\n",
    "                EnsureType(),\n",
    "            ]\n",
    "        )\n",
    "\n",
    "        val_transforms = Compose(\n",
    "            [LoadImage(image_only=True), AddChannel(), ScaleIntensity(), EnsureType()])\n",
    "\n",
    "        y_pred_trans = Compose([EnsureType(), Activations(softmax=True)])\n",
    "        y_trans = Compose([EnsureType(), AsDiscrete(to_onehot=num_class)])\n",
    "\n",
    "        print(\n",
    "            f\"Training count: {len(train_x)}\")\n",
    "        \n",
    "        \n",
    "        train_ds = self.MedNISTDataset(train_x, train_y, train_transforms)\n",
    "        train_loader = torch.utils.data.DataLoader(\n",
    "            train_ds, batch_size, shuffle=True)\n",
    "        \n",
    "        return train_loader\n",
    "    \n",
    "    def training_step(self, data, target):\n",
    "        output = self.forward(data)\n",
    "        loss   = self.loss_function(output, target)\n",
    "        return loss\n"
   ]
  },
  {
   "cell_type": "markdown",
   "metadata": {},
   "source": [
    "We now set the model and training parameters. Note that we use only 1 epoch for this experiment, and perform the training on ~26% of the locally available training data."
   ]
  },
  {
   "cell_type": "code",
   "execution_count": 6,
   "metadata": {
    "pycharm": {
     "name": "#%%\n"
    }
   },
   "outputs": [],
   "source": [
    "model_args = {'num_class':6,}\n",
    "\n",
    "training_args = {\n",
    "    'batch_size': 20, \n",
    "    'lr': 1e-5, \n",
    "    'epochs': 1, \n",
    "    'dry_run': False,  \n",
    "    'batch_maxnum':250 # Fast pass for development : only use ( batch_maxnum * batch_size ) samples\n",
    "}"
   ]
  },
  {
   "cell_type": "markdown",
   "metadata": {},
   "source": [
    "The experiment can be now defined, by providing the `mednist` tag, and running the local training on nodes with model defined in `model_path`, standard `aggregator` (FedAvg) and `client_selection_strategy` (all nodes used). Federated learning is going to be perfomed through 3 optimization rounds."
   ]
  },
  {
   "cell_type": "code",
   "execution_count": 7,
   "metadata": {
    "pycharm": {
     "name": "#%%\n"
    },
    "scrolled": true
   },
   "outputs": [
    {
     "name": "stderr",
     "output_type": "stream",
     "text": [
      "2022-01-05 09:31:14,352 fedbiomed INFO - Searching dataset with data tags: ['mednist'] for all nodes\n",
      "2022-01-05 09:31:14,359 fedbiomed INFO - log from: node_b4095fb0-5dac-49f5-9af7-a478f8942a4a / DEBUG - Message received: {'researcher_id': 'researcher_6614eef6-5331-401a-b4de-4e2a69e51c81', 'tags': ['mednist'], 'command': 'search'}\n",
      "2022-01-05 09:31:14,360 fedbiomed INFO - log from: node_de591a20-68ff-4697-8abb-9daccd955df2 / DEBUG - Message received: {'researcher_id': 'researcher_6614eef6-5331-401a-b4de-4e2a69e51c81', 'tags': ['mednist'], 'command': 'search'}\n",
      "2022-01-05 09:31:14,363 fedbiomed INFO - log from: node_d562b808-8ed3-401b-8222-494283894e5d / DEBUG - Message received: {'researcher_id': 'researcher_6614eef6-5331-401a-b4de-4e2a69e51c81', 'tags': ['mednist'], 'command': 'search'}\n",
      "2022-01-05 09:31:24,365 fedbiomed INFO - Node selected for training -> node_b4095fb0-5dac-49f5-9af7-a478f8942a4a\n",
      "2022-01-05 09:31:24,366 fedbiomed INFO - Node selected for training -> node_de591a20-68ff-4697-8abb-9daccd955df2\n",
      "2022-01-05 09:31:24,367 fedbiomed INFO - Node selected for training -> node_d562b808-8ed3-401b-8222-494283894e5d\n",
      "2022-01-05 09:31:24,368 fedbiomed INFO - Checking data quality of federated datasets...\n",
      "2022-01-05 09:31:24,531 fedbiomed DEBUG - torchnn saved model filename: /Users/mlorenzi/works/temp/fedbiomed/var/tmpf050h2i0/my_model_43380103-454c-42a3-bc34-13927bc21e33.py\n"
     ]
    }
   ],
   "source": [
    "from fedbiomed.researcher.experiment import Experiment\n",
    "from fedbiomed.researcher.aggregators.fedavg import FedAverage\n",
    "\n",
    "tags =  ['mednist']\n",
    "rounds = 3\n",
    "\n",
    "exp = Experiment(tags=tags,\n",
    "                 #clients=None,\n",
    "                 model_path=model_file,\n",
    "                 model_args=model_args,\n",
    "                 model_class='MyTrainingPlan',\n",
    "                 training_args=training_args,\n",
    "                 rounds=rounds,\n",
    "                 aggregator=FedAverage(),\n",
    "                 node_selection_strategy=None\n",
    "                )"
   ]
  },
  {
   "cell_type": "markdown",
   "metadata": {
    "pycharm": {
     "name": "#%% md\n"
    }
   },
   "source": [
    "Let's start the experiment.\n",
    "\n",
    "By default, this function doesn't stop until all the `rounds` are done for all the clients"
   ]
  },
  {
   "cell_type": "code",
   "execution_count": 8,
   "metadata": {
    "pycharm": {
     "name": "#%%\n"
    },
    "scrolled": true
   },
   "outputs": [
    {
     "name": "stderr",
     "output_type": "stream",
     "text": [
      "2022-01-05 09:31:26,660 fedbiomed INFO - Sampled nodes in round 0 ['node_b4095fb0-5dac-49f5-9af7-a478f8942a4a', 'node_de591a20-68ff-4697-8abb-9daccd955df2', 'node_d562b808-8ed3-401b-8222-494283894e5d']\n",
      "2022-01-05 09:31:26,661 fedbiomed INFO - Send message to node node_b4095fb0-5dac-49f5-9af7-a478f8942a4a - {'researcher_id': 'researcher_6614eef6-5331-401a-b4de-4e2a69e51c81', 'job_id': 'a538d4c6-01bc-48b5-beee-5b4db6b8e01f', 'training_args': {'batch_size': 20, 'lr': 1e-05, 'epochs': 1, 'dry_run': False, 'batch_maxnum': 250}, 'model_args': {'num_class': 6}, 'command': 'train', 'model_url': 'http://localhost:8844/media/uploads/2022/01/05/my_model_43380103-454c-42a3-bc34-13927bc21e33.py', 'params_url': 'http://localhost:8844/media/uploads/2022/01/05/my_model_c4264cc8-3562-4a64-bbf6-ed9ba20b5b42.pt', 'model_class': 'MyTrainingPlan', 'training_data': {'node_b4095fb0-5dac-49f5-9af7-a478f8942a4a': ['dataset_acb23d50-9435-4549-9c84-457ed3ed462c']}}\n",
      "2022-01-05 09:31:26,661 fedbiomed DEBUG - researcher_6614eef6-5331-401a-b4de-4e2a69e51c81\n",
      "2022-01-05 09:31:26,662 fedbiomed INFO - Send message to node node_de591a20-68ff-4697-8abb-9daccd955df2 - {'researcher_id': 'researcher_6614eef6-5331-401a-b4de-4e2a69e51c81', 'job_id': 'a538d4c6-01bc-48b5-beee-5b4db6b8e01f', 'training_args': {'batch_size': 20, 'lr': 1e-05, 'epochs': 1, 'dry_run': False, 'batch_maxnum': 250}, 'model_args': {'num_class': 6}, 'command': 'train', 'model_url': 'http://localhost:8844/media/uploads/2022/01/05/my_model_43380103-454c-42a3-bc34-13927bc21e33.py', 'params_url': 'http://localhost:8844/media/uploads/2022/01/05/my_model_c4264cc8-3562-4a64-bbf6-ed9ba20b5b42.pt', 'model_class': 'MyTrainingPlan', 'training_data': {'node_de591a20-68ff-4697-8abb-9daccd955df2': ['dataset_e7cd0f44-0504-4bd3-b10d-ae41a7cc708c']}}\n",
      "2022-01-05 09:31:26,663 fedbiomed DEBUG - researcher_6614eef6-5331-401a-b4de-4e2a69e51c81\n",
      "2022-01-05 09:31:26,664 fedbiomed INFO - Send message to node node_d562b808-8ed3-401b-8222-494283894e5d - {'researcher_id': 'researcher_6614eef6-5331-401a-b4de-4e2a69e51c81', 'job_id': 'a538d4c6-01bc-48b5-beee-5b4db6b8e01f', 'training_args': {'batch_size': 20, 'lr': 1e-05, 'epochs': 1, 'dry_run': False, 'batch_maxnum': 250}, 'model_args': {'num_class': 6}, 'command': 'train', 'model_url': 'http://localhost:8844/media/uploads/2022/01/05/my_model_43380103-454c-42a3-bc34-13927bc21e33.py', 'params_url': 'http://localhost:8844/media/uploads/2022/01/05/my_model_c4264cc8-3562-4a64-bbf6-ed9ba20b5b42.pt', 'model_class': 'MyTrainingPlan', 'training_data': {'node_d562b808-8ed3-401b-8222-494283894e5d': ['dataset_f2c80a1e-24d7-4c88-977f-ceff1acc9009']}}\n",
      "2022-01-05 09:31:26,666 fedbiomed DEBUG - researcher_6614eef6-5331-401a-b4de-4e2a69e51c81\n",
      "2022-01-05 09:31:26,675 fedbiomed INFO - log from: node_de591a20-68ff-4697-8abb-9daccd955df2 / DEBUG - Message received: {'researcher_id': 'researcher_6614eef6-5331-401a-b4de-4e2a69e51c81', 'job_id': 'a538d4c6-01bc-48b5-beee-5b4db6b8e01f', 'training_args': {'batch_size': 20, 'lr': 1e-05, 'epochs': 1, 'dry_run': False, 'batch_maxnum': 250}, 'model_args': {'num_class': 6}, 'command': 'train', 'model_url': 'http://localhost:8844/media/uploads/2022/01/05/my_model_43380103-454c-42a3-bc34-13927bc21e33.py', 'params_url': 'http://localhost:8844/media/uploads/2022/01/05/my_model_c4264cc8-3562-4a64-bbf6-ed9ba20b5b42.pt', 'model_class': 'MyTrainingPlan', 'training_data': {'node_de591a20-68ff-4697-8abb-9daccd955df2': ['dataset_e7cd0f44-0504-4bd3-b10d-ae41a7cc708c']}}\n",
      "2022-01-05 09:31:26,681 fedbiomed INFO - log from: node_b4095fb0-5dac-49f5-9af7-a478f8942a4a / DEBUG - Message received: {'researcher_id': 'researcher_6614eef6-5331-401a-b4de-4e2a69e51c81', 'job_id': 'a538d4c6-01bc-48b5-beee-5b4db6b8e01f', 'training_args': {'batch_size': 20, 'lr': 1e-05, 'epochs': 1, 'dry_run': False, 'batch_maxnum': 250}, 'model_args': {'num_class': 6}, 'command': 'train', 'model_url': 'http://localhost:8844/media/uploads/2022/01/05/my_model_43380103-454c-42a3-bc34-13927bc21e33.py', 'params_url': 'http://localhost:8844/media/uploads/2022/01/05/my_model_c4264cc8-3562-4a64-bbf6-ed9ba20b5b42.pt', 'model_class': 'MyTrainingPlan', 'training_data': {'node_b4095fb0-5dac-49f5-9af7-a478f8942a4a': ['dataset_acb23d50-9435-4549-9c84-457ed3ed462c']}}\n",
      "2022-01-05 09:31:26,683 fedbiomed INFO - log from: node_b4095fb0-5dac-49f5-9af7-a478f8942a4a / DEBUG - [TASKS QUEUE] Item:{'researcher_id': 'researcher_6614eef6-5331-401a-b4de-4e2a69e51c81', 'job_id': 'a538d4c6-01bc-48b5-beee-5b4db6b8e01f', 'params_url': 'http://localhost:8844/media/uploads/2022/01/05/my_model_c4264cc8-3562-4a64-bbf6-ed9ba20b5b42.pt', 'training_args': {'batch_size': 20, 'lr': 1e-05, 'epochs': 1, 'dry_run': False, 'batch_maxnum': 250}, 'training_data': {'node_b4095fb0-5dac-49f5-9af7-a478f8942a4a': ['dataset_acb23d50-9435-4549-9c84-457ed3ed462c']}, 'model_args': {'num_class': 6}, 'model_url': 'http://localhost:8844/media/uploads/2022/01/05/my_model_43380103-454c-42a3-bc34-13927bc21e33.py', 'model_class': 'MyTrainingPlan', 'command': 'train'}\n",
      "2022-01-05 09:31:26,684 fedbiomed INFO - log from: node_de591a20-68ff-4697-8abb-9daccd955df2 / DEBUG - [TASKS QUEUE] Item:{'researcher_id': 'researcher_6614eef6-5331-401a-b4de-4e2a69e51c81', 'job_id': 'a538d4c6-01bc-48b5-beee-5b4db6b8e01f', 'params_url': 'http://localhost:8844/media/uploads/2022/01/05/my_model_c4264cc8-3562-4a64-bbf6-ed9ba20b5b42.pt', 'training_args': {'batch_size': 20, 'lr': 1e-05, 'epochs': 1, 'dry_run': False, 'batch_maxnum': 250}, 'training_data': {'node_de591a20-68ff-4697-8abb-9daccd955df2': ['dataset_e7cd0f44-0504-4bd3-b10d-ae41a7cc708c']}, 'model_args': {'num_class': 6}, 'model_url': 'http://localhost:8844/media/uploads/2022/01/05/my_model_43380103-454c-42a3-bc34-13927bc21e33.py', 'model_class': 'MyTrainingPlan', 'command': 'train'}\n",
      "2022-01-05 09:31:26,685 fedbiomed INFO - log from: node_d562b808-8ed3-401b-8222-494283894e5d / DEBUG - Message received: {'researcher_id': 'researcher_6614eef6-5331-401a-b4de-4e2a69e51c81', 'job_id': 'a538d4c6-01bc-48b5-beee-5b4db6b8e01f', 'training_args': {'batch_size': 20, 'lr': 1e-05, 'epochs': 1, 'dry_run': False, 'batch_maxnum': 250}, 'model_args': {'num_class': 6}, 'command': 'train', 'model_url': 'http://localhost:8844/media/uploads/2022/01/05/my_model_43380103-454c-42a3-bc34-13927bc21e33.py', 'params_url': 'http://localhost:8844/media/uploads/2022/01/05/my_model_c4264cc8-3562-4a64-bbf6-ed9ba20b5b42.pt', 'model_class': 'MyTrainingPlan', 'training_data': {'node_d562b808-8ed3-401b-8222-494283894e5d': ['dataset_f2c80a1e-24d7-4c88-977f-ceff1acc9009']}}\n",
      "2022-01-05 09:31:26,691 fedbiomed INFO - log from: node_d562b808-8ed3-401b-8222-494283894e5d / DEBUG - [TASKS QUEUE] Item:{'researcher_id': 'researcher_6614eef6-5331-401a-b4de-4e2a69e51c81', 'job_id': 'a538d4c6-01bc-48b5-beee-5b4db6b8e01f', 'params_url': 'http://localhost:8844/media/uploads/2022/01/05/my_model_c4264cc8-3562-4a64-bbf6-ed9ba20b5b42.pt', 'training_args': {'batch_size': 20, 'lr': 1e-05, 'epochs': 1, 'dry_run': False, 'batch_maxnum': 250}, 'training_data': {'node_d562b808-8ed3-401b-8222-494283894e5d': ['dataset_f2c80a1e-24d7-4c88-977f-ceff1acc9009']}, 'model_args': {'num_class': 6}, 'model_url': 'http://localhost:8844/media/uploads/2022/01/05/my_model_43380103-454c-42a3-bc34-13927bc21e33.py', 'model_class': 'MyTrainingPlan', 'command': 'train'}\n",
      "2022-01-05 09:31:29,204 fedbiomed INFO - log from: node_d562b808-8ed3-401b-8222-494283894e5d / INFO - {'monitor': <fedbiomed.node.history_monitor.HistoryMonitor object at 0x13bb0b8b0>, 'batch_size': 20, 'lr': 1e-05, 'epochs': 1, 'dry_run': False, 'batch_maxnum': 250}\n",
      "2022-01-05 09:31:29,207 fedbiomed INFO - log from: node_d562b808-8ed3-401b-8222-494283894e5d / DEBUG - Dataset_path/Users/mlorenzi/works/temp/MedNIST/client_3\n",
      "2022-01-05 09:31:29,223 fedbiomed INFO - log from: node_b4095fb0-5dac-49f5-9af7-a478f8942a4a / INFO - {'monitor': <fedbiomed.node.history_monitor.HistoryMonitor object at 0x13a3f1b20>, 'batch_size': 20, 'lr': 1e-05, 'epochs': 1, 'dry_run': False, 'batch_maxnum': 250}\n",
      "2022-01-05 09:31:29,225 fedbiomed INFO - log from: node_de591a20-68ff-4697-8abb-9daccd955df2 / INFO - {'monitor': <fedbiomed.node.history_monitor.HistoryMonitor object at 0x13fe4abb0>, 'batch_size': 20, 'lr': 1e-05, 'epochs': 1, 'dry_run': False, 'batch_maxnum': 250}\n"
     ]
    },
    {
     "name": "stderr",
     "output_type": "stream",
     "text": [
      "2022-01-05 09:31:29,230 fedbiomed INFO - log from: node_b4095fb0-5dac-49f5-9af7-a478f8942a4a / DEBUG - Dataset_path/Users/mlorenzi/works/temp/MedNIST/client_2\n",
      "2022-01-05 09:31:29,231 fedbiomed INFO - log from: node_de591a20-68ff-4697-8abb-9daccd955df2 / DEBUG - Dataset_path/Users/mlorenzi/works/temp/MedNIST/client_1\n",
      "2022-01-05 09:31:30,470 fedbiomed INFO - log from: node_d562b808-8ed3-401b-8222-494283894e5d / INFO - Train Epoch: 1 [0/16954 (0%)]\tLoss: 1.851112\n",
      "2022-01-05 09:31:30,498 fedbiomed INFO - log from: node_de591a20-68ff-4697-8abb-9daccd955df2 / INFO - Train Epoch: 1 [0/18000 (0%)]\tLoss: 1.790576\n",
      "2022-01-05 09:31:30,521 fedbiomed INFO - log from: node_b4095fb0-5dac-49f5-9af7-a478f8942a4a / INFO - Train Epoch: 1 [0/18000 (0%)]\tLoss: 1.894149\n",
      "2022-01-05 09:31:41,191 fedbiomed INFO - log from: node_de591a20-68ff-4697-8abb-9daccd955df2 / INFO - Train Epoch: 1 [200/18000 (1%)]\tLoss: 1.672583\n",
      "2022-01-05 09:31:41,227 fedbiomed INFO - log from: node_b4095fb0-5dac-49f5-9af7-a478f8942a4a / INFO - Train Epoch: 1 [200/18000 (1%)]\tLoss: 1.824094\n",
      "2022-01-05 09:31:41,306 fedbiomed INFO - log from: node_d562b808-8ed3-401b-8222-494283894e5d / INFO - Train Epoch: 1 [200/16954 (1%)]\tLoss: 1.720390\n",
      "2022-01-05 09:31:52,900 fedbiomed INFO - log from: node_de591a20-68ff-4697-8abb-9daccd955df2 / INFO - Train Epoch: 1 [400/18000 (2%)]\tLoss: 1.650244\n",
      "2022-01-05 09:31:52,963 fedbiomed INFO - log from: node_b4095fb0-5dac-49f5-9af7-a478f8942a4a / INFO - Train Epoch: 1 [400/18000 (2%)]\tLoss: 1.520278\n",
      "2022-01-05 09:31:53,107 fedbiomed INFO - log from: node_d562b808-8ed3-401b-8222-494283894e5d / INFO - Train Epoch: 1 [400/16954 (2%)]\tLoss: 1.619378\n",
      "2022-01-05 09:32:04,455 fedbiomed INFO - log from: node_de591a20-68ff-4697-8abb-9daccd955df2 / INFO - Train Epoch: 1 [600/18000 (3%)]\tLoss: 1.428933\n",
      "2022-01-05 09:32:04,562 fedbiomed INFO - log from: node_b4095fb0-5dac-49f5-9af7-a478f8942a4a / INFO - Train Epoch: 1 [600/18000 (3%)]\tLoss: 1.426330\n",
      "2022-01-05 09:32:04,673 fedbiomed INFO - log from: node_d562b808-8ed3-401b-8222-494283894e5d / INFO - Train Epoch: 1 [600/16954 (4%)]\tLoss: 1.536467\n",
      "2022-01-05 09:32:16,835 fedbiomed INFO - log from: node_de591a20-68ff-4697-8abb-9daccd955df2 / INFO - Train Epoch: 1 [800/18000 (4%)]\tLoss: 1.367428\n",
      "2022-01-05 09:32:16,917 fedbiomed INFO - log from: node_b4095fb0-5dac-49f5-9af7-a478f8942a4a / INFO - Train Epoch: 1 [800/18000 (4%)]\tLoss: 1.348959\n",
      "2022-01-05 09:32:17,193 fedbiomed INFO - log from: node_d562b808-8ed3-401b-8222-494283894e5d / INFO - Train Epoch: 1 [800/16954 (5%)]\tLoss: 1.432622\n",
      "2022-01-05 09:32:29,223 fedbiomed INFO - log from: node_de591a20-68ff-4697-8abb-9daccd955df2 / INFO - Train Epoch: 1 [1000/18000 (6%)]\tLoss: 1.328715\n",
      "2022-01-05 09:32:29,405 fedbiomed INFO - log from: node_b4095fb0-5dac-49f5-9af7-a478f8942a4a / INFO - Train Epoch: 1 [1000/18000 (6%)]\tLoss: 1.317666\n",
      "2022-01-05 09:32:29,731 fedbiomed INFO - log from: node_d562b808-8ed3-401b-8222-494283894e5d / INFO - Train Epoch: 1 [1000/16954 (6%)]\tLoss: 1.295313\n",
      "2022-01-05 09:32:41,347 fedbiomed INFO - log from: node_de591a20-68ff-4697-8abb-9daccd955df2 / INFO - Train Epoch: 1 [1200/18000 (7%)]\tLoss: 1.205114\n",
      "2022-01-05 09:32:41,527 fedbiomed INFO - log from: node_b4095fb0-5dac-49f5-9af7-a478f8942a4a / INFO - Train Epoch: 1 [1200/18000 (7%)]\tLoss: 1.415184\n",
      "2022-01-05 09:32:41,962 fedbiomed INFO - log from: node_d562b808-8ed3-401b-8222-494283894e5d / INFO - Train Epoch: 1 [1200/16954 (7%)]\tLoss: 1.137252\n",
      "2022-01-05 09:32:54,158 fedbiomed INFO - log from: node_de591a20-68ff-4697-8abb-9daccd955df2 / INFO - Train Epoch: 1 [1400/18000 (8%)]\tLoss: 1.085311\n",
      "2022-01-05 09:32:54,623 fedbiomed INFO - log from: node_b4095fb0-5dac-49f5-9af7-a478f8942a4a / INFO - Train Epoch: 1 [1400/18000 (8%)]\tLoss: 1.056131\n",
      "2022-01-05 09:32:55,336 fedbiomed INFO - log from: node_d562b808-8ed3-401b-8222-494283894e5d / INFO - Train Epoch: 1 [1400/16954 (8%)]\tLoss: 1.160557\n",
      "2022-01-05 09:33:09,074 fedbiomed INFO - log from: node_de591a20-68ff-4697-8abb-9daccd955df2 / INFO - Train Epoch: 1 [1600/18000 (9%)]\tLoss: 1.111646\n",
      "2022-01-05 09:33:09,679 fedbiomed INFO - log from: node_b4095fb0-5dac-49f5-9af7-a478f8942a4a / INFO - Train Epoch: 1 [1600/18000 (9%)]\tLoss: 1.182388\n",
      "2022-01-05 09:33:10,026 fedbiomed INFO - log from: node_d562b808-8ed3-401b-8222-494283894e5d / INFO - Train Epoch: 1 [1600/16954 (9%)]\tLoss: 1.160342\n",
      "2022-01-05 09:33:21,044 fedbiomed INFO - log from: node_de591a20-68ff-4697-8abb-9daccd955df2 / INFO - Train Epoch: 1 [1800/18000 (10%)]\tLoss: 1.150211\n",
      "2022-01-05 09:33:21,492 fedbiomed INFO - log from: node_b4095fb0-5dac-49f5-9af7-a478f8942a4a / INFO - Train Epoch: 1 [1800/18000 (10%)]\tLoss: 1.126330\n",
      "2022-01-05 09:33:21,934 fedbiomed INFO - log from: node_d562b808-8ed3-401b-8222-494283894e5d / INFO - Train Epoch: 1 [1800/16954 (11%)]\tLoss: 0.939197\n",
      "2022-01-05 09:33:33,472 fedbiomed INFO - log from: node_de591a20-68ff-4697-8abb-9daccd955df2 / INFO - Train Epoch: 1 [2000/18000 (11%)]\tLoss: 1.240240\n",
      "2022-01-05 09:33:33,922 fedbiomed INFO - log from: node_b4095fb0-5dac-49f5-9af7-a478f8942a4a / INFO - Train Epoch: 1 [2000/18000 (11%)]\tLoss: 1.069767\n",
      "2022-01-05 09:33:34,604 fedbiomed INFO - log from: node_d562b808-8ed3-401b-8222-494283894e5d / INFO - Train Epoch: 1 [2000/16954 (12%)]\tLoss: 1.064417\n",
      "2022-01-05 09:33:45,736 fedbiomed INFO - log from: node_de591a20-68ff-4697-8abb-9daccd955df2 / INFO - Train Epoch: 1 [2200/18000 (12%)]\tLoss: 0.935397\n",
      "2022-01-05 09:33:46,354 fedbiomed INFO - log from: node_b4095fb0-5dac-49f5-9af7-a478f8942a4a / INFO - Train Epoch: 1 [2200/18000 (12%)]\tLoss: 1.034962\n",
      "2022-01-05 09:33:46,848 fedbiomed INFO - log from: node_d562b808-8ed3-401b-8222-494283894e5d / INFO - Train Epoch: 1 [2200/16954 (13%)]\tLoss: 0.990945\n",
      "2022-01-05 09:33:57,069 fedbiomed INFO - log from: node_de591a20-68ff-4697-8abb-9daccd955df2 / INFO - Train Epoch: 1 [2400/18000 (13%)]\tLoss: 1.096053\n",
      "2022-01-05 09:33:57,749 fedbiomed INFO - log from: node_b4095fb0-5dac-49f5-9af7-a478f8942a4a / INFO - Train Epoch: 1 [2400/18000 (13%)]\tLoss: 0.867513\n",
      "2022-01-05 09:33:58,265 fedbiomed INFO - log from: node_d562b808-8ed3-401b-8222-494283894e5d / INFO - Train Epoch: 1 [2400/16954 (14%)]\tLoss: 0.849632\n",
      "2022-01-05 09:34:09,003 fedbiomed INFO - log from: node_de591a20-68ff-4697-8abb-9daccd955df2 / INFO - Train Epoch: 1 [2600/18000 (14%)]\tLoss: 0.981195\n",
      "2022-01-05 09:34:09,702 fedbiomed INFO - log from: node_b4095fb0-5dac-49f5-9af7-a478f8942a4a / INFO - Train Epoch: 1 [2600/18000 (14%)]\tLoss: 0.703343\n",
      "2022-01-05 09:34:10,139 fedbiomed INFO - log from: node_d562b808-8ed3-401b-8222-494283894e5d / INFO - Train Epoch: 1 [2600/16954 (15%)]\tLoss: 0.776937\n",
      "2022-01-05 09:34:21,667 fedbiomed INFO - log from: node_de591a20-68ff-4697-8abb-9daccd955df2 / INFO - Train Epoch: 1 [2800/18000 (16%)]\tLoss: 0.807666\n",
      "2022-01-05 09:34:22,421 fedbiomed INFO - log from: node_b4095fb0-5dac-49f5-9af7-a478f8942a4a / INFO - Train Epoch: 1 [2800/18000 (16%)]\tLoss: 0.778872\n",
      "2022-01-05 09:34:22,930 fedbiomed INFO - log from: node_d562b808-8ed3-401b-8222-494283894e5d / INFO - Train Epoch: 1 [2800/16954 (17%)]\tLoss: 0.693452\n",
      "2022-01-05 09:34:33,155 fedbiomed INFO - log from: node_de591a20-68ff-4697-8abb-9daccd955df2 / INFO - Train Epoch: 1 [3000/18000 (17%)]\tLoss: 0.605006\n",
      "2022-01-05 09:34:33,800 fedbiomed INFO - log from: node_b4095fb0-5dac-49f5-9af7-a478f8942a4a / INFO - Train Epoch: 1 [3000/18000 (17%)]\tLoss: 0.831868\n",
      "2022-01-05 09:34:34,342 fedbiomed INFO - log from: node_d562b808-8ed3-401b-8222-494283894e5d / INFO - Train Epoch: 1 [3000/16954 (18%)]\tLoss: 0.767038\n",
      "2022-01-05 09:34:44,938 fedbiomed INFO - log from: node_de591a20-68ff-4697-8abb-9daccd955df2 / INFO - Train Epoch: 1 [3200/18000 (18%)]\tLoss: 0.893947\n",
      "2022-01-05 09:34:45,740 fedbiomed INFO - log from: node_b4095fb0-5dac-49f5-9af7-a478f8942a4a / INFO - Train Epoch: 1 [3200/18000 (18%)]\tLoss: 0.622051\n",
      "2022-01-05 09:34:46,369 fedbiomed INFO - log from: node_d562b808-8ed3-401b-8222-494283894e5d / INFO - Train Epoch: 1 [3200/16954 (19%)]\tLoss: 0.916300\n",
      "2022-01-05 09:34:57,843 fedbiomed INFO - log from: node_de591a20-68ff-4697-8abb-9daccd955df2 / INFO - Train Epoch: 1 [3400/18000 (19%)]\tLoss: 0.622229\n",
      "2022-01-05 09:34:58,781 fedbiomed INFO - log from: node_b4095fb0-5dac-49f5-9af7-a478f8942a4a / INFO - Train Epoch: 1 [3400/18000 (19%)]\tLoss: 0.777089\n"
     ]
    },
    {
     "name": "stderr",
     "output_type": "stream",
     "text": [
      "2022-01-05 09:34:59,479 fedbiomed INFO - log from: node_d562b808-8ed3-401b-8222-494283894e5d / INFO - Train Epoch: 1 [3400/16954 (20%)]\tLoss: 0.988173\n",
      "2022-01-05 09:35:11,444 fedbiomed INFO - log from: node_de591a20-68ff-4697-8abb-9daccd955df2 / INFO - Train Epoch: 1 [3600/18000 (20%)]\tLoss: 0.461884\n",
      "2022-01-05 09:35:12,286 fedbiomed INFO - log from: node_b4095fb0-5dac-49f5-9af7-a478f8942a4a / INFO - Train Epoch: 1 [3600/18000 (20%)]\tLoss: 0.744591\n",
      "2022-01-05 09:35:12,877 fedbiomed INFO - log from: node_d562b808-8ed3-401b-8222-494283894e5d / INFO - Train Epoch: 1 [3600/16954 (21%)]\tLoss: 0.784376\n",
      "2022-01-05 09:35:23,316 fedbiomed INFO - log from: node_de591a20-68ff-4697-8abb-9daccd955df2 / INFO - Train Epoch: 1 [3800/18000 (21%)]\tLoss: 0.626961\n",
      "2022-01-05 09:35:24,145 fedbiomed INFO - log from: node_b4095fb0-5dac-49f5-9af7-a478f8942a4a / INFO - Train Epoch: 1 [3800/18000 (21%)]\tLoss: 0.577616\n",
      "2022-01-05 09:35:24,780 fedbiomed INFO - log from: node_d562b808-8ed3-401b-8222-494283894e5d / INFO - Train Epoch: 1 [3800/16954 (22%)]\tLoss: 0.684916\n",
      "2022-01-05 09:35:35,874 fedbiomed INFO - log from: node_de591a20-68ff-4697-8abb-9daccd955df2 / INFO - Train Epoch: 1 [4000/18000 (22%)]\tLoss: 0.592147\n",
      "2022-01-05 09:35:36,747 fedbiomed INFO - log from: node_b4095fb0-5dac-49f5-9af7-a478f8942a4a / INFO - Train Epoch: 1 [4000/18000 (22%)]\tLoss: 0.548702\n",
      "2022-01-05 09:35:37,529 fedbiomed INFO - log from: node_d562b808-8ed3-401b-8222-494283894e5d / INFO - Train Epoch: 1 [4000/16954 (24%)]\tLoss: 0.661599\n",
      "2022-01-05 09:35:48,498 fedbiomed INFO - log from: node_de591a20-68ff-4697-8abb-9daccd955df2 / INFO - Train Epoch: 1 [4200/18000 (23%)]\tLoss: 0.855607\n",
      "2022-01-05 09:35:49,425 fedbiomed INFO - log from: node_b4095fb0-5dac-49f5-9af7-a478f8942a4a / INFO - Train Epoch: 1 [4200/18000 (23%)]\tLoss: 0.502646\n",
      "2022-01-05 09:35:50,150 fedbiomed INFO - log from: node_d562b808-8ed3-401b-8222-494283894e5d / INFO - Train Epoch: 1 [4200/16954 (25%)]\tLoss: 0.719537\n",
      "2022-01-05 09:36:00,705 fedbiomed INFO - log from: node_de591a20-68ff-4697-8abb-9daccd955df2 / INFO - Train Epoch: 1 [4400/18000 (24%)]\tLoss: 0.632847\n",
      "2022-01-05 09:36:01,898 fedbiomed INFO - log from: node_b4095fb0-5dac-49f5-9af7-a478f8942a4a / INFO - Train Epoch: 1 [4400/18000 (24%)]\tLoss: 0.530098\n",
      "2022-01-05 09:36:02,473 fedbiomed INFO - log from: node_d562b808-8ed3-401b-8222-494283894e5d / INFO - Train Epoch: 1 [4400/16954 (26%)]\tLoss: 0.585539\n",
      "2022-01-05 09:36:13,943 fedbiomed INFO - log from: node_de591a20-68ff-4697-8abb-9daccd955df2 / INFO - Train Epoch: 1 [4600/18000 (26%)]\tLoss: 0.624085\n",
      "2022-01-05 09:36:15,165 fedbiomed INFO - log from: node_b4095fb0-5dac-49f5-9af7-a478f8942a4a / INFO - Train Epoch: 1 [4600/18000 (26%)]\tLoss: 0.708548\n",
      "2022-01-05 09:36:15,744 fedbiomed INFO - log from: node_d562b808-8ed3-401b-8222-494283894e5d / INFO - Train Epoch: 1 [4600/16954 (27%)]\tLoss: 0.481090\n",
      "2022-01-05 09:36:26,242 fedbiomed INFO - log from: node_de591a20-68ff-4697-8abb-9daccd955df2 / INFO - Train Epoch: 1 [4800/18000 (27%)]\tLoss: 0.529235\n",
      "2022-01-05 09:36:27,571 fedbiomed INFO - log from: node_b4095fb0-5dac-49f5-9af7-a478f8942a4a / INFO - Train Epoch: 1 [4800/18000 (27%)]\tLoss: 0.467064\n",
      "2022-01-05 09:36:28,196 fedbiomed INFO - log from: node_d562b808-8ed3-401b-8222-494283894e5d / INFO - Train Epoch: 1 [4800/16954 (28%)]\tLoss: 0.732364\n",
      "2022-01-05 09:36:38,372 fedbiomed INFO - log from: node_de591a20-68ff-4697-8abb-9daccd955df2 / DEBUG - Reached 250 batches for this epoch, ignore remaining data\n",
      "2022-01-05 09:36:40,690 fedbiomed INFO - log from: node_b4095fb0-5dac-49f5-9af7-a478f8942a4a / DEBUG - Reached 250 batches for this epoch, ignore remaining data\n",
      "2022-01-05 09:36:41,939 fedbiomed INFO - log from: node_d562b808-8ed3-401b-8222-494283894e5d / DEBUG - Reached 250 batches for this epoch, ignore remaining data\n",
      "2022-01-05 09:36:43,876 fedbiomed INFO - log from: node_de591a20-68ff-4697-8abb-9daccd955df2 / INFO - results uploaded successfully \n",
      "2022-01-05 09:36:45,875 fedbiomed INFO - log from: node_b4095fb0-5dac-49f5-9af7-a478f8942a4a / INFO - results uploaded successfully \n",
      "2022-01-05 09:36:46,555 fedbiomed INFO - log from: node_d562b808-8ed3-401b-8222-494283894e5d / INFO - results uploaded successfully \n",
      "2022-01-05 09:36:51,938 fedbiomed INFO - Downloading model params after training on node_de591a20-68ff-4697-8abb-9daccd955df2 - from http://localhost:8844/media/uploads/2022/01/05/node_params_e0a40e0e-f20d-4402-a0cc-d76e39c53ad2.pt\n",
      "2022-01-05 09:36:52,671 fedbiomed INFO - Downloading model params after training on node_b4095fb0-5dac-49f5-9af7-a478f8942a4a - from http://localhost:8844/media/uploads/2022/01/05/node_params_220ee09c-5348-4ecf-bf56-867265a9d1b0.pt\n",
      "2022-01-05 09:36:53,468 fedbiomed INFO - Downloading model params after training on node_d562b808-8ed3-401b-8222-494283894e5d - from http://localhost:8844/media/uploads/2022/01/05/node_params_55581607-b08e-4567-9abf-cec1f7489d7b.pt\n",
      "2022-01-05 09:36:54,213 fedbiomed INFO - Nodes that successfully reply in round 0 ['node_de591a20-68ff-4697-8abb-9daccd955df2', 'node_b4095fb0-5dac-49f5-9af7-a478f8942a4a', 'node_d562b808-8ed3-401b-8222-494283894e5d']\n",
      "2022-01-05 09:36:56,348 fedbiomed INFO - Sampled nodes in round 1 ['node_b4095fb0-5dac-49f5-9af7-a478f8942a4a', 'node_de591a20-68ff-4697-8abb-9daccd955df2', 'node_d562b808-8ed3-401b-8222-494283894e5d']\n",
      "2022-01-05 09:36:56,349 fedbiomed INFO - Send message to node node_b4095fb0-5dac-49f5-9af7-a478f8942a4a - {'researcher_id': 'researcher_6614eef6-5331-401a-b4de-4e2a69e51c81', 'job_id': 'a538d4c6-01bc-48b5-beee-5b4db6b8e01f', 'training_args': {'batch_size': 20, 'lr': 1e-05, 'epochs': 1, 'dry_run': False, 'batch_maxnum': 250}, 'model_args': {'num_class': 6}, 'command': 'train', 'model_url': 'http://localhost:8844/media/uploads/2022/01/05/my_model_43380103-454c-42a3-bc34-13927bc21e33.py', 'params_url': 'http://localhost:8844/media/uploads/2022/01/05/researcher_params_65b83e7f-e1ae-4440-9d0b-06597b6743ab.pt', 'model_class': 'MyTrainingPlan', 'training_data': {'node_b4095fb0-5dac-49f5-9af7-a478f8942a4a': ['dataset_acb23d50-9435-4549-9c84-457ed3ed462c']}}\n",
      "2022-01-05 09:36:56,349 fedbiomed DEBUG - researcher_6614eef6-5331-401a-b4de-4e2a69e51c81\n",
      "2022-01-05 09:36:56,350 fedbiomed INFO - Send message to node node_de591a20-68ff-4697-8abb-9daccd955df2 - {'researcher_id': 'researcher_6614eef6-5331-401a-b4de-4e2a69e51c81', 'job_id': 'a538d4c6-01bc-48b5-beee-5b4db6b8e01f', 'training_args': {'batch_size': 20, 'lr': 1e-05, 'epochs': 1, 'dry_run': False, 'batch_maxnum': 250}, 'model_args': {'num_class': 6}, 'command': 'train', 'model_url': 'http://localhost:8844/media/uploads/2022/01/05/my_model_43380103-454c-42a3-bc34-13927bc21e33.py', 'params_url': 'http://localhost:8844/media/uploads/2022/01/05/researcher_params_65b83e7f-e1ae-4440-9d0b-06597b6743ab.pt', 'model_class': 'MyTrainingPlan', 'training_data': {'node_de591a20-68ff-4697-8abb-9daccd955df2': ['dataset_e7cd0f44-0504-4bd3-b10d-ae41a7cc708c']}}\n",
      "2022-01-05 09:36:56,351 fedbiomed DEBUG - researcher_6614eef6-5331-401a-b4de-4e2a69e51c81\n",
      "2022-01-05 09:36:56,353 fedbiomed INFO - Send message to node node_d562b808-8ed3-401b-8222-494283894e5d - {'researcher_id': 'researcher_6614eef6-5331-401a-b4de-4e2a69e51c81', 'job_id': 'a538d4c6-01bc-48b5-beee-5b4db6b8e01f', 'training_args': {'batch_size': 20, 'lr': 1e-05, 'epochs': 1, 'dry_run': False, 'batch_maxnum': 250}, 'model_args': {'num_class': 6}, 'command': 'train', 'model_url': 'http://localhost:8844/media/uploads/2022/01/05/my_model_43380103-454c-42a3-bc34-13927bc21e33.py', 'params_url': 'http://localhost:8844/media/uploads/2022/01/05/researcher_params_65b83e7f-e1ae-4440-9d0b-06597b6743ab.pt', 'model_class': 'MyTrainingPlan', 'training_data': {'node_d562b808-8ed3-401b-8222-494283894e5d': ['dataset_f2c80a1e-24d7-4c88-977f-ceff1acc9009']}}\n",
      "2022-01-05 09:36:56,356 fedbiomed DEBUG - researcher_6614eef6-5331-401a-b4de-4e2a69e51c81\n",
      "2022-01-05 09:36:56,363 fedbiomed INFO - log from: node_b4095fb0-5dac-49f5-9af7-a478f8942a4a / DEBUG - Message received: {'researcher_id': 'researcher_6614eef6-5331-401a-b4de-4e2a69e51c81', 'job_id': 'a538d4c6-01bc-48b5-beee-5b4db6b8e01f', 'training_args': {'batch_size': 20, 'lr': 1e-05, 'epochs': 1, 'dry_run': False, 'batch_maxnum': 250}, 'model_args': {'num_class': 6}, 'command': 'train', 'model_url': 'http://localhost:8844/media/uploads/2022/01/05/my_model_43380103-454c-42a3-bc34-13927bc21e33.py', 'params_url': 'http://localhost:8844/media/uploads/2022/01/05/researcher_params_65b83e7f-e1ae-4440-9d0b-06597b6743ab.pt', 'model_class': 'MyTrainingPlan', 'training_data': {'node_b4095fb0-5dac-49f5-9af7-a478f8942a4a': ['dataset_acb23d50-9435-4549-9c84-457ed3ed462c']}}\n"
     ]
    },
    {
     "name": "stderr",
     "output_type": "stream",
     "text": [
      "2022-01-05 09:36:56,366 fedbiomed INFO - log from: node_de591a20-68ff-4697-8abb-9daccd955df2 / DEBUG - Message received: {'researcher_id': 'researcher_6614eef6-5331-401a-b4de-4e2a69e51c81', 'job_id': 'a538d4c6-01bc-48b5-beee-5b4db6b8e01f', 'training_args': {'batch_size': 20, 'lr': 1e-05, 'epochs': 1, 'dry_run': False, 'batch_maxnum': 250}, 'model_args': {'num_class': 6}, 'command': 'train', 'model_url': 'http://localhost:8844/media/uploads/2022/01/05/my_model_43380103-454c-42a3-bc34-13927bc21e33.py', 'params_url': 'http://localhost:8844/media/uploads/2022/01/05/researcher_params_65b83e7f-e1ae-4440-9d0b-06597b6743ab.pt', 'model_class': 'MyTrainingPlan', 'training_data': {'node_de591a20-68ff-4697-8abb-9daccd955df2': ['dataset_e7cd0f44-0504-4bd3-b10d-ae41a7cc708c']}}\n",
      "2022-01-05 09:36:56,368 fedbiomed INFO - log from: node_b4095fb0-5dac-49f5-9af7-a478f8942a4a / DEBUG - [TASKS QUEUE] Item:{'researcher_id': 'researcher_6614eef6-5331-401a-b4de-4e2a69e51c81', 'job_id': 'a538d4c6-01bc-48b5-beee-5b4db6b8e01f', 'params_url': 'http://localhost:8844/media/uploads/2022/01/05/researcher_params_65b83e7f-e1ae-4440-9d0b-06597b6743ab.pt', 'training_args': {'batch_size': 20, 'lr': 1e-05, 'epochs': 1, 'dry_run': False, 'batch_maxnum': 250}, 'training_data': {'node_b4095fb0-5dac-49f5-9af7-a478f8942a4a': ['dataset_acb23d50-9435-4549-9c84-457ed3ed462c']}, 'model_args': {'num_class': 6}, 'model_url': 'http://localhost:8844/media/uploads/2022/01/05/my_model_43380103-454c-42a3-bc34-13927bc21e33.py', 'model_class': 'MyTrainingPlan', 'command': 'train'}\n",
      "2022-01-05 09:36:56,370 fedbiomed INFO - log from: node_de591a20-68ff-4697-8abb-9daccd955df2 / DEBUG - [TASKS QUEUE] Item:{'researcher_id': 'researcher_6614eef6-5331-401a-b4de-4e2a69e51c81', 'job_id': 'a538d4c6-01bc-48b5-beee-5b4db6b8e01f', 'params_url': 'http://localhost:8844/media/uploads/2022/01/05/researcher_params_65b83e7f-e1ae-4440-9d0b-06597b6743ab.pt', 'training_args': {'batch_size': 20, 'lr': 1e-05, 'epochs': 1, 'dry_run': False, 'batch_maxnum': 250}, 'training_data': {'node_de591a20-68ff-4697-8abb-9daccd955df2': ['dataset_e7cd0f44-0504-4bd3-b10d-ae41a7cc708c']}, 'model_args': {'num_class': 6}, 'model_url': 'http://localhost:8844/media/uploads/2022/01/05/my_model_43380103-454c-42a3-bc34-13927bc21e33.py', 'model_class': 'MyTrainingPlan', 'command': 'train'}\n",
      "2022-01-05 09:36:56,376 fedbiomed INFO - log from: node_d562b808-8ed3-401b-8222-494283894e5d / DEBUG - Message received: {'researcher_id': 'researcher_6614eef6-5331-401a-b4de-4e2a69e51c81', 'job_id': 'a538d4c6-01bc-48b5-beee-5b4db6b8e01f', 'training_args': {'batch_size': 20, 'lr': 1e-05, 'epochs': 1, 'dry_run': False, 'batch_maxnum': 250}, 'model_args': {'num_class': 6}, 'command': 'train', 'model_url': 'http://localhost:8844/media/uploads/2022/01/05/my_model_43380103-454c-42a3-bc34-13927bc21e33.py', 'params_url': 'http://localhost:8844/media/uploads/2022/01/05/researcher_params_65b83e7f-e1ae-4440-9d0b-06597b6743ab.pt', 'model_class': 'MyTrainingPlan', 'training_data': {'node_d562b808-8ed3-401b-8222-494283894e5d': ['dataset_f2c80a1e-24d7-4c88-977f-ceff1acc9009']}}\n",
      "2022-01-05 09:36:56,378 fedbiomed INFO - log from: node_d562b808-8ed3-401b-8222-494283894e5d / DEBUG - [TASKS QUEUE] Item:{'researcher_id': 'researcher_6614eef6-5331-401a-b4de-4e2a69e51c81', 'job_id': 'a538d4c6-01bc-48b5-beee-5b4db6b8e01f', 'params_url': 'http://localhost:8844/media/uploads/2022/01/05/researcher_params_65b83e7f-e1ae-4440-9d0b-06597b6743ab.pt', 'training_args': {'batch_size': 20, 'lr': 1e-05, 'epochs': 1, 'dry_run': False, 'batch_maxnum': 250}, 'training_data': {'node_d562b808-8ed3-401b-8222-494283894e5d': ['dataset_f2c80a1e-24d7-4c88-977f-ceff1acc9009']}, 'model_args': {'num_class': 6}, 'model_url': 'http://localhost:8844/media/uploads/2022/01/05/my_model_43380103-454c-42a3-bc34-13927bc21e33.py', 'model_class': 'MyTrainingPlan', 'command': 'train'}\n",
      "2022-01-05 09:36:58,204 fedbiomed INFO - log from: node_b4095fb0-5dac-49f5-9af7-a478f8942a4a / INFO - {'monitor': <fedbiomed.node.history_monitor.HistoryMonitor object at 0x138feaa00>, 'batch_size': 20, 'lr': 1e-05, 'epochs': 1, 'dry_run': False, 'batch_maxnum': 250}\n",
      "2022-01-05 09:36:58,206 fedbiomed INFO - log from: node_b4095fb0-5dac-49f5-9af7-a478f8942a4a / DEBUG - Dataset_path/Users/mlorenzi/works/temp/MedNIST/client_2\n",
      "2022-01-05 09:36:58,244 fedbiomed INFO - log from: node_d562b808-8ed3-401b-8222-494283894e5d / INFO - {'monitor': <fedbiomed.node.history_monitor.HistoryMonitor object at 0x13bcb9910>, 'batch_size': 20, 'lr': 1e-05, 'epochs': 1, 'dry_run': False, 'batch_maxnum': 250}\n",
      "2022-01-05 09:36:58,246 fedbiomed INFO - log from: node_d562b808-8ed3-401b-8222-494283894e5d / DEBUG - Dataset_path/Users/mlorenzi/works/temp/MedNIST/client_3\n",
      "2022-01-05 09:36:58,401 fedbiomed INFO - log from: node_de591a20-68ff-4697-8abb-9daccd955df2 / INFO - {'monitor': <fedbiomed.node.history_monitor.HistoryMonitor object at 0x1105d77f0>, 'batch_size': 20, 'lr': 1e-05, 'epochs': 1, 'dry_run': False, 'batch_maxnum': 250}\n",
      "2022-01-05 09:36:58,405 fedbiomed INFO - log from: node_de591a20-68ff-4697-8abb-9daccd955df2 / DEBUG - Dataset_path/Users/mlorenzi/works/temp/MedNIST/client_1\n",
      "2022-01-05 09:36:59,358 fedbiomed INFO - log from: node_b4095fb0-5dac-49f5-9af7-a478f8942a4a / INFO - Train Epoch: 1 [0/18000 (0%)]\tLoss: 0.525380\n",
      "2022-01-05 09:36:59,402 fedbiomed INFO - log from: node_d562b808-8ed3-401b-8222-494283894e5d / INFO - Train Epoch: 1 [0/16954 (0%)]\tLoss: 0.536563\n",
      "2022-01-05 09:36:59,577 fedbiomed INFO - log from: node_de591a20-68ff-4697-8abb-9daccd955df2 / INFO - Train Epoch: 1 [0/18000 (0%)]\tLoss: 0.734687\n",
      "2022-01-05 09:37:09,378 fedbiomed INFO - log from: node_b4095fb0-5dac-49f5-9af7-a478f8942a4a / INFO - Train Epoch: 1 [200/18000 (1%)]\tLoss: 0.382210\n",
      "2022-01-05 09:37:09,437 fedbiomed INFO - log from: node_d562b808-8ed3-401b-8222-494283894e5d / INFO - Train Epoch: 1 [200/16954 (1%)]\tLoss: 0.532674\n",
      "2022-01-05 09:37:09,707 fedbiomed INFO - log from: node_de591a20-68ff-4697-8abb-9daccd955df2 / INFO - Train Epoch: 1 [200/18000 (1%)]\tLoss: 0.369162\n",
      "2022-01-05 09:37:20,150 fedbiomed INFO - log from: node_b4095fb0-5dac-49f5-9af7-a478f8942a4a / INFO - Train Epoch: 1 [400/18000 (2%)]\tLoss: 0.489061\n",
      "2022-01-05 09:37:20,286 fedbiomed INFO - log from: node_d562b808-8ed3-401b-8222-494283894e5d / INFO - Train Epoch: 1 [400/16954 (2%)]\tLoss: 0.490161\n",
      "2022-01-05 09:37:20,647 fedbiomed INFO - log from: node_de591a20-68ff-4697-8abb-9daccd955df2 / INFO - Train Epoch: 1 [400/18000 (2%)]\tLoss: 0.558618\n",
      "2022-01-05 09:37:30,877 fedbiomed INFO - log from: node_b4095fb0-5dac-49f5-9af7-a478f8942a4a / INFO - Train Epoch: 1 [600/18000 (3%)]\tLoss: 0.580411\n",
      "2022-01-05 09:37:31,124 fedbiomed INFO - log from: node_d562b808-8ed3-401b-8222-494283894e5d / INFO - Train Epoch: 1 [600/16954 (4%)]\tLoss: 0.615117\n",
      "2022-01-05 09:37:31,409 fedbiomed INFO - log from: node_de591a20-68ff-4697-8abb-9daccd955df2 / INFO - Train Epoch: 1 [600/18000 (3%)]\tLoss: 0.592294\n",
      "2022-01-05 09:37:42,255 fedbiomed INFO - log from: node_b4095fb0-5dac-49f5-9af7-a478f8942a4a / INFO - Train Epoch: 1 [800/18000 (4%)]\tLoss: 0.460828\n",
      "2022-01-05 09:37:42,593 fedbiomed INFO - log from: node_d562b808-8ed3-401b-8222-494283894e5d / INFO - Train Epoch: 1 [800/16954 (5%)]\tLoss: 0.599140\n",
      "2022-01-05 09:37:42,916 fedbiomed INFO - log from: node_de591a20-68ff-4697-8abb-9daccd955df2 / INFO - Train Epoch: 1 [800/18000 (4%)]\tLoss: 0.358505\n",
      "2022-01-05 09:37:53,922 fedbiomed INFO - log from: node_b4095fb0-5dac-49f5-9af7-a478f8942a4a / INFO - Train Epoch: 1 [1000/18000 (6%)]\tLoss: 0.452086\n",
      "2022-01-05 09:37:54,330 fedbiomed INFO - log from: node_d562b808-8ed3-401b-8222-494283894e5d / INFO - Train Epoch: 1 [1000/16954 (6%)]\tLoss: 0.558810\n",
      "2022-01-05 09:37:54,529 fedbiomed INFO - log from: node_de591a20-68ff-4697-8abb-9daccd955df2 / INFO - Train Epoch: 1 [1000/18000 (6%)]\tLoss: 0.400198\n",
      "2022-01-05 09:38:05,432 fedbiomed INFO - log from: node_b4095fb0-5dac-49f5-9af7-a478f8942a4a / INFO - Train Epoch: 1 [1200/18000 (7%)]\tLoss: 0.251609\n",
      "2022-01-05 09:38:05,739 fedbiomed INFO - log from: node_d562b808-8ed3-401b-8222-494283894e5d / INFO - Train Epoch: 1 [1200/16954 (7%)]\tLoss: 0.348154\n",
      "2022-01-05 09:38:05,968 fedbiomed INFO - log from: node_de591a20-68ff-4697-8abb-9daccd955df2 / INFO - Train Epoch: 1 [1200/18000 (7%)]\tLoss: 0.358958\n"
     ]
    },
    {
     "name": "stderr",
     "output_type": "stream",
     "text": [
      "2022-01-05 09:38:20,361 fedbiomed INFO - log from: node_b4095fb0-5dac-49f5-9af7-a478f8942a4a / INFO - Train Epoch: 1 [1400/18000 (8%)]\tLoss: 0.330827\n",
      "2022-01-05 09:38:20,757 fedbiomed INFO - log from: node_d562b808-8ed3-401b-8222-494283894e5d / INFO - Train Epoch: 1 [1400/16954 (8%)]\tLoss: 0.475132\n",
      "2022-01-05 09:38:21,580 fedbiomed INFO - log from: node_de591a20-68ff-4697-8abb-9daccd955df2 / INFO - Train Epoch: 1 [1400/18000 (8%)]\tLoss: 0.312722\n",
      "2022-01-05 09:38:34,719 fedbiomed INFO - log from: node_b4095fb0-5dac-49f5-9af7-a478f8942a4a / INFO - Train Epoch: 1 [1600/18000 (9%)]\tLoss: 0.270845\n",
      "2022-01-05 09:38:35,060 fedbiomed INFO - log from: node_d562b808-8ed3-401b-8222-494283894e5d / INFO - Train Epoch: 1 [1600/16954 (9%)]\tLoss: 0.410416\n",
      "2022-01-05 09:38:35,348 fedbiomed INFO - log from: node_de591a20-68ff-4697-8abb-9daccd955df2 / INFO - Train Epoch: 1 [1600/18000 (9%)]\tLoss: 0.242465\n",
      "2022-01-05 09:38:46,187 fedbiomed INFO - log from: node_b4095fb0-5dac-49f5-9af7-a478f8942a4a / INFO - Train Epoch: 1 [1800/18000 (10%)]\tLoss: 0.275191\n",
      "2022-01-05 09:38:46,520 fedbiomed INFO - log from: node_d562b808-8ed3-401b-8222-494283894e5d / INFO - Train Epoch: 1 [1800/16954 (11%)]\tLoss: 0.540030\n",
      "2022-01-05 09:38:46,828 fedbiomed INFO - log from: node_de591a20-68ff-4697-8abb-9daccd955df2 / INFO - Train Epoch: 1 [1800/18000 (10%)]\tLoss: 0.332972\n",
      "2022-01-05 09:38:57,478 fedbiomed INFO - log from: node_b4095fb0-5dac-49f5-9af7-a478f8942a4a / INFO - Train Epoch: 1 [2000/18000 (11%)]\tLoss: 0.206841\n",
      "2022-01-05 09:38:57,826 fedbiomed INFO - log from: node_d562b808-8ed3-401b-8222-494283894e5d / INFO - Train Epoch: 1 [2000/16954 (12%)]\tLoss: 0.258592\n",
      "2022-01-05 09:38:58,002 fedbiomed INFO - log from: node_de591a20-68ff-4697-8abb-9daccd955df2 / INFO - Train Epoch: 1 [2000/18000 (11%)]\tLoss: 0.280901\n",
      "2022-01-05 09:39:09,705 fedbiomed INFO - log from: node_b4095fb0-5dac-49f5-9af7-a478f8942a4a / INFO - Train Epoch: 1 [2200/18000 (12%)]\tLoss: 0.190266\n",
      "2022-01-05 09:39:10,126 fedbiomed INFO - log from: node_d562b808-8ed3-401b-8222-494283894e5d / INFO - Train Epoch: 1 [2200/16954 (13%)]\tLoss: 0.287551\n",
      "2022-01-05 09:39:10,387 fedbiomed INFO - log from: node_de591a20-68ff-4697-8abb-9daccd955df2 / INFO - Train Epoch: 1 [2200/18000 (12%)]\tLoss: 0.253824\n",
      "2022-01-05 09:39:26,301 fedbiomed INFO - log from: node_b4095fb0-5dac-49f5-9af7-a478f8942a4a / INFO - Train Epoch: 1 [2400/18000 (13%)]\tLoss: 0.238652\n",
      "2022-01-05 09:39:26,673 fedbiomed INFO - log from: node_d562b808-8ed3-401b-8222-494283894e5d / INFO - Train Epoch: 1 [2400/16954 (14%)]\tLoss: 0.303965\n",
      "2022-01-05 09:39:27,198 fedbiomed INFO - log from: node_de591a20-68ff-4697-8abb-9daccd955df2 / INFO - Train Epoch: 1 [2400/18000 (13%)]\tLoss: 0.330039\n",
      "2022-01-05 09:39:38,008 fedbiomed INFO - log from: node_b4095fb0-5dac-49f5-9af7-a478f8942a4a / INFO - Train Epoch: 1 [2600/18000 (14%)]\tLoss: 0.232092\n",
      "2022-01-05 09:39:38,348 fedbiomed INFO - log from: node_d562b808-8ed3-401b-8222-494283894e5d / INFO - Train Epoch: 1 [2600/16954 (15%)]\tLoss: 0.398871\n",
      "2022-01-05 09:39:38,567 fedbiomed INFO - log from: node_de591a20-68ff-4697-8abb-9daccd955df2 / INFO - Train Epoch: 1 [2600/18000 (14%)]\tLoss: 0.190479\n",
      "2022-01-05 09:39:49,939 fedbiomed INFO - log from: node_b4095fb0-5dac-49f5-9af7-a478f8942a4a / INFO - Train Epoch: 1 [2800/18000 (16%)]\tLoss: 0.262936\n",
      "2022-01-05 09:39:50,250 fedbiomed INFO - log from: node_d562b808-8ed3-401b-8222-494283894e5d / INFO - Train Epoch: 1 [2800/16954 (17%)]\tLoss: 0.180399\n",
      "2022-01-05 09:39:50,438 fedbiomed INFO - log from: node_de591a20-68ff-4697-8abb-9daccd955df2 / INFO - Train Epoch: 1 [2800/18000 (16%)]\tLoss: 0.247586\n",
      "2022-01-05 09:40:01,633 fedbiomed INFO - log from: node_b4095fb0-5dac-49f5-9af7-a478f8942a4a / INFO - Train Epoch: 1 [3000/18000 (17%)]\tLoss: 0.304666\n",
      "2022-01-05 09:40:02,027 fedbiomed INFO - log from: node_d562b808-8ed3-401b-8222-494283894e5d / INFO - Train Epoch: 1 [3000/16954 (18%)]\tLoss: 0.510422\n",
      "2022-01-05 09:40:02,229 fedbiomed INFO - log from: node_de591a20-68ff-4697-8abb-9daccd955df2 / INFO - Train Epoch: 1 [3000/18000 (17%)]\tLoss: 0.257210\n",
      "2022-01-05 09:40:13,886 fedbiomed INFO - log from: node_b4095fb0-5dac-49f5-9af7-a478f8942a4a / INFO - Train Epoch: 1 [3200/18000 (18%)]\tLoss: 0.308133\n",
      "2022-01-05 09:40:13,989 fedbiomed INFO - log from: node_d562b808-8ed3-401b-8222-494283894e5d / INFO - Train Epoch: 1 [3200/16954 (19%)]\tLoss: 0.383751\n",
      "2022-01-05 09:40:14,367 fedbiomed INFO - log from: node_de591a20-68ff-4697-8abb-9daccd955df2 / INFO - Train Epoch: 1 [3200/18000 (18%)]\tLoss: 0.252540\n",
      "2022-01-05 09:40:28,537 fedbiomed INFO - log from: node_b4095fb0-5dac-49f5-9af7-a478f8942a4a / INFO - Train Epoch: 1 [3400/18000 (19%)]\tLoss: 0.203180\n",
      "2022-01-05 09:40:29,003 fedbiomed INFO - log from: node_d562b808-8ed3-401b-8222-494283894e5d / INFO - Train Epoch: 1 [3400/16954 (20%)]\tLoss: 0.254064\n",
      "2022-01-05 09:40:29,028 fedbiomed INFO - log from: node_de591a20-68ff-4697-8abb-9daccd955df2 / INFO - Train Epoch: 1 [3400/18000 (19%)]\tLoss: 0.193756\n",
      "2022-01-05 09:40:41,931 fedbiomed INFO - log from: node_b4095fb0-5dac-49f5-9af7-a478f8942a4a / INFO - Train Epoch: 1 [3600/18000 (20%)]\tLoss: 0.132016\n",
      "2022-01-05 09:40:42,186 fedbiomed INFO - log from: node_d562b808-8ed3-401b-8222-494283894e5d / INFO - Train Epoch: 1 [3600/16954 (21%)]\tLoss: 0.269714\n",
      "2022-01-05 09:40:42,191 fedbiomed INFO - log from: node_de591a20-68ff-4697-8abb-9daccd955df2 / INFO - Train Epoch: 1 [3600/18000 (20%)]\tLoss: 0.192045\n",
      "2022-01-05 09:40:54,554 fedbiomed INFO - log from: node_b4095fb0-5dac-49f5-9af7-a478f8942a4a / INFO - Train Epoch: 1 [3800/18000 (21%)]\tLoss: 0.269406\n",
      "2022-01-05 09:40:54,776 fedbiomed INFO - log from: node_de591a20-68ff-4697-8abb-9daccd955df2 / INFO - Train Epoch: 1 [3800/18000 (21%)]\tLoss: 0.160112\n",
      "2022-01-05 09:40:54,926 fedbiomed INFO - log from: node_d562b808-8ed3-401b-8222-494283894e5d / INFO - Train Epoch: 1 [3800/16954 (22%)]\tLoss: 0.153753\n",
      "2022-01-05 09:41:07,021 fedbiomed INFO - log from: node_b4095fb0-5dac-49f5-9af7-a478f8942a4a / INFO - Train Epoch: 1 [4000/18000 (22%)]\tLoss: 0.281618\n",
      "2022-01-05 09:41:07,169 fedbiomed INFO - log from: node_de591a20-68ff-4697-8abb-9daccd955df2 / INFO - Train Epoch: 1 [4000/18000 (22%)]\tLoss: 0.238672\n",
      "2022-01-05 09:41:07,409 fedbiomed INFO - log from: node_d562b808-8ed3-401b-8222-494283894e5d / INFO - Train Epoch: 1 [4000/16954 (24%)]\tLoss: 0.471223\n",
      "2022-01-05 09:41:19,266 fedbiomed INFO - log from: node_b4095fb0-5dac-49f5-9af7-a478f8942a4a / INFO - Train Epoch: 1 [4200/18000 (23%)]\tLoss: 0.278419\n",
      "2022-01-05 09:41:19,503 fedbiomed INFO - log from: node_de591a20-68ff-4697-8abb-9daccd955df2 / INFO - Train Epoch: 1 [4200/18000 (23%)]\tLoss: 0.168100\n",
      "2022-01-05 09:41:19,696 fedbiomed INFO - log from: node_d562b808-8ed3-401b-8222-494283894e5d / INFO - Train Epoch: 1 [4200/16954 (25%)]\tLoss: 0.190409\n",
      "2022-01-05 09:41:31,235 fedbiomed INFO - log from: node_b4095fb0-5dac-49f5-9af7-a478f8942a4a / INFO - Train Epoch: 1 [4400/18000 (24%)]\tLoss: 0.121066\n",
      "2022-01-05 09:41:31,606 fedbiomed INFO - log from: node_de591a20-68ff-4697-8abb-9daccd955df2 / INFO - Train Epoch: 1 [4400/18000 (24%)]\tLoss: 0.232778\n",
      "2022-01-05 09:41:32,018 fedbiomed INFO - log from: node_d562b808-8ed3-401b-8222-494283894e5d / INFO - Train Epoch: 1 [4400/16954 (26%)]\tLoss: 0.395630\n",
      "2022-01-05 09:41:43,830 fedbiomed INFO - log from: node_b4095fb0-5dac-49f5-9af7-a478f8942a4a / INFO - Train Epoch: 1 [4600/18000 (26%)]\tLoss: 0.366037\n",
      "2022-01-05 09:41:44,214 fedbiomed INFO - log from: node_de591a20-68ff-4697-8abb-9daccd955df2 / INFO - Train Epoch: 1 [4600/18000 (26%)]\tLoss: 0.300767\n",
      "2022-01-05 09:41:44,645 fedbiomed INFO - log from: node_d562b808-8ed3-401b-8222-494283894e5d / INFO - Train Epoch: 1 [4600/16954 (27%)]\tLoss: 0.158588\n",
      "2022-01-05 09:41:55,575 fedbiomed INFO - log from: node_b4095fb0-5dac-49f5-9af7-a478f8942a4a / INFO - Train Epoch: 1 [4800/18000 (27%)]\tLoss: 0.198599\n",
      "2022-01-05 09:41:55,988 fedbiomed INFO - log from: node_de591a20-68ff-4697-8abb-9daccd955df2 / INFO - Train Epoch: 1 [4800/18000 (27%)]\tLoss: 0.138596\n",
      "2022-01-05 09:41:56,432 fedbiomed INFO - log from: node_d562b808-8ed3-401b-8222-494283894e5d / INFO - Train Epoch: 1 [4800/16954 (28%)]\tLoss: 0.186452\n",
      "2022-01-05 09:42:07,491 fedbiomed INFO - log from: node_b4095fb0-5dac-49f5-9af7-a478f8942a4a / DEBUG - Reached 250 batches for this epoch, ignore remaining data\n"
     ]
    },
    {
     "name": "stderr",
     "output_type": "stream",
     "text": [
      "2022-01-05 09:42:08,110 fedbiomed INFO - log from: node_de591a20-68ff-4697-8abb-9daccd955df2 / DEBUG - Reached 250 batches for this epoch, ignore remaining data\n",
      "2022-01-05 09:42:08,780 fedbiomed INFO - log from: node_d562b808-8ed3-401b-8222-494283894e5d / DEBUG - Reached 250 batches for this epoch, ignore remaining data\n",
      "2022-01-05 09:42:11,487 fedbiomed INFO - log from: node_b4095fb0-5dac-49f5-9af7-a478f8942a4a / INFO - results uploaded successfully \n",
      "2022-01-05 09:42:12,079 fedbiomed INFO - log from: node_de591a20-68ff-4697-8abb-9daccd955df2 / INFO - results uploaded successfully \n",
      "2022-01-05 09:42:12,188 fedbiomed INFO - log from: node_d562b808-8ed3-401b-8222-494283894e5d / INFO - results uploaded successfully \n",
      "2022-01-05 09:42:21,645 fedbiomed INFO - Downloading model params after training on node_b4095fb0-5dac-49f5-9af7-a478f8942a4a - from http://localhost:8844/media/uploads/2022/01/05/node_params_7976cff5-3e42-4622-85b1-51cc3b4ae93f.pt\n",
      "2022-01-05 09:42:22,426 fedbiomed INFO - Downloading model params after training on node_de591a20-68ff-4697-8abb-9daccd955df2 - from http://localhost:8844/media/uploads/2022/01/05/node_params_ae7f8463-ceb2-4448-ac82-b53828745be9.pt\n",
      "2022-01-05 09:42:23,274 fedbiomed INFO - Downloading model params after training on node_d562b808-8ed3-401b-8222-494283894e5d - from http://localhost:8844/media/uploads/2022/01/05/node_params_353f402b-a059-4547-99c5-079ab327b728.pt\n",
      "2022-01-05 09:42:24,098 fedbiomed INFO - Nodes that successfully reply in round 1 ['node_b4095fb0-5dac-49f5-9af7-a478f8942a4a', 'node_de591a20-68ff-4697-8abb-9daccd955df2', 'node_d562b808-8ed3-401b-8222-494283894e5d']\n",
      "2022-01-05 09:42:26,265 fedbiomed INFO - Sampled nodes in round 2 ['node_b4095fb0-5dac-49f5-9af7-a478f8942a4a', 'node_de591a20-68ff-4697-8abb-9daccd955df2', 'node_d562b808-8ed3-401b-8222-494283894e5d']\n",
      "2022-01-05 09:42:26,266 fedbiomed INFO - Send message to node node_b4095fb0-5dac-49f5-9af7-a478f8942a4a - {'researcher_id': 'researcher_6614eef6-5331-401a-b4de-4e2a69e51c81', 'job_id': 'a538d4c6-01bc-48b5-beee-5b4db6b8e01f', 'training_args': {'batch_size': 20, 'lr': 1e-05, 'epochs': 1, 'dry_run': False, 'batch_maxnum': 250}, 'model_args': {'num_class': 6}, 'command': 'train', 'model_url': 'http://localhost:8844/media/uploads/2022/01/05/my_model_43380103-454c-42a3-bc34-13927bc21e33.py', 'params_url': 'http://localhost:8844/media/uploads/2022/01/05/researcher_params_e3aef962-463a-4b40-b663-f944aa960217.pt', 'model_class': 'MyTrainingPlan', 'training_data': {'node_b4095fb0-5dac-49f5-9af7-a478f8942a4a': ['dataset_acb23d50-9435-4549-9c84-457ed3ed462c']}}\n",
      "2022-01-05 09:42:26,267 fedbiomed DEBUG - researcher_6614eef6-5331-401a-b4de-4e2a69e51c81\n",
      "2022-01-05 09:42:26,267 fedbiomed INFO - Send message to node node_de591a20-68ff-4697-8abb-9daccd955df2 - {'researcher_id': 'researcher_6614eef6-5331-401a-b4de-4e2a69e51c81', 'job_id': 'a538d4c6-01bc-48b5-beee-5b4db6b8e01f', 'training_args': {'batch_size': 20, 'lr': 1e-05, 'epochs': 1, 'dry_run': False, 'batch_maxnum': 250}, 'model_args': {'num_class': 6}, 'command': 'train', 'model_url': 'http://localhost:8844/media/uploads/2022/01/05/my_model_43380103-454c-42a3-bc34-13927bc21e33.py', 'params_url': 'http://localhost:8844/media/uploads/2022/01/05/researcher_params_e3aef962-463a-4b40-b663-f944aa960217.pt', 'model_class': 'MyTrainingPlan', 'training_data': {'node_de591a20-68ff-4697-8abb-9daccd955df2': ['dataset_e7cd0f44-0504-4bd3-b10d-ae41a7cc708c']}}\n",
      "2022-01-05 09:42:26,268 fedbiomed DEBUG - researcher_6614eef6-5331-401a-b4de-4e2a69e51c81\n",
      "2022-01-05 09:42:26,269 fedbiomed INFO - Send message to node node_d562b808-8ed3-401b-8222-494283894e5d - {'researcher_id': 'researcher_6614eef6-5331-401a-b4de-4e2a69e51c81', 'job_id': 'a538d4c6-01bc-48b5-beee-5b4db6b8e01f', 'training_args': {'batch_size': 20, 'lr': 1e-05, 'epochs': 1, 'dry_run': False, 'batch_maxnum': 250}, 'model_args': {'num_class': 6}, 'command': 'train', 'model_url': 'http://localhost:8844/media/uploads/2022/01/05/my_model_43380103-454c-42a3-bc34-13927bc21e33.py', 'params_url': 'http://localhost:8844/media/uploads/2022/01/05/researcher_params_e3aef962-463a-4b40-b663-f944aa960217.pt', 'model_class': 'MyTrainingPlan', 'training_data': {'node_d562b808-8ed3-401b-8222-494283894e5d': ['dataset_f2c80a1e-24d7-4c88-977f-ceff1acc9009']}}\n",
      "2022-01-05 09:42:26,270 fedbiomed DEBUG - researcher_6614eef6-5331-401a-b4de-4e2a69e51c81\n",
      "2022-01-05 09:42:26,283 fedbiomed INFO - log from: node_b4095fb0-5dac-49f5-9af7-a478f8942a4a / DEBUG - Message received: {'researcher_id': 'researcher_6614eef6-5331-401a-b4de-4e2a69e51c81', 'job_id': 'a538d4c6-01bc-48b5-beee-5b4db6b8e01f', 'training_args': {'batch_size': 20, 'lr': 1e-05, 'epochs': 1, 'dry_run': False, 'batch_maxnum': 250}, 'model_args': {'num_class': 6}, 'command': 'train', 'model_url': 'http://localhost:8844/media/uploads/2022/01/05/my_model_43380103-454c-42a3-bc34-13927bc21e33.py', 'params_url': 'http://localhost:8844/media/uploads/2022/01/05/researcher_params_e3aef962-463a-4b40-b663-f944aa960217.pt', 'model_class': 'MyTrainingPlan', 'training_data': {'node_b4095fb0-5dac-49f5-9af7-a478f8942a4a': ['dataset_acb23d50-9435-4549-9c84-457ed3ed462c']}}\n",
      "2022-01-05 09:42:26,284 fedbiomed INFO - log from: node_b4095fb0-5dac-49f5-9af7-a478f8942a4a / DEBUG - [TASKS QUEUE] Item:{'researcher_id': 'researcher_6614eef6-5331-401a-b4de-4e2a69e51c81', 'job_id': 'a538d4c6-01bc-48b5-beee-5b4db6b8e01f', 'params_url': 'http://localhost:8844/media/uploads/2022/01/05/researcher_params_e3aef962-463a-4b40-b663-f944aa960217.pt', 'training_args': {'batch_size': 20, 'lr': 1e-05, 'epochs': 1, 'dry_run': False, 'batch_maxnum': 250}, 'training_data': {'node_b4095fb0-5dac-49f5-9af7-a478f8942a4a': ['dataset_acb23d50-9435-4549-9c84-457ed3ed462c']}, 'model_args': {'num_class': 6}, 'model_url': 'http://localhost:8844/media/uploads/2022/01/05/my_model_43380103-454c-42a3-bc34-13927bc21e33.py', 'model_class': 'MyTrainingPlan', 'command': 'train'}\n",
      "2022-01-05 09:42:26,286 fedbiomed INFO - log from: node_de591a20-68ff-4697-8abb-9daccd955df2 / DEBUG - Message received: {'researcher_id': 'researcher_6614eef6-5331-401a-b4de-4e2a69e51c81', 'job_id': 'a538d4c6-01bc-48b5-beee-5b4db6b8e01f', 'training_args': {'batch_size': 20, 'lr': 1e-05, 'epochs': 1, 'dry_run': False, 'batch_maxnum': 250}, 'model_args': {'num_class': 6}, 'command': 'train', 'model_url': 'http://localhost:8844/media/uploads/2022/01/05/my_model_43380103-454c-42a3-bc34-13927bc21e33.py', 'params_url': 'http://localhost:8844/media/uploads/2022/01/05/researcher_params_e3aef962-463a-4b40-b663-f944aa960217.pt', 'model_class': 'MyTrainingPlan', 'training_data': {'node_de591a20-68ff-4697-8abb-9daccd955df2': ['dataset_e7cd0f44-0504-4bd3-b10d-ae41a7cc708c']}}\n",
      "2022-01-05 09:42:26,287 fedbiomed INFO - log from: node_d562b808-8ed3-401b-8222-494283894e5d / DEBUG - Message received: {'researcher_id': 'researcher_6614eef6-5331-401a-b4de-4e2a69e51c81', 'job_id': 'a538d4c6-01bc-48b5-beee-5b4db6b8e01f', 'training_args': {'batch_size': 20, 'lr': 1e-05, 'epochs': 1, 'dry_run': False, 'batch_maxnum': 250}, 'model_args': {'num_class': 6}, 'command': 'train', 'model_url': 'http://localhost:8844/media/uploads/2022/01/05/my_model_43380103-454c-42a3-bc34-13927bc21e33.py', 'params_url': 'http://localhost:8844/media/uploads/2022/01/05/researcher_params_e3aef962-463a-4b40-b663-f944aa960217.pt', 'model_class': 'MyTrainingPlan', 'training_data': {'node_d562b808-8ed3-401b-8222-494283894e5d': ['dataset_f2c80a1e-24d7-4c88-977f-ceff1acc9009']}}\n",
      "2022-01-05 09:42:26,290 fedbiomed INFO - log from: node_de591a20-68ff-4697-8abb-9daccd955df2 / DEBUG - [TASKS QUEUE] Item:{'researcher_id': 'researcher_6614eef6-5331-401a-b4de-4e2a69e51c81', 'job_id': 'a538d4c6-01bc-48b5-beee-5b4db6b8e01f', 'params_url': 'http://localhost:8844/media/uploads/2022/01/05/researcher_params_e3aef962-463a-4b40-b663-f944aa960217.pt', 'training_args': {'batch_size': 20, 'lr': 1e-05, 'epochs': 1, 'dry_run': False, 'batch_maxnum': 250}, 'training_data': {'node_de591a20-68ff-4697-8abb-9daccd955df2': ['dataset_e7cd0f44-0504-4bd3-b10d-ae41a7cc708c']}, 'model_args': {'num_class': 6}, 'model_url': 'http://localhost:8844/media/uploads/2022/01/05/my_model_43380103-454c-42a3-bc34-13927bc21e33.py', 'model_class': 'MyTrainingPlan', 'command': 'train'}\n"
     ]
    },
    {
     "name": "stderr",
     "output_type": "stream",
     "text": [
      "2022-01-05 09:42:26,316 fedbiomed INFO - log from: node_d562b808-8ed3-401b-8222-494283894e5d / DEBUG - [TASKS QUEUE] Item:{'researcher_id': 'researcher_6614eef6-5331-401a-b4de-4e2a69e51c81', 'job_id': 'a538d4c6-01bc-48b5-beee-5b4db6b8e01f', 'params_url': 'http://localhost:8844/media/uploads/2022/01/05/researcher_params_e3aef962-463a-4b40-b663-f944aa960217.pt', 'training_args': {'batch_size': 20, 'lr': 1e-05, 'epochs': 1, 'dry_run': False, 'batch_maxnum': 250}, 'training_data': {'node_d562b808-8ed3-401b-8222-494283894e5d': ['dataset_f2c80a1e-24d7-4c88-977f-ceff1acc9009']}, 'model_args': {'num_class': 6}, 'model_url': 'http://localhost:8844/media/uploads/2022/01/05/my_model_43380103-454c-42a3-bc34-13927bc21e33.py', 'model_class': 'MyTrainingPlan', 'command': 'train'}\n",
      "2022-01-05 09:42:28,121 fedbiomed INFO - log from: node_b4095fb0-5dac-49f5-9af7-a478f8942a4a / INFO - {'monitor': <fedbiomed.node.history_monitor.HistoryMonitor object at 0x139a304f0>, 'batch_size': 20, 'lr': 1e-05, 'epochs': 1, 'dry_run': False, 'batch_maxnum': 250}\n",
      "2022-01-05 09:42:28,123 fedbiomed INFO - log from: node_b4095fb0-5dac-49f5-9af7-a478f8942a4a / DEBUG - Dataset_path/Users/mlorenzi/works/temp/MedNIST/client_2\n",
      "2022-01-05 09:42:28,161 fedbiomed INFO - log from: node_de591a20-68ff-4697-8abb-9daccd955df2 / INFO - {'monitor': <fedbiomed.node.history_monitor.HistoryMonitor object at 0x13fe04070>, 'batch_size': 20, 'lr': 1e-05, 'epochs': 1, 'dry_run': False, 'batch_maxnum': 250}\n",
      "2022-01-05 09:42:28,162 fedbiomed INFO - log from: node_de591a20-68ff-4697-8abb-9daccd955df2 / DEBUG - Dataset_path/Users/mlorenzi/works/temp/MedNIST/client_1\n",
      "2022-01-05 09:42:28,187 fedbiomed INFO - log from: node_d562b808-8ed3-401b-8222-494283894e5d / INFO - {'monitor': <fedbiomed.node.history_monitor.HistoryMonitor object at 0x13b87e670>, 'batch_size': 20, 'lr': 1e-05, 'epochs': 1, 'dry_run': False, 'batch_maxnum': 250}\n",
      "2022-01-05 09:42:28,190 fedbiomed INFO - log from: node_d562b808-8ed3-401b-8222-494283894e5d / DEBUG - Dataset_path/Users/mlorenzi/works/temp/MedNIST/client_3\n",
      "2022-01-05 09:42:29,521 fedbiomed INFO - log from: node_b4095fb0-5dac-49f5-9af7-a478f8942a4a / INFO - Train Epoch: 1 [0/18000 (0%)]\tLoss: 0.293460\n",
      "2022-01-05 09:42:29,526 fedbiomed INFO - log from: node_de591a20-68ff-4697-8abb-9daccd955df2 / INFO - Train Epoch: 1 [0/18000 (0%)]\tLoss: 0.134660\n",
      "2022-01-05 09:42:29,577 fedbiomed INFO - log from: node_d562b808-8ed3-401b-8222-494283894e5d / INFO - Train Epoch: 1 [0/16954 (0%)]\tLoss: 0.268714\n",
      "2022-01-05 09:42:41,564 fedbiomed INFO - log from: node_de591a20-68ff-4697-8abb-9daccd955df2 / INFO - Train Epoch: 1 [200/18000 (1%)]\tLoss: 0.148946\n",
      "2022-01-05 09:42:41,655 fedbiomed INFO - log from: node_b4095fb0-5dac-49f5-9af7-a478f8942a4a / INFO - Train Epoch: 1 [200/18000 (1%)]\tLoss: 0.307292\n",
      "2022-01-05 09:42:41,967 fedbiomed INFO - log from: node_d562b808-8ed3-401b-8222-494283894e5d / INFO - Train Epoch: 1 [200/16954 (1%)]\tLoss: 0.227770\n",
      "2022-01-05 09:42:53,307 fedbiomed INFO - log from: node_de591a20-68ff-4697-8abb-9daccd955df2 / INFO - Train Epoch: 1 [400/18000 (2%)]\tLoss: 0.170915\n",
      "2022-01-05 09:42:53,443 fedbiomed INFO - log from: node_b4095fb0-5dac-49f5-9af7-a478f8942a4a / INFO - Train Epoch: 1 [400/18000 (2%)]\tLoss: 0.160164\n",
      "2022-01-05 09:42:53,770 fedbiomed INFO - log from: node_d562b808-8ed3-401b-8222-494283894e5d / INFO - Train Epoch: 1 [400/16954 (2%)]\tLoss: 0.239616\n",
      "2022-01-05 09:43:04,728 fedbiomed INFO - log from: node_de591a20-68ff-4697-8abb-9daccd955df2 / INFO - Train Epoch: 1 [600/18000 (3%)]\tLoss: 0.166099\n",
      "2022-01-05 09:43:04,845 fedbiomed INFO - log from: node_b4095fb0-5dac-49f5-9af7-a478f8942a4a / INFO - Train Epoch: 1 [600/18000 (3%)]\tLoss: 0.143000\n",
      "2022-01-05 09:43:05,243 fedbiomed INFO - log from: node_d562b808-8ed3-401b-8222-494283894e5d / INFO - Train Epoch: 1 [600/16954 (4%)]\tLoss: 0.290237\n",
      "2022-01-05 09:43:17,206 fedbiomed INFO - log from: node_de591a20-68ff-4697-8abb-9daccd955df2 / INFO - Train Epoch: 1 [800/18000 (4%)]\tLoss: 0.358807\n",
      "2022-01-05 09:43:17,232 fedbiomed INFO - log from: node_b4095fb0-5dac-49f5-9af7-a478f8942a4a / INFO - Train Epoch: 1 [800/18000 (4%)]\tLoss: 0.303664\n",
      "2022-01-05 09:43:17,789 fedbiomed INFO - log from: node_d562b808-8ed3-401b-8222-494283894e5d / INFO - Train Epoch: 1 [800/16954 (5%)]\tLoss: 0.259391\n",
      "2022-01-05 09:43:30,007 fedbiomed INFO - log from: node_de591a20-68ff-4697-8abb-9daccd955df2 / INFO - Train Epoch: 1 [1000/18000 (6%)]\tLoss: 0.111611\n",
      "2022-01-05 09:43:30,009 fedbiomed INFO - log from: node_b4095fb0-5dac-49f5-9af7-a478f8942a4a / INFO - Train Epoch: 1 [1000/18000 (6%)]\tLoss: 0.120723\n",
      "2022-01-05 09:43:30,696 fedbiomed INFO - log from: node_d562b808-8ed3-401b-8222-494283894e5d / INFO - Train Epoch: 1 [1000/16954 (6%)]\tLoss: 0.268380\n",
      "2022-01-05 09:43:43,367 fedbiomed INFO - log from: node_de591a20-68ff-4697-8abb-9daccd955df2 / INFO - Train Epoch: 1 [1200/18000 (7%)]\tLoss: 0.240020\n",
      "2022-01-05 09:43:43,463 fedbiomed INFO - log from: node_b4095fb0-5dac-49f5-9af7-a478f8942a4a / INFO - Train Epoch: 1 [1200/18000 (7%)]\tLoss: 0.109282\n",
      "2022-01-05 09:43:44,501 fedbiomed INFO - log from: node_d562b808-8ed3-401b-8222-494283894e5d / INFO - Train Epoch: 1 [1200/16954 (7%)]\tLoss: 0.287576\n",
      "2022-01-05 09:43:56,462 fedbiomed INFO - log from: node_de591a20-68ff-4697-8abb-9daccd955df2 / INFO - Train Epoch: 1 [1400/18000 (8%)]\tLoss: 0.163386\n",
      "2022-01-05 09:43:56,682 fedbiomed INFO - log from: node_b4095fb0-5dac-49f5-9af7-a478f8942a4a / INFO - Train Epoch: 1 [1400/18000 (8%)]\tLoss: 0.121440\n",
      "2022-01-05 09:43:57,302 fedbiomed INFO - log from: node_d562b808-8ed3-401b-8222-494283894e5d / INFO - Train Epoch: 1 [1400/16954 (8%)]\tLoss: 0.203891\n",
      "2022-01-05 09:44:08,671 fedbiomed INFO - log from: node_de591a20-68ff-4697-8abb-9daccd955df2 / INFO - Train Epoch: 1 [1600/18000 (9%)]\tLoss: 0.185235\n",
      "2022-01-05 09:44:08,996 fedbiomed INFO - log from: node_b4095fb0-5dac-49f5-9af7-a478f8942a4a / INFO - Train Epoch: 1 [1600/18000 (9%)]\tLoss: 0.073256\n",
      "2022-01-05 09:44:09,675 fedbiomed INFO - log from: node_d562b808-8ed3-401b-8222-494283894e5d / INFO - Train Epoch: 1 [1600/16954 (9%)]\tLoss: 0.396696\n",
      "2022-01-05 09:44:20,726 fedbiomed INFO - log from: node_de591a20-68ff-4697-8abb-9daccd955df2 / INFO - Train Epoch: 1 [1800/18000 (10%)]\tLoss: 0.197620\n",
      "2022-01-05 09:44:20,987 fedbiomed INFO - log from: node_b4095fb0-5dac-49f5-9af7-a478f8942a4a / INFO - Train Epoch: 1 [1800/18000 (10%)]\tLoss: 0.121240\n",
      "2022-01-05 09:44:21,568 fedbiomed INFO - log from: node_d562b808-8ed3-401b-8222-494283894e5d / INFO - Train Epoch: 1 [1800/16954 (11%)]\tLoss: 0.261194\n",
      "2022-01-05 09:44:33,186 fedbiomed INFO - log from: node_de591a20-68ff-4697-8abb-9daccd955df2 / INFO - Train Epoch: 1 [2000/18000 (11%)]\tLoss: 0.086759\n",
      "2022-01-05 09:44:33,620 fedbiomed INFO - log from: node_b4095fb0-5dac-49f5-9af7-a478f8942a4a / INFO - Train Epoch: 1 [2000/18000 (11%)]\tLoss: 0.090704\n",
      "2022-01-05 09:44:34,124 fedbiomed INFO - log from: node_d562b808-8ed3-401b-8222-494283894e5d / INFO - Train Epoch: 1 [2000/16954 (12%)]\tLoss: 0.113825\n",
      "2022-01-05 09:44:45,678 fedbiomed INFO - log from: node_de591a20-68ff-4697-8abb-9daccd955df2 / INFO - Train Epoch: 1 [2200/18000 (12%)]\tLoss: 0.335125\n",
      "2022-01-05 09:44:46,278 fedbiomed INFO - log from: node_b4095fb0-5dac-49f5-9af7-a478f8942a4a / INFO - Train Epoch: 1 [2200/18000 (12%)]\tLoss: 0.218211\n",
      "2022-01-05 09:44:46,875 fedbiomed INFO - log from: node_d562b808-8ed3-401b-8222-494283894e5d / INFO - Train Epoch: 1 [2200/16954 (13%)]\tLoss: 0.178539\n",
      "2022-01-05 09:44:58,917 fedbiomed INFO - log from: node_de591a20-68ff-4697-8abb-9daccd955df2 / INFO - Train Epoch: 1 [2400/18000 (13%)]\tLoss: 0.265425\n",
      "2022-01-05 09:44:59,456 fedbiomed INFO - log from: node_b4095fb0-5dac-49f5-9af7-a478f8942a4a / INFO - Train Epoch: 1 [2400/18000 (13%)]\tLoss: 0.109904\n",
      "2022-01-05 09:45:00,039 fedbiomed INFO - log from: node_d562b808-8ed3-401b-8222-494283894e5d / INFO - Train Epoch: 1 [2400/16954 (14%)]\tLoss: 0.215773\n",
      "2022-01-05 09:45:11,874 fedbiomed INFO - log from: node_de591a20-68ff-4697-8abb-9daccd955df2 / INFO - Train Epoch: 1 [2600/18000 (14%)]\tLoss: 0.257258\n",
      "2022-01-05 09:45:12,442 fedbiomed INFO - log from: node_b4095fb0-5dac-49f5-9af7-a478f8942a4a / INFO - Train Epoch: 1 [2600/18000 (14%)]\tLoss: 0.114037\n"
     ]
    },
    {
     "name": "stderr",
     "output_type": "stream",
     "text": [
      "2022-01-05 09:45:12,926 fedbiomed INFO - log from: node_d562b808-8ed3-401b-8222-494283894e5d / INFO - Train Epoch: 1 [2600/16954 (15%)]\tLoss: 0.082917\n",
      "2022-01-05 09:45:24,278 fedbiomed INFO - log from: node_de591a20-68ff-4697-8abb-9daccd955df2 / INFO - Train Epoch: 1 [2800/18000 (16%)]\tLoss: 0.286130\n",
      "2022-01-05 09:45:24,874 fedbiomed INFO - log from: node_b4095fb0-5dac-49f5-9af7-a478f8942a4a / INFO - Train Epoch: 1 [2800/18000 (16%)]\tLoss: 0.177098\n",
      "2022-01-05 09:45:25,525 fedbiomed INFO - log from: node_d562b808-8ed3-401b-8222-494283894e5d / INFO - Train Epoch: 1 [2800/16954 (17%)]\tLoss: 0.345563\n",
      "2022-01-05 09:45:36,491 fedbiomed INFO - log from: node_de591a20-68ff-4697-8abb-9daccd955df2 / INFO - Train Epoch: 1 [3000/18000 (17%)]\tLoss: 0.111264\n",
      "2022-01-05 09:45:37,080 fedbiomed INFO - log from: node_b4095fb0-5dac-49f5-9af7-a478f8942a4a / INFO - Train Epoch: 1 [3000/18000 (17%)]\tLoss: 0.156391\n",
      "2022-01-05 09:45:37,721 fedbiomed INFO - log from: node_d562b808-8ed3-401b-8222-494283894e5d / INFO - Train Epoch: 1 [3000/16954 (18%)]\tLoss: 0.323740\n",
      "2022-01-05 09:45:48,594 fedbiomed INFO - log from: node_de591a20-68ff-4697-8abb-9daccd955df2 / INFO - Train Epoch: 1 [3200/18000 (18%)]\tLoss: 0.180103\n",
      "2022-01-05 09:45:49,195 fedbiomed INFO - log from: node_b4095fb0-5dac-49f5-9af7-a478f8942a4a / INFO - Train Epoch: 1 [3200/18000 (18%)]\tLoss: 0.309932\n",
      "2022-01-05 09:45:49,808 fedbiomed INFO - log from: node_d562b808-8ed3-401b-8222-494283894e5d / INFO - Train Epoch: 1 [3200/16954 (19%)]\tLoss: 0.066557\n",
      "2022-01-05 09:46:01,628 fedbiomed INFO - log from: node_de591a20-68ff-4697-8abb-9daccd955df2 / INFO - Train Epoch: 1 [3400/18000 (19%)]\tLoss: 0.115167\n",
      "2022-01-05 09:46:02,345 fedbiomed INFO - log from: node_b4095fb0-5dac-49f5-9af7-a478f8942a4a / INFO - Train Epoch: 1 [3400/18000 (19%)]\tLoss: 0.094694\n",
      "2022-01-05 09:46:02,735 fedbiomed INFO - log from: node_d562b808-8ed3-401b-8222-494283894e5d / INFO - Train Epoch: 1 [3400/16954 (20%)]\tLoss: 0.155384\n",
      "2022-01-05 09:46:14,014 fedbiomed INFO - log from: node_de591a20-68ff-4697-8abb-9daccd955df2 / INFO - Train Epoch: 1 [3600/18000 (20%)]\tLoss: 0.107323\n",
      "2022-01-05 09:46:14,817 fedbiomed INFO - log from: node_b4095fb0-5dac-49f5-9af7-a478f8942a4a / INFO - Train Epoch: 1 [3600/18000 (20%)]\tLoss: 0.049867\n",
      "2022-01-05 09:46:15,402 fedbiomed INFO - log from: node_d562b808-8ed3-401b-8222-494283894e5d / INFO - Train Epoch: 1 [3600/16954 (21%)]\tLoss: 0.169381\n",
      "2022-01-05 09:46:26,280 fedbiomed INFO - log from: node_de591a20-68ff-4697-8abb-9daccd955df2 / INFO - Train Epoch: 1 [3800/18000 (21%)]\tLoss: 0.088781\n",
      "2022-01-05 09:46:27,216 fedbiomed INFO - log from: node_b4095fb0-5dac-49f5-9af7-a478f8942a4a / INFO - Train Epoch: 1 [3800/18000 (21%)]\tLoss: 0.073316\n",
      "2022-01-05 09:46:27,831 fedbiomed INFO - log from: node_d562b808-8ed3-401b-8222-494283894e5d / INFO - Train Epoch: 1 [3800/16954 (22%)]\tLoss: 0.086301\n",
      "2022-01-05 09:46:38,706 fedbiomed INFO - log from: node_de591a20-68ff-4697-8abb-9daccd955df2 / INFO - Train Epoch: 1 [4000/18000 (22%)]\tLoss: 0.115382\n",
      "2022-01-05 09:46:39,787 fedbiomed INFO - log from: node_b4095fb0-5dac-49f5-9af7-a478f8942a4a / INFO - Train Epoch: 1 [4000/18000 (22%)]\tLoss: 0.197651\n",
      "2022-01-05 09:46:40,634 fedbiomed INFO - log from: node_d562b808-8ed3-401b-8222-494283894e5d / INFO - Train Epoch: 1 [4000/16954 (24%)]\tLoss: 0.114187\n",
      "2022-01-05 09:46:51,531 fedbiomed INFO - log from: node_de591a20-68ff-4697-8abb-9daccd955df2 / INFO - Train Epoch: 1 [4200/18000 (23%)]\tLoss: 0.099786\n",
      "2022-01-05 09:46:52,492 fedbiomed INFO - log from: node_b4095fb0-5dac-49f5-9af7-a478f8942a4a / INFO - Train Epoch: 1 [4200/18000 (23%)]\tLoss: 0.043347\n",
      "2022-01-05 09:46:53,325 fedbiomed INFO - log from: node_d562b808-8ed3-401b-8222-494283894e5d / INFO - Train Epoch: 1 [4200/16954 (25%)]\tLoss: 0.063364\n",
      "2022-01-05 09:47:04,799 fedbiomed INFO - log from: node_de591a20-68ff-4697-8abb-9daccd955df2 / INFO - Train Epoch: 1 [4400/18000 (24%)]\tLoss: 0.192144\n",
      "2022-01-05 09:47:05,839 fedbiomed INFO - log from: node_b4095fb0-5dac-49f5-9af7-a478f8942a4a / INFO - Train Epoch: 1 [4400/18000 (24%)]\tLoss: 0.058016\n",
      "2022-01-05 09:47:06,648 fedbiomed INFO - log from: node_d562b808-8ed3-401b-8222-494283894e5d / INFO - Train Epoch: 1 [4400/16954 (26%)]\tLoss: 0.218351\n",
      "2022-01-05 09:47:17,540 fedbiomed INFO - log from: node_de591a20-68ff-4697-8abb-9daccd955df2 / INFO - Train Epoch: 1 [4600/18000 (26%)]\tLoss: 0.214936\n",
      "2022-01-05 09:47:18,556 fedbiomed INFO - log from: node_b4095fb0-5dac-49f5-9af7-a478f8942a4a / INFO - Train Epoch: 1 [4600/18000 (26%)]\tLoss: 0.094504\n",
      "2022-01-05 09:47:19,378 fedbiomed INFO - log from: node_d562b808-8ed3-401b-8222-494283894e5d / INFO - Train Epoch: 1 [4600/16954 (27%)]\tLoss: 0.101976\n",
      "2022-01-05 09:47:29,275 fedbiomed INFO - log from: node_de591a20-68ff-4697-8abb-9daccd955df2 / INFO - Train Epoch: 1 [4800/18000 (27%)]\tLoss: 0.040844\n",
      "2022-01-05 09:47:30,250 fedbiomed INFO - log from: node_b4095fb0-5dac-49f5-9af7-a478f8942a4a / INFO - Train Epoch: 1 [4800/18000 (27%)]\tLoss: 0.162394\n",
      "2022-01-05 09:47:31,043 fedbiomed INFO - log from: node_d562b808-8ed3-401b-8222-494283894e5d / INFO - Train Epoch: 1 [4800/16954 (28%)]\tLoss: 0.039159\n",
      "2022-01-05 09:47:41,451 fedbiomed INFO - log from: node_de591a20-68ff-4697-8abb-9daccd955df2 / DEBUG - Reached 250 batches for this epoch, ignore remaining data\n",
      "2022-01-05 09:47:42,696 fedbiomed INFO - log from: node_b4095fb0-5dac-49f5-9af7-a478f8942a4a / DEBUG - Reached 250 batches for this epoch, ignore remaining data\n",
      "2022-01-05 09:47:43,864 fedbiomed INFO - log from: node_d562b808-8ed3-401b-8222-494283894e5d / DEBUG - Reached 250 batches for this epoch, ignore remaining data\n",
      "2022-01-05 09:47:45,536 fedbiomed INFO - log from: node_de591a20-68ff-4697-8abb-9daccd955df2 / INFO - results uploaded successfully \n",
      "2022-01-05 09:47:46,721 fedbiomed INFO - log from: node_b4095fb0-5dac-49f5-9af7-a478f8942a4a / INFO - results uploaded successfully \n",
      "2022-01-05 09:47:47,586 fedbiomed INFO - log from: node_d562b808-8ed3-401b-8222-494283894e5d / INFO - results uploaded successfully \n",
      "2022-01-05 09:47:56,561 fedbiomed INFO - Downloading model params after training on node_de591a20-68ff-4697-8abb-9daccd955df2 - from http://localhost:8844/media/uploads/2022/01/05/node_params_55889b7e-dfd0-4d36-861b-4485d4607851.pt\n",
      "2022-01-05 09:47:57,437 fedbiomed INFO - Downloading model params after training on node_b4095fb0-5dac-49f5-9af7-a478f8942a4a - from http://localhost:8844/media/uploads/2022/01/05/node_params_a3d0fc74-e2ff-458c-b999-d31eba6feb1a.pt\n",
      "2022-01-05 09:47:58,265 fedbiomed INFO - Downloading model params after training on node_d562b808-8ed3-401b-8222-494283894e5d - from http://localhost:8844/media/uploads/2022/01/05/node_params_374b2e39-f310-4d93-b512-42da0ba93d92.pt\n",
      "2022-01-05 09:47:59,063 fedbiomed INFO - Nodes that successfully reply in round 2 ['node_de591a20-68ff-4697-8abb-9daccd955df2', 'node_b4095fb0-5dac-49f5-9af7-a478f8942a4a', 'node_d562b808-8ed3-401b-8222-494283894e5d']\n"
     ]
    }
   ],
   "source": [
    "exp.run()"
   ]
  },
  {
   "cell_type": "markdown",
   "metadata": {
    "pycharm": {
     "name": "#%% md\n"
    }
   },
   "source": [
    "## Testing\n"
   ]
  },
  {
   "cell_type": "markdown",
   "metadata": {},
   "source": [
    "Once the federated model is obtained, it is possible to test it locally on an independent testing partition.\n",
    "The test dataset is available at this link:\n",
    "\n",
    "https://drive.google.com/file/d/1YbwA0WitMoucoIa_Qao7IC1haPfDp-XD/"
   ]
  },
  {
   "cell_type": "code",
   "execution_count": 9,
   "metadata": {},
   "outputs": [
    {
     "name": "stdout",
     "output_type": "stream",
     "text": [
      "Requirement already satisfied: gdown in /Users/mlorenzi/miniconda3/envs/fedbiomed-researcher/lib/python3.8/site-packages (4.2.0)\n",
      "Requirement already satisfied: beautifulsoup4 in /Users/mlorenzi/miniconda3/envs/fedbiomed-researcher/lib/python3.8/site-packages (from gdown) (4.10.0)\n",
      "Requirement already satisfied: tqdm in /Users/mlorenzi/miniconda3/envs/fedbiomed-researcher/lib/python3.8/site-packages (from gdown) (4.62.3)\n",
      "Requirement already satisfied: filelock in /Users/mlorenzi/miniconda3/envs/fedbiomed-researcher/lib/python3.8/site-packages (from gdown) (3.4.2)\n",
      "Requirement already satisfied: requests[socks] in /Users/mlorenzi/miniconda3/envs/fedbiomed-researcher/lib/python3.8/site-packages (from gdown) (2.26.0)\n",
      "Requirement already satisfied: six in /Users/mlorenzi/miniconda3/envs/fedbiomed-researcher/lib/python3.8/site-packages (from gdown) (1.16.0)\n",
      "Requirement already satisfied: soupsieve>1.2 in /Users/mlorenzi/miniconda3/envs/fedbiomed-researcher/lib/python3.8/site-packages (from beautifulsoup4->gdown) (2.3.1)\n",
      "Requirement already satisfied: charset-normalizer~=2.0.0 in /Users/mlorenzi/miniconda3/envs/fedbiomed-researcher/lib/python3.8/site-packages (from requests[socks]->gdown) (2.0.9)\n",
      "Requirement already satisfied: certifi>=2017.4.17 in /Users/mlorenzi/miniconda3/envs/fedbiomed-researcher/lib/python3.8/site-packages (from requests[socks]->gdown) (2021.10.8)\n",
      "Requirement already satisfied: urllib3<1.27,>=1.21.1 in /Users/mlorenzi/miniconda3/envs/fedbiomed-researcher/lib/python3.8/site-packages (from requests[socks]->gdown) (1.26.7)\n",
      "Requirement already satisfied: idna<4,>=2.5 in /Users/mlorenzi/miniconda3/envs/fedbiomed-researcher/lib/python3.8/site-packages (from requests[socks]->gdown) (3.1)\n",
      "Requirement already satisfied: PySocks!=1.5.7,>=1.5.6 in /Users/mlorenzi/miniconda3/envs/fedbiomed-researcher/lib/python3.8/site-packages (from requests[socks]->gdown) (1.7.1)\n"
     ]
    }
   ],
   "source": [
    "!pip install gdown"
   ]
  },
  {
   "cell_type": "code",
   "execution_count": 10,
   "metadata": {
    "pycharm": {
     "name": "#%% md\n"
    }
   },
   "outputs": [
    {
     "name": "stdout",
     "output_type": "stream",
     "text": [
      "MONAI version: 0.8.0\n",
      "Numpy version: 1.19.1\n",
      "Pytorch version: 1.10.1\n",
      "MONAI flags: HAS_EXT = False, USE_COMPILED = False\n",
      "MONAI rev id: 714d00dffe6653e21260160666c4c201ab66511b\n",
      "\n",
      "Optional dependencies:\n",
      "Pytorch Ignite version: NOT INSTALLED or UNKNOWN VERSION.\n",
      "Nibabel version: NOT INSTALLED or UNKNOWN VERSION.\n",
      "scikit-image version: NOT INSTALLED or UNKNOWN VERSION.\n",
      "Pillow version: 9.0.0\n",
      "Tensorboard version: 2.7.0\n",
      "gdown version: 4.2.0\n",
      "TorchVision version: 0.11.2\n",
      "tqdm version: 4.62.3\n",
      "lmdb version: NOT INSTALLED or UNKNOWN VERSION.\n",
      "psutil version: NOT INSTALLED or UNKNOWN VERSION.\n",
      "pandas version: 1.3.5\n",
      "einops version: NOT INSTALLED or UNKNOWN VERSION.\n",
      "transformers version: NOT INSTALLED or UNKNOWN VERSION.\n",
      "mlflow version: NOT INSTALLED or UNKNOWN VERSION.\n",
      "\n",
      "For details about installing the optional dependencies, please visit:\n",
      "    https://docs.monai.io/en/latest/installation.html#installing-the-recommended-dependencies\n",
      "\n"
     ]
    }
   ],
   "source": [
    "import os\n",
    "import shutil\n",
    "import tempfile\n",
    "import PIL\n",
    "import torch\n",
    "import numpy as np\n",
    "from sklearn.metrics import classification_report\n",
    "\n",
    "from monai.config import print_config\n",
    "from monai.data import decollate_batch\n",
    "from monai.metrics import ROCAUCMetric\n",
    "from monai.networks.nets import DenseNet121\n",
    "import zipfile\n",
    "from monai.transforms import (\n",
    "    Activations,\n",
    "    AddChannel,\n",
    "    AsDiscrete,\n",
    "    Compose,\n",
    "    LoadImage,\n",
    "    RandFlip,\n",
    "    RandRotate,\n",
    "    RandZoom,\n",
    "    ScaleIntensity,\n",
    "    EnsureType,\n",
    ")\n",
    "from monai.utils import set_determinism\n",
    "\n",
    "print_config()"
   ]
  },
  {
   "cell_type": "markdown",
   "metadata": {},
   "source": [
    "Download the testing dataset on the local temporary folder."
   ]
  },
  {
   "cell_type": "code",
   "execution_count": 11,
   "metadata": {},
   "outputs": [
    {
     "name": "stderr",
     "output_type": "stream",
     "text": [
      "Downloading...\n",
      "From: https://drive.google.com/uc?id=1YbwA0WitMoucoIa_Qao7IC1haPfDp-XD\n",
      "To: /Users/mlorenzi/works/temp/fedbiomed/var/tmp/tmp8_zt0d5r/MedNIST_testing.zip\n",
      "100%|█████████████████████████████████████████████████████████████████████████████████████████████████████████████████████████████| 9.50M/9.50M [00:00<00:00, 10.8MB/s]\n"
     ]
    }
   ],
   "source": [
    "import gdown\n",
    "import zipfile\n",
    "\n",
    "resource = \"https://drive.google.com/uc?id=1YbwA0WitMoucoIa_Qao7IC1haPfDp-XD\"\n",
    "base_dir = tmp_dir_model.name \n",
    "test_file = os.path.join(base_dir, \"MedNIST_testing.zip\")\n",
    "\n",
    "gdown.download(resource, test_file, quiet=False)\n",
    "\n",
    "zf = zipfile.ZipFile(test_file)\n",
    "\n",
    "for file in zf.infolist():\n",
    "    zf.extract(file, base_dir)\n",
    "    \n",
    "data_dir = os.path.join(base_dir, \"MedNIST_testing\")"
   ]
  },
  {
   "cell_type": "markdown",
   "metadata": {},
   "source": [
    "Parse the data and create the testing data loader:"
   ]
  },
  {
   "cell_type": "code",
   "execution_count": 12,
   "metadata": {},
   "outputs": [
    {
     "name": "stdout",
     "output_type": "stream",
     "text": [
      "Total image count: 6000\n",
      "Image dimensions: 64 x 64\n",
      "Label names: ['AbdomenCT', 'BreastMRI', 'CXR', 'ChestCT', 'Hand', 'HeadCT']\n",
      "Label counts: [1000, 1000, 1000, 1000, 1000, 1000]\n"
     ]
    }
   ],
   "source": [
    "class_names = sorted(x for x in os.listdir(data_dir)\n",
    "                     if os.path.isdir(os.path.join(data_dir, x)))\n",
    "num_class = len(class_names)\n",
    "image_files = [\n",
    "    [\n",
    "        os.path.join(data_dir, class_names[i], x)\n",
    "        for x in os.listdir(os.path.join(data_dir, class_names[i]))\n",
    "    ]\n",
    "    for i in range(num_class)\n",
    "]\n",
    "\n",
    "num_each = [len(image_files[i]) for i in range(num_class)]\n",
    "image_files_list = []\n",
    "\n",
    "image_class = []\n",
    "for i in range(num_class):\n",
    "    image_files_list.extend(image_files[i])\n",
    "    image_class.extend([i] * num_each[i])\n",
    "num_total = len(image_class)\n",
    "image_width, image_height = PIL.Image.open(image_files_list[0]).size\n",
    "\n",
    "print(f\"Total image count: {num_total}\")\n",
    "print(f\"Image dimensions: {image_width} x {image_height}\")\n",
    "print(f\"Label names: {class_names}\")\n",
    "print(f\"Label counts: {num_each}\")"
   ]
  },
  {
   "cell_type": "code",
   "execution_count": 13,
   "metadata": {},
   "outputs": [],
   "source": [
    "length = len(image_files_list)\n",
    "indices = np.arange(length)\n",
    "np.random.shuffle(indices)\n",
    "\n",
    "\n",
    "test_split = int(0.1 * length)\n",
    "test_indices = indices[:test_split]\n",
    "\n",
    "test_x = [image_files_list[i] for i in test_indices]\n",
    "test_y = [image_class[i] for i in test_indices]\n",
    "\n",
    "val_transforms = Compose(\n",
    "    [LoadImage(image_only=True), AddChannel(), ScaleIntensity(), EnsureType()])\n",
    "\n",
    "y_pred_trans = Compose([EnsureType(), Activations(softmax=True)])\n",
    "y_trans = Compose([EnsureType(), AsDiscrete(to_onehot=num_class)])"
   ]
  },
  {
   "cell_type": "code",
   "execution_count": 14,
   "metadata": {},
   "outputs": [],
   "source": [
    "class MedNISTDataset(torch.utils.data.Dataset):\n",
    "    def __init__(self, image_files, labels, transforms):\n",
    "        self.image_files = image_files\n",
    "        self.labels = labels\n",
    "        self.transforms = transforms\n",
    "\n",
    "    def __len__(self):\n",
    "        return len(self.image_files)\n",
    "\n",
    "    def __getitem__(self, index):\n",
    "        return self.transforms(self.image_files[index]), self.labels[index]\n",
    "\n",
    "\n",
    "test_ds = MedNISTDataset(test_x, test_y, val_transforms)\n",
    "test_loader = torch.utils.data.DataLoader(\n",
    "    test_ds, batch_size=300)"
   ]
  },
  {
   "cell_type": "markdown",
   "metadata": {},
   "source": [
    "Define testing metric:"
   ]
  },
  {
   "cell_type": "code",
   "execution_count": 15,
   "metadata": {},
   "outputs": [],
   "source": [
    "auc_metric = ROCAUCMetric()"
   ]
  },
  {
   "cell_type": "markdown",
   "metadata": {},
   "source": [
    "To test the federated model we need to create a model instance and assign to it the model parameters estimated at the last federated optimization round."
   ]
  },
  {
   "cell_type": "code",
   "execution_count": 16,
   "metadata": {},
   "outputs": [
    {
     "data": {
      "text/plain": [
       "<All keys matched successfully>"
      ]
     },
     "execution_count": 16,
     "metadata": {},
     "output_type": "execute_result"
    }
   ],
   "source": [
    "model = exp.model_instance\n",
    "model.load_state_dict(exp.aggregated_params[rounds - 1]['params'])"
   ]
  },
  {
   "cell_type": "markdown",
   "metadata": {},
   "source": [
    "Compute the testing performance:"
   ]
  },
  {
   "cell_type": "code",
   "execution_count": 17,
   "metadata": {},
   "outputs": [],
   "source": [
    "device = torch.device(\"cuda\" if torch.cuda.is_available() else \"cpu\")\n",
    "\n",
    "y_true = []\n",
    "y_pred = []\n",
    "with torch.no_grad():\n",
    "    for test_data in test_loader:\n",
    "        test_images, test_labels = (\n",
    "            test_data[0].to(device),\n",
    "            test_data[1].to(device),\n",
    "        )\n",
    "        pred = model(test_images).argmax(dim=1)\n",
    "        for i in range(len(pred)):\n",
    "            y_true.append(test_labels[i].item())\n",
    "            y_pred.append(pred[i].item())\n"
   ]
  },
  {
   "cell_type": "code",
   "execution_count": 18,
   "metadata": {},
   "outputs": [
    {
     "name": "stdout",
     "output_type": "stream",
     "text": [
      "              precision    recall  f1-score   support\n",
      "\n",
      "   AbdomenCT     0.9630    0.9905    0.9765       105\n",
      "   BreastMRI     0.9881    1.0000    0.9940        83\n",
      "         CXR     1.0000    1.0000    1.0000        96\n",
      "     ChestCT     0.9897    1.0000    0.9948        96\n",
      "        Hand     1.0000    0.9815    0.9907       108\n",
      "      HeadCT     1.0000    0.9732    0.9864       112\n",
      "\n",
      "    accuracy                         0.9900       600\n",
      "   macro avg     0.9901    0.9909    0.9904       600\n",
      "weighted avg     0.9902    0.9900    0.9900       600\n",
      "\n"
     ]
    }
   ],
   "source": [
    "print(classification_report(\n",
    "    y_true, y_pred, target_names=class_names, digits=4))"
   ]
  },
  {
   "cell_type": "markdown",
   "metadata": {},
   "source": [
    "In spite of the relatively small training performed on the data shared in the 3 nodes, the performance of the federated model seems pretty good. Well done! "
   ]
  }
 ],
 "metadata": {
  "kernelspec": {
   "display_name": "Python 3 (ipykernel)",
   "language": "python",
   "name": "python3"
  },
  "language_info": {
   "codemirror_mode": {
    "name": "ipython",
    "version": 3
   },
   "file_extension": ".py",
   "mimetype": "text/x-python",
   "name": "python",
   "nbconvert_exporter": "python",
   "pygments_lexer": "ipython3",
   "version": "3.8.12"
  }
 },
 "nbformat": 4,
 "nbformat_minor": 4
}

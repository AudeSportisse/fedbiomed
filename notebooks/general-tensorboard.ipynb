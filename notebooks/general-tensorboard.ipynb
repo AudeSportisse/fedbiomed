{
 "cells": [
  {
   "cell_type": "markdown",
   "metadata": {},
   "source": [
    "# Fedbiomed Researcher"
   ]
  },
  {
   "cell_type": "markdown",
   "metadata": {},
   "source": [
    "Use for developing (autoreloads changes made across packages)"
   ]
  },
  {
   "cell_type": "code",
   "execution_count": null,
   "metadata": {},
   "outputs": [],
   "source": [
    "%load_ext autoreload\n",
    "%autoreload 2"
   ]
  },
  {
   "cell_type": "markdown",
   "metadata": {},
   "source": [
    "## Start the network\n",
    "Before running this notebook, start the network with `./scripts/fedbiomed_run network`"
   ]
  },
  {
   "cell_type": "markdown",
   "metadata": {},
   "source": [
    "## Setting the node up\n",
    "It is necessary to previously configure a node:\n",
    "1. `./scripts/fedbiomed_run node add`\n",
    "  * Select option 2 (default) to add MNIST to the node\n",
    "  * Confirm default tags by hitting \"y\" and ENTER\n",
    "  * Pick the folder where MNIST is downloaded (this is due torch issue https://github.com/pytorch/vision/issues/3549)\n",
    "  * Data must have been added (if you get a warning saying that data must be unique is because it's been already added)\n",
    "  \n",
    "2. Check that your data has been added by executing `./scripts/fedbiomed_run node list`\n",
    "3. Run the node using `./scripts/fedbiomed_run node run`. Wait until you get `Starting task manager`. it means you are online."
   ]
  },
  {
   "cell_type": "markdown",
   "metadata": {},
   "source": [
    "## Create an experiment to train a model on the data found"
   ]
  },
  {
   "cell_type": "markdown",
   "metadata": {},
   "source": [
    "Declare a torch.nn MyTrainingPlan class to send for training on the node"
   ]
  },
  {
   "cell_type": "code",
   "execution_count": 1,
   "metadata": {},
   "outputs": [],
   "source": [
    "import torch\n",
    "import torch.nn as nn\n",
    "from fedbiomed.common.training_plans import TorchTrainingPlan\n",
    "from fedbiomed.common.data import DataManager\n",
    "from torchvision import datasets, transforms\n",
    "\n",
    "# Here we define the model to be used. \n",
    "# You can use any class name (here 'Net')\n",
    "class MyTrainingPlan(TorchTrainingPlan):\n",
    "    def __init__(self, model_args: dict = {}):\n",
    "        super(MyTrainingPlan, self).__init__(model_args)\n",
    "        self.conv1 = nn.Conv2d(1, 32, 3, 1)\n",
    "        self.conv2 = nn.Conv2d(32, 64, 3, 1)\n",
    "        self.dropout1 = nn.Dropout(0.25)\n",
    "        self.dropout2 = nn.Dropout(0.5)\n",
    "        self.fc1 = nn.Linear(9216, 128)\n",
    "        self.fc2 = nn.Linear(128, 10)\n",
    "        \n",
    "        # Here we define the custom dependencies that will be needed by our custom Dataloader\n",
    "        # In this case, we need the torch DataLoader classes\n",
    "        # Since we will train on MNIST, we need datasets and transform from torchvision\n",
    "        deps = [\"from torchvision import datasets, transforms\"\n",
    "               ]\n",
    "        \n",
    "        self.add_dependency(deps)\n",
    "\n",
    "    def forward(self, x):\n",
    "        x = self.conv1(x)\n",
    "        x = F.relu(x)\n",
    "        x = self.conv2(x)\n",
    "        x = F.relu(x)\n",
    "        x = F.max_pool2d(x, 2)\n",
    "        x = self.dropout1(x)\n",
    "        x = torch.flatten(x, 1)\n",
    "        x = self.fc1(x)\n",
    "        x = F.relu(x)\n",
    "        x = self.dropout2(x)\n",
    "        x = self.fc2(x)\n",
    "        \n",
    "        \n",
    "        output = F.log_softmax(x, dim=1)\n",
    "        return output\n",
    "\n",
    "    def training_data(self, batch_size = 48):\n",
    "        # Custom torch Dataloader for MNIST data\n",
    "        transform = transforms.Compose([transforms.ToTensor(),\n",
    "        transforms.Normalize((0.1307,), (0.3081,))])\n",
    "        dataset1 = datasets.MNIST(self.dataset_path, train=True, download=False, transform=transform)\n",
    "        train_kwargs = {'batch_size': batch_size, 'shuffle': True}\n",
    "        return DataManager(dataset=dataset1, **train_kwargs)\n",
    "    \n",
    "    def training_step(self, data, target):\n",
    "        output = self.forward(data)\n",
    "        loss   = torch.nn.functional.nll_loss(output, target)\n",
    "        return loss\n"
   ]
  },
  {
   "cell_type": "markdown",
   "metadata": {},
   "source": [
    "This group of arguments correspond respectively:\n",
    "* `model_args`: a dictionary with the arguments related to the model (e.g. number of layers, features, etc.). This will be passed to the model class on the node side.\n",
    "* `training_args`: a dictionary containing the arguments for the training routine (e.g. batch size, learning rate, epochs, etc.). This will be passed to the routine on the node side.\n",
    "\n",
    "**NOTE:** typos and/or lack of positional (required) arguments will raise error. 🤓"
   ]
  },
  {
   "cell_type": "code",
   "execution_count": 2,
   "metadata": {
    "pycharm": {
     "name": "#%%\n"
    }
   },
   "outputs": [],
   "source": [
    "model_args = {}\n",
    "\n",
    "training_args = {\n",
    "    'batch_size': 48, \n",
    "    'lr': 1e-3, \n",
    "    'epochs': 2, \n",
    "    'dry_run': False,  \n",
    "    'batch_maxnum': 100 # Fast pass for development : only use ( batch_maxnum * batch_size ) samples\n",
    "}"
   ]
  },
  {
   "cell_type": "markdown",
   "metadata": {},
   "source": [
    "Define an experiment\n",
    "- search nodes serving data for these `tags`, optionally filter on a list of node ID with `nodes`\n",
    "- run a round of local training on nodes with model defined in `model_path` + federation with `aggregator`\n",
    "- run for `round_limit` rounds, applying the `node_selection_strategy` between the rounds"
   ]
  },
  {
   "cell_type": "code",
   "execution_count": 3,
   "metadata": {
    "pycharm": {
     "name": "#%%\n"
    },
    "scrolled": true
   },
   "outputs": [
    {
     "name": "stderr",
     "output_type": "stream",
     "text": [
      "2022-03-18 15:44:42,411 fedbiomed INFO - Component environment:\n",
      "2022-03-18 15:44:42,412 fedbiomed INFO - type = ComponentType.RESEARCHER\n",
      "2022-03-18 15:44:42,594 fedbiomed INFO - Messaging researcher_96a37edc-2ba8-47d7-aa8e-33679104e4b2 successfully connected to the message broker, object = <fedbiomed.common.messaging.Messaging object at 0x7fbb2bc09f40>\n",
      "2022-03-18 15:44:42,642 fedbiomed INFO - Searching dataset with data tags: ['#MNIST', '#dataset'] for all nodes\n",
      "2022-03-18 15:44:52,680 fedbiomed INFO - Node selected for training -> node_19ef0050-617d-4624-bbce-207469edf883\n",
      "2022-03-18 15:44:52,721 fedbiomed DEBUG - Model file has been saved: /home/scansiz/Desktop/Inria/development/fedbiomed/var/experiments/Experiment_0132/my_model_3a53b80c-7390-4ccf-8cc8-9ba1d8af2dc0.py\n",
      "2022-03-18 15:44:52,750 fedbiomed DEBUG - upload (HTTP POST request) of file /home/scansiz/Desktop/Inria/development/fedbiomed/var/experiments/Experiment_0132/my_model_3a53b80c-7390-4ccf-8cc8-9ba1d8af2dc0.py successful, with status code 201\n",
      "2022-03-18 15:44:52,935 fedbiomed DEBUG - upload (HTTP POST request) of file /home/scansiz/Desktop/Inria/development/fedbiomed/var/experiments/Experiment_0132/aggregated_params_init_0d440d05-093d-4d79-bebc-a850dc0054f1.pt successful, with status code 201\n",
      "2022-03-18 15:44:52,937 fedbiomed INFO - Removing tensorboard logs from previous experiment\n"
     ]
    }
   ],
   "source": [
    "from fedbiomed.researcher.experiment import Experiment\n",
    "from fedbiomed.researcher.aggregators.fedavg import FedAverage\n",
    "\n",
    "tags =  ['#MNIST', '#dataset']\n",
    "rounds = 3\n",
    "\n",
    "exp = Experiment(tags=tags,\n",
    "                 model_args=model_args,\n",
    "                 model_class=MyTrainingPlan,\n",
    "                 training_args=training_args,\n",
    "                 round_limit=rounds,\n",
    "                 aggregator=FedAverage(),\n",
    "                 node_selection_strategy=None,\n",
    "                 tensorboard=True\n",
    "                )"
   ]
  },
  {
   "cell_type": "markdown",
   "metadata": {},
   "source": [
    "Start tensorboard to see loss value after every iteration during training. It is normal to see empty screen. After you run the experiment you will be able to see the changes on the dashboard. Notebook will refresh results in every 30 seconds. You can also click refresh button to see current training steps. "
   ]
  },
  {
   "cell_type": "code",
   "execution_count": 5,
   "metadata": {},
   "outputs": [],
   "source": [
    "from fedbiomed.researcher.environ import environ\n",
    "tensorboard_dir = environ['TENSORBOARD_RESULTS_DIR']"
   ]
  },
  {
   "cell_type": "code",
   "execution_count": 6,
   "metadata": {},
   "outputs": [],
   "source": [
    "%load_ext tensorboard"
   ]
  },
  {
   "cell_type": "code",
   "execution_count": 7,
   "metadata": {},
   "outputs": [
    {
     "data": {
      "text/html": [
       "\n",
       "      <iframe id=\"tensorboard-frame-1fc87692dbb6cdab\" width=\"100%\" height=\"800\" frameborder=\"0\">\n",
       "      </iframe>\n",
       "      <script>\n",
       "        (function() {\n",
       "          const frame = document.getElementById(\"tensorboard-frame-1fc87692dbb6cdab\");\n",
       "          const url = new URL(\"/\", window.location);\n",
       "          const port = 6006;\n",
       "          if (port) {\n",
       "            url.port = port;\n",
       "          }\n",
       "          frame.src = url;\n",
       "        })();\n",
       "      </script>\n",
       "    "
      ],
      "text/plain": [
       "<IPython.core.display.HTML object>"
      ]
     },
     "metadata": {},
     "output_type": "display_data"
    }
   ],
   "source": [
    "tensorboard --logdir \"$tensorboard_dir\""
   ]
  },
  {
   "cell_type": "code",
   "execution_count": 4,
   "metadata": {
    "pycharm": {
     "name": "#%%\n"
    },
    "scrolled": false
   },
   "outputs": [
    {
     "name": "stderr",
     "output_type": "stream",
     "text": [
      "2022-03-18 15:44:52,941 fedbiomed INFO - Sampled nodes in round 0 ['node_19ef0050-617d-4624-bbce-207469edf883']\n",
      "2022-03-18 15:44:52,942 fedbiomed INFO - Send message to node node_19ef0050-617d-4624-bbce-207469edf883 - {'researcher_id': 'researcher_96a37edc-2ba8-47d7-aa8e-33679104e4b2', 'job_id': 'fe4ae23b-6161-4bfc-8065-09afadb0c6f2', 'training_args': {'batch_size': 48, 'lr': 0.001, 'epochs': 2, 'dry_run': False, 'batch_maxnum': 100}, 'model_args': {}, 'command': 'train', 'model_url': 'http://localhost:8844/media/uploads/2022/03/18/my_model_3a53b80c-7390-4ccf-8cc8-9ba1d8af2dc0.py', 'params_url': 'http://localhost:8844/media/uploads/2022/03/18/aggregated_params_init_0d440d05-093d-4d79-bebc-a850dc0054f1.pt', 'model_class': 'MyTrainingPlan', 'training_data': {'node_19ef0050-617d-4624-bbce-207469edf883': ['dataset_ba55374f-ddc3-4f5d-8bb6-deac79c459ee']}}\n",
      "2022-03-18 15:44:52,943 fedbiomed DEBUG - researcher_96a37edc-2ba8-47d7-aa8e-33679104e4b2\n",
      "2022-03-18 15:44:53,311 fedbiomed INFO - log from: node_19ef0050-617d-4624-bbce-207469edf883 / INFO - training with arguments {'history_monitor': <fedbiomed.node.history_monitor.HistoryMonitor object at 0x7f03106ba6a0>, 'node_args': {'gpu': False, 'gpu_num': None, 'gpu_only': False}, 'batch_size': 48, 'lr': 0.001, 'epochs': 2, 'dry_run': False, 'batch_maxnum': 100}\n",
      "2022-03-18 15:44:58,465 fedbiomed INFO - log from: node_19ef0050-617d-4624-bbce-207469edf883 / INFO - Actual/True values (y_true) has more than two levels, using multiclass `weighted` calculation for the metric RECALL\n",
      "2022-03-18 15:44:58,471 fedbiomed INFO - \u001b[1mTESTING BEFORE TRAINING\u001b[0m \n",
      "\t\t\t\t\t NODE_ID: node_19ef0050-617d-4624-bbce-207469edf883 \n",
      "\t\t\t\t\t Completed: 12000/12000 (100%) \n",
      " \t\t\t\t\t RECALL: \u001b[1m0.105583\u001b[0m \n",
      "\t\t\t\t\t ---------\n",
      "2022-03-18 15:44:58,997 fedbiomed INFO - \u001b[1mTRAINING\u001b[0m \n",
      "\t\t\t\t\t NODE_ID: node_19ef0050-617d-4624-bbce-207469edf883 \n",
      "\t\t\t\t\t Epoch: 1 | Completed: 480/48000 (1%) \n",
      " \t\t\t\t\t Loss: \u001b[1m1.326372\u001b[0m \n",
      "\t\t\t\t\t ---------\n",
      "2022-03-18 15:44:59,487 fedbiomed INFO - \u001b[1mTRAINING\u001b[0m \n",
      "\t\t\t\t\t NODE_ID: node_19ef0050-617d-4624-bbce-207469edf883 \n",
      "\t\t\t\t\t Epoch: 1 | Completed: 960/48000 (2%) \n",
      " \t\t\t\t\t Loss: \u001b[1m0.923857\u001b[0m \n",
      "\t\t\t\t\t ---------\n",
      "2022-03-18 15:44:59,972 fedbiomed INFO - \u001b[1mTRAINING\u001b[0m \n",
      "\t\t\t\t\t NODE_ID: node_19ef0050-617d-4624-bbce-207469edf883 \n",
      "\t\t\t\t\t Epoch: 1 | Completed: 1440/48000 (3%) \n",
      " \t\t\t\t\t Loss: \u001b[1m0.740505\u001b[0m \n",
      "\t\t\t\t\t ---------\n",
      "2022-03-18 15:45:00,709 fedbiomed INFO - \u001b[1mTRAINING\u001b[0m \n",
      "\t\t\t\t\t NODE_ID: node_19ef0050-617d-4624-bbce-207469edf883 \n",
      "\t\t\t\t\t Epoch: 1 | Completed: 1920/48000 (4%) \n",
      " \t\t\t\t\t Loss: \u001b[1m0.750675\u001b[0m \n",
      "\t\t\t\t\t ---------\n",
      "2022-03-18 15:45:01,477 fedbiomed INFO - \u001b[1mTRAINING\u001b[0m \n",
      "\t\t\t\t\t NODE_ID: node_19ef0050-617d-4624-bbce-207469edf883 \n",
      "\t\t\t\t\t Epoch: 1 | Completed: 2400/48000 (5%) \n",
      " \t\t\t\t\t Loss: \u001b[1m0.554867\u001b[0m \n",
      "\t\t\t\t\t ---------\n",
      "2022-03-18 15:45:02,055 fedbiomed INFO - \u001b[1mTRAINING\u001b[0m \n",
      "\t\t\t\t\t NODE_ID: node_19ef0050-617d-4624-bbce-207469edf883 \n",
      "\t\t\t\t\t Epoch: 1 | Completed: 2880/48000 (6%) \n",
      " \t\t\t\t\t Loss: \u001b[1m0.422203\u001b[0m \n",
      "\t\t\t\t\t ---------\n",
      "2022-03-18 15:45:02,580 fedbiomed INFO - \u001b[1mTRAINING\u001b[0m \n",
      "\t\t\t\t\t NODE_ID: node_19ef0050-617d-4624-bbce-207469edf883 \n",
      "\t\t\t\t\t Epoch: 1 | Completed: 3360/48000 (7%) \n",
      " \t\t\t\t\t Loss: \u001b[1m0.405736\u001b[0m \n",
      "\t\t\t\t\t ---------\n",
      "2022-03-18 15:45:03,206 fedbiomed INFO - \u001b[1mTRAINING\u001b[0m \n",
      "\t\t\t\t\t NODE_ID: node_19ef0050-617d-4624-bbce-207469edf883 \n",
      "\t\t\t\t\t Epoch: 1 | Completed: 3840/48000 (8%) \n",
      " \t\t\t\t\t Loss: \u001b[1m0.646991\u001b[0m \n",
      "\t\t\t\t\t ---------\n",
      "2022-03-18 15:45:03,892 fedbiomed INFO - \u001b[1mTRAINING\u001b[0m \n",
      "\t\t\t\t\t NODE_ID: node_19ef0050-617d-4624-bbce-207469edf883 \n",
      "\t\t\t\t\t Epoch: 1 | Completed: 4320/48000 (9%) \n",
      " \t\t\t\t\t Loss: \u001b[1m0.318129\u001b[0m \n",
      "\t\t\t\t\t ---------\n",
      "2022-03-18 15:45:04,848 fedbiomed INFO - \u001b[1mTRAINING\u001b[0m \n",
      "\t\t\t\t\t NODE_ID: node_19ef0050-617d-4624-bbce-207469edf883 \n",
      "\t\t\t\t\t Epoch: 2 | Completed: 480/48000 (1%) \n",
      " \t\t\t\t\t Loss: \u001b[1m0.130196\u001b[0m \n",
      "\t\t\t\t\t ---------\n",
      "2022-03-18 15:45:05,330 fedbiomed INFO - \u001b[1mTRAINING\u001b[0m \n",
      "\t\t\t\t\t NODE_ID: node_19ef0050-617d-4624-bbce-207469edf883 \n",
      "\t\t\t\t\t Epoch: 2 | Completed: 960/48000 (2%) \n",
      " \t\t\t\t\t Loss: \u001b[1m0.296282\u001b[0m \n",
      "\t\t\t\t\t ---------\n",
      "2022-03-18 15:45:05,820 fedbiomed INFO - \u001b[1mTRAINING\u001b[0m \n",
      "\t\t\t\t\t NODE_ID: node_19ef0050-617d-4624-bbce-207469edf883 \n",
      "\t\t\t\t\t Epoch: 2 | Completed: 1440/48000 (3%) \n",
      " \t\t\t\t\t Loss: \u001b[1m0.247201\u001b[0m \n",
      "\t\t\t\t\t ---------\n",
      "2022-03-18 15:45:06,297 fedbiomed INFO - \u001b[1mTRAINING\u001b[0m \n",
      "\t\t\t\t\t NODE_ID: node_19ef0050-617d-4624-bbce-207469edf883 \n",
      "\t\t\t\t\t Epoch: 2 | Completed: 1920/48000 (4%) \n",
      " \t\t\t\t\t Loss: \u001b[1m0.328538\u001b[0m \n",
      "\t\t\t\t\t ---------\n",
      "2022-03-18 15:45:06,961 fedbiomed INFO - \u001b[1mTRAINING\u001b[0m \n",
      "\t\t\t\t\t NODE_ID: node_19ef0050-617d-4624-bbce-207469edf883 \n",
      "\t\t\t\t\t Epoch: 2 | Completed: 2400/48000 (5%) \n",
      " \t\t\t\t\t Loss: \u001b[1m0.221570\u001b[0m \n",
      "\t\t\t\t\t ---------\n",
      "2022-03-18 15:45:07,447 fedbiomed INFO - \u001b[1mTRAINING\u001b[0m \n",
      "\t\t\t\t\t NODE_ID: node_19ef0050-617d-4624-bbce-207469edf883 \n",
      "\t\t\t\t\t Epoch: 2 | Completed: 2880/48000 (6%) \n",
      " \t\t\t\t\t Loss: \u001b[1m0.195135\u001b[0m \n",
      "\t\t\t\t\t ---------\n",
      "2022-03-18 15:45:07,937 fedbiomed INFO - \u001b[1mTRAINING\u001b[0m \n",
      "\t\t\t\t\t NODE_ID: node_19ef0050-617d-4624-bbce-207469edf883 \n",
      "\t\t\t\t\t Epoch: 2 | Completed: 3360/48000 (7%) \n",
      " \t\t\t\t\t Loss: \u001b[1m0.140177\u001b[0m \n",
      "\t\t\t\t\t ---------\n",
      "2022-03-18 15:45:08,673 fedbiomed INFO - \u001b[1mTRAINING\u001b[0m \n",
      "\t\t\t\t\t NODE_ID: node_19ef0050-617d-4624-bbce-207469edf883 \n",
      "\t\t\t\t\t Epoch: 2 | Completed: 3840/48000 (8%) \n",
      " \t\t\t\t\t Loss: \u001b[1m0.317071\u001b[0m \n",
      "\t\t\t\t\t ---------\n",
      "2022-03-18 15:45:09,403 fedbiomed INFO - \u001b[1mTRAINING\u001b[0m \n",
      "\t\t\t\t\t NODE_ID: node_19ef0050-617d-4624-bbce-207469edf883 \n",
      "\t\t\t\t\t Epoch: 2 | Completed: 4320/48000 (9%) \n",
      " \t\t\t\t\t Loss: \u001b[1m0.094102\u001b[0m \n",
      "\t\t\t\t\t ---------\n",
      "2022-03-18 15:45:14,693 fedbiomed INFO - log from: node_19ef0050-617d-4624-bbce-207469edf883 / INFO - Actual/True values (y_true) has more than two levels, using multiclass `weighted` calculation for the metric RECALL\n",
      "2022-03-18 15:45:14,701 fedbiomed INFO - \u001b[1mTESTING AFTER TRAINING\u001b[0m \n",
      "\t\t\t\t\t NODE_ID: node_19ef0050-617d-4624-bbce-207469edf883 \n",
      "\t\t\t\t\t Completed: 12000/12000 (100%) \n",
      " \t\t\t\t\t RECALL: \u001b[1m0.934833\u001b[0m \n",
      "\t\t\t\t\t ---------\n",
      "2022-03-18 15:45:14,883 fedbiomed INFO - log from: node_19ef0050-617d-4624-bbce-207469edf883 / INFO - results uploaded successfully \n",
      "2022-03-18 15:45:22,978 fedbiomed INFO - Downloading model params after training on node_19ef0050-617d-4624-bbce-207469edf883 - from http://localhost:8844/media/uploads/2022/03/18/node_params_ce7aae83-c54f-42a0-8846-ed8eb020c0df.pt\n",
      "2022-03-18 15:45:23,028 fedbiomed DEBUG - upload (HTTP GET request) of file node_params_c3d3e482-fc97-4309-881f-b82e72fefdee.pt successful, with status code 200\n",
      "2022-03-18 15:45:23,050 fedbiomed INFO - Nodes that successfully reply in round 0 ['node_19ef0050-617d-4624-bbce-207469edf883']\n",
      "2022-03-18 15:45:23,254 fedbiomed DEBUG - upload (HTTP POST request) of file /home/scansiz/Desktop/Inria/development/fedbiomed/var/experiments/Experiment_0132/aggregated_params_e63049ff-47e5-4c01-97e9-cf06e7c8f36a.pt successful, with status code 201\n",
      "2022-03-18 15:45:23,255 fedbiomed INFO - Saved aggregated params for round 0 in /home/scansiz/Desktop/Inria/development/fedbiomed/var/experiments/Experiment_0132/aggregated_params_e63049ff-47e5-4c01-97e9-cf06e7c8f36a.pt\n",
      "2022-03-18 15:45:23,255 fedbiomed INFO - Sampled nodes in round 1 ['node_19ef0050-617d-4624-bbce-207469edf883']\n",
      "2022-03-18 15:45:23,256 fedbiomed INFO - Send message to node node_19ef0050-617d-4624-bbce-207469edf883 - {'researcher_id': 'researcher_96a37edc-2ba8-47d7-aa8e-33679104e4b2', 'job_id': 'fe4ae23b-6161-4bfc-8065-09afadb0c6f2', 'training_args': {'batch_size': 48, 'lr': 0.001, 'epochs': 2, 'dry_run': False, 'batch_maxnum': 100}, 'model_args': {}, 'command': 'train', 'model_url': 'http://localhost:8844/media/uploads/2022/03/18/my_model_3a53b80c-7390-4ccf-8cc8-9ba1d8af2dc0.py', 'params_url': 'http://localhost:8844/media/uploads/2022/03/18/aggregated_params_e63049ff-47e5-4c01-97e9-cf06e7c8f36a.pt', 'model_class': 'MyTrainingPlan', 'training_data': {'node_19ef0050-617d-4624-bbce-207469edf883': ['dataset_ba55374f-ddc3-4f5d-8bb6-deac79c459ee']}}\n",
      "2022-03-18 15:45:23,256 fedbiomed DEBUG - researcher_96a37edc-2ba8-47d7-aa8e-33679104e4b2\n",
      "2022-03-18 15:45:23,358 fedbiomed INFO - log from: node_19ef0050-617d-4624-bbce-207469edf883 / INFO - training with arguments {'history_monitor': <fedbiomed.node.history_monitor.HistoryMonitor object at 0x7f03106baa00>, 'node_args': {'gpu': False, 'gpu_num': None, 'gpu_only': False}, 'batch_size': 48, 'lr': 0.001, 'epochs': 2, 'dry_run': False, 'batch_maxnum': 100}\n"
     ]
    },
    {
     "name": "stderr",
     "output_type": "stream",
     "text": [
      "2022-03-18 15:45:28,118 fedbiomed INFO - log from: node_19ef0050-617d-4624-bbce-207469edf883 / INFO - Actual/True values (y_true) has more than two levels, using multiclass `weighted` calculation for the metric RECALL\n",
      "2022-03-18 15:45:28,128 fedbiomed INFO - \u001b[1mTESTING BEFORE TRAINING\u001b[0m \n",
      "\t\t\t\t\t NODE_ID: node_19ef0050-617d-4624-bbce-207469edf883 \n",
      "\t\t\t\t\t Completed: 12000/12000 (100%) \n",
      " \t\t\t\t\t RECALL: \u001b[1m0.938417\u001b[0m \n",
      "\t\t\t\t\t ---------\n",
      "2022-03-18 15:45:28,667 fedbiomed INFO - \u001b[1mTRAINING\u001b[0m \n",
      "\t\t\t\t\t NODE_ID: node_19ef0050-617d-4624-bbce-207469edf883 \n",
      "\t\t\t\t\t Epoch: 1 | Completed: 480/48000 (1%) \n",
      " \t\t\t\t\t Loss: \u001b[1m0.193623\u001b[0m \n",
      "\t\t\t\t\t ---------\n",
      "2022-03-18 15:45:29,154 fedbiomed INFO - \u001b[1mTRAINING\u001b[0m \n",
      "\t\t\t\t\t NODE_ID: node_19ef0050-617d-4624-bbce-207469edf883 \n",
      "\t\t\t\t\t Epoch: 1 | Completed: 960/48000 (2%) \n",
      " \t\t\t\t\t Loss: \u001b[1m0.092240\u001b[0m \n",
      "\t\t\t\t\t ---------\n",
      "2022-03-18 15:45:29,706 fedbiomed INFO - \u001b[1mTRAINING\u001b[0m \n",
      "\t\t\t\t\t NODE_ID: node_19ef0050-617d-4624-bbce-207469edf883 \n",
      "\t\t\t\t\t Epoch: 1 | Completed: 1440/48000 (3%) \n",
      " \t\t\t\t\t Loss: \u001b[1m0.133200\u001b[0m \n",
      "\t\t\t\t\t ---------\n",
      "2022-03-18 15:45:30,301 fedbiomed INFO - \u001b[1mTRAINING\u001b[0m \n",
      "\t\t\t\t\t NODE_ID: node_19ef0050-617d-4624-bbce-207469edf883 \n",
      "\t\t\t\t\t Epoch: 1 | Completed: 1920/48000 (4%) \n",
      " \t\t\t\t\t Loss: \u001b[1m0.267320\u001b[0m \n",
      "\t\t\t\t\t ---------\n",
      "2022-03-18 15:45:30,828 fedbiomed INFO - \u001b[1mTRAINING\u001b[0m \n",
      "\t\t\t\t\t NODE_ID: node_19ef0050-617d-4624-bbce-207469edf883 \n",
      "\t\t\t\t\t Epoch: 1 | Completed: 2400/48000 (5%) \n",
      " \t\t\t\t\t Loss: \u001b[1m0.244671\u001b[0m \n",
      "\t\t\t\t\t ---------\n",
      "2022-03-18 15:45:31,315 fedbiomed INFO - \u001b[1mTRAINING\u001b[0m \n",
      "\t\t\t\t\t NODE_ID: node_19ef0050-617d-4624-bbce-207469edf883 \n",
      "\t\t\t\t\t Epoch: 1 | Completed: 2880/48000 (6%) \n",
      " \t\t\t\t\t Loss: \u001b[1m0.098000\u001b[0m \n",
      "\t\t\t\t\t ---------\n",
      "2022-03-18 15:45:31,812 fedbiomed INFO - \u001b[1mTRAINING\u001b[0m \n",
      "\t\t\t\t\t NODE_ID: node_19ef0050-617d-4624-bbce-207469edf883 \n",
      "\t\t\t\t\t Epoch: 1 | Completed: 3360/48000 (7%) \n",
      " \t\t\t\t\t Loss: \u001b[1m0.227580\u001b[0m \n",
      "\t\t\t\t\t ---------\n",
      "2022-03-18 15:45:32,301 fedbiomed INFO - \u001b[1mTRAINING\u001b[0m \n",
      "\t\t\t\t\t NODE_ID: node_19ef0050-617d-4624-bbce-207469edf883 \n",
      "\t\t\t\t\t Epoch: 1 | Completed: 3840/48000 (8%) \n",
      " \t\t\t\t\t Loss: \u001b[1m0.330214\u001b[0m \n",
      "\t\t\t\t\t ---------\n",
      "2022-03-18 15:45:32,801 fedbiomed INFO - \u001b[1mTRAINING\u001b[0m \n",
      "\t\t\t\t\t NODE_ID: node_19ef0050-617d-4624-bbce-207469edf883 \n",
      "\t\t\t\t\t Epoch: 1 | Completed: 4320/48000 (9%) \n",
      " \t\t\t\t\t Loss: \u001b[1m0.130087\u001b[0m \n",
      "\t\t\t\t\t ---------\n",
      "2022-03-18 15:45:33,806 fedbiomed INFO - \u001b[1mTRAINING\u001b[0m \n",
      "\t\t\t\t\t NODE_ID: node_19ef0050-617d-4624-bbce-207469edf883 \n",
      "\t\t\t\t\t Epoch: 2 | Completed: 480/48000 (1%) \n",
      " \t\t\t\t\t Loss: \u001b[1m0.076369\u001b[0m \n",
      "\t\t\t\t\t ---------\n",
      "2022-03-18 15:45:34,315 fedbiomed INFO - \u001b[1mTRAINING\u001b[0m \n",
      "\t\t\t\t\t NODE_ID: node_19ef0050-617d-4624-bbce-207469edf883 \n",
      "\t\t\t\t\t Epoch: 2 | Completed: 960/48000 (2%) \n",
      " \t\t\t\t\t Loss: \u001b[1m0.256074\u001b[0m \n",
      "\t\t\t\t\t ---------\n",
      "2022-03-18 15:45:34,818 fedbiomed INFO - \u001b[1mTRAINING\u001b[0m \n",
      "\t\t\t\t\t NODE_ID: node_19ef0050-617d-4624-bbce-207469edf883 \n",
      "\t\t\t\t\t Epoch: 2 | Completed: 1440/48000 (3%) \n",
      " \t\t\t\t\t Loss: \u001b[1m0.203094\u001b[0m \n",
      "\t\t\t\t\t ---------\n",
      "2022-03-18 15:45:35,324 fedbiomed INFO - \u001b[1mTRAINING\u001b[0m \n",
      "\t\t\t\t\t NODE_ID: node_19ef0050-617d-4624-bbce-207469edf883 \n",
      "\t\t\t\t\t Epoch: 2 | Completed: 1920/48000 (4%) \n",
      " \t\t\t\t\t Loss: \u001b[1m0.102607\u001b[0m \n",
      "\t\t\t\t\t ---------\n",
      "2022-03-18 15:45:35,823 fedbiomed INFO - \u001b[1mTRAINING\u001b[0m \n",
      "\t\t\t\t\t NODE_ID: node_19ef0050-617d-4624-bbce-207469edf883 \n",
      "\t\t\t\t\t Epoch: 2 | Completed: 2400/48000 (5%) \n",
      " \t\t\t\t\t Loss: \u001b[1m0.229778\u001b[0m \n",
      "\t\t\t\t\t ---------\n",
      "2022-03-18 15:45:36,314 fedbiomed INFO - \u001b[1mTRAINING\u001b[0m \n",
      "\t\t\t\t\t NODE_ID: node_19ef0050-617d-4624-bbce-207469edf883 \n",
      "\t\t\t\t\t Epoch: 2 | Completed: 2880/48000 (6%) \n",
      " \t\t\t\t\t Loss: \u001b[1m0.039240\u001b[0m \n",
      "\t\t\t\t\t ---------\n",
      "2022-03-18 15:45:36,808 fedbiomed INFO - \u001b[1mTRAINING\u001b[0m \n",
      "\t\t\t\t\t NODE_ID: node_19ef0050-617d-4624-bbce-207469edf883 \n",
      "\t\t\t\t\t Epoch: 2 | Completed: 3360/48000 (7%) \n",
      " \t\t\t\t\t Loss: \u001b[1m0.088133\u001b[0m \n",
      "\t\t\t\t\t ---------\n",
      "2022-03-18 15:45:37,295 fedbiomed INFO - \u001b[1mTRAINING\u001b[0m \n",
      "\t\t\t\t\t NODE_ID: node_19ef0050-617d-4624-bbce-207469edf883 \n",
      "\t\t\t\t\t Epoch: 2 | Completed: 3840/48000 (8%) \n",
      " \t\t\t\t\t Loss: \u001b[1m0.092540\u001b[0m \n",
      "\t\t\t\t\t ---------\n",
      "2022-03-18 15:45:37,808 fedbiomed INFO - \u001b[1mTRAINING\u001b[0m \n",
      "\t\t\t\t\t NODE_ID: node_19ef0050-617d-4624-bbce-207469edf883 \n",
      "\t\t\t\t\t Epoch: 2 | Completed: 4320/48000 (9%) \n",
      " \t\t\t\t\t Loss: \u001b[1m0.203677\u001b[0m \n",
      "\t\t\t\t\t ---------\n",
      "2022-03-18 15:45:43,851 fedbiomed INFO - log from: node_19ef0050-617d-4624-bbce-207469edf883 / INFO - Actual/True values (y_true) has more than two levels, using multiclass `weighted` calculation for the metric RECALL\n",
      "2022-03-18 15:45:43,857 fedbiomed INFO - \u001b[1mTESTING AFTER TRAINING\u001b[0m \n",
      "\t\t\t\t\t NODE_ID: node_19ef0050-617d-4624-bbce-207469edf883 \n",
      "\t\t\t\t\t Completed: 12000/12000 (100%) \n",
      " \t\t\t\t\t RECALL: \u001b[1m0.952583\u001b[0m \n",
      "\t\t\t\t\t ---------\n",
      "2022-03-18 15:45:44,066 fedbiomed INFO - log from: node_19ef0050-617d-4624-bbce-207469edf883 / INFO - results uploaded successfully \n",
      "2022-03-18 15:45:53,290 fedbiomed INFO - Downloading model params after training on node_19ef0050-617d-4624-bbce-207469edf883 - from http://localhost:8844/media/uploads/2022/03/18/node_params_77221755-3961-4982-8078-011ec07548e2.pt\n",
      "2022-03-18 15:45:53,347 fedbiomed DEBUG - upload (HTTP GET request) of file node_params_788701b7-c829-43cf-aab8-55637720cb19.pt successful, with status code 200\n",
      "2022-03-18 15:45:53,364 fedbiomed INFO - Nodes that successfully reply in round 1 ['node_19ef0050-617d-4624-bbce-207469edf883']\n",
      "2022-03-18 15:45:53,554 fedbiomed DEBUG - upload (HTTP POST request) of file /home/scansiz/Desktop/Inria/development/fedbiomed/var/experiments/Experiment_0132/aggregated_params_f41bdd29-b475-4a57-b80c-578d5cf7ead2.pt successful, with status code 201\n",
      "2022-03-18 15:45:53,556 fedbiomed INFO - Saved aggregated params for round 1 in /home/scansiz/Desktop/Inria/development/fedbiomed/var/experiments/Experiment_0132/aggregated_params_f41bdd29-b475-4a57-b80c-578d5cf7ead2.pt\n",
      "2022-03-18 15:45:53,557 fedbiomed INFO - Sampled nodes in round 2 ['node_19ef0050-617d-4624-bbce-207469edf883']\n",
      "2022-03-18 15:45:53,558 fedbiomed INFO - Send message to node node_19ef0050-617d-4624-bbce-207469edf883 - {'researcher_id': 'researcher_96a37edc-2ba8-47d7-aa8e-33679104e4b2', 'job_id': 'fe4ae23b-6161-4bfc-8065-09afadb0c6f2', 'training_args': {'batch_size': 48, 'lr': 0.001, 'epochs': 2, 'dry_run': False, 'batch_maxnum': 100}, 'model_args': {}, 'command': 'train', 'model_url': 'http://localhost:8844/media/uploads/2022/03/18/my_model_3a53b80c-7390-4ccf-8cc8-9ba1d8af2dc0.py', 'params_url': 'http://localhost:8844/media/uploads/2022/03/18/aggregated_params_f41bdd29-b475-4a57-b80c-578d5cf7ead2.pt', 'model_class': 'MyTrainingPlan', 'training_data': {'node_19ef0050-617d-4624-bbce-207469edf883': ['dataset_ba55374f-ddc3-4f5d-8bb6-deac79c459ee']}}\n",
      "2022-03-18 15:45:53,559 fedbiomed DEBUG - researcher_96a37edc-2ba8-47d7-aa8e-33679104e4b2\n",
      "2022-03-18 15:45:53,676 fedbiomed INFO - log from: node_19ef0050-617d-4624-bbce-207469edf883 / INFO - training with arguments {'history_monitor': <fedbiomed.node.history_monitor.HistoryMonitor object at 0x7f03a9673f70>, 'node_args': {'gpu': False, 'gpu_num': None, 'gpu_only': False}, 'batch_size': 48, 'lr': 0.001, 'epochs': 2, 'dry_run': False, 'batch_maxnum': 100}\n",
      "2022-03-18 15:45:58,248 fedbiomed INFO - log from: node_19ef0050-617d-4624-bbce-207469edf883 / INFO - Actual/True values (y_true) has more than two levels, using multiclass `weighted` calculation for the metric RECALL\n",
      "2022-03-18 15:45:58,256 fedbiomed INFO - \u001b[1mTESTING BEFORE TRAINING\u001b[0m \n",
      "\t\t\t\t\t NODE_ID: node_19ef0050-617d-4624-bbce-207469edf883 \n",
      "\t\t\t\t\t Completed: 12000/12000 (100%) \n",
      " \t\t\t\t\t RECALL: \u001b[1m0.955583\u001b[0m \n",
      "\t\t\t\t\t ---------\n",
      "2022-03-18 15:45:58,787 fedbiomed INFO - \u001b[1mTRAINING\u001b[0m \n",
      "\t\t\t\t\t NODE_ID: node_19ef0050-617d-4624-bbce-207469edf883 \n",
      "\t\t\t\t\t Epoch: 1 | Completed: 480/48000 (1%) \n",
      " \t\t\t\t\t Loss: \u001b[1m0.244531\u001b[0m \n",
      "\t\t\t\t\t ---------\n",
      "2022-03-18 15:45:59,307 fedbiomed INFO - \u001b[1mTRAINING\u001b[0m \n",
      "\t\t\t\t\t NODE_ID: node_19ef0050-617d-4624-bbce-207469edf883 \n",
      "\t\t\t\t\t Epoch: 1 | Completed: 960/48000 (2%) \n",
      " \t\t\t\t\t Loss: \u001b[1m0.375969\u001b[0m \n",
      "\t\t\t\t\t ---------\n",
      "2022-03-18 15:45:59,819 fedbiomed INFO - \u001b[1mTRAINING\u001b[0m \n",
      "\t\t\t\t\t NODE_ID: node_19ef0050-617d-4624-bbce-207469edf883 \n",
      "\t\t\t\t\t Epoch: 1 | Completed: 1440/48000 (3%) \n",
      " \t\t\t\t\t Loss: \u001b[1m0.116866\u001b[0m \n",
      "\t\t\t\t\t ---------\n",
      "2022-03-18 15:46:00,341 fedbiomed INFO - \u001b[1mTRAINING\u001b[0m \n",
      "\t\t\t\t\t NODE_ID: node_19ef0050-617d-4624-bbce-207469edf883 \n",
      "\t\t\t\t\t Epoch: 1 | Completed: 1920/48000 (4%) \n",
      " \t\t\t\t\t Loss: \u001b[1m0.062370\u001b[0m \n",
      "\t\t\t\t\t ---------\n"
     ]
    },
    {
     "name": "stderr",
     "output_type": "stream",
     "text": [
      "2022-03-18 15:46:00,855 fedbiomed INFO - \u001b[1mTRAINING\u001b[0m \n",
      "\t\t\t\t\t NODE_ID: node_19ef0050-617d-4624-bbce-207469edf883 \n",
      "\t\t\t\t\t Epoch: 1 | Completed: 2400/48000 (5%) \n",
      " \t\t\t\t\t Loss: \u001b[1m0.125854\u001b[0m \n",
      "\t\t\t\t\t ---------\n",
      "2022-03-18 15:46:01,365 fedbiomed INFO - \u001b[1mTRAINING\u001b[0m \n",
      "\t\t\t\t\t NODE_ID: node_19ef0050-617d-4624-bbce-207469edf883 \n",
      "\t\t\t\t\t Epoch: 1 | Completed: 2880/48000 (6%) \n",
      " \t\t\t\t\t Loss: \u001b[1m0.135093\u001b[0m \n",
      "\t\t\t\t\t ---------\n",
      "2022-03-18 15:46:01,878 fedbiomed INFO - \u001b[1mTRAINING\u001b[0m \n",
      "\t\t\t\t\t NODE_ID: node_19ef0050-617d-4624-bbce-207469edf883 \n",
      "\t\t\t\t\t Epoch: 1 | Completed: 3360/48000 (7%) \n",
      " \t\t\t\t\t Loss: \u001b[1m0.087681\u001b[0m \n",
      "\t\t\t\t\t ---------\n",
      "2022-03-18 15:46:02,389 fedbiomed INFO - \u001b[1mTRAINING\u001b[0m \n",
      "\t\t\t\t\t NODE_ID: node_19ef0050-617d-4624-bbce-207469edf883 \n",
      "\t\t\t\t\t Epoch: 1 | Completed: 3840/48000 (8%) \n",
      " \t\t\t\t\t Loss: \u001b[1m0.300774\u001b[0m \n",
      "\t\t\t\t\t ---------\n",
      "2022-03-18 15:46:02,903 fedbiomed INFO - \u001b[1mTRAINING\u001b[0m \n",
      "\t\t\t\t\t NODE_ID: node_19ef0050-617d-4624-bbce-207469edf883 \n",
      "\t\t\t\t\t Epoch: 1 | Completed: 4320/48000 (9%) \n",
      " \t\t\t\t\t Loss: \u001b[1m0.046247\u001b[0m \n",
      "\t\t\t\t\t ---------\n",
      "2022-03-18 15:46:03,907 fedbiomed INFO - \u001b[1mTRAINING\u001b[0m \n",
      "\t\t\t\t\t NODE_ID: node_19ef0050-617d-4624-bbce-207469edf883 \n",
      "\t\t\t\t\t Epoch: 2 | Completed: 480/48000 (1%) \n",
      " \t\t\t\t\t Loss: \u001b[1m0.047243\u001b[0m \n",
      "\t\t\t\t\t ---------\n",
      "2022-03-18 15:46:04,416 fedbiomed INFO - \u001b[1mTRAINING\u001b[0m \n",
      "\t\t\t\t\t NODE_ID: node_19ef0050-617d-4624-bbce-207469edf883 \n",
      "\t\t\t\t\t Epoch: 2 | Completed: 960/48000 (2%) \n",
      " \t\t\t\t\t Loss: \u001b[1m0.146633\u001b[0m \n",
      "\t\t\t\t\t ---------\n",
      "2022-03-18 15:46:04,924 fedbiomed INFO - \u001b[1mTRAINING\u001b[0m \n",
      "\t\t\t\t\t NODE_ID: node_19ef0050-617d-4624-bbce-207469edf883 \n",
      "\t\t\t\t\t Epoch: 2 | Completed: 1440/48000 (3%) \n",
      " \t\t\t\t\t Loss: \u001b[1m0.221170\u001b[0m \n",
      "\t\t\t\t\t ---------\n",
      "2022-03-18 15:46:05,433 fedbiomed INFO - \u001b[1mTRAINING\u001b[0m \n",
      "\t\t\t\t\t NODE_ID: node_19ef0050-617d-4624-bbce-207469edf883 \n",
      "\t\t\t\t\t Epoch: 2 | Completed: 1920/48000 (4%) \n",
      " \t\t\t\t\t Loss: \u001b[1m0.059986\u001b[0m \n",
      "\t\t\t\t\t ---------\n",
      "2022-03-18 15:46:05,943 fedbiomed INFO - \u001b[1mTRAINING\u001b[0m \n",
      "\t\t\t\t\t NODE_ID: node_19ef0050-617d-4624-bbce-207469edf883 \n",
      "\t\t\t\t\t Epoch: 2 | Completed: 2400/48000 (5%) \n",
      " \t\t\t\t\t Loss: \u001b[1m0.160834\u001b[0m \n",
      "\t\t\t\t\t ---------\n",
      "2022-03-18 15:46:06,454 fedbiomed INFO - \u001b[1mTRAINING\u001b[0m \n",
      "\t\t\t\t\t NODE_ID: node_19ef0050-617d-4624-bbce-207469edf883 \n",
      "\t\t\t\t\t Epoch: 2 | Completed: 2880/48000 (6%) \n",
      " \t\t\t\t\t Loss: \u001b[1m0.022272\u001b[0m \n",
      "\t\t\t\t\t ---------\n",
      "2022-03-18 15:46:06,976 fedbiomed INFO - \u001b[1mTRAINING\u001b[0m \n",
      "\t\t\t\t\t NODE_ID: node_19ef0050-617d-4624-bbce-207469edf883 \n",
      "\t\t\t\t\t Epoch: 2 | Completed: 3360/48000 (7%) \n",
      " \t\t\t\t\t Loss: \u001b[1m0.042072\u001b[0m \n",
      "\t\t\t\t\t ---------\n",
      "2022-03-18 15:46:07,487 fedbiomed INFO - \u001b[1mTRAINING\u001b[0m \n",
      "\t\t\t\t\t NODE_ID: node_19ef0050-617d-4624-bbce-207469edf883 \n",
      "\t\t\t\t\t Epoch: 2 | Completed: 3840/48000 (8%) \n",
      " \t\t\t\t\t Loss: \u001b[1m0.094869\u001b[0m \n",
      "\t\t\t\t\t ---------\n",
      "2022-03-18 15:46:07,999 fedbiomed INFO - \u001b[1mTRAINING\u001b[0m \n",
      "\t\t\t\t\t NODE_ID: node_19ef0050-617d-4624-bbce-207469edf883 \n",
      "\t\t\t\t\t Epoch: 2 | Completed: 4320/48000 (9%) \n",
      " \t\t\t\t\t Loss: \u001b[1m0.330955\u001b[0m \n",
      "\t\t\t\t\t ---------\n",
      "2022-03-18 15:46:13,725 fedbiomed INFO - log from: node_19ef0050-617d-4624-bbce-207469edf883 / INFO - Actual/True values (y_true) has more than two levels, using multiclass `weighted` calculation for the metric RECALL\n",
      "2022-03-18 15:46:13,732 fedbiomed INFO - \u001b[1mTESTING AFTER TRAINING\u001b[0m \n",
      "\t\t\t\t\t NODE_ID: node_19ef0050-617d-4624-bbce-207469edf883 \n",
      "\t\t\t\t\t Completed: 12000/12000 (100%) \n",
      " \t\t\t\t\t RECALL: \u001b[1m0.963833\u001b[0m \n",
      "\t\t\t\t\t ---------\n",
      "2022-03-18 15:46:13,964 fedbiomed INFO - log from: node_19ef0050-617d-4624-bbce-207469edf883 / INFO - results uploaded successfully \n",
      "2022-03-18 15:46:23,591 fedbiomed INFO - Downloading model params after training on node_19ef0050-617d-4624-bbce-207469edf883 - from http://localhost:8844/media/uploads/2022/03/18/node_params_8f2d9078-5d0f-470a-8d78-93887d9d601b.pt\n",
      "2022-03-18 15:46:23,636 fedbiomed DEBUG - upload (HTTP GET request) of file node_params_44066bfb-1658-4778-b435-fcdfbe802281.pt successful, with status code 200\n",
      "2022-03-18 15:46:23,647 fedbiomed INFO - Nodes that successfully reply in round 2 ['node_19ef0050-617d-4624-bbce-207469edf883']\n",
      "2022-03-18 15:46:23,825 fedbiomed DEBUG - upload (HTTP POST request) of file /home/scansiz/Desktop/Inria/development/fedbiomed/var/experiments/Experiment_0132/aggregated_params_a9b41dc7-29b8-45df-8af1-b2ef90825ad4.pt successful, with status code 201\n",
      "2022-03-18 15:46:23,828 fedbiomed INFO - Saved aggregated params for round 2 in /home/scansiz/Desktop/Inria/development/fedbiomed/var/experiments/Experiment_0132/aggregated_params_a9b41dc7-29b8-45df-8af1-b2ef90825ad4.pt\n"
     ]
    },
    {
     "data": {
      "text/plain": [
       "3"
      ]
     },
     "execution_count": 4,
     "metadata": {},
     "output_type": "execute_result"
    }
   ],
   "source": [
    "exp.run()"
   ]
  },
  {
   "cell_type": "markdown",
   "metadata": {},
   "source": [
    "To display current values please click refresh button on the TensorBoard screen"
   ]
  },
  {
   "cell_type": "markdown",
   "metadata": {},
   "source": [
    "Local training results for each round and each node are available via `exp.training_replies()` (index 0 to (`rounds` - 1) ).\n",
    "\n",
    "For example you can view the training results for the last round below.\n",
    "\n",
    "Different timings (in seconds) are reported for each dataset of a node participating in a round :\n",
    "- `rtime_training` real time (clock time) spent in the training function on the node\n",
    "- `ptime_training` process time (user and system CPU) spent in the training function on the node\n",
    "- `rtime_total` real time (clock time) spent in the researcher between sending the request and handling the response, at the `Job()` layer"
   ]
  },
  {
   "cell_type": "code",
   "execution_count": null,
   "metadata": {
    "pycharm": {
     "name": "#%%\n"
    },
    "scrolled": true
   },
   "outputs": [],
   "source": [
    "print(\"\\nList the training rounds : \", exp.training_replies().keys())\n",
    "\n",
    "print(\"\\nList the nodes for the last training round and their timings : \")\n",
    "round_data = exp.training_replies()[rounds - 1].data()\n",
    "for c in range(len(round_data)):\n",
    "    print(\"\\t- {id} :\\\n",
    "    \\n\\t\\trtime_training={rtraining:.2f} seconds\\\n",
    "    \\n\\t\\tptime_training={ptraining:.2f} seconds\\\n",
    "    \\n\\t\\trtime_total={rtotal:.2f} seconds\".format(id = round_data[c]['node_id'],\n",
    "        rtraining = round_data[c]['timing']['rtime_training'],\n",
    "        ptraining = round_data[c]['timing']['ptime_training'],\n",
    "        rtotal = round_data[c]['timing']['rtime_total']))\n",
    "print('\\n')\n",
    "    \n",
    "exp.training_replies()[rounds - 1].dataframe()"
   ]
  },
  {
   "cell_type": "markdown",
   "metadata": {},
   "source": [
    "Federated parameters for each round are available via `exp.aggregated_params()` (index 0 to (`rounds` - 1) ).\n",
    "\n",
    "For example you can view the federated parameters for the last round of the experiment :"
   ]
  },
  {
   "cell_type": "code",
   "execution_count": null,
   "metadata": {},
   "outputs": [],
   "source": [
    "print(\"\\nList the training rounds : \", exp.aggregated_params().keys())\n",
    "\n",
    "print(\"\\nAccess the federated params for the last training round :\")\n",
    "print(\"\\t- params_path: \", exp.aggregated_params()[rounds - 1]['params_path'])\n",
    "print(\"\\t- parameter data: \", exp.aggregated_params()[rounds - 1]['params'].keys())\n"
   ]
  },
  {
   "cell_type": "markdown",
   "metadata": {},
   "source": [
    "## Optional : searching the data"
   ]
  },
  {
   "cell_type": "code",
   "execution_count": null,
   "metadata": {},
   "outputs": [],
   "source": [
    "from fedbiomed.researcher.requests import Requests\n",
    "\n",
    "r = Requests()\n",
    "data = r.search(tags)\n",
    "\n",
    "import pandas as pd\n",
    "for node_id in data.keys():\n",
    "    print('\\n','Data for ', node_id, '\\n\\n', pd.DataFrame(data[node_id]))"
   ]
  },
  {
   "cell_type": "markdown",
   "metadata": {
    "pycharm": {
     "name": "#%%\n"
    }
   },
   "source": [
    "Feel free to try your own models :D"
   ]
  }
 ],
 "metadata": {
  "kernelspec": {
   "display_name": "Python 3 (ipykernel)",
   "language": "python",
   "name": "python3"
  },
  "language_info": {
   "codemirror_mode": {
    "name": "ipython",
    "version": 3
   },
   "file_extension": ".py",
   "mimetype": "text/x-python",
   "name": "python",
   "nbconvert_exporter": "python",
   "pygments_lexer": "ipython3",
   "version": "3.9.7"
  }
 },
 "nbformat": 4,
 "nbformat_minor": 1
}

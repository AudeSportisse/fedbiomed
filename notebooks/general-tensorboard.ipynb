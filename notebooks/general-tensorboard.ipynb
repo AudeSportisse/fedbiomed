{
 "cells": [
  {
   "cell_type": "markdown",
   "metadata": {},
   "source": [
    "# Fedbiomed Researcher"
   ]
  },
  {
   "cell_type": "markdown",
   "metadata": {},
   "source": [
    "Use for developing (autoreloads changes made across packages)"
   ]
  },
  {
   "cell_type": "code",
   "execution_count": 1,
   "metadata": {},
   "outputs": [],
   "source": [
    "%load_ext autoreload\n",
    "%autoreload 2"
   ]
  },
  {
   "cell_type": "markdown",
   "metadata": {},
   "source": [
    "## Start the network\n",
    "Before running this notebook, start the network with `./scripts/fedbiomed_run network`"
   ]
  },
  {
   "cell_type": "markdown",
   "metadata": {},
   "source": [
    "## Setting the node up\n",
    "It is necessary to previously configure a node:\n",
    "1. `./scripts/fedbiomed_run node add`\n",
    "  * Select option 2 (default) to add MNIST to the node\n",
    "  * Confirm default tags by hitting \"y\" and ENTER\n",
    "  * Pick the folder where MNIST is downloaded (this is due torch issue https://github.com/pytorch/vision/issues/3549)\n",
    "  * Data must have been added (if you get a warning saying that data must be unique is because it's been already added)\n",
    "  \n",
    "2. Check that your data has been added by executing `./scripts/fedbiomed_run node list`\n",
    "3. Run the node using `./scripts/fedbiomed_run node run`. Wait until you get `Starting task manager`. it means you are online."
   ]
  },
  {
   "cell_type": "markdown",
   "metadata": {},
   "source": [
    "## Create an experiment to train a model on the data found"
   ]
  },
  {
   "cell_type": "markdown",
   "metadata": {},
   "source": [
    "Declare a torch.nn MyTrainingPlan class to send for training on the node"
   ]
  },
  {
   "cell_type": "code",
   "execution_count": 2,
   "metadata": {},
   "outputs": [],
   "source": [
    "import torch\n",
    "import torch.nn as nn\n",
    "from fedbiomed.common.training_plans import TorchTrainingPlan\n",
    "from fedbiomed.common.data import DataManager\n",
    "from torchvision import datasets, transforms\n",
    "\n",
    "# Here we define the model to be used. \n",
    "# You can use any class name (here 'Net')\n",
    "class MyTrainingPlan(TorchTrainingPlan):\n",
    "    def __init__(self, model_args: dict = {}):\n",
    "        super(MyTrainingPlan, self).__init__(model_args)\n",
    "        self.conv1 = nn.Conv2d(1, 32, 3, 1)\n",
    "        self.conv2 = nn.Conv2d(32, 64, 3, 1)\n",
    "        self.dropout1 = nn.Dropout(0.25)\n",
    "        self.dropout2 = nn.Dropout(0.5)\n",
    "        self.fc1 = nn.Linear(9216, 128)\n",
    "        self.fc2 = nn.Linear(128, 10)\n",
    "        \n",
    "        # Here we define the custom dependencies that will be needed by our custom Dataloader\n",
    "        # In this case, we need the torch DataLoader classes\n",
    "        # Since we will train on MNIST, we need datasets and transform from torchvision\n",
    "        deps = [\"from torchvision import datasets, transforms\"\n",
    "               ]\n",
    "        \n",
    "        self.add_dependency(deps)\n",
    "\n",
    "    def forward(self, x):\n",
    "        x = self.conv1(x)\n",
    "        x = F.relu(x)\n",
    "        x = self.conv2(x)\n",
    "        x = F.relu(x)\n",
    "        x = F.max_pool2d(x, 2)\n",
    "        x = self.dropout1(x)\n",
    "        x = torch.flatten(x, 1)\n",
    "        x = self.fc1(x)\n",
    "        x = F.relu(x)\n",
    "        x = self.dropout2(x)\n",
    "        x = self.fc2(x)\n",
    "        \n",
    "        \n",
    "        output = F.log_softmax(x, dim=1)\n",
    "        return output\n",
    "\n",
    "    def training_data(self, batch_size = 48):\n",
    "        # Custom torch Dataloader for MNIST data\n",
    "        transform = transforms.Compose([transforms.ToTensor(),\n",
    "        transforms.Normalize((0.1307,), (0.3081,))])\n",
    "        dataset1 = datasets.MNIST(self.dataset_path, train=True, download=False, transform=transform)\n",
    "        train_kwargs = {'batch_size': batch_size, 'shuffle': True}\n",
    "        return DataManager(dataset=dataset1, **train_kwargs)\n",
    "    \n",
    "    def training_step(self, data, target):\n",
    "        output = self.forward(data)\n",
    "        loss   = torch.nn.functional.nll_loss(output, target)\n",
    "        return loss\n"
   ]
  },
  {
   "cell_type": "markdown",
   "metadata": {},
   "source": [
    "This group of arguments correspond respectively:\n",
    "* `model_args`: a dictionary with the arguments related to the model (e.g. number of layers, features, etc.). This will be passed to the model class on the node side.\n",
    "* `training_args`: a dictionary containing the arguments for the training routine (e.g. batch size, learning rate, epochs, etc.). This will be passed to the routine on the node side.\n",
    "\n",
    "**NOTE:** typos and/or lack of positional (required) arguments will raise error. 🤓"
   ]
  },
  {
   "cell_type": "code",
   "execution_count": 3,
   "metadata": {
    "pycharm": {
     "name": "#%%\n"
    }
   },
   "outputs": [],
   "source": [
    "model_args = {}\n",
    "\n",
    "training_args = {\n",
    "    'batch_size': 48, \n",
    "    'lr': 1e-3, \n",
    "    'epochs': 1, \n",
    "    'dry_run': False,  \n",
    "    'batch_maxnum': 100 # Fast pass for development : only use ( batch_maxnum * batch_size ) samples\n",
    "}"
   ]
  },
  {
   "cell_type": "markdown",
   "metadata": {},
   "source": [
    "Define an experiment\n",
    "- search nodes serving data for these `tags`, optionally filter on a list of node ID with `nodes`\n",
    "- run a round of local training on nodes with model defined in `model_path` + federation with `aggregator`\n",
    "- run for `round_limit` rounds, applying the `node_selection_strategy` between the rounds"
   ]
  },
  {
   "cell_type": "code",
   "execution_count": 4,
   "metadata": {
    "pycharm": {
     "name": "#%%\n"
    },
    "scrolled": true
   },
   "outputs": [
    {
     "name": "stderr",
     "output_type": "stream",
     "text": [
      "2022-03-30 21:58:26,255 fedbiomed INFO - Component environment:\n",
      "2022-03-30 21:58:26,255 fedbiomed INFO - type = ComponentType.RESEARCHER\n",
      "2022-03-30 21:58:26,410 fedbiomed INFO - Messaging researcher_ad3c024c-fb12-4ca1-9204-0f6b9220bed8 successfully connected to the message broker, object = <fedbiomed.common.messaging.Messaging object at 0x7f1568a0f2e0>\n",
      "2022-03-30 21:58:26,452 fedbiomed INFO - Searching dataset with data tags: ['#MNIST', '#dataset'] for all nodes\n",
      "2022-03-30 21:58:36,463 fedbiomed INFO - Node selected for training -> node_ad006bab-e62d-4745-948c-604a37b7f170\n",
      "2022-03-30 21:58:36,495 fedbiomed DEBUG - Model file has been saved: /home/scansiz/Desktop/Inria/development/fedbiomed/var/experiments/Experiment_0025/my_model_6489c771-b461-42ff-bbb1-0b3d1d3978dc.py\n",
      "2022-03-30 21:58:36,515 fedbiomed DEBUG - upload (HTTP POST request) of file /home/scansiz/Desktop/Inria/development/fedbiomed/var/experiments/Experiment_0025/my_model_6489c771-b461-42ff-bbb1-0b3d1d3978dc.py successful, with status code 201\n",
      "2022-03-30 21:58:36,680 fedbiomed DEBUG - upload (HTTP POST request) of file /home/scansiz/Desktop/Inria/development/fedbiomed/var/experiments/Experiment_0025/aggregated_params_init_aa0748b0-381d-4f8d-8bb2-8e0aae55401e.pt successful, with status code 201\n",
      "2022-03-30 21:58:36,684 fedbiomed INFO - Removing tensorboard logs from previous experiment\n",
      "2022-03-30 21:58:36,686 fedbiomed DEBUG - Experimentation training_args updated for `job`\n",
      "2022-03-30 21:58:36,687 fedbiomed DEBUG - Experimentation training_args updated for `job`\n",
      "2022-03-30 21:58:36,688 fedbiomed DEBUG - Experimentation training_args updated for `job`\n"
     ]
    },
    {
     "data": {
      "text/plain": [
       "True"
      ]
     },
     "execution_count": 4,
     "metadata": {},
     "output_type": "execute_result"
    }
   ],
   "source": [
    "from fedbiomed.researcher.experiment import Experiment\n",
    "from fedbiomed.researcher.aggregators.fedavg import FedAverage\n",
    "\n",
    "tags =  ['#MNIST', '#dataset']\n",
    "rounds = 1\n",
    "\n",
    "exp = Experiment(tags=tags,\n",
    "                 model_args=model_args,\n",
    "                 model_class=MyTrainingPlan,\n",
    "                 training_args=training_args,\n",
    "                 round_limit=rounds,\n",
    "                 aggregator=FedAverage(),\n",
    "                 node_selection_strategy=None,\n",
    "                 tensorboard=True\n",
    "                )\n",
    "\n",
    "exp.set_test_ratio(0.1)\n",
    "exp.set_test_on_local_updates(True)\n",
    "exp.set_test_on_global_updates(True)"
   ]
  },
  {
   "cell_type": "markdown",
   "metadata": {},
   "source": [
    "Start tensorboard to see loss value after every iteration during training. It is normal to see empty screen. After you run the experiment you will be able to see the changes on the dashboard. Notebook will refresh results in every 30 seconds. You can also click refresh button to see current training steps. "
   ]
  },
  {
   "cell_type": "code",
   "execution_count": 5,
   "metadata": {},
   "outputs": [],
   "source": [
    "from fedbiomed.researcher.environ import environ\n",
    "tensorboard_dir = environ['TENSORBOARD_RESULTS_DIR']"
   ]
  },
  {
   "cell_type": "code",
   "execution_count": 6,
   "metadata": {},
   "outputs": [],
   "source": [
    "%load_ext tensorboard"
   ]
  },
  {
   "cell_type": "code",
   "execution_count": 7,
   "metadata": {},
   "outputs": [
    {
     "data": {
      "text/html": [
       "\n",
       "      <iframe id=\"tensorboard-frame-8a3815656d44962d\" width=\"100%\" height=\"800\" frameborder=\"0\">\n",
       "      </iframe>\n",
       "      <script>\n",
       "        (function() {\n",
       "          const frame = document.getElementById(\"tensorboard-frame-8a3815656d44962d\");\n",
       "          const url = new URL(\"/\", window.location);\n",
       "          const port = 6006;\n",
       "          if (port) {\n",
       "            url.port = port;\n",
       "          }\n",
       "          frame.src = url;\n",
       "        })();\n",
       "      </script>\n",
       "    "
      ],
      "text/plain": [
       "<IPython.core.display.HTML object>"
      ]
     },
     "metadata": {},
     "output_type": "display_data"
    }
   ],
   "source": [
    "tensorboard --logdir \"$tensorboard_dir\""
   ]
  },
  {
   "cell_type": "code",
   "execution_count": 10,
   "metadata": {
    "pycharm": {
     "name": "#%%\n"
    },
    "scrolled": false
   },
   "outputs": [
    {
     "name": "stderr",
     "output_type": "stream",
     "text": [
      "2022-03-30 22:00:09,572 fedbiomed DEBUG - Auto increasing total rounds for experiment from 2 to 4\n",
      "2022-03-30 22:00:09,572 fedbiomed INFO - Sampled nodes in round 2 ['node_ad006bab-e62d-4745-948c-604a37b7f170']\n",
      "2022-03-30 22:00:09,573 fedbiomed INFO - \u001b[1mSending request\u001b[0m \n",
      "\t\t\t\t\t\u001b[1m To\u001b[0m: node_ad006bab-e62d-4745-948c-604a37b7f170 \n",
      "\t\t\t\t\t\u001b[1m Reqeust: \u001b[0m: Perform training with the arguments: {'researcher_id': 'researcher_ad3c024c-fb12-4ca1-9204-0f6b9220bed8', 'job_id': '2a70f2b7-8ee9-4236-a9c3-9dbed7031615', 'training_args': {'test_ratio': 0.1, 'test_on_local_updates': True, 'test_on_global_updates': True, 'test_metric': None, 'test_metric_args': {}, 'batch_size': 48, 'lr': 0.001, 'epochs': 1, 'dry_run': False, 'batch_maxnum': 100}, 'training': True, 'model_args': {}, 'command': 'train', 'model_url': 'http://localhost:8844/media/uploads/2022/03/30/my_model_6489c771-b461-42ff-bbb1-0b3d1d3978dc.py', 'params_url': 'http://localhost:8844/media/uploads/2022/03/30/aggregated_params_dce63b69-6cb6-4d17-b912-d1dd27989e68.pt', 'model_class': 'MyTrainingPlan', 'training_data': {'node_ad006bab-e62d-4745-948c-604a37b7f170': ['dataset_462d0a30-daf5-43c3-a28d-5a1d9147cd31']}} \n",
      " -----------------------------------------------------------------\n",
      "2022-03-30 22:00:09,574 fedbiomed DEBUG - researcher_ad3c024c-fb12-4ca1-9204-0f6b9220bed8\n",
      "2022-03-30 22:00:09,651 fedbiomed INFO - \u001b[1mINFO\u001b[0m\n",
      "\t\t\t\t\t\u001b[1m NODE\u001b[0m node_ad006bab-e62d-4745-948c-604a37b7f170\n",
      "\t\t\t\t\t\u001b[1m MESSAGE:\u001b[0m training with arguments {'history_monitor': <fedbiomed.node.history_monitor.HistoryMonitor object at 0x7f396801f700>, 'node_args': {'gpu': False, 'gpu_num': None, 'gpu_only': False}, 'batch_size': 48, 'lr': 0.001, 'epochs': 1, 'dry_run': False, 'batch_maxnum': 100}\u001b[0m\n",
      "-----------------------------------------------------------------\n",
      "2022-03-30 22:00:10,311 fedbiomed INFO - \u001b[1mINFO\u001b[0m\n",
      "\t\t\t\t\t\u001b[1m NODE\u001b[0m node_ad006bab-e62d-4745-948c-604a37b7f170\n",
      "\t\t\t\t\t\u001b[1m MESSAGE:\u001b[0m No `testing_step` method found in TrainingPlan: using default metric ACCURACY for model evaluation\u001b[0m\n",
      "-----------------------------------------------------------------\n",
      "2022-03-30 22:00:11,728 fedbiomed INFO - \u001b[1mTESTING ON GLOBAL UPDATES\u001b[0m \n",
      "\t\t\t\t\t NODE_ID: node_ad006bab-e62d-4745-948c-604a37b7f170 \n",
      "\t\t\t\t\t Completed: 6000/6000 (100%) \n",
      " \t\t\t\t\t ACCURACY: \u001b[1m0.959833\u001b[0m \n",
      "\t\t\t\t\t ---------\n"
     ]
    },
    {
     "name": "stdout",
     "output_type": "stream",
     "text": [
      "3\n",
      "[1]\n",
      "1\n"
     ]
    },
    {
     "name": "stderr",
     "output_type": "stream",
     "text": [
      "2022-03-30 22:00:12,240 fedbiomed INFO - \u001b[1mTRAINING\u001b[0m \n",
      "\t\t\t\t\t NODE_ID: node_ad006bab-e62d-4745-948c-604a37b7f170 \n",
      "\t\t\t\t\t Epoch: 1 | Completed: 480/54000 (1%) \n",
      " \t\t\t\t\t Loss: \u001b[1m0.269563\u001b[0m \n",
      "\t\t\t\t\t ---------\n"
     ]
    },
    {
     "name": "stdout",
     "output_type": "stream",
     "text": [
      "3\n"
     ]
    },
    {
     "name": "stderr",
     "output_type": "stream",
     "text": [
      "2022-03-30 22:00:12,705 fedbiomed INFO - \u001b[1mTRAINING\u001b[0m \n",
      "\t\t\t\t\t NODE_ID: node_ad006bab-e62d-4745-948c-604a37b7f170 \n",
      "\t\t\t\t\t Epoch: 1 | Completed: 960/54000 (2%) \n",
      " \t\t\t\t\t Loss: \u001b[1m0.208132\u001b[0m \n",
      "\t\t\t\t\t ---------\n"
     ]
    },
    {
     "name": "stdout",
     "output_type": "stream",
     "text": [
      "3\n",
      "[10]\n",
      "20\n"
     ]
    },
    {
     "name": "stderr",
     "output_type": "stream",
     "text": [
      "2022-03-30 22:00:13,207 fedbiomed INFO - \u001b[1mTRAINING\u001b[0m \n",
      "\t\t\t\t\t NODE_ID: node_ad006bab-e62d-4745-948c-604a37b7f170 \n",
      "\t\t\t\t\t Epoch: 1 | Completed: 1440/54000 (3%) \n",
      " \t\t\t\t\t Loss: \u001b[1m0.132512\u001b[0m \n",
      "\t\t\t\t\t ---------\n"
     ]
    },
    {
     "name": "stdout",
     "output_type": "stream",
     "text": [
      "3\n",
      "[10, 20]\n",
      "30\n"
     ]
    },
    {
     "name": "stderr",
     "output_type": "stream",
     "text": [
      "2022-03-30 22:00:13,765 fedbiomed INFO - \u001b[1mTRAINING\u001b[0m \n",
      "\t\t\t\t\t NODE_ID: node_ad006bab-e62d-4745-948c-604a37b7f170 \n",
      "\t\t\t\t\t Epoch: 1 | Completed: 1920/54000 (4%) \n",
      " \t\t\t\t\t Loss: \u001b[1m0.167659\u001b[0m \n",
      "\t\t\t\t\t ---------\n"
     ]
    },
    {
     "name": "stdout",
     "output_type": "stream",
     "text": [
      "3\n",
      "[10, 20, 30]\n",
      "40\n"
     ]
    },
    {
     "name": "stderr",
     "output_type": "stream",
     "text": [
      "2022-03-30 22:00:14,238 fedbiomed INFO - \u001b[1mTRAINING\u001b[0m \n",
      "\t\t\t\t\t NODE_ID: node_ad006bab-e62d-4745-948c-604a37b7f170 \n",
      "\t\t\t\t\t Epoch: 1 | Completed: 2400/54000 (4%) \n",
      " \t\t\t\t\t Loss: \u001b[1m0.249605\u001b[0m \n",
      "\t\t\t\t\t ---------\n"
     ]
    },
    {
     "name": "stdout",
     "output_type": "stream",
     "text": [
      "3\n",
      "[10, 20, 30, 40]\n",
      "50\n"
     ]
    },
    {
     "name": "stderr",
     "output_type": "stream",
     "text": [
      "2022-03-30 22:00:14,713 fedbiomed INFO - \u001b[1mTRAINING\u001b[0m \n",
      "\t\t\t\t\t NODE_ID: node_ad006bab-e62d-4745-948c-604a37b7f170 \n",
      "\t\t\t\t\t Epoch: 1 | Completed: 2880/54000 (5%) \n",
      " \t\t\t\t\t Loss: \u001b[1m0.093042\u001b[0m \n",
      "\t\t\t\t\t ---------\n"
     ]
    },
    {
     "name": "stdout",
     "output_type": "stream",
     "text": [
      "3\n",
      "[10, 20, 30, 40, 50]\n",
      "60\n"
     ]
    },
    {
     "name": "stderr",
     "output_type": "stream",
     "text": [
      "2022-03-30 22:00:15,203 fedbiomed INFO - \u001b[1mTRAINING\u001b[0m \n",
      "\t\t\t\t\t NODE_ID: node_ad006bab-e62d-4745-948c-604a37b7f170 \n",
      "\t\t\t\t\t Epoch: 1 | Completed: 3360/54000 (6%) \n",
      " \t\t\t\t\t Loss: \u001b[1m0.243867\u001b[0m \n",
      "\t\t\t\t\t ---------\n"
     ]
    },
    {
     "name": "stdout",
     "output_type": "stream",
     "text": [
      "3\n",
      "[10, 20, 30, 40, 50, 60]\n",
      "70\n"
     ]
    },
    {
     "name": "stderr",
     "output_type": "stream",
     "text": [
      "2022-03-30 22:00:15,784 fedbiomed INFO - \u001b[1mTRAINING\u001b[0m \n",
      "\t\t\t\t\t NODE_ID: node_ad006bab-e62d-4745-948c-604a37b7f170 \n",
      "\t\t\t\t\t Epoch: 1 | Completed: 3840/54000 (7%) \n",
      " \t\t\t\t\t Loss: \u001b[1m0.024946\u001b[0m \n",
      "\t\t\t\t\t ---------\n"
     ]
    },
    {
     "name": "stdout",
     "output_type": "stream",
     "text": [
      "3\n",
      "[10, 20, 30, 40, 50, 60, 70]\n",
      "80\n"
     ]
    },
    {
     "name": "stderr",
     "output_type": "stream",
     "text": [
      "2022-03-30 22:00:16,268 fedbiomed INFO - \u001b[1mTRAINING\u001b[0m \n",
      "\t\t\t\t\t NODE_ID: node_ad006bab-e62d-4745-948c-604a37b7f170 \n",
      "\t\t\t\t\t Epoch: 1 | Completed: 4320/54000 (8%) \n",
      " \t\t\t\t\t Loss: \u001b[1m0.065175\u001b[0m \n",
      "\t\t\t\t\t ---------\n"
     ]
    },
    {
     "name": "stdout",
     "output_type": "stream",
     "text": [
      "3\n",
      "[10, 20, 30, 40, 50, 60, 70, 80]\n",
      "90\n"
     ]
    },
    {
     "name": "stderr",
     "output_type": "stream",
     "text": [
      "2022-03-30 22:00:17,392 fedbiomed INFO - \u001b[1mINFO\u001b[0m\n",
      "\t\t\t\t\t\u001b[1m NODE\u001b[0m node_ad006bab-e62d-4745-948c-604a37b7f170\n",
      "\t\t\t\t\t\u001b[1m MESSAGE:\u001b[0m No `testing_step` method found in TrainingPlan: using default metric ACCURACY for model evaluation\u001b[0m\n",
      "-----------------------------------------------------------------\n",
      "2022-03-30 22:00:19,084 fedbiomed INFO - \u001b[1mTESTING ON LOCAL UPDATES\u001b[0m \n",
      "\t\t\t\t\t NODE_ID: node_ad006bab-e62d-4745-948c-604a37b7f170 \n",
      "\t\t\t\t\t Completed: 6000/6000 (100%) \n",
      " \t\t\t\t\t ACCURACY: \u001b[1m0.967833\u001b[0m \n",
      "\t\t\t\t\t ---------\n",
      "2022-03-30 22:00:19,237 fedbiomed INFO - \u001b[1mINFO\u001b[0m\n",
      "\t\t\t\t\t\u001b[1m NODE\u001b[0m node_ad006bab-e62d-4745-948c-604a37b7f170\n",
      "\t\t\t\t\t\u001b[1m MESSAGE:\u001b[0m results uploaded successfully \u001b[0m\n",
      "-----------------------------------------------------------------\n"
     ]
    },
    {
     "name": "stdout",
     "output_type": "stream",
     "text": [
      "3\n"
     ]
    },
    {
     "name": "stderr",
     "output_type": "stream",
     "text": [
      "2022-03-30 22:00:24,591 fedbiomed INFO - Downloading model params after training on node_ad006bab-e62d-4745-948c-604a37b7f170 - from http://localhost:8844/media/uploads/2022/03/30/node_params_35e35746-8b78-4a41-bed0-581ed6c2d1cb.pt\n",
      "2022-03-30 22:00:24,633 fedbiomed DEBUG - upload (HTTP GET request) of file node_params_cfd24157-eae6-43be-84e3-eafc733bb8c5.pt successful, with status code 200\n",
      "2022-03-30 22:00:24,643 fedbiomed INFO - Nodes that successfully reply in round 2 ['node_ad006bab-e62d-4745-948c-604a37b7f170']\n",
      "2022-03-30 22:00:24,822 fedbiomed DEBUG - upload (HTTP POST request) of file /home/scansiz/Desktop/Inria/development/fedbiomed/var/experiments/Experiment_0025/aggregated_params_866fd37b-1b29-4c80-8995-ceafff76c1a5.pt successful, with status code 201\n",
      "2022-03-30 22:00:24,828 fedbiomed INFO - Saved aggregated params for round 2 in /home/scansiz/Desktop/Inria/development/fedbiomed/var/experiments/Experiment_0025/aggregated_params_866fd37b-1b29-4c80-8995-ceafff76c1a5.pt\n",
      "2022-03-30 22:00:24,830 fedbiomed INFO - Sampled nodes in round 3 ['node_ad006bab-e62d-4745-948c-604a37b7f170']\n",
      "2022-03-30 22:00:24,832 fedbiomed INFO - \u001b[1mSending request\u001b[0m \n",
      "\t\t\t\t\t\u001b[1m To\u001b[0m: node_ad006bab-e62d-4745-948c-604a37b7f170 \n",
      "\t\t\t\t\t\u001b[1m Reqeust: \u001b[0m: Perform training with the arguments: {'researcher_id': 'researcher_ad3c024c-fb12-4ca1-9204-0f6b9220bed8', 'job_id': '2a70f2b7-8ee9-4236-a9c3-9dbed7031615', 'training_args': {'test_ratio': 0.1, 'test_on_local_updates': True, 'test_on_global_updates': True, 'test_metric': None, 'test_metric_args': {}, 'batch_size': 48, 'lr': 0.001, 'epochs': 1, 'dry_run': False, 'batch_maxnum': 100}, 'training': True, 'model_args': {}, 'command': 'train', 'model_url': 'http://localhost:8844/media/uploads/2022/03/30/my_model_6489c771-b461-42ff-bbb1-0b3d1d3978dc.py', 'params_url': 'http://localhost:8844/media/uploads/2022/03/30/aggregated_params_866fd37b-1b29-4c80-8995-ceafff76c1a5.pt', 'model_class': 'MyTrainingPlan', 'training_data': {'node_ad006bab-e62d-4745-948c-604a37b7f170': ['dataset_462d0a30-daf5-43c3-a28d-5a1d9147cd31']}} \n",
      " -----------------------------------------------------------------\n",
      "2022-03-30 22:00:24,835 fedbiomed DEBUG - researcher_ad3c024c-fb12-4ca1-9204-0f6b9220bed8\n",
      "2022-03-30 22:00:24,936 fedbiomed INFO - \u001b[1mINFO\u001b[0m\n",
      "\t\t\t\t\t\u001b[1m NODE\u001b[0m node_ad006bab-e62d-4745-948c-604a37b7f170\n",
      "\t\t\t\t\t\u001b[1m MESSAGE:\u001b[0m training with arguments {'history_monitor': <fedbiomed.node.history_monitor.HistoryMonitor object at 0x7f38cf16f130>, 'node_args': {'gpu': False, 'gpu_num': None, 'gpu_only': False}, 'batch_size': 48, 'lr': 0.001, 'epochs': 1, 'dry_run': False, 'batch_maxnum': 100}\u001b[0m\n",
      "-----------------------------------------------------------------\n",
      "2022-03-30 22:00:25,650 fedbiomed INFO - \u001b[1mINFO\u001b[0m\n",
      "\t\t\t\t\t\u001b[1m NODE\u001b[0m node_ad006bab-e62d-4745-948c-604a37b7f170\n",
      "\t\t\t\t\t\u001b[1m MESSAGE:\u001b[0m No `testing_step` method found in TrainingPlan: using default metric ACCURACY for model evaluation\u001b[0m\n",
      "-----------------------------------------------------------------\n",
      "2022-03-30 22:00:27,343 fedbiomed INFO - \u001b[1mTESTING ON GLOBAL UPDATES\u001b[0m \n",
      "\t\t\t\t\t NODE_ID: node_ad006bab-e62d-4745-948c-604a37b7f170 \n",
      "\t\t\t\t\t Completed: 6000/6000 (100%) \n",
      " \t\t\t\t\t ACCURACY: \u001b[1m0.969167\u001b[0m \n",
      "\t\t\t\t\t ---------\n"
     ]
    },
    {
     "name": "stdout",
     "output_type": "stream",
     "text": [
      "4\n"
     ]
    },
    {
     "name": "stderr",
     "output_type": "stream",
     "text": [
      "2022-03-30 22:00:27,860 fedbiomed INFO - \u001b[1mTRAINING\u001b[0m \n",
      "\t\t\t\t\t NODE_ID: node_ad006bab-e62d-4745-948c-604a37b7f170 \n",
      "\t\t\t\t\t Epoch: 1 | Completed: 480/54000 (1%) \n",
      " \t\t\t\t\t Loss: \u001b[1m0.124026\u001b[0m \n",
      "\t\t\t\t\t ---------\n"
     ]
    },
    {
     "name": "stdout",
     "output_type": "stream",
     "text": [
      "4\n"
     ]
    },
    {
     "name": "stderr",
     "output_type": "stream",
     "text": [
      "2022-03-30 22:00:28,409 fedbiomed INFO - \u001b[1mTRAINING\u001b[0m \n",
      "\t\t\t\t\t NODE_ID: node_ad006bab-e62d-4745-948c-604a37b7f170 \n",
      "\t\t\t\t\t Epoch: 1 | Completed: 960/54000 (2%) \n",
      " \t\t\t\t\t Loss: \u001b[1m0.193208\u001b[0m \n",
      "\t\t\t\t\t ---------\n"
     ]
    },
    {
     "name": "stdout",
     "output_type": "stream",
     "text": [
      "4\n",
      "[10]\n",
      "20\n"
     ]
    },
    {
     "name": "stderr",
     "output_type": "stream",
     "text": [
      "2022-03-30 22:00:28,956 fedbiomed INFO - \u001b[1mTRAINING\u001b[0m \n",
      "\t\t\t\t\t NODE_ID: node_ad006bab-e62d-4745-948c-604a37b7f170 \n",
      "\t\t\t\t\t Epoch: 1 | Completed: 1440/54000 (3%) \n",
      " \t\t\t\t\t Loss: \u001b[1m0.058132\u001b[0m \n",
      "\t\t\t\t\t ---------\n"
     ]
    },
    {
     "name": "stdout",
     "output_type": "stream",
     "text": [
      "4\n",
      "[10, 20]\n",
      "30\n"
     ]
    },
    {
     "name": "stderr",
     "output_type": "stream",
     "text": [
      "2022-03-30 22:00:29,503 fedbiomed INFO - \u001b[1mTRAINING\u001b[0m \n",
      "\t\t\t\t\t NODE_ID: node_ad006bab-e62d-4745-948c-604a37b7f170 \n",
      "\t\t\t\t\t Epoch: 1 | Completed: 1920/54000 (4%) \n",
      " \t\t\t\t\t Loss: \u001b[1m0.158816\u001b[0m \n",
      "\t\t\t\t\t ---------\n"
     ]
    },
    {
     "name": "stdout",
     "output_type": "stream",
     "text": [
      "4\n",
      "[10, 20, 30]\n",
      "40\n"
     ]
    },
    {
     "name": "stderr",
     "output_type": "stream",
     "text": [
      "2022-03-30 22:00:30,134 fedbiomed INFO - \u001b[1mTRAINING\u001b[0m \n",
      "\t\t\t\t\t NODE_ID: node_ad006bab-e62d-4745-948c-604a37b7f170 \n",
      "\t\t\t\t\t Epoch: 1 | Completed: 2400/54000 (4%) \n",
      " \t\t\t\t\t Loss: \u001b[1m0.141086\u001b[0m \n",
      "\t\t\t\t\t ---------\n"
     ]
    },
    {
     "name": "stdout",
     "output_type": "stream",
     "text": [
      "4\n",
      "[10, 20, 30, 40]\n",
      "50\n"
     ]
    },
    {
     "name": "stderr",
     "output_type": "stream",
     "text": [
      "2022-03-30 22:00:30,690 fedbiomed INFO - \u001b[1mTRAINING\u001b[0m \n",
      "\t\t\t\t\t NODE_ID: node_ad006bab-e62d-4745-948c-604a37b7f170 \n",
      "\t\t\t\t\t Epoch: 1 | Completed: 2880/54000 (5%) \n",
      " \t\t\t\t\t Loss: \u001b[1m0.132982\u001b[0m \n",
      "\t\t\t\t\t ---------\n"
     ]
    },
    {
     "name": "stdout",
     "output_type": "stream",
     "text": [
      "4\n",
      "[10, 20, 30, 40, 50]\n",
      "60\n"
     ]
    },
    {
     "name": "stderr",
     "output_type": "stream",
     "text": [
      "2022-03-30 22:00:31,320 fedbiomed INFO - \u001b[1mTRAINING\u001b[0m \n",
      "\t\t\t\t\t NODE_ID: node_ad006bab-e62d-4745-948c-604a37b7f170 \n",
      "\t\t\t\t\t Epoch: 1 | Completed: 3360/54000 (6%) \n",
      " \t\t\t\t\t Loss: \u001b[1m0.121289\u001b[0m \n",
      "\t\t\t\t\t ---------\n"
     ]
    },
    {
     "name": "stdout",
     "output_type": "stream",
     "text": [
      "4\n",
      "[10, 20, 30, 40, 50, 60]\n",
      "70\n"
     ]
    },
    {
     "name": "stderr",
     "output_type": "stream",
     "text": [
      "2022-03-30 22:00:31,909 fedbiomed INFO - \u001b[1mTRAINING\u001b[0m \n",
      "\t\t\t\t\t NODE_ID: node_ad006bab-e62d-4745-948c-604a37b7f170 \n",
      "\t\t\t\t\t Epoch: 1 | Completed: 3840/54000 (7%) \n",
      " \t\t\t\t\t Loss: \u001b[1m0.128271\u001b[0m \n",
      "\t\t\t\t\t ---------\n"
     ]
    },
    {
     "name": "stdout",
     "output_type": "stream",
     "text": [
      "4\n",
      "[10, 20, 30, 40, 50, 60, 70]\n",
      "80\n"
     ]
    },
    {
     "name": "stderr",
     "output_type": "stream",
     "text": [
      "2022-03-30 22:00:32,488 fedbiomed INFO - \u001b[1mTRAINING\u001b[0m \n",
      "\t\t\t\t\t NODE_ID: node_ad006bab-e62d-4745-948c-604a37b7f170 \n",
      "\t\t\t\t\t Epoch: 1 | Completed: 4320/54000 (8%) \n",
      " \t\t\t\t\t Loss: \u001b[1m0.076825\u001b[0m \n",
      "\t\t\t\t\t ---------\n"
     ]
    },
    {
     "name": "stdout",
     "output_type": "stream",
     "text": [
      "4\n",
      "[10, 20, 30, 40, 50, 60, 70, 80]\n",
      "90\n"
     ]
    },
    {
     "name": "stderr",
     "output_type": "stream",
     "text": [
      "2022-03-30 22:00:33,781 fedbiomed INFO - \u001b[1mINFO\u001b[0m\n",
      "\t\t\t\t\t\u001b[1m NODE\u001b[0m node_ad006bab-e62d-4745-948c-604a37b7f170\n",
      "\t\t\t\t\t\u001b[1m MESSAGE:\u001b[0m No `testing_step` method found in TrainingPlan: using default metric ACCURACY for model evaluation\u001b[0m\n",
      "-----------------------------------------------------------------\n",
      "2022-03-30 22:00:35,635 fedbiomed INFO - \u001b[1mTESTING ON LOCAL UPDATES\u001b[0m \n",
      "\t\t\t\t\t NODE_ID: node_ad006bab-e62d-4745-948c-604a37b7f170 \n",
      "\t\t\t\t\t Completed: 6000/6000 (100%) \n",
      " \t\t\t\t\t ACCURACY: \u001b[1m0.971833\u001b[0m \n",
      "\t\t\t\t\t ---------\n",
      "2022-03-30 22:00:35,788 fedbiomed INFO - \u001b[1mINFO\u001b[0m\n",
      "\t\t\t\t\t\u001b[1m NODE\u001b[0m node_ad006bab-e62d-4745-948c-604a37b7f170\n",
      "\t\t\t\t\t\u001b[1m MESSAGE:\u001b[0m results uploaded successfully \u001b[0m\n",
      "-----------------------------------------------------------------\n"
     ]
    },
    {
     "name": "stdout",
     "output_type": "stream",
     "text": [
      "4\n"
     ]
    },
    {
     "name": "stderr",
     "output_type": "stream",
     "text": [
      "2022-03-30 22:00:44,861 fedbiomed INFO - Downloading model params after training on node_ad006bab-e62d-4745-948c-604a37b7f170 - from http://localhost:8844/media/uploads/2022/03/30/node_params_ba5436c4-33e7-47bb-b4f8-03bc9e7e33bb.pt\n",
      "2022-03-30 22:00:44,915 fedbiomed DEBUG - upload (HTTP GET request) of file node_params_9a4ebccc-84d9-4e13-92e1-2ffbb53052ad.pt successful, with status code 200\n",
      "2022-03-30 22:00:44,925 fedbiomed INFO - Nodes that successfully reply in round 3 ['node_ad006bab-e62d-4745-948c-604a37b7f170']\n",
      "2022-03-30 22:00:45,075 fedbiomed DEBUG - upload (HTTP POST request) of file /home/scansiz/Desktop/Inria/development/fedbiomed/var/experiments/Experiment_0025/aggregated_params_a99965c2-8406-4205-baae-7d806b5f22e2.pt successful, with status code 201\n",
      "2022-03-30 22:00:45,078 fedbiomed INFO - Saved aggregated params for round 3 in /home/scansiz/Desktop/Inria/development/fedbiomed/var/experiments/Experiment_0025/aggregated_params_a99965c2-8406-4205-baae-7d806b5f22e2.pt\n",
      "2022-03-30 22:00:45,079 fedbiomed INFO - \u001b[1mSending request\u001b[0m \n",
      "\t\t\t\t\t\u001b[1m To\u001b[0m: node_ad006bab-e62d-4745-948c-604a37b7f170 \n",
      "\t\t\t\t\t\u001b[1m Reqeust: \u001b[0m:Perform final testing on aggregated parameters \n",
      " -----------------------------------------------------------------\n",
      "2022-03-30 22:00:45,080 fedbiomed DEBUG - researcher_ad3c024c-fb12-4ca1-9204-0f6b9220bed8\n",
      "2022-03-30 22:00:45,171 fedbiomed INFO - \u001b[1mINFO\u001b[0m\n",
      "\t\t\t\t\t\u001b[1m NODE\u001b[0m node_ad006bab-e62d-4745-948c-604a37b7f170\n",
      "\t\t\t\t\t\u001b[1m MESSAGE:\u001b[0m training with arguments {'history_monitor': <fedbiomed.node.history_monitor.HistoryMonitor object at 0x7f3968f8c400>, 'node_args': {'gpu': False, 'gpu_num': None, 'gpu_only': False}, 'batch_size': 48, 'lr': 0.001, 'epochs': 1, 'dry_run': False, 'batch_maxnum': 100}\u001b[0m\n",
      "-----------------------------------------------------------------\n",
      "2022-03-30 22:00:45,880 fedbiomed INFO - \u001b[1mINFO\u001b[0m\n",
      "\t\t\t\t\t\u001b[1m NODE\u001b[0m node_ad006bab-e62d-4745-948c-604a37b7f170\n",
      "\t\t\t\t\t\u001b[1m MESSAGE:\u001b[0m No `testing_step` method found in TrainingPlan: using default metric ACCURACY for model evaluation\u001b[0m\n",
      "-----------------------------------------------------------------\n",
      "2022-03-30 22:00:47,588 fedbiomed INFO - \u001b[1mTESTING ON GLOBAL UPDATES\u001b[0m \n",
      "\t\t\t\t\t NODE_ID: node_ad006bab-e62d-4745-948c-604a37b7f170 \n",
      "\t\t\t\t\t Completed: 6000/6000 (100%) \n",
      " \t\t\t\t\t ACCURACY: \u001b[1m0.973833\u001b[0m \n",
      "\t\t\t\t\t ---------\n"
     ]
    },
    {
     "name": "stdout",
     "output_type": "stream",
     "text": [
      "5\n"
     ]
    },
    {
     "data": {
      "text/plain": [
       "2"
      ]
     },
     "execution_count": 10,
     "metadata": {},
     "output_type": "execute_result"
    }
   ],
   "source": [
    "exp.run(rounds=2, increase=True)"
   ]
  },
  {
   "cell_type": "code",
   "execution_count": null,
   "metadata": {},
   "outputs": [],
   "source": [
    "exp._monitor._metric_store\n"
   ]
  },
  {
   "cell_type": "markdown",
   "metadata": {},
   "source": [
    "To display current values please click refresh button on the TensorBoard screen"
   ]
  },
  {
   "cell_type": "markdown",
   "metadata": {},
   "source": [
    "Local training results for each round and each node are available via `exp.training_replies()` (index 0 to (`rounds` - 1) ).\n",
    "\n",
    "For example you can view the training results for the last round below.\n",
    "\n",
    "Different timings (in seconds) are reported for each dataset of a node participating in a round :\n",
    "- `rtime_training` real time (clock time) spent in the training function on the node\n",
    "- `ptime_training` process time (user and system CPU) spent in the training function on the node\n",
    "- `rtime_total` real time (clock time) spent in the researcher between sending the request and handling the response, at the `Job()` layer"
   ]
  },
  {
   "cell_type": "code",
   "execution_count": null,
   "metadata": {
    "pycharm": {
     "name": "#%%\n"
    },
    "scrolled": true
   },
   "outputs": [],
   "source": [
    "print(\"\\nList the training rounds : \", exp.training_replies().keys())\n",
    "\n",
    "print(\"\\nList the nodes for the last training round and their timings : \")\n",
    "round_data = exp.training_replies()[rounds - 1].data()\n",
    "for c in range(len(round_data)):\n",
    "    print(\"\\t- {id} :\\\n",
    "    \\n\\t\\trtime_training={rtraining:.2f} seconds\\\n",
    "    \\n\\t\\tptime_training={ptraining:.2f} seconds\\\n",
    "    \\n\\t\\trtime_total={rtotal:.2f} seconds\".format(id = round_data[c]['node_id'],\n",
    "        rtraining = round_data[c]['timing']['rtime_training'],\n",
    "        ptraining = round_data[c]['timing']['ptime_training'],\n",
    "        rtotal = round_data[c]['timing']['rtime_total']))\n",
    "print('\\n')\n",
    "    \n",
    "exp.training_replies()[rounds - 1].dataframe()"
   ]
  },
  {
   "cell_type": "markdown",
   "metadata": {},
   "source": [
    "Federated parameters for each round are available via `exp.aggregated_params()` (index 0 to (`rounds` - 1) ).\n",
    "\n",
    "For example you can view the federated parameters for the last round of the experiment :"
   ]
  },
  {
   "cell_type": "code",
   "execution_count": null,
   "metadata": {},
   "outputs": [],
   "source": [
    "print(\"\\nList the training rounds : \", exp.aggregated_params().keys())\n",
    "\n",
    "print(\"\\nAccess the federated params for the last training round :\")\n",
    "print(\"\\t- params_path: \", exp.aggregated_params()[rounds - 1]['params_path'])\n",
    "print(\"\\t- parameter data: \", exp.aggregated_params()[rounds - 1]['params'].keys())\n"
   ]
  },
  {
   "cell_type": "markdown",
   "metadata": {},
   "source": [
    "## Optional : searching the data"
   ]
  },
  {
   "cell_type": "code",
   "execution_count": null,
   "metadata": {},
   "outputs": [],
   "source": [
    "from fedbiomed.researcher.requests import Requests\n",
    "\n",
    "r = Requests()\n",
    "data = r.search(tags)\n",
    "\n",
    "import pandas as pd\n",
    "for node_id in data.keys():\n",
    "    print('\\n','Data for ', node_id, '\\n\\n', pd.DataFrame(data[node_id]))"
   ]
  },
  {
   "cell_type": "markdown",
   "metadata": {
    "pycharm": {
     "name": "#%%\n"
    }
   },
   "source": [
    "Feel free to try your own models :D"
   ]
  }
 ],
 "metadata": {
  "kernelspec": {
   "display_name": "Python 3 (ipykernel)",
   "language": "python",
   "name": "python3"
  },
  "language_info": {
   "codemirror_mode": {
    "name": "ipython",
    "version": 3
   },
   "file_extension": ".py",
   "mimetype": "text/x-python",
   "name": "python",
   "nbconvert_exporter": "python",
   "pygments_lexer": "ipython3",
   "version": "3.9.7"
  }
 },
 "nbformat": 4,
 "nbformat_minor": 1
}

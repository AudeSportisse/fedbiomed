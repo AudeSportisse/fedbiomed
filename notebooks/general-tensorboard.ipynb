{
 "cells": [
  {
   "cell_type": "markdown",
   "metadata": {},
   "source": [
    "# Fedbiomed Researcher"
   ]
  },
  {
   "cell_type": "markdown",
   "metadata": {},
   "source": [
    "Use for developing (autoreloads changes made across packages)"
   ]
  },
  {
   "cell_type": "code",
   "execution_count": null,
   "metadata": {},
   "outputs": [],
   "source": [
    "%load_ext autoreload\n",
    "%autoreload 2"
   ]
  },
  {
   "cell_type": "markdown",
   "metadata": {},
   "source": [
    "## Start the network\n",
    "Before running this notebook, start the network with `./scripts/fedbiomed_run network`"
   ]
  },
  {
   "cell_type": "markdown",
   "metadata": {},
   "source": [
    "## Setting the node up\n",
    "It is necessary to previously configure a node:\n",
    "1. `./scripts/fedbiomed_run node add`\n",
    "  * Select option 2 (default) to add MNIST to the node\n",
    "  * Confirm default tags by hitting \"y\" and ENTER\n",
    "  * Pick the folder where MNIST is downloaded (this is due torch issue https://github.com/pytorch/vision/issues/3549)\n",
    "  * Data must have been added (if you get a warning saying that data must be unique is because it's been already added)\n",
    "  \n",
    "2. Check that your data has been added by executing `./scripts/fedbiomed_run node list`\n",
    "3. Run the node using `./scripts/fedbiomed_run node run`. Wait until you get `Starting task manager`. it means you are online."
   ]
  },
  {
   "cell_type": "markdown",
   "metadata": {},
   "source": [
    "## Create an experiment to train a model on the data found"
   ]
  },
  {
   "cell_type": "markdown",
   "metadata": {},
   "source": [
    "Declare a torch.nn MyTrainingPlan class to send for training on the node"
   ]
  },
  {
   "cell_type": "code",
   "execution_count": 1,
   "metadata": {},
   "outputs": [],
   "source": [
    "import torch\n",
    "import torch.nn as nn\n",
    "from fedbiomed.common.training_plans import TorchTrainingPlan\n",
    "from fedbiomed.common.data import DataManager\n",
    "from torchvision import datasets, transforms\n",
    "\n",
    "# Here we define the model to be used. \n",
    "# You can use any class name (here 'Net')\n",
    "class MyTrainingPlan(TorchTrainingPlan):\n",
    "    def __init__(self, model_args: dict = {}):\n",
    "        super(MyTrainingPlan, self).__init__(model_args)\n",
    "        self.conv1 = nn.Conv2d(1, 32, 3, 1)\n",
    "        self.conv2 = nn.Conv2d(32, 64, 3, 1)\n",
    "        self.dropout1 = nn.Dropout(0.25)\n",
    "        self.dropout2 = nn.Dropout(0.5)\n",
    "        self.fc1 = nn.Linear(9216, 128)\n",
    "        self.fc2 = nn.Linear(128, 10)\n",
    "        \n",
    "        # Here we define the custom dependencies that will be needed by our custom Dataloader\n",
    "        # In this case, we need the torch DataLoader classes\n",
    "        # Since we will train on MNIST, we need datasets and transform from torchvision\n",
    "        deps = [\"from torchvision import datasets, transforms\"]\n",
    "        \n",
    "        self.add_dependency(deps)\n",
    "\n",
    "    def forward(self, x):\n",
    "        x = self.conv1(x)\n",
    "        x = F.relu(x)\n",
    "        x = self.conv2(x)\n",
    "        x = F.relu(x)\n",
    "        x = F.max_pool2d(x, 2)\n",
    "        x = self.dropout1(x)\n",
    "        x = torch.flatten(x, 1)\n",
    "        x = self.fc1(x)\n",
    "        x = F.relu(x)\n",
    "        x = self.dropout2(x)\n",
    "        x = self.fc2(x)\n",
    "        \n",
    "        \n",
    "        output = F.log_softmax(x, dim=1)\n",
    "        return output\n",
    "\n",
    "    def training_data(self, batch_size = 48):\n",
    "        # Custom torch Dataloader for MNIST data\n",
    "        transform = transforms.Compose([transforms.ToTensor(),\n",
    "        transforms.Normalize((0.1307,), (0.3081,))])\n",
    "        dataset1 = datasets.MNIST(self.dataset_path, train=True, download=False, transform=transform)\n",
    "        train_kwargs = {'batch_size': batch_size, 'shuffle': True}\n",
    "        return DataManager(dataset=dataset1, **train_kwargs)\n",
    "    \n",
    "    def training_step(self, data, target):\n",
    "        output = self.forward(data)\n",
    "        loss   = torch.nn.functional.nll_loss(output, target)\n",
    "        return loss\n"
   ]
  },
  {
   "cell_type": "markdown",
   "metadata": {},
   "source": [
    "This group of arguments correspond respectively:\n",
    "* `model_args`: a dictionary with the arguments related to the model (e.g. number of layers, features, etc.). This will be passed to the model class on the node side.\n",
    "* `training_args`: a dictionary containing the arguments for the training routine (e.g. batch size, learning rate, epochs, etc.). This will be passed to the routine on the node side.\n",
    "\n",
    "**NOTE:** typos and/or lack of positional (required) arguments will raise error. 🤓"
   ]
  },
  {
   "cell_type": "code",
   "execution_count": 2,
   "metadata": {
    "pycharm": {
     "name": "#%%\n"
    }
   },
   "outputs": [],
   "source": [
    "model_args = {}\n",
    "\n",
    "training_args = {\n",
    "    'batch_size': 48, \n",
    "    'lr': 1e-3, \n",
    "    'epochs': 2, \n",
    "    'dry_run': False,  \n",
    "    'batch_maxnum': 100 # Fast pass for development : only use ( batch_maxnum * batch_size ) samples\n",
    "}"
   ]
  },
  {
   "cell_type": "markdown",
   "metadata": {},
   "source": [
    "Define an experiment\n",
    "- search nodes serving data for these `tags`, optionally filter on a list of node ID with `nodes`\n",
    "- run a round of local training on nodes with model defined in `model_path` + federation with `aggregator`\n",
    "- run for `round_limit` rounds, applying the `node_selection_strategy` between the rounds"
   ]
  },
  {
   "cell_type": "code",
   "execution_count": 3,
   "metadata": {
    "pycharm": {
     "name": "#%%\n"
    },
    "scrolled": true
   },
   "outputs": [
    {
     "name": "stderr",
     "output_type": "stream",
     "text": [
      "2022-03-16 13:32:40,331 fedbiomed INFO - Component environment:\n",
      "2022-03-16 13:32:40,332 fedbiomed INFO - type = ComponentType.RESEARCHER\n",
      "2022-03-16 13:32:40,547 fedbiomed INFO - Messaging researcher_96a37edc-2ba8-47d7-aa8e-33679104e4b2 successfully connected to the message broker, object = <fedbiomed.common.messaging.Messaging object at 0x7f1671bfc670>\n",
      "2022-03-16 13:32:40,604 fedbiomed INFO - Searching dataset with data tags: ['#MNIST', '#dataset'] for all nodes\n",
      "2022-03-16 13:32:40,606 fedbiomed INFO - log from: node_19ef0050-617d-4624-bbce-207469edf883 / DEBUG - Message received: {'researcher_id': 'researcher_96a37edc-2ba8-47d7-aa8e-33679104e4b2', 'tags': ['#MNIST', '#dataset'], 'command': 'search'}\n",
      "2022-03-16 13:32:50,643 fedbiomed INFO - Node selected for training -> node_19ef0050-617d-4624-bbce-207469edf883\n",
      "2022-03-16 13:32:50,685 fedbiomed DEBUG - Model file has been saved: /home/scansiz/Desktop/Inria/development/fedbiomed/var/experiments/Experiment_0093/my_model_1c431521-ae44-4dad-91f3-9420652540ec.py\n",
      "2022-03-16 13:32:50,740 fedbiomed DEBUG - upload (HTTP POST request) of file /home/scansiz/Desktop/Inria/development/fedbiomed/var/experiments/Experiment_0093/my_model_1c431521-ae44-4dad-91f3-9420652540ec.py successful, with status code 201\n",
      "2022-03-16 13:32:50,918 fedbiomed DEBUG - upload (HTTP POST request) of file /home/scansiz/Desktop/Inria/development/fedbiomed/var/experiments/Experiment_0093/aggregated_params_init_298fd41b-f601-4f51-a401-e0751ea4d139.pt successful, with status code 201\n"
     ]
    }
   ],
   "source": [
    "from fedbiomed.researcher.experiment import Experiment\n",
    "from fedbiomed.researcher.aggregators.fedavg import FedAverage\n",
    "\n",
    "tags =  ['#MNIST', '#dataset']\n",
    "rounds = 3\n",
    "\n",
    "exp = Experiment(tags=tags,\n",
    "                 model_args=model_args,\n",
    "                 model_class=MyTrainingPlan,\n",
    "                 training_args=training_args,\n",
    "                 round_limit=rounds,\n",
    "                 aggregator=FedAverage(),\n",
    "                 node_selection_strategy=None,\n",
    "                 tensorboard=True\n",
    "                )"
   ]
  },
  {
   "cell_type": "markdown",
   "metadata": {},
   "source": [
    "Start tensorboard to see loss value after every iteration during training. It is normal to see empty screen. After you run the experiment you will be able to see the changes on the dashboard. Notebook will refresh results in every 30 seconds. You can also click refresh button to see current training steps. "
   ]
  },
  {
   "cell_type": "code",
   "execution_count": 4,
   "metadata": {},
   "outputs": [],
   "source": [
    "from fedbiomed.researcher.environ import environ\n",
    "tensorboard_dir = environ['TENSORBOARD_RESULTS_DIR']"
   ]
  },
  {
   "cell_type": "code",
   "execution_count": 5,
   "metadata": {},
   "outputs": [],
   "source": [
    "%load_ext tensorboard"
   ]
  },
  {
   "cell_type": "code",
   "execution_count": 6,
   "metadata": {},
   "outputs": [
    {
     "data": {
      "text/html": [
       "\n",
       "      <iframe id=\"tensorboard-frame-658a687ac2987102\" width=\"100%\" height=\"800\" frameborder=\"0\">\n",
       "      </iframe>\n",
       "      <script>\n",
       "        (function() {\n",
       "          const frame = document.getElementById(\"tensorboard-frame-658a687ac2987102\");\n",
       "          const url = new URL(\"/\", window.location);\n",
       "          const port = 6006;\n",
       "          if (port) {\n",
       "            url.port = port;\n",
       "          }\n",
       "          frame.src = url;\n",
       "        })();\n",
       "      </script>\n",
       "    "
      ],
      "text/plain": [
       "<IPython.core.display.HTML object>"
      ]
     },
     "metadata": {},
     "output_type": "display_data"
    }
   ],
   "source": [
    "tensorboard --logdir \"$tensorboard_dir\""
   ]
  },
  {
   "cell_type": "code",
   "execution_count": 7,
   "metadata": {
    "pycharm": {
     "name": "#%%\n"
    },
    "scrolled": false
   },
   "outputs": [
    {
     "name": "stderr",
     "output_type": "stream",
     "text": [
      "2022-03-16 13:32:52,508 fedbiomed INFO - Sampled nodes in round 0 ['node_19ef0050-617d-4624-bbce-207469edf883']\n",
      "2022-03-16 13:32:52,512 fedbiomed INFO - Send message to node node_19ef0050-617d-4624-bbce-207469edf883 - {'researcher_id': 'researcher_96a37edc-2ba8-47d7-aa8e-33679104e4b2', 'job_id': '443ea241-f06a-4e65-9307-ae10a8859bb3', 'training_args': {'batch_size': 48, 'lr': 0.001, 'epochs': 2, 'dry_run': False, 'batch_maxnum': 100}, 'model_args': {}, 'command': 'train', 'model_url': 'http://localhost:8844/media/uploads/2022/03/16/my_model_1c431521-ae44-4dad-91f3-9420652540ec.py', 'params_url': 'http://localhost:8844/media/uploads/2022/03/16/aggregated_params_init_298fd41b-f601-4f51-a401-e0751ea4d139.pt', 'model_class': 'MyTrainingPlan', 'training_data': {'node_19ef0050-617d-4624-bbce-207469edf883': ['dataset_ba55374f-ddc3-4f5d-8bb6-deac79c459ee']}}\n",
      "2022-03-16 13:32:52,515 fedbiomed DEBUG - researcher_96a37edc-2ba8-47d7-aa8e-33679104e4b2\n",
      "2022-03-16 13:32:52,521 fedbiomed INFO - log from: node_19ef0050-617d-4624-bbce-207469edf883 / DEBUG - Message received: {'researcher_id': 'researcher_96a37edc-2ba8-47d7-aa8e-33679104e4b2', 'job_id': '443ea241-f06a-4e65-9307-ae10a8859bb3', 'training_args': {'batch_size': 48, 'lr': 0.001, 'epochs': 2, 'dry_run': False, 'batch_maxnum': 100}, 'model_args': {}, 'command': 'train', 'model_url': 'http://localhost:8844/media/uploads/2022/03/16/my_model_1c431521-ae44-4dad-91f3-9420652540ec.py', 'params_url': 'http://localhost:8844/media/uploads/2022/03/16/aggregated_params_init_298fd41b-f601-4f51-a401-e0751ea4d139.pt', 'model_class': 'MyTrainingPlan', 'training_data': {'node_19ef0050-617d-4624-bbce-207469edf883': ['dataset_ba55374f-ddc3-4f5d-8bb6-deac79c459ee']}}\n",
      "2022-03-16 13:32:52,535 fedbiomed INFO - log from: node_19ef0050-617d-4624-bbce-207469edf883 / DEBUG - [TASKS QUEUE] Item:{'researcher_id': 'researcher_96a37edc-2ba8-47d7-aa8e-33679104e4b2', 'job_id': '443ea241-f06a-4e65-9307-ae10a8859bb3', 'params_url': 'http://localhost:8844/media/uploads/2022/03/16/aggregated_params_init_298fd41b-f601-4f51-a401-e0751ea4d139.pt', 'training_args': {'batch_size': 48, 'lr': 0.001, 'epochs': 2, 'dry_run': False, 'batch_maxnum': 100}, 'training_data': {'node_19ef0050-617d-4624-bbce-207469edf883': ['dataset_ba55374f-ddc3-4f5d-8bb6-deac79c459ee']}, 'model_args': {}, 'model_url': 'http://localhost:8844/media/uploads/2022/03/16/my_model_1c431521-ae44-4dad-91f3-9420652540ec.py', 'model_class': 'MyTrainingPlan', 'command': 'train'}\n",
      "2022-03-16 13:32:52,545 fedbiomed INFO - log from: node_19ef0050-617d-4624-bbce-207469edf883 / DEBUG - upload (HTTP GET request) of file my_model_eaa48d996d7245a49a633eb8bdde8149.py successful, with status code 200\n",
      "2022-03-16 13:32:52,579 fedbiomed INFO - log from: node_19ef0050-617d-4624-bbce-207469edf883 / DEBUG - upload (HTTP GET request) of file my_model_da367d30-11c9-4d58-90b9-c0354b946896.pt successful, with status code 200\n",
      "2022-03-16 13:32:52,612 fedbiomed INFO - log from: node_19ef0050-617d-4624-bbce-207469edf883 / DEBUG - Dataset path has been set as../data\n",
      "2022-03-16 13:32:52,677 fedbiomed INFO - log from: node_19ef0050-617d-4624-bbce-207469edf883 / INFO - training with arguments {'history_monitor': <fedbiomed.node.history_monitor.HistoryMonitor object at 0x7f62e0253520>, 'node_args': {'gpu': False, 'gpu_num': None, 'gpu_only': False}, 'batch_size': 48, 'lr': 0.001, 'epochs': 2, 'dry_run': False, 'batch_maxnum': 100}\n",
      "2022-03-16 13:32:58,738 fedbiomed INFO - log from: node_19ef0050-617d-4624-bbce-207469edf883 / INFO - Testing: Batch 0 [12000/12000] | Metric[ACCURACY]: 0.103333\n",
      "2022-03-16 13:32:58,745 fedbiomed INFO - \u001b[1mTESTING\u001b[0m on NODE_ID:[node_19ef0050-617d-4624-bbce-207469edf883] Epoch: 0 [12000] Completed (0%)]\t Metric[Before Train `ACCURACY`] \u001b[1m0.103333\u001b[0m\n",
      "2022-03-16 13:32:58,746 fedbiomed INFO - log from: node_19ef0050-617d-4624-bbce-207469edf883 / DEBUG - Using device cpu for training (cuda_available=False, gpu=False, gpu_only=False, use_gpu=False, gpu_num=None)\n",
      "2022-03-16 13:32:58,831 fedbiomed INFO - \u001b[1mTRAINING\u001b[0m on NODE_ID:[node_19ef0050-617d-4624-bbce-207469edf883] Epoch: 1 [48] Completed (0%)]\t Metric[Loss] \u001b[1m2.310674\u001b[0m\n",
      "2022-03-16 13:32:59,320 fedbiomed INFO - \u001b[1mTRAINING\u001b[0m on NODE_ID:[node_19ef0050-617d-4624-bbce-207469edf883] Epoch: 1 [48] Completed (1%)]\t Metric[Loss] \u001b[1m1.225620\u001b[0m\n",
      "2022-03-16 13:32:59,809 fedbiomed INFO - \u001b[1mTRAINING\u001b[0m on NODE_ID:[node_19ef0050-617d-4624-bbce-207469edf883] Epoch: 1 [48] Completed (2%)]\t Metric[Loss] \u001b[1m0.878559\u001b[0m\n",
      "2022-03-16 13:33:00,309 fedbiomed INFO - \u001b[1mTRAINING\u001b[0m on NODE_ID:[node_19ef0050-617d-4624-bbce-207469edf883] Epoch: 1 [48] Completed (3%)]\t Metric[Loss] \u001b[1m0.776297\u001b[0m\n",
      "2022-03-16 13:33:01,016 fedbiomed INFO - \u001b[1mTRAINING\u001b[0m on NODE_ID:[node_19ef0050-617d-4624-bbce-207469edf883] Epoch: 1 [48] Completed (4%)]\t Metric[Loss] \u001b[1m0.442722\u001b[0m\n",
      "2022-03-16 13:33:01,499 fedbiomed INFO - \u001b[1mTRAINING\u001b[0m on NODE_ID:[node_19ef0050-617d-4624-bbce-207469edf883] Epoch: 1 [48] Completed (5%)]\t Metric[Loss] \u001b[1m0.580880\u001b[0m\n",
      "2022-03-16 13:33:02,012 fedbiomed INFO - \u001b[1mTRAINING\u001b[0m on NODE_ID:[node_19ef0050-617d-4624-bbce-207469edf883] Epoch: 1 [48] Completed (6%)]\t Metric[Loss] \u001b[1m0.204292\u001b[0m\n",
      "2022-03-16 13:33:02,513 fedbiomed INFO - \u001b[1mTRAINING\u001b[0m on NODE_ID:[node_19ef0050-617d-4624-bbce-207469edf883] Epoch: 1 [48] Completed (7%)]\t Metric[Loss] \u001b[1m0.363460\u001b[0m\n",
      "2022-03-16 13:33:03,372 fedbiomed INFO - \u001b[1mTRAINING\u001b[0m on NODE_ID:[node_19ef0050-617d-4624-bbce-207469edf883] Epoch: 1 [48] Completed (8%)]\t Metric[Loss] \u001b[1m0.345967\u001b[0m\n",
      "2022-03-16 13:33:04,199 fedbiomed INFO - \u001b[1mTRAINING\u001b[0m on NODE_ID:[node_19ef0050-617d-4624-bbce-207469edf883] Epoch: 1 [48] Completed (9%)]\t Metric[Loss] \u001b[1m0.285542\u001b[0m\n",
      "2022-03-16 13:33:04,700 fedbiomed INFO - log from: node_19ef0050-617d-4624-bbce-207469edf883 / DEBUG - Reached 100 batches for this epoch, ignore remaining data\n",
      "2022-03-16 13:33:04,774 fedbiomed INFO - \u001b[1mTRAINING\u001b[0m on NODE_ID:[node_19ef0050-617d-4624-bbce-207469edf883] Epoch: 2 [48] Completed (0%)]\t Metric[Loss] \u001b[1m0.270412\u001b[0m\n",
      "2022-03-16 13:33:05,514 fedbiomed INFO - \u001b[1mTRAINING\u001b[0m on NODE_ID:[node_19ef0050-617d-4624-bbce-207469edf883] Epoch: 2 [48] Completed (1%)]\t Metric[Loss] \u001b[1m0.295840\u001b[0m\n",
      "2022-03-16 13:33:06,275 fedbiomed INFO - \u001b[1mTRAINING\u001b[0m on NODE_ID:[node_19ef0050-617d-4624-bbce-207469edf883] Epoch: 2 [48] Completed (2%)]\t Metric[Loss] \u001b[1m0.301142\u001b[0m\n",
      "2022-03-16 13:33:06,795 fedbiomed INFO - \u001b[1mTRAINING\u001b[0m on NODE_ID:[node_19ef0050-617d-4624-bbce-207469edf883] Epoch: 2 [48] Completed (3%)]\t Metric[Loss] \u001b[1m0.381111\u001b[0m\n",
      "2022-03-16 13:33:07,277 fedbiomed INFO - \u001b[1mTRAINING\u001b[0m on NODE_ID:[node_19ef0050-617d-4624-bbce-207469edf883] Epoch: 2 [48] Completed (4%)]\t Metric[Loss] \u001b[1m0.435415\u001b[0m\n",
      "2022-03-16 13:33:08,126 fedbiomed INFO - \u001b[1mTRAINING\u001b[0m on NODE_ID:[node_19ef0050-617d-4624-bbce-207469edf883] Epoch: 2 [48] Completed (5%)]\t Metric[Loss] \u001b[1m0.223311\u001b[0m\n",
      "2022-03-16 13:33:08,626 fedbiomed INFO - \u001b[1mTRAINING\u001b[0m on NODE_ID:[node_19ef0050-617d-4624-bbce-207469edf883] Epoch: 2 [48] Completed (6%)]\t Metric[Loss] \u001b[1m0.239873\u001b[0m\n",
      "2022-03-16 13:33:09,117 fedbiomed INFO - \u001b[1mTRAINING\u001b[0m on NODE_ID:[node_19ef0050-617d-4624-bbce-207469edf883] Epoch: 2 [48] Completed (7%)]\t Metric[Loss] \u001b[1m0.458490\u001b[0m\n",
      "2022-03-16 13:33:09,605 fedbiomed INFO - \u001b[1mTRAINING\u001b[0m on NODE_ID:[node_19ef0050-617d-4624-bbce-207469edf883] Epoch: 2 [48] Completed (8%)]\t Metric[Loss] \u001b[1m0.158971\u001b[0m\n",
      "2022-03-16 13:33:10,093 fedbiomed INFO - \u001b[1mTRAINING\u001b[0m on NODE_ID:[node_19ef0050-617d-4624-bbce-207469edf883] Epoch: 2 [48] Completed (9%)]\t Metric[Loss] \u001b[1m0.238059\u001b[0m\n",
      "2022-03-16 13:33:10,599 fedbiomed INFO - log from: node_19ef0050-617d-4624-bbce-207469edf883 / DEBUG - Reached 100 batches for this epoch, ignore remaining data\n",
      "2022-03-16 13:33:10,600 fedbiomed INFO - log from: node_19ef0050-617d-4624-bbce-207469edf883 / DEBUG - running model.postprocess() method\n",
      "2022-03-16 13:33:10,601 fedbiomed INFO - log from: node_19ef0050-617d-4624-bbce-207469edf883 / DEBUG - model.postprocess() method not provided\n",
      "2022-03-16 13:33:10,774 fedbiomed INFO - log from: node_19ef0050-617d-4624-bbce-207469edf883 / DEBUG - upload (HTTP POST request) of file /home/scansiz/Desktop/Inria/development/fedbiomed/var/tmp/node_params_65f5510a-1a85-440e-9843-5f5f8cfa1f9e.pt successful, with status code 201\n"
     ]
    },
    {
     "name": "stderr",
     "output_type": "stream",
     "text": [
      "2022-03-16 13:33:10,778 fedbiomed INFO - log from: node_19ef0050-617d-4624-bbce-207469edf883 / INFO - results uploaded successfully \n",
      "2022-03-16 13:33:17,552 fedbiomed INFO - Downloading model params after training on node_19ef0050-617d-4624-bbce-207469edf883 - from http://localhost:8844/media/uploads/2022/03/16/node_params_65f5510a-1a85-440e-9843-5f5f8cfa1f9e.pt\n",
      "2022-03-16 13:33:17,600 fedbiomed DEBUG - upload (HTTP GET request) of file node_params_e5bcdf2f-c9c6-41d4-a382-cb054dc20c70.pt successful, with status code 200\n",
      "2022-03-16 13:33:17,618 fedbiomed INFO - Nodes that successfully reply in round 0 ['node_19ef0050-617d-4624-bbce-207469edf883']\n",
      "2022-03-16 13:33:17,829 fedbiomed DEBUG - upload (HTTP POST request) of file /home/scansiz/Desktop/Inria/development/fedbiomed/var/experiments/Experiment_0093/aggregated_params_edb9d8a0-6330-497f-a0bd-19141b3c73d7.pt successful, with status code 201\n",
      "2022-03-16 13:33:17,832 fedbiomed INFO - Saved aggregated params for round 0 in /home/scansiz/Desktop/Inria/development/fedbiomed/var/experiments/Experiment_0093/aggregated_params_edb9d8a0-6330-497f-a0bd-19141b3c73d7.pt\n",
      "2022-03-16 13:33:17,833 fedbiomed INFO - Sampled nodes in round 1 ['node_19ef0050-617d-4624-bbce-207469edf883']\n",
      "2022-03-16 13:33:17,835 fedbiomed INFO - Send message to node node_19ef0050-617d-4624-bbce-207469edf883 - {'researcher_id': 'researcher_96a37edc-2ba8-47d7-aa8e-33679104e4b2', 'job_id': '443ea241-f06a-4e65-9307-ae10a8859bb3', 'training_args': {'batch_size': 48, 'lr': 0.001, 'epochs': 2, 'dry_run': False, 'batch_maxnum': 100}, 'model_args': {}, 'command': 'train', 'model_url': 'http://localhost:8844/media/uploads/2022/03/16/my_model_1c431521-ae44-4dad-91f3-9420652540ec.py', 'params_url': 'http://localhost:8844/media/uploads/2022/03/16/aggregated_params_edb9d8a0-6330-497f-a0bd-19141b3c73d7.pt', 'model_class': 'MyTrainingPlan', 'training_data': {'node_19ef0050-617d-4624-bbce-207469edf883': ['dataset_ba55374f-ddc3-4f5d-8bb6-deac79c459ee']}}\n",
      "2022-03-16 13:33:17,836 fedbiomed DEBUG - researcher_96a37edc-2ba8-47d7-aa8e-33679104e4b2\n",
      "2022-03-16 13:33:17,842 fedbiomed INFO - log from: node_19ef0050-617d-4624-bbce-207469edf883 / DEBUG - Message received: {'researcher_id': 'researcher_96a37edc-2ba8-47d7-aa8e-33679104e4b2', 'job_id': '443ea241-f06a-4e65-9307-ae10a8859bb3', 'training_args': {'batch_size': 48, 'lr': 0.001, 'epochs': 2, 'dry_run': False, 'batch_maxnum': 100}, 'model_args': {}, 'command': 'train', 'model_url': 'http://localhost:8844/media/uploads/2022/03/16/my_model_1c431521-ae44-4dad-91f3-9420652540ec.py', 'params_url': 'http://localhost:8844/media/uploads/2022/03/16/aggregated_params_edb9d8a0-6330-497f-a0bd-19141b3c73d7.pt', 'model_class': 'MyTrainingPlan', 'training_data': {'node_19ef0050-617d-4624-bbce-207469edf883': ['dataset_ba55374f-ddc3-4f5d-8bb6-deac79c459ee']}}\n",
      "2022-03-16 13:33:17,845 fedbiomed INFO - log from: node_19ef0050-617d-4624-bbce-207469edf883 / DEBUG - [TASKS QUEUE] Item:{'researcher_id': 'researcher_96a37edc-2ba8-47d7-aa8e-33679104e4b2', 'job_id': '443ea241-f06a-4e65-9307-ae10a8859bb3', 'params_url': 'http://localhost:8844/media/uploads/2022/03/16/aggregated_params_edb9d8a0-6330-497f-a0bd-19141b3c73d7.pt', 'training_args': {'batch_size': 48, 'lr': 0.001, 'epochs': 2, 'dry_run': False, 'batch_maxnum': 100}, 'training_data': {'node_19ef0050-617d-4624-bbce-207469edf883': ['dataset_ba55374f-ddc3-4f5d-8bb6-deac79c459ee']}, 'model_args': {}, 'model_url': 'http://localhost:8844/media/uploads/2022/03/16/my_model_1c431521-ae44-4dad-91f3-9420652540ec.py', 'model_class': 'MyTrainingPlan', 'command': 'train'}\n",
      "2022-03-16 13:33:17,864 fedbiomed INFO - log from: node_19ef0050-617d-4624-bbce-207469edf883 / DEBUG - upload (HTTP GET request) of file my_model_0d73255e01e94324b0c02e45196b6152.py successful, with status code 200\n",
      "2022-03-16 13:33:17,883 fedbiomed INFO - log from: node_19ef0050-617d-4624-bbce-207469edf883 / DEBUG - upload (HTTP GET request) of file my_model_54dd1248-13f0-4af6-86a1-ffc3997c4ddc.pt successful, with status code 200\n",
      "2022-03-16 13:33:17,916 fedbiomed INFO - log from: node_19ef0050-617d-4624-bbce-207469edf883 / DEBUG - Dataset path has been set as../data\n",
      "2022-03-16 13:33:17,964 fedbiomed INFO - log from: node_19ef0050-617d-4624-bbce-207469edf883 / INFO - training with arguments {'history_monitor': <fedbiomed.node.history_monitor.HistoryMonitor object at 0x7f6379b6c130>, 'node_args': {'gpu': False, 'gpu_num': None, 'gpu_only': False}, 'batch_size': 48, 'lr': 0.001, 'epochs': 2, 'dry_run': False, 'batch_maxnum': 100}\n",
      "2022-03-16 13:33:23,060 fedbiomed INFO - log from: node_19ef0050-617d-4624-bbce-207469edf883 / INFO - Testing: Batch 0 [12000/12000] | Metric[ACCURACY]: 0.934750\n",
      "2022-03-16 13:33:23,062 fedbiomed INFO - \u001b[1mTESTING\u001b[0m on NODE_ID:[node_19ef0050-617d-4624-bbce-207469edf883] Epoch: 0 [12000] Completed (0%)]\t Metric[Before Train `ACCURACY`] \u001b[1m0.934750\u001b[0m\n",
      "2022-03-16 13:33:23,065 fedbiomed INFO - log from: node_19ef0050-617d-4624-bbce-207469edf883 / DEBUG - Using device cpu for training (cuda_available=False, gpu=False, gpu_only=False, use_gpu=False, gpu_num=None)\n",
      "2022-03-16 13:33:23,151 fedbiomed INFO - \u001b[1mTRAINING\u001b[0m on NODE_ID:[node_19ef0050-617d-4624-bbce-207469edf883] Epoch: 1 [48] Completed (0%)]\t Metric[Loss] \u001b[1m0.220809\u001b[0m\n",
      "2022-03-16 13:33:23,635 fedbiomed INFO - \u001b[1mTRAINING\u001b[0m on NODE_ID:[node_19ef0050-617d-4624-bbce-207469edf883] Epoch: 1 [48] Completed (1%)]\t Metric[Loss] \u001b[1m0.099984\u001b[0m\n",
      "2022-03-16 13:33:24,132 fedbiomed INFO - \u001b[1mTRAINING\u001b[0m on NODE_ID:[node_19ef0050-617d-4624-bbce-207469edf883] Epoch: 1 [48] Completed (2%)]\t Metric[Loss] \u001b[1m0.107724\u001b[0m\n",
      "2022-03-16 13:33:24,801 fedbiomed INFO - \u001b[1mTRAINING\u001b[0m on NODE_ID:[node_19ef0050-617d-4624-bbce-207469edf883] Epoch: 1 [48] Completed (3%)]\t Metric[Loss] \u001b[1m0.099907\u001b[0m\n",
      "2022-03-16 13:33:25,360 fedbiomed INFO - \u001b[1mTRAINING\u001b[0m on NODE_ID:[node_19ef0050-617d-4624-bbce-207469edf883] Epoch: 1 [48] Completed (4%)]\t Metric[Loss] \u001b[1m0.169210\u001b[0m\n",
      "2022-03-16 13:33:26,034 fedbiomed INFO - \u001b[1mTRAINING\u001b[0m on NODE_ID:[node_19ef0050-617d-4624-bbce-207469edf883] Epoch: 1 [48] Completed (5%)]\t Metric[Loss] \u001b[1m0.359120\u001b[0m\n",
      "2022-03-16 13:33:26,543 fedbiomed INFO - \u001b[1mTRAINING\u001b[0m on NODE_ID:[node_19ef0050-617d-4624-bbce-207469edf883] Epoch: 1 [48] Completed (6%)]\t Metric[Loss] \u001b[1m0.351944\u001b[0m\n",
      "2022-03-16 13:33:27,034 fedbiomed INFO - \u001b[1mTRAINING\u001b[0m on NODE_ID:[node_19ef0050-617d-4624-bbce-207469edf883] Epoch: 1 [48] Completed (7%)]\t Metric[Loss] \u001b[1m0.115752\u001b[0m\n",
      "2022-03-16 13:33:27,514 fedbiomed INFO - \u001b[1mTRAINING\u001b[0m on NODE_ID:[node_19ef0050-617d-4624-bbce-207469edf883] Epoch: 1 [48] Completed (8%)]\t Metric[Loss] \u001b[1m0.233590\u001b[0m\n",
      "2022-03-16 13:33:28,024 fedbiomed INFO - \u001b[1mTRAINING\u001b[0m on NODE_ID:[node_19ef0050-617d-4624-bbce-207469edf883] Epoch: 1 [48] Completed (9%)]\t Metric[Loss] \u001b[1m0.083305\u001b[0m\n",
      "2022-03-16 13:33:28,638 fedbiomed INFO - log from: node_19ef0050-617d-4624-bbce-207469edf883 / DEBUG - Reached 100 batches for this epoch, ignore remaining data\n",
      "2022-03-16 13:33:28,758 fedbiomed INFO - \u001b[1mTRAINING\u001b[0m on NODE_ID:[node_19ef0050-617d-4624-bbce-207469edf883] Epoch: 2 [48] Completed (0%)]\t Metric[Loss] \u001b[1m0.087675\u001b[0m\n",
      "2022-03-16 13:33:29,392 fedbiomed INFO - \u001b[1mTRAINING\u001b[0m on NODE_ID:[node_19ef0050-617d-4624-bbce-207469edf883] Epoch: 2 [48] Completed (1%)]\t Metric[Loss] \u001b[1m0.123251\u001b[0m\n",
      "2022-03-16 13:33:29,988 fedbiomed INFO - \u001b[1mTRAINING\u001b[0m on NODE_ID:[node_19ef0050-617d-4624-bbce-207469edf883] Epoch: 2 [48] Completed (2%)]\t Metric[Loss] \u001b[1m0.278231\u001b[0m\n",
      "2022-03-16 13:33:30,562 fedbiomed INFO - \u001b[1mTRAINING\u001b[0m on NODE_ID:[node_19ef0050-617d-4624-bbce-207469edf883] Epoch: 2 [48] Completed (3%)]\t Metric[Loss] \u001b[1m0.156894\u001b[0m\n",
      "2022-03-16 13:33:31,097 fedbiomed INFO - \u001b[1mTRAINING\u001b[0m on NODE_ID:[node_19ef0050-617d-4624-bbce-207469edf883] Epoch: 2 [48] Completed (4%)]\t Metric[Loss] \u001b[1m0.098363\u001b[0m\n",
      "2022-03-16 13:33:31,812 fedbiomed INFO - \u001b[1mTRAINING\u001b[0m on NODE_ID:[node_19ef0050-617d-4624-bbce-207469edf883] Epoch: 2 [48] Completed (5%)]\t Metric[Loss] \u001b[1m0.103435\u001b[0m\n",
      "2022-03-16 13:33:32,527 fedbiomed INFO - \u001b[1mTRAINING\u001b[0m on NODE_ID:[node_19ef0050-617d-4624-bbce-207469edf883] Epoch: 2 [48] Completed (6%)]\t Metric[Loss] \u001b[1m0.111285\u001b[0m\n"
     ]
    },
    {
     "name": "stderr",
     "output_type": "stream",
     "text": [
      "2022-03-16 13:33:33,466 fedbiomed INFO - \u001b[1mTRAINING\u001b[0m on NODE_ID:[node_19ef0050-617d-4624-bbce-207469edf883] Epoch: 2 [48] Completed (7%)]\t Metric[Loss] \u001b[1m0.153695\u001b[0m\n",
      "2022-03-16 13:33:34,073 fedbiomed INFO - \u001b[1mTRAINING\u001b[0m on NODE_ID:[node_19ef0050-617d-4624-bbce-207469edf883] Epoch: 2 [48] Completed (8%)]\t Metric[Loss] \u001b[1m0.340994\u001b[0m\n",
      "2022-03-16 13:33:34,554 fedbiomed INFO - \u001b[1mTRAINING\u001b[0m on NODE_ID:[node_19ef0050-617d-4624-bbce-207469edf883] Epoch: 2 [48] Completed (9%)]\t Metric[Loss] \u001b[1m0.224952\u001b[0m\n",
      "2022-03-16 13:33:35,117 fedbiomed INFO - log from: node_19ef0050-617d-4624-bbce-207469edf883 / DEBUG - Reached 100 batches for this epoch, ignore remaining data\n",
      "2022-03-16 13:33:35,119 fedbiomed INFO - log from: node_19ef0050-617d-4624-bbce-207469edf883 / DEBUG - running model.postprocess() method\n",
      "2022-03-16 13:33:35,120 fedbiomed INFO - log from: node_19ef0050-617d-4624-bbce-207469edf883 / DEBUG - model.postprocess() method not provided\n",
      "2022-03-16 13:33:35,300 fedbiomed INFO - log from: node_19ef0050-617d-4624-bbce-207469edf883 / DEBUG - upload (HTTP POST request) of file /home/scansiz/Desktop/Inria/development/fedbiomed/var/tmp/node_params_7fffc02b-91e5-4d22-ac6b-728879f7b483.pt successful, with status code 201\n",
      "2022-03-16 13:33:35,303 fedbiomed INFO - log from: node_19ef0050-617d-4624-bbce-207469edf883 / INFO - results uploaded successfully \n",
      "2022-03-16 13:33:42,863 fedbiomed INFO - Downloading model params after training on node_19ef0050-617d-4624-bbce-207469edf883 - from http://localhost:8844/media/uploads/2022/03/16/node_params_7fffc02b-91e5-4d22-ac6b-728879f7b483.pt\n",
      "2022-03-16 13:33:42,909 fedbiomed DEBUG - upload (HTTP GET request) of file node_params_9d61ca25-4267-4e46-8724-54f15adc7ddb.pt successful, with status code 200\n",
      "2022-03-16 13:33:42,925 fedbiomed INFO - Nodes that successfully reply in round 1 ['node_19ef0050-617d-4624-bbce-207469edf883']\n",
      "2022-03-16 13:33:43,112 fedbiomed DEBUG - upload (HTTP POST request) of file /home/scansiz/Desktop/Inria/development/fedbiomed/var/experiments/Experiment_0093/aggregated_params_8779d69f-34ae-45ed-9c2f-8f63dc6a8c0f.pt successful, with status code 201\n",
      "2022-03-16 13:33:43,113 fedbiomed INFO - Saved aggregated params for round 1 in /home/scansiz/Desktop/Inria/development/fedbiomed/var/experiments/Experiment_0093/aggregated_params_8779d69f-34ae-45ed-9c2f-8f63dc6a8c0f.pt\n",
      "2022-03-16 13:33:43,114 fedbiomed INFO - Sampled nodes in round 2 ['node_19ef0050-617d-4624-bbce-207469edf883']\n",
      "2022-03-16 13:33:43,115 fedbiomed INFO - Send message to node node_19ef0050-617d-4624-bbce-207469edf883 - {'researcher_id': 'researcher_96a37edc-2ba8-47d7-aa8e-33679104e4b2', 'job_id': '443ea241-f06a-4e65-9307-ae10a8859bb3', 'training_args': {'batch_size': 48, 'lr': 0.001, 'epochs': 2, 'dry_run': False, 'batch_maxnum': 100}, 'model_args': {}, 'command': 'train', 'model_url': 'http://localhost:8844/media/uploads/2022/03/16/my_model_1c431521-ae44-4dad-91f3-9420652540ec.py', 'params_url': 'http://localhost:8844/media/uploads/2022/03/16/aggregated_params_8779d69f-34ae-45ed-9c2f-8f63dc6a8c0f.pt', 'model_class': 'MyTrainingPlan', 'training_data': {'node_19ef0050-617d-4624-bbce-207469edf883': ['dataset_ba55374f-ddc3-4f5d-8bb6-deac79c459ee']}}\n",
      "2022-03-16 13:33:43,115 fedbiomed DEBUG - researcher_96a37edc-2ba8-47d7-aa8e-33679104e4b2\n",
      "2022-03-16 13:33:43,120 fedbiomed INFO - log from: node_19ef0050-617d-4624-bbce-207469edf883 / DEBUG - Message received: {'researcher_id': 'researcher_96a37edc-2ba8-47d7-aa8e-33679104e4b2', 'job_id': '443ea241-f06a-4e65-9307-ae10a8859bb3', 'training_args': {'batch_size': 48, 'lr': 0.001, 'epochs': 2, 'dry_run': False, 'batch_maxnum': 100}, 'model_args': {}, 'command': 'train', 'model_url': 'http://localhost:8844/media/uploads/2022/03/16/my_model_1c431521-ae44-4dad-91f3-9420652540ec.py', 'params_url': 'http://localhost:8844/media/uploads/2022/03/16/aggregated_params_8779d69f-34ae-45ed-9c2f-8f63dc6a8c0f.pt', 'model_class': 'MyTrainingPlan', 'training_data': {'node_19ef0050-617d-4624-bbce-207469edf883': ['dataset_ba55374f-ddc3-4f5d-8bb6-deac79c459ee']}}\n",
      "2022-03-16 13:33:43,121 fedbiomed INFO - log from: node_19ef0050-617d-4624-bbce-207469edf883 / DEBUG - [TASKS QUEUE] Item:{'researcher_id': 'researcher_96a37edc-2ba8-47d7-aa8e-33679104e4b2', 'job_id': '443ea241-f06a-4e65-9307-ae10a8859bb3', 'params_url': 'http://localhost:8844/media/uploads/2022/03/16/aggregated_params_8779d69f-34ae-45ed-9c2f-8f63dc6a8c0f.pt', 'training_args': {'batch_size': 48, 'lr': 0.001, 'epochs': 2, 'dry_run': False, 'batch_maxnum': 100}, 'training_data': {'node_19ef0050-617d-4624-bbce-207469edf883': ['dataset_ba55374f-ddc3-4f5d-8bb6-deac79c459ee']}, 'model_args': {}, 'model_url': 'http://localhost:8844/media/uploads/2022/03/16/my_model_1c431521-ae44-4dad-91f3-9420652540ec.py', 'model_class': 'MyTrainingPlan', 'command': 'train'}\n",
      "2022-03-16 13:33:43,133 fedbiomed INFO - log from: node_19ef0050-617d-4624-bbce-207469edf883 / DEBUG - upload (HTTP GET request) of file my_model_d2638f1ab88f465eabbdfa95756cab11.py successful, with status code 200\n",
      "2022-03-16 13:33:43,148 fedbiomed INFO - log from: node_19ef0050-617d-4624-bbce-207469edf883 / DEBUG - upload (HTTP GET request) of file my_model_de4e0746-23be-4c10-b0c4-e366b5f70cf2.pt successful, with status code 200\n",
      "2022-03-16 13:33:43,175 fedbiomed INFO - log from: node_19ef0050-617d-4624-bbce-207469edf883 / DEBUG - Dataset path has been set as../data\n",
      "2022-03-16 13:33:43,231 fedbiomed INFO - log from: node_19ef0050-617d-4624-bbce-207469edf883 / INFO - training with arguments {'history_monitor': <fedbiomed.node.history_monitor.HistoryMonitor object at 0x7f62e02e0310>, 'node_args': {'gpu': False, 'gpu_num': None, 'gpu_only': False}, 'batch_size': 48, 'lr': 0.001, 'epochs': 2, 'dry_run': False, 'batch_maxnum': 100}\n",
      "2022-03-16 13:33:48,318 fedbiomed INFO - log from: node_19ef0050-617d-4624-bbce-207469edf883 / INFO - Testing: Batch 0 [12000/12000] | Metric[ACCURACY]: 0.958333\n",
      "2022-03-16 13:33:48,320 fedbiomed INFO - \u001b[1mTESTING\u001b[0m on NODE_ID:[node_19ef0050-617d-4624-bbce-207469edf883] Epoch: 0 [12000] Completed (0%)]\t Metric[Before Train `ACCURACY`] \u001b[1m0.958333\u001b[0m\n",
      "2022-03-16 13:33:48,325 fedbiomed INFO - log from: node_19ef0050-617d-4624-bbce-207469edf883 / DEBUG - Using device cpu for training (cuda_available=False, gpu=False, gpu_only=False, use_gpu=False, gpu_num=None)\n",
      "2022-03-16 13:33:48,422 fedbiomed INFO - \u001b[1mTRAINING\u001b[0m on NODE_ID:[node_19ef0050-617d-4624-bbce-207469edf883] Epoch: 1 [48] Completed (0%)]\t Metric[Loss] \u001b[1m0.417856\u001b[0m\n",
      "2022-03-16 13:33:48,954 fedbiomed INFO - \u001b[1mTRAINING\u001b[0m on NODE_ID:[node_19ef0050-617d-4624-bbce-207469edf883] Epoch: 1 [48] Completed (1%)]\t Metric[Loss] \u001b[1m0.274487\u001b[0m\n",
      "2022-03-16 13:33:49,448 fedbiomed INFO - \u001b[1mTRAINING\u001b[0m on NODE_ID:[node_19ef0050-617d-4624-bbce-207469edf883] Epoch: 1 [48] Completed (2%)]\t Metric[Loss] \u001b[1m0.061323\u001b[0m\n",
      "2022-03-16 13:33:49,967 fedbiomed INFO - \u001b[1mTRAINING\u001b[0m on NODE_ID:[node_19ef0050-617d-4624-bbce-207469edf883] Epoch: 1 [48] Completed (3%)]\t Metric[Loss] \u001b[1m0.189630\u001b[0m\n",
      "2022-03-16 13:33:50,664 fedbiomed INFO - \u001b[1mTRAINING\u001b[0m on NODE_ID:[node_19ef0050-617d-4624-bbce-207469edf883] Epoch: 1 [48] Completed (4%)]\t Metric[Loss] \u001b[1m0.173886\u001b[0m\n",
      "2022-03-16 13:33:51,248 fedbiomed INFO - \u001b[1mTRAINING\u001b[0m on NODE_ID:[node_19ef0050-617d-4624-bbce-207469edf883] Epoch: 1 [48] Completed (5%)]\t Metric[Loss] \u001b[1m0.124982\u001b[0m\n",
      "2022-03-16 13:33:51,747 fedbiomed INFO - \u001b[1mTRAINING\u001b[0m on NODE_ID:[node_19ef0050-617d-4624-bbce-207469edf883] Epoch: 1 [48] Completed (6%)]\t Metric[Loss] \u001b[1m0.153990\u001b[0m\n",
      "2022-03-16 13:33:52,282 fedbiomed INFO - \u001b[1mTRAINING\u001b[0m on NODE_ID:[node_19ef0050-617d-4624-bbce-207469edf883] Epoch: 1 [48] Completed (7%)]\t Metric[Loss] \u001b[1m0.028506\u001b[0m\n",
      "2022-03-16 13:33:52,968 fedbiomed INFO - \u001b[1mTRAINING\u001b[0m on NODE_ID:[node_19ef0050-617d-4624-bbce-207469edf883] Epoch: 1 [48] Completed (8%)]\t Metric[Loss] \u001b[1m0.326450\u001b[0m\n",
      "2022-03-16 13:33:53,638 fedbiomed INFO - \u001b[1mTRAINING\u001b[0m on NODE_ID:[node_19ef0050-617d-4624-bbce-207469edf883] Epoch: 1 [48] Completed (9%)]\t Metric[Loss] \u001b[1m0.121716\u001b[0m\n",
      "2022-03-16 13:33:54,338 fedbiomed INFO - log from: node_19ef0050-617d-4624-bbce-207469edf883 / DEBUG - Reached 100 batches for this epoch, ignore remaining data\n"
     ]
    },
    {
     "name": "stderr",
     "output_type": "stream",
     "text": [
      "2022-03-16 13:33:54,427 fedbiomed INFO - \u001b[1mTRAINING\u001b[0m on NODE_ID:[node_19ef0050-617d-4624-bbce-207469edf883] Epoch: 2 [48] Completed (0%)]\t Metric[Loss] \u001b[1m0.147176\u001b[0m\n",
      "2022-03-16 13:33:54,956 fedbiomed INFO - \u001b[1mTRAINING\u001b[0m on NODE_ID:[node_19ef0050-617d-4624-bbce-207469edf883] Epoch: 2 [48] Completed (1%)]\t Metric[Loss] \u001b[1m0.091837\u001b[0m\n",
      "2022-03-16 13:33:55,440 fedbiomed INFO - \u001b[1mTRAINING\u001b[0m on NODE_ID:[node_19ef0050-617d-4624-bbce-207469edf883] Epoch: 2 [48] Completed (2%)]\t Metric[Loss] \u001b[1m0.114807\u001b[0m\n",
      "2022-03-16 13:33:55,927 fedbiomed INFO - \u001b[1mTRAINING\u001b[0m on NODE_ID:[node_19ef0050-617d-4624-bbce-207469edf883] Epoch: 2 [48] Completed (3%)]\t Metric[Loss] \u001b[1m0.227528\u001b[0m\n",
      "2022-03-16 13:33:56,408 fedbiomed INFO - \u001b[1mTRAINING\u001b[0m on NODE_ID:[node_19ef0050-617d-4624-bbce-207469edf883] Epoch: 2 [48] Completed (4%)]\t Metric[Loss] \u001b[1m0.085194\u001b[0m\n",
      "2022-03-16 13:33:56,881 fedbiomed INFO - \u001b[1mTRAINING\u001b[0m on NODE_ID:[node_19ef0050-617d-4624-bbce-207469edf883] Epoch: 2 [48] Completed (5%)]\t Metric[Loss] \u001b[1m0.113611\u001b[0m\n",
      "2022-03-16 13:33:57,364 fedbiomed INFO - \u001b[1mTRAINING\u001b[0m on NODE_ID:[node_19ef0050-617d-4624-bbce-207469edf883] Epoch: 2 [48] Completed (6%)]\t Metric[Loss] \u001b[1m0.225329\u001b[0m\n",
      "2022-03-16 13:33:57,835 fedbiomed INFO - \u001b[1mTRAINING\u001b[0m on NODE_ID:[node_19ef0050-617d-4624-bbce-207469edf883] Epoch: 2 [48] Completed (7%)]\t Metric[Loss] \u001b[1m0.051640\u001b[0m\n",
      "2022-03-16 13:33:58,313 fedbiomed INFO - \u001b[1mTRAINING\u001b[0m on NODE_ID:[node_19ef0050-617d-4624-bbce-207469edf883] Epoch: 2 [48] Completed (8%)]\t Metric[Loss] \u001b[1m0.042240\u001b[0m\n",
      "2022-03-16 13:33:58,807 fedbiomed INFO - \u001b[1mTRAINING\u001b[0m on NODE_ID:[node_19ef0050-617d-4624-bbce-207469edf883] Epoch: 2 [48] Completed (9%)]\t Metric[Loss] \u001b[1m0.032391\u001b[0m\n",
      "2022-03-16 13:33:59,288 fedbiomed INFO - log from: node_19ef0050-617d-4624-bbce-207469edf883 / DEBUG - Reached 100 batches for this epoch, ignore remaining data\n",
      "2022-03-16 13:33:59,289 fedbiomed INFO - log from: node_19ef0050-617d-4624-bbce-207469edf883 / DEBUG - running model.postprocess() method\n",
      "2022-03-16 13:33:59,290 fedbiomed INFO - log from: node_19ef0050-617d-4624-bbce-207469edf883 / DEBUG - model.postprocess() method not provided\n",
      "2022-03-16 13:33:59,478 fedbiomed INFO - log from: node_19ef0050-617d-4624-bbce-207469edf883 / DEBUG - upload (HTTP POST request) of file /home/scansiz/Desktop/Inria/development/fedbiomed/var/tmp/node_params_8e742703-3025-4091-b62a-8bdf28828762.pt successful, with status code 201\n",
      "2022-03-16 13:33:59,479 fedbiomed INFO - log from: node_19ef0050-617d-4624-bbce-207469edf883 / INFO - results uploaded successfully \n",
      "2022-03-16 13:34:08,145 fedbiomed INFO - Downloading model params after training on node_19ef0050-617d-4624-bbce-207469edf883 - from http://localhost:8844/media/uploads/2022/03/16/node_params_8e742703-3025-4091-b62a-8bdf28828762.pt\n",
      "2022-03-16 13:34:08,198 fedbiomed DEBUG - upload (HTTP GET request) of file node_params_d18ace07-af54-4670-b412-44aa2af17b68.pt successful, with status code 200\n",
      "2022-03-16 13:34:08,209 fedbiomed INFO - Nodes that successfully reply in round 2 ['node_19ef0050-617d-4624-bbce-207469edf883']\n",
      "2022-03-16 13:34:08,383 fedbiomed DEBUG - upload (HTTP POST request) of file /home/scansiz/Desktop/Inria/development/fedbiomed/var/experiments/Experiment_0093/aggregated_params_bf55f64e-10a0-40a6-a4b4-c963172f49c0.pt successful, with status code 201\n",
      "2022-03-16 13:34:08,384 fedbiomed INFO - Saved aggregated params for round 2 in /home/scansiz/Desktop/Inria/development/fedbiomed/var/experiments/Experiment_0093/aggregated_params_bf55f64e-10a0-40a6-a4b4-c963172f49c0.pt\n"
     ]
    },
    {
     "data": {
      "text/plain": [
       "3"
      ]
     },
     "execution_count": 7,
     "metadata": {},
     "output_type": "execute_result"
    }
   ],
   "source": [
    "exp.run()"
   ]
  },
  {
   "cell_type": "markdown",
   "metadata": {},
   "source": [
    "To display current values please click refresh button on the TensorBoard screen"
   ]
  },
  {
   "cell_type": "markdown",
   "metadata": {},
   "source": [
    "Local training results for each round and each node are available via `exp.training_replies()` (index 0 to (`rounds` - 1) ).\n",
    "\n",
    "For example you can view the training results for the last round below.\n",
    "\n",
    "Different timings (in seconds) are reported for each dataset of a node participating in a round :\n",
    "- `rtime_training` real time (clock time) spent in the training function on the node\n",
    "- `ptime_training` process time (user and system CPU) spent in the training function on the node\n",
    "- `rtime_total` real time (clock time) spent in the researcher between sending the request and handling the response, at the `Job()` layer"
   ]
  },
  {
   "cell_type": "code",
   "execution_count": null,
   "metadata": {
    "pycharm": {
     "name": "#%%\n"
    },
    "scrolled": true
   },
   "outputs": [],
   "source": [
    "print(\"\\nList the training rounds : \", exp.training_replies().keys())\n",
    "\n",
    "print(\"\\nList the nodes for the last training round and their timings : \")\n",
    "round_data = exp.training_replies()[rounds - 1].data()\n",
    "for c in range(len(round_data)):\n",
    "    print(\"\\t- {id} :\\\n",
    "    \\n\\t\\trtime_training={rtraining:.2f} seconds\\\n",
    "    \\n\\t\\tptime_training={ptraining:.2f} seconds\\\n",
    "    \\n\\t\\trtime_total={rtotal:.2f} seconds\".format(id = round_data[c]['node_id'],\n",
    "        rtraining = round_data[c]['timing']['rtime_training'],\n",
    "        ptraining = round_data[c]['timing']['ptime_training'],\n",
    "        rtotal = round_data[c]['timing']['rtime_total']))\n",
    "print('\\n')\n",
    "    \n",
    "exp.training_replies()[rounds - 1].dataframe()"
   ]
  },
  {
   "cell_type": "markdown",
   "metadata": {},
   "source": [
    "Federated parameters for each round are available via `exp.aggregated_params()` (index 0 to (`rounds` - 1) ).\n",
    "\n",
    "For example you can view the federated parameters for the last round of the experiment :"
   ]
  },
  {
   "cell_type": "code",
   "execution_count": null,
   "metadata": {},
   "outputs": [],
   "source": [
    "print(\"\\nList the training rounds : \", exp.aggregated_params().keys())\n",
    "\n",
    "print(\"\\nAccess the federated params for the last training round :\")\n",
    "print(\"\\t- params_path: \", exp.aggregated_params()[rounds - 1]['params_path'])\n",
    "print(\"\\t- parameter data: \", exp.aggregated_params()[rounds - 1]['params'].keys())\n"
   ]
  },
  {
   "cell_type": "markdown",
   "metadata": {},
   "source": [
    "## Optional : searching the data"
   ]
  },
  {
   "cell_type": "code",
   "execution_count": null,
   "metadata": {},
   "outputs": [],
   "source": [
    "from fedbiomed.researcher.requests import Requests\n",
    "\n",
    "r = Requests()\n",
    "data = r.search(tags)\n",
    "\n",
    "import pandas as pd\n",
    "for node_id in data.keys():\n",
    "    print('\\n','Data for ', node_id, '\\n\\n', pd.DataFrame(data[node_id]))"
   ]
  },
  {
   "cell_type": "markdown",
   "metadata": {
    "pycharm": {
     "name": "#%%\n"
    }
   },
   "source": [
    "Feel free to try your own models :D"
   ]
  }
 ],
 "metadata": {
  "kernelspec": {
   "display_name": "Python 3 (ipykernel)",
   "language": "python",
   "name": "python3"
  },
  "language_info": {
   "codemirror_mode": {
    "name": "ipython",
    "version": 3
   },
   "file_extension": ".py",
   "mimetype": "text/x-python",
   "name": "python",
   "nbconvert_exporter": "python",
   "pygments_lexer": "ipython3",
   "version": "3.9.7"
  }
 },
 "nbformat": 4,
 "nbformat_minor": 1
}

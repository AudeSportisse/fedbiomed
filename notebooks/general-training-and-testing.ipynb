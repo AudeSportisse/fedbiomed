{
 "cells": [
  {
   "cell_type": "markdown",
   "metadata": {},
   "source": [
    "# Performing Testing at Each Round of Training "
   ]
  },
  {
   "cell_type": "markdown",
   "metadata": {},
   "source": [
    "Use for developing (autoreloads changes made across packages)"
   ]
  },
  {
   "cell_type": "code",
   "execution_count": null,
   "metadata": {},
   "outputs": [],
   "source": [
    "%load_ext autoreload\n",
    "%autoreload 2"
   ]
  },
  {
   "cell_type": "markdown",
   "metadata": {},
   "source": [
    "## Start the network\n",
    "Before running this notebook, start the network with `./scripts/fedbiomed_run network`"
   ]
  },
  {
   "cell_type": "markdown",
   "metadata": {},
   "source": [
    "## Setting the node up\n",
    "It is necessary to previously configure a node:\n",
    "1. `./scripts/fedbiomed_run node add`\n",
    "  * Select option 2 (default) to add MNIST to the node\n",
    "  * Confirm default tags by hitting \"y\" and ENTER\n",
    "  * Pick the folder where MNIST is downloaded (this is due torch issue https://github.com/pytorch/vision/issues/3549)\n",
    "  * Data must have been added (if you get a warning saying that data must be unique is because it's been already added)\n",
    "  \n",
    "2. Check that your data has been added by executing `./scripts/fedbiomed_run node list`\n",
    "3. Run the node using `./scripts/fedbiomed_run node run`. Wait until you get `Starting task manager`. it means you are online."
   ]
  },
  {
   "cell_type": "markdown",
   "metadata": {},
   "source": [
    "# 1. Testing and training a Pytorch model using a default metric"
   ]
  },
  {
   "cell_type": "markdown",
   "metadata": {},
   "source": [
    "Declare a torch.nn MyTrainingPlan class to send for training on the node. Here the model is trained on the **MNIST dataset** for classification. For testing, we will be using the **F1-score** metric.\n",
    "\n",
    "Testing will be performed on both **local updates and global updates**."
   ]
  },
  {
   "cell_type": "code",
   "execution_count": 1,
   "metadata": {},
   "outputs": [],
   "source": [
    "import torch\n",
    "import torch.nn as nn\n",
    "from fedbiomed.common.training_plans import TorchTrainingPlan\n",
    "from fedbiomed.common.data import DataManager\n",
    "from torchvision import datasets, transforms\n",
    "\n",
    "# Here we define the model to be used. \n",
    "# You can use any class name (here 'Net')\n",
    "class MyTrainingPlan(TorchTrainingPlan):\n",
    "    def __init__(self, model_args: dict = {}):\n",
    "        super(MyTrainingPlan, self).__init__(model_args)\n",
    "        self.conv1 = nn.Conv2d(1, 32, 3, 1)\n",
    "        self.conv2 = nn.Conv2d(32, 64, 3, 1)\n",
    "        self.dropout1 = nn.Dropout(0.25)\n",
    "        self.dropout2 = nn.Dropout(0.5)\n",
    "        self.fc1 = nn.Linear(9216, 128)\n",
    "        self.fc2 = nn.Linear(128, 10)\n",
    "        \n",
    "        # Here we define the custom dependencies that will be needed by our custom Dataloader\n",
    "        # In this case, we need the torch DataLoader classes\n",
    "        # Since we will train on MNIST, we need datasets and transform from torchvision\n",
    "        deps = [\"from torchvision import datasets, transforms\"]\n",
    "        \n",
    "        self.add_dependency(deps)\n",
    "\n",
    "    def forward(self, x):\n",
    "        x = self.conv1(x)\n",
    "        x = F.relu(x)\n",
    "        x = self.conv2(x)\n",
    "        x = F.relu(x)\n",
    "        x = F.max_pool2d(x, 2)\n",
    "        x = self.dropout1(x)\n",
    "        x = torch.flatten(x, 1)\n",
    "        x = self.fc1(x)\n",
    "        x = F.relu(x)\n",
    "        x = self.dropout2(x)\n",
    "        x = self.fc2(x)\n",
    "        \n",
    "        \n",
    "        output = F.log_softmax(x, dim=1)\n",
    "        return output\n",
    "\n",
    "    def training_data(self, batch_size = 48):\n",
    "        # Custom torch Dataloader for MNIST data\n",
    "        transform = transforms.Compose([transforms.ToTensor(),\n",
    "        transforms.Normalize((0.1307,), (0.3081,))])\n",
    "        dataset1 = datasets.MNIST(self.dataset_path, train=True, download=False, transform=transform)\n",
    "        train_kwargs = {'batch_size': batch_size, 'shuffle': True}\n",
    "        return DataManager(dataset=dataset1, **train_kwargs)\n",
    "    \n",
    "    def training_step(self, data, target):\n",
    "        output = self.forward(data)\n",
    "        loss   = torch.nn.functional.nll_loss(output, target)\n",
    "        return loss\n"
   ]
  },
  {
   "cell_type": "markdown",
   "metadata": {},
   "source": [
    "This group of arguments correspond respectively:\n",
    "* `model_args`: a dictionary with the arguments related to the model (e.g. number of layers, features, etc.). This will be passed to the model class on the node side.\n",
    "* `training_args`: a dictionary containing the arguments for the training routine (e.g. batch size, learning rate, epochs, etc.). This will be passed to the routine on the node side.\n",
    "\n",
    "**NOTE:** typos and/or lack of positional (required) arguments will raise error. 🤓"
   ]
  },
  {
   "cell_type": "code",
   "execution_count": 2,
   "metadata": {
    "pycharm": {
     "name": "#%%\n"
    }
   },
   "outputs": [],
   "source": [
    "from fedbiomed.common.metrics import MetricTypes\n",
    "\n",
    "model_args = {}\n",
    "\n",
    "training_args = {\n",
    "    'batch_size': 48, \n",
    "    'lr': 1e-3, \n",
    "    'epochs': 1, \n",
    "    'dry_run': False,  \n",
    "    'batch_maxnum': 100, # Fast pass for development : only use ( batch_maxnum * batch_size ) samples\n",
    "  \n",
    "}"
   ]
  },
  {
   "cell_type": "markdown",
   "metadata": {},
   "source": [
    "## Declare and run the experiment\n",
    "\n",
    "- search nodes serving data for these `tags`, optionally filter on a list of node ID with `nodes`\n",
    "- run a round of local training on nodes with model defined in `model_path` + federation with `aggregator`\n",
    "- run for `round_limit` rounds, applying the `node_selection_strategy` between the rounds"
   ]
  },
  {
   "cell_type": "code",
   "execution_count": 3,
   "metadata": {
    "pycharm": {
     "name": "#%%\n"
    },
    "scrolled": true
   },
   "outputs": [
    {
     "name": "stderr",
     "output_type": "stream",
     "text": [
      "2022-03-28 13:34:30,035 fedbiomed INFO - Component environment:\n",
      "2022-03-28 13:34:30,036 fedbiomed INFO - type = ComponentType.RESEARCHER\n",
      "2022-03-28 13:34:30,201 fedbiomed INFO - Messaging researcher_0d1043ef-15a8-4302-a2a0-f3874aa0aa38 successfully connected to the message broker, object = <fedbiomed.common.messaging.Messaging object at 0x7f991dc0d460>\n",
      "2022-03-28 13:34:30,228 fedbiomed INFO - Searching dataset with data tags: ['#MNIST', '#dataset'] for all nodes\n",
      "2022-03-28 13:34:40,247 fedbiomed INFO - Node selected for training -> node_77dadfb2-a01c-4f37-9699-82c552088866\n",
      "2022-03-28 13:34:40,249 fedbiomed INFO - Node selected for training -> node_7321fdef-ae0f-4548-a5a8-1eadf9043b31\n",
      "2022-03-28 13:34:40,254 fedbiomed INFO - Checking data quality of federated datasets...\n",
      "2022-03-28 13:34:40,288 fedbiomed DEBUG - Model file has been saved: /home/ybouilla/fedbiomed/var/experiments/Experiment_0016/my_model_ff295764-f418-49c9-8060-60b7d63de844.py\n",
      "2022-03-28 13:34:40,314 fedbiomed DEBUG - upload (HTTP POST request) of file /home/ybouilla/fedbiomed/var/experiments/Experiment_0016/my_model_ff295764-f418-49c9-8060-60b7d63de844.py successful, with status code 201\n",
      "2022-03-28 13:34:40,471 fedbiomed DEBUG - upload (HTTP POST request) of file /home/ybouilla/fedbiomed/var/experiments/Experiment_0016/aggregated_params_init_feacece6-be2e-4826-8c05-6bacf5387670.pt successful, with status code 201\n",
      "2022-03-28 13:34:40,472 fedbiomed INFO - Removing tensorboard logs from previous experiment\n",
      "2022-03-28 13:34:40,474 fedbiomed DEBUG - Experimentation training_args updated for `job`\n",
      "2022-03-28 13:34:40,475 fedbiomed DEBUG - Experimentation training_args updated for `job`\n",
      "2022-03-28 13:34:40,476 fedbiomed DEBUG - Experimentation training_args updated for `job`\n",
      "2022-03-28 13:34:40,477 fedbiomed DEBUG - Experimentation training_args updated for `job`\n"
     ]
    },
    {
     "data": {
      "text/plain": [
       "(<MetricTypes.F1_SCORE: (1, <_MetricCategory.CLASSIFICATION_LABELS: 0>)>,\n",
       " {'zero_division': 'warn'})"
      ]
     },
     "execution_count": 3,
     "metadata": {},
     "output_type": "execute_result"
    }
   ],
   "source": [
    "from fedbiomed.researcher.experiment import Experiment\n",
    "from fedbiomed.researcher.aggregators.fedavg import FedAverage\n",
    "\n",
    "tags =  ['#MNIST', '#dataset']\n",
    "rounds = 1\n",
    "\n",
    "exp = Experiment(tags=tags,\n",
    "                 model_args=model_args,\n",
    "                 model_class=MyTrainingPlan,\n",
    "                 training_args=training_args,\n",
    "                 round_limit=rounds,\n",
    "                 aggregator=FedAverage(),\n",
    "                 node_selection_strategy=None,\n",
    "                tensorboard=True)\n",
    "\n",
    "\n",
    "exp.set_test_ratio(0.1)\n",
    "exp.set_test_on_local_updates(True)\n",
    "exp.set_test_on_global_updates(True)\n",
    "exp.set_test_metric(MetricTypes.F1_SCORE, zero_division='warn')"
   ]
  },
  {
   "cell_type": "markdown",
   "metadata": {},
   "source": [
    "Launch tensorboard"
   ]
  },
  {
   "cell_type": "code",
   "execution_count": 4,
   "metadata": {},
   "outputs": [],
   "source": [
    "from fedbiomed.researcher.environ import environ\n",
    "tensorboard_dir = environ['TENSORBOARD_RESULTS_DIR']"
   ]
  },
  {
   "cell_type": "code",
   "execution_count": 5,
   "metadata": {},
   "outputs": [],
   "source": [
    "%load_ext tensorboard"
   ]
  },
  {
   "cell_type": "code",
   "execution_count": 6,
   "metadata": {},
   "outputs": [
    {
     "data": {
      "text/html": [
       "\n",
       "      <iframe id=\"tensorboard-frame-3474c4240a8c1322\" width=\"100%\" height=\"800\" frameborder=\"0\">\n",
       "      </iframe>\n",
       "      <script>\n",
       "        (function() {\n",
       "          const frame = document.getElementById(\"tensorboard-frame-3474c4240a8c1322\");\n",
       "          const url = new URL(\"/\", window.location);\n",
       "          const port = 6006;\n",
       "          if (port) {\n",
       "            url.port = port;\n",
       "          }\n",
       "          frame.src = url;\n",
       "        })();\n",
       "      </script>\n",
       "    "
      ],
      "text/plain": [
       "<IPython.core.display.HTML object>"
      ]
     },
     "metadata": {},
     "output_type": "display_data"
    }
   ],
   "source": [
    "tensorboard --logdir \"$tensorboard_dir\""
   ]
  },
  {
   "cell_type": "markdown",
   "metadata": {
    "pycharm": {
     "name": "#%% md\n"
    }
   },
   "source": [
    "Let's start the experiment.\n",
    "\n",
    "By default, this function doesn't stop until all the `round_limit` rounds are done for all the nodes"
   ]
  },
  {
   "cell_type": "code",
   "execution_count": 7,
   "metadata": {},
   "outputs": [
    {
     "name": "stderr",
     "output_type": "stream",
     "text": [
      "2022-03-28 13:34:41,546 fedbiomed INFO - Sampled nodes in round 0 ['node_77dadfb2-a01c-4f37-9699-82c552088866', 'node_7321fdef-ae0f-4548-a5a8-1eadf9043b31']\n",
      "2022-03-28 13:34:41,548 fedbiomed INFO - \u001b[1mSending request\u001b[0m \n",
      "\t\t\t\t\t\u001b[1m To\u001b[0m: node_77dadfb2-a01c-4f37-9699-82c552088866 \n",
      "\t\t\t\t\t\u001b[1m Reqeust: \u001b[0m: Perform training with the arguments: {'researcher_id': 'researcher_0d1043ef-15a8-4302-a2a0-f3874aa0aa38', 'job_id': '871dc3f9-bce1-4535-af24-c0890e8a551f', 'training_args': {'test_ratio': 0.1, 'test_on_local_updates': True, 'test_on_global_updates': True, 'test_metric': <MetricTypes.F1_SCORE: (1, <_MetricCategory.CLASSIFICATION_LABELS: 0>)>, 'test_metric_args': {'zero_division': 'warn'}, 'batch_size': 48, 'lr': 0.001, 'epochs': 1, 'dry_run': False, 'batch_maxnum': 100}, 'training': True, 'model_args': {}, 'command': 'train', 'model_url': 'http://localhost:8844/media/uploads/2022/03/28/my_model_ff295764-f418-49c9-8060-60b7d63de844.py', 'params_url': 'http://localhost:8844/media/uploads/2022/03/28/aggregated_params_init_feacece6-be2e-4826-8c05-6bacf5387670.pt', 'model_class': 'MyTrainingPlan', 'training_data': {'node_77dadfb2-a01c-4f37-9699-82c552088866': ['dataset_b4f451fc-c1e0-4280-ba76-47bbaff18670']}} \n",
      " -----------------------------------------------------------------\n",
      "2022-03-28 13:34:41,548 fedbiomed DEBUG - researcher_0d1043ef-15a8-4302-a2a0-f3874aa0aa38\n",
      "2022-03-28 13:34:41,550 fedbiomed INFO - \u001b[1mSending request\u001b[0m \n",
      "\t\t\t\t\t\u001b[1m To\u001b[0m: node_7321fdef-ae0f-4548-a5a8-1eadf9043b31 \n",
      "\t\t\t\t\t\u001b[1m Reqeust: \u001b[0m: Perform training with the arguments: {'researcher_id': 'researcher_0d1043ef-15a8-4302-a2a0-f3874aa0aa38', 'job_id': '871dc3f9-bce1-4535-af24-c0890e8a551f', 'training_args': {'test_ratio': 0.1, 'test_on_local_updates': True, 'test_on_global_updates': True, 'test_metric': 'F1_SCORE', 'test_metric_args': {'zero_division': 'warn'}, 'batch_size': 48, 'lr': 0.001, 'epochs': 1, 'dry_run': False, 'batch_maxnum': 100}, 'training': True, 'model_args': {}, 'command': 'train', 'model_url': 'http://localhost:8844/media/uploads/2022/03/28/my_model_ff295764-f418-49c9-8060-60b7d63de844.py', 'params_url': 'http://localhost:8844/media/uploads/2022/03/28/aggregated_params_init_feacece6-be2e-4826-8c05-6bacf5387670.pt', 'model_class': 'MyTrainingPlan', 'training_data': {'node_7321fdef-ae0f-4548-a5a8-1eadf9043b31': ['dataset_3db3d0fb-359e-4a0e-8745-f1fa917f75f9']}} \n",
      " -----------------------------------------------------------------\n",
      "2022-03-28 13:34:41,551 fedbiomed DEBUG - researcher_0d1043ef-15a8-4302-a2a0-f3874aa0aa38\n",
      "2022-03-28 13:34:41,669 fedbiomed INFO - \u001b[1mINFO\u001b[0m\n",
      "\t\t\t\t\t\u001b[1m NODE\u001b[0m node_77dadfb2-a01c-4f37-9699-82c552088866\n",
      "\t\t\t\t\t\u001b[1m MESSAGE:\u001b[0m training with arguments {'history_monitor': <fedbiomed.node.history_monitor.HistoryMonitor object at 0x7f5b30d64b50>, 'node_args': {'gpu': False, 'gpu_num': None, 'gpu_only': False}, 'batch_size': 48, 'lr': 0.001, 'epochs': 1, 'dry_run': False, 'batch_maxnum': 100}\u001b[0m\n",
      "-----------------------------------------------------------------\n",
      "2022-03-28 13:34:41,698 fedbiomed INFO - \u001b[1mINFO\u001b[0m\n",
      "\t\t\t\t\t\u001b[1m NODE\u001b[0m node_7321fdef-ae0f-4548-a5a8-1eadf9043b31\n",
      "\t\t\t\t\t\u001b[1m MESSAGE:\u001b[0m training with arguments {'history_monitor': <fedbiomed.node.history_monitor.HistoryMonitor object at 0x7f6105231550>, 'node_args': {'gpu': False, 'gpu_num': None, 'gpu_only': False}, 'batch_size': 48, 'lr': 0.001, 'epochs': 1, 'dry_run': False, 'batch_maxnum': 100}\u001b[0m\n",
      "-----------------------------------------------------------------\n",
      "2022-03-28 13:34:45,180 fedbiomed INFO - \u001b[1mINFO\u001b[0m\n",
      "\t\t\t\t\t\u001b[1m NODE\u001b[0m node_77dadfb2-a01c-4f37-9699-82c552088866\n",
      "\t\t\t\t\t\u001b[1m MESSAGE:\u001b[0m Actual/True values (y_true) has more than two levels, using multiclass `weighted` calculation for the metric F1_SCORE\u001b[0m\n",
      "-----------------------------------------------------------------\n",
      "2022-03-28 13:34:45,184 fedbiomed INFO - \u001b[1mTESTING ON GLOBAL UPDATES\u001b[0m \n",
      "\t\t\t\t\t NODE_ID: node_77dadfb2-a01c-4f37-9699-82c552088866 \n",
      "\t\t\t\t\t Completed: 6000/6000 (100%) \n",
      " \t\t\t\t\t F1_SCORE: \u001b[1m0.023445\u001b[0m \n",
      "\t\t\t\t\t ---------\n",
      "2022-03-28 13:34:45,636 fedbiomed INFO - \u001b[1mINFO\u001b[0m\n",
      "\t\t\t\t\t\u001b[1m NODE\u001b[0m node_7321fdef-ae0f-4548-a5a8-1eadf9043b31\n",
      "\t\t\t\t\t\u001b[1m MESSAGE:\u001b[0m Actual/True values (y_true) has more than two levels, using multiclass `weighted` calculation for the metric F1_SCORE\u001b[0m\n",
      "-----------------------------------------------------------------\n",
      "2022-03-28 13:34:45,640 fedbiomed INFO - \u001b[1mTESTING ON GLOBAL UPDATES\u001b[0m \n",
      "\t\t\t\t\t NODE_ID: node_7321fdef-ae0f-4548-a5a8-1eadf9043b31 \n",
      "\t\t\t\t\t Completed: 6000/6000 (100%) \n",
      " \t\t\t\t\t F1_SCORE: \u001b[1m0.018621\u001b[0m \n",
      "\t\t\t\t\t ---------\n",
      "2022-03-28 13:34:46,085 fedbiomed INFO - \u001b[1mTRAINING\u001b[0m \n",
      "\t\t\t\t\t NODE_ID: node_77dadfb2-a01c-4f37-9699-82c552088866 \n",
      "\t\t\t\t\t Epoch: 1 | Completed: 480/54000 (1%) \n",
      " \t\t\t\t\t Loss: \u001b[1m1.303542\u001b[0m \n",
      "\t\t\t\t\t ---------\n",
      "2022-03-28 13:34:46,677 fedbiomed INFO - \u001b[1mTRAINING\u001b[0m \n",
      "\t\t\t\t\t NODE_ID: node_77dadfb2-a01c-4f37-9699-82c552088866 \n",
      "\t\t\t\t\t Epoch: 1 | Completed: 960/54000 (2%) \n",
      " \t\t\t\t\t Loss: \u001b[1m1.013145\u001b[0m \n",
      "\t\t\t\t\t ---------\n",
      "2022-03-28 13:34:47,261 fedbiomed INFO - \u001b[1mTRAINING\u001b[0m \n",
      "\t\t\t\t\t NODE_ID: node_77dadfb2-a01c-4f37-9699-82c552088866 \n",
      "\t\t\t\t\t Epoch: 1 | Completed: 1440/54000 (3%) \n",
      " \t\t\t\t\t Loss: \u001b[1m0.661170\u001b[0m \n",
      "\t\t\t\t\t ---------\n",
      "2022-03-28 13:34:47,962 fedbiomed INFO - \u001b[1mTRAINING\u001b[0m \n",
      "\t\t\t\t\t NODE_ID: node_7321fdef-ae0f-4548-a5a8-1eadf9043b31 \n",
      "\t\t\t\t\t Epoch: 1 | Completed: 480/54000 (1%) \n",
      " \t\t\t\t\t Loss: \u001b[1m1.311290\u001b[0m \n",
      "\t\t\t\t\t ---------\n",
      "2022-03-28 13:34:48,191 fedbiomed INFO - \u001b[1mTRAINING\u001b[0m \n",
      "\t\t\t\t\t NODE_ID: node_77dadfb2-a01c-4f37-9699-82c552088866 \n",
      "\t\t\t\t\t Epoch: 1 | Completed: 1920/54000 (4%) \n",
      " \t\t\t\t\t Loss: \u001b[1m0.440013\u001b[0m \n",
      "\t\t\t\t\t ---------\n",
      "2022-03-28 13:34:49,012 fedbiomed INFO - \u001b[1mTRAINING\u001b[0m \n",
      "\t\t\t\t\t NODE_ID: node_7321fdef-ae0f-4548-a5a8-1eadf9043b31 \n",
      "\t\t\t\t\t Epoch: 1 | Completed: 960/54000 (2%) \n",
      " \t\t\t\t\t Loss: \u001b[1m0.698018\u001b[0m \n",
      "\t\t\t\t\t ---------\n",
      "2022-03-28 13:34:49,171 fedbiomed INFO - \u001b[1mTRAINING\u001b[0m \n",
      "\t\t\t\t\t NODE_ID: node_77dadfb2-a01c-4f37-9699-82c552088866 \n",
      "\t\t\t\t\t Epoch: 1 | Completed: 2400/54000 (4%) \n",
      " \t\t\t\t\t Loss: \u001b[1m0.382856\u001b[0m \n",
      "\t\t\t\t\t ---------\n",
      "2022-03-28 13:34:50,043 fedbiomed INFO - \u001b[1mTRAINING\u001b[0m \n",
      "\t\t\t\t\t NODE_ID: node_77dadfb2-a01c-4f37-9699-82c552088866 \n",
      "\t\t\t\t\t Epoch: 1 | Completed: 2880/54000 (5%) \n",
      " \t\t\t\t\t Loss: \u001b[1m0.298555\u001b[0m \n",
      "\t\t\t\t\t ---------\n",
      "2022-03-28 13:34:50,497 fedbiomed INFO - \u001b[1mTRAINING\u001b[0m \n",
      "\t\t\t\t\t NODE_ID: node_7321fdef-ae0f-4548-a5a8-1eadf9043b31 \n",
      "\t\t\t\t\t Epoch: 1 | Completed: 1440/54000 (3%) \n",
      " \t\t\t\t\t Loss: \u001b[1m0.916396\u001b[0m \n",
      "\t\t\t\t\t ---------\n",
      "2022-03-28 13:34:51,106 fedbiomed INFO - \u001b[1mTRAINING\u001b[0m \n",
      "\t\t\t\t\t NODE_ID: node_77dadfb2-a01c-4f37-9699-82c552088866 \n",
      "\t\t\t\t\t Epoch: 1 | Completed: 3360/54000 (6%) \n",
      " \t\t\t\t\t Loss: \u001b[1m0.304783\u001b[0m \n",
      "\t\t\t\t\t ---------\n",
      "2022-03-28 13:34:51,513 fedbiomed INFO - \u001b[1mTRAINING\u001b[0m \n",
      "\t\t\t\t\t NODE_ID: node_7321fdef-ae0f-4548-a5a8-1eadf9043b31 \n",
      "\t\t\t\t\t Epoch: 1 | Completed: 1920/54000 (4%) \n",
      " \t\t\t\t\t Loss: \u001b[1m0.422291\u001b[0m \n",
      "\t\t\t\t\t ---------\n",
      "2022-03-28 13:34:52,272 fedbiomed INFO - \u001b[1mTRAINING\u001b[0m \n",
      "\t\t\t\t\t NODE_ID: node_77dadfb2-a01c-4f37-9699-82c552088866 \n",
      "\t\t\t\t\t Epoch: 1 | Completed: 3840/54000 (7%) \n",
      " \t\t\t\t\t Loss: \u001b[1m0.258268\u001b[0m \n",
      "\t\t\t\t\t ---------\n",
      "2022-03-28 13:34:52,477 fedbiomed INFO - \u001b[1mTRAINING\u001b[0m \n",
      "\t\t\t\t\t NODE_ID: node_7321fdef-ae0f-4548-a5a8-1eadf9043b31 \n",
      "\t\t\t\t\t Epoch: 1 | Completed: 2400/54000 (4%) \n",
      " \t\t\t\t\t Loss: \u001b[1m0.280916\u001b[0m \n",
      "\t\t\t\t\t ---------\n",
      "2022-03-28 13:34:52,990 fedbiomed INFO - \u001b[1mTRAINING\u001b[0m \n",
      "\t\t\t\t\t NODE_ID: node_77dadfb2-a01c-4f37-9699-82c552088866 \n",
      "\t\t\t\t\t Epoch: 1 | Completed: 4320/54000 (8%) \n",
      " \t\t\t\t\t Loss: \u001b[1m0.433140\u001b[0m \n",
      "\t\t\t\t\t ---------\n",
      "2022-03-28 13:34:53,296 fedbiomed INFO - \u001b[1mTRAINING\u001b[0m \n",
      "\t\t\t\t\t NODE_ID: node_7321fdef-ae0f-4548-a5a8-1eadf9043b31 \n",
      "\t\t\t\t\t Epoch: 1 | Completed: 2880/54000 (5%) \n",
      " \t\t\t\t\t Loss: \u001b[1m0.613428\u001b[0m \n",
      "\t\t\t\t\t ---------\n",
      "2022-03-28 13:34:54,001 fedbiomed INFO - \u001b[1mTRAINING\u001b[0m \n",
      "\t\t\t\t\t NODE_ID: node_7321fdef-ae0f-4548-a5a8-1eadf9043b31 \n",
      "\t\t\t\t\t Epoch: 1 | Completed: 3360/54000 (6%) \n",
      " \t\t\t\t\t Loss: \u001b[1m0.358219\u001b[0m \n",
      "\t\t\t\t\t ---------\n",
      "2022-03-28 13:34:54,566 fedbiomed INFO - \u001b[1mTRAINING\u001b[0m \n",
      "\t\t\t\t\t NODE_ID: node_7321fdef-ae0f-4548-a5a8-1eadf9043b31 \n",
      "\t\t\t\t\t Epoch: 1 | Completed: 3840/54000 (7%) \n",
      " \t\t\t\t\t Loss: \u001b[1m0.367510\u001b[0m \n",
      "\t\t\t\t\t ---------\n",
      "2022-03-28 13:34:55,133 fedbiomed INFO - \u001b[1mTRAINING\u001b[0m \n",
      "\t\t\t\t\t NODE_ID: node_7321fdef-ae0f-4548-a5a8-1eadf9043b31 \n",
      "\t\t\t\t\t Epoch: 1 | Completed: 4320/54000 (8%) \n",
      " \t\t\t\t\t Loss: \u001b[1m0.252830\u001b[0m \n",
      "\t\t\t\t\t ---------\n"
     ]
    },
    {
     "name": "stderr",
     "output_type": "stream",
     "text": [
      "2022-03-28 13:34:57,478 fedbiomed INFO - \u001b[1mINFO\u001b[0m\n",
      "\t\t\t\t\t\u001b[1m NODE\u001b[0m node_77dadfb2-a01c-4f37-9699-82c552088866\n",
      "\t\t\t\t\t\u001b[1m MESSAGE:\u001b[0m Actual/True values (y_true) has more than two levels, using multiclass `weighted` calculation for the metric F1_SCORE\u001b[0m\n",
      "-----------------------------------------------------------------\n",
      "2022-03-28 13:34:57,483 fedbiomed INFO - \u001b[1mTESTING ON LOCAL UPDATES\u001b[0m \n",
      "\t\t\t\t\t NODE_ID: node_77dadfb2-a01c-4f37-9699-82c552088866 \n",
      "\t\t\t\t\t Completed: 6000/6000 (100%) \n",
      " \t\t\t\t\t F1_SCORE: \u001b[1m0.934793\u001b[0m \n",
      "\t\t\t\t\t ---------\n",
      "2022-03-28 13:34:57,696 fedbiomed INFO - \u001b[1mINFO\u001b[0m\n",
      "\t\t\t\t\t\u001b[1m NODE\u001b[0m node_77dadfb2-a01c-4f37-9699-82c552088866\n",
      "\t\t\t\t\t\u001b[1m MESSAGE:\u001b[0m results uploaded successfully \u001b[0m\n",
      "-----------------------------------------------------------------\n",
      "2022-03-28 13:34:58,588 fedbiomed INFO - \u001b[1mINFO\u001b[0m\n",
      "\t\t\t\t\t\u001b[1m NODE\u001b[0m node_7321fdef-ae0f-4548-a5a8-1eadf9043b31\n",
      "\t\t\t\t\t\u001b[1m MESSAGE:\u001b[0m Actual/True values (y_true) has more than two levels, using multiclass `weighted` calculation for the metric F1_SCORE\u001b[0m\n",
      "-----------------------------------------------------------------\n",
      "2022-03-28 13:34:58,591 fedbiomed INFO - \u001b[1mTESTING ON LOCAL UPDATES\u001b[0m \n",
      "\t\t\t\t\t NODE_ID: node_7321fdef-ae0f-4548-a5a8-1eadf9043b31 \n",
      "\t\t\t\t\t Completed: 6000/6000 (100%) \n",
      " \t\t\t\t\t F1_SCORE: \u001b[1m0.944769\u001b[0m \n",
      "\t\t\t\t\t ---------\n",
      "2022-03-28 13:34:58,731 fedbiomed INFO - \u001b[1mINFO\u001b[0m\n",
      "\t\t\t\t\t\u001b[1m NODE\u001b[0m node_7321fdef-ae0f-4548-a5a8-1eadf9043b31\n",
      "\t\t\t\t\t\u001b[1m MESSAGE:\u001b[0m results uploaded successfully \u001b[0m\n",
      "-----------------------------------------------------------------\n",
      "2022-03-28 13:35:06,587 fedbiomed INFO - Downloading model params after training on node_77dadfb2-a01c-4f37-9699-82c552088866 - from http://localhost:8844/media/uploads/2022/03/28/node_params_9cdec572-350a-4853-affc-ab20ae7cc1c6.pt\n",
      "2022-03-28 13:35:06,638 fedbiomed DEBUG - upload (HTTP GET request) of file node_params_5469c399-ff93-48d1-8b65-d6b27210b7ec.pt successful, with status code 200\n",
      "2022-03-28 13:35:06,646 fedbiomed INFO - Downloading model params after training on node_7321fdef-ae0f-4548-a5a8-1eadf9043b31 - from http://localhost:8844/media/uploads/2022/03/28/node_params_a7f347a4-314e-4f3a-88f8-3f9b9a38e3da.pt\n",
      "2022-03-28 13:35:06,667 fedbiomed DEBUG - upload (HTTP GET request) of file node_params_b20d6c45-abd5-48fe-8117-64c264b0fa5f.pt successful, with status code 200\n",
      "2022-03-28 13:35:06,684 fedbiomed INFO - Nodes that successfully reply in round 0 ['node_77dadfb2-a01c-4f37-9699-82c552088866', 'node_7321fdef-ae0f-4548-a5a8-1eadf9043b31']\n",
      "2022-03-28 13:35:06,831 fedbiomed DEBUG - upload (HTTP POST request) of file /home/ybouilla/fedbiomed/var/experiments/Experiment_0016/aggregated_params_45f24ff5-6fa0-4726-99cc-11763c4717d7.pt successful, with status code 201\n",
      "2022-03-28 13:35:06,832 fedbiomed INFO - Saved aggregated params for round 0 in /home/ybouilla/fedbiomed/var/experiments/Experiment_0016/aggregated_params_45f24ff5-6fa0-4726-99cc-11763c4717d7.pt\n",
      "2022-03-28 13:35:06,833 fedbiomed INFO - \u001b[1mSending request\u001b[0m \n",
      "\t\t\t\t\t\u001b[1m To\u001b[0m: node_77dadfb2-a01c-4f37-9699-82c552088866 \n",
      "\t\t\t\t\t\u001b[1m Reqeust: \u001b[0m:Perform final testing on aggregated parameters \n",
      " -----------------------------------------------------------------\n",
      "2022-03-28 13:35:06,833 fedbiomed DEBUG - researcher_0d1043ef-15a8-4302-a2a0-f3874aa0aa38\n",
      "2022-03-28 13:35:06,834 fedbiomed INFO - \u001b[1mSending request\u001b[0m \n",
      "\t\t\t\t\t\u001b[1m To\u001b[0m: node_7321fdef-ae0f-4548-a5a8-1eadf9043b31 \n",
      "\t\t\t\t\t\u001b[1m Reqeust: \u001b[0m:Perform final testing on aggregated parameters \n",
      " -----------------------------------------------------------------\n",
      "2022-03-28 13:35:06,835 fedbiomed DEBUG - researcher_0d1043ef-15a8-4302-a2a0-f3874aa0aa38\n",
      "2022-03-28 13:35:06,928 fedbiomed INFO - \u001b[1mINFO\u001b[0m\n",
      "\t\t\t\t\t\u001b[1m NODE\u001b[0m node_77dadfb2-a01c-4f37-9699-82c552088866\n",
      "\t\t\t\t\t\u001b[1m MESSAGE:\u001b[0m training with arguments {'history_monitor': <fedbiomed.node.history_monitor.HistoryMonitor object at 0x7f5bcab7f9d0>, 'node_args': {'gpu': False, 'gpu_num': None, 'gpu_only': False}, 'batch_size': 48, 'lr': 0.001, 'epochs': 1, 'dry_run': False, 'batch_maxnum': 100}\u001b[0m\n",
      "-----------------------------------------------------------------\n",
      "2022-03-28 13:35:06,933 fedbiomed INFO - \u001b[1mINFO\u001b[0m\n",
      "\t\t\t\t\t\u001b[1m NODE\u001b[0m node_7321fdef-ae0f-4548-a5a8-1eadf9043b31\n",
      "\t\t\t\t\t\u001b[1m MESSAGE:\u001b[0m training with arguments {'history_monitor': <fedbiomed.node.history_monitor.HistoryMonitor object at 0x7f61057903d0>, 'node_args': {'gpu': False, 'gpu_num': None, 'gpu_only': False}, 'batch_size': 48, 'lr': 0.001, 'epochs': 1, 'dry_run': False, 'batch_maxnum': 100}\u001b[0m\n",
      "-----------------------------------------------------------------\n",
      "2022-03-28 13:35:10,437 fedbiomed INFO - \u001b[1mINFO\u001b[0m\n",
      "\t\t\t\t\t\u001b[1m NODE\u001b[0m node_7321fdef-ae0f-4548-a5a8-1eadf9043b31\n",
      "\t\t\t\t\t\u001b[1m MESSAGE:\u001b[0m Actual/True values (y_true) has more than two levels, using multiclass `weighted` calculation for the metric F1_SCORE\u001b[0m\n",
      "-----------------------------------------------------------------\n",
      "2022-03-28 13:35:10,441 fedbiomed INFO - \u001b[1mTESTING ON GLOBAL UPDATES\u001b[0m \n",
      "\t\t\t\t\t NODE_ID: node_7321fdef-ae0f-4548-a5a8-1eadf9043b31 \n",
      "\t\t\t\t\t Completed: 6000/6000 (100%) \n",
      " \t\t\t\t\t F1_SCORE: \u001b[1m0.946319\u001b[0m \n",
      "\t\t\t\t\t ---------\n",
      "2022-03-28 13:35:10,588 fedbiomed INFO - \u001b[1mINFO\u001b[0m\n",
      "\t\t\t\t\t\u001b[1m NODE\u001b[0m node_77dadfb2-a01c-4f37-9699-82c552088866\n",
      "\t\t\t\t\t\u001b[1m MESSAGE:\u001b[0m Actual/True values (y_true) has more than two levels, using multiclass `weighted` calculation for the metric F1_SCORE\u001b[0m\n",
      "-----------------------------------------------------------------\n",
      "2022-03-28 13:35:10,592 fedbiomed INFO - \u001b[1mTESTING ON GLOBAL UPDATES\u001b[0m \n",
      "\t\t\t\t\t NODE_ID: node_77dadfb2-a01c-4f37-9699-82c552088866 \n",
      "\t\t\t\t\t Completed: 6000/6000 (100%) \n",
      " \t\t\t\t\t F1_SCORE: \u001b[1m0.946348\u001b[0m \n",
      "\t\t\t\t\t ---------\n"
     ]
    },
    {
     "data": {
      "text/plain": [
       "1"
      ]
     },
     "execution_count": 7,
     "metadata": {},
     "output_type": "execute_result"
    }
   ],
   "source": [
    "exp.run()"
   ]
  },
  {
   "cell_type": "code",
   "execution_count": 12,
   "metadata": {},
   "outputs": [
    {
     "data": {
      "text/plain": [
       "(3, 3)"
      ]
     },
     "execution_count": 12,
     "metadata": {},
     "output_type": "execute_result"
    }
   ],
   "source": [
    "exp._round_current, exp._round_limit"
   ]
  },
  {
   "cell_type": "markdown",
   "metadata": {},
   "source": [
    "Local training results for each round and each node are available via `exp.training_replies()` (index 0 to (`rounds` - 1) ).\n",
    "\n",
    "For example you can view the training results for the last round below.\n",
    "\n",
    "Different timings (in seconds) are reported for each dataset of a node participating in a round :\n",
    "- `rtime_training` real time (clock time) spent in the training function on the node\n",
    "- `ptime_training` process time (user and system CPU) spent in the training function on the node\n",
    "- `rtime_total` real time (clock time) spent in the researcher between sending the request and handling the response, at the `Job()` layer"
   ]
  },
  {
   "cell_type": "code",
   "execution_count": 6,
   "metadata": {
    "pycharm": {
     "name": "#%%\n"
    },
    "scrolled": true
   },
   "outputs": [
    {
     "name": "stdout",
     "output_type": "stream",
     "text": [
      "\n",
      "List the training rounds :  dict_keys([0, 1, 2, 3, 4])\n",
      "\n",
      "List the nodes for the last training round and their timings : \n",
      "\t- node_e2fb6eb5-2e15-443a-b6b5-a5da28a45524 :    \n",
      "\t\trtime_training=4.34 seconds    \n",
      "\t\tptime_training=17.23 seconds    \n",
      "\t\trtime_total=25.03 seconds\n",
      "\n",
      "\n"
     ]
    },
    {
     "data": {
      "text/html": [
       "<div>\n",
       "<style scoped>\n",
       "    .dataframe tbody tr th:only-of-type {\n",
       "        vertical-align: middle;\n",
       "    }\n",
       "\n",
       "    .dataframe tbody tr th {\n",
       "        vertical-align: top;\n",
       "    }\n",
       "\n",
       "    .dataframe thead th {\n",
       "        text-align: right;\n",
       "    }\n",
       "</style>\n",
       "<table border=\"1\" class=\"dataframe\">\n",
       "  <thead>\n",
       "    <tr style=\"text-align: right;\">\n",
       "      <th></th>\n",
       "      <th>success</th>\n",
       "      <th>msg</th>\n",
       "      <th>dataset_id</th>\n",
       "      <th>node_id</th>\n",
       "      <th>params_path</th>\n",
       "      <th>params</th>\n",
       "      <th>timing</th>\n",
       "    </tr>\n",
       "  </thead>\n",
       "  <tbody>\n",
       "    <tr>\n",
       "      <th>0</th>\n",
       "      <td>True</td>\n",
       "      <td></td>\n",
       "      <td>dataset_d12c210c-31ff-434f-b024-3da80d73c369</td>\n",
       "      <td>node_e2fb6eb5-2e15-443a-b6b5-a5da28a45524</td>\n",
       "      <td>/home/ybouilla/fedbiomed/var/experiments/Exper...</td>\n",
       "      <td>{'conv1.weight': [[tensor([[-0.3393, -0.1751, ...</td>\n",
       "      <td>{'rtime_training': 4.337263318000623, 'ptime_t...</td>\n",
       "    </tr>\n",
       "  </tbody>\n",
       "</table>\n",
       "</div>"
      ],
      "text/plain": [
       "   success msg                                    dataset_id  \\\n",
       "0     True      dataset_d12c210c-31ff-434f-b024-3da80d73c369   \n",
       "\n",
       "                                     node_id  \\\n",
       "0  node_e2fb6eb5-2e15-443a-b6b5-a5da28a45524   \n",
       "\n",
       "                                         params_path  \\\n",
       "0  /home/ybouilla/fedbiomed/var/experiments/Exper...   \n",
       "\n",
       "                                              params  \\\n",
       "0  {'conv1.weight': [[tensor([[-0.3393, -0.1751, ...   \n",
       "\n",
       "                                              timing  \n",
       "0  {'rtime_training': 4.337263318000623, 'ptime_t...  "
      ]
     },
     "execution_count": 6,
     "metadata": {},
     "output_type": "execute_result"
    }
   ],
   "source": [
    "print(\"\\nList the training rounds : \", exp.training_replies().keys())\n",
    "\n",
    "print(\"\\nList the nodes for the last training round and their timings : \")\n",
    "round_data = exp.training_replies()[rounds - 1].data()\n",
    "for c in range(len(round_data)):\n",
    "    print(\"\\t- {id} :\\\n",
    "    \\n\\t\\trtime_training={rtraining:.2f} seconds\\\n",
    "    \\n\\t\\tptime_training={ptraining:.2f} seconds\\\n",
    "    \\n\\t\\trtime_total={rtotal:.2f} seconds\".format(id = round_data[c]['node_id'],\n",
    "        rtraining = round_data[c]['timing']['rtime_training'],\n",
    "        ptraining = round_data[c]['timing']['ptime_training'],\n",
    "        rtotal = round_data[c]['timing']['rtime_total']))\n",
    "print('\\n')\n",
    "    \n",
    "exp.training_replies()[rounds - 1].dataframe()"
   ]
  },
  {
   "cell_type": "markdown",
   "metadata": {},
   "source": [
    "Federated parameters for each round are available via `exp.aggregated_params()` (index 0 to (`rounds` - 1) ).\n",
    "\n",
    "For example you can view the federated parameters for the last round of the experiment :"
   ]
  },
  {
   "cell_type": "code",
   "execution_count": 7,
   "metadata": {},
   "outputs": [
    {
     "name": "stdout",
     "output_type": "stream",
     "text": [
      "\n",
      "List the training rounds :  dict_keys([0, 1, 2, 3])\n",
      "\n",
      "Access the federated params for the last training round :\n",
      "\t- params_path:  /home/ybouilla/fedbiomed/var/experiments/Experiment_0007/aggregated_params_5c4d0680-c370-435f-ba8a-4367c6c122ca.pt\n",
      "\t- parameter data:  odict_keys(['conv1.weight', 'conv1.bias', 'conv2.weight', 'conv2.bias', 'fc1.weight', 'fc1.bias', 'fc2.weight', 'fc2.bias'])\n"
     ]
    }
   ],
   "source": [
    "print(\"\\nList the training rounds : \", exp.aggregated_params().keys())\n",
    "\n",
    "print(\"\\nAccess the federated params for the last training round :\")\n",
    "print(\"\\t- params_path: \", exp.aggregated_params()[rounds - 1]['params_path'])\n",
    "print(\"\\t- parameter data: \", exp.aggregated_params()[rounds - 1]['params'].keys())\n"
   ]
  },
  {
   "cell_type": "markdown",
   "metadata": {},
   "source": [
    "**List of Default metrics** \n",
    "(please check Scikit - learn for further details)"
   ]
  },
  {
   "cell_type": "code",
   "execution_count": 14,
   "metadata": {},
   "outputs": [
    {
     "data": {
      "text/plain": [
       "['ACCURACY',\n",
       " 'F1_SCORE',\n",
       " 'PRECISION',\n",
       " 'AVG_PRECISION',\n",
       " 'RECALL',\n",
       " 'ROC_AUC',\n",
       " 'MEAN_SQUARE_ERROR',\n",
       " 'MEAN_ABSOLUTE_ERROR',\n",
       " 'EXPLAINED_VARIANCE']"
      ]
     },
     "execution_count": 14,
     "metadata": {},
     "output_type": "execute_result"
    }
   ],
   "source": [
    "MetricTypes.get_all_metrics()"
   ]
  },
  {
   "cell_type": "markdown",
   "metadata": {},
   "source": [
    "\n",
    "\n",
    "## 2. Training and Testing with sklearn Perceptron model\n",
    "\n",
    "\n",
    "Now we will use the testing facility on Skelearn training plan"
   ]
  },
  {
   "cell_type": "code",
   "execution_count": 10,
   "metadata": {},
   "outputs": [],
   "source": [
    "\n",
    "from fedbiomed.common.training_plans import SGDSkLearnModel\n",
    "from fedbiomed.common.data import DataManager\n",
    "import numpy as np\n",
    "\n",
    "\n",
    "class SkLearnClassifierTrainingPlan(SGDSkLearnModel):\n",
    "    def __init__(self, model_args):\n",
    "        super(SkLearnClassifierTrainingPlan,self).__init__(model_args)\n",
    "        self.add_dependency(['import torch',\n",
    "                            \"from sklearn.linear_model import Perceptron\",\n",
    "                            \"from torchvision import datasets, transforms\",\n",
    "                           \"from torch.utils.data import DataLoader\"])\n",
    "    \n",
    "    \n",
    "    def training_data(self):\n",
    "        # Custom torch Dataloader for MNIST data\n",
    "        transform = transforms.Compose([transforms.ToTensor(),\n",
    "        transforms.Normalize((0.1307,), (0.3081,))])\n",
    "        dataset = datasets.MNIST(self.dataset_path, train=True, download=False, transform=transform)\n",
    "        \n",
    "        train_kwargs = {'batch_size': 500, 'shuffle': True}  # number of data passed to classifier\n",
    "        X_train = dataset.data.numpy()\n",
    "        X_train = X_train.reshape(-1, 28*28)\n",
    "        Y_train = dataset.targets.numpy()\n",
    "        \n",
    "        return DataManager(dataset=X_train,target=Y_train)"
   ]
  },
  {
   "cell_type": "code",
   "execution_count": 11,
   "metadata": {},
   "outputs": [],
   "source": [
    "model_args = { 'max_iter':1000,\n",
    "              'tol': 1e-4 ,\n",
    "              'model': 'Perceptron' ,\n",
    "              'n_features': 28*28,\n",
    "              'n_classes' : 10,\n",
    "              'eta0':1e-6,\n",
    "             'random_state':1234,\n",
    "             'alpha':0.1 }\n",
    "\n",
    "training_args = {\n",
    "    'epochs': 1, \n",
    "    'test_metric': \"PRECISION\",\n",
    "    'test_ratio': .2,\n",
    "   'test_on_global_updates': True,\n",
    "    'test_metric_args': {'average': 'macro'}\n",
    "}"
   ]
  },
  {
   "cell_type": "code",
   "execution_count": 18,
   "metadata": {},
   "outputs": [
    {
     "name": "stderr",
     "output_type": "stream",
     "text": [
      "2022-03-28 13:56:03,988 fedbiomed INFO - Searching dataset with data tags: ['#MNIST', '#dataset'] for all nodes\n",
      "2022-03-28 13:56:14,011 fedbiomed INFO - Node selected for training -> node_77dadfb2-a01c-4f37-9699-82c552088866\n",
      "2022-03-28 13:56:14,013 fedbiomed INFO - Node selected for training -> node_7321fdef-ae0f-4548-a5a8-1eadf9043b31\n",
      "2022-03-28 13:56:14,017 fedbiomed INFO - Checking data quality of federated datasets...\n",
      "2022-03-28 13:56:14,026 fedbiomed CRITICAL - Fed-BioMed stopped due to unknown error:\n",
      "__init__() missing 1 required positional argument: 'model_args'\n"
     ]
    },
    {
     "name": "stdout",
     "output_type": "stream",
     "text": [
      "\n",
      "--------------------\n",
      "Fed-BioMed researcher stopped due to unknown error:\n",
      "__init__() missing 1 required positional argument: 'model_args'\n",
      "More details in the backtrace extract below\n",
      "--------------------\n",
      "Traceback (most recent call last):\n",
      "  File \"/home/ybouilla/fedbiomed/fedbiomed/researcher/experiment.py\", line 58, in payload\n",
      "    ret = function(*args, **kwargs)\n",
      "  File \"/home/ybouilla/fedbiomed/fedbiomed/researcher/experiment.py\", line 1249, in set_job\n",
      "    self._job = Job(reqs=self._reqs,\n",
      "  File \"/home/ybouilla/fedbiomed/fedbiomed/researcher/job.py\", line 133, in __init__\n",
      "    self.model_instance = model()  # contains TrainingPlan\n",
      "TypeError: __init__() missing 1 required positional argument: 'model_args'\n",
      "--------------------\n"
     ]
    }
   ],
   "source": [
    "from fedbiomed.researcher.experiment import Experiment\n",
    "from fedbiomed.researcher.aggregators.fedavg import FedAverage\n",
    "\n",
    "tags =  ['#MNIST', '#dataset']\n",
    "rounds = 50\n",
    "\n",
    "# select nodes participing to this experiment\n",
    "exp = Experiment(tags=tags,\n",
    "                 model_args=model_args,\n",
    "                 model_class=SkLearnClassifierTrainingPlan,\n",
    "                 training_args=training_args,\n",
    "                 round_limit=rounds,\n",
    "                 aggregator=FedAverage(),\n",
    "                 node_selection_strategy=None, \n",
    "                tensorboard=True)\n"
   ]
  },
  {
   "cell_type": "code",
   "execution_count": 13,
   "metadata": {
    "scrolled": true
   },
   "outputs": [
    {
     "name": "stderr",
     "output_type": "stream",
     "text": [
      "2022-03-28 13:48:18,074 fedbiomed INFO - Sampled nodes in round 0 ['node_77dadfb2-a01c-4f37-9699-82c552088866', 'node_7321fdef-ae0f-4548-a5a8-1eadf9043b31']\n",
      "2022-03-28 13:48:18,076 fedbiomed INFO - \u001b[1mSending request\u001b[0m \n",
      "\t\t\t\t\t\u001b[1m To\u001b[0m: node_77dadfb2-a01c-4f37-9699-82c552088866 \n",
      "\t\t\t\t\t\u001b[1m Reqeust: \u001b[0m: Perform training with the arguments: {'researcher_id': 'researcher_0d1043ef-15a8-4302-a2a0-f3874aa0aa38', 'job_id': 'a0e91bc4-7db5-427a-b81b-2c025da7ca51', 'training_args': {'test_ratio': 0.2, 'test_on_local_updates': False, 'test_on_global_updates': True, 'test_metric': 'PRECISION', 'test_metric_args': {'average': 'macro'}, 'epochs': 1}, 'training': True, 'model_args': {'max_iter': 1000, 'tol': 0.0001, 'model': 'Perceptron', 'n_features': 784, 'n_classes': 10, 'eta0': 1e-06, 'random_state': 1234, 'alpha': 0.1, 'verbose': 1}, 'command': 'train', 'model_url': 'http://localhost:8844/media/uploads/2022/03/28/my_model_dc8ba3fd-0ef2-43ca-a335-b24f40baa4a5.py', 'params_url': 'http://localhost:8844/media/uploads/2022/03/28/aggregated_params_init_84909ce3-57ea-451c-8b69-1e613adb916f.pt', 'model_class': 'SkLearnClassifierTrainingPlan', 'training_data': {'node_77dadfb2-a01c-4f37-9699-82c552088866': ['dataset_b4f451fc-c1e0-4280-ba76-47bbaff18670']}} \n",
      " -----------------------------------------------------------------\n",
      "2022-03-28 13:48:18,076 fedbiomed DEBUG - researcher_0d1043ef-15a8-4302-a2a0-f3874aa0aa38\n",
      "2022-03-28 13:48:18,077 fedbiomed INFO - \u001b[1mSending request\u001b[0m \n",
      "\t\t\t\t\t\u001b[1m To\u001b[0m: node_7321fdef-ae0f-4548-a5a8-1eadf9043b31 \n",
      "\t\t\t\t\t\u001b[1m Reqeust: \u001b[0m: Perform training with the arguments: {'researcher_id': 'researcher_0d1043ef-15a8-4302-a2a0-f3874aa0aa38', 'job_id': 'a0e91bc4-7db5-427a-b81b-2c025da7ca51', 'training_args': {'test_ratio': 0.2, 'test_on_local_updates': False, 'test_on_global_updates': True, 'test_metric': 'PRECISION', 'test_metric_args': {'average': 'macro'}, 'epochs': 1}, 'training': True, 'model_args': {'max_iter': 1000, 'tol': 0.0001, 'model': 'Perceptron', 'n_features': 784, 'n_classes': 10, 'eta0': 1e-06, 'random_state': 1234, 'alpha': 0.1, 'verbose': 1}, 'command': 'train', 'model_url': 'http://localhost:8844/media/uploads/2022/03/28/my_model_dc8ba3fd-0ef2-43ca-a335-b24f40baa4a5.py', 'params_url': 'http://localhost:8844/media/uploads/2022/03/28/aggregated_params_init_84909ce3-57ea-451c-8b69-1e613adb916f.pt', 'model_class': 'SkLearnClassifierTrainingPlan', 'training_data': {'node_7321fdef-ae0f-4548-a5a8-1eadf9043b31': ['dataset_3db3d0fb-359e-4a0e-8745-f1fa917f75f9']}} \n",
      " -----------------------------------------------------------------\n",
      "2022-03-28 13:48:18,078 fedbiomed DEBUG - researcher_0d1043ef-15a8-4302-a2a0-f3874aa0aa38\n",
      "2022-03-28 13:48:18,224 fedbiomed INFO - \u001b[1mINFO\u001b[0m\n",
      "\t\t\t\t\t\u001b[1m NODE\u001b[0m node_77dadfb2-a01c-4f37-9699-82c552088866\n",
      "\t\t\t\t\t\u001b[1m MESSAGE:\u001b[0m training with arguments {'history_monitor': <fedbiomed.node.history_monitor.HistoryMonitor object at 0x7f5bc97e7d90>, 'node_args': {'gpu': False, 'gpu_num': None, 'gpu_only': False}, 'epochs': 1}\u001b[0m\n",
      "-----------------------------------------------------------------\n",
      "2022-03-28 13:48:18,264 fedbiomed INFO - \u001b[1mINFO\u001b[0m\n",
      "\t\t\t\t\t\u001b[1m NODE\u001b[0m node_7321fdef-ae0f-4548-a5a8-1eadf9043b31\n",
      "\t\t\t\t\t\u001b[1m MESSAGE:\u001b[0m training with arguments {'history_monitor': <fedbiomed.node.history_monitor.HistoryMonitor object at 0x7f610547fdf0>, 'node_args': {'gpu': False, 'gpu_num': None, 'gpu_only': False}, 'epochs': 1}\u001b[0m\n",
      "-----------------------------------------------------------------\n",
      "2022-03-28 13:48:18,408 fedbiomed INFO - \u001b[1mINFO\u001b[0m\n",
      "\t\t\t\t\t\u001b[1m NODE\u001b[0m node_77dadfb2-a01c-4f37-9699-82c552088866\n",
      "\t\t\t\t\t\u001b[1m MESSAGE:\u001b[0m Actual/True values (y_true) has more than two levels, using multiclass `macro` calculation for the metric PRECISION\u001b[0m\n",
      "-----------------------------------------------------------------\n",
      "2022-03-28 13:48:18,499 fedbiomed INFO - \u001b[1mINFO\u001b[0m\n",
      "\t\t\t\t\t\u001b[1m NODE\u001b[0m node_7321fdef-ae0f-4548-a5a8-1eadf9043b31\n",
      "\t\t\t\t\t\u001b[1m MESSAGE:\u001b[0m Actual/True values (y_true) has more than two levels, using multiclass `macro` calculation for the metric PRECISION\u001b[0m\n",
      "-----------------------------------------------------------------\n",
      "2022-03-28 13:48:19,338 fedbiomed INFO - \u001b[1mINFO\u001b[0m\n",
      "\t\t\t\t\t\u001b[1m NODE\u001b[0m node_77dadfb2-a01c-4f37-9699-82c552088866\n",
      "\t\t\t\t\t\u001b[1m MESSAGE:\u001b[0m Train Epoch: 0 [Batch All Samples]\tLoss: 0.048835\u001b[0m\n",
      "-----------------------------------------------------------------\n",
      "2022-03-28 13:48:19,340 fedbiomed INFO - \u001b[1mINFO\u001b[0m\n",
      "\t\t\t\t\t\u001b[1m NODE\u001b[0m node_77dadfb2-a01c-4f37-9699-82c552088866\n",
      "\t\t\t\t\t\u001b[1m MESSAGE:\u001b[0m Train Epoch: 0 [Batch All Samples]\tLoss: 0.028738\u001b[0m\n",
      "-----------------------------------------------------------------\n",
      "2022-03-28 13:48:19,341 fedbiomed INFO - \u001b[1mINFO\u001b[0m\n",
      "\t\t\t\t\t\u001b[1m NODE\u001b[0m node_77dadfb2-a01c-4f37-9699-82c552088866\n",
      "\t\t\t\t\t\u001b[1m MESSAGE:\u001b[0m Train Epoch: 0 [Batch All Samples]\tLoss: 0.097417\u001b[0m\n",
      "-----------------------------------------------------------------\n",
      "2022-03-28 13:48:19,341 fedbiomed INFO - \u001b[1mINFO\u001b[0m\n",
      "\t\t\t\t\t\u001b[1m NODE\u001b[0m node_77dadfb2-a01c-4f37-9699-82c552088866\n",
      "\t\t\t\t\t\u001b[1m MESSAGE:\u001b[0m Train Epoch: 0 [Batch All Samples]\tLoss: 0.127247\u001b[0m\n",
      "-----------------------------------------------------------------\n",
      "2022-03-28 13:48:19,343 fedbiomed INFO - \u001b[1mINFO\u001b[0m\n",
      "\t\t\t\t\t\u001b[1m NODE\u001b[0m node_77dadfb2-a01c-4f37-9699-82c552088866\n",
      "\t\t\t\t\t\u001b[1m MESSAGE:\u001b[0m Train Epoch: 0 [Batch All Samples]\tLoss: 0.072543\u001b[0m\n",
      "-----------------------------------------------------------------\n",
      "2022-03-28 13:48:19,344 fedbiomed INFO - \u001b[1mINFO\u001b[0m\n",
      "\t\t\t\t\t\u001b[1m NODE\u001b[0m node_77dadfb2-a01c-4f37-9699-82c552088866\n",
      "\t\t\t\t\t\u001b[1m MESSAGE:\u001b[0m Train Epoch: 0 [Batch All Samples]\tLoss: 0.128209\u001b[0m\n",
      "-----------------------------------------------------------------\n",
      "2022-03-28 13:48:19,345 fedbiomed INFO - \u001b[1mINFO\u001b[0m\n",
      "\t\t\t\t\t\u001b[1m NODE\u001b[0m node_77dadfb2-a01c-4f37-9699-82c552088866\n",
      "\t\t\t\t\t\u001b[1m MESSAGE:\u001b[0m Train Epoch: 0 [Batch All Samples]\tLoss: 0.063136\u001b[0m\n",
      "-----------------------------------------------------------------\n",
      "2022-03-28 13:48:19,346 fedbiomed INFO - \u001b[1mINFO\u001b[0m\n",
      "\t\t\t\t\t\u001b[1m NODE\u001b[0m node_77dadfb2-a01c-4f37-9699-82c552088866\n",
      "\t\t\t\t\t\u001b[1m MESSAGE:\u001b[0m Train Epoch: 0 [Batch All Samples]\tLoss: 0.060822\u001b[0m\n",
      "-----------------------------------------------------------------\n",
      "2022-03-28 13:48:19,346 fedbiomed INFO - \u001b[1mINFO\u001b[0m\n",
      "\t\t\t\t\t\u001b[1m NODE\u001b[0m node_77dadfb2-a01c-4f37-9699-82c552088866\n",
      "\t\t\t\t\t\u001b[1m MESSAGE:\u001b[0m Train Epoch: 0 [Batch All Samples]\tLoss: 0.242133\u001b[0m\n",
      "-----------------------------------------------------------------\n",
      "2022-03-28 13:48:19,347 fedbiomed INFO - \u001b[1mINFO\u001b[0m\n",
      "\t\t\t\t\t\u001b[1m NODE\u001b[0m node_77dadfb2-a01c-4f37-9699-82c552088866\n",
      "\t\t\t\t\t\u001b[1m MESSAGE:\u001b[0m Train Epoch: 0 [Batch All Samples]\tLoss: 0.158260\u001b[0m\n",
      "-----------------------------------------------------------------\n",
      "2022-03-28 13:48:19,348 fedbiomed INFO - \u001b[1mWARNING\u001b[0m\n",
      "\t\t\t\t\t\u001b[1m NODE\u001b[0m node_77dadfb2-a01c-4f37-9699-82c552088866\n",
      "\t\t\t\t\t\u001b[1m MESSAGE:\u001b[0m Loss plot displayed on Tensorboard may be inaccurate (due to some plain SGD scikit learn limitations)\u001b[0m\n",
      "-----------------------------------------------------------------\n",
      "2022-03-28 13:48:19,372 fedbiomed INFO - \u001b[1mINFO\u001b[0m\n",
      "\t\t\t\t\t\u001b[1m NODE\u001b[0m node_77dadfb2-a01c-4f37-9699-82c552088866\n",
      "\t\t\t\t\t\u001b[1m MESSAGE:\u001b[0m results uploaded successfully \u001b[0m\n",
      "-----------------------------------------------------------------\n",
      "2022-03-28 13:48:19,385 fedbiomed INFO - \u001b[1mINFO\u001b[0m\n",
      "\t\t\t\t\t\u001b[1m NODE\u001b[0m node_7321fdef-ae0f-4548-a5a8-1eadf9043b31\n",
      "\t\t\t\t\t\u001b[1m MESSAGE:\u001b[0m Train Epoch: 0 [Batch All Samples]\tLoss: 0.050704\u001b[0m\n",
      "-----------------------------------------------------------------\n",
      "2022-03-28 13:48:19,388 fedbiomed INFO - \u001b[1mINFO\u001b[0m\n",
      "\t\t\t\t\t\u001b[1m NODE\u001b[0m node_7321fdef-ae0f-4548-a5a8-1eadf9043b31\n",
      "\t\t\t\t\t\u001b[1m MESSAGE:\u001b[0m Train Epoch: 0 [Batch All Samples]\tLoss: 0.029111\u001b[0m\n",
      "-----------------------------------------------------------------\n",
      "2022-03-28 13:48:19,390 fedbiomed INFO - \u001b[1mINFO\u001b[0m\n",
      "\t\t\t\t\t\u001b[1m NODE\u001b[0m node_7321fdef-ae0f-4548-a5a8-1eadf9043b31\n",
      "\t\t\t\t\t\u001b[1m MESSAGE:\u001b[0m Train Epoch: 0 [Batch All Samples]\tLoss: 0.096637\u001b[0m\n",
      "-----------------------------------------------------------------\n",
      "2022-03-28 13:48:19,392 fedbiomed INFO - \u001b[1mINFO\u001b[0m\n",
      "\t\t\t\t\t\u001b[1m NODE\u001b[0m node_7321fdef-ae0f-4548-a5a8-1eadf9043b31\n",
      "\t\t\t\t\t\u001b[1m MESSAGE:\u001b[0m Train Epoch: 0 [Batch All Samples]\tLoss: 0.128867\u001b[0m\n",
      "-----------------------------------------------------------------\n"
     ]
    },
    {
     "name": "stderr",
     "output_type": "stream",
     "text": [
      "2022-03-28 13:48:19,395 fedbiomed INFO - \u001b[1mINFO\u001b[0m\n",
      "\t\t\t\t\t\u001b[1m NODE\u001b[0m node_7321fdef-ae0f-4548-a5a8-1eadf9043b31\n",
      "\t\t\t\t\t\u001b[1m MESSAGE:\u001b[0m Train Epoch: 0 [Batch All Samples]\tLoss: 0.073247\u001b[0m\n",
      "-----------------------------------------------------------------\n",
      "2022-03-28 13:48:19,397 fedbiomed INFO - \u001b[1mINFO\u001b[0m\n",
      "\t\t\t\t\t\u001b[1m NODE\u001b[0m node_7321fdef-ae0f-4548-a5a8-1eadf9043b31\n",
      "\t\t\t\t\t\u001b[1m MESSAGE:\u001b[0m Train Epoch: 0 [Batch All Samples]\tLoss: 0.127751\u001b[0m\n",
      "-----------------------------------------------------------------\n",
      "2022-03-28 13:48:19,399 fedbiomed INFO - \u001b[1mINFO\u001b[0m\n",
      "\t\t\t\t\t\u001b[1m NODE\u001b[0m node_7321fdef-ae0f-4548-a5a8-1eadf9043b31\n",
      "\t\t\t\t\t\u001b[1m MESSAGE:\u001b[0m Train Epoch: 0 [Batch All Samples]\tLoss: 0.058865\u001b[0m\n",
      "-----------------------------------------------------------------\n",
      "2022-03-28 13:48:19,400 fedbiomed INFO - \u001b[1mINFO\u001b[0m\n",
      "\t\t\t\t\t\u001b[1m NODE\u001b[0m node_7321fdef-ae0f-4548-a5a8-1eadf9043b31\n",
      "\t\t\t\t\t\u001b[1m MESSAGE:\u001b[0m Train Epoch: 0 [Batch All Samples]\tLoss: 0.060112\u001b[0m\n",
      "-----------------------------------------------------------------\n",
      "2022-03-28 13:48:19,403 fedbiomed INFO - \u001b[1mINFO\u001b[0m\n",
      "\t\t\t\t\t\u001b[1m NODE\u001b[0m node_7321fdef-ae0f-4548-a5a8-1eadf9043b31\n",
      "\t\t\t\t\t\u001b[1m MESSAGE:\u001b[0m Train Epoch: 0 [Batch All Samples]\tLoss: 0.244487\u001b[0m\n",
      "-----------------------------------------------------------------\n",
      "2022-03-28 13:48:19,406 fedbiomed INFO - \u001b[1mINFO\u001b[0m\n",
      "\t\t\t\t\t\u001b[1m NODE\u001b[0m node_7321fdef-ae0f-4548-a5a8-1eadf9043b31\n",
      "\t\t\t\t\t\u001b[1m MESSAGE:\u001b[0m Train Epoch: 0 [Batch All Samples]\tLoss: 0.154697\u001b[0m\n",
      "-----------------------------------------------------------------\n",
      "2022-03-28 13:48:19,409 fedbiomed INFO - \u001b[1mWARNING\u001b[0m\n",
      "\t\t\t\t\t\u001b[1m NODE\u001b[0m node_7321fdef-ae0f-4548-a5a8-1eadf9043b31\n",
      "\t\t\t\t\t\u001b[1m MESSAGE:\u001b[0m Loss plot displayed on Tensorboard may be inaccurate (due to some plain SGD scikit learn limitations)\u001b[0m\n",
      "-----------------------------------------------------------------\n",
      "2022-03-28 13:48:19,419 fedbiomed INFO - \u001b[1mINFO\u001b[0m\n",
      "\t\t\t\t\t\u001b[1m NODE\u001b[0m node_7321fdef-ae0f-4548-a5a8-1eadf9043b31\n",
      "\t\t\t\t\t\u001b[1m MESSAGE:\u001b[0m results uploaded successfully \u001b[0m\n",
      "-----------------------------------------------------------------\n",
      "2022-03-28 13:48:28,091 fedbiomed INFO - Downloading model params after training on node_77dadfb2-a01c-4f37-9699-82c552088866 - from http://localhost:8844/media/uploads/2022/03/28/node_params_001bbe71-390f-49de-abe6-f1214b84e4f2.pt\n",
      "2022-03-28 13:48:28,110 fedbiomed DEBUG - upload (HTTP GET request) of file node_params_08f6e0ed-6a4d-4cec-b6be-981a1eb3f972.pt successful, with status code 200\n",
      "2022-03-28 13:48:28,116 fedbiomed INFO - Downloading model params after training on node_7321fdef-ae0f-4548-a5a8-1eadf9043b31 - from http://localhost:8844/media/uploads/2022/03/28/node_params_65cc7c2c-d244-48a9-81f8-139e53379817.pt\n",
      "2022-03-28 13:48:28,136 fedbiomed DEBUG - upload (HTTP GET request) of file node_params_d2b6020d-46c7-48da-8cbb-0ca24d469dbe.pt successful, with status code 200\n",
      "2022-03-28 13:48:28,148 fedbiomed INFO - Nodes that successfully reply in round 0 ['node_77dadfb2-a01c-4f37-9699-82c552088866', 'node_7321fdef-ae0f-4548-a5a8-1eadf9043b31']\n",
      "2022-03-28 13:48:28,206 fedbiomed DEBUG - upload (HTTP POST request) of file /home/ybouilla/fedbiomed/var/experiments/Experiment_0017/aggregated_params_2e40c4e4-50e2-4785-8d57-cb45fb7c19fb.pt successful, with status code 201\n",
      "2022-03-28 13:48:28,207 fedbiomed INFO - Saved aggregated params for round 0 in /home/ybouilla/fedbiomed/var/experiments/Experiment_0017/aggregated_params_2e40c4e4-50e2-4785-8d57-cb45fb7c19fb.pt\n"
     ]
    },
    {
     "data": {
      "text/plain": [
       "1"
      ]
     },
     "execution_count": 13,
     "metadata": {},
     "output_type": "execute_result"
    }
   ],
   "source": [
    "exp.run(rounds=1, increase=True)"
   ]
  },
  {
   "cell_type": "markdown",
   "metadata": {
    "pycharm": {
     "name": "#%% md\n"
    }
   },
   "source": [
    "Feel free to run other sample notebooks or try your own models :D\n",
    "\n",
    "# 3. Testing facility using your own testing metric\n",
    "\n",
    "If the user wants to define its own testing metric, he can do so by defining the `testing_step` method in the Training plan. \n",
    "\n",
    "`testing_step` is defined the same way as `trainig_step`:\n",
    "\n",
    "User has to:\n",
    "- predict classes or probabilities from model\n",
    "- compute a scalar or a list of scalars\n",
    "\n",
    "list of scalars will be seen as the output of several metrics"
   ]
  },
  {
   "cell_type": "code",
   "execution_count": 15,
   "metadata": {},
   "outputs": [],
   "source": [
    "import torch\n",
    "import torch.nn as nn\n",
    "from fedbiomed.common.training_plans import TorchTrainingPlan\n",
    "from fedbiomed.common.data import DataManager\n",
    "from torchvision import datasets, transforms\n",
    "\n",
    "# Here we define the model to be used. \n",
    "# You can use any class name (here 'Net')\n",
    "class MyTrainingPlanCM(TorchTrainingPlan):\n",
    "    def __init__(self, model_args: dict = {}):\n",
    "        super(MyTrainingPlanCM, self).__init__(model_args)\n",
    "        self.conv1 = nn.Conv2d(1, 32, 3, 1)\n",
    "        self.conv2 = nn.Conv2d(32, 64, 3, 1)\n",
    "        self.dropout1 = nn.Dropout(0.25)\n",
    "        self.dropout2 = nn.Dropout(0.5)\n",
    "        self.fc1 = nn.Linear(9216, 128)\n",
    "        self.fc2 = nn.Linear(128, 10)\n",
    "        \n",
    "        # Here we define the custom dependencies that will be needed by our custom Dataloader\n",
    "        # In this case, we need the torch DataLoader classes\n",
    "        # Since we will train on MNIST, we need datasets and transform from torchvision\n",
    "        deps = [\"from torchvision import datasets, transforms\"]\n",
    "        \n",
    "        self.add_dependency(deps)\n",
    "\n",
    "    def forward(self, x):\n",
    "        x = self.conv1(x)\n",
    "        x = F.relu(x)\n",
    "        x = self.conv2(x)\n",
    "        x = F.relu(x)\n",
    "        x = F.max_pool2d(x, 2)\n",
    "        x = self.dropout1(x)\n",
    "        x = torch.flatten(x, 1)\n",
    "        x = self.fc1(x)\n",
    "        x = F.relu(x)\n",
    "        x = self.dropout2(x)\n",
    "        x = self.fc2(x)\n",
    "        \n",
    "        \n",
    "        output = F.log_softmax(x, dim=1)\n",
    "        return output\n",
    "\n",
    "    def training_data(self, batch_size = 48):\n",
    "        # Custom torch Dataloader for MNIST data\n",
    "        transform = transforms.Compose([transforms.ToTensor(),\n",
    "        transforms.Normalize((0.1307,), (0.3081,))])\n",
    "        dataset1 = datasets.MNIST(self.dataset_path, train=True, download=False, transform=transform)\n",
    "        train_kwargs = {'batch_size': batch_size, 'shuffle': True}\n",
    "        return DataManager(dataset=dataset1, **train_kwargs)\n",
    "    \n",
    "    def training_step(self, data, target):\n",
    "        output = self.forward(data)\n",
    "        loss   = torch.nn.functional.nll_loss(output, target)\n",
    "        return loss\n",
    "\n",
    "    def testing_step(self, data, target):\n",
    "        \n",
    "        output = self.forward(data)\n",
    "        loss1   = torch.nn.functional.nll_loss(output, target)\n",
    "        output = self(data)\n",
    "        loss2   = torch.nn.functional.nll_loss(output, target)\n",
    "        return [loss1, loss2]"
   ]
  },
  {
   "cell_type": "code",
   "execution_count": 16,
   "metadata": {},
   "outputs": [],
   "source": [
    "model_args = {}\n",
    "\n",
    "training_args = {\n",
    "    'batch_size': 48, \n",
    "    'lr': 1e-3, \n",
    "    'epochs': 1, \n",
    "    'dry_run': False,  \n",
    "    'batch_maxnum': 100, # Fast pass for development : only use ( batch_maxnum * batch_size ) samples\n",
    "    'test_ratio': .3,\n",
    "    'test_on_local_updates': True, \n",
    "    'test_on_global_updates': True\n",
    "}"
   ]
  },
  {
   "cell_type": "code",
   "execution_count": 3,
   "metadata": {},
   "outputs": [
    {
     "name": "stderr",
     "output_type": "stream",
     "text": [
      "2022-03-25 18:30:02,029 fedbiomed INFO - Component environment:\n",
      "2022-03-25 18:30:02,031 fedbiomed INFO - type = ComponentType.RESEARCHER\n",
      "2022-03-25 18:30:02,197 fedbiomed INFO - Messaging researcher_34aeb0d0-28b0-4032-968b-00d398e0d668 successfully connected to the message broker, object = <fedbiomed.common.messaging.Messaging object at 0x7f79067b9070>\n",
      "2022-03-25 18:30:02,229 fedbiomed INFO - Searching dataset with data tags: ['#MNIST', '#dataset'] for all nodes\n",
      "2022-03-25 18:30:12,242 fedbiomed INFO - Node selected for training -> node_e2fb6eb5-2e15-443a-b6b5-a5da28a45524\n",
      "2022-03-25 18:30:12,266 fedbiomed DEBUG - Model file has been saved: /home/ybouilla/fedbiomed/var/experiments/Experiment_0012/my_model_b35b47e1-d6df-4d06-8baa-b4314d1c9058.py\n",
      "2022-03-25 18:30:12,290 fedbiomed DEBUG - upload (HTTP POST request) of file /home/ybouilla/fedbiomed/var/experiments/Experiment_0012/my_model_b35b47e1-d6df-4d06-8baa-b4314d1c9058.py successful, with status code 201\n",
      "2022-03-25 18:30:12,437 fedbiomed DEBUG - upload (HTTP POST request) of file /home/ybouilla/fedbiomed/var/experiments/Experiment_0012/aggregated_params_init_6909edde-4cab-45ef-bcba-2a3706676bf9.pt successful, with status code 201\n"
     ]
    }
   ],
   "source": [
    "from fedbiomed.researcher.experiment import Experiment\n",
    "from fedbiomed.researcher.aggregators.fedavg import FedAverage\n",
    "\n",
    "tags =  ['#MNIST', '#dataset']\n",
    "rounds = 2\n",
    "\n",
    "exp = Experiment(tags=tags,\n",
    "                 model_args=model_args,\n",
    "                 model_class=MyTrainingPlanCM,\n",
    "                 training_args=training_args,\n",
    "                 round_limit=rounds,\n",
    "                 aggregator=FedAverage(),\n",
    "                 node_selection_strategy=None, \n",
    "                tensorboard=True)"
   ]
  },
  {
   "cell_type": "code",
   "execution_count": 4,
   "metadata": {
    "scrolled": false
   },
   "outputs": [
    {
     "name": "stderr",
     "output_type": "stream",
     "text": [
      "2022-03-25 18:30:12,442 fedbiomed INFO - Sampled nodes in round 0 ['node_e2fb6eb5-2e15-443a-b6b5-a5da28a45524']\n",
      "2022-03-25 18:30:12,444 fedbiomed INFO - \u001b[1mSending request\u001b[0m \n",
      "\t\t\t\t\t\u001b[1m To\u001b[0m: node_e2fb6eb5-2e15-443a-b6b5-a5da28a45524 \n",
      "\t\t\t\t\t\u001b[1m Reqeust: \u001b[0m: Perform training with the arguments: {'researcher_id': 'researcher_34aeb0d0-28b0-4032-968b-00d398e0d668', 'job_id': '29d230e5-1fd0-4d85-946a-996a36c81d78', 'training_args': {'test_ratio': 0.3, 'test_on_local_updates': True, 'test_on_global_updates': True, 'test_metric': None, 'test_metric_args': {}, 'batch_size': 48, 'lr': 0.001, 'epochs': 1, 'dry_run': False, 'batch_maxnum': 100}, 'training': True, 'model_args': {}, 'command': 'train', 'model_url': 'http://localhost:8844/media/uploads/2022/03/25/my_model_b35b47e1-d6df-4d06-8baa-b4314d1c9058.py', 'params_url': 'http://localhost:8844/media/uploads/2022/03/25/aggregated_params_init_6909edde-4cab-45ef-bcba-2a3706676bf9.pt', 'model_class': 'MyTrainingPlanCM', 'training_data': {'node_e2fb6eb5-2e15-443a-b6b5-a5da28a45524': ['dataset_d12c210c-31ff-434f-b024-3da80d73c369']}} \n",
      " -----------------------------------------------------------------\n",
      "2022-03-25 18:30:12,444 fedbiomed DEBUG - researcher_34aeb0d0-28b0-4032-968b-00d398e0d668\n",
      "2022-03-25 18:30:12,528 fedbiomed INFO - \u001b[1mINFO\u001b[0m\n",
      "\t\t\t\t\t\u001b[1m NODE\u001b[0m node_e2fb6eb5-2e15-443a-b6b5-a5da28a45524\n",
      "\t\t\t\t\t\u001b[1m MESSAGE:\u001b[0m training with arguments {'history_monitor': <fedbiomed.node.history_monitor.HistoryMonitor object at 0x7f07d60f5490>, 'node_args': {'gpu': False, 'gpu_num': None, 'gpu_only': False}, 'batch_size': 48, 'lr': 0.001, 'epochs': 1, 'dry_run': False, 'batch_maxnum': 100}\u001b[0m\n",
      "-----------------------------------------------------------------\n",
      "2022-03-25 18:30:23,735 fedbiomed INFO - \u001b[1mTESTING ON GLOBAL PARAMETERS\u001b[0m \n",
      "\t\t\t\t\t NODE_ID: node_e2fb6eb5-2e15-443a-b6b5-a5da28a45524 \n",
      "\t\t\t\t\t Completed: 18000/18000 (100%) \n",
      " \t\t\t\t\t Custom_1: \u001b[1m2.310002\u001b[0m \n",
      "\t\t\t\t\t Custom_2: \u001b[1m2.310002\u001b[0m \n",
      "\t\t\t\t\t ---------\n",
      "2022-03-25 18:30:24,183 fedbiomed INFO - \u001b[1mTRAINING\u001b[0m \n",
      "\t\t\t\t\t NODE_ID: node_e2fb6eb5-2e15-443a-b6b5-a5da28a45524 \n",
      "\t\t\t\t\t Epoch: 1 | Completed: 480/42000 (1%) \n",
      " \t\t\t\t\t Loss: \u001b[1m1.314582\u001b[0m \n",
      "\t\t\t\t\t ---------\n",
      "2022-03-25 18:30:24,630 fedbiomed INFO - \u001b[1mTRAINING\u001b[0m \n",
      "\t\t\t\t\t NODE_ID: node_e2fb6eb5-2e15-443a-b6b5-a5da28a45524 \n",
      "\t\t\t\t\t Epoch: 1 | Completed: 960/42000 (2%) \n",
      " \t\t\t\t\t Loss: \u001b[1m0.804130\u001b[0m \n",
      "\t\t\t\t\t ---------\n",
      "2022-03-25 18:30:25,067 fedbiomed INFO - \u001b[1mTRAINING\u001b[0m \n",
      "\t\t\t\t\t NODE_ID: node_e2fb6eb5-2e15-443a-b6b5-a5da28a45524 \n",
      "\t\t\t\t\t Epoch: 1 | Completed: 1440/42000 (3%) \n",
      " \t\t\t\t\t Loss: \u001b[1m0.581159\u001b[0m \n",
      "\t\t\t\t\t ---------\n",
      "2022-03-25 18:30:25,504 fedbiomed INFO - \u001b[1mTRAINING\u001b[0m \n",
      "\t\t\t\t\t NODE_ID: node_e2fb6eb5-2e15-443a-b6b5-a5da28a45524 \n",
      "\t\t\t\t\t Epoch: 1 | Completed: 1920/42000 (5%) \n",
      " \t\t\t\t\t Loss: \u001b[1m0.329938\u001b[0m \n",
      "\t\t\t\t\t ---------\n",
      "2022-03-25 18:30:25,958 fedbiomed INFO - \u001b[1mTRAINING\u001b[0m \n",
      "\t\t\t\t\t NODE_ID: node_e2fb6eb5-2e15-443a-b6b5-a5da28a45524 \n",
      "\t\t\t\t\t Epoch: 1 | Completed: 2400/42000 (6%) \n",
      " \t\t\t\t\t Loss: \u001b[1m0.374006\u001b[0m \n",
      "\t\t\t\t\t ---------\n",
      "2022-03-25 18:30:26,402 fedbiomed INFO - \u001b[1mTRAINING\u001b[0m \n",
      "\t\t\t\t\t NODE_ID: node_e2fb6eb5-2e15-443a-b6b5-a5da28a45524 \n",
      "\t\t\t\t\t Epoch: 1 | Completed: 2880/42000 (7%) \n",
      " \t\t\t\t\t Loss: \u001b[1m0.484710\u001b[0m \n",
      "\t\t\t\t\t ---------\n",
      "2022-03-25 18:30:26,834 fedbiomed INFO - \u001b[1mTRAINING\u001b[0m \n",
      "\t\t\t\t\t NODE_ID: node_e2fb6eb5-2e15-443a-b6b5-a5da28a45524 \n",
      "\t\t\t\t\t Epoch: 1 | Completed: 3360/42000 (8%) \n",
      " \t\t\t\t\t Loss: \u001b[1m0.399695\u001b[0m \n",
      "\t\t\t\t\t ---------\n",
      "2022-03-25 18:30:27,270 fedbiomed INFO - \u001b[1mTRAINING\u001b[0m \n",
      "\t\t\t\t\t NODE_ID: node_e2fb6eb5-2e15-443a-b6b5-a5da28a45524 \n",
      "\t\t\t\t\t Epoch: 1 | Completed: 3840/42000 (9%) \n",
      " \t\t\t\t\t Loss: \u001b[1m0.210637\u001b[0m \n",
      "\t\t\t\t\t ---------\n",
      "2022-03-25 18:30:27,718 fedbiomed INFO - \u001b[1mTRAINING\u001b[0m \n",
      "\t\t\t\t\t NODE_ID: node_e2fb6eb5-2e15-443a-b6b5-a5da28a45524 \n",
      "\t\t\t\t\t Epoch: 1 | Completed: 4320/42000 (10%) \n",
      " \t\t\t\t\t Loss: \u001b[1m0.414945\u001b[0m \n",
      "\t\t\t\t\t ---------\n",
      "2022-03-25 18:30:39,040 fedbiomed INFO - \u001b[1mTESTING ON GLOBAL PARAMETERS\u001b[0m \n",
      "\t\t\t\t\t NODE_ID: node_e2fb6eb5-2e15-443a-b6b5-a5da28a45524 \n",
      "\t\t\t\t\t Completed: 18000/18000 (100%) \n",
      " \t\t\t\t\t Custom_1: \u001b[1m0.189064\u001b[0m \n",
      "\t\t\t\t\t Custom_2: \u001b[1m0.189064\u001b[0m \n",
      "\t\t\t\t\t ---------\n",
      "2022-03-25 18:30:39,187 fedbiomed INFO - \u001b[1mINFO\u001b[0m\n",
      "\t\t\t\t\t\u001b[1m NODE\u001b[0m node_e2fb6eb5-2e15-443a-b6b5-a5da28a45524\n",
      "\t\t\t\t\t\u001b[1m MESSAGE:\u001b[0m results uploaded successfully \u001b[0m\n",
      "-----------------------------------------------------------------\n",
      "2022-03-25 18:30:47,482 fedbiomed INFO - Downloading model params after training on node_e2fb6eb5-2e15-443a-b6b5-a5da28a45524 - from http://localhost:8844/media/uploads/2022/03/25/node_params_2e7fccc1-24d9-4929-99e6-f787de9b6b66.pt\n",
      "2022-03-25 18:30:47,510 fedbiomed DEBUG - upload (HTTP GET request) of file node_params_bfea75b1-c992-4ea5-9901-babcccd239b1.pt successful, with status code 200\n",
      "2022-03-25 18:30:47,521 fedbiomed INFO - Nodes that successfully reply in round 0 ['node_e2fb6eb5-2e15-443a-b6b5-a5da28a45524']\n",
      "2022-03-25 18:30:47,668 fedbiomed DEBUG - upload (HTTP POST request) of file /home/ybouilla/fedbiomed/var/experiments/Experiment_0012/aggregated_params_b12cca9e-856a-4a24-bbfe-1896ffa49bb7.pt successful, with status code 201\n",
      "2022-03-25 18:30:47,670 fedbiomed INFO - Saved aggregated params for round 0 in /home/ybouilla/fedbiomed/var/experiments/Experiment_0012/aggregated_params_b12cca9e-856a-4a24-bbfe-1896ffa49bb7.pt\n",
      "2022-03-25 18:30:47,671 fedbiomed INFO - Sampled nodes in round 1 ['node_e2fb6eb5-2e15-443a-b6b5-a5da28a45524']\n",
      "2022-03-25 18:30:47,671 fedbiomed INFO - \u001b[1mSending request\u001b[0m \n",
      "\t\t\t\t\t\u001b[1m To\u001b[0m: node_e2fb6eb5-2e15-443a-b6b5-a5da28a45524 \n",
      "\t\t\t\t\t\u001b[1m Reqeust: \u001b[0m: Perform training with the arguments: {'researcher_id': 'researcher_34aeb0d0-28b0-4032-968b-00d398e0d668', 'job_id': '29d230e5-1fd0-4d85-946a-996a36c81d78', 'training_args': {'test_ratio': 0.3, 'test_on_local_updates': True, 'test_on_global_updates': True, 'test_metric': None, 'test_metric_args': {}, 'batch_size': 48, 'lr': 0.001, 'epochs': 1, 'dry_run': False, 'batch_maxnum': 100}, 'training': True, 'model_args': {}, 'command': 'train', 'model_url': 'http://localhost:8844/media/uploads/2022/03/25/my_model_b35b47e1-d6df-4d06-8baa-b4314d1c9058.py', 'params_url': 'http://localhost:8844/media/uploads/2022/03/25/aggregated_params_b12cca9e-856a-4a24-bbfe-1896ffa49bb7.pt', 'model_class': 'MyTrainingPlanCM', 'training_data': {'node_e2fb6eb5-2e15-443a-b6b5-a5da28a45524': ['dataset_d12c210c-31ff-434f-b024-3da80d73c369']}} \n",
      " -----------------------------------------------------------------\n",
      "2022-03-25 18:30:47,672 fedbiomed DEBUG - researcher_34aeb0d0-28b0-4032-968b-00d398e0d668\n",
      "2022-03-25 18:30:47,754 fedbiomed INFO - \u001b[1mINFO\u001b[0m\n",
      "\t\t\t\t\t\u001b[1m NODE\u001b[0m node_e2fb6eb5-2e15-443a-b6b5-a5da28a45524\n",
      "\t\t\t\t\t\u001b[1m MESSAGE:\u001b[0m training with arguments {'history_monitor': <fedbiomed.node.history_monitor.HistoryMonitor object at 0x7f07d6146a60>, 'node_args': {'gpu': False, 'gpu_num': None, 'gpu_only': False}, 'batch_size': 48, 'lr': 0.001, 'epochs': 1, 'dry_run': False, 'batch_maxnum': 100}\u001b[0m\n",
      "-----------------------------------------------------------------\n",
      "2022-03-25 18:31:00,331 fedbiomed INFO - \u001b[1mTESTING ON GLOBAL PARAMETERS\u001b[0m \n",
      "\t\t\t\t\t NODE_ID: node_e2fb6eb5-2e15-443a-b6b5-a5da28a45524 \n",
      "\t\t\t\t\t Completed: 18000/18000 (100%) \n",
      " \t\t\t\t\t Custom_1: \u001b[1m0.179957\u001b[0m \n",
      "\t\t\t\t\t Custom_2: \u001b[1m0.179957\u001b[0m \n",
      "\t\t\t\t\t ---------\n",
      "2022-03-25 18:31:00,780 fedbiomed INFO - \u001b[1mTRAINING\u001b[0m \n",
      "\t\t\t\t\t NODE_ID: node_e2fb6eb5-2e15-443a-b6b5-a5da28a45524 \n",
      "\t\t\t\t\t Epoch: 1 | Completed: 480/42000 (1%) \n",
      " \t\t\t\t\t Loss: \u001b[1m0.610352\u001b[0m \n",
      "\t\t\t\t\t ---------\n",
      "2022-03-25 18:31:01,217 fedbiomed INFO - \u001b[1mTRAINING\u001b[0m \n",
      "\t\t\t\t\t NODE_ID: node_e2fb6eb5-2e15-443a-b6b5-a5da28a45524 \n",
      "\t\t\t\t\t Epoch: 1 | Completed: 960/42000 (2%) \n",
      " \t\t\t\t\t Loss: \u001b[1m0.156730\u001b[0m \n",
      "\t\t\t\t\t ---------\n",
      "2022-03-25 18:31:01,650 fedbiomed INFO - \u001b[1mTRAINING\u001b[0m \n",
      "\t\t\t\t\t NODE_ID: node_e2fb6eb5-2e15-443a-b6b5-a5da28a45524 \n",
      "\t\t\t\t\t Epoch: 1 | Completed: 1440/42000 (3%) \n",
      " \t\t\t\t\t Loss: \u001b[1m0.182700\u001b[0m \n",
      "\t\t\t\t\t ---------\n",
      "2022-03-25 18:31:02,085 fedbiomed INFO - \u001b[1mTRAINING\u001b[0m \n",
      "\t\t\t\t\t NODE_ID: node_e2fb6eb5-2e15-443a-b6b5-a5da28a45524 \n",
      "\t\t\t\t\t Epoch: 1 | Completed: 1920/42000 (5%) \n",
      " \t\t\t\t\t Loss: \u001b[1m0.313219\u001b[0m \n",
      "\t\t\t\t\t ---------\n",
      "2022-03-25 18:31:02,519 fedbiomed INFO - \u001b[1mTRAINING\u001b[0m \n",
      "\t\t\t\t\t NODE_ID: node_e2fb6eb5-2e15-443a-b6b5-a5da28a45524 \n",
      "\t\t\t\t\t Epoch: 1 | Completed: 2400/42000 (6%) \n",
      " \t\t\t\t\t Loss: \u001b[1m0.253334\u001b[0m \n",
      "\t\t\t\t\t ---------\n"
     ]
    },
    {
     "name": "stderr",
     "output_type": "stream",
     "text": [
      "2022-03-25 18:31:02,963 fedbiomed INFO - \u001b[1mTRAINING\u001b[0m \n",
      "\t\t\t\t\t NODE_ID: node_e2fb6eb5-2e15-443a-b6b5-a5da28a45524 \n",
      "\t\t\t\t\t Epoch: 1 | Completed: 2880/42000 (7%) \n",
      " \t\t\t\t\t Loss: \u001b[1m0.428365\u001b[0m \n",
      "\t\t\t\t\t ---------\n",
      "2022-03-25 18:31:03,403 fedbiomed INFO - \u001b[1mTRAINING\u001b[0m \n",
      "\t\t\t\t\t NODE_ID: node_e2fb6eb5-2e15-443a-b6b5-a5da28a45524 \n",
      "\t\t\t\t\t Epoch: 1 | Completed: 3360/42000 (8%) \n",
      " \t\t\t\t\t Loss: \u001b[1m0.166382\u001b[0m \n",
      "\t\t\t\t\t ---------\n",
      "2022-03-25 18:31:03,837 fedbiomed INFO - \u001b[1mTRAINING\u001b[0m \n",
      "\t\t\t\t\t NODE_ID: node_e2fb6eb5-2e15-443a-b6b5-a5da28a45524 \n",
      "\t\t\t\t\t Epoch: 1 | Completed: 3840/42000 (9%) \n",
      " \t\t\t\t\t Loss: \u001b[1m0.149749\u001b[0m \n",
      "\t\t\t\t\t ---------\n",
      "2022-03-25 18:31:04,267 fedbiomed INFO - \u001b[1mTRAINING\u001b[0m \n",
      "\t\t\t\t\t NODE_ID: node_e2fb6eb5-2e15-443a-b6b5-a5da28a45524 \n",
      "\t\t\t\t\t Epoch: 1 | Completed: 4320/42000 (10%) \n",
      " \t\t\t\t\t Loss: \u001b[1m0.241099\u001b[0m \n",
      "\t\t\t\t\t ---------\n",
      "2022-03-25 18:31:16,639 fedbiomed INFO - \u001b[1mTESTING ON GLOBAL PARAMETERS\u001b[0m \n",
      "\t\t\t\t\t NODE_ID: node_e2fb6eb5-2e15-443a-b6b5-a5da28a45524 \n",
      "\t\t\t\t\t Completed: 18000/18000 (100%) \n",
      " \t\t\t\t\t Custom_1: \u001b[1m0.125541\u001b[0m \n",
      "\t\t\t\t\t Custom_2: \u001b[1m0.125541\u001b[0m \n",
      "\t\t\t\t\t ---------\n",
      "2022-03-25 18:31:16,856 fedbiomed INFO - \u001b[1mINFO\u001b[0m\n",
      "\t\t\t\t\t\u001b[1m NODE\u001b[0m node_e2fb6eb5-2e15-443a-b6b5-a5da28a45524\n",
      "\t\t\t\t\t\u001b[1m MESSAGE:\u001b[0m results uploaded successfully \u001b[0m\n",
      "-----------------------------------------------------------------\n",
      "2022-03-25 18:31:22,710 fedbiomed INFO - Downloading model params after training on node_e2fb6eb5-2e15-443a-b6b5-a5da28a45524 - from http://localhost:8844/media/uploads/2022/03/25/node_params_666d6881-6b40-4729-bf6e-dff4a4e77da6.pt\n",
      "2022-03-25 18:31:22,752 fedbiomed DEBUG - upload (HTTP GET request) of file node_params_ff2818c8-8262-4a34-b866-94ce1280f851.pt successful, with status code 200\n",
      "2022-03-25 18:31:22,760 fedbiomed INFO - Nodes that successfully reply in round 1 ['node_e2fb6eb5-2e15-443a-b6b5-a5da28a45524']\n",
      "2022-03-25 18:31:22,892 fedbiomed DEBUG - upload (HTTP POST request) of file /home/ybouilla/fedbiomed/var/experiments/Experiment_0012/aggregated_params_71d82da7-0423-46b4-83f6-b197b41418d0.pt successful, with status code 201\n",
      "2022-03-25 18:31:22,894 fedbiomed INFO - Saved aggregated params for round 1 in /home/ybouilla/fedbiomed/var/experiments/Experiment_0012/aggregated_params_71d82da7-0423-46b4-83f6-b197b41418d0.pt\n",
      "2022-03-25 18:31:22,894 fedbiomed INFO - \u001b[1mSending request\u001b[0m \n",
      "\t\t\t\t\t\u001b[1m To\u001b[0m: node_e2fb6eb5-2e15-443a-b6b5-a5da28a45524 \n",
      "\t\t\t\t\t\u001b[1m Reqeust: \u001b[0m:Perform final testing on aggregated parameters \n",
      " -----------------------------------------------------------------\n",
      "2022-03-25 18:31:22,895 fedbiomed DEBUG - researcher_34aeb0d0-28b0-4032-968b-00d398e0d668\n",
      "2022-03-25 18:31:22,969 fedbiomed INFO - \u001b[1mINFO\u001b[0m\n",
      "\t\t\t\t\t\u001b[1m NODE\u001b[0m node_e2fb6eb5-2e15-443a-b6b5-a5da28a45524\n",
      "\t\t\t\t\t\u001b[1m MESSAGE:\u001b[0m training with arguments {'history_monitor': <fedbiomed.node.history_monitor.HistoryMonitor object at 0x7f07d69a4d30>, 'node_args': {'gpu': False, 'gpu_num': None, 'gpu_only': False}, 'batch_size': 48, 'lr': 0.001, 'epochs': 1, 'dry_run': False, 'batch_maxnum': 100}\u001b[0m\n",
      "-----------------------------------------------------------------\n",
      "2022-03-25 18:31:34,634 fedbiomed INFO - \u001b[1mTESTING ON GLOBAL PARAMETERS\u001b[0m \n",
      "\t\t\t\t\t NODE_ID: node_e2fb6eb5-2e15-443a-b6b5-a5da28a45524 \n",
      "\t\t\t\t\t Completed: 18000/18000 (100%) \n",
      " \t\t\t\t\t Custom_1: \u001b[1m0.128460\u001b[0m \n",
      "\t\t\t\t\t Custom_2: \u001b[1m0.128460\u001b[0m \n",
      "\t\t\t\t\t ---------\n"
     ]
    },
    {
     "data": {
      "text/plain": [
       "2"
      ]
     },
     "execution_count": 4,
     "metadata": {},
     "output_type": "execute_result"
    }
   ],
   "source": [
    "exp.run()"
   ]
  },
  {
   "cell_type": "code",
   "execution_count": 5,
   "metadata": {
    "scrolled": false
   },
   "outputs": [
    {
     "name": "stderr",
     "output_type": "stream",
     "text": [
      "2022-03-25 18:31:42,955 fedbiomed DEBUG - Auto increasing total rounds for experiment from 2 to 3\n",
      "2022-03-25 18:31:42,958 fedbiomed INFO - Sampled nodes in round 2 ['node_e2fb6eb5-2e15-443a-b6b5-a5da28a45524']\n",
      "2022-03-25 18:31:42,960 fedbiomed INFO - \u001b[1mSending request\u001b[0m \n",
      "\t\t\t\t\t\u001b[1m To\u001b[0m: node_e2fb6eb5-2e15-443a-b6b5-a5da28a45524 \n",
      "\t\t\t\t\t\u001b[1m Reqeust: \u001b[0m: Perform training with the arguments: {'researcher_id': 'researcher_34aeb0d0-28b0-4032-968b-00d398e0d668', 'job_id': '29d230e5-1fd0-4d85-946a-996a36c81d78', 'training_args': {'test_ratio': 0.3, 'test_on_local_updates': True, 'test_on_global_updates': True, 'test_metric': None, 'test_metric_args': {}, 'batch_size': 48, 'lr': 0.001, 'epochs': 1, 'dry_run': False, 'batch_maxnum': 100}, 'training': True, 'model_args': {}, 'command': 'train', 'model_url': 'http://localhost:8844/media/uploads/2022/03/25/my_model_b35b47e1-d6df-4d06-8baa-b4314d1c9058.py', 'params_url': 'http://localhost:8844/media/uploads/2022/03/25/aggregated_params_71d82da7-0423-46b4-83f6-b197b41418d0.pt', 'model_class': 'MyTrainingPlanCM', 'training_data': {'node_e2fb6eb5-2e15-443a-b6b5-a5da28a45524': ['dataset_d12c210c-31ff-434f-b024-3da80d73c369']}} \n",
      " -----------------------------------------------------------------\n",
      "2022-03-25 18:31:42,961 fedbiomed DEBUG - researcher_34aeb0d0-28b0-4032-968b-00d398e0d668\n",
      "2022-03-25 18:31:43,039 fedbiomed INFO - \u001b[1mINFO\u001b[0m\n",
      "\t\t\t\t\t\u001b[1m NODE\u001b[0m node_e2fb6eb5-2e15-443a-b6b5-a5da28a45524\n",
      "\t\t\t\t\t\u001b[1m MESSAGE:\u001b[0m training with arguments {'history_monitor': <fedbiomed.node.history_monitor.HistoryMonitor object at 0x7f07d5bbef10>, 'node_args': {'gpu': False, 'gpu_num': None, 'gpu_only': False}, 'batch_size': 48, 'lr': 0.001, 'epochs': 1, 'dry_run': False, 'batch_maxnum': 100}\u001b[0m\n",
      "-----------------------------------------------------------------\n",
      "2022-03-25 18:31:54,407 fedbiomed INFO - \u001b[1mTESTING ON GLOBAL PARAMETERS\u001b[0m \n",
      "\t\t\t\t\t NODE_ID: node_e2fb6eb5-2e15-443a-b6b5-a5da28a45524 \n",
      "\t\t\t\t\t Completed: 18000/18000 (100%) \n",
      " \t\t\t\t\t Custom_1: \u001b[1m0.119054\u001b[0m \n",
      "\t\t\t\t\t Custom_2: \u001b[1m0.119054\u001b[0m \n",
      "\t\t\t\t\t ---------\n",
      "2022-03-25 18:31:54,839 fedbiomed INFO - \u001b[1mTRAINING\u001b[0m \n",
      "\t\t\t\t\t NODE_ID: node_e2fb6eb5-2e15-443a-b6b5-a5da28a45524 \n",
      "\t\t\t\t\t Epoch: 1 | Completed: 480/42000 (1%) \n",
      " \t\t\t\t\t Loss: \u001b[1m0.247880\u001b[0m \n",
      "\t\t\t\t\t ---------\n",
      "2022-03-25 18:31:55,263 fedbiomed INFO - \u001b[1mTRAINING\u001b[0m \n",
      "\t\t\t\t\t NODE_ID: node_e2fb6eb5-2e15-443a-b6b5-a5da28a45524 \n",
      "\t\t\t\t\t Epoch: 1 | Completed: 960/42000 (2%) \n",
      " \t\t\t\t\t Loss: \u001b[1m0.168089\u001b[0m \n",
      "\t\t\t\t\t ---------\n",
      "2022-03-25 18:31:55,690 fedbiomed INFO - \u001b[1mTRAINING\u001b[0m \n",
      "\t\t\t\t\t NODE_ID: node_e2fb6eb5-2e15-443a-b6b5-a5da28a45524 \n",
      "\t\t\t\t\t Epoch: 1 | Completed: 1440/42000 (3%) \n",
      " \t\t\t\t\t Loss: \u001b[1m0.108748\u001b[0m \n",
      "\t\t\t\t\t ---------\n",
      "2022-03-25 18:31:56,110 fedbiomed INFO - \u001b[1mTRAINING\u001b[0m \n",
      "\t\t\t\t\t NODE_ID: node_e2fb6eb5-2e15-443a-b6b5-a5da28a45524 \n",
      "\t\t\t\t\t Epoch: 1 | Completed: 1920/42000 (5%) \n",
      " \t\t\t\t\t Loss: \u001b[1m0.097151\u001b[0m \n",
      "\t\t\t\t\t ---------\n",
      "2022-03-25 18:31:56,537 fedbiomed INFO - \u001b[1mTRAINING\u001b[0m \n",
      "\t\t\t\t\t NODE_ID: node_e2fb6eb5-2e15-443a-b6b5-a5da28a45524 \n",
      "\t\t\t\t\t Epoch: 1 | Completed: 2400/42000 (6%) \n",
      " \t\t\t\t\t Loss: \u001b[1m0.150299\u001b[0m \n",
      "\t\t\t\t\t ---------\n",
      "2022-03-25 18:31:56,959 fedbiomed INFO - \u001b[1mTRAINING\u001b[0m \n",
      "\t\t\t\t\t NODE_ID: node_e2fb6eb5-2e15-443a-b6b5-a5da28a45524 \n",
      "\t\t\t\t\t Epoch: 1 | Completed: 2880/42000 (7%) \n",
      " \t\t\t\t\t Loss: \u001b[1m0.202165\u001b[0m \n",
      "\t\t\t\t\t ---------\n",
      "2022-03-25 18:31:57,381 fedbiomed INFO - \u001b[1mTRAINING\u001b[0m \n",
      "\t\t\t\t\t NODE_ID: node_e2fb6eb5-2e15-443a-b6b5-a5da28a45524 \n",
      "\t\t\t\t\t Epoch: 1 | Completed: 3360/42000 (8%) \n",
      " \t\t\t\t\t Loss: \u001b[1m0.131066\u001b[0m \n",
      "\t\t\t\t\t ---------\n",
      "2022-03-25 18:31:57,803 fedbiomed INFO - \u001b[1mTRAINING\u001b[0m \n",
      "\t\t\t\t\t NODE_ID: node_e2fb6eb5-2e15-443a-b6b5-a5da28a45524 \n",
      "\t\t\t\t\t Epoch: 1 | Completed: 3840/42000 (9%) \n",
      " \t\t\t\t\t Loss: \u001b[1m0.246725\u001b[0m \n",
      "\t\t\t\t\t ---------\n",
      "2022-03-25 18:31:58,228 fedbiomed INFO - \u001b[1mTRAINING\u001b[0m \n",
      "\t\t\t\t\t NODE_ID: node_e2fb6eb5-2e15-443a-b6b5-a5da28a45524 \n",
      "\t\t\t\t\t Epoch: 1 | Completed: 4320/42000 (10%) \n",
      " \t\t\t\t\t Loss: \u001b[1m0.161689\u001b[0m \n",
      "\t\t\t\t\t ---------\n",
      "2022-03-25 18:32:09,881 fedbiomed INFO - \u001b[1mTESTING ON GLOBAL PARAMETERS\u001b[0m \n",
      "\t\t\t\t\t NODE_ID: node_e2fb6eb5-2e15-443a-b6b5-a5da28a45524 \n",
      "\t\t\t\t\t Completed: 18000/18000 (100%) \n",
      " \t\t\t\t\t Custom_1: \u001b[1m0.097392\u001b[0m \n",
      "\t\t\t\t\t Custom_2: \u001b[1m0.097392\u001b[0m \n",
      "\t\t\t\t\t ---------\n",
      "2022-03-25 18:32:10,039 fedbiomed INFO - \u001b[1mINFO\u001b[0m\n",
      "\t\t\t\t\t\u001b[1m NODE\u001b[0m node_e2fb6eb5-2e15-443a-b6b5-a5da28a45524\n",
      "\t\t\t\t\t\u001b[1m MESSAGE:\u001b[0m results uploaded successfully \u001b[0m\n",
      "-----------------------------------------------------------------\n",
      "2022-03-25 18:32:18,001 fedbiomed INFO - Downloading model params after training on node_e2fb6eb5-2e15-443a-b6b5-a5da28a45524 - from http://localhost:8844/media/uploads/2022/03/25/node_params_c0fb0c67-090d-479a-ab47-99cde13d191e.pt\n",
      "2022-03-25 18:32:18,046 fedbiomed DEBUG - upload (HTTP GET request) of file node_params_abdd6816-9cde-48cc-b707-92300365ddf7.pt successful, with status code 200\n",
      "2022-03-25 18:32:18,056 fedbiomed INFO - Nodes that successfully reply in round 2 ['node_e2fb6eb5-2e15-443a-b6b5-a5da28a45524']\n",
      "2022-03-25 18:32:18,201 fedbiomed DEBUG - upload (HTTP POST request) of file /home/ybouilla/fedbiomed/var/experiments/Experiment_0012/aggregated_params_b06cd696-bd57-4dd9-adc3-543002f354b7.pt successful, with status code 201\n",
      "2022-03-25 18:32:18,203 fedbiomed INFO - Saved aggregated params for round 2 in /home/ybouilla/fedbiomed/var/experiments/Experiment_0012/aggregated_params_b06cd696-bd57-4dd9-adc3-543002f354b7.pt\n",
      "2022-03-25 18:32:18,203 fedbiomed INFO - \u001b[1mSending request\u001b[0m \n",
      "\t\t\t\t\t\u001b[1m To\u001b[0m: node_e2fb6eb5-2e15-443a-b6b5-a5da28a45524 \n",
      "\t\t\t\t\t\u001b[1m Reqeust: \u001b[0m:Perform final testing on aggregated parameters \n",
      " -----------------------------------------------------------------\n",
      "2022-03-25 18:32:18,204 fedbiomed DEBUG - researcher_34aeb0d0-28b0-4032-968b-00d398e0d668\n",
      "2022-03-25 18:32:18,271 fedbiomed INFO - \u001b[1mINFO\u001b[0m\n",
      "\t\t\t\t\t\u001b[1m NODE\u001b[0m node_e2fb6eb5-2e15-443a-b6b5-a5da28a45524\n",
      "\t\t\t\t\t\u001b[1m MESSAGE:\u001b[0m training with arguments {'history_monitor': <fedbiomed.node.history_monitor.HistoryMonitor object at 0x7f07d6a8c340>, 'node_args': {'gpu': False, 'gpu_num': None, 'gpu_only': False}, 'batch_size': 48, 'lr': 0.001, 'epochs': 1, 'dry_run': False, 'batch_maxnum': 100}\u001b[0m\n",
      "-----------------------------------------------------------------\n",
      "2022-03-25 18:32:30,325 fedbiomed INFO - \u001b[1mTESTING ON GLOBAL PARAMETERS\u001b[0m \n",
      "\t\t\t\t\t NODE_ID: node_e2fb6eb5-2e15-443a-b6b5-a5da28a45524 \n",
      "\t\t\t\t\t Completed: 18000/18000 (100%) \n",
      " \t\t\t\t\t Custom_1: \u001b[1m0.101664\u001b[0m \n",
      "\t\t\t\t\t Custom_2: \u001b[1m0.101664\u001b[0m \n",
      "\t\t\t\t\t ---------\n"
     ]
    },
    {
     "data": {
      "text/plain": [
       "1"
      ]
     },
     "execution_count": 5,
     "metadata": {},
     "output_type": "execute_result"
    }
   ],
   "source": [
    "exp.run(rounds=1, increase=True)"
   ]
  },
  {
   "cell_type": "code",
   "execution_count": null,
   "metadata": {},
   "outputs": [],
   "source": []
  }
 ],
 "metadata": {
  "kernelspec": {
   "display_name": "Python 3 (ipykernel)",
   "language": "python",
   "name": "python3"
  },
  "language_info": {
   "codemirror_mode": {
    "name": "ipython",
    "version": 3
   },
   "file_extension": ".py",
   "mimetype": "text/x-python",
   "name": "python",
   "nbconvert_exporter": "python",
   "pygments_lexer": "ipython3",
   "version": "3.9.7"
  }
 },
 "nbformat": 4,
 "nbformat_minor": 4
}

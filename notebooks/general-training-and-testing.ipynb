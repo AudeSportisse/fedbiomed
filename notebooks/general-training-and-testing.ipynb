{
 "cells": [
  {
   "cell_type": "markdown",
   "metadata": {},
   "source": [
    "# Performing Testing at Each Round of Training "
   ]
  },
  {
   "cell_type": "markdown",
   "metadata": {},
   "source": [
    "Use for developing (autoreloads changes made across packages)"
   ]
  },
  {
   "cell_type": "code",
   "execution_count": 1,
   "metadata": {},
   "outputs": [],
   "source": [
    "%load_ext autoreload\n",
    "%autoreload 2"
   ]
  },
  {
   "cell_type": "markdown",
   "metadata": {},
   "source": [
    "## Start the network\n",
    "Before running this notebook, start the network with `./scripts/fedbiomed_run network`"
   ]
  },
  {
   "cell_type": "markdown",
   "metadata": {},
   "source": [
    "## Setting the node up\n",
    "It is necessary to previously configure a node:\n",
    "1. `./scripts/fedbiomed_run node add`\n",
    "  * Select option 2 (default) to add MNIST to the node\n",
    "  * Confirm default tags by hitting \"y\" and ENTER\n",
    "  * Pick the folder where MNIST is downloaded (this is due torch issue https://github.com/pytorch/vision/issues/3549)\n",
    "  * Data must have been added (if you get a warning saying that data must be unique is because it's been already added)\n",
    "  \n",
    "2. Check that your data has been added by executing `./scripts/fedbiomed_run node list`\n",
    "3. Run the node using `./scripts/fedbiomed_run node run`. Wait until you get `Starting task manager`. it means you are online."
   ]
  },
  {
   "cell_type": "markdown",
   "metadata": {},
   "source": [
    "## Define an experiment model and parameters\""
   ]
  },
  {
   "cell_type": "markdown",
   "metadata": {},
   "source": [
    "Declare a torch.nn MyTrainingPlan class to send for training on the node"
   ]
  },
  {
   "cell_type": "code",
   "execution_count": 1,
   "metadata": {},
   "outputs": [],
   "source": [
    "import torch\n",
    "import torch.nn as nn\n",
    "from fedbiomed.common.training_plans import TorchTrainingPlan\n",
    "from fedbiomed.common.data import DataManager\n",
    "from torchvision import datasets, transforms\n",
    "\n",
    "# Here we define the model to be used. \n",
    "# You can use any class name (here 'Net')\n",
    "class MyTrainingPlan(TorchTrainingPlan):\n",
    "    def __init__(self, model_args: dict = {}):\n",
    "        super(MyTrainingPlan, self).__init__(model_args)\n",
    "        self.conv1 = nn.Conv2d(1, 32, 3, 1)\n",
    "        self.conv2 = nn.Conv2d(32, 64, 3, 1)\n",
    "        self.dropout1 = nn.Dropout(0.25)\n",
    "        self.dropout2 = nn.Dropout(0.5)\n",
    "        self.fc1 = nn.Linear(9216, 128)\n",
    "        self.fc2 = nn.Linear(128, 10)\n",
    "        \n",
    "        # Here we define the custom dependencies that will be needed by our custom Dataloader\n",
    "        # In this case, we need the torch DataLoader classes\n",
    "        # Since we will train on MNIST, we need datasets and transform from torchvision\n",
    "        deps = [\"from torchvision import datasets, transforms\"]\n",
    "        \n",
    "        self.add_dependency(deps)\n",
    "\n",
    "    def forward(self, x):\n",
    "        x = self.conv1(x)\n",
    "        x = F.relu(x)\n",
    "        x = self.conv2(x)\n",
    "        x = F.relu(x)\n",
    "        x = F.max_pool2d(x, 2)\n",
    "        x = self.dropout1(x)\n",
    "        x = torch.flatten(x, 1)\n",
    "        x = self.fc1(x)\n",
    "        x = F.relu(x)\n",
    "        x = self.dropout2(x)\n",
    "        x = self.fc2(x)\n",
    "        \n",
    "        \n",
    "        output = F.log_softmax(x, dim=1)\n",
    "        return output\n",
    "\n",
    "    def training_data(self, batch_size = 48):\n",
    "        # Custom torch Dataloader for MNIST data\n",
    "        transform = transforms.Compose([transforms.ToTensor(),\n",
    "        transforms.Normalize((0.1307,), (0.3081,))])\n",
    "        dataset1 = datasets.MNIST(self.dataset_path, train=True, download=False, transform=transform)\n",
    "        train_kwargs = {'batch_size': batch_size, 'shuffle': True}\n",
    "        return DataManager(dataset=dataset1, **train_kwargs)\n",
    "    \n",
    "    def training_step(self, data, target):\n",
    "        output = self.forward(data)\n",
    "        loss   = torch.nn.functional.nll_loss(output, target)\n",
    "        return loss\n"
   ]
  },
  {
   "cell_type": "markdown",
   "metadata": {},
   "source": [
    "This group of arguments correspond respectively:\n",
    "* `model_args`: a dictionary with the arguments related to the model (e.g. number of layers, features, etc.). This will be passed to the model class on the node side.\n",
    "* `training_args`: a dictionary containing the arguments for the training routine (e.g. batch size, learning rate, epochs, etc.). This will be passed to the routine on the node side.\n",
    "\n",
    "**NOTE:** typos and/or lack of positional (required) arguments will raise error. 🤓"
   ]
  },
  {
   "cell_type": "code",
   "execution_count": 2,
   "metadata": {
    "pycharm": {
     "name": "#%%\n"
    }
   },
   "outputs": [],
   "source": [
    "model_args = {}\n",
    "\n",
    "training_args = {\n",
    "    'batch_size': 48, \n",
    "    'lr': 1e-3, \n",
    "    'epochs': 1, \n",
    "    'dry_run': False,  \n",
    "    'batch_maxnum': 100, # Fast pass for development : only use ( batch_maxnum * batch_size ) samples\n",
    "    'test_ratio': .3,\n",
    "    'test_on_local_updates': True, \n",
    "    'test_on_global_updates': True\n",
    "}"
   ]
  },
  {
   "cell_type": "markdown",
   "metadata": {},
   "source": [
    "## Declare and run the experiment\n",
    "\n",
    "- search nodes serving data for these `tags`, optionally filter on a list of node ID with `nodes`\n",
    "- run a round of local training on nodes with model defined in `model_path` + federation with `aggregator`\n",
    "- run for `round_limit` rounds, applying the `node_selection_strategy` between the rounds"
   ]
  },
  {
   "cell_type": "code",
   "execution_count": 3,
   "metadata": {
    "pycharm": {
     "name": "#%%\n"
    },
    "scrolled": true
   },
   "outputs": [
    {
     "name": "stderr",
     "output_type": "stream",
     "text": [
      "2022-03-24 16:54:53,613 fedbiomed INFO - Component environment:\n",
      "2022-03-24 16:54:53,613 fedbiomed INFO - type = ComponentType.RESEARCHER\n",
      "2022-03-24 16:54:53,847 fedbiomed INFO - Messaging researcher_8b7f6b87-cc47-4ec3-bd46-4665fa573849 successfully connected to the message broker, object = <fedbiomed.common.messaging.Messaging object at 0x7fac8ecfaa00>\n",
      "2022-03-24 16:54:53,873 fedbiomed INFO - Searching dataset with data tags: ['#MNIST', '#dataset'] for all nodes\n",
      "2022-03-24 16:55:03,885 fedbiomed INFO - Node selected for training -> node_bd747f4b-d47a-4172-bd61-18e0ca3a2a9c\n",
      "2022-03-24 16:55:03,930 fedbiomed DEBUG - Model file has been saved: /home/ybouilla/fedbiomed/var/experiments/Experiment_0000/my_model_6dc6461e-f223-4cde-af95-0f180ea3772c.py\n",
      "2022-03-24 16:55:04,082 fedbiomed DEBUG - upload (HTTP POST request) of file /home/ybouilla/fedbiomed/var/experiments/Experiment_0000/my_model_6dc6461e-f223-4cde-af95-0f180ea3772c.py successful, with status code 201\n",
      "2022-03-24 16:55:04,206 fedbiomed DEBUG - upload (HTTP POST request) of file /home/ybouilla/fedbiomed/var/experiments/Experiment_0000/aggregated_params_init_dfe5b0be-e8c1-4191-92c1-578b81777fd4.pt successful, with status code 201\n"
     ]
    }
   ],
   "source": [
    "from fedbiomed.researcher.experiment import Experiment\n",
    "from fedbiomed.researcher.aggregators.fedavg import FedAverage\n",
    "\n",
    "tags =  ['#MNIST', '#dataset']\n",
    "rounds = 2\n",
    "\n",
    "exp = Experiment(tags=tags,\n",
    "                 model_args=model_args,\n",
    "                 model_class=MyTrainingPlan,\n",
    "                 training_args=training_args,\n",
    "                 round_limit=rounds,\n",
    "                 aggregator=FedAverage(),\n",
    "                 node_selection_strategy=None)"
   ]
  },
  {
   "cell_type": "markdown",
   "metadata": {
    "pycharm": {
     "name": "#%% md\n"
    }
   },
   "source": [
    "Let's start the experiment.\n",
    "\n",
    "By default, this function doesn't stop until all the `round_limit` rounds are done for all the nodes"
   ]
  },
  {
   "cell_type": "code",
   "execution_count": 4,
   "metadata": {},
   "outputs": [
    {
     "name": "stderr",
     "output_type": "stream",
     "text": [
      "2022-03-24 16:55:04,210 fedbiomed INFO - Sampled nodes in round 0 ['node_bd747f4b-d47a-4172-bd61-18e0ca3a2a9c']\n",
      "2022-03-24 16:55:04,212 fedbiomed INFO - Send message to node node_bd747f4b-d47a-4172-bd61-18e0ca3a2a9c - {'researcher_id': 'researcher_8b7f6b87-cc47-4ec3-bd46-4665fa573849', 'job_id': 'a8274171-07f0-4c75-9c43-5923cfb0faf8', 'training_args': {'test_ratio': 0.3, 'test_on_local_updates': True, 'test_on_global_updates': True, 'test_metric': None, 'test_metric_args': {}, 'batch_size': 48, 'lr': 0.001, 'epochs': 1, 'dry_run': False, 'batch_maxnum': 100}, 'training': True, 'model_args': {}, 'command': 'train', 'model_url': 'http://localhost:8844/media/uploads/2022/03/24/my_model_6dc6461e-f223-4cde-af95-0f180ea3772c.py', 'params_url': 'http://localhost:8844/media/uploads/2022/03/24/aggregated_params_init_dfe5b0be-e8c1-4191-92c1-578b81777fd4.pt', 'model_class': 'MyTrainingPlan', 'training_data': {'node_bd747f4b-d47a-4172-bd61-18e0ca3a2a9c': ['dataset_2af1ef7b-d8cf-4504-8315-9c681b222edd']}}\n",
      "2022-03-24 16:55:04,212 fedbiomed DEBUG - researcher_8b7f6b87-cc47-4ec3-bd46-4665fa573849\n",
      "2022-03-24 16:55:04,555 fedbiomed INFO - \u001b[1mINFO FROM NODE\u001b[0m node_bd747f4b-d47a-4172-bd61-18e0ca3a2a9c\n",
      "\u001b[1mMESSAGE:\u001b[0m \n",
      "training with arguments {'history_monitor': <fedbiomed.node.history_monitor.HistoryMonitor object at 0x7f5c7fddf6d0>, 'node_args': {'gpu': False, 'gpu_num': None, 'gpu_only': False}, 'batch_size': 48, 'lr': 0.001, 'epochs': 1, 'dry_run': False, 'batch_maxnum': 100}\u001b[0m\n",
      "----------------------------------------\n",
      "2022-03-24 16:55:10,943 fedbiomed INFO - \u001b[1mTESTING ON GLOBAL PARAMETERS\u001b[0m \n",
      "\t\t\t\t\t NODE_ID: node_bd747f4b-d47a-4172-bd61-18e0ca3a2a9c \n",
      "\t\t\t\t\t Completed: 18000/18000 (100%) \n",
      " \t\t\t\t\t ACCURACY: \u001b[1m0.095333\u001b[0m \n",
      "\t\t\t\t\t ---------\n",
      "2022-03-24 16:55:11,382 fedbiomed INFO - \u001b[1mTRAINING\u001b[0m \n",
      "\t\t\t\t\t NODE_ID: node_bd747f4b-d47a-4172-bd61-18e0ca3a2a9c \n",
      "\t\t\t\t\t Epoch: 1 | Completed: 480/42000 (1%) \n",
      " \t\t\t\t\t Loss: \u001b[1m1.474756\u001b[0m \n",
      "\t\t\t\t\t ---------\n",
      "2022-03-24 16:55:11,822 fedbiomed INFO - \u001b[1mTRAINING\u001b[0m \n",
      "\t\t\t\t\t NODE_ID: node_bd747f4b-d47a-4172-bd61-18e0ca3a2a9c \n",
      "\t\t\t\t\t Epoch: 1 | Completed: 960/42000 (2%) \n",
      " \t\t\t\t\t Loss: \u001b[1m1.014723\u001b[0m \n",
      "\t\t\t\t\t ---------\n",
      "2022-03-24 16:55:12,256 fedbiomed INFO - \u001b[1mTRAINING\u001b[0m \n",
      "\t\t\t\t\t NODE_ID: node_bd747f4b-d47a-4172-bd61-18e0ca3a2a9c \n",
      "\t\t\t\t\t Epoch: 1 | Completed: 1440/42000 (3%) \n",
      " \t\t\t\t\t Loss: \u001b[1m0.428783\u001b[0m \n",
      "\t\t\t\t\t ---------\n",
      "2022-03-24 16:55:12,693 fedbiomed INFO - \u001b[1mTRAINING\u001b[0m \n",
      "\t\t\t\t\t NODE_ID: node_bd747f4b-d47a-4172-bd61-18e0ca3a2a9c \n",
      "\t\t\t\t\t Epoch: 1 | Completed: 1920/42000 (5%) \n",
      " \t\t\t\t\t Loss: \u001b[1m0.490296\u001b[0m \n",
      "\t\t\t\t\t ---------\n",
      "2022-03-24 16:55:13,212 fedbiomed INFO - \u001b[1mTRAINING\u001b[0m \n",
      "\t\t\t\t\t NODE_ID: node_bd747f4b-d47a-4172-bd61-18e0ca3a2a9c \n",
      "\t\t\t\t\t Epoch: 1 | Completed: 2400/42000 (6%) \n",
      " \t\t\t\t\t Loss: \u001b[1m0.848561\u001b[0m \n",
      "\t\t\t\t\t ---------\n",
      "2022-03-24 16:55:13,668 fedbiomed INFO - \u001b[1mTRAINING\u001b[0m \n",
      "\t\t\t\t\t NODE_ID: node_bd747f4b-d47a-4172-bd61-18e0ca3a2a9c \n",
      "\t\t\t\t\t Epoch: 1 | Completed: 2880/42000 (7%) \n",
      " \t\t\t\t\t Loss: \u001b[1m0.544199\u001b[0m \n",
      "\t\t\t\t\t ---------\n",
      "2022-03-24 16:55:14,175 fedbiomed INFO - \u001b[1mTRAINING\u001b[0m \n",
      "\t\t\t\t\t NODE_ID: node_bd747f4b-d47a-4172-bd61-18e0ca3a2a9c \n",
      "\t\t\t\t\t Epoch: 1 | Completed: 3360/42000 (8%) \n",
      " \t\t\t\t\t Loss: \u001b[1m0.285330\u001b[0m \n",
      "\t\t\t\t\t ---------\n",
      "2022-03-24 16:55:14,606 fedbiomed INFO - \u001b[1mTRAINING\u001b[0m \n",
      "\t\t\t\t\t NODE_ID: node_bd747f4b-d47a-4172-bd61-18e0ca3a2a9c \n",
      "\t\t\t\t\t Epoch: 1 | Completed: 3840/42000 (9%) \n",
      " \t\t\t\t\t Loss: \u001b[1m0.533858\u001b[0m \n",
      "\t\t\t\t\t ---------\n",
      "2022-03-24 16:55:15,035 fedbiomed INFO - \u001b[1mTRAINING\u001b[0m \n",
      "\t\t\t\t\t NODE_ID: node_bd747f4b-d47a-4172-bd61-18e0ca3a2a9c \n",
      "\t\t\t\t\t Epoch: 1 | Completed: 4320/42000 (10%) \n",
      " \t\t\t\t\t Loss: \u001b[1m0.408191\u001b[0m \n",
      "\t\t\t\t\t ---------\n",
      "2022-03-24 16:55:21,775 fedbiomed INFO - \u001b[1mTESTING ON GLOBAL PARAMETERS\u001b[0m \n",
      "\t\t\t\t\t NODE_ID: node_bd747f4b-d47a-4172-bd61-18e0ca3a2a9c \n",
      "\t\t\t\t\t Completed: 18000/18000 (100%) \n",
      " \t\t\t\t\t ACCURACY: \u001b[1m0.935167\u001b[0m \n",
      "\t\t\t\t\t ---------\n",
      "2022-03-24 16:55:21,933 fedbiomed INFO - \u001b[1mINFO FROM NODE\u001b[0m node_bd747f4b-d47a-4172-bd61-18e0ca3a2a9c\n",
      "\u001b[1mMESSAGE:\u001b[0m \n",
      "results uploaded successfully \u001b[0m\n",
      "----------------------------------------\n",
      "2022-03-24 16:55:29,242 fedbiomed INFO - Downloading model params after training on node_bd747f4b-d47a-4172-bd61-18e0ca3a2a9c - from http://localhost:8844/media/uploads/2022/03/24/node_params_3d05f879-8c3f-4301-8c99-573f45c3e71c.pt\n",
      "2022-03-24 16:55:29,377 fedbiomed DEBUG - upload (HTTP GET request) of file node_params_d367d147-3564-4a13-97dc-cf002b83e763.pt successful, with status code 200\n",
      "2022-03-24 16:55:29,385 fedbiomed INFO - Nodes that successfully reply in round 0 ['node_bd747f4b-d47a-4172-bd61-18e0ca3a2a9c']\n",
      "2022-03-24 16:55:29,627 fedbiomed DEBUG - upload (HTTP POST request) of file /home/ybouilla/fedbiomed/var/experiments/Experiment_0000/aggregated_params_9f760c89-3c04-4938-ab6b-96906b38ffa0.pt successful, with status code 201\n",
      "2022-03-24 16:55:29,629 fedbiomed INFO - Saved aggregated params for round 0 in /home/ybouilla/fedbiomed/var/experiments/Experiment_0000/aggregated_params_9f760c89-3c04-4938-ab6b-96906b38ffa0.pt\n",
      "2022-03-24 16:55:29,629 fedbiomed INFO - Sampled nodes in round 1 ['node_bd747f4b-d47a-4172-bd61-18e0ca3a2a9c']\n",
      "2022-03-24 16:55:29,630 fedbiomed INFO - Send message to node node_bd747f4b-d47a-4172-bd61-18e0ca3a2a9c - {'researcher_id': 'researcher_8b7f6b87-cc47-4ec3-bd46-4665fa573849', 'job_id': 'a8274171-07f0-4c75-9c43-5923cfb0faf8', 'training_args': {'test_ratio': 0.3, 'test_on_local_updates': True, 'test_on_global_updates': True, 'test_metric': None, 'test_metric_args': {}, 'batch_size': 48, 'lr': 0.001, 'epochs': 1, 'dry_run': False, 'batch_maxnum': 100}, 'training': True, 'model_args': {}, 'command': 'train', 'model_url': 'http://localhost:8844/media/uploads/2022/03/24/my_model_6dc6461e-f223-4cde-af95-0f180ea3772c.py', 'params_url': 'http://localhost:8844/media/uploads/2022/03/24/aggregated_params_9f760c89-3c04-4938-ab6b-96906b38ffa0.pt', 'model_class': 'MyTrainingPlan', 'training_data': {'node_bd747f4b-d47a-4172-bd61-18e0ca3a2a9c': ['dataset_2af1ef7b-d8cf-4504-8315-9c681b222edd']}}\n",
      "2022-03-24 16:55:29,631 fedbiomed DEBUG - researcher_8b7f6b87-cc47-4ec3-bd46-4665fa573849\n",
      "2022-03-24 16:55:29,709 fedbiomed INFO - \u001b[1mINFO FROM NODE\u001b[0m node_bd747f4b-d47a-4172-bd61-18e0ca3a2a9c\n",
      "\u001b[1mMESSAGE:\u001b[0m \n",
      "training with arguments {'history_monitor': <fedbiomed.node.history_monitor.HistoryMonitor object at 0x7f5c80057190>, 'node_args': {'gpu': False, 'gpu_num': None, 'gpu_only': False}, 'batch_size': 48, 'lr': 0.001, 'epochs': 1, 'dry_run': False, 'batch_maxnum': 100}\u001b[0m\n",
      "----------------------------------------\n",
      "2022-03-24 16:55:36,217 fedbiomed INFO - \u001b[1mTESTING ON GLOBAL PARAMETERS\u001b[0m \n",
      "\t\t\t\t\t NODE_ID: node_bd747f4b-d47a-4172-bd61-18e0ca3a2a9c \n",
      "\t\t\t\t\t Completed: 18000/18000 (100%) \n",
      " \t\t\t\t\t ACCURACY: \u001b[1m0.933722\u001b[0m \n",
      "\t\t\t\t\t ---------\n",
      "2022-03-24 16:55:36,669 fedbiomed INFO - \u001b[1mTRAINING\u001b[0m \n",
      "\t\t\t\t\t NODE_ID: node_bd747f4b-d47a-4172-bd61-18e0ca3a2a9c \n",
      "\t\t\t\t\t Epoch: 1 | Completed: 480/42000 (1%) \n",
      " \t\t\t\t\t Loss: \u001b[1m0.347326\u001b[0m \n",
      "\t\t\t\t\t ---------\n",
      "2022-03-24 16:55:37,104 fedbiomed INFO - \u001b[1mTRAINING\u001b[0m \n",
      "\t\t\t\t\t NODE_ID: node_bd747f4b-d47a-4172-bd61-18e0ca3a2a9c \n",
      "\t\t\t\t\t Epoch: 1 | Completed: 960/42000 (2%) \n",
      " \t\t\t\t\t Loss: \u001b[1m0.457537\u001b[0m \n",
      "\t\t\t\t\t ---------\n",
      "2022-03-24 16:55:37,549 fedbiomed INFO - \u001b[1mTRAINING\u001b[0m \n",
      "\t\t\t\t\t NODE_ID: node_bd747f4b-d47a-4172-bd61-18e0ca3a2a9c \n",
      "\t\t\t\t\t Epoch: 1 | Completed: 1440/42000 (3%) \n",
      " \t\t\t\t\t Loss: \u001b[1m0.313502\u001b[0m \n",
      "\t\t\t\t\t ---------\n",
      "2022-03-24 16:55:37,980 fedbiomed INFO - \u001b[1mTRAINING\u001b[0m \n",
      "\t\t\t\t\t NODE_ID: node_bd747f4b-d47a-4172-bd61-18e0ca3a2a9c \n",
      "\t\t\t\t\t Epoch: 1 | Completed: 1920/42000 (5%) \n",
      " \t\t\t\t\t Loss: \u001b[1m0.046523\u001b[0m \n",
      "\t\t\t\t\t ---------\n",
      "2022-03-24 16:55:38,410 fedbiomed INFO - \u001b[1mTRAINING\u001b[0m \n",
      "\t\t\t\t\t NODE_ID: node_bd747f4b-d47a-4172-bd61-18e0ca3a2a9c \n",
      "\t\t\t\t\t Epoch: 1 | Completed: 2400/42000 (6%) \n",
      " \t\t\t\t\t Loss: \u001b[1m0.209025\u001b[0m \n",
      "\t\t\t\t\t ---------\n",
      "2022-03-24 16:55:38,841 fedbiomed INFO - \u001b[1mTRAINING\u001b[0m \n",
      "\t\t\t\t\t NODE_ID: node_bd747f4b-d47a-4172-bd61-18e0ca3a2a9c \n",
      "\t\t\t\t\t Epoch: 1 | Completed: 2880/42000 (7%) \n",
      " \t\t\t\t\t Loss: \u001b[1m0.108717\u001b[0m \n",
      "\t\t\t\t\t ---------\n",
      "2022-03-24 16:55:39,271 fedbiomed INFO - \u001b[1mTRAINING\u001b[0m \n",
      "\t\t\t\t\t NODE_ID: node_bd747f4b-d47a-4172-bd61-18e0ca3a2a9c \n",
      "\t\t\t\t\t Epoch: 1 | Completed: 3360/42000 (8%) \n",
      " \t\t\t\t\t Loss: \u001b[1m0.137007\u001b[0m \n",
      "\t\t\t\t\t ---------\n"
     ]
    },
    {
     "name": "stderr",
     "output_type": "stream",
     "text": [
      "2022-03-24 16:55:39,723 fedbiomed INFO - \u001b[1mTRAINING\u001b[0m \n",
      "\t\t\t\t\t NODE_ID: node_bd747f4b-d47a-4172-bd61-18e0ca3a2a9c \n",
      "\t\t\t\t\t Epoch: 1 | Completed: 3840/42000 (9%) \n",
      " \t\t\t\t\t Loss: \u001b[1m0.086987\u001b[0m \n",
      "\t\t\t\t\t ---------\n",
      "2022-03-24 16:55:40,158 fedbiomed INFO - \u001b[1mTRAINING\u001b[0m \n",
      "\t\t\t\t\t NODE_ID: node_bd747f4b-d47a-4172-bd61-18e0ca3a2a9c \n",
      "\t\t\t\t\t Epoch: 1 | Completed: 4320/42000 (10%) \n",
      " \t\t\t\t\t Loss: \u001b[1m0.156350\u001b[0m \n",
      "\t\t\t\t\t ---------\n",
      "2022-03-24 16:55:46,636 fedbiomed INFO - \u001b[1mTESTING ON GLOBAL PARAMETERS\u001b[0m \n",
      "\t\t\t\t\t NODE_ID: node_bd747f4b-d47a-4172-bd61-18e0ca3a2a9c \n",
      "\t\t\t\t\t Completed: 18000/18000 (100%) \n",
      " \t\t\t\t\t ACCURACY: \u001b[1m0.961167\u001b[0m \n",
      "\t\t\t\t\t ---------\n",
      "2022-03-24 16:55:46,780 fedbiomed INFO - \u001b[1mINFO FROM NODE\u001b[0m node_bd747f4b-d47a-4172-bd61-18e0ca3a2a9c\n",
      "\u001b[1mMESSAGE:\u001b[0m \n",
      "results uploaded successfully \u001b[0m\n",
      "----------------------------------------\n",
      "2022-03-24 16:55:54,658 fedbiomed INFO - Downloading model params after training on node_bd747f4b-d47a-4172-bd61-18e0ca3a2a9c - from http://localhost:8844/media/uploads/2022/03/24/node_params_2fa02332-b3dd-4f9a-92e9-eb9f2579bd2e.pt\n",
      "2022-03-24 16:55:54,684 fedbiomed DEBUG - upload (HTTP GET request) of file node_params_8812034c-347e-4064-88c5-4dcc707d9a40.pt successful, with status code 200\n",
      "2022-03-24 16:55:54,692 fedbiomed INFO - Nodes that successfully reply in round 1 ['node_bd747f4b-d47a-4172-bd61-18e0ca3a2a9c']\n",
      "2022-03-24 16:55:54,834 fedbiomed DEBUG - upload (HTTP POST request) of file /home/ybouilla/fedbiomed/var/experiments/Experiment_0000/aggregated_params_a0accb65-834e-4d2f-b748-a2360b0c5b0a.pt successful, with status code 201\n",
      "2022-03-24 16:55:54,835 fedbiomed INFO - Saved aggregated params for round 1 in /home/ybouilla/fedbiomed/var/experiments/Experiment_0000/aggregated_params_a0accb65-834e-4d2f-b748-a2360b0c5b0a.pt\n",
      "2022-03-24 16:55:54,836 fedbiomed INFO - Send message to node node_bd747f4b-d47a-4172-bd61-18e0ca3a2a9c - {'researcher_id': 'researcher_8b7f6b87-cc47-4ec3-bd46-4665fa573849', 'job_id': 'a8274171-07f0-4c75-9c43-5923cfb0faf8', 'training_args': {'test_ratio': 0.3, 'test_on_local_updates': True, 'test_on_global_updates': True, 'test_metric': None, 'test_metric_args': {}, 'batch_size': 48, 'lr': 0.001, 'epochs': 1, 'dry_run': False, 'batch_maxnum': 100}, 'training': False, 'model_args': {}, 'command': 'train', 'model_url': 'http://localhost:8844/media/uploads/2022/03/24/my_model_6dc6461e-f223-4cde-af95-0f180ea3772c.py', 'params_url': 'http://localhost:8844/media/uploads/2022/03/24/aggregated_params_a0accb65-834e-4d2f-b748-a2360b0c5b0a.pt', 'model_class': 'MyTrainingPlan', 'training_data': {'node_bd747f4b-d47a-4172-bd61-18e0ca3a2a9c': ['dataset_2af1ef7b-d8cf-4504-8315-9c681b222edd']}}\n",
      "2022-03-24 16:55:54,837 fedbiomed DEBUG - researcher_8b7f6b87-cc47-4ec3-bd46-4665fa573849\n"
     ]
    },
    {
     "data": {
      "text/plain": [
       "2"
      ]
     },
     "execution_count": 4,
     "metadata": {},
     "output_type": "execute_result"
    },
    {
     "name": "stderr",
     "output_type": "stream",
     "text": [
      "2022-03-24 16:55:54,933 fedbiomed INFO - \u001b[1mINFO FROM NODE\u001b[0m node_bd747f4b-d47a-4172-bd61-18e0ca3a2a9c\n",
      "\u001b[1mMESSAGE:\u001b[0m \n",
      "training with arguments {'history_monitor': <fedbiomed.node.history_monitor.HistoryMonitor object at 0x7f5c7fe50bb0>, 'node_args': {'gpu': False, 'gpu_num': None, 'gpu_only': False}, 'batch_size': 48, 'lr': 0.001, 'epochs': 1, 'dry_run': False, 'batch_maxnum': 100}\u001b[0m\n",
      "----------------------------------------\n",
      "2022-03-24 16:56:01,489 fedbiomed INFO - \u001b[1mTESTING ON GLOBAL PARAMETERS\u001b[0m \n",
      "\t\t\t\t\t NODE_ID: node_bd747f4b-d47a-4172-bd61-18e0ca3a2a9c \n",
      "\t\t\t\t\t Completed: 18000/18000 (100%) \n",
      " \t\t\t\t\t ACCURACY: \u001b[1m0.965000\u001b[0m \n",
      "\t\t\t\t\t ---------\n"
     ]
    }
   ],
   "source": [
    "exp.run()"
   ]
  },
  {
   "cell_type": "code",
   "execution_count": null,
   "metadata": {
    "pycharm": {
     "name": "#%%\n"
    },
    "scrolled": true
   },
   "outputs": [],
   "source": [
    "exp.run(rounds=8, increase=True)"
   ]
  },
  {
   "cell_type": "markdown",
   "metadata": {},
   "source": [
    "Local training results for each round and each node are available via `exp.training_replies()` (index 0 to (`rounds` - 1) ).\n",
    "\n",
    "For example you can view the training results for the last round below.\n",
    "\n",
    "Different timings (in seconds) are reported for each dataset of a node participating in a round :\n",
    "- `rtime_training` real time (clock time) spent in the training function on the node\n",
    "- `ptime_training` process time (user and system CPU) spent in the training function on the node\n",
    "- `rtime_total` real time (clock time) spent in the researcher between sending the request and handling the response, at the `Job()` layer"
   ]
  },
  {
   "cell_type": "code",
   "execution_count": 5,
   "metadata": {
    "pycharm": {
     "name": "#%%\n"
    },
    "scrolled": true
   },
   "outputs": [
    {
     "name": "stdout",
     "output_type": "stream",
     "text": [
      "\n",
      "List the training rounds :  dict_keys([0, 1])\n",
      "\n",
      "List the nodes for the last training round and their timings : \n",
      "\t- node_bd747f4b-d47a-4172-bd61-18e0ca3a2a9c :    \n",
      "\t\trtime_training=4.37 seconds    \n",
      "\t\tptime_training=17.36 seconds    \n",
      "\t\trtime_total=25.03 seconds\n",
      "\n",
      "\n"
     ]
    },
    {
     "data": {
      "text/html": [
       "<div>\n",
       "<style scoped>\n",
       "    .dataframe tbody tr th:only-of-type {\n",
       "        vertical-align: middle;\n",
       "    }\n",
       "\n",
       "    .dataframe tbody tr th {\n",
       "        vertical-align: top;\n",
       "    }\n",
       "\n",
       "    .dataframe thead th {\n",
       "        text-align: right;\n",
       "    }\n",
       "</style>\n",
       "<table border=\"1\" class=\"dataframe\">\n",
       "  <thead>\n",
       "    <tr style=\"text-align: right;\">\n",
       "      <th></th>\n",
       "      <th>success</th>\n",
       "      <th>msg</th>\n",
       "      <th>dataset_id</th>\n",
       "      <th>node_id</th>\n",
       "      <th>params_path</th>\n",
       "      <th>params</th>\n",
       "      <th>timing</th>\n",
       "    </tr>\n",
       "  </thead>\n",
       "  <tbody>\n",
       "    <tr>\n",
       "      <th>0</th>\n",
       "      <td>True</td>\n",
       "      <td></td>\n",
       "      <td>dataset_2af1ef7b-d8cf-4504-8315-9c681b222edd</td>\n",
       "      <td>node_bd747f4b-d47a-4172-bd61-18e0ca3a2a9c</td>\n",
       "      <td>/home/ybouilla/fedbiomed/var/experiments/Exper...</td>\n",
       "      <td>{'conv1.weight': [[tensor([[-0.2735,  0.0247, ...</td>\n",
       "      <td>{'rtime_training': 4.370531685999595, 'ptime_t...</td>\n",
       "    </tr>\n",
       "  </tbody>\n",
       "</table>\n",
       "</div>"
      ],
      "text/plain": [
       "   success msg                                    dataset_id  \\\n",
       "0     True      dataset_2af1ef7b-d8cf-4504-8315-9c681b222edd   \n",
       "\n",
       "                                     node_id  \\\n",
       "0  node_bd747f4b-d47a-4172-bd61-18e0ca3a2a9c   \n",
       "\n",
       "                                         params_path  \\\n",
       "0  /home/ybouilla/fedbiomed/var/experiments/Exper...   \n",
       "\n",
       "                                              params  \\\n",
       "0  {'conv1.weight': [[tensor([[-0.2735,  0.0247, ...   \n",
       "\n",
       "                                              timing  \n",
       "0  {'rtime_training': 4.370531685999595, 'ptime_t...  "
      ]
     },
     "execution_count": 5,
     "metadata": {},
     "output_type": "execute_result"
    }
   ],
   "source": [
    "print(\"\\nList the training rounds : \", exp.training_replies().keys())\n",
    "\n",
    "print(\"\\nList the nodes for the last training round and their timings : \")\n",
    "round_data = exp.training_replies()[rounds - 1].data()\n",
    "for c in range(len(round_data)):\n",
    "    print(\"\\t- {id} :\\\n",
    "    \\n\\t\\trtime_training={rtraining:.2f} seconds\\\n",
    "    \\n\\t\\tptime_training={ptraining:.2f} seconds\\\n",
    "    \\n\\t\\trtime_total={rtotal:.2f} seconds\".format(id = round_data[c]['node_id'],\n",
    "        rtraining = round_data[c]['timing']['rtime_training'],\n",
    "        ptraining = round_data[c]['timing']['ptime_training'],\n",
    "        rtotal = round_data[c]['timing']['rtime_total']))\n",
    "print('\\n')\n",
    "    \n",
    "exp.training_replies()[rounds - 1].dataframe()"
   ]
  },
  {
   "cell_type": "markdown",
   "metadata": {},
   "source": [
    "Federated parameters for each round are available via `exp.aggregated_params()` (index 0 to (`rounds` - 1) ).\n",
    "\n",
    "For example you can view the federated parameters for the last round of the experiment :"
   ]
  },
  {
   "cell_type": "code",
   "execution_count": 6,
   "metadata": {},
   "outputs": [
    {
     "name": "stdout",
     "output_type": "stream",
     "text": [
      "\n",
      "List the training rounds :  dict_keys([0, 1])\n",
      "\n",
      "Access the federated params for the last training round :\n",
      "\t- params_path:  /home/ybouilla/fedbiomed/var/experiments/Experiment_0000/aggregated_params_a0accb65-834e-4d2f-b748-a2360b0c5b0a.pt\n",
      "\t- parameter data:  odict_keys(['conv1.weight', 'conv1.bias', 'conv2.weight', 'conv2.bias', 'fc1.weight', 'fc1.bias', 'fc2.weight', 'fc2.bias'])\n"
     ]
    }
   ],
   "source": [
    "print(\"\\nList the training rounds : \", exp.aggregated_params().keys())\n",
    "\n",
    "print(\"\\nAccess the federated params for the last training round :\")\n",
    "print(\"\\t- params_path: \", exp.aggregated_params()[rounds - 1]['params_path'])\n",
    "print(\"\\t- parameter data: \", exp.aggregated_params()[rounds - 1]['params'].keys())\n"
   ]
  },
  {
   "cell_type": "markdown",
   "metadata": {
    "pycharm": {
     "name": "#%% md\n"
    }
   },
   "source": [
    "Feel free to run other sample notebooks or try your own models :D\n",
    "\n",
    "## Testing using your own testing metric"
   ]
  },
  {
   "cell_type": "code",
   "execution_count": 1,
   "metadata": {},
   "outputs": [],
   "source": [
    "import torch\n",
    "import torch.nn as nn\n",
    "from fedbiomed.common.training_plans import TorchTrainingPlan\n",
    "from fedbiomed.common.data import DataManager\n",
    "from torchvision import datasets, transforms\n",
    "\n",
    "# Here we define the model to be used. \n",
    "# You can use any class name (here 'Net')\n",
    "class MyTrainingPlanCM(TorchTrainingPlan):\n",
    "    def __init__(self, model_args: dict = {}):\n",
    "        super(MyTrainingPlanCM, self).__init__(model_args)\n",
    "        self.conv1 = nn.Conv2d(1, 32, 3, 1)\n",
    "        self.conv2 = nn.Conv2d(32, 64, 3, 1)\n",
    "        self.dropout1 = nn.Dropout(0.25)\n",
    "        self.dropout2 = nn.Dropout(0.5)\n",
    "        self.fc1 = nn.Linear(9216, 128)\n",
    "        self.fc2 = nn.Linear(128, 10)\n",
    "        \n",
    "        # Here we define the custom dependencies that will be needed by our custom Dataloader\n",
    "        # In this case, we need the torch DataLoader classes\n",
    "        # Since we will train on MNIST, we need datasets and transform from torchvision\n",
    "        deps = [\"from torchvision import datasets, transforms\"]\n",
    "        \n",
    "        self.add_dependency(deps)\n",
    "\n",
    "    def forward(self, x):\n",
    "        x = self.conv1(x)\n",
    "        x = F.relu(x)\n",
    "        x = self.conv2(x)\n",
    "        x = F.relu(x)\n",
    "        x = F.max_pool2d(x, 2)\n",
    "        x = self.dropout1(x)\n",
    "        x = torch.flatten(x, 1)\n",
    "        x = self.fc1(x)\n",
    "        x = F.relu(x)\n",
    "        x = self.dropout2(x)\n",
    "        x = self.fc2(x)\n",
    "        \n",
    "        \n",
    "        output = F.log_softmax(x, dim=1)\n",
    "        return output\n",
    "\n",
    "    def training_data(self, batch_size = 48):\n",
    "        # Custom torch Dataloader for MNIST data\n",
    "        transform = transforms.Compose([transforms.ToTensor(),\n",
    "        transforms.Normalize((0.1307,), (0.3081,))])\n",
    "        dataset1 = datasets.MNIST(self.dataset_path, train=True, download=False, transform=transform)\n",
    "        train_kwargs = {'batch_size': batch_size, 'shuffle': True}\n",
    "        return DataManager(dataset=dataset1, **train_kwargs)\n",
    "    \n",
    "    def training_step(self, data, target):\n",
    "        output = self.forward(data)\n",
    "        loss   = torch.nn.functional.nll_loss(output, target)\n",
    "        return loss\n",
    "\n",
    "    def testing_step(self, data, target):\n",
    "        \n",
    "        output = self.forward(data)\n",
    "        loss1   = torch.nn.functional.nll_loss(output, target)\n",
    "        output = self(data)\n",
    "        loss2   = torch.nn.functional.nll_loss(output, target)\n",
    "        return [loss1, loss2]"
   ]
  },
  {
   "cell_type": "code",
   "execution_count": 2,
   "metadata": {},
   "outputs": [],
   "source": [
    "model_args = {}\n",
    "\n",
    "training_args = {\n",
    "    'batch_size': 48, \n",
    "    'lr': 1e-3, \n",
    "    'epochs': 1, \n",
    "    'dry_run': False,  \n",
    "    'batch_maxnum': 100, # Fast pass for development : only use ( batch_maxnum * batch_size ) samples\n",
    "    'test_ratio': .3,\n",
    "    'test_on_local_updates': True, \n",
    "    'test_on_global_updates': True\n",
    "}"
   ]
  },
  {
   "cell_type": "code",
   "execution_count": 3,
   "metadata": {},
   "outputs": [
    {
     "name": "stderr",
     "output_type": "stream",
     "text": [
      "2022-03-24 17:01:27,426 fedbiomed INFO - Component environment:\n",
      "2022-03-24 17:01:27,427 fedbiomed INFO - type = ComponentType.RESEARCHER\n",
      "2022-03-24 17:01:27,591 fedbiomed INFO - Messaging researcher_8b7f6b87-cc47-4ec3-bd46-4665fa573849 successfully connected to the message broker, object = <fedbiomed.common.messaging.Messaging object at 0x7f9664b50eb0>\n",
      "2022-03-24 17:01:27,607 fedbiomed INFO - Searching dataset with data tags: ['#MNIST', '#dataset'] for all nodes\n",
      "2022-03-24 17:01:37,626 fedbiomed INFO - Node selected for training -> node_bd747f4b-d47a-4172-bd61-18e0ca3a2a9c\n",
      "2022-03-24 17:01:37,670 fedbiomed DEBUG - Model file has been saved: /home/ybouilla/fedbiomed/var/experiments/Experiment_0002/my_model_5d7a8f85-a6c2-451e-b7d8-c4cd5376f145.py\n",
      "2022-03-24 17:01:37,686 fedbiomed DEBUG - upload (HTTP POST request) of file /home/ybouilla/fedbiomed/var/experiments/Experiment_0002/my_model_5d7a8f85-a6c2-451e-b7d8-c4cd5376f145.py successful, with status code 201\n",
      "2022-03-24 17:01:37,840 fedbiomed DEBUG - upload (HTTP POST request) of file /home/ybouilla/fedbiomed/var/experiments/Experiment_0002/aggregated_params_init_d0eaf168-9cc7-4f94-af1e-3b27f3359687.pt successful, with status code 201\n"
     ]
    }
   ],
   "source": [
    "from fedbiomed.researcher.experiment import Experiment\n",
    "from fedbiomed.researcher.aggregators.fedavg import FedAverage\n",
    "\n",
    "tags =  ['#MNIST', '#dataset']\n",
    "rounds = 2\n",
    "\n",
    "exp = Experiment(tags=tags,\n",
    "                 model_args=model_args,\n",
    "                 model_class=MyTrainingPlanCM,\n",
    "                 training_args=training_args,\n",
    "                 round_limit=rounds,\n",
    "                 aggregator=FedAverage(),\n",
    "                 node_selection_strategy=None)"
   ]
  },
  {
   "cell_type": "code",
   "execution_count": 4,
   "metadata": {
    "scrolled": false
   },
   "outputs": [
    {
     "name": "stderr",
     "output_type": "stream",
     "text": [
      "2022-03-24 17:01:37,857 fedbiomed INFO - Sampled nodes in round 0 ['node_bd747f4b-d47a-4172-bd61-18e0ca3a2a9c']\n",
      "2022-03-24 17:01:37,859 fedbiomed INFO - Send message to node node_bd747f4b-d47a-4172-bd61-18e0ca3a2a9c - {'researcher_id': 'researcher_8b7f6b87-cc47-4ec3-bd46-4665fa573849', 'job_id': 'aac43ac6-3465-4034-b38d-ba1d7570a961', 'training_args': {'test_ratio': 0.3, 'test_on_local_updates': True, 'test_on_global_updates': True, 'test_metric': None, 'test_metric_args': {}, 'batch_size': 48, 'lr': 0.001, 'epochs': 1, 'dry_run': False, 'batch_maxnum': 100}, 'training': True, 'model_args': {}, 'command': 'train', 'model_url': 'http://localhost:8844/media/uploads/2022/03/24/my_model_5d7a8f85-a6c2-451e-b7d8-c4cd5376f145.py', 'params_url': 'http://localhost:8844/media/uploads/2022/03/24/aggregated_params_init_d0eaf168-9cc7-4f94-af1e-3b27f3359687.pt', 'model_class': 'MyTrainingPlanCM', 'training_data': {'node_bd747f4b-d47a-4172-bd61-18e0ca3a2a9c': ['dataset_2af1ef7b-d8cf-4504-8315-9c681b222edd']}}\n",
      "2022-03-24 17:01:37,861 fedbiomed DEBUG - researcher_8b7f6b87-cc47-4ec3-bd46-4665fa573849\n",
      "2022-03-24 17:01:37,950 fedbiomed INFO - \u001b[1mINFO FROM NODE\u001b[0m node_bd747f4b-d47a-4172-bd61-18e0ca3a2a9c\n",
      "\u001b[1mMESSAGE:\u001b[0m \n",
      "training with arguments {'history_monitor': <fedbiomed.node.history_monitor.HistoryMonitor object at 0x7f5d198813d0>, 'node_args': {'gpu': False, 'gpu_num': None, 'gpu_only': False}, 'batch_size': 48, 'lr': 0.001, 'epochs': 1, 'dry_run': False, 'batch_maxnum': 100}\u001b[0m\n",
      "----------------------------------------\n",
      "2022-03-24 17:01:48,681 fedbiomed INFO - \u001b[1mTESTING ON GLOBAL PARAMETERS\u001b[0m \n",
      "\t\t\t\t\t NODE_ID: node_bd747f4b-d47a-4172-bd61-18e0ca3a2a9c \n",
      "\t\t\t\t\t Completed: 18000/18000 (100%) \n",
      " \t\t\t\t\t Custom_1: \u001b[1m2.309178\u001b[0m \n",
      "\t\t\t\t\t Custom_2: \u001b[1m2.309178\u001b[0m \n",
      "\t\t\t\t\t ---------\n",
      "2022-03-24 17:01:49,142 fedbiomed INFO - \u001b[1mTRAINING\u001b[0m \n",
      "\t\t\t\t\t NODE_ID: node_bd747f4b-d47a-4172-bd61-18e0ca3a2a9c \n",
      "\t\t\t\t\t Epoch: 1 | Completed: 480/42000 (1%) \n",
      " \t\t\t\t\t Loss: \u001b[1m1.477736\u001b[0m \n",
      "\t\t\t\t\t ---------\n",
      "2022-03-24 17:01:49,574 fedbiomed INFO - \u001b[1mTRAINING\u001b[0m \n",
      "\t\t\t\t\t NODE_ID: node_bd747f4b-d47a-4172-bd61-18e0ca3a2a9c \n",
      "\t\t\t\t\t Epoch: 1 | Completed: 960/42000 (2%) \n",
      " \t\t\t\t\t Loss: \u001b[1m0.846066\u001b[0m \n",
      "\t\t\t\t\t ---------\n",
      "2022-03-24 17:01:50,008 fedbiomed INFO - \u001b[1mTRAINING\u001b[0m \n",
      "\t\t\t\t\t NODE_ID: node_bd747f4b-d47a-4172-bd61-18e0ca3a2a9c \n",
      "\t\t\t\t\t Epoch: 1 | Completed: 1440/42000 (3%) \n",
      " \t\t\t\t\t Loss: \u001b[1m0.424956\u001b[0m \n",
      "\t\t\t\t\t ---------\n",
      "2022-03-24 17:01:50,440 fedbiomed INFO - \u001b[1mTRAINING\u001b[0m \n",
      "\t\t\t\t\t NODE_ID: node_bd747f4b-d47a-4172-bd61-18e0ca3a2a9c \n",
      "\t\t\t\t\t Epoch: 1 | Completed: 1920/42000 (5%) \n",
      " \t\t\t\t\t Loss: \u001b[1m0.576173\u001b[0m \n",
      "\t\t\t\t\t ---------\n",
      "2022-03-24 17:01:50,906 fedbiomed INFO - \u001b[1mTRAINING\u001b[0m \n",
      "\t\t\t\t\t NODE_ID: node_bd747f4b-d47a-4172-bd61-18e0ca3a2a9c \n",
      "\t\t\t\t\t Epoch: 1 | Completed: 2400/42000 (6%) \n",
      " \t\t\t\t\t Loss: \u001b[1m0.501087\u001b[0m \n",
      "\t\t\t\t\t ---------\n",
      "2022-03-24 17:01:51,519 fedbiomed INFO - \u001b[1mTRAINING\u001b[0m \n",
      "\t\t\t\t\t NODE_ID: node_bd747f4b-d47a-4172-bd61-18e0ca3a2a9c \n",
      "\t\t\t\t\t Epoch: 1 | Completed: 2880/42000 (7%) \n",
      " \t\t\t\t\t Loss: \u001b[1m0.382490\u001b[0m \n",
      "\t\t\t\t\t ---------\n",
      "2022-03-24 17:01:52,000 fedbiomed INFO - \u001b[1mTRAINING\u001b[0m \n",
      "\t\t\t\t\t NODE_ID: node_bd747f4b-d47a-4172-bd61-18e0ca3a2a9c \n",
      "\t\t\t\t\t Epoch: 1 | Completed: 3360/42000 (8%) \n",
      " \t\t\t\t\t Loss: \u001b[1m0.294272\u001b[0m \n",
      "\t\t\t\t\t ---------\n",
      "2022-03-24 17:01:52,448 fedbiomed INFO - \u001b[1mTRAINING\u001b[0m \n",
      "\t\t\t\t\t NODE_ID: node_bd747f4b-d47a-4172-bd61-18e0ca3a2a9c \n",
      "\t\t\t\t\t Epoch: 1 | Completed: 3840/42000 (9%) \n",
      " \t\t\t\t\t Loss: \u001b[1m0.391575\u001b[0m \n",
      "\t\t\t\t\t ---------\n",
      "2022-03-24 17:01:52,942 fedbiomed INFO - \u001b[1mTRAINING\u001b[0m \n",
      "\t\t\t\t\t NODE_ID: node_bd747f4b-d47a-4172-bd61-18e0ca3a2a9c \n",
      "\t\t\t\t\t Epoch: 1 | Completed: 4320/42000 (10%) \n",
      " \t\t\t\t\t Loss: \u001b[1m0.306940\u001b[0m \n",
      "\t\t\t\t\t ---------\n",
      "2022-03-24 17:02:03,989 fedbiomed INFO - \u001b[1mTESTING ON GLOBAL PARAMETERS\u001b[0m \n",
      "\t\t\t\t\t NODE_ID: node_bd747f4b-d47a-4172-bd61-18e0ca3a2a9c \n",
      "\t\t\t\t\t Completed: 18000/18000 (100%) \n",
      " \t\t\t\t\t Custom_1: \u001b[1m0.191359\u001b[0m \n",
      "\t\t\t\t\t Custom_2: \u001b[1m0.191359\u001b[0m \n",
      "\t\t\t\t\t ---------\n",
      "2022-03-24 17:02:04,132 fedbiomed INFO - \u001b[1mINFO FROM NODE\u001b[0m node_bd747f4b-d47a-4172-bd61-18e0ca3a2a9c\n",
      "\u001b[1mMESSAGE:\u001b[0m \n",
      "results uploaded successfully \u001b[0m\n",
      "----------------------------------------\n",
      "2022-03-24 17:02:12,902 fedbiomed INFO - Downloading model params after training on node_bd747f4b-d47a-4172-bd61-18e0ca3a2a9c - from http://localhost:8844/media/uploads/2022/03/24/node_params_e893a2d8-4e00-41f1-80ca-edee514ec6ff.pt\n",
      "2022-03-24 17:02:12,941 fedbiomed DEBUG - upload (HTTP GET request) of file node_params_32b61bcb-c866-4b3a-adef-ec58268d6e86.pt successful, with status code 200\n",
      "2022-03-24 17:02:12,950 fedbiomed INFO - Nodes that successfully reply in round 0 ['node_bd747f4b-d47a-4172-bd61-18e0ca3a2a9c']\n",
      "2022-03-24 17:02:13,108 fedbiomed DEBUG - upload (HTTP POST request) of file /home/ybouilla/fedbiomed/var/experiments/Experiment_0002/aggregated_params_fdb9fd17-d344-41ba-b00f-f4330417ceb8.pt successful, with status code 201\n",
      "2022-03-24 17:02:13,111 fedbiomed INFO - Saved aggregated params for round 0 in /home/ybouilla/fedbiomed/var/experiments/Experiment_0002/aggregated_params_fdb9fd17-d344-41ba-b00f-f4330417ceb8.pt\n",
      "2022-03-24 17:02:13,112 fedbiomed INFO - Sampled nodes in round 1 ['node_bd747f4b-d47a-4172-bd61-18e0ca3a2a9c']\n",
      "2022-03-24 17:02:13,113 fedbiomed INFO - Send message to node node_bd747f4b-d47a-4172-bd61-18e0ca3a2a9c - {'researcher_id': 'researcher_8b7f6b87-cc47-4ec3-bd46-4665fa573849', 'job_id': 'aac43ac6-3465-4034-b38d-ba1d7570a961', 'training_args': {'test_ratio': 0.3, 'test_on_local_updates': True, 'test_on_global_updates': True, 'test_metric': None, 'test_metric_args': {}, 'batch_size': 48, 'lr': 0.001, 'epochs': 1, 'dry_run': False, 'batch_maxnum': 100}, 'training': True, 'model_args': {}, 'command': 'train', 'model_url': 'http://localhost:8844/media/uploads/2022/03/24/my_model_5d7a8f85-a6c2-451e-b7d8-c4cd5376f145.py', 'params_url': 'http://localhost:8844/media/uploads/2022/03/24/aggregated_params_fdb9fd17-d344-41ba-b00f-f4330417ceb8.pt', 'model_class': 'MyTrainingPlanCM', 'training_data': {'node_bd747f4b-d47a-4172-bd61-18e0ca3a2a9c': ['dataset_2af1ef7b-d8cf-4504-8315-9c681b222edd']}}\n",
      "2022-03-24 17:02:13,115 fedbiomed DEBUG - researcher_8b7f6b87-cc47-4ec3-bd46-4665fa573849\n",
      "2022-03-24 17:02:13,203 fedbiomed INFO - \u001b[1mINFO FROM NODE\u001b[0m node_bd747f4b-d47a-4172-bd61-18e0ca3a2a9c\n",
      "\u001b[1mMESSAGE:\u001b[0m \n",
      "training with arguments {'history_monitor': <fedbiomed.node.history_monitor.HistoryMonitor object at 0x7f5d18e799d0>, 'node_args': {'gpu': False, 'gpu_num': None, 'gpu_only': False}, 'batch_size': 48, 'lr': 0.001, 'epochs': 1, 'dry_run': False, 'batch_maxnum': 100}\u001b[0m\n",
      "----------------------------------------\n",
      "2022-03-24 17:02:25,005 fedbiomed INFO - \u001b[1mTESTING ON GLOBAL PARAMETERS\u001b[0m \n",
      "\t\t\t\t\t NODE_ID: node_bd747f4b-d47a-4172-bd61-18e0ca3a2a9c \n",
      "\t\t\t\t\t Completed: 18000/18000 (100%) \n",
      " \t\t\t\t\t Custom_1: \u001b[1m0.200671\u001b[0m \n",
      "\t\t\t\t\t Custom_2: \u001b[1m0.200671\u001b[0m \n",
      "\t\t\t\t\t ---------\n",
      "2022-03-24 17:02:25,468 fedbiomed INFO - \u001b[1mTRAINING\u001b[0m \n",
      "\t\t\t\t\t NODE_ID: node_bd747f4b-d47a-4172-bd61-18e0ca3a2a9c \n",
      "\t\t\t\t\t Epoch: 1 | Completed: 480/42000 (1%) \n",
      " \t\t\t\t\t Loss: \u001b[1m0.152556\u001b[0m \n",
      "\t\t\t\t\t ---------\n",
      "2022-03-24 17:02:25,923 fedbiomed INFO - \u001b[1mTRAINING\u001b[0m \n",
      "\t\t\t\t\t NODE_ID: node_bd747f4b-d47a-4172-bd61-18e0ca3a2a9c \n",
      "\t\t\t\t\t Epoch: 1 | Completed: 960/42000 (2%) \n",
      " \t\t\t\t\t Loss: \u001b[1m0.116702\u001b[0m \n",
      "\t\t\t\t\t ---------\n",
      "2022-03-24 17:02:26,374 fedbiomed INFO - \u001b[1mTRAINING\u001b[0m \n",
      "\t\t\t\t\t NODE_ID: node_bd747f4b-d47a-4172-bd61-18e0ca3a2a9c \n",
      "\t\t\t\t\t Epoch: 1 | Completed: 1440/42000 (3%) \n",
      " \t\t\t\t\t Loss: \u001b[1m0.164071\u001b[0m \n",
      "\t\t\t\t\t ---------\n",
      "2022-03-24 17:02:26,882 fedbiomed INFO - \u001b[1mTRAINING\u001b[0m \n",
      "\t\t\t\t\t NODE_ID: node_bd747f4b-d47a-4172-bd61-18e0ca3a2a9c \n",
      "\t\t\t\t\t Epoch: 1 | Completed: 1920/42000 (5%) \n",
      " \t\t\t\t\t Loss: \u001b[1m0.257126\u001b[0m \n",
      "\t\t\t\t\t ---------\n",
      "2022-03-24 17:02:27,404 fedbiomed INFO - \u001b[1mTRAINING\u001b[0m \n",
      "\t\t\t\t\t NODE_ID: node_bd747f4b-d47a-4172-bd61-18e0ca3a2a9c \n",
      "\t\t\t\t\t Epoch: 1 | Completed: 2400/42000 (6%) \n",
      " \t\t\t\t\t Loss: \u001b[1m0.207936\u001b[0m \n",
      "\t\t\t\t\t ---------\n",
      "2022-03-24 17:02:27,863 fedbiomed INFO - \u001b[1mTRAINING\u001b[0m \n",
      "\t\t\t\t\t NODE_ID: node_bd747f4b-d47a-4172-bd61-18e0ca3a2a9c \n",
      "\t\t\t\t\t Epoch: 1 | Completed: 2880/42000 (7%) \n",
      " \t\t\t\t\t Loss: \u001b[1m0.171894\u001b[0m \n",
      "\t\t\t\t\t ---------\n",
      "2022-03-24 17:02:28,318 fedbiomed INFO - \u001b[1mTRAINING\u001b[0m \n",
      "\t\t\t\t\t NODE_ID: node_bd747f4b-d47a-4172-bd61-18e0ca3a2a9c \n",
      "\t\t\t\t\t Epoch: 1 | Completed: 3360/42000 (8%) \n",
      " \t\t\t\t\t Loss: \u001b[1m0.170085\u001b[0m \n",
      "\t\t\t\t\t ---------\n"
     ]
    },
    {
     "name": "stderr",
     "output_type": "stream",
     "text": [
      "2022-03-24 17:02:28,761 fedbiomed INFO - \u001b[1mTRAINING\u001b[0m \n",
      "\t\t\t\t\t NODE_ID: node_bd747f4b-d47a-4172-bd61-18e0ca3a2a9c \n",
      "\t\t\t\t\t Epoch: 1 | Completed: 3840/42000 (9%) \n",
      " \t\t\t\t\t Loss: \u001b[1m0.164290\u001b[0m \n",
      "\t\t\t\t\t ---------\n",
      "2022-03-24 17:02:29,195 fedbiomed INFO - \u001b[1mTRAINING\u001b[0m \n",
      "\t\t\t\t\t NODE_ID: node_bd747f4b-d47a-4172-bd61-18e0ca3a2a9c \n",
      "\t\t\t\t\t Epoch: 1 | Completed: 4320/42000 (10%) \n",
      " \t\t\t\t\t Loss: \u001b[1m0.139384\u001b[0m \n",
      "\t\t\t\t\t ---------\n",
      "2022-03-24 17:02:40,810 fedbiomed INFO - \u001b[1mTESTING ON GLOBAL PARAMETERS\u001b[0m \n",
      "\t\t\t\t\t NODE_ID: node_bd747f4b-d47a-4172-bd61-18e0ca3a2a9c \n",
      "\t\t\t\t\t Completed: 18000/18000 (100%) \n",
      " \t\t\t\t\t Custom_1: \u001b[1m0.133475\u001b[0m \n",
      "\t\t\t\t\t Custom_2: \u001b[1m0.133475\u001b[0m \n",
      "\t\t\t\t\t ---------\n",
      "2022-03-24 17:02:40,973 fedbiomed INFO - \u001b[1mINFO FROM NODE\u001b[0m node_bd747f4b-d47a-4172-bd61-18e0ca3a2a9c\n",
      "\u001b[1mMESSAGE:\u001b[0m \n",
      "results uploaded successfully \u001b[0m\n",
      "----------------------------------------\n",
      "2022-03-24 17:02:48,156 fedbiomed INFO - Downloading model params after training on node_bd747f4b-d47a-4172-bd61-18e0ca3a2a9c - from http://localhost:8844/media/uploads/2022/03/24/node_params_558a9778-6433-4e00-b374-ecf062c75936.pt\n",
      "2022-03-24 17:02:48,194 fedbiomed DEBUG - upload (HTTP GET request) of file node_params_0d63ae3b-4819-4f3d-87b7-7ca3ab0ee130.pt successful, with status code 200\n",
      "2022-03-24 17:02:48,202 fedbiomed INFO - Nodes that successfully reply in round 1 ['node_bd747f4b-d47a-4172-bd61-18e0ca3a2a9c']\n",
      "2022-03-24 17:02:48,362 fedbiomed DEBUG - upload (HTTP POST request) of file /home/ybouilla/fedbiomed/var/experiments/Experiment_0002/aggregated_params_93a5b88e-d0c1-41e1-9265-93e296e03e41.pt successful, with status code 201\n",
      "2022-03-24 17:02:48,364 fedbiomed INFO - Saved aggregated params for round 1 in /home/ybouilla/fedbiomed/var/experiments/Experiment_0002/aggregated_params_93a5b88e-d0c1-41e1-9265-93e296e03e41.pt\n",
      "2022-03-24 17:02:48,364 fedbiomed INFO - Send message to node node_bd747f4b-d47a-4172-bd61-18e0ca3a2a9c - {'researcher_id': 'researcher_8b7f6b87-cc47-4ec3-bd46-4665fa573849', 'job_id': 'aac43ac6-3465-4034-b38d-ba1d7570a961', 'training_args': {'test_ratio': 0.3, 'test_on_local_updates': True, 'test_on_global_updates': True, 'test_metric': None, 'test_metric_args': {}, 'batch_size': 48, 'lr': 0.001, 'epochs': 1, 'dry_run': False, 'batch_maxnum': 100}, 'training': False, 'model_args': {}, 'command': 'train', 'model_url': 'http://localhost:8844/media/uploads/2022/03/24/my_model_5d7a8f85-a6c2-451e-b7d8-c4cd5376f145.py', 'params_url': 'http://localhost:8844/media/uploads/2022/03/24/aggregated_params_93a5b88e-d0c1-41e1-9265-93e296e03e41.pt', 'model_class': 'MyTrainingPlanCM', 'training_data': {'node_bd747f4b-d47a-4172-bd61-18e0ca3a2a9c': ['dataset_2af1ef7b-d8cf-4504-8315-9c681b222edd']}}\n",
      "2022-03-24 17:02:48,365 fedbiomed DEBUG - researcher_8b7f6b87-cc47-4ec3-bd46-4665fa573849\n"
     ]
    },
    {
     "data": {
      "text/plain": [
       "2"
      ]
     },
     "execution_count": 4,
     "metadata": {},
     "output_type": "execute_result"
    },
    {
     "name": "stderr",
     "output_type": "stream",
     "text": [
      "2022-03-24 17:02:48,459 fedbiomed INFO - \u001b[1mINFO FROM NODE\u001b[0m node_bd747f4b-d47a-4172-bd61-18e0ca3a2a9c\n",
      "\u001b[1mMESSAGE:\u001b[0m \n",
      "training with arguments {'history_monitor': <fedbiomed.node.history_monitor.HistoryMonitor object at 0x7f5d19609c40>, 'node_args': {'gpu': False, 'gpu_num': None, 'gpu_only': False}, 'batch_size': 48, 'lr': 0.001, 'epochs': 1, 'dry_run': False, 'batch_maxnum': 100}\u001b[0m\n",
      "----------------------------------------\n",
      "2022-03-24 17:03:00,444 fedbiomed INFO - \u001b[1mTESTING ON GLOBAL PARAMETERS\u001b[0m \n",
      "\t\t\t\t\t NODE_ID: node_bd747f4b-d47a-4172-bd61-18e0ca3a2a9c \n",
      "\t\t\t\t\t Completed: 18000/18000 (100%) \n",
      " \t\t\t\t\t Custom_1: \u001b[1m0.117056\u001b[0m \n",
      "\t\t\t\t\t Custom_2: \u001b[1m0.117056\u001b[0m \n",
      "\t\t\t\t\t ---------\n"
     ]
    }
   ],
   "source": [
    "exp.run()"
   ]
  },
  {
   "cell_type": "code",
   "execution_count": 5,
   "metadata": {},
   "outputs": [
    {
     "name": "stderr",
     "output_type": "stream",
     "text": [
      "2022-03-24 17:06:53,650 fedbiomed DEBUG - Auto increasing total rounds for experiment from 2 to 10\n",
      "2022-03-24 17:06:53,653 fedbiomed INFO - Sampled nodes in round 2 ['node_bd747f4b-d47a-4172-bd61-18e0ca3a2a9c']\n",
      "2022-03-24 17:06:53,654 fedbiomed INFO - Send message to node node_bd747f4b-d47a-4172-bd61-18e0ca3a2a9c - {'researcher_id': 'researcher_8b7f6b87-cc47-4ec3-bd46-4665fa573849', 'job_id': 'aac43ac6-3465-4034-b38d-ba1d7570a961', 'training_args': {'test_ratio': 0.3, 'test_on_local_updates': True, 'test_on_global_updates': True, 'test_metric': None, 'test_metric_args': {}, 'batch_size': 48, 'lr': 0.001, 'epochs': 1, 'dry_run': False, 'batch_maxnum': 100}, 'training': True, 'model_args': {}, 'command': 'train', 'model_url': 'http://localhost:8844/media/uploads/2022/03/24/my_model_5d7a8f85-a6c2-451e-b7d8-c4cd5376f145.py', 'params_url': 'http://localhost:8844/media/uploads/2022/03/24/aggregated_params_93a5b88e-d0c1-41e1-9265-93e296e03e41.pt', 'model_class': 'MyTrainingPlanCM', 'training_data': {'node_bd747f4b-d47a-4172-bd61-18e0ca3a2a9c': ['dataset_2af1ef7b-d8cf-4504-8315-9c681b222edd']}}\n",
      "2022-03-24 17:06:53,655 fedbiomed DEBUG - researcher_8b7f6b87-cc47-4ec3-bd46-4665fa573849\n",
      "2022-03-24 17:06:53,749 fedbiomed INFO - \u001b[1mINFO FROM NODE\u001b[0m node_bd747f4b-d47a-4172-bd61-18e0ca3a2a9c\n",
      "\u001b[1mMESSAGE:\u001b[0m \n",
      "training with arguments {'history_monitor': <fedbiomed.node.history_monitor.HistoryMonitor object at 0x7f5c7c2f1520>, 'node_args': {'gpu': False, 'gpu_num': None, 'gpu_only': False}, 'batch_size': 48, 'lr': 0.001, 'epochs': 1, 'dry_run': False, 'batch_maxnum': 100}\u001b[0m\n",
      "----------------------------------------\n",
      "2022-03-24 17:07:03,668 fedbiomed INFO - Error message received during training: FB300: undetermined node error - local variable 'results' referenced before assignment\n",
      "2022-03-24 17:07:03,669 fedbiomed ERROR - FB408: node did not answer during training (node = node_bd747f4b-d47a-4172-bd61-18e0ca3a2a9c)\n",
      "2022-03-24 17:07:03,669 fedbiomed CRITICAL - FB407: list of nodes became empty when training\n",
      "2022-03-24 17:07:03,670 fedbiomed CRITICAL - Fed-BioMed researcher stopped due to exception:\n",
      "FB407: list of nodes became empty when training\n"
     ]
    },
    {
     "name": "stdout",
     "output_type": "stream",
     "text": [
      "\n",
      "--------------------\n",
      "Fed-BioMed researcher stopped due to exception:\n",
      "FB407: list of nodes became empty when training\n",
      "--------------------\n"
     ]
    },
    {
     "name": "stderr",
     "output_type": "stream",
     "text": [
      "2022-03-24 17:07:04,228 fedbiomed INFO - \u001b[1mTESTING ON GLOBAL PARAMETERS\u001b[0m \n",
      "\t\t\t\t\t NODE_ID: node_bd747f4b-d47a-4172-bd61-18e0ca3a2a9c \n",
      "\t\t\t\t\t Completed: 18000/18000 (100%) \n",
      " \t\t\t\t\t Custom_1: \u001b[1m0.119705\u001b[0m \n",
      "\t\t\t\t\t Custom_2: \u001b[1m0.119705\u001b[0m \n",
      "\t\t\t\t\t ---------\n",
      "2022-03-24 17:07:04,747 fedbiomed INFO - \u001b[1mTRAINING\u001b[0m \n",
      "\t\t\t\t\t NODE_ID: node_bd747f4b-d47a-4172-bd61-18e0ca3a2a9c \n",
      "\t\t\t\t\t Epoch: 1 | Completed: 480/42000 (1%) \n",
      " \t\t\t\t\t Loss: \u001b[1m0.368605\u001b[0m \n",
      "\t\t\t\t\t ---------\n",
      "2022-03-24 17:07:05,209 fedbiomed INFO - \u001b[1mTRAINING\u001b[0m \n",
      "\t\t\t\t\t NODE_ID: node_bd747f4b-d47a-4172-bd61-18e0ca3a2a9c \n",
      "\t\t\t\t\t Epoch: 1 | Completed: 960/42000 (2%) \n",
      " \t\t\t\t\t Loss: \u001b[1m0.329740\u001b[0m \n",
      "\t\t\t\t\t ---------\n",
      "2022-03-24 17:07:05,708 fedbiomed INFO - \u001b[1mTRAINING\u001b[0m \n",
      "\t\t\t\t\t NODE_ID: node_bd747f4b-d47a-4172-bd61-18e0ca3a2a9c \n",
      "\t\t\t\t\t Epoch: 1 | Completed: 1440/42000 (3%) \n",
      " \t\t\t\t\t Loss: \u001b[1m0.441194\u001b[0m \n",
      "\t\t\t\t\t ---------\n",
      "2022-03-24 17:07:06,142 fedbiomed INFO - \u001b[1mTRAINING\u001b[0m \n",
      "\t\t\t\t\t NODE_ID: node_bd747f4b-d47a-4172-bd61-18e0ca3a2a9c \n",
      "\t\t\t\t\t Epoch: 1 | Completed: 1920/42000 (5%) \n",
      " \t\t\t\t\t Loss: \u001b[1m0.175841\u001b[0m \n",
      "\t\t\t\t\t ---------\n",
      "2022-03-24 17:07:06,581 fedbiomed INFO - \u001b[1mTRAINING\u001b[0m \n",
      "\t\t\t\t\t NODE_ID: node_bd747f4b-d47a-4172-bd61-18e0ca3a2a9c \n",
      "\t\t\t\t\t Epoch: 1 | Completed: 2400/42000 (6%) \n",
      " \t\t\t\t\t Loss: \u001b[1m0.238029\u001b[0m \n",
      "\t\t\t\t\t ---------\n",
      "2022-03-24 17:07:07,017 fedbiomed INFO - \u001b[1mTRAINING\u001b[0m \n",
      "\t\t\t\t\t NODE_ID: node_bd747f4b-d47a-4172-bd61-18e0ca3a2a9c \n",
      "\t\t\t\t\t Epoch: 1 | Completed: 2880/42000 (7%) \n",
      " \t\t\t\t\t Loss: \u001b[1m0.147797\u001b[0m \n",
      "\t\t\t\t\t ---------\n",
      "2022-03-24 17:07:07,452 fedbiomed INFO - \u001b[1mTRAINING\u001b[0m \n",
      "\t\t\t\t\t NODE_ID: node_bd747f4b-d47a-4172-bd61-18e0ca3a2a9c \n",
      "\t\t\t\t\t Epoch: 1 | Completed: 3360/42000 (8%) \n",
      " \t\t\t\t\t Loss: \u001b[1m0.089774\u001b[0m \n",
      "\t\t\t\t\t ---------\n",
      "2022-03-24 17:07:07,886 fedbiomed INFO - \u001b[1mTRAINING\u001b[0m \n",
      "\t\t\t\t\t NODE_ID: node_bd747f4b-d47a-4172-bd61-18e0ca3a2a9c \n",
      "\t\t\t\t\t Epoch: 1 | Completed: 3840/42000 (9%) \n",
      " \t\t\t\t\t Loss: \u001b[1m0.091771\u001b[0m \n",
      "\t\t\t\t\t ---------\n",
      "2022-03-24 17:07:08,316 fedbiomed INFO - \u001b[1mTRAINING\u001b[0m \n",
      "\t\t\t\t\t NODE_ID: node_bd747f4b-d47a-4172-bd61-18e0ca3a2a9c \n",
      "\t\t\t\t\t Epoch: 1 | Completed: 4320/42000 (10%) \n",
      " \t\t\t\t\t Loss: \u001b[1m0.168153\u001b[0m \n",
      "\t\t\t\t\t ---------\n",
      "2022-03-24 17:07:18,893 fedbiomed INFO - \u001b[1mTESTING ON GLOBAL PARAMETERS\u001b[0m \n",
      "\t\t\t\t\t NODE_ID: node_bd747f4b-d47a-4172-bd61-18e0ca3a2a9c \n",
      "\t\t\t\t\t Completed: 18000/18000 (100%) \n",
      " \t\t\t\t\t Custom_1: \u001b[1m0.105715\u001b[0m \n",
      "\t\t\t\t\t Custom_2: \u001b[1m0.105715\u001b[0m \n",
      "\t\t\t\t\t ---------\n",
      "2022-03-24 17:07:19,044 fedbiomed INFO - \u001b[1mINFO FROM NODE\u001b[0m node_bd747f4b-d47a-4172-bd61-18e0ca3a2a9c\n",
      "\u001b[1mMESSAGE:\u001b[0m \n",
      "results uploaded successfully \u001b[0m\n",
      "----------------------------------------\n"
     ]
    }
   ],
   "source": [
    "exp.run(rounds=8, increase=True)"
   ]
  },
  {
   "cell_type": "code",
   "execution_count": null,
   "metadata": {},
   "outputs": [],
   "source": []
  }
 ],
 "metadata": {
  "kernelspec": {
   "display_name": "Python 3 (ipykernel)",
   "language": "python",
   "name": "python3"
  },
  "language_info": {
   "codemirror_mode": {
    "name": "ipython",
    "version": 3
   },
   "file_extension": ".py",
   "mimetype": "text/x-python",
   "name": "python",
   "nbconvert_exporter": "python",
   "pygments_lexer": "ipython3",
   "version": "3.9.7"
  }
 },
 "nbformat": 4,
 "nbformat_minor": 4
}

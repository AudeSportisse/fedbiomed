{
 "cells": [
  {
   "cell_type": "markdown",
   "metadata": {},
   "source": [
    "# Performing Testing at Each Round of Training "
   ]
  },
  {
   "cell_type": "markdown",
   "metadata": {},
   "source": [
    "Use for developing (autoreloads changes made across packages)"
   ]
  },
  {
   "cell_type": "code",
   "execution_count": null,
   "metadata": {},
   "outputs": [],
   "source": [
    "%load_ext autoreload\n",
    "%autoreload 2"
   ]
  },
  {
   "cell_type": "markdown",
   "metadata": {},
   "source": [
    "## Start the network\n",
    "Before running this notebook, start the network with `./scripts/fedbiomed_run network`"
   ]
  },
  {
   "cell_type": "markdown",
   "metadata": {},
   "source": [
    "## Setting the node up\n",
    "It is necessary to previously configure a node:\n",
    "1. `./scripts/fedbiomed_run node add`\n",
    "  * Select option 2 (default) to add MNIST to the node\n",
    "  * Confirm default tags by hitting \"y\" and ENTER\n",
    "  * Pick the folder where MNIST is downloaded (this is due torch issue https://github.com/pytorch/vision/issues/3549)\n",
    "  * Data must have been added (if you get a warning saying that data must be unique is because it's been already added)\n",
    "  \n",
    "2. Check that your data has been added by executing `./scripts/fedbiomed_run node list`\n",
    "3. Run the node using `./scripts/fedbiomed_run node run`. Wait until you get `Starting task manager`. it means you are online."
   ]
  },
  {
   "cell_type": "markdown",
   "metadata": {},
   "source": [
    "## Define an experiment model and parameters\""
   ]
  },
  {
   "cell_type": "markdown",
   "metadata": {},
   "source": [
    "Declare a torch.nn MyTrainingPlan class to send for training on the node"
   ]
  },
  {
   "cell_type": "code",
   "execution_count": 1,
   "metadata": {},
   "outputs": [],
   "source": [
    "import torch\n",
    "import torch.nn as nn\n",
    "from fedbiomed.common.training_plans import TorchTrainingPlan\n",
    "from fedbiomed.common.data import DataManager\n",
    "from torchvision import datasets, transforms\n",
    "\n",
    "# Here we define the model to be used. \n",
    "# You can use any class name (here 'Net')\n",
    "class MyTrainingPlan(TorchTrainingPlan):\n",
    "    def __init__(self, model_args: dict = {}):\n",
    "        super(MyTrainingPlan, self).__init__(model_args)\n",
    "        self.conv1 = nn.Conv2d(1, 32, 3, 1)\n",
    "        self.conv2 = nn.Conv2d(32, 64, 3, 1)\n",
    "        self.dropout1 = nn.Dropout(0.25)\n",
    "        self.dropout2 = nn.Dropout(0.5)\n",
    "        self.fc1 = nn.Linear(9216, 128)\n",
    "        self.fc2 = nn.Linear(128, 10)\n",
    "        \n",
    "        # Here we define the custom dependencies that will be needed by our custom Dataloader\n",
    "        # In this case, we need the torch DataLoader classes\n",
    "        # Since we will train on MNIST, we need datasets and transform from torchvision\n",
    "        deps = [\"from torchvision import datasets, transforms\"]\n",
    "        \n",
    "        self.add_dependency(deps)\n",
    "\n",
    "    def forward(self, x):\n",
    "        x = self.conv1(x)\n",
    "        x = F.relu(x)\n",
    "        x = self.conv2(x)\n",
    "        x = F.relu(x)\n",
    "        x = F.max_pool2d(x, 2)\n",
    "        x = self.dropout1(x)\n",
    "        x = torch.flatten(x, 1)\n",
    "        x = self.fc1(x)\n",
    "        x = F.relu(x)\n",
    "        x = self.dropout2(x)\n",
    "        x = self.fc2(x)\n",
    "        \n",
    "        \n",
    "        output = F.log_softmax(x, dim=1)\n",
    "        return output\n",
    "\n",
    "    def training_data(self, batch_size = 48):\n",
    "        # Custom torch Dataloader for MNIST data\n",
    "        transform = transforms.Compose([transforms.ToTensor(),\n",
    "        transforms.Normalize((0.1307,), (0.3081,))])\n",
    "        dataset1 = datasets.MNIST(self.dataset_path, train=True, download=False, transform=transform)\n",
    "        train_kwargs = {'batch_size': batch_size, 'shuffle': True}\n",
    "        return DataManager(dataset=dataset1, **train_kwargs)\n",
    "    \n",
    "    def training_step(self, data, target):\n",
    "        output = self.forward(data)\n",
    "        loss   = torch.nn.functional.nll_loss(output, target)\n",
    "        return loss\n"
   ]
  },
  {
   "cell_type": "markdown",
   "metadata": {},
   "source": [
    "This group of arguments correspond respectively:\n",
    "* `model_args`: a dictionary with the arguments related to the model (e.g. number of layers, features, etc.). This will be passed to the model class on the node side.\n",
    "* `training_args`: a dictionary containing the arguments for the training routine (e.g. batch size, learning rate, epochs, etc.). This will be passed to the routine on the node side.\n",
    "\n",
    "**NOTE:** typos and/or lack of positional (required) arguments will raise error. 🤓"
   ]
  },
  {
   "cell_type": "code",
   "execution_count": 2,
   "metadata": {
    "pycharm": {
     "name": "#%%\n"
    }
   },
   "outputs": [],
   "source": [
    "model_args = {}\n",
    "\n",
    "training_args = {\n",
    "    'batch_size': 48, \n",
    "    'lr': 1e-3, \n",
    "    'epochs': 1, \n",
    "    'dry_run': False,  \n",
    "    'batch_maxnum': 100 # Fast pass for development : only use ( batch_maxnum * batch_size ) samples\n",
    "}"
   ]
  },
  {
   "cell_type": "markdown",
   "metadata": {},
   "source": [
    "## Declare and run the experiment\n",
    "\n",
    "- search nodes serving data for these `tags`, optionally filter on a list of node ID with `nodes`\n",
    "- run a round of local training on nodes with model defined in `model_path` + federation with `aggregator`\n",
    "- run for `round_limit` rounds, applying the `node_selection_strategy` between the rounds"
   ]
  },
  {
   "cell_type": "code",
   "execution_count": 3,
   "metadata": {
    "pycharm": {
     "name": "#%%\n"
    },
    "scrolled": true
   },
   "outputs": [
    {
     "name": "stderr",
     "output_type": "stream",
     "text": [
      "2022-03-23 14:27:22,081 fedbiomed INFO - Component environment:\n",
      "2022-03-23 14:27:22,083 fedbiomed INFO - type = ComponentType.RESEARCHER\n",
      "2022-03-23 14:27:22,591 fedbiomed INFO - Messaging researcher_1fecd236-3507-4a58-9921-8d364492a6d1 successfully connected to the message broker, object = <fedbiomed.common.messaging.Messaging object at 0x7f9dda055580>\n",
      "2022-03-23 14:27:22,618 fedbiomed INFO - Searching dataset with data tags: ['#MNIST', '#dataset'] for all nodes\n",
      "2022-03-23 14:27:30,745 fedbiomed INFO - log from: node_fa6a1655-e676-42a8-a6a5-fe2630057d46 / INFO - results uploaded successfully \n",
      "2022-03-23 14:27:32,631 fedbiomed INFO - Node selected for training -> node_fa6a1655-e676-42a8-a6a5-fe2630057d46\n",
      "2022-03-23 14:27:32,642 fedbiomed DEBUG - Model file has been saved: /home/scansiz/Desktop/Inria/development/fedbiomed/var/experiments/Experiment_0028/my_model_efe9379f-2be7-4b70-9e96-231219f6b0d7.py\n",
      "2022-03-23 14:27:32,674 fedbiomed DEBUG - upload (HTTP POST request) of file /home/scansiz/Desktop/Inria/development/fedbiomed/var/experiments/Experiment_0028/my_model_efe9379f-2be7-4b70-9e96-231219f6b0d7.py successful, with status code 201\n",
      "2022-03-23 14:27:32,849 fedbiomed DEBUG - upload (HTTP POST request) of file /home/scansiz/Desktop/Inria/development/fedbiomed/var/experiments/Experiment_0028/aggregated_params_init_45605373-806c-44cc-a12d-9cad85620a4d.pt successful, with status code 201\n"
     ]
    }
   ],
   "source": [
    "from fedbiomed.researcher.experiment import Experiment\n",
    "from fedbiomed.researcher.aggregators.fedavg import FedAverage\n",
    "\n",
    "tags =  ['#MNIST', '#dataset']\n",
    "rounds = 2\n",
    "\n",
    "exp = Experiment(tags=tags,\n",
    "                 model_args=model_args,\n",
    "                 model_class=MyTrainingPlan,\n",
    "                 training_args=training_args,\n",
    "                 round_limit=rounds,\n",
    "                 aggregator=FedAverage(),\n",
    "                 node_selection_strategy=None)"
   ]
  },
  {
   "cell_type": "markdown",
   "metadata": {
    "pycharm": {
     "name": "#%% md\n"
    }
   },
   "source": [
    "Let's start the experiment.\n",
    "\n",
    "By default, this function doesn't stop until all the `round_limit` rounds are done for all the nodes"
   ]
  },
  {
   "cell_type": "code",
   "execution_count": 4,
   "metadata": {},
   "outputs": [
    {
     "name": "stderr",
     "output_type": "stream",
     "text": [
      "2022-03-23 14:27:44,130 fedbiomed INFO - Sampled nodes in round 0 ['node_fa6a1655-e676-42a8-a6a5-fe2630057d46']\n",
      "2022-03-23 14:27:44,132 fedbiomed INFO - Send message to node node_fa6a1655-e676-42a8-a6a5-fe2630057d46 - {'researcher_id': 'researcher_1fecd236-3507-4a58-9921-8d364492a6d1', 'job_id': '0f1d5635-6288-4efd-9933-433688c3b6dc', 'training_args': {'test_ratio': 0.0, 'test_on_local_updates': False, 'test_on_global_updates': False, 'test_metric': None, 'test_metric_args': {}, 'batch_size': 48, 'lr': 0.001, 'epochs': 1, 'dry_run': False, 'batch_maxnum': 100}, 'training': True, 'model_args': {}, 'command': 'train', 'model_url': 'http://localhost:8844/media/uploads/2022/03/23/my_model_efe9379f-2be7-4b70-9e96-231219f6b0d7.py', 'params_url': 'http://localhost:8844/media/uploads/2022/03/23/aggregated_params_init_45605373-806c-44cc-a12d-9cad85620a4d.pt', 'model_class': 'MyTrainingPlan', 'training_data': {'node_fa6a1655-e676-42a8-a6a5-fe2630057d46': ['dataset_9c41414b-1bf1-4783-a437-cbe7dec0ae78']}}\n",
      "2022-03-23 14:27:44,133 fedbiomed DEBUG - researcher_1fecd236-3507-4a58-9921-8d364492a6d1\n",
      "2022-03-23 14:27:44,268 fedbiomed INFO - log from: node_fa6a1655-e676-42a8-a6a5-fe2630057d46 / INFO - training with arguments {'history_monitor': <fedbiomed.node.history_monitor.HistoryMonitor object at 0x7fef6537ff10>, 'node_args': {'gpu': False, 'gpu_num': None, 'gpu_only': False}, 'batch_size': 48, 'lr': 0.001, 'epochs': 1, 'dry_run': False, 'batch_maxnum': 100}\n",
      "2022-03-23 14:27:49,121 fedbiomed INFO - log from: node_fa6a1655-e676-42a8-a6a5-fe2630057d46 / INFO - Actual/True values (y_true) has more than two levels, using multiclass `weighted` calculation for the metric RECALL\n",
      "2022-03-23 14:27:49,127 fedbiomed INFO - \u001b[1mTESTING BEFORE TRAINING\u001b[0m \n",
      "\t\t\t\t\t NODE_ID: node_fa6a1655-e676-42a8-a6a5-fe2630057d46 \n",
      "\t\t\t\t\t Completed: 12000/12000 (100%) \n",
      " \t\t\t\t\t RECALL: \u001b[1m0.089417\u001b[0m \n",
      "\t\t\t\t\t ---------\n",
      "2022-03-23 14:27:49,740 fedbiomed INFO - \u001b[1mTRAINING\u001b[0m \n",
      "\t\t\t\t\t NODE_ID: node_fa6a1655-e676-42a8-a6a5-fe2630057d46 \n",
      "\t\t\t\t\t Epoch: 1 | Completed: 480/48000 (1%) \n",
      " \t\t\t\t\t Loss: \u001b[1m1.581508\u001b[0m \n",
      "\t\t\t\t\t ---------\n",
      "2022-03-23 14:27:50,287 fedbiomed INFO - \u001b[1mTRAINING\u001b[0m \n",
      "\t\t\t\t\t NODE_ID: node_fa6a1655-e676-42a8-a6a5-fe2630057d46 \n",
      "\t\t\t\t\t Epoch: 1 | Completed: 960/48000 (2%) \n",
      " \t\t\t\t\t Loss: \u001b[1m0.745653\u001b[0m \n",
      "\t\t\t\t\t ---------\n",
      "2022-03-23 14:27:50,977 fedbiomed INFO - \u001b[1mTRAINING\u001b[0m \n",
      "\t\t\t\t\t NODE_ID: node_fa6a1655-e676-42a8-a6a5-fe2630057d46 \n",
      "\t\t\t\t\t Epoch: 1 | Completed: 1440/48000 (3%) \n",
      " \t\t\t\t\t Loss: \u001b[1m0.364706\u001b[0m \n",
      "\t\t\t\t\t ---------\n",
      "2022-03-23 14:27:51,724 fedbiomed INFO - \u001b[1mTRAINING\u001b[0m \n",
      "\t\t\t\t\t NODE_ID: node_fa6a1655-e676-42a8-a6a5-fe2630057d46 \n",
      "\t\t\t\t\t Epoch: 1 | Completed: 1920/48000 (4%) \n",
      " \t\t\t\t\t Loss: \u001b[1m1.091570\u001b[0m \n",
      "\t\t\t\t\t ---------\n",
      "2022-03-23 14:27:52,273 fedbiomed INFO - \u001b[1mTRAINING\u001b[0m \n",
      "\t\t\t\t\t NODE_ID: node_fa6a1655-e676-42a8-a6a5-fe2630057d46 \n",
      "\t\t\t\t\t Epoch: 1 | Completed: 2400/48000 (5%) \n",
      " \t\t\t\t\t Loss: \u001b[1m0.366922\u001b[0m \n",
      "\t\t\t\t\t ---------\n",
      "2022-03-23 14:27:52,822 fedbiomed INFO - \u001b[1mTRAINING\u001b[0m \n",
      "\t\t\t\t\t NODE_ID: node_fa6a1655-e676-42a8-a6a5-fe2630057d46 \n",
      "\t\t\t\t\t Epoch: 1 | Completed: 2880/48000 (6%) \n",
      " \t\t\t\t\t Loss: \u001b[1m0.544750\u001b[0m \n",
      "\t\t\t\t\t ---------\n",
      "2022-03-23 14:27:53,364 fedbiomed INFO - \u001b[1mTRAINING\u001b[0m \n",
      "\t\t\t\t\t NODE_ID: node_fa6a1655-e676-42a8-a6a5-fe2630057d46 \n",
      "\t\t\t\t\t Epoch: 1 | Completed: 3360/48000 (7%) \n",
      " \t\t\t\t\t Loss: \u001b[1m0.497717\u001b[0m \n",
      "\t\t\t\t\t ---------\n",
      "2022-03-23 14:27:54,247 fedbiomed INFO - \u001b[1mTRAINING\u001b[0m \n",
      "\t\t\t\t\t NODE_ID: node_fa6a1655-e676-42a8-a6a5-fe2630057d46 \n",
      "\t\t\t\t\t Epoch: 1 | Completed: 3840/48000 (8%) \n",
      " \t\t\t\t\t Loss: \u001b[1m0.664090\u001b[0m \n",
      "\t\t\t\t\t ---------\n",
      "2022-03-23 14:27:54,797 fedbiomed INFO - \u001b[1mTRAINING\u001b[0m \n",
      "\t\t\t\t\t NODE_ID: node_fa6a1655-e676-42a8-a6a5-fe2630057d46 \n",
      "\t\t\t\t\t Epoch: 1 | Completed: 4320/48000 (9%) \n",
      " \t\t\t\t\t Loss: \u001b[1m0.531286\u001b[0m \n",
      "\t\t\t\t\t ---------\n",
      "2022-03-23 14:28:00,942 fedbiomed INFO - \u001b[1mTESTING AFTER TRAINING\u001b[0m \n",
      "\t\t\t\t\t NODE_ID: node_fa6a1655-e676-42a8-a6a5-fe2630057d46 \n",
      "\t\t\t\t\t Completed: 12000/12000 (100%) \n",
      " \t\t\t\t\t ACCURACY: \u001b[1m0.936083\u001b[0m \n",
      "\t\t\t\t\t ---------\n",
      "2022-03-23 14:28:01,142 fedbiomed INFO - log from: node_fa6a1655-e676-42a8-a6a5-fe2630057d46 / INFO - results uploaded successfully \n",
      "2022-03-23 14:28:09,160 fedbiomed INFO - Downloading model params after training on node_fa6a1655-e676-42a8-a6a5-fe2630057d46 - from http://localhost:8844/media/uploads/2022/03/23/node_params_17128186-41a7-43f7-9423-f59b99c86fb3.pt\n",
      "2022-03-23 14:28:09,203 fedbiomed DEBUG - upload (HTTP GET request) of file node_params_6277d863-2c5d-457a-855e-c9ed05f3cb3d.pt successful, with status code 200\n",
      "2022-03-23 14:28:09,232 fedbiomed INFO - Nodes that successfully reply in round 0 ['node_fa6a1655-e676-42a8-a6a5-fe2630057d46']\n",
      "2022-03-23 14:28:09,745 fedbiomed DEBUG - upload (HTTP POST request) of file /home/scansiz/Desktop/Inria/development/fedbiomed/var/experiments/Experiment_0028/aggregated_params_d2971283-23c2-4ddf-acc3-628a7b9a5ef3.pt successful, with status code 201\n",
      "2022-03-23 14:28:09,748 fedbiomed INFO - Saved aggregated params for round 0 in /home/scansiz/Desktop/Inria/development/fedbiomed/var/experiments/Experiment_0028/aggregated_params_d2971283-23c2-4ddf-acc3-628a7b9a5ef3.pt\n",
      "2022-03-23 14:28:09,749 fedbiomed INFO - Sampled nodes in round 1 ['node_fa6a1655-e676-42a8-a6a5-fe2630057d46']\n",
      "2022-03-23 14:28:09,750 fedbiomed INFO - Send message to node node_fa6a1655-e676-42a8-a6a5-fe2630057d46 - {'researcher_id': 'researcher_1fecd236-3507-4a58-9921-8d364492a6d1', 'job_id': '0f1d5635-6288-4efd-9933-433688c3b6dc', 'training_args': {'test_ratio': 0.0, 'test_on_local_updates': False, 'test_on_global_updates': False, 'test_metric': None, 'test_metric_args': {}, 'batch_size': 48, 'lr': 0.001, 'epochs': 1, 'dry_run': False, 'batch_maxnum': 100}, 'training': True, 'model_args': {}, 'command': 'train', 'model_url': 'http://localhost:8844/media/uploads/2022/03/23/my_model_efe9379f-2be7-4b70-9e96-231219f6b0d7.py', 'params_url': 'http://localhost:8844/media/uploads/2022/03/23/aggregated_params_d2971283-23c2-4ddf-acc3-628a7b9a5ef3.pt', 'model_class': 'MyTrainingPlan', 'training_data': {'node_fa6a1655-e676-42a8-a6a5-fe2630057d46': ['dataset_9c41414b-1bf1-4783-a437-cbe7dec0ae78']}}\n",
      "2022-03-23 14:28:09,752 fedbiomed DEBUG - researcher_1fecd236-3507-4a58-9921-8d364492a6d1\n",
      "2022-03-23 14:28:09,924 fedbiomed INFO - log from: node_fa6a1655-e676-42a8-a6a5-fe2630057d46 / INFO - training with arguments {'history_monitor': <fedbiomed.node.history_monitor.HistoryMonitor object at 0x7feffe3f2820>, 'node_args': {'gpu': False, 'gpu_num': None, 'gpu_only': False}, 'batch_size': 48, 'lr': 0.001, 'epochs': 1, 'dry_run': False, 'batch_maxnum': 100}\n",
      "2022-03-23 14:28:20,855 fedbiomed INFO - log from: node_fa6a1655-e676-42a8-a6a5-fe2630057d46 / INFO - Actual/True values (y_true) has more than two levels, using multiclass `weighted` calculation for the metric RECALL\n",
      "2022-03-23 14:28:20,863 fedbiomed INFO - \u001b[1mTESTING BEFORE TRAINING\u001b[0m \n",
      "\t\t\t\t\t NODE_ID: node_fa6a1655-e676-42a8-a6a5-fe2630057d46 \n",
      "\t\t\t\t\t Completed: 12000/12000 (100%) \n",
      " \t\t\t\t\t RECALL: \u001b[1m0.935667\u001b[0m \n",
      "\t\t\t\t\t ---------\n",
      "2022-03-23 14:28:22,447 fedbiomed INFO - \u001b[1mTRAINING\u001b[0m \n",
      "\t\t\t\t\t NODE_ID: node_fa6a1655-e676-42a8-a6a5-fe2630057d46 \n",
      "\t\t\t\t\t Epoch: 1 | Completed: 480/48000 (1%) \n",
      " \t\t\t\t\t Loss: \u001b[1m0.204505\u001b[0m \n",
      "\t\t\t\t\t ---------\n",
      "2022-03-23 14:28:24,198 fedbiomed INFO - \u001b[1mTRAINING\u001b[0m \n",
      "\t\t\t\t\t NODE_ID: node_fa6a1655-e676-42a8-a6a5-fe2630057d46 \n",
      "\t\t\t\t\t Epoch: 1 | Completed: 960/48000 (2%) \n",
      " \t\t\t\t\t Loss: \u001b[1m0.242231\u001b[0m \n",
      "\t\t\t\t\t ---------\n",
      "2022-03-23 14:28:25,827 fedbiomed INFO - \u001b[1mTRAINING\u001b[0m \n",
      "\t\t\t\t\t NODE_ID: node_fa6a1655-e676-42a8-a6a5-fe2630057d46 \n",
      "\t\t\t\t\t Epoch: 1 | Completed: 1440/48000 (3%) \n",
      " \t\t\t\t\t Loss: \u001b[1m0.191141\u001b[0m \n",
      "\t\t\t\t\t ---------\n",
      "2022-03-23 14:28:27,311 fedbiomed INFO - \u001b[1mTRAINING\u001b[0m \n",
      "\t\t\t\t\t NODE_ID: node_fa6a1655-e676-42a8-a6a5-fe2630057d46 \n",
      "\t\t\t\t\t Epoch: 1 | Completed: 1920/48000 (4%) \n",
      " \t\t\t\t\t Loss: \u001b[1m0.273829\u001b[0m \n",
      "\t\t\t\t\t ---------\n",
      "2022-03-23 14:28:28,797 fedbiomed INFO - \u001b[1mTRAINING\u001b[0m \n",
      "\t\t\t\t\t NODE_ID: node_fa6a1655-e676-42a8-a6a5-fe2630057d46 \n",
      "\t\t\t\t\t Epoch: 1 | Completed: 2400/48000 (5%) \n",
      " \t\t\t\t\t Loss: \u001b[1m0.322451\u001b[0m \n",
      "\t\t\t\t\t ---------\n",
      "2022-03-23 14:28:30,307 fedbiomed INFO - \u001b[1mTRAINING\u001b[0m \n",
      "\t\t\t\t\t NODE_ID: node_fa6a1655-e676-42a8-a6a5-fe2630057d46 \n",
      "\t\t\t\t\t Epoch: 1 | Completed: 2880/48000 (6%) \n",
      " \t\t\t\t\t Loss: \u001b[1m0.280607\u001b[0m \n",
      "\t\t\t\t\t ---------\n"
     ]
    },
    {
     "name": "stderr",
     "output_type": "stream",
     "text": [
      "2022-03-23 14:28:31,499 fedbiomed INFO - \u001b[1mTRAINING\u001b[0m \n",
      "\t\t\t\t\t NODE_ID: node_fa6a1655-e676-42a8-a6a5-fe2630057d46 \n",
      "\t\t\t\t\t Epoch: 1 | Completed: 3360/48000 (7%) \n",
      " \t\t\t\t\t Loss: \u001b[1m0.170754\u001b[0m \n",
      "\t\t\t\t\t ---------\n",
      "2022-03-23 14:28:33,081 fedbiomed INFO - \u001b[1mTRAINING\u001b[0m \n",
      "\t\t\t\t\t NODE_ID: node_fa6a1655-e676-42a8-a6a5-fe2630057d46 \n",
      "\t\t\t\t\t Epoch: 1 | Completed: 3840/48000 (8%) \n",
      " \t\t\t\t\t Loss: \u001b[1m0.275053\u001b[0m \n",
      "\t\t\t\t\t ---------\n",
      "2022-03-23 14:28:35,043 fedbiomed INFO - \u001b[1mTRAINING\u001b[0m \n",
      "\t\t\t\t\t NODE_ID: node_fa6a1655-e676-42a8-a6a5-fe2630057d46 \n",
      "\t\t\t\t\t Epoch: 1 | Completed: 4320/48000 (9%) \n",
      " \t\t\t\t\t Loss: \u001b[1m0.246811\u001b[0m \n",
      "\t\t\t\t\t ---------\n",
      "2022-03-23 14:28:46,653 fedbiomed INFO - \u001b[1mTESTING AFTER TRAINING\u001b[0m \n",
      "\t\t\t\t\t NODE_ID: node_fa6a1655-e676-42a8-a6a5-fe2630057d46 \n",
      "\t\t\t\t\t Completed: 12000/12000 (100%) \n",
      " \t\t\t\t\t ACCURACY: \u001b[1m0.964583\u001b[0m \n",
      "\t\t\t\t\t ---------\n",
      "2022-03-23 14:28:46,992 fedbiomed INFO - log from: node_fa6a1655-e676-42a8-a6a5-fe2630057d46 / INFO - results uploaded successfully \n",
      "2022-03-23 14:28:54,817 fedbiomed INFO - Downloading model params after training on node_fa6a1655-e676-42a8-a6a5-fe2630057d46 - from http://localhost:8844/media/uploads/2022/03/23/node_params_7560376c-b60c-47f3-a5ca-772c46140601.pt\n",
      "2022-03-23 14:28:54,838 fedbiomed DEBUG - upload (HTTP GET request) of file node_params_705945d4-82d2-41b0-bfad-4321ea7aae3e.pt successful, with status code 200\n",
      "2022-03-23 14:28:54,845 fedbiomed INFO - Nodes that successfully reply in round 1 ['node_fa6a1655-e676-42a8-a6a5-fe2630057d46']\n",
      "2022-03-23 14:28:55,010 fedbiomed DEBUG - upload (HTTP POST request) of file /home/scansiz/Desktop/Inria/development/fedbiomed/var/experiments/Experiment_0028/aggregated_params_bb6e7f96-68f9-44c5-b12b-c0f93c3cfcce.pt successful, with status code 201\n",
      "2022-03-23 14:28:55,012 fedbiomed INFO - Saved aggregated params for round 1 in /home/scansiz/Desktop/Inria/development/fedbiomed/var/experiments/Experiment_0028/aggregated_params_bb6e7f96-68f9-44c5-b12b-c0f93c3cfcce.pt\n"
     ]
    },
    {
     "data": {
      "text/plain": [
       "2"
      ]
     },
     "execution_count": 4,
     "metadata": {},
     "output_type": "execute_result"
    },
    {
     "name": "stderr",
     "output_type": "stream",
     "text": [
      "2022-03-23 15:39:21,617 fedbiomed INFO - log from: node_fa6a1655-e676-42a8-a6a5-fe2630057d46 / CRITICAL - Node stopped in signal_handler, probably by user decision (Ctrl C)\n",
      "2022-03-23 15:39:21,756 fedbiomed INFO - log from: node_fa6a1655-e676-42a8-a6a5-fe2630057d46 / CRITICAL - Node stopped in signal_handler, probably by user decision (Ctrl C)\n",
      "2022-03-23 15:39:25,178 fedbiomed INFO - log from: node_fa6a1655-e676-42a8-a6a5-fe2630057d46 / INFO - Starting task manager\n"
     ]
    }
   ],
   "source": [
    "exp.run()"
   ]
  },
  {
   "cell_type": "code",
   "execution_count": null,
   "metadata": {
    "pycharm": {
     "name": "#%%\n"
    },
    "scrolled": true
   },
   "outputs": [],
   "source": [
    "exp.run(rounds=8, increase=True)"
   ]
  },
  {
   "cell_type": "markdown",
   "metadata": {},
   "source": [
    "Local training results for each round and each node are available via `exp.training_replies()` (index 0 to (`rounds` - 1) ).\n",
    "\n",
    "For example you can view the training results for the last round below.\n",
    "\n",
    "Different timings (in seconds) are reported for each dataset of a node participating in a round :\n",
    "- `rtime_training` real time (clock time) spent in the training function on the node\n",
    "- `ptime_training` process time (user and system CPU) spent in the training function on the node\n",
    "- `rtime_total` real time (clock time) spent in the researcher between sending the request and handling the response, at the `Job()` layer"
   ]
  },
  {
   "cell_type": "code",
   "execution_count": null,
   "metadata": {
    "pycharm": {
     "name": "#%%\n"
    },
    "scrolled": true
   },
   "outputs": [],
   "source": [
    "print(\"\\nList the training rounds : \", exp.training_replies().keys())\n",
    "\n",
    "print(\"\\nList the nodes for the last training round and their timings : \")\n",
    "round_data = exp.training_replies()[rounds - 1].data()\n",
    "for c in range(len(round_data)):\n",
    "    print(\"\\t- {id} :\\\n",
    "    \\n\\t\\trtime_training={rtraining:.2f} seconds\\\n",
    "    \\n\\t\\tptime_training={ptraining:.2f} seconds\\\n",
    "    \\n\\t\\trtime_total={rtotal:.2f} seconds\".format(id = round_data[c]['node_id'],\n",
    "        rtraining = round_data[c]['timing']['rtime_training'],\n",
    "        ptraining = round_data[c]['timing']['ptime_training'],\n",
    "        rtotal = round_data[c]['timing']['rtime_total']))\n",
    "print('\\n')\n",
    "    \n",
    "exp.training_replies()[rounds - 1].dataframe()"
   ]
  },
  {
   "cell_type": "markdown",
   "metadata": {},
   "source": [
    "Federated parameters for each round are available via `exp.aggregated_params()` (index 0 to (`rounds` - 1) ).\n",
    "\n",
    "For example you can view the federated parameters for the last round of the experiment :"
   ]
  },
  {
   "cell_type": "code",
   "execution_count": null,
   "metadata": {},
   "outputs": [],
   "source": [
    "print(\"\\nList the training rounds : \", exp.aggregated_params().keys())\n",
    "\n",
    "print(\"\\nAccess the federated params for the last training round :\")\n",
    "print(\"\\t- params_path: \", exp.aggregated_params()[rounds - 1]['params_path'])\n",
    "print(\"\\t- parameter data: \", exp.aggregated_params()[rounds - 1]['params'].keys())\n"
   ]
  },
  {
   "cell_type": "markdown",
   "metadata": {
    "pycharm": {
     "name": "#%% md\n"
    }
   },
   "source": [
    "Feel free to run other sample notebooks or try your own models :D"
   ]
  }
 ],
 "metadata": {
  "kernelspec": {
   "display_name": "Python 3 (ipykernel)",
   "language": "python",
   "name": "python3"
  },
  "language_info": {
   "codemirror_mode": {
    "name": "ipython",
    "version": 3
   },
   "file_extension": ".py",
   "mimetype": "text/x-python",
   "name": "python",
   "nbconvert_exporter": "python",
   "pygments_lexer": "ipython3",
   "version": "3.9.7"
  }
 },
 "nbformat": 4,
 "nbformat_minor": 4
}

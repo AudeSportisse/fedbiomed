{
 "cells": [
  {
   "cell_type": "markdown",
   "metadata": {},
   "source": [
    "# Fedbiomed Researcher base example"
   ]
  },
  {
   "cell_type": "markdown",
   "metadata": {},
   "source": [
    "Use for developing (autoreloads changes made across packages)"
   ]
  },
  {
   "cell_type": "code",
   "execution_count": null,
   "metadata": {},
   "outputs": [],
   "source": [
    "%load_ext autoreload\n",
    "%autoreload 2"
   ]
  },
  {
   "cell_type": "markdown",
   "metadata": {},
   "source": [
    "## Start the network\n",
    "Before running this notebook, start the network with `./scripts/fedbiomed_run network`"
   ]
  },
  {
   "cell_type": "markdown",
   "metadata": {},
   "source": [
    "## Setting the node up\n",
    "It is necessary to previously configure a node:\n",
    "1. `./scripts/fedbiomed_run node add`\n",
    "  * Select option 2 (default) to add MNIST to the node\n",
    "  * Confirm default tags by hitting \"y\" and ENTER\n",
    "  * Pick the folder where MNIST is downloaded (this is due torch issue https://github.com/pytorch/vision/issues/3549)\n",
    "  * Data must have been added (if you get a warning saying that data must be unique is because it's been already added)\n",
    "  \n",
    "2. Check that your data has been added by executing `./scripts/fedbiomed_run node list`\n",
    "3. Run the node using `./scripts/fedbiomed_run node run`. Wait until you get `Starting task manager`. it means you are online."
   ]
  },
  {
   "cell_type": "markdown",
   "metadata": {},
   "source": [
    "## Define an experiment model and parameters\""
   ]
  },
  {
   "cell_type": "markdown",
   "metadata": {},
   "source": [
    "Declare a torch.nn MyTrainingPlan class to send for training on the node"
   ]
  },
  {
   "cell_type": "code",
   "execution_count": 1,
   "metadata": {},
   "outputs": [],
   "source": [
    "import torch\n",
    "import torch.nn as nn\n",
    "from fedbiomed.common.training_plans import TorchTrainingPlan\n",
    "from fedbiomed.common.data import DataManager\n",
    "from torchvision import datasets, transforms\n",
    "\n",
    "# Here we define the model to be used. \n",
    "# You can use any class name (here 'Net')\n",
    "class MyTrainingPlan(TorchTrainingPlan):\n",
    "    def __init__(self, model_args: dict = {}):\n",
    "        super(MyTrainingPlan, self).__init__(model_args)\n",
    "        self.conv1 = nn.Conv2d(1, 32, 3, 1)\n",
    "        self.conv2 = nn.Conv2d(32, 64, 3, 1)\n",
    "        self.dropout1 = nn.Dropout(0.25)\n",
    "        self.dropout2 = nn.Dropout(0.5)\n",
    "        self.fc1 = nn.Linear(9216, 128)\n",
    "        self.fc2 = nn.Linear(128, 10)\n",
    "        \n",
    "        # Here we define the custom dependencies that will be needed by our custom Dataloader\n",
    "        # In this case, we need the torch DataLoader classes\n",
    "        # Since we will train on MNIST, we need datasets and transform from torchvision\n",
    "        deps = [\"from torchvision import datasets, transforms\"]\n",
    "        \n",
    "        self.add_dependency(deps)\n",
    "\n",
    "    def forward(self, x):\n",
    "        x = self.conv1(x)\n",
    "        x = F.relu(x)\n",
    "        x = self.conv2(x)\n",
    "        x = F.relu(x)\n",
    "        x = F.max_pool2d(x, 2)\n",
    "        x = self.dropout1(x)\n",
    "        x = torch.flatten(x, 1)\n",
    "        x = self.fc1(x)\n",
    "        x = F.relu(x)\n",
    "        x = self.dropout2(x)\n",
    "        x = self.fc2(x)\n",
    "        \n",
    "        \n",
    "        output = F.log_softmax(x, dim=1)\n",
    "        return output\n",
    "\n",
    "    def training_data(self, batch_size = 48):\n",
    "        # Custom torch Dataloader for MNIST data\n",
    "        transform = transforms.Compose([transforms.ToTensor(),\n",
    "        transforms.Normalize((0.1307,), (0.3081,))])\n",
    "        dataset1 = datasets.MNIST(self.dataset_path, train=True, download=False, transform=transform)\n",
    "        train_kwargs = {'batch_size': batch_size, 'shuffle': True}\n",
    "        return DataManager(dataset=dataset1, **train_kwargs)\n",
    "    \n",
    "    def training_step(self, data, target):\n",
    "        output = self.forward(data)\n",
    "        loss   = torch.nn.functional.nll_loss(output, target)\n",
    "        return loss\n"
   ]
  },
  {
   "cell_type": "markdown",
   "metadata": {},
   "source": [
    "This group of arguments correspond respectively:\n",
    "* `model_args`: a dictionary with the arguments related to the model (e.g. number of layers, features, etc.). This will be passed to the model class on the node side.\n",
    "* `training_args`: a dictionary containing the arguments for the training routine (e.g. batch size, learning rate, epochs, etc.). This will be passed to the routine on the node side.\n",
    "\n",
    "**NOTE:** typos and/or lack of positional (required) arguments will raise error. 🤓"
   ]
  },
  {
   "cell_type": "code",
   "execution_count": 2,
   "metadata": {
    "pycharm": {
     "name": "#%%\n"
    }
   },
   "outputs": [],
   "source": [
    "model_args = {}\n",
    "\n",
    "training_args = {\n",
    "    'batch_size': 48, \n",
    "    'lr': 1e-3, \n",
    "    'epochs': 1, \n",
    "    'dry_run': False,  \n",
    "    'batch_maxnum': 100 # Fast pass for development : only use ( batch_maxnum * batch_size ) samples\n",
    "}"
   ]
  },
  {
   "cell_type": "markdown",
   "metadata": {},
   "source": [
    "## Declare and run the experiment\n",
    "\n",
    "In the experiment we will declare `tensorboard` status as `True` to be able to display testing/training feddback on the Tensorboard App. "
   ]
  },
  {
   "cell_type": "code",
   "execution_count": 3,
   "metadata": {
    "pycharm": {
     "name": "#%%\n"
    },
    "scrolled": true
   },
   "outputs": [
    {
     "name": "stderr",
     "output_type": "stream",
     "text": [
      "2022-03-22 15:03:09,842 fedbiomed INFO - Component environment:\n",
      "2022-03-22 15:03:09,844 fedbiomed INFO - type = ComponentType.RESEARCHER\n",
      "2022-03-22 15:03:10,096 fedbiomed INFO - Messaging researcher_1fecd236-3507-4a58-9921-8d364492a6d1 successfully connected to the message broker, object = <fedbiomed.common.messaging.Messaging object at 0x7f840f8d2190>\n",
      "2022-03-22 15:03:10,128 fedbiomed INFO - Searching dataset with data tags: ['#MNIST', '#dataset'] for all nodes\n",
      "2022-03-22 15:03:20,167 fedbiomed INFO - Node selected for training -> node_fa6a1655-e676-42a8-a6a5-fe2630057d46\n",
      "2022-03-22 15:03:20,200 fedbiomed DEBUG - Model file has been saved: /home/scansiz/Desktop/Inria/development/fedbiomed/var/experiments/Experiment_0025/my_model_69b4088c-ec8c-4c54-ab8d-9810fcb3c1bd.py\n",
      "2022-03-22 15:03:20,234 fedbiomed DEBUG - upload (HTTP POST request) of file /home/scansiz/Desktop/Inria/development/fedbiomed/var/experiments/Experiment_0025/my_model_69b4088c-ec8c-4c54-ab8d-9810fcb3c1bd.py successful, with status code 201\n",
      "2022-03-22 15:03:20,481 fedbiomed DEBUG - upload (HTTP POST request) of file /home/scansiz/Desktop/Inria/development/fedbiomed/var/experiments/Experiment_0025/aggregated_params_init_0fecda6f-5bd1-41f3-8a4b-c2139a4d3bda.pt successful, with status code 201\n"
     ]
    }
   ],
   "source": [
    "from fedbiomed.researcher.experiment import Experiment\n",
    "from fedbiomed.researcher.aggregators.fedavg import FedAverage\n",
    "\n",
    "tags =  ['#MNIST', '#dataset']\n",
    "rounds = 2\n",
    "\n",
    "exp = Experiment(tags=tags,\n",
    "                 model_args=model_args,\n",
    "                 model_class=MyTrainingPlan,\n",
    "                 training_args=training_args,\n",
    "                 round_limit=rounds,\n",
    "                 aggregator=FedAverage(),\n",
    "                 node_selection_strategy=None,\n",
    "                 tensorboard=True\n",
    "                )"
   ]
  },
  {
   "cell_type": "markdown",
   "metadata": {
    "pycharm": {
     "name": "#%% md\n"
    }
   },
   "source": [
    "Let's start the experiment. During the training the logs from nodes will be come as categorized as `TRAINING` and `TESTING`. "
   ]
  },
  {
   "cell_type": "code",
   "execution_count": 4,
   "metadata": {},
   "outputs": [
    {
     "name": "stderr",
     "output_type": "stream",
     "text": [
      "2022-03-22 15:03:20,488 fedbiomed INFO - Sampled nodes in round 0 ['node_fa6a1655-e676-42a8-a6a5-fe2630057d46']\n",
      "2022-03-22 15:03:20,489 fedbiomed INFO - Send message to node node_fa6a1655-e676-42a8-a6a5-fe2630057d46 - {'researcher_id': 'researcher_1fecd236-3507-4a58-9921-8d364492a6d1', 'job_id': '64aa60f1-f826-44a8-97c9-a7b43307a986', 'training_args': {'batch_size': 48, 'lr': 0.001, 'epochs': 1, 'dry_run': False, 'batch_maxnum': 100}, 'model_args': {}, 'command': 'train', 'model_url': 'http://localhost:8844/media/uploads/2022/03/22/my_model_69b4088c-ec8c-4c54-ab8d-9810fcb3c1bd.py', 'params_url': 'http://localhost:8844/media/uploads/2022/03/22/aggregated_params_init_0fecda6f-5bd1-41f3-8a4b-c2139a4d3bda.pt', 'model_class': 'MyTrainingPlan', 'training_data': {'node_fa6a1655-e676-42a8-a6a5-fe2630057d46': ['dataset_9c41414b-1bf1-4783-a437-cbe7dec0ae78']}}\n",
      "2022-03-22 15:03:20,490 fedbiomed DEBUG - researcher_1fecd236-3507-4a58-9921-8d364492a6d1\n",
      "2022-03-22 15:03:20,603 fedbiomed INFO - log from: node_fa6a1655-e676-42a8-a6a5-fe2630057d46 / INFO - training with arguments {'history_monitor': <fedbiomed.node.history_monitor.HistoryMonitor object at 0x7f4b275ef400>, 'node_args': {'gpu': False, 'gpu_num': None, 'gpu_only': False}, 'batch_size': 48, 'lr': 0.001, 'epochs': 1, 'dry_run': False, 'batch_maxnum': 100}\n",
      "2022-03-22 15:03:26,370 fedbiomed INFO - log from: node_fa6a1655-e676-42a8-a6a5-fe2630057d46 / INFO - Actual/True values (y_true) has more than two levels, using multiclass `weighted` calculation for the metric RECALL\n",
      "2022-03-22 15:03:26,376 fedbiomed INFO - \u001b[1mTESTING BEFORE TRAINING\u001b[0m \n",
      "\t\t\t\t\t NODE_ID: node_fa6a1655-e676-42a8-a6a5-fe2630057d46 \n",
      "\t\t\t\t\t Completed: 12000/12000 (100%) \n",
      " \t\t\t\t\t RECALL: \u001b[1m0.122250\u001b[0m \n",
      "\t\t\t\t\t ---------\n",
      "2022-03-22 15:03:27,173 fedbiomed INFO - \u001b[1mTRAINING\u001b[0m \n",
      "\t\t\t\t\t NODE_ID: node_fa6a1655-e676-42a8-a6a5-fe2630057d46 \n",
      "\t\t\t\t\t Epoch: 1 | Completed: 480/48000 (1%) \n",
      " \t\t\t\t\t Loss: \u001b[1m1.106578\u001b[0m \n",
      "\t\t\t\t\t ---------\n",
      "2022-03-22 15:03:27,740 fedbiomed INFO - \u001b[1mTRAINING\u001b[0m \n",
      "\t\t\t\t\t NODE_ID: node_fa6a1655-e676-42a8-a6a5-fe2630057d46 \n",
      "\t\t\t\t\t Epoch: 1 | Completed: 960/48000 (2%) \n",
      " \t\t\t\t\t Loss: \u001b[1m0.809079\u001b[0m \n",
      "\t\t\t\t\t ---------\n",
      "2022-03-22 15:03:28,390 fedbiomed INFO - \u001b[1mTRAINING\u001b[0m \n",
      "\t\t\t\t\t NODE_ID: node_fa6a1655-e676-42a8-a6a5-fe2630057d46 \n",
      "\t\t\t\t\t Epoch: 1 | Completed: 1440/48000 (3%) \n",
      " \t\t\t\t\t Loss: \u001b[1m0.502136\u001b[0m \n",
      "\t\t\t\t\t ---------\n",
      "2022-03-22 15:03:28,933 fedbiomed INFO - \u001b[1mTRAINING\u001b[0m \n",
      "\t\t\t\t\t NODE_ID: node_fa6a1655-e676-42a8-a6a5-fe2630057d46 \n",
      "\t\t\t\t\t Epoch: 1 | Completed: 1920/48000 (4%) \n",
      " \t\t\t\t\t Loss: \u001b[1m0.501548\u001b[0m \n",
      "\t\t\t\t\t ---------\n",
      "2022-03-22 15:03:29,766 fedbiomed INFO - \u001b[1mTRAINING\u001b[0m \n",
      "\t\t\t\t\t NODE_ID: node_fa6a1655-e676-42a8-a6a5-fe2630057d46 \n",
      "\t\t\t\t\t Epoch: 1 | Completed: 2400/48000 (5%) \n",
      " \t\t\t\t\t Loss: \u001b[1m0.528119\u001b[0m \n",
      "\t\t\t\t\t ---------\n",
      "2022-03-22 15:03:30,294 fedbiomed INFO - \u001b[1mTRAINING\u001b[0m \n",
      "\t\t\t\t\t NODE_ID: node_fa6a1655-e676-42a8-a6a5-fe2630057d46 \n",
      "\t\t\t\t\t Epoch: 1 | Completed: 2880/48000 (6%) \n",
      " \t\t\t\t\t Loss: \u001b[1m0.593896\u001b[0m \n",
      "\t\t\t\t\t ---------\n",
      "2022-03-22 15:03:31,018 fedbiomed INFO - \u001b[1mTRAINING\u001b[0m \n",
      "\t\t\t\t\t NODE_ID: node_fa6a1655-e676-42a8-a6a5-fe2630057d46 \n",
      "\t\t\t\t\t Epoch: 1 | Completed: 3360/48000 (7%) \n",
      " \t\t\t\t\t Loss: \u001b[1m0.326849\u001b[0m \n",
      "\t\t\t\t\t ---------\n",
      "2022-03-22 15:03:31,827 fedbiomed INFO - \u001b[1mTRAINING\u001b[0m \n",
      "\t\t\t\t\t NODE_ID: node_fa6a1655-e676-42a8-a6a5-fe2630057d46 \n",
      "\t\t\t\t\t Epoch: 1 | Completed: 3840/48000 (8%) \n",
      " \t\t\t\t\t Loss: \u001b[1m0.359996\u001b[0m \n",
      "\t\t\t\t\t ---------\n",
      "2022-03-22 15:03:32,464 fedbiomed INFO - \u001b[1mTRAINING\u001b[0m \n",
      "\t\t\t\t\t NODE_ID: node_fa6a1655-e676-42a8-a6a5-fe2630057d46 \n",
      "\t\t\t\t\t Epoch: 1 | Completed: 4320/48000 (9%) \n",
      " \t\t\t\t\t Loss: \u001b[1m0.527137\u001b[0m \n",
      "\t\t\t\t\t ---------\n",
      "2022-03-22 15:03:38,348 fedbiomed INFO - \u001b[1mTESTING AFTER TRAINING\u001b[0m \n",
      "\t\t\t\t\t NODE_ID: node_fa6a1655-e676-42a8-a6a5-fe2630057d46 \n",
      "\t\t\t\t\t Completed: 12000/12000 (100%) \n",
      " \t\t\t\t\t ACCURACY: \u001b[1m0.949917\u001b[0m \n",
      "\t\t\t\t\t ---------\n",
      "2022-03-22 15:03:38,512 fedbiomed INFO - log from: node_fa6a1655-e676-42a8-a6a5-fe2630057d46 / INFO - results uploaded successfully \n",
      "2022-03-22 15:03:45,519 fedbiomed INFO - Downloading model params after training on node_fa6a1655-e676-42a8-a6a5-fe2630057d46 - from http://localhost:8844/media/uploads/2022/03/22/node_params_831ebbeb-5505-4f70-b1ca-fd3a9d065d29.pt\n",
      "2022-03-22 15:03:45,559 fedbiomed DEBUG - upload (HTTP GET request) of file node_params_100e9012-8578-43df-a5b6-3c7549d591c9.pt successful, with status code 200\n",
      "2022-03-22 15:03:45,578 fedbiomed INFO - Nodes that successfully reply in round 0 ['node_fa6a1655-e676-42a8-a6a5-fe2630057d46']\n",
      "2022-03-22 15:03:45,858 fedbiomed DEBUG - upload (HTTP POST request) of file /home/scansiz/Desktop/Inria/development/fedbiomed/var/experiments/Experiment_0025/aggregated_params_d9c56dda-3cff-4af8-9289-ef7b6a61751f.pt successful, with status code 201\n",
      "2022-03-22 15:03:45,861 fedbiomed INFO - Saved aggregated params for round 0 in /home/scansiz/Desktop/Inria/development/fedbiomed/var/experiments/Experiment_0025/aggregated_params_d9c56dda-3cff-4af8-9289-ef7b6a61751f.pt\n",
      "2022-03-22 15:03:45,862 fedbiomed INFO - Sampled nodes in round 1 ['node_fa6a1655-e676-42a8-a6a5-fe2630057d46']\n",
      "2022-03-22 15:03:45,862 fedbiomed INFO - Send message to node node_fa6a1655-e676-42a8-a6a5-fe2630057d46 - {'researcher_id': 'researcher_1fecd236-3507-4a58-9921-8d364492a6d1', 'job_id': '64aa60f1-f826-44a8-97c9-a7b43307a986', 'training_args': {'batch_size': 48, 'lr': 0.001, 'epochs': 1, 'dry_run': False, 'batch_maxnum': 100}, 'model_args': {}, 'command': 'train', 'model_url': 'http://localhost:8844/media/uploads/2022/03/22/my_model_69b4088c-ec8c-4c54-ab8d-9810fcb3c1bd.py', 'params_url': 'http://localhost:8844/media/uploads/2022/03/22/aggregated_params_d9c56dda-3cff-4af8-9289-ef7b6a61751f.pt', 'model_class': 'MyTrainingPlan', 'training_data': {'node_fa6a1655-e676-42a8-a6a5-fe2630057d46': ['dataset_9c41414b-1bf1-4783-a437-cbe7dec0ae78']}}\n",
      "2022-03-22 15:03:45,863 fedbiomed DEBUG - researcher_1fecd236-3507-4a58-9921-8d364492a6d1\n",
      "2022-03-22 15:03:45,996 fedbiomed INFO - log from: node_fa6a1655-e676-42a8-a6a5-fe2630057d46 / INFO - training with arguments {'history_monitor': <fedbiomed.node.history_monitor.HistoryMonitor object at 0x7f4b2737dac0>, 'node_args': {'gpu': False, 'gpu_num': None, 'gpu_only': False}, 'batch_size': 48, 'lr': 0.001, 'epochs': 1, 'dry_run': False, 'batch_maxnum': 100}\n",
      "2022-03-22 15:03:51,292 fedbiomed INFO - log from: node_fa6a1655-e676-42a8-a6a5-fe2630057d46 / INFO - Actual/True values (y_true) has more than two levels, using multiclass `weighted` calculation for the metric RECALL\n",
      "2022-03-22 15:03:51,306 fedbiomed INFO - \u001b[1mTESTING BEFORE TRAINING\u001b[0m \n",
      "\t\t\t\t\t NODE_ID: node_fa6a1655-e676-42a8-a6a5-fe2630057d46 \n",
      "\t\t\t\t\t Completed: 12000/12000 (100%) \n",
      " \t\t\t\t\t RECALL: \u001b[1m0.950250\u001b[0m \n",
      "\t\t\t\t\t ---------\n",
      "2022-03-22 15:03:52,000 fedbiomed INFO - \u001b[1mTRAINING\u001b[0m \n",
      "\t\t\t\t\t NODE_ID: node_fa6a1655-e676-42a8-a6a5-fe2630057d46 \n",
      "\t\t\t\t\t Epoch: 1 | Completed: 480/48000 (1%) \n",
      " \t\t\t\t\t Loss: \u001b[1m0.219633\u001b[0m \n",
      "\t\t\t\t\t ---------\n",
      "2022-03-22 15:03:52,780 fedbiomed INFO - \u001b[1mTRAINING\u001b[0m \n",
      "\t\t\t\t\t NODE_ID: node_fa6a1655-e676-42a8-a6a5-fe2630057d46 \n",
      "\t\t\t\t\t Epoch: 1 | Completed: 960/48000 (2%) \n",
      " \t\t\t\t\t Loss: \u001b[1m0.298442\u001b[0m \n",
      "\t\t\t\t\t ---------\n",
      "2022-03-22 15:03:53,350 fedbiomed INFO - \u001b[1mTRAINING\u001b[0m \n",
      "\t\t\t\t\t NODE_ID: node_fa6a1655-e676-42a8-a6a5-fe2630057d46 \n",
      "\t\t\t\t\t Epoch: 1 | Completed: 1440/48000 (3%) \n",
      " \t\t\t\t\t Loss: \u001b[1m0.374008\u001b[0m \n",
      "\t\t\t\t\t ---------\n",
      "2022-03-22 15:03:54,102 fedbiomed INFO - \u001b[1mTRAINING\u001b[0m \n",
      "\t\t\t\t\t NODE_ID: node_fa6a1655-e676-42a8-a6a5-fe2630057d46 \n",
      "\t\t\t\t\t Epoch: 1 | Completed: 1920/48000 (4%) \n",
      " \t\t\t\t\t Loss: \u001b[1m0.594602\u001b[0m \n",
      "\t\t\t\t\t ---------\n",
      "2022-03-22 15:03:54,668 fedbiomed INFO - \u001b[1mTRAINING\u001b[0m \n",
      "\t\t\t\t\t NODE_ID: node_fa6a1655-e676-42a8-a6a5-fe2630057d46 \n",
      "\t\t\t\t\t Epoch: 1 | Completed: 2400/48000 (5%) \n",
      " \t\t\t\t\t Loss: \u001b[1m0.165198\u001b[0m \n",
      "\t\t\t\t\t ---------\n",
      "2022-03-22 15:03:55,260 fedbiomed INFO - \u001b[1mTRAINING\u001b[0m \n",
      "\t\t\t\t\t NODE_ID: node_fa6a1655-e676-42a8-a6a5-fe2630057d46 \n",
      "\t\t\t\t\t Epoch: 1 | Completed: 2880/48000 (6%) \n",
      " \t\t\t\t\t Loss: \u001b[1m0.149141\u001b[0m \n",
      "\t\t\t\t\t ---------\n",
      "2022-03-22 15:03:56,019 fedbiomed INFO - \u001b[1mTRAINING\u001b[0m \n",
      "\t\t\t\t\t NODE_ID: node_fa6a1655-e676-42a8-a6a5-fe2630057d46 \n",
      "\t\t\t\t\t Epoch: 1 | Completed: 3360/48000 (7%) \n",
      " \t\t\t\t\t Loss: \u001b[1m0.049413\u001b[0m \n",
      "\t\t\t\t\t ---------\n",
      "2022-03-22 15:03:56,632 fedbiomed INFO - \u001b[1mTRAINING\u001b[0m \n",
      "\t\t\t\t\t NODE_ID: node_fa6a1655-e676-42a8-a6a5-fe2630057d46 \n",
      "\t\t\t\t\t Epoch: 1 | Completed: 3840/48000 (8%) \n",
      " \t\t\t\t\t Loss: \u001b[1m0.349752\u001b[0m \n",
      "\t\t\t\t\t ---------\n"
     ]
    },
    {
     "name": "stderr",
     "output_type": "stream",
     "text": [
      "2022-03-22 15:03:57,255 fedbiomed INFO - \u001b[1mTRAINING\u001b[0m \n",
      "\t\t\t\t\t NODE_ID: node_fa6a1655-e676-42a8-a6a5-fe2630057d46 \n",
      "\t\t\t\t\t Epoch: 1 | Completed: 4320/48000 (9%) \n",
      " \t\t\t\t\t Loss: \u001b[1m0.188302\u001b[0m \n",
      "\t\t\t\t\t ---------\n",
      "2022-03-22 15:04:04,290 fedbiomed INFO - \u001b[1mTESTING AFTER TRAINING\u001b[0m \n",
      "\t\t\t\t\t NODE_ID: node_fa6a1655-e676-42a8-a6a5-fe2630057d46 \n",
      "\t\t\t\t\t Completed: 12000/12000 (100%) \n",
      " \t\t\t\t\t ACCURACY: \u001b[1m0.962500\u001b[0m \n",
      "\t\t\t\t\t ---------\n",
      "2022-03-22 15:04:04,507 fedbiomed INFO - log from: node_fa6a1655-e676-42a8-a6a5-fe2630057d46 / INFO - results uploaded successfully \n",
      "2022-03-22 15:04:10,896 fedbiomed INFO - Downloading model params after training on node_fa6a1655-e676-42a8-a6a5-fe2630057d46 - from http://localhost:8844/media/uploads/2022/03/22/node_params_866c7ecc-5fc8-4a19-aba1-82fa04ff7ef5.pt\n",
      "2022-03-22 15:04:10,943 fedbiomed DEBUG - upload (HTTP GET request) of file node_params_9ed1a1b0-18d2-4309-926b-3055dd302994.pt successful, with status code 200\n",
      "2022-03-22 15:04:10,959 fedbiomed INFO - Nodes that successfully reply in round 1 ['node_fa6a1655-e676-42a8-a6a5-fe2630057d46']\n",
      "2022-03-22 15:04:11,159 fedbiomed DEBUG - upload (HTTP POST request) of file /home/scansiz/Desktop/Inria/development/fedbiomed/var/experiments/Experiment_0025/aggregated_params_85fd1f37-194c-4fce-8cc1-013df50fd97c.pt successful, with status code 201\n",
      "2022-03-22 15:04:11,160 fedbiomed INFO - Saved aggregated params for round 1 in /home/scansiz/Desktop/Inria/development/fedbiomed/var/experiments/Experiment_0025/aggregated_params_85fd1f37-194c-4fce-8cc1-013df50fd97c.pt\n"
     ]
    },
    {
     "data": {
      "text/plain": [
       "2"
      ]
     },
     "execution_count": 4,
     "metadata": {},
     "output_type": "execute_result"
    }
   ],
   "source": [
    "exp.run()"
   ]
  },
  {
   "cell_type": "markdown",
   "metadata": {},
   "source": [
    "### Displaying Training and Testing Metrics on Tensorboard"
   ]
  },
  {
   "cell_type": "code",
   "execution_count": 5,
   "metadata": {
    "pycharm": {
     "name": "#%%\n"
    },
    "scrolled": true
   },
   "outputs": [],
   "source": [
    "from fedbiomed.researcher.environ import environ\n",
    "tensorboard_dir = environ['TENSORBOARD_RESULTS_DIR']\n",
    "%load_ext tensorboard"
   ]
  },
  {
   "cell_type": "markdown",
   "metadata": {},
   "source": [
    "#### Launch Tensorboard App"
   ]
  },
  {
   "cell_type": "code",
   "execution_count": 6,
   "metadata": {},
   "outputs": [
    {
     "data": {
      "text/plain": [
       "Reusing TensorBoard on port 6006 (pid 269009), started 1 day, 3:34:35 ago. (Use '!kill 269009' to kill it.)"
      ]
     },
     "metadata": {},
     "output_type": "display_data"
    },
    {
     "data": {
      "text/html": [
       "\n",
       "      <iframe id=\"tensorboard-frame-3d58c57f55823ad5\" width=\"100%\" height=\"800\" frameborder=\"0\">\n",
       "      </iframe>\n",
       "      <script>\n",
       "        (function() {\n",
       "          const frame = document.getElementById(\"tensorboard-frame-3d58c57f55823ad5\");\n",
       "          const url = new URL(\"/\", window.location);\n",
       "          const port = 6006;\n",
       "          if (port) {\n",
       "            url.port = port;\n",
       "          }\n",
       "          frame.src = url;\n",
       "        })();\n",
       "      </script>\n",
       "    "
      ],
      "text/plain": [
       "<IPython.core.display.HTML object>"
      ]
     },
     "metadata": {},
     "output_type": "display_data"
    },
    {
     "name": "stderr",
     "output_type": "stream",
     "text": [
      "2022-03-22 15:05:02,996 fedbiomed INFO - log from: node_fa6a1655-e676-42a8-a6a5-fe2630057d46 / CRITICAL - Node stopped in signal_handler, probably by user decision (Ctrl C)\n",
      "2022-03-22 16:07:17,422 fedbiomed INFO - log from: test_logger_node_23b043e7-84aa-4068-87f9-c8ec310d4a95 / ERROR - mqtt+console ERROR message\n",
      "2022-03-22 16:07:25,535 fedbiomed INFO - log from: node_1234 / INFO - Messaging mock_researcher_XXX successfully connected to the message broker, object = <fedbiomed.common.messaging.Messaging object at 0x7fe10bb14880>\n",
      "2022-03-22 16:07:27,621 fedbiomed INFO - log from: node_1234 / INFO - Controlling Models Dir\n",
      "2022-03-22 16:07:27,622 fedbiomed INFO - log from: node_1234 / INFO - /tmp/_nod_/default_models\n",
      "2022-03-22 16:07:29,217 fedbiomed INFO - log from: node_1234 / INFO - {'name': 'pytorch-mnist.txt', 'description': 'Default model', 'hash': '006b7adac048184fbf96f62b87d0fd491278a61079a9e32f758100f99e951f8b', 'model_path': '/tmp/_nod_/default_models/pytorch-mnist.txt', 'model_id': 'model_5cbb14a4-f46d-430a-8fab-6c68224d1725', 'model_type': 'default', 'algorithm': 'SHA256', 'date_created': '22-03-2022 16:06:55.446223', 'date_modified': '22-03-2022 16:06:55.446223', 'date_registered': '22-03-2022 16:07:29.066516'}\n",
      "2022-03-22 16:07:29,218 fedbiomed INFO - log from: node_1234 / INFO - Recreating hashing for : pytorch-mnist.txt \t model_5cbb14a4-f46d-430a-8fab-6c68224d1725\n",
      "2022-03-22 16:07:29,235 fedbiomed INFO - log from: node_1234 / INFO - Recreating hashing for : monai-image-classification.txt \t model_ad8755b5-6e75-45e6-9bc4-7348bd0f3f61\n",
      "2022-03-22 16:07:29,282 fedbiomed INFO - log from: node_1234 / INFO - Recreating hashing for : pytorch-mnist-opacus-dp.txt \t model_3688cef4-f51e-41f2-8738-dd5bf7b8c758\n",
      "2022-03-22 16:07:29,317 fedbiomed INFO - log from: node_1234 / INFO - Recreating hashing for : monai-image-registration.txt \t model_fe4dd25f-dc25-4f98-8161-4b63e22031f9\n",
      "2022-03-22 16:07:29,340 fedbiomed INFO - log from: node_1234 / INFO - Recreating hashing for : sklearn-perceptron.txt \t model_5eb7a903-1fd9-4776-bede-a804c868e07f\n",
      "2022-03-22 16:07:29,351 fedbiomed INFO - log from: node_1234 / INFO - Recreating hashing for : pytorch-celaba.txt \t model_cc1424d0-6fa6-4877-940d-eb177d4bdd8c\n",
      "2022-03-22 16:07:29,392 fedbiomed INFO - log from: node_1234 / INFO - Recreating hashing for : pytorch-usedcars.txt \t model_c1ab805b-7f72-4f02-bc44-9f6b0fa78472\n",
      "2022-03-22 16:07:29,419 fedbiomed INFO - log from: node_1234 / INFO - Recreating hashing for : variational-autoencoder.txt \t model_d16c4e74-22e9-46c1-a1ed-febadb8c8e01\n",
      "2022-03-22 16:07:29,451 fedbiomed INFO - log from: node_1234 / INFO - Recreating hashing for : pytorch-csv.txt \t model_f2e4b95c-c532-4788-9c96-cfb05f854e0c\n",
      "2022-03-22 16:07:29,482 fedbiomed INFO - log from: node_1234 / INFO - Recreating hashing for : sklearn-sgdregressor.txt \t model_e7b28543-faa1-45ac-8a37-43f8def7c534\n",
      "2022-03-22 16:07:29,491 fedbiomed INFO - log from: node_1234 / INFO - {'name': 'pytorch-mnist.txt', 'description': 'Default model', 'hash': 'ed1a90aacb0ba5ebb07c9896b8b3845cf576477513a294b633d156e0c7baf1a2db46ca992baff4b3d86553cd0b9f7aea', 'model_path': '/tmp/_nod_/default_models/pytorch-mnist.txt', 'model_id': 'model_5cbb14a4-f46d-430a-8fab-6c68224d1725', 'model_type': 'default', 'algorithm': 'SHA384', 'date_created': '22-03-2022 16:06:55.446223', 'date_modified': '22-03-2022 16:06:55.446223', 'date_registered': '22-03-2022 16:07:29.066516'}\n",
      "2022-03-22 16:07:29,494 fedbiomed INFO - log from: node_1234 / INFO - Recreating hashing for : pytorch-mnist.txt \t model_5cbb14a4-f46d-430a-8fab-6c68224d1725\n",
      "2022-03-22 16:07:29,538 fedbiomed INFO - log from: node_1234 / INFO - Recreating hashing for : monai-image-classification.txt \t model_ad8755b5-6e75-45e6-9bc4-7348bd0f3f61\n",
      "2022-03-22 16:07:29,588 fedbiomed INFO - log from: node_1234 / INFO - Recreating hashing for : pytorch-mnist-opacus-dp.txt \t model_3688cef4-f51e-41f2-8738-dd5bf7b8c758\n",
      "2022-03-22 16:07:29,619 fedbiomed INFO - log from: node_1234 / INFO - Recreating hashing for : monai-image-registration.txt \t model_fe4dd25f-dc25-4f98-8161-4b63e22031f9\n",
      "2022-03-22 16:07:29,667 fedbiomed INFO - log from: node_1234 / INFO - Recreating hashing for : sklearn-perceptron.txt \t model_5eb7a903-1fd9-4776-bede-a804c868e07f\n",
      "2022-03-22 16:07:29,680 fedbiomed INFO - log from: node_1234 / INFO - Recreating hashing for : pytorch-celaba.txt \t model_cc1424d0-6fa6-4877-940d-eb177d4bdd8c\n",
      "2022-03-22 16:07:29,715 fedbiomed INFO - log from: node_1234 / INFO - Recreating hashing for : pytorch-usedcars.txt \t model_c1ab805b-7f72-4f02-bc44-9f6b0fa78472\n",
      "2022-03-22 16:07:29,740 fedbiomed INFO - log from: node_1234 / INFO - Recreating hashing for : variational-autoencoder.txt \t model_d16c4e74-22e9-46c1-a1ed-febadb8c8e01\n",
      "2022-03-22 16:07:29,788 fedbiomed INFO - log from: node_1234 / INFO - Recreating hashing for : pytorch-csv.txt \t model_f2e4b95c-c532-4788-9c96-cfb05f854e0c\n",
      "2022-03-22 16:07:29,794 fedbiomed INFO - log from: node_1234 / INFO - Recreating hashing for : sklearn-sgdregressor.txt \t model_e7b28543-faa1-45ac-8a37-43f8def7c534\n",
      "2022-03-22 16:07:29,807 fedbiomed INFO - log from: node_1234 / INFO - {'name': 'pytorch-mnist.txt', 'description': 'Default model', 'hash': '5358e0933661a692d89fa0cbd37dc11507e4c81dfa0e8ab3d7b399775c0dcfdfcc5fc009adffad69f3e4820d0b40e34094e72408aa03d388a788d0ec96734f8e', 'model_path': '/tmp/_nod_/default_models/pytorch-mnist.txt', 'model_id': 'model_5cbb14a4-f46d-430a-8fab-6c68224d1725', 'model_type': 'default', 'algorithm': 'SHA512', 'date_created': '22-03-2022 16:06:55.446223', 'date_modified': '22-03-2022 16:06:55.446223', 'date_registered': '22-03-2022 16:07:29.066516'}\n",
      "2022-03-22 16:07:29,847 fedbiomed INFO - log from: node_1234 / INFO - Recreating hashing for : pytorch-mnist.txt \t model_5cbb14a4-f46d-430a-8fab-6c68224d1725\n",
      "2022-03-22 16:07:29,849 fedbiomed INFO - log from: node_1234 / INFO - Recreating hashing for : monai-image-classification.txt \t model_ad8755b5-6e75-45e6-9bc4-7348bd0f3f61\n",
      "2022-03-22 16:07:29,886 fedbiomed INFO - log from: node_1234 / INFO - Recreating hashing for : pytorch-mnist-opacus-dp.txt \t model_3688cef4-f51e-41f2-8738-dd5bf7b8c758\n",
      "2022-03-22 16:07:29,908 fedbiomed INFO - log from: node_1234 / INFO - Recreating hashing for : monai-image-registration.txt \t model_fe4dd25f-dc25-4f98-8161-4b63e22031f9\n",
      "2022-03-22 16:07:29,944 fedbiomed INFO - log from: node_1234 / INFO - Recreating hashing for : sklearn-perceptron.txt \t model_5eb7a903-1fd9-4776-bede-a804c868e07f\n",
      "2022-03-22 16:07:29,952 fedbiomed INFO - log from: node_1234 / INFO - Recreating hashing for : pytorch-celaba.txt \t model_cc1424d0-6fa6-4877-940d-eb177d4bdd8c\n",
      "2022-03-22 16:07:29,987 fedbiomed INFO - log from: node_1234 / INFO - Recreating hashing for : pytorch-usedcars.txt \t model_c1ab805b-7f72-4f02-bc44-9f6b0fa78472\n",
      "2022-03-22 16:07:30,014 fedbiomed INFO - log from: node_1234 / INFO - Recreating hashing for : variational-autoencoder.txt \t model_d16c4e74-22e9-46c1-a1ed-febadb8c8e01\n",
      "2022-03-22 16:07:30,052 fedbiomed INFO - log from: node_1234 / INFO - Recreating hashing for : pytorch-csv.txt \t model_f2e4b95c-c532-4788-9c96-cfb05f854e0c\n",
      "2022-03-22 16:07:30,077 fedbiomed INFO - log from: node_1234 / INFO - Recreating hashing for : sklearn-sgdregressor.txt \t model_e7b28543-faa1-45ac-8a37-43f8def7c534\n",
      "2022-03-22 16:07:30,093 fedbiomed INFO - log from: node_1234 / INFO - {'name': 'pytorch-mnist.txt', 'description': 'Default model', 'hash': '573690198ca057c27199989f963b49834c563458b0c242a46add7aa589c45f5b', 'model_path': '/tmp/_nod_/default_models/pytorch-mnist.txt', 'model_id': 'model_5cbb14a4-f46d-430a-8fab-6c68224d1725', 'model_type': 'default', 'algorithm': 'SHA3_256', 'date_created': '22-03-2022 16:06:55.446223', 'date_modified': '22-03-2022 16:06:55.446223', 'date_registered': '22-03-2022 16:07:29.066516'}\n",
      "2022-03-22 16:07:30,094 fedbiomed INFO - log from: node_1234 / INFO - Recreating hashing for : pytorch-mnist.txt \t model_5cbb14a4-f46d-430a-8fab-6c68224d1725\n",
      "2022-03-22 16:07:30,127 fedbiomed INFO - log from: node_1234 / INFO - Recreating hashing for : monai-image-classification.txt \t model_ad8755b5-6e75-45e6-9bc4-7348bd0f3f61\n",
      "2022-03-22 16:07:30,186 fedbiomed INFO - log from: node_1234 / INFO - Recreating hashing for : pytorch-mnist-opacus-dp.txt \t model_3688cef4-f51e-41f2-8738-dd5bf7b8c758\n"
     ]
    },
    {
     "name": "stderr",
     "output_type": "stream",
     "text": [
      "2022-03-22 16:07:30,210 fedbiomed INFO - log from: node_1234 / INFO - Recreating hashing for : monai-image-registration.txt \t model_fe4dd25f-dc25-4f98-8161-4b63e22031f9\n",
      "2022-03-22 16:07:30,249 fedbiomed INFO - log from: node_1234 / INFO - Recreating hashing for : sklearn-perceptron.txt \t model_5eb7a903-1fd9-4776-bede-a804c868e07f\n",
      "2022-03-22 16:07:30,253 fedbiomed INFO - log from: node_1234 / INFO - Recreating hashing for : pytorch-celaba.txt \t model_cc1424d0-6fa6-4877-940d-eb177d4bdd8c\n",
      "2022-03-22 16:07:30,285 fedbiomed INFO - log from: node_1234 / INFO - Recreating hashing for : pytorch-usedcars.txt \t model_c1ab805b-7f72-4f02-bc44-9f6b0fa78472\n",
      "2022-03-22 16:07:30,307 fedbiomed INFO - log from: node_1234 / INFO - Recreating hashing for : variational-autoencoder.txt \t model_d16c4e74-22e9-46c1-a1ed-febadb8c8e01\n",
      "2022-03-22 16:07:30,451 fedbiomed INFO - log from: node_1234 / INFO - Recreating hashing for : pytorch-csv.txt \t model_f2e4b95c-c532-4788-9c96-cfb05f854e0c\n",
      "2022-03-22 16:07:30,473 fedbiomed INFO - log from: node_1234 / INFO - Recreating hashing for : sklearn-sgdregressor.txt \t model_e7b28543-faa1-45ac-8a37-43f8def7c534\n",
      "2022-03-22 16:07:30,486 fedbiomed INFO - log from: node_1234 / INFO - {'name': 'pytorch-mnist.txt', 'description': 'Default model', 'hash': '0ded650b494337c7c785eb86d2d8ba958fed8ad72e1e39835073625778b2535db9b0e43d07d6b100d96f430327b5b4ef', 'model_path': '/tmp/_nod_/default_models/pytorch-mnist.txt', 'model_id': 'model_5cbb14a4-f46d-430a-8fab-6c68224d1725', 'model_type': 'default', 'algorithm': 'SHA3_384', 'date_created': '22-03-2022 16:06:55.446223', 'date_modified': '22-03-2022 16:06:55.446223', 'date_registered': '22-03-2022 16:07:29.066516'}\n",
      "2022-03-22 16:07:30,489 fedbiomed INFO - log from: node_1234 / INFO - Recreating hashing for : pytorch-mnist.txt \t model_5cbb14a4-f46d-430a-8fab-6c68224d1725\n",
      "2022-03-22 16:07:30,528 fedbiomed INFO - log from: node_1234 / INFO - Recreating hashing for : monai-image-classification.txt \t model_ad8755b5-6e75-45e6-9bc4-7348bd0f3f61\n",
      "2022-03-22 16:07:30,580 fedbiomed INFO - log from: node_1234 / INFO - Recreating hashing for : pytorch-mnist-opacus-dp.txt \t model_3688cef4-f51e-41f2-8738-dd5bf7b8c758\n",
      "2022-03-22 16:07:30,620 fedbiomed INFO - log from: node_1234 / INFO - Recreating hashing for : monai-image-registration.txt \t model_fe4dd25f-dc25-4f98-8161-4b63e22031f9\n",
      "2022-03-22 16:07:30,651 fedbiomed INFO - log from: node_1234 / INFO - Recreating hashing for : sklearn-perceptron.txt \t model_5eb7a903-1fd9-4776-bede-a804c868e07f\n",
      "2022-03-22 16:07:30,653 fedbiomed INFO - log from: node_1234 / INFO - Recreating hashing for : pytorch-celaba.txt \t model_cc1424d0-6fa6-4877-940d-eb177d4bdd8c\n",
      "2022-03-22 16:07:30,697 fedbiomed INFO - log from: node_1234 / INFO - Recreating hashing for : pytorch-usedcars.txt \t model_c1ab805b-7f72-4f02-bc44-9f6b0fa78472\n",
      "2022-03-22 16:07:30,736 fedbiomed INFO - log from: node_1234 / INFO - Recreating hashing for : variational-autoencoder.txt \t model_d16c4e74-22e9-46c1-a1ed-febadb8c8e01\n",
      "2022-03-22 16:07:30,759 fedbiomed INFO - log from: node_1234 / INFO - Recreating hashing for : pytorch-csv.txt \t model_f2e4b95c-c532-4788-9c96-cfb05f854e0c\n",
      "2022-03-22 16:07:30,769 fedbiomed INFO - log from: node_1234 / INFO - Recreating hashing for : sklearn-sgdregressor.txt \t model_e7b28543-faa1-45ac-8a37-43f8def7c534\n",
      "2022-03-22 16:07:30,775 fedbiomed INFO - log from: node_1234 / INFO - {'name': 'pytorch-mnist.txt', 'description': 'Default model', 'hash': '342bfbe7a41fadb0e4499abeab8d1efba7020d11684ef8a14a05aac87bd353b97eb0c1753ac5c2ba37e5383b3794e04fb8db71f1912cd1738459dd186b912596', 'model_path': '/tmp/_nod_/default_models/pytorch-mnist.txt', 'model_id': 'model_5cbb14a4-f46d-430a-8fab-6c68224d1725', 'model_type': 'default', 'algorithm': 'SHA3_512', 'date_created': '22-03-2022 16:06:55.446223', 'date_modified': '22-03-2022 16:06:55.446223', 'date_registered': '22-03-2022 16:07:29.066516'}\n",
      "2022-03-22 16:07:30,817 fedbiomed INFO - log from: node_1234 / INFO - Recreating hashing for : pytorch-mnist.txt \t model_5cbb14a4-f46d-430a-8fab-6c68224d1725\n",
      "2022-03-22 16:07:30,819 fedbiomed INFO - log from: node_1234 / INFO - Recreating hashing for : monai-image-classification.txt \t model_ad8755b5-6e75-45e6-9bc4-7348bd0f3f61\n",
      "2022-03-22 16:07:30,856 fedbiomed INFO - log from: node_1234 / INFO - Recreating hashing for : pytorch-mnist-opacus-dp.txt \t model_3688cef4-f51e-41f2-8738-dd5bf7b8c758\n",
      "2022-03-22 16:07:30,871 fedbiomed INFO - log from: node_1234 / INFO - Recreating hashing for : monai-image-registration.txt \t model_fe4dd25f-dc25-4f98-8161-4b63e22031f9\n",
      "2022-03-22 16:07:30,914 fedbiomed INFO - log from: node_1234 / INFO - Recreating hashing for : sklearn-perceptron.txt \t model_5eb7a903-1fd9-4776-bede-a804c868e07f\n",
      "2022-03-22 16:07:30,918 fedbiomed INFO - log from: node_1234 / INFO - Recreating hashing for : pytorch-celaba.txt \t model_cc1424d0-6fa6-4877-940d-eb177d4bdd8c\n",
      "2022-03-22 16:07:30,977 fedbiomed INFO - log from: node_1234 / INFO - Recreating hashing for : pytorch-usedcars.txt \t model_c1ab805b-7f72-4f02-bc44-9f6b0fa78472\n",
      "2022-03-22 16:07:31,015 fedbiomed INFO - log from: node_1234 / INFO - Recreating hashing for : variational-autoencoder.txt \t model_d16c4e74-22e9-46c1-a1ed-febadb8c8e01\n",
      "2022-03-22 16:07:31,058 fedbiomed INFO - log from: node_1234 / INFO - Recreating hashing for : pytorch-csv.txt \t model_f2e4b95c-c532-4788-9c96-cfb05f854e0c\n",
      "2022-03-22 16:07:31,063 fedbiomed INFO - log from: node_1234 / INFO - Recreating hashing for : sklearn-sgdregressor.txt \t model_e7b28543-faa1-45ac-8a37-43f8def7c534\n",
      "2022-03-22 16:07:31,077 fedbiomed INFO - log from: node_1234 / INFO - {'name': 'pytorch-mnist.txt', 'description': 'Default model', 'hash': '08c9143387ccd25d3fffca056f581456d5113b5a0e76ddda6758c06061e42645', 'model_path': '/tmp/_nod_/default_models/pytorch-mnist.txt', 'model_id': 'model_5cbb14a4-f46d-430a-8fab-6c68224d1725', 'model_type': 'default', 'algorithm': 'BLAKE2B', 'date_created': '22-03-2022 16:06:55.446223', 'date_modified': '22-03-2022 16:06:55.446223', 'date_registered': '22-03-2022 16:07:29.066516'}\n",
      "2022-03-22 16:07:31,078 fedbiomed INFO - log from: node_1234 / INFO - Recreating hashing for : pytorch-mnist.txt \t model_5cbb14a4-f46d-430a-8fab-6c68224d1725\n",
      "2022-03-22 16:07:31,107 fedbiomed INFO - log from: node_1234 / INFO - Recreating hashing for : monai-image-classification.txt \t model_ad8755b5-6e75-45e6-9bc4-7348bd0f3f61\n",
      "2022-03-22 16:07:31,147 fedbiomed INFO - log from: node_1234 / INFO - Recreating hashing for : pytorch-mnist-opacus-dp.txt \t model_3688cef4-f51e-41f2-8738-dd5bf7b8c758\n",
      "2022-03-22 16:07:31,173 fedbiomed INFO - log from: node_1234 / INFO - Recreating hashing for : monai-image-registration.txt \t model_fe4dd25f-dc25-4f98-8161-4b63e22031f9\n",
      "2022-03-22 16:07:31,201 fedbiomed INFO - log from: node_1234 / INFO - Recreating hashing for : sklearn-perceptron.txt \t model_5eb7a903-1fd9-4776-bede-a804c868e07f\n",
      "2022-03-22 16:07:31,214 fedbiomed INFO - log from: node_1234 / INFO - Recreating hashing for : pytorch-celaba.txt \t model_cc1424d0-6fa6-4877-940d-eb177d4bdd8c\n",
      "2022-03-22 16:07:31,263 fedbiomed INFO - log from: node_1234 / INFO - Recreating hashing for : pytorch-usedcars.txt \t model_c1ab805b-7f72-4f02-bc44-9f6b0fa78472\n",
      "2022-03-22 16:07:31,289 fedbiomed INFO - log from: node_1234 / INFO - Recreating hashing for : variational-autoencoder.txt \t model_d16c4e74-22e9-46c1-a1ed-febadb8c8e01\n",
      "2022-03-22 16:07:31,324 fedbiomed INFO - log from: node_1234 / INFO - Recreating hashing for : pytorch-csv.txt \t model_f2e4b95c-c532-4788-9c96-cfb05f854e0c\n",
      "2022-03-22 16:07:31,344 fedbiomed INFO - log from: node_1234 / INFO - Recreating hashing for : sklearn-sgdregressor.txt \t model_e7b28543-faa1-45ac-8a37-43f8def7c534\n",
      "2022-03-22 16:07:31,364 fedbiomed INFO - log from: node_1234 / INFO - {'name': 'pytorch-mnist.txt', 'description': 'Default model', 'hash': '08c9143387ccd25d3fffca056f581456d5113b5a0e76ddda6758c06061e42645', 'model_path': '/tmp/_nod_/default_models/pytorch-mnist.txt', 'model_id': 'model_5cbb14a4-f46d-430a-8fab-6c68224d1725', 'model_type': 'default', 'algorithm': 'BLAKE2S', 'date_created': '22-03-2022 16:06:55.446223', 'date_modified': '22-03-2022 16:06:55.446223', 'date_registered': '22-03-2022 16:07:29.066516'}\n"
     ]
    },
    {
     "name": "stderr",
     "output_type": "stream",
     "text": [
      "2022-03-22 16:07:31,590 fedbiomed INFO - log from: node_1234 / INFO - Removed default model file has been detected, it will be removed from DB as well: test-model\n",
      "2022-03-22 16:07:31,765 fedbiomed INFO - log from: node_1234 / INFO - Modified default model file has been detected. Hashing will be updated for: monai-image-classification.txt\n",
      "2022-03-22 16:07:31,793 fedbiomed INFO - log from: node_1234 / INFO - Modified default model file has been detected. Hashing will be updated for: sklearn-sgdregressor.txt\n",
      "2022-03-22 16:07:31,815 fedbiomed INFO - log from: node_1234 / INFO - Modified default model file has been detected. Hashing will be updated for: pytorch-mnist.txt\n",
      "2022-03-22 16:07:31,837 fedbiomed INFO - log from: node_1234 / INFO - Modified default model file has been detected. Hashing will be updated for: pytorch-mnist-opacus-dp.txt\n",
      "2022-03-22 16:07:31,881 fedbiomed INFO - log from: node_1234 / INFO - Modified default model file has been detected. Hashing will be updated for: pytorch-usedcars.txt\n",
      "2022-03-22 16:07:31,897 fedbiomed INFO - log from: node_1234 / INFO - Modified default model file has been detected. Hashing will be updated for: monai-image-registration.txt\n",
      "2022-03-22 16:07:31,942 fedbiomed INFO - log from: node_1234 / INFO - Modified default model file has been detected. Hashing will be updated for: sklearn-perceptron.txt\n",
      "2022-03-22 16:07:31,952 fedbiomed INFO - log from: node_1234 / INFO - Modified default model file has been detected. Hashing will be updated for: variational-autoencoder.txt\n",
      "2022-03-22 16:07:31,985 fedbiomed INFO - log from: node_1234 / INFO - Modified default model file has been detected. Hashing will be updated for: pytorch-celaba.txt\n",
      "2022-03-22 16:07:32,030 fedbiomed INFO - log from: node_1234 / INFO - Modified default model file has been detected. Hashing will be updated for: pytorch-csv.txt\n",
      "2022-03-22 16:07:32,241 fedbiomed INFO - log from: node_1234 / INFO - Checking hashes for registered models...\n",
      "2022-03-22 16:07:32,242 fedbiomed INFO - log from: node_1234 / INFO - There is no models registered\n",
      "2022-03-22 16:07:32,246 fedbiomed INFO - log from: node_1234 / INFO - Checking hashes for registered models...\n",
      "2022-03-22 16:07:32,247 fedbiomed INFO - log from: node_1234 / INFO - Recreating hashing for : test-model \t test-model-id\n",
      "2022-03-22 16:07:32,248 fedbiomed INFO - log from: node_1234 / INFO - Checking hashes for registered models...\n",
      "2022-03-22 16:07:32,248 fedbiomed INFO - log from: node_1234 / INFO - Model : test-model could not found in : /home/scansiz/Desktop/Inria/development/fedbiomed/tests/test-model/copied-test-model-1.txt, will be removed\n",
      "2022-03-22 16:07:33,226 fedbiomed INFO - log from: node_1234 / INFO - Removing tensorboard logs from previous experiment\n",
      "2022-03-22 16:07:33,347 fedbiomed INFO - log from: node_1234 / ERROR - Did not found proper data in local datasets on node=mock_node_XXX\n",
      "2022-03-22 16:07:33,478 fedbiomed INFO - log from: node_1234 / ERROR - FB604: repository error: File /a/file/that/should/not/be/found/on/your/computer not found, cannot upload it\n",
      "2022-03-22 16:07:33,480 fedbiomed INFO - log from: node_1234 / ERROR - FB604: repository error: Unable to read /a/file/to/upload due to unsatisfactory privileges, cannot upload it\n",
      "2022-03-22 16:07:33,483 fedbiomed INFO - log from: node_1234 / ERROR - FB604: repository error: Cannot read file another/file/to/upload when uploading\n",
      "2022-03-22 16:07:33,485 fedbiomed INFO - log from: node_1234 / ERROR - Unable to deserialize JSON from HTTP POST request (when uploading file)\n",
      "2022-03-22 16:07:33,489 fedbiomed INFO - log from: node_1234 / ERROR - FB604: repository errorMimicking case where directory is not exisiting, cannot save the downloaded content into it\n",
      "2022-03-22 16:07:33,491 fedbiomed INFO - log from: node_1234 / ERROR - FB604: repository error: Unable to read /a/path/to/a/file/on/which/downloaded/content/will/be/saved due to unsatisfactory privileges\n",
      "2022-03-22 16:07:33,496 fedbiomed INFO - log from: node_1234 / ERROR - FB604: repository error : cannot write on /a/path/to/a/file/on/which/downloaded/content/will/be/saved: out of memory!\n",
      "2022-03-22 16:07:33,498 fedbiomed INFO - log from: node_1234 / ERROR - FB604: repository error: Cannot open file /a/path/to/a/file/on/which/downloaded/content/will/be/saved after downloading\n",
      "2022-03-22 16:07:33,511 fedbiomed INFO - log from: node_1234 / ERROR - FB202: server returns 404 error when issing a HTTP request my/file/to/upload\n",
      "2022-03-22 16:07:33,513 fedbiomed INFO - log from: node_1234 / ERROR - FB203: server returns other 4xx or 500 error when issing a HTTP request my/other/file/to/upload(status code: 500)\n",
      "2022-03-22 16:07:33,520 fedbiomed INFO - log from: node_1234 / ERROR - FB201: server not reachable : CALLABLE_RAISING_TIMEOUT_EXCEPTION HTTP request time exceeds Timeout\n",
      "2022-03-22 16:07:33,525 fedbiomed INFO - log from: node_1234 / ERROR - FB201: server not reachable : CALLABLE_RAISING_TOO_MANY_REDIRECTION_ERRORS HTTP request exceeds max number of redirection\n",
      "2022-03-22 16:07:33,536 fedbiomed INFO - log from: node_1234 / ERROR - FB604: repository error : bad URL when issuing a unknwon HTTP request a/file/path(details :Invalid URL 'a/file/to/upload': No scheme supplied. Perhaps you meant http://a/file/to/upload? )\n",
      "2022-03-22 16:07:33,626 fedbiomed INFO - log from: node_1234 / ERROR - FB201: server not reachable when issuing a unknwon HTTP request a/file/path to http://a.fake.url: name or service not known\n",
      "2022-03-22 16:07:33,627 fedbiomed INFO - log from: node_1234 / ERROR - FB200: undetermined repository server error: when issuing a unknwon HTTP request a/file/path (HTTP CALLABLE_RAISING_REQUESTS_ERROR request failed). Details: Mimicking a unknown RequestException\n",
      "2022-03-22 16:07:34,296 fedbiomed INFO - log from: node_1234 / ERROR - Incorrect message received:{}\n"
     ]
    }
   ],
   "source": [
    "tensorboard --logdir \"$tensorboard_dir\""
   ]
  }
 ],
 "metadata": {
  "kernelspec": {
   "display_name": "Python 3 (ipykernel)",
   "language": "python",
   "name": "python3"
  },
  "language_info": {
   "codemirror_mode": {
    "name": "ipython",
    "version": 3
   },
   "file_extension": ".py",
   "mimetype": "text/x-python",
   "name": "python",
   "nbconvert_exporter": "python",
   "pygments_lexer": "ipython3",
   "version": "3.9.7"
  }
 },
 "nbformat": 4,
 "nbformat_minor": 4
}

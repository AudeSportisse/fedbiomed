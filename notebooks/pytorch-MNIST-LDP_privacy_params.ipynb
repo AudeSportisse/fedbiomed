{
 "cells": [
  {
   "cell_type": "markdown",
   "metadata": {},
   "source": [
    "# Fedbiomed Researcher POC with Local DP-FL"
   ]
  },
  {
   "cell_type": "markdown",
   "metadata": {},
   "source": [
    "Implementing the scheme of https://arxiv.org/pdf/1710.06963.pdf"
   ]
  },
  {
   "cell_type": "code",
   "execution_count": 24,
   "metadata": {},
   "outputs": [
    {
     "name": "stdout",
     "output_type": "stream",
     "text": [
      "The autoreload extension is already loaded. To reload it, use:\n",
      "  %reload_ext autoreload\n"
     ]
    }
   ],
   "source": [
    "%load_ext autoreload\n",
    "%autoreload 2"
   ]
  },
  {
   "cell_type": "markdown",
   "metadata": {},
   "source": [
    "## Start the network\n",
    "Before running this notebook, start the network with `./scripts/fedbiomed_run network`"
   ]
  },
  {
   "cell_type": "markdown",
   "metadata": {},
   "source": [
    "## Setting the nodes up\n",
    "It is necessary to previously configure a node:\n",
    "1. `./scripts/fedbiomed_run node add`\n",
    "  * Select option 2 (default) to add MNIST to the node\n",
    "  * Confirm default tags by hitting \"y\" and ENTER\n",
    "  * Pick the folder where MNIST is downloaded (this is due torch issue https://github.com/pytorch/vision/issues/3549)\n",
    "  * Data must have been added (if you get a warning saying that data must be unique is because it's been already added)\n",
    "  \n",
    "2. Check that your data has been added by executing `./scripts/fedbiomed_run node list`\n",
    "3. Run the node using `./scripts/fedbiomed_run node start`. Wait until you get `Starting task manager`. it means you are online.\n",
    "4. Following the same procedure, you can create a second node for client 2."
   ]
  },
  {
   "cell_type": "markdown",
   "metadata": {},
   "source": [
    "Check available clients:"
   ]
  },
  {
   "cell_type": "code",
   "execution_count": 25,
   "metadata": {},
   "outputs": [
    {
     "name": "stderr",
     "output_type": "stream",
     "text": [
      "2022-03-24 13:13:30,282 fedbiomed INFO - Listing available datasets in all nodes... \n"
     ]
    },
    {
     "data": {
      "text/plain": [
       "{}"
      ]
     },
     "execution_count": 25,
     "metadata": {},
     "output_type": "execute_result"
    }
   ],
   "source": [
    "from fedbiomed.researcher.requests import Requests\n",
    "req = Requests()\n",
    "req.list(verbose=True)"
   ]
  },
  {
   "cell_type": "markdown",
   "metadata": {},
   "source": [
    "## Define an experiment model and parameters"
   ]
  },
  {
   "cell_type": "markdown",
   "metadata": {},
   "source": [
    "Declare a torch.nn MyTrainingPlan class to send for training on the node"
   ]
  },
  {
   "cell_type": "markdown",
   "metadata": {},
   "source": [
    "Note : write **only** the code to export in the following cell"
   ]
  },
  {
   "cell_type": "code",
   "execution_count": 3,
   "metadata": {},
   "outputs": [],
   "source": [
    "import torch\n",
    "import torch.nn as nn\n",
    "from fedbiomed.common.training_plans import TorchTrainingPlan\n",
    "from torch.utils.data import DataLoader\n",
    "from torchvision import datasets, transforms\n",
    "from math import sqrt, log\n",
    "\n",
    "# Here we define the model to be used. \n",
    "# You can use any class name (here 'Net')\n",
    "class MyTrainingPlan(TorchTrainingPlan):\n",
    "    def __init__(self, model_args: dict = {}):\n",
    "        super(MyTrainingPlan, self).__init__(model_args)\n",
    "        self.conv1 = nn.Conv2d(1, 32, 3, 1)\n",
    "        self.conv2 = nn.Conv2d(32, 64, 3, 1)\n",
    "        self.dropout1 = nn.Dropout(0.25)\n",
    "        self.dropout2 = nn.Dropout(0.5)\n",
    "        self.fc1 = nn.Linear(9216, 128)\n",
    "        self.fc2 = nn.Linear(128, 10)\n",
    "        \n",
    "        # DP parameters\n",
    "        self.C = model_args['DP']['clip_threshold']\n",
    "#        self.m = model_args['DP']['m']\n",
    "#        self.epsilon = model_args['DP']['epsilon']\n",
    "        #self.delta = model_args['DP']['delta']\n",
    "        self.sigma = model_args['DP']['sigma']\n",
    "#        self.rounds = model_args['DP']['rounds']\n",
    "        if 'clip_strategy' in model_args['DP']:\n",
    "            self.clipping=model_args['DP']['clip_strategy']\n",
    "        else:\n",
    "            self.clipping='flat'\n",
    "        \n",
    "        # Here we define the custom dependencies that will be needed by our custom Dataloader\n",
    "        # In this case, we need the torch DataLoader classes\n",
    "        # Since we will train on MNIST, we need datasets and transform from torchvision\n",
    "        deps = [\"from torchvision import datasets, transforms\",\n",
    "               \"from torch.utils.data import DataLoader\",\n",
    "               \"import torch\",\n",
    "               \"from math import sqrt, log\"]\n",
    "        self.add_dependency(deps)\n",
    "\n",
    "    def forward(self, x):\n",
    "        x = self.conv1(x)\n",
    "        x = F.relu(x)\n",
    "        x = self.conv2(x)\n",
    "        x = F.relu(x)\n",
    "        x = F.max_pool2d(x, 2)\n",
    "        x = self.dropout1(x)\n",
    "        x = torch.flatten(x, 1)\n",
    "        x = self.fc1(x)\n",
    "        x = F.relu(x)\n",
    "        x = self.dropout2(x)\n",
    "        x = self.fc2(x)      \n",
    "        \n",
    "        output = F.log_softmax(x, dim=1)\n",
    "        return output\n",
    "\n",
    "    def training_data(self, batch_size = 48):\n",
    "        # Custom torch Dataloader for MNIST data\n",
    "        transform = transforms.Compose([transforms.ToTensor(),\n",
    "        transforms.Normalize((0.1307,), (0.3081,))])\n",
    "        dataset1 = datasets.MNIST(self.dataset_path, train=True, download=False, transform=transform)\n",
    "        train_kwargs = {'batch_size': batch_size, 'shuffle': True}\n",
    "        data_loader = torch.utils.data.DataLoader(dataset1, **train_kwargs)\n",
    "        return data_loader\n",
    "    \n",
    "    def training_step(self, data, target):\n",
    "        output = self.forward(data)\n",
    "        loss   = torch.nn.functional.nll_loss(output, target)\n",
    "        return loss\n",
    "    \n",
    "    def postprocess(self, params):\n",
    "        delta_params = {}\n",
    "\n",
    "        for name, param in params.items():\n",
    "\n",
    "            ###\n",
    "            ### Extracting the update\n",
    "            ###\n",
    "            delta_theta = params[name] - self.init_params[name]\n",
    "            delta_params[name]=delta_theta\n",
    "        \n",
    "#         self.sigma = self.compute_sigma()\n",
    "        perturbed_params = self.clip_and_perturb(delta_params)\n",
    "\n",
    "        params.update(perturbed_params)\n",
    "\n",
    "        #DP parameters to be passed to the central server ?\n",
    "        #params.update({'DP': {'clip_threshold' : self.clipping, 'epsilon' : self.epsilon, 'delta': self.delta}})\n",
    "\n",
    "        return params\n",
    "    \n",
    "    def clip_and_perturb(self,delta_params):\n",
    "        \"\"\"\n",
    "        Performs gradient clipping and adds Gaussian noise.\n",
    "        \"\"\"\n",
    "        \n",
    "        perturbed_params = {}\n",
    "        \n",
    "        try: \n",
    "            self.clipping in ('flat','per_layer')\n",
    "        except ValueError:\n",
    "            msg = ErrorNumbers.FB605.value + \": unknown clipping strategy\"\n",
    "            logger.critical(msg)\n",
    "            raise FedbiomedTrainingPlanError(msg)\n",
    "        \n",
    "        if self.clipping=='flat':\n",
    "\n",
    "            per_param_norms = [params.view(len(params), -1).norm(2,dim=-1) for key, params in delta_params.items()]\n",
    "            per_sample_norms = torch.cat(per_param_norms,dim=0).norm(2)#torch.stack(per_param_norms, dim=1).norm(2,dim=1)\n",
    "            per_sample_clip_factor = (self.C / (per_sample_norms + 1e-6)).clamp(max=1.0)\n",
    "            print('#########################################', per_sample_norms)\n",
    "            print('*****************************************', per_sample_clip_factor)\n",
    "            \n",
    "            for key in delta_params.keys():\n",
    "                delta_theta_tilde = delta_params[key].mul(per_sample_clip_factor) \\\n",
    "                            + torch.sqrt(torch.tensor([2]))*self.sigma*self.C * torch.randn_like(delta_params[key])\n",
    "                perturbed_params[key]=self.init_params[key] + delta_theta_tilde\n",
    "        \n",
    "        elif self.clipping=='per_layer':\n",
    "            \n",
    "            # NB: if the 'per_layer' strategy is chosen the researcher should provide as C a list \n",
    "            # containing all layer-specific clipping parameters.\n",
    "            \n",
    "            assert len(self.C) == len(delta_params)\n",
    "            \n",
    "            for (key, c) in zip(delta_params.keys(), self.C):\n",
    "                per_sample_norms = delta_params[key].view(len(delta_params[key]), -1).norm(2)\n",
    "                per_sample_clip_factor = (c / (per_sample_norms + 1e-6)).clamp(max=1.0)\n",
    "                print(per_sample_clip_factor)\n",
    "                delta_theta_tilde = delta_params[key].mul(per_sample_clip_factor) \\\n",
    "                            + torch.sqrt(torch.tensor([2]))*self.sigma*c * torch.randn_like(delta_params[key])\n",
    "                perturbed_params[key]=self.init_params[key] + delta_theta_tilde\n",
    "                \n",
    "        return perturbed_params\n",
    "    \n",
    "#     def compute_sigma(self):\n",
    "        \n",
    "#         size_local_data = len(self.data.dataset)\n",
    "        \n",
    "#         if self.delta is None:\n",
    "#             self.delta = 1.0/size_local_data*1e-1\n",
    "            \n",
    "#         local_sensititvity = 2*self.C/size_local_data\n",
    "#         c = sqrt(2*log(1.25/self.delta))+1e-6\n",
    "#         sigma = c*self.rounds*local_sensititvity/self.epsilon\n",
    "#         return sigma"
   ]
  },
  {
   "cell_type": "markdown",
   "metadata": {},
   "source": [
    "This group of arguments correspond respectively:\n",
    "* `model_args`: a dictionary with the arguments related to the model (e.g. number of layers, features, etc.). This will be passed to the model class on the node side. \n",
    "* `training_args`: a dictionary containing the arguments for the training routine (e.g. batch size, learning rate, epochs, etc.). This will be passed to the routine on the node side.\n",
    "If FedProx optimisation is requested, `fedprox_mu` parameter must be defined here. It also must be a float between XX and YY."
   ]
  },
  {
   "cell_type": "code",
   "execution_count": 48,
   "metadata": {},
   "outputs": [],
   "source": [
    "from fedbiomed.researcher.privacy.rdp_accountant import compute_rdp, get_privacy_spent\n",
    "import matplotlib.pyplot as plt\n",
    "import numpy as np\n",
    "\n",
    "#req = Requests()\n",
    "#data_info = req.list()\n",
    "#max_data_size = float(np.max([data_info[i][0]['shape'][0] for i in data_info.keys()]))\n",
    "\n",
    "max_data_size = 1000\n",
    "\n",
    "target_delta = .1/max_data_size\n",
    "max_eps = 50\n",
    "sigma = 1\n",
    "clip_threshold = 15e-0\n",
    "\n",
    "\n",
    "orders = [1 + x / 10. for x in range(1, 100)] + list(range(12, 64))\n",
    "rdp = compute_rdp(q=0.1,\n",
    "                  noise_multiplier = sigma,\n",
    "                  steps=100,\n",
    "                  orders=orders)"
   ]
  },
  {
   "cell_type": "code",
   "execution_count": 49,
   "metadata": {},
   "outputs": [],
   "source": [
    "rounds = range(1,10)\n",
    "epsilon_range = np.array([get_privacy_spent(orders, i*rdp, target_delta=target_delta)[0] for i in rounds])\n",
    "\n",
    "FL_rounds = int(np.sum(epsilon_range<max_eps))"
   ]
  },
  {
   "cell_type": "code",
   "execution_count": 50,
   "metadata": {},
   "outputs": [
    {
     "name": "stdout",
     "output_type": "stream",
     "text": [
      "[ 6.82162896  9.6700392  12.04277341 14.17266347 16.14141108 17.98574106\n",
      " 19.74985028 21.4535366  23.08023498]\n"
     ]
    }
   ],
   "source": [
    "print(epsilon_range)"
   ]
  },
  {
   "cell_type": "code",
   "execution_count": 51,
   "metadata": {
    "pycharm": {
     "name": "#%%\n"
    }
   },
   "outputs": [
    {
     "name": "stderr",
     "output_type": "stream",
     "text": [
      "2022-03-25 07:30:01,895 fedbiomed ERROR - Messaging researcher_cc7c7db6-7b8b-4eef-b951-6ff12b238da3 disconnected with error code rc = 7 - Hint: check for another instance of the same component running or for communication error\n"
     ]
    }
   ],
   "source": [
    "model_args = {'DP': {'clip_threshold' : clip_threshold, 'sigma': sigma}}\n",
    "\n",
    "training_args = {\n",
    "    'batch_size': 48, \n",
    "    'lr': 1e-3, \n",
    "    'fedprox_mu': 0.0, \n",
    "    'epochs': 1, \n",
    "    'dry_run': False,  \n",
    "    'batch_maxnum': 1000 # Fast pass for development : only use ( batch_maxnum * batch_size ) samples\n",
    "}"
   ]
  },
  {
   "cell_type": "markdown",
   "metadata": {},
   "source": [
    "## Declare and run the experiment\n",
    "\n",
    "- search nodes serving data for these `tags`, optionally filter on a list of node ID with `nodes`\n",
    "- run a round of local training on nodes with model defined in `model_path` + federation with `aggregator`\n",
    "- run for `round_limit` rounds, applying the `node_selection_strategy` between the rounds"
   ]
  },
  {
   "cell_type": "code",
   "execution_count": 11,
   "metadata": {
    "pycharm": {
     "name": "#%%\n"
    },
    "scrolled": true
   },
   "outputs": [
    {
     "name": "stderr",
     "output_type": "stream",
     "text": [
      "2022-03-15 09:41:18,643 fedbiomed INFO - Searching dataset with data tags: ['#MNIST', '#dataset'] for all nodes\n",
      "2022-03-15 09:41:18,648 fedbiomed INFO - log from: node_edb16ff9-3a16-48a0-9f25-ffc473e623ed / DEBUG - Message received: {'researcher_id': 'researcher_cc7c7db6-7b8b-4eef-b951-6ff12b238da3', 'tags': ['#MNIST', '#dataset'], 'command': 'search'}\n",
      "2022-03-15 09:41:18,650 fedbiomed INFO - log from: node_30f10bb5-4751-4306-8ee2-e0586d6e926b / DEBUG - Message received: {'researcher_id': 'researcher_cc7c7db6-7b8b-4eef-b951-6ff12b238da3', 'tags': ['#MNIST', '#dataset'], 'command': 'search'}\n",
      "2022-03-15 09:41:28,654 fedbiomed INFO - Node selected for training -> node_edb16ff9-3a16-48a0-9f25-ffc473e623ed\n",
      "2022-03-15 09:41:28,655 fedbiomed INFO - Node selected for training -> node_30f10bb5-4751-4306-8ee2-e0586d6e926b\n",
      "2022-03-15 09:41:28,657 fedbiomed INFO - Checking data quality of federated datasets...\n",
      "2022-03-15 09:41:28,670 fedbiomed DEBUG - Model file has been saved: /Users/mlorenzi/works/temp/fedbiomed/var/experiments/Experiment_0043/my_model_84f25685-7918-4865-aeab-dcb625c976d3.py\n",
      "2022-03-15 09:41:28,731 fedbiomed DEBUG - upload (HTTP POST request) of file /Users/mlorenzi/works/temp/fedbiomed/var/experiments/Experiment_0043/my_model_84f25685-7918-4865-aeab-dcb625c976d3.py successful, with status code 201\n",
      "2022-03-15 09:41:29,210 fedbiomed DEBUG - upload (HTTP POST request) of file /Users/mlorenzi/works/temp/fedbiomed/var/experiments/Experiment_0043/aggregated_params_init_bd5be25a-a029-49f8-97ed-8e9572ec9867.pt successful, with status code 201\n"
     ]
    }
   ],
   "source": [
    "from fedbiomed.researcher.experiment import Experiment\n",
    "from fedbiomed.researcher.aggregators.fedavg import FedAverage\n",
    "\n",
    "tags =  ['#MNIST', '#dataset']\n",
    "\n",
    "exp = Experiment(tags=tags,\n",
    "                 model_args=model_args,\n",
    "                 model_class=MyTrainingPlan,\n",
    "                 training_args=training_args,\n",
    "                 round_limit=FL_rounds,\n",
    "                 aggregator=FedAverage(),\n",
    "                 node_selection_strategy=None)"
   ]
  },
  {
   "cell_type": "markdown",
   "metadata": {
    "pycharm": {
     "name": "#%% md\n"
    }
   },
   "source": [
    "Let's start the experiment.\n",
    "\n",
    "By default, this function doesn't stop until all the `round_limit` rounds are done for all the nodes"
   ]
  },
  {
   "cell_type": "code",
   "execution_count": 12,
   "metadata": {
    "pycharm": {
     "name": "#%%\n"
    },
    "scrolled": true
   },
   "outputs": [
    {
     "name": "stderr",
     "output_type": "stream",
     "text": [
      "2022-03-15 09:41:29,275 fedbiomed INFO - Sampled nodes in round 0 ['node_edb16ff9-3a16-48a0-9f25-ffc473e623ed', 'node_30f10bb5-4751-4306-8ee2-e0586d6e926b']\n",
      "2022-03-15 09:41:29,276 fedbiomed INFO - Send message to node node_edb16ff9-3a16-48a0-9f25-ffc473e623ed - {'researcher_id': 'researcher_cc7c7db6-7b8b-4eef-b951-6ff12b238da3', 'job_id': '33529e7b-1b42-457a-93ab-4270ee15a9d1', 'training_args': {'batch_size': 48, 'lr': 0.001, 'fedprox_mu': 0.0, 'epochs': 1, 'dry_run': False, 'batch_maxnum': 1000}, 'model_args': {'DP': {'clip_threshold': 15.0, 'sigma': 5.0}}, 'command': 'train', 'model_url': 'http://localhost:8844/media/uploads/2022/03/15/my_model_84f25685-7918-4865-aeab-dcb625c976d3.py', 'params_url': 'http://localhost:8844/media/uploads/2022/03/15/aggregated_params_init_bd5be25a-a029-49f8-97ed-8e9572ec9867.pt', 'model_class': 'MyTrainingPlan', 'training_data': {'node_edb16ff9-3a16-48a0-9f25-ffc473e623ed': ['dataset_2e82719a-83a4-4de4-972f-7637c45b6d7d']}}\n",
      "2022-03-15 09:41:29,277 fedbiomed DEBUG - researcher_cc7c7db6-7b8b-4eef-b951-6ff12b238da3\n",
      "2022-03-15 09:41:29,278 fedbiomed INFO - Send message to node node_30f10bb5-4751-4306-8ee2-e0586d6e926b - {'researcher_id': 'researcher_cc7c7db6-7b8b-4eef-b951-6ff12b238da3', 'job_id': '33529e7b-1b42-457a-93ab-4270ee15a9d1', 'training_args': {'batch_size': 48, 'lr': 0.001, 'fedprox_mu': 0.0, 'epochs': 1, 'dry_run': False, 'batch_maxnum': 1000}, 'model_args': {'DP': {'clip_threshold': 15.0, 'sigma': 5.0}}, 'command': 'train', 'model_url': 'http://localhost:8844/media/uploads/2022/03/15/my_model_84f25685-7918-4865-aeab-dcb625c976d3.py', 'params_url': 'http://localhost:8844/media/uploads/2022/03/15/aggregated_params_init_bd5be25a-a029-49f8-97ed-8e9572ec9867.pt', 'model_class': 'MyTrainingPlan', 'training_data': {'node_30f10bb5-4751-4306-8ee2-e0586d6e926b': ['dataset_aeeba6e7-ffb4-4c01-8da5-1d549cedbf01']}}\n",
      "2022-03-15 09:41:29,279 fedbiomed DEBUG - researcher_cc7c7db6-7b8b-4eef-b951-6ff12b238da3\n",
      "2022-03-15 09:41:29,288 fedbiomed INFO - log from: node_edb16ff9-3a16-48a0-9f25-ffc473e623ed / DEBUG - Message received: {'researcher_id': 'researcher_cc7c7db6-7b8b-4eef-b951-6ff12b238da3', 'job_id': '33529e7b-1b42-457a-93ab-4270ee15a9d1', 'training_args': {'batch_size': 48, 'lr': 0.001, 'fedprox_mu': 0.0, 'epochs': 1, 'dry_run': False, 'batch_maxnum': 1000}, 'model_args': {'DP': {'clip_threshold': 15.0, 'sigma': 5.0}}, 'command': 'train', 'model_url': 'http://localhost:8844/media/uploads/2022/03/15/my_model_84f25685-7918-4865-aeab-dcb625c976d3.py', 'params_url': 'http://localhost:8844/media/uploads/2022/03/15/aggregated_params_init_bd5be25a-a029-49f8-97ed-8e9572ec9867.pt', 'model_class': 'MyTrainingPlan', 'training_data': {'node_edb16ff9-3a16-48a0-9f25-ffc473e623ed': ['dataset_2e82719a-83a4-4de4-972f-7637c45b6d7d']}}\n",
      "2022-03-15 09:41:29,290 fedbiomed INFO - log from: node_edb16ff9-3a16-48a0-9f25-ffc473e623ed / DEBUG - [TASKS QUEUE] Item:{'researcher_id': 'researcher_cc7c7db6-7b8b-4eef-b951-6ff12b238da3', 'job_id': '33529e7b-1b42-457a-93ab-4270ee15a9d1', 'params_url': 'http://localhost:8844/media/uploads/2022/03/15/aggregated_params_init_bd5be25a-a029-49f8-97ed-8e9572ec9867.pt', 'training_args': {'batch_size': 48, 'lr': 0.001, 'fedprox_mu': 0.0, 'epochs': 1, 'dry_run': False, 'batch_maxnum': 1000}, 'training_data': {'node_edb16ff9-3a16-48a0-9f25-ffc473e623ed': ['dataset_2e82719a-83a4-4de4-972f-7637c45b6d7d']}, 'model_args': {'DP': {'clip_threshold': 15.0, 'sigma': 5.0}}, 'model_url': 'http://localhost:8844/media/uploads/2022/03/15/my_model_84f25685-7918-4865-aeab-dcb625c976d3.py', 'model_class': 'MyTrainingPlan', 'command': 'train'}\n",
      "2022-03-15 09:41:29,294 fedbiomed INFO - log from: node_30f10bb5-4751-4306-8ee2-e0586d6e926b / DEBUG - Message received: {'researcher_id': 'researcher_cc7c7db6-7b8b-4eef-b951-6ff12b238da3', 'job_id': '33529e7b-1b42-457a-93ab-4270ee15a9d1', 'training_args': {'batch_size': 48, 'lr': 0.001, 'fedprox_mu': 0.0, 'epochs': 1, 'dry_run': False, 'batch_maxnum': 1000}, 'model_args': {'DP': {'clip_threshold': 15.0, 'sigma': 5.0}}, 'command': 'train', 'model_url': 'http://localhost:8844/media/uploads/2022/03/15/my_model_84f25685-7918-4865-aeab-dcb625c976d3.py', 'params_url': 'http://localhost:8844/media/uploads/2022/03/15/aggregated_params_init_bd5be25a-a029-49f8-97ed-8e9572ec9867.pt', 'model_class': 'MyTrainingPlan', 'training_data': {'node_30f10bb5-4751-4306-8ee2-e0586d6e926b': ['dataset_aeeba6e7-ffb4-4c01-8da5-1d549cedbf01']}}\n",
      "2022-03-15 09:41:29,295 fedbiomed INFO - log from: node_30f10bb5-4751-4306-8ee2-e0586d6e926b / DEBUG - [TASKS QUEUE] Item:{'researcher_id': 'researcher_cc7c7db6-7b8b-4eef-b951-6ff12b238da3', 'job_id': '33529e7b-1b42-457a-93ab-4270ee15a9d1', 'params_url': 'http://localhost:8844/media/uploads/2022/03/15/aggregated_params_init_bd5be25a-a029-49f8-97ed-8e9572ec9867.pt', 'training_args': {'batch_size': 48, 'lr': 0.001, 'fedprox_mu': 0.0, 'epochs': 1, 'dry_run': False, 'batch_maxnum': 1000}, 'training_data': {'node_30f10bb5-4751-4306-8ee2-e0586d6e926b': ['dataset_aeeba6e7-ffb4-4c01-8da5-1d549cedbf01']}, 'model_args': {'DP': {'clip_threshold': 15.0, 'sigma': 5.0}}, 'model_url': 'http://localhost:8844/media/uploads/2022/03/15/my_model_84f25685-7918-4865-aeab-dcb625c976d3.py', 'model_class': 'MyTrainingPlan', 'command': 'train'}\n",
      "2022-03-15 09:41:29,317 fedbiomed INFO - log from: node_edb16ff9-3a16-48a0-9f25-ffc473e623ed / DEBUG - upload (HTTP GET request) of file my_model_02785e8c761f4c78aa9a17d153e1a953.py successful, with status code 200\n",
      "2022-03-15 09:41:29,477 fedbiomed INFO - log from: node_edb16ff9-3a16-48a0-9f25-ffc473e623ed / DEBUG - upload (HTTP GET request) of file my_model_700ae2c7-b8c4-4664-a4b7-49184bcc1f60.pt successful, with status code 200\n",
      "2022-03-15 09:41:29,512 fedbiomed INFO - log from: node_edb16ff9-3a16-48a0-9f25-ffc473e623ed / INFO - training with arguments {'monitor': <fedbiomed.node.history_monitor.HistoryMonitor object at 0x14242fdf0>, 'node_args': {'gpu': False, 'gpu_num': None, 'gpu_only': False}, 'batch_size': 48, 'lr': 0.001, 'fedprox_mu': 0.0, 'epochs': 1, 'dry_run': False, 'batch_maxnum': 1000}\n",
      "2022-03-15 09:41:29,514 fedbiomed INFO - log from: node_edb16ff9-3a16-48a0-9f25-ffc473e623ed / DEBUG - Dataset path has been set as/Users/mlorenzi/works/temp/MNIST\n",
      "2022-03-15 09:41:29,518 fedbiomed INFO - log from: node_edb16ff9-3a16-48a0-9f25-ffc473e623ed / DEBUG - Using device cpu for training (cuda_available=False, gpu=False, gpu_only=False, use_gpu=False, gpu_num=None)\n",
      "2022-03-15 09:41:29,654 fedbiomed INFO - log from: node_30f10bb5-4751-4306-8ee2-e0586d6e926b / DEBUG - upload (HTTP GET request) of file my_model_eb0f0212e03449aba2d1063ffd8386b4.py successful, with status code 200\n",
      "2022-03-15 09:41:29,667 fedbiomed INFO - log from: node_edb16ff9-3a16-48a0-9f25-ffc473e623ed / INFO - Train Epoch: 1 [0/60000 (0%)]\tLoss: 2.300944\n",
      "2022-03-15 09:41:29,851 fedbiomed INFO - log from: node_30f10bb5-4751-4306-8ee2-e0586d6e926b / DEBUG - upload (HTTP GET request) of file my_model_dc3ef01f-d64b-488a-8355-6722382e3afc.pt successful, with status code 200\n",
      "2022-03-15 09:41:29,886 fedbiomed INFO - log from: node_30f10bb5-4751-4306-8ee2-e0586d6e926b / INFO - training with arguments {'monitor': <fedbiomed.node.history_monitor.HistoryMonitor object at 0x13cb46520>, 'node_args': {'gpu': False, 'gpu_num': None, 'gpu_only': False}, 'batch_size': 48, 'lr': 0.001, 'fedprox_mu': 0.0, 'epochs': 1, 'dry_run': False, 'batch_maxnum': 1000}\n",
      "2022-03-15 09:41:29,887 fedbiomed INFO - log from: node_30f10bb5-4751-4306-8ee2-e0586d6e926b / DEBUG - Dataset path has been set as/Users/mlorenzi/works/temp/MNIST\n",
      "2022-03-15 09:41:29,888 fedbiomed INFO - log from: node_30f10bb5-4751-4306-8ee2-e0586d6e926b / DEBUG - Using device cpu for training (cuda_available=False, gpu=False, gpu_only=False, use_gpu=False, gpu_num=None)\n",
      "2022-03-15 09:41:30,025 fedbiomed INFO - log from: node_30f10bb5-4751-4306-8ee2-e0586d6e926b / INFO - Train Epoch: 1 [0/60000 (0%)]\tLoss: 2.285677\n",
      "2022-03-15 09:41:30,621 fedbiomed INFO - log from: node_edb16ff9-3a16-48a0-9f25-ffc473e623ed / INFO - Train Epoch: 1 [480/60000 (1%)]\tLoss: 1.405557\n",
      "2022-03-15 09:41:30,951 fedbiomed INFO - log from: node_30f10bb5-4751-4306-8ee2-e0586d6e926b / INFO - Train Epoch: 1 [480/60000 (1%)]\tLoss: 1.303020\n"
     ]
    },
    {
     "name": "stderr",
     "output_type": "stream",
     "text": [
      "2022-03-15 09:41:31,612 fedbiomed INFO - log from: node_edb16ff9-3a16-48a0-9f25-ffc473e623ed / INFO - Train Epoch: 1 [960/60000 (2%)]\tLoss: 0.697725\n",
      "2022-03-15 09:41:31,956 fedbiomed INFO - log from: node_30f10bb5-4751-4306-8ee2-e0586d6e926b / INFO - Train Epoch: 1 [960/60000 (2%)]\tLoss: 0.751172\n",
      "2022-03-15 09:41:32,616 fedbiomed INFO - log from: node_edb16ff9-3a16-48a0-9f25-ffc473e623ed / INFO - Train Epoch: 1 [1440/60000 (2%)]\tLoss: 0.763078\n",
      "2022-03-15 09:41:32,976 fedbiomed INFO - log from: node_30f10bb5-4751-4306-8ee2-e0586d6e926b / INFO - Train Epoch: 1 [1440/60000 (2%)]\tLoss: 0.572361\n",
      "2022-03-15 09:41:33,703 fedbiomed INFO - log from: node_edb16ff9-3a16-48a0-9f25-ffc473e623ed / INFO - Train Epoch: 1 [1920/60000 (3%)]\tLoss: 0.449551\n",
      "2022-03-15 09:41:34,011 fedbiomed INFO - log from: node_30f10bb5-4751-4306-8ee2-e0586d6e926b / INFO - Train Epoch: 1 [1920/60000 (3%)]\tLoss: 0.308797\n",
      "2022-03-15 09:41:34,633 fedbiomed INFO - log from: node_edb16ff9-3a16-48a0-9f25-ffc473e623ed / INFO - Train Epoch: 1 [2400/60000 (4%)]\tLoss: 0.481829\n",
      "2022-03-15 09:41:34,927 fedbiomed INFO - log from: node_30f10bb5-4751-4306-8ee2-e0586d6e926b / INFO - Train Epoch: 1 [2400/60000 (4%)]\tLoss: 0.574248\n",
      "2022-03-15 09:41:35,504 fedbiomed INFO - log from: node_edb16ff9-3a16-48a0-9f25-ffc473e623ed / INFO - Train Epoch: 1 [2880/60000 (5%)]\tLoss: 0.288299\n",
      "2022-03-15 09:41:35,804 fedbiomed INFO - log from: node_30f10bb5-4751-4306-8ee2-e0586d6e926b / INFO - Train Epoch: 1 [2880/60000 (5%)]\tLoss: 0.421182\n",
      "2022-03-15 09:41:36,413 fedbiomed INFO - log from: node_edb16ff9-3a16-48a0-9f25-ffc473e623ed / INFO - Train Epoch: 1 [3360/60000 (6%)]\tLoss: 0.422565\n",
      "2022-03-15 09:41:36,742 fedbiomed INFO - log from: node_30f10bb5-4751-4306-8ee2-e0586d6e926b / INFO - Train Epoch: 1 [3360/60000 (6%)]\tLoss: 0.433584\n",
      "2022-03-15 09:41:37,326 fedbiomed INFO - log from: node_edb16ff9-3a16-48a0-9f25-ffc473e623ed / INFO - Train Epoch: 1 [3840/60000 (6%)]\tLoss: 0.455293\n",
      "2022-03-15 09:41:37,627 fedbiomed INFO - log from: node_30f10bb5-4751-4306-8ee2-e0586d6e926b / INFO - Train Epoch: 1 [3840/60000 (6%)]\tLoss: 0.252804\n",
      "2022-03-15 09:41:38,206 fedbiomed INFO - log from: node_edb16ff9-3a16-48a0-9f25-ffc473e623ed / INFO - Train Epoch: 1 [4320/60000 (7%)]\tLoss: 0.658623\n",
      "2022-03-15 09:41:38,541 fedbiomed INFO - log from: node_30f10bb5-4751-4306-8ee2-e0586d6e926b / INFO - Train Epoch: 1 [4320/60000 (7%)]\tLoss: 0.200325\n",
      "2022-03-15 09:41:39,153 fedbiomed INFO - log from: node_edb16ff9-3a16-48a0-9f25-ffc473e623ed / INFO - Train Epoch: 1 [4800/60000 (8%)]\tLoss: 0.710239\n",
      "2022-03-15 09:41:39,488 fedbiomed INFO - log from: node_30f10bb5-4751-4306-8ee2-e0586d6e926b / INFO - Train Epoch: 1 [4800/60000 (8%)]\tLoss: 0.246862\n",
      "2022-03-15 09:41:40,651 fedbiomed INFO - log from: node_edb16ff9-3a16-48a0-9f25-ffc473e623ed / INFO - Train Epoch: 1 [5280/60000 (9%)]\tLoss: 0.261013\n",
      "2022-03-15 09:41:41,131 fedbiomed INFO - log from: node_30f10bb5-4751-4306-8ee2-e0586d6e926b / INFO - Train Epoch: 1 [5280/60000 (9%)]\tLoss: 0.290379\n",
      "2022-03-15 09:41:41,958 fedbiomed INFO - log from: node_edb16ff9-3a16-48a0-9f25-ffc473e623ed / INFO - Train Epoch: 1 [5760/60000 (10%)]\tLoss: 0.321386\n",
      "2022-03-15 09:41:42,483 fedbiomed INFO - log from: node_30f10bb5-4751-4306-8ee2-e0586d6e926b / INFO - Train Epoch: 1 [5760/60000 (10%)]\tLoss: 0.139095\n",
      "2022-03-15 09:41:43,600 fedbiomed INFO - log from: node_edb16ff9-3a16-48a0-9f25-ffc473e623ed / INFO - Train Epoch: 1 [6240/60000 (10%)]\tLoss: 0.310828\n",
      "2022-03-15 09:41:44,683 fedbiomed INFO - log from: node_30f10bb5-4751-4306-8ee2-e0586d6e926b / INFO - Train Epoch: 1 [6240/60000 (10%)]\tLoss: 0.171032\n",
      "2022-03-15 09:41:46,056 fedbiomed INFO - log from: node_edb16ff9-3a16-48a0-9f25-ffc473e623ed / INFO - Train Epoch: 1 [6720/60000 (11%)]\tLoss: 0.348886\n",
      "2022-03-15 09:41:46,623 fedbiomed INFO - log from: node_30f10bb5-4751-4306-8ee2-e0586d6e926b / INFO - Train Epoch: 1 [6720/60000 (11%)]\tLoss: 0.389166\n",
      "2022-03-15 09:41:48,087 fedbiomed INFO - log from: node_edb16ff9-3a16-48a0-9f25-ffc473e623ed / INFO - Train Epoch: 1 [7200/60000 (12%)]\tLoss: 0.164429\n",
      "2022-03-15 09:41:48,636 fedbiomed INFO - log from: node_30f10bb5-4751-4306-8ee2-e0586d6e926b / INFO - Train Epoch: 1 [7200/60000 (12%)]\tLoss: 0.143938\n",
      "2022-03-15 09:41:49,359 fedbiomed INFO - log from: node_edb16ff9-3a16-48a0-9f25-ffc473e623ed / INFO - Train Epoch: 1 [7680/60000 (13%)]\tLoss: 0.373660\n",
      "2022-03-15 09:41:49,746 fedbiomed INFO - log from: node_30f10bb5-4751-4306-8ee2-e0586d6e926b / INFO - Train Epoch: 1 [7680/60000 (13%)]\tLoss: 0.138753\n",
      "2022-03-15 09:41:50,388 fedbiomed INFO - log from: node_edb16ff9-3a16-48a0-9f25-ffc473e623ed / INFO - Train Epoch: 1 [8160/60000 (14%)]\tLoss: 0.242283\n",
      "2022-03-15 09:41:50,733 fedbiomed INFO - log from: node_30f10bb5-4751-4306-8ee2-e0586d6e926b / INFO - Train Epoch: 1 [8160/60000 (14%)]\tLoss: 0.190755\n",
      "2022-03-15 09:41:51,377 fedbiomed INFO - log from: node_edb16ff9-3a16-48a0-9f25-ffc473e623ed / INFO - Train Epoch: 1 [8640/60000 (14%)]\tLoss: 0.302507\n",
      "2022-03-15 09:41:51,772 fedbiomed INFO - log from: node_30f10bb5-4751-4306-8ee2-e0586d6e926b / INFO - Train Epoch: 1 [8640/60000 (14%)]\tLoss: 0.086949\n",
      "2022-03-15 09:41:52,466 fedbiomed INFO - log from: node_edb16ff9-3a16-48a0-9f25-ffc473e623ed / INFO - Train Epoch: 1 [9120/60000 (15%)]\tLoss: 0.353476\n",
      "2022-03-15 09:41:52,825 fedbiomed INFO - log from: node_30f10bb5-4751-4306-8ee2-e0586d6e926b / INFO - Train Epoch: 1 [9120/60000 (15%)]\tLoss: 0.083358\n",
      "2022-03-15 09:41:53,469 fedbiomed INFO - log from: node_edb16ff9-3a16-48a0-9f25-ffc473e623ed / INFO - Train Epoch: 1 [9600/60000 (16%)]\tLoss: 0.189506\n",
      "2022-03-15 09:41:53,829 fedbiomed INFO - log from: node_30f10bb5-4751-4306-8ee2-e0586d6e926b / INFO - Train Epoch: 1 [9600/60000 (16%)]\tLoss: 0.071895\n",
      "2022-03-15 09:41:54,520 fedbiomed INFO - log from: node_edb16ff9-3a16-48a0-9f25-ffc473e623ed / INFO - Train Epoch: 1 [10080/60000 (17%)]\tLoss: 0.403303\n",
      "2022-03-15 09:41:54,867 fedbiomed INFO - log from: node_30f10bb5-4751-4306-8ee2-e0586d6e926b / INFO - Train Epoch: 1 [10080/60000 (17%)]\tLoss: 0.055965\n",
      "2022-03-15 09:41:55,506 fedbiomed INFO - log from: node_edb16ff9-3a16-48a0-9f25-ffc473e623ed / INFO - Train Epoch: 1 [10560/60000 (18%)]\tLoss: 0.181011\n",
      "2022-03-15 09:41:55,841 fedbiomed INFO - log from: node_30f10bb5-4751-4306-8ee2-e0586d6e926b / INFO - Train Epoch: 1 [10560/60000 (18%)]\tLoss: 0.328385\n",
      "2022-03-15 09:41:56,614 fedbiomed INFO - log from: node_edb16ff9-3a16-48a0-9f25-ffc473e623ed / INFO - Train Epoch: 1 [11040/60000 (18%)]\tLoss: 0.112960\n",
      "2022-03-15 09:41:57,160 fedbiomed INFO - log from: node_30f10bb5-4751-4306-8ee2-e0586d6e926b / INFO - Train Epoch: 1 [11040/60000 (18%)]\tLoss: 0.117711\n",
      "2022-03-15 09:41:57,965 fedbiomed INFO - log from: node_edb16ff9-3a16-48a0-9f25-ffc473e623ed / INFO - Train Epoch: 1 [11520/60000 (19%)]\tLoss: 0.110777\n",
      "2022-03-15 09:41:58,470 fedbiomed INFO - log from: node_30f10bb5-4751-4306-8ee2-e0586d6e926b / INFO - Train Epoch: 1 [11520/60000 (19%)]\tLoss: 0.128283\n",
      "2022-03-15 09:41:59,149 fedbiomed INFO - log from: node_edb16ff9-3a16-48a0-9f25-ffc473e623ed / INFO - Train Epoch: 1 [12000/60000 (20%)]\tLoss: 0.350347\n",
      "2022-03-15 09:41:59,465 fedbiomed INFO - log from: node_30f10bb5-4751-4306-8ee2-e0586d6e926b / INFO - Train Epoch: 1 [12000/60000 (20%)]\tLoss: 0.117031\n",
      "2022-03-15 09:42:00,105 fedbiomed INFO - log from: node_edb16ff9-3a16-48a0-9f25-ffc473e623ed / INFO - Train Epoch: 1 [12480/60000 (21%)]\tLoss: 0.200301\n",
      "2022-03-15 09:42:00,419 fedbiomed INFO - log from: node_30f10bb5-4751-4306-8ee2-e0586d6e926b / INFO - Train Epoch: 1 [12480/60000 (21%)]\tLoss: 0.240015\n",
      "2022-03-15 09:42:01,069 fedbiomed INFO - log from: node_edb16ff9-3a16-48a0-9f25-ffc473e623ed / INFO - Train Epoch: 1 [12960/60000 (22%)]\tLoss: 0.090008\n",
      "2022-03-15 09:42:01,397 fedbiomed INFO - log from: node_30f10bb5-4751-4306-8ee2-e0586d6e926b / INFO - Train Epoch: 1 [12960/60000 (22%)]\tLoss: 0.165299\n",
      "2022-03-15 09:42:02,093 fedbiomed INFO - log from: node_edb16ff9-3a16-48a0-9f25-ffc473e623ed / INFO - Train Epoch: 1 [13440/60000 (22%)]\tLoss: 0.233841\n",
      "2022-03-15 09:42:02,430 fedbiomed INFO - log from: node_30f10bb5-4751-4306-8ee2-e0586d6e926b / INFO - Train Epoch: 1 [13440/60000 (22%)]\tLoss: 0.350273\n",
      "2022-03-15 09:42:03,129 fedbiomed INFO - log from: node_edb16ff9-3a16-48a0-9f25-ffc473e623ed / INFO - Train Epoch: 1 [13920/60000 (23%)]\tLoss: 0.156391\n"
     ]
    },
    {
     "name": "stderr",
     "output_type": "stream",
     "text": [
      "2022-03-15 09:42:03,480 fedbiomed INFO - log from: node_30f10bb5-4751-4306-8ee2-e0586d6e926b / INFO - Train Epoch: 1 [13920/60000 (23%)]\tLoss: 0.123758\n",
      "2022-03-15 09:42:04,271 fedbiomed INFO - log from: node_edb16ff9-3a16-48a0-9f25-ffc473e623ed / INFO - Train Epoch: 1 [14400/60000 (24%)]\tLoss: 0.139602\n",
      "2022-03-15 09:42:04,591 fedbiomed INFO - log from: node_30f10bb5-4751-4306-8ee2-e0586d6e926b / INFO - Train Epoch: 1 [14400/60000 (24%)]\tLoss: 0.511316\n",
      "2022-03-15 09:42:05,265 fedbiomed INFO - log from: node_edb16ff9-3a16-48a0-9f25-ffc473e623ed / INFO - Train Epoch: 1 [14880/60000 (25%)]\tLoss: 0.053184\n",
      "2022-03-15 09:42:05,611 fedbiomed INFO - log from: node_30f10bb5-4751-4306-8ee2-e0586d6e926b / INFO - Train Epoch: 1 [14880/60000 (25%)]\tLoss: 0.121965\n",
      "2022-03-15 09:42:06,311 fedbiomed INFO - log from: node_edb16ff9-3a16-48a0-9f25-ffc473e623ed / INFO - Train Epoch: 1 [15360/60000 (26%)]\tLoss: 0.456394\n",
      "2022-03-15 09:42:06,656 fedbiomed INFO - log from: node_30f10bb5-4751-4306-8ee2-e0586d6e926b / INFO - Train Epoch: 1 [15360/60000 (26%)]\tLoss: 0.166329\n",
      "2022-03-15 09:42:07,307 fedbiomed INFO - log from: node_edb16ff9-3a16-48a0-9f25-ffc473e623ed / INFO - Train Epoch: 1 [15840/60000 (26%)]\tLoss: 0.164078\n",
      "2022-03-15 09:42:07,718 fedbiomed INFO - log from: node_30f10bb5-4751-4306-8ee2-e0586d6e926b / INFO - Train Epoch: 1 [15840/60000 (26%)]\tLoss: 0.167046\n",
      "2022-03-15 09:42:08,625 fedbiomed INFO - log from: node_edb16ff9-3a16-48a0-9f25-ffc473e623ed / INFO - Train Epoch: 1 [16320/60000 (27%)]\tLoss: 0.208948\n",
      "2022-03-15 09:42:08,904 fedbiomed INFO - log from: node_30f10bb5-4751-4306-8ee2-e0586d6e926b / INFO - Train Epoch: 1 [16320/60000 (27%)]\tLoss: 0.060427\n",
      "2022-03-15 09:42:09,619 fedbiomed INFO - log from: node_edb16ff9-3a16-48a0-9f25-ffc473e623ed / INFO - Train Epoch: 1 [16800/60000 (28%)]\tLoss: 0.199279\n",
      "2022-03-15 09:42:09,927 fedbiomed INFO - log from: node_30f10bb5-4751-4306-8ee2-e0586d6e926b / INFO - Train Epoch: 1 [16800/60000 (28%)]\tLoss: 0.044620\n",
      "2022-03-15 09:42:10,615 fedbiomed INFO - log from: node_edb16ff9-3a16-48a0-9f25-ffc473e623ed / INFO - Train Epoch: 1 [17280/60000 (29%)]\tLoss: 0.132065\n",
      "2022-03-15 09:42:10,914 fedbiomed INFO - log from: node_30f10bb5-4751-4306-8ee2-e0586d6e926b / INFO - Train Epoch: 1 [17280/60000 (29%)]\tLoss: 0.103409\n",
      "2022-03-15 09:42:11,610 fedbiomed INFO - log from: node_edb16ff9-3a16-48a0-9f25-ffc473e623ed / INFO - Train Epoch: 1 [17760/60000 (30%)]\tLoss: 0.132427\n",
      "2022-03-15 09:42:11,911 fedbiomed INFO - log from: node_30f10bb5-4751-4306-8ee2-e0586d6e926b / INFO - Train Epoch: 1 [17760/60000 (30%)]\tLoss: 0.177621\n",
      "2022-03-15 09:42:12,627 fedbiomed INFO - log from: node_edb16ff9-3a16-48a0-9f25-ffc473e623ed / INFO - Train Epoch: 1 [18240/60000 (30%)]\tLoss: 0.022312\n",
      "2022-03-15 09:42:12,934 fedbiomed INFO - log from: node_30f10bb5-4751-4306-8ee2-e0586d6e926b / INFO - Train Epoch: 1 [18240/60000 (30%)]\tLoss: 0.256721\n",
      "2022-03-15 09:42:13,601 fedbiomed INFO - log from: node_edb16ff9-3a16-48a0-9f25-ffc473e623ed / INFO - Train Epoch: 1 [18720/60000 (31%)]\tLoss: 0.194318\n",
      "2022-03-15 09:42:13,894 fedbiomed INFO - log from: node_30f10bb5-4751-4306-8ee2-e0586d6e926b / INFO - Train Epoch: 1 [18720/60000 (31%)]\tLoss: 0.212003\n",
      "2022-03-15 09:42:14,599 fedbiomed INFO - log from: node_edb16ff9-3a16-48a0-9f25-ffc473e623ed / INFO - Train Epoch: 1 [19200/60000 (32%)]\tLoss: 0.176711\n",
      "2022-03-15 09:42:14,894 fedbiomed INFO - log from: node_30f10bb5-4751-4306-8ee2-e0586d6e926b / INFO - Train Epoch: 1 [19200/60000 (32%)]\tLoss: 0.262169\n",
      "2022-03-15 09:42:15,718 fedbiomed INFO - log from: node_edb16ff9-3a16-48a0-9f25-ffc473e623ed / INFO - Train Epoch: 1 [19680/60000 (33%)]\tLoss: 0.093314\n",
      "2022-03-15 09:42:16,106 fedbiomed INFO - log from: node_30f10bb5-4751-4306-8ee2-e0586d6e926b / INFO - Train Epoch: 1 [19680/60000 (33%)]\tLoss: 0.190894\n",
      "2022-03-15 09:42:16,796 fedbiomed INFO - log from: node_edb16ff9-3a16-48a0-9f25-ffc473e623ed / INFO - Train Epoch: 1 [20160/60000 (34%)]\tLoss: 0.141506\n",
      "2022-03-15 09:42:17,085 fedbiomed INFO - log from: node_30f10bb5-4751-4306-8ee2-e0586d6e926b / INFO - Train Epoch: 1 [20160/60000 (34%)]\tLoss: 0.351886\n",
      "2022-03-15 09:42:17,744 fedbiomed INFO - log from: node_edb16ff9-3a16-48a0-9f25-ffc473e623ed / INFO - Train Epoch: 1 [20640/60000 (34%)]\tLoss: 0.108312\n",
      "2022-03-15 09:42:18,149 fedbiomed INFO - log from: node_30f10bb5-4751-4306-8ee2-e0586d6e926b / INFO - Train Epoch: 1 [20640/60000 (34%)]\tLoss: 0.126010\n",
      "2022-03-15 09:42:18,808 fedbiomed INFO - log from: node_edb16ff9-3a16-48a0-9f25-ffc473e623ed / INFO - Train Epoch: 1 [21120/60000 (35%)]\tLoss: 0.252860\n",
      "2022-03-15 09:42:19,084 fedbiomed INFO - log from: node_30f10bb5-4751-4306-8ee2-e0586d6e926b / INFO - Train Epoch: 1 [21120/60000 (35%)]\tLoss: 0.199870\n",
      "2022-03-15 09:42:19,722 fedbiomed INFO - log from: node_edb16ff9-3a16-48a0-9f25-ffc473e623ed / INFO - Train Epoch: 1 [21600/60000 (36%)]\tLoss: 0.132548\n",
      "2022-03-15 09:42:20,000 fedbiomed INFO - log from: node_30f10bb5-4751-4306-8ee2-e0586d6e926b / INFO - Train Epoch: 1 [21600/60000 (36%)]\tLoss: 0.184493\n",
      "2022-03-15 09:42:20,656 fedbiomed INFO - log from: node_edb16ff9-3a16-48a0-9f25-ffc473e623ed / INFO - Train Epoch: 1 [22080/60000 (37%)]\tLoss: 0.021801\n",
      "2022-03-15 09:42:20,941 fedbiomed INFO - log from: node_30f10bb5-4751-4306-8ee2-e0586d6e926b / INFO - Train Epoch: 1 [22080/60000 (37%)]\tLoss: 0.132998\n",
      "2022-03-15 09:42:21,796 fedbiomed INFO - log from: node_edb16ff9-3a16-48a0-9f25-ffc473e623ed / INFO - Train Epoch: 1 [22560/60000 (38%)]\tLoss: 0.083414\n",
      "2022-03-15 09:42:22,177 fedbiomed INFO - log from: node_30f10bb5-4751-4306-8ee2-e0586d6e926b / INFO - Train Epoch: 1 [22560/60000 (38%)]\tLoss: 0.054309\n",
      "2022-03-15 09:42:23,026 fedbiomed INFO - log from: node_edb16ff9-3a16-48a0-9f25-ffc473e623ed / INFO - Train Epoch: 1 [23040/60000 (38%)]\tLoss: 0.278516\n",
      "2022-03-15 09:42:23,388 fedbiomed INFO - log from: node_30f10bb5-4751-4306-8ee2-e0586d6e926b / INFO - Train Epoch: 1 [23040/60000 (38%)]\tLoss: 0.045805\n",
      "2022-03-15 09:42:24,025 fedbiomed INFO - log from: node_edb16ff9-3a16-48a0-9f25-ffc473e623ed / INFO - Train Epoch: 1 [23520/60000 (39%)]\tLoss: 0.142741\n",
      "2022-03-15 09:42:24,356 fedbiomed INFO - log from: node_30f10bb5-4751-4306-8ee2-e0586d6e926b / INFO - Train Epoch: 1 [23520/60000 (39%)]\tLoss: 0.085990\n",
      "2022-03-15 09:42:24,991 fedbiomed INFO - log from: node_edb16ff9-3a16-48a0-9f25-ffc473e623ed / INFO - Train Epoch: 1 [24000/60000 (40%)]\tLoss: 0.180658\n",
      "2022-03-15 09:42:25,313 fedbiomed INFO - log from: node_30f10bb5-4751-4306-8ee2-e0586d6e926b / INFO - Train Epoch: 1 [24000/60000 (40%)]\tLoss: 0.036507\n",
      "2022-03-15 09:42:25,936 fedbiomed INFO - log from: node_edb16ff9-3a16-48a0-9f25-ffc473e623ed / INFO - Train Epoch: 1 [24480/60000 (41%)]\tLoss: 0.058519\n",
      "2022-03-15 09:42:26,250 fedbiomed INFO - log from: node_30f10bb5-4751-4306-8ee2-e0586d6e926b / INFO - Train Epoch: 1 [24480/60000 (41%)]\tLoss: 0.178010\n",
      "2022-03-15 09:42:26,869 fedbiomed INFO - log from: node_edb16ff9-3a16-48a0-9f25-ffc473e623ed / INFO - Train Epoch: 1 [24960/60000 (42%)]\tLoss: 0.156566\n",
      "2022-03-15 09:42:27,177 fedbiomed INFO - log from: node_30f10bb5-4751-4306-8ee2-e0586d6e926b / INFO - Train Epoch: 1 [24960/60000 (42%)]\tLoss: 0.287457\n",
      "2022-03-15 09:42:27,789 fedbiomed INFO - log from: node_edb16ff9-3a16-48a0-9f25-ffc473e623ed / INFO - Train Epoch: 1 [25440/60000 (42%)]\tLoss: 0.281324\n",
      "2022-03-15 09:42:28,104 fedbiomed INFO - log from: node_30f10bb5-4751-4306-8ee2-e0586d6e926b / INFO - Train Epoch: 1 [25440/60000 (42%)]\tLoss: 0.081483\n",
      "2022-03-15 09:42:28,803 fedbiomed INFO - log from: node_edb16ff9-3a16-48a0-9f25-ffc473e623ed / INFO - Train Epoch: 1 [25920/60000 (43%)]\tLoss: 0.120172\n",
      "2022-03-15 09:42:29,126 fedbiomed INFO - log from: node_30f10bb5-4751-4306-8ee2-e0586d6e926b / INFO - Train Epoch: 1 [25920/60000 (43%)]\tLoss: 0.055902\n",
      "2022-03-15 09:42:29,751 fedbiomed INFO - log from: node_edb16ff9-3a16-48a0-9f25-ffc473e623ed / INFO - Train Epoch: 1 [26400/60000 (44%)]\tLoss: 0.146378\n",
      "2022-03-15 09:42:30,075 fedbiomed INFO - log from: node_30f10bb5-4751-4306-8ee2-e0586d6e926b / INFO - Train Epoch: 1 [26400/60000 (44%)]\tLoss: 0.070958\n",
      "2022-03-15 09:42:30,710 fedbiomed INFO - log from: node_edb16ff9-3a16-48a0-9f25-ffc473e623ed / INFO - Train Epoch: 1 [26880/60000 (45%)]\tLoss: 0.029070\n"
     ]
    },
    {
     "name": "stderr",
     "output_type": "stream",
     "text": [
      "2022-03-15 09:42:31,027 fedbiomed INFO - log from: node_30f10bb5-4751-4306-8ee2-e0586d6e926b / INFO - Train Epoch: 1 [26880/60000 (45%)]\tLoss: 0.023735\n",
      "2022-03-15 09:42:31,645 fedbiomed INFO - log from: node_edb16ff9-3a16-48a0-9f25-ffc473e623ed / INFO - Train Epoch: 1 [27360/60000 (46%)]\tLoss: 0.033640\n",
      "2022-03-15 09:42:31,955 fedbiomed INFO - log from: node_30f10bb5-4751-4306-8ee2-e0586d6e926b / INFO - Train Epoch: 1 [27360/60000 (46%)]\tLoss: 0.064890\n",
      "2022-03-15 09:42:32,571 fedbiomed INFO - log from: node_edb16ff9-3a16-48a0-9f25-ffc473e623ed / INFO - Train Epoch: 1 [27840/60000 (46%)]\tLoss: 0.177535\n",
      "2022-03-15 09:42:32,885 fedbiomed INFO - log from: node_30f10bb5-4751-4306-8ee2-e0586d6e926b / INFO - Train Epoch: 1 [27840/60000 (46%)]\tLoss: 0.094475\n",
      "2022-03-15 09:42:33,513 fedbiomed INFO - log from: node_edb16ff9-3a16-48a0-9f25-ffc473e623ed / INFO - Train Epoch: 1 [28320/60000 (47%)]\tLoss: 0.146961\n",
      "2022-03-15 09:42:33,942 fedbiomed INFO - log from: node_30f10bb5-4751-4306-8ee2-e0586d6e926b / INFO - Train Epoch: 1 [28320/60000 (47%)]\tLoss: 0.225694\n",
      "2022-03-15 09:42:34,607 fedbiomed INFO - log from: node_edb16ff9-3a16-48a0-9f25-ffc473e623ed / INFO - Train Epoch: 1 [28800/60000 (48%)]\tLoss: 0.210054\n",
      "2022-03-15 09:42:34,939 fedbiomed INFO - log from: node_30f10bb5-4751-4306-8ee2-e0586d6e926b / INFO - Train Epoch: 1 [28800/60000 (48%)]\tLoss: 0.288136\n",
      "2022-03-15 09:42:35,547 fedbiomed INFO - log from: node_edb16ff9-3a16-48a0-9f25-ffc473e623ed / INFO - Train Epoch: 1 [29280/60000 (49%)]\tLoss: 0.081286\n",
      "2022-03-15 09:42:35,893 fedbiomed INFO - log from: node_30f10bb5-4751-4306-8ee2-e0586d6e926b / INFO - Train Epoch: 1 [29280/60000 (49%)]\tLoss: 0.083561\n",
      "2022-03-15 09:42:36,528 fedbiomed INFO - log from: node_edb16ff9-3a16-48a0-9f25-ffc473e623ed / INFO - Train Epoch: 1 [29760/60000 (50%)]\tLoss: 0.131893\n",
      "2022-03-15 09:42:36,824 fedbiomed INFO - log from: node_30f10bb5-4751-4306-8ee2-e0586d6e926b / INFO - Train Epoch: 1 [29760/60000 (50%)]\tLoss: 0.266651\n",
      "2022-03-15 09:42:37,517 fedbiomed INFO - log from: node_edb16ff9-3a16-48a0-9f25-ffc473e623ed / INFO - Train Epoch: 1 [30240/60000 (50%)]\tLoss: 0.302800\n",
      "2022-03-15 09:42:37,950 fedbiomed INFO - log from: node_30f10bb5-4751-4306-8ee2-e0586d6e926b / INFO - Train Epoch: 1 [30240/60000 (50%)]\tLoss: 0.173416\n",
      "2022-03-15 09:42:38,621 fedbiomed INFO - log from: node_edb16ff9-3a16-48a0-9f25-ffc473e623ed / INFO - Train Epoch: 1 [30720/60000 (51%)]\tLoss: 0.103671\n",
      "2022-03-15 09:42:38,936 fedbiomed INFO - log from: node_30f10bb5-4751-4306-8ee2-e0586d6e926b / INFO - Train Epoch: 1 [30720/60000 (51%)]\tLoss: 0.096396\n",
      "2022-03-15 09:42:39,617 fedbiomed INFO - log from: node_edb16ff9-3a16-48a0-9f25-ffc473e623ed / INFO - Train Epoch: 1 [31200/60000 (52%)]\tLoss: 0.020103\n",
      "2022-03-15 09:42:40,049 fedbiomed INFO - log from: node_30f10bb5-4751-4306-8ee2-e0586d6e926b / INFO - Train Epoch: 1 [31200/60000 (52%)]\tLoss: 0.091785\n",
      "2022-03-15 09:42:40,838 fedbiomed INFO - log from: node_edb16ff9-3a16-48a0-9f25-ffc473e623ed / INFO - Train Epoch: 1 [31680/60000 (53%)]\tLoss: 0.085137\n",
      "2022-03-15 09:42:41,167 fedbiomed INFO - log from: node_30f10bb5-4751-4306-8ee2-e0586d6e926b / INFO - Train Epoch: 1 [31680/60000 (53%)]\tLoss: 0.096688\n",
      "2022-03-15 09:42:41,836 fedbiomed INFO - log from: node_edb16ff9-3a16-48a0-9f25-ffc473e623ed / INFO - Train Epoch: 1 [32160/60000 (54%)]\tLoss: 0.128251\n",
      "2022-03-15 09:42:42,154 fedbiomed INFO - log from: node_30f10bb5-4751-4306-8ee2-e0586d6e926b / INFO - Train Epoch: 1 [32160/60000 (54%)]\tLoss: 0.087267\n",
      "2022-03-15 09:42:42,772 fedbiomed INFO - log from: node_edb16ff9-3a16-48a0-9f25-ffc473e623ed / INFO - Train Epoch: 1 [32640/60000 (54%)]\tLoss: 0.201926\n",
      "2022-03-15 09:42:43,094 fedbiomed INFO - log from: node_30f10bb5-4751-4306-8ee2-e0586d6e926b / INFO - Train Epoch: 1 [32640/60000 (54%)]\tLoss: 0.141544\n",
      "2022-03-15 09:42:43,704 fedbiomed INFO - log from: node_edb16ff9-3a16-48a0-9f25-ffc473e623ed / INFO - Train Epoch: 1 [33120/60000 (55%)]\tLoss: 0.153555\n",
      "2022-03-15 09:42:44,017 fedbiomed INFO - log from: node_30f10bb5-4751-4306-8ee2-e0586d6e926b / INFO - Train Epoch: 1 [33120/60000 (55%)]\tLoss: 0.134514\n",
      "2022-03-15 09:42:44,715 fedbiomed INFO - log from: node_edb16ff9-3a16-48a0-9f25-ffc473e623ed / INFO - Train Epoch: 1 [33600/60000 (56%)]\tLoss: 0.028827\n",
      "2022-03-15 09:42:45,046 fedbiomed INFO - log from: node_30f10bb5-4751-4306-8ee2-e0586d6e926b / INFO - Train Epoch: 1 [33600/60000 (56%)]\tLoss: 0.061875\n",
      "2022-03-15 09:42:45,695 fedbiomed INFO - log from: node_edb16ff9-3a16-48a0-9f25-ffc473e623ed / INFO - Train Epoch: 1 [34080/60000 (57%)]\tLoss: 0.344438\n",
      "2022-03-15 09:42:46,029 fedbiomed INFO - log from: node_30f10bb5-4751-4306-8ee2-e0586d6e926b / INFO - Train Epoch: 1 [34080/60000 (57%)]\tLoss: 0.084613\n",
      "2022-03-15 09:42:46,800 fedbiomed INFO - log from: node_edb16ff9-3a16-48a0-9f25-ffc473e623ed / INFO - Train Epoch: 1 [34560/60000 (58%)]\tLoss: 0.174444\n",
      "2022-03-15 09:42:47,127 fedbiomed INFO - log from: node_30f10bb5-4751-4306-8ee2-e0586d6e926b / INFO - Train Epoch: 1 [34560/60000 (58%)]\tLoss: 0.111388\n",
      "2022-03-15 09:42:47,923 fedbiomed INFO - log from: node_edb16ff9-3a16-48a0-9f25-ffc473e623ed / INFO - Train Epoch: 1 [35040/60000 (58%)]\tLoss: 0.075254\n",
      "2022-03-15 09:42:48,343 fedbiomed INFO - log from: node_30f10bb5-4751-4306-8ee2-e0586d6e926b / INFO - Train Epoch: 1 [35040/60000 (58%)]\tLoss: 0.270672\n",
      "2022-03-15 09:42:49,117 fedbiomed INFO - log from: node_edb16ff9-3a16-48a0-9f25-ffc473e623ed / INFO - Train Epoch: 1 [35520/60000 (59%)]\tLoss: 0.041767\n",
      "2022-03-15 09:42:49,398 fedbiomed INFO - log from: node_30f10bb5-4751-4306-8ee2-e0586d6e926b / INFO - Train Epoch: 1 [35520/60000 (59%)]\tLoss: 0.196724\n",
      "2022-03-15 09:42:50,053 fedbiomed INFO - log from: node_edb16ff9-3a16-48a0-9f25-ffc473e623ed / INFO - Train Epoch: 1 [36000/60000 (60%)]\tLoss: 0.034527\n",
      "2022-03-15 09:42:50,344 fedbiomed INFO - log from: node_30f10bb5-4751-4306-8ee2-e0586d6e926b / INFO - Train Epoch: 1 [36000/60000 (60%)]\tLoss: 0.049160\n",
      "2022-03-15 09:42:51,020 fedbiomed INFO - log from: node_edb16ff9-3a16-48a0-9f25-ffc473e623ed / INFO - Train Epoch: 1 [36480/60000 (61%)]\tLoss: 0.045331\n",
      "2022-03-15 09:42:51,314 fedbiomed INFO - log from: node_30f10bb5-4751-4306-8ee2-e0586d6e926b / INFO - Train Epoch: 1 [36480/60000 (61%)]\tLoss: 0.037708\n",
      "2022-03-15 09:42:52,000 fedbiomed INFO - log from: node_edb16ff9-3a16-48a0-9f25-ffc473e623ed / INFO - Train Epoch: 1 [36960/60000 (62%)]\tLoss: 0.115378\n",
      "2022-03-15 09:42:52,284 fedbiomed INFO - log from: node_30f10bb5-4751-4306-8ee2-e0586d6e926b / INFO - Train Epoch: 1 [36960/60000 (62%)]\tLoss: 0.085931\n",
      "2022-03-15 09:42:52,939 fedbiomed INFO - log from: node_edb16ff9-3a16-48a0-9f25-ffc473e623ed / INFO - Train Epoch: 1 [37440/60000 (62%)]\tLoss: 0.076417\n",
      "2022-03-15 09:42:53,222 fedbiomed INFO - log from: node_30f10bb5-4751-4306-8ee2-e0586d6e926b / INFO - Train Epoch: 1 [37440/60000 (62%)]\tLoss: 0.427689\n",
      "2022-03-15 09:42:53,883 fedbiomed INFO - log from: node_edb16ff9-3a16-48a0-9f25-ffc473e623ed / INFO - Train Epoch: 1 [37920/60000 (63%)]\tLoss: 0.081397\n",
      "2022-03-15 09:42:54,165 fedbiomed INFO - log from: node_30f10bb5-4751-4306-8ee2-e0586d6e926b / INFO - Train Epoch: 1 [37920/60000 (63%)]\tLoss: 0.283488\n",
      "2022-03-15 09:42:54,810 fedbiomed INFO - log from: node_edb16ff9-3a16-48a0-9f25-ffc473e623ed / INFO - Train Epoch: 1 [38400/60000 (64%)]\tLoss: 0.179109\n",
      "2022-03-15 09:42:55,094 fedbiomed INFO - log from: node_30f10bb5-4751-4306-8ee2-e0586d6e926b / INFO - Train Epoch: 1 [38400/60000 (64%)]\tLoss: 0.023671\n",
      "2022-03-15 09:42:55,754 fedbiomed INFO - log from: node_edb16ff9-3a16-48a0-9f25-ffc473e623ed / INFO - Train Epoch: 1 [38880/60000 (65%)]\tLoss: 0.214932\n",
      "2022-03-15 09:42:56,052 fedbiomed INFO - log from: node_30f10bb5-4751-4306-8ee2-e0586d6e926b / INFO - Train Epoch: 1 [38880/60000 (65%)]\tLoss: 0.087289\n",
      "2022-03-15 09:42:56,727 fedbiomed INFO - log from: node_edb16ff9-3a16-48a0-9f25-ffc473e623ed / INFO - Train Epoch: 1 [39360/60000 (66%)]\tLoss: 0.107648\n",
      "2022-03-15 09:42:57,031 fedbiomed INFO - log from: node_30f10bb5-4751-4306-8ee2-e0586d6e926b / INFO - Train Epoch: 1 [39360/60000 (66%)]\tLoss: 0.173788\n",
      "2022-03-15 09:42:57,691 fedbiomed INFO - log from: node_edb16ff9-3a16-48a0-9f25-ffc473e623ed / INFO - Train Epoch: 1 [39840/60000 (66%)]\tLoss: 0.036049\n"
     ]
    },
    {
     "name": "stderr",
     "output_type": "stream",
     "text": [
      "2022-03-15 09:42:57,966 fedbiomed INFO - log from: node_30f10bb5-4751-4306-8ee2-e0586d6e926b / INFO - Train Epoch: 1 [39840/60000 (66%)]\tLoss: 0.152405\n",
      "2022-03-15 09:42:58,631 fedbiomed INFO - log from: node_edb16ff9-3a16-48a0-9f25-ffc473e623ed / INFO - Train Epoch: 1 [40320/60000 (67%)]\tLoss: 0.072744\n",
      "2022-03-15 09:42:58,922 fedbiomed INFO - log from: node_30f10bb5-4751-4306-8ee2-e0586d6e926b / INFO - Train Epoch: 1 [40320/60000 (67%)]\tLoss: 0.066477\n",
      "2022-03-15 09:42:59,590 fedbiomed INFO - log from: node_edb16ff9-3a16-48a0-9f25-ffc473e623ed / INFO - Train Epoch: 1 [40800/60000 (68%)]\tLoss: 0.039309\n",
      "2022-03-15 09:42:59,867 fedbiomed INFO - log from: node_30f10bb5-4751-4306-8ee2-e0586d6e926b / INFO - Train Epoch: 1 [40800/60000 (68%)]\tLoss: 0.102458\n",
      "2022-03-15 09:43:00,521 fedbiomed INFO - log from: node_edb16ff9-3a16-48a0-9f25-ffc473e623ed / INFO - Train Epoch: 1 [41280/60000 (69%)]\tLoss: 0.026442\n",
      "2022-03-15 09:43:00,806 fedbiomed INFO - log from: node_30f10bb5-4751-4306-8ee2-e0586d6e926b / INFO - Train Epoch: 1 [41280/60000 (69%)]\tLoss: 0.129381\n",
      "2022-03-15 09:43:01,464 fedbiomed INFO - log from: node_edb16ff9-3a16-48a0-9f25-ffc473e623ed / INFO - Train Epoch: 1 [41760/60000 (70%)]\tLoss: 0.032555\n",
      "2022-03-15 09:43:01,755 fedbiomed INFO - log from: node_30f10bb5-4751-4306-8ee2-e0586d6e926b / INFO - Train Epoch: 1 [41760/60000 (70%)]\tLoss: 0.040114\n",
      "2022-03-15 09:43:02,430 fedbiomed INFO - log from: node_edb16ff9-3a16-48a0-9f25-ffc473e623ed / INFO - Train Epoch: 1 [42240/60000 (70%)]\tLoss: 0.178470\n",
      "2022-03-15 09:43:02,709 fedbiomed INFO - log from: node_30f10bb5-4751-4306-8ee2-e0586d6e926b / INFO - Train Epoch: 1 [42240/60000 (70%)]\tLoss: 0.508438\n",
      "2022-03-15 09:43:03,349 fedbiomed INFO - log from: node_edb16ff9-3a16-48a0-9f25-ffc473e623ed / INFO - Train Epoch: 1 [42720/60000 (71%)]\tLoss: 0.137190\n",
      "2022-03-15 09:43:03,621 fedbiomed INFO - log from: node_30f10bb5-4751-4306-8ee2-e0586d6e926b / INFO - Train Epoch: 1 [42720/60000 (71%)]\tLoss: 0.020900\n",
      "2022-03-15 09:43:04,257 fedbiomed INFO - log from: node_edb16ff9-3a16-48a0-9f25-ffc473e623ed / INFO - Train Epoch: 1 [43200/60000 (72%)]\tLoss: 0.159911\n",
      "2022-03-15 09:43:04,521 fedbiomed INFO - log from: node_30f10bb5-4751-4306-8ee2-e0586d6e926b / INFO - Train Epoch: 1 [43200/60000 (72%)]\tLoss: 0.403933\n",
      "2022-03-15 09:43:05,147 fedbiomed INFO - log from: node_edb16ff9-3a16-48a0-9f25-ffc473e623ed / INFO - Train Epoch: 1 [43680/60000 (73%)]\tLoss: 0.032515\n",
      "2022-03-15 09:43:05,428 fedbiomed INFO - log from: node_30f10bb5-4751-4306-8ee2-e0586d6e926b / INFO - Train Epoch: 1 [43680/60000 (73%)]\tLoss: 0.008600\n",
      "2022-03-15 09:43:06,052 fedbiomed INFO - log from: node_edb16ff9-3a16-48a0-9f25-ffc473e623ed / INFO - Train Epoch: 1 [44160/60000 (74%)]\tLoss: 0.069260\n",
      "2022-03-15 09:43:06,344 fedbiomed INFO - log from: node_30f10bb5-4751-4306-8ee2-e0586d6e926b / INFO - Train Epoch: 1 [44160/60000 (74%)]\tLoss: 0.095698\n",
      "2022-03-15 09:43:06,948 fedbiomed INFO - log from: node_edb16ff9-3a16-48a0-9f25-ffc473e623ed / INFO - Train Epoch: 1 [44640/60000 (74%)]\tLoss: 0.079343\n",
      "2022-03-15 09:43:07,250 fedbiomed INFO - log from: node_30f10bb5-4751-4306-8ee2-e0586d6e926b / INFO - Train Epoch: 1 [44640/60000 (74%)]\tLoss: 0.077662\n",
      "2022-03-15 09:43:07,865 fedbiomed INFO - log from: node_edb16ff9-3a16-48a0-9f25-ffc473e623ed / INFO - Train Epoch: 1 [45120/60000 (75%)]\tLoss: 0.023351\n",
      "2022-03-15 09:43:08,137 fedbiomed INFO - log from: node_30f10bb5-4751-4306-8ee2-e0586d6e926b / INFO - Train Epoch: 1 [45120/60000 (75%)]\tLoss: 0.184920\n",
      "2022-03-15 09:43:08,766 fedbiomed INFO - log from: node_edb16ff9-3a16-48a0-9f25-ffc473e623ed / INFO - Train Epoch: 1 [45600/60000 (76%)]\tLoss: 0.079526\n",
      "2022-03-15 09:43:09,035 fedbiomed INFO - log from: node_30f10bb5-4751-4306-8ee2-e0586d6e926b / INFO - Train Epoch: 1 [45600/60000 (76%)]\tLoss: 0.025801\n",
      "2022-03-15 09:43:09,659 fedbiomed INFO - log from: node_edb16ff9-3a16-48a0-9f25-ffc473e623ed / INFO - Train Epoch: 1 [46080/60000 (77%)]\tLoss: 0.024328\n",
      "2022-03-15 09:43:09,934 fedbiomed INFO - log from: node_30f10bb5-4751-4306-8ee2-e0586d6e926b / INFO - Train Epoch: 1 [46080/60000 (77%)]\tLoss: 0.121119\n",
      "2022-03-15 09:43:10,561 fedbiomed INFO - log from: node_edb16ff9-3a16-48a0-9f25-ffc473e623ed / INFO - Train Epoch: 1 [46560/60000 (78%)]\tLoss: 0.066406\n",
      "2022-03-15 09:43:10,833 fedbiomed INFO - log from: node_30f10bb5-4751-4306-8ee2-e0586d6e926b / INFO - Train Epoch: 1 [46560/60000 (78%)]\tLoss: 0.246174\n",
      "2022-03-15 09:43:11,485 fedbiomed INFO - log from: node_edb16ff9-3a16-48a0-9f25-ffc473e623ed / INFO - Train Epoch: 1 [47040/60000 (78%)]\tLoss: 0.172102\n",
      "2022-03-15 09:43:11,762 fedbiomed INFO - log from: node_30f10bb5-4751-4306-8ee2-e0586d6e926b / INFO - Train Epoch: 1 [47040/60000 (78%)]\tLoss: 0.063599\n",
      "2022-03-15 09:43:12,390 fedbiomed INFO - log from: node_edb16ff9-3a16-48a0-9f25-ffc473e623ed / INFO - Train Epoch: 1 [47520/60000 (79%)]\tLoss: 0.126653\n",
      "2022-03-15 09:43:12,662 fedbiomed INFO - log from: node_30f10bb5-4751-4306-8ee2-e0586d6e926b / INFO - Train Epoch: 1 [47520/60000 (79%)]\tLoss: 0.039047\n",
      "2022-03-15 09:43:13,283 fedbiomed INFO - log from: node_edb16ff9-3a16-48a0-9f25-ffc473e623ed / DEBUG - Reached 1000 batches for this epoch, ignore remaining data\n",
      "2022-03-15 09:43:13,284 fedbiomed INFO - log from: node_edb16ff9-3a16-48a0-9f25-ffc473e623ed / DEBUG - running model.postprocess() method\n",
      "2022-03-15 09:43:13,581 fedbiomed INFO - log from: node_30f10bb5-4751-4306-8ee2-e0586d6e926b / DEBUG - Reached 1000 batches for this epoch, ignore remaining data\n",
      "2022-03-15 09:43:13,582 fedbiomed INFO - log from: node_30f10bb5-4751-4306-8ee2-e0586d6e926b / DEBUG - running model.postprocess() method\n",
      "2022-03-15 09:43:13,906 fedbiomed INFO - log from: node_edb16ff9-3a16-48a0-9f25-ffc473e623ed / DEBUG - upload (HTTP POST request) of file /Users/mlorenzi/works/temp/fedbiomed/var/tmp/node_params_0e5541b1-8696-48df-90f7-4312a71dab66.pt successful, with status code 201\n",
      "2022-03-15 09:43:13,908 fedbiomed INFO - log from: node_edb16ff9-3a16-48a0-9f25-ffc473e623ed / INFO - results uploaded successfully \n",
      "2022-03-15 09:43:14,208 fedbiomed INFO - log from: node_30f10bb5-4751-4306-8ee2-e0586d6e926b / DEBUG - upload (HTTP POST request) of file /Users/mlorenzi/works/temp/fedbiomed/var/tmp/node_params_505835a1-ef47-48d5-8345-ec7209010c95.pt successful, with status code 201\n",
      "2022-03-15 09:43:14,209 fedbiomed INFO - log from: node_30f10bb5-4751-4306-8ee2-e0586d6e926b / INFO - results uploaded successfully \n",
      "2022-03-15 09:43:19,384 fedbiomed INFO - Downloading model params after training on node_edb16ff9-3a16-48a0-9f25-ffc473e623ed - from http://localhost:8844/media/uploads/2022/03/15/node_params_0e5541b1-8696-48df-90f7-4312a71dab66.pt\n",
      "2022-03-15 09:43:19,520 fedbiomed DEBUG - upload (HTTP GET request) of file node_params_0eb9f632-3df2-4564-9836-e6125c77c4fc.pt successful, with status code 200\n",
      "2022-03-15 09:43:19,530 fedbiomed INFO - Downloading model params after training on node_30f10bb5-4751-4306-8ee2-e0586d6e926b - from http://localhost:8844/media/uploads/2022/03/15/node_params_505835a1-ef47-48d5-8345-ec7209010c95.pt\n",
      "2022-03-15 09:43:19,659 fedbiomed DEBUG - upload (HTTP GET request) of file node_params_61a8b76a-2451-472f-8819-ac690b1df31e.pt successful, with status code 200\n",
      "2022-03-15 09:43:19,674 fedbiomed INFO - Nodes that successfully reply in round 0 ['node_edb16ff9-3a16-48a0-9f25-ffc473e623ed', 'node_30f10bb5-4751-4306-8ee2-e0586d6e926b']\n",
      "2022-03-15 09:43:20,135 fedbiomed DEBUG - upload (HTTP POST request) of file /Users/mlorenzi/works/temp/fedbiomed/var/experiments/Experiment_0043/aggregated_params_682d4c31-272e-4290-910f-1cdca4012aad.pt successful, with status code 201\n",
      "2022-03-15 09:43:20,136 fedbiomed INFO - Saved aggregated params for round 0 in /Users/mlorenzi/works/temp/fedbiomed/var/experiments/Experiment_0043/aggregated_params_682d4c31-272e-4290-910f-1cdca4012aad.pt\n",
      "2022-03-15 09:43:20,138 fedbiomed INFO - Sampled nodes in round 1 ['node_edb16ff9-3a16-48a0-9f25-ffc473e623ed', 'node_30f10bb5-4751-4306-8ee2-e0586d6e926b']\n",
      "2022-03-15 09:43:20,139 fedbiomed INFO - Send message to node node_edb16ff9-3a16-48a0-9f25-ffc473e623ed - {'researcher_id': 'researcher_cc7c7db6-7b8b-4eef-b951-6ff12b238da3', 'job_id': '33529e7b-1b42-457a-93ab-4270ee15a9d1', 'training_args': {'batch_size': 48, 'lr': 0.001, 'fedprox_mu': 0.0, 'epochs': 1, 'dry_run': False, 'batch_maxnum': 1000}, 'model_args': {'DP': {'clip_threshold': 15.0, 'sigma': 5.0}}, 'command': 'train', 'model_url': 'http://localhost:8844/media/uploads/2022/03/15/my_model_84f25685-7918-4865-aeab-dcb625c976d3.py', 'params_url': 'http://localhost:8844/media/uploads/2022/03/15/aggregated_params_682d4c31-272e-4290-910f-1cdca4012aad.pt', 'model_class': 'MyTrainingPlan', 'training_data': {'node_edb16ff9-3a16-48a0-9f25-ffc473e623ed': ['dataset_2e82719a-83a4-4de4-972f-7637c45b6d7d']}}\n"
     ]
    },
    {
     "name": "stderr",
     "output_type": "stream",
     "text": [
      "2022-03-15 09:43:20,140 fedbiomed DEBUG - researcher_cc7c7db6-7b8b-4eef-b951-6ff12b238da3\n",
      "2022-03-15 09:43:20,141 fedbiomed INFO - Send message to node node_30f10bb5-4751-4306-8ee2-e0586d6e926b - {'researcher_id': 'researcher_cc7c7db6-7b8b-4eef-b951-6ff12b238da3', 'job_id': '33529e7b-1b42-457a-93ab-4270ee15a9d1', 'training_args': {'batch_size': 48, 'lr': 0.001, 'fedprox_mu': 0.0, 'epochs': 1, 'dry_run': False, 'batch_maxnum': 1000}, 'model_args': {'DP': {'clip_threshold': 15.0, 'sigma': 5.0}}, 'command': 'train', 'model_url': 'http://localhost:8844/media/uploads/2022/03/15/my_model_84f25685-7918-4865-aeab-dcb625c976d3.py', 'params_url': 'http://localhost:8844/media/uploads/2022/03/15/aggregated_params_682d4c31-272e-4290-910f-1cdca4012aad.pt', 'model_class': 'MyTrainingPlan', 'training_data': {'node_30f10bb5-4751-4306-8ee2-e0586d6e926b': ['dataset_aeeba6e7-ffb4-4c01-8da5-1d549cedbf01']}}\n",
      "2022-03-15 09:43:20,142 fedbiomed DEBUG - researcher_cc7c7db6-7b8b-4eef-b951-6ff12b238da3\n",
      "2022-03-15 09:43:20,150 fedbiomed INFO - log from: node_edb16ff9-3a16-48a0-9f25-ffc473e623ed / DEBUG - Message received: {'researcher_id': 'researcher_cc7c7db6-7b8b-4eef-b951-6ff12b238da3', 'job_id': '33529e7b-1b42-457a-93ab-4270ee15a9d1', 'training_args': {'batch_size': 48, 'lr': 0.001, 'fedprox_mu': 0.0, 'epochs': 1, 'dry_run': False, 'batch_maxnum': 1000}, 'model_args': {'DP': {'clip_threshold': 15.0, 'sigma': 5.0}}, 'command': 'train', 'model_url': 'http://localhost:8844/media/uploads/2022/03/15/my_model_84f25685-7918-4865-aeab-dcb625c976d3.py', 'params_url': 'http://localhost:8844/media/uploads/2022/03/15/aggregated_params_682d4c31-272e-4290-910f-1cdca4012aad.pt', 'model_class': 'MyTrainingPlan', 'training_data': {'node_edb16ff9-3a16-48a0-9f25-ffc473e623ed': ['dataset_2e82719a-83a4-4de4-972f-7637c45b6d7d']}}\n",
      "2022-03-15 09:43:20,151 fedbiomed INFO - log from: node_edb16ff9-3a16-48a0-9f25-ffc473e623ed / DEBUG - [TASKS QUEUE] Item:{'researcher_id': 'researcher_cc7c7db6-7b8b-4eef-b951-6ff12b238da3', 'job_id': '33529e7b-1b42-457a-93ab-4270ee15a9d1', 'params_url': 'http://localhost:8844/media/uploads/2022/03/15/aggregated_params_682d4c31-272e-4290-910f-1cdca4012aad.pt', 'training_args': {'batch_size': 48, 'lr': 0.001, 'fedprox_mu': 0.0, 'epochs': 1, 'dry_run': False, 'batch_maxnum': 1000}, 'training_data': {'node_edb16ff9-3a16-48a0-9f25-ffc473e623ed': ['dataset_2e82719a-83a4-4de4-972f-7637c45b6d7d']}, 'model_args': {'DP': {'clip_threshold': 15.0, 'sigma': 5.0}}, 'model_url': 'http://localhost:8844/media/uploads/2022/03/15/my_model_84f25685-7918-4865-aeab-dcb625c976d3.py', 'model_class': 'MyTrainingPlan', 'command': 'train'}\n",
      "2022-03-15 09:43:20,157 fedbiomed INFO - log from: node_30f10bb5-4751-4306-8ee2-e0586d6e926b / DEBUG - Message received: {'researcher_id': 'researcher_cc7c7db6-7b8b-4eef-b951-6ff12b238da3', 'job_id': '33529e7b-1b42-457a-93ab-4270ee15a9d1', 'training_args': {'batch_size': 48, 'lr': 0.001, 'fedprox_mu': 0.0, 'epochs': 1, 'dry_run': False, 'batch_maxnum': 1000}, 'model_args': {'DP': {'clip_threshold': 15.0, 'sigma': 5.0}}, 'command': 'train', 'model_url': 'http://localhost:8844/media/uploads/2022/03/15/my_model_84f25685-7918-4865-aeab-dcb625c976d3.py', 'params_url': 'http://localhost:8844/media/uploads/2022/03/15/aggregated_params_682d4c31-272e-4290-910f-1cdca4012aad.pt', 'model_class': 'MyTrainingPlan', 'training_data': {'node_30f10bb5-4751-4306-8ee2-e0586d6e926b': ['dataset_aeeba6e7-ffb4-4c01-8da5-1d549cedbf01']}}\n",
      "2022-03-15 09:43:20,159 fedbiomed INFO - log from: node_30f10bb5-4751-4306-8ee2-e0586d6e926b / DEBUG - [TASKS QUEUE] Item:{'researcher_id': 'researcher_cc7c7db6-7b8b-4eef-b951-6ff12b238da3', 'job_id': '33529e7b-1b42-457a-93ab-4270ee15a9d1', 'params_url': 'http://localhost:8844/media/uploads/2022/03/15/aggregated_params_682d4c31-272e-4290-910f-1cdca4012aad.pt', 'training_args': {'batch_size': 48, 'lr': 0.001, 'fedprox_mu': 0.0, 'epochs': 1, 'dry_run': False, 'batch_maxnum': 1000}, 'training_data': {'node_30f10bb5-4751-4306-8ee2-e0586d6e926b': ['dataset_aeeba6e7-ffb4-4c01-8da5-1d549cedbf01']}, 'model_args': {'DP': {'clip_threshold': 15.0, 'sigma': 5.0}}, 'model_url': 'http://localhost:8844/media/uploads/2022/03/15/my_model_84f25685-7918-4865-aeab-dcb625c976d3.py', 'model_class': 'MyTrainingPlan', 'command': 'train'}\n",
      "2022-03-15 09:43:20,168 fedbiomed INFO - log from: node_edb16ff9-3a16-48a0-9f25-ffc473e623ed / DEBUG - upload (HTTP GET request) of file my_model_1f52c6212cfc4e14952a9d1e3ec166e0.py successful, with status code 200\n",
      "2022-03-15 09:43:20,176 fedbiomed INFO - log from: node_30f10bb5-4751-4306-8ee2-e0586d6e926b / DEBUG - upload (HTTP GET request) of file my_model_41ffa4cf47ab4d0dbad46fc515050b1a.py successful, with status code 200\n",
      "2022-03-15 09:43:20,368 fedbiomed INFO - log from: node_edb16ff9-3a16-48a0-9f25-ffc473e623ed / DEBUG - upload (HTTP GET request) of file my_model_0bf76a41-9772-44d4-bad2-e1d5e32ee282.pt successful, with status code 200\n",
      "2022-03-15 09:43:20,384 fedbiomed INFO - log from: node_30f10bb5-4751-4306-8ee2-e0586d6e926b / DEBUG - upload (HTTP GET request) of file my_model_ff315e49-5ffe-4e4d-96eb-ac48c19878a0.pt successful, with status code 200\n",
      "2022-03-15 09:43:20,396 fedbiomed INFO - log from: node_edb16ff9-3a16-48a0-9f25-ffc473e623ed / INFO - training with arguments {'monitor': <fedbiomed.node.history_monitor.HistoryMonitor object at 0x1187d6f40>, 'node_args': {'gpu': False, 'gpu_num': None, 'gpu_only': False}, 'batch_size': 48, 'lr': 0.001, 'fedprox_mu': 0.0, 'epochs': 1, 'dry_run': False, 'batch_maxnum': 1000}\n",
      "2022-03-15 09:43:20,397 fedbiomed INFO - log from: node_edb16ff9-3a16-48a0-9f25-ffc473e623ed / DEBUG - Dataset path has been set as/Users/mlorenzi/works/temp/MNIST\n",
      "2022-03-15 09:43:20,399 fedbiomed INFO - log from: node_edb16ff9-3a16-48a0-9f25-ffc473e623ed / DEBUG - Using device cpu for training (cuda_available=False, gpu=False, gpu_only=False, use_gpu=False, gpu_num=None)\n",
      "2022-03-15 09:43:20,417 fedbiomed INFO - log from: node_30f10bb5-4751-4306-8ee2-e0586d6e926b / INFO - training with arguments {'monitor': <fedbiomed.node.history_monitor.HistoryMonitor object at 0x12e1a2190>, 'node_args': {'gpu': False, 'gpu_num': None, 'gpu_only': False}, 'batch_size': 48, 'lr': 0.001, 'fedprox_mu': 0.0, 'epochs': 1, 'dry_run': False, 'batch_maxnum': 1000}\n",
      "2022-03-15 09:43:20,420 fedbiomed INFO - log from: node_30f10bb5-4751-4306-8ee2-e0586d6e926b / DEBUG - Dataset path has been set as/Users/mlorenzi/works/temp/MNIST\n",
      "2022-03-15 09:43:20,421 fedbiomed INFO - log from: node_30f10bb5-4751-4306-8ee2-e0586d6e926b / DEBUG - Using device cpu for training (cuda_available=False, gpu=False, gpu_only=False, use_gpu=False, gpu_num=None)\n",
      "2022-03-15 09:43:20,513 fedbiomed INFO - log from: node_edb16ff9-3a16-48a0-9f25-ffc473e623ed / INFO - Train Epoch: 1 [0/60000 (0%)]\tLoss: 2154874667008.000000\n",
      "2022-03-15 09:43:20,535 fedbiomed INFO - log from: node_30f10bb5-4751-4306-8ee2-e0586d6e926b / INFO - Train Epoch: 1 [0/60000 (0%)]\tLoss: 2259468943360.000000\n",
      "2022-03-15 09:43:21,454 fedbiomed INFO - log from: node_edb16ff9-3a16-48a0-9f25-ffc473e623ed / INFO - Train Epoch: 1 [480/60000 (1%)]\tLoss: 2121689726976.000000\n",
      "2022-03-15 09:43:21,462 fedbiomed INFO - log from: node_30f10bb5-4751-4306-8ee2-e0586d6e926b / INFO - Train Epoch: 1 [480/60000 (1%)]\tLoss: 2268710830080.000000\n",
      "2022-03-15 09:43:22,373 fedbiomed INFO - log from: node_30f10bb5-4751-4306-8ee2-e0586d6e926b / INFO - Train Epoch: 1 [960/60000 (2%)]\tLoss: 2011662123008.000000\n",
      "2022-03-15 09:43:22,374 fedbiomed INFO - log from: node_edb16ff9-3a16-48a0-9f25-ffc473e623ed / INFO - Train Epoch: 1 [960/60000 (2%)]\tLoss: 2243968106496.000000\n",
      "2022-03-15 09:43:23,320 fedbiomed INFO - log from: node_30f10bb5-4751-4306-8ee2-e0586d6e926b / INFO - Train Epoch: 1 [1440/60000 (2%)]\tLoss: 1967440658432.000000\n",
      "2022-03-15 09:43:23,321 fedbiomed INFO - log from: node_edb16ff9-3a16-48a0-9f25-ffc473e623ed / INFO - Train Epoch: 1 [1440/60000 (2%)]\tLoss: 2082931736576.000000\n",
      "2022-03-15 09:43:24,219 fedbiomed INFO - log from: node_edb16ff9-3a16-48a0-9f25-ffc473e623ed / INFO - Train Epoch: 1 [1920/60000 (3%)]\tLoss: 2090657251328.000000\n",
      "2022-03-15 09:43:24,221 fedbiomed INFO - log from: node_30f10bb5-4751-4306-8ee2-e0586d6e926b / INFO - Train Epoch: 1 [1920/60000 (3%)]\tLoss: 1934710145024.000000\n"
     ]
    },
    {
     "name": "stderr",
     "output_type": "stream",
     "text": [
      "2022-03-15 09:43:25,126 fedbiomed INFO - log from: node_30f10bb5-4751-4306-8ee2-e0586d6e926b / INFO - Train Epoch: 1 [2400/60000 (4%)]\tLoss: 1839966846976.000000\n",
      "2022-03-15 09:43:25,127 fedbiomed INFO - log from: node_edb16ff9-3a16-48a0-9f25-ffc473e623ed / INFO - Train Epoch: 1 [2400/60000 (4%)]\tLoss: 1669133238272.000000\n",
      "2022-03-15 09:43:26,047 fedbiomed INFO - log from: node_edb16ff9-3a16-48a0-9f25-ffc473e623ed / INFO - Train Epoch: 1 [2880/60000 (5%)]\tLoss: 2341260754944.000000\n",
      "2022-03-15 09:43:26,048 fedbiomed INFO - log from: node_30f10bb5-4751-4306-8ee2-e0586d6e926b / INFO - Train Epoch: 1 [2880/60000 (5%)]\tLoss: 1853316792320.000000\n",
      "2022-03-15 09:43:26,951 fedbiomed INFO - log from: node_30f10bb5-4751-4306-8ee2-e0586d6e926b / INFO - Train Epoch: 1 [3360/60000 (6%)]\tLoss: 2225057562624.000000\n",
      "2022-03-15 09:43:26,954 fedbiomed INFO - log from: node_edb16ff9-3a16-48a0-9f25-ffc473e623ed / INFO - Train Epoch: 1 [3360/60000 (6%)]\tLoss: 2277423972352.000000\n",
      "2022-03-15 09:43:27,850 fedbiomed INFO - log from: node_30f10bb5-4751-4306-8ee2-e0586d6e926b / INFO - Train Epoch: 1 [3840/60000 (6%)]\tLoss: 1758216716288.000000\n",
      "2022-03-15 09:43:27,852 fedbiomed INFO - log from: node_edb16ff9-3a16-48a0-9f25-ffc473e623ed / INFO - Train Epoch: 1 [3840/60000 (6%)]\tLoss: 1937455054848.000000\n",
      "2022-03-15 09:43:28,739 fedbiomed INFO - log from: node_30f10bb5-4751-4306-8ee2-e0586d6e926b / INFO - Train Epoch: 1 [4320/60000 (7%)]\tLoss: 2234435502080.000000\n",
      "2022-03-15 09:43:28,745 fedbiomed INFO - log from: node_edb16ff9-3a16-48a0-9f25-ffc473e623ed / INFO - Train Epoch: 1 [4320/60000 (7%)]\tLoss: 1933389070336.000000\n",
      "2022-03-15 09:43:29,647 fedbiomed INFO - log from: node_edb16ff9-3a16-48a0-9f25-ffc473e623ed / INFO - Train Epoch: 1 [4800/60000 (8%)]\tLoss: 2119580647424.000000\n",
      "2022-03-15 09:43:29,648 fedbiomed INFO - log from: node_30f10bb5-4751-4306-8ee2-e0586d6e926b / INFO - Train Epoch: 1 [4800/60000 (8%)]\tLoss: 1712261300224.000000\n",
      "2022-03-15 09:43:30,544 fedbiomed INFO - log from: node_edb16ff9-3a16-48a0-9f25-ffc473e623ed / INFO - Train Epoch: 1 [5280/60000 (9%)]\tLoss: 1665562312704.000000\n",
      "2022-03-15 09:43:30,545 fedbiomed INFO - log from: node_30f10bb5-4751-4306-8ee2-e0586d6e926b / INFO - Train Epoch: 1 [5280/60000 (9%)]\tLoss: 1953404157952.000000\n",
      "2022-03-15 09:43:31,456 fedbiomed INFO - log from: node_30f10bb5-4751-4306-8ee2-e0586d6e926b / INFO - Train Epoch: 1 [5760/60000 (10%)]\tLoss: 1862431539200.000000\n",
      "2022-03-15 09:43:31,483 fedbiomed INFO - log from: node_edb16ff9-3a16-48a0-9f25-ffc473e623ed / INFO - Train Epoch: 1 [5760/60000 (10%)]\tLoss: 1940448608256.000000\n",
      "2022-03-15 09:43:32,350 fedbiomed INFO - log from: node_30f10bb5-4751-4306-8ee2-e0586d6e926b / INFO - Train Epoch: 1 [6240/60000 (10%)]\tLoss: 2044441133056.000000\n",
      "2022-03-15 09:43:32,405 fedbiomed INFO - log from: node_edb16ff9-3a16-48a0-9f25-ffc473e623ed / INFO - Train Epoch: 1 [6240/60000 (10%)]\tLoss: 2092953501696.000000\n",
      "2022-03-15 09:43:33,265 fedbiomed INFO - log from: node_30f10bb5-4751-4306-8ee2-e0586d6e926b / INFO - Train Epoch: 1 [6720/60000 (11%)]\tLoss: 2059209146368.000000\n",
      "2022-03-15 09:43:33,328 fedbiomed INFO - log from: node_edb16ff9-3a16-48a0-9f25-ffc473e623ed / INFO - Train Epoch: 1 [6720/60000 (11%)]\tLoss: 1848540790784.000000\n",
      "2022-03-15 09:43:34,179 fedbiomed INFO - log from: node_30f10bb5-4751-4306-8ee2-e0586d6e926b / INFO - Train Epoch: 1 [7200/60000 (12%)]\tLoss: 1707664867328.000000\n",
      "2022-03-15 09:43:34,226 fedbiomed INFO - log from: node_edb16ff9-3a16-48a0-9f25-ffc473e623ed / INFO - Train Epoch: 1 [7200/60000 (12%)]\tLoss: 1953032699904.000000\n",
      "2022-03-15 09:43:35,091 fedbiomed INFO - log from: node_30f10bb5-4751-4306-8ee2-e0586d6e926b / INFO - Train Epoch: 1 [7680/60000 (13%)]\tLoss: 2005969534976.000000\n",
      "2022-03-15 09:43:35,139 fedbiomed INFO - log from: node_edb16ff9-3a16-48a0-9f25-ffc473e623ed / INFO - Train Epoch: 1 [7680/60000 (13%)]\tLoss: 1843980009472.000000\n",
      "2022-03-15 09:43:35,972 fedbiomed INFO - log from: node_30f10bb5-4751-4306-8ee2-e0586d6e926b / INFO - Train Epoch: 1 [8160/60000 (14%)]\tLoss: 1738243178496.000000\n",
      "2022-03-15 09:43:36,028 fedbiomed INFO - log from: node_edb16ff9-3a16-48a0-9f25-ffc473e623ed / INFO - Train Epoch: 1 [8160/60000 (14%)]\tLoss: 2006346366976.000000\n",
      "2022-03-15 09:43:36,873 fedbiomed INFO - log from: node_30f10bb5-4751-4306-8ee2-e0586d6e926b / INFO - Train Epoch: 1 [8640/60000 (14%)]\tLoss: 1804863668224.000000\n",
      "2022-03-15 09:43:36,930 fedbiomed INFO - log from: node_edb16ff9-3a16-48a0-9f25-ffc473e623ed / INFO - Train Epoch: 1 [8640/60000 (14%)]\tLoss: 1789800349696.000000\n",
      "2022-03-15 09:43:37,779 fedbiomed INFO - log from: node_30f10bb5-4751-4306-8ee2-e0586d6e926b / INFO - Train Epoch: 1 [9120/60000 (15%)]\tLoss: 1658217562112.000000\n",
      "2022-03-15 09:43:37,842 fedbiomed INFO - log from: node_edb16ff9-3a16-48a0-9f25-ffc473e623ed / INFO - Train Epoch: 1 [9120/60000 (15%)]\tLoss: 1915747434496.000000\n",
      "2022-03-15 09:43:38,685 fedbiomed INFO - log from: node_30f10bb5-4751-4306-8ee2-e0586d6e926b / INFO - Train Epoch: 1 [9600/60000 (16%)]\tLoss: 1785110331392.000000\n",
      "2022-03-15 09:43:38,746 fedbiomed INFO - log from: node_edb16ff9-3a16-48a0-9f25-ffc473e623ed / INFO - Train Epoch: 1 [9600/60000 (16%)]\tLoss: 2377030565888.000000\n",
      "2022-03-15 09:43:39,587 fedbiomed INFO - log from: node_30f10bb5-4751-4306-8ee2-e0586d6e926b / INFO - Train Epoch: 1 [10080/60000 (17%)]\tLoss: 1854508761088.000000\n",
      "2022-03-15 09:43:39,645 fedbiomed INFO - log from: node_edb16ff9-3a16-48a0-9f25-ffc473e623ed / INFO - Train Epoch: 1 [10080/60000 (17%)]\tLoss: 1918758158336.000000\n",
      "2022-03-15 09:43:40,482 fedbiomed INFO - log from: node_30f10bb5-4751-4306-8ee2-e0586d6e926b / INFO - Train Epoch: 1 [10560/60000 (18%)]\tLoss: 1659880603648.000000\n",
      "2022-03-15 09:43:40,538 fedbiomed INFO - log from: node_edb16ff9-3a16-48a0-9f25-ffc473e623ed / INFO - Train Epoch: 1 [10560/60000 (18%)]\tLoss: 2036061962240.000000\n",
      "2022-03-15 09:43:41,354 fedbiomed INFO - log from: node_30f10bb5-4751-4306-8ee2-e0586d6e926b / INFO - Train Epoch: 1 [11040/60000 (18%)]\tLoss: 1693872422912.000000\n",
      "2022-03-15 09:43:41,412 fedbiomed INFO - log from: node_edb16ff9-3a16-48a0-9f25-ffc473e623ed / INFO - Train Epoch: 1 [11040/60000 (18%)]\tLoss: 1692832628736.000000\n",
      "2022-03-15 09:43:42,229 fedbiomed INFO - log from: node_30f10bb5-4751-4306-8ee2-e0586d6e926b / INFO - Train Epoch: 1 [11520/60000 (19%)]\tLoss: 1725733404672.000000\n",
      "2022-03-15 09:43:42,282 fedbiomed INFO - log from: node_edb16ff9-3a16-48a0-9f25-ffc473e623ed / INFO - Train Epoch: 1 [11520/60000 (19%)]\tLoss: 1923914792960.000000\n",
      "2022-03-15 09:43:43,102 fedbiomed INFO - log from: node_30f10bb5-4751-4306-8ee2-e0586d6e926b / INFO - Train Epoch: 1 [12000/60000 (20%)]\tLoss: 2114220851200.000000\n",
      "2022-03-15 09:43:43,149 fedbiomed INFO - log from: node_edb16ff9-3a16-48a0-9f25-ffc473e623ed / INFO - Train Epoch: 1 [12000/60000 (20%)]\tLoss: 2126009335808.000000\n",
      "2022-03-15 09:43:43,975 fedbiomed INFO - log from: node_30f10bb5-4751-4306-8ee2-e0586d6e926b / INFO - Train Epoch: 1 [12480/60000 (21%)]\tLoss: 1677382516736.000000\n",
      "2022-03-15 09:43:44,029 fedbiomed INFO - log from: node_edb16ff9-3a16-48a0-9f25-ffc473e623ed / INFO - Train Epoch: 1 [12480/60000 (21%)]\tLoss: 1771479367680.000000\n",
      "2022-03-15 09:43:44,874 fedbiomed INFO - log from: node_30f10bb5-4751-4306-8ee2-e0586d6e926b / INFO - Train Epoch: 1 [12960/60000 (22%)]\tLoss: 1962394779648.000000\n",
      "2022-03-15 09:43:44,921 fedbiomed INFO - log from: node_edb16ff9-3a16-48a0-9f25-ffc473e623ed / INFO - Train Epoch: 1 [12960/60000 (22%)]\tLoss: 1942126198784.000000\n",
      "2022-03-15 09:43:45,766 fedbiomed INFO - log from: node_30f10bb5-4751-4306-8ee2-e0586d6e926b / INFO - Train Epoch: 1 [13440/60000 (22%)]\tLoss: 1679797256192.000000\n",
      "2022-03-15 09:43:45,816 fedbiomed INFO - log from: node_edb16ff9-3a16-48a0-9f25-ffc473e623ed / INFO - Train Epoch: 1 [13440/60000 (22%)]\tLoss: 1814234529792.000000\n",
      "2022-03-15 09:43:46,629 fedbiomed INFO - log from: node_30f10bb5-4751-4306-8ee2-e0586d6e926b / INFO - Train Epoch: 1 [13920/60000 (23%)]\tLoss: 1786496548864.000000\n",
      "2022-03-15 09:43:46,683 fedbiomed INFO - log from: node_edb16ff9-3a16-48a0-9f25-ffc473e623ed / INFO - Train Epoch: 1 [13920/60000 (23%)]\tLoss: 1783966859264.000000\n",
      "2022-03-15 09:43:47,565 fedbiomed INFO - log from: node_30f10bb5-4751-4306-8ee2-e0586d6e926b / INFO - Train Epoch: 1 [14400/60000 (24%)]\tLoss: 1940127744000.000000\n"
     ]
    },
    {
     "name": "stderr",
     "output_type": "stream",
     "text": [
      "2022-03-15 09:43:47,615 fedbiomed INFO - log from: node_edb16ff9-3a16-48a0-9f25-ffc473e623ed / INFO - Train Epoch: 1 [14400/60000 (24%)]\tLoss: 1904277979136.000000\n",
      "2022-03-15 09:43:48,504 fedbiomed INFO - log from: node_30f10bb5-4751-4306-8ee2-e0586d6e926b / INFO - Train Epoch: 1 [14880/60000 (25%)]\tLoss: 1906600968192.000000\n",
      "2022-03-15 09:43:48,615 fedbiomed INFO - log from: node_edb16ff9-3a16-48a0-9f25-ffc473e623ed / INFO - Train Epoch: 1 [14880/60000 (25%)]\tLoss: 1986340061184.000000\n",
      "2022-03-15 09:43:49,608 fedbiomed INFO - log from: node_30f10bb5-4751-4306-8ee2-e0586d6e926b / INFO - Train Epoch: 1 [15360/60000 (26%)]\tLoss: 1946855407616.000000\n",
      "2022-03-15 09:43:49,731 fedbiomed INFO - log from: node_edb16ff9-3a16-48a0-9f25-ffc473e623ed / INFO - Train Epoch: 1 [15360/60000 (26%)]\tLoss: 1641033105408.000000\n",
      "2022-03-15 09:43:50,805 fedbiomed INFO - log from: node_30f10bb5-4751-4306-8ee2-e0586d6e926b / INFO - Train Epoch: 1 [15840/60000 (26%)]\tLoss: 1648428974080.000000\n",
      "2022-03-15 09:43:50,920 fedbiomed INFO - log from: node_edb16ff9-3a16-48a0-9f25-ffc473e623ed / INFO - Train Epoch: 1 [15840/60000 (26%)]\tLoss: 1880975998976.000000\n",
      "2022-03-15 09:43:51,915 fedbiomed INFO - log from: node_30f10bb5-4751-4306-8ee2-e0586d6e926b / INFO - Train Epoch: 1 [16320/60000 (27%)]\tLoss: 1851591622656.000000\n",
      "2022-03-15 09:43:52,016 fedbiomed INFO - log from: node_edb16ff9-3a16-48a0-9f25-ffc473e623ed / INFO - Train Epoch: 1 [16320/60000 (27%)]\tLoss: 1818168393728.000000\n",
      "2022-03-15 09:43:52,410 fedbiomed CRITICAL - Fed-BioMed researcher stopped due to keyboard interrupt\n"
     ]
    },
    {
     "name": "stdout",
     "output_type": "stream",
     "text": [
      "\n",
      "--------------------\n",
      "Fed-BioMed researcher stopped due to keyboard interrupt\n",
      "--------------------\n"
     ]
    }
   ],
   "source": [
    "exp.run()"
   ]
  },
  {
   "cell_type": "markdown",
   "metadata": {},
   "source": [
    "## Model trained with Central DP-FL "
   ]
  },
  {
   "cell_type": "code",
   "execution_count": null,
   "metadata": {},
   "outputs": [],
   "source": [
    "import torch\n",
    "import torch.nn as nn\n",
    "from fedbiomed.common.training_plans import TorchTrainingPlan\n",
    "from torch.utils.data import DataLoader\n",
    "from torchvision import datasets, transforms\n",
    "from math import sqrt, log\n",
    "\n",
    "# Here we define the model to be used. \n",
    "# You can use any class name (here 'Net')\n",
    "class MyTrainingPlan_noRDP(TorchTrainingPlan):\n",
    "    def __init__(self, model_args: dict = {}):\n",
    "        super(MyTrainingPlan_noRDP, self).__init__(model_args)\n",
    "        self.conv1 = nn.Conv2d(1, 32, 3, 1)\n",
    "        self.conv2 = nn.Conv2d(32, 64, 3, 1)\n",
    "        self.dropout1 = nn.Dropout(0.25)\n",
    "        self.dropout2 = nn.Dropout(0.5)\n",
    "        self.fc1 = nn.Linear(9216, 128)\n",
    "        self.fc2 = nn.Linear(128, 10)\n",
    "        \n",
    "        \n",
    "        # Here we define the custom dependencies that will be needed by our custom Dataloader\n",
    "        # In this case, we need the torch DataLoader classes\n",
    "        # Since we will train on MNIST, we need datasets and transform from torchvision\n",
    "        deps = [\"from torchvision import datasets, transforms\",\n",
    "               \"from torch.utils.data import DataLoader\",\n",
    "               \"import torch\",\n",
    "               \"from math import sqrt, log\"]\n",
    "        self.add_dependency(deps)\n",
    "\n",
    "    def forward(self, x):\n",
    "        x = self.conv1(x)\n",
    "        x = F.relu(x)\n",
    "        x = self.conv2(x)\n",
    "        x = F.relu(x)\n",
    "        x = F.max_pool2d(x, 2)\n",
    "        x = self.dropout1(x)\n",
    "        x = torch.flatten(x, 1)\n",
    "        x = self.fc1(x)\n",
    "        x = F.relu(x)\n",
    "        x = self.dropout2(x)\n",
    "        x = self.fc2(x)      \n",
    "        \n",
    "        output = F.log_softmax(x, dim=1)\n",
    "        return output\n",
    "\n",
    "    def training_data(self, batch_size = 48):\n",
    "        # Custom torch Dataloader for MNIST data\n",
    "        transform = transforms.Compose([transforms.ToTensor(),\n",
    "        transforms.Normalize((0.1307,), (0.3081,))])\n",
    "        dataset1 = datasets.MNIST(self.dataset_path, train=True, download=False, transform=transform)\n",
    "        train_kwargs = {'batch_size': batch_size, 'shuffle': True}\n",
    "        data_loader = torch.utils.data.DataLoader(dataset1, **train_kwargs)\n",
    "        return data_loader\n",
    "    \n",
    "    def training_step(self, data, target):\n",
    "        output = self.forward(data)\n",
    "        loss   = torch.nn.functional.nll_loss(output, target)\n",
    "        return loss"
   ]
  },
  {
   "cell_type": "code",
   "execution_count": null,
   "metadata": {},
   "outputs": [],
   "source": [
    "training_args = {\n",
    "    'batch_size': 48, \n",
    "    'lr': 1e-3, \n",
    "    'fedprox_mu': 0.01, \n",
    "    'epochs': 1, \n",
    "    'dry_run': False,  \n",
    "    'batch_maxnum': 100 # Fast pass for development : only use ( batch_maxnum * batch_size ) samples\n",
    "}"
   ]
  },
  {
   "cell_type": "code",
   "execution_count": null,
   "metadata": {},
   "outputs": [],
   "source": [
    "from fedbiomed.researcher.experiment import Experiment\n",
    "from fedbiomed.researcher.aggregators.fedavg import FedAverage\n",
    "\n",
    "tags =  ['#MNIST', '#dataset']\n",
    "\n",
    "central_DP_params = {'clip_threshold' : 1., 'sigma': .1}\n",
    "\n",
    "exp = Experiment(tags=tags,\n",
    "                 #nodes=None,\n",
    "#                 model_args=model_args,\n",
    "                 model_class=MyTrainingPlan_noRDP,\n",
    "                 training_args=training_args,\n",
    "                 round_limit=FL_rounds,\n",
    "                 aggregator=FedAverage(Central_DP_params = central_DP_params),\n",
    "                 node_selection_strategy=None)\n"
   ]
  },
  {
   "cell_type": "code",
   "execution_count": null,
   "metadata": {},
   "outputs": [],
   "source": [
    "exp.run()"
   ]
  }
 ],
 "metadata": {
  "kernelspec": {
   "display_name": "Python 3 (ipykernel)",
   "language": "python",
   "name": "python3"
  },
  "language_info": {
   "codemirror_mode": {
    "name": "ipython",
    "version": 3
   },
   "file_extension": ".py",
   "mimetype": "text/x-python",
   "name": "python",
   "nbconvert_exporter": "python",
   "pygments_lexer": "ipython3",
   "version": "3.9.9"
  }
 },
 "nbformat": 4,
 "nbformat_minor": 4
}

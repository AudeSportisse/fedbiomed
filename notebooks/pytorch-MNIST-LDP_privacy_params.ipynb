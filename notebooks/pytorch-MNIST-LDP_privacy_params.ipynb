{
 "cells": [
  {
   "cell_type": "markdown",
   "metadata": {},
   "source": [
    "# Fedbiomed Researcher POC with LDP"
   ]
  },
  {
   "cell_type": "code",
   "execution_count": 1,
   "metadata": {},
   "outputs": [],
   "source": [
    "%load_ext autoreload\n",
    "%autoreload 2"
   ]
  },
  {
   "cell_type": "markdown",
   "metadata": {},
   "source": [
    "## Start the network\n",
    "Before running this notebook, start the network with `./scripts/fedbiomed_run network`"
   ]
  },
  {
   "cell_type": "markdown",
   "metadata": {},
   "source": [
    "## Setting the nodes up\n",
    "It is necessary to previously configure a node:\n",
    "1. `./scripts/fedbiomed_run node add`\n",
    "  * Select option 2 (default) to add MNIST to the node\n",
    "  * Confirm default tags by hitting \"y\" and ENTER\n",
    "  * Pick the folder where MNIST is downloaded (this is due torch issue https://github.com/pytorch/vision/issues/3549)\n",
    "  * Data must have been added (if you get a warning saying that data must be unique is because it's been already added)\n",
    "  \n",
    "2. Check that your data has been added by executing `./scripts/fedbiomed_run node list`\n",
    "3. Run the node using `./scripts/fedbiomed_run node start`. Wait until you get `Starting task manager`. it means you are online.\n",
    "4. Following the same procedure, you can create a second node for client 2."
   ]
  },
  {
   "cell_type": "markdown",
   "metadata": {},
   "source": [
    "Check available clients:"
   ]
  },
  {
   "cell_type": "code",
   "execution_count": 2,
   "metadata": {},
   "outputs": [
    {
     "name": "stderr",
     "output_type": "stream",
     "text": [
      "2022-03-11 18:45:11,021 fedbiomed INFO - Component environment:\n",
      "2022-03-11 18:45:11,022 fedbiomed INFO - type = ComponentType.RESEARCHER\n",
      "2022-03-11 18:45:11,492 fedbiomed INFO - Messaging researcher_3e4bd748-2b26-476a-9a88-05eb9d56df50 successfully connected to the message broker, object = <fedbiomed.common.messaging.Messaging object at 0x1194e5040>\n",
      "2022-03-11 18:45:11,511 fedbiomed INFO - Listing available datasets in all nodes... \n",
      "2022-03-11 18:45:11,516 fedbiomed INFO - log from: node_5d59b59e-b156-495e-9423-c6a6fb9d5d42 / DEBUG - Message received: {'researcher_id': 'researcher_3e4bd748-2b26-476a-9a88-05eb9d56df50', 'command': 'list'}\n",
      "2022-03-11 18:45:21,519 fedbiomed INFO - \n",
      " Node: node_5d59b59e-b156-495e-9423-c6a6fb9d5d42 | Number of Datasets: 1 \n",
      "+--------+-------------+------------------------+----------------+--------------------+\n",
      "| name   | data_type   | tags                   | description    | shape              |\n",
      "+========+=============+========================+================+====================+\n",
      "| MNIST  | default     | ['#MNIST', '#dataset'] | MNIST database | [60000, 1, 28, 28] |\n",
      "+--------+-------------+------------------------+----------------+--------------------+\n",
      "\n"
     ]
    },
    {
     "data": {
      "text/plain": [
       "{'node_5d59b59e-b156-495e-9423-c6a6fb9d5d42': [{'name': 'MNIST',\n",
       "   'data_type': 'default',\n",
       "   'tags': ['#MNIST', '#dataset'],\n",
       "   'description': 'MNIST database',\n",
       "   'shape': [60000, 1, 28, 28]}]}"
      ]
     },
     "execution_count": 2,
     "metadata": {},
     "output_type": "execute_result"
    }
   ],
   "source": [
    "from fedbiomed.researcher.requests import Requests\n",
    "req = Requests()\n",
    "req.list(verbose=True)"
   ]
  },
  {
   "cell_type": "markdown",
   "metadata": {},
   "source": [
    "## Define an experiment model and parameters"
   ]
  },
  {
   "cell_type": "markdown",
   "metadata": {},
   "source": [
    "Declare a torch.nn MyTrainingPlan class to send for training on the node"
   ]
  },
  {
   "cell_type": "markdown",
   "metadata": {},
   "source": [
    "Note : write **only** the code to export in the following cell"
   ]
  },
  {
   "cell_type": "code",
   "execution_count": 3,
   "metadata": {},
   "outputs": [],
   "source": [
    "import torch\n",
    "import torch.nn as nn\n",
    "from fedbiomed.common.training_plans import TorchTrainingPlan\n",
    "from torch.utils.data import DataLoader\n",
    "from torchvision import datasets, transforms\n",
    "from math import sqrt, log\n",
    "\n",
    "# Here we define the model to be used. \n",
    "# You can use any class name (here 'Net')\n",
    "class MyTrainingPlan(TorchTrainingPlan):\n",
    "    def __init__(self, model_args: dict = {}):\n",
    "        super(MyTrainingPlan, self).__init__(model_args)\n",
    "        self.conv1 = nn.Conv2d(1, 32, 3, 1)\n",
    "        self.conv2 = nn.Conv2d(32, 64, 3, 1)\n",
    "        self.dropout1 = nn.Dropout(0.25)\n",
    "        self.dropout2 = nn.Dropout(0.5)\n",
    "        self.fc1 = nn.Linear(9216, 128)\n",
    "        self.fc2 = nn.Linear(128, 10)\n",
    "        \n",
    "        # DP parameters\n",
    "        self.C = model_args['DP']['clip_threshold']\n",
    "#        self.m = model_args['DP']['m']\n",
    "#        self.epsilon = model_args['DP']['epsilon']\n",
    "        #self.delta = model_args['DP']['delta']\n",
    "        self.sigma = model_args['DP']['sigma']\n",
    "#        self.rounds = model_args['DP']['rounds']\n",
    "        if 'clip_strategy' in model_args['DP']:\n",
    "            self.clipping=model_args['DP']['clip_strategy']\n",
    "        else:\n",
    "            self.clipping='flat'\n",
    "        \n",
    "        # Here we define the custom dependencies that will be needed by our custom Dataloader\n",
    "        # In this case, we need the torch DataLoader classes\n",
    "        # Since we will train on MNIST, we need datasets and transform from torchvision\n",
    "        deps = [\"from torchvision import datasets, transforms\",\n",
    "               \"from torch.utils.data import DataLoader\",\n",
    "               \"import torch\",\n",
    "               \"from math import sqrt, log\"]\n",
    "        self.add_dependency(deps)\n",
    "\n",
    "    def forward(self, x):\n",
    "        x = self.conv1(x)\n",
    "        x = F.relu(x)\n",
    "        x = self.conv2(x)\n",
    "        x = F.relu(x)\n",
    "        x = F.max_pool2d(x, 2)\n",
    "        x = self.dropout1(x)\n",
    "        x = torch.flatten(x, 1)\n",
    "        x = self.fc1(x)\n",
    "        x = F.relu(x)\n",
    "        x = self.dropout2(x)\n",
    "        x = self.fc2(x)      \n",
    "        \n",
    "        output = F.log_softmax(x, dim=1)\n",
    "        return output\n",
    "\n",
    "    def training_data(self, batch_size = 48):\n",
    "        # Custom torch Dataloader for MNIST data\n",
    "        transform = transforms.Compose([transforms.ToTensor(),\n",
    "        transforms.Normalize((0.1307,), (0.3081,))])\n",
    "        dataset1 = datasets.MNIST(self.dataset_path, train=True, download=False, transform=transform)\n",
    "        train_kwargs = {'batch_size': batch_size, 'shuffle': True}\n",
    "        data_loader = torch.utils.data.DataLoader(dataset1, **train_kwargs)\n",
    "        return data_loader\n",
    "    \n",
    "    def training_step(self, data, target):\n",
    "        output = self.forward(data)\n",
    "        loss   = torch.nn.functional.nll_loss(output, target)\n",
    "        return loss\n",
    "    \n",
    "    def postprocess(self, params):\n",
    "        delta_params = {}\n",
    "\n",
    "        for name, param in params.items():\n",
    "\n",
    "            ###\n",
    "            ### Extracting the update\n",
    "            ###\n",
    "            delta_theta = params[name] - self.init_params[name]\n",
    "            delta_params[name]=delta_theta\n",
    "        \n",
    "        print(delta_params)\n",
    "#         self.sigma = self.compute_sigma()\n",
    "        perturbed_params = self.clip_and_perturb(delta_params)\n",
    "\n",
    "        params.update(perturbed_params)\n",
    "\n",
    "        #DP parameters to be passed to the central server ?\n",
    "        #params.update({'DP': {'clip_threshold' : self.clipping, 'epsilon' : self.epsilon, 'delta': self.delta}})\n",
    "\n",
    "        return params\n",
    "    \n",
    "    def clip_and_perturb(self,delta_params):\n",
    "        \"\"\"\n",
    "        Performs gradient clipping and adds Gaussian noise.\n",
    "        \"\"\"\n",
    "        \n",
    "        perturbed_params = {}\n",
    "        \n",
    "        try: \n",
    "            self.clipping in ('flat','per_layer')\n",
    "        except ValueError:\n",
    "            msg = ErrorNumbers.FB605.value + \": unknown clipping strategy\"\n",
    "            logger.critical(msg)\n",
    "            raise FedbiomedTrainingPlanError(msg)\n",
    "        \n",
    "        if self.clipping=='flat':\n",
    "\n",
    "            per_param_norms = [params.view(len(params), -1).norm(2,dim=-1) for key, params in delta_params.items()]\n",
    "            per_sample_norms = torch.cat(per_param_norms,dim=0).norm(2)#torch.stack(per_param_norms, dim=1).norm(2,dim=1)\n",
    "            per_sample_clip_factor = (self.C / (per_sample_norms + 1e-6)).clamp(max=1.0)\n",
    "            for key in delta_params.keys():\n",
    "                delta_theta_tilde = delta_params[key].mul(per_sample_clip_factor) \\\n",
    "                            + torch.sqrt(torch.tensor([2]))*self.sigma*self.C * torch.randn_like(delta_params[key])\n",
    "                perturbed_params[key]=self.init_params[key] + delta_theta_tilde\n",
    "        \n",
    "        elif self.clipping=='per_layer':\n",
    "            \n",
    "            # NB: if the 'per_layer' strategy is chosen the researcher should provide as C a list \n",
    "            # containing all layer-specific clipping parameters.\n",
    "            \n",
    "            assert len(self.C) == len(delta_params)\n",
    "            \n",
    "            for (key, c) in zip(delta_params.keys(), self.C):\n",
    "                per_sample_norms = delta_params[key].view(len(delta_params[key]), -1).norm(2)\n",
    "                per_sample_clip_factor = (c / (per_sample_norms + 1e-6)).clamp(max=1.0)\n",
    "                print(per_sample_clip_factor)\n",
    "                delta_theta_tilde = delta_params[key].mul(per_sample_clip_factor) \\\n",
    "                            + torch.sqrt(torch.tensor([2]))*self.sigma*c * torch.randn_like(delta_params[key])\n",
    "                perturbed_params[key]=self.init_params[key] + delta_theta_tilde\n",
    "                \n",
    "        return perturbed_params\n",
    "    \n",
    "#     def compute_sigma(self):\n",
    "        \n",
    "#         size_local_data = len(self.data.dataset)\n",
    "        \n",
    "#         if self.delta is None:\n",
    "#             self.delta = 1.0/size_local_data*1e-1\n",
    "            \n",
    "#         local_sensititvity = 2*self.C/size_local_data\n",
    "#         c = sqrt(2*log(1.25/self.delta))+1e-6\n",
    "#         sigma = c*self.rounds*local_sensititvity/self.epsilon\n",
    "#         return sigma"
   ]
  },
  {
   "cell_type": "markdown",
   "metadata": {},
   "source": [
    "This group of arguments correspond respectively:\n",
    "* `model_args`: a dictionary with the arguments related to the model (e.g. number of layers, features, etc.). This will be passed to the model class on the node side. \n",
    "* `training_args`: a dictionary containing the arguments for the training routine (e.g. batch size, learning rate, epochs, etc.). This will be passed to the routine on the node side.\n",
    "If FedProx optimisation is requested, `fedprox_mu` parameter must be defined here. It also must be a float between XX and YY.\n",
    "\n",
    "**NOTE:** typos and/or lack of positional (required) arguments will raise error. 🤓"
   ]
  },
  {
   "cell_type": "code",
   "execution_count": 4,
   "metadata": {},
   "outputs": [
    {
     "name": "stderr",
     "output_type": "stream",
     "text": [
      "2022-03-11 18:45:23,252 fedbiomed INFO - Listing available datasets in all nodes... \n",
      "2022-03-11 18:45:23,256 fedbiomed INFO - log from: node_5d59b59e-b156-495e-9423-c6a6fb9d5d42 / DEBUG - Message received: {'researcher_id': 'researcher_3e4bd748-2b26-476a-9a88-05eb9d56df50', 'command': 'list'}\n"
     ]
    }
   ],
   "source": [
    "from fedbiomed.researcher.privacy.rdp_accountant import compute_rdp, get_privacy_spent\n",
    "import matplotlib.pyplot as plt\n",
    "import numpy as np\n",
    "\n",
    "req = Requests()\n",
    "data_info = req.list()\n",
    "max_data_size = float(np.max([data_info[i][0]['shape'][0] for i in data_info.keys()]))\n",
    "\n",
    "\n",
    "target_delta = .1/max_data_size\n",
    "\n",
    "max_eps = 15\n",
    "\n",
    "sigma = 1.\n",
    "\n",
    "orders = [1 + x / 10. for x in range(1, 100)] + list(range(12, 64))\n",
    "rdp = compute_rdp(q=1.,\n",
    "                  noise_multiplier = sigma,\n",
    "                  steps=1,\n",
    "                  orders=orders)"
   ]
  },
  {
   "cell_type": "code",
   "execution_count": 5,
   "metadata": {},
   "outputs": [
    {
     "name": "stdout",
     "output_type": "stream",
     "text": [
      "1.6666666666666667e-06\n"
     ]
    }
   ],
   "source": [
    "print(target_delta)"
   ]
  },
  {
   "cell_type": "code",
   "execution_count": 6,
   "metadata": {},
   "outputs": [
    {
     "data": {
      "text/plain": [
       "<matplotlib.collections.PathCollection at 0x13eec07f0>"
      ]
     },
     "execution_count": 6,
     "metadata": {},
     "output_type": "execute_result"
    },
    {
     "data": {
      "image/png": "[encoded data removed]",
      "text/plain": [
       "<Figure size 432x288 with 1 Axes>"
      ]
     },
     "metadata": {
      "needs_background": "light"
     },
     "output_type": "display_data"
    }
   ],
   "source": [
    "plt.scatter(orders,rdp)"
   ]
  },
  {
   "cell_type": "code",
   "execution_count": 7,
   "metadata": {},
   "outputs": [],
   "source": [
    "rounds = range(1,10)\n",
    "epsilon_range = np.array([get_privacy_spent(orders, i*rdp, target_delta=target_delta)[0] for i in rounds])\n",
    "\n",
    "FL_rounds = int(np.sum(epsilon_range<max_eps))"
   ]
  },
  {
   "cell_type": "code",
   "execution_count": 8,
   "metadata": {
    "pycharm": {
     "name": "#%%\n"
    }
   },
   "outputs": [],
   "source": [
    "model_args = {'DP': {'clip_threshold' : 1., 'epsilon' : epsilon_range[FL_rounds-1], 'sigma': target_delta}}\n",
    "\n",
    "training_args = {\n",
    "    'batch_size': 48, \n",
    "    'lr': 1e-3, \n",
    "    'fedprox_mu': 0.01, \n",
    "    'epochs': 1, \n",
    "    'dry_run': False,  \n",
    "    'batch_maxnum': 100 # Fast pass for development : only use ( batch_maxnum * batch_size ) samples\n",
    "}"
   ]
  },
  {
   "cell_type": "markdown",
   "metadata": {},
   "source": [
    "## Declare and run the experiment\n",
    "\n",
    "- search nodes serving data for these `tags`, optionally filter on a list of node ID with `nodes`\n",
    "- run a round of local training on nodes with model defined in `model_path` + federation with `aggregator`\n",
    "- run for `round_limit` rounds, applying the `node_selection_strategy` between the rounds"
   ]
  },
  {
   "cell_type": "code",
   "execution_count": 9,
   "metadata": {
    "pycharm": {
     "name": "#%%\n"
    },
    "scrolled": true
   },
   "outputs": [
    {
     "name": "stderr",
     "output_type": "stream",
     "text": [
      "2022-03-11 18:45:33,858 fedbiomed INFO - Searching dataset with data tags: ['#MNIST', '#dataset'] for all nodes\n",
      "2022-03-11 18:45:33,864 fedbiomed INFO - log from: node_5d59b59e-b156-495e-9423-c6a6fb9d5d42 / DEBUG - Message received: {'researcher_id': 'researcher_3e4bd748-2b26-476a-9a88-05eb9d56df50', 'tags': ['#MNIST', '#dataset'], 'command': 'search'}\n",
      "2022-03-11 18:45:43,862 fedbiomed INFO - Node selected for training -> node_5d59b59e-b156-495e-9423-c6a6fb9d5d42\n",
      "2022-03-11 18:45:43,878 fedbiomed DEBUG - Model file has been saved: /Users/mlorenzi/works/temp/fedbiomed/var/experiments/Experiment_0006/my_model_53b200ff-c46a-420c-9745-c83721de68d9.py\n",
      "2022-03-11 18:45:43,927 fedbiomed DEBUG - upload (HTTP POST request) of file /Users/mlorenzi/works/temp/fedbiomed/var/experiments/Experiment_0006/my_model_53b200ff-c46a-420c-9745-c83721de68d9.py successful, with status code 201\n",
      "2022-03-11 18:45:44,302 fedbiomed DEBUG - upload (HTTP POST request) of file /Users/mlorenzi/works/temp/fedbiomed/var/experiments/Experiment_0006/aggregated_params_init_079fc6fd-cedb-457a-9d8e-8ea288f14d6d.pt successful, with status code 201\n"
     ]
    }
   ],
   "source": [
    "from fedbiomed.researcher.experiment import Experiment\n",
    "from fedbiomed.researcher.aggregators.fedavg import FedAverage\n",
    "\n",
    "tags =  ['#MNIST', '#dataset']\n",
    "\n",
    "exp = Experiment(tags=tags,\n",
    "                 model_args=model_args,\n",
    "                 model_class=MyTrainingPlan,\n",
    "                 training_args=training_args,\n",
    "                 round_limit=FL_rounds,\n",
    "                 aggregator=FedAverage(),\n",
    "                 node_selection_strategy=None)"
   ]
  },
  {
   "cell_type": "markdown",
   "metadata": {
    "pycharm": {
     "name": "#%% md\n"
    }
   },
   "source": [
    "Let's start the experiment.\n",
    "\n",
    "By default, this function doesn't stop until all the `round_limit` rounds are done for all the nodes"
   ]
  },
  {
   "cell_type": "code",
   "execution_count": 10,
   "metadata": {
    "pycharm": {
     "name": "#%%\n"
    },
    "scrolled": true
   },
   "outputs": [
    {
     "name": "stderr",
     "output_type": "stream",
     "text": [
      "2022-03-11 18:45:44,355 fedbiomed INFO - Sampled nodes in round 0 ['node_5d59b59e-b156-495e-9423-c6a6fb9d5d42']\n",
      "2022-03-11 18:45:44,356 fedbiomed INFO - Send message to node node_5d59b59e-b156-495e-9423-c6a6fb9d5d42 - {'researcher_id': 'researcher_3e4bd748-2b26-476a-9a88-05eb9d56df50', 'job_id': '7b4256e3-e0e0-4a4c-93f8-ee82fc92bdbc', 'training_args': {'batch_size': 48, 'lr': 0.001, 'fedprox_mu': 0.01, 'epochs': 1, 'dry_run': False, 'batch_maxnum': 100}, 'model_args': {'DP': {'clip_threshold': 1.0, 'epsilon': 14.697571214656923, 'sigma': 1.6666666666666667e-06}}, 'command': 'train', 'model_url': 'http://localhost:8844/media/uploads/2022/03/11/my_model_53b200ff-c46a-420c-9745-c83721de68d9.py', 'params_url': 'http://localhost:8844/media/uploads/2022/03/11/aggregated_params_init_079fc6fd-cedb-457a-9d8e-8ea288f14d6d.pt', 'model_class': 'MyTrainingPlan', 'training_data': {'node_5d59b59e-b156-495e-9423-c6a6fb9d5d42': ['dataset_f2f1f2f2-ba6a-452d-bb03-b744e1ab4657']}}\n",
      "2022-03-11 18:45:44,356 fedbiomed DEBUG - researcher_3e4bd748-2b26-476a-9a88-05eb9d56df50\n",
      "2022-03-11 18:45:44,364 fedbiomed INFO - log from: node_5d59b59e-b156-495e-9423-c6a6fb9d5d42 / DEBUG - Message received: {'researcher_id': 'researcher_3e4bd748-2b26-476a-9a88-05eb9d56df50', 'job_id': '7b4256e3-e0e0-4a4c-93f8-ee82fc92bdbc', 'training_args': {'batch_size': 48, 'lr': 0.001, 'fedprox_mu': 0.01, 'epochs': 1, 'dry_run': False, 'batch_maxnum': 100}, 'model_args': {'DP': {'clip_threshold': 1.0, 'epsilon': 14.697571214656923, 'sigma': 1.6666666666666667e-06}}, 'command': 'train', 'model_url': 'http://localhost:8844/media/uploads/2022/03/11/my_model_53b200ff-c46a-420c-9745-c83721de68d9.py', 'params_url': 'http://localhost:8844/media/uploads/2022/03/11/aggregated_params_init_079fc6fd-cedb-457a-9d8e-8ea288f14d6d.pt', 'model_class': 'MyTrainingPlan', 'training_data': {'node_5d59b59e-b156-495e-9423-c6a6fb9d5d42': ['dataset_f2f1f2f2-ba6a-452d-bb03-b744e1ab4657']}}\n",
      "2022-03-11 18:45:44,366 fedbiomed INFO - log from: node_5d59b59e-b156-495e-9423-c6a6fb9d5d42 / DEBUG - [TASKS QUEUE] Item:{'researcher_id': 'researcher_3e4bd748-2b26-476a-9a88-05eb9d56df50', 'job_id': '7b4256e3-e0e0-4a4c-93f8-ee82fc92bdbc', 'params_url': 'http://localhost:8844/media/uploads/2022/03/11/aggregated_params_init_079fc6fd-cedb-457a-9d8e-8ea288f14d6d.pt', 'training_args': {'batch_size': 48, 'lr': 0.001, 'fedprox_mu': 0.01, 'epochs': 1, 'dry_run': False, 'batch_maxnum': 100}, 'training_data': {'node_5d59b59e-b156-495e-9423-c6a6fb9d5d42': ['dataset_f2f1f2f2-ba6a-452d-bb03-b744e1ab4657']}, 'model_args': {'DP': {'clip_threshold': 1.0, 'epsilon': 14.697571214656923, 'sigma': 1.6666666666666667e-06}}, 'model_url': 'http://localhost:8844/media/uploads/2022/03/11/my_model_53b200ff-c46a-420c-9745-c83721de68d9.py', 'model_class': 'MyTrainingPlan', 'command': 'train'}\n",
      "2022-03-11 18:45:44,380 fedbiomed INFO - log from: node_5d59b59e-b156-495e-9423-c6a6fb9d5d42 / DEBUG - upload (HTTP GET request) of file my_model_993e07fa6a914367b1684be17159eec3.py successful, with status code 200\n",
      "2022-03-11 18:45:44,514 fedbiomed INFO - log from: node_5d59b59e-b156-495e-9423-c6a6fb9d5d42 / DEBUG - upload (HTTP GET request) of file my_model_db35a075-70b2-4c4e-98a8-cdf67c09f2b5.pt successful, with status code 200\n",
      "2022-03-11 18:45:44,534 fedbiomed INFO - log from: node_5d59b59e-b156-495e-9423-c6a6fb9d5d42 / INFO - training with arguments {'monitor': <fedbiomed.node.history_monitor.HistoryMonitor object at 0x1350c7640>, 'node_args': {'gpu': False, 'gpu_num': None, 'gpu_only': False}, 'batch_size': 48, 'lr': 0.001, 'fedprox_mu': 0.01, 'epochs': 1, 'dry_run': False, 'batch_maxnum': 100}\n",
      "2022-03-11 18:45:44,535 fedbiomed INFO - log from: node_5d59b59e-b156-495e-9423-c6a6fb9d5d42 / DEBUG - Dataset path has been set as/Users/mlorenzi/works/temp/MNIST\n",
      "2022-03-11 18:45:44,537 fedbiomed INFO - log from: node_5d59b59e-b156-495e-9423-c6a6fb9d5d42 / DEBUG - Using device cpu for training (cuda_available=False, gpu=False, gpu_only=False, use_gpu=False, gpu_num=None)\n",
      "2022-03-11 18:45:44,649 fedbiomed INFO - log from: node_5d59b59e-b156-495e-9423-c6a6fb9d5d42 / INFO - Train Epoch: 1 [0/60000 (0%)]\tLoss: 2.306058\n",
      "2022-03-11 18:45:45,437 fedbiomed INFO - log from: node_5d59b59e-b156-495e-9423-c6a6fb9d5d42 / INFO - Train Epoch: 1 [480/60000 (1%)]\tLoss: 1.150985\n",
      "2022-03-11 18:45:46,229 fedbiomed INFO - log from: node_5d59b59e-b156-495e-9423-c6a6fb9d5d42 / INFO - Train Epoch: 1 [960/60000 (2%)]\tLoss: 0.987790\n",
      "2022-03-11 18:45:47,031 fedbiomed INFO - log from: node_5d59b59e-b156-495e-9423-c6a6fb9d5d42 / INFO - Train Epoch: 1 [1440/60000 (2%)]\tLoss: 0.738474\n",
      "2022-03-11 18:45:47,819 fedbiomed INFO - log from: node_5d59b59e-b156-495e-9423-c6a6fb9d5d42 / INFO - Train Epoch: 1 [1920/60000 (3%)]\tLoss: 0.852690\n",
      "2022-03-11 18:45:48,586 fedbiomed INFO - log from: node_5d59b59e-b156-495e-9423-c6a6fb9d5d42 / INFO - Train Epoch: 1 [2400/60000 (4%)]\tLoss: 0.760662\n",
      "2022-03-11 18:45:49,342 fedbiomed INFO - log from: node_5d59b59e-b156-495e-9423-c6a6fb9d5d42 / INFO - Train Epoch: 1 [2880/60000 (5%)]\tLoss: 0.772403\n",
      "2022-03-11 18:45:50,090 fedbiomed INFO - log from: node_5d59b59e-b156-495e-9423-c6a6fb9d5d42 / INFO - Train Epoch: 1 [3360/60000 (6%)]\tLoss: 0.788548\n",
      "2022-03-11 18:45:50,841 fedbiomed INFO - log from: node_5d59b59e-b156-495e-9423-c6a6fb9d5d42 / INFO - Train Epoch: 1 [3840/60000 (6%)]\tLoss: 0.822039\n",
      "2022-03-11 18:45:51,585 fedbiomed INFO - log from: node_5d59b59e-b156-495e-9423-c6a6fb9d5d42 / INFO - Train Epoch: 1 [4320/60000 (7%)]\tLoss: 0.701545\n",
      "2022-03-11 18:45:52,332 fedbiomed INFO - log from: node_5d59b59e-b156-495e-9423-c6a6fb9d5d42 / DEBUG - Reached 100 batches for this epoch, ignore remaining data\n",
      "2022-03-11 18:45:52,333 fedbiomed INFO - log from: node_5d59b59e-b156-495e-9423-c6a6fb9d5d42 / DEBUG - running model.postprocess() method\n",
      "2022-03-11 18:45:52,705 fedbiomed INFO - log from: node_5d59b59e-b156-495e-9423-c6a6fb9d5d42 / DEBUG - upload (HTTP POST request) of file /Users/mlorenzi/works/temp/fedbiomed/var/tmp/node_params_af489f6e-84dd-43bf-aaeb-56ff43b9b5b8.pt successful, with status code 201\n",
      "2022-03-11 18:45:52,706 fedbiomed INFO - log from: node_5d59b59e-b156-495e-9423-c6a6fb9d5d42 / INFO - results uploaded successfully \n",
      "2022-03-11 18:45:59,369 fedbiomed INFO - Downloading model params after training on node_5d59b59e-b156-495e-9423-c6a6fb9d5d42 - from http://localhost:8844/media/uploads/2022/03/11/node_params_af489f6e-84dd-43bf-aaeb-56ff43b9b5b8.pt\n",
      "2022-03-11 18:45:59,494 fedbiomed DEBUG - upload (HTTP GET request) of file node_params_ce280653-7135-4c44-bd93-e30f25a747bc.pt successful, with status code 200\n",
      "2022-03-11 18:45:59,510 fedbiomed INFO - Nodes that successfully reply in round 0 ['node_5d59b59e-b156-495e-9423-c6a6fb9d5d42']\n",
      "2022-03-11 18:45:59,880 fedbiomed DEBUG - upload (HTTP POST request) of file /Users/mlorenzi/works/temp/fedbiomed/var/experiments/Experiment_0006/aggregated_params_99beb80d-5750-45e9-b4ca-9994025c4293.pt successful, with status code 201\n",
      "2022-03-11 18:45:59,881 fedbiomed INFO - Saved aggregated params for round 0 in /Users/mlorenzi/works/temp/fedbiomed/var/experiments/Experiment_0006/aggregated_params_99beb80d-5750-45e9-b4ca-9994025c4293.pt\n",
      "2022-03-11 18:45:59,882 fedbiomed INFO - Sampled nodes in round 1 ['node_5d59b59e-b156-495e-9423-c6a6fb9d5d42']\n",
      "2022-03-11 18:45:59,883 fedbiomed INFO - Send message to node node_5d59b59e-b156-495e-9423-c6a6fb9d5d42 - {'researcher_id': 'researcher_3e4bd748-2b26-476a-9a88-05eb9d56df50', 'job_id': '7b4256e3-e0e0-4a4c-93f8-ee82fc92bdbc', 'training_args': {'batch_size': 48, 'lr': 0.001, 'fedprox_mu': 0.01, 'epochs': 1, 'dry_run': False, 'batch_maxnum': 100}, 'model_args': {'DP': {'clip_threshold': 1.0, 'epsilon': 14.697571214656923, 'sigma': 1.6666666666666667e-06}}, 'command': 'train', 'model_url': 'http://localhost:8844/media/uploads/2022/03/11/my_model_53b200ff-c46a-420c-9745-c83721de68d9.py', 'params_url': 'http://localhost:8844/media/uploads/2022/03/11/aggregated_params_99beb80d-5750-45e9-b4ca-9994025c4293.pt', 'model_class': 'MyTrainingPlan', 'training_data': {'node_5d59b59e-b156-495e-9423-c6a6fb9d5d42': ['dataset_f2f1f2f2-ba6a-452d-bb03-b744e1ab4657']}}\n",
      "2022-03-11 18:45:59,884 fedbiomed DEBUG - researcher_3e4bd748-2b26-476a-9a88-05eb9d56df50\n"
     ]
    },
    {
     "name": "stderr",
     "output_type": "stream",
     "text": [
      "2022-03-11 18:45:59,893 fedbiomed INFO - log from: node_5d59b59e-b156-495e-9423-c6a6fb9d5d42 / DEBUG - Message received: {'researcher_id': 'researcher_3e4bd748-2b26-476a-9a88-05eb9d56df50', 'job_id': '7b4256e3-e0e0-4a4c-93f8-ee82fc92bdbc', 'training_args': {'batch_size': 48, 'lr': 0.001, 'fedprox_mu': 0.01, 'epochs': 1, 'dry_run': False, 'batch_maxnum': 100}, 'model_args': {'DP': {'clip_threshold': 1.0, 'epsilon': 14.697571214656923, 'sigma': 1.6666666666666667e-06}}, 'command': 'train', 'model_url': 'http://localhost:8844/media/uploads/2022/03/11/my_model_53b200ff-c46a-420c-9745-c83721de68d9.py', 'params_url': 'http://localhost:8844/media/uploads/2022/03/11/aggregated_params_99beb80d-5750-45e9-b4ca-9994025c4293.pt', 'model_class': 'MyTrainingPlan', 'training_data': {'node_5d59b59e-b156-495e-9423-c6a6fb9d5d42': ['dataset_f2f1f2f2-ba6a-452d-bb03-b744e1ab4657']}}\n",
      "2022-03-11 18:45:59,895 fedbiomed INFO - log from: node_5d59b59e-b156-495e-9423-c6a6fb9d5d42 / DEBUG - [TASKS QUEUE] Item:{'researcher_id': 'researcher_3e4bd748-2b26-476a-9a88-05eb9d56df50', 'job_id': '7b4256e3-e0e0-4a4c-93f8-ee82fc92bdbc', 'params_url': 'http://localhost:8844/media/uploads/2022/03/11/aggregated_params_99beb80d-5750-45e9-b4ca-9994025c4293.pt', 'training_args': {'batch_size': 48, 'lr': 0.001, 'fedprox_mu': 0.01, 'epochs': 1, 'dry_run': False, 'batch_maxnum': 100}, 'training_data': {'node_5d59b59e-b156-495e-9423-c6a6fb9d5d42': ['dataset_f2f1f2f2-ba6a-452d-bb03-b744e1ab4657']}, 'model_args': {'DP': {'clip_threshold': 1.0, 'epsilon': 14.697571214656923, 'sigma': 1.6666666666666667e-06}}, 'model_url': 'http://localhost:8844/media/uploads/2022/03/11/my_model_53b200ff-c46a-420c-9745-c83721de68d9.py', 'model_class': 'MyTrainingPlan', 'command': 'train'}\n",
      "2022-03-11 18:45:59,908 fedbiomed INFO - log from: node_5d59b59e-b156-495e-9423-c6a6fb9d5d42 / DEBUG - upload (HTTP GET request) of file my_model_ec0acefbe90b4c769d737e476ea444a9.py successful, with status code 200\n",
      "2022-03-11 18:46:00,038 fedbiomed INFO - log from: node_5d59b59e-b156-495e-9423-c6a6fb9d5d42 / DEBUG - upload (HTTP GET request) of file my_model_d44122fd-668e-4fc5-8af7-4c48e360c907.pt successful, with status code 200\n",
      "2022-03-11 18:46:00,056 fedbiomed INFO - log from: node_5d59b59e-b156-495e-9423-c6a6fb9d5d42 / INFO - training with arguments {'monitor': <fedbiomed.node.history_monitor.HistoryMonitor object at 0x13507bfd0>, 'node_args': {'gpu': False, 'gpu_num': None, 'gpu_only': False}, 'batch_size': 48, 'lr': 0.001, 'fedprox_mu': 0.01, 'epochs': 1, 'dry_run': False, 'batch_maxnum': 100}\n",
      "2022-03-11 18:46:00,057 fedbiomed INFO - log from: node_5d59b59e-b156-495e-9423-c6a6fb9d5d42 / DEBUG - Dataset path has been set as/Users/mlorenzi/works/temp/MNIST\n",
      "2022-03-11 18:46:00,058 fedbiomed INFO - log from: node_5d59b59e-b156-495e-9423-c6a6fb9d5d42 / DEBUG - Using device cpu for training (cuda_available=False, gpu=False, gpu_only=False, use_gpu=False, gpu_num=None)\n",
      "2022-03-11 18:46:00,157 fedbiomed INFO - log from: node_5d59b59e-b156-495e-9423-c6a6fb9d5d42 / INFO - Train Epoch: 1 [0/60000 (0%)]\tLoss: 2.050908\n",
      "2022-03-11 18:46:00,916 fedbiomed INFO - log from: node_5d59b59e-b156-495e-9423-c6a6fb9d5d42 / INFO - Train Epoch: 1 [480/60000 (1%)]\tLoss: 0.787389\n",
      "2022-03-11 18:46:01,668 fedbiomed INFO - log from: node_5d59b59e-b156-495e-9423-c6a6fb9d5d42 / INFO - Train Epoch: 1 [960/60000 (2%)]\tLoss: 0.979193\n",
      "2022-03-11 18:46:02,423 fedbiomed INFO - log from: node_5d59b59e-b156-495e-9423-c6a6fb9d5d42 / INFO - Train Epoch: 1 [1440/60000 (2%)]\tLoss: 0.657277\n",
      "2022-03-11 18:46:03,172 fedbiomed INFO - log from: node_5d59b59e-b156-495e-9423-c6a6fb9d5d42 / INFO - Train Epoch: 1 [1920/60000 (3%)]\tLoss: 0.873635\n",
      "2022-03-11 18:46:03,920 fedbiomed INFO - log from: node_5d59b59e-b156-495e-9423-c6a6fb9d5d42 / INFO - Train Epoch: 1 [2400/60000 (4%)]\tLoss: 0.582569\n",
      "2022-03-11 18:46:04,677 fedbiomed INFO - log from: node_5d59b59e-b156-495e-9423-c6a6fb9d5d42 / INFO - Train Epoch: 1 [2880/60000 (5%)]\tLoss: 0.620080\n",
      "2022-03-11 18:46:05,421 fedbiomed INFO - log from: node_5d59b59e-b156-495e-9423-c6a6fb9d5d42 / INFO - Train Epoch: 1 [3360/60000 (6%)]\tLoss: 0.758883\n",
      "2022-03-11 18:46:06,172 fedbiomed INFO - log from: node_5d59b59e-b156-495e-9423-c6a6fb9d5d42 / INFO - Train Epoch: 1 [3840/60000 (6%)]\tLoss: 0.761197\n",
      "2022-03-11 18:46:06,919 fedbiomed INFO - log from: node_5d59b59e-b156-495e-9423-c6a6fb9d5d42 / INFO - Train Epoch: 1 [4320/60000 (7%)]\tLoss: 0.619673\n",
      "2022-03-11 18:46:07,667 fedbiomed INFO - log from: node_5d59b59e-b156-495e-9423-c6a6fb9d5d42 / DEBUG - Reached 100 batches for this epoch, ignore remaining data\n",
      "2022-03-11 18:46:07,668 fedbiomed INFO - log from: node_5d59b59e-b156-495e-9423-c6a6fb9d5d42 / DEBUG - running model.postprocess() method\n",
      "2022-03-11 18:46:08,061 fedbiomed INFO - log from: node_5d59b59e-b156-495e-9423-c6a6fb9d5d42 / DEBUG - upload (HTTP POST request) of file /Users/mlorenzi/works/temp/fedbiomed/var/tmp/node_params_6d468f95-9201-4119-9429-2992f1936a70.pt successful, with status code 201\n",
      "2022-03-11 18:46:08,062 fedbiomed INFO - log from: node_5d59b59e-b156-495e-9423-c6a6fb9d5d42 / INFO - results uploaded successfully \n",
      "2022-03-11 18:46:14,894 fedbiomed INFO - Downloading model params after training on node_5d59b59e-b156-495e-9423-c6a6fb9d5d42 - from http://localhost:8844/media/uploads/2022/03/11/node_params_6d468f95-9201-4119-9429-2992f1936a70.pt\n",
      "2022-03-11 18:46:15,014 fedbiomed DEBUG - upload (HTTP GET request) of file node_params_a038d74d-747a-4277-98af-8c0a719deb7f.pt successful, with status code 200\n",
      "2022-03-11 18:46:15,032 fedbiomed INFO - Nodes that successfully reply in round 1 ['node_5d59b59e-b156-495e-9423-c6a6fb9d5d42']\n",
      "2022-03-11 18:46:15,438 fedbiomed DEBUG - upload (HTTP POST request) of file /Users/mlorenzi/works/temp/fedbiomed/var/experiments/Experiment_0006/aggregated_params_2bce3110-09eb-4414-a629-22f313c27b80.pt successful, with status code 201\n",
      "2022-03-11 18:46:15,439 fedbiomed INFO - Saved aggregated params for round 1 in /Users/mlorenzi/works/temp/fedbiomed/var/experiments/Experiment_0006/aggregated_params_2bce3110-09eb-4414-a629-22f313c27b80.pt\n",
      "2022-03-11 18:46:15,439 fedbiomed INFO - Sampled nodes in round 2 ['node_5d59b59e-b156-495e-9423-c6a6fb9d5d42']\n",
      "2022-03-11 18:46:15,440 fedbiomed INFO - Send message to node node_5d59b59e-b156-495e-9423-c6a6fb9d5d42 - {'researcher_id': 'researcher_3e4bd748-2b26-476a-9a88-05eb9d56df50', 'job_id': '7b4256e3-e0e0-4a4c-93f8-ee82fc92bdbc', 'training_args': {'batch_size': 48, 'lr': 0.001, 'fedprox_mu': 0.01, 'epochs': 1, 'dry_run': False, 'batch_maxnum': 100}, 'model_args': {'DP': {'clip_threshold': 1.0, 'epsilon': 14.697571214656923, 'sigma': 1.6666666666666667e-06}}, 'command': 'train', 'model_url': 'http://localhost:8844/media/uploads/2022/03/11/my_model_53b200ff-c46a-420c-9745-c83721de68d9.py', 'params_url': 'http://localhost:8844/media/uploads/2022/03/11/aggregated_params_2bce3110-09eb-4414-a629-22f313c27b80.pt', 'model_class': 'MyTrainingPlan', 'training_data': {'node_5d59b59e-b156-495e-9423-c6a6fb9d5d42': ['dataset_f2f1f2f2-ba6a-452d-bb03-b744e1ab4657']}}\n",
      "2022-03-11 18:46:15,441 fedbiomed DEBUG - researcher_3e4bd748-2b26-476a-9a88-05eb9d56df50\n",
      "2022-03-11 18:46:15,449 fedbiomed INFO - log from: node_5d59b59e-b156-495e-9423-c6a6fb9d5d42 / DEBUG - Message received: {'researcher_id': 'researcher_3e4bd748-2b26-476a-9a88-05eb9d56df50', 'job_id': '7b4256e3-e0e0-4a4c-93f8-ee82fc92bdbc', 'training_args': {'batch_size': 48, 'lr': 0.001, 'fedprox_mu': 0.01, 'epochs': 1, 'dry_run': False, 'batch_maxnum': 100}, 'model_args': {'DP': {'clip_threshold': 1.0, 'epsilon': 14.697571214656923, 'sigma': 1.6666666666666667e-06}}, 'command': 'train', 'model_url': 'http://localhost:8844/media/uploads/2022/03/11/my_model_53b200ff-c46a-420c-9745-c83721de68d9.py', 'params_url': 'http://localhost:8844/media/uploads/2022/03/11/aggregated_params_2bce3110-09eb-4414-a629-22f313c27b80.pt', 'model_class': 'MyTrainingPlan', 'training_data': {'node_5d59b59e-b156-495e-9423-c6a6fb9d5d42': ['dataset_f2f1f2f2-ba6a-452d-bb03-b744e1ab4657']}}\n",
      "2022-03-11 18:46:15,451 fedbiomed INFO - log from: node_5d59b59e-b156-495e-9423-c6a6fb9d5d42 / DEBUG - [TASKS QUEUE] Item:{'researcher_id': 'researcher_3e4bd748-2b26-476a-9a88-05eb9d56df50', 'job_id': '7b4256e3-e0e0-4a4c-93f8-ee82fc92bdbc', 'params_url': 'http://localhost:8844/media/uploads/2022/03/11/aggregated_params_2bce3110-09eb-4414-a629-22f313c27b80.pt', 'training_args': {'batch_size': 48, 'lr': 0.001, 'fedprox_mu': 0.01, 'epochs': 1, 'dry_run': False, 'batch_maxnum': 100}, 'training_data': {'node_5d59b59e-b156-495e-9423-c6a6fb9d5d42': ['dataset_f2f1f2f2-ba6a-452d-bb03-b744e1ab4657']}, 'model_args': {'DP': {'clip_threshold': 1.0, 'epsilon': 14.697571214656923, 'sigma': 1.6666666666666667e-06}}, 'model_url': 'http://localhost:8844/media/uploads/2022/03/11/my_model_53b200ff-c46a-420c-9745-c83721de68d9.py', 'model_class': 'MyTrainingPlan', 'command': 'train'}\n"
     ]
    },
    {
     "name": "stderr",
     "output_type": "stream",
     "text": [
      "2022-03-11 18:46:15,464 fedbiomed INFO - log from: node_5d59b59e-b156-495e-9423-c6a6fb9d5d42 / DEBUG - upload (HTTP GET request) of file my_model_eb587274f6ab4a4db10c575ca7a12269.py successful, with status code 200\n",
      "2022-03-11 18:46:15,603 fedbiomed INFO - log from: node_5d59b59e-b156-495e-9423-c6a6fb9d5d42 / DEBUG - upload (HTTP GET request) of file my_model_cf2e5402-fe5e-4354-ac56-0c7e787a8cef.pt successful, with status code 200\n",
      "2022-03-11 18:46:15,621 fedbiomed INFO - log from: node_5d59b59e-b156-495e-9423-c6a6fb9d5d42 / INFO - training with arguments {'monitor': <fedbiomed.node.history_monitor.HistoryMonitor object at 0x135067940>, 'node_args': {'gpu': False, 'gpu_num': None, 'gpu_only': False}, 'batch_size': 48, 'lr': 0.001, 'fedprox_mu': 0.01, 'epochs': 1, 'dry_run': False, 'batch_maxnum': 100}\n",
      "2022-03-11 18:46:15,622 fedbiomed INFO - log from: node_5d59b59e-b156-495e-9423-c6a6fb9d5d42 / DEBUG - Dataset path has been set as/Users/mlorenzi/works/temp/MNIST\n",
      "2022-03-11 18:46:15,623 fedbiomed INFO - log from: node_5d59b59e-b156-495e-9423-c6a6fb9d5d42 / DEBUG - Using device cpu for training (cuda_available=False, gpu=False, gpu_only=False, use_gpu=False, gpu_num=None)\n",
      "2022-03-11 18:46:15,720 fedbiomed INFO - log from: node_5d59b59e-b156-495e-9423-c6a6fb9d5d42 / INFO - Train Epoch: 1 [0/60000 (0%)]\tLoss: 1.813726\n",
      "2022-03-11 18:46:16,475 fedbiomed INFO - log from: node_5d59b59e-b156-495e-9423-c6a6fb9d5d42 / INFO - Train Epoch: 1 [480/60000 (1%)]\tLoss: 0.667966\n",
      "2022-03-11 18:46:17,233 fedbiomed INFO - log from: node_5d59b59e-b156-495e-9423-c6a6fb9d5d42 / INFO - Train Epoch: 1 [960/60000 (2%)]\tLoss: 0.808418\n",
      "2022-03-11 18:46:17,985 fedbiomed INFO - log from: node_5d59b59e-b156-495e-9423-c6a6fb9d5d42 / INFO - Train Epoch: 1 [1440/60000 (2%)]\tLoss: 0.481650\n",
      "2022-03-11 18:46:18,738 fedbiomed INFO - log from: node_5d59b59e-b156-495e-9423-c6a6fb9d5d42 / INFO - Train Epoch: 1 [1920/60000 (3%)]\tLoss: 0.655389\n",
      "2022-03-11 18:46:19,493 fedbiomed INFO - log from: node_5d59b59e-b156-495e-9423-c6a6fb9d5d42 / INFO - Train Epoch: 1 [2400/60000 (4%)]\tLoss: 0.571268\n",
      "2022-03-11 18:46:20,243 fedbiomed INFO - log from: node_5d59b59e-b156-495e-9423-c6a6fb9d5d42 / INFO - Train Epoch: 1 [2880/60000 (5%)]\tLoss: 0.590269\n",
      "2022-03-11 18:46:20,992 fedbiomed INFO - log from: node_5d59b59e-b156-495e-9423-c6a6fb9d5d42 / INFO - Train Epoch: 1 [3360/60000 (6%)]\tLoss: 0.531376\n",
      "2022-03-11 18:46:21,742 fedbiomed INFO - log from: node_5d59b59e-b156-495e-9423-c6a6fb9d5d42 / INFO - Train Epoch: 1 [3840/60000 (6%)]\tLoss: 0.539517\n",
      "2022-03-11 18:46:22,552 fedbiomed INFO - log from: node_5d59b59e-b156-495e-9423-c6a6fb9d5d42 / INFO - Train Epoch: 1 [4320/60000 (7%)]\tLoss: 0.607536\n",
      "2022-03-11 18:46:23,370 fedbiomed INFO - log from: node_5d59b59e-b156-495e-9423-c6a6fb9d5d42 / DEBUG - Reached 100 batches for this epoch, ignore remaining data\n",
      "2022-03-11 18:46:23,371 fedbiomed INFO - log from: node_5d59b59e-b156-495e-9423-c6a6fb9d5d42 / DEBUG - running model.postprocess() method\n",
      "2022-03-11 18:46:23,762 fedbiomed INFO - log from: node_5d59b59e-b156-495e-9423-c6a6fb9d5d42 / DEBUG - upload (HTTP POST request) of file /Users/mlorenzi/works/temp/fedbiomed/var/tmp/node_params_33c11a77-c942-407a-993b-88f5ce0c5960.pt successful, with status code 201\n",
      "2022-03-11 18:46:23,762 fedbiomed INFO - log from: node_5d59b59e-b156-495e-9423-c6a6fb9d5d42 / INFO - results uploaded successfully \n",
      "2022-03-11 18:46:30,449 fedbiomed INFO - Downloading model params after training on node_5d59b59e-b156-495e-9423-c6a6fb9d5d42 - from http://localhost:8844/media/uploads/2022/03/11/node_params_33c11a77-c942-407a-993b-88f5ce0c5960.pt\n",
      "2022-03-11 18:46:30,577 fedbiomed DEBUG - upload (HTTP GET request) of file node_params_ef7cb52b-132a-48e8-b5fa-f64e9e6a3a57.pt successful, with status code 200\n",
      "2022-03-11 18:46:30,591 fedbiomed INFO - Nodes that successfully reply in round 2 ['node_5d59b59e-b156-495e-9423-c6a6fb9d5d42']\n",
      "2022-03-11 18:46:30,965 fedbiomed DEBUG - upload (HTTP POST request) of file /Users/mlorenzi/works/temp/fedbiomed/var/experiments/Experiment_0006/aggregated_params_ff0d3361-8850-4165-8953-e3dc507ede42.pt successful, with status code 201\n",
      "2022-03-11 18:46:30,966 fedbiomed INFO - Saved aggregated params for round 2 in /Users/mlorenzi/works/temp/fedbiomed/var/experiments/Experiment_0006/aggregated_params_ff0d3361-8850-4165-8953-e3dc507ede42.pt\n",
      "2022-03-11 18:46:30,967 fedbiomed INFO - Sampled nodes in round 3 ['node_5d59b59e-b156-495e-9423-c6a6fb9d5d42']\n",
      "2022-03-11 18:46:30,968 fedbiomed INFO - Send message to node node_5d59b59e-b156-495e-9423-c6a6fb9d5d42 - {'researcher_id': 'researcher_3e4bd748-2b26-476a-9a88-05eb9d56df50', 'job_id': '7b4256e3-e0e0-4a4c-93f8-ee82fc92bdbc', 'training_args': {'batch_size': 48, 'lr': 0.001, 'fedprox_mu': 0.01, 'epochs': 1, 'dry_run': False, 'batch_maxnum': 100}, 'model_args': {'DP': {'clip_threshold': 1.0, 'epsilon': 14.697571214656923, 'sigma': 1.6666666666666667e-06}}, 'command': 'train', 'model_url': 'http://localhost:8844/media/uploads/2022/03/11/my_model_53b200ff-c46a-420c-9745-c83721de68d9.py', 'params_url': 'http://localhost:8844/media/uploads/2022/03/11/aggregated_params_ff0d3361-8850-4165-8953-e3dc507ede42.pt', 'model_class': 'MyTrainingPlan', 'training_data': {'node_5d59b59e-b156-495e-9423-c6a6fb9d5d42': ['dataset_f2f1f2f2-ba6a-452d-bb03-b744e1ab4657']}}\n",
      "2022-03-11 18:46:30,968 fedbiomed DEBUG - researcher_3e4bd748-2b26-476a-9a88-05eb9d56df50\n",
      "2022-03-11 18:46:30,976 fedbiomed INFO - log from: node_5d59b59e-b156-495e-9423-c6a6fb9d5d42 / DEBUG - Message received: {'researcher_id': 'researcher_3e4bd748-2b26-476a-9a88-05eb9d56df50', 'job_id': '7b4256e3-e0e0-4a4c-93f8-ee82fc92bdbc', 'training_args': {'batch_size': 48, 'lr': 0.001, 'fedprox_mu': 0.01, 'epochs': 1, 'dry_run': False, 'batch_maxnum': 100}, 'model_args': {'DP': {'clip_threshold': 1.0, 'epsilon': 14.697571214656923, 'sigma': 1.6666666666666667e-06}}, 'command': 'train', 'model_url': 'http://localhost:8844/media/uploads/2022/03/11/my_model_53b200ff-c46a-420c-9745-c83721de68d9.py', 'params_url': 'http://localhost:8844/media/uploads/2022/03/11/aggregated_params_ff0d3361-8850-4165-8953-e3dc507ede42.pt', 'model_class': 'MyTrainingPlan', 'training_data': {'node_5d59b59e-b156-495e-9423-c6a6fb9d5d42': ['dataset_f2f1f2f2-ba6a-452d-bb03-b744e1ab4657']}}\n",
      "2022-03-11 18:46:30,978 fedbiomed INFO - log from: node_5d59b59e-b156-495e-9423-c6a6fb9d5d42 / DEBUG - [TASKS QUEUE] Item:{'researcher_id': 'researcher_3e4bd748-2b26-476a-9a88-05eb9d56df50', 'job_id': '7b4256e3-e0e0-4a4c-93f8-ee82fc92bdbc', 'params_url': 'http://localhost:8844/media/uploads/2022/03/11/aggregated_params_ff0d3361-8850-4165-8953-e3dc507ede42.pt', 'training_args': {'batch_size': 48, 'lr': 0.001, 'fedprox_mu': 0.01, 'epochs': 1, 'dry_run': False, 'batch_maxnum': 100}, 'training_data': {'node_5d59b59e-b156-495e-9423-c6a6fb9d5d42': ['dataset_f2f1f2f2-ba6a-452d-bb03-b744e1ab4657']}, 'model_args': {'DP': {'clip_threshold': 1.0, 'epsilon': 14.697571214656923, 'sigma': 1.6666666666666667e-06}}, 'model_url': 'http://localhost:8844/media/uploads/2022/03/11/my_model_53b200ff-c46a-420c-9745-c83721de68d9.py', 'model_class': 'MyTrainingPlan', 'command': 'train'}\n",
      "2022-03-11 18:46:30,990 fedbiomed INFO - log from: node_5d59b59e-b156-495e-9423-c6a6fb9d5d42 / DEBUG - upload (HTTP GET request) of file my_model_6d24760c438b4a6a987a1e8c0a1790d3.py successful, with status code 200\n",
      "2022-03-11 18:46:31,115 fedbiomed INFO - log from: node_5d59b59e-b156-495e-9423-c6a6fb9d5d42 / DEBUG - upload (HTTP GET request) of file my_model_ab61bb11-7441-4fb0-a5f2-0e0165642721.pt successful, with status code 200\n",
      "2022-03-11 18:46:31,135 fedbiomed INFO - log from: node_5d59b59e-b156-495e-9423-c6a6fb9d5d42 / INFO - training with arguments {'monitor': <fedbiomed.node.history_monitor.HistoryMonitor object at 0x143f03640>, 'node_args': {'gpu': False, 'gpu_num': None, 'gpu_only': False}, 'batch_size': 48, 'lr': 0.001, 'fedprox_mu': 0.01, 'epochs': 1, 'dry_run': False, 'batch_maxnum': 100}\n",
      "2022-03-11 18:46:31,136 fedbiomed INFO - log from: node_5d59b59e-b156-495e-9423-c6a6fb9d5d42 / DEBUG - Dataset path has been set as/Users/mlorenzi/works/temp/MNIST\n",
      "2022-03-11 18:46:31,137 fedbiomed INFO - log from: node_5d59b59e-b156-495e-9423-c6a6fb9d5d42 / DEBUG - Using device cpu for training (cuda_available=False, gpu=False, gpu_only=False, use_gpu=False, gpu_num=None)\n"
     ]
    },
    {
     "name": "stderr",
     "output_type": "stream",
     "text": [
      "2022-03-11 18:46:31,233 fedbiomed INFO - log from: node_5d59b59e-b156-495e-9423-c6a6fb9d5d42 / INFO - Train Epoch: 1 [0/60000 (0%)]\tLoss: 1.540959\n",
      "2022-03-11 18:46:31,987 fedbiomed INFO - log from: node_5d59b59e-b156-495e-9423-c6a6fb9d5d42 / INFO - Train Epoch: 1 [480/60000 (1%)]\tLoss: 0.584365\n",
      "2022-03-11 18:46:32,740 fedbiomed INFO - log from: node_5d59b59e-b156-495e-9423-c6a6fb9d5d42 / INFO - Train Epoch: 1 [960/60000 (2%)]\tLoss: 0.535584\n",
      "2022-03-11 18:46:33,483 fedbiomed INFO - log from: node_5d59b59e-b156-495e-9423-c6a6fb9d5d42 / INFO - Train Epoch: 1 [1440/60000 (2%)]\tLoss: 0.440735\n",
      "2022-03-11 18:46:34,229 fedbiomed INFO - log from: node_5d59b59e-b156-495e-9423-c6a6fb9d5d42 / INFO - Train Epoch: 1 [1920/60000 (3%)]\tLoss: 0.368002\n",
      "2022-03-11 18:46:34,977 fedbiomed INFO - log from: node_5d59b59e-b156-495e-9423-c6a6fb9d5d42 / INFO - Train Epoch: 1 [2400/60000 (4%)]\tLoss: 0.440763\n",
      "2022-03-11 18:46:35,719 fedbiomed INFO - log from: node_5d59b59e-b156-495e-9423-c6a6fb9d5d42 / INFO - Train Epoch: 1 [2880/60000 (5%)]\tLoss: 0.497097\n",
      "2022-03-11 18:46:36,465 fedbiomed INFO - log from: node_5d59b59e-b156-495e-9423-c6a6fb9d5d42 / INFO - Train Epoch: 1 [3360/60000 (6%)]\tLoss: 0.533441\n",
      "2022-03-11 18:46:37,213 fedbiomed INFO - log from: node_5d59b59e-b156-495e-9423-c6a6fb9d5d42 / INFO - Train Epoch: 1 [3840/60000 (6%)]\tLoss: 0.472247\n",
      "2022-03-11 18:46:37,957 fedbiomed INFO - log from: node_5d59b59e-b156-495e-9423-c6a6fb9d5d42 / INFO - Train Epoch: 1 [4320/60000 (7%)]\tLoss: 0.462374\n",
      "2022-03-11 18:46:38,706 fedbiomed INFO - log from: node_5d59b59e-b156-495e-9423-c6a6fb9d5d42 / DEBUG - Reached 100 batches for this epoch, ignore remaining data\n",
      "2022-03-11 18:46:38,707 fedbiomed INFO - log from: node_5d59b59e-b156-495e-9423-c6a6fb9d5d42 / DEBUG - running model.postprocess() method\n",
      "2022-03-11 18:46:39,082 fedbiomed INFO - log from: node_5d59b59e-b156-495e-9423-c6a6fb9d5d42 / DEBUG - upload (HTTP POST request) of file /Users/mlorenzi/works/temp/fedbiomed/var/tmp/node_params_da21c110-e1c2-4fed-b501-9f43abd47538.pt successful, with status code 201\n",
      "2022-03-11 18:46:39,091 fedbiomed INFO - log from: node_5d59b59e-b156-495e-9423-c6a6fb9d5d42 / INFO - results uploaded successfully \n",
      "2022-03-11 18:46:45,979 fedbiomed INFO - Downloading model params after training on node_5d59b59e-b156-495e-9423-c6a6fb9d5d42 - from http://localhost:8844/media/uploads/2022/03/11/node_params_da21c110-e1c2-4fed-b501-9f43abd47538.pt\n",
      "2022-03-11 18:46:46,098 fedbiomed DEBUG - upload (HTTP GET request) of file node_params_6d270c24-bae2-4713-bd4c-2e7f8e409f2f.pt successful, with status code 200\n",
      "2022-03-11 18:46:46,113 fedbiomed INFO - Nodes that successfully reply in round 3 ['node_5d59b59e-b156-495e-9423-c6a6fb9d5d42']\n",
      "2022-03-11 18:46:46,492 fedbiomed DEBUG - upload (HTTP POST request) of file /Users/mlorenzi/works/temp/fedbiomed/var/experiments/Experiment_0006/aggregated_params_fe637d2d-05b6-47ee-9c02-72d92fcaf9bd.pt successful, with status code 201\n",
      "2022-03-11 18:46:46,493 fedbiomed INFO - Saved aggregated params for round 3 in /Users/mlorenzi/works/temp/fedbiomed/var/experiments/Experiment_0006/aggregated_params_fe637d2d-05b6-47ee-9c02-72d92fcaf9bd.pt\n",
      "2022-03-11 18:46:46,493 fedbiomed INFO - Sampled nodes in round 4 ['node_5d59b59e-b156-495e-9423-c6a6fb9d5d42']\n",
      "2022-03-11 18:46:46,494 fedbiomed INFO - Send message to node node_5d59b59e-b156-495e-9423-c6a6fb9d5d42 - {'researcher_id': 'researcher_3e4bd748-2b26-476a-9a88-05eb9d56df50', 'job_id': '7b4256e3-e0e0-4a4c-93f8-ee82fc92bdbc', 'training_args': {'batch_size': 48, 'lr': 0.001, 'fedprox_mu': 0.01, 'epochs': 1, 'dry_run': False, 'batch_maxnum': 100}, 'model_args': {'DP': {'clip_threshold': 1.0, 'epsilon': 14.697571214656923, 'sigma': 1.6666666666666667e-06}}, 'command': 'train', 'model_url': 'http://localhost:8844/media/uploads/2022/03/11/my_model_53b200ff-c46a-420c-9745-c83721de68d9.py', 'params_url': 'http://localhost:8844/media/uploads/2022/03/11/aggregated_params_fe637d2d-05b6-47ee-9c02-72d92fcaf9bd.pt', 'model_class': 'MyTrainingPlan', 'training_data': {'node_5d59b59e-b156-495e-9423-c6a6fb9d5d42': ['dataset_f2f1f2f2-ba6a-452d-bb03-b744e1ab4657']}}\n",
      "2022-03-11 18:46:46,495 fedbiomed DEBUG - researcher_3e4bd748-2b26-476a-9a88-05eb9d56df50\n",
      "2022-03-11 18:46:46,505 fedbiomed INFO - log from: node_5d59b59e-b156-495e-9423-c6a6fb9d5d42 / DEBUG - Message received: {'researcher_id': 'researcher_3e4bd748-2b26-476a-9a88-05eb9d56df50', 'job_id': '7b4256e3-e0e0-4a4c-93f8-ee82fc92bdbc', 'training_args': {'batch_size': 48, 'lr': 0.001, 'fedprox_mu': 0.01, 'epochs': 1, 'dry_run': False, 'batch_maxnum': 100}, 'model_args': {'DP': {'clip_threshold': 1.0, 'epsilon': 14.697571214656923, 'sigma': 1.6666666666666667e-06}}, 'command': 'train', 'model_url': 'http://localhost:8844/media/uploads/2022/03/11/my_model_53b200ff-c46a-420c-9745-c83721de68d9.py', 'params_url': 'http://localhost:8844/media/uploads/2022/03/11/aggregated_params_fe637d2d-05b6-47ee-9c02-72d92fcaf9bd.pt', 'model_class': 'MyTrainingPlan', 'training_data': {'node_5d59b59e-b156-495e-9423-c6a6fb9d5d42': ['dataset_f2f1f2f2-ba6a-452d-bb03-b744e1ab4657']}}\n",
      "2022-03-11 18:46:46,506 fedbiomed INFO - log from: node_5d59b59e-b156-495e-9423-c6a6fb9d5d42 / DEBUG - [TASKS QUEUE] Item:{'researcher_id': 'researcher_3e4bd748-2b26-476a-9a88-05eb9d56df50', 'job_id': '7b4256e3-e0e0-4a4c-93f8-ee82fc92bdbc', 'params_url': 'http://localhost:8844/media/uploads/2022/03/11/aggregated_params_fe637d2d-05b6-47ee-9c02-72d92fcaf9bd.pt', 'training_args': {'batch_size': 48, 'lr': 0.001, 'fedprox_mu': 0.01, 'epochs': 1, 'dry_run': False, 'batch_maxnum': 100}, 'training_data': {'node_5d59b59e-b156-495e-9423-c6a6fb9d5d42': ['dataset_f2f1f2f2-ba6a-452d-bb03-b744e1ab4657']}, 'model_args': {'DP': {'clip_threshold': 1.0, 'epsilon': 14.697571214656923, 'sigma': 1.6666666666666667e-06}}, 'model_url': 'http://localhost:8844/media/uploads/2022/03/11/my_model_53b200ff-c46a-420c-9745-c83721de68d9.py', 'model_class': 'MyTrainingPlan', 'command': 'train'}\n",
      "2022-03-11 18:46:46,519 fedbiomed INFO - log from: node_5d59b59e-b156-495e-9423-c6a6fb9d5d42 / DEBUG - upload (HTTP GET request) of file my_model_cd7d659c0ab04b879235f1c5457d7e02.py successful, with status code 200\n",
      "2022-03-11 18:46:46,657 fedbiomed INFO - log from: node_5d59b59e-b156-495e-9423-c6a6fb9d5d42 / DEBUG - upload (HTTP GET request) of file my_model_04ba462c-eb4d-444b-a58e-45e3f365ce0b.pt successful, with status code 200\n",
      "2022-03-11 18:46:46,678 fedbiomed INFO - log from: node_5d59b59e-b156-495e-9423-c6a6fb9d5d42 / INFO - training with arguments {'monitor': <fedbiomed.node.history_monitor.HistoryMonitor object at 0x13507bbe0>, 'node_args': {'gpu': False, 'gpu_num': None, 'gpu_only': False}, 'batch_size': 48, 'lr': 0.001, 'fedprox_mu': 0.01, 'epochs': 1, 'dry_run': False, 'batch_maxnum': 100}\n",
      "2022-03-11 18:46:46,680 fedbiomed INFO - log from: node_5d59b59e-b156-495e-9423-c6a6fb9d5d42 / DEBUG - Dataset path has been set as/Users/mlorenzi/works/temp/MNIST\n",
      "2022-03-11 18:46:46,680 fedbiomed INFO - log from: node_5d59b59e-b156-495e-9423-c6a6fb9d5d42 / DEBUG - Using device cpu for training (cuda_available=False, gpu=False, gpu_only=False, use_gpu=False, gpu_num=None)\n",
      "2022-03-11 18:46:46,781 fedbiomed INFO - log from: node_5d59b59e-b156-495e-9423-c6a6fb9d5d42 / INFO - Train Epoch: 1 [0/60000 (0%)]\tLoss: 1.245415\n",
      "2022-03-11 18:46:47,535 fedbiomed INFO - log from: node_5d59b59e-b156-495e-9423-c6a6fb9d5d42 / INFO - Train Epoch: 1 [480/60000 (1%)]\tLoss: 0.784413\n",
      "2022-03-11 18:46:48,302 fedbiomed INFO - log from: node_5d59b59e-b156-495e-9423-c6a6fb9d5d42 / INFO - Train Epoch: 1 [960/60000 (2%)]\tLoss: 0.449152\n",
      "2022-03-11 18:46:49,056 fedbiomed INFO - log from: node_5d59b59e-b156-495e-9423-c6a6fb9d5d42 / INFO - Train Epoch: 1 [1440/60000 (2%)]\tLoss: 0.435360\n",
      "2022-03-11 18:46:49,814 fedbiomed INFO - log from: node_5d59b59e-b156-495e-9423-c6a6fb9d5d42 / INFO - Train Epoch: 1 [1920/60000 (3%)]\tLoss: 0.532875\n",
      "2022-03-11 18:46:50,569 fedbiomed INFO - log from: node_5d59b59e-b156-495e-9423-c6a6fb9d5d42 / INFO - Train Epoch: 1 [2400/60000 (4%)]\tLoss: 0.481690\n",
      "2022-03-11 18:46:51,324 fedbiomed INFO - log from: node_5d59b59e-b156-495e-9423-c6a6fb9d5d42 / INFO - Train Epoch: 1 [2880/60000 (5%)]\tLoss: 0.414007\n"
     ]
    },
    {
     "name": "stderr",
     "output_type": "stream",
     "text": [
      "2022-03-11 18:46:52,083 fedbiomed INFO - log from: node_5d59b59e-b156-495e-9423-c6a6fb9d5d42 / INFO - Train Epoch: 1 [3360/60000 (6%)]\tLoss: 0.548930\n",
      "2022-03-11 18:46:52,839 fedbiomed INFO - log from: node_5d59b59e-b156-495e-9423-c6a6fb9d5d42 / INFO - Train Epoch: 1 [3840/60000 (6%)]\tLoss: 0.474770\n",
      "2022-03-11 18:46:53,590 fedbiomed INFO - log from: node_5d59b59e-b156-495e-9423-c6a6fb9d5d42 / INFO - Train Epoch: 1 [4320/60000 (7%)]\tLoss: 0.641961\n",
      "2022-03-11 18:46:54,351 fedbiomed INFO - log from: node_5d59b59e-b156-495e-9423-c6a6fb9d5d42 / DEBUG - Reached 100 batches for this epoch, ignore remaining data\n",
      "2022-03-11 18:46:54,352 fedbiomed INFO - log from: node_5d59b59e-b156-495e-9423-c6a6fb9d5d42 / DEBUG - running model.postprocess() method\n",
      "2022-03-11 18:46:54,750 fedbiomed INFO - log from: node_5d59b59e-b156-495e-9423-c6a6fb9d5d42 / DEBUG - upload (HTTP POST request) of file /Users/mlorenzi/works/temp/fedbiomed/var/tmp/node_params_6fd9c132-4e0d-4d69-97fe-51396fc35334.pt successful, with status code 201\n",
      "2022-03-11 18:46:54,751 fedbiomed INFO - log from: node_5d59b59e-b156-495e-9423-c6a6fb9d5d42 / INFO - results uploaded successfully \n",
      "2022-03-11 18:47:01,507 fedbiomed INFO - Downloading model params after training on node_5d59b59e-b156-495e-9423-c6a6fb9d5d42 - from http://localhost:8844/media/uploads/2022/03/11/node_params_6fd9c132-4e0d-4d69-97fe-51396fc35334.pt\n",
      "2022-03-11 18:47:01,636 fedbiomed DEBUG - upload (HTTP GET request) of file node_params_001e2f44-05db-4865-9aa5-9c08e03d5f16.pt successful, with status code 200\n",
      "2022-03-11 18:47:01,648 fedbiomed INFO - Nodes that successfully reply in round 4 ['node_5d59b59e-b156-495e-9423-c6a6fb9d5d42']\n",
      "2022-03-11 18:47:02,029 fedbiomed DEBUG - upload (HTTP POST request) of file /Users/mlorenzi/works/temp/fedbiomed/var/experiments/Experiment_0006/aggregated_params_312fbbd1-3c11-46b3-9016-0c7d22c0cd69.pt successful, with status code 201\n",
      "2022-03-11 18:47:02,030 fedbiomed INFO - Saved aggregated params for round 4 in /Users/mlorenzi/works/temp/fedbiomed/var/experiments/Experiment_0006/aggregated_params_312fbbd1-3c11-46b3-9016-0c7d22c0cd69.pt\n",
      "2022-03-11 18:47:02,031 fedbiomed INFO - Sampled nodes in round 5 ['node_5d59b59e-b156-495e-9423-c6a6fb9d5d42']\n",
      "2022-03-11 18:47:02,032 fedbiomed INFO - Send message to node node_5d59b59e-b156-495e-9423-c6a6fb9d5d42 - {'researcher_id': 'researcher_3e4bd748-2b26-476a-9a88-05eb9d56df50', 'job_id': '7b4256e3-e0e0-4a4c-93f8-ee82fc92bdbc', 'training_args': {'batch_size': 48, 'lr': 0.001, 'fedprox_mu': 0.01, 'epochs': 1, 'dry_run': False, 'batch_maxnum': 100}, 'model_args': {'DP': {'clip_threshold': 1.0, 'epsilon': 14.697571214656923, 'sigma': 1.6666666666666667e-06}}, 'command': 'train', 'model_url': 'http://localhost:8844/media/uploads/2022/03/11/my_model_53b200ff-c46a-420c-9745-c83721de68d9.py', 'params_url': 'http://localhost:8844/media/uploads/2022/03/11/aggregated_params_312fbbd1-3c11-46b3-9016-0c7d22c0cd69.pt', 'model_class': 'MyTrainingPlan', 'training_data': {'node_5d59b59e-b156-495e-9423-c6a6fb9d5d42': ['dataset_f2f1f2f2-ba6a-452d-bb03-b744e1ab4657']}}\n",
      "2022-03-11 18:47:02,033 fedbiomed DEBUG - researcher_3e4bd748-2b26-476a-9a88-05eb9d56df50\n",
      "2022-03-11 18:47:02,040 fedbiomed INFO - log from: node_5d59b59e-b156-495e-9423-c6a6fb9d5d42 / DEBUG - Message received: {'researcher_id': 'researcher_3e4bd748-2b26-476a-9a88-05eb9d56df50', 'job_id': '7b4256e3-e0e0-4a4c-93f8-ee82fc92bdbc', 'training_args': {'batch_size': 48, 'lr': 0.001, 'fedprox_mu': 0.01, 'epochs': 1, 'dry_run': False, 'batch_maxnum': 100}, 'model_args': {'DP': {'clip_threshold': 1.0, 'epsilon': 14.697571214656923, 'sigma': 1.6666666666666667e-06}}, 'command': 'train', 'model_url': 'http://localhost:8844/media/uploads/2022/03/11/my_model_53b200ff-c46a-420c-9745-c83721de68d9.py', 'params_url': 'http://localhost:8844/media/uploads/2022/03/11/aggregated_params_312fbbd1-3c11-46b3-9016-0c7d22c0cd69.pt', 'model_class': 'MyTrainingPlan', 'training_data': {'node_5d59b59e-b156-495e-9423-c6a6fb9d5d42': ['dataset_f2f1f2f2-ba6a-452d-bb03-b744e1ab4657']}}\n",
      "2022-03-11 18:47:02,042 fedbiomed INFO - log from: node_5d59b59e-b156-495e-9423-c6a6fb9d5d42 / DEBUG - [TASKS QUEUE] Item:{'researcher_id': 'researcher_3e4bd748-2b26-476a-9a88-05eb9d56df50', 'job_id': '7b4256e3-e0e0-4a4c-93f8-ee82fc92bdbc', 'params_url': 'http://localhost:8844/media/uploads/2022/03/11/aggregated_params_312fbbd1-3c11-46b3-9016-0c7d22c0cd69.pt', 'training_args': {'batch_size': 48, 'lr': 0.001, 'fedprox_mu': 0.01, 'epochs': 1, 'dry_run': False, 'batch_maxnum': 100}, 'training_data': {'node_5d59b59e-b156-495e-9423-c6a6fb9d5d42': ['dataset_f2f1f2f2-ba6a-452d-bb03-b744e1ab4657']}, 'model_args': {'DP': {'clip_threshold': 1.0, 'epsilon': 14.697571214656923, 'sigma': 1.6666666666666667e-06}}, 'model_url': 'http://localhost:8844/media/uploads/2022/03/11/my_model_53b200ff-c46a-420c-9745-c83721de68d9.py', 'model_class': 'MyTrainingPlan', 'command': 'train'}\n",
      "2022-03-11 18:47:02,055 fedbiomed INFO - log from: node_5d59b59e-b156-495e-9423-c6a6fb9d5d42 / DEBUG - upload (HTTP GET request) of file my_model_5103dab61ac74644bd7d9002944420d0.py successful, with status code 200\n",
      "2022-03-11 18:47:02,182 fedbiomed INFO - log from: node_5d59b59e-b156-495e-9423-c6a6fb9d5d42 / DEBUG - upload (HTTP GET request) of file my_model_db1f858a-ef22-4850-b548-48db0f4ba9fe.pt successful, with status code 200\n",
      "2022-03-11 18:47:02,205 fedbiomed INFO - log from: node_5d59b59e-b156-495e-9423-c6a6fb9d5d42 / INFO - training with arguments {'monitor': <fedbiomed.node.history_monitor.HistoryMonitor object at 0x143f03640>, 'node_args': {'gpu': False, 'gpu_num': None, 'gpu_only': False}, 'batch_size': 48, 'lr': 0.001, 'fedprox_mu': 0.01, 'epochs': 1, 'dry_run': False, 'batch_maxnum': 100}\n",
      "2022-03-11 18:47:02,206 fedbiomed INFO - log from: node_5d59b59e-b156-495e-9423-c6a6fb9d5d42 / DEBUG - Dataset path has been set as/Users/mlorenzi/works/temp/MNIST\n",
      "2022-03-11 18:47:02,207 fedbiomed INFO - log from: node_5d59b59e-b156-495e-9423-c6a6fb9d5d42 / DEBUG - Using device cpu for training (cuda_available=False, gpu=False, gpu_only=False, use_gpu=False, gpu_num=None)\n",
      "2022-03-11 18:47:02,314 fedbiomed INFO - log from: node_5d59b59e-b156-495e-9423-c6a6fb9d5d42 / INFO - Train Epoch: 1 [0/60000 (0%)]\tLoss: 0.942680\n",
      "2022-03-11 18:47:03,074 fedbiomed INFO - log from: node_5d59b59e-b156-495e-9423-c6a6fb9d5d42 / INFO - Train Epoch: 1 [480/60000 (1%)]\tLoss: 0.332722\n",
      "2022-03-11 18:47:03,833 fedbiomed INFO - log from: node_5d59b59e-b156-495e-9423-c6a6fb9d5d42 / INFO - Train Epoch: 1 [960/60000 (2%)]\tLoss: 0.454323\n",
      "2022-03-11 18:47:04,586 fedbiomed INFO - log from: node_5d59b59e-b156-495e-9423-c6a6fb9d5d42 / INFO - Train Epoch: 1 [1440/60000 (2%)]\tLoss: 0.380054\n",
      "2022-03-11 18:47:05,333 fedbiomed INFO - log from: node_5d59b59e-b156-495e-9423-c6a6fb9d5d42 / INFO - Train Epoch: 1 [1920/60000 (3%)]\tLoss: 0.478115\n",
      "2022-03-11 18:47:06,085 fedbiomed INFO - log from: node_5d59b59e-b156-495e-9423-c6a6fb9d5d42 / INFO - Train Epoch: 1 [2400/60000 (4%)]\tLoss: 0.555663\n",
      "2022-03-11 18:47:06,834 fedbiomed INFO - log from: node_5d59b59e-b156-495e-9423-c6a6fb9d5d42 / INFO - Train Epoch: 1 [2880/60000 (5%)]\tLoss: 0.425141\n",
      "2022-03-11 18:47:07,584 fedbiomed INFO - log from: node_5d59b59e-b156-495e-9423-c6a6fb9d5d42 / INFO - Train Epoch: 1 [3360/60000 (6%)]\tLoss: 0.482372\n",
      "2022-03-11 18:47:08,340 fedbiomed INFO - log from: node_5d59b59e-b156-495e-9423-c6a6fb9d5d42 / INFO - Train Epoch: 1 [3840/60000 (6%)]\tLoss: 0.533358\n",
      "2022-03-11 18:47:09,092 fedbiomed INFO - log from: node_5d59b59e-b156-495e-9423-c6a6fb9d5d42 / INFO - Train Epoch: 1 [4320/60000 (7%)]\tLoss: 0.468808\n",
      "2022-03-11 18:47:09,842 fedbiomed INFO - log from: node_5d59b59e-b156-495e-9423-c6a6fb9d5d42 / DEBUG - Reached 100 batches for this epoch, ignore remaining data\n",
      "2022-03-11 18:47:09,842 fedbiomed INFO - log from: node_5d59b59e-b156-495e-9423-c6a6fb9d5d42 / DEBUG - running model.postprocess() method\n",
      "2022-03-11 18:47:10,235 fedbiomed INFO - log from: node_5d59b59e-b156-495e-9423-c6a6fb9d5d42 / DEBUG - upload (HTTP POST request) of file /Users/mlorenzi/works/temp/fedbiomed/var/tmp/node_params_0625d1cb-b515-4414-b234-017549002fe2.pt successful, with status code 201\n",
      "2022-03-11 18:47:10,237 fedbiomed INFO - log from: node_5d59b59e-b156-495e-9423-c6a6fb9d5d42 / INFO - results uploaded successfully \n"
     ]
    },
    {
     "name": "stderr",
     "output_type": "stream",
     "text": [
      "2022-03-11 18:47:17,048 fedbiomed INFO - Downloading model params after training on node_5d59b59e-b156-495e-9423-c6a6fb9d5d42 - from http://localhost:8844/media/uploads/2022/03/11/node_params_0625d1cb-b515-4414-b234-017549002fe2.pt\n",
      "2022-03-11 18:47:17,177 fedbiomed DEBUG - upload (HTTP GET request) of file node_params_b03bdb55-79cd-46ac-8761-d786d6b12bd0.pt successful, with status code 200\n",
      "2022-03-11 18:47:17,188 fedbiomed INFO - Nodes that successfully reply in round 5 ['node_5d59b59e-b156-495e-9423-c6a6fb9d5d42']\n",
      "2022-03-11 18:47:17,566 fedbiomed DEBUG - upload (HTTP POST request) of file /Users/mlorenzi/works/temp/fedbiomed/var/experiments/Experiment_0006/aggregated_params_62c362b1-6ba8-4e77-baf3-7131df64ef46.pt successful, with status code 201\n",
      "2022-03-11 18:47:17,567 fedbiomed INFO - Saved aggregated params for round 5 in /Users/mlorenzi/works/temp/fedbiomed/var/experiments/Experiment_0006/aggregated_params_62c362b1-6ba8-4e77-baf3-7131df64ef46.pt\n"
     ]
    },
    {
     "data": {
      "text/plain": [
       "6"
      ]
     },
     "execution_count": 10,
     "metadata": {},
     "output_type": "execute_result"
    }
   ],
   "source": [
    "exp.run()"
   ]
  },
  {
   "cell_type": "markdown",
   "metadata": {},
   "source": [
    "## Model trained without RDP-FL "
   ]
  },
  {
   "cell_type": "code",
   "execution_count": 21,
   "metadata": {},
   "outputs": [],
   "source": [
    "import torch\n",
    "import torch.nn as nn\n",
    "from fedbiomed.common.training_plans import TorchTrainingPlan\n",
    "from torch.utils.data import DataLoader\n",
    "from torchvision import datasets, transforms\n",
    "from math import sqrt, log\n",
    "\n",
    "# Here we define the model to be used. \n",
    "# You can use any class name (here 'Net')\n",
    "class MyTrainingPlan_noRDP(TorchTrainingPlan):\n",
    "    def __init__(self, model_args: dict = {}):\n",
    "        super(MyTrainingPlan_noRDP, self).__init__(model_args)\n",
    "        self.conv1 = nn.Conv2d(1, 32, 3, 1)\n",
    "        self.conv2 = nn.Conv2d(32, 64, 3, 1)\n",
    "        self.dropout1 = nn.Dropout(0.25)\n",
    "        self.dropout2 = nn.Dropout(0.5)\n",
    "        self.fc1 = nn.Linear(9216, 128)\n",
    "        self.fc2 = nn.Linear(128, 10)\n",
    "        \n",
    "        \n",
    "        # Here we define the custom dependencies that will be needed by our custom Dataloader\n",
    "        # In this case, we need the torch DataLoader classes\n",
    "        # Since we will train on MNIST, we need datasets and transform from torchvision\n",
    "        deps = [\"from torchvision import datasets, transforms\",\n",
    "               \"from torch.utils.data import DataLoader\",\n",
    "               \"import torch\",\n",
    "               \"from math import sqrt, log\"]\n",
    "        self.add_dependency(deps)\n",
    "\n",
    "    def forward(self, x):\n",
    "        x = self.conv1(x)\n",
    "        x = F.relu(x)\n",
    "        x = self.conv2(x)\n",
    "        x = F.relu(x)\n",
    "        x = F.max_pool2d(x, 2)\n",
    "        x = self.dropout1(x)\n",
    "        x = torch.flatten(x, 1)\n",
    "        x = self.fc1(x)\n",
    "        x = F.relu(x)\n",
    "        x = self.dropout2(x)\n",
    "        x = self.fc2(x)      \n",
    "        \n",
    "        output = F.log_softmax(x, dim=1)\n",
    "        return output\n",
    "\n",
    "    def training_data(self, batch_size = 48):\n",
    "        # Custom torch Dataloader for MNIST data\n",
    "        transform = transforms.Compose([transforms.ToTensor(),\n",
    "        transforms.Normalize((0.1307,), (0.3081,))])\n",
    "        dataset1 = datasets.MNIST(self.dataset_path, train=True, download=False, transform=transform)\n",
    "        train_kwargs = {'batch_size': batch_size, 'shuffle': True}\n",
    "        data_loader = torch.utils.data.DataLoader(dataset1, **train_kwargs)\n",
    "        return data_loader\n",
    "    \n",
    "    def training_step(self, data, target):\n",
    "        output = self.forward(data)\n",
    "        loss   = torch.nn.functional.nll_loss(output, target)\n",
    "        return loss"
   ]
  },
  {
   "cell_type": "code",
   "execution_count": 22,
   "metadata": {},
   "outputs": [],
   "source": [
    "training_args = {\n",
    "    'batch_size': 48, \n",
    "    'lr': 1e-3, \n",
    "    'fedprox_mu': 0.01, \n",
    "    'epochs': 1, \n",
    "    'dry_run': False,  \n",
    "    'batch_maxnum': 100 # Fast pass for development : only use ( batch_maxnum * batch_size ) samples\n",
    "}"
   ]
  },
  {
   "cell_type": "code",
   "execution_count": 23,
   "metadata": {},
   "outputs": [
    {
     "name": "stderr",
     "output_type": "stream",
     "text": [
      "2022-03-11 18:53:56,873 fedbiomed INFO - Searching dataset with data tags: ['#MNIST', '#dataset'] for all nodes\n",
      "2022-03-11 18:53:56,879 fedbiomed INFO - log from: node_5d59b59e-b156-495e-9423-c6a6fb9d5d42 / DEBUG - Message received: {'researcher_id': 'researcher_3e4bd748-2b26-476a-9a88-05eb9d56df50', 'tags': ['#MNIST', '#dataset'], 'command': 'search'}\n",
      "2022-03-11 18:54:06,879 fedbiomed INFO - Node selected for training -> node_5d59b59e-b156-495e-9423-c6a6fb9d5d42\n",
      "2022-03-11 18:54:06,892 fedbiomed DEBUG - Model file has been saved: /Users/mlorenzi/works/temp/fedbiomed/var/experiments/Experiment_0010/my_model_50107e39-4abb-426e-80fe-b38cbe87613f.py\n",
      "2022-03-11 18:54:06,944 fedbiomed DEBUG - upload (HTTP POST request) of file /Users/mlorenzi/works/temp/fedbiomed/var/experiments/Experiment_0010/my_model_50107e39-4abb-426e-80fe-b38cbe87613f.py successful, with status code 201\n",
      "2022-03-11 18:54:07,317 fedbiomed DEBUG - upload (HTTP POST request) of file /Users/mlorenzi/works/temp/fedbiomed/var/experiments/Experiment_0010/aggregated_params_init_e3bb9aa3-d706-4119-a0f5-fee845f35636.pt successful, with status code 201\n"
     ]
    }
   ],
   "source": [
    "tags =  ['#MNIST', '#dataset']\n",
    "\n",
    "\n",
    "exp = Experiment(tags=tags,\n",
    "                 #nodes=None,\n",
    "#                 model_args=model_args,\n",
    "                 model_class=MyTrainingPlan_noRDP,\n",
    "                 training_args=training_args,\n",
    "                 round_limit=FL_rounds,\n",
    "                 aggregator=FedAverage(),\n",
    "                 node_selection_strategy=None)\n"
   ]
  },
  {
   "cell_type": "code",
   "execution_count": 24,
   "metadata": {},
   "outputs": [
    {
     "name": "stderr",
     "output_type": "stream",
     "text": [
      "2022-03-11 18:54:17,041 fedbiomed INFO - Sampled nodes in round 0 ['node_5d59b59e-b156-495e-9423-c6a6fb9d5d42']\n",
      "2022-03-11 18:54:17,042 fedbiomed INFO - Send message to node node_5d59b59e-b156-495e-9423-c6a6fb9d5d42 - {'researcher_id': 'researcher_3e4bd748-2b26-476a-9a88-05eb9d56df50', 'job_id': '6a0de441-6c3f-44fa-9aab-fd12ace8c506', 'training_args': {'batch_size': 48, 'lr': 0.001, 'fedprox_mu': 0.01, 'epochs': 1, 'dry_run': False, 'batch_maxnum': 100}, 'model_args': {}, 'command': 'train', 'model_url': 'http://localhost:8844/media/uploads/2022/03/11/my_model_50107e39-4abb-426e-80fe-b38cbe87613f.py', 'params_url': 'http://localhost:8844/media/uploads/2022/03/11/aggregated_params_init_e3bb9aa3-d706-4119-a0f5-fee845f35636.pt', 'model_class': 'MyTrainingPlan_noRDP', 'training_data': {'node_5d59b59e-b156-495e-9423-c6a6fb9d5d42': ['dataset_f2f1f2f2-ba6a-452d-bb03-b744e1ab4657']}}\n",
      "2022-03-11 18:54:17,043 fedbiomed DEBUG - researcher_3e4bd748-2b26-476a-9a88-05eb9d56df50\n",
      "2022-03-11 18:54:17,057 fedbiomed INFO - log from: node_5d59b59e-b156-495e-9423-c6a6fb9d5d42 / DEBUG - Message received: {'researcher_id': 'researcher_3e4bd748-2b26-476a-9a88-05eb9d56df50', 'job_id': '6a0de441-6c3f-44fa-9aab-fd12ace8c506', 'training_args': {'batch_size': 48, 'lr': 0.001, 'fedprox_mu': 0.01, 'epochs': 1, 'dry_run': False, 'batch_maxnum': 100}, 'model_args': {}, 'command': 'train', 'model_url': 'http://localhost:8844/media/uploads/2022/03/11/my_model_50107e39-4abb-426e-80fe-b38cbe87613f.py', 'params_url': 'http://localhost:8844/media/uploads/2022/03/11/aggregated_params_init_e3bb9aa3-d706-4119-a0f5-fee845f35636.pt', 'model_class': 'MyTrainingPlan_noRDP', 'training_data': {'node_5d59b59e-b156-495e-9423-c6a6fb9d5d42': ['dataset_f2f1f2f2-ba6a-452d-bb03-b744e1ab4657']}}\n",
      "2022-03-11 18:54:17,058 fedbiomed INFO - log from: node_5d59b59e-b156-495e-9423-c6a6fb9d5d42 / DEBUG - [TASKS QUEUE] Item:{'researcher_id': 'researcher_3e4bd748-2b26-476a-9a88-05eb9d56df50', 'job_id': '6a0de441-6c3f-44fa-9aab-fd12ace8c506', 'params_url': 'http://localhost:8844/media/uploads/2022/03/11/aggregated_params_init_e3bb9aa3-d706-4119-a0f5-fee845f35636.pt', 'training_args': {'batch_size': 48, 'lr': 0.001, 'fedprox_mu': 0.01, 'epochs': 1, 'dry_run': False, 'batch_maxnum': 100}, 'training_data': {'node_5d59b59e-b156-495e-9423-c6a6fb9d5d42': ['dataset_f2f1f2f2-ba6a-452d-bb03-b744e1ab4657']}, 'model_args': {}, 'model_url': 'http://localhost:8844/media/uploads/2022/03/11/my_model_50107e39-4abb-426e-80fe-b38cbe87613f.py', 'model_class': 'MyTrainingPlan_noRDP', 'command': 'train'}\n",
      "2022-03-11 18:54:17,071 fedbiomed INFO - log from: node_5d59b59e-b156-495e-9423-c6a6fb9d5d42 / DEBUG - upload (HTTP GET request) of file my_model_7403a7e2c7ca4f9f93e6ed89b2376216.py successful, with status code 200\n",
      "2022-03-11 18:54:17,205 fedbiomed INFO - log from: node_5d59b59e-b156-495e-9423-c6a6fb9d5d42 / DEBUG - upload (HTTP GET request) of file my_model_9cdf2c2e-fd86-4de4-b2ba-845608023031.pt successful, with status code 200\n",
      "2022-03-11 18:54:17,224 fedbiomed INFO - log from: node_5d59b59e-b156-495e-9423-c6a6fb9d5d42 / INFO - training with arguments {'monitor': <fedbiomed.node.history_monitor.HistoryMonitor object at 0x13507bbe0>, 'node_args': {'gpu': False, 'gpu_num': None, 'gpu_only': False}, 'batch_size': 48, 'lr': 0.001, 'fedprox_mu': 0.01, 'epochs': 1, 'dry_run': False, 'batch_maxnum': 100}\n",
      "2022-03-11 18:54:17,225 fedbiomed INFO - log from: node_5d59b59e-b156-495e-9423-c6a6fb9d5d42 / DEBUG - Dataset path has been set as/Users/mlorenzi/works/temp/MNIST\n",
      "2022-03-11 18:54:17,226 fedbiomed INFO - log from: node_5d59b59e-b156-495e-9423-c6a6fb9d5d42 / DEBUG - Using device cpu for training (cuda_available=False, gpu=False, gpu_only=False, use_gpu=False, gpu_num=None)\n",
      "2022-03-11 18:54:17,334 fedbiomed INFO - log from: node_5d59b59e-b156-495e-9423-c6a6fb9d5d42 / INFO - Train Epoch: 1 [0/60000 (0%)]\tLoss: 2.289562\n",
      "2022-03-11 18:54:18,119 fedbiomed INFO - log from: node_5d59b59e-b156-495e-9423-c6a6fb9d5d42 / INFO - Train Epoch: 1 [480/60000 (1%)]\tLoss: 1.224025\n",
      "2022-03-11 18:54:18,928 fedbiomed INFO - log from: node_5d59b59e-b156-495e-9423-c6a6fb9d5d42 / INFO - Train Epoch: 1 [960/60000 (2%)]\tLoss: 1.317837\n",
      "2022-03-11 18:54:19,679 fedbiomed INFO - log from: node_5d59b59e-b156-495e-9423-c6a6fb9d5d42 / INFO - Train Epoch: 1 [1440/60000 (2%)]\tLoss: 0.938357\n",
      "2022-03-11 18:54:20,430 fedbiomed INFO - log from: node_5d59b59e-b156-495e-9423-c6a6fb9d5d42 / INFO - Train Epoch: 1 [1920/60000 (3%)]\tLoss: 0.785400\n",
      "2022-03-11 18:54:21,180 fedbiomed INFO - log from: node_5d59b59e-b156-495e-9423-c6a6fb9d5d42 / INFO - Train Epoch: 1 [2400/60000 (4%)]\tLoss: 0.966165\n",
      "2022-03-11 18:54:21,928 fedbiomed INFO - log from: node_5d59b59e-b156-495e-9423-c6a6fb9d5d42 / INFO - Train Epoch: 1 [2880/60000 (5%)]\tLoss: 0.540257\n",
      "2022-03-11 18:54:22,677 fedbiomed INFO - log from: node_5d59b59e-b156-495e-9423-c6a6fb9d5d42 / INFO - Train Epoch: 1 [3360/60000 (6%)]\tLoss: 0.625741\n",
      "2022-03-11 18:54:23,486 fedbiomed INFO - log from: node_5d59b59e-b156-495e-9423-c6a6fb9d5d42 / INFO - Train Epoch: 1 [3840/60000 (6%)]\tLoss: 0.828127\n",
      "2022-03-11 18:54:24,252 fedbiomed INFO - log from: node_5d59b59e-b156-495e-9423-c6a6fb9d5d42 / INFO - Train Epoch: 1 [4320/60000 (7%)]\tLoss: 0.873950\n",
      "2022-03-11 18:54:25,009 fedbiomed INFO - log from: node_5d59b59e-b156-495e-9423-c6a6fb9d5d42 / DEBUG - Reached 100 batches for this epoch, ignore remaining data\n",
      "2022-03-11 18:54:25,010 fedbiomed INFO - log from: node_5d59b59e-b156-495e-9423-c6a6fb9d5d42 / DEBUG - running model.postprocess() method\n",
      "2022-03-11 18:54:25,011 fedbiomed INFO - log from: node_5d59b59e-b156-495e-9423-c6a6fb9d5d42 / DEBUG - model.postprocess() method not provided\n",
      "2022-03-11 18:54:25,388 fedbiomed INFO - log from: node_5d59b59e-b156-495e-9423-c6a6fb9d5d42 / DEBUG - upload (HTTP POST request) of file /Users/mlorenzi/works/temp/fedbiomed/var/tmp/node_params_450d7c34-10c8-4be9-90f1-06442496fa3c.pt successful, with status code 201\n",
      "2022-03-11 18:54:25,389 fedbiomed INFO - log from: node_5d59b59e-b156-495e-9423-c6a6fb9d5d42 / INFO - results uploaded successfully \n",
      "2022-03-11 18:54:32,054 fedbiomed INFO - Downloading model params after training on node_5d59b59e-b156-495e-9423-c6a6fb9d5d42 - from http://localhost:8844/media/uploads/2022/03/11/node_params_450d7c34-10c8-4be9-90f1-06442496fa3c.pt\n",
      "2022-03-11 18:54:32,179 fedbiomed DEBUG - upload (HTTP GET request) of file node_params_01f6bc37-0250-459a-b609-bb3488d61a9f.pt successful, with status code 200\n",
      "2022-03-11 18:54:32,194 fedbiomed INFO - Nodes that successfully reply in round 0 ['node_5d59b59e-b156-495e-9423-c6a6fb9d5d42']\n",
      "2022-03-11 18:54:32,563 fedbiomed DEBUG - upload (HTTP POST request) of file /Users/mlorenzi/works/temp/fedbiomed/var/experiments/Experiment_0010/aggregated_params_ba1a42ee-c476-4b9b-809c-5291eefe0bca.pt successful, with status code 201\n",
      "2022-03-11 18:54:32,564 fedbiomed INFO - Saved aggregated params for round 0 in /Users/mlorenzi/works/temp/fedbiomed/var/experiments/Experiment_0010/aggregated_params_ba1a42ee-c476-4b9b-809c-5291eefe0bca.pt\n",
      "2022-03-11 18:54:32,565 fedbiomed INFO - Sampled nodes in round 1 ['node_5d59b59e-b156-495e-9423-c6a6fb9d5d42']\n",
      "2022-03-11 18:54:32,566 fedbiomed INFO - Send message to node node_5d59b59e-b156-495e-9423-c6a6fb9d5d42 - {'researcher_id': 'researcher_3e4bd748-2b26-476a-9a88-05eb9d56df50', 'job_id': '6a0de441-6c3f-44fa-9aab-fd12ace8c506', 'training_args': {'batch_size': 48, 'lr': 0.001, 'fedprox_mu': 0.01, 'epochs': 1, 'dry_run': False, 'batch_maxnum': 100}, 'model_args': {}, 'command': 'train', 'model_url': 'http://localhost:8844/media/uploads/2022/03/11/my_model_50107e39-4abb-426e-80fe-b38cbe87613f.py', 'params_url': 'http://localhost:8844/media/uploads/2022/03/11/aggregated_params_ba1a42ee-c476-4b9b-809c-5291eefe0bca.pt', 'model_class': 'MyTrainingPlan_noRDP', 'training_data': {'node_5d59b59e-b156-495e-9423-c6a6fb9d5d42': ['dataset_f2f1f2f2-ba6a-452d-bb03-b744e1ab4657']}}\n",
      "2022-03-11 18:54:32,566 fedbiomed DEBUG - researcher_3e4bd748-2b26-476a-9a88-05eb9d56df50\n",
      "2022-03-11 18:54:32,575 fedbiomed INFO - log from: node_5d59b59e-b156-495e-9423-c6a6fb9d5d42 / DEBUG - Message received: {'researcher_id': 'researcher_3e4bd748-2b26-476a-9a88-05eb9d56df50', 'job_id': '6a0de441-6c3f-44fa-9aab-fd12ace8c506', 'training_args': {'batch_size': 48, 'lr': 0.001, 'fedprox_mu': 0.01, 'epochs': 1, 'dry_run': False, 'batch_maxnum': 100}, 'model_args': {}, 'command': 'train', 'model_url': 'http://localhost:8844/media/uploads/2022/03/11/my_model_50107e39-4abb-426e-80fe-b38cbe87613f.py', 'params_url': 'http://localhost:8844/media/uploads/2022/03/11/aggregated_params_ba1a42ee-c476-4b9b-809c-5291eefe0bca.pt', 'model_class': 'MyTrainingPlan_noRDP', 'training_data': {'node_5d59b59e-b156-495e-9423-c6a6fb9d5d42': ['dataset_f2f1f2f2-ba6a-452d-bb03-b744e1ab4657']}}\n"
     ]
    },
    {
     "name": "stderr",
     "output_type": "stream",
     "text": [
      "2022-03-11 18:54:32,576 fedbiomed INFO - log from: node_5d59b59e-b156-495e-9423-c6a6fb9d5d42 / DEBUG - [TASKS QUEUE] Item:{'researcher_id': 'researcher_3e4bd748-2b26-476a-9a88-05eb9d56df50', 'job_id': '6a0de441-6c3f-44fa-9aab-fd12ace8c506', 'params_url': 'http://localhost:8844/media/uploads/2022/03/11/aggregated_params_ba1a42ee-c476-4b9b-809c-5291eefe0bca.pt', 'training_args': {'batch_size': 48, 'lr': 0.001, 'fedprox_mu': 0.01, 'epochs': 1, 'dry_run': False, 'batch_maxnum': 100}, 'training_data': {'node_5d59b59e-b156-495e-9423-c6a6fb9d5d42': ['dataset_f2f1f2f2-ba6a-452d-bb03-b744e1ab4657']}, 'model_args': {}, 'model_url': 'http://localhost:8844/media/uploads/2022/03/11/my_model_50107e39-4abb-426e-80fe-b38cbe87613f.py', 'model_class': 'MyTrainingPlan_noRDP', 'command': 'train'}\n",
      "2022-03-11 18:54:32,594 fedbiomed INFO - log from: node_5d59b59e-b156-495e-9423-c6a6fb9d5d42 / DEBUG - upload (HTTP GET request) of file my_model_21e3bb3660244a58b89e7d194f7e5399.py successful, with status code 200\n",
      "2022-03-11 18:54:32,728 fedbiomed INFO - log from: node_5d59b59e-b156-495e-9423-c6a6fb9d5d42 / DEBUG - upload (HTTP GET request) of file my_model_28549d91-12fe-43ef-843b-1bcaa919a970.pt successful, with status code 200\n",
      "2022-03-11 18:54:32,748 fedbiomed INFO - log from: node_5d59b59e-b156-495e-9423-c6a6fb9d5d42 / INFO - training with arguments {'monitor': <fedbiomed.node.history_monitor.HistoryMonitor object at 0x143f03640>, 'node_args': {'gpu': False, 'gpu_num': None, 'gpu_only': False}, 'batch_size': 48, 'lr': 0.001, 'fedprox_mu': 0.01, 'epochs': 1, 'dry_run': False, 'batch_maxnum': 100}\n",
      "2022-03-11 18:54:32,749 fedbiomed INFO - log from: node_5d59b59e-b156-495e-9423-c6a6fb9d5d42 / DEBUG - Dataset path has been set as/Users/mlorenzi/works/temp/MNIST\n",
      "2022-03-11 18:54:32,750 fedbiomed INFO - log from: node_5d59b59e-b156-495e-9423-c6a6fb9d5d42 / DEBUG - Using device cpu for training (cuda_available=False, gpu=False, gpu_only=False, use_gpu=False, gpu_num=None)\n",
      "2022-03-11 18:54:32,856 fedbiomed INFO - log from: node_5d59b59e-b156-495e-9423-c6a6fb9d5d42 / INFO - Train Epoch: 1 [0/60000 (0%)]\tLoss: 0.294123\n",
      "2022-03-11 18:54:33,618 fedbiomed INFO - log from: node_5d59b59e-b156-495e-9423-c6a6fb9d5d42 / INFO - Train Epoch: 1 [480/60000 (1%)]\tLoss: 0.223849\n",
      "2022-03-11 18:54:34,386 fedbiomed INFO - log from: node_5d59b59e-b156-495e-9423-c6a6fb9d5d42 / INFO - Train Epoch: 1 [960/60000 (2%)]\tLoss: 0.252237\n",
      "2022-03-11 18:54:35,139 fedbiomed INFO - log from: node_5d59b59e-b156-495e-9423-c6a6fb9d5d42 / INFO - Train Epoch: 1 [1440/60000 (2%)]\tLoss: 0.448600\n",
      "2022-03-11 18:54:35,900 fedbiomed INFO - log from: node_5d59b59e-b156-495e-9423-c6a6fb9d5d42 / INFO - Train Epoch: 1 [1920/60000 (3%)]\tLoss: 0.447403\n",
      "2022-03-11 18:54:36,713 fedbiomed INFO - log from: node_5d59b59e-b156-495e-9423-c6a6fb9d5d42 / INFO - Train Epoch: 1 [2400/60000 (4%)]\tLoss: 0.332648\n",
      "2022-03-11 18:54:37,507 fedbiomed INFO - log from: node_5d59b59e-b156-495e-9423-c6a6fb9d5d42 / INFO - Train Epoch: 1 [2880/60000 (5%)]\tLoss: 0.399335\n",
      "2022-03-11 18:54:38,303 fedbiomed INFO - log from: node_5d59b59e-b156-495e-9423-c6a6fb9d5d42 / INFO - Train Epoch: 1 [3360/60000 (6%)]\tLoss: 0.431235\n",
      "2022-03-11 18:54:39,055 fedbiomed INFO - log from: node_5d59b59e-b156-495e-9423-c6a6fb9d5d42 / INFO - Train Epoch: 1 [3840/60000 (6%)]\tLoss: 0.432435\n",
      "2022-03-11 18:54:39,814 fedbiomed INFO - log from: node_5d59b59e-b156-495e-9423-c6a6fb9d5d42 / INFO - Train Epoch: 1 [4320/60000 (7%)]\tLoss: 0.356510\n",
      "2022-03-11 18:54:40,640 fedbiomed INFO - log from: node_5d59b59e-b156-495e-9423-c6a6fb9d5d42 / DEBUG - Reached 100 batches for this epoch, ignore remaining data\n",
      "2022-03-11 18:54:40,642 fedbiomed INFO - log from: node_5d59b59e-b156-495e-9423-c6a6fb9d5d42 / DEBUG - running model.postprocess() method\n",
      "2022-03-11 18:54:40,644 fedbiomed INFO - log from: node_5d59b59e-b156-495e-9423-c6a6fb9d5d42 / DEBUG - model.postprocess() method not provided\n",
      "2022-03-11 18:54:41,062 fedbiomed INFO - log from: node_5d59b59e-b156-495e-9423-c6a6fb9d5d42 / DEBUG - upload (HTTP POST request) of file /Users/mlorenzi/works/temp/fedbiomed/var/tmp/node_params_3308f5b9-d004-48fc-b7e2-533d7662a906.pt successful, with status code 201\n",
      "2022-03-11 18:54:41,064 fedbiomed INFO - log from: node_5d59b59e-b156-495e-9423-c6a6fb9d5d42 / INFO - results uploaded successfully \n",
      "2022-03-11 18:54:47,576 fedbiomed INFO - Downloading model params after training on node_5d59b59e-b156-495e-9423-c6a6fb9d5d42 - from http://localhost:8844/media/uploads/2022/03/11/node_params_3308f5b9-d004-48fc-b7e2-533d7662a906.pt\n",
      "2022-03-11 18:54:47,699 fedbiomed DEBUG - upload (HTTP GET request) of file node_params_3b0d0f8f-9312-49c9-bc8a-2072d6ab98a0.pt successful, with status code 200\n",
      "2022-03-11 18:54:47,712 fedbiomed INFO - Nodes that successfully reply in round 1 ['node_5d59b59e-b156-495e-9423-c6a6fb9d5d42']\n",
      "2022-03-11 18:54:48,129 fedbiomed DEBUG - upload (HTTP POST request) of file /Users/mlorenzi/works/temp/fedbiomed/var/experiments/Experiment_0010/aggregated_params_2675f2ec-fd07-425a-b940-6f9344560b91.pt successful, with status code 201\n",
      "2022-03-11 18:54:48,130 fedbiomed INFO - Saved aggregated params for round 1 in /Users/mlorenzi/works/temp/fedbiomed/var/experiments/Experiment_0010/aggregated_params_2675f2ec-fd07-425a-b940-6f9344560b91.pt\n",
      "2022-03-11 18:54:48,130 fedbiomed INFO - Sampled nodes in round 2 ['node_5d59b59e-b156-495e-9423-c6a6fb9d5d42']\n",
      "2022-03-11 18:54:48,131 fedbiomed INFO - Send message to node node_5d59b59e-b156-495e-9423-c6a6fb9d5d42 - {'researcher_id': 'researcher_3e4bd748-2b26-476a-9a88-05eb9d56df50', 'job_id': '6a0de441-6c3f-44fa-9aab-fd12ace8c506', 'training_args': {'batch_size': 48, 'lr': 0.001, 'fedprox_mu': 0.01, 'epochs': 1, 'dry_run': False, 'batch_maxnum': 100}, 'model_args': {}, 'command': 'train', 'model_url': 'http://localhost:8844/media/uploads/2022/03/11/my_model_50107e39-4abb-426e-80fe-b38cbe87613f.py', 'params_url': 'http://localhost:8844/media/uploads/2022/03/11/aggregated_params_2675f2ec-fd07-425a-b940-6f9344560b91.pt', 'model_class': 'MyTrainingPlan_noRDP', 'training_data': {'node_5d59b59e-b156-495e-9423-c6a6fb9d5d42': ['dataset_f2f1f2f2-ba6a-452d-bb03-b744e1ab4657']}}\n",
      "2022-03-11 18:54:48,132 fedbiomed DEBUG - researcher_3e4bd748-2b26-476a-9a88-05eb9d56df50\n",
      "2022-03-11 18:54:48,143 fedbiomed INFO - log from: node_5d59b59e-b156-495e-9423-c6a6fb9d5d42 / DEBUG - Message received: {'researcher_id': 'researcher_3e4bd748-2b26-476a-9a88-05eb9d56df50', 'job_id': '6a0de441-6c3f-44fa-9aab-fd12ace8c506', 'training_args': {'batch_size': 48, 'lr': 0.001, 'fedprox_mu': 0.01, 'epochs': 1, 'dry_run': False, 'batch_maxnum': 100}, 'model_args': {}, 'command': 'train', 'model_url': 'http://localhost:8844/media/uploads/2022/03/11/my_model_50107e39-4abb-426e-80fe-b38cbe87613f.py', 'params_url': 'http://localhost:8844/media/uploads/2022/03/11/aggregated_params_2675f2ec-fd07-425a-b940-6f9344560b91.pt', 'model_class': 'MyTrainingPlan_noRDP', 'training_data': {'node_5d59b59e-b156-495e-9423-c6a6fb9d5d42': ['dataset_f2f1f2f2-ba6a-452d-bb03-b744e1ab4657']}}\n",
      "2022-03-11 18:54:48,145 fedbiomed INFO - log from: node_5d59b59e-b156-495e-9423-c6a6fb9d5d42 / DEBUG - [TASKS QUEUE] Item:{'researcher_id': 'researcher_3e4bd748-2b26-476a-9a88-05eb9d56df50', 'job_id': '6a0de441-6c3f-44fa-9aab-fd12ace8c506', 'params_url': 'http://localhost:8844/media/uploads/2022/03/11/aggregated_params_2675f2ec-fd07-425a-b940-6f9344560b91.pt', 'training_args': {'batch_size': 48, 'lr': 0.001, 'fedprox_mu': 0.01, 'epochs': 1, 'dry_run': False, 'batch_maxnum': 100}, 'training_data': {'node_5d59b59e-b156-495e-9423-c6a6fb9d5d42': ['dataset_f2f1f2f2-ba6a-452d-bb03-b744e1ab4657']}, 'model_args': {}, 'model_url': 'http://localhost:8844/media/uploads/2022/03/11/my_model_50107e39-4abb-426e-80fe-b38cbe87613f.py', 'model_class': 'MyTrainingPlan_noRDP', 'command': 'train'}\n",
      "2022-03-11 18:54:48,163 fedbiomed INFO - log from: node_5d59b59e-b156-495e-9423-c6a6fb9d5d42 / DEBUG - upload (HTTP GET request) of file my_model_af6ff9e18a424f589fa20f01d00b1b07.py successful, with status code 200\n",
      "2022-03-11 18:54:48,306 fedbiomed INFO - log from: node_5d59b59e-b156-495e-9423-c6a6fb9d5d42 / DEBUG - upload (HTTP GET request) of file my_model_b675d2b9-c6dc-4006-be8a-29df11d49ae6.pt successful, with status code 200\n"
     ]
    },
    {
     "name": "stderr",
     "output_type": "stream",
     "text": [
      "2022-03-11 18:54:48,328 fedbiomed INFO - log from: node_5d59b59e-b156-495e-9423-c6a6fb9d5d42 / INFO - training with arguments {'monitor': <fedbiomed.node.history_monitor.HistoryMonitor object at 0x143f032e0>, 'node_args': {'gpu': False, 'gpu_num': None, 'gpu_only': False}, 'batch_size': 48, 'lr': 0.001, 'fedprox_mu': 0.01, 'epochs': 1, 'dry_run': False, 'batch_maxnum': 100}\n",
      "2022-03-11 18:54:48,329 fedbiomed INFO - log from: node_5d59b59e-b156-495e-9423-c6a6fb9d5d42 / DEBUG - Dataset path has been set as/Users/mlorenzi/works/temp/MNIST\n",
      "2022-03-11 18:54:48,331 fedbiomed INFO - log from: node_5d59b59e-b156-495e-9423-c6a6fb9d5d42 / DEBUG - Using device cpu for training (cuda_available=False, gpu=False, gpu_only=False, use_gpu=False, gpu_num=None)\n",
      "2022-03-11 18:54:48,448 fedbiomed INFO - log from: node_5d59b59e-b156-495e-9423-c6a6fb9d5d42 / INFO - Train Epoch: 1 [0/60000 (0%)]\tLoss: 0.228645\n",
      "2022-03-11 18:54:49,335 fedbiomed INFO - log from: node_5d59b59e-b156-495e-9423-c6a6fb9d5d42 / INFO - Train Epoch: 1 [480/60000 (1%)]\tLoss: 0.315714\n",
      "2022-03-11 18:54:50,145 fedbiomed INFO - log from: node_5d59b59e-b156-495e-9423-c6a6fb9d5d42 / INFO - Train Epoch: 1 [960/60000 (2%)]\tLoss: 0.522451\n",
      "2022-03-11 18:54:50,903 fedbiomed INFO - log from: node_5d59b59e-b156-495e-9423-c6a6fb9d5d42 / INFO - Train Epoch: 1 [1440/60000 (2%)]\tLoss: 0.265707\n",
      "2022-03-11 18:54:51,717 fedbiomed INFO - log from: node_5d59b59e-b156-495e-9423-c6a6fb9d5d42 / INFO - Train Epoch: 1 [1920/60000 (3%)]\tLoss: 0.388450\n",
      "2022-03-11 18:54:52,473 fedbiomed INFO - log from: node_5d59b59e-b156-495e-9423-c6a6fb9d5d42 / INFO - Train Epoch: 1 [2400/60000 (4%)]\tLoss: 0.457230\n",
      "2022-03-11 18:54:53,232 fedbiomed INFO - log from: node_5d59b59e-b156-495e-9423-c6a6fb9d5d42 / INFO - Train Epoch: 1 [2880/60000 (5%)]\tLoss: 0.389429\n",
      "2022-03-11 18:54:54,036 fedbiomed INFO - log from: node_5d59b59e-b156-495e-9423-c6a6fb9d5d42 / INFO - Train Epoch: 1 [3360/60000 (6%)]\tLoss: 0.320592\n",
      "2022-03-11 18:54:54,839 fedbiomed INFO - log from: node_5d59b59e-b156-495e-9423-c6a6fb9d5d42 / INFO - Train Epoch: 1 [3840/60000 (6%)]\tLoss: 0.329395\n",
      "2022-03-11 18:54:55,633 fedbiomed INFO - log from: node_5d59b59e-b156-495e-9423-c6a6fb9d5d42 / INFO - Train Epoch: 1 [4320/60000 (7%)]\tLoss: 0.413969\n",
      "2022-03-11 18:54:56,372 fedbiomed INFO - log from: node_5d59b59e-b156-495e-9423-c6a6fb9d5d42 / DEBUG - Reached 100 batches for this epoch, ignore remaining data\n",
      "2022-03-11 18:54:56,373 fedbiomed INFO - log from: node_5d59b59e-b156-495e-9423-c6a6fb9d5d42 / DEBUG - running model.postprocess() method\n",
      "2022-03-11 18:54:56,374 fedbiomed INFO - log from: node_5d59b59e-b156-495e-9423-c6a6fb9d5d42 / DEBUG - model.postprocess() method not provided\n",
      "2022-03-11 18:54:56,763 fedbiomed INFO - log from: node_5d59b59e-b156-495e-9423-c6a6fb9d5d42 / DEBUG - upload (HTTP POST request) of file /Users/mlorenzi/works/temp/fedbiomed/var/tmp/node_params_05425cfa-7fed-47a1-99fe-301b4ed753ad.pt successful, with status code 201\n",
      "2022-03-11 18:54:56,764 fedbiomed INFO - log from: node_5d59b59e-b156-495e-9423-c6a6fb9d5d42 / INFO - results uploaded successfully \n",
      "2022-03-11 18:55:03,145 fedbiomed INFO - Downloading model params after training on node_5d59b59e-b156-495e-9423-c6a6fb9d5d42 - from http://localhost:8844/media/uploads/2022/03/11/node_params_05425cfa-7fed-47a1-99fe-301b4ed753ad.pt\n",
      "2022-03-11 18:55:03,269 fedbiomed DEBUG - upload (HTTP GET request) of file node_params_3c1d7261-9f0f-4eb7-a311-2c557f04d8bb.pt successful, with status code 200\n",
      "2022-03-11 18:55:03,283 fedbiomed INFO - Nodes that successfully reply in round 2 ['node_5d59b59e-b156-495e-9423-c6a6fb9d5d42']\n",
      "2022-03-11 18:55:03,740 fedbiomed DEBUG - upload (HTTP POST request) of file /Users/mlorenzi/works/temp/fedbiomed/var/experiments/Experiment_0010/aggregated_params_a7e0a43d-0007-4eee-8d5a-68ac61c4df56.pt successful, with status code 201\n",
      "2022-03-11 18:55:03,741 fedbiomed INFO - Saved aggregated params for round 2 in /Users/mlorenzi/works/temp/fedbiomed/var/experiments/Experiment_0010/aggregated_params_a7e0a43d-0007-4eee-8d5a-68ac61c4df56.pt\n",
      "2022-03-11 18:55:03,742 fedbiomed INFO - Sampled nodes in round 3 ['node_5d59b59e-b156-495e-9423-c6a6fb9d5d42']\n",
      "2022-03-11 18:55:03,743 fedbiomed INFO - Send message to node node_5d59b59e-b156-495e-9423-c6a6fb9d5d42 - {'researcher_id': 'researcher_3e4bd748-2b26-476a-9a88-05eb9d56df50', 'job_id': '6a0de441-6c3f-44fa-9aab-fd12ace8c506', 'training_args': {'batch_size': 48, 'lr': 0.001, 'fedprox_mu': 0.01, 'epochs': 1, 'dry_run': False, 'batch_maxnum': 100}, 'model_args': {}, 'command': 'train', 'model_url': 'http://localhost:8844/media/uploads/2022/03/11/my_model_50107e39-4abb-426e-80fe-b38cbe87613f.py', 'params_url': 'http://localhost:8844/media/uploads/2022/03/11/aggregated_params_a7e0a43d-0007-4eee-8d5a-68ac61c4df56.pt', 'model_class': 'MyTrainingPlan_noRDP', 'training_data': {'node_5d59b59e-b156-495e-9423-c6a6fb9d5d42': ['dataset_f2f1f2f2-ba6a-452d-bb03-b744e1ab4657']}}\n",
      "2022-03-11 18:55:03,743 fedbiomed DEBUG - researcher_3e4bd748-2b26-476a-9a88-05eb9d56df50\n",
      "2022-03-11 18:55:03,752 fedbiomed INFO - log from: node_5d59b59e-b156-495e-9423-c6a6fb9d5d42 / DEBUG - Message received: {'researcher_id': 'researcher_3e4bd748-2b26-476a-9a88-05eb9d56df50', 'job_id': '6a0de441-6c3f-44fa-9aab-fd12ace8c506', 'training_args': {'batch_size': 48, 'lr': 0.001, 'fedprox_mu': 0.01, 'epochs': 1, 'dry_run': False, 'batch_maxnum': 100}, 'model_args': {}, 'command': 'train', 'model_url': 'http://localhost:8844/media/uploads/2022/03/11/my_model_50107e39-4abb-426e-80fe-b38cbe87613f.py', 'params_url': 'http://localhost:8844/media/uploads/2022/03/11/aggregated_params_a7e0a43d-0007-4eee-8d5a-68ac61c4df56.pt', 'model_class': 'MyTrainingPlan_noRDP', 'training_data': {'node_5d59b59e-b156-495e-9423-c6a6fb9d5d42': ['dataset_f2f1f2f2-ba6a-452d-bb03-b744e1ab4657']}}\n",
      "2022-03-11 18:55:03,754 fedbiomed INFO - log from: node_5d59b59e-b156-495e-9423-c6a6fb9d5d42 / DEBUG - [TASKS QUEUE] Item:{'researcher_id': 'researcher_3e4bd748-2b26-476a-9a88-05eb9d56df50', 'job_id': '6a0de441-6c3f-44fa-9aab-fd12ace8c506', 'params_url': 'http://localhost:8844/media/uploads/2022/03/11/aggregated_params_a7e0a43d-0007-4eee-8d5a-68ac61c4df56.pt', 'training_args': {'batch_size': 48, 'lr': 0.001, 'fedprox_mu': 0.01, 'epochs': 1, 'dry_run': False, 'batch_maxnum': 100}, 'training_data': {'node_5d59b59e-b156-495e-9423-c6a6fb9d5d42': ['dataset_f2f1f2f2-ba6a-452d-bb03-b744e1ab4657']}, 'model_args': {}, 'model_url': 'http://localhost:8844/media/uploads/2022/03/11/my_model_50107e39-4abb-426e-80fe-b38cbe87613f.py', 'model_class': 'MyTrainingPlan_noRDP', 'command': 'train'}\n",
      "2022-03-11 18:55:03,766 fedbiomed INFO - log from: node_5d59b59e-b156-495e-9423-c6a6fb9d5d42 / DEBUG - upload (HTTP GET request) of file my_model_9a85d0de7da64001809c3fd0c4632bb1.py successful, with status code 200\n",
      "2022-03-11 18:55:03,913 fedbiomed INFO - log from: node_5d59b59e-b156-495e-9423-c6a6fb9d5d42 / DEBUG - upload (HTTP GET request) of file my_model_5d92aef0-694c-42ff-8a48-e927971bee5d.pt successful, with status code 200\n",
      "2022-03-11 18:55:03,936 fedbiomed INFO - log from: node_5d59b59e-b156-495e-9423-c6a6fb9d5d42 / INFO - training with arguments {'monitor': <fedbiomed.node.history_monitor.HistoryMonitor object at 0x1350c8190>, 'node_args': {'gpu': False, 'gpu_num': None, 'gpu_only': False}, 'batch_size': 48, 'lr': 0.001, 'fedprox_mu': 0.01, 'epochs': 1, 'dry_run': False, 'batch_maxnum': 100}\n",
      "2022-03-11 18:55:03,937 fedbiomed INFO - log from: node_5d59b59e-b156-495e-9423-c6a6fb9d5d42 / DEBUG - Dataset path has been set as/Users/mlorenzi/works/temp/MNIST\n",
      "2022-03-11 18:55:03,938 fedbiomed INFO - log from: node_5d59b59e-b156-495e-9423-c6a6fb9d5d42 / DEBUG - Using device cpu for training (cuda_available=False, gpu=False, gpu_only=False, use_gpu=False, gpu_num=None)\n",
      "2022-03-11 18:55:04,040 fedbiomed INFO - log from: node_5d59b59e-b156-495e-9423-c6a6fb9d5d42 / INFO - Train Epoch: 1 [0/60000 (0%)]\tLoss: 0.078276\n",
      "2022-03-11 18:55:04,893 fedbiomed INFO - log from: node_5d59b59e-b156-495e-9423-c6a6fb9d5d42 / INFO - Train Epoch: 1 [480/60000 (1%)]\tLoss: 0.219687\n",
      "2022-03-11 18:55:05,718 fedbiomed INFO - log from: node_5d59b59e-b156-495e-9423-c6a6fb9d5d42 / INFO - Train Epoch: 1 [960/60000 (2%)]\tLoss: 0.183906\n"
     ]
    },
    {
     "name": "stderr",
     "output_type": "stream",
     "text": [
      "2022-03-11 18:55:06,511 fedbiomed INFO - log from: node_5d59b59e-b156-495e-9423-c6a6fb9d5d42 / INFO - Train Epoch: 1 [1440/60000 (2%)]\tLoss: 0.331070\n",
      "2022-03-11 18:55:07,351 fedbiomed INFO - log from: node_5d59b59e-b156-495e-9423-c6a6fb9d5d42 / INFO - Train Epoch: 1 [1920/60000 (3%)]\tLoss: 0.262553\n",
      "2022-03-11 18:55:08,176 fedbiomed INFO - log from: node_5d59b59e-b156-495e-9423-c6a6fb9d5d42 / INFO - Train Epoch: 1 [2400/60000 (4%)]\tLoss: 0.212488\n",
      "2022-03-11 18:55:08,959 fedbiomed INFO - log from: node_5d59b59e-b156-495e-9423-c6a6fb9d5d42 / INFO - Train Epoch: 1 [2880/60000 (5%)]\tLoss: 0.340561\n",
      "2022-03-11 18:55:09,767 fedbiomed INFO - log from: node_5d59b59e-b156-495e-9423-c6a6fb9d5d42 / INFO - Train Epoch: 1 [3360/60000 (6%)]\tLoss: 0.432287\n",
      "2022-03-11 18:55:10,522 fedbiomed INFO - log from: node_5d59b59e-b156-495e-9423-c6a6fb9d5d42 / INFO - Train Epoch: 1 [3840/60000 (6%)]\tLoss: 0.474599\n",
      "2022-03-11 18:55:11,340 fedbiomed INFO - log from: node_5d59b59e-b156-495e-9423-c6a6fb9d5d42 / INFO - Train Epoch: 1 [4320/60000 (7%)]\tLoss: 0.361138\n",
      "2022-03-11 18:55:12,079 fedbiomed INFO - log from: node_5d59b59e-b156-495e-9423-c6a6fb9d5d42 / DEBUG - Reached 100 batches for this epoch, ignore remaining data\n",
      "2022-03-11 18:55:12,080 fedbiomed INFO - log from: node_5d59b59e-b156-495e-9423-c6a6fb9d5d42 / DEBUG - running model.postprocess() method\n",
      "2022-03-11 18:55:12,081 fedbiomed INFO - log from: node_5d59b59e-b156-495e-9423-c6a6fb9d5d42 / DEBUG - model.postprocess() method not provided\n",
      "2022-03-11 18:55:12,464 fedbiomed INFO - log from: node_5d59b59e-b156-495e-9423-c6a6fb9d5d42 / DEBUG - upload (HTTP POST request) of file /Users/mlorenzi/works/temp/fedbiomed/var/tmp/node_params_78d65150-39d3-4953-8089-d883d490d66f.pt successful, with status code 201\n",
      "2022-03-11 18:55:12,465 fedbiomed INFO - log from: node_5d59b59e-b156-495e-9423-c6a6fb9d5d42 / INFO - results uploaded successfully \n",
      "2022-03-11 18:55:18,752 fedbiomed INFO - Downloading model params after training on node_5d59b59e-b156-495e-9423-c6a6fb9d5d42 - from http://localhost:8844/media/uploads/2022/03/11/node_params_78d65150-39d3-4953-8089-d883d490d66f.pt\n",
      "2022-03-11 18:55:18,898 fedbiomed DEBUG - upload (HTTP GET request) of file node_params_e1f8e12b-2b50-493a-a8da-d251f87ad8b2.pt successful, with status code 200\n",
      "2022-03-11 18:55:18,913 fedbiomed INFO - Nodes that successfully reply in round 3 ['node_5d59b59e-b156-495e-9423-c6a6fb9d5d42']\n",
      "2022-03-11 18:55:19,296 fedbiomed DEBUG - upload (HTTP POST request) of file /Users/mlorenzi/works/temp/fedbiomed/var/experiments/Experiment_0010/aggregated_params_3e425cd8-43cb-4f67-be49-23c0f30540ed.pt successful, with status code 201\n",
      "2022-03-11 18:55:19,298 fedbiomed INFO - Saved aggregated params for round 3 in /Users/mlorenzi/works/temp/fedbiomed/var/experiments/Experiment_0010/aggregated_params_3e425cd8-43cb-4f67-be49-23c0f30540ed.pt\n",
      "2022-03-11 18:55:19,298 fedbiomed INFO - Sampled nodes in round 4 ['node_5d59b59e-b156-495e-9423-c6a6fb9d5d42']\n",
      "2022-03-11 18:55:19,299 fedbiomed INFO - Send message to node node_5d59b59e-b156-495e-9423-c6a6fb9d5d42 - {'researcher_id': 'researcher_3e4bd748-2b26-476a-9a88-05eb9d56df50', 'job_id': '6a0de441-6c3f-44fa-9aab-fd12ace8c506', 'training_args': {'batch_size': 48, 'lr': 0.001, 'fedprox_mu': 0.01, 'epochs': 1, 'dry_run': False, 'batch_maxnum': 100}, 'model_args': {}, 'command': 'train', 'model_url': 'http://localhost:8844/media/uploads/2022/03/11/my_model_50107e39-4abb-426e-80fe-b38cbe87613f.py', 'params_url': 'http://localhost:8844/media/uploads/2022/03/11/aggregated_params_3e425cd8-43cb-4f67-be49-23c0f30540ed.pt', 'model_class': 'MyTrainingPlan_noRDP', 'training_data': {'node_5d59b59e-b156-495e-9423-c6a6fb9d5d42': ['dataset_f2f1f2f2-ba6a-452d-bb03-b744e1ab4657']}}\n",
      "2022-03-11 18:55:19,299 fedbiomed DEBUG - researcher_3e4bd748-2b26-476a-9a88-05eb9d56df50\n",
      "2022-03-11 18:55:19,307 fedbiomed INFO - log from: node_5d59b59e-b156-495e-9423-c6a6fb9d5d42 / DEBUG - Message received: {'researcher_id': 'researcher_3e4bd748-2b26-476a-9a88-05eb9d56df50', 'job_id': '6a0de441-6c3f-44fa-9aab-fd12ace8c506', 'training_args': {'batch_size': 48, 'lr': 0.001, 'fedprox_mu': 0.01, 'epochs': 1, 'dry_run': False, 'batch_maxnum': 100}, 'model_args': {}, 'command': 'train', 'model_url': 'http://localhost:8844/media/uploads/2022/03/11/my_model_50107e39-4abb-426e-80fe-b38cbe87613f.py', 'params_url': 'http://localhost:8844/media/uploads/2022/03/11/aggregated_params_3e425cd8-43cb-4f67-be49-23c0f30540ed.pt', 'model_class': 'MyTrainingPlan_noRDP', 'training_data': {'node_5d59b59e-b156-495e-9423-c6a6fb9d5d42': ['dataset_f2f1f2f2-ba6a-452d-bb03-b744e1ab4657']}}\n",
      "2022-03-11 18:55:19,308 fedbiomed INFO - log from: node_5d59b59e-b156-495e-9423-c6a6fb9d5d42 / DEBUG - [TASKS QUEUE] Item:{'researcher_id': 'researcher_3e4bd748-2b26-476a-9a88-05eb9d56df50', 'job_id': '6a0de441-6c3f-44fa-9aab-fd12ace8c506', 'params_url': 'http://localhost:8844/media/uploads/2022/03/11/aggregated_params_3e425cd8-43cb-4f67-be49-23c0f30540ed.pt', 'training_args': {'batch_size': 48, 'lr': 0.001, 'fedprox_mu': 0.01, 'epochs': 1, 'dry_run': False, 'batch_maxnum': 100}, 'training_data': {'node_5d59b59e-b156-495e-9423-c6a6fb9d5d42': ['dataset_f2f1f2f2-ba6a-452d-bb03-b744e1ab4657']}, 'model_args': {}, 'model_url': 'http://localhost:8844/media/uploads/2022/03/11/my_model_50107e39-4abb-426e-80fe-b38cbe87613f.py', 'model_class': 'MyTrainingPlan_noRDP', 'command': 'train'}\n",
      "2022-03-11 18:55:19,320 fedbiomed INFO - log from: node_5d59b59e-b156-495e-9423-c6a6fb9d5d42 / DEBUG - upload (HTTP GET request) of file my_model_7660917b9f20417ca9d068f61338a8f9.py successful, with status code 200\n",
      "2022-03-11 18:55:19,453 fedbiomed INFO - log from: node_5d59b59e-b156-495e-9423-c6a6fb9d5d42 / DEBUG - upload (HTTP GET request) of file my_model_e2af5553-e18c-41d0-8058-4bdcce2cce82.pt successful, with status code 200\n",
      "2022-03-11 18:55:19,471 fedbiomed INFO - log from: node_5d59b59e-b156-495e-9423-c6a6fb9d5d42 / INFO - training with arguments {'monitor': <fedbiomed.node.history_monitor.HistoryMonitor object at 0x143f032e0>, 'node_args': {'gpu': False, 'gpu_num': None, 'gpu_only': False}, 'batch_size': 48, 'lr': 0.001, 'fedprox_mu': 0.01, 'epochs': 1, 'dry_run': False, 'batch_maxnum': 100}\n",
      "2022-03-11 18:55:19,473 fedbiomed INFO - log from: node_5d59b59e-b156-495e-9423-c6a6fb9d5d42 / DEBUG - Dataset path has been set as/Users/mlorenzi/works/temp/MNIST\n",
      "2022-03-11 18:55:19,474 fedbiomed INFO - log from: node_5d59b59e-b156-495e-9423-c6a6fb9d5d42 / DEBUG - Using device cpu for training (cuda_available=False, gpu=False, gpu_only=False, use_gpu=False, gpu_num=None)\n",
      "2022-03-11 18:55:19,585 fedbiomed INFO - log from: node_5d59b59e-b156-495e-9423-c6a6fb9d5d42 / INFO - Train Epoch: 1 [0/60000 (0%)]\tLoss: 0.181451\n",
      "2022-03-11 18:55:20,401 fedbiomed INFO - log from: node_5d59b59e-b156-495e-9423-c6a6fb9d5d42 / INFO - Train Epoch: 1 [480/60000 (1%)]\tLoss: 0.125831\n",
      "2022-03-11 18:55:21,263 fedbiomed INFO - log from: node_5d59b59e-b156-495e-9423-c6a6fb9d5d42 / INFO - Train Epoch: 1 [960/60000 (2%)]\tLoss: 0.086037\n",
      "2022-03-11 18:55:22,036 fedbiomed INFO - log from: node_5d59b59e-b156-495e-9423-c6a6fb9d5d42 / INFO - Train Epoch: 1 [1440/60000 (2%)]\tLoss: 0.175288\n",
      "2022-03-11 18:55:22,798 fedbiomed INFO - log from: node_5d59b59e-b156-495e-9423-c6a6fb9d5d42 / INFO - Train Epoch: 1 [1920/60000 (3%)]\tLoss: 0.247929\n",
      "2022-03-11 18:55:23,549 fedbiomed INFO - log from: node_5d59b59e-b156-495e-9423-c6a6fb9d5d42 / INFO - Train Epoch: 1 [2400/60000 (4%)]\tLoss: 0.443924\n",
      "2022-03-11 18:55:24,379 fedbiomed INFO - log from: node_5d59b59e-b156-495e-9423-c6a6fb9d5d42 / INFO - Train Epoch: 1 [2880/60000 (5%)]\tLoss: 0.313659\n",
      "2022-03-11 18:55:25,135 fedbiomed INFO - log from: node_5d59b59e-b156-495e-9423-c6a6fb9d5d42 / INFO - Train Epoch: 1 [3360/60000 (6%)]\tLoss: 0.281045\n",
      "2022-03-11 18:55:25,970 fedbiomed INFO - log from: node_5d59b59e-b156-495e-9423-c6a6fb9d5d42 / INFO - Train Epoch: 1 [3840/60000 (6%)]\tLoss: 0.364231\n",
      "2022-03-11 18:55:26,773 fedbiomed INFO - log from: node_5d59b59e-b156-495e-9423-c6a6fb9d5d42 / INFO - Train Epoch: 1 [4320/60000 (7%)]\tLoss: 0.475923\n",
      "2022-03-11 18:55:27,540 fedbiomed INFO - log from: node_5d59b59e-b156-495e-9423-c6a6fb9d5d42 / DEBUG - Reached 100 batches for this epoch, ignore remaining data\n"
     ]
    },
    {
     "name": "stderr",
     "output_type": "stream",
     "text": [
      "2022-03-11 18:55:27,541 fedbiomed INFO - log from: node_5d59b59e-b156-495e-9423-c6a6fb9d5d42 / DEBUG - running model.postprocess() method\n",
      "2022-03-11 18:55:27,542 fedbiomed INFO - log from: node_5d59b59e-b156-495e-9423-c6a6fb9d5d42 / DEBUG - model.postprocess() method not provided\n",
      "2022-03-11 18:55:27,917 fedbiomed INFO - log from: node_5d59b59e-b156-495e-9423-c6a6fb9d5d42 / DEBUG - upload (HTTP POST request) of file /Users/mlorenzi/works/temp/fedbiomed/var/tmp/node_params_ad01c150-cf17-4d4b-b0c9-ce13303f02ac.pt successful, with status code 201\n",
      "2022-03-11 18:55:27,919 fedbiomed INFO - log from: node_5d59b59e-b156-495e-9423-c6a6fb9d5d42 / INFO - results uploaded successfully \n",
      "2022-03-11 18:55:34,305 fedbiomed INFO - Downloading model params after training on node_5d59b59e-b156-495e-9423-c6a6fb9d5d42 - from http://localhost:8844/media/uploads/2022/03/11/node_params_ad01c150-cf17-4d4b-b0c9-ce13303f02ac.pt\n",
      "2022-03-11 18:55:34,430 fedbiomed DEBUG - upload (HTTP GET request) of file node_params_5489d8bf-cf9f-4a95-92d5-5b9a7ee39e97.pt successful, with status code 200\n",
      "2022-03-11 18:55:34,440 fedbiomed INFO - Nodes that successfully reply in round 4 ['node_5d59b59e-b156-495e-9423-c6a6fb9d5d42']\n",
      "2022-03-11 18:55:34,803 fedbiomed DEBUG - upload (HTTP POST request) of file /Users/mlorenzi/works/temp/fedbiomed/var/experiments/Experiment_0010/aggregated_params_e2d6f89d-fbef-4243-b74c-54a26be2c7f8.pt successful, with status code 201\n",
      "2022-03-11 18:55:34,804 fedbiomed INFO - Saved aggregated params for round 4 in /Users/mlorenzi/works/temp/fedbiomed/var/experiments/Experiment_0010/aggregated_params_e2d6f89d-fbef-4243-b74c-54a26be2c7f8.pt\n",
      "2022-03-11 18:55:34,805 fedbiomed INFO - Sampled nodes in round 5 ['node_5d59b59e-b156-495e-9423-c6a6fb9d5d42']\n",
      "2022-03-11 18:55:34,806 fedbiomed INFO - Send message to node node_5d59b59e-b156-495e-9423-c6a6fb9d5d42 - {'researcher_id': 'researcher_3e4bd748-2b26-476a-9a88-05eb9d56df50', 'job_id': '6a0de441-6c3f-44fa-9aab-fd12ace8c506', 'training_args': {'batch_size': 48, 'lr': 0.001, 'fedprox_mu': 0.01, 'epochs': 1, 'dry_run': False, 'batch_maxnum': 100}, 'model_args': {}, 'command': 'train', 'model_url': 'http://localhost:8844/media/uploads/2022/03/11/my_model_50107e39-4abb-426e-80fe-b38cbe87613f.py', 'params_url': 'http://localhost:8844/media/uploads/2022/03/11/aggregated_params_e2d6f89d-fbef-4243-b74c-54a26be2c7f8.pt', 'model_class': 'MyTrainingPlan_noRDP', 'training_data': {'node_5d59b59e-b156-495e-9423-c6a6fb9d5d42': ['dataset_f2f1f2f2-ba6a-452d-bb03-b744e1ab4657']}}\n",
      "2022-03-11 18:55:34,807 fedbiomed DEBUG - researcher_3e4bd748-2b26-476a-9a88-05eb9d56df50\n",
      "2022-03-11 18:55:34,818 fedbiomed INFO - log from: node_5d59b59e-b156-495e-9423-c6a6fb9d5d42 / DEBUG - Message received: {'researcher_id': 'researcher_3e4bd748-2b26-476a-9a88-05eb9d56df50', 'job_id': '6a0de441-6c3f-44fa-9aab-fd12ace8c506', 'training_args': {'batch_size': 48, 'lr': 0.001, 'fedprox_mu': 0.01, 'epochs': 1, 'dry_run': False, 'batch_maxnum': 100}, 'model_args': {}, 'command': 'train', 'model_url': 'http://localhost:8844/media/uploads/2022/03/11/my_model_50107e39-4abb-426e-80fe-b38cbe87613f.py', 'params_url': 'http://localhost:8844/media/uploads/2022/03/11/aggregated_params_e2d6f89d-fbef-4243-b74c-54a26be2c7f8.pt', 'model_class': 'MyTrainingPlan_noRDP', 'training_data': {'node_5d59b59e-b156-495e-9423-c6a6fb9d5d42': ['dataset_f2f1f2f2-ba6a-452d-bb03-b744e1ab4657']}}\n",
      "2022-03-11 18:55:34,820 fedbiomed INFO - log from: node_5d59b59e-b156-495e-9423-c6a6fb9d5d42 / DEBUG - [TASKS QUEUE] Item:{'researcher_id': 'researcher_3e4bd748-2b26-476a-9a88-05eb9d56df50', 'job_id': '6a0de441-6c3f-44fa-9aab-fd12ace8c506', 'params_url': 'http://localhost:8844/media/uploads/2022/03/11/aggregated_params_e2d6f89d-fbef-4243-b74c-54a26be2c7f8.pt', 'training_args': {'batch_size': 48, 'lr': 0.001, 'fedprox_mu': 0.01, 'epochs': 1, 'dry_run': False, 'batch_maxnum': 100}, 'training_data': {'node_5d59b59e-b156-495e-9423-c6a6fb9d5d42': ['dataset_f2f1f2f2-ba6a-452d-bb03-b744e1ab4657']}, 'model_args': {}, 'model_url': 'http://localhost:8844/media/uploads/2022/03/11/my_model_50107e39-4abb-426e-80fe-b38cbe87613f.py', 'model_class': 'MyTrainingPlan_noRDP', 'command': 'train'}\n",
      "2022-03-11 18:55:34,832 fedbiomed INFO - log from: node_5d59b59e-b156-495e-9423-c6a6fb9d5d42 / DEBUG - upload (HTTP GET request) of file my_model_328a8527ac59402b9ed6f0d87a43cc50.py successful, with status code 200\n",
      "2022-03-11 18:55:34,946 fedbiomed INFO - log from: node_5d59b59e-b156-495e-9423-c6a6fb9d5d42 / DEBUG - upload (HTTP GET request) of file my_model_a35b3b1e-a3d1-487f-a84f-37f14023c66a.pt successful, with status code 200\n",
      "2022-03-11 18:55:34,969 fedbiomed INFO - log from: node_5d59b59e-b156-495e-9423-c6a6fb9d5d42 / INFO - training with arguments {'monitor': <fedbiomed.node.history_monitor.HistoryMonitor object at 0x1473e0a60>, 'node_args': {'gpu': False, 'gpu_num': None, 'gpu_only': False}, 'batch_size': 48, 'lr': 0.001, 'fedprox_mu': 0.01, 'epochs': 1, 'dry_run': False, 'batch_maxnum': 100}\n",
      "2022-03-11 18:55:34,970 fedbiomed INFO - log from: node_5d59b59e-b156-495e-9423-c6a6fb9d5d42 / DEBUG - Dataset path has been set as/Users/mlorenzi/works/temp/MNIST\n",
      "2022-03-11 18:55:34,972 fedbiomed INFO - log from: node_5d59b59e-b156-495e-9423-c6a6fb9d5d42 / DEBUG - Using device cpu for training (cuda_available=False, gpu=False, gpu_only=False, use_gpu=False, gpu_num=None)\n",
      "2022-03-11 18:55:35,095 fedbiomed INFO - log from: node_5d59b59e-b156-495e-9423-c6a6fb9d5d42 / INFO - Train Epoch: 1 [0/60000 (0%)]\tLoss: 0.093522\n",
      "2022-03-11 18:55:35,965 fedbiomed INFO - log from: node_5d59b59e-b156-495e-9423-c6a6fb9d5d42 / INFO - Train Epoch: 1 [480/60000 (1%)]\tLoss: 0.210980\n",
      "2022-03-11 18:55:36,744 fedbiomed INFO - log from: node_5d59b59e-b156-495e-9423-c6a6fb9d5d42 / INFO - Train Epoch: 1 [960/60000 (2%)]\tLoss: 0.098212\n",
      "2022-03-11 18:55:37,557 fedbiomed INFO - log from: node_5d59b59e-b156-495e-9423-c6a6fb9d5d42 / INFO - Train Epoch: 1 [1440/60000 (2%)]\tLoss: 0.241954\n",
      "2022-03-11 18:55:38,356 fedbiomed INFO - log from: node_5d59b59e-b156-495e-9423-c6a6fb9d5d42 / INFO - Train Epoch: 1 [1920/60000 (3%)]\tLoss: 0.170622\n",
      "2022-03-11 18:55:39,136 fedbiomed INFO - log from: node_5d59b59e-b156-495e-9423-c6a6fb9d5d42 / INFO - Train Epoch: 1 [2400/60000 (4%)]\tLoss: 0.220364\n",
      "2022-03-11 18:55:39,909 fedbiomed INFO - log from: node_5d59b59e-b156-495e-9423-c6a6fb9d5d42 / INFO - Train Epoch: 1 [2880/60000 (5%)]\tLoss: 0.253982\n",
      "2022-03-11 18:55:40,666 fedbiomed INFO - log from: node_5d59b59e-b156-495e-9423-c6a6fb9d5d42 / INFO - Train Epoch: 1 [3360/60000 (6%)]\tLoss: 0.238011\n",
      "2022-03-11 18:55:41,424 fedbiomed INFO - log from: node_5d59b59e-b156-495e-9423-c6a6fb9d5d42 / INFO - Train Epoch: 1 [3840/60000 (6%)]\tLoss: 0.321215\n",
      "2022-03-11 18:55:42,174 fedbiomed INFO - log from: node_5d59b59e-b156-495e-9423-c6a6fb9d5d42 / INFO - Train Epoch: 1 [4320/60000 (7%)]\tLoss: 0.328259\n",
      "2022-03-11 18:55:42,922 fedbiomed INFO - log from: node_5d59b59e-b156-495e-9423-c6a6fb9d5d42 / DEBUG - Reached 100 batches for this epoch, ignore remaining data\n",
      "2022-03-11 18:55:42,923 fedbiomed INFO - log from: node_5d59b59e-b156-495e-9423-c6a6fb9d5d42 / DEBUG - running model.postprocess() method\n",
      "2022-03-11 18:55:42,924 fedbiomed INFO - log from: node_5d59b59e-b156-495e-9423-c6a6fb9d5d42 / DEBUG - model.postprocess() method not provided\n",
      "2022-03-11 18:55:43,289 fedbiomed INFO - log from: node_5d59b59e-b156-495e-9423-c6a6fb9d5d42 / DEBUG - upload (HTTP POST request) of file /Users/mlorenzi/works/temp/fedbiomed/var/tmp/node_params_3b53aef1-31a8-41ff-a22d-864803409d43.pt successful, with status code 201\n",
      "2022-03-11 18:55:43,299 fedbiomed INFO - log from: node_5d59b59e-b156-495e-9423-c6a6fb9d5d42 / INFO - results uploaded successfully \n",
      "2022-03-11 18:55:49,821 fedbiomed INFO - Downloading model params after training on node_5d59b59e-b156-495e-9423-c6a6fb9d5d42 - from http://localhost:8844/media/uploads/2022/03/11/node_params_3b53aef1-31a8-41ff-a22d-864803409d43.pt\n",
      "2022-03-11 18:55:49,957 fedbiomed DEBUG - upload (HTTP GET request) of file node_params_a20fd213-414e-4bf6-9b11-186a0243cfcb.pt successful, with status code 200\n",
      "2022-03-11 18:55:49,974 fedbiomed INFO - Nodes that successfully reply in round 5 ['node_5d59b59e-b156-495e-9423-c6a6fb9d5d42']\n"
     ]
    },
    {
     "name": "stderr",
     "output_type": "stream",
     "text": [
      "2022-03-11 18:55:50,358 fedbiomed DEBUG - upload (HTTP POST request) of file /Users/mlorenzi/works/temp/fedbiomed/var/experiments/Experiment_0010/aggregated_params_993ede89-fb21-446c-9638-e5c6fdfbf817.pt successful, with status code 201\n",
      "2022-03-11 18:55:50,359 fedbiomed INFO - Saved aggregated params for round 5 in /Users/mlorenzi/works/temp/fedbiomed/var/experiments/Experiment_0010/aggregated_params_993ede89-fb21-446c-9638-e5c6fdfbf817.pt\n"
     ]
    },
    {
     "data": {
      "text/plain": [
       "6"
      ]
     },
     "execution_count": 24,
     "metadata": {},
     "output_type": "execute_result"
    }
   ],
   "source": [
    "exp.run()"
   ]
  },
  {
   "cell_type": "code",
   "execution_count": null,
   "metadata": {},
   "outputs": [],
   "source": []
  }
 ],
 "metadata": {
  "kernelspec": {
   "display_name": "Python 3 (ipykernel)",
   "language": "python",
   "name": "python3"
  },
  "language_info": {
   "codemirror_mode": {
    "name": "ipython",
    "version": 3
   },
   "file_extension": ".py",
   "mimetype": "text/x-python",
   "name": "python",
   "nbconvert_exporter": "python",
   "pygments_lexer": "ipython3",
   "version": "3.9.9"
  }
 },
 "nbformat": 4,
 "nbformat_minor": 4
}

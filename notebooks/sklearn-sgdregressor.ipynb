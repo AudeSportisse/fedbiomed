{
 "cells": [
  {
   "cell_type": "markdown",
   "id": "64e87007",
   "metadata": {},
   "source": [
    "# Fedbiomed to train a federated SGD regressor model"
   ]
  },
  {
   "cell_type": "markdown",
   "id": "11c0bc07",
   "metadata": {},
   "source": [
    "## Data \n",
    "\n",
    "\n",
    "This tutorial shows how to deploy in Fed-BioMed to solve a federated regression problem with scikit-learn.\n",
    "\n",
    "In this tutorial we are using the wrapper of Fed-BioMed for the SGD regressor (https://scikit-learn.org/stable/modules/generated/sklearn.linear_model.SGDRegressor.html).\n",
    "The goal of the notebook is to train a model on a realistic dataset of (synthetic) medical information mimicking the ADNI dataset (http://adni.loni.usc.edu/). \n",
    "\n",
    "## Creating nodes\n",
    "\n",
    "To proceed with the tutorial, we create 3 clients with corresponding dataframes of clinical information in .csv format. Each client has 300 data points composed by several features corresponding to clinical and medical imaging informations. **The data is entirely synthetic and randomly sampled to mimick the variability of the real ADNI dataset**. The training partitions are availables at the following link:\n",
    "\n",
    "https://drive.google.com/file/d/1R39Ir60oQi8ZnmHoPz5CoGCrVIglcO9l/view?usp=sharing\n",
    "\n",
    "The federated task we aim at solve is to predict a clinical variable (the mini-mental state examination, MMSE) from a combination of demographic and imaging features. The regressors variables are the following features:\n",
    "\n",
    "['SEX', 'AGE', 'PTEDUCAT', 'WholeBrain.bl', 'Ventricles.bl', 'Hippocampus.bl', 'MidTemp.bl', 'Entorhinal.bl']\n",
    "\n",
    "and the target variable is:\n",
    "\n",
    "['MMSE.bl']\n",
    "    \n",
    "\n",
    "To create the federated dataset, we follow the standard procedure for node creation/population of Fed-BioMed. \n",
    "After activating the fedbiomed network with the commands\n",
    "\n",
    "`source ./scripts/fedbiomed_environment network`\n",
    "\n",
    "and \n",
    "\n",
    "`./scripts/fedbiomed_run network`\n",
    "\n",
    "we create a first node by using the commands\n",
    "\n",
    "`source ./scripts/fedbiomed_environment node`\n",
    "\n",
    "`./scripts/fedbiomed_run node start`\n",
    "\n",
    "We then poulate the node with the data of first client:\n",
    "\n",
    "`./scripts/fedbiomed_run node config conf.ini add`\n",
    "\n",
    "Thn, we select option 1 (csv dataset) to add the .csv partition of client 1, by just picking the .csv of client 1. We use `adni` as tag to save the selected dataset. We can further check that the data has been added by executing `./scripts/fedbiomed_run node list`\n",
    "\n",
    "Following the same procedure, we create the other two nodes with the datasets of client 2 and client 3 respectively. To do so, we add and launch a `Node`using others configuration files"
   ]
  },
  {
   "cell_type": "markdown",
   "id": "f5411d74",
   "metadata": {},
   "source": [
    "## Fed-BioMed Researcher\n",
    "\n",
    "We are now ready to start the reseracher enviroment with the command `source ./scripts/fedbiomed_environment researcher`, and open the Jupyter notebook with `./scripts/fedbiomed_run researcher`. \n",
    "\n",
    "We can first query the network for the adni dataset. In this case, the nodes are sharing the respective partitions unsing the same tag `adni`:"
   ]
  },
  {
   "cell_type": "code",
   "execution_count": null,
   "id": "ade4cbea",
   "metadata": {},
   "outputs": [],
   "source": [
    "%load_ext autoreload\n",
    "%autoreload 2"
   ]
  },
  {
   "cell_type": "code",
   "execution_count": null,
   "id": "fccd2a0b",
   "metadata": {
    "scrolled": true
   },
   "outputs": [],
   "source": [
    "from fedbiomed.researcher.requests import Requests\n",
    "req = Requests()\n",
    "req.list(verbose=True)"
   ]
  },
  {
   "cell_type": "markdown",
   "id": "b924bf21",
   "metadata": {},
   "source": []
  },
  {
   "cell_type": "markdown",
   "id": "8e9aaa87",
   "metadata": {},
   "source": [
    "The code for network and data loader of the sklearn SGDRegressor can now be deployed in Fed-BioMed.\n",
    "We first import the necessary module `SGDSkLearnModel` from `fedbiomed`:\n",
    "\n",
    "**__init__** : we add here the needed sklearn libraries\n",
    "       \n",
    "**training_data** : you must return here a tuple (data,targets) that must be of the same type of \n",
    "your method partial_fit parameters. \n",
    "\n",
    "We note that this model performs a common standardization across federated datasets by **centering with respect to the same parameters**."
   ]
  },
  {
   "cell_type": "code",
   "execution_count": 8,
   "id": "f10cc76c",
   "metadata": {},
   "outputs": [],
   "source": [
    "from fedbiomed.common.training_plans import SGDSkLearnModel\n",
    "from fedbiomed.common.data import DataManager\n",
    "\n",
    "class SGDRegressorTrainingPlan(SGDSkLearnModel):\n",
    "    def __init__(self, model_args: dict = {}):\n",
    "        super(SGDRegressorTrainingPlan, self).__init__(model_args)\n",
    "        self.add_dependency([\"from sklearn.linear_model import SGDRegressor\"])\n",
    "    \n",
    "    def training_data(self):\n",
    "        dataset = pd.read_csv(self.dataset_path,delimiter=',')\n",
    "        regressors_col = ['SEX', 'AGE', 'PTEDUCAT', 'WholeBrain.bl',\n",
    "                          'Ventricles.bl', 'Hippocampus.bl', 'MidTemp.bl', 'Entorhinal.bl']\n",
    "        target_col = ['MMSE.bl']\n",
    "        \n",
    "        # mean and standard deviation for normalizing dataset\n",
    "        # it has been computed over the whole dataset\n",
    "        scaling_mean = np.array([0.8, 72.3, 16.2, 0.7, 0.0, 0.0, 0.0, 0.0])\n",
    "        scaling_sd = np.array([3.5e-01, 7.3e+00, 2.7e+00, 5.0e-02, 1.1e-02, 1.0e-03, 2.0e-03, 1.0e-03])\n",
    "        \n",
    "        X = (dataset[regressors_col].values-scaling_mean)/scaling_sd\n",
    "        y = dataset[target_col]\n",
    "        return DataManager(dataset=X, target=y.values.ravel())\n",
    "    "
   ]
  },
  {
   "cell_type": "markdown",
   "id": "69cda129",
   "metadata": {},
   "source": [
    "**model_args** is a dictionary containing your model arguments, in case of SGDRegressor this will be max_iter and tol. n_features is provided to correctly initialize the SGDRegressor coef_ array.\n",
    "\n",
    "**training_args** is a dictionary with parameters related to Federated Learning. "
   ]
  },
  {
   "cell_type": "code",
   "execution_count": 9,
   "id": "05aa5273",
   "metadata": {},
   "outputs": [],
   "source": [
    "from fedbiomed.common.metrics import MetricTypes\n",
    "RANDOM_SEED = 1234\n",
    "\n",
    "\n",
    "model_args = {\n",
    "    'max_iter':2000,\n",
    "    'tol': 1e-5,\n",
    "    'eta0':0.05,\n",
    "    'model': 'SGDRegressor',\n",
    "    'n_features': 8,\n",
    "    'random_state': RANDOM_SEED\n",
    "}\n",
    "\n",
    "training_args = {\n",
    "    'epochs': 5,\n",
    "    'test_ratio':.3,\n",
    "    'test_metric': MetricTypes.MEAN_ABSOLUTE_ERROR,\n",
    "    'test_on_local_updates': True,\n",
    "    'test_on_global_updates': True\n",
    "}"
   ]
  },
  {
   "cell_type": "markdown",
   "id": "9da2b46d",
   "metadata": {},
   "source": [
    "The experiment can be now defined, by providing the `adni` tag, and running the local training on nodes with model defined in `model_path`, standard `aggregator` (FedAvg) and `client_selection_strategy` (all nodes used). Federated learning is going to be perfomed through 10 optimization rounds."
   ]
  },
  {
   "cell_type": "code",
   "execution_count": 10,
   "id": "4b1a1341",
   "metadata": {},
   "outputs": [
    {
     "name": "stderr",
     "output_type": "stream",
     "text": [
      "2022-03-30 15:41:12,778 fedbiomed INFO - Searching dataset with data tags: ['adni'] for all nodes\n",
      "2022-03-30 15:41:22,820 fedbiomed INFO - Node selected for training -> node_ad006bab-e62d-4745-948c-604a37b7f170\n",
      "2022-03-30 15:41:22,826 fedbiomed DEBUG - Model file has been saved: /home/scansiz/Desktop/Inria/development/fedbiomed/var/experiments/Experiment_0015/my_model_b5787bea-68cd-47e4-ab88-b92f0f78df97.py\n",
      "2022-03-30 15:41:22,893 fedbiomed DEBUG - upload (HTTP POST request) of file /home/scansiz/Desktop/Inria/development/fedbiomed/var/experiments/Experiment_0015/my_model_b5787bea-68cd-47e4-ab88-b92f0f78df97.py successful, with status code 201\n",
      "2022-03-30 15:41:22,937 fedbiomed DEBUG - upload (HTTP POST request) of file /home/scansiz/Desktop/Inria/development/fedbiomed/var/experiments/Experiment_0015/aggregated_params_init_da72e916-4db9-49e9-b967-ad8773d52233.pt successful, with status code 201\n"
     ]
    }
   ],
   "source": [
    "from fedbiomed.researcher.experiment import Experiment\n",
    "from fedbiomed.researcher.aggregators.fedavg import FedAverage\n",
    "\n",
    "tags =  ['adni']\n",
    "\n",
    "# Add more rounds for results with better accuracy\n",
    "#\n",
    "#rounds = 40\n",
    "rounds = 5\n",
    "\n",
    "# select nodes participating to this experiment\n",
    "exp = Experiment(tags=tags,\n",
    "                 model_args=model_args,\n",
    "                 model_class=SGDRegressorTrainingPlan,\n",
    "                 training_args=training_args,\n",
    "                 round_limit=rounds,\n",
    "                 aggregator=FedAverage(),\n",
    "                 node_selection_strategy=None)"
   ]
  },
  {
   "cell_type": "code",
   "execution_count": 11,
   "id": "d6ff55da",
   "metadata": {},
   "outputs": [
    {
     "name": "stderr",
     "output_type": "stream",
     "text": [
      "2022-03-30 15:41:22,950 fedbiomed INFO - Sampled nodes in round 0 ['node_ad006bab-e62d-4745-948c-604a37b7f170']\n",
      "2022-03-30 15:41:22,952 fedbiomed INFO - \u001b[1mSending request\u001b[0m \n",
      "\t\t\t\t\t\u001b[1m To\u001b[0m: node_ad006bab-e62d-4745-948c-604a37b7f170 \n",
      "\t\t\t\t\t\u001b[1m Reqeust: \u001b[0m: Perform training with the arguments: {'researcher_id': 'researcher_ad3c024c-fb12-4ca1-9204-0f6b9220bed8', 'job_id': 'fc5d295b-cb28-4c2a-95d8-ed9b7fb8f505', 'training_args': {'test_ratio': 0.3, 'test_on_local_updates': True, 'test_on_global_updates': True, 'test_metric': <MetricTypes.MEAN_ABSOLUTE_ERROR: (7, <_MetricCategory.REGRESSION: 2>)>, 'test_metric_args': {}, 'epochs': 5}, 'training': True, 'model_args': {'max_iter': 2000, 'tol': 1e-05, 'eta0': 0.05, 'model': 'SGDRegressor', 'n_features': 8, 'random_state': 1234, 'verbose': 1}, 'command': 'train', 'model_url': 'http://localhost:8844/media/uploads/2022/03/30/my_model_b5787bea-68cd-47e4-ab88-b92f0f78df97.py', 'params_url': 'http://localhost:8844/media/uploads/2022/03/30/aggregated_params_init_da72e916-4db9-49e9-b967-ad8773d52233.pt', 'model_class': 'SGDRegressorTrainingPlan', 'training_data': {'node_ad006bab-e62d-4745-948c-604a37b7f170': ['dataset_1862e7b1-6ec9-4521-9b8b-8e6ca3f40f71']}} \n",
      " -----------------------------------------------------------------\n",
      "2022-03-30 15:41:22,954 fedbiomed DEBUG - researcher_ad3c024c-fb12-4ca1-9204-0f6b9220bed8\n",
      "2022-03-30 15:41:23,263 fedbiomed INFO - \u001b[1mINFO\u001b[0m\n",
      "\t\t\t\t\t\u001b[1m NODE\u001b[0m node_ad006bab-e62d-4745-948c-604a37b7f170\n",
      "\t\t\t\t\t\u001b[1m MESSAGE:\u001b[0m training with arguments {'history_monitor': <fedbiomed.node.history_monitor.HistoryMonitor object at 0x7fd9ce8fd640>, 'node_args': {'gpu': False, 'gpu_num': None, 'gpu_only': False}, 'epochs': 5}\u001b[0m\n",
      "-----------------------------------------------------------------\n",
      "2022-03-30 15:41:23,264 fedbiomed INFO - \u001b[1mTESTING ON GLOBAL UPDATES\u001b[0m \n",
      "\t\t\t\t\t NODE_ID: node_ad006bab-e62d-4745-948c-604a37b7f170 \n",
      "\t\t\t\t\t Completed: 90/90 (100%) \n",
      " \t\t\t\t\t MEAN_ABSOLUTE_ERROR_1: \u001b[1m27.377778\u001b[0m \n",
      "\t\t\t\t\t ---------\n",
      "2022-03-30 15:41:23,265 fedbiomed INFO - \u001b[1mTRAINING\u001b[0m \n",
      "\t\t\t\t\t NODE_ID: node_ad006bab-e62d-4745-948c-604a37b7f170 \n",
      "\t\t\t\t\t Epoch: 0 | Completed: 210/210 (100%) \n",
      " \t\t\t\t\t Loss squared_loss: \u001b[1m47115.483842\u001b[0m \n",
      "\t\t\t\t\t ---------\n",
      "2022-03-30 15:41:23,266 fedbiomed INFO - \u001b[1mTRAINING\u001b[0m \n",
      "\t\t\t\t\t NODE_ID: node_ad006bab-e62d-4745-948c-604a37b7f170 \n",
      "\t\t\t\t\t Epoch: 1 | Completed: 210/210 (100%) \n",
      " \t\t\t\t\t Loss squared_loss: \u001b[1m79.072415\u001b[0m \n",
      "\t\t\t\t\t ---------\n",
      "2022-03-30 15:41:23,267 fedbiomed INFO - \u001b[1mTRAINING\u001b[0m \n",
      "\t\t\t\t\t NODE_ID: node_ad006bab-e62d-4745-948c-604a37b7f170 \n",
      "\t\t\t\t\t Epoch: 2 | Completed: 210/210 (100%) \n",
      " \t\t\t\t\t Loss squared_loss: \u001b[1m33.574244\u001b[0m \n",
      "\t\t\t\t\t ---------\n",
      "2022-03-30 15:41:23,268 fedbiomed INFO - \u001b[1mTRAINING\u001b[0m \n",
      "\t\t\t\t\t NODE_ID: node_ad006bab-e62d-4745-948c-604a37b7f170 \n",
      "\t\t\t\t\t Epoch: 3 | Completed: 210/210 (100%) \n",
      " \t\t\t\t\t Loss squared_loss: \u001b[1m19.795666\u001b[0m \n",
      "\t\t\t\t\t ---------\n",
      "2022-03-30 15:41:23,268 fedbiomed INFO - \u001b[1mTRAINING\u001b[0m \n",
      "\t\t\t\t\t NODE_ID: node_ad006bab-e62d-4745-948c-604a37b7f170 \n",
      "\t\t\t\t\t Epoch: 4 | Completed: 210/210 (100%) \n",
      " \t\t\t\t\t Loss squared_loss: \u001b[1m13.324457\u001b[0m \n",
      "\t\t\t\t\t ---------\n",
      "2022-03-30 15:41:23,269 fedbiomed INFO - \u001b[1mTESTING ON LOCAL UPDATES\u001b[0m \n",
      "\t\t\t\t\t NODE_ID: node_ad006bab-e62d-4745-948c-604a37b7f170 \n",
      "\t\t\t\t\t Completed: 90/90 (100%) \n",
      " \t\t\t\t\t MEAN_ABSOLUTE_ERROR_1: \u001b[1m4.282687\u001b[0m \n",
      "\t\t\t\t\t ---------\n",
      "2022-03-30 15:41:23,288 fedbiomed INFO - \u001b[1mINFO\u001b[0m\n",
      "\t\t\t\t\t\u001b[1m NODE\u001b[0m node_ad006bab-e62d-4745-948c-604a37b7f170\n",
      "\t\t\t\t\t\u001b[1m MESSAGE:\u001b[0m results uploaded successfully \u001b[0m\n",
      "-----------------------------------------------------------------\n",
      "2022-03-30 15:41:32,968 fedbiomed INFO - Downloading model params after training on node_ad006bab-e62d-4745-948c-604a37b7f170 - from http://localhost:8844/media/uploads/2022/03/30/node_params_3f14819a-7b88-4831-8299-63c50239d7a2.pt\n",
      "2022-03-30 15:41:32,986 fedbiomed DEBUG - upload (HTTP GET request) of file node_params_60003518-986c-43e7-92aa-137c2f51b033.pt successful, with status code 200\n",
      "2022-03-30 15:41:32,994 fedbiomed INFO - Nodes that successfully reply in round 0 ['node_ad006bab-e62d-4745-948c-604a37b7f170']\n",
      "2022-03-30 15:41:33,049 fedbiomed DEBUG - upload (HTTP POST request) of file /home/scansiz/Desktop/Inria/development/fedbiomed/var/experiments/Experiment_0015/aggregated_params_056ee514-53b8-46d3-9461-9a5d86db2ff3.pt successful, with status code 201\n",
      "2022-03-30 15:41:33,050 fedbiomed INFO - Saved aggregated params for round 0 in /home/scansiz/Desktop/Inria/development/fedbiomed/var/experiments/Experiment_0015/aggregated_params_056ee514-53b8-46d3-9461-9a5d86db2ff3.pt\n",
      "2022-03-30 15:41:33,051 fedbiomed INFO - Sampled nodes in round 1 ['node_ad006bab-e62d-4745-948c-604a37b7f170']\n",
      "2022-03-30 15:41:33,051 fedbiomed INFO - \u001b[1mSending request\u001b[0m \n",
      "\t\t\t\t\t\u001b[1m To\u001b[0m: node_ad006bab-e62d-4745-948c-604a37b7f170 \n",
      "\t\t\t\t\t\u001b[1m Reqeust: \u001b[0m: Perform training with the arguments: {'researcher_id': 'researcher_ad3c024c-fb12-4ca1-9204-0f6b9220bed8', 'job_id': 'fc5d295b-cb28-4c2a-95d8-ed9b7fb8f505', 'training_args': {'test_ratio': 0.3, 'test_on_local_updates': True, 'test_on_global_updates': True, 'test_metric': 'MEAN_ABSOLUTE_ERROR', 'test_metric_args': {}, 'epochs': 5}, 'training': True, 'model_args': {'max_iter': 2000, 'tol': 1e-05, 'eta0': 0.05, 'model': 'SGDRegressor', 'n_features': 8, 'random_state': 1234, 'verbose': 1}, 'command': 'train', 'model_url': 'http://localhost:8844/media/uploads/2022/03/30/my_model_b5787bea-68cd-47e4-ab88-b92f0f78df97.py', 'params_url': 'http://localhost:8844/media/uploads/2022/03/30/aggregated_params_056ee514-53b8-46d3-9461-9a5d86db2ff3.pt', 'model_class': 'SGDRegressorTrainingPlan', 'training_data': {'node_ad006bab-e62d-4745-948c-604a37b7f170': ['dataset_1862e7b1-6ec9-4521-9b8b-8e6ca3f40f71']}} \n",
      " -----------------------------------------------------------------\n",
      "2022-03-30 15:41:33,052 fedbiomed DEBUG - researcher_ad3c024c-fb12-4ca1-9204-0f6b9220bed8\n",
      "2022-03-30 15:41:33,084 fedbiomed INFO - \u001b[1mINFO\u001b[0m\n",
      "\t\t\t\t\t\u001b[1m NODE\u001b[0m node_ad006bab-e62d-4745-948c-604a37b7f170\n",
      "\t\t\t\t\t\u001b[1m MESSAGE:\u001b[0m training with arguments {'history_monitor': <fedbiomed.node.history_monitor.HistoryMonitor object at 0x7fd9ce91a100>, 'node_args': {'gpu': False, 'gpu_num': None, 'gpu_only': False}, 'epochs': 5}\u001b[0m\n",
      "-----------------------------------------------------------------\n",
      "2022-03-30 15:41:33,087 fedbiomed INFO - \u001b[1mTESTING ON GLOBAL UPDATES\u001b[0m \n",
      "\t\t\t\t\t NODE_ID: node_ad006bab-e62d-4745-948c-604a37b7f170 \n",
      "\t\t\t\t\t Completed: 90/90 (100%) \n",
      " \t\t\t\t\t MEAN_ABSOLUTE_ERROR_1: \u001b[1m3.999048\u001b[0m \n",
      "\t\t\t\t\t ---------\n",
      "2022-03-30 15:41:33,088 fedbiomed INFO - \u001b[1mTRAINING\u001b[0m \n",
      "\t\t\t\t\t NODE_ID: node_ad006bab-e62d-4745-948c-604a37b7f170 \n",
      "\t\t\t\t\t Epoch: 0 | Completed: 210/210 (100%) \n",
      " \t\t\t\t\t Loss squared_loss: \u001b[1m10.753114\u001b[0m \n",
      "\t\t\t\t\t ---------\n",
      "2022-03-30 15:41:33,090 fedbiomed INFO - \u001b[1mTRAINING\u001b[0m \n",
      "\t\t\t\t\t NODE_ID: node_ad006bab-e62d-4745-948c-604a37b7f170 \n",
      "\t\t\t\t\t Epoch: 1 | Completed: 210/210 (100%) \n",
      " \t\t\t\t\t Loss squared_loss: \u001b[1m8.117711\u001b[0m \n",
      "\t\t\t\t\t ---------\n",
      "2022-03-30 15:41:33,091 fedbiomed INFO - \u001b[1mTRAINING\u001b[0m \n",
      "\t\t\t\t\t NODE_ID: node_ad006bab-e62d-4745-948c-604a37b7f170 \n",
      "\t\t\t\t\t Epoch: 2 | Completed: 210/210 (100%) \n",
      " \t\t\t\t\t Loss squared_loss: \u001b[1m6.441521\u001b[0m \n",
      "\t\t\t\t\t ---------\n",
      "2022-03-30 15:41:33,093 fedbiomed INFO - \u001b[1mTRAINING\u001b[0m \n",
      "\t\t\t\t\t NODE_ID: node_ad006bab-e62d-4745-948c-604a37b7f170 \n",
      "\t\t\t\t\t Epoch: 3 | Completed: 210/210 (100%) \n",
      " \t\t\t\t\t Loss squared_loss: \u001b[1m5.307361\u001b[0m \n",
      "\t\t\t\t\t ---------\n",
      "2022-03-30 15:41:33,095 fedbiomed INFO - \u001b[1mTRAINING\u001b[0m \n",
      "\t\t\t\t\t NODE_ID: node_ad006bab-e62d-4745-948c-604a37b7f170 \n",
      "\t\t\t\t\t Epoch: 4 | Completed: 210/210 (100%) \n",
      " \t\t\t\t\t Loss squared_loss: \u001b[1m4.517293\u001b[0m \n",
      "\t\t\t\t\t ---------\n",
      "2022-03-30 15:41:33,096 fedbiomed INFO - \u001b[1mTESTING ON LOCAL UPDATES\u001b[0m \n",
      "\t\t\t\t\t NODE_ID: node_ad006bab-e62d-4745-948c-604a37b7f170 \n",
      "\t\t\t\t\t Completed: 90/90 (100%) \n",
      " \t\t\t\t\t MEAN_ABSOLUTE_ERROR_1: \u001b[1m2.018516\u001b[0m \n",
      "\t\t\t\t\t ---------\n",
      "2022-03-30 15:41:33,121 fedbiomed INFO - \u001b[1mINFO\u001b[0m\n",
      "\t\t\t\t\t\u001b[1m NODE\u001b[0m node_ad006bab-e62d-4745-948c-604a37b7f170\n",
      "\t\t\t\t\t\u001b[1m MESSAGE:\u001b[0m results uploaded successfully \u001b[0m\n",
      "-----------------------------------------------------------------\n",
      "2022-03-30 15:41:43,064 fedbiomed INFO - Downloading model params after training on node_ad006bab-e62d-4745-948c-604a37b7f170 - from http://localhost:8844/media/uploads/2022/03/30/node_params_78694ce8-74bf-42cc-bf6a-b71eaffa7a4d.pt\n"
     ]
    },
    {
     "name": "stderr",
     "output_type": "stream",
     "text": [
      "2022-03-30 15:41:43,081 fedbiomed DEBUG - upload (HTTP GET request) of file node_params_1eab810c-aecc-4822-b798-aa675d2daaaf.pt successful, with status code 200\n",
      "2022-03-30 15:41:43,089 fedbiomed INFO - Nodes that successfully reply in round 1 ['node_ad006bab-e62d-4745-948c-604a37b7f170']\n",
      "2022-03-30 15:41:43,141 fedbiomed DEBUG - upload (HTTP POST request) of file /home/scansiz/Desktop/Inria/development/fedbiomed/var/experiments/Experiment_0015/aggregated_params_afef7da6-ad45-4e50-9a40-b776fe321d0d.pt successful, with status code 201\n",
      "2022-03-30 15:41:43,142 fedbiomed INFO - Saved aggregated params for round 1 in /home/scansiz/Desktop/Inria/development/fedbiomed/var/experiments/Experiment_0015/aggregated_params_afef7da6-ad45-4e50-9a40-b776fe321d0d.pt\n",
      "2022-03-30 15:41:43,143 fedbiomed INFO - Sampled nodes in round 2 ['node_ad006bab-e62d-4745-948c-604a37b7f170']\n",
      "2022-03-30 15:41:43,143 fedbiomed INFO - \u001b[1mSending request\u001b[0m \n",
      "\t\t\t\t\t\u001b[1m To\u001b[0m: node_ad006bab-e62d-4745-948c-604a37b7f170 \n",
      "\t\t\t\t\t\u001b[1m Reqeust: \u001b[0m: Perform training with the arguments: {'researcher_id': 'researcher_ad3c024c-fb12-4ca1-9204-0f6b9220bed8', 'job_id': 'fc5d295b-cb28-4c2a-95d8-ed9b7fb8f505', 'training_args': {'test_ratio': 0.3, 'test_on_local_updates': True, 'test_on_global_updates': True, 'test_metric': 'MEAN_ABSOLUTE_ERROR', 'test_metric_args': {}, 'epochs': 5}, 'training': True, 'model_args': {'max_iter': 2000, 'tol': 1e-05, 'eta0': 0.05, 'model': 'SGDRegressor', 'n_features': 8, 'random_state': 1234, 'verbose': 1}, 'command': 'train', 'model_url': 'http://localhost:8844/media/uploads/2022/03/30/my_model_b5787bea-68cd-47e4-ab88-b92f0f78df97.py', 'params_url': 'http://localhost:8844/media/uploads/2022/03/30/aggregated_params_afef7da6-ad45-4e50-9a40-b776fe321d0d.pt', 'model_class': 'SGDRegressorTrainingPlan', 'training_data': {'node_ad006bab-e62d-4745-948c-604a37b7f170': ['dataset_1862e7b1-6ec9-4521-9b8b-8e6ca3f40f71']}} \n",
      " -----------------------------------------------------------------\n",
      "2022-03-30 15:41:43,144 fedbiomed DEBUG - researcher_ad3c024c-fb12-4ca1-9204-0f6b9220bed8\n",
      "2022-03-30 15:41:43,164 fedbiomed INFO - \u001b[1mINFO\u001b[0m\n",
      "\t\t\t\t\t\u001b[1m NODE\u001b[0m node_ad006bab-e62d-4745-948c-604a37b7f170\n",
      "\t\t\t\t\t\u001b[1m MESSAGE:\u001b[0m training with arguments {'history_monitor': <fedbiomed.node.history_monitor.HistoryMonitor object at 0x7fda687288b0>, 'node_args': {'gpu': False, 'gpu_num': None, 'gpu_only': False}, 'epochs': 5}\u001b[0m\n",
      "-----------------------------------------------------------------\n",
      "2022-03-30 15:41:43,165 fedbiomed INFO - \u001b[1mTESTING ON GLOBAL UPDATES\u001b[0m \n",
      "\t\t\t\t\t NODE_ID: node_ad006bab-e62d-4745-948c-604a37b7f170 \n",
      "\t\t\t\t\t Completed: 90/90 (100%) \n",
      " \t\t\t\t\t MEAN_ABSOLUTE_ERROR_1: \u001b[1m1.870017\u001b[0m \n",
      "\t\t\t\t\t ---------\n",
      "2022-03-30 15:41:43,166 fedbiomed INFO - \u001b[1mTRAINING\u001b[0m \n",
      "\t\t\t\t\t NODE_ID: node_ad006bab-e62d-4745-948c-604a37b7f170 \n",
      "\t\t\t\t\t Epoch: 0 | Completed: 210/210 (100%) \n",
      " \t\t\t\t\t Loss squared_loss: \u001b[1m4.353058\u001b[0m \n",
      "\t\t\t\t\t ---------\n",
      "2022-03-30 15:41:43,168 fedbiomed INFO - \u001b[1mTRAINING\u001b[0m \n",
      "\t\t\t\t\t NODE_ID: node_ad006bab-e62d-4745-948c-604a37b7f170 \n",
      "\t\t\t\t\t Epoch: 1 | Completed: 210/210 (100%) \n",
      " \t\t\t\t\t Loss squared_loss: \u001b[1m3.969162\u001b[0m \n",
      "\t\t\t\t\t ---------\n",
      "2022-03-30 15:41:43,169 fedbiomed INFO - \u001b[1mTRAINING\u001b[0m \n",
      "\t\t\t\t\t NODE_ID: node_ad006bab-e62d-4745-948c-604a37b7f170 \n",
      "\t\t\t\t\t Epoch: 2 | Completed: 210/210 (100%) \n",
      " \t\t\t\t\t Loss squared_loss: \u001b[1m3.648374\u001b[0m \n",
      "\t\t\t\t\t ---------\n",
      "2022-03-30 15:41:43,170 fedbiomed INFO - \u001b[1mTRAINING\u001b[0m \n",
      "\t\t\t\t\t NODE_ID: node_ad006bab-e62d-4745-948c-604a37b7f170 \n",
      "\t\t\t\t\t Epoch: 3 | Completed: 210/210 (100%) \n",
      " \t\t\t\t\t Loss squared_loss: \u001b[1m3.423871\u001b[0m \n",
      "\t\t\t\t\t ---------\n",
      "2022-03-30 15:41:43,171 fedbiomed INFO - \u001b[1mTRAINING\u001b[0m \n",
      "\t\t\t\t\t NODE_ID: node_ad006bab-e62d-4745-948c-604a37b7f170 \n",
      "\t\t\t\t\t Epoch: 4 | Completed: 210/210 (100%) \n",
      " \t\t\t\t\t Loss squared_loss: \u001b[1m3.261494\u001b[0m \n",
      "\t\t\t\t\t ---------\n",
      "2022-03-30 15:41:43,173 fedbiomed INFO - \u001b[1mTESTING ON LOCAL UPDATES\u001b[0m \n",
      "\t\t\t\t\t NODE_ID: node_ad006bab-e62d-4745-948c-604a37b7f170 \n",
      "\t\t\t\t\t Completed: 90/90 (100%) \n",
      " \t\t\t\t\t MEAN_ABSOLUTE_ERROR_1: \u001b[1m1.939016\u001b[0m \n",
      "\t\t\t\t\t ---------\n",
      "2022-03-30 15:41:43,189 fedbiomed INFO - \u001b[1mINFO\u001b[0m\n",
      "\t\t\t\t\t\u001b[1m NODE\u001b[0m node_ad006bab-e62d-4745-948c-604a37b7f170\n",
      "\t\t\t\t\t\u001b[1m MESSAGE:\u001b[0m results uploaded successfully \u001b[0m\n",
      "-----------------------------------------------------------------\n",
      "2022-03-30 15:41:53,156 fedbiomed INFO - Downloading model params after training on node_ad006bab-e62d-4745-948c-604a37b7f170 - from http://localhost:8844/media/uploads/2022/03/30/node_params_efc19e0d-e2fc-43fd-bf3c-4ca53ac4915a.pt\n",
      "2022-03-30 15:41:53,173 fedbiomed DEBUG - upload (HTTP GET request) of file node_params_f31bfa80-9ce1-4dea-8f67-bb4e20b54313.pt successful, with status code 200\n",
      "2022-03-30 15:41:53,181 fedbiomed INFO - Nodes that successfully reply in round 2 ['node_ad006bab-e62d-4745-948c-604a37b7f170']\n",
      "2022-03-30 15:41:53,237 fedbiomed DEBUG - upload (HTTP POST request) of file /home/scansiz/Desktop/Inria/development/fedbiomed/var/experiments/Experiment_0015/aggregated_params_18a00fd2-7e10-40b4-8d6f-f09bed98384a.pt successful, with status code 201\n",
      "2022-03-30 15:41:53,238 fedbiomed INFO - Saved aggregated params for round 2 in /home/scansiz/Desktop/Inria/development/fedbiomed/var/experiments/Experiment_0015/aggregated_params_18a00fd2-7e10-40b4-8d6f-f09bed98384a.pt\n",
      "2022-03-30 15:41:53,239 fedbiomed INFO - Sampled nodes in round 3 ['node_ad006bab-e62d-4745-948c-604a37b7f170']\n",
      "2022-03-30 15:41:53,240 fedbiomed INFO - \u001b[1mSending request\u001b[0m \n",
      "\t\t\t\t\t\u001b[1m To\u001b[0m: node_ad006bab-e62d-4745-948c-604a37b7f170 \n",
      "\t\t\t\t\t\u001b[1m Reqeust: \u001b[0m: Perform training with the arguments: {'researcher_id': 'researcher_ad3c024c-fb12-4ca1-9204-0f6b9220bed8', 'job_id': 'fc5d295b-cb28-4c2a-95d8-ed9b7fb8f505', 'training_args': {'test_ratio': 0.3, 'test_on_local_updates': True, 'test_on_global_updates': True, 'test_metric': 'MEAN_ABSOLUTE_ERROR', 'test_metric_args': {}, 'epochs': 5}, 'training': True, 'model_args': {'max_iter': 2000, 'tol': 1e-05, 'eta0': 0.05, 'model': 'SGDRegressor', 'n_features': 8, 'random_state': 1234, 'verbose': 1}, 'command': 'train', 'model_url': 'http://localhost:8844/media/uploads/2022/03/30/my_model_b5787bea-68cd-47e4-ab88-b92f0f78df97.py', 'params_url': 'http://localhost:8844/media/uploads/2022/03/30/aggregated_params_18a00fd2-7e10-40b4-8d6f-f09bed98384a.pt', 'model_class': 'SGDRegressorTrainingPlan', 'training_data': {'node_ad006bab-e62d-4745-948c-604a37b7f170': ['dataset_1862e7b1-6ec9-4521-9b8b-8e6ca3f40f71']}} \n",
      " -----------------------------------------------------------------\n",
      "2022-03-30 15:41:53,240 fedbiomed DEBUG - researcher_ad3c024c-fb12-4ca1-9204-0f6b9220bed8\n",
      "2022-03-30 15:41:53,266 fedbiomed INFO - \u001b[1mINFO\u001b[0m\n",
      "\t\t\t\t\t\u001b[1m NODE\u001b[0m node_ad006bab-e62d-4745-948c-604a37b7f170\n",
      "\t\t\t\t\t\u001b[1m MESSAGE:\u001b[0m training with arguments {'history_monitor': <fedbiomed.node.history_monitor.HistoryMonitor object at 0x7fda678508b0>, 'node_args': {'gpu': False, 'gpu_num': None, 'gpu_only': False}, 'epochs': 5}\u001b[0m\n",
      "-----------------------------------------------------------------\n",
      "2022-03-30 15:41:53,267 fedbiomed INFO - \u001b[1mTESTING ON GLOBAL UPDATES\u001b[0m \n",
      "\t\t\t\t\t NODE_ID: node_ad006bab-e62d-4745-948c-604a37b7f170 \n",
      "\t\t\t\t\t Completed: 90/90 (100%) \n",
      " \t\t\t\t\t MEAN_ABSOLUTE_ERROR_1: \u001b[1m2.004746\u001b[0m \n",
      "\t\t\t\t\t ---------\n",
      "2022-03-30 15:41:53,268 fedbiomed INFO - \u001b[1mTRAINING\u001b[0m \n",
      "\t\t\t\t\t NODE_ID: node_ad006bab-e62d-4745-948c-604a37b7f170 \n",
      "\t\t\t\t\t Epoch: 0 | Completed: 210/210 (100%) \n",
      " \t\t\t\t\t Loss squared_loss: \u001b[1m2.882230\u001b[0m \n",
      "\t\t\t\t\t ---------\n",
      "2022-03-30 15:41:53,268 fedbiomed INFO - \u001b[1mTRAINING\u001b[0m \n",
      "\t\t\t\t\t NODE_ID: node_ad006bab-e62d-4745-948c-604a37b7f170 \n",
      "\t\t\t\t\t Epoch: 1 | Completed: 210/210 (100%) \n",
      " \t\t\t\t\t Loss squared_loss: \u001b[1m2.765040\u001b[0m \n",
      "\t\t\t\t\t ---------\n",
      "2022-03-30 15:41:53,270 fedbiomed INFO - \u001b[1mTRAINING\u001b[0m \n",
      "\t\t\t\t\t NODE_ID: node_ad006bab-e62d-4745-948c-604a37b7f170 \n",
      "\t\t\t\t\t Epoch: 2 | Completed: 210/210 (100%) \n",
      " \t\t\t\t\t Loss squared_loss: \u001b[1m2.689051\u001b[0m \n",
      "\t\t\t\t\t ---------\n",
      "2022-03-30 15:41:53,271 fedbiomed INFO - \u001b[1mTRAINING\u001b[0m \n",
      "\t\t\t\t\t NODE_ID: node_ad006bab-e62d-4745-948c-604a37b7f170 \n",
      "\t\t\t\t\t Epoch: 3 | Completed: 210/210 (100%) \n",
      " \t\t\t\t\t Loss squared_loss: \u001b[1m2.627542\u001b[0m \n",
      "\t\t\t\t\t ---------\n",
      "2022-03-30 15:41:53,272 fedbiomed INFO - \u001b[1mTRAINING\u001b[0m \n",
      "\t\t\t\t\t NODE_ID: node_ad006bab-e62d-4745-948c-604a37b7f170 \n",
      "\t\t\t\t\t Epoch: 4 | Completed: 210/210 (100%) \n",
      " \t\t\t\t\t Loss squared_loss: \u001b[1m2.577188\u001b[0m \n",
      "\t\t\t\t\t ---------\n"
     ]
    },
    {
     "name": "stderr",
     "output_type": "stream",
     "text": [
      "2022-03-30 15:41:53,274 fedbiomed INFO - \u001b[1mTESTING ON LOCAL UPDATES\u001b[0m \n",
      "\t\t\t\t\t NODE_ID: node_ad006bab-e62d-4745-948c-604a37b7f170 \n",
      "\t\t\t\t\t Completed: 90/90 (100%) \n",
      " \t\t\t\t\t MEAN_ABSOLUTE_ERROR_1: \u001b[1m2.031455\u001b[0m \n",
      "\t\t\t\t\t ---------\n",
      "2022-03-30 15:41:53,295 fedbiomed INFO - \u001b[1mINFO\u001b[0m\n",
      "\t\t\t\t\t\u001b[1m NODE\u001b[0m node_ad006bab-e62d-4745-948c-604a37b7f170\n",
      "\t\t\t\t\t\u001b[1m MESSAGE:\u001b[0m results uploaded successfully \u001b[0m\n",
      "-----------------------------------------------------------------\n",
      "2022-03-30 15:42:03,253 fedbiomed INFO - Downloading model params after training on node_ad006bab-e62d-4745-948c-604a37b7f170 - from http://localhost:8844/media/uploads/2022/03/30/node_params_24e3aca4-5dae-4807-8e7d-20d61a743e17.pt\n",
      "2022-03-30 15:42:03,270 fedbiomed DEBUG - upload (HTTP GET request) of file node_params_a83cf280-1b89-41b3-86da-203c56e7b4af.pt successful, with status code 200\n",
      "2022-03-30 15:42:03,280 fedbiomed INFO - Nodes that successfully reply in round 3 ['node_ad006bab-e62d-4745-948c-604a37b7f170']\n",
      "2022-03-30 15:42:03,309 fedbiomed DEBUG - upload (HTTP POST request) of file /home/scansiz/Desktop/Inria/development/fedbiomed/var/experiments/Experiment_0015/aggregated_params_ee9beb48-3d31-4e35-a781-699add768cae.pt successful, with status code 201\n",
      "2022-03-30 15:42:03,310 fedbiomed INFO - Saved aggregated params for round 3 in /home/scansiz/Desktop/Inria/development/fedbiomed/var/experiments/Experiment_0015/aggregated_params_ee9beb48-3d31-4e35-a781-699add768cae.pt\n",
      "2022-03-30 15:42:03,311 fedbiomed INFO - Sampled nodes in round 4 ['node_ad006bab-e62d-4745-948c-604a37b7f170']\n",
      "2022-03-30 15:42:03,311 fedbiomed INFO - \u001b[1mSending request\u001b[0m \n",
      "\t\t\t\t\t\u001b[1m To\u001b[0m: node_ad006bab-e62d-4745-948c-604a37b7f170 \n",
      "\t\t\t\t\t\u001b[1m Reqeust: \u001b[0m: Perform training with the arguments: {'researcher_id': 'researcher_ad3c024c-fb12-4ca1-9204-0f6b9220bed8', 'job_id': 'fc5d295b-cb28-4c2a-95d8-ed9b7fb8f505', 'training_args': {'test_ratio': 0.3, 'test_on_local_updates': True, 'test_on_global_updates': True, 'test_metric': 'MEAN_ABSOLUTE_ERROR', 'test_metric_args': {}, 'epochs': 5}, 'training': True, 'model_args': {'max_iter': 2000, 'tol': 1e-05, 'eta0': 0.05, 'model': 'SGDRegressor', 'n_features': 8, 'random_state': 1234, 'verbose': 1}, 'command': 'train', 'model_url': 'http://localhost:8844/media/uploads/2022/03/30/my_model_b5787bea-68cd-47e4-ab88-b92f0f78df97.py', 'params_url': 'http://localhost:8844/media/uploads/2022/03/30/aggregated_params_ee9beb48-3d31-4e35-a781-699add768cae.pt', 'model_class': 'SGDRegressorTrainingPlan', 'training_data': {'node_ad006bab-e62d-4745-948c-604a37b7f170': ['dataset_1862e7b1-6ec9-4521-9b8b-8e6ca3f40f71']}} \n",
      " -----------------------------------------------------------------\n",
      "2022-03-30 15:42:03,312 fedbiomed DEBUG - researcher_ad3c024c-fb12-4ca1-9204-0f6b9220bed8\n",
      "2022-03-30 15:42:03,335 fedbiomed INFO - \u001b[1mINFO\u001b[0m\n",
      "\t\t\t\t\t\u001b[1m NODE\u001b[0m node_ad006bab-e62d-4745-948c-604a37b7f170\n",
      "\t\t\t\t\t\u001b[1m MESSAGE:\u001b[0m training with arguments {'history_monitor': <fedbiomed.node.history_monitor.HistoryMonitor object at 0x7fda678628b0>, 'node_args': {'gpu': False, 'gpu_num': None, 'gpu_only': False}, 'epochs': 5}\u001b[0m\n",
      "-----------------------------------------------------------------\n",
      "2022-03-30 15:42:03,376 fedbiomed INFO - \u001b[1mTESTING ON GLOBAL UPDATES\u001b[0m \n",
      "\t\t\t\t\t NODE_ID: node_ad006bab-e62d-4745-948c-604a37b7f170 \n",
      "\t\t\t\t\t Completed: 90/90 (100%) \n",
      " \t\t\t\t\t MEAN_ABSOLUTE_ERROR_1: \u001b[1m1.968880\u001b[0m \n",
      "\t\t\t\t\t ---------\n",
      "2022-03-30 15:42:03,377 fedbiomed INFO - \u001b[1mTRAINING\u001b[0m \n",
      "\t\t\t\t\t NODE_ID: node_ad006bab-e62d-4745-948c-604a37b7f170 \n",
      "\t\t\t\t\t Epoch: 0 | Completed: 210/210 (100%) \n",
      " \t\t\t\t\t Loss squared_loss: \u001b[1m2.825821\u001b[0m \n",
      "\t\t\t\t\t ---------\n",
      "2022-03-30 15:42:03,378 fedbiomed INFO - \u001b[1mTRAINING\u001b[0m \n",
      "\t\t\t\t\t NODE_ID: node_ad006bab-e62d-4745-948c-604a37b7f170 \n",
      "\t\t\t\t\t Epoch: 1 | Completed: 210/210 (100%) \n",
      " \t\t\t\t\t Loss squared_loss: \u001b[1m2.772780\u001b[0m \n",
      "\t\t\t\t\t ---------\n",
      "2022-03-30 15:42:03,380 fedbiomed INFO - \u001b[1mTRAINING\u001b[0m \n",
      "\t\t\t\t\t NODE_ID: node_ad006bab-e62d-4745-948c-604a37b7f170 \n",
      "\t\t\t\t\t Epoch: 2 | Completed: 210/210 (100%) \n",
      " \t\t\t\t\t Loss squared_loss: \u001b[1m2.737489\u001b[0m \n",
      "\t\t\t\t\t ---------\n",
      "2022-03-30 15:42:03,381 fedbiomed INFO - \u001b[1mTRAINING\u001b[0m \n",
      "\t\t\t\t\t NODE_ID: node_ad006bab-e62d-4745-948c-604a37b7f170 \n",
      "\t\t\t\t\t Epoch: 3 | Completed: 210/210 (100%) \n",
      " \t\t\t\t\t Loss squared_loss: \u001b[1m2.705995\u001b[0m \n",
      "\t\t\t\t\t ---------\n",
      "2022-03-30 15:42:03,382 fedbiomed INFO - \u001b[1mTRAINING\u001b[0m \n",
      "\t\t\t\t\t NODE_ID: node_ad006bab-e62d-4745-948c-604a37b7f170 \n",
      "\t\t\t\t\t Epoch: 4 | Completed: 210/210 (100%) \n",
      " \t\t\t\t\t Loss squared_loss: \u001b[1m2.678698\u001b[0m \n",
      "\t\t\t\t\t ---------\n",
      "2022-03-30 15:42:03,384 fedbiomed INFO - \u001b[1mTESTING ON LOCAL UPDATES\u001b[0m \n",
      "\t\t\t\t\t NODE_ID: node_ad006bab-e62d-4745-948c-604a37b7f170 \n",
      "\t\t\t\t\t Completed: 90/90 (100%) \n",
      " \t\t\t\t\t MEAN_ABSOLUTE_ERROR_1: \u001b[1m1.523418\u001b[0m \n",
      "\t\t\t\t\t ---------\n",
      "2022-03-30 15:42:03,385 fedbiomed INFO - \u001b[1mINFO\u001b[0m\n",
      "\t\t\t\t\t\u001b[1m NODE\u001b[0m node_ad006bab-e62d-4745-948c-604a37b7f170\n",
      "\t\t\t\t\t\u001b[1m MESSAGE:\u001b[0m results uploaded successfully \u001b[0m\n",
      "-----------------------------------------------------------------\n",
      "2022-03-30 15:42:13,324 fedbiomed INFO - Downloading model params after training on node_ad006bab-e62d-4745-948c-604a37b7f170 - from http://localhost:8844/media/uploads/2022/03/30/node_params_aa45e416-edc1-4808-b075-551cfc365aaf.pt\n",
      "2022-03-30 15:42:13,346 fedbiomed DEBUG - upload (HTTP GET request) of file node_params_71b5e15c-52a9-4fff-b220-3a86b8c62f65.pt successful, with status code 200\n",
      "2022-03-30 15:42:13,352 fedbiomed INFO - Nodes that successfully reply in round 4 ['node_ad006bab-e62d-4745-948c-604a37b7f170']\n",
      "2022-03-30 15:42:13,410 fedbiomed DEBUG - upload (HTTP POST request) of file /home/scansiz/Desktop/Inria/development/fedbiomed/var/experiments/Experiment_0015/aggregated_params_058671d3-1d3f-473d-be78-a007032b3cbe.pt successful, with status code 201\n",
      "2022-03-30 15:42:13,412 fedbiomed INFO - Saved aggregated params for round 4 in /home/scansiz/Desktop/Inria/development/fedbiomed/var/experiments/Experiment_0015/aggregated_params_058671d3-1d3f-473d-be78-a007032b3cbe.pt\n",
      "2022-03-30 15:42:13,415 fedbiomed INFO - \u001b[1mSending request\u001b[0m \n",
      "\t\t\t\t\t\u001b[1m To\u001b[0m: node_ad006bab-e62d-4745-948c-604a37b7f170 \n",
      "\t\t\t\t\t\u001b[1m Reqeust: \u001b[0m:Perform final testing on aggregated parameters \n",
      " -----------------------------------------------------------------\n",
      "2022-03-30 15:42:13,417 fedbiomed DEBUG - researcher_ad3c024c-fb12-4ca1-9204-0f6b9220bed8\n",
      "2022-03-30 15:42:13,483 fedbiomed INFO - \u001b[1mINFO\u001b[0m\n",
      "\t\t\t\t\t\u001b[1m NODE\u001b[0m node_ad006bab-e62d-4745-948c-604a37b7f170\n",
      "\t\t\t\t\t\u001b[1m MESSAGE:\u001b[0m training with arguments {'history_monitor': <fedbiomed.node.history_monitor.HistoryMonitor object at 0x7fda67861ca0>, 'node_args': {'gpu': False, 'gpu_num': None, 'gpu_only': False}, 'epochs': 5}\u001b[0m\n",
      "-----------------------------------------------------------------\n",
      "2022-03-30 15:42:13,485 fedbiomed INFO - \u001b[1mTESTING ON GLOBAL UPDATES\u001b[0m \n",
      "\t\t\t\t\t NODE_ID: node_ad006bab-e62d-4745-948c-604a37b7f170 \n",
      "\t\t\t\t\t Completed: 90/90 (100%) \n",
      " \t\t\t\t\t MEAN_ABSOLUTE_ERROR_1: \u001b[1m1.414205\u001b[0m \n",
      "\t\t\t\t\t ---------\n"
     ]
    },
    {
     "data": {
      "text/plain": [
       "5"
      ]
     },
     "execution_count": 11,
     "metadata": {},
     "output_type": "execute_result"
    },
    {
     "name": "stderr",
     "output_type": "stream",
     "text": [
      "2022-03-30 15:43:11,614 fedbiomed INFO - \u001b[1mCRITICAL\u001b[0m\n",
      "\t\t\t\t\t\u001b[1m NODE\u001b[0m node_ad006bab-e62d-4745-948c-604a37b7f170\n",
      "\t\t\t\t\t\u001b[1m MESSAGE:\u001b[0m Node stopped in signal_handler, probably by user decision (Ctrl C)\u001b[0m\n",
      "-----------------------------------------------------------------\n",
      "2022-03-30 15:43:11,826 fedbiomed INFO - \u001b[1mCRITICAL\u001b[0m\n",
      "\t\t\t\t\t\u001b[1m NODE\u001b[0m node_ad006bab-e62d-4745-948c-604a37b7f170\n",
      "\t\t\t\t\t\u001b[1m MESSAGE:\u001b[0m Node stopped in signal_handler, probably by user decision (Ctrl C)\u001b[0m\n",
      "-----------------------------------------------------------------\n"
     ]
    }
   ],
   "source": [
    "# start federated training\n",
    "exp.run()"
   ]
  },
  {
   "cell_type": "markdown",
   "id": "88e2a782",
   "metadata": {},
   "source": [
    "##  Testing\n",
    "\n",
    "Once the federated model is obtained, it is possible to test it locally on an independent testing partition.\n",
    "The test dataset is available at this link:\n",
    "\n",
    "https://drive.google.com/file/d/1zNUGp6TMn6WSKYVC8FQiQ9lJAUdasxk1/"
   ]
  },
  {
   "cell_type": "code",
   "execution_count": null,
   "id": "b5335f2d",
   "metadata": {},
   "outputs": [],
   "source": [
    "!pip install matplotlib\n",
    "!pip install gdown"
   ]
  },
  {
   "cell_type": "markdown",
   "id": "3bc6d9b2",
   "metadata": {},
   "source": [
    "Download the testing dataset on the local temporary folder."
   ]
  },
  {
   "cell_type": "code",
   "execution_count": null,
   "id": "8500a4f0",
   "metadata": {},
   "outputs": [],
   "source": [
    "import os\n",
    "import gdown\n",
    "import tempfile\n",
    "import zipfile\n",
    "\n",
    "resource = \"https://drive.google.com/uc?id=19kxuI146WA2fhcOU2_AvF8dy-ppJkzW7\"\n",
    "base_dir = tempfile.TemporaryDirectory(dir=environ['TMP_DIR']).name\n",
    "\n",
    "test_file = os.path.join(base_dir, \"test_data.zip\")\n",
    "gdown.download(resource, test_file, quiet=False)\n",
    "\n",
    "zf = zipfile.ZipFile(test_file)\n",
    "\n",
    "for file in zf.infolist():\n",
    "    zf.extract(file, base_dir)\n"
   ]
  },
  {
   "cell_type": "code",
   "execution_count": null,
   "id": "35bdc3a2",
   "metadata": {},
   "outputs": [],
   "source": [
    "import pandas as pd\n",
    "import numpy as np\n",
    "\n",
    "\n",
    "# loading testing dataset\n",
    "test_data = pd.read_csv(os.path.join(base_dir,'adni_validation.csv'))"
   ]
  },
  {
   "cell_type": "code",
   "execution_count": null,
   "id": "91f579d5",
   "metadata": {},
   "outputs": [],
   "source": [
    "from sklearn.linear_model import SGDRegressor\n",
    "import matplotlib.pyplot as plt"
   ]
  },
  {
   "cell_type": "code",
   "execution_count": null,
   "id": "d73be6dd",
   "metadata": {},
   "outputs": [],
   "source": [
    "%matplotlib inline"
   ]
  },
  {
   "cell_type": "markdown",
   "id": "7fb078c6",
   "metadata": {},
   "source": [
    "Here we extract the relevant regressors and target from the testing data "
   ]
  },
  {
   "cell_type": "code",
   "execution_count": null,
   "id": "05ca90a2",
   "metadata": {},
   "outputs": [],
   "source": [
    "regressors_col = ['SEX', 'AGE', 'PTEDUCAT', 'WholeBrain.bl', 'Ventricles.bl',\n",
    "                  'Hippocampus.bl', 'MidTemp.bl', 'Entorhinal.bl']\n",
    "target_col = ['MMSE.bl']\n",
    "X_test = test_data[regressors_col].values\n",
    "y_test = test_data[target_col].values"
   ]
  },
  {
   "cell_type": "markdown",
   "id": "63e6d380",
   "metadata": {},
   "source": [
    "To inspect the model evolution across FL rounds, we export `exp.aggregated_params()` containing models parameters collected at the end of each round. The MSE (Mean Squarred Error) should be decreasing at each iteration with the federated parameters obtained at each round. "
   ]
  },
  {
   "cell_type": "code",
   "execution_count": null,
   "id": "6edb32ed",
   "metadata": {},
   "outputs": [],
   "source": [
    "scaling_mean = np.array([0.8, 72.3, 16.2, 0.7, 0.0, 0.0, 0.0, 0.0])\n",
    "scaling_sd = np.array([3.5e-01, 7.3e+00, 2.7e+00, 5.0e-02, 1.1e-02, 1.0e-03, 2.0e-03, 1.0e-03])\n",
    "\n",
    "testing_error = []\n",
    "\n",
    "\n",
    "# we create here several instances of SGDRegressor using same sklearn arguments\n",
    "# we have used for Federated Learning training\n",
    "fed_model = SGDRegressor()\n",
    "regressor_args = {key: model_args[key] for key in model_args.keys() if key in fed_model.get_params().keys()}\n",
    "\n",
    "for i in range(rounds):\n",
    "    fed_model = SGDRegressor()\n",
    "    fed_model.set_params(**regressor_args)\n",
    "    fed_model.coef_ = exp.aggregated_params()[i]['params']['coef_'].copy()\n",
    "    fed_model.intercept_ = exp.aggregated_params()[i]['params']['intercept_'].copy()  \n",
    "    mse = np.mean((fed_model.predict((X_test-scaling_mean)/scaling_sd) - y_test)**2)\n",
    "    testing_error.append(mse)\n",
    "\n",
    "plt.plot(testing_error)\n",
    "plt.title('FL testing loss')\n",
    "plt.xlabel('FL round')\n",
    "plt.ylabel('testing loss (MSE)')"
   ]
  },
  {
   "cell_type": "markdown",
   "id": "60406da1",
   "metadata": {},
   "source": [
    "We finally inspect the predictions of the final federated model on the testing data."
   ]
  },
  {
   "cell_type": "code",
   "execution_count": null,
   "id": "3191befa",
   "metadata": {},
   "outputs": [],
   "source": [
    "y_predicted = fed_model.predict((X_test-scaling_mean)/scaling_sd)\n",
    "plt.scatter(y_predicted, y_test, label='model prediction')\n",
    "plt.xlabel('predicted')\n",
    "plt.ylabel('target')\n",
    "plt.title('Federated model testing prediction')\n",
    "\n",
    "first_diag = np.arange(np.min(y_test.flatten()),\n",
    "                       np.max(y_test.flatten()+1))\n",
    "plt.scatter(first_diag, first_diag, label='correct Target')\n",
    "plt.legend()"
   ]
  },
  {
   "cell_type": "code",
   "execution_count": null,
   "id": "1e398dcc",
   "metadata": {},
   "outputs": [],
   "source": [
    "a = X_test / scaling_sd\n",
    "a.shape"
   ]
  },
  {
   "cell_type": "code",
   "execution_count": null,
   "id": "eb7af803",
   "metadata": {},
   "outputs": [],
   "source": [
    "X_test.shape"
   ]
  },
  {
   "cell_type": "code",
   "execution_count": null,
   "id": "3b2b38c1",
   "metadata": {
    "pycharm": {
     "name": "#%%\n"
    }
   },
   "outputs": [],
   "source": [
    "X_test[:,1] / scaling_sd[1] - a[:,1]"
   ]
  }
 ],
 "metadata": {
  "kernelspec": {
   "display_name": "Python 3 (ipykernel)",
   "language": "python",
   "name": "python3"
  },
  "language_info": {
   "codemirror_mode": {
    "name": "ipython",
    "version": 3
   },
   "file_extension": ".py",
   "mimetype": "text/x-python",
   "name": "python",
   "nbconvert_exporter": "python",
   "pygments_lexer": "ipython3",
   "version": "3.9.7"
  }
 },
 "nbformat": 4,
 "nbformat_minor": 5
}

{
 "cells": [
  {
   "cell_type": "markdown",
   "id": "64e87007",
   "metadata": {},
   "source": [
    "# Fedbiomed to train a federated SGD regressor model"
   ]
  },
  {
   "cell_type": "markdown",
   "id": "11c0bc07",
   "metadata": {},
   "source": [
    "## Data \n",
    "\n",
    "\n",
    "This tutorial shows how to deploy in Fed-BioMed to solve a federated regression problem with scikit-learn.\n",
    "\n",
    "In this tutorial we are using the wrapper of Fed-BioMed for the SGD regressor (https://scikit-learn.org/stable/modules/generated/sklearn.linear_model.SGDRegressor.html).\n",
    "The goal of the notebook is to train a model on a realistic dataset of (synthetic) medical information mimicking the ADNI dataset (http://adni.loni.usc.edu/). \n",
    "\n",
    "## Creating nodes\n",
    "\n",
    "To proceed with the tutorial, we create 3 clients with corresponding dataframes of clinical information in .csv format. Each client has 300 data points composed by several features corresponding to clinical and medical imaging informations. **The data is entirely synthetic and randomly sampled to mimick the variability of the real ADNI dataset**. The training partitions are availables at the following link:\n",
    "\n",
    "https://drive.google.com/file/d/1R39Ir60oQi8ZnmHoPz5CoGCrVIglcO9l/view?usp=sharing\n",
    "\n",
    "The federated task we aim at solve is to predict a clinical variable (the mini-mental state examinatio, MMSE) from a combination of demographic and imaging features. The regressors variables are the following features:\n",
    "\n",
    "['SEX', 'AGE', 'PTEDUCAT', 'WholeBrain.bl', 'Ventricles.bl', 'Hippocampus.bl', 'MidTemp.bl', 'Entorhinal.bl']\n",
    "\n",
    "and the target variable is:\n",
    "\n",
    "['MMSE.bl']\n",
    "    \n",
    "\n",
    "To create the federated dataset, we follow the standard procedure for node creation/population of Fed-BioMed. \n",
    "After activating the fedbiomed network with the commands\n",
    "\n",
    "`source ./scripts/fedbiomed_environment network`\n",
    "\n",
    "and \n",
    "\n",
    "`./scripts/fedbiomed_run network`\n",
    "\n",
    "we create a first node by using the commands\n",
    "\n",
    "`source ./scripts/fedbiomed_environment node`\n",
    "\n",
    "`./scripts/fedbiomed_run node start`\n",
    "\n",
    "We then poulate the node with the data of first client:\n",
    "\n",
    "`./scripts/fedbiomed_run node add`\n",
    "\n",
    "We select option 1 (csv) to add the .csv partition of client 1, by just picking the .csv of client 1. We use `adni` as tag to save the selected dataset. We can further check that the data has been added by executing `./scripts/fedbiomed_run node list`\n",
    "\n",
    "Following the same procedure, we create the other two nodes with the datasets of client 2 and client 3 respectively."
   ]
  },
  {
   "cell_type": "markdown",
   "id": "f5411d74",
   "metadata": {},
   "source": [
    "## Fed-BioMed Researcher\n",
    "\n",
    "We are now ready to start the reseracher enviroment with the command `source ./scripts/fedbiomed_environment researcher`, and open the Jupyter notebook with `./scripts/fedbiomed_run researcher`. \n",
    "\n",
    "We can first query the network for the adni dataset. In this case, the nodes are sharing the respective partitions unsing the same tag `adni`:"
   ]
  },
  {
   "cell_type": "code",
   "execution_count": 1,
   "id": "ade4cbea",
   "metadata": {},
   "outputs": [],
   "source": [
    "%load_ext autoreload\n",
    "%autoreload 2"
   ]
  },
  {
   "cell_type": "code",
   "execution_count": 2,
   "id": "fccd2a0b",
   "metadata": {},
   "outputs": [
    {
     "name": "stderr",
     "output_type": "stream",
     "text": [
      "2022-01-10 15:03:20,966 fedbiomed INFO - Component environment:\n",
      "2022-01-10 15:03:20,967 fedbiomed INFO - - type = ComponentType.RESEARCHER\n",
      "2022-01-10 15:03:21,298 fedbiomed INFO - Messaging researcher_a7319768-5c08-43f6-a819-9a487cb1cc02 successfully connected to the message broker, object = <fedbiomed.common.messaging.Messaging object at 0x103a311c0>\n",
      "2022-01-10 15:03:21,318 fedbiomed INFO - Listing available datasets in all nodes... \n",
      "2022-01-10 15:03:21,326 fedbiomed INFO - log from: node_c27b3141-213a-4221-9dcf-7e885a30738b / DEBUG - Message received: {'researcher_id': 'researcher_a7319768-5c08-43f6-a819-9a487cb1cc02', 'command': 'list'}\n",
      "2022-01-10 15:03:21,327 fedbiomed INFO - log from: node_ff1ad308-d26a-4c73-8ffc-87df03618014 / DEBUG - Message received: {'researcher_id': 'researcher_a7319768-5c08-43f6-a819-9a487cb1cc02', 'command': 'list'}\n",
      "2022-01-10 15:03:21,328 fedbiomed INFO - log from: node_0f5cb1d3-621f-45b9-9f45-4a38758e5ebf / DEBUG - Message received: {'researcher_id': 'researcher_a7319768-5c08-43f6-a819-9a487cb1cc02', 'command': 'list'}\n",
      "2022-01-10 15:03:31,331 fedbiomed INFO - \n",
      " Node: node_c27b3141-213a-4221-9dcf-7e885a30738b | Number of Datasets: 1 \n",
      "+--------+-------------+----------+---------------+-----------+\n",
      "| name   | data_type   | tags     | description   | shape     |\n",
      "+========+=============+==========+===============+===========+\n",
      "| adni   | csv         | ['adni'] | bla           | [300, 20] |\n",
      "+--------+-------------+----------+---------------+-----------+\n",
      "\n",
      "2022-01-10 15:03:31,332 fedbiomed INFO - \n",
      " Node: node_ff1ad308-d26a-4c73-8ffc-87df03618014 | Number of Datasets: 1 \n",
      "+--------+-------------+----------+---------------+-----------+\n",
      "| name   | data_type   | tags     | description   | shape     |\n",
      "+========+=============+==========+===============+===========+\n",
      "| adni   | csv         | ['adni'] | bla           | [300, 20] |\n",
      "+--------+-------------+----------+---------------+-----------+\n",
      "\n",
      "2022-01-10 15:03:31,333 fedbiomed INFO - \n",
      " Node: node_0f5cb1d3-621f-45b9-9f45-4a38758e5ebf | Number of Datasets: 1 \n",
      "+--------+-------------+----------+---------------+-----------+\n",
      "| name   | data_type   | tags     | description   | shape     |\n",
      "+========+=============+==========+===============+===========+\n",
      "| adni   | csv         | ['adni'] | bla           | [300, 20] |\n",
      "+--------+-------------+----------+---------------+-----------+\n",
      "\n"
     ]
    },
    {
     "data": {
      "text/plain": [
       "{'node_c27b3141-213a-4221-9dcf-7e885a30738b': [{'name': 'adni',\n",
       "   'data_type': 'csv',\n",
       "   'tags': ['adni'],\n",
       "   'description': 'bla',\n",
       "   'shape': [300, 20]}],\n",
       " 'node_ff1ad308-d26a-4c73-8ffc-87df03618014': [{'name': 'adni',\n",
       "   'data_type': 'csv',\n",
       "   'tags': ['adni'],\n",
       "   'description': 'bla',\n",
       "   'shape': [300, 20]}],\n",
       " 'node_0f5cb1d3-621f-45b9-9f45-4a38758e5ebf': [{'name': 'adni',\n",
       "   'data_type': 'csv',\n",
       "   'tags': ['adni'],\n",
       "   'description': 'bla',\n",
       "   'shape': [300, 20]}]}"
      ]
     },
     "execution_count": 2,
     "metadata": {},
     "output_type": "execute_result"
    }
   ],
   "source": [
    "from fedbiomed.researcher.requests import Requests\n",
    "req = Requests()\n",
    "req.list(verbose=True)"
   ]
  },
  {
   "cell_type": "code",
   "execution_count": 3,
   "id": "b8c80070",
   "metadata": {},
   "outputs": [],
   "source": [
    "import numpy as np\n",
    "from fedbiomed.researcher.environ import environ\n",
    "import tempfile\n",
    "tmp_dir_model = tempfile.TemporaryDirectory(dir=environ['TMP_DIR']+'/')\n",
    "model_file = tmp_dir_model.name + '/fedbiosklearn.py'"
   ]
  },
  {
   "cell_type": "markdown",
   "id": "b924bf21",
   "metadata": {},
   "source": [
    "## Create an experiment to train a model on the data found"
   ]
  },
  {
   "cell_type": "markdown",
   "id": "8e9aaa87",
   "metadata": {},
   "source": [
    "The code for network and data loader of the sklearn SGDRegressor can now be deployed in Fed-BioMed.\n",
    "We first import the necessary module `SGDSkLearnModel` from `fedbiomed`:\n",
    "\n",
    "**__init__** : we add here the needed sklearn libraries\n",
    "       \n",
    "**training_data** : you must return here the (X,y) that must be of the same type of \n",
    "your method partial_fit parameters. \n",
    "\n",
    "We note that this model performs a common standardization across federated datasets by **centering with respect to the same parameters**."
   ]
  },
  {
   "cell_type": "code",
   "execution_count": 4,
   "id": "f10cc76c",
   "metadata": {},
   "outputs": [
    {
     "name": "stdout",
     "output_type": "stream",
     "text": [
      "Writing /Users/mlorenzi/works/temp/fedbiomed/var/tmp/tmpgu33_tb6/fedbiosklearn.py\n"
     ]
    }
   ],
   "source": [
    "%%writefile \"$model_file\"\n",
    "\n",
    "from fedbiomed.common.fedbiosklearn import SGDSkLearnModel\n",
    "from sklearn.linear_model import SGDRegressor\n",
    "\n",
    "\n",
    "class SGDRegressorTrainingPlan(SGDSkLearnModel):\n",
    "    def __init__(self, kwargs):\n",
    "        super(SGDRegressorTrainingPlan, self).__init__(kwargs)\n",
    "        self.add_dependency([\"from sklearn.linear_model import SGDRegressor\"])\n",
    "    \n",
    "    def training_data(self):\n",
    "        NUMBER_COLS = 5\n",
    "        dataset = pd.read_csv(self.dataset_path,delimiter=',')\n",
    "        regressors_col = ['SEX', 'AGE', 'PTEDUCAT', 'WholeBrain.bl', 'Ventricles.bl', 'Hippocampus.bl', 'MidTemp.bl', 'Entorhinal.bl']\n",
    "        target_col = ['MMSE.bl']\n",
    "        \n",
    "        scaling_mean = np.array([0.8, 72.3, 16.2, 0.7, 0.0, 0.0, 0.0, 0.0])\n",
    "        scaling_sd = np.array([3.5e-01, 7.3e+00, 2.7e+00, 5.0e-02, 1.1e-02, 1.0e-03, 2.0e-03, 1.0e-03])\n",
    "        \n",
    "        X = (dataset[regressors_col].values-scaling_mean)/scaling_sd\n",
    "        y = dataset[target_col]\n",
    "        return (X,y.values.ravel())\n",
    "    "
   ]
  },
  {
   "cell_type": "markdown",
   "id": "69cda129",
   "metadata": {},
   "source": [
    "**model_args** is a dictionary containing your model arguments, in case of SGDRegressor this will be max_iter and tol. n_features is provided to correctly initialize the SGDRegressor coef_ array.\n",
    "\n",
    "**training_args** is a dictionary with parameters related to Federated Learning. "
   ]
  },
  {
   "cell_type": "code",
   "execution_count": 5,
   "id": "05aa5273",
   "metadata": {},
   "outputs": [],
   "source": [
    "model_args = { 'max_iter':1000, 'tol': 1e-3 , 'model': 'SGDRegressor' , 'n_features': 8}\n",
    "\n",
    "training_args = {\n",
    "    'epochs': 5, \n",
    "}"
   ]
  },
  {
   "cell_type": "markdown",
   "id": "9da2b46d",
   "metadata": {},
   "source": [
    "The experiment can be now defined, by providing the `adni` tag, and running the local training on nodes with model defined in `model_path`, standard `aggregator` (FedAvg) and `client_selection_strategy` (all nodes used). Federated learning is going to be perfomed through 10 optimization rounds."
   ]
  },
  {
   "cell_type": "code",
   "execution_count": 6,
   "id": "4b1a1341",
   "metadata": {},
   "outputs": [
    {
     "name": "stderr",
     "output_type": "stream",
     "text": [
      "2022-01-10 15:03:33,031 fedbiomed INFO - Searching dataset with data tags: ['adni'] for all nodes\n",
      "2022-01-10 15:03:33,038 fedbiomed INFO - log from: node_c27b3141-213a-4221-9dcf-7e885a30738b / DEBUG - Message received: {'researcher_id': 'researcher_a7319768-5c08-43f6-a819-9a487cb1cc02', 'tags': ['adni'], 'command': 'search'}\n",
      "2022-01-10 15:03:33,039 fedbiomed INFO - log from: node_0f5cb1d3-621f-45b9-9f45-4a38758e5ebf / DEBUG - Message received: {'researcher_id': 'researcher_a7319768-5c08-43f6-a819-9a487cb1cc02', 'tags': ['adni'], 'command': 'search'}\n",
      "2022-01-10 15:03:33,043 fedbiomed INFO - log from: node_ff1ad308-d26a-4c73-8ffc-87df03618014 / DEBUG - Message received: {'researcher_id': 'researcher_a7319768-5c08-43f6-a819-9a487cb1cc02', 'tags': ['adni'], 'command': 'search'}\n",
      "2022-01-10 15:03:43,044 fedbiomed INFO - Node selected for training -> node_c27b3141-213a-4221-9dcf-7e885a30738b\n",
      "2022-01-10 15:03:43,045 fedbiomed INFO - Node selected for training -> node_0f5cb1d3-621f-45b9-9f45-4a38758e5ebf\n",
      "2022-01-10 15:03:43,045 fedbiomed INFO - Node selected for training -> node_ff1ad308-d26a-4c73-8ffc-87df03618014\n",
      "2022-01-10 15:03:43,048 fedbiomed INFO - Checking data quality of federated datasets...\n"
     ]
    }
   ],
   "source": [
    "from fedbiomed.researcher.experiment import Experiment\n",
    "from fedbiomed.researcher.aggregators.fedavg import FedAverage\n",
    "\n",
    "tags =  ['adni']\n",
    "rounds = 10\n",
    "\n",
    "# select nodes participing to this experiment\n",
    "exp = Experiment(tags=tags,\n",
    "                 #nodes=None,\n",
    "                 model_path=model_file,\n",
    "                 model_args=model_args,\n",
    "                 model_class='SGDRegressorTrainingPlan',\n",
    "                 training_args=training_args,\n",
    "                 rounds=rounds,\n",
    "                 aggregator=FedAverage(),\n",
    "                 node_selection_strategy=None)"
   ]
  },
  {
   "cell_type": "code",
   "execution_count": 7,
   "id": "d6ff55da",
   "metadata": {},
   "outputs": [
    {
     "name": "stderr",
     "output_type": "stream",
     "text": [
      "2022-01-10 15:03:43,224 fedbiomed INFO - Sampled nodes in round 0 ['node_c27b3141-213a-4221-9dcf-7e885a30738b', 'node_0f5cb1d3-621f-45b9-9f45-4a38758e5ebf', 'node_ff1ad308-d26a-4c73-8ffc-87df03618014']\n",
      "2022-01-10 15:03:43,225 fedbiomed INFO - Send message to node node_c27b3141-213a-4221-9dcf-7e885a30738b - {'researcher_id': 'researcher_a7319768-5c08-43f6-a819-9a487cb1cc02', 'job_id': '3419b15e-3590-49f2-a705-4c96d11ca738', 'training_args': {'epochs': 5}, 'model_args': {'max_iter': 1000, 'tol': 0.001, 'model': 'SGDRegressor', 'n_features': 8, 'verbose': 1}, 'command': 'train', 'model_url': 'http://localhost:8844/media/uploads/2022/01/10/my_model_234eccb6-6e64-463d-bbf5-a21bc7893d1d.py', 'params_url': 'http://localhost:8844/media/uploads/2022/01/10/aggregated_params_init_78cde51a-5391-48f1-ad8d-40df11a719f7.pt', 'model_class': 'SGDRegressorTrainingPlan', 'training_data': {'node_c27b3141-213a-4221-9dcf-7e885a30738b': ['dataset_706fc178-989a-4251-ab42-5850637cd0a6']}}\n",
      "2022-01-10 15:03:43,225 fedbiomed DEBUG - researcher_a7319768-5c08-43f6-a819-9a487cb1cc02\n",
      "2022-01-10 15:03:43,226 fedbiomed INFO - Send message to node node_0f5cb1d3-621f-45b9-9f45-4a38758e5ebf - {'researcher_id': 'researcher_a7319768-5c08-43f6-a819-9a487cb1cc02', 'job_id': '3419b15e-3590-49f2-a705-4c96d11ca738', 'training_args': {'epochs': 5}, 'model_args': {'max_iter': 1000, 'tol': 0.001, 'model': 'SGDRegressor', 'n_features': 8, 'verbose': 1}, 'command': 'train', 'model_url': 'http://localhost:8844/media/uploads/2022/01/10/my_model_234eccb6-6e64-463d-bbf5-a21bc7893d1d.py', 'params_url': 'http://localhost:8844/media/uploads/2022/01/10/aggregated_params_init_78cde51a-5391-48f1-ad8d-40df11a719f7.pt', 'model_class': 'SGDRegressorTrainingPlan', 'training_data': {'node_0f5cb1d3-621f-45b9-9f45-4a38758e5ebf': ['dataset_253f8b93-4b7b-43af-bee7-59cff68e9cc6']}}\n",
      "2022-01-10 15:03:43,228 fedbiomed DEBUG - researcher_a7319768-5c08-43f6-a819-9a487cb1cc02\n",
      "2022-01-10 15:03:43,229 fedbiomed INFO - Send message to node node_ff1ad308-d26a-4c73-8ffc-87df03618014 - {'researcher_id': 'researcher_a7319768-5c08-43f6-a819-9a487cb1cc02', 'job_id': '3419b15e-3590-49f2-a705-4c96d11ca738', 'training_args': {'epochs': 5}, 'model_args': {'max_iter': 1000, 'tol': 0.001, 'model': 'SGDRegressor', 'n_features': 8, 'verbose': 1}, 'command': 'train', 'model_url': 'http://localhost:8844/media/uploads/2022/01/10/my_model_234eccb6-6e64-463d-bbf5-a21bc7893d1d.py', 'params_url': 'http://localhost:8844/media/uploads/2022/01/10/aggregated_params_init_78cde51a-5391-48f1-ad8d-40df11a719f7.pt', 'model_class': 'SGDRegressorTrainingPlan', 'training_data': {'node_ff1ad308-d26a-4c73-8ffc-87df03618014': ['dataset_6449edb0-8037-4071-beb2-9da26a529c98']}}\n",
      "2022-01-10 15:03:43,232 fedbiomed DEBUG - researcher_a7319768-5c08-43f6-a819-9a487cb1cc02\n",
      "2022-01-10 15:03:43,237 fedbiomed INFO - log from: node_c27b3141-213a-4221-9dcf-7e885a30738b / DEBUG - Message received: {'researcher_id': 'researcher_a7319768-5c08-43f6-a819-9a487cb1cc02', 'job_id': '3419b15e-3590-49f2-a705-4c96d11ca738', 'training_args': {'epochs': 5}, 'model_args': {'max_iter': 1000, 'tol': 0.001, 'model': 'SGDRegressor', 'n_features': 8, 'verbose': 1}, 'command': 'train', 'model_url': 'http://localhost:8844/media/uploads/2022/01/10/my_model_234eccb6-6e64-463d-bbf5-a21bc7893d1d.py', 'params_url': 'http://localhost:8844/media/uploads/2022/01/10/aggregated_params_init_78cde51a-5391-48f1-ad8d-40df11a719f7.pt', 'model_class': 'SGDRegressorTrainingPlan', 'training_data': {'node_c27b3141-213a-4221-9dcf-7e885a30738b': ['dataset_706fc178-989a-4251-ab42-5850637cd0a6']}}\n",
      "2022-01-10 15:03:43,239 fedbiomed INFO - log from: node_0f5cb1d3-621f-45b9-9f45-4a38758e5ebf / DEBUG - Message received: {'researcher_id': 'researcher_a7319768-5c08-43f6-a819-9a487cb1cc02', 'job_id': '3419b15e-3590-49f2-a705-4c96d11ca738', 'training_args': {'epochs': 5}, 'model_args': {'max_iter': 1000, 'tol': 0.001, 'model': 'SGDRegressor', 'n_features': 8, 'verbose': 1}, 'command': 'train', 'model_url': 'http://localhost:8844/media/uploads/2022/01/10/my_model_234eccb6-6e64-463d-bbf5-a21bc7893d1d.py', 'params_url': 'http://localhost:8844/media/uploads/2022/01/10/aggregated_params_init_78cde51a-5391-48f1-ad8d-40df11a719f7.pt', 'model_class': 'SGDRegressorTrainingPlan', 'training_data': {'node_0f5cb1d3-621f-45b9-9f45-4a38758e5ebf': ['dataset_253f8b93-4b7b-43af-bee7-59cff68e9cc6']}}\n",
      "2022-01-10 15:03:43,245 fedbiomed INFO - log from: node_ff1ad308-d26a-4c73-8ffc-87df03618014 / DEBUG - Message received: {'researcher_id': 'researcher_a7319768-5c08-43f6-a819-9a487cb1cc02', 'job_id': '3419b15e-3590-49f2-a705-4c96d11ca738', 'training_args': {'epochs': 5}, 'model_args': {'max_iter': 1000, 'tol': 0.001, 'model': 'SGDRegressor', 'n_features': 8, 'verbose': 1}, 'command': 'train', 'model_url': 'http://localhost:8844/media/uploads/2022/01/10/my_model_234eccb6-6e64-463d-bbf5-a21bc7893d1d.py', 'params_url': 'http://localhost:8844/media/uploads/2022/01/10/aggregated_params_init_78cde51a-5391-48f1-ad8d-40df11a719f7.pt', 'model_class': 'SGDRegressorTrainingPlan', 'training_data': {'node_ff1ad308-d26a-4c73-8ffc-87df03618014': ['dataset_6449edb0-8037-4071-beb2-9da26a529c98']}}\n",
      "2022-01-10 15:03:43,247 fedbiomed INFO - log from: node_c27b3141-213a-4221-9dcf-7e885a30738b / DEBUG - [TASKS QUEUE] Item:{'researcher_id': 'researcher_a7319768-5c08-43f6-a819-9a487cb1cc02', 'job_id': '3419b15e-3590-49f2-a705-4c96d11ca738', 'params_url': 'http://localhost:8844/media/uploads/2022/01/10/aggregated_params_init_78cde51a-5391-48f1-ad8d-40df11a719f7.pt', 'training_args': {'epochs': 5}, 'training_data': {'node_c27b3141-213a-4221-9dcf-7e885a30738b': ['dataset_706fc178-989a-4251-ab42-5850637cd0a6']}, 'model_args': {'max_iter': 1000, 'tol': 0.001, 'model': 'SGDRegressor', 'n_features': 8, 'verbose': 1}, 'model_url': 'http://localhost:8844/media/uploads/2022/01/10/my_model_234eccb6-6e64-463d-bbf5-a21bc7893d1d.py', 'model_class': 'SGDRegressorTrainingPlan', 'command': 'train'}\n",
      "2022-01-10 15:03:43,249 fedbiomed INFO - log from: node_ff1ad308-d26a-4c73-8ffc-87df03618014 / DEBUG - [TASKS QUEUE] Item:{'researcher_id': 'researcher_a7319768-5c08-43f6-a819-9a487cb1cc02', 'job_id': '3419b15e-3590-49f2-a705-4c96d11ca738', 'params_url': 'http://localhost:8844/media/uploads/2022/01/10/aggregated_params_init_78cde51a-5391-48f1-ad8d-40df11a719f7.pt', 'training_args': {'epochs': 5}, 'training_data': {'node_ff1ad308-d26a-4c73-8ffc-87df03618014': ['dataset_6449edb0-8037-4071-beb2-9da26a529c98']}, 'model_args': {'max_iter': 1000, 'tol': 0.001, 'model': 'SGDRegressor', 'n_features': 8, 'verbose': 1}, 'model_url': 'http://localhost:8844/media/uploads/2022/01/10/my_model_234eccb6-6e64-463d-bbf5-a21bc7893d1d.py', 'model_class': 'SGDRegressorTrainingPlan', 'command': 'train'}\n",
      "2022-01-10 15:03:43,251 fedbiomed INFO - log from: node_0f5cb1d3-621f-45b9-9f45-4a38758e5ebf / DEBUG - [TASKS QUEUE] Item:{'researcher_id': 'researcher_a7319768-5c08-43f6-a819-9a487cb1cc02', 'job_id': '3419b15e-3590-49f2-a705-4c96d11ca738', 'params_url': 'http://localhost:8844/media/uploads/2022/01/10/aggregated_params_init_78cde51a-5391-48f1-ad8d-40df11a719f7.pt', 'training_args': {'epochs': 5}, 'training_data': {'node_0f5cb1d3-621f-45b9-9f45-4a38758e5ebf': ['dataset_253f8b93-4b7b-43af-bee7-59cff68e9cc6']}, 'model_args': {'max_iter': 1000, 'tol': 0.001, 'model': 'SGDRegressor', 'n_features': 8, 'verbose': 1}, 'model_url': 'http://localhost:8844/media/uploads/2022/01/10/my_model_234eccb6-6e64-463d-bbf5-a21bc7893d1d.py', 'model_class': 'SGDRegressorTrainingPlan', 'command': 'train'}\n",
      "2022-01-10 15:03:43,293 fedbiomed INFO - log from: node_c27b3141-213a-4221-9dcf-7e885a30738b / INFO - {'monitor': <fedbiomed.node.history_monitor.HistoryMonitor object at 0x13a910730>, 'epochs': 5}\n",
      "2022-01-10 15:03:43,295 fedbiomed INFO - log from: node_c27b3141-213a-4221-9dcf-7e885a30738b / DEBUG - Dataset_path/Users/mlorenzi/works/temp/flhd_copy/heterogeneous_data/adni_client1.csv\n",
      "2022-01-10 15:03:43,298 fedbiomed INFO - log from: node_0f5cb1d3-621f-45b9-9f45-4a38758e5ebf / INFO - {'monitor': <fedbiomed.node.history_monitor.HistoryMonitor object at 0x12a69ba30>, 'epochs': 5}\n",
      "2022-01-10 15:03:43,303 fedbiomed INFO - log from: node_0f5cb1d3-621f-45b9-9f45-4a38758e5ebf / DEBUG - Dataset_path/Users/mlorenzi/works/temp/flhd_copy/heterogeneous_data/adni_client2.csv\n"
     ]
    },
    {
     "name": "stderr",
     "output_type": "stream",
     "text": [
      "2022-01-10 15:03:43,313 fedbiomed INFO - log from: node_ff1ad308-d26a-4c73-8ffc-87df03618014 / INFO - {'monitor': <fedbiomed.node.history_monitor.HistoryMonitor object at 0x142b78c10>, 'epochs': 5}\n",
      "2022-01-10 15:03:43,316 fedbiomed INFO - log from: node_ff1ad308-d26a-4c73-8ffc-87df03618014 / DEBUG - Dataset_path/Users/mlorenzi/works/temp/flhd_copy/heterogeneous_data/adni_client3.csv\n",
      "2022-01-10 15:03:43,318 fedbiomed INFO - log from: node_0f5cb1d3-621f-45b9-9f45-4a38758e5ebf / INFO - Train Epoch: 0 [Batch All Samples]\tLoss: 4.349698\n",
      "2022-01-10 15:03:43,321 fedbiomed INFO - log from: node_ff1ad308-d26a-4c73-8ffc-87df03618014 / INFO - Train Epoch: 0 [Batch All Samples]\tLoss: 4.885737\n",
      "2022-01-10 15:03:43,323 fedbiomed INFO - log from: node_ff1ad308-d26a-4c73-8ffc-87df03618014 / INFO - Train Epoch: 1 [Batch All Samples]\tLoss: 3.287136\n",
      "2022-01-10 15:03:43,325 fedbiomed INFO - log from: node_ff1ad308-d26a-4c73-8ffc-87df03618014 / INFO - Train Epoch: 2 [Batch All Samples]\tLoss: 2.989265\n",
      "2022-01-10 15:03:43,328 fedbiomed INFO - log from: node_0f5cb1d3-621f-45b9-9f45-4a38758e5ebf / INFO - Train Epoch: 1 [Batch All Samples]\tLoss: 2.843570\n",
      "2022-01-10 15:03:43,330 fedbiomed INFO - log from: node_0f5cb1d3-621f-45b9-9f45-4a38758e5ebf / INFO - Train Epoch: 2 [Batch All Samples]\tLoss: 2.670555\n",
      "2022-01-10 15:03:43,332 fedbiomed INFO - log from: node_0f5cb1d3-621f-45b9-9f45-4a38758e5ebf / INFO - Train Epoch: 3 [Batch All Samples]\tLoss: 2.676528\n",
      "2022-01-10 15:03:43,335 fedbiomed INFO - log from: node_0f5cb1d3-621f-45b9-9f45-4a38758e5ebf / INFO - Train Epoch: 4 [Batch All Samples]\tLoss: 2.624411\n",
      "2022-01-10 15:03:43,338 fedbiomed INFO - log from: node_c27b3141-213a-4221-9dcf-7e885a30738b / INFO - Train Epoch: 0 [Batch All Samples]\tLoss: 4.844549\n",
      "2022-01-10 15:03:43,339 fedbiomed INFO - log from: node_c27b3141-213a-4221-9dcf-7e885a30738b / INFO - Train Epoch: 1 [Batch All Samples]\tLoss: 2.978950\n",
      "2022-01-10 15:03:43,341 fedbiomed INFO - log from: node_c27b3141-213a-4221-9dcf-7e885a30738b / INFO - Train Epoch: 2 [Batch All Samples]\tLoss: 2.823410\n",
      "2022-01-10 15:03:43,343 fedbiomed INFO - log from: node_c27b3141-213a-4221-9dcf-7e885a30738b / INFO - Train Epoch: 3 [Batch All Samples]\tLoss: 2.675050\n",
      "2022-01-10 15:03:43,345 fedbiomed INFO - log from: node_c27b3141-213a-4221-9dcf-7e885a30738b / INFO - Train Epoch: 4 [Batch All Samples]\tLoss: 2.715630\n",
      "2022-01-10 15:03:43,347 fedbiomed INFO - log from: node_ff1ad308-d26a-4c73-8ffc-87df03618014 / INFO - Train Epoch: 3 [Batch All Samples]\tLoss: 3.051162\n",
      "2022-01-10 15:03:43,349 fedbiomed INFO - log from: node_ff1ad308-d26a-4c73-8ffc-87df03618014 / INFO - Train Epoch: 4 [Batch All Samples]\tLoss: 2.924120\n",
      "2022-01-10 15:03:43,404 fedbiomed INFO - log from: node_0f5cb1d3-621f-45b9-9f45-4a38758e5ebf / INFO - results uploaded successfully \n",
      "2022-01-10 15:03:43,455 fedbiomed INFO - log from: node_c27b3141-213a-4221-9dcf-7e885a30738b / INFO - results uploaded successfully \n",
      "2022-01-10 15:03:43,503 fedbiomed INFO - log from: node_ff1ad308-d26a-4c73-8ffc-87df03618014 / INFO - results uploaded successfully \n",
      "2022-01-10 15:03:53,246 fedbiomed INFO - Downloading model params after training on node_0f5cb1d3-621f-45b9-9f45-4a38758e5ebf - from http://localhost:8844/media/uploads/2022/01/10/node_params_74a9f8e2-7c19-4c48-bf45-c1e74023ca32.pt\n",
      "2022-01-10 15:03:53,264 fedbiomed INFO - Downloading model params after training on node_c27b3141-213a-4221-9dcf-7e885a30738b - from http://localhost:8844/media/uploads/2022/01/10/node_params_593d628d-8243-4b75-9dc9-b6bfcb2673cb.pt\n",
      "2022-01-10 15:03:53,281 fedbiomed INFO - Downloading model params after training on node_ff1ad308-d26a-4c73-8ffc-87df03618014 - from http://localhost:8844/media/uploads/2022/01/10/node_params_058e7bef-501e-4b08-9c59-4e09247095a0.pt\n",
      "2022-01-10 15:03:53,298 fedbiomed INFO - Nodes that successfully reply in round 0 ['node_0f5cb1d3-621f-45b9-9f45-4a38758e5ebf', 'node_c27b3141-213a-4221-9dcf-7e885a30738b', 'node_ff1ad308-d26a-4c73-8ffc-87df03618014']\n",
      "2022-01-10 15:03:53,356 fedbiomed INFO - Saved aggregated params for round 0 in /Users/mlorenzi/works/temp/fedbiomed/var/experiments/Experiment_0010/aggregated_params_eda1790e-6638-4359-b842-150e88cbb2f9.pt\n",
      "2022-01-10 15:03:53,357 fedbiomed INFO - Sampled nodes in round 1 ['node_c27b3141-213a-4221-9dcf-7e885a30738b', 'node_0f5cb1d3-621f-45b9-9f45-4a38758e5ebf', 'node_ff1ad308-d26a-4c73-8ffc-87df03618014']\n",
      "2022-01-10 15:03:53,357 fedbiomed INFO - Send message to node node_c27b3141-213a-4221-9dcf-7e885a30738b - {'researcher_id': 'researcher_a7319768-5c08-43f6-a819-9a487cb1cc02', 'job_id': '3419b15e-3590-49f2-a705-4c96d11ca738', 'training_args': {'epochs': 5}, 'model_args': {'max_iter': 1000, 'tol': 0.001, 'model': 'SGDRegressor', 'n_features': 8, 'verbose': 1}, 'command': 'train', 'model_url': 'http://localhost:8844/media/uploads/2022/01/10/my_model_234eccb6-6e64-463d-bbf5-a21bc7893d1d.py', 'params_url': 'http://localhost:8844/media/uploads/2022/01/10/aggregated_params_eda1790e-6638-4359-b842-150e88cbb2f9.pt', 'model_class': 'SGDRegressorTrainingPlan', 'training_data': {'node_c27b3141-213a-4221-9dcf-7e885a30738b': ['dataset_706fc178-989a-4251-ab42-5850637cd0a6']}}\n",
      "2022-01-10 15:03:53,358 fedbiomed DEBUG - researcher_a7319768-5c08-43f6-a819-9a487cb1cc02\n",
      "2022-01-10 15:03:53,360 fedbiomed INFO - Send message to node node_0f5cb1d3-621f-45b9-9f45-4a38758e5ebf - {'researcher_id': 'researcher_a7319768-5c08-43f6-a819-9a487cb1cc02', 'job_id': '3419b15e-3590-49f2-a705-4c96d11ca738', 'training_args': {'epochs': 5}, 'model_args': {'max_iter': 1000, 'tol': 0.001, 'model': 'SGDRegressor', 'n_features': 8, 'verbose': 1}, 'command': 'train', 'model_url': 'http://localhost:8844/media/uploads/2022/01/10/my_model_234eccb6-6e64-463d-bbf5-a21bc7893d1d.py', 'params_url': 'http://localhost:8844/media/uploads/2022/01/10/aggregated_params_eda1790e-6638-4359-b842-150e88cbb2f9.pt', 'model_class': 'SGDRegressorTrainingPlan', 'training_data': {'node_0f5cb1d3-621f-45b9-9f45-4a38758e5ebf': ['dataset_253f8b93-4b7b-43af-bee7-59cff68e9cc6']}}\n",
      "2022-01-10 15:03:53,361 fedbiomed DEBUG - researcher_a7319768-5c08-43f6-a819-9a487cb1cc02\n",
      "2022-01-10 15:03:53,362 fedbiomed INFO - Send message to node node_ff1ad308-d26a-4c73-8ffc-87df03618014 - {'researcher_id': 'researcher_a7319768-5c08-43f6-a819-9a487cb1cc02', 'job_id': '3419b15e-3590-49f2-a705-4c96d11ca738', 'training_args': {'epochs': 5}, 'model_args': {'max_iter': 1000, 'tol': 0.001, 'model': 'SGDRegressor', 'n_features': 8, 'verbose': 1}, 'command': 'train', 'model_url': 'http://localhost:8844/media/uploads/2022/01/10/my_model_234eccb6-6e64-463d-bbf5-a21bc7893d1d.py', 'params_url': 'http://localhost:8844/media/uploads/2022/01/10/aggregated_params_eda1790e-6638-4359-b842-150e88cbb2f9.pt', 'model_class': 'SGDRegressorTrainingPlan', 'training_data': {'node_ff1ad308-d26a-4c73-8ffc-87df03618014': ['dataset_6449edb0-8037-4071-beb2-9da26a529c98']}}\n",
      "2022-01-10 15:03:53,363 fedbiomed DEBUG - researcher_a7319768-5c08-43f6-a819-9a487cb1cc02\n",
      "2022-01-10 15:03:53,368 fedbiomed INFO - log from: node_c27b3141-213a-4221-9dcf-7e885a30738b / DEBUG - Message received: {'researcher_id': 'researcher_a7319768-5c08-43f6-a819-9a487cb1cc02', 'job_id': '3419b15e-3590-49f2-a705-4c96d11ca738', 'training_args': {'epochs': 5}, 'model_args': {'max_iter': 1000, 'tol': 0.001, 'model': 'SGDRegressor', 'n_features': 8, 'verbose': 1}, 'command': 'train', 'model_url': 'http://localhost:8844/media/uploads/2022/01/10/my_model_234eccb6-6e64-463d-bbf5-a21bc7893d1d.py', 'params_url': 'http://localhost:8844/media/uploads/2022/01/10/aggregated_params_eda1790e-6638-4359-b842-150e88cbb2f9.pt', 'model_class': 'SGDRegressorTrainingPlan', 'training_data': {'node_c27b3141-213a-4221-9dcf-7e885a30738b': ['dataset_706fc178-989a-4251-ab42-5850637cd0a6']}}\n",
      "2022-01-10 15:03:53,370 fedbiomed INFO - log from: node_c27b3141-213a-4221-9dcf-7e885a30738b / DEBUG - [TASKS QUEUE] Item:{'researcher_id': 'researcher_a7319768-5c08-43f6-a819-9a487cb1cc02', 'job_id': '3419b15e-3590-49f2-a705-4c96d11ca738', 'params_url': 'http://localhost:8844/media/uploads/2022/01/10/aggregated_params_eda1790e-6638-4359-b842-150e88cbb2f9.pt', 'training_args': {'epochs': 5}, 'training_data': {'node_c27b3141-213a-4221-9dcf-7e885a30738b': ['dataset_706fc178-989a-4251-ab42-5850637cd0a6']}, 'model_args': {'max_iter': 1000, 'tol': 0.001, 'model': 'SGDRegressor', 'n_features': 8, 'verbose': 1}, 'model_url': 'http://localhost:8844/media/uploads/2022/01/10/my_model_234eccb6-6e64-463d-bbf5-a21bc7893d1d.py', 'model_class': 'SGDRegressorTrainingPlan', 'command': 'train'}\n"
     ]
    },
    {
     "name": "stderr",
     "output_type": "stream",
     "text": [
      "2022-01-10 15:03:53,373 fedbiomed INFO - log from: node_0f5cb1d3-621f-45b9-9f45-4a38758e5ebf / DEBUG - Message received: {'researcher_id': 'researcher_a7319768-5c08-43f6-a819-9a487cb1cc02', 'job_id': '3419b15e-3590-49f2-a705-4c96d11ca738', 'training_args': {'epochs': 5}, 'model_args': {'max_iter': 1000, 'tol': 0.001, 'model': 'SGDRegressor', 'n_features': 8, 'verbose': 1}, 'command': 'train', 'model_url': 'http://localhost:8844/media/uploads/2022/01/10/my_model_234eccb6-6e64-463d-bbf5-a21bc7893d1d.py', 'params_url': 'http://localhost:8844/media/uploads/2022/01/10/aggregated_params_eda1790e-6638-4359-b842-150e88cbb2f9.pt', 'model_class': 'SGDRegressorTrainingPlan', 'training_data': {'node_0f5cb1d3-621f-45b9-9f45-4a38758e5ebf': ['dataset_253f8b93-4b7b-43af-bee7-59cff68e9cc6']}}\n",
      "2022-01-10 15:03:53,376 fedbiomed INFO - log from: node_0f5cb1d3-621f-45b9-9f45-4a38758e5ebf / DEBUG - [TASKS QUEUE] Item:{'researcher_id': 'researcher_a7319768-5c08-43f6-a819-9a487cb1cc02', 'job_id': '3419b15e-3590-49f2-a705-4c96d11ca738', 'params_url': 'http://localhost:8844/media/uploads/2022/01/10/aggregated_params_eda1790e-6638-4359-b842-150e88cbb2f9.pt', 'training_args': {'epochs': 5}, 'training_data': {'node_0f5cb1d3-621f-45b9-9f45-4a38758e5ebf': ['dataset_253f8b93-4b7b-43af-bee7-59cff68e9cc6']}, 'model_args': {'max_iter': 1000, 'tol': 0.001, 'model': 'SGDRegressor', 'n_features': 8, 'verbose': 1}, 'model_url': 'http://localhost:8844/media/uploads/2022/01/10/my_model_234eccb6-6e64-463d-bbf5-a21bc7893d1d.py', 'model_class': 'SGDRegressorTrainingPlan', 'command': 'train'}\n",
      "2022-01-10 15:03:53,378 fedbiomed INFO - log from: node_ff1ad308-d26a-4c73-8ffc-87df03618014 / DEBUG - Message received: {'researcher_id': 'researcher_a7319768-5c08-43f6-a819-9a487cb1cc02', 'job_id': '3419b15e-3590-49f2-a705-4c96d11ca738', 'training_args': {'epochs': 5}, 'model_args': {'max_iter': 1000, 'tol': 0.001, 'model': 'SGDRegressor', 'n_features': 8, 'verbose': 1}, 'command': 'train', 'model_url': 'http://localhost:8844/media/uploads/2022/01/10/my_model_234eccb6-6e64-463d-bbf5-a21bc7893d1d.py', 'params_url': 'http://localhost:8844/media/uploads/2022/01/10/aggregated_params_eda1790e-6638-4359-b842-150e88cbb2f9.pt', 'model_class': 'SGDRegressorTrainingPlan', 'training_data': {'node_ff1ad308-d26a-4c73-8ffc-87df03618014': ['dataset_6449edb0-8037-4071-beb2-9da26a529c98']}}\n",
      "2022-01-10 15:03:53,390 fedbiomed INFO - log from: node_ff1ad308-d26a-4c73-8ffc-87df03618014 / DEBUG - [TASKS QUEUE] Item:{'researcher_id': 'researcher_a7319768-5c08-43f6-a819-9a487cb1cc02', 'job_id': '3419b15e-3590-49f2-a705-4c96d11ca738', 'params_url': 'http://localhost:8844/media/uploads/2022/01/10/aggregated_params_eda1790e-6638-4359-b842-150e88cbb2f9.pt', 'training_args': {'epochs': 5}, 'training_data': {'node_ff1ad308-d26a-4c73-8ffc-87df03618014': ['dataset_6449edb0-8037-4071-beb2-9da26a529c98']}, 'model_args': {'max_iter': 1000, 'tol': 0.001, 'model': 'SGDRegressor', 'n_features': 8, 'verbose': 1}, 'model_url': 'http://localhost:8844/media/uploads/2022/01/10/my_model_234eccb6-6e64-463d-bbf5-a21bc7893d1d.py', 'model_class': 'SGDRegressorTrainingPlan', 'command': 'train'}\n",
      "2022-01-10 15:03:53,409 fedbiomed INFO - log from: node_c27b3141-213a-4221-9dcf-7e885a30738b / INFO - {'monitor': <fedbiomed.node.history_monitor.HistoryMonitor object at 0x12c8ce7c0>, 'epochs': 5}\n",
      "2022-01-10 15:03:53,411 fedbiomed INFO - log from: node_0f5cb1d3-621f-45b9-9f45-4a38758e5ebf / INFO - {'monitor': <fedbiomed.node.history_monitor.HistoryMonitor object at 0x1386ece20>, 'epochs': 5}\n",
      "2022-01-10 15:03:53,413 fedbiomed INFO - log from: node_0f5cb1d3-621f-45b9-9f45-4a38758e5ebf / DEBUG - Dataset_path/Users/mlorenzi/works/temp/flhd_copy/heterogeneous_data/adni_client2.csv\n",
      "2022-01-10 15:03:53,415 fedbiomed INFO - log from: node_c27b3141-213a-4221-9dcf-7e885a30738b / DEBUG - Dataset_path/Users/mlorenzi/works/temp/flhd_copy/heterogeneous_data/adni_client1.csv\n",
      "2022-01-10 15:03:53,422 fedbiomed INFO - log from: node_c27b3141-213a-4221-9dcf-7e885a30738b / INFO - Train Epoch: 0 [Batch All Samples]\tLoss: 2.663593\n",
      "2022-01-10 15:03:53,425 fedbiomed INFO - log from: node_0f5cb1d3-621f-45b9-9f45-4a38758e5ebf / INFO - Train Epoch: 0 [Batch All Samples]\tLoss: 2.647571\n",
      "2022-01-10 15:03:53,429 fedbiomed INFO - log from: node_0f5cb1d3-621f-45b9-9f45-4a38758e5ebf / INFO - Train Epoch: 1 [Batch All Samples]\tLoss: 2.532405\n",
      "2022-01-10 15:03:53,433 fedbiomed INFO - log from: node_0f5cb1d3-621f-45b9-9f45-4a38758e5ebf / INFO - Train Epoch: 2 [Batch All Samples]\tLoss: 2.529107\n",
      "2022-01-10 15:03:53,435 fedbiomed INFO - log from: node_c27b3141-213a-4221-9dcf-7e885a30738b / INFO - Train Epoch: 1 [Batch All Samples]\tLoss: 2.692093\n",
      "2022-01-10 15:03:53,437 fedbiomed INFO - log from: node_0f5cb1d3-621f-45b9-9f45-4a38758e5ebf / INFO - Train Epoch: 3 [Batch All Samples]\tLoss: 2.567235\n",
      "2022-01-10 15:03:53,438 fedbiomed INFO - log from: node_0f5cb1d3-621f-45b9-9f45-4a38758e5ebf / INFO - Train Epoch: 4 [Batch All Samples]\tLoss: 2.460405\n",
      "2022-01-10 15:03:53,440 fedbiomed INFO - log from: node_c27b3141-213a-4221-9dcf-7e885a30738b / INFO - Train Epoch: 2 [Batch All Samples]\tLoss: 2.581461\n",
      "2022-01-10 15:03:53,443 fedbiomed INFO - log from: node_c27b3141-213a-4221-9dcf-7e885a30738b / INFO - Train Epoch: 3 [Batch All Samples]\tLoss: 2.582661\n",
      "2022-01-10 15:03:53,445 fedbiomed INFO - log from: node_c27b3141-213a-4221-9dcf-7e885a30738b / INFO - Train Epoch: 4 [Batch All Samples]\tLoss: 2.606163\n",
      "2022-01-10 15:03:53,446 fedbiomed INFO - log from: node_ff1ad308-d26a-4c73-8ffc-87df03618014 / INFO - {'monitor': <fedbiomed.node.history_monitor.HistoryMonitor object at 0x142c56340>, 'epochs': 5}\n",
      "2022-01-10 15:03:53,448 fedbiomed INFO - log from: node_ff1ad308-d26a-4c73-8ffc-87df03618014 / DEBUG - Dataset_path/Users/mlorenzi/works/temp/flhd_copy/heterogeneous_data/adni_client3.csv\n",
      "2022-01-10 15:03:53,454 fedbiomed INFO - log from: node_ff1ad308-d26a-4c73-8ffc-87df03618014 / INFO - Train Epoch: 0 [Batch All Samples]\tLoss: 2.980481\n",
      "2022-01-10 15:03:53,457 fedbiomed INFO - log from: node_ff1ad308-d26a-4c73-8ffc-87df03618014 / INFO - Train Epoch: 1 [Batch All Samples]\tLoss: 2.867193\n",
      "2022-01-10 15:03:53,458 fedbiomed INFO - log from: node_ff1ad308-d26a-4c73-8ffc-87df03618014 / INFO - Train Epoch: 2 [Batch All Samples]\tLoss: 2.872410\n",
      "2022-01-10 15:03:53,460 fedbiomed INFO - log from: node_ff1ad308-d26a-4c73-8ffc-87df03618014 / INFO - Train Epoch: 3 [Batch All Samples]\tLoss: 2.858833\n",
      "2022-01-10 15:03:53,462 fedbiomed INFO - log from: node_ff1ad308-d26a-4c73-8ffc-87df03618014 / INFO - Train Epoch: 4 [Batch All Samples]\tLoss: 2.893172\n",
      "2022-01-10 15:03:53,509 fedbiomed INFO - log from: node_c27b3141-213a-4221-9dcf-7e885a30738b / INFO - results uploaded successfully \n",
      "2022-01-10 15:03:53,544 fedbiomed INFO - log from: node_ff1ad308-d26a-4c73-8ffc-87df03618014 / INFO - results uploaded successfully \n",
      "2022-01-10 15:03:53,578 fedbiomed INFO - log from: node_0f5cb1d3-621f-45b9-9f45-4a38758e5ebf / INFO - results uploaded successfully \n",
      "2022-01-10 15:04:03,376 fedbiomed INFO - Downloading model params after training on node_c27b3141-213a-4221-9dcf-7e885a30738b - from http://localhost:8844/media/uploads/2022/01/10/node_params_077faa28-a8ae-4c41-8ecf-43b1460f82d4.pt\n",
      "2022-01-10 15:04:03,392 fedbiomed INFO - Downloading model params after training on node_ff1ad308-d26a-4c73-8ffc-87df03618014 - from http://localhost:8844/media/uploads/2022/01/10/node_params_42efc2ef-2643-49fb-baa9-b49a70e66c0a.pt\n",
      "2022-01-10 15:04:03,408 fedbiomed INFO - Downloading model params after training on node_0f5cb1d3-621f-45b9-9f45-4a38758e5ebf - from http://localhost:8844/media/uploads/2022/01/10/node_params_469ab7ab-d600-4173-95c4-86a73d39185a.pt\n",
      "2022-01-10 15:04:03,425 fedbiomed INFO - Nodes that successfully reply in round 1 ['node_c27b3141-213a-4221-9dcf-7e885a30738b', 'node_ff1ad308-d26a-4c73-8ffc-87df03618014', 'node_0f5cb1d3-621f-45b9-9f45-4a38758e5ebf']\n",
      "2022-01-10 15:04:03,483 fedbiomed INFO - Saved aggregated params for round 1 in /Users/mlorenzi/works/temp/fedbiomed/var/experiments/Experiment_0010/aggregated_params_df4e434e-07fb-439a-995b-d54f2a85fcb2.pt\n",
      "2022-01-10 15:04:03,484 fedbiomed INFO - Sampled nodes in round 2 ['node_c27b3141-213a-4221-9dcf-7e885a30738b', 'node_0f5cb1d3-621f-45b9-9f45-4a38758e5ebf', 'node_ff1ad308-d26a-4c73-8ffc-87df03618014']\n"
     ]
    },
    {
     "name": "stderr",
     "output_type": "stream",
     "text": [
      "2022-01-10 15:04:03,485 fedbiomed INFO - Send message to node node_c27b3141-213a-4221-9dcf-7e885a30738b - {'researcher_id': 'researcher_a7319768-5c08-43f6-a819-9a487cb1cc02', 'job_id': '3419b15e-3590-49f2-a705-4c96d11ca738', 'training_args': {'epochs': 5}, 'model_args': {'max_iter': 1000, 'tol': 0.001, 'model': 'SGDRegressor', 'n_features': 8, 'verbose': 1}, 'command': 'train', 'model_url': 'http://localhost:8844/media/uploads/2022/01/10/my_model_234eccb6-6e64-463d-bbf5-a21bc7893d1d.py', 'params_url': 'http://localhost:8844/media/uploads/2022/01/10/aggregated_params_df4e434e-07fb-439a-995b-d54f2a85fcb2.pt', 'model_class': 'SGDRegressorTrainingPlan', 'training_data': {'node_c27b3141-213a-4221-9dcf-7e885a30738b': ['dataset_706fc178-989a-4251-ab42-5850637cd0a6']}}\n",
      "2022-01-10 15:04:03,486 fedbiomed DEBUG - researcher_a7319768-5c08-43f6-a819-9a487cb1cc02\n",
      "2022-01-10 15:04:03,487 fedbiomed INFO - Send message to node node_0f5cb1d3-621f-45b9-9f45-4a38758e5ebf - {'researcher_id': 'researcher_a7319768-5c08-43f6-a819-9a487cb1cc02', 'job_id': '3419b15e-3590-49f2-a705-4c96d11ca738', 'training_args': {'epochs': 5}, 'model_args': {'max_iter': 1000, 'tol': 0.001, 'model': 'SGDRegressor', 'n_features': 8, 'verbose': 1}, 'command': 'train', 'model_url': 'http://localhost:8844/media/uploads/2022/01/10/my_model_234eccb6-6e64-463d-bbf5-a21bc7893d1d.py', 'params_url': 'http://localhost:8844/media/uploads/2022/01/10/aggregated_params_df4e434e-07fb-439a-995b-d54f2a85fcb2.pt', 'model_class': 'SGDRegressorTrainingPlan', 'training_data': {'node_0f5cb1d3-621f-45b9-9f45-4a38758e5ebf': ['dataset_253f8b93-4b7b-43af-bee7-59cff68e9cc6']}}\n",
      "2022-01-10 15:04:03,489 fedbiomed DEBUG - researcher_a7319768-5c08-43f6-a819-9a487cb1cc02\n",
      "2022-01-10 15:04:03,491 fedbiomed INFO - Send message to node node_ff1ad308-d26a-4c73-8ffc-87df03618014 - {'researcher_id': 'researcher_a7319768-5c08-43f6-a819-9a487cb1cc02', 'job_id': '3419b15e-3590-49f2-a705-4c96d11ca738', 'training_args': {'epochs': 5}, 'model_args': {'max_iter': 1000, 'tol': 0.001, 'model': 'SGDRegressor', 'n_features': 8, 'verbose': 1}, 'command': 'train', 'model_url': 'http://localhost:8844/media/uploads/2022/01/10/my_model_234eccb6-6e64-463d-bbf5-a21bc7893d1d.py', 'params_url': 'http://localhost:8844/media/uploads/2022/01/10/aggregated_params_df4e434e-07fb-439a-995b-d54f2a85fcb2.pt', 'model_class': 'SGDRegressorTrainingPlan', 'training_data': {'node_ff1ad308-d26a-4c73-8ffc-87df03618014': ['dataset_6449edb0-8037-4071-beb2-9da26a529c98']}}\n",
      "2022-01-10 15:04:03,493 fedbiomed DEBUG - researcher_a7319768-5c08-43f6-a819-9a487cb1cc02\n",
      "2022-01-10 15:04:03,497 fedbiomed INFO - log from: node_c27b3141-213a-4221-9dcf-7e885a30738b / DEBUG - Message received: {'researcher_id': 'researcher_a7319768-5c08-43f6-a819-9a487cb1cc02', 'job_id': '3419b15e-3590-49f2-a705-4c96d11ca738', 'training_args': {'epochs': 5}, 'model_args': {'max_iter': 1000, 'tol': 0.001, 'model': 'SGDRegressor', 'n_features': 8, 'verbose': 1}, 'command': 'train', 'model_url': 'http://localhost:8844/media/uploads/2022/01/10/my_model_234eccb6-6e64-463d-bbf5-a21bc7893d1d.py', 'params_url': 'http://localhost:8844/media/uploads/2022/01/10/aggregated_params_df4e434e-07fb-439a-995b-d54f2a85fcb2.pt', 'model_class': 'SGDRegressorTrainingPlan', 'training_data': {'node_c27b3141-213a-4221-9dcf-7e885a30738b': ['dataset_706fc178-989a-4251-ab42-5850637cd0a6']}}\n",
      "2022-01-10 15:04:03,501 fedbiomed INFO - log from: node_0f5cb1d3-621f-45b9-9f45-4a38758e5ebf / DEBUG - Message received: {'researcher_id': 'researcher_a7319768-5c08-43f6-a819-9a487cb1cc02', 'job_id': '3419b15e-3590-49f2-a705-4c96d11ca738', 'training_args': {'epochs': 5}, 'model_args': {'max_iter': 1000, 'tol': 0.001, 'model': 'SGDRegressor', 'n_features': 8, 'verbose': 1}, 'command': 'train', 'model_url': 'http://localhost:8844/media/uploads/2022/01/10/my_model_234eccb6-6e64-463d-bbf5-a21bc7893d1d.py', 'params_url': 'http://localhost:8844/media/uploads/2022/01/10/aggregated_params_df4e434e-07fb-439a-995b-d54f2a85fcb2.pt', 'model_class': 'SGDRegressorTrainingPlan', 'training_data': {'node_0f5cb1d3-621f-45b9-9f45-4a38758e5ebf': ['dataset_253f8b93-4b7b-43af-bee7-59cff68e9cc6']}}\n",
      "2022-01-10 15:04:03,508 fedbiomed INFO - log from: node_ff1ad308-d26a-4c73-8ffc-87df03618014 / DEBUG - Message received: {'researcher_id': 'researcher_a7319768-5c08-43f6-a819-9a487cb1cc02', 'job_id': '3419b15e-3590-49f2-a705-4c96d11ca738', 'training_args': {'epochs': 5}, 'model_args': {'max_iter': 1000, 'tol': 0.001, 'model': 'SGDRegressor', 'n_features': 8, 'verbose': 1}, 'command': 'train', 'model_url': 'http://localhost:8844/media/uploads/2022/01/10/my_model_234eccb6-6e64-463d-bbf5-a21bc7893d1d.py', 'params_url': 'http://localhost:8844/media/uploads/2022/01/10/aggregated_params_df4e434e-07fb-439a-995b-d54f2a85fcb2.pt', 'model_class': 'SGDRegressorTrainingPlan', 'training_data': {'node_ff1ad308-d26a-4c73-8ffc-87df03618014': ['dataset_6449edb0-8037-4071-beb2-9da26a529c98']}}\n",
      "2022-01-10 15:04:03,509 fedbiomed INFO - log from: node_c27b3141-213a-4221-9dcf-7e885a30738b / DEBUG - [TASKS QUEUE] Item:{'researcher_id': 'researcher_a7319768-5c08-43f6-a819-9a487cb1cc02', 'job_id': '3419b15e-3590-49f2-a705-4c96d11ca738', 'params_url': 'http://localhost:8844/media/uploads/2022/01/10/aggregated_params_df4e434e-07fb-439a-995b-d54f2a85fcb2.pt', 'training_args': {'epochs': 5}, 'training_data': {'node_c27b3141-213a-4221-9dcf-7e885a30738b': ['dataset_706fc178-989a-4251-ab42-5850637cd0a6']}, 'model_args': {'max_iter': 1000, 'tol': 0.001, 'model': 'SGDRegressor', 'n_features': 8, 'verbose': 1}, 'model_url': 'http://localhost:8844/media/uploads/2022/01/10/my_model_234eccb6-6e64-463d-bbf5-a21bc7893d1d.py', 'model_class': 'SGDRegressorTrainingPlan', 'command': 'train'}\n",
      "2022-01-10 15:04:03,511 fedbiomed INFO - log from: node_0f5cb1d3-621f-45b9-9f45-4a38758e5ebf / DEBUG - [TASKS QUEUE] Item:{'researcher_id': 'researcher_a7319768-5c08-43f6-a819-9a487cb1cc02', 'job_id': '3419b15e-3590-49f2-a705-4c96d11ca738', 'params_url': 'http://localhost:8844/media/uploads/2022/01/10/aggregated_params_df4e434e-07fb-439a-995b-d54f2a85fcb2.pt', 'training_args': {'epochs': 5}, 'training_data': {'node_0f5cb1d3-621f-45b9-9f45-4a38758e5ebf': ['dataset_253f8b93-4b7b-43af-bee7-59cff68e9cc6']}, 'model_args': {'max_iter': 1000, 'tol': 0.001, 'model': 'SGDRegressor', 'n_features': 8, 'verbose': 1}, 'model_url': 'http://localhost:8844/media/uploads/2022/01/10/my_model_234eccb6-6e64-463d-bbf5-a21bc7893d1d.py', 'model_class': 'SGDRegressorTrainingPlan', 'command': 'train'}\n",
      "2022-01-10 15:04:03,513 fedbiomed INFO - log from: node_ff1ad308-d26a-4c73-8ffc-87df03618014 / DEBUG - [TASKS QUEUE] Item:{'researcher_id': 'researcher_a7319768-5c08-43f6-a819-9a487cb1cc02', 'job_id': '3419b15e-3590-49f2-a705-4c96d11ca738', 'params_url': 'http://localhost:8844/media/uploads/2022/01/10/aggregated_params_df4e434e-07fb-439a-995b-d54f2a85fcb2.pt', 'training_args': {'epochs': 5}, 'training_data': {'node_ff1ad308-d26a-4c73-8ffc-87df03618014': ['dataset_6449edb0-8037-4071-beb2-9da26a529c98']}, 'model_args': {'max_iter': 1000, 'tol': 0.001, 'model': 'SGDRegressor', 'n_features': 8, 'verbose': 1}, 'model_url': 'http://localhost:8844/media/uploads/2022/01/10/my_model_234eccb6-6e64-463d-bbf5-a21bc7893d1d.py', 'model_class': 'SGDRegressorTrainingPlan', 'command': 'train'}\n",
      "2022-01-10 15:04:03,545 fedbiomed INFO - log from: node_ff1ad308-d26a-4c73-8ffc-87df03618014 / INFO - {'monitor': <fedbiomed.node.history_monitor.HistoryMonitor object at 0x142b721c0>, 'epochs': 5}\n",
      "2022-01-10 15:04:03,546 fedbiomed INFO - log from: node_ff1ad308-d26a-4c73-8ffc-87df03618014 / DEBUG - Dataset_path/Users/mlorenzi/works/temp/flhd_copy/heterogeneous_data/adni_client3.csv\n",
      "2022-01-10 15:04:03,548 fedbiomed INFO - log from: node_0f5cb1d3-621f-45b9-9f45-4a38758e5ebf / INFO - {'monitor': <fedbiomed.node.history_monitor.HistoryMonitor object at 0x12a69ba30>, 'epochs': 5}\n",
      "2022-01-10 15:04:03,550 fedbiomed INFO - log from: node_0f5cb1d3-621f-45b9-9f45-4a38758e5ebf / DEBUG - Dataset_path/Users/mlorenzi/works/temp/flhd_copy/heterogeneous_data/adni_client2.csv\n",
      "2022-01-10 15:04:03,556 fedbiomed INFO - log from: node_c27b3141-213a-4221-9dcf-7e885a30738b / INFO - {'monitor': <fedbiomed.node.history_monitor.HistoryMonitor object at 0x13a9103a0>, 'epochs': 5}\n"
     ]
    },
    {
     "name": "stderr",
     "output_type": "stream",
     "text": [
      "2022-01-10 15:04:03,558 fedbiomed INFO - log from: node_c27b3141-213a-4221-9dcf-7e885a30738b / DEBUG - Dataset_path/Users/mlorenzi/works/temp/flhd_copy/heterogeneous_data/adni_client1.csv\n",
      "2022-01-10 15:04:03,562 fedbiomed INFO - log from: node_ff1ad308-d26a-4c73-8ffc-87df03618014 / INFO - Train Epoch: 0 [Batch All Samples]\tLoss: 2.924001\n",
      "2022-01-10 15:04:03,565 fedbiomed INFO - log from: node_0f5cb1d3-621f-45b9-9f45-4a38758e5ebf / INFO - Train Epoch: 0 [Batch All Samples]\tLoss: 2.523479\n",
      "2022-01-10 15:04:03,567 fedbiomed INFO - log from: node_ff1ad308-d26a-4c73-8ffc-87df03618014 / INFO - Train Epoch: 1 [Batch All Samples]\tLoss: 2.889079\n",
      "2022-01-10 15:04:03,569 fedbiomed INFO - log from: node_ff1ad308-d26a-4c73-8ffc-87df03618014 / INFO - Train Epoch: 2 [Batch All Samples]\tLoss: 2.856118\n",
      "2022-01-10 15:04:03,570 fedbiomed INFO - log from: node_0f5cb1d3-621f-45b9-9f45-4a38758e5ebf / INFO - Train Epoch: 1 [Batch All Samples]\tLoss: 2.518026\n",
      "2022-01-10 15:04:03,572 fedbiomed INFO - log from: node_0f5cb1d3-621f-45b9-9f45-4a38758e5ebf / INFO - Train Epoch: 2 [Batch All Samples]\tLoss: 2.481048\n",
      "2022-01-10 15:04:03,574 fedbiomed INFO - log from: node_0f5cb1d3-621f-45b9-9f45-4a38758e5ebf / INFO - Train Epoch: 3 [Batch All Samples]\tLoss: 2.481692\n",
      "2022-01-10 15:04:03,577 fedbiomed INFO - log from: node_0f5cb1d3-621f-45b9-9f45-4a38758e5ebf / INFO - Train Epoch: 4 [Batch All Samples]\tLoss: 2.505596\n",
      "2022-01-10 15:04:03,579 fedbiomed INFO - log from: node_ff1ad308-d26a-4c73-8ffc-87df03618014 / INFO - Train Epoch: 3 [Batch All Samples]\tLoss: 2.803979\n",
      "2022-01-10 15:04:03,581 fedbiomed INFO - log from: node_ff1ad308-d26a-4c73-8ffc-87df03618014 / INFO - Train Epoch: 4 [Batch All Samples]\tLoss: 2.832336\n",
      "2022-01-10 15:04:03,583 fedbiomed INFO - log from: node_c27b3141-213a-4221-9dcf-7e885a30738b / INFO - Train Epoch: 0 [Batch All Samples]\tLoss: 2.633460\n",
      "2022-01-10 15:04:03,585 fedbiomed INFO - log from: node_c27b3141-213a-4221-9dcf-7e885a30738b / INFO - Train Epoch: 1 [Batch All Samples]\tLoss: 2.582845\n",
      "2022-01-10 15:04:03,586 fedbiomed INFO - log from: node_c27b3141-213a-4221-9dcf-7e885a30738b / INFO - Train Epoch: 2 [Batch All Samples]\tLoss: 2.526807\n",
      "2022-01-10 15:04:03,588 fedbiomed INFO - log from: node_c27b3141-213a-4221-9dcf-7e885a30738b / INFO - Train Epoch: 3 [Batch All Samples]\tLoss: 2.558899\n",
      "2022-01-10 15:04:03,607 fedbiomed INFO - log from: node_c27b3141-213a-4221-9dcf-7e885a30738b / INFO - Train Epoch: 4 [Batch All Samples]\tLoss: 2.560522\n",
      "2022-01-10 15:04:03,644 fedbiomed INFO - log from: node_ff1ad308-d26a-4c73-8ffc-87df03618014 / INFO - results uploaded successfully \n",
      "2022-01-10 15:04:03,676 fedbiomed INFO - log from: node_0f5cb1d3-621f-45b9-9f45-4a38758e5ebf / INFO - results uploaded successfully \n",
      "2022-01-10 15:04:03,712 fedbiomed INFO - log from: node_c27b3141-213a-4221-9dcf-7e885a30738b / INFO - results uploaded successfully \n",
      "2022-01-10 15:04:13,506 fedbiomed INFO - Downloading model params after training on node_ff1ad308-d26a-4c73-8ffc-87df03618014 - from http://localhost:8844/media/uploads/2022/01/10/node_params_50a96a9b-4ff8-464e-b556-4d59042b1640.pt\n",
      "2022-01-10 15:04:13,524 fedbiomed INFO - Downloading model params after training on node_0f5cb1d3-621f-45b9-9f45-4a38758e5ebf - from http://localhost:8844/media/uploads/2022/01/10/node_params_d120d9d5-6b70-419a-a730-4e0625001ba1.pt\n",
      "2022-01-10 15:04:13,537 fedbiomed INFO - Downloading model params after training on node_c27b3141-213a-4221-9dcf-7e885a30738b - from http://localhost:8844/media/uploads/2022/01/10/node_params_a3b99dd6-0399-4ff4-adef-b300da0996fb.pt\n",
      "2022-01-10 15:04:13,551 fedbiomed INFO - Nodes that successfully reply in round 2 ['node_ff1ad308-d26a-4c73-8ffc-87df03618014', 'node_0f5cb1d3-621f-45b9-9f45-4a38758e5ebf', 'node_c27b3141-213a-4221-9dcf-7e885a30738b']\n",
      "2022-01-10 15:04:13,606 fedbiomed INFO - Saved aggregated params for round 2 in /Users/mlorenzi/works/temp/fedbiomed/var/experiments/Experiment_0010/aggregated_params_e01feec1-a322-42c8-802b-e9823c46ccca.pt\n",
      "2022-01-10 15:04:13,607 fedbiomed INFO - Sampled nodes in round 3 ['node_c27b3141-213a-4221-9dcf-7e885a30738b', 'node_0f5cb1d3-621f-45b9-9f45-4a38758e5ebf', 'node_ff1ad308-d26a-4c73-8ffc-87df03618014']\n",
      "2022-01-10 15:04:13,607 fedbiomed INFO - Send message to node node_c27b3141-213a-4221-9dcf-7e885a30738b - {'researcher_id': 'researcher_a7319768-5c08-43f6-a819-9a487cb1cc02', 'job_id': '3419b15e-3590-49f2-a705-4c96d11ca738', 'training_args': {'epochs': 5}, 'model_args': {'max_iter': 1000, 'tol': 0.001, 'model': 'SGDRegressor', 'n_features': 8, 'verbose': 1}, 'command': 'train', 'model_url': 'http://localhost:8844/media/uploads/2022/01/10/my_model_234eccb6-6e64-463d-bbf5-a21bc7893d1d.py', 'params_url': 'http://localhost:8844/media/uploads/2022/01/10/aggregated_params_e01feec1-a322-42c8-802b-e9823c46ccca.pt', 'model_class': 'SGDRegressorTrainingPlan', 'training_data': {'node_c27b3141-213a-4221-9dcf-7e885a30738b': ['dataset_706fc178-989a-4251-ab42-5850637cd0a6']}}\n",
      "2022-01-10 15:04:13,608 fedbiomed DEBUG - researcher_a7319768-5c08-43f6-a819-9a487cb1cc02\n",
      "2022-01-10 15:04:13,610 fedbiomed INFO - Send message to node node_0f5cb1d3-621f-45b9-9f45-4a38758e5ebf - {'researcher_id': 'researcher_a7319768-5c08-43f6-a819-9a487cb1cc02', 'job_id': '3419b15e-3590-49f2-a705-4c96d11ca738', 'training_args': {'epochs': 5}, 'model_args': {'max_iter': 1000, 'tol': 0.001, 'model': 'SGDRegressor', 'n_features': 8, 'verbose': 1}, 'command': 'train', 'model_url': 'http://localhost:8844/media/uploads/2022/01/10/my_model_234eccb6-6e64-463d-bbf5-a21bc7893d1d.py', 'params_url': 'http://localhost:8844/media/uploads/2022/01/10/aggregated_params_e01feec1-a322-42c8-802b-e9823c46ccca.pt', 'model_class': 'SGDRegressorTrainingPlan', 'training_data': {'node_0f5cb1d3-621f-45b9-9f45-4a38758e5ebf': ['dataset_253f8b93-4b7b-43af-bee7-59cff68e9cc6']}}\n",
      "2022-01-10 15:04:13,611 fedbiomed DEBUG - researcher_a7319768-5c08-43f6-a819-9a487cb1cc02\n",
      "2022-01-10 15:04:13,613 fedbiomed INFO - Send message to node node_ff1ad308-d26a-4c73-8ffc-87df03618014 - {'researcher_id': 'researcher_a7319768-5c08-43f6-a819-9a487cb1cc02', 'job_id': '3419b15e-3590-49f2-a705-4c96d11ca738', 'training_args': {'epochs': 5}, 'model_args': {'max_iter': 1000, 'tol': 0.001, 'model': 'SGDRegressor', 'n_features': 8, 'verbose': 1}, 'command': 'train', 'model_url': 'http://localhost:8844/media/uploads/2022/01/10/my_model_234eccb6-6e64-463d-bbf5-a21bc7893d1d.py', 'params_url': 'http://localhost:8844/media/uploads/2022/01/10/aggregated_params_e01feec1-a322-42c8-802b-e9823c46ccca.pt', 'model_class': 'SGDRegressorTrainingPlan', 'training_data': {'node_ff1ad308-d26a-4c73-8ffc-87df03618014': ['dataset_6449edb0-8037-4071-beb2-9da26a529c98']}}\n",
      "2022-01-10 15:04:13,615 fedbiomed DEBUG - researcher_a7319768-5c08-43f6-a819-9a487cb1cc02\n",
      "2022-01-10 15:04:13,619 fedbiomed INFO - log from: node_c27b3141-213a-4221-9dcf-7e885a30738b / DEBUG - Message received: {'researcher_id': 'researcher_a7319768-5c08-43f6-a819-9a487cb1cc02', 'job_id': '3419b15e-3590-49f2-a705-4c96d11ca738', 'training_args': {'epochs': 5}, 'model_args': {'max_iter': 1000, 'tol': 0.001, 'model': 'SGDRegressor', 'n_features': 8, 'verbose': 1}, 'command': 'train', 'model_url': 'http://localhost:8844/media/uploads/2022/01/10/my_model_234eccb6-6e64-463d-bbf5-a21bc7893d1d.py', 'params_url': 'http://localhost:8844/media/uploads/2022/01/10/aggregated_params_e01feec1-a322-42c8-802b-e9823c46ccca.pt', 'model_class': 'SGDRegressorTrainingPlan', 'training_data': {'node_c27b3141-213a-4221-9dcf-7e885a30738b': ['dataset_706fc178-989a-4251-ab42-5850637cd0a6']}}\n",
      "2022-01-10 15:04:13,623 fedbiomed INFO - log from: node_0f5cb1d3-621f-45b9-9f45-4a38758e5ebf / DEBUG - Message received: {'researcher_id': 'researcher_a7319768-5c08-43f6-a819-9a487cb1cc02', 'job_id': '3419b15e-3590-49f2-a705-4c96d11ca738', 'training_args': {'epochs': 5}, 'model_args': {'max_iter': 1000, 'tol': 0.001, 'model': 'SGDRegressor', 'n_features': 8, 'verbose': 1}, 'command': 'train', 'model_url': 'http://localhost:8844/media/uploads/2022/01/10/my_model_234eccb6-6e64-463d-bbf5-a21bc7893d1d.py', 'params_url': 'http://localhost:8844/media/uploads/2022/01/10/aggregated_params_e01feec1-a322-42c8-802b-e9823c46ccca.pt', 'model_class': 'SGDRegressorTrainingPlan', 'training_data': {'node_0f5cb1d3-621f-45b9-9f45-4a38758e5ebf': ['dataset_253f8b93-4b7b-43af-bee7-59cff68e9cc6']}}\n"
     ]
    },
    {
     "name": "stderr",
     "output_type": "stream",
     "text": [
      "2022-01-10 15:04:13,626 fedbiomed INFO - log from: node_c27b3141-213a-4221-9dcf-7e885a30738b / DEBUG - [TASKS QUEUE] Item:{'researcher_id': 'researcher_a7319768-5c08-43f6-a819-9a487cb1cc02', 'job_id': '3419b15e-3590-49f2-a705-4c96d11ca738', 'params_url': 'http://localhost:8844/media/uploads/2022/01/10/aggregated_params_e01feec1-a322-42c8-802b-e9823c46ccca.pt', 'training_args': {'epochs': 5}, 'training_data': {'node_c27b3141-213a-4221-9dcf-7e885a30738b': ['dataset_706fc178-989a-4251-ab42-5850637cd0a6']}, 'model_args': {'max_iter': 1000, 'tol': 0.001, 'model': 'SGDRegressor', 'n_features': 8, 'verbose': 1}, 'model_url': 'http://localhost:8844/media/uploads/2022/01/10/my_model_234eccb6-6e64-463d-bbf5-a21bc7893d1d.py', 'model_class': 'SGDRegressorTrainingPlan', 'command': 'train'}\n",
      "2022-01-10 15:04:13,628 fedbiomed INFO - log from: node_0f5cb1d3-621f-45b9-9f45-4a38758e5ebf / DEBUG - [TASKS QUEUE] Item:{'researcher_id': 'researcher_a7319768-5c08-43f6-a819-9a487cb1cc02', 'job_id': '3419b15e-3590-49f2-a705-4c96d11ca738', 'params_url': 'http://localhost:8844/media/uploads/2022/01/10/aggregated_params_e01feec1-a322-42c8-802b-e9823c46ccca.pt', 'training_args': {'epochs': 5}, 'training_data': {'node_0f5cb1d3-621f-45b9-9f45-4a38758e5ebf': ['dataset_253f8b93-4b7b-43af-bee7-59cff68e9cc6']}, 'model_args': {'max_iter': 1000, 'tol': 0.001, 'model': 'SGDRegressor', 'n_features': 8, 'verbose': 1}, 'model_url': 'http://localhost:8844/media/uploads/2022/01/10/my_model_234eccb6-6e64-463d-bbf5-a21bc7893d1d.py', 'model_class': 'SGDRegressorTrainingPlan', 'command': 'train'}\n",
      "2022-01-10 15:04:13,631 fedbiomed INFO - log from: node_ff1ad308-d26a-4c73-8ffc-87df03618014 / DEBUG - Message received: {'researcher_id': 'researcher_a7319768-5c08-43f6-a819-9a487cb1cc02', 'job_id': '3419b15e-3590-49f2-a705-4c96d11ca738', 'training_args': {'epochs': 5}, 'model_args': {'max_iter': 1000, 'tol': 0.001, 'model': 'SGDRegressor', 'n_features': 8, 'verbose': 1}, 'command': 'train', 'model_url': 'http://localhost:8844/media/uploads/2022/01/10/my_model_234eccb6-6e64-463d-bbf5-a21bc7893d1d.py', 'params_url': 'http://localhost:8844/media/uploads/2022/01/10/aggregated_params_e01feec1-a322-42c8-802b-e9823c46ccca.pt', 'model_class': 'SGDRegressorTrainingPlan', 'training_data': {'node_ff1ad308-d26a-4c73-8ffc-87df03618014': ['dataset_6449edb0-8037-4071-beb2-9da26a529c98']}}\n",
      "2022-01-10 15:04:13,637 fedbiomed INFO - log from: node_ff1ad308-d26a-4c73-8ffc-87df03618014 / DEBUG - [TASKS QUEUE] Item:{'researcher_id': 'researcher_a7319768-5c08-43f6-a819-9a487cb1cc02', 'job_id': '3419b15e-3590-49f2-a705-4c96d11ca738', 'params_url': 'http://localhost:8844/media/uploads/2022/01/10/aggregated_params_e01feec1-a322-42c8-802b-e9823c46ccca.pt', 'training_args': {'epochs': 5}, 'training_data': {'node_ff1ad308-d26a-4c73-8ffc-87df03618014': ['dataset_6449edb0-8037-4071-beb2-9da26a529c98']}, 'model_args': {'max_iter': 1000, 'tol': 0.001, 'model': 'SGDRegressor', 'n_features': 8, 'verbose': 1}, 'model_url': 'http://localhost:8844/media/uploads/2022/01/10/my_model_234eccb6-6e64-463d-bbf5-a21bc7893d1d.py', 'model_class': 'SGDRegressorTrainingPlan', 'command': 'train'}\n",
      "2022-01-10 15:04:13,669 fedbiomed INFO - log from: node_c27b3141-213a-4221-9dcf-7e885a30738b / INFO - {'monitor': <fedbiomed.node.history_monitor.HistoryMonitor object at 0x12c8ce7c0>, 'epochs': 5}\n",
      "2022-01-10 15:04:13,670 fedbiomed INFO - log from: node_0f5cb1d3-621f-45b9-9f45-4a38758e5ebf / INFO - {'monitor': <fedbiomed.node.history_monitor.HistoryMonitor object at 0x112aa5820>, 'epochs': 5}\n",
      "2022-01-10 15:04:13,673 fedbiomed INFO - log from: node_c27b3141-213a-4221-9dcf-7e885a30738b / DEBUG - Dataset_path/Users/mlorenzi/works/temp/flhd_copy/heterogeneous_data/adni_client1.csv\n",
      "2022-01-10 15:04:13,675 fedbiomed INFO - log from: node_0f5cb1d3-621f-45b9-9f45-4a38758e5ebf / DEBUG - Dataset_path/Users/mlorenzi/works/temp/flhd_copy/heterogeneous_data/adni_client2.csv\n",
      "2022-01-10 15:04:13,677 fedbiomed INFO - log from: node_ff1ad308-d26a-4c73-8ffc-87df03618014 / INFO - {'monitor': <fedbiomed.node.history_monitor.HistoryMonitor object at 0x134b1ac10>, 'epochs': 5}\n",
      "2022-01-10 15:04:13,680 fedbiomed INFO - log from: node_ff1ad308-d26a-4c73-8ffc-87df03618014 / DEBUG - Dataset_path/Users/mlorenzi/works/temp/flhd_copy/heterogeneous_data/adni_client3.csv\n",
      "2022-01-10 15:04:13,682 fedbiomed INFO - log from: node_0f5cb1d3-621f-45b9-9f45-4a38758e5ebf / INFO - Train Epoch: 0 [Batch All Samples]\tLoss: 2.482123\n",
      "2022-01-10 15:04:13,685 fedbiomed INFO - log from: node_c27b3141-213a-4221-9dcf-7e885a30738b / INFO - Train Epoch: 0 [Batch All Samples]\tLoss: 2.599734\n",
      "2022-01-10 15:04:13,689 fedbiomed INFO - log from: node_0f5cb1d3-621f-45b9-9f45-4a38758e5ebf / INFO - Train Epoch: 1 [Batch All Samples]\tLoss: 2.460021\n",
      "2022-01-10 15:04:13,693 fedbiomed INFO - log from: node_c27b3141-213a-4221-9dcf-7e885a30738b / INFO - Train Epoch: 1 [Batch All Samples]\tLoss: 2.524099\n",
      "2022-01-10 15:04:13,696 fedbiomed INFO - log from: node_0f5cb1d3-621f-45b9-9f45-4a38758e5ebf / INFO - Train Epoch: 2 [Batch All Samples]\tLoss: 2.493021\n",
      "2022-01-10 15:04:13,698 fedbiomed INFO - log from: node_c27b3141-213a-4221-9dcf-7e885a30738b / INFO - Train Epoch: 2 [Batch All Samples]\tLoss: 2.553608\n",
      "2022-01-10 15:04:13,699 fedbiomed INFO - log from: node_0f5cb1d3-621f-45b9-9f45-4a38758e5ebf / INFO - Train Epoch: 3 [Batch All Samples]\tLoss: 2.502397\n",
      "2022-01-10 15:04:13,701 fedbiomed INFO - log from: node_c27b3141-213a-4221-9dcf-7e885a30738b / INFO - Train Epoch: 3 [Batch All Samples]\tLoss: 2.517191\n",
      "2022-01-10 15:04:13,703 fedbiomed INFO - log from: node_c27b3141-213a-4221-9dcf-7e885a30738b / INFO - Train Epoch: 4 [Batch All Samples]\tLoss: 2.531072\n",
      "2022-01-10 15:04:13,705 fedbiomed INFO - log from: node_ff1ad308-d26a-4c73-8ffc-87df03618014 / INFO - Train Epoch: 0 [Batch All Samples]\tLoss: 2.870657\n",
      "2022-01-10 15:04:13,706 fedbiomed INFO - log from: node_0f5cb1d3-621f-45b9-9f45-4a38758e5ebf / INFO - Train Epoch: 4 [Batch All Samples]\tLoss: 2.424997\n",
      "2022-01-10 15:04:13,708 fedbiomed INFO - log from: node_ff1ad308-d26a-4c73-8ffc-87df03618014 / INFO - Train Epoch: 1 [Batch All Samples]\tLoss: 2.826440\n",
      "2022-01-10 15:04:13,710 fedbiomed INFO - log from: node_ff1ad308-d26a-4c73-8ffc-87df03618014 / INFO - Train Epoch: 2 [Batch All Samples]\tLoss: 2.794439\n",
      "2022-01-10 15:04:13,712 fedbiomed INFO - log from: node_ff1ad308-d26a-4c73-8ffc-87df03618014 / INFO - Train Epoch: 3 [Batch All Samples]\tLoss: 2.782514\n",
      "2022-01-10 15:04:13,713 fedbiomed INFO - log from: node_ff1ad308-d26a-4c73-8ffc-87df03618014 / INFO - Train Epoch: 4 [Batch All Samples]\tLoss: 2.756313\n",
      "2022-01-10 15:04:13,770 fedbiomed INFO - log from: node_c27b3141-213a-4221-9dcf-7e885a30738b / INFO - results uploaded successfully \n",
      "2022-01-10 15:04:13,820 fedbiomed INFO - log from: node_ff1ad308-d26a-4c73-8ffc-87df03618014 / INFO - results uploaded successfully \n",
      "2022-01-10 15:04:13,867 fedbiomed INFO - log from: node_0f5cb1d3-621f-45b9-9f45-4a38758e5ebf / INFO - results uploaded successfully \n",
      "2022-01-10 15:04:23,627 fedbiomed INFO - Downloading model params after training on node_c27b3141-213a-4221-9dcf-7e885a30738b - from http://localhost:8844/media/uploads/2022/01/10/node_params_cf1a5158-5620-4adc-8bb1-1c9a8047f600.pt\n",
      "2022-01-10 15:04:23,646 fedbiomed INFO - Downloading model params after training on node_ff1ad308-d26a-4c73-8ffc-87df03618014 - from http://localhost:8844/media/uploads/2022/01/10/node_params_cd11caad-08e0-4969-a801-36ccc0ca4b1b.pt\n",
      "2022-01-10 15:04:23,661 fedbiomed INFO - Downloading model params after training on node_0f5cb1d3-621f-45b9-9f45-4a38758e5ebf - from http://localhost:8844/media/uploads/2022/01/10/node_params_153bf0c5-b10f-416b-9363-82d1086484e9.pt\n",
      "2022-01-10 15:04:23,676 fedbiomed INFO - Nodes that successfully reply in round 3 ['node_c27b3141-213a-4221-9dcf-7e885a30738b', 'node_ff1ad308-d26a-4c73-8ffc-87df03618014', 'node_0f5cb1d3-621f-45b9-9f45-4a38758e5ebf']\n",
      "2022-01-10 15:04:23,741 fedbiomed INFO - Saved aggregated params for round 3 in /Users/mlorenzi/works/temp/fedbiomed/var/experiments/Experiment_0010/aggregated_params_3b3a8996-cf38-448e-b082-38f5dc84ef98.pt\n",
      "2022-01-10 15:04:23,742 fedbiomed INFO - Sampled nodes in round 4 ['node_c27b3141-213a-4221-9dcf-7e885a30738b', 'node_0f5cb1d3-621f-45b9-9f45-4a38758e5ebf', 'node_ff1ad308-d26a-4c73-8ffc-87df03618014']\n"
     ]
    },
    {
     "name": "stderr",
     "output_type": "stream",
     "text": [
      "2022-01-10 15:04:23,743 fedbiomed INFO - Send message to node node_c27b3141-213a-4221-9dcf-7e885a30738b - {'researcher_id': 'researcher_a7319768-5c08-43f6-a819-9a487cb1cc02', 'job_id': '3419b15e-3590-49f2-a705-4c96d11ca738', 'training_args': {'epochs': 5}, 'model_args': {'max_iter': 1000, 'tol': 0.001, 'model': 'SGDRegressor', 'n_features': 8, 'verbose': 1}, 'command': 'train', 'model_url': 'http://localhost:8844/media/uploads/2022/01/10/my_model_234eccb6-6e64-463d-bbf5-a21bc7893d1d.py', 'params_url': 'http://localhost:8844/media/uploads/2022/01/10/aggregated_params_3b3a8996-cf38-448e-b082-38f5dc84ef98.pt', 'model_class': 'SGDRegressorTrainingPlan', 'training_data': {'node_c27b3141-213a-4221-9dcf-7e885a30738b': ['dataset_706fc178-989a-4251-ab42-5850637cd0a6']}}\n",
      "2022-01-10 15:04:23,744 fedbiomed DEBUG - researcher_a7319768-5c08-43f6-a819-9a487cb1cc02\n",
      "2022-01-10 15:04:23,745 fedbiomed INFO - Send message to node node_0f5cb1d3-621f-45b9-9f45-4a38758e5ebf - {'researcher_id': 'researcher_a7319768-5c08-43f6-a819-9a487cb1cc02', 'job_id': '3419b15e-3590-49f2-a705-4c96d11ca738', 'training_args': {'epochs': 5}, 'model_args': {'max_iter': 1000, 'tol': 0.001, 'model': 'SGDRegressor', 'n_features': 8, 'verbose': 1}, 'command': 'train', 'model_url': 'http://localhost:8844/media/uploads/2022/01/10/my_model_234eccb6-6e64-463d-bbf5-a21bc7893d1d.py', 'params_url': 'http://localhost:8844/media/uploads/2022/01/10/aggregated_params_3b3a8996-cf38-448e-b082-38f5dc84ef98.pt', 'model_class': 'SGDRegressorTrainingPlan', 'training_data': {'node_0f5cb1d3-621f-45b9-9f45-4a38758e5ebf': ['dataset_253f8b93-4b7b-43af-bee7-59cff68e9cc6']}}\n",
      "2022-01-10 15:04:23,746 fedbiomed DEBUG - researcher_a7319768-5c08-43f6-a819-9a487cb1cc02\n",
      "2022-01-10 15:04:23,747 fedbiomed INFO - Send message to node node_ff1ad308-d26a-4c73-8ffc-87df03618014 - {'researcher_id': 'researcher_a7319768-5c08-43f6-a819-9a487cb1cc02', 'job_id': '3419b15e-3590-49f2-a705-4c96d11ca738', 'training_args': {'epochs': 5}, 'model_args': {'max_iter': 1000, 'tol': 0.001, 'model': 'SGDRegressor', 'n_features': 8, 'verbose': 1}, 'command': 'train', 'model_url': 'http://localhost:8844/media/uploads/2022/01/10/my_model_234eccb6-6e64-463d-bbf5-a21bc7893d1d.py', 'params_url': 'http://localhost:8844/media/uploads/2022/01/10/aggregated_params_3b3a8996-cf38-448e-b082-38f5dc84ef98.pt', 'model_class': 'SGDRegressorTrainingPlan', 'training_data': {'node_ff1ad308-d26a-4c73-8ffc-87df03618014': ['dataset_6449edb0-8037-4071-beb2-9da26a529c98']}}\n",
      "2022-01-10 15:04:23,749 fedbiomed DEBUG - researcher_a7319768-5c08-43f6-a819-9a487cb1cc02\n",
      "2022-01-10 15:04:23,757 fedbiomed INFO - log from: node_c27b3141-213a-4221-9dcf-7e885a30738b / DEBUG - Message received: {'researcher_id': 'researcher_a7319768-5c08-43f6-a819-9a487cb1cc02', 'job_id': '3419b15e-3590-49f2-a705-4c96d11ca738', 'training_args': {'epochs': 5}, 'model_args': {'max_iter': 1000, 'tol': 0.001, 'model': 'SGDRegressor', 'n_features': 8, 'verbose': 1}, 'command': 'train', 'model_url': 'http://localhost:8844/media/uploads/2022/01/10/my_model_234eccb6-6e64-463d-bbf5-a21bc7893d1d.py', 'params_url': 'http://localhost:8844/media/uploads/2022/01/10/aggregated_params_3b3a8996-cf38-448e-b082-38f5dc84ef98.pt', 'model_class': 'SGDRegressorTrainingPlan', 'training_data': {'node_c27b3141-213a-4221-9dcf-7e885a30738b': ['dataset_706fc178-989a-4251-ab42-5850637cd0a6']}}\n",
      "2022-01-10 15:04:23,760 fedbiomed INFO - log from: node_0f5cb1d3-621f-45b9-9f45-4a38758e5ebf / DEBUG - Message received: {'researcher_id': 'researcher_a7319768-5c08-43f6-a819-9a487cb1cc02', 'job_id': '3419b15e-3590-49f2-a705-4c96d11ca738', 'training_args': {'epochs': 5}, 'model_args': {'max_iter': 1000, 'tol': 0.001, 'model': 'SGDRegressor', 'n_features': 8, 'verbose': 1}, 'command': 'train', 'model_url': 'http://localhost:8844/media/uploads/2022/01/10/my_model_234eccb6-6e64-463d-bbf5-a21bc7893d1d.py', 'params_url': 'http://localhost:8844/media/uploads/2022/01/10/aggregated_params_3b3a8996-cf38-448e-b082-38f5dc84ef98.pt', 'model_class': 'SGDRegressorTrainingPlan', 'training_data': {'node_0f5cb1d3-621f-45b9-9f45-4a38758e5ebf': ['dataset_253f8b93-4b7b-43af-bee7-59cff68e9cc6']}}\n",
      "2022-01-10 15:04:23,763 fedbiomed INFO - log from: node_ff1ad308-d26a-4c73-8ffc-87df03618014 / DEBUG - Message received: {'researcher_id': 'researcher_a7319768-5c08-43f6-a819-9a487cb1cc02', 'job_id': '3419b15e-3590-49f2-a705-4c96d11ca738', 'training_args': {'epochs': 5}, 'model_args': {'max_iter': 1000, 'tol': 0.001, 'model': 'SGDRegressor', 'n_features': 8, 'verbose': 1}, 'command': 'train', 'model_url': 'http://localhost:8844/media/uploads/2022/01/10/my_model_234eccb6-6e64-463d-bbf5-a21bc7893d1d.py', 'params_url': 'http://localhost:8844/media/uploads/2022/01/10/aggregated_params_3b3a8996-cf38-448e-b082-38f5dc84ef98.pt', 'model_class': 'SGDRegressorTrainingPlan', 'training_data': {'node_ff1ad308-d26a-4c73-8ffc-87df03618014': ['dataset_6449edb0-8037-4071-beb2-9da26a529c98']}}\n",
      "2022-01-10 15:04:23,767 fedbiomed INFO - log from: node_c27b3141-213a-4221-9dcf-7e885a30738b / DEBUG - [TASKS QUEUE] Item:{'researcher_id': 'researcher_a7319768-5c08-43f6-a819-9a487cb1cc02', 'job_id': '3419b15e-3590-49f2-a705-4c96d11ca738', 'params_url': 'http://localhost:8844/media/uploads/2022/01/10/aggregated_params_3b3a8996-cf38-448e-b082-38f5dc84ef98.pt', 'training_args': {'epochs': 5}, 'training_data': {'node_c27b3141-213a-4221-9dcf-7e885a30738b': ['dataset_706fc178-989a-4251-ab42-5850637cd0a6']}, 'model_args': {'max_iter': 1000, 'tol': 0.001, 'model': 'SGDRegressor', 'n_features': 8, 'verbose': 1}, 'model_url': 'http://localhost:8844/media/uploads/2022/01/10/my_model_234eccb6-6e64-463d-bbf5-a21bc7893d1d.py', 'model_class': 'SGDRegressorTrainingPlan', 'command': 'train'}\n",
      "2022-01-10 15:04:23,769 fedbiomed INFO - log from: node_0f5cb1d3-621f-45b9-9f45-4a38758e5ebf / DEBUG - [TASKS QUEUE] Item:{'researcher_id': 'researcher_a7319768-5c08-43f6-a819-9a487cb1cc02', 'job_id': '3419b15e-3590-49f2-a705-4c96d11ca738', 'params_url': 'http://localhost:8844/media/uploads/2022/01/10/aggregated_params_3b3a8996-cf38-448e-b082-38f5dc84ef98.pt', 'training_args': {'epochs': 5}, 'training_data': {'node_0f5cb1d3-621f-45b9-9f45-4a38758e5ebf': ['dataset_253f8b93-4b7b-43af-bee7-59cff68e9cc6']}, 'model_args': {'max_iter': 1000, 'tol': 0.001, 'model': 'SGDRegressor', 'n_features': 8, 'verbose': 1}, 'model_url': 'http://localhost:8844/media/uploads/2022/01/10/my_model_234eccb6-6e64-463d-bbf5-a21bc7893d1d.py', 'model_class': 'SGDRegressorTrainingPlan', 'command': 'train'}\n",
      "2022-01-10 15:04:23,771 fedbiomed INFO - log from: node_ff1ad308-d26a-4c73-8ffc-87df03618014 / DEBUG - [TASKS QUEUE] Item:{'researcher_id': 'researcher_a7319768-5c08-43f6-a819-9a487cb1cc02', 'job_id': '3419b15e-3590-49f2-a705-4c96d11ca738', 'params_url': 'http://localhost:8844/media/uploads/2022/01/10/aggregated_params_3b3a8996-cf38-448e-b082-38f5dc84ef98.pt', 'training_args': {'epochs': 5}, 'training_data': {'node_ff1ad308-d26a-4c73-8ffc-87df03618014': ['dataset_6449edb0-8037-4071-beb2-9da26a529c98']}, 'model_args': {'max_iter': 1000, 'tol': 0.001, 'model': 'SGDRegressor', 'n_features': 8, 'verbose': 1}, 'model_url': 'http://localhost:8844/media/uploads/2022/01/10/my_model_234eccb6-6e64-463d-bbf5-a21bc7893d1d.py', 'model_class': 'SGDRegressorTrainingPlan', 'command': 'train'}\n",
      "2022-01-10 15:04:23,806 fedbiomed INFO - log from: node_c27b3141-213a-4221-9dcf-7e885a30738b / INFO - {'monitor': <fedbiomed.node.history_monitor.HistoryMonitor object at 0x13a9103a0>, 'epochs': 5}\n",
      "2022-01-10 15:04:23,808 fedbiomed INFO - log from: node_c27b3141-213a-4221-9dcf-7e885a30738b / DEBUG - Dataset_path/Users/mlorenzi/works/temp/flhd_copy/heterogeneous_data/adni_client1.csv\n",
      "2022-01-10 15:04:23,816 fedbiomed INFO - log from: node_0f5cb1d3-621f-45b9-9f45-4a38758e5ebf / INFO - {'monitor': <fedbiomed.node.history_monitor.HistoryMonitor object at 0x1386ecd30>, 'epochs': 5}\n",
      "2022-01-10 15:04:23,818 fedbiomed INFO - log from: node_0f5cb1d3-621f-45b9-9f45-4a38758e5ebf / DEBUG - Dataset_path/Users/mlorenzi/works/temp/flhd_copy/heterogeneous_data/adni_client2.csv\n",
      "2022-01-10 15:04:23,820 fedbiomed INFO - log from: node_ff1ad308-d26a-4c73-8ffc-87df03618014 / INFO - {'monitor': <fedbiomed.node.history_monitor.HistoryMonitor object at 0x142b78c10>, 'epochs': 5}\n"
     ]
    },
    {
     "name": "stderr",
     "output_type": "stream",
     "text": [
      "2022-01-10 15:04:23,823 fedbiomed INFO - log from: node_ff1ad308-d26a-4c73-8ffc-87df03618014 / DEBUG - Dataset_path/Users/mlorenzi/works/temp/flhd_copy/heterogeneous_data/adni_client3.csv\n",
      "2022-01-10 15:04:23,825 fedbiomed INFO - log from: node_c27b3141-213a-4221-9dcf-7e885a30738b / INFO - Train Epoch: 0 [Batch All Samples]\tLoss: 2.558005\n",
      "2022-01-10 15:04:23,832 fedbiomed INFO - log from: node_c27b3141-213a-4221-9dcf-7e885a30738b / INFO - Train Epoch: 1 [Batch All Samples]\tLoss: 2.524178\n",
      "2022-01-10 15:04:23,837 fedbiomed INFO - log from: node_c27b3141-213a-4221-9dcf-7e885a30738b / INFO - Train Epoch: 2 [Batch All Samples]\tLoss: 2.504676\n",
      "2022-01-10 15:04:23,839 fedbiomed INFO - log from: node_c27b3141-213a-4221-9dcf-7e885a30738b / INFO - Train Epoch: 3 [Batch All Samples]\tLoss: 2.479930\n",
      "2022-01-10 15:04:23,841 fedbiomed INFO - log from: node_c27b3141-213a-4221-9dcf-7e885a30738b / INFO - Train Epoch: 4 [Batch All Samples]\tLoss: 2.481412\n",
      "2022-01-10 15:04:23,843 fedbiomed INFO - log from: node_0f5cb1d3-621f-45b9-9f45-4a38758e5ebf / INFO - Train Epoch: 0 [Batch All Samples]\tLoss: 2.460377\n",
      "2022-01-10 15:04:23,844 fedbiomed INFO - log from: node_0f5cb1d3-621f-45b9-9f45-4a38758e5ebf / INFO - Train Epoch: 1 [Batch All Samples]\tLoss: 2.497503\n",
      "2022-01-10 15:04:23,846 fedbiomed INFO - log from: node_ff1ad308-d26a-4c73-8ffc-87df03618014 / INFO - Train Epoch: 0 [Batch All Samples]\tLoss: 2.802127\n",
      "2022-01-10 15:04:23,849 fedbiomed INFO - log from: node_ff1ad308-d26a-4c73-8ffc-87df03618014 / INFO - Train Epoch: 1 [Batch All Samples]\tLoss: 2.818836\n",
      "2022-01-10 15:04:23,850 fedbiomed INFO - log from: node_0f5cb1d3-621f-45b9-9f45-4a38758e5ebf / INFO - Train Epoch: 2 [Batch All Samples]\tLoss: 2.476018\n",
      "2022-01-10 15:04:23,851 fedbiomed INFO - log from: node_0f5cb1d3-621f-45b9-9f45-4a38758e5ebf / INFO - Train Epoch: 3 [Batch All Samples]\tLoss: 2.422461\n",
      "2022-01-10 15:04:23,854 fedbiomed INFO - log from: node_0f5cb1d3-621f-45b9-9f45-4a38758e5ebf / INFO - Train Epoch: 4 [Batch All Samples]\tLoss: 2.432537\n",
      "2022-01-10 15:04:23,856 fedbiomed INFO - log from: node_ff1ad308-d26a-4c73-8ffc-87df03618014 / INFO - Train Epoch: 2 [Batch All Samples]\tLoss: 2.756224\n",
      "2022-01-10 15:04:23,858 fedbiomed INFO - log from: node_ff1ad308-d26a-4c73-8ffc-87df03618014 / INFO - Train Epoch: 3 [Batch All Samples]\tLoss: 2.801010\n",
      "2022-01-10 15:04:23,860 fedbiomed INFO - log from: node_ff1ad308-d26a-4c73-8ffc-87df03618014 / INFO - Train Epoch: 4 [Batch All Samples]\tLoss: 2.777432\n",
      "2022-01-10 15:04:23,920 fedbiomed INFO - log from: node_c27b3141-213a-4221-9dcf-7e885a30738b / INFO - results uploaded successfully \n",
      "2022-01-10 15:04:23,956 fedbiomed INFO - log from: node_0f5cb1d3-621f-45b9-9f45-4a38758e5ebf / INFO - results uploaded successfully \n",
      "2022-01-10 15:04:23,993 fedbiomed INFO - log from: node_ff1ad308-d26a-4c73-8ffc-87df03618014 / INFO - results uploaded successfully \n",
      "2022-01-10 15:04:33,764 fedbiomed INFO - Downloading model params after training on node_c27b3141-213a-4221-9dcf-7e885a30738b - from http://localhost:8844/media/uploads/2022/01/10/node_params_d35bb9be-fba2-41fe-a3f7-17092a73a742.pt\n",
      "2022-01-10 15:04:33,780 fedbiomed INFO - Downloading model params after training on node_0f5cb1d3-621f-45b9-9f45-4a38758e5ebf - from http://localhost:8844/media/uploads/2022/01/10/node_params_a90d0bcd-8bcb-4752-b68f-2f62e1561c11.pt\n",
      "2022-01-10 15:04:33,793 fedbiomed INFO - Downloading model params after training on node_ff1ad308-d26a-4c73-8ffc-87df03618014 - from http://localhost:8844/media/uploads/2022/01/10/node_params_3381b483-ebc3-4b27-abba-6487c8694389.pt\n",
      "2022-01-10 15:04:33,808 fedbiomed INFO - Nodes that successfully reply in round 4 ['node_c27b3141-213a-4221-9dcf-7e885a30738b', 'node_0f5cb1d3-621f-45b9-9f45-4a38758e5ebf', 'node_ff1ad308-d26a-4c73-8ffc-87df03618014']\n",
      "2022-01-10 15:04:33,863 fedbiomed INFO - Saved aggregated params for round 4 in /Users/mlorenzi/works/temp/fedbiomed/var/experiments/Experiment_0010/aggregated_params_3894b198-24cc-457a-8bd2-edaeef4dca43.pt\n",
      "2022-01-10 15:04:33,864 fedbiomed INFO - Sampled nodes in round 5 ['node_c27b3141-213a-4221-9dcf-7e885a30738b', 'node_0f5cb1d3-621f-45b9-9f45-4a38758e5ebf', 'node_ff1ad308-d26a-4c73-8ffc-87df03618014']\n",
      "2022-01-10 15:04:33,865 fedbiomed INFO - Send message to node node_c27b3141-213a-4221-9dcf-7e885a30738b - {'researcher_id': 'researcher_a7319768-5c08-43f6-a819-9a487cb1cc02', 'job_id': '3419b15e-3590-49f2-a705-4c96d11ca738', 'training_args': {'epochs': 5}, 'model_args': {'max_iter': 1000, 'tol': 0.001, 'model': 'SGDRegressor', 'n_features': 8, 'verbose': 1}, 'command': 'train', 'model_url': 'http://localhost:8844/media/uploads/2022/01/10/my_model_234eccb6-6e64-463d-bbf5-a21bc7893d1d.py', 'params_url': 'http://localhost:8844/media/uploads/2022/01/10/aggregated_params_3894b198-24cc-457a-8bd2-edaeef4dca43.pt', 'model_class': 'SGDRegressorTrainingPlan', 'training_data': {'node_c27b3141-213a-4221-9dcf-7e885a30738b': ['dataset_706fc178-989a-4251-ab42-5850637cd0a6']}}\n",
      "2022-01-10 15:04:33,866 fedbiomed DEBUG - researcher_a7319768-5c08-43f6-a819-9a487cb1cc02\n",
      "2022-01-10 15:04:33,870 fedbiomed INFO - Send message to node node_0f5cb1d3-621f-45b9-9f45-4a38758e5ebf - {'researcher_id': 'researcher_a7319768-5c08-43f6-a819-9a487cb1cc02', 'job_id': '3419b15e-3590-49f2-a705-4c96d11ca738', 'training_args': {'epochs': 5}, 'model_args': {'max_iter': 1000, 'tol': 0.001, 'model': 'SGDRegressor', 'n_features': 8, 'verbose': 1}, 'command': 'train', 'model_url': 'http://localhost:8844/media/uploads/2022/01/10/my_model_234eccb6-6e64-463d-bbf5-a21bc7893d1d.py', 'params_url': 'http://localhost:8844/media/uploads/2022/01/10/aggregated_params_3894b198-24cc-457a-8bd2-edaeef4dca43.pt', 'model_class': 'SGDRegressorTrainingPlan', 'training_data': {'node_0f5cb1d3-621f-45b9-9f45-4a38758e5ebf': ['dataset_253f8b93-4b7b-43af-bee7-59cff68e9cc6']}}\n",
      "2022-01-10 15:04:33,873 fedbiomed DEBUG - researcher_a7319768-5c08-43f6-a819-9a487cb1cc02\n",
      "2022-01-10 15:04:33,875 fedbiomed INFO - Send message to node node_ff1ad308-d26a-4c73-8ffc-87df03618014 - {'researcher_id': 'researcher_a7319768-5c08-43f6-a819-9a487cb1cc02', 'job_id': '3419b15e-3590-49f2-a705-4c96d11ca738', 'training_args': {'epochs': 5}, 'model_args': {'max_iter': 1000, 'tol': 0.001, 'model': 'SGDRegressor', 'n_features': 8, 'verbose': 1}, 'command': 'train', 'model_url': 'http://localhost:8844/media/uploads/2022/01/10/my_model_234eccb6-6e64-463d-bbf5-a21bc7893d1d.py', 'params_url': 'http://localhost:8844/media/uploads/2022/01/10/aggregated_params_3894b198-24cc-457a-8bd2-edaeef4dca43.pt', 'model_class': 'SGDRegressorTrainingPlan', 'training_data': {'node_ff1ad308-d26a-4c73-8ffc-87df03618014': ['dataset_6449edb0-8037-4071-beb2-9da26a529c98']}}\n",
      "2022-01-10 15:04:33,877 fedbiomed DEBUG - researcher_a7319768-5c08-43f6-a819-9a487cb1cc02\n",
      "2022-01-10 15:04:33,880 fedbiomed INFO - log from: node_c27b3141-213a-4221-9dcf-7e885a30738b / DEBUG - Message received: {'researcher_id': 'researcher_a7319768-5c08-43f6-a819-9a487cb1cc02', 'job_id': '3419b15e-3590-49f2-a705-4c96d11ca738', 'training_args': {'epochs': 5}, 'model_args': {'max_iter': 1000, 'tol': 0.001, 'model': 'SGDRegressor', 'n_features': 8, 'verbose': 1}, 'command': 'train', 'model_url': 'http://localhost:8844/media/uploads/2022/01/10/my_model_234eccb6-6e64-463d-bbf5-a21bc7893d1d.py', 'params_url': 'http://localhost:8844/media/uploads/2022/01/10/aggregated_params_3894b198-24cc-457a-8bd2-edaeef4dca43.pt', 'model_class': 'SGDRegressorTrainingPlan', 'training_data': {'node_c27b3141-213a-4221-9dcf-7e885a30738b': ['dataset_706fc178-989a-4251-ab42-5850637cd0a6']}}\n",
      "2022-01-10 15:04:33,885 fedbiomed INFO - log from: node_0f5cb1d3-621f-45b9-9f45-4a38758e5ebf / DEBUG - Message received: {'researcher_id': 'researcher_a7319768-5c08-43f6-a819-9a487cb1cc02', 'job_id': '3419b15e-3590-49f2-a705-4c96d11ca738', 'training_args': {'epochs': 5}, 'model_args': {'max_iter': 1000, 'tol': 0.001, 'model': 'SGDRegressor', 'n_features': 8, 'verbose': 1}, 'command': 'train', 'model_url': 'http://localhost:8844/media/uploads/2022/01/10/my_model_234eccb6-6e64-463d-bbf5-a21bc7893d1d.py', 'params_url': 'http://localhost:8844/media/uploads/2022/01/10/aggregated_params_3894b198-24cc-457a-8bd2-edaeef4dca43.pt', 'model_class': 'SGDRegressorTrainingPlan', 'training_data': {'node_0f5cb1d3-621f-45b9-9f45-4a38758e5ebf': ['dataset_253f8b93-4b7b-43af-bee7-59cff68e9cc6']}}\n"
     ]
    },
    {
     "name": "stderr",
     "output_type": "stream",
     "text": [
      "2022-01-10 15:04:33,887 fedbiomed INFO - log from: node_0f5cb1d3-621f-45b9-9f45-4a38758e5ebf / DEBUG - [TASKS QUEUE] Item:{'researcher_id': 'researcher_a7319768-5c08-43f6-a819-9a487cb1cc02', 'job_id': '3419b15e-3590-49f2-a705-4c96d11ca738', 'params_url': 'http://localhost:8844/media/uploads/2022/01/10/aggregated_params_3894b198-24cc-457a-8bd2-edaeef4dca43.pt', 'training_args': {'epochs': 5}, 'training_data': {'node_0f5cb1d3-621f-45b9-9f45-4a38758e5ebf': ['dataset_253f8b93-4b7b-43af-bee7-59cff68e9cc6']}, 'model_args': {'max_iter': 1000, 'tol': 0.001, 'model': 'SGDRegressor', 'n_features': 8, 'verbose': 1}, 'model_url': 'http://localhost:8844/media/uploads/2022/01/10/my_model_234eccb6-6e64-463d-bbf5-a21bc7893d1d.py', 'model_class': 'SGDRegressorTrainingPlan', 'command': 'train'}\n",
      "2022-01-10 15:04:33,894 fedbiomed INFO - log from: node_c27b3141-213a-4221-9dcf-7e885a30738b / DEBUG - [TASKS QUEUE] Item:{'researcher_id': 'researcher_a7319768-5c08-43f6-a819-9a487cb1cc02', 'job_id': '3419b15e-3590-49f2-a705-4c96d11ca738', 'params_url': 'http://localhost:8844/media/uploads/2022/01/10/aggregated_params_3894b198-24cc-457a-8bd2-edaeef4dca43.pt', 'training_args': {'epochs': 5}, 'training_data': {'node_c27b3141-213a-4221-9dcf-7e885a30738b': ['dataset_706fc178-989a-4251-ab42-5850637cd0a6']}, 'model_args': {'max_iter': 1000, 'tol': 0.001, 'model': 'SGDRegressor', 'n_features': 8, 'verbose': 1}, 'model_url': 'http://localhost:8844/media/uploads/2022/01/10/my_model_234eccb6-6e64-463d-bbf5-a21bc7893d1d.py', 'model_class': 'SGDRegressorTrainingPlan', 'command': 'train'}\n",
      "2022-01-10 15:04:33,895 fedbiomed INFO - log from: node_ff1ad308-d26a-4c73-8ffc-87df03618014 / DEBUG - Message received: {'researcher_id': 'researcher_a7319768-5c08-43f6-a819-9a487cb1cc02', 'job_id': '3419b15e-3590-49f2-a705-4c96d11ca738', 'training_args': {'epochs': 5}, 'model_args': {'max_iter': 1000, 'tol': 0.001, 'model': 'SGDRegressor', 'n_features': 8, 'verbose': 1}, 'command': 'train', 'model_url': 'http://localhost:8844/media/uploads/2022/01/10/my_model_234eccb6-6e64-463d-bbf5-a21bc7893d1d.py', 'params_url': 'http://localhost:8844/media/uploads/2022/01/10/aggregated_params_3894b198-24cc-457a-8bd2-edaeef4dca43.pt', 'model_class': 'SGDRegressorTrainingPlan', 'training_data': {'node_ff1ad308-d26a-4c73-8ffc-87df03618014': ['dataset_6449edb0-8037-4071-beb2-9da26a529c98']}}\n",
      "2022-01-10 15:04:33,929 fedbiomed INFO - log from: node_ff1ad308-d26a-4c73-8ffc-87df03618014 / DEBUG - [TASKS QUEUE] Item:{'researcher_id': 'researcher_a7319768-5c08-43f6-a819-9a487cb1cc02', 'job_id': '3419b15e-3590-49f2-a705-4c96d11ca738', 'params_url': 'http://localhost:8844/media/uploads/2022/01/10/aggregated_params_3894b198-24cc-457a-8bd2-edaeef4dca43.pt', 'training_args': {'epochs': 5}, 'training_data': {'node_ff1ad308-d26a-4c73-8ffc-87df03618014': ['dataset_6449edb0-8037-4071-beb2-9da26a529c98']}, 'model_args': {'max_iter': 1000, 'tol': 0.001, 'model': 'SGDRegressor', 'n_features': 8, 'verbose': 1}, 'model_url': 'http://localhost:8844/media/uploads/2022/01/10/my_model_234eccb6-6e64-463d-bbf5-a21bc7893d1d.py', 'model_class': 'SGDRegressorTrainingPlan', 'command': 'train'}\n",
      "2022-01-10 15:04:33,932 fedbiomed INFO - log from: node_c27b3141-213a-4221-9dcf-7e885a30738b / INFO - {'monitor': <fedbiomed.node.history_monitor.HistoryMonitor object at 0x13a910730>, 'epochs': 5}\n",
      "2022-01-10 15:04:33,933 fedbiomed INFO - log from: node_c27b3141-213a-4221-9dcf-7e885a30738b / DEBUG - Dataset_path/Users/mlorenzi/works/temp/flhd_copy/heterogeneous_data/adni_client1.csv\n",
      "2022-01-10 15:04:33,941 fedbiomed INFO - log from: node_0f5cb1d3-621f-45b9-9f45-4a38758e5ebf / INFO - {'monitor': <fedbiomed.node.history_monitor.HistoryMonitor object at 0x12a69ba30>, 'epochs': 5}\n",
      "2022-01-10 15:04:33,943 fedbiomed INFO - log from: node_0f5cb1d3-621f-45b9-9f45-4a38758e5ebf / DEBUG - Dataset_path/Users/mlorenzi/works/temp/flhd_copy/heterogeneous_data/adni_client2.csv\n",
      "2022-01-10 15:04:33,945 fedbiomed INFO - log from: node_ff1ad308-d26a-4c73-8ffc-87df03618014 / INFO - {'monitor': <fedbiomed.node.history_monitor.HistoryMonitor object at 0x142c56340>, 'epochs': 5}\n",
      "2022-01-10 15:04:33,948 fedbiomed INFO - log from: node_c27b3141-213a-4221-9dcf-7e885a30738b / INFO - Train Epoch: 0 [Batch All Samples]\tLoss: 2.497539\n",
      "2022-01-10 15:04:33,951 fedbiomed INFO - log from: node_ff1ad308-d26a-4c73-8ffc-87df03618014 / DEBUG - Dataset_path/Users/mlorenzi/works/temp/flhd_copy/heterogeneous_data/adni_client3.csv\n",
      "2022-01-10 15:04:33,954 fedbiomed INFO - log from: node_c27b3141-213a-4221-9dcf-7e885a30738b / INFO - Train Epoch: 1 [Batch All Samples]\tLoss: 2.518148\n",
      "2022-01-10 15:04:33,955 fedbiomed INFO - log from: node_0f5cb1d3-621f-45b9-9f45-4a38758e5ebf / INFO - Train Epoch: 0 [Batch All Samples]\tLoss: 2.484309\n",
      "2022-01-10 15:04:33,958 fedbiomed INFO - log from: node_c27b3141-213a-4221-9dcf-7e885a30738b / INFO - Train Epoch: 2 [Batch All Samples]\tLoss: 2.445601\n",
      "2022-01-10 15:04:33,959 fedbiomed INFO - log from: node_c27b3141-213a-4221-9dcf-7e885a30738b / INFO - Train Epoch: 3 [Batch All Samples]\tLoss: 2.471721\n",
      "2022-01-10 15:04:33,961 fedbiomed INFO - log from: node_0f5cb1d3-621f-45b9-9f45-4a38758e5ebf / INFO - Train Epoch: 1 [Batch All Samples]\tLoss: 2.476681\n",
      "2022-01-10 15:04:33,963 fedbiomed INFO - log from: node_c27b3141-213a-4221-9dcf-7e885a30738b / INFO - Train Epoch: 4 [Batch All Samples]\tLoss: 2.477698\n",
      "2022-01-10 15:04:33,965 fedbiomed INFO - log from: node_0f5cb1d3-621f-45b9-9f45-4a38758e5ebf / INFO - Train Epoch: 2 [Batch All Samples]\tLoss: 2.444145\n",
      "2022-01-10 15:04:33,967 fedbiomed INFO - log from: node_0f5cb1d3-621f-45b9-9f45-4a38758e5ebf / INFO - Train Epoch: 3 [Batch All Samples]\tLoss: 2.420405\n",
      "2022-01-10 15:04:33,968 fedbiomed INFO - log from: node_0f5cb1d3-621f-45b9-9f45-4a38758e5ebf / INFO - Train Epoch: 4 [Batch All Samples]\tLoss: 2.442716\n",
      "2022-01-10 15:04:33,972 fedbiomed INFO - log from: node_ff1ad308-d26a-4c73-8ffc-87df03618014 / INFO - Train Epoch: 0 [Batch All Samples]\tLoss: 2.808584\n",
      "2022-01-10 15:04:33,974 fedbiomed INFO - log from: node_ff1ad308-d26a-4c73-8ffc-87df03618014 / INFO - Train Epoch: 1 [Batch All Samples]\tLoss: 2.784041\n",
      "2022-01-10 15:04:33,976 fedbiomed INFO - log from: node_ff1ad308-d26a-4c73-8ffc-87df03618014 / INFO - Train Epoch: 2 [Batch All Samples]\tLoss: 2.763685\n",
      "2022-01-10 15:04:33,996 fedbiomed INFO - log from: node_ff1ad308-d26a-4c73-8ffc-87df03618014 / INFO - Train Epoch: 3 [Batch All Samples]\tLoss: 2.738266\n",
      "2022-01-10 15:04:33,997 fedbiomed INFO - log from: node_ff1ad308-d26a-4c73-8ffc-87df03618014 / INFO - Train Epoch: 4 [Batch All Samples]\tLoss: 2.698666\n",
      "2022-01-10 15:04:34,051 fedbiomed INFO - log from: node_c27b3141-213a-4221-9dcf-7e885a30738b / INFO - results uploaded successfully \n",
      "2022-01-10 15:04:34,105 fedbiomed INFO - log from: node_0f5cb1d3-621f-45b9-9f45-4a38758e5ebf / INFO - results uploaded successfully \n",
      "2022-01-10 15:04:34,153 fedbiomed INFO - log from: node_ff1ad308-d26a-4c73-8ffc-87df03618014 / INFO - results uploaded successfully \n",
      "2022-01-10 15:04:43,890 fedbiomed INFO - Downloading model params after training on node_c27b3141-213a-4221-9dcf-7e885a30738b - from http://localhost:8844/media/uploads/2022/01/10/node_params_d1496e61-4815-4df1-9395-53cf440156a3.pt\n",
      "2022-01-10 15:04:43,904 fedbiomed INFO - Downloading model params after training on node_0f5cb1d3-621f-45b9-9f45-4a38758e5ebf - from http://localhost:8844/media/uploads/2022/01/10/node_params_bbd26786-fa3f-4f93-a8e8-be2fada67cd9.pt\n",
      "2022-01-10 15:04:43,921 fedbiomed INFO - Downloading model params after training on node_ff1ad308-d26a-4c73-8ffc-87df03618014 - from http://localhost:8844/media/uploads/2022/01/10/node_params_b56a5c89-d4b6-4ffb-88e3-d14ff6873527.pt\n",
      "2022-01-10 15:04:43,937 fedbiomed INFO - Nodes that successfully reply in round 5 ['node_c27b3141-213a-4221-9dcf-7e885a30738b', 'node_0f5cb1d3-621f-45b9-9f45-4a38758e5ebf', 'node_ff1ad308-d26a-4c73-8ffc-87df03618014']\n",
      "2022-01-10 15:04:43,987 fedbiomed INFO - Saved aggregated params for round 5 in /Users/mlorenzi/works/temp/fedbiomed/var/experiments/Experiment_0010/aggregated_params_d1988b6f-92b6-4e3d-84df-fd46c770ebb8.pt\n",
      "2022-01-10 15:04:43,988 fedbiomed INFO - Sampled nodes in round 6 ['node_c27b3141-213a-4221-9dcf-7e885a30738b', 'node_0f5cb1d3-621f-45b9-9f45-4a38758e5ebf', 'node_ff1ad308-d26a-4c73-8ffc-87df03618014']\n"
     ]
    },
    {
     "name": "stderr",
     "output_type": "stream",
     "text": [
      "2022-01-10 15:04:43,989 fedbiomed INFO - Send message to node node_c27b3141-213a-4221-9dcf-7e885a30738b - {'researcher_id': 'researcher_a7319768-5c08-43f6-a819-9a487cb1cc02', 'job_id': '3419b15e-3590-49f2-a705-4c96d11ca738', 'training_args': {'epochs': 5}, 'model_args': {'max_iter': 1000, 'tol': 0.001, 'model': 'SGDRegressor', 'n_features': 8, 'verbose': 1}, 'command': 'train', 'model_url': 'http://localhost:8844/media/uploads/2022/01/10/my_model_234eccb6-6e64-463d-bbf5-a21bc7893d1d.py', 'params_url': 'http://localhost:8844/media/uploads/2022/01/10/aggregated_params_d1988b6f-92b6-4e3d-84df-fd46c770ebb8.pt', 'model_class': 'SGDRegressorTrainingPlan', 'training_data': {'node_c27b3141-213a-4221-9dcf-7e885a30738b': ['dataset_706fc178-989a-4251-ab42-5850637cd0a6']}}\n",
      "2022-01-10 15:04:43,989 fedbiomed DEBUG - researcher_a7319768-5c08-43f6-a819-9a487cb1cc02\n",
      "2022-01-10 15:04:43,990 fedbiomed INFO - Send message to node node_0f5cb1d3-621f-45b9-9f45-4a38758e5ebf - {'researcher_id': 'researcher_a7319768-5c08-43f6-a819-9a487cb1cc02', 'job_id': '3419b15e-3590-49f2-a705-4c96d11ca738', 'training_args': {'epochs': 5}, 'model_args': {'max_iter': 1000, 'tol': 0.001, 'model': 'SGDRegressor', 'n_features': 8, 'verbose': 1}, 'command': 'train', 'model_url': 'http://localhost:8844/media/uploads/2022/01/10/my_model_234eccb6-6e64-463d-bbf5-a21bc7893d1d.py', 'params_url': 'http://localhost:8844/media/uploads/2022/01/10/aggregated_params_d1988b6f-92b6-4e3d-84df-fd46c770ebb8.pt', 'model_class': 'SGDRegressorTrainingPlan', 'training_data': {'node_0f5cb1d3-621f-45b9-9f45-4a38758e5ebf': ['dataset_253f8b93-4b7b-43af-bee7-59cff68e9cc6']}}\n",
      "2022-01-10 15:04:43,992 fedbiomed DEBUG - researcher_a7319768-5c08-43f6-a819-9a487cb1cc02\n",
      "2022-01-10 15:04:43,992 fedbiomed INFO - Send message to node node_ff1ad308-d26a-4c73-8ffc-87df03618014 - {'researcher_id': 'researcher_a7319768-5c08-43f6-a819-9a487cb1cc02', 'job_id': '3419b15e-3590-49f2-a705-4c96d11ca738', 'training_args': {'epochs': 5}, 'model_args': {'max_iter': 1000, 'tol': 0.001, 'model': 'SGDRegressor', 'n_features': 8, 'verbose': 1}, 'command': 'train', 'model_url': 'http://localhost:8844/media/uploads/2022/01/10/my_model_234eccb6-6e64-463d-bbf5-a21bc7893d1d.py', 'params_url': 'http://localhost:8844/media/uploads/2022/01/10/aggregated_params_d1988b6f-92b6-4e3d-84df-fd46c770ebb8.pt', 'model_class': 'SGDRegressorTrainingPlan', 'training_data': {'node_ff1ad308-d26a-4c73-8ffc-87df03618014': ['dataset_6449edb0-8037-4071-beb2-9da26a529c98']}}\n",
      "2022-01-10 15:04:43,994 fedbiomed DEBUG - researcher_a7319768-5c08-43f6-a819-9a487cb1cc02\n",
      "2022-01-10 15:04:43,999 fedbiomed INFO - log from: node_c27b3141-213a-4221-9dcf-7e885a30738b / DEBUG - Message received: {'researcher_id': 'researcher_a7319768-5c08-43f6-a819-9a487cb1cc02', 'job_id': '3419b15e-3590-49f2-a705-4c96d11ca738', 'training_args': {'epochs': 5}, 'model_args': {'max_iter': 1000, 'tol': 0.001, 'model': 'SGDRegressor', 'n_features': 8, 'verbose': 1}, 'command': 'train', 'model_url': 'http://localhost:8844/media/uploads/2022/01/10/my_model_234eccb6-6e64-463d-bbf5-a21bc7893d1d.py', 'params_url': 'http://localhost:8844/media/uploads/2022/01/10/aggregated_params_d1988b6f-92b6-4e3d-84df-fd46c770ebb8.pt', 'model_class': 'SGDRegressorTrainingPlan', 'training_data': {'node_c27b3141-213a-4221-9dcf-7e885a30738b': ['dataset_706fc178-989a-4251-ab42-5850637cd0a6']}}\n",
      "2022-01-10 15:04:44,002 fedbiomed INFO - log from: node_0f5cb1d3-621f-45b9-9f45-4a38758e5ebf / DEBUG - Message received: {'researcher_id': 'researcher_a7319768-5c08-43f6-a819-9a487cb1cc02', 'job_id': '3419b15e-3590-49f2-a705-4c96d11ca738', 'training_args': {'epochs': 5}, 'model_args': {'max_iter': 1000, 'tol': 0.001, 'model': 'SGDRegressor', 'n_features': 8, 'verbose': 1}, 'command': 'train', 'model_url': 'http://localhost:8844/media/uploads/2022/01/10/my_model_234eccb6-6e64-463d-bbf5-a21bc7893d1d.py', 'params_url': 'http://localhost:8844/media/uploads/2022/01/10/aggregated_params_d1988b6f-92b6-4e3d-84df-fd46c770ebb8.pt', 'model_class': 'SGDRegressorTrainingPlan', 'training_data': {'node_0f5cb1d3-621f-45b9-9f45-4a38758e5ebf': ['dataset_253f8b93-4b7b-43af-bee7-59cff68e9cc6']}}\n",
      "2022-01-10 15:04:44,004 fedbiomed INFO - log from: node_ff1ad308-d26a-4c73-8ffc-87df03618014 / DEBUG - Message received: {'researcher_id': 'researcher_a7319768-5c08-43f6-a819-9a487cb1cc02', 'job_id': '3419b15e-3590-49f2-a705-4c96d11ca738', 'training_args': {'epochs': 5}, 'model_args': {'max_iter': 1000, 'tol': 0.001, 'model': 'SGDRegressor', 'n_features': 8, 'verbose': 1}, 'command': 'train', 'model_url': 'http://localhost:8844/media/uploads/2022/01/10/my_model_234eccb6-6e64-463d-bbf5-a21bc7893d1d.py', 'params_url': 'http://localhost:8844/media/uploads/2022/01/10/aggregated_params_d1988b6f-92b6-4e3d-84df-fd46c770ebb8.pt', 'model_class': 'SGDRegressorTrainingPlan', 'training_data': {'node_ff1ad308-d26a-4c73-8ffc-87df03618014': ['dataset_6449edb0-8037-4071-beb2-9da26a529c98']}}\n",
      "2022-01-10 15:04:44,007 fedbiomed INFO - log from: node_ff1ad308-d26a-4c73-8ffc-87df03618014 / DEBUG - [TASKS QUEUE] Item:{'researcher_id': 'researcher_a7319768-5c08-43f6-a819-9a487cb1cc02', 'job_id': '3419b15e-3590-49f2-a705-4c96d11ca738', 'params_url': 'http://localhost:8844/media/uploads/2022/01/10/aggregated_params_d1988b6f-92b6-4e3d-84df-fd46c770ebb8.pt', 'training_args': {'epochs': 5}, 'training_data': {'node_ff1ad308-d26a-4c73-8ffc-87df03618014': ['dataset_6449edb0-8037-4071-beb2-9da26a529c98']}, 'model_args': {'max_iter': 1000, 'tol': 0.001, 'model': 'SGDRegressor', 'n_features': 8, 'verbose': 1}, 'model_url': 'http://localhost:8844/media/uploads/2022/01/10/my_model_234eccb6-6e64-463d-bbf5-a21bc7893d1d.py', 'model_class': 'SGDRegressorTrainingPlan', 'command': 'train'}\n",
      "2022-01-10 15:04:44,008 fedbiomed INFO - log from: node_c27b3141-213a-4221-9dcf-7e885a30738b / DEBUG - [TASKS QUEUE] Item:{'researcher_id': 'researcher_a7319768-5c08-43f6-a819-9a487cb1cc02', 'job_id': '3419b15e-3590-49f2-a705-4c96d11ca738', 'params_url': 'http://localhost:8844/media/uploads/2022/01/10/aggregated_params_d1988b6f-92b6-4e3d-84df-fd46c770ebb8.pt', 'training_args': {'epochs': 5}, 'training_data': {'node_c27b3141-213a-4221-9dcf-7e885a30738b': ['dataset_706fc178-989a-4251-ab42-5850637cd0a6']}, 'model_args': {'max_iter': 1000, 'tol': 0.001, 'model': 'SGDRegressor', 'n_features': 8, 'verbose': 1}, 'model_url': 'http://localhost:8844/media/uploads/2022/01/10/my_model_234eccb6-6e64-463d-bbf5-a21bc7893d1d.py', 'model_class': 'SGDRegressorTrainingPlan', 'command': 'train'}\n",
      "2022-01-10 15:04:44,010 fedbiomed INFO - log from: node_0f5cb1d3-621f-45b9-9f45-4a38758e5ebf / DEBUG - [TASKS QUEUE] Item:{'researcher_id': 'researcher_a7319768-5c08-43f6-a819-9a487cb1cc02', 'job_id': '3419b15e-3590-49f2-a705-4c96d11ca738', 'params_url': 'http://localhost:8844/media/uploads/2022/01/10/aggregated_params_d1988b6f-92b6-4e3d-84df-fd46c770ebb8.pt', 'training_args': {'epochs': 5}, 'training_data': {'node_0f5cb1d3-621f-45b9-9f45-4a38758e5ebf': ['dataset_253f8b93-4b7b-43af-bee7-59cff68e9cc6']}, 'model_args': {'max_iter': 1000, 'tol': 0.001, 'model': 'SGDRegressor', 'n_features': 8, 'verbose': 1}, 'model_url': 'http://localhost:8844/media/uploads/2022/01/10/my_model_234eccb6-6e64-463d-bbf5-a21bc7893d1d.py', 'model_class': 'SGDRegressorTrainingPlan', 'command': 'train'}\n",
      "2022-01-10 15:04:44,049 fedbiomed INFO - log from: node_ff1ad308-d26a-4c73-8ffc-87df03618014 / INFO - {'monitor': <fedbiomed.node.history_monitor.HistoryMonitor object at 0x134b2c670>, 'epochs': 5}\n",
      "2022-01-10 15:04:44,051 fedbiomed INFO - log from: node_ff1ad308-d26a-4c73-8ffc-87df03618014 / DEBUG - Dataset_path/Users/mlorenzi/works/temp/flhd_copy/heterogeneous_data/adni_client3.csv\n",
      "2022-01-10 15:04:44,052 fedbiomed INFO - log from: node_0f5cb1d3-621f-45b9-9f45-4a38758e5ebf / INFO - {'monitor': <fedbiomed.node.history_monitor.HistoryMonitor object at 0x1386eaaf0>, 'epochs': 5}\n",
      "2022-01-10 15:04:44,054 fedbiomed INFO - log from: node_0f5cb1d3-621f-45b9-9f45-4a38758e5ebf / DEBUG - Dataset_path/Users/mlorenzi/works/temp/flhd_copy/heterogeneous_data/adni_client2.csv\n",
      "2022-01-10 15:04:44,056 fedbiomed INFO - log from: node_c27b3141-213a-4221-9dcf-7e885a30738b / INFO - {'monitor': <fedbiomed.node.history_monitor.HistoryMonitor object at 0x114cfbf70>, 'epochs': 5}\n"
     ]
    },
    {
     "name": "stderr",
     "output_type": "stream",
     "text": [
      "2022-01-10 15:04:44,058 fedbiomed INFO - log from: node_c27b3141-213a-4221-9dcf-7e885a30738b / DEBUG - Dataset_path/Users/mlorenzi/works/temp/flhd_copy/heterogeneous_data/adni_client1.csv\n",
      "2022-01-10 15:04:44,061 fedbiomed INFO - log from: node_ff1ad308-d26a-4c73-8ffc-87df03618014 / INFO - Train Epoch: 0 [Batch All Samples]\tLoss: 2.713205\n",
      "2022-01-10 15:04:44,065 fedbiomed INFO - log from: node_0f5cb1d3-621f-45b9-9f45-4a38758e5ebf / INFO - Train Epoch: 0 [Batch All Samples]\tLoss: 2.420411\n",
      "2022-01-10 15:04:44,070 fedbiomed INFO - log from: node_c27b3141-213a-4221-9dcf-7e885a30738b / INFO - Train Epoch: 0 [Batch All Samples]\tLoss: 2.474722\n",
      "2022-01-10 15:04:44,072 fedbiomed INFO - log from: node_0f5cb1d3-621f-45b9-9f45-4a38758e5ebf / INFO - Train Epoch: 1 [Batch All Samples]\tLoss: 2.452183\n",
      "2022-01-10 15:04:44,074 fedbiomed INFO - log from: node_c27b3141-213a-4221-9dcf-7e885a30738b / INFO - Train Epoch: 1 [Batch All Samples]\tLoss: 2.482951\n",
      "2022-01-10 15:04:44,076 fedbiomed INFO - log from: node_c27b3141-213a-4221-9dcf-7e885a30738b / INFO - Train Epoch: 2 [Batch All Samples]\tLoss: 2.489754\n",
      "2022-01-10 15:04:44,077 fedbiomed INFO - log from: node_c27b3141-213a-4221-9dcf-7e885a30738b / INFO - Train Epoch: 3 [Batch All Samples]\tLoss: 2.475397\n",
      "2022-01-10 15:04:44,082 fedbiomed INFO - log from: node_ff1ad308-d26a-4c73-8ffc-87df03618014 / INFO - Train Epoch: 1 [Batch All Samples]\tLoss: 2.747801\n",
      "2022-01-10 15:04:44,084 fedbiomed INFO - log from: node_ff1ad308-d26a-4c73-8ffc-87df03618014 / INFO - Train Epoch: 2 [Batch All Samples]\tLoss: 2.717706\n",
      "2022-01-10 15:04:44,087 fedbiomed INFO - log from: node_ff1ad308-d26a-4c73-8ffc-87df03618014 / INFO - Train Epoch: 3 [Batch All Samples]\tLoss: 2.735154\n",
      "2022-01-10 15:04:44,089 fedbiomed INFO - log from: node_ff1ad308-d26a-4c73-8ffc-87df03618014 / INFO - Train Epoch: 4 [Batch All Samples]\tLoss: 2.689712\n",
      "2022-01-10 15:04:44,090 fedbiomed INFO - log from: node_c27b3141-213a-4221-9dcf-7e885a30738b / INFO - Train Epoch: 4 [Batch All Samples]\tLoss: 2.409723\n",
      "2022-01-10 15:04:44,092 fedbiomed INFO - log from: node_0f5cb1d3-621f-45b9-9f45-4a38758e5ebf / INFO - Train Epoch: 2 [Batch All Samples]\tLoss: 2.349550\n",
      "2022-01-10 15:04:44,094 fedbiomed INFO - log from: node_0f5cb1d3-621f-45b9-9f45-4a38758e5ebf / INFO - Train Epoch: 3 [Batch All Samples]\tLoss: 2.403091\n",
      "2022-01-10 15:04:44,095 fedbiomed INFO - log from: node_0f5cb1d3-621f-45b9-9f45-4a38758e5ebf / INFO - Train Epoch: 4 [Batch All Samples]\tLoss: 2.400069\n",
      "2022-01-10 15:04:44,151 fedbiomed INFO - log from: node_0f5cb1d3-621f-45b9-9f45-4a38758e5ebf / INFO - results uploaded successfully \n",
      "2022-01-10 15:04:44,186 fedbiomed INFO - log from: node_ff1ad308-d26a-4c73-8ffc-87df03618014 / INFO - results uploaded successfully \n",
      "2022-01-10 15:04:44,233 fedbiomed INFO - log from: node_c27b3141-213a-4221-9dcf-7e885a30738b / INFO - results uploaded successfully \n",
      "2022-01-10 15:04:54,004 fedbiomed INFO - Downloading model params after training on node_0f5cb1d3-621f-45b9-9f45-4a38758e5ebf - from http://localhost:8844/media/uploads/2022/01/10/node_params_6887fcaf-1410-4b8a-bf90-4dcb6841dcd7.pt\n",
      "2022-01-10 15:04:54,021 fedbiomed INFO - Downloading model params after training on node_ff1ad308-d26a-4c73-8ffc-87df03618014 - from http://localhost:8844/media/uploads/2022/01/10/node_params_c6353576-2797-4321-8d13-24da23b3554c.pt\n",
      "2022-01-10 15:04:54,036 fedbiomed INFO - Downloading model params after training on node_c27b3141-213a-4221-9dcf-7e885a30738b - from http://localhost:8844/media/uploads/2022/01/10/node_params_c129d60f-ea57-480d-9f85-85cd5fde69eb.pt\n",
      "2022-01-10 15:04:54,053 fedbiomed INFO - Nodes that successfully reply in round 6 ['node_0f5cb1d3-621f-45b9-9f45-4a38758e5ebf', 'node_ff1ad308-d26a-4c73-8ffc-87df03618014', 'node_c27b3141-213a-4221-9dcf-7e885a30738b']\n",
      "2022-01-10 15:04:54,120 fedbiomed INFO - Saved aggregated params for round 6 in /Users/mlorenzi/works/temp/fedbiomed/var/experiments/Experiment_0010/aggregated_params_3cd49432-2317-48e3-b45b-65d6294dccd3.pt\n",
      "2022-01-10 15:04:54,120 fedbiomed INFO - Sampled nodes in round 7 ['node_c27b3141-213a-4221-9dcf-7e885a30738b', 'node_0f5cb1d3-621f-45b9-9f45-4a38758e5ebf', 'node_ff1ad308-d26a-4c73-8ffc-87df03618014']\n",
      "2022-01-10 15:04:54,121 fedbiomed INFO - Send message to node node_c27b3141-213a-4221-9dcf-7e885a30738b - {'researcher_id': 'researcher_a7319768-5c08-43f6-a819-9a487cb1cc02', 'job_id': '3419b15e-3590-49f2-a705-4c96d11ca738', 'training_args': {'epochs': 5}, 'model_args': {'max_iter': 1000, 'tol': 0.001, 'model': 'SGDRegressor', 'n_features': 8, 'verbose': 1}, 'command': 'train', 'model_url': 'http://localhost:8844/media/uploads/2022/01/10/my_model_234eccb6-6e64-463d-bbf5-a21bc7893d1d.py', 'params_url': 'http://localhost:8844/media/uploads/2022/01/10/aggregated_params_3cd49432-2317-48e3-b45b-65d6294dccd3.pt', 'model_class': 'SGDRegressorTrainingPlan', 'training_data': {'node_c27b3141-213a-4221-9dcf-7e885a30738b': ['dataset_706fc178-989a-4251-ab42-5850637cd0a6']}}\n",
      "2022-01-10 15:04:54,122 fedbiomed DEBUG - researcher_a7319768-5c08-43f6-a819-9a487cb1cc02\n",
      "2022-01-10 15:04:54,123 fedbiomed INFO - Send message to node node_0f5cb1d3-621f-45b9-9f45-4a38758e5ebf - {'researcher_id': 'researcher_a7319768-5c08-43f6-a819-9a487cb1cc02', 'job_id': '3419b15e-3590-49f2-a705-4c96d11ca738', 'training_args': {'epochs': 5}, 'model_args': {'max_iter': 1000, 'tol': 0.001, 'model': 'SGDRegressor', 'n_features': 8, 'verbose': 1}, 'command': 'train', 'model_url': 'http://localhost:8844/media/uploads/2022/01/10/my_model_234eccb6-6e64-463d-bbf5-a21bc7893d1d.py', 'params_url': 'http://localhost:8844/media/uploads/2022/01/10/aggregated_params_3cd49432-2317-48e3-b45b-65d6294dccd3.pt', 'model_class': 'SGDRegressorTrainingPlan', 'training_data': {'node_0f5cb1d3-621f-45b9-9f45-4a38758e5ebf': ['dataset_253f8b93-4b7b-43af-bee7-59cff68e9cc6']}}\n",
      "2022-01-10 15:04:54,125 fedbiomed DEBUG - researcher_a7319768-5c08-43f6-a819-9a487cb1cc02\n",
      "2022-01-10 15:04:54,126 fedbiomed INFO - Send message to node node_ff1ad308-d26a-4c73-8ffc-87df03618014 - {'researcher_id': 'researcher_a7319768-5c08-43f6-a819-9a487cb1cc02', 'job_id': '3419b15e-3590-49f2-a705-4c96d11ca738', 'training_args': {'epochs': 5}, 'model_args': {'max_iter': 1000, 'tol': 0.001, 'model': 'SGDRegressor', 'n_features': 8, 'verbose': 1}, 'command': 'train', 'model_url': 'http://localhost:8844/media/uploads/2022/01/10/my_model_234eccb6-6e64-463d-bbf5-a21bc7893d1d.py', 'params_url': 'http://localhost:8844/media/uploads/2022/01/10/aggregated_params_3cd49432-2317-48e3-b45b-65d6294dccd3.pt', 'model_class': 'SGDRegressorTrainingPlan', 'training_data': {'node_ff1ad308-d26a-4c73-8ffc-87df03618014': ['dataset_6449edb0-8037-4071-beb2-9da26a529c98']}}\n",
      "2022-01-10 15:04:54,128 fedbiomed DEBUG - researcher_a7319768-5c08-43f6-a819-9a487cb1cc02\n",
      "2022-01-10 15:04:54,133 fedbiomed INFO - log from: node_c27b3141-213a-4221-9dcf-7e885a30738b / DEBUG - Message received: {'researcher_id': 'researcher_a7319768-5c08-43f6-a819-9a487cb1cc02', 'job_id': '3419b15e-3590-49f2-a705-4c96d11ca738', 'training_args': {'epochs': 5}, 'model_args': {'max_iter': 1000, 'tol': 0.001, 'model': 'SGDRegressor', 'n_features': 8, 'verbose': 1}, 'command': 'train', 'model_url': 'http://localhost:8844/media/uploads/2022/01/10/my_model_234eccb6-6e64-463d-bbf5-a21bc7893d1d.py', 'params_url': 'http://localhost:8844/media/uploads/2022/01/10/aggregated_params_3cd49432-2317-48e3-b45b-65d6294dccd3.pt', 'model_class': 'SGDRegressorTrainingPlan', 'training_data': {'node_c27b3141-213a-4221-9dcf-7e885a30738b': ['dataset_706fc178-989a-4251-ab42-5850637cd0a6']}}\n",
      "2022-01-10 15:04:54,136 fedbiomed INFO - log from: node_c27b3141-213a-4221-9dcf-7e885a30738b / DEBUG - [TASKS QUEUE] Item:{'researcher_id': 'researcher_a7319768-5c08-43f6-a819-9a487cb1cc02', 'job_id': '3419b15e-3590-49f2-a705-4c96d11ca738', 'params_url': 'http://localhost:8844/media/uploads/2022/01/10/aggregated_params_3cd49432-2317-48e3-b45b-65d6294dccd3.pt', 'training_args': {'epochs': 5}, 'training_data': {'node_c27b3141-213a-4221-9dcf-7e885a30738b': ['dataset_706fc178-989a-4251-ab42-5850637cd0a6']}, 'model_args': {'max_iter': 1000, 'tol': 0.001, 'model': 'SGDRegressor', 'n_features': 8, 'verbose': 1}, 'model_url': 'http://localhost:8844/media/uploads/2022/01/10/my_model_234eccb6-6e64-463d-bbf5-a21bc7893d1d.py', 'model_class': 'SGDRegressorTrainingPlan', 'command': 'train'}\n"
     ]
    },
    {
     "name": "stderr",
     "output_type": "stream",
     "text": [
      "2022-01-10 15:04:54,137 fedbiomed INFO - log from: node_0f5cb1d3-621f-45b9-9f45-4a38758e5ebf / DEBUG - Message received: {'researcher_id': 'researcher_a7319768-5c08-43f6-a819-9a487cb1cc02', 'job_id': '3419b15e-3590-49f2-a705-4c96d11ca738', 'training_args': {'epochs': 5}, 'model_args': {'max_iter': 1000, 'tol': 0.001, 'model': 'SGDRegressor', 'n_features': 8, 'verbose': 1}, 'command': 'train', 'model_url': 'http://localhost:8844/media/uploads/2022/01/10/my_model_234eccb6-6e64-463d-bbf5-a21bc7893d1d.py', 'params_url': 'http://localhost:8844/media/uploads/2022/01/10/aggregated_params_3cd49432-2317-48e3-b45b-65d6294dccd3.pt', 'model_class': 'SGDRegressorTrainingPlan', 'training_data': {'node_0f5cb1d3-621f-45b9-9f45-4a38758e5ebf': ['dataset_253f8b93-4b7b-43af-bee7-59cff68e9cc6']}}\n",
      "2022-01-10 15:04:54,144 fedbiomed INFO - log from: node_ff1ad308-d26a-4c73-8ffc-87df03618014 / DEBUG - Message received: {'researcher_id': 'researcher_a7319768-5c08-43f6-a819-9a487cb1cc02', 'job_id': '3419b15e-3590-49f2-a705-4c96d11ca738', 'training_args': {'epochs': 5}, 'model_args': {'max_iter': 1000, 'tol': 0.001, 'model': 'SGDRegressor', 'n_features': 8, 'verbose': 1}, 'command': 'train', 'model_url': 'http://localhost:8844/media/uploads/2022/01/10/my_model_234eccb6-6e64-463d-bbf5-a21bc7893d1d.py', 'params_url': 'http://localhost:8844/media/uploads/2022/01/10/aggregated_params_3cd49432-2317-48e3-b45b-65d6294dccd3.pt', 'model_class': 'SGDRegressorTrainingPlan', 'training_data': {'node_ff1ad308-d26a-4c73-8ffc-87df03618014': ['dataset_6449edb0-8037-4071-beb2-9da26a529c98']}}\n",
      "2022-01-10 15:04:54,146 fedbiomed INFO - log from: node_ff1ad308-d26a-4c73-8ffc-87df03618014 / DEBUG - [TASKS QUEUE] Item:{'researcher_id': 'researcher_a7319768-5c08-43f6-a819-9a487cb1cc02', 'job_id': '3419b15e-3590-49f2-a705-4c96d11ca738', 'params_url': 'http://localhost:8844/media/uploads/2022/01/10/aggregated_params_3cd49432-2317-48e3-b45b-65d6294dccd3.pt', 'training_args': {'epochs': 5}, 'training_data': {'node_ff1ad308-d26a-4c73-8ffc-87df03618014': ['dataset_6449edb0-8037-4071-beb2-9da26a529c98']}, 'model_args': {'max_iter': 1000, 'tol': 0.001, 'model': 'SGDRegressor', 'n_features': 8, 'verbose': 1}, 'model_url': 'http://localhost:8844/media/uploads/2022/01/10/my_model_234eccb6-6e64-463d-bbf5-a21bc7893d1d.py', 'model_class': 'SGDRegressorTrainingPlan', 'command': 'train'}\n",
      "2022-01-10 15:04:54,148 fedbiomed INFO - log from: node_0f5cb1d3-621f-45b9-9f45-4a38758e5ebf / DEBUG - [TASKS QUEUE] Item:{'researcher_id': 'researcher_a7319768-5c08-43f6-a819-9a487cb1cc02', 'job_id': '3419b15e-3590-49f2-a705-4c96d11ca738', 'params_url': 'http://localhost:8844/media/uploads/2022/01/10/aggregated_params_3cd49432-2317-48e3-b45b-65d6294dccd3.pt', 'training_args': {'epochs': 5}, 'training_data': {'node_0f5cb1d3-621f-45b9-9f45-4a38758e5ebf': ['dataset_253f8b93-4b7b-43af-bee7-59cff68e9cc6']}, 'model_args': {'max_iter': 1000, 'tol': 0.001, 'model': 'SGDRegressor', 'n_features': 8, 'verbose': 1}, 'model_url': 'http://localhost:8844/media/uploads/2022/01/10/my_model_234eccb6-6e64-463d-bbf5-a21bc7893d1d.py', 'model_class': 'SGDRegressorTrainingPlan', 'command': 'train'}\n",
      "2022-01-10 15:04:54,188 fedbiomed INFO - log from: node_c27b3141-213a-4221-9dcf-7e885a30738b / INFO - {'monitor': <fedbiomed.node.history_monitor.HistoryMonitor object at 0x114cfb700>, 'epochs': 5}\n",
      "2022-01-10 15:04:54,190 fedbiomed INFO - log from: node_0f5cb1d3-621f-45b9-9f45-4a38758e5ebf / INFO - {'monitor': <fedbiomed.node.history_monitor.HistoryMonitor object at 0x12a69ba30>, 'epochs': 5}\n",
      "2022-01-10 15:04:54,192 fedbiomed INFO - log from: node_c27b3141-213a-4221-9dcf-7e885a30738b / DEBUG - Dataset_path/Users/mlorenzi/works/temp/flhd_copy/heterogeneous_data/adni_client1.csv\n",
      "2022-01-10 15:04:54,194 fedbiomed INFO - log from: node_0f5cb1d3-621f-45b9-9f45-4a38758e5ebf / DEBUG - Dataset_path/Users/mlorenzi/works/temp/flhd_copy/heterogeneous_data/adni_client2.csv\n",
      "2022-01-10 15:04:54,196 fedbiomed INFO - log from: node_ff1ad308-d26a-4c73-8ffc-87df03618014 / INFO - {'monitor': <fedbiomed.node.history_monitor.HistoryMonitor object at 0x142c56340>, 'epochs': 5}\n",
      "2022-01-10 15:04:54,204 fedbiomed INFO - log from: node_ff1ad308-d26a-4c73-8ffc-87df03618014 / DEBUG - Dataset_path/Users/mlorenzi/works/temp/flhd_copy/heterogeneous_data/adni_client3.csv\n",
      "2022-01-10 15:04:54,207 fedbiomed INFO - log from: node_c27b3141-213a-4221-9dcf-7e885a30738b / INFO - Train Epoch: 0 [Batch All Samples]\tLoss: 2.435222\n",
      "2022-01-10 15:04:54,210 fedbiomed INFO - log from: node_ff1ad308-d26a-4c73-8ffc-87df03618014 / INFO - Train Epoch: 0 [Batch All Samples]\tLoss: 2.788735\n",
      "2022-01-10 15:04:54,212 fedbiomed INFO - log from: node_ff1ad308-d26a-4c73-8ffc-87df03618014 / INFO - Train Epoch: 1 [Batch All Samples]\tLoss: 2.694285\n",
      "2022-01-10 15:04:54,214 fedbiomed INFO - log from: node_c27b3141-213a-4221-9dcf-7e885a30738b / INFO - Train Epoch: 1 [Batch All Samples]\tLoss: 2.375730\n",
      "2022-01-10 15:04:54,216 fedbiomed INFO - log from: node_c27b3141-213a-4221-9dcf-7e885a30738b / INFO - Train Epoch: 2 [Batch All Samples]\tLoss: 2.475432\n",
      "2022-01-10 15:04:54,218 fedbiomed INFO - log from: node_c27b3141-213a-4221-9dcf-7e885a30738b / INFO - Train Epoch: 3 [Batch All Samples]\tLoss: 2.393165\n",
      "2022-01-10 15:04:54,219 fedbiomed INFO - log from: node_c27b3141-213a-4221-9dcf-7e885a30738b / INFO - Train Epoch: 4 [Batch All Samples]\tLoss: 2.380673\n",
      "2022-01-10 15:04:54,221 fedbiomed INFO - log from: node_0f5cb1d3-621f-45b9-9f45-4a38758e5ebf / INFO - Train Epoch: 0 [Batch All Samples]\tLoss: 2.448677\n",
      "2022-01-10 15:04:54,223 fedbiomed INFO - log from: node_0f5cb1d3-621f-45b9-9f45-4a38758e5ebf / INFO - Train Epoch: 1 [Batch All Samples]\tLoss: 2.350616\n",
      "2022-01-10 15:04:54,225 fedbiomed INFO - log from: node_0f5cb1d3-621f-45b9-9f45-4a38758e5ebf / INFO - Train Epoch: 2 [Batch All Samples]\tLoss: 2.370798\n",
      "2022-01-10 15:04:54,227 fedbiomed INFO - log from: node_0f5cb1d3-621f-45b9-9f45-4a38758e5ebf / INFO - Train Epoch: 3 [Batch All Samples]\tLoss: 2.395048\n",
      "2022-01-10 15:04:54,229 fedbiomed INFO - log from: node_0f5cb1d3-621f-45b9-9f45-4a38758e5ebf / INFO - Train Epoch: 4 [Batch All Samples]\tLoss: 2.386022\n",
      "2022-01-10 15:04:54,231 fedbiomed INFO - log from: node_ff1ad308-d26a-4c73-8ffc-87df03618014 / INFO - Train Epoch: 2 [Batch All Samples]\tLoss: 2.739183\n",
      "2022-01-10 15:04:54,233 fedbiomed INFO - log from: node_ff1ad308-d26a-4c73-8ffc-87df03618014 / INFO - Train Epoch: 3 [Batch All Samples]\tLoss: 2.694889\n",
      "2022-01-10 15:04:54,236 fedbiomed INFO - log from: node_ff1ad308-d26a-4c73-8ffc-87df03618014 / INFO - Train Epoch: 4 [Batch All Samples]\tLoss: 2.730473\n",
      "2022-01-10 15:04:54,294 fedbiomed INFO - log from: node_ff1ad308-d26a-4c73-8ffc-87df03618014 / INFO - results uploaded successfully \n",
      "2022-01-10 15:04:54,343 fedbiomed INFO - log from: node_0f5cb1d3-621f-45b9-9f45-4a38758e5ebf / INFO - results uploaded successfully \n",
      "2022-01-10 15:04:54,387 fedbiomed INFO - log from: node_c27b3141-213a-4221-9dcf-7e885a30738b / INFO - results uploaded successfully \n",
      "2022-01-10 15:05:04,140 fedbiomed INFO - Downloading model params after training on node_ff1ad308-d26a-4c73-8ffc-87df03618014 - from http://localhost:8844/media/uploads/2022/01/10/node_params_ce5833f0-2f5f-410c-935f-6c98996b45ec.pt\n",
      "2022-01-10 15:05:04,158 fedbiomed INFO - Downloading model params after training on node_0f5cb1d3-621f-45b9-9f45-4a38758e5ebf - from http://localhost:8844/media/uploads/2022/01/10/node_params_5fe45391-e11d-44cd-800c-75bc51f8333a.pt\n",
      "2022-01-10 15:05:04,172 fedbiomed INFO - Downloading model params after training on node_c27b3141-213a-4221-9dcf-7e885a30738b - from http://localhost:8844/media/uploads/2022/01/10/node_params_1b5bafc4-f2f8-4864-9bc1-9c51240038a7.pt\n",
      "2022-01-10 15:05:04,187 fedbiomed INFO - Nodes that successfully reply in round 7 ['node_ff1ad308-d26a-4c73-8ffc-87df03618014', 'node_0f5cb1d3-621f-45b9-9f45-4a38758e5ebf', 'node_c27b3141-213a-4221-9dcf-7e885a30738b']\n",
      "2022-01-10 15:05:04,262 fedbiomed INFO - Saved aggregated params for round 7 in /Users/mlorenzi/works/temp/fedbiomed/var/experiments/Experiment_0010/aggregated_params_57b1a8a2-4e8d-47fd-8dfd-3b09930bc326.pt\n",
      "2022-01-10 15:05:04,263 fedbiomed INFO - Sampled nodes in round 8 ['node_c27b3141-213a-4221-9dcf-7e885a30738b', 'node_0f5cb1d3-621f-45b9-9f45-4a38758e5ebf', 'node_ff1ad308-d26a-4c73-8ffc-87df03618014']\n"
     ]
    },
    {
     "name": "stderr",
     "output_type": "stream",
     "text": [
      "2022-01-10 15:05:04,264 fedbiomed INFO - Send message to node node_c27b3141-213a-4221-9dcf-7e885a30738b - {'researcher_id': 'researcher_a7319768-5c08-43f6-a819-9a487cb1cc02', 'job_id': '3419b15e-3590-49f2-a705-4c96d11ca738', 'training_args': {'epochs': 5}, 'model_args': {'max_iter': 1000, 'tol': 0.001, 'model': 'SGDRegressor', 'n_features': 8, 'verbose': 1}, 'command': 'train', 'model_url': 'http://localhost:8844/media/uploads/2022/01/10/my_model_234eccb6-6e64-463d-bbf5-a21bc7893d1d.py', 'params_url': 'http://localhost:8844/media/uploads/2022/01/10/aggregated_params_57b1a8a2-4e8d-47fd-8dfd-3b09930bc326.pt', 'model_class': 'SGDRegressorTrainingPlan', 'training_data': {'node_c27b3141-213a-4221-9dcf-7e885a30738b': ['dataset_706fc178-989a-4251-ab42-5850637cd0a6']}}\n",
      "2022-01-10 15:05:04,266 fedbiomed DEBUG - researcher_a7319768-5c08-43f6-a819-9a487cb1cc02\n",
      "2022-01-10 15:05:04,268 fedbiomed INFO - Send message to node node_0f5cb1d3-621f-45b9-9f45-4a38758e5ebf - {'researcher_id': 'researcher_a7319768-5c08-43f6-a819-9a487cb1cc02', 'job_id': '3419b15e-3590-49f2-a705-4c96d11ca738', 'training_args': {'epochs': 5}, 'model_args': {'max_iter': 1000, 'tol': 0.001, 'model': 'SGDRegressor', 'n_features': 8, 'verbose': 1}, 'command': 'train', 'model_url': 'http://localhost:8844/media/uploads/2022/01/10/my_model_234eccb6-6e64-463d-bbf5-a21bc7893d1d.py', 'params_url': 'http://localhost:8844/media/uploads/2022/01/10/aggregated_params_57b1a8a2-4e8d-47fd-8dfd-3b09930bc326.pt', 'model_class': 'SGDRegressorTrainingPlan', 'training_data': {'node_0f5cb1d3-621f-45b9-9f45-4a38758e5ebf': ['dataset_253f8b93-4b7b-43af-bee7-59cff68e9cc6']}}\n",
      "2022-01-10 15:05:04,271 fedbiomed DEBUG - researcher_a7319768-5c08-43f6-a819-9a487cb1cc02\n",
      "2022-01-10 15:05:04,274 fedbiomed INFO - Send message to node node_ff1ad308-d26a-4c73-8ffc-87df03618014 - {'researcher_id': 'researcher_a7319768-5c08-43f6-a819-9a487cb1cc02', 'job_id': '3419b15e-3590-49f2-a705-4c96d11ca738', 'training_args': {'epochs': 5}, 'model_args': {'max_iter': 1000, 'tol': 0.001, 'model': 'SGDRegressor', 'n_features': 8, 'verbose': 1}, 'command': 'train', 'model_url': 'http://localhost:8844/media/uploads/2022/01/10/my_model_234eccb6-6e64-463d-bbf5-a21bc7893d1d.py', 'params_url': 'http://localhost:8844/media/uploads/2022/01/10/aggregated_params_57b1a8a2-4e8d-47fd-8dfd-3b09930bc326.pt', 'model_class': 'SGDRegressorTrainingPlan', 'training_data': {'node_ff1ad308-d26a-4c73-8ffc-87df03618014': ['dataset_6449edb0-8037-4071-beb2-9da26a529c98']}}\n",
      "2022-01-10 15:05:04,276 fedbiomed DEBUG - researcher_a7319768-5c08-43f6-a819-9a487cb1cc02\n",
      "2022-01-10 15:05:04,280 fedbiomed INFO - log from: node_c27b3141-213a-4221-9dcf-7e885a30738b / DEBUG - Message received: {'researcher_id': 'researcher_a7319768-5c08-43f6-a819-9a487cb1cc02', 'job_id': '3419b15e-3590-49f2-a705-4c96d11ca738', 'training_args': {'epochs': 5}, 'model_args': {'max_iter': 1000, 'tol': 0.001, 'model': 'SGDRegressor', 'n_features': 8, 'verbose': 1}, 'command': 'train', 'model_url': 'http://localhost:8844/media/uploads/2022/01/10/my_model_234eccb6-6e64-463d-bbf5-a21bc7893d1d.py', 'params_url': 'http://localhost:8844/media/uploads/2022/01/10/aggregated_params_57b1a8a2-4e8d-47fd-8dfd-3b09930bc326.pt', 'model_class': 'SGDRegressorTrainingPlan', 'training_data': {'node_c27b3141-213a-4221-9dcf-7e885a30738b': ['dataset_706fc178-989a-4251-ab42-5850637cd0a6']}}\n",
      "2022-01-10 15:05:04,282 fedbiomed INFO - log from: node_c27b3141-213a-4221-9dcf-7e885a30738b / DEBUG - [TASKS QUEUE] Item:{'researcher_id': 'researcher_a7319768-5c08-43f6-a819-9a487cb1cc02', 'job_id': '3419b15e-3590-49f2-a705-4c96d11ca738', 'params_url': 'http://localhost:8844/media/uploads/2022/01/10/aggregated_params_57b1a8a2-4e8d-47fd-8dfd-3b09930bc326.pt', 'training_args': {'epochs': 5}, 'training_data': {'node_c27b3141-213a-4221-9dcf-7e885a30738b': ['dataset_706fc178-989a-4251-ab42-5850637cd0a6']}, 'model_args': {'max_iter': 1000, 'tol': 0.001, 'model': 'SGDRegressor', 'n_features': 8, 'verbose': 1}, 'model_url': 'http://localhost:8844/media/uploads/2022/01/10/my_model_234eccb6-6e64-463d-bbf5-a21bc7893d1d.py', 'model_class': 'SGDRegressorTrainingPlan', 'command': 'train'}\n",
      "2022-01-10 15:05:04,285 fedbiomed INFO - log from: node_0f5cb1d3-621f-45b9-9f45-4a38758e5ebf / DEBUG - Message received: {'researcher_id': 'researcher_a7319768-5c08-43f6-a819-9a487cb1cc02', 'job_id': '3419b15e-3590-49f2-a705-4c96d11ca738', 'training_args': {'epochs': 5}, 'model_args': {'max_iter': 1000, 'tol': 0.001, 'model': 'SGDRegressor', 'n_features': 8, 'verbose': 1}, 'command': 'train', 'model_url': 'http://localhost:8844/media/uploads/2022/01/10/my_model_234eccb6-6e64-463d-bbf5-a21bc7893d1d.py', 'params_url': 'http://localhost:8844/media/uploads/2022/01/10/aggregated_params_57b1a8a2-4e8d-47fd-8dfd-3b09930bc326.pt', 'model_class': 'SGDRegressorTrainingPlan', 'training_data': {'node_0f5cb1d3-621f-45b9-9f45-4a38758e5ebf': ['dataset_253f8b93-4b7b-43af-bee7-59cff68e9cc6']}}\n",
      "2022-01-10 15:05:04,289 fedbiomed INFO - log from: node_ff1ad308-d26a-4c73-8ffc-87df03618014 / DEBUG - Message received: {'researcher_id': 'researcher_a7319768-5c08-43f6-a819-9a487cb1cc02', 'job_id': '3419b15e-3590-49f2-a705-4c96d11ca738', 'training_args': {'epochs': 5}, 'model_args': {'max_iter': 1000, 'tol': 0.001, 'model': 'SGDRegressor', 'n_features': 8, 'verbose': 1}, 'command': 'train', 'model_url': 'http://localhost:8844/media/uploads/2022/01/10/my_model_234eccb6-6e64-463d-bbf5-a21bc7893d1d.py', 'params_url': 'http://localhost:8844/media/uploads/2022/01/10/aggregated_params_57b1a8a2-4e8d-47fd-8dfd-3b09930bc326.pt', 'model_class': 'SGDRegressorTrainingPlan', 'training_data': {'node_ff1ad308-d26a-4c73-8ffc-87df03618014': ['dataset_6449edb0-8037-4071-beb2-9da26a529c98']}}\n",
      "2022-01-10 15:05:04,296 fedbiomed INFO - log from: node_0f5cb1d3-621f-45b9-9f45-4a38758e5ebf / DEBUG - [TASKS QUEUE] Item:{'researcher_id': 'researcher_a7319768-5c08-43f6-a819-9a487cb1cc02', 'job_id': '3419b15e-3590-49f2-a705-4c96d11ca738', 'params_url': 'http://localhost:8844/media/uploads/2022/01/10/aggregated_params_57b1a8a2-4e8d-47fd-8dfd-3b09930bc326.pt', 'training_args': {'epochs': 5}, 'training_data': {'node_0f5cb1d3-621f-45b9-9f45-4a38758e5ebf': ['dataset_253f8b93-4b7b-43af-bee7-59cff68e9cc6']}, 'model_args': {'max_iter': 1000, 'tol': 0.001, 'model': 'SGDRegressor', 'n_features': 8, 'verbose': 1}, 'model_url': 'http://localhost:8844/media/uploads/2022/01/10/my_model_234eccb6-6e64-463d-bbf5-a21bc7893d1d.py', 'model_class': 'SGDRegressorTrainingPlan', 'command': 'train'}\n",
      "2022-01-10 15:05:04,299 fedbiomed INFO - log from: node_ff1ad308-d26a-4c73-8ffc-87df03618014 / DEBUG - [TASKS QUEUE] Item:{'researcher_id': 'researcher_a7319768-5c08-43f6-a819-9a487cb1cc02', 'job_id': '3419b15e-3590-49f2-a705-4c96d11ca738', 'params_url': 'http://localhost:8844/media/uploads/2022/01/10/aggregated_params_57b1a8a2-4e8d-47fd-8dfd-3b09930bc326.pt', 'training_args': {'epochs': 5}, 'training_data': {'node_ff1ad308-d26a-4c73-8ffc-87df03618014': ['dataset_6449edb0-8037-4071-beb2-9da26a529c98']}, 'model_args': {'max_iter': 1000, 'tol': 0.001, 'model': 'SGDRegressor', 'n_features': 8, 'verbose': 1}, 'model_url': 'http://localhost:8844/media/uploads/2022/01/10/my_model_234eccb6-6e64-463d-bbf5-a21bc7893d1d.py', 'model_class': 'SGDRegressorTrainingPlan', 'command': 'train'}\n",
      "2022-01-10 15:05:04,325 fedbiomed INFO - log from: node_c27b3141-213a-4221-9dcf-7e885a30738b / INFO - {'monitor': <fedbiomed.node.history_monitor.HistoryMonitor object at 0x114cbe670>, 'epochs': 5}\n",
      "2022-01-10 15:05:04,327 fedbiomed INFO - log from: node_c27b3141-213a-4221-9dcf-7e885a30738b / DEBUG - Dataset_path/Users/mlorenzi/works/temp/flhd_copy/heterogeneous_data/adni_client1.csv\n",
      "2022-01-10 15:05:04,339 fedbiomed INFO - log from: node_c27b3141-213a-4221-9dcf-7e885a30738b / INFO - Train Epoch: 0 [Batch All Samples]\tLoss: 2.385673\n",
      "2022-01-10 15:05:04,341 fedbiomed INFO - log from: node_c27b3141-213a-4221-9dcf-7e885a30738b / INFO - Train Epoch: 1 [Batch All Samples]\tLoss: 2.418950\n",
      "2022-01-10 15:05:04,343 fedbiomed INFO - log from: node_c27b3141-213a-4221-9dcf-7e885a30738b / INFO - Train Epoch: 2 [Batch All Samples]\tLoss: 2.398406\n",
      "2022-01-10 15:05:04,344 fedbiomed INFO - log from: node_c27b3141-213a-4221-9dcf-7e885a30738b / INFO - Train Epoch: 3 [Batch All Samples]\tLoss: 2.461553\n"
     ]
    },
    {
     "name": "stderr",
     "output_type": "stream",
     "text": [
      "2022-01-10 15:05:04,346 fedbiomed INFO - log from: node_c27b3141-213a-4221-9dcf-7e885a30738b / INFO - Train Epoch: 4 [Batch All Samples]\tLoss: 2.418449\n",
      "2022-01-10 15:05:04,348 fedbiomed INFO - log from: node_ff1ad308-d26a-4c73-8ffc-87df03618014 / INFO - {'monitor': <fedbiomed.node.history_monitor.HistoryMonitor object at 0x142b78c10>, 'epochs': 5}\n",
      "2022-01-10 15:05:04,350 fedbiomed INFO - log from: node_ff1ad308-d26a-4c73-8ffc-87df03618014 / DEBUG - Dataset_path/Users/mlorenzi/works/temp/flhd_copy/heterogeneous_data/adni_client3.csv\n",
      "2022-01-10 15:05:04,359 fedbiomed INFO - log from: node_0f5cb1d3-621f-45b9-9f45-4a38758e5ebf / INFO - {'monitor': <fedbiomed.node.history_monitor.HistoryMonitor object at 0x1386eaaf0>, 'epochs': 5}\n",
      "2022-01-10 15:05:04,360 fedbiomed INFO - log from: node_0f5cb1d3-621f-45b9-9f45-4a38758e5ebf / DEBUG - Dataset_path/Users/mlorenzi/works/temp/flhd_copy/heterogeneous_data/adni_client2.csv\n",
      "2022-01-10 15:05:04,362 fedbiomed INFO - log from: node_0f5cb1d3-621f-45b9-9f45-4a38758e5ebf / INFO - Train Epoch: 0 [Batch All Samples]\tLoss: 2.372613\n",
      "2022-01-10 15:05:04,363 fedbiomed INFO - log from: node_ff1ad308-d26a-4c73-8ffc-87df03618014 / INFO - Train Epoch: 0 [Batch All Samples]\tLoss: 2.729722\n",
      "2022-01-10 15:05:04,365 fedbiomed INFO - log from: node_0f5cb1d3-621f-45b9-9f45-4a38758e5ebf / INFO - Train Epoch: 1 [Batch All Samples]\tLoss: 2.396087\n",
      "2022-01-10 15:05:04,368 fedbiomed INFO - log from: node_0f5cb1d3-621f-45b9-9f45-4a38758e5ebf / INFO - Train Epoch: 2 [Batch All Samples]\tLoss: 2.371471\n",
      "2022-01-10 15:05:04,376 fedbiomed INFO - log from: node_ff1ad308-d26a-4c73-8ffc-87df03618014 / INFO - Train Epoch: 1 [Batch All Samples]\tLoss: 2.690150\n",
      "2022-01-10 15:05:04,379 fedbiomed INFO - log from: node_0f5cb1d3-621f-45b9-9f45-4a38758e5ebf / INFO - Train Epoch: 3 [Batch All Samples]\tLoss: 2.416185\n",
      "2022-01-10 15:05:04,381 fedbiomed INFO - log from: node_ff1ad308-d26a-4c73-8ffc-87df03618014 / INFO - Train Epoch: 2 [Batch All Samples]\tLoss: 2.700739\n",
      "2022-01-10 15:05:04,382 fedbiomed INFO - log from: node_0f5cb1d3-621f-45b9-9f45-4a38758e5ebf / INFO - Train Epoch: 4 [Batch All Samples]\tLoss: 2.385397\n",
      "2022-01-10 15:05:04,384 fedbiomed INFO - log from: node_ff1ad308-d26a-4c73-8ffc-87df03618014 / INFO - Train Epoch: 3 [Batch All Samples]\tLoss: 2.639980\n",
      "2022-01-10 15:05:04,386 fedbiomed INFO - log from: node_ff1ad308-d26a-4c73-8ffc-87df03618014 / INFO - Train Epoch: 4 [Batch All Samples]\tLoss: 2.686011\n",
      "2022-01-10 15:05:04,441 fedbiomed INFO - log from: node_c27b3141-213a-4221-9dcf-7e885a30738b / INFO - results uploaded successfully \n",
      "2022-01-10 15:05:04,490 fedbiomed INFO - log from: node_ff1ad308-d26a-4c73-8ffc-87df03618014 / INFO - results uploaded successfully \n",
      "2022-01-10 15:05:04,522 fedbiomed INFO - log from: node_0f5cb1d3-621f-45b9-9f45-4a38758e5ebf / INFO - results uploaded successfully \n",
      "2022-01-10 15:05:14,287 fedbiomed INFO - Downloading model params after training on node_c27b3141-213a-4221-9dcf-7e885a30738b - from http://localhost:8844/media/uploads/2022/01/10/node_params_8424410b-4923-4e80-a488-a3d7dbdb99cf.pt\n",
      "2022-01-10 15:05:14,304 fedbiomed INFO - Downloading model params after training on node_ff1ad308-d26a-4c73-8ffc-87df03618014 - from http://localhost:8844/media/uploads/2022/01/10/node_params_4f459e0c-75fa-4031-85e7-c717c87f7eb8.pt\n",
      "2022-01-10 15:05:14,322 fedbiomed INFO - Downloading model params after training on node_0f5cb1d3-621f-45b9-9f45-4a38758e5ebf - from http://localhost:8844/media/uploads/2022/01/10/node_params_ccf4180b-df46-4c8d-a71e-5ae770b8c8e3.pt\n",
      "2022-01-10 15:05:14,344 fedbiomed INFO - Nodes that successfully reply in round 8 ['node_c27b3141-213a-4221-9dcf-7e885a30738b', 'node_ff1ad308-d26a-4c73-8ffc-87df03618014', 'node_0f5cb1d3-621f-45b9-9f45-4a38758e5ebf']\n",
      "2022-01-10 15:05:14,407 fedbiomed INFO - Saved aggregated params for round 8 in /Users/mlorenzi/works/temp/fedbiomed/var/experiments/Experiment_0010/aggregated_params_f271f382-db9d-4414-87de-4f60a011c7e1.pt\n",
      "2022-01-10 15:05:14,410 fedbiomed INFO - Sampled nodes in round 9 ['node_c27b3141-213a-4221-9dcf-7e885a30738b', 'node_0f5cb1d3-621f-45b9-9f45-4a38758e5ebf', 'node_ff1ad308-d26a-4c73-8ffc-87df03618014']\n",
      "2022-01-10 15:05:14,411 fedbiomed INFO - Send message to node node_c27b3141-213a-4221-9dcf-7e885a30738b - {'researcher_id': 'researcher_a7319768-5c08-43f6-a819-9a487cb1cc02', 'job_id': '3419b15e-3590-49f2-a705-4c96d11ca738', 'training_args': {'epochs': 5}, 'model_args': {'max_iter': 1000, 'tol': 0.001, 'model': 'SGDRegressor', 'n_features': 8, 'verbose': 1}, 'command': 'train', 'model_url': 'http://localhost:8844/media/uploads/2022/01/10/my_model_234eccb6-6e64-463d-bbf5-a21bc7893d1d.py', 'params_url': 'http://localhost:8844/media/uploads/2022/01/10/aggregated_params_f271f382-db9d-4414-87de-4f60a011c7e1.pt', 'model_class': 'SGDRegressorTrainingPlan', 'training_data': {'node_c27b3141-213a-4221-9dcf-7e885a30738b': ['dataset_706fc178-989a-4251-ab42-5850637cd0a6']}}\n",
      "2022-01-10 15:05:14,412 fedbiomed DEBUG - researcher_a7319768-5c08-43f6-a819-9a487cb1cc02\n",
      "2022-01-10 15:05:14,414 fedbiomed INFO - Send message to node node_0f5cb1d3-621f-45b9-9f45-4a38758e5ebf - {'researcher_id': 'researcher_a7319768-5c08-43f6-a819-9a487cb1cc02', 'job_id': '3419b15e-3590-49f2-a705-4c96d11ca738', 'training_args': {'epochs': 5}, 'model_args': {'max_iter': 1000, 'tol': 0.001, 'model': 'SGDRegressor', 'n_features': 8, 'verbose': 1}, 'command': 'train', 'model_url': 'http://localhost:8844/media/uploads/2022/01/10/my_model_234eccb6-6e64-463d-bbf5-a21bc7893d1d.py', 'params_url': 'http://localhost:8844/media/uploads/2022/01/10/aggregated_params_f271f382-db9d-4414-87de-4f60a011c7e1.pt', 'model_class': 'SGDRegressorTrainingPlan', 'training_data': {'node_0f5cb1d3-621f-45b9-9f45-4a38758e5ebf': ['dataset_253f8b93-4b7b-43af-bee7-59cff68e9cc6']}}\n",
      "2022-01-10 15:05:14,417 fedbiomed DEBUG - researcher_a7319768-5c08-43f6-a819-9a487cb1cc02\n",
      "2022-01-10 15:05:14,421 fedbiomed INFO - Send message to node node_ff1ad308-d26a-4c73-8ffc-87df03618014 - {'researcher_id': 'researcher_a7319768-5c08-43f6-a819-9a487cb1cc02', 'job_id': '3419b15e-3590-49f2-a705-4c96d11ca738', 'training_args': {'epochs': 5}, 'model_args': {'max_iter': 1000, 'tol': 0.001, 'model': 'SGDRegressor', 'n_features': 8, 'verbose': 1}, 'command': 'train', 'model_url': 'http://localhost:8844/media/uploads/2022/01/10/my_model_234eccb6-6e64-463d-bbf5-a21bc7893d1d.py', 'params_url': 'http://localhost:8844/media/uploads/2022/01/10/aggregated_params_f271f382-db9d-4414-87de-4f60a011c7e1.pt', 'model_class': 'SGDRegressorTrainingPlan', 'training_data': {'node_ff1ad308-d26a-4c73-8ffc-87df03618014': ['dataset_6449edb0-8037-4071-beb2-9da26a529c98']}}\n",
      "2022-01-10 15:05:14,423 fedbiomed DEBUG - researcher_a7319768-5c08-43f6-a819-9a487cb1cc02\n",
      "2022-01-10 15:05:14,433 fedbiomed INFO - log from: node_c27b3141-213a-4221-9dcf-7e885a30738b / DEBUG - Message received: {'researcher_id': 'researcher_a7319768-5c08-43f6-a819-9a487cb1cc02', 'job_id': '3419b15e-3590-49f2-a705-4c96d11ca738', 'training_args': {'epochs': 5}, 'model_args': {'max_iter': 1000, 'tol': 0.001, 'model': 'SGDRegressor', 'n_features': 8, 'verbose': 1}, 'command': 'train', 'model_url': 'http://localhost:8844/media/uploads/2022/01/10/my_model_234eccb6-6e64-463d-bbf5-a21bc7893d1d.py', 'params_url': 'http://localhost:8844/media/uploads/2022/01/10/aggregated_params_f271f382-db9d-4414-87de-4f60a011c7e1.pt', 'model_class': 'SGDRegressorTrainingPlan', 'training_data': {'node_c27b3141-213a-4221-9dcf-7e885a30738b': ['dataset_706fc178-989a-4251-ab42-5850637cd0a6']}}\n",
      "2022-01-10 15:05:14,439 fedbiomed INFO - log from: node_0f5cb1d3-621f-45b9-9f45-4a38758e5ebf / DEBUG - Message received: {'researcher_id': 'researcher_a7319768-5c08-43f6-a819-9a487cb1cc02', 'job_id': '3419b15e-3590-49f2-a705-4c96d11ca738', 'training_args': {'epochs': 5}, 'model_args': {'max_iter': 1000, 'tol': 0.001, 'model': 'SGDRegressor', 'n_features': 8, 'verbose': 1}, 'command': 'train', 'model_url': 'http://localhost:8844/media/uploads/2022/01/10/my_model_234eccb6-6e64-463d-bbf5-a21bc7893d1d.py', 'params_url': 'http://localhost:8844/media/uploads/2022/01/10/aggregated_params_f271f382-db9d-4414-87de-4f60a011c7e1.pt', 'model_class': 'SGDRegressorTrainingPlan', 'training_data': {'node_0f5cb1d3-621f-45b9-9f45-4a38758e5ebf': ['dataset_253f8b93-4b7b-43af-bee7-59cff68e9cc6']}}\n"
     ]
    },
    {
     "name": "stderr",
     "output_type": "stream",
     "text": [
      "2022-01-10 15:05:14,457 fedbiomed INFO - log from: node_ff1ad308-d26a-4c73-8ffc-87df03618014 / DEBUG - Message received: {'researcher_id': 'researcher_a7319768-5c08-43f6-a819-9a487cb1cc02', 'job_id': '3419b15e-3590-49f2-a705-4c96d11ca738', 'training_args': {'epochs': 5}, 'model_args': {'max_iter': 1000, 'tol': 0.001, 'model': 'SGDRegressor', 'n_features': 8, 'verbose': 1}, 'command': 'train', 'model_url': 'http://localhost:8844/media/uploads/2022/01/10/my_model_234eccb6-6e64-463d-bbf5-a21bc7893d1d.py', 'params_url': 'http://localhost:8844/media/uploads/2022/01/10/aggregated_params_f271f382-db9d-4414-87de-4f60a011c7e1.pt', 'model_class': 'SGDRegressorTrainingPlan', 'training_data': {'node_ff1ad308-d26a-4c73-8ffc-87df03618014': ['dataset_6449edb0-8037-4071-beb2-9da26a529c98']}}\n",
      "2022-01-10 15:05:14,459 fedbiomed INFO - log from: node_c27b3141-213a-4221-9dcf-7e885a30738b / DEBUG - [TASKS QUEUE] Item:{'researcher_id': 'researcher_a7319768-5c08-43f6-a819-9a487cb1cc02', 'job_id': '3419b15e-3590-49f2-a705-4c96d11ca738', 'params_url': 'http://localhost:8844/media/uploads/2022/01/10/aggregated_params_f271f382-db9d-4414-87de-4f60a011c7e1.pt', 'training_args': {'epochs': 5}, 'training_data': {'node_c27b3141-213a-4221-9dcf-7e885a30738b': ['dataset_706fc178-989a-4251-ab42-5850637cd0a6']}, 'model_args': {'max_iter': 1000, 'tol': 0.001, 'model': 'SGDRegressor', 'n_features': 8, 'verbose': 1}, 'model_url': 'http://localhost:8844/media/uploads/2022/01/10/my_model_234eccb6-6e64-463d-bbf5-a21bc7893d1d.py', 'model_class': 'SGDRegressorTrainingPlan', 'command': 'train'}\n",
      "2022-01-10 15:05:14,484 fedbiomed INFO - log from: node_0f5cb1d3-621f-45b9-9f45-4a38758e5ebf / DEBUG - [TASKS QUEUE] Item:{'researcher_id': 'researcher_a7319768-5c08-43f6-a819-9a487cb1cc02', 'job_id': '3419b15e-3590-49f2-a705-4c96d11ca738', 'params_url': 'http://localhost:8844/media/uploads/2022/01/10/aggregated_params_f271f382-db9d-4414-87de-4f60a011c7e1.pt', 'training_args': {'epochs': 5}, 'training_data': {'node_0f5cb1d3-621f-45b9-9f45-4a38758e5ebf': ['dataset_253f8b93-4b7b-43af-bee7-59cff68e9cc6']}, 'model_args': {'max_iter': 1000, 'tol': 0.001, 'model': 'SGDRegressor', 'n_features': 8, 'verbose': 1}, 'model_url': 'http://localhost:8844/media/uploads/2022/01/10/my_model_234eccb6-6e64-463d-bbf5-a21bc7893d1d.py', 'model_class': 'SGDRegressorTrainingPlan', 'command': 'train'}\n",
      "2022-01-10 15:05:14,486 fedbiomed INFO - log from: node_ff1ad308-d26a-4c73-8ffc-87df03618014 / DEBUG - [TASKS QUEUE] Item:{'researcher_id': 'researcher_a7319768-5c08-43f6-a819-9a487cb1cc02', 'job_id': '3419b15e-3590-49f2-a705-4c96d11ca738', 'params_url': 'http://localhost:8844/media/uploads/2022/01/10/aggregated_params_f271f382-db9d-4414-87de-4f60a011c7e1.pt', 'training_args': {'epochs': 5}, 'training_data': {'node_ff1ad308-d26a-4c73-8ffc-87df03618014': ['dataset_6449edb0-8037-4071-beb2-9da26a529c98']}, 'model_args': {'max_iter': 1000, 'tol': 0.001, 'model': 'SGDRegressor', 'n_features': 8, 'verbose': 1}, 'model_url': 'http://localhost:8844/media/uploads/2022/01/10/my_model_234eccb6-6e64-463d-bbf5-a21bc7893d1d.py', 'model_class': 'SGDRegressorTrainingPlan', 'command': 'train'}\n",
      "2022-01-10 15:05:14,514 fedbiomed INFO - log from: node_0f5cb1d3-621f-45b9-9f45-4a38758e5ebf / INFO - {'monitor': <fedbiomed.node.history_monitor.HistoryMonitor object at 0x138409970>, 'epochs': 5}\n",
      "2022-01-10 15:05:14,515 fedbiomed INFO - log from: node_0f5cb1d3-621f-45b9-9f45-4a38758e5ebf / DEBUG - Dataset_path/Users/mlorenzi/works/temp/flhd_copy/heterogeneous_data/adni_client2.csv\n",
      "2022-01-10 15:05:14,517 fedbiomed INFO - log from: node_c27b3141-213a-4221-9dcf-7e885a30738b / INFO - {'monitor': <fedbiomed.node.history_monitor.HistoryMonitor object at 0x114cfb700>, 'epochs': 5}\n",
      "2022-01-10 15:05:14,521 fedbiomed INFO - log from: node_c27b3141-213a-4221-9dcf-7e885a30738b / DEBUG - Dataset_path/Users/mlorenzi/works/temp/flhd_copy/heterogeneous_data/adni_client1.csv\n",
      "2022-01-10 15:05:14,535 fedbiomed INFO - log from: node_0f5cb1d3-621f-45b9-9f45-4a38758e5ebf / INFO - Train Epoch: 0 [Batch All Samples]\tLoss: 2.388552\n",
      "2022-01-10 15:05:14,538 fedbiomed INFO - log from: node_0f5cb1d3-621f-45b9-9f45-4a38758e5ebf / INFO - Train Epoch: 1 [Batch All Samples]\tLoss: 2.358481\n",
      "2022-01-10 15:05:14,541 fedbiomed INFO - log from: node_0f5cb1d3-621f-45b9-9f45-4a38758e5ebf / INFO - Train Epoch: 2 [Batch All Samples]\tLoss: 2.372114\n",
      "2022-01-10 15:05:14,542 fedbiomed INFO - log from: node_0f5cb1d3-621f-45b9-9f45-4a38758e5ebf / INFO - Train Epoch: 3 [Batch All Samples]\tLoss: 2.363318\n",
      "2022-01-10 15:05:14,546 fedbiomed INFO - log from: node_0f5cb1d3-621f-45b9-9f45-4a38758e5ebf / INFO - Train Epoch: 4 [Batch All Samples]\tLoss: 2.320793\n",
      "2022-01-10 15:05:14,561 fedbiomed INFO - log from: node_ff1ad308-d26a-4c73-8ffc-87df03618014 / INFO - {'monitor': <fedbiomed.node.history_monitor.HistoryMonitor object at 0x134b1ac10>, 'epochs': 5}\n",
      "2022-01-10 15:05:14,562 fedbiomed INFO - log from: node_ff1ad308-d26a-4c73-8ffc-87df03618014 / DEBUG - Dataset_path/Users/mlorenzi/works/temp/flhd_copy/heterogeneous_data/adni_client3.csv\n",
      "2022-01-10 15:05:14,565 fedbiomed INFO - log from: node_ff1ad308-d26a-4c73-8ffc-87df03618014 / INFO - Train Epoch: 0 [Batch All Samples]\tLoss: 2.702770\n",
      "2022-01-10 15:05:14,574 fedbiomed INFO - log from: node_ff1ad308-d26a-4c73-8ffc-87df03618014 / INFO - Train Epoch: 1 [Batch All Samples]\tLoss: 2.658302\n",
      "2022-01-10 15:05:14,576 fedbiomed INFO - log from: node_ff1ad308-d26a-4c73-8ffc-87df03618014 / INFO - Train Epoch: 2 [Batch All Samples]\tLoss: 2.664762\n",
      "2022-01-10 15:05:14,578 fedbiomed INFO - log from: node_ff1ad308-d26a-4c73-8ffc-87df03618014 / INFO - Train Epoch: 3 [Batch All Samples]\tLoss: 2.611582\n",
      "2022-01-10 15:05:14,579 fedbiomed INFO - log from: node_c27b3141-213a-4221-9dcf-7e885a30738b / INFO - Train Epoch: 0 [Batch All Samples]\tLoss: 2.428101\n",
      "2022-01-10 15:05:14,581 fedbiomed INFO - log from: node_ff1ad308-d26a-4c73-8ffc-87df03618014 / INFO - Train Epoch: 4 [Batch All Samples]\tLoss: 2.657736\n",
      "2022-01-10 15:05:14,583 fedbiomed INFO - log from: node_c27b3141-213a-4221-9dcf-7e885a30738b / INFO - Train Epoch: 1 [Batch All Samples]\tLoss: 2.395933\n",
      "2022-01-10 15:05:14,585 fedbiomed INFO - log from: node_c27b3141-213a-4221-9dcf-7e885a30738b / INFO - Train Epoch: 2 [Batch All Samples]\tLoss: 2.416414\n",
      "2022-01-10 15:05:14,587 fedbiomed INFO - log from: node_c27b3141-213a-4221-9dcf-7e885a30738b / INFO - Train Epoch: 3 [Batch All Samples]\tLoss: 2.374120\n",
      "2022-01-10 15:05:14,624 fedbiomed INFO - log from: node_c27b3141-213a-4221-9dcf-7e885a30738b / INFO - Train Epoch: 4 [Batch All Samples]\tLoss: 2.376482\n",
      "2022-01-10 15:05:14,681 fedbiomed INFO - log from: node_0f5cb1d3-621f-45b9-9f45-4a38758e5ebf / INFO - results uploaded successfully \n",
      "2022-01-10 15:05:14,733 fedbiomed INFO - log from: node_ff1ad308-d26a-4c73-8ffc-87df03618014 / INFO - results uploaded successfully \n",
      "2022-01-10 15:05:14,846 fedbiomed INFO - log from: node_c27b3141-213a-4221-9dcf-7e885a30738b / INFO - results uploaded successfully \n",
      "2022-01-10 15:05:24,443 fedbiomed INFO - Downloading model params after training on node_0f5cb1d3-621f-45b9-9f45-4a38758e5ebf - from http://localhost:8844/media/uploads/2022/01/10/node_params_7d0c4e28-a609-4a86-aa67-8092db1f9e11.pt\n",
      "2022-01-10 15:05:24,459 fedbiomed INFO - Downloading model params after training on node_ff1ad308-d26a-4c73-8ffc-87df03618014 - from http://localhost:8844/media/uploads/2022/01/10/node_params_44d26c42-078a-4fb3-aadf-37c3b41f23db.pt\n",
      "2022-01-10 15:05:24,472 fedbiomed INFO - Downloading model params after training on node_c27b3141-213a-4221-9dcf-7e885a30738b - from http://localhost:8844/media/uploads/2022/01/10/node_params_f5dc328e-aa92-41cb-848d-26c6cc975601.pt\n",
      "2022-01-10 15:05:24,488 fedbiomed INFO - Nodes that successfully reply in round 9 ['node_0f5cb1d3-621f-45b9-9f45-4a38758e5ebf', 'node_ff1ad308-d26a-4c73-8ffc-87df03618014', 'node_c27b3141-213a-4221-9dcf-7e885a30738b']\n",
      "2022-01-10 15:05:24,548 fedbiomed INFO - Saved aggregated params for round 9 in /Users/mlorenzi/works/temp/fedbiomed/var/experiments/Experiment_0010/aggregated_params_feda1025-8674-4d9e-8281-f08f923e559c.pt\n"
     ]
    }
   ],
   "source": [
    "# start federated training\n",
    "exp.run()"
   ]
  },
  {
   "cell_type": "markdown",
   "id": "88e2a782",
   "metadata": {},
   "source": [
    "##  Testing\n",
    "\n",
    "Once the federated model is obtained, it is possible to test it locally on an independent testing partition.\n",
    "The test dataset is available at this link:\n",
    "\n",
    "https://drive.google.com/file/d/1zNUGp6TMn6WSKYVC8FQiQ9lJAUdasxk1/"
   ]
  },
  {
   "cell_type": "code",
   "execution_count": 8,
   "id": "b5335f2d",
   "metadata": {},
   "outputs": [
    {
     "name": "stdout",
     "output_type": "stream",
     "text": [
      "Requirement already satisfied: matplotlib in /Users/mlorenzi/miniconda3/envs/fedbiomed-researcher/lib/python3.9/site-packages (3.5.1)\n",
      "Requirement already satisfied: python-dateutil>=2.7 in /Users/mlorenzi/miniconda3/envs/fedbiomed-researcher/lib/python3.9/site-packages (from matplotlib) (2.8.2)\n",
      "Requirement already satisfied: pyparsing>=2.2.1 in /Users/mlorenzi/miniconda3/envs/fedbiomed-researcher/lib/python3.9/site-packages (from matplotlib) (3.0.6)\n",
      "Requirement already satisfied: numpy>=1.17 in /Users/mlorenzi/miniconda3/envs/fedbiomed-researcher/lib/python3.9/site-packages (from matplotlib) (1.22.0)\n",
      "Requirement already satisfied: fonttools>=4.22.0 in /Users/mlorenzi/miniconda3/envs/fedbiomed-researcher/lib/python3.9/site-packages (from matplotlib) (4.28.5)\n",
      "Requirement already satisfied: packaging>=20.0 in /Users/mlorenzi/miniconda3/envs/fedbiomed-researcher/lib/python3.9/site-packages (from matplotlib) (21.3)\n",
      "Requirement already satisfied: kiwisolver>=1.0.1 in /Users/mlorenzi/miniconda3/envs/fedbiomed-researcher/lib/python3.9/site-packages (from matplotlib) (1.3.2)\n",
      "Requirement already satisfied: pillow>=6.2.0 in /Users/mlorenzi/miniconda3/envs/fedbiomed-researcher/lib/python3.9/site-packages (from matplotlib) (9.0.0)\n",
      "Requirement already satisfied: cycler>=0.10 in /Users/mlorenzi/miniconda3/envs/fedbiomed-researcher/lib/python3.9/site-packages (from matplotlib) (0.11.0)\n",
      "Requirement already satisfied: six>=1.5 in /Users/mlorenzi/miniconda3/envs/fedbiomed-researcher/lib/python3.9/site-packages (from python-dateutil>=2.7->matplotlib) (1.16.0)\n",
      "Requirement already satisfied: gdown in /Users/mlorenzi/miniconda3/envs/fedbiomed-researcher/lib/python3.9/site-packages (4.2.0)\n",
      "Requirement already satisfied: filelock in /Users/mlorenzi/miniconda3/envs/fedbiomed-researcher/lib/python3.9/site-packages (from gdown) (3.4.2)\n",
      "Requirement already satisfied: six in /Users/mlorenzi/miniconda3/envs/fedbiomed-researcher/lib/python3.9/site-packages (from gdown) (1.16.0)\n",
      "Requirement already satisfied: requests[socks] in /Users/mlorenzi/miniconda3/envs/fedbiomed-researcher/lib/python3.9/site-packages (from gdown) (2.27.1)\n",
      "Requirement already satisfied: beautifulsoup4 in /Users/mlorenzi/miniconda3/envs/fedbiomed-researcher/lib/python3.9/site-packages (from gdown) (4.10.0)\n",
      "Requirement already satisfied: tqdm in /Users/mlorenzi/miniconda3/envs/fedbiomed-researcher/lib/python3.9/site-packages (from gdown) (4.62.3)\n",
      "Requirement already satisfied: soupsieve>1.2 in /Users/mlorenzi/miniconda3/envs/fedbiomed-researcher/lib/python3.9/site-packages (from beautifulsoup4->gdown) (2.3.1)\n",
      "Requirement already satisfied: idna<4,>=2.5 in /Users/mlorenzi/miniconda3/envs/fedbiomed-researcher/lib/python3.9/site-packages (from requests[socks]->gdown) (3.1)\n",
      "Requirement already satisfied: certifi>=2017.4.17 in /Users/mlorenzi/miniconda3/envs/fedbiomed-researcher/lib/python3.9/site-packages (from requests[socks]->gdown) (2021.10.8)\n",
      "Requirement already satisfied: charset-normalizer~=2.0.0 in /Users/mlorenzi/miniconda3/envs/fedbiomed-researcher/lib/python3.9/site-packages (from requests[socks]->gdown) (2.0.9)\n",
      "Requirement already satisfied: urllib3<1.27,>=1.21.1 in /Users/mlorenzi/miniconda3/envs/fedbiomed-researcher/lib/python3.9/site-packages (from requests[socks]->gdown) (1.26.7)\n",
      "Requirement already satisfied: PySocks!=1.5.7,>=1.5.6 in /Users/mlorenzi/miniconda3/envs/fedbiomed-researcher/lib/python3.9/site-packages (from requests[socks]->gdown) (1.7.1)\n"
     ]
    }
   ],
   "source": [
    "!pip install matplotlib\n",
    "!pip install gdown"
   ]
  },
  {
   "cell_type": "markdown",
   "id": "3bc6d9b2",
   "metadata": {},
   "source": [
    "Download the testing dataset on the local temporary folder."
   ]
  },
  {
   "cell_type": "code",
   "execution_count": 9,
   "id": "8500a4f0",
   "metadata": {},
   "outputs": [
    {
     "name": "stderr",
     "output_type": "stream",
     "text": [
      "Downloading...\n",
      "From: https://drive.google.com/uc?id=19kxuI146WA2fhcOU2_AvF8dy-ppJkzW7\n",
      "To: /Users/mlorenzi/works/temp/fedbiomed/var/tmp/tmpgu33_tb6/test_data.zip\n",
      "100%|██████████████████████████████████████████████████████████████████████████████████████████████████████████████████████████████████████████████████████████████████| 12.4k/12.4k [00:00<00:00, 7.47MB/s]\n"
     ]
    }
   ],
   "source": [
    "import os\n",
    "import gdown\n",
    "import zipfile\n",
    "\n",
    "resource = \"https://drive.google.com/uc?id=19kxuI146WA2fhcOU2_AvF8dy-ppJkzW7\"\n",
    "base_dir = tmp_dir_model.name \n",
    "\n",
    "test_file = os.path.join(base_dir, \"test_data.zip\")\n",
    "gdown.download(resource, test_file, quiet=False)\n",
    "\n",
    "zf = zipfile.ZipFile(test_file)\n",
    "\n",
    "for file in zf.infolist():\n",
    "    zf.extract(file, base_dir)\n"
   ]
  },
  {
   "cell_type": "code",
   "execution_count": 10,
   "id": "35bdc3a2",
   "metadata": {},
   "outputs": [],
   "source": [
    "import pandas as pd\n",
    "n_features = 8\n",
    "\n",
    "test_data = pd.read_csv(os.path.join(base_dir,'adni_validation.csv'))"
   ]
  },
  {
   "cell_type": "code",
   "execution_count": 11,
   "id": "91f579d5",
   "metadata": {},
   "outputs": [],
   "source": [
    "from sklearn.linear_model import SGDRegressor\n",
    "import matplotlib.pyplot as plt"
   ]
  },
  {
   "cell_type": "code",
   "execution_count": 12,
   "id": "d73be6dd",
   "metadata": {},
   "outputs": [],
   "source": [
    "%matplotlib inline"
   ]
  },
  {
   "cell_type": "markdown",
   "id": "7fb078c6",
   "metadata": {},
   "source": [
    "Here we extract the relevant regressors and target from the testing data "
   ]
  },
  {
   "cell_type": "code",
   "execution_count": 13,
   "id": "05ca90a2",
   "metadata": {},
   "outputs": [],
   "source": [
    "regressors_col = ['SEX', 'AGE', 'PTEDUCAT', 'WholeBrain.bl', 'Ventricles.bl', 'Hippocampus.bl', 'MidTemp.bl', 'Entorhinal.bl']\n",
    "target_col = ['MMSE.bl']\n",
    "X_test = test_data[regressors_col].values\n",
    "y_test = test_data[target_col].values"
   ]
  },
  {
   "cell_type": "markdown",
   "id": "63e6d380",
   "metadata": {},
   "source": [
    "To inspect the model evolution across FL rounds, we export `exp.aggregated_params` containing models parameters collected at the end of each round. The MSE should be decreasing at each iteration with the federated parameters. "
   ]
  },
  {
   "cell_type": "code",
   "execution_count": 14,
   "id": "6edb32ed",
   "metadata": {},
   "outputs": [
    {
     "data": {
      "text/plain": [
       "Text(0, 0.5, 'testing loss')"
      ]
     },
     "execution_count": 14,
     "metadata": {},
     "output_type": "execute_result"
    },
    {
     "data": {
      "image/png": "[encoded data removed]",
      "text/plain": [
       "<Figure size 432x288 with 1 Axes>"
      ]
     },
     "metadata": {
      "needs_background": "light"
     },
     "output_type": "display_data"
    }
   ],
   "source": [
    "scaling_mean = np.array([0.8, 72.3, 16.2, 0.7, 0.0, 0.0, 0.0, 0.0])\n",
    "scaling_sd = np.array([3.5e-01, 7.3e+00, 2.7e+00, 5.0e-02, 1.1e-02, 1.0e-03, 2.0e-03, 1.0e-03])\n",
    "\n",
    "testing_error = []\n",
    "\n",
    "for i in range(rounds):\n",
    "    fed_model = SGDRegressor(max_iter=1000, tol=1e-3)\n",
    "    fed_model.coef_ = exp.aggregated_params[i]['params']['coef_'].copy()\n",
    "    fed_model.intercept_ = exp.aggregated_params[i]['params']['intercept_'].copy()  \n",
    "    mse = np.mean((fed_model.predict((X_test-scaling_mean)/scaling_sd) - y_test)**2)\n",
    "    testing_error.append(mse)\n",
    "\n",
    "plt.plot(testing_error)\n",
    "plt.title('FL testing loss')\n",
    "plt.xlabel('FL round')\n",
    "plt.ylabel('testing loss')"
   ]
  },
  {
   "cell_type": "markdown",
   "id": "60406da1",
   "metadata": {},
   "source": [
    "We finally inspect the predictions of the final federated model on the testing data."
   ]
  },
  {
   "cell_type": "code",
   "execution_count": 15,
   "id": "3191befa",
   "metadata": {},
   "outputs": [
    {
     "data": {
      "text/plain": [
       "Text(0.5, 1.0, 'Federated model testing prediction')"
      ]
     },
     "execution_count": 15,
     "metadata": {},
     "output_type": "execute_result"
    },
    {
     "data": {
      "image/png": "[encoded data removed]",
      "text/plain": [
       "<Figure size 432x288 with 1 Axes>"
      ]
     },
     "metadata": {
      "needs_background": "light"
     },
     "output_type": "display_data"
    }
   ],
   "source": [
    "plt.scatter(fed_model.predict((X_test-scaling_mean)/scaling_sd), y_test)\n",
    "plt.xlabel('predicted')\n",
    "plt.ylabel('target')\n",
    "plt.title('Federated model testing prediction')"
   ]
  }
 ],
 "metadata": {
  "kernelspec": {
   "display_name": "Python 3 (ipykernel)",
   "language": "python",
   "name": "python3"
  },
  "language_info": {
   "codemirror_mode": {
    "name": "ipython",
    "version": 3
   },
   "file_extension": ".py",
   "mimetype": "text/x-python",
   "name": "python",
   "nbconvert_exporter": "python",
   "pygments_lexer": "ipython3",
   "version": "3.9.9"
  }
 },
 "nbformat": 4,
 "nbformat_minor": 5
}

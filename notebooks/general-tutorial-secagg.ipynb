{
 "cells": [
  {
   "cell_type": "markdown",
   "metadata": {},
   "source": [
    "# Fed-BioMed secure aggregation tutorial"
   ]
  },
  {
   "cell_type": "markdown",
   "metadata": {},
   "source": [
    "\n",
    "<font size=+2>\n",
    "    Warning: secure aggregation is a work in progress. In current version it is not fully implement and does not provide any effective security/functionality. This notebook exists only for demonstration purposes.\n",
    "</font>\n"
   ]
  },
  {
   "cell_type": "markdown",
   "metadata": {},
   "source": [
    "## Example experimentation setup\n",
    "\n",
    "This part contains setup of a basic example for Fed-BioMed. At this point, nothing is specific to secure aggregation."
   ]
  },
  {
   "cell_type": "markdown",
   "metadata": {},
   "source": [
    "### Start the network\n",
    "Before running this notebook, start the network with `./scripts/fedbiomed_run network`"
   ]
  },
  {
   "cell_type": "markdown",
   "metadata": {},
   "source": [
    "### Setting nodes up\n",
    "It is necessary to previously configure ** at least two nodes**:\n",
    "1. `./scripts/fedbiomed_run node config config_node1.ini add` (respectively for the second node: `./scripts/fedbiomed_run node config config_node2.ini add`)\n",
    "  * Select option 2 (default) to add MNIST to the node\n",
    "  * Confirm default tags by hitting \"y\" and ENTER\n",
    "  * Pick the folder where MNIST is downloaded (this is due to a pytorch issue https://github.com/pytorch/vision/issues/3549)\n",
    "  * Data must have been added (if you get a warning saying that data must be unique is because it's been already added)\n",
    "  \n",
    "2. Check that your data has been added by executing `./scripts/fedbiomed_run config config_node1.ini node list`\n",
    "3. Run the node using `./scripts/fedbiomed_run config_node1.ini node run`. Wait until you get `Starting task manager`. it means you are online."
   ]
  },
  {
   "cell_type": "markdown",
   "metadata": {},
   "source": [
    "### Define an experiment model and parameters\""
   ]
  },
  {
   "cell_type": "markdown",
   "metadata": {},
   "source": [
    "Declare a torch training plan MyTrainingPlan class to send for training on the node"
   ]
  },
  {
   "cell_type": "code",
   "execution_count": 1,
   "metadata": {},
   "outputs": [],
   "source": [
    "import torch\n",
    "import torch.nn as nn\n",
    "from fedbiomed.common.training_plans import TorchTrainingPlan\n",
    "from fedbiomed.common.data import DataManager\n",
    "from torchvision import datasets, transforms\n",
    "\n",
    "\n",
    "# Here we define the model to be used. \n",
    "# You can use any class name (here 'Net')\n",
    "class MyTrainingPlan(TorchTrainingPlan):\n",
    "    \n",
    "    # Defines and return model \n",
    "    def init_model(self, model_args):\n",
    "        return self.Net(model_args = model_args)\n",
    "    \n",
    "    # Defines and return optimizer\n",
    "    def init_optimizer(self, optimizer_args):\n",
    "        return torch.optim.Adam(self.model().parameters(), lr = optimizer_args[\"lr\"])\n",
    "    \n",
    "    # Declares and return dependencies\n",
    "    def init_dependencies(self):\n",
    "        deps = [\"from torchvision import datasets, transforms\"]\n",
    "        return deps\n",
    "    \n",
    "    class Net(nn.Module):\n",
    "        def __init__(self, model_args):\n",
    "            super().__init__()\n",
    "            self.conv1 = nn.Conv2d(1, 32, 3, 1)\n",
    "            self.conv2 = nn.Conv2d(32, 64, 3, 1)\n",
    "            self.dropout1 = nn.Dropout(0.25)\n",
    "            self.dropout2 = nn.Dropout(0.5)\n",
    "            self.fc1 = nn.Linear(9216, 128)\n",
    "            self.fc2 = nn.Linear(128, 10)\n",
    "\n",
    "        def forward(self, x):\n",
    "            x = self.conv1(x)\n",
    "            x = F.relu(x)\n",
    "            x = self.conv2(x)\n",
    "            x = F.relu(x)\n",
    "            x = F.max_pool2d(x, 2)\n",
    "            x = self.dropout1(x)\n",
    "            x = torch.flatten(x, 1)\n",
    "            x = self.fc1(x)\n",
    "            x = F.relu(x)\n",
    "            x = self.dropout2(x)\n",
    "            x = self.fc2(x)\n",
    "\n",
    "\n",
    "            output = F.log_softmax(x, dim=1)\n",
    "            return output\n",
    "\n",
    "    def training_data(self, batch_size = 48):\n",
    "        # Custom torch Dataloader for MNIST data\n",
    "        transform = transforms.Compose([transforms.ToTensor(),\n",
    "        transforms.Normalize((0.1307,), (0.3081,))])\n",
    "        dataset1 = datasets.MNIST(self.dataset_path, train=True, download=False, transform=transform)\n",
    "        train_kwargs = {'batch_size': batch_size, 'shuffle': True}\n",
    "        return DataManager(dataset=dataset1, **train_kwargs)\n",
    "    \n",
    "    def training_step(self, data, target):\n",
    "        output = self.model().forward(data)\n",
    "        loss   = torch.nn.functional.nll_loss(output, target)\n",
    "        return loss\n"
   ]
  },
  {
   "cell_type": "markdown",
   "metadata": {},
   "source": [
    "This group of arguments correspond respectively:\n",
    "* `model_args`: a dictionary with the arguments related to the model (e.g. number of layers, features, etc.). This will be passed to the model class on the node side.\n",
    "* `training_args`: a dictionary containing the arguments for the training routine (e.g. batch size, learning rate, epochs, etc.). This will be passed to the routine on the node side.\n",
    "\n",
    "**NOTE:** typos and/or lack of positional (required) arguments will raise error. 🤓"
   ]
  },
  {
   "cell_type": "code",
   "execution_count": 2,
   "metadata": {
    "pycharm": {
     "name": "#%%\n"
    }
   },
   "outputs": [],
   "source": [
    "model_args = {}\n",
    "\n",
    "training_args = {\n",
    "    'batch_size': 48, \n",
    "    'optimizer_args': {\n",
    "        \"lr\" : 1e-3\n",
    "    },\n",
    "    'epochs': 1, \n",
    "    'dry_run': False,  \n",
    "    'batch_maxnum': 100 # Fast pass for development : only use ( batch_maxnum * batch_size ) samples\n",
    "}"
   ]
  },
  {
   "cell_type": "markdown",
   "metadata": {},
   "source": [
    "### Declare and run the experiment"
   ]
  },
  {
   "cell_type": "code",
   "execution_count": 3,
   "metadata": {
    "pycharm": {
     "name": "#%%\n"
    },
    "scrolled": false
   },
   "outputs": [
    {
     "name": "stderr",
     "output_type": "stream",
     "text": [
      "2023-04-04 11:57:31,047 fedbiomed INFO - Messaging researcher_a97b0749-849d-4acd-b6c7-058fc7714e28 successfully connected to the message broker, object = <fedbiomed.common.messaging.Messaging object at 0x7f5702c44b20>\n",
      "2023-04-04 11:57:31,076 fedbiomed INFO - Searching dataset with data tags: ['#MNIST', '#dataset'] for all nodes\n",
      "2023-04-04 11:57:41,092 fedbiomed INFO - Node selected for training -> node_c1270b1a-8b86-4eb2-8933-40a9e0400c94\n",
      "2023-04-04 11:57:41,094 fedbiomed INFO - Node selected for training -> node_38c4ec0d-6b95-41b6-9518-ec343d18b951\n",
      "2023-04-04 11:57:41,098 fedbiomed INFO - Checking data quality of federated datasets...\n",
      "Secure RNG turned off. This is perfectly fine for experimentation as it allows for much faster training performance, but remember to turn it on and retrain one last time before production with ``secure_mode`` turned on.\n",
      "2023-04-04 11:57:41,133 fedbiomed DEBUG - Model file has been saved: /home/scansiz/projects/fedbiomed-dev/fedbiomed/var/experiments/Experiment_0022/my_model_0cf29eba-3194-4cb1-829a-ba00319fc76c.py\n",
      "2023-04-04 11:57:41,159 fedbiomed DEBUG - HTTP POST request of file /home/scansiz/projects/fedbiomed-dev/fedbiomed/var/experiments/Experiment_0022/my_model_0cf29eba-3194-4cb1-829a-ba00319fc76c.py successful, with status code 201\n",
      "2023-04-04 11:57:41,396 fedbiomed DEBUG - HTTP POST request of file /home/scansiz/projects/fedbiomed-dev/fedbiomed/var/experiments/Experiment_0022/aggregated_params_818dc569-5342-447d-824e-12e66b0fea2e.mpk successful, with status code 201\n"
     ]
    }
   ],
   "source": [
    "from fedbiomed.researcher.experiment import Experiment\n",
    "from fedbiomed.researcher.aggregators.fedavg import FedAverage\n",
    "from fedbiomed.researcher.secagg import SecureAggregation\n",
    "tags =  ['#MNIST', '#dataset']\n",
    "rounds = 2\n",
    "\n",
    "exp = Experiment(tags=tags,\n",
    "                 model_args=model_args,\n",
    "                 training_plan_class=MyTrainingPlan,\n",
    "                 training_args=training_args,\n",
    "                 round_limit=rounds,\n",
    "                 aggregator=FedAverage(),\n",
    "                 node_selection_strategy=None,\n",
    "                 secagg=SecureAggregation(clipping_range=100),\n",
    "                 save_breakpoints=True)"
   ]
  },
  {
   "cell_type": "markdown",
   "metadata": {},
   "source": [
    "### Access secure aggregation context"
   ]
  },
  {
   "cell_type": "markdown",
   "metadata": {},
   "source": [
    "Please use the attribute `secagg` to verify secure aggregation is set as active"
   ]
  },
  {
   "cell_type": "code",
   "execution_count": null,
   "metadata": {
    "scrolled": true
   },
   "outputs": [],
   "source": [
    "print(\"Is using secagg: \", exp.secagg.active)"
   ]
  },
  {
   "cell_type": "markdown",
   "metadata": {},
   "source": [
    "It is also possible to check secure aggregation context using `secagg` attribute. Since secure aggregation context negotiation will occur during experiment run, context and id should be `None`"
   ]
  },
  {
   "cell_type": "code",
   "execution_count": null,
   "metadata": {
    "scrolled": true
   },
   "outputs": [],
   "source": [
    "print(\"Secagg Biprime \", exp.secagg.biprime)\n",
    "print(\"Secagg Servkey \", exp.secagg.servkey)"
   ]
  },
  {
   "cell_type": "markdown",
   "metadata": {},
   "source": [
    "Run the experiment, using secure aggregation. Secure aggregation context will be created in the first round and it going to be updated if new nodes are add or removed. "
   ]
  },
  {
   "cell_type": "code",
   "execution_count": 4,
   "metadata": {},
   "outputs": [
    {
     "name": "stderr",
     "output_type": "stream",
     "text": [
      "2023-04-04 11:57:41,405 fedbiomed DEBUG - researcher_a97b0749-849d-4acd-b6c7-058fc7714e28\n",
      "2023-04-04 11:57:41,406 fedbiomed DEBUG - researcher_a97b0749-849d-4acd-b6c7-058fc7714e28\n",
      "2023-04-04 11:57:41,409 fedbiomed DEBUG - Secagg context for default_biprime0 is already existing on researcher researcher_id='researcher_a97b0749-849d-4acd-b6c7-058fc7714e28'\n",
      "2023-04-04 11:57:41,410 fedbiomed INFO - \u001b[1mINFO\u001b[0m\n",
      "\t\t\t\t\t\u001b[1m NODE\u001b[0m node_c1270b1a-8b86-4eb2-8933-40a9e0400c94\n",
      "\t\t\t\t\t\u001b[1m MESSAGE:\u001b[0m Node secagg context element for default_biprime0 is already existing for job None\u001b[0m\n",
      "-----------------------------------------------------------------\n",
      "2023-04-04 11:57:41,412 fedbiomed INFO - \u001b[1mINFO\u001b[0m\n",
      "\t\t\t\t\t\u001b[1m NODE\u001b[0m node_38c4ec0d-6b95-41b6-9518-ec343d18b951\n",
      "\t\t\t\t\t\u001b[1m MESSAGE:\u001b[0m Node secagg context element for default_biprime0 is already existing for job None\u001b[0m\n",
      "-----------------------------------------------------------------\n",
      "2023-04-04 11:57:42,440 fedbiomed DEBUG - researcher_a97b0749-849d-4acd-b6c7-058fc7714e28\n",
      "2023-04-04 11:57:42,442 fedbiomed DEBUG - researcher_a97b0749-849d-4acd-b6c7-058fc7714e28\n",
      "2023-04-04 11:57:46,856 fedbiomed DEBUG - MPC protocol output: \n",
      "\t\t\t\t\t\t \u001b[1;32mCloning MP-SPDZ into the MPC working directory ...\u001b[0m\n",
      "\t\t\t\t\t\t\n",
      "\t\t\t\t\t\tDoing /home/scansiz/projects/fedbiomed-dev/fedbiomed/var/tmp/MPC/researcher_a97b0749-849d-4acd-b6c7-058fc7714e28/f083b790-3cc2-4cef-87b5-1648e8dcf8e2/MP-SPDZ/Player-Data\n",
      "\t\t\t\t\t\t\u001b[1;32mCompiling 'server_key'...\u001b[0m\n",
      "\t\t\t\t\t\t\n",
      "\t\t\t\t\t\t\u001b[1;32mCompilation is successful!\u001b[0m\n",
      "\t\t\t\t\t\t##########################################################################\n",
      "\t\t\t\t\t\tDefault bit length: 2048\n",
      "\t\t\t\t\t\tDefault security parameter: 40\n",
      "\t\t\t\t\t\tCompiling: server_key from compile_func\n",
      "\t\t\t\t\t\tWriting to /home/scansiz/projects/fedbiomed-dev/fedbiomed/var/tmp/MPC/researcher_a97b0749-849d-4acd-b6c7-058fc7714e28/f083b790-3cc2-4cef-87b5-1648e8dcf8e2/MP-SPDZ/Programs/Schedules/server_key.sch\n",
      "\t\t\t\t\t\tWriting to /home/scansiz/projects/fedbiomed-dev/fedbiomed/var/tmp/MPC/researcher_a97b0749-849d-4acd-b6c7-058fc7714e28/f083b790-3cc2-4cef-87b5-1648e8dcf8e2/MP-SPDZ/Programs/Bytecode/server_key-0.bc\n",
      "\t\t\t\t\t\tProgram requires at most:\n",
      "\t\t\t\t\t\t         inf integer inputs from player 0\n",
      "\t\t\t\t\t\t           1 virtual machine rounds\n",
      "\t\t\t\t\t\t##########################################################################\n",
      "\t\t\t\t\t\t\n",
      "\t\t\t\t\t\t\n",
      "\t\t\t\t\t\t\u001b[1;33mExecution info:\u001b[0m\n",
      "\t\t\t\t\t\t\u001b[1;33m---------------------------------------\u001b[0m\n",
      "\t\t\t\t\t\t\u001b[1mParty no          :\u001b[0m 0\n",
      "\t\t\t\t\t\t\u001b[1mNumber of parties :\u001b[0m 3\n",
      "\t\t\t\t\t\t\u001b[1mAssigned IPs      :\u001b[0m /home/scansiz/projects/fedbiomed-dev/fedbiomed/var/tmp/MPC/researcher_a97b0749-849d-4acd-b6c7-058fc7714e28/f083b790-3cc2-4cef-87b5-1648e8dcf8e2/ip_addresses\n",
      "\t\t\t\t\t\t\u001b[1mOutput file       :\u001b[0m /home/scansiz/projects/fedbiomed-dev/fedbiomed/var/tmp/MPC/researcher_a97b0749-849d-4acd-b6c7-058fc7714e28/f083b790-3cc2-4cef-87b5-1648e8dcf8e2/Output-P0-0\n",
      "\t\t\t\t\t\t\u001b[1;32mExecuting protocol 'shamir-party'...\u001b[0m\n",
      "\t\t\t\t\t\t\u001b[1mPress CTRL+C to stop\u001b[0m\n",
      "\t\t\t\t\t\tUsing security parameter 40\n",
      "\t\t\t\t\t\tThe following benchmarks are including preprocessing (offline phase).\n",
      "\t\t\t\t\t\tTime = 0.00333217 seconds \n",
      "\t\t\t\t\t\tData sent = 0 MB in ~4 rounds (party 0)\n",
      "\t\t\t\t\t\tGlobal data sent = 0.001056 MB (all parties)\n",
      "\t\t\t\t\t\t\n",
      "2023-04-04 11:57:46,893 fedbiomed DEBUG - Server key successfully created for researcher_id='researcher_a97b0749-849d-4acd-b6c7-058fc7714e28' secagg_id='secagg_ae6cdaa6-bf59-47ac-a8b0-d30e3426e89e'\n",
      "2023-04-04 11:57:46,898 fedbiomed INFO - \u001b[1mINFO\u001b[0m\n",
      "\t\t\t\t\t\u001b[1m NODE\u001b[0m node_c1270b1a-8b86-4eb2-8933-40a9e0400c94\n",
      "\t\t\t\t\t\u001b[1m MESSAGE:\u001b[0m Server key share successfully created for node_id='node_c1270b1a-8b86-4eb2-8933-40a9e0400c94' secagg_id='secagg_ae6cdaa6-bf59-47ac-a8b0-d30e3426e89e'\u001b[0m\n",
      "-----------------------------------------------------------------\n",
      "2023-04-04 11:57:46,900 fedbiomed INFO - \u001b[1mINFO\u001b[0m\n",
      "\t\t\t\t\t\u001b[1m NODE\u001b[0m node_38c4ec0d-6b95-41b6-9518-ec343d18b951\n",
      "\t\t\t\t\t\u001b[1m MESSAGE:\u001b[0m Server key share successfully created for node_id='node_38c4ec0d-6b95-41b6-9518-ec343d18b951' secagg_id='secagg_ae6cdaa6-bf59-47ac-a8b0-d30e3426e89e'\u001b[0m\n",
      "-----------------------------------------------------------------\n",
      "2023-04-04 11:57:47,928 fedbiomed INFO - Sampled nodes in round 0 ['node_c1270b1a-8b86-4eb2-8933-40a9e0400c94', 'node_38c4ec0d-6b95-41b6-9518-ec343d18b951']\n",
      "2023-04-04 11:57:47,930 fedbiomed INFO - \u001b[1mSending request\u001b[0m \n",
      "\t\t\t\t\t\u001b[1m To\u001b[0m: node_c1270b1a-8b86-4eb2-8933-40a9e0400c94 \n",
      "\t\t\t\t\t\u001b[1m Request: \u001b[0m: Perform training with the arguments: {'researcher_id': 'researcher_a97b0749-849d-4acd-b6c7-058fc7714e28', 'job_id': 'c383cc2c-92e7-4987-b835-fd9a0f8e4014', 'training_args': {'batch_size': 48, 'optimizer_args': {'lr': 0.001}, 'epochs': 1, 'dry_run': False, 'batch_maxnum': 100, 'num_updates': None, 'test_ratio': 0.0, 'test_on_local_updates': False, 'test_on_global_updates': False, 'test_metric': None, 'test_metric_args': {}, 'log_interval': 10, 'fedprox_mu': None, 'use_gpu': False, 'dp_args': None}, 'training': True, 'model_args': {}, 'round': 0, 'secagg_servkey_id': 'secagg_ae6cdaa6-bf59-47ac-a8b0-d30e3426e89e', 'secagg_biprime_id': 'default_biprime0', 'secagg_random': 0.044, 'secagg_clipping_range': None, 'command': 'train', 'training_plan_url': 'http://localhost:8844/media/uploads/2023/04/04/my_model_0cf29eba-3194-4cb1-829a-ba00319fc76c.py', 'params_url': 'http://localhost:8844/media/uploads/2023/04/04/aggregated_params_818dc569-5342-447d-824e-12e66b0fea2e.mpk', 'training_plan_class': 'MyTrainingPlan', 'dataset_id': 'dataset_3103817c-572a-4c1e-9b8f-55b35080d9a7'} \n",
      " -----------------------------------------------------------------\n",
      "2023-04-04 11:57:47,932 fedbiomed DEBUG - researcher_a97b0749-849d-4acd-b6c7-058fc7714e28\n",
      "2023-04-04 11:57:47,935 fedbiomed INFO - \u001b[1mSending request\u001b[0m \n",
      "\t\t\t\t\t\u001b[1m To\u001b[0m: node_38c4ec0d-6b95-41b6-9518-ec343d18b951 \n",
      "\t\t\t\t\t\u001b[1m Request: \u001b[0m: Perform training with the arguments: {'researcher_id': 'researcher_a97b0749-849d-4acd-b6c7-058fc7714e28', 'job_id': 'c383cc2c-92e7-4987-b835-fd9a0f8e4014', 'training_args': {'batch_size': 48, 'optimizer_args': {'lr': 0.001}, 'epochs': 1, 'dry_run': False, 'batch_maxnum': 100, 'num_updates': None, 'test_ratio': 0.0, 'test_on_local_updates': False, 'test_on_global_updates': False, 'test_metric': None, 'test_metric_args': {}, 'log_interval': 10, 'fedprox_mu': None, 'use_gpu': False, 'dp_args': None}, 'training': True, 'model_args': {}, 'round': 0, 'secagg_servkey_id': 'secagg_ae6cdaa6-bf59-47ac-a8b0-d30e3426e89e', 'secagg_biprime_id': 'default_biprime0', 'secagg_random': 0.044, 'secagg_clipping_range': None, 'command': 'train', 'training_plan_url': 'http://localhost:8844/media/uploads/2023/04/04/my_model_0cf29eba-3194-4cb1-829a-ba00319fc76c.py', 'params_url': 'http://localhost:8844/media/uploads/2023/04/04/aggregated_params_818dc569-5342-447d-824e-12e66b0fea2e.mpk', 'training_plan_class': 'MyTrainingPlan', 'dataset_id': 'dataset_2c20d5a5-d13a-4a54-bf30-dbfb83f8c11b'} \n",
      " -----------------------------------------------------------------\n",
      "2023-04-04 11:57:47,936 fedbiomed DEBUG - researcher_a97b0749-849d-4acd-b6c7-058fc7714e28\n",
      "2023-04-04 11:57:48,055 fedbiomed INFO - \u001b[1mWARNING\u001b[0m\n",
      "\t\t\t\t\t\u001b[1m NODE\u001b[0m node_38c4ec0d-6b95-41b6-9518-ec343d18b951\n",
      "\t\t\t\t\t\u001b[1m MESSAGE:\u001b[0m There is no validation activated for the round. Please set flag for `test_on_global_updates`, `test_on_local_updates`, or both. Splitting dataset for validation will be ignored\u001b[0m\n",
      "-----------------------------------------------------------------\n",
      "2023-04-04 11:57:48,061 fedbiomed INFO - \u001b[1mWARNING\u001b[0m\n",
      "\t\t\t\t\t\u001b[1m NODE\u001b[0m node_c1270b1a-8b86-4eb2-8933-40a9e0400c94\n",
      "\t\t\t\t\t\u001b[1m MESSAGE:\u001b[0m There is no validation activated for the round. Please set flag for `test_on_global_updates`, `test_on_local_updates`, or both. Splitting dataset for validation will be ignored\u001b[0m\n",
      "-----------------------------------------------------------------\n",
      "2023-04-04 11:57:48,392 fedbiomed INFO - \u001b[1mTRAINING\u001b[0m \n",
      "\t\t\t\t\t NODE_ID: node_38c4ec0d-6b95-41b6-9518-ec343d18b951 \n",
      "\t\t\t\t\t Round 1 Epoch: 1 | Iteration: 1/100 (1%) | Samples: 48/4800\n",
      " \t\t\t\t\t Loss: \u001b[1m2.350912\u001b[0m \n",
      "\t\t\t\t\t ---------\n",
      "2023-04-04 11:57:48,404 fedbiomed INFO - \u001b[1mTRAINING\u001b[0m \n",
      "\t\t\t\t\t NODE_ID: node_c1270b1a-8b86-4eb2-8933-40a9e0400c94 \n",
      "\t\t\t\t\t Round 1 Epoch: 1 | Iteration: 1/100 (1%) | Samples: 48/4800\n",
      " \t\t\t\t\t Loss: \u001b[1m2.308446\u001b[0m \n",
      "\t\t\t\t\t ---------\n"
     ]
    },
    {
     "name": "stderr",
     "output_type": "stream",
     "text": [
      "2023-04-04 11:57:49,300 fedbiomed INFO - \u001b[1mTRAINING\u001b[0m \n",
      "\t\t\t\t\t NODE_ID: node_c1270b1a-8b86-4eb2-8933-40a9e0400c94 \n",
      "\t\t\t\t\t Round 1 Epoch: 1 | Iteration: 10/100 (10%) | Samples: 480/4800\n",
      " \t\t\t\t\t Loss: \u001b[1m1.424600\u001b[0m \n",
      "\t\t\t\t\t ---------\n",
      "2023-04-04 11:57:49,373 fedbiomed INFO - \u001b[1mTRAINING\u001b[0m \n",
      "\t\t\t\t\t NODE_ID: node_38c4ec0d-6b95-41b6-9518-ec343d18b951 \n",
      "\t\t\t\t\t Round 1 Epoch: 1 | Iteration: 10/100 (10%) | Samples: 480/4800\n",
      " \t\t\t\t\t Loss: \u001b[1m1.441414\u001b[0m \n",
      "\t\t\t\t\t ---------\n",
      "2023-04-04 11:57:50,299 fedbiomed INFO - \u001b[1mTRAINING\u001b[0m \n",
      "\t\t\t\t\t NODE_ID: node_c1270b1a-8b86-4eb2-8933-40a9e0400c94 \n",
      "\t\t\t\t\t Round 1 Epoch: 1 | Iteration: 20/100 (20%) | Samples: 960/4800\n",
      " \t\t\t\t\t Loss: \u001b[1m1.022113\u001b[0m \n",
      "\t\t\t\t\t ---------\n",
      "2023-04-04 11:57:50,434 fedbiomed INFO - \u001b[1mTRAINING\u001b[0m \n",
      "\t\t\t\t\t NODE_ID: node_38c4ec0d-6b95-41b6-9518-ec343d18b951 \n",
      "\t\t\t\t\t Round 1 Epoch: 1 | Iteration: 20/100 (20%) | Samples: 960/4800\n",
      " \t\t\t\t\t Loss: \u001b[1m1.141063\u001b[0m \n",
      "\t\t\t\t\t ---------\n",
      "2023-04-04 11:57:51,118 fedbiomed INFO - \u001b[1mTRAINING\u001b[0m \n",
      "\t\t\t\t\t NODE_ID: node_c1270b1a-8b86-4eb2-8933-40a9e0400c94 \n",
      "\t\t\t\t\t Round 1 Epoch: 1 | Iteration: 30/100 (30%) | Samples: 1440/4800\n",
      " \t\t\t\t\t Loss: \u001b[1m0.864295\u001b[0m \n",
      "\t\t\t\t\t ---------\n",
      "2023-04-04 11:57:51,291 fedbiomed INFO - \u001b[1mTRAINING\u001b[0m \n",
      "\t\t\t\t\t NODE_ID: node_38c4ec0d-6b95-41b6-9518-ec343d18b951 \n",
      "\t\t\t\t\t Round 1 Epoch: 1 | Iteration: 30/100 (30%) | Samples: 1440/4800\n",
      " \t\t\t\t\t Loss: \u001b[1m0.554665\u001b[0m \n",
      "\t\t\t\t\t ---------\n",
      "2023-04-04 11:57:51,993 fedbiomed INFO - \u001b[1mTRAINING\u001b[0m \n",
      "\t\t\t\t\t NODE_ID: node_c1270b1a-8b86-4eb2-8933-40a9e0400c94 \n",
      "\t\t\t\t\t Round 1 Epoch: 1 | Iteration: 40/100 (40%) | Samples: 1920/4800\n",
      " \t\t\t\t\t Loss: \u001b[1m0.521809\u001b[0m \n",
      "\t\t\t\t\t ---------\n",
      "2023-04-04 11:57:52,254 fedbiomed INFO - \u001b[1mTRAINING\u001b[0m \n",
      "\t\t\t\t\t NODE_ID: node_38c4ec0d-6b95-41b6-9518-ec343d18b951 \n",
      "\t\t\t\t\t Round 1 Epoch: 1 | Iteration: 40/100 (40%) | Samples: 1920/4800\n",
      " \t\t\t\t\t Loss: \u001b[1m0.796526\u001b[0m \n",
      "\t\t\t\t\t ---------\n",
      "2023-04-04 11:57:52,813 fedbiomed INFO - \u001b[1mTRAINING\u001b[0m \n",
      "\t\t\t\t\t NODE_ID: node_c1270b1a-8b86-4eb2-8933-40a9e0400c94 \n",
      "\t\t\t\t\t Round 1 Epoch: 1 | Iteration: 50/100 (50%) | Samples: 2400/4800\n",
      " \t\t\t\t\t Loss: \u001b[1m0.718522\u001b[0m \n",
      "\t\t\t\t\t ---------\n",
      "2023-04-04 11:57:53,096 fedbiomed INFO - \u001b[1mTRAINING\u001b[0m \n",
      "\t\t\t\t\t NODE_ID: node_38c4ec0d-6b95-41b6-9518-ec343d18b951 \n",
      "\t\t\t\t\t Round 1 Epoch: 1 | Iteration: 50/100 (50%) | Samples: 2400/4800\n",
      " \t\t\t\t\t Loss: \u001b[1m0.754630\u001b[0m \n",
      "\t\t\t\t\t ---------\n",
      "2023-04-04 11:57:53,643 fedbiomed INFO - \u001b[1mTRAINING\u001b[0m \n",
      "\t\t\t\t\t NODE_ID: node_c1270b1a-8b86-4eb2-8933-40a9e0400c94 \n",
      "\t\t\t\t\t Round 1 Epoch: 1 | Iteration: 60/100 (60%) | Samples: 2880/4800\n",
      " \t\t\t\t\t Loss: \u001b[1m0.470653\u001b[0m \n",
      "\t\t\t\t\t ---------\n",
      "2023-04-04 11:57:53,948 fedbiomed INFO - \u001b[1mTRAINING\u001b[0m \n",
      "\t\t\t\t\t NODE_ID: node_38c4ec0d-6b95-41b6-9518-ec343d18b951 \n",
      "\t\t\t\t\t Round 1 Epoch: 1 | Iteration: 60/100 (60%) | Samples: 2880/4800\n",
      " \t\t\t\t\t Loss: \u001b[1m0.673370\u001b[0m \n",
      "\t\t\t\t\t ---------\n",
      "2023-04-04 11:57:54,477 fedbiomed INFO - \u001b[1mTRAINING\u001b[0m \n",
      "\t\t\t\t\t NODE_ID: node_c1270b1a-8b86-4eb2-8933-40a9e0400c94 \n",
      "\t\t\t\t\t Round 1 Epoch: 1 | Iteration: 70/100 (70%) | Samples: 3360/4800\n",
      " \t\t\t\t\t Loss: \u001b[1m0.254886\u001b[0m \n",
      "\t\t\t\t\t ---------\n",
      "2023-04-04 11:57:54,806 fedbiomed INFO - \u001b[1mTRAINING\u001b[0m \n",
      "\t\t\t\t\t NODE_ID: node_38c4ec0d-6b95-41b6-9518-ec343d18b951 \n",
      "\t\t\t\t\t Round 1 Epoch: 1 | Iteration: 70/100 (70%) | Samples: 3360/4800\n",
      " \t\t\t\t\t Loss: \u001b[1m0.428002\u001b[0m \n",
      "\t\t\t\t\t ---------\n",
      "2023-04-04 11:57:55,314 fedbiomed INFO - \u001b[1mTRAINING\u001b[0m \n",
      "\t\t\t\t\t NODE_ID: node_c1270b1a-8b86-4eb2-8933-40a9e0400c94 \n",
      "\t\t\t\t\t Round 1 Epoch: 1 | Iteration: 80/100 (80%) | Samples: 3840/4800\n",
      " \t\t\t\t\t Loss: \u001b[1m0.351349\u001b[0m \n",
      "\t\t\t\t\t ---------\n",
      "2023-04-04 11:57:55,678 fedbiomed INFO - \u001b[1mTRAINING\u001b[0m \n",
      "\t\t\t\t\t NODE_ID: node_38c4ec0d-6b95-41b6-9518-ec343d18b951 \n",
      "\t\t\t\t\t Round 1 Epoch: 1 | Iteration: 80/100 (80%) | Samples: 3840/4800\n",
      " \t\t\t\t\t Loss: \u001b[1m0.370531\u001b[0m \n",
      "\t\t\t\t\t ---------\n",
      "2023-04-04 11:57:56,154 fedbiomed INFO - \u001b[1mTRAINING\u001b[0m \n",
      "\t\t\t\t\t NODE_ID: node_c1270b1a-8b86-4eb2-8933-40a9e0400c94 \n",
      "\t\t\t\t\t Round 1 Epoch: 1 | Iteration: 90/100 (90%) | Samples: 4320/4800\n",
      " \t\t\t\t\t Loss: \u001b[1m0.352700\u001b[0m \n",
      "\t\t\t\t\t ---------\n",
      "2023-04-04 11:57:56,528 fedbiomed INFO - \u001b[1mTRAINING\u001b[0m \n",
      "\t\t\t\t\t NODE_ID: node_38c4ec0d-6b95-41b6-9518-ec343d18b951 \n",
      "\t\t\t\t\t Round 1 Epoch: 1 | Iteration: 90/100 (90%) | Samples: 4320/4800\n",
      " \t\t\t\t\t Loss: \u001b[1m0.478339\u001b[0m \n",
      "\t\t\t\t\t ---------\n",
      "2023-04-04 11:57:56,987 fedbiomed INFO - \u001b[1mTRAINING\u001b[0m \n",
      "\t\t\t\t\t NODE_ID: node_c1270b1a-8b86-4eb2-8933-40a9e0400c94 \n",
      "\t\t\t\t\t Round 1 Epoch: 1 | Iteration: 100/100 (100%) | Samples: 4800/4800\n",
      " \t\t\t\t\t Loss: \u001b[1m0.301818\u001b[0m \n",
      "\t\t\t\t\t ---------\n",
      "2023-04-04 11:57:57,066 fedbiomed INFO - \u001b[1mINFO\u001b[0m\n",
      "\t\t\t\t\t\u001b[1m NODE\u001b[0m node_c1270b1a-8b86-4eb2-8933-40a9e0400c94\n",
      "\t\t\t\t\t\u001b[1m MESSAGE:\u001b[0m Encrypting model parameters. This process can take some time depending on model size.\u001b[0m\n",
      "-----------------------------------------------------------------\n",
      "2023-04-04 11:57:57,352 fedbiomed INFO - \u001b[1mTRAINING\u001b[0m \n",
      "\t\t\t\t\t NODE_ID: node_38c4ec0d-6b95-41b6-9518-ec343d18b951 \n",
      "\t\t\t\t\t Round 1 Epoch: 1 | Iteration: 100/100 (100%) | Samples: 4800/4800\n",
      " \t\t\t\t\t Loss: \u001b[1m0.319929\u001b[0m \n",
      "\t\t\t\t\t ---------\n",
      "2023-04-04 11:57:57,406 fedbiomed INFO - \u001b[1mINFO\u001b[0m\n",
      "\t\t\t\t\t\u001b[1m NODE\u001b[0m node_38c4ec0d-6b95-41b6-9518-ec343d18b951\n",
      "\t\t\t\t\t\u001b[1m MESSAGE:\u001b[0m Encrypting model parameters. This process can take some time depending on model size.\u001b[0m\n",
      "-----------------------------------------------------------------\n",
      "2023-04-04 11:58:54,614 fedbiomed INFO - \u001b[1mINFO\u001b[0m\n",
      "\t\t\t\t\t\u001b[1m NODE\u001b[0m node_c1270b1a-8b86-4eb2-8933-40a9e0400c94\n",
      "\t\t\t\t\t\u001b[1m MESSAGE:\u001b[0m Encryption is completed!\u001b[0m\n",
      "-----------------------------------------------------------------\n",
      "2023-04-04 11:58:54,811 fedbiomed INFO - \u001b[1mINFO\u001b[0m\n",
      "\t\t\t\t\t\u001b[1m NODE\u001b[0m node_c1270b1a-8b86-4eb2-8933-40a9e0400c94\n",
      "\t\t\t\t\t\u001b[1m MESSAGE:\u001b[0m results uploaded successfully \u001b[0m\n",
      "-----------------------------------------------------------------\n",
      "2023-04-04 11:58:54,978 fedbiomed INFO - \u001b[1mINFO\u001b[0m\n",
      "\t\t\t\t\t\u001b[1m NODE\u001b[0m node_38c4ec0d-6b95-41b6-9518-ec343d18b951\n",
      "\t\t\t\t\t\u001b[1m MESSAGE:\u001b[0m Encryption is completed!\u001b[0m\n",
      "-----------------------------------------------------------------\n",
      "2023-04-04 11:58:55,189 fedbiomed INFO - \u001b[1mINFO\u001b[0m\n",
      "\t\t\t\t\t\u001b[1m NODE\u001b[0m node_38c4ec0d-6b95-41b6-9518-ec343d18b951\n",
      "\t\t\t\t\t\u001b[1m MESSAGE:\u001b[0m results uploaded successfully \u001b[0m\n",
      "-----------------------------------------------------------------\n",
      "2023-04-04 11:59:03,047 fedbiomed INFO - Downloading model params after training on node_c1270b1a-8b86-4eb2-8933-40a9e0400c94 - from http://localhost:8844/media/uploads/2023/04/04/node_params_18bfcd87-fa8f-49ee-baeb-2527ce25d054.mpk\n",
      "2023-04-04 11:59:03,098 fedbiomed DEBUG - download of file node_params_f293d64a-2844-4013-8f2d-059986e47588.mpk successful, with status code 200\n",
      "2023-04-04 11:59:03,147 fedbiomed INFO - Downloading model params after training on node_38c4ec0d-6b95-41b6-9518-ec343d18b951 - from http://localhost:8844/media/uploads/2023/04/04/node_params_41c879d3-4960-4635-aec3-3855d2c0275a.mpk\n",
      "2023-04-04 11:59:03,182 fedbiomed DEBUG - download of file node_params_a01dfffb-f5b5-4d3c-8386-55b53680d1d0.mpk successful, with status code 200\n",
      "2023-04-04 11:59:03,251 fedbiomed INFO - Nodes that successfully reply in round 0 ['node_c1270b1a-8b86-4eb2-8933-40a9e0400c94', 'node_38c4ec0d-6b95-41b6-9518-ec343d18b951']\n",
      "2023-04-04 11:59:03,253 fedbiomed INFO - Validating secure aggregation results...\n",
      "2023-04-04 11:59:03,262 fedbiomed DEBUG - Aggregation is completed in 0.01 seconds.\n",
      "2023-04-04 11:59:03,263 fedbiomed INFO - Validation is completed.\n",
      "2023-04-04 11:59:03,264 fedbiomed INFO - Aggregating encrypted parameters. This process may take some time depending on model size.\n"
     ]
    },
    {
     "name": "stdout",
     "output_type": "stream",
     "text": [
      "0.044\n",
      "-6850986132463309025139972046234190769166128136584901668649806908943762809947770779160842399038589117112756161515228517210309124709749052917078289880214421475960694029160784796980864069363163167478157174073192116610698198862326515328711026228750044548482335961050577108159467059554427787736868641900604932001053987114723769312157749120105576635099860602527689646778950745144891604255084752600742266749621302155682441439283180096751010176570290980686561957583691489128215980354101120376898553144691593391844108401386906849722099774462982266994635541684969560190289977822847581691205242021889026698858914395898454966750\n"
     ]
    },
    {
     "name": "stderr",
     "output_type": "stream",
     "text": [
      "2023-04-04 11:59:52,019 fedbiomed DEBUG - Aggregation is completed in 48.55 seconds.\n",
      "2023-04-04 11:59:52,451 fedbiomed DEBUG - HTTP POST request of file /home/scansiz/projects/fedbiomed-dev/fedbiomed/var/experiments/Experiment_0022/aggregated_params_89dfc075-ab1e-4834-80a5-4645d55d6f5d.mpk successful, with status code 201\n",
      "2023-04-04 11:59:52,452 fedbiomed INFO - Saved aggregated params for round 0 in /home/scansiz/projects/fedbiomed-dev/fedbiomed/var/experiments/Experiment_0022/aggregated_params_89dfc075-ab1e-4834-80a5-4645d55d6f5d.mpk\n",
      "2023-04-04 11:59:52,474 fedbiomed INFO - breakpoint for round 0 saved at /home/scansiz/projects/fedbiomed-dev/fedbiomed/var/experiments/Experiment_0022/breakpoint_0000\n",
      "2023-04-04 11:59:52,519 fedbiomed INFO - Sampled nodes in round 1 ['node_c1270b1a-8b86-4eb2-8933-40a9e0400c94', 'node_38c4ec0d-6b95-41b6-9518-ec343d18b951']\n",
      "2023-04-04 11:59:52,521 fedbiomed INFO - \u001b[1mSending request\u001b[0m \n",
      "\t\t\t\t\t\u001b[1m To\u001b[0m: node_c1270b1a-8b86-4eb2-8933-40a9e0400c94 \n",
      "\t\t\t\t\t\u001b[1m Request: \u001b[0m: Perform training with the arguments: {'researcher_id': 'researcher_a97b0749-849d-4acd-b6c7-058fc7714e28', 'job_id': 'c383cc2c-92e7-4987-b835-fd9a0f8e4014', 'training_args': {'batch_size': 48, 'optimizer_args': {'lr': 0.001}, 'epochs': 1, 'dry_run': False, 'batch_maxnum': 100, 'num_updates': None, 'test_ratio': 0.0, 'test_on_local_updates': False, 'test_on_global_updates': False, 'test_metric': None, 'test_metric_args': {}, 'log_interval': 10, 'fedprox_mu': None, 'use_gpu': False, 'dp_args': None}, 'training': True, 'model_args': {}, 'round': 1, 'secagg_servkey_id': 'secagg_ae6cdaa6-bf59-47ac-a8b0-d30e3426e89e', 'secagg_biprime_id': 'default_biprime0', 'secagg_random': 0.032, 'secagg_clipping_range': None, 'command': 'train', 'training_plan_url': 'http://localhost:8844/media/uploads/2023/04/04/my_model_0cf29eba-3194-4cb1-829a-ba00319fc76c.py', 'params_url': 'http://localhost:8844/media/uploads/2023/04/04/aggregated_params_89dfc075-ab1e-4834-80a5-4645d55d6f5d.mpk', 'training_plan_class': 'MyTrainingPlan', 'dataset_id': 'dataset_3103817c-572a-4c1e-9b8f-55b35080d9a7'} \n",
      " -----------------------------------------------------------------\n",
      "2023-04-04 11:59:52,522 fedbiomed DEBUG - researcher_a97b0749-849d-4acd-b6c7-058fc7714e28\n",
      "2023-04-04 11:59:52,524 fedbiomed INFO - \u001b[1mSending request\u001b[0m \n",
      "\t\t\t\t\t\u001b[1m To\u001b[0m: node_38c4ec0d-6b95-41b6-9518-ec343d18b951 \n",
      "\t\t\t\t\t\u001b[1m Request: \u001b[0m: Perform training with the arguments: {'researcher_id': 'researcher_a97b0749-849d-4acd-b6c7-058fc7714e28', 'job_id': 'c383cc2c-92e7-4987-b835-fd9a0f8e4014', 'training_args': {'batch_size': 48, 'optimizer_args': {'lr': 0.001}, 'epochs': 1, 'dry_run': False, 'batch_maxnum': 100, 'num_updates': None, 'test_ratio': 0.0, 'test_on_local_updates': False, 'test_on_global_updates': False, 'test_metric': None, 'test_metric_args': {}, 'log_interval': 10, 'fedprox_mu': None, 'use_gpu': False, 'dp_args': None}, 'training': True, 'model_args': {}, 'round': 1, 'secagg_servkey_id': 'secagg_ae6cdaa6-bf59-47ac-a8b0-d30e3426e89e', 'secagg_biprime_id': 'default_biprime0', 'secagg_random': 0.032, 'secagg_clipping_range': None, 'command': 'train', 'training_plan_url': 'http://localhost:8844/media/uploads/2023/04/04/my_model_0cf29eba-3194-4cb1-829a-ba00319fc76c.py', 'params_url': 'http://localhost:8844/media/uploads/2023/04/04/aggregated_params_89dfc075-ab1e-4834-80a5-4645d55d6f5d.mpk', 'training_plan_class': 'MyTrainingPlan', 'dataset_id': 'dataset_2c20d5a5-d13a-4a54-bf30-dbfb83f8c11b'} \n",
      " -----------------------------------------------------------------\n",
      "2023-04-04 11:59:52,525 fedbiomed DEBUG - researcher_a97b0749-849d-4acd-b6c7-058fc7714e28\n",
      "2023-04-04 11:59:52,668 fedbiomed INFO - \u001b[1mWARNING\u001b[0m\n",
      "\t\t\t\t\t\u001b[1m NODE\u001b[0m node_c1270b1a-8b86-4eb2-8933-40a9e0400c94\n",
      "\t\t\t\t\t\u001b[1m MESSAGE:\u001b[0m There is no validation activated for the round. Please set flag for `test_on_global_updates`, `test_on_local_updates`, or both. Splitting dataset for validation will be ignored\u001b[0m\n",
      "-----------------------------------------------------------------\n",
      "2023-04-04 11:59:52,678 fedbiomed INFO - \u001b[1mWARNING\u001b[0m\n",
      "\t\t\t\t\t\u001b[1m NODE\u001b[0m node_38c4ec0d-6b95-41b6-9518-ec343d18b951\n",
      "\t\t\t\t\t\u001b[1m MESSAGE:\u001b[0m There is no validation activated for the round. Please set flag for `test_on_global_updates`, `test_on_local_updates`, or both. Splitting dataset for validation will be ignored\u001b[0m\n",
      "-----------------------------------------------------------------\n",
      "2023-04-04 11:59:52,963 fedbiomed INFO - \u001b[1mTRAINING\u001b[0m \n",
      "\t\t\t\t\t NODE_ID: node_38c4ec0d-6b95-41b6-9518-ec343d18b951 \n",
      "\t\t\t\t\t Round 2 Epoch: 1 | Iteration: 1/100 (1%) | Samples: 48/4800\n",
      " \t\t\t\t\t Loss: \u001b[1m133454.593750\u001b[0m \n",
      "\t\t\t\t\t ---------\n",
      "2023-04-04 11:59:52,967 fedbiomed INFO - \u001b[1mTRAINING\u001b[0m \n",
      "\t\t\t\t\t NODE_ID: node_c1270b1a-8b86-4eb2-8933-40a9e0400c94 \n",
      "\t\t\t\t\t Round 2 Epoch: 1 | Iteration: 1/100 (1%) | Samples: 48/4800\n",
      " \t\t\t\t\t Loss: \u001b[1m165559.125000\u001b[0m \n",
      "\t\t\t\t\t ---------\n",
      "2023-04-04 11:59:53,783 fedbiomed INFO - \u001b[1mTRAINING\u001b[0m \n",
      "\t\t\t\t\t NODE_ID: node_38c4ec0d-6b95-41b6-9518-ec343d18b951 \n",
      "\t\t\t\t\t Round 2 Epoch: 1 | Iteration: 10/100 (10%) | Samples: 480/4800\n",
      " \t\t\t\t\t Loss: \u001b[1m191964.312500\u001b[0m \n",
      "\t\t\t\t\t ---------\n",
      "2023-04-04 11:59:53,799 fedbiomed INFO - \u001b[1mTRAINING\u001b[0m \n",
      "\t\t\t\t\t NODE_ID: node_c1270b1a-8b86-4eb2-8933-40a9e0400c94 \n",
      "\t\t\t\t\t Round 2 Epoch: 1 | Iteration: 10/100 (10%) | Samples: 480/4800\n",
      " \t\t\t\t\t Loss: \u001b[1m24932.439453\u001b[0m \n",
      "\t\t\t\t\t ---------\n",
      "2023-04-04 11:59:54,635 fedbiomed INFO - \u001b[1mTRAINING\u001b[0m \n",
      "\t\t\t\t\t NODE_ID: node_38c4ec0d-6b95-41b6-9518-ec343d18b951 \n",
      "\t\t\t\t\t Round 2 Epoch: 1 | Iteration: 20/100 (20%) | Samples: 960/4800\n",
      " \t\t\t\t\t Loss: \u001b[1m177844.640625\u001b[0m \n",
      "\t\t\t\t\t ---------\n",
      "2023-04-04 11:59:54,807 fedbiomed INFO - \u001b[1mTRAINING\u001b[0m \n",
      "\t\t\t\t\t NODE_ID: node_c1270b1a-8b86-4eb2-8933-40a9e0400c94 \n",
      "\t\t\t\t\t Round 2 Epoch: 1 | Iteration: 20/100 (20%) | Samples: 960/4800\n",
      " \t\t\t\t\t Loss: \u001b[1m94549.179688\u001b[0m \n",
      "\t\t\t\t\t ---------\n",
      "2023-04-04 11:59:55,503 fedbiomed INFO - \u001b[1mTRAINING\u001b[0m \n",
      "\t\t\t\t\t NODE_ID: node_38c4ec0d-6b95-41b6-9518-ec343d18b951 \n",
      "\t\t\t\t\t Round 2 Epoch: 1 | Iteration: 30/100 (30%) | Samples: 1440/4800\n",
      " \t\t\t\t\t Loss: \u001b[1m35310.003906\u001b[0m \n",
      "\t\t\t\t\t ---------\n",
      "2023-04-04 11:59:55,729 fedbiomed INFO - \u001b[1mTRAINING\u001b[0m \n",
      "\t\t\t\t\t NODE_ID: node_c1270b1a-8b86-4eb2-8933-40a9e0400c94 \n",
      "\t\t\t\t\t Round 2 Epoch: 1 | Iteration: 30/100 (30%) | Samples: 1440/4800\n",
      " \t\t\t\t\t Loss: \u001b[1m92055.960938\u001b[0m \n",
      "\t\t\t\t\t ---------\n",
      "2023-04-04 11:59:56,414 fedbiomed INFO - \u001b[1mTRAINING\u001b[0m \n",
      "\t\t\t\t\t NODE_ID: node_38c4ec0d-6b95-41b6-9518-ec343d18b951 \n",
      "\t\t\t\t\t Round 2 Epoch: 1 | Iteration: 40/100 (40%) | Samples: 1920/4800\n",
      " \t\t\t\t\t Loss: \u001b[1m95568.789062\u001b[0m \n",
      "\t\t\t\t\t ---------\n",
      "2023-04-04 11:59:56,654 fedbiomed INFO - \u001b[1mTRAINING\u001b[0m \n",
      "\t\t\t\t\t NODE_ID: node_c1270b1a-8b86-4eb2-8933-40a9e0400c94 \n",
      "\t\t\t\t\t Round 2 Epoch: 1 | Iteration: 40/100 (40%) | Samples: 1920/4800\n",
      " \t\t\t\t\t Loss: \u001b[1m108146.507812\u001b[0m \n",
      "\t\t\t\t\t ---------\n",
      "2023-04-04 11:59:57,298 fedbiomed INFO - \u001b[1mTRAINING\u001b[0m \n",
      "\t\t\t\t\t NODE_ID: node_38c4ec0d-6b95-41b6-9518-ec343d18b951 \n",
      "\t\t\t\t\t Round 2 Epoch: 1 | Iteration: 50/100 (50%) | Samples: 2400/4800\n",
      " \t\t\t\t\t Loss: \u001b[1m30254.140625\u001b[0m \n",
      "\t\t\t\t\t ---------\n",
      "2023-04-04 11:59:57,569 fedbiomed INFO - \u001b[1mTRAINING\u001b[0m \n",
      "\t\t\t\t\t NODE_ID: node_c1270b1a-8b86-4eb2-8933-40a9e0400c94 \n",
      "\t\t\t\t\t Round 2 Epoch: 1 | Iteration: 50/100 (50%) | Samples: 2400/4800\n",
      " \t\t\t\t\t Loss: \u001b[1m50118.390625\u001b[0m \n",
      "\t\t\t\t\t ---------\n",
      "2023-04-04 11:59:58,195 fedbiomed INFO - \u001b[1mTRAINING\u001b[0m \n",
      "\t\t\t\t\t NODE_ID: node_38c4ec0d-6b95-41b6-9518-ec343d18b951 \n",
      "\t\t\t\t\t Round 2 Epoch: 1 | Iteration: 60/100 (60%) | Samples: 2880/4800\n",
      " \t\t\t\t\t Loss: \u001b[1m134317.656250\u001b[0m \n",
      "\t\t\t\t\t ---------\n",
      "2023-04-04 11:59:58,494 fedbiomed INFO - \u001b[1mTRAINING\u001b[0m \n",
      "\t\t\t\t\t NODE_ID: node_c1270b1a-8b86-4eb2-8933-40a9e0400c94 \n",
      "\t\t\t\t\t Round 2 Epoch: 1 | Iteration: 60/100 (60%) | Samples: 2880/4800\n",
      " \t\t\t\t\t Loss: \u001b[1m167678.046875\u001b[0m \n",
      "\t\t\t\t\t ---------\n",
      "2023-04-04 11:59:59,091 fedbiomed INFO - \u001b[1mTRAINING\u001b[0m \n",
      "\t\t\t\t\t NODE_ID: node_38c4ec0d-6b95-41b6-9518-ec343d18b951 \n",
      "\t\t\t\t\t Round 2 Epoch: 1 | Iteration: 70/100 (70%) | Samples: 3360/4800\n",
      " \t\t\t\t\t Loss: \u001b[1m90234.937500\u001b[0m \n",
      "\t\t\t\t\t ---------\n",
      "2023-04-04 11:59:59,394 fedbiomed INFO - \u001b[1mTRAINING\u001b[0m \n",
      "\t\t\t\t\t NODE_ID: node_c1270b1a-8b86-4eb2-8933-40a9e0400c94 \n",
      "\t\t\t\t\t Round 2 Epoch: 1 | Iteration: 70/100 (70%) | Samples: 3360/4800\n",
      " \t\t\t\t\t Loss: \u001b[1m80673.226562\u001b[0m \n",
      "\t\t\t\t\t ---------\n"
     ]
    },
    {
     "name": "stderr",
     "output_type": "stream",
     "text": [
      "2023-04-04 11:59:59,991 fedbiomed INFO - \u001b[1mTRAINING\u001b[0m \n",
      "\t\t\t\t\t NODE_ID: node_38c4ec0d-6b95-41b6-9518-ec343d18b951 \n",
      "\t\t\t\t\t Round 2 Epoch: 1 | Iteration: 80/100 (80%) | Samples: 3840/4800\n",
      " \t\t\t\t\t Loss: \u001b[1m74224.265625\u001b[0m \n",
      "\t\t\t\t\t ---------\n",
      "2023-04-04 12:00:00,375 fedbiomed INFO - \u001b[1mTRAINING\u001b[0m \n",
      "\t\t\t\t\t NODE_ID: node_c1270b1a-8b86-4eb2-8933-40a9e0400c94 \n",
      "\t\t\t\t\t Round 2 Epoch: 1 | Iteration: 80/100 (80%) | Samples: 3840/4800\n",
      " \t\t\t\t\t Loss: \u001b[1m96884.601562\u001b[0m \n",
      "\t\t\t\t\t ---------\n",
      "2023-04-04 12:00:00,912 fedbiomed INFO - \u001b[1mTRAINING\u001b[0m \n",
      "\t\t\t\t\t NODE_ID: node_38c4ec0d-6b95-41b6-9518-ec343d18b951 \n",
      "\t\t\t\t\t Round 2 Epoch: 1 | Iteration: 90/100 (90%) | Samples: 4320/4800\n",
      " \t\t\t\t\t Loss: \u001b[1m55777.347656\u001b[0m \n",
      "\t\t\t\t\t ---------\n",
      "2023-04-04 12:00:01,291 fedbiomed INFO - \u001b[1mTRAINING\u001b[0m \n",
      "\t\t\t\t\t NODE_ID: node_c1270b1a-8b86-4eb2-8933-40a9e0400c94 \n",
      "\t\t\t\t\t Round 2 Epoch: 1 | Iteration: 90/100 (90%) | Samples: 4320/4800\n",
      " \t\t\t\t\t Loss: \u001b[1m36828.890625\u001b[0m \n",
      "\t\t\t\t\t ---------\n",
      "2023-04-04 12:00:01,790 fedbiomed INFO - \u001b[1mTRAINING\u001b[0m \n",
      "\t\t\t\t\t NODE_ID: node_38c4ec0d-6b95-41b6-9518-ec343d18b951 \n",
      "\t\t\t\t\t Round 2 Epoch: 1 | Iteration: 100/100 (100%) | Samples: 4800/4800\n",
      " \t\t\t\t\t Loss: \u001b[1m46553.472656\u001b[0m \n",
      "\t\t\t\t\t ---------\n",
      "2023-04-04 12:00:01,884 fedbiomed INFO - \u001b[1mINFO\u001b[0m\n",
      "\t\t\t\t\t\u001b[1m NODE\u001b[0m node_38c4ec0d-6b95-41b6-9518-ec343d18b951\n",
      "\t\t\t\t\t\u001b[1m MESSAGE:\u001b[0m Encrypting model parameters. This process can take some time depending on model size.\u001b[0m\n",
      "-----------------------------------------------------------------\n",
      "2023-04-04 12:00:02,226 fedbiomed INFO - \u001b[1mTRAINING\u001b[0m \n",
      "\t\t\t\t\t NODE_ID: node_c1270b1a-8b86-4eb2-8933-40a9e0400c94 \n",
      "\t\t\t\t\t Round 2 Epoch: 1 | Iteration: 100/100 (100%) | Samples: 4800/4800\n",
      " \t\t\t\t\t Loss: \u001b[1m59750.902344\u001b[0m \n",
      "\t\t\t\t\t ---------\n",
      "2023-04-04 12:00:02,296 fedbiomed INFO - \u001b[1mINFO\u001b[0m\n",
      "\t\t\t\t\t\u001b[1m NODE\u001b[0m node_c1270b1a-8b86-4eb2-8933-40a9e0400c94\n",
      "\t\t\t\t\t\u001b[1m MESSAGE:\u001b[0m Encrypting model parameters. This process can take some time depending on model size.\u001b[0m\n",
      "-----------------------------------------------------------------\n",
      "2023-04-04 12:00:02,537 fedbiomed INFO - \u001b[1mINFO\u001b[0m\n",
      "\t\t\t\t\t\u001b[1m NODE\u001b[0m node_38c4ec0d-6b95-41b6-9518-ec343d18b951\n",
      "\t\t\t\t\t\u001b[1m MESSAGE:\u001b[0m There are some numbers in the local vector that exceeds clipping range. Please increase the clipping range to account for value\u001b[0m\n",
      "-----------------------------------------------------------------\n",
      "2023-04-04 12:00:02,794 fedbiomed INFO - \u001b[1mINFO\u001b[0m\n",
      "\t\t\t\t\t\u001b[1m NODE\u001b[0m node_c1270b1a-8b86-4eb2-8933-40a9e0400c94\n",
      "\t\t\t\t\t\u001b[1m MESSAGE:\u001b[0m There are some numbers in the local vector that exceeds clipping range. Please increase the clipping range to account for value\u001b[0m\n",
      "-----------------------------------------------------------------\n",
      "2023-04-04 12:01:00,493 fedbiomed INFO - \u001b[1mINFO\u001b[0m\n",
      "\t\t\t\t\t\u001b[1m NODE\u001b[0m node_38c4ec0d-6b95-41b6-9518-ec343d18b951\n",
      "\t\t\t\t\t\u001b[1m MESSAGE:\u001b[0m Encryption is completed!\u001b[0m\n",
      "-----------------------------------------------------------------\n",
      "2023-04-04 12:01:00,708 fedbiomed INFO - \u001b[1mINFO\u001b[0m\n",
      "\t\t\t\t\t\u001b[1m NODE\u001b[0m node_38c4ec0d-6b95-41b6-9518-ec343d18b951\n",
      "\t\t\t\t\t\u001b[1m MESSAGE:\u001b[0m results uploaded successfully \u001b[0m\n",
      "-----------------------------------------------------------------\n",
      "2023-04-04 12:01:01,008 fedbiomed INFO - \u001b[1mINFO\u001b[0m\n",
      "\t\t\t\t\t\u001b[1m NODE\u001b[0m node_c1270b1a-8b86-4eb2-8933-40a9e0400c94\n",
      "\t\t\t\t\t\u001b[1m MESSAGE:\u001b[0m Encryption is completed!\u001b[0m\n",
      "-----------------------------------------------------------------\n",
      "2023-04-04 12:01:01,181 fedbiomed INFO - \u001b[1mINFO\u001b[0m\n",
      "\t\t\t\t\t\u001b[1m NODE\u001b[0m node_c1270b1a-8b86-4eb2-8933-40a9e0400c94\n",
      "\t\t\t\t\t\u001b[1m MESSAGE:\u001b[0m results uploaded successfully \u001b[0m\n",
      "-----------------------------------------------------------------\n",
      "2023-04-04 12:01:07,632 fedbiomed INFO - Downloading model params after training on node_38c4ec0d-6b95-41b6-9518-ec343d18b951 - from http://localhost:8844/media/uploads/2023/04/04/node_params_4f8c823c-47af-4239-8f7f-02c58a50036a.mpk\n",
      "2023-04-04 12:01:07,673 fedbiomed DEBUG - download of file node_params_0ba0fad4-4412-4955-8d48-9e35f0e8f000.mpk successful, with status code 200\n",
      "2023-04-04 12:01:07,705 fedbiomed INFO - Downloading model params after training on node_c1270b1a-8b86-4eb2-8933-40a9e0400c94 - from http://localhost:8844/media/uploads/2023/04/04/node_params_0eb12a59-4069-4314-8e4e-80d9d6198ddd.mpk\n",
      "2023-04-04 12:01:07,735 fedbiomed DEBUG - download of file node_params_ae1e1422-6110-4d72-b723-28dfba926782.mpk successful, with status code 200\n",
      "2023-04-04 12:01:07,787 fedbiomed INFO - Nodes that successfully reply in round 1 ['node_38c4ec0d-6b95-41b6-9518-ec343d18b951', 'node_c1270b1a-8b86-4eb2-8933-40a9e0400c94']\n",
      "2023-04-04 12:01:07,788 fedbiomed INFO - Validating secure aggregation results...\n",
      "2023-04-04 12:01:07,795 fedbiomed DEBUG - Aggregation is completed in 0.01 seconds.\n",
      "2023-04-04 12:01:07,797 fedbiomed INFO - Validation is completed.\n",
      "2023-04-04 12:01:07,798 fedbiomed INFO - Aggregating encrypted parameters. This process may take some time depending on model size.\n"
     ]
    },
    {
     "name": "stdout",
     "output_type": "stream",
     "text": [
      "0.032\n",
      "-6850986132463309025139972046234190769166128136584901668649806908943762809947770779160842399038589117112756161515228517210309124709749052917078289880214421475960694029160784796980864069363163167478157174073192116610698198862326515328711026228750044548482335961050577108159467059554427787736868641900604932001053987114723769312157749120105576635099860602527689646778950745144891604255084752600742266749621302155682441439283180096751010176570290980686561957583691489128215980354101120376898553144691593391844108401386906849722099774462982266994635541684969560190289977822847581691205242021889026698858914395898454966750\n"
     ]
    },
    {
     "name": "stderr",
     "output_type": "stream",
     "text": [
      "2023-04-04 12:01:58,704 fedbiomed DEBUG - Aggregation is completed in 50.79 seconds.\n",
      "2023-04-04 12:01:58,902 fedbiomed CRITICAL - Fed-BioMed stopped due to unknown error:\n",
      "shape '[10]' is invalid for input of size 6\n"
     ]
    },
    {
     "name": "stdout",
     "output_type": "stream",
     "text": [
      "\n",
      "--------------------\n",
      "Fed-BioMed researcher stopped due to unknown error:\n",
      "shape '[10]' is invalid for input of size 6\n",
      "More details in the backtrace extract below\n",
      "--------------------\n",
      "Traceback (most recent call last):\n",
      "  File \"/home/scansiz/projects/fedbiomed-dev/fedbiomed/fedbiomed/researcher/experiment.py\", line 66, in payload\n",
      "    ret = function(*args, **kwargs)\n",
      "  File \"/home/scansiz/projects/fedbiomed-dev/fedbiomed/fedbiomed/researcher/experiment.py\", line 1541, in run_once\n",
      "    self._job.training_plan._model.unflatten(flatten_params)\n",
      "  File \"/home/scansiz/projects/fedbiomed-dev/fedbiomed/fedbiomed/common/models/_torch.py\", line 124, in unflatten\n",
      "    torch.nn.utils.vector_to_parameters(vector, model.parameters())\n",
      "  File \"/user/scansiz/home/miniconda3/envs/fedbiomed-researcher/lib/python3.9/site-packages/torch/nn/utils/convert_parameters.py\", line 51, in vector_to_parameters\n",
      "    param.data = vec[pointer:pointer + num_param].view_as(param).data\n",
      "RuntimeError: shape '[10]' is invalid for input of size 6\n",
      "--------------------\n"
     ]
    },
    {
     "ename": "FedbiomedSilentTerminationError",
     "evalue": "",
     "output_type": "error",
     "traceback": []
    }
   ],
   "source": [
    "exp.run(increase=True)"
   ]
  },
  {
   "cell_type": "markdown",
   "metadata": {},
   "source": [
    "Display context after runing one round of training. "
   ]
  },
  {
   "cell_type": "code",
   "execution_count": null,
   "metadata": {},
   "outputs": [],
   "source": [
    "print(\"Secagg Biprime context: \", exp.secagg.biprime.context)\n",
    "print(\"Secagg Servkey context: \", exp.secagg.servkey.context)"
   ]
  },
  {
   "cell_type": "markdown",
   "metadata": {},
   "source": [
    "#### Changes in experiment triggers re-creation of secure aggregation context\n",
    "\n",
    "The changes that re-create jobs like adding new node to the experiment will trigger secure aggregation re-setup for the next round.  "
   ]
  },
  {
   "cell_type": "code",
   "execution_count": null,
   "metadata": {},
   "outputs": [],
   "source": [
    "# sends new dataset search request\n",
    "from fedbiomed.researcher.strategies import DefaultStrategy\n",
    "from fedbiomed.researcher.aggregators.fedavg import FedAverage\n",
    "exp.set_training_data(None, True)\n",
    "exp.set_strategy(DefaultStrategy)\n",
    "exp.set_aggregator(FedAverage)\n",
    "exp.set_job()"
   ]
  },
  {
   "cell_type": "code",
   "execution_count": null,
   "metadata": {},
   "outputs": [],
   "source": [
    "exp.run_once(increase=True)"
   ]
  },
  {
   "cell_type": "markdown",
   "metadata": {},
   "source": [
    "### Changing arguments of secure aggregation"
   ]
  },
  {
   "cell_type": "markdown",
   "metadata": {},
   "source": [
    "Setting `secagg` argument `True` in `Experiment` creates a default `SecureAggregation` instance. Additionaly, It is also possible to create `SecureAggregation` instance and pass it as an argument. Here ar the arguments that can be set for the `SecureAggregation`\n",
    "\n",
    "- `active`: `True` if the round will use secure aggregation. Default is `True`\n",
    "- `clipping_range`: Clipping range that is goingto be use for quantization of model parameters. Default clipping range is `3`. However, some models can have model weigth greater than `3`. If clipping range is exceed during the encryption on the nodes experiment will log a warning message. In such cases, you can provide a higher clipping range thorugh the argument `clipping_range`.\n",
    "- `timeout`: Timeout is the amount of maximum time, in seconds, that the exerpiment will wait for responsens from all parties during secure aggregation setup. Since secure aggregation context depends on network comunication and multi-party computation, this argument allows to set higher timeout for larger context setups, or vice versa. "
   ]
  },
  {
   "cell_type": "code",
   "execution_count": null,
   "metadata": {},
   "outputs": [],
   "source": [
    "from fedbiomed.researcher.secure_aggregation import SecureAggregation\n",
    "secagg = SecureAggregation(\n",
    "    active=True, \n",
    "    clipping_range=100,\n",
    "    timeout=15\n",
    "    \n",
    ")\n",
    "exp.set_secagg(secagg=secagg)\n"
   ]
  },
  {
   "cell_type": "code",
   "execution_count": null,
   "metadata": {},
   "outputs": [],
   "source": [
    "exp.run_once(increase=True)"
   ]
  },
  {
   "cell_type": "markdown",
   "metadata": {},
   "source": [
    "### Load experiment from a breakpoint\n",
    "\n",
    "Once a breakpoint is loadded if the context is already exsiting there won't be context setup. "
   ]
  },
  {
   "cell_type": "code",
   "execution_count": null,
   "metadata": {
    "scrolled": false
   },
   "outputs": [],
   "source": [
    "loaded_exp = Experiment.load_breakpoint()\n",
    "loaded_exp.info()"
   ]
  },
  {
   "cell_type": "code",
   "execution_count": null,
   "metadata": {
    "pycharm": {
     "name": "#%%\n"
    },
    "scrolled": true
   },
   "outputs": [],
   "source": [
    "loaded_exp.run_once(increase=True)"
   ]
  }
 ],
 "metadata": {
  "kernelspec": {
   "display_name": "Python 3 (ipykernel)",
   "language": "python",
   "name": "python3"
  },
  "language_info": {
   "codemirror_mode": {
    "name": "ipython",
    "version": 3
   },
   "file_extension": ".py",
   "mimetype": "text/x-python",
   "name": "python",
   "nbconvert_exporter": "python",
   "pygments_lexer": "ipython3",
   "version": "3.9.13"
  }
 },
 "nbformat": 4,
 "nbformat_minor": 4
}

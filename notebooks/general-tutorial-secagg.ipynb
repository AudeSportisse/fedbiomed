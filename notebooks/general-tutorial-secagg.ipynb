{
 "cells": [
  {
   "cell_type": "markdown",
   "metadata": {},
   "source": [
    "# Fed-BioMed secure aggregation tutorial"
   ]
  },
  {
   "cell_type": "markdown",
   "metadata": {},
   "source": [
    "## Example experimentation setup\n",
    "\n",
    "This part contains setup of a basic example for Fed-BioMed. At this point, nothing is specific to secure aggregation."
   ]
  },
  {
   "cell_type": "markdown",
   "metadata": {},
   "source": [
    "### Start the network\n",
    "Before running this notebook, start the network with `./scripts/fedbiomed_run network`"
   ]
  },
  {
   "cell_type": "markdown",
   "metadata": {},
   "source": [
    "### Setting nodes up\n",
    "It is necessary to previously configure ** at least two nodes**:\n",
    "1. `./scripts/fedbiomed_run node config config_node1.ini add` (respectively for the second node: `./scripts/fedbiomed_run node config config_node2.ini add`)\n",
    "  * Select option 2 (default) to add MNIST to the node\n",
    "  * Confirm default tags by hitting \"y\" and ENTER\n",
    "  * Pick the folder where MNIST is downloaded (this is due to a pytorch issue https://github.com/pytorch/vision/issues/3549)\n",
    "  * Data must have been added (if you get a warning saying that data must be unique is because it's been already added)\n",
    "  \n",
    "2. Check that your data has been added by executing `./scripts/fedbiomed_run config config_node1.ini node list`\n",
    "3. Run the node using `./scripts/fedbiomed_run config_node1.ini node run`. Wait until you get `Starting task manager`. it means you are online."
   ]
  },
  {
   "cell_type": "markdown",
   "metadata": {},
   "source": [
    "### Define an experiment model and parameters\""
   ]
  },
  {
   "cell_type": "markdown",
   "metadata": {},
   "source": [
    "Declare a torch training plan MyTrainingPlan class to send for training on the node"
   ]
  },
  {
   "cell_type": "code",
   "execution_count": 28,
   "metadata": {},
   "outputs": [],
   "source": [
    "import torch\n",
    "import torch.nn as nn\n",
    "from fedbiomed.common.training_plans import TorchTrainingPlan\n",
    "from fedbiomed.common.data import DataManager\n",
    "from torchvision import datasets, transforms\n",
    "\n",
    "\n",
    "# Here we define the model to be used. \n",
    "# You can use any class name (here 'Net')\n",
    "class MyTrainingPlan(TorchTrainingPlan):\n",
    "    \n",
    "    # Defines and return model \n",
    "    def init_model(self, model_args):\n",
    "        return self.Net(model_args = model_args)\n",
    "    \n",
    "    # Defines and return optimizer\n",
    "    def init_optimizer(self, optimizer_args):\n",
    "        return torch.optim.Adam(self.model().parameters(), lr = optimizer_args[\"lr\"])\n",
    "    \n",
    "    # Declares and return dependencies\n",
    "    def init_dependencies(self):\n",
    "        deps = [\"from torchvision import datasets, transforms\"]\n",
    "        return deps\n",
    "    \n",
    "    class Net(nn.Module):\n",
    "        def __init__(self, model_args):\n",
    "            super().__init__()\n",
    "            self.conv1 = nn.Conv2d(1, 32, 3, 1)\n",
    "            self.conv2 = nn.Conv2d(32, 64, 3, 1)\n",
    "            self.dropout1 = nn.Dropout(0.25)\n",
    "            self.dropout2 = nn.Dropout(0.5)\n",
    "            self.fc1 = nn.Linear(9216, 128)\n",
    "            self.fc2 = nn.Linear(128, 10)\n",
    "\n",
    "        def forward(self, x):\n",
    "            x = self.conv1(x)\n",
    "            x = F.relu(x)\n",
    "            x = self.conv2(x)\n",
    "            x = F.relu(x)\n",
    "            x = F.max_pool2d(x, 2)\n",
    "            x = self.dropout1(x)\n",
    "            x = torch.flatten(x, 1)\n",
    "            x = self.fc1(x)\n",
    "            x = F.relu(x)\n",
    "            x = self.dropout2(x)\n",
    "            x = self.fc2(x)\n",
    "\n",
    "\n",
    "            output = F.log_softmax(x, dim=1)\n",
    "            return output\n",
    "\n",
    "    def training_data(self, batch_size = 48):\n",
    "        # Custom torch Dataloader for MNIST data\n",
    "        transform = transforms.Compose([transforms.ToTensor(),\n",
    "        transforms.Normalize((0.1307,), (0.3081,))])\n",
    "        dataset1 = datasets.MNIST(self.dataset_path, train=True, download=False, transform=transform)\n",
    "        train_kwargs = {'batch_size': batch_size, 'shuffle': True}\n",
    "        return DataManager(dataset=dataset1, **train_kwargs)\n",
    "    \n",
    "    def training_step(self, data, target):\n",
    "        output = self.model().forward(data)\n",
    "        loss   = torch.nn.functional.nll_loss(output, target)\n",
    "        return loss\n"
   ]
  },
  {
   "cell_type": "markdown",
   "metadata": {},
   "source": [
    "This group of arguments correspond respectively:\n",
    "* `model_args`: a dictionary with the arguments related to the model (e.g. number of layers, features, etc.). This will be passed to the model class on the node side.\n",
    "* `training_args`: a dictionary containing the arguments for the training routine (e.g. batch size, learning rate, epochs, etc.). This will be passed to the routine on the node side.\n",
    "\n",
    "**NOTE:** typos and/or lack of positional (required) arguments will raise error. 🤓"
   ]
  },
  {
   "cell_type": "code",
   "execution_count": 29,
   "metadata": {
    "pycharm": {
     "name": "#%%\n"
    }
   },
   "outputs": [],
   "source": [
    "model_args = {}\n",
    "\n",
    "training_args = {\n",
    "    'batch_size': 48, \n",
    "    'optimizer_args': {\n",
    "        \"lr\" : 1e-3\n",
    "    },\n",
    "    'epochs': 1, \n",
    "    'dry_run': False,  \n",
    "    'batch_maxnum': 100 # Fast pass for development : only use ( batch_maxnum * batch_size ) samples\n",
    "}"
   ]
  },
  {
   "cell_type": "markdown",
   "metadata": {},
   "source": [
    "### Declare and run the experiment"
   ]
  },
  {
   "cell_type": "code",
   "execution_count": 30,
   "metadata": {
    "pycharm": {
     "name": "#%%\n"
    },
    "scrolled": false
   },
   "outputs": [
    {
     "name": "stderr",
     "output_type": "stream",
     "text": [
      "2023-06-21 09:31:22,954 fedbiomed INFO - Searching dataset with data tags: ['#MNIST', '#dataset'] for all nodes\n",
      "2023-06-21 09:31:32,964 fedbiomed INFO - Node selected for training -> node_cc8823f5-b234-447e-a41a-c2ad64a1072f\n",
      "2023-06-21 09:31:32,966 fedbiomed INFO - Node selected for training -> node_8d470259-46b9-46cd-adba-3d050899da73\n",
      "2023-06-21 09:31:32,970 fedbiomed INFO - Checking data quality of federated datasets...\n",
      "Secure RNG turned off. This is perfectly fine for experimentation as it allows for much faster training performance, but remember to turn it on and retrain one last time before production with ``secure_mode`` turned on.\n",
      "2023-06-21 09:31:32,983 fedbiomed DEBUG - using native torch optimizer\n",
      "2023-06-21 09:31:32,985 fedbiomed DEBUG - Model file has been saved: /workspaces/Projects/fedbiomed/var/experiments/Experiment_0014/my_model_9c785a41-e198-4e14-913a-6bbcf6e7b454.py\n",
      "2023-06-21 09:31:33,004 fedbiomed DEBUG - HTTP POST request of file /workspaces/Projects/fedbiomed/var/experiments/Experiment_0014/my_model_9c785a41-e198-4e14-913a-6bbcf6e7b454.py successful, with status code 201\n",
      "2023-06-21 09:31:33,115 fedbiomed DEBUG - HTTP POST request of file /workspaces/Projects/fedbiomed/var/experiments/Experiment_0014/aggregated_params_7d472c3a-7ab6-42fd-af16-86afe970bfe6.mpk successful, with status code 201\n"
     ]
    }
   ],
   "source": [
    "from fedbiomed.researcher.experiment import Experiment\n",
    "from fedbiomed.researcher.aggregators.fedavg import FedAverage\n",
    "from fedbiomed.researcher.secagg import SecureAggregation\n",
    "tags =  ['#MNIST', '#dataset']\n",
    "rounds = 2\n",
    "\n",
    "exp = Experiment(tags=tags,\n",
    "                 model_args=model_args,\n",
    "                 training_plan_class=MyTrainingPlan,\n",
    "                 training_args=training_args,\n",
    "                 round_limit=rounds,\n",
    "                 aggregator=FedAverage(),\n",
    "                 node_selection_strategy=None,\n",
    "                 secagg=True, # or custom SecureAggregation(active=<bool>, clipping_range=<int>, timeout=<int>)\n",
    "                 save_breakpoints=True)"
   ]
  },
  {
   "cell_type": "markdown",
   "metadata": {},
   "source": [
    "### Access secure aggregation context"
   ]
  },
  {
   "cell_type": "markdown",
   "metadata": {},
   "source": [
    "Please use the attribute `secagg` to verify secure aggregation is set as active"
   ]
  },
  {
   "cell_type": "code",
   "execution_count": 31,
   "metadata": {
    "scrolled": true
   },
   "outputs": [
    {
     "name": "stdout",
     "output_type": "stream",
     "text": [
      "Is using secagg:  True\n"
     ]
    }
   ],
   "source": [
    "print(\"Is using secagg: \", exp.secagg.active)"
   ]
  },
  {
   "cell_type": "markdown",
   "metadata": {},
   "source": [
    "It is also possible to check secure aggregation context using `secagg` attribute. Since secure aggregation context negotiation will occur during experiment run, context and id should be `None` at this point."
   ]
  },
  {
   "cell_type": "code",
   "execution_count": 32,
   "metadata": {
    "scrolled": true
   },
   "outputs": [
    {
     "name": "stdout",
     "output_type": "stream",
     "text": [
      "Secagg Biprime  None\n",
      "Secagg Servkey  None\n"
     ]
    }
   ],
   "source": [
    "print(\"Secagg Biprime \", exp.secagg.biprime)\n",
    "print(\"Secagg Servkey \", exp.secagg.servkey)"
   ]
  },
  {
   "cell_type": "markdown",
   "metadata": {},
   "source": [
    "Run the experiment, using secure aggregation. Secure aggregation context will be created before the first training round and it is going to be updated before each round when new nodes are added or removed to the experiment. "
   ]
  },
  {
   "cell_type": "code",
   "execution_count": 33,
   "metadata": {},
   "outputs": [
    {
     "name": "stderr",
     "output_type": "stream",
     "text": [
      "2023-06-21 09:31:33,154 fedbiomed DEBUG - researcher_73f4aba0-45be-4b82-ae3f-ce4cfd2dea68\n",
      "2023-06-21 09:31:33,154 fedbiomed DEBUG - researcher_73f4aba0-45be-4b82-ae3f-ce4cfd2dea68\n",
      "2023-06-21 09:31:33,155 fedbiomed DEBUG - Secagg context for default_biprime0 is already existing on researcher researcher_id='researcher_73f4aba0-45be-4b82-ae3f-ce4cfd2dea68'\n",
      "2023-06-21 09:31:33,158 fedbiomed INFO - \u001b[1mINFO\u001b[0m\n",
      "\t\t\t\t\t\u001b[1m NODE\u001b[0m node_cc8823f5-b234-447e-a41a-c2ad64a1072f\n",
      "\t\t\t\t\t\u001b[1m MESSAGE:\u001b[0m Node secagg context element for default_biprime0 is already existing for job None\u001b[0m\n",
      "-----------------------------------------------------------------\n",
      "2023-06-21 09:31:33,161 fedbiomed INFO - \u001b[1mINFO\u001b[0m\n",
      "\t\t\t\t\t\u001b[1m NODE\u001b[0m node_8d470259-46b9-46cd-adba-3d050899da73\n",
      "\t\t\t\t\t\u001b[1m MESSAGE:\u001b[0m Node secagg context element for default_biprime0 is already existing for job None\u001b[0m\n",
      "-----------------------------------------------------------------\n",
      "2023-06-21 09:31:34,158 fedbiomed DEBUG - researcher_73f4aba0-45be-4b82-ae3f-ce4cfd2dea68\n",
      "2023-06-21 09:31:34,159 fedbiomed DEBUG - researcher_73f4aba0-45be-4b82-ae3f-ce4cfd2dea68\n",
      "2023-06-21 09:31:37,491 fedbiomed DEBUG - MPC protocol output: \n",
      "\t\t\t\t\t\t \u001b[1;32mCloning MP-SPDZ into the MPC working directory ...\u001b[0m\n",
      "\t\t\t\t\t\t\n",
      "\t\t\t\t\t\tDoing /workspaces/Projects/fedbiomed/var/tmp/MPC/researcher_73f4aba0-45be-4b82-ae3f-ce4cfd2dea68/f55df70b-a02f-48c3-8f91-8242b2d5c326/MP-SPDZ/Player-Data\n",
      "\t\t\t\t\t\t\u001b[1;32mCompiling 'server_key'...\u001b[0m\n",
      "\t\t\t\t\t\t\n",
      "\t\t\t\t\t\t\u001b[1;32mCompilation is successful!\u001b[0m\n",
      "\t\t\t\t\t\t##########################################################################\n",
      "\t\t\t\t\t\tDefault bit length: 2048\n",
      "\t\t\t\t\t\tDefault security parameter: 40\n",
      "\t\t\t\t\t\tCompiling: server_key from compile_func\n",
      "\t\t\t\t\t\tWriting to /workspaces/Projects/fedbiomed/var/tmp/MPC/researcher_73f4aba0-45be-4b82-ae3f-ce4cfd2dea68/f55df70b-a02f-48c3-8f91-8242b2d5c326/MP-SPDZ/Programs/Schedules/server_key.sch\n",
      "\t\t\t\t\t\tWriting to /workspaces/Projects/fedbiomed/var/tmp/MPC/researcher_73f4aba0-45be-4b82-ae3f-ce4cfd2dea68/f55df70b-a02f-48c3-8f91-8242b2d5c326/MP-SPDZ/Programs/Bytecode/server_key-0.bc\n",
      "\t\t\t\t\t\tProgram requires at most:\n",
      "\t\t\t\t\t\t         inf integer inputs from player 0\n",
      "\t\t\t\t\t\t           1 virtual machine rounds\n",
      "\t\t\t\t\t\t##########################################################################\n",
      "\t\t\t\t\t\t\n",
      "\t\t\t\t\t\t\n",
      "\t\t\t\t\t\t\u001b[1;33mExecution info:\u001b[0m\n",
      "\t\t\t\t\t\t\u001b[1;33m---------------------------------------\u001b[0m\n",
      "\t\t\t\t\t\t\u001b[1mParty no          :\u001b[0m 0\n",
      "\t\t\t\t\t\t\u001b[1mNumber of parties :\u001b[0m 3\n",
      "\t\t\t\t\t\t\u001b[1mAssigned IPs      :\u001b[0m /workspaces/Projects/fedbiomed/var/tmp/MPC/researcher_73f4aba0-45be-4b82-ae3f-ce4cfd2dea68/f55df70b-a02f-48c3-8f91-8242b2d5c326/ip_addresses\n",
      "\t\t\t\t\t\t\u001b[1mOutput file       :\u001b[0m /workspaces/Projects/fedbiomed/var/tmp/MPC/researcher_73f4aba0-45be-4b82-ae3f-ce4cfd2dea68/f55df70b-a02f-48c3-8f91-8242b2d5c326/Output-P0-0\n",
      "\t\t\t\t\t\t\u001b[1;32mExecuting protocol 'shamir-party'...\u001b[0m\n",
      "\t\t\t\t\t\t\u001b[1mPress CTRL+C to stop\u001b[0m\n",
      "\t\t\t\t\t\tUsing security parameter 40\n",
      "\t\t\t\t\t\tThe following benchmarks are including preprocessing (offline phase).\n",
      "\t\t\t\t\t\tTime = 0.00119206 seconds \n",
      "\t\t\t\t\t\tData sent = 0 MB in ~4 rounds (party 0)\n",
      "\t\t\t\t\t\tGlobal data sent = 0.001056 MB (all parties)\n",
      "\t\t\t\t\t\t\n",
      "2023-06-21 09:31:37,494 fedbiomed INFO - \u001b[1mINFO\u001b[0m\n",
      "\t\t\t\t\t\u001b[1m NODE\u001b[0m node_8d470259-46b9-46cd-adba-3d050899da73\n",
      "\t\t\t\t\t\u001b[1m MESSAGE:\u001b[0m Server key share successfully created for node_id='node_8d470259-46b9-46cd-adba-3d050899da73' secagg_id='secagg_f8802a3a-e208-4ab8-86a2-f8ce25ad46fd'\u001b[0m\n",
      "-----------------------------------------------------------------\n",
      "2023-06-21 09:31:37,496 fedbiomed INFO - \u001b[1mINFO\u001b[0m\n",
      "\t\t\t\t\t\u001b[1m NODE\u001b[0m node_cc8823f5-b234-447e-a41a-c2ad64a1072f\n",
      "\t\t\t\t\t\u001b[1m MESSAGE:\u001b[0m Server key share successfully created for node_id='node_cc8823f5-b234-447e-a41a-c2ad64a1072f' secagg_id='secagg_f8802a3a-e208-4ab8-86a2-f8ce25ad46fd'\u001b[0m\n",
      "-----------------------------------------------------------------\n",
      "2023-06-21 09:31:37,497 fedbiomed DEBUG - Server key successfully created for researcher_id='researcher_73f4aba0-45be-4b82-ae3f-ce4cfd2dea68' secagg_id='secagg_f8802a3a-e208-4ab8-86a2-f8ce25ad46fd'\n",
      "2023-06-21 09:31:38,499 fedbiomed INFO - Sampled nodes in round 0 ['node_cc8823f5-b234-447e-a41a-c2ad64a1072f', 'node_8d470259-46b9-46cd-adba-3d050899da73']\n",
      "2023-06-21 09:31:38,500 fedbiomed INFO - \u001b[1mSending request\u001b[0m \n",
      "\t\t\t\t\t\u001b[1m To\u001b[0m: node_cc8823f5-b234-447e-a41a-c2ad64a1072f \n",
      "\t\t\t\t\t\u001b[1m Request: \u001b[0m: Perform training with the arguments: {'researcher_id': 'researcher_73f4aba0-45be-4b82-ae3f-ce4cfd2dea68', 'job_id': 'bfacbe08-283a-4215-bf43-6bf7b3854b80', 'training_args': {'batch_size': 48, 'optimizer_args': {'lr': 0.001}, 'epochs': 1, 'dry_run': False, 'batch_maxnum': 100, 'num_updates': None, 'test_ratio': 0.0, 'test_on_local_updates': False, 'test_on_global_updates': False, 'test_metric': None, 'test_metric_args': {}, 'log_interval': 10, 'fedprox_mu': None, 'use_gpu': False, 'dp_args': None, 'share_persistent_buffers': True, 'random_seed': None}, 'training': True, 'model_args': {}, 'round': 0, 'secagg_servkey_id': 'secagg_f8802a3a-e208-4ab8-86a2-f8ce25ad46fd', 'secagg_biprime_id': 'default_biprime0', 'secagg_random': 0.765, 'secagg_clipping_range': None, 'command': 'train', 'training_plan_url': 'http://localhost:8844/media/uploads/2023/06/21/my_model_9c785a41-e198-4e14-913a-6bbcf6e7b454.py', 'params_url': 'http://localhost:8844/media/uploads/2023/06/21/aggregated_params_7d472c3a-7ab6-42fd-af16-86afe970bfe6.mpk', 'training_plan_class': 'MyTrainingPlan', 'dataset_id': 'dataset_68e44a80-a912-4b5b-ba1e-12a010d60223'} \n",
      " -----------------------------------------------------------------\n",
      "2023-06-21 09:31:38,500 fedbiomed DEBUG - researcher_73f4aba0-45be-4b82-ae3f-ce4cfd2dea68\n",
      "2023-06-21 09:31:38,501 fedbiomed INFO - \u001b[1mSending request\u001b[0m \n",
      "\t\t\t\t\t\u001b[1m To\u001b[0m: node_8d470259-46b9-46cd-adba-3d050899da73 \n",
      "\t\t\t\t\t\u001b[1m Request: \u001b[0m: Perform training with the arguments: {'researcher_id': 'researcher_73f4aba0-45be-4b82-ae3f-ce4cfd2dea68', 'job_id': 'bfacbe08-283a-4215-bf43-6bf7b3854b80', 'training_args': {'batch_size': 48, 'optimizer_args': {'lr': 0.001}, 'epochs': 1, 'dry_run': False, 'batch_maxnum': 100, 'num_updates': None, 'test_ratio': 0.0, 'test_on_local_updates': False, 'test_on_global_updates': False, 'test_metric': None, 'test_metric_args': {}, 'log_interval': 10, 'fedprox_mu': None, 'use_gpu': False, 'dp_args': None, 'share_persistent_buffers': True, 'random_seed': None}, 'training': True, 'model_args': {}, 'round': 0, 'secagg_servkey_id': 'secagg_f8802a3a-e208-4ab8-86a2-f8ce25ad46fd', 'secagg_biprime_id': 'default_biprime0', 'secagg_random': 0.765, 'secagg_clipping_range': None, 'command': 'train', 'training_plan_url': 'http://localhost:8844/media/uploads/2023/06/21/my_model_9c785a41-e198-4e14-913a-6bbcf6e7b454.py', 'params_url': 'http://localhost:8844/media/uploads/2023/06/21/aggregated_params_7d472c3a-7ab6-42fd-af16-86afe970bfe6.mpk', 'training_plan_class': 'MyTrainingPlan', 'dataset_id': 'dataset_76c4860a-f0ce-4294-ae9c-591a8c7b73eb', 'protocol_version': '1'} \n",
      " -----------------------------------------------------------------\n",
      "2023-06-21 09:31:38,502 fedbiomed DEBUG - researcher_73f4aba0-45be-4b82-ae3f-ce4cfd2dea68\n",
      "2023-06-21 09:31:38,550 fedbiomed INFO - \u001b[1mWARNING\u001b[0m\n",
      "\t\t\t\t\t\u001b[1m NODE\u001b[0m node_cc8823f5-b234-447e-a41a-c2ad64a1072f\n",
      "\t\t\t\t\t\u001b[1m MESSAGE:\u001b[0m There is no validation activated for the round. Please set flag for `test_on_global_updates`, `test_on_local_updates`, or both. Splitting dataset for validation will be ignored\u001b[0m\n",
      "-----------------------------------------------------------------\n",
      "2023-06-21 09:31:38,566 fedbiomed INFO - \u001b[1mWARNING\u001b[0m\n",
      "\t\t\t\t\t\u001b[1m NODE\u001b[0m node_8d470259-46b9-46cd-adba-3d050899da73\n",
      "\t\t\t\t\t\u001b[1m MESSAGE:\u001b[0m There is no validation activated for the round. Please set flag for `test_on_global_updates`, `test_on_local_updates`, or both. Splitting dataset for validation will be ignored\u001b[0m\n",
      "-----------------------------------------------------------------\n",
      "2023-06-21 09:31:38,703 fedbiomed INFO - \u001b[1mTRAINING\u001b[0m \n",
      "\t\t\t\t\t NODE_ID: node_cc8823f5-b234-447e-a41a-c2ad64a1072f \n",
      "\t\t\t\t\t Round 1 Epoch: 1 | Iteration: 1/100 (1%) | Samples: 48/4800\n",
      " \t\t\t\t\t Loss: \u001b[1m2.311456\u001b[0m \n",
      "\t\t\t\t\t ---------\n",
      "2023-06-21 09:31:38,788 fedbiomed INFO - \u001b[1mTRAINING\u001b[0m \n",
      "\t\t\t\t\t NODE_ID: node_8d470259-46b9-46cd-adba-3d050899da73 \n",
      "\t\t\t\t\t Round 1 Epoch: 1 | Iteration: 1/100 (1%) | Samples: 48/4800\n",
      " \t\t\t\t\t Loss: \u001b[1m2.317675\u001b[0m \n",
      "\t\t\t\t\t ---------\n"
     ]
    },
    {
     "name": "stderr",
     "output_type": "stream",
     "text": [
      "2023-06-21 09:31:39,506 fedbiomed INFO - \u001b[1mTRAINING\u001b[0m \n",
      "\t\t\t\t\t NODE_ID: node_8d470259-46b9-46cd-adba-3d050899da73 \n",
      "\t\t\t\t\t Round 1 Epoch: 1 | Iteration: 10/100 (10%) | Samples: 480/4800\n",
      " \t\t\t\t\t Loss: \u001b[1m1.115050\u001b[0m \n",
      "\t\t\t\t\t ---------\n",
      "2023-06-21 09:31:40,002 fedbiomed INFO - \u001b[1mTRAINING\u001b[0m \n",
      "\t\t\t\t\t NODE_ID: node_cc8823f5-b234-447e-a41a-c2ad64a1072f \n",
      "\t\t\t\t\t Round 1 Epoch: 1 | Iteration: 10/100 (10%) | Samples: 480/4800\n",
      " \t\t\t\t\t Loss: \u001b[1m1.446807\u001b[0m \n",
      "\t\t\t\t\t ---------\n",
      "2023-06-21 09:31:40,761 fedbiomed INFO - \u001b[1mTRAINING\u001b[0m \n",
      "\t\t\t\t\t NODE_ID: node_8d470259-46b9-46cd-adba-3d050899da73 \n",
      "\t\t\t\t\t Round 1 Epoch: 1 | Iteration: 20/100 (20%) | Samples: 960/4800\n",
      " \t\t\t\t\t Loss: \u001b[1m0.764307\u001b[0m \n",
      "\t\t\t\t\t ---------\n",
      "2023-06-21 09:31:41,140 fedbiomed INFO - \u001b[1mTRAINING\u001b[0m \n",
      "\t\t\t\t\t NODE_ID: node_cc8823f5-b234-447e-a41a-c2ad64a1072f \n",
      "\t\t\t\t\t Round 1 Epoch: 1 | Iteration: 20/100 (20%) | Samples: 960/4800\n",
      " \t\t\t\t\t Loss: \u001b[1m0.952498\u001b[0m \n",
      "\t\t\t\t\t ---------\n",
      "2023-06-21 09:31:42,081 fedbiomed INFO - \u001b[1mTRAINING\u001b[0m \n",
      "\t\t\t\t\t NODE_ID: node_8d470259-46b9-46cd-adba-3d050899da73 \n",
      "\t\t\t\t\t Round 1 Epoch: 1 | Iteration: 30/100 (30%) | Samples: 1440/4800\n",
      " \t\t\t\t\t Loss: \u001b[1m0.874212\u001b[0m \n",
      "\t\t\t\t\t ---------\n",
      "2023-06-21 09:31:42,224 fedbiomed INFO - \u001b[1mTRAINING\u001b[0m \n",
      "\t\t\t\t\t NODE_ID: node_cc8823f5-b234-447e-a41a-c2ad64a1072f \n",
      "\t\t\t\t\t Round 1 Epoch: 1 | Iteration: 30/100 (30%) | Samples: 1440/4800\n",
      " \t\t\t\t\t Loss: \u001b[1m0.756083\u001b[0m \n",
      "\t\t\t\t\t ---------\n",
      "2023-06-21 09:31:42,936 fedbiomed INFO - \u001b[1mTRAINING\u001b[0m \n",
      "\t\t\t\t\t NODE_ID: node_8d470259-46b9-46cd-adba-3d050899da73 \n",
      "\t\t\t\t\t Round 1 Epoch: 1 | Iteration: 40/100 (40%) | Samples: 1920/4800\n",
      " \t\t\t\t\t Loss: \u001b[1m0.645997\u001b[0m \n",
      "\t\t\t\t\t ---------\n",
      "2023-06-21 09:31:43,316 fedbiomed INFO - \u001b[1mTRAINING\u001b[0m \n",
      "\t\t\t\t\t NODE_ID: node_cc8823f5-b234-447e-a41a-c2ad64a1072f \n",
      "\t\t\t\t\t Round 1 Epoch: 1 | Iteration: 40/100 (40%) | Samples: 1920/4800\n",
      " \t\t\t\t\t Loss: \u001b[1m0.549916\u001b[0m \n",
      "\t\t\t\t\t ---------\n",
      "2023-06-21 09:31:43,820 fedbiomed INFO - \u001b[1mTRAINING\u001b[0m \n",
      "\t\t\t\t\t NODE_ID: node_8d470259-46b9-46cd-adba-3d050899da73 \n",
      "\t\t\t\t\t Round 1 Epoch: 1 | Iteration: 50/100 (50%) | Samples: 2400/4800\n",
      " \t\t\t\t\t Loss: \u001b[1m0.540713\u001b[0m \n",
      "\t\t\t\t\t ---------\n",
      "2023-06-21 09:31:44,420 fedbiomed INFO - \u001b[1mTRAINING\u001b[0m \n",
      "\t\t\t\t\t NODE_ID: node_8d470259-46b9-46cd-adba-3d050899da73 \n",
      "\t\t\t\t\t Round 1 Epoch: 1 | Iteration: 60/100 (60%) | Samples: 2880/4800\n",
      " \t\t\t\t\t Loss: \u001b[1m0.373226\u001b[0m \n",
      "\t\t\t\t\t ---------\n",
      "2023-06-21 09:31:45,093 fedbiomed INFO - \u001b[1mTRAINING\u001b[0m \n",
      "\t\t\t\t\t NODE_ID: node_cc8823f5-b234-447e-a41a-c2ad64a1072f \n",
      "\t\t\t\t\t Round 1 Epoch: 1 | Iteration: 50/100 (50%) | Samples: 2400/4800\n",
      " \t\t\t\t\t Loss: \u001b[1m0.455196\u001b[0m \n",
      "\t\t\t\t\t ---------\n",
      "2023-06-21 09:31:45,477 fedbiomed INFO - \u001b[1mTRAINING\u001b[0m \n",
      "\t\t\t\t\t NODE_ID: node_8d470259-46b9-46cd-adba-3d050899da73 \n",
      "\t\t\t\t\t Round 1 Epoch: 1 | Iteration: 70/100 (70%) | Samples: 3360/4800\n",
      " \t\t\t\t\t Loss: \u001b[1m0.492750\u001b[0m \n",
      "\t\t\t\t\t ---------\n",
      "2023-06-21 09:31:45,668 fedbiomed INFO - \u001b[1mTRAINING\u001b[0m \n",
      "\t\t\t\t\t NODE_ID: node_cc8823f5-b234-447e-a41a-c2ad64a1072f \n",
      "\t\t\t\t\t Round 1 Epoch: 1 | Iteration: 60/100 (60%) | Samples: 2880/4800\n",
      " \t\t\t\t\t Loss: \u001b[1m0.458963\u001b[0m \n",
      "\t\t\t\t\t ---------\n",
      "2023-06-21 09:31:46,565 fedbiomed INFO - \u001b[1mTRAINING\u001b[0m \n",
      "\t\t\t\t\t NODE_ID: node_8d470259-46b9-46cd-adba-3d050899da73 \n",
      "\t\t\t\t\t Round 1 Epoch: 1 | Iteration: 80/100 (80%) | Samples: 3840/4800\n",
      " \t\t\t\t\t Loss: \u001b[1m0.444567\u001b[0m \n",
      "\t\t\t\t\t ---------\n",
      "2023-06-21 09:31:46,784 fedbiomed INFO - \u001b[1mTRAINING\u001b[0m \n",
      "\t\t\t\t\t NODE_ID: node_cc8823f5-b234-447e-a41a-c2ad64a1072f \n",
      "\t\t\t\t\t Round 1 Epoch: 1 | Iteration: 70/100 (70%) | Samples: 3360/4800\n",
      " \t\t\t\t\t Loss: \u001b[1m0.492175\u001b[0m \n",
      "\t\t\t\t\t ---------\n",
      "2023-06-21 09:31:47,541 fedbiomed INFO - \u001b[1mTRAINING\u001b[0m \n",
      "\t\t\t\t\t NODE_ID: node_8d470259-46b9-46cd-adba-3d050899da73 \n",
      "\t\t\t\t\t Round 1 Epoch: 1 | Iteration: 90/100 (90%) | Samples: 4320/4800\n",
      " \t\t\t\t\t Loss: \u001b[1m0.276090\u001b[0m \n",
      "\t\t\t\t\t ---------\n",
      "2023-06-21 09:31:48,149 fedbiomed INFO - \u001b[1mTRAINING\u001b[0m \n",
      "\t\t\t\t\t NODE_ID: node_cc8823f5-b234-447e-a41a-c2ad64a1072f \n",
      "\t\t\t\t\t Round 1 Epoch: 1 | Iteration: 80/100 (80%) | Samples: 3840/4800\n",
      " \t\t\t\t\t Loss: \u001b[1m0.194493\u001b[0m \n",
      "\t\t\t\t\t ---------\n",
      "2023-06-21 09:31:48,541 fedbiomed INFO - \u001b[1mTRAINING\u001b[0m \n",
      "\t\t\t\t\t NODE_ID: node_8d470259-46b9-46cd-adba-3d050899da73 \n",
      "\t\t\t\t\t Round 1 Epoch: 1 | Iteration: 100/100 (100%) | Samples: 4800/4800\n",
      " \t\t\t\t\t Loss: \u001b[1m0.170217\u001b[0m \n",
      "\t\t\t\t\t ---------\n",
      "2023-06-21 09:31:48,593 fedbiomed INFO - \u001b[1mINFO\u001b[0m\n",
      "\t\t\t\t\t\u001b[1m NODE\u001b[0m node_8d470259-46b9-46cd-adba-3d050899da73\n",
      "\t\t\t\t\t\u001b[1m MESSAGE:\u001b[0m Encrypting model parameters. This process can take some time depending on model size.\u001b[0m\n",
      "-----------------------------------------------------------------\n",
      "2023-06-21 09:31:48,849 fedbiomed INFO - \u001b[1mTRAINING\u001b[0m \n",
      "\t\t\t\t\t NODE_ID: node_cc8823f5-b234-447e-a41a-c2ad64a1072f \n",
      "\t\t\t\t\t Round 1 Epoch: 1 | Iteration: 90/100 (90%) | Samples: 4320/4800\n",
      " \t\t\t\t\t Loss: \u001b[1m0.519534\u001b[0m \n",
      "\t\t\t\t\t ---------\n",
      "2023-06-21 09:31:49,394 fedbiomed INFO - \u001b[1mTRAINING\u001b[0m \n",
      "\t\t\t\t\t NODE_ID: node_cc8823f5-b234-447e-a41a-c2ad64a1072f \n",
      "\t\t\t\t\t Round 1 Epoch: 1 | Iteration: 100/100 (100%) | Samples: 4800/4800\n",
      " \t\t\t\t\t Loss: \u001b[1m0.236240\u001b[0m \n",
      "\t\t\t\t\t ---------\n",
      "2023-06-21 09:31:49,424 fedbiomed INFO - \u001b[1mINFO\u001b[0m\n",
      "\t\t\t\t\t\u001b[1m NODE\u001b[0m node_cc8823f5-b234-447e-a41a-c2ad64a1072f\n",
      "\t\t\t\t\t\u001b[1m MESSAGE:\u001b[0m Encrypting model parameters. This process can take some time depending on model size.\u001b[0m\n",
      "-----------------------------------------------------------------\n",
      "2023-06-21 09:32:46,265 fedbiomed INFO - \u001b[1mINFO\u001b[0m\n",
      "\t\t\t\t\t\u001b[1m NODE\u001b[0m node_cc8823f5-b234-447e-a41a-c2ad64a1072f\n",
      "\t\t\t\t\t\u001b[1m MESSAGE:\u001b[0m Pre-encryption is completed!\u001b[0m\n",
      "-----------------------------------------------------------------\n",
      "2023-06-21 09:32:46,306 fedbiomed INFO - \u001b[1mINFO\u001b[0m\n",
      "\t\t\t\t\t\u001b[1m NODE\u001b[0m node_cc8823f5-b234-447e-a41a-c2ad64a1072f\n",
      "\t\t\t\t\t\u001b[1m MESSAGE:\u001b[0m len(pre_encrypted): 17646\u001b[0m\n",
      "-----------------------------------------------------------------\n",
      "2023-06-21 09:32:46,355 fedbiomed INFO - \u001b[1mINFO\u001b[0m\n",
      "\t\t\t\t\t\u001b[1m NODE\u001b[0m node_8d470259-46b9-46cd-adba-3d050899da73\n",
      "\t\t\t\t\t\u001b[1m MESSAGE:\u001b[0m Pre-encryption is completed!\u001b[0m\n",
      "-----------------------------------------------------------------\n",
      "2023-06-21 09:32:46,395 fedbiomed INFO - \u001b[1mINFO\u001b[0m\n",
      "\t\t\t\t\t\u001b[1m NODE\u001b[0m node_8d470259-46b9-46cd-adba-3d050899da73\n",
      "\t\t\t\t\t\u001b[1m MESSAGE:\u001b[0m len(pre_encrypted): 17646\u001b[0m\n",
      "-----------------------------------------------------------------\n",
      "2023-06-21 09:32:47,770 fedbiomed INFO - \u001b[1mINFO\u001b[0m\n",
      "\t\t\t\t\t\u001b[1m NODE\u001b[0m node_cc8823f5-b234-447e-a41a-c2ad64a1072f\n",
      "\t\t\t\t\t\u001b[1m MESSAGE:\u001b[0m Encryption is completed!\u001b[0m\n",
      "-----------------------------------------------------------------\n",
      "2023-06-21 09:32:47,861 fedbiomed INFO - \u001b[1mINFO\u001b[0m\n",
      "\t\t\t\t\t\u001b[1m NODE\u001b[0m node_8d470259-46b9-46cd-adba-3d050899da73\n",
      "\t\t\t\t\t\u001b[1m MESSAGE:\u001b[0m Encryption is completed!\u001b[0m\n",
      "-----------------------------------------------------------------\n",
      "2023-06-21 09:32:47,928 fedbiomed INFO - \u001b[1mINFO\u001b[0m\n",
      "\t\t\t\t\t\u001b[1m NODE\u001b[0m node_cc8823f5-b234-447e-a41a-c2ad64a1072f\n",
      "\t\t\t\t\t\u001b[1m MESSAGE:\u001b[0m results uploaded successfully \u001b[0m\n",
      "-----------------------------------------------------------------\n",
      "2023-06-21 09:32:48,010 fedbiomed INFO - \u001b[1mINFO\u001b[0m\n",
      "\t\t\t\t\t\u001b[1m NODE\u001b[0m node_8d470259-46b9-46cd-adba-3d050899da73\n",
      "\t\t\t\t\t\u001b[1m MESSAGE:\u001b[0m results uploaded successfully \u001b[0m\n",
      "-----------------------------------------------------------------\n",
      "2023-06-21 09:32:53,582 fedbiomed INFO - Downloading model params after training on node_cc8823f5-b234-447e-a41a-c2ad64a1072f - from http://localhost:8844/media/uploads/2023/06/21/node_params_d9ec7f8f-80ab-404b-973c-c3e91bef3887.mpk\n",
      "2023-06-21 09:32:53,628 fedbiomed DEBUG - download of file node_params_e974a624-4274-4a64-9c6b-c034c0ebecff.mpk successful, with status code 200\n",
      "2023-06-21 09:32:53,653 fedbiomed INFO - Downloading model params after training on node_8d470259-46b9-46cd-adba-3d050899da73 - from http://localhost:8844/media/uploads/2023/06/21/node_params_de644e5f-3da3-4e15-acd7-3139239d403d.mpk\n",
      "2023-06-21 09:32:53,664 fedbiomed DEBUG - download of file node_params_c9332470-1b7b-4d10-9b4f-ba4bf9ef9890.mpk successful, with status code 200\n",
      "2023-06-21 09:32:53,687 fedbiomed INFO - Nodes that successfully reply in round 0 ['node_cc8823f5-b234-447e-a41a-c2ad64a1072f', 'node_8d470259-46b9-46cd-adba-3d050899da73']\n",
      "2023-06-21 09:32:53,687 fedbiomed INFO - Validating secure aggregation results...\n",
      "2023-06-21 09:32:53,691 fedbiomed DEBUG - Aggregation is completed in 0.0 seconds.\n"
     ]
    },
    {
     "name": "stderr",
     "output_type": "stream",
     "text": [
      "2023-06-21 09:32:53,692 fedbiomed INFO - Validation is completed.\n",
      "2023-06-21 09:32:53,692 fedbiomed INFO - Aggregating encrypted parameters. This process may take some time depending on model size.\n",
      "2023-06-21 09:33:47,571 fedbiomed DEBUG - Aggregation is completed in 53.61 seconds.\n",
      "2023-06-21 09:33:47,924 fedbiomed DEBUG - HTTP POST request of file /workspaces/Projects/fedbiomed/var/experiments/Experiment_0014/aggregated_params_1b3f1db9-6976-407d-adde-3f3f1b9e8c7a.mpk successful, with status code 201\n",
      "2023-06-21 09:33:47,925 fedbiomed INFO - Saved aggregated params for round 0 in /workspaces/Projects/fedbiomed/var/experiments/Experiment_0014/aggregated_params_1b3f1db9-6976-407d-adde-3f3f1b9e8c7a.mpk\n",
      "2023-06-21 09:33:47,945 fedbiomed INFO - breakpoint for round 0 saved at /workspaces/Projects/fedbiomed/var/experiments/Experiment_0014/breakpoint_0000\n",
      "2023-06-21 09:33:47,962 fedbiomed INFO - Sampled nodes in round 1 ['node_cc8823f5-b234-447e-a41a-c2ad64a1072f', 'node_8d470259-46b9-46cd-adba-3d050899da73']\n",
      "2023-06-21 09:33:47,962 fedbiomed INFO - \u001b[1mSending request\u001b[0m \n",
      "\t\t\t\t\t\u001b[1m To\u001b[0m: node_cc8823f5-b234-447e-a41a-c2ad64a1072f \n",
      "\t\t\t\t\t\u001b[1m Request: \u001b[0m: Perform training with the arguments: {'researcher_id': 'researcher_73f4aba0-45be-4b82-ae3f-ce4cfd2dea68', 'job_id': 'bfacbe08-283a-4215-bf43-6bf7b3854b80', 'training_args': {'batch_size': 48, 'optimizer_args': {'lr': 0.001}, 'epochs': 1, 'dry_run': False, 'batch_maxnum': 100, 'num_updates': None, 'test_ratio': 0.0, 'test_on_local_updates': False, 'test_on_global_updates': False, 'test_metric': None, 'test_metric_args': {}, 'log_interval': 10, 'fedprox_mu': None, 'use_gpu': False, 'dp_args': None, 'share_persistent_buffers': True, 'random_seed': None}, 'training': True, 'model_args': {}, 'round': 1, 'secagg_servkey_id': 'secagg_f8802a3a-e208-4ab8-86a2-f8ce25ad46fd', 'secagg_biprime_id': 'default_biprime0', 'secagg_random': 0.587, 'secagg_clipping_range': None, 'command': 'train', 'training_plan_url': 'http://localhost:8844/media/uploads/2023/06/21/my_model_9c785a41-e198-4e14-913a-6bbcf6e7b454.py', 'params_url': 'http://localhost:8844/media/uploads/2023/06/21/aggregated_params_1b3f1db9-6976-407d-adde-3f3f1b9e8c7a.mpk', 'training_plan_class': 'MyTrainingPlan', 'dataset_id': 'dataset_68e44a80-a912-4b5b-ba1e-12a010d60223'} \n",
      " -----------------------------------------------------------------\n",
      "2023-06-21 09:33:47,963 fedbiomed DEBUG - researcher_73f4aba0-45be-4b82-ae3f-ce4cfd2dea68\n",
      "2023-06-21 09:33:47,964 fedbiomed INFO - \u001b[1mSending request\u001b[0m \n",
      "\t\t\t\t\t\u001b[1m To\u001b[0m: node_8d470259-46b9-46cd-adba-3d050899da73 \n",
      "\t\t\t\t\t\u001b[1m Request: \u001b[0m: Perform training with the arguments: {'researcher_id': 'researcher_73f4aba0-45be-4b82-ae3f-ce4cfd2dea68', 'job_id': 'bfacbe08-283a-4215-bf43-6bf7b3854b80', 'training_args': {'batch_size': 48, 'optimizer_args': {'lr': 0.001}, 'epochs': 1, 'dry_run': False, 'batch_maxnum': 100, 'num_updates': None, 'test_ratio': 0.0, 'test_on_local_updates': False, 'test_on_global_updates': False, 'test_metric': None, 'test_metric_args': {}, 'log_interval': 10, 'fedprox_mu': None, 'use_gpu': False, 'dp_args': None, 'share_persistent_buffers': True, 'random_seed': None}, 'training': True, 'model_args': {}, 'round': 1, 'secagg_servkey_id': 'secagg_f8802a3a-e208-4ab8-86a2-f8ce25ad46fd', 'secagg_biprime_id': 'default_biprime0', 'secagg_random': 0.587, 'secagg_clipping_range': None, 'command': 'train', 'training_plan_url': 'http://localhost:8844/media/uploads/2023/06/21/my_model_9c785a41-e198-4e14-913a-6bbcf6e7b454.py', 'params_url': 'http://localhost:8844/media/uploads/2023/06/21/aggregated_params_1b3f1db9-6976-407d-adde-3f3f1b9e8c7a.mpk', 'training_plan_class': 'MyTrainingPlan', 'dataset_id': 'dataset_76c4860a-f0ce-4294-ae9c-591a8c7b73eb', 'protocol_version': '1'} \n",
      " -----------------------------------------------------------------\n",
      "2023-06-21 09:33:47,965 fedbiomed DEBUG - researcher_73f4aba0-45be-4b82-ae3f-ce4cfd2dea68\n",
      "2023-06-21 09:33:48,012 fedbiomed INFO - \u001b[1mWARNING\u001b[0m\n",
      "\t\t\t\t\t\u001b[1m NODE\u001b[0m node_cc8823f5-b234-447e-a41a-c2ad64a1072f\n",
      "\t\t\t\t\t\u001b[1m MESSAGE:\u001b[0m There is no validation activated for the round. Please set flag for `test_on_global_updates`, `test_on_local_updates`, or both. Splitting dataset for validation will be ignored\u001b[0m\n",
      "-----------------------------------------------------------------\n",
      "2023-06-21 09:33:48,049 fedbiomed INFO - \u001b[1mWARNING\u001b[0m\n",
      "\t\t\t\t\t\u001b[1m NODE\u001b[0m node_8d470259-46b9-46cd-adba-3d050899da73\n",
      "\t\t\t\t\t\u001b[1m MESSAGE:\u001b[0m There is no validation activated for the round. Please set flag for `test_on_global_updates`, `test_on_local_updates`, or both. Splitting dataset for validation will be ignored\u001b[0m\n",
      "-----------------------------------------------------------------\n",
      "2023-06-21 09:33:48,143 fedbiomed INFO - \u001b[1mTRAINING\u001b[0m \n",
      "\t\t\t\t\t NODE_ID: node_cc8823f5-b234-447e-a41a-c2ad64a1072f \n",
      "\t\t\t\t\t Round 2 Epoch: 1 | Iteration: 1/100 (1%) | Samples: 48/4800\n",
      " \t\t\t\t\t Loss: \u001b[1m0.371230\u001b[0m \n",
      "\t\t\t\t\t ---------\n",
      "2023-06-21 09:33:48,179 fedbiomed INFO - \u001b[1mTRAINING\u001b[0m \n",
      "\t\t\t\t\t NODE_ID: node_8d470259-46b9-46cd-adba-3d050899da73 \n",
      "\t\t\t\t\t Round 2 Epoch: 1 | Iteration: 1/100 (1%) | Samples: 48/4800\n",
      " \t\t\t\t\t Loss: \u001b[1m0.534814\u001b[0m \n",
      "\t\t\t\t\t ---------\n",
      "2023-06-21 09:33:48,888 fedbiomed INFO - \u001b[1mTRAINING\u001b[0m \n",
      "\t\t\t\t\t NODE_ID: node_8d470259-46b9-46cd-adba-3d050899da73 \n",
      "\t\t\t\t\t Round 2 Epoch: 1 | Iteration: 10/100 (10%) | Samples: 480/4800\n",
      " \t\t\t\t\t Loss: \u001b[1m0.217517\u001b[0m \n",
      "\t\t\t\t\t ---------\n",
      "2023-06-21 09:33:49,038 fedbiomed INFO - \u001b[1mTRAINING\u001b[0m \n",
      "\t\t\t\t\t NODE_ID: node_cc8823f5-b234-447e-a41a-c2ad64a1072f \n",
      "\t\t\t\t\t Round 2 Epoch: 1 | Iteration: 10/100 (10%) | Samples: 480/4800\n",
      " \t\t\t\t\t Loss: \u001b[1m0.240520\u001b[0m \n",
      "\t\t\t\t\t ---------\n",
      "2023-06-21 09:33:49,946 fedbiomed INFO - \u001b[1mTRAINING\u001b[0m \n",
      "\t\t\t\t\t NODE_ID: node_8d470259-46b9-46cd-adba-3d050899da73 \n",
      "\t\t\t\t\t Round 2 Epoch: 1 | Iteration: 20/100 (20%) | Samples: 960/4800\n",
      " \t\t\t\t\t Loss: \u001b[1m0.252001\u001b[0m \n",
      "\t\t\t\t\t ---------\n",
      "2023-06-21 09:33:50,203 fedbiomed INFO - \u001b[1mTRAINING\u001b[0m \n",
      "\t\t\t\t\t NODE_ID: node_cc8823f5-b234-447e-a41a-c2ad64a1072f \n",
      "\t\t\t\t\t Round 2 Epoch: 1 | Iteration: 20/100 (20%) | Samples: 960/4800\n",
      " \t\t\t\t\t Loss: \u001b[1m0.176108\u001b[0m \n",
      "\t\t\t\t\t ---------\n",
      "2023-06-21 09:33:51,028 fedbiomed INFO - \u001b[1mTRAINING\u001b[0m \n",
      "\t\t\t\t\t NODE_ID: node_8d470259-46b9-46cd-adba-3d050899da73 \n",
      "\t\t\t\t\t Round 2 Epoch: 1 | Iteration: 30/100 (30%) | Samples: 1440/4800\n",
      " \t\t\t\t\t Loss: \u001b[1m0.290684\u001b[0m \n",
      "\t\t\t\t\t ---------\n",
      "2023-06-21 09:33:51,708 fedbiomed INFO - \u001b[1mTRAINING\u001b[0m \n",
      "\t\t\t\t\t NODE_ID: node_cc8823f5-b234-447e-a41a-c2ad64a1072f \n",
      "\t\t\t\t\t Round 2 Epoch: 1 | Iteration: 30/100 (30%) | Samples: 1440/4800\n",
      " \t\t\t\t\t Loss: \u001b[1m0.108104\u001b[0m \n",
      "\t\t\t\t\t ---------\n",
      "2023-06-21 09:33:51,965 fedbiomed INFO - \u001b[1mTRAINING\u001b[0m \n",
      "\t\t\t\t\t NODE_ID: node_8d470259-46b9-46cd-adba-3d050899da73 \n",
      "\t\t\t\t\t Round 2 Epoch: 1 | Iteration: 40/100 (40%) | Samples: 1920/4800\n",
      " \t\t\t\t\t Loss: \u001b[1m0.147583\u001b[0m \n",
      "\t\t\t\t\t ---------\n",
      "2023-06-21 09:33:53,129 fedbiomed INFO - \u001b[1mTRAINING\u001b[0m \n",
      "\t\t\t\t\t NODE_ID: node_8d470259-46b9-46cd-adba-3d050899da73 \n",
      "\t\t\t\t\t Round 2 Epoch: 1 | Iteration: 50/100 (50%) | Samples: 2400/4800\n",
      " \t\t\t\t\t Loss: \u001b[1m0.369648\u001b[0m \n",
      "\t\t\t\t\t ---------\n",
      "2023-06-21 09:33:53,208 fedbiomed INFO - \u001b[1mTRAINING\u001b[0m \n",
      "\t\t\t\t\t NODE_ID: node_cc8823f5-b234-447e-a41a-c2ad64a1072f \n",
      "\t\t\t\t\t Round 2 Epoch: 1 | Iteration: 40/100 (40%) | Samples: 1920/4800\n",
      " \t\t\t\t\t Loss: \u001b[1m0.152109\u001b[0m \n",
      "\t\t\t\t\t ---------\n",
      "2023-06-21 09:33:54,464 fedbiomed INFO - \u001b[1mTRAINING\u001b[0m \n",
      "\t\t\t\t\t NODE_ID: node_cc8823f5-b234-447e-a41a-c2ad64a1072f \n",
      "\t\t\t\t\t Round 2 Epoch: 1 | Iteration: 50/100 (50%) | Samples: 2400/4800\n",
      " \t\t\t\t\t Loss: \u001b[1m0.165392\u001b[0m \n",
      "\t\t\t\t\t ---------\n",
      "2023-06-21 09:33:54,536 fedbiomed INFO - \u001b[1mTRAINING\u001b[0m \n",
      "\t\t\t\t\t NODE_ID: node_8d470259-46b9-46cd-adba-3d050899da73 \n",
      "\t\t\t\t\t Round 2 Epoch: 1 | Iteration: 60/100 (60%) | Samples: 2880/4800\n",
      " \t\t\t\t\t Loss: \u001b[1m0.127338\u001b[0m \n",
      "\t\t\t\t\t ---------\n",
      "2023-06-21 09:33:55,556 fedbiomed INFO - \u001b[1mTRAINING\u001b[0m \n",
      "\t\t\t\t\t NODE_ID: node_cc8823f5-b234-447e-a41a-c2ad64a1072f \n",
      "\t\t\t\t\t Round 2 Epoch: 1 | Iteration: 60/100 (60%) | Samples: 2880/4800\n",
      " \t\t\t\t\t Loss: \u001b[1m0.304627\u001b[0m \n",
      "\t\t\t\t\t ---------\n",
      "2023-06-21 09:33:56,400 fedbiomed INFO - \u001b[1mTRAINING\u001b[0m \n",
      "\t\t\t\t\t NODE_ID: node_8d470259-46b9-46cd-adba-3d050899da73 \n",
      "\t\t\t\t\t Round 2 Epoch: 1 | Iteration: 70/100 (70%) | Samples: 3360/4800\n",
      " \t\t\t\t\t Loss: \u001b[1m0.303662\u001b[0m \n",
      "\t\t\t\t\t ---------\n"
     ]
    },
    {
     "name": "stderr",
     "output_type": "stream",
     "text": [
      "2023-06-21 09:33:56,506 fedbiomed INFO - \u001b[1mTRAINING\u001b[0m \n",
      "\t\t\t\t\t NODE_ID: node_cc8823f5-b234-447e-a41a-c2ad64a1072f \n",
      "\t\t\t\t\t Round 2 Epoch: 1 | Iteration: 70/100 (70%) | Samples: 3360/4800\n",
      " \t\t\t\t\t Loss: \u001b[1m0.149095\u001b[0m \n",
      "\t\t\t\t\t ---------\n",
      "2023-06-21 09:33:57,521 fedbiomed INFO - \u001b[1mTRAINING\u001b[0m \n",
      "\t\t\t\t\t NODE_ID: node_8d470259-46b9-46cd-adba-3d050899da73 \n",
      "\t\t\t\t\t Round 2 Epoch: 1 | Iteration: 80/100 (80%) | Samples: 3840/4800\n",
      " \t\t\t\t\t Loss: \u001b[1m0.235595\u001b[0m \n",
      "\t\t\t\t\t ---------\n",
      "2023-06-21 09:33:57,691 fedbiomed INFO - \u001b[1mTRAINING\u001b[0m \n",
      "\t\t\t\t\t NODE_ID: node_cc8823f5-b234-447e-a41a-c2ad64a1072f \n",
      "\t\t\t\t\t Round 2 Epoch: 1 | Iteration: 80/100 (80%) | Samples: 3840/4800\n",
      " \t\t\t\t\t Loss: \u001b[1m0.114578\u001b[0m \n",
      "\t\t\t\t\t ---------\n",
      "2023-06-21 09:33:58,796 fedbiomed INFO - \u001b[1mTRAINING\u001b[0m \n",
      "\t\t\t\t\t NODE_ID: node_cc8823f5-b234-447e-a41a-c2ad64a1072f \n",
      "\t\t\t\t\t Round 2 Epoch: 1 | Iteration: 90/100 (90%) | Samples: 4320/4800\n",
      " \t\t\t\t\t Loss: \u001b[1m0.116449\u001b[0m \n",
      "\t\t\t\t\t ---------\n",
      "2023-06-21 09:33:59,729 fedbiomed INFO - \u001b[1mTRAINING\u001b[0m \n",
      "\t\t\t\t\t NODE_ID: node_8d470259-46b9-46cd-adba-3d050899da73 \n",
      "\t\t\t\t\t Round 2 Epoch: 1 | Iteration: 90/100 (90%) | Samples: 4320/4800\n",
      " \t\t\t\t\t Loss: \u001b[1m0.218296\u001b[0m \n",
      "\t\t\t\t\t ---------\n",
      "2023-06-21 09:33:59,964 fedbiomed INFO - \u001b[1mTRAINING\u001b[0m \n",
      "\t\t\t\t\t NODE_ID: node_cc8823f5-b234-447e-a41a-c2ad64a1072f \n",
      "\t\t\t\t\t Round 2 Epoch: 1 | Iteration: 100/100 (100%) | Samples: 4800/4800\n",
      " \t\t\t\t\t Loss: \u001b[1m0.167713\u001b[0m \n",
      "\t\t\t\t\t ---------\n",
      "2023-06-21 09:34:00,024 fedbiomed INFO - \u001b[1mINFO\u001b[0m\n",
      "\t\t\t\t\t\u001b[1m NODE\u001b[0m node_cc8823f5-b234-447e-a41a-c2ad64a1072f\n",
      "\t\t\t\t\t\u001b[1m MESSAGE:\u001b[0m Encrypting model parameters. This process can take some time depending on model size.\u001b[0m\n",
      "-----------------------------------------------------------------\n",
      "2023-06-21 09:34:00,648 fedbiomed INFO - \u001b[1mTRAINING\u001b[0m \n",
      "\t\t\t\t\t NODE_ID: node_8d470259-46b9-46cd-adba-3d050899da73 \n",
      "\t\t\t\t\t Round 2 Epoch: 1 | Iteration: 100/100 (100%) | Samples: 4800/4800\n",
      " \t\t\t\t\t Loss: \u001b[1m0.176762\u001b[0m \n",
      "\t\t\t\t\t ---------\n",
      "2023-06-21 09:34:00,703 fedbiomed INFO - \u001b[1mINFO\u001b[0m\n",
      "\t\t\t\t\t\u001b[1m NODE\u001b[0m node_8d470259-46b9-46cd-adba-3d050899da73\n",
      "\t\t\t\t\t\u001b[1m MESSAGE:\u001b[0m Encrypting model parameters. This process can take some time depending on model size.\u001b[0m\n",
      "-----------------------------------------------------------------\n",
      "2023-06-21 09:35:04,663 fedbiomed INFO - \u001b[1mINFO\u001b[0m\n",
      "\t\t\t\t\t\u001b[1m NODE\u001b[0m node_cc8823f5-b234-447e-a41a-c2ad64a1072f\n",
      "\t\t\t\t\t\u001b[1m MESSAGE:\u001b[0m Pre-encryption is completed!\u001b[0m\n",
      "-----------------------------------------------------------------\n",
      "2023-06-21 09:35:04,703 fedbiomed INFO - \u001b[1mINFO\u001b[0m\n",
      "\t\t\t\t\t\u001b[1m NODE\u001b[0m node_cc8823f5-b234-447e-a41a-c2ad64a1072f\n",
      "\t\t\t\t\t\u001b[1m MESSAGE:\u001b[0m len(pre_encrypted): 17646\u001b[0m\n",
      "-----------------------------------------------------------------\n",
      "2023-06-21 09:35:05,359 fedbiomed INFO - \u001b[1mINFO\u001b[0m\n",
      "\t\t\t\t\t\u001b[1m NODE\u001b[0m node_8d470259-46b9-46cd-adba-3d050899da73\n",
      "\t\t\t\t\t\u001b[1m MESSAGE:\u001b[0m Pre-encryption is completed!\u001b[0m\n",
      "-----------------------------------------------------------------\n",
      "2023-06-21 09:35:05,400 fedbiomed INFO - \u001b[1mINFO\u001b[0m\n",
      "\t\t\t\t\t\u001b[1m NODE\u001b[0m node_8d470259-46b9-46cd-adba-3d050899da73\n",
      "\t\t\t\t\t\u001b[1m MESSAGE:\u001b[0m len(pre_encrypted): 17646\u001b[0m\n",
      "-----------------------------------------------------------------\n",
      "2023-06-21 09:35:06,287 fedbiomed INFO - \u001b[1mINFO\u001b[0m\n",
      "\t\t\t\t\t\u001b[1m NODE\u001b[0m node_cc8823f5-b234-447e-a41a-c2ad64a1072f\n",
      "\t\t\t\t\t\u001b[1m MESSAGE:\u001b[0m Encryption is completed!\u001b[0m\n",
      "-----------------------------------------------------------------\n",
      "2023-06-21 09:35:06,491 fedbiomed INFO - \u001b[1mINFO\u001b[0m\n",
      "\t\t\t\t\t\u001b[1m NODE\u001b[0m node_cc8823f5-b234-447e-a41a-c2ad64a1072f\n",
      "\t\t\t\t\t\u001b[1m MESSAGE:\u001b[0m results uploaded successfully \u001b[0m\n",
      "-----------------------------------------------------------------\n",
      "2023-06-21 09:35:06,988 fedbiomed INFO - \u001b[1mINFO\u001b[0m\n",
      "\t\t\t\t\t\u001b[1m NODE\u001b[0m node_8d470259-46b9-46cd-adba-3d050899da73\n",
      "\t\t\t\t\t\u001b[1m MESSAGE:\u001b[0m Encryption is completed!\u001b[0m\n",
      "-----------------------------------------------------------------\n",
      "2023-06-21 09:35:07,139 fedbiomed INFO - \u001b[1mINFO\u001b[0m\n",
      "\t\t\t\t\t\u001b[1m NODE\u001b[0m node_8d470259-46b9-46cd-adba-3d050899da73\n",
      "\t\t\t\t\t\u001b[1m MESSAGE:\u001b[0m results uploaded successfully \u001b[0m\n",
      "-----------------------------------------------------------------\n",
      "2023-06-21 09:35:13,053 fedbiomed INFO - Downloading model params after training on node_cc8823f5-b234-447e-a41a-c2ad64a1072f - from http://localhost:8844/media/uploads/2023/06/21/node_params_7a83fac6-045a-4c28-9ea5-b8f7dcc8cebc.mpk\n",
      "2023-06-21 09:35:13,087 fedbiomed DEBUG - download of file node_params_b4bfd76f-17d9-49fd-8b83-061f116be10f.mpk successful, with status code 200\n",
      "2023-06-21 09:35:13,119 fedbiomed INFO - Downloading model params after training on node_8d470259-46b9-46cd-adba-3d050899da73 - from http://localhost:8844/media/uploads/2023/06/21/node_params_0a27f6d0-88c4-46d8-b73a-59e7fcea26b2.mpk\n",
      "2023-06-21 09:35:13,129 fedbiomed DEBUG - download of file node_params_a5238b9e-8f2b-4666-89ea-b2b9df779829.mpk successful, with status code 200\n",
      "2023-06-21 09:35:13,148 fedbiomed INFO - Nodes that successfully reply in round 1 ['node_cc8823f5-b234-447e-a41a-c2ad64a1072f', 'node_8d470259-46b9-46cd-adba-3d050899da73']\n",
      "2023-06-21 09:35:13,148 fedbiomed INFO - Validating secure aggregation results...\n",
      "2023-06-21 09:35:13,152 fedbiomed DEBUG - Aggregation is completed in 0.0 seconds.\n",
      "2023-06-21 09:35:13,152 fedbiomed INFO - Validation is completed.\n",
      "2023-06-21 09:35:13,152 fedbiomed INFO - Aggregating encrypted parameters. This process may take some time depending on model size.\n",
      "2023-06-21 09:36:06,716 fedbiomed DEBUG - Aggregation is completed in 53.41 seconds.\n",
      "2023-06-21 09:36:07,095 fedbiomed DEBUG - HTTP POST request of file /workspaces/Projects/fedbiomed/var/experiments/Experiment_0014/aggregated_params_4f0e580b-937d-4e8a-9917-ba041f8bdef7.mpk successful, with status code 201\n",
      "2023-06-21 09:36:07,095 fedbiomed INFO - Saved aggregated params for round 1 in /workspaces/Projects/fedbiomed/var/experiments/Experiment_0014/aggregated_params_4f0e580b-937d-4e8a-9917-ba041f8bdef7.mpk\n",
      "2023-06-21 09:36:07,117 fedbiomed INFO - breakpoint for round 1 saved at /workspaces/Projects/fedbiomed/var/experiments/Experiment_0014/breakpoint_0001\n"
     ]
    },
    {
     "data": {
      "text/plain": [
       "2"
      ]
     },
     "execution_count": 33,
     "metadata": {},
     "output_type": "execute_result"
    }
   ],
   "source": [
    "exp.run(increase=True)"
   ]
  },
  {
   "cell_type": "markdown",
   "metadata": {},
   "source": [
    "Display context after running one round of training. "
   ]
  },
  {
   "cell_type": "code",
   "execution_count": 34,
   "metadata": {},
   "outputs": [
    {
     "name": "stdout",
     "output_type": "stream",
     "text": [
      "Secagg Biprime context:  {'secagg_id': 'default_biprime0', 'parties': None, 'context': {'biprime': 158820908809271716671659880613366104677813341255487834154303909761107215283569995523817428402987962641429395032343305343341950966867458277812575065022203120547706127493272939455658018882112230042773163870472621818892994896895819790062496734944602899772583591514631486212290112369502692304700112819186167541107, 'max_keysize': 2048}}\n",
      "Secagg Servkey context:  {'job_id': 'bfacbe08-283a-4215-bf43-6bf7b3854b80', 'context': {'server_key': -18831042716575532420883670104223710335828127304346668831981373493243740003402438161558471364125536841971734685063429589265349324683086232741839050761177670149986770303985687790681018019958325883561551135254260483180593694359119272394593523553784050887957596699404640031345951715583063666138914068006313257715968903180398370701900750967075797449941460384763968794555570095337436529621079855388244464760802676538039206622411717254903875233832310812970034458722528623970260540414103017130354391712600365584506521187254519038274517044217160606673821445582020745650740842165959453260508197057277759138882360568381784462904}, 'secagg_id': 'secagg_f8802a3a-e208-4ab8-86a2-f8ce25ad46fd', 'parties': ['researcher_73f4aba0-45be-4b82-ae3f-ce4cfd2dea68', 'node_cc8823f5-b234-447e-a41a-c2ad64a1072f', 'node_8d470259-46b9-46cd-adba-3d050899da73']}\n"
     ]
    }
   ],
   "source": [
    "print(\"Secagg Biprime context: \", exp.secagg.biprime.context)\n",
    "print(\"Secagg Servkey context: \", exp.secagg.servkey.context)"
   ]
  },
  {
   "cell_type": "markdown",
   "metadata": {},
   "source": [
    "#### Changes in experiment triggers re-creation of secure aggregation context\n",
    "\n",
    "The changes that re-create jobs like adding new node to the experiment will trigger automatic secure aggregation re-setup for the next round.  "
   ]
  },
  {
   "cell_type": "code",
   "execution_count": null,
   "metadata": {},
   "outputs": [],
   "source": [
    "# sends new dataset search request\n",
    "from fedbiomed.researcher.strategies import DefaultStrategy\n",
    "from fedbiomed.researcher.aggregators.fedavg import FedAverage\n",
    "exp.set_training_data(None, True)\n",
    "exp.set_strategy(DefaultStrategy)\n",
    "exp.set_aggregator(FedAverage)\n",
    "exp.set_job()"
   ]
  },
  {
   "cell_type": "code",
   "execution_count": null,
   "metadata": {},
   "outputs": [],
   "source": [
    "exp.run_once(increase=True)"
   ]
  },
  {
   "cell_type": "markdown",
   "metadata": {},
   "source": [
    "### Changing arguments of secure aggregation"
   ]
  },
  {
   "cell_type": "markdown",
   "metadata": {},
   "source": [
    "Setting `secagg` argument `True` in `Experiment` creates a default `SecureAggregation` instance. Additionally, It is also possible to create `SecureAggregation` instance and pass it as an argument. Here are the arguments that can be set for the `SecureAggregation`\n",
    "\n",
    "- `active`: `True` if the round will use secure aggregation. Default is `True`\n",
    "- `clipping_range`: Clipping range that is goingto be use for quantization of model parameters. Default clipping range is `3`. However, some models can have model weigths greater than `3`. If clipping range is exceeded during the encryption on the nodes, `Experiment` will log a warning message. In such cases, you can provide a higher clipping range through the argument `clipping_range`.\n",
    "- `timeout`: Timeout is the maximum amount of time, in seconds, that the experiment will wait for responses from all parties during secure aggregation setup. Since secure aggregation context depends on network communication and multi-party computation, this argument allows to set higher timeout for larger context setups, or vice versa. "
   ]
  },
  {
   "cell_type": "code",
   "execution_count": null,
   "metadata": {},
   "outputs": [],
   "source": [
    "from fedbiomed.researcher.secagg import SecureAggregation\n",
    "secagg = SecureAggregation(\n",
    "    active=True, \n",
    "    clipping_range=100,\n",
    "    timeout=15\n",
    "    \n",
    ")\n",
    "exp.set_secagg(secagg=secagg)\n"
   ]
  },
  {
   "cell_type": "code",
   "execution_count": null,
   "metadata": {},
   "outputs": [],
   "source": [
    "exp.run_once(increase=True)"
   ]
  },
  {
   "cell_type": "markdown",
   "metadata": {},
   "source": [
    "### Load experiment from a breakpoint\n",
    "\n",
    "Once a breakpoint is loadded if the context is already exsiting there won't be context setup. "
   ]
  },
  {
   "cell_type": "code",
   "execution_count": null,
   "metadata": {
    "scrolled": false
   },
   "outputs": [],
   "source": [
    "loaded_exp = Experiment.load_breakpoint()\n",
    "loaded_exp.info()"
   ]
  },
  {
   "cell_type": "code",
   "execution_count": null,
   "metadata": {
    "pycharm": {
     "name": "#%%\n"
    },
    "scrolled": true
   },
   "outputs": [
    {
     "name": "stderr",
     "output_type": "stream",
     "text": [
      "2023-06-19 15:26:33,226 fedbiomed INFO - \u001b[1mCRITICAL\u001b[0m\n",
      "\t\t\t\t\t\u001b[1m NODE\u001b[0m node_8d470259-46b9-46cd-adba-3d050899da73\n",
      "\t\t\t\t\t\u001b[1m MESSAGE:\u001b[0m Node stopped in signal_handler, probably by user decision (Ctrl C)\u001b[0m\n",
      "-----------------------------------------------------------------\n",
      "2023-06-19 15:26:35,064 fedbiomed INFO - \u001b[1mCRITICAL\u001b[0m\n",
      "\t\t\t\t\t\u001b[1m NODE\u001b[0m node_cc8823f5-b234-447e-a41a-c2ad64a1072f\n",
      "\t\t\t\t\t\u001b[1m MESSAGE:\u001b[0m Node stopped in signal_handler, probably by user decision (Ctrl C)\u001b[0m\n",
      "-----------------------------------------------------------------\n",
      "2023-06-19 15:26:45,543 fedbiomed INFO - \u001b[1mINFO\u001b[0m\n",
      "\t\t\t\t\t\u001b[1m NODE\u001b[0m node_8d470259-46b9-46cd-adba-3d050899da73\n",
      "\t\t\t\t\t\u001b[1m MESSAGE:\u001b[0m Starting task manager\u001b[0m\n",
      "-----------------------------------------------------------------\n",
      "2023-06-19 15:26:53,902 fedbiomed INFO - \u001b[1mINFO\u001b[0m\n",
      "\t\t\t\t\t\u001b[1m NODE\u001b[0m node_cc8823f5-b234-447e-a41a-c2ad64a1072f\n",
      "\t\t\t\t\t\u001b[1m MESSAGE:\u001b[0m Starting task manager\u001b[0m\n",
      "-----------------------------------------------------------------\n"
     ]
    }
   ],
   "source": [
    "loaded_exp.run_once(increase=True)"
   ]
  },
  {
   "cell_type": "code",
   "execution_count": null,
   "metadata": {},
   "outputs": [],
   "source": []
  }
 ],
 "metadata": {
  "kernelspec": {
   "display_name": "Python 3 (ipykernel)",
   "language": "python",
   "name": "python3"
  },
  "language_info": {
   "codemirror_mode": {
    "name": "ipython",
    "version": 3
   },
   "file_extension": ".py",
   "mimetype": "text/x-python",
   "name": "python",
   "nbconvert_exporter": "python",
   "pygments_lexer": "ipython3",
   "version": "3.9.13"
  }
 },
 "nbformat": 4,
 "nbformat_minor": 4
}

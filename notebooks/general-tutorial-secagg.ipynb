{
 "cells": [
  {
   "cell_type": "markdown",
   "metadata": {},
   "source": [
    "# Fed-BioMed secure aggregation tutorial"
   ]
  },
  {
   "cell_type": "markdown",
   "metadata": {},
   "source": [
    "## Example experimentation setup\n",
    "\n",
    "This part contains setup of a basic example for Fed-BioMed. At this point, nothing is specific to secure aggregation."
   ]
  },
  {
   "cell_type": "markdown",
   "metadata": {},
   "source": [
    "### Start the network\n",
    "Before running this notebook, start the network with `./scripts/fedbiomed_run network`"
   ]
  },
  {
   "cell_type": "markdown",
   "metadata": {},
   "source": [
    "### Setting nodes up\n",
    "It is necessary to previously configure ** at least two nodes**:\n",
    "1. `./scripts/fedbiomed_run node config config_node1.ini add` (respectively for the second node: `./scripts/fedbiomed_run node config config_node2.ini add`)\n",
    "  * Select option 2 (default) to add MNIST to the node\n",
    "  * Confirm default tags by hitting \"y\" and ENTER\n",
    "  * Pick the folder where MNIST is downloaded (this is due to a pytorch issue https://github.com/pytorch/vision/issues/3549)\n",
    "  * Data must have been added (if you get a warning saying that data must be unique is because it's been already added)\n",
    "  \n",
    "2. Check that your data has been added by executing `./scripts/fedbiomed_run config config_node1.ini node list`\n",
    "3. Run the node using `./scripts/fedbiomed_run config_node1.ini node run`. Wait until you get `Starting task manager`. it means you are online."
   ]
  },
  {
   "cell_type": "markdown",
   "metadata": {},
   "source": [
    "### Define an experiment model and parameters\""
   ]
  },
  {
   "cell_type": "markdown",
   "metadata": {},
   "source": [
    "Declare a torch training plan MyTrainingPlan class to send for training on the node"
   ]
  },
  {
   "cell_type": "code",
   "execution_count": 1,
   "metadata": {},
   "outputs": [],
   "source": [
    "import torch\n",
    "import torch.nn as nn\n",
    "from fedbiomed.common.training_plans import TorchTrainingPlan\n",
    "from fedbiomed.common.data import DataManager\n",
    "from torchvision import datasets, transforms\n",
    "\n",
    "\n",
    "# Here we define the model to be used. \n",
    "# You can use any class name (here 'Net')\n",
    "class MyTrainingPlan(TorchTrainingPlan):\n",
    "    \n",
    "    # Defines and return model \n",
    "    def init_model(self, model_args):\n",
    "        return self.Net(model_args = model_args)\n",
    "    \n",
    "    # Defines and return optimizer\n",
    "    def init_optimizer(self, optimizer_args):\n",
    "        return torch.optim.Adam(self.model().parameters(), lr = optimizer_args[\"lr\"])\n",
    "    \n",
    "    # Declares and return dependencies\n",
    "    def init_dependencies(self):\n",
    "        deps = [\"from torchvision import datasets, transforms\"]\n",
    "        return deps\n",
    "    \n",
    "    class Net(nn.Module):\n",
    "        def __init__(self, model_args):\n",
    "            super().__init__()\n",
    "            self.conv1 = nn.Conv2d(1, 32, 3, 1)\n",
    "            self.conv2 = nn.Conv2d(32, 64, 3, 1)\n",
    "            self.dropout1 = nn.Dropout(0.25)\n",
    "            self.dropout2 = nn.Dropout(0.5)\n",
    "            self.fc1 = nn.Linear(9216, 128)\n",
    "            self.fc2 = nn.Linear(128, 10)\n",
    "\n",
    "        def forward(self, x):\n",
    "            x = self.conv1(x)\n",
    "            x = F.relu(x)\n",
    "            x = self.conv2(x)\n",
    "            x = F.relu(x)\n",
    "            x = F.max_pool2d(x, 2)\n",
    "            x = self.dropout1(x)\n",
    "            x = torch.flatten(x, 1)\n",
    "            x = self.fc1(x)\n",
    "            x = F.relu(x)\n",
    "            x = self.dropout2(x)\n",
    "            x = self.fc2(x)\n",
    "\n",
    "\n",
    "            output = F.log_softmax(x, dim=1)\n",
    "            return output\n",
    "\n",
    "    def training_data(self, batch_size = 48):\n",
    "        # Custom torch Dataloader for MNIST data\n",
    "        transform = transforms.Compose([transforms.ToTensor(),\n",
    "        transforms.Normalize((0.1307,), (0.3081,))])\n",
    "        dataset1 = datasets.MNIST(self.dataset_path, train=True, download=False, transform=transform)\n",
    "        train_kwargs = {'batch_size': batch_size, 'shuffle': True}\n",
    "        return DataManager(dataset=dataset1, **train_kwargs)\n",
    "    \n",
    "    def training_step(self, data, target):\n",
    "        output = self.model().forward(data)\n",
    "        loss   = torch.nn.functional.nll_loss(output, target)\n",
    "        return loss\n"
   ]
  },
  {
   "cell_type": "markdown",
   "metadata": {},
   "source": [
    "This group of arguments correspond respectively:\n",
    "* `model_args`: a dictionary with the arguments related to the model (e.g. number of layers, features, etc.). This will be passed to the model class on the node side.\n",
    "* `training_args`: a dictionary containing the arguments for the training routine (e.g. batch size, learning rate, epochs, etc.). This will be passed to the routine on the node side.\n",
    "\n",
    "**NOTE:** typos and/or lack of positional (required) arguments will raise error. 🤓"
   ]
  },
  {
   "cell_type": "code",
   "execution_count": 2,
   "metadata": {
    "pycharm": {
     "name": "#%%\n"
    }
   },
   "outputs": [],
   "source": [
    "model_args = {}\n",
    "\n",
    "training_args = {\n",
    "    'batch_size': 48, \n",
    "    'optimizer_args': {\n",
    "        \"lr\" : 1e-3\n",
    "    },\n",
    "    'epochs': 1, \n",
    "    'dry_run': False,  \n",
    "    'batch_maxnum': 100 # Fast pass for development : only use ( batch_maxnum * batch_size ) samples\n",
    "}"
   ]
  },
  {
   "cell_type": "markdown",
   "metadata": {},
   "source": [
    "### Declare and run the experiment"
   ]
  },
  {
   "cell_type": "code",
   "execution_count": 3,
   "metadata": {
    "pycharm": {
     "name": "#%%\n"
    },
    "scrolled": false
   },
   "outputs": [
    {
     "name": "stderr",
     "output_type": "stream",
     "text": [
      "2023-06-21 09:02:21,338 fedbiomed INFO - Messaging researcher_73f4aba0-45be-4b82-ae3f-ce4cfd2dea68 successfully connected to the message broker, object = <fedbiomed.common.messaging.Messaging object at 0x7fae36b71070>\n",
      "2023-06-21 09:02:21,349 fedbiomed INFO - Searching dataset with data tags: ['#MNIST', '#dataset'] for all nodes\n",
      "2023-06-21 09:02:31,357 fedbiomed INFO - Node selected for training -> node_cc8823f5-b234-447e-a41a-c2ad64a1072f\n",
      "2023-06-21 09:02:31,359 fedbiomed INFO - Node selected for training -> node_8d470259-46b9-46cd-adba-3d050899da73\n",
      "2023-06-21 09:02:31,362 fedbiomed INFO - Checking data quality of federated datasets...\n",
      "Secure RNG turned off. This is perfectly fine for experimentation as it allows for much faster training performance, but remember to turn it on and retrain one last time before production with ``secure_mode`` turned on.\n",
      "2023-06-21 09:02:31,407 fedbiomed DEBUG - using native torch optimizer\n",
      "2023-06-21 09:02:31,411 fedbiomed DEBUG - Model file has been saved: /workspaces/Projects/fedbiomed/var/experiments/Experiment_0010/my_model_1754da60-e787-4767-b3c0-93e02b8db1d4.py\n",
      "2023-06-21 09:02:31,537 fedbiomed DEBUG - HTTP POST request of file /workspaces/Projects/fedbiomed/var/experiments/Experiment_0010/my_model_1754da60-e787-4767-b3c0-93e02b8db1d4.py successful, with status code 201\n",
      "2023-06-21 09:02:31,647 fedbiomed DEBUG - HTTP POST request of file /workspaces/Projects/fedbiomed/var/experiments/Experiment_0010/aggregated_params_0e963d76-73bd-4c1d-a351-011ee18f989c.mpk successful, with status code 201\n"
     ]
    }
   ],
   "source": [
    "from fedbiomed.researcher.experiment import Experiment\n",
    "from fedbiomed.researcher.aggregators.fedavg import FedAverage\n",
    "from fedbiomed.researcher.secagg import SecureAggregation\n",
    "tags =  ['#MNIST', '#dataset']\n",
    "rounds = 2\n",
    "\n",
    "exp = Experiment(tags=tags,\n",
    "                 model_args=model_args,\n",
    "                 training_plan_class=MyTrainingPlan,\n",
    "                 training_args=training_args,\n",
    "                 round_limit=rounds,\n",
    "                 aggregator=FedAverage(),\n",
    "                 node_selection_strategy=None,\n",
    "                 secagg=True, # or custom SecureAggregation(active=<bool>, clipping_range=<int>, timeout=<int>)\n",
    "                 save_breakpoints=True)"
   ]
  },
  {
   "cell_type": "markdown",
   "metadata": {},
   "source": [
    "### Access secure aggregation context"
   ]
  },
  {
   "cell_type": "markdown",
   "metadata": {},
   "source": [
    "Please use the attribute `secagg` to verify secure aggregation is set as active"
   ]
  },
  {
   "cell_type": "code",
   "execution_count": 4,
   "metadata": {
    "scrolled": true
   },
   "outputs": [
    {
     "name": "stdout",
     "output_type": "stream",
     "text": [
      "Is using secagg:  True\n"
     ]
    }
   ],
   "source": [
    "print(\"Is using secagg: \", exp.secagg.active)"
   ]
  },
  {
   "cell_type": "markdown",
   "metadata": {},
   "source": [
    "It is also possible to check secure aggregation context using `secagg` attribute. Since secure aggregation context negotiation will occur during experiment run, context and id should be `None` at this point."
   ]
  },
  {
   "cell_type": "code",
   "execution_count": 5,
   "metadata": {
    "scrolled": true
   },
   "outputs": [
    {
     "name": "stdout",
     "output_type": "stream",
     "text": [
      "Secagg Biprime  None\n",
      "Secagg Servkey  None\n"
     ]
    }
   ],
   "source": [
    "print(\"Secagg Biprime \", exp.secagg.biprime)\n",
    "print(\"Secagg Servkey \", exp.secagg.servkey)"
   ]
  },
  {
   "cell_type": "markdown",
   "metadata": {},
   "source": [
    "Run the experiment, using secure aggregation. Secure aggregation context will be created before the first training round and it is going to be updated before each round when new nodes are added or removed to the experiment. "
   ]
  },
  {
   "cell_type": "code",
   "execution_count": 6,
   "metadata": {},
   "outputs": [
    {
     "name": "stderr",
     "output_type": "stream",
     "text": [
      "2023-06-21 09:02:35,535 fedbiomed DEBUG - researcher_73f4aba0-45be-4b82-ae3f-ce4cfd2dea68\n",
      "2023-06-21 09:02:35,537 fedbiomed DEBUG - researcher_73f4aba0-45be-4b82-ae3f-ce4cfd2dea68\n",
      "2023-06-21 09:02:35,539 fedbiomed DEBUG - Secagg context for default_biprime0 is already existing on researcher researcher_id='researcher_73f4aba0-45be-4b82-ae3f-ce4cfd2dea68'\n",
      "2023-06-21 09:02:35,540 fedbiomed INFO - \u001b[1mINFO\u001b[0m\n",
      "\t\t\t\t\t\u001b[1m NODE\u001b[0m node_cc8823f5-b234-447e-a41a-c2ad64a1072f\n",
      "\t\t\t\t\t\u001b[1m MESSAGE:\u001b[0m Node secagg context element for default_biprime0 is already existing for job None\u001b[0m\n",
      "-----------------------------------------------------------------\n",
      "2023-06-21 09:02:35,581 fedbiomed INFO - \u001b[1mINFO\u001b[0m\n",
      "\t\t\t\t\t\u001b[1m NODE\u001b[0m node_8d470259-46b9-46cd-adba-3d050899da73\n",
      "\t\t\t\t\t\u001b[1m MESSAGE:\u001b[0m Node secagg context element for default_biprime0 is already existing for job None\u001b[0m\n",
      "-----------------------------------------------------------------\n",
      "2023-06-21 09:02:36,541 fedbiomed DEBUG - researcher_73f4aba0-45be-4b82-ae3f-ce4cfd2dea68\n",
      "2023-06-21 09:02:36,542 fedbiomed DEBUG - researcher_73f4aba0-45be-4b82-ae3f-ce4cfd2dea68\n",
      "2023-06-21 09:02:39,106 fedbiomed DEBUG - MPC protocol output: \n",
      "\t\t\t\t\t\t \u001b[1;32mCloning MP-SPDZ into the MPC working directory ...\u001b[0m\n",
      "\t\t\t\t\t\t\n",
      "\t\t\t\t\t\tDoing /workspaces/Projects/fedbiomed/var/tmp/MPC/researcher_73f4aba0-45be-4b82-ae3f-ce4cfd2dea68/d1bd9be5-30be-4ae2-ad50-93768e76750d/MP-SPDZ/Player-Data\n",
      "\t\t\t\t\t\t\u001b[1;32mCompiling 'server_key'...\u001b[0m\n",
      "\t\t\t\t\t\t\n",
      "\t\t\t\t\t\t\u001b[1;32mCompilation is successful!\u001b[0m\n",
      "\t\t\t\t\t\t##########################################################################\n",
      "\t\t\t\t\t\tDefault bit length: 2048\n",
      "\t\t\t\t\t\tDefault security parameter: 40\n",
      "\t\t\t\t\t\tCompiling: server_key from compile_func\n",
      "\t\t\t\t\t\tWriting to /workspaces/Projects/fedbiomed/var/tmp/MPC/researcher_73f4aba0-45be-4b82-ae3f-ce4cfd2dea68/d1bd9be5-30be-4ae2-ad50-93768e76750d/MP-SPDZ/Programs/Schedules/server_key.sch\n",
      "\t\t\t\t\t\tWriting to /workspaces/Projects/fedbiomed/var/tmp/MPC/researcher_73f4aba0-45be-4b82-ae3f-ce4cfd2dea68/d1bd9be5-30be-4ae2-ad50-93768e76750d/MP-SPDZ/Programs/Bytecode/server_key-0.bc\n",
      "\t\t\t\t\t\tProgram requires at most:\n",
      "\t\t\t\t\t\t         inf integer inputs from player 0\n",
      "\t\t\t\t\t\t           1 virtual machine rounds\n",
      "\t\t\t\t\t\t##########################################################################\n",
      "\t\t\t\t\t\t\n",
      "\t\t\t\t\t\t\n",
      "\t\t\t\t\t\t\u001b[1;33mExecution info:\u001b[0m\n",
      "\t\t\t\t\t\t\u001b[1;33m---------------------------------------\u001b[0m\n",
      "\t\t\t\t\t\t\u001b[1mParty no          :\u001b[0m 0\n",
      "\t\t\t\t\t\t\u001b[1mNumber of parties :\u001b[0m 3\n",
      "\t\t\t\t\t\t\u001b[1mAssigned IPs      :\u001b[0m /workspaces/Projects/fedbiomed/var/tmp/MPC/researcher_73f4aba0-45be-4b82-ae3f-ce4cfd2dea68/d1bd9be5-30be-4ae2-ad50-93768e76750d/ip_addresses\n",
      "\t\t\t\t\t\t\u001b[1mOutput file       :\u001b[0m /workspaces/Projects/fedbiomed/var/tmp/MPC/researcher_73f4aba0-45be-4b82-ae3f-ce4cfd2dea68/d1bd9be5-30be-4ae2-ad50-93768e76750d/Output-P0-0\n",
      "\t\t\t\t\t\t\u001b[1;32mExecuting protocol 'shamir-party'...\u001b[0m\n",
      "\t\t\t\t\t\t\u001b[1mPress CTRL+C to stop\u001b[0m\n",
      "\t\t\t\t\t\tUsing security parameter 40\n",
      "\t\t\t\t\t\tThe following benchmarks are including preprocessing (offline phase).\n",
      "\t\t\t\t\t\tTime = 0.00150607 seconds \n",
      "\t\t\t\t\t\tData sent = 0 MB in ~4 rounds (party 0)\n",
      "\t\t\t\t\t\tGlobal data sent = 0.001056 MB (all parties)\n",
      "\t\t\t\t\t\t\n",
      "2023-06-21 09:02:39,109 fedbiomed INFO - \u001b[1mINFO\u001b[0m\n",
      "\t\t\t\t\t\u001b[1m NODE\u001b[0m node_cc8823f5-b234-447e-a41a-c2ad64a1072f\n",
      "\t\t\t\t\t\u001b[1m MESSAGE:\u001b[0m Server key share successfully created for node_id='node_cc8823f5-b234-447e-a41a-c2ad64a1072f' secagg_id='secagg_2eaf2e40-e05c-4487-b9a1-fce06c1812d2'\u001b[0m\n",
      "-----------------------------------------------------------------\n",
      "2023-06-21 09:02:39,110 fedbiomed INFO - \u001b[1mINFO\u001b[0m\n",
      "\t\t\t\t\t\u001b[1m NODE\u001b[0m node_8d470259-46b9-46cd-adba-3d050899da73\n",
      "\t\t\t\t\t\u001b[1m MESSAGE:\u001b[0m Server key share successfully created for node_id='node_8d470259-46b9-46cd-adba-3d050899da73' secagg_id='secagg_2eaf2e40-e05c-4487-b9a1-fce06c1812d2'\u001b[0m\n",
      "-----------------------------------------------------------------\n",
      "2023-06-21 09:02:39,111 fedbiomed DEBUG - Server key successfully created for researcher_id='researcher_73f4aba0-45be-4b82-ae3f-ce4cfd2dea68' secagg_id='secagg_2eaf2e40-e05c-4487-b9a1-fce06c1812d2'\n",
      "2023-06-21 09:02:40,113 fedbiomed INFO - Sampled nodes in round 0 ['node_cc8823f5-b234-447e-a41a-c2ad64a1072f', 'node_8d470259-46b9-46cd-adba-3d050899da73']\n",
      "2023-06-21 09:02:40,114 fedbiomed INFO - \u001b[1mSending request\u001b[0m \n",
      "\t\t\t\t\t\u001b[1m To\u001b[0m: node_cc8823f5-b234-447e-a41a-c2ad64a1072f \n",
      "\t\t\t\t\t\u001b[1m Request: \u001b[0m: Perform training with the arguments: {'researcher_id': 'researcher_73f4aba0-45be-4b82-ae3f-ce4cfd2dea68', 'job_id': '2f71bbec-5c0e-4612-8305-1cbac8f71efc', 'training_args': {'batch_size': 48, 'optimizer_args': {'lr': 0.001}, 'epochs': 1, 'dry_run': False, 'batch_maxnum': 100, 'num_updates': None, 'test_ratio': 0.0, 'test_on_local_updates': False, 'test_on_global_updates': False, 'test_metric': None, 'test_metric_args': {}, 'log_interval': 10, 'fedprox_mu': None, 'use_gpu': False, 'dp_args': None, 'share_persistent_buffers': True, 'random_seed': None}, 'training': True, 'model_args': {}, 'round': 0, 'secagg_servkey_id': 'secagg_2eaf2e40-e05c-4487-b9a1-fce06c1812d2', 'secagg_biprime_id': 'default_biprime0', 'secagg_random': 0.222, 'secagg_clipping_range': None, 'command': 'train', 'training_plan_url': 'http://localhost:8844/media/uploads/2023/06/21/my_model_1754da60-e787-4767-b3c0-93e02b8db1d4.py', 'params_url': 'http://localhost:8844/media/uploads/2023/06/21/aggregated_params_0e963d76-73bd-4c1d-a351-011ee18f989c.mpk', 'training_plan_class': 'MyTrainingPlan', 'dataset_id': 'dataset_68e44a80-a912-4b5b-ba1e-12a010d60223'} \n",
      " -----------------------------------------------------------------\n",
      "2023-06-21 09:02:40,115 fedbiomed DEBUG - researcher_73f4aba0-45be-4b82-ae3f-ce4cfd2dea68\n",
      "2023-06-21 09:02:40,116 fedbiomed INFO - \u001b[1mSending request\u001b[0m \n",
      "\t\t\t\t\t\u001b[1m To\u001b[0m: node_8d470259-46b9-46cd-adba-3d050899da73 \n",
      "\t\t\t\t\t\u001b[1m Request: \u001b[0m: Perform training with the arguments: {'researcher_id': 'researcher_73f4aba0-45be-4b82-ae3f-ce4cfd2dea68', 'job_id': '2f71bbec-5c0e-4612-8305-1cbac8f71efc', 'training_args': {'batch_size': 48, 'optimizer_args': {'lr': 0.001}, 'epochs': 1, 'dry_run': False, 'batch_maxnum': 100, 'num_updates': None, 'test_ratio': 0.0, 'test_on_local_updates': False, 'test_on_global_updates': False, 'test_metric': None, 'test_metric_args': {}, 'log_interval': 10, 'fedprox_mu': None, 'use_gpu': False, 'dp_args': None, 'share_persistent_buffers': True, 'random_seed': None}, 'training': True, 'model_args': {}, 'round': 0, 'secagg_servkey_id': 'secagg_2eaf2e40-e05c-4487-b9a1-fce06c1812d2', 'secagg_biprime_id': 'default_biprime0', 'secagg_random': 0.222, 'secagg_clipping_range': None, 'command': 'train', 'training_plan_url': 'http://localhost:8844/media/uploads/2023/06/21/my_model_1754da60-e787-4767-b3c0-93e02b8db1d4.py', 'params_url': 'http://localhost:8844/media/uploads/2023/06/21/aggregated_params_0e963d76-73bd-4c1d-a351-011ee18f989c.mpk', 'training_plan_class': 'MyTrainingPlan', 'dataset_id': 'dataset_76c4860a-f0ce-4294-ae9c-591a8c7b73eb', 'protocol_version': '1'} \n",
      " -----------------------------------------------------------------\n",
      "2023-06-21 09:02:40,116 fedbiomed DEBUG - researcher_73f4aba0-45be-4b82-ae3f-ce4cfd2dea68\n",
      "2023-06-21 09:02:40,318 fedbiomed INFO - \u001b[1mWARNING\u001b[0m\n",
      "\t\t\t\t\t\u001b[1m NODE\u001b[0m node_cc8823f5-b234-447e-a41a-c2ad64a1072f\n",
      "\t\t\t\t\t\u001b[1m MESSAGE:\u001b[0m There is no validation activated for the round. Please set flag for `test_on_global_updates`, `test_on_local_updates`, or both. Splitting dataset for validation will be ignored\u001b[0m\n",
      "-----------------------------------------------------------------\n",
      "2023-06-21 09:02:40,341 fedbiomed INFO - \u001b[1mWARNING\u001b[0m\n",
      "\t\t\t\t\t\u001b[1m NODE\u001b[0m node_8d470259-46b9-46cd-adba-3d050899da73\n",
      "\t\t\t\t\t\u001b[1m MESSAGE:\u001b[0m There is no validation activated for the round. Please set flag for `test_on_global_updates`, `test_on_local_updates`, or both. Splitting dataset for validation will be ignored\u001b[0m\n",
      "-----------------------------------------------------------------\n",
      "2023-06-21 09:02:40,501 fedbiomed INFO - \u001b[1mTRAINING\u001b[0m \n",
      "\t\t\t\t\t NODE_ID: node_cc8823f5-b234-447e-a41a-c2ad64a1072f \n",
      "\t\t\t\t\t Round 1 Epoch: 1 | Iteration: 1/100 (1%) | Samples: 48/4800\n",
      " \t\t\t\t\t Loss: \u001b[1m2.313624\u001b[0m \n",
      "\t\t\t\t\t ---------\n",
      "2023-06-21 09:02:40,537 fedbiomed INFO - \u001b[1mTRAINING\u001b[0m \n",
      "\t\t\t\t\t NODE_ID: node_8d470259-46b9-46cd-adba-3d050899da73 \n",
      "\t\t\t\t\t Round 1 Epoch: 1 | Iteration: 1/100 (1%) | Samples: 48/4800\n",
      " \t\t\t\t\t Loss: \u001b[1m2.323239\u001b[0m \n",
      "\t\t\t\t\t ---------\n"
     ]
    },
    {
     "name": "stderr",
     "output_type": "stream",
     "text": [
      "2023-06-21 09:02:41,350 fedbiomed INFO - \u001b[1mTRAINING\u001b[0m \n",
      "\t\t\t\t\t NODE_ID: node_8d470259-46b9-46cd-adba-3d050899da73 \n",
      "\t\t\t\t\t Round 1 Epoch: 1 | Iteration: 10/100 (10%) | Samples: 480/4800\n",
      " \t\t\t\t\t Loss: \u001b[1m1.414322\u001b[0m \n",
      "\t\t\t\t\t ---------\n",
      "2023-06-21 09:02:41,456 fedbiomed INFO - \u001b[1mTRAINING\u001b[0m \n",
      "\t\t\t\t\t NODE_ID: node_cc8823f5-b234-447e-a41a-c2ad64a1072f \n",
      "\t\t\t\t\t Round 1 Epoch: 1 | Iteration: 10/100 (10%) | Samples: 480/4800\n",
      " \t\t\t\t\t Loss: \u001b[1m1.447917\u001b[0m \n",
      "\t\t\t\t\t ---------\n",
      "2023-06-21 09:02:42,338 fedbiomed INFO - \u001b[1mTRAINING\u001b[0m \n",
      "\t\t\t\t\t NODE_ID: node_cc8823f5-b234-447e-a41a-c2ad64a1072f \n",
      "\t\t\t\t\t Round 1 Epoch: 1 | Iteration: 20/100 (20%) | Samples: 960/4800\n",
      " \t\t\t\t\t Loss: \u001b[1m0.865709\u001b[0m \n",
      "\t\t\t\t\t ---------\n",
      "2023-06-21 09:02:42,549 fedbiomed INFO - \u001b[1mTRAINING\u001b[0m \n",
      "\t\t\t\t\t NODE_ID: node_8d470259-46b9-46cd-adba-3d050899da73 \n",
      "\t\t\t\t\t Round 1 Epoch: 1 | Iteration: 20/100 (20%) | Samples: 960/4800\n",
      " \t\t\t\t\t Loss: \u001b[1m1.065028\u001b[0m \n",
      "\t\t\t\t\t ---------\n",
      "2023-06-21 09:02:43,313 fedbiomed INFO - \u001b[1mTRAINING\u001b[0m \n",
      "\t\t\t\t\t NODE_ID: node_8d470259-46b9-46cd-adba-3d050899da73 \n",
      "\t\t\t\t\t Round 1 Epoch: 1 | Iteration: 30/100 (30%) | Samples: 1440/4800\n",
      " \t\t\t\t\t Loss: \u001b[1m0.667109\u001b[0m \n",
      "\t\t\t\t\t ---------\n",
      "2023-06-21 09:02:43,657 fedbiomed INFO - \u001b[1mTRAINING\u001b[0m \n",
      "\t\t\t\t\t NODE_ID: node_cc8823f5-b234-447e-a41a-c2ad64a1072f \n",
      "\t\t\t\t\t Round 1 Epoch: 1 | Iteration: 30/100 (30%) | Samples: 1440/4800\n",
      " \t\t\t\t\t Loss: \u001b[1m0.742081\u001b[0m \n",
      "\t\t\t\t\t ---------\n",
      "2023-06-21 09:02:44,566 fedbiomed INFO - \u001b[1mTRAINING\u001b[0m \n",
      "\t\t\t\t\t NODE_ID: node_8d470259-46b9-46cd-adba-3d050899da73 \n",
      "\t\t\t\t\t Round 1 Epoch: 1 | Iteration: 40/100 (40%) | Samples: 1920/4800\n",
      " \t\t\t\t\t Loss: \u001b[1m0.555873\u001b[0m \n",
      "\t\t\t\t\t ---------\n",
      "2023-06-21 09:02:45,196 fedbiomed INFO - \u001b[1mTRAINING\u001b[0m \n",
      "\t\t\t\t\t NODE_ID: node_8d470259-46b9-46cd-adba-3d050899da73 \n",
      "\t\t\t\t\t Round 1 Epoch: 1 | Iteration: 50/100 (50%) | Samples: 2400/4800\n",
      " \t\t\t\t\t Loss: \u001b[1m0.660060\u001b[0m \n",
      "\t\t\t\t\t ---------\n",
      "2023-06-21 09:02:45,572 fedbiomed INFO - \u001b[1mTRAINING\u001b[0m \n",
      "\t\t\t\t\t NODE_ID: node_cc8823f5-b234-447e-a41a-c2ad64a1072f \n",
      "\t\t\t\t\t Round 1 Epoch: 1 | Iteration: 40/100 (40%) | Samples: 1920/4800\n",
      " \t\t\t\t\t Loss: \u001b[1m0.648576\u001b[0m \n",
      "\t\t\t\t\t ---------\n",
      "2023-06-21 09:02:45,789 fedbiomed INFO - \u001b[1mTRAINING\u001b[0m \n",
      "\t\t\t\t\t NODE_ID: node_8d470259-46b9-46cd-adba-3d050899da73 \n",
      "\t\t\t\t\t Round 1 Epoch: 1 | Iteration: 60/100 (60%) | Samples: 2880/4800\n",
      " \t\t\t\t\t Loss: \u001b[1m0.348007\u001b[0m \n",
      "\t\t\t\t\t ---------\n",
      "2023-06-21 09:02:46,631 fedbiomed INFO - \u001b[1mTRAINING\u001b[0m \n",
      "\t\t\t\t\t NODE_ID: node_cc8823f5-b234-447e-a41a-c2ad64a1072f \n",
      "\t\t\t\t\t Round 1 Epoch: 1 | Iteration: 50/100 (50%) | Samples: 2400/4800\n",
      " \t\t\t\t\t Loss: \u001b[1m0.642634\u001b[0m \n",
      "\t\t\t\t\t ---------\n",
      "2023-06-21 09:02:47,412 fedbiomed INFO - \u001b[1mTRAINING\u001b[0m \n",
      "\t\t\t\t\t NODE_ID: node_cc8823f5-b234-447e-a41a-c2ad64a1072f \n",
      "\t\t\t\t\t Round 1 Epoch: 1 | Iteration: 60/100 (60%) | Samples: 2880/4800\n",
      " \t\t\t\t\t Loss: \u001b[1m0.407895\u001b[0m \n",
      "\t\t\t\t\t ---------\n",
      "2023-06-21 09:02:47,747 fedbiomed INFO - \u001b[1mTRAINING\u001b[0m \n",
      "\t\t\t\t\t NODE_ID: node_8d470259-46b9-46cd-adba-3d050899da73 \n",
      "\t\t\t\t\t Round 1 Epoch: 1 | Iteration: 70/100 (70%) | Samples: 3360/4800\n",
      " \t\t\t\t\t Loss: \u001b[1m0.309961\u001b[0m \n",
      "\t\t\t\t\t ---------\n",
      "2023-06-21 09:02:48,240 fedbiomed INFO - \u001b[1mTRAINING\u001b[0m \n",
      "\t\t\t\t\t NODE_ID: node_cc8823f5-b234-447e-a41a-c2ad64a1072f \n",
      "\t\t\t\t\t Round 1 Epoch: 1 | Iteration: 70/100 (70%) | Samples: 3360/4800\n",
      " \t\t\t\t\t Loss: \u001b[1m0.414707\u001b[0m \n",
      "\t\t\t\t\t ---------\n",
      "2023-06-21 09:02:48,998 fedbiomed INFO - \u001b[1mTRAINING\u001b[0m \n",
      "\t\t\t\t\t NODE_ID: node_8d470259-46b9-46cd-adba-3d050899da73 \n",
      "\t\t\t\t\t Round 1 Epoch: 1 | Iteration: 80/100 (80%) | Samples: 3840/4800\n",
      " \t\t\t\t\t Loss: \u001b[1m0.594814\u001b[0m \n",
      "\t\t\t\t\t ---------\n",
      "2023-06-21 09:02:49,411 fedbiomed INFO - \u001b[1mTRAINING\u001b[0m \n",
      "\t\t\t\t\t NODE_ID: node_cc8823f5-b234-447e-a41a-c2ad64a1072f \n",
      "\t\t\t\t\t Round 1 Epoch: 1 | Iteration: 80/100 (80%) | Samples: 3840/4800\n",
      " \t\t\t\t\t Loss: \u001b[1m0.416654\u001b[0m \n",
      "\t\t\t\t\t ---------\n",
      "2023-06-21 09:02:50,811 fedbiomed INFO - \u001b[1mTRAINING\u001b[0m \n",
      "\t\t\t\t\t NODE_ID: node_8d470259-46b9-46cd-adba-3d050899da73 \n",
      "\t\t\t\t\t Round 1 Epoch: 1 | Iteration: 90/100 (90%) | Samples: 4320/4800\n",
      " \t\t\t\t\t Loss: \u001b[1m0.510029\u001b[0m \n",
      "\t\t\t\t\t ---------\n",
      "2023-06-21 09:02:50,934 fedbiomed INFO - \u001b[1mTRAINING\u001b[0m \n",
      "\t\t\t\t\t NODE_ID: node_cc8823f5-b234-447e-a41a-c2ad64a1072f \n",
      "\t\t\t\t\t Round 1 Epoch: 1 | Iteration: 90/100 (90%) | Samples: 4320/4800\n",
      " \t\t\t\t\t Loss: \u001b[1m0.574546\u001b[0m \n",
      "\t\t\t\t\t ---------\n",
      "2023-06-21 09:02:51,933 fedbiomed INFO - \u001b[1mTRAINING\u001b[0m \n",
      "\t\t\t\t\t NODE_ID: node_cc8823f5-b234-447e-a41a-c2ad64a1072f \n",
      "\t\t\t\t\t Round 1 Epoch: 1 | Iteration: 100/100 (100%) | Samples: 4800/4800\n",
      " \t\t\t\t\t Loss: \u001b[1m0.214393\u001b[0m \n",
      "\t\t\t\t\t ---------\n",
      "2023-06-21 09:02:51,984 fedbiomed INFO - \u001b[1mINFO\u001b[0m\n",
      "\t\t\t\t\t\u001b[1m NODE\u001b[0m node_cc8823f5-b234-447e-a41a-c2ad64a1072f\n",
      "\t\t\t\t\t\u001b[1m MESSAGE:\u001b[0m Encrypting model parameters. This process can take some time depending on model size.\u001b[0m\n",
      "-----------------------------------------------------------------\n",
      "2023-06-21 09:02:52,355 fedbiomed INFO - \u001b[1mTRAINING\u001b[0m \n",
      "\t\t\t\t\t NODE_ID: node_8d470259-46b9-46cd-adba-3d050899da73 \n",
      "\t\t\t\t\t Round 1 Epoch: 1 | Iteration: 100/100 (100%) | Samples: 4800/4800\n",
      " \t\t\t\t\t Loss: \u001b[1m0.437014\u001b[0m \n",
      "\t\t\t\t\t ---------\n",
      "2023-06-21 09:02:52,429 fedbiomed INFO - \u001b[1mINFO\u001b[0m\n",
      "\t\t\t\t\t\u001b[1m NODE\u001b[0m node_8d470259-46b9-46cd-adba-3d050899da73\n",
      "\t\t\t\t\t\u001b[1m MESSAGE:\u001b[0m Encrypting model parameters. This process can take some time depending on model size.\u001b[0m\n",
      "-----------------------------------------------------------------\n",
      "2023-06-21 09:03:46,709 fedbiomed INFO - \u001b[1mINFO\u001b[0m\n",
      "\t\t\t\t\t\u001b[1m NODE\u001b[0m node_cc8823f5-b234-447e-a41a-c2ad64a1072f\n",
      "\t\t\t\t\t\u001b[1m MESSAGE:\u001b[0m Pre-encryption is completed!\u001b[0m\n",
      "-----------------------------------------------------------------\n",
      "2023-06-21 09:03:46,749 fedbiomed INFO - \u001b[1mINFO\u001b[0m\n",
      "\t\t\t\t\t\u001b[1m NODE\u001b[0m node_cc8823f5-b234-447e-a41a-c2ad64a1072f\n",
      "\t\t\t\t\t\u001b[1m MESSAGE:\u001b[0m len(pre_encrypted): 17646\u001b[0m\n",
      "-----------------------------------------------------------------\n",
      "2023-06-21 09:03:46,814 fedbiomed INFO - \u001b[1mINFO\u001b[0m\n",
      "\t\t\t\t\t\u001b[1m NODE\u001b[0m node_8d470259-46b9-46cd-adba-3d050899da73\n",
      "\t\t\t\t\t\u001b[1m MESSAGE:\u001b[0m Pre-encryption is completed!\u001b[0m\n",
      "-----------------------------------------------------------------\n",
      "2023-06-21 09:03:46,855 fedbiomed INFO - \u001b[1mINFO\u001b[0m\n",
      "\t\t\t\t\t\u001b[1m NODE\u001b[0m node_8d470259-46b9-46cd-adba-3d050899da73\n",
      "\t\t\t\t\t\u001b[1m MESSAGE:\u001b[0m len(pre_encrypted): 17646\u001b[0m\n",
      "-----------------------------------------------------------------\n",
      "2023-06-21 09:03:48,163 fedbiomed INFO - \u001b[1mINFO\u001b[0m\n",
      "\t\t\t\t\t\u001b[1m NODE\u001b[0m node_cc8823f5-b234-447e-a41a-c2ad64a1072f\n",
      "\t\t\t\t\t\u001b[1m MESSAGE:\u001b[0m Encryption is completed!\u001b[0m\n",
      "-----------------------------------------------------------------\n",
      "2023-06-21 09:03:48,239 fedbiomed INFO - \u001b[1mINFO\u001b[0m\n",
      "\t\t\t\t\t\u001b[1m NODE\u001b[0m node_8d470259-46b9-46cd-adba-3d050899da73\n",
      "\t\t\t\t\t\u001b[1m MESSAGE:\u001b[0m Encryption is completed!\u001b[0m\n",
      "-----------------------------------------------------------------\n",
      "2023-06-21 09:03:48,439 fedbiomed INFO - \u001b[1mINFO\u001b[0m\n",
      "\t\t\t\t\t\u001b[1m NODE\u001b[0m node_cc8823f5-b234-447e-a41a-c2ad64a1072f\n",
      "\t\t\t\t\t\u001b[1m MESSAGE:\u001b[0m results uploaded successfully \u001b[0m\n",
      "-----------------------------------------------------------------\n",
      "2023-06-21 09:03:48,515 fedbiomed INFO - \u001b[1mINFO\u001b[0m\n",
      "\t\t\t\t\t\u001b[1m NODE\u001b[0m node_8d470259-46b9-46cd-adba-3d050899da73\n",
      "\t\t\t\t\t\u001b[1m MESSAGE:\u001b[0m results uploaded successfully \u001b[0m\n",
      "-----------------------------------------------------------------\n",
      "2023-06-21 09:03:55,194 fedbiomed INFO - Downloading model params after training on node_cc8823f5-b234-447e-a41a-c2ad64a1072f - from http://localhost:8844/media/uploads/2023/06/21/node_params_41298d0d-8fce-4400-af6c-8503aad6d16d.mpk\n",
      "2023-06-21 09:03:55,233 fedbiomed DEBUG - download of file node_params_f5961850-88ff-48bb-b713-1780564a212f.mpk successful, with status code 200\n",
      "2023-06-21 09:03:55,275 fedbiomed INFO - Downloading model params after training on node_8d470259-46b9-46cd-adba-3d050899da73 - from http://localhost:8844/media/uploads/2023/06/21/node_params_2387ce82-15fc-42de-b05e-6769d9caa1e7.mpk\n",
      "2023-06-21 09:03:55,291 fedbiomed DEBUG - download of file node_params_52ddbcbe-7640-4719-bc90-694905acd528.mpk successful, with status code 200\n",
      "2023-06-21 09:03:55,326 fedbiomed INFO - Nodes that successfully reply in round 0 ['node_cc8823f5-b234-447e-a41a-c2ad64a1072f', 'node_8d470259-46b9-46cd-adba-3d050899da73']\n",
      "2023-06-21 09:03:55,326 fedbiomed INFO - Validating secure aggregation results...\n",
      "2023-06-21 09:04:43,285 fedbiomed DEBUG - Aggregation is completed in 47.86 seconds.\n"
     ]
    },
    {
     "name": "stdout",
     "output_type": "stream",
     "text": [
      "\n",
      "--------------------\n",
      "Fed-BioMed researcher stopped due to exception:\n",
      "FB417: Secure aggregation error: Aggregation is failed due to incorrect decryption.\n",
      "--------------------\n"
     ]
    },
    {
     "ename": "FedbiomedSilentTerminationError",
     "evalue": "",
     "output_type": "error",
     "traceback": []
    }
   ],
   "source": [
    "exp.run(increase=True)"
   ]
  },
  {
   "cell_type": "markdown",
   "metadata": {},
   "source": [
    "Display context after running one round of training. "
   ]
  },
  {
   "cell_type": "code",
   "execution_count": null,
   "metadata": {},
   "outputs": [],
   "source": [
    "print(\"Secagg Biprime context: \", exp.secagg.biprime.context)\n",
    "print(\"Secagg Servkey context: \", exp.secagg.servkey.context)"
   ]
  },
  {
   "cell_type": "markdown",
   "metadata": {},
   "source": [
    "#### Changes in experiment triggers re-creation of secure aggregation context\n",
    "\n",
    "The changes that re-create jobs like adding new node to the experiment will trigger automatic secure aggregation re-setup for the next round.  "
   ]
  },
  {
   "cell_type": "code",
   "execution_count": null,
   "metadata": {},
   "outputs": [],
   "source": [
    "# sends new dataset search request\n",
    "from fedbiomed.researcher.strategies import DefaultStrategy\n",
    "from fedbiomed.researcher.aggregators.fedavg import FedAverage\n",
    "exp.set_training_data(None, True)\n",
    "exp.set_strategy(DefaultStrategy)\n",
    "exp.set_aggregator(FedAverage)\n",
    "exp.set_job()"
   ]
  },
  {
   "cell_type": "code",
   "execution_count": null,
   "metadata": {},
   "outputs": [],
   "source": [
    "exp.run_once(increase=True)"
   ]
  },
  {
   "cell_type": "markdown",
   "metadata": {},
   "source": [
    "### Changing arguments of secure aggregation"
   ]
  },
  {
   "cell_type": "markdown",
   "metadata": {},
   "source": [
    "Setting `secagg` argument `True` in `Experiment` creates a default `SecureAggregation` instance. Additionally, It is also possible to create `SecureAggregation` instance and pass it as an argument. Here are the arguments that can be set for the `SecureAggregation`\n",
    "\n",
    "- `active`: `True` if the round will use secure aggregation. Default is `True`\n",
    "- `clipping_range`: Clipping range that is goingto be use for quantization of model parameters. Default clipping range is `3`. However, some models can have model weigths greater than `3`. If clipping range is exceeded during the encryption on the nodes, `Experiment` will log a warning message. In such cases, you can provide a higher clipping range through the argument `clipping_range`.\n",
    "- `timeout`: Timeout is the maximum amount of time, in seconds, that the experiment will wait for responses from all parties during secure aggregation setup. Since secure aggregation context depends on network communication and multi-party computation, this argument allows to set higher timeout for larger context setups, or vice versa. "
   ]
  },
  {
   "cell_type": "code",
   "execution_count": null,
   "metadata": {},
   "outputs": [],
   "source": [
    "from fedbiomed.researcher.secagg import SecureAggregation\n",
    "secagg = SecureAggregation(\n",
    "    active=True, \n",
    "    clipping_range=100,\n",
    "    timeout=15\n",
    "    \n",
    ")\n",
    "exp.set_secagg(secagg=secagg)\n"
   ]
  },
  {
   "cell_type": "code",
   "execution_count": null,
   "metadata": {},
   "outputs": [],
   "source": [
    "exp.run_once(increase=True)"
   ]
  },
  {
   "cell_type": "markdown",
   "metadata": {},
   "source": [
    "### Load experiment from a breakpoint\n",
    "\n",
    "Once a breakpoint is loadded if the context is already exsiting there won't be context setup. "
   ]
  },
  {
   "cell_type": "code",
   "execution_count": null,
   "metadata": {
    "scrolled": false
   },
   "outputs": [],
   "source": [
    "loaded_exp = Experiment.load_breakpoint()\n",
    "loaded_exp.info()"
   ]
  },
  {
   "cell_type": "code",
   "execution_count": null,
   "metadata": {
    "pycharm": {
     "name": "#%%\n"
    },
    "scrolled": true
   },
   "outputs": [
    {
     "name": "stderr",
     "output_type": "stream",
     "text": [
      "2023-06-19 15:26:33,226 fedbiomed INFO - \u001b[1mCRITICAL\u001b[0m\n",
      "\t\t\t\t\t\u001b[1m NODE\u001b[0m node_8d470259-46b9-46cd-adba-3d050899da73\n",
      "\t\t\t\t\t\u001b[1m MESSAGE:\u001b[0m Node stopped in signal_handler, probably by user decision (Ctrl C)\u001b[0m\n",
      "-----------------------------------------------------------------\n",
      "2023-06-19 15:26:35,064 fedbiomed INFO - \u001b[1mCRITICAL\u001b[0m\n",
      "\t\t\t\t\t\u001b[1m NODE\u001b[0m node_cc8823f5-b234-447e-a41a-c2ad64a1072f\n",
      "\t\t\t\t\t\u001b[1m MESSAGE:\u001b[0m Node stopped in signal_handler, probably by user decision (Ctrl C)\u001b[0m\n",
      "-----------------------------------------------------------------\n",
      "2023-06-19 15:26:45,543 fedbiomed INFO - \u001b[1mINFO\u001b[0m\n",
      "\t\t\t\t\t\u001b[1m NODE\u001b[0m node_8d470259-46b9-46cd-adba-3d050899da73\n",
      "\t\t\t\t\t\u001b[1m MESSAGE:\u001b[0m Starting task manager\u001b[0m\n",
      "-----------------------------------------------------------------\n",
      "2023-06-19 15:26:53,902 fedbiomed INFO - \u001b[1mINFO\u001b[0m\n",
      "\t\t\t\t\t\u001b[1m NODE\u001b[0m node_cc8823f5-b234-447e-a41a-c2ad64a1072f\n",
      "\t\t\t\t\t\u001b[1m MESSAGE:\u001b[0m Starting task manager\u001b[0m\n",
      "-----------------------------------------------------------------\n"
     ]
    }
   ],
   "source": [
    "loaded_exp.run_once(increase=True)"
   ]
  },
  {
   "cell_type": "code",
   "execution_count": null,
   "metadata": {},
   "outputs": [],
   "source": []
  }
 ],
 "metadata": {
  "kernelspec": {
   "display_name": "Python 3 (ipykernel)",
   "language": "python",
   "name": "python3"
  },
  "language_info": {
   "codemirror_mode": {
    "name": "ipython",
    "version": 3
   },
   "file_extension": ".py",
   "mimetype": "text/x-python",
   "name": "python",
   "nbconvert_exporter": "python",
   "pygments_lexer": "ipython3",
   "version": "3.9.13"
  }
 },
 "nbformat": 4,
 "nbformat_minor": 4
}

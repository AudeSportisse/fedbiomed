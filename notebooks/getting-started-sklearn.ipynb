{
 "cells": [
  {
   "cell_type": "markdown",
   "id": "64e87007",
   "metadata": {},
   "source": [
    "# Fedbiomed Researcher to train a federated scikit learn model."
   ]
  },
  {
   "cell_type": "markdown",
   "id": "92e17d2f",
   "metadata": {},
   "source": [
    "## Purpose of the exercise :"
   ]
  },
  {
   "cell_type": "markdown",
   "id": "fb782b14",
   "metadata": {},
   "source": [
    "Three datasets n1.csv , n2.csv and n3.csv has been generated randomly using a linear transformation A = [ 5 8 9 5 0 ].\n",
    "We will fit a Stochastic Gradient Regressor to approximate this transformation using Federated Learning."
   ]
  },
  {
   "cell_type": "markdown",
   "id": "f4cf562e",
   "metadata": {},
   "source": [
    "## Extending this notebook to any incremental learning scikit model:\n",
    "\n",
    "The same federated learning scheme below applies to any sklearn model supporting the method partial_fit():"
   ]
  },
  {
   "cell_type": "markdown",
   "id": "ed98bbac",
   "metadata": {},
   "source": [
    "A family of models could be naturally imported in Fed-BioMed, following the same approach. For example: \n",
    "- Naive Bayes.  \n",
    "- Logistic regression,\n",
    "- SVM/SVC (linear and non-linear), \n",
    "- perceptron, \n",
    "- KMeans, \n",
    "- incremental PCA, \n",
    "- mini batch dictionary learning, \n",
    "- latent Dirichlet annotation, "
   ]
  },
  {
   "cell_type": "markdown",
   "id": "d39f160e",
   "metadata": {},
   "source": [
    "## Start the network and setting the client up\n",
    "Before running this notebook:\n",
    "1. You should start the network from fedbiomed-network, as detailed in :\n",
    "https://gitlab.inria.fr/fedbiomed/fedbiomed\n",
    "2. Download n1.csv, n2.csv and n3.csv to some place in your computer from https://gitlab.inria.fr/fedbiomed/fedbiomed/-/tree/develop/notebooks/data\n",
    "3. You need to configure at least 2 nodes: <br/>\n",
    "* **Node 1 :** `./scripts/fedbiomed_run node add`\n",
    "  * Select option 1 to add a csv file to the client\n",
    "  * Choose the name, tags and description of the dataset (you can write 'sk' always and it will be good)\n",
    "  * Pick the .csv file n1.csv .\n",
    "  * Check that your data has been added in node 1 by executing `./scripts/fedbiomed_run node list`\n",
    "  * Run the node using `./scripts/fedbiomed_run node start`. <br/>\n",
    "\n",
    "* **Node 2 :** Open a second terminal and run ./scripts/fedbiomed_run node add config n2.ini\n",
    "  * Select option 1 to add a csv file to the client\n",
    "  * Choose the name, tags and description of the dataset (you can write 'sk' always and it will be good)\n",
    "  * Pick the .csv file n2.csv .\n",
    "  * Check that your data has been added in node 2 by executing `./scripts/fedbiomed_run node list config n2.ini`\n",
    "  * Run the node using `./scripts/fedbiomed_run node start config n2.ini`.\n",
    "  \n",
    "* **Node 3 :** Open a second terminal and run ./scripts/fedbiomed_run node add config n3.ini\n",
    "  * Select option 1 to add a csv file to the client\n",
    "  * Choose the name, tags and description of the dataset (you can write 'sk' always and it will be good)\n",
    "  * Pick the .csv file n3.csv .\n",
    "  * Check that your data has been added in node 2 by executing `./scripts/fedbiomed_run node list config n3.ini`\n",
    "  * Run the node using `./scripts/fedbiomed_run node start config n3.ini`.\n",
    "\n",
    " Wait until you get `Connected with result code 0`. it means you are online.\n"
   ]
  },
  {
   "cell_type": "code",
   "execution_count": 1,
   "id": "ade4cbea",
   "metadata": {},
   "outputs": [],
   "source": [
    "%load_ext autoreload\n",
    "%autoreload 2"
   ]
  },
  {
   "cell_type": "code",
   "execution_count": 2,
   "id": "b8c80070",
   "metadata": {},
   "outputs": [],
   "source": [
    "import numpy as np\n",
    "from fedbiomed.researcher.environ import TMP_DIR\n",
    "import tempfile\n",
    "tmp_dir_model = tempfile.TemporaryDirectory(dir=TMP_DIR+'/')\n",
    "model_file = tmp_dir_model.name + '/fedbiosklearn.py'"
   ]
  },
  {
   "cell_type": "markdown",
   "id": "8e9aaa87",
   "metadata": {},
   "source": [
    "Hereafter the template of the class you should provide to Fedbiomed :\n",
    "\n",
    "**after_training_params** : a dictionnary containing the model parameters. \n",
    "In SGDRegressor case we will have coef and intercept. For kmeans that will be cluster_center and labels.\n",
    "       \n",
    "**training_step** : the most part of the time, it will be the method partial_fit, \n",
    "of a scikit incremental learning model. You can uncomment the prints in order to check the evolution of training.\n",
    "       \n",
    "**training_data** : you must return here the (X,y) that must be of the same type of \n",
    "your method partial_fit parameters. To simplify we dont use batch_size here, but the code should work if you want to train on a specific batch of the dataset. \n",
    "\n",
    "You can uncomment the prints in order to check the evolution of training."
   ]
  },
  {
   "cell_type": "code",
   "execution_count": 18,
   "id": "7ddb05e6",
   "metadata": {},
   "outputs": [
    {
     "data": {
      "text/plain": [
       "array([0., 0., 0.])"
      ]
     },
     "execution_count": 18,
     "metadata": {},
     "output_type": "execute_result"
    }
   ],
   "source": [
    "from sklearn.linear_model import SGDRegressor\n",
    "\n",
    "xxx = SGDRegressor()\n",
    "name = 'coef_'\n",
    "\n",
    "xxx.coef_=np.zeros(3)\n",
    "getattr(xxx, \"coef_\")"
   ]
  },
  {
   "cell_type": "code",
   "execution_count": 3,
   "id": "f10cc76c",
   "metadata": {},
   "outputs": [
    {
     "name": "stdout",
     "output_type": "stream",
     "text": [
      "Writing /Users/mlorenzi/works/temp/fedbiomed/var/tmp/tmpiysl6wlh/fedbiosklearn.py\n"
     ]
    }
   ],
   "source": [
    "%%writefile \"$model_file\"\n",
    "\n",
    "from fedbiomed.common.fedbiosklearn import SkLearnModel\n",
    "from sklearn.linear_model import SGDRegressor\n",
    "\n",
    "\n",
    "class SGDRegressorTrainingPlan(SkLearnModel):\n",
    "    def __init__(self, kwargs):\n",
    "        super(SGDRegressorTrainingPlan, self).__init__(kwargs)\n",
    "        self.add_dependency([\"from sklearn.linear_model import SGDRegressor\"])\n",
    "    \n",
    "    def after_training_params(self):\n",
    "        return {'coef_':  self.reg.coef_  , 'intercept_': self.reg.intercept_}\n",
    "    \n",
    "    def training_data(self,batch_size=None):\n",
    "        NUMBER_COLS = 5\n",
    "        dataset = pd.read_csv(self.dataset_path,header=None,delimiter=',')\n",
    "        if batch_size == None:\n",
    "            X = dataset.iloc[:,0:NUMBER_COLS].values\n",
    "            y = dataset.iloc[:,NUMBER_COLS]\n",
    "        else:\n",
    "            X = dataset.iloc[0:batch_size,0:NUMBER_COLS].values\n",
    "            y = dataset.iloc[0:batch_size,NUMBER_COLS]\n",
    "        #print('X type ', type(X), ' shape ', X.shape)       \n",
    "        #print('Y type ', type(y.values), ' shape ', len(y.values))\n",
    "        return (X,y.values)\n",
    "    "
   ]
  },
  {
   "cell_type": "markdown",
   "id": "69cda129",
   "metadata": {},
   "source": [
    "**model_args** is a dictionnary containing your model arguments, in case of SGDRegressor this will be max_iter and tol.\n",
    "\n",
    "**training_args** is a dictionnary with parameters , related to Federated Learning. "
   ]
  },
  {
   "cell_type": "code",
   "execution_count": 4,
   "id": "05aa5273",
   "metadata": {},
   "outputs": [],
   "source": [
    "model_args = { 'max_iter':1000, 'tol': 1e-3 , 'number_columns': 5 }\n",
    "\n",
    "training_args = {\n",
    "    'batch_size': None, \n",
    "    'lr': 1e-3, \n",
    "    'epochs': 5, \n",
    "    'dry_run': False,  \n",
    "    'batch_maxnum': 0\n",
    "}"
   ]
  },
  {
   "cell_type": "code",
   "execution_count": 5,
   "id": "4b1a1341",
   "metadata": {},
   "outputs": [
    {
     "name": "stdout",
     "output_type": "stream",
     "text": [
      "Messaging researcher_2311ff23-b8f9-4fb5-bdc8-dce4ecb4127b connected with result code 0\n",
      "Searching for clients with data tags: ['sk'] ...\n",
      "2021-08-24 19:03:33.328612 [ RESEARCHER ] message received. {'researcher_id': 'researcher_2311ff23-b8f9-4fb5-bdc8-dce4ecb4127b', 'success': True, 'databases': [{'name': 'sk', 'data_type': 'csv', 'tags': ['sk'], 'description': 'sk', 'shape': [49, 5], 'dataset_id': 'dataset_3b65fdec-7cb2-4847-8fc5-03ddcd00591b'}], 'count': 1, 'client_id': 'client_b3d83ca6-61ca-453e-afef-c2b58e95f052', 'command': 'search'}\n",
      "2021-08-24 19:03:33.330501 [ RESEARCHER ] message received. {'researcher_id': 'researcher_2311ff23-b8f9-4fb5-bdc8-dce4ecb4127b', 'success': True, 'databases': [{'name': 'sk', 'data_type': 'csv', 'tags': ['sk'], 'description': 'sk', 'shape': [9, 5], 'dataset_id': 'dataset_68225286-0895-48a3-83a6-e2cc98f93e43'}], 'count': 1, 'client_id': 'client_144cbbef-d114-4ff4-882d-74530fd08c7a', 'command': 'search'}\n",
      "2021-08-24 19:03:33.331607 [ RESEARCHER ] message received. {'researcher_id': 'researcher_2311ff23-b8f9-4fb5-bdc8-dce4ecb4127b', 'success': True, 'databases': [{'name': 'sk', 'data_type': 'csv', 'tags': ['sk'], 'description': 'sk', 'shape': [19, 5], 'dataset_id': 'dataset_7fc8fc03-e45d-4f0e-a354-b3d5574cb708'}], 'count': 1, 'client_id': 'client_a31be5d4-4e24-43f8-a3ad-1a99418b4020', 'command': 'search'}\n"
     ]
    }
   ],
   "source": [
    "from fedbiomed.researcher.experiment import Experiment\n",
    "from fedbiomed.researcher.aggregators.fedavg import FedAverage\n",
    "\n",
    "tags =  ['sk']\n",
    "rounds = 5\n",
    "\n",
    "exp = Experiment(tags=tags,\n",
    "                 #clients=None,\n",
    "                 model_path=model_file,\n",
    "                 model_args=model_args,\n",
    "                 model_class='SGDRegressorTrainingPlan',\n",
    "                 training_args=training_args,\n",
    "                 rounds=rounds,\n",
    "                 aggregator=FedAverage(),\n",
    "                 client_selection_strategy=None)"
   ]
  },
  {
   "cell_type": "code",
   "execution_count": 6,
   "id": "d6ff55da",
   "metadata": {},
   "outputs": [
    {
     "name": "stdout",
     "output_type": "stream",
     "text": [
      "Sampled clients in round  0   ['client_b3d83ca6-61ca-453e-afef-c2b58e95f052', 'client_144cbbef-d114-4ff4-882d-74530fd08c7a', 'client_a31be5d4-4e24-43f8-a3ad-1a99418b4020']\n",
      "[ RESEARCHER ] Send message to client  client_b3d83ca6-61ca-453e-afef-c2b58e95f052 {'researcher_id': 'researcher_2311ff23-b8f9-4fb5-bdc8-dce4ecb4127b', 'job_id': 'b5f6b0fd-31f0-4e06-b793-c1b184b98332', 'training_args': {'batch_size': None, 'lr': 0.001, 'epochs': 5, 'dry_run': False, 'batch_maxnum': 0}, 'model_args': {'max_iter': 1000, 'tol': 0.001, 'number_columns': 5}, 'command': 'train', 'model_url': 'http://localhost:8844/media/uploads/2021/08/24/my_model_6f559a2a-523e-445d-b492-bb51ae7d93cd.py', 'params_url': 'http://localhost:8844/media/uploads/2021/08/24/my_model_0d9bb45f-3c9c-472c-941e-8be357e43fcc.pt', 'model_class': 'SGDRegressorTrainingPlan', 'training_data': {'client_b3d83ca6-61ca-453e-afef-c2b58e95f052': ['dataset_3b65fdec-7cb2-4847-8fc5-03ddcd00591b']}}\n",
      "researcher_2311ff23-b8f9-4fb5-bdc8-dce4ecb4127b\n",
      "[ RESEARCHER ] Send message to client  client_144cbbef-d114-4ff4-882d-74530fd08c7a {'researcher_id': 'researcher_2311ff23-b8f9-4fb5-bdc8-dce4ecb4127b', 'job_id': 'b5f6b0fd-31f0-4e06-b793-c1b184b98332', 'training_args': {'batch_size': None, 'lr': 0.001, 'epochs': 5, 'dry_run': False, 'batch_maxnum': 0}, 'model_args': {'max_iter': 1000, 'tol': 0.001, 'number_columns': 5}, 'command': 'train', 'model_url': 'http://localhost:8844/media/uploads/2021/08/24/my_model_6f559a2a-523e-445d-b492-bb51ae7d93cd.py', 'params_url': 'http://localhost:8844/media/uploads/2021/08/24/my_model_0d9bb45f-3c9c-472c-941e-8be357e43fcc.pt', 'model_class': 'SGDRegressorTrainingPlan', 'training_data': {'client_144cbbef-d114-4ff4-882d-74530fd08c7a': ['dataset_68225286-0895-48a3-83a6-e2cc98f93e43']}}\n",
      "researcher_2311ff23-b8f9-4fb5-bdc8-dce4ecb4127b\n",
      "[ RESEARCHER ] Send message to client  client_a31be5d4-4e24-43f8-a3ad-1a99418b4020 {'researcher_id': 'researcher_2311ff23-b8f9-4fb5-bdc8-dce4ecb4127b', 'job_id': 'b5f6b0fd-31f0-4e06-b793-c1b184b98332', 'training_args': {'batch_size': None, 'lr': 0.001, 'epochs': 5, 'dry_run': False, 'batch_maxnum': 0}, 'model_args': {'max_iter': 1000, 'tol': 0.001, 'number_columns': 5}, 'command': 'train', 'model_url': 'http://localhost:8844/media/uploads/2021/08/24/my_model_6f559a2a-523e-445d-b492-bb51ae7d93cd.py', 'params_url': 'http://localhost:8844/media/uploads/2021/08/24/my_model_0d9bb45f-3c9c-472c-941e-8be357e43fcc.pt', 'model_class': 'SGDRegressorTrainingPlan', 'training_data': {'client_a31be5d4-4e24-43f8-a3ad-1a99418b4020': ['dataset_7fc8fc03-e45d-4f0e-a354-b3d5574cb708']}}\n",
      "researcher_2311ff23-b8f9-4fb5-bdc8-dce4ecb4127b\n",
      "2021-08-24 19:04:27.455940 [ RESEARCHER ] message received. {'researcher_id': 'researcher_2311ff23-b8f9-4fb5-bdc8-dce4ecb4127b', 'job_id': 'b5f6b0fd-31f0-4e06-b793-c1b184b98332', 'success': True, 'client_id': 'client_b3d83ca6-61ca-453e-afef-c2b58e95f052', 'dataset_id': 'dataset_3b65fdec-7cb2-4847-8fc5-03ddcd00591b', 'params_url': 'http://localhost:8844/media/uploads/2021/08/24/node_params_1e08fb58-ac46-4190-bd86-ab34c3fc0a36.pt', 'timing': {'rtime_training': 0.006040641000026881, 'ptime_training': 0.004221999999999948}, 'msg': '', 'command': 'train'}\n",
      "2021-08-24 19:04:27.484453 [ RESEARCHER ] message received. {'researcher_id': 'researcher_2311ff23-b8f9-4fb5-bdc8-dce4ecb4127b', 'job_id': 'b5f6b0fd-31f0-4e06-b793-c1b184b98332', 'success': True, 'client_id': 'client_a31be5d4-4e24-43f8-a3ad-1a99418b4020', 'dataset_id': 'dataset_7fc8fc03-e45d-4f0e-a354-b3d5574cb708', 'params_url': 'http://localhost:8844/media/uploads/2021/08/24/node_params_159a3ab1-1883-4d0b-9ddf-b895e4377be4.pt', 'timing': {'rtime_training': 0.006059847999949852, 'ptime_training': 0.004541000000000128}, 'msg': '', 'command': 'train'}\n",
      "2021-08-24 19:04:27.608720 [ RESEARCHER ] message received. {'researcher_id': 'researcher_2311ff23-b8f9-4fb5-bdc8-dce4ecb4127b', 'job_id': 'b5f6b0fd-31f0-4e06-b793-c1b184b98332', 'success': True, 'client_id': 'client_144cbbef-d114-4ff4-882d-74530fd08c7a', 'dataset_id': 'dataset_68225286-0895-48a3-83a6-e2cc98f93e43', 'params_url': 'http://localhost:8844/media/uploads/2021/08/24/node_params_b9335f54-7268-4fc9-9e06-81d677bd54a1.pt', 'timing': {'rtime_training': 0.006037161999984164, 'ptime_training': 0.004370999999999903}, 'msg': '', 'command': 'train'}\n",
      "Downloading model params after training on  client_b3d83ca6-61ca-453e-afef-c2b58e95f052 \n",
      "\t- from http://localhost:8844/media/uploads/2021/08/24/node_params_1e08fb58-ac46-4190-bd86-ab34c3fc0a36.pt\n",
      "Downloading model params after training on  client_a31be5d4-4e24-43f8-a3ad-1a99418b4020 \n",
      "\t- from http://localhost:8844/media/uploads/2021/08/24/node_params_159a3ab1-1883-4d0b-9ddf-b895e4377be4.pt\n",
      "Downloading model params after training on  client_144cbbef-d114-4ff4-882d-74530fd08c7a \n",
      "\t- from http://localhost:8844/media/uploads/2021/08/24/node_params_b9335f54-7268-4fc9-9e06-81d677bd54a1.pt\n",
      "Clients that successfully reply in round  0   ['client_b3d83ca6-61ca-453e-afef-c2b58e95f052', 'client_a31be5d4-4e24-43f8-a3ad-1a99418b4020', 'client_144cbbef-d114-4ff4-882d-74530fd08c7a']\n",
      "Sampled clients in round  1   ['client_b3d83ca6-61ca-453e-afef-c2b58e95f052', 'client_144cbbef-d114-4ff4-882d-74530fd08c7a', 'client_a31be5d4-4e24-43f8-a3ad-1a99418b4020']\n",
      "[ RESEARCHER ] Send message to client  client_b3d83ca6-61ca-453e-afef-c2b58e95f052 {'researcher_id': 'researcher_2311ff23-b8f9-4fb5-bdc8-dce4ecb4127b', 'job_id': 'b5f6b0fd-31f0-4e06-b793-c1b184b98332', 'training_args': {'batch_size': None, 'lr': 0.001, 'epochs': 5, 'dry_run': False, 'batch_maxnum': 0}, 'model_args': {'max_iter': 1000, 'tol': 0.001, 'number_columns': 5}, 'command': 'train', 'model_url': 'http://localhost:8844/media/uploads/2021/08/24/my_model_6f559a2a-523e-445d-b492-bb51ae7d93cd.py', 'params_url': 'http://localhost:8844/media/uploads/2021/08/24/researcher_params_59a7f2cf-0551-4579-84ab-ba999c5cd1b8.pt', 'model_class': 'SGDRegressorTrainingPlan', 'training_data': {'client_b3d83ca6-61ca-453e-afef-c2b58e95f052': ['dataset_3b65fdec-7cb2-4847-8fc5-03ddcd00591b']}}\n",
      "researcher_2311ff23-b8f9-4fb5-bdc8-dce4ecb4127b\n",
      "[ RESEARCHER ] Send message to client  client_144cbbef-d114-4ff4-882d-74530fd08c7a {'researcher_id': 'researcher_2311ff23-b8f9-4fb5-bdc8-dce4ecb4127b', 'job_id': 'b5f6b0fd-31f0-4e06-b793-c1b184b98332', 'training_args': {'batch_size': None, 'lr': 0.001, 'epochs': 5, 'dry_run': False, 'batch_maxnum': 0}, 'model_args': {'max_iter': 1000, 'tol': 0.001, 'number_columns': 5}, 'command': 'train', 'model_url': 'http://localhost:8844/media/uploads/2021/08/24/my_model_6f559a2a-523e-445d-b492-bb51ae7d93cd.py', 'params_url': 'http://localhost:8844/media/uploads/2021/08/24/researcher_params_59a7f2cf-0551-4579-84ab-ba999c5cd1b8.pt', 'model_class': 'SGDRegressorTrainingPlan', 'training_data': {'client_144cbbef-d114-4ff4-882d-74530fd08c7a': ['dataset_68225286-0895-48a3-83a6-e2cc98f93e43']}}\n",
      "researcher_2311ff23-b8f9-4fb5-bdc8-dce4ecb4127b\n",
      "[ RESEARCHER ] Send message to client  client_a31be5d4-4e24-43f8-a3ad-1a99418b4020 {'researcher_id': 'researcher_2311ff23-b8f9-4fb5-bdc8-dce4ecb4127b', 'job_id': 'b5f6b0fd-31f0-4e06-b793-c1b184b98332', 'training_args': {'batch_size': None, 'lr': 0.001, 'epochs': 5, 'dry_run': False, 'batch_maxnum': 0}, 'model_args': {'max_iter': 1000, 'tol': 0.001, 'number_columns': 5}, 'command': 'train', 'model_url': 'http://localhost:8844/media/uploads/2021/08/24/my_model_6f559a2a-523e-445d-b492-bb51ae7d93cd.py', 'params_url': 'http://localhost:8844/media/uploads/2021/08/24/researcher_params_59a7f2cf-0551-4579-84ab-ba999c5cd1b8.pt', 'model_class': 'SGDRegressorTrainingPlan', 'training_data': {'client_a31be5d4-4e24-43f8-a3ad-1a99418b4020': ['dataset_7fc8fc03-e45d-4f0e-a354-b3d5574cb708']}}\n",
      "researcher_2311ff23-b8f9-4fb5-bdc8-dce4ecb4127b\n",
      "2021-08-24 19:04:36.194788 [ RESEARCHER ] message received. {'researcher_id': 'researcher_2311ff23-b8f9-4fb5-bdc8-dce4ecb4127b', 'job_id': 'b5f6b0fd-31f0-4e06-b793-c1b184b98332', 'success': True, 'client_id': 'client_144cbbef-d114-4ff4-882d-74530fd08c7a', 'dataset_id': 'dataset_68225286-0895-48a3-83a6-e2cc98f93e43', 'params_url': 'http://localhost:8844/media/uploads/2021/08/24/node_params_0727e43b-deea-429d-a1d0-7b44565caae8.pt', 'timing': {'rtime_training': 0.005069409000014957, 'ptime_training': 0.005033000000000065}, 'msg': '', 'command': 'train'}\n",
      "2021-08-24 19:04:36.227786 [ RESEARCHER ] message received. {'researcher_id': 'researcher_2311ff23-b8f9-4fb5-bdc8-dce4ecb4127b', 'job_id': 'b5f6b0fd-31f0-4e06-b793-c1b184b98332', 'success': True, 'client_id': 'client_b3d83ca6-61ca-453e-afef-c2b58e95f052', 'dataset_id': 'dataset_3b65fdec-7cb2-4847-8fc5-03ddcd00591b', 'params_url': 'http://localhost:8844/media/uploads/2021/08/24/node_params_571c9878-c1e4-48c2-9ec6-69574f45e212.pt', 'timing': {'rtime_training': 0.0047275790000185225, 'ptime_training': 0.004658000000000051}, 'msg': '', 'command': 'train'}\n",
      "2021-08-24 19:04:36.257867 [ RESEARCHER ] message received. {'researcher_id': 'researcher_2311ff23-b8f9-4fb5-bdc8-dce4ecb4127b', 'job_id': 'b5f6b0fd-31f0-4e06-b793-c1b184b98332', 'success': True, 'client_id': 'client_a31be5d4-4e24-43f8-a3ad-1a99418b4020', 'dataset_id': 'dataset_7fc8fc03-e45d-4f0e-a354-b3d5574cb708', 'params_url': 'http://localhost:8844/media/uploads/2021/08/24/node_params_4d79c6c0-8bd9-49e7-9326-e5ed2e97ee51.pt', 'timing': {'rtime_training': 0.004784339999901022, 'ptime_training': 0.004701999999999984}, 'msg': '', 'command': 'train'}\n"
     ]
    },
    {
     "name": "stdout",
     "output_type": "stream",
     "text": [
      "Downloading model params after training on  client_144cbbef-d114-4ff4-882d-74530fd08c7a \n",
      "\t- from http://localhost:8844/media/uploads/2021/08/24/node_params_0727e43b-deea-429d-a1d0-7b44565caae8.pt\n",
      "Downloading model params after training on  client_b3d83ca6-61ca-453e-afef-c2b58e95f052 \n",
      "\t- from http://localhost:8844/media/uploads/2021/08/24/node_params_571c9878-c1e4-48c2-9ec6-69574f45e212.pt\n",
      "Downloading model params after training on  client_a31be5d4-4e24-43f8-a3ad-1a99418b4020 \n",
      "\t- from http://localhost:8844/media/uploads/2021/08/24/node_params_4d79c6c0-8bd9-49e7-9326-e5ed2e97ee51.pt\n",
      "Clients that successfully reply in round  1   ['client_144cbbef-d114-4ff4-882d-74530fd08c7a', 'client_b3d83ca6-61ca-453e-afef-c2b58e95f052', 'client_a31be5d4-4e24-43f8-a3ad-1a99418b4020']\n",
      "Sampled clients in round  2   ['client_b3d83ca6-61ca-453e-afef-c2b58e95f052', 'client_144cbbef-d114-4ff4-882d-74530fd08c7a', 'client_a31be5d4-4e24-43f8-a3ad-1a99418b4020']\n",
      "[ RESEARCHER ] Send message to client  client_b3d83ca6-61ca-453e-afef-c2b58e95f052 {'researcher_id': 'researcher_2311ff23-b8f9-4fb5-bdc8-dce4ecb4127b', 'job_id': 'b5f6b0fd-31f0-4e06-b793-c1b184b98332', 'training_args': {'batch_size': None, 'lr': 0.001, 'epochs': 5, 'dry_run': False, 'batch_maxnum': 0}, 'model_args': {'max_iter': 1000, 'tol': 0.001, 'number_columns': 5}, 'command': 'train', 'model_url': 'http://localhost:8844/media/uploads/2021/08/24/my_model_6f559a2a-523e-445d-b492-bb51ae7d93cd.py', 'params_url': 'http://localhost:8844/media/uploads/2021/08/24/researcher_params_d30dddfe-ba92-4808-956e-e6e1f8f79916.pt', 'model_class': 'SGDRegressorTrainingPlan', 'training_data': {'client_b3d83ca6-61ca-453e-afef-c2b58e95f052': ['dataset_3b65fdec-7cb2-4847-8fc5-03ddcd00591b']}}\n",
      "researcher_2311ff23-b8f9-4fb5-bdc8-dce4ecb4127b\n",
      "[ RESEARCHER ] Send message to client  client_144cbbef-d114-4ff4-882d-74530fd08c7a {'researcher_id': 'researcher_2311ff23-b8f9-4fb5-bdc8-dce4ecb4127b', 'job_id': 'b5f6b0fd-31f0-4e06-b793-c1b184b98332', 'training_args': {'batch_size': None, 'lr': 0.001, 'epochs': 5, 'dry_run': False, 'batch_maxnum': 0}, 'model_args': {'max_iter': 1000, 'tol': 0.001, 'number_columns': 5}, 'command': 'train', 'model_url': 'http://localhost:8844/media/uploads/2021/08/24/my_model_6f559a2a-523e-445d-b492-bb51ae7d93cd.py', 'params_url': 'http://localhost:8844/media/uploads/2021/08/24/researcher_params_d30dddfe-ba92-4808-956e-e6e1f8f79916.pt', 'model_class': 'SGDRegressorTrainingPlan', 'training_data': {'client_144cbbef-d114-4ff4-882d-74530fd08c7a': ['dataset_68225286-0895-48a3-83a6-e2cc98f93e43']}}\n",
      "researcher_2311ff23-b8f9-4fb5-bdc8-dce4ecb4127b\n",
      "[ RESEARCHER ] Send message to client  client_a31be5d4-4e24-43f8-a3ad-1a99418b4020 {'researcher_id': 'researcher_2311ff23-b8f9-4fb5-bdc8-dce4ecb4127b', 'job_id': 'b5f6b0fd-31f0-4e06-b793-c1b184b98332', 'training_args': {'batch_size': None, 'lr': 0.001, 'epochs': 5, 'dry_run': False, 'batch_maxnum': 0}, 'model_args': {'max_iter': 1000, 'tol': 0.001, 'number_columns': 5}, 'command': 'train', 'model_url': 'http://localhost:8844/media/uploads/2021/08/24/my_model_6f559a2a-523e-445d-b492-bb51ae7d93cd.py', 'params_url': 'http://localhost:8844/media/uploads/2021/08/24/researcher_params_d30dddfe-ba92-4808-956e-e6e1f8f79916.pt', 'model_class': 'SGDRegressorTrainingPlan', 'training_data': {'client_a31be5d4-4e24-43f8-a3ad-1a99418b4020': ['dataset_7fc8fc03-e45d-4f0e-a354-b3d5574cb708']}}\n",
      "researcher_2311ff23-b8f9-4fb5-bdc8-dce4ecb4127b\n",
      "2021-08-24 19:04:46.276215 [ RESEARCHER ] message received. {'researcher_id': 'researcher_2311ff23-b8f9-4fb5-bdc8-dce4ecb4127b', 'job_id': 'b5f6b0fd-31f0-4e06-b793-c1b184b98332', 'success': True, 'client_id': 'client_b3d83ca6-61ca-453e-afef-c2b58e95f052', 'dataset_id': 'dataset_3b65fdec-7cb2-4847-8fc5-03ddcd00591b', 'params_url': 'http://localhost:8844/media/uploads/2021/08/24/node_params_1a35547a-a44c-4716-a680-2ccac53696bd.pt', 'timing': {'rtime_training': 0.003962723999990203, 'ptime_training': 0.003950999999999816}, 'msg': '', 'command': 'train'}\n",
      "2021-08-24 19:04:46.322231 [ RESEARCHER ] message received. {'researcher_id': 'researcher_2311ff23-b8f9-4fb5-bdc8-dce4ecb4127b', 'job_id': 'b5f6b0fd-31f0-4e06-b793-c1b184b98332', 'success': True, 'client_id': 'client_a31be5d4-4e24-43f8-a3ad-1a99418b4020', 'dataset_id': 'dataset_7fc8fc03-e45d-4f0e-a354-b3d5574cb708', 'params_url': 'http://localhost:8844/media/uploads/2021/08/24/node_params_43b621d6-0263-4b89-8c67-1d90440b94e6.pt', 'timing': {'rtime_training': 0.00436808300003122, 'ptime_training': 0.004342999999999986}, 'msg': '', 'command': 'train'}\n",
      "2021-08-24 19:04:46.351920 [ RESEARCHER ] message received. {'researcher_id': 'researcher_2311ff23-b8f9-4fb5-bdc8-dce4ecb4127b', 'job_id': 'b5f6b0fd-31f0-4e06-b793-c1b184b98332', 'success': True, 'client_id': 'client_144cbbef-d114-4ff4-882d-74530fd08c7a', 'dataset_id': 'dataset_68225286-0895-48a3-83a6-e2cc98f93e43', 'params_url': 'http://localhost:8844/media/uploads/2021/08/24/node_params_a52a9a3c-e343-428d-a1f7-43d4622f77bf.pt', 'timing': {'rtime_training': 0.0047332559999802015, 'ptime_training': 0.004562000000000399}, 'msg': '', 'command': 'train'}\n",
      "Downloading model params after training on  client_b3d83ca6-61ca-453e-afef-c2b58e95f052 \n",
      "\t- from http://localhost:8844/media/uploads/2021/08/24/node_params_1a35547a-a44c-4716-a680-2ccac53696bd.pt\n",
      "Downloading model params after training on  client_a31be5d4-4e24-43f8-a3ad-1a99418b4020 \n",
      "\t- from http://localhost:8844/media/uploads/2021/08/24/node_params_43b621d6-0263-4b89-8c67-1d90440b94e6.pt\n",
      "Downloading model params after training on  client_144cbbef-d114-4ff4-882d-74530fd08c7a \n",
      "\t- from http://localhost:8844/media/uploads/2021/08/24/node_params_a52a9a3c-e343-428d-a1f7-43d4622f77bf.pt\n",
      "Clients that successfully reply in round  2   ['client_b3d83ca6-61ca-453e-afef-c2b58e95f052', 'client_a31be5d4-4e24-43f8-a3ad-1a99418b4020', 'client_144cbbef-d114-4ff4-882d-74530fd08c7a']\n",
      "Sampled clients in round  3   ['client_b3d83ca6-61ca-453e-afef-c2b58e95f052', 'client_144cbbef-d114-4ff4-882d-74530fd08c7a', 'client_a31be5d4-4e24-43f8-a3ad-1a99418b4020']\n",
      "[ RESEARCHER ] Send message to client  client_b3d83ca6-61ca-453e-afef-c2b58e95f052 {'researcher_id': 'researcher_2311ff23-b8f9-4fb5-bdc8-dce4ecb4127b', 'job_id': 'b5f6b0fd-31f0-4e06-b793-c1b184b98332', 'training_args': {'batch_size': None, 'lr': 0.001, 'epochs': 5, 'dry_run': False, 'batch_maxnum': 0}, 'model_args': {'max_iter': 1000, 'tol': 0.001, 'number_columns': 5}, 'command': 'train', 'model_url': 'http://localhost:8844/media/uploads/2021/08/24/my_model_6f559a2a-523e-445d-b492-bb51ae7d93cd.py', 'params_url': 'http://localhost:8844/media/uploads/2021/08/24/researcher_params_7f9318b0-e8a2-4876-ada4-571293132bd6.pt', 'model_class': 'SGDRegressorTrainingPlan', 'training_data': {'client_b3d83ca6-61ca-453e-afef-c2b58e95f052': ['dataset_3b65fdec-7cb2-4847-8fc5-03ddcd00591b']}}\n",
      "researcher_2311ff23-b8f9-4fb5-bdc8-dce4ecb4127b\n",
      "[ RESEARCHER ] Send message to client  client_144cbbef-d114-4ff4-882d-74530fd08c7a {'researcher_id': 'researcher_2311ff23-b8f9-4fb5-bdc8-dce4ecb4127b', 'job_id': 'b5f6b0fd-31f0-4e06-b793-c1b184b98332', 'training_args': {'batch_size': None, 'lr': 0.001, 'epochs': 5, 'dry_run': False, 'batch_maxnum': 0}, 'model_args': {'max_iter': 1000, 'tol': 0.001, 'number_columns': 5}, 'command': 'train', 'model_url': 'http://localhost:8844/media/uploads/2021/08/24/my_model_6f559a2a-523e-445d-b492-bb51ae7d93cd.py', 'params_url': 'http://localhost:8844/media/uploads/2021/08/24/researcher_params_7f9318b0-e8a2-4876-ada4-571293132bd6.pt', 'model_class': 'SGDRegressorTrainingPlan', 'training_data': {'client_144cbbef-d114-4ff4-882d-74530fd08c7a': ['dataset_68225286-0895-48a3-83a6-e2cc98f93e43']}}\n",
      "researcher_2311ff23-b8f9-4fb5-bdc8-dce4ecb4127b\n",
      "[ RESEARCHER ] Send message to client  client_a31be5d4-4e24-43f8-a3ad-1a99418b4020 {'researcher_id': 'researcher_2311ff23-b8f9-4fb5-bdc8-dce4ecb4127b', 'job_id': 'b5f6b0fd-31f0-4e06-b793-c1b184b98332', 'training_args': {'batch_size': None, 'lr': 0.001, 'epochs': 5, 'dry_run': False, 'batch_maxnum': 0}, 'model_args': {'max_iter': 1000, 'tol': 0.001, 'number_columns': 5}, 'command': 'train', 'model_url': 'http://localhost:8844/media/uploads/2021/08/24/my_model_6f559a2a-523e-445d-b492-bb51ae7d93cd.py', 'params_url': 'http://localhost:8844/media/uploads/2021/08/24/researcher_params_7f9318b0-e8a2-4876-ada4-571293132bd6.pt', 'model_class': 'SGDRegressorTrainingPlan', 'training_data': {'client_a31be5d4-4e24-43f8-a3ad-1a99418b4020': ['dataset_7fc8fc03-e45d-4f0e-a354-b3d5574cb708']}}\n",
      "researcher_2311ff23-b8f9-4fb5-bdc8-dce4ecb4127b\n",
      "2021-08-24 19:04:56.365315 [ RESEARCHER ] message received. {'researcher_id': 'researcher_2311ff23-b8f9-4fb5-bdc8-dce4ecb4127b', 'job_id': 'b5f6b0fd-31f0-4e06-b793-c1b184b98332', 'success': True, 'client_id': 'client_b3d83ca6-61ca-453e-afef-c2b58e95f052', 'dataset_id': 'dataset_3b65fdec-7cb2-4847-8fc5-03ddcd00591b', 'params_url': 'http://localhost:8844/media/uploads/2021/08/24/node_params_f24c86e6-25cc-488d-b0a3-9dd1bcce6448.pt', 'timing': {'rtime_training': 0.003846995000003517, 'ptime_training': 0.003846999999999934}, 'msg': '', 'command': 'train'}\n"
     ]
    },
    {
     "name": "stdout",
     "output_type": "stream",
     "text": [
      "2021-08-24 19:04:56.400946 [ RESEARCHER ] message received. {'researcher_id': 'researcher_2311ff23-b8f9-4fb5-bdc8-dce4ecb4127b', 'job_id': 'b5f6b0fd-31f0-4e06-b793-c1b184b98332', 'success': True, 'client_id': 'client_144cbbef-d114-4ff4-882d-74530fd08c7a', 'dataset_id': 'dataset_68225286-0895-48a3-83a6-e2cc98f93e43', 'params_url': 'http://localhost:8844/media/uploads/2021/08/24/node_params_47b2614a-00a6-46c9-8005-0aa53bd89277.pt', 'timing': {'rtime_training': 0.0034226679999846965, 'ptime_training': 0.003422999999999732}, 'msg': '', 'command': 'train'}\n",
      "2021-08-24 19:04:56.435884 [ RESEARCHER ] message received. {'researcher_id': 'researcher_2311ff23-b8f9-4fb5-bdc8-dce4ecb4127b', 'job_id': 'b5f6b0fd-31f0-4e06-b793-c1b184b98332', 'success': True, 'client_id': 'client_a31be5d4-4e24-43f8-a3ad-1a99418b4020', 'dataset_id': 'dataset_7fc8fc03-e45d-4f0e-a354-b3d5574cb708', 'params_url': 'http://localhost:8844/media/uploads/2021/08/24/node_params_c4026688-c4d0-4ed1-893b-fc0661552b7b.pt', 'timing': {'rtime_training': 0.00454024800001207, 'ptime_training': 0.004464999999999719}, 'msg': '', 'command': 'train'}\n",
      "Downloading model params after training on  client_b3d83ca6-61ca-453e-afef-c2b58e95f052 \n",
      "\t- from http://localhost:8844/media/uploads/2021/08/24/node_params_f24c86e6-25cc-488d-b0a3-9dd1bcce6448.pt\n",
      "Downloading model params after training on  client_144cbbef-d114-4ff4-882d-74530fd08c7a \n",
      "\t- from http://localhost:8844/media/uploads/2021/08/24/node_params_47b2614a-00a6-46c9-8005-0aa53bd89277.pt\n",
      "Downloading model params after training on  client_a31be5d4-4e24-43f8-a3ad-1a99418b4020 \n",
      "\t- from http://localhost:8844/media/uploads/2021/08/24/node_params_c4026688-c4d0-4ed1-893b-fc0661552b7b.pt\n",
      "Clients that successfully reply in round  3   ['client_b3d83ca6-61ca-453e-afef-c2b58e95f052', 'client_144cbbef-d114-4ff4-882d-74530fd08c7a', 'client_a31be5d4-4e24-43f8-a3ad-1a99418b4020']\n",
      "Sampled clients in round  4   ['client_b3d83ca6-61ca-453e-afef-c2b58e95f052', 'client_144cbbef-d114-4ff4-882d-74530fd08c7a', 'client_a31be5d4-4e24-43f8-a3ad-1a99418b4020']\n",
      "[ RESEARCHER ] Send message to client  client_b3d83ca6-61ca-453e-afef-c2b58e95f052 {'researcher_id': 'researcher_2311ff23-b8f9-4fb5-bdc8-dce4ecb4127b', 'job_id': 'b5f6b0fd-31f0-4e06-b793-c1b184b98332', 'training_args': {'batch_size': None, 'lr': 0.001, 'epochs': 5, 'dry_run': False, 'batch_maxnum': 0}, 'model_args': {'max_iter': 1000, 'tol': 0.001, 'number_columns': 5}, 'command': 'train', 'model_url': 'http://localhost:8844/media/uploads/2021/08/24/my_model_6f559a2a-523e-445d-b492-bb51ae7d93cd.py', 'params_url': 'http://localhost:8844/media/uploads/2021/08/24/researcher_params_7a0ca406-04d5-4b55-b48d-a4afa1e9e050.pt', 'model_class': 'SGDRegressorTrainingPlan', 'training_data': {'client_b3d83ca6-61ca-453e-afef-c2b58e95f052': ['dataset_3b65fdec-7cb2-4847-8fc5-03ddcd00591b']}}\n",
      "researcher_2311ff23-b8f9-4fb5-bdc8-dce4ecb4127b\n",
      "[ RESEARCHER ] Send message to client  client_144cbbef-d114-4ff4-882d-74530fd08c7a {'researcher_id': 'researcher_2311ff23-b8f9-4fb5-bdc8-dce4ecb4127b', 'job_id': 'b5f6b0fd-31f0-4e06-b793-c1b184b98332', 'training_args': {'batch_size': None, 'lr': 0.001, 'epochs': 5, 'dry_run': False, 'batch_maxnum': 0}, 'model_args': {'max_iter': 1000, 'tol': 0.001, 'number_columns': 5}, 'command': 'train', 'model_url': 'http://localhost:8844/media/uploads/2021/08/24/my_model_6f559a2a-523e-445d-b492-bb51ae7d93cd.py', 'params_url': 'http://localhost:8844/media/uploads/2021/08/24/researcher_params_7a0ca406-04d5-4b55-b48d-a4afa1e9e050.pt', 'model_class': 'SGDRegressorTrainingPlan', 'training_data': {'client_144cbbef-d114-4ff4-882d-74530fd08c7a': ['dataset_68225286-0895-48a3-83a6-e2cc98f93e43']}}\n",
      "researcher_2311ff23-b8f9-4fb5-bdc8-dce4ecb4127b\n",
      "[ RESEARCHER ] Send message to client  client_a31be5d4-4e24-43f8-a3ad-1a99418b4020 {'researcher_id': 'researcher_2311ff23-b8f9-4fb5-bdc8-dce4ecb4127b', 'job_id': 'b5f6b0fd-31f0-4e06-b793-c1b184b98332', 'training_args': {'batch_size': None, 'lr': 0.001, 'epochs': 5, 'dry_run': False, 'batch_maxnum': 0}, 'model_args': {'max_iter': 1000, 'tol': 0.001, 'number_columns': 5}, 'command': 'train', 'model_url': 'http://localhost:8844/media/uploads/2021/08/24/my_model_6f559a2a-523e-445d-b492-bb51ae7d93cd.py', 'params_url': 'http://localhost:8844/media/uploads/2021/08/24/researcher_params_7a0ca406-04d5-4b55-b48d-a4afa1e9e050.pt', 'model_class': 'SGDRegressorTrainingPlan', 'training_data': {'client_a31be5d4-4e24-43f8-a3ad-1a99418b4020': ['dataset_7fc8fc03-e45d-4f0e-a354-b3d5574cb708']}}\n",
      "researcher_2311ff23-b8f9-4fb5-bdc8-dce4ecb4127b\n",
      "2021-08-24 19:05:06.473417 [ RESEARCHER ] message received. {'researcher_id': 'researcher_2311ff23-b8f9-4fb5-bdc8-dce4ecb4127b', 'job_id': 'b5f6b0fd-31f0-4e06-b793-c1b184b98332', 'success': True, 'client_id': 'client_b3d83ca6-61ca-453e-afef-c2b58e95f052', 'dataset_id': 'dataset_3b65fdec-7cb2-4847-8fc5-03ddcd00591b', 'params_url': 'http://localhost:8844/media/uploads/2021/08/24/node_params_e7b44cdb-c6e3-4296-9061-00dda29c2895.pt', 'timing': {'rtime_training': 0.003748459999997067, 'ptime_training': 0.00371100000000002}, 'msg': '', 'command': 'train'}\n",
      "2021-08-24 19:05:06.509365 [ RESEARCHER ] message received. {'researcher_id': 'researcher_2311ff23-b8f9-4fb5-bdc8-dce4ecb4127b', 'job_id': 'b5f6b0fd-31f0-4e06-b793-c1b184b98332', 'success': True, 'client_id': 'client_a31be5d4-4e24-43f8-a3ad-1a99418b4020', 'dataset_id': 'dataset_7fc8fc03-e45d-4f0e-a354-b3d5574cb708', 'params_url': 'http://localhost:8844/media/uploads/2021/08/24/node_params_78b92d5e-ab8f-4576-a86e-dccec8b2983a.pt', 'timing': {'rtime_training': 0.0033617599999615777, 'ptime_training': 0.003354999999999997}, 'msg': '', 'command': 'train'}\n",
      "2021-08-24 19:05:06.540701 [ RESEARCHER ] message received. {'researcher_id': 'researcher_2311ff23-b8f9-4fb5-bdc8-dce4ecb4127b', 'job_id': 'b5f6b0fd-31f0-4e06-b793-c1b184b98332', 'success': True, 'client_id': 'client_144cbbef-d114-4ff4-882d-74530fd08c7a', 'dataset_id': 'dataset_68225286-0895-48a3-83a6-e2cc98f93e43', 'params_url': 'http://localhost:8844/media/uploads/2021/08/24/node_params_8dfb7fc5-33f4-41f2-a4b2-69858765721a.pt', 'timing': {'rtime_training': 0.004100534999992078, 'ptime_training': 0.00410099999999991}, 'msg': '', 'command': 'train'}\n",
      "Downloading model params after training on  client_b3d83ca6-61ca-453e-afef-c2b58e95f052 \n",
      "\t- from http://localhost:8844/media/uploads/2021/08/24/node_params_e7b44cdb-c6e3-4296-9061-00dda29c2895.pt\n",
      "Downloading model params after training on  client_a31be5d4-4e24-43f8-a3ad-1a99418b4020 \n",
      "\t- from http://localhost:8844/media/uploads/2021/08/24/node_params_78b92d5e-ab8f-4576-a86e-dccec8b2983a.pt\n",
      "Downloading model params after training on  client_144cbbef-d114-4ff4-882d-74530fd08c7a \n",
      "\t- from http://localhost:8844/media/uploads/2021/08/24/node_params_8dfb7fc5-33f4-41f2-a4b2-69858765721a.pt\n",
      "Clients that successfully reply in round  4   ['client_b3d83ca6-61ca-453e-afef-c2b58e95f052', 'client_a31be5d4-4e24-43f8-a3ad-1a99418b4020', 'client_144cbbef-d114-4ff4-882d-74530fd08c7a']\n"
     ]
    }
   ],
   "source": [
    "exp.run()"
   ]
  },
  {
   "cell_type": "markdown",
   "id": "88e2a782",
   "metadata": {},
   "source": [
    "## Lets build now a dataset test, **A** is the linear transformation that has been used to build the csv file datasets."
   ]
  },
  {
   "cell_type": "code",
   "execution_count": 7,
   "id": "35bdc3a2",
   "metadata": {},
   "outputs": [],
   "source": [
    "n_features = 5\n",
    "testing_samples = 40\n",
    "rng = np.random.RandomState(1)\n",
    "A = np.array([[5],\n",
    "       [8],\n",
    "       [9],\n",
    "       [5],\n",
    "       [0]])\n",
    "\n",
    "def test_data():\n",
    "    X_test = rng.randn(testing_samples, n_features).reshape([testing_samples, n_features])\n",
    "    y_test = X_test.dot(A) + rng.randn(testing_samples).reshape([testing_samples,1])\n",
    "    return X_test, y_test"
   ]
  },
  {
   "cell_type": "code",
   "execution_count": 8,
   "id": "91f579d5",
   "metadata": {},
   "outputs": [],
   "source": [
    "from sklearn.linear_model import SGDRegressor"
   ]
  },
  {
   "cell_type": "code",
   "execution_count": 9,
   "id": "05ca90a2",
   "metadata": {},
   "outputs": [],
   "source": [
    "X_test, y_test = test_data()"
   ]
  },
  {
   "cell_type": "markdown",
   "id": "63e6d380",
   "metadata": {},
   "source": [
    "The MSE should be decreasing at each iteration with the federated parameters."
   ]
  },
  {
   "cell_type": "code",
   "execution_count": 10,
   "id": "6edb32ed",
   "metadata": {},
   "outputs": [
    {
     "name": "stdout",
     "output_type": "stream",
     "text": [
      "MSE  54.06597495519943\n",
      "MSE  32.41711852046201\n",
      "MSE  15.00079364679299\n",
      "MSE  7.928485551844941\n",
      "MSE  4.627536226496672\n"
     ]
    }
   ],
   "source": [
    "testing_error = []\n",
    "\n",
    "for i in range(rounds):\n",
    "    fed_model = SGDRegressor(max_iter=1000, tol=1e-3)\n",
    "    fed_model.coef_ = exp._aggregated_params[i]['params']['coef_'].copy()\n",
    "    fed_model.intercept_ = exp._aggregated_params[i]['params']['intercept_'].copy()  \n",
    "    mse = np.mean((fed_model.predict(X_test).ravel() - y_test.ravel())**2)\n",
    "    print('MSE ', mse)\n",
    "    testing_error.append(mse)"
   ]
  },
  {
   "cell_type": "code",
   "execution_count": null,
   "id": "ddd8cf9e",
   "metadata": {},
   "outputs": [],
   "source": []
  }
 ],
 "metadata": {
  "kernelspec": {
   "display_name": "Python 3",
   "language": "python",
   "name": "python3"
  },
  "language_info": {
   "codemirror_mode": {
    "name": "ipython",
    "version": 3
   },
   "file_extension": ".py",
   "mimetype": "text/x-python",
   "name": "python",
   "nbconvert_exporter": "python",
   "pygments_lexer": "ipython3",
   "version": "3.9.5"
  }
 },
 "nbformat": 4,
 "nbformat_minor": 5
}

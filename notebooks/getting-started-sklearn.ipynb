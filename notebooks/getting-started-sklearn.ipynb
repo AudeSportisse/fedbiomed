{
 "cells": [
  {
   "cell_type": "code",
   "execution_count": 1,
   "id": "1965cef0",
   "metadata": {},
   "outputs": [],
   "source": [
    "%load_ext autoreload\n",
    "%autoreload 2"
   ]
  },
  {
   "cell_type": "code",
   "execution_count": 2,
   "id": "b8c80070",
   "metadata": {},
   "outputs": [],
   "source": [
    "import numpy as np\n",
    "from fedbiomed.researcher.environ import TMP_DIR\n",
    "import tempfile\n",
    "tmp_dir_model = tempfile.TemporaryDirectory(dir=TMP_DIR+'/')\n",
    "model_file = tmp_dir_model.name + '/fedbiosklearn.py'"
   ]
  },
  {
   "cell_type": "markdown",
   "id": "8e9aaa87",
   "metadata": {},
   "source": [
    "Customize params is an optional method needed when there is type difference between fedbiomed and the scikit learn \n",
    "framework. i.e fedbiomed uses json serialization to send list objects and scikit learn SGD Regressor parameters\n",
    "are of type numpy array."
   ]
  },
  {
   "cell_type": "code",
   "execution_count": 3,
   "id": "f10cc76c",
   "metadata": {},
   "outputs": [
    {
     "name": "stdout",
     "output_type": "stream",
     "text": [
      "Writing /home/jsaray/INRIA-PROJECTS/features/sklearn_integ_refactored/fedbiomed/var/tmp/tmpkfqw_wvu/fedbiosklearn.py\n"
     ]
    }
   ],
   "source": [
    "%%writefile \"$model_file\"\n",
    "\n",
    "from fedbiomed.common.fedbiosklearn import SkLearnModel\n",
    "from sklearn.linear_model import SGDRegressor\n",
    "\n",
    "\n",
    "class SGDRegressorTrainingPlan(SkLearnModel):\n",
    "    #TODO impact of kwargs ?, is it optional ????\n",
    "    def __init__(self, kwargs):\n",
    "        super(SGDRegressorTrainingPlan, self).__init__(kwargs)\n",
    "    \n",
    "    def after_training_params(self):\n",
    "        return {'coef_':  self.reg.coef_  , 'intercept_': self.reg.intercept_}\n",
    "    \n",
    "    def training_step(self,X,y):\n",
    "        print('INITIAL MODEL PARMS COEF ',self.reg.coef_ , ' INTERCEPT ', self.reg.intercept_ )\n",
    "        self.reg.partial_fit(X,y.ravel())\n",
    "        print('After training coef ', self.reg.coef_ , 'Intercept ',self.reg.intercept_ )\n",
    "    \n",
    "    def training_data(self,batch_size = 50):\n",
    "        dataset = pd.read_csv(self.dataset_path,header=None,delimiter=',')\n",
    "        X = dataset.iloc[:,0:5].values\n",
    "        print('X type ', type(X), ' shape ', X.shape)\n",
    "        y = dataset.iloc[:,5]\n",
    "        print('y type ', type(y.values), ' shape ', len(y.values))\n",
    "        return (X,y.values)\n",
    "    "
   ]
  },
  {
   "cell_type": "code",
   "execution_count": 4,
   "id": "05aa5273",
   "metadata": {},
   "outputs": [],
   "source": [
    "model_args = { 'max_iter':1000, 'tol': 1e-3  }\n",
    "\n",
    "training_args = {\n",
    "    'batch_size': 50, \n",
    "    'lr': 1e-3, \n",
    "    'epochs': 5, \n",
    "    'dry_run': False,  \n",
    "    'batch_maxnum': 100 # Fast pass for development : only use ( batch_maxnum * batch_size ) samples\n",
    "}"
   ]
  },
  {
   "cell_type": "code",
   "execution_count": 5,
   "id": "4b1a1341",
   "metadata": {},
   "outputs": [
    {
     "name": "stdout",
     "output_type": "stream",
     "text": [
      "Messaging researcher_75427fbd-9918-40b8-b35c-e4c5f103f2d0 connected with result code 0\n",
      "Searching for clients with data tags: ['sk'] ...\n",
      "Saving file  my_model.pt  with parameters coef  [0. 0. 0. 0. 0.]  intercept_  [0.0]\n"
     ]
    }
   ],
   "source": [
    "from fedbiomed.researcher.experiment import Experiment\n",
    "from fedbiomed.researcher.aggregators.fedavg import FedAverage\n",
    "\n",
    "tags =  ['sk']\n",
    "rounds = 5\n",
    "\n",
    "exp = Experiment(tags=tags,\n",
    "                 #clients=None,\n",
    "                 model_path=model_file,\n",
    "                 model_args=model_args,\n",
    "                 model_class='SGDRegressorTrainingPlan',\n",
    "                 training_args=training_args,\n",
    "                 rounds=rounds,\n",
    "                 aggregator=FedAverage(),\n",
    "                 client_selection_strategy=None)"
   ]
  },
  {
   "cell_type": "code",
   "execution_count": 6,
   "id": "d6ff55da",
   "metadata": {},
   "outputs": [
    {
     "name": "stdout",
     "output_type": "stream",
     "text": [
      "Sampled clients in round  0   ['client_679668a7-7233-4257-9fd7-243c3ef561a4', 'client_40f73bcb-4b43-4735-be6f-455f0c2cf759']\n",
      "researcher_75427fbd-9918-40b8-b35c-e4c5f103f2d0\n",
      "researcher_75427fbd-9918-40b8-b35c-e4c5f103f2d0\n",
      "Loaded coef - parms COEF (JOB)   with parameters coef  [-1.01449554  1.36640491  2.16449116  1.37427662  0.7144176 ]  intercept_  [1.00338427]\n",
      "Loaded coef - parms COEF (JOB)   with parameters coef  [ 2.34228408  4.35985108  4.93259153  3.01711382 -0.24907884]  intercept_  [-0.25255903]\n",
      "aggregated params  {'coef_': array([1.40436037, 3.52344701, 4.15915172, 2.55808578, 0.0201334 ]), 'intercept_': array([0.09836631])}\n",
      "Saving file  /home/jsaray/INRIA-PROJECTS/features/sklearn_integ_refactored/fedbiomed/var/tmp/researcher_params_00e3b7dd-21de-462b-b83e-4c20664b1128.pt  with parameters coef  [1.40436037 3.52344701 4.15915172 2.55808578 0.0201334 ]  intercept_  [0.09836631]\n",
      "Sampled clients in round  1   ['client_679668a7-7233-4257-9fd7-243c3ef561a4', 'client_40f73bcb-4b43-4735-be6f-455f0c2cf759']\n",
      "researcher_75427fbd-9918-40b8-b35c-e4c5f103f2d0\n",
      "researcher_75427fbd-9918-40b8-b35c-e4c5f103f2d0\n",
      "Loaded coef - parms COEF (JOB)   with parameters coef  [ 2.63742566  5.39051583  6.21337855  3.67597914 -0.0691643 ]  intercept_  [0.02411912]\n",
      "Loaded coef - parms COEF (JOB)   with parameters coef  [1.15856476 3.89571034 4.7610925  2.99128486 0.28848141]  intercept_  [0.3964883]\n",
      "aggregated params  {'coef_': array([1.57177589, 4.31337658, 5.16687831, 3.1825965 , 0.18855099]), 'intercept_': array([0.29244397])}\n",
      "Saving file  /home/jsaray/INRIA-PROJECTS/features/sklearn_integ_refactored/fedbiomed/var/tmp/researcher_params_edaf0a89-7fd2-4243-99f5-11b1666fb69d.pt  with parameters coef  [1.57177589 4.31337658 5.16687831 3.1825965  0.18855099]  intercept_  [0.29244397]\n",
      "Sampled clients in round  2   ['client_679668a7-7233-4257-9fd7-243c3ef561a4', 'client_40f73bcb-4b43-4735-be6f-455f0c2cf759']\n",
      "researcher_75427fbd-9918-40b8-b35c-e4c5f103f2d0\n",
      "researcher_75427fbd-9918-40b8-b35c-e4c5f103f2d0\n",
      "Loaded coef - parms COEF (JOB)   with parameters coef  [1.47194492 4.5512261  5.56576064 3.45974622 0.33730586]  intercept_  [0.43119174]\n",
      "Loaded coef - parms COEF (JOB)   with parameters coef  [2.6708116  5.77602393 6.7532035  3.97194846 0.07593442]  intercept_  [0.23235302]\n",
      "aggregated params  {'coef_': array([2.33583415, 5.43380101, 6.421418  , 3.82883313, 0.14896467]), 'intercept_': array([0.2879109])}\n",
      "Saving file  /home/jsaray/INRIA-PROJECTS/features/sklearn_integ_refactored/fedbiomed/var/tmp/researcher_params_69b39ddb-e7ab-4b67-8486-adfc730221f8.pt  with parameters coef  [2.33583415 5.43380101 6.421418   3.82883313 0.14896467]  intercept_  [0.2879109]\n",
      "Sampled clients in round  3   ['client_679668a7-7233-4257-9fd7-243c3ef561a4', 'client_40f73bcb-4b43-4735-be6f-455f0c2cf759']\n",
      "researcher_75427fbd-9918-40b8-b35c-e4c5f103f2d0\n",
      "researcher_75427fbd-9918-40b8-b35c-e4c5f103f2d0\n",
      "Loaded coef - parms COEF (JOB)   with parameters coef  [2.31131861 5.56218906 6.63561504 3.98423694 0.24289844]  intercept_  [0.34700281]\n",
      "Loaded coef - parms COEF (JOB)   with parameters coef  [3.11169416 6.38374843 7.39907001 4.29407028 0.08248631]  intercept_  [0.27249439]\n",
      "aggregated params  {'coef_': array([2.88805982, 6.15419508, 7.18575171, 4.2074992 , 0.12730735]), 'intercept_': array([0.29331292])}\n",
      "Saving file  /home/jsaray/INRIA-PROJECTS/features/sklearn_integ_refactored/fedbiomed/var/tmp/researcher_params_ac93e9ce-ae6c-46ea-9843-51912e9536ba.pt  with parameters coef  [2.88805982 6.15419508 7.18575171 4.2074992  0.12730735]  intercept_  [0.29331292]\n",
      "Sampled clients in round  4   ['client_679668a7-7233-4257-9fd7-243c3ef561a4', 'client_40f73bcb-4b43-4735-be6f-455f0c2cf759']\n",
      "researcher_75427fbd-9918-40b8-b35c-e4c5f103f2d0\n",
      "researcher_75427fbd-9918-40b8-b35c-e4c5f103f2d0\n",
      "Loaded coef - parms COEF (JOB)   with parameters coef  [3.45936245 6.81195572 7.83085322 4.50191804 0.08944724]  intercept_  [0.29205304]\n",
      "Loaded coef - parms COEF (JOB)   with parameters coef  [2.89707268 6.22769734 7.30679708 4.30114266 0.19235159]  intercept_  [0.31268732]\n",
      "aggregated params  {'coef_': array([3.05418306, 6.39094601, 7.45322453, 4.35724166, 0.16359891]), 'intercept_': array([0.30692186])}\n",
      "Saving file  /home/jsaray/INRIA-PROJECTS/features/sklearn_integ_refactored/fedbiomed/var/tmp/researcher_params_2485237c-70aa-4b11-9bc0-9ea744b848bd.pt  with parameters coef  [3.05418306 6.39094601 7.45322453 4.35724166 0.16359891]  intercept_  [0.30692186]\n"
     ]
    }
   ],
   "source": [
    "exp.run()"
   ]
  },
  {
   "cell_type": "code",
   "execution_count": 7,
   "id": "35bdc3a2",
   "metadata": {},
   "outputs": [],
   "source": [
    "n_features = 5\n",
    "testing_samples = 40\n",
    "rng = np.random.RandomState(1)\n",
    "A = np.array([[5],\n",
    "       [8],\n",
    "       [9],\n",
    "       [5],\n",
    "       [0]])\n",
    "def test_data():\n",
    "    X_test = rng.randn(testing_samples, n_features).reshape([testing_samples, n_features])\n",
    "    y_test = X_test.dot(A) + rng.randn(testing_samples).reshape([testing_samples,1])\n",
    "    return X_test, y_test"
   ]
  },
  {
   "cell_type": "code",
   "execution_count": 8,
   "id": "91f579d5",
   "metadata": {},
   "outputs": [],
   "source": [
    "from sklearn.linear_model import SGDRegressor"
   ]
  },
  {
   "cell_type": "code",
   "execution_count": 9,
   "id": "05ca90a2",
   "metadata": {},
   "outputs": [],
   "source": [
    "\n",
    "X_test, y_test = test_data()"
   ]
  },
  {
   "cell_type": "code",
   "execution_count": 10,
   "id": "4a7c36ef",
   "metadata": {},
   "outputs": [
    {
     "data": {
      "text/plain": [
       "(40, 5)"
      ]
     },
     "execution_count": 10,
     "metadata": {},
     "output_type": "execute_result"
    }
   ],
   "source": [
    "X_test.shape"
   ]
  },
  {
   "cell_type": "code",
   "execution_count": 11,
   "id": "5f789adf",
   "metadata": {},
   "outputs": [
    {
     "data": {
      "text/plain": [
       "(40, 1)"
      ]
     },
     "execution_count": 11,
     "metadata": {},
     "output_type": "execute_result"
    }
   ],
   "source": [
    "y_test.shape"
   ]
  },
  {
   "cell_type": "code",
   "execution_count": 11,
   "id": "3be512aa",
   "metadata": {},
   "outputs": [
    {
     "data": {
      "text/plain": [
       "({'coef_': array([-0.02739925,  0.0234013 , -0.01150177, -0.00410545,  0.41344659]),\n",
       "  'intercept_': array([0.04178598])},\n",
       " [0.27941176470588236, 0.7205882352941176])"
      ]
     },
     "execution_count": 11,
     "metadata": {},
     "output_type": "execute_result"
    }
   ],
   "source": [
    "( exp._aggregated_params[0]['params'] , exp._aggregated_params[0]['weights'] )"
   ]
  },
  {
   "cell_type": "code",
   "execution_count": 13,
   "id": "91f8fc2a",
   "metadata": {},
   "outputs": [
    {
     "data": {
      "text/plain": [
       "{'coef_': array([-0.03240349,  0.03181308, -0.01020819,  0.01679504,  0.56607199]),\n",
       " 'intercept_': array([0.07960475])}"
      ]
     },
     "execution_count": 13,
     "metadata": {},
     "output_type": "execute_result"
    }
   ],
   "source": [
    "exp._aggregated_params[1]['params']"
   ]
  },
  {
   "cell_type": "code",
   "execution_count": 14,
   "id": "e556299b",
   "metadata": {},
   "outputs": [
    {
     "data": {
      "text/plain": [
       "{'coef_': array([-0.03286285,  0.03248214, -0.00932428,  0.01935818,  0.65534029]),\n",
       " 'intercept_': array([0.09097783])}"
      ]
     },
     "execution_count": 14,
     "metadata": {},
     "output_type": "execute_result"
    }
   ],
   "source": [
    "exp._aggregated_params[2]['params']"
   ]
  },
  {
   "cell_type": "code",
   "execution_count": 15,
   "id": "9c746614",
   "metadata": {},
   "outputs": [
    {
     "data": {
      "text/plain": [
       "{'coef_': array([-3.52147691e-02,  2.57360185e-02, -6.31080165e-04,  4.84028682e-03,\n",
       "         7.41359561e-01]),\n",
       " 'intercept_': array([0.07079504])}"
      ]
     },
     "execution_count": 15,
     "metadata": {},
     "output_type": "execute_result"
    }
   ],
   "source": [
    "exp._aggregated_params[3]['params']"
   ]
  },
  {
   "cell_type": "code",
   "execution_count": 16,
   "id": "03767a83",
   "metadata": {},
   "outputs": [
    {
     "data": {
      "text/plain": [
       "{'coef_': array([-0.03459867,  0.02048709,  0.00353996, -0.00253229,  0.80389615]),\n",
       " 'intercept_': array([0.05667927])}"
      ]
     },
     "execution_count": 16,
     "metadata": {},
     "output_type": "execute_result"
    }
   ],
   "source": [
    "exp._aggregated_params[4]['params']"
   ]
  },
  {
   "cell_type": "code",
   "execution_count": 12,
   "id": "45e972cd",
   "metadata": {},
   "outputs": [],
   "source": [
    "import matplotlib.pyplot as plt"
   ]
  },
  {
   "cell_type": "code",
   "execution_count": 10,
   "id": "6edb32ed",
   "metadata": {},
   "outputs": [
    {
     "name": "stdout",
     "output_type": "stream",
     "text": [
      "139757150180064\n",
      "MSE  54.240592733561904\n",
      "139757150620352\n",
      "MSE  36.78866327899565\n",
      "139757150621168\n",
      "MSE  18.65328969207578\n",
      "139757150618912\n",
      "MSE  10.613543402156429\n",
      "139757150180112\n",
      "MSE  8.580333296143738\n"
     ]
    }
   ],
   "source": [
    "testing_error = []\n",
    "\n",
    "for i in range(rounds):\n",
    "    fed_model = SGDRegressor(max_iter=1000, tol=1e-3)\n",
    "    print(id(fed_model))\n",
    "    fed_model.coef_ = exp._aggregated_params[i]['params']['coef_'].copy()\n",
    "    fed_model.intercept_ = exp._aggregated_params[i]['params']['intercept_'].copy()\n",
    "    \n",
    "    mse = np.mean((fed_model.predict(X_test).ravel() - y_test.ravel())**2)\n",
    "    print('MSE ', mse)\n",
    "    testing_error.append(mse)"
   ]
  },
  {
   "cell_type": "code",
   "execution_count": 12,
   "id": "fb56d753",
   "metadata": {},
   "outputs": [
    {
     "data": {
      "text/plain": [
       "[54.240592733561904,\n",
       " 36.78866327899565,\n",
       " 18.65328969207578,\n",
       " 10.613543402156429,\n",
       " 8.580333296143738]"
      ]
     },
     "execution_count": 12,
     "metadata": {},
     "output_type": "execute_result"
    }
   ],
   "source": [
    "testing_error"
   ]
  },
  {
   "cell_type": "code",
   "execution_count": 11,
   "id": "f0623066",
   "metadata": {},
   "outputs": [
    {
     "ename": "NameError",
     "evalue": "name 'plt' is not defined",
     "output_type": "error",
     "traceback": [
      "\u001b[0;31m---------------------------------------------------------------------------\u001b[0m",
      "\u001b[0;31mNameError\u001b[0m                                 Traceback (most recent call last)",
      "\u001b[0;32m<ipython-input-11-0533f585f604>\u001b[0m in \u001b[0;36m<module>\u001b[0;34m\u001b[0m\n\u001b[0;32m----> 1\u001b[0;31m \u001b[0mplt\u001b[0m\u001b[0;34m.\u001b[0m\u001b[0mplot\u001b[0m\u001b[0;34m(\u001b[0m\u001b[0mtesting_error\u001b[0m\u001b[0;34m,\u001b[0m \u001b[0mlabel\u001b[0m \u001b[0;34m=\u001b[0m \u001b[0;34m'federated test error'\u001b[0m\u001b[0;34m)\u001b[0m\u001b[0;34m\u001b[0m\u001b[0;34m\u001b[0m\u001b[0m\n\u001b[0m\u001b[1;32m      2\u001b[0m \u001b[0mplt\u001b[0m\u001b[0;34m.\u001b[0m\u001b[0mhlines\u001b[0m\u001b[0;34m(\u001b[0m\u001b[0mnp\u001b[0m\u001b[0;34m.\u001b[0m\u001b[0mmean\u001b[0m\u001b[0;34m(\u001b[0m\u001b[0;34m(\u001b[0m\u001b[0mX_test\u001b[0m\u001b[0;34m.\u001b[0m\u001b[0mdot\u001b[0m\u001b[0;34m(\u001b[0m\u001b[0mA\u001b[0m\u001b[0;34m)\u001b[0m\u001b[0;34m.\u001b[0m\u001b[0mravel\u001b[0m\u001b[0;34m(\u001b[0m\u001b[0;34m)\u001b[0m \u001b[0;34m-\u001b[0m \u001b[0my_test\u001b[0m\u001b[0;34m.\u001b[0m\u001b[0mravel\u001b[0m\u001b[0;34m(\u001b[0m\u001b[0;34m)\u001b[0m\u001b[0;34m)\u001b[0m\u001b[0;34m**\u001b[0m\u001b[0;36m2\u001b[0m\u001b[0;34m)\u001b[0m\u001b[0;34m,\u001b[0m \u001b[0;36m0\u001b[0m\u001b[0;34m,\u001b[0m \u001b[0mN_rounds\u001b[0m\u001b[0;34m-\u001b[0m\u001b[0;36m1\u001b[0m\u001b[0;34m,\u001b[0m \u001b[0mcolor\u001b[0m \u001b[0;34m=\u001b[0m \u001b[0;34m'red'\u001b[0m\u001b[0;34m,\u001b[0m \u001b[0malpha\u001b[0m \u001b[0;34m=\u001b[0m \u001b[0;36m0.7\u001b[0m\u001b[0;34m,\u001b[0m \u001b[0mlabel\u001b[0m \u001b[0;34m=\u001b[0m \u001b[0;34m'ground truth'\u001b[0m\u001b[0;34m)\u001b[0m\u001b[0;34m\u001b[0m\u001b[0;34m\u001b[0m\u001b[0m\n\u001b[1;32m      3\u001b[0m \u001b[0mplt\u001b[0m\u001b[0;34m.\u001b[0m\u001b[0mxlabel\u001b[0m\u001b[0;34m(\u001b[0m\u001b[0;34m'Round'\u001b[0m\u001b[0;34m)\u001b[0m\u001b[0;34m\u001b[0m\u001b[0;34m\u001b[0m\u001b[0m\n\u001b[1;32m      4\u001b[0m \u001b[0mplt\u001b[0m\u001b[0;34m.\u001b[0m\u001b[0mlegend\u001b[0m\u001b[0;34m(\u001b[0m\u001b[0;34m)\u001b[0m\u001b[0;34m\u001b[0m\u001b[0;34m\u001b[0m\u001b[0m\n",
      "\u001b[0;31mNameError\u001b[0m: name 'plt' is not defined"
     ]
    }
   ],
   "source": [
    "plt.plot(testing_error, label = 'federated test error')\n",
    "plt.hlines(np.mean((X_test.dot(A).ravel() - y_test.ravel())**2), 0, N_rounds-1, color = 'red', alpha = 0.7, label = 'ground truth')\n",
    "plt.xlabel('Round')\n",
    "plt.legend()"
   ]
  },
  {
   "cell_type": "code",
   "execution_count": 10,
   "id": "48bda26a",
   "metadata": {},
   "outputs": [
    {
     "data": {
      "text/plain": [
       "array([-0.08835477, -0.02177115,  0.09723794,  0.03879841,  0.00388391])"
      ]
     },
     "execution_count": 10,
     "metadata": {},
     "output_type": "execute_result"
    }
   ],
   "source": [
    "exp._aggregated_params[0]['params']['coef_']"
   ]
  },
  {
   "cell_type": "code",
   "execution_count": 11,
   "id": "b6ec73b2",
   "metadata": {},
   "outputs": [
    {
     "data": {
      "text/plain": [
       "array([-0.0857399 , -0.02418705,  0.09421684,  0.04130261,  0.00110738])"
      ]
     },
     "execution_count": 11,
     "metadata": {},
     "output_type": "execute_result"
    }
   ],
   "source": [
    "exp._aggregated_params[1]['params']['coef_']"
   ]
  },
  {
   "cell_type": "code",
   "execution_count": 12,
   "id": "c5ef21b8",
   "metadata": {},
   "outputs": [
    {
     "data": {
      "text/plain": [
       "array([-0.08628797, -0.02662039,  0.09914285,  0.04398299,  0.00211929])"
      ]
     },
     "execution_count": 12,
     "metadata": {},
     "output_type": "execute_result"
    }
   ],
   "source": [
    "exp._aggregated_params[2]['params']['coef_']"
   ]
  },
  {
   "cell_type": "code",
   "execution_count": 13,
   "id": "4abc0113",
   "metadata": {},
   "outputs": [
    {
     "data": {
      "text/plain": [
       "array([-0.0876811 , -0.02231482,  0.09693187,  0.04262923,  0.00136258])"
      ]
     },
     "execution_count": 13,
     "metadata": {},
     "output_type": "execute_result"
    }
   ],
   "source": [
    "exp._aggregated_params[3]['params']['coef_']"
   ]
  },
  {
   "cell_type": "code",
   "execution_count": null,
   "id": "623d2f33",
   "metadata": {},
   "outputs": [],
   "source": [
    "exp._aggregated_params[1]['params']['coef_']"
   ]
  },
  {
   "cell_type": "code",
   "execution_count": null,
   "id": "a2ffa0e4",
   "metadata": {},
   "outputs": [],
   "source": [
    "exp._aggregated_params[1]['params']['coef_']"
   ]
  },
  {
   "cell_type": "code",
   "execution_count": 8,
   "id": "627783e8",
   "metadata": {},
   "outputs": [
    {
     "data": {
      "text/plain": [
       "{'params': {'coef_': array([-0.09106583, -0.02673528,  0.09718337,  0.04359848, -0.00150982]),\n",
       "  'intercept_': array([0.02567093])},\n",
       " 'params_path': '/home/jsaray/INRIA-PROJECTS/features/sklearn_integ_refactored/fedbiomed/var/tmp/researcher_params_b98dd684-2020-4337-a061-0e1f7989c33d.pt'}"
      ]
     },
     "execution_count": 8,
     "metadata": {},
     "output_type": "execute_result"
    }
   ],
   "source": [
    "exp._aggregated_params[1]"
   ]
  },
  {
   "cell_type": "code",
   "execution_count": 9,
   "id": "c34975a4",
   "metadata": {},
   "outputs": [
    {
     "data": {
      "text/plain": [
       "{'params': {'coef_': array([-0.08315385, -0.02271357,  0.09840193,  0.04169297,  0.00091099]),\n",
       "  'intercept_': array([0.02895132])},\n",
       " 'params_path': '/home/jsaray/INRIA-PROJECTS/features/sklearn_integ_refactored/fedbiomed/var/tmp/researcher_params_e4a565be-dfe9-42a3-8d45-96915f403bd7.pt'}"
      ]
     },
     "execution_count": 9,
     "metadata": {},
     "output_type": "execute_result"
    }
   ],
   "source": [
    "exp._aggregated_params[2]"
   ]
  },
  {
   "cell_type": "code",
   "execution_count": null,
   "id": "97a2ddd1",
   "metadata": {},
   "outputs": [],
   "source": []
  },
  {
   "cell_type": "code",
   "execution_count": null,
   "id": "35404ceb",
   "metadata": {},
   "outputs": [],
   "source": [
    "%%writefile \"$model_file\"\n",
    "\n",
    "from fedbiomed.common.fedbiosklearn import SkLearnModel\n",
    "from sklearn.linear_model import SGDRegressor\n",
    "\n",
    "\n",
    "class SGDRegressorTrainingPlan(SkLearnModel):\n",
    "    #TODO impact of kwargs ?, is it optional ????\n",
    "    def __init__(self, kwargs):\n",
    "        super(SGDRegressorTrainingPlan, self).__init__()\n",
    "        self.reg = SGDRegressor(max_iter=kwargs['max_iter'], tol=kwargs['tol'])  \n",
    "        if(kwargs.get('coef_') is not None and kwargs.get('intercept_') is not None):\n",
    "            if isinstance(kwargs['coef_'],list) and isinstance(kwargs['intercept_'],list):\n",
    "                self.reg.coef_ = np.array(kwargs['coef_'])\n",
    "                self.reg.intercept_ = np.array(kwargs['intercept_'])\n",
    "    \n",
    "    \n",
    "    def customize_params(self,kwargs):\n",
    "        \n",
    "    \n",
    "    def after_training_params(self):\n",
    "        return {'coef_':  self.reg.coef_  , 'intercept_': self.reg.intercept_}\n",
    "    \n",
    "    def training_step(self,X,y):\n",
    "        self.reg.partial_fit(X,y)\n",
    "        print('After training coef ', self.reg.coef_ , 'Intercept ',self.reg.intercept_ )\n",
    "    \n",
    "    def training_data(self,batch_size = 48):\n",
    "        n_samples, n_features = 100, 5\n",
    "        testing_samples = 40\n",
    "\n",
    "        ### Creating a random dataset\n",
    "        rng = np.random.RandomState(1)\n",
    "\n",
    "        y = []\n",
    "        X = []\n",
    "\n",
    "        ### Creating a random linear transformation\n",
    "        A = rng.randint(0,10,size = n_features).reshape([n_features,1])\n",
    "\n",
    "        ### For every center we create random X and y dataset with same generative rule (the matrix A)\n",
    "\n",
    "        X = rng.randn(n_samples, n_features)\n",
    "        y = rng.randn(n_samples)\n",
    "        print('X shape' , X.shape , 'y shape', y.shape)\n",
    "        return (X,y)"
   ]
  }
 ],
 "metadata": {
  "kernelspec": {
   "display_name": "Python 3",
   "language": "python",
   "name": "python3"
  },
  "language_info": {
   "codemirror_mode": {
    "name": "ipython",
    "version": 3
   },
   "file_extension": ".py",
   "mimetype": "text/x-python",
   "name": "python",
   "nbconvert_exporter": "python",
   "pygments_lexer": "ipython3",
   "version": "3.9.5"
  }
 },
 "nbformat": 4,
 "nbformat_minor": 5
}

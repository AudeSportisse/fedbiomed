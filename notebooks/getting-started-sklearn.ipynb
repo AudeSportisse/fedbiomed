{
 "cells": [
  {
   "cell_type": "code",
   "execution_count": 1,
   "id": "1965cef0",
   "metadata": {},
   "outputs": [],
   "source": [
    "%load_ext autoreload\n",
    "%autoreload 2"
   ]
  },
  {
   "cell_type": "code",
   "execution_count": 2,
   "id": "b8c80070",
   "metadata": {},
   "outputs": [],
   "source": [
    "import numpy as np\n",
    "from fedbiomed.researcher.environ import TMP_DIR\n",
    "import tempfile\n",
    "tmp_dir_model = tempfile.TemporaryDirectory(dir=TMP_DIR+'/')\n",
    "model_file = tmp_dir_model.name + '/fedbiosklearn.py'"
   ]
  },
  {
   "cell_type": "markdown",
   "id": "8e9aaa87",
   "metadata": {},
   "source": [
    "Customize params is an optional method needed when there is type difference between fedbiomed and the scikit learn \n",
    "framework. i.e fedbiomed uses json serialization to send list objects and scikit learn SGD Regressor parameters\n",
    "are of type numpy array."
   ]
  },
  {
   "cell_type": "code",
   "execution_count": 3,
   "id": "f10cc76c",
   "metadata": {},
   "outputs": [
    {
     "name": "stdout",
     "output_type": "stream",
     "text": [
      "Writing /user/jsaray/home/INRIA-PROJECTS/features/sklearn_integ_refactored/fedbiomed/var/tmp/tmpsy9v_yki/fedbiosklearn.py\n"
     ]
    }
   ],
   "source": [
    "%%writefile \"$model_file\"\n",
    "\n",
    "from fedbiomed.common.fedbiosklearn import SkLearnModel\n",
    "from sklearn.linear_model import SGDRegressor\n",
    "\n",
    "\n",
    "class SGDRegressorTrainingPlan(SkLearnModel):\n",
    "    #TODO impact of kwargs ?, is it optional ????\n",
    "    def __init__(self, kwargs):\n",
    "        super(SGDRegressorTrainingPlan, self).__init__(kwargs)\n",
    "    \n",
    "    def after_training_params(self):\n",
    "        return {'coef_':  self.reg.coef_  , 'intercept_': self.reg.intercept_}\n",
    "    \n",
    "    def training_step(self,X,y):\n",
    "        self.reg.partial_fit(X,y)\n",
    "        print('After training coef ', self.reg.coef_ , 'Intercept ',self.reg.intercept_ )\n",
    "    \n",
    "    def training_data(self,batch_size = 50):\n",
    "        dataset = pd.read_csv(self.dataset_path,header=None,delimiter=',')\n",
    "        X = dataset.iloc[:,0:5].values\n",
    "        print('Rendering X ' , X , ' type ', type(X))\n",
    "        y = dataset.iloc[:,4]\n",
    "        print('Rendering y ' , y , ' type ', type(y.values))\n",
    "        return (X,y.values)\n",
    "    "
   ]
  },
  {
   "cell_type": "code",
   "execution_count": 4,
   "id": "05aa5273",
   "metadata": {},
   "outputs": [],
   "source": [
    "model_args = { 'max_iter':1000, 'tol': 1e-3  }\n",
    "\n",
    "training_args = {\n",
    "    'batch_size': 50, \n",
    "    'lr': 1e-3, \n",
    "    'epochs': 5, \n",
    "    'dry_run': False,  \n",
    "    'batch_maxnum': 100 # Fast pass for development : only use ( batch_maxnum * batch_size ) samples\n",
    "}"
   ]
  },
  {
   "cell_type": "code",
   "execution_count": 5,
   "id": "4b1a1341",
   "metadata": {},
   "outputs": [
    {
     "name": "stdout",
     "output_type": "stream",
     "text": [
      "Messaging researcher_fe36f64f-19e5-4500-87c4-31604ef82c2f connected with result code 0\n",
      "Searching for clients with data tags: ['skid'] ...\n",
      "2021-08-16 17:41:23.636770 [ RESEARCHER ] message received. {'researcher_id': 'researcher_fe36f64f-19e5-4500-87c4-31604ef82c2f', 'success': True, 'databases': [{'name': 'skid', 'data_type': 'csv', 'tags': ['skid'], 'description': 'skid', 'shape': [49, 5], 'dataset_id': 'dataset_ab47a8e2-cb45-4312-a01f-f61332439724'}], 'count': 1, 'client_id': 'client_d43ec19d-4af1-4b83-9f07-301afdf280fb', 'command': 'search'}\n",
      "2021-08-16 17:41:23.637488 [ RESEARCHER ] message received. {'researcher_id': 'researcher_fe36f64f-19e5-4500-87c4-31604ef82c2f', 'success': True, 'databases': [{'name': 'skid', 'data_type': 'csv', 'tags': ['skid'], 'description': 'skid', 'shape': [49, 5], 'dataset_id': 'dataset_7759ce82-72b2-4a66-9f78-0d2a65ceb231'}], 'count': 1, 'client_id': 'client_bd048510-59be-4861-9ab4-056ba17da12c', 'command': 'search'}\n",
      "saving without any params \n"
     ]
    }
   ],
   "source": [
    "from fedbiomed.researcher.experiment import Experiment\n",
    "from fedbiomed.researcher.aggregators.fedavg import FedAverage\n",
    "\n",
    "tags =  ['skid']\n",
    "rounds = 5\n",
    "\n",
    "exp = Experiment(tags=tags,\n",
    "                 #clients=None,\n",
    "                 model_path=model_file,\n",
    "                 model_args=model_args,\n",
    "                 model_class='SGDRegressorTrainingPlan',\n",
    "                 training_args=training_args,\n",
    "                 rounds=rounds,\n",
    "                 aggregator=FedAverage(),\n",
    "                 client_selection_strategy=None)"
   ]
  },
  {
   "cell_type": "code",
   "execution_count": 6,
   "id": "d6ff55da",
   "metadata": {},
   "outputs": [
    {
     "name": "stdout",
     "output_type": "stream",
     "text": [
      "Sampled clients in round  0   ['client_d43ec19d-4af1-4b83-9f07-301afdf280fb', 'client_bd048510-59be-4861-9ab4-056ba17da12c']\n",
      "[ RESEARCHER ] Send message to client  client_d43ec19d-4af1-4b83-9f07-301afdf280fb {'researcher_id': 'researcher_fe36f64f-19e5-4500-87c4-31604ef82c2f', 'job_id': '64f96702-5d9d-4dd5-b593-9019b5cd14eb', 'training_args': {'batch_size': 50, 'lr': 0.001, 'epochs': 5, 'dry_run': False, 'batch_maxnum': 100}, 'model_args': {'max_iter': 1000, 'tol': 0.001}, 'command': 'train', 'model_url': 'http://localhost:8844/media/uploads/2021/08/16/my_model_tQTZnHR.py', 'params_url': 'http://localhost:8844/media/uploads/2021/08/16/my_model_ZZTjwKl.pt', 'model_class': 'SGDRegressorTrainingPlan', 'training_data': {'client_d43ec19d-4af1-4b83-9f07-301afdf280fb': ['dataset_ab47a8e2-cb45-4312-a01f-f61332439724']}}\n",
      "researcher_fe36f64f-19e5-4500-87c4-31604ef82c2f\n",
      "[ RESEARCHER ] Send message to client  client_bd048510-59be-4861-9ab4-056ba17da12c {'researcher_id': 'researcher_fe36f64f-19e5-4500-87c4-31604ef82c2f', 'job_id': '64f96702-5d9d-4dd5-b593-9019b5cd14eb', 'training_args': {'batch_size': 50, 'lr': 0.001, 'epochs': 5, 'dry_run': False, 'batch_maxnum': 100}, 'model_args': {'max_iter': 1000, 'tol': 0.001}, 'command': 'train', 'model_url': 'http://localhost:8844/media/uploads/2021/08/16/my_model_tQTZnHR.py', 'params_url': 'http://localhost:8844/media/uploads/2021/08/16/my_model_ZZTjwKl.pt', 'model_class': 'SGDRegressorTrainingPlan', 'training_data': {'client_bd048510-59be-4861-9ab4-056ba17da12c': ['dataset_7759ce82-72b2-4a66-9f78-0d2a65ceb231']}}\n",
      "researcher_fe36f64f-19e5-4500-87c4-31604ef82c2f\n",
      "2021-08-16 17:41:44.064485 [ RESEARCHER ] message received. {'researcher_id': 'researcher_fe36f64f-19e5-4500-87c4-31604ef82c2f', 'job_id': '64f96702-5d9d-4dd5-b593-9019b5cd14eb', 'success': True, 'client_id': 'client_bd048510-59be-4861-9ab4-056ba17da12c', 'dataset_id': 'dataset_7759ce82-72b2-4a66-9f78-0d2a65ceb231', 'params_url': 'http://localhost:8844/media/uploads/2021/08/16/node_params_b1594d88-7080-434f-a11d-9e416ce010ea.pt', 'timing': {'rtime_training': 0.007308109001314733, 'ptime_training': 0.007284285999999973}, 'msg': '', 'command': 'train'}\n",
      "2021-08-16 17:41:48.064363 [ RESEARCHER ] message received. {'researcher_id': 'researcher_fe36f64f-19e5-4500-87c4-31604ef82c2f', 'job_id': '64f96702-5d9d-4dd5-b593-9019b5cd14eb', 'success': True, 'client_id': 'client_d43ec19d-4af1-4b83-9f07-301afdf280fb', 'dataset_id': 'dataset_ab47a8e2-cb45-4312-a01f-f61332439724', 'params_url': 'http://localhost:8844/media/uploads/2021/08/16/node_params_bf9c7c51-5008-4936-8395-8aa6456539bc.pt', 'timing': {'rtime_training': 0.007732286998361815, 'ptime_training': 0.007697730000000069}, 'msg': '', 'command': 'train'}\n",
      "Downloading model params after training on  client_bd048510-59be-4861-9ab4-056ba17da12c \n",
      "\t- from http://localhost:8844/media/uploads/2021/08/16/node_params_b1594d88-7080-434f-a11d-9e416ce010ea.pt\n",
      "filename is  /user/jsaray/home/INRIA-PROJECTS/features/sklearn_integ_refactored/fedbiomed/var/tmp/my_model_719acae5-6233-4195-bca9-3f6aa58724f8.pt\n",
      "Loaded coef - parms COEF (JOB)   with parameters coef  [0.01856277 0.06277697 0.02657705 0.05146747 0.47988857]  intercept_  [0.12945269]\n",
      "Downloading model params after training on  client_d43ec19d-4af1-4b83-9f07-301afdf280fb \n",
      "\t- from http://localhost:8844/media/uploads/2021/08/16/node_params_bf9c7c51-5008-4936-8395-8aa6456539bc.pt\n",
      "filename is  /user/jsaray/home/INRIA-PROJECTS/features/sklearn_integ_refactored/fedbiomed/var/tmp/my_model_89ce861e-1e1c-4f5e-8258-47f53c4e9f84.pt\n",
      "Loaded coef - parms COEF (JOB)   with parameters coef  [0.01869139 0.0630593  0.02692484 0.05834538 0.47021934]  intercept_  [0.13081732]\n",
      "Clients that successfully reply in round  0   ['client_bd048510-59be-4861-9ab4-056ba17da12c', 'client_d43ec19d-4af1-4b83-9f07-301afdf280fb']\n",
      "Model params  {'coef_': array([0.01856277, 0.06277697, 0.02657705, 0.05146747, 0.47988857]), 'intercept_': array([0.12945269])}\n",
      "=====Weights====== tensor([0.5000, 0.5000])  model_params  [{'coef_': array([0.01856277, 0.06277697, 0.02657705, 0.05146747, 0.47988857]), 'intercept_': array([0.12945269])}, {'coef_': array([0.01869139, 0.0630593 , 0.02692484, 0.05834538, 0.47021934]), 'intercept_': array([0.13081732])}]  proportions   [tensor(0.5000), tensor(0.5000)]  avg params  {'coef_': array([0., 0., 0., 0., 0.]), 'intercept_': array([0.])}\n",
      " =============avg params===========  {'coef_': array([0.01862708, 0.06291813, 0.02675095, 0.05490642, 0.47505395]), 'intercept_': array([0.13013501])}\n",
      "Calling model instance from job  /user/jsaray/home/INRIA-PROJECTS/features/sklearn_integ_refactored/fedbiomed/var/tmp/researcher_params_228c958f-0443-4dc0-a78f-06d141ef2e9d.pt\n",
      "Saving file  /user/jsaray/home/INRIA-PROJECTS/features/sklearn_integ_refactored/fedbiomed/var/tmp/researcher_params_228c958f-0443-4dc0-a78f-06d141ef2e9d.pt  with parameters coef  [0.01862708 0.06291813 0.02675095 0.05490642 0.47505395]  intercept_  [0.13013501]\n",
      "Sampled clients in round  1   ['client_d43ec19d-4af1-4b83-9f07-301afdf280fb', 'client_bd048510-59be-4861-9ab4-056ba17da12c']\n",
      "[ RESEARCHER ] Send message to client  client_d43ec19d-4af1-4b83-9f07-301afdf280fb {'researcher_id': 'researcher_fe36f64f-19e5-4500-87c4-31604ef82c2f', 'job_id': '64f96702-5d9d-4dd5-b593-9019b5cd14eb', 'training_args': {'batch_size': 50, 'lr': 0.001, 'epochs': 5, 'dry_run': False, 'batch_maxnum': 100}, 'model_args': {'max_iter': 1000, 'tol': 0.001}, 'command': 'train', 'model_url': 'http://localhost:8844/media/uploads/2021/08/16/my_model_tQTZnHR.py', 'params_url': 'http://localhost:8844/media/uploads/2021/08/16/researcher_params_228c958f-0443-4dc0-a78f-06d141ef2e9d.pt', 'model_class': 'SGDRegressorTrainingPlan', 'training_data': {'client_d43ec19d-4af1-4b83-9f07-301afdf280fb': ['dataset_ab47a8e2-cb45-4312-a01f-f61332439724']}}\n",
      "researcher_fe36f64f-19e5-4500-87c4-31604ef82c2f\n",
      "[ RESEARCHER ] Send message to client  client_bd048510-59be-4861-9ab4-056ba17da12c {'researcher_id': 'researcher_fe36f64f-19e5-4500-87c4-31604ef82c2f', 'job_id': '64f96702-5d9d-4dd5-b593-9019b5cd14eb', 'training_args': {'batch_size': 50, 'lr': 0.001, 'epochs': 5, 'dry_run': False, 'batch_maxnum': 100}, 'model_args': {'max_iter': 1000, 'tol': 0.001}, 'command': 'train', 'model_url': 'http://localhost:8844/media/uploads/2021/08/16/my_model_tQTZnHR.py', 'params_url': 'http://localhost:8844/media/uploads/2021/08/16/researcher_params_228c958f-0443-4dc0-a78f-06d141ef2e9d.pt', 'model_class': 'SGDRegressorTrainingPlan', 'training_data': {'client_bd048510-59be-4861-9ab4-056ba17da12c': ['dataset_7759ce82-72b2-4a66-9f78-0d2a65ceb231']}}\n",
      "researcher_fe36f64f-19e5-4500-87c4-31604ef82c2f\n",
      "2021-08-16 17:42:09.889039 [ RESEARCHER ] message received. {'researcher_id': 'researcher_fe36f64f-19e5-4500-87c4-31604ef82c2f', 'job_id': '64f96702-5d9d-4dd5-b593-9019b5cd14eb', 'success': True, 'client_id': 'client_d43ec19d-4af1-4b83-9f07-301afdf280fb', 'dataset_id': 'dataset_ab47a8e2-cb45-4312-a01f-f61332439724', 'params_url': 'http://localhost:8844/media/uploads/2021/08/16/node_params_4ef2fa9a-54ed-4b0c-89e2-7ed756b733a0.pt', 'timing': {'rtime_training': 0.006650527997408062, 'ptime_training': 0.00661621400000012}, 'msg': '', 'command': 'train'}\n",
      "2021-08-16 17:42:10.908676 [ RESEARCHER ] message received. {'researcher_id': 'researcher_fe36f64f-19e5-4500-87c4-31604ef82c2f', 'job_id': '64f96702-5d9d-4dd5-b593-9019b5cd14eb', 'success': True, 'client_id': 'client_bd048510-59be-4861-9ab4-056ba17da12c', 'dataset_id': 'dataset_7759ce82-72b2-4a66-9f78-0d2a65ceb231', 'params_url': 'http://localhost:8844/media/uploads/2021/08/16/node_params_ed0b0b58-06fc-4f26-8cfd-3770bd251aa1.pt', 'timing': {'rtime_training': 0.021913831002166262, 'ptime_training': 0.021727518000000057}, 'msg': '', 'command': 'train'}\n",
      "Downloading model params after training on  client_d43ec19d-4af1-4b83-9f07-301afdf280fb \n",
      "\t- from http://localhost:8844/media/uploads/2021/08/16/node_params_4ef2fa9a-54ed-4b0c-89e2-7ed756b733a0.pt\n",
      "filename is  /user/jsaray/home/INRIA-PROJECTS/features/sklearn_integ_refactored/fedbiomed/var/tmp/my_model_95c5f461-51e8-469d-a4d0-7e925fb7e451.pt\n",
      "Loaded coef - parms COEF (JOB)   with parameters coef  [0.02890533 0.0721023  0.02447643 0.04780634 0.64429452]  intercept_  [0.13376697]\n",
      "Downloading model params after training on  client_bd048510-59be-4861-9ab4-056ba17da12c \n",
      "\t- from http://localhost:8844/media/uploads/2021/08/16/node_params_ed0b0b58-06fc-4f26-8cfd-3770bd251aa1.pt\n"
     ]
    },
    {
     "name": "stdout",
     "output_type": "stream",
     "text": [
      "filename is  /user/jsaray/home/INRIA-PROJECTS/features/sklearn_integ_refactored/fedbiomed/var/tmp/my_model_907bc26c-8977-4f80-aea1-3012e9302b60.pt\n",
      "Loaded coef - parms COEF (JOB)   with parameters coef  [0.02890497 0.07215293 0.02456299 0.0482583  0.64412401]  intercept_  [0.1341067]\n",
      "Clients that successfully reply in round  1   ['client_d43ec19d-4af1-4b83-9f07-301afdf280fb', 'client_bd048510-59be-4861-9ab4-056ba17da12c']\n",
      "Model params  {'coef_': array([0.02890533, 0.0721023 , 0.02447643, 0.04780634, 0.64429452]), 'intercept_': array([0.13376697])}\n",
      "=====Weights====== tensor([0.5000, 0.5000])  model_params  [{'coef_': array([0.02890533, 0.0721023 , 0.02447643, 0.04780634, 0.64429452]), 'intercept_': array([0.13376697])}, {'coef_': array([0.02890497, 0.07215293, 0.02456299, 0.0482583 , 0.64412401]), 'intercept_': array([0.1341067])}]  proportions   [tensor(0.5000), tensor(0.5000)]  avg params  {'coef_': array([0., 0., 0., 0., 0.]), 'intercept_': array([0.])}\n",
      " =============avg params===========  {'coef_': array([0.02890515, 0.07212762, 0.02451971, 0.04803232, 0.64420927]), 'intercept_': array([0.13393683])}\n",
      "Calling model instance from job  /user/jsaray/home/INRIA-PROJECTS/features/sklearn_integ_refactored/fedbiomed/var/tmp/researcher_params_11b33a8b-d672-498f-bb36-0a5eb0b27922.pt\n",
      "Saving file  /user/jsaray/home/INRIA-PROJECTS/features/sklearn_integ_refactored/fedbiomed/var/tmp/researcher_params_11b33a8b-d672-498f-bb36-0a5eb0b27922.pt  with parameters coef  [0.02890515 0.07212762 0.02451971 0.04803232 0.64420927]  intercept_  [0.13393683]\n",
      "Sampled clients in round  2   ['client_d43ec19d-4af1-4b83-9f07-301afdf280fb', 'client_bd048510-59be-4861-9ab4-056ba17da12c']\n",
      "[ RESEARCHER ] Send message to client  client_d43ec19d-4af1-4b83-9f07-301afdf280fb {'researcher_id': 'researcher_fe36f64f-19e5-4500-87c4-31604ef82c2f', 'job_id': '64f96702-5d9d-4dd5-b593-9019b5cd14eb', 'training_args': {'batch_size': 50, 'lr': 0.001, 'epochs': 5, 'dry_run': False, 'batch_maxnum': 100}, 'model_args': {'max_iter': 1000, 'tol': 0.001}, 'command': 'train', 'model_url': 'http://localhost:8844/media/uploads/2021/08/16/my_model_tQTZnHR.py', 'params_url': 'http://localhost:8844/media/uploads/2021/08/16/researcher_params_11b33a8b-d672-498f-bb36-0a5eb0b27922.pt', 'model_class': 'SGDRegressorTrainingPlan', 'training_data': {'client_d43ec19d-4af1-4b83-9f07-301afdf280fb': ['dataset_ab47a8e2-cb45-4312-a01f-f61332439724']}}\n",
      "researcher_fe36f64f-19e5-4500-87c4-31604ef82c2f\n",
      "[ RESEARCHER ] Send message to client  client_bd048510-59be-4861-9ab4-056ba17da12c {'researcher_id': 'researcher_fe36f64f-19e5-4500-87c4-31604ef82c2f', 'job_id': '64f96702-5d9d-4dd5-b593-9019b5cd14eb', 'training_args': {'batch_size': 50, 'lr': 0.001, 'epochs': 5, 'dry_run': False, 'batch_maxnum': 100}, 'model_args': {'max_iter': 1000, 'tol': 0.001}, 'command': 'train', 'model_url': 'http://localhost:8844/media/uploads/2021/08/16/my_model_tQTZnHR.py', 'params_url': 'http://localhost:8844/media/uploads/2021/08/16/researcher_params_11b33a8b-d672-498f-bb36-0a5eb0b27922.pt', 'model_class': 'SGDRegressorTrainingPlan', 'training_data': {'client_bd048510-59be-4861-9ab4-056ba17da12c': ['dataset_7759ce82-72b2-4a66-9f78-0d2a65ceb231']}}\n",
      "researcher_fe36f64f-19e5-4500-87c4-31604ef82c2f\n",
      "2021-08-16 17:42:33.037478 [ RESEARCHER ] message received. {'researcher_id': 'researcher_fe36f64f-19e5-4500-87c4-31604ef82c2f', 'job_id': '64f96702-5d9d-4dd5-b593-9019b5cd14eb', 'success': True, 'client_id': 'client_bd048510-59be-4861-9ab4-056ba17da12c', 'dataset_id': 'dataset_7759ce82-72b2-4a66-9f78-0d2a65ceb231', 'params_url': 'http://localhost:8844/media/uploads/2021/08/16/node_params_c30715c6-7857-40a9-90bf-a92c98fb028d.pt', 'timing': {'rtime_training': 0.02577896000002511, 'ptime_training': 0.025477760999999877}, 'msg': '', 'command': 'train'}\n",
      "2021-08-16 17:42:36.010605 [ RESEARCHER ] message received. {'researcher_id': 'researcher_fe36f64f-19e5-4500-87c4-31604ef82c2f', 'job_id': '64f96702-5d9d-4dd5-b593-9019b5cd14eb', 'success': True, 'client_id': 'client_d43ec19d-4af1-4b83-9f07-301afdf280fb', 'dataset_id': 'dataset_ab47a8e2-cb45-4312-a01f-f61332439724', 'params_url': 'http://localhost:8844/media/uploads/2021/08/16/node_params_852366f6-1ac9-4171-9598-87f38febaa35.pt', 'timing': {'rtime_training': 0.028665509998972993, 'ptime_training': 0.028339850999999916}, 'msg': '', 'command': 'train'}\n",
      "Downloading model params after training on  client_bd048510-59be-4861-9ab4-056ba17da12c \n",
      "\t- from http://localhost:8844/media/uploads/2021/08/16/node_params_c30715c6-7857-40a9-90bf-a92c98fb028d.pt\n",
      "filename is  /user/jsaray/home/INRIA-PROJECTS/features/sklearn_integ_refactored/fedbiomed/var/tmp/my_model_eba24758-d899-4de7-94a5-97bf8dbe43b1.pt\n",
      "Loaded coef - parms COEF (JOB)   with parameters coef  [0.03423761 0.07147536 0.01843331 0.03699699 0.74034942]  intercept_  [0.12052213]\n",
      "Downloading model params after training on  client_d43ec19d-4af1-4b83-9f07-301afdf280fb \n",
      "\t- from http://localhost:8844/media/uploads/2021/08/16/node_params_852366f6-1ac9-4171-9598-87f38febaa35.pt\n",
      "filename is  /user/jsaray/home/INRIA-PROJECTS/features/sklearn_integ_refactored/fedbiomed/var/tmp/my_model_405545b6-e5b8-47c1-b459-690cd5f8a71a.pt\n",
      "Loaded coef - parms COEF (JOB)   with parameters coef  [0.03420544 0.07150622 0.01864075 0.03706545 0.74040837]  intercept_  [0.12083608]\n",
      "Clients that successfully reply in round  2   ['client_bd048510-59be-4861-9ab4-056ba17da12c', 'client_d43ec19d-4af1-4b83-9f07-301afdf280fb']\n",
      "Model params  {'coef_': array([0.03423761, 0.07147536, 0.01843331, 0.03699699, 0.74034942]), 'intercept_': array([0.12052213])}\n",
      "=====Weights====== tensor([0.5000, 0.5000])  model_params  [{'coef_': array([0.03423761, 0.07147536, 0.01843331, 0.03699699, 0.74034942]), 'intercept_': array([0.12052213])}, {'coef_': array([0.03420544, 0.07150622, 0.01864075, 0.03706545, 0.74040837]), 'intercept_': array([0.12083608])}]  proportions   [tensor(0.5000), tensor(0.5000)]  avg params  {'coef_': array([0., 0., 0., 0., 0.]), 'intercept_': array([0.])}\n",
      " =============avg params===========  {'coef_': array([0.03422153, 0.07149079, 0.01853703, 0.03703122, 0.7403789 ]), 'intercept_': array([0.1206791])}\n",
      "Calling model instance from job  /user/jsaray/home/INRIA-PROJECTS/features/sklearn_integ_refactored/fedbiomed/var/tmp/researcher_params_b31dceba-bf6d-4757-a339-583797f4f7c9.pt\n",
      "Saving file  /user/jsaray/home/INRIA-PROJECTS/features/sklearn_integ_refactored/fedbiomed/var/tmp/researcher_params_b31dceba-bf6d-4757-a339-583797f4f7c9.pt  with parameters coef  [0.03422153 0.07149079 0.01853703 0.03703122 0.7403789 ]  intercept_  [0.1206791]\n",
      "Sampled clients in round  3   ['client_d43ec19d-4af1-4b83-9f07-301afdf280fb', 'client_bd048510-59be-4861-9ab4-056ba17da12c']\n",
      "[ RESEARCHER ] Send message to client  client_d43ec19d-4af1-4b83-9f07-301afdf280fb {'researcher_id': 'researcher_fe36f64f-19e5-4500-87c4-31604ef82c2f', 'job_id': '64f96702-5d9d-4dd5-b593-9019b5cd14eb', 'training_args': {'batch_size': 50, 'lr': 0.001, 'epochs': 5, 'dry_run': False, 'batch_maxnum': 100}, 'model_args': {'max_iter': 1000, 'tol': 0.001}, 'command': 'train', 'model_url': 'http://localhost:8844/media/uploads/2021/08/16/my_model_tQTZnHR.py', 'params_url': 'http://localhost:8844/media/uploads/2021/08/16/researcher_params_b31dceba-bf6d-4757-a339-583797f4f7c9.pt', 'model_class': 'SGDRegressorTrainingPlan', 'training_data': {'client_d43ec19d-4af1-4b83-9f07-301afdf280fb': ['dataset_ab47a8e2-cb45-4312-a01f-f61332439724']}}\n",
      "researcher_fe36f64f-19e5-4500-87c4-31604ef82c2f\n",
      "[ RESEARCHER ] Send message to client  client_bd048510-59be-4861-9ab4-056ba17da12c {'researcher_id': 'researcher_fe36f64f-19e5-4500-87c4-31604ef82c2f', 'job_id': '64f96702-5d9d-4dd5-b593-9019b5cd14eb', 'training_args': {'batch_size': 50, 'lr': 0.001, 'epochs': 5, 'dry_run': False, 'batch_maxnum': 100}, 'model_args': {'max_iter': 1000, 'tol': 0.001}, 'command': 'train', 'model_url': 'http://localhost:8844/media/uploads/2021/08/16/my_model_tQTZnHR.py', 'params_url': 'http://localhost:8844/media/uploads/2021/08/16/researcher_params_b31dceba-bf6d-4757-a339-583797f4f7c9.pt', 'model_class': 'SGDRegressorTrainingPlan', 'training_data': {'client_bd048510-59be-4861-9ab4-056ba17da12c': ['dataset_7759ce82-72b2-4a66-9f78-0d2a65ceb231']}}\n",
      "researcher_fe36f64f-19e5-4500-87c4-31604ef82c2f\n"
     ]
    },
    {
     "name": "stdout",
     "output_type": "stream",
     "text": [
      "2021-08-16 17:43:04.121294 [ RESEARCHER ] message received. {'researcher_id': 'researcher_fe36f64f-19e5-4500-87c4-31604ef82c2f', 'job_id': '64f96702-5d9d-4dd5-b593-9019b5cd14eb', 'success': True, 'client_id': 'client_d43ec19d-4af1-4b83-9f07-301afdf280fb', 'dataset_id': 'dataset_ab47a8e2-cb45-4312-a01f-f61332439724', 'params_url': 'http://localhost:8844/media/uploads/2021/08/16/node_params_6f8eddae-8503-49a7-b299-4922e535e701.pt', 'timing': {'rtime_training': 0.006364235003275098, 'ptime_training': 0.0063086039999999954}, 'msg': '', 'command': 'train'}\n",
      "2021-08-16 17:43:05.071970 [ RESEARCHER ] message received. {'researcher_id': 'researcher_fe36f64f-19e5-4500-87c4-31604ef82c2f', 'job_id': '64f96702-5d9d-4dd5-b593-9019b5cd14eb', 'success': True, 'client_id': 'client_bd048510-59be-4861-9ab4-056ba17da12c', 'dataset_id': 'dataset_7759ce82-72b2-4a66-9f78-0d2a65ceb231', 'params_url': 'http://localhost:8844/media/uploads/2021/08/16/node_params_f5da2f04-5daf-413e-b350-5a89501c34b2.pt', 'timing': {'rtime_training': 0.0064464740025869105, 'ptime_training': 0.006403767999999976}, 'msg': '', 'command': 'train'}\n",
      "Downloading model params after training on  client_d43ec19d-4af1-4b83-9f07-301afdf280fb \n",
      "\t- from http://localhost:8844/media/uploads/2021/08/16/node_params_6f8eddae-8503-49a7-b299-4922e535e701.pt\n",
      "filename is  /user/jsaray/home/INRIA-PROJECTS/features/sklearn_integ_refactored/fedbiomed/var/tmp/my_model_7e05c148-4b7d-414d-b65e-3649e1a37f63.pt\n",
      "Loaded coef - parms COEF (JOB)   with parameters coef  [0.03643886 0.06733443 0.0130005  0.02744923 0.80236484]  intercept_  [0.104769]\n",
      "Downloading model params after training on  client_bd048510-59be-4861-9ab4-056ba17da12c \n",
      "\t- from http://localhost:8844/media/uploads/2021/08/16/node_params_f5da2f04-5daf-413e-b350-5a89501c34b2.pt\n",
      "filename is  /user/jsaray/home/INRIA-PROJECTS/features/sklearn_integ_refactored/fedbiomed/var/tmp/my_model_7c193ff6-402e-4b71-8ed7-0fe79066375b.pt\n",
      "Loaded coef - parms COEF (JOB)   with parameters coef  [0.03641908 0.06726985 0.01292124 0.0274397  0.80236154]  intercept_  [0.10480464]\n",
      "Clients that successfully reply in round  3   ['client_d43ec19d-4af1-4b83-9f07-301afdf280fb', 'client_bd048510-59be-4861-9ab4-056ba17da12c']\n",
      "Model params  {'coef_': array([0.03643886, 0.06733443, 0.0130005 , 0.02744923, 0.80236484]), 'intercept_': array([0.104769])}\n",
      "=====Weights====== tensor([0.5000, 0.5000])  model_params  [{'coef_': array([0.03643886, 0.06733443, 0.0130005 , 0.02744923, 0.80236484]), 'intercept_': array([0.104769])}, {'coef_': array([0.03641908, 0.06726985, 0.01292124, 0.0274397 , 0.80236154]), 'intercept_': array([0.10480464])}]  proportions   [tensor(0.5000), tensor(0.5000)]  avg params  {'coef_': array([0., 0., 0., 0., 0.]), 'intercept_': array([0.])}\n",
      " =============avg params===========  {'coef_': array([0.03642897, 0.06730214, 0.01296087, 0.02744446, 0.80236319]), 'intercept_': array([0.10478682])}\n",
      "Calling model instance from job  /user/jsaray/home/INRIA-PROJECTS/features/sklearn_integ_refactored/fedbiomed/var/tmp/researcher_params_2a85dd37-b21b-4a82-a18e-6e3649b33548.pt\n",
      "Saving file  /user/jsaray/home/INRIA-PROJECTS/features/sklearn_integ_refactored/fedbiomed/var/tmp/researcher_params_2a85dd37-b21b-4a82-a18e-6e3649b33548.pt  with parameters coef  [0.03642897 0.06730214 0.01296087 0.02744446 0.80236319]  intercept_  [0.10478682]\n",
      "Sampled clients in round  4   ['client_d43ec19d-4af1-4b83-9f07-301afdf280fb', 'client_bd048510-59be-4861-9ab4-056ba17da12c']\n",
      "[ RESEARCHER ] Send message to client  client_d43ec19d-4af1-4b83-9f07-301afdf280fb {'researcher_id': 'researcher_fe36f64f-19e5-4500-87c4-31604ef82c2f', 'job_id': '64f96702-5d9d-4dd5-b593-9019b5cd14eb', 'training_args': {'batch_size': 50, 'lr': 0.001, 'epochs': 5, 'dry_run': False, 'batch_maxnum': 100}, 'model_args': {'max_iter': 1000, 'tol': 0.001}, 'command': 'train', 'model_url': 'http://localhost:8844/media/uploads/2021/08/16/my_model_tQTZnHR.py', 'params_url': 'http://localhost:8844/media/uploads/2021/08/16/researcher_params_2a85dd37-b21b-4a82-a18e-6e3649b33548.pt', 'model_class': 'SGDRegressorTrainingPlan', 'training_data': {'client_d43ec19d-4af1-4b83-9f07-301afdf280fb': ['dataset_ab47a8e2-cb45-4312-a01f-f61332439724']}}\n",
      "researcher_fe36f64f-19e5-4500-87c4-31604ef82c2f\n",
      "[ RESEARCHER ] Send message to client  client_bd048510-59be-4861-9ab4-056ba17da12c {'researcher_id': 'researcher_fe36f64f-19e5-4500-87c4-31604ef82c2f', 'job_id': '64f96702-5d9d-4dd5-b593-9019b5cd14eb', 'training_args': {'batch_size': 50, 'lr': 0.001, 'epochs': 5, 'dry_run': False, 'batch_maxnum': 100}, 'model_args': {'max_iter': 1000, 'tol': 0.001}, 'command': 'train', 'model_url': 'http://localhost:8844/media/uploads/2021/08/16/my_model_tQTZnHR.py', 'params_url': 'http://localhost:8844/media/uploads/2021/08/16/researcher_params_2a85dd37-b21b-4a82-a18e-6e3649b33548.pt', 'model_class': 'SGDRegressorTrainingPlan', 'training_data': {'client_bd048510-59be-4861-9ab4-056ba17da12c': ['dataset_7759ce82-72b2-4a66-9f78-0d2a65ceb231']}}\n",
      "researcher_fe36f64f-19e5-4500-87c4-31604ef82c2f\n",
      "2021-08-16 17:43:26.174686 [ RESEARCHER ] message received. {'researcher_id': 'researcher_fe36f64f-19e5-4500-87c4-31604ef82c2f', 'job_id': '64f96702-5d9d-4dd5-b593-9019b5cd14eb', 'success': True, 'client_id': 'client_d43ec19d-4af1-4b83-9f07-301afdf280fb', 'dataset_id': 'dataset_ab47a8e2-cb45-4312-a01f-f61332439724', 'params_url': 'http://localhost:8844/media/uploads/2021/08/16/node_params_04e22e10-0023-4cd1-ab13-babf3790b0c4.pt', 'timing': {'rtime_training': 0.0070774539999547414, 'ptime_training': 0.007030034000000018}, 'msg': '', 'command': 'train'}\n",
      "2021-08-16 17:43:27.179273 [ RESEARCHER ] message received. {'researcher_id': 'researcher_fe36f64f-19e5-4500-87c4-31604ef82c2f', 'job_id': '64f96702-5d9d-4dd5-b593-9019b5cd14eb', 'success': True, 'client_id': 'client_bd048510-59be-4861-9ab4-056ba17da12c', 'dataset_id': 'dataset_7759ce82-72b2-4a66-9f78-0d2a65ceb231', 'params_url': 'http://localhost:8844/media/uploads/2021/08/16/node_params_92a81b39-1f0a-4fde-9865-72f8ef5fca3b.pt', 'timing': {'rtime_training': 0.0065901140005735215, 'ptime_training': 0.006564476000000097}, 'msg': '', 'command': 'train'}\n",
      "Downloading model params after training on  client_d43ec19d-4af1-4b83-9f07-301afdf280fb \n",
      "\t- from http://localhost:8844/media/uploads/2021/08/16/node_params_04e22e10-0023-4cd1-ab13-babf3790b0c4.pt\n",
      "filename is  /user/jsaray/home/INRIA-PROJECTS/features/sklearn_integ_refactored/fedbiomed/var/tmp/my_model_cda906a6-0bfb-495d-8c28-9f83e0f1d055.pt\n",
      "Loaded coef - parms COEF (JOB)   with parameters coef  [0.03659787 0.06215291 0.0085607  0.02001355 0.8452472 ]  intercept_  [0.08979007]\n",
      "Downloading model params after training on  client_bd048510-59be-4861-9ab4-056ba17da12c \n",
      "\t- from http://localhost:8844/media/uploads/2021/08/16/node_params_92a81b39-1f0a-4fde-9865-72f8ef5fca3b.pt\n",
      "filename is  /user/jsaray/home/INRIA-PROJECTS/features/sklearn_integ_refactored/fedbiomed/var/tmp/my_model_1f8174fc-5ad7-4b5c-a918-ed417a321f67.pt\n",
      "Loaded coef - parms COEF (JOB)   with parameters coef  [0.03667421 0.0620602  0.00853227 0.01994309 0.84522325]  intercept_  [0.08981339]\n",
      "Clients that successfully reply in round  4   ['client_d43ec19d-4af1-4b83-9f07-301afdf280fb', 'client_bd048510-59be-4861-9ab4-056ba17da12c']\n",
      "Model params  {'coef_': array([0.03659787, 0.06215291, 0.0085607 , 0.02001355, 0.8452472 ]), 'intercept_': array([0.08979007])}\n",
      "=====Weights====== tensor([0.5000, 0.5000])  model_params  [{'coef_': array([0.03659787, 0.06215291, 0.0085607 , 0.02001355, 0.8452472 ]), 'intercept_': array([0.08979007])}, {'coef_': array([0.03667421, 0.0620602 , 0.00853227, 0.01994309, 0.84522325]), 'intercept_': array([0.08981339])}]  proportions   [tensor(0.5000), tensor(0.5000)]  avg params  {'coef_': array([0., 0., 0., 0., 0.]), 'intercept_': array([0.])}\n",
      " =============avg params===========  {'coef_': array([0.03663604, 0.06210655, 0.00854649, 0.01997832, 0.84523523]), 'intercept_': array([0.08980173])}\n",
      "Calling model instance from job  /user/jsaray/home/INRIA-PROJECTS/features/sklearn_integ_refactored/fedbiomed/var/tmp/researcher_params_798554ed-4081-4e79-a8f0-dc4304098cde.pt\n",
      "Saving file  /user/jsaray/home/INRIA-PROJECTS/features/sklearn_integ_refactored/fedbiomed/var/tmp/researcher_params_798554ed-4081-4e79-a8f0-dc4304098cde.pt  with parameters coef  [0.03663604 0.06210655 0.00854649 0.01997832 0.84523523]  intercept_  [0.08980173]\n"
     ]
    }
   ],
   "source": [
    "exp.run()"
   ]
  },
  {
   "cell_type": "code",
   "execution_count": 7,
   "id": "35bdc3a2",
   "metadata": {},
   "outputs": [],
   "source": [
    "n_samples, n_features = 100, 5\n",
    "testing_samples = 40\n",
    "rng = np.random.RandomState(1)\n",
    "A = np.array([[5],\n",
    "       [8],\n",
    "       [9],\n",
    "       [5],\n",
    "       [0]])\n",
    "def test_data():\n",
    "    X_test = rng.randn(testing_samples, n_features).reshape([testing_samples, n_features])\n",
    "    y_test = X_test.dot(A) + rng.randn(testing_samples).reshape([testing_samples,1])\n",
    "    return X_test, y_test"
   ]
  },
  {
   "cell_type": "code",
   "execution_count": 8,
   "id": "91f579d5",
   "metadata": {},
   "outputs": [],
   "source": [
    "from sklearn.linear_model import SGDRegressor"
   ]
  },
  {
   "cell_type": "code",
   "execution_count": 9,
   "id": "05ca90a2",
   "metadata": {},
   "outputs": [],
   "source": [
    "fed_model = SGDRegressor(max_iter=1000, tol=1e-3)\n",
    "X_test, y_test = test_data()"
   ]
  },
  {
   "cell_type": "code",
   "execution_count": 13,
   "id": "4a7c36ef",
   "metadata": {},
   "outputs": [
    {
     "data": {
      "text/plain": [
       "(40, 5)"
      ]
     },
     "execution_count": 13,
     "metadata": {},
     "output_type": "execute_result"
    }
   ],
   "source": [
    "X_test.shape"
   ]
  },
  {
   "cell_type": "code",
   "execution_count": 14,
   "id": "5f789adf",
   "metadata": {},
   "outputs": [
    {
     "data": {
      "text/plain": [
       "(40, 1)"
      ]
     },
     "execution_count": 14,
     "metadata": {},
     "output_type": "execute_result"
    }
   ],
   "source": [
    "y_test.shape"
   ]
  },
  {
   "cell_type": "code",
   "execution_count": 16,
   "id": "3be512aa",
   "metadata": {},
   "outputs": [
    {
     "data": {
      "text/plain": [
       "{'coef_': array([-0.02762315,  0.03511984, -0.00151897,  0.0407575 ,  0.344748  ]),\n",
       " 'intercept_': array([0.11286286])}"
      ]
     },
     "execution_count": 16,
     "metadata": {},
     "output_type": "execute_result"
    }
   ],
   "source": [
    "exp._aggregated_params[0]['params']"
   ]
  },
  {
   "cell_type": "code",
   "execution_count": 17,
   "id": "91f8fc2a",
   "metadata": {},
   "outputs": [
    {
     "data": {
      "text/plain": [
       "{'coef_': array([-0.03290315,  0.04135906, -0.0036068 ,  0.04225345,  0.50920882]),\n",
       " 'intercept_': array([0.13503038])}"
      ]
     },
     "execution_count": 17,
     "metadata": {},
     "output_type": "execute_result"
    }
   ],
   "source": [
    "exp._aggregated_params[1]['params']"
   ]
  },
  {
   "cell_type": "code",
   "execution_count": 19,
   "id": "e556299b",
   "metadata": {},
   "outputs": [
    {
     "data": {
      "text/plain": [
       "{'coef_': array([-0.03285988,  0.04227644, -0.00573254,  0.03831777,  0.61894459]),\n",
       " 'intercept_': array([0.13432315])}"
      ]
     },
     "execution_count": 19,
     "metadata": {},
     "output_type": "execute_result"
    }
   ],
   "source": [
    "exp._aggregated_params[2]['params']"
   ]
  },
  {
   "cell_type": "code",
   "execution_count": 20,
   "id": "9c746614",
   "metadata": {},
   "outputs": [
    {
     "data": {
      "text/plain": [
       "{'coef_': array([-0.03110757,  0.03885024, -0.00546323,  0.03020861,  0.69346249]),\n",
       " 'intercept_': array([0.12715013])}"
      ]
     },
     "execution_count": 20,
     "metadata": {},
     "output_type": "execute_result"
    }
   ],
   "source": [
    "exp._aggregated_params[3]['params']"
   ]
  },
  {
   "cell_type": "code",
   "execution_count": 21,
   "id": "03767a83",
   "metadata": {},
   "outputs": [
    {
     "data": {
      "text/plain": [
       "{'coef_': array([-0.03516372,  0.02830532,  0.00555754,  0.00993721,  0.77441406]),\n",
       " 'intercept_': array([0.09274101])}"
      ]
     },
     "execution_count": 21,
     "metadata": {},
     "output_type": "execute_result"
    }
   ],
   "source": [
    "exp._aggregated_params[4]['params']"
   ]
  },
  {
   "cell_type": "code",
   "execution_count": 17,
   "id": "45e972cd",
   "metadata": {},
   "outputs": [
    {
     "ename": "ModuleNotFoundError",
     "evalue": "No module named 'matplotlib'",
     "output_type": "error",
     "traceback": [
      "\u001b[0;31m---------------------------------------------------------------------------\u001b[0m",
      "\u001b[0;31mModuleNotFoundError\u001b[0m                       Traceback (most recent call last)",
      "\u001b[0;32m<ipython-input-17-a0d2faabd9e9>\u001b[0m in \u001b[0;36m<module>\u001b[0;34m\u001b[0m\n\u001b[0;32m----> 1\u001b[0;31m \u001b[0;32mimport\u001b[0m \u001b[0mmatplotlib\u001b[0m\u001b[0;34m.\u001b[0m\u001b[0mpyplot\u001b[0m \u001b[0;32mas\u001b[0m \u001b[0mplt\u001b[0m\u001b[0;34m\u001b[0m\u001b[0;34m\u001b[0m\u001b[0m\n\u001b[0m",
      "\u001b[0;31mModuleNotFoundError\u001b[0m: No module named 'matplotlib'"
     ]
    }
   ],
   "source": [
    "import matplotlib.pyplot as plt"
   ]
  },
  {
   "cell_type": "code",
   "execution_count": 10,
   "id": "6edb32ed",
   "metadata": {},
   "outputs": [
    {
     "name": "stdout",
     "output_type": "stream",
     "text": [
      "MSE  177.38354527510978\n",
      "MSE  178.1822791029444\n",
      "MSE  178.97386606885615\n",
      "MSE  179.64031077910417\n",
      "MSE  180.17794175010937\n"
     ]
    }
   ],
   "source": [
    "testing_error = []\n",
    "\n",
    "for i in range(rounds):\n",
    "    fed_model.coef_ = exp._aggregated_params[i]['params']['coef_']\n",
    "    fed_model.intercept_ = exp._aggregated_params[i]['params']['intercept_']\n",
    "    \n",
    "    mse = np.mean((fed_model.predict(X_test).ravel() - y_test.ravel())**2)\n",
    "    print('MSE ', mse)\n",
    "    testing_error.append(mse)"
   ]
  },
  {
   "cell_type": "code",
   "execution_count": 26,
   "id": "fb56d753",
   "metadata": {},
   "outputs": [
    {
     "data": {
      "text/plain": [
       "[178.03450216971504,\n",
       " 178.68256697912727,\n",
       " 179.29662378991694,\n",
       " 179.83256997069486,\n",
       " 180.54893347282993]"
      ]
     },
     "execution_count": 26,
     "metadata": {},
     "output_type": "execute_result"
    }
   ],
   "source": [
    "testing_error"
   ]
  },
  {
   "cell_type": "code",
   "execution_count": 17,
   "id": "f0623066",
   "metadata": {},
   "outputs": [
    {
     "ename": "NameError",
     "evalue": "name 'plt' is not defined",
     "output_type": "error",
     "traceback": [
      "\u001b[0;31m---------------------------------------------------------------------------\u001b[0m",
      "\u001b[0;31mNameError\u001b[0m                                 Traceback (most recent call last)",
      "\u001b[0;32m<ipython-input-17-0533f585f604>\u001b[0m in \u001b[0;36m<module>\u001b[0;34m\u001b[0m\n\u001b[0;32m----> 1\u001b[0;31m \u001b[0mplt\u001b[0m\u001b[0;34m.\u001b[0m\u001b[0mplot\u001b[0m\u001b[0;34m(\u001b[0m\u001b[0mtesting_error\u001b[0m\u001b[0;34m,\u001b[0m \u001b[0mlabel\u001b[0m \u001b[0;34m=\u001b[0m \u001b[0;34m'federated test error'\u001b[0m\u001b[0;34m)\u001b[0m\u001b[0;34m\u001b[0m\u001b[0;34m\u001b[0m\u001b[0m\n\u001b[0m\u001b[1;32m      2\u001b[0m \u001b[0mplt\u001b[0m\u001b[0;34m.\u001b[0m\u001b[0mhlines\u001b[0m\u001b[0;34m(\u001b[0m\u001b[0mnp\u001b[0m\u001b[0;34m.\u001b[0m\u001b[0mmean\u001b[0m\u001b[0;34m(\u001b[0m\u001b[0;34m(\u001b[0m\u001b[0mX_test\u001b[0m\u001b[0;34m.\u001b[0m\u001b[0mdot\u001b[0m\u001b[0;34m(\u001b[0m\u001b[0mA\u001b[0m\u001b[0;34m)\u001b[0m\u001b[0;34m.\u001b[0m\u001b[0mravel\u001b[0m\u001b[0;34m(\u001b[0m\u001b[0;34m)\u001b[0m \u001b[0;34m-\u001b[0m \u001b[0my_test\u001b[0m\u001b[0;34m.\u001b[0m\u001b[0mravel\u001b[0m\u001b[0;34m(\u001b[0m\u001b[0;34m)\u001b[0m\u001b[0;34m)\u001b[0m\u001b[0;34m**\u001b[0m\u001b[0;36m2\u001b[0m\u001b[0;34m)\u001b[0m\u001b[0;34m,\u001b[0m \u001b[0;36m0\u001b[0m\u001b[0;34m,\u001b[0m \u001b[0mN_rounds\u001b[0m\u001b[0;34m-\u001b[0m\u001b[0;36m1\u001b[0m\u001b[0;34m,\u001b[0m \u001b[0mcolor\u001b[0m \u001b[0;34m=\u001b[0m \u001b[0;34m'red'\u001b[0m\u001b[0;34m,\u001b[0m \u001b[0malpha\u001b[0m \u001b[0;34m=\u001b[0m \u001b[0;36m0.7\u001b[0m\u001b[0;34m,\u001b[0m \u001b[0mlabel\u001b[0m \u001b[0;34m=\u001b[0m \u001b[0;34m'ground truth'\u001b[0m\u001b[0;34m)\u001b[0m\u001b[0;34m\u001b[0m\u001b[0;34m\u001b[0m\u001b[0m\n\u001b[1;32m      3\u001b[0m \u001b[0mplt\u001b[0m\u001b[0;34m.\u001b[0m\u001b[0mxlabel\u001b[0m\u001b[0;34m(\u001b[0m\u001b[0;34m'Round'\u001b[0m\u001b[0;34m)\u001b[0m\u001b[0;34m\u001b[0m\u001b[0;34m\u001b[0m\u001b[0m\n\u001b[1;32m      4\u001b[0m \u001b[0mplt\u001b[0m\u001b[0;34m.\u001b[0m\u001b[0mlegend\u001b[0m\u001b[0;34m(\u001b[0m\u001b[0;34m)\u001b[0m\u001b[0;34m\u001b[0m\u001b[0;34m\u001b[0m\u001b[0m\n",
      "\u001b[0;31mNameError\u001b[0m: name 'plt' is not defined"
     ]
    }
   ],
   "source": [
    "plt.plot(testing_error, label = 'federated test error')\n",
    "plt.hlines(np.mean((X_test.dot(A).ravel() - y_test.ravel())**2), 0, N_rounds-1, color = 'red', alpha = 0.7, label = 'ground truth')\n",
    "plt.xlabel('Round')\n",
    "plt.legend()"
   ]
  },
  {
   "cell_type": "code",
   "execution_count": 10,
   "id": "48bda26a",
   "metadata": {},
   "outputs": [
    {
     "data": {
      "text/plain": [
       "array([-0.08835477, -0.02177115,  0.09723794,  0.03879841,  0.00388391])"
      ]
     },
     "execution_count": 10,
     "metadata": {},
     "output_type": "execute_result"
    }
   ],
   "source": [
    "exp._aggregated_params[0]['params']['coef_']"
   ]
  },
  {
   "cell_type": "code",
   "execution_count": 11,
   "id": "b6ec73b2",
   "metadata": {},
   "outputs": [
    {
     "data": {
      "text/plain": [
       "array([-0.0857399 , -0.02418705,  0.09421684,  0.04130261,  0.00110738])"
      ]
     },
     "execution_count": 11,
     "metadata": {},
     "output_type": "execute_result"
    }
   ],
   "source": [
    "exp._aggregated_params[1]['params']['coef_']"
   ]
  },
  {
   "cell_type": "code",
   "execution_count": 12,
   "id": "c5ef21b8",
   "metadata": {},
   "outputs": [
    {
     "data": {
      "text/plain": [
       "array([-0.08628797, -0.02662039,  0.09914285,  0.04398299,  0.00211929])"
      ]
     },
     "execution_count": 12,
     "metadata": {},
     "output_type": "execute_result"
    }
   ],
   "source": [
    "exp._aggregated_params[2]['params']['coef_']"
   ]
  },
  {
   "cell_type": "code",
   "execution_count": 13,
   "id": "4abc0113",
   "metadata": {},
   "outputs": [
    {
     "data": {
      "text/plain": [
       "array([-0.0876811 , -0.02231482,  0.09693187,  0.04262923,  0.00136258])"
      ]
     },
     "execution_count": 13,
     "metadata": {},
     "output_type": "execute_result"
    }
   ],
   "source": [
    "exp._aggregated_params[3]['params']['coef_']"
   ]
  },
  {
   "cell_type": "code",
   "execution_count": null,
   "id": "623d2f33",
   "metadata": {},
   "outputs": [],
   "source": [
    "exp._aggregated_params[1]['params']['coef_']"
   ]
  },
  {
   "cell_type": "code",
   "execution_count": null,
   "id": "a2ffa0e4",
   "metadata": {},
   "outputs": [],
   "source": [
    "exp._aggregated_params[1]['params']['coef_']"
   ]
  },
  {
   "cell_type": "code",
   "execution_count": 8,
   "id": "627783e8",
   "metadata": {},
   "outputs": [
    {
     "data": {
      "text/plain": [
       "{'params': {'coef_': array([-0.09106583, -0.02673528,  0.09718337,  0.04359848, -0.00150982]),\n",
       "  'intercept_': array([0.02567093])},\n",
       " 'params_path': '/home/jsaray/INRIA-PROJECTS/features/sklearn_integ_refactored/fedbiomed/var/tmp/researcher_params_b98dd684-2020-4337-a061-0e1f7989c33d.pt'}"
      ]
     },
     "execution_count": 8,
     "metadata": {},
     "output_type": "execute_result"
    }
   ],
   "source": [
    "exp._aggregated_params[1]"
   ]
  },
  {
   "cell_type": "code",
   "execution_count": 9,
   "id": "c34975a4",
   "metadata": {},
   "outputs": [
    {
     "data": {
      "text/plain": [
       "{'params': {'coef_': array([-0.08315385, -0.02271357,  0.09840193,  0.04169297,  0.00091099]),\n",
       "  'intercept_': array([0.02895132])},\n",
       " 'params_path': '/home/jsaray/INRIA-PROJECTS/features/sklearn_integ_refactored/fedbiomed/var/tmp/researcher_params_e4a565be-dfe9-42a3-8d45-96915f403bd7.pt'}"
      ]
     },
     "execution_count": 9,
     "metadata": {},
     "output_type": "execute_result"
    }
   ],
   "source": [
    "exp._aggregated_params[2]"
   ]
  },
  {
   "cell_type": "code",
   "execution_count": null,
   "id": "97a2ddd1",
   "metadata": {},
   "outputs": [],
   "source": []
  },
  {
   "cell_type": "code",
   "execution_count": null,
   "id": "35404ceb",
   "metadata": {},
   "outputs": [],
   "source": [
    "%%writefile \"$model_file\"\n",
    "\n",
    "from fedbiomed.common.fedbiosklearn import SkLearnModel\n",
    "from sklearn.linear_model import SGDRegressor\n",
    "\n",
    "\n",
    "class SGDRegressorTrainingPlan(SkLearnModel):\n",
    "    #TODO impact of kwargs ?, is it optional ????\n",
    "    def __init__(self, kwargs):\n",
    "        super(SGDRegressorTrainingPlan, self).__init__()\n",
    "        self.reg = SGDRegressor(max_iter=kwargs['max_iter'], tol=kwargs['tol'])  \n",
    "        if(kwargs.get('coef_') is not None and kwargs.get('intercept_') is not None):\n",
    "            if isinstance(kwargs['coef_'],list) and isinstance(kwargs['intercept_'],list):\n",
    "                self.reg.coef_ = np.array(kwargs['coef_'])\n",
    "                self.reg.intercept_ = np.array(kwargs['intercept_'])\n",
    "    \n",
    "    \n",
    "    def customize_params(self,kwargs):\n",
    "        \n",
    "    \n",
    "    def after_training_params(self):\n",
    "        return {'coef_':  self.reg.coef_  , 'intercept_': self.reg.intercept_}\n",
    "    \n",
    "    def training_step(self,X,y):\n",
    "        self.reg.partial_fit(X,y)\n",
    "        print('After training coef ', self.reg.coef_ , 'Intercept ',self.reg.intercept_ )\n",
    "    \n",
    "    def training_data(self,batch_size = 48):\n",
    "        n_samples, n_features = 100, 5\n",
    "        testing_samples = 40\n",
    "\n",
    "        ### Creating a random dataset\n",
    "        rng = np.random.RandomState(1)\n",
    "\n",
    "        y = []\n",
    "        X = []\n",
    "\n",
    "        ### Creating a random linear transformation\n",
    "        A = rng.randint(0,10,size = n_features).reshape([n_features,1])\n",
    "\n",
    "        ### For every center we create random X and y dataset with same generative rule (the matrix A)\n",
    "\n",
    "        X = rng.randn(n_samples, n_features)\n",
    "        y = rng.randn(n_samples)\n",
    "        print('X shape' , X.shape , 'y shape', y.shape)\n",
    "        return (X,y)"
   ]
  }
 ],
 "metadata": {
  "kernelspec": {
   "display_name": "Python 3",
   "language": "python",
   "name": "python3"
  },
  "language_info": {
   "codemirror_mode": {
    "name": "ipython",
    "version": 3
   },
   "file_extension": ".py",
   "mimetype": "text/x-python",
   "name": "python",
   "nbconvert_exporter": "python",
   "pygments_lexer": "ipython3",
   "version": "3.9.5"
  }
 },
 "nbformat": 4,
 "nbformat_minor": 5
}

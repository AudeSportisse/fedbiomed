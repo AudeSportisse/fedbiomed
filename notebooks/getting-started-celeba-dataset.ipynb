{
 "cells": [
  {
   "cell_type": "markdown",
   "metadata": {},
   "source": [
    "# Fedbiomed Researcher"
   ]
  },
  {
   "cell_type": "markdown",
   "metadata": {},
   "source": [
    "Use for developing (autoreloads changes made across packages)"
   ]
  },
  {
   "cell_type": "code",
   "execution_count": 1,
   "metadata": {},
   "outputs": [],
   "source": [
    "%load_ext autoreload\n",
    "%autoreload 2"
   ]
  },
  {
   "cell_type": "markdown",
   "metadata": {},
   "source": [
    "## Setting the client up\n",
    "\n",
    "Install the celeba dataset with the help of the readme.md file inside `notebooks/data_for_examples/Celeba`  \n",
    "For the sake of testing the resulting model, this file uses the data from node 1 and 2 for training and the data from node 3 to test.\n",
    "you can create multiple nodes by adding a config parameter to the command contriling nodes, for example :  \n",
    "creating 2 nodes for training :  \n",
    " - `./scripts/fedbiomed_run node config node1.ini start`\n",
    " - `./scripts/fedbiomed_run node config node2.ini start`  \n",
    " \n",
    "adding data for each node :  \n",
    " - `./scripts/fedbiomed_run node config node1.ini add`\n",
    " - `./scripts/fedbiomed_run node config node2.ini add`\n",
    "\n",
    "It is necessary to previously configure at least a node:\n",
    "1. `./scripts/fedbiomed_run node config (ini file) add`\n",
    "  * Select option 3 (images) to add an image dataset to the node\n",
    "  * Add a name and the tag for the dataset (tag should contain '#celeba' as it is the tag used for this training) and finaly add the description\n",
    "  * Pick a data folder from the 3 generated inside data/Celeba/celeba_preprocessed\n",
    "  * Data must have been added (if you get a warning saying that data must be unique is because it's been already added)\n",
    "  \n",
    "2. Check that your data has been added by executing `./scripts/fedbiomed_run node config (ini file) list`\n",
    "3. Run the node using `./scripts/fedbiomed_run node start`. Wait until you get `Connected with result code 0`. it means you are online.\n",
    "\n",
    "for the sake of testing the resulting model, only nodes 1 and 2 were started during training, datas from node 3 is used to test the model."
   ]
  },
  {
   "cell_type": "markdown",
   "metadata": {},
   "source": [
    "## Create an experiment to train a model on the data found"
   ]
  },
  {
   "cell_type": "markdown",
   "metadata": {},
   "source": [
    "Declare a torch.nn Net class to send for training on the node"
   ]
  },
  {
   "cell_type": "code",
   "execution_count": 2,
   "metadata": {},
   "outputs": [],
   "source": [
    "from fedbiomed.researcher.environ import TMP_DIR\n",
    "import tempfile\n",
    "tmp_dir_model = tempfile.TemporaryDirectory(dir=TMP_DIR+'/')\n",
    "model_file = tmp_dir_model.name + '/CelebaClass.py'"
   ]
  },
  {
   "cell_type": "markdown",
   "metadata": {},
   "source": [
    "Note : write **only** the code to export in the following cell"
   ]
  },
  {
   "cell_type": "code",
   "execution_count": 3,
   "metadata": {},
   "outputs": [
    {
     "name": "stdout",
     "output_type": "stream",
     "text": [
      "Writing /home/administrator/fedbiomed/fedbiomed/var/tmp/tmp6zb5l5fl/CelebaClass.py\n"
     ]
    }
   ],
   "source": [
    "%%writefile \"$model_file\"\n",
    "\n",
    "import torch\n",
    "import torch.nn as nn\n",
    "from   fedbiomed.common.torchnn import TorchTrainingPlan\n",
    "import torch.nn.functional as F\n",
    "from torch.utils.data import DataLoader\n",
    "from torchvision import transforms\n",
    "from torch.utils.data import Dataset, DataLoader\n",
    "import pandas as pd\n",
    "import numpy as np\n",
    "from PIL import Image\n",
    "import os\n",
    "\n",
    "\n",
    "class Net(TorchTrainingPlan):\n",
    "    def __init__(self):\n",
    "        super(Net, self).__init__()\n",
    "        #convolution layers\n",
    "        self.conv1 = nn.Conv2d(3, 32, 3, 1)\n",
    "        self.conv2 = nn.Conv2d(32, 32, 3, 1)\n",
    "        self.conv3 = nn.Conv2d(32, 32, 3, 1)\n",
    "        self.conv4 = nn.Conv2d(32, 32, 3, 1)\n",
    "        self.dropout1 = nn.Dropout(0.25)\n",
    "        self.dropout2 = nn.Dropout(0.5)\n",
    "        # classifier\n",
    "        self.fc1 = nn.Linear(3168, 128)\n",
    "        self.fc2 = nn.Linear(128, 2)\n",
    "        \n",
    "        # Here we define the custom dependencies that will be needed by our custom Dataloader\n",
    "        deps = [\"from torch.utils.data import Dataset, DataLoader\",\n",
    "                \"from torchvision import transforms\",\n",
    "                \"import pandas as pd\",\n",
    "               \"from PIL import Image\",\n",
    "               \"import os\",\n",
    "               \"import numpy as np\"]\n",
    "        self.add_dependency(deps)\n",
    "\n",
    "    def forward(self, x):\n",
    "        x = self.conv1(x)\n",
    "        x = F.max_pool2d(x, 2)\n",
    "        x = F.relu(x)\n",
    "        \n",
    "        x = self.conv2(x)\n",
    "        x = F.max_pool2d(x, 2)\n",
    "        x = F.relu(x)\n",
    "\n",
    "        x = self.conv3(x)\n",
    "        x = F.max_pool2d(x, 2)\n",
    "        x = F.relu(x)\n",
    "\n",
    "        x = self.conv4(x)\n",
    "        x = F.max_pool2d(x, 2)\n",
    "        x = F.relu(x)\n",
    "        \n",
    "        x = self.dropout1(x)\n",
    "        x = torch.flatten(x, 1)\n",
    "        x = self.fc1(x)\n",
    "        x = F.relu(x)\n",
    "        \n",
    "        x = self.dropout2(x)\n",
    "        x = self.fc2(x)\n",
    "        output = F.log_softmax(x, dim=1)\n",
    "        return output\n",
    "\n",
    "\n",
    "    class CelebaDataset(Dataset):\n",
    "        \"\"\"Custom Dataset for loading CelebA face images\"\"\"\n",
    "        \n",
    "        # we dont load the full data of the images, we retrieve the image with the get item. \n",
    "        # in our case, each image is 218*178 * 3colors. there is 67533 images. this take at leas 7G of ram\n",
    "        # loading images when needed takes more time during training but it wont impact the ram usage as much as loading everything\n",
    "        def __init__(self, txt_path, img_dir, transform=None):\n",
    "            df = pd.read_csv(txt_path, sep=\"\\t\", index_col=0)\n",
    "            self.img_dir = img_dir\n",
    "            self.txt_path = txt_path\n",
    "            self.img_names = df.index.values\n",
    "            self.y = df['Smiling'].values\n",
    "            self.transform = transform\n",
    "            print(\"celeba dataset finished\")\n",
    "\n",
    "        def __getitem__(self, index):\n",
    "            img = np.asarray(Image.open(os.path.join(self.img_dir,\n",
    "                                        self.img_names[index])))\n",
    "            img = transforms.ToTensor()(img)\n",
    "            label = self.y[index]\n",
    "            return img, label\n",
    "\n",
    "        def __len__(self):\n",
    "            return self.y.shape[0]\n",
    "    \n",
    "    def training_data(self,  batch_size = 48):\n",
    "    # The training_data creates the Dataloader to be used for training in the general class Torchnn of fedbiomed\n",
    "        dataset = self.CelebaDataset(self.dataset_path + \"/target.csv\", self.dataset_path + \"/data/\")\n",
    "        train_kwargs = {'batch_size': batch_size, 'shuffle': True}\n",
    "        data_loader = DataLoader(dataset, **train_kwargs)\n",
    "        return data_loader\n",
    "    \n",
    "    def training_step(self, data, target):\n",
    "        #this function must return the loss to backward it \n",
    "        output = self.forward(data)\n",
    "        loss   = torch.nn.functional.nll_loss(output, target)\n",
    "        return loss\n"
   ]
  },
  {
   "cell_type": "markdown",
   "metadata": {},
   "source": [
    "This group of arguments correspond respectively:\n",
    "* `model_args`: a dictionary with the arguments related to the model (e.g. number of layers, features, etc.). This will be passed to the model class on the client side.\n",
    "* `training_args`: a dictionary containing the arguments for the training routine (e.g. batch size, learning rate, epochs, etc.). This will be passed to the routine on the client side.\n",
    "\n",
    "**NOTE:** typos and/or lack of positional (required) arguments will raise error. 🤓"
   ]
  },
  {
   "cell_type": "code",
   "execution_count": 4,
   "metadata": {
    "pycharm": {
     "name": "#%%\n"
    }
   },
   "outputs": [],
   "source": [
    "training_args = {\n",
    "    'batch_size': 32, \n",
    "    'lr': 1e-3, \n",
    "    'epochs': 1, \n",
    "    'dry_run': False,  \n",
    "    'batch_maxnum': 200 # Fast pass for development : only use ( batch_maxnum * batch_size ) samples\n",
    "}"
   ]
  },
  {
   "cell_type": "markdown",
   "metadata": {},
   "source": [
    "# Train the federated model"
   ]
  },
  {
   "cell_type": "code",
   "execution_count": 5,
   "metadata": {
    "pycharm": {
     "name": "#%%\n"
    },
    "scrolled": true
   },
   "outputs": [
    {
     "name": "stdout",
     "output_type": "stream",
     "text": [
      "Messaging e7e0a833-c32c-4e5f-9624-4cde3c436cce connected with result code 0\n",
      "Searching for clients with data tags: ['#celeba'] ...\n",
      "2021-09-01 16:52:38.695029 [ RESEARCHER ] message received. {'researcher_id': 'researcher_4f6f3259-98d3-4ae0-959b-0ff8e79a9a0a', 'success': True, 'databases': [{'name': 'celeba', 'data_type': 'images', 'tags': ['#celeba'], 'description': 'celeba node 1', 'shape': [67533, 3, 218, 178], 'dataset_id': 'dataset_83c312fc-4a61-497c-8a71-002cf42fc986'}], 'count': 1, 'client_id': 'client_ce0fc899-2f1a-4006-ba7a-5d35f53231ea', 'command': 'search'}\n",
      "2021-09-01 16:52:38.695757 [ RESEARCHER ] message received. {'researcher_id': 'researcher_4f6f3259-98d3-4ae0-959b-0ff8e79a9a0a', 'success': True, 'databases': [{'name': 'celeba', 'data_type': 'images', 'tags': ['#celeba'], 'description': 'celeba node 2', 'shape': [67533, 3, 218, 178], 'dataset_id': 'dataset_0552948d-e128-4d12-a024-c91000616a7d'}], 'count': 1, 'client_id': 'client_f89763a8-0d2e-4580-bf9e-e6ae3ddb7393', 'command': 'search'}\n"
     ]
    }
   ],
   "source": [
    "from fedbiomed.researcher.experiment import Experiment\n",
    "from fedbiomed.researcher.aggregators.fedavg import FedAverage\n",
    "\n",
    "tags =  ['#celeba']\n",
    "rounds = 5\n",
    "\n",
    "exp = Experiment(tags=tags,\n",
    "                 model_path=model_file,\n",
    "                 model_class='Net',\n",
    "                 training_args=training_args,\n",
    "                 rounds=rounds,\n",
    "                 aggregator=FedAverage(),\n",
    "                 client_selection_strategy=None)"
   ]
  },
  {
   "cell_type": "markdown",
   "metadata": {},
   "source": [
    "Define an experiment\n",
    "- search nodes serving data for these `tags`, optionally filter on a list of client ID with `clients`\n",
    "- run a round of local training on nodes with model defined in `model_path` + federation with `aggregator`\n",
    "- run for `rounds` rounds, applying the `client_selection_strategy` between the rounds"
   ]
  },
  {
   "cell_type": "markdown",
   "metadata": {
    "pycharm": {
     "name": "#%% md\n"
    }
   },
   "source": [
    "Let's start the experiment.\n",
    "\n",
    "By default, this function doesn't stop until all the `rounds` are done for all the clients"
   ]
  },
  {
   "cell_type": "code",
   "execution_count": 6,
   "metadata": {
    "pycharm": {
     "name": "#%%\n"
    },
    "scrolled": true
   },
   "outputs": [
    {
     "name": "stdout",
     "output_type": "stream",
     "text": [
      "Sampled clients in round  0   ['client_ce0fc899-2f1a-4006-ba7a-5d35f53231ea', 'client_f89763a8-0d2e-4580-bf9e-e6ae3ddb7393']\n",
      "[ RESEARCHER ] Send message to client  client_ce0fc899-2f1a-4006-ba7a-5d35f53231ea {'researcher_id': 'researcher_4f6f3259-98d3-4ae0-959b-0ff8e79a9a0a', 'job_id': '2337763c-8df9-4778-ac52-5f5bf133eb59', 'training_args': {'batch_size': 32, 'lr': 0.001, 'epochs': 1, 'dry_run': False, 'batch_maxnum': 200}, 'model_args': {}, 'command': 'train', 'model_url': 'http://localhost:8844/media/uploads/2021/09/01/my_model_6dd80699-25f0-4090-849a-ad9093d9d9f9.py', 'params_url': 'http://localhost:8844/media/uploads/2021/09/01/my_model_a31a5597-0644-4aa9-8fbf-4fb29e4f6b8a.pt', 'model_class': 'Net', 'training_data': {'client_ce0fc899-2f1a-4006-ba7a-5d35f53231ea': ['dataset_83c312fc-4a61-497c-8a71-002cf42fc986']}}\n",
      "researcher_4f6f3259-98d3-4ae0-959b-0ff8e79a9a0a\n",
      "[ RESEARCHER ] Send message to client  client_f89763a8-0d2e-4580-bf9e-e6ae3ddb7393 {'researcher_id': 'researcher_4f6f3259-98d3-4ae0-959b-0ff8e79a9a0a', 'job_id': '2337763c-8df9-4778-ac52-5f5bf133eb59', 'training_args': {'batch_size': 32, 'lr': 0.001, 'epochs': 1, 'dry_run': False, 'batch_maxnum': 200}, 'model_args': {}, 'command': 'train', 'model_url': 'http://localhost:8844/media/uploads/2021/09/01/my_model_6dd80699-25f0-4090-849a-ad9093d9d9f9.py', 'params_url': 'http://localhost:8844/media/uploads/2021/09/01/my_model_a31a5597-0644-4aa9-8fbf-4fb29e4f6b8a.pt', 'model_class': 'Net', 'training_data': {'client_f89763a8-0d2e-4580-bf9e-e6ae3ddb7393': ['dataset_0552948d-e128-4d12-a024-c91000616a7d']}}\n",
      "researcher_4f6f3259-98d3-4ae0-959b-0ff8e79a9a0a\n",
      "2021-09-01 16:54:29.616506 [ RESEARCHER ] message received. {'researcher_id': 'researcher_4f6f3259-98d3-4ae0-959b-0ff8e79a9a0a', 'job_id': '2337763c-8df9-4778-ac52-5f5bf133eb59', 'success': True, 'client_id': 'client_f89763a8-0d2e-4580-bf9e-e6ae3ddb7393', 'dataset_id': 'dataset_0552948d-e128-4d12-a024-c91000616a7d', 'params_url': 'http://localhost:8844/media/uploads/2021/09/01/node_params_7159a670-b79a-449c-bded-c45838bc7b09.pt', 'timing': {'rtime_training': 100.4211127890012, 'ptime_training': 580.968519709}, 'msg': '', 'command': 'train'}\n",
      "2021-09-01 16:54:29.700070 [ RESEARCHER ] message received. {'researcher_id': 'researcher_4f6f3259-98d3-4ae0-959b-0ff8e79a9a0a', 'job_id': '2337763c-8df9-4778-ac52-5f5bf133eb59', 'success': True, 'client_id': 'client_ce0fc899-2f1a-4006-ba7a-5d35f53231ea', 'dataset_id': 'dataset_83c312fc-4a61-497c-8a71-002cf42fc986', 'params_url': 'http://localhost:8844/media/uploads/2021/09/01/node_params_94b614d8-701d-4be3-82e9-59a90f6b34e4.pt', 'timing': {'rtime_training': 100.42365202200017, 'ptime_training': 581.7227632620001}, 'msg': '', 'command': 'train'}\n",
      "Downloading model params after training on  client_f89763a8-0d2e-4580-bf9e-e6ae3ddb7393 \n",
      "\t- from http://localhost:8844/media/uploads/2021/09/01/node_params_7159a670-b79a-449c-bded-c45838bc7b09.pt\n",
      "Downloading model params after training on  client_ce0fc899-2f1a-4006-ba7a-5d35f53231ea \n",
      "\t- from http://localhost:8844/media/uploads/2021/09/01/node_params_94b614d8-701d-4be3-82e9-59a90f6b34e4.pt\n",
      "Clients that successfully reply in round  0   ['client_f89763a8-0d2e-4580-bf9e-e6ae3ddb7393', 'client_ce0fc899-2f1a-4006-ba7a-5d35f53231ea']\n",
      "Sampled clients in round  1   ['client_ce0fc899-2f1a-4006-ba7a-5d35f53231ea', 'client_f89763a8-0d2e-4580-bf9e-e6ae3ddb7393']\n",
      "[ RESEARCHER ] Send message to client  client_ce0fc899-2f1a-4006-ba7a-5d35f53231ea {'researcher_id': 'researcher_4f6f3259-98d3-4ae0-959b-0ff8e79a9a0a', 'job_id': '2337763c-8df9-4778-ac52-5f5bf133eb59', 'training_args': {'batch_size': 32, 'lr': 0.001, 'epochs': 1, 'dry_run': False, 'batch_maxnum': 200}, 'model_args': {}, 'command': 'train', 'model_url': 'http://localhost:8844/media/uploads/2021/09/01/my_model_6dd80699-25f0-4090-849a-ad9093d9d9f9.py', 'params_url': 'http://localhost:8844/media/uploads/2021/09/01/researcher_params_aad83ef1-625a-4058-878b-389b4cd5f37e.pt', 'model_class': 'Net', 'training_data': {'client_ce0fc899-2f1a-4006-ba7a-5d35f53231ea': ['dataset_83c312fc-4a61-497c-8a71-002cf42fc986']}}\n",
      "researcher_4f6f3259-98d3-4ae0-959b-0ff8e79a9a0a\n",
      "[ RESEARCHER ] Send message to client  client_f89763a8-0d2e-4580-bf9e-e6ae3ddb7393 {'researcher_id': 'researcher_4f6f3259-98d3-4ae0-959b-0ff8e79a9a0a', 'job_id': '2337763c-8df9-4778-ac52-5f5bf133eb59', 'training_args': {'batch_size': 32, 'lr': 0.001, 'epochs': 1, 'dry_run': False, 'batch_maxnum': 200}, 'model_args': {}, 'command': 'train', 'model_url': 'http://localhost:8844/media/uploads/2021/09/01/my_model_6dd80699-25f0-4090-849a-ad9093d9d9f9.py', 'params_url': 'http://localhost:8844/media/uploads/2021/09/01/researcher_params_aad83ef1-625a-4058-878b-389b4cd5f37e.pt', 'model_class': 'Net', 'training_data': {'client_f89763a8-0d2e-4580-bf9e-e6ae3ddb7393': ['dataset_0552948d-e128-4d12-a024-c91000616a7d']}}\n",
      "researcher_4f6f3259-98d3-4ae0-959b-0ff8e79a9a0a\n",
      "2021-09-01 16:56:19.343638 [ RESEARCHER ] message received. {'researcher_id': 'researcher_4f6f3259-98d3-4ae0-959b-0ff8e79a9a0a', 'job_id': '2337763c-8df9-4778-ac52-5f5bf133eb59', 'success': True, 'client_id': 'client_f89763a8-0d2e-4580-bf9e-e6ae3ddb7393', 'dataset_id': 'dataset_0552948d-e128-4d12-a024-c91000616a7d', 'params_url': 'http://localhost:8844/media/uploads/2021/09/01/node_params_8e77e4dc-75f9-4321-9ec5-2152ec353fb1.pt', 'timing': {'rtime_training': 100.03839939500176, 'ptime_training': 579.9554657310001}, 'msg': '', 'command': 'train'}\n",
      "2021-09-01 16:56:19.740729 [ RESEARCHER ] message received. {'researcher_id': 'researcher_4f6f3259-98d3-4ae0-959b-0ff8e79a9a0a', 'job_id': '2337763c-8df9-4778-ac52-5f5bf133eb59', 'success': True, 'client_id': 'client_ce0fc899-2f1a-4006-ba7a-5d35f53231ea', 'dataset_id': 'dataset_83c312fc-4a61-497c-8a71-002cf42fc986', 'params_url': 'http://localhost:8844/media/uploads/2021/09/01/node_params_50635222-aecf-4a27-9d3d-54777464dc7c.pt', 'timing': {'rtime_training': 100.43159888900118, 'ptime_training': 581.630085465}, 'msg': '', 'command': 'train'}\n",
      "Downloading model params after training on  client_f89763a8-0d2e-4580-bf9e-e6ae3ddb7393 \n",
      "\t- from http://localhost:8844/media/uploads/2021/09/01/node_params_8e77e4dc-75f9-4321-9ec5-2152ec353fb1.pt\n",
      "Downloading model params after training on  client_ce0fc899-2f1a-4006-ba7a-5d35f53231ea \n",
      "\t- from http://localhost:8844/media/uploads/2021/09/01/node_params_50635222-aecf-4a27-9d3d-54777464dc7c.pt\n",
      "Clients that successfully reply in round  1   ['client_f89763a8-0d2e-4580-bf9e-e6ae3ddb7393', 'client_ce0fc899-2f1a-4006-ba7a-5d35f53231ea']\n",
      "Sampled clients in round  2   ['client_ce0fc899-2f1a-4006-ba7a-5d35f53231ea', 'client_f89763a8-0d2e-4580-bf9e-e6ae3ddb7393']\n",
      "[ RESEARCHER ] Send message to client  client_ce0fc899-2f1a-4006-ba7a-5d35f53231ea {'researcher_id': 'researcher_4f6f3259-98d3-4ae0-959b-0ff8e79a9a0a', 'job_id': '2337763c-8df9-4778-ac52-5f5bf133eb59', 'training_args': {'batch_size': 32, 'lr': 0.001, 'epochs': 1, 'dry_run': False, 'batch_maxnum': 200}, 'model_args': {}, 'command': 'train', 'model_url': 'http://localhost:8844/media/uploads/2021/09/01/my_model_6dd80699-25f0-4090-849a-ad9093d9d9f9.py', 'params_url': 'http://localhost:8844/media/uploads/2021/09/01/researcher_params_2a4bad60-4b5f-48ac-98b7-89a406604cbc.pt', 'model_class': 'Net', 'training_data': {'client_ce0fc899-2f1a-4006-ba7a-5d35f53231ea': ['dataset_83c312fc-4a61-497c-8a71-002cf42fc986']}}\n",
      "researcher_4f6f3259-98d3-4ae0-959b-0ff8e79a9a0a\n",
      "[ RESEARCHER ] Send message to client  client_f89763a8-0d2e-4580-bf9e-e6ae3ddb7393 {'researcher_id': 'researcher_4f6f3259-98d3-4ae0-959b-0ff8e79a9a0a', 'job_id': '2337763c-8df9-4778-ac52-5f5bf133eb59', 'training_args': {'batch_size': 32, 'lr': 0.001, 'epochs': 1, 'dry_run': False, 'batch_maxnum': 200}, 'model_args': {}, 'command': 'train', 'model_url': 'http://localhost:8844/media/uploads/2021/09/01/my_model_6dd80699-25f0-4090-849a-ad9093d9d9f9.py', 'params_url': 'http://localhost:8844/media/uploads/2021/09/01/researcher_params_2a4bad60-4b5f-48ac-98b7-89a406604cbc.pt', 'model_class': 'Net', 'training_data': {'client_f89763a8-0d2e-4580-bf9e-e6ae3ddb7393': ['dataset_0552948d-e128-4d12-a024-c91000616a7d']}}\n",
      "researcher_4f6f3259-98d3-4ae0-959b-0ff8e79a9a0a\n"
     ]
    },
    {
     "name": "stdout",
     "output_type": "stream",
     "text": [
      "2021-09-01 16:58:11.615398 [ RESEARCHER ] message received. {'researcher_id': 'researcher_4f6f3259-98d3-4ae0-959b-0ff8e79a9a0a', 'job_id': '2337763c-8df9-4778-ac52-5f5bf133eb59', 'success': True, 'client_id': 'client_ce0fc899-2f1a-4006-ba7a-5d35f53231ea', 'dataset_id': 'dataset_83c312fc-4a61-497c-8a71-002cf42fc986', 'params_url': 'http://localhost:8844/media/uploads/2021/09/01/node_params_709b5002-1859-40de-8888-7e56071486cb.pt', 'timing': {'rtime_training': 102.11056908500177, 'ptime_training': 589.05831949}, 'msg': '', 'command': 'train'}\n",
      "2021-09-01 16:58:12.364039 [ RESEARCHER ] message received. {'researcher_id': 'researcher_4f6f3259-98d3-4ae0-959b-0ff8e79a9a0a', 'job_id': '2337763c-8df9-4778-ac52-5f5bf133eb59', 'success': True, 'client_id': 'client_f89763a8-0d2e-4580-bf9e-e6ae3ddb7393', 'dataset_id': 'dataset_0552948d-e128-4d12-a024-c91000616a7d', 'params_url': 'http://localhost:8844/media/uploads/2021/09/01/node_params_64f561ea-5137-479c-8750-5415d284e790.pt', 'timing': {'rtime_training': 102.81430753500172, 'ptime_training': 591.9605228570001}, 'msg': '', 'command': 'train'}\n",
      "Downloading model params after training on  client_ce0fc899-2f1a-4006-ba7a-5d35f53231ea \n",
      "\t- from http://localhost:8844/media/uploads/2021/09/01/node_params_709b5002-1859-40de-8888-7e56071486cb.pt\n",
      "Downloading model params after training on  client_f89763a8-0d2e-4580-bf9e-e6ae3ddb7393 \n",
      "\t- from http://localhost:8844/media/uploads/2021/09/01/node_params_64f561ea-5137-479c-8750-5415d284e790.pt\n",
      "Clients that successfully reply in round  2   ['client_ce0fc899-2f1a-4006-ba7a-5d35f53231ea', 'client_f89763a8-0d2e-4580-bf9e-e6ae3ddb7393']\n",
      "Sampled clients in round  3   ['client_ce0fc899-2f1a-4006-ba7a-5d35f53231ea', 'client_f89763a8-0d2e-4580-bf9e-e6ae3ddb7393']\n",
      "[ RESEARCHER ] Send message to client  client_ce0fc899-2f1a-4006-ba7a-5d35f53231ea {'researcher_id': 'researcher_4f6f3259-98d3-4ae0-959b-0ff8e79a9a0a', 'job_id': '2337763c-8df9-4778-ac52-5f5bf133eb59', 'training_args': {'batch_size': 32, 'lr': 0.001, 'epochs': 1, 'dry_run': False, 'batch_maxnum': 200}, 'model_args': {}, 'command': 'train', 'model_url': 'http://localhost:8844/media/uploads/2021/09/01/my_model_6dd80699-25f0-4090-849a-ad9093d9d9f9.py', 'params_url': 'http://localhost:8844/media/uploads/2021/09/01/researcher_params_c014b01b-1fa4-4449-9ce7-8c24ac906419.pt', 'model_class': 'Net', 'training_data': {'client_ce0fc899-2f1a-4006-ba7a-5d35f53231ea': ['dataset_83c312fc-4a61-497c-8a71-002cf42fc986']}}\n",
      "researcher_4f6f3259-98d3-4ae0-959b-0ff8e79a9a0a\n",
      "[ RESEARCHER ] Send message to client  client_f89763a8-0d2e-4580-bf9e-e6ae3ddb7393 {'researcher_id': 'researcher_4f6f3259-98d3-4ae0-959b-0ff8e79a9a0a', 'job_id': '2337763c-8df9-4778-ac52-5f5bf133eb59', 'training_args': {'batch_size': 32, 'lr': 0.001, 'epochs': 1, 'dry_run': False, 'batch_maxnum': 200}, 'model_args': {}, 'command': 'train', 'model_url': 'http://localhost:8844/media/uploads/2021/09/01/my_model_6dd80699-25f0-4090-849a-ad9093d9d9f9.py', 'params_url': 'http://localhost:8844/media/uploads/2021/09/01/researcher_params_c014b01b-1fa4-4449-9ce7-8c24ac906419.pt', 'model_class': 'Net', 'training_data': {'client_f89763a8-0d2e-4580-bf9e-e6ae3ddb7393': ['dataset_0552948d-e128-4d12-a024-c91000616a7d']}}\n",
      "researcher_4f6f3259-98d3-4ae0-959b-0ff8e79a9a0a\n",
      "2021-09-01 17:00:00.891355 [ RESEARCHER ] message received. {'researcher_id': 'researcher_4f6f3259-98d3-4ae0-959b-0ff8e79a9a0a', 'job_id': '2337763c-8df9-4778-ac52-5f5bf133eb59', 'success': True, 'client_id': 'client_ce0fc899-2f1a-4006-ba7a-5d35f53231ea', 'dataset_id': 'dataset_83c312fc-4a61-497c-8a71-002cf42fc986', 'params_url': 'http://localhost:8844/media/uploads/2021/09/01/node_params_775a768d-1edf-4172-bbd0-315361d305d3.pt', 'timing': {'rtime_training': 101.21026823300053, 'ptime_training': 585.2620868880001}, 'msg': '', 'command': 'train'}\n",
      "2021-09-01 17:00:01.572841 [ RESEARCHER ] message received. {'researcher_id': 'researcher_4f6f3259-98d3-4ae0-959b-0ff8e79a9a0a', 'job_id': '2337763c-8df9-4778-ac52-5f5bf133eb59', 'success': True, 'client_id': 'client_f89763a8-0d2e-4580-bf9e-e6ae3ddb7393', 'dataset_id': 'dataset_0552948d-e128-4d12-a024-c91000616a7d', 'params_url': 'http://localhost:8844/media/uploads/2021/09/01/node_params_6ccf45a1-0348-47eb-b03d-165735592d4b.pt', 'timing': {'rtime_training': 101.88332092799828, 'ptime_training': 589.249169316}, 'msg': '', 'command': 'train'}\n",
      "Downloading model params after training on  client_ce0fc899-2f1a-4006-ba7a-5d35f53231ea \n",
      "\t- from http://localhost:8844/media/uploads/2021/09/01/node_params_775a768d-1edf-4172-bbd0-315361d305d3.pt\n",
      "Downloading model params after training on  client_f89763a8-0d2e-4580-bf9e-e6ae3ddb7393 \n",
      "\t- from http://localhost:8844/media/uploads/2021/09/01/node_params_6ccf45a1-0348-47eb-b03d-165735592d4b.pt\n",
      "Clients that successfully reply in round  3   ['client_ce0fc899-2f1a-4006-ba7a-5d35f53231ea', 'client_f89763a8-0d2e-4580-bf9e-e6ae3ddb7393']\n",
      "Sampled clients in round  4   ['client_ce0fc899-2f1a-4006-ba7a-5d35f53231ea', 'client_f89763a8-0d2e-4580-bf9e-e6ae3ddb7393']\n",
      "[ RESEARCHER ] Send message to client  client_ce0fc899-2f1a-4006-ba7a-5d35f53231ea {'researcher_id': 'researcher_4f6f3259-98d3-4ae0-959b-0ff8e79a9a0a', 'job_id': '2337763c-8df9-4778-ac52-5f5bf133eb59', 'training_args': {'batch_size': 32, 'lr': 0.001, 'epochs': 1, 'dry_run': False, 'batch_maxnum': 200}, 'model_args': {}, 'command': 'train', 'model_url': 'http://localhost:8844/media/uploads/2021/09/01/my_model_6dd80699-25f0-4090-849a-ad9093d9d9f9.py', 'params_url': 'http://localhost:8844/media/uploads/2021/09/01/researcher_params_312c9870-1066-448a-b20f-72da99894ea6.pt', 'model_class': 'Net', 'training_data': {'client_ce0fc899-2f1a-4006-ba7a-5d35f53231ea': ['dataset_83c312fc-4a61-497c-8a71-002cf42fc986']}}\n",
      "researcher_4f6f3259-98d3-4ae0-959b-0ff8e79a9a0a\n",
      "[ RESEARCHER ] Send message to client  client_f89763a8-0d2e-4580-bf9e-e6ae3ddb7393 {'researcher_id': 'researcher_4f6f3259-98d3-4ae0-959b-0ff8e79a9a0a', 'job_id': '2337763c-8df9-4778-ac52-5f5bf133eb59', 'training_args': {'batch_size': 32, 'lr': 0.001, 'epochs': 1, 'dry_run': False, 'batch_maxnum': 200}, 'model_args': {}, 'command': 'train', 'model_url': 'http://localhost:8844/media/uploads/2021/09/01/my_model_6dd80699-25f0-4090-849a-ad9093d9d9f9.py', 'params_url': 'http://localhost:8844/media/uploads/2021/09/01/researcher_params_312c9870-1066-448a-b20f-72da99894ea6.pt', 'model_class': 'Net', 'training_data': {'client_f89763a8-0d2e-4580-bf9e-e6ae3ddb7393': ['dataset_0552948d-e128-4d12-a024-c91000616a7d']}}\n",
      "researcher_4f6f3259-98d3-4ae0-959b-0ff8e79a9a0a\n",
      "2021-09-01 17:01:52.119194 [ RESEARCHER ] message received. {'researcher_id': 'researcher_4f6f3259-98d3-4ae0-959b-0ff8e79a9a0a', 'job_id': '2337763c-8df9-4778-ac52-5f5bf133eb59', 'success': True, 'client_id': 'client_ce0fc899-2f1a-4006-ba7a-5d35f53231ea', 'dataset_id': 'dataset_83c312fc-4a61-497c-8a71-002cf42fc986', 'params_url': 'http://localhost:8844/media/uploads/2021/09/01/node_params_a1065d47-7995-4fea-a2c3-7470ff0a7704.pt', 'timing': {'rtime_training': 102.23132023200014, 'ptime_training': 592.2305412379997}, 'msg': '', 'command': 'train'}\n",
      "2021-09-01 17:01:52.804734 [ RESEARCHER ] message received. {'researcher_id': 'researcher_4f6f3259-98d3-4ae0-959b-0ff8e79a9a0a', 'job_id': '2337763c-8df9-4778-ac52-5f5bf133eb59', 'success': True, 'client_id': 'client_f89763a8-0d2e-4580-bf9e-e6ae3ddb7393', 'dataset_id': 'dataset_0552948d-e128-4d12-a024-c91000616a7d', 'params_url': 'http://localhost:8844/media/uploads/2021/09/01/node_params_a4bf3608-faaa-49f1-8a53-9f3e4114cbf5.pt', 'timing': {'rtime_training': 102.931881298995, 'ptime_training': 595.3917102259998}, 'msg': '', 'command': 'train'}\n",
      "Downloading model params after training on  client_ce0fc899-2f1a-4006-ba7a-5d35f53231ea \n",
      "\t- from http://localhost:8844/media/uploads/2021/09/01/node_params_a1065d47-7995-4fea-a2c3-7470ff0a7704.pt\n",
      "Downloading model params after training on  client_f89763a8-0d2e-4580-bf9e-e6ae3ddb7393 \n",
      "\t- from http://localhost:8844/media/uploads/2021/09/01/node_params_a4bf3608-faaa-49f1-8a53-9f3e4114cbf5.pt\n",
      "Clients that successfully reply in round  4   ['client_ce0fc899-2f1a-4006-ba7a-5d35f53231ea', 'client_f89763a8-0d2e-4580-bf9e-e6ae3ddb7393']\n"
     ]
    }
   ],
   "source": [
    "exp.run()"
   ]
  },
  {
   "cell_type": "markdown",
   "metadata": {},
   "source": [
    "Retrieve the federated model parameters"
   ]
  },
  {
   "cell_type": "code",
   "execution_count": 7,
   "metadata": {},
   "outputs": [
    {
     "data": {
      "text/plain": [
       "<All keys matched successfully>"
      ]
     },
     "execution_count": 7,
     "metadata": {},
     "output_type": "execute_result"
    }
   ],
   "source": [
    "fed_model = exp.model_instance\n",
    "fed_model.load_state_dict(exp.aggregated_params[rounds - 1]['params'])"
   ]
  },
  {
   "cell_type": "code",
   "execution_count": 8,
   "metadata": {},
   "outputs": [
    {
     "data": {
      "text/plain": [
       "Net(\n",
       "  (conv1): Conv2d(3, 32, kernel_size=(3, 3), stride=(1, 1))\n",
       "  (conv2): Conv2d(32, 32, kernel_size=(3, 3), stride=(1, 1))\n",
       "  (conv3): Conv2d(32, 32, kernel_size=(3, 3), stride=(1, 1))\n",
       "  (conv4): Conv2d(32, 32, kernel_size=(3, 3), stride=(1, 1))\n",
       "  (dropout1): Dropout(p=0.25, inplace=False)\n",
       "  (dropout2): Dropout(p=0.5, inplace=False)\n",
       "  (fc1): Linear(in_features=3168, out_features=128, bias=True)\n",
       "  (fc2): Linear(in_features=128, out_features=2, bias=True)\n",
       ")"
      ]
     },
     "execution_count": 8,
     "metadata": {},
     "output_type": "execute_result"
    }
   ],
   "source": [
    "fed_model"
   ]
  },
  {
   "cell_type": "markdown",
   "metadata": {},
   "source": [
    "# Test Model"
   ]
  },
  {
   "cell_type": "markdown",
   "metadata": {},
   "source": [
    "We define a little testing routine to extract the accuracy metrics on the testing dataset\n",
    "## Important\n",
    "this is done to test the model because it is a devellopement environement  \n",
    "in production, the data wont be accessible."
   ]
  },
  {
   "cell_type": "code",
   "execution_count": 9,
   "metadata": {},
   "outputs": [],
   "source": [
    "\n",
    "import torch\n",
    "import torch.nn as nn\n",
    "\n",
    "import torch.nn.functional as F\n",
    "from torch.utils.data import DataLoader\n",
    "from torchvision import datasets, transforms\n",
    "from torch.utils.data import Dataset, DataLoader\n",
    "import pandas as pd\n",
    "import numpy as np\n",
    "from PIL import Image\n",
    "import os\n",
    "\n",
    "def testing_Accuracy(model, data_loader):\n",
    "    model.eval()\n",
    "    test_loss = 0\n",
    "    correct = 0\n",
    "    device = 'cpu'\n",
    "\n",
    "    correct = 0\n",
    "    \n",
    "    with torch.no_grad():\n",
    "        for data, target in data_loader:\n",
    "            data, target = data.to(device), target.to(device)\n",
    "            output = model(data)\n",
    "            test_loss += F.nll_loss(output, target, reduction='sum').item()  # sum up batch loss\n",
    "            pred = output.argmax(dim=1, keepdim=True)  # get the index of the max log-probability\n",
    "            correct += pred.eq(target.view_as(pred)).sum().item()\n",
    "    \n",
    "        pred = output.argmax(dim=1, keepdim=True)\n",
    "\n",
    "    test_loss /= len(data_loader.dataset)\n",
    "    accuracy = 100* correct/len(data_loader.dataset)\n",
    "\n",
    "    return(test_loss, accuracy)"
   ]
  },
  {
   "cell_type": "markdown",
   "metadata": {},
   "source": [
    "the test dataset is the data from the third node"
   ]
  },
  {
   "cell_type": "code",
   "execution_count": 10,
   "metadata": {},
   "outputs": [
    {
     "name": "stdout",
     "output_type": "stream",
     "text": [
      "celeba dataset finished\n"
     ]
    }
   ],
   "source": [
    "\n",
    "test_dataset_path = \"./data_for_examples/Celeba/celeba_preprocessed/data_node_3\"\n",
    "\n",
    "class CelebaDataset(Dataset):\n",
    "        \"\"\"Custom Dataset for loading CelebA face images\"\"\"\n",
    "\n",
    "        def __init__(self, txt_path, img_dir, transform=None):\n",
    "            df = pd.read_csv(txt_path, sep=\"\\t\", index_col=0)\n",
    "            self.img_dir = img_dir\n",
    "            self.txt_path = txt_path\n",
    "            self.img_names = df.index.values\n",
    "            self.y = df['Smiling'].values\n",
    "            self.transform = transform\n",
    "            print(\"celeba dataset finished\")\n",
    "\n",
    "        def __getitem__(self, index):\n",
    "            img = np.asarray(Image.open(os.path.join(self.img_dir,\n",
    "                                        self.img_names[index])))\n",
    "            img = transforms.ToTensor()(img)\n",
    "            label = self.y[index]\n",
    "            return img, label\n",
    "\n",
    "        def __len__(self):\n",
    "            return self.y.shape[0]\n",
    "    \n",
    "\n",
    "dataset = CelebaDataset(test_dataset_path + \"/target.csv\", test_dataset_path + \"/data/\")\n",
    "train_kwargs = {'batch_size': 64, 'shuffle': True}\n",
    "data_loader = DataLoader(dataset, **train_kwargs)"
   ]
  },
  {
   "cell_type": "markdown",
   "metadata": {},
   "source": [
    "Loading the testing dataset and computing accuracy metrics for local and federated models"
   ]
  },
  {
   "cell_type": "code",
   "execution_count": 11,
   "metadata": {},
   "outputs": [],
   "source": [
    "acc_federated = testing_Accuracy(fed_model, data_loader)"
   ]
  },
  {
   "cell_type": "code",
   "execution_count": 12,
   "metadata": {},
   "outputs": [
    {
     "data": {
      "text/plain": [
       "88.29905379592199"
      ]
     },
     "execution_count": 12,
     "metadata": {},
     "output_type": "execute_result"
    }
   ],
   "source": [
    "acc_federated[1]"
   ]
  }
 ],
 "metadata": {
  "interpreter": {
   "hash": "e89561e616b27d96972869796636c18d9df047835da4fde0d47d1d63cf19e486"
  },
  "kernelspec": {
   "display_name": "Python 3",
   "language": "python",
   "name": "python3"
  },
  "language_info": {
   "codemirror_mode": {
    "name": "ipython",
    "version": 3
   },
   "file_extension": ".py",
   "mimetype": "text/x-python",
   "name": "python",
   "nbconvert_exporter": "python",
   "pygments_lexer": "ipython3",
   "version": "3.9.6"
  }
 },
 "nbformat": 4,
 "nbformat_minor": 1
}

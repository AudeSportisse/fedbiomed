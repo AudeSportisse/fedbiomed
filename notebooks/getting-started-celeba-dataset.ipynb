{
 "cells": [
  {
   "cell_type": "markdown",
   "metadata": {},
   "source": [
    "# Fedbiomed Researcher"
   ]
  },
  {
   "cell_type": "markdown",
   "metadata": {},
   "source": [
    "Use for developing (autoreloads changes made across packages)"
   ]
  },
  {
   "cell_type": "code",
   "execution_count": 1,
   "metadata": {},
   "outputs": [],
   "source": [
    "%load_ext autoreload\n",
    "%autoreload 2"
   ]
  },
  {
   "cell_type": "markdown",
   "metadata": {},
   "source": [
    "## Setting the client up\n",
    "\n",
    "Install the CelebA dataset with the help of the README.md file inside `notebooks/data/Celeba`  \n",
    "The script create 3 nodes with each their data. The dataset of the node 3 is used in this notebook as a testing set.  \n",
    "Therefore its not necessary to create a node and run the node 3  \n",
    "\n",
    "Before using script make sure the correct environment is setup, for the node environement, run : `source ./scripts/fedbiomed_environment node`  \n",
    "For the sake of testing the resulting model, this file uses the data from node 1 and 2 for training and the data from node 3 to test.\n",
    "You can create multiple nodes by adding a config parameter to the command controlling nodes, for example :  \n",
    "creating 2 nodes for training :  \n",
    " - `./scripts/fedbiomed_run node config node1.ini start`\n",
    " - `./scripts/fedbiomed_run node config node2.ini start`  \n",
    " \n",
    "adding data for each node :  \n",
    " - `./scripts/fedbiomed_run node config node1.ini add`\n",
    " - `./scripts/fedbiomed_run node config node2.ini add`\n",
    "\n",
    "It is necessary to previously configure at least a node:\n",
    "1. `./scripts/fedbiomed_run node config (ini file) add`\n",
    "  * Select option 3 (images) to add an image dataset to the node\n",
    "  * Add a name and the tag for the dataset (tag should contain '#celeba' as it is the tag used for this training) and finaly add the description\n",
    "  * Pick a data folder from the 3 generated inside data/Celeba/celeba_preprocessed\n",
    "  * Data must have been added (if you get a warning saying that data must be unique is because it's been already added)\n",
    "  \n",
    "2. Check that your data has been added by executing `./scripts/fedbiomed_run node config (ini file) list`\n",
    "3. Run the node using `./scripts/fedbiomed_run node config (ini file) start`. Wait until you get `Connected with result code 0`. it means you are online.\n",
    "\n",
    "for the sake of testing the resulting model, only nodes 1 and 2 were started during training, datas from node 3 is used to test the model."
   ]
  },
  {
   "cell_type": "markdown",
   "metadata": {},
   "source": [
    "## Create an experiment to train a model on the data found"
   ]
  },
  {
   "cell_type": "markdown",
   "metadata": {},
   "source": [
    "Declare a torch.nn Net class to send for training on the node"
   ]
  },
  {
   "cell_type": "code",
   "execution_count": 2,
   "metadata": {},
   "outputs": [],
   "source": [
    "from fedbiomed.researcher.environ import TMP_DIR\n",
    "import tempfile\n",
    "tmp_dir_model = tempfile.TemporaryDirectory(dir=TMP_DIR+'/')\n",
    "model_file = tmp_dir_model.name + '/CelebaClass.py'"
   ]
  },
  {
   "cell_type": "markdown",
   "metadata": {},
   "source": [
    "Note : write **only** the code to export in the following cell"
   ]
  },
  {
   "cell_type": "code",
   "execution_count": 3,
   "metadata": {},
   "outputs": [
    {
     "name": "stdout",
     "output_type": "stream",
     "text": [
      "Writing /home/administrator/fedbiomed/fedbiomed/var/tmp/tmpm99wtwwi/CelebaClass.py\n"
     ]
    }
   ],
   "source": [
    "%%writefile \"$model_file\"\n",
    "\n",
    "import torch\n",
    "import torch.nn as nn\n",
    "from   fedbiomed.common.torchnn import TorchTrainingPlan\n",
    "import torch.nn.functional as F\n",
    "from torch.utils.data import DataLoader\n",
    "from torchvision import transforms\n",
    "from torch.utils.data import Dataset, DataLoader\n",
    "import pandas as pd\n",
    "import numpy as np\n",
    "from PIL import Image\n",
    "import os\n",
    "\n",
    "\n",
    "class Net(TorchTrainingPlan):\n",
    "    def __init__(self):\n",
    "        super(Net, self).__init__()\n",
    "        #convolution layers\n",
    "        self.conv1 = nn.Conv2d(3, 32, 3, 1)\n",
    "        self.conv2 = nn.Conv2d(32, 32, 3, 1)\n",
    "        self.conv3 = nn.Conv2d(32, 32, 3, 1)\n",
    "        self.conv4 = nn.Conv2d(32, 32, 3, 1)\n",
    "        self.dropout1 = nn.Dropout(0.25)\n",
    "        self.dropout2 = nn.Dropout(0.5)\n",
    "        # classifier\n",
    "        self.fc1 = nn.Linear(3168, 128)\n",
    "        self.fc2 = nn.Linear(128, 2)\n",
    "        \n",
    "        # Here we define the custom dependencies that will be needed by our custom Dataloader\n",
    "        deps = [\"from torch.utils.data import Dataset, DataLoader\",\n",
    "                \"from torchvision import transforms\",\n",
    "                \"import pandas as pd\",\n",
    "               \"from PIL import Image\",\n",
    "               \"import os\",\n",
    "               \"import numpy as np\"]\n",
    "        self.add_dependency(deps)\n",
    "\n",
    "    def forward(self, x):\n",
    "        x = self.conv1(x)\n",
    "        x = F.max_pool2d(x, 2)\n",
    "        x = F.relu(x)\n",
    "        \n",
    "        x = self.conv2(x)\n",
    "        x = F.max_pool2d(x, 2)\n",
    "        x = F.relu(x)\n",
    "\n",
    "        x = self.conv3(x)\n",
    "        x = F.max_pool2d(x, 2)\n",
    "        x = F.relu(x)\n",
    "\n",
    "        x = self.conv4(x)\n",
    "        x = F.max_pool2d(x, 2)\n",
    "        x = F.relu(x)\n",
    "        \n",
    "        x = self.dropout1(x)\n",
    "        x = torch.flatten(x, 1)\n",
    "        x = self.fc1(x)\n",
    "        x = F.relu(x)\n",
    "        \n",
    "        x = self.dropout2(x)\n",
    "        x = self.fc2(x)\n",
    "        output = F.log_softmax(x, dim=1)\n",
    "        return output\n",
    "\n",
    "\n",
    "    class CelebaDataset(Dataset):\n",
    "        \"\"\"Custom Dataset for loading CelebA face images\"\"\"\n",
    "        \n",
    "        # we dont load the full data of the images, we retrieve the image with the get item. \n",
    "        # in our case, each image is 218*178 * 3colors. there is 67533 images. this take at leas 7G of ram\n",
    "        # loading images when needed takes more time during training but it wont impact the ram usage as much as loading everything\n",
    "        def __init__(self, txt_path, img_dir, transform=None):\n",
    "            df = pd.read_csv(txt_path, sep=\"\\t\", index_col=0)\n",
    "            self.img_dir = img_dir\n",
    "            self.txt_path = txt_path\n",
    "            self.img_names = df.index.values\n",
    "            self.y = df['Smiling'].values\n",
    "            self.transform = transform\n",
    "            print(\"celeba dataset finished\")\n",
    "\n",
    "        def __getitem__(self, index):\n",
    "            img = np.asarray(Image.open(os.path.join(self.img_dir,\n",
    "                                        self.img_names[index])))\n",
    "            img = transforms.ToTensor()(img)\n",
    "            label = self.y[index]\n",
    "            return img, label\n",
    "\n",
    "        def __len__(self):\n",
    "            return self.y.shape[0]\n",
    "    \n",
    "    def training_data(self,  batch_size = 48):\n",
    "    # The training_data creates the Dataloader to be used for training in the general class Torchnn of fedbiomed\n",
    "        dataset = self.CelebaDataset(self.dataset_path + \"/target.csv\", self.dataset_path + \"/data/\")\n",
    "        train_kwargs = {'batch_size': batch_size, 'shuffle': True}\n",
    "        data_loader = DataLoader(dataset, **train_kwargs)\n",
    "        return data_loader\n",
    "    \n",
    "    def training_step(self, data, target):\n",
    "        #this function must return the loss to backward it \n",
    "        output = self.forward(data)\n",
    "        loss   = torch.nn.functional.nll_loss(output, target)\n",
    "        return loss\n"
   ]
  },
  {
   "cell_type": "markdown",
   "metadata": {},
   "source": [
    "This group of arguments correspond respectively:\n",
    "* `model_args`: a dictionary with the arguments related to the model (e.g. number of layers, features, etc.). This will be passed to the model class on the client side.\n",
    "* `training_args`: a dictionary containing the arguments for the training routine (e.g. batch size, learning rate, epochs, etc.). This will be passed to the routine on the client side.\n",
    "\n",
    "**NOTE:** typos and/or lack of positional (required) arguments will raise error. 🤓"
   ]
  },
  {
   "cell_type": "code",
   "execution_count": 4,
   "metadata": {
    "pycharm": {
     "name": "#%%\n"
    }
   },
   "outputs": [],
   "source": [
    "training_args = {\n",
    "    'batch_size': 32, \n",
    "    'lr': 1e-3, \n",
    "    'epochs': 1, \n",
    "    'dry_run': False,  \n",
    "    'batch_maxnum': 100 # Fast pass for development : only use ( batch_maxnum * batch_size ) samples\n",
    "}"
   ]
  },
  {
   "cell_type": "markdown",
   "metadata": {},
   "source": [
    "# Train the federated model"
   ]
  },
  {
   "cell_type": "markdown",
   "metadata": {},
   "source": [
    "Define an experiment\n",
    "- search nodes serving data for these `tags`, optionally filter on a list of client ID with `clients`\n",
    "- run a round of local training on nodes with model defined in `model_path` + federation with `aggregator`\n",
    "- run for `rounds` rounds, applying the `client_selection_strategy` between the rounds"
   ]
  },
  {
   "cell_type": "code",
   "execution_count": 5,
   "metadata": {
    "pycharm": {
     "name": "#%%\n"
    },
    "scrolled": true
   },
   "outputs": [
    {
     "name": "stdout",
     "output_type": "stream",
     "text": [
      "Messaging e5df6510-483c-4a2a-bec2-064e6225eb16 connected with result code 0\n",
      "Searching for clients with data tags: ['#celeba'] ...\n",
      "2021-09-13 15:47:50.698367 [ RESEARCHER ] message received. {'researcher_id': 'researcher_85f5f09e-31a5-4013-8973-4221b8258933', 'success': True, 'databases': [{'name': 'celeba', 'data_type': 'images', 'tags': ['#celeba'], 'description': 'celeba', 'shape': [67533, 3, 218, 178], 'dataset_id': 'dataset_817ce5bf-a6c2-49b2-86c4-832ffc7afcc4'}], 'count': 1, 'client_id': 'client_51fbdc11-b998-411a-b9c8-d2383380b467', 'command': 'search'}\n",
      "2021-09-13 15:47:50.698922 [ RESEARCHER ] message received. {'researcher_id': 'researcher_85f5f09e-31a5-4013-8973-4221b8258933', 'success': True, 'databases': [{'name': 'celeba', 'data_type': 'images', 'tags': ['#celeba'], 'description': 'celeba', 'shape': [67533, 3, 218, 178], 'dataset_id': 'dataset_7becae81-029d-4fd8-a545-e52dcfae07d0'}], 'count': 1, 'client_id': 'client_3f223a87-d9e8-4ed6-a9b2-6771820ff99d', 'command': 'search'}\n"
     ]
    }
   ],
   "source": [
    "from fedbiomed.researcher.experiment import Experiment\n",
    "from fedbiomed.researcher.aggregators.fedavg import FedAverage\n",
    "\n",
    "tags =  ['#celeba']\n",
    "rounds = 3\n",
    "\n",
    "exp = Experiment(tags=tags,\n",
    "                 model_path=model_file,\n",
    "                 model_class='Net',\n",
    "                 training_args=training_args,\n",
    "                 rounds=rounds,\n",
    "                 aggregator=FedAverage(),\n",
    "                 client_selection_strategy=None)"
   ]
  },
  {
   "cell_type": "markdown",
   "metadata": {
    "pycharm": {
     "name": "#%% md\n"
    }
   },
   "source": [
    "Let's start the experiment.\n",
    "\n",
    "By default, this function doesn't stop until all the `rounds` are done for all the clients"
   ]
  },
  {
   "cell_type": "code",
   "execution_count": 6,
   "metadata": {
    "pycharm": {
     "name": "#%%\n"
    },
    "scrolled": true
   },
   "outputs": [
    {
     "name": "stdout",
     "output_type": "stream",
     "text": [
      "Sampled clients in round  0   ['client_51fbdc11-b998-411a-b9c8-d2383380b467', 'client_3f223a87-d9e8-4ed6-a9b2-6771820ff99d']\n",
      "[ RESEARCHER ] Send message to client  client_51fbdc11-b998-411a-b9c8-d2383380b467 {'researcher_id': 'researcher_85f5f09e-31a5-4013-8973-4221b8258933', 'job_id': '8fe643ab-dfe9-450c-9f0e-d95e192537d1', 'training_args': {'batch_size': 32, 'lr': 0.001, 'epochs': 1, 'dry_run': False, 'batch_maxnum': 100}, 'model_args': {}, 'command': 'train', 'model_url': 'http://localhost:8844/media/uploads/2021/09/13/my_model_2e8d44f9-f8ab-4794-9b00-13616e50dce9.py', 'params_url': 'http://localhost:8844/media/uploads/2021/09/13/my_model_935221f0-b532-43c8-878e-256a02b64ca6.pt', 'model_class': 'Net', 'training_data': {'client_51fbdc11-b998-411a-b9c8-d2383380b467': ['dataset_817ce5bf-a6c2-49b2-86c4-832ffc7afcc4']}}\n",
      "researcher_85f5f09e-31a5-4013-8973-4221b8258933\n",
      "[ RESEARCHER ] Send message to client  client_3f223a87-d9e8-4ed6-a9b2-6771820ff99d {'researcher_id': 'researcher_85f5f09e-31a5-4013-8973-4221b8258933', 'job_id': '8fe643ab-dfe9-450c-9f0e-d95e192537d1', 'training_args': {'batch_size': 32, 'lr': 0.001, 'epochs': 1, 'dry_run': False, 'batch_maxnum': 100}, 'model_args': {}, 'command': 'train', 'model_url': 'http://localhost:8844/media/uploads/2021/09/13/my_model_2e8d44f9-f8ab-4794-9b00-13616e50dce9.py', 'params_url': 'http://localhost:8844/media/uploads/2021/09/13/my_model_935221f0-b532-43c8-878e-256a02b64ca6.pt', 'model_class': 'Net', 'training_data': {'client_3f223a87-d9e8-4ed6-a9b2-6771820ff99d': ['dataset_7becae81-029d-4fd8-a545-e52dcfae07d0']}}\n",
      "researcher_85f5f09e-31a5-4013-8973-4221b8258933\n",
      "2021-09-13 15:48:50.178891 [ RESEARCHER ] message received. {'researcher_id': 'researcher_85f5f09e-31a5-4013-8973-4221b8258933', 'job_id': '8fe643ab-dfe9-450c-9f0e-d95e192537d1', 'success': True, 'client_id': 'client_51fbdc11-b998-411a-b9c8-d2383380b467', 'dataset_id': 'dataset_817ce5bf-a6c2-49b2-86c4-832ffc7afcc4', 'params_url': 'http://localhost:8844/media/uploads/2021/09/13/node_params_cfd77c0a-fc67-40aa-84f7-c8c17db79ac8.pt', 'timing': {'rtime_training': 49.217236309021246, 'ptime_training': 288.77924765399985}, 'msg': '', 'command': 'train'}\n",
      "2021-09-13 15:48:51.283740 [ RESEARCHER ] message received. {'researcher_id': 'researcher_85f5f09e-31a5-4013-8973-4221b8258933', 'job_id': '8fe643ab-dfe9-450c-9f0e-d95e192537d1', 'success': True, 'client_id': 'client_3f223a87-d9e8-4ed6-a9b2-6771820ff99d', 'dataset_id': 'dataset_7becae81-029d-4fd8-a545-e52dcfae07d0', 'params_url': 'http://localhost:8844/media/uploads/2021/09/13/node_params_93b4c254-a86c-4a5b-80f4-2e7db6b17054.pt', 'timing': {'rtime_training': 50.358154780988116, 'ptime_training': 292.8267475120001}, 'msg': '', 'command': 'train'}\n",
      "Downloading model params after training on  client_51fbdc11-b998-411a-b9c8-d2383380b467 \n",
      "\t- from http://localhost:8844/media/uploads/2021/09/13/node_params_cfd77c0a-fc67-40aa-84f7-c8c17db79ac8.pt\n",
      "Downloading model params after training on  client_3f223a87-d9e8-4ed6-a9b2-6771820ff99d \n",
      "\t- from http://localhost:8844/media/uploads/2021/09/13/node_params_93b4c254-a86c-4a5b-80f4-2e7db6b17054.pt\n",
      "Clients that successfully reply in round  0   ['client_51fbdc11-b998-411a-b9c8-d2383380b467', 'client_3f223a87-d9e8-4ed6-a9b2-6771820ff99d']\n",
      "Sampled clients in round  1   ['client_51fbdc11-b998-411a-b9c8-d2383380b467', 'client_3f223a87-d9e8-4ed6-a9b2-6771820ff99d']\n",
      "[ RESEARCHER ] Send message to client  client_51fbdc11-b998-411a-b9c8-d2383380b467 {'researcher_id': 'researcher_85f5f09e-31a5-4013-8973-4221b8258933', 'job_id': '8fe643ab-dfe9-450c-9f0e-d95e192537d1', 'training_args': {'batch_size': 32, 'lr': 0.001, 'epochs': 1, 'dry_run': False, 'batch_maxnum': 100}, 'model_args': {}, 'command': 'train', 'model_url': 'http://localhost:8844/media/uploads/2021/09/13/my_model_2e8d44f9-f8ab-4794-9b00-13616e50dce9.py', 'params_url': 'http://localhost:8844/media/uploads/2021/09/13/researcher_params_457f44bd-dce0-4770-83a6-fcccca75e29c.pt', 'model_class': 'Net', 'training_data': {'client_51fbdc11-b998-411a-b9c8-d2383380b467': ['dataset_817ce5bf-a6c2-49b2-86c4-832ffc7afcc4']}}\n",
      "researcher_85f5f09e-31a5-4013-8973-4221b8258933\n",
      "[ RESEARCHER ] Send message to client  client_3f223a87-d9e8-4ed6-a9b2-6771820ff99d {'researcher_id': 'researcher_85f5f09e-31a5-4013-8973-4221b8258933', 'job_id': '8fe643ab-dfe9-450c-9f0e-d95e192537d1', 'training_args': {'batch_size': 32, 'lr': 0.001, 'epochs': 1, 'dry_run': False, 'batch_maxnum': 100}, 'model_args': {}, 'command': 'train', 'model_url': 'http://localhost:8844/media/uploads/2021/09/13/my_model_2e8d44f9-f8ab-4794-9b00-13616e50dce9.py', 'params_url': 'http://localhost:8844/media/uploads/2021/09/13/researcher_params_457f44bd-dce0-4770-83a6-fcccca75e29c.pt', 'model_class': 'Net', 'training_data': {'client_3f223a87-d9e8-4ed6-a9b2-6771820ff99d': ['dataset_7becae81-029d-4fd8-a545-e52dcfae07d0']}}\n",
      "researcher_85f5f09e-31a5-4013-8973-4221b8258933\n",
      "2021-09-13 15:49:50.271918 [ RESEARCHER ] message received. {'researcher_id': 'researcher_85f5f09e-31a5-4013-8973-4221b8258933', 'job_id': '8fe643ab-dfe9-450c-9f0e-d95e192537d1', 'success': True, 'client_id': 'client_51fbdc11-b998-411a-b9c8-d2383380b467', 'dataset_id': 'dataset_817ce5bf-a6c2-49b2-86c4-832ffc7afcc4', 'params_url': 'http://localhost:8844/media/uploads/2021/09/13/node_params_95caf106-5220-4cfd-be14-a73e8b714726.pt', 'timing': {'rtime_training': 49.20067496900447, 'ptime_training': 288.4085691580003}, 'msg': '', 'command': 'train'}\n",
      "2021-09-13 15:49:51.175669 [ RESEARCHER ] message received. {'researcher_id': 'researcher_85f5f09e-31a5-4013-8973-4221b8258933', 'job_id': '8fe643ab-dfe9-450c-9f0e-d95e192537d1', 'success': True, 'client_id': 'client_3f223a87-d9e8-4ed6-a9b2-6771820ff99d', 'dataset_id': 'dataset_7becae81-029d-4fd8-a545-e52dcfae07d0', 'params_url': 'http://localhost:8844/media/uploads/2021/09/13/node_params_779dacff-53dd-4071-a6f8-b131de083f6c.pt', 'timing': {'rtime_training': 50.119882100989344, 'ptime_training': 292.222851557}, 'msg': '', 'command': 'train'}\n",
      "Downloading model params after training on  client_51fbdc11-b998-411a-b9c8-d2383380b467 \n",
      "\t- from http://localhost:8844/media/uploads/2021/09/13/node_params_95caf106-5220-4cfd-be14-a73e8b714726.pt\n",
      "Downloading model params after training on  client_3f223a87-d9e8-4ed6-a9b2-6771820ff99d \n",
      "\t- from http://localhost:8844/media/uploads/2021/09/13/node_params_779dacff-53dd-4071-a6f8-b131de083f6c.pt\n",
      "Clients that successfully reply in round  1   ['client_51fbdc11-b998-411a-b9c8-d2383380b467', 'client_3f223a87-d9e8-4ed6-a9b2-6771820ff99d']\n",
      "Sampled clients in round  2   ['client_51fbdc11-b998-411a-b9c8-d2383380b467', 'client_3f223a87-d9e8-4ed6-a9b2-6771820ff99d']\n",
      "[ RESEARCHER ] Send message to client  client_51fbdc11-b998-411a-b9c8-d2383380b467 {'researcher_id': 'researcher_85f5f09e-31a5-4013-8973-4221b8258933', 'job_id': '8fe643ab-dfe9-450c-9f0e-d95e192537d1', 'training_args': {'batch_size': 32, 'lr': 0.001, 'epochs': 1, 'dry_run': False, 'batch_maxnum': 100}, 'model_args': {}, 'command': 'train', 'model_url': 'http://localhost:8844/media/uploads/2021/09/13/my_model_2e8d44f9-f8ab-4794-9b00-13616e50dce9.py', 'params_url': 'http://localhost:8844/media/uploads/2021/09/13/researcher_params_5ce00eb9-fde7-4b58-8914-1cf891d587ad.pt', 'model_class': 'Net', 'training_data': {'client_51fbdc11-b998-411a-b9c8-d2383380b467': ['dataset_817ce5bf-a6c2-49b2-86c4-832ffc7afcc4']}}\n",
      "researcher_85f5f09e-31a5-4013-8973-4221b8258933\n",
      "[ RESEARCHER ] Send message to client  client_3f223a87-d9e8-4ed6-a9b2-6771820ff99d {'researcher_id': 'researcher_85f5f09e-31a5-4013-8973-4221b8258933', 'job_id': '8fe643ab-dfe9-450c-9f0e-d95e192537d1', 'training_args': {'batch_size': 32, 'lr': 0.001, 'epochs': 1, 'dry_run': False, 'batch_maxnum': 100}, 'model_args': {}, 'command': 'train', 'model_url': 'http://localhost:8844/media/uploads/2021/09/13/my_model_2e8d44f9-f8ab-4794-9b00-13616e50dce9.py', 'params_url': 'http://localhost:8844/media/uploads/2021/09/13/researcher_params_5ce00eb9-fde7-4b58-8914-1cf891d587ad.pt', 'model_class': 'Net', 'training_data': {'client_3f223a87-d9e8-4ed6-a9b2-6771820ff99d': ['dataset_7becae81-029d-4fd8-a545-e52dcfae07d0']}}\n",
      "researcher_85f5f09e-31a5-4013-8973-4221b8258933\n"
     ]
    },
    {
     "name": "stdout",
     "output_type": "stream",
     "text": [
      "2021-09-13 15:50:49.924560 [ RESEARCHER ] message received. {'researcher_id': 'researcher_85f5f09e-31a5-4013-8973-4221b8258933', 'job_id': '8fe643ab-dfe9-450c-9f0e-d95e192537d1', 'success': True, 'client_id': 'client_51fbdc11-b998-411a-b9c8-d2383380b467', 'dataset_id': 'dataset_817ce5bf-a6c2-49b2-86c4-832ffc7afcc4', 'params_url': 'http://localhost:8844/media/uploads/2021/09/13/node_params_85680c44-ae73-4287-8b1e-fec709e54de2.pt', 'timing': {'rtime_training': 48.69345507401158, 'ptime_training': 286.0925873660003}, 'msg': '', 'command': 'train'}\n",
      "2021-09-13 15:50:51.214214 [ RESEARCHER ] message received. {'researcher_id': 'researcher_85f5f09e-31a5-4013-8973-4221b8258933', 'job_id': '8fe643ab-dfe9-450c-9f0e-d95e192537d1', 'success': True, 'client_id': 'client_3f223a87-d9e8-4ed6-a9b2-6771820ff99d', 'dataset_id': 'dataset_7becae81-029d-4fd8-a545-e52dcfae07d0', 'params_url': 'http://localhost:8844/media/uploads/2021/09/13/node_params_ae7d84d8-6fbc-4ec5-936e-4f693621cf1a.pt', 'timing': {'rtime_training': 49.988237837009365, 'ptime_training': 291.7175558040003}, 'msg': '', 'command': 'train'}\n",
      "Downloading model params after training on  client_51fbdc11-b998-411a-b9c8-d2383380b467 \n",
      "\t- from http://localhost:8844/media/uploads/2021/09/13/node_params_85680c44-ae73-4287-8b1e-fec709e54de2.pt\n",
      "Downloading model params after training on  client_3f223a87-d9e8-4ed6-a9b2-6771820ff99d \n",
      "\t- from http://localhost:8844/media/uploads/2021/09/13/node_params_ae7d84d8-6fbc-4ec5-936e-4f693621cf1a.pt\n",
      "Clients that successfully reply in round  2   ['client_51fbdc11-b998-411a-b9c8-d2383380b467', 'client_3f223a87-d9e8-4ed6-a9b2-6771820ff99d']\n"
     ]
    }
   ],
   "source": [
    "exp.run()"
   ]
  },
  {
   "cell_type": "markdown",
   "metadata": {},
   "source": [
    "Retrieve the federated model parameters"
   ]
  },
  {
   "cell_type": "code",
   "execution_count": 7,
   "metadata": {},
   "outputs": [
    {
     "data": {
      "text/plain": [
       "<All keys matched successfully>"
      ]
     },
     "execution_count": 7,
     "metadata": {},
     "output_type": "execute_result"
    }
   ],
   "source": [
    "fed_model = exp.model_instance\n",
    "fed_model.load_state_dict(exp.aggregated_params[rounds - 1]['params'])"
   ]
  },
  {
   "cell_type": "code",
   "execution_count": 8,
   "metadata": {},
   "outputs": [
    {
     "data": {
      "text/plain": [
       "Net(\n",
       "  (conv1): Conv2d(3, 32, kernel_size=(3, 3), stride=(1, 1))\n",
       "  (conv2): Conv2d(32, 32, kernel_size=(3, 3), stride=(1, 1))\n",
       "  (conv3): Conv2d(32, 32, kernel_size=(3, 3), stride=(1, 1))\n",
       "  (conv4): Conv2d(32, 32, kernel_size=(3, 3), stride=(1, 1))\n",
       "  (dropout1): Dropout(p=0.25, inplace=False)\n",
       "  (dropout2): Dropout(p=0.5, inplace=False)\n",
       "  (fc1): Linear(in_features=3168, out_features=128, bias=True)\n",
       "  (fc2): Linear(in_features=128, out_features=2, bias=True)\n",
       ")"
      ]
     },
     "execution_count": 8,
     "metadata": {},
     "output_type": "execute_result"
    }
   ],
   "source": [
    "fed_model"
   ]
  },
  {
   "cell_type": "markdown",
   "metadata": {},
   "source": [
    "# Test Model"
   ]
  },
  {
   "cell_type": "markdown",
   "metadata": {},
   "source": [
    "We define a little testing routine to extract the accuracy metrics on the testing dataset\n",
    "## Important\n",
    "This is done to test the model because it can be accessed in a developpement environment  \n",
    "In production, the data wont be accessible on the nodes, need a test dataset on the server or accessible from the server."
   ]
  },
  {
   "cell_type": "code",
   "execution_count": 9,
   "metadata": {},
   "outputs": [],
   "source": [
    "\n",
    "import torch\n",
    "import torch.nn as nn\n",
    "\n",
    "import torch.nn.functional as F\n",
    "from torch.utils.data import DataLoader\n",
    "from torchvision import transforms\n",
    "from torch.utils.data import Dataset, DataLoader\n",
    "import pandas as pd\n",
    "import numpy as np\n",
    "from PIL import Image\n",
    "import os\n",
    "\n",
    "def testing_Accuracy(model, data_loader):\n",
    "    model.eval()\n",
    "    test_loss = 0\n",
    "    correct = 0\n",
    "    \n",
    "    device = \"cpu\"\n",
    "\n",
    "    correct = 0\n",
    "    \n",
    "    loader_size = len(data_loader)\n",
    "    with torch.no_grad():\n",
    "        for idx, (data, target) in enumerate(data_loader):\n",
    "            data, target = data.to(device), target.to(device)\n",
    "            output = model(data)\n",
    "            test_loss += F.nll_loss(output, target, reduction='sum').item()  # sum up batch loss\n",
    "            pred = output.argmax(dim=1, keepdim=True)  # get the index of the max log-probability\n",
    "            correct += pred.eq(target.view_as(pred)).sum().item()\n",
    "            \n",
    "            #only uses 10% of the dataset, results are similar but faster\n",
    "            if idx >= loader_size / 10:\n",
    "                pass\n",
    "                break\n",
    "\n",
    "    \n",
    "        pred = output.argmax(dim=1, keepdim=True)\n",
    "\n",
    "    test_loss /= len(data_loader.dataset)\n",
    "    accuracy = 100* correct/(data_loader.batch_size * idx)\n",
    "\n",
    "    return(test_loss, accuracy)"
   ]
  },
  {
   "cell_type": "markdown",
   "metadata": {},
   "source": [
    "The test dataset is the data from the third node"
   ]
  },
  {
   "cell_type": "code",
   "execution_count": 10,
   "metadata": {},
   "outputs": [
    {
     "name": "stdout",
     "output_type": "stream",
     "text": [
      "celeba dataset finished\n"
     ]
    }
   ],
   "source": [
    "\n",
    "test_dataset_path = \"./data/Celeba/celeba_preprocessed/data_node_3\"\n",
    "\n",
    "class CelebaDataset(Dataset):\n",
    "        \"\"\"Custom Dataset for loading CelebA face images\"\"\"\n",
    "7\n",
    "        def __init__(self, txt_path, img_dir, transform=None):\n",
    "            df = pd.read_csv(txt_path, sep=\"\\t\", index_col=0)\n",
    "            self.img_dir = img_dir\n",
    "            self.txt_path = txt_path\n",
    "            self.img_names = df.index.values\n",
    "            self.y = df['Smiling'].values\n",
    "            self.transform = transform\n",
    "            print(\"celeba dataset finished\")\n",
    "\n",
    "        def __getitem__(self, index):\n",
    "            img = np.asarray(Image.open(os.path.join(self.img_dir,\n",
    "                                        self.img_names[index])))\n",
    "            img = transforms.ToTensor()(img)\n",
    "            label = self.y[index]\n",
    "            return img, label\n",
    "\n",
    "        def __len__(self):\n",
    "            return self.y.shape[0]\n",
    "    \n",
    "\n",
    "dataset = CelebaDataset(test_dataset_path + \"/target.csv\", test_dataset_path + \"/data/\")\n",
    "train_kwargs = {'batch_size': 128, 'shuffle': True}\n",
    "data_loader = DataLoader(dataset, **train_kwargs)"
   ]
  },
  {
   "cell_type": "markdown",
   "metadata": {},
   "source": [
    "Loading the testing dataset and computing accuracy metrics for local and federated models"
   ]
  },
  {
   "cell_type": "code",
   "execution_count": 11,
   "metadata": {},
   "outputs": [],
   "source": [
    "acc_federated = testing_Accuracy(fed_model, data_loader)"
   ]
  },
  {
   "cell_type": "code",
   "execution_count": 12,
   "metadata": {},
   "outputs": [
    {
     "data": {
      "text/plain": [
       "82.97464622641509"
      ]
     },
     "execution_count": 12,
     "metadata": {},
     "output_type": "execute_result"
    },
    {
     "name": "stdout",
     "output_type": "stream",
     "text": [
      "2021-09-13 16:53:24.109276 [ RESEARCHER ] message received. {'researcher_id': 'researcher_85f5f09e-31a5-4013-8973-4221b8258933', 'success': True, 'databases': [{'name': 'celeba', 'data_type': 'images', 'tags': ['#celeba'], 'description': 'celeba', 'shape': [67533, 3, 218, 178], 'dataset_id': 'dataset_817ce5bf-a6c2-49b2-86c4-832ffc7afcc4'}], 'count': 1, 'client_id': 'client_51fbdc11-b998-411a-b9c8-d2383380b467', 'command': 'search'}\n",
      "2021-09-13 16:53:24.110076 [ RESEARCHER ] message received. {'researcher_id': 'researcher_85f5f09e-31a5-4013-8973-4221b8258933', 'success': True, 'databases': [{'name': 'celeba', 'data_type': 'images', 'tags': ['#celeba'], 'description': 'celeba', 'shape': [67533, 3, 218, 178], 'dataset_id': 'dataset_7becae81-029d-4fd8-a545-e52dcfae07d0'}], 'count': 1, 'client_id': 'client_3f223a87-d9e8-4ed6-a9b2-6771820ff99d', 'command': 'search'}\n"
     ]
    }
   ],
   "source": [
    "acc_federated[1]"
   ]
  }
 ],
 "metadata": {
  "interpreter": {
   "hash": "e89561e616b27d96972869796636c18d9df047835da4fde0d47d1d63cf19e486"
  },
  "kernelspec": {
   "display_name": "Python 3",
   "language": "python",
   "name": "python3"
  },
  "language_info": {
   "codemirror_mode": {
    "name": "ipython",
    "version": 3
   },
   "file_extension": ".py",
   "mimetype": "text/x-python",
   "name": "python",
   "nbconvert_exporter": "python",
   "pygments_lexer": "ipython3",
   "version": "3.9.6"
  }
 },
 "nbformat": 4,
 "nbformat_minor": 1
}

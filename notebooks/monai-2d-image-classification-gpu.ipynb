{
 "cells": [
  {
   "cell_type": "markdown",
   "metadata": {},
   "source": [
    "# Federated 2d image classification with MONAI using GPU"
   ]
  },
  {
   "cell_type": "markdown",
   "metadata": {},
   "source": [
    "## Introduction\n",
    "\n",
    "This tutorial shows how to deploy in Fed-BioMed the 2d image classification example provided in the project MONAI (https://monai.io/), **using Nvidia GPU on the node to speedup training**:\n",
    "\n",
    "https://github.com/Project-MONAI/tutorials/blob/master/2d_classification/mednist_tutorial.ipynb\n",
    "\n",
    "Being MONAI based on PyTorch, the deployment within Fed-BioMed follows seamlessy the same general structure of general PyTorch models. \n",
    "\n",
    "Following the MONAI example, this tutorial is based on the MedNIST dataset.\n",
    "\n",
    "## Creating MedNIST nodes\n",
    "\n",
    "MedNIST provides an artificial 2d classification dataset created by gathering different medical imaging datasets from TCIA, the RSNA Bone Age Challenge, and the NIH Chest X-ray dataset. The dataset is kindly made available by Dr. Bradley J. Erickson M.D., Ph.D. (Department of Radiology, Mayo Clinic) under the Creative Commons CC BY-SA 4.0 license.\n",
    "\n",
    "To proceed with the tutorial, we created an iid partitioning of the MedNIST dataset between 3 clients. Each client has 3000 image samples for each class. The training partitions are availables at the following link:\n",
    "\n",
    "https://drive.google.com/file/d/1vLIcBdtdAhh6K-vrgCFy_0Y55dxOWZwf/view\n",
    "\n",
    "The dataset owned by each client has structure:\n",
    "\n",
    "\n",
    "└── client_*/\n",
    "\n",
    "    ├── AbdomenCT/\n",
    "    \n",
    "    └── BreastMRI/\n",
    "    \n",
    "    └── CXR/\n",
    "    \n",
    "    └── ChestCT/\n",
    "    \n",
    "    └── Hand/\n",
    "    \n",
    "    └── HeadCT/   \n",
    "\n",
    "To create the federated dataset, we follow the standard procedure for node creation/population of Fed-BioMed. \n",
    "After activating the fedbiomed network with the commands\n",
    "\n",
    "`source ./scripts/fedbiomed_environment network`\n",
    "\n",
    "and \n",
    "\n",
    "`./scripts/fedbiomed_run network`\n",
    "\n",
    "we create a first node by using the commands\n",
    "\n",
    "`source ./scripts/fedbiomed_environment node`\n",
    "\n",
    "`./scripts/fedbiomed_run node start --gpu`\n",
    "\n",
    "We then poulate the node with the data of first client:\n",
    "\n",
    "`./scripts/fedbiomed_run node add`\n",
    "\n",
    "We select option 3 (images) to add MedNIST partition of client 1, by just picking the folder of client 1. \n",
    "Assign tag `mednist` to the data when asked.\n",
    "\n",
    "We can further check that the data has been added by executing `./scripts/fedbiomed_run node list`\n",
    "\n",
    "Following the same procedure, we create the other two nodes with the datasets of client 2 and client 3 respectively.\n",
    "\n",
    "**Number of nodes that can be launched depends on GPU memory**. If you are running all nodes on the same node + using the same GPU, a 4GB GPU also serving as the laptop graphic card will usually be able to **run 1 or 2 nodes with this model**. If too many nodes are launched nodes will fail with **out of memory error** at training time.\n"
   ]
  },
  {
   "cell_type": "markdown",
   "metadata": {},
   "source": [
    "## Running Fed-BioMed Researcher"
   ]
  },
  {
   "cell_type": "markdown",
   "metadata": {},
   "source": [
    "We are now ready to start the reseracher enviroment with the command `source ./scripts/fedbiomed_environment researcher`, and open the Jupyter notebook. "
   ]
  },
  {
   "cell_type": "markdown",
   "metadata": {},
   "source": [
    "We can first quesry the network for the mednist dataset. In this case, the nodes are sharing the respective partitions unsing the same tag `mednist`:"
   ]
  },
  {
   "cell_type": "code",
   "execution_count": 1,
   "metadata": {},
   "outputs": [
    {
     "name": "stderr",
     "output_type": "stream",
     "text": [
      "2022-01-11 14:13:15,760 fedbiomed INFO - Component environment:\n",
      "2022-01-11 14:13:15,761 fedbiomed INFO - - type = ComponentType.RESEARCHER\n",
      "2022-01-11 14:13:15,938 fedbiomed INFO - Messaging researcher_73a42523-e23d-4d9f-955b-8450849207fb successfully connected to the message broker, object = <fedbiomed.common.messaging.Messaging object at 0x7f5b780b1f40>\n",
      "2022-01-11 14:13:15,969 fedbiomed INFO - Listing available datasets in all nodes... \n",
      "2022-01-11 14:13:15,971 fedbiomed INFO - log from: node_f92a07ae-353a-47e5-a14e-1c2fd160670f / DEBUG - Message received: {'researcher_id': 'researcher_73a42523-e23d-4d9f-955b-8450849207fb', 'command': 'list'}\n",
      "2022-01-11 14:13:15,971 fedbiomed INFO - log from: node_b8e09523-9f97-4481-9fae-079f623b984b / DEBUG - Message received: {'researcher_id': 'researcher_73a42523-e23d-4d9f-955b-8450849207fb', 'command': 'list'}\n",
      "2022-01-11 14:13:25,984 fedbiomed INFO - \n",
      " Node: node_f92a07ae-353a-47e5-a14e-1c2fd160670f | Number of Datasets: 2 \n",
      "+---------+-------------+------------------------+----------------+--------------------+\n",
      "| name    | data_type   | tags                   | description    | shape              |\n",
      "+=========+=============+========================+================+====================+\n",
      "| MNIST   | default     | ['#MNIST', '#dataset'] | MNIST database | [60000, 1, 28, 28] |\n",
      "+---------+-------------+------------------------+----------------+--------------------+\n",
      "| mednist | images      | ['mednist']            | mednist        | [18000, 3, 64, 64] |\n",
      "+---------+-------------+------------------------+----------------+--------------------+\n",
      "\n",
      "2022-01-11 14:13:25,987 fedbiomed INFO - \n",
      " Node: node_b8e09523-9f97-4481-9fae-079f623b984b | Number of Datasets: 1 \n",
      "+---------+-------------+-------------+---------------+--------------------+\n",
      "| name    | data_type   | tags        | description   | shape              |\n",
      "+=========+=============+=============+===============+====================+\n",
      "| mednist | images      | ['mednist'] | mednist       | [18000, 3, 64, 64] |\n",
      "+---------+-------------+-------------+---------------+--------------------+\n",
      "\n"
     ]
    },
    {
     "data": {
      "text/plain": [
       "{'node_f92a07ae-353a-47e5-a14e-1c2fd160670f': [{'name': 'MNIST',\n",
       "   'data_type': 'default',\n",
       "   'tags': ['#MNIST', '#dataset'],\n",
       "   'description': 'MNIST database',\n",
       "   'shape': [60000, 1, 28, 28]},\n",
       "  {'name': 'mednist',\n",
       "   'data_type': 'images',\n",
       "   'tags': ['mednist'],\n",
       "   'description': 'mednist',\n",
       "   'shape': [18000, 3, 64, 64]}],\n",
       " 'node_b8e09523-9f97-4481-9fae-079f623b984b': [{'name': 'mednist',\n",
       "   'data_type': 'images',\n",
       "   'tags': ['mednist'],\n",
       "   'description': 'mednist',\n",
       "   'shape': [18000, 3, 64, 64]}]}"
      ]
     },
     "execution_count": 1,
     "metadata": {},
     "output_type": "execute_result"
    }
   ],
   "source": [
    "from fedbiomed.researcher.requests import Requests\n",
    "req = Requests()\n",
    "req.list(verbose=True)\n"
   ]
  },
  {
   "cell_type": "markdown",
   "metadata": {},
   "source": [
    "## Create an experiment to train a model on the data found"
   ]
  },
  {
   "cell_type": "markdown",
   "metadata": {},
   "source": [
    "The code for network and data loader of the MONAI tutorial can now be deployed in Fed-BioMed.\n",
    "We first import the necessary modules from `fedbiomed` and `monai` libraries:"
   ]
  },
  {
   "cell_type": "code",
   "execution_count": 2,
   "metadata": {},
   "outputs": [],
   "source": [
    "from fedbiomed.researcher.environ import environ\n",
    "import tempfile\n",
    "import os\n",
    "\n",
    "tmp_dir_model = tempfile.TemporaryDirectory(dir=environ['TMP_DIR']+os.sep)\n",
    "model_file = os.path.join(tmp_dir_model.name, 'class_export_mednist.py')"
   ]
  },
  {
   "cell_type": "code",
   "execution_count": 3,
   "metadata": {},
   "outputs": [],
   "source": [
    "from monai.apps import download_and_extract\n",
    "from monai.config import print_config\n",
    "from monai.data import decollate_batch\n",
    "from monai.metrics import ROCAUCMetric\n",
    "from monai.networks.nets import DenseNet121\n",
    "from monai.transforms import (\n",
    "    Activations,\n",
    "    AddChannel,\n",
    "    AsDiscrete,\n",
    "    Compose,\n",
    "    LoadImage,\n",
    "    RandFlip,\n",
    "    RandRotate,\n",
    "    RandZoom,\n",
    "    ScaleIntensity,\n",
    "    EnsureType,\n",
    ")\n",
    "from monai.utils import set_determinism"
   ]
  },
  {
   "cell_type": "markdown",
   "metadata": {},
   "source": [
    "We can now define the training plan. Note that we can simply use the standard `TorchTrainingPlan` natively provided in Fed-BioMed. We reuse the `MedNISTDataset` data loader defined in the original MONAI tutorial, which is returned by the method `training_data`, which also implements the data parsing from the nodes `dataset_path`. Following the MONAI tutorial, the model is the `DenseNet121`."
   ]
  },
  {
   "cell_type": "code",
   "execution_count": 4,
   "metadata": {},
   "outputs": [
    {
     "name": "stdout",
     "output_type": "stream",
     "text": [
      "Writing /home/mvesin/GIT/fedbiomed/fedbiomed/var/tmp/tmpvxmo4v_n/class_export_mednist.py\n"
     ]
    }
   ],
   "source": [
    "%%writefile \"$model_file\"\n",
    "\n",
    "import os\n",
    "import numpy as np\n",
    "import torch\n",
    "import torch.nn as nn\n",
    "from fedbiomed.common.torchnn import TorchTrainingPlan\n",
    "from torch.utils.data import DataLoader\n",
    "from torchvision import datasets, transforms\n",
    "\n",
    "from monai.apps import download_and_extract\n",
    "from monai.config import print_config\n",
    "from monai.data import decollate_batch\n",
    "from monai.metrics import ROCAUCMetric\n",
    "from monai.networks.nets import DenseNet121\n",
    "from monai.transforms import (\n",
    "    Activations,\n",
    "    AddChannel,\n",
    "    AsDiscrete,\n",
    "    Compose,\n",
    "    LoadImage,\n",
    "    RandFlip,\n",
    "    RandRotate,\n",
    "    RandZoom,\n",
    "    ScaleIntensity,\n",
    "    EnsureType,\n",
    ")\n",
    "from monai.utils import set_determinism\n",
    "\n",
    "\n",
    "\n",
    "# Here we define the model to be used. \n",
    "# You can use any class name (here 'DenseNet121')\n",
    "class MyTrainingPlan(TorchTrainingPlan):\n",
    "    def __init__(self, kwargs):\n",
    "        super(MyTrainingPlan, self).__init__()\n",
    "        \n",
    "        # Here we define the custom dependencies that will be needed by our custom Dataloader\n",
    "        # In this case, we need the torch DataLoader classes\n",
    "        # Since we will train on MNIST, we need datasets and transform from torchvision\n",
    "        deps = [\"import numpy as np\",\n",
    "                \"import os\",\n",
    "                \"from torch.utils.data import DataLoader\",\n",
    "                \"from monai.apps import download_and_extract\",\n",
    "                \"from monai.config import print_config\",\n",
    "                \"from monai.data import decollate_batch\",\n",
    "                \"from monai.metrics import ROCAUCMetric\",\n",
    "                \"from monai.networks.nets import DenseNet121\",\n",
    "                \"from monai.transforms import ( Activations, AddChannel, AsDiscrete, Compose, LoadImage, RandFlip, RandRotate, RandZoom, ScaleIntensity, EnsureType, )\",\n",
    "                \"from monai.utils import set_determinism\",]\n",
    "        self.add_dependency(deps)\n",
    "         \n",
    "        self.num_class =  kwargs['num_class']\n",
    "        \n",
    "        self.model = DenseNet121(spatial_dims=2, in_channels=1,\n",
    "                    out_channels = self.num_class)\n",
    "        \n",
    "        self.loss_function = torch.nn.CrossEntropyLoss()\n",
    "        \n",
    "        # Model wants to use GPU (or not) if available on node and proposed by node\n",
    "        self.use_gpu = True\n",
    "\n",
    "    def forward(self, x):\n",
    "        return self.model(x)\n",
    "\n",
    "    class MedNISTDataset(torch.utils.data.Dataset):\n",
    "            def __init__(self, image_files, labels, transforms):\n",
    "                self.image_files = image_files\n",
    "                self.labels = labels\n",
    "                self.transforms = transforms\n",
    "\n",
    "            def __len__(self):\n",
    "                return len(self.image_files)\n",
    "\n",
    "            def __getitem__(self, index):\n",
    "                return self.transforms(self.image_files[index]), self.labels[index]\n",
    "    \n",
    "    def parse_data(self, path):\n",
    "        print(self.dataset_path)\n",
    "        class_names = sorted(x for x in os.listdir(path)\n",
    "                     if os.path.isdir(os.path.join(path, x)))\n",
    "        num_class = len(class_names)\n",
    "        image_files = [\n",
    "                        [\n",
    "                            os.path.join(path, class_names[i], x)\n",
    "                            for x in os.listdir(os.path.join(path, class_names[i]))\n",
    "                        ]\n",
    "                        for i in range(num_class)\n",
    "                      ]\n",
    "        \n",
    "        return image_files, num_class\n",
    "    \n",
    "    def training_data(self, batch_size = 48):\n",
    "        self.image_files, num_class = self.parse_data(self.dataset_path)\n",
    "        \n",
    "        if self.num_class!=num_class:\n",
    "                raise Exception('number of available classes does not match declared classes')\n",
    "        \n",
    "        num_each = [len(self.image_files[i]) for i in range(self.num_class)]\n",
    "        image_files_list = []\n",
    "        image_class = []\n",
    "        \n",
    "        for i in range(self.num_class):\n",
    "            image_files_list.extend(self.image_files[i])\n",
    "            image_class.extend([i] * num_each[i])\n",
    "        num_total = len(image_class)\n",
    "        \n",
    "        \n",
    "        length = len(image_files_list)\n",
    "        indices = np.arange(length)\n",
    "        np.random.shuffle(indices)\n",
    "\n",
    "        val_split = int(1. * length) \n",
    "        train_indices = indices[:val_split]\n",
    "\n",
    "        train_x = [image_files_list[i] for i in train_indices]\n",
    "        train_y = [image_class[i] for i in train_indices]\n",
    "\n",
    "\n",
    "        train_transforms = Compose(\n",
    "            [\n",
    "                LoadImage(image_only=True),\n",
    "                AddChannel(),\n",
    "                ScaleIntensity(),\n",
    "                RandRotate(range_x=np.pi / 12, prob=0.5, keep_size=True),\n",
    "                RandFlip(spatial_axis=0, prob=0.5),\n",
    "                RandZoom(min_zoom=0.9, max_zoom=1.1, prob=0.5),\n",
    "                EnsureType(),\n",
    "            ]\n",
    "        )\n",
    "\n",
    "        val_transforms = Compose(\n",
    "            [LoadImage(image_only=True), AddChannel(), ScaleIntensity(), EnsureType()])\n",
    "\n",
    "        y_pred_trans = Compose([EnsureType(), Activations(softmax=True)])\n",
    "        y_trans = Compose([EnsureType(), AsDiscrete(to_onehot=num_class)])\n",
    "\n",
    "        print(\n",
    "            f\"Training count: {len(train_x)}\")\n",
    "        \n",
    "        \n",
    "        train_ds = self.MedNISTDataset(train_x, train_y, train_transforms)\n",
    "        train_loader = torch.utils.data.DataLoader(\n",
    "            train_ds, batch_size, shuffle=True)\n",
    "        \n",
    "        return train_loader\n",
    "    \n",
    "    def training_step(self, data, target):\n",
    "        output = self.forward(data)\n",
    "        loss   = self.loss_function(output, target)\n",
    "        return loss\n"
   ]
  },
  {
   "cell_type": "markdown",
   "metadata": {},
   "source": [
    "We now set the model and training parameters. Note that we use only 1 epoch for this experiment, and perform the training on ~26% of the locally available training data."
   ]
  },
  {
   "cell_type": "code",
   "execution_count": 5,
   "metadata": {
    "pycharm": {
     "name": "#%%\n"
    }
   },
   "outputs": [
    {
     "name": "stderr",
     "output_type": "stream",
     "text": [
      "2022-01-11 14:13:45,408 fedbiomed INFO - log from: node_40002d89-e02b-45ff-a959-fcdb888f454f / INFO - Starting task manager\n"
     ]
    }
   ],
   "source": [
    "model_args = {'num_class':6,}\n",
    "\n",
    "training_args = {\n",
    "    'batch_size': 20, \n",
    "    'lr': 1e-5, \n",
    "    'epochs': 1, \n",
    "    'dry_run': False,  \n",
    "    'batch_maxnum':250 # Fast pass for development : only use ( batch_maxnum * batch_size ) samples\n",
    "}"
   ]
  },
  {
   "cell_type": "markdown",
   "metadata": {},
   "source": [
    "The experiment can be now defined, by providing the `mednist` tag, and running the local training on nodes with model defined in `model_path`, standard `aggregator` (FedAvg) and `client_selection_strategy` (all nodes used). Federated learning is going to be performed through 3 optimization rounds.\n",
    "\n",
    "## WARNING:\n",
    "\n",
    "**For running this experiment, you need a computer with the following specifications:**\n",
    "- a Nvidia GPU with enough RAM for the number of MedNIST nodes launched. A 4GB GPU also serving as laptop graphic card will usually be able to **run 1 or 2 nodes with this model**. If too many nodes are launched, nodes will fail with **out of memory error** at training time.\n"
   ]
  },
  {
   "cell_type": "code",
   "execution_count": 6,
   "metadata": {
    "pycharm": {
     "name": "#%%\n"
    },
    "scrolled": true
   },
   "outputs": [
    {
     "name": "stderr",
     "output_type": "stream",
     "text": [
      "2022-01-11 14:13:48,635 fedbiomed INFO - Searching dataset with data tags: ['mednist'] for all nodes\n",
      "2022-01-11 14:13:48,637 fedbiomed INFO - log from: node_b8e09523-9f97-4481-9fae-079f623b984b / DEBUG - Message received: {'researcher_id': 'researcher_73a42523-e23d-4d9f-955b-8450849207fb', 'tags': ['mednist'], 'command': 'search'}\n",
      "2022-01-11 14:13:48,638 fedbiomed INFO - log from: node_f92a07ae-353a-47e5-a14e-1c2fd160670f / DEBUG - Message received: {'researcher_id': 'researcher_73a42523-e23d-4d9f-955b-8450849207fb', 'tags': ['mednist'], 'command': 'search'}\n",
      "2022-01-11 14:13:48,639 fedbiomed INFO - log from: node_40002d89-e02b-45ff-a959-fcdb888f454f / DEBUG - Message received: {'researcher_id': 'researcher_73a42523-e23d-4d9f-955b-8450849207fb', 'tags': ['mednist'], 'command': 'search'}\n",
      "2022-01-11 14:13:58,647 fedbiomed INFO - Node selected for training -> node_b8e09523-9f97-4481-9fae-079f623b984b\n",
      "2022-01-11 14:13:58,648 fedbiomed INFO - Node selected for training -> node_f92a07ae-353a-47e5-a14e-1c2fd160670f\n",
      "2022-01-11 14:13:58,649 fedbiomed INFO - Node selected for training -> node_40002d89-e02b-45ff-a959-fcdb888f454f\n",
      "2022-01-11 14:13:58,650 fedbiomed INFO - Checking data quality of federated datasets...\n",
      "2022-01-11 14:13:58,769 fedbiomed DEBUG - torchnn saved model filename: /home/mvesin/GIT/fedbiomed/fedbiomed/var/experiments/Experiment_0129/my_model_6f199215-985d-4c9a-a96e-342fda231090.py\n"
     ]
    }
   ],
   "source": [
    "from fedbiomed.researcher.experiment import Experiment\n",
    "from fedbiomed.researcher.aggregators.fedavg import FedAverage\n",
    "\n",
    "tags =  ['mednist']\n",
    "rounds = 3\n",
    "\n",
    "exp = Experiment(tags=tags,\n",
    "                 model_path=model_file,\n",
    "                 model_args=model_args,\n",
    "                 model_class='MyTrainingPlan',\n",
    "                 training_args=training_args,\n",
    "                 rounds=rounds,\n",
    "                 aggregator=FedAverage(),\n",
    "                 node_selection_strategy=None\n",
    "                )"
   ]
  },
  {
   "cell_type": "markdown",
   "metadata": {
    "pycharm": {
     "name": "#%% md\n"
    }
   },
   "source": [
    "Let's start the experiment.\n",
    "\n",
    "By default, this function doesn't stop until all the `rounds` are done for all the clients\n",
    "\n"
   ]
  },
  {
   "cell_type": "code",
   "execution_count": 7,
   "metadata": {
    "pycharm": {
     "name": "#%%\n"
    },
    "scrolled": true
   },
   "outputs": [
    {
     "name": "stderr",
     "output_type": "stream",
     "text": [
      "2022-01-11 14:15:00,965 fedbiomed INFO - Sampled nodes in round 0 ['node_b8e09523-9f97-4481-9fae-079f623b984b', 'node_f92a07ae-353a-47e5-a14e-1c2fd160670f', 'node_40002d89-e02b-45ff-a959-fcdb888f454f']\n",
      "2022-01-11 14:15:00,966 fedbiomed INFO - Send message to node node_b8e09523-9f97-4481-9fae-079f623b984b - {'researcher_id': 'researcher_73a42523-e23d-4d9f-955b-8450849207fb', 'job_id': 'e81ec5de-7cfb-49de-b1e7-a62b7ace445c', 'training_args': {'batch_size': 20, 'lr': 1e-05, 'epochs': 1, 'dry_run': False, 'batch_maxnum': 250}, 'model_args': {'num_class': 6}, 'command': 'train', 'model_url': 'http://localhost:8844/media/uploads/2022/01/11/my_model_6f199215-985d-4c9a-a96e-342fda231090.py', 'params_url': 'http://localhost:8844/media/uploads/2022/01/11/aggregated_params_init_0c6d1e32-b0cd-48ea-9cbc-e7eeb478bb68.pt', 'model_class': 'MyTrainingPlan', 'training_data': {'node_b8e09523-9f97-4481-9fae-079f623b984b': ['dataset_c90efc22-02df-4bc3-ade4-57b63ecba562']}}\n",
      "2022-01-11 14:15:00,967 fedbiomed DEBUG - researcher_73a42523-e23d-4d9f-955b-8450849207fb\n",
      "2022-01-11 14:15:00,968 fedbiomed INFO - Send message to node node_f92a07ae-353a-47e5-a14e-1c2fd160670f - {'researcher_id': 'researcher_73a42523-e23d-4d9f-955b-8450849207fb', 'job_id': 'e81ec5de-7cfb-49de-b1e7-a62b7ace445c', 'training_args': {'batch_size': 20, 'lr': 1e-05, 'epochs': 1, 'dry_run': False, 'batch_maxnum': 250}, 'model_args': {'num_class': 6}, 'command': 'train', 'model_url': 'http://localhost:8844/media/uploads/2022/01/11/my_model_6f199215-985d-4c9a-a96e-342fda231090.py', 'params_url': 'http://localhost:8844/media/uploads/2022/01/11/aggregated_params_init_0c6d1e32-b0cd-48ea-9cbc-e7eeb478bb68.pt', 'model_class': 'MyTrainingPlan', 'training_data': {'node_f92a07ae-353a-47e5-a14e-1c2fd160670f': ['dataset_3909c989-e2d5-40d8-8059-dab89c1ab00c']}}\n",
      "2022-01-11 14:15:00,968 fedbiomed DEBUG - researcher_73a42523-e23d-4d9f-955b-8450849207fb\n",
      "2022-01-11 14:15:00,969 fedbiomed INFO - Send message to node node_40002d89-e02b-45ff-a959-fcdb888f454f - {'researcher_id': 'researcher_73a42523-e23d-4d9f-955b-8450849207fb', 'job_id': 'e81ec5de-7cfb-49de-b1e7-a62b7ace445c', 'training_args': {'batch_size': 20, 'lr': 1e-05, 'epochs': 1, 'dry_run': False, 'batch_maxnum': 250}, 'model_args': {'num_class': 6}, 'command': 'train', 'model_url': 'http://localhost:8844/media/uploads/2022/01/11/my_model_6f199215-985d-4c9a-a96e-342fda231090.py', 'params_url': 'http://localhost:8844/media/uploads/2022/01/11/aggregated_params_init_0c6d1e32-b0cd-48ea-9cbc-e7eeb478bb68.pt', 'model_class': 'MyTrainingPlan', 'training_data': {'node_40002d89-e02b-45ff-a959-fcdb888f454f': ['dataset_e08bbcbf-cdd1-47a8-b096-c49af83e5c2e']}}\n",
      "2022-01-11 14:15:00,969 fedbiomed DEBUG - researcher_73a42523-e23d-4d9f-955b-8450849207fb\n",
      "2022-01-11 14:15:00,970 fedbiomed INFO - log from: node_b8e09523-9f97-4481-9fae-079f623b984b / DEBUG - Message received: {'researcher_id': 'researcher_73a42523-e23d-4d9f-955b-8450849207fb', 'job_id': 'e81ec5de-7cfb-49de-b1e7-a62b7ace445c', 'training_args': {'batch_size': 20, 'lr': 1e-05, 'epochs': 1, 'dry_run': False, 'batch_maxnum': 250}, 'model_args': {'num_class': 6}, 'command': 'train', 'model_url': 'http://localhost:8844/media/uploads/2022/01/11/my_model_6f199215-985d-4c9a-a96e-342fda231090.py', 'params_url': 'http://localhost:8844/media/uploads/2022/01/11/aggregated_params_init_0c6d1e32-b0cd-48ea-9cbc-e7eeb478bb68.pt', 'model_class': 'MyTrainingPlan', 'training_data': {'node_b8e09523-9f97-4481-9fae-079f623b984b': ['dataset_c90efc22-02df-4bc3-ade4-57b63ecba562']}}\n",
      "2022-01-11 14:15:00,971 fedbiomed INFO - log from: node_b8e09523-9f97-4481-9fae-079f623b984b / DEBUG - [TASKS QUEUE] Item:{'researcher_id': 'researcher_73a42523-e23d-4d9f-955b-8450849207fb', 'job_id': 'e81ec5de-7cfb-49de-b1e7-a62b7ace445c', 'params_url': 'http://localhost:8844/media/uploads/2022/01/11/aggregated_params_init_0c6d1e32-b0cd-48ea-9cbc-e7eeb478bb68.pt', 'training_args': {'batch_size': 20, 'lr': 1e-05, 'epochs': 1, 'dry_run': False, 'batch_maxnum': 250}, 'training_data': {'node_b8e09523-9f97-4481-9fae-079f623b984b': ['dataset_c90efc22-02df-4bc3-ade4-57b63ecba562']}, 'model_args': {'num_class': 6}, 'model_url': 'http://localhost:8844/media/uploads/2022/01/11/my_model_6f199215-985d-4c9a-a96e-342fda231090.py', 'model_class': 'MyTrainingPlan', 'command': 'train'}\n",
      "2022-01-11 14:15:00,972 fedbiomed INFO - log from: node_f92a07ae-353a-47e5-a14e-1c2fd160670f / DEBUG - Message received: {'researcher_id': 'researcher_73a42523-e23d-4d9f-955b-8450849207fb', 'job_id': 'e81ec5de-7cfb-49de-b1e7-a62b7ace445c', 'training_args': {'batch_size': 20, 'lr': 1e-05, 'epochs': 1, 'dry_run': False, 'batch_maxnum': 250}, 'model_args': {'num_class': 6}, 'command': 'train', 'model_url': 'http://localhost:8844/media/uploads/2022/01/11/my_model_6f199215-985d-4c9a-a96e-342fda231090.py', 'params_url': 'http://localhost:8844/media/uploads/2022/01/11/aggregated_params_init_0c6d1e32-b0cd-48ea-9cbc-e7eeb478bb68.pt', 'model_class': 'MyTrainingPlan', 'training_data': {'node_f92a07ae-353a-47e5-a14e-1c2fd160670f': ['dataset_3909c989-e2d5-40d8-8059-dab89c1ab00c']}}\n",
      "2022-01-11 14:15:00,973 fedbiomed INFO - log from: node_40002d89-e02b-45ff-a959-fcdb888f454f / DEBUG - Message received: {'researcher_id': 'researcher_73a42523-e23d-4d9f-955b-8450849207fb', 'job_id': 'e81ec5de-7cfb-49de-b1e7-a62b7ace445c', 'training_args': {'batch_size': 20, 'lr': 1e-05, 'epochs': 1, 'dry_run': False, 'batch_maxnum': 250}, 'model_args': {'num_class': 6}, 'command': 'train', 'model_url': 'http://localhost:8844/media/uploads/2022/01/11/my_model_6f199215-985d-4c9a-a96e-342fda231090.py', 'params_url': 'http://localhost:8844/media/uploads/2022/01/11/aggregated_params_init_0c6d1e32-b0cd-48ea-9cbc-e7eeb478bb68.pt', 'model_class': 'MyTrainingPlan', 'training_data': {'node_40002d89-e02b-45ff-a959-fcdb888f454f': ['dataset_e08bbcbf-cdd1-47a8-b096-c49af83e5c2e']}}\n",
      "2022-01-11 14:15:01,012 fedbiomed INFO - log from: node_f92a07ae-353a-47e5-a14e-1c2fd160670f / DEBUG - [TASKS QUEUE] Item:{'researcher_id': 'researcher_73a42523-e23d-4d9f-955b-8450849207fb', 'job_id': 'e81ec5de-7cfb-49de-b1e7-a62b7ace445c', 'params_url': 'http://localhost:8844/media/uploads/2022/01/11/aggregated_params_init_0c6d1e32-b0cd-48ea-9cbc-e7eeb478bb68.pt', 'training_args': {'batch_size': 20, 'lr': 1e-05, 'epochs': 1, 'dry_run': False, 'batch_maxnum': 250}, 'training_data': {'node_f92a07ae-353a-47e5-a14e-1c2fd160670f': ['dataset_3909c989-e2d5-40d8-8059-dab89c1ab00c']}, 'model_args': {'num_class': 6}, 'model_url': 'http://localhost:8844/media/uploads/2022/01/11/my_model_6f199215-985d-4c9a-a96e-342fda231090.py', 'model_class': 'MyTrainingPlan', 'command': 'train'}\n",
      "2022-01-11 14:15:01,014 fedbiomed INFO - log from: node_40002d89-e02b-45ff-a959-fcdb888f454f / DEBUG - [TASKS QUEUE] Item:{'researcher_id': 'researcher_73a42523-e23d-4d9f-955b-8450849207fb', 'job_id': 'e81ec5de-7cfb-49de-b1e7-a62b7ace445c', 'params_url': 'http://localhost:8844/media/uploads/2022/01/11/aggregated_params_init_0c6d1e32-b0cd-48ea-9cbc-e7eeb478bb68.pt', 'training_args': {'batch_size': 20, 'lr': 1e-05, 'epochs': 1, 'dry_run': False, 'batch_maxnum': 250}, 'training_data': {'node_40002d89-e02b-45ff-a959-fcdb888f454f': ['dataset_e08bbcbf-cdd1-47a8-b096-c49af83e5c2e']}, 'model_args': {'num_class': 6}, 'model_url': 'http://localhost:8844/media/uploads/2022/01/11/my_model_6f199215-985d-4c9a-a96e-342fda231090.py', 'model_class': 'MyTrainingPlan', 'command': 'train'}\n",
      "2022-01-11 14:15:01,722 fedbiomed INFO - log from: node_40002d89-e02b-45ff-a959-fcdb888f454f / INFO - {'monitor': <fedbiomed.node.history_monitor.HistoryMonitor object at 0x7fc04249ef40>, 'node_gpu': False, 'node_gpu_num': None, 'batch_size': 20, 'lr': 1e-05, 'epochs': 1, 'dry_run': False, 'batch_maxnum': 250}\n",
      "2022-01-11 14:15:01,722 fedbiomed INFO - log from: node_40002d89-e02b-45ff-a959-fcdb888f454f / DEBUG - Dataset_path/data/mvesin/data/MedNIST/client_3\n",
      "2022-01-11 14:15:01,764 fedbiomed INFO - log from: node_40002d89-e02b-45ff-a959-fcdb888f454f / DEBUG - Using device cpu for training (cuda_available=True, node_gpu=False, use_gpu=True, node_gpu_num=None)\n",
      "2022-01-11 14:15:01,795 fedbiomed INFO - log from: node_b8e09523-9f97-4481-9fae-079f623b984b / INFO - {'monitor': <fedbiomed.node.history_monitor.HistoryMonitor object at 0x7f28d8a2fee0>, 'node_gpu': True, 'node_gpu_num': None, 'batch_size': 20, 'lr': 1e-05, 'epochs': 1, 'dry_run': False, 'batch_maxnum': 250}\n"
     ]
    },
    {
     "name": "stderr",
     "output_type": "stream",
     "text": [
      "2022-01-11 14:15:01,797 fedbiomed INFO - log from: node_b8e09523-9f97-4481-9fae-079f623b984b / DEBUG - Dataset_path/data/mvesin/data/MedNIST/client_1\n",
      "2022-01-11 14:15:01,806 fedbiomed INFO - log from: node_b8e09523-9f97-4481-9fae-079f623b984b / DEBUG - Using device cuda for training (cuda_available=True, node_gpu=True, use_gpu=True, node_gpu_num=None)\n",
      "2022-01-11 14:15:01,873 fedbiomed INFO - log from: node_f92a07ae-353a-47e5-a14e-1c2fd160670f / INFO - {'monitor': <fedbiomed.node.history_monitor.HistoryMonitor object at 0x7f9068b0a790>, 'node_gpu': False, 'node_gpu_num': None, 'batch_size': 20, 'lr': 1e-05, 'epochs': 1, 'dry_run': False, 'batch_maxnum': 250}\n",
      "2022-01-11 14:15:01,876 fedbiomed INFO - log from: node_f92a07ae-353a-47e5-a14e-1c2fd160670f / DEBUG - Dataset_path/data/mvesin/data/MedNIST/client_2\n",
      "2022-01-11 14:15:01,890 fedbiomed INFO - log from: node_f92a07ae-353a-47e5-a14e-1c2fd160670f / DEBUG - Using device cpu for training (cuda_available=True, node_gpu=False, use_gpu=True, node_gpu_num=None)\n",
      "2022-01-11 14:15:03,744 fedbiomed INFO - log from: node_f92a07ae-353a-47e5-a14e-1c2fd160670f / INFO - Train Epoch: 1 [0/18000 (0%)]\tLoss: 1.912753\n",
      "2022-01-11 14:15:04,142 fedbiomed INFO - log from: node_40002d89-e02b-45ff-a959-fcdb888f454f / INFO - Train Epoch: 1 [0/16954 (0%)]\tLoss: 1.838361\n",
      "2022-01-11 14:15:04,808 fedbiomed INFO - log from: node_b8e09523-9f97-4481-9fae-079f623b984b / INFO - Train Epoch: 1 [0/18000 (0%)]\tLoss: 1.843751\n",
      "2022-01-11 14:15:07,625 fedbiomed INFO - log from: node_b8e09523-9f97-4481-9fae-079f623b984b / INFO - Train Epoch: 1 [200/18000 (1%)]\tLoss: 1.793173\n",
      "2022-01-11 14:15:10,542 fedbiomed INFO - log from: node_b8e09523-9f97-4481-9fae-079f623b984b / INFO - Train Epoch: 1 [400/18000 (2%)]\tLoss: 1.640052\n",
      "2022-01-11 14:15:13,504 fedbiomed INFO - log from: node_b8e09523-9f97-4481-9fae-079f623b984b / INFO - Train Epoch: 1 [600/18000 (3%)]\tLoss: 1.530312\n",
      "2022-01-11 14:15:16,552 fedbiomed INFO - log from: node_b8e09523-9f97-4481-9fae-079f623b984b / INFO - Train Epoch: 1 [800/18000 (4%)]\tLoss: 1.427245\n",
      "2022-01-11 14:15:19,208 fedbiomed INFO - log from: node_b8e09523-9f97-4481-9fae-079f623b984b / INFO - Train Epoch: 1 [1000/18000 (6%)]\tLoss: 1.330781\n",
      "2022-01-11 14:15:19,996 fedbiomed INFO - log from: node_f92a07ae-353a-47e5-a14e-1c2fd160670f / INFO - Train Epoch: 1 [200/18000 (1%)]\tLoss: 1.685142\n",
      "2022-01-11 14:15:21,309 fedbiomed INFO - log from: node_40002d89-e02b-45ff-a959-fcdb888f454f / INFO - Train Epoch: 1 [200/16954 (1%)]\tLoss: 1.741492\n",
      "2022-01-11 14:15:22,031 fedbiomed INFO - log from: node_b8e09523-9f97-4481-9fae-079f623b984b / INFO - Train Epoch: 1 [1200/18000 (7%)]\tLoss: 1.346131\n",
      "2022-01-11 14:15:24,828 fedbiomed INFO - log from: node_b8e09523-9f97-4481-9fae-079f623b984b / INFO - Train Epoch: 1 [1400/18000 (8%)]\tLoss: 1.255381\n",
      "2022-01-11 14:15:27,794 fedbiomed INFO - log from: node_b8e09523-9f97-4481-9fae-079f623b984b / INFO - Train Epoch: 1 [1600/18000 (9%)]\tLoss: 1.165245\n",
      "2022-01-11 14:15:31,280 fedbiomed INFO - log from: node_b8e09523-9f97-4481-9fae-079f623b984b / INFO - Train Epoch: 1 [1800/18000 (10%)]\tLoss: 0.969866\n",
      "2022-01-11 14:15:33,815 fedbiomed INFO - log from: node_b8e09523-9f97-4481-9fae-079f623b984b / INFO - Train Epoch: 1 [2000/18000 (11%)]\tLoss: 1.065164\n",
      "2022-01-11 14:15:36,948 fedbiomed INFO - log from: node_b8e09523-9f97-4481-9fae-079f623b984b / INFO - Train Epoch: 1 [2200/18000 (12%)]\tLoss: 0.924061\n",
      "2022-01-11 14:15:37,849 fedbiomed INFO - log from: node_f92a07ae-353a-47e5-a14e-1c2fd160670f / INFO - Train Epoch: 1 [400/18000 (2%)]\tLoss: 1.666108\n",
      "2022-01-11 14:15:39,220 fedbiomed INFO - log from: node_b8e09523-9f97-4481-9fae-079f623b984b / INFO - Train Epoch: 1 [2400/18000 (13%)]\tLoss: 1.114767\n",
      "2022-01-11 14:15:41,954 fedbiomed INFO - log from: node_b8e09523-9f97-4481-9fae-079f623b984b / INFO - Train Epoch: 1 [2600/18000 (14%)]\tLoss: 0.889265\n",
      "2022-01-11 14:15:42,590 fedbiomed INFO - log from: node_40002d89-e02b-45ff-a959-fcdb888f454f / INFO - Train Epoch: 1 [400/16954 (2%)]\tLoss: 1.612009\n",
      "2022-01-11 14:15:44,933 fedbiomed INFO - log from: node_b8e09523-9f97-4481-9fae-079f623b984b / INFO - Train Epoch: 1 [2800/18000 (16%)]\tLoss: 0.826437\n",
      "2022-01-11 14:15:47,789 fedbiomed INFO - log from: node_b8e09523-9f97-4481-9fae-079f623b984b / INFO - Train Epoch: 1 [3000/18000 (17%)]\tLoss: 0.705929\n",
      "2022-01-11 14:15:50,611 fedbiomed INFO - log from: node_b8e09523-9f97-4481-9fae-079f623b984b / INFO - Train Epoch: 1 [3200/18000 (18%)]\tLoss: 0.766573\n",
      "2022-01-11 14:15:52,900 fedbiomed INFO - log from: node_b8e09523-9f97-4481-9fae-079f623b984b / INFO - Train Epoch: 1 [3400/18000 (19%)]\tLoss: 0.707628\n",
      "2022-01-11 14:15:55,637 fedbiomed INFO - log from: node_b8e09523-9f97-4481-9fae-079f623b984b / INFO - Train Epoch: 1 [3600/18000 (20%)]\tLoss: 0.884272\n",
      "2022-01-11 14:15:56,015 fedbiomed INFO - log from: node_f92a07ae-353a-47e5-a14e-1c2fd160670f / INFO - Train Epoch: 1 [600/18000 (3%)]\tLoss: 1.562707\n",
      "2022-01-11 14:15:59,231 fedbiomed INFO - log from: node_b8e09523-9f97-4481-9fae-079f623b984b / INFO - Train Epoch: 1 [3800/18000 (21%)]\tLoss: 0.678701\n",
      "2022-01-11 14:16:00,779 fedbiomed INFO - log from: node_40002d89-e02b-45ff-a959-fcdb888f454f / INFO - Train Epoch: 1 [600/16954 (4%)]\tLoss: 1.570587\n",
      "2022-01-11 14:16:01,619 fedbiomed INFO - log from: node_b8e09523-9f97-4481-9fae-079f623b984b / INFO - Train Epoch: 1 [4000/18000 (22%)]\tLoss: 0.726675\n",
      "2022-01-11 14:16:04,476 fedbiomed INFO - log from: node_b8e09523-9f97-4481-9fae-079f623b984b / INFO - Train Epoch: 1 [4200/18000 (23%)]\tLoss: 0.890080\n",
      "2022-01-11 14:16:07,246 fedbiomed INFO - log from: node_b8e09523-9f97-4481-9fae-079f623b984b / INFO - Train Epoch: 1 [4400/18000 (24%)]\tLoss: 0.461963\n",
      "2022-01-11 14:16:09,938 fedbiomed INFO - log from: node_b8e09523-9f97-4481-9fae-079f623b984b / INFO - Train Epoch: 1 [4600/18000 (26%)]\tLoss: 0.502391\n",
      "2022-01-11 14:16:12,643 fedbiomed INFO - log from: node_b8e09523-9f97-4481-9fae-079f623b984b / INFO - Train Epoch: 1 [4800/18000 (27%)]\tLoss: 0.555252\n",
      "2022-01-11 14:16:14,826 fedbiomed INFO - log from: node_b8e09523-9f97-4481-9fae-079f623b984b / DEBUG - Reached 250 batches for this epoch, ignore remaining data\n",
      "2022-01-11 14:16:15,552 fedbiomed INFO - log from: node_b8e09523-9f97-4481-9fae-079f623b984b / INFO - results uploaded successfully \n",
      "2022-01-11 14:16:15,623 fedbiomed INFO - log from: node_f92a07ae-353a-47e5-a14e-1c2fd160670f / INFO - Train Epoch: 1 [800/18000 (4%)]\tLoss: 1.393324\n",
      "2022-01-11 14:16:16,208 fedbiomed INFO - log from: node_40002d89-e02b-45ff-a959-fcdb888f454f / INFO - Train Epoch: 1 [800/16954 (5%)]\tLoss: 1.453675\n",
      "2022-01-11 14:16:19,988 fedbiomed INFO - log from: node_f92a07ae-353a-47e5-a14e-1c2fd160670f / INFO - Train Epoch: 1 [1000/18000 (6%)]\tLoss: 1.476764\n",
      "2022-01-11 14:16:20,897 fedbiomed INFO - log from: node_40002d89-e02b-45ff-a959-fcdb888f454f / INFO - Train Epoch: 1 [1000/16954 (6%)]\tLoss: 1.467666\n",
      "2022-01-11 14:16:21,056 fedbiomed INFO - Downloading model params after training on node_b8e09523-9f97-4481-9fae-079f623b984b - from http://localhost:8844/media/uploads/2022/01/11/node_params_0ab41eef-2900-4305-a13e-fd0ccd4ee8f8.pt\n",
      "2022-01-11 14:16:24,561 fedbiomed INFO - log from: node_f92a07ae-353a-47e5-a14e-1c2fd160670f / INFO - Train Epoch: 1 [1200/18000 (7%)]\tLoss: 1.322305\n",
      "2022-01-11 14:16:25,433 fedbiomed INFO - log from: node_40002d89-e02b-45ff-a959-fcdb888f454f / INFO - Train Epoch: 1 [1200/16954 (7%)]\tLoss: 1.259647\n",
      "2022-01-11 14:16:29,075 fedbiomed INFO - log from: node_f92a07ae-353a-47e5-a14e-1c2fd160670f / INFO - Train Epoch: 1 [1400/18000 (8%)]\tLoss: 1.158192\n",
      "2022-01-11 14:16:30,070 fedbiomed INFO - log from: node_40002d89-e02b-45ff-a959-fcdb888f454f / INFO - Train Epoch: 1 [1400/16954 (8%)]\tLoss: 1.353071\n",
      "2022-01-11 14:16:33,766 fedbiomed INFO - log from: node_f92a07ae-353a-47e5-a14e-1c2fd160670f / INFO - Train Epoch: 1 [1600/18000 (9%)]\tLoss: 1.152970\n",
      "2022-01-11 14:16:34,607 fedbiomed INFO - log from: node_40002d89-e02b-45ff-a959-fcdb888f454f / INFO - Train Epoch: 1 [1600/16954 (9%)]\tLoss: 1.151826\n",
      "2022-01-11 14:16:38,372 fedbiomed INFO - log from: node_f92a07ae-353a-47e5-a14e-1c2fd160670f / INFO - Train Epoch: 1 [1800/18000 (10%)]\tLoss: 0.994741\n",
      "2022-01-11 14:16:39,093 fedbiomed INFO - log from: node_40002d89-e02b-45ff-a959-fcdb888f454f / INFO - Train Epoch: 1 [1800/16954 (11%)]\tLoss: 1.213832\n"
     ]
    },
    {
     "name": "stderr",
     "output_type": "stream",
     "text": [
      "2022-01-11 14:16:43,629 fedbiomed INFO - log from: node_f92a07ae-353a-47e5-a14e-1c2fd160670f / INFO - Train Epoch: 1 [2000/18000 (11%)]\tLoss: 1.175950\n",
      "2022-01-11 14:16:43,975 fedbiomed INFO - log from: node_40002d89-e02b-45ff-a959-fcdb888f454f / INFO - Train Epoch: 1 [2000/16954 (12%)]\tLoss: 1.049566\n",
      "2022-01-11 14:16:48,017 fedbiomed INFO - log from: node_f92a07ae-353a-47e5-a14e-1c2fd160670f / INFO - Train Epoch: 1 [2200/18000 (12%)]\tLoss: 0.904683\n",
      "2022-01-11 14:16:48,533 fedbiomed INFO - log from: node_40002d89-e02b-45ff-a959-fcdb888f454f / INFO - Train Epoch: 1 [2200/16954 (13%)]\tLoss: 0.937613\n",
      "2022-01-11 14:16:52,884 fedbiomed INFO - log from: node_f92a07ae-353a-47e5-a14e-1c2fd160670f / INFO - Train Epoch: 1 [2400/18000 (13%)]\tLoss: 1.080442\n",
      "2022-01-11 14:16:53,240 fedbiomed INFO - log from: node_40002d89-e02b-45ff-a959-fcdb888f454f / INFO - Train Epoch: 1 [2400/16954 (14%)]\tLoss: 0.847449\n",
      "2022-01-11 14:16:57,593 fedbiomed INFO - log from: node_f92a07ae-353a-47e5-a14e-1c2fd160670f / INFO - Train Epoch: 1 [2600/18000 (14%)]\tLoss: 0.903899\n",
      "2022-01-11 14:16:57,764 fedbiomed INFO - log from: node_40002d89-e02b-45ff-a959-fcdb888f454f / INFO - Train Epoch: 1 [2600/16954 (15%)]\tLoss: 0.922596\n",
      "2022-01-11 14:17:01,986 fedbiomed INFO - log from: node_f92a07ae-353a-47e5-a14e-1c2fd160670f / INFO - Train Epoch: 1 [2800/18000 (16%)]\tLoss: 0.802535\n",
      "2022-01-11 14:17:02,543 fedbiomed INFO - log from: node_40002d89-e02b-45ff-a959-fcdb888f454f / INFO - Train Epoch: 1 [2800/16954 (17%)]\tLoss: 1.048063\n",
      "2022-01-11 14:17:06,394 fedbiomed INFO - log from: node_f92a07ae-353a-47e5-a14e-1c2fd160670f / INFO - Train Epoch: 1 [3000/18000 (17%)]\tLoss: 0.838680\n",
      "2022-01-11 14:17:07,287 fedbiomed INFO - log from: node_40002d89-e02b-45ff-a959-fcdb888f454f / INFO - Train Epoch: 1 [3000/16954 (18%)]\tLoss: 0.800100\n",
      "2022-01-11 14:17:10,837 fedbiomed INFO - log from: node_f92a07ae-353a-47e5-a14e-1c2fd160670f / INFO - Train Epoch: 1 [3200/18000 (18%)]\tLoss: 0.755599\n",
      "2022-01-11 14:17:11,692 fedbiomed INFO - log from: node_40002d89-e02b-45ff-a959-fcdb888f454f / INFO - Train Epoch: 1 [3200/16954 (19%)]\tLoss: 0.687241\n",
      "2022-01-11 14:17:15,822 fedbiomed INFO - log from: node_f92a07ae-353a-47e5-a14e-1c2fd160670f / INFO - Train Epoch: 1 [3400/18000 (19%)]\tLoss: 0.896660\n",
      "2022-01-11 14:17:16,363 fedbiomed INFO - log from: node_40002d89-e02b-45ff-a959-fcdb888f454f / INFO - Train Epoch: 1 [3400/16954 (20%)]\tLoss: 0.870666\n",
      "2022-01-11 14:17:20,013 fedbiomed INFO - log from: node_f92a07ae-353a-47e5-a14e-1c2fd160670f / INFO - Train Epoch: 1 [3600/18000 (20%)]\tLoss: 0.618478\n",
      "2022-01-11 14:17:21,009 fedbiomed INFO - log from: node_40002d89-e02b-45ff-a959-fcdb888f454f / INFO - Train Epoch: 1 [3600/16954 (21%)]\tLoss: 0.791567\n",
      "2022-01-11 14:17:24,617 fedbiomed INFO - log from: node_f92a07ae-353a-47e5-a14e-1c2fd160670f / INFO - Train Epoch: 1 [3800/18000 (21%)]\tLoss: 0.569706\n",
      "2022-01-11 14:17:25,716 fedbiomed INFO - log from: node_40002d89-e02b-45ff-a959-fcdb888f454f / INFO - Train Epoch: 1 [3800/16954 (22%)]\tLoss: 0.602921\n",
      "2022-01-11 14:17:29,110 fedbiomed INFO - log from: node_f92a07ae-353a-47e5-a14e-1c2fd160670f / INFO - Train Epoch: 1 [4000/18000 (22%)]\tLoss: 0.708321\n",
      "2022-01-11 14:17:30,150 fedbiomed INFO - log from: node_40002d89-e02b-45ff-a959-fcdb888f454f / INFO - Train Epoch: 1 [4000/16954 (24%)]\tLoss: 0.592688\n",
      "2022-01-11 14:17:33,312 fedbiomed INFO - log from: node_f92a07ae-353a-47e5-a14e-1c2fd160670f / INFO - Train Epoch: 1 [4200/18000 (23%)]\tLoss: 0.521123\n",
      "2022-01-11 14:17:34,872 fedbiomed INFO - log from: node_40002d89-e02b-45ff-a959-fcdb888f454f / INFO - Train Epoch: 1 [4200/16954 (25%)]\tLoss: 0.631914\n",
      "2022-01-11 14:17:37,625 fedbiomed INFO - log from: node_f92a07ae-353a-47e5-a14e-1c2fd160670f / INFO - Train Epoch: 1 [4400/18000 (24%)]\tLoss: 0.517600\n",
      "2022-01-11 14:17:39,492 fedbiomed INFO - log from: node_40002d89-e02b-45ff-a959-fcdb888f454f / INFO - Train Epoch: 1 [4400/16954 (26%)]\tLoss: 0.758245\n",
      "2022-01-11 14:17:42,148 fedbiomed INFO - log from: node_f92a07ae-353a-47e5-a14e-1c2fd160670f / INFO - Train Epoch: 1 [4600/18000 (26%)]\tLoss: 0.631505\n",
      "2022-01-11 14:17:43,907 fedbiomed INFO - log from: node_40002d89-e02b-45ff-a959-fcdb888f454f / INFO - Train Epoch: 1 [4600/16954 (27%)]\tLoss: 0.585140\n",
      "2022-01-11 14:17:46,697 fedbiomed INFO - log from: node_f92a07ae-353a-47e5-a14e-1c2fd160670f / INFO - Train Epoch: 1 [4800/18000 (27%)]\tLoss: 0.553786\n",
      "2022-01-11 14:17:48,534 fedbiomed INFO - log from: node_40002d89-e02b-45ff-a959-fcdb888f454f / INFO - Train Epoch: 1 [4800/16954 (28%)]\tLoss: 0.715831\n",
      "2022-01-11 14:17:51,032 fedbiomed INFO - log from: node_f92a07ae-353a-47e5-a14e-1c2fd160670f / DEBUG - Reached 250 batches for this epoch, ignore remaining data\n",
      "2022-01-11 14:17:51,596 fedbiomed INFO - log from: node_f92a07ae-353a-47e5-a14e-1c2fd160670f / INFO - results uploaded successfully \n",
      "2022-01-11 14:17:52,445 fedbiomed INFO - log from: node_40002d89-e02b-45ff-a959-fcdb888f454f / DEBUG - Reached 250 batches for this epoch, ignore remaining data\n",
      "2022-01-11 14:17:52,858 fedbiomed INFO - log from: node_40002d89-e02b-45ff-a959-fcdb888f454f / INFO - results uploaded successfully \n",
      "2022-01-11 14:18:01,303 fedbiomed INFO - Downloading model params after training on node_f92a07ae-353a-47e5-a14e-1c2fd160670f - from http://localhost:8844/media/uploads/2022/01/11/node_params_666138df-796d-4df1-9969-274832224195.pt\n",
      "2022-01-11 14:18:01,384 fedbiomed INFO - Downloading model params after training on node_40002d89-e02b-45ff-a959-fcdb888f454f - from http://localhost:8844/media/uploads/2022/01/11/node_params_9e7eb41b-50a7-430e-800e-01596f78e917.pt\n",
      "2022-01-11 14:18:01,465 fedbiomed INFO - Nodes that successfully reply in round 0 ['node_b8e09523-9f97-4481-9fae-079f623b984b', 'node_f92a07ae-353a-47e5-a14e-1c2fd160670f', 'node_40002d89-e02b-45ff-a959-fcdb888f454f']\n",
      "2022-01-11 14:18:01,939 fedbiomed INFO - Saved aggregated params for round 0 in /home/mvesin/GIT/fedbiomed/fedbiomed/var/experiments/Experiment_0129/aggregated_params_699c8ed5-b912-4417-828b-4b61f865d12a.pt\n",
      "2022-01-11 14:18:01,939 fedbiomed INFO - Sampled nodes in round 1 ['node_b8e09523-9f97-4481-9fae-079f623b984b', 'node_f92a07ae-353a-47e5-a14e-1c2fd160670f', 'node_40002d89-e02b-45ff-a959-fcdb888f454f']\n",
      "2022-01-11 14:18:01,939 fedbiomed INFO - Send message to node node_b8e09523-9f97-4481-9fae-079f623b984b - {'researcher_id': 'researcher_73a42523-e23d-4d9f-955b-8450849207fb', 'job_id': 'e81ec5de-7cfb-49de-b1e7-a62b7ace445c', 'training_args': {'batch_size': 20, 'lr': 1e-05, 'epochs': 1, 'dry_run': False, 'batch_maxnum': 250}, 'model_args': {'num_class': 6}, 'command': 'train', 'model_url': 'http://localhost:8844/media/uploads/2022/01/11/my_model_6f199215-985d-4c9a-a96e-342fda231090.py', 'params_url': 'http://localhost:8844/media/uploads/2022/01/11/aggregated_params_699c8ed5-b912-4417-828b-4b61f865d12a.pt', 'model_class': 'MyTrainingPlan', 'training_data': {'node_b8e09523-9f97-4481-9fae-079f623b984b': ['dataset_c90efc22-02df-4bc3-ade4-57b63ecba562']}}\n",
      "2022-01-11 14:18:01,940 fedbiomed DEBUG - researcher_73a42523-e23d-4d9f-955b-8450849207fb\n",
      "2022-01-11 14:18:01,940 fedbiomed INFO - Send message to node node_f92a07ae-353a-47e5-a14e-1c2fd160670f - {'researcher_id': 'researcher_73a42523-e23d-4d9f-955b-8450849207fb', 'job_id': 'e81ec5de-7cfb-49de-b1e7-a62b7ace445c', 'training_args': {'batch_size': 20, 'lr': 1e-05, 'epochs': 1, 'dry_run': False, 'batch_maxnum': 250}, 'model_args': {'num_class': 6}, 'command': 'train', 'model_url': 'http://localhost:8844/media/uploads/2022/01/11/my_model_6f199215-985d-4c9a-a96e-342fda231090.py', 'params_url': 'http://localhost:8844/media/uploads/2022/01/11/aggregated_params_699c8ed5-b912-4417-828b-4b61f865d12a.pt', 'model_class': 'MyTrainingPlan', 'training_data': {'node_f92a07ae-353a-47e5-a14e-1c2fd160670f': ['dataset_3909c989-e2d5-40d8-8059-dab89c1ab00c']}}\n",
      "2022-01-11 14:18:01,941 fedbiomed DEBUG - researcher_73a42523-e23d-4d9f-955b-8450849207fb\n",
      "2022-01-11 14:18:01,942 fedbiomed INFO - Send message to node node_40002d89-e02b-45ff-a959-fcdb888f454f - {'researcher_id': 'researcher_73a42523-e23d-4d9f-955b-8450849207fb', 'job_id': 'e81ec5de-7cfb-49de-b1e7-a62b7ace445c', 'training_args': {'batch_size': 20, 'lr': 1e-05, 'epochs': 1, 'dry_run': False, 'batch_maxnum': 250}, 'model_args': {'num_class': 6}, 'command': 'train', 'model_url': 'http://localhost:8844/media/uploads/2022/01/11/my_model_6f199215-985d-4c9a-a96e-342fda231090.py', 'params_url': 'http://localhost:8844/media/uploads/2022/01/11/aggregated_params_699c8ed5-b912-4417-828b-4b61f865d12a.pt', 'model_class': 'MyTrainingPlan', 'training_data': {'node_40002d89-e02b-45ff-a959-fcdb888f454f': ['dataset_e08bbcbf-cdd1-47a8-b096-c49af83e5c2e']}}\n"
     ]
    },
    {
     "name": "stderr",
     "output_type": "stream",
     "text": [
      "2022-01-11 14:18:01,942 fedbiomed INFO - log from: node_b8e09523-9f97-4481-9fae-079f623b984b / DEBUG - Message received: {'researcher_id': 'researcher_73a42523-e23d-4d9f-955b-8450849207fb', 'job_id': 'e81ec5de-7cfb-49de-b1e7-a62b7ace445c', 'training_args': {'batch_size': 20, 'lr': 1e-05, 'epochs': 1, 'dry_run': False, 'batch_maxnum': 250}, 'model_args': {'num_class': 6}, 'command': 'train', 'model_url': 'http://localhost:8844/media/uploads/2022/01/11/my_model_6f199215-985d-4c9a-a96e-342fda231090.py', 'params_url': 'http://localhost:8844/media/uploads/2022/01/11/aggregated_params_699c8ed5-b912-4417-828b-4b61f865d12a.pt', 'model_class': 'MyTrainingPlan', 'training_data': {'node_b8e09523-9f97-4481-9fae-079f623b984b': ['dataset_c90efc22-02df-4bc3-ade4-57b63ecba562']}}\n",
      "2022-01-11 14:18:01,942 fedbiomed DEBUG - researcher_73a42523-e23d-4d9f-955b-8450849207fb\n",
      "2022-01-11 14:18:01,943 fedbiomed INFO - log from: node_b8e09523-9f97-4481-9fae-079f623b984b / DEBUG - [TASKS QUEUE] Item:{'researcher_id': 'researcher_73a42523-e23d-4d9f-955b-8450849207fb', 'job_id': 'e81ec5de-7cfb-49de-b1e7-a62b7ace445c', 'params_url': 'http://localhost:8844/media/uploads/2022/01/11/aggregated_params_699c8ed5-b912-4417-828b-4b61f865d12a.pt', 'training_args': {'batch_size': 20, 'lr': 1e-05, 'epochs': 1, 'dry_run': False, 'batch_maxnum': 250}, 'training_data': {'node_b8e09523-9f97-4481-9fae-079f623b984b': ['dataset_c90efc22-02df-4bc3-ade4-57b63ecba562']}, 'model_args': {'num_class': 6}, 'model_url': 'http://localhost:8844/media/uploads/2022/01/11/my_model_6f199215-985d-4c9a-a96e-342fda231090.py', 'model_class': 'MyTrainingPlan', 'command': 'train'}\n",
      "2022-01-11 14:18:01,944 fedbiomed INFO - log from: node_f92a07ae-353a-47e5-a14e-1c2fd160670f / DEBUG - Message received: {'researcher_id': 'researcher_73a42523-e23d-4d9f-955b-8450849207fb', 'job_id': 'e81ec5de-7cfb-49de-b1e7-a62b7ace445c', 'training_args': {'batch_size': 20, 'lr': 1e-05, 'epochs': 1, 'dry_run': False, 'batch_maxnum': 250}, 'model_args': {'num_class': 6}, 'command': 'train', 'model_url': 'http://localhost:8844/media/uploads/2022/01/11/my_model_6f199215-985d-4c9a-a96e-342fda231090.py', 'params_url': 'http://localhost:8844/media/uploads/2022/01/11/aggregated_params_699c8ed5-b912-4417-828b-4b61f865d12a.pt', 'model_class': 'MyTrainingPlan', 'training_data': {'node_f92a07ae-353a-47e5-a14e-1c2fd160670f': ['dataset_3909c989-e2d5-40d8-8059-dab89c1ab00c']}}\n",
      "2022-01-11 14:18:01,946 fedbiomed INFO - log from: node_40002d89-e02b-45ff-a959-fcdb888f454f / DEBUG - Message received: {'researcher_id': 'researcher_73a42523-e23d-4d9f-955b-8450849207fb', 'job_id': 'e81ec5de-7cfb-49de-b1e7-a62b7ace445c', 'training_args': {'batch_size': 20, 'lr': 1e-05, 'epochs': 1, 'dry_run': False, 'batch_maxnum': 250}, 'model_args': {'num_class': 6}, 'command': 'train', 'model_url': 'http://localhost:8844/media/uploads/2022/01/11/my_model_6f199215-985d-4c9a-a96e-342fda231090.py', 'params_url': 'http://localhost:8844/media/uploads/2022/01/11/aggregated_params_699c8ed5-b912-4417-828b-4b61f865d12a.pt', 'model_class': 'MyTrainingPlan', 'training_data': {'node_40002d89-e02b-45ff-a959-fcdb888f454f': ['dataset_e08bbcbf-cdd1-47a8-b096-c49af83e5c2e']}}\n",
      "2022-01-11 14:18:01,946 fedbiomed INFO - log from: node_40002d89-e02b-45ff-a959-fcdb888f454f / DEBUG - [TASKS QUEUE] Item:{'researcher_id': 'researcher_73a42523-e23d-4d9f-955b-8450849207fb', 'job_id': 'e81ec5de-7cfb-49de-b1e7-a62b7ace445c', 'params_url': 'http://localhost:8844/media/uploads/2022/01/11/aggregated_params_699c8ed5-b912-4417-828b-4b61f865d12a.pt', 'training_args': {'batch_size': 20, 'lr': 1e-05, 'epochs': 1, 'dry_run': False, 'batch_maxnum': 250}, 'training_data': {'node_40002d89-e02b-45ff-a959-fcdb888f454f': ['dataset_e08bbcbf-cdd1-47a8-b096-c49af83e5c2e']}, 'model_args': {'num_class': 6}, 'model_url': 'http://localhost:8844/media/uploads/2022/01/11/my_model_6f199215-985d-4c9a-a96e-342fda231090.py', 'model_class': 'MyTrainingPlan', 'command': 'train'}\n",
      "2022-01-11 14:18:01,984 fedbiomed INFO - log from: node_f92a07ae-353a-47e5-a14e-1c2fd160670f / DEBUG - [TASKS QUEUE] Item:{'researcher_id': 'researcher_73a42523-e23d-4d9f-955b-8450849207fb', 'job_id': 'e81ec5de-7cfb-49de-b1e7-a62b7ace445c', 'params_url': 'http://localhost:8844/media/uploads/2022/01/11/aggregated_params_699c8ed5-b912-4417-828b-4b61f865d12a.pt', 'training_args': {'batch_size': 20, 'lr': 1e-05, 'epochs': 1, 'dry_run': False, 'batch_maxnum': 250}, 'training_data': {'node_f92a07ae-353a-47e5-a14e-1c2fd160670f': ['dataset_3909c989-e2d5-40d8-8059-dab89c1ab00c']}, 'model_args': {'num_class': 6}, 'model_url': 'http://localhost:8844/media/uploads/2022/01/11/my_model_6f199215-985d-4c9a-a96e-342fda231090.py', 'model_class': 'MyTrainingPlan', 'command': 'train'}\n",
      "2022-01-11 14:18:02,182 fedbiomed INFO - log from: node_f92a07ae-353a-47e5-a14e-1c2fd160670f / INFO - {'monitor': <fedbiomed.node.history_monitor.HistoryMonitor object at 0x7f9140630df0>, 'node_gpu': False, 'node_gpu_num': None, 'batch_size': 20, 'lr': 1e-05, 'epochs': 1, 'dry_run': False, 'batch_maxnum': 250}\n",
      "2022-01-11 14:18:02,183 fedbiomed INFO - log from: node_f92a07ae-353a-47e5-a14e-1c2fd160670f / DEBUG - Dataset_path/data/mvesin/data/MedNIST/client_2\n",
      "2022-01-11 14:18:02,184 fedbiomed INFO - log from: node_f92a07ae-353a-47e5-a14e-1c2fd160670f / DEBUG - Using device cpu for training (cuda_available=True, node_gpu=False, use_gpu=True, node_gpu_num=None)\n",
      "2022-01-11 14:18:02,530 fedbiomed INFO - log from: node_b8e09523-9f97-4481-9fae-079f623b984b / INFO - {'monitor': <fedbiomed.node.history_monitor.HistoryMonitor object at 0x7f29a0507e80>, 'node_gpu': True, 'node_gpu_num': None, 'batch_size': 20, 'lr': 1e-05, 'epochs': 1, 'dry_run': False, 'batch_maxnum': 250}\n",
      "2022-01-11 14:18:02,532 fedbiomed INFO - log from: node_b8e09523-9f97-4481-9fae-079f623b984b / DEBUG - Dataset_path/data/mvesin/data/MedNIST/client_1\n",
      "2022-01-11 14:18:02,533 fedbiomed INFO - log from: node_b8e09523-9f97-4481-9fae-079f623b984b / DEBUG - Using device cuda for training (cuda_available=True, node_gpu=True, use_gpu=True, node_gpu_num=None)\n",
      "2022-01-11 14:18:02,917 fedbiomed INFO - log from: node_40002d89-e02b-45ff-a959-fcdb888f454f / INFO - {'monitor': <fedbiomed.node.history_monitor.HistoryMonitor object at 0x7fc119f85e50>, 'node_gpu': False, 'node_gpu_num': None, 'batch_size': 20, 'lr': 1e-05, 'epochs': 1, 'dry_run': False, 'batch_maxnum': 250}\n",
      "2022-01-11 14:18:02,918 fedbiomed INFO - log from: node_40002d89-e02b-45ff-a959-fcdb888f454f / DEBUG - Dataset_path/data/mvesin/data/MedNIST/client_3\n",
      "2022-01-11 14:18:02,920 fedbiomed INFO - log from: node_40002d89-e02b-45ff-a959-fcdb888f454f / DEBUG - Using device cpu for training (cuda_available=True, node_gpu=False, use_gpu=True, node_gpu_num=None)\n",
      "2022-01-11 14:18:02,976 fedbiomed INFO - log from: node_b8e09523-9f97-4481-9fae-079f623b984b / INFO - Train Epoch: 1 [0/18000 (0%)]\tLoss: 0.512765\n",
      "2022-01-11 14:18:06,927 fedbiomed INFO - log from: node_40002d89-e02b-45ff-a959-fcdb888f454f / INFO - Train Epoch: 1 [0/16954 (0%)]\tLoss: 0.481090\n",
      "2022-01-11 14:18:06,944 fedbiomed INFO - log from: node_b8e09523-9f97-4481-9fae-079f623b984b / INFO - Train Epoch: 1 [200/18000 (1%)]\tLoss: 0.508637\n",
      "2022-01-11 14:18:07,526 fedbiomed INFO - log from: node_f92a07ae-353a-47e5-a14e-1c2fd160670f / INFO - Train Epoch: 1 [0/18000 (0%)]\tLoss: 0.513832\n",
      "2022-01-11 14:18:09,513 fedbiomed INFO - log from: node_b8e09523-9f97-4481-9fae-079f623b984b / INFO - Train Epoch: 1 [400/18000 (2%)]\tLoss: 0.671702\n",
      "2022-01-11 14:18:11,567 fedbiomed INFO - log from: node_b8e09523-9f97-4481-9fae-079f623b984b / INFO - Train Epoch: 1 [600/18000 (3%)]\tLoss: 0.490716\n",
      "2022-01-11 14:18:14,297 fedbiomed INFO - log from: node_b8e09523-9f97-4481-9fae-079f623b984b / INFO - Train Epoch: 1 [800/18000 (4%)]\tLoss: 0.334129\n",
      "2022-01-11 14:18:16,769 fedbiomed INFO - log from: node_b8e09523-9f97-4481-9fae-079f623b984b / INFO - Train Epoch: 1 [1000/18000 (6%)]\tLoss: 0.495406\n",
      "2022-01-11 14:18:19,806 fedbiomed INFO - log from: node_b8e09523-9f97-4481-9fae-079f623b984b / INFO - Train Epoch: 1 [1200/18000 (7%)]\tLoss: 0.840543\n",
      "2022-01-11 14:18:22,210 fedbiomed INFO - log from: node_b8e09523-9f97-4481-9fae-079f623b984b / INFO - Train Epoch: 1 [1400/18000 (8%)]\tLoss: 0.366948\n"
     ]
    },
    {
     "name": "stderr",
     "output_type": "stream",
     "text": [
      "2022-01-11 14:18:24,223 fedbiomed INFO - log from: node_40002d89-e02b-45ff-a959-fcdb888f454f / INFO - Train Epoch: 1 [200/16954 (1%)]\tLoss: 0.680247\n",
      "2022-01-11 14:18:24,665 fedbiomed INFO - log from: node_b8e09523-9f97-4481-9fae-079f623b984b / INFO - Train Epoch: 1 [1600/18000 (9%)]\tLoss: 0.332116\n",
      "2022-01-11 14:18:25,509 fedbiomed INFO - log from: node_f92a07ae-353a-47e5-a14e-1c2fd160670f / INFO - Train Epoch: 1 [200/18000 (1%)]\tLoss: 0.447747\n",
      "2022-01-11 14:18:26,859 fedbiomed INFO - log from: node_b8e09523-9f97-4481-9fae-079f623b984b / INFO - Train Epoch: 1 [1800/18000 (10%)]\tLoss: 0.219984\n",
      "2022-01-11 14:18:29,285 fedbiomed INFO - log from: node_b8e09523-9f97-4481-9fae-079f623b984b / INFO - Train Epoch: 1 [2000/18000 (11%)]\tLoss: 0.337790\n",
      "2022-01-11 14:18:32,117 fedbiomed INFO - log from: node_b8e09523-9f97-4481-9fae-079f623b984b / INFO - Train Epoch: 1 [2200/18000 (12%)]\tLoss: 0.389057\n",
      "2022-01-11 14:18:34,847 fedbiomed INFO - log from: node_b8e09523-9f97-4481-9fae-079f623b984b / INFO - Train Epoch: 1 [2400/18000 (13%)]\tLoss: 0.304171\n",
      "2022-01-11 14:18:37,287 fedbiomed INFO - log from: node_b8e09523-9f97-4481-9fae-079f623b984b / INFO - Train Epoch: 1 [2600/18000 (14%)]\tLoss: 0.215172\n",
      "2022-01-11 14:18:39,742 fedbiomed INFO - log from: node_b8e09523-9f97-4481-9fae-079f623b984b / INFO - Train Epoch: 1 [2800/18000 (16%)]\tLoss: 0.335167\n",
      "2022-01-11 14:18:41,280 fedbiomed INFO - log from: node_f92a07ae-353a-47e5-a14e-1c2fd160670f / INFO - Train Epoch: 1 [400/18000 (2%)]\tLoss: 0.312773\n",
      "2022-01-11 14:18:42,108 fedbiomed INFO - log from: node_b8e09523-9f97-4481-9fae-079f623b984b / INFO - Train Epoch: 1 [3000/18000 (17%)]\tLoss: 0.206078\n",
      "2022-01-11 14:18:44,065 fedbiomed INFO - log from: node_40002d89-e02b-45ff-a959-fcdb888f454f / INFO - Train Epoch: 1 [400/16954 (2%)]\tLoss: 0.420020\n",
      "2022-01-11 14:18:44,359 fedbiomed INFO - log from: node_b8e09523-9f97-4481-9fae-079f623b984b / INFO - Train Epoch: 1 [3200/18000 (18%)]\tLoss: 0.321653\n",
      "2022-01-11 14:18:46,729 fedbiomed INFO - log from: node_b8e09523-9f97-4481-9fae-079f623b984b / INFO - Train Epoch: 1 [3400/18000 (19%)]\tLoss: 0.331662\n",
      "2022-01-11 14:18:49,696 fedbiomed INFO - log from: node_b8e09523-9f97-4481-9fae-079f623b984b / INFO - Train Epoch: 1 [3600/18000 (20%)]\tLoss: 0.306670\n",
      "2022-01-11 14:18:52,246 fedbiomed INFO - log from: node_b8e09523-9f97-4481-9fae-079f623b984b / INFO - Train Epoch: 1 [3800/18000 (21%)]\tLoss: 0.158025\n",
      "2022-01-11 14:18:55,461 fedbiomed INFO - log from: node_b8e09523-9f97-4481-9fae-079f623b984b / INFO - Train Epoch: 1 [4000/18000 (22%)]\tLoss: 0.199941\n",
      "2022-01-11 14:18:57,684 fedbiomed INFO - log from: node_b8e09523-9f97-4481-9fae-079f623b984b / INFO - Train Epoch: 1 [4200/18000 (23%)]\tLoss: 0.198545\n",
      "2022-01-11 14:19:00,143 fedbiomed INFO - log from: node_b8e09523-9f97-4481-9fae-079f623b984b / INFO - Train Epoch: 1 [4400/18000 (24%)]\tLoss: 0.281450\n",
      "2022-01-11 14:19:00,168 fedbiomed INFO - log from: node_f92a07ae-353a-47e5-a14e-1c2fd160670f / INFO - Train Epoch: 1 [600/18000 (3%)]\tLoss: 0.723702\n",
      "2022-01-11 14:19:01,695 fedbiomed INFO - log from: node_40002d89-e02b-45ff-a959-fcdb888f454f / INFO - Train Epoch: 1 [600/16954 (4%)]\tLoss: 0.365110\n",
      "2022-01-11 14:19:02,531 fedbiomed INFO - log from: node_b8e09523-9f97-4481-9fae-079f623b984b / INFO - Train Epoch: 1 [4600/18000 (26%)]\tLoss: 0.307127\n",
      "2022-01-11 14:19:04,698 fedbiomed INFO - log from: node_b8e09523-9f97-4481-9fae-079f623b984b / INFO - Train Epoch: 1 [4800/18000 (27%)]\tLoss: 0.163678\n",
      "2022-01-11 14:19:07,257 fedbiomed INFO - log from: node_b8e09523-9f97-4481-9fae-079f623b984b / DEBUG - Reached 250 batches for this epoch, ignore remaining data\n",
      "2022-01-11 14:19:07,908 fedbiomed INFO - log from: node_b8e09523-9f97-4481-9fae-079f623b984b / INFO - results uploaded successfully \n",
      "2022-01-11 14:19:10,178 fedbiomed INFO - log from: node_f92a07ae-353a-47e5-a14e-1c2fd160670f / INFO - Train Epoch: 1 [800/18000 (4%)]\tLoss: 0.659618\n",
      "2022-01-11 14:19:10,800 fedbiomed INFO - log from: node_40002d89-e02b-45ff-a959-fcdb888f454f / INFO - Train Epoch: 1 [800/16954 (5%)]\tLoss: 0.600020\n",
      "2022-01-11 14:19:17,018 fedbiomed INFO - Downloading model params after training on node_b8e09523-9f97-4481-9fae-079f623b984b - from http://localhost:8844/media/uploads/2022/01/11/node_params_01f9d62e-84a0-433d-bc42-bb46815728df.pt\n",
      "2022-01-11 14:19:19,297 fedbiomed INFO - log from: node_f92a07ae-353a-47e5-a14e-1c2fd160670f / INFO - Train Epoch: 1 [1000/18000 (6%)]\tLoss: 0.505617\n",
      "2022-01-11 14:19:19,643 fedbiomed INFO - log from: node_40002d89-e02b-45ff-a959-fcdb888f454f / INFO - Train Epoch: 1 [1000/16954 (6%)]\tLoss: 0.393968\n",
      "2022-01-11 14:19:23,640 fedbiomed INFO - log from: node_f92a07ae-353a-47e5-a14e-1c2fd160670f / INFO - Train Epoch: 1 [1200/18000 (7%)]\tLoss: 0.422271\n",
      "2022-01-11 14:19:24,046 fedbiomed INFO - log from: node_40002d89-e02b-45ff-a959-fcdb888f454f / INFO - Train Epoch: 1 [1200/16954 (7%)]\tLoss: 0.648299\n",
      "2022-01-11 14:19:28,150 fedbiomed INFO - log from: node_f92a07ae-353a-47e5-a14e-1c2fd160670f / INFO - Train Epoch: 1 [1400/18000 (8%)]\tLoss: 0.301034\n",
      "2022-01-11 14:19:28,548 fedbiomed INFO - log from: node_40002d89-e02b-45ff-a959-fcdb888f454f / INFO - Train Epoch: 1 [1400/16954 (8%)]\tLoss: 0.434671\n",
      "2022-01-11 14:19:32,623 fedbiomed INFO - log from: node_f92a07ae-353a-47e5-a14e-1c2fd160670f / INFO - Train Epoch: 1 [1600/18000 (9%)]\tLoss: 0.322475\n",
      "2022-01-11 14:19:33,200 fedbiomed INFO - log from: node_40002d89-e02b-45ff-a959-fcdb888f454f / INFO - Train Epoch: 1 [1600/16954 (9%)]\tLoss: 0.694703\n",
      "2022-01-11 14:19:37,574 fedbiomed INFO - log from: node_40002d89-e02b-45ff-a959-fcdb888f454f / INFO - Train Epoch: 1 [1800/16954 (11%)]\tLoss: 0.381642\n",
      "2022-01-11 14:19:37,591 fedbiomed INFO - log from: node_f92a07ae-353a-47e5-a14e-1c2fd160670f / INFO - Train Epoch: 1 [1800/18000 (10%)]\tLoss: 0.507746\n",
      "2022-01-11 14:19:41,951 fedbiomed INFO - log from: node_40002d89-e02b-45ff-a959-fcdb888f454f / INFO - Train Epoch: 1 [2000/16954 (12%)]\tLoss: 0.483246\n",
      "2022-01-11 14:19:42,391 fedbiomed INFO - log from: node_f92a07ae-353a-47e5-a14e-1c2fd160670f / INFO - Train Epoch: 1 [2000/18000 (11%)]\tLoss: 0.306001\n",
      "2022-01-11 14:19:46,166 fedbiomed INFO - log from: node_40002d89-e02b-45ff-a959-fcdb888f454f / INFO - Train Epoch: 1 [2200/16954 (13%)]\tLoss: 0.458619\n",
      "2022-01-11 14:19:47,188 fedbiomed INFO - log from: node_f92a07ae-353a-47e5-a14e-1c2fd160670f / INFO - Train Epoch: 1 [2200/18000 (12%)]\tLoss: 0.349478\n",
      "2022-01-11 14:19:50,735 fedbiomed INFO - log from: node_40002d89-e02b-45ff-a959-fcdb888f454f / INFO - Train Epoch: 1 [2400/16954 (14%)]\tLoss: 0.342802\n",
      "2022-01-11 14:19:51,633 fedbiomed INFO - log from: node_f92a07ae-353a-47e5-a14e-1c2fd160670f / INFO - Train Epoch: 1 [2400/18000 (13%)]\tLoss: 0.285287\n",
      "2022-01-11 14:19:55,107 fedbiomed INFO - log from: node_40002d89-e02b-45ff-a959-fcdb888f454f / INFO - Train Epoch: 1 [2600/16954 (15%)]\tLoss: 0.325100\n",
      "2022-01-11 14:19:56,208 fedbiomed INFO - log from: node_f92a07ae-353a-47e5-a14e-1c2fd160670f / INFO - Train Epoch: 1 [2600/18000 (14%)]\tLoss: 0.399062\n",
      "2022-01-11 14:19:59,737 fedbiomed INFO - log from: node_40002d89-e02b-45ff-a959-fcdb888f454f / INFO - Train Epoch: 1 [2800/16954 (17%)]\tLoss: 0.369959\n",
      "2022-01-11 14:20:00,749 fedbiomed INFO - log from: node_f92a07ae-353a-47e5-a14e-1c2fd160670f / INFO - Train Epoch: 1 [2800/18000 (16%)]\tLoss: 0.135255\n",
      "2022-01-11 14:20:05,170 fedbiomed INFO - log from: node_40002d89-e02b-45ff-a959-fcdb888f454f / INFO - Train Epoch: 1 [3000/16954 (18%)]\tLoss: 0.201088\n",
      "2022-01-11 14:20:05,232 fedbiomed INFO - log from: node_f92a07ae-353a-47e5-a14e-1c2fd160670f / INFO - Train Epoch: 1 [3000/18000 (17%)]\tLoss: 0.237992\n",
      "2022-01-11 14:20:10,099 fedbiomed INFO - log from: node_40002d89-e02b-45ff-a959-fcdb888f454f / INFO - Train Epoch: 1 [3200/16954 (19%)]\tLoss: 0.343476\n",
      "2022-01-11 14:20:10,566 fedbiomed INFO - log from: node_f92a07ae-353a-47e5-a14e-1c2fd160670f / INFO - Train Epoch: 1 [3200/18000 (18%)]\tLoss: 0.198878\n",
      "2022-01-11 14:20:15,314 fedbiomed INFO - log from: node_40002d89-e02b-45ff-a959-fcdb888f454f / INFO - Train Epoch: 1 [3400/16954 (20%)]\tLoss: 0.261692\n",
      "2022-01-11 14:20:15,430 fedbiomed INFO - log from: node_f92a07ae-353a-47e5-a14e-1c2fd160670f / INFO - Train Epoch: 1 [3400/18000 (19%)]\tLoss: 0.408875\n"
     ]
    },
    {
     "name": "stderr",
     "output_type": "stream",
     "text": [
      "2022-01-11 14:20:20,618 fedbiomed INFO - log from: node_40002d89-e02b-45ff-a959-fcdb888f454f / INFO - Train Epoch: 1 [3600/16954 (21%)]\tLoss: 0.556405\n",
      "2022-01-11 14:20:20,775 fedbiomed INFO - log from: node_f92a07ae-353a-47e5-a14e-1c2fd160670f / INFO - Train Epoch: 1 [3600/18000 (20%)]\tLoss: 0.276005\n",
      "2022-01-11 14:20:25,350 fedbiomed INFO - log from: node_40002d89-e02b-45ff-a959-fcdb888f454f / INFO - Train Epoch: 1 [3800/16954 (22%)]\tLoss: 0.256976\n",
      "2022-01-11 14:20:25,407 fedbiomed INFO - log from: node_f92a07ae-353a-47e5-a14e-1c2fd160670f / INFO - Train Epoch: 1 [3800/18000 (21%)]\tLoss: 0.212260\n",
      "2022-01-11 14:20:31,152 fedbiomed INFO - log from: node_f92a07ae-353a-47e5-a14e-1c2fd160670f / INFO - Train Epoch: 1 [4000/18000 (22%)]\tLoss: 0.194974\n",
      "2022-01-11 14:20:31,375 fedbiomed INFO - log from: node_40002d89-e02b-45ff-a959-fcdb888f454f / INFO - Train Epoch: 1 [4000/16954 (24%)]\tLoss: 0.219008\n",
      "2022-01-11 14:20:36,093 fedbiomed INFO - log from: node_f92a07ae-353a-47e5-a14e-1c2fd160670f / INFO - Train Epoch: 1 [4200/18000 (23%)]\tLoss: 0.436537\n",
      "2022-01-11 14:20:36,654 fedbiomed INFO - log from: node_40002d89-e02b-45ff-a959-fcdb888f454f / INFO - Train Epoch: 1 [4200/16954 (25%)]\tLoss: 0.221338\n",
      "2022-01-11 14:20:41,238 fedbiomed INFO - log from: node_40002d89-e02b-45ff-a959-fcdb888f454f / INFO - Train Epoch: 1 [4400/16954 (26%)]\tLoss: 0.164470\n",
      "2022-01-11 14:20:41,274 fedbiomed INFO - log from: node_f92a07ae-353a-47e5-a14e-1c2fd160670f / INFO - Train Epoch: 1 [4400/18000 (24%)]\tLoss: 0.404546\n",
      "2022-01-11 14:20:46,079 fedbiomed INFO - log from: node_f92a07ae-353a-47e5-a14e-1c2fd160670f / INFO - Train Epoch: 1 [4600/18000 (26%)]\tLoss: 0.482839\n",
      "2022-01-11 14:20:46,293 fedbiomed INFO - log from: node_40002d89-e02b-45ff-a959-fcdb888f454f / INFO - Train Epoch: 1 [4600/16954 (27%)]\tLoss: 0.273299\n",
      "2022-01-11 14:20:50,937 fedbiomed INFO - log from: node_40002d89-e02b-45ff-a959-fcdb888f454f / INFO - Train Epoch: 1 [4800/16954 (28%)]\tLoss: 0.189033\n",
      "2022-01-11 14:20:51,209 fedbiomed INFO - log from: node_f92a07ae-353a-47e5-a14e-1c2fd160670f / INFO - Train Epoch: 1 [4800/18000 (27%)]\tLoss: 0.351240\n",
      "2022-01-11 14:20:56,158 fedbiomed INFO - log from: node_40002d89-e02b-45ff-a959-fcdb888f454f / DEBUG - Reached 250 batches for this epoch, ignore remaining data\n",
      "2022-01-11 14:20:56,158 fedbiomed INFO - log from: node_f92a07ae-353a-47e5-a14e-1c2fd160670f / DEBUG - Reached 250 batches for this epoch, ignore remaining data\n",
      "2022-01-11 14:20:56,631 fedbiomed INFO - log from: node_f92a07ae-353a-47e5-a14e-1c2fd160670f / INFO - results uploaded successfully \n",
      "2022-01-11 14:20:56,639 fedbiomed INFO - log from: node_40002d89-e02b-45ff-a959-fcdb888f454f / INFO - results uploaded successfully \n",
      "2022-01-11 14:21:02,243 fedbiomed INFO - Downloading model params after training on node_f92a07ae-353a-47e5-a14e-1c2fd160670f - from http://localhost:8844/media/uploads/2022/01/11/node_params_29b56756-05c1-4ca0-a7a5-9b685060ab78.pt\n",
      "2022-01-11 14:21:02,319 fedbiomed INFO - Downloading model params after training on node_40002d89-e02b-45ff-a959-fcdb888f454f - from http://localhost:8844/media/uploads/2022/01/11/node_params_3252107e-7fa4-44c7-947f-161101874baf.pt\n",
      "2022-01-11 14:21:02,380 fedbiomed INFO - Nodes that successfully reply in round 1 ['node_b8e09523-9f97-4481-9fae-079f623b984b', 'node_f92a07ae-353a-47e5-a14e-1c2fd160670f', 'node_40002d89-e02b-45ff-a959-fcdb888f454f']\n",
      "2022-01-11 14:21:02,839 fedbiomed INFO - Saved aggregated params for round 1 in /home/mvesin/GIT/fedbiomed/fedbiomed/var/experiments/Experiment_0129/aggregated_params_0c4afdd6-da67-45ed-9261-b0930de62f2c.pt\n",
      "2022-01-11 14:21:02,840 fedbiomed INFO - Sampled nodes in round 2 ['node_b8e09523-9f97-4481-9fae-079f623b984b', 'node_f92a07ae-353a-47e5-a14e-1c2fd160670f', 'node_40002d89-e02b-45ff-a959-fcdb888f454f']\n",
      "2022-01-11 14:21:02,840 fedbiomed INFO - Send message to node node_b8e09523-9f97-4481-9fae-079f623b984b - {'researcher_id': 'researcher_73a42523-e23d-4d9f-955b-8450849207fb', 'job_id': 'e81ec5de-7cfb-49de-b1e7-a62b7ace445c', 'training_args': {'batch_size': 20, 'lr': 1e-05, 'epochs': 1, 'dry_run': False, 'batch_maxnum': 250}, 'model_args': {'num_class': 6}, 'command': 'train', 'model_url': 'http://localhost:8844/media/uploads/2022/01/11/my_model_6f199215-985d-4c9a-a96e-342fda231090.py', 'params_url': 'http://localhost:8844/media/uploads/2022/01/11/aggregated_params_0c4afdd6-da67-45ed-9261-b0930de62f2c.pt', 'model_class': 'MyTrainingPlan', 'training_data': {'node_b8e09523-9f97-4481-9fae-079f623b984b': ['dataset_c90efc22-02df-4bc3-ade4-57b63ecba562']}}\n",
      "2022-01-11 14:21:02,841 fedbiomed DEBUG - researcher_73a42523-e23d-4d9f-955b-8450849207fb\n",
      "2022-01-11 14:21:02,841 fedbiomed INFO - Send message to node node_f92a07ae-353a-47e5-a14e-1c2fd160670f - {'researcher_id': 'researcher_73a42523-e23d-4d9f-955b-8450849207fb', 'job_id': 'e81ec5de-7cfb-49de-b1e7-a62b7ace445c', 'training_args': {'batch_size': 20, 'lr': 1e-05, 'epochs': 1, 'dry_run': False, 'batch_maxnum': 250}, 'model_args': {'num_class': 6}, 'command': 'train', 'model_url': 'http://localhost:8844/media/uploads/2022/01/11/my_model_6f199215-985d-4c9a-a96e-342fda231090.py', 'params_url': 'http://localhost:8844/media/uploads/2022/01/11/aggregated_params_0c4afdd6-da67-45ed-9261-b0930de62f2c.pt', 'model_class': 'MyTrainingPlan', 'training_data': {'node_f92a07ae-353a-47e5-a14e-1c2fd160670f': ['dataset_3909c989-e2d5-40d8-8059-dab89c1ab00c']}}\n",
      "2022-01-11 14:21:02,842 fedbiomed DEBUG - researcher_73a42523-e23d-4d9f-955b-8450849207fb\n",
      "2022-01-11 14:21:02,842 fedbiomed INFO - log from: node_b8e09523-9f97-4481-9fae-079f623b984b / DEBUG - Message received: {'researcher_id': 'researcher_73a42523-e23d-4d9f-955b-8450849207fb', 'job_id': 'e81ec5de-7cfb-49de-b1e7-a62b7ace445c', 'training_args': {'batch_size': 20, 'lr': 1e-05, 'epochs': 1, 'dry_run': False, 'batch_maxnum': 250}, 'model_args': {'num_class': 6}, 'command': 'train', 'model_url': 'http://localhost:8844/media/uploads/2022/01/11/my_model_6f199215-985d-4c9a-a96e-342fda231090.py', 'params_url': 'http://localhost:8844/media/uploads/2022/01/11/aggregated_params_0c4afdd6-da67-45ed-9261-b0930de62f2c.pt', 'model_class': 'MyTrainingPlan', 'training_data': {'node_b8e09523-9f97-4481-9fae-079f623b984b': ['dataset_c90efc22-02df-4bc3-ade4-57b63ecba562']}}\n",
      "2022-01-11 14:21:02,843 fedbiomed INFO - Send message to node node_40002d89-e02b-45ff-a959-fcdb888f454f - {'researcher_id': 'researcher_73a42523-e23d-4d9f-955b-8450849207fb', 'job_id': 'e81ec5de-7cfb-49de-b1e7-a62b7ace445c', 'training_args': {'batch_size': 20, 'lr': 1e-05, 'epochs': 1, 'dry_run': False, 'batch_maxnum': 250}, 'model_args': {'num_class': 6}, 'command': 'train', 'model_url': 'http://localhost:8844/media/uploads/2022/01/11/my_model_6f199215-985d-4c9a-a96e-342fda231090.py', 'params_url': 'http://localhost:8844/media/uploads/2022/01/11/aggregated_params_0c4afdd6-da67-45ed-9261-b0930de62f2c.pt', 'model_class': 'MyTrainingPlan', 'training_data': {'node_40002d89-e02b-45ff-a959-fcdb888f454f': ['dataset_e08bbcbf-cdd1-47a8-b096-c49af83e5c2e']}}\n",
      "2022-01-11 14:21:02,843 fedbiomed INFO - log from: node_b8e09523-9f97-4481-9fae-079f623b984b / DEBUG - [TASKS QUEUE] Item:{'researcher_id': 'researcher_73a42523-e23d-4d9f-955b-8450849207fb', 'job_id': 'e81ec5de-7cfb-49de-b1e7-a62b7ace445c', 'params_url': 'http://localhost:8844/media/uploads/2022/01/11/aggregated_params_0c4afdd6-da67-45ed-9261-b0930de62f2c.pt', 'training_args': {'batch_size': 20, 'lr': 1e-05, 'epochs': 1, 'dry_run': False, 'batch_maxnum': 250}, 'training_data': {'node_b8e09523-9f97-4481-9fae-079f623b984b': ['dataset_c90efc22-02df-4bc3-ade4-57b63ecba562']}, 'model_args': {'num_class': 6}, 'model_url': 'http://localhost:8844/media/uploads/2022/01/11/my_model_6f199215-985d-4c9a-a96e-342fda231090.py', 'model_class': 'MyTrainingPlan', 'command': 'train'}\n",
      "2022-01-11 14:21:02,843 fedbiomed DEBUG - researcher_73a42523-e23d-4d9f-955b-8450849207fb\n",
      "2022-01-11 14:21:02,845 fedbiomed INFO - log from: node_f92a07ae-353a-47e5-a14e-1c2fd160670f / DEBUG - Message received: {'researcher_id': 'researcher_73a42523-e23d-4d9f-955b-8450849207fb', 'job_id': 'e81ec5de-7cfb-49de-b1e7-a62b7ace445c', 'training_args': {'batch_size': 20, 'lr': 1e-05, 'epochs': 1, 'dry_run': False, 'batch_maxnum': 250}, 'model_args': {'num_class': 6}, 'command': 'train', 'model_url': 'http://localhost:8844/media/uploads/2022/01/11/my_model_6f199215-985d-4c9a-a96e-342fda231090.py', 'params_url': 'http://localhost:8844/media/uploads/2022/01/11/aggregated_params_0c4afdd6-da67-45ed-9261-b0930de62f2c.pt', 'model_class': 'MyTrainingPlan', 'training_data': {'node_f92a07ae-353a-47e5-a14e-1c2fd160670f': ['dataset_3909c989-e2d5-40d8-8059-dab89c1ab00c']}}\n"
     ]
    },
    {
     "name": "stderr",
     "output_type": "stream",
     "text": [
      "2022-01-11 14:21:02,845 fedbiomed INFO - log from: node_f92a07ae-353a-47e5-a14e-1c2fd160670f / DEBUG - [TASKS QUEUE] Item:{'researcher_id': 'researcher_73a42523-e23d-4d9f-955b-8450849207fb', 'job_id': 'e81ec5de-7cfb-49de-b1e7-a62b7ace445c', 'params_url': 'http://localhost:8844/media/uploads/2022/01/11/aggregated_params_0c4afdd6-da67-45ed-9261-b0930de62f2c.pt', 'training_args': {'batch_size': 20, 'lr': 1e-05, 'epochs': 1, 'dry_run': False, 'batch_maxnum': 250}, 'training_data': {'node_f92a07ae-353a-47e5-a14e-1c2fd160670f': ['dataset_3909c989-e2d5-40d8-8059-dab89c1ab00c']}, 'model_args': {'num_class': 6}, 'model_url': 'http://localhost:8844/media/uploads/2022/01/11/my_model_6f199215-985d-4c9a-a96e-342fda231090.py', 'model_class': 'MyTrainingPlan', 'command': 'train'}\n",
      "2022-01-11 14:21:02,846 fedbiomed INFO - log from: node_40002d89-e02b-45ff-a959-fcdb888f454f / DEBUG - Message received: {'researcher_id': 'researcher_73a42523-e23d-4d9f-955b-8450849207fb', 'job_id': 'e81ec5de-7cfb-49de-b1e7-a62b7ace445c', 'training_args': {'batch_size': 20, 'lr': 1e-05, 'epochs': 1, 'dry_run': False, 'batch_maxnum': 250}, 'model_args': {'num_class': 6}, 'command': 'train', 'model_url': 'http://localhost:8844/media/uploads/2022/01/11/my_model_6f199215-985d-4c9a-a96e-342fda231090.py', 'params_url': 'http://localhost:8844/media/uploads/2022/01/11/aggregated_params_0c4afdd6-da67-45ed-9261-b0930de62f2c.pt', 'model_class': 'MyTrainingPlan', 'training_data': {'node_40002d89-e02b-45ff-a959-fcdb888f454f': ['dataset_e08bbcbf-cdd1-47a8-b096-c49af83e5c2e']}}\n",
      "2022-01-11 14:21:02,846 fedbiomed INFO - log from: node_40002d89-e02b-45ff-a959-fcdb888f454f / DEBUG - [TASKS QUEUE] Item:{'researcher_id': 'researcher_73a42523-e23d-4d9f-955b-8450849207fb', 'job_id': 'e81ec5de-7cfb-49de-b1e7-a62b7ace445c', 'params_url': 'http://localhost:8844/media/uploads/2022/01/11/aggregated_params_0c4afdd6-da67-45ed-9261-b0930de62f2c.pt', 'training_args': {'batch_size': 20, 'lr': 1e-05, 'epochs': 1, 'dry_run': False, 'batch_maxnum': 250}, 'training_data': {'node_40002d89-e02b-45ff-a959-fcdb888f454f': ['dataset_e08bbcbf-cdd1-47a8-b096-c49af83e5c2e']}, 'model_args': {'num_class': 6}, 'model_url': 'http://localhost:8844/media/uploads/2022/01/11/my_model_6f199215-985d-4c9a-a96e-342fda231090.py', 'model_class': 'MyTrainingPlan', 'command': 'train'}\n",
      "2022-01-11 14:21:03,568 fedbiomed INFO - log from: node_f92a07ae-353a-47e5-a14e-1c2fd160670f / INFO - {'monitor': <fedbiomed.node.history_monitor.HistoryMonitor object at 0x7f903e2b0ee0>, 'node_gpu': False, 'node_gpu_num': None, 'batch_size': 20, 'lr': 1e-05, 'epochs': 1, 'dry_run': False, 'batch_maxnum': 250}\n",
      "2022-01-11 14:21:03,580 fedbiomed INFO - log from: node_f92a07ae-353a-47e5-a14e-1c2fd160670f / DEBUG - Dataset_path/data/mvesin/data/MedNIST/client_2\n",
      "2022-01-11 14:21:03,583 fedbiomed INFO - log from: node_f92a07ae-353a-47e5-a14e-1c2fd160670f / DEBUG - Using device cpu for training (cuda_available=True, node_gpu=False, use_gpu=True, node_gpu_num=None)\n",
      "2022-01-11 14:21:04,960 fedbiomed INFO - log from: node_b8e09523-9f97-4481-9fae-079f623b984b / INFO - {'monitor': <fedbiomed.node.history_monitor.HistoryMonitor object at 0x7f29b05a1d30>, 'node_gpu': True, 'node_gpu_num': None, 'batch_size': 20, 'lr': 1e-05, 'epochs': 1, 'dry_run': False, 'batch_maxnum': 250}\n",
      "2022-01-11 14:21:04,968 fedbiomed INFO - log from: node_b8e09523-9f97-4481-9fae-079f623b984b / DEBUG - Dataset_path/data/mvesin/data/MedNIST/client_1\n",
      "2022-01-11 14:21:04,971 fedbiomed INFO - log from: node_b8e09523-9f97-4481-9fae-079f623b984b / DEBUG - Using device cuda for training (cuda_available=True, node_gpu=True, use_gpu=True, node_gpu_num=None)\n",
      "2022-01-11 14:21:05,054 fedbiomed INFO - log from: node_40002d89-e02b-45ff-a959-fcdb888f454f / INFO - {'monitor': <fedbiomed.node.history_monitor.HistoryMonitor object at 0x7fc119fed8b0>, 'node_gpu': False, 'node_gpu_num': None, 'batch_size': 20, 'lr': 1e-05, 'epochs': 1, 'dry_run': False, 'batch_maxnum': 250}\n",
      "2022-01-11 14:21:05,055 fedbiomed INFO - log from: node_40002d89-e02b-45ff-a959-fcdb888f454f / DEBUG - Dataset_path/data/mvesin/data/MedNIST/client_3\n",
      "2022-01-11 14:21:05,055 fedbiomed INFO - log from: node_40002d89-e02b-45ff-a959-fcdb888f454f / DEBUG - Using device cpu for training (cuda_available=True, node_gpu=False, use_gpu=True, node_gpu_num=None)\n",
      "2022-01-11 14:21:05,677 fedbiomed INFO - log from: node_b8e09523-9f97-4481-9fae-079f623b984b / INFO - Train Epoch: 1 [0/18000 (0%)]\tLoss: 0.253260\n",
      "2022-01-11 14:21:07,194 fedbiomed INFO - log from: node_f92a07ae-353a-47e5-a14e-1c2fd160670f / INFO - Train Epoch: 1 [0/18000 (0%)]\tLoss: 0.158087\n",
      "2022-01-11 14:21:07,827 fedbiomed INFO - log from: node_40002d89-e02b-45ff-a959-fcdb888f454f / INFO - Train Epoch: 1 [0/16954 (0%)]\tLoss: 0.213196\n",
      "2022-01-11 14:21:08,586 fedbiomed INFO - log from: node_b8e09523-9f97-4481-9fae-079f623b984b / INFO - Train Epoch: 1 [200/18000 (1%)]\tLoss: 0.165792\n",
      "2022-01-11 14:21:11,482 fedbiomed INFO - log from: node_b8e09523-9f97-4481-9fae-079f623b984b / INFO - Train Epoch: 1 [400/18000 (2%)]\tLoss: 0.167280\n",
      "2022-01-11 14:21:14,864 fedbiomed INFO - log from: node_b8e09523-9f97-4481-9fae-079f623b984b / INFO - Train Epoch: 1 [600/18000 (3%)]\tLoss: 0.140295\n",
      "2022-01-11 14:21:17,898 fedbiomed INFO - log from: node_b8e09523-9f97-4481-9fae-079f623b984b / INFO - Train Epoch: 1 [800/18000 (4%)]\tLoss: 0.089623\n",
      "2022-01-11 14:21:20,385 fedbiomed INFO - log from: node_b8e09523-9f97-4481-9fae-079f623b984b / INFO - Train Epoch: 1 [1000/18000 (6%)]\tLoss: 0.096362\n",
      "2022-01-11 14:21:22,827 fedbiomed INFO - log from: node_b8e09523-9f97-4481-9fae-079f623b984b / INFO - Train Epoch: 1 [1200/18000 (7%)]\tLoss: 0.157676\n",
      "2022-01-11 14:21:25,409 fedbiomed INFO - log from: node_b8e09523-9f97-4481-9fae-079f623b984b / INFO - Train Epoch: 1 [1400/18000 (8%)]\tLoss: 0.099535\n",
      "2022-01-11 14:21:27,425 fedbiomed INFO - log from: node_f92a07ae-353a-47e5-a14e-1c2fd160670f / INFO - Train Epoch: 1 [200/18000 (1%)]\tLoss: 0.130699\n",
      "2022-01-11 14:21:28,082 fedbiomed INFO - log from: node_b8e09523-9f97-4481-9fae-079f623b984b / INFO - Train Epoch: 1 [1600/18000 (9%)]\tLoss: 0.162798\n",
      "2022-01-11 14:21:29,357 fedbiomed INFO - log from: node_40002d89-e02b-45ff-a959-fcdb888f454f / INFO - Train Epoch: 1 [200/16954 (1%)]\tLoss: 0.366154\n",
      "2022-01-11 14:21:30,737 fedbiomed INFO - log from: node_b8e09523-9f97-4481-9fae-079f623b984b / INFO - Train Epoch: 1 [1800/18000 (10%)]\tLoss: 0.293595\n",
      "2022-01-11 14:21:33,074 fedbiomed INFO - log from: node_b8e09523-9f97-4481-9fae-079f623b984b / INFO - Train Epoch: 1 [2000/18000 (11%)]\tLoss: 0.211031\n",
      "2022-01-11 14:21:35,169 fedbiomed INFO - log from: node_b8e09523-9f97-4481-9fae-079f623b984b / INFO - Train Epoch: 1 [2200/18000 (12%)]\tLoss: 0.153030\n",
      "2022-01-11 14:21:37,371 fedbiomed INFO - log from: node_b8e09523-9f97-4481-9fae-079f623b984b / INFO - Train Epoch: 1 [2400/18000 (13%)]\tLoss: 0.372028\n",
      "2022-01-11 14:21:39,877 fedbiomed INFO - log from: node_b8e09523-9f97-4481-9fae-079f623b984b / INFO - Train Epoch: 1 [2600/18000 (14%)]\tLoss: 0.069538\n",
      "2022-01-11 14:21:42,536 fedbiomed INFO - log from: node_b8e09523-9f97-4481-9fae-079f623b984b / INFO - Train Epoch: 1 [2800/18000 (16%)]\tLoss: 0.163822\n",
      "2022-01-11 14:21:44,868 fedbiomed INFO - log from: node_b8e09523-9f97-4481-9fae-079f623b984b / INFO - Train Epoch: 1 [3000/18000 (17%)]\tLoss: 0.071645\n",
      "2022-01-11 14:21:45,991 fedbiomed INFO - log from: node_40002d89-e02b-45ff-a959-fcdb888f454f / INFO - Train Epoch: 1 [400/16954 (2%)]\tLoss: 0.461002\n",
      "2022-01-11 14:21:47,301 fedbiomed INFO - log from: node_b8e09523-9f97-4481-9fae-079f623b984b / INFO - Train Epoch: 1 [3200/18000 (18%)]\tLoss: 0.074611\n",
      "2022-01-11 14:21:48,205 fedbiomed INFO - log from: node_f92a07ae-353a-47e5-a14e-1c2fd160670f / INFO - Train Epoch: 1 [400/18000 (2%)]\tLoss: 0.258449\n",
      "2022-01-11 14:21:49,929 fedbiomed INFO - log from: node_b8e09523-9f97-4481-9fae-079f623b984b / INFO - Train Epoch: 1 [3400/18000 (19%)]\tLoss: 0.091502\n",
      "2022-01-11 14:21:52,298 fedbiomed INFO - log from: node_b8e09523-9f97-4481-9fae-079f623b984b / INFO - Train Epoch: 1 [3600/18000 (20%)]\tLoss: 0.111826\n",
      "2022-01-11 14:21:54,725 fedbiomed INFO - log from: node_b8e09523-9f97-4481-9fae-079f623b984b / INFO - Train Epoch: 1 [3800/18000 (21%)]\tLoss: 0.105125\n"
     ]
    },
    {
     "name": "stderr",
     "output_type": "stream",
     "text": [
      "2022-01-11 14:21:57,003 fedbiomed INFO - log from: node_b8e09523-9f97-4481-9fae-079f623b984b / INFO - Train Epoch: 1 [4000/18000 (22%)]\tLoss: 0.245140\n",
      "2022-01-11 14:21:59,704 fedbiomed INFO - log from: node_b8e09523-9f97-4481-9fae-079f623b984b / INFO - Train Epoch: 1 [4200/18000 (23%)]\tLoss: 0.157265\n",
      "2022-01-11 14:22:02,943 fedbiomed INFO - log from: node_b8e09523-9f97-4481-9fae-079f623b984b / INFO - Train Epoch: 1 [4400/18000 (24%)]\tLoss: 0.085708\n",
      "2022-01-11 14:22:04,815 fedbiomed INFO - log from: node_40002d89-e02b-45ff-a959-fcdb888f454f / INFO - Train Epoch: 1 [600/16954 (4%)]\tLoss: 0.345739\n",
      "2022-01-11 14:22:05,462 fedbiomed INFO - log from: node_b8e09523-9f97-4481-9fae-079f623b984b / INFO - Train Epoch: 1 [4600/18000 (26%)]\tLoss: 0.196482\n",
      "2022-01-11 14:22:07,653 fedbiomed INFO - log from: node_b8e09523-9f97-4481-9fae-079f623b984b / INFO - Train Epoch: 1 [4800/18000 (27%)]\tLoss: 0.078937\n",
      "2022-01-11 14:22:10,574 fedbiomed INFO - log from: node_f92a07ae-353a-47e5-a14e-1c2fd160670f / INFO - Train Epoch: 1 [600/18000 (3%)]\tLoss: 0.479706\n",
      "2022-01-11 14:22:10,575 fedbiomed INFO - log from: node_b8e09523-9f97-4481-9fae-079f623b984b / DEBUG - Reached 250 batches for this epoch, ignore remaining data\n",
      "2022-01-11 14:22:11,240 fedbiomed INFO - log from: node_b8e09523-9f97-4481-9fae-079f623b984b / INFO - results uploaded successfully \n",
      "2022-01-11 14:22:13,956 fedbiomed INFO - log from: node_40002d89-e02b-45ff-a959-fcdb888f454f / INFO - Train Epoch: 1 [800/16954 (5%)]\tLoss: 0.134080\n",
      "2022-01-11 14:22:16,288 fedbiomed INFO - log from: node_f92a07ae-353a-47e5-a14e-1c2fd160670f / INFO - Train Epoch: 1 [800/18000 (4%)]\tLoss: 0.099348\n",
      "2022-01-11 14:22:17,920 fedbiomed INFO - Downloading model params after training on node_b8e09523-9f97-4481-9fae-079f623b984b - from http://localhost:8844/media/uploads/2022/01/11/node_params_dbbdcd99-02ac-40ab-a2db-ac8d375c35e3.pt\n",
      "2022-01-11 14:22:19,443 fedbiomed INFO - log from: node_40002d89-e02b-45ff-a959-fcdb888f454f / INFO - Train Epoch: 1 [1000/16954 (6%)]\tLoss: 0.235693\n",
      "2022-01-11 14:22:21,983 fedbiomed INFO - log from: node_f92a07ae-353a-47e5-a14e-1c2fd160670f / INFO - Train Epoch: 1 [1000/18000 (6%)]\tLoss: 0.135207\n",
      "2022-01-11 14:22:25,880 fedbiomed INFO - log from: node_40002d89-e02b-45ff-a959-fcdb888f454f / INFO - Train Epoch: 1 [1200/16954 (7%)]\tLoss: 0.090519\n",
      "2022-01-11 14:22:28,987 fedbiomed INFO - log from: node_f92a07ae-353a-47e5-a14e-1c2fd160670f / INFO - Train Epoch: 1 [1200/18000 (7%)]\tLoss: 0.142353\n",
      "2022-01-11 14:22:31,417 fedbiomed INFO - log from: node_40002d89-e02b-45ff-a959-fcdb888f454f / INFO - Train Epoch: 1 [1400/16954 (8%)]\tLoss: 0.107792\n",
      "2022-01-11 14:22:34,087 fedbiomed INFO - log from: node_f92a07ae-353a-47e5-a14e-1c2fd160670f / INFO - Train Epoch: 1 [1400/18000 (8%)]\tLoss: 0.309927\n",
      "2022-01-11 14:22:35,867 fedbiomed INFO - log from: node_40002d89-e02b-45ff-a959-fcdb888f454f / INFO - Train Epoch: 1 [1600/16954 (9%)]\tLoss: 0.174504\n",
      "2022-01-11 14:22:38,409 fedbiomed INFO - log from: node_f92a07ae-353a-47e5-a14e-1c2fd160670f / INFO - Train Epoch: 1 [1600/18000 (9%)]\tLoss: 0.110566\n",
      "2022-01-11 14:22:40,424 fedbiomed INFO - log from: node_40002d89-e02b-45ff-a959-fcdb888f454f / INFO - Train Epoch: 1 [1800/16954 (11%)]\tLoss: 0.330713\n",
      "2022-01-11 14:22:42,811 fedbiomed INFO - log from: node_f92a07ae-353a-47e5-a14e-1c2fd160670f / INFO - Train Epoch: 1 [1800/18000 (10%)]\tLoss: 0.207599\n",
      "2022-01-11 14:22:45,104 fedbiomed INFO - log from: node_40002d89-e02b-45ff-a959-fcdb888f454f / INFO - Train Epoch: 1 [2000/16954 (12%)]\tLoss: 0.338686\n",
      "2022-01-11 14:22:47,813 fedbiomed INFO - log from: node_f92a07ae-353a-47e5-a14e-1c2fd160670f / INFO - Train Epoch: 1 [2000/18000 (11%)]\tLoss: 0.162670\n",
      "2022-01-11 14:22:50,153 fedbiomed INFO - log from: node_40002d89-e02b-45ff-a959-fcdb888f454f / INFO - Train Epoch: 1 [2200/16954 (13%)]\tLoss: 0.095749\n",
      "2022-01-11 14:22:52,520 fedbiomed INFO - log from: node_f92a07ae-353a-47e5-a14e-1c2fd160670f / INFO - Train Epoch: 1 [2200/18000 (12%)]\tLoss: 0.233819\n",
      "2022-01-11 14:22:54,421 fedbiomed INFO - log from: node_40002d89-e02b-45ff-a959-fcdb888f454f / INFO - Train Epoch: 1 [2400/16954 (14%)]\tLoss: 0.278499\n",
      "2022-01-11 14:22:57,062 fedbiomed INFO - log from: node_f92a07ae-353a-47e5-a14e-1c2fd160670f / INFO - Train Epoch: 1 [2400/18000 (13%)]\tLoss: 0.276036\n",
      "2022-01-11 14:22:58,975 fedbiomed INFO - log from: node_40002d89-e02b-45ff-a959-fcdb888f454f / INFO - Train Epoch: 1 [2600/16954 (15%)]\tLoss: 0.112633\n",
      "2022-01-11 14:23:01,575 fedbiomed INFO - log from: node_f92a07ae-353a-47e5-a14e-1c2fd160670f / INFO - Train Epoch: 1 [2600/18000 (14%)]\tLoss: 0.138228\n",
      "2022-01-11 14:23:03,423 fedbiomed INFO - log from: node_40002d89-e02b-45ff-a959-fcdb888f454f / INFO - Train Epoch: 1 [2800/16954 (17%)]\tLoss: 0.189715\n",
      "2022-01-11 14:23:06,428 fedbiomed INFO - log from: node_f92a07ae-353a-47e5-a14e-1c2fd160670f / INFO - Train Epoch: 1 [2800/18000 (16%)]\tLoss: 0.306125\n",
      "2022-01-11 14:23:07,823 fedbiomed INFO - log from: node_40002d89-e02b-45ff-a959-fcdb888f454f / INFO - Train Epoch: 1 [3000/16954 (18%)]\tLoss: 0.079614\n",
      "2022-01-11 14:23:11,397 fedbiomed INFO - log from: node_f92a07ae-353a-47e5-a14e-1c2fd160670f / INFO - Train Epoch: 1 [3000/18000 (17%)]\tLoss: 0.140643\n",
      "2022-01-11 14:23:12,619 fedbiomed INFO - log from: node_40002d89-e02b-45ff-a959-fcdb888f454f / INFO - Train Epoch: 1 [3200/16954 (19%)]\tLoss: 0.101016\n",
      "2022-01-11 14:23:15,819 fedbiomed INFO - log from: node_f92a07ae-353a-47e5-a14e-1c2fd160670f / INFO - Train Epoch: 1 [3200/18000 (18%)]\tLoss: 0.100499\n",
      "2022-01-11 14:23:17,408 fedbiomed INFO - log from: node_40002d89-e02b-45ff-a959-fcdb888f454f / INFO - Train Epoch: 1 [3400/16954 (20%)]\tLoss: 0.060595\n",
      "2022-01-11 14:23:20,737 fedbiomed INFO - log from: node_f92a07ae-353a-47e5-a14e-1c2fd160670f / INFO - Train Epoch: 1 [3400/18000 (19%)]\tLoss: 0.059348\n",
      "2022-01-11 14:23:22,252 fedbiomed INFO - log from: node_40002d89-e02b-45ff-a959-fcdb888f454f / INFO - Train Epoch: 1 [3600/16954 (21%)]\tLoss: 0.114568\n",
      "2022-01-11 14:23:25,374 fedbiomed INFO - log from: node_f92a07ae-353a-47e5-a14e-1c2fd160670f / INFO - Train Epoch: 1 [3600/18000 (20%)]\tLoss: 0.067179\n",
      "2022-01-11 14:23:26,688 fedbiomed INFO - log from: node_40002d89-e02b-45ff-a959-fcdb888f454f / INFO - Train Epoch: 1 [3800/16954 (22%)]\tLoss: 0.080036\n",
      "2022-01-11 14:23:30,131 fedbiomed INFO - log from: node_f92a07ae-353a-47e5-a14e-1c2fd160670f / INFO - Train Epoch: 1 [3800/18000 (21%)]\tLoss: 0.118500\n",
      "2022-01-11 14:23:31,164 fedbiomed INFO - log from: node_40002d89-e02b-45ff-a959-fcdb888f454f / INFO - Train Epoch: 1 [4000/16954 (24%)]\tLoss: 0.443427\n",
      "2022-01-11 14:23:34,747 fedbiomed INFO - log from: node_f92a07ae-353a-47e5-a14e-1c2fd160670f / INFO - Train Epoch: 1 [4000/18000 (22%)]\tLoss: 0.110214\n",
      "2022-01-11 14:23:35,649 fedbiomed INFO - log from: node_40002d89-e02b-45ff-a959-fcdb888f454f / INFO - Train Epoch: 1 [4200/16954 (25%)]\tLoss: 0.241041\n",
      "2022-01-11 14:23:39,898 fedbiomed INFO - log from: node_f92a07ae-353a-47e5-a14e-1c2fd160670f / INFO - Train Epoch: 1 [4200/18000 (23%)]\tLoss: 0.158363\n",
      "2022-01-11 14:23:40,828 fedbiomed INFO - log from: node_40002d89-e02b-45ff-a959-fcdb888f454f / INFO - Train Epoch: 1 [4400/16954 (26%)]\tLoss: 0.220197\n",
      "2022-01-11 14:23:44,554 fedbiomed INFO - log from: node_f92a07ae-353a-47e5-a14e-1c2fd160670f / INFO - Train Epoch: 1 [4400/18000 (24%)]\tLoss: 0.382591\n",
      "2022-01-11 14:23:45,134 fedbiomed INFO - log from: node_40002d89-e02b-45ff-a959-fcdb888f454f / INFO - Train Epoch: 1 [4600/16954 (27%)]\tLoss: 0.151184\n",
      "2022-01-11 14:23:49,068 fedbiomed INFO - log from: node_f92a07ae-353a-47e5-a14e-1c2fd160670f / INFO - Train Epoch: 1 [4600/18000 (26%)]\tLoss: 0.119997\n",
      "2022-01-11 14:23:49,553 fedbiomed INFO - log from: node_40002d89-e02b-45ff-a959-fcdb888f454f / INFO - Train Epoch: 1 [4800/16954 (28%)]\tLoss: 0.125480\n",
      "2022-01-11 14:23:53,846 fedbiomed INFO - log from: node_f92a07ae-353a-47e5-a14e-1c2fd160670f / INFO - Train Epoch: 1 [4800/18000 (27%)]\tLoss: 0.439545\n",
      "2022-01-11 14:23:53,986 fedbiomed INFO - log from: node_40002d89-e02b-45ff-a959-fcdb888f454f / DEBUG - Reached 250 batches for this epoch, ignore remaining data\n",
      "2022-01-11 14:23:54,514 fedbiomed INFO - log from: node_40002d89-e02b-45ff-a959-fcdb888f454f / INFO - results uploaded successfully \n"
     ]
    },
    {
     "name": "stderr",
     "output_type": "stream",
     "text": [
      "2022-01-11 14:23:56,609 fedbiomed INFO - log from: node_f92a07ae-353a-47e5-a14e-1c2fd160670f / DEBUG - Reached 250 batches for this epoch, ignore remaining data\n",
      "2022-01-11 14:23:57,039 fedbiomed INFO - log from: node_f92a07ae-353a-47e5-a14e-1c2fd160670f / INFO - results uploaded successfully \n",
      "2022-01-11 14:24:03,141 fedbiomed INFO - Downloading model params after training on node_40002d89-e02b-45ff-a959-fcdb888f454f - from http://localhost:8844/media/uploads/2022/01/11/node_params_ef03a681-ea2d-4220-8cdd-c213266705d1.pt\n",
      "2022-01-11 14:24:03,206 fedbiomed INFO - Downloading model params after training on node_f92a07ae-353a-47e5-a14e-1c2fd160670f - from http://localhost:8844/media/uploads/2022/01/11/node_params_f54a60ef-5c09-46f0-8ee3-cc5638494e07.pt\n",
      "2022-01-11 14:24:03,269 fedbiomed INFO - Nodes that successfully reply in round 2 ['node_b8e09523-9f97-4481-9fae-079f623b984b', 'node_40002d89-e02b-45ff-a959-fcdb888f454f', 'node_f92a07ae-353a-47e5-a14e-1c2fd160670f']\n",
      "2022-01-11 14:24:03,754 fedbiomed INFO - Saved aggregated params for round 2 in /home/mvesin/GIT/fedbiomed/fedbiomed/var/experiments/Experiment_0129/aggregated_params_71ca91c0-a6b5-4ef2-bda5-c12f9ec265b5.pt\n",
      "2022-01-11 14:57:55,380 fedbiomed INFO - log from: node_b8e09523-9f97-4481-9fae-079f623b984b / CRITICAL - Node stopped in signal_handler, probably by user decision (Ctrl C)\n",
      "2022-01-11 14:57:57,738 fedbiomed INFO - log from: node_f92a07ae-353a-47e5-a14e-1c2fd160670f / CRITICAL - Node stopped in signal_handler, probably by user decision (Ctrl C)\n",
      "2022-01-11 14:58:00,017 fedbiomed INFO - log from: node_40002d89-e02b-45ff-a959-fcdb888f454f / CRITICAL - Node stopped in signal_handler, probably by user decision (Ctrl C)\n",
      "2022-01-11 14:58:29,947 fedbiomed ERROR - Messaging researcher_73a42523-e23d-4d9f-955b-8450849207fb disconnected with error code rc = 1 object = <fedbiomed.common.messaging.Messaging object at 0x7f5b780b1f40> - Hint: check for another instance of the same component running or for communication error\n"
     ]
    }
   ],
   "source": [
    "exp.run()"
   ]
  },
  {
   "cell_type": "markdown",
   "metadata": {
    "pycharm": {
     "name": "#%% md\n"
    }
   },
   "source": [
    "## Testing\n"
   ]
  },
  {
   "cell_type": "markdown",
   "metadata": {},
   "source": [
    "Once the federated model is obtained, it is possible to test it locally on an independent testing partition.\n",
    "The test dataset is available at this link:\n",
    "\n",
    "https://drive.google.com/file/d/1YbwA0WitMoucoIa_Qao7IC1haPfDp-XD/"
   ]
  },
  {
   "cell_type": "code",
   "execution_count": null,
   "metadata": {},
   "outputs": [],
   "source": [
    "!pip install gdown"
   ]
  },
  {
   "cell_type": "code",
   "execution_count": null,
   "metadata": {
    "pycharm": {
     "name": "#%% md\n"
    }
   },
   "outputs": [],
   "source": [
    "import os\n",
    "import shutil\n",
    "import tempfile\n",
    "import PIL\n",
    "import torch\n",
    "import numpy as np\n",
    "from sklearn.metrics import classification_report\n",
    "\n",
    "from monai.config import print_config\n",
    "from monai.data import decollate_batch\n",
    "from monai.metrics import ROCAUCMetric\n",
    "from monai.networks.nets import DenseNet121\n",
    "import zipfile\n",
    "from monai.transforms import (\n",
    "    Activations,\n",
    "    AddChannel,\n",
    "    AsDiscrete,\n",
    "    Compose,\n",
    "    LoadImage,\n",
    "    RandFlip,\n",
    "    RandRotate,\n",
    "    RandZoom,\n",
    "    ScaleIntensity,\n",
    "    EnsureType,\n",
    ")\n",
    "from monai.utils import set_determinism\n",
    "\n",
    "print_config()"
   ]
  },
  {
   "cell_type": "markdown",
   "metadata": {},
   "source": [
    "Download the testing dataset on the local temporary folder."
   ]
  },
  {
   "cell_type": "code",
   "execution_count": null,
   "metadata": {},
   "outputs": [],
   "source": [
    "import gdown\n",
    "import zipfile\n",
    "\n",
    "resource = \"https://drive.google.com/uc?id=1YbwA0WitMoucoIa_Qao7IC1haPfDp-XD\"\n",
    "base_dir = tmp_dir_model.name \n",
    "test_file = os.path.join(base_dir, \"MedNIST_testing.zip\")\n",
    "\n",
    "gdown.download(resource, test_file, quiet=False)\n",
    "\n",
    "zf = zipfile.ZipFile(test_file)\n",
    "\n",
    "for file in zf.infolist():\n",
    "    zf.extract(file, base_dir)\n",
    "    \n",
    "data_dir = os.path.join(base_dir, \"MedNIST_testing\")"
   ]
  },
  {
   "cell_type": "markdown",
   "metadata": {},
   "source": [
    "Parse the data and create the testing data loader:"
   ]
  },
  {
   "cell_type": "code",
   "execution_count": null,
   "metadata": {},
   "outputs": [],
   "source": [
    "class_names = sorted(x for x in os.listdir(data_dir)\n",
    "                     if os.path.isdir(os.path.join(data_dir, x)))\n",
    "num_class = len(class_names)\n",
    "image_files = [\n",
    "    [\n",
    "        os.path.join(data_dir, class_names[i], x)\n",
    "        for x in os.listdir(os.path.join(data_dir, class_names[i]))\n",
    "    ]\n",
    "    for i in range(num_class)\n",
    "]\n",
    "\n",
    "num_each = [len(image_files[i]) for i in range(num_class)]\n",
    "image_files_list = []\n",
    "\n",
    "image_class = []\n",
    "for i in range(num_class):\n",
    "    image_files_list.extend(image_files[i])\n",
    "    image_class.extend([i] * num_each[i])\n",
    "num_total = len(image_class)\n",
    "image_width, image_height = PIL.Image.open(image_files_list[0]).size\n",
    "\n",
    "print(f\"Total image count: {num_total}\")\n",
    "print(f\"Image dimensions: {image_width} x {image_height}\")\n",
    "print(f\"Label names: {class_names}\")\n",
    "print(f\"Label counts: {num_each}\")"
   ]
  },
  {
   "cell_type": "code",
   "execution_count": null,
   "metadata": {},
   "outputs": [],
   "source": [
    "length = len(image_files_list)\n",
    "indices = np.arange(length)\n",
    "np.random.shuffle(indices)\n",
    "\n",
    "\n",
    "test_split = int(0.1 * length)\n",
    "test_indices = indices[:test_split]\n",
    "\n",
    "test_x = [image_files_list[i] for i in test_indices]\n",
    "test_y = [image_class[i] for i in test_indices]\n",
    "\n",
    "val_transforms = Compose(\n",
    "    [LoadImage(image_only=True), AddChannel(), ScaleIntensity(), EnsureType()])\n",
    "\n",
    "y_pred_trans = Compose([EnsureType(), Activations(softmax=True)])\n",
    "y_trans = Compose([EnsureType(), AsDiscrete(to_onehot=num_class)])"
   ]
  },
  {
   "cell_type": "code",
   "execution_count": null,
   "metadata": {},
   "outputs": [],
   "source": [
    "class MedNISTDataset(torch.utils.data.Dataset):\n",
    "    def __init__(self, image_files, labels, transforms):\n",
    "        self.image_files = image_files\n",
    "        self.labels = labels\n",
    "        self.transforms = transforms\n",
    "\n",
    "    def __len__(self):\n",
    "        return len(self.image_files)\n",
    "\n",
    "    def __getitem__(self, index):\n",
    "        return self.transforms(self.image_files[index]), self.labels[index]\n",
    "\n",
    "\n",
    "test_ds = MedNISTDataset(test_x, test_y, val_transforms)\n",
    "test_loader = torch.utils.data.DataLoader(\n",
    "    test_ds, batch_size=300)"
   ]
  },
  {
   "cell_type": "markdown",
   "metadata": {},
   "source": [
    "Define testing metric:"
   ]
  },
  {
   "cell_type": "code",
   "execution_count": null,
   "metadata": {},
   "outputs": [],
   "source": [
    "auc_metric = ROCAUCMetric()"
   ]
  },
  {
   "cell_type": "markdown",
   "metadata": {},
   "source": [
    "To test the federated model we need to create a model instance and assign to it the model parameters estimated at the last federated optimization round."
   ]
  },
  {
   "cell_type": "code",
   "execution_count": null,
   "metadata": {},
   "outputs": [],
   "source": [
    "model = exp.model_instance\n",
    "model.load_state_dict(exp.aggregated_params[rounds - 1]['params'])"
   ]
  },
  {
   "cell_type": "markdown",
   "metadata": {},
   "source": [
    "Compute the testing performance:"
   ]
  },
  {
   "cell_type": "code",
   "execution_count": null,
   "metadata": {},
   "outputs": [],
   "source": [
    "y_true = []\n",
    "y_pred = []\n",
    "with torch.no_grad():\n",
    "    for test_data in test_loader:\n",
    "        test_images, test_labels = (\n",
    "            test_data[0],\n",
    "            test_data[1],\n",
    "        )\n",
    "        pred = model(test_images).argmax(dim=1)\n",
    "        for i in range(len(pred)):\n",
    "            y_true.append(test_labels[i].item())\n",
    "            y_pred.append(pred[i].item())\n"
   ]
  },
  {
   "cell_type": "code",
   "execution_count": null,
   "metadata": {},
   "outputs": [],
   "source": [
    "print(classification_report(\n",
    "    y_true, y_pred, target_names=class_names, digits=4))"
   ]
  },
  {
   "cell_type": "markdown",
   "metadata": {},
   "source": [
    "In spite of the relatively small training performed on the data shared in the 3 nodes, the performance of the federated model seems pretty good. Well done! "
   ]
  }
 ],
 "metadata": {
  "kernelspec": {
   "display_name": "Python 3 (ipykernel)",
   "language": "python",
   "name": "python3"
  },
  "language_info": {
   "codemirror_mode": {
    "name": "ipython",
    "version": 3
   },
   "file_extension": ".py",
   "mimetype": "text/x-python",
   "name": "python",
   "nbconvert_exporter": "python",
   "pygments_lexer": "ipython3",
   "version": "3.9.9"
  }
 },
 "nbformat": 4,
 "nbformat_minor": 4
}

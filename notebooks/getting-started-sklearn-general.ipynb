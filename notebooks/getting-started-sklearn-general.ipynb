{
 "cells": [
  {
   "cell_type": "markdown",
   "id": "64e87007",
   "metadata": {},
   "source": [
    "# Fedbiomed Researcher to train a federated scikit learn model."
   ]
  },
  {
   "cell_type": "markdown",
   "id": "92e17d2f",
   "metadata": {},
   "source": [
    "## Purpose of the exercise :"
   ]
  },
  {
   "cell_type": "markdown",
   "id": "fb782b14",
   "metadata": {},
   "source": [
    "Three datasets n1.csv , n2.csv and n3.csv has been generated randomly using a linear transformation A = [ 5 8 9 5 0 ].\n",
    "We will fit a Stochastic Gradient Regressor to approximate this transformation using Federated Learning."
   ]
  },
  {
   "cell_type": "markdown",
   "id": "f4cf562e",
   "metadata": {},
   "source": [
    "## Extending this notebook to any incremental learning scikit model:\n",
    "\n",
    "The same federated learning scheme below applies to any sklearn model supporting the method partial_fit():"
   ]
  },
  {
   "cell_type": "markdown",
   "id": "ed98bbac",
   "metadata": {},
   "source": [
    "A family of models could be naturally imported in Fed-BioMed, following the same approach. For example: \n",
    "- Naive Bayes.  \n",
    "- Logistic regression,\n",
    "- SVM/SVC (linear and non-linear), \n",
    "- perceptron, \n",
    "- KMeans, \n",
    "- incremental PCA, \n",
    "- mini batch dictionary learning, \n",
    "- latent Dirichlet annotation, "
   ]
  },
  {
   "cell_type": "markdown",
   "id": "d39f160e",
   "metadata": {},
   "source": [
    "## Start the network and setting the client up\n",
    "Before running this notebook:\n",
    "1. You should start the network from fedbiomed-network, as detailed in :\n",
    "https://gitlab.inria.fr/fedbiomed/fedbiomed\n",
    "2. Download n1.csv, n2.csv and n3.csv to some place in your computer from https://gitlab.inria.fr/fedbiomed/fedbiomed/-/tree/develop/notebooks/data\n",
    "3. You need to configure at least 2 nodes: <br/>\n",
    "* **Node 1 :** `./scripts/fedbiomed_run node add`\n",
    "  * Select option 1 to add a csv file to the client\n",
    "  * Choose the name, tags and description of the dataset (you can write 'sk' always and it will be good)\n",
    "  * Pick the .csv file n1.csv .\n",
    "  * Check that your data has been added in node 1 by executing `./scripts/fedbiomed_run node list`\n",
    "  * Run the node using `./scripts/fedbiomed_run node start`. <br/>\n",
    "\n",
    "* **Node 2 :** Open a second terminal and run ./scripts/fedbiomed_run node add config n2.ini\n",
    "  * Select option 1 to add a csv file to the client\n",
    "  * Choose the name, tags and description of the dataset (you can write 'sk' always and it will be good)\n",
    "  * Pick the .csv file n2.csv .\n",
    "  * Check that your data has been added in node 2 by executing `./scripts/fedbiomed_run node list config n2.ini`\n",
    "  * Run the node using `./scripts/fedbiomed_run node start config n2.ini`.\n",
    "  \n",
    "* **Node 3 :** Open a second terminal and run ./scripts/fedbiomed_run node add config n3.ini\n",
    "  * Select option 1 to add a csv file to the client\n",
    "  * Choose the name, tags and description of the dataset (you can write 'sk' always and it will be good)\n",
    "  * Pick the .csv file n3.csv .\n",
    "  * Check that your data has been added in node 2 by executing `./scripts/fedbiomed_run node list config n3.ini`\n",
    "  * Run the node using `./scripts/fedbiomed_run node start config n3.ini`.\n",
    "\n",
    " Wait until you get `Connected with result code 0`. it means you are online.\n"
   ]
  },
  {
   "cell_type": "code",
   "execution_count": 1,
   "id": "ade4cbea",
   "metadata": {},
   "outputs": [],
   "source": [
    "%load_ext autoreload\n",
    "%autoreload 2"
   ]
  },
  {
   "cell_type": "code",
   "execution_count": 2,
   "id": "b8c80070",
   "metadata": {},
   "outputs": [],
   "source": [
    "import numpy as np\n",
    "from fedbiomed.researcher.environ import TMP_DIR\n",
    "import tempfile\n",
    "tmp_dir_model = tempfile.TemporaryDirectory(dir=TMP_DIR+'/')\n",
    "model_file = tmp_dir_model.name + '/fedbiosklearn.py'\n"
   ]
  },
  {
   "cell_type": "markdown",
   "id": "9f91e69a",
   "metadata": {},
   "source": [
    "**model_args** is a dictionnary containing your model arguments, in case of SGDRegressor this will be max_iter and tol.\n",
    "\n",
    "**training_args** is a dictionnary with parameters , related to Federated Learning. "
   ]
  },
  {
   "cell_type": "code",
   "execution_count": 3,
   "id": "5542e823",
   "metadata": {},
   "outputs": [
    {
     "name": "stdout",
     "output_type": "stream",
     "text": [
      "{'alpha': 1.0, 'binarize': 0.0, 'class_prior': None, 'fit_prior': True}\n",
      "{'alpha': 0.0001, 'class_weight': None, 'early_stopping': False, 'eta0': 1.0, 'fit_intercept': True, 'l1_ratio': 0.15, 'max_iter': 1000, 'n_iter_no_change': 5, 'n_jobs': None, 'penalty': None, 'random_state': 0, 'shuffle': True, 'tol': 0.001, 'validation_fraction': 0.1, 'verbose': 0, 'warm_start': False}\n"
     ]
    }
   ],
   "source": [
    "from sklearn.naive_bayes import BernoulliNB\n",
    "\n",
    "xx=BernoulliNB()\n",
    "\n",
    "print(xx.get_params())\n",
    "\n",
    "from sklearn.linear_model import SGDRegressor, SGDClassifier, Perceptron\n",
    "\n",
    "xx=Perceptron()\n",
    "\n",
    "print(xx.get_params())"
   ]
  },
  {
   "cell_type": "code",
   "execution_count": 4,
   "id": "4ce296c5",
   "metadata": {},
   "outputs": [],
   "source": [
    "# input_sklearn_model = 'BernoulliNB'\n",
    "\n",
    "# n_features = 20\n",
    "# n_classes = 2\n",
    "\n",
    "# theta_ = np.array([0.1] * (n_features*n_classes)).reshape(n_classes,n_features)\n",
    "# feature_count_ = np.array([0] * (n_features*n_classes)).reshape(n_classes,n_features)\n",
    "# class_count_ = np.array([0] * (n_classes))\n",
    "\n",
    "# model_args = { 'model': input_sklearn_model, 'max_iter':1000, 'tol': 1e-3 , \n",
    "#               'init_params' : {'theta_': theta_, 'feature_count_' : feature_count_, 'class_count_' : class_count_}}\n",
    "\n",
    "# training_args = {\n",
    "#     'batch_size': None, \n",
    "#     'lr': 1e-3, \n",
    "#     'epochs': 5, \n",
    "#     'dry_run': False,  \n",
    "#     'batch_maxnum': 0\n",
    "# }"
   ]
  },
  {
   "cell_type": "code",
   "execution_count": 5,
   "id": "3a28b429",
   "metadata": {},
   "outputs": [],
   "source": [
    "input_sklearn_model = 'SGDClassifier'\n",
    "\n",
    "n_features = 20\n",
    "n_classes = 2\n",
    "\n",
    "model_args = { 'model': input_sklearn_model, 'max_iter':1000, 'tol': 1e-3 , \n",
    "               'n_features' : n_features, 'n_classes' : n_classes}\n",
    "\n",
    "training_args = {\n",
    "    'batch_size': None, \n",
    "    'lr': 1e-3, \n",
    "    'epochs': 5, \n",
    "    'dry_run': False,  \n",
    "    'batch_maxnum': 0\n",
    "}"
   ]
  },
  {
   "cell_type": "markdown",
   "id": "8e9aaa87",
   "metadata": {},
   "source": [
    "Hereafter the template of the class you should provide to Fedbiomed :\n",
    "\n",
    "**after_training_params** : a dictionnary containing the model parameters. \n",
    "In SGDRegressor case we will have coef and intercept. For kmeans that will be cluster_center and labels.\n",
    "       \n",
    "**training_step** : the most part of the time, it will be the method partial_fit, \n",
    "of a scikit incremental learning model. You can uncomment the prints in order to check the evolution of training.\n",
    "       \n",
    "**training_data** : you must return here the (X,y) that must be of the same type of \n",
    "your method partial_fit parameters. To simplify we dont use batch_size here, but the code should work if you want to train on a specific batch of the dataset. \n",
    "\n",
    "You can uncomment the prints in order to check the evolution of training."
   ]
  },
  {
   "cell_type": "code",
   "execution_count": 6,
   "id": "f10cc76c",
   "metadata": {},
   "outputs": [
    {
     "name": "stdout",
     "output_type": "stream",
     "text": [
      "Writing /Users/mlorenzi/works/temp/fedbiomed/var/tmp/tmp2ulwbor8/fedbiosklearn.py\n"
     ]
    }
   ],
   "source": [
    "%%writefile \"$model_file\"\n",
    "\n",
    "from fedbiomed.common.fedbiosklearn import SGDSkLearnModel\n",
    "import numpy as np\n",
    "\n",
    "class SkLearnTrainingPlan(SGDSkLearnModel):\n",
    "    def __init__(self, model_args):\n",
    "        super(SkLearnTrainingPlan,self).__init__(model_args)\n",
    "    \n",
    "    def training_data(self,batch_size=None):\n",
    "        NUMBER_COLS = 20\n",
    "        dataset = pd.read_csv(self.dataset_path,header=None,delimiter=',')\n",
    "        if batch_size == None:\n",
    "            X = dataset.iloc[:,0:NUMBER_COLS].values\n",
    "            y = dataset.iloc[:,NUMBER_COLS]\n",
    "        else:\n",
    "            X = dataset.iloc[0:batch_size,0:NUMBER_COLS].values\n",
    "            y = dataset.iloc[0:batch_size,NUMBER_COLS]\n",
    "        return (X,y.values)\n",
    "    "
   ]
  },
  {
   "cell_type": "code",
   "execution_count": 7,
   "id": "4b1a1341",
   "metadata": {},
   "outputs": [
    {
     "name": "stdout",
     "output_type": "stream",
     "text": [
      "Messaging researcher_dbd672a5-cbde-46e2-87e5-c736aeb83832 connected with result code 0\n",
      "Searching for clients with data tags: ['sk'] ...\n",
      "2021-08-27 14:19:29.653983 [ RESEARCHER ] message received. {'researcher_id': 'researcher_dbd672a5-cbde-46e2-87e5-c736aeb83832', 'success': True, 'databases': [{'name': 'sk', 'data_type': 'csv', 'tags': ['sk'], 'description': 'sk', 'shape': [149, 20], 'dataset_id': 'dataset_85feab12-29fd-413e-9bb8-4f67c34b9a70'}], 'count': 1, 'client_id': 'client_e01bd65c-755d-4bf3-9034-2d70ef70dbd6', 'command': 'search'}\n",
      "2021-08-27 14:19:29.655621 [ RESEARCHER ] message received. {'researcher_id': 'researcher_dbd672a5-cbde-46e2-87e5-c736aeb83832', 'success': True, 'databases': [{'name': 'sk', 'data_type': 'csv', 'tags': ['sk'], 'description': 'sk', 'shape': [99, 20], 'dataset_id': 'dataset_6239cb1b-a5e4-4bb2-9227-64b2f81aa1d6'}], 'count': 1, 'client_id': 'client_8044438f-3ada-4a0a-8550-b348897d2b0e', 'command': 'search'}\n"
     ]
    }
   ],
   "source": [
    "from fedbiomed.researcher.experiment import Experiment\n",
    "from fedbiomed.researcher.aggregators.fedavg import FedAverage\n",
    "\n",
    "tags =  ['sk']\n",
    "rounds = 8\n",
    "\n",
    "exp = Experiment(tags=tags,\n",
    "                 #clients=None,\n",
    "                 model_path=model_file,\n",
    "                 model_args=model_args,\n",
    "                 model_class='SkLearnTrainingPlan',\n",
    "                 training_args=training_args,\n",
    "                 rounds=rounds,\n",
    "                 aggregator=FedAverage(),\n",
    "                 client_selection_strategy=None)"
   ]
  },
  {
   "cell_type": "code",
   "execution_count": 8,
   "id": "d6ff55da",
   "metadata": {},
   "outputs": [
    {
     "name": "stdout",
     "output_type": "stream",
     "text": [
      "Sampled clients in round  0   ['client_e01bd65c-755d-4bf3-9034-2d70ef70dbd6', 'client_8044438f-3ada-4a0a-8550-b348897d2b0e']\n",
      "[ RESEARCHER ] Send message to client  client_e01bd65c-755d-4bf3-9034-2d70ef70dbd6 {'researcher_id': 'researcher_dbd672a5-cbde-46e2-87e5-c736aeb83832', 'job_id': '03892875-7fda-495e-a579-fc1a2b296af1', 'training_args': {'batch_size': None, 'lr': 0.001, 'epochs': 5, 'dry_run': False, 'batch_maxnum': 0}, 'model_args': {'model': 'SGDClassifier', 'max_iter': 1000, 'tol': 0.001, 'n_features': 20, 'n_classes': 2}, 'command': 'train', 'model_url': 'http://localhost:8844/media/uploads/2021/08/27/my_model_c4d4c4fd-3c63-4ab5-9ffe-7c113eff07ae.py', 'params_url': 'http://localhost:8844/media/uploads/2021/08/27/my_model_814f2c9f-8627-432b-889e-9281cf8202a3.pt', 'model_class': 'SkLearnTrainingPlan', 'training_data': {'client_e01bd65c-755d-4bf3-9034-2d70ef70dbd6': ['dataset_85feab12-29fd-413e-9bb8-4f67c34b9a70']}}\n",
      "researcher_dbd672a5-cbde-46e2-87e5-c736aeb83832\n",
      "[ RESEARCHER ] Send message to client  client_8044438f-3ada-4a0a-8550-b348897d2b0e {'researcher_id': 'researcher_dbd672a5-cbde-46e2-87e5-c736aeb83832', 'job_id': '03892875-7fda-495e-a579-fc1a2b296af1', 'training_args': {'batch_size': None, 'lr': 0.001, 'epochs': 5, 'dry_run': False, 'batch_maxnum': 0}, 'model_args': {'model': 'SGDClassifier', 'max_iter': 1000, 'tol': 0.001, 'n_features': 20, 'n_classes': 2}, 'command': 'train', 'model_url': 'http://localhost:8844/media/uploads/2021/08/27/my_model_c4d4c4fd-3c63-4ab5-9ffe-7c113eff07ae.py', 'params_url': 'http://localhost:8844/media/uploads/2021/08/27/my_model_814f2c9f-8627-432b-889e-9281cf8202a3.pt', 'model_class': 'SkLearnTrainingPlan', 'training_data': {'client_8044438f-3ada-4a0a-8550-b348897d2b0e': ['dataset_6239cb1b-a5e4-4bb2-9227-64b2f81aa1d6']}}\n",
      "researcher_dbd672a5-cbde-46e2-87e5-c736aeb83832\n",
      "2021-08-27 14:19:40.921365 [ RESEARCHER ] message received. {'researcher_id': 'researcher_dbd672a5-cbde-46e2-87e5-c736aeb83832', 'job_id': '03892875-7fda-495e-a579-fc1a2b296af1', 'success': True, 'client_id': 'client_8044438f-3ada-4a0a-8550-b348897d2b0e', 'dataset_id': 'dataset_6239cb1b-a5e4-4bb2-9227-64b2f81aa1d6', 'params_url': 'http://localhost:8844/media/uploads/2021/08/27/node_params_333c9005-b2ad-4548-a91c-528a024d9f28.pt', 'timing': {'rtime_training': 0.007384027000000515, 'ptime_training': 0.0072069999999999634}, 'msg': '', 'command': 'train'}\n",
      "2021-08-27 14:19:40.959748 [ RESEARCHER ] message received. {'researcher_id': 'researcher_dbd672a5-cbde-46e2-87e5-c736aeb83832', 'job_id': '03892875-7fda-495e-a579-fc1a2b296af1', 'success': True, 'client_id': 'client_e01bd65c-755d-4bf3-9034-2d70ef70dbd6', 'dataset_id': 'dataset_85feab12-29fd-413e-9bb8-4f67c34b9a70', 'params_url': 'http://localhost:8844/media/uploads/2021/08/27/node_params_bd346ee6-0e20-4546-961d-f3345bdb40cb.pt', 'timing': {'rtime_training': 0.007660330999996745, 'ptime_training': 0.007352999999999943}, 'msg': '', 'command': 'train'}\n",
      "Downloading model params after training on  client_8044438f-3ada-4a0a-8550-b348897d2b0e \n",
      "\t- from http://localhost:8844/media/uploads/2021/08/27/node_params_333c9005-b2ad-4548-a91c-528a024d9f28.pt\n",
      "Downloading model params after training on  client_e01bd65c-755d-4bf3-9034-2d70ef70dbd6 \n",
      "\t- from http://localhost:8844/media/uploads/2021/08/27/node_params_bd346ee6-0e20-4546-961d-f3345bdb40cb.pt\n",
      "Clients that successfully reply in round  0   ['client_8044438f-3ada-4a0a-8550-b348897d2b0e', 'client_e01bd65c-755d-4bf3-9034-2d70ef70dbd6']\n",
      "before for  [{'intercept_': array([34.515887]), 'coef_': array([[ -1.47077699,  27.78596259, -14.25295623, -29.30215593,\n",
      "         22.00057909,  34.75040035, -13.0056061 ,  25.39753197,\n",
      "         85.26750036,   9.70582002,   5.00490989,  50.29565332,\n",
      "         15.85088004, -10.35004805, 138.47322925,   4.84635649,\n",
      "        -14.79212407,  14.22899381,  18.87716896,  -6.86817776]])}, {'intercept_': array([-10.65251958]), 'coef_': array([[  5.05206224,  10.7882348 , -31.44555311,  34.20547815,\n",
      "          4.85154123,  31.48953261, -40.41012632,   9.52142116,\n",
      "         66.29137589, -31.68491707, -12.41687222,  31.14955378,\n",
      "         -4.07689862, -16.63218648,  96.3537278 ,  12.23998725,\n",
      "         -2.91106222,   4.53580872,   1.95024419,   1.12651012]])}]\n",
      "after for {'intercept_': array([16.4849505]), 'coef_': array([[  1.13309835,  21.00057932, -21.11612999,  -3.95031813,\n",
      "         15.15479382,  33.44868298, -23.94531377,  19.05989096,\n",
      "         77.6923539 ,  -6.81709519,  -1.94975313,  42.65265391,\n",
      "          7.89583936, -12.85783718, 121.65939601,   7.79784619,\n",
      "        -10.04928083,  10.35953685,  12.1200498 ,  -3.67674993]])}\n",
      "Sampled clients in round  1   ['client_e01bd65c-755d-4bf3-9034-2d70ef70dbd6', 'client_8044438f-3ada-4a0a-8550-b348897d2b0e']\n",
      "[ RESEARCHER ] Send message to client  client_e01bd65c-755d-4bf3-9034-2d70ef70dbd6 {'researcher_id': 'researcher_dbd672a5-cbde-46e2-87e5-c736aeb83832', 'job_id': '03892875-7fda-495e-a579-fc1a2b296af1', 'training_args': {'batch_size': None, 'lr': 0.001, 'epochs': 5, 'dry_run': False, 'batch_maxnum': 0}, 'model_args': {'model': 'SGDClassifier', 'max_iter': 1000, 'tol': 0.001, 'n_features': 20, 'n_classes': 2}, 'command': 'train', 'model_url': 'http://localhost:8844/media/uploads/2021/08/27/my_model_c4d4c4fd-3c63-4ab5-9ffe-7c113eff07ae.py', 'params_url': 'http://localhost:8844/media/uploads/2021/08/27/researcher_params_4a6b6f66-4e13-46e6-95c7-99a5583a8e39.pt', 'model_class': 'SkLearnTrainingPlan', 'training_data': {'client_e01bd65c-755d-4bf3-9034-2d70ef70dbd6': ['dataset_85feab12-29fd-413e-9bb8-4f67c34b9a70']}}\n",
      "researcher_dbd672a5-cbde-46e2-87e5-c736aeb83832\n",
      "[ RESEARCHER ] Send message to client  client_8044438f-3ada-4a0a-8550-b348897d2b0e {'researcher_id': 'researcher_dbd672a5-cbde-46e2-87e5-c736aeb83832', 'job_id': '03892875-7fda-495e-a579-fc1a2b296af1', 'training_args': {'batch_size': None, 'lr': 0.001, 'epochs': 5, 'dry_run': False, 'batch_maxnum': 0}, 'model_args': {'model': 'SGDClassifier', 'max_iter': 1000, 'tol': 0.001, 'n_features': 20, 'n_classes': 2}, 'command': 'train', 'model_url': 'http://localhost:8844/media/uploads/2021/08/27/my_model_c4d4c4fd-3c63-4ab5-9ffe-7c113eff07ae.py', 'params_url': 'http://localhost:8844/media/uploads/2021/08/27/researcher_params_4a6b6f66-4e13-46e6-95c7-99a5583a8e39.pt', 'model_class': 'SkLearnTrainingPlan', 'training_data': {'client_8044438f-3ada-4a0a-8550-b348897d2b0e': ['dataset_6239cb1b-a5e4-4bb2-9227-64b2f81aa1d6']}}\n",
      "researcher_dbd672a5-cbde-46e2-87e5-c736aeb83832\n",
      "2021-08-27 14:19:50.241229 [ RESEARCHER ] message received. {'researcher_id': 'researcher_dbd672a5-cbde-46e2-87e5-c736aeb83832', 'job_id': '03892875-7fda-495e-a579-fc1a2b296af1', 'success': True, 'client_id': 'client_8044438f-3ada-4a0a-8550-b348897d2b0e', 'dataset_id': 'dataset_6239cb1b-a5e4-4bb2-9227-64b2f81aa1d6', 'params_url': 'http://localhost:8844/media/uploads/2021/08/27/node_params_fc292ed8-ce56-4128-825e-b63ed82e2f91.pt', 'timing': {'rtime_training': 0.006239211000000466, 'ptime_training': 0.006212000000000106}, 'msg': '', 'command': 'train'}\n",
      "2021-08-27 14:19:50.271553 [ RESEARCHER ] message received. {'researcher_id': 'researcher_dbd672a5-cbde-46e2-87e5-c736aeb83832', 'job_id': '03892875-7fda-495e-a579-fc1a2b296af1', 'success': True, 'client_id': 'client_e01bd65c-755d-4bf3-9034-2d70ef70dbd6', 'dataset_id': 'dataset_85feab12-29fd-413e-9bb8-4f67c34b9a70', 'params_url': 'http://localhost:8844/media/uploads/2021/08/27/node_params_4fbb8e7f-8048-4b5f-be08-c10f62132e7d.pt', 'timing': {'rtime_training': 0.006397421999992048, 'ptime_training': 0.006385000000000085}, 'msg': '', 'command': 'train'}\n",
      "Downloading model params after training on  client_8044438f-3ada-4a0a-8550-b348897d2b0e \n",
      "\t- from http://localhost:8844/media/uploads/2021/08/27/node_params_fc292ed8-ce56-4128-825e-b63ed82e2f91.pt\n",
      "Downloading model params after training on  client_e01bd65c-755d-4bf3-9034-2d70ef70dbd6 \n",
      "\t- from http://localhost:8844/media/uploads/2021/08/27/node_params_4fbb8e7f-8048-4b5f-be08-c10f62132e7d.pt\n",
      "Clients that successfully reply in round  1   ['client_8044438f-3ada-4a0a-8550-b348897d2b0e', 'client_e01bd65c-755d-4bf3-9034-2d70ef70dbd6']\n",
      "before for  [{'intercept_': array([18.77203174]), 'coef_': array([[-2.36861343e+01,  2.45775278e+01, -2.61584727e+01,\n",
      "        -2.45150697e+01,  6.58103507e-02,  9.35962935e+00,\n",
      "         2.97502871e+00,  4.84329715e+01,  3.09092371e+01,\n",
      "        -1.47989556e+01,  9.19016822e-01,  4.79524186e+01,\n",
      "         4.63387750e+01, -7.84031959e+00,  9.24343493e+01,\n",
      "         1.17386647e+01, -7.91091046e+00, -5.71038369e+00,\n",
      "        -3.60384683e+00,  1.21587457e+01]])}, {'intercept_': array([6.07280451]), 'coef_': array([[ -9.46870817,   2.31709497, -23.32776937,  19.84727055,\n",
      "         -2.51907104,  27.32748887, -38.74031159, -11.68369182,\n",
      "         44.24906964, -17.97991945,  -4.97147832,  37.2754156 ,\n",
      "         -2.03999722, -13.91216287,  87.74130974,  16.61137688,\n",
      "          2.74554902, -16.552028  ,  -1.08516205,  24.91855745]])}]\n",
      "after for {'intercept_': array([13.70258216]), 'coef_': array([[-18.01062952,  15.69130664, -25.02847418,  -6.8059097 ,\n",
      "         -0.96605762,  16.53228295, -13.677466  ,  24.43478737,\n",
      "         36.23441221, -16.06877586,  -1.43243084,  43.69022786,\n",
      "         27.02628128, -10.26416025,  90.56091816,  13.68381998,\n",
      "         -3.65692058, -10.03829815,  -2.59840412,  17.25238025]])}\n",
      "Sampled clients in round  2   ['client_e01bd65c-755d-4bf3-9034-2d70ef70dbd6', 'client_8044438f-3ada-4a0a-8550-b348897d2b0e']\n",
      "[ RESEARCHER ] Send message to client  client_e01bd65c-755d-4bf3-9034-2d70ef70dbd6 {'researcher_id': 'researcher_dbd672a5-cbde-46e2-87e5-c736aeb83832', 'job_id': '03892875-7fda-495e-a579-fc1a2b296af1', 'training_args': {'batch_size': None, 'lr': 0.001, 'epochs': 5, 'dry_run': False, 'batch_maxnum': 0}, 'model_args': {'model': 'SGDClassifier', 'max_iter': 1000, 'tol': 0.001, 'n_features': 20, 'n_classes': 2}, 'command': 'train', 'model_url': 'http://localhost:8844/media/uploads/2021/08/27/my_model_c4d4c4fd-3c63-4ab5-9ffe-7c113eff07ae.py', 'params_url': 'http://localhost:8844/media/uploads/2021/08/27/researcher_params_aa50d686-0829-433a-b8dd-fe3b3a951138.pt', 'model_class': 'SkLearnTrainingPlan', 'training_data': {'client_e01bd65c-755d-4bf3-9034-2d70ef70dbd6': ['dataset_85feab12-29fd-413e-9bb8-4f67c34b9a70']}}\n",
      "researcher_dbd672a5-cbde-46e2-87e5-c736aeb83832\n",
      "[ RESEARCHER ] Send message to client  client_8044438f-3ada-4a0a-8550-b348897d2b0e {'researcher_id': 'researcher_dbd672a5-cbde-46e2-87e5-c736aeb83832', 'job_id': '03892875-7fda-495e-a579-fc1a2b296af1', 'training_args': {'batch_size': None, 'lr': 0.001, 'epochs': 5, 'dry_run': False, 'batch_maxnum': 0}, 'model_args': {'model': 'SGDClassifier', 'max_iter': 1000, 'tol': 0.001, 'n_features': 20, 'n_classes': 2}, 'command': 'train', 'model_url': 'http://localhost:8844/media/uploads/2021/08/27/my_model_c4d4c4fd-3c63-4ab5-9ffe-7c113eff07ae.py', 'params_url': 'http://localhost:8844/media/uploads/2021/08/27/researcher_params_aa50d686-0829-433a-b8dd-fe3b3a951138.pt', 'model_class': 'SkLearnTrainingPlan', 'training_data': {'client_8044438f-3ada-4a0a-8550-b348897d2b0e': ['dataset_6239cb1b-a5e4-4bb2-9227-64b2f81aa1d6']}}\n",
      "researcher_dbd672a5-cbde-46e2-87e5-c736aeb83832\n",
      "2021-08-27 14:20:00.315490 [ RESEARCHER ] message received. {'researcher_id': 'researcher_dbd672a5-cbde-46e2-87e5-c736aeb83832', 'job_id': '03892875-7fda-495e-a579-fc1a2b296af1', 'success': True, 'client_id': 'client_8044438f-3ada-4a0a-8550-b348897d2b0e', 'dataset_id': 'dataset_6239cb1b-a5e4-4bb2-9227-64b2f81aa1d6', 'params_url': 'http://localhost:8844/media/uploads/2021/08/27/node_params_b88f7b92-2c5b-48b0-9d1e-1d1dc23482e4.pt', 'timing': {'rtime_training': 0.005730107999994516, 'ptime_training': 0.005711999999999939}, 'msg': '', 'command': 'train'}\n",
      "2021-08-27 14:20:00.349811 [ RESEARCHER ] message received. {'researcher_id': 'researcher_dbd672a5-cbde-46e2-87e5-c736aeb83832', 'job_id': '03892875-7fda-495e-a579-fc1a2b296af1', 'success': True, 'client_id': 'client_e01bd65c-755d-4bf3-9034-2d70ef70dbd6', 'dataset_id': 'dataset_85feab12-29fd-413e-9bb8-4f67c34b9a70', 'params_url': 'http://localhost:8844/media/uploads/2021/08/27/node_params_fb23c81f-1f70-4d47-8d7f-9ee59b6c936c.pt', 'timing': {'rtime_training': 0.006940175000011095, 'ptime_training': 0.006835999999999842}, 'msg': '', 'command': 'train'}\n"
     ]
    },
    {
     "name": "stdout",
     "output_type": "stream",
     "text": [
      "Downloading model params after training on  client_8044438f-3ada-4a0a-8550-b348897d2b0e \n",
      "\t- from http://localhost:8844/media/uploads/2021/08/27/node_params_b88f7b92-2c5b-48b0-9d1e-1d1dc23482e4.pt\n",
      "Downloading model params after training on  client_e01bd65c-755d-4bf3-9034-2d70ef70dbd6 \n",
      "\t- from http://localhost:8844/media/uploads/2021/08/27/node_params_fb23c81f-1f70-4d47-8d7f-9ee59b6c936c.pt\n",
      "Clients that successfully reply in round  2   ['client_8044438f-3ada-4a0a-8550-b348897d2b0e', 'client_e01bd65c-755d-4bf3-9034-2d70ef70dbd6']\n",
      "before for  [{'intercept_': array([21.66463689]), 'coef_': array([[ -2.89567681,  23.64039098, -24.82194325,  -5.39333775,\n",
      "          4.5245667 ,  11.48424367,  -1.41742636,  22.91332383,\n",
      "         49.68920684,  -6.56522133,  -7.5898722 ,  31.92637853,\n",
      "         25.52559175,  -3.40697161,  84.41359266,  -3.55464555,\n",
      "         -9.3617562 ,   0.75377756,   0.39708603,   5.41821487]])}, {'intercept_': array([1.917024]), 'coef_': array([[  2.10798022,  -9.78934752, -11.25383074,  26.32983857,\n",
      "         11.00569855,   6.15484612, -30.65761758, -10.72251122,\n",
      "         39.54209715, -15.85872392, -17.60634806,  19.74274998,\n",
      "         -5.40802812,  -9.71775346,  59.12591816,  11.95537008,\n",
      "         -7.49779604,   2.59307298,  -4.74920785,  10.42183401]])}]\n",
      "after for {'intercept_': array([13.78151723]), 'coef_': array([[ -0.8982492 ,  10.29545505, -19.40564027,   7.27034957,\n",
      "          7.11179272,   9.35678255, -13.08992205,   9.48611548,\n",
      "         45.63854612, -10.27512761, -11.58838474,  27.06275262,\n",
      "         13.17709027,  -5.92619501,  74.31891615,   2.63685263,\n",
      "         -8.61767533,   1.48801243,  -1.65728129,   7.41562735]])}\n",
      "Sampled clients in round  3   ['client_e01bd65c-755d-4bf3-9034-2d70ef70dbd6', 'client_8044438f-3ada-4a0a-8550-b348897d2b0e']\n",
      "[ RESEARCHER ] Send message to client  client_e01bd65c-755d-4bf3-9034-2d70ef70dbd6 {'researcher_id': 'researcher_dbd672a5-cbde-46e2-87e5-c736aeb83832', 'job_id': '03892875-7fda-495e-a579-fc1a2b296af1', 'training_args': {'batch_size': None, 'lr': 0.001, 'epochs': 5, 'dry_run': False, 'batch_maxnum': 0}, 'model_args': {'model': 'SGDClassifier', 'max_iter': 1000, 'tol': 0.001, 'n_features': 20, 'n_classes': 2}, 'command': 'train', 'model_url': 'http://localhost:8844/media/uploads/2021/08/27/my_model_c4d4c4fd-3c63-4ab5-9ffe-7c113eff07ae.py', 'params_url': 'http://localhost:8844/media/uploads/2021/08/27/researcher_params_4367eceb-2261-40b3-9d67-4260411c7dab.pt', 'model_class': 'SkLearnTrainingPlan', 'training_data': {'client_e01bd65c-755d-4bf3-9034-2d70ef70dbd6': ['dataset_85feab12-29fd-413e-9bb8-4f67c34b9a70']}}\n",
      "researcher_dbd672a5-cbde-46e2-87e5-c736aeb83832\n",
      "[ RESEARCHER ] Send message to client  client_8044438f-3ada-4a0a-8550-b348897d2b0e {'researcher_id': 'researcher_dbd672a5-cbde-46e2-87e5-c736aeb83832', 'job_id': '03892875-7fda-495e-a579-fc1a2b296af1', 'training_args': {'batch_size': None, 'lr': 0.001, 'epochs': 5, 'dry_run': False, 'batch_maxnum': 0}, 'model_args': {'model': 'SGDClassifier', 'max_iter': 1000, 'tol': 0.001, 'n_features': 20, 'n_classes': 2}, 'command': 'train', 'model_url': 'http://localhost:8844/media/uploads/2021/08/27/my_model_c4d4c4fd-3c63-4ab5-9ffe-7c113eff07ae.py', 'params_url': 'http://localhost:8844/media/uploads/2021/08/27/researcher_params_4367eceb-2261-40b3-9d67-4260411c7dab.pt', 'model_class': 'SkLearnTrainingPlan', 'training_data': {'client_8044438f-3ada-4a0a-8550-b348897d2b0e': ['dataset_6239cb1b-a5e4-4bb2-9227-64b2f81aa1d6']}}\n",
      "researcher_dbd672a5-cbde-46e2-87e5-c736aeb83832\n",
      "2021-08-27 14:20:10.394800 [ RESEARCHER ] message received. {'researcher_id': 'researcher_dbd672a5-cbde-46e2-87e5-c736aeb83832', 'job_id': '03892875-7fda-495e-a579-fc1a2b296af1', 'success': True, 'client_id': 'client_e01bd65c-755d-4bf3-9034-2d70ef70dbd6', 'dataset_id': 'dataset_85feab12-29fd-413e-9bb8-4f67c34b9a70', 'params_url': 'http://localhost:8844/media/uploads/2021/08/27/node_params_0600de5b-7ab6-4538-bea0-fecfe0975c00.pt', 'timing': {'rtime_training': 0.006128694000011592, 'ptime_training': 0.006124999999999936}, 'msg': '', 'command': 'train'}\n",
      "2021-08-27 14:20:10.421429 [ RESEARCHER ] message received. {'researcher_id': 'researcher_dbd672a5-cbde-46e2-87e5-c736aeb83832', 'job_id': '03892875-7fda-495e-a579-fc1a2b296af1', 'success': True, 'client_id': 'client_8044438f-3ada-4a0a-8550-b348897d2b0e', 'dataset_id': 'dataset_6239cb1b-a5e4-4bb2-9227-64b2f81aa1d6', 'params_url': 'http://localhost:8844/media/uploads/2021/08/27/node_params_4d57d481-c935-4e66-8bc5-062d73ac526f.pt', 'timing': {'rtime_training': 0.006606477000005384, 'ptime_training': 0.0065719999999998}, 'msg': '', 'command': 'train'}\n",
      "Downloading model params after training on  client_e01bd65c-755d-4bf3-9034-2d70ef70dbd6 \n",
      "\t- from http://localhost:8844/media/uploads/2021/08/27/node_params_0600de5b-7ab6-4538-bea0-fecfe0975c00.pt\n",
      "Downloading model params after training on  client_8044438f-3ada-4a0a-8550-b348897d2b0e \n",
      "\t- from http://localhost:8844/media/uploads/2021/08/27/node_params_4d57d481-c935-4e66-8bc5-062d73ac526f.pt\n",
      "Clients that successfully reply in round  3   ['client_e01bd65c-755d-4bf3-9034-2d70ef70dbd6', 'client_8044438f-3ada-4a0a-8550-b348897d2b0e']\n",
      "before for  [{'intercept_': array([10.25675743]), 'coef_': array([[ -8.08361715,  -2.23549849, -12.19940875,  14.7872623 ,\n",
      "         -2.52644187,  18.57411041, -13.01205332, -13.06921919,\n",
      "         24.15343044, -19.90042161,   1.15925488,  24.08883306,\n",
      "         -6.89058497,   1.46148819,  53.21179774,  11.44283813,\n",
      "          1.57834941,   3.07143888, -10.49580467,   9.06036057]])}, {'intercept_': array([11.61531458]), 'coef_': array([[ -2.24446916,  17.24867688, -22.48991758, -14.79326674,\n",
      "         -1.47896095,   8.31676901,  -5.61316056,  28.39475617,\n",
      "         37.14399483,  -3.54418972,  -2.89211437,  23.96834216,\n",
      "         17.1415738 , -12.21030025,  63.24710585,   0.88076376,\n",
      "         -3.78433388,   9.50354588,   2.57448742,   5.83371677]])}]\n",
      "after for {'intercept_': array([10.79908468]), 'coef_': array([[ -5.75266695,   5.54245861, -16.30731348,   2.97890595,\n",
      "         -2.10829424,  14.4794459 , -10.05846307,   3.48293226,\n",
      "         29.33917994, -13.37111937,  -0.45802559,  24.04073387,\n",
      "          2.70289777,  -3.99620155,  57.217828  ,   7.22652618,\n",
      "         -0.56239916,   5.63909449,  -5.2782284 ,   7.77230518]])}\n",
      "Sampled clients in round  4   ['client_e01bd65c-755d-4bf3-9034-2d70ef70dbd6', 'client_8044438f-3ada-4a0a-8550-b348897d2b0e']\n",
      "[ RESEARCHER ] Send message to client  client_e01bd65c-755d-4bf3-9034-2d70ef70dbd6 {'researcher_id': 'researcher_dbd672a5-cbde-46e2-87e5-c736aeb83832', 'job_id': '03892875-7fda-495e-a579-fc1a2b296af1', 'training_args': {'batch_size': None, 'lr': 0.001, 'epochs': 5, 'dry_run': False, 'batch_maxnum': 0}, 'model_args': {'model': 'SGDClassifier', 'max_iter': 1000, 'tol': 0.001, 'n_features': 20, 'n_classes': 2}, 'command': 'train', 'model_url': 'http://localhost:8844/media/uploads/2021/08/27/my_model_c4d4c4fd-3c63-4ab5-9ffe-7c113eff07ae.py', 'params_url': 'http://localhost:8844/media/uploads/2021/08/27/researcher_params_ebf3b4f5-885c-460d-9ff6-55e41cf40372.pt', 'model_class': 'SkLearnTrainingPlan', 'training_data': {'client_e01bd65c-755d-4bf3-9034-2d70ef70dbd6': ['dataset_85feab12-29fd-413e-9bb8-4f67c34b9a70']}}\n",
      "researcher_dbd672a5-cbde-46e2-87e5-c736aeb83832\n",
      "[ RESEARCHER ] Send message to client  client_8044438f-3ada-4a0a-8550-b348897d2b0e {'researcher_id': 'researcher_dbd672a5-cbde-46e2-87e5-c736aeb83832', 'job_id': '03892875-7fda-495e-a579-fc1a2b296af1', 'training_args': {'batch_size': None, 'lr': 0.001, 'epochs': 5, 'dry_run': False, 'batch_maxnum': 0}, 'model_args': {'model': 'SGDClassifier', 'max_iter': 1000, 'tol': 0.001, 'n_features': 20, 'n_classes': 2}, 'command': 'train', 'model_url': 'http://localhost:8844/media/uploads/2021/08/27/my_model_c4d4c4fd-3c63-4ab5-9ffe-7c113eff07ae.py', 'params_url': 'http://localhost:8844/media/uploads/2021/08/27/researcher_params_ebf3b4f5-885c-460d-9ff6-55e41cf40372.pt', 'model_class': 'SkLearnTrainingPlan', 'training_data': {'client_8044438f-3ada-4a0a-8550-b348897d2b0e': ['dataset_6239cb1b-a5e4-4bb2-9227-64b2f81aa1d6']}}\n",
      "researcher_dbd672a5-cbde-46e2-87e5-c736aeb83832\n",
      "2021-08-27 14:20:20.479662 [ RESEARCHER ] message received. {'researcher_id': 'researcher_dbd672a5-cbde-46e2-87e5-c736aeb83832', 'job_id': '03892875-7fda-495e-a579-fc1a2b296af1', 'success': True, 'client_id': 'client_8044438f-3ada-4a0a-8550-b348897d2b0e', 'dataset_id': 'dataset_6239cb1b-a5e4-4bb2-9227-64b2f81aa1d6', 'params_url': 'http://localhost:8844/media/uploads/2021/08/27/node_params_bda25c12-b543-4b5b-a5ee-9da5ad25c195.pt', 'timing': {'rtime_training': 0.005505899999988628, 'ptime_training': 0.005505000000000315}, 'msg': '', 'command': 'train'}\n",
      "2021-08-27 14:20:20.510337 [ RESEARCHER ] message received. {'researcher_id': 'researcher_dbd672a5-cbde-46e2-87e5-c736aeb83832', 'job_id': '03892875-7fda-495e-a579-fc1a2b296af1', 'success': True, 'client_id': 'client_e01bd65c-755d-4bf3-9034-2d70ef70dbd6', 'dataset_id': 'dataset_85feab12-29fd-413e-9bb8-4f67c34b9a70', 'params_url': 'http://localhost:8844/media/uploads/2021/08/27/node_params_d579da5f-7d10-4800-ba81-5987584f8526.pt', 'timing': {'rtime_training': 0.007177665000000388, 'ptime_training': 0.007157999999999998}, 'msg': '', 'command': 'train'}\n"
     ]
    },
    {
     "name": "stdout",
     "output_type": "stream",
     "text": [
      "Downloading model params after training on  client_8044438f-3ada-4a0a-8550-b348897d2b0e \n",
      "\t- from http://localhost:8844/media/uploads/2021/08/27/node_params_bda25c12-b543-4b5b-a5ee-9da5ad25c195.pt\n",
      "Downloading model params after training on  client_e01bd65c-755d-4bf3-9034-2d70ef70dbd6 \n",
      "\t- from http://localhost:8844/media/uploads/2021/08/27/node_params_d579da5f-7d10-4800-ba81-5987584f8526.pt\n",
      "Clients that successfully reply in round  4   ['client_8044438f-3ada-4a0a-8550-b348897d2b0e', 'client_e01bd65c-755d-4bf3-9034-2d70ef70dbd6']\n",
      "before for  [{'intercept_': array([13.30873162]), 'coef_': array([[  4.94793798,   8.80237015, -14.90283239,  -7.76233559,\n",
      "         -4.13888728,  22.66718809,  -1.93147271,  13.94853594,\n",
      "         38.80117897,   7.64502433,  -1.99297094,  15.67660055,\n",
      "         16.3816328 ,  -5.98098122,  52.76503328,   6.47767066,\n",
      "          1.48805807,  -0.352431  ,   3.93020366,   8.2991169 ]])}, {'intercept_': array([-4.06522571]), 'coef_': array([[ -6.7124674 ,  -1.84388741, -15.48876588,  10.91799472,\n",
      "         -3.59270684,   4.57856363, -22.62178873,  -2.15465967,\n",
      "         22.01422943, -12.63643677,  -4.66239483,  21.11429566,\n",
      "         -1.33038578,  -0.21032032,  47.30368033,  21.07268487,\n",
      "          2.78812208,  -6.51635291,  -1.77106453,   7.60643643]])}]\n",
      "after for {'intercept_': array([6.37315994]), 'coef_': array([[  0.29317938,   4.55245282, -15.13673326,  -0.30526825,\n",
      "         -3.92085557,  15.44632591, -10.19091338,   7.52024415,\n",
      "         32.09993702,  -0.45120409,  -3.05858774,  17.84729336,\n",
      "          9.31110925,  -3.67737062,  50.58489641,  12.30390617,\n",
      "          2.00703523,  -2.81302886,   1.65429418,   8.02260332]])}\n",
      "Sampled clients in round  5   ['client_e01bd65c-755d-4bf3-9034-2d70ef70dbd6', 'client_8044438f-3ada-4a0a-8550-b348897d2b0e']\n",
      "[ RESEARCHER ] Send message to client  client_e01bd65c-755d-4bf3-9034-2d70ef70dbd6 {'researcher_id': 'researcher_dbd672a5-cbde-46e2-87e5-c736aeb83832', 'job_id': '03892875-7fda-495e-a579-fc1a2b296af1', 'training_args': {'batch_size': None, 'lr': 0.001, 'epochs': 5, 'dry_run': False, 'batch_maxnum': 0}, 'model_args': {'model': 'SGDClassifier', 'max_iter': 1000, 'tol': 0.001, 'n_features': 20, 'n_classes': 2}, 'command': 'train', 'model_url': 'http://localhost:8844/media/uploads/2021/08/27/my_model_c4d4c4fd-3c63-4ab5-9ffe-7c113eff07ae.py', 'params_url': 'http://localhost:8844/media/uploads/2021/08/27/researcher_params_ba36a09b-8685-4a4a-8461-88ea4364e47e.pt', 'model_class': 'SkLearnTrainingPlan', 'training_data': {'client_e01bd65c-755d-4bf3-9034-2d70ef70dbd6': ['dataset_85feab12-29fd-413e-9bb8-4f67c34b9a70']}}\n",
      "researcher_dbd672a5-cbde-46e2-87e5-c736aeb83832\n",
      "[ RESEARCHER ] Send message to client  client_8044438f-3ada-4a0a-8550-b348897d2b0e {'researcher_id': 'researcher_dbd672a5-cbde-46e2-87e5-c736aeb83832', 'job_id': '03892875-7fda-495e-a579-fc1a2b296af1', 'training_args': {'batch_size': None, 'lr': 0.001, 'epochs': 5, 'dry_run': False, 'batch_maxnum': 0}, 'model_args': {'model': 'SGDClassifier', 'max_iter': 1000, 'tol': 0.001, 'n_features': 20, 'n_classes': 2}, 'command': 'train', 'model_url': 'http://localhost:8844/media/uploads/2021/08/27/my_model_c4d4c4fd-3c63-4ab5-9ffe-7c113eff07ae.py', 'params_url': 'http://localhost:8844/media/uploads/2021/08/27/researcher_params_ba36a09b-8685-4a4a-8461-88ea4364e47e.pt', 'model_class': 'SkLearnTrainingPlan', 'training_data': {'client_8044438f-3ada-4a0a-8550-b348897d2b0e': ['dataset_6239cb1b-a5e4-4bb2-9227-64b2f81aa1d6']}}\n",
      "researcher_dbd672a5-cbde-46e2-87e5-c736aeb83832\n",
      "2021-08-27 14:20:30.562151 [ RESEARCHER ] message received. {'researcher_id': 'researcher_dbd672a5-cbde-46e2-87e5-c736aeb83832', 'job_id': '03892875-7fda-495e-a579-fc1a2b296af1', 'success': True, 'client_id': 'client_8044438f-3ada-4a0a-8550-b348897d2b0e', 'dataset_id': 'dataset_6239cb1b-a5e4-4bb2-9227-64b2f81aa1d6', 'params_url': 'http://localhost:8844/media/uploads/2021/08/27/node_params_4678b50a-97b3-4e6f-b936-5e0985f15df7.pt', 'timing': {'rtime_training': 0.006340714999993224, 'ptime_training': 0.006316999999999684}, 'msg': '', 'command': 'train'}\n",
      "2021-08-27 14:20:30.587641 [ RESEARCHER ] message received. {'researcher_id': 'researcher_dbd672a5-cbde-46e2-87e5-c736aeb83832', 'job_id': '03892875-7fda-495e-a579-fc1a2b296af1', 'success': True, 'client_id': 'client_e01bd65c-755d-4bf3-9034-2d70ef70dbd6', 'dataset_id': 'dataset_85feab12-29fd-413e-9bb8-4f67c34b9a70', 'params_url': 'http://localhost:8844/media/uploads/2021/08/27/node_params_8ca1db11-028f-4c84-9c66-07453d762668.pt', 'timing': {'rtime_training': 0.0066634730000032505, 'ptime_training': 0.0066509999999997405}, 'msg': '', 'command': 'train'}\n",
      "Downloading model params after training on  client_8044438f-3ada-4a0a-8550-b348897d2b0e \n",
      "\t- from http://localhost:8844/media/uploads/2021/08/27/node_params_4678b50a-97b3-4e6f-b936-5e0985f15df7.pt\n",
      "Downloading model params after training on  client_e01bd65c-755d-4bf3-9034-2d70ef70dbd6 \n",
      "\t- from http://localhost:8844/media/uploads/2021/08/27/node_params_8ca1db11-028f-4c84-9c66-07453d762668.pt\n",
      "Clients that successfully reply in round  5   ['client_8044438f-3ada-4a0a-8550-b348897d2b0e', 'client_e01bd65c-755d-4bf3-9034-2d70ef70dbd6']\n",
      "before for  [{'intercept_': array([12.8443467]), 'coef_': array([[ -3.20957222,  18.48781901, -14.40891096, -12.46177087,\n",
      "          0.12433442,   9.44744708, -11.07167025,  16.09814714,\n",
      "         24.91799179,  -1.49200227,  -5.26519582,  18.26630686,\n",
      "         16.89712013,  -6.07532088,  45.53761456,   8.82167301,\n",
      "         -0.85343724,   5.99511712,   3.42332031,  10.51373656]])}, {'intercept_': array([-2.12183431]), 'coef_': array([[ -0.18247014,  -4.92182806, -13.51699896,  10.81085593,\n",
      "          8.87633576,   5.12957893, -19.53766426,  -8.28011072,\n",
      "         23.18649546, -16.29337279,  -7.24080194,  13.39756253,\n",
      "         -6.13088595,  -7.25762368,  37.25780658,   4.12463467,\n",
      "         -1.99387429,   2.77019307,  -0.45205171,  -0.56387497]])}]\n",
      "after for {'intercept_': array([6.8699438]), 'coef_': array([[ -2.0011726 ,   9.14283893, -14.05286544,  -3.1714884 ,\n",
      "          3.61807689,   7.72378197, -14.45124044,   6.36650388,\n",
      "         24.22678963,  -7.40061389,  -6.05384504,  16.32273554,\n",
      "          7.70448867,  -6.54728853,  42.23236863,   6.94664561,\n",
      "         -1.30869235,   4.70774824,   1.8762968 ,   6.09162551]])}\n",
      "Sampled clients in round  6   ['client_e01bd65c-755d-4bf3-9034-2d70ef70dbd6', 'client_8044438f-3ada-4a0a-8550-b348897d2b0e']\n",
      "[ RESEARCHER ] Send message to client  client_e01bd65c-755d-4bf3-9034-2d70ef70dbd6 {'researcher_id': 'researcher_dbd672a5-cbde-46e2-87e5-c736aeb83832', 'job_id': '03892875-7fda-495e-a579-fc1a2b296af1', 'training_args': {'batch_size': None, 'lr': 0.001, 'epochs': 5, 'dry_run': False, 'batch_maxnum': 0}, 'model_args': {'model': 'SGDClassifier', 'max_iter': 1000, 'tol': 0.001, 'n_features': 20, 'n_classes': 2}, 'command': 'train', 'model_url': 'http://localhost:8844/media/uploads/2021/08/27/my_model_c4d4c4fd-3c63-4ab5-9ffe-7c113eff07ae.py', 'params_url': 'http://localhost:8844/media/uploads/2021/08/27/researcher_params_50f0b0fd-f4d4-4bd3-a6c7-7000f87ec34f.pt', 'model_class': 'SkLearnTrainingPlan', 'training_data': {'client_e01bd65c-755d-4bf3-9034-2d70ef70dbd6': ['dataset_85feab12-29fd-413e-9bb8-4f67c34b9a70']}}\n",
      "researcher_dbd672a5-cbde-46e2-87e5-c736aeb83832\n",
      "[ RESEARCHER ] Send message to client  client_8044438f-3ada-4a0a-8550-b348897d2b0e {'researcher_id': 'researcher_dbd672a5-cbde-46e2-87e5-c736aeb83832', 'job_id': '03892875-7fda-495e-a579-fc1a2b296af1', 'training_args': {'batch_size': None, 'lr': 0.001, 'epochs': 5, 'dry_run': False, 'batch_maxnum': 0}, 'model_args': {'model': 'SGDClassifier', 'max_iter': 1000, 'tol': 0.001, 'n_features': 20, 'n_classes': 2}, 'command': 'train', 'model_url': 'http://localhost:8844/media/uploads/2021/08/27/my_model_c4d4c4fd-3c63-4ab5-9ffe-7c113eff07ae.py', 'params_url': 'http://localhost:8844/media/uploads/2021/08/27/researcher_params_50f0b0fd-f4d4-4bd3-a6c7-7000f87ec34f.pt', 'model_class': 'SkLearnTrainingPlan', 'training_data': {'client_8044438f-3ada-4a0a-8550-b348897d2b0e': ['dataset_6239cb1b-a5e4-4bb2-9227-64b2f81aa1d6']}}\n",
      "researcher_dbd672a5-cbde-46e2-87e5-c736aeb83832\n",
      "2021-08-27 14:20:40.650431 [ RESEARCHER ] message received. {'researcher_id': 'researcher_dbd672a5-cbde-46e2-87e5-c736aeb83832', 'job_id': '03892875-7fda-495e-a579-fc1a2b296af1', 'success': True, 'client_id': 'client_e01bd65c-755d-4bf3-9034-2d70ef70dbd6', 'dataset_id': 'dataset_85feab12-29fd-413e-9bb8-4f67c34b9a70', 'params_url': 'http://localhost:8844/media/uploads/2021/08/27/node_params_a871c2bb-f133-4717-9052-ff4a52f16f34.pt', 'timing': {'rtime_training': 0.006811615000003712, 'ptime_training': 0.006785000000000263}, 'msg': '', 'command': 'train'}\n",
      "2021-08-27 14:20:40.673753 [ RESEARCHER ] message received. {'researcher_id': 'researcher_dbd672a5-cbde-46e2-87e5-c736aeb83832', 'job_id': '03892875-7fda-495e-a579-fc1a2b296af1', 'success': True, 'client_id': 'client_8044438f-3ada-4a0a-8550-b348897d2b0e', 'dataset_id': 'dataset_6239cb1b-a5e4-4bb2-9227-64b2f81aa1d6', 'params_url': 'http://localhost:8844/media/uploads/2021/08/27/node_params_7293788c-c033-46fc-abc4-1c5574757761.pt', 'timing': {'rtime_training': 0.006108119000003853, 'ptime_training': 0.0060829999999998385}, 'msg': '', 'command': 'train'}\n"
     ]
    },
    {
     "name": "stdout",
     "output_type": "stream",
     "text": [
      "Downloading model params after training on  client_e01bd65c-755d-4bf3-9034-2d70ef70dbd6 \n",
      "\t- from http://localhost:8844/media/uploads/2021/08/27/node_params_a871c2bb-f133-4717-9052-ff4a52f16f34.pt\n",
      "Downloading model params after training on  client_8044438f-3ada-4a0a-8550-b348897d2b0e \n",
      "\t- from http://localhost:8844/media/uploads/2021/08/27/node_params_7293788c-c033-46fc-abc4-1c5574757761.pt\n",
      "Clients that successfully reply in round  6   ['client_e01bd65c-755d-4bf3-9034-2d70ef70dbd6', 'client_8044438f-3ada-4a0a-8550-b348897d2b0e']\n",
      "before for  [{'intercept_': array([0.91734461]), 'coef_': array([[ -3.69728137,  -0.82856839, -17.40886925,   5.58155825,\n",
      "          3.52852048,  12.1046895 , -14.65674667,  -8.53213522,\n",
      "         18.68118084, -17.38473811,  -7.46815094,  15.35162126,\n",
      "         -1.77586086,  -1.87538997,  36.49510918,   6.06516642,\n",
      "          4.27724584,   0.63724254,  -0.29134972,   7.26916885]])}, {'intercept_': array([13.87548199]), 'coef_': array([[-1.4444612 ,  6.25457212, -7.87518239, -7.50130761, -0.92480294,\n",
      "         9.53226636, -1.54614892, 10.66576553, 24.24244906, -8.28577723,\n",
      "        -1.29255562, 15.61700171, 14.81258121, -3.33882728, 41.24169327,\n",
      "         2.40655717, -0.53607044, -1.03371553,  4.41924438,  3.17476279]])}]\n",
      "after for {'intercept_': array([6.09014945]), 'coef_': array([[-2.79797010e+00,  1.99897561e+00, -1.36030830e+01,\n",
      "         3.58962603e-01,  1.75078250e+00,  1.10777948e+01,\n",
      "        -9.42308063e+00, -8.68457099e-01,  2.09012032e+01,\n",
      "        -1.37524916e+01, -5.00289313e+00,  1.54575594e+01,\n",
      "         4.84613819e+00, -2.45958470e+00,  3.83899149e+01,\n",
      "         4.60467321e+00,  2.35580103e+00, -2.97931455e-02,\n",
      "         1.58908905e+00,  5.63470837e+00]])}\n",
      "Sampled clients in round  7   ['client_e01bd65c-755d-4bf3-9034-2d70ef70dbd6', 'client_8044438f-3ada-4a0a-8550-b348897d2b0e']\n",
      "[ RESEARCHER ] Send message to client  client_e01bd65c-755d-4bf3-9034-2d70ef70dbd6 {'researcher_id': 'researcher_dbd672a5-cbde-46e2-87e5-c736aeb83832', 'job_id': '03892875-7fda-495e-a579-fc1a2b296af1', 'training_args': {'batch_size': None, 'lr': 0.001, 'epochs': 5, 'dry_run': False, 'batch_maxnum': 0}, 'model_args': {'model': 'SGDClassifier', 'max_iter': 1000, 'tol': 0.001, 'n_features': 20, 'n_classes': 2}, 'command': 'train', 'model_url': 'http://localhost:8844/media/uploads/2021/08/27/my_model_c4d4c4fd-3c63-4ab5-9ffe-7c113eff07ae.py', 'params_url': 'http://localhost:8844/media/uploads/2021/08/27/researcher_params_b3e5357d-60cd-479a-ad80-24848933218d.pt', 'model_class': 'SkLearnTrainingPlan', 'training_data': {'client_e01bd65c-755d-4bf3-9034-2d70ef70dbd6': ['dataset_85feab12-29fd-413e-9bb8-4f67c34b9a70']}}\n",
      "researcher_dbd672a5-cbde-46e2-87e5-c736aeb83832\n",
      "[ RESEARCHER ] Send message to client  client_8044438f-3ada-4a0a-8550-b348897d2b0e {'researcher_id': 'researcher_dbd672a5-cbde-46e2-87e5-c736aeb83832', 'job_id': '03892875-7fda-495e-a579-fc1a2b296af1', 'training_args': {'batch_size': None, 'lr': 0.001, 'epochs': 5, 'dry_run': False, 'batch_maxnum': 0}, 'model_args': {'model': 'SGDClassifier', 'max_iter': 1000, 'tol': 0.001, 'n_features': 20, 'n_classes': 2}, 'command': 'train', 'model_url': 'http://localhost:8844/media/uploads/2021/08/27/my_model_c4d4c4fd-3c63-4ab5-9ffe-7c113eff07ae.py', 'params_url': 'http://localhost:8844/media/uploads/2021/08/27/researcher_params_b3e5357d-60cd-479a-ad80-24848933218d.pt', 'model_class': 'SkLearnTrainingPlan', 'training_data': {'client_8044438f-3ada-4a0a-8550-b348897d2b0e': ['dataset_6239cb1b-a5e4-4bb2-9227-64b2f81aa1d6']}}\n",
      "researcher_dbd672a5-cbde-46e2-87e5-c736aeb83832\n",
      "2021-08-27 14:20:50.730761 [ RESEARCHER ] message received. {'researcher_id': 'researcher_dbd672a5-cbde-46e2-87e5-c736aeb83832', 'job_id': '03892875-7fda-495e-a579-fc1a2b296af1', 'success': True, 'client_id': 'client_8044438f-3ada-4a0a-8550-b348897d2b0e', 'dataset_id': 'dataset_6239cb1b-a5e4-4bb2-9227-64b2f81aa1d6', 'params_url': 'http://localhost:8844/media/uploads/2021/08/27/node_params_0ca5da36-6115-48f9-b934-1a26bbf9895e.pt', 'timing': {'rtime_training': 0.006001961999999139, 'ptime_training': 0.005983000000000072}, 'msg': '', 'command': 'train'}\n",
      "2021-08-27 14:20:50.757753 [ RESEARCHER ] message received. {'researcher_id': 'researcher_dbd672a5-cbde-46e2-87e5-c736aeb83832', 'job_id': '03892875-7fda-495e-a579-fc1a2b296af1', 'success': True, 'client_id': 'client_e01bd65c-755d-4bf3-9034-2d70ef70dbd6', 'dataset_id': 'dataset_85feab12-29fd-413e-9bb8-4f67c34b9a70', 'params_url': 'http://localhost:8844/media/uploads/2021/08/27/node_params_4a864870-7dec-4906-b050-1fd3d2812e38.pt', 'timing': {'rtime_training': 0.006268472999977348, 'ptime_training': 0.006237000000000048}, 'msg': '', 'command': 'train'}\n",
      "Downloading model params after training on  client_8044438f-3ada-4a0a-8550-b348897d2b0e \n",
      "\t- from http://localhost:8844/media/uploads/2021/08/27/node_params_0ca5da36-6115-48f9-b934-1a26bbf9895e.pt\n",
      "Downloading model params after training on  client_e01bd65c-755d-4bf3-9034-2d70ef70dbd6 \n",
      "\t- from http://localhost:8844/media/uploads/2021/08/27/node_params_4a864870-7dec-4906-b050-1fd3d2812e38.pt\n",
      "Clients that successfully reply in round  7   ['client_8044438f-3ada-4a0a-8550-b348897d2b0e', 'client_e01bd65c-755d-4bf3-9034-2d70ef70dbd6']\n",
      "before for  [{'intercept_': array([9.05201171]), 'coef_': array([[ -1.0501842 ,   5.09352053,  -9.75469108, -13.92250686,\n",
      "          2.7533538 ,   8.52896358,   1.78645623,  11.50588347,\n",
      "         22.41883996,  -2.57656872,  -0.49410499,  14.07559581,\n",
      "         10.83035044,  -5.52195162,  37.61827902,   7.13128968,\n",
      "         -1.97623394,  -1.10354863,   0.58644799,   1.07833669]])}, {'intercept_': array([-4.10358826]), 'coef_': array([[ -1.93581552,  -1.84542916,  -9.01069687,  11.62691977,\n",
      "          5.4166637 ,   1.2532025 , -13.16148046,  -5.97157329,\n",
      "         20.14455249,  -3.9148888 ,  -6.07865492,  13.92129021,\n",
      "         -0.94006564,  -2.0812161 ,  35.61209867,   6.25422639,\n",
      "          2.22735546,   1.14092497,  -4.95786166,   3.71558066]])}]\n",
      "after for {'intercept_': array([3.80038108]), 'coef_': array([[-1.40372251,  2.32353658, -9.45769339, -3.72334058,  3.81652993,\n",
      "         5.6245267 , -4.18066366,  4.52899549, 21.51095907, -3.11081746,\n",
      "        -2.72342129, 14.01399801,  6.13167628, -4.1484322 , 36.81742477,\n",
      "         6.78117167, -0.29818817, -0.20756925, -1.62680465,  2.13110747]])}\n"
     ]
    }
   ],
   "source": [
    "exp.run()"
   ]
  },
  {
   "cell_type": "markdown",
   "id": "88e2a782",
   "metadata": {},
   "source": [
    "## Lets build now a dataset test, **A** is the linear transformation that has been used to build the csv file datasets."
   ]
  },
  {
   "cell_type": "code",
   "execution_count": null,
   "id": "33020ea9",
   "metadata": {},
   "outputs": [],
   "source": [
    "import pandas as pd"
   ]
  },
  {
   "cell_type": "code",
   "execution_count": null,
   "id": "b305612c",
   "metadata": {},
   "outputs": [],
   "source": [
    "data = pd.read_csv('/Users/mlorenzi/Downloads/c3.csv')\n",
    "\n",
    "# this dataset corresponds to the last 50 samples of the data created with this instance:\n",
    "# X,y = make_classification(n_samples=300, n_features=20,n_clusters_per_class=2, weights=None, flip_y=0.01, class_sep=1.0, \n",
    "#                           hypercube=True, shift=0.0, scale=1.0,shuffle=True, random_state=123)\n",
    "#\n",
    "# The first 250 samples are used to create the training clients (datasets c1 and c2)\n",
    "#"
   ]
  },
  {
   "cell_type": "code",
   "execution_count": null,
   "id": "91f579d5",
   "metadata": {},
   "outputs": [],
   "source": [
    "from sklearn.linear_model import SGDClassifier\n",
    "\n",
    "X_test = data.iloc[:,:n_features]\n",
    "y_test = data.iloc[:,n_features]"
   ]
  },
  {
   "cell_type": "markdown",
   "id": "63e6d380",
   "metadata": {},
   "source": [
    "The MSE should be decreasing at each iteration with the federated parameters."
   ]
  },
  {
   "cell_type": "code",
   "execution_count": null,
   "id": "6edb32ed",
   "metadata": {},
   "outputs": [],
   "source": [
    "if input_sklearn_model in ['SGDClassifier', 'Perceptron']:\n",
    "    from sklearn.metrics import f1_score\n",
    "    loss_metric = f1_score\n",
    "if input_sklearn_model=='SGDRegressor':\n",
    "    from sklearn.metrics import mean_squared_error\n",
    "    loss_metric = mean_squared_error\n",
    "    \n",
    "testing_error = []\n",
    "\n",
    "for i in range(rounds):\n",
    "    fed_model = exp.model_instance.get_model()\n",
    "    fed_model.coef_ = exp.aggregated_params[i]['params']['coef_']\n",
    "    fed_model.intercept_ = exp.aggregated_params[i]['params']['intercept_']\n",
    "    metric = loss_metric(fed_model.predict(X_test),y_test.ravel())\n",
    "    print('Accuracy metric: ', metric, )\n",
    "    testing_error.append(metric)"
   ]
  },
  {
   "cell_type": "code",
   "execution_count": null,
   "id": "41dcf2a6",
   "metadata": {},
   "outputs": [],
   "source": [
    "from sklearn.linear_model import SGDRegressor, SGDClassifier, Perceptron\n",
    "from sklearn.naive_bayes import BernoulliNB\n",
    "\n",
    "xx=SGDClassifier()\n",
    "\n",
    "theta_ = np.array([0.1] * (n_features*n_classes)).reshape(n_classes,n_features)\n",
    "feature_count_ = np.array([0] * (n_features*n_classes)).reshape(n_classes,n_features)\n",
    "class_count_ = np.array([0] * (n_classes))\n",
    "\n",
    "xx.theta_ = theta_\n",
    "xx.feature_count_ = feature_count_\n",
    "xx.class_count_ = class_count_\n",
    "\n",
    "xx.partial_fit(X_test,y_test, classes = np.unique(y_test))\n"
   ]
  },
  {
   "cell_type": "code",
   "execution_count": null,
   "id": "699fe173",
   "metadata": {},
   "outputs": [],
   "source": [
    "from sklearn.metrics import f1_score\n",
    "from sklearn.metrics import mean_squared_error\n",
    "\n",
    "print(f1_score(xx.predict(X_test),y_test.ravel()))\n",
    "print(mean_squared_error(xx.predict(X_test),y_test.ravel()))"
   ]
  },
  {
   "cell_type": "code",
   "execution_count": null,
   "id": "049dc48c",
   "metadata": {},
   "outputs": [],
   "source": []
  }
 ],
 "metadata": {
  "kernelspec": {
   "display_name": "Python 3",
   "language": "python",
   "name": "python3"
  },
  "language_info": {
   "codemirror_mode": {
    "name": "ipython",
    "version": 3
   },
   "file_extension": ".py",
   "mimetype": "text/x-python",
   "name": "python",
   "nbconvert_exporter": "python",
   "pygments_lexer": "ipython3",
   "version": "3.9.5"
  }
 },
 "nbformat": 4,
 "nbformat_minor": 5
}

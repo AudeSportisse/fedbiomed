{
 "cells": [
  {
   "cell_type": "markdown",
   "id": "64e87007",
   "metadata": {},
   "source": [
    "# Fedbiomed Researcher to train a federated scikit learn model."
   ]
  },
  {
   "cell_type": "markdown",
   "id": "92e17d2f",
   "metadata": {},
   "source": [
    "## Purpose of the exercise :"
   ]
  },
  {
   "cell_type": "markdown",
   "id": "fb782b14",
   "metadata": {},
   "source": [
    "Three datasets n1.csv , n2.csv and n3.csv has been generated randomly using a linear transformation A = [ 5 8 9 5 0 ].\n",
    "We will fit a Stochastic Gradient Regressor to approximate this transformation using Federated Learning."
   ]
  },
  {
   "cell_type": "markdown",
   "id": "f4cf562e",
   "metadata": {},
   "source": [
    "## Extending this notebook to any incremental learning scikit model:\n",
    "\n",
    "The same federated learning scheme below applies to any sklearn model supporting the method partial_fit():"
   ]
  },
  {
   "cell_type": "markdown",
   "id": "ed98bbac",
   "metadata": {},
   "source": [
    "A family of models could be naturally imported in Fed-BioMed, following the same approach. For example: \n",
    "- Naive Bayes.  \n",
    "- Logistic regression,\n",
    "- SVM/SVC (linear and non-linear), \n",
    "- perceptron, \n",
    "- KMeans, \n",
    "- incremental PCA, \n",
    "- mini batch dictionary learning, \n",
    "- latent Dirichlet annotation, "
   ]
  },
  {
   "cell_type": "markdown",
   "id": "d39f160e",
   "metadata": {},
   "source": [
    "## Start the network and setting the client up\n",
    "Before running this notebook:\n",
    "1. You should start the network from fedbiomed-network, as detailed in :\n",
    "https://gitlab.inria.fr/fedbiomed/fedbiomed\n",
    "2. Download n1.csv, n2.csv and n3.csv to some place in your computer from https://gitlab.inria.fr/fedbiomed/fedbiomed/-/tree/develop/notebooks/data\n",
    "3. You need to configure at least 2 nodes: <br/>\n",
    "* **Node 1 :** `./scripts/fedbiomed_run node add`\n",
    "  * Select option 1 to add a csv file to the client\n",
    "  * Choose the name, tags and description of the dataset (you can write 'sk' always and it will be good)\n",
    "  * Pick the .csv file n1.csv .\n",
    "  * Check that your data has been added in node 1 by executing `./scripts/fedbiomed_run node list`\n",
    "  * Run the node using `./scripts/fedbiomed_run node start`. <br/>\n",
    "\n",
    "* **Node 2 :** Open a second terminal and run ./scripts/fedbiomed_run node add config n2.ini\n",
    "  * Select option 1 to add a csv file to the client\n",
    "  * Choose the name, tags and description of the dataset (you can write 'sk' always and it will be good)\n",
    "  * Pick the .csv file n2.csv .\n",
    "  * Check that your data has been added in node 2 by executing `./scripts/fedbiomed_run node list config n2.ini`\n",
    "  * Run the node using `./scripts/fedbiomed_run node start config n2.ini`.\n",
    "  \n",
    "* **Node 3 :** Open a second terminal and run ./scripts/fedbiomed_run node add config n3.ini\n",
    "  * Select option 1 to add a csv file to the client\n",
    "  * Choose the name, tags and description of the dataset (you can write 'sk' always and it will be good)\n",
    "  * Pick the .csv file n3.csv .\n",
    "  * Check that your data has been added in node 2 by executing `./scripts/fedbiomed_run node list config n3.ini`\n",
    "  * Run the node using `./scripts/fedbiomed_run node start config n3.ini`.\n",
    "\n",
    " Wait until you get `Connected with result code 0`. it means you are online.\n"
   ]
  },
  {
   "cell_type": "code",
   "execution_count": 1,
   "id": "ade4cbea",
   "metadata": {},
   "outputs": [],
   "source": [
    "%load_ext autoreload\n",
    "%autoreload 2"
   ]
  },
  {
   "cell_type": "code",
   "execution_count": 2,
   "id": "b8c80070",
   "metadata": {},
   "outputs": [],
   "source": [
    "import numpy as np\n",
    "from fedbiomed.researcher.environ import TMP_DIR\n",
    "import tempfile\n",
    "tmp_dir_model = tempfile.TemporaryDirectory(dir=TMP_DIR+'/')\n",
    "model_file = tmp_dir_model.name + '/fedbiosklearn.py'"
   ]
  },
  {
   "cell_type": "markdown",
   "id": "8e9aaa87",
   "metadata": {},
   "source": [
    "Hereafter the template of the class you should provide to Fedbiomed :\n",
    "\n",
    "**after_training_params** : a dictionnary containing the model parameters. \n",
    "In SGDRegressor case we will have coef and intercept. For kmeans that will be cluster_center and labels.\n",
    "       \n",
    "**training_step** : the most part of the time, it will be the method partial_fit, \n",
    "of a scikit incremental learning model. You can uncomment the prints in order to check the evolution of training.\n",
    "       \n",
    "**training_data** : you must return here the (X,y) that must be of the same type of \n",
    "your method partial_fit parameters. To simplify we dont use batch_size here, but the code should work if you want to train on a specific batch of the dataset. \n",
    "\n",
    "You can uncomment the prints in order to check the evolution of training."
   ]
  },
  {
   "cell_type": "code",
   "execution_count": 3,
   "id": "f10cc76c",
   "metadata": {},
   "outputs": [
    {
     "name": "stdout",
     "output_type": "stream",
     "text": [
      "Writing /Users/mlorenzi/works/temp/fedbiomed/var/tmp/tmpn664ztp1/fedbiosklearn.py\n"
     ]
    }
   ],
   "source": [
    "%%writefile \"$model_file\"\n",
    "\n",
    "from fedbiomed.common.fedbiosklearn import SGDSkLearnModel\n",
    "from sklearn.linear_model import SGDRegressor\n",
    "import numpy as np\n",
    "\n",
    "class SGDRegressorTrainingPlan(SGDSkLearnModel):\n",
    "    def __init__(self, kwargs):\n",
    "        super(SGDRegressorTrainingPlan,self).__init__(kwargs)\n",
    "        self.add_dependency([\"from sklearn.linear_model import SGDRegressor\"])\n",
    "        self.set_model(SGDRegressor())\n",
    "        self.set_init_params({'coef_': np.zeros(5), 'intercept_' : [0.]})\n",
    "    \n",
    "    def training_data(self,batch_size=None):\n",
    "        NUMBER_COLS = 5\n",
    "        dataset = pd.read_csv(self.dataset_path,header=None,delimiter=',')\n",
    "        if batch_size == None:\n",
    "            X = dataset.iloc[:,0:NUMBER_COLS].values\n",
    "            y = dataset.iloc[:,NUMBER_COLS]\n",
    "        else:\n",
    "            X = dataset.iloc[0:batch_size,0:NUMBER_COLS].values\n",
    "            y = dataset.iloc[0:batch_size,NUMBER_COLS]\n",
    "        #print('X type ', type(X), ' shape ', X.shape)       \n",
    "        #print('Y type ', type(y.values), ' shape ', len(y.values))\n",
    "        return (X,y.values)\n",
    "    "
   ]
  },
  {
   "cell_type": "markdown",
   "id": "69cda129",
   "metadata": {},
   "source": [
    "**model_args** is a dictionnary containing your model arguments, in case of SGDRegressor this will be max_iter and tol.\n",
    "\n",
    "**training_args** is a dictionnary with parameters , related to Federated Learning. "
   ]
  },
  {
   "cell_type": "code",
   "execution_count": 4,
   "id": "05aa5273",
   "metadata": {},
   "outputs": [],
   "source": [
    "model_args = { 'max_iter':1000, 'tol': 1e-3 , 'number_columns': 5 }\n",
    "\n",
    "training_args = {\n",
    "    'batch_size': None, \n",
    "    'lr': 1e-3, \n",
    "    'epochs': 5, \n",
    "    'dry_run': False,  \n",
    "    'batch_maxnum': 0\n",
    "}"
   ]
  },
  {
   "cell_type": "code",
   "execution_count": 5,
   "id": "4b1a1341",
   "metadata": {},
   "outputs": [
    {
     "name": "stdout",
     "output_type": "stream",
     "text": [
      "Messaging researcher_04cf58a2-3dea-43b8-9db4-070592b6781b connected with result code 0\n",
      "Searching for clients with data tags: ['sk'] ...\n",
      "2021-08-25 11:45:51.720110 [ RESEARCHER ] message received. {'researcher_id': 'researcher_04cf58a2-3dea-43b8-9db4-070592b6781b', 'success': True, 'databases': [{'name': 'sk', 'data_type': 'csv', 'tags': ['sk'], 'description': 'sk', 'shape': [19, 5], 'dataset_id': 'dataset_4177d54f-6e37-41b7-a6f1-ac99714ff8e4'}], 'count': 1, 'client_id': 'client_2b339fff-4966-4ed5-9ffe-ae3ab922f87b', 'command': 'search'}\n",
      "2021-08-25 11:45:51.721876 [ RESEARCHER ] message received. {'researcher_id': 'researcher_04cf58a2-3dea-43b8-9db4-070592b6781b', 'success': True, 'databases': [{'name': 'sk', 'data_type': 'csv', 'tags': ['sk'], 'description': 'sk', 'shape': [49, 5], 'dataset_id': 'dataset_7ef9e368-8819-4c39-bb48-37d63a51af50'}], 'count': 1, 'client_id': 'client_f00c3aac-129f-4e97-a55a-c2c41088cb6d', 'command': 'search'}\n",
      "2021-08-25 11:45:51.723664 [ RESEARCHER ] message received. {'researcher_id': 'researcher_04cf58a2-3dea-43b8-9db4-070592b6781b', 'success': True, 'databases': [{'name': 'sk', 'data_type': 'csv', 'tags': ['sk'], 'description': 'sk', 'shape': [9, 5], 'dataset_id': 'dataset_67ad82e4-f3bd-4e12-9fd8-622cba47e968'}], 'count': 1, 'client_id': 'client_a5a17b70-69d5-4a1c-9af1-d67ca4f27768', 'command': 'search'}\n"
     ]
    }
   ],
   "source": [
    "from fedbiomed.researcher.experiment import Experiment\n",
    "from fedbiomed.researcher.aggregators.fedavg import FedAverage\n",
    "\n",
    "tags =  ['sk']\n",
    "rounds = 5\n",
    "\n",
    "exp = Experiment(tags=tags,\n",
    "                 #clients=None,\n",
    "                 model_path=model_file,\n",
    "                 model_args=model_args,\n",
    "                 model_class='SGDRegressorTrainingPlan',\n",
    "                 training_args=training_args,\n",
    "                 rounds=rounds,\n",
    "                 aggregator=FedAverage(),\n",
    "                 client_selection_strategy=None)"
   ]
  },
  {
   "cell_type": "code",
   "execution_count": 6,
   "id": "d6ff55da",
   "metadata": {},
   "outputs": [
    {
     "name": "stdout",
     "output_type": "stream",
     "text": [
      "Sampled clients in round  0   ['client_2b339fff-4966-4ed5-9ffe-ae3ab922f87b', 'client_f00c3aac-129f-4e97-a55a-c2c41088cb6d', 'client_a5a17b70-69d5-4a1c-9af1-d67ca4f27768']\n",
      "[ RESEARCHER ] Send message to client  client_2b339fff-4966-4ed5-9ffe-ae3ab922f87b {'researcher_id': 'researcher_04cf58a2-3dea-43b8-9db4-070592b6781b', 'job_id': 'efc67ca6-b3cc-4d07-9285-2cc0d8921c5f', 'training_args': {'batch_size': None, 'lr': 0.001, 'epochs': 5, 'dry_run': False, 'batch_maxnum': 0}, 'model_args': {'max_iter': 1000, 'tol': 0.001, 'number_columns': 5}, 'command': 'train', 'model_url': 'http://localhost:8844/media/uploads/2021/08/25/my_model_2401ab7f-4f96-401a-91ce-73be2a594b14.py', 'params_url': 'http://localhost:8844/media/uploads/2021/08/25/my_model_1b7e1c5a-4453-42c5-bf81-cffb92435fb2.pt', 'model_class': 'SGDRegressorTrainingPlan', 'training_data': {'client_2b339fff-4966-4ed5-9ffe-ae3ab922f87b': ['dataset_4177d54f-6e37-41b7-a6f1-ac99714ff8e4']}}\n",
      "researcher_04cf58a2-3dea-43b8-9db4-070592b6781b\n",
      "[ RESEARCHER ] Send message to client  client_f00c3aac-129f-4e97-a55a-c2c41088cb6d {'researcher_id': 'researcher_04cf58a2-3dea-43b8-9db4-070592b6781b', 'job_id': 'efc67ca6-b3cc-4d07-9285-2cc0d8921c5f', 'training_args': {'batch_size': None, 'lr': 0.001, 'epochs': 5, 'dry_run': False, 'batch_maxnum': 0}, 'model_args': {'max_iter': 1000, 'tol': 0.001, 'number_columns': 5}, 'command': 'train', 'model_url': 'http://localhost:8844/media/uploads/2021/08/25/my_model_2401ab7f-4f96-401a-91ce-73be2a594b14.py', 'params_url': 'http://localhost:8844/media/uploads/2021/08/25/my_model_1b7e1c5a-4453-42c5-bf81-cffb92435fb2.pt', 'model_class': 'SGDRegressorTrainingPlan', 'training_data': {'client_f00c3aac-129f-4e97-a55a-c2c41088cb6d': ['dataset_7ef9e368-8819-4c39-bb48-37d63a51af50']}}\n",
      "researcher_04cf58a2-3dea-43b8-9db4-070592b6781b\n",
      "[ RESEARCHER ] Send message to client  client_a5a17b70-69d5-4a1c-9af1-d67ca4f27768 {'researcher_id': 'researcher_04cf58a2-3dea-43b8-9db4-070592b6781b', 'job_id': 'efc67ca6-b3cc-4d07-9285-2cc0d8921c5f', 'training_args': {'batch_size': None, 'lr': 0.001, 'epochs': 5, 'dry_run': False, 'batch_maxnum': 0}, 'model_args': {'max_iter': 1000, 'tol': 0.001, 'number_columns': 5}, 'command': 'train', 'model_url': 'http://localhost:8844/media/uploads/2021/08/25/my_model_2401ab7f-4f96-401a-91ce-73be2a594b14.py', 'params_url': 'http://localhost:8844/media/uploads/2021/08/25/my_model_1b7e1c5a-4453-42c5-bf81-cffb92435fb2.pt', 'model_class': 'SGDRegressorTrainingPlan', 'training_data': {'client_a5a17b70-69d5-4a1c-9af1-d67ca4f27768': ['dataset_67ad82e4-f3bd-4e12-9fd8-622cba47e968']}}\n",
      "researcher_04cf58a2-3dea-43b8-9db4-070592b6781b\n",
      "2021-08-25 11:46:03.348747 [ RESEARCHER ] message received. {'researcher_id': 'researcher_04cf58a2-3dea-43b8-9db4-070592b6781b', 'job_id': 'efc67ca6-b3cc-4d07-9285-2cc0d8921c5f', 'success': True, 'client_id': 'client_2b339fff-4966-4ed5-9ffe-ae3ab922f87b', 'dataset_id': 'dataset_4177d54f-6e37-41b7-a6f1-ac99714ff8e4', 'params_url': 'http://localhost:8844/media/uploads/2021/08/25/node_params_afcd4ea1-124d-4215-86c6-d1fa65d7fe2d.pt', 'timing': {'rtime_training': 0.0040018870000011475, 'ptime_training': 0.003851000000000049}, 'msg': '', 'command': 'train'}\n",
      "2021-08-25 11:46:03.467278 [ RESEARCHER ] message received. {'researcher_id': 'researcher_04cf58a2-3dea-43b8-9db4-070592b6781b', 'job_id': 'efc67ca6-b3cc-4d07-9285-2cc0d8921c5f', 'success': True, 'client_id': 'client_f00c3aac-129f-4e97-a55a-c2c41088cb6d', 'dataset_id': 'dataset_7ef9e368-8819-4c39-bb48-37d63a51af50', 'params_url': 'http://localhost:8844/media/uploads/2021/08/25/node_params_06868762-1142-4170-af0b-57ad54117411.pt', 'timing': {'rtime_training': 0.004475745999997116, 'ptime_training': 0.004318000000000044}, 'msg': '', 'command': 'train'}\n",
      "2021-08-25 11:46:03.609158 [ RESEARCHER ] message received. {'researcher_id': 'researcher_04cf58a2-3dea-43b8-9db4-070592b6781b', 'job_id': 'efc67ca6-b3cc-4d07-9285-2cc0d8921c5f', 'success': True, 'client_id': 'client_a5a17b70-69d5-4a1c-9af1-d67ca4f27768', 'dataset_id': 'dataset_67ad82e4-f3bd-4e12-9fd8-622cba47e968', 'params_url': 'http://localhost:8844/media/uploads/2021/08/25/node_params_d5eb1489-ee9a-4d41-8cd6-2b578454ac1b.pt', 'timing': {'rtime_training': 0.004572132999999923, 'ptime_training': 0.004504999999999981}, 'msg': '', 'command': 'train'}\n",
      "Downloading model params after training on  client_2b339fff-4966-4ed5-9ffe-ae3ab922f87b \n",
      "\t- from http://localhost:8844/media/uploads/2021/08/25/node_params_afcd4ea1-124d-4215-86c6-d1fa65d7fe2d.pt\n",
      "Downloading model params after training on  client_f00c3aac-129f-4e97-a55a-c2c41088cb6d \n",
      "\t- from http://localhost:8844/media/uploads/2021/08/25/node_params_06868762-1142-4170-af0b-57ad54117411.pt\n",
      "Downloading model params after training on  client_a5a17b70-69d5-4a1c-9af1-d67ca4f27768 \n",
      "\t- from http://localhost:8844/media/uploads/2021/08/25/node_params_d5eb1489-ee9a-4d41-8cd6-2b578454ac1b.pt\n",
      "Clients that successfully reply in round  0   ['client_2b339fff-4966-4ed5-9ffe-ae3ab922f87b', 'client_f00c3aac-129f-4e97-a55a-c2c41088cb6d', 'client_a5a17b70-69d5-4a1c-9af1-d67ca4f27768']\n",
      "Sampled clients in round  1   ['client_2b339fff-4966-4ed5-9ffe-ae3ab922f87b', 'client_f00c3aac-129f-4e97-a55a-c2c41088cb6d', 'client_a5a17b70-69d5-4a1c-9af1-d67ca4f27768']\n",
      "[ RESEARCHER ] Send message to client  client_2b339fff-4966-4ed5-9ffe-ae3ab922f87b {'researcher_id': 'researcher_04cf58a2-3dea-43b8-9db4-070592b6781b', 'job_id': 'efc67ca6-b3cc-4d07-9285-2cc0d8921c5f', 'training_args': {'batch_size': None, 'lr': 0.001, 'epochs': 5, 'dry_run': False, 'batch_maxnum': 0}, 'model_args': {'max_iter': 1000, 'tol': 0.001, 'number_columns': 5}, 'command': 'train', 'model_url': 'http://localhost:8844/media/uploads/2021/08/25/my_model_2401ab7f-4f96-401a-91ce-73be2a594b14.py', 'params_url': 'http://localhost:8844/media/uploads/2021/08/25/researcher_params_660cfebc-7277-4610-99da-8ea84c6a9a5d.pt', 'model_class': 'SGDRegressorTrainingPlan', 'training_data': {'client_2b339fff-4966-4ed5-9ffe-ae3ab922f87b': ['dataset_4177d54f-6e37-41b7-a6f1-ac99714ff8e4']}}\n",
      "researcher_04cf58a2-3dea-43b8-9db4-070592b6781b\n",
      "[ RESEARCHER ] Send message to client  client_f00c3aac-129f-4e97-a55a-c2c41088cb6d {'researcher_id': 'researcher_04cf58a2-3dea-43b8-9db4-070592b6781b', 'job_id': 'efc67ca6-b3cc-4d07-9285-2cc0d8921c5f', 'training_args': {'batch_size': None, 'lr': 0.001, 'epochs': 5, 'dry_run': False, 'batch_maxnum': 0}, 'model_args': {'max_iter': 1000, 'tol': 0.001, 'number_columns': 5}, 'command': 'train', 'model_url': 'http://localhost:8844/media/uploads/2021/08/25/my_model_2401ab7f-4f96-401a-91ce-73be2a594b14.py', 'params_url': 'http://localhost:8844/media/uploads/2021/08/25/researcher_params_660cfebc-7277-4610-99da-8ea84c6a9a5d.pt', 'model_class': 'SGDRegressorTrainingPlan', 'training_data': {'client_f00c3aac-129f-4e97-a55a-c2c41088cb6d': ['dataset_7ef9e368-8819-4c39-bb48-37d63a51af50']}}\n",
      "researcher_04cf58a2-3dea-43b8-9db4-070592b6781b\n",
      "[ RESEARCHER ] Send message to client  client_a5a17b70-69d5-4a1c-9af1-d67ca4f27768 {'researcher_id': 'researcher_04cf58a2-3dea-43b8-9db4-070592b6781b', 'job_id': 'efc67ca6-b3cc-4d07-9285-2cc0d8921c5f', 'training_args': {'batch_size': None, 'lr': 0.001, 'epochs': 5, 'dry_run': False, 'batch_maxnum': 0}, 'model_args': {'max_iter': 1000, 'tol': 0.001, 'number_columns': 5}, 'command': 'train', 'model_url': 'http://localhost:8844/media/uploads/2021/08/25/my_model_2401ab7f-4f96-401a-91ce-73be2a594b14.py', 'params_url': 'http://localhost:8844/media/uploads/2021/08/25/researcher_params_660cfebc-7277-4610-99da-8ea84c6a9a5d.pt', 'model_class': 'SGDRegressorTrainingPlan', 'training_data': {'client_a5a17b70-69d5-4a1c-9af1-d67ca4f27768': ['dataset_67ad82e4-f3bd-4e12-9fd8-622cba47e968']}}\n",
      "researcher_04cf58a2-3dea-43b8-9db4-070592b6781b\n",
      "2021-08-25 11:46:12.861602 [ RESEARCHER ] message received. {'researcher_id': 'researcher_04cf58a2-3dea-43b8-9db4-070592b6781b', 'job_id': 'efc67ca6-b3cc-4d07-9285-2cc0d8921c5f', 'success': True, 'client_id': 'client_2b339fff-4966-4ed5-9ffe-ae3ab922f87b', 'dataset_id': 'dataset_4177d54f-6e37-41b7-a6f1-ac99714ff8e4', 'params_url': 'http://localhost:8844/media/uploads/2021/08/25/node_params_4a952c23-e54f-4b6a-860f-870e2e690360.pt', 'timing': {'rtime_training': 0.0051191569999957665, 'ptime_training': 0.005047000000000024}, 'msg': '', 'command': 'train'}\n"
     ]
    },
    {
     "name": "stdout",
     "output_type": "stream",
     "text": [
      "2021-08-25 11:46:12.889441 [ RESEARCHER ] message received. {'researcher_id': 'researcher_04cf58a2-3dea-43b8-9db4-070592b6781b', 'job_id': 'efc67ca6-b3cc-4d07-9285-2cc0d8921c5f', 'success': True, 'client_id': 'client_f00c3aac-129f-4e97-a55a-c2c41088cb6d', 'dataset_id': 'dataset_7ef9e368-8819-4c39-bb48-37d63a51af50', 'params_url': 'http://localhost:8844/media/uploads/2021/08/25/node_params_cd03e05b-cc85-42a5-ba77-d2dd21a23d6e.pt', 'timing': {'rtime_training': 0.0061381529999948725, 'ptime_training': 0.006008000000000013}, 'msg': '', 'command': 'train'}\n",
      "2021-08-25 11:46:12.929191 [ RESEARCHER ] message received. {'researcher_id': 'researcher_04cf58a2-3dea-43b8-9db4-070592b6781b', 'job_id': 'efc67ca6-b3cc-4d07-9285-2cc0d8921c5f', 'success': True, 'client_id': 'client_a5a17b70-69d5-4a1c-9af1-d67ca4f27768', 'dataset_id': 'dataset_67ad82e4-f3bd-4e12-9fd8-622cba47e968', 'params_url': 'http://localhost:8844/media/uploads/2021/08/25/node_params_120eb912-05a0-40e0-99e0-998b6815abaf.pt', 'timing': {'rtime_training': 0.004955341000005831, 'ptime_training': 0.004906000000000077}, 'msg': '', 'command': 'train'}\n",
      "Downloading model params after training on  client_2b339fff-4966-4ed5-9ffe-ae3ab922f87b \n",
      "\t- from http://localhost:8844/media/uploads/2021/08/25/node_params_4a952c23-e54f-4b6a-860f-870e2e690360.pt\n",
      "Downloading model params after training on  client_f00c3aac-129f-4e97-a55a-c2c41088cb6d \n",
      "\t- from http://localhost:8844/media/uploads/2021/08/25/node_params_cd03e05b-cc85-42a5-ba77-d2dd21a23d6e.pt\n",
      "Downloading model params after training on  client_a5a17b70-69d5-4a1c-9af1-d67ca4f27768 \n",
      "\t- from http://localhost:8844/media/uploads/2021/08/25/node_params_120eb912-05a0-40e0-99e0-998b6815abaf.pt\n",
      "Clients that successfully reply in round  1   ['client_2b339fff-4966-4ed5-9ffe-ae3ab922f87b', 'client_f00c3aac-129f-4e97-a55a-c2c41088cb6d', 'client_a5a17b70-69d5-4a1c-9af1-d67ca4f27768']\n",
      "Sampled clients in round  2   ['client_2b339fff-4966-4ed5-9ffe-ae3ab922f87b', 'client_f00c3aac-129f-4e97-a55a-c2c41088cb6d', 'client_a5a17b70-69d5-4a1c-9af1-d67ca4f27768']\n",
      "[ RESEARCHER ] Send message to client  client_2b339fff-4966-4ed5-9ffe-ae3ab922f87b {'researcher_id': 'researcher_04cf58a2-3dea-43b8-9db4-070592b6781b', 'job_id': 'efc67ca6-b3cc-4d07-9285-2cc0d8921c5f', 'training_args': {'batch_size': None, 'lr': 0.001, 'epochs': 5, 'dry_run': False, 'batch_maxnum': 0}, 'model_args': {'max_iter': 1000, 'tol': 0.001, 'number_columns': 5}, 'command': 'train', 'model_url': 'http://localhost:8844/media/uploads/2021/08/25/my_model_2401ab7f-4f96-401a-91ce-73be2a594b14.py', 'params_url': 'http://localhost:8844/media/uploads/2021/08/25/researcher_params_17917eff-0a1e-42c1-b83a-3ad3a9467f1c.pt', 'model_class': 'SGDRegressorTrainingPlan', 'training_data': {'client_2b339fff-4966-4ed5-9ffe-ae3ab922f87b': ['dataset_4177d54f-6e37-41b7-a6f1-ac99714ff8e4']}}\n",
      "researcher_04cf58a2-3dea-43b8-9db4-070592b6781b\n",
      "[ RESEARCHER ] Send message to client  client_f00c3aac-129f-4e97-a55a-c2c41088cb6d {'researcher_id': 'researcher_04cf58a2-3dea-43b8-9db4-070592b6781b', 'job_id': 'efc67ca6-b3cc-4d07-9285-2cc0d8921c5f', 'training_args': {'batch_size': None, 'lr': 0.001, 'epochs': 5, 'dry_run': False, 'batch_maxnum': 0}, 'model_args': {'max_iter': 1000, 'tol': 0.001, 'number_columns': 5}, 'command': 'train', 'model_url': 'http://localhost:8844/media/uploads/2021/08/25/my_model_2401ab7f-4f96-401a-91ce-73be2a594b14.py', 'params_url': 'http://localhost:8844/media/uploads/2021/08/25/researcher_params_17917eff-0a1e-42c1-b83a-3ad3a9467f1c.pt', 'model_class': 'SGDRegressorTrainingPlan', 'training_data': {'client_f00c3aac-129f-4e97-a55a-c2c41088cb6d': ['dataset_7ef9e368-8819-4c39-bb48-37d63a51af50']}}\n",
      "researcher_04cf58a2-3dea-43b8-9db4-070592b6781b\n",
      "[ RESEARCHER ] Send message to client  client_a5a17b70-69d5-4a1c-9af1-d67ca4f27768 {'researcher_id': 'researcher_04cf58a2-3dea-43b8-9db4-070592b6781b', 'job_id': 'efc67ca6-b3cc-4d07-9285-2cc0d8921c5f', 'training_args': {'batch_size': None, 'lr': 0.001, 'epochs': 5, 'dry_run': False, 'batch_maxnum': 0}, 'model_args': {'max_iter': 1000, 'tol': 0.001, 'number_columns': 5}, 'command': 'train', 'model_url': 'http://localhost:8844/media/uploads/2021/08/25/my_model_2401ab7f-4f96-401a-91ce-73be2a594b14.py', 'params_url': 'http://localhost:8844/media/uploads/2021/08/25/researcher_params_17917eff-0a1e-42c1-b83a-3ad3a9467f1c.pt', 'model_class': 'SGDRegressorTrainingPlan', 'training_data': {'client_a5a17b70-69d5-4a1c-9af1-d67ca4f27768': ['dataset_67ad82e4-f3bd-4e12-9fd8-622cba47e968']}}\n",
      "researcher_04cf58a2-3dea-43b8-9db4-070592b6781b\n",
      "2021-08-25 11:46:22.972022 [ RESEARCHER ] message received. {'researcher_id': 'researcher_04cf58a2-3dea-43b8-9db4-070592b6781b', 'job_id': 'efc67ca6-b3cc-4d07-9285-2cc0d8921c5f', 'success': True, 'client_id': 'client_f00c3aac-129f-4e97-a55a-c2c41088cb6d', 'dataset_id': 'dataset_7ef9e368-8819-4c39-bb48-37d63a51af50', 'params_url': 'http://localhost:8844/media/uploads/2021/08/25/node_params_4f6ac505-e58b-4279-8501-d503397e5013.pt', 'timing': {'rtime_training': 0.005764080999995258, 'ptime_training': 0.005571000000000215}, 'msg': '', 'command': 'train'}\n",
      "2021-08-25 11:46:23.003050 [ RESEARCHER ] message received. {'researcher_id': 'researcher_04cf58a2-3dea-43b8-9db4-070592b6781b', 'job_id': 'efc67ca6-b3cc-4d07-9285-2cc0d8921c5f', 'success': True, 'client_id': 'client_2b339fff-4966-4ed5-9ffe-ae3ab922f87b', 'dataset_id': 'dataset_4177d54f-6e37-41b7-a6f1-ac99714ff8e4', 'params_url': 'http://localhost:8844/media/uploads/2021/08/25/node_params_0a3378e0-5cc8-4bec-9183-2443d087c7c5.pt', 'timing': {'rtime_training': 0.005521916999995824, 'ptime_training': 0.005233000000000043}, 'msg': '', 'command': 'train'}\n",
      "2021-08-25 11:46:23.034290 [ RESEARCHER ] message received. {'researcher_id': 'researcher_04cf58a2-3dea-43b8-9db4-070592b6781b', 'job_id': 'efc67ca6-b3cc-4d07-9285-2cc0d8921c5f', 'success': True, 'client_id': 'client_a5a17b70-69d5-4a1c-9af1-d67ca4f27768', 'dataset_id': 'dataset_67ad82e4-f3bd-4e12-9fd8-622cba47e968', 'params_url': 'http://localhost:8844/media/uploads/2021/08/25/node_params_6497499c-d058-4bd8-a2ee-74c27eb00ae4.pt', 'timing': {'rtime_training': 0.005594807000001367, 'ptime_training': 0.00541400000000003}, 'msg': '', 'command': 'train'}\n",
      "Downloading model params after training on  client_f00c3aac-129f-4e97-a55a-c2c41088cb6d \n",
      "\t- from http://localhost:8844/media/uploads/2021/08/25/node_params_4f6ac505-e58b-4279-8501-d503397e5013.pt\n",
      "Downloading model params after training on  client_2b339fff-4966-4ed5-9ffe-ae3ab922f87b \n",
      "\t- from http://localhost:8844/media/uploads/2021/08/25/node_params_0a3378e0-5cc8-4bec-9183-2443d087c7c5.pt\n",
      "Downloading model params after training on  client_a5a17b70-69d5-4a1c-9af1-d67ca4f27768 \n",
      "\t- from http://localhost:8844/media/uploads/2021/08/25/node_params_6497499c-d058-4bd8-a2ee-74c27eb00ae4.pt\n",
      "Clients that successfully reply in round  2   ['client_f00c3aac-129f-4e97-a55a-c2c41088cb6d', 'client_2b339fff-4966-4ed5-9ffe-ae3ab922f87b', 'client_a5a17b70-69d5-4a1c-9af1-d67ca4f27768']\n",
      "Sampled clients in round  3   ['client_2b339fff-4966-4ed5-9ffe-ae3ab922f87b', 'client_f00c3aac-129f-4e97-a55a-c2c41088cb6d', 'client_a5a17b70-69d5-4a1c-9af1-d67ca4f27768']\n",
      "[ RESEARCHER ] Send message to client  client_2b339fff-4966-4ed5-9ffe-ae3ab922f87b {'researcher_id': 'researcher_04cf58a2-3dea-43b8-9db4-070592b6781b', 'job_id': 'efc67ca6-b3cc-4d07-9285-2cc0d8921c5f', 'training_args': {'batch_size': None, 'lr': 0.001, 'epochs': 5, 'dry_run': False, 'batch_maxnum': 0}, 'model_args': {'max_iter': 1000, 'tol': 0.001, 'number_columns': 5}, 'command': 'train', 'model_url': 'http://localhost:8844/media/uploads/2021/08/25/my_model_2401ab7f-4f96-401a-91ce-73be2a594b14.py', 'params_url': 'http://localhost:8844/media/uploads/2021/08/25/researcher_params_d5d511c8-8324-48d9-b212-6c2b11f94ee7.pt', 'model_class': 'SGDRegressorTrainingPlan', 'training_data': {'client_2b339fff-4966-4ed5-9ffe-ae3ab922f87b': ['dataset_4177d54f-6e37-41b7-a6f1-ac99714ff8e4']}}\n",
      "researcher_04cf58a2-3dea-43b8-9db4-070592b6781b\n",
      "[ RESEARCHER ] Send message to client  client_f00c3aac-129f-4e97-a55a-c2c41088cb6d {'researcher_id': 'researcher_04cf58a2-3dea-43b8-9db4-070592b6781b', 'job_id': 'efc67ca6-b3cc-4d07-9285-2cc0d8921c5f', 'training_args': {'batch_size': None, 'lr': 0.001, 'epochs': 5, 'dry_run': False, 'batch_maxnum': 0}, 'model_args': {'max_iter': 1000, 'tol': 0.001, 'number_columns': 5}, 'command': 'train', 'model_url': 'http://localhost:8844/media/uploads/2021/08/25/my_model_2401ab7f-4f96-401a-91ce-73be2a594b14.py', 'params_url': 'http://localhost:8844/media/uploads/2021/08/25/researcher_params_d5d511c8-8324-48d9-b212-6c2b11f94ee7.pt', 'model_class': 'SGDRegressorTrainingPlan', 'training_data': {'client_f00c3aac-129f-4e97-a55a-c2c41088cb6d': ['dataset_7ef9e368-8819-4c39-bb48-37d63a51af50']}}\n",
      "researcher_04cf58a2-3dea-43b8-9db4-070592b6781b\n",
      "[ RESEARCHER ] Send message to client  client_a5a17b70-69d5-4a1c-9af1-d67ca4f27768 {'researcher_id': 'researcher_04cf58a2-3dea-43b8-9db4-070592b6781b', 'job_id': 'efc67ca6-b3cc-4d07-9285-2cc0d8921c5f', 'training_args': {'batch_size': None, 'lr': 0.001, 'epochs': 5, 'dry_run': False, 'batch_maxnum': 0}, 'model_args': {'max_iter': 1000, 'tol': 0.001, 'number_columns': 5}, 'command': 'train', 'model_url': 'http://localhost:8844/media/uploads/2021/08/25/my_model_2401ab7f-4f96-401a-91ce-73be2a594b14.py', 'params_url': 'http://localhost:8844/media/uploads/2021/08/25/researcher_params_d5d511c8-8324-48d9-b212-6c2b11f94ee7.pt', 'model_class': 'SGDRegressorTrainingPlan', 'training_data': {'client_a5a17b70-69d5-4a1c-9af1-d67ca4f27768': ['dataset_67ad82e4-f3bd-4e12-9fd8-622cba47e968']}}\n",
      "researcher_04cf58a2-3dea-43b8-9db4-070592b6781b\n"
     ]
    },
    {
     "name": "stdout",
     "output_type": "stream",
     "text": [
      "2021-08-25 11:46:33.062806 [ RESEARCHER ] message received. {'researcher_id': 'researcher_04cf58a2-3dea-43b8-9db4-070592b6781b', 'job_id': 'efc67ca6-b3cc-4d07-9285-2cc0d8921c5f', 'success': True, 'client_id': 'client_2b339fff-4966-4ed5-9ffe-ae3ab922f87b', 'dataset_id': 'dataset_4177d54f-6e37-41b7-a6f1-ac99714ff8e4', 'params_url': 'http://localhost:8844/media/uploads/2021/08/25/node_params_37931ddd-3bea-4429-b842-87f57df3d209.pt', 'timing': {'rtime_training': 0.005188239999995403, 'ptime_training': 0.005087000000000064}, 'msg': '', 'command': 'train'}\n",
      "2021-08-25 11:46:33.104703 [ RESEARCHER ] message received. {'researcher_id': 'researcher_04cf58a2-3dea-43b8-9db4-070592b6781b', 'job_id': 'efc67ca6-b3cc-4d07-9285-2cc0d8921c5f', 'success': True, 'client_id': 'client_f00c3aac-129f-4e97-a55a-c2c41088cb6d', 'dataset_id': 'dataset_7ef9e368-8819-4c39-bb48-37d63a51af50', 'params_url': 'http://localhost:8844/media/uploads/2021/08/25/node_params_336b64ac-079c-40d8-8c24-1f321f436d3d.pt', 'timing': {'rtime_training': 0.005651251000003299, 'ptime_training': 0.005541999999999714}, 'msg': '', 'command': 'train'}\n",
      "2021-08-25 11:46:33.136265 [ RESEARCHER ] message received. {'researcher_id': 'researcher_04cf58a2-3dea-43b8-9db4-070592b6781b', 'job_id': 'efc67ca6-b3cc-4d07-9285-2cc0d8921c5f', 'success': True, 'client_id': 'client_a5a17b70-69d5-4a1c-9af1-d67ca4f27768', 'dataset_id': 'dataset_67ad82e4-f3bd-4e12-9fd8-622cba47e968', 'params_url': 'http://localhost:8844/media/uploads/2021/08/25/node_params_1e9ecb85-ee73-4fdf-9103-102b7fe318f7.pt', 'timing': {'rtime_training': 0.005027243000000681, 'ptime_training': 0.004961000000000215}, 'msg': '', 'command': 'train'}\n",
      "Downloading model params after training on  client_2b339fff-4966-4ed5-9ffe-ae3ab922f87b \n",
      "\t- from http://localhost:8844/media/uploads/2021/08/25/node_params_37931ddd-3bea-4429-b842-87f57df3d209.pt\n",
      "Downloading model params after training on  client_f00c3aac-129f-4e97-a55a-c2c41088cb6d \n",
      "\t- from http://localhost:8844/media/uploads/2021/08/25/node_params_336b64ac-079c-40d8-8c24-1f321f436d3d.pt\n",
      "Downloading model params after training on  client_a5a17b70-69d5-4a1c-9af1-d67ca4f27768 \n",
      "\t- from http://localhost:8844/media/uploads/2021/08/25/node_params_1e9ecb85-ee73-4fdf-9103-102b7fe318f7.pt\n",
      "Clients that successfully reply in round  3   ['client_2b339fff-4966-4ed5-9ffe-ae3ab922f87b', 'client_f00c3aac-129f-4e97-a55a-c2c41088cb6d', 'client_a5a17b70-69d5-4a1c-9af1-d67ca4f27768']\n",
      "Sampled clients in round  4   ['client_2b339fff-4966-4ed5-9ffe-ae3ab922f87b', 'client_f00c3aac-129f-4e97-a55a-c2c41088cb6d', 'client_a5a17b70-69d5-4a1c-9af1-d67ca4f27768']\n",
      "[ RESEARCHER ] Send message to client  client_2b339fff-4966-4ed5-9ffe-ae3ab922f87b {'researcher_id': 'researcher_04cf58a2-3dea-43b8-9db4-070592b6781b', 'job_id': 'efc67ca6-b3cc-4d07-9285-2cc0d8921c5f', 'training_args': {'batch_size': None, 'lr': 0.001, 'epochs': 5, 'dry_run': False, 'batch_maxnum': 0}, 'model_args': {'max_iter': 1000, 'tol': 0.001, 'number_columns': 5}, 'command': 'train', 'model_url': 'http://localhost:8844/media/uploads/2021/08/25/my_model_2401ab7f-4f96-401a-91ce-73be2a594b14.py', 'params_url': 'http://localhost:8844/media/uploads/2021/08/25/researcher_params_716d588f-6e00-48c6-87e9-3572160072f6.pt', 'model_class': 'SGDRegressorTrainingPlan', 'training_data': {'client_2b339fff-4966-4ed5-9ffe-ae3ab922f87b': ['dataset_4177d54f-6e37-41b7-a6f1-ac99714ff8e4']}}\n",
      "researcher_04cf58a2-3dea-43b8-9db4-070592b6781b\n",
      "[ RESEARCHER ] Send message to client  client_f00c3aac-129f-4e97-a55a-c2c41088cb6d {'researcher_id': 'researcher_04cf58a2-3dea-43b8-9db4-070592b6781b', 'job_id': 'efc67ca6-b3cc-4d07-9285-2cc0d8921c5f', 'training_args': {'batch_size': None, 'lr': 0.001, 'epochs': 5, 'dry_run': False, 'batch_maxnum': 0}, 'model_args': {'max_iter': 1000, 'tol': 0.001, 'number_columns': 5}, 'command': 'train', 'model_url': 'http://localhost:8844/media/uploads/2021/08/25/my_model_2401ab7f-4f96-401a-91ce-73be2a594b14.py', 'params_url': 'http://localhost:8844/media/uploads/2021/08/25/researcher_params_716d588f-6e00-48c6-87e9-3572160072f6.pt', 'model_class': 'SGDRegressorTrainingPlan', 'training_data': {'client_f00c3aac-129f-4e97-a55a-c2c41088cb6d': ['dataset_7ef9e368-8819-4c39-bb48-37d63a51af50']}}\n",
      "researcher_04cf58a2-3dea-43b8-9db4-070592b6781b\n",
      "[ RESEARCHER ] Send message to client  client_a5a17b70-69d5-4a1c-9af1-d67ca4f27768 {'researcher_id': 'researcher_04cf58a2-3dea-43b8-9db4-070592b6781b', 'job_id': 'efc67ca6-b3cc-4d07-9285-2cc0d8921c5f', 'training_args': {'batch_size': None, 'lr': 0.001, 'epochs': 5, 'dry_run': False, 'batch_maxnum': 0}, 'model_args': {'max_iter': 1000, 'tol': 0.001, 'number_columns': 5}, 'command': 'train', 'model_url': 'http://localhost:8844/media/uploads/2021/08/25/my_model_2401ab7f-4f96-401a-91ce-73be2a594b14.py', 'params_url': 'http://localhost:8844/media/uploads/2021/08/25/researcher_params_716d588f-6e00-48c6-87e9-3572160072f6.pt', 'model_class': 'SGDRegressorTrainingPlan', 'training_data': {'client_a5a17b70-69d5-4a1c-9af1-d67ca4f27768': ['dataset_67ad82e4-f3bd-4e12-9fd8-622cba47e968']}}\n",
      "researcher_04cf58a2-3dea-43b8-9db4-070592b6781b\n",
      "2021-08-25 11:46:43.154323 [ RESEARCHER ] message received. {'researcher_id': 'researcher_04cf58a2-3dea-43b8-9db4-070592b6781b', 'job_id': 'efc67ca6-b3cc-4d07-9285-2cc0d8921c5f', 'success': True, 'client_id': 'client_a5a17b70-69d5-4a1c-9af1-d67ca4f27768', 'dataset_id': 'dataset_67ad82e4-f3bd-4e12-9fd8-622cba47e968', 'params_url': 'http://localhost:8844/media/uploads/2021/08/25/node_params_0c7b6980-293f-44e9-b745-6fdc6278685f.pt', 'timing': {'rtime_training': 0.005227787000009698, 'ptime_training': 0.004910000000000192}, 'msg': '', 'command': 'train'}\n",
      "2021-08-25 11:46:43.187396 [ RESEARCHER ] message received. {'researcher_id': 'researcher_04cf58a2-3dea-43b8-9db4-070592b6781b', 'job_id': 'efc67ca6-b3cc-4d07-9285-2cc0d8921c5f', 'success': True, 'client_id': 'client_2b339fff-4966-4ed5-9ffe-ae3ab922f87b', 'dataset_id': 'dataset_4177d54f-6e37-41b7-a6f1-ac99714ff8e4', 'params_url': 'http://localhost:8844/media/uploads/2021/08/25/node_params_6e41d451-ead7-441c-b06c-f2c33d76eb12.pt', 'timing': {'rtime_training': 0.0063993349999975635, 'ptime_training': 0.006191999999999975}, 'msg': '', 'command': 'train'}\n",
      "2021-08-25 11:46:43.223136 [ RESEARCHER ] message received. {'researcher_id': 'researcher_04cf58a2-3dea-43b8-9db4-070592b6781b', 'job_id': 'efc67ca6-b3cc-4d07-9285-2cc0d8921c5f', 'success': True, 'client_id': 'client_f00c3aac-129f-4e97-a55a-c2c41088cb6d', 'dataset_id': 'dataset_7ef9e368-8819-4c39-bb48-37d63a51af50', 'params_url': 'http://localhost:8844/media/uploads/2021/08/25/node_params_5e39ebd8-5681-4280-ab13-a9807bb69195.pt', 'timing': {'rtime_training': 0.005410804000007374, 'ptime_training': 0.00518900000000011}, 'msg': '', 'command': 'train'}\n",
      "Downloading model params after training on  client_a5a17b70-69d5-4a1c-9af1-d67ca4f27768 \n",
      "\t- from http://localhost:8844/media/uploads/2021/08/25/node_params_0c7b6980-293f-44e9-b745-6fdc6278685f.pt\n",
      "Downloading model params after training on  client_2b339fff-4966-4ed5-9ffe-ae3ab922f87b \n",
      "\t- from http://localhost:8844/media/uploads/2021/08/25/node_params_6e41d451-ead7-441c-b06c-f2c33d76eb12.pt\n",
      "Downloading model params after training on  client_f00c3aac-129f-4e97-a55a-c2c41088cb6d \n",
      "\t- from http://localhost:8844/media/uploads/2021/08/25/node_params_5e39ebd8-5681-4280-ab13-a9807bb69195.pt\n",
      "Clients that successfully reply in round  4   ['client_a5a17b70-69d5-4a1c-9af1-d67ca4f27768', 'client_2b339fff-4966-4ed5-9ffe-ae3ab922f87b', 'client_f00c3aac-129f-4e97-a55a-c2c41088cb6d']\n"
     ]
    }
   ],
   "source": [
    "exp.run()"
   ]
  },
  {
   "cell_type": "markdown",
   "id": "88e2a782",
   "metadata": {},
   "source": [
    "## Lets build now a dataset test, **A** is the linear transformation that has been used to build the csv file datasets."
   ]
  },
  {
   "cell_type": "code",
   "execution_count": 7,
   "id": "35bdc3a2",
   "metadata": {},
   "outputs": [],
   "source": [
    "n_features = 5\n",
    "testing_samples = 40\n",
    "rng = np.random.RandomState(1)\n",
    "A = np.array([[5],\n",
    "       [8],\n",
    "       [9],\n",
    "       [5],\n",
    "       [0]])\n",
    "\n",
    "def test_data():\n",
    "    X_test = rng.randn(testing_samples, n_features).reshape([testing_samples, n_features])\n",
    "    y_test = X_test.dot(A) + rng.randn(testing_samples).reshape([testing_samples,1])\n",
    "    return X_test, y_test"
   ]
  },
  {
   "cell_type": "code",
   "execution_count": 8,
   "id": "91f579d5",
   "metadata": {},
   "outputs": [],
   "source": [
    "from sklearn.linear_model import SGDRegressor"
   ]
  },
  {
   "cell_type": "code",
   "execution_count": 9,
   "id": "05ca90a2",
   "metadata": {},
   "outputs": [],
   "source": [
    "X_test, y_test = test_data()"
   ]
  },
  {
   "cell_type": "markdown",
   "id": "63e6d380",
   "metadata": {},
   "source": [
    "The MSE should be decreasing at each iteration with the federated parameters."
   ]
  },
  {
   "cell_type": "code",
   "execution_count": 10,
   "id": "6edb32ed",
   "metadata": {},
   "outputs": [
    {
     "name": "stdout",
     "output_type": "stream",
     "text": [
      "MSE  58.436906082050925\n",
      "MSE  24.27651060704205\n",
      "MSE  16.378478348116158\n",
      "MSE  8.499826085953165\n",
      "MSE  6.9347972623872405\n"
     ]
    }
   ],
   "source": [
    "testing_error = []\n",
    "\n",
    "for i in range(rounds):\n",
    "    fed_model = SGDRegressor(max_iter=1000, tol=1e-3)\n",
    "    fed_model.coef_ = exp._aggregated_params[i]['params']['coef_'].copy()\n",
    "    fed_model.intercept_ = exp._aggregated_params[i]['params']['intercept_'].copy()  \n",
    "    mse = np.mean((fed_model.predict(X_test).ravel() - y_test.ravel())**2)\n",
    "    print('MSE ', mse)\n",
    "    testing_error.append(mse)"
   ]
  },
  {
   "cell_type": "code",
   "execution_count": null,
   "id": "ddd8cf9e",
   "metadata": {},
   "outputs": [],
   "source": []
  },
  {
   "cell_type": "code",
   "execution_count": null,
   "id": "4faef6e5",
   "metadata": {},
   "outputs": [],
   "source": []
  }
 ],
 "metadata": {
  "kernelspec": {
   "display_name": "Python 3",
   "language": "python",
   "name": "python3"
  },
  "language_info": {
   "codemirror_mode": {
    "name": "ipython",
    "version": 3
   },
   "file_extension": ".py",
   "mimetype": "text/x-python",
   "name": "python",
   "nbconvert_exporter": "python",
   "pygments_lexer": "ipython3",
   "version": "3.9.5"
  }
 },
 "nbformat": 4,
 "nbformat_minor": 5
}

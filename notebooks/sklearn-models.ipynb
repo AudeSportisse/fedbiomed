{
 "cells": [
  {
   "cell_type": "code",
   "execution_count": 1,
   "id": "ade4cbea",
   "metadata": {},
   "outputs": [],
   "source": [
    "%load_ext autoreload\n",
    "%autoreload 2"
   ]
  },
  {
   "cell_type": "markdown",
   "id": "9f91e69a",
   "metadata": {},
   "source": [
    "**model_args** is a dictionnary containing your model arguments, in case of SGDRegressor this will be max_iter and tol.\n",
    "\n",
    "**training_args** is a dictionnary with parameters , related to Federated Learning. "
   ]
  },
  {
   "cell_type": "code",
   "execution_count": 2,
   "id": "3a28b429",
   "metadata": {},
   "outputs": [],
   "source": [
    "input_sklearn_model = 'Perceptron'\n",
    "\n",
    "n_features = 20\n",
    "n_classes = 2\n",
    "\n",
    "model_args = {'max_iter':1000, 'tol': 1e-3 , \n",
    "               'n_features' : n_features, 'n_classes' : n_classes}\n",
    "\n",
    "training_args = {   \n",
    "    'epochs': 5, \n",
    "}"
   ]
  },
  {
   "cell_type": "markdown",
   "id": "8e9aaa87",
   "metadata": {},
   "source": [
    "Hereafter the template of the class you should provide to Fedbiomed :\n",
    "    \n",
    "**training_data** : you must return here the (X,y) that must be of the same type of \n",
    "your method partial_fit parameters. "
   ]
  },
  {
   "cell_type": "code",
   "execution_count": 3,
   "id": "f10cc76c",
   "metadata": {},
   "outputs": [],
   "source": [
    "from fedbiomed.common.training_plans import FedPerceptron\n",
    "from fedbiomed.common.data import DataManager\n",
    "class SkLearnTraining(FedPerceptron):\n",
    "    def __init__(self, model_args: dict = {}):\n",
    "        super().__init__(model_args)\n",
    "        self.add_dependency([\"from fedbiomed.common.training_plans import FedPerceptron\",\n",
    "                             \"from sklearn.linear_model import Perceptron\"])\n",
    "    \n",
    "    def training_data(self):\n",
    "        NUMBER_COLS = 20\n",
    "        dataset = pd.read_csv(self.dataset_path,header=None,delimiter=',')\n",
    "        X = dataset.iloc[:,0:NUMBER_COLS].values\n",
    "        y = dataset.iloc[:,NUMBER_COLS]       \n",
    "        return DataManager(dataset=X,target=y.values)"
   ]
  },
  {
   "cell_type": "code",
   "execution_count": 4,
   "id": "4b1a1341",
   "metadata": {},
   "outputs": [
    {
     "name": "stderr",
     "output_type": "stream",
     "text": [
      "2022-04-29 16:48:58,414 fedbiomed INFO - Component environment:\n",
      "2022-04-29 16:48:58,414 fedbiomed INFO - type = ComponentType.RESEARCHER\n",
      "2022-04-29 16:48:58,506 fedbiomed INFO - Messaging researcher_994d2281-2f1b-4f9e-84fe-61a703e1bdfe successfully connected to the message broker, object = <fedbiomed.common.messaging.Messaging object at 0x7f325566df40>\n",
      "2022-04-29 16:48:58,517 fedbiomed INFO - Searching dataset with data tags: ['perp'] for all nodes\n",
      "2022-04-29 16:49:08,530 fedbiomed INFO - Node selected for training -> node_658efe2a-5e4b-4daf-9931-32eb6ecefc32\n",
      "2022-04-29 16:49:08,537 fedbiomed DEBUG - Model file has been saved: /home/gentoo/Projects/Fedbiomed/fedbiomed/var/experiments/Experiment_0066/my_model_1c3ea6dc-c1ce-4b06-b967-46ab617e603e.py\n",
      "2022-04-29 16:49:08,549 fedbiomed DEBUG - upload (HTTP POST request) of file /home/gentoo/Projects/Fedbiomed/fedbiomed/var/experiments/Experiment_0066/my_model_1c3ea6dc-c1ce-4b06-b967-46ab617e603e.py successful, with status code 201\n",
      "2022-04-29 16:49:08,559 fedbiomed DEBUG - upload (HTTP POST request) of file /home/gentoo/Projects/Fedbiomed/fedbiomed/var/experiments/Experiment_0066/aggregated_params_init_a588235e-3e29-49c5-9f37-d189728d92a6.pt successful, with status code 201\n"
     ]
    },
    {
     "name": "stdout",
     "output_type": "stream",
     "text": [
      "model id sklearntarining plan 139854244927184\n",
      "sklearn models perceptron model get param {'alpha': 0.0001, 'class_weight': None, 'early_stopping': False, 'eta0': 1.0, 'fit_intercept': True, 'l1_ratio': 0.15, 'max_iter': 1000, 'n_iter_no_change': 5, 'n_jobs': None, 'penalty': None, 'random_state': 0, 'shuffle': True, 'tol': 0.001, 'validation_fraction': 0.1, 'verbose': 1, 'warm_start': False}\n",
      "perceptron model id  139854244927184\n"
     ]
    }
   ],
   "source": [
    "from fedbiomed.researcher.experiment import Experiment\n",
    "from fedbiomed.researcher.aggregators.fedavg import FedAverage\n",
    "\n",
    "tags =  ['perp']\n",
    "rounds = 2\n",
    "\n",
    "# search for corresponding datasets across nodes datasets\n",
    "exp = Experiment(tags=tags,\n",
    "                 model_args=model_args,\n",
    "                 model_class=SkLearnTraining,\n",
    "                 training_args=training_args,\n",
    "                 round_limit=rounds,\n",
    "                 aggregator=FedAverage(),\n",
    "                 node_selection_strategy=None)\n"
   ]
  },
  {
   "cell_type": "code",
   "execution_count": 5,
   "id": "d6ff55da",
   "metadata": {
    "scrolled": true
   },
   "outputs": [
    {
     "name": "stderr",
     "output_type": "stream",
     "text": [
      "2022-04-29 16:49:11,213 fedbiomed INFO - Sampled nodes in round 0 ['node_658efe2a-5e4b-4daf-9931-32eb6ecefc32']\n",
      "2022-04-29 16:49:11,214 fedbiomed INFO - \u001b[1mSending request\u001b[0m \n",
      "\t\t\t\t\t\u001b[1m To\u001b[0m: node_658efe2a-5e4b-4daf-9931-32eb6ecefc32 \n",
      "\t\t\t\t\t\u001b[1m Request: \u001b[0m: Perform training with the arguments: {'researcher_id': 'researcher_994d2281-2f1b-4f9e-84fe-61a703e1bdfe', 'job_id': '8e717b50-c557-4272-a793-2047807e9961', 'training_args': {'test_ratio': 0.0, 'test_on_local_updates': False, 'test_on_global_updates': False, 'test_metric': None, 'test_metric_args': {}, 'epochs': 5}, 'training': True, 'model_args': {'max_iter': 1000, 'tol': 0.001, 'n_features': 20, 'n_classes': 2, 'verbose': 1}, 'command': 'train', 'model_url': 'http://localhost:8844/media/uploads/2022/04/29/my_model_1c3ea6dc-c1ce-4b06-b967-46ab617e603e.py', 'params_url': 'http://localhost:8844/media/uploads/2022/04/29/aggregated_params_init_a588235e-3e29-49c5-9f37-d189728d92a6.pt', 'model_class': 'SkLearnTraining', 'training_data': {'node_658efe2a-5e4b-4daf-9931-32eb6ecefc32': ['dataset_f37fe936-9091-4851-9ec6-4d74015441cf']}} \n",
      " -----------------------------------------------------------------\n",
      "2022-04-29 16:49:11,215 fedbiomed DEBUG - researcher_994d2281-2f1b-4f9e-84fe-61a703e1bdfe\n",
      "2022-04-29 16:49:11,247 fedbiomed INFO - \u001b[1mWARNING\u001b[0m\n",
      "\t\t\t\t\t\u001b[1m NODE\u001b[0m node_658efe2a-5e4b-4daf-9931-32eb6ecefc32\n",
      "\t\t\t\t\t\u001b[1m MESSAGE:\u001b[0m There is no test activated for the round. Please set flag for `test_on_global_updates`, `test_on_local_updates`, or both. Splitting dataset for testing will be ignored\u001b[0m\n",
      "-----------------------------------------------------------------\n",
      "2022-04-29 16:49:11,253 fedbiomed INFO - \u001b[1mINFO\u001b[0m\n",
      "\t\t\t\t\t\u001b[1m NODE\u001b[0m node_658efe2a-5e4b-4daf-9931-32eb6ecefc32\n",
      "\t\t\t\t\t\u001b[1m MESSAGE:\u001b[0m training with arguments {'history_monitor': <fedbiomed.node.history_monitor.HistoryMonitor object at 0x7f85b7f6cf70>, 'node_args': {'gpu': False, 'gpu_num': None, 'gpu_only': False}, 'epochs': 5}\u001b[0m\n",
      "-----------------------------------------------------------------\n",
      "2022-04-29 16:49:11,254 fedbiomed INFO - \u001b[1mTRAINING\u001b[0m \n",
      "\t\t\t\t\t NODE_ID: node_658efe2a-5e4b-4daf-9931-32eb6ecefc32 \n",
      "\t\t\t\t\t Epoch: 0 | Completed: 150/150 (100%) \n",
      " \t\t\t\t\t Loss perceptron: \u001b[1m1.516319\u001b[0m \n",
      "\t\t\t\t\t ---------\n",
      "2022-04-29 16:49:11,255 fedbiomed INFO - \u001b[1mTRAINING\u001b[0m \n",
      "\t\t\t\t\t NODE_ID: node_658efe2a-5e4b-4daf-9931-32eb6ecefc32 \n",
      "\t\t\t\t\t Epoch: 1 | Completed: 150/150 (100%) \n",
      " \t\t\t\t\t Loss perceptron: \u001b[1m1.656794\u001b[0m \n",
      "\t\t\t\t\t ---------\n",
      "2022-04-29 16:49:11,256 fedbiomed INFO - \u001b[1mTRAINING\u001b[0m \n",
      "\t\t\t\t\t NODE_ID: node_658efe2a-5e4b-4daf-9931-32eb6ecefc32 \n",
      "\t\t\t\t\t Epoch: 2 | Completed: 150/150 (100%) \n",
      " \t\t\t\t\t Loss perceptron: \u001b[1m1.464042\u001b[0m \n",
      "\t\t\t\t\t ---------\n",
      "2022-04-29 16:49:11,258 fedbiomed INFO - \u001b[1mTRAINING\u001b[0m \n",
      "\t\t\t\t\t NODE_ID: node_658efe2a-5e4b-4daf-9931-32eb6ecefc32 \n",
      "\t\t\t\t\t Epoch: 3 | Completed: 150/150 (100%) \n",
      " \t\t\t\t\t Loss perceptron: \u001b[1m1.858264\u001b[0m \n",
      "\t\t\t\t\t ---------\n",
      "2022-04-29 16:49:11,259 fedbiomed INFO - \u001b[1mTRAINING\u001b[0m \n",
      "\t\t\t\t\t NODE_ID: node_658efe2a-5e4b-4daf-9931-32eb6ecefc32 \n",
      "\t\t\t\t\t Epoch: 4 | Completed: 150/150 (100%) \n",
      " \t\t\t\t\t Loss perceptron: \u001b[1m1.630331\u001b[0m \n",
      "\t\t\t\t\t ---------\n",
      "2022-04-29 16:49:11,271 fedbiomed INFO - \u001b[1mINFO\u001b[0m\n",
      "\t\t\t\t\t\u001b[1m NODE\u001b[0m node_658efe2a-5e4b-4daf-9931-32eb6ecefc32\n",
      "\t\t\t\t\t\u001b[1m MESSAGE:\u001b[0m results uploaded successfully \u001b[0m\n",
      "-----------------------------------------------------------------\n",
      "2022-04-29 16:49:21,221 fedbiomed INFO - Downloading model params after training on node_658efe2a-5e4b-4daf-9931-32eb6ecefc32 - from http://localhost:8844/media/uploads/2022/04/29/node_params_da909511-ca7f-4782-825f-5e2131e775bb.pt\n",
      "2022-04-29 16:49:21,236 fedbiomed DEBUG - upload (HTTP GET request) of file node_params_2a6502bd-c1cd-40fe-893c-4a522a7938f9.pt successful, with status code 200\n",
      "2022-04-29 16:49:21,244 fedbiomed INFO - Nodes that successfully reply in round 0 ['node_658efe2a-5e4b-4daf-9931-32eb6ecefc32']\n",
      "2022-04-29 16:49:21,256 fedbiomed DEBUG - upload (HTTP POST request) of file /home/gentoo/Projects/Fedbiomed/fedbiomed/var/experiments/Experiment_0066/aggregated_params_81a819a1-d7b2-4476-897a-cfaa8482410a.pt successful, with status code 201\n",
      "2022-04-29 16:49:21,257 fedbiomed INFO - Saved aggregated params for round 0 in /home/gentoo/Projects/Fedbiomed/fedbiomed/var/experiments/Experiment_0066/aggregated_params_81a819a1-d7b2-4476-897a-cfaa8482410a.pt\n",
      "2022-04-29 16:49:21,257 fedbiomed INFO - Sampled nodes in round 1 ['node_658efe2a-5e4b-4daf-9931-32eb6ecefc32']\n",
      "2022-04-29 16:49:21,258 fedbiomed INFO - \u001b[1mSending request\u001b[0m \n",
      "\t\t\t\t\t\u001b[1m To\u001b[0m: node_658efe2a-5e4b-4daf-9931-32eb6ecefc32 \n",
      "\t\t\t\t\t\u001b[1m Request: \u001b[0m: Perform training with the arguments: {'researcher_id': 'researcher_994d2281-2f1b-4f9e-84fe-61a703e1bdfe', 'job_id': '8e717b50-c557-4272-a793-2047807e9961', 'training_args': {'test_ratio': 0.0, 'test_on_local_updates': False, 'test_on_global_updates': False, 'test_metric': None, 'test_metric_args': {}, 'epochs': 5}, 'training': True, 'model_args': {'max_iter': 1000, 'tol': 0.001, 'n_features': 20, 'n_classes': 2, 'verbose': 1}, 'command': 'train', 'model_url': 'http://localhost:8844/media/uploads/2022/04/29/my_model_1c3ea6dc-c1ce-4b06-b967-46ab617e603e.py', 'params_url': 'http://localhost:8844/media/uploads/2022/04/29/aggregated_params_81a819a1-d7b2-4476-897a-cfaa8482410a.pt', 'model_class': 'SkLearnTraining', 'training_data': {'node_658efe2a-5e4b-4daf-9931-32eb6ecefc32': ['dataset_f37fe936-9091-4851-9ec6-4d74015441cf']}} \n",
      " -----------------------------------------------------------------\n",
      "2022-04-29 16:49:21,258 fedbiomed DEBUG - researcher_994d2281-2f1b-4f9e-84fe-61a703e1bdfe\n",
      "2022-04-29 16:49:21,268 fedbiomed INFO - \u001b[1mWARNING\u001b[0m\n",
      "\t\t\t\t\t\u001b[1m NODE\u001b[0m node_658efe2a-5e4b-4daf-9931-32eb6ecefc32\n",
      "\t\t\t\t\t\u001b[1m MESSAGE:\u001b[0m There is no test activated for the round. Please set flag for `test_on_global_updates`, `test_on_local_updates`, or both. Splitting dataset for testing will be ignored\u001b[0m\n",
      "-----------------------------------------------------------------\n",
      "2022-04-29 16:49:21,271 fedbiomed INFO - \u001b[1mINFO\u001b[0m\n",
      "\t\t\t\t\t\u001b[1m NODE\u001b[0m node_658efe2a-5e4b-4daf-9931-32eb6ecefc32\n",
      "\t\t\t\t\t\u001b[1m MESSAGE:\u001b[0m training with arguments {'history_monitor': <fedbiomed.node.history_monitor.HistoryMonitor object at 0x7f85b7f6c940>, 'node_args': {'gpu': False, 'gpu_num': None, 'gpu_only': False}, 'epochs': 5}\u001b[0m\n",
      "-----------------------------------------------------------------\n",
      "2022-04-29 16:49:21,273 fedbiomed INFO - \u001b[1mTRAINING\u001b[0m \n",
      "\t\t\t\t\t NODE_ID: node_658efe2a-5e4b-4daf-9931-32eb6ecefc32 \n",
      "\t\t\t\t\t Epoch: 0 | Completed: 150/150 (100%) \n",
      " \t\t\t\t\t Loss perceptron: \u001b[1m1.580908\u001b[0m \n",
      "\t\t\t\t\t ---------\n",
      "2022-04-29 16:49:21,275 fedbiomed INFO - \u001b[1mTRAINING\u001b[0m \n",
      "\t\t\t\t\t NODE_ID: node_658efe2a-5e4b-4daf-9931-32eb6ecefc32 \n",
      "\t\t\t\t\t Epoch: 1 | Completed: 150/150 (100%) \n",
      " \t\t\t\t\t Loss perceptron: \u001b[1m1.455672\u001b[0m \n",
      "\t\t\t\t\t ---------\n",
      "2022-04-29 16:49:21,276 fedbiomed INFO - \u001b[1mTRAINING\u001b[0m \n",
      "\t\t\t\t\t NODE_ID: node_658efe2a-5e4b-4daf-9931-32eb6ecefc32 \n",
      "\t\t\t\t\t Epoch: 2 | Completed: 150/150 (100%) \n",
      " \t\t\t\t\t Loss perceptron: \u001b[1m1.946618\u001b[0m \n",
      "\t\t\t\t\t ---------\n",
      "2022-04-29 16:49:21,277 fedbiomed INFO - \u001b[1mTRAINING\u001b[0m \n",
      "\t\t\t\t\t NODE_ID: node_658efe2a-5e4b-4daf-9931-32eb6ecefc32 \n",
      "\t\t\t\t\t Epoch: 3 | Completed: 150/150 (100%) \n",
      " \t\t\t\t\t Loss perceptron: \u001b[1m1.429265\u001b[0m \n",
      "\t\t\t\t\t ---------\n",
      "2022-04-29 16:49:21,279 fedbiomed INFO - \u001b[1mTRAINING\u001b[0m \n",
      "\t\t\t\t\t NODE_ID: node_658efe2a-5e4b-4daf-9931-32eb6ecefc32 \n",
      "\t\t\t\t\t Epoch: 4 | Completed: 150/150 (100%) \n",
      " \t\t\t\t\t Loss perceptron: \u001b[1m1.820139\u001b[0m \n",
      "\t\t\t\t\t ---------\n",
      "2022-04-29 16:49:21,292 fedbiomed INFO - \u001b[1mINFO\u001b[0m\n",
      "\t\t\t\t\t\u001b[1m NODE\u001b[0m node_658efe2a-5e4b-4daf-9931-32eb6ecefc32\n",
      "\t\t\t\t\t\u001b[1m MESSAGE:\u001b[0m results uploaded successfully \u001b[0m\n",
      "-----------------------------------------------------------------\n",
      "2022-04-29 16:49:31,269 fedbiomed INFO - Downloading model params after training on node_658efe2a-5e4b-4daf-9931-32eb6ecefc32 - from http://localhost:8844/media/uploads/2022/04/29/node_params_a5774000-7899-49dd-8825-d359d70ef8e3.pt\n",
      "2022-04-29 16:49:31,282 fedbiomed DEBUG - upload (HTTP GET request) of file node_params_cababb78-a5d7-4358-95e0-1bfc827870ba.pt successful, with status code 200\n",
      "2022-04-29 16:49:31,293 fedbiomed INFO - Nodes that successfully reply in round 1 ['node_658efe2a-5e4b-4daf-9931-32eb6ecefc32']\n"
     ]
    },
    {
     "name": "stderr",
     "output_type": "stream",
     "text": [
      "2022-04-29 16:49:31,321 fedbiomed DEBUG - upload (HTTP POST request) of file /home/gentoo/Projects/Fedbiomed/fedbiomed/var/experiments/Experiment_0066/aggregated_params_e23adf9b-9f1c-45e4-9e8d-9f995261c7ca.pt successful, with status code 201\n",
      "2022-04-29 16:49:31,322 fedbiomed INFO - Saved aggregated params for round 1 in /home/gentoo/Projects/Fedbiomed/fedbiomed/var/experiments/Experiment_0066/aggregated_params_e23adf9b-9f1c-45e4-9e8d-9f995261c7ca.pt\n"
     ]
    },
    {
     "data": {
      "text/plain": [
       "2"
      ]
     },
     "execution_count": 5,
     "metadata": {},
     "output_type": "execute_result"
    },
    {
     "name": "stderr",
     "output_type": "stream",
     "text": [
      "2022-04-29 16:50:51,447 fedbiomed INFO - \u001b[1mWARNING\u001b[0m\n",
      "\t\t\t\t\t\u001b[1m NODE\u001b[0m node_658efe2a-5e4b-4daf-9931-32eb6ecefc32\n",
      "\t\t\t\t\t\u001b[1m MESSAGE:\u001b[0m There is no test activated for the round. Please set flag for `test_on_global_updates`, `test_on_local_updates`, or both. Splitting dataset for testing will be ignored\u001b[0m\n",
      "-----------------------------------------------------------------\n",
      "2022-04-29 16:50:51,489 fedbiomed INFO - \u001b[1mINFO\u001b[0m\n",
      "\t\t\t\t\t\u001b[1m NODE\u001b[0m node_658efe2a-5e4b-4daf-9931-32eb6ecefc32\n",
      "\t\t\t\t\t\u001b[1m MESSAGE:\u001b[0m training with arguments {'history_monitor': <fedbiomed.node.history_monitor.HistoryMonitor object at 0x7f867417f8e0>, 'node_args': {'gpu': False, 'gpu_num': None, 'gpu_only': False}, 'epochs': 5}\u001b[0m\n",
      "-----------------------------------------------------------------\n",
      "2022-04-29 16:50:51,490 fedbiomed INFO - \u001b[1mTRAINING\u001b[0m \n",
      "\t\t\t\t\t NODE_ID: node_658efe2a-5e4b-4daf-9931-32eb6ecefc32 \n",
      "\t\t\t\t\t Epoch: 0 | Completed: 150/150 (100%) \n",
      " \t\t\t\t\t Loss perceptron: \u001b[1m1.516319\u001b[0m \n",
      "\t\t\t\t\t ---------\n",
      "2022-04-29 16:50:51,490 fedbiomed INFO - \u001b[1mTRAINING\u001b[0m \n",
      "\t\t\t\t\t NODE_ID: node_658efe2a-5e4b-4daf-9931-32eb6ecefc32 \n",
      "\t\t\t\t\t Epoch: 1 | Completed: 150/150 (100%) \n",
      " \t\t\t\t\t Loss perceptron: \u001b[1m1.656794\u001b[0m \n",
      "\t\t\t\t\t ---------\n",
      "2022-04-29 16:50:51,491 fedbiomed INFO - \u001b[1mTRAINING\u001b[0m \n",
      "\t\t\t\t\t NODE_ID: node_658efe2a-5e4b-4daf-9931-32eb6ecefc32 \n",
      "\t\t\t\t\t Epoch: 2 | Completed: 150/150 (100%) \n",
      " \t\t\t\t\t Loss perceptron: \u001b[1m1.464042\u001b[0m \n",
      "\t\t\t\t\t ---------\n",
      "2022-04-29 16:50:51,491 fedbiomed INFO - \u001b[1mTRAINING\u001b[0m \n",
      "\t\t\t\t\t NODE_ID: node_658efe2a-5e4b-4daf-9931-32eb6ecefc32 \n",
      "\t\t\t\t\t Epoch: 3 | Completed: 150/150 (100%) \n",
      " \t\t\t\t\t Loss perceptron: \u001b[1m1.858264\u001b[0m \n",
      "\t\t\t\t\t ---------\n",
      "2022-04-29 16:50:51,492 fedbiomed INFO - \u001b[1mTRAINING\u001b[0m \n",
      "\t\t\t\t\t NODE_ID: node_658efe2a-5e4b-4daf-9931-32eb6ecefc32 \n",
      "\t\t\t\t\t Epoch: 4 | Completed: 150/150 (100%) \n",
      " \t\t\t\t\t Loss perceptron: \u001b[1m1.630331\u001b[0m \n",
      "\t\t\t\t\t ---------\n",
      "2022-04-29 16:50:51,492 fedbiomed INFO - \u001b[1mINFO\u001b[0m\n",
      "\t\t\t\t\t\u001b[1m NODE\u001b[0m node_658efe2a-5e4b-4daf-9931-32eb6ecefc32\n",
      "\t\t\t\t\t\u001b[1m MESSAGE:\u001b[0m results uploaded successfully \u001b[0m\n",
      "-----------------------------------------------------------------\n",
      "2022-04-29 16:51:01,486 fedbiomed INFO - \u001b[1mWARNING\u001b[0m\n",
      "\t\t\t\t\t\u001b[1m NODE\u001b[0m node_658efe2a-5e4b-4daf-9931-32eb6ecefc32\n",
      "\t\t\t\t\t\u001b[1m MESSAGE:\u001b[0m There is no test activated for the round. Please set flag for `test_on_global_updates`, `test_on_local_updates`, or both. Splitting dataset for testing will be ignored\u001b[0m\n",
      "-----------------------------------------------------------------\n",
      "2022-04-29 16:51:01,488 fedbiomed INFO - \u001b[1mINFO\u001b[0m\n",
      "\t\t\t\t\t\u001b[1m NODE\u001b[0m node_658efe2a-5e4b-4daf-9931-32eb6ecefc32\n",
      "\t\t\t\t\t\u001b[1m MESSAGE:\u001b[0m training with arguments {'history_monitor': <fedbiomed.node.history_monitor.HistoryMonitor object at 0x7f867417bf40>, 'node_args': {'gpu': False, 'gpu_num': None, 'gpu_only': False}, 'epochs': 5}\u001b[0m\n",
      "-----------------------------------------------------------------\n",
      "2022-04-29 16:51:01,490 fedbiomed INFO - \u001b[1mTRAINING\u001b[0m \n",
      "\t\t\t\t\t NODE_ID: node_658efe2a-5e4b-4daf-9931-32eb6ecefc32 \n",
      "\t\t\t\t\t Epoch: 0 | Completed: 150/150 (100%) \n",
      " \t\t\t\t\t Loss perceptron: \u001b[1m1.580908\u001b[0m \n",
      "\t\t\t\t\t ---------\n",
      "2022-04-29 16:51:01,491 fedbiomed INFO - \u001b[1mTRAINING\u001b[0m \n",
      "\t\t\t\t\t NODE_ID: node_658efe2a-5e4b-4daf-9931-32eb6ecefc32 \n",
      "\t\t\t\t\t Epoch: 1 | Completed: 150/150 (100%) \n",
      " \t\t\t\t\t Loss perceptron: \u001b[1m1.455672\u001b[0m \n",
      "\t\t\t\t\t ---------\n",
      "2022-04-29 16:51:01,493 fedbiomed INFO - \u001b[1mTRAINING\u001b[0m \n",
      "\t\t\t\t\t NODE_ID: node_658efe2a-5e4b-4daf-9931-32eb6ecefc32 \n",
      "\t\t\t\t\t Epoch: 2 | Completed: 150/150 (100%) \n",
      " \t\t\t\t\t Loss perceptron: \u001b[1m1.946618\u001b[0m \n",
      "\t\t\t\t\t ---------\n",
      "2022-04-29 16:51:01,495 fedbiomed INFO - \u001b[1mTRAINING\u001b[0m \n",
      "\t\t\t\t\t NODE_ID: node_658efe2a-5e4b-4daf-9931-32eb6ecefc32 \n",
      "\t\t\t\t\t Epoch: 3 | Completed: 150/150 (100%) \n",
      " \t\t\t\t\t Loss perceptron: \u001b[1m1.429265\u001b[0m \n",
      "\t\t\t\t\t ---------\n",
      "2022-04-29 16:51:01,496 fedbiomed INFO - \u001b[1mTRAINING\u001b[0m \n",
      "\t\t\t\t\t NODE_ID: node_658efe2a-5e4b-4daf-9931-32eb6ecefc32 \n",
      "\t\t\t\t\t Epoch: 4 | Completed: 150/150 (100%) \n",
      " \t\t\t\t\t Loss perceptron: \u001b[1m1.820139\u001b[0m \n",
      "\t\t\t\t\t ---------\n",
      "2022-04-29 16:51:01,508 fedbiomed INFO - \u001b[1mINFO\u001b[0m\n",
      "\t\t\t\t\t\u001b[1m NODE\u001b[0m node_658efe2a-5e4b-4daf-9931-32eb6ecefc32\n",
      "\t\t\t\t\t\u001b[1m MESSAGE:\u001b[0m results uploaded successfully \u001b[0m\n",
      "-----------------------------------------------------------------\n",
      "2022-04-29 17:57:32,761 fedbiomed INFO - \u001b[1mCRITICAL\u001b[0m\n",
      "\t\t\t\t\t\u001b[1m NODE\u001b[0m node_658efe2a-5e4b-4daf-9931-32eb6ecefc32\n",
      "\t\t\t\t\t\u001b[1m MESSAGE:\u001b[0m Node stopped in signal_handler, probably by user decision (Ctrl C)\u001b[0m\n",
      "-----------------------------------------------------------------\n"
     ]
    }
   ],
   "source": [
    "# train experiments\n",
    "exp.run()"
   ]
  },
  {
   "cell_type": "markdown",
   "id": "88e2a782",
   "metadata": {},
   "source": [
    "## Lets validate the trained model with the test dataset c3.csv."
   ]
  },
  {
   "cell_type": "code",
   "execution_count": null,
   "id": "ec4439e6",
   "metadata": {},
   "outputs": [],
   "source": [
    "import pandas as pd"
   ]
  },
  {
   "cell_type": "code",
   "execution_count": null,
   "id": "6b970bd9",
   "metadata": {},
   "outputs": [],
   "source": [
    "data = pd.read_csv('== local path to c3.csv')"
   ]
  },
  {
   "cell_type": "code",
   "execution_count": null,
   "id": "91f579d5",
   "metadata": {},
   "outputs": [],
   "source": [
    "X_test = data.iloc[:,:n_features]\n",
    "y_test = data.iloc[:,n_features]"
   ]
  },
  {
   "cell_type": "markdown",
   "id": "63e6d380",
   "metadata": {},
   "source": [
    "F1 score computed with federated algorithm :\n",
    "\n",
    "For that, we are exporting `exp.aggregated_params()` containing models parameters collected at the end of each round"
   ]
  },
  {
   "cell_type": "code",
   "execution_count": null,
   "id": "6edb32ed",
   "metadata": {
    "pycharm": {
     "name": "#%%\n"
    }
   },
   "outputs": [],
   "source": [
    "from sklearn.metrics import f1_score\n",
    "loss_metric = f1_score\n",
    "    \n",
    "testing_error = []\n",
    "\n",
    "for i in range(rounds):\n",
    "    fed_model = exp.model_instance().get_model()\n",
    "    fed_model.coef_ = exp.aggregated_params()[i]['params']['coef_']\n",
    "    fed_model.intercept_ = exp.aggregated_params()[i]['params']['intercept_']\n",
    "    metric = loss_metric(fed_model.predict(X_test),y_test.ravel())\n",
    "    print('F1 score metric: ', metric, )\n",
    "    testing_error.append(metric)"
   ]
  }
 ],
 "metadata": {
  "kernelspec": {
   "display_name": "Python 3 (ipykernel)",
   "language": "python",
   "name": "python3"
  },
  "language_info": {
   "codemirror_mode": {
    "name": "ipython",
    "version": 3
   },
   "file_extension": ".py",
   "mimetype": "text/x-python",
   "name": "python",
   "nbconvert_exporter": "python",
   "pygments_lexer": "ipython3",
   "version": "3.9.12"
  }
 },
 "nbformat": 4,
 "nbformat_minor": 5
}

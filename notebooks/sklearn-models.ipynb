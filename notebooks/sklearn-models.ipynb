{
 "cells": [
  {
   "cell_type": "markdown",
   "id": "6c59bed7",
   "metadata": {},
   "source": [
    "# Fedbiomed Researcher to train a federated scikit learn model."
   ]
  },
  {
   "cell_type": "markdown",
   "id": "6dd9d920",
   "metadata": {},
   "source": [
    "## Perceptron\n",
    "Binary Classification\n",
    "### Purpose of the exercise :\n",
    "Three datasets `c1.csv` , `c2.csv` and `c3.csv` has been generated with a target column of 2 different classes.\n",
    "We will fit a Perceptron (classifier) using Federated Learning."
   ]
  },
  {
   "cell_type": "markdown",
   "id": "49a27982",
   "metadata": {},
   "source": [
    "### Get the data \n",
    "\n",
    "We use the make_classification dataset from sklearn datasets"
   ]
  },
  {
   "cell_type": "code",
   "execution_count": 17,
   "id": "7bfa83c3",
   "metadata": {},
   "outputs": [],
   "source": [
    "from sklearn import datasets\n",
    "import numpy as np"
   ]
  },
  {
   "cell_type": "code",
   "execution_count": 18,
   "id": "06060ce8",
   "metadata": {},
   "outputs": [
    {
     "data": {
      "text/plain": [
       "((300, 20), (300,))"
      ]
     },
     "execution_count": 18,
     "metadata": {},
     "output_type": "execute_result"
    }
   ],
   "source": [
    "X,y = datasets.make_classification(n_samples=300, n_features=20,n_clusters_per_class=2, weights=None, flip_y=0.01, class_sep=1.0, hypercube=True, shift=0.0, scale=1.0,shuffle=True, random_state=123)\n",
    "X.shape,y.shape"
   ]
  },
  {
   "cell_type": "code",
   "execution_count": 19,
   "id": "6406c9fb",
   "metadata": {},
   "outputs": [
    {
     "data": {
      "text/plain": [
       "array([0, 1])"
      ]
     },
     "execution_count": 19,
     "metadata": {},
     "output_type": "execute_result"
    }
   ],
   "source": [
    "np.unique(y)"
   ]
  },
  {
   "cell_type": "code",
   "execution_count": 11,
   "id": "bb3b58b7",
   "metadata": {},
   "outputs": [
    {
     "data": {
      "text/plain": [
       "((150, 20), (100, 20), (50, 20), (150, 1), (100, 1), (50, 1))"
      ]
     },
     "execution_count": 11,
     "metadata": {},
     "output_type": "execute_result"
    }
   ],
   "source": [
    "C1 = X[:150,:]\n",
    "C2 = X[150:250,:]\n",
    "C3 = X[250:300,:]\n",
    "\n",
    "y1 = y[:150].reshape([150,1])\n",
    "y2 = y[150:250].reshape([100,1])\n",
    "y3 = y[250:300].reshape([50,1])\n",
    "\n",
    "C1.shape ,C2.shape , C3.shape , y1.shape, y2.shape, y3.shape"
   ]
  },
  {
   "cell_type": "code",
   "execution_count": 12,
   "id": "3d3f1fbe",
   "metadata": {},
   "outputs": [],
   "source": [
    "n1 = np.concatenate((C1, y1), axis=1)\n",
    "np.savetxt('== local path to c1.csv',n1,delimiter=',')\n",
    "\n",
    "n2 = np.concatenate((C2, y2), axis=1)\n",
    "np.savetxt('== local path to c2.csv',n2,delimiter=',')\n",
    "\n",
    "n3 = np.concatenate((C3, y3), axis=1)\n",
    "np.savetxt('== local path to c3.csv',n3,delimiter=',')"
   ]
  },
  {
   "cell_type": "markdown",
   "id": "54e5fde5",
   "metadata": {},
   "source": [
    "### Start the network\n",
    "Before running this notebook, start the network with `./scripts/fedbiomed_run network`\n",
    "\n",
    "### Setting the node up\n",
    "Before running this notebook you need to configure 2 nodes: <br/>\n",
    "* **Node 1 :** `./scripts/fedbiomed_run node add`\n",
    "  * Select option 1 to add a csv file to the node\n",
    "  * Choose the name, tags and description of the dataset (you can write 'perp' always and it will be good)\n",
    "  * Pick the c1.csv file in your machine.\n",
    "  * Check that your data has been added in node 1 by executing `./scripts/fedbiomed_run node list`\n",
    "  * Run the node using `./scripts/fedbiomed_run node start`. <br/>\n",
    "\n",
    "* **Node 2 :** Open a second terminal and run ./scripts/fedbiomed_run node add config n2.ini\n",
    "  * Select option 1 to add a csv file to the node\n",
    "  * Choose the name, tags and description of the dataset (you can write 'perp' always and it will be good)\n",
    "  * Pick the c2.csv file in your machine.\n",
    "  * Check that your data has been added in node 2 by executing `./scripts/fedbiomed_run node config n2.ini list `\n",
    "  * Run the node using `./scripts/fedbiomed_run node config n2.ini start`.\n",
    " \n",
    "\n",
    " Wait until you get `Starting task manager`. it means node is online.\n"
   ]
  },
  {
   "cell_type": "code",
   "execution_count": 1,
   "id": "ade4cbea",
   "metadata": {},
   "outputs": [],
   "source": [
    "%load_ext autoreload\n",
    "%autoreload 2"
   ]
  },
  {
   "cell_type": "markdown",
   "id": "9f91e69a",
   "metadata": {},
   "source": [
    "**model_args** is a dictionnary containing your model arguments, in case of SGDRegressor this will be max_iter and tol.\n",
    "\n",
    "**training_args** is a dictionnary with parameters , related to Federated Learning. "
   ]
  },
  {
   "cell_type": "code",
   "execution_count": 2,
   "id": "3a28b429",
   "metadata": {},
   "outputs": [],
   "source": [
    "n_features = 20\n",
    "n_classes = 2\n",
    "\n",
    "model_args = {'max_iter':1000, 'tol': 1e-3 , \n",
    "               'n_features' : n_features, 'n_classes' : n_classes}\n",
    "\n",
    "training_args = {   \n",
    "    'epochs': 5, \n",
    "}"
   ]
  },
  {
   "cell_type": "markdown",
   "id": "8e9aaa87",
   "metadata": {},
   "source": [
    "Hereafter the template of the class you should provide to Fedbiomed :\n",
    "    \n",
    "**training_data** : you must return here the (X,y) that must be of the same type of \n",
    "your method partial_fit parameters. "
   ]
  },
  {
   "cell_type": "code",
   "execution_count": 3,
   "id": "f10cc76c",
   "metadata": {},
   "outputs": [],
   "source": [
    "from fedbiomed.common.training_plans import FedPerceptron\n",
    "from fedbiomed.common.data import DataManager\n",
    "class PerceptronTraining(FedPerceptron):\n",
    "    def __init__(self, model_args: dict = {}):\n",
    "        super().__init__(model_args)\n",
    "        self.add_dependency([\"from fedbiomed.common.training_plans import FedPerceptron\",\n",
    "                             \"from sklearn.linear_model import Perceptron\"])\n",
    "    \n",
    "    def training_data(self):\n",
    "        NUMBER_COLS = 20\n",
    "        dataset = pd.read_csv(self.dataset_path,header=None,delimiter=',')\n",
    "        X = dataset.iloc[:,0:NUMBER_COLS].values\n",
    "        y = dataset.iloc[:,NUMBER_COLS]       \n",
    "        return DataManager(dataset=X,target=y.values)"
   ]
  },
  {
   "cell_type": "code",
   "execution_count": 3,
   "id": "4b1a1341",
   "metadata": {},
   "outputs": [
    {
     "name": "stderr",
     "output_type": "stream",
     "text": [
      "2022-05-06 17:34:56,592 fedbiomed INFO - Component environment:\n",
      "2022-05-06 17:34:56,593 fedbiomed INFO - type = ComponentType.RESEARCHER\n",
      "2022-05-06 17:34:56,658 fedbiomed INFO - Messaging researcher_994d2281-2f1b-4f9e-84fe-61a703e1bdfe successfully connected to the message broker, object = <fedbiomed.common.messaging.Messaging object at 0x7f9657290d00>\n",
      "2022-05-06 17:34:56,684 fedbiomed INFO - Searching dataset with data tags: ['perp'] for all nodes\n",
      "2022-05-06 17:35:06,697 fedbiomed INFO - Node selected for training -> node_92294303-6bcf-4018-9a03-8a1fcdcbd1c6\n",
      "2022-05-06 17:35:06,699 fedbiomed INFO - Node selected for training -> node_658efe2a-5e4b-4daf-9931-32eb6ecefc32\n",
      "2022-05-06 17:35:06,702 fedbiomed INFO - Checking data quality of federated datasets...\n",
      "2022-05-06 17:35:06,706 fedbiomed DEBUG - Model file has been saved: /home/gentoo/Projects/Fedbiomed/fedbiomed/var/experiments/Experiment_0115/my_model_d76c4e63-4bd3-4815-b203-8e6f443f0d01.py\n",
      "2022-05-06 17:35:06,718 fedbiomed DEBUG - upload (HTTP POST request) of file /home/gentoo/Projects/Fedbiomed/fedbiomed/var/experiments/Experiment_0115/my_model_d76c4e63-4bd3-4815-b203-8e6f443f0d01.py successful, with status code 201\n",
      "2022-05-06 17:35:06,729 fedbiomed DEBUG - upload (HTTP POST request) of file /home/gentoo/Projects/Fedbiomed/fedbiomed/var/experiments/Experiment_0115/aggregated_params_init_19a3e1fc-acb1-4f51-b945-57869584eaf7.pt successful, with status code 201\n"
     ]
    },
    {
     "name": "stdout",
     "output_type": "stream",
     "text": [
      "model id sklearntarining plan 140283806599872\n",
      "sklearn models perceptron model get param {'alpha': 0.0001, 'class_weight': None, 'early_stopping': False, 'eta0': 1.0, 'fit_intercept': True, 'l1_ratio': 0.15, 'max_iter': 1000, 'n_iter_no_change': 5, 'n_jobs': None, 'penalty': None, 'random_state': 0, 'shuffle': True, 'tol': 0.001, 'validation_fraction': 0.1, 'verbose': 1, 'warm_start': False}\n",
      "perceptron model id  140283806599872\n"
     ]
    }
   ],
   "source": [
    "from fedbiomed.researcher.experiment import Experiment\n",
    "from fedbiomed.researcher.aggregators.fedavg import FedAverage\n",
    "\n",
    "tags =  ['perp']\n",
    "rounds = 2\n",
    "\n",
    "# search for corresponding datasets across nodes datasets\n",
    "exp = Experiment(tags=tags,\n",
    "                 model_args=model_args,\n",
    "                 model_class=PerceptronTraining,\n",
    "                 training_args=training_args,\n",
    "                 round_limit=rounds,\n",
    "                 aggregator=FedAverage(),\n",
    "                 node_selection_strategy=None)\n"
   ]
  },
  {
   "cell_type": "code",
   "execution_count": 4,
   "id": "33bd82cb",
   "metadata": {},
   "outputs": [
    {
     "name": "stderr",
     "output_type": "stream",
     "text": [
      "2022-05-06 17:35:06,732 fedbiomed INFO - Sampled nodes in round 0 ['node_92294303-6bcf-4018-9a03-8a1fcdcbd1c6', 'node_658efe2a-5e4b-4daf-9931-32eb6ecefc32']\n",
      "2022-05-06 17:35:06,733 fedbiomed INFO - \u001b[1mSending request\u001b[0m \n",
      "\t\t\t\t\t\u001b[1m To\u001b[0m: node_92294303-6bcf-4018-9a03-8a1fcdcbd1c6 \n",
      "\t\t\t\t\t\u001b[1m Request: \u001b[0m: Perform training with the arguments: {'researcher_id': 'researcher_994d2281-2f1b-4f9e-84fe-61a703e1bdfe', 'job_id': '40ecd359-2e35-404d-8126-61ae68b12c13', 'training_args': {'test_ratio': 0.0, 'test_on_local_updates': False, 'test_on_global_updates': False, 'test_metric': None, 'test_metric_args': {}, 'epochs': 5}, 'training': True, 'model_args': {'max_iter': 1000, 'tol': 0.001, 'n_features': 20, 'n_classes': 2, 'verbose': 1}, 'command': 'train', 'model_url': 'http://localhost:8844/media/uploads/2022/05/06/my_model_d76c4e63-4bd3-4815-b203-8e6f443f0d01.py', 'params_url': 'http://localhost:8844/media/uploads/2022/05/06/aggregated_params_init_19a3e1fc-acb1-4f51-b945-57869584eaf7.pt', 'model_class': 'PerceptronTraining', 'training_data': {'node_92294303-6bcf-4018-9a03-8a1fcdcbd1c6': ['dataset_85dbe3b2-92c0-42ed-bf2c-4be87275e95d']}} \n",
      " -----------------------------------------------------------------\n",
      "2022-05-06 17:35:06,733 fedbiomed DEBUG - researcher_994d2281-2f1b-4f9e-84fe-61a703e1bdfe\n",
      "2022-05-06 17:35:06,734 fedbiomed INFO - \u001b[1mSending request\u001b[0m \n",
      "\t\t\t\t\t\u001b[1m To\u001b[0m: node_658efe2a-5e4b-4daf-9931-32eb6ecefc32 \n",
      "\t\t\t\t\t\u001b[1m Request: \u001b[0m: Perform training with the arguments: {'researcher_id': 'researcher_994d2281-2f1b-4f9e-84fe-61a703e1bdfe', 'job_id': '40ecd359-2e35-404d-8126-61ae68b12c13', 'training_args': {'test_ratio': 0.0, 'test_on_local_updates': False, 'test_on_global_updates': False, 'test_metric': None, 'test_metric_args': {}, 'epochs': 5}, 'training': True, 'model_args': {'max_iter': 1000, 'tol': 0.001, 'n_features': 20, 'n_classes': 2, 'verbose': 1}, 'command': 'train', 'model_url': 'http://localhost:8844/media/uploads/2022/05/06/my_model_d76c4e63-4bd3-4815-b203-8e6f443f0d01.py', 'params_url': 'http://localhost:8844/media/uploads/2022/05/06/aggregated_params_init_19a3e1fc-acb1-4f51-b945-57869584eaf7.pt', 'model_class': 'PerceptronTraining', 'training_data': {'node_658efe2a-5e4b-4daf-9931-32eb6ecefc32': ['dataset_6ca6e860-8692-40f3-8402-4c9e3cd286e3']}} \n",
      " -----------------------------------------------------------------\n",
      "2022-05-06 17:35:06,734 fedbiomed DEBUG - researcher_994d2281-2f1b-4f9e-84fe-61a703e1bdfe\n",
      "2022-05-06 17:35:06,744 fedbiomed INFO - \u001b[1mWARNING\u001b[0m\n",
      "\t\t\t\t\t\u001b[1m NODE\u001b[0m node_92294303-6bcf-4018-9a03-8a1fcdcbd1c6\n",
      "\t\t\t\t\t\u001b[1m MESSAGE:\u001b[0m There is no test activated for the round. Please set flag for `test_on_global_updates`, `test_on_local_updates`, or both. Splitting dataset for testing will be ignored\u001b[0m\n",
      "-----------------------------------------------------------------\n",
      "2022-05-06 17:35:06,745 fedbiomed INFO - \u001b[1mWARNING\u001b[0m\n",
      "\t\t\t\t\t\u001b[1m NODE\u001b[0m node_658efe2a-5e4b-4daf-9931-32eb6ecefc32\n",
      "\t\t\t\t\t\u001b[1m MESSAGE:\u001b[0m There is no test activated for the round. Please set flag for `test_on_global_updates`, `test_on_local_updates`, or both. Splitting dataset for testing will be ignored\u001b[0m\n",
      "-----------------------------------------------------------------\n",
      "2022-05-06 17:35:06,746 fedbiomed INFO - \u001b[1mINFO\u001b[0m\n",
      "\t\t\t\t\t\u001b[1m NODE\u001b[0m node_92294303-6bcf-4018-9a03-8a1fcdcbd1c6\n",
      "\t\t\t\t\t\u001b[1m MESSAGE:\u001b[0m training with arguments {'history_monitor': <fedbiomed.node.history_monitor.HistoryMonitor object at 0x7f2b562558b0>, 'node_args': {'gpu': False, 'gpu_num': None, 'gpu_only': False}, 'epochs': 5}\u001b[0m\n",
      "-----------------------------------------------------------------\n",
      "2022-05-06 17:35:06,748 fedbiomed INFO - \u001b[1mTRAINING\u001b[0m \n",
      "\t\t\t\t\t NODE_ID: node_92294303-6bcf-4018-9a03-8a1fcdcbd1c6 \n",
      "\t\t\t\t\t Epoch: 0 | Completed: 100/100 (100%) \n",
      " \t\t\t\t\t Loss perceptron: \u001b[1m2.286140\u001b[0m \n",
      "\t\t\t\t\t ---------\n",
      "2022-05-06 17:35:06,749 fedbiomed INFO - \u001b[1mINFO\u001b[0m\n",
      "\t\t\t\t\t\u001b[1m NODE\u001b[0m node_658efe2a-5e4b-4daf-9931-32eb6ecefc32\n",
      "\t\t\t\t\t\u001b[1m MESSAGE:\u001b[0m training with arguments {'history_monitor': <fedbiomed.node.history_monitor.HistoryMonitor object at 0x7f82afd2ec10>, 'node_args': {'gpu': False, 'gpu_num': None, 'gpu_only': False}, 'epochs': 5}\u001b[0m\n",
      "-----------------------------------------------------------------\n",
      "2022-05-06 17:35:06,750 fedbiomed INFO - \u001b[1mTRAINING\u001b[0m \n",
      "\t\t\t\t\t NODE_ID: node_92294303-6bcf-4018-9a03-8a1fcdcbd1c6 \n",
      "\t\t\t\t\t Epoch: 1 | Completed: 100/100 (100%) \n",
      " \t\t\t\t\t Loss perceptron: \u001b[1m1.832319\u001b[0m \n",
      "\t\t\t\t\t ---------\n",
      "2022-05-06 17:35:06,751 fedbiomed INFO - \u001b[1mTRAINING\u001b[0m \n",
      "\t\t\t\t\t NODE_ID: node_92294303-6bcf-4018-9a03-8a1fcdcbd1c6 \n",
      "\t\t\t\t\t Epoch: 2 | Completed: 100/100 (100%) \n",
      " \t\t\t\t\t Loss perceptron: \u001b[1m1.389074\u001b[0m \n",
      "\t\t\t\t\t ---------\n",
      "2022-05-06 17:35:06,752 fedbiomed INFO - \u001b[1mTRAINING\u001b[0m \n",
      "\t\t\t\t\t NODE_ID: node_658efe2a-5e4b-4daf-9931-32eb6ecefc32 \n",
      "\t\t\t\t\t Epoch: 0 | Completed: 150/150 (100%) \n",
      " \t\t\t\t\t Loss perceptron: \u001b[1m1.516319\u001b[0m \n",
      "\t\t\t\t\t ---------\n",
      "2022-05-06 17:35:06,753 fedbiomed INFO - \u001b[1mTRAINING\u001b[0m \n",
      "\t\t\t\t\t NODE_ID: node_658efe2a-5e4b-4daf-9931-32eb6ecefc32 \n",
      "\t\t\t\t\t Epoch: 1 | Completed: 150/150 (100%) \n",
      " \t\t\t\t\t Loss perceptron: \u001b[1m1.656794\u001b[0m \n",
      "\t\t\t\t\t ---------\n",
      "2022-05-06 17:35:06,753 fedbiomed INFO - \u001b[1mTRAINING\u001b[0m \n",
      "\t\t\t\t\t NODE_ID: node_92294303-6bcf-4018-9a03-8a1fcdcbd1c6 \n",
      "\t\t\t\t\t Epoch: 3 | Completed: 100/100 (100%) \n",
      " \t\t\t\t\t Loss perceptron: \u001b[1m1.343954\u001b[0m \n",
      "\t\t\t\t\t ---------\n",
      "2022-05-06 17:35:06,754 fedbiomed INFO - \u001b[1mTRAINING\u001b[0m \n",
      "\t\t\t\t\t NODE_ID: node_658efe2a-5e4b-4daf-9931-32eb6ecefc32 \n",
      "\t\t\t\t\t Epoch: 2 | Completed: 150/150 (100%) \n",
      " \t\t\t\t\t Loss perceptron: \u001b[1m1.464042\u001b[0m \n",
      "\t\t\t\t\t ---------\n",
      "2022-05-06 17:35:06,755 fedbiomed INFO - \u001b[1mTRAINING\u001b[0m \n",
      "\t\t\t\t\t NODE_ID: node_92294303-6bcf-4018-9a03-8a1fcdcbd1c6 \n",
      "\t\t\t\t\t Epoch: 4 | Completed: 100/100 (100%) \n",
      " \t\t\t\t\t Loss perceptron: \u001b[1m1.207853\u001b[0m \n",
      "\t\t\t\t\t ---------\n",
      "2022-05-06 17:35:06,755 fedbiomed INFO - \u001b[1mTRAINING\u001b[0m \n",
      "\t\t\t\t\t NODE_ID: node_658efe2a-5e4b-4daf-9931-32eb6ecefc32 \n",
      "\t\t\t\t\t Epoch: 3 | Completed: 150/150 (100%) \n",
      " \t\t\t\t\t Loss perceptron: \u001b[1m1.858264\u001b[0m \n",
      "\t\t\t\t\t ---------\n",
      "2022-05-06 17:35:06,757 fedbiomed INFO - \u001b[1mTRAINING\u001b[0m \n",
      "\t\t\t\t\t NODE_ID: node_658efe2a-5e4b-4daf-9931-32eb6ecefc32 \n",
      "\t\t\t\t\t Epoch: 4 | Completed: 150/150 (100%) \n",
      " \t\t\t\t\t Loss perceptron: \u001b[1m1.630331\u001b[0m \n",
      "\t\t\t\t\t ---------\n",
      "2022-05-06 17:35:06,769 fedbiomed INFO - \u001b[1mINFO\u001b[0m\n",
      "\t\t\t\t\t\u001b[1m NODE\u001b[0m node_92294303-6bcf-4018-9a03-8a1fcdcbd1c6\n",
      "\t\t\t\t\t\u001b[1m MESSAGE:\u001b[0m results uploaded successfully \u001b[0m\n",
      "-----------------------------------------------------------------\n",
      "2022-05-06 17:35:06,773 fedbiomed INFO - \u001b[1mINFO\u001b[0m\n",
      "\t\t\t\t\t\u001b[1m NODE\u001b[0m node_658efe2a-5e4b-4daf-9931-32eb6ecefc32\n",
      "\t\t\t\t\t\u001b[1m MESSAGE:\u001b[0m results uploaded successfully \u001b[0m\n",
      "-----------------------------------------------------------------\n",
      "2022-05-06 17:35:16,742 fedbiomed INFO - Downloading model params after training on node_92294303-6bcf-4018-9a03-8a1fcdcbd1c6 - from http://localhost:8844/media/uploads/2022/05/06/node_params_3630bd70-f00b-4c41-8d67-d9c78a3cc2a5.pt\n",
      "2022-05-06 17:35:16,754 fedbiomed DEBUG - upload (HTTP GET request) of file node_params_c4d058d2-ff57-43c2-9c66-b208e024d5f0.pt successful, with status code 200\n",
      "2022-05-06 17:35:16,756 fedbiomed INFO - Downloading model params after training on node_658efe2a-5e4b-4daf-9931-32eb6ecefc32 - from http://localhost:8844/media/uploads/2022/05/06/node_params_f8ce056c-5cd1-4e4c-98b3-5239bb1b8b6c.pt\n",
      "2022-05-06 17:35:16,759 fedbiomed DEBUG - upload (HTTP GET request) of file node_params_f6a511de-7cc7-4856-ab14-e05c7e962991.pt successful, with status code 200\n",
      "2022-05-06 17:35:16,761 fedbiomed INFO - Nodes that successfully reply in round 0 ['node_92294303-6bcf-4018-9a03-8a1fcdcbd1c6', 'node_658efe2a-5e4b-4daf-9931-32eb6ecefc32']\n",
      "2022-05-06 17:35:16,775 fedbiomed DEBUG - upload (HTTP POST request) of file /home/gentoo/Projects/Fedbiomed/fedbiomed/var/experiments/Experiment_0115/aggregated_params_99ee4cb0-3ae1-4b48-9a08-4b9cec2f1086.pt successful, with status code 201\n",
      "2022-05-06 17:35:16,775 fedbiomed INFO - Saved aggregated params for round 0 in /home/gentoo/Projects/Fedbiomed/fedbiomed/var/experiments/Experiment_0115/aggregated_params_99ee4cb0-3ae1-4b48-9a08-4b9cec2f1086.pt\n",
      "2022-05-06 17:35:16,776 fedbiomed INFO - Sampled nodes in round 1 ['node_92294303-6bcf-4018-9a03-8a1fcdcbd1c6', 'node_658efe2a-5e4b-4daf-9931-32eb6ecefc32']\n"
     ]
    },
    {
     "name": "stderr",
     "output_type": "stream",
     "text": [
      "2022-05-06 17:35:16,776 fedbiomed INFO - \u001b[1mSending request\u001b[0m \n",
      "\t\t\t\t\t\u001b[1m To\u001b[0m: node_92294303-6bcf-4018-9a03-8a1fcdcbd1c6 \n",
      "\t\t\t\t\t\u001b[1m Request: \u001b[0m: Perform training with the arguments: {'researcher_id': 'researcher_994d2281-2f1b-4f9e-84fe-61a703e1bdfe', 'job_id': '40ecd359-2e35-404d-8126-61ae68b12c13', 'training_args': {'test_ratio': 0.0, 'test_on_local_updates': False, 'test_on_global_updates': False, 'test_metric': None, 'test_metric_args': {}, 'epochs': 5}, 'training': True, 'model_args': {'max_iter': 1000, 'tol': 0.001, 'n_features': 20, 'n_classes': 2, 'verbose': 1}, 'command': 'train', 'model_url': 'http://localhost:8844/media/uploads/2022/05/06/my_model_d76c4e63-4bd3-4815-b203-8e6f443f0d01.py', 'params_url': 'http://localhost:8844/media/uploads/2022/05/06/aggregated_params_99ee4cb0-3ae1-4b48-9a08-4b9cec2f1086.pt', 'model_class': 'PerceptronTraining', 'training_data': {'node_92294303-6bcf-4018-9a03-8a1fcdcbd1c6': ['dataset_85dbe3b2-92c0-42ed-bf2c-4be87275e95d']}} \n",
      " -----------------------------------------------------------------\n",
      "2022-05-06 17:35:16,777 fedbiomed DEBUG - researcher_994d2281-2f1b-4f9e-84fe-61a703e1bdfe\n",
      "2022-05-06 17:35:16,777 fedbiomed INFO - \u001b[1mSending request\u001b[0m \n",
      "\t\t\t\t\t\u001b[1m To\u001b[0m: node_658efe2a-5e4b-4daf-9931-32eb6ecefc32 \n",
      "\t\t\t\t\t\u001b[1m Request: \u001b[0m: Perform training with the arguments: {'researcher_id': 'researcher_994d2281-2f1b-4f9e-84fe-61a703e1bdfe', 'job_id': '40ecd359-2e35-404d-8126-61ae68b12c13', 'training_args': {'test_ratio': 0.0, 'test_on_local_updates': False, 'test_on_global_updates': False, 'test_metric': None, 'test_metric_args': {}, 'epochs': 5}, 'training': True, 'model_args': {'max_iter': 1000, 'tol': 0.001, 'n_features': 20, 'n_classes': 2, 'verbose': 1}, 'command': 'train', 'model_url': 'http://localhost:8844/media/uploads/2022/05/06/my_model_d76c4e63-4bd3-4815-b203-8e6f443f0d01.py', 'params_url': 'http://localhost:8844/media/uploads/2022/05/06/aggregated_params_99ee4cb0-3ae1-4b48-9a08-4b9cec2f1086.pt', 'model_class': 'PerceptronTraining', 'training_data': {'node_658efe2a-5e4b-4daf-9931-32eb6ecefc32': ['dataset_6ca6e860-8692-40f3-8402-4c9e3cd286e3']}} \n",
      " -----------------------------------------------------------------\n",
      "2022-05-06 17:35:16,777 fedbiomed DEBUG - researcher_994d2281-2f1b-4f9e-84fe-61a703e1bdfe\n",
      "2022-05-06 17:35:16,787 fedbiomed INFO - \u001b[1mWARNING\u001b[0m\n",
      "\t\t\t\t\t\u001b[1m NODE\u001b[0m node_658efe2a-5e4b-4daf-9931-32eb6ecefc32\n",
      "\t\t\t\t\t\u001b[1m MESSAGE:\u001b[0m There is no test activated for the round. Please set flag for `test_on_global_updates`, `test_on_local_updates`, or both. Splitting dataset for testing will be ignored\u001b[0m\n",
      "-----------------------------------------------------------------\n",
      "2022-05-06 17:35:16,788 fedbiomed INFO - \u001b[1mWARNING\u001b[0m\n",
      "\t\t\t\t\t\u001b[1m NODE\u001b[0m node_92294303-6bcf-4018-9a03-8a1fcdcbd1c6\n",
      "\t\t\t\t\t\u001b[1m MESSAGE:\u001b[0m There is no test activated for the round. Please set flag for `test_on_global_updates`, `test_on_local_updates`, or both. Splitting dataset for testing will be ignored\u001b[0m\n",
      "-----------------------------------------------------------------\n",
      "2022-05-06 17:35:16,790 fedbiomed INFO - \u001b[1mINFO\u001b[0m\n",
      "\t\t\t\t\t\u001b[1m NODE\u001b[0m node_92294303-6bcf-4018-9a03-8a1fcdcbd1c6\n",
      "\t\t\t\t\t\u001b[1m MESSAGE:\u001b[0m training with arguments {'history_monitor': <fedbiomed.node.history_monitor.HistoryMonitor object at 0x7f2b5624fc40>, 'node_args': {'gpu': False, 'gpu_num': None, 'gpu_only': False}, 'epochs': 5}\u001b[0m\n",
      "-----------------------------------------------------------------\n",
      "2022-05-06 17:35:16,791 fedbiomed INFO - \u001b[1mINFO\u001b[0m\n",
      "\t\t\t\t\t\u001b[1m NODE\u001b[0m node_658efe2a-5e4b-4daf-9931-32eb6ecefc32\n",
      "\t\t\t\t\t\u001b[1m MESSAGE:\u001b[0m training with arguments {'history_monitor': <fedbiomed.node.history_monitor.HistoryMonitor object at 0x7f82affd1be0>, 'node_args': {'gpu': False, 'gpu_num': None, 'gpu_only': False}, 'epochs': 5}\u001b[0m\n",
      "-----------------------------------------------------------------\n",
      "2022-05-06 17:35:16,791 fedbiomed INFO - \u001b[1mTRAINING\u001b[0m \n",
      "\t\t\t\t\t NODE_ID: node_658efe2a-5e4b-4daf-9931-32eb6ecefc32 \n",
      "\t\t\t\t\t Epoch: 0 | Completed: 150/150 (100%) \n",
      " \t\t\t\t\t Loss perceptron: \u001b[1m1.524812\u001b[0m \n",
      "\t\t\t\t\t ---------\n",
      "2022-05-06 17:35:16,792 fedbiomed INFO - \u001b[1mTRAINING\u001b[0m \n",
      "\t\t\t\t\t NODE_ID: node_92294303-6bcf-4018-9a03-8a1fcdcbd1c6 \n",
      "\t\t\t\t\t Epoch: 0 | Completed: 100/100 (100%) \n",
      " \t\t\t\t\t Loss perceptron: \u001b[1m1.766652\u001b[0m \n",
      "\t\t\t\t\t ---------\n",
      "2022-05-06 17:35:16,793 fedbiomed INFO - \u001b[1mTRAINING\u001b[0m \n",
      "\t\t\t\t\t NODE_ID: node_658efe2a-5e4b-4daf-9931-32eb6ecefc32 \n",
      "\t\t\t\t\t Epoch: 1 | Completed: 150/150 (100%) \n",
      " \t\t\t\t\t Loss perceptron: \u001b[1m1.484561\u001b[0m \n",
      "\t\t\t\t\t ---------\n",
      "2022-05-06 17:35:16,794 fedbiomed INFO - \u001b[1mTRAINING\u001b[0m \n",
      "\t\t\t\t\t NODE_ID: node_92294303-6bcf-4018-9a03-8a1fcdcbd1c6 \n",
      "\t\t\t\t\t Epoch: 1 | Completed: 100/100 (100%) \n",
      " \t\t\t\t\t Loss perceptron: \u001b[1m1.055066\u001b[0m \n",
      "\t\t\t\t\t ---------\n",
      "2022-05-06 17:35:16,794 fedbiomed INFO - \u001b[1mTRAINING\u001b[0m \n",
      "\t\t\t\t\t NODE_ID: node_92294303-6bcf-4018-9a03-8a1fcdcbd1c6 \n",
      "\t\t\t\t\t Epoch: 2 | Completed: 100/100 (100%) \n",
      " \t\t\t\t\t Loss perceptron: \u001b[1m1.487928\u001b[0m \n",
      "\t\t\t\t\t ---------\n",
      "2022-05-06 17:35:16,795 fedbiomed INFO - \u001b[1mTRAINING\u001b[0m \n",
      "\t\t\t\t\t NODE_ID: node_658efe2a-5e4b-4daf-9931-32eb6ecefc32 \n",
      "\t\t\t\t\t Epoch: 2 | Completed: 150/150 (100%) \n",
      " \t\t\t\t\t Loss perceptron: \u001b[1m1.662112\u001b[0m \n",
      "\t\t\t\t\t ---------\n",
      "2022-05-06 17:35:16,799 fedbiomed INFO - \u001b[1mTRAINING\u001b[0m \n",
      "\t\t\t\t\t NODE_ID: node_92294303-6bcf-4018-9a03-8a1fcdcbd1c6 \n",
      "\t\t\t\t\t Epoch: 3 | Completed: 100/100 (100%) \n",
      " \t\t\t\t\t Loss perceptron: \u001b[1m1.652867\u001b[0m \n",
      "\t\t\t\t\t ---------\n",
      "2022-05-06 17:35:16,799 fedbiomed INFO - \u001b[1mTRAINING\u001b[0m \n",
      "\t\t\t\t\t NODE_ID: node_658efe2a-5e4b-4daf-9931-32eb6ecefc32 \n",
      "\t\t\t\t\t Epoch: 3 | Completed: 150/150 (100%) \n",
      " \t\t\t\t\t Loss perceptron: \u001b[1m1.609677\u001b[0m \n",
      "\t\t\t\t\t ---------\n",
      "2022-05-06 17:35:16,802 fedbiomed INFO - \u001b[1mTRAINING\u001b[0m \n",
      "\t\t\t\t\t NODE_ID: node_92294303-6bcf-4018-9a03-8a1fcdcbd1c6 \n",
      "\t\t\t\t\t Epoch: 4 | Completed: 100/100 (100%) \n",
      " \t\t\t\t\t Loss perceptron: \u001b[1m1.709322\u001b[0m \n",
      "\t\t\t\t\t ---------\n",
      "2022-05-06 17:35:16,806 fedbiomed INFO - \u001b[1mTRAINING\u001b[0m \n",
      "\t\t\t\t\t NODE_ID: node_658efe2a-5e4b-4daf-9931-32eb6ecefc32 \n",
      "\t\t\t\t\t Epoch: 4 | Completed: 150/150 (100%) \n",
      " \t\t\t\t\t Loss perceptron: \u001b[1m1.695548\u001b[0m \n",
      "\t\t\t\t\t ---------\n",
      "2022-05-06 17:35:16,811 fedbiomed INFO - \u001b[1mINFO\u001b[0m\n",
      "\t\t\t\t\t\u001b[1m NODE\u001b[0m node_658efe2a-5e4b-4daf-9931-32eb6ecefc32\n",
      "\t\t\t\t\t\u001b[1m MESSAGE:\u001b[0m results uploaded successfully \u001b[0m\n",
      "-----------------------------------------------------------------\n",
      "2022-05-06 17:35:16,819 fedbiomed INFO - \u001b[1mINFO\u001b[0m\n",
      "\t\t\t\t\t\u001b[1m NODE\u001b[0m node_92294303-6bcf-4018-9a03-8a1fcdcbd1c6\n",
      "\t\t\t\t\t\u001b[1m MESSAGE:\u001b[0m results uploaded successfully \u001b[0m\n",
      "-----------------------------------------------------------------\n"
     ]
    },
    {
     "name": "stdout",
     "output_type": "stream",
     "text": [
      "functional, avg_params {'intercept_': array([5.]), 'coef_': array([[-0.12474042,  5.66732564, -6.3416912 , -4.51930135,  0.75957523,\n",
      "         4.55437519, -2.73479259,  4.6809859 , 10.86244747, -2.80533604,\n",
      "         0.14944813,  6.32690381,  6.0994531 ,  0.4334556 , 17.52621439,\n",
      "         3.02164415,  1.45598664,  1.90231433,  0.88189201,  3.38628669]])}\n",
      "model_params [{'intercept_': array([5.]), 'coef_': array([[-0.12474042,  5.66732564, -6.3416912 , -4.51930135,  0.75957523,\n",
      "         4.55437519, -2.73479259,  4.6809859 , 10.86244747, -2.80533604,\n",
      "         0.14944813,  6.32690381,  6.0994531 ,  0.4334556 , 17.52621439,\n",
      "         3.02164415,  1.45598664,  1.90231433,  0.88189201,  3.38628669]])}, {'intercept_': array([1.]), 'coef_': array([[-2.16376827,  1.0088073 , -3.6794123 ,  3.49096956,  5.79394287,\n",
      "        -0.31781383, -6.59000541, -1.16107907,  8.60159037, -1.96699011,\n",
      "         1.14419943,  7.66078309, -0.19299558, -3.97413981, 17.6455732 ,\n",
      "         4.86684449, -3.46780145, -0.60764394, -2.68743848,  0.39646045]])}]\n",
      "key intercept_\n",
      "val [5.]\n",
      "key coef_\n",
      "val [[-0.12474042  5.66732564 -6.3416912  -4.51930135  0.75957523  4.55437519\n",
      "  -2.73479259  4.6809859  10.86244747 -2.80533604  0.14944813  6.32690381\n",
      "   6.0994531   0.4334556  17.52621439  3.02164415  1.45598664  1.90231433\n",
      "   0.88189201  3.38628669]]\n"
     ]
    },
    {
     "name": "stderr",
     "output_type": "stream",
     "text": [
      "2022-05-06 17:35:26,790 fedbiomed INFO - Downloading model params after training on node_658efe2a-5e4b-4daf-9931-32eb6ecefc32 - from http://localhost:8844/media/uploads/2022/05/06/node_params_4237f2f1-7001-4014-aacb-665d843b084a.pt\n",
      "2022-05-06 17:35:26,804 fedbiomed DEBUG - upload (HTTP GET request) of file node_params_340c6efd-340f-481f-a7ad-14917ab7bd6a.pt successful, with status code 200\n",
      "2022-05-06 17:35:26,808 fedbiomed INFO - Downloading model params after training on node_92294303-6bcf-4018-9a03-8a1fcdcbd1c6 - from http://localhost:8844/media/uploads/2022/05/06/node_params_06619bab-5611-418d-82ab-bf8665bbadf2.pt\n",
      "2022-05-06 17:35:26,822 fedbiomed DEBUG - upload (HTTP GET request) of file node_params_0bb19f09-09c3-417b-8773-91a33b4a86cf.pt successful, with status code 200\n",
      "2022-05-06 17:35:26,830 fedbiomed INFO - Nodes that successfully reply in round 1 ['node_658efe2a-5e4b-4daf-9931-32eb6ecefc32', 'node_92294303-6bcf-4018-9a03-8a1fcdcbd1c6']\n",
      "2022-05-06 17:35:26,859 fedbiomed DEBUG - upload (HTTP POST request) of file /home/gentoo/Projects/Fedbiomed/fedbiomed/var/experiments/Experiment_0115/aggregated_params_a4cf43d7-355a-480a-b563-0971f5c3e3fb.pt successful, with status code 201\n",
      "2022-05-06 17:35:26,859 fedbiomed INFO - Saved aggregated params for round 1 in /home/gentoo/Projects/Fedbiomed/fedbiomed/var/experiments/Experiment_0115/aggregated_params_a4cf43d7-355a-480a-b563-0971f5c3e3fb.pt\n"
     ]
    },
    {
     "name": "stdout",
     "output_type": "stream",
     "text": [
      "functional, avg_params {'intercept_': array([2.6]), 'coef_': array([[-4.23933644e-01, -5.74644172e-04, -9.34072679e-01,\n",
      "         4.93367363e+00,  2.61774435e+00, -3.80790588e-01,\n",
      "        -7.58171075e+00, -1.84849395e+00,  1.23454891e+01,\n",
      "        -3.87859801e+00, -4.80808399e-01,  7.55290974e+00,\n",
      "        -1.71337036e+00, -3.57203845e+00,  2.04338065e+01,\n",
      "         2.67574587e+00, -5.36194682e-01,  1.49016823e+00,\n",
      "        -3.36832151e+00,  3.14003880e+00]])}\n",
      "model_params [{'intercept_': array([2.6]), 'coef_': array([[-4.23933644e-01, -5.74644172e-04, -9.34072679e-01,\n",
      "         4.93367363e+00,  2.61774435e+00, -3.80790588e-01,\n",
      "        -7.58171075e+00, -1.84849395e+00,  1.23454891e+01,\n",
      "        -3.87859801e+00, -4.80808399e-01,  7.55290974e+00,\n",
      "        -1.71337036e+00, -3.57203845e+00,  2.04338065e+01,\n",
      "         2.67574587e+00, -5.36194682e-01,  1.49016823e+00,\n",
      "        -3.36832151e+00,  3.14003880e+00]])}, {'intercept_': array([2.6]), 'coef_': array([[ 2.3350742 ,  5.50478077, -7.53124499, -4.26338132,  0.4039308 ,\n",
      "         6.16475504, -3.31707724,  2.85471997, 15.2258918 , -3.28944023,\n",
      "        -0.58791721,  5.64655207,  6.44742641, -0.84313622, 19.98761996,\n",
      "         6.45117223,  2.24741109,  1.41440404, -1.38138039,  4.76410446]])}]\n",
      "key intercept_\n",
      "val [2.6]\n",
      "key coef_\n",
      "val [[-4.23933644e-01 -5.74644172e-04 -9.34072679e-01  4.93367363e+00\n",
      "   2.61774435e+00 -3.80790588e-01 -7.58171075e+00 -1.84849395e+00\n",
      "   1.23454891e+01 -3.87859801e+00 -4.80808399e-01  7.55290974e+00\n",
      "  -1.71337036e+00 -3.57203845e+00  2.04338065e+01  2.67574587e+00\n",
      "  -5.36194682e-01  1.49016823e+00 -3.36832151e+00  3.14003880e+00]]\n"
     ]
    },
    {
     "data": {
      "text/plain": [
       "2"
      ]
     },
     "execution_count": 4,
     "metadata": {},
     "output_type": "execute_result"
    }
   ],
   "source": [
    "exp.run()"
   ]
  },
  {
   "cell_type": "markdown",
   "id": "88e2a782",
   "metadata": {},
   "source": [
    "## Lets validate the trained model with the test dataset c3.csv."
   ]
  },
  {
   "cell_type": "code",
   "execution_count": 25,
   "id": "ec4439e6",
   "metadata": {},
   "outputs": [],
   "source": [
    "import pandas as pd"
   ]
  },
  {
   "cell_type": "code",
   "execution_count": 26,
   "id": "6b970bd9",
   "metadata": {},
   "outputs": [],
   "source": [
    "data = pd.read_csv('== local path to c3.csv')"
   ]
  },
  {
   "cell_type": "code",
   "execution_count": 27,
   "id": "91f579d5",
   "metadata": {},
   "outputs": [],
   "source": [
    "X_test = data.iloc[:,:n_features]\n",
    "y_test = data.iloc[:,n_features]"
   ]
  },
  {
   "cell_type": "markdown",
   "id": "63e6d380",
   "metadata": {},
   "source": [
    "F1 score computed with federated algorithm :\n",
    "\n",
    "For that, we are exporting `exp.aggregated_params()` containing models parameters collected at the end of each round"
   ]
  },
  {
   "cell_type": "code",
   "execution_count": 28,
   "id": "6edb32ed",
   "metadata": {
    "pycharm": {
     "name": "#%%\n"
    }
   },
   "outputs": [
    {
     "name": "stdout",
     "output_type": "stream",
     "text": [
      "F1 score metric:  0.8727272727272727\n",
      "F1 score metric:  0.8627450980392156\n"
     ]
    }
   ],
   "source": [
    "from sklearn.metrics import f1_score\n",
    "loss_metric = f1_score\n",
    "    \n",
    "testing_error = []\n",
    "\n",
    "for i in range(rounds):\n",
    "    fed_model = exp.model_instance().get_model()\n",
    "    fed_model.coef_ = exp.aggregated_params()[i]['params']['coef_']\n",
    "    fed_model.intercept_ = exp.aggregated_params()[i]['params']['intercept_']\n",
    "    metric = loss_metric(fed_model.predict(X_test),y_test.ravel())\n",
    "    print('F1 score metric: ', metric, )\n",
    "    testing_error.append(metric)"
   ]
  },
  {
   "cell_type": "markdown",
   "id": "1db472de",
   "metadata": {},
   "source": [
    "##  SGD regressor\n",
    "\n",
    "### Data \n",
    "\n",
    "\n",
    "This tutorial shows how to deploy in Fed-BioMed to solve a federated regression problem with scikit-learn.\n",
    "\n",
    "In this tutorial we are using the wrapper of Fed-BioMed for the SGD regressor (https://scikit-learn.org/stable/modules/generated/sklearn.linear_model.SGDRegressor.html).\n",
    "The goal of the notebook is to train a model on a realistic dataset of (synthetic) medical information mimicking the ADNI dataset (http://adni.loni.usc.edu/). \n",
    "\n",
    "### Creating nodes\n",
    "\n",
    "To proceed with the tutorial, we create 3 clients with corresponding dataframes of clinical information in .csv format. Each client has 300 data points composed by several features corresponding to clinical and medical imaging informations. **The data is entirely synthetic and randomly sampled to mimick the variability of the real ADNI dataset**. The training partitions are availables at the following link:\n",
    "\n",
    "https://drive.google.com/file/d/1R39Ir60oQi8ZnmHoPz5CoGCrVIglcO9l/view?usp=sharing\n",
    "\n",
    "The federated task we aim at solve is to predict a clinical variable (the mini-mental state examination, MMSE) from a combination of demographic and imaging features. The regressors variables are the following features:\n",
    "\n",
    "['SEX', 'AGE', 'PTEDUCAT', 'WholeBrain.bl', 'Ventricles.bl', 'Hippocampus.bl', 'MidTemp.bl', 'Entorhinal.bl']\n",
    "\n",
    "and the target variable is:\n",
    "\n",
    "['MMSE.bl']\n",
    "    \n",
    "\n",
    "To create the federated dataset, we follow the standard procedure for node creation/population of Fed-BioMed. \n",
    "After activating the fedbiomed network with the commands\n",
    "\n",
    "`source ./scripts/fedbiomed_environment network`\n",
    "\n",
    "and \n",
    "\n",
    "`./scripts/fedbiomed_run network`\n",
    "\n",
    "we create a first node by using the commands\n",
    "\n",
    "`source ./scripts/fedbiomed_environment node`\n",
    "\n",
    "`./scripts/fedbiomed_run node start`\n",
    "\n",
    "We then poulate the node with the data of first client:\n",
    "\n",
    "`./scripts/fedbiomed_run node config conf.ini add`\n",
    "\n",
    "Thn, we select option 1 (csv dataset) to add the .csv partition of client 1, by just picking the .csv of client 1. We use `adni` as tag to save the selected dataset. We can further check that the data has been added by executing `./scripts/fedbiomed_run node list`\n",
    "\n",
    "Following the same procedure, we create the other two nodes with the datasets of client 2 and client 3 respectively. To do so, we add and launch a `Node`using others configuration files\n",
    "\n",
    "### Fed-BioMed Researcher\n",
    "\n",
    "We are now ready to start the reseracher enviroment with the command `source ./scripts/fedbiomed_environment researcher`, and open the Jupyter notebook with `./scripts/fedbiomed_run researcher`. \n",
    "\n",
    "We can first query the network for the adni dataset. In this case, the nodes are sharing the respective partitions unsing the same tag `adni`:"
   ]
  },
  {
   "cell_type": "code",
   "execution_count": 2,
   "id": "544334fa",
   "metadata": {},
   "outputs": [
    {
     "name": "stderr",
     "output_type": "stream",
     "text": [
      "2022-05-06 13:49:25,495 fedbiomed INFO - Component environment:\n",
      "2022-05-06 13:49:25,496 fedbiomed INFO - type = ComponentType.RESEARCHER\n",
      "2022-05-06 13:49:25,641 fedbiomed INFO - Messaging researcher_994d2281-2f1b-4f9e-84fe-61a703e1bdfe successfully connected to the message broker, object = <fedbiomed.common.messaging.Messaging object at 0x7f2d4e4e3c40>\n",
      "2022-05-06 13:49:25,709 fedbiomed INFO - Listing available datasets in all nodes... \n",
      "2022-05-06 13:49:35,725 fedbiomed INFO - \n",
      " Node: node_658efe2a-5e4b-4daf-9931-32eb6ecefc32 | Number of Datasets: 5 \n",
      "+---------+-------------+--------------------------+-----------------+---------------------+\n",
      "| name    | data_type   | tags                     | description     | shape               |\n",
      "+=========+=============+==========================+=================+=====================+\n",
      "| MNIST   | default     | ['#MNIST', '#dataset']   | MNIST database  | [60000, 1, 28, 28]  |\n",
      "+---------+-------------+--------------------------+-----------------+---------------------+\n",
      "| bb      | images      | ['#bb']                  | bb              | [111909, 3, 64, 64] |\n",
      "+---------+-------------+--------------------------+-----------------+---------------------+\n",
      "| MEDNIST | mednist     | ['#MEDNIST', '#dataset'] | MEDNIST dataset | [58954, 3, 64, 64]  |\n",
      "+---------+-------------+--------------------------+-----------------+---------------------+\n",
      "| perp    | csv         | ['perp']                 | perp            | [150, 21]           |\n",
      "+---------+-------------+--------------------------+-----------------+---------------------+\n",
      "| adni    | csv         | ['adni']                 | adni            | [300, 20]           |\n",
      "+---------+-------------+--------------------------+-----------------+---------------------+\n",
      "\n"
     ]
    },
    {
     "data": {
      "text/plain": [
       "{'node_658efe2a-5e4b-4daf-9931-32eb6ecefc32': [{'name': 'MNIST',\n",
       "   'data_type': 'default',\n",
       "   'tags': ['#MNIST', '#dataset'],\n",
       "   'description': 'MNIST database',\n",
       "   'shape': [60000, 1, 28, 28]},\n",
       "  {'name': 'bb',\n",
       "   'data_type': 'images',\n",
       "   'tags': ['#bb'],\n",
       "   'description': 'bb',\n",
       "   'shape': [111909, 3, 64, 64]},\n",
       "  {'name': 'MEDNIST',\n",
       "   'data_type': 'mednist',\n",
       "   'tags': ['#MEDNIST', '#dataset'],\n",
       "   'description': 'MEDNIST dataset',\n",
       "   'shape': [58954, 3, 64, 64]},\n",
       "  {'name': 'perp',\n",
       "   'data_type': 'csv',\n",
       "   'tags': ['perp'],\n",
       "   'description': 'perp',\n",
       "   'shape': [150, 21]},\n",
       "  {'name': 'adni',\n",
       "   'data_type': 'csv',\n",
       "   'tags': ['adni'],\n",
       "   'description': 'adni',\n",
       "   'shape': [300, 20]}]}"
      ]
     },
     "execution_count": 2,
     "metadata": {},
     "output_type": "execute_result"
    }
   ],
   "source": [
    "from fedbiomed.researcher.requests import Requests\n",
    "req = Requests()\n",
    "req.list(verbose=True)"
   ]
  },
  {
   "cell_type": "markdown",
   "id": "495c60a3",
   "metadata": {},
   "source": [
    "The code for network and data loader of the sklearn SGDRegressor can now be deployed in Fed-BioMed.\n",
    "We first import the necessary module `SGDSkLearnModel` from `fedbiomed`:\n",
    "\n",
    "**__init__** : we add here the needed sklearn libraries\n",
    "       \n",
    "**training_data** : you must return here a tuple (data,targets) that must be of the same type of \n",
    "your method partial_fit parameters. \n",
    "\n",
    "We note that this model performs a common standardization across federated datasets by **centering with respect to the same parameters**."
   ]
  },
  {
   "cell_type": "code",
   "execution_count": 32,
   "id": "8ff7a9de",
   "metadata": {},
   "outputs": [],
   "source": [
    "from fedbiomed.common.training_plans import FedSGDRegressor\n",
    "from fedbiomed.common.data import DataManager\n",
    "\n",
    "class SGDRegressorTrainingPlan(FedSGDRegressor):\n",
    "    def __init__(self, model_args: dict = {}):\n",
    "        super().__init__(model_args)\n",
    "        self.add_dependency([\"from fedbiomed.common.training_plans import FedSGDRegressor\",\n",
    "                             \"from sklearn.linear_model import SGDRegressor\"])\n",
    "    \n",
    "    def training_data(self):\n",
    "        dataset = pd.read_csv(self.dataset_path,delimiter=',')\n",
    "        regressors_col = ['SEX', 'AGE', 'PTEDUCAT', 'WholeBrain.bl',\n",
    "                          'Ventricles.bl', 'Hippocampus.bl', 'MidTemp.bl', 'Entorhinal.bl']\n",
    "        target_col = ['MMSE.bl']\n",
    "        \n",
    "        # mean and standard deviation for normalizing dataset\n",
    "        # it has been computed over the whole dataset\n",
    "        scaling_mean = np.array([0.8, 72.3, 16.2, 0.7, 0.0, 0.0, 0.0, 0.0])\n",
    "        scaling_sd = np.array([3.5e-01, 7.3e+00, 2.7e+00, 5.0e-02, 1.1e-02, 1.0e-03, 2.0e-03, 1.0e-03])\n",
    "        \n",
    "        X = (dataset[regressors_col].values-scaling_mean)/scaling_sd\n",
    "        y = dataset[target_col]\n",
    "        return DataManager(dataset=X, target=y.values.ravel())\n",
    "    "
   ]
  },
  {
   "cell_type": "markdown",
   "id": "e36bf5d9",
   "metadata": {},
   "source": [
    "**model_args** is a dictionary containing your model arguments, in case of SGDRegressor this will be max_iter and tol. n_features is provided to correctly initialize the SGDRegressor coef_ array.\n",
    "\n",
    "**training_args** is a dictionary with parameters related to Federated Learning. "
   ]
  },
  {
   "cell_type": "code",
   "execution_count": 33,
   "id": "ac2d70c3",
   "metadata": {},
   "outputs": [],
   "source": [
    "from fedbiomed.common.metrics import MetricTypes\n",
    "RANDOM_SEED = 1234\n",
    "\n",
    "\n",
    "model_args = {\n",
    "    'max_iter':2000,\n",
    "    'tol': 1e-5,\n",
    "    'eta0':0.05,\n",
    "    'n_features': 8,\n",
    "    'random_state': RANDOM_SEED\n",
    "}\n",
    "\n",
    "training_args = {\n",
    "    'epochs': 5,\n",
    "    'test_ratio':.3,\n",
    "    'test_metric': MetricTypes.MEAN_SQUARE_ERROR,\n",
    "    'test_on_local_updates': True,\n",
    "    'test_on_global_updates': True\n",
    "}"
   ]
  },
  {
   "cell_type": "markdown",
   "id": "bef267fc",
   "metadata": {},
   "source": [
    "The experiment can be now defined, by providing the `adni` tag, and running the local training on nodes with model defined in `model_path`, standard `aggregator` (FedAvg) and `client_selection_strategy` (all nodes used). Federated learning is going to be perfomed through 10 optimization rounds."
   ]
  },
  {
   "cell_type": "code",
   "execution_count": 34,
   "id": "5c5d36b3",
   "metadata": {},
   "outputs": [
    {
     "name": "stderr",
     "output_type": "stream",
     "text": [
      "2022-05-06 16:04:15,162 fedbiomed INFO - Searching dataset with data tags: ['adni'] for all nodes\n",
      "2022-05-06 16:04:25,175 fedbiomed INFO - Node selected for training -> node_658efe2a-5e4b-4daf-9931-32eb6ecefc32\n",
      "2022-05-06 16:04:25,181 fedbiomed DEBUG - Model file has been saved: /home/gentoo/Projects/Fedbiomed/fedbiomed/var/experiments/Experiment_0092/my_model_a5c47a11-6285-4a54-9bf1-f093bfa76f28.py\n",
      "2022-05-06 16:04:25,197 fedbiomed DEBUG - upload (HTTP POST request) of file /home/gentoo/Projects/Fedbiomed/fedbiomed/var/experiments/Experiment_0092/my_model_a5c47a11-6285-4a54-9bf1-f093bfa76f28.py successful, with status code 201\n",
      "2022-05-06 16:04:25,208 fedbiomed DEBUG - upload (HTTP POST request) of file /home/gentoo/Projects/Fedbiomed/fedbiomed/var/experiments/Experiment_0092/aggregated_params_init_6c2c579f-2c56-4648-bfd2-ceb78179074c.pt successful, with status code 201\n"
     ]
    },
    {
     "name": "stdout",
     "output_type": "stream",
     "text": [
      "model id sklearntarining plan 140662511542176\n"
     ]
    }
   ],
   "source": [
    "from fedbiomed.researcher.experiment import Experiment\n",
    "from fedbiomed.researcher.aggregators.fedavg import FedAverage\n",
    "\n",
    "tags =  ['adni']\n",
    "\n",
    "# Add more rounds for results with better accuracy\n",
    "#\n",
    "#rounds = 40\n",
    "rounds = 2\n",
    "\n",
    "# select nodes participating to this experiment\n",
    "exp = Experiment(tags=tags,\n",
    "                 model_args=model_args,\n",
    "                 model_class=SGDRegressorTrainingPlan,\n",
    "                 training_args=training_args,\n",
    "                 round_limit=rounds,\n",
    "                 aggregator=FedAverage(),\n",
    "                 node_selection_strategy=None)"
   ]
  },
  {
   "cell_type": "code",
   "execution_count": 35,
   "id": "ec6fcfe1",
   "metadata": {},
   "outputs": [
    {
     "name": "stderr",
     "output_type": "stream",
     "text": [
      "2022-05-06 16:04:31,627 fedbiomed INFO - Sampled nodes in round 0 ['node_658efe2a-5e4b-4daf-9931-32eb6ecefc32']\n",
      "2022-05-06 16:04:31,628 fedbiomed INFO - \u001b[1mSending request\u001b[0m \n",
      "\t\t\t\t\t\u001b[1m To\u001b[0m: node_658efe2a-5e4b-4daf-9931-32eb6ecefc32 \n",
      "\t\t\t\t\t\u001b[1m Request: \u001b[0m: Perform training with the arguments: {'researcher_id': 'researcher_994d2281-2f1b-4f9e-84fe-61a703e1bdfe', 'job_id': 'c88b28bb-85bb-4501-a168-db93ec017c4e', 'training_args': {'test_ratio': 0.3, 'test_on_local_updates': True, 'test_on_global_updates': True, 'test_metric': <MetricTypes.MEAN_SQUARE_ERROR: (4, <_MetricCategory.REGRESSION: 2>)>, 'test_metric_args': {}, 'epochs': 5}, 'training': True, 'model_args': {'max_iter': 2000, 'tol': 1e-05, 'eta0': 0.05, 'n_features': 8, 'random_state': 1234, 'verbose': 1}, 'command': 'train', 'model_url': 'http://localhost:8844/media/uploads/2022/05/06/my_model_a5c47a11-6285-4a54-9bf1-f093bfa76f28.py', 'params_url': 'http://localhost:8844/media/uploads/2022/05/06/aggregated_params_init_6c2c579f-2c56-4648-bfd2-ceb78179074c.pt', 'model_class': 'SGDRegressorTrainingPlan', 'training_data': {'node_658efe2a-5e4b-4daf-9931-32eb6ecefc32': ['dataset_4eb9941f-aaf3-494c-8677-7c1becdb4b1b']}} \n",
      " -----------------------------------------------------------------\n",
      "2022-05-06 16:04:31,628 fedbiomed DEBUG - researcher_994d2281-2f1b-4f9e-84fe-61a703e1bdfe\n",
      "2022-05-06 16:04:31,643 fedbiomed INFO - \u001b[1mINFO\u001b[0m\n",
      "\t\t\t\t\t\u001b[1m NODE\u001b[0m node_658efe2a-5e4b-4daf-9931-32eb6ecefc32\n",
      "\t\t\t\t\t\u001b[1m MESSAGE:\u001b[0m training with arguments {'history_monitor': <fedbiomed.node.history_monitor.HistoryMonitor object at 0x7fb320a1b160>, 'node_args': {'gpu': False, 'gpu_num': None, 'gpu_only': False}, 'epochs': 5}\u001b[0m\n",
      "-----------------------------------------------------------------\n",
      "2022-05-06 16:04:31,644 fedbiomed INFO - \u001b[1mINFO\u001b[0m\n",
      "\t\t\t\t\t\u001b[1m NODE\u001b[0m node_658efe2a-5e4b-4daf-9931-32eb6ecefc32\n",
      "\t\t\t\t\t\u001b[1m MESSAGE:\u001b[0m No `testing_step` method found in TrainingPlan: using defined metric MEAN_SQUARE_ERROR for model evaluation.\u001b[0m\n",
      "-----------------------------------------------------------------\n",
      "2022-05-06 16:04:31,644 fedbiomed INFO - \u001b[1mTESTING ON GLOBAL UPDATES\u001b[0m \n",
      "\t\t\t\t\t NODE_ID: node_658efe2a-5e4b-4daf-9931-32eb6ecefc32 \n",
      "\t\t\t\t\t Completed: 90/90 (100%) \n",
      " \t\t\t\t\t MEAN_SQUARE_ERROR: \u001b[1m735.888889\u001b[0m \n",
      "\t\t\t\t\t ---------\n",
      "2022-05-06 16:04:31,645 fedbiomed INFO - \u001b[1mTRAINING\u001b[0m \n",
      "\t\t\t\t\t NODE_ID: node_658efe2a-5e4b-4daf-9931-32eb6ecefc32 \n",
      "\t\t\t\t\t Epoch: 0 | Completed: 210/210 (100%) \n",
      " \t\t\t\t\t Loss squared_loss: \u001b[1m601405.458903\u001b[0m \n",
      "\t\t\t\t\t ---------\n",
      "2022-05-06 16:04:31,646 fedbiomed INFO - \u001b[1mTRAINING\u001b[0m \n",
      "\t\t\t\t\t NODE_ID: node_658efe2a-5e4b-4daf-9931-32eb6ecefc32 \n",
      "\t\t\t\t\t Epoch: 1 | Completed: 210/210 (100%) \n",
      " \t\t\t\t\t Loss squared_loss: \u001b[1m4321.603374\u001b[0m \n",
      "\t\t\t\t\t ---------\n",
      "2022-05-06 16:04:31,646 fedbiomed INFO - \u001b[1mTRAINING\u001b[0m \n",
      "\t\t\t\t\t NODE_ID: node_658efe2a-5e4b-4daf-9931-32eb6ecefc32 \n",
      "\t\t\t\t\t Epoch: 2 | Completed: 210/210 (100%) \n",
      " \t\t\t\t\t Loss squared_loss: \u001b[1m468.350128\u001b[0m \n",
      "\t\t\t\t\t ---------\n",
      "2022-05-06 16:04:31,647 fedbiomed INFO - \u001b[1mTRAINING\u001b[0m \n",
      "\t\t\t\t\t NODE_ID: node_658efe2a-5e4b-4daf-9931-32eb6ecefc32 \n",
      "\t\t\t\t\t Epoch: 3 | Completed: 210/210 (100%) \n",
      " \t\t\t\t\t Loss squared_loss: \u001b[1m99.299847\u001b[0m \n",
      "\t\t\t\t\t ---------\n",
      "2022-05-06 16:04:31,648 fedbiomed INFO - \u001b[1mTRAINING\u001b[0m \n",
      "\t\t\t\t\t NODE_ID: node_658efe2a-5e4b-4daf-9931-32eb6ecefc32 \n",
      "\t\t\t\t\t Epoch: 4 | Completed: 210/210 (100%) \n",
      " \t\t\t\t\t Loss squared_loss: \u001b[1m35.959276\u001b[0m \n",
      "\t\t\t\t\t ---------\n",
      "2022-05-06 16:04:31,648 fedbiomed INFO - \u001b[1mINFO\u001b[0m\n",
      "\t\t\t\t\t\u001b[1m NODE\u001b[0m node_658efe2a-5e4b-4daf-9931-32eb6ecefc32\n",
      "\t\t\t\t\t\u001b[1m MESSAGE:\u001b[0m No `testing_step` method found in TrainingPlan: using defined metric MEAN_SQUARE_ERROR for model evaluation.\u001b[0m\n",
      "-----------------------------------------------------------------\n",
      "2022-05-06 16:04:31,649 fedbiomed INFO - \u001b[1mTESTING ON LOCAL UPDATES\u001b[0m \n",
      "\t\t\t\t\t NODE_ID: node_658efe2a-5e4b-4daf-9931-32eb6ecefc32 \n",
      "\t\t\t\t\t Completed: 90/90 (100%) \n",
      " \t\t\t\t\t MEAN_SQUARE_ERROR: \u001b[1m47.991542\u001b[0m \n",
      "\t\t\t\t\t ---------\n",
      "2022-05-06 16:04:31,659 fedbiomed INFO - \u001b[1mINFO\u001b[0m\n",
      "\t\t\t\t\t\u001b[1m NODE\u001b[0m node_658efe2a-5e4b-4daf-9931-32eb6ecefc32\n",
      "\t\t\t\t\t\u001b[1m MESSAGE:\u001b[0m results uploaded successfully \u001b[0m\n",
      "-----------------------------------------------------------------\n",
      "2022-05-06 16:04:41,638 fedbiomed INFO - Downloading model params after training on node_658efe2a-5e4b-4daf-9931-32eb6ecefc32 - from http://localhost:8844/media/uploads/2022/05/06/node_params_a5db242a-580b-47d3-a7e6-08ae87ec4f8a.pt\n",
      "2022-05-06 16:04:41,652 fedbiomed DEBUG - upload (HTTP GET request) of file node_params_3215212a-23cc-4ea5-a72a-75dc53b4ef05.pt successful, with status code 200\n",
      "2022-05-06 16:04:41,658 fedbiomed INFO - Nodes that successfully reply in round 0 ['node_658efe2a-5e4b-4daf-9931-32eb6ecefc32']\n",
      "2022-05-06 16:04:41,682 fedbiomed DEBUG - upload (HTTP POST request) of file /home/gentoo/Projects/Fedbiomed/fedbiomed/var/experiments/Experiment_0092/aggregated_params_f1c44a2f-4324-4c37-8d4d-75fafbe89293.pt successful, with status code 201\n",
      "2022-05-06 16:04:41,683 fedbiomed INFO - Saved aggregated params for round 0 in /home/gentoo/Projects/Fedbiomed/fedbiomed/var/experiments/Experiment_0092/aggregated_params_f1c44a2f-4324-4c37-8d4d-75fafbe89293.pt\n",
      "2022-05-06 16:04:41,684 fedbiomed INFO - Sampled nodes in round 1 ['node_658efe2a-5e4b-4daf-9931-32eb6ecefc32']\n",
      "2022-05-06 16:04:41,685 fedbiomed INFO - \u001b[1mSending request\u001b[0m \n",
      "\t\t\t\t\t\u001b[1m To\u001b[0m: node_658efe2a-5e4b-4daf-9931-32eb6ecefc32 \n",
      "\t\t\t\t\t\u001b[1m Request: \u001b[0m: Perform training with the arguments: {'researcher_id': 'researcher_994d2281-2f1b-4f9e-84fe-61a703e1bdfe', 'job_id': 'c88b28bb-85bb-4501-a168-db93ec017c4e', 'training_args': {'test_ratio': 0.3, 'test_on_local_updates': True, 'test_on_global_updates': True, 'test_metric': 'MEAN_SQUARE_ERROR', 'test_metric_args': {}, 'epochs': 5}, 'training': True, 'model_args': {'max_iter': 2000, 'tol': 1e-05, 'eta0': 0.05, 'n_features': 8, 'random_state': 1234, 'verbose': 1}, 'command': 'train', 'model_url': 'http://localhost:8844/media/uploads/2022/05/06/my_model_a5c47a11-6285-4a54-9bf1-f093bfa76f28.py', 'params_url': 'http://localhost:8844/media/uploads/2022/05/06/aggregated_params_f1c44a2f-4324-4c37-8d4d-75fafbe89293.pt', 'model_class': 'SGDRegressorTrainingPlan', 'training_data': {'node_658efe2a-5e4b-4daf-9931-32eb6ecefc32': ['dataset_4eb9941f-aaf3-494c-8677-7c1becdb4b1b']}} \n",
      " -----------------------------------------------------------------\n",
      "2022-05-06 16:04:41,686 fedbiomed DEBUG - researcher_994d2281-2f1b-4f9e-84fe-61a703e1bdfe\n",
      "2022-05-06 16:04:41,703 fedbiomed INFO - \u001b[1mINFO\u001b[0m\n",
      "\t\t\t\t\t\u001b[1m NODE\u001b[0m node_658efe2a-5e4b-4daf-9931-32eb6ecefc32\n",
      "\t\t\t\t\t\u001b[1m MESSAGE:\u001b[0m training with arguments {'history_monitor': <fedbiomed.node.history_monitor.HistoryMonitor object at 0x7fb3dcbcfd90>, 'node_args': {'gpu': False, 'gpu_num': None, 'gpu_only': False}, 'epochs': 5}\u001b[0m\n",
      "-----------------------------------------------------------------\n",
      "2022-05-06 16:04:41,704 fedbiomed INFO - \u001b[1mINFO\u001b[0m\n",
      "\t\t\t\t\t\u001b[1m NODE\u001b[0m node_658efe2a-5e4b-4daf-9931-32eb6ecefc32\n",
      "\t\t\t\t\t\u001b[1m MESSAGE:\u001b[0m No `testing_step` method found in TrainingPlan: using defined metric MEAN_SQUARE_ERROR for model evaluation.\u001b[0m\n",
      "-----------------------------------------------------------------\n",
      "2022-05-06 16:04:41,705 fedbiomed INFO - \u001b[1mTESTING ON GLOBAL UPDATES\u001b[0m \n",
      "\t\t\t\t\t NODE_ID: node_658efe2a-5e4b-4daf-9931-32eb6ecefc32 \n",
      "\t\t\t\t\t Completed: 90/90 (100%) \n",
      " \t\t\t\t\t MEAN_SQUARE_ERROR: \u001b[1m50.673800\u001b[0m \n",
      "\t\t\t\t\t ---------\n",
      "2022-05-06 16:04:41,706 fedbiomed INFO - \u001b[1mTRAINING\u001b[0m \n",
      "\t\t\t\t\t NODE_ID: node_658efe2a-5e4b-4daf-9931-32eb6ecefc32 \n",
      "\t\t\t\t\t Epoch: 0 | Completed: 210/210 (100%) \n",
      " \t\t\t\t\t Loss squared_loss: \u001b[1m19.558533\u001b[0m \n",
      "\t\t\t\t\t ---------\n",
      "2022-05-06 16:04:41,706 fedbiomed INFO - \u001b[1mTRAINING\u001b[0m \n",
      "\t\t\t\t\t NODE_ID: node_658efe2a-5e4b-4daf-9931-32eb6ecefc32 \n",
      "\t\t\t\t\t Epoch: 1 | Completed: 210/210 (100%) \n",
      " \t\t\t\t\t Loss squared_loss: \u001b[1m15.399358\u001b[0m \n",
      "\t\t\t\t\t ---------\n",
      "2022-05-06 16:04:41,707 fedbiomed INFO - \u001b[1mTRAINING\u001b[0m \n",
      "\t\t\t\t\t NODE_ID: node_658efe2a-5e4b-4daf-9931-32eb6ecefc32 \n",
      "\t\t\t\t\t Epoch: 2 | Completed: 210/210 (100%) \n",
      " \t\t\t\t\t Loss squared_loss: \u001b[1m13.646833\u001b[0m \n",
      "\t\t\t\t\t ---------\n",
      "2022-05-06 16:04:41,708 fedbiomed INFO - \u001b[1mTRAINING\u001b[0m \n",
      "\t\t\t\t\t NODE_ID: node_658efe2a-5e4b-4daf-9931-32eb6ecefc32 \n",
      "\t\t\t\t\t Epoch: 3 | Completed: 210/210 (100%) \n",
      " \t\t\t\t\t Loss squared_loss: \u001b[1m12.662287\u001b[0m \n",
      "\t\t\t\t\t ---------\n"
     ]
    },
    {
     "name": "stderr",
     "output_type": "stream",
     "text": [
      "2022-05-06 16:04:41,708 fedbiomed INFO - \u001b[1mTRAINING\u001b[0m \n",
      "\t\t\t\t\t NODE_ID: node_658efe2a-5e4b-4daf-9931-32eb6ecefc32 \n",
      "\t\t\t\t\t Epoch: 4 | Completed: 210/210 (100%) \n",
      " \t\t\t\t\t Loss squared_loss: \u001b[1m12.000877\u001b[0m \n",
      "\t\t\t\t\t ---------\n",
      "2022-05-06 16:04:41,709 fedbiomed INFO - \u001b[1mINFO\u001b[0m\n",
      "\t\t\t\t\t\u001b[1m NODE\u001b[0m node_658efe2a-5e4b-4daf-9931-32eb6ecefc32\n",
      "\t\t\t\t\t\u001b[1m MESSAGE:\u001b[0m No `testing_step` method found in TrainingPlan: using defined metric MEAN_SQUARE_ERROR for model evaluation.\u001b[0m\n",
      "-----------------------------------------------------------------\n",
      "2022-05-06 16:04:41,710 fedbiomed INFO - \u001b[1mTESTING ON LOCAL UPDATES\u001b[0m \n",
      "\t\t\t\t\t NODE_ID: node_658efe2a-5e4b-4daf-9931-32eb6ecefc32 \n",
      "\t\t\t\t\t Completed: 90/90 (100%) \n",
      " \t\t\t\t\t MEAN_SQUARE_ERROR: \u001b[1m53.378930\u001b[0m \n",
      "\t\t\t\t\t ---------\n",
      "2022-05-06 16:04:41,721 fedbiomed INFO - \u001b[1mINFO\u001b[0m\n",
      "\t\t\t\t\t\u001b[1m NODE\u001b[0m node_658efe2a-5e4b-4daf-9931-32eb6ecefc32\n",
      "\t\t\t\t\t\u001b[1m MESSAGE:\u001b[0m results uploaded successfully \u001b[0m\n",
      "-----------------------------------------------------------------\n",
      "2022-05-06 16:04:51,694 fedbiomed INFO - Downloading model params after training on node_658efe2a-5e4b-4daf-9931-32eb6ecefc32 - from http://localhost:8844/media/uploads/2022/05/06/node_params_ca3d6856-3f3e-4422-9784-5990bf908c24.pt\n",
      "2022-05-06 16:04:51,703 fedbiomed DEBUG - upload (HTTP GET request) of file node_params_e9f750b8-bcb9-4d60-afee-681cba4ae589.pt successful, with status code 200\n",
      "2022-05-06 16:04:51,705 fedbiomed INFO - Nodes that successfully reply in round 1 ['node_658efe2a-5e4b-4daf-9931-32eb6ecefc32']\n",
      "2022-05-06 16:04:51,715 fedbiomed DEBUG - upload (HTTP POST request) of file /home/gentoo/Projects/Fedbiomed/fedbiomed/var/experiments/Experiment_0092/aggregated_params_487617fe-d1a9-4c48-92aa-a960671c0e34.pt successful, with status code 201\n",
      "2022-05-06 16:04:51,716 fedbiomed INFO - Saved aggregated params for round 1 in /home/gentoo/Projects/Fedbiomed/fedbiomed/var/experiments/Experiment_0092/aggregated_params_487617fe-d1a9-4c48-92aa-a960671c0e34.pt\n",
      "2022-05-06 16:04:51,716 fedbiomed INFO - \u001b[1mSending request\u001b[0m \n",
      "\t\t\t\t\t\u001b[1m To\u001b[0m: node_658efe2a-5e4b-4daf-9931-32eb6ecefc32 \n",
      "\t\t\t\t\t\u001b[1m Request: \u001b[0m:Perform final testing on aggregated parameters \n",
      " -----------------------------------------------------------------\n",
      "2022-05-06 16:04:51,717 fedbiomed DEBUG - researcher_994d2281-2f1b-4f9e-84fe-61a703e1bdfe\n",
      "2022-05-06 16:04:51,731 fedbiomed INFO - \u001b[1mINFO\u001b[0m\n",
      "\t\t\t\t\t\u001b[1m NODE\u001b[0m node_658efe2a-5e4b-4daf-9931-32eb6ecefc32\n",
      "\t\t\t\t\t\u001b[1m MESSAGE:\u001b[0m training with arguments {'history_monitor': <fedbiomed.node.history_monitor.HistoryMonitor object at 0x7fb3dcf536a0>, 'node_args': {'gpu': False, 'gpu_num': None, 'gpu_only': False}, 'epochs': 5}\u001b[0m\n",
      "-----------------------------------------------------------------\n",
      "2022-05-06 16:04:51,731 fedbiomed INFO - \u001b[1mINFO\u001b[0m\n",
      "\t\t\t\t\t\u001b[1m NODE\u001b[0m node_658efe2a-5e4b-4daf-9931-32eb6ecefc32\n",
      "\t\t\t\t\t\u001b[1m MESSAGE:\u001b[0m No `testing_step` method found in TrainingPlan: using defined metric MEAN_SQUARE_ERROR for model evaluation.\u001b[0m\n",
      "-----------------------------------------------------------------\n",
      "2022-05-06 16:04:51,732 fedbiomed INFO - \u001b[1mTESTING ON GLOBAL UPDATES\u001b[0m \n",
      "\t\t\t\t\t NODE_ID: node_658efe2a-5e4b-4daf-9931-32eb6ecefc32 \n",
      "\t\t\t\t\t Completed: 90/90 (100%) \n",
      " \t\t\t\t\t MEAN_SQUARE_ERROR: \u001b[1m45.392722\u001b[0m \n",
      "\t\t\t\t\t ---------\n"
     ]
    },
    {
     "data": {
      "text/plain": [
       "2"
      ]
     },
     "execution_count": 35,
     "metadata": {},
     "output_type": "execute_result"
    }
   ],
   "source": [
    "# start federated training\n",
    "exp.run()"
   ]
  },
  {
   "cell_type": "markdown",
   "id": "a914c772",
   "metadata": {},
   "source": [
    "## SGDClassifier\n",
    "### Purpose of the exercise :\n",
    "\n",
    "Three datasets `c1_3class.csv` , `c2_3class.csv` and `c3_3class.csv` has been generated with a target column of 3 different classes.\n",
    "We will fit a SGCClassifier (classifier) using Federated Learning."
   ]
  },
  {
   "cell_type": "markdown",
   "id": "db54340f",
   "metadata": {},
   "source": [
    "### Get the data \n",
    "\n",
    "We use the make_classification dataset from sklearn datasets"
   ]
  },
  {
   "cell_type": "code",
   "execution_count": 13,
   "id": "7de3960c",
   "metadata": {},
   "outputs": [],
   "source": [
    "from sklearn import datasets\n",
    "import numpy as np"
   ]
  },
  {
   "cell_type": "code",
   "execution_count": 14,
   "id": "17e586de",
   "metadata": {},
   "outputs": [
    {
     "data": {
      "text/plain": [
       "((300, 20), (300,))"
      ]
     },
     "execution_count": 14,
     "metadata": {},
     "output_type": "execute_result"
    }
   ],
   "source": [
    "X,y = datasets.make_classification(n_samples=300, n_features=20,n_informative = 3, n_classes=3,n_clusters_per_class=2, weights=None, flip_y=0.01, class_sep=1.0, hypercube=True, shift=0.0, scale=1.0,shuffle=True, random_state=123)\n",
    "X.shape,y.shape"
   ]
  },
  {
   "cell_type": "code",
   "execution_count": 15,
   "id": "e8901b83",
   "metadata": {},
   "outputs": [
    {
     "data": {
      "text/plain": [
       "((150, 20), (100, 20), (50, 20), (150, 1), (100, 1), (50, 1))"
      ]
     },
     "execution_count": 15,
     "metadata": {},
     "output_type": "execute_result"
    }
   ],
   "source": [
    "C1 = X[:150,:]\n",
    "C2 = X[150:250,:]\n",
    "C3 = X[250:300,:]\n",
    "\n",
    "y1 = y[:150].reshape([150,1])\n",
    "y2 = y[150:250].reshape([100,1])\n",
    "y3 = y[250:300].reshape([50,1])\n",
    "\n",
    "C1.shape ,C2.shape , C3.shape , y1.shape, y2.shape, y3.shape"
   ]
  },
  {
   "cell_type": "code",
   "execution_count": 16,
   "id": "0432c405",
   "metadata": {},
   "outputs": [],
   "source": [
    "n1 = np.concatenate((C1, y1), axis=1)\n",
    "np.savetxt('== local path to c1_3class.csv',n1,delimiter=',')\n",
    "\n",
    "n2 = np.concatenate((C2, y2), axis=1)\n",
    "np.savetxt('== local path to c2_3class.csv',n2,delimiter=',')\n",
    "\n",
    "n3 = np.concatenate((C3, y3), axis=1)\n",
    "np.savetxt('== local path to c3_3class.csv',n3,delimiter=',')"
   ]
  },
  {
   "cell_type": "markdown",
   "id": "a713772e",
   "metadata": {},
   "source": [
    "### Start the network\n",
    "Before running this notebook, start the network with `./scripts/fedbiomed_run network`\n",
    "\n",
    "### Setting the node up\n",
    "Before running this notebook you need to configure 2 nodes: <br/>\n",
    "* **Node 1 :** `./scripts/fedbiomed_run node add`\n",
    "  * Select option 1 to add a csv file to the node\n",
    "  * Choose the name, tags and description of the dataset (you can write **'perp1'** always and it will be good)\n",
    "  * Pick the c1.csv file in your machine.\n",
    "  * Check that your data has been added in node 1 by executing `./scripts/fedbiomed_run node list`\n",
    "  * Run the node using `./scripts/fedbiomed_run node start`. <br/>\n",
    "\n",
    "* **Node 2 :** Open a second terminal and run ./scripts/fedbiomed_run node add config n2.ini\n",
    "  * Select option 1 to add a csv file to the node\n",
    "  * Choose the name, tags and description of the dataset (you can write **'perp1'** always and it will be good)\n",
    "  * Pick the c2.csv file in your machine.\n",
    "  * Check that your data has been added in node 2 by executing `./scripts/fedbiomed_run node config n2.ini list `\n",
    "  * Run the node using `./scripts/fedbiomed_run node config n2.ini start`.\n",
    " \n",
    "\n",
    " Wait until you get `Starting task manager`. it means node is online.\n"
   ]
  },
  {
   "cell_type": "code",
   "execution_count": 1,
   "id": "f0314447",
   "metadata": {},
   "outputs": [],
   "source": [
    "%load_ext autoreload\n",
    "%autoreload 2"
   ]
  },
  {
   "cell_type": "markdown",
   "id": "0f6021a9",
   "metadata": {},
   "source": [
    "**model_args** is a dictionnary containing your model arguments, in case of SGDRegressor this will be max_iter and tol.\n",
    "\n",
    "**training_args** is a dictionnary with parameters , related to Federated Learning. "
   ]
  },
  {
   "cell_type": "code",
   "execution_count": 2,
   "id": "2b8f8139",
   "metadata": {},
   "outputs": [],
   "source": [
    "n_features = 20\n",
    "n_classes = 3\n",
    "\n",
    "model_args = {'max_iter':1000, 'tol': 1e-3 , \n",
    "               'n_features' : n_features, 'n_classes' : n_classes}\n",
    "\n",
    "training_args = {   \n",
    "    'epochs': 5, \n",
    "}"
   ]
  },
  {
   "cell_type": "markdown",
   "id": "e3aa2325",
   "metadata": {},
   "source": [
    "Hereafter the template of the class you should provide to Fedbiomed :\n",
    "    \n",
    "**training_data** : you must return here the (X,y) that must be of the same type of \n",
    "your method partial_fit parameters. "
   ]
  },
  {
   "cell_type": "code",
   "execution_count": 3,
   "id": "ea1ed7cc",
   "metadata": {},
   "outputs": [],
   "source": [
    "from fedbiomed.common.training_plans import FedSGDClassifier\n",
    "from fedbiomed.common.data import DataManager\n",
    "class SGDClassifierTrainingPlan(FedSGDClassifier):\n",
    "    def __init__(self, model_args: dict = {}):\n",
    "        super().__init__(model_args)\n",
    "        self.add_dependency([\"from fedbiomed.common.training_plans import FedSGDClassifier\",\n",
    "                             \"from sklearn.linear_model import SGDClassifier\"])\n",
    "    \n",
    "    def training_data(self):\n",
    "        NUMBER_COLS = 20\n",
    "        dataset = pd.read_csv(self.dataset_path,header=None,delimiter=',')\n",
    "        X = dataset.iloc[:,0:NUMBER_COLS].values\n",
    "        y = dataset.iloc[:,NUMBER_COLS]       \n",
    "        return DataManager(dataset=X,target=y.values)"
   ]
  },
  {
   "cell_type": "code",
   "execution_count": 4,
   "id": "22acfbb1",
   "metadata": {},
   "outputs": [
    {
     "name": "stderr",
     "output_type": "stream",
     "text": [
      "2022-05-06 17:05:12,179 fedbiomed INFO - Component environment:\n",
      "2022-05-06 17:05:12,179 fedbiomed INFO - type = ComponentType.RESEARCHER\n",
      "2022-05-06 17:05:12,260 fedbiomed INFO - Messaging researcher_994d2281-2f1b-4f9e-84fe-61a703e1bdfe successfully connected to the message broker, object = <fedbiomed.common.messaging.Messaging object at 0x7f25670f22b0>\n",
      "2022-05-06 17:05:12,312 fedbiomed INFO - Searching dataset with data tags: ['perp1'] for all nodes\n",
      "2022-05-06 17:05:22,322 fedbiomed INFO - Node selected for training -> node_658efe2a-5e4b-4daf-9931-32eb6ecefc32\n",
      "2022-05-06 17:05:22,324 fedbiomed INFO - Node selected for training -> node_92294303-6bcf-4018-9a03-8a1fcdcbd1c6\n",
      "2022-05-06 17:05:22,327 fedbiomed INFO - Checking data quality of federated datasets...\n",
      "2022-05-06 17:05:22,328 fedbiomed DEBUG - Model file has been saved: /home/gentoo/Projects/Fedbiomed/fedbiomed/var/experiments/Experiment_0106/my_model_1f7305ac-47a9-4669-95a4-bbbbb7ad74b2.py\n",
      "2022-05-06 17:05:22,339 fedbiomed DEBUG - upload (HTTP POST request) of file /home/gentoo/Projects/Fedbiomed/fedbiomed/var/experiments/Experiment_0106/my_model_1f7305ac-47a9-4669-95a4-bbbbb7ad74b2.py successful, with status code 201\n",
      "2022-05-06 17:05:22,350 fedbiomed DEBUG - upload (HTTP POST request) of file /home/gentoo/Projects/Fedbiomed/fedbiomed/var/experiments/Experiment_0106/aggregated_params_init_031978c3-8744-4d8a-b1c5-bda1190e486b.pt successful, with status code 201\n"
     ]
    },
    {
     "name": "stdout",
     "output_type": "stream",
     "text": [
      "model id sklearntarining plan 139798741976400\n"
     ]
    }
   ],
   "source": [
    "from fedbiomed.researcher.experiment import Experiment\n",
    "from fedbiomed.researcher.aggregators.fedavg import FedAverage\n",
    "\n",
    "tags =  ['perp1']\n",
    "rounds = 2\n",
    "\n",
    "# search for corresponding datasets across nodes datasets\n",
    "exp = Experiment(tags=tags,\n",
    "                 model_args=model_args,\n",
    "                 model_class=SGDClassifierTrainingPlan,\n",
    "                 training_args=training_args,\n",
    "                 round_limit=rounds,\n",
    "                 aggregator=FedAverage(),\n",
    "                 node_selection_strategy=None)\n"
   ]
  },
  {
   "cell_type": "code",
   "execution_count": 5,
   "id": "3254e59e",
   "metadata": {},
   "outputs": [
    {
     "name": "stderr",
     "output_type": "stream",
     "text": [
      "2022-05-06 17:05:27,761 fedbiomed INFO - Sampled nodes in round 0 ['node_658efe2a-5e4b-4daf-9931-32eb6ecefc32', 'node_92294303-6bcf-4018-9a03-8a1fcdcbd1c6']\n",
      "2022-05-06 17:05:27,762 fedbiomed INFO - \u001b[1mSending request\u001b[0m \n",
      "\t\t\t\t\t\u001b[1m To\u001b[0m: node_658efe2a-5e4b-4daf-9931-32eb6ecefc32 \n",
      "\t\t\t\t\t\u001b[1m Request: \u001b[0m: Perform training with the arguments: {'researcher_id': 'researcher_994d2281-2f1b-4f9e-84fe-61a703e1bdfe', 'job_id': '66d9cbac-3185-4d08-b8e5-ebf872edfb49', 'training_args': {'test_ratio': 0.0, 'test_on_local_updates': False, 'test_on_global_updates': False, 'test_metric': None, 'test_metric_args': {}, 'epochs': 5}, 'training': True, 'model_args': {'max_iter': 1000, 'tol': 0.001, 'n_features': 20, 'n_classes': 3, 'verbose': 1}, 'command': 'train', 'model_url': 'http://localhost:8844/media/uploads/2022/05/06/my_model_1f7305ac-47a9-4669-95a4-bbbbb7ad74b2.py', 'params_url': 'http://localhost:8844/media/uploads/2022/05/06/aggregated_params_init_031978c3-8744-4d8a-b1c5-bda1190e486b.pt', 'model_class': 'SGDClassifierTrainingPlan', 'training_data': {'node_658efe2a-5e4b-4daf-9931-32eb6ecefc32': ['dataset_6f20ac66-402f-4e98-affe-163e87a90f38']}} \n",
      " -----------------------------------------------------------------\n",
      "2022-05-06 17:05:27,762 fedbiomed DEBUG - researcher_994d2281-2f1b-4f9e-84fe-61a703e1bdfe\n",
      "2022-05-06 17:05:27,763 fedbiomed INFO - \u001b[1mSending request\u001b[0m \n",
      "\t\t\t\t\t\u001b[1m To\u001b[0m: node_92294303-6bcf-4018-9a03-8a1fcdcbd1c6 \n",
      "\t\t\t\t\t\u001b[1m Request: \u001b[0m: Perform training with the arguments: {'researcher_id': 'researcher_994d2281-2f1b-4f9e-84fe-61a703e1bdfe', 'job_id': '66d9cbac-3185-4d08-b8e5-ebf872edfb49', 'training_args': {'test_ratio': 0.0, 'test_on_local_updates': False, 'test_on_global_updates': False, 'test_metric': None, 'test_metric_args': {}, 'epochs': 5}, 'training': True, 'model_args': {'max_iter': 1000, 'tol': 0.001, 'n_features': 20, 'n_classes': 3, 'verbose': 1}, 'command': 'train', 'model_url': 'http://localhost:8844/media/uploads/2022/05/06/my_model_1f7305ac-47a9-4669-95a4-bbbbb7ad74b2.py', 'params_url': 'http://localhost:8844/media/uploads/2022/05/06/aggregated_params_init_031978c3-8744-4d8a-b1c5-bda1190e486b.pt', 'model_class': 'SGDClassifierTrainingPlan', 'training_data': {'node_92294303-6bcf-4018-9a03-8a1fcdcbd1c6': ['dataset_4c956558-9b75-40b7-a352-ee1910103795']}} \n",
      " -----------------------------------------------------------------\n",
      "2022-05-06 17:05:27,764 fedbiomed DEBUG - researcher_994d2281-2f1b-4f9e-84fe-61a703e1bdfe\n",
      "2022-05-06 17:05:27,773 fedbiomed INFO - \u001b[1mWARNING\u001b[0m\n",
      "\t\t\t\t\t\u001b[1m NODE\u001b[0m node_658efe2a-5e4b-4daf-9931-32eb6ecefc32\n",
      "\t\t\t\t\t\u001b[1m MESSAGE:\u001b[0m There is no test activated for the round. Please set flag for `test_on_global_updates`, `test_on_local_updates`, or both. Splitting dataset for testing will be ignored\u001b[0m\n",
      "-----------------------------------------------------------------\n",
      "2022-05-06 17:05:27,776 fedbiomed INFO - \u001b[1mINFO\u001b[0m\n",
      "\t\t\t\t\t\u001b[1m NODE\u001b[0m node_658efe2a-5e4b-4daf-9931-32eb6ecefc32\n",
      "\t\t\t\t\t\u001b[1m MESSAGE:\u001b[0m training with arguments {'history_monitor': <fedbiomed.node.history_monitor.HistoryMonitor object at 0x7f5507bce100>, 'node_args': {'gpu': False, 'gpu_num': None, 'gpu_only': False}, 'epochs': 5}\u001b[0m\n",
      "-----------------------------------------------------------------\n",
      "2022-05-06 17:05:27,779 fedbiomed INFO - \u001b[1mWARNING\u001b[0m\n",
      "\t\t\t\t\t\u001b[1m NODE\u001b[0m node_658efe2a-5e4b-4daf-9931-32eb6ecefc32\n",
      "\t\t\t\t\t\u001b[1m MESSAGE:\u001b[0m Loss plot displayed on Tensorboard may be inaccurate (due to some plain SGD scikit learn limitations)\u001b[0m\n",
      "-----------------------------------------------------------------\n",
      "2022-05-06 17:05:27,780 fedbiomed INFO - \u001b[1mTRAINING\u001b[0m \n",
      "\t\t\t\t\t NODE_ID: node_658efe2a-5e4b-4daf-9931-32eb6ecefc32 \n",
      "\t\t\t\t\t Epoch: 0 | Completed: 100/100 (100%) \n",
      " \t\t\t\t\t Loss hinge: \u001b[1m32.896111\u001b[0m \n",
      "\t\t\t\t\t ---------\n",
      "2022-05-06 17:05:27,782 fedbiomed INFO - \u001b[1mWARNING\u001b[0m\n",
      "\t\t\t\t\t\u001b[1m NODE\u001b[0m node_658efe2a-5e4b-4daf-9931-32eb6ecefc32\n",
      "\t\t\t\t\t\u001b[1m MESSAGE:\u001b[0m Loss plot displayed on Tensorboard may be inaccurate (due to some plain SGD scikit learn limitations)\u001b[0m\n",
      "-----------------------------------------------------------------\n",
      "2022-05-06 17:05:27,783 fedbiomed INFO - \u001b[1mTRAINING\u001b[0m \n",
      "\t\t\t\t\t NODE_ID: node_658efe2a-5e4b-4daf-9931-32eb6ecefc32 \n",
      "\t\t\t\t\t Epoch: 1 | Completed: 100/100 (100%) \n",
      " \t\t\t\t\t Loss hinge: \u001b[1m33.487299\u001b[0m \n",
      "\t\t\t\t\t ---------\n",
      "2022-05-06 17:05:27,785 fedbiomed INFO - \u001b[1mWARNING\u001b[0m\n",
      "\t\t\t\t\t\u001b[1m NODE\u001b[0m node_658efe2a-5e4b-4daf-9931-32eb6ecefc32\n",
      "\t\t\t\t\t\u001b[1m MESSAGE:\u001b[0m Loss plot displayed on Tensorboard may be inaccurate (due to some plain SGD scikit learn limitations)\u001b[0m\n",
      "-----------------------------------------------------------------\n",
      "2022-05-06 17:05:27,785 fedbiomed INFO - \u001b[1mTRAINING\u001b[0m \n",
      "\t\t\t\t\t NODE_ID: node_658efe2a-5e4b-4daf-9931-32eb6ecefc32 \n",
      "\t\t\t\t\t Epoch: 2 | Completed: 100/100 (100%) \n",
      " \t\t\t\t\t Loss hinge: \u001b[1m22.531677\u001b[0m \n",
      "\t\t\t\t\t ---------\n",
      "2022-05-06 17:05:27,787 fedbiomed INFO - \u001b[1mWARNING\u001b[0m\n",
      "\t\t\t\t\t\u001b[1m NODE\u001b[0m node_658efe2a-5e4b-4daf-9931-32eb6ecefc32\n",
      "\t\t\t\t\t\u001b[1m MESSAGE:\u001b[0m Loss plot displayed on Tensorboard may be inaccurate (due to some plain SGD scikit learn limitations)\u001b[0m\n",
      "-----------------------------------------------------------------\n",
      "2022-05-06 17:05:27,788 fedbiomed INFO - \u001b[1mTRAINING\u001b[0m \n",
      "\t\t\t\t\t NODE_ID: node_658efe2a-5e4b-4daf-9931-32eb6ecefc32 \n",
      "\t\t\t\t\t Epoch: 3 | Completed: 100/100 (100%) \n",
      " \t\t\t\t\t Loss hinge: \u001b[1m25.276670\u001b[0m \n",
      "\t\t\t\t\t ---------\n",
      "2022-05-06 17:05:27,790 fedbiomed INFO - \u001b[1mWARNING\u001b[0m\n",
      "\t\t\t\t\t\u001b[1m NODE\u001b[0m node_658efe2a-5e4b-4daf-9931-32eb6ecefc32\n",
      "\t\t\t\t\t\u001b[1m MESSAGE:\u001b[0m Loss plot displayed on Tensorboard may be inaccurate (due to some plain SGD scikit learn limitations)\u001b[0m\n",
      "-----------------------------------------------------------------\n",
      "2022-05-06 17:05:27,791 fedbiomed INFO - \u001b[1mTRAINING\u001b[0m \n",
      "\t\t\t\t\t NODE_ID: node_658efe2a-5e4b-4daf-9931-32eb6ecefc32 \n",
      "\t\t\t\t\t Epoch: 4 | Completed: 100/100 (100%) \n",
      " \t\t\t\t\t Loss hinge: \u001b[1m21.298754\u001b[0m \n",
      "\t\t\t\t\t ---------\n",
      "2022-05-06 17:05:27,801 fedbiomed INFO - \u001b[1mINFO\u001b[0m\n",
      "\t\t\t\t\t\u001b[1m NODE\u001b[0m node_658efe2a-5e4b-4daf-9931-32eb6ecefc32\n",
      "\t\t\t\t\t\u001b[1m MESSAGE:\u001b[0m results uploaded successfully \u001b[0m\n",
      "-----------------------------------------------------------------\n",
      "2022-05-06 17:05:27,803 fedbiomed INFO - \u001b[1mWARNING\u001b[0m\n",
      "\t\t\t\t\t\u001b[1m NODE\u001b[0m node_92294303-6bcf-4018-9a03-8a1fcdcbd1c6\n",
      "\t\t\t\t\t\u001b[1m MESSAGE:\u001b[0m There is no test activated for the round. Please set flag for `test_on_global_updates`, `test_on_local_updates`, or both. Splitting dataset for testing will be ignored\u001b[0m\n",
      "-----------------------------------------------------------------\n",
      "2022-05-06 17:05:27,807 fedbiomed INFO - \u001b[1mINFO\u001b[0m\n",
      "\t\t\t\t\t\u001b[1m NODE\u001b[0m node_92294303-6bcf-4018-9a03-8a1fcdcbd1c6\n",
      "\t\t\t\t\t\u001b[1m MESSAGE:\u001b[0m training with arguments {'history_monitor': <fedbiomed.node.history_monitor.HistoryMonitor object at 0x7f582ae57fd0>, 'node_args': {'gpu': False, 'gpu_num': None, 'gpu_only': False}, 'epochs': 5}\u001b[0m\n",
      "-----------------------------------------------------------------\n",
      "2022-05-06 17:05:27,811 fedbiomed INFO - \u001b[1mWARNING\u001b[0m\n",
      "\t\t\t\t\t\u001b[1m NODE\u001b[0m node_92294303-6bcf-4018-9a03-8a1fcdcbd1c6\n",
      "\t\t\t\t\t\u001b[1m MESSAGE:\u001b[0m Loss plot displayed on Tensorboard may be inaccurate (due to some plain SGD scikit learn limitations)\u001b[0m\n",
      "-----------------------------------------------------------------\n",
      "2022-05-06 17:05:27,813 fedbiomed INFO - \u001b[1mTRAINING\u001b[0m \n",
      "\t\t\t\t\t NODE_ID: node_92294303-6bcf-4018-9a03-8a1fcdcbd1c6 \n",
      "\t\t\t\t\t Epoch: 0 | Completed: 150/150 (100%) \n",
      " \t\t\t\t\t Loss hinge: \u001b[1m36.128406\u001b[0m \n",
      "\t\t\t\t\t ---------\n",
      "2022-05-06 17:05:27,815 fedbiomed INFO - \u001b[1mWARNING\u001b[0m\n",
      "\t\t\t\t\t\u001b[1m NODE\u001b[0m node_92294303-6bcf-4018-9a03-8a1fcdcbd1c6\n",
      "\t\t\t\t\t\u001b[1m MESSAGE:\u001b[0m Loss plot displayed on Tensorboard may be inaccurate (due to some plain SGD scikit learn limitations)\u001b[0m\n",
      "-----------------------------------------------------------------\n",
      "2022-05-06 17:05:27,816 fedbiomed INFO - \u001b[1mTRAINING\u001b[0m \n",
      "\t\t\t\t\t NODE_ID: node_92294303-6bcf-4018-9a03-8a1fcdcbd1c6 \n",
      "\t\t\t\t\t Epoch: 1 | Completed: 150/150 (100%) \n",
      " \t\t\t\t\t Loss hinge: \u001b[1m28.261491\u001b[0m \n",
      "\t\t\t\t\t ---------\n",
      "2022-05-06 17:05:27,819 fedbiomed INFO - \u001b[1mWARNING\u001b[0m\n",
      "\t\t\t\t\t\u001b[1m NODE\u001b[0m node_92294303-6bcf-4018-9a03-8a1fcdcbd1c6\n",
      "\t\t\t\t\t\u001b[1m MESSAGE:\u001b[0m Loss plot displayed on Tensorboard may be inaccurate (due to some plain SGD scikit learn limitations)\u001b[0m\n",
      "-----------------------------------------------------------------\n"
     ]
    },
    {
     "name": "stderr",
     "output_type": "stream",
     "text": [
      "2022-05-06 17:05:27,819 fedbiomed INFO - \u001b[1mTRAINING\u001b[0m \n",
      "\t\t\t\t\t NODE_ID: node_92294303-6bcf-4018-9a03-8a1fcdcbd1c6 \n",
      "\t\t\t\t\t Epoch: 2 | Completed: 150/150 (100%) \n",
      " \t\t\t\t\t Loss hinge: \u001b[1m30.200886\u001b[0m \n",
      "\t\t\t\t\t ---------\n",
      "2022-05-06 17:05:27,822 fedbiomed INFO - \u001b[1mWARNING\u001b[0m\n",
      "\t\t\t\t\t\u001b[1m NODE\u001b[0m node_92294303-6bcf-4018-9a03-8a1fcdcbd1c6\n",
      "\t\t\t\t\t\u001b[1m MESSAGE:\u001b[0m Loss plot displayed on Tensorboard may be inaccurate (due to some plain SGD scikit learn limitations)\u001b[0m\n",
      "-----------------------------------------------------------------\n",
      "2022-05-06 17:05:27,822 fedbiomed INFO - \u001b[1mTRAINING\u001b[0m \n",
      "\t\t\t\t\t NODE_ID: node_92294303-6bcf-4018-9a03-8a1fcdcbd1c6 \n",
      "\t\t\t\t\t Epoch: 3 | Completed: 150/150 (100%) \n",
      " \t\t\t\t\t Loss hinge: \u001b[1m24.707545\u001b[0m \n",
      "\t\t\t\t\t ---------\n",
      "2022-05-06 17:05:27,825 fedbiomed INFO - \u001b[1mWARNING\u001b[0m\n",
      "\t\t\t\t\t\u001b[1m NODE\u001b[0m node_92294303-6bcf-4018-9a03-8a1fcdcbd1c6\n",
      "\t\t\t\t\t\u001b[1m MESSAGE:\u001b[0m Loss plot displayed on Tensorboard may be inaccurate (due to some plain SGD scikit learn limitations)\u001b[0m\n",
      "-----------------------------------------------------------------\n",
      "2022-05-06 17:05:27,826 fedbiomed INFO - \u001b[1mTRAINING\u001b[0m \n",
      "\t\t\t\t\t NODE_ID: node_92294303-6bcf-4018-9a03-8a1fcdcbd1c6 \n",
      "\t\t\t\t\t Epoch: 4 | Completed: 150/150 (100%) \n",
      " \t\t\t\t\t Loss hinge: \u001b[1m22.667306\u001b[0m \n",
      "\t\t\t\t\t ---------\n",
      "2022-05-06 17:05:27,838 fedbiomed INFO - \u001b[1mINFO\u001b[0m\n",
      "\t\t\t\t\t\u001b[1m NODE\u001b[0m node_92294303-6bcf-4018-9a03-8a1fcdcbd1c6\n",
      "\t\t\t\t\t\u001b[1m MESSAGE:\u001b[0m results uploaded successfully \u001b[0m\n",
      "-----------------------------------------------------------------\n",
      "2022-05-06 17:05:37,770 fedbiomed INFO - Downloading model params after training on node_658efe2a-5e4b-4daf-9931-32eb6ecefc32 - from http://localhost:8844/media/uploads/2022/05/06/node_params_f5314808-3a14-4d63-a5e1-6d525f423d42.pt\n",
      "2022-05-06 17:05:37,783 fedbiomed DEBUG - upload (HTTP GET request) of file node_params_2156f90a-cdbc-4de3-b823-59da0f45469e.pt successful, with status code 200\n",
      "2022-05-06 17:05:37,787 fedbiomed INFO - Downloading model params after training on node_92294303-6bcf-4018-9a03-8a1fcdcbd1c6 - from http://localhost:8844/media/uploads/2022/05/06/node_params_bfec03c0-5d15-4ccb-b9a9-7bbb143aa03d.pt\n",
      "2022-05-06 17:05:37,801 fedbiomed DEBUG - upload (HTTP GET request) of file node_params_69ba3d76-b34e-487d-9ffb-6a20b16a6fbb.pt successful, with status code 200\n",
      "2022-05-06 17:05:37,806 fedbiomed INFO - Nodes that successfully reply in round 0 ['node_658efe2a-5e4b-4daf-9931-32eb6ecefc32', 'node_92294303-6bcf-4018-9a03-8a1fcdcbd1c6']\n",
      "2022-05-06 17:05:37,822 fedbiomed DEBUG - upload (HTTP POST request) of file /home/gentoo/Projects/Fedbiomed/fedbiomed/var/experiments/Experiment_0106/aggregated_params_4a354e1b-4882-41ee-a9a9-0f302163eb28.pt successful, with status code 201\n",
      "2022-05-06 17:05:37,823 fedbiomed INFO - Saved aggregated params for round 0 in /home/gentoo/Projects/Fedbiomed/fedbiomed/var/experiments/Experiment_0106/aggregated_params_4a354e1b-4882-41ee-a9a9-0f302163eb28.pt\n",
      "2022-05-06 17:05:37,824 fedbiomed INFO - Sampled nodes in round 1 ['node_658efe2a-5e4b-4daf-9931-32eb6ecefc32', 'node_92294303-6bcf-4018-9a03-8a1fcdcbd1c6']\n",
      "2022-05-06 17:05:37,824 fedbiomed INFO - \u001b[1mSending request\u001b[0m \n",
      "\t\t\t\t\t\u001b[1m To\u001b[0m: node_658efe2a-5e4b-4daf-9931-32eb6ecefc32 \n",
      "\t\t\t\t\t\u001b[1m Request: \u001b[0m: Perform training with the arguments: {'researcher_id': 'researcher_994d2281-2f1b-4f9e-84fe-61a703e1bdfe', 'job_id': '66d9cbac-3185-4d08-b8e5-ebf872edfb49', 'training_args': {'test_ratio': 0.0, 'test_on_local_updates': False, 'test_on_global_updates': False, 'test_metric': None, 'test_metric_args': {}, 'epochs': 5}, 'training': True, 'model_args': {'max_iter': 1000, 'tol': 0.001, 'n_features': 20, 'n_classes': 3, 'verbose': 1}, 'command': 'train', 'model_url': 'http://localhost:8844/media/uploads/2022/05/06/my_model_1f7305ac-47a9-4669-95a4-bbbbb7ad74b2.py', 'params_url': 'http://localhost:8844/media/uploads/2022/05/06/aggregated_params_4a354e1b-4882-41ee-a9a9-0f302163eb28.pt', 'model_class': 'SGDClassifierTrainingPlan', 'training_data': {'node_658efe2a-5e4b-4daf-9931-32eb6ecefc32': ['dataset_6f20ac66-402f-4e98-affe-163e87a90f38']}} \n",
      " -----------------------------------------------------------------\n",
      "2022-05-06 17:05:37,824 fedbiomed DEBUG - researcher_994d2281-2f1b-4f9e-84fe-61a703e1bdfe\n",
      "2022-05-06 17:05:37,825 fedbiomed INFO - \u001b[1mSending request\u001b[0m \n",
      "\t\t\t\t\t\u001b[1m To\u001b[0m: node_92294303-6bcf-4018-9a03-8a1fcdcbd1c6 \n",
      "\t\t\t\t\t\u001b[1m Request: \u001b[0m: Perform training with the arguments: {'researcher_id': 'researcher_994d2281-2f1b-4f9e-84fe-61a703e1bdfe', 'job_id': '66d9cbac-3185-4d08-b8e5-ebf872edfb49', 'training_args': {'test_ratio': 0.0, 'test_on_local_updates': False, 'test_on_global_updates': False, 'test_metric': None, 'test_metric_args': {}, 'epochs': 5}, 'training': True, 'model_args': {'max_iter': 1000, 'tol': 0.001, 'n_features': 20, 'n_classes': 3, 'verbose': 1}, 'command': 'train', 'model_url': 'http://localhost:8844/media/uploads/2022/05/06/my_model_1f7305ac-47a9-4669-95a4-bbbbb7ad74b2.py', 'params_url': 'http://localhost:8844/media/uploads/2022/05/06/aggregated_params_4a354e1b-4882-41ee-a9a9-0f302163eb28.pt', 'model_class': 'SGDClassifierTrainingPlan', 'training_data': {'node_92294303-6bcf-4018-9a03-8a1fcdcbd1c6': ['dataset_4c956558-9b75-40b7-a352-ee1910103795']}} \n",
      " -----------------------------------------------------------------\n",
      "2022-05-06 17:05:37,826 fedbiomed DEBUG - researcher_994d2281-2f1b-4f9e-84fe-61a703e1bdfe\n",
      "2022-05-06 17:05:37,836 fedbiomed INFO - \u001b[1mWARNING\u001b[0m\n",
      "\t\t\t\t\t\u001b[1m NODE\u001b[0m node_658efe2a-5e4b-4daf-9931-32eb6ecefc32\n",
      "\t\t\t\t\t\u001b[1m MESSAGE:\u001b[0m There is no test activated for the round. Please set flag for `test_on_global_updates`, `test_on_local_updates`, or both. Splitting dataset for testing will be ignored\u001b[0m\n",
      "-----------------------------------------------------------------\n",
      "2022-05-06 17:05:37,838 fedbiomed INFO - \u001b[1mINFO\u001b[0m\n",
      "\t\t\t\t\t\u001b[1m NODE\u001b[0m node_658efe2a-5e4b-4daf-9931-32eb6ecefc32\n",
      "\t\t\t\t\t\u001b[1m MESSAGE:\u001b[0m training with arguments {'history_monitor': <fedbiomed.node.history_monitor.HistoryMonitor object at 0x7f5507bd56a0>, 'node_args': {'gpu': False, 'gpu_num': None, 'gpu_only': False}, 'epochs': 5}\u001b[0m\n",
      "-----------------------------------------------------------------\n",
      "2022-05-06 17:05:37,839 fedbiomed INFO - \u001b[1mWARNING\u001b[0m\n",
      "\t\t\t\t\t\u001b[1m NODE\u001b[0m node_92294303-6bcf-4018-9a03-8a1fcdcbd1c6\n",
      "\t\t\t\t\t\u001b[1m MESSAGE:\u001b[0m There is no test activated for the round. Please set flag for `test_on_global_updates`, `test_on_local_updates`, or both. Splitting dataset for testing will be ignored\u001b[0m\n",
      "-----------------------------------------------------------------\n",
      "2022-05-06 17:05:37,841 fedbiomed INFO - \u001b[1mWARNING\u001b[0m\n",
      "\t\t\t\t\t\u001b[1m NODE\u001b[0m node_658efe2a-5e4b-4daf-9931-32eb6ecefc32\n",
      "\t\t\t\t\t\u001b[1m MESSAGE:\u001b[0m Loss plot displayed on Tensorboard may be inaccurate (due to some plain SGD scikit learn limitations)\u001b[0m\n",
      "-----------------------------------------------------------------\n",
      "2022-05-06 17:05:37,842 fedbiomed INFO - \u001b[1mTRAINING\u001b[0m \n",
      "\t\t\t\t\t NODE_ID: node_658efe2a-5e4b-4daf-9931-32eb6ecefc32 \n",
      "\t\t\t\t\t Epoch: 0 | Completed: 100/100 (100%) \n",
      " \t\t\t\t\t Loss hinge: \u001b[1m19.526040\u001b[0m \n",
      "\t\t\t\t\t ---------\n",
      "2022-05-06 17:05:37,843 fedbiomed INFO - \u001b[1mINFO\u001b[0m\n",
      "\t\t\t\t\t\u001b[1m NODE\u001b[0m node_92294303-6bcf-4018-9a03-8a1fcdcbd1c6\n",
      "\t\t\t\t\t\u001b[1m MESSAGE:\u001b[0m training with arguments {'history_monitor': <fedbiomed.node.history_monitor.HistoryMonitor object at 0x7f582ae41af0>, 'node_args': {'gpu': False, 'gpu_num': None, 'gpu_only': False}, 'epochs': 5}\u001b[0m\n",
      "-----------------------------------------------------------------\n",
      "2022-05-06 17:05:37,844 fedbiomed INFO - \u001b[1mWARNING\u001b[0m\n",
      "\t\t\t\t\t\u001b[1m NODE\u001b[0m node_658efe2a-5e4b-4daf-9931-32eb6ecefc32\n",
      "\t\t\t\t\t\u001b[1m MESSAGE:\u001b[0m Loss plot displayed on Tensorboard may be inaccurate (due to some plain SGD scikit learn limitations)\u001b[0m\n",
      "-----------------------------------------------------------------\n",
      "2022-05-06 17:05:37,845 fedbiomed INFO - \u001b[1mTRAINING\u001b[0m \n",
      "\t\t\t\t\t NODE_ID: node_658efe2a-5e4b-4daf-9931-32eb6ecefc32 \n",
      "\t\t\t\t\t Epoch: 1 | Completed: 100/100 (100%) \n",
      " \t\t\t\t\t Loss hinge: \u001b[1m22.240397\u001b[0m \n",
      "\t\t\t\t\t ---------\n",
      "2022-05-06 17:05:37,847 fedbiomed INFO - \u001b[1mWARNING\u001b[0m\n",
      "\t\t\t\t\t\u001b[1m NODE\u001b[0m node_658efe2a-5e4b-4daf-9931-32eb6ecefc32\n",
      "\t\t\t\t\t\u001b[1m MESSAGE:\u001b[0m Loss plot displayed on Tensorboard may be inaccurate (due to some plain SGD scikit learn limitations)\u001b[0m\n",
      "-----------------------------------------------------------------\n"
     ]
    },
    {
     "name": "stderr",
     "output_type": "stream",
     "text": [
      "2022-05-06 17:05:37,848 fedbiomed INFO - \u001b[1mTRAINING\u001b[0m \n",
      "\t\t\t\t\t NODE_ID: node_658efe2a-5e4b-4daf-9931-32eb6ecefc32 \n",
      "\t\t\t\t\t Epoch: 2 | Completed: 100/100 (100%) \n",
      " \t\t\t\t\t Loss hinge: \u001b[1m18.682613\u001b[0m \n",
      "\t\t\t\t\t ---------\n",
      "2022-05-06 17:05:37,849 fedbiomed INFO - \u001b[1mWARNING\u001b[0m\n",
      "\t\t\t\t\t\u001b[1m NODE\u001b[0m node_92294303-6bcf-4018-9a03-8a1fcdcbd1c6\n",
      "\t\t\t\t\t\u001b[1m MESSAGE:\u001b[0m Loss plot displayed on Tensorboard may be inaccurate (due to some plain SGD scikit learn limitations)\u001b[0m\n",
      "-----------------------------------------------------------------\n",
      "2022-05-06 17:05:37,850 fedbiomed INFO - \u001b[1mTRAINING\u001b[0m \n",
      "\t\t\t\t\t NODE_ID: node_92294303-6bcf-4018-9a03-8a1fcdcbd1c6 \n",
      "\t\t\t\t\t Epoch: 0 | Completed: 150/150 (100%) \n",
      " \t\t\t\t\t Loss hinge: \u001b[1m23.668177\u001b[0m \n",
      "\t\t\t\t\t ---------\n",
      "2022-05-06 17:05:37,851 fedbiomed INFO - \u001b[1mWARNING\u001b[0m\n",
      "\t\t\t\t\t\u001b[1m NODE\u001b[0m node_658efe2a-5e4b-4daf-9931-32eb6ecefc32\n",
      "\t\t\t\t\t\u001b[1m MESSAGE:\u001b[0m Loss plot displayed on Tensorboard may be inaccurate (due to some plain SGD scikit learn limitations)\u001b[0m\n",
      "-----------------------------------------------------------------\n",
      "2022-05-06 17:05:37,851 fedbiomed INFO - \u001b[1mTRAINING\u001b[0m \n",
      "\t\t\t\t\t NODE_ID: node_658efe2a-5e4b-4daf-9931-32eb6ecefc32 \n",
      "\t\t\t\t\t Epoch: 3 | Completed: 100/100 (100%) \n",
      " \t\t\t\t\t Loss hinge: \u001b[1m18.200468\u001b[0m \n",
      "\t\t\t\t\t ---------\n",
      "2022-05-06 17:05:37,859 fedbiomed INFO - \u001b[1mWARNING\u001b[0m\n",
      "\t\t\t\t\t\u001b[1m NODE\u001b[0m node_92294303-6bcf-4018-9a03-8a1fcdcbd1c6\n",
      "\t\t\t\t\t\u001b[1m MESSAGE:\u001b[0m Loss plot displayed on Tensorboard may be inaccurate (due to some plain SGD scikit learn limitations)\u001b[0m\n",
      "-----------------------------------------------------------------\n",
      "2022-05-06 17:05:37,860 fedbiomed INFO - \u001b[1mTRAINING\u001b[0m \n",
      "\t\t\t\t\t NODE_ID: node_92294303-6bcf-4018-9a03-8a1fcdcbd1c6 \n",
      "\t\t\t\t\t Epoch: 1 | Completed: 150/150 (100%) \n",
      " \t\t\t\t\t Loss hinge: \u001b[1m23.555996\u001b[0m \n",
      "\t\t\t\t\t ---------\n",
      "2022-05-06 17:05:37,861 fedbiomed INFO - \u001b[1mWARNING\u001b[0m\n",
      "\t\t\t\t\t\u001b[1m NODE\u001b[0m node_658efe2a-5e4b-4daf-9931-32eb6ecefc32\n",
      "\t\t\t\t\t\u001b[1m MESSAGE:\u001b[0m Loss plot displayed on Tensorboard may be inaccurate (due to some plain SGD scikit learn limitations)\u001b[0m\n",
      "-----------------------------------------------------------------\n",
      "2022-05-06 17:05:37,862 fedbiomed INFO - \u001b[1mTRAINING\u001b[0m \n",
      "\t\t\t\t\t NODE_ID: node_658efe2a-5e4b-4daf-9931-32eb6ecefc32 \n",
      "\t\t\t\t\t Epoch: 4 | Completed: 100/100 (100%) \n",
      " \t\t\t\t\t Loss hinge: \u001b[1m14.616043\u001b[0m \n",
      "\t\t\t\t\t ---------\n",
      "2022-05-06 17:05:37,863 fedbiomed INFO - \u001b[1mWARNING\u001b[0m\n",
      "\t\t\t\t\t\u001b[1m NODE\u001b[0m node_92294303-6bcf-4018-9a03-8a1fcdcbd1c6\n",
      "\t\t\t\t\t\u001b[1m MESSAGE:\u001b[0m Loss plot displayed on Tensorboard may be inaccurate (due to some plain SGD scikit learn limitations)\u001b[0m\n",
      "-----------------------------------------------------------------\n",
      "2022-05-06 17:05:37,863 fedbiomed INFO - \u001b[1mTRAINING\u001b[0m \n",
      "\t\t\t\t\t NODE_ID: node_92294303-6bcf-4018-9a03-8a1fcdcbd1c6 \n",
      "\t\t\t\t\t Epoch: 2 | Completed: 150/150 (100%) \n",
      " \t\t\t\t\t Loss hinge: \u001b[1m16.873154\u001b[0m \n",
      "\t\t\t\t\t ---------\n",
      "2022-05-06 17:05:37,865 fedbiomed INFO - \u001b[1mWARNING\u001b[0m\n",
      "\t\t\t\t\t\u001b[1m NODE\u001b[0m node_92294303-6bcf-4018-9a03-8a1fcdcbd1c6\n",
      "\t\t\t\t\t\u001b[1m MESSAGE:\u001b[0m Loss plot displayed on Tensorboard may be inaccurate (due to some plain SGD scikit learn limitations)\u001b[0m\n",
      "-----------------------------------------------------------------\n",
      "2022-05-06 17:05:37,865 fedbiomed INFO - \u001b[1mTRAINING\u001b[0m \n",
      "\t\t\t\t\t NODE_ID: node_92294303-6bcf-4018-9a03-8a1fcdcbd1c6 \n",
      "\t\t\t\t\t Epoch: 3 | Completed: 150/150 (100%) \n",
      " \t\t\t\t\t Loss hinge: \u001b[1m16.526126\u001b[0m \n",
      "\t\t\t\t\t ---------\n",
      "2022-05-06 17:05:37,870 fedbiomed INFO - \u001b[1mINFO\u001b[0m\n",
      "\t\t\t\t\t\u001b[1m NODE\u001b[0m node_658efe2a-5e4b-4daf-9931-32eb6ecefc32\n",
      "\t\t\t\t\t\u001b[1m MESSAGE:\u001b[0m results uploaded successfully \u001b[0m\n",
      "-----------------------------------------------------------------\n",
      "2022-05-06 17:05:37,871 fedbiomed INFO - \u001b[1mWARNING\u001b[0m\n",
      "\t\t\t\t\t\u001b[1m NODE\u001b[0m node_92294303-6bcf-4018-9a03-8a1fcdcbd1c6\n",
      "\t\t\t\t\t\u001b[1m MESSAGE:\u001b[0m Loss plot displayed on Tensorboard may be inaccurate (due to some plain SGD scikit learn limitations)\u001b[0m\n",
      "-----------------------------------------------------------------\n",
      "2022-05-06 17:05:37,872 fedbiomed INFO - \u001b[1mTRAINING\u001b[0m \n",
      "\t\t\t\t\t NODE_ID: node_92294303-6bcf-4018-9a03-8a1fcdcbd1c6 \n",
      "\t\t\t\t\t Epoch: 4 | Completed: 150/150 (100%) \n",
      " \t\t\t\t\t Loss hinge: \u001b[1m16.976624\u001b[0m \n",
      "\t\t\t\t\t ---------\n",
      "2022-05-06 17:05:37,884 fedbiomed INFO - \u001b[1mINFO\u001b[0m\n",
      "\t\t\t\t\t\u001b[1m NODE\u001b[0m node_92294303-6bcf-4018-9a03-8a1fcdcbd1c6\n",
      "\t\t\t\t\t\u001b[1m MESSAGE:\u001b[0m results uploaded successfully \u001b[0m\n",
      "-----------------------------------------------------------------\n",
      "2022-05-06 17:05:47,834 fedbiomed INFO - Downloading model params after training on node_658efe2a-5e4b-4daf-9931-32eb6ecefc32 - from http://localhost:8844/media/uploads/2022/05/06/node_params_ae167241-41f1-429d-9b03-bd6e6007cf4a.pt\n",
      "2022-05-06 17:05:47,849 fedbiomed DEBUG - upload (HTTP GET request) of file node_params_4b9382f9-13e0-4bb9-9f2c-a6710f720437.pt successful, with status code 200\n",
      "2022-05-06 17:05:47,853 fedbiomed INFO - Downloading model params after training on node_92294303-6bcf-4018-9a03-8a1fcdcbd1c6 - from http://localhost:8844/media/uploads/2022/05/06/node_params_9e4108fd-edcf-43e3-8e6b-89b86c6999c3.pt\n",
      "2022-05-06 17:05:47,864 fedbiomed DEBUG - upload (HTTP GET request) of file node_params_a26c4a34-a698-4434-9bab-b2cebc6b0514.pt successful, with status code 200\n",
      "2022-05-06 17:05:47,869 fedbiomed INFO - Nodes that successfully reply in round 1 ['node_658efe2a-5e4b-4daf-9931-32eb6ecefc32', 'node_92294303-6bcf-4018-9a03-8a1fcdcbd1c6']\n",
      "2022-05-06 17:05:47,885 fedbiomed DEBUG - upload (HTTP POST request) of file /home/gentoo/Projects/Fedbiomed/fedbiomed/var/experiments/Experiment_0106/aggregated_params_f471b8ba-96e9-432d-8a27-004144aebd3a.pt successful, with status code 201\n",
      "2022-05-06 17:05:47,886 fedbiomed INFO - Saved aggregated params for round 1 in /home/gentoo/Projects/Fedbiomed/fedbiomed/var/experiments/Experiment_0106/aggregated_params_f471b8ba-96e9-432d-8a27-004144aebd3a.pt\n"
     ]
    },
    {
     "data": {
      "text/plain": [
       "2"
      ]
     },
     "execution_count": 5,
     "metadata": {},
     "output_type": "execute_result"
    }
   ],
   "source": [
    "exp.run()"
   ]
  },
  {
   "cell_type": "markdown",
   "id": "f1ad910f",
   "metadata": {},
   "source": [
    "## BernoulliNB\n",
    "Binary Classification\n",
    "### Description :\n",
    "\n",
    "Perfom binary classification on datasets of tag **'perp'** explained in previous sections. \n",
    "We will fit a BernoulliNB (classifier) using Federated Learning."
   ]
  },
  {
   "cell_type": "markdown",
   "id": "368bd2fe",
   "metadata": {},
   "source": [
    "**model_args** is a dictionnary containing your model arguments, in case of SGDRegressor this will be max_iter and tol.\n",
    "\n",
    "**training_args** is a dictionnary with parameters , related to Federated Learning. "
   ]
  },
  {
   "cell_type": "code",
   "execution_count": 1,
   "id": "d6850cfb",
   "metadata": {},
   "outputs": [],
   "source": [
    "n_features = 20\n",
    "n_classes = 2\n",
    "\n",
    "model_args = {'max_iter':1000, 'tol': 1e-3 , \n",
    "               'n_features' : n_features, 'n_classes' : n_classes}\n",
    "\n",
    "training_args = {   \n",
    "    'epochs': 5, \n",
    "}"
   ]
  },
  {
   "cell_type": "markdown",
   "id": "78e43787",
   "metadata": {},
   "source": [
    "Hereafter the template of the class you should provide to Fedbiomed :\n",
    "    \n",
    "**training_data** : you must return here the (X,y) that must be of the same type of \n",
    "your method partial_fit parameters. "
   ]
  },
  {
   "cell_type": "code",
   "execution_count": 2,
   "id": "8c899059",
   "metadata": {},
   "outputs": [],
   "source": [
    "from fedbiomed.common.training_plans import FedBernoulliNB\n",
    "from fedbiomed.common.data import DataManager\n",
    "class BernoulliNBTrainingPlan(FedBernoulliNB):\n",
    "    def __init__(self, model_args: dict = {}):\n",
    "        super().__init__(model_args)\n",
    "        self.add_dependency([\"from fedbiomed.common.training_plans import FedBernoulliNB\",\n",
    "                             \"from sklearn.naive_bayes import BernoulliNB\"])\n",
    "    \n",
    "    def training_data(self):\n",
    "        NUMBER_COLS = 20\n",
    "        dataset = pd.read_csv(self.dataset_path,header=None,delimiter=',')\n",
    "        X = dataset.iloc[:,0:NUMBER_COLS].values\n",
    "        y = dataset.iloc[:,NUMBER_COLS]       \n",
    "        return DataManager(dataset=X,target=y.values)"
   ]
  },
  {
   "cell_type": "code",
   "execution_count": 3,
   "id": "72f15019",
   "metadata": {},
   "outputs": [
    {
     "name": "stderr",
     "output_type": "stream",
     "text": [
      "2022-05-06 17:18:13,421 fedbiomed INFO - Component environment:\n",
      "2022-05-06 17:18:13,422 fedbiomed INFO - type = ComponentType.RESEARCHER\n",
      "2022-05-06 17:18:13,503 fedbiomed INFO - Messaging researcher_994d2281-2f1b-4f9e-84fe-61a703e1bdfe successfully connected to the message broker, object = <fedbiomed.common.messaging.Messaging object at 0x7f67164a37f0>\n",
      "2022-05-06 17:18:13,550 fedbiomed INFO - Searching dataset with data tags: ['perp'] for all nodes\n",
      "2022-05-06 17:18:23,562 fedbiomed INFO - Node selected for training -> node_658efe2a-5e4b-4daf-9931-32eb6ecefc32\n",
      "2022-05-06 17:18:23,564 fedbiomed INFO - Node selected for training -> node_92294303-6bcf-4018-9a03-8a1fcdcbd1c6\n",
      "2022-05-06 17:18:23,568 fedbiomed INFO - Checking data quality of federated datasets...\n",
      "2022-05-06 17:18:23,574 fedbiomed DEBUG - Model file has been saved: /home/gentoo/Projects/Fedbiomed/fedbiomed/var/experiments/Experiment_0111/my_model_5b132a3c-db88-4874-a745-29379500e7e8.py\n",
      "2022-05-06 17:18:23,604 fedbiomed DEBUG - upload (HTTP POST request) of file /home/gentoo/Projects/Fedbiomed/fedbiomed/var/experiments/Experiment_0111/my_model_5b132a3c-db88-4874-a745-29379500e7e8.py successful, with status code 201\n",
      "2022-05-06 17:18:23,619 fedbiomed DEBUG - upload (HTTP POST request) of file /home/gentoo/Projects/Fedbiomed/fedbiomed/var/experiments/Experiment_0111/aggregated_params_init_015fcac7-e7d8-4a22-95aa-c9db8553ff8c.pt successful, with status code 201\n"
     ]
    },
    {
     "name": "stdout",
     "output_type": "stream",
     "text": [
      "model id sklearntarining plan 140080854781280\n"
     ]
    }
   ],
   "source": [
    "from fedbiomed.researcher.experiment import Experiment\n",
    "from fedbiomed.researcher.aggregators.fedavg import FedAverage\n",
    "\n",
    "tags =  ['perp']\n",
    "rounds = 2\n",
    "\n",
    "# search for corresponding datasets across nodes datasets\n",
    "exp = Experiment(tags=tags,\n",
    "                 model_args=model_args,\n",
    "                 model_class=BernoulliNBTrainingPlan,\n",
    "                 training_args=training_args,\n",
    "                 round_limit=rounds,\n",
    "                 aggregator=FedAverage(),\n",
    "                 node_selection_strategy=None)\n"
   ]
  },
  {
   "cell_type": "code",
   "execution_count": 4,
   "id": "a6bb18c3",
   "metadata": {},
   "outputs": [
    {
     "name": "stderr",
     "output_type": "stream",
     "text": [
      "2022-05-06 17:18:30,299 fedbiomed INFO - Sampled nodes in round 0 ['node_658efe2a-5e4b-4daf-9931-32eb6ecefc32', 'node_92294303-6bcf-4018-9a03-8a1fcdcbd1c6']\n",
      "2022-05-06 17:18:30,300 fedbiomed INFO - \u001b[1mSending request\u001b[0m \n",
      "\t\t\t\t\t\u001b[1m To\u001b[0m: node_658efe2a-5e4b-4daf-9931-32eb6ecefc32 \n",
      "\t\t\t\t\t\u001b[1m Request: \u001b[0m: Perform training with the arguments: {'researcher_id': 'researcher_994d2281-2f1b-4f9e-84fe-61a703e1bdfe', 'job_id': 'fa864698-6077-4132-9e77-54530a098e65', 'training_args': {'test_ratio': 0.0, 'test_on_local_updates': False, 'test_on_global_updates': False, 'test_metric': None, 'test_metric_args': {}, 'epochs': 5}, 'training': True, 'model_args': {'max_iter': 1000, 'tol': 0.001, 'n_features': 20, 'n_classes': 2}, 'command': 'train', 'model_url': 'http://localhost:8844/media/uploads/2022/05/06/my_model_5b132a3c-db88-4874-a745-29379500e7e8.py', 'params_url': 'http://localhost:8844/media/uploads/2022/05/06/aggregated_params_init_015fcac7-e7d8-4a22-95aa-c9db8553ff8c.pt', 'model_class': 'BernoulliNBTrainingPlan', 'training_data': {'node_658efe2a-5e4b-4daf-9931-32eb6ecefc32': ['dataset_6ca6e860-8692-40f3-8402-4c9e3cd286e3']}} \n",
      " -----------------------------------------------------------------\n",
      "2022-05-06 17:18:30,301 fedbiomed DEBUG - researcher_994d2281-2f1b-4f9e-84fe-61a703e1bdfe\n",
      "2022-05-06 17:18:30,301 fedbiomed INFO - \u001b[1mSending request\u001b[0m \n",
      "\t\t\t\t\t\u001b[1m To\u001b[0m: node_92294303-6bcf-4018-9a03-8a1fcdcbd1c6 \n",
      "\t\t\t\t\t\u001b[1m Request: \u001b[0m: Perform training with the arguments: {'researcher_id': 'researcher_994d2281-2f1b-4f9e-84fe-61a703e1bdfe', 'job_id': 'fa864698-6077-4132-9e77-54530a098e65', 'training_args': {'test_ratio': 0.0, 'test_on_local_updates': False, 'test_on_global_updates': False, 'test_metric': None, 'test_metric_args': {}, 'epochs': 5}, 'training': True, 'model_args': {'max_iter': 1000, 'tol': 0.001, 'n_features': 20, 'n_classes': 2}, 'command': 'train', 'model_url': 'http://localhost:8844/media/uploads/2022/05/06/my_model_5b132a3c-db88-4874-a745-29379500e7e8.py', 'params_url': 'http://localhost:8844/media/uploads/2022/05/06/aggregated_params_init_015fcac7-e7d8-4a22-95aa-c9db8553ff8c.pt', 'model_class': 'BernoulliNBTrainingPlan', 'training_data': {'node_92294303-6bcf-4018-9a03-8a1fcdcbd1c6': ['dataset_85dbe3b2-92c0-42ed-bf2c-4be87275e95d']}} \n",
      " -----------------------------------------------------------------\n",
      "2022-05-06 17:18:30,302 fedbiomed DEBUG - researcher_994d2281-2f1b-4f9e-84fe-61a703e1bdfe\n",
      "2022-05-06 17:18:30,341 fedbiomed INFO - \u001b[1mWARNING\u001b[0m\n",
      "\t\t\t\t\t\u001b[1m NODE\u001b[0m node_658efe2a-5e4b-4daf-9931-32eb6ecefc32\n",
      "\t\t\t\t\t\u001b[1m MESSAGE:\u001b[0m There is no test activated for the round. Please set flag for `test_on_global_updates`, `test_on_local_updates`, or both. Splitting dataset for testing will be ignored\u001b[0m\n",
      "-----------------------------------------------------------------\n",
      "2022-05-06 17:18:30,342 fedbiomed INFO - \u001b[1mWARNING\u001b[0m\n",
      "\t\t\t\t\t\u001b[1m NODE\u001b[0m node_92294303-6bcf-4018-9a03-8a1fcdcbd1c6\n",
      "\t\t\t\t\t\u001b[1m MESSAGE:\u001b[0m There is no test activated for the round. Please set flag for `test_on_global_updates`, `test_on_local_updates`, or both. Splitting dataset for testing will be ignored\u001b[0m\n",
      "-----------------------------------------------------------------\n",
      "2022-05-06 17:18:30,348 fedbiomed INFO - \u001b[1mINFO\u001b[0m\n",
      "\t\t\t\t\t\u001b[1m NODE\u001b[0m node_658efe2a-5e4b-4daf-9931-32eb6ecefc32\n",
      "\t\t\t\t\t\u001b[1m MESSAGE:\u001b[0m training with arguments {'history_monitor': <fedbiomed.node.history_monitor.HistoryMonitor object at 0x7f068eb57f40>, 'node_args': {'gpu': False, 'gpu_num': None, 'gpu_only': False}, 'epochs': 5}\u001b[0m\n",
      "-----------------------------------------------------------------\n",
      "2022-05-06 17:18:30,349 fedbiomed INFO - \u001b[1mINFO\u001b[0m\n",
      "\t\t\t\t\t\u001b[1m NODE\u001b[0m node_92294303-6bcf-4018-9a03-8a1fcdcbd1c6\n",
      "\t\t\t\t\t\u001b[1m MESSAGE:\u001b[0m training with arguments {'history_monitor': <fedbiomed.node.history_monitor.HistoryMonitor object at 0x7fbf39ae7fa0>, 'node_args': {'gpu': False, 'gpu_num': None, 'gpu_only': False}, 'epochs': 5}\u001b[0m\n",
      "-----------------------------------------------------------------\n",
      "2022-05-06 17:18:30,362 fedbiomed INFO - \u001b[1mINFO\u001b[0m\n",
      "\t\t\t\t\t\u001b[1m NODE\u001b[0m node_92294303-6bcf-4018-9a03-8a1fcdcbd1c6\n",
      "\t\t\t\t\t\u001b[1m MESSAGE:\u001b[0m results uploaded successfully \u001b[0m\n",
      "-----------------------------------------------------------------\n",
      "2022-05-06 17:18:30,371 fedbiomed INFO - \u001b[1mINFO\u001b[0m\n",
      "\t\t\t\t\t\u001b[1m NODE\u001b[0m node_658efe2a-5e4b-4daf-9931-32eb6ecefc32\n",
      "\t\t\t\t\t\u001b[1m MESSAGE:\u001b[0m results uploaded successfully \u001b[0m\n",
      "-----------------------------------------------------------------\n",
      "2022-05-06 17:18:40,315 fedbiomed INFO - Downloading model params after training on node_92294303-6bcf-4018-9a03-8a1fcdcbd1c6 - from http://localhost:8844/media/uploads/2022/05/06/node_params_8436ad2c-2ec8-4ff7-ae6f-7eeab511445e.pt\n",
      "2022-05-06 17:18:40,329 fedbiomed DEBUG - upload (HTTP GET request) of file node_params_373197ce-753c-4140-b562-465b78c9044c.pt successful, with status code 200\n",
      "2022-05-06 17:18:40,332 fedbiomed INFO - Downloading model params after training on node_658efe2a-5e4b-4daf-9931-32eb6ecefc32 - from http://localhost:8844/media/uploads/2022/05/06/node_params_30c4967f-f10a-402a-a1f6-350c6bff0041.pt\n",
      "2022-05-06 17:18:40,336 fedbiomed DEBUG - upload (HTTP GET request) of file node_params_4842f1ae-7359-489e-89d5-77eb45f2460c.pt successful, with status code 200\n",
      "2022-05-06 17:18:40,338 fedbiomed INFO - Nodes that successfully reply in round 0 ['node_92294303-6bcf-4018-9a03-8a1fcdcbd1c6', 'node_658efe2a-5e4b-4daf-9931-32eb6ecefc32']\n",
      "2022-05-06 17:18:40,341 fedbiomed CRITICAL - Fed-BioMed stopped due to unknown error:\n",
      "local variable 't' referenced before assignment\n"
     ]
    },
    {
     "name": "stdout",
     "output_type": "stream",
     "text": [
      "\n",
      "--------------------\n",
      "Fed-BioMed researcher stopped due to unknown error:\n",
      "local variable 't' referenced before assignment\n",
      "More details in the backtrace extract below\n",
      "--------------------\n",
      "Traceback (most recent call last):\n",
      "  File \"/home/gentoo/Projects/Fedbiomed/fedbiomed/fedbiomed/researcher/experiment.py\", line 61, in payload\n",
      "    ret = function(*args, **kwargs)\n",
      "  File \"/home/gentoo/Projects/Fedbiomed/fedbiomed/fedbiomed/researcher/experiment.py\", line 1382, in run_once\n",
      "    aggregated_params = self._aggregator.aggregate(model_params,\n",
      "  File \"/home/gentoo/Projects/Fedbiomed/fedbiomed/fedbiomed/researcher/aggregators/fedavg.py\", line 36, in aggregate\n",
      "    return federated_averaging(model_params, weights)\n",
      "  File \"/home/gentoo/Projects/Fedbiomed/fedbiomed/fedbiomed/researcher/aggregators/functional.py\", line 57, in federated_averaging\n",
      "    if t == 'tensor':\n",
      "UnboundLocalError: local variable 't' referenced before assignment\n",
      "--------------------\n"
     ]
    },
    {
     "name": "stderr",
     "output_type": "stream",
     "text": [
      "2022-05-06 17:24:16,527 fedbiomed INFO - \u001b[1mCRITICAL\u001b[0m\n",
      "\t\t\t\t\t\u001b[1m NODE\u001b[0m node_92294303-6bcf-4018-9a03-8a1fcdcbd1c6\n",
      "\t\t\t\t\t\u001b[1m MESSAGE:\u001b[0m Node stopped in signal_handler, probably by user decision (Ctrl C)\u001b[0m\n",
      "-----------------------------------------------------------------\n",
      "2022-05-06 17:24:22,269 fedbiomed INFO - \u001b[1mINFO\u001b[0m\n",
      "\t\t\t\t\t\u001b[1m NODE\u001b[0m node_92294303-6bcf-4018-9a03-8a1fcdcbd1c6\n",
      "\t\t\t\t\t\u001b[1m MESSAGE:\u001b[0m Starting task manager\u001b[0m\n",
      "-----------------------------------------------------------------\n",
      "2022-05-06 17:24:22,919 fedbiomed INFO - \u001b[1mCRITICAL\u001b[0m\n",
      "\t\t\t\t\t\u001b[1m NODE\u001b[0m node_658efe2a-5e4b-4daf-9931-32eb6ecefc32\n",
      "\t\t\t\t\t\u001b[1m MESSAGE:\u001b[0m Node stopped in signal_handler, probably by user decision (Ctrl C)\u001b[0m\n",
      "-----------------------------------------------------------------\n",
      "2022-05-06 17:24:27,819 fedbiomed INFO - \u001b[1mINFO\u001b[0m\n",
      "\t\t\t\t\t\u001b[1m NODE\u001b[0m node_658efe2a-5e4b-4daf-9931-32eb6ecefc32\n",
      "\t\t\t\t\t\u001b[1m MESSAGE:\u001b[0m Starting task manager\u001b[0m\n",
      "-----------------------------------------------------------------\n"
     ]
    }
   ],
   "source": [
    "exp.run()"
   ]
  },
  {
   "cell_type": "code",
   "execution_count": null,
   "id": "c483bb4e",
   "metadata": {},
   "outputs": [],
   "source": []
  }
 ],
 "metadata": {
  "kernelspec": {
   "display_name": "Python 3 (ipykernel)",
   "language": "python",
   "name": "python3"
  },
  "language_info": {
   "codemirror_mode": {
    "name": "ipython",
    "version": 3
   },
   "file_extension": ".py",
   "mimetype": "text/x-python",
   "name": "python",
   "nbconvert_exporter": "python",
   "pygments_lexer": "ipython3",
   "version": "3.9.12"
  }
 },
 "nbformat": 4,
 "nbformat_minor": 5
}

{
 "cells": [
  {
   "cell_type": "markdown",
   "id": "6c59bed7",
   "metadata": {
    "pycharm": {
     "name": "#%% md\n"
    }
   },
   "source": [
    "# Fedbiomed Researcher to train a federated scikit learn model."
   ]
  },
  {
   "cell_type": "markdown",
   "id": "6dd9d920",
   "metadata": {
    "pycharm": {
     "name": "#%% md\n"
    }
   },
   "source": [
    "## Perceptron\n",
    "Binary Classification\n",
    "### Purpose of the exercise :\n",
    "Three datasets `c1.csv` , `c2.csv` and `c3.csv` has been generated with a target column of 2 different classes.\n",
    "We will fit a Perceptron (classifier) using Federated Learning."
   ]
  },
  {
   "cell_type": "markdown",
   "id": "49a27982",
   "metadata": {
    "pycharm": {
     "name": "#%% md\n"
    }
   },
   "source": [
    "### Get the data \n",
    "\n",
    "We use the make_classification dataset from sklearn datasets"
   ]
  },
  {
   "cell_type": "code",
   "execution_count": null,
   "id": "7bfa83c3",
   "metadata": {
    "pycharm": {
     "name": "#%%\n"
    }
   },
   "outputs": [],
   "source": [
    "from sklearn import datasets\n",
    "import numpy as np"
   ]
  },
  {
   "cell_type": "code",
   "execution_count": null,
   "id": "06060ce8",
   "metadata": {
    "pycharm": {
     "name": "#%%\n"
    }
   },
   "outputs": [],
   "source": [
    "X,y = datasets.make_classification(n_samples=300, n_features=20,n_clusters_per_class=2, weights=None, flip_y=0.01, class_sep=1.0, hypercube=True, shift=0.0, scale=1.0,shuffle=True, random_state=123)\n",
    "X.shape,y.shape"
   ]
  },
  {
   "cell_type": "code",
   "execution_count": null,
   "id": "6406c9fb",
   "metadata": {
    "pycharm": {
     "name": "#%%\n"
    }
   },
   "outputs": [],
   "source": [
    "np.unique(y)"
   ]
  },
  {
   "cell_type": "markdown",
   "id": "bfe3ba22",
   "metadata": {},
   "source": [
    "#### Creating unbalanced dataset, with different amount of data per centers"
   ]
  },
  {
   "cell_type": "code",
   "execution_count": null,
   "id": "bb3b58b7",
   "metadata": {
    "pycharm": {
     "name": "#%%\n"
    }
   },
   "outputs": [],
   "source": [
    "C1 = X[:150,:]\n",
    "C2 = X[150:250,:]\n",
    "C3 = X[250:300,:]\n",
    "\n",
    "y1 = y[:150].reshape([150,1])\n",
    "y2 = y[150:250].reshape([100,1])\n",
    "y3 = y[250:300].reshape([50,1])\n",
    "\n",
    "C1.shape ,C2.shape , C3.shape , y1.shape, y2.shape, y3.shape"
   ]
  },
  {
   "cell_type": "code",
   "execution_count": null,
   "id": "c6f2d303",
   "metadata": {
    "pycharm": {
     "name": "#%%\n"
    }
   },
   "outputs": [],
   "source": [
    "n1 = np.concatenate((C1, y1), axis=1)\n",
    "np.savetxt('/path/to/data/c1.csv',n1,delimiter=',')\n",
    "\n",
    "n2 = np.concatenate((C2, y2), axis=1)\n",
    "np.savetxt('/path/to/data/c2.csv',n2,delimiter=',')\n",
    "\n",
    "n3 = np.concatenate((C3, y3), axis=1)\n",
    "np.savetxt('/path/to/data/c3.csv',n3,delimiter=',')"
   ]
  },
  {
   "cell_type": "markdown",
   "id": "ecfb7695",
   "metadata": {
    "pycharm": {
     "name": "#%% md\n"
    }
   },
   "source": [
    "### Start the network\n",
    "Before running this notebook, start the network with `./scripts/fedbiomed_run network`\n",
    "\n",
    "### Setting the node up\n",
    "Before running this notebook you need to configure 2 nodes: <br/>\n",
    "* **Node 1 :** `./scripts/fedbiomed_run node add`\n",
    "  * Select option 1 to add a csv file to the node\n",
    "  * Choose the name, tags and description of the dataset (you can write 'perp' always and it will be good)\n",
    "  * Pick the c1.csv file in your machine.\n",
    "  * Check that your data has been added in node 1 by executing `./scripts/fedbiomed_run node list`\n",
    "  * Run the node using `./scripts/fedbiomed_run node start`. <br/>\n",
    "\n",
    "* **Node 2 :** Open a second terminal and run ./scripts/fedbiomed_run node add config n2.ini\n",
    "  * Select option 1 to add a csv file to the node\n",
    "  * Choose the name, tags and description of the dataset (you can write 'perp' always and it will be good)\n",
    "  * Pick the c2.csv file in your machine.\n",
    "  * Check that your data has been added in node 2 by executing `./scripts/fedbiomed_run node config n2.ini list `\n",
    "  * Run the node using `./scripts/fedbiomed_run node config n2.ini start`.\n",
    " \n",
    "\n",
    " Wait until you get `Starting task manager`. it means node is online.\n"
   ]
  },
  {
   "cell_type": "code",
   "execution_count": null,
   "id": "43bb20c1",
   "metadata": {
    "pycharm": {
     "name": "#%%\n"
    }
   },
   "outputs": [],
   "source": [
    "%load_ext autoreload\n",
    "%autoreload 2"
   ]
  },
  {
   "cell_type": "markdown",
   "id": "0bc0923e",
   "metadata": {
    "pycharm": {
     "name": "#%% md\n"
    }
   },
   "source": [
    "**model_args** is a dictionnary containing your model arguments, in case of SGDRegressor this will be max_iter and tol.\n",
    "\n",
    "**training_args** is a dictionnary with parameters , related to Federated Learning. "
   ]
  },
  {
   "cell_type": "code",
   "execution_count": null,
   "id": "82f494bb",
   "metadata": {
    "pycharm": {
     "name": "#%%\n"
    }
   },
   "outputs": [],
   "source": [
    "n_features = 20\n",
    "n_classes = 2\n",
    "\n",
    "model_args = {'max_iter':1000, 'tol': 1e-3 , \n",
    "               'n_features' : n_features, 'n_classes' : n_classes}\n",
    "\n",
    "training_args = {   \n",
    "    'epochs': 5,\n",
    "    'batch_size': 1\n",
    "}"
   ]
  },
  {
   "cell_type": "markdown",
   "id": "c2269df9",
   "metadata": {
    "pycharm": {
     "name": "#%% md\n"
    }
   },
   "source": [
    "Hereafter the template of the class you should provide to Fedbiomed :\n",
    "    \n",
    "**training_data** : you must return here the (X,y) that must be of the same type of \n",
    "your method partial_fit parameters. "
   ]
  },
  {
   "cell_type": "code",
   "execution_count": null,
   "id": "59bd74be",
   "metadata": {
    "pycharm": {
     "name": "#%%\n"
    }
   },
   "outputs": [],
   "source": [
    "from fedbiomed.common.training_plans import FedPerceptron\n",
    "from fedbiomed.common.data import DataManager\n",
    "\n",
    "\n",
    "class PerceptronTraining(FedPerceptron):\n",
    "    def training_data(self, batch_size):\n",
    "        NUMBER_COLS = 20\n",
    "        dataset = pd.read_csv(self.dataset_path,header=None,delimiter=',')\n",
    "        X = dataset.iloc[:,0:NUMBER_COLS].values\n",
    "        y = dataset.iloc[:,NUMBER_COLS]       \n",
    "        return DataManager(dataset=X,target=y.values, batch_size=batch_size, shuffle=True)"
   ]
  },
  {
   "cell_type": "code",
   "execution_count": null,
   "id": "ad30b0e6",
   "metadata": {
    "pycharm": {
     "name": "#%%\n"
    }
   },
   "outputs": [],
   "source": [
    "from fedbiomed.researcher.experiment import Experiment\n",
    "from fedbiomed.researcher.aggregators.fedavg import FedAverage\n",
    "\n",
    "tags =  ['perp']\n",
    "rounds = 2\n",
    "\n",
    "# search for corresponding datasets across nodes datasets\n",
    "exp = Experiment(tags=tags,\n",
    "                 model_args=model_args,\n",
    "                 training_plan_class=PerceptronTraining,\n",
    "                 training_args=training_args,\n",
    "                 round_limit=rounds,\n",
    "                 aggregator=FedAverage(),\n",
    "                 node_selection_strategy=None)\n"
   ]
  },
  {
   "cell_type": "code",
   "execution_count": null,
   "id": "4da46bdd",
   "metadata": {
    "pycharm": {
     "name": "#%%\n"
    }
   },
   "outputs": [],
   "source": [
    "exp.run()"
   ]
  },
  {
   "cell_type": "markdown",
   "id": "7e679d88",
   "metadata": {
    "pycharm": {
     "name": "#%% md\n"
    }
   },
   "source": [
    "## Lets validate the trained model with the test dataset c3.csv."
   ]
  },
  {
   "cell_type": "code",
   "execution_count": null,
   "id": "35e5563d",
   "metadata": {
    "pycharm": {
     "name": "#%%\n"
    }
   },
   "outputs": [],
   "source": [
    "import pandas as pd"
   ]
  },
  {
   "cell_type": "code",
   "execution_count": null,
   "id": "f988f64f",
   "metadata": {
    "pycharm": {
     "name": "#%%\n"
    }
   },
   "outputs": [],
   "source": [
    "data = pd.read_csv('/path/to/data/c3.csv')"
   ]
  },
  {
   "cell_type": "code",
   "execution_count": null,
   "id": "3882700c",
   "metadata": {
    "pycharm": {
     "name": "#%%\n"
    }
   },
   "outputs": [],
   "source": [
    "X_test = data.iloc[:,:n_features]\n",
    "y_test = data.iloc[:,n_features]"
   ]
  },
  {
   "cell_type": "markdown",
   "id": "64867091",
   "metadata": {
    "pycharm": {
     "name": "#%% md\n"
    }
   },
   "source": [
    "F1 score computed with federated algorithm :\n",
    "\n",
    "For that, we are exporting `exp.aggregated_params()` containing models parameters collected at the end of each round"
   ]
  },
  {
   "cell_type": "code",
   "execution_count": null,
   "id": "04489e41",
   "metadata": {
    "pycharm": {
     "name": "#%%\n"
    }
   },
   "outputs": [],
   "source": [
    "from sklearn.metrics import f1_score\n",
    "loss_metric = f1_score\n",
    "    \n",
    "testing_error = []\n",
    "\n",
    "for i in range(rounds):\n",
    "    fed_model = exp.training_plan().model()\n",
    "    fed_model.coef_ = exp.aggregated_params()[i]['params']['coef_']\n",
    "    fed_model.intercept_ = exp.aggregated_params()[i]['params']['intercept_']\n",
    "    metric = loss_metric(fed_model.predict(X_test),y_test.ravel())\n",
    "    print('F1 score metric: ', metric, )\n",
    "    testing_error.append(metric)"
   ]
  },
  {
   "cell_type": "markdown",
   "id": "86350932",
   "metadata": {
    "pycharm": {
     "name": "#%% md\n"
    }
   },
   "source": [
    "##  SGD regressor\n",
    "\n",
    "### Data \n",
    "\n",
    "\n",
    "This tutorial shows how to deploy in Fed-BioMed to solve a federated regression problem with scikit-learn.\n",
    "\n",
    "In this tutorial we are using the wrapper of Fed-BioMed for the [SGD regressor](https://scikit-learn.org/stable/modules/generated/sklearn.linear_model.SGDRegressor.html).\n",
    "The goal of the notebook is to train a model on a realistic dataset of (synthetic) medical information mimicking the ADNI dataset (http://adni.loni.usc.edu/). \n",
    "\n",
    "### Creating nodes\n",
    "\n",
    "To proceed with the tutorial, we create 3 clients with corresponding dataframes of clinical information in .csv format. Each client has 300 data points composed by several features corresponding to clinical and medical imaging informations. **The data is entirely synthetic and randomly sampled to mimick the variability of the real ADNI dataset**. The training partitions are availables at the following link:\n",
    "\n",
    "https://drive.google.com/file/d/1R39Ir60oQi8ZnmHoPz5CoGCrVIglcO9l/view?usp=sharing\n",
    "or can be found under `notebooks/data/CSV/pseudo_adni_mod.csv`\n",
    "\n",
    "The federated task we aim at solve is to predict a clinical variable (the mini-mental state examination, MMSE) from a combination of demographic and imaging features. The regressors variables are the following features:\n",
    "\n",
    "['SEX', 'AGE', 'PTEDUCAT', 'WholeBrain.bl', 'Ventricles.bl', 'Hippocampus.bl', 'MidTemp.bl', 'Entorhinal.bl']\n",
    "\n",
    "and the target variable is:\n",
    "\n",
    "['MMSE.bl']\n",
    "    \n",
    "\n",
    "To create the federated dataset, we follow the standard procedure for node creation/population of Fed-BioMed. \n",
    "After activating the fedbiomed network with the commands\n",
    "\n",
    "`source ./scripts/fedbiomed_environment network`\n",
    "\n",
    "and \n",
    "\n",
    "`./scripts/fedbiomed_run network`\n",
    "\n",
    "we create a first node by using the commands\n",
    "\n",
    "`source ./scripts/fedbiomed_environment node`\n",
    "\n",
    "`./scripts/fedbiomed_run node start`\n",
    "\n",
    "We then poulate the node with the data of first client:\n",
    "\n",
    "`./scripts/fedbiomed_run node config conf.ini add`\n",
    "\n",
    "Thn, we select option 1 (csv dataset) to add the .csv partition of client 1, by just picking the .csv of client 1. We use `adni` as tag to save the selected dataset. We can further check that the data has been added by executing `./scripts/fedbiomed_run node list`\n",
    "\n",
    "Following the same procedure, we create the other two nodes with the datasets of client 2 and client 3 respectively. To do so, we add and launch a `Node`using others configuration files\n",
    "\n",
    "### Fed-BioMed Researcher\n",
    "\n",
    "We are now ready to start the reseracher enviroment with the command `source ./scripts/fedbiomed_environment researcher`, and open the Jupyter notebook with `./scripts/fedbiomed_run researcher`. \n",
    "\n",
    "We can first query the network for the adni dataset. In this case, the nodes are sharing the respective partitions unsing the same tag `adni`:"
   ]
  },
  {
   "cell_type": "code",
   "execution_count": null,
   "id": "6b666c6b",
   "metadata": {
    "pycharm": {
     "name": "#%%\n"
    }
   },
   "outputs": [],
   "source": [
    "from fedbiomed.researcher.requests import Requests\n",
    "req = Requests()\n",
    "req.list(verbose=True)"
   ]
  },
  {
   "cell_type": "markdown",
   "id": "1b1e29c0",
   "metadata": {
    "pycharm": {
     "name": "#%% md\n"
    }
   },
   "source": [
    "The code for network and data loader of the sklearn SGDRegressor can now be deployed in Fed-BioMed.\n",
    "We first import the necessary module `SGDSkLearnModel` from `fedbiomed`:\n",
    "\n",
    "       \n",
    "**training_data** : you must return here a tuple (data,targets) that must be of the same type of \n",
    "your method partial_fit parameters. \n",
    "\n",
    "We note that this model performs a common standardization across federated datasets by **centering with respect to the same parameters**."
   ]
  },
  {
   "cell_type": "code",
   "execution_count": null,
   "id": "6948b98c",
   "metadata": {
    "pycharm": {
     "name": "#%%\n"
    }
   },
   "outputs": [],
   "source": [
    "from fedbiomed.common.training_plans import FedSGDRegressor\n",
    "from fedbiomed.common.data import DataManager\n",
    "\n",
    "class SGDRegressorTrainingPlan(FedSGDRegressor):\n",
    "    def training_data(self, batch_size):\n",
    "        dataset = pd.read_csv(self.dataset_path,delimiter=';')\n",
    "        regressors_col = ['AGE', 'WholeBrain.bl',\n",
    "                          'Ventricles.bl', 'Hippocampus.bl', 'MidTemp.bl', 'Entorhinal.bl']\n",
    "        target_col = ['MMSE.bl']\n",
    "        \n",
    "        # mean and standard deviation for normalizing dataset\n",
    "        # it has been computed over the whole dataset\n",
    "        scaling_mean = np.array([72.3, 0.7, 0.0, 0.0, 0.0, 0.0])\n",
    "        scaling_sd = np.array([7.3e+00, 5.0e-02, 1.1e-02, 1.0e-03, 2.0e-03, 1.0e-03])\n",
    "        \n",
    "        X = (dataset[regressors_col].values-scaling_mean)/scaling_sd\n",
    "        y = dataset[target_col]\n",
    "        return DataManager(dataset=X, target=y.values.ravel(), batch_size=batch_size, shuffle=True)\n",
    "    "
   ]
  },
  {
   "cell_type": "markdown",
   "id": "0a2b832e",
   "metadata": {
    "pycharm": {
     "name": "#%% md\n"
    }
   },
   "source": [
    "**model_args** is a dictionary containing your model arguments, in case of SGDRegressor this will be max_iter and tol. n_features is provided to correctly initialize the SGDRegressor coef_ array.\n",
    "\n",
    "**training_args** is a dictionary with parameters related to Federated Learning. "
   ]
  },
  {
   "cell_type": "code",
   "execution_count": null,
   "id": "fe8de076",
   "metadata": {
    "pycharm": {
     "name": "#%%\n"
    }
   },
   "outputs": [],
   "source": [
    "from fedbiomed.common.metrics import MetricTypes\n",
    "RANDOM_SEED = 1234\n",
    "\n",
    "\n",
    "model_args = {\n",
    "    'max_iter':2000,\n",
    "    'tol': 1e-5,\n",
    "    'eta0':0.05,\n",
    "    'n_features': 6,\n",
    "    'random_state': RANDOM_SEED\n",
    "}\n",
    "\n",
    "training_args = {\n",
    "    'epochs': 5,\n",
    "    'batch_size': 10,\n",
    "    'test_ratio':.3,\n",
    "    'test_metric': MetricTypes.MEAN_SQUARE_ERROR,\n",
    "    'test_on_local_updates': True,\n",
    "    'test_on_global_updates': True\n",
    "}"
   ]
  },
  {
   "cell_type": "markdown",
   "id": "7501d4ef",
   "metadata": {
    "pycharm": {
     "name": "#%% md\n"
    }
   },
   "source": [
    "The experiment can be now defined, by providing the `adni` tag, and running the local training on nodes with model defined in `model_path`, standard `aggregator` (FedAvg) and `client_selection_strategy` (all nodes used). Federated learning is going to be perfomed through 10 optimization rounds."
   ]
  },
  {
   "cell_type": "code",
   "execution_count": null,
   "id": "144f4b67",
   "metadata": {
    "pycharm": {
     "name": "#%%\n"
    }
   },
   "outputs": [],
   "source": [
    "from fedbiomed.researcher.experiment import Experiment\n",
    "from fedbiomed.researcher.aggregators.fedavg import FedAverage\n",
    "\n",
    "tags =  ['adni']\n",
    "\n",
    "# Add more rounds for results with better accuracy\n",
    "#\n",
    "#rounds = 40\n",
    "rounds = 2\n",
    "\n",
    "# select nodes participating to this experiment\n",
    "exp = Experiment(tags=tags,\n",
    "                 model_args=model_args,\n",
    "                 training_plan_class=SGDRegressorTrainingPlan,\n",
    "                 training_args=training_args,\n",
    "                 round_limit=rounds,\n",
    "                 aggregator=FedAverage(),\n",
    "                 node_selection_strategy=None)"
   ]
  },
  {
   "cell_type": "code",
   "execution_count": null,
   "id": "3861ab92",
   "metadata": {
    "pycharm": {
     "name": "#%%\n"
    }
   },
   "outputs": [],
   "source": [
    "# start federated training\n",
    "exp.run()"
   ]
  },
  {
   "cell_type": "code",
   "execution_count": null,
   "id": "13959777",
   "metadata": {
    "pycharm": {
     "name": "#%%\n"
    }
   },
   "outputs": [],
   "source": [
    "exp.aggregated_params()"
   ]
  },
  {
   "cell_type": "code",
   "execution_count": null,
   "id": "a0e6d6f6",
   "metadata": {
    "pycharm": {
     "name": "#%%\n"
    }
   },
   "outputs": [],
   "source": [
    "fed_model = exp.training_plan().model()\n",
    "fed_model.intercept_ = exp.aggregated_params()[rounds-1]['params']['intercept_']\n",
    "fed_model.coef_ = exp.aggregated_params()[rounds-1]['params']['coef_']"
   ]
  },
  {
   "cell_type": "markdown",
   "id": "d2c2519a",
   "metadata": {
    "pycharm": {
     "name": "#%% md\n"
    }
   },
   "source": [
    "## SGDClassifier\n",
    "### Purpose of the exercise :\n",
    "\n",
    "Three datasets `c1_3class.csv` , `c2_3class.csv` and `c3_3class.csv` has been generated with a target column of 3 different classes.\n",
    "We will fit a SGCClassifier (classifier) using Federated Learning."
   ]
  },
  {
   "cell_type": "markdown",
   "id": "a8f5284a",
   "metadata": {
    "pycharm": {
     "name": "#%% md\n"
    }
   },
   "source": [
    "### Get the data \n",
    "\n",
    "We use the make_classification dataset from sklearn datasets"
   ]
  },
  {
   "cell_type": "code",
   "execution_count": null,
   "id": "7a30ac74",
   "metadata": {
    "pycharm": {
     "name": "#%%\n"
    }
   },
   "outputs": [],
   "source": [
    "from sklearn import datasets\n",
    "import numpy as np"
   ]
  },
  {
   "cell_type": "code",
   "execution_count": null,
   "id": "e9aca53b",
   "metadata": {
    "pycharm": {
     "name": "#%%\n"
    }
   },
   "outputs": [],
   "source": [
    "X,y = datasets.make_classification(n_samples=300, n_features=20,n_informative = 3, n_classes=3,n_clusters_per_class=2, weights=None, flip_y=0.01, class_sep=1.0, hypercube=True, shift=0.0, scale=1.0,shuffle=True, random_state=123)\n",
    "X.shape,y.shape"
   ]
  },
  {
   "cell_type": "code",
   "execution_count": null,
   "id": "4719d0f3",
   "metadata": {
    "pycharm": {
     "name": "#%%\n"
    }
   },
   "outputs": [],
   "source": [
    "C1 = X[:150,:]\n",
    "C2 = X[150:250,:]\n",
    "C3 = X[250:300,:]\n",
    "\n",
    "y1 = y[:150].reshape([150,1])\n",
    "y2 = y[150:250].reshape([100,1])\n",
    "y3 = y[250:300].reshape([50,1])\n",
    "\n",
    "C1.shape ,C2.shape , C3.shape , y1.shape, y2.shape, y3.shape"
   ]
  },
  {
   "cell_type": "code",
   "execution_count": null,
   "id": "7e7f72e0",
   "metadata": {
    "pycharm": {
     "name": "#%%\n"
    }
   },
   "outputs": [],
   "source": [
    "n1 = np.concatenate((C1, y1), axis=1)\n",
    "np.savetxt('path/to/c1_3class.csv',n1,delimiter=',')\n",
    "\n",
    "n2 = np.concatenate((C2, y2), axis=1)\n",
    "np.savetxt('path/to/c2_3class.csv',n2,delimiter=',')\n",
    "\n",
    "n3 = np.concatenate((C3, y3), axis=1)\n",
    "np.savetxt('path/to/c3_3class.csv',n3,delimiter=',')"
   ]
  },
  {
   "cell_type": "markdown",
   "id": "7280f02e",
   "metadata": {
    "pycharm": {
     "name": "#%% md\n"
    }
   },
   "source": [
    "### Start the network\n",
    "Before running this notebook, start the network with `./scripts/fedbiomed_run network`\n",
    "\n",
    "### Setting the node up\n",
    "Before running this notebook you need to configure 2 nodes: <br/>\n",
    "* **Node 1 :** `./scripts/fedbiomed_run node add`\n",
    "  * Select option 1 to add a csv file to the node\n",
    "  * Choose the name, tags and description of the dataset (you can write **'perp1'** always and it will be good)\n",
    "  * Pick the c1.csv file in your machine.\n",
    "  * Check that your data has been added in node 1 by executing `./scripts/fedbiomed_run node list`\n",
    "  * Run the node using `./scripts/fedbiomed_run node start`. <br/>\n",
    "\n",
    "* **Node 2 :** Open a second terminal and run ./scripts/fedbiomed_run node add config n2.ini\n",
    "  * Select option 1 to add a csv file to the node\n",
    "  * Choose the name, tags and description of the dataset (you can write **'perp1'** always and it will be good)\n",
    "  * Pick the c2.csv file in your machine.\n",
    "  * Check that your data has been added in node 2 by executing `./scripts/fedbiomed_run node config n2.ini list `\n",
    "  * Run the node using `./scripts/fedbiomed_run node config n2.ini start`.\n",
    " \n",
    "\n",
    " Wait until you get `Starting task manager`. it means node is online.\n"
   ]
  },
  {
   "cell_type": "code",
   "execution_count": null,
   "id": "36db544a",
   "metadata": {
    "pycharm": {
     "name": "#%%\n"
    }
   },
   "outputs": [],
   "source": [
    "%load_ext autoreload\n",
    "%autoreload 2"
   ]
  },
  {
   "cell_type": "markdown",
   "id": "920b2126",
   "metadata": {
    "pycharm": {
     "name": "#%% md\n"
    }
   },
   "source": [
    "**model_args** is a dictionnary containing your model arguments, in case of SGDRegressor this will be max_iter and tol.\n",
    "\n",
    "**training_args** is a dictionnary with parameters , related to Federated Learning. "
   ]
  },
  {
   "cell_type": "code",
   "execution_count": null,
   "id": "6ed76157",
   "metadata": {
    "pycharm": {
     "name": "#%%\n"
    }
   },
   "outputs": [],
   "source": [
    "n_features = 20\n",
    "n_classes = 3\n",
    "\n",
    "model_args = {'max_iter':1000, 'tol': 1e-3 , \n",
    "               'n_features' : n_features, 'n_classes' : n_classes}\n",
    "\n",
    "training_args = {   \n",
    "    'epochs': 5,\n",
    "    'batch_size': 1,\n",
    "}"
   ]
  },
  {
   "cell_type": "markdown",
   "id": "a29b55ca",
   "metadata": {
    "pycharm": {
     "name": "#%% md\n"
    }
   },
   "source": [
    "Hereafter the template of the class you should provide to Fedbiomed :\n",
    "    \n",
    "**training_data** : you must return here the (X,y) that must be of the same type of \n",
    "your method partial_fit parameters. "
   ]
  },
  {
   "cell_type": "code",
   "execution_count": null,
   "id": "d736ef5c",
   "metadata": {
    "pycharm": {
     "name": "#%%\n"
    }
   },
   "outputs": [],
   "source": [
    "from fedbiomed.common.training_plans import FedSGDClassifier\n",
    "from fedbiomed.common.data import DataManager\n",
    "\n",
    "\n",
    "class SGDClassifierTrainingPlan(FedSGDClassifier):\n",
    "    def training_data(self, batch_size):\n",
    "        NUMBER_COLS = 20\n",
    "        dataset = pd.read_csv(self.dataset_path,header=None,delimiter=',')\n",
    "        X = dataset.iloc[:,0:NUMBER_COLS].values\n",
    "        y = dataset.iloc[:,NUMBER_COLS]       \n",
    "        return DataManager(dataset=X,target=y.values, batch_size=batch_size, shuffle=True)"
   ]
  },
  {
   "cell_type": "code",
   "execution_count": null,
   "id": "0f70efe9",
   "metadata": {
    "pycharm": {
     "name": "#%%\n"
    }
   },
   "outputs": [],
   "source": [
    "from fedbiomed.researcher.experiment import Experiment\n",
    "from fedbiomed.researcher.aggregators.fedavg import FedAverage\n",
    "\n",
    "tags =  ['perp1']\n",
    "rounds = 2\n",
    "\n",
    "# search for corresponding datasets across nodes datasets\n",
    "exp = Experiment(tags=tags,\n",
    "                 model_args=model_args,\n",
    "                 training_plan_class=SGDClassifierTrainingPlan,\n",
    "                 training_args=training_args,\n",
    "                 round_limit=rounds,\n",
    "                 aggregator=FedAverage(),\n",
    "                 node_selection_strategy=None)\n"
   ]
  },
  {
   "cell_type": "code",
   "execution_count": null,
   "id": "3254e59e",
   "metadata": {
    "pycharm": {
     "name": "#%%\n"
    },
    "tags": []
   },
   "outputs": [],
   "source": [
    "exp.run()"
   ]
  },
  {
   "cell_type": "code",
   "execution_count": null,
   "id": "c5213ef5-c98f-4e17-8e9e-de47446fe3c4",
   "metadata": {
    "pycharm": {
     "name": "#%%\n"
    },
    "tags": []
   },
   "outputs": [],
   "source": [
    "import pandas as pd\n",
    "data = pd.read_csv('path/to/c3_3class.csv')"
   ]
  },
  {
   "cell_type": "code",
   "execution_count": null,
   "id": "c75fb760-d724-4aca-a562-657a31f59430",
   "metadata": {
    "pycharm": {
     "name": "#%%\n"
    }
   },
   "outputs": [],
   "source": [
    "X_test = data.iloc[:,:n_features]\n",
    "y_test = data.iloc[:,n_features]"
   ]
  },
  {
   "cell_type": "markdown",
   "id": "45801cb4-d281-4941-adc3-2d26090fc9e6",
   "metadata": {
    "pycharm": {
     "name": "#%% md\n"
    }
   },
   "source": [
    "F1 score computed with federated algorithm :\n",
    "\n",
    "For that, we are exporting `exp.aggregated_params()` containing models parameters collected at the end of each round"
   ]
  },
  {
   "cell_type": "code",
   "execution_count": null,
   "id": "13f8610a-97d1-460b-8bab-54f778876b6a",
   "metadata": {
    "pycharm": {
     "name": "#%%\n"
    }
   },
   "outputs": [
    {
     "name": "stderr",
     "output_type": "stream",
     "text": [
      "2022-11-16 18:50:22,493 fedbiomed INFO - \u001b[1mCRITICAL\u001b[0m\n",
      "\t\t\t\t\t\u001b[1m NODE\u001b[0m node_36f153c3-5f27-468c-a24e-4991a618f797\n",
      "\t\t\t\t\t\u001b[1m MESSAGE:\u001b[0m Node stopped in signal_handler, probably by user decision (Ctrl C)\u001b[0m\n",
      "-----------------------------------------------------------------\n",
      "2022-11-16 18:51:45,413 fedbiomed INFO - \u001b[1mCRITICAL\u001b[0m\n",
      "\t\t\t\t\t\u001b[1m NODE\u001b[0m node_23b5af4d-1181-4628-8329-0067ee8030ae\n",
      "\t\t\t\t\t\u001b[1m MESSAGE:\u001b[0m Node stopped in signal_handler, probably by user decision (Ctrl C)\u001b[0m\n",
      "-----------------------------------------------------------------\n",
      "2022-11-16 18:52:23,330 fedbiomed INFO - \u001b[1mINFO\u001b[0m\n",
      "\t\t\t\t\t\u001b[1m NODE\u001b[0m node_23b5af4d-1181-4628-8329-0067ee8030ae\n",
      "\t\t\t\t\t\u001b[1m MESSAGE:\u001b[0m Starting task manager\u001b[0m\n",
      "-----------------------------------------------------------------\n",
      "2022-11-16 18:56:09,369 fedbiomed INFO - \u001b[1mINFO\u001b[0m\n",
      "\t\t\t\t\t\u001b[1m NODE\u001b[0m node_36f153c3-5f27-468c-a24e-4991a618f797\n",
      "\t\t\t\t\t\u001b[1m MESSAGE:\u001b[0m Starting task manager\u001b[0m\n",
      "-----------------------------------------------------------------\n",
      "2022-11-16 18:56:26,504 fedbiomed INFO - \u001b[1mWARNING\u001b[0m\n",
      "\t\t\t\t\t\u001b[1m NODE\u001b[0m node_23b5af4d-1181-4628-8329-0067ee8030ae\n",
      "\t\t\t\t\t\u001b[1m MESSAGE:\u001b[0m There is no validation activated for the round. Please set flag for `test_on_global_updates`, `test_on_local_updates`, or both. Splitting dataset for validation will be ignored\u001b[0m\n",
      "-----------------------------------------------------------------\n",
      "2022-11-16 18:56:26,540 fedbiomed INFO - \u001b[1mWARNING\u001b[0m\n",
      "\t\t\t\t\t\u001b[1m NODE\u001b[0m node_36f153c3-5f27-468c-a24e-4991a618f797\n",
      "\t\t\t\t\t\u001b[1m MESSAGE:\u001b[0m There is no validation activated for the round. Please set flag for `test_on_global_updates`, `test_on_local_updates`, or both. Splitting dataset for validation will be ignored\u001b[0m\n",
      "-----------------------------------------------------------------\n",
      "2022-11-16 18:56:33,688 fedbiomed INFO - \u001b[1mTRAINING\u001b[0m \n",
      "\t\t\t\t\t NODE_ID: node_36f153c3-5f27-468c-a24e-4991a618f797 \n",
      "\t\t\t\t\t Epoch: 1 | Completed: 320/67533 (0%) \n",
      " \t\t\t\t\t Loss: \u001b[1m0.780155\u001b[0m \n",
      "\t\t\t\t\t ---------\n",
      "2022-11-16 18:56:35,054 fedbiomed INFO - \u001b[1mTRAINING\u001b[0m \n",
      "\t\t\t\t\t NODE_ID: node_23b5af4d-1181-4628-8329-0067ee8030ae \n",
      "\t\t\t\t\t Epoch: 1 | Completed: 320/67533 (0%) \n",
      " \t\t\t\t\t Loss: \u001b[1m0.691083\u001b[0m \n",
      "\t\t\t\t\t ---------\n",
      "2022-11-16 18:56:39,816 fedbiomed INFO - \u001b[1mTRAINING\u001b[0m \n",
      "\t\t\t\t\t NODE_ID: node_36f153c3-5f27-468c-a24e-4991a618f797 \n",
      "\t\t\t\t\t Epoch: 1 | Completed: 640/67533 (1%) \n",
      " \t\t\t\t\t Loss: \u001b[1m0.726755\u001b[0m \n",
      "\t\t\t\t\t ---------\n",
      "2022-11-16 18:56:41,062 fedbiomed INFO - \u001b[1mTRAINING\u001b[0m \n",
      "\t\t\t\t\t NODE_ID: node_23b5af4d-1181-4628-8329-0067ee8030ae \n",
      "\t\t\t\t\t Epoch: 1 | Completed: 640/67533 (1%) \n",
      " \t\t\t\t\t Loss: \u001b[1m0.677454\u001b[0m \n",
      "\t\t\t\t\t ---------\n",
      "2022-11-16 18:56:46,011 fedbiomed INFO - \u001b[1mTRAINING\u001b[0m \n",
      "\t\t\t\t\t NODE_ID: node_36f153c3-5f27-468c-a24e-4991a618f797 \n",
      "\t\t\t\t\t Epoch: 1 | Completed: 960/67533 (1%) \n",
      " \t\t\t\t\t Loss: \u001b[1m0.688487\u001b[0m \n",
      "\t\t\t\t\t ---------\n",
      "2022-11-16 18:56:47,240 fedbiomed INFO - \u001b[1mTRAINING\u001b[0m \n",
      "\t\t\t\t\t NODE_ID: node_23b5af4d-1181-4628-8329-0067ee8030ae \n",
      "\t\t\t\t\t Epoch: 1 | Completed: 960/67533 (1%) \n",
      " \t\t\t\t\t Loss: \u001b[1m0.692282\u001b[0m \n",
      "\t\t\t\t\t ---------\n",
      "2022-11-16 18:56:52,355 fedbiomed INFO - \u001b[1mTRAINING\u001b[0m \n",
      "\t\t\t\t\t NODE_ID: node_36f153c3-5f27-468c-a24e-4991a618f797 \n",
      "\t\t\t\t\t Epoch: 1 | Completed: 1280/67533 (2%) \n",
      " \t\t\t\t\t Loss: \u001b[1m0.699035\u001b[0m \n",
      "\t\t\t\t\t ---------\n",
      "2022-11-16 18:56:53,514 fedbiomed INFO - \u001b[1mTRAINING\u001b[0m \n",
      "\t\t\t\t\t NODE_ID: node_23b5af4d-1181-4628-8329-0067ee8030ae \n",
      "\t\t\t\t\t Epoch: 1 | Completed: 1280/67533 (2%) \n",
      " \t\t\t\t\t Loss: \u001b[1m0.697289\u001b[0m \n",
      "\t\t\t\t\t ---------\n",
      "2022-11-16 18:56:59,456 fedbiomed INFO - \u001b[1mTRAINING\u001b[0m \n",
      "\t\t\t\t\t NODE_ID: node_36f153c3-5f27-468c-a24e-4991a618f797 \n",
      "\t\t\t\t\t Epoch: 1 | Completed: 1600/67533 (2%) \n",
      " \t\t\t\t\t Loss: \u001b[1m0.688744\u001b[0m \n",
      "\t\t\t\t\t ---------\n",
      "2022-11-16 18:57:00,338 fedbiomed INFO - \u001b[1mTRAINING\u001b[0m \n",
      "\t\t\t\t\t NODE_ID: node_23b5af4d-1181-4628-8329-0067ee8030ae \n",
      "\t\t\t\t\t Epoch: 1 | Completed: 1600/67533 (2%) \n",
      " \t\t\t\t\t Loss: \u001b[1m0.697592\u001b[0m \n",
      "\t\t\t\t\t ---------\n",
      "2022-11-16 18:57:06,585 fedbiomed INFO - \u001b[1mTRAINING\u001b[0m \n",
      "\t\t\t\t\t NODE_ID: node_36f153c3-5f27-468c-a24e-4991a618f797 \n",
      "\t\t\t\t\t Epoch: 1 | Completed: 1920/67533 (3%) \n",
      " \t\t\t\t\t Loss: \u001b[1m0.694273\u001b[0m \n",
      "\t\t\t\t\t ---------\n",
      "2022-11-16 18:57:07,361 fedbiomed INFO - \u001b[1mTRAINING\u001b[0m \n",
      "\t\t\t\t\t NODE_ID: node_23b5af4d-1181-4628-8329-0067ee8030ae \n",
      "\t\t\t\t\t Epoch: 1 | Completed: 1920/67533 (3%) \n",
      " \t\t\t\t\t Loss: \u001b[1m0.695344\u001b[0m \n",
      "\t\t\t\t\t ---------\n",
      "2022-11-16 18:57:13,952 fedbiomed INFO - \u001b[1mTRAINING\u001b[0m \n",
      "\t\t\t\t\t NODE_ID: node_36f153c3-5f27-468c-a24e-4991a618f797 \n",
      "\t\t\t\t\t Epoch: 1 | Completed: 2240/67533 (3%) \n",
      " \t\t\t\t\t Loss: \u001b[1m0.678998\u001b[0m \n",
      "\t\t\t\t\t ---------\n",
      "2022-11-16 18:57:14,954 fedbiomed INFO - \u001b[1mTRAINING\u001b[0m \n",
      "\t\t\t\t\t NODE_ID: node_23b5af4d-1181-4628-8329-0067ee8030ae \n",
      "\t\t\t\t\t Epoch: 1 | Completed: 2240/67533 (3%) \n",
      " \t\t\t\t\t Loss: \u001b[1m0.693279\u001b[0m \n",
      "\t\t\t\t\t ---------\n",
      "2022-11-16 18:57:21,023 fedbiomed INFO - \u001b[1mTRAINING\u001b[0m \n",
      "\t\t\t\t\t NODE_ID: node_36f153c3-5f27-468c-a24e-4991a618f797 \n",
      "\t\t\t\t\t Epoch: 1 | Completed: 2560/67533 (4%) \n",
      " \t\t\t\t\t Loss: \u001b[1m0.692344\u001b[0m \n",
      "\t\t\t\t\t ---------\n",
      "2022-11-16 18:57:21,953 fedbiomed INFO - \u001b[1mTRAINING\u001b[0m \n",
      "\t\t\t\t\t NODE_ID: node_23b5af4d-1181-4628-8329-0067ee8030ae \n",
      "\t\t\t\t\t Epoch: 1 | Completed: 2560/67533 (4%) \n",
      " \t\t\t\t\t Loss: \u001b[1m0.695050\u001b[0m \n",
      "\t\t\t\t\t ---------\n",
      "2022-11-16 18:57:28,005 fedbiomed INFO - \u001b[1mTRAINING\u001b[0m \n",
      "\t\t\t\t\t NODE_ID: node_36f153c3-5f27-468c-a24e-4991a618f797 \n",
      "\t\t\t\t\t Epoch: 1 | Completed: 2880/67533 (4%) \n",
      " \t\t\t\t\t Loss: \u001b[1m0.693375\u001b[0m \n",
      "\t\t\t\t\t ---------\n",
      "2022-11-16 18:57:28,890 fedbiomed INFO - \u001b[1mTRAINING\u001b[0m \n",
      "\t\t\t\t\t NODE_ID: node_23b5af4d-1181-4628-8329-0067ee8030ae \n",
      "\t\t\t\t\t Epoch: 1 | Completed: 2880/67533 (4%) \n",
      " \t\t\t\t\t Loss: \u001b[1m0.695722\u001b[0m \n",
      "\t\t\t\t\t ---------\n",
      "2022-11-16 18:57:35,197 fedbiomed INFO - \u001b[1mTRAINING\u001b[0m \n",
      "\t\t\t\t\t NODE_ID: node_36f153c3-5f27-468c-a24e-4991a618f797 \n",
      "\t\t\t\t\t Epoch: 1 | Completed: 3200/67533 (5%) \n",
      " \t\t\t\t\t Loss: \u001b[1m0.689664\u001b[0m \n",
      "\t\t\t\t\t ---------\n",
      "2022-11-16 18:57:35,200 fedbiomed INFO - \u001b[1mINFO\u001b[0m\n",
      "\t\t\t\t\t\u001b[1m NODE\u001b[0m node_36f153c3-5f27-468c-a24e-4991a618f797\n",
      "\t\t\t\t\t\u001b[1m MESSAGE:\u001b[0m Reached 100 batches for this epoch, ignore remaining data\u001b[0m\n",
      "-----------------------------------------------------------------\n",
      "2022-11-16 18:57:35,308 fedbiomed INFO - \u001b[1mINFO\u001b[0m\n",
      "\t\t\t\t\t\u001b[1m NODE\u001b[0m node_36f153c3-5f27-468c-a24e-4991a618f797\n",
      "\t\t\t\t\t\u001b[1m MESSAGE:\u001b[0m results uploaded successfully \u001b[0m\n",
      "-----------------------------------------------------------------\n",
      "2022-11-16 18:57:35,855 fedbiomed INFO - \u001b[1mTRAINING\u001b[0m \n",
      "\t\t\t\t\t NODE_ID: node_23b5af4d-1181-4628-8329-0067ee8030ae \n",
      "\t\t\t\t\t Epoch: 1 | Completed: 3200/67533 (5%) \n",
      " \t\t\t\t\t Loss: \u001b[1m0.655709\u001b[0m \n",
      "\t\t\t\t\t ---------\n",
      "2022-11-16 18:57:35,856 fedbiomed INFO - \u001b[1mINFO\u001b[0m\n",
      "\t\t\t\t\t\u001b[1m NODE\u001b[0m node_23b5af4d-1181-4628-8329-0067ee8030ae\n",
      "\t\t\t\t\t\u001b[1m MESSAGE:\u001b[0m Reached 100 batches for this epoch, ignore remaining data\u001b[0m\n",
      "-----------------------------------------------------------------\n",
      "2022-11-16 18:57:35,936 fedbiomed INFO - \u001b[1mINFO\u001b[0m\n",
      "\t\t\t\t\t\u001b[1m NODE\u001b[0m node_23b5af4d-1181-4628-8329-0067ee8030ae\n",
      "\t\t\t\t\t\u001b[1m MESSAGE:\u001b[0m results uploaded successfully \u001b[0m\n",
      "-----------------------------------------------------------------\n",
      "2022-11-16 18:57:41,486 fedbiomed INFO - \u001b[1mWARNING\u001b[0m\n",
      "\t\t\t\t\t\u001b[1m NODE\u001b[0m node_23b5af4d-1181-4628-8329-0067ee8030ae\n",
      "\t\t\t\t\t\u001b[1m MESSAGE:\u001b[0m There is no validation activated for the round. Please set flag for `test_on_global_updates`, `test_on_local_updates`, or both. Splitting dataset for validation will be ignored\u001b[0m\n",
      "-----------------------------------------------------------------\n",
      "2022-11-16 18:57:41,491 fedbiomed INFO - \u001b[1mWARNING\u001b[0m\n",
      "\t\t\t\t\t\u001b[1m NODE\u001b[0m node_36f153c3-5f27-468c-a24e-4991a618f797\n",
      "\t\t\t\t\t\u001b[1m MESSAGE:\u001b[0m There is no validation activated for the round. Please set flag for `test_on_global_updates`, `test_on_local_updates`, or both. Splitting dataset for validation will be ignored\u001b[0m\n",
      "-----------------------------------------------------------------\n",
      "2022-11-16 18:57:49,155 fedbiomed INFO - \u001b[1mTRAINING\u001b[0m \n",
      "\t\t\t\t\t NODE_ID: node_23b5af4d-1181-4628-8329-0067ee8030ae \n",
      "\t\t\t\t\t Epoch: 1 | Completed: 320/67533 (0%) \n",
      " \t\t\t\t\t Loss: \u001b[1m0.639313\u001b[0m \n",
      "\t\t\t\t\t ---------\n",
      "2022-11-16 18:57:49,675 fedbiomed INFO - \u001b[1mTRAINING\u001b[0m \n",
      "\t\t\t\t\t NODE_ID: node_36f153c3-5f27-468c-a24e-4991a618f797 \n",
      "\t\t\t\t\t Epoch: 1 | Completed: 320/67533 (0%) \n",
      " \t\t\t\t\t Loss: \u001b[1m0.688336\u001b[0m \n",
      "\t\t\t\t\t ---------\n",
      "2022-11-16 18:57:56,104 fedbiomed INFO - \u001b[1mTRAINING\u001b[0m \n",
      "\t\t\t\t\t NODE_ID: node_23b5af4d-1181-4628-8329-0067ee8030ae \n",
      "\t\t\t\t\t Epoch: 1 | Completed: 640/67533 (1%) \n",
      " \t\t\t\t\t Loss: \u001b[1m0.685035\u001b[0m \n",
      "\t\t\t\t\t ---------\n"
     ]
    },
    {
     "name": "stderr",
     "output_type": "stream",
     "text": [
      "2022-11-16 18:57:56,589 fedbiomed INFO - \u001b[1mTRAINING\u001b[0m \n",
      "\t\t\t\t\t NODE_ID: node_36f153c3-5f27-468c-a24e-4991a618f797 \n",
      "\t\t\t\t\t Epoch: 1 | Completed: 640/67533 (1%) \n",
      " \t\t\t\t\t Loss: \u001b[1m0.685317\u001b[0m \n",
      "\t\t\t\t\t ---------\n",
      "2022-11-16 18:58:03,147 fedbiomed INFO - \u001b[1mTRAINING\u001b[0m \n",
      "\t\t\t\t\t NODE_ID: node_23b5af4d-1181-4628-8329-0067ee8030ae \n",
      "\t\t\t\t\t Epoch: 1 | Completed: 960/67533 (1%) \n",
      " \t\t\t\t\t Loss: \u001b[1m0.678759\u001b[0m \n",
      "\t\t\t\t\t ---------\n",
      "2022-11-16 18:58:03,692 fedbiomed INFO - \u001b[1mTRAINING\u001b[0m \n",
      "\t\t\t\t\t NODE_ID: node_36f153c3-5f27-468c-a24e-4991a618f797 \n",
      "\t\t\t\t\t Epoch: 1 | Completed: 960/67533 (1%) \n",
      " \t\t\t\t\t Loss: \u001b[1m0.719920\u001b[0m \n",
      "\t\t\t\t\t ---------\n",
      "2022-11-16 18:58:10,077 fedbiomed INFO - \u001b[1mTRAINING\u001b[0m \n",
      "\t\t\t\t\t NODE_ID: node_23b5af4d-1181-4628-8329-0067ee8030ae \n",
      "\t\t\t\t\t Epoch: 1 | Completed: 1280/67533 (2%) \n",
      " \t\t\t\t\t Loss: \u001b[1m0.685990\u001b[0m \n",
      "\t\t\t\t\t ---------\n",
      "2022-11-16 18:58:11,076 fedbiomed INFO - \u001b[1mTRAINING\u001b[0m \n",
      "\t\t\t\t\t NODE_ID: node_36f153c3-5f27-468c-a24e-4991a618f797 \n",
      "\t\t\t\t\t Epoch: 1 | Completed: 1280/67533 (2%) \n",
      " \t\t\t\t\t Loss: \u001b[1m0.584342\u001b[0m \n",
      "\t\t\t\t\t ---------\n",
      "2022-11-16 18:58:17,061 fedbiomed INFO - \u001b[1mTRAINING\u001b[0m \n",
      "\t\t\t\t\t NODE_ID: node_23b5af4d-1181-4628-8329-0067ee8030ae \n",
      "\t\t\t\t\t Epoch: 1 | Completed: 1600/67533 (2%) \n",
      " \t\t\t\t\t Loss: \u001b[1m0.669393\u001b[0m \n",
      "\t\t\t\t\t ---------\n",
      "2022-11-16 18:58:18,475 fedbiomed INFO - \u001b[1mTRAINING\u001b[0m \n",
      "\t\t\t\t\t NODE_ID: node_36f153c3-5f27-468c-a24e-4991a618f797 \n",
      "\t\t\t\t\t Epoch: 1 | Completed: 1600/67533 (2%) \n",
      " \t\t\t\t\t Loss: \u001b[1m0.701512\u001b[0m \n",
      "\t\t\t\t\t ---------\n",
      "2022-11-16 18:58:24,047 fedbiomed INFO - \u001b[1mTRAINING\u001b[0m \n",
      "\t\t\t\t\t NODE_ID: node_23b5af4d-1181-4628-8329-0067ee8030ae \n",
      "\t\t\t\t\t Epoch: 1 | Completed: 1920/67533 (3%) \n",
      " \t\t\t\t\t Loss: \u001b[1m0.693406\u001b[0m \n",
      "\t\t\t\t\t ---------\n",
      "2022-11-16 18:58:25,557 fedbiomed INFO - \u001b[1mTRAINING\u001b[0m \n",
      "\t\t\t\t\t NODE_ID: node_36f153c3-5f27-468c-a24e-4991a618f797 \n",
      "\t\t\t\t\t Epoch: 1 | Completed: 1920/67533 (3%) \n",
      " \t\t\t\t\t Loss: \u001b[1m0.645709\u001b[0m \n",
      "\t\t\t\t\t ---------\n",
      "2022-11-16 18:58:31,210 fedbiomed INFO - \u001b[1mTRAINING\u001b[0m \n",
      "\t\t\t\t\t NODE_ID: node_23b5af4d-1181-4628-8329-0067ee8030ae \n",
      "\t\t\t\t\t Epoch: 1 | Completed: 2240/67533 (3%) \n",
      " \t\t\t\t\t Loss: \u001b[1m0.659714\u001b[0m \n",
      "\t\t\t\t\t ---------\n",
      "2022-11-16 18:58:32,777 fedbiomed INFO - \u001b[1mTRAINING\u001b[0m \n",
      "\t\t\t\t\t NODE_ID: node_36f153c3-5f27-468c-a24e-4991a618f797 \n",
      "\t\t\t\t\t Epoch: 1 | Completed: 2240/67533 (3%) \n",
      " \t\t\t\t\t Loss: \u001b[1m0.578718\u001b[0m \n",
      "\t\t\t\t\t ---------\n",
      "2022-11-16 18:58:38,303 fedbiomed INFO - \u001b[1mTRAINING\u001b[0m \n",
      "\t\t\t\t\t NODE_ID: node_23b5af4d-1181-4628-8329-0067ee8030ae \n",
      "\t\t\t\t\t Epoch: 1 | Completed: 2560/67533 (4%) \n",
      " \t\t\t\t\t Loss: \u001b[1m0.700206\u001b[0m \n",
      "\t\t\t\t\t ---------\n",
      "2022-11-16 18:58:39,969 fedbiomed INFO - \u001b[1mTRAINING\u001b[0m \n",
      "\t\t\t\t\t NODE_ID: node_36f153c3-5f27-468c-a24e-4991a618f797 \n",
      "\t\t\t\t\t Epoch: 1 | Completed: 2560/67533 (4%) \n",
      " \t\t\t\t\t Loss: \u001b[1m0.662618\u001b[0m \n",
      "\t\t\t\t\t ---------\n",
      "2022-11-16 18:58:45,325 fedbiomed INFO - \u001b[1mTRAINING\u001b[0m \n",
      "\t\t\t\t\t NODE_ID: node_23b5af4d-1181-4628-8329-0067ee8030ae \n",
      "\t\t\t\t\t Epoch: 1 | Completed: 2880/67533 (4%) \n",
      " \t\t\t\t\t Loss: \u001b[1m0.648966\u001b[0m \n",
      "\t\t\t\t\t ---------\n",
      "2022-11-16 18:58:46,999 fedbiomed INFO - \u001b[1mTRAINING\u001b[0m \n",
      "\t\t\t\t\t NODE_ID: node_36f153c3-5f27-468c-a24e-4991a618f797 \n",
      "\t\t\t\t\t Epoch: 1 | Completed: 2880/67533 (4%) \n",
      " \t\t\t\t\t Loss: \u001b[1m0.594324\u001b[0m \n",
      "\t\t\t\t\t ---------\n",
      "2022-11-16 18:58:52,334 fedbiomed INFO - \u001b[1mTRAINING\u001b[0m \n",
      "\t\t\t\t\t NODE_ID: node_23b5af4d-1181-4628-8329-0067ee8030ae \n",
      "\t\t\t\t\t Epoch: 1 | Completed: 3200/67533 (5%) \n",
      " \t\t\t\t\t Loss: \u001b[1m0.536485\u001b[0m \n",
      "\t\t\t\t\t ---------\n",
      "2022-11-16 18:58:52,337 fedbiomed INFO - \u001b[1mINFO\u001b[0m\n",
      "\t\t\t\t\t\u001b[1m NODE\u001b[0m node_23b5af4d-1181-4628-8329-0067ee8030ae\n",
      "\t\t\t\t\t\u001b[1m MESSAGE:\u001b[0m Reached 100 batches for this epoch, ignore remaining data\u001b[0m\n",
      "-----------------------------------------------------------------\n",
      "2022-11-16 18:58:52,439 fedbiomed INFO - \u001b[1mINFO\u001b[0m\n",
      "\t\t\t\t\t\u001b[1m NODE\u001b[0m node_23b5af4d-1181-4628-8329-0067ee8030ae\n",
      "\t\t\t\t\t\u001b[1m MESSAGE:\u001b[0m results uploaded successfully \u001b[0m\n",
      "-----------------------------------------------------------------\n",
      "2022-11-16 18:58:53,477 fedbiomed INFO - \u001b[1mTRAINING\u001b[0m \n",
      "\t\t\t\t\t NODE_ID: node_36f153c3-5f27-468c-a24e-4991a618f797 \n",
      "\t\t\t\t\t Epoch: 1 | Completed: 3200/67533 (5%) \n",
      " \t\t\t\t\t Loss: \u001b[1m0.593173\u001b[0m \n",
      "\t\t\t\t\t ---------\n",
      "2022-11-16 18:58:53,479 fedbiomed INFO - \u001b[1mINFO\u001b[0m\n",
      "\t\t\t\t\t\u001b[1m NODE\u001b[0m node_36f153c3-5f27-468c-a24e-4991a618f797\n",
      "\t\t\t\t\t\u001b[1m MESSAGE:\u001b[0m Reached 100 batches for this epoch, ignore remaining data\u001b[0m\n",
      "-----------------------------------------------------------------\n",
      "2022-11-16 18:58:53,556 fedbiomed INFO - \u001b[1mINFO\u001b[0m\n",
      "\t\t\t\t\t\u001b[1m NODE\u001b[0m node_36f153c3-5f27-468c-a24e-4991a618f797\n",
      "\t\t\t\t\t\u001b[1m MESSAGE:\u001b[0m results uploaded successfully \u001b[0m\n",
      "-----------------------------------------------------------------\n",
      "2022-11-16 18:59:01,715 fedbiomed INFO - \u001b[1mWARNING\u001b[0m\n",
      "\t\t\t\t\t\u001b[1m NODE\u001b[0m node_23b5af4d-1181-4628-8329-0067ee8030ae\n",
      "\t\t\t\t\t\u001b[1m MESSAGE:\u001b[0m There is no validation activated for the round. Please set flag for `test_on_global_updates`, `test_on_local_updates`, or both. Splitting dataset for validation will be ignored\u001b[0m\n",
      "-----------------------------------------------------------------\n",
      "2022-11-16 18:59:01,749 fedbiomed INFO - \u001b[1mWARNING\u001b[0m\n",
      "\t\t\t\t\t\u001b[1m NODE\u001b[0m node_36f153c3-5f27-468c-a24e-4991a618f797\n",
      "\t\t\t\t\t\u001b[1m MESSAGE:\u001b[0m There is no validation activated for the round. Please set flag for `test_on_global_updates`, `test_on_local_updates`, or both. Splitting dataset for validation will be ignored\u001b[0m\n",
      "-----------------------------------------------------------------\n",
      "2022-11-16 18:59:09,347 fedbiomed INFO - \u001b[1mTRAINING\u001b[0m \n",
      "\t\t\t\t\t NODE_ID: node_23b5af4d-1181-4628-8329-0067ee8030ae \n",
      "\t\t\t\t\t Epoch: 1 | Completed: 320/67533 (0%) \n",
      " \t\t\t\t\t Loss: \u001b[1m0.601664\u001b[0m \n",
      "\t\t\t\t\t ---------\n",
      "2022-11-16 18:59:09,748 fedbiomed INFO - \u001b[1mTRAINING\u001b[0m \n",
      "\t\t\t\t\t NODE_ID: node_36f153c3-5f27-468c-a24e-4991a618f797 \n",
      "\t\t\t\t\t Epoch: 1 | Completed: 320/67533 (0%) \n",
      " \t\t\t\t\t Loss: \u001b[1m0.628746\u001b[0m \n",
      "\t\t\t\t\t ---------\n",
      "2022-11-16 18:59:16,088 fedbiomed INFO - \u001b[1mTRAINING\u001b[0m \n",
      "\t\t\t\t\t NODE_ID: node_23b5af4d-1181-4628-8329-0067ee8030ae \n",
      "\t\t\t\t\t Epoch: 1 | Completed: 640/67533 (1%) \n",
      " \t\t\t\t\t Loss: \u001b[1m0.768073\u001b[0m \n",
      "\t\t\t\t\t ---------\n",
      "2022-11-16 18:59:16,380 fedbiomed INFO - \u001b[1mTRAINING\u001b[0m \n",
      "\t\t\t\t\t NODE_ID: node_36f153c3-5f27-468c-a24e-4991a618f797 \n",
      "\t\t\t\t\t Epoch: 1 | Completed: 640/67533 (1%) \n",
      " \t\t\t\t\t Loss: \u001b[1m0.580896\u001b[0m \n",
      "\t\t\t\t\t ---------\n",
      "2022-11-16 18:59:23,313 fedbiomed INFO - \u001b[1mTRAINING\u001b[0m \n",
      "\t\t\t\t\t NODE_ID: node_23b5af4d-1181-4628-8329-0067ee8030ae \n",
      "\t\t\t\t\t Epoch: 1 | Completed: 960/67533 (1%) \n",
      " \t\t\t\t\t Loss: \u001b[1m0.543043\u001b[0m \n",
      "\t\t\t\t\t ---------\n",
      "2022-11-16 18:59:23,460 fedbiomed INFO - \u001b[1mTRAINING\u001b[0m \n",
      "\t\t\t\t\t NODE_ID: node_36f153c3-5f27-468c-a24e-4991a618f797 \n",
      "\t\t\t\t\t Epoch: 1 | Completed: 960/67533 (1%) \n",
      " \t\t\t\t\t Loss: \u001b[1m0.616502\u001b[0m \n",
      "\t\t\t\t\t ---------\n",
      "2022-11-16 18:59:30,367 fedbiomed INFO - \u001b[1mTRAINING\u001b[0m \n",
      "\t\t\t\t\t NODE_ID: node_23b5af4d-1181-4628-8329-0067ee8030ae \n",
      "\t\t\t\t\t Epoch: 1 | Completed: 1280/67533 (2%) \n",
      " \t\t\t\t\t Loss: \u001b[1m0.446998\u001b[0m \n",
      "\t\t\t\t\t ---------\n",
      "2022-11-16 18:59:30,525 fedbiomed INFO - \u001b[1mTRAINING\u001b[0m \n",
      "\t\t\t\t\t NODE_ID: node_36f153c3-5f27-468c-a24e-4991a618f797 \n",
      "\t\t\t\t\t Epoch: 1 | Completed: 1280/67533 (2%) \n",
      " \t\t\t\t\t Loss: \u001b[1m0.542481\u001b[0m \n",
      "\t\t\t\t\t ---------\n",
      "2022-11-16 18:59:37,963 fedbiomed INFO - \u001b[1mTRAINING\u001b[0m \n",
      "\t\t\t\t\t NODE_ID: node_23b5af4d-1181-4628-8329-0067ee8030ae \n",
      "\t\t\t\t\t Epoch: 1 | Completed: 1600/67533 (2%) \n",
      " \t\t\t\t\t Loss: \u001b[1m0.493749\u001b[0m \n",
      "\t\t\t\t\t ---------\n",
      "2022-11-16 18:59:38,202 fedbiomed INFO - \u001b[1mTRAINING\u001b[0m \n",
      "\t\t\t\t\t NODE_ID: node_36f153c3-5f27-468c-a24e-4991a618f797 \n",
      "\t\t\t\t\t Epoch: 1 | Completed: 1600/67533 (2%) \n",
      " \t\t\t\t\t Loss: \u001b[1m0.562216\u001b[0m \n",
      "\t\t\t\t\t ---------\n",
      "2022-11-16 18:59:45,098 fedbiomed INFO - \u001b[1mTRAINING\u001b[0m \n",
      "\t\t\t\t\t NODE_ID: node_23b5af4d-1181-4628-8329-0067ee8030ae \n",
      "\t\t\t\t\t Epoch: 1 | Completed: 1920/67533 (3%) \n",
      " \t\t\t\t\t Loss: \u001b[1m0.527849\u001b[0m \n",
      "\t\t\t\t\t ---------\n",
      "2022-11-16 18:59:45,350 fedbiomed INFO - \u001b[1mTRAINING\u001b[0m \n",
      "\t\t\t\t\t NODE_ID: node_36f153c3-5f27-468c-a24e-4991a618f797 \n",
      "\t\t\t\t\t Epoch: 1 | Completed: 1920/67533 (3%) \n",
      " \t\t\t\t\t Loss: \u001b[1m0.558219\u001b[0m \n",
      "\t\t\t\t\t ---------\n",
      "2022-11-16 18:59:52,234 fedbiomed INFO - \u001b[1mTRAINING\u001b[0m \n",
      "\t\t\t\t\t NODE_ID: node_23b5af4d-1181-4628-8329-0067ee8030ae \n",
      "\t\t\t\t\t Epoch: 1 | Completed: 2240/67533 (3%) \n",
      " \t\t\t\t\t Loss: \u001b[1m0.472759\u001b[0m \n",
      "\t\t\t\t\t ---------\n",
      "2022-11-16 18:59:52,477 fedbiomed INFO - \u001b[1mTRAINING\u001b[0m \n",
      "\t\t\t\t\t NODE_ID: node_36f153c3-5f27-468c-a24e-4991a618f797 \n",
      "\t\t\t\t\t Epoch: 1 | Completed: 2240/67533 (3%) \n",
      " \t\t\t\t\t Loss: \u001b[1m0.447181\u001b[0m \n",
      "\t\t\t\t\t ---------\n"
     ]
    },
    {
     "name": "stderr",
     "output_type": "stream",
     "text": [
      "2022-11-16 18:59:59,374 fedbiomed INFO - \u001b[1mTRAINING\u001b[0m \n",
      "\t\t\t\t\t NODE_ID: node_23b5af4d-1181-4628-8329-0067ee8030ae \n",
      "\t\t\t\t\t Epoch: 1 | Completed: 2560/67533 (4%) \n",
      " \t\t\t\t\t Loss: \u001b[1m0.518565\u001b[0m \n",
      "\t\t\t\t\t ---------\n",
      "2022-11-16 18:59:59,577 fedbiomed INFO - \u001b[1mTRAINING\u001b[0m \n",
      "\t\t\t\t\t NODE_ID: node_36f153c3-5f27-468c-a24e-4991a618f797 \n",
      "\t\t\t\t\t Epoch: 1 | Completed: 2560/67533 (4%) \n",
      " \t\t\t\t\t Loss: \u001b[1m0.470587\u001b[0m \n",
      "\t\t\t\t\t ---------\n",
      "2022-11-16 19:00:06,421 fedbiomed INFO - \u001b[1mTRAINING\u001b[0m \n",
      "\t\t\t\t\t NODE_ID: node_23b5af4d-1181-4628-8329-0067ee8030ae \n",
      "\t\t\t\t\t Epoch: 1 | Completed: 2880/67533 (4%) \n",
      " \t\t\t\t\t Loss: \u001b[1m0.363753\u001b[0m \n",
      "\t\t\t\t\t ---------\n",
      "2022-11-16 19:00:07,009 fedbiomed INFO - \u001b[1mTRAINING\u001b[0m \n",
      "\t\t\t\t\t NODE_ID: node_36f153c3-5f27-468c-a24e-4991a618f797 \n",
      "\t\t\t\t\t Epoch: 1 | Completed: 2880/67533 (4%) \n",
      " \t\t\t\t\t Loss: \u001b[1m0.868389\u001b[0m \n",
      "\t\t\t\t\t ---------\n",
      "2022-11-16 19:00:13,514 fedbiomed INFO - \u001b[1mTRAINING\u001b[0m \n",
      "\t\t\t\t\t NODE_ID: node_23b5af4d-1181-4628-8329-0067ee8030ae \n",
      "\t\t\t\t\t Epoch: 1 | Completed: 3200/67533 (5%) \n",
      " \t\t\t\t\t Loss: \u001b[1m0.394503\u001b[0m \n",
      "\t\t\t\t\t ---------\n",
      "2022-11-16 19:00:13,516 fedbiomed INFO - \u001b[1mINFO\u001b[0m\n",
      "\t\t\t\t\t\u001b[1m NODE\u001b[0m node_23b5af4d-1181-4628-8329-0067ee8030ae\n",
      "\t\t\t\t\t\u001b[1m MESSAGE:\u001b[0m Reached 100 batches for this epoch, ignore remaining data\u001b[0m\n",
      "-----------------------------------------------------------------\n",
      "2022-11-16 19:00:13,608 fedbiomed INFO - \u001b[1mINFO\u001b[0m\n",
      "\t\t\t\t\t\u001b[1m NODE\u001b[0m node_23b5af4d-1181-4628-8329-0067ee8030ae\n",
      "\t\t\t\t\t\u001b[1m MESSAGE:\u001b[0m results uploaded successfully \u001b[0m\n",
      "-----------------------------------------------------------------\n",
      "2022-11-16 19:00:14,073 fedbiomed INFO - \u001b[1mTRAINING\u001b[0m \n",
      "\t\t\t\t\t NODE_ID: node_36f153c3-5f27-468c-a24e-4991a618f797 \n",
      "\t\t\t\t\t Epoch: 1 | Completed: 3200/67533 (5%) \n",
      " \t\t\t\t\t Loss: \u001b[1m0.437043\u001b[0m \n",
      "\t\t\t\t\t ---------\n",
      "2022-11-16 19:00:14,074 fedbiomed INFO - \u001b[1mINFO\u001b[0m\n",
      "\t\t\t\t\t\u001b[1m NODE\u001b[0m node_36f153c3-5f27-468c-a24e-4991a618f797\n",
      "\t\t\t\t\t\u001b[1m MESSAGE:\u001b[0m Reached 100 batches for this epoch, ignore remaining data\u001b[0m\n",
      "-----------------------------------------------------------------\n",
      "2022-11-16 19:00:14,139 fedbiomed INFO - \u001b[1mINFO\u001b[0m\n",
      "\t\t\t\t\t\u001b[1m NODE\u001b[0m node_36f153c3-5f27-468c-a24e-4991a618f797\n",
      "\t\t\t\t\t\u001b[1m MESSAGE:\u001b[0m results uploaded successfully \u001b[0m\n",
      "-----------------------------------------------------------------\n"
     ]
    }
   ],
   "source": [
    "from sklearn.metrics import classification_report, f1_score\n",
    "loss_metric = f1_score\n",
    "    \n",
    "testing_error = []\n",
    "\n",
    "for i in range(rounds):\n",
    "    fed_model = exp.training_plan().model()\n",
    "    fed_model.coef_ = exp.aggregated_params()[i]['params']['coef_']\n",
    "    fed_model.intercept_ = exp.aggregated_params()[i]['params']['intercept_']\n",
    "    print(f'Model trained in round {i}')\n",
    "    print('-------------------------')\n",
    "    print(classification_report(y_test, fed_model.predict(X_test), digits=3))"
   ]
  }
 ],
 "metadata": {
  "kernelspec": {
   "display_name": "Python 3 (ipykernel)",
   "language": "python",
   "name": "python3"
  },
  "language_info": {
   "codemirror_mode": {
    "name": "ipython",
    "version": 3
   },
   "file_extension": ".py",
   "mimetype": "text/x-python",
   "name": "python",
   "nbconvert_exporter": "python",
   "pygments_lexer": "ipython3",
   "version": "3.9.13"
  }
 },
 "nbformat": 4,
 "nbformat_minor": 5
}

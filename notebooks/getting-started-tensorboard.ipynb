{
 "cells": [
  {
   "cell_type": "markdown",
   "metadata": {},
   "source": [
    "# Fedbiomed Researcher"
   ]
  },
  {
   "cell_type": "markdown",
   "metadata": {},
   "source": [
    "Use for developing (autoreloads changes made across packages)"
   ]
  },
  {
   "cell_type": "code",
   "execution_count": 1,
   "metadata": {},
   "outputs": [],
   "source": [
    "%load_ext autoreload\n",
    "%autoreload 2"
   ]
  },
  {
   "cell_type": "markdown",
   "metadata": {},
   "source": [
    "Loading tensorboard extension"
   ]
  },
  {
   "cell_type": "code",
   "execution_count": 2,
   "metadata": {},
   "outputs": [],
   "source": [
    "%load_ext tensorboard"
   ]
  },
  {
   "cell_type": "markdown",
   "metadata": {},
   "source": [
    "## Setting the client up\n",
    "It is necessary to previously configure a node:\n",
    "1. `./scripts/fedbiomed_run node add`\n",
    "  * Select option 2 (default) to add MNIST to the client\n",
    "  * Confirm default tags by hitting \"y\" and ENTER\n",
    "  * Pick the folder where MNIST is downloaded (this is due torch issue https://github.com/pytorch/vision/issues/3549)\n",
    "  * Data must have been added (if you get a warning saying that data must be unique is because it's been already added)\n",
    "  \n",
    "2. Check that your data has been added by executing `./scripts/fedbiomed_run node list`\n",
    "3. Run the node using `./scripts/fedbiomed_run node run`. Wait until you get `Connected with result code 0`. it means you are online."
   ]
  },
  {
   "cell_type": "markdown",
   "metadata": {},
   "source": [
    "## Create an experiment to train a model on the data found"
   ]
  },
  {
   "cell_type": "markdown",
   "metadata": {},
   "source": [
    "Declare a torch.nn MyTrainingPlan class to send for training on the node"
   ]
  },
  {
   "cell_type": "code",
   "execution_count": 3,
   "metadata": {},
   "outputs": [],
   "source": [
    "from fedbiomed.researcher.environ import TMP_DIR\n",
    "import tempfile\n",
    "tmp_dir_model = tempfile.TemporaryDirectory(dir=TMP_DIR+'/')\n",
    "model_file = tmp_dir_model.name + '/class_export_mnist.py'"
   ]
  },
  {
   "cell_type": "markdown",
   "metadata": {},
   "source": [
    "Note : write **only** the code to export in the following cell"
   ]
  },
  {
   "cell_type": "code",
   "execution_count": 4,
   "metadata": {},
   "outputs": [
    {
     "name": "stdout",
     "output_type": "stream",
     "text": [
      "Writing /user/scansiz/home/Desktop/Inria/dev/fedbiomed/var/tmp/tmp9z0t8pkl/class_export_mnist.py\n"
     ]
    }
   ],
   "source": [
    "%%writefile \"$model_file\"\n",
    "\n",
    "import torch\n",
    "import torch.nn as nn\n",
    "from fedbiomed.common.torchnn import TorchTrainingPlan\n",
    "from torch.utils.data import DataLoader\n",
    "from torchvision import datasets, transforms\n",
    "\n",
    "# Here we define the model to be used. \n",
    "# You can use any class name (here 'Net')\n",
    "class MyTrainingPlan(TorchTrainingPlan):\n",
    "    def __init__(self):\n",
    "        super(MyTrainingPlan, self).__init__()\n",
    "        self.conv1 = nn.Conv2d(1, 32, 3, 1)\n",
    "        self.conv2 = nn.Conv2d(32, 64, 3, 1)\n",
    "        self.dropout1 = nn.Dropout(0.25)\n",
    "        self.dropout2 = nn.Dropout(0.5)\n",
    "        self.fc1 = nn.Linear(9216, 128)\n",
    "        self.fc2 = nn.Linear(128, 10)\n",
    "        \n",
    "        # Here we define the custom dependencies that will be needed by our custom Dataloader\n",
    "        # In this case, we need the torch DataLoader classes\n",
    "        # Since we will train on MNIST, we need datasets and transform from torchvision\n",
    "        deps = [\"from torchvision import datasets, transforms\",\n",
    "               \"from torch.utils.data import DataLoader\"]\n",
    "        self.add_dependency(deps)\n",
    "\n",
    "    def forward(self, x):\n",
    "        x = self.conv1(x)\n",
    "        x = F.relu(x)\n",
    "        x = self.conv2(x)\n",
    "        x = F.relu(x)\n",
    "        x = F.max_pool2d(x, 2)\n",
    "        x = self.dropout1(x)\n",
    "        x = torch.flatten(x, 1)\n",
    "        x = self.fc1(x)\n",
    "        x = F.relu(x)\n",
    "        x = self.dropout2(x)\n",
    "        x = self.fc2(x)\n",
    "        output = F.log_softmax(x, dim=1)\n",
    "        return output\n",
    "\n",
    "    def training_data(self, batch_size = 48):\n",
    "        # Custom torch Dataloader for MNIST data\n",
    "        transform = transforms.Compose([transforms.ToTensor(),\n",
    "        transforms.Normalize((0.1307,), (0.3081,))])\n",
    "        dataset1 = datasets.MNIST(self.dataset_path, train=True, download=False, transform=transform)\n",
    "        train_kwargs = {'batch_size': batch_size, 'shuffle': True}\n",
    "        data_loader = torch.utils.data.DataLoader(dataset1, **train_kwargs)\n",
    "        return data_loader\n",
    "    \n",
    "    def training_step(self, data, target):\n",
    "        output = self.forward(data)\n",
    "        loss   = torch.nn.functional.nll_loss(output, target)\n",
    "        return loss\n"
   ]
  },
  {
   "cell_type": "markdown",
   "metadata": {},
   "source": [
    "This group of arguments correspond respectively:\n",
    "* `model_args`: a dictionary with the arguments related to the model (e.g. number of layers, features, etc.). This will be passed to the model class on the client side.\n",
    "* `training_args`: a dictionary containing the arguments for the training routine (e.g. batch size, learning rate, epochs, etc.). This will be passed to the routine on the client side.\n",
    "\n",
    "**NOTE:** typos and/or lack of positional (required) arguments will raise error. 🤓"
   ]
  },
  {
   "cell_type": "code",
   "execution_count": 5,
   "metadata": {
    "pycharm": {
     "name": "#%%\n"
    }
   },
   "outputs": [],
   "source": [
    "model_args = {}\n",
    "\n",
    "training_args = {\n",
    "    'batch_size': 48, \n",
    "    'lr': 1e-3, \n",
    "    'epochs': 3, \n",
    "    'dry_run': False,  \n",
    "    'batch_maxnum': 100 # Fast pass for development : only use ( batch_maxnum * batch_size ) samples\n",
    "}"
   ]
  },
  {
   "cell_type": "markdown",
   "metadata": {},
   "source": [
    "Define an experiment\n",
    "- search nodes serving data for these `tags`, optionally filter on a list of client ID with `clients`\n",
    "- run a round of local training on nodes with model defined in `model_path` + federation with `aggregator`\n",
    "- run for `rounds` rounds, applying the `client_selection_strategy` between the rounds"
   ]
  },
  {
   "cell_type": "code",
   "execution_count": 6,
   "metadata": {
    "pycharm": {
     "name": "#%%\n"
    },
    "scrolled": true
   },
   "outputs": [
    {
     "name": "stderr",
     "output_type": "stream",
     "text": [
      "2021-09-29 17:25:01,855 fedbiomed INFO - Messaging researcher_46a0da2b-2e99-4316-b964-b467d343432b successfully connected to the message broker, object = <fedbiomed.common.messaging.Messaging object at 0x7f40b1ece3d0>\n",
      "2021-09-29 17:25:01,866 fedbiomed INFO - Searching for clients with data tags: ['#MNIST', '#dataset']\n",
      "2021-09-29 17:25:01,916 fedbiomed INFO - message received:{'researcher_id': 'researcher_46a0da2b-2e99-4316-b964-b467d343432b', 'success': True, 'databases': [{'name': 'MNIST', 'data_type': 'default', 'tags': ['#MNIST', '#dataset'], 'description': 'MNIST database', 'shape': [60000, 1, 28, 28], 'dataset_id': 'dataset_da9a5db6-9dda-475e-b920-43f8d1f54377'}], 'count': 1, 'client_id': 'client_b1afd615-e4d4-489f-9ded-bd8db8ff2137', 'command': 'search'}\n",
      "2021-09-29 17:25:01,918 fedbiomed INFO - message received:{'researcher_id': 'researcher_46a0da2b-2e99-4316-b964-b467d343432b', 'success': True, 'databases': [{'name': 'MNIST', 'data_type': 'default', 'tags': ['#MNIST', '#dataset'], 'description': 'MNIST database', 'shape': [60000, 1, 28, 28], 'dataset_id': 'dataset_655ec19c-3a4c-4b23-9e39-c91deba0a3e3'}], 'count': 1, 'client_id': 'client_2a34fb5d-7c54-469f-b034-51062b388dc1', 'command': 'search'}\n",
      "2021-09-29 17:25:12,205 fedbiomed INFO - Messaging NodeTrainingFeedbackClient successfully connected to the message broker, object = <fedbiomed.common.messaging.Messaging object at 0x7f40aa38bdc0>\n"
     ]
    }
   ],
   "source": [
    "from fedbiomed.researcher.experiment import Experiment\n",
    "from fedbiomed.researcher.aggregators.fedavg import FedAverage\n",
    "\n",
    "tags =  ['#MNIST', '#dataset']\n",
    "rounds = 2\n",
    "\n",
    "exp = Experiment(tags=tags,\n",
    "                 #clients=None,\n",
    "                 model_path=model_file,\n",
    "                 model_args=model_args,\n",
    "                 model_class='MyTrainingPlan',\n",
    "                 training_args=training_args,\n",
    "                 rounds=rounds,\n",
    "                 aggregator=FedAverage(),\n",
    "                 client_selection_strategy=None,\n",
    "                 tensorboard=True\n",
    "                )"
   ]
  },
  {
   "cell_type": "markdown",
   "metadata": {
    "pycharm": {
     "name": "#%% md\n"
    }
   },
   "source": [
    "Let's start the experiment.\n",
    "\n",
    "By default, this function doesn't stop until all the `rounds` are done for all the clients"
   ]
  },
  {
   "cell_type": "code",
   "execution_count": 7,
   "metadata": {
    "pycharm": {
     "name": "#%%\n"
    },
    "scrolled": true
   },
   "outputs": [
    {
     "name": "stderr",
     "output_type": "stream",
     "text": [
      "2021-09-29 17:25:12,244 fedbiomed INFO - Sampled clients in round 0 ['client_b1afd615-e4d4-489f-9ded-bd8db8ff2137', 'client_2a34fb5d-7c54-469f-b034-51062b388dc1']\n",
      "2021-09-29 17:25:12,244 fedbiomed INFO - Send message to client client_b1afd615-e4d4-489f-9ded-bd8db8ff2137 - {'researcher_id': 'researcher_46a0da2b-2e99-4316-b964-b467d343432b', 'job_id': '165cee09-a38f-4214-b88c-011befcb2ff3', 'training_args': {'batch_size': 48, 'lr': 0.001, 'epochs': 3, 'dry_run': False, 'batch_maxnum': 100}, 'model_args': {}, 'command': 'train', 'model_url': 'http://localhost:8844/media/uploads/2021/09/29/my_model_596a43d3-0253-4ab6-a5eb-52107677b45a.py', 'params_url': 'http://localhost:8844/media/uploads/2021/09/29/my_model_92c75bb5-6dad-413c-92b8-909e9c05ef38.pt', 'model_class': 'MyTrainingPlan', 'training_data': {'client_b1afd615-e4d4-489f-9ded-bd8db8ff2137': ['dataset_da9a5db6-9dda-475e-b920-43f8d1f54377']}}\n",
      "2021-09-29 17:25:12,245 fedbiomed DEBUG - researcher_46a0da2b-2e99-4316-b964-b467d343432b\n",
      "2021-09-29 17:25:12,246 fedbiomed INFO - Send message to client client_2a34fb5d-7c54-469f-b034-51062b388dc1 - {'researcher_id': 'researcher_46a0da2b-2e99-4316-b964-b467d343432b', 'job_id': '165cee09-a38f-4214-b88c-011befcb2ff3', 'training_args': {'batch_size': 48, 'lr': 0.001, 'epochs': 3, 'dry_run': False, 'batch_maxnum': 100}, 'model_args': {}, 'command': 'train', 'model_url': 'http://localhost:8844/media/uploads/2021/09/29/my_model_596a43d3-0253-4ab6-a5eb-52107677b45a.py', 'params_url': 'http://localhost:8844/media/uploads/2021/09/29/my_model_92c75bb5-6dad-413c-92b8-909e9c05ef38.pt', 'model_class': 'MyTrainingPlan', 'training_data': {'client_2a34fb5d-7c54-469f-b034-51062b388dc1': ['dataset_655ec19c-3a4c-4b23-9e39-c91deba0a3e3']}}\n",
      "2021-09-29 17:25:12,246 fedbiomed DEBUG - researcher_46a0da2b-2e99-4316-b964-b467d343432b\n",
      "2021-09-29 17:25:12,483 fedbiomed INFO - Round: 0 Node: client_b1afd615-e4d4-489f-9ded-bd8db8ff2137 - Train Epoch: 1 [0/60000]\tLoss: 2.292410\n",
      "2021-09-29 17:25:12,487 fedbiomed INFO - Round: 0 Node: client_2a34fb5d-7c54-469f-b034-51062b388dc1 - Train Epoch: 1 [0/60000]\tLoss: 2.315222\n",
      "2021-09-29 17:25:13,676 fedbiomed INFO - Round: 0 Node: client_2a34fb5d-7c54-469f-b034-51062b388dc1 - Train Epoch: 1 [480/60000]\tLoss: 1.276053\n",
      "2021-09-29 17:25:14,174 fedbiomed INFO - Round: 0 Node: client_b1afd615-e4d4-489f-9ded-bd8db8ff2137 - Train Epoch: 1 [480/60000]\tLoss: 1.306914\n",
      "2021-09-29 17:25:14,573 fedbiomed INFO - Round: 0 Node: client_2a34fb5d-7c54-469f-b034-51062b388dc1 - Train Epoch: 1 [960/60000]\tLoss: 0.782701\n",
      "2021-09-29 17:25:14,924 fedbiomed INFO - Round: 0 Node: client_b1afd615-e4d4-489f-9ded-bd8db8ff2137 - Train Epoch: 1 [960/60000]\tLoss: 0.807998\n",
      "2021-09-29 17:25:15,404 fedbiomed INFO - Round: 0 Node: client_2a34fb5d-7c54-469f-b034-51062b388dc1 - Train Epoch: 1 [1440/60000]\tLoss: 0.620244\n",
      "2021-09-29 17:25:15,634 fedbiomed INFO - Round: 0 Node: client_b1afd615-e4d4-489f-9ded-bd8db8ff2137 - Train Epoch: 1 [1440/60000]\tLoss: 0.606568\n",
      "2021-09-29 17:25:16,151 fedbiomed INFO - Round: 0 Node: client_2a34fb5d-7c54-469f-b034-51062b388dc1 - Train Epoch: 1 [1920/60000]\tLoss: 0.340975\n",
      "2021-09-29 17:25:16,407 fedbiomed INFO - Round: 0 Node: client_b1afd615-e4d4-489f-9ded-bd8db8ff2137 - Train Epoch: 1 [1920/60000]\tLoss: 0.400178\n",
      "2021-09-29 17:25:16,899 fedbiomed INFO - Round: 0 Node: client_2a34fb5d-7c54-469f-b034-51062b388dc1 - Train Epoch: 1 [2400/60000]\tLoss: 0.238595\n",
      "2021-09-29 17:25:17,247 fedbiomed INFO - Round: 0 Node: client_b1afd615-e4d4-489f-9ded-bd8db8ff2137 - Train Epoch: 1 [2400/60000]\tLoss: 0.573720\n",
      "2021-09-29 17:25:17,665 fedbiomed INFO - Round: 0 Node: client_2a34fb5d-7c54-469f-b034-51062b388dc1 - Train Epoch: 1 [2880/60000]\tLoss: 0.181463\n",
      "2021-09-29 17:25:18,022 fedbiomed INFO - Round: 0 Node: client_b1afd615-e4d4-489f-9ded-bd8db8ff2137 - Train Epoch: 1 [2880/60000]\tLoss: 0.398429\n",
      "2021-09-29 17:25:18,445 fedbiomed INFO - Round: 0 Node: client_2a34fb5d-7c54-469f-b034-51062b388dc1 - Train Epoch: 1 [3360/60000]\tLoss: 0.502459\n",
      "2021-09-29 17:25:18,805 fedbiomed INFO - Round: 0 Node: client_b1afd615-e4d4-489f-9ded-bd8db8ff2137 - Train Epoch: 1 [3360/60000]\tLoss: 0.182835\n",
      "2021-09-29 17:25:19,189 fedbiomed INFO - Round: 0 Node: client_2a34fb5d-7c54-469f-b034-51062b388dc1 - Train Epoch: 1 [3840/60000]\tLoss: 0.282847\n",
      "2021-09-29 17:25:19,597 fedbiomed INFO - Round: 0 Node: client_b1afd615-e4d4-489f-9ded-bd8db8ff2137 - Train Epoch: 1 [3840/60000]\tLoss: 0.428708\n",
      "2021-09-29 17:25:19,975 fedbiomed INFO - Round: 0 Node: client_2a34fb5d-7c54-469f-b034-51062b388dc1 - Train Epoch: 1 [4320/60000]\tLoss: 0.591247\n",
      "2021-09-29 17:25:20,389 fedbiomed INFO - Round: 0 Node: client_b1afd615-e4d4-489f-9ded-bd8db8ff2137 - Train Epoch: 1 [4320/60000]\tLoss: 0.274343\n",
      "2021-09-29 17:25:20,864 fedbiomed INFO - Round: 0 Node: client_2a34fb5d-7c54-469f-b034-51062b388dc1 - Train Epoch: 2 [0/60000]\tLoss: 0.409644\n",
      "2021-09-29 17:25:21,266 fedbiomed INFO - Round: 0 Node: client_b1afd615-e4d4-489f-9ded-bd8db8ff2137 - Train Epoch: 2 [0/60000]\tLoss: 0.444100\n",
      "2021-09-29 17:25:21,639 fedbiomed INFO - Round: 0 Node: client_2a34fb5d-7c54-469f-b034-51062b388dc1 - Train Epoch: 2 [480/60000]\tLoss: 0.401878\n",
      "2021-09-29 17:25:22,040 fedbiomed INFO - Round: 0 Node: client_b1afd615-e4d4-489f-9ded-bd8db8ff2137 - Train Epoch: 2 [480/60000]\tLoss: 0.363972\n",
      "2021-09-29 17:25:22,423 fedbiomed INFO - Round: 0 Node: client_2a34fb5d-7c54-469f-b034-51062b388dc1 - Train Epoch: 2 [960/60000]\tLoss: 0.332358\n",
      "2021-09-29 17:25:22,796 fedbiomed INFO - Round: 0 Node: client_b1afd615-e4d4-489f-9ded-bd8db8ff2137 - Train Epoch: 2 [960/60000]\tLoss: 0.172513\n",
      "2021-09-29 17:25:23,186 fedbiomed INFO - Round: 0 Node: client_2a34fb5d-7c54-469f-b034-51062b388dc1 - Train Epoch: 2 [1440/60000]\tLoss: 0.169195\n",
      "2021-09-29 17:25:23,606 fedbiomed INFO - Round: 0 Node: client_b1afd615-e4d4-489f-9ded-bd8db8ff2137 - Train Epoch: 2 [1440/60000]\tLoss: 0.336318\n",
      "2021-09-29 17:25:23,995 fedbiomed INFO - Round: 0 Node: client_2a34fb5d-7c54-469f-b034-51062b388dc1 - Train Epoch: 2 [1920/60000]\tLoss: 0.196739\n",
      "2021-09-29 17:25:24,543 fedbiomed INFO - Round: 0 Node: client_b1afd615-e4d4-489f-9ded-bd8db8ff2137 - Train Epoch: 2 [1920/60000]\tLoss: 0.279367\n",
      "2021-09-29 17:25:24,880 fedbiomed INFO - Round: 0 Node: client_2a34fb5d-7c54-469f-b034-51062b388dc1 - Train Epoch: 2 [2400/60000]\tLoss: 0.277477\n",
      "2021-09-29 17:25:25,364 fedbiomed INFO - Round: 0 Node: client_b1afd615-e4d4-489f-9ded-bd8db8ff2137 - Train Epoch: 2 [2400/60000]\tLoss: 0.523741\n",
      "2021-09-29 17:25:25,669 fedbiomed INFO - Round: 0 Node: client_2a34fb5d-7c54-469f-b034-51062b388dc1 - Train Epoch: 2 [2880/60000]\tLoss: 0.305365\n",
      "2021-09-29 17:25:26,167 fedbiomed INFO - Round: 0 Node: client_b1afd615-e4d4-489f-9ded-bd8db8ff2137 - Train Epoch: 2 [2880/60000]\tLoss: 0.189762\n",
      "2021-09-29 17:25:26,438 fedbiomed INFO - Round: 0 Node: client_2a34fb5d-7c54-469f-b034-51062b388dc1 - Train Epoch: 2 [3360/60000]\tLoss: 0.177493\n",
      "2021-09-29 17:25:26,947 fedbiomed INFO - Round: 0 Node: client_b1afd615-e4d4-489f-9ded-bd8db8ff2137 - Train Epoch: 2 [3360/60000]\tLoss: 0.391077\n",
      "2021-09-29 17:25:27,203 fedbiomed INFO - Round: 0 Node: client_2a34fb5d-7c54-469f-b034-51062b388dc1 - Train Epoch: 2 [3840/60000]\tLoss: 0.206922\n",
      "2021-09-29 17:25:27,751 fedbiomed INFO - Round: 0 Node: client_b1afd615-e4d4-489f-9ded-bd8db8ff2137 - Train Epoch: 2 [3840/60000]\tLoss: 0.371239\n",
      "2021-09-29 17:25:27,989 fedbiomed INFO - Round: 0 Node: client_2a34fb5d-7c54-469f-b034-51062b388dc1 - Train Epoch: 2 [4320/60000]\tLoss: 0.404276\n",
      "2021-09-29 17:25:28,592 fedbiomed INFO - Round: 0 Node: client_b1afd615-e4d4-489f-9ded-bd8db8ff2137 - Train Epoch: 2 [4320/60000]\tLoss: 0.292763\n",
      "2021-09-29 17:25:28,896 fedbiomed INFO - Round: 0 Node: client_2a34fb5d-7c54-469f-b034-51062b388dc1 - Train Epoch: 3 [0/60000]\tLoss: 0.190026\n",
      "2021-09-29 17:25:29,568 fedbiomed INFO - Round: 0 Node: client_b1afd615-e4d4-489f-9ded-bd8db8ff2137 - Train Epoch: 3 [0/60000]\tLoss: 0.154590\n",
      "2021-09-29 17:25:29,668 fedbiomed INFO - Round: 0 Node: client_2a34fb5d-7c54-469f-b034-51062b388dc1 - Train Epoch: 3 [480/60000]\tLoss: 0.186974\n",
      "2021-09-29 17:25:30,392 fedbiomed INFO - Round: 0 Node: client_b1afd615-e4d4-489f-9ded-bd8db8ff2137 - Train Epoch: 3 [480/60000]\tLoss: 0.346098\n",
      "2021-09-29 17:25:30,833 fedbiomed INFO - Round: 0 Node: client_2a34fb5d-7c54-469f-b034-51062b388dc1 - Train Epoch: 3 [960/60000]\tLoss: 0.224220\n"
     ]
    },
    {
     "name": "stderr",
     "output_type": "stream",
     "text": [
      "2021-09-29 17:25:31,864 fedbiomed INFO - Round: 0 Node: client_b1afd615-e4d4-489f-9ded-bd8db8ff2137 - Train Epoch: 3 [960/60000]\tLoss: 0.076419\n",
      "2021-09-29 17:25:32,302 fedbiomed INFO - Round: 0 Node: client_2a34fb5d-7c54-469f-b034-51062b388dc1 - Train Epoch: 3 [1440/60000]\tLoss: 0.120297\n",
      "2021-09-29 17:25:32,816 fedbiomed INFO - Round: 0 Node: client_b1afd615-e4d4-489f-9ded-bd8db8ff2137 - Train Epoch: 3 [1440/60000]\tLoss: 0.327884\n",
      "2021-09-29 17:25:33,197 fedbiomed INFO - Round: 0 Node: client_2a34fb5d-7c54-469f-b034-51062b388dc1 - Train Epoch: 3 [1920/60000]\tLoss: 0.082900\n",
      "2021-09-29 17:25:33,759 fedbiomed INFO - Round: 0 Node: client_b1afd615-e4d4-489f-9ded-bd8db8ff2137 - Train Epoch: 3 [1920/60000]\tLoss: 0.159018\n",
      "2021-09-29 17:25:34,076 fedbiomed INFO - Round: 0 Node: client_2a34fb5d-7c54-469f-b034-51062b388dc1 - Train Epoch: 3 [2400/60000]\tLoss: 0.197126\n",
      "2021-09-29 17:25:34,560 fedbiomed INFO - Round: 0 Node: client_b1afd615-e4d4-489f-9ded-bd8db8ff2137 - Train Epoch: 3 [2400/60000]\tLoss: 0.188742\n",
      "2021-09-29 17:25:34,964 fedbiomed INFO - Round: 0 Node: client_2a34fb5d-7c54-469f-b034-51062b388dc1 - Train Epoch: 3 [2880/60000]\tLoss: 0.058038\n",
      "2021-09-29 17:25:35,496 fedbiomed INFO - Round: 0 Node: client_b1afd615-e4d4-489f-9ded-bd8db8ff2137 - Train Epoch: 3 [2880/60000]\tLoss: 0.143352\n",
      "2021-09-29 17:25:35,761 fedbiomed INFO - Round: 0 Node: client_2a34fb5d-7c54-469f-b034-51062b388dc1 - Train Epoch: 3 [3360/60000]\tLoss: 0.291141\n",
      "2021-09-29 17:25:36,308 fedbiomed INFO - Round: 0 Node: client_b1afd615-e4d4-489f-9ded-bd8db8ff2137 - Train Epoch: 3 [3360/60000]\tLoss: 0.393990\n",
      "2021-09-29 17:25:36,654 fedbiomed INFO - Round: 0 Node: client_2a34fb5d-7c54-469f-b034-51062b388dc1 - Train Epoch: 3 [3840/60000]\tLoss: 0.129908\n",
      "2021-09-29 17:25:37,334 fedbiomed INFO - Round: 0 Node: client_b1afd615-e4d4-489f-9ded-bd8db8ff2137 - Train Epoch: 3 [3840/60000]\tLoss: 0.286348\n",
      "2021-09-29 17:25:37,762 fedbiomed INFO - Round: 0 Node: client_2a34fb5d-7c54-469f-b034-51062b388dc1 - Train Epoch: 3 [4320/60000]\tLoss: 0.358452\n",
      "2021-09-29 17:25:38,294 fedbiomed INFO - Round: 0 Node: client_b1afd615-e4d4-489f-9ded-bd8db8ff2137 - Train Epoch: 3 [4320/60000]\tLoss: 0.235990\n",
      "2021-09-29 17:25:38,955 fedbiomed INFO - message received:{'researcher_id': 'researcher_46a0da2b-2e99-4316-b964-b467d343432b', 'job_id': '165cee09-a38f-4214-b88c-011befcb2ff3', 'success': True, 'client_id': 'client_2a34fb5d-7c54-469f-b034-51062b388dc1', 'dataset_id': 'dataset_655ec19c-3a4c-4b23-9e39-c91deba0a3e3', 'params_url': 'http://localhost:8844/media/uploads/2021/09/29/node_params_00627460-faf4-4297-94c6-a413a40f24b3.pt', 'timing': {'rtime_training': 26.330746808904223, 'ptime_training': 97.58332541800019}, 'msg': '', 'command': 'train'}\n",
      "2021-09-29 17:25:39,251 fedbiomed INFO - message received:{'researcher_id': 'researcher_46a0da2b-2e99-4316-b964-b467d343432b', 'job_id': '165cee09-a38f-4214-b88c-011befcb2ff3', 'success': True, 'client_id': 'client_b1afd615-e4d4-489f-9ded-bd8db8ff2137', 'dataset_id': 'dataset_da9a5db6-9dda-475e-b920-43f8d1f54377', 'params_url': 'http://localhost:8844/media/uploads/2021/09/29/node_params_6acce04c-34bb-410b-9459-e33449c85d0c.pt', 'timing': {'rtime_training': 26.741684697102755, 'ptime_training': 98.65963579199979}, 'msg': '', 'command': 'train'}\n",
      "2021-09-29 17:25:47,315 fedbiomed INFO - Downloading model params after training on client_2a34fb5d-7c54-469f-b034-51062b388dc1 - from http://localhost:8844/media/uploads/2021/09/29/node_params_00627460-faf4-4297-94c6-a413a40f24b3.pt\n",
      "2021-09-29 17:25:47,374 fedbiomed INFO - Downloading model params after training on client_b1afd615-e4d4-489f-9ded-bd8db8ff2137 - from http://localhost:8844/media/uploads/2021/09/29/node_params_6acce04c-34bb-410b-9459-e33449c85d0c.pt\n",
      "2021-09-29 17:25:47,406 fedbiomed INFO - Clients that successfully reply in round 0 ['client_2a34fb5d-7c54-469f-b034-51062b388dc1', 'client_b1afd615-e4d4-489f-9ded-bd8db8ff2137']\n",
      "2021-09-29 17:25:47,608 fedbiomed INFO - Sampled clients in round 1 ['client_b1afd615-e4d4-489f-9ded-bd8db8ff2137', 'client_2a34fb5d-7c54-469f-b034-51062b388dc1']\n",
      "2021-09-29 17:25:47,610 fedbiomed INFO - Send message to client client_b1afd615-e4d4-489f-9ded-bd8db8ff2137 - {'researcher_id': 'researcher_46a0da2b-2e99-4316-b964-b467d343432b', 'job_id': '165cee09-a38f-4214-b88c-011befcb2ff3', 'training_args': {'batch_size': 48, 'lr': 0.001, 'epochs': 3, 'dry_run': False, 'batch_maxnum': 100}, 'model_args': {}, 'command': 'train', 'model_url': 'http://localhost:8844/media/uploads/2021/09/29/my_model_596a43d3-0253-4ab6-a5eb-52107677b45a.py', 'params_url': 'http://localhost:8844/media/uploads/2021/09/29/researcher_params_1c604e8d-d37e-439d-82cb-1d2d44647f44.pt', 'model_class': 'MyTrainingPlan', 'training_data': {'client_b1afd615-e4d4-489f-9ded-bd8db8ff2137': ['dataset_da9a5db6-9dda-475e-b920-43f8d1f54377']}}\n",
      "2021-09-29 17:25:47,612 fedbiomed DEBUG - researcher_46a0da2b-2e99-4316-b964-b467d343432b\n",
      "2021-09-29 17:25:47,616 fedbiomed INFO - Send message to client client_2a34fb5d-7c54-469f-b034-51062b388dc1 - {'researcher_id': 'researcher_46a0da2b-2e99-4316-b964-b467d343432b', 'job_id': '165cee09-a38f-4214-b88c-011befcb2ff3', 'training_args': {'batch_size': 48, 'lr': 0.001, 'epochs': 3, 'dry_run': False, 'batch_maxnum': 100}, 'model_args': {}, 'command': 'train', 'model_url': 'http://localhost:8844/media/uploads/2021/09/29/my_model_596a43d3-0253-4ab6-a5eb-52107677b45a.py', 'params_url': 'http://localhost:8844/media/uploads/2021/09/29/researcher_params_1c604e8d-d37e-439d-82cb-1d2d44647f44.pt', 'model_class': 'MyTrainingPlan', 'training_data': {'client_2a34fb5d-7c54-469f-b034-51062b388dc1': ['dataset_655ec19c-3a4c-4b23-9e39-c91deba0a3e3']}}\n",
      "2021-09-29 17:25:47,619 fedbiomed DEBUG - researcher_46a0da2b-2e99-4316-b964-b467d343432b\n",
      "2021-09-29 17:25:47,794 fedbiomed INFO - Round: 1 Node: client_b1afd615-e4d4-489f-9ded-bd8db8ff2137 - Train Epoch: 1 [0/60000]\tLoss: 0.316472\n",
      "2021-09-29 17:25:47,812 fedbiomed INFO - Round: 1 Node: client_2a34fb5d-7c54-469f-b034-51062b388dc1 - Train Epoch: 1 [0/60000]\tLoss: 0.429535\n",
      "2021-09-29 17:25:48,684 fedbiomed INFO - Round: 1 Node: client_b1afd615-e4d4-489f-9ded-bd8db8ff2137 - Train Epoch: 1 [480/60000]\tLoss: 0.159263\n",
      "2021-09-29 17:25:49,453 fedbiomed INFO - Round: 1 Node: client_b1afd615-e4d4-489f-9ded-bd8db8ff2137 - Train Epoch: 1 [960/60000]\tLoss: 0.041299\n",
      "2021-09-29 17:25:50,085 fedbiomed INFO - Round: 1 Node: client_2a34fb5d-7c54-469f-b034-51062b388dc1 - Train Epoch: 1 [480/60000]\tLoss: 0.167642\n",
      "2021-09-29 17:25:50,608 fedbiomed INFO - Round: 1 Node: client_b1afd615-e4d4-489f-9ded-bd8db8ff2137 - Train Epoch: 1 [1440/60000]\tLoss: 0.277949\n",
      "2021-09-29 17:25:51,056 fedbiomed INFO - Round: 1 Node: client_2a34fb5d-7c54-469f-b034-51062b388dc1 - Train Epoch: 1 [960/60000]\tLoss: 0.031345\n",
      "2021-09-29 17:25:51,424 fedbiomed INFO - Round: 1 Node: client_b1afd615-e4d4-489f-9ded-bd8db8ff2137 - Train Epoch: 1 [1920/60000]\tLoss: 0.303750\n",
      "2021-09-29 17:25:51,811 fedbiomed INFO - Round: 1 Node: client_2a34fb5d-7c54-469f-b034-51062b388dc1 - Train Epoch: 1 [1440/60000]\tLoss: 0.065300\n",
      "2021-09-29 17:25:52,256 fedbiomed INFO - Round: 1 Node: client_b1afd615-e4d4-489f-9ded-bd8db8ff2137 - Train Epoch: 1 [2400/60000]\tLoss: 0.099042\n",
      "2021-09-29 17:25:52,585 fedbiomed INFO - Round: 1 Node: client_2a34fb5d-7c54-469f-b034-51062b388dc1 - Train Epoch: 1 [1920/60000]\tLoss: 0.021236\n",
      "2021-09-29 17:25:53,066 fedbiomed INFO - Round: 1 Node: client_b1afd615-e4d4-489f-9ded-bd8db8ff2137 - Train Epoch: 1 [2880/60000]\tLoss: 0.063261\n",
      "2021-09-29 17:25:53,373 fedbiomed INFO - Round: 1 Node: client_2a34fb5d-7c54-469f-b034-51062b388dc1 - Train Epoch: 1 [2400/60000]\tLoss: 0.074497\n",
      "2021-09-29 17:25:53,899 fedbiomed INFO - Round: 1 Node: client_b1afd615-e4d4-489f-9ded-bd8db8ff2137 - Train Epoch: 1 [3360/60000]\tLoss: 0.080117\n",
      "2021-09-29 17:25:54,213 fedbiomed INFO - Round: 1 Node: client_2a34fb5d-7c54-469f-b034-51062b388dc1 - Train Epoch: 1 [2880/60000]\tLoss: 0.162747\n",
      "2021-09-29 17:25:54,689 fedbiomed INFO - Round: 1 Node: client_b1afd615-e4d4-489f-9ded-bd8db8ff2137 - Train Epoch: 1 [3840/60000]\tLoss: 0.092876\n",
      "2021-09-29 17:25:55,062 fedbiomed INFO - Round: 1 Node: client_2a34fb5d-7c54-469f-b034-51062b388dc1 - Train Epoch: 1 [3360/60000]\tLoss: 0.283652\n"
     ]
    },
    {
     "name": "stderr",
     "output_type": "stream",
     "text": [
      "2021-09-29 17:25:55,601 fedbiomed INFO - Round: 1 Node: client_b1afd615-e4d4-489f-9ded-bd8db8ff2137 - Train Epoch: 1 [4320/60000]\tLoss: 0.159965\n",
      "2021-09-29 17:25:56,113 fedbiomed INFO - Round: 1 Node: client_2a34fb5d-7c54-469f-b034-51062b388dc1 - Train Epoch: 1 [3840/60000]\tLoss: 0.118337\n",
      "2021-09-29 17:25:56,631 fedbiomed INFO - Round: 1 Node: client_b1afd615-e4d4-489f-9ded-bd8db8ff2137 - Train Epoch: 2 [0/60000]\tLoss: 0.139654\n",
      "2021-09-29 17:25:56,957 fedbiomed INFO - Round: 1 Node: client_2a34fb5d-7c54-469f-b034-51062b388dc1 - Train Epoch: 1 [4320/60000]\tLoss: 0.332354\n",
      "2021-09-29 17:25:57,353 fedbiomed INFO - Round: 1 Node: client_b1afd615-e4d4-489f-9ded-bd8db8ff2137 - Train Epoch: 2 [480/60000]\tLoss: 0.129357\n",
      "2021-09-29 17:25:58,038 fedbiomed INFO - Round: 1 Node: client_2a34fb5d-7c54-469f-b034-51062b388dc1 - Train Epoch: 2 [0/60000]\tLoss: 0.072352\n",
      "2021-09-29 17:25:58,123 fedbiomed INFO - Round: 1 Node: client_b1afd615-e4d4-489f-9ded-bd8db8ff2137 - Train Epoch: 2 [960/60000]\tLoss: 0.062649\n",
      "2021-09-29 17:25:58,938 fedbiomed INFO - Round: 1 Node: client_b1afd615-e4d4-489f-9ded-bd8db8ff2137 - Train Epoch: 2 [1440/60000]\tLoss: 0.054848\n",
      "2021-09-29 17:25:59,031 fedbiomed INFO - Round: 1 Node: client_2a34fb5d-7c54-469f-b034-51062b388dc1 - Train Epoch: 2 [480/60000]\tLoss: 0.050748\n",
      "2021-09-29 17:25:59,746 fedbiomed INFO - Round: 1 Node: client_b1afd615-e4d4-489f-9ded-bd8db8ff2137 - Train Epoch: 2 [1920/60000]\tLoss: 0.230470\n",
      "2021-09-29 17:25:59,877 fedbiomed INFO - Round: 1 Node: client_2a34fb5d-7c54-469f-b034-51062b388dc1 - Train Epoch: 2 [960/60000]\tLoss: 0.297023\n",
      "2021-09-29 17:26:00,573 fedbiomed INFO - Round: 1 Node: client_b1afd615-e4d4-489f-9ded-bd8db8ff2137 - Train Epoch: 2 [2400/60000]\tLoss: 0.091916\n",
      "2021-09-29 17:26:00,660 fedbiomed INFO - Round: 1 Node: client_2a34fb5d-7c54-469f-b034-51062b388dc1 - Train Epoch: 2 [1440/60000]\tLoss: 0.113658\n",
      "2021-09-29 17:26:01,374 fedbiomed INFO - Round: 1 Node: client_b1afd615-e4d4-489f-9ded-bd8db8ff2137 - Train Epoch: 2 [2880/60000]\tLoss: 0.113201\n",
      "2021-09-29 17:26:01,434 fedbiomed INFO - Round: 1 Node: client_2a34fb5d-7c54-469f-b034-51062b388dc1 - Train Epoch: 2 [1920/60000]\tLoss: 0.049890\n",
      "2021-09-29 17:26:02,160 fedbiomed INFO - Round: 1 Node: client_b1afd615-e4d4-489f-9ded-bd8db8ff2137 - Train Epoch: 2 [3360/60000]\tLoss: 0.098650\n",
      "2021-09-29 17:26:02,183 fedbiomed INFO - Round: 1 Node: client_2a34fb5d-7c54-469f-b034-51062b388dc1 - Train Epoch: 2 [2400/60000]\tLoss: 0.164751\n",
      "2021-09-29 17:26:02,942 fedbiomed INFO - Round: 1 Node: client_2a34fb5d-7c54-469f-b034-51062b388dc1 - Train Epoch: 2 [2880/60000]\tLoss: 0.043540\n",
      "2021-09-29 17:26:03,000 fedbiomed INFO - Round: 1 Node: client_b1afd615-e4d4-489f-9ded-bd8db8ff2137 - Train Epoch: 2 [3840/60000]\tLoss: 0.172289\n",
      "2021-09-29 17:26:03,835 fedbiomed INFO - Round: 1 Node: client_2a34fb5d-7c54-469f-b034-51062b388dc1 - Train Epoch: 2 [3360/60000]\tLoss: 0.139493\n",
      "2021-09-29 17:26:04,068 fedbiomed INFO - Round: 1 Node: client_b1afd615-e4d4-489f-9ded-bd8db8ff2137 - Train Epoch: 2 [4320/60000]\tLoss: 0.203650\n",
      "2021-09-29 17:26:04,920 fedbiomed INFO - Round: 1 Node: client_2a34fb5d-7c54-469f-b034-51062b388dc1 - Train Epoch: 2 [3840/60000]\tLoss: 0.344043\n",
      "2021-09-29 17:26:05,172 fedbiomed INFO - Round: 1 Node: client_b1afd615-e4d4-489f-9ded-bd8db8ff2137 - Train Epoch: 3 [0/60000]\tLoss: 0.364424\n",
      "2021-09-29 17:26:05,796 fedbiomed INFO - Round: 1 Node: client_2a34fb5d-7c54-469f-b034-51062b388dc1 - Train Epoch: 2 [4320/60000]\tLoss: 0.276103\n",
      "2021-09-29 17:26:06,080 fedbiomed INFO - Round: 1 Node: client_b1afd615-e4d4-489f-9ded-bd8db8ff2137 - Train Epoch: 3 [480/60000]\tLoss: 0.102282\n",
      "2021-09-29 17:26:06,914 fedbiomed INFO - Round: 1 Node: client_2a34fb5d-7c54-469f-b034-51062b388dc1 - Train Epoch: 3 [0/60000]\tLoss: 0.437791\n",
      "2021-09-29 17:26:07,044 fedbiomed INFO - Round: 1 Node: client_b1afd615-e4d4-489f-9ded-bd8db8ff2137 - Train Epoch: 3 [960/60000]\tLoss: 0.156662\n",
      "2021-09-29 17:26:07,833 fedbiomed INFO - Round: 1 Node: client_b1afd615-e4d4-489f-9ded-bd8db8ff2137 - Train Epoch: 3 [1440/60000]\tLoss: 0.137540\n",
      "2021-09-29 17:26:07,867 fedbiomed INFO - Round: 1 Node: client_2a34fb5d-7c54-469f-b034-51062b388dc1 - Train Epoch: 3 [480/60000]\tLoss: 0.049434\n",
      "2021-09-29 17:26:08,789 fedbiomed INFO - Round: 1 Node: client_b1afd615-e4d4-489f-9ded-bd8db8ff2137 - Train Epoch: 3 [1920/60000]\tLoss: 0.347204\n",
      "2021-09-29 17:26:08,929 fedbiomed INFO - Round: 1 Node: client_2a34fb5d-7c54-469f-b034-51062b388dc1 - Train Epoch: 3 [960/60000]\tLoss: 0.159943\n",
      "2021-09-29 17:26:09,786 fedbiomed INFO - Round: 1 Node: client_b1afd615-e4d4-489f-9ded-bd8db8ff2137 - Train Epoch: 3 [2400/60000]\tLoss: 0.065179\n",
      "2021-09-29 17:26:10,748 fedbiomed INFO - Round: 1 Node: client_b1afd615-e4d4-489f-9ded-bd8db8ff2137 - Train Epoch: 3 [2880/60000]\tLoss: 0.122440\n",
      "2021-09-29 17:26:11,331 fedbiomed INFO - Round: 1 Node: client_2a34fb5d-7c54-469f-b034-51062b388dc1 - Train Epoch: 3 [1440/60000]\tLoss: 0.109873\n",
      "2021-09-29 17:26:11,603 fedbiomed INFO - Round: 1 Node: client_b1afd615-e4d4-489f-9ded-bd8db8ff2137 - Train Epoch: 3 [3360/60000]\tLoss: 0.059078\n",
      "2021-09-29 17:26:12,161 fedbiomed INFO - Round: 1 Node: client_2a34fb5d-7c54-469f-b034-51062b388dc1 - Train Epoch: 3 [1920/60000]\tLoss: 0.029711\n",
      "2021-09-29 17:26:12,466 fedbiomed INFO - Round: 1 Node: client_b1afd615-e4d4-489f-9ded-bd8db8ff2137 - Train Epoch: 3 [3840/60000]\tLoss: 0.270103\n",
      "2021-09-29 17:26:12,970 fedbiomed INFO - Round: 1 Node: client_2a34fb5d-7c54-469f-b034-51062b388dc1 - Train Epoch: 3 [2400/60000]\tLoss: 0.062296\n",
      "2021-09-29 17:26:13,366 fedbiomed INFO - Round: 1 Node: client_b1afd615-e4d4-489f-9ded-bd8db8ff2137 - Train Epoch: 3 [4320/60000]\tLoss: 0.119265\n",
      "2021-09-29 17:26:13,887 fedbiomed INFO - Round: 1 Node: client_2a34fb5d-7c54-469f-b034-51062b388dc1 - Train Epoch: 3 [2880/60000]\tLoss: 0.046704\n",
      "2021-09-29 17:26:14,703 fedbiomed INFO - message received:{'researcher_id': 'researcher_46a0da2b-2e99-4316-b964-b467d343432b', 'job_id': '165cee09-a38f-4214-b88c-011befcb2ff3', 'success': True, 'client_id': 'client_b1afd615-e4d4-489f-9ded-bd8db8ff2137', 'dataset_id': 'dataset_da9a5db6-9dda-475e-b920-43f8d1f54377', 'params_url': 'http://localhost:8844/media/uploads/2021/09/29/node_params_6d124bb4-ce91-43a7-ad01-8fb442aed07e.pt', 'timing': {'rtime_training': 26.699492387939245, 'ptime_training': 99.3615513499999}, 'msg': '', 'command': 'train'}\n",
      "2021-09-29 17:26:14,721 fedbiomed INFO - Round: 1 Node: client_2a34fb5d-7c54-469f-b034-51062b388dc1 - Train Epoch: 3 [3360/60000]\tLoss: 0.146654\n",
      "2021-09-29 17:26:15,416 fedbiomed INFO - Round: 1 Node: client_2a34fb5d-7c54-469f-b034-51062b388dc1 - Train Epoch: 3 [3840/60000]\tLoss: 0.110954\n",
      "2021-09-29 17:26:16,039 fedbiomed INFO - Round: 1 Node: client_2a34fb5d-7c54-469f-b034-51062b388dc1 - Train Epoch: 3 [4320/60000]\tLoss: 0.057294\n",
      "2021-09-29 17:26:16,731 fedbiomed INFO - message received:{'researcher_id': 'researcher_46a0da2b-2e99-4316-b964-b467d343432b', 'job_id': '165cee09-a38f-4214-b88c-011befcb2ff3', 'success': True, 'client_id': 'client_2a34fb5d-7c54-469f-b034-51062b388dc1', 'dataset_id': 'dataset_655ec19c-3a4c-4b23-9e39-c91deba0a3e3', 'params_url': 'http://localhost:8844/media/uploads/2021/09/29/node_params_858b1c3c-1007-45fc-be77-2a232734b4d4.pt', 'timing': {'rtime_training': 28.83154162496794, 'ptime_training': 104.92148528799999}, 'msg': '', 'command': 'train'}\n",
      "2021-09-29 17:26:22,695 fedbiomed INFO - Downloading model params after training on client_b1afd615-e4d4-489f-9ded-bd8db8ff2137 - from http://localhost:8844/media/uploads/2021/09/29/node_params_6d124bb4-ce91-43a7-ad01-8fb442aed07e.pt\n",
      "2021-09-29 17:26:22,747 fedbiomed INFO - Downloading model params after training on client_2a34fb5d-7c54-469f-b034-51062b388dc1 - from http://localhost:8844/media/uploads/2021/09/29/node_params_858b1c3c-1007-45fc-be77-2a232734b4d4.pt\n",
      "2021-09-29 17:26:22,780 fedbiomed INFO - Clients that successfully reply in round 1 ['client_b1afd615-e4d4-489f-9ded-bd8db8ff2137', 'client_2a34fb5d-7c54-469f-b034-51062b388dc1']\n"
     ]
    }
   ],
   "source": [
    "exp.run()"
   ]
  },
  {
   "cell_type": "markdown",
   "metadata": {},
   "source": [
    "To display current values please click refresh button on the TensorBoard screen"
   ]
  },
  {
   "cell_type": "code",
   "execution_count": 8,
   "metadata": {},
   "outputs": [
    {
     "data": {
      "text/html": [
       "\n",
       "      <iframe id=\"tensorboard-frame-8d9e84286591e1f3\" width=\"100%\" height=\"800\" frameborder=\"0\">\n",
       "      </iframe>\n",
       "      <script>\n",
       "        (function() {\n",
       "          const frame = document.getElementById(\"tensorboard-frame-8d9e84286591e1f3\");\n",
       "          const url = new URL(\"/\", window.location);\n",
       "          const port = 6007;\n",
       "          if (port) {\n",
       "            url.port = port;\n",
       "          }\n",
       "          frame.src = url;\n",
       "        })();\n",
       "      </script>\n",
       "    "
      ],
      "text/plain": [
       "<IPython.core.display.HTML object>"
      ]
     },
     "metadata": {},
     "output_type": "display_data"
    },
    {
     "name": "stderr",
     "output_type": "stream",
     "text": [
      "2021-09-30 10:43:53,026 fedbiomed INFO - message received:{'researcher_id': 'researcher_46a0da2b-2e99-4316-b964-b467d343432b', 'success': True, 'databases': [{'name': 'MNIST', 'data_type': 'default', 'tags': ['#MNIST', '#dataset'], 'description': 'MNIST database', 'shape': [60000, 1, 28, 28], 'dataset_id': 'dataset_da9a5db6-9dda-475e-b920-43f8d1f54377'}], 'count': 1, 'client_id': 'client_b1afd615-e4d4-489f-9ded-bd8db8ff2137', 'command': 'search'}\n",
      "2021-09-30 10:43:53,028 fedbiomed INFO - message received:{'researcher_id': 'researcher_46a0da2b-2e99-4316-b964-b467d343432b', 'success': True, 'databases': [{'name': 'MNIST', 'data_type': 'default', 'tags': ['#MNIST', '#dataset'], 'description': 'MNIST database', 'shape': [60000, 1, 28, 28], 'dataset_id': 'dataset_655ec19c-3a4c-4b23-9e39-c91deba0a3e3'}], 'count': 1, 'client_id': 'client_2a34fb5d-7c54-469f-b034-51062b388dc1', 'command': 'search'}\n",
      "2021-09-30 10:45:09,783 fedbiomed INFO - message received:{'researcher_id': 'researcher_46a0da2b-2e99-4316-b964-b467d343432b', 'success': True, 'databases': [{'name': 'MNIST', 'data_type': 'default', 'tags': ['#MNIST', '#dataset'], 'description': 'MNIST database', 'shape': [60000, 1, 28, 28], 'dataset_id': 'dataset_da9a5db6-9dda-475e-b920-43f8d1f54377'}], 'count': 1, 'client_id': 'client_b1afd615-e4d4-489f-9ded-bd8db8ff2137', 'command': 'search'}\n",
      "2021-09-30 10:45:09,785 fedbiomed INFO - message received:{'researcher_id': 'researcher_46a0da2b-2e99-4316-b964-b467d343432b', 'success': True, 'databases': [{'name': 'MNIST', 'data_type': 'default', 'tags': ['#MNIST', '#dataset'], 'description': 'MNIST database', 'shape': [60000, 1, 28, 28], 'dataset_id': 'dataset_655ec19c-3a4c-4b23-9e39-c91deba0a3e3'}], 'count': 1, 'client_id': 'client_2a34fb5d-7c54-469f-b034-51062b388dc1', 'command': 'search'}\n",
      "2021-09-30 10:48:52,934 fedbiomed INFO - message received:{'researcher_id': 'researcher_46a0da2b-2e99-4316-b964-b467d343432b', 'success': True, 'databases': [{'name': 'MNIST', 'data_type': 'default', 'tags': ['#MNIST', '#dataset'], 'description': 'MNIST database', 'shape': [60000, 1, 28, 28], 'dataset_id': 'dataset_da9a5db6-9dda-475e-b920-43f8d1f54377'}], 'count': 1, 'client_id': 'client_b1afd615-e4d4-489f-9ded-bd8db8ff2137', 'command': 'search'}\n",
      "2021-09-30 10:48:52,939 fedbiomed INFO - message received:{'researcher_id': 'researcher_46a0da2b-2e99-4316-b964-b467d343432b', 'success': True, 'databases': [{'name': 'MNIST', 'data_type': 'default', 'tags': ['#MNIST', '#dataset'], 'description': 'MNIST database', 'shape': [60000, 1, 28, 28], 'dataset_id': 'dataset_655ec19c-3a4c-4b23-9e39-c91deba0a3e3'}], 'count': 1, 'client_id': 'client_2a34fb5d-7c54-469f-b034-51062b388dc1', 'command': 'search'}\n",
      "2021-09-30 10:49:22,069 fedbiomed INFO - message received:{'researcher_id': 'researcher_46a0da2b-2e99-4316-b964-b467d343432b', 'success': True, 'databases': [{'name': 'MNIST', 'data_type': 'default', 'tags': ['#MNIST', '#dataset'], 'description': 'MNIST database', 'shape': [60000, 1, 28, 28], 'dataset_id': 'dataset_da9a5db6-9dda-475e-b920-43f8d1f54377'}], 'count': 1, 'client_id': 'client_b1afd615-e4d4-489f-9ded-bd8db8ff2137', 'command': 'search'}\n",
      "2021-09-30 10:49:22,071 fedbiomed INFO - message received:{'researcher_id': 'researcher_46a0da2b-2e99-4316-b964-b467d343432b', 'success': True, 'databases': [{'name': 'MNIST', 'data_type': 'default', 'tags': ['#MNIST', '#dataset'], 'description': 'MNIST database', 'shape': [60000, 1, 28, 28], 'dataset_id': 'dataset_655ec19c-3a4c-4b23-9e39-c91deba0a3e3'}], 'count': 1, 'client_id': 'client_2a34fb5d-7c54-469f-b034-51062b388dc1', 'command': 'search'}\n",
      "2021-09-30 10:50:12,495 fedbiomed INFO - message received:{'researcher_id': 'researcher_46a0da2b-2e99-4316-b964-b467d343432b', 'success': True, 'databases': [{'name': 'MNIST', 'data_type': 'default', 'tags': ['#MNIST', '#dataset'], 'description': 'MNIST database', 'shape': [60000, 1, 28, 28], 'dataset_id': 'dataset_da9a5db6-9dda-475e-b920-43f8d1f54377'}], 'count': 1, 'client_id': 'client_b1afd615-e4d4-489f-9ded-bd8db8ff2137', 'command': 'search'}\n",
      "2021-09-30 10:50:12,497 fedbiomed INFO - message received:{'researcher_id': 'researcher_46a0da2b-2e99-4316-b964-b467d343432b', 'success': True, 'databases': [{'name': 'MNIST', 'data_type': 'default', 'tags': ['#MNIST', '#dataset'], 'description': 'MNIST database', 'shape': [60000, 1, 28, 28], 'dataset_id': 'dataset_655ec19c-3a4c-4b23-9e39-c91deba0a3e3'}], 'count': 1, 'client_id': 'client_2a34fb5d-7c54-469f-b034-51062b388dc1', 'command': 'search'}\n",
      "2021-09-30 10:50:23,103 fedbiomed INFO - Round: 0 Node: client_2a34fb5d-7c54-469f-b034-51062b388dc1 - Train Epoch: 1 [0/60000]\tLoss: 2.307819\n",
      "2021-09-30 10:50:23,117 fedbiomed INFO - Round: 0 Node: client_b1afd615-e4d4-489f-9ded-bd8db8ff2137 - Train Epoch: 1 [0/60000]\tLoss: 2.289998\n",
      "2021-09-30 10:50:25,402 fedbiomed INFO - Round: 0 Node: client_b1afd615-e4d4-489f-9ded-bd8db8ff2137 - Train Epoch: 1 [480/60000]\tLoss: 1.116576\n",
      "2021-09-30 10:50:25,488 fedbiomed INFO - Round: 0 Node: client_2a34fb5d-7c54-469f-b034-51062b388dc1 - Train Epoch: 1 [480/60000]\tLoss: 1.306974\n",
      "2021-09-30 10:50:26,295 fedbiomed INFO - Round: 0 Node: client_2a34fb5d-7c54-469f-b034-51062b388dc1 - Train Epoch: 1 [960/60000]\tLoss: 1.001987\n",
      "2021-09-30 10:50:26,478 fedbiomed INFO - Round: 0 Node: client_b1afd615-e4d4-489f-9ded-bd8db8ff2137 - Train Epoch: 1 [960/60000]\tLoss: 0.846381\n",
      "2021-09-30 10:50:27,064 fedbiomed INFO - Round: 0 Node: client_2a34fb5d-7c54-469f-b034-51062b388dc1 - Train Epoch: 1 [1440/60000]\tLoss: 0.593195\n",
      "2021-09-30 10:50:27,357 fedbiomed INFO - Round: 0 Node: client_b1afd615-e4d4-489f-9ded-bd8db8ff2137 - Train Epoch: 1 [1440/60000]\tLoss: 0.546186\n",
      "2021-09-30 10:50:27,940 fedbiomed INFO - Round: 0 Node: client_2a34fb5d-7c54-469f-b034-51062b388dc1 - Train Epoch: 1 [1920/60000]\tLoss: 0.620518\n",
      "2021-09-30 10:50:28,480 fedbiomed INFO - Round: 0 Node: client_b1afd615-e4d4-489f-9ded-bd8db8ff2137 - Train Epoch: 1 [1920/60000]\tLoss: 0.645786\n",
      "2021-09-30 10:50:29,178 fedbiomed INFO - Round: 0 Node: client_2a34fb5d-7c54-469f-b034-51062b388dc1 - Train Epoch: 1 [2400/60000]\tLoss: 0.392745\n",
      "2021-09-30 10:50:29,683 fedbiomed INFO - Round: 0 Node: client_b1afd615-e4d4-489f-9ded-bd8db8ff2137 - Train Epoch: 1 [2400/60000]\tLoss: 0.415117\n",
      "2021-09-30 10:50:30,503 fedbiomed INFO - Round: 0 Node: client_2a34fb5d-7c54-469f-b034-51062b388dc1 - Train Epoch: 1 [2880/60000]\tLoss: 0.441611\n",
      "2021-09-30 10:50:30,734 fedbiomed INFO - Round: 0 Node: client_b1afd615-e4d4-489f-9ded-bd8db8ff2137 - Train Epoch: 1 [2880/60000]\tLoss: 0.452330\n",
      "2021-09-30 10:50:31,346 fedbiomed INFO - Round: 0 Node: client_2a34fb5d-7c54-469f-b034-51062b388dc1 - Train Epoch: 1 [3360/60000]\tLoss: 0.339577\n",
      "2021-09-30 10:50:31,560 fedbiomed INFO - Round: 0 Node: client_b1afd615-e4d4-489f-9ded-bd8db8ff2137 - Train Epoch: 1 [3360/60000]\tLoss: 0.277271\n",
      "2021-09-30 10:50:32,241 fedbiomed INFO - Round: 0 Node: client_2a34fb5d-7c54-469f-b034-51062b388dc1 - Train Epoch: 1 [3840/60000]\tLoss: 0.474413\n",
      "2021-09-30 10:50:32,488 fedbiomed INFO - Round: 0 Node: client_b1afd615-e4d4-489f-9ded-bd8db8ff2137 - Train Epoch: 1 [3840/60000]\tLoss: 0.347999\n",
      "2021-09-30 10:50:33,045 fedbiomed INFO - Round: 0 Node: client_2a34fb5d-7c54-469f-b034-51062b388dc1 - Train Epoch: 1 [4320/60000]\tLoss: 0.162267\n",
      "2021-09-30 10:50:33,696 fedbiomed INFO - Round: 0 Node: client_b1afd615-e4d4-489f-9ded-bd8db8ff2137 - Train Epoch: 1 [4320/60000]\tLoss: 0.400241\n",
      "2021-09-30 10:50:34,085 fedbiomed INFO - Round: 0 Node: client_2a34fb5d-7c54-469f-b034-51062b388dc1 - Train Epoch: 2 [0/60000]\tLoss: 0.385176\n",
      "2021-09-30 10:50:34,668 fedbiomed INFO - Round: 0 Node: client_b1afd615-e4d4-489f-9ded-bd8db8ff2137 - Train Epoch: 2 [0/60000]\tLoss: 0.530545\n",
      "2021-09-30 10:50:34,842 fedbiomed INFO - Round: 0 Node: client_2a34fb5d-7c54-469f-b034-51062b388dc1 - Train Epoch: 2 [480/60000]\tLoss: 0.466482\n",
      "2021-09-30 10:50:35,510 fedbiomed INFO - Round: 0 Node: client_b1afd615-e4d4-489f-9ded-bd8db8ff2137 - Train Epoch: 2 [480/60000]\tLoss: 0.365553\n",
      "2021-09-30 10:50:35,688 fedbiomed INFO - Round: 0 Node: client_2a34fb5d-7c54-469f-b034-51062b388dc1 - Train Epoch: 2 [960/60000]\tLoss: 0.214636\n",
      "2021-09-30 10:50:36,353 fedbiomed INFO - Round: 0 Node: client_b1afd615-e4d4-489f-9ded-bd8db8ff2137 - Train Epoch: 2 [960/60000]\tLoss: 0.315566\n"
     ]
    },
    {
     "name": "stderr",
     "output_type": "stream",
     "text": [
      "2021-09-30 10:50:36,528 fedbiomed INFO - Round: 0 Node: client_2a34fb5d-7c54-469f-b034-51062b388dc1 - Train Epoch: 2 [1440/60000]\tLoss: 0.255010\n",
      "2021-09-30 10:50:37,112 fedbiomed INFO - Round: 0 Node: client_b1afd615-e4d4-489f-9ded-bd8db8ff2137 - Train Epoch: 2 [1440/60000]\tLoss: 0.090004\n",
      "2021-09-30 10:50:37,433 fedbiomed INFO - Round: 0 Node: client_2a34fb5d-7c54-469f-b034-51062b388dc1 - Train Epoch: 2 [1920/60000]\tLoss: 0.077580\n",
      "2021-09-30 10:50:38,014 fedbiomed INFO - Round: 0 Node: client_b1afd615-e4d4-489f-9ded-bd8db8ff2137 - Train Epoch: 2 [1920/60000]\tLoss: 0.263381\n",
      "2021-09-30 10:50:38,209 fedbiomed INFO - Round: 0 Node: client_2a34fb5d-7c54-469f-b034-51062b388dc1 - Train Epoch: 2 [2400/60000]\tLoss: 0.162341\n",
      "2021-09-30 10:50:38,835 fedbiomed INFO - Round: 0 Node: client_b1afd615-e4d4-489f-9ded-bd8db8ff2137 - Train Epoch: 2 [2400/60000]\tLoss: 0.138241\n",
      "2021-09-30 10:50:39,013 fedbiomed INFO - Round: 0 Node: client_2a34fb5d-7c54-469f-b034-51062b388dc1 - Train Epoch: 2 [2880/60000]\tLoss: 0.077794\n",
      "2021-09-30 10:50:39,642 fedbiomed INFO - Round: 0 Node: client_b1afd615-e4d4-489f-9ded-bd8db8ff2137 - Train Epoch: 2 [2880/60000]\tLoss: 0.536382\n",
      "2021-09-30 10:50:39,767 fedbiomed INFO - Round: 0 Node: client_2a34fb5d-7c54-469f-b034-51062b388dc1 - Train Epoch: 2 [3360/60000]\tLoss: 0.281558\n",
      "2021-09-30 10:50:40,431 fedbiomed INFO - Round: 0 Node: client_b1afd615-e4d4-489f-9ded-bd8db8ff2137 - Train Epoch: 2 [3360/60000]\tLoss: 0.199180\n",
      "2021-09-30 10:50:40,518 fedbiomed INFO - Round: 0 Node: client_2a34fb5d-7c54-469f-b034-51062b388dc1 - Train Epoch: 2 [3840/60000]\tLoss: 0.272499\n",
      "2021-09-30 10:50:41,232 fedbiomed INFO - Round: 0 Node: client_b1afd615-e4d4-489f-9ded-bd8db8ff2137 - Train Epoch: 2 [3840/60000]\tLoss: 0.084792\n",
      "2021-09-30 10:50:41,313 fedbiomed INFO - Round: 0 Node: client_2a34fb5d-7c54-469f-b034-51062b388dc1 - Train Epoch: 2 [4320/60000]\tLoss: 0.174830\n",
      "2021-09-30 10:50:42,052 fedbiomed INFO - Round: 0 Node: client_b1afd615-e4d4-489f-9ded-bd8db8ff2137 - Train Epoch: 2 [4320/60000]\tLoss: 0.315154\n",
      "2021-09-30 10:50:42,245 fedbiomed INFO - Round: 0 Node: client_2a34fb5d-7c54-469f-b034-51062b388dc1 - Train Epoch: 3 [0/60000]\tLoss: 0.170263\n",
      "2021-09-30 10:50:42,983 fedbiomed INFO - Round: 0 Node: client_b1afd615-e4d4-489f-9ded-bd8db8ff2137 - Train Epoch: 3 [0/60000]\tLoss: 0.125357\n",
      "2021-09-30 10:50:43,084 fedbiomed INFO - Round: 0 Node: client_2a34fb5d-7c54-469f-b034-51062b388dc1 - Train Epoch: 3 [480/60000]\tLoss: 0.350956\n",
      "2021-09-30 10:50:43,903 fedbiomed INFO - Round: 0 Node: client_b1afd615-e4d4-489f-9ded-bd8db8ff2137 - Train Epoch: 3 [480/60000]\tLoss: 0.249022\n",
      "2021-09-30 10:50:43,939 fedbiomed INFO - Round: 0 Node: client_2a34fb5d-7c54-469f-b034-51062b388dc1 - Train Epoch: 3 [960/60000]\tLoss: 0.154838\n",
      "2021-09-30 10:50:44,696 fedbiomed INFO - Round: 0 Node: client_2a34fb5d-7c54-469f-b034-51062b388dc1 - Train Epoch: 3 [1440/60000]\tLoss: 0.092497\n",
      "2021-09-30 10:50:44,708 fedbiomed INFO - Round: 0 Node: client_b1afd615-e4d4-489f-9ded-bd8db8ff2137 - Train Epoch: 3 [960/60000]\tLoss: 0.161827\n",
      "2021-09-30 10:50:45,478 fedbiomed INFO - Round: 0 Node: client_2a34fb5d-7c54-469f-b034-51062b388dc1 - Train Epoch: 3 [1920/60000]\tLoss: 0.226025\n",
      "2021-09-30 10:50:45,617 fedbiomed INFO - Round: 0 Node: client_b1afd615-e4d4-489f-9ded-bd8db8ff2137 - Train Epoch: 3 [1440/60000]\tLoss: 0.118001\n",
      "2021-09-30 10:50:46,258 fedbiomed INFO - Round: 0 Node: client_2a34fb5d-7c54-469f-b034-51062b388dc1 - Train Epoch: 3 [2400/60000]\tLoss: 0.356757\n",
      "2021-09-30 10:50:46,465 fedbiomed INFO - Round: 0 Node: client_b1afd615-e4d4-489f-9ded-bd8db8ff2137 - Train Epoch: 3 [1920/60000]\tLoss: 0.268958\n",
      "2021-09-30 10:50:47,033 fedbiomed INFO - Round: 0 Node: client_2a34fb5d-7c54-469f-b034-51062b388dc1 - Train Epoch: 3 [2880/60000]\tLoss: 0.159001\n",
      "2021-09-30 10:50:47,345 fedbiomed INFO - Round: 0 Node: client_b1afd615-e4d4-489f-9ded-bd8db8ff2137 - Train Epoch: 3 [2400/60000]\tLoss: 0.180435\n",
      "2021-09-30 10:50:47,823 fedbiomed INFO - Round: 0 Node: client_2a34fb5d-7c54-469f-b034-51062b388dc1 - Train Epoch: 3 [3360/60000]\tLoss: 0.202048\n",
      "2021-09-30 10:50:48,160 fedbiomed INFO - Round: 0 Node: client_b1afd615-e4d4-489f-9ded-bd8db8ff2137 - Train Epoch: 3 [2880/60000]\tLoss: 0.073510\n",
      "2021-09-30 10:50:48,579 fedbiomed INFO - Round: 0 Node: client_2a34fb5d-7c54-469f-b034-51062b388dc1 - Train Epoch: 3 [3840/60000]\tLoss: 0.101385\n",
      "2021-09-30 10:50:49,216 fedbiomed INFO - Round: 0 Node: client_b1afd615-e4d4-489f-9ded-bd8db8ff2137 - Train Epoch: 3 [3360/60000]\tLoss: 0.333819\n",
      "2021-09-30 10:50:49,483 fedbiomed INFO - Round: 0 Node: client_2a34fb5d-7c54-469f-b034-51062b388dc1 - Train Epoch: 3 [4320/60000]\tLoss: 0.139564\n",
      "2021-09-30 10:50:50,025 fedbiomed INFO - Round: 0 Node: client_b1afd615-e4d4-489f-9ded-bd8db8ff2137 - Train Epoch: 3 [3840/60000]\tLoss: 0.047627\n",
      "2021-09-30 10:50:50,551 fedbiomed INFO - message received:{'researcher_id': 'researcher_46a0da2b-2e99-4316-b964-b467d343432b', 'job_id': '4e6b7e4a-c483-4329-b524-6d2611170a11', 'success': True, 'client_id': 'client_2a34fb5d-7c54-469f-b034-51062b388dc1', 'dataset_id': 'dataset_655ec19c-3a4c-4b23-9e39-c91deba0a3e3', 'params_url': 'http://localhost:8844/media/uploads/2021/09/30/node_params_11070a74-3d50-45fc-bced-443d15f77519.pt', 'timing': {'rtime_training': 27.472937533981167, 'ptime_training': 100.0314685049998}, 'msg': '', 'command': 'train'}\n",
      "2021-09-30 10:50:50,741 fedbiomed INFO - Round: 0 Node: client_b1afd615-e4d4-489f-9ded-bd8db8ff2137 - Train Epoch: 3 [4320/60000]\tLoss: 0.147233\n",
      "2021-09-30 10:50:51,551 fedbiomed INFO - message received:{'researcher_id': 'researcher_46a0da2b-2e99-4316-b964-b467d343432b', 'job_id': '4e6b7e4a-c483-4329-b524-6d2611170a11', 'success': True, 'client_id': 'client_b1afd615-e4d4-489f-9ded-bd8db8ff2137', 'dataset_id': 'dataset_da9a5db6-9dda-475e-b920-43f8d1f54377', 'params_url': 'http://localhost:8844/media/uploads/2021/09/30/node_params_9667a679-414a-4802-88c7-b68d19452318.pt', 'timing': {'rtime_training': 28.49751977203414, 'ptime_training': 102.56972761299994}, 'msg': '', 'command': 'train'}\n",
      "2021-09-30 10:51:00,892 fedbiomed INFO - message received:{'researcher_id': 'researcher_46a0da2b-2e99-4316-b964-b467d343432b', 'success': True, 'databases': [{'name': 'MNIST', 'data_type': 'default', 'tags': ['#MNIST', '#dataset'], 'description': 'MNIST database', 'shape': [60000, 1, 28, 28], 'dataset_id': 'dataset_da9a5db6-9dda-475e-b920-43f8d1f54377'}], 'count': 1, 'client_id': 'client_b1afd615-e4d4-489f-9ded-bd8db8ff2137', 'command': 'search'}\n",
      "2021-09-30 10:51:00,893 fedbiomed INFO - message received:{'researcher_id': 'researcher_46a0da2b-2e99-4316-b964-b467d343432b', 'success': True, 'databases': [{'name': 'MNIST', 'data_type': 'default', 'tags': ['#MNIST', '#dataset'], 'description': 'MNIST database', 'shape': [60000, 1, 28, 28], 'dataset_id': 'dataset_655ec19c-3a4c-4b23-9e39-c91deba0a3e3'}], 'count': 1, 'client_id': 'client_2a34fb5d-7c54-469f-b034-51062b388dc1', 'command': 'search'}\n",
      "2021-09-30 10:51:11,332 fedbiomed INFO - Round: 0 Node: client_2a34fb5d-7c54-469f-b034-51062b388dc1 - Train Epoch: 1 [0/60000]\tLoss: 2.324523\n",
      "Exception in thread Thread-12:\n",
      "Traceback (most recent call last):\n",
      "  File \"/user/scansiz/home/anaconda3/envs/fedbiomed-researcher/lib/python3.9/threading.py\", line 973, in _bootstrap_inner\n",
      "    self.run()\n",
      "  File \"/user/scansiz/home/anaconda3/envs/fedbiomed-researcher/lib/python3.9/site-packages/tensorboard/summary/writer/event_file_writer.py\", line 233, in run\n",
      "    self._record_writer.write(data)\n",
      "  File \"/user/scansiz/home/anaconda3/envs/fedbiomed-researcher/lib/python3.9/site-packages/tensorboard/summary/writer/record_writer.py\", line 40, in write\n",
      "    self._writer.write(header + header_crc + data + footer_crc)\n",
      "  File \"/user/scansiz/home/anaconda3/envs/fedbiomed-researcher/lib/python3.9/site-packages/tensorboard/compat/tensorflow_stub/io/gfile.py\", line 519, in write\n",
      "    self.fs.append(self.filename, file_content, self.binary_mode)\n",
      "  File \"/user/scansiz/home/anaconda3/envs/fedbiomed-researcher/lib/python3.9/site-packages/tensorboard/compat/tensorflow_stub/io/gfile.py\", line 150, in append\n",
      "    self._write(filename, file_content, \"ab\" if binary_mode else \"a\")\n",
      "  File \"/user/scansiz/home/anaconda3/envs/fedbiomed-researcher/lib/python3.9/site-packages/tensorboard/compat/tensorflow_stub/io/gfile.py\", line 154, in _write\n",
      "    with io.open(filename, mode, encoding=encoding) as f:\n",
      "FileNotFoundError: [Errno 2] No such file or directory: b'/user/scansiz/home/Desktop/Inria/dev/fedbiomed/var/tmp/tensorboard/Round-1/events.out.tfevents.1632991823.xoaltecuhtli.570520.2'\n"
     ]
    },
    {
     "name": "stderr",
     "output_type": "stream",
     "text": [
      "2021-09-30 10:51:11,502 fedbiomed INFO - Round: 0 Node: client_b1afd615-e4d4-489f-9ded-bd8db8ff2137 - Train Epoch: 1 [0/60000]\tLoss: 2.319746\n",
      "2021-09-30 10:51:13,403 fedbiomed INFO - Round: 0 Node: client_b1afd615-e4d4-489f-9ded-bd8db8ff2137 - Train Epoch: 1 [480/60000]\tLoss: 1.089135\n",
      "2021-09-30 10:51:14,158 fedbiomed INFO - Round: 0 Node: client_2a34fb5d-7c54-469f-b034-51062b388dc1 - Train Epoch: 1 [480/60000]\tLoss: 1.516865\n",
      "2021-09-30 10:51:15,398 fedbiomed INFO - Round: 0 Node: client_2a34fb5d-7c54-469f-b034-51062b388dc1 - Train Epoch: 1 [960/60000]\tLoss: 0.630912\n",
      "2021-09-30 10:51:15,530 fedbiomed INFO - Round: 0 Node: client_b1afd615-e4d4-489f-9ded-bd8db8ff2137 - Train Epoch: 1 [960/60000]\tLoss: 0.861029\n",
      "2021-09-30 10:51:16,265 fedbiomed INFO - Round: 0 Node: client_2a34fb5d-7c54-469f-b034-51062b388dc1 - Train Epoch: 1 [1440/60000]\tLoss: 0.789396\n",
      "2021-09-30 10:51:16,392 fedbiomed INFO - Round: 0 Node: client_b1afd615-e4d4-489f-9ded-bd8db8ff2137 - Train Epoch: 1 [1440/60000]\tLoss: 0.877912\n",
      "2021-09-30 10:51:17,141 fedbiomed INFO - Round: 0 Node: client_2a34fb5d-7c54-469f-b034-51062b388dc1 - Train Epoch: 1 [1920/60000]\tLoss: 0.606902\n",
      "2021-09-30 10:51:17,516 fedbiomed INFO - Round: 0 Node: client_b1afd615-e4d4-489f-9ded-bd8db8ff2137 - Train Epoch: 1 [1920/60000]\tLoss: 0.726013\n",
      "2021-09-30 10:51:17,947 fedbiomed INFO - Round: 0 Node: client_2a34fb5d-7c54-469f-b034-51062b388dc1 - Train Epoch: 1 [2400/60000]\tLoss: 0.566099\n",
      "2021-09-30 10:51:18,416 fedbiomed INFO - Round: 0 Node: client_b1afd615-e4d4-489f-9ded-bd8db8ff2137 - Train Epoch: 1 [2400/60000]\tLoss: 0.549523\n",
      "2021-09-30 10:51:42,636 fedbiomed INFO - message received:{'researcher_id': 'researcher_46a0da2b-2e99-4316-b964-b467d343432b', 'job_id': '107241c7-0bf7-44e7-bb01-2ab240773412', 'success': True, 'client_id': 'client_b1afd615-e4d4-489f-9ded-bd8db8ff2137', 'dataset_id': 'dataset_da9a5db6-9dda-475e-b920-43f8d1f54377', 'params_url': 'http://localhost:8844/media/uploads/2021/09/30/node_params_3d2aaaca-b48d-462d-a20c-e7f9f6eda6eb.pt', 'timing': {'rtime_training': 31.178490613005124, 'ptime_training': 111.67665297500025}, 'msg': '', 'command': 'train'}\n",
      "2021-09-30 10:51:42,817 fedbiomed INFO - message received:{'researcher_id': 'researcher_46a0da2b-2e99-4316-b964-b467d343432b', 'job_id': '107241c7-0bf7-44e7-bb01-2ab240773412', 'success': True, 'client_id': 'client_2a34fb5d-7c54-469f-b034-51062b388dc1', 'dataset_id': 'dataset_655ec19c-3a4c-4b23-9e39-c91deba0a3e3', 'params_url': 'http://localhost:8844/media/uploads/2021/09/30/node_params_12c2a344-2126-499e-8707-f001b8b08c84.pt', 'timing': {'rtime_training': 31.37335199804511, 'ptime_training': 111.16019679100009}, 'msg': '', 'command': 'train'}\n",
      "2021-09-30 10:52:09,131 fedbiomed INFO - message received:{'researcher_id': 'researcher_46a0da2b-2e99-4316-b964-b467d343432b', 'success': True, 'databases': [{'name': 'MNIST', 'data_type': 'default', 'tags': ['#MNIST', '#dataset'], 'description': 'MNIST database', 'shape': [60000, 1, 28, 28], 'dataset_id': 'dataset_da9a5db6-9dda-475e-b920-43f8d1f54377'}], 'count': 1, 'client_id': 'client_b1afd615-e4d4-489f-9ded-bd8db8ff2137', 'command': 'search'}\n",
      "2021-09-30 10:52:09,135 fedbiomed INFO - message received:{'researcher_id': 'researcher_46a0da2b-2e99-4316-b964-b467d343432b', 'success': True, 'databases': [{'name': 'MNIST', 'data_type': 'default', 'tags': ['#MNIST', '#dataset'], 'description': 'MNIST database', 'shape': [60000, 1, 28, 28], 'dataset_id': 'dataset_655ec19c-3a4c-4b23-9e39-c91deba0a3e3'}], 'count': 1, 'client_id': 'client_2a34fb5d-7c54-469f-b034-51062b388dc1', 'command': 'search'}\n",
      "2021-09-30 10:52:26,601 fedbiomed INFO - message received:{'researcher_id': 'researcher_46a0da2b-2e99-4316-b964-b467d343432b', 'job_id': '107241c7-0bf7-44e7-bb01-2ab240773412', 'success': True, 'client_id': 'client_2a34fb5d-7c54-469f-b034-51062b388dc1', 'dataset_id': 'dataset_655ec19c-3a4c-4b23-9e39-c91deba0a3e3', 'params_url': 'http://localhost:8844/media/uploads/2021/09/30/node_params_b074be13-c710-40f8-ae1e-99e9a216b47f.pt', 'timing': {'rtime_training': 34.84825521300081, 'ptime_training': 120.05051960799983}, 'msg': '', 'command': 'train'}\n",
      "2021-09-30 10:52:29,286 fedbiomed INFO - message received:{'researcher_id': 'researcher_46a0da2b-2e99-4316-b964-b467d343432b', 'job_id': '107241c7-0bf7-44e7-bb01-2ab240773412', 'success': True, 'client_id': 'client_b1afd615-e4d4-489f-9ded-bd8db8ff2137', 'dataset_id': 'dataset_da9a5db6-9dda-475e-b920-43f8d1f54377', 'params_url': 'http://localhost:8844/media/uploads/2021/09/30/node_params_aa85fdb4-5afd-44f2-9916-5d316ca45a16.pt', 'timing': {'rtime_training': 37.2789007659303, 'ptime_training': 125.54464820800013}, 'msg': '', 'command': 'train'}\n",
      "2021-09-30 10:52:59,382 fedbiomed INFO - message received:{'researcher_id': 'researcher_46a0da2b-2e99-4316-b964-b467d343432b', 'job_id': 'd32ed1dc-e438-4b67-bb54-efdb0d89dc3e', 'success': True, 'client_id': 'client_2a34fb5d-7c54-469f-b034-51062b388dc1', 'dataset_id': 'dataset_655ec19c-3a4c-4b23-9e39-c91deba0a3e3', 'params_url': 'http://localhost:8844/media/uploads/2021/09/30/node_params_56cd9132-08c9-4435-9326-1e79709bd875.pt', 'timing': {'rtime_training': 32.40497219795361, 'ptime_training': 115.7699838110002}, 'msg': '', 'command': 'train'}\n",
      "2021-09-30 10:52:59,661 fedbiomed INFO - message received:{'researcher_id': 'researcher_46a0da2b-2e99-4316-b964-b467d343432b', 'job_id': 'd32ed1dc-e438-4b67-bb54-efdb0d89dc3e', 'success': True, 'client_id': 'client_b1afd615-e4d4-489f-9ded-bd8db8ff2137', 'dataset_id': 'dataset_da9a5db6-9dda-475e-b920-43f8d1f54377', 'params_url': 'http://localhost:8844/media/uploads/2021/09/30/node_params_2b5c1486-4a3a-449e-8c52-a720524ab90f.pt', 'timing': {'rtime_training': 30.0914816489676, 'ptime_training': 109.74228879699967}, 'msg': '', 'command': 'train'}\n",
      "2021-09-30 10:53:47,652 fedbiomed INFO - message received:{'researcher_id': 'researcher_46a0da2b-2e99-4316-b964-b467d343432b', 'job_id': 'd32ed1dc-e438-4b67-bb54-efdb0d89dc3e', 'success': True, 'client_id': 'client_2a34fb5d-7c54-469f-b034-51062b388dc1', 'dataset_id': 'dataset_655ec19c-3a4c-4b23-9e39-c91deba0a3e3', 'params_url': 'http://localhost:8844/media/uploads/2021/09/30/node_params_c4f6af42-9f93-42dd-9be8-e703a69ef16b.pt', 'timing': {'rtime_training': 37.42501731798984, 'ptime_training': 125.71816686400007}, 'msg': '', 'command': 'train'}\n",
      "2021-09-30 10:53:48,617 fedbiomed INFO - message received:{'researcher_id': 'researcher_46a0da2b-2e99-4316-b964-b467d343432b', 'job_id': 'd32ed1dc-e438-4b67-bb54-efdb0d89dc3e', 'success': True, 'client_id': 'client_b1afd615-e4d4-489f-9ded-bd8db8ff2137', 'dataset_id': 'dataset_da9a5db6-9dda-475e-b920-43f8d1f54377', 'params_url': 'http://localhost:8844/media/uploads/2021/09/30/node_params_2e658fa7-1587-4d31-9357-67c685ff9dfb.pt', 'timing': {'rtime_training': 38.48675727797672, 'ptime_training': 129.46981202400002}, 'msg': '', 'command': 'train'}\n",
      "2021-09-30 10:54:26,742 fedbiomed INFO - message received:{'researcher_id': 'researcher_46a0da2b-2e99-4316-b964-b467d343432b', 'job_id': 'd32ed1dc-e438-4b67-bb54-efdb0d89dc3e', 'success': True, 'client_id': 'client_b1afd615-e4d4-489f-9ded-bd8db8ff2137', 'dataset_id': 'dataset_da9a5db6-9dda-475e-b920-43f8d1f54377', 'params_url': 'http://localhost:8844/media/uploads/2021/09/30/node_params_99639a08-d894-44f5-a59b-bda1794fbc0c.pt', 'timing': {'rtime_training': 31.223562808940187, 'ptime_training': 112.38072970200028}, 'msg': '', 'command': 'train'}\n",
      "2021-09-30 10:54:27,779 fedbiomed INFO - message received:{'researcher_id': 'researcher_46a0da2b-2e99-4316-b964-b467d343432b', 'job_id': 'd32ed1dc-e438-4b67-bb54-efdb0d89dc3e', 'success': True, 'client_id': 'client_2a34fb5d-7c54-469f-b034-51062b388dc1', 'dataset_id': 'dataset_655ec19c-3a4c-4b23-9e39-c91deba0a3e3', 'params_url': 'http://localhost:8844/media/uploads/2021/09/30/node_params_f9ce8401-6da0-4e33-904a-6d060d3d6d5b.pt', 'timing': {'rtime_training': 32.33520015794784, 'ptime_training': 113.48467082799971}, 'msg': '', 'command': 'train'}\n",
      "2021-09-30 10:55:26,856 fedbiomed INFO - message received:{'researcher_id': 'researcher_46a0da2b-2e99-4316-b964-b467d343432b', 'success': True, 'databases': [{'name': 'MNIST', 'data_type': 'default', 'tags': ['#MNIST', '#dataset'], 'description': 'MNIST database', 'shape': [60000, 1, 28, 28], 'dataset_id': 'dataset_da9a5db6-9dda-475e-b920-43f8d1f54377'}], 'count': 1, 'client_id': 'client_b1afd615-e4d4-489f-9ded-bd8db8ff2137', 'command': 'search'}\n"
     ]
    },
    {
     "name": "stderr",
     "output_type": "stream",
     "text": [
      "2021-09-30 10:55:26,858 fedbiomed INFO - message received:{'researcher_id': 'researcher_46a0da2b-2e99-4316-b964-b467d343432b', 'success': True, 'databases': [{'name': 'MNIST', 'data_type': 'default', 'tags': ['#MNIST', '#dataset'], 'description': 'MNIST database', 'shape': [60000, 1, 28, 28], 'dataset_id': 'dataset_655ec19c-3a4c-4b23-9e39-c91deba0a3e3'}], 'count': 1, 'client_id': 'client_2a34fb5d-7c54-469f-b034-51062b388dc1', 'command': 'search'}\n",
      "2021-09-30 10:56:03,077 fedbiomed INFO - message received:{'researcher_id': 'researcher_46a0da2b-2e99-4316-b964-b467d343432b', 'job_id': '778279c2-1740-4a54-bad5-e96ae8e5c977', 'success': True, 'client_id': 'client_2a34fb5d-7c54-469f-b034-51062b388dc1', 'dataset_id': 'dataset_655ec19c-3a4c-4b23-9e39-c91deba0a3e3', 'params_url': 'http://localhost:8844/media/uploads/2021/09/30/node_params_c909ea71-65b8-43f9-a676-59b82c83ec5e.pt', 'timing': {'rtime_training': 25.685859377961606, 'ptime_training': 96.03053559100044}, 'msg': '', 'command': 'train'}\n",
      "2021-09-30 10:56:03,535 fedbiomed INFO - message received:{'researcher_id': 'researcher_46a0da2b-2e99-4316-b964-b467d343432b', 'job_id': '778279c2-1740-4a54-bad5-e96ae8e5c977', 'success': True, 'client_id': 'client_b1afd615-e4d4-489f-9ded-bd8db8ff2137', 'dataset_id': 'dataset_da9a5db6-9dda-475e-b920-43f8d1f54377', 'params_url': 'http://localhost:8844/media/uploads/2021/09/30/node_params_011ea9d8-2559-4698-9a41-bf632f407f95.pt', 'timing': {'rtime_training': 26.204037811025046, 'ptime_training': 98.3648085750001}, 'msg': '', 'command': 'train'}\n",
      "2021-09-30 10:57:00,591 fedbiomed INFO - message received:{'researcher_id': 'researcher_46a0da2b-2e99-4316-b964-b467d343432b', 'job_id': '778279c2-1740-4a54-bad5-e96ae8e5c977', 'success': True, 'client_id': 'client_b1afd615-e4d4-489f-9ded-bd8db8ff2137', 'dataset_id': 'dataset_da9a5db6-9dda-475e-b920-43f8d1f54377', 'params_url': 'http://localhost:8844/media/uploads/2021/09/30/node_params_ed42c8bd-c148-4578-affe-6090d7f5ad30.pt', 'timing': {'rtime_training': 47.77062763401773, 'ptime_training': 149.8490852370005}, 'msg': '', 'command': 'train'}\n",
      "2021-09-30 10:57:00,779 fedbiomed INFO - message received:{'researcher_id': 'researcher_46a0da2b-2e99-4316-b964-b467d343432b', 'job_id': '778279c2-1740-4a54-bad5-e96ae8e5c977', 'success': True, 'client_id': 'client_2a34fb5d-7c54-469f-b034-51062b388dc1', 'dataset_id': 'dataset_655ec19c-3a4c-4b23-9e39-c91deba0a3e3', 'params_url': 'http://localhost:8844/media/uploads/2021/09/30/node_params_8cc611f9-0553-4728-88ca-554d9cc76db1.pt', 'timing': {'rtime_training': 48.05619693500921, 'ptime_training': 149.2960335049993}, 'msg': '', 'command': 'train'}\n",
      "2021-09-30 10:57:45,236 fedbiomed INFO - message received:{'researcher_id': 'researcher_46a0da2b-2e99-4316-b964-b467d343432b', 'job_id': '778279c2-1740-4a54-bad5-e96ae8e5c977', 'success': True, 'client_id': 'client_2a34fb5d-7c54-469f-b034-51062b388dc1', 'dataset_id': 'dataset_655ec19c-3a4c-4b23-9e39-c91deba0a3e3', 'params_url': 'http://localhost:8844/media/uploads/2021/09/30/node_params_859737c5-893b-4a0d-a545-8ae5ec240fd5.pt', 'timing': {'rtime_training': 37.057859444990754, 'ptime_training': 123.0031697759996}, 'msg': '', 'command': 'train'}\n",
      "2021-09-30 10:57:48,381 fedbiomed INFO - message received:{'researcher_id': 'researcher_46a0da2b-2e99-4316-b964-b467d343432b', 'job_id': '778279c2-1740-4a54-bad5-e96ae8e5c977', 'success': True, 'client_id': 'client_b1afd615-e4d4-489f-9ded-bd8db8ff2137', 'dataset_id': 'dataset_da9a5db6-9dda-475e-b920-43f8d1f54377', 'params_url': 'http://localhost:8844/media/uploads/2021/09/30/node_params_4521dfcb-53cd-4e00-b335-d78dc559e06e.pt', 'timing': {'rtime_training': 40.25188786594663, 'ptime_training': 131.82718587}, 'msg': '', 'command': 'train'}\n",
      "2021-09-30 10:59:21,743 fedbiomed INFO - message received:{'researcher_id': 'researcher_46a0da2b-2e99-4316-b964-b467d343432b', 'success': True, 'databases': [{'name': 'MNIST', 'data_type': 'default', 'tags': ['#MNIST', '#dataset'], 'description': 'MNIST database', 'shape': [60000, 1, 28, 28], 'dataset_id': 'dataset_da9a5db6-9dda-475e-b920-43f8d1f54377'}], 'count': 1, 'client_id': 'client_b1afd615-e4d4-489f-9ded-bd8db8ff2137', 'command': 'search'}\n",
      "2021-09-30 10:59:21,745 fedbiomed INFO - message received:{'researcher_id': 'researcher_46a0da2b-2e99-4316-b964-b467d343432b', 'success': True, 'databases': [{'name': 'MNIST', 'data_type': 'default', 'tags': ['#MNIST', '#dataset'], 'description': 'MNIST database', 'shape': [60000, 1, 28, 28], 'dataset_id': 'dataset_655ec19c-3a4c-4b23-9e39-c91deba0a3e3'}], 'count': 1, 'client_id': 'client_2a34fb5d-7c54-469f-b034-51062b388dc1', 'command': 'search'}\n",
      "2021-09-30 10:59:58,770 fedbiomed INFO - message received:{'researcher_id': 'researcher_46a0da2b-2e99-4316-b964-b467d343432b', 'job_id': '8bac59a1-6a32-4dcf-8ed2-a29526c3d96f', 'success': True, 'client_id': 'client_2a34fb5d-7c54-469f-b034-51062b388dc1', 'dataset_id': 'dataset_655ec19c-3a4c-4b23-9e39-c91deba0a3e3', 'params_url': 'http://localhost:8844/media/uploads/2021/09/30/node_params_63626bb1-a476-4e09-97ca-30f3cbb86884.pt', 'timing': {'rtime_training': 26.590047286939807, 'ptime_training': 96.93325174999973}, 'msg': '', 'command': 'train'}\n",
      "2021-09-30 10:59:59,080 fedbiomed INFO - message received:{'researcher_id': 'researcher_46a0da2b-2e99-4316-b964-b467d343432b', 'job_id': '8bac59a1-6a32-4dcf-8ed2-a29526c3d96f', 'success': True, 'client_id': 'client_b1afd615-e4d4-489f-9ded-bd8db8ff2137', 'dataset_id': 'dataset_da9a5db6-9dda-475e-b920-43f8d1f54377', 'params_url': 'http://localhost:8844/media/uploads/2021/09/30/node_params_614a9a07-d423-489b-9ba3-155276d59458.pt', 'timing': {'rtime_training': 26.990238327998668, 'ptime_training': 98.43340838099994}, 'msg': '', 'command': 'train'}\n",
      "2021-09-30 11:00:35,166 fedbiomed INFO - message received:{'researcher_id': 'researcher_46a0da2b-2e99-4316-b964-b467d343432b', 'job_id': '8bac59a1-6a32-4dcf-8ed2-a29526c3d96f', 'success': True, 'client_id': 'client_b1afd615-e4d4-489f-9ded-bd8db8ff2137', 'dataset_id': 'dataset_da9a5db6-9dda-475e-b920-43f8d1f54377', 'params_url': 'http://localhost:8844/media/uploads/2021/09/30/node_params_eb9b55e4-7175-4467-9f9b-6fcd40dda0cd.pt', 'timing': {'rtime_training': 27.656793012982234, 'ptime_training': 101.17038268000033}, 'msg': '', 'command': 'train'}\n",
      "2021-09-30 11:00:35,251 fedbiomed INFO - message received:{'researcher_id': 'researcher_46a0da2b-2e99-4316-b964-b467d343432b', 'job_id': '8bac59a1-6a32-4dcf-8ed2-a29526c3d96f', 'success': True, 'client_id': 'client_2a34fb5d-7c54-469f-b034-51062b388dc1', 'dataset_id': 'dataset_655ec19c-3a4c-4b23-9e39-c91deba0a3e3', 'params_url': 'http://localhost:8844/media/uploads/2021/09/30/node_params_154b56a2-43f9-408c-9fd7-2bc475026828.pt', 'timing': {'rtime_training': 27.820569898933172, 'ptime_training': 101.96467735799979}, 'msg': '', 'command': 'train'}\n",
      "2021-09-30 11:01:11,900 fedbiomed INFO - message received:{'researcher_id': 'researcher_46a0da2b-2e99-4316-b964-b467d343432b', 'job_id': '8bac59a1-6a32-4dcf-8ed2-a29526c3d96f', 'success': True, 'client_id': 'client_2a34fb5d-7c54-469f-b034-51062b388dc1', 'dataset_id': 'dataset_655ec19c-3a4c-4b23-9e39-c91deba0a3e3', 'params_url': 'http://localhost:8844/media/uploads/2021/09/30/node_params_b63b2c39-14aa-4ed0-a4f0-ac1bf37042af.pt', 'timing': {'rtime_training': 29.065531207015738, 'ptime_training': 106.13749636299963}, 'msg': '', 'command': 'train'}\n",
      "2021-09-30 11:01:12,171 fedbiomed INFO - message received:{'researcher_id': 'researcher_46a0da2b-2e99-4316-b964-b467d343432b', 'job_id': '8bac59a1-6a32-4dcf-8ed2-a29526c3d96f', 'success': True, 'client_id': 'client_b1afd615-e4d4-489f-9ded-bd8db8ff2137', 'dataset_id': 'dataset_da9a5db6-9dda-475e-b920-43f8d1f54377', 'params_url': 'http://localhost:8844/media/uploads/2021/09/30/node_params_33f94dd7-0c0b-46a2-a479-9fc3d9f864ff.pt', 'timing': {'rtime_training': 29.421080239932053, 'ptime_training': 106.52743716900022}, 'msg': '', 'command': 'train'}\n",
      "2021-09-30 13:37:58,084 fedbiomed INFO - message received:{'researcher_id': 'researcher_46a0da2b-2e99-4316-b964-b467d343432b', 'success': True, 'databases': [{'name': 'MNIST', 'data_type': 'default', 'tags': ['#MNIST', '#dataset'], 'description': 'MNIST database', 'shape': [60000, 1, 28, 28], 'dataset_id': 'dataset_da9a5db6-9dda-475e-b920-43f8d1f54377'}], 'count': 1, 'client_id': 'client_b1afd615-e4d4-489f-9ded-bd8db8ff2137', 'command': 'search'}\n"
     ]
    },
    {
     "name": "stderr",
     "output_type": "stream",
     "text": [
      "2021-09-30 13:37:58,091 fedbiomed INFO - message received:{'researcher_id': 'researcher_46a0da2b-2e99-4316-b964-b467d343432b', 'success': True, 'databases': [{'name': 'MNIST', 'data_type': 'default', 'tags': ['#MNIST', '#dataset'], 'description': 'MNIST database', 'shape': [60000, 1, 28, 28], 'dataset_id': 'dataset_655ec19c-3a4c-4b23-9e39-c91deba0a3e3'}], 'count': 1, 'client_id': 'client_2a34fb5d-7c54-469f-b034-51062b388dc1', 'command': 'search'}\n",
      "2021-09-30 13:38:53,961 fedbiomed INFO - message received:{'researcher_id': 'researcher_46a0da2b-2e99-4316-b964-b467d343432b', 'job_id': 'f660c08c-b703-4c5d-8e14-87fa16eea926', 'success': True, 'client_id': 'client_2a34fb5d-7c54-469f-b034-51062b388dc1', 'dataset_id': 'dataset_655ec19c-3a4c-4b23-9e39-c91deba0a3e3', 'params_url': 'http://localhost:8844/media/uploads/2021/09/30/node_params_8a193149-4966-485b-a794-573fab32b85a.pt', 'timing': {'rtime_training': 45.19463989592623, 'ptime_training': 142.4015328839996}, 'msg': '', 'command': 'train'}\n",
      "2021-09-30 13:38:54,499 fedbiomed INFO - message received:{'researcher_id': 'researcher_46a0da2b-2e99-4316-b964-b467d343432b', 'job_id': 'f660c08c-b703-4c5d-8e14-87fa16eea926', 'success': True, 'client_id': 'client_b1afd615-e4d4-489f-9ded-bd8db8ff2137', 'dataset_id': 'dataset_da9a5db6-9dda-475e-b920-43f8d1f54377', 'params_url': 'http://localhost:8844/media/uploads/2021/09/30/node_params_70ba43b9-74af-4d0f-8782-9588d58b3916.pt', 'timing': {'rtime_training': 45.708304431987926, 'ptime_training': 144.07591034900088}, 'msg': '', 'command': 'train'}\n",
      "2021-09-30 13:39:54,511 fedbiomed INFO - message received:{'researcher_id': 'researcher_46a0da2b-2e99-4316-b964-b467d343432b', 'job_id': 'f660c08c-b703-4c5d-8e14-87fa16eea926', 'success': True, 'client_id': 'client_2a34fb5d-7c54-469f-b034-51062b388dc1', 'dataset_id': 'dataset_655ec19c-3a4c-4b23-9e39-c91deba0a3e3', 'params_url': 'http://localhost:8844/media/uploads/2021/09/30/node_params_bc906187-e1f4-4d8e-b562-9389a25d5b58.pt', 'timing': {'rtime_training': 50.36274787795264, 'ptime_training': 155.6616282039995}, 'msg': '', 'command': 'train'}\n",
      "2021-09-30 13:39:55,469 fedbiomed INFO - message received:{'researcher_id': 'researcher_46a0da2b-2e99-4316-b964-b467d343432b', 'job_id': 'f660c08c-b703-4c5d-8e14-87fa16eea926', 'success': True, 'client_id': 'client_b1afd615-e4d4-489f-9ded-bd8db8ff2137', 'dataset_id': 'dataset_da9a5db6-9dda-475e-b920-43f8d1f54377', 'params_url': 'http://localhost:8844/media/uploads/2021/09/30/node_params_e9d13abe-3eb1-4d89-ab9f-9164620eefb9.pt', 'timing': {'rtime_training': 51.246632104041055, 'ptime_training': 159.07273318399984}, 'msg': '', 'command': 'train'}\n",
      "2021-09-30 13:40:46,156 fedbiomed INFO - message received:{'researcher_id': 'researcher_46a0da2b-2e99-4316-b964-b467d343432b', 'job_id': 'f660c08c-b703-4c5d-8e14-87fa16eea926', 'success': True, 'client_id': 'client_2a34fb5d-7c54-469f-b034-51062b388dc1', 'dataset_id': 'dataset_655ec19c-3a4c-4b23-9e39-c91deba0a3e3', 'params_url': 'http://localhost:8844/media/uploads/2021/09/30/node_params_50ddb5a9-535e-4c40-a6a4-50257cd27cfa.pt', 'timing': {'rtime_training': 41.55287856096402, 'ptime_training': 135.86351254799956}, 'msg': '', 'command': 'train'}\n",
      "2021-09-30 13:40:46,581 fedbiomed INFO - message received:{'researcher_id': 'researcher_46a0da2b-2e99-4316-b964-b467d343432b', 'job_id': 'f660c08c-b703-4c5d-8e14-87fa16eea926', 'success': True, 'client_id': 'client_b1afd615-e4d4-489f-9ded-bd8db8ff2137', 'dataset_id': 'dataset_da9a5db6-9dda-475e-b920-43f8d1f54377', 'params_url': 'http://localhost:8844/media/uploads/2021/09/30/node_params_0d24c6db-8ce9-480d-95cf-73b826abb9ea.pt', 'timing': {'rtime_training': 42.09318560198881, 'ptime_training': 137.52043984800002}, 'msg': '', 'command': 'train'}\n",
      "2021-09-30 13:41:42,883 fedbiomed INFO - message received:{'researcher_id': 'researcher_46a0da2b-2e99-4316-b964-b467d343432b', 'success': True, 'databases': [{'name': 'MNIST', 'data_type': 'default', 'tags': ['#MNIST', '#dataset'], 'description': 'MNIST database', 'shape': [60000, 1, 28, 28], 'dataset_id': 'dataset_da9a5db6-9dda-475e-b920-43f8d1f54377'}], 'count': 1, 'client_id': 'client_b1afd615-e4d4-489f-9ded-bd8db8ff2137', 'command': 'search'}\n",
      "2021-09-30 13:41:42,885 fedbiomed INFO - message received:{'researcher_id': 'researcher_46a0da2b-2e99-4316-b964-b467d343432b', 'success': True, 'databases': [{'name': 'MNIST', 'data_type': 'default', 'tags': ['#MNIST', '#dataset'], 'description': 'MNIST database', 'shape': [60000, 1, 28, 28], 'dataset_id': 'dataset_655ec19c-3a4c-4b23-9e39-c91deba0a3e3'}], 'count': 1, 'client_id': 'client_2a34fb5d-7c54-469f-b034-51062b388dc1', 'command': 'search'}\n",
      "2021-09-30 13:42:31,008 fedbiomed INFO - message received:{'researcher_id': 'researcher_46a0da2b-2e99-4316-b964-b467d343432b', 'job_id': '73fa8b0c-f733-4362-a17c-a1c447c38dc8', 'success': True, 'client_id': 'client_2a34fb5d-7c54-469f-b034-51062b388dc1', 'dataset_id': 'dataset_655ec19c-3a4c-4b23-9e39-c91deba0a3e3', 'params_url': 'http://localhost:8844/media/uploads/2021/09/30/node_params_5129e783-f705-4697-ba53-ba52c0015d87.pt', 'timing': {'rtime_training': 37.43518181797117, 'ptime_training': 124.57133293599964}, 'msg': '', 'command': 'train'}\n",
      "2021-09-30 13:42:31,518 fedbiomed INFO - message received:{'researcher_id': 'researcher_46a0da2b-2e99-4316-b964-b467d343432b', 'job_id': '73fa8b0c-f733-4362-a17c-a1c447c38dc8', 'success': True, 'client_id': 'client_b1afd615-e4d4-489f-9ded-bd8db8ff2137', 'dataset_id': 'dataset_da9a5db6-9dda-475e-b920-43f8d1f54377', 'params_url': 'http://localhost:8844/media/uploads/2021/09/30/node_params_2314fe6f-9a1b-4545-9d56-99cd236a0a80.pt', 'timing': {'rtime_training': 38.02731765899807, 'ptime_training': 125.35576209899955}, 'msg': '', 'command': 'train'}\n",
      "2021-09-30 13:43:20,348 fedbiomed INFO - message received:{'researcher_id': 'researcher_46a0da2b-2e99-4316-b964-b467d343432b', 'job_id': '73fa8b0c-f733-4362-a17c-a1c447c38dc8', 'success': True, 'client_id': 'client_b1afd615-e4d4-489f-9ded-bd8db8ff2137', 'dataset_id': 'dataset_da9a5db6-9dda-475e-b920-43f8d1f54377', 'params_url': 'http://localhost:8844/media/uploads/2021/09/30/node_params_e450507a-fcc8-4b8a-81b0-c1c461224371.pt', 'timing': {'rtime_training': 41.231852392083965, 'ptime_training': 135.12560691599992}, 'msg': '', 'command': 'train'}\n",
      "2021-09-30 13:43:21,050 fedbiomed INFO - message received:{'researcher_id': 'researcher_46a0da2b-2e99-4316-b964-b467d343432b', 'job_id': '73fa8b0c-f733-4362-a17c-a1c447c38dc8', 'success': True, 'client_id': 'client_2a34fb5d-7c54-469f-b034-51062b388dc1', 'dataset_id': 'dataset_655ec19c-3a4c-4b23-9e39-c91deba0a3e3', 'params_url': 'http://localhost:8844/media/uploads/2021/09/30/node_params_396733ef-b104-415b-bf01-efeab9c88eca.pt', 'timing': {'rtime_training': 42.05042912391946, 'ptime_training': 137.82597393800006}, 'msg': '', 'command': 'train'}\n",
      "2021-09-30 13:43:34,725 fedbiomed INFO - message received:{'researcher_id': 'researcher_46a0da2b-2e99-4316-b964-b467d343432b', 'success': True, 'databases': [{'name': 'MNIST', 'data_type': 'default', 'tags': ['#MNIST', '#dataset'], 'description': 'MNIST database', 'shape': [60000, 1, 28, 28], 'dataset_id': 'dataset_da9a5db6-9dda-475e-b920-43f8d1f54377'}], 'count': 1, 'client_id': 'client_b1afd615-e4d4-489f-9ded-bd8db8ff2137', 'command': 'search'}\n",
      "2021-09-30 13:43:34,727 fedbiomed INFO - message received:{'researcher_id': 'researcher_46a0da2b-2e99-4316-b964-b467d343432b', 'success': True, 'databases': [{'name': 'MNIST', 'data_type': 'default', 'tags': ['#MNIST', '#dataset'], 'description': 'MNIST database', 'shape': [60000, 1, 28, 28], 'dataset_id': 'dataset_655ec19c-3a4c-4b23-9e39-c91deba0a3e3'}], 'count': 1, 'client_id': 'client_2a34fb5d-7c54-469f-b034-51062b388dc1', 'command': 'search'}\n",
      "2021-09-30 13:44:07,444 fedbiomed INFO - message received:{'researcher_id': 'researcher_46a0da2b-2e99-4316-b964-b467d343432b', 'job_id': '73fa8b0c-f733-4362-a17c-a1c447c38dc8', 'success': True, 'client_id': 'client_b1afd615-e4d4-489f-9ded-bd8db8ff2137', 'dataset_id': 'dataset_da9a5db6-9dda-475e-b920-43f8d1f54377', 'params_url': 'http://localhost:8844/media/uploads/2021/09/30/node_params_2a1de043-f746-4606-9e44-300613011d74.pt', 'timing': {'rtime_training': 37.84369388106279, 'ptime_training': 125.55461573100001}, 'msg': '', 'command': 'train'}\n"
     ]
    },
    {
     "name": "stderr",
     "output_type": "stream",
     "text": [
      "2021-09-30 13:44:11,444 fedbiomed INFO - message received:{'researcher_id': 'researcher_46a0da2b-2e99-4316-b964-b467d343432b', 'job_id': '73fa8b0c-f733-4362-a17c-a1c447c38dc8', 'success': True, 'client_id': 'client_2a34fb5d-7c54-469f-b034-51062b388dc1', 'dataset_id': 'dataset_655ec19c-3a4c-4b23-9e39-c91deba0a3e3', 'params_url': 'http://localhost:8844/media/uploads/2021/09/30/node_params_9267c53f-e1a5-42c3-bf67-dd37544b7206.pt', 'timing': {'rtime_training': 41.86320511903614, 'ptime_training': 134.356822922}, 'msg': '', 'command': 'train'}\n",
      "2021-09-30 13:44:54,542 fedbiomed INFO - message received:{'researcher_id': 'researcher_46a0da2b-2e99-4316-b964-b467d343432b', 'job_id': '1f170a81-0c59-4010-a5c7-a8db1b75030f', 'success': True, 'client_id': 'client_2a34fb5d-7c54-469f-b034-51062b388dc1', 'dataset_id': 'dataset_655ec19c-3a4c-4b23-9e39-c91deba0a3e3', 'params_url': 'http://localhost:8844/media/uploads/2021/09/30/node_params_2a2a8592-d623-4e22-8c1e-a869ea601692.pt', 'timing': {'rtime_training': 42.60228622099385, 'ptime_training': 137.97481218800021}, 'msg': '', 'command': 'train'}\n",
      "2021-09-30 13:44:55,119 fedbiomed INFO - message received:{'researcher_id': 'researcher_46a0da2b-2e99-4316-b964-b467d343432b', 'job_id': '1f170a81-0c59-4010-a5c7-a8db1b75030f', 'success': True, 'client_id': 'client_b1afd615-e4d4-489f-9ded-bd8db8ff2137', 'dataset_id': 'dataset_da9a5db6-9dda-475e-b920-43f8d1f54377', 'params_url': 'http://localhost:8844/media/uploads/2021/09/30/node_params_e90cd319-a8f9-491d-ab52-48ee251b4f19.pt', 'timing': {'rtime_training': 47.3384681630414, 'ptime_training': 148.68096100300045}, 'msg': '', 'command': 'train'}\n",
      "2021-09-30 13:44:58,822 fedbiomed INFO - message received:{'researcher_id': 'researcher_46a0da2b-2e99-4316-b964-b467d343432b', 'success': True, 'databases': [{'name': 'MNIST', 'data_type': 'default', 'tags': ['#MNIST', '#dataset'], 'description': 'MNIST database', 'shape': [60000, 1, 28, 28], 'dataset_id': 'dataset_da9a5db6-9dda-475e-b920-43f8d1f54377'}], 'count': 1, 'client_id': 'client_b1afd615-e4d4-489f-9ded-bd8db8ff2137', 'command': 'search'}\n",
      "2021-09-30 13:44:58,825 fedbiomed INFO - message received:{'researcher_id': 'researcher_46a0da2b-2e99-4316-b964-b467d343432b', 'success': True, 'databases': [{'name': 'MNIST', 'data_type': 'default', 'tags': ['#MNIST', '#dataset'], 'description': 'MNIST database', 'shape': [60000, 1, 28, 28], 'dataset_id': 'dataset_655ec19c-3a4c-4b23-9e39-c91deba0a3e3'}], 'count': 1, 'client_id': 'client_2a34fb5d-7c54-469f-b034-51062b388dc1', 'command': 'search'}\n",
      "2021-09-30 13:45:56,249 fedbiomed INFO - message received:{'researcher_id': 'researcher_46a0da2b-2e99-4316-b964-b467d343432b', 'job_id': 'a82c8a1b-52b8-4e98-9400-e5c5452ca366', 'success': True, 'client_id': 'client_b1afd615-e4d4-489f-9ded-bd8db8ff2137', 'dataset_id': 'dataset_da9a5db6-9dda-475e-b920-43f8d1f54377', 'params_url': 'http://localhost:8844/media/uploads/2021/09/30/node_params_278548f1-9249-4300-9703-580b3109c3b3.pt', 'timing': {'rtime_training': 46.69913920399267, 'ptime_training': 148.72719868999957}, 'msg': '', 'command': 'train'}\n",
      "2021-09-30 13:45:57,571 fedbiomed INFO - message received:{'researcher_id': 'researcher_46a0da2b-2e99-4316-b964-b467d343432b', 'job_id': 'a82c8a1b-52b8-4e98-9400-e5c5452ca366', 'success': True, 'client_id': 'client_2a34fb5d-7c54-469f-b034-51062b388dc1', 'dataset_id': 'dataset_655ec19c-3a4c-4b23-9e39-c91deba0a3e3', 'params_url': 'http://localhost:8844/media/uploads/2021/09/30/node_params_e00ef8e9-c66c-480b-b26c-1604e4503d61.pt', 'timing': {'rtime_training': 48.12306318094488, 'ptime_training': 149.56505011299942}, 'msg': '', 'command': 'train'}\n",
      "2021-09-30 13:46:27,592 fedbiomed INFO - message received:{'researcher_id': 'researcher_46a0da2b-2e99-4316-b964-b467d343432b', 'success': True, 'databases': [{'name': 'MNIST', 'data_type': 'default', 'tags': ['#MNIST', '#dataset'], 'description': 'MNIST database', 'shape': [60000, 1, 28, 28], 'dataset_id': 'dataset_da9a5db6-9dda-475e-b920-43f8d1f54377'}], 'count': 1, 'client_id': 'client_b1afd615-e4d4-489f-9ded-bd8db8ff2137', 'command': 'search'}\n",
      "2021-09-30 13:46:27,596 fedbiomed INFO - message received:{'researcher_id': 'researcher_46a0da2b-2e99-4316-b964-b467d343432b', 'success': True, 'databases': [{'name': 'MNIST', 'data_type': 'default', 'tags': ['#MNIST', '#dataset'], 'description': 'MNIST database', 'shape': [60000, 1, 28, 28], 'dataset_id': 'dataset_655ec19c-3a4c-4b23-9e39-c91deba0a3e3'}], 'count': 1, 'client_id': 'client_2a34fb5d-7c54-469f-b034-51062b388dc1', 'command': 'search'}\n",
      "2021-09-30 13:47:12,031 fedbiomed INFO - message received:{'researcher_id': 'researcher_46a0da2b-2e99-4316-b964-b467d343432b', 'job_id': '2f6633b0-87ce-4178-b965-b056077dceee', 'success': True, 'client_id': 'client_b1afd615-e4d4-489f-9ded-bd8db8ff2137', 'dataset_id': 'dataset_da9a5db6-9dda-475e-b920-43f8d1f54377', 'params_url': 'http://localhost:8844/media/uploads/2021/09/30/node_params_ad56b737-ec5c-4d24-b0c6-58fb0772e395.pt', 'timing': {'rtime_training': 33.80450319300871, 'ptime_training': 115.39585424599954}, 'msg': '', 'command': 'train'}\n",
      "2021-09-30 13:47:12,154 fedbiomed INFO - message received:{'researcher_id': 'researcher_46a0da2b-2e99-4316-b964-b467d343432b', 'job_id': '2f6633b0-87ce-4178-b965-b056077dceee', 'success': True, 'client_id': 'client_2a34fb5d-7c54-469f-b034-51062b388dc1', 'dataset_id': 'dataset_655ec19c-3a4c-4b23-9e39-c91deba0a3e3', 'params_url': 'http://localhost:8844/media/uploads/2021/09/30/node_params_68303e03-237e-4ea0-983a-74e426fb5dcd.pt', 'timing': {'rtime_training': 34.025376739911735, 'ptime_training': 116.24555177499951}, 'msg': '', 'command': 'train'}\n",
      "2021-09-30 13:47:58,492 fedbiomed INFO - message received:{'researcher_id': 'researcher_46a0da2b-2e99-4316-b964-b467d343432b', 'job_id': '2f6633b0-87ce-4178-b965-b056077dceee', 'success': True, 'client_id': 'client_b1afd615-e4d4-489f-9ded-bd8db8ff2137', 'dataset_id': 'dataset_da9a5db6-9dda-475e-b920-43f8d1f54377', 'params_url': 'http://localhost:8844/media/uploads/2021/09/30/node_params_91311bf2-461a-40ac-b39d-605199a3a809.pt', 'timing': {'rtime_training': 39.92724890401587, 'ptime_training': 134.62175802599995}, 'msg': '', 'command': 'train'}\n",
      "2021-09-30 13:47:58,948 fedbiomed INFO - message received:{'researcher_id': 'researcher_46a0da2b-2e99-4316-b964-b467d343432b', 'job_id': '2f6633b0-87ce-4178-b965-b056077dceee', 'success': True, 'client_id': 'client_2a34fb5d-7c54-469f-b034-51062b388dc1', 'dataset_id': 'dataset_655ec19c-3a4c-4b23-9e39-c91deba0a3e3', 'params_url': 'http://localhost:8844/media/uploads/2021/09/30/node_params_b75c5976-9771-4faa-bd6c-ab55ed4c924e.pt', 'timing': {'rtime_training': 40.426433115964755, 'ptime_training': 134.8225731729999}, 'msg': '', 'command': 'train'}\n",
      "2021-09-30 13:48:42,036 fedbiomed INFO - message received:{'researcher_id': 'researcher_46a0da2b-2e99-4316-b964-b467d343432b', 'job_id': '2f6633b0-87ce-4178-b965-b056077dceee', 'success': True, 'client_id': 'client_2a34fb5d-7c54-469f-b034-51062b388dc1', 'dataset_id': 'dataset_655ec19c-3a4c-4b23-9e39-c91deba0a3e3', 'params_url': 'http://localhost:8844/media/uploads/2021/09/30/node_params_12e96d32-a93d-4351-8214-f3eb5b98787b.pt', 'timing': {'rtime_training': 33.20068774197716, 'ptime_training': 115.86784995499966}, 'msg': '', 'command': 'train'}\n",
      "2021-09-30 13:48:43,101 fedbiomed INFO - message received:{'researcher_id': 'researcher_46a0da2b-2e99-4316-b964-b467d343432b', 'job_id': '2f6633b0-87ce-4178-b965-b056077dceee', 'success': True, 'client_id': 'client_b1afd615-e4d4-489f-9ded-bd8db8ff2137', 'dataset_id': 'dataset_da9a5db6-9dda-475e-b920-43f8d1f54377', 'params_url': 'http://localhost:8844/media/uploads/2021/09/30/node_params_a47d0985-995c-4848-bfc5-cb1f24134dd7.pt', 'timing': {'rtime_training': 34.252821544068865, 'ptime_training': 118.38804717399944}, 'msg': '', 'command': 'train'}\n",
      "2021-09-30 15:40:50,296 fedbiomed INFO - message received:{'researcher_id': 'researcher_46a0da2b-2e99-4316-b964-b467d343432b', 'success': True, 'databases': [{'name': 'MNIST', 'data_type': 'default', 'tags': ['#MNIST', '#dataset'], 'description': 'MNIST database', 'shape': [60000, 1, 28, 28], 'dataset_id': 'dataset_da9a5db6-9dda-475e-b920-43f8d1f54377'}], 'count': 1, 'client_id': 'client_b1afd615-e4d4-489f-9ded-bd8db8ff2137', 'command': 'search'}\n"
     ]
    },
    {
     "name": "stderr",
     "output_type": "stream",
     "text": [
      "2021-09-30 15:40:50,299 fedbiomed INFO - message received:{'researcher_id': 'researcher_46a0da2b-2e99-4316-b964-b467d343432b', 'success': True, 'databases': [{'name': 'MNIST', 'data_type': 'default', 'tags': ['#MNIST', '#dataset'], 'description': 'MNIST database', 'shape': [60000, 1, 28, 28], 'dataset_id': 'dataset_655ec19c-3a4c-4b23-9e39-c91deba0a3e3'}], 'count': 1, 'client_id': 'client_2a34fb5d-7c54-469f-b034-51062b388dc1', 'command': 'search'}\n",
      "2021-09-30 15:41:24,688 fedbiomed INFO - message received:{'researcher_id': 'researcher_46a0da2b-2e99-4316-b964-b467d343432b', 'success': True, 'databases': [{'name': 'MNIST', 'data_type': 'default', 'tags': ['#MNIST', '#dataset'], 'description': 'MNIST database', 'shape': [60000, 1, 28, 28], 'dataset_id': 'dataset_da9a5db6-9dda-475e-b920-43f8d1f54377'}], 'count': 1, 'client_id': 'client_b1afd615-e4d4-489f-9ded-bd8db8ff2137', 'command': 'search'}\n",
      "2021-09-30 15:41:24,697 fedbiomed INFO - message received:{'researcher_id': 'researcher_46a0da2b-2e99-4316-b964-b467d343432b', 'success': True, 'databases': [{'name': 'MNIST', 'data_type': 'default', 'tags': ['#MNIST', '#dataset'], 'description': 'MNIST database', 'shape': [60000, 1, 28, 28], 'dataset_id': 'dataset_655ec19c-3a4c-4b23-9e39-c91deba0a3e3'}], 'count': 1, 'client_id': 'client_2a34fb5d-7c54-469f-b034-51062b388dc1', 'command': 'search'}\n",
      "2021-09-30 15:41:34,623 fedbiomed INFO - message received:{'researcher_id': 'researcher_46a0da2b-2e99-4316-b964-b467d343432b', 'job_id': '94b4e29e-f605-4ec1-abfe-4c39c2b4c845', 'success': True, 'client_id': 'client_2a34fb5d-7c54-469f-b034-51062b388dc1', 'dataset_id': 'dataset_655ec19c-3a4c-4b23-9e39-c91deba0a3e3', 'params_url': 'http://localhost:8844/media/uploads/2021/09/30/node_params_e3caa316-74aa-4b7c-9f1c-369ffe754631.pt', 'timing': {'rtime_training': 33.78149749606382, 'ptime_training': 114.73446781500024}, 'msg': '', 'command': 'train'}\n",
      "2021-09-30 15:41:37,018 fedbiomed INFO - message received:{'researcher_id': 'researcher_46a0da2b-2e99-4316-b964-b467d343432b', 'job_id': '94b4e29e-f605-4ec1-abfe-4c39c2b4c845', 'success': True, 'client_id': 'client_b1afd615-e4d4-489f-9ded-bd8db8ff2137', 'dataset_id': 'dataset_da9a5db6-9dda-475e-b920-43f8d1f54377', 'params_url': 'http://localhost:8844/media/uploads/2021/09/30/node_params_daba821d-4907-46a1-a4d1-4c394b79ae96.pt', 'timing': {'rtime_training': 36.0872741920175, 'ptime_training': 119.99362558899975}, 'msg': '', 'command': 'train'}\n",
      "2021-09-30 15:42:06,696 fedbiomed INFO - message received:{'researcher_id': 'researcher_46a0da2b-2e99-4316-b964-b467d343432b', 'job_id': 'b8468814-ba6a-4e17-8828-4ba00ab1b35f', 'success': True, 'client_id': 'client_2a34fb5d-7c54-469f-b034-51062b388dc1', 'dataset_id': 'dataset_655ec19c-3a4c-4b23-9e39-c91deba0a3e3', 'params_url': 'http://localhost:8844/media/uploads/2021/09/30/node_params_c7e18ac4-eacd-4e13-acb3-03bcf55cdec0.pt', 'timing': {'rtime_training': 31.225801076041535, 'ptime_training': 111.11433396400025}, 'msg': '', 'command': 'train'}\n",
      "2021-09-30 15:42:07,738 fedbiomed INFO - message received:{'researcher_id': 'researcher_46a0da2b-2e99-4316-b964-b467d343432b', 'job_id': 'b8468814-ba6a-4e17-8828-4ba00ab1b35f', 'success': True, 'client_id': 'client_b1afd615-e4d4-489f-9ded-bd8db8ff2137', 'dataset_id': 'dataset_da9a5db6-9dda-475e-b920-43f8d1f54377', 'params_url': 'http://localhost:8844/media/uploads/2021/09/30/node_params_e67b595a-22e2-46d8-af42-c35d6cfdf75a.pt', 'timing': {'rtime_training': 30.390891301911324, 'ptime_training': 109.3938845470002}, 'msg': '', 'command': 'train'}\n",
      "2021-09-30 15:42:43,545 fedbiomed INFO - message received:{'researcher_id': 'researcher_46a0da2b-2e99-4316-b964-b467d343432b', 'job_id': 'b8468814-ba6a-4e17-8828-4ba00ab1b35f', 'success': True, 'client_id': 'client_b1afd615-e4d4-489f-9ded-bd8db8ff2137', 'dataset_id': 'dataset_da9a5db6-9dda-475e-b920-43f8d1f54377', 'params_url': 'http://localhost:8844/media/uploads/2021/09/30/node_params_50bb3647-1dc1-4d39-8105-a269a5668a04.pt', 'timing': {'rtime_training': 27.819204361992888, 'ptime_training': 101.98194679500011}, 'msg': '', 'command': 'train'}\n",
      "2021-09-30 15:42:45,666 fedbiomed INFO - message received:{'researcher_id': 'researcher_46a0da2b-2e99-4316-b964-b467d343432b', 'job_id': 'b8468814-ba6a-4e17-8828-4ba00ab1b35f', 'success': True, 'client_id': 'client_2a34fb5d-7c54-469f-b034-51062b388dc1', 'dataset_id': 'dataset_655ec19c-3a4c-4b23-9e39-c91deba0a3e3', 'params_url': 'http://localhost:8844/media/uploads/2021/09/30/node_params_24c78b30-e670-4ff6-bc16-02ab05fc0ee2.pt', 'timing': {'rtime_training': 30.026709161000326, 'ptime_training': 109.43971857100041}, 'msg': '', 'command': 'train'}\n",
      "2021-09-30 15:43:27,074 fedbiomed INFO - message received:{'researcher_id': 'researcher_46a0da2b-2e99-4316-b964-b467d343432b', 'job_id': 'b8468814-ba6a-4e17-8828-4ba00ab1b35f', 'success': True, 'client_id': 'client_2a34fb5d-7c54-469f-b034-51062b388dc1', 'dataset_id': 'dataset_655ec19c-3a4c-4b23-9e39-c91deba0a3e3', 'params_url': 'http://localhost:8844/media/uploads/2021/09/30/node_params_29aa407e-7450-40cc-8e91-e3ed585979d0.pt', 'timing': {'rtime_training': 31.03160091897007, 'ptime_training': 111.00644111300062}, 'msg': '', 'command': 'train'}\n",
      "2021-09-30 15:43:27,129 fedbiomed INFO - message received:{'researcher_id': 'researcher_46a0da2b-2e99-4316-b964-b467d343432b', 'job_id': 'b8468814-ba6a-4e17-8828-4ba00ab1b35f', 'success': True, 'client_id': 'client_b1afd615-e4d4-489f-9ded-bd8db8ff2137', 'dataset_id': 'dataset_da9a5db6-9dda-475e-b920-43f8d1f54377', 'params_url': 'http://localhost:8844/media/uploads/2021/09/30/node_params_03bcdfca-399e-4ceb-a050-813a0a1a6ef1.pt', 'timing': {'rtime_training': 31.183542805025354, 'ptime_training': 111.4649930100004}, 'msg': '', 'command': 'train'}\n",
      "2021-09-30 15:45:53,663 fedbiomed INFO - message received:{'researcher_id': 'researcher_46a0da2b-2e99-4316-b964-b467d343432b', 'success': True, 'databases': [{'name': 'MNIST', 'data_type': 'default', 'tags': ['#MNIST', '#dataset'], 'description': 'MNIST database', 'shape': [60000, 1, 28, 28], 'dataset_id': 'dataset_da9a5db6-9dda-475e-b920-43f8d1f54377'}], 'count': 1, 'client_id': 'client_b1afd615-e4d4-489f-9ded-bd8db8ff2137', 'command': 'search'}\n",
      "2021-09-30 15:45:53,665 fedbiomed INFO - message received:{'researcher_id': 'researcher_46a0da2b-2e99-4316-b964-b467d343432b', 'success': True, 'databases': [{'name': 'MNIST', 'data_type': 'default', 'tags': ['#MNIST', '#dataset'], 'description': 'MNIST database', 'shape': [60000, 1, 28, 28], 'dataset_id': 'dataset_655ec19c-3a4c-4b23-9e39-c91deba0a3e3'}], 'count': 1, 'client_id': 'client_2a34fb5d-7c54-469f-b034-51062b388dc1', 'command': 'search'}\n",
      "2021-09-30 15:46:32,909 fedbiomed INFO - message received:{'researcher_id': 'researcher_46a0da2b-2e99-4316-b964-b467d343432b', 'job_id': '8473a6c0-7c4b-4b46-8ef8-6eddd0567860', 'success': True, 'client_id': 'client_b1afd615-e4d4-489f-9ded-bd8db8ff2137', 'dataset_id': 'dataset_da9a5db6-9dda-475e-b920-43f8d1f54377', 'params_url': 'http://localhost:8844/media/uploads/2021/09/30/node_params_df9a7f94-6329-4e55-89ce-8a75980bc29a.pt', 'timing': {'rtime_training': 28.686832215986215, 'ptime_training': 101.39642475599976}, 'msg': '', 'command': 'train'}\n",
      "2021-09-30 15:46:33,918 fedbiomed INFO - message received:{'researcher_id': 'researcher_46a0da2b-2e99-4316-b964-b467d343432b', 'job_id': '8473a6c0-7c4b-4b46-8ef8-6eddd0567860', 'success': True, 'client_id': 'client_2a34fb5d-7c54-469f-b034-51062b388dc1', 'dataset_id': 'dataset_655ec19c-3a4c-4b23-9e39-c91deba0a3e3', 'params_url': 'http://localhost:8844/media/uploads/2021/09/30/node_params_9b840613-09fb-4905-b842-595d29f118dc.pt', 'timing': {'rtime_training': 29.739079230930656, 'ptime_training': 104.63524756200059}, 'msg': '', 'command': 'train'}\n",
      "2021-09-30 15:47:07,817 fedbiomed INFO - message received:{'researcher_id': 'researcher_46a0da2b-2e99-4316-b964-b467d343432b', 'job_id': '8473a6c0-7c4b-4b46-8ef8-6eddd0567860', 'success': True, 'client_id': 'client_2a34fb5d-7c54-469f-b034-51062b388dc1', 'dataset_id': 'dataset_655ec19c-3a4c-4b23-9e39-c91deba0a3e3', 'params_url': 'http://localhost:8844/media/uploads/2021/09/30/node_params_f0c7ba5b-bef6-4b07-badb-2b3054d8887a.pt', 'timing': {'rtime_training': 28.259267901070416, 'ptime_training': 103.68428826000036}, 'msg': '', 'command': 'train'}\n"
     ]
    },
    {
     "name": "stderr",
     "output_type": "stream",
     "text": [
      "2021-09-30 15:47:07,982 fedbiomed INFO - message received:{'researcher_id': 'researcher_46a0da2b-2e99-4316-b964-b467d343432b', 'job_id': '8473a6c0-7c4b-4b46-8ef8-6eddd0567860', 'success': True, 'client_id': 'client_b1afd615-e4d4-489f-9ded-bd8db8ff2137', 'dataset_id': 'dataset_da9a5db6-9dda-475e-b920-43f8d1f54377', 'params_url': 'http://localhost:8844/media/uploads/2021/09/30/node_params_509d9977-5b4a-44a6-818a-3dab2922b1f5.pt', 'timing': {'rtime_training': 28.520599263953045, 'ptime_training': 104.34573408200049}, 'msg': '', 'command': 'train'}\n",
      "2021-09-30 15:47:43,783 fedbiomed INFO - message received:{'researcher_id': 'researcher_46a0da2b-2e99-4316-b964-b467d343432b', 'job_id': '8473a6c0-7c4b-4b46-8ef8-6eddd0567860', 'success': True, 'client_id': 'client_2a34fb5d-7c54-469f-b034-51062b388dc1', 'dataset_id': 'dataset_655ec19c-3a4c-4b23-9e39-c91deba0a3e3', 'params_url': 'http://localhost:8844/media/uploads/2021/09/30/node_params_c55f6297-1c23-45e1-9bd5-7bcd3b3261aa.pt', 'timing': {'rtime_training': 28.853308617020957, 'ptime_training': 105.03222273400024}, 'msg': '', 'command': 'train'}\n",
      "2021-09-30 15:47:45,287 fedbiomed INFO - message received:{'researcher_id': 'researcher_46a0da2b-2e99-4316-b964-b467d343432b', 'job_id': '8473a6c0-7c4b-4b46-8ef8-6eddd0567860', 'success': True, 'client_id': 'client_b1afd615-e4d4-489f-9ded-bd8db8ff2137', 'dataset_id': 'dataset_da9a5db6-9dda-475e-b920-43f8d1f54377', 'params_url': 'http://localhost:8844/media/uploads/2021/09/30/node_params_a764e496-1563-4424-984e-279093b4c39b.pt', 'timing': {'rtime_training': 30.293385882978328, 'ptime_training': 108.02628007800013}, 'msg': '', 'command': 'train'}\n",
      "2021-09-30 16:11:51,932 fedbiomed INFO - message received:{'researcher_id': 'researcher_46a0da2b-2e99-4316-b964-b467d343432b', 'success': True, 'databases': [{'name': 'MNIST', 'data_type': 'default', 'tags': ['#MNIST', '#dataset'], 'description': 'MNIST database', 'shape': [60000, 1, 28, 28], 'dataset_id': 'dataset_da9a5db6-9dda-475e-b920-43f8d1f54377'}], 'count': 1, 'client_id': 'client_b1afd615-e4d4-489f-9ded-bd8db8ff2137', 'command': 'search'}\n",
      "2021-09-30 16:11:51,934 fedbiomed INFO - message received:{'researcher_id': 'researcher_46a0da2b-2e99-4316-b964-b467d343432b', 'success': True, 'databases': [{'name': 'MNIST', 'data_type': 'default', 'tags': ['#MNIST', '#dataset'], 'description': 'MNIST database', 'shape': [60000, 1, 28, 28], 'dataset_id': 'dataset_655ec19c-3a4c-4b23-9e39-c91deba0a3e3'}], 'count': 1, 'client_id': 'client_2a34fb5d-7c54-469f-b034-51062b388dc1', 'command': 'search'}\n",
      "2021-09-30 16:12:29,849 fedbiomed INFO - message received:{'researcher_id': 'researcher_46a0da2b-2e99-4316-b964-b467d343432b', 'job_id': 'a7de5596-dc3f-49f9-aaa0-fb3676117fd6', 'success': True, 'client_id': 'client_2a34fb5d-7c54-469f-b034-51062b388dc1', 'dataset_id': 'dataset_655ec19c-3a4c-4b23-9e39-c91deba0a3e3', 'params_url': 'http://localhost:8844/media/uploads/2021/09/30/node_params_78b393b7-8249-4f34-99e7-086b8b4f3aab.pt', 'timing': {'rtime_training': 27.38031859206967, 'ptime_training': 99.19940821399996}, 'msg': '', 'command': 'train'}\n",
      "2021-09-30 16:12:29,986 fedbiomed INFO - message received:{'researcher_id': 'researcher_46a0da2b-2e99-4316-b964-b467d343432b', 'job_id': 'a7de5596-dc3f-49f9-aaa0-fb3676117fd6', 'success': True, 'client_id': 'client_b1afd615-e4d4-489f-9ded-bd8db8ff2137', 'dataset_id': 'dataset_da9a5db6-9dda-475e-b920-43f8d1f54377', 'params_url': 'http://localhost:8844/media/uploads/2021/09/30/node_params_4eb38c5d-67e9-4111-a16b-61172c4a6d71.pt', 'timing': {'rtime_training': 27.596852033981122, 'ptime_training': 99.29275481900004}, 'msg': '', 'command': 'train'}\n",
      "2021-09-30 16:13:05,757 fedbiomed INFO - message received:{'researcher_id': 'researcher_46a0da2b-2e99-4316-b964-b467d343432b', 'job_id': 'a7de5596-dc3f-49f9-aaa0-fb3676117fd6', 'success': True, 'client_id': 'client_2a34fb5d-7c54-469f-b034-51062b388dc1', 'dataset_id': 'dataset_655ec19c-3a4c-4b23-9e39-c91deba0a3e3', 'params_url': 'http://localhost:8844/media/uploads/2021/09/30/node_params_621d872f-1cc3-4d79-a1d3-a89608048859.pt', 'timing': {'rtime_training': 27.893178530968726, 'ptime_training': 101.24138999299976}, 'msg': '', 'command': 'train'}\n",
      "2021-09-30 16:13:07,135 fedbiomed INFO - message received:{'researcher_id': 'researcher_46a0da2b-2e99-4316-b964-b467d343432b', 'job_id': 'a7de5596-dc3f-49f9-aaa0-fb3676117fd6', 'success': True, 'client_id': 'client_b1afd615-e4d4-489f-9ded-bd8db8ff2137', 'dataset_id': 'dataset_da9a5db6-9dda-475e-b920-43f8d1f54377', 'params_url': 'http://localhost:8844/media/uploads/2021/09/30/node_params_7bcd2d1b-f6e8-4909-9d03-aa7e0e64e0f7.pt', 'timing': {'rtime_training': 29.29839817096945, 'ptime_training': 106.42911965499934}, 'msg': '', 'command': 'train'}\n",
      "2021-09-30 16:13:42,459 fedbiomed INFO - message received:{'researcher_id': 'researcher_46a0da2b-2e99-4316-b964-b467d343432b', 'job_id': 'a7de5596-dc3f-49f9-aaa0-fb3676117fd6', 'success': True, 'client_id': 'client_2a34fb5d-7c54-469f-b034-51062b388dc1', 'dataset_id': 'dataset_655ec19c-3a4c-4b23-9e39-c91deba0a3e3', 'params_url': 'http://localhost:8844/media/uploads/2021/09/30/node_params_80dba58d-31eb-4b9c-b22d-593c0135da83.pt', 'timing': {'rtime_training': 29.352093077963218, 'ptime_training': 106.47404998300044}, 'msg': '', 'command': 'train'}\n",
      "2021-09-30 16:13:42,739 fedbiomed INFO - message received:{'researcher_id': 'researcher_46a0da2b-2e99-4316-b964-b467d343432b', 'job_id': 'a7de5596-dc3f-49f9-aaa0-fb3676117fd6', 'success': True, 'client_id': 'client_b1afd615-e4d4-489f-9ded-bd8db8ff2137', 'dataset_id': 'dataset_da9a5db6-9dda-475e-b920-43f8d1f54377', 'params_url': 'http://localhost:8844/media/uploads/2021/09/30/node_params_03f12fdf-d428-4564-8919-15639e2a099b.pt', 'timing': {'rtime_training': 29.706113200983964, 'ptime_training': 107.65398313500009}, 'msg': '', 'command': 'train'}\n",
      "2021-09-30 16:20:51,070 fedbiomed INFO - message received:{'researcher_id': 'researcher_46a0da2b-2e99-4316-b964-b467d343432b', 'success': True, 'databases': [{'name': 'MNIST', 'data_type': 'default', 'tags': ['#MNIST', '#dataset'], 'description': 'MNIST database', 'shape': [60000, 1, 28, 28], 'dataset_id': 'dataset_655ec19c-3a4c-4b23-9e39-c91deba0a3e3'}], 'count': 1, 'client_id': 'client_2a34fb5d-7c54-469f-b034-51062b388dc1', 'command': 'search'}\n",
      "2021-09-30 16:20:51,072 fedbiomed INFO - message received:{'researcher_id': 'researcher_46a0da2b-2e99-4316-b964-b467d343432b', 'success': True, 'databases': [{'name': 'MNIST', 'data_type': 'default', 'tags': ['#MNIST', '#dataset'], 'description': 'MNIST database', 'shape': [60000, 1, 28, 28], 'dataset_id': 'dataset_da9a5db6-9dda-475e-b920-43f8d1f54377'}], 'count': 1, 'client_id': 'client_b1afd615-e4d4-489f-9ded-bd8db8ff2137', 'command': 'search'}\n",
      "2021-09-30 16:21:29,264 fedbiomed INFO - message received:{'researcher_id': 'researcher_46a0da2b-2e99-4316-b964-b467d343432b', 'job_id': '6f9a5070-b15f-4d7c-89c8-38d4ab2e9397', 'success': True, 'client_id': 'client_b1afd615-e4d4-489f-9ded-bd8db8ff2137', 'dataset_id': 'dataset_da9a5db6-9dda-475e-b920-43f8d1f54377', 'params_url': 'http://localhost:8844/media/uploads/2021/09/30/node_params_5db08240-4ed6-4503-968c-5c1b5ab10b37.pt', 'timing': {'rtime_training': 27.6360126020154, 'ptime_training': 99.80827531599971}, 'msg': '', 'command': 'train'}\n",
      "2021-09-30 16:21:29,978 fedbiomed INFO - message received:{'researcher_id': 'researcher_46a0da2b-2e99-4316-b964-b467d343432b', 'job_id': '6f9a5070-b15f-4d7c-89c8-38d4ab2e9397', 'success': True, 'client_id': 'client_2a34fb5d-7c54-469f-b034-51062b388dc1', 'dataset_id': 'dataset_655ec19c-3a4c-4b23-9e39-c91deba0a3e3', 'params_url': 'http://localhost:8844/media/uploads/2021/09/30/node_params_4841d3b0-eaa9-40a9-abd4-f0786a1c55c1.pt', 'timing': {'rtime_training': 28.35052102804184, 'ptime_training': 101.51517755399982}, 'msg': '', 'command': 'train'}\n",
      "2021-09-30 16:22:06,389 fedbiomed INFO - message received:{'researcher_id': 'researcher_46a0da2b-2e99-4316-b964-b467d343432b', 'job_id': '6f9a5070-b15f-4d7c-89c8-38d4ab2e9397', 'success': True, 'client_id': 'client_2a34fb5d-7c54-469f-b034-51062b388dc1', 'dataset_id': 'dataset_655ec19c-3a4c-4b23-9e39-c91deba0a3e3', 'params_url': 'http://localhost:8844/media/uploads/2021/09/30/node_params_6fdcac87-a39c-4a17-b4b0-04f6752f6e49.pt', 'timing': {'rtime_training': 29.418097550980747, 'ptime_training': 104.9200186779999}, 'msg': '', 'command': 'train'}\n"
     ]
    },
    {
     "name": "stderr",
     "output_type": "stream",
     "text": [
      "2021-09-30 16:22:06,651 fedbiomed INFO - message received:{'researcher_id': 'researcher_46a0da2b-2e99-4316-b964-b467d343432b', 'job_id': '6f9a5070-b15f-4d7c-89c8-38d4ab2e9397', 'success': True, 'client_id': 'client_b1afd615-e4d4-489f-9ded-bd8db8ff2137', 'dataset_id': 'dataset_da9a5db6-9dda-475e-b920-43f8d1f54377', 'params_url': 'http://localhost:8844/media/uploads/2021/09/30/node_params_9ddca526-5997-45ac-9127-d22f76316c1b.pt', 'timing': {'rtime_training': 29.734978054999374, 'ptime_training': 106.59343688000081}, 'msg': '', 'command': 'train'}\n",
      "2021-09-30 16:22:42,537 fedbiomed INFO - message received:{'researcher_id': 'researcher_46a0da2b-2e99-4316-b964-b467d343432b', 'job_id': '6f9a5070-b15f-4d7c-89c8-38d4ab2e9397', 'success': True, 'client_id': 'client_2a34fb5d-7c54-469f-b034-51062b388dc1', 'dataset_id': 'dataset_655ec19c-3a4c-4b23-9e39-c91deba0a3e3', 'params_url': 'http://localhost:8844/media/uploads/2021/09/30/node_params_cb17c7b3-57b9-4dd2-a2e6-d9326a351c92.pt', 'timing': {'rtime_training': 30.220525017008185, 'ptime_training': 108.65642769299939}, 'msg': '', 'command': 'train'}\n",
      "2021-09-30 16:22:45,117 fedbiomed INFO - message received:{'researcher_id': 'researcher_46a0da2b-2e99-4316-b964-b467d343432b', 'job_id': '6f9a5070-b15f-4d7c-89c8-38d4ab2e9397', 'success': True, 'client_id': 'client_b1afd615-e4d4-489f-9ded-bd8db8ff2137', 'dataset_id': 'dataset_da9a5db6-9dda-475e-b920-43f8d1f54377', 'params_url': 'http://localhost:8844/media/uploads/2021/09/30/node_params_9735d01c-82e7-40f3-ad07-0da3265534b1.pt', 'timing': {'rtime_training': 32.90500761102885, 'ptime_training': 116.35801665700001}, 'msg': '', 'command': 'train'}\n",
      "2021-09-30 16:26:03,005 fedbiomed INFO - message received:{'researcher_id': 'researcher_46a0da2b-2e99-4316-b964-b467d343432b', 'success': True, 'databases': [{'name': 'MNIST', 'data_type': 'default', 'tags': ['#MNIST', '#dataset'], 'description': 'MNIST database', 'shape': [60000, 1, 28, 28], 'dataset_id': 'dataset_da9a5db6-9dda-475e-b920-43f8d1f54377'}], 'count': 1, 'client_id': 'client_b1afd615-e4d4-489f-9ded-bd8db8ff2137', 'command': 'search'}\n",
      "2021-09-30 16:26:03,009 fedbiomed INFO - message received:{'researcher_id': 'researcher_46a0da2b-2e99-4316-b964-b467d343432b', 'success': True, 'databases': [{'name': 'MNIST', 'data_type': 'default', 'tags': ['#MNIST', '#dataset'], 'description': 'MNIST database', 'shape': [60000, 1, 28, 28], 'dataset_id': 'dataset_655ec19c-3a4c-4b23-9e39-c91deba0a3e3'}], 'count': 1, 'client_id': 'client_2a34fb5d-7c54-469f-b034-51062b388dc1', 'command': 'search'}\n",
      "2021-09-30 16:26:31,700 fedbiomed INFO - message received:{'researcher_id': 'researcher_46a0da2b-2e99-4316-b964-b467d343432b', 'job_id': '66319c86-6fea-4dda-ac02-920f6d04b62c', 'success': True, 'client_id': 'client_2a34fb5d-7c54-469f-b034-51062b388dc1', 'dataset_id': 'dataset_655ec19c-3a4c-4b23-9e39-c91deba0a3e3', 'params_url': 'http://localhost:8844/media/uploads/2021/09/30/node_params_848e131c-127b-40c7-b81b-ec2681846364.pt', 'timing': {'rtime_training': 18.176689977990463, 'ptime_training': 65.8014457700001}, 'msg': '', 'command': 'train'}\n",
      "2021-09-30 16:26:32,708 fedbiomed INFO - message received:{'researcher_id': 'researcher_46a0da2b-2e99-4316-b964-b467d343432b', 'job_id': '66319c86-6fea-4dda-ac02-920f6d04b62c', 'success': True, 'client_id': 'client_b1afd615-e4d4-489f-9ded-bd8db8ff2137', 'dataset_id': 'dataset_da9a5db6-9dda-475e-b920-43f8d1f54377', 'params_url': 'http://localhost:8844/media/uploads/2021/09/30/node_params_43e105fc-c10c-4f56-8a61-8377ee4d6b94.pt', 'timing': {'rtime_training': 19.17905082507059, 'ptime_training': 68.27624528199976}, 'msg': '', 'command': 'train'}\n",
      "2021-09-30 16:26:57,774 fedbiomed INFO - message received:{'researcher_id': 'researcher_46a0da2b-2e99-4316-b964-b467d343432b', 'job_id': '66319c86-6fea-4dda-ac02-920f6d04b62c', 'success': True, 'client_id': 'client_2a34fb5d-7c54-469f-b034-51062b388dc1', 'dataset_id': 'dataset_655ec19c-3a4c-4b23-9e39-c91deba0a3e3', 'params_url': 'http://localhost:8844/media/uploads/2021/09/30/node_params_5abd19d1-d510-4d2d-b6ce-58c5fd1f4a36.pt', 'timing': {'rtime_training': 18.829449857003056, 'ptime_training': 67.99562975000026}, 'msg': '', 'command': 'train'}\n",
      "2021-09-30 16:26:58,380 fedbiomed INFO - message received:{'researcher_id': 'researcher_46a0da2b-2e99-4316-b964-b467d343432b', 'job_id': '66319c86-6fea-4dda-ac02-920f6d04b62c', 'success': True, 'client_id': 'client_b1afd615-e4d4-489f-9ded-bd8db8ff2137', 'dataset_id': 'dataset_da9a5db6-9dda-475e-b920-43f8d1f54377', 'params_url': 'http://localhost:8844/media/uploads/2021/09/30/node_params_7a012d9d-987b-4590-a153-c816cf489e7b.pt', 'timing': {'rtime_training': 19.511112883104943, 'ptime_training': 69.69868311499977}, 'msg': '', 'command': 'train'}\n",
      "2021-09-30 16:32:04,911 fedbiomed INFO - message received:{'researcher_id': 'researcher_46a0da2b-2e99-4316-b964-b467d343432b', 'success': True, 'databases': [{'name': 'MNIST', 'data_type': 'default', 'tags': ['#MNIST', '#dataset'], 'description': 'MNIST database', 'shape': [60000, 1, 28, 28], 'dataset_id': 'dataset_da9a5db6-9dda-475e-b920-43f8d1f54377'}], 'count': 1, 'client_id': 'client_b1afd615-e4d4-489f-9ded-bd8db8ff2137', 'command': 'search'}\n",
      "2021-09-30 16:32:04,913 fedbiomed INFO - message received:{'researcher_id': 'researcher_46a0da2b-2e99-4316-b964-b467d343432b', 'success': True, 'databases': [{'name': 'MNIST', 'data_type': 'default', 'tags': ['#MNIST', '#dataset'], 'description': 'MNIST database', 'shape': [60000, 1, 28, 28], 'dataset_id': 'dataset_655ec19c-3a4c-4b23-9e39-c91deba0a3e3'}], 'count': 1, 'client_id': 'client_2a34fb5d-7c54-469f-b034-51062b388dc1', 'command': 'search'}\n",
      "2021-09-30 16:32:35,475 fedbiomed INFO - message received:{'researcher_id': 'researcher_46a0da2b-2e99-4316-b964-b467d343432b', 'job_id': '9ab80f24-4d67-451f-ba72-f1ce121755d8', 'success': True, 'client_id': 'client_2a34fb5d-7c54-469f-b034-51062b388dc1', 'dataset_id': 'dataset_655ec19c-3a4c-4b23-9e39-c91deba0a3e3', 'params_url': 'http://localhost:8844/media/uploads/2021/09/30/node_params_91f1d0e1-cd82-4a9d-b244-d70624317288.pt', 'timing': {'rtime_training': 20.08000920107588, 'ptime_training': 69.18097264199969}, 'msg': '', 'command': 'train'}\n",
      "2021-09-30 16:32:35,977 fedbiomed INFO - message received:{'researcher_id': 'researcher_46a0da2b-2e99-4316-b964-b467d343432b', 'job_id': '9ab80f24-4d67-451f-ba72-f1ce121755d8', 'success': True, 'client_id': 'client_b1afd615-e4d4-489f-9ded-bd8db8ff2137', 'dataset_id': 'dataset_da9a5db6-9dda-475e-b920-43f8d1f54377', 'params_url': 'http://localhost:8844/media/uploads/2021/09/30/node_params_d5eede5e-7bcc-4ada-ae71-4f5539f258d2.pt', 'timing': {'rtime_training': 20.60025359399151, 'ptime_training': 71.5474178909999}, 'msg': '', 'command': 'train'}\n",
      "2021-09-30 16:33:06,125 fedbiomed INFO - message received:{'researcher_id': 'researcher_46a0da2b-2e99-4316-b964-b467d343432b', 'job_id': '9ab80f24-4d67-451f-ba72-f1ce121755d8', 'success': True, 'client_id': 'client_2a34fb5d-7c54-469f-b034-51062b388dc1', 'dataset_id': 'dataset_655ec19c-3a4c-4b23-9e39-c91deba0a3e3', 'params_url': 'http://localhost:8844/media/uploads/2021/09/30/node_params_49d94245-6d16-4c3f-a896-1ca299f51559.pt', 'timing': {'rtime_training': 20.365605965955183, 'ptime_training': 71.5087691030003}, 'msg': '', 'command': 'train'}\n",
      "2021-09-30 16:33:07,553 fedbiomed INFO - message received:{'researcher_id': 'researcher_46a0da2b-2e99-4316-b964-b467d343432b', 'job_id': '9ab80f24-4d67-451f-ba72-f1ce121755d8', 'success': True, 'client_id': 'client_b1afd615-e4d4-489f-9ded-bd8db8ff2137', 'dataset_id': 'dataset_da9a5db6-9dda-475e-b920-43f8d1f54377', 'params_url': 'http://localhost:8844/media/uploads/2021/09/30/node_params_72012ba2-c7d0-4979-a3ac-3c96d087c2cf.pt', 'timing': {'rtime_training': 21.74205040105153, 'ptime_training': 74.42270985699997}, 'msg': '', 'command': 'train'}\n",
      "2021-09-30 17:10:07,714 fedbiomed INFO - message received:{'researcher_id': 'researcher_46a0da2b-2e99-4316-b964-b467d343432b', 'success': True, 'databases': [{'name': 'MNIST', 'data_type': 'default', 'tags': ['#MNIST', '#dataset'], 'description': 'MNIST database', 'shape': [60000, 1, 28, 28], 'dataset_id': 'dataset_da9a5db6-9dda-475e-b920-43f8d1f54377'}], 'count': 1, 'client_id': 'client_b1afd615-e4d4-489f-9ded-bd8db8ff2137', 'command': 'search'}\n"
     ]
    },
    {
     "name": "stderr",
     "output_type": "stream",
     "text": [
      "2021-09-30 17:10:07,716 fedbiomed INFO - message received:{'researcher_id': 'researcher_46a0da2b-2e99-4316-b964-b467d343432b', 'success': True, 'databases': [{'name': 'MNIST', 'data_type': 'default', 'tags': ['#MNIST', '#dataset'], 'description': 'MNIST database', 'shape': [60000, 1, 28, 28], 'dataset_id': 'dataset_655ec19c-3a4c-4b23-9e39-c91deba0a3e3'}], 'count': 1, 'client_id': 'client_2a34fb5d-7c54-469f-b034-51062b388dc1', 'command': 'search'}\n",
      "2021-09-30 17:10:38,926 fedbiomed INFO - message received:{'researcher_id': 'researcher_46a0da2b-2e99-4316-b964-b467d343432b', 'job_id': '9f89fedc-00f8-4fc8-8a89-8cf42304255f', 'success': True, 'client_id': 'client_b1afd615-e4d4-489f-9ded-bd8db8ff2137', 'dataset_id': 'dataset_da9a5db6-9dda-475e-b920-43f8d1f54377', 'params_url': 'http://localhost:8844/media/uploads/2021/09/30/node_params_c55ae905-dcc8-413e-8954-0489e23aae50.pt', 'timing': {'rtime_training': 20.602918353048153, 'ptime_training': 72.24496754200027}, 'msg': '', 'command': 'train'}\n",
      "2021-09-30 17:10:39,197 fedbiomed INFO - message received:{'researcher_id': 'researcher_46a0da2b-2e99-4316-b964-b467d343432b', 'job_id': '9f89fedc-00f8-4fc8-8a89-8cf42304255f', 'success': True, 'client_id': 'client_2a34fb5d-7c54-469f-b034-51062b388dc1', 'dataset_id': 'dataset_655ec19c-3a4c-4b23-9e39-c91deba0a3e3', 'params_url': 'http://localhost:8844/media/uploads/2021/09/30/node_params_359efad2-0ad0-495d-8f1b-dfe66ff9699f.pt', 'timing': {'rtime_training': 20.98686397005804, 'ptime_training': 72.81357451300028}, 'msg': '', 'command': 'train'}\n",
      "2021-09-30 17:11:13,404 fedbiomed INFO - message received:{'researcher_id': 'researcher_46a0da2b-2e99-4316-b964-b467d343432b', 'job_id': '9f89fedc-00f8-4fc8-8a89-8cf42304255f', 'success': True, 'client_id': 'client_b1afd615-e4d4-489f-9ded-bd8db8ff2137', 'dataset_id': 'dataset_da9a5db6-9dda-475e-b920-43f8d1f54377', 'params_url': 'http://localhost:8844/media/uploads/2021/09/30/node_params_90daf180-239e-4635-9da7-fdb5bb5c320e.pt', 'timing': {'rtime_training': 24.602955713053234, 'ptime_training': 82.65503533500032}, 'msg': '', 'command': 'train'}\n",
      "2021-09-30 17:11:15,701 fedbiomed INFO - message received:{'researcher_id': 'researcher_46a0da2b-2e99-4316-b964-b467d343432b', 'job_id': '9f89fedc-00f8-4fc8-8a89-8cf42304255f', 'success': True, 'client_id': 'client_2a34fb5d-7c54-469f-b034-51062b388dc1', 'dataset_id': 'dataset_655ec19c-3a4c-4b23-9e39-c91deba0a3e3', 'params_url': 'http://localhost:8844/media/uploads/2021/09/30/node_params_191cfb07-01e9-4f33-961b-22142cb8cf5b.pt', 'timing': {'rtime_training': 26.95598168403376, 'ptime_training': 90.32691262299977}, 'msg': '', 'command': 'train'}\n",
      "2021-09-30 17:32:12,996 fedbiomed INFO - message received:{'researcher_id': 'researcher_46a0da2b-2e99-4316-b964-b467d343432b', 'success': True, 'databases': [{'name': 'MNIST', 'data_type': 'default', 'tags': ['#MNIST', '#dataset'], 'description': 'MNIST database', 'shape': [60000, 1, 28, 28], 'dataset_id': 'dataset_da9a5db6-9dda-475e-b920-43f8d1f54377'}], 'count': 1, 'client_id': 'client_b1afd615-e4d4-489f-9ded-bd8db8ff2137', 'command': 'search'}\n",
      "2021-09-30 17:32:13,001 fedbiomed INFO - message received:{'researcher_id': 'researcher_46a0da2b-2e99-4316-b964-b467d343432b', 'success': True, 'databases': [{'name': 'MNIST', 'data_type': 'default', 'tags': ['#MNIST', '#dataset'], 'description': 'MNIST database', 'shape': [60000, 1, 28, 28], 'dataset_id': 'dataset_655ec19c-3a4c-4b23-9e39-c91deba0a3e3'}], 'count': 1, 'client_id': 'client_2a34fb5d-7c54-469f-b034-51062b388dc1', 'command': 'search'}\n",
      "2021-09-30 17:32:45,999 fedbiomed INFO - message received:{'researcher_id': 'researcher_46a0da2b-2e99-4316-b964-b467d343432b', 'job_id': '0ffaf974-8d2d-431d-a2e6-2a8411ab1999', 'success': True, 'client_id': 'client_b1afd615-e4d4-489f-9ded-bd8db8ff2137', 'dataset_id': 'dataset_da9a5db6-9dda-475e-b920-43f8d1f54377', 'params_url': 'http://localhost:8844/media/uploads/2021/09/30/node_params_9f032d77-7135-417c-b248-86f61cefee3b.pt', 'timing': {'rtime_training': 22.51402245904319, 'ptime_training': 76.16085958599979}, 'msg': '', 'command': 'train'}\n",
      "2021-09-30 17:32:47,100 fedbiomed INFO - message received:{'researcher_id': 'researcher_46a0da2b-2e99-4316-b964-b467d343432b', 'job_id': '0ffaf974-8d2d-431d-a2e6-2a8411ab1999', 'success': True, 'client_id': 'client_2a34fb5d-7c54-469f-b034-51062b388dc1', 'dataset_id': 'dataset_655ec19c-3a4c-4b23-9e39-c91deba0a3e3', 'params_url': 'http://localhost:8844/media/uploads/2021/09/30/node_params_a1341da3-d970-4a45-827e-ab929ff9d0ae.pt', 'timing': {'rtime_training': 23.65356902300846, 'ptime_training': 78.80394223700023}, 'msg': '', 'command': 'train'}\n",
      "2021-09-30 17:33:13,660 fedbiomed INFO - message received:{'researcher_id': 'researcher_46a0da2b-2e99-4316-b964-b467d343432b', 'job_id': '0ffaf974-8d2d-431d-a2e6-2a8411ab1999', 'success': True, 'client_id': 'client_b1afd615-e4d4-489f-9ded-bd8db8ff2137', 'dataset_id': 'dataset_da9a5db6-9dda-475e-b920-43f8d1f54377', 'params_url': 'http://localhost:8844/media/uploads/2021/09/30/node_params_f653d87d-825f-4425-94c5-c6e62bdf379c.pt', 'timing': {'rtime_training': 19.743550856946968, 'ptime_training': 70.84500892899996}, 'msg': '', 'command': 'train'}\n",
      "2021-09-30 17:33:14,474 fedbiomed INFO - message received:{'researcher_id': 'researcher_46a0da2b-2e99-4316-b964-b467d343432b', 'job_id': '0ffaf974-8d2d-431d-a2e6-2a8411ab1999', 'success': True, 'client_id': 'client_2a34fb5d-7c54-469f-b034-51062b388dc1', 'dataset_id': 'dataset_655ec19c-3a4c-4b23-9e39-c91deba0a3e3', 'params_url': 'http://localhost:8844/media/uploads/2021/09/30/node_params_a098e0cb-d61e-4dd2-8fda-ffebd9bd8213.pt', 'timing': {'rtime_training': 20.53482900792733, 'ptime_training': 72.82228331600072}, 'msg': '', 'command': 'train'}\n"
     ]
    }
   ],
   "source": [
    "%tensorboard --logdir '../var/tmp/tensorboard'"
   ]
  },
  {
   "cell_type": "markdown",
   "metadata": {},
   "source": [
    "Local training results for each round and each node are available in `exp.training_replies` (index 0 to (`rounds` - 1) ).\n",
    "\n",
    "For example you can view the training results for the last round below.\n",
    "\n",
    "Different timings (in seconds) are reported for each dataset of a node participating in a round :\n",
    "- `rtime_training` real time (clock time) spent in the training function on the node\n",
    "- `ptime_training` process time (user and system CPU) spent in the training function on the node\n",
    "- `rtime_total` real time (clock time) spent in the researcher between sending the request and handling the response, at the `Job()` layer"
   ]
  },
  {
   "cell_type": "code",
   "execution_count": null,
   "metadata": {
    "pycharm": {
     "name": "#%%\n"
    },
    "scrolled": true
   },
   "outputs": [],
   "source": [
    "print(\"\\nList the training rounds : \", exp.training_replies.keys())\n",
    "\n",
    "print(\"\\nList the clients for the last training round and their timings : \")\n",
    "round_data = exp.training_replies[rounds - 1].data\n",
    "for c in range(len(round_data)):\n",
    "    print(\"\\t- {id} :\\\n",
    "    \\n\\t\\trtime_training={rtraining:.2f} seconds\\\n",
    "    \\n\\t\\tptime_training={ptraining:.2f} seconds\\\n",
    "    \\n\\t\\trtime_total={rtotal:.2f} seconds\".format(id = round_data[c]['client_id'],\n",
    "        rtraining = round_data[c]['timing']['rtime_training'],\n",
    "        ptraining = round_data[c]['timing']['ptime_training'],\n",
    "        rtotal = round_data[c]['timing']['rtime_total']))\n",
    "print('\\n')\n",
    "    \n",
    "exp.training_replies[rounds - 1].dataframe"
   ]
  },
  {
   "cell_type": "markdown",
   "metadata": {},
   "source": [
    "Federated parameters for each round are available in `exp.aggregated_params` (index 0 to (`rounds` - 1) ).\n",
    "\n",
    "For example you can view the federated parameters for the last round of the experiment :"
   ]
  },
  {
   "cell_type": "code",
   "execution_count": null,
   "metadata": {},
   "outputs": [],
   "source": [
    "print(\"\\nList the training rounds : \", exp.aggregated_params.keys())\n",
    "\n",
    "print(\"\\nAccess the federated params for the last training round :\")\n",
    "print(\"\\t- params_path: \", exp.aggregated_params[rounds - 1]['params_path'])\n",
    "print(\"\\t- parameter data: \", exp.aggregated_params[rounds - 1]['params'].keys())\n"
   ]
  },
  {
   "cell_type": "markdown",
   "metadata": {},
   "source": [
    "## Optional : searching the data"
   ]
  },
  {
   "cell_type": "code",
   "execution_count": null,
   "metadata": {},
   "outputs": [],
   "source": [
    "from fedbiomed.researcher.requests import Requests\n",
    "\n",
    "r = Requests()\n",
    "data = r.search(tags)\n",
    "\n",
    "import pandas as pd\n",
    "for client_id in data.keys():\n",
    "    print('\\n','Data for ', client_id, '\\n\\n', pd.DataFrame(data[client_id]))"
   ]
  },
  {
   "cell_type": "markdown",
   "metadata": {
    "pycharm": {
     "name": "#%% md\n"
    }
   },
   "source": [
    "## Optional : clean file repository (do not run unless necessary)\n",
    "Clean all the files in the repo via the rest API."
   ]
  },
  {
   "cell_type": "code",
   "execution_count": null,
   "metadata": {
    "pycharm": {
     "name": "#%% md\n"
    }
   },
   "outputs": [],
   "source": [
    "# import requests\n",
    "# from fedbiomed.researcher.environ import UPLOADS_URL\n",
    "\n",
    "# uploaded_models = requests.get(UPLOADS_URL).json()\n",
    "# for m in uploaded_models:\n",
    "#   requests.delete(m['url'])"
   ]
  },
  {
   "cell_type": "markdown",
   "metadata": {
    "pycharm": {
     "name": "#%%\n"
    }
   },
   "source": [
    "Feel free to try your own models :D"
   ]
  }
 ],
 "metadata": {
  "kernelspec": {
   "display_name": "Python 3 (ipykernel)",
   "language": "python",
   "name": "python3"
  },
  "language_info": {
   "codemirror_mode": {
    "name": "ipython",
    "version": 3
   },
   "file_extension": ".py",
   "mimetype": "text/x-python",
   "name": "python",
   "nbconvert_exporter": "python",
   "pygments_lexer": "ipython3",
   "version": "3.9.7"
  }
 },
 "nbformat": 4,
 "nbformat_minor": 1
}

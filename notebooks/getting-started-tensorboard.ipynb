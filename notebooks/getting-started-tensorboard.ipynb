{
 "cells": [
  {
   "cell_type": "markdown",
   "metadata": {},
   "source": [
    "# Fedbiomed Researcher"
   ]
  },
  {
   "cell_type": "markdown",
   "metadata": {},
   "source": [
    "Use for developing (autoreloads changes made across packages)"
   ]
  },
  {
   "cell_type": "code",
   "execution_count": 1,
   "metadata": {},
   "outputs": [],
   "source": [
    "%load_ext autoreload\n",
    "%autoreload 2"
   ]
  },
  {
   "cell_type": "markdown",
   "metadata": {},
   "source": [
    "Loading tensorboard extension"
   ]
  },
  {
   "cell_type": "code",
   "execution_count": 2,
   "metadata": {},
   "outputs": [],
   "source": [
    "%load_ext tensorboard"
   ]
  },
  {
   "cell_type": "markdown",
   "metadata": {},
   "source": [
    "## Setting the client up\n",
    "It is necessary to previously configure a node:\n",
    "1. `./scripts/fedbiomed_run node add`\n",
    "  * Select option 2 (default) to add MNIST to the client\n",
    "  * Confirm default tags by hitting \"y\" and ENTER\n",
    "  * Pick the folder where MNIST is downloaded (this is due torch issue https://github.com/pytorch/vision/issues/3549)\n",
    "  * Data must have been added (if you get a warning saying that data must be unique is because it's been already added)\n",
    "  \n",
    "2. Check that your data has been added by executing `./scripts/fedbiomed_run node list`\n",
    "3. Run the node using `./scripts/fedbiomed_run node run`. Wait until you get `Connected with result code 0`. it means you are online."
   ]
  },
  {
   "cell_type": "markdown",
   "metadata": {},
   "source": [
    "## Create an experiment to train a model on the data found"
   ]
  },
  {
   "cell_type": "markdown",
   "metadata": {},
   "source": [
    "Declare a torch.nn MyTrainingPlan class to send for training on the node"
   ]
  },
  {
   "cell_type": "code",
   "execution_count": 3,
   "metadata": {},
   "outputs": [],
   "source": [
    "from fedbiomed.researcher.environ import TMP_DIR\n",
    "import tempfile\n",
    "tmp_dir_model = tempfile.TemporaryDirectory(dir=TMP_DIR+'/')\n",
    "model_file = tmp_dir_model.name + '/class_export_mnist.py'"
   ]
  },
  {
   "cell_type": "markdown",
   "metadata": {},
   "source": [
    "Note : write **only** the code to export in the following cell"
   ]
  },
  {
   "cell_type": "code",
   "execution_count": 4,
   "metadata": {},
   "outputs": [
    {
     "name": "stdout",
     "output_type": "stream",
     "text": [
      "Writing /user/scansiz/home/Desktop/Inria/dev/fedbiomed/var/tmp/tmp_4t_foal/class_export_mnist.py\n"
     ]
    }
   ],
   "source": [
    "%%writefile \"$model_file\"\n",
    "\n",
    "import torch\n",
    "import torch.nn as nn\n",
    "from fedbiomed.common.torchnn import TorchTrainingPlan\n",
    "from torch.utils.data import DataLoader\n",
    "from torchvision import datasets, transforms\n",
    "\n",
    "# Here we define the model to be used. \n",
    "# You can use any class name (here 'Net')\n",
    "class MyTrainingPlan(TorchTrainingPlan):\n",
    "    def __init__(self):\n",
    "        super(MyTrainingPlan, self).__init__()\n",
    "        self.conv1 = nn.Conv2d(1, 32, 3, 1)\n",
    "        self.conv2 = nn.Conv2d(32, 64, 3, 1)\n",
    "        self.dropout1 = nn.Dropout(0.25)\n",
    "        self.dropout2 = nn.Dropout(0.5)\n",
    "        self.fc1 = nn.Linear(9216, 128)\n",
    "        self.fc2 = nn.Linear(128, 10)\n",
    "        \n",
    "        # Here we define the custom dependencies that will be needed by our custom Dataloader\n",
    "        # In this case, we need the torch DataLoader classes\n",
    "        # Since we will train on MNIST, we need datasets and transform from torchvision\n",
    "        deps = [\"from torchvision import datasets, transforms\",\n",
    "               \"from torch.utils.data import DataLoader\"]\n",
    "        self.add_dependency(deps)\n",
    "\n",
    "    def forward(self, x):\n",
    "        x = self.conv1(x)\n",
    "        x = F.relu(x)\n",
    "        x = self.conv2(x)\n",
    "        x = F.relu(x)\n",
    "        x = F.max_pool2d(x, 2)\n",
    "        x = self.dropout1(x)\n",
    "        x = torch.flatten(x, 1)\n",
    "        x = self.fc1(x)\n",
    "        x = F.relu(x)\n",
    "        x = self.dropout2(x)\n",
    "        x = self.fc2(x)\n",
    "        output = F.log_softmax(x, dim=1)\n",
    "        return output\n",
    "\n",
    "    def training_data(self, batch_size = 48):\n",
    "        # Custom torch Dataloader for MNIST data\n",
    "        transform = transforms.Compose([transforms.ToTensor(),\n",
    "        transforms.Normalize((0.1307,), (0.3081,))])\n",
    "        dataset1 = datasets.MNIST(self.dataset_path, train=True, download=False, transform=transform)\n",
    "        train_kwargs = {'batch_size': batch_size, 'shuffle': True}\n",
    "        data_loader = torch.utils.data.DataLoader(dataset1, **train_kwargs)\n",
    "        return data_loader\n",
    "    \n",
    "    def training_step(self, data, target):\n",
    "        output = self.forward(data)\n",
    "        loss   = torch.nn.functional.nll_loss(output, target)\n",
    "        return loss\n"
   ]
  },
  {
   "cell_type": "markdown",
   "metadata": {},
   "source": [
    "This group of arguments correspond respectively:\n",
    "* `model_args`: a dictionary with the arguments related to the model (e.g. number of layers, features, etc.). This will be passed to the model class on the client side.\n",
    "* `training_args`: a dictionary containing the arguments for the training routine (e.g. batch size, learning rate, epochs, etc.). This will be passed to the routine on the client side.\n",
    "\n",
    "**NOTE:** typos and/or lack of positional (required) arguments will raise error. 🤓"
   ]
  },
  {
   "cell_type": "code",
   "execution_count": 5,
   "metadata": {
    "pycharm": {
     "name": "#%%\n"
    }
   },
   "outputs": [],
   "source": [
    "model_args = {}\n",
    "\n",
    "training_args = {\n",
    "    'batch_size': 48, \n",
    "    'lr': 1e-3, \n",
    "    'epochs': 3, \n",
    "    'dry_run': False,  \n",
    "    'batch_maxnum': 100 # Fast pass for development : only use ( batch_maxnum * batch_size ) samples\n",
    "}"
   ]
  },
  {
   "cell_type": "markdown",
   "metadata": {},
   "source": [
    "Define an experiment\n",
    "- search nodes serving data for these `tags`, optionally filter on a list of client ID with `clients`\n",
    "- run a round of local training on nodes with model defined in `model_path` + federation with `aggregator`\n",
    "- run for `rounds` rounds, applying the `client_selection_strategy` between the rounds"
   ]
  },
  {
   "cell_type": "code",
   "execution_count": 6,
   "metadata": {
    "pycharm": {
     "name": "#%%\n"
    },
    "scrolled": true
   },
   "outputs": [
    {
     "name": "stderr",
     "output_type": "stream",
     "text": [
      "2021-09-29 14:32:50,976 fedbiomed INFO - Messaging researcher_46a0da2b-2e99-4316-b964-b467d343432b successfully connected to the message broker, object = <fedbiomed.common.messaging.Messaging object at 0x7f56f2b7a640>\n",
      "2021-09-29 14:32:50,988 fedbiomed INFO - Searching for clients with data tags: ['#MNIST', '#dataset']\n",
      "2021-09-29 14:32:50,992 fedbiomed INFO - message received:{'researcher_id': 'researcher_46a0da2b-2e99-4316-b964-b467d343432b', 'success': True, 'databases': [{'name': 'MNIST', 'data_type': 'default', 'tags': ['#MNIST', '#dataset'], 'description': 'MNIST database', 'shape': [60000, 1, 28, 28], 'dataset_id': 'dataset_655ec19c-3a4c-4b23-9e39-c91deba0a3e3'}], 'count': 1, 'client_id': 'client_2a34fb5d-7c54-469f-b034-51062b388dc1', 'command': 'search'}\n",
      "2021-09-29 14:32:50,994 fedbiomed INFO - message received:{'researcher_id': 'researcher_46a0da2b-2e99-4316-b964-b467d343432b', 'success': True, 'databases': [{'name': 'MNIST', 'data_type': 'default', 'tags': ['#MNIST', '#dataset'], 'description': 'MNIST database', 'shape': [60000, 1, 28, 28], 'dataset_id': 'dataset_da9a5db6-9dda-475e-b920-43f8d1f54377'}], 'count': 1, 'client_id': 'client_b1afd615-e4d4-489f-9ded-bd8db8ff2137', 'command': 'search'}\n",
      "2021-09-29 14:33:01,352 fedbiomed INFO - Messaging NodeTrainingFeedbackClient successfully connected to the message broker, object = <fedbiomed.common.messaging.Messaging object at 0x7f56eb02ddc0>\n"
     ]
    }
   ],
   "source": [
    "from fedbiomed.researcher.experiment import Experiment\n",
    "from fedbiomed.researcher.aggregators.fedavg import FedAverage\n",
    "\n",
    "tags =  ['#MNIST', '#dataset']\n",
    "rounds = 2\n",
    "\n",
    "exp = Experiment(tags=tags,\n",
    "                 #clients=None,\n",
    "                 model_path=model_file,\n",
    "                 model_args=model_args,\n",
    "                 model_class='MyTrainingPlan',\n",
    "                 training_args=training_args,\n",
    "                 rounds=rounds,\n",
    "                 aggregator=FedAverage(),\n",
    "                 client_selection_strategy=None,\n",
    "                 tensorboard=True\n",
    "                )"
   ]
  },
  {
   "cell_type": "markdown",
   "metadata": {
    "pycharm": {
     "name": "#%% md\n"
    }
   },
   "source": [
    "Let's start the experiment.\n",
    "\n",
    "By default, this function doesn't stop until all the `rounds` are done for all the clients"
   ]
  },
  {
   "cell_type": "code",
   "execution_count": 7,
   "metadata": {
    "pycharm": {
     "name": "#%%\n"
    },
    "scrolled": true
   },
   "outputs": [
    {
     "name": "stderr",
     "output_type": "stream",
     "text": [
      "2021-09-29 14:33:01,393 fedbiomed INFO - Sampled clients in round 0 ['client_2a34fb5d-7c54-469f-b034-51062b388dc1', 'client_b1afd615-e4d4-489f-9ded-bd8db8ff2137']\n",
      "2021-09-29 14:33:01,394 fedbiomed INFO - Send message to client client_2a34fb5d-7c54-469f-b034-51062b388dc1 - {'researcher_id': 'researcher_46a0da2b-2e99-4316-b964-b467d343432b', 'job_id': 'f8f3cf36-8457-4d27-939e-e55b0d2c83bc', 'training_args': {'batch_size': 48, 'lr': 0.001, 'epochs': 3, 'dry_run': False, 'batch_maxnum': 100}, 'model_args': {}, 'command': 'train', 'model_url': 'http://localhost:8844/media/uploads/2021/09/29/my_model_a0afef44-3e26-4b89-baef-61df02dc4abd.py', 'params_url': 'http://localhost:8844/media/uploads/2021/09/29/my_model_4c67ef20-2237-4cd5-a1db-e65f446b9f96.pt', 'model_class': 'MyTrainingPlan', 'training_data': {'client_2a34fb5d-7c54-469f-b034-51062b388dc1': ['dataset_655ec19c-3a4c-4b23-9e39-c91deba0a3e3']}}\n",
      "2021-09-29 14:33:01,395 fedbiomed DEBUG - researcher_46a0da2b-2e99-4316-b964-b467d343432b\n",
      "2021-09-29 14:33:01,395 fedbiomed INFO - Send message to client client_b1afd615-e4d4-489f-9ded-bd8db8ff2137 - {'researcher_id': 'researcher_46a0da2b-2e99-4316-b964-b467d343432b', 'job_id': 'f8f3cf36-8457-4d27-939e-e55b0d2c83bc', 'training_args': {'batch_size': 48, 'lr': 0.001, 'epochs': 3, 'dry_run': False, 'batch_maxnum': 100}, 'model_args': {}, 'command': 'train', 'model_url': 'http://localhost:8844/media/uploads/2021/09/29/my_model_a0afef44-3e26-4b89-baef-61df02dc4abd.py', 'params_url': 'http://localhost:8844/media/uploads/2021/09/29/my_model_4c67ef20-2237-4cd5-a1db-e65f446b9f96.pt', 'model_class': 'MyTrainingPlan', 'training_data': {'client_b1afd615-e4d4-489f-9ded-bd8db8ff2137': ['dataset_da9a5db6-9dda-475e-b920-43f8d1f54377']}}\n",
      "2021-09-29 14:33:01,396 fedbiomed DEBUG - researcher_46a0da2b-2e99-4316-b964-b467d343432b\n",
      "2021-09-29 14:33:01,577 fedbiomed INFO - Round: 0 Node: client_2a34fb5d-7c54-469f-b034-51062b388dc1 - Train Epoch: 1 [0/60000]\tLoss: 2.327240\n",
      "2021-09-29 14:33:01,590 fedbiomed INFO - Round: 0 Node: client_b1afd615-e4d4-489f-9ded-bd8db8ff2137 - Train Epoch: 1 [0/60000]\tLoss: 2.297440\n",
      "2021-09-29 14:33:02,872 fedbiomed INFO - Round: 0 Node: client_2a34fb5d-7c54-469f-b034-51062b388dc1 - Train Epoch: 1 [480/60000]\tLoss: 1.218494\n",
      "2021-09-29 14:33:03,583 fedbiomed INFO - Round: 0 Node: client_b1afd615-e4d4-489f-9ded-bd8db8ff2137 - Train Epoch: 1 [480/60000]\tLoss: 1.483017\n",
      "2021-09-29 14:33:04,583 fedbiomed INFO - Round: 0 Node: client_b1afd615-e4d4-489f-9ded-bd8db8ff2137 - Train Epoch: 1 [960/60000]\tLoss: 0.809827\n",
      "2021-09-29 14:33:04,733 fedbiomed INFO - Round: 0 Node: client_2a34fb5d-7c54-469f-b034-51062b388dc1 - Train Epoch: 1 [960/60000]\tLoss: 0.848740\n",
      "2021-09-29 14:33:05,386 fedbiomed INFO - Round: 0 Node: client_b1afd615-e4d4-489f-9ded-bd8db8ff2137 - Train Epoch: 1 [1440/60000]\tLoss: 0.544033\n",
      "2021-09-29 14:33:05,550 fedbiomed INFO - Round: 0 Node: client_2a34fb5d-7c54-469f-b034-51062b388dc1 - Train Epoch: 1 [1440/60000]\tLoss: 0.828721\n",
      "2021-09-29 14:33:06,148 fedbiomed INFO - Round: 0 Node: client_b1afd615-e4d4-489f-9ded-bd8db8ff2137 - Train Epoch: 1 [1920/60000]\tLoss: 0.684460\n",
      "2021-09-29 14:33:06,330 fedbiomed INFO - Round: 0 Node: client_2a34fb5d-7c54-469f-b034-51062b388dc1 - Train Epoch: 1 [1920/60000]\tLoss: 0.779525\n",
      "2021-09-29 14:33:06,939 fedbiomed INFO - Round: 0 Node: client_b1afd615-e4d4-489f-9ded-bd8db8ff2137 - Train Epoch: 1 [2400/60000]\tLoss: 0.555390\n",
      "2021-09-29 14:33:07,111 fedbiomed INFO - Round: 0 Node: client_2a34fb5d-7c54-469f-b034-51062b388dc1 - Train Epoch: 1 [2400/60000]\tLoss: 0.349791\n",
      "2021-09-29 14:33:07,763 fedbiomed INFO - Round: 0 Node: client_b1afd615-e4d4-489f-9ded-bd8db8ff2137 - Train Epoch: 1 [2880/60000]\tLoss: 0.465531\n",
      "2021-09-29 14:33:07,968 fedbiomed INFO - Round: 0 Node: client_2a34fb5d-7c54-469f-b034-51062b388dc1 - Train Epoch: 1 [2880/60000]\tLoss: 0.265783\n",
      "2021-09-29 14:33:08,512 fedbiomed INFO - Round: 0 Node: client_b1afd615-e4d4-489f-9ded-bd8db8ff2137 - Train Epoch: 1 [3360/60000]\tLoss: 0.598639\n",
      "2021-09-29 14:33:08,742 fedbiomed INFO - Round: 0 Node: client_2a34fb5d-7c54-469f-b034-51062b388dc1 - Train Epoch: 1 [3360/60000]\tLoss: 0.254160\n",
      "2021-09-29 14:33:09,281 fedbiomed INFO - Round: 0 Node: client_b1afd615-e4d4-489f-9ded-bd8db8ff2137 - Train Epoch: 1 [3840/60000]\tLoss: 0.348154\n",
      "2021-09-29 14:33:09,528 fedbiomed INFO - Round: 0 Node: client_2a34fb5d-7c54-469f-b034-51062b388dc1 - Train Epoch: 1 [3840/60000]\tLoss: 0.409826\n",
      "2021-09-29 14:33:10,028 fedbiomed INFO - Round: 0 Node: client_b1afd615-e4d4-489f-9ded-bd8db8ff2137 - Train Epoch: 1 [4320/60000]\tLoss: 0.491441\n",
      "2021-09-29 14:33:10,274 fedbiomed INFO - Round: 0 Node: client_2a34fb5d-7c54-469f-b034-51062b388dc1 - Train Epoch: 1 [4320/60000]\tLoss: 0.249846\n",
      "2021-09-29 14:33:10,923 fedbiomed INFO - Round: 0 Node: client_b1afd615-e4d4-489f-9ded-bd8db8ff2137 - Train Epoch: 2 [0/60000]\tLoss: 0.132281\n",
      "2021-09-29 14:33:11,128 fedbiomed INFO - Round: 0 Node: client_2a34fb5d-7c54-469f-b034-51062b388dc1 - Train Epoch: 2 [0/60000]\tLoss: 0.383697\n",
      "2021-09-29 14:33:11,738 fedbiomed INFO - Round: 0 Node: client_b1afd615-e4d4-489f-9ded-bd8db8ff2137 - Train Epoch: 2 [480/60000]\tLoss: 0.351082\n",
      "2021-09-29 14:33:11,903 fedbiomed INFO - Round: 0 Node: client_2a34fb5d-7c54-469f-b034-51062b388dc1 - Train Epoch: 2 [480/60000]\tLoss: 0.415922\n",
      "2021-09-29 14:33:12,522 fedbiomed INFO - Round: 0 Node: client_b1afd615-e4d4-489f-9ded-bd8db8ff2137 - Train Epoch: 2 [960/60000]\tLoss: 0.380731\n",
      "2021-09-29 14:33:12,752 fedbiomed INFO - Round: 0 Node: client_2a34fb5d-7c54-469f-b034-51062b388dc1 - Train Epoch: 2 [960/60000]\tLoss: 0.411316\n",
      "2021-09-29 14:33:13,601 fedbiomed INFO - Round: 0 Node: client_b1afd615-e4d4-489f-9ded-bd8db8ff2137 - Train Epoch: 2 [1440/60000]\tLoss: 0.311999\n",
      "2021-09-29 14:33:13,711 fedbiomed INFO - Round: 0 Node: client_2a34fb5d-7c54-469f-b034-51062b388dc1 - Train Epoch: 2 [1440/60000]\tLoss: 0.243000\n",
      "2021-09-29 14:33:14,451 fedbiomed INFO - Round: 0 Node: client_2a34fb5d-7c54-469f-b034-51062b388dc1 - Train Epoch: 2 [1920/60000]\tLoss: 0.276994\n",
      "2021-09-29 14:33:14,646 fedbiomed INFO - Round: 0 Node: client_b1afd615-e4d4-489f-9ded-bd8db8ff2137 - Train Epoch: 2 [1920/60000]\tLoss: 0.172123\n",
      "2021-09-29 14:33:15,312 fedbiomed INFO - Round: 0 Node: client_2a34fb5d-7c54-469f-b034-51062b388dc1 - Train Epoch: 2 [2400/60000]\tLoss: 0.202436\n",
      "2021-09-29 14:33:15,384 fedbiomed INFO - Round: 0 Node: client_b1afd615-e4d4-489f-9ded-bd8db8ff2137 - Train Epoch: 2 [2400/60000]\tLoss: 0.278833\n",
      "2021-09-29 14:33:16,077 fedbiomed INFO - Round: 0 Node: client_2a34fb5d-7c54-469f-b034-51062b388dc1 - Train Epoch: 2 [2880/60000]\tLoss: 0.441508\n",
      "2021-09-29 14:33:16,174 fedbiomed INFO - Round: 0 Node: client_b1afd615-e4d4-489f-9ded-bd8db8ff2137 - Train Epoch: 2 [2880/60000]\tLoss: 0.155783\n",
      "2021-09-29 14:33:16,872 fedbiomed INFO - Round: 0 Node: client_2a34fb5d-7c54-469f-b034-51062b388dc1 - Train Epoch: 2 [3360/60000]\tLoss: 0.115454\n",
      "2021-09-29 14:33:16,987 fedbiomed INFO - Round: 0 Node: client_b1afd615-e4d4-489f-9ded-bd8db8ff2137 - Train Epoch: 2 [3360/60000]\tLoss: 0.122434\n",
      "2021-09-29 14:33:17,799 fedbiomed INFO - Round: 0 Node: client_2a34fb5d-7c54-469f-b034-51062b388dc1 - Train Epoch: 2 [3840/60000]\tLoss: 0.336103\n",
      "2021-09-29 14:33:17,923 fedbiomed INFO - Round: 0 Node: client_b1afd615-e4d4-489f-9ded-bd8db8ff2137 - Train Epoch: 2 [3840/60000]\tLoss: 0.207750\n",
      "2021-09-29 14:33:18,587 fedbiomed INFO - Round: 0 Node: client_2a34fb5d-7c54-469f-b034-51062b388dc1 - Train Epoch: 2 [4320/60000]\tLoss: 0.582913\n",
      "2021-09-29 14:33:18,729 fedbiomed INFO - Round: 0 Node: client_b1afd615-e4d4-489f-9ded-bd8db8ff2137 - Train Epoch: 2 [4320/60000]\tLoss: 0.172645\n",
      "2021-09-29 14:33:19,482 fedbiomed INFO - Round: 0 Node: client_2a34fb5d-7c54-469f-b034-51062b388dc1 - Train Epoch: 3 [0/60000]\tLoss: 0.263541\n",
      "2021-09-29 14:33:19,607 fedbiomed INFO - Round: 0 Node: client_b1afd615-e4d4-489f-9ded-bd8db8ff2137 - Train Epoch: 3 [0/60000]\tLoss: 0.235774\n",
      "2021-09-29 14:33:20,217 fedbiomed INFO - Round: 0 Node: client_2a34fb5d-7c54-469f-b034-51062b388dc1 - Train Epoch: 3 [480/60000]\tLoss: 0.212391\n",
      "2021-09-29 14:33:20,381 fedbiomed INFO - Round: 0 Node: client_b1afd615-e4d4-489f-9ded-bd8db8ff2137 - Train Epoch: 3 [480/60000]\tLoss: 0.307250\n",
      "2021-09-29 14:33:20,979 fedbiomed INFO - Round: 0 Node: client_2a34fb5d-7c54-469f-b034-51062b388dc1 - Train Epoch: 3 [960/60000]\tLoss: 0.115768\n"
     ]
    },
    {
     "name": "stderr",
     "output_type": "stream",
     "text": [
      "2021-09-29 14:33:21,142 fedbiomed INFO - Round: 0 Node: client_b1afd615-e4d4-489f-9ded-bd8db8ff2137 - Train Epoch: 3 [960/60000]\tLoss: 0.082104\n",
      "2021-09-29 14:33:21,759 fedbiomed INFO - Round: 0 Node: client_2a34fb5d-7c54-469f-b034-51062b388dc1 - Train Epoch: 3 [1440/60000]\tLoss: 0.267302\n",
      "2021-09-29 14:33:21,908 fedbiomed INFO - Round: 0 Node: client_b1afd615-e4d4-489f-9ded-bd8db8ff2137 - Train Epoch: 3 [1440/60000]\tLoss: 0.157372\n",
      "2021-09-29 14:33:22,509 fedbiomed INFO - Round: 0 Node: client_2a34fb5d-7c54-469f-b034-51062b388dc1 - Train Epoch: 3 [1920/60000]\tLoss: 0.186177\n",
      "2021-09-29 14:33:22,733 fedbiomed INFO - Round: 0 Node: client_b1afd615-e4d4-489f-9ded-bd8db8ff2137 - Train Epoch: 3 [1920/60000]\tLoss: 0.188419\n",
      "2021-09-29 14:33:23,270 fedbiomed INFO - Round: 0 Node: client_2a34fb5d-7c54-469f-b034-51062b388dc1 - Train Epoch: 3 [2400/60000]\tLoss: 0.192168\n",
      "2021-09-29 14:33:23,473 fedbiomed INFO - Round: 0 Node: client_b1afd615-e4d4-489f-9ded-bd8db8ff2137 - Train Epoch: 3 [2400/60000]\tLoss: 0.238055\n",
      "2021-09-29 14:33:24,007 fedbiomed INFO - Round: 0 Node: client_2a34fb5d-7c54-469f-b034-51062b388dc1 - Train Epoch: 3 [2880/60000]\tLoss: 0.239346\n",
      "2021-09-29 14:33:24,233 fedbiomed INFO - Round: 0 Node: client_b1afd615-e4d4-489f-9ded-bd8db8ff2137 - Train Epoch: 3 [2880/60000]\tLoss: 0.115405\n",
      "2021-09-29 14:33:24,781 fedbiomed INFO - Round: 0 Node: client_2a34fb5d-7c54-469f-b034-51062b388dc1 - Train Epoch: 3 [3360/60000]\tLoss: 0.094936\n",
      "2021-09-29 14:33:25,028 fedbiomed INFO - Round: 0 Node: client_b1afd615-e4d4-489f-9ded-bd8db8ff2137 - Train Epoch: 3 [3360/60000]\tLoss: 0.115219\n",
      "2021-09-29 14:33:25,518 fedbiomed INFO - Round: 0 Node: client_2a34fb5d-7c54-469f-b034-51062b388dc1 - Train Epoch: 3 [3840/60000]\tLoss: 0.121932\n",
      "2021-09-29 14:33:25,811 fedbiomed INFO - Round: 0 Node: client_b1afd615-e4d4-489f-9ded-bd8db8ff2137 - Train Epoch: 3 [3840/60000]\tLoss: 0.102604\n",
      "2021-09-29 14:33:26,330 fedbiomed INFO - Round: 0 Node: client_2a34fb5d-7c54-469f-b034-51062b388dc1 - Train Epoch: 3 [4320/60000]\tLoss: 0.160564\n",
      "2021-09-29 14:33:26,622 fedbiomed INFO - Round: 0 Node: client_b1afd615-e4d4-489f-9ded-bd8db8ff2137 - Train Epoch: 3 [4320/60000]\tLoss: 0.104939\n",
      "2021-09-29 14:33:27,290 fedbiomed INFO - message received:{'researcher_id': 'researcher_46a0da2b-2e99-4316-b964-b467d343432b', 'job_id': 'f8f3cf36-8457-4d27-939e-e55b0d2c83bc', 'success': True, 'client_id': 'client_2a34fb5d-7c54-469f-b034-51062b388dc1', 'dataset_id': 'dataset_655ec19c-3a4c-4b23-9e39-c91deba0a3e3', 'params_url': 'http://localhost:8844/media/uploads/2021/09/29/node_params_6a49b8da-4c1e-4bdc-9d88-6b42e9d0838a.pt', 'timing': {'rtime_training': 25.63992538000457, 'ptime_training': 94.80176006800002}, 'msg': '', 'command': 'train'}\n",
      "2021-09-29 14:33:27,457 fedbiomed INFO - message received:{'researcher_id': 'researcher_46a0da2b-2e99-4316-b964-b467d343432b', 'job_id': 'f8f3cf36-8457-4d27-939e-e55b0d2c83bc', 'success': True, 'client_id': 'client_b1afd615-e4d4-489f-9ded-bd8db8ff2137', 'dataset_id': 'dataset_da9a5db6-9dda-475e-b920-43f8d1f54377', 'params_url': 'http://localhost:8844/media/uploads/2021/09/29/node_params_b3d66099-4ff7-4749-aaf9-a4576113556d.pt', 'timing': {'rtime_training': 25.87082454992924, 'ptime_training': 95.11723567599984}, 'msg': '', 'command': 'train'}\n",
      "2021-09-29 14:33:36,462 fedbiomed INFO - Downloading model params after training on client_2a34fb5d-7c54-469f-b034-51062b388dc1 - from http://localhost:8844/media/uploads/2021/09/29/node_params_6a49b8da-4c1e-4bdc-9d88-6b42e9d0838a.pt\n",
      "2021-09-29 14:33:36,526 fedbiomed INFO - Downloading model params after training on client_b1afd615-e4d4-489f-9ded-bd8db8ff2137 - from http://localhost:8844/media/uploads/2021/09/29/node_params_b3d66099-4ff7-4749-aaf9-a4576113556d.pt\n",
      "2021-09-29 14:33:36,571 fedbiomed INFO - Clients that successfully reply in round 0 ['client_2a34fb5d-7c54-469f-b034-51062b388dc1', 'client_b1afd615-e4d4-489f-9ded-bd8db8ff2137']\n",
      "2021-09-29 14:33:36,768 fedbiomed INFO - Sampled clients in round 1 ['client_2a34fb5d-7c54-469f-b034-51062b388dc1', 'client_b1afd615-e4d4-489f-9ded-bd8db8ff2137']\n",
      "2021-09-29 14:33:36,769 fedbiomed INFO - Send message to client client_2a34fb5d-7c54-469f-b034-51062b388dc1 - {'researcher_id': 'researcher_46a0da2b-2e99-4316-b964-b467d343432b', 'job_id': 'f8f3cf36-8457-4d27-939e-e55b0d2c83bc', 'training_args': {'batch_size': 48, 'lr': 0.001, 'epochs': 3, 'dry_run': False, 'batch_maxnum': 100}, 'model_args': {}, 'command': 'train', 'model_url': 'http://localhost:8844/media/uploads/2021/09/29/my_model_a0afef44-3e26-4b89-baef-61df02dc4abd.py', 'params_url': 'http://localhost:8844/media/uploads/2021/09/29/researcher_params_428d8ce4-a9d1-46ae-8eab-1b5e047115d0.pt', 'model_class': 'MyTrainingPlan', 'training_data': {'client_2a34fb5d-7c54-469f-b034-51062b388dc1': ['dataset_655ec19c-3a4c-4b23-9e39-c91deba0a3e3']}}\n",
      "2021-09-29 14:33:36,771 fedbiomed DEBUG - researcher_46a0da2b-2e99-4316-b964-b467d343432b\n",
      "2021-09-29 14:33:36,771 fedbiomed INFO - Send message to client client_b1afd615-e4d4-489f-9ded-bd8db8ff2137 - {'researcher_id': 'researcher_46a0da2b-2e99-4316-b964-b467d343432b', 'job_id': 'f8f3cf36-8457-4d27-939e-e55b0d2c83bc', 'training_args': {'batch_size': 48, 'lr': 0.001, 'epochs': 3, 'dry_run': False, 'batch_maxnum': 100}, 'model_args': {}, 'command': 'train', 'model_url': 'http://localhost:8844/media/uploads/2021/09/29/my_model_a0afef44-3e26-4b89-baef-61df02dc4abd.py', 'params_url': 'http://localhost:8844/media/uploads/2021/09/29/researcher_params_428d8ce4-a9d1-46ae-8eab-1b5e047115d0.pt', 'model_class': 'MyTrainingPlan', 'training_data': {'client_b1afd615-e4d4-489f-9ded-bd8db8ff2137': ['dataset_da9a5db6-9dda-475e-b920-43f8d1f54377']}}\n",
      "2021-09-29 14:33:36,772 fedbiomed DEBUG - researcher_46a0da2b-2e99-4316-b964-b467d343432b\n",
      "2021-09-29 14:33:37,024 fedbiomed INFO - Round: 1 Node: client_2a34fb5d-7c54-469f-b034-51062b388dc1 - Train Epoch: 1 [0/60000]\tLoss: 0.136520\n",
      "2021-09-29 14:33:37,089 fedbiomed INFO - Round: 1 Node: client_b1afd615-e4d4-489f-9ded-bd8db8ff2137 - Train Epoch: 1 [0/60000]\tLoss: 0.129624\n",
      "2021-09-29 14:33:38,740 fedbiomed INFO - Round: 1 Node: client_b1afd615-e4d4-489f-9ded-bd8db8ff2137 - Train Epoch: 1 [480/60000]\tLoss: 0.300894\n",
      "2021-09-29 14:33:38,961 fedbiomed INFO - Round: 1 Node: client_2a34fb5d-7c54-469f-b034-51062b388dc1 - Train Epoch: 1 [480/60000]\tLoss: 0.578315\n",
      "2021-09-29 14:33:40,210 fedbiomed INFO - Round: 1 Node: client_2a34fb5d-7c54-469f-b034-51062b388dc1 - Train Epoch: 1 [960/60000]\tLoss: 0.304411\n",
      "2021-09-29 14:33:40,397 fedbiomed INFO - Round: 1 Node: client_b1afd615-e4d4-489f-9ded-bd8db8ff2137 - Train Epoch: 1 [960/60000]\tLoss: 0.164142\n",
      "2021-09-29 14:33:40,952 fedbiomed INFO - Round: 1 Node: client_2a34fb5d-7c54-469f-b034-51062b388dc1 - Train Epoch: 1 [1440/60000]\tLoss: 0.219319\n",
      "2021-09-29 14:33:41,191 fedbiomed INFO - Round: 1 Node: client_b1afd615-e4d4-489f-9ded-bd8db8ff2137 - Train Epoch: 1 [1440/60000]\tLoss: 0.165179\n",
      "2021-09-29 14:33:41,698 fedbiomed INFO - Round: 1 Node: client_2a34fb5d-7c54-469f-b034-51062b388dc1 - Train Epoch: 1 [1920/60000]\tLoss: 0.142856\n",
      "2021-09-29 14:33:41,928 fedbiomed INFO - Round: 1 Node: client_b1afd615-e4d4-489f-9ded-bd8db8ff2137 - Train Epoch: 1 [1920/60000]\tLoss: 0.185849\n",
      "2021-09-29 14:33:42,463 fedbiomed INFO - Round: 1 Node: client_2a34fb5d-7c54-469f-b034-51062b388dc1 - Train Epoch: 1 [2400/60000]\tLoss: 0.033956\n",
      "2021-09-29 14:33:42,753 fedbiomed INFO - Round: 1 Node: client_b1afd615-e4d4-489f-9ded-bd8db8ff2137 - Train Epoch: 1 [2400/60000]\tLoss: 0.124918\n",
      "2021-09-29 14:33:43,248 fedbiomed INFO - Round: 1 Node: client_2a34fb5d-7c54-469f-b034-51062b388dc1 - Train Epoch: 1 [2880/60000]\tLoss: 0.254753\n",
      "2021-09-29 14:33:43,588 fedbiomed INFO - Round: 1 Node: client_b1afd615-e4d4-489f-9ded-bd8db8ff2137 - Train Epoch: 1 [2880/60000]\tLoss: 0.291594\n",
      "2021-09-29 14:33:44,009 fedbiomed INFO - Round: 1 Node: client_2a34fb5d-7c54-469f-b034-51062b388dc1 - Train Epoch: 1 [3360/60000]\tLoss: 0.154090\n",
      "2021-09-29 14:33:44,382 fedbiomed INFO - Round: 1 Node: client_b1afd615-e4d4-489f-9ded-bd8db8ff2137 - Train Epoch: 1 [3360/60000]\tLoss: 0.173268\n",
      "2021-09-29 14:33:44,790 fedbiomed INFO - Round: 1 Node: client_2a34fb5d-7c54-469f-b034-51062b388dc1 - Train Epoch: 1 [3840/60000]\tLoss: 0.076128\n"
     ]
    },
    {
     "name": "stderr",
     "output_type": "stream",
     "text": [
      "2021-09-29 14:33:45,157 fedbiomed INFO - Round: 1 Node: client_b1afd615-e4d4-489f-9ded-bd8db8ff2137 - Train Epoch: 1 [3840/60000]\tLoss: 0.289558\n",
      "2021-09-29 14:33:45,562 fedbiomed INFO - Round: 1 Node: client_2a34fb5d-7c54-469f-b034-51062b388dc1 - Train Epoch: 1 [4320/60000]\tLoss: 0.129801\n",
      "2021-09-29 14:33:45,897 fedbiomed INFO - Round: 1 Node: client_b1afd615-e4d4-489f-9ded-bd8db8ff2137 - Train Epoch: 1 [4320/60000]\tLoss: 0.119760\n",
      "2021-09-29 14:33:46,476 fedbiomed INFO - Round: 1 Node: client_2a34fb5d-7c54-469f-b034-51062b388dc1 - Train Epoch: 2 [0/60000]\tLoss: 0.269717\n",
      "2021-09-29 14:33:46,791 fedbiomed INFO - Round: 1 Node: client_b1afd615-e4d4-489f-9ded-bd8db8ff2137 - Train Epoch: 2 [0/60000]\tLoss: 0.223807\n",
      "2021-09-29 14:33:47,211 fedbiomed INFO - Round: 1 Node: client_2a34fb5d-7c54-469f-b034-51062b388dc1 - Train Epoch: 2 [480/60000]\tLoss: 0.026569\n",
      "2021-09-29 14:33:47,574 fedbiomed INFO - Round: 1 Node: client_b1afd615-e4d4-489f-9ded-bd8db8ff2137 - Train Epoch: 2 [480/60000]\tLoss: 0.023314\n",
      "2021-09-29 14:33:47,948 fedbiomed INFO - Round: 1 Node: client_2a34fb5d-7c54-469f-b034-51062b388dc1 - Train Epoch: 2 [960/60000]\tLoss: 0.050616\n",
      "2021-09-29 14:33:48,365 fedbiomed INFO - Round: 1 Node: client_b1afd615-e4d4-489f-9ded-bd8db8ff2137 - Train Epoch: 2 [960/60000]\tLoss: 0.076348\n",
      "2021-09-29 14:33:48,701 fedbiomed INFO - Round: 1 Node: client_2a34fb5d-7c54-469f-b034-51062b388dc1 - Train Epoch: 2 [1440/60000]\tLoss: 0.175713\n",
      "2021-09-29 14:33:49,139 fedbiomed INFO - Round: 1 Node: client_b1afd615-e4d4-489f-9ded-bd8db8ff2137 - Train Epoch: 2 [1440/60000]\tLoss: 0.363613\n",
      "2021-09-29 14:33:49,438 fedbiomed INFO - Round: 1 Node: client_2a34fb5d-7c54-469f-b034-51062b388dc1 - Train Epoch: 2 [1920/60000]\tLoss: 0.113653\n",
      "2021-09-29 14:33:49,889 fedbiomed INFO - Round: 1 Node: client_b1afd615-e4d4-489f-9ded-bd8db8ff2137 - Train Epoch: 2 [1920/60000]\tLoss: 0.191892\n",
      "2021-09-29 14:33:50,165 fedbiomed INFO - Round: 1 Node: client_2a34fb5d-7c54-469f-b034-51062b388dc1 - Train Epoch: 2 [2400/60000]\tLoss: 0.087199\n",
      "2021-09-29 14:33:50,660 fedbiomed INFO - Round: 1 Node: client_b1afd615-e4d4-489f-9ded-bd8db8ff2137 - Train Epoch: 2 [2400/60000]\tLoss: 0.097058\n",
      "2021-09-29 14:33:50,892 fedbiomed INFO - Round: 1 Node: client_2a34fb5d-7c54-469f-b034-51062b388dc1 - Train Epoch: 2 [2880/60000]\tLoss: 0.299669\n",
      "2021-09-29 14:33:51,526 fedbiomed INFO - Round: 1 Node: client_b1afd615-e4d4-489f-9ded-bd8db8ff2137 - Train Epoch: 2 [2880/60000]\tLoss: 0.054967\n",
      "2021-09-29 14:33:51,630 fedbiomed INFO - Round: 1 Node: client_2a34fb5d-7c54-469f-b034-51062b388dc1 - Train Epoch: 2 [3360/60000]\tLoss: 0.034434\n",
      "2021-09-29 14:33:52,361 fedbiomed INFO - Round: 1 Node: client_b1afd615-e4d4-489f-9ded-bd8db8ff2137 - Train Epoch: 2 [3360/60000]\tLoss: 0.139048\n",
      "2021-09-29 14:33:52,511 fedbiomed INFO - Round: 1 Node: client_2a34fb5d-7c54-469f-b034-51062b388dc1 - Train Epoch: 2 [3840/60000]\tLoss: 0.071739\n",
      "2021-09-29 14:33:53,166 fedbiomed INFO - Round: 1 Node: client_b1afd615-e4d4-489f-9ded-bd8db8ff2137 - Train Epoch: 2 [3840/60000]\tLoss: 0.053839\n",
      "2021-09-29 14:33:53,306 fedbiomed INFO - Round: 1 Node: client_2a34fb5d-7c54-469f-b034-51062b388dc1 - Train Epoch: 2 [4320/60000]\tLoss: 0.096187\n",
      "2021-09-29 14:33:53,911 fedbiomed INFO - Round: 1 Node: client_b1afd615-e4d4-489f-9ded-bd8db8ff2137 - Train Epoch: 2 [4320/60000]\tLoss: 0.220616\n",
      "2021-09-29 14:33:54,184 fedbiomed INFO - Round: 1 Node: client_2a34fb5d-7c54-469f-b034-51062b388dc1 - Train Epoch: 3 [0/60000]\tLoss: 0.044901\n",
      "2021-09-29 14:33:54,734 fedbiomed INFO - Round: 1 Node: client_b1afd615-e4d4-489f-9ded-bd8db8ff2137 - Train Epoch: 3 [0/60000]\tLoss: 0.116870\n",
      "2021-09-29 14:33:54,930 fedbiomed INFO - Round: 1 Node: client_2a34fb5d-7c54-469f-b034-51062b388dc1 - Train Epoch: 3 [480/60000]\tLoss: 0.094260\n",
      "2021-09-29 14:33:55,471 fedbiomed INFO - Round: 1 Node: client_b1afd615-e4d4-489f-9ded-bd8db8ff2137 - Train Epoch: 3 [480/60000]\tLoss: 0.111280\n",
      "2021-09-29 14:33:55,689 fedbiomed INFO - Round: 1 Node: client_2a34fb5d-7c54-469f-b034-51062b388dc1 - Train Epoch: 3 [960/60000]\tLoss: 0.301913\n",
      "2021-09-29 14:33:56,260 fedbiomed INFO - Round: 1 Node: client_b1afd615-e4d4-489f-9ded-bd8db8ff2137 - Train Epoch: 3 [960/60000]\tLoss: 0.089732\n",
      "2021-09-29 14:33:56,493 fedbiomed INFO - Round: 1 Node: client_2a34fb5d-7c54-469f-b034-51062b388dc1 - Train Epoch: 3 [1440/60000]\tLoss: 0.036623\n",
      "2021-09-29 14:33:57,569 fedbiomed INFO - Round: 1 Node: client_b1afd615-e4d4-489f-9ded-bd8db8ff2137 - Train Epoch: 3 [1440/60000]\tLoss: 0.029556\n",
      "2021-09-29 14:33:57,934 fedbiomed INFO - Round: 1 Node: client_2a34fb5d-7c54-469f-b034-51062b388dc1 - Train Epoch: 3 [1920/60000]\tLoss: 0.025656\n",
      "2021-09-29 14:33:58,527 fedbiomed INFO - Round: 1 Node: client_b1afd615-e4d4-489f-9ded-bd8db8ff2137 - Train Epoch: 3 [1920/60000]\tLoss: 0.050283\n",
      "2021-09-29 14:33:58,821 fedbiomed INFO - Round: 1 Node: client_2a34fb5d-7c54-469f-b034-51062b388dc1 - Train Epoch: 3 [2400/60000]\tLoss: 0.163691\n",
      "2021-09-29 14:33:59,512 fedbiomed INFO - Round: 1 Node: client_b1afd615-e4d4-489f-9ded-bd8db8ff2137 - Train Epoch: 3 [2400/60000]\tLoss: 0.018099\n",
      "2021-09-29 14:33:59,822 fedbiomed INFO - Round: 1 Node: client_2a34fb5d-7c54-469f-b034-51062b388dc1 - Train Epoch: 3 [2880/60000]\tLoss: 0.343523\n",
      "2021-09-29 14:34:00,660 fedbiomed INFO - Round: 1 Node: client_b1afd615-e4d4-489f-9ded-bd8db8ff2137 - Train Epoch: 3 [2880/60000]\tLoss: 0.200597\n",
      "2021-09-29 14:34:00,961 fedbiomed INFO - Round: 1 Node: client_2a34fb5d-7c54-469f-b034-51062b388dc1 - Train Epoch: 3 [3360/60000]\tLoss: 0.178301\n",
      "2021-09-29 14:34:01,782 fedbiomed INFO - Round: 1 Node: client_b1afd615-e4d4-489f-9ded-bd8db8ff2137 - Train Epoch: 3 [3360/60000]\tLoss: 0.242104\n",
      "2021-09-29 14:34:02,151 fedbiomed INFO - Round: 1 Node: client_2a34fb5d-7c54-469f-b034-51062b388dc1 - Train Epoch: 3 [3840/60000]\tLoss: 0.123775\n",
      "2021-09-29 14:34:02,996 fedbiomed INFO - Round: 1 Node: client_b1afd615-e4d4-489f-9ded-bd8db8ff2137 - Train Epoch: 3 [3840/60000]\tLoss: 0.139497\n",
      "2021-09-29 14:34:03,158 fedbiomed INFO - Round: 1 Node: client_2a34fb5d-7c54-469f-b034-51062b388dc1 - Train Epoch: 3 [4320/60000]\tLoss: 0.168292\n",
      "2021-09-29 14:34:04,270 fedbiomed INFO - Round: 1 Node: client_b1afd615-e4d4-489f-9ded-bd8db8ff2137 - Train Epoch: 3 [4320/60000]\tLoss: 0.073509\n",
      "2021-09-29 14:34:05,212 fedbiomed INFO - message received:{'researcher_id': 'researcher_46a0da2b-2e99-4316-b964-b467d343432b', 'job_id': 'f8f3cf36-8457-4d27-939e-e55b0d2c83bc', 'success': True, 'client_id': 'client_2a34fb5d-7c54-469f-b034-51062b388dc1', 'dataset_id': 'dataset_655ec19c-3a4c-4b23-9e39-c91deba0a3e3', 'params_url': 'http://localhost:8844/media/uploads/2021/09/29/node_params_1a315235-1630-481b-ae6d-3ef169142b94.pt', 'timing': {'rtime_training': 27.949376307078637, 'ptime_training': 101.51542032599991}, 'msg': '', 'command': 'train'}\n",
      "2021-09-29 14:34:05,674 fedbiomed INFO - message received:{'researcher_id': 'researcher_46a0da2b-2e99-4316-b964-b467d343432b', 'job_id': 'f8f3cf36-8457-4d27-939e-e55b0d2c83bc', 'success': True, 'client_id': 'client_b1afd615-e4d4-489f-9ded-bd8db8ff2137', 'dataset_id': 'dataset_da9a5db6-9dda-475e-b920-43f8d1f54377', 'params_url': 'http://localhost:8844/media/uploads/2021/09/29/node_params_49c9e7a6-97fd-4459-88e6-0340d6999054.pt', 'timing': {'rtime_training': 28.54944298695773, 'ptime_training': 102.7902562549998}, 'msg': '', 'command': 'train'}\n",
      "2021-09-29 14:34:11,840 fedbiomed INFO - Downloading model params after training on client_2a34fb5d-7c54-469f-b034-51062b388dc1 - from http://localhost:8844/media/uploads/2021/09/29/node_params_1a315235-1630-481b-ae6d-3ef169142b94.pt\n",
      "2021-09-29 14:34:11,893 fedbiomed INFO - Downloading model params after training on client_b1afd615-e4d4-489f-9ded-bd8db8ff2137 - from http://localhost:8844/media/uploads/2021/09/29/node_params_49c9e7a6-97fd-4459-88e6-0340d6999054.pt\n",
      "2021-09-29 14:34:11,913 fedbiomed INFO - Clients that successfully reply in round 1 ['client_2a34fb5d-7c54-469f-b034-51062b388dc1', 'client_b1afd615-e4d4-489f-9ded-bd8db8ff2137']\n",
      "2021-09-29 14:35:33,438 fedbiomed INFO - message received:{'researcher_id': 'researcher_46a0da2b-2e99-4316-b964-b467d343432b', 'success': True, 'databases': [{'name': 'MNIST', 'data_type': 'default', 'tags': ['#MNIST', '#dataset'], 'description': 'MNIST database', 'shape': [60000, 1, 28, 28], 'dataset_id': 'dataset_da9a5db6-9dda-475e-b920-43f8d1f54377'}], 'count': 1, 'client_id': 'client_b1afd615-e4d4-489f-9ded-bd8db8ff2137', 'command': 'search'}\n"
     ]
    },
    {
     "name": "stderr",
     "output_type": "stream",
     "text": [
      "2021-09-29 14:35:33,440 fedbiomed INFO - message received:{'researcher_id': 'researcher_46a0da2b-2e99-4316-b964-b467d343432b', 'success': True, 'databases': [{'name': 'MNIST', 'data_type': 'default', 'tags': ['#MNIST', '#dataset'], 'description': 'MNIST database', 'shape': [60000, 1, 28, 28], 'dataset_id': 'dataset_655ec19c-3a4c-4b23-9e39-c91deba0a3e3'}], 'count': 1, 'client_id': 'client_2a34fb5d-7c54-469f-b034-51062b388dc1', 'command': 'search'}\n",
      "2021-09-29 14:35:43,935 fedbiomed INFO - Round: 0 Node: client_2a34fb5d-7c54-469f-b034-51062b388dc1 - Train Epoch: 1 [0/60000]\tLoss: 2.326869\n",
      "2021-09-29 14:35:43,954 fedbiomed INFO - Round: 0 Node: client_b1afd615-e4d4-489f-9ded-bd8db8ff2137 - Train Epoch: 1 [0/60000]\tLoss: 2.267578\n",
      "2021-09-29 14:35:45,984 fedbiomed INFO - Round: 0 Node: client_2a34fb5d-7c54-469f-b034-51062b388dc1 - Train Epoch: 1 [480/60000]\tLoss: 1.156422\n",
      "2021-09-29 14:35:46,274 fedbiomed INFO - Round: 0 Node: client_b1afd615-e4d4-489f-9ded-bd8db8ff2137 - Train Epoch: 1 [480/60000]\tLoss: 1.255172\n",
      "2021-09-29 14:35:47,365 fedbiomed INFO - Round: 0 Node: client_b1afd615-e4d4-489f-9ded-bd8db8ff2137 - Train Epoch: 1 [960/60000]\tLoss: 1.037754\n",
      "2021-09-29 14:35:47,452 fedbiomed INFO - Round: 0 Node: client_2a34fb5d-7c54-469f-b034-51062b388dc1 - Train Epoch: 1 [960/60000]\tLoss: 1.029662\n",
      "2021-09-29 14:35:48,226 fedbiomed INFO - Round: 0 Node: client_b1afd615-e4d4-489f-9ded-bd8db8ff2137 - Train Epoch: 1 [1440/60000]\tLoss: 0.602679\n",
      "2021-09-29 14:35:48,262 fedbiomed INFO - Round: 0 Node: client_2a34fb5d-7c54-469f-b034-51062b388dc1 - Train Epoch: 1 [1440/60000]\tLoss: 0.861626\n",
      "2021-09-29 14:35:49,053 fedbiomed INFO - Round: 0 Node: client_b1afd615-e4d4-489f-9ded-bd8db8ff2137 - Train Epoch: 1 [1920/60000]\tLoss: 0.777507\n",
      "2021-09-29 14:35:49,094 fedbiomed INFO - Round: 0 Node: client_2a34fb5d-7c54-469f-b034-51062b388dc1 - Train Epoch: 1 [1920/60000]\tLoss: 0.530299\n",
      "2021-09-29 14:35:49,949 fedbiomed INFO - Round: 0 Node: client_2a34fb5d-7c54-469f-b034-51062b388dc1 - Train Epoch: 1 [2400/60000]\tLoss: 0.431872\n",
      "2021-09-29 14:35:50,028 fedbiomed INFO - Round: 0 Node: client_b1afd615-e4d4-489f-9ded-bd8db8ff2137 - Train Epoch: 1 [2400/60000]\tLoss: 0.450839\n",
      "2021-09-29 14:35:50,852 fedbiomed INFO - Round: 0 Node: client_b1afd615-e4d4-489f-9ded-bd8db8ff2137 - Train Epoch: 1 [2880/60000]\tLoss: 0.470859\n",
      "2021-09-29 14:35:50,871 fedbiomed INFO - Round: 0 Node: client_2a34fb5d-7c54-469f-b034-51062b388dc1 - Train Epoch: 1 [2880/60000]\tLoss: 0.333394\n",
      "2021-09-29 14:35:51,649 fedbiomed INFO - Round: 0 Node: client_b1afd615-e4d4-489f-9ded-bd8db8ff2137 - Train Epoch: 1 [3360/60000]\tLoss: 0.405147\n",
      "2021-09-29 14:35:51,783 fedbiomed INFO - Round: 0 Node: client_2a34fb5d-7c54-469f-b034-51062b388dc1 - Train Epoch: 1 [3360/60000]\tLoss: 0.348908\n",
      "2021-09-29 14:35:52,523 fedbiomed INFO - Round: 0 Node: client_b1afd615-e4d4-489f-9ded-bd8db8ff2137 - Train Epoch: 1 [3840/60000]\tLoss: 0.479444\n",
      "2021-09-29 14:35:52,687 fedbiomed INFO - Round: 0 Node: client_2a34fb5d-7c54-469f-b034-51062b388dc1 - Train Epoch: 1 [3840/60000]\tLoss: 0.701902\n",
      "2021-09-29 14:35:53,356 fedbiomed INFO - Round: 0 Node: client_b1afd615-e4d4-489f-9ded-bd8db8ff2137 - Train Epoch: 1 [4320/60000]\tLoss: 0.417017\n",
      "2021-09-29 14:35:53,602 fedbiomed INFO - Round: 0 Node: client_2a34fb5d-7c54-469f-b034-51062b388dc1 - Train Epoch: 1 [4320/60000]\tLoss: 0.386190\n",
      "2021-09-29 14:35:54,373 fedbiomed INFO - Round: 0 Node: client_b1afd615-e4d4-489f-9ded-bd8db8ff2137 - Train Epoch: 2 [0/60000]\tLoss: 0.552534\n",
      "2021-09-29 14:35:54,593 fedbiomed INFO - Round: 0 Node: client_2a34fb5d-7c54-469f-b034-51062b388dc1 - Train Epoch: 2 [0/60000]\tLoss: 0.267014\n",
      "2021-09-29 14:35:55,246 fedbiomed INFO - Round: 0 Node: client_b1afd615-e4d4-489f-9ded-bd8db8ff2137 - Train Epoch: 2 [480/60000]\tLoss: 0.418647\n",
      "2021-09-29 14:35:55,508 fedbiomed INFO - Round: 0 Node: client_2a34fb5d-7c54-469f-b034-51062b388dc1 - Train Epoch: 2 [480/60000]\tLoss: 0.165042\n",
      "2021-09-29 14:35:56,132 fedbiomed INFO - Round: 0 Node: client_b1afd615-e4d4-489f-9ded-bd8db8ff2137 - Train Epoch: 2 [960/60000]\tLoss: 0.354008\n",
      "2021-09-29 14:35:56,358 fedbiomed INFO - Round: 0 Node: client_2a34fb5d-7c54-469f-b034-51062b388dc1 - Train Epoch: 2 [960/60000]\tLoss: 0.402377\n",
      "2021-09-29 14:35:56,975 fedbiomed INFO - Round: 0 Node: client_b1afd615-e4d4-489f-9ded-bd8db8ff2137 - Train Epoch: 2 [1440/60000]\tLoss: 0.114305\n",
      "2021-09-29 14:35:57,248 fedbiomed INFO - Round: 0 Node: client_2a34fb5d-7c54-469f-b034-51062b388dc1 - Train Epoch: 2 [1440/60000]\tLoss: 0.172527\n",
      "2021-09-29 14:35:57,787 fedbiomed INFO - Round: 0 Node: client_b1afd615-e4d4-489f-9ded-bd8db8ff2137 - Train Epoch: 2 [1920/60000]\tLoss: 0.210084\n",
      "2021-09-29 14:35:58,162 fedbiomed INFO - Round: 0 Node: client_2a34fb5d-7c54-469f-b034-51062b388dc1 - Train Epoch: 2 [1920/60000]\tLoss: 0.217928\n",
      "2021-09-29 14:35:58,676 fedbiomed INFO - Round: 0 Node: client_b1afd615-e4d4-489f-9ded-bd8db8ff2137 - Train Epoch: 2 [2400/60000]\tLoss: 0.177469\n",
      "2021-09-29 14:35:59,043 fedbiomed INFO - Round: 0 Node: client_2a34fb5d-7c54-469f-b034-51062b388dc1 - Train Epoch: 2 [2400/60000]\tLoss: 0.122838\n",
      "2021-09-29 14:35:59,515 fedbiomed INFO - Round: 0 Node: client_b1afd615-e4d4-489f-9ded-bd8db8ff2137 - Train Epoch: 2 [2880/60000]\tLoss: 0.214519\n",
      "2021-09-29 14:35:59,968 fedbiomed INFO - Round: 0 Node: client_2a34fb5d-7c54-469f-b034-51062b388dc1 - Train Epoch: 2 [2880/60000]\tLoss: 0.112868\n",
      "2021-09-29 14:36:00,442 fedbiomed INFO - Round: 0 Node: client_b1afd615-e4d4-489f-9ded-bd8db8ff2137 - Train Epoch: 2 [3360/60000]\tLoss: 0.132654\n",
      "2021-09-29 14:36:00,795 fedbiomed INFO - Round: 0 Node: client_2a34fb5d-7c54-469f-b034-51062b388dc1 - Train Epoch: 2 [3360/60000]\tLoss: 0.571585\n",
      "2021-09-29 14:36:01,344 fedbiomed INFO - Round: 0 Node: client_b1afd615-e4d4-489f-9ded-bd8db8ff2137 - Train Epoch: 2 [3840/60000]\tLoss: 0.309163\n",
      "2021-09-29 14:36:01,665 fedbiomed INFO - Round: 0 Node: client_2a34fb5d-7c54-469f-b034-51062b388dc1 - Train Epoch: 2 [3840/60000]\tLoss: 0.359665\n",
      "2021-09-29 14:36:02,197 fedbiomed INFO - Round: 0 Node: client_b1afd615-e4d4-489f-9ded-bd8db8ff2137 - Train Epoch: 2 [4320/60000]\tLoss: 0.318162\n",
      "2021-09-29 14:36:02,531 fedbiomed INFO - Round: 0 Node: client_2a34fb5d-7c54-469f-b034-51062b388dc1 - Train Epoch: 2 [4320/60000]\tLoss: 0.133156\n",
      "2021-09-29 14:36:03,243 fedbiomed INFO - message received:{'researcher_id': 'researcher_46a0da2b-2e99-4316-b964-b467d343432b', 'job_id': 'aeaa9bd6-c70d-4621-b089-a0f806204882', 'success': True, 'client_id': 'client_b1afd615-e4d4-489f-9ded-bd8db8ff2137', 'dataset_id': 'dataset_da9a5db6-9dda-475e-b920-43f8d1f54377', 'params_url': 'http://localhost:8844/media/uploads/2021/09/29/node_params_e70eefa2-e4d7-4ff0-8bc8-c2ff1e565c2c.pt', 'timing': {'rtime_training': 19.308376024011523, 'ptime_training': 68.84873480399983}, 'msg': '', 'command': 'train'}\n",
      "2021-09-29 14:36:03,469 fedbiomed INFO - message received:{'researcher_id': 'researcher_46a0da2b-2e99-4316-b964-b467d343432b', 'job_id': 'aeaa9bd6-c70d-4621-b089-a0f806204882', 'success': True, 'client_id': 'client_2a34fb5d-7c54-469f-b034-51062b388dc1', 'dataset_id': 'dataset_655ec19c-3a4c-4b23-9e39-c91deba0a3e3', 'params_url': 'http://localhost:8844/media/uploads/2021/09/29/node_params_232f9b90-b429-41b7-addd-f5245f75c11d.pt', 'timing': {'rtime_training': 19.532134091015905, 'ptime_training': 70.15441454499978}, 'msg': '', 'command': 'train'}\n",
      "2021-09-29 14:36:09,351 fedbiomed INFO - Round: 0 Node: client_b1afd615-e4d4-489f-9ded-bd8db8ff2137 - Train Epoch: 1 [0/60000]\tLoss: 0.293546\n",
      "2021-09-29 14:36:09,614 fedbiomed INFO - Round: 0 Node: client_2a34fb5d-7c54-469f-b034-51062b388dc1 - Train Epoch: 1 [0/60000]\tLoss: 0.319062\n",
      "2021-09-29 14:36:11,530 fedbiomed INFO - Round: 0 Node: client_2a34fb5d-7c54-469f-b034-51062b388dc1 - Train Epoch: 1 [480/60000]\tLoss: 0.291952\n",
      "2021-09-29 14:36:11,953 fedbiomed INFO - Round: 0 Node: client_b1afd615-e4d4-489f-9ded-bd8db8ff2137 - Train Epoch: 1 [480/60000]\tLoss: 0.151361\n",
      "2021-09-29 14:36:12,808 fedbiomed INFO - Round: 0 Node: client_b1afd615-e4d4-489f-9ded-bd8db8ff2137 - Train Epoch: 1 [960/60000]\tLoss: 0.258584\n",
      "2021-09-29 14:36:12,823 fedbiomed INFO - Round: 0 Node: client_2a34fb5d-7c54-469f-b034-51062b388dc1 - Train Epoch: 1 [960/60000]\tLoss: 0.127452\n",
      "2021-09-29 14:36:13,596 fedbiomed INFO - Round: 0 Node: client_2a34fb5d-7c54-469f-b034-51062b388dc1 - Train Epoch: 1 [1440/60000]\tLoss: 0.332851\n"
     ]
    },
    {
     "name": "stderr",
     "output_type": "stream",
     "text": [
      "2021-09-29 14:36:13,760 fedbiomed INFO - Round: 0 Node: client_b1afd615-e4d4-489f-9ded-bd8db8ff2137 - Train Epoch: 1 [1440/60000]\tLoss: 0.158115\n",
      "2021-09-29 14:36:14,455 fedbiomed INFO - Round: 0 Node: client_2a34fb5d-7c54-469f-b034-51062b388dc1 - Train Epoch: 1 [1920/60000]\tLoss: 0.095185\n",
      "2021-09-29 14:36:14,679 fedbiomed INFO - Round: 0 Node: client_b1afd615-e4d4-489f-9ded-bd8db8ff2137 - Train Epoch: 1 [1920/60000]\tLoss: 0.163130\n",
      "2021-09-29 14:36:15,335 fedbiomed INFO - Round: 0 Node: client_2a34fb5d-7c54-469f-b034-51062b388dc1 - Train Epoch: 1 [2400/60000]\tLoss: 0.148225\n",
      "2021-09-29 14:36:15,594 fedbiomed INFO - Round: 0 Node: client_b1afd615-e4d4-489f-9ded-bd8db8ff2137 - Train Epoch: 1 [2400/60000]\tLoss: 0.136248\n",
      "2021-09-29 14:36:16,173 fedbiomed INFO - Round: 0 Node: client_2a34fb5d-7c54-469f-b034-51062b388dc1 - Train Epoch: 1 [2880/60000]\tLoss: 0.129917\n",
      "2021-09-29 14:36:16,472 fedbiomed INFO - Round: 0 Node: client_b1afd615-e4d4-489f-9ded-bd8db8ff2137 - Train Epoch: 1 [2880/60000]\tLoss: 0.040073\n",
      "2021-09-29 14:36:17,063 fedbiomed INFO - Round: 0 Node: client_2a34fb5d-7c54-469f-b034-51062b388dc1 - Train Epoch: 1 [3360/60000]\tLoss: 0.121537\n",
      "2021-09-29 14:36:17,329 fedbiomed INFO - Round: 0 Node: client_b1afd615-e4d4-489f-9ded-bd8db8ff2137 - Train Epoch: 1 [3360/60000]\tLoss: 0.095503\n",
      "2021-09-29 14:36:17,921 fedbiomed INFO - Round: 0 Node: client_2a34fb5d-7c54-469f-b034-51062b388dc1 - Train Epoch: 1 [3840/60000]\tLoss: 0.246904\n",
      "2021-09-29 14:36:18,231 fedbiomed INFO - Round: 0 Node: client_b1afd615-e4d4-489f-9ded-bd8db8ff2137 - Train Epoch: 1 [3840/60000]\tLoss: 0.109323\n",
      "2021-09-29 14:36:18,747 fedbiomed INFO - Round: 0 Node: client_2a34fb5d-7c54-469f-b034-51062b388dc1 - Train Epoch: 1 [4320/60000]\tLoss: 0.235113\n",
      "2021-09-29 14:36:19,368 fedbiomed INFO - Round: 0 Node: client_b1afd615-e4d4-489f-9ded-bd8db8ff2137 - Train Epoch: 1 [4320/60000]\tLoss: 0.142856\n",
      "2021-09-29 14:36:19,653 fedbiomed INFO - Round: 0 Node: client_2a34fb5d-7c54-469f-b034-51062b388dc1 - Train Epoch: 2 [0/60000]\tLoss: 0.302281\n",
      "2021-09-29 14:36:20,447 fedbiomed INFO - Round: 0 Node: client_b1afd615-e4d4-489f-9ded-bd8db8ff2137 - Train Epoch: 2 [0/60000]\tLoss: 0.191421\n",
      "2021-09-29 14:36:20,559 fedbiomed INFO - Round: 0 Node: client_2a34fb5d-7c54-469f-b034-51062b388dc1 - Train Epoch: 2 [480/60000]\tLoss: 0.116925\n",
      "2021-09-29 14:36:21,285 fedbiomed INFO - Round: 0 Node: client_b1afd615-e4d4-489f-9ded-bd8db8ff2137 - Train Epoch: 2 [480/60000]\tLoss: 0.111709\n",
      "2021-09-29 14:36:21,456 fedbiomed INFO - Round: 0 Node: client_2a34fb5d-7c54-469f-b034-51062b388dc1 - Train Epoch: 2 [960/60000]\tLoss: 0.146902\n",
      "2021-09-29 14:36:22,133 fedbiomed INFO - Round: 0 Node: client_b1afd615-e4d4-489f-9ded-bd8db8ff2137 - Train Epoch: 2 [960/60000]\tLoss: 0.128783\n",
      "2021-09-29 14:36:22,340 fedbiomed INFO - Round: 0 Node: client_2a34fb5d-7c54-469f-b034-51062b388dc1 - Train Epoch: 2 [1440/60000]\tLoss: 0.330665\n",
      "2021-09-29 14:36:22,993 fedbiomed INFO - Round: 0 Node: client_b1afd615-e4d4-489f-9ded-bd8db8ff2137 - Train Epoch: 2 [1440/60000]\tLoss: 0.071434\n",
      "2021-09-29 14:36:23,243 fedbiomed INFO - Round: 0 Node: client_2a34fb5d-7c54-469f-b034-51062b388dc1 - Train Epoch: 2 [1920/60000]\tLoss: 0.122817\n",
      "2021-09-29 14:36:23,836 fedbiomed INFO - Round: 0 Node: client_b1afd615-e4d4-489f-9ded-bd8db8ff2137 - Train Epoch: 2 [1920/60000]\tLoss: 0.192696\n",
      "2021-09-29 14:36:24,126 fedbiomed INFO - Round: 0 Node: client_2a34fb5d-7c54-469f-b034-51062b388dc1 - Train Epoch: 2 [2400/60000]\tLoss: 0.103458\n",
      "2021-09-29 14:36:24,801 fedbiomed INFO - Round: 0 Node: client_b1afd615-e4d4-489f-9ded-bd8db8ff2137 - Train Epoch: 2 [2400/60000]\tLoss: 0.048132\n",
      "2021-09-29 14:36:25,029 fedbiomed INFO - Round: 0 Node: client_2a34fb5d-7c54-469f-b034-51062b388dc1 - Train Epoch: 2 [2880/60000]\tLoss: 0.098279\n",
      "2021-09-29 14:36:25,787 fedbiomed INFO - Round: 0 Node: client_b1afd615-e4d4-489f-9ded-bd8db8ff2137 - Train Epoch: 2 [2880/60000]\tLoss: 0.094997\n",
      "2021-09-29 14:36:26,047 fedbiomed INFO - Round: 0 Node: client_2a34fb5d-7c54-469f-b034-51062b388dc1 - Train Epoch: 2 [3360/60000]\tLoss: 0.319637\n",
      "2021-09-29 14:36:26,795 fedbiomed INFO - Round: 0 Node: client_b1afd615-e4d4-489f-9ded-bd8db8ff2137 - Train Epoch: 2 [3360/60000]\tLoss: 0.097746\n",
      "2021-09-29 14:36:26,970 fedbiomed INFO - Round: 0 Node: client_2a34fb5d-7c54-469f-b034-51062b388dc1 - Train Epoch: 2 [3840/60000]\tLoss: 0.180120\n",
      "2021-09-29 14:36:27,727 fedbiomed INFO - Round: 0 Node: client_b1afd615-e4d4-489f-9ded-bd8db8ff2137 - Train Epoch: 2 [3840/60000]\tLoss: 0.147795\n",
      "2021-09-29 14:36:27,959 fedbiomed INFO - Round: 0 Node: client_2a34fb5d-7c54-469f-b034-51062b388dc1 - Train Epoch: 2 [4320/60000]\tLoss: 0.133660\n",
      "2021-09-29 14:36:28,673 fedbiomed INFO - Round: 0 Node: client_b1afd615-e4d4-489f-9ded-bd8db8ff2137 - Train Epoch: 2 [4320/60000]\tLoss: 0.022861\n",
      "2021-09-29 14:36:29,194 fedbiomed INFO - message received:{'researcher_id': 'researcher_46a0da2b-2e99-4316-b964-b467d343432b', 'job_id': 'aeaa9bd6-c70d-4621-b089-a0f806204882', 'success': True, 'client_id': 'client_2a34fb5d-7c54-469f-b034-51062b388dc1', 'dataset_id': 'dataset_655ec19c-3a4c-4b23-9e39-c91deba0a3e3', 'params_url': 'http://localhost:8844/media/uploads/2021/09/29/node_params_3d8a54d7-f1f8-430b-884c-b1ab9def5cee.pt', 'timing': {'rtime_training': 19.801369686960243, 'ptime_training': 70.90416072300013}, 'msg': '', 'command': 'train'}\n",
      "2021-09-29 14:36:29,652 fedbiomed INFO - message received:{'researcher_id': 'researcher_46a0da2b-2e99-4316-b964-b467d343432b', 'job_id': 'aeaa9bd6-c70d-4621-b089-a0f806204882', 'success': True, 'client_id': 'client_b1afd615-e4d4-489f-9ded-bd8db8ff2137', 'dataset_id': 'dataset_da9a5db6-9dda-475e-b920-43f8d1f54377', 'params_url': 'http://localhost:8844/media/uploads/2021/09/29/node_params_a9974366-95cb-4630-812e-41467c43ba32.pt', 'timing': {'rtime_training': 20.284015064011328, 'ptime_training': 72.80245149799975}, 'msg': '', 'command': 'train'}\n",
      "2021-09-29 14:36:39,870 fedbiomed INFO - Round: 0 Node: client_b1afd615-e4d4-489f-9ded-bd8db8ff2137 - Train Epoch: 1 [0/60000]\tLoss: 0.187751\n",
      "2021-09-29 14:36:40,259 fedbiomed INFO - Round: 0 Node: client_2a34fb5d-7c54-469f-b034-51062b388dc1 - Train Epoch: 1 [0/60000]\tLoss: 0.175436\n",
      "2021-09-29 14:36:44,500 fedbiomed INFO - Round: 0 Node: client_b1afd615-e4d4-489f-9ded-bd8db8ff2137 - Train Epoch: 1 [480/60000]\tLoss: 0.175927\n",
      "2021-09-29 14:36:44,641 fedbiomed INFO - Round: 0 Node: client_2a34fb5d-7c54-469f-b034-51062b388dc1 - Train Epoch: 1 [480/60000]\tLoss: 0.059129\n",
      "2021-09-29 14:36:45,433 fedbiomed INFO - Round: 0 Node: client_b1afd615-e4d4-489f-9ded-bd8db8ff2137 - Train Epoch: 1 [960/60000]\tLoss: 0.046844\n",
      "2021-09-29 14:36:45,449 fedbiomed INFO - Round: 0 Node: client_2a34fb5d-7c54-469f-b034-51062b388dc1 - Train Epoch: 1 [960/60000]\tLoss: 0.137996\n",
      "2021-09-29 14:36:46,271 fedbiomed INFO - Round: 0 Node: client_b1afd615-e4d4-489f-9ded-bd8db8ff2137 - Train Epoch: 1 [1440/60000]\tLoss: 0.089287\n",
      "2021-09-29 14:36:46,285 fedbiomed INFO - Round: 0 Node: client_2a34fb5d-7c54-469f-b034-51062b388dc1 - Train Epoch: 1 [1440/60000]\tLoss: 0.072601\n",
      "2021-09-29 14:36:47,208 fedbiomed INFO - Round: 0 Node: client_2a34fb5d-7c54-469f-b034-51062b388dc1 - Train Epoch: 1 [1920/60000]\tLoss: 0.070853\n",
      "2021-09-29 14:36:47,588 fedbiomed INFO - Round: 0 Node: client_b1afd615-e4d4-489f-9ded-bd8db8ff2137 - Train Epoch: 1 [1920/60000]\tLoss: 0.225716\n",
      "2021-09-29 14:36:48,234 fedbiomed INFO - Round: 0 Node: client_2a34fb5d-7c54-469f-b034-51062b388dc1 - Train Epoch: 1 [2400/60000]\tLoss: 0.068159\n",
      "2021-09-29 14:36:48,392 fedbiomed INFO - Round: 0 Node: client_b1afd615-e4d4-489f-9ded-bd8db8ff2137 - Train Epoch: 1 [2400/60000]\tLoss: 0.098145\n",
      "2021-09-29 14:36:48,986 fedbiomed INFO - Round: 0 Node: client_2a34fb5d-7c54-469f-b034-51062b388dc1 - Train Epoch: 1 [2880/60000]\tLoss: 0.173654\n",
      "2021-09-29 14:36:49,193 fedbiomed INFO - Round: 0 Node: client_b1afd615-e4d4-489f-9ded-bd8db8ff2137 - Train Epoch: 1 [2880/60000]\tLoss: 0.083397\n",
      "2021-09-29 14:36:49,784 fedbiomed INFO - Round: 0 Node: client_2a34fb5d-7c54-469f-b034-51062b388dc1 - Train Epoch: 1 [3360/60000]\tLoss: 0.116270\n",
      "2021-09-29 14:36:50,006 fedbiomed INFO - Round: 0 Node: client_b1afd615-e4d4-489f-9ded-bd8db8ff2137 - Train Epoch: 1 [3360/60000]\tLoss: 0.039790\n",
      "2021-09-29 14:36:50,783 fedbiomed INFO - Round: 0 Node: client_2a34fb5d-7c54-469f-b034-51062b388dc1 - Train Epoch: 1 [3840/60000]\tLoss: 0.086084\n"
     ]
    },
    {
     "name": "stderr",
     "output_type": "stream",
     "text": [
      "2021-09-29 14:36:51,709 fedbiomed INFO - Round: 0 Node: client_b1afd615-e4d4-489f-9ded-bd8db8ff2137 - Train Epoch: 1 [3840/60000]\tLoss: 0.289804\n",
      "2021-09-29 14:36:51,902 fedbiomed INFO - Round: 0 Node: client_2a34fb5d-7c54-469f-b034-51062b388dc1 - Train Epoch: 1 [4320/60000]\tLoss: 0.024883\n",
      "2021-09-29 14:36:52,661 fedbiomed INFO - Round: 0 Node: client_b1afd615-e4d4-489f-9ded-bd8db8ff2137 - Train Epoch: 1 [4320/60000]\tLoss: 0.244866\n",
      "2021-09-29 14:36:52,929 fedbiomed INFO - Round: 0 Node: client_2a34fb5d-7c54-469f-b034-51062b388dc1 - Train Epoch: 2 [0/60000]\tLoss: 0.056463\n",
      "2021-09-29 14:36:53,857 fedbiomed INFO - Round: 0 Node: client_b1afd615-e4d4-489f-9ded-bd8db8ff2137 - Train Epoch: 2 [0/60000]\tLoss: 0.080561\n",
      "2021-09-29 14:36:53,984 fedbiomed INFO - Round: 0 Node: client_2a34fb5d-7c54-469f-b034-51062b388dc1 - Train Epoch: 2 [480/60000]\tLoss: 0.040271\n",
      "2021-09-29 14:36:55,184 fedbiomed INFO - Round: 0 Node: client_b1afd615-e4d4-489f-9ded-bd8db8ff2137 - Train Epoch: 2 [480/60000]\tLoss: 0.053147\n",
      "2021-09-29 14:36:55,387 fedbiomed INFO - Round: 0 Node: client_2a34fb5d-7c54-469f-b034-51062b388dc1 - Train Epoch: 2 [960/60000]\tLoss: 0.067105\n",
      "2021-09-29 14:36:56,283 fedbiomed INFO - Round: 0 Node: client_b1afd615-e4d4-489f-9ded-bd8db8ff2137 - Train Epoch: 2 [960/60000]\tLoss: 0.043076\n",
      "2021-09-29 14:36:56,431 fedbiomed INFO - Round: 0 Node: client_2a34fb5d-7c54-469f-b034-51062b388dc1 - Train Epoch: 2 [1440/60000]\tLoss: 0.074467\n",
      "2021-09-29 14:36:57,203 fedbiomed INFO - Round: 0 Node: client_b1afd615-e4d4-489f-9ded-bd8db8ff2137 - Train Epoch: 2 [1440/60000]\tLoss: 0.157129\n",
      "2021-09-29 14:36:57,320 fedbiomed INFO - Round: 0 Node: client_2a34fb5d-7c54-469f-b034-51062b388dc1 - Train Epoch: 2 [1920/60000]\tLoss: 0.177122\n",
      "2021-09-29 14:36:58,125 fedbiomed INFO - Round: 0 Node: client_b1afd615-e4d4-489f-9ded-bd8db8ff2137 - Train Epoch: 2 [1920/60000]\tLoss: 0.158900\n",
      "2021-09-29 14:36:58,173 fedbiomed INFO - Round: 0 Node: client_2a34fb5d-7c54-469f-b034-51062b388dc1 - Train Epoch: 2 [2400/60000]\tLoss: 0.103307\n",
      "2021-09-29 14:36:58,968 fedbiomed INFO - Round: 0 Node: client_b1afd615-e4d4-489f-9ded-bd8db8ff2137 - Train Epoch: 2 [2400/60000]\tLoss: 0.109976\n",
      "2021-09-29 14:36:58,996 fedbiomed INFO - Round: 0 Node: client_2a34fb5d-7c54-469f-b034-51062b388dc1 - Train Epoch: 2 [2880/60000]\tLoss: 0.026377\n",
      "2021-09-29 14:36:59,827 fedbiomed INFO - Round: 0 Node: client_2a34fb5d-7c54-469f-b034-51062b388dc1 - Train Epoch: 2 [3360/60000]\tLoss: 0.186886\n",
      "2021-09-29 14:36:59,831 fedbiomed INFO - Round: 0 Node: client_b1afd615-e4d4-489f-9ded-bd8db8ff2137 - Train Epoch: 2 [2880/60000]\tLoss: 0.041403\n",
      "2021-09-29 14:37:00,707 fedbiomed INFO - Round: 0 Node: client_2a34fb5d-7c54-469f-b034-51062b388dc1 - Train Epoch: 2 [3840/60000]\tLoss: 0.046715\n",
      "2021-09-29 14:37:00,774 fedbiomed INFO - Round: 0 Node: client_b1afd615-e4d4-489f-9ded-bd8db8ff2137 - Train Epoch: 2 [3360/60000]\tLoss: 0.053135\n",
      "2021-09-29 14:37:01,539 fedbiomed INFO - Round: 0 Node: client_2a34fb5d-7c54-469f-b034-51062b388dc1 - Train Epoch: 2 [4320/60000]\tLoss: 0.036198\n",
      "2021-09-29 14:37:01,620 fedbiomed INFO - Round: 0 Node: client_b1afd615-e4d4-489f-9ded-bd8db8ff2137 - Train Epoch: 2 [3840/60000]\tLoss: 0.113521\n",
      "2021-09-29 14:37:02,448 fedbiomed INFO - Round: 0 Node: client_b1afd615-e4d4-489f-9ded-bd8db8ff2137 - Train Epoch: 2 [4320/60000]\tLoss: 0.008752\n",
      "2021-09-29 14:37:02,638 fedbiomed INFO - message received:{'researcher_id': 'researcher_46a0da2b-2e99-4316-b964-b467d343432b', 'job_id': 'aeaa9bd6-c70d-4621-b089-a0f806204882', 'success': True, 'client_id': 'client_2a34fb5d-7c54-469f-b034-51062b388dc1', 'dataset_id': 'dataset_655ec19c-3a4c-4b23-9e39-c91deba0a3e3', 'params_url': 'http://localhost:8844/media/uploads/2021/09/29/node_params_897de29e-6573-427a-b24e-baf364034379.pt', 'timing': {'rtime_training': 22.84757316694595, 'ptime_training': 76.00254020800003}, 'msg': '', 'command': 'train'}\n",
      "2021-09-29 14:37:03,269 fedbiomed INFO - message received:{'researcher_id': 'researcher_46a0da2b-2e99-4316-b964-b467d343432b', 'job_id': 'aeaa9bd6-c70d-4621-b089-a0f806204882', 'success': True, 'client_id': 'client_b1afd615-e4d4-489f-9ded-bd8db8ff2137', 'dataset_id': 'dataset_da9a5db6-9dda-475e-b920-43f8d1f54377', 'params_url': 'http://localhost:8844/media/uploads/2021/09/29/node_params_db9dc7bb-41ba-4f4e-97a7-1e1a479238c1.pt', 'timing': {'rtime_training': 23.470463840989396, 'ptime_training': 76.99981225800002}, 'msg': '', 'command': 'train'}\n",
      "2021-09-29 14:37:09,951 fedbiomed INFO - Round: 0 Node: client_b1afd615-e4d4-489f-9ded-bd8db8ff2137 - Train Epoch: 1 [0/60000]\tLoss: 0.144964\n",
      "2021-09-29 14:37:10,025 fedbiomed INFO - Round: 0 Node: client_2a34fb5d-7c54-469f-b034-51062b388dc1 - Train Epoch: 1 [0/60000]\tLoss: 0.068692\n",
      "2021-09-29 14:37:11,893 fedbiomed INFO - Round: 0 Node: client_2a34fb5d-7c54-469f-b034-51062b388dc1 - Train Epoch: 1 [480/60000]\tLoss: 0.146881\n",
      "2021-09-29 14:37:12,246 fedbiomed INFO - Round: 0 Node: client_b1afd615-e4d4-489f-9ded-bd8db8ff2137 - Train Epoch: 1 [480/60000]\tLoss: 0.137363\n",
      "2021-09-29 14:37:13,502 fedbiomed INFO - Round: 0 Node: client_2a34fb5d-7c54-469f-b034-51062b388dc1 - Train Epoch: 1 [960/60000]\tLoss: 0.035735\n",
      "2021-09-29 14:37:13,802 fedbiomed INFO - Round: 0 Node: client_b1afd615-e4d4-489f-9ded-bd8db8ff2137 - Train Epoch: 1 [960/60000]\tLoss: 0.034865\n",
      "2021-09-29 14:37:14,708 fedbiomed INFO - Round: 0 Node: client_b1afd615-e4d4-489f-9ded-bd8db8ff2137 - Train Epoch: 1 [1440/60000]\tLoss: 0.051828\n",
      "2021-09-29 14:37:14,972 fedbiomed INFO - Round: 0 Node: client_2a34fb5d-7c54-469f-b034-51062b388dc1 - Train Epoch: 1 [1440/60000]\tLoss: 0.031910\n",
      "2021-09-29 14:37:15,638 fedbiomed INFO - Round: 0 Node: client_b1afd615-e4d4-489f-9ded-bd8db8ff2137 - Train Epoch: 1 [1920/60000]\tLoss: 0.080665\n",
      "2021-09-29 14:37:16,165 fedbiomed INFO - Round: 0 Node: client_2a34fb5d-7c54-469f-b034-51062b388dc1 - Train Epoch: 1 [1920/60000]\tLoss: 0.048569\n",
      "2021-09-29 14:37:16,735 fedbiomed INFO - Round: 0 Node: client_b1afd615-e4d4-489f-9ded-bd8db8ff2137 - Train Epoch: 1 [2400/60000]\tLoss: 0.244766\n",
      "2021-09-29 14:37:17,122 fedbiomed INFO - Round: 0 Node: client_2a34fb5d-7c54-469f-b034-51062b388dc1 - Train Epoch: 1 [2400/60000]\tLoss: 0.155881\n",
      "2021-09-29 14:37:17,871 fedbiomed INFO - Round: 0 Node: client_b1afd615-e4d4-489f-9ded-bd8db8ff2137 - Train Epoch: 1 [2880/60000]\tLoss: 0.083348\n",
      "2021-09-29 14:37:18,291 fedbiomed INFO - Round: 0 Node: client_2a34fb5d-7c54-469f-b034-51062b388dc1 - Train Epoch: 1 [2880/60000]\tLoss: 0.071653\n",
      "2021-09-29 14:37:18,835 fedbiomed INFO - Round: 0 Node: client_b1afd615-e4d4-489f-9ded-bd8db8ff2137 - Train Epoch: 1 [3360/60000]\tLoss: 0.065322\n",
      "2021-09-29 14:37:19,195 fedbiomed INFO - Round: 0 Node: client_2a34fb5d-7c54-469f-b034-51062b388dc1 - Train Epoch: 1 [3360/60000]\tLoss: 0.118241\n",
      "2021-09-29 14:37:19,862 fedbiomed INFO - Round: 0 Node: client_b1afd615-e4d4-489f-9ded-bd8db8ff2137 - Train Epoch: 1 [3840/60000]\tLoss: 0.084211\n",
      "2021-09-29 14:37:20,099 fedbiomed INFO - Round: 0 Node: client_2a34fb5d-7c54-469f-b034-51062b388dc1 - Train Epoch: 1 [3840/60000]\tLoss: 0.338650\n",
      "2021-09-29 14:37:20,765 fedbiomed INFO - Round: 0 Node: client_b1afd615-e4d4-489f-9ded-bd8db8ff2137 - Train Epoch: 1 [4320/60000]\tLoss: 0.273116\n",
      "2021-09-29 14:37:21,088 fedbiomed INFO - Round: 0 Node: client_2a34fb5d-7c54-469f-b034-51062b388dc1 - Train Epoch: 1 [4320/60000]\tLoss: 0.349364\n",
      "2021-09-29 14:37:21,824 fedbiomed INFO - Round: 0 Node: client_b1afd615-e4d4-489f-9ded-bd8db8ff2137 - Train Epoch: 2 [0/60000]\tLoss: 0.048080\n",
      "2021-09-29 14:37:22,095 fedbiomed INFO - Round: 0 Node: client_2a34fb5d-7c54-469f-b034-51062b388dc1 - Train Epoch: 2 [0/60000]\tLoss: 0.147103\n",
      "2021-09-29 14:37:22,778 fedbiomed INFO - Round: 0 Node: client_b1afd615-e4d4-489f-9ded-bd8db8ff2137 - Train Epoch: 2 [480/60000]\tLoss: 0.054579\n",
      "2021-09-29 14:37:23,066 fedbiomed INFO - Round: 0 Node: client_2a34fb5d-7c54-469f-b034-51062b388dc1 - Train Epoch: 2 [480/60000]\tLoss: 0.160364\n",
      "2021-09-29 14:37:23,617 fedbiomed INFO - Round: 0 Node: client_b1afd615-e4d4-489f-9ded-bd8db8ff2137 - Train Epoch: 2 [960/60000]\tLoss: 0.064166\n",
      "2021-09-29 14:37:24,309 fedbiomed INFO - Round: 0 Node: client_2a34fb5d-7c54-469f-b034-51062b388dc1 - Train Epoch: 2 [960/60000]\tLoss: 0.015979\n",
      "2021-09-29 14:37:25,159 fedbiomed INFO - Round: 0 Node: client_b1afd615-e4d4-489f-9ded-bd8db8ff2137 - Train Epoch: 2 [1440/60000]\tLoss: 0.030775\n"
     ]
    },
    {
     "name": "stderr",
     "output_type": "stream",
     "text": [
      "2021-09-29 14:37:25,688 fedbiomed INFO - Round: 0 Node: client_2a34fb5d-7c54-469f-b034-51062b388dc1 - Train Epoch: 2 [1440/60000]\tLoss: 0.089797\n",
      "2021-09-29 14:37:26,198 fedbiomed INFO - Round: 0 Node: client_b1afd615-e4d4-489f-9ded-bd8db8ff2137 - Train Epoch: 2 [1920/60000]\tLoss: 0.059025\n",
      "2021-09-29 14:37:27,283 fedbiomed INFO - Round: 0 Node: client_2a34fb5d-7c54-469f-b034-51062b388dc1 - Train Epoch: 2 [1920/60000]\tLoss: 0.154550\n",
      "2021-09-29 14:37:27,787 fedbiomed INFO - Round: 0 Node: client_b1afd615-e4d4-489f-9ded-bd8db8ff2137 - Train Epoch: 2 [2400/60000]\tLoss: 0.148539\n",
      "2021-09-29 14:37:28,252 fedbiomed INFO - Round: 0 Node: client_2a34fb5d-7c54-469f-b034-51062b388dc1 - Train Epoch: 2 [2400/60000]\tLoss: 0.268975\n",
      "2021-09-29 14:37:28,653 fedbiomed INFO - Round: 0 Node: client_b1afd615-e4d4-489f-9ded-bd8db8ff2137 - Train Epoch: 2 [2880/60000]\tLoss: 0.028786\n",
      "2021-09-29 14:37:29,184 fedbiomed INFO - Round: 0 Node: client_2a34fb5d-7c54-469f-b034-51062b388dc1 - Train Epoch: 2 [2880/60000]\tLoss: 0.089791\n",
      "2021-09-29 14:37:29,718 fedbiomed INFO - Round: 0 Node: client_b1afd615-e4d4-489f-9ded-bd8db8ff2137 - Train Epoch: 2 [3360/60000]\tLoss: 0.095786\n",
      "2021-09-29 14:37:30,110 fedbiomed INFO - Round: 0 Node: client_2a34fb5d-7c54-469f-b034-51062b388dc1 - Train Epoch: 2 [3360/60000]\tLoss: 0.032244\n",
      "2021-09-29 14:37:30,667 fedbiomed INFO - Round: 0 Node: client_b1afd615-e4d4-489f-9ded-bd8db8ff2137 - Train Epoch: 2 [3840/60000]\tLoss: 0.013966\n",
      "2021-09-29 14:37:31,161 fedbiomed INFO - Round: 0 Node: client_2a34fb5d-7c54-469f-b034-51062b388dc1 - Train Epoch: 2 [3840/60000]\tLoss: 0.071124\n",
      "2021-09-29 14:37:31,643 fedbiomed INFO - Round: 0 Node: client_b1afd615-e4d4-489f-9ded-bd8db8ff2137 - Train Epoch: 2 [4320/60000]\tLoss: 0.136529\n",
      "2021-09-29 14:37:33,020 fedbiomed INFO - Round: 0 Node: client_2a34fb5d-7c54-469f-b034-51062b388dc1 - Train Epoch: 2 [4320/60000]\tLoss: 0.037617\n",
      "2021-09-29 14:37:33,410 fedbiomed INFO - message received:{'researcher_id': 'researcher_46a0da2b-2e99-4316-b964-b467d343432b', 'job_id': 'aeaa9bd6-c70d-4621-b089-a0f806204882', 'success': True, 'client_id': 'client_b1afd615-e4d4-489f-9ded-bd8db8ff2137', 'dataset_id': 'dataset_da9a5db6-9dda-475e-b920-43f8d1f54377', 'params_url': 'http://localhost:8844/media/uploads/2021/09/29/node_params_4b80be09-3793-478c-822a-e6fbe242efb5.pt', 'timing': {'rtime_training': 23.367018682067282, 'ptime_training': 80.337143706}, 'msg': '', 'command': 'train'}\n",
      "2021-09-29 14:37:33,861 fedbiomed INFO - message received:{'researcher_id': 'researcher_46a0da2b-2e99-4316-b964-b467d343432b', 'job_id': 'aeaa9bd6-c70d-4621-b089-a0f806204882', 'success': True, 'client_id': 'client_2a34fb5d-7c54-469f-b034-51062b388dc1', 'dataset_id': 'dataset_655ec19c-3a4c-4b23-9e39-c91deba0a3e3', 'params_url': 'http://localhost:8844/media/uploads/2021/09/29/node_params_be61f913-998f-42dd-8b97-42f64141918b.pt', 'timing': {'rtime_training': 23.875391821959056, 'ptime_training': 81.8912845699997}, 'msg': '', 'command': 'train'}\n",
      "2021-09-29 14:37:54,069 fedbiomed INFO - message received:{'researcher_id': 'researcher_46a0da2b-2e99-4316-b964-b467d343432b', 'success': True, 'databases': [{'name': 'MNIST', 'data_type': 'default', 'tags': ['#MNIST', '#dataset'], 'description': 'MNIST database', 'shape': [60000, 1, 28, 28], 'dataset_id': 'dataset_da9a5db6-9dda-475e-b920-43f8d1f54377'}], 'count': 1, 'client_id': 'client_b1afd615-e4d4-489f-9ded-bd8db8ff2137', 'command': 'search'}\n",
      "2021-09-29 14:37:54,071 fedbiomed INFO - message received:{'researcher_id': 'researcher_46a0da2b-2e99-4316-b964-b467d343432b', 'success': True, 'databases': [{'name': 'MNIST', 'data_type': 'default', 'tags': ['#MNIST', '#dataset'], 'description': 'MNIST database', 'shape': [60000, 1, 28, 28], 'dataset_id': 'dataset_655ec19c-3a4c-4b23-9e39-c91deba0a3e3'}], 'count': 1, 'client_id': 'client_2a34fb5d-7c54-469f-b034-51062b388dc1', 'command': 'search'}\n",
      "2021-09-29 14:38:04,451 fedbiomed INFO - Round: 0 Node: client_2a34fb5d-7c54-469f-b034-51062b388dc1 - Train Epoch: 1 [0/60000]\tLoss: 2.295673\n",
      "Exception in thread Thread-12:\n",
      "Traceback (most recent call last):\n",
      "  File \"/user/scansiz/home/anaconda3/envs/fedbiomed-researcher/lib/python3.9/threading.py\", line 973, in _bootstrap_inner\n",
      "    self.run()\n",
      "  File \"/user/scansiz/home/anaconda3/envs/fedbiomed-researcher/lib/python3.9/site-packages/tensorboard/summary/writer/event_file_writer.py\", line 233, in run\n",
      "    self._record_writer.write(data)\n",
      "  File \"/user/scansiz/home/anaconda3/envs/fedbiomed-researcher/lib/python3.9/site-packages/tensorboard/summary/writer/record_writer.py\", line 40, in write\n",
      "    self._writer.write(header + header_crc + data + footer_crc)\n",
      "  File \"/user/scansiz/home/anaconda3/envs/fedbiomed-researcher/lib/python3.9/site-packages/tensorboard/compat/tensorflow_stub/io/gfile.py\", line 519, in write\n",
      "    self.fs.append(self.filename, file_content, self.binary_mode)\n",
      "  File \"/user/scansiz/home/anaconda3/envs/fedbiomed-researcher/lib/python3.9/site-packages/tensorboard/compat/tensorflow_stub/io/gfile.py\", line 150, in append\n",
      "    self._write(filename, file_content, \"ab\" if binary_mode else \"a\")\n",
      "  File \"/user/scansiz/home/anaconda3/envs/fedbiomed-researcher/lib/python3.9/site-packages/tensorboard/compat/tensorflow_stub/io/gfile.py\", line 154, in _write\n",
      "    with io.open(filename, mode, encoding=encoding) as f:\n",
      "FileNotFoundError: [Errno 2] No such file or directory: b'/user/scansiz/home/Desktop/Inria/dev/fedbiomed/var/tmp/tensorboard/Round-1/events.out.tfevents.1632918943.xoaltecuhtli.559490.2'\n",
      "2021-09-29 14:38:04,475 fedbiomed INFO - Round: 0 Node: client_b1afd615-e4d4-489f-9ded-bd8db8ff2137 - Train Epoch: 1 [0/60000]\tLoss: 2.300945\n",
      "2021-09-29 14:38:06,193 fedbiomed INFO - Round: 0 Node: client_b1afd615-e4d4-489f-9ded-bd8db8ff2137 - Train Epoch: 1 [480/60000]\tLoss: 1.224941\n",
      "2021-09-29 14:38:06,605 fedbiomed INFO - Round: 0 Node: client_2a34fb5d-7c54-469f-b034-51062b388dc1 - Train Epoch: 1 [480/60000]\tLoss: 1.488431\n",
      "2021-09-29 14:38:07,453 fedbiomed INFO - Round: 0 Node: client_b1afd615-e4d4-489f-9ded-bd8db8ff2137 - Train Epoch: 1 [960/60000]\tLoss: 0.611439\n",
      "2021-09-29 14:38:07,612 fedbiomed INFO - Round: 0 Node: client_2a34fb5d-7c54-469f-b034-51062b388dc1 - Train Epoch: 1 [960/60000]\tLoss: 0.715031\n",
      "2021-09-29 14:38:08,239 fedbiomed INFO - Round: 0 Node: client_b1afd615-e4d4-489f-9ded-bd8db8ff2137 - Train Epoch: 1 [1440/60000]\tLoss: 0.936932\n",
      "2021-09-29 14:38:08,407 fedbiomed INFO - Round: 0 Node: client_2a34fb5d-7c54-469f-b034-51062b388dc1 - Train Epoch: 1 [1440/60000]\tLoss: 0.756044\n",
      "2021-09-29 14:38:09,221 fedbiomed INFO - Round: 0 Node: client_2a34fb5d-7c54-469f-b034-51062b388dc1 - Train Epoch: 1 [1920/60000]\tLoss: 0.361102\n",
      "2021-09-29 14:38:09,783 fedbiomed INFO - Round: 0 Node: client_b1afd615-e4d4-489f-9ded-bd8db8ff2137 - Train Epoch: 1 [1920/60000]\tLoss: 0.690263\n",
      "2021-09-29 14:38:11,180 fedbiomed INFO - Round: 0 Node: client_2a34fb5d-7c54-469f-b034-51062b388dc1 - Train Epoch: 1 [2400/60000]\tLoss: 0.467488\n",
      "2021-09-29 14:38:11,221 fedbiomed INFO - Round: 0 Node: client_b1afd615-e4d4-489f-9ded-bd8db8ff2137 - Train Epoch: 1 [2400/60000]\tLoss: 0.496185\n",
      "2021-09-29 14:38:31,712 fedbiomed INFO - message received:{'researcher_id': 'researcher_46a0da2b-2e99-4316-b964-b467d343432b', 'job_id': '1d777934-84c2-41d8-98f9-f049b85a99cc', 'success': True, 'client_id': 'client_b1afd615-e4d4-489f-9ded-bd8db8ff2137', 'dataset_id': 'dataset_da9a5db6-9dda-475e-b920-43f8d1f54377', 'params_url': 'http://localhost:8844/media/uploads/2021/09/29/node_params_718391a0-54f6-48e7-a9e2-3c76c348b561.pt', 'timing': {'rtime_training': 27.109074222040363, 'ptime_training': 98.70699999899989}, 'msg': '', 'command': 'train'}\n",
      "2021-09-29 14:38:32,162 fedbiomed INFO - message received:{'researcher_id': 'researcher_46a0da2b-2e99-4316-b964-b467d343432b', 'job_id': '1d777934-84c2-41d8-98f9-f049b85a99cc', 'success': True, 'client_id': 'client_2a34fb5d-7c54-469f-b034-51062b388dc1', 'dataset_id': 'dataset_655ec19c-3a4c-4b23-9e39-c91deba0a3e3', 'params_url': 'http://localhost:8844/media/uploads/2021/09/29/node_params_757a6edd-526a-4588-9fd3-f6a4aab54fb8.pt', 'timing': {'rtime_training': 27.642752167070284, 'ptime_training': 100.01308539799993}, 'msg': '', 'command': 'train'}\n",
      "2021-09-29 14:39:06,040 fedbiomed INFO - message received:{'researcher_id': 'researcher_46a0da2b-2e99-4316-b964-b467d343432b', 'job_id': '1d777934-84c2-41d8-98f9-f049b85a99cc', 'success': True, 'client_id': 'client_b1afd615-e4d4-489f-9ded-bd8db8ff2137', 'dataset_id': 'dataset_da9a5db6-9dda-475e-b920-43f8d1f54377', 'params_url': 'http://localhost:8844/media/uploads/2021/09/29/node_params_19a2d738-5894-4d5b-a5d2-d59dd6aa3b51.pt', 'timing': {'rtime_training': 26.16718114807736, 'ptime_training': 96.8918647569999}, 'msg': '', 'command': 'train'}\n"
     ]
    },
    {
     "name": "stderr",
     "output_type": "stream",
     "text": [
      "2021-09-29 14:39:06,988 fedbiomed INFO - message received:{'researcher_id': 'researcher_46a0da2b-2e99-4316-b964-b467d343432b', 'job_id': '1d777934-84c2-41d8-98f9-f049b85a99cc', 'success': True, 'client_id': 'client_2a34fb5d-7c54-469f-b034-51062b388dc1', 'dataset_id': 'dataset_655ec19c-3a4c-4b23-9e39-c91deba0a3e3', 'params_url': 'http://localhost:8844/media/uploads/2021/09/29/node_params_86900c65-cca7-4c15-b116-baf03b9aeb72.pt', 'timing': {'rtime_training': 27.117097103968263, 'ptime_training': 99.3691229279998}, 'msg': '', 'command': 'train'}\n",
      "2021-09-29 14:39:46,201 fedbiomed INFO - message received:{'researcher_id': 'researcher_46a0da2b-2e99-4316-b964-b467d343432b', 'job_id': '1d777934-84c2-41d8-98f9-f049b85a99cc', 'success': True, 'client_id': 'client_b1afd615-e4d4-489f-9ded-bd8db8ff2137', 'dataset_id': 'dataset_da9a5db6-9dda-475e-b920-43f8d1f54377', 'params_url': 'http://localhost:8844/media/uploads/2021/09/29/node_params_c74b4fe5-c362-4761-ba28-0862b806193b.pt', 'timing': {'rtime_training': 30.956256195087917, 'ptime_training': 111.09148735300005}, 'msg': '', 'command': 'train'}\n",
      "2021-09-29 14:39:46,662 fedbiomed INFO - message received:{'researcher_id': 'researcher_46a0da2b-2e99-4316-b964-b467d343432b', 'job_id': '1d777934-84c2-41d8-98f9-f049b85a99cc', 'success': True, 'client_id': 'client_2a34fb5d-7c54-469f-b034-51062b388dc1', 'dataset_id': 'dataset_655ec19c-3a4c-4b23-9e39-c91deba0a3e3', 'params_url': 'http://localhost:8844/media/uploads/2021/09/29/node_params_8c0956d3-0632-444c-9736-795c2c345272.pt', 'timing': {'rtime_training': 31.49199451005552, 'ptime_training': 112.4571507820001}, 'msg': '', 'command': 'train'}\n"
     ]
    }
   ],
   "source": [
    "exp.run()"
   ]
  },
  {
   "cell_type": "markdown",
   "metadata": {},
   "source": [
    "To display current values please click refresh button on the TensorBoard screen"
   ]
  },
  {
   "cell_type": "code",
   "execution_count": null,
   "metadata": {},
   "outputs": [],
   "source": [
    "%tensorboard --logdir '../var/tmp/tensorboard'"
   ]
  },
  {
   "cell_type": "markdown",
   "metadata": {},
   "source": [
    "Local training results for each round and each node are available in `exp.training_replies` (index 0 to (`rounds` - 1) ).\n",
    "\n",
    "For example you can view the training results for the last round below.\n",
    "\n",
    "Different timings (in seconds) are reported for each dataset of a node participating in a round :\n",
    "- `rtime_training` real time (clock time) spent in the training function on the node\n",
    "- `ptime_training` process time (user and system CPU) spent in the training function on the node\n",
    "- `rtime_total` real time (clock time) spent in the researcher between sending the request and handling the response, at the `Job()` layer"
   ]
  },
  {
   "cell_type": "code",
   "execution_count": null,
   "metadata": {
    "pycharm": {
     "name": "#%%\n"
    },
    "scrolled": true
   },
   "outputs": [],
   "source": [
    "print(\"\\nList the training rounds : \", exp.training_replies.keys())\n",
    "\n",
    "print(\"\\nList the clients for the last training round and their timings : \")\n",
    "round_data = exp.training_replies[rounds - 1].data\n",
    "for c in range(len(round_data)):\n",
    "    print(\"\\t- {id} :\\\n",
    "    \\n\\t\\trtime_training={rtraining:.2f} seconds\\\n",
    "    \\n\\t\\tptime_training={ptraining:.2f} seconds\\\n",
    "    \\n\\t\\trtime_total={rtotal:.2f} seconds\".format(id = round_data[c]['client_id'],\n",
    "        rtraining = round_data[c]['timing']['rtime_training'],\n",
    "        ptraining = round_data[c]['timing']['ptime_training'],\n",
    "        rtotal = round_data[c]['timing']['rtime_total']))\n",
    "print('\\n')\n",
    "    \n",
    "exp.training_replies[rounds - 1].dataframe"
   ]
  },
  {
   "cell_type": "markdown",
   "metadata": {},
   "source": [
    "Federated parameters for each round are available in `exp.aggregated_params` (index 0 to (`rounds` - 1) ).\n",
    "\n",
    "For example you can view the federated parameters for the last round of the experiment :"
   ]
  },
  {
   "cell_type": "code",
   "execution_count": null,
   "metadata": {},
   "outputs": [],
   "source": [
    "print(\"\\nList the training rounds : \", exp.aggregated_params.keys())\n",
    "\n",
    "print(\"\\nAccess the federated params for the last training round :\")\n",
    "print(\"\\t- params_path: \", exp.aggregated_params[rounds - 1]['params_path'])\n",
    "print(\"\\t- parameter data: \", exp.aggregated_params[rounds - 1]['params'].keys())\n"
   ]
  },
  {
   "cell_type": "markdown",
   "metadata": {},
   "source": [
    "## Optional : searching the data"
   ]
  },
  {
   "cell_type": "code",
   "execution_count": null,
   "metadata": {},
   "outputs": [],
   "source": [
    "from fedbiomed.researcher.requests import Requests\n",
    "\n",
    "r = Requests()\n",
    "data = r.search(tags)\n",
    "\n",
    "import pandas as pd\n",
    "for client_id in data.keys():\n",
    "    print('\\n','Data for ', client_id, '\\n\\n', pd.DataFrame(data[client_id]))"
   ]
  },
  {
   "cell_type": "markdown",
   "metadata": {
    "pycharm": {
     "name": "#%% md\n"
    }
   },
   "source": [
    "## Optional : clean file repository (do not run unless necessary)\n",
    "Clean all the files in the repo via the rest API."
   ]
  },
  {
   "cell_type": "code",
   "execution_count": null,
   "metadata": {
    "pycharm": {
     "name": "#%% md\n"
    }
   },
   "outputs": [],
   "source": [
    "# import requests\n",
    "# from fedbiomed.researcher.environ import UPLOADS_URL\n",
    "\n",
    "# uploaded_models = requests.get(UPLOADS_URL).json()\n",
    "# for m in uploaded_models:\n",
    "#   requests.delete(m['url'])"
   ]
  },
  {
   "cell_type": "markdown",
   "metadata": {
    "pycharm": {
     "name": "#%%\n"
    }
   },
   "source": [
    "Feel free to try your own models :D"
   ]
  }
 ],
 "metadata": {
  "kernelspec": {
   "display_name": "Python 3 (ipykernel)",
   "language": "python",
   "name": "python3"
  },
  "language_info": {
   "codemirror_mode": {
    "name": "ipython",
    "version": 3
   },
   "file_extension": ".py",
   "mimetype": "text/x-python",
   "name": "python",
   "nbconvert_exporter": "python",
   "pygments_lexer": "ipython3",
   "version": "3.9.7"
  }
 },
 "nbformat": 4,
 "nbformat_minor": 1
}

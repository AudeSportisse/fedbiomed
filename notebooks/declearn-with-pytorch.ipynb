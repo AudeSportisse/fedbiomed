{
 "cells": [
  {
   "cell_type": "markdown",
   "metadata": {},
   "source": [
    "# Fed-BioMed Researcher base example"
   ]
  },
  {
   "cell_type": "markdown",
   "metadata": {},
   "source": [
    "Use for developing (autoreloads changes made across packages)"
   ]
  },
  {
   "cell_type": "code",
   "execution_count": null,
   "metadata": {},
   "outputs": [],
   "source": [
    "%load_ext autoreload\n",
    "%autoreload 2"
   ]
  },
  {
   "cell_type": "markdown",
   "metadata": {},
   "source": [
    "## Start the network\n",
    "Before running this notebook, start the network with `./scripts/fedbiomed_run network`"
   ]
  },
  {
   "cell_type": "markdown",
   "metadata": {},
   "source": [
    "## Setting the node up\n",
    "It is necessary to previously configure a node:\n",
    "1. `./scripts/fedbiomed_run node add`\n",
    "  * Select option 2 (default) to add MNIST to the node\n",
    "  * Confirm default tags by hitting \"y\" and ENTER\n",
    "  * Pick the folder where MNIST is downloaded (this is due to a pytorch issue https://github.com/pytorch/vision/issues/3549)\n",
    "  * Data must have been added (if you get a warning saying that data must be unique is because it's been already added)\n",
    "  \n",
    "2. Check that your data has been added by executing `./scripts/fedbiomed_run node list`\n",
    "3. Run the node using `./scripts/fedbiomed_run node start`. Wait until you get `Starting task manager`. it means you are online."
   ]
  },
  {
   "cell_type": "markdown",
   "metadata": {},
   "source": [
    "## Define an experiment model and parameters\""
   ]
  },
  {
   "cell_type": "markdown",
   "metadata": {},
   "source": [
    "Declare a torch training plan MyTrainingPlan class to send for training on the node"
   ]
  },
  {
   "cell_type": "code",
   "execution_count": 1,
   "metadata": {},
   "outputs": [],
   "source": [
    "import torch\n",
    "import torch.nn as nn\n",
    "from fedbiomed.common.training_plans import TorchTrainingPlan\n",
    "from fedbiomed.common.data import DataManager\n",
    "from torchvision import datasets, transforms\n",
    "from declearn.optimizer import Optimizer\n",
    "from declearn.optimizer.modules import AdamModule\n",
    "from declearn.optimizer.regularizers import LassoRegularizer\n",
    "\n",
    "\n",
    "# Here we define the model to be used. \n",
    "# You can use any class name (here 'Net')\n",
    "class MyTrainingPlan(TorchTrainingPlan):\n",
    "    \n",
    "    # Defines and return model \n",
    "    def init_model(self, model_args):\n",
    "        return self.Net(model_args = model_args)\n",
    "    \n",
    "    # Defines and return a declearn optimizer\n",
    "    def init_optimizer(self, optimizer_args):\n",
    "        return Optimizer(lrate=.1 ,modules=[AdamModule()], regularizers=[LassoRegularizer()])\n",
    "    \n",
    "    # Declares and return dependencies\n",
    "    def init_dependencies(self):\n",
    "        deps = [\"from torchvision import datasets, transforms\",\n",
    "                \"from declearn.optimizer import Optimizer\",\n",
    "                \"from declearn.optimizer.modules import AdamModule\",\n",
    "                \"from declearn.optimizer.regularizers import LassoRegularizer\"]\n",
    "        return deps\n",
    "    \n",
    "    class Net(nn.Module):\n",
    "        def __init__(self, model_args):\n",
    "            super().__init__()\n",
    "            self.conv1 = nn.Conv2d(1, 32, 3, 1)\n",
    "            self.conv2 = nn.Conv2d(32, 64, 3, 1)\n",
    "            self.dropout1 = nn.Dropout(0.25)\n",
    "            self.dropout2 = nn.Dropout(0.5)\n",
    "            self.fc1 = nn.Linear(9216, 128)\n",
    "            self.fc2 = nn.Linear(128, 10)\n",
    "\n",
    "        def forward(self, x):\n",
    "            x = self.conv1(x)\n",
    "            x = F.relu(x)\n",
    "            x = self.conv2(x)\n",
    "            x = F.relu(x)\n",
    "            x = F.max_pool2d(x, 2)\n",
    "            x = self.dropout1(x)\n",
    "            x = torch.flatten(x, 1)\n",
    "            x = self.fc1(x)\n",
    "            x = F.relu(x)\n",
    "            x = self.dropout2(x)\n",
    "            x = self.fc2(x)\n",
    "\n",
    "\n",
    "            output = F.log_softmax(x, dim=1)\n",
    "            return output\n",
    "\n",
    "    def training_data(self, batch_size = 48):\n",
    "        # Custom torch Dataloader for MNIST data\n",
    "        transform = transforms.Compose([transforms.ToTensor(),\n",
    "        transforms.Normalize((0.1307,), (0.3081,))])\n",
    "        dataset1 = datasets.MNIST(self.dataset_path, train=True, download=False, transform=transform)\n",
    "        train_kwargs = {'batch_size': batch_size, 'shuffle': True}\n",
    "        return DataManager(dataset=dataset1, **train_kwargs)\n",
    "    \n",
    "    def training_step(self, data, target):\n",
    "        output = self.model().forward(data)\n",
    "        loss   = torch.nn.functional.nll_loss(output, target)\n",
    "        return loss\n"
   ]
  },
  {
   "cell_type": "markdown",
   "metadata": {},
   "source": [
    "This group of arguments correspond respectively:\n",
    "* `model_args`: a dictionary with the arguments related to the model (e.g. number of layers, features, etc.). This will be passed to the model class on the node side.\n",
    "* `training_args`: a dictionary containing the arguments for the training routine (e.g. batch size, learning rate, epochs, etc.). This will be passed to the routine on the node side.\n",
    "\n",
    "**NOTE:** typos and/or lack of positional (required) arguments will raise error. 🤓"
   ]
  },
  {
   "cell_type": "code",
   "execution_count": 2,
   "metadata": {
    "pycharm": {
     "name": "#%%\n"
    }
   },
   "outputs": [],
   "source": [
    "model_args = {}\n",
    "\n",
    "training_args = {\n",
    "    'batch_size': 48, \n",
    "    'optimizer_args': {\n",
    "        \"lr\" : 1e-3\n",
    "    },\n",
    "    'epochs': 1, \n",
    "    'dry_run': False,  \n",
    "    'batch_maxnum': 100 # Fast pass for development : only use ( batch_maxnum * batch_size ) samples\n",
    "}"
   ]
  },
  {
   "cell_type": "markdown",
   "metadata": {},
   "source": [
    "## Declare and run the experiment\n",
    "\n",
    "- search nodes serving data for these `tags`, optionally filter on a list of node ID with `nodes`\n",
    "- run a round of local training on nodes with model defined in `model_path` + federation with `aggregator`\n",
    "- run for `round_limit` rounds, applying the `node_selection_strategy` between the rounds"
   ]
  },
  {
   "cell_type": "code",
   "execution_count": 3,
   "metadata": {
    "pycharm": {
     "name": "#%%\n"
    },
    "scrolled": false
   },
   "outputs": [
    {
     "name": "stderr",
     "output_type": "stream",
     "text": [
      "2023-03-08 16:50:56,610 fedbiomed INFO - Messaging researcher_cdac117b-3411-4777-9eb7-bb3c477c3f29 successfully connected to the message broker, object = <fedbiomed.common.messaging.Messaging object at 0x7f3ac4b8b190>\n",
      "2023-03-08 16:50:56,616 fedbiomed INFO - Searching dataset with data tags: ['#MNIST', '#dataset'] for all nodes\n",
      "2023-03-08 16:51:06,630 fedbiomed INFO - Node selected for training -> node_57b462ee-4d35-4dd9-b3cb-ea964a889e92\n",
      "2023-03-08 16:51:06,633 fedbiomed INFO - Node selected for training -> node_f2b2d532-f811-424d-966f-4b21c0bfd618\n",
      "2023-03-08 16:51:06,639 fedbiomed INFO - Checking data quality of federated datasets...\n",
      "Secure RNG turned off. This is perfectly fine for experimentation as it allows for much faster training performance, but remember to turn it on and retrain one last time before production with ``secure_mode`` turned on.\n",
      "2023-03-08 16:51:06,694 fedbiomed DEBUG - Model file has been saved: /home/ybouilla/fedbiomed_2/fedbiomed/var/experiments/Experiment_0042/my_model_a0ae608e-cd8a-43c4-91f5-ed0e6470bd1c.py\n",
      "2023-03-08 16:51:06,714 fedbiomed DEBUG - upload (HTTP POST request) of file /home/ybouilla/fedbiomed_2/fedbiomed/var/experiments/Experiment_0042/my_model_a0ae608e-cd8a-43c4-91f5-ed0e6470bd1c.py successful, with status code 201\n",
      "2023-03-08 16:51:06,866 fedbiomed DEBUG - upload (HTTP POST request) of file /home/ybouilla/fedbiomed_2/fedbiomed/var/experiments/Experiment_0042/aggregated_params_init_29ce4932-3826-4e57-8f73-6ac5f46949f8.pt successful, with status code 201\n"
     ]
    }
   ],
   "source": [
    "from fedbiomed.researcher.experiment import Experiment\n",
    "from fedbiomed.researcher.aggregators.fedavg import FedAverage\n",
    "\n",
    "tags =  ['#MNIST', '#dataset']\n",
    "rounds = 2\n",
    "\n",
    "exp = Experiment(tags=tags,\n",
    "                 model_args=model_args,\n",
    "                 training_plan_class=MyTrainingPlan,\n",
    "                 training_args=training_args,\n",
    "                 round_limit=rounds,\n",
    "                 aggregator=FedAverage(),\n",
    "                 node_selection_strategy=None)"
   ]
  },
  {
   "cell_type": "markdown",
   "metadata": {
    "pycharm": {
     "name": "#%% md\n"
    }
   },
   "source": [
    "Let's start the experiment.\n",
    "\n",
    "By default, this function doesn't stop until all the `round_limit` rounds are done for all the nodes"
   ]
  },
  {
   "cell_type": "code",
   "execution_count": 4,
   "metadata": {
    "pycharm": {
     "name": "#%%\n"
    },
    "scrolled": true
   },
   "outputs": [
    {
     "name": "stderr",
     "output_type": "stream",
     "text": [
      "2023-03-08 16:51:06,878 fedbiomed INFO - Sampled nodes in round 0 ['node_57b462ee-4d35-4dd9-b3cb-ea964a889e92', 'node_f2b2d532-f811-424d-966f-4b21c0bfd618']\n",
      "2023-03-08 16:51:06,879 fedbiomed INFO - \u001b[1mSending request\u001b[0m \n",
      "\t\t\t\t\t\u001b[1m To\u001b[0m: node_57b462ee-4d35-4dd9-b3cb-ea964a889e92 \n",
      "\t\t\t\t\t\u001b[1m Request: \u001b[0m: Perform training with the arguments: {'researcher_id': 'researcher_cdac117b-3411-4777-9eb7-bb3c477c3f29', 'job_id': '455d769d-7ddd-4105-aa9d-4e1114489196', 'training_args': {'batch_size': 48, 'optimizer_args': {'lr': 0.001}, 'epochs': 1, 'dry_run': False, 'batch_maxnum': 100, 'num_updates': None, 'test_ratio': 0.0, 'test_on_local_updates': False, 'test_on_global_updates': False, 'test_metric': None, 'test_metric_args': {}, 'log_interval': 10, 'fedprox_mu': None, 'use_gpu': False, 'dp_args': None}, 'training': True, 'model_args': {}, 'command': 'train', 'training_plan_url': 'http://localhost:8844/media/uploads/2023/03/08/my_model_a0ae608e-cd8a-43c4-91f5-ed0e6470bd1c.py', 'params_url': 'http://localhost:8844/media/uploads/2023/03/08/aggregated_params_init_29ce4932-3826-4e57-8f73-6ac5f46949f8.pt', 'training_plan_class': 'MyTrainingPlan', 'dataset_id': 'dataset_8fe79723-3516-4134-a3d1-16a2eaa366c8'} \n",
      " -----------------------------------------------------------------\n",
      "2023-03-08 16:51:06,880 fedbiomed DEBUG - researcher_cdac117b-3411-4777-9eb7-bb3c477c3f29\n",
      "2023-03-08 16:51:06,881 fedbiomed INFO - \u001b[1mSending request\u001b[0m \n",
      "\t\t\t\t\t\u001b[1m To\u001b[0m: node_f2b2d532-f811-424d-966f-4b21c0bfd618 \n",
      "\t\t\t\t\t\u001b[1m Request: \u001b[0m: Perform training with the arguments: {'researcher_id': 'researcher_cdac117b-3411-4777-9eb7-bb3c477c3f29', 'job_id': '455d769d-7ddd-4105-aa9d-4e1114489196', 'training_args': {'batch_size': 48, 'optimizer_args': {'lr': 0.001}, 'epochs': 1, 'dry_run': False, 'batch_maxnum': 100, 'num_updates': None, 'test_ratio': 0.0, 'test_on_local_updates': False, 'test_on_global_updates': False, 'test_metric': None, 'test_metric_args': {}, 'log_interval': 10, 'fedprox_mu': None, 'use_gpu': False, 'dp_args': None}, 'training': True, 'model_args': {}, 'command': 'train', 'training_plan_url': 'http://localhost:8844/media/uploads/2023/03/08/my_model_a0ae608e-cd8a-43c4-91f5-ed0e6470bd1c.py', 'params_url': 'http://localhost:8844/media/uploads/2023/03/08/aggregated_params_init_29ce4932-3826-4e57-8f73-6ac5f46949f8.pt', 'training_plan_class': 'MyTrainingPlan', 'dataset_id': 'dataset_5eee3fc2-f1d2-47ac-874f-cf50900f0963'} \n",
      " -----------------------------------------------------------------\n",
      "2023-03-08 16:51:06,883 fedbiomed DEBUG - researcher_cdac117b-3411-4777-9eb7-bb3c477c3f29\n",
      "2023-03-08 16:51:06,952 fedbiomed INFO - \u001b[1mWARNING\u001b[0m\n",
      "\t\t\t\t\t\u001b[1m NODE\u001b[0m node_57b462ee-4d35-4dd9-b3cb-ea964a889e92\n",
      "\t\t\t\t\t\u001b[1m MESSAGE:\u001b[0m There is no validation activated for the round. Please set flag for `test_on_global_updates`, `test_on_local_updates`, or both. Splitting dataset for validation will be ignored\u001b[0m\n",
      "-----------------------------------------------------------------\n",
      "2023-03-08 16:51:06,973 fedbiomed INFO - \u001b[1mWARNING\u001b[0m\n",
      "\t\t\t\t\t\u001b[1m NODE\u001b[0m node_f2b2d532-f811-424d-966f-4b21c0bfd618\n",
      "\t\t\t\t\t\u001b[1m MESSAGE:\u001b[0m There is no validation activated for the round. Please set flag for `test_on_global_updates`, `test_on_local_updates`, or both. Splitting dataset for validation will be ignored\u001b[0m\n",
      "-----------------------------------------------------------------\n",
      "2023-03-08 16:51:07,135 fedbiomed INFO - \u001b[1mTRAINING\u001b[0m \n",
      "\t\t\t\t\t NODE_ID: node_57b462ee-4d35-4dd9-b3cb-ea964a889e92 \n",
      "\t\t\t\t\t Round 1 Epoch: 1 | Iteration: 1/100 (1%) | Samples: 48/4800\n",
      " \t\t\t\t\t Loss: \u001b[1m2.296479\u001b[0m \n",
      "\t\t\t\t\t ---------\n",
      "2023-03-08 16:51:07,145 fedbiomed INFO - \u001b[1mTRAINING\u001b[0m \n",
      "\t\t\t\t\t NODE_ID: node_f2b2d532-f811-424d-966f-4b21c0bfd618 \n",
      "\t\t\t\t\t Round 1 Epoch: 1 | Iteration: 1/100 (1%) | Samples: 48/4800\n",
      " \t\t\t\t\t Loss: \u001b[1m2.294337\u001b[0m \n",
      "\t\t\t\t\t ---------\n",
      "2023-03-08 16:51:08,001 fedbiomed INFO - \u001b[1mTRAINING\u001b[0m \n",
      "\t\t\t\t\t NODE_ID: node_57b462ee-4d35-4dd9-b3cb-ea964a889e92 \n",
      "\t\t\t\t\t Round 1 Epoch: 1 | Iteration: 10/100 (10%) | Samples: 480/4800\n",
      " \t\t\t\t\t Loss: \u001b[1m2.299242\u001b[0m \n",
      "\t\t\t\t\t ---------\n",
      "2023-03-08 16:51:08,136 fedbiomed INFO - \u001b[1mTRAINING\u001b[0m \n",
      "\t\t\t\t\t NODE_ID: node_f2b2d532-f811-424d-966f-4b21c0bfd618 \n",
      "\t\t\t\t\t Round 1 Epoch: 1 | Iteration: 10/100 (10%) | Samples: 480/4800\n",
      " \t\t\t\t\t Loss: \u001b[1m2.313444\u001b[0m \n",
      "\t\t\t\t\t ---------\n",
      "2023-03-08 16:51:09,192 fedbiomed INFO - \u001b[1mTRAINING\u001b[0m \n",
      "\t\t\t\t\t NODE_ID: node_f2b2d532-f811-424d-966f-4b21c0bfd618 \n",
      "\t\t\t\t\t Round 1 Epoch: 1 | Iteration: 20/100 (20%) | Samples: 960/4800\n",
      " \t\t\t\t\t Loss: \u001b[1m2.298441\u001b[0m \n",
      "\t\t\t\t\t ---------\n",
      "2023-03-08 16:51:09,382 fedbiomed INFO - \u001b[1mTRAINING\u001b[0m \n",
      "\t\t\t\t\t NODE_ID: node_57b462ee-4d35-4dd9-b3cb-ea964a889e92 \n",
      "\t\t\t\t\t Round 1 Epoch: 1 | Iteration: 20/100 (20%) | Samples: 960/4800\n",
      " \t\t\t\t\t Loss: \u001b[1m2.321676\u001b[0m \n",
      "\t\t\t\t\t ---------\n",
      "2023-03-08 16:51:10,723 fedbiomed INFO - \u001b[1mTRAINING\u001b[0m \n",
      "\t\t\t\t\t NODE_ID: node_57b462ee-4d35-4dd9-b3cb-ea964a889e92 \n",
      "\t\t\t\t\t Round 1 Epoch: 1 | Iteration: 30/100 (30%) | Samples: 1440/4800\n",
      " \t\t\t\t\t Loss: \u001b[1m2.316977\u001b[0m \n",
      "\t\t\t\t\t ---------\n",
      "2023-03-08 16:51:11,316 fedbiomed INFO - \u001b[1mTRAINING\u001b[0m \n",
      "\t\t\t\t\t NODE_ID: node_f2b2d532-f811-424d-966f-4b21c0bfd618 \n",
      "\t\t\t\t\t Round 1 Epoch: 1 | Iteration: 30/100 (30%) | Samples: 1440/4800\n",
      " \t\t\t\t\t Loss: \u001b[1m2.328050\u001b[0m \n",
      "\t\t\t\t\t ---------\n",
      "2023-03-08 16:51:11,951 fedbiomed INFO - \u001b[1mTRAINING\u001b[0m \n",
      "\t\t\t\t\t NODE_ID: node_f2b2d532-f811-424d-966f-4b21c0bfd618 \n",
      "\t\t\t\t\t Round 1 Epoch: 1 | Iteration: 40/100 (40%) | Samples: 1920/4800\n",
      " \t\t\t\t\t Loss: \u001b[1m2.316253\u001b[0m \n",
      "\t\t\t\t\t ---------\n",
      "2023-03-08 16:51:12,138 fedbiomed INFO - \u001b[1mTRAINING\u001b[0m \n",
      "\t\t\t\t\t NODE_ID: node_57b462ee-4d35-4dd9-b3cb-ea964a889e92 \n",
      "\t\t\t\t\t Round 1 Epoch: 1 | Iteration: 40/100 (40%) | Samples: 1920/4800\n",
      " \t\t\t\t\t Loss: \u001b[1m2.278286\u001b[0m \n",
      "\t\t\t\t\t ---------\n",
      "2023-03-08 16:51:12,700 fedbiomed INFO - \u001b[1mTRAINING\u001b[0m \n",
      "\t\t\t\t\t NODE_ID: node_f2b2d532-f811-424d-966f-4b21c0bfd618 \n",
      "\t\t\t\t\t Round 1 Epoch: 1 | Iteration: 50/100 (50%) | Samples: 2400/4800\n",
      " \t\t\t\t\t Loss: \u001b[1m2.315021\u001b[0m \n",
      "\t\t\t\t\t ---------\n",
      "2023-03-08 16:51:12,840 fedbiomed INFO - \u001b[1mTRAINING\u001b[0m \n",
      "\t\t\t\t\t NODE_ID: node_57b462ee-4d35-4dd9-b3cb-ea964a889e92 \n",
      "\t\t\t\t\t Round 1 Epoch: 1 | Iteration: 50/100 (50%) | Samples: 2400/4800\n",
      " \t\t\t\t\t Loss: \u001b[1m2.293283\u001b[0m \n",
      "\t\t\t\t\t ---------\n",
      "2023-03-08 16:51:13,334 fedbiomed INFO - \u001b[1mTRAINING\u001b[0m \n",
      "\t\t\t\t\t NODE_ID: node_f2b2d532-f811-424d-966f-4b21c0bfd618 \n",
      "\t\t\t\t\t Round 1 Epoch: 1 | Iteration: 60/100 (60%) | Samples: 2880/4800\n",
      " \t\t\t\t\t Loss: \u001b[1m2.320280\u001b[0m \n",
      "\t\t\t\t\t ---------\n",
      "2023-03-08 16:51:13,480 fedbiomed INFO - \u001b[1mTRAINING\u001b[0m \n",
      "\t\t\t\t\t NODE_ID: node_57b462ee-4d35-4dd9-b3cb-ea964a889e92 \n",
      "\t\t\t\t\t Round 1 Epoch: 1 | Iteration: 60/100 (60%) | Samples: 2880/4800\n",
      " \t\t\t\t\t Loss: \u001b[1m2.308129\u001b[0m \n",
      "\t\t\t\t\t ---------\n",
      "2023-03-08 16:51:13,948 fedbiomed INFO - \u001b[1mTRAINING\u001b[0m \n",
      "\t\t\t\t\t NODE_ID: node_f2b2d532-f811-424d-966f-4b21c0bfd618 \n",
      "\t\t\t\t\t Round 1 Epoch: 1 | Iteration: 70/100 (70%) | Samples: 3360/4800\n",
      " \t\t\t\t\t Loss: \u001b[1m2.307227\u001b[0m \n",
      "\t\t\t\t\t ---------\n",
      "2023-03-08 16:51:14,115 fedbiomed INFO - \u001b[1mTRAINING\u001b[0m \n",
      "\t\t\t\t\t NODE_ID: node_57b462ee-4d35-4dd9-b3cb-ea964a889e92 \n",
      "\t\t\t\t\t Round 1 Epoch: 1 | Iteration: 70/100 (70%) | Samples: 3360/4800\n",
      " \t\t\t\t\t Loss: \u001b[1m2.290194\u001b[0m \n",
      "\t\t\t\t\t ---------\n",
      "2023-03-08 16:51:14,597 fedbiomed INFO - \u001b[1mTRAINING\u001b[0m \n",
      "\t\t\t\t\t NODE_ID: node_f2b2d532-f811-424d-966f-4b21c0bfd618 \n",
      "\t\t\t\t\t Round 1 Epoch: 1 | Iteration: 80/100 (80%) | Samples: 3840/4800\n",
      " \t\t\t\t\t Loss: \u001b[1m2.299529\u001b[0m \n",
      "\t\t\t\t\t ---------\n",
      "2023-03-08 16:51:14,755 fedbiomed INFO - \u001b[1mTRAINING\u001b[0m \n",
      "\t\t\t\t\t NODE_ID: node_57b462ee-4d35-4dd9-b3cb-ea964a889e92 \n",
      "\t\t\t\t\t Round 1 Epoch: 1 | Iteration: 80/100 (80%) | Samples: 3840/4800\n",
      " \t\t\t\t\t Loss: \u001b[1m2.279157\u001b[0m \n",
      "\t\t\t\t\t ---------\n",
      "2023-03-08 16:51:15,198 fedbiomed INFO - \u001b[1mTRAINING\u001b[0m \n",
      "\t\t\t\t\t NODE_ID: node_f2b2d532-f811-424d-966f-4b21c0bfd618 \n",
      "\t\t\t\t\t Round 1 Epoch: 1 | Iteration: 90/100 (90%) | Samples: 4320/4800\n",
      " \t\t\t\t\t Loss: \u001b[1m2.323356\u001b[0m \n",
      "\t\t\t\t\t ---------\n",
      "2023-03-08 16:51:15,367 fedbiomed INFO - \u001b[1mTRAINING\u001b[0m \n",
      "\t\t\t\t\t NODE_ID: node_57b462ee-4d35-4dd9-b3cb-ea964a889e92 \n",
      "\t\t\t\t\t Round 1 Epoch: 1 | Iteration: 90/100 (90%) | Samples: 4320/4800\n",
      " \t\t\t\t\t Loss: \u001b[1m2.282573\u001b[0m \n",
      "\t\t\t\t\t ---------\n",
      "2023-03-08 16:51:15,865 fedbiomed INFO - \u001b[1mTRAINING\u001b[0m \n",
      "\t\t\t\t\t NODE_ID: node_f2b2d532-f811-424d-966f-4b21c0bfd618 \n",
      "\t\t\t\t\t Round 1 Epoch: 1 | Iteration: 100/100 (100%) | Samples: 4800/4800\n",
      " \t\t\t\t\t Loss: \u001b[1m2.307499\u001b[0m \n",
      "\t\t\t\t\t ---------\n"
     ]
    },
    {
     "name": "stderr",
     "output_type": "stream",
     "text": [
      "2023-03-08 16:51:15,988 fedbiomed INFO - \u001b[1mTRAINING\u001b[0m \n",
      "\t\t\t\t\t NODE_ID: node_57b462ee-4d35-4dd9-b3cb-ea964a889e92 \n",
      "\t\t\t\t\t Round 1 Epoch: 1 | Iteration: 100/100 (100%) | Samples: 4800/4800\n",
      " \t\t\t\t\t Loss: \u001b[1m2.295616\u001b[0m \n",
      "\t\t\t\t\t ---------\n",
      "2023-03-08 16:51:16,062 fedbiomed INFO - \u001b[1mINFO\u001b[0m\n",
      "\t\t\t\t\t\u001b[1m NODE\u001b[0m node_f2b2d532-f811-424d-966f-4b21c0bfd618\n",
      "\t\t\t\t\t\u001b[1m MESSAGE:\u001b[0m results uploaded successfully \u001b[0m\n",
      "-----------------------------------------------------------------\n",
      "2023-03-08 16:51:16,133 fedbiomed INFO - \u001b[1mINFO\u001b[0m\n",
      "\t\t\t\t\t\u001b[1m NODE\u001b[0m node_57b462ee-4d35-4dd9-b3cb-ea964a889e92\n",
      "\t\t\t\t\t\u001b[1m MESSAGE:\u001b[0m results uploaded successfully \u001b[0m\n",
      "-----------------------------------------------------------------\n",
      "2023-03-08 16:51:21,901 fedbiomed INFO - Downloading model params after training on node_f2b2d532-f811-424d-966f-4b21c0bfd618 - from http://localhost:8844/media/uploads/2023/03/08/node_params_491208e6-419b-4c5b-b9bc-fe3ec30cef37.pt\n",
      "2023-03-08 16:51:21,955 fedbiomed DEBUG - upload (HTTP GET request) of file node_params_57f5ab36-459a-444e-841e-060171f7e7a7.pt successful, with status code 200\n",
      "2023-03-08 16:51:21,968 fedbiomed INFO - Downloading model params after training on node_57b462ee-4d35-4dd9-b3cb-ea964a889e92 - from http://localhost:8844/media/uploads/2023/03/08/node_params_2a538257-3ef3-4b4f-949a-6668c3bc25c0.pt\n",
      "2023-03-08 16:51:21,991 fedbiomed DEBUG - upload (HTTP GET request) of file node_params_176cc45c-49be-43da-9fd8-8eb873d61997.pt successful, with status code 200\n",
      "2023-03-08 16:51:22,006 fedbiomed INFO - Nodes that successfully reply in round 0 ['node_f2b2d532-f811-424d-966f-4b21c0bfd618', 'node_57b462ee-4d35-4dd9-b3cb-ea964a889e92']\n",
      "2023-03-08 16:51:22,146 fedbiomed DEBUG - upload (HTTP POST request) of file /home/ybouilla/fedbiomed_2/fedbiomed/var/experiments/Experiment_0042/aggregated_params088dad19-9d4e-4a19-a42c-c45a5f344d33.pt successful, with status code 201\n",
      "2023-03-08 16:51:22,149 fedbiomed INFO - Saved aggregated params for round 0 in /home/ybouilla/fedbiomed_2/fedbiomed/var/experiments/Experiment_0042/aggregated_params088dad19-9d4e-4a19-a42c-c45a5f344d33.pt\n",
      "2023-03-08 16:51:22,150 fedbiomed INFO - Sampled nodes in round 1 ['node_57b462ee-4d35-4dd9-b3cb-ea964a889e92', 'node_f2b2d532-f811-424d-966f-4b21c0bfd618']\n",
      "2023-03-08 16:51:22,151 fedbiomed INFO - \u001b[1mSending request\u001b[0m \n",
      "\t\t\t\t\t\u001b[1m To\u001b[0m: node_57b462ee-4d35-4dd9-b3cb-ea964a889e92 \n",
      "\t\t\t\t\t\u001b[1m Request: \u001b[0m: Perform training with the arguments: {'researcher_id': 'researcher_cdac117b-3411-4777-9eb7-bb3c477c3f29', 'job_id': '455d769d-7ddd-4105-aa9d-4e1114489196', 'training_args': {'batch_size': 48, 'optimizer_args': {'lr': 0.001}, 'epochs': 1, 'dry_run': False, 'batch_maxnum': 100, 'num_updates': None, 'test_ratio': 0.0, 'test_on_local_updates': False, 'test_on_global_updates': False, 'test_metric': None, 'test_metric_args': {}, 'log_interval': 10, 'fedprox_mu': None, 'use_gpu': False, 'dp_args': None}, 'training': True, 'model_args': {}, 'command': 'train', 'training_plan_url': 'http://localhost:8844/media/uploads/2023/03/08/my_model_a0ae608e-cd8a-43c4-91f5-ed0e6470bd1c.py', 'params_url': 'http://localhost:8844/media/uploads/2023/03/08/aggregated_params088dad19-9d4e-4a19-a42c-c45a5f344d33.pt', 'training_plan_class': 'MyTrainingPlan', 'dataset_id': 'dataset_8fe79723-3516-4134-a3d1-16a2eaa366c8'} \n",
      " -----------------------------------------------------------------\n",
      "2023-03-08 16:51:22,152 fedbiomed DEBUG - researcher_cdac117b-3411-4777-9eb7-bb3c477c3f29\n",
      "2023-03-08 16:51:22,154 fedbiomed INFO - \u001b[1mSending request\u001b[0m \n",
      "\t\t\t\t\t\u001b[1m To\u001b[0m: node_f2b2d532-f811-424d-966f-4b21c0bfd618 \n",
      "\t\t\t\t\t\u001b[1m Request: \u001b[0m: Perform training with the arguments: {'researcher_id': 'researcher_cdac117b-3411-4777-9eb7-bb3c477c3f29', 'job_id': '455d769d-7ddd-4105-aa9d-4e1114489196', 'training_args': {'batch_size': 48, 'optimizer_args': {'lr': 0.001}, 'epochs': 1, 'dry_run': False, 'batch_maxnum': 100, 'num_updates': None, 'test_ratio': 0.0, 'test_on_local_updates': False, 'test_on_global_updates': False, 'test_metric': None, 'test_metric_args': {}, 'log_interval': 10, 'fedprox_mu': None, 'use_gpu': False, 'dp_args': None}, 'training': True, 'model_args': {}, 'command': 'train', 'training_plan_url': 'http://localhost:8844/media/uploads/2023/03/08/my_model_a0ae608e-cd8a-43c4-91f5-ed0e6470bd1c.py', 'params_url': 'http://localhost:8844/media/uploads/2023/03/08/aggregated_params088dad19-9d4e-4a19-a42c-c45a5f344d33.pt', 'training_plan_class': 'MyTrainingPlan', 'dataset_id': 'dataset_5eee3fc2-f1d2-47ac-874f-cf50900f0963'} \n",
      " -----------------------------------------------------------------\n",
      "2023-03-08 16:51:22,155 fedbiomed DEBUG - researcher_cdac117b-3411-4777-9eb7-bb3c477c3f29\n",
      "2023-03-08 16:51:22,228 fedbiomed INFO - \u001b[1mWARNING\u001b[0m\n",
      "\t\t\t\t\t\u001b[1m NODE\u001b[0m node_57b462ee-4d35-4dd9-b3cb-ea964a889e92\n",
      "\t\t\t\t\t\u001b[1m MESSAGE:\u001b[0m There is no validation activated for the round. Please set flag for `test_on_global_updates`, `test_on_local_updates`, or both. Splitting dataset for validation will be ignored\u001b[0m\n",
      "-----------------------------------------------------------------\n",
      "2023-03-08 16:51:22,234 fedbiomed INFO - \u001b[1mWARNING\u001b[0m\n",
      "\t\t\t\t\t\u001b[1m NODE\u001b[0m node_f2b2d532-f811-424d-966f-4b21c0bfd618\n",
      "\t\t\t\t\t\u001b[1m MESSAGE:\u001b[0m There is no validation activated for the round. Please set flag for `test_on_global_updates`, `test_on_local_updates`, or both. Splitting dataset for validation will be ignored\u001b[0m\n",
      "-----------------------------------------------------------------\n",
      "2023-03-08 16:51:22,384 fedbiomed INFO - \u001b[1mTRAINING\u001b[0m \n",
      "\t\t\t\t\t NODE_ID: node_57b462ee-4d35-4dd9-b3cb-ea964a889e92 \n",
      "\t\t\t\t\t Round 2 Epoch: 1 | Iteration: 1/100 (1%) | Samples: 48/4800\n",
      " \t\t\t\t\t Loss: \u001b[1m2.268311\u001b[0m \n",
      "\t\t\t\t\t ---------\n",
      "2023-03-08 16:51:22,388 fedbiomed INFO - \u001b[1mTRAINING\u001b[0m \n",
      "\t\t\t\t\t NODE_ID: node_f2b2d532-f811-424d-966f-4b21c0bfd618 \n",
      "\t\t\t\t\t Round 2 Epoch: 1 | Iteration: 1/100 (1%) | Samples: 48/4800\n",
      " \t\t\t\t\t Loss: \u001b[1m2.305089\u001b[0m \n",
      "\t\t\t\t\t ---------\n",
      "2023-03-08 16:51:22,948 fedbiomed INFO - \u001b[1mTRAINING\u001b[0m \n",
      "\t\t\t\t\t NODE_ID: node_57b462ee-4d35-4dd9-b3cb-ea964a889e92 \n",
      "\t\t\t\t\t Round 2 Epoch: 1 | Iteration: 10/100 (10%) | Samples: 480/4800\n",
      " \t\t\t\t\t Loss: \u001b[1m2.304760\u001b[0m \n",
      "\t\t\t\t\t ---------\n",
      "2023-03-08 16:51:23,529 fedbiomed INFO - \u001b[1mTRAINING\u001b[0m \n",
      "\t\t\t\t\t NODE_ID: node_f2b2d532-f811-424d-966f-4b21c0bfd618 \n",
      "\t\t\t\t\t Round 2 Epoch: 1 | Iteration: 10/100 (10%) | Samples: 480/4800\n",
      " \t\t\t\t\t Loss: \u001b[1m2.312818\u001b[0m \n",
      "\t\t\t\t\t ---------\n",
      "2023-03-08 16:51:23,899 fedbiomed INFO - \u001b[1mTRAINING\u001b[0m \n",
      "\t\t\t\t\t NODE_ID: node_57b462ee-4d35-4dd9-b3cb-ea964a889e92 \n",
      "\t\t\t\t\t Round 2 Epoch: 1 | Iteration: 20/100 (20%) | Samples: 960/4800\n",
      " \t\t\t\t\t Loss: \u001b[1m2.285164\u001b[0m \n",
      "\t\t\t\t\t ---------\n",
      "2023-03-08 16:51:24,680 fedbiomed INFO - \u001b[1mTRAINING\u001b[0m \n",
      "\t\t\t\t\t NODE_ID: node_f2b2d532-f811-424d-966f-4b21c0bfd618 \n",
      "\t\t\t\t\t Round 2 Epoch: 1 | Iteration: 20/100 (20%) | Samples: 960/4800\n",
      " \t\t\t\t\t Loss: \u001b[1m2.322943\u001b[0m \n",
      "\t\t\t\t\t ---------\n",
      "2023-03-08 16:51:24,880 fedbiomed INFO - \u001b[1mTRAINING\u001b[0m \n",
      "\t\t\t\t\t NODE_ID: node_57b462ee-4d35-4dd9-b3cb-ea964a889e92 \n",
      "\t\t\t\t\t Round 2 Epoch: 1 | Iteration: 30/100 (30%) | Samples: 1440/4800\n",
      " \t\t\t\t\t Loss: \u001b[1m2.293139\u001b[0m \n",
      "\t\t\t\t\t ---------\n",
      "2023-03-08 16:51:25,882 fedbiomed INFO - \u001b[1mTRAINING\u001b[0m \n",
      "\t\t\t\t\t NODE_ID: node_f2b2d532-f811-424d-966f-4b21c0bfd618 \n",
      "\t\t\t\t\t Round 2 Epoch: 1 | Iteration: 30/100 (30%) | Samples: 1440/4800\n",
      " \t\t\t\t\t Loss: \u001b[1m2.297957\u001b[0m \n",
      "\t\t\t\t\t ---------\n",
      "2023-03-08 16:51:26,067 fedbiomed INFO - \u001b[1mTRAINING\u001b[0m \n",
      "\t\t\t\t\t NODE_ID: node_57b462ee-4d35-4dd9-b3cb-ea964a889e92 \n",
      "\t\t\t\t\t Round 2 Epoch: 1 | Iteration: 40/100 (40%) | Samples: 1920/4800\n",
      " \t\t\t\t\t Loss: \u001b[1m2.302522\u001b[0m \n",
      "\t\t\t\t\t ---------\n",
      "2023-03-08 16:51:26,771 fedbiomed INFO - \u001b[1mTRAINING\u001b[0m \n",
      "\t\t\t\t\t NODE_ID: node_f2b2d532-f811-424d-966f-4b21c0bfd618 \n",
      "\t\t\t\t\t Round 2 Epoch: 1 | Iteration: 40/100 (40%) | Samples: 1920/4800\n",
      " \t\t\t\t\t Loss: \u001b[1m2.285278\u001b[0m \n",
      "\t\t\t\t\t ---------\n",
      "2023-03-08 16:51:27,466 fedbiomed INFO - \u001b[1mTRAINING\u001b[0m \n",
      "\t\t\t\t\t NODE_ID: node_f2b2d532-f811-424d-966f-4b21c0bfd618 \n",
      "\t\t\t\t\t Round 2 Epoch: 1 | Iteration: 50/100 (50%) | Samples: 2400/4800\n",
      " \t\t\t\t\t Loss: \u001b[1m2.294024\u001b[0m \n",
      "\t\t\t\t\t ---------\n",
      "2023-03-08 16:51:27,885 fedbiomed INFO - \u001b[1mTRAINING\u001b[0m \n",
      "\t\t\t\t\t NODE_ID: node_57b462ee-4d35-4dd9-b3cb-ea964a889e92 \n",
      "\t\t\t\t\t Round 2 Epoch: 1 | Iteration: 50/100 (50%) | Samples: 2400/4800\n",
      " \t\t\t\t\t Loss: \u001b[1m2.289111\u001b[0m \n",
      "\t\t\t\t\t ---------\n"
     ]
    },
    {
     "name": "stderr",
     "output_type": "stream",
     "text": [
      "2023-03-08 16:51:28,255 fedbiomed INFO - \u001b[1mTRAINING\u001b[0m \n",
      "\t\t\t\t\t NODE_ID: node_f2b2d532-f811-424d-966f-4b21c0bfd618 \n",
      "\t\t\t\t\t Round 2 Epoch: 1 | Iteration: 60/100 (60%) | Samples: 2880/4800\n",
      " \t\t\t\t\t Loss: \u001b[1m2.293581\u001b[0m \n",
      "\t\t\t\t\t ---------\n",
      "2023-03-08 16:51:28,530 fedbiomed INFO - \u001b[1mTRAINING\u001b[0m \n",
      "\t\t\t\t\t NODE_ID: node_57b462ee-4d35-4dd9-b3cb-ea964a889e92 \n",
      "\t\t\t\t\t Round 2 Epoch: 1 | Iteration: 60/100 (60%) | Samples: 2880/4800\n",
      " \t\t\t\t\t Loss: \u001b[1m2.322720\u001b[0m \n",
      "\t\t\t\t\t ---------\n",
      "2023-03-08 16:51:28,852 fedbiomed INFO - \u001b[1mTRAINING\u001b[0m \n",
      "\t\t\t\t\t NODE_ID: node_f2b2d532-f811-424d-966f-4b21c0bfd618 \n",
      "\t\t\t\t\t Round 2 Epoch: 1 | Iteration: 70/100 (70%) | Samples: 3360/4800\n",
      " \t\t\t\t\t Loss: \u001b[1m2.291246\u001b[0m \n",
      "\t\t\t\t\t ---------\n",
      "2023-03-08 16:51:29,140 fedbiomed INFO - \u001b[1mTRAINING\u001b[0m \n",
      "\t\t\t\t\t NODE_ID: node_57b462ee-4d35-4dd9-b3cb-ea964a889e92 \n",
      "\t\t\t\t\t Round 2 Epoch: 1 | Iteration: 70/100 (70%) | Samples: 3360/4800\n",
      " \t\t\t\t\t Loss: \u001b[1m2.323550\u001b[0m \n",
      "\t\t\t\t\t ---------\n",
      "2023-03-08 16:51:29,541 fedbiomed INFO - \u001b[1mTRAINING\u001b[0m \n",
      "\t\t\t\t\t NODE_ID: node_f2b2d532-f811-424d-966f-4b21c0bfd618 \n",
      "\t\t\t\t\t Round 2 Epoch: 1 | Iteration: 80/100 (80%) | Samples: 3840/4800\n",
      " \t\t\t\t\t Loss: \u001b[1m2.320814\u001b[0m \n",
      "\t\t\t\t\t ---------\n",
      "2023-03-08 16:51:29,823 fedbiomed INFO - \u001b[1mTRAINING\u001b[0m \n",
      "\t\t\t\t\t NODE_ID: node_57b462ee-4d35-4dd9-b3cb-ea964a889e92 \n",
      "\t\t\t\t\t Round 2 Epoch: 1 | Iteration: 80/100 (80%) | Samples: 3840/4800\n",
      " \t\t\t\t\t Loss: \u001b[1m2.293124\u001b[0m \n",
      "\t\t\t\t\t ---------\n",
      "2023-03-08 16:51:30,193 fedbiomed INFO - \u001b[1mTRAINING\u001b[0m \n",
      "\t\t\t\t\t NODE_ID: node_f2b2d532-f811-424d-966f-4b21c0bfd618 \n",
      "\t\t\t\t\t Round 2 Epoch: 1 | Iteration: 90/100 (90%) | Samples: 4320/4800\n",
      " \t\t\t\t\t Loss: \u001b[1m2.299196\u001b[0m \n",
      "\t\t\t\t\t ---------\n",
      "2023-03-08 16:51:30,435 fedbiomed INFO - \u001b[1mTRAINING\u001b[0m \n",
      "\t\t\t\t\t NODE_ID: node_57b462ee-4d35-4dd9-b3cb-ea964a889e92 \n",
      "\t\t\t\t\t Round 2 Epoch: 1 | Iteration: 90/100 (90%) | Samples: 4320/4800\n",
      " \t\t\t\t\t Loss: \u001b[1m2.327053\u001b[0m \n",
      "\t\t\t\t\t ---------\n",
      "2023-03-08 16:51:30,830 fedbiomed INFO - \u001b[1mTRAINING\u001b[0m \n",
      "\t\t\t\t\t NODE_ID: node_f2b2d532-f811-424d-966f-4b21c0bfd618 \n",
      "\t\t\t\t\t Round 2 Epoch: 1 | Iteration: 100/100 (100%) | Samples: 4800/4800\n",
      " \t\t\t\t\t Loss: \u001b[1m2.301191\u001b[0m \n",
      "\t\t\t\t\t ---------\n",
      "2023-03-08 16:51:30,988 fedbiomed INFO - \u001b[1mINFO\u001b[0m\n",
      "\t\t\t\t\t\u001b[1m NODE\u001b[0m node_f2b2d532-f811-424d-966f-4b21c0bfd618\n",
      "\t\t\t\t\t\u001b[1m MESSAGE:\u001b[0m results uploaded successfully \u001b[0m\n",
      "-----------------------------------------------------------------\n",
      "2023-03-08 16:51:31,046 fedbiomed INFO - \u001b[1mTRAINING\u001b[0m \n",
      "\t\t\t\t\t NODE_ID: node_57b462ee-4d35-4dd9-b3cb-ea964a889e92 \n",
      "\t\t\t\t\t Round 2 Epoch: 1 | Iteration: 100/100 (100%) | Samples: 4800/4800\n",
      " \t\t\t\t\t Loss: \u001b[1m2.310928\u001b[0m \n",
      "\t\t\t\t\t ---------\n",
      "2023-03-08 16:51:31,165 fedbiomed INFO - \u001b[1mINFO\u001b[0m\n",
      "\t\t\t\t\t\u001b[1m NODE\u001b[0m node_57b462ee-4d35-4dd9-b3cb-ea964a889e92\n",
      "\t\t\t\t\t\u001b[1m MESSAGE:\u001b[0m results uploaded successfully \u001b[0m\n",
      "-----------------------------------------------------------------\n",
      "2023-03-08 16:51:37,178 fedbiomed INFO - Downloading model params after training on node_f2b2d532-f811-424d-966f-4b21c0bfd618 - from http://localhost:8844/media/uploads/2023/03/08/node_params_7c8905d2-fe6a-4f44-9c05-58255282ea4c.pt\n",
      "2023-03-08 16:51:37,223 fedbiomed DEBUG - upload (HTTP GET request) of file node_params_ff51d542-7cb3-4b5b-94f9-0e729e220b79.pt successful, with status code 200\n",
      "2023-03-08 16:51:37,232 fedbiomed INFO - Downloading model params after training on node_57b462ee-4d35-4dd9-b3cb-ea964a889e92 - from http://localhost:8844/media/uploads/2023/03/08/node_params_69633f64-c1d8-498e-87f0-3a6048abe5bd.pt\n",
      "2023-03-08 16:51:37,251 fedbiomed DEBUG - upload (HTTP GET request) of file node_params_247d1a3e-3965-4927-9882-2f688d9b22af.pt successful, with status code 200\n",
      "2023-03-08 16:51:37,264 fedbiomed INFO - Nodes that successfully reply in round 1 ['node_f2b2d532-f811-424d-966f-4b21c0bfd618', 'node_57b462ee-4d35-4dd9-b3cb-ea964a889e92']\n",
      "2023-03-08 16:51:37,401 fedbiomed DEBUG - upload (HTTP POST request) of file /home/ybouilla/fedbiomed_2/fedbiomed/var/experiments/Experiment_0042/aggregated_params0b5af7a3-f476-480a-b7b9-e0d3ec68d035.pt successful, with status code 201\n",
      "2023-03-08 16:51:37,402 fedbiomed INFO - Saved aggregated params for round 1 in /home/ybouilla/fedbiomed_2/fedbiomed/var/experiments/Experiment_0042/aggregated_params0b5af7a3-f476-480a-b7b9-e0d3ec68d035.pt\n"
     ]
    },
    {
     "data": {
      "text/plain": [
       "2"
      ]
     },
     "execution_count": 4,
     "metadata": {},
     "output_type": "execute_result"
    }
   ],
   "source": [
    "exp.run()"
   ]
  },
  {
   "cell_type": "markdown",
   "metadata": {},
   "source": [
    "Local training results for each round and each node are available via `exp.training_replies()` (index 0 to (`rounds` - 1) ).\n",
    "\n",
    "For example you can view the training results for the last round below.\n",
    "\n",
    "Different timings (in seconds) are reported for each dataset of a node participating in a round :\n",
    "- `rtime_training` real time (clock time) spent in the training function on the node\n",
    "- `ptime_training` process time (user and system CPU) spent in the training function on the node\n",
    "- `rtime_total` real time (clock time) spent in the researcher between sending the request and handling the response, at the `Job()` layer"
   ]
  },
  {
   "cell_type": "code",
   "execution_count": null,
   "metadata": {
    "pycharm": {
     "name": "#%%\n"
    },
    "scrolled": true
   },
   "outputs": [],
   "source": [
    "print(\"\\nList the training rounds : \", exp.training_replies().keys())\n",
    "\n",
    "print(\"\\nList the nodes for the last training round and their timings : \")\n",
    "round_data = exp.training_replies()[rounds - 1].data()\n",
    "for c in range(len(round_data)):\n",
    "    print(\"\\t- {id} :\\\n",
    "    \\n\\t\\trtime_training={rtraining:.2f} seconds\\\n",
    "    \\n\\t\\tptime_training={ptraining:.2f} seconds\\\n",
    "    \\n\\t\\trtime_total={rtotal:.2f} seconds\".format(id = round_data[c]['node_id'],\n",
    "        rtraining = round_data[c]['timing']['rtime_training'],\n",
    "        ptraining = round_data[c]['timing']['ptime_training'],\n",
    "        rtotal = round_data[c]['timing']['rtime_total']))\n",
    "print('\\n')\n",
    "    \n",
    "exp.training_replies()[rounds - 1].dataframe()"
   ]
  },
  {
   "cell_type": "markdown",
   "metadata": {},
   "source": [
    "Federated parameters for each round are available via `exp.aggregated_params()` (index 0 to (`rounds` - 1) ).\n",
    "\n",
    "For example you can view the federated parameters for the last round of the experiment :"
   ]
  },
  {
   "cell_type": "code",
   "execution_count": null,
   "metadata": {},
   "outputs": [],
   "source": [
    "print(\"\\nList the training rounds : \", exp.aggregated_params().keys())\n",
    "\n",
    "print(\"\\nAccess the federated params for the last training round :\")\n",
    "print(\"\\t- params_path: \", exp.aggregated_params()[rounds - 1]['params_path'])\n",
    "print(\"\\t- parameter data: \", exp.aggregated_params()[rounds - 1]['params'].keys())\n"
   ]
  },
  {
   "cell_type": "markdown",
   "metadata": {
    "pycharm": {
     "name": "#%% md\n"
    }
   },
   "source": [
    "Feel free to run other sample notebooks or try your own models :D"
   ]
  }
 ],
 "metadata": {
  "kernelspec": {
   "display_name": "Python 3 (ipykernel)",
   "language": "python",
   "name": "python3"
  },
  "language_info": {
   "codemirror_mode": {
    "name": "ipython",
    "version": 3
   },
   "file_extension": ".py",
   "mimetype": "text/x-python",
   "name": "python",
   "nbconvert_exporter": "python",
   "pygments_lexer": "ipython3",
   "version": "3.9.16"
  }
 },
 "nbformat": 4,
 "nbformat_minor": 4
}

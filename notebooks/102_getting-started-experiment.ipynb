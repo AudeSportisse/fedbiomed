{
 "cells": [
  {
   "cell_type": "markdown",
   "metadata": {},
   "source": [
    "# Fedbiomed Researcher base example"
   ]
  },
  {
   "cell_type": "markdown",
   "metadata": {},
   "source": [
    "Use for developing (autoreloads changes made across packages)"
   ]
  },
  {
   "cell_type": "code",
   "execution_count": 1,
   "metadata": {},
   "outputs": [],
   "source": [
    "%load_ext autoreload\n",
    "%autoreload 2"
   ]
  },
  {
   "cell_type": "markdown",
   "metadata": {},
   "source": [
    "## Start the network\n",
    "Before running this notebook, start the network with `./scripts/fedbiomed_run network`"
   ]
  },
  {
   "cell_type": "markdown",
   "metadata": {},
   "source": [
    "## Setting the node up\n",
    "It is necessary to previously configure a node:\n",
    "1. `./scripts/fedbiomed_run node add`\n",
    "  * Select option 2 (default) to add MNIST to the node\n",
    "  * Confirm default tags by hitting \"y\" and ENTER\n",
    "  * Pick the folder where MNIST is downloaded (this is due torch issue https://github.com/pytorch/vision/issues/3549)\n",
    "  * Data must have been added (if you get a warning saying that data must be unique is because it's been already added)\n",
    "  \n",
    "2. Check that your data has been added by executing `./scripts/fedbiomed_run node list`\n",
    "3. Run the node using `./scripts/fedbiomed_run node run`. Wait until you get `Starting task manager`. it means you are online."
   ]
  },
  {
   "cell_type": "markdown",
   "metadata": {},
   "source": [
    "## Define an experiment model and parameters\""
   ]
  },
  {
   "cell_type": "markdown",
   "metadata": {},
   "source": [
    "Declare a torch.nn MyTrainingPlan class to send for training on the node"
   ]
  },
  {
   "cell_type": "code",
   "execution_count": 2,
   "metadata": {},
   "outputs": [
    {
     "name": "stderr",
     "output_type": "stream",
     "text": [
      "2022-01-20 11:06:33,226 fedbiomed INFO - Component environment:\n",
      "2022-01-20 11:06:33,228 fedbiomed INFO - - type = ComponentType.RESEARCHER\n"
     ]
    }
   ],
   "source": [
    "from fedbiomed.researcher.environ import environ\n",
    "import tempfile\n",
    "tmp_dir_model = tempfile.TemporaryDirectory(dir=environ['TMP_DIR']+'/')\n",
    "model_file = tmp_dir_model.name + '/class_export_mnist.py'"
   ]
  },
  {
   "cell_type": "markdown",
   "metadata": {},
   "source": [
    "Note : write **only** the code to export in the following cell"
   ]
  },
  {
   "cell_type": "code",
   "execution_count": 3,
   "metadata": {},
   "outputs": [
    {
     "name": "stdout",
     "output_type": "stream",
     "text": [
      "Writing /home/scansiz/Desktop/Inria/development/fedbiomed/var/tmp/tmpqr8n927r/class_export_mnist.py\n"
     ]
    }
   ],
   "source": [
    "%%writefile \"$model_file\"\n",
    "\n",
    "import torch\n",
    "import torch.nn as nn\n",
    "from fedbiomed.common.torchnn import TorchTrainingPlan\n",
    "from torch.utils.data import DataLoader\n",
    "from torchvision import datasets, transforms\n",
    "\n",
    "# Here we define the model to be used. \n",
    "# You can use any class name (here 'Net')\n",
    "class MyTrainingPlan(TorchTrainingPlan):\n",
    "    def __init__(self):\n",
    "        super(MyTrainingPlan, self).__init__()\n",
    "        self.conv1 = nn.Conv2d(1, 32, 3, 1)\n",
    "        self.conv2 = nn.Conv2d(32, 64, 3, 1)\n",
    "        self.dropout1 = nn.Dropout(0.25)\n",
    "        self.dropout2 = nn.Dropout(0.5)\n",
    "        self.fc1 = nn.Linear(9216, 128)\n",
    "        self.fc2 = nn.Linear(128, 10)\n",
    "        \n",
    "        # Here we define the custom dependencies that will be needed by our custom Dataloader\n",
    "        # In this case, we need the torch DataLoader classes\n",
    "        # Since we will train on MNIST, we need datasets and transform from torchvision\n",
    "        deps = [\"from torchvision import datasets, transforms\",\n",
    "               \"from torch.utils.data import DataLoader\"]\n",
    "        self.add_dependency(deps)\n",
    "\n",
    "    def forward(self, x):\n",
    "        x = self.conv1(x)\n",
    "        x = F.relu(x)\n",
    "        x = self.conv2(x)\n",
    "        x = F.relu(x)\n",
    "        x = F.max_pool2d(x, 2)\n",
    "        x = self.dropout1(x)\n",
    "        x = torch.flatten(x, 1)\n",
    "        x = self.fc1(x)\n",
    "        x = F.relu(x)\n",
    "        x = self.dropout2(x)\n",
    "        x = self.fc2(x)\n",
    "        \n",
    "        \n",
    "        output = F.log_softmax(x, dim=1)\n",
    "        return output\n",
    "\n",
    "    def training_data(self, batch_size = 48):\n",
    "        # Custom torch Dataloader for MNIST data\n",
    "        transform = transforms.Compose([transforms.ToTensor(),\n",
    "        transforms.Normalize((0.1307,), (0.3081,))])\n",
    "        dataset1 = datasets.MNIST(self.dataset_path, train=True, download=False, transform=transform)\n",
    "        train_kwargs = {'batch_size': batch_size, 'shuffle': True}\n",
    "        data_loader = torch.utils.data.DataLoader(dataset1, **train_kwargs)\n",
    "        return data_loader\n",
    "    \n",
    "    def training_step(self, data, target):\n",
    "        output = self.forward(data)\n",
    "        loss   = torch.nn.functional.nll_loss(output, target)\n",
    "        return loss\n"
   ]
  },
  {
   "cell_type": "markdown",
   "metadata": {},
   "source": [
    "This group of arguments correspond respectively:\n",
    "* `model_args`: a dictionary with the arguments related to the model (e.g. number of layers, features, etc.). This will be passed to the model class on the node side.\n",
    "* `training_args`: a dictionary containing the arguments for the training routine (e.g. batch size, learning rate, epochs, etc.). This will be passed to the routine on the node side.\n",
    "\n",
    "**NOTE:** typos and/or lack of positional (required) arguments will raise error. 🤓"
   ]
  },
  {
   "cell_type": "code",
   "execution_count": 4,
   "metadata": {
    "pycharm": {
     "name": "#%%\n"
    }
   },
   "outputs": [],
   "source": [
    "model_args = {}\n",
    "\n",
    "training_args = {\n",
    "    'batch_size': 48, \n",
    "    'lr': 1e-3, \n",
    "    'epochs': 1, \n",
    "    'dry_run': False,  \n",
    "    'batch_maxnum': 100 # Fast pass for development : only use ( batch_maxnum * batch_size ) samples\n",
    "}"
   ]
  },
  {
   "cell_type": "markdown",
   "metadata": {},
   "source": [
    "## Declare and run the experiment\n",
    "\n",
    "- search nodes serving data for these `tags`, optionally filter on a list of node ID with `nodes`\n",
    "- run a round of local training on nodes with model defined in `model_path` + federation with `aggregator`\n",
    "- run for `rounds` rounds, applying the `node_selection_strategy` between the rounds"
   ]
  },
  {
   "cell_type": "code",
   "execution_count": 7,
   "metadata": {
    "pycharm": {
     "name": "#%%\n"
    },
    "scrolled": true
   },
   "outputs": [
    {
     "name": "stderr",
     "output_type": "stream",
     "text": [
      "2022-01-20 11:10:29,841 fedbiomed INFO - Searching dataset with data tags: ['#MNIST', '#dataset'] for all nodes\n",
      "2022-01-20 11:10:29,846 fedbiomed INFO - log from: node_f290cd48-a70a-4e55-9262-81f802f9c95c / DEBUG - Message received: {'researcher_id': 'researcher_420cfc13-37cb-447c-af20-f7ac5cb2b6ab', 'tags': ['#MNIST', '#dataset'], 'command': 'search'}\n",
      "2022-01-20 11:10:39,880 fedbiomed INFO - Node selected for training -> node_f290cd48-a70a-4e55-9262-81f802f9c95c\n"
     ]
    },
    {
     "name": "stdout",
     "output_type": "stream",
     "text": [
      "{'_tags': ['#MNIST', '#dataset'], '_nodes': None, '_reqs': <fedbiomed.researcher.requests.Requests object at 0x7f96a007c0a0>, '_fds': <fedbiomed.researcher.datasets.FederatedDataSet object at 0x7f95dd000c10>, '_aggregator': <fedbiomed.researcher.aggregators.fedavg.FedAverage object at 0x7f95dd000580>, '_node_selection_strategy': <fedbiomed.researcher.strategies.default_strategy.DefaultStrategy object at 0x7f95dd000e50>, '_round_init': 0, '_round_current': 0, '_experimentation_folder': 'Experiment_0002', '_model_class': None, '_model_path': '/home/scansiz/Desktop/Inria/development/fedbiomed/var/tmp/tmpqr8n927r/class_export_mnist.py', '_model_args': {}, '_training_args': {'batch_size': 48, 'lr': 0.001, 'epochs': 1, 'dry_run': False, 'batch_maxnum': 100}, '_rounds': 2}\n",
      "{'_tags': ['#MNIST', '#dataset'], '_nodes': None, '_reqs': <fedbiomed.researcher.requests.Requests object at 0x7f96a007c0a0>, '_fds': <fedbiomed.researcher.datasets.FederatedDataSet object at 0x7f95dd000c10>, '_aggregator': <fedbiomed.researcher.aggregators.fedavg.FedAverage object at 0x7f95dd000580>, '_node_selection_strategy': <fedbiomed.researcher.strategies.default_strategy.DefaultStrategy object at 0x7f95dd000e50>, '_round_init': 0, '_round_current': 0, '_experimentation_folder': 'Experiment_0002', '_model_class': None, '_model_path': '/home/scansiz/Desktop/Inria/development/fedbiomed/var/tmp/tmpqr8n927r/class_export_mnist.py', '_model_args': {}, '_training_args': {'batch_size': 48, 'lr': 0.001, 'epochs': 1, 'dry_run': False, 'batch_maxnum': 100}, '_rounds': 2}\n",
      "{'_tags': ['#MNIST', '#dataset'], '_nodes': None, '_reqs': <fedbiomed.researcher.requests.Requests object at 0x7f96a007c0a0>, '_fds': <fedbiomed.researcher.datasets.FederatedDataSet object at 0x7f95dd000c10>, '_aggregator': <fedbiomed.researcher.aggregators.fedavg.FedAverage object at 0x7f95dd000580>, '_node_selection_strategy': <fedbiomed.researcher.strategies.default_strategy.DefaultStrategy object at 0x7f95dd000e50>, '_round_init': 0, '_round_current': 0, '_experimentation_folder': 'Experiment_0002', '_model_class': None, '_model_path': '/home/scansiz/Desktop/Inria/development/fedbiomed/var/tmp/tmpqr8n927r/class_export_mnist.py', '_model_args': {}, '_training_args': {'batch_size': 48, 'lr': 0.001, 'epochs': 1, 'dry_run': False, 'batch_maxnum': 100}, '_rounds': 2}\n"
     ]
    }
   ],
   "source": [
    "from fedbiomed.researcher.experiment import Experiment\n",
    "from fedbiomed.researcher.aggregators.fedavg import FedAverage\n",
    "\n",
    "tags =  ['#MNIST', '#dataset']\n",
    "rounds = 2\n",
    "\n",
    "exp = Experiment(tags=tags,\n",
    "                 #nodes=None,\n",
    "                 model_path=model_file,\n",
    "                 model_args=model_args,\n",
    "                 model_class='MyTrainingPlan',\n",
    "                 training_args=training_args,\n",
    "                 rounds=rounds,\n",
    "                 aggregator=FedAverage(),\n",
    "                 node_selection_strategy=None)"
   ]
  },
  {
   "cell_type": "markdown",
   "metadata": {
    "pycharm": {
     "name": "#%% md\n"
    }
   },
   "source": [
    "Let's start the experiment.\n",
    "\n",
    "By default, this function doesn't stop until all the `rounds` are done for all the nodes"
   ]
  },
  {
   "cell_type": "code",
   "execution_count": 14,
   "metadata": {
    "pycharm": {
     "name": "#%%\n"
    },
    "scrolled": true
   },
   "outputs": [
    {
     "name": "stdout",
     "output_type": "stream",
     "text": [
      "{'_tags': ['#MNIST', '#dataset'], '_nodes': None, '_reqs': <fedbiomed.researcher.requests.Requests object at 0x7f96a007c0a0>, '_fds': <fedbiomed.researcher.datasets.FederatedDataSet object at 0x7f95dd000c10>, '_aggregator': <fedbiomed.researcher.aggregators.fedavg.FedAverage object at 0x7f95dd000580>, '_node_selection_strategy': <fedbiomed.researcher.strategies.default_strategy.DefaultStrategy object at 0x7f95dd000e50>, '_round_init': 0, '_round_current': 0, '_experimentation_folder': 'Experiment_0002', '_model_class': None, '_model_path': '/home/scansiz/Desktop/Inria/development/fedbiomed/var/tmp/tmpqr8n927r/class_export_mnist.py', '_model_args': {}, '_training_args': {'batch_size': 48, 'lr': 0.001, 'epochs': 1, 'dry_run': False, 'batch_maxnum': 100}, '_rounds': 2, '_job': None, '_aggregated_params': {}, '_save_breakpoints': False, '_monitor': None}\n",
      "{'_tags': ['#MNIST', '#dataset'], '_nodes': None, '_reqs': <fedbiomed.researcher.requests.Requests object at 0x7f96a007c0a0>, '_fds': <fedbiomed.researcher.datasets.FederatedDataSet object at 0x7f95dd000c10>, '_aggregator': <fedbiomed.researcher.aggregators.fedavg.FedAverage object at 0x7f95dd000580>, '_node_selection_strategy': <fedbiomed.researcher.strategies.default_strategy.DefaultStrategy object at 0x7f95dd000e50>, '_round_init': 0, '_round_current': 0, '_experimentation_folder': 'Experiment_0002', '_model_class': None, '_model_path': '/home/scansiz/Desktop/Inria/development/fedbiomed/var/tmp/tmpqr8n927r/class_export_mnist.py', '_model_args': {}, '_training_args': {'batch_size': 48, 'lr': 0.001, 'epochs': 1, 'dry_run': False, 'batch_maxnum': 100}, '_rounds': 2, '_job': None, '_aggregated_params': {}, '_save_breakpoints': False, '_monitor': None}\n",
      "{'_tags': ['#MNIST', '#dataset'], '_nodes': None, '_reqs': <fedbiomed.researcher.requests.Requests object at 0x7f96a007c0a0>, '_fds': <fedbiomed.researcher.datasets.FederatedDataSet object at 0x7f95dd000c10>, '_aggregator': <fedbiomed.researcher.aggregators.fedavg.FedAverage object at 0x7f95dd000580>, '_node_selection_strategy': <fedbiomed.researcher.strategies.default_strategy.DefaultStrategy object at 0x7f95dd000e50>, '_round_init': 0, '_round_current': 0, '_experimentation_folder': 'Experiment_0002', '_model_class': None, '_model_path': '/home/scansiz/Desktop/Inria/development/fedbiomed/var/tmp/tmpqr8n927r/class_export_mnist.py', '_model_args': {}, '_training_args': {'batch_size': 48, 'lr': 0.001, 'epochs': 1, 'dry_run': False, 'batch_maxnum': 100}, '_rounds': 2, '_job': None, '_aggregated_params': {}, '_save_breakpoints': False, '_monitor': None}\n"
     ]
    },
    {
     "ename": "Exception",
     "evalue": "Error while running the experiment: \n\n \t   FB413: Please create job with `.set_job()` before running the experiment",
     "output_type": "error",
     "traceback": [
      "\u001b[0;31m---------------------------------------------------------------------------\u001b[0m",
      "\u001b[0;31mException\u001b[0m                                 Traceback (most recent call last)",
      "\u001b[0;32m/tmp/ipykernel_102973/2112911450.py\u001b[0m in \u001b[0;36m<module>\u001b[0;34m\u001b[0m\n\u001b[0;32m----> 1\u001b[0;31m \u001b[0mexp\u001b[0m\u001b[0;34m.\u001b[0m\u001b[0mrun\u001b[0m\u001b[0;34m(\u001b[0m\u001b[0;34m)\u001b[0m\u001b[0;34m\u001b[0m\u001b[0;34m\u001b[0m\u001b[0m\n\u001b[0m",
      "\u001b[0;32m/home/scansiz/Desktop/Inria/development/fedbiomed/fedbiomed/researcher/experiment.py\u001b[0m in \u001b[0;36mrun\u001b[0;34m(self, rounds)\u001b[0m\n\u001b[1;32m    463\u001b[0m         \u001b[0;32mfor\u001b[0m \u001b[0m_\u001b[0m \u001b[0;32min\u001b[0m \u001b[0mrange\u001b[0m\u001b[0;34m(\u001b[0m\u001b[0mrounds_to_run\u001b[0m\u001b[0;34m)\u001b[0m\u001b[0;34m:\u001b[0m\u001b[0;34m\u001b[0m\u001b[0;34m\u001b[0m\u001b[0m\n\u001b[1;32m    464\u001b[0m             \u001b[0;31m# Run ->\u001b[0m\u001b[0;34m\u001b[0m\u001b[0;34m\u001b[0m\u001b[0m\n\u001b[0;32m--> 465\u001b[0;31m             \u001b[0mself\u001b[0m\u001b[0;34m.\u001b[0m\u001b[0mrun_once\u001b[0m\u001b[0;34m(\u001b[0m\u001b[0;34m)\u001b[0m\u001b[0;34m\u001b[0m\u001b[0;34m\u001b[0m\u001b[0m\n\u001b[0m\u001b[1;32m    466\u001b[0m             \u001b[0;31m# Increase round state\u001b[0m\u001b[0;34m\u001b[0m\u001b[0;34m\u001b[0m\u001b[0m\n\u001b[1;32m    467\u001b[0m             \u001b[0mself\u001b[0m\u001b[0;34m.\u001b[0m\u001b[0m_round_current\u001b[0m \u001b[0;34m+=\u001b[0m \u001b[0;36m1\u001b[0m\u001b[0;34m\u001b[0m\u001b[0;34m\u001b[0m\u001b[0m\n",
      "\u001b[0;32m/home/scansiz/Desktop/Inria/development/fedbiomed/fedbiomed/researcher/experiment.py\u001b[0m in \u001b[0;36mrun_once\u001b[0;34m(self)\u001b[0m\n\u001b[1;32m    434\u001b[0m             \u001b[0mself\u001b[0m\u001b[0;34m.\u001b[0m\u001b[0m_round_current\u001b[0m \u001b[0;34m+=\u001b[0m \u001b[0;36m1\u001b[0m\u001b[0;34m\u001b[0m\u001b[0;34m\u001b[0m\u001b[0m\n\u001b[1;32m    435\u001b[0m         \u001b[0;32melse\u001b[0m\u001b[0;34m:\u001b[0m\u001b[0;34m\u001b[0m\u001b[0;34m\u001b[0m\u001b[0m\n\u001b[0;32m--> 436\u001b[0;31m             \u001b[0;32mraise\u001b[0m \u001b[0mException\u001b[0m\u001b[0;34m(\u001b[0m\u001b[0;34m'Error while running the experiment: \\n\\n \\t   %s'\u001b[0m \u001b[0;34m%\u001b[0m \u001b[0;34m'\\n'\u001b[0m\u001b[0;34m.\u001b[0m\u001b[0mjoin\u001b[0m\u001b[0;34m(\u001b[0m\u001b[0mmessages\u001b[0m\u001b[0;34m)\u001b[0m\u001b[0;34m)\u001b[0m\u001b[0;34m\u001b[0m\u001b[0;34m\u001b[0m\u001b[0m\n\u001b[0m\u001b[1;32m    437\u001b[0m \u001b[0;34m\u001b[0m\u001b[0m\n\u001b[1;32m    438\u001b[0m         \u001b[0;32mpass\u001b[0m\u001b[0;34m\u001b[0m\u001b[0;34m\u001b[0m\u001b[0m\n",
      "\u001b[0;31mException\u001b[0m: Error while running the experiment: \n\n \t   FB413: Please create job with `.set_job()` before running the experiment"
     ]
    }
   ],
   "source": [
    "exp.run()"
   ]
  },
  {
   "cell_type": "code",
   "execution_count": 16,
   "metadata": {},
   "outputs": [
    {
     "name": "stderr",
     "output_type": "stream",
     "text": [
      "2022-01-20 11:13:58,134 fedbiomed ERROR - FB410: `model_class` is mandatory for setting `Job`.  Please initialize experiment with model class or use `.set_model_class()` method of the experiment\n"
     ]
    },
    {
     "name": "stdout",
     "output_type": "stream",
     "text": [
      "{'_tags': ['#MNIST', '#dataset'], '_nodes': None, '_reqs': <fedbiomed.researcher.requests.Requests object at 0x7f96a007c0a0>, '_fds': <fedbiomed.researcher.datasets.FederatedDataSet object at 0x7f95dd000c10>, '_aggregator': <fedbiomed.researcher.aggregators.fedavg.FedAverage object at 0x7f95dd000580>, '_node_selection_strategy': <fedbiomed.researcher.strategies.default_strategy.DefaultStrategy object at 0x7f95dd000e50>, '_round_init': 0, '_round_current': 0, '_experimentation_folder': 'Experiment_0002', '_model_class': None, '_model_path': '/home/scansiz/Desktop/Inria/development/fedbiomed/var/tmp/tmpqr8n927r/class_export_mnist.py', '_model_args': {}, '_training_args': {'batch_size': 48, 'lr': 0.001, 'epochs': 1, 'dry_run': False, 'batch_maxnum': 100}, '_rounds': 2, '_job': None, '_aggregated_params': {}, '_save_breakpoints': False, '_monitor': None}\n",
      "{'_tags': ['#MNIST', '#dataset'], '_nodes': None, '_reqs': <fedbiomed.researcher.requests.Requests object at 0x7f96a007c0a0>, '_fds': <fedbiomed.researcher.datasets.FederatedDataSet object at 0x7f95dd000c10>, '_aggregator': <fedbiomed.researcher.aggregators.fedavg.FedAverage object at 0x7f95dd000580>, '_node_selection_strategy': <fedbiomed.researcher.strategies.default_strategy.DefaultStrategy object at 0x7f95dd000e50>, '_round_init': 0, '_round_current': 0, '_experimentation_folder': 'Experiment_0002', '_model_class': None, '_model_path': '/home/scansiz/Desktop/Inria/development/fedbiomed/var/tmp/tmpqr8n927r/class_export_mnist.py', '_model_args': {}, '_training_args': {'batch_size': 48, 'lr': 0.001, 'epochs': 1, 'dry_run': False, 'batch_maxnum': 100}, '_rounds': 2, '_job': None, '_aggregated_params': {}, '_save_breakpoints': False, '_monitor': None}\n",
      "{'_tags': ['#MNIST', '#dataset'], '_nodes': None, '_reqs': <fedbiomed.researcher.requests.Requests object at 0x7f96a007c0a0>, '_fds': <fedbiomed.researcher.datasets.FederatedDataSet object at 0x7f95dd000c10>, '_aggregator': <fedbiomed.researcher.aggregators.fedavg.FedAverage object at 0x7f95dd000580>, '_node_selection_strategy': <fedbiomed.researcher.strategies.default_strategy.DefaultStrategy object at 0x7f95dd000e50>, '_round_init': 0, '_round_current': 0, '_experimentation_folder': 'Experiment_0002', '_model_class': None, '_model_path': '/home/scansiz/Desktop/Inria/development/fedbiomed/var/tmp/tmpqr8n927r/class_export_mnist.py', '_model_args': {}, '_training_args': {'batch_size': 48, 'lr': 0.001, 'epochs': 1, 'dry_run': False, 'batch_maxnum': 100}, '_rounds': 2, '_job': None, '_aggregated_params': {}, '_save_breakpoints': False, '_monitor': None}\n"
     ]
    }
   ],
   "source": [
    "exp.set_job()"
   ]
  },
  {
   "cell_type": "markdown",
   "metadata": {},
   "source": [
    "Local training results for each round and each node are available in `exp.training_replies` (index 0 to (`rounds` - 1) ).\n",
    "\n",
    "For example you can view the training results for the last round below.\n",
    "\n",
    "Different timings (in seconds) are reported for each dataset of a node participating in a round :\n",
    "- `rtime_training` real time (clock time) spent in the training function on the node\n",
    "- `ptime_training` process time (user and system CPU) spent in the training function on the node\n",
    "- `rtime_total` real time (clock time) spent in the researcher between sending the request and handling the response, at the `Job()` layer"
   ]
  },
  {
   "cell_type": "code",
   "execution_count": null,
   "metadata": {
    "pycharm": {
     "name": "#%%\n"
    },
    "scrolled": true
   },
   "outputs": [],
   "source": [
    "print(\"\\nList the training rounds : \", exp.training_replies.keys())\n",
    "\n",
    "print(\"\\nList the nodes for the last training round and their timings : \")\n",
    "round_data = exp.training_replies[rounds - 1].data\n",
    "for c in range(len(round_data)):\n",
    "    print(\"\\t- {id} :\\\n",
    "    \\n\\t\\trtime_training={rtraining:.2f} seconds\\\n",
    "    \\n\\t\\tptime_training={ptraining:.2f} seconds\\\n",
    "    \\n\\t\\trtime_total={rtotal:.2f} seconds\".format(id = round_data[c]['node_id'],\n",
    "        rtraining = round_data[c]['timing']['rtime_training'],\n",
    "        ptraining = round_data[c]['timing']['ptime_training'],\n",
    "        rtotal = round_data[c]['timing']['rtime_total']))\n",
    "print('\\n')\n",
    "    \n",
    "exp.training_replies[rounds - 1].dataframe"
   ]
  },
  {
   "cell_type": "markdown",
   "metadata": {},
   "source": [
    "Federated parameters for each round are available in `exp.aggregated_params` (index 0 to (`rounds` - 1) ).\n",
    "\n",
    "For example you can view the federated parameters for the last round of the experiment :"
   ]
  },
  {
   "cell_type": "code",
   "execution_count": null,
   "metadata": {},
   "outputs": [],
   "source": [
    "print(\"\\nList the training rounds : \", exp.aggregated_params.keys())\n",
    "\n",
    "print(\"\\nAccess the federated params for the last training round :\")\n",
    "print(\"\\t- params_path: \", exp.aggregated_params[rounds - 1]['params_path'])\n",
    "print(\"\\t- parameter data: \", exp.aggregated_params[rounds - 1]['params'].keys())\n"
   ]
  },
  {
   "cell_type": "markdown",
   "metadata": {
    "pycharm": {
     "name": "#%%\n"
    }
   },
   "source": [
    "Feel free to run other sample notebooks or try your own models :D"
   ]
  }
 ],
 "metadata": {
  "kernelspec": {
   "display_name": "Python 3 (ipykernel)",
   "language": "python",
   "name": "python3"
  },
  "language_info": {
   "codemirror_mode": {
    "name": "ipython",
    "version": 3
   },
   "file_extension": ".py",
   "mimetype": "text/x-python",
   "name": "python",
   "nbconvert_exporter": "python",
   "pygments_lexer": "ipython3",
   "version": "3.9.7"
  }
 },
 "nbformat": 4,
 "nbformat_minor": 4
}

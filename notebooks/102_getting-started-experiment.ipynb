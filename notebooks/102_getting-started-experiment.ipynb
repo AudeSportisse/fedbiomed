{
 "cells": [
  {
   "cell_type": "markdown",
   "metadata": {},
   "source": [
    "# Fedbiomed Researcher base example"
   ]
  },
  {
   "cell_type": "markdown",
   "metadata": {},
   "source": [
    "Use for developing (autoreloads changes made across packages)"
   ]
  },
  {
   "cell_type": "code",
   "execution_count": 3,
   "metadata": {},
   "outputs": [
    {
     "name": "stdout",
     "output_type": "stream",
     "text": [
      "The autoreload extension is already loaded. To reload it, use:\n",
      "  %reload_ext autoreload\n"
     ]
    }
   ],
   "source": [
    "%load_ext autoreload\n",
    "%autoreload 2"
   ]
  },
  {
   "cell_type": "markdown",
   "metadata": {},
   "source": [
    "## Start the network\n",
    "Before running this notebook, start the network with `./scripts/fedbiomed_run network`"
   ]
  },
  {
   "cell_type": "markdown",
   "metadata": {},
   "source": [
    "## Setting the node up\n",
    "It is necessary to previously configure a node:\n",
    "1. `./scripts/fedbiomed_run node add`\n",
    "  * Select option 2 (default) to add MNIST to the node\n",
    "  * Confirm default tags by hitting \"y\" and ENTER\n",
    "  * Pick the folder where MNIST is downloaded (this is due torch issue https://github.com/pytorch/vision/issues/3549)\n",
    "  * Data must have been added (if you get a warning saying that data must be unique is because it's been already added)\n",
    "  \n",
    "2. Check that your data has been added by executing `./scripts/fedbiomed_run node list`\n",
    "3. Run the node using `./scripts/fedbiomed_run node run`. Wait until you get `Starting task manager`. it means you are online."
   ]
  },
  {
   "cell_type": "markdown",
   "metadata": {},
   "source": [
    "## Define an experiment model and parameters\""
   ]
  },
  {
   "cell_type": "markdown",
   "metadata": {},
   "source": [
    "Declare a torch.nn MyTrainingPlan class to send for training on the node"
   ]
  },
  {
   "cell_type": "code",
   "execution_count": 4,
   "metadata": {},
   "outputs": [
    {
     "name": "stderr",
     "output_type": "stream",
     "text": [
      "2022-01-21 14:51:56,373 fedbiomed INFO - Component environment:\n",
      "2022-01-21 14:51:56,374 fedbiomed INFO - - type = ComponentType.RESEARCHER\n"
     ]
    }
   ],
   "source": [
    "from fedbiomed.researcher.environ import environ\n",
    "import tempfile\n",
    "tmp_dir_model = tempfile.TemporaryDirectory(dir=environ['TMP_DIR']+'/')\n",
    "model_file = tmp_dir_model.name + '/class_export_mnist.py'"
   ]
  },
  {
   "cell_type": "markdown",
   "metadata": {},
   "source": [
    "Note : write **only** the code to export in the following cell"
   ]
  },
  {
   "cell_type": "code",
   "execution_count": 5,
   "metadata": {},
   "outputs": [
    {
     "name": "stdout",
     "output_type": "stream",
     "text": [
      "Writing /home/scansiz/Desktop/Inria/development/fedbiomed/var/tmp/tmpvfkocdm9/class_export_mnist.py\n"
     ]
    }
   ],
   "source": [
    "%%writefile \"$model_file\"\n",
    "\n",
    "import torch\n",
    "import torch.nn as nn\n",
    "from fedbiomed.common.torchnn import TorchTrainingPlan\n",
    "from torch.utils.data import DataLoader\n",
    "from torchvision import datasets, transforms\n",
    "\n",
    "# Here we define the model to be used. \n",
    "# You can use any class name (here 'Net')\n",
    "class MyTrainingPlan(TorchTrainingPlan):\n",
    "    def __init__(self):\n",
    "        super(MyTrainingPlan, self).__init__()\n",
    "        self.conv1 = nn.Conv2d(1, 32, 3, 1)\n",
    "        self.conv2 = nn.Conv2d(32, 64, 3, 1)\n",
    "        self.dropout1 = nn.Dropout(0.25)\n",
    "        self.dropout2 = nn.Dropout(0.5)\n",
    "        self.fc1 = nn.Linear(9216, 128)\n",
    "        self.fc2 = nn.Linear(128, 10)\n",
    "        \n",
    "        # Here we define the custom dependencies that will be needed by our custom Dataloader\n",
    "        # In this case, we need the torch DataLoader classes\n",
    "        # Since we will train on MNIST, we need datasets and transform from torchvision\n",
    "        deps = [\"from torchvision import datasets, transforms\",\n",
    "               \"from torch.utils.data import DataLoader\"]\n",
    "        self.add_dependency(deps)\n",
    "\n",
    "    def forward(self, x):\n",
    "        x = self.conv1(x)\n",
    "        x = F.relu(x)\n",
    "        x = self.conv2(x)\n",
    "        x = F.relu(x)\n",
    "        x = F.max_pool2d(x, 2)\n",
    "        x = self.dropout1(x)\n",
    "        x = torch.flatten(x, 1)\n",
    "        x = self.fc1(x)\n",
    "        x = F.relu(x)\n",
    "        x = self.dropout2(x)\n",
    "        x = self.fc2(x)\n",
    "        \n",
    "        \n",
    "        output = F.log_softmax(x, dim=1)\n",
    "        return output\n",
    "\n",
    "    def training_data(self, batch_size = 48):\n",
    "        # Custom torch Dataloader for MNIST data\n",
    "        transform = transforms.Compose([transforms.ToTensor(),\n",
    "        transforms.Normalize((0.1307,), (0.3081,))])\n",
    "        dataset1 = datasets.MNIST(self.dataset_path, train=True, download=False, transform=transform)\n",
    "        train_kwargs = {'batch_size': batch_size, 'shuffle': True}\n",
    "        data_loader = torch.utils.data.DataLoader(dataset1, **train_kwargs)\n",
    "        return data_loader\n",
    "    \n",
    "    def training_step(self, data, target):\n",
    "        output = self.forward(data)\n",
    "        loss   = torch.nn.functional.nll_loss(output, target)\n",
    "        return loss\n"
   ]
  },
  {
   "cell_type": "markdown",
   "metadata": {},
   "source": [
    "## Declaring an Experiment by Providing all the Arguments\n"
   ]
  },
  {
   "cell_type": "code",
   "execution_count": null,
   "metadata": {
    "pycharm": {
     "name": "#%%\n"
    },
    "scrolled": true
   },
   "outputs": [],
   "source": [
    "from fedbiomed.researcher.experiment import Experiment\n",
    "from fedbiomed.researcher.aggregators.fedavg import FedAverage\n",
    "\n",
    "tags =  ['#MNIST', '#dataset']\n",
    "rounds = 2\n",
    "\n",
    "model_args = {}\n",
    "\n",
    "training_args = {\n",
    "    'batch_size': 48, \n",
    "    'lr': 1e-3, \n",
    "    'epochs': 1, \n",
    "    'dry_run': False,  \n",
    "    'batch_maxnum': 100 # Fast pass for development : only use ( batch_maxnum * batch_size ) samples\n",
    "}\n",
    "\n",
    "exp = Experiment(tags=tags,\n",
    "                 #nodes=None,\n",
    "                 model_path=model_file,\n",
    "                 model_args=model_args,\n",
    "                 model_class='MyTrainingPlan',\n",
    "                 training_args=training_args,\n",
    "                 rounds=rounds,\n",
    "                 aggregator=FedAverage,\n",
    "                 node_selection_strategy=None)"
   ]
  },
  {
   "cell_type": "code",
   "execution_count": null,
   "metadata": {
    "pycharm": {
     "name": "#%%\n"
    },
    "scrolled": true
   },
   "outputs": [],
   "source": [
    "exp.run()"
   ]
  },
  {
   "cell_type": "code",
   "execution_count": null,
   "metadata": {},
   "outputs": [],
   "source": [
    "print('Number of rounds that has ben run    : ' , exp.round_current())\n",
    "print('Round number for starting next round : ' , exp.round_current() + 1)\n",
    "print('Round Index                          : ' , list(range(exp.round_current())))"
   ]
  },
  {
   "cell_type": "markdown",
   "metadata": {},
   "source": [
    "## Declaring an Experiment Step by Step \n",
    "### Building Empty Experiment"
   ]
  },
  {
   "cell_type": "code",
   "execution_count": 6,
   "metadata": {},
   "outputs": [
    {
     "name": "stderr",
     "output_type": "stream",
     "text": [
      "2022-01-21 14:52:03,230 fedbiomed INFO - Messaging researcher_420cfc13-37cb-447c-af20-f7ac5cb2b6ab successfully connected to the message broker, object = <fedbiomed.common.messaging.Messaging object at 0x7f2d19bc8f10>\n"
     ]
    }
   ],
   "source": [
    "from fedbiomed.researcher.experiment import Experiment\n",
    "exp = Experiment()"
   ]
  },
  {
   "cell_type": "markdown",
   "metadata": {},
   "source": [
    "### Setting Tags \n",
    "\n",
    "Tags should list strings that contains tags or a string with single tag. \n",
    "\n",
    "---\n",
    "<div class=\"note\">\n",
    "    <p>If provided tags is not in correct type `.set_tags` will raise <code>TypeError</code></p>\n",
    "</div>"
   ]
  },
  {
   "cell_type": "code",
   "execution_count": 8,
   "metadata": {},
   "outputs": [],
   "source": [
    "tags = [\"#MNIST\", \"#dataset\"]\n",
    "exp.set_tags(tags = tags)"
   ]
  },
  {
   "cell_type": "markdown",
   "metadata": {},
   "source": [
    "### Setting Model Path and Model Model Class"
   ]
  },
  {
   "cell_type": "code",
   "execution_count": 9,
   "metadata": {},
   "outputs": [],
   "source": [
    "exp.set_model_path(model_path = model_file)\n",
    "exp.set_model_class(model_class = 'MyTrainingPlan')"
   ]
  },
  {
   "cell_type": "markdown",
   "metadata": {},
   "source": [
    "### Setting Model Arguments and Training Arguments"
   ]
  },
  {
   "cell_type": "code",
   "execution_count": 10,
   "metadata": {},
   "outputs": [],
   "source": [
    "model_args = {}\n",
    "\n",
    "training_args = {\n",
    "    'batch_size': 48, \n",
    "    'lr': 1e-3, \n",
    "    'epochs': 1, \n",
    "    'dry_run': False,  \n",
    "    'batch_maxnum': 100\n",
    "}\n",
    "\n",
    "exp.set_model_args(model_args = model_args)\n",
    "exp.set_training_args(training_args = training_args)"
   ]
  },
  {
   "cell_type": "markdown",
   "metadata": {},
   "source": [
    "### Setting Training Data"
   ]
  },
  {
   "cell_type": "markdown",
   "metadata": {},
   "source": [
    "The method `set_trainig_data` gets there arguments: \n",
    "\n",
    "- `tags` : List of tags as string for the search request. If it is not provided. The method will try to use `tags` attribute of the object. \n",
    "- `nodes`: List of node ids that a search request will be sent. If this argument is not provided search request will be sent to all active nodes.  \n",
    "- `training_data`: A dictionary or `FederatedDataset` object. If `training_data` provided search request with `tags` and `nodes` will be ignored."
   ]
  },
  {
   "cell_type": "code",
   "execution_count": 11,
   "metadata": {},
   "outputs": [
    {
     "name": "stderr",
     "output_type": "stream",
     "text": [
      "2022-01-21 14:52:10,782 fedbiomed INFO - Searching dataset with data tags: ['#MNIST', '#dataset'] for all nodes\n",
      "2022-01-21 14:52:10,786 fedbiomed INFO - log from: node_f290cd48-a70a-4e55-9262-81f802f9c95c / DEBUG - Message received: {'researcher_id': 'researcher_420cfc13-37cb-447c-af20-f7ac5cb2b6ab', 'tags': ['#MNIST', '#dataset'], 'command': 'search'}\n",
      "2022-01-21 14:52:20,795 fedbiomed INFO - Node selected for training -> node_f290cd48-a70a-4e55-9262-81f802f9c95c\n"
     ]
    }
   ],
   "source": [
    "exp.set_training_data()\n"
   ]
  },
  {
   "cell_type": "markdown",
   "metadata": {},
   "source": [
    "### Setting Job \n",
    "\n",
    "Setting job will prepare all neccessary assets to be able to run a round. Therefore, `Job` should be set before running the experiment.  \n",
    "\n",
    "To be able to set `Job`, you should be already set the arguments: `model_path`, `model_class`, `training_data`. Otherwiser `set_job()` will reaise an Exception. "
   ]
  },
  {
   "cell_type": "code",
   "execution_count": 12,
   "metadata": {},
   "outputs": [
    {
     "name": "stderr",
     "output_type": "stream",
     "text": [
      "2022-01-21 14:52:22,348 fedbiomed DEBUG - torchnn saved model filename: /home/scansiz/Desktop/Inria/development/fedbiomed/var/experiments/Experiment_0037/my_model_c589df46-1f7d-46c3-b3ad-abcd5e1d2c66.py\n"
     ]
    },
    {
     "data": {
      "text/plain": [
       "True"
      ]
     },
     "execution_count": 12,
     "metadata": {},
     "output_type": "execute_result"
    }
   ],
   "source": [
    "exp.set_job()"
   ]
  },
  {
   "cell_type": "code",
   "execution_count": 13,
   "metadata": {},
   "outputs": [],
   "source": [
    "exp.set_node_selection_strategy()"
   ]
  },
  {
   "cell_type": "markdown",
   "metadata": {},
   "source": [
    "Parameters of The Experiment"
   ]
  },
  {
   "cell_type": "code",
   "execution_count": 16,
   "metadata": {},
   "outputs": [
    {
     "name": "stdout",
     "output_type": "stream",
     "text": [
      "Rounds              : 1\n",
      "Tags                : ['#MNIST', '#dataset']\n",
      "Model Path          : /home/scansiz/Desktop/Inria/development/fedbiomed/var/tmp/tmpvfkocdm9/class_export_mnist.py\n",
      "Model Class         : MyTrainingPlan\n",
      "Model Arguments     : {}\n",
      "Training Arguments  : {'batch_size': 48, 'lr': 0.001, 'epochs': 1, 'dry_run': False, 'batch_maxnum': 100}\n",
      "Job                 : <fedbiomed.researcher.job.Job object at 0x7f2d19bcf8b0>\n",
      "Training Data       : <fedbiomed.researcher.datasets.FederatedDataSet object at 0x7f2d19bcfaf0>\n",
      "Job                 : <fedbiomed.researcher.job.Job object at 0x7f2d19bcf8b0>\n",
      "Nodes               : None\n",
      "Aggregator          : <fedbiomed.researcher.aggregators.fedavg.FedAverage object at 0x7f2dd818fa60>\n",
      "N.S. Stragety       : <fedbiomed.researcher.strategies.default_strategy.DefaultStrategy object at 0x7f2d19bcfc70>\n",
      "Breakpoint State    : False\n",
      "Exp  folder         : Experiment_0037\n",
      "Exp  path           : /home/scansiz/Desktop/Inria/development/fedbiomed/var/experiments/Experiment_0037\n"
     ]
    }
   ],
   "source": [
    "print('Rounds              :', exp.rounds())\n",
    "print('Tags                :', exp.tags())\n",
    "print('Model Path          :', exp.model_path())\n",
    "print('Model Class         :', exp.model_class())\n",
    "print('Model Arguments     :', exp.model_args())\n",
    "print('Training Arguments  :', exp.training_args())\n",
    "print('Job                 :', exp.job())\n",
    "print('Training Data       :', exp.training_data())\n",
    "print('Job                 :', exp.job())\n",
    "print('Nodes               :', exp.nodes()) # Returns selected nodes after search request\n",
    "print('Aggregator          :', exp.aggregator())\n",
    "print('N.S. Stragety       :', exp.node_selection_strategy())\n",
    "print('Breakpoint State    :', exp.breakpoint())\n",
    "print('Exp  folder         :', exp.experimentation_folder())\n",
    "print('Exp  path           :', exp.experimentation_path())\n",
    "\n"
   ]
  },
  {
   "cell_type": "code",
   "execution_count": 15,
   "metadata": {},
   "outputs": [
    {
     "name": "stdout",
     "output_type": "stream",
     "text": [
      "Arguments           Values\n",
      "------------------  -------------------------------------------------------------------------------------------------------------------\n",
      "Rounds              1\n",
      "Tags                ['#MNIST', '#dataset']\n",
      "Model Path          /home/scansiz/Desktop/Inria/development/fedbiomed/var/tmp/tmpvfkocdm9/class_export_mnist.py\n",
      "Model Class         MyTrainingPlan\n",
      "Model Arguments     {}\n",
      "Training Arguments  {'batch_size': 48, 'lr': 0.001, 'epochs': 1, 'dry_run': False, 'batch_maxnum': 100}\n",
      "Nodes\n",
      "Aggregator          <fedbiomed.researcher.aggregators.fedavg.FedAverage object at 0x7f2dd818fa60>\n",
      "N.S. Strategy       <fedbiomed.researcher.strategies.default_strategy.DefaultStrategy object at 0x7f2d19bcfc70>\n",
      "Training Data       <fedbiomed.researcher.datasets.FederatedDataSet object at 0x7f2d19bcfaf0>\n",
      "Job                 <fedbiomed.researcher.job.Job object at 0x7f2d19bcf8b0>\n",
      "Breakpoint State    <bound method Experiment._save_breakpoint of <fedbiomed.researcher.experiment.Experiment object at 0x7f2dd81cd2e0>>\n",
      "Exp  folder         Experiment_0037\n",
      "Exp folder          /home/scansiz/Desktop/Inria/development/fedbiomed/var/experiments/Experiment_0037\n",
      "Exp Path\n"
     ]
    }
   ],
   "source": [
    "exp.info()"
   ]
  },
  {
   "cell_type": "code",
   "execution_count": 21,
   "metadata": {},
   "outputs": [
    {
     "name": "stderr",
     "output_type": "stream",
     "text": [
      "2022-01-21 14:53:33,354 fedbiomed INFO - Round limit reached. Nothing to do\n"
     ]
    },
    {
     "data": {
      "text/plain": [
       "False"
      ]
     },
     "execution_count": 21,
     "metadata": {},
     "output_type": "execute_result"
    }
   ],
   "source": [
    "exp.run_once()"
   ]
  },
  {
   "cell_type": "code",
   "execution_count": null,
   "metadata": {},
   "outputs": [],
   "source": [
    "print('Number of rounds initial             : ' , exp.rounds())\n",
    "print('Number of rounds that has ben run    : ' , exp.round_current())\n",
    "print('Round number for starting next round : ' , exp.round_current() + 1)\n",
    "print('Round Indexes                        : ' , list(range(exp.round_current())))"
   ]
  },
  {
   "cell_type": "code",
   "execution_count": null,
   "metadata": {},
   "outputs": [],
   "source": [
    "exp.run_once()"
   ]
  },
  {
   "cell_type": "markdown",
   "metadata": {},
   "source": [
    "Check current round, deaclare the the round that will be run. "
   ]
  },
  {
   "cell_type": "code",
   "execution_count": null,
   "metadata": {},
   "outputs": [],
   "source": [
    "print('Number of rounds initial             : ' , exp.rounds())\n",
    "print('Number of rounds that has ben run    : ' , exp.round_current())\n",
    "print('Round number for starting next round : ' , exp.round_current() + 1)\n",
    "print('Round Indexes                        : ' , list(range(exp.round_current())))"
   ]
  },
  {
   "cell_type": "markdown",
   "metadata": {},
   "source": [
    "Running multiple rounds:"
   ]
  },
  {
   "cell_type": "code",
   "execution_count": 23,
   "metadata": {},
   "outputs": [
    {
     "name": "stderr",
     "output_type": "stream",
     "text": [
      "2022-01-21 14:53:54,317 fedbiomed INFO - Sampled nodes in round 1 ['node_f290cd48-a70a-4e55-9262-81f802f9c95c']\n",
      "2022-01-21 14:53:54,318 fedbiomed INFO - Send message to node node_f290cd48-a70a-4e55-9262-81f802f9c95c - {'researcher_id': 'researcher_420cfc13-37cb-447c-af20-f7ac5cb2b6ab', 'job_id': '19a32dda-52f8-4d29-a56d-c09de2f12c03', 'training_args': {'batch_size': 48, 'lr': 0.001, 'epochs': 1, 'dry_run': False, 'batch_maxnum': 100}, 'model_args': {}, 'command': 'train', 'model_url': 'http://localhost:8844/media/uploads/2022/01/21/my_model_c589df46-1f7d-46c3-b3ad-abcd5e1d2c66.py', 'params_url': 'http://localhost:8844/media/uploads/2022/01/21/aggregated_params_2b286305-2f16-409c-ab03-a4154d7340d0.pt', 'model_class': 'MyTrainingPlan', 'training_data': {'node_f290cd48-a70a-4e55-9262-81f802f9c95c': ['dataset_8d7d5b72-228e-4340-8451-169c2470dde6']}}\n",
      "2022-01-21 14:53:54,318 fedbiomed DEBUG - researcher_420cfc13-37cb-447c-af20-f7ac5cb2b6ab\n",
      "2022-01-21 14:53:54,347 fedbiomed INFO - log from: node_f290cd48-a70a-4e55-9262-81f802f9c95c / DEBUG - Message received: {'researcher_id': 'researcher_420cfc13-37cb-447c-af20-f7ac5cb2b6ab', 'job_id': '19a32dda-52f8-4d29-a56d-c09de2f12c03', 'training_args': {'batch_size': 48, 'lr': 0.001, 'epochs': 1, 'dry_run': False, 'batch_maxnum': 100}, 'model_args': {}, 'command': 'train', 'model_url': 'http://localhost:8844/media/uploads/2022/01/21/my_model_c589df46-1f7d-46c3-b3ad-abcd5e1d2c66.py', 'params_url': 'http://localhost:8844/media/uploads/2022/01/21/aggregated_params_2b286305-2f16-409c-ab03-a4154d7340d0.pt', 'model_class': 'MyTrainingPlan', 'training_data': {'node_f290cd48-a70a-4e55-9262-81f802f9c95c': ['dataset_8d7d5b72-228e-4340-8451-169c2470dde6']}}\n",
      "2022-01-21 14:53:54,388 fedbiomed INFO - log from: node_f290cd48-a70a-4e55-9262-81f802f9c95c / DEBUG - [TASKS QUEUE] Item:{'researcher_id': 'researcher_420cfc13-37cb-447c-af20-f7ac5cb2b6ab', 'job_id': '19a32dda-52f8-4d29-a56d-c09de2f12c03', 'params_url': 'http://localhost:8844/media/uploads/2022/01/21/aggregated_params_2b286305-2f16-409c-ab03-a4154d7340d0.pt', 'training_args': {'batch_size': 48, 'lr': 0.001, 'epochs': 1, 'dry_run': False, 'batch_maxnum': 100}, 'training_data': {'node_f290cd48-a70a-4e55-9262-81f802f9c95c': ['dataset_8d7d5b72-228e-4340-8451-169c2470dde6']}, 'model_args': {}, 'model_url': 'http://localhost:8844/media/uploads/2022/01/21/my_model_c589df46-1f7d-46c3-b3ad-abcd5e1d2c66.py', 'model_class': 'MyTrainingPlan', 'command': 'train'}\n",
      "2022-01-21 14:53:54,416 fedbiomed INFO - log from: node_f290cd48-a70a-4e55-9262-81f802f9c95c / INFO - {'monitor': <fedbiomed.node.history_monitor.HistoryMonitor object at 0x7ff50cf2feb0>, 'batch_size': 48, 'lr': 0.001, 'epochs': 1, 'dry_run': False, 'batch_maxnum': 100}\n",
      "2022-01-21 14:53:54,419 fedbiomed INFO - log from: node_f290cd48-a70a-4e55-9262-81f802f9c95c / DEBUG - Dataset_path/home/scansiz/Desktop/Inria/development/data\n",
      "2022-01-21 14:53:54,528 fedbiomed INFO - log from: node_f290cd48-a70a-4e55-9262-81f802f9c95c / INFO - Train Epoch: 1 [0/60000 (0%)]\tLoss: 0.388815\n",
      "2022-01-21 14:53:54,979 fedbiomed INFO - log from: node_f290cd48-a70a-4e55-9262-81f802f9c95c / INFO - Train Epoch: 1 [480/60000 (1%)]\tLoss: 0.283315\n",
      "2022-01-21 14:53:55,456 fedbiomed INFO - log from: node_f290cd48-a70a-4e55-9262-81f802f9c95c / INFO - Train Epoch: 1 [960/60000 (2%)]\tLoss: 0.178309\n",
      "2022-01-21 14:53:56,158 fedbiomed INFO - log from: node_f290cd48-a70a-4e55-9262-81f802f9c95c / INFO - Train Epoch: 1 [1440/60000 (2%)]\tLoss: 0.416436\n",
      "2022-01-21 14:53:56,629 fedbiomed INFO - log from: node_f290cd48-a70a-4e55-9262-81f802f9c95c / INFO - Train Epoch: 1 [1920/60000 (3%)]\tLoss: 0.232783\n",
      "2022-01-21 14:53:57,116 fedbiomed INFO - log from: node_f290cd48-a70a-4e55-9262-81f802f9c95c / INFO - Train Epoch: 1 [2400/60000 (4%)]\tLoss: 0.296960\n",
      "2022-01-21 14:53:57,599 fedbiomed INFO - log from: node_f290cd48-a70a-4e55-9262-81f802f9c95c / INFO - Train Epoch: 1 [2880/60000 (5%)]\tLoss: 0.271865\n",
      "2022-01-21 14:53:58,066 fedbiomed INFO - log from: node_f290cd48-a70a-4e55-9262-81f802f9c95c / INFO - Train Epoch: 1 [3360/60000 (6%)]\tLoss: 0.233132\n",
      "2022-01-21 14:53:58,530 fedbiomed INFO - log from: node_f290cd48-a70a-4e55-9262-81f802f9c95c / INFO - Train Epoch: 1 [3840/60000 (6%)]\tLoss: 0.212306\n",
      "2022-01-21 14:53:59,002 fedbiomed INFO - log from: node_f290cd48-a70a-4e55-9262-81f802f9c95c / INFO - Train Epoch: 1 [4320/60000 (7%)]\tLoss: 0.150492\n",
      "2022-01-21 14:53:59,484 fedbiomed INFO - log from: node_f290cd48-a70a-4e55-9262-81f802f9c95c / DEBUG - Reached 100 batches for this epoch, ignore remaining data\n",
      "2022-01-21 14:53:59,771 fedbiomed INFO - log from: node_f290cd48-a70a-4e55-9262-81f802f9c95c / INFO - results uploaded successfully \n",
      "2022-01-21 14:54:09,336 fedbiomed INFO - Downloading model params after training on node_f290cd48-a70a-4e55-9262-81f802f9c95c - from http://localhost:8844/media/uploads/2022/01/21/node_params_1efa259d-fea7-4676-9dd5-17434846317a.pt\n",
      "2022-01-21 14:54:09,373 fedbiomed INFO - Nodes that successfully reply in round 1 ['node_f290cd48-a70a-4e55-9262-81f802f9c95c']\n",
      "2022-01-21 14:54:09,578 fedbiomed INFO - Saved aggregated params for round 1 in /home/scansiz/Desktop/Inria/development/fedbiomed/var/experiments/Experiment_0037/aggregated_params_c6a986c5-452a-4633-a8b3-cc2fb7d89e87.pt\n",
      "2022-01-21 14:54:09,580 fedbiomed INFO - Sampled nodes in round 2 ['node_f290cd48-a70a-4e55-9262-81f802f9c95c']\n",
      "2022-01-21 14:54:09,582 fedbiomed INFO - Send message to node node_f290cd48-a70a-4e55-9262-81f802f9c95c - {'researcher_id': 'researcher_420cfc13-37cb-447c-af20-f7ac5cb2b6ab', 'job_id': '19a32dda-52f8-4d29-a56d-c09de2f12c03', 'training_args': {'batch_size': 48, 'lr': 0.001, 'epochs': 1, 'dry_run': False, 'batch_maxnum': 100}, 'model_args': {}, 'command': 'train', 'model_url': 'http://localhost:8844/media/uploads/2022/01/21/my_model_c589df46-1f7d-46c3-b3ad-abcd5e1d2c66.py', 'params_url': 'http://localhost:8844/media/uploads/2022/01/21/aggregated_params_c6a986c5-452a-4633-a8b3-cc2fb7d89e87.pt', 'model_class': 'MyTrainingPlan', 'training_data': {'node_f290cd48-a70a-4e55-9262-81f802f9c95c': ['dataset_8d7d5b72-228e-4340-8451-169c2470dde6']}}\n",
      "2022-01-21 14:54:09,584 fedbiomed DEBUG - researcher_420cfc13-37cb-447c-af20-f7ac5cb2b6ab\n",
      "2022-01-21 14:54:09,595 fedbiomed INFO - log from: node_f290cd48-a70a-4e55-9262-81f802f9c95c / DEBUG - Message received: {'researcher_id': 'researcher_420cfc13-37cb-447c-af20-f7ac5cb2b6ab', 'job_id': '19a32dda-52f8-4d29-a56d-c09de2f12c03', 'training_args': {'batch_size': 48, 'lr': 0.001, 'epochs': 1, 'dry_run': False, 'batch_maxnum': 100}, 'model_args': {}, 'command': 'train', 'model_url': 'http://localhost:8844/media/uploads/2022/01/21/my_model_c589df46-1f7d-46c3-b3ad-abcd5e1d2c66.py', 'params_url': 'http://localhost:8844/media/uploads/2022/01/21/aggregated_params_c6a986c5-452a-4633-a8b3-cc2fb7d89e87.pt', 'model_class': 'MyTrainingPlan', 'training_data': {'node_f290cd48-a70a-4e55-9262-81f802f9c95c': ['dataset_8d7d5b72-228e-4340-8451-169c2470dde6']}}\n",
      "2022-01-21 14:54:09,597 fedbiomed INFO - log from: node_f290cd48-a70a-4e55-9262-81f802f9c95c / DEBUG - [TASKS QUEUE] Item:{'researcher_id': 'researcher_420cfc13-37cb-447c-af20-f7ac5cb2b6ab', 'job_id': '19a32dda-52f8-4d29-a56d-c09de2f12c03', 'params_url': 'http://localhost:8844/media/uploads/2022/01/21/aggregated_params_c6a986c5-452a-4633-a8b3-cc2fb7d89e87.pt', 'training_args': {'batch_size': 48, 'lr': 0.001, 'epochs': 1, 'dry_run': False, 'batch_maxnum': 100}, 'training_data': {'node_f290cd48-a70a-4e55-9262-81f802f9c95c': ['dataset_8d7d5b72-228e-4340-8451-169c2470dde6']}, 'model_args': {}, 'model_url': 'http://localhost:8844/media/uploads/2022/01/21/my_model_c589df46-1f7d-46c3-b3ad-abcd5e1d2c66.py', 'model_class': 'MyTrainingPlan', 'command': 'train'}\n",
      "2022-01-21 14:54:09,651 fedbiomed INFO - log from: node_f290cd48-a70a-4e55-9262-81f802f9c95c / INFO - {'monitor': <fedbiomed.node.history_monitor.HistoryMonitor object at 0x7ff476607a30>, 'batch_size': 48, 'lr': 0.001, 'epochs': 1, 'dry_run': False, 'batch_maxnum': 100}\n",
      "2022-01-21 14:54:09,653 fedbiomed INFO - log from: node_f290cd48-a70a-4e55-9262-81f802f9c95c / DEBUG - Dataset_path/home/scansiz/Desktop/Inria/development/data\n",
      "2022-01-21 14:54:09,771 fedbiomed INFO - log from: node_f290cd48-a70a-4e55-9262-81f802f9c95c / INFO - Train Epoch: 1 [0/60000 (0%)]\tLoss: 0.068407\n"
     ]
    },
    {
     "name": "stderr",
     "output_type": "stream",
     "text": [
      "2022-01-21 14:54:10,389 fedbiomed INFO - log from: node_f290cd48-a70a-4e55-9262-81f802f9c95c / INFO - Train Epoch: 1 [480/60000 (1%)]\tLoss: 0.241935\n",
      "2022-01-21 14:54:11,076 fedbiomed INFO - log from: node_f290cd48-a70a-4e55-9262-81f802f9c95c / INFO - Train Epoch: 1 [960/60000 (2%)]\tLoss: 0.097044\n",
      "2022-01-21 14:54:11,582 fedbiomed INFO - log from: node_f290cd48-a70a-4e55-9262-81f802f9c95c / INFO - Train Epoch: 1 [1440/60000 (2%)]\tLoss: 0.286355\n",
      "2022-01-21 14:54:12,047 fedbiomed INFO - log from: node_f290cd48-a70a-4e55-9262-81f802f9c95c / INFO - Train Epoch: 1 [1920/60000 (3%)]\tLoss: 0.065027\n",
      "2022-01-21 14:54:12,512 fedbiomed INFO - log from: node_f290cd48-a70a-4e55-9262-81f802f9c95c / INFO - Train Epoch: 1 [2400/60000 (4%)]\tLoss: 0.244742\n",
      "2022-01-21 14:54:12,988 fedbiomed INFO - log from: node_f290cd48-a70a-4e55-9262-81f802f9c95c / INFO - Train Epoch: 1 [2880/60000 (5%)]\tLoss: 0.217385\n",
      "2022-01-21 14:54:13,471 fedbiomed INFO - log from: node_f290cd48-a70a-4e55-9262-81f802f9c95c / INFO - Train Epoch: 1 [3360/60000 (6%)]\tLoss: 0.192208\n",
      "2022-01-21 14:54:13,935 fedbiomed INFO - log from: node_f290cd48-a70a-4e55-9262-81f802f9c95c / INFO - Train Epoch: 1 [3840/60000 (6%)]\tLoss: 0.273701\n",
      "2022-01-21 14:54:14,644 fedbiomed INFO - log from: node_f290cd48-a70a-4e55-9262-81f802f9c95c / INFO - Train Epoch: 1 [4320/60000 (7%)]\tLoss: 0.036798\n",
      "2022-01-21 14:54:15,129 fedbiomed INFO - log from: node_f290cd48-a70a-4e55-9262-81f802f9c95c / DEBUG - Reached 100 batches for this epoch, ignore remaining data\n",
      "2022-01-21 14:54:15,290 fedbiomed INFO - log from: node_f290cd48-a70a-4e55-9262-81f802f9c95c / INFO - results uploaded successfully \n",
      "2022-01-21 14:54:24,606 fedbiomed INFO - Downloading model params after training on node_f290cd48-a70a-4e55-9262-81f802f9c95c - from http://localhost:8844/media/uploads/2022/01/21/node_params_6597363f-5b8a-4152-8f9b-19cd246aa2b7.pt\n",
      "2022-01-21 14:54:24,657 fedbiomed INFO - Nodes that successfully reply in round 2 ['node_f290cd48-a70a-4e55-9262-81f802f9c95c']\n",
      "2022-01-21 14:54:24,852 fedbiomed INFO - Saved aggregated params for round 2 in /home/scansiz/Desktop/Inria/development/fedbiomed/var/experiments/Experiment_0037/aggregated_params_c9dc4e30-5bb6-4abe-95da-21176d3faab0.pt\n",
      "2022-01-21 14:54:24,853 fedbiomed INFO - Sampled nodes in round 3 ['node_f290cd48-a70a-4e55-9262-81f802f9c95c']\n",
      "2022-01-21 14:54:24,854 fedbiomed INFO - Send message to node node_f290cd48-a70a-4e55-9262-81f802f9c95c - {'researcher_id': 'researcher_420cfc13-37cb-447c-af20-f7ac5cb2b6ab', 'job_id': '19a32dda-52f8-4d29-a56d-c09de2f12c03', 'training_args': {'batch_size': 48, 'lr': 0.001, 'epochs': 1, 'dry_run': False, 'batch_maxnum': 100}, 'model_args': {}, 'command': 'train', 'model_url': 'http://localhost:8844/media/uploads/2022/01/21/my_model_c589df46-1f7d-46c3-b3ad-abcd5e1d2c66.py', 'params_url': 'http://localhost:8844/media/uploads/2022/01/21/aggregated_params_c9dc4e30-5bb6-4abe-95da-21176d3faab0.pt', 'model_class': 'MyTrainingPlan', 'training_data': {'node_f290cd48-a70a-4e55-9262-81f802f9c95c': ['dataset_8d7d5b72-228e-4340-8451-169c2470dde6']}}\n",
      "2022-01-21 14:54:24,856 fedbiomed DEBUG - researcher_420cfc13-37cb-447c-af20-f7ac5cb2b6ab\n",
      "2022-01-21 14:54:24,861 fedbiomed INFO - log from: node_f290cd48-a70a-4e55-9262-81f802f9c95c / DEBUG - Message received: {'researcher_id': 'researcher_420cfc13-37cb-447c-af20-f7ac5cb2b6ab', 'job_id': '19a32dda-52f8-4d29-a56d-c09de2f12c03', 'training_args': {'batch_size': 48, 'lr': 0.001, 'epochs': 1, 'dry_run': False, 'batch_maxnum': 100}, 'model_args': {}, 'command': 'train', 'model_url': 'http://localhost:8844/media/uploads/2022/01/21/my_model_c589df46-1f7d-46c3-b3ad-abcd5e1d2c66.py', 'params_url': 'http://localhost:8844/media/uploads/2022/01/21/aggregated_params_c9dc4e30-5bb6-4abe-95da-21176d3faab0.pt', 'model_class': 'MyTrainingPlan', 'training_data': {'node_f290cd48-a70a-4e55-9262-81f802f9c95c': ['dataset_8d7d5b72-228e-4340-8451-169c2470dde6']}}\n",
      "2022-01-21 14:54:24,863 fedbiomed INFO - log from: node_f290cd48-a70a-4e55-9262-81f802f9c95c / DEBUG - [TASKS QUEUE] Item:{'researcher_id': 'researcher_420cfc13-37cb-447c-af20-f7ac5cb2b6ab', 'job_id': '19a32dda-52f8-4d29-a56d-c09de2f12c03', 'params_url': 'http://localhost:8844/media/uploads/2022/01/21/aggregated_params_c9dc4e30-5bb6-4abe-95da-21176d3faab0.pt', 'training_args': {'batch_size': 48, 'lr': 0.001, 'epochs': 1, 'dry_run': False, 'batch_maxnum': 100}, 'training_data': {'node_f290cd48-a70a-4e55-9262-81f802f9c95c': ['dataset_8d7d5b72-228e-4340-8451-169c2470dde6']}, 'model_args': {}, 'model_url': 'http://localhost:8844/media/uploads/2022/01/21/my_model_c589df46-1f7d-46c3-b3ad-abcd5e1d2c66.py', 'model_class': 'MyTrainingPlan', 'command': 'train'}\n",
      "2022-01-21 14:54:24,907 fedbiomed INFO - log from: node_f290cd48-a70a-4e55-9262-81f802f9c95c / INFO - {'monitor': <fedbiomed.node.history_monitor.HistoryMonitor object at 0x7ff50cf2f730>, 'batch_size': 48, 'lr': 0.001, 'epochs': 1, 'dry_run': False, 'batch_maxnum': 100}\n",
      "2022-01-21 14:54:24,908 fedbiomed INFO - log from: node_f290cd48-a70a-4e55-9262-81f802f9c95c / DEBUG - Dataset_path/home/scansiz/Desktop/Inria/development/data\n",
      "2022-01-21 14:54:24,993 fedbiomed INFO - log from: node_f290cd48-a70a-4e55-9262-81f802f9c95c / INFO - Train Epoch: 1 [0/60000 (0%)]\tLoss: 0.339631\n",
      "2022-01-21 14:54:25,518 fedbiomed INFO - log from: node_f290cd48-a70a-4e55-9262-81f802f9c95c / INFO - Train Epoch: 1 [480/60000 (1%)]\tLoss: 0.690064\n",
      "2022-01-21 14:54:26,016 fedbiomed INFO - log from: node_f290cd48-a70a-4e55-9262-81f802f9c95c / INFO - Train Epoch: 1 [960/60000 (2%)]\tLoss: 0.151894\n",
      "2022-01-21 14:54:26,570 fedbiomed INFO - log from: node_f290cd48-a70a-4e55-9262-81f802f9c95c / INFO - Train Epoch: 1 [1440/60000 (2%)]\tLoss: 0.165660\n",
      "2022-01-21 14:54:27,045 fedbiomed INFO - log from: node_f290cd48-a70a-4e55-9262-81f802f9c95c / INFO - Train Epoch: 1 [1920/60000 (3%)]\tLoss: 0.119027\n",
      "2022-01-21 14:54:27,546 fedbiomed INFO - log from: node_f290cd48-a70a-4e55-9262-81f802f9c95c / INFO - Train Epoch: 1 [2400/60000 (4%)]\tLoss: 0.383560\n",
      "2022-01-21 14:54:28,053 fedbiomed INFO - log from: node_f290cd48-a70a-4e55-9262-81f802f9c95c / INFO - Train Epoch: 1 [2880/60000 (5%)]\tLoss: 0.041189\n",
      "2022-01-21 14:54:28,593 fedbiomed INFO - log from: node_f290cd48-a70a-4e55-9262-81f802f9c95c / INFO - Train Epoch: 1 [3360/60000 (6%)]\tLoss: 0.419255\n",
      "2022-01-21 14:54:29,229 fedbiomed INFO - log from: node_f290cd48-a70a-4e55-9262-81f802f9c95c / INFO - Train Epoch: 1 [3840/60000 (6%)]\tLoss: 0.066688\n",
      "2022-01-21 14:54:29,731 fedbiomed INFO - log from: node_f290cd48-a70a-4e55-9262-81f802f9c95c / INFO - Train Epoch: 1 [4320/60000 (7%)]\tLoss: 0.126023\n",
      "2022-01-21 14:54:30,209 fedbiomed INFO - log from: node_f290cd48-a70a-4e55-9262-81f802f9c95c / DEBUG - Reached 100 batches for this epoch, ignore remaining data\n",
      "2022-01-21 14:54:30,417 fedbiomed INFO - log from: node_f290cd48-a70a-4e55-9262-81f802f9c95c / INFO - results uploaded successfully \n",
      "2022-01-21 14:54:39,874 fedbiomed INFO - Downloading model params after training on node_f290cd48-a70a-4e55-9262-81f802f9c95c - from http://localhost:8844/media/uploads/2022/01/21/node_params_0cc1ce83-39ed-48e6-b579-71a67756a830.pt\n",
      "2022-01-21 14:54:39,925 fedbiomed INFO - Nodes that successfully reply in round 3 ['node_f290cd48-a70a-4e55-9262-81f802f9c95c']\n",
      "2022-01-21 14:54:40,096 fedbiomed INFO - Saved aggregated params for round 3 in /home/scansiz/Desktop/Inria/development/fedbiomed/var/experiments/Experiment_0037/aggregated_params_eaf12990-bc26-4205-a108-1b65a556778a.pt\n",
      "2022-01-21 14:54:40,096 fedbiomed INFO - Round limit reached. Nothing to do\n"
     ]
    }
   ],
   "source": [
    "exp.run(rounds=3)"
   ]
  },
  {
   "cell_type": "code",
   "execution_count": 25,
   "metadata": {},
   "outputs": [
    {
     "name": "stdout",
     "output_type": "stream",
     "text": [
      "Number of rounds initial             :  4\n",
      "Number of rounds that has ben run    :  4\n",
      "Round number for starting next round :  5\n",
      "Round Indexes                        :  [0, 1, 2, 3]\n"
     ]
    }
   ],
   "source": [
    "print('Number of rounds initial             : ' , exp.rounds())\n",
    "print('Number of rounds that has ben run    : ' , exp.round_current())\n",
    "print('Round number for starting next round : ' , exp.round_current() + 1)\n",
    "print('Round Indexes                        : ' , list(range(exp.round_current())))"
   ]
  },
  {
   "cell_type": "code",
   "execution_count": null,
   "metadata": {},
   "outputs": [],
   "source": [
    "## New Usage exp.training_replies()\n",
    "\n",
    "rounds = exp.current_round()\n",
    "\n",
    "print(\"\\nList the training rounds : \", exp.training_replies().keys())\n",
    "print(\"\\nList the nodes for the last training round and their timings : \")\n",
    "for r in exp.training_replies().keys():\n",
    "    round_data = exp.training_replies()[r].data\n",
    "    print('\\n\\t Round %s' % str(r+1))\n",
    "    for c in range(len(round_data)):\n",
    "        print(\"\\t\\t- {id} :\\\n",
    "        \\n\\t\\t\\trtime_training={rtraining:.2f} seconds\\\n",
    "        \\n\\t\\t\\tptime_training={ptraining:.2f} seconds\\\n",
    "        \\n\\t\\t\\trtime_total={rtotal:.2f} seconds\".format(id = round_data[c]['node_id'],\n",
    "            rtraining = round_data[c]['timing']['rtime_training'],\n",
    "            ptraining = round_data[c]['timing']['ptime_training'],\n",
    "            rtotal = round_data[c]['timing']['rtime_total']))\n",
    "print('\\n')"
   ]
  },
  {
   "cell_type": "markdown",
   "metadata": {},
   "source": [
    "### Run Same Experiment with Multple Rounds"
   ]
  },
  {
   "cell_type": "code",
   "execution_count": null,
   "metadata": {},
   "outputs": [],
   "source": [
    "exp.run(rounds=2)"
   ]
  },
  {
   "cell_type": "markdown",
   "metadata": {},
   "source": [
    "### Changing Experiment Parameters with Setters after all The Argument is Already Set\n",
    "If the `Job` is already initialize and the arguments related to model is modified, `Job` should reinitialize with the method `.set_job()`. This information is also given by Experiment after setting model file.  \n",
    "  \n",
    "    \n",
    "    \n",
    "<div class=\"note\">\n",
    "    <p>After runing the experiment changing the model might have some consequances.</p>\n",
    "</div>"
   ]
  },
  {
   "cell_type": "code",
   "execution_count": null,
   "metadata": {},
   "outputs": [],
   "source": [
    "exp.set_model_path(model_file)\n",
    "exp.set_model_class('MyTrainingPlan')"
   ]
  },
  {
   "cell_type": "code",
   "execution_count": null,
   "metadata": {},
   "outputs": [],
   "source": [
    "exp2.set_job()"
   ]
  },
  {
   "cell_type": "markdown",
   "metadata": {},
   "source": [
    "#### Changing Aggregator\n",
    "\n",
    "Aggregator should be instance of `fedbiomed.researcher.aggregators.aggregator.Aggregator`. Otherwise `set_aggregator` will raise an Expection. Aggregator should be passed as `Callable` class or alredy built object.\n",
    "\n",
    "Following cell will raise an Exception:"
   ]
  },
  {
   "cell_type": "code",
   "execution_count": null,
   "metadata": {},
   "outputs": [],
   "source": [
    "exp.set_aggregator('ThisIsNotAnAggregator')"
   ]
  },
  {
   "cell_type": "markdown",
   "metadata": {},
   "source": [
    "Correct usage: "
   ]
  },
  {
   "cell_type": "code",
   "execution_count": null,
   "metadata": {},
   "outputs": [],
   "source": [
    "from fedbiomed.researcher.aggregators.fedavg import FedAverage\n",
    "# Can be passed as Callable class\n",
    "exp2.set_aggregator(FedAverage)\n",
    "\n",
    "# Can be passed as already build class\n",
    "fedavg = FedAverage()\n",
    "exp2.set_aggregator(fedavg)"
   ]
  },
  {
   "cell_type": "markdown",
   "metadata": {},
   "source": [
    "Federated parameters for each round are available in `exp.aggregated_params` (index 0 to (`rounds` - 1) ).\n",
    "\n",
    "For example you can view the federated parameters for the last round of the experiment :"
   ]
  },
  {
   "cell_type": "code",
   "execution_count": null,
   "metadata": {},
   "outputs": [],
   "source": [
    "print(\"\\nList the training rounds : \", exp.aggregated_params.keys())\n",
    "\n",
    "print(\"\\nAccess the federated params for the last training round :\")\n",
    "print(\"\\t- params_path: \", exp.aggregated_params[rounds - 1]['params_path'])\n",
    "print(\"\\t- parameter data: \", exp.aggregated_params[rounds - 1]['params'].keys())\n"
   ]
  },
  {
   "cell_type": "markdown",
   "metadata": {
    "pycharm": {
     "name": "#%%\n"
    }
   },
   "source": [
    "Feel free to run other sample notebooks or try your own models :D"
   ]
  }
 ],
 "metadata": {
  "kernelspec": {
   "display_name": "Python 3 (ipykernel)",
   "language": "python",
   "name": "python3"
  },
  "language_info": {
   "codemirror_mode": {
    "name": "ipython",
    "version": 3
   },
   "file_extension": ".py",
   "mimetype": "text/x-python",
   "name": "python",
   "nbconvert_exporter": "python",
   "pygments_lexer": "ipython3",
   "version": "3.9.7"
  }
 },
 "nbformat": 4,
 "nbformat_minor": 4
}

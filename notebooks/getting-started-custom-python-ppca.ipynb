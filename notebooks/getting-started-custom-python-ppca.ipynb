{
 "cells": [
  {
   "cell_type": "markdown",
   "id": "64e87007",
   "metadata": {},
   "source": [
    "# Fedbiomed Researcher to train a federated PPCA (Probabilistic PCA) model."
   ]
  },
  {
   "cell_type": "markdown",
   "id": "92e17d2f",
   "metadata": {},
   "source": [
    "## Description of the exercise :"
   ]
  },
  {
   "cell_type": "markdown",
   "id": "fb782b14",
   "metadata": {},
   "source": [
    "Three datasets `n1.csv` , `n2.csv` and `n3.csv` will be generated randomly using 3-views PPCA from a 4-dimensional latent space, with views dimensions [15,8,10] and 2 groups. Henceforth, we will distribute the 3 dataset to 3 distinct nodes and use Fed-mv-PPCA. In each center we check the evolution of expected LL during training."
   ]
  },
  {
   "cell_type": "markdown",
   "id": "11c0bc07",
   "metadata": {},
   "source": [
    "## Data Generation\n",
    "\n",
    "We will generate three datasets using mv-PPCA.\n",
    "Then save them in a path of your choice on your machine."
   ]
  },
  {
   "cell_type": "code",
   "execution_count": 4,
   "id": "b48f8c46",
   "metadata": {},
   "outputs": [],
   "source": [
    "import numpy as np\n",
    "import pandas as pd\n",
    "from typing import List, Union, Dict\n",
    "\n",
    "def sample_x_n(N:int, q:int, random_state:int=None):\n",
    "    \"\"\"samples from a Guassian dsitribution\n",
    "    Args:\n",
    "    \n",
    "    :N first dimension array\n",
    "    :q second dimesnion array\n",
    "    \"\"\"\n",
    "    return np.random.RandomState(random_state).randn(N,q)\n",
    "\n",
    "def generate_data(N_g: List[int],\n",
    "                  W: np.ndarray,\n",
    "                  a_g: np.ndarray,\n",
    "                  mu:float,\n",
    "                  sigma2:float,\n",
    "                  x_n,\n",
    "                  view:int,\n",
    "                  random_state=None):\n",
    "    \n",
    "    \"\"\"generates Gaussian dataset given several groups of data points, using the following\n",
    "    gausian generative proccess (for a given view):\n",
    "    \n",
    "    Y = WX + mu + epsilon with epsilon ~ N(0, sigma2)\n",
    "    \n",
    "    where X is the latent space of size (q, n_features), Y the observation matrix, W the matrix used\n",
    "    for data reconstruction\n",
    "    \n",
    "    Params:\n",
    "    :N_g: List[int] number of data to generate per group (list of size number of group)\n",
    "    :W: reconstruction matrix, of size (n_features, q)\n",
    "    :a_g: (np.ndarray) array of size (nb_group, n_components), introduces shift when creating different group. \n",
    "    :mu: offset of the dataset\n",
    "    :sigma2: variance used for generating\n",
    "    :x_n: random variable \n",
    "    :view: (int) the given view\n",
    "    :random_state: ransom seed for reproducibility\n",
    "    \n",
    "    Returns:\n",
    "    :Y (pd.DataFrame): synthetic dataset generated wrt above expression\n",
    "    of size (n_features, n_samples)\n",
    "    \"\"\"\n",
    "    rnd=np.random.RandomState(random_state)\n",
    "\n",
    "    N=N_g.sum()\n",
    "    d, q = W.shape\n",
    "    sigma=np.sqrt(sigma2)\n",
    "    G=len(N_g)\n",
    "\n",
    "    g_ind=np.concatenate((np.zeros(1, dtype=np.int64), np.cumsum(N_g)))\n",
    "    print(g_ind)\n",
    "\n",
    "    y_n=np.empty((N, d))\n",
    "\n",
    "    for g in range(G):\n",
    "        # computing Y = W.transpose(X + shift()) + mu\n",
    "        y_n[g_ind[g]:g_ind[g+1]]= np.einsum(\"dq,nq->nd\", W, x_n[g_ind[g]:g_ind[g+1]]+a_g[g]) + mu\n",
    "        \n",
    "    y_n = pd.DataFrame(data=y_n,\n",
    "                     columns=[f'var_{view},{i + 1}' for i in range(d)])\n",
    "\n",
    "    return y_n + sigma*rnd.randn(N,d)\n",
    "\n",
    "\n",
    "\n",
    "def generate_ppca_nodes_dataset(n_nodes: int,\n",
    "                           n_features: Union[List[int],int],\n",
    "                           \n",
    "                           n_components: int,\n",
    "                               n_group: int=2,\n",
    "                           absent_view: Dict[str, int]=None,\n",
    "                           W_init: List[np.ndarray]=None,\n",
    "                           mu_init: List[np.ndarray]=None,\n",
    "                           sigma_init : List[np.ndarray]=None,\n",
    "                           is_validation: bool=True,\n",
    "                           n_sample_validation: int=None):\n",
    "    \"\"\"\n",
    "    Generate a synthetic dataset for each node\n",
    "    \n",
    "    \"\"\"\n",
    "    # generate PPCA parameters if not defined\n",
    "    ## case where W parameter is not defined\n",
    "    if W_init is None:\n",
    "        W_init = []\n",
    "        for i in range(n_nodes):\n",
    "            W_gen = np.random.uniform(-10, 10, (n_features[i], n_components))\n",
    "            W_init.append(W_gen)\n",
    "    ## case where mu not generated\n",
    "    if mu_init is None:\n",
    "        mu_init = []\n",
    "        for i in range(n_nodes):\n",
    "            mu_gen = np.random.uniform(-10, 10, n_features[i])\n",
    "            mu_init.append(mu_gen)\n",
    "            \n",
    "    ## case where sigma is not definied (we will set sigma =1 for each clients)\n",
    "    if sigma_init is None:\n",
    "        sigma_init = []\n",
    "        for i in range(n_nodes):\n",
    "            sigma_init.append(1)\n",
    "            \n",
    "    \n",
    "    shift = np.concatenate((np.zeros((1, n_components)),\n",
    "                          np.random.uniform(-10, 10, (nb_group - 1, n_components))))"
   ]
  },
  {
   "cell_type": "code",
   "execution_count": 5,
   "id": "d14ab247",
   "metadata": {},
   "outputs": [
    {
     "name": "stdout",
     "output_type": "stream",
     "text": [
      "[  0 148 215]\n",
      "[  0 148 215]\n",
      "[  0 148 215]\n",
      "[  0 294 351]\n",
      "[  0 294 351]\n",
      "[  0 294 351]\n",
      "[  0 206 324]\n",
      "[  0 206 324]\n",
      "[  0 206 324]\n",
      "[ 0 20 40]\n",
      "[ 0 20 40]\n",
      "[ 0 20 40]\n"
     ]
    }
   ],
   "source": [
    "np.random.seed(100)\n",
    "\n",
    "D_i = [15, 8, 10]\n",
    "nb_group = 2\n",
    "n_centers = 3\n",
    "testing_samples = 40\n",
    "\n",
    "n_components_generated = 4\n",
    "\n",
    "\n",
    "# initializing PPCA variables\n",
    "sigma2_gen1, sigma2_gen2, sigma2_gen3 = 2, 1, 3\n",
    "W_gen1 = np.random.uniform(-10, 10, (D_i[0], n_components_generated))\n",
    "W_gen2 = np.random.uniform(-5, 5, (D_i[1], n_components_generated))\n",
    "W_gen3 = np.random.uniform(-15, 15, (D_i[2], n_components_generated))\n",
    "mu_gen1 = np.random.uniform(-10, 10, D_i[0])\n",
    "mu_gen2 = np.random.uniform(-5, 5, D_i[1])\n",
    "mu_gen3 = np.random.uniform(-15, 15, D_i[2])\n",
    "\n",
    "a_g_gen = np.concatenate((np.zeros((1, n_components_generated)),\n",
    "                          np.random.uniform(-10, 10, (nb_group - 1, n_components_generated))))\n",
    "\n",
    "W = [W_gen1,W_gen2,W_gen3]\n",
    "mu = [mu_gen1,mu_gen2,mu_gen3]\n",
    "sigma = [sigma2_gen1,sigma2_gen2,sigma2_gen3]\n",
    "\n",
    "# absent_views contains as key the id of a center in which we want to simulate absent views,\n",
    "# and as argumet the id of the missing view. \n",
    "absent_views = {'2': 2}\n",
    "\n",
    "for i in range(n_centers):\n",
    "    N_g = np.array([np.random.randint(25,300) for _ in range(nb_group)]) \n",
    "    # N_g = np.array([np.random.randint(25,300) for _ in range(nb_group)])?\n",
    "    #g_ind = np.concatenate((np.zeros(1, dtype=np.int64), np.cumsum(N_g)))\n",
    "    N = N_g.sum()\n",
    "    x_n_gen = sample_x_n(N, n_components_generated, random_state=150)  # randomly generate a Gaussian\n",
    "    # dataset\n",
    "    Y = []\n",
    "    for d in range(len(D_i)):\n",
    "        y_t = generate_data(N_g, W[d], a_g_gen, mu[d], sigma[d], x_n_gen, view = d+1, random_state=250)\n",
    "        if ((str(i+1) in absent_views.keys()) \\\n",
    "            and (type(absent_views[str(i+1)])== int) \\\n",
    "            and (absent_views[str(i+1)]==d+1)):\n",
    "            absent_views.update({str(i+1): y_t})\n",
    "            y_abs=pd.DataFrame(np.nan, index = np.arange(N_g.sum()), \\\n",
    "                               columns = [f'var_{d+1},{i + 1}' for i in range(D_i[d])])\n",
    "            Y.append(y_abs)\n",
    "        else:\n",
    "            Y.append(y_t)\n",
    "\n",
    "    gr = []\n",
    "    for g in range(nb_group):\n",
    "       gr += [int(g) for _ in range(N_g[g])]\n",
    "    gr = pd.Series(gr)\n",
    "    Y.append(gr)\n",
    "\n",
    "###\n",
    "# the output will be a list of n_centers dataset containing: dataframe for each centers,of \n",
    "# different dimensions\n",
    "# \n",
    "    t_i = pd.concat(Y, axis=1)\n",
    "    t_i.columns.values[-1] = 'Label'\n",
    "    t_i.to_csv('== Local path to node' + str(i+1) + '.csv',sep=',')\n",
    "    #np.savetxt('== Local path to node' + str(i+1) + '.csv',t_i,delimiter=',')\n",
    "               \n",
    "# building the test dataset\n",
    "N_g_test = np.array([testing_samples//2,testing_samples//2])\n",
    "g_ind_test = np.concatenate((np.zeros(1, dtype=np.int64), np.cumsum(N_g_test)))\n",
    "N_test = N_g_test.sum()\n",
    "x_n_gen = sample_x_n(N_test, n_components_generated, random_state=150)\n",
    "Y_test = []\n",
    "for d in range(len(D_i)):\n",
    "    y_t = generate_data(N_g_test, W[d], a_g_gen, mu[d], sigma[d], x_n_gen, view = d+1, random_state=250)\n",
    "    Y_test.append(y_t)\n",
    "\n",
    "gr_test = [0 for _ in range(N_g_test[0])]+[1 for _ in range(N_g_test[1])]\n",
    "gr_test = pd.Series(gr_test)\n",
    "Y_test.append(gr_test)\n",
    "\n",
    "t_test = pd.concat(Y_test, axis=1)"
   ]
  },
  {
   "cell_type": "code",
   "execution_count": 6,
   "id": "7f07bdee",
   "metadata": {},
   "outputs": [
    {
     "data": {
      "text/plain": [
       "(40, 10)"
      ]
     },
     "execution_count": 6,
     "metadata": {},
     "output_type": "execute_result"
    }
   ],
   "source": [
    "y_t.shape"
   ]
  },
  {
   "cell_type": "code",
   "execution_count": 7,
   "id": "9ac67a6e",
   "metadata": {},
   "outputs": [
    {
     "data": {
      "text/plain": [
       "array([  0, 206, 324])"
      ]
     },
     "execution_count": 7,
     "metadata": {},
     "output_type": "execute_result"
    }
   ],
   "source": [
    "g_ind=np.concatenate((np.zeros(1, dtype=np.int64), np.cumsum(N_g)))\n",
    "g_ind"
   ]
  },
  {
   "cell_type": "code",
   "execution_count": 8,
   "id": "9dc822b3",
   "metadata": {},
   "outputs": [
    {
     "data": {
      "text/plain": [
       "((0, 4), (15, 4), (4,))"
      ]
     },
     "execution_count": 8,
     "metadata": {},
     "output_type": "execute_result"
    }
   ],
   "source": [
    "x_n_gen[g_ind[g]:g_ind[g+1]].shape, W[0].shape, a_g_gen[g].shape"
   ]
  },
  {
   "cell_type": "code",
   "execution_count": 9,
   "id": "a495ca61",
   "metadata": {},
   "outputs": [
    {
     "name": "stdout",
     "output_type": "stream",
     "text": [
      "(15, 4)\n"
     ]
    }
   ],
   "source": [
    "g = 0\n",
    "g_ind=np.concatenate((np.zeros(1, dtype=np.int64), np.cumsum(N_g)))\n",
    "\n",
    "print(W[0].shape)\n",
    "resp = np.einsum(\"dq,nq->nd\", W[0], x_n_gen[g_ind[g]:g_ind[g+1]]+a_g_gen[g])\n",
    "\n"
   ]
  },
  {
   "cell_type": "code",
   "execution_count": 10,
   "id": "e539808c",
   "metadata": {},
   "outputs": [
    {
     "data": {
      "text/plain": [
       "(40, 15)"
      ]
     },
     "execution_count": 10,
     "metadata": {},
     "output_type": "execute_result"
    }
   ],
   "source": [
    "resp.shape"
   ]
  },
  {
   "cell_type": "code",
   "execution_count": 11,
   "id": "8d0c2772",
   "metadata": {},
   "outputs": [
    {
     "data": {
      "text/plain": [
       "(40, 4)"
      ]
     },
     "execution_count": 11,
     "metadata": {},
     "output_type": "execute_result"
    }
   ],
   "source": [
    "val = x_n_gen[g_ind[g]:g_ind[g+1]]+a_g_gen[g]\n",
    "val.shape"
   ]
  },
  {
   "cell_type": "code",
   "execution_count": 12,
   "id": "7341d3c1",
   "metadata": {},
   "outputs": [
    {
     "data": {
      "text/plain": [
       "array([[0, 0],\n",
       "       [0, 0],\n",
       "       [0, 0],\n",
       "       [0, 0]])"
      ]
     },
     "execution_count": 12,
     "metadata": {},
     "output_type": "execute_result"
    }
   ],
   "source": [
    "np.einsum(\"dq,nq->nd\", np.array([[1, 0,0, 0],\n",
    "                                 [0, 0,0, 0]]), np.array([[0, 1, 1, 1],\n",
    "                                                          [0,0,0,0,],\n",
    "                                                          [0,0,0,0,],\n",
    "                                                          [0,0,0,0,]\n",
    "                                                         ]\n",
    "                                                         ))"
   ]
  },
  {
   "cell_type": "code",
   "execution_count": 13,
   "id": "ca62f4ec",
   "metadata": {},
   "outputs": [
    {
     "data": {
      "text/plain": [
       "False"
      ]
     },
     "execution_count": 13,
     "metadata": {},
     "output_type": "execute_result"
    }
   ],
   "source": [
    "import pandas as pd\n",
    "tt = pd.DataFrame({\"www\": [np.nan, np.nan, np.nan], 'qq': [1, 2, 4]})\n",
    "\n",
    "tt.iloc[:, 1].isnull().values.any()"
   ]
  },
  {
   "cell_type": "markdown",
   "id": "d39f160e",
   "metadata": {},
   "source": [
    "## Start the network and setting the client up\n",
    "Before running this notebook:\n",
    "1. You should start the network from fedbiomed-network, as detailed in :\n",
    "https://gitlab.inria.fr/fedbiomed/fedbiomed\n",
    "\n",
    "2. You need to configure at least 2 nodes: <br/>\n",
    "* **Node 1 :** `./scripts/fedbiomed_run node add`\n",
    "  * Select option 1 to add a csv file to the client\n",
    "  * Choose the name, tags and description of the dataset (you can write 'sk' always and it will be good)\n",
    "  * Pick the .csv file you stored the couple X[0],y[0].\n",
    "  * Check that your data has been added in node 1 by executing `./scripts/fedbiomed_run node list`\n",
    "  * Run the node using `./scripts/fedbiomed_run node start`. <br/>\n",
    "\n",
    "* **Node 2 :** Open a second terminal and run ./scripts/fedbiomed_run node add config n2.ini\n",
    "  * Select option 1 to add a csv file to the client\n",
    "  * Choose the name, tags and description of the dataset (you can write 'sk' always and it will be good)\n",
    "  * Pick the .csv file you stored the couple X[1],y[1].\n",
    "  * Check that your data has been added in node 2 by executing `./scripts/fedbiomed_run node config n2.ini list`\n",
    "  * Run the node using `./scripts/fedbiomed_run node config n2.ini start`.\n",
    "  \n",
    "\n",
    "\n",
    " Wait until you get `Connected with result code 0`. it means node is online.\n"
   ]
  },
  {
   "cell_type": "code",
   "execution_count": 14,
   "id": "ade4cbea",
   "metadata": {},
   "outputs": [],
   "source": [
    "%load_ext autoreload\n",
    "%autoreload 2"
   ]
  },
  {
   "cell_type": "code",
   "execution_count": 15,
   "id": "b8c80070",
   "metadata": {},
   "outputs": [],
   "source": [
    "import numpy as np\n",
    "from fedbiomed.researcher.environ import TMP_DIR\n",
    "import tempfile\n",
    "tmp_dir_model = tempfile.TemporaryDirectory(dir=TMP_DIR+'/')\n",
    "model_file = tmp_dir_model.name + '/fed_mv_ppca.py'"
   ]
  },
  {
   "cell_type": "markdown",
   "id": "8e9aaa87",
   "metadata": {},
   "source": [
    "Hereafter the template of the class you should provide to Fedbiomed :\n",
    "       \n",
    "**training_data** : you must return here a tuple (X,X_k,ViewsX,y) or (X,X_k,ViewsX). Note that all centers should provide a dataset with the same view-specific columns. If in a specific center a view has not been observed, then the corresponding columns will be filled of nan. The training_data method take care of identifying view-specific sub-datasets and collecting information concerning non-available observations. Data can also been normalized here."
   ]
  },
  {
   "cell_type": "code",
   "execution_count": 16,
   "id": "f10cc76c",
   "metadata": {},
   "outputs": [
    {
     "name": "stdout",
     "output_type": "stream",
     "text": [
      "Writing /home/ybouilla/fedbiomed/var/tmp/tmpxwwm5na9/fed_mv_ppca.py\n"
     ]
    }
   ],
   "source": [
    "%%writefile \"$model_file\"\n",
    "\n",
    "from fedbiomed.common.ppca import PpcaPlan\n",
    "import numpy as np\n",
    "\n",
    "\n",
    "class Fed_MV_PPCA(PpcaPlan):\n",
    "    def __init__(self, kwargs):\n",
    "        super(Fed_MV_PPCA, self).__init__(kwargs)\n",
    "        deps = ['import numpy as np']\n",
    "        self.add_dependency(deps)\n",
    "    \n",
    "    def training_data(self):\n",
    "        \"\"\"\n",
    "            Perform in this method all data reading and data transformations you need.\n",
    "            At the end you should provide a tuple (X_obs,Xk,ViewsX,y), where: \n",
    "            X_obs is the training dataset, \n",
    "            Xk is a list containing the k-specific dataframe if it exists or 'NaN' otherwise,\n",
    "            ViewsX is the indicator function for observed views (ViewsX[k]=1 if view k is observed, 0 otherwise)\n",
    "            y the corresponding labels (optional)\n",
    "            The dataset is normalized using min max scaler if model_args['norm'] is true\n",
    "            Note: since labels are not needed for the optimization, \n",
    "            training_data can also simply return (X_obs,Xk,ViewsX)\n",
    "            :raise NotImplementedError if researcher do not implement this method.\n",
    "        \"\"\"\n",
    "        dataset = pd.read_csv(self.dataset_path,delimiter=',', index_col=0)\n",
    "        X = dataset.iloc[:,:-1]\n",
    "        y = dataset[dataset.columns[-1]]\n",
    "        \n",
    "        # Xk is a list contianing the view-specific local datasets\n",
    "        Xk = []\n",
    "        ViewsX = []\n",
    "        ind = 0\n",
    "        for k in range(self.K):\n",
    "            if X.iloc[:, ind].isnull().values.any():\n",
    "                Xk.append(np.nan)\n",
    "                ViewsX.append(0)\n",
    "            else:\n",
    "                # if norm = true, data are normalized with min max scaler\n",
    "                X_k = self.normalize_data(X.iloc[:, ind:ind + self.dim_views[k]]) if self.norm \\\n",
    "                    else X.iloc[:, ind:ind + self.dim_views[k]]\n",
    "                Xk.append(X_k)\n",
    "                ViewsX.append(1)\n",
    "            ind += self.dim_views[k]\n",
    "        \n",
    "        # The entire dataset is re-built without empty columns\n",
    "        Xk_obs = [item for item in Xk if item is not np.nan]\n",
    "        X_obs = pd.concat(Xk_obs, axis=1)\n",
    "        \n",
    "        return (X_obs,Xk,ViewsX,y)\n",
    "    "
   ]
  },
  {
   "cell_type": "markdown",
   "id": "69cda129",
   "metadata": {},
   "source": [
    "**model_args** is a dictionary containing the mv-ppca model arguments: the total number of views across all datasets (tot_views), the dimension of each view (dim_views), the latent space size (n_components), and a boolean (norm) for data preprocessing. Additionaly, the researcher can provide priors for one ore more global parameters.\n",
    "\n",
    "**training_args** contains here the number of local iterations for EM/MAP. "
   ]
  },
  {
   "cell_type": "code",
   "execution_count": 17,
   "id": "05aa5273",
   "metadata": {},
   "outputs": [],
   "source": [
    "tot_views = 3\n",
    "dim_views = [15, 8, 10]\n",
    "n_components = 4\n",
    "norm = True\n",
    "\n",
    "model_args = {'tot_views': tot_views, 'dim_views': dim_views, 'n_components': n_components, 'norm': norm}\n",
    "\n",
    "training_args = {'n_iterations': 15}"
   ]
  },
  {
   "cell_type": "code",
   "execution_count": 18,
   "id": "4b1a1341",
   "metadata": {},
   "outputs": [
    {
     "name": "stderr",
     "output_type": "stream",
     "text": [
      "2021-10-28 10:09:31,514 fedbiomed INFO - Messaging researcher_335fa46c-0085-4a0c-b590-42f03bd1f047 successfully connected to the message broker, object = <fedbiomed.common.messaging.Messaging object at 0x7ff9d0f7d580>\n",
      "2021-10-28 10:09:31,551 fedbiomed INFO - Searching dataset with data tags: ['ppca_data'] for all nodes\n",
      "2021-10-28 10:09:31,553 fedbiomed INFO - log from: client_47bae423-0c35-4412-b127-aec09990706b - DEBUG Message received: {'researcher_id': 'researcher_335fa46c-0085-4a0c-b590-42f03bd1f047', 'tags': ['ppca_data'], 'command': 'search'}\n",
      "2021-10-28 10:09:41,643 fedbiomed INFO - Messaging NodeTrainingFeedbackClient successfully connected to the message broker, object = <fedbiomed.common.messaging.Messaging object at 0x7ff9d06e1b50>\n"
     ]
    }
   ],
   "source": [
    "from fedbiomed.researcher.experiment import Experiment\n",
    "from fedbiomed.researcher.aggregators.mlaggregator import MLaggregator\n",
    "\n",
    "tags =  ['ppca_data']\n",
    "rounds = 5\n",
    "\n",
    "# select nodes pr into task <Task pending name='Task-27' coro=<HTTP1ServerConnection._server_request_loop() running at /user/ybouilla/home/.conda/envs/fedbiomed-researcher/lib/python3.9/site-packages/tornado/http1connection.py:823> wait_for=<Future finished result=b'GET /kernel...6bd7\"\\r\\n\\r\\n'> cb=[IOLoop.add_future.<locals>.<lambda>() at /user/ybouilla/home/.conda/envs/fedbiomed-researcher/lib/python3.9/site-packages/tornado/ioloop.py:688]> while another task <Task pending name='Task-2' coro=<KernelManager._async_start_kernel() running at /user/ybouilla/home/.conda/envs/fedbiomed-researcher/lib/python3.9/site-packages/jupyter_carticiping to this experiment\n",
    "exp = Experiment(tags=tags,\n",
    "                 #clients=None,\n",
    "                 model_path=model_file,\n",
    "                 model_args=model_args,\n",
    "                 model_class='Fed_MV_PPCA',\n",
    "                 training_args=training_args,\n",
    "                 rounds=rounds,\n",
    "                 aggregator=MLaggregator(),\n",
    "                 client_selection_strategy=None)"
   ]
  },
  {
   "cell_type": "code",
   "execution_count": 19,
   "id": "d6ff55da",
   "metadata": {
    "scrolled": false
   },
   "outputs": [
    {
     "name": "stderr",
     "output_type": "stream",
     "text": [
      "2021-10-28 10:12:07,404 fedbiomed INFO - Sampled clients in round 0 ['client_47bae423-0c35-4412-b127-aec09990706b']\n",
      "2021-10-28 10:12:07,404 fedbiomed INFO - Send message to client client_47bae423-0c35-4412-b127-aec09990706b - {'researcher_id': 'researcher_335fa46c-0085-4a0c-b590-42f03bd1f047', 'job_id': '6f1a643c-421e-4cf1-ada8-5e8ba28c3bef', 'training_args': {'n_iterations': 15}, 'model_args': {'tot_views': 3, 'dim_views': [15, 8, 10], 'n_components': 4, 'norm': True}, 'command': 'train', 'model_url': 'http://localhost:8844/media/uploads/2021/10/28/my_model_d573163f-9e4e-490e-bca0-a9c2d5c68192.py', 'params_url': 'http://localhost:8844/media/uploads/2021/10/28/my_model_48f19330-1d73-4fe9-8012-9058056a6795.pt', 'model_class': 'Fed_MV_PPCA', 'training_data': {'client_47bae423-0c35-4412-b127-aec09990706b': ['dataset_57b964e7-e6ae-4b6f-881c-9b5bab16bdd9']}}\n",
      "2021-10-28 10:12:07,405 fedbiomed DEBUG - researcher_335fa46c-0085-4a0c-b590-42f03bd1f047\n",
      "2021-10-28 10:12:07,408 fedbiomed INFO - log from: client_47bae423-0c35-4412-b127-aec09990706b - DEBUG Message received: {'researcher_id': 'researcher_335fa46c-0085-4a0c-b590-42f03bd1f047', 'job_id': '6f1a643c-421e-4cf1-ada8-5e8ba28c3bef', 'training_args': {'n_iterations': 15}, 'model_args': {'tot_views': 3, 'dim_views': [15, 8, 10], 'n_components': 4, 'norm': True}, 'command': 'train', 'model_url': 'http://localhost:8844/media/uploads/2021/10/28/my_model_d573163f-9e4e-490e-bca0-a9c2d5c68192.py', 'params_url': 'http://localhost:8844/media/uploads/2021/10/28/my_model_48f19330-1d73-4fe9-8012-9058056a6795.pt', 'model_class': 'Fed_MV_PPCA', 'training_data': {'client_47bae423-0c35-4412-b127-aec09990706b': ['dataset_57b964e7-e6ae-4b6f-881c-9b5bab16bdd9']}}\n",
      "2021-10-28 10:12:07,409 fedbiomed INFO - log from: client_47bae423-0c35-4412-b127-aec09990706b - DEBUG [TASKS QUEUE] Item:{'researcher_id': 'researcher_335fa46c-0085-4a0c-b590-42f03bd1f047', 'job_id': '6f1a643c-421e-4cf1-ada8-5e8ba28c3bef', 'params_url': 'http://localhost:8844/media/uploads/2021/10/28/my_model_48f19330-1d73-4fe9-8012-9058056a6795.pt', 'training_args': {'n_iterations': 15}, 'training_data': {'client_47bae423-0c35-4412-b127-aec09990706b': ['dataset_57b964e7-e6ae-4b6f-881c-9b5bab16bdd9']}, 'model_args': {'tot_views': 3, 'dim_views': [15, 8, 10], 'n_components': 4, 'norm': True}, 'model_url': 'http://localhost:8844/media/uploads/2021/10/28/my_model_d573163f-9e4e-490e-bca0-a9c2d5c68192.py', 'model_class': 'Fed_MV_PPCA', 'command': 'train'}\n",
      "2021-10-28 10:12:07,426 fedbiomed INFO - log from: client_47bae423-0c35-4412-b127-aec09990706b - INFO {'monitor': <fedbiomed.node.history_monitor.HistoryMonitor object at 0x7fb07d9b1460>, 'n_iterations': 15}\n",
      "2021-10-28 10:12:07,427 fedbiomed INFO - log from: client_47bae423-0c35-4412-b127-aec09990706b - DEBUG Dataset_path/home/ybouilla/fedbiomed/notebooks/== Local path to node1.csv\n",
      "2021-10-28 10:12:07,537 fedbiomed INFO - log from: client_47bae423-0c35-4412-b127-aec09990706b - INFO Iteration: 1/15\tExpected LL: 4773.766031\n",
      "2021-10-28 10:12:07,608 fedbiomed INFO - log from: client_47bae423-0c35-4412-b127-aec09990706b - INFO Iteration: 2/15\tExpected LL: -56.629915\n",
      "2021-10-28 10:12:07,680 fedbiomed INFO - log from: client_47bae423-0c35-4412-b127-aec09990706b - INFO Iteration: 3/15\tExpected LL: 2860.051528\n",
      "2021-10-28 10:12:07,748 fedbiomed INFO - log from: client_47bae423-0c35-4412-b127-aec09990706b - INFO Iteration: 4/15\tExpected LL: 1962.301319\n",
      "2021-10-28 10:12:07,837 fedbiomed INFO - log from: client_47bae423-0c35-4412-b127-aec09990706b - INFO Iteration: 5/15\tExpected LL: 1323.922851\n",
      "2021-10-28 10:12:07,929 fedbiomed INFO - log from: client_47bae423-0c35-4412-b127-aec09990706b - INFO Iteration: 6/15\tExpected LL: 671.179826\n",
      "2021-10-28 10:12:08,014 fedbiomed INFO - log from: client_47bae423-0c35-4412-b127-aec09990706b - INFO Iteration: 7/15\tExpected LL: 680.459044\n",
      "2021-10-28 10:12:08,092 fedbiomed INFO - log from: client_47bae423-0c35-4412-b127-aec09990706b - INFO Iteration: 8/15\tExpected LL: 1320.209360\n",
      "2021-10-28 10:12:08,188 fedbiomed INFO - log from: client_47bae423-0c35-4412-b127-aec09990706b - INFO Iteration: 9/15\tExpected LL: 2184.133026\n",
      "2021-10-28 10:12:08,266 fedbiomed INFO - log from: client_47bae423-0c35-4412-b127-aec09990706b - INFO Iteration: 10/15\tExpected LL: 2988.405316\n",
      "2021-10-28 10:12:08,359 fedbiomed INFO - log from: client_47bae423-0c35-4412-b127-aec09990706b - INFO Iteration: 11/15\tExpected LL: 3679.684002\n",
      "2021-10-28 10:12:08,475 fedbiomed INFO - log from: client_47bae423-0c35-4412-b127-aec09990706b - INFO Iteration: 12/15\tExpected LL: 4305.954861\n",
      "2021-10-28 10:12:08,583 fedbiomed INFO - log from: client_47bae423-0c35-4412-b127-aec09990706b - INFO Iteration: 13/15\tExpected LL: 4892.444314\n",
      "2021-10-28 10:12:08,740 fedbiomed INFO - log from: client_47bae423-0c35-4412-b127-aec09990706b - INFO Iteration: 14/15\tExpected LL: 5432.039139\n",
      "2021-10-28 10:12:08,907 fedbiomed INFO - log from: client_47bae423-0c35-4412-b127-aec09990706b - INFO Iteration: 15/15\tExpected LL: 5917.629312\n",
      "2021-10-28 10:12:08,936 fedbiomed INFO - log from: client_47bae423-0c35-4412-b127-aec09990706b - INFO results uploaded successfully \n",
      "2021-10-28 10:12:17,417 fedbiomed INFO - Downloading model params after training on client_47bae423-0c35-4412-b127-aec09990706b - from http://localhost:8844/media/uploads/2021/10/28/node_params_d0f7b8d0-e440-43bb-a0a4-265444e5eeeb.pt\n",
      "2021-10-28 10:12:17,452 fedbiomed INFO - Clients that successfully reply in round 0 ['client_47bae423-0c35-4412-b127-aec09990706b']\n",
      "2021-10-28 10:12:17,513 fedbiomed INFO - Sampled clients in round 1 ['client_47bae423-0c35-4412-b127-aec09990706b']\n",
      "2021-10-28 10:12:17,514 fedbiomed INFO - Send message to client client_47bae423-0c35-4412-b127-aec09990706b - {'researcher_id': 'researcher_335fa46c-0085-4a0c-b590-42f03bd1f047', 'job_id': '6f1a643c-421e-4cf1-ada8-5e8ba28c3bef', 'training_args': {'n_iterations': 15}, 'model_args': {'tot_views': 3, 'dim_views': [15, 8, 10], 'n_components': 4, 'norm': True}, 'command': 'train', 'model_url': 'http://localhost:8844/media/uploads/2021/10/28/my_model_d573163f-9e4e-490e-bca0-a9c2d5c68192.py', 'params_url': 'http://localhost:8844/media/uploads/2021/10/28/researcher_params_6e237afc-c9b4-4bf3-bebf-4a0228c554da.pt', 'model_class': 'Fed_MV_PPCA', 'training_data': {'client_47bae423-0c35-4412-b127-aec09990706b': ['dataset_57b964e7-e6ae-4b6f-881c-9b5bab16bdd9']}}\n",
      "2021-10-28 10:12:17,515 fedbiomed DEBUG - researcher_335fa46c-0085-4a0c-b590-42f03bd1f047\n",
      "2021-10-28 10:12:17,521 fedbiomed INFO - log from: client_47bae423-0c35-4412-b127-aec09990706b - DEBUG Message received: {'researcher_id': 'researcher_335fa46c-0085-4a0c-b590-42f03bd1f047', 'job_id': '6f1a643c-421e-4cf1-ada8-5e8ba28c3bef', 'training_args': {'n_iterations': 15}, 'model_args': {'tot_views': 3, 'dim_views': [15, 8, 10], 'n_components': 4, 'norm': True}, 'command': 'train', 'model_url': 'http://localhost:8844/media/uploads/2021/10/28/my_model_d573163f-9e4e-490e-bca0-a9c2d5c68192.py', 'params_url': 'http://localhost:8844/media/uploads/2021/10/28/researcher_params_6e237afc-c9b4-4bf3-bebf-4a0228c554da.pt', 'model_class': 'Fed_MV_PPCA', 'training_data': {'client_47bae423-0c35-4412-b127-aec09990706b': ['dataset_57b964e7-e6ae-4b6f-881c-9b5bab16bdd9']}}\n",
      "2021-10-28 10:12:17,527 fedbiomed INFO - log from: client_47bae423-0c35-4412-b127-aec09990706b - DEBUG [TASKS QUEUE] Item:{'researcher_id': 'researcher_335fa46c-0085-4a0c-b590-42f03bd1f047', 'job_id': '6f1a643c-421e-4cf1-ada8-5e8ba28c3bef', 'params_url': 'http://localhost:8844/media/uploads/2021/10/28/researcher_params_6e237afc-c9b4-4bf3-bebf-4a0228c554da.pt', 'training_args': {'n_iterations': 15}, 'training_data': {'client_47bae423-0c35-4412-b127-aec09990706b': ['dataset_57b964e7-e6ae-4b6f-881c-9b5bab16bdd9']}, 'model_args': {'tot_views': 3, 'dim_views': [15, 8, 10], 'n_components': 4, 'norm': True}, 'model_url': 'http://localhost:8844/media/uploads/2021/10/28/my_model_d573163f-9e4e-490e-bca0-a9c2d5c68192.py', 'model_class': 'Fed_MV_PPCA', 'command': 'train'}\n",
      "2021-10-28 10:12:17,545 fedbiomed INFO - log from: client_47bae423-0c35-4412-b127-aec09990706b - INFO {'monitor': <fedbiomed.node.history_monitor.HistoryMonitor object at 0x7fb07d99ebe0>, 'n_iterations': 15}\n"
     ]
    },
    {
     "name": "stderr",
     "output_type": "stream",
     "text": [
      "2021-10-28 10:12:17,546 fedbiomed INFO - log from: client_47bae423-0c35-4412-b127-aec09990706b - DEBUG Dataset_path/home/ybouilla/fedbiomed/notebooks/== Local path to node1.csv\n",
      "2021-10-28 10:12:17,749 fedbiomed INFO - log from: client_47bae423-0c35-4412-b127-aec09990706b - INFO Iteration: 1/15\tExpected LL: 6565.259413\n",
      "2021-10-28 10:12:17,856 fedbiomed INFO - log from: client_47bae423-0c35-4412-b127-aec09990706b - INFO Iteration: 2/15\tExpected LL: 6443.573529\n",
      "2021-10-28 10:12:17,961 fedbiomed INFO - log from: client_47bae423-0c35-4412-b127-aec09990706b - INFO Iteration: 3/15\tExpected LL: 6429.379029\n",
      "2021-10-28 10:12:18,114 fedbiomed INFO - log from: client_47bae423-0c35-4412-b127-aec09990706b - INFO Iteration: 4/15\tExpected LL: 6427.146840\n",
      "2021-10-28 10:12:18,326 fedbiomed INFO - log from: client_47bae423-0c35-4412-b127-aec09990706b - INFO Iteration: 5/15\tExpected LL: 6426.801449\n",
      "2021-10-28 10:12:18,484 fedbiomed INFO - log from: client_47bae423-0c35-4412-b127-aec09990706b - INFO Iteration: 6/15\tExpected LL: 6426.751132\n",
      "2021-10-28 10:12:18,639 fedbiomed INFO - log from: client_47bae423-0c35-4412-b127-aec09990706b - INFO Iteration: 7/15\tExpected LL: 6426.744699\n",
      "2021-10-28 10:12:18,817 fedbiomed INFO - log from: client_47bae423-0c35-4412-b127-aec09990706b - INFO Iteration: 8/15\tExpected LL: 6426.744096\n",
      "2021-10-28 10:12:18,982 fedbiomed INFO - log from: client_47bae423-0c35-4412-b127-aec09990706b - INFO Iteration: 9/15\tExpected LL: 6426.744081\n",
      "2021-10-28 10:12:19,120 fedbiomed INFO - log from: client_47bae423-0c35-4412-b127-aec09990706b - INFO Iteration: 10/15\tExpected LL: 6426.744078\n",
      "2021-10-28 10:12:19,287 fedbiomed INFO - log from: client_47bae423-0c35-4412-b127-aec09990706b - INFO Iteration: 11/15\tExpected LL: 6426.744066\n",
      "2021-10-28 10:12:19,433 fedbiomed INFO - log from: client_47bae423-0c35-4412-b127-aec09990706b - INFO Iteration: 12/15\tExpected LL: 6426.744056\n",
      "2021-10-28 10:12:19,562 fedbiomed INFO - log from: client_47bae423-0c35-4412-b127-aec09990706b - INFO Iteration: 13/15\tExpected LL: 6426.744049\n",
      "2021-10-28 10:12:19,686 fedbiomed INFO - log from: client_47bae423-0c35-4412-b127-aec09990706b - INFO Iteration: 14/15\tExpected LL: 6426.744045\n",
      "2021-10-28 10:12:19,828 fedbiomed INFO - log from: client_47bae423-0c35-4412-b127-aec09990706b - INFO Iteration: 15/15\tExpected LL: 6426.744043\n",
      "2021-10-28 10:12:19,863 fedbiomed INFO - log from: client_47bae423-0c35-4412-b127-aec09990706b - INFO results uploaded successfully \n",
      "2021-10-28 10:12:27,529 fedbiomed INFO - Downloading model params after training on client_47bae423-0c35-4412-b127-aec09990706b - from http://localhost:8844/media/uploads/2021/10/28/node_params_9428c0e2-a911-4208-9b3f-9485bc3437e4.pt\n",
      "2021-10-28 10:12:27,558 fedbiomed INFO - Clients that successfully reply in round 1 ['client_47bae423-0c35-4412-b127-aec09990706b']\n",
      "2021-10-28 10:12:27,585 fedbiomed INFO - Sampled clients in round 2 ['client_47bae423-0c35-4412-b127-aec09990706b']\n",
      "2021-10-28 10:12:27,586 fedbiomed INFO - Send message to client client_47bae423-0c35-4412-b127-aec09990706b - {'researcher_id': 'researcher_335fa46c-0085-4a0c-b590-42f03bd1f047', 'job_id': '6f1a643c-421e-4cf1-ada8-5e8ba28c3bef', 'training_args': {'n_iterations': 15}, 'model_args': {'tot_views': 3, 'dim_views': [15, 8, 10], 'n_components': 4, 'norm': True}, 'command': 'train', 'model_url': 'http://localhost:8844/media/uploads/2021/10/28/my_model_d573163f-9e4e-490e-bca0-a9c2d5c68192.py', 'params_url': 'http://localhost:8844/media/uploads/2021/10/28/researcher_params_30236906-6a46-4fbe-a201-9f3d72e1fc56.pt', 'model_class': 'Fed_MV_PPCA', 'training_data': {'client_47bae423-0c35-4412-b127-aec09990706b': ['dataset_57b964e7-e6ae-4b6f-881c-9b5bab16bdd9']}}\n",
      "2021-10-28 10:12:27,586 fedbiomed DEBUG - researcher_335fa46c-0085-4a0c-b590-42f03bd1f047\n",
      "2021-10-28 10:12:27,590 fedbiomed INFO - log from: client_47bae423-0c35-4412-b127-aec09990706b - DEBUG Message received: {'researcher_id': 'researcher_335fa46c-0085-4a0c-b590-42f03bd1f047', 'job_id': '6f1a643c-421e-4cf1-ada8-5e8ba28c3bef', 'training_args': {'n_iterations': 15}, 'model_args': {'tot_views': 3, 'dim_views': [15, 8, 10], 'n_components': 4, 'norm': True}, 'command': 'train', 'model_url': 'http://localhost:8844/media/uploads/2021/10/28/my_model_d573163f-9e4e-490e-bca0-a9c2d5c68192.py', 'params_url': 'http://localhost:8844/media/uploads/2021/10/28/researcher_params_30236906-6a46-4fbe-a201-9f3d72e1fc56.pt', 'model_class': 'Fed_MV_PPCA', 'training_data': {'client_47bae423-0c35-4412-b127-aec09990706b': ['dataset_57b964e7-e6ae-4b6f-881c-9b5bab16bdd9']}}\n",
      "2021-10-28 10:12:27,595 fedbiomed INFO - log from: client_47bae423-0c35-4412-b127-aec09990706b - DEBUG [TASKS QUEUE] Item:{'researcher_id': 'researcher_335fa46c-0085-4a0c-b590-42f03bd1f047', 'job_id': '6f1a643c-421e-4cf1-ada8-5e8ba28c3bef', 'params_url': 'http://localhost:8844/media/uploads/2021/10/28/researcher_params_30236906-6a46-4fbe-a201-9f3d72e1fc56.pt', 'training_args': {'n_iterations': 15}, 'training_data': {'client_47bae423-0c35-4412-b127-aec09990706b': ['dataset_57b964e7-e6ae-4b6f-881c-9b5bab16bdd9']}, 'model_args': {'tot_views': 3, 'dim_views': [15, 8, 10], 'n_components': 4, 'norm': True}, 'model_url': 'http://localhost:8844/media/uploads/2021/10/28/my_model_d573163f-9e4e-490e-bca0-a9c2d5c68192.py', 'model_class': 'Fed_MV_PPCA', 'command': 'train'}\n",
      "2021-10-28 10:12:27,608 fedbiomed INFO - log from: client_47bae423-0c35-4412-b127-aec09990706b - INFO {'monitor': <fedbiomed.node.history_monitor.HistoryMonitor object at 0x7fb07d9b1460>, 'n_iterations': 15}\n",
      "2021-10-28 10:12:27,609 fedbiomed INFO - log from: client_47bae423-0c35-4412-b127-aec09990706b - DEBUG Dataset_path/home/ybouilla/fedbiomed/notebooks/== Local path to node1.csv\n",
      "2021-10-28 10:12:27,828 fedbiomed INFO - log from: client_47bae423-0c35-4412-b127-aec09990706b - INFO Iteration: 1/15\tExpected LL: 6571.223242\n",
      "2021-10-28 10:12:28,011 fedbiomed INFO - log from: client_47bae423-0c35-4412-b127-aec09990706b - INFO Iteration: 2/15\tExpected LL: 6500.313714\n",
      "2021-10-28 10:12:28,203 fedbiomed INFO - log from: client_47bae423-0c35-4412-b127-aec09990706b - INFO Iteration: 3/15\tExpected LL: 6495.499059\n",
      "2021-10-28 10:12:28,383 fedbiomed INFO - log from: client_47bae423-0c35-4412-b127-aec09990706b - INFO Iteration: 4/15\tExpected LL: 6495.075505\n",
      "2021-10-28 10:12:28,582 fedbiomed INFO - log from: client_47bae423-0c35-4412-b127-aec09990706b - INFO Iteration: 5/15\tExpected LL: 6495.151490\n",
      "2021-10-28 10:12:28,797 fedbiomed INFO - log from: client_47bae423-0c35-4412-b127-aec09990706b - INFO Iteration: 6/15\tExpected LL: 6495.209693\n",
      "2021-10-28 10:12:29,008 fedbiomed INFO - log from: client_47bae423-0c35-4412-b127-aec09990706b - INFO Iteration: 7/15\tExpected LL: 6495.233167\n",
      "2021-10-28 10:12:29,207 fedbiomed INFO - log from: client_47bae423-0c35-4412-b127-aec09990706b - INFO Iteration: 8/15\tExpected LL: 6495.241329\n",
      "2021-10-28 10:12:29,387 fedbiomed INFO - log from: client_47bae423-0c35-4412-b127-aec09990706b - INFO Iteration: 9/15\tExpected LL: 6495.244054\n",
      "2021-10-28 10:12:29,570 fedbiomed INFO - log from: client_47bae423-0c35-4412-b127-aec09990706b - INFO Iteration: 10/15\tExpected LL: 6495.244972\n",
      "2021-10-28 10:12:29,772 fedbiomed INFO - log from: client_47bae423-0c35-4412-b127-aec09990706b - INFO Iteration: 11/15\tExpected LL: 6495.245291\n",
      "2021-10-28 10:12:29,957 fedbiomed INFO - log from: client_47bae423-0c35-4412-b127-aec09990706b - INFO Iteration: 12/15\tExpected LL: 6495.245408\n",
      "2021-10-28 10:12:30,100 fedbiomed INFO - log from: client_47bae423-0c35-4412-b127-aec09990706b - INFO Iteration: 13/15\tExpected LL: 6495.245454\n",
      "2021-10-28 10:12:30,202 fedbiomed INFO - log from: client_47bae423-0c35-4412-b127-aec09990706b - INFO Iteration: 14/15\tExpected LL: 6495.245472\n",
      "2021-10-28 10:12:30,299 fedbiomed INFO - log from: client_47bae423-0c35-4412-b127-aec09990706b - INFO Iteration: 15/15\tExpected LL: 6495.245480\n",
      "2021-10-28 10:12:30,325 fedbiomed INFO - log from: client_47bae423-0c35-4412-b127-aec09990706b - INFO results uploaded successfully \n",
      "2021-10-28 10:12:37,599 fedbiomed INFO - Downloading model params after training on client_47bae423-0c35-4412-b127-aec09990706b - from http://localhost:8844/media/uploads/2021/10/28/node_params_5ff135ea-1fa6-4e70-ba77-00c9dff6449b.pt\n"
     ]
    },
    {
     "name": "stderr",
     "output_type": "stream",
     "text": [
      "2021-10-28 10:12:37,610 fedbiomed INFO - Clients that successfully reply in round 2 ['client_47bae423-0c35-4412-b127-aec09990706b']\n",
      "2021-10-28 10:12:37,641 fedbiomed INFO - Sampled clients in round 3 ['client_47bae423-0c35-4412-b127-aec09990706b']\n",
      "2021-10-28 10:12:37,643 fedbiomed INFO - Send message to client client_47bae423-0c35-4412-b127-aec09990706b - {'researcher_id': 'researcher_335fa46c-0085-4a0c-b590-42f03bd1f047', 'job_id': '6f1a643c-421e-4cf1-ada8-5e8ba28c3bef', 'training_args': {'n_iterations': 15}, 'model_args': {'tot_views': 3, 'dim_views': [15, 8, 10], 'n_components': 4, 'norm': True}, 'command': 'train', 'model_url': 'http://localhost:8844/media/uploads/2021/10/28/my_model_d573163f-9e4e-490e-bca0-a9c2d5c68192.py', 'params_url': 'http://localhost:8844/media/uploads/2021/10/28/researcher_params_b2d4799c-b828-476a-aea0-ae1a4975656d.pt', 'model_class': 'Fed_MV_PPCA', 'training_data': {'client_47bae423-0c35-4412-b127-aec09990706b': ['dataset_57b964e7-e6ae-4b6f-881c-9b5bab16bdd9']}}\n",
      "2021-10-28 10:12:37,645 fedbiomed DEBUG - researcher_335fa46c-0085-4a0c-b590-42f03bd1f047\n",
      "2021-10-28 10:12:37,649 fedbiomed INFO - log from: client_47bae423-0c35-4412-b127-aec09990706b - DEBUG Message received: {'researcher_id': 'researcher_335fa46c-0085-4a0c-b590-42f03bd1f047', 'job_id': '6f1a643c-421e-4cf1-ada8-5e8ba28c3bef', 'training_args': {'n_iterations': 15}, 'model_args': {'tot_views': 3, 'dim_views': [15, 8, 10], 'n_components': 4, 'norm': True}, 'command': 'train', 'model_url': 'http://localhost:8844/media/uploads/2021/10/28/my_model_d573163f-9e4e-490e-bca0-a9c2d5c68192.py', 'params_url': 'http://localhost:8844/media/uploads/2021/10/28/researcher_params_b2d4799c-b828-476a-aea0-ae1a4975656d.pt', 'model_class': 'Fed_MV_PPCA', 'training_data': {'client_47bae423-0c35-4412-b127-aec09990706b': ['dataset_57b964e7-e6ae-4b6f-881c-9b5bab16bdd9']}}\n",
      "2021-10-28 10:12:37,659 fedbiomed INFO - log from: client_47bae423-0c35-4412-b127-aec09990706b - DEBUG [TASKS QUEUE] Item:{'researcher_id': 'researcher_335fa46c-0085-4a0c-b590-42f03bd1f047', 'job_id': '6f1a643c-421e-4cf1-ada8-5e8ba28c3bef', 'params_url': 'http://localhost:8844/media/uploads/2021/10/28/researcher_params_b2d4799c-b828-476a-aea0-ae1a4975656d.pt', 'training_args': {'n_iterations': 15}, 'training_data': {'client_47bae423-0c35-4412-b127-aec09990706b': ['dataset_57b964e7-e6ae-4b6f-881c-9b5bab16bdd9']}, 'model_args': {'tot_views': 3, 'dim_views': [15, 8, 10], 'n_components': 4, 'norm': True}, 'model_url': 'http://localhost:8844/media/uploads/2021/10/28/my_model_d573163f-9e4e-490e-bca0-a9c2d5c68192.py', 'model_class': 'Fed_MV_PPCA', 'command': 'train'}\n",
      "2021-10-28 10:12:37,683 fedbiomed INFO - log from: client_47bae423-0c35-4412-b127-aec09990706b - INFO {'monitor': <fedbiomed.node.history_monitor.HistoryMonitor object at 0x7fb07d99ebe0>, 'n_iterations': 15}\n",
      "2021-10-28 10:12:37,686 fedbiomed INFO - log from: client_47bae423-0c35-4412-b127-aec09990706b - DEBUG Dataset_path/home/ybouilla/fedbiomed/notebooks/== Local path to node1.csv\n",
      "2021-10-28 10:12:37,869 fedbiomed INFO - log from: client_47bae423-0c35-4412-b127-aec09990706b - INFO Iteration: 1/15\tExpected LL: 6591.315929\n",
      "2021-10-28 10:12:37,982 fedbiomed INFO - log from: client_47bae423-0c35-4412-b127-aec09990706b - INFO Iteration: 2/15\tExpected LL: 6560.734758\n",
      "2021-10-28 10:12:38,086 fedbiomed INFO - log from: client_47bae423-0c35-4412-b127-aec09990706b - INFO Iteration: 3/15\tExpected LL: 6558.114894\n",
      "2021-10-28 10:12:38,211 fedbiomed INFO - log from: client_47bae423-0c35-4412-b127-aec09990706b - INFO Iteration: 4/15\tExpected LL: 6557.335231\n",
      "2021-10-28 10:12:38,371 fedbiomed INFO - log from: client_47bae423-0c35-4412-b127-aec09990706b - INFO Iteration: 5/15\tExpected LL: 6557.145423\n",
      "2021-10-28 10:12:38,526 fedbiomed INFO - log from: client_47bae423-0c35-4412-b127-aec09990706b - INFO Iteration: 6/15\tExpected LL: 6557.095049\n",
      "2021-10-28 10:12:38,694 fedbiomed INFO - log from: client_47bae423-0c35-4412-b127-aec09990706b - INFO Iteration: 7/15\tExpected LL: 6557.078428\n",
      "2021-10-28 10:12:38,871 fedbiomed INFO - log from: client_47bae423-0c35-4412-b127-aec09990706b - INFO Iteration: 8/15\tExpected LL: 6557.071820\n",
      "2021-10-28 10:12:39,044 fedbiomed INFO - log from: client_47bae423-0c35-4412-b127-aec09990706b - INFO Iteration: 9/15\tExpected LL: 6557.068952\n",
      "2021-10-28 10:12:39,231 fedbiomed INFO - log from: client_47bae423-0c35-4412-b127-aec09990706b - INFO Iteration: 10/15\tExpected LL: 6557.067676\n",
      "2021-10-28 10:12:39,447 fedbiomed INFO - log from: client_47bae423-0c35-4412-b127-aec09990706b - INFO Iteration: 11/15\tExpected LL: 6557.067108\n",
      "2021-10-28 10:12:39,646 fedbiomed INFO - log from: client_47bae423-0c35-4412-b127-aec09990706b - INFO Iteration: 12/15\tExpected LL: 6557.066857\n",
      "2021-10-28 10:12:39,792 fedbiomed INFO - log from: client_47bae423-0c35-4412-b127-aec09990706b - INFO Iteration: 13/15\tExpected LL: 6557.066746\n",
      "2021-10-28 10:12:39,951 fedbiomed INFO - log from: client_47bae423-0c35-4412-b127-aec09990706b - INFO Iteration: 14/15\tExpected LL: 6557.066697\n",
      "2021-10-28 10:12:40,065 fedbiomed INFO - log from: client_47bae423-0c35-4412-b127-aec09990706b - INFO Iteration: 15/15\tExpected LL: 6557.066676\n",
      "2021-10-28 10:12:40,094 fedbiomed INFO - log from: client_47bae423-0c35-4412-b127-aec09990706b - INFO results uploaded successfully \n",
      "2021-10-28 10:12:47,658 fedbiomed INFO - Downloading model params after training on client_47bae423-0c35-4412-b127-aec09990706b - from http://localhost:8844/media/uploads/2021/10/28/node_params_a3c8e690-09c0-4158-ab6d-da3a536d4a08.pt\n",
      "2021-10-28 10:12:47,677 fedbiomed INFO - Clients that successfully reply in round 3 ['client_47bae423-0c35-4412-b127-aec09990706b']\n",
      "2021-10-28 10:12:47,710 fedbiomed INFO - Sampled clients in round 4 ['client_47bae423-0c35-4412-b127-aec09990706b']\n",
      "2021-10-28 10:12:47,710 fedbiomed INFO - Send message to client client_47bae423-0c35-4412-b127-aec09990706b - {'researcher_id': 'researcher_335fa46c-0085-4a0c-b590-42f03bd1f047', 'job_id': '6f1a643c-421e-4cf1-ada8-5e8ba28c3bef', 'training_args': {'n_iterations': 15}, 'model_args': {'tot_views': 3, 'dim_views': [15, 8, 10], 'n_components': 4, 'norm': True}, 'command': 'train', 'model_url': 'http://localhost:8844/media/uploads/2021/10/28/my_model_d573163f-9e4e-490e-bca0-a9c2d5c68192.py', 'params_url': 'http://localhost:8844/media/uploads/2021/10/28/researcher_params_299d0684-e862-423a-8959-4a8fae9573cc.pt', 'model_class': 'Fed_MV_PPCA', 'training_data': {'client_47bae423-0c35-4412-b127-aec09990706b': ['dataset_57b964e7-e6ae-4b6f-881c-9b5bab16bdd9']}}\n",
      "2021-10-28 10:12:47,711 fedbiomed DEBUG - researcher_335fa46c-0085-4a0c-b590-42f03bd1f047\n",
      "2021-10-28 10:12:47,714 fedbiomed INFO - log from: client_47bae423-0c35-4412-b127-aec09990706b - DEBUG Message received: {'researcher_id': 'researcher_335fa46c-0085-4a0c-b590-42f03bd1f047', 'job_id': '6f1a643c-421e-4cf1-ada8-5e8ba28c3bef', 'training_args': {'n_iterations': 15}, 'model_args': {'tot_views': 3, 'dim_views': [15, 8, 10], 'n_components': 4, 'norm': True}, 'command': 'train', 'model_url': 'http://localhost:8844/media/uploads/2021/10/28/my_model_d573163f-9e4e-490e-bca0-a9c2d5c68192.py', 'params_url': 'http://localhost:8844/media/uploads/2021/10/28/researcher_params_299d0684-e862-423a-8959-4a8fae9573cc.pt', 'model_class': 'Fed_MV_PPCA', 'training_data': {'client_47bae423-0c35-4412-b127-aec09990706b': ['dataset_57b964e7-e6ae-4b6f-881c-9b5bab16bdd9']}}\n",
      "2021-10-28 10:12:47,715 fedbiomed INFO - log from: client_47bae423-0c35-4412-b127-aec09990706b - DEBUG [TASKS QUEUE] Item:{'researcher_id': 'researcher_335fa46c-0085-4a0c-b590-42f03bd1f047', 'job_id': '6f1a643c-421e-4cf1-ada8-5e8ba28c3bef', 'params_url': 'http://localhost:8844/media/uploads/2021/10/28/researcher_params_299d0684-e862-423a-8959-4a8fae9573cc.pt', 'training_args': {'n_iterations': 15}, 'training_data': {'client_47bae423-0c35-4412-b127-aec09990706b': ['dataset_57b964e7-e6ae-4b6f-881c-9b5bab16bdd9']}, 'model_args': {'tot_views': 3, 'dim_views': [15, 8, 10], 'n_components': 4, 'norm': True}, 'model_url': 'http://localhost:8844/media/uploads/2021/10/28/my_model_d573163f-9e4e-490e-bca0-a9c2d5c68192.py', 'model_class': 'Fed_MV_PPCA', 'command': 'train'}\n",
      "2021-10-28 10:12:47,736 fedbiomed INFO - log from: client_47bae423-0c35-4412-b127-aec09990706b - INFO {'monitor': <fedbiomed.node.history_monitor.HistoryMonitor object at 0x7fb07d9b1460>, 'n_iterations': 15}\n"
     ]
    },
    {
     "name": "stderr",
     "output_type": "stream",
     "text": [
      "2021-10-28 10:12:47,738 fedbiomed INFO - log from: client_47bae423-0c35-4412-b127-aec09990706b - DEBUG Dataset_path/home/ybouilla/fedbiomed/notebooks/== Local path to node1.csv\n",
      "2021-10-28 10:12:47,924 fedbiomed INFO - log from: client_47bae423-0c35-4412-b127-aec09990706b - INFO Iteration: 1/15\tExpected LL: 6671.906147\n",
      "2021-10-28 10:12:48,033 fedbiomed INFO - log from: client_47bae423-0c35-4412-b127-aec09990706b - INFO Iteration: 2/15\tExpected LL: 6624.324936\n",
      "2021-10-28 10:12:48,147 fedbiomed INFO - log from: client_47bae423-0c35-4412-b127-aec09990706b - INFO Iteration: 3/15\tExpected LL: 6615.713579\n",
      "2021-10-28 10:12:48,275 fedbiomed INFO - log from: client_47bae423-0c35-4412-b127-aec09990706b - INFO Iteration: 4/15\tExpected LL: 6614.026124\n",
      "2021-10-28 10:12:48,388 fedbiomed INFO - log from: client_47bae423-0c35-4412-b127-aec09990706b - INFO Iteration: 5/15\tExpected LL: 6613.672271\n",
      "2021-10-28 10:12:48,601 fedbiomed INFO - log from: client_47bae423-0c35-4412-b127-aec09990706b - INFO Iteration: 6/15\tExpected LL: 6613.589838\n",
      "2021-10-28 10:12:48,849 fedbiomed INFO - log from: client_47bae423-0c35-4412-b127-aec09990706b - INFO Iteration: 7/15\tExpected LL: 6613.568264\n",
      "2021-10-28 10:12:48,997 fedbiomed INFO - log from: client_47bae423-0c35-4412-b127-aec09990706b - INFO Iteration: 8/15\tExpected LL: 6613.561973\n",
      "2021-10-28 10:12:49,125 fedbiomed INFO - log from: client_47bae423-0c35-4412-b127-aec09990706b - INFO Iteration: 9/15\tExpected LL: 6613.559967\n",
      "2021-10-28 10:12:49,240 fedbiomed INFO - log from: client_47bae423-0c35-4412-b127-aec09990706b - INFO Iteration: 10/15\tExpected LL: 6613.559282\n",
      "2021-10-28 10:12:49,415 fedbiomed INFO - log from: client_47bae423-0c35-4412-b127-aec09990706b - INFO Iteration: 11/15\tExpected LL: 6613.559037\n",
      "2021-10-28 10:12:49,604 fedbiomed INFO - log from: client_47bae423-0c35-4412-b127-aec09990706b - INFO Iteration: 12/15\tExpected LL: 6613.558946\n",
      "2021-10-28 10:12:49,810 fedbiomed INFO - log from: client_47bae423-0c35-4412-b127-aec09990706b - INFO Iteration: 13/15\tExpected LL: 6613.558911\n",
      "2021-10-28 10:12:49,992 fedbiomed INFO - log from: client_47bae423-0c35-4412-b127-aec09990706b - INFO Iteration: 14/15\tExpected LL: 6613.558897\n",
      "2021-10-28 10:12:50,189 fedbiomed INFO - log from: client_47bae423-0c35-4412-b127-aec09990706b - INFO Iteration: 15/15\tExpected LL: 6613.558892\n",
      "2021-10-28 10:12:50,220 fedbiomed INFO - log from: client_47bae423-0c35-4412-b127-aec09990706b - INFO results uploaded successfully \n",
      "2021-10-28 10:12:57,722 fedbiomed INFO - Downloading model params after training on client_47bae423-0c35-4412-b127-aec09990706b - from http://localhost:8844/media/uploads/2021/10/28/node_params_98ecfad0-1b50-45e2-94af-f89219593ff6.pt\n",
      "2021-10-28 10:12:57,751 fedbiomed INFO - Clients that successfully reply in round 4 ['client_47bae423-0c35-4412-b127-aec09990706b']\n"
     ]
    }
   ],
   "source": [
    "# start federated training\n",
    "exp.run()"
   ]
  },
  {
   "cell_type": "code",
   "execution_count": 20,
   "id": "0eca4af7",
   "metadata": {},
   "outputs": [
    {
     "name": "stdout",
     "output_type": "stream",
     "text": [
      "\n",
      "List the training rounds :  dict_keys([0, 1, 2, 3, 4])\n",
      "\n",
      "Access the federated params for the last training round :\n",
      "\t- params_path:  /home/ybouilla/fedbiomed/var/tmp/researcher_params_869993cd-07ca-4302-8d80-aca4886c6ced.pt\n",
      "\t- parameter data:  dict_keys(['tilde_muk', 'tilde_Wk', 'tilde_Sigma2k', 'Alpha', 'Beta', 'sigma_til_muk', 'sigma_til_Wk', 'sigma_til_sigma2k'])\n"
     ]
    }
   ],
   "source": [
    "print(\"\\nList the training rounds : \", exp.aggregated_params.keys())\n",
    "\n",
    "print(\"\\nAccess the federated params for the last training round :\")\n",
    "print(\"\\t- params_path: \", exp.aggregated_params[rounds - 1]['params_path'])\n",
    "print(\"\\t- parameter data: \", exp.aggregated_params[rounds - 1]['params'].keys())"
   ]
  },
  {
   "cell_type": "markdown",
   "id": "88e2a782",
   "metadata": {},
   "source": [
    "## Test"
   ]
  },
  {
   "cell_type": "markdown",
   "id": "1918cbe3",
   "metadata": {},
   "source": [
    "Herafter we test the performance of the aggregated parameters on a test dataset. In particular, for each round we use the global parameters to evaluate the mean absolute error and the separation in the latent space using LDA. Note that we have already defined the test dataset at the beginning of this notebook."
   ]
  },
  {
   "cell_type": "code",
   "execution_count": 21,
   "id": "7749459b",
   "metadata": {},
   "outputs": [],
   "source": [
    "import numpy as np\n",
    "import pandas as pd\n",
    "from numpy.linalg import solve\n",
    "from sklearn.discriminant_analysis import LinearDiscriminantAnalysis\n",
    "from sklearn.metrics import confusion_matrix\n",
    "from sklearn.metrics import mean_absolute_error\n",
    "\n",
    "def normalize_data(X):\n",
    "    \"\"\"\n",
    "    This function normalize the dataset X\n",
    "    :param X: pandas dataframe\n",
    "    :return pandas dataframe\n",
    "    \"\"\"\n",
    "    col_name = [col.strip() for col in list(X.columns)]\n",
    "    x = X.values  # returns a numpy array\n",
    "    min_max_scaler = preprocessing.MinMaxScaler()\n",
    "    x_scaled = min_max_scaler.fit_transform(x)\n",
    "    norm_dataset = pd.DataFrame(x_scaled, index=X.index, columns=col_name)\n",
    "\n",
    "    return norm_dataset\n",
    "\n",
    "def eval_MB(Wk, q, D_i, K, Sigma2, ViewsX):\n",
    "    \"\"\"\n",
    "    Computes matrices M:=inv(I_q+sum_k Wk.TWk/sigma2k) and B:= [W1.T/sigma2K,...,W1.T/sigma2K].\n",
    "    :param Wk: list of matrices (d_k x q)\n",
    "    :param Sigma2: list of float > 0\n",
    "    :return np.arrays\n",
    "    \"\"\"\n",
    "    index = ViewsX.index(1)\n",
    "\n",
    "    M1 = Wk[index].reshape(D_i[index], q).T.dot(Wk[index].reshape(D_i[index],q)) / Sigma2[index]\n",
    "    B = Wk[index].reshape(D_i[index], q).T / Sigma2[index]\n",
    "    for k in range(index + 1, K):\n",
    "        if ViewsX[k] == 1:\n",
    "            M1 += Wk[k].reshape(D_i[k], q).T.dot(Wk[k].reshape(D_i[k],q)) / Sigma2[k]\n",
    "            B = np.concatenate((B, (Wk[k].reshape(D_i[k], q)).T / Sigma2[k]), axis=1)\n",
    "\n",
    "    M = solve(np.eye(q) + M1,np.eye(q))\n",
    "\n",
    "    return M, B\n",
    "\n",
    "def concat_params(park, K, ViewsX):\n",
    "    \"\"\"\n",
    "    This function concatenates parameters from a list\n",
    "    :param park: list of vectors/matrices to concatenate\n",
    "    :return np.array\n",
    "    \"\"\"\n",
    "    index = ViewsX.index(1)\n",
    "\n",
    "    par = park[index]\n",
    "    for k in range(index + 1, K):\n",
    "        if ViewsX[k] == 1:\n",
    "            par = np.concatenate((par, park[k]), axis=0)\n",
    "\n",
    "    return par\n",
    "\n",
    "def simu_latent(q,dataset,ViewsX,global_params):\n",
    "    \"\"\"\n",
    "    This function allows sampling of x_n (latent variables) from the posterior distribution \n",
    "    (with global parameters).\n",
    "    :return pandas dataframe\n",
    "    \"\"\"\n",
    "    d = dataset.shape[1]\n",
    "    N = dataset.shape[0]\n",
    "    K = len(ViewsX)\n",
    "\n",
    "    mu = concat_params(global_params['tilde_muk'], K, ViewsX)\n",
    "    M, B = eval_MB(global_params['tilde_Wk'], q, D_i, K, global_params['tilde_Sigma2k'],ViewsX)\n",
    "\n",
    "    Xn = [(M.dot(B).dot(dataset.iloc[n].values.reshape(d, 1) - mu)).reshape(1, q) for n in range(N)]\n",
    "\n",
    "    df = pd.DataFrame(np.vstack(Xn), index=dataset.index)\n",
    "\n",
    "    return df\n",
    "\n",
    "def MAE(dataset,ViewsX,q,global_params):\n",
    "    \"\"\"\n",
    "    This function evaluates the MAE using global parameters\n",
    "    :return float\n",
    "    \"\"\"    \n",
    "    d = dataset.shape[1]\n",
    "    N = dataset.shape[0]\n",
    "    K = len(ViewsX)\n",
    "    \n",
    "    mu = concat_params(global_params['tilde_muk'], K, ViewsX)\n",
    "    W = concat_params(global_params['tilde_Wk'], K, ViewsX)\n",
    "    M, B = eval_MB(global_params['tilde_Wk'], q, D_i, K, global_params['tilde_Sigma2k'],ViewsX)\n",
    "\n",
    "    T_true = dataset.values.tolist()\n",
    "\n",
    "    T_pred = []\n",
    "    for n in range(N):\n",
    "        Xng = (M.dot(B).dot(dataset.iloc[n].values.reshape(d, 1) - mu)).reshape(q, 1)\n",
    "        T_pred.append((W.dot(Xng) + mu).reshape(d))\n",
    "\n",
    "    MAE = mean_absolute_error(T_true, T_pred)\n",
    "\n",
    "    return MAE"
   ]
  },
  {
   "cell_type": "code",
   "execution_count": 22,
   "id": "6c7fa7c5",
   "metadata": {},
   "outputs": [],
   "source": [
    "# Test dataset\n",
    "\n",
    "\n",
    "def test_data(dataset,norm,K,dim_views):\n",
    "        \"\"\"\n",
    "            Equivalent to training_data, for the test dataset\n",
    "        \"\"\"\n",
    "        X = dataset.iloc[:,:-1]\n",
    "        y = dataset[dataset.columns[-1]]\n",
    "        \n",
    "        # Xk is a list contianing the view-specific local datasets\n",
    "        Xk = []\n",
    "        ViewsX = []\n",
    "        ind = 0\n",
    "        for k in range(K):\n",
    "            if X.iloc[:, ind].isnull().values.any():\n",
    "                Xk.append(np.nan)\n",
    "                ViewsX.append(0)\n",
    "            else:\n",
    "                # if norm = true, data are normalized with min max scaler\n",
    "                X_k = normalize_data(X.iloc[:, ind:ind + dim_views[k]]) if norm \\\n",
    "                    else X.iloc[:, ind:ind + dim_views[k]]\n",
    "                Xk.append(X_k)\n",
    "                ViewsX.append(1)\n",
    "            ind += dim_views[k]\n",
    "        \n",
    "        # The entire dataset is re-built without empty columns\n",
    "        Xk_obs = [item for item in Xk if item is not np.nan]\n",
    "        X_obs = pd.concat(Xk_obs, axis=1)\n",
    "        \n",
    "        return (X_obs,Xk,ViewsX,y)"
   ]
  },
  {
   "cell_type": "code",
   "execution_count": 23,
   "id": "344f79ee",
   "metadata": {},
   "outputs": [
    {
     "name": "stdout",
     "output_type": "stream",
     "text": [
      "Round 1:\n",
      "MAE train (mean,std) = (0.0529,0.0042)     \t MAE test = 0.0676     \t Accuracy in latent space = 1.00\n",
      "Round 2:\n",
      "MAE train (mean,std) = (0.0526,0.0042)     \t MAE test = 0.0671     \t Accuracy in latent space = 1.00\n",
      "Round 3:\n",
      "MAE train (mean,std) = (0.0521,0.0042)     \t MAE test = 0.0665     \t Accuracy in latent space = 1.00\n",
      "Round 4:\n",
      "MAE train (mean,std) = (0.0515,0.0042)     \t MAE test = 0.0657     \t Accuracy in latent space = 1.00\n"
     ]
    }
   ],
   "source": [
    "for r in range(1,rounds):\n",
    "    global_params = exp.aggregated_params[r]['params']\n",
    "    ######## Train data\n",
    "    MAE_train = []\n",
    "    Latent_Train = pd.DataFrame()\n",
    "    Label_Train = pd.Series(dtype='int64')\n",
    "    for c in range(n_centers):\n",
    "        dataset_c = pd.read_csv('== Local path to node' + str(c+1) + '.csv', delimiter=',', index_col=0)\n",
    "        X_obs_c,Xk_c,ViewsX_c,y_c = test_data(dataset_c,norm,tot_views,dim_views)\n",
    "        # Dataframe of latent space for LDA\n",
    "        Latent_Train = Latent_Train.append(simu_latent(n_components,X_obs_c,ViewsX_c,global_params))\n",
    "        Label_Train = Label_Train.append(y_c)\n",
    "        # MAE Train\n",
    "        MAE_train.append(MAE(X_obs_c,ViewsX_c,n_components,global_params))\n",
    "\n",
    "    \n",
    "\n",
    "    ######## Test data\n",
    "    X_obs_test,Xk_test,ViewsX_test,y_test = test_data(t_test,norm,tot_views,dim_views)\n",
    "\n",
    "    Latent_Test = pd.DataFrame()\n",
    "    Label_Test = pd.Series(dtype='int64')\n",
    "\n",
    "    # Dataframe of latent space for LDA\n",
    "    Latent_Test = Latent_Test.append(simu_latent(n_components,X_obs_test,ViewsX_test,global_params))\n",
    "    Label_Test = Label_Test.append(y_test)\n",
    "    # MAE Test\n",
    "    MAE_test = MAE(X_obs_test,ViewsX_test,n_components,global_params)\n",
    "    # LDA Test\n",
    "    Size_tes = Latent_Test.shape[0]\n",
    "    \n",
    "    conf_LDA_Test = confusion_matrix(Label_Test.reindex(Latent_Test.index), y_pred_test)\n",
    "    TP = np.diag(conf_LDA_Test)\n",
    "    num_classes = len(np.unique(Label_Test))\n",
    "    accuracy_LDA_Test = sum(TP) / Size_tes\n",
    "\n",
    "    print('Round {}:'.format(r))\n",
    "    print('MAE train (mean,std) = ({:.4f},{:.4f}) \\\n",
    "    \\t MAE test = {:.4f} \\\n",
    "    \\t Accuracy in latent space = {:.2f}'.format(np.mean(np.array(MAE_train)), \\\n",
    "                                                 np.std(np.array(MAE_train)), MAE_test, accuracy_LDA_Test))"
   ]
  },
  {
   "cell_type": "code",
   "execution_count": 24,
   "id": "7d75715b",
   "metadata": {},
   "outputs": [
    {
     "data": {
      "text/plain": [
       "array([[20,  0],\n",
       "       [ 0, 20]])"
      ]
     },
     "execution_count": 24,
     "metadata": {},
     "output_type": "execute_result"
    }
   ],
   "source": [
    "conf_LDA_Test"
   ]
  },
  {
   "cell_type": "code",
   "execution_count": null,
   "id": "cb201079",
   "metadata": {},
   "outputs": [],
   "source": []
  }
 ],
 "metadata": {
  "kernelspec": {
   "display_name": "Python 3 (ipykernel)",
   "language": "python",
   "name": "python3"
  },
  "language_info": {
   "codemirror_mode": {
    "name": "ipython",
    "version": 3
   },
   "file_extension": ".py",
   "mimetype": "text/x-python",
   "name": "python",
   "nbconvert_exporter": "python",
   "pygments_lexer": "ipython3",
   "version": "3.9.7"
  }
 },
 "nbformat": 4,
 "nbformat_minor": 5
}

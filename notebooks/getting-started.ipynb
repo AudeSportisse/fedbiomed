{
 "cells": [
  {
   "cell_type": "markdown",
   "metadata": {},
   "source": [
    "# Fedbiomed Researcher"
   ]
  },
  {
   "cell_type": "markdown",
   "metadata": {},
   "source": [
    "Use for developing (autoreloads changes made across packages)"
   ]
  },
  {
   "cell_type": "code",
   "execution_count": 1,
   "metadata": {},
   "outputs": [],
   "source": [
    "%load_ext autoreload\n",
    "%autoreload 2"
   ]
  },
  {
   "cell_type": "markdown",
   "metadata": {},
   "source": [
    "## Setting the client up\n",
    "It is necessary to previously configure a node:\n",
    "1. `./scripts/fedbiomed_run node add`\n",
    "  * Select option 2 (default) to add MNIST to the client\n",
    "  * Confirm default tags by hitting \"y\" and ENTER\n",
    "  * Pick the folder where MNIST is downloaded (this is due torch issue https://github.com/pytorch/vision/issues/3549)\n",
    "  * Data must have been added (if you get a warning saying that data must be unique is because it's been already added)\n",
    "  \n",
    "2. Check that your data has been added by executing `./scripts/fedbiomed_run node list`\n",
    "3. Run the node using `./scripts/fedbiomed_run node run`. Wait until you get `Connected with result code 0`. it means you are online."
   ]
  },
  {
   "cell_type": "markdown",
   "metadata": {},
   "source": [
    "## Create an experiment to train a model on the data found"
   ]
  },
  {
   "cell_type": "markdown",
   "metadata": {},
   "source": [
    "Declare a torch.nn MyTrainingPlan class to send for training on the node"
   ]
  },
  {
   "cell_type": "code",
   "execution_count": 2,
   "metadata": {},
   "outputs": [],
   "source": [
    "from fedbiomed.researcher.environ import environ\n",
    "import tempfile\n",
    "tmp_dir_model = tempfile.TemporaryDirectory(dir=environ['TMP_DIR']+'/')\n",
    "model_file = tmp_dir_model.name + '/class_export_mnist.py'"
   ]
  },
  {
   "cell_type": "markdown",
   "metadata": {},
   "source": [
    "Note : write **only** the code to export in the following cell"
   ]
  },
  {
   "cell_type": "code",
   "execution_count": 3,
   "metadata": {},
   "outputs": [
    {
     "name": "stdout",
     "output_type": "stream",
     "text": [
      "Writing /user/scansiz/home/Desktop/Inria/development/fedbiomed/var/tmp/tmpdxdfkwvf/class_export_mnist.py\n"
     ]
    }
   ],
   "source": [
    "%%writefile \"$model_file\"\n",
    "\n",
    "import torch\n",
    "import torch.nn as nn\n",
    "from fedbiomed.common.torchnn import TorchTrainingPlan\n",
    "from torch.utils.data import DataLoader\n",
    "from torchvision import datasets, transforms\n",
    "\n",
    "# Here we define the model to be used. \n",
    "# You can use any class name (here 'Net')\n",
    "class MyTrainingPlan(TorchTrainingPlan):\n",
    "    def __init__(self):\n",
    "        super(MyTrainingPlan, self).__init__()\n",
    "        self.conv1 = nn.Conv2d(1, 32, 3, 1)\n",
    "        self.conv2 = nn.Conv2d(32, 64, 3, 1)\n",
    "        self.dropout1 = nn.Dropout(0.25)\n",
    "        self.dropout2 = nn.Dropout(0.5)\n",
    "        self.fc1 = nn.Linear(9216, 128)\n",
    "        self.fc2 = nn.Linear(128, 10)\n",
    "        \n",
    "        # Here we define the custom dependencies that will be needed by our custom Dataloader\n",
    "        # In this case, we need the torch DataLoader classes\n",
    "        # Since we will train on MNIST, we need datasets and transform from torchvision\n",
    "        deps = [\"from torchvision import datasets, transforms\",\n",
    "               \"from torch.utils.data import DataLoader\"]\n",
    "        self.add_dependency(deps)\n",
    "\n",
    "    def forward(self, x):\n",
    "        x = self.conv1(x)\n",
    "        x = F.relu(x)\n",
    "        x = self.conv2(x)\n",
    "        x = F.relu(x)\n",
    "        x = F.max_pool2d(x, 2)\n",
    "        x = self.dropout1(x)\n",
    "        x = torch.flatten(x, 1)\n",
    "        x = self.fc1(x)\n",
    "        x = F.relu(x)\n",
    "        x = self.dropout2(x)\n",
    "        x = self.fc2(x)\n",
    "        output = F.log_softmax(x, dim=1)\n",
    "        return output\n",
    "\n",
    "    def training_data(self, batch_size = 48):\n",
    "        # Custom torch Dataloader for MNIST data\n",
    "        transform = transforms.Compose([transforms.ToTensor(),\n",
    "        transforms.Normalize((0.1307,), (0.3081,))])\n",
    "        dataset1 = datasets.MNIST(self.dataset_path, train=True, download=False, transform=transform)\n",
    "        train_kwargs = {'batch_size': batch_size, 'shuffle': True}\n",
    "        data_loader = torch.utils.data.DataLoader(dataset1, **train_kwargs)\n",
    "        return data_loader\n",
    "    \n",
    "    def training_step(self, data, target):\n",
    "        output = self.forward(data)\n",
    "        loss   = torch.nn.functional.nll_loss(output, target)\n",
    "        return loss\n"
   ]
  },
  {
   "cell_type": "markdown",
   "metadata": {},
   "source": [
    "This group of arguments correspond respectively:\n",
    "* `model_args`: a dictionary with the arguments related to the model (e.g. number of layers, features, etc.). This will be passed to the model class on the client side.\n",
    "* `training_args`: a dictionary containing the arguments for the training routine (e.g. batch size, learning rate, epochs, etc.). This will be passed to the routine on the client side.\n",
    "\n",
    "**NOTE:** typos and/or lack of positional (required) arguments will raise error. 🤓"
   ]
  },
  {
   "cell_type": "code",
   "execution_count": 4,
   "metadata": {
    "pycharm": {
     "name": "#%%\n"
    }
   },
   "outputs": [],
   "source": [
    "model_args = {}\n",
    "\n",
    "training_args = {\n",
    "    'batch_size': 48, \n",
    "    'lr': 1e-3, \n",
    "    'epochs': 1, \n",
    "    'dry_run': False,  \n",
    "    'batch_maxnum': 100 # Fast pass for development : only use ( batch_maxnum * batch_size ) samples\n",
    "}"
   ]
  },
  {
   "cell_type": "markdown",
   "metadata": {},
   "source": [
    "Define an experiment\n",
    "- search nodes serving data for these `tags`, optionally filter on a list of client ID with `clients`\n",
    "- run a round of local training on nodes with model defined in `model_path` + federation with `aggregator`\n",
    "- run for `rounds` rounds, applying the `client_selection_strategy` between the rounds"
   ]
  },
  {
   "cell_type": "code",
   "execution_count": 5,
   "metadata": {
    "pycharm": {
     "name": "#%%\n"
    },
    "scrolled": true
   },
   "outputs": [
    {
     "name": "stderr",
     "output_type": "stream",
     "text": [
      "2021-11-05 15:29:30,777 fedbiomed INFO - Messaging researcher_a7ef3e75-8c26-4c79-a5c7-33a4341aee53 successfully connected to the message broker, object = <fedbiomed.common.messaging.Messaging object at 0x7fe3c2756c10>\n",
      "2021-11-05 15:29:30,809 fedbiomed INFO - Searching dataset with data tags: ['#MNIST', '#dataset'] for all nodes\n",
      "2021-11-05 15:29:30,813 fedbiomed INFO - log from: node_60850d4e-72f5-4dc9-b9aa-3e2f3c31952f - DEBUG Message received: {'researcher_id': 'researcher_a7ef3e75-8c26-4c79-a5c7-33a4341aee53', 'tags': ['#MNIST', '#dataset'], 'command': 'search'}\n",
      "2021-11-05 15:29:40,950 fedbiomed DEBUG - torchnn saved model filename: /user/scansiz/home/Desktop/Inria/development/fedbiomed/var/tmpy1ylx9nr/my_model_32342ac8-6e2b-490e-9bbb-49df6140b985.py\n"
     ]
    }
   ],
   "source": [
    "from fedbiomed.researcher.experiment import Experiment\n",
    "from fedbiomed.researcher.aggregators.fedavg import FedAverage\n",
    "\n",
    "tags =  ['#MNIST', '#dataset']\n",
    "rounds = 2\n",
    "\n",
    "exp = Experiment(tags=tags,\n",
    "                 #clients=None,\n",
    "                 model_path=model_file,\n",
    "                 model_args=model_args,\n",
    "                 model_class='MyTrainingPlan',\n",
    "                 training_args=training_args,\n",
    "                 rounds=rounds,\n",
    "                 aggregator=FedAverage(),\n",
    "                 client_selection_strategy=None)"
   ]
  },
  {
   "cell_type": "markdown",
   "metadata": {
    "pycharm": {
     "name": "#%% md\n"
    }
   },
   "source": [
    "Let's start the experiment.\n",
    "\n",
    "By default, this function doesn't stop until all the `rounds` are done for all the clients"
   ]
  },
  {
   "cell_type": "code",
   "execution_count": 6,
   "metadata": {
    "pycharm": {
     "name": "#%%\n"
    },
    "scrolled": true
   },
   "outputs": [
    {
     "name": "stderr",
     "output_type": "stream",
     "text": [
      "2021-11-05 15:29:41,165 fedbiomed INFO - Sampled clients in round 0 ['node_60850d4e-72f5-4dc9-b9aa-3e2f3c31952f']\n",
      "2021-11-05 15:29:41,166 fedbiomed INFO - Send message to client node_60850d4e-72f5-4dc9-b9aa-3e2f3c31952f - {'researcher_id': 'researcher_a7ef3e75-8c26-4c79-a5c7-33a4341aee53', 'job_id': '6905dc21-851e-42ef-9465-91b01a5dfced', 'training_args': {'batch_size': 48, 'lr': 0.001, 'epochs': 1, 'dry_run': False, 'batch_maxnum': 100}, 'model_args': {}, 'command': 'train', 'model_url': 'http://localhost:8844/media/uploads/2021/11/05/my_model_32342ac8-6e2b-490e-9bbb-49df6140b985.py', 'params_url': 'http://localhost:8844/media/uploads/2021/11/05/my_model_b2a03fd0-d203-4699-b749-8d0d2070e9f9.pt', 'model_class': 'MyTrainingPlan', 'training_data': {'node_60850d4e-72f5-4dc9-b9aa-3e2f3c31952f': ['dataset_01c25388-8476-4d65-940d-80c9fc4ee6f2']}}\n",
      "2021-11-05 15:29:41,166 fedbiomed DEBUG - researcher_a7ef3e75-8c26-4c79-a5c7-33a4341aee53\n",
      "2021-11-05 15:29:41,172 fedbiomed INFO - log from: node_60850d4e-72f5-4dc9-b9aa-3e2f3c31952f - DEBUG Message received: {'researcher_id': 'researcher_a7ef3e75-8c26-4c79-a5c7-33a4341aee53', 'job_id': '6905dc21-851e-42ef-9465-91b01a5dfced', 'training_args': {'batch_size': 48, 'lr': 0.001, 'epochs': 1, 'dry_run': False, 'batch_maxnum': 100}, 'model_args': {}, 'command': 'train', 'model_url': 'http://localhost:8844/media/uploads/2021/11/05/my_model_32342ac8-6e2b-490e-9bbb-49df6140b985.py', 'params_url': 'http://localhost:8844/media/uploads/2021/11/05/my_model_b2a03fd0-d203-4699-b749-8d0d2070e9f9.pt', 'model_class': 'MyTrainingPlan', 'training_data': {'node_60850d4e-72f5-4dc9-b9aa-3e2f3c31952f': ['dataset_01c25388-8476-4d65-940d-80c9fc4ee6f2']}}\n",
      "2021-11-05 15:29:41,173 fedbiomed INFO - log from: node_60850d4e-72f5-4dc9-b9aa-3e2f3c31952f - DEBUG [TASKS QUEUE] Item:{'researcher_id': 'researcher_a7ef3e75-8c26-4c79-a5c7-33a4341aee53', 'job_id': '6905dc21-851e-42ef-9465-91b01a5dfced', 'params_url': 'http://localhost:8844/media/uploads/2021/11/05/my_model_b2a03fd0-d203-4699-b749-8d0d2070e9f9.pt', 'training_args': {'batch_size': 48, 'lr': 0.001, 'epochs': 1, 'dry_run': False, 'batch_maxnum': 100}, 'training_data': {'node_60850d4e-72f5-4dc9-b9aa-3e2f3c31952f': ['dataset_01c25388-8476-4d65-940d-80c9fc4ee6f2']}, 'model_args': {}, 'model_url': 'http://localhost:8844/media/uploads/2021/11/05/my_model_32342ac8-6e2b-490e-9bbb-49df6140b985.py', 'model_class': 'MyTrainingPlan', 'command': 'train'}\n",
      "2021-11-05 15:29:41,229 fedbiomed INFO - log from: node_60850d4e-72f5-4dc9-b9aa-3e2f3c31952f - INFO {'monitor': <fedbiomed.node.history_monitor.HistoryMonitor object at 0x7fe2e482bf70>, 'batch_size': 48, 'lr': 0.001, 'epochs': 1, 'dry_run': False, 'batch_maxnum': 100}\n",
      "2021-11-05 15:29:41,231 fedbiomed INFO - log from: node_60850d4e-72f5-4dc9-b9aa-3e2f3c31952f - DEBUG Dataset_path/home/scansiz/Desktop/Inria/development/data\n",
      "2021-11-05 15:29:41,366 fedbiomed INFO - log from: node_60850d4e-72f5-4dc9-b9aa-3e2f3c31952f - INFO Train Epoch: 1 [0/60000 (0%)]\tLoss: 2.302067\n",
      "2021-11-05 15:29:41,872 fedbiomed INFO - log from: node_60850d4e-72f5-4dc9-b9aa-3e2f3c31952f - INFO Train Epoch: 1 [480/60000 (1%)]\tLoss: 1.393424\n",
      "2021-11-05 15:29:42,518 fedbiomed INFO - log from: node_60850d4e-72f5-4dc9-b9aa-3e2f3c31952f - INFO Train Epoch: 1 [960/60000 (2%)]\tLoss: 0.811989\n",
      "2021-11-05 15:29:43,175 fedbiomed INFO - log from: node_60850d4e-72f5-4dc9-b9aa-3e2f3c31952f - INFO Train Epoch: 1 [1440/60000 (2%)]\tLoss: 0.629663\n",
      "2021-11-05 15:29:43,707 fedbiomed INFO - log from: node_60850d4e-72f5-4dc9-b9aa-3e2f3c31952f - INFO Train Epoch: 1 [1920/60000 (3%)]\tLoss: 0.373240\n",
      "2021-11-05 15:29:44,195 fedbiomed INFO - log from: node_60850d4e-72f5-4dc9-b9aa-3e2f3c31952f - INFO Train Epoch: 1 [2400/60000 (4%)]\tLoss: 0.484802\n",
      "2021-11-05 15:29:44,679 fedbiomed INFO - log from: node_60850d4e-72f5-4dc9-b9aa-3e2f3c31952f - INFO Train Epoch: 1 [2880/60000 (5%)]\tLoss: 0.436430\n",
      "2021-11-05 15:29:45,179 fedbiomed INFO - log from: node_60850d4e-72f5-4dc9-b9aa-3e2f3c31952f - INFO Train Epoch: 1 [3360/60000 (6%)]\tLoss: 0.448953\n",
      "2021-11-05 15:29:45,682 fedbiomed INFO - log from: node_60850d4e-72f5-4dc9-b9aa-3e2f3c31952f - INFO Train Epoch: 1 [3840/60000 (6%)]\tLoss: 0.290086\n",
      "2021-11-05 15:29:46,178 fedbiomed INFO - log from: node_60850d4e-72f5-4dc9-b9aa-3e2f3c31952f - INFO Train Epoch: 1 [4320/60000 (7%)]\tLoss: 0.250098\n",
      "2021-11-05 15:29:46,704 fedbiomed INFO - log from: node_60850d4e-72f5-4dc9-b9aa-3e2f3c31952f - DEBUG Reached 100 batches for this epoch, ignore remaining data\n",
      "2021-11-05 15:29:46,884 fedbiomed INFO - log from: node_60850d4e-72f5-4dc9-b9aa-3e2f3c31952f - INFO results uploaded successfully \n",
      "2021-11-05 15:29:56,184 fedbiomed INFO - Downloading model params after training on node_60850d4e-72f5-4dc9-b9aa-3e2f3c31952f - from http://localhost:8844/media/uploads/2021/11/05/node_params_a91b8cd0-8e2d-4495-9e8b-7de1a4bc00f3.pt\n",
      "2021-11-05 15:29:56,232 fedbiomed INFO - Clients that successfully reply in round 0 ['node_60850d4e-72f5-4dc9-b9aa-3e2f3c31952f']\n",
      "2021-11-05 15:29:56,442 fedbiomed INFO - Sampled clients in round 1 ['node_60850d4e-72f5-4dc9-b9aa-3e2f3c31952f']\n",
      "2021-11-05 15:29:56,444 fedbiomed INFO - Send message to client node_60850d4e-72f5-4dc9-b9aa-3e2f3c31952f - {'researcher_id': 'researcher_a7ef3e75-8c26-4c79-a5c7-33a4341aee53', 'job_id': '6905dc21-851e-42ef-9465-91b01a5dfced', 'training_args': {'batch_size': 48, 'lr': 0.001, 'epochs': 1, 'dry_run': False, 'batch_maxnum': 100}, 'model_args': {}, 'command': 'train', 'model_url': 'http://localhost:8844/media/uploads/2021/11/05/my_model_32342ac8-6e2b-490e-9bbb-49df6140b985.py', 'params_url': 'http://localhost:8844/media/uploads/2021/11/05/researcher_params_cb3e1f15-8423-4f9b-9f9f-a41a7c777f4e.pt', 'model_class': 'MyTrainingPlan', 'training_data': {'node_60850d4e-72f5-4dc9-b9aa-3e2f3c31952f': ['dataset_01c25388-8476-4d65-940d-80c9fc4ee6f2']}}\n",
      "2021-11-05 15:29:56,445 fedbiomed DEBUG - researcher_a7ef3e75-8c26-4c79-a5c7-33a4341aee53\n",
      "2021-11-05 15:29:56,450 fedbiomed INFO - log from: node_60850d4e-72f5-4dc9-b9aa-3e2f3c31952f - DEBUG Message received: {'researcher_id': 'researcher_a7ef3e75-8c26-4c79-a5c7-33a4341aee53', 'job_id': '6905dc21-851e-42ef-9465-91b01a5dfced', 'training_args': {'batch_size': 48, 'lr': 0.001, 'epochs': 1, 'dry_run': False, 'batch_maxnum': 100}, 'model_args': {}, 'command': 'train', 'model_url': 'http://localhost:8844/media/uploads/2021/11/05/my_model_32342ac8-6e2b-490e-9bbb-49df6140b985.py', 'params_url': 'http://localhost:8844/media/uploads/2021/11/05/researcher_params_cb3e1f15-8423-4f9b-9f9f-a41a7c777f4e.pt', 'model_class': 'MyTrainingPlan', 'training_data': {'node_60850d4e-72f5-4dc9-b9aa-3e2f3c31952f': ['dataset_01c25388-8476-4d65-940d-80c9fc4ee6f2']}}\n",
      "2021-11-05 15:29:56,451 fedbiomed INFO - log from: node_60850d4e-72f5-4dc9-b9aa-3e2f3c31952f - DEBUG [TASKS QUEUE] Item:{'researcher_id': 'researcher_a7ef3e75-8c26-4c79-a5c7-33a4341aee53', 'job_id': '6905dc21-851e-42ef-9465-91b01a5dfced', 'params_url': 'http://localhost:8844/media/uploads/2021/11/05/researcher_params_cb3e1f15-8423-4f9b-9f9f-a41a7c777f4e.pt', 'training_args': {'batch_size': 48, 'lr': 0.001, 'epochs': 1, 'dry_run': False, 'batch_maxnum': 100}, 'training_data': {'node_60850d4e-72f5-4dc9-b9aa-3e2f3c31952f': ['dataset_01c25388-8476-4d65-940d-80c9fc4ee6f2']}, 'model_args': {}, 'model_url': 'http://localhost:8844/media/uploads/2021/11/05/my_model_32342ac8-6e2b-490e-9bbb-49df6140b985.py', 'model_class': 'MyTrainingPlan', 'command': 'train'}\n",
      "2021-11-05 15:29:56,537 fedbiomed INFO - log from: node_60850d4e-72f5-4dc9-b9aa-3e2f3c31952f - INFO {'monitor': <fedbiomed.node.history_monitor.HistoryMonitor object at 0x7fe2e482b0d0>, 'batch_size': 48, 'lr': 0.001, 'epochs': 1, 'dry_run': False, 'batch_maxnum': 100}\n",
      "2021-11-05 15:29:56,538 fedbiomed INFO - log from: node_60850d4e-72f5-4dc9-b9aa-3e2f3c31952f - DEBUG Dataset_path/home/scansiz/Desktop/Inria/development/data\n",
      "2021-11-05 15:29:56,687 fedbiomed INFO - log from: node_60850d4e-72f5-4dc9-b9aa-3e2f3c31952f - INFO Train Epoch: 1 [0/60000 (0%)]\tLoss: 0.466731\n",
      "2021-11-05 15:29:57,355 fedbiomed INFO - log from: node_60850d4e-72f5-4dc9-b9aa-3e2f3c31952f - INFO Train Epoch: 1 [480/60000 (1%)]\tLoss: 0.219480\n",
      "2021-11-05 15:29:57,863 fedbiomed INFO - log from: node_60850d4e-72f5-4dc9-b9aa-3e2f3c31952f - INFO Train Epoch: 1 [960/60000 (2%)]\tLoss: 0.180211\n"
     ]
    },
    {
     "name": "stderr",
     "output_type": "stream",
     "text": [
      "2021-11-05 15:29:58,360 fedbiomed INFO - log from: node_60850d4e-72f5-4dc9-b9aa-3e2f3c31952f - INFO Train Epoch: 1 [1440/60000 (2%)]\tLoss: 0.192488\n",
      "2021-11-05 15:29:58,871 fedbiomed INFO - log from: node_60850d4e-72f5-4dc9-b9aa-3e2f3c31952f - INFO Train Epoch: 1 [1920/60000 (3%)]\tLoss: 0.251375\n",
      "2021-11-05 15:29:59,355 fedbiomed INFO - log from: node_60850d4e-72f5-4dc9-b9aa-3e2f3c31952f - INFO Train Epoch: 1 [2400/60000 (4%)]\tLoss: 0.224261\n",
      "2021-11-05 15:29:59,860 fedbiomed INFO - log from: node_60850d4e-72f5-4dc9-b9aa-3e2f3c31952f - INFO Train Epoch: 1 [2880/60000 (5%)]\tLoss: 0.133545\n",
      "2021-11-05 15:30:00,382 fedbiomed INFO - log from: node_60850d4e-72f5-4dc9-b9aa-3e2f3c31952f - INFO Train Epoch: 1 [3360/60000 (6%)]\tLoss: 0.080605\n",
      "2021-11-05 15:30:00,890 fedbiomed INFO - log from: node_60850d4e-72f5-4dc9-b9aa-3e2f3c31952f - INFO Train Epoch: 1 [3840/60000 (6%)]\tLoss: 0.137897\n",
      "2021-11-05 15:30:01,384 fedbiomed INFO - log from: node_60850d4e-72f5-4dc9-b9aa-3e2f3c31952f - INFO Train Epoch: 1 [4320/60000 (7%)]\tLoss: 0.139864\n",
      "2021-11-05 15:30:01,865 fedbiomed INFO - log from: node_60850d4e-72f5-4dc9-b9aa-3e2f3c31952f - DEBUG Reached 100 batches for this epoch, ignore remaining data\n",
      "2021-11-05 15:30:02,103 fedbiomed INFO - log from: node_60850d4e-72f5-4dc9-b9aa-3e2f3c31952f - INFO results uploaded successfully \n",
      "2021-11-05 15:30:11,463 fedbiomed INFO - Downloading model params after training on node_60850d4e-72f5-4dc9-b9aa-3e2f3c31952f - from http://localhost:8844/media/uploads/2021/11/05/node_params_dd3425c3-ef23-44c3-87bf-30341c5f425f.pt\n",
      "2021-11-05 15:30:11,518 fedbiomed INFO - Clients that successfully reply in round 1 ['node_60850d4e-72f5-4dc9-b9aa-3e2f3c31952f']\n",
      "2021-11-05 15:40:46,824 fedbiomed INFO - log from: 29790cca-20d9-44a6-b22b-09d6696dbf7b - ERROR mqtt+console ERROR message\n"
     ]
    }
   ],
   "source": [
    "exp.run()"
   ]
  },
  {
   "cell_type": "markdown",
   "metadata": {},
   "source": [
    "Local training results for each round and each node are available in `exp.training_replies` (index 0 to (`rounds` - 1) ).\n",
    "\n",
    "For example you can view the training results for the last round below.\n",
    "\n",
    "Different timings (in seconds) are reported for each dataset of a node participating in a round :\n",
    "- `rtime_training` real time (clock time) spent in the training function on the node\n",
    "- `ptime_training` process time (user and system CPU) spent in the training function on the node\n",
    "- `rtime_total` real time (clock time) spent in the researcher between sending the request and handling the response, at the `Job()` layer"
   ]
  },
  {
   "cell_type": "code",
   "execution_count": null,
   "metadata": {
    "pycharm": {
     "name": "#%%\n"
    },
    "scrolled": true
   },
   "outputs": [],
   "source": [
    "print(\"\\nList the training rounds : \", exp.training_replies.keys())\n",
    "\n",
    "print(\"\\nList the clients for the last training round and their timings : \")\n",
    "round_data = exp.training_replies[rounds - 1].data\n",
    "for c in range(len(round_data)):\n",
    "    print(\"\\t- {id} :\\\n",
    "    \\n\\t\\trtime_training={rtraining:.2f} seconds\\\n",
    "    \\n\\t\\tptime_training={ptraining:.2f} seconds\\\n",
    "    \\n\\t\\trtime_total={rtotal:.2f} seconds\".format(id = round_data[c]['node_id'],\n",
    "        rtraining = round_data[c]['timing']['rtime_training'],\n",
    "        ptraining = round_data[c]['timing']['ptime_training'],\n",
    "        rtotal = round_data[c]['timing']['rtime_total']))\n",
    "print('\\n')\n",
    "    \n",
    "exp.training_replies[rounds - 1].dataframe"
   ]
  },
  {
   "cell_type": "markdown",
   "metadata": {},
   "source": [
    "Federated parameters for each round are available in `exp.aggregated_params` (index 0 to (`rounds` - 1) ).\n",
    "\n",
    "For example you can view the federated parameters for the last round of the experiment :"
   ]
  },
  {
   "cell_type": "code",
   "execution_count": null,
   "metadata": {},
   "outputs": [],
   "source": [
    "print(\"\\nList the training rounds : \", exp.aggregated_params.keys())\n",
    "\n",
    "print(\"\\nAccess the federated params for the last training round :\")\n",
    "print(\"\\t- params_path: \", exp.aggregated_params[rounds - 1]['params_path'])\n",
    "print(\"\\t- parameter data: \", exp.aggregated_params[rounds - 1]['params'].keys())\n"
   ]
  },
  {
   "cell_type": "markdown",
   "metadata": {},
   "source": [
    "## Optional : searching the data"
   ]
  },
  {
   "cell_type": "code",
   "execution_count": null,
   "metadata": {},
   "outputs": [],
   "source": [
    "from fedbiomed.researcher.requests import Requests\n",
    "\n",
    "r = Requests()\n",
    "data = r.search(tags)\n",
    "\n",
    "import pandas as pd\n",
    "for node_id in data.keys():\n",
    "    print('\\n','Data for ', node_id, '\\n\\n', pd.DataFrame(data[node_id]))"
   ]
  },
  {
   "cell_type": "markdown",
   "metadata": {
    "pycharm": {
     "name": "#%% md\n"
    }
   },
   "source": [
    "## Optional : clean file repository (do not run unless necessary)\n",
    "Clean all the files in the repo via the rest API."
   ]
  },
  {
   "cell_type": "code",
   "execution_count": null,
   "metadata": {
    "pycharm": {
     "name": "#%% md\n"
    }
   },
   "outputs": [],
   "source": [
    "# import requests\n",
    "# from fedbiomed.researcher.environ import environ\n",
    "\n",
    "# uploaded_models = requests.get(environ['UPLOADS_URL']).json()\n",
    "# for m in uploaded_models:\n",
    "#   requests.delete(m['url'])"
   ]
  },
  {
   "cell_type": "markdown",
   "metadata": {
    "pycharm": {
     "name": "#%%\n"
    }
   },
   "source": [
    "Feel free to try your own models :D"
   ]
  }
 ],
 "metadata": {
  "kernelspec": {
   "display_name": "Python 3 (ipykernel)",
   "language": "python",
   "name": "python3"
  },
  "language_info": {
   "codemirror_mode": {
    "name": "ipython",
    "version": 3
   },
   "file_extension": ".py",
   "mimetype": "text/x-python",
   "name": "python",
   "nbconvert_exporter": "python",
   "pygments_lexer": "ipython3",
   "version": "3.9.7"
  }
 },
 "nbformat": 4,
 "nbformat_minor": 4
}

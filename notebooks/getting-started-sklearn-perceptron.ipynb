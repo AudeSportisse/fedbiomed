{
 "cells": [
  {
   "cell_type": "markdown",
   "id": "64e87007",
   "metadata": {},
   "source": [
    "# Fedbiomed Researcher to train a federated scikit learn model."
   ]
  },
  {
   "cell_type": "markdown",
   "id": "92e17d2f",
   "metadata": {},
   "source": [
    "## Purpose of the exercise :"
   ]
  },
  {
   "cell_type": "markdown",
   "id": "fb782b14",
   "metadata": {},
   "source": [
    "Three datasets c1.csv , c2.csv and c3.csv has been generated with a target column of 3 different classes.\n",
    "We will fit a Perceptron (classifier) using Federated Learning."
   ]
  },
  {
   "cell_type": "markdown",
   "id": "f4cf562e",
   "metadata": {},
   "source": [
    "## Extending this notebook to any incremental learning scikit model:\n",
    "\n",
    "The same federated learning scheme below applies to any sklearn model supporting the method partial_fit():"
   ]
  },
  {
   "cell_type": "markdown",
   "id": "ed98bbac",
   "metadata": {},
   "source": [
    "A family of models could be naturally imported in Fed-BioMed, following the same approach. For example: \n",
    "- Naive Bayes.  \n",
    "- Logistic regression,\n",
    "- SVM/SVC (linear and non-linear), \n",
    "- perceptron, \n",
    "- KMeans, \n",
    "- incremental PCA, \n",
    "- mini batch dictionary learning, \n",
    "- latent Dirichlet annotation, "
   ]
  },
  {
   "cell_type": "markdown",
   "id": "5010d38f",
   "metadata": {},
   "source": [
    "## Get the data \n",
    "\n",
    "We use the make_classification dataset from sklearn datasets"
   ]
  },
  {
   "cell_type": "code",
   "execution_count": 1,
   "id": "094e08d7",
   "metadata": {},
   "outputs": [],
   "source": [
    "from sklearn import datasets\n",
    "import numpy as np"
   ]
  },
  {
   "cell_type": "code",
   "execution_count": 2,
   "id": "3c026f9e",
   "metadata": {},
   "outputs": [],
   "source": [
    "X,y = datasets.make_classification(n_samples=300, n_features=20,n_clusters_per_class=2, weights=None, flip_y=0.01, class_sep=1.0, hypercube=True, shift=0.0, scale=1.0,shuffle=True, random_state=123)"
   ]
  },
  {
   "cell_type": "code",
   "execution_count": 3,
   "id": "54ba7b80",
   "metadata": {},
   "outputs": [
    {
     "data": {
      "text/plain": [
       "(300, 20)"
      ]
     },
     "execution_count": 3,
     "metadata": {},
     "output_type": "execute_result"
    }
   ],
   "source": [
    "X.shape"
   ]
  },
  {
   "cell_type": "code",
   "execution_count": 4,
   "id": "2fddbce9",
   "metadata": {},
   "outputs": [
    {
     "data": {
      "text/plain": [
       "(300,)"
      ]
     },
     "execution_count": 4,
     "metadata": {},
     "output_type": "execute_result"
    }
   ],
   "source": [
    "y.shape"
   ]
  },
  {
   "cell_type": "code",
   "execution_count": 5,
   "id": "2691e48c",
   "metadata": {},
   "outputs": [],
   "source": [
    "C1 = X[:150,:]\n",
    "C2 = X[150:250,:]\n",
    "C3 = X[250:300,:]"
   ]
  },
  {
   "cell_type": "code",
   "execution_count": 6,
   "id": "7323c4db",
   "metadata": {},
   "outputs": [],
   "source": [
    "y1 = y[:150].reshape([150,1])\n",
    "y2 = y[150:250].reshape([100,1])\n",
    "y3 = y[250:300].reshape([50,1])"
   ]
  },
  {
   "cell_type": "code",
   "execution_count": 7,
   "id": "075c6228",
   "metadata": {},
   "outputs": [
    {
     "data": {
      "text/plain": [
       "((150, 20), (100, 20), (50, 20), (150, 1), (100, 1), (50, 1))"
      ]
     },
     "execution_count": 7,
     "metadata": {},
     "output_type": "execute_result"
    }
   ],
   "source": [
    "C1.shape ,C2.shape , C3.shape , y1.shape, y2.shape, y3.shape"
   ]
  },
  {
   "cell_type": "code",
   "execution_count": 8,
   "id": "ad768917",
   "metadata": {},
   "outputs": [
    {
     "data": {
      "text/plain": [
       "(100, 20)"
      ]
     },
     "execution_count": 8,
     "metadata": {},
     "output_type": "execute_result"
    }
   ],
   "source": [
    "C2.shape"
   ]
  },
  {
   "cell_type": "code",
   "execution_count": null,
   "id": "e2f383af",
   "metadata": {},
   "outputs": [],
   "source": [
    "n1 = np.concatenate((C1, y1), axis=1)\n",
    "np.savetxt('== local path to c1.csv',n1,delimiter=',')"
   ]
  },
  {
   "cell_type": "code",
   "execution_count": null,
   "id": "3ddb72c3",
   "metadata": {},
   "outputs": [],
   "source": [
    "n2 = np.concatenate((C2, y2), axis=1)\n",
    "np.savetxt('== local path to c2.csv',n2,delimiter=',')"
   ]
  },
  {
   "cell_type": "code",
   "execution_count": null,
   "id": "7d2bb9fa",
   "metadata": {},
   "outputs": [],
   "source": [
    "n3 = np.concatenate((C3, y3), axis=1)\n",
    "np.savetxt('== local path to c3.csv',n3,delimiter=',')"
   ]
  },
  {
   "cell_type": "markdown",
   "id": "d39f160e",
   "metadata": {},
   "source": [
    "## Start the network and setting the client up\n",
    "Before running this notebook:\n",
    "1. You should start the network from fedbiomed-network, as detailed in :\n",
    "https://gitlab.inria.fr/fedbiomed/fedbiomed\n",
    "2. You need to configure 2 nodes: <br/>\n",
    "* **Node 1 :** `./scripts/fedbiomed_run node add`\n",
    "  * Select option 1 to add a csv file to the client\n",
    "  * Choose the name, tags and description of the dataset (you can write 'perp' always and it will be good)\n",
    "  * Pick the c1.csv file in your machine.\n",
    "  * Check that your data has been added in node 1 by executing `./scripts/fedbiomed_run node list`\n",
    "  * Run the node using `./scripts/fedbiomed_run node start`. <br/>\n",
    "\n",
    "* **Node 2 :** Open a second terminal and run ./scripts/fedbiomed_run node add config n2.ini\n",
    "  * Select option 1 to add a csv file to the client\n",
    "  * Choose the name, tags and description of the dataset (you can write 'perp' always and it will be good)\n",
    "  * Pick the c2.csv file in your machine.\n",
    "  * Check that your data has been added in node 2 by executing `./scripts/fedbiomed_run node config n2.ini list `\n",
    "  * Run the node using `./scripts/fedbiomed_run node config n2.ini start`.\n",
    " \n",
    "\n",
    " Wait until you get `Connected with result code 0`. it means you are online.\n"
   ]
  },
  {
   "cell_type": "code",
   "execution_count": 1,
   "id": "ade4cbea",
   "metadata": {},
   "outputs": [],
   "source": [
    "%load_ext autoreload\n",
    "%autoreload 2"
   ]
  },
  {
   "cell_type": "code",
   "execution_count": 2,
   "id": "b8c80070",
   "metadata": {},
   "outputs": [],
   "source": [
    "import numpy as np\n",
    "from fedbiomed.researcher.environ import TMP_DIR\n",
    "import tempfile\n",
    "tmp_dir_model = tempfile.TemporaryDirectory(dir=TMP_DIR+'/')\n",
    "model_file = tmp_dir_model.name + '/fedbiosklearn.py'\n"
   ]
  },
  {
   "cell_type": "markdown",
   "id": "9f91e69a",
   "metadata": {},
   "source": [
    "**model_args** is a dictionnary containing your model arguments, in case of SGDRegressor this will be max_iter and tol.\n",
    "\n",
    "**training_args** is a dictionnary with parameters , related to Federated Learning. "
   ]
  },
  {
   "cell_type": "code",
   "execution_count": 3,
   "id": "3a28b429",
   "metadata": {},
   "outputs": [],
   "source": [
    "input_sklearn_model = 'Perceptron'\n",
    "\n",
    "n_features = 20\n",
    "n_classes = 2\n",
    "\n",
    "model_args = { 'model': input_sklearn_model, 'max_iter':1000, 'tol': 1e-3 , \n",
    "               'n_features' : n_features, 'n_classes' : n_classes}\n",
    "\n",
    "training_args = {\n",
    "    'batch_size': None, \n",
    "    'lr': 1e-3, \n",
    "    'epochs': 5, \n",
    "    'dry_run': False,  \n",
    "    'batch_maxnum': 0\n",
    "}"
   ]
  },
  {
   "cell_type": "markdown",
   "id": "8e9aaa87",
   "metadata": {},
   "source": [
    "Hereafter the template of the class you should provide to Fedbiomed :\n",
    "\n",
    "**after_training_params** : a dictionnary containing the model parameters. \n",
    "In SGDRegressor case we will have coef and intercept. For kmeans that will be cluster_center and labels.\n",
    "       \n",
    "**training_step** : the most part of the time, it will be the method partial_fit, \n",
    "of a scikit incremental learning model. You can uncomment the prints in order to check the evolution of training.\n",
    "       \n",
    "**training_data** : you must return here the (X,y) that must be of the same type of \n",
    "your method partial_fit parameters. To simplify we dont use batch_size here, but the code should work if you want to train on a specific batch of the dataset. \n",
    "\n",
    "You can uncomment the prints in order to check the evolution of training."
   ]
  },
  {
   "cell_type": "code",
   "execution_count": 4,
   "id": "f10cc76c",
   "metadata": {},
   "outputs": [
    {
     "name": "stdout",
     "output_type": "stream",
     "text": [
      "Writing /user/jsaray/home/INRIA-PROJECTS/reviews/yannickRev/fedbiomed/var/tmp/tmp2sc12_y8/fedbiosklearn.py\n"
     ]
    }
   ],
   "source": [
    "%%writefile \"$model_file\"\n",
    "\n",
    "from fedbiomed.common.fedbiosklearn import SGDSkLearnModel\n",
    "import numpy as np\n",
    "\n",
    "class SkLearnTrainingPlan(SGDSkLearnModel):\n",
    "    def __init__(self, model_args):\n",
    "        super(SkLearnTrainingPlan,self).__init__(model_args)\n",
    "    \n",
    "    def training_data(self):\n",
    "        NUMBER_COLS = 20\n",
    "        dataset = pd.read_csv(self.dataset_path,header=None,delimiter=',')\n",
    "        X = dataset.iloc[:,0:NUMBER_COLS].values\n",
    "        y = dataset.iloc[:,NUMBER_COLS]       \n",
    "        return (X,y.values)"
   ]
  },
  {
   "cell_type": "code",
   "execution_count": 5,
   "id": "4b1a1341",
   "metadata": {},
   "outputs": [
    {
     "name": "stdout",
     "output_type": "stream",
     "text": [
      "Messaging 17b9a1a1-e93c-4ca1-bfa9-840188d453fb connected with result code 0\n",
      "Searching for clients with data tags: ['sk'] ...\n",
      "2021-09-07 15:06:57.316276 [ RESEARCHER ] message received. {'researcher_id': 'researcher_16d7a0f5-1751-4504-9c0e-30b5ee99cc13', 'success': True, 'databases': [{'name': 'sk', 'data_type': 'csv', 'tags': ['sk'], 'description': 'sk', 'shape': [149, 20], 'dataset_id': 'dataset_81c0addf-5fa0-4d08-a43f-6abe17d1d3ce'}], 'count': 1, 'client_id': 'client_31176b56-c503-4dcd-9c46-90f585a631ef', 'command': 'search'}\n",
      "2021-09-07 15:06:57.316854 [ RESEARCHER ] message received. {'researcher_id': 'researcher_16d7a0f5-1751-4504-9c0e-30b5ee99cc13', 'success': True, 'databases': [{'name': 'sk', 'data_type': 'csv', 'tags': ['sk'], 'description': 'sk', 'shape': [99, 20], 'dataset_id': 'dataset_2399b259-ee94-4ec1-9c3e-3600f104bd81'}], 'count': 1, 'client_id': 'client_c59e50c0-47cf-4e10-b592-06cac360a01c', 'command': 'search'}\n"
     ]
    }
   ],
   "source": [
    "from fedbiomed.researcher.experiment import Experiment\n",
    "from fedbiomed.researcher.aggregators.fedavg import FedAverage\n",
    "\n",
    "tags =  ['perp']\n",
    "rounds = 8\n",
    "\n",
    "exp = Experiment(tags=tags,\n",
    "                 #clients=None,\n",
    "                 model_path=model_file,\n",
    "                 model_args=model_args,\n",
    "                 model_class='SkLearnTrainingPlan',\n",
    "                 training_args=training_args,\n",
    "                 rounds=rounds,\n",
    "                 aggregator=FedAverage(),\n",
    "                 client_selection_strategy=None)"
   ]
  },
  {
   "cell_type": "code",
   "execution_count": 6,
   "id": "d6ff55da",
   "metadata": {},
   "outputs": [
    {
     "name": "stdout",
     "output_type": "stream",
     "text": [
      "Sampled clients in round  0   ['client_31176b56-c503-4dcd-9c46-90f585a631ef', 'client_c59e50c0-47cf-4e10-b592-06cac360a01c']\n",
      "[ RESEARCHER ] Send message to client  client_31176b56-c503-4dcd-9c46-90f585a631ef {'researcher_id': 'researcher_16d7a0f5-1751-4504-9c0e-30b5ee99cc13', 'job_id': '8b6b4a01-eae6-4c56-a254-3a788f5d2867', 'training_args': {'batch_size': None, 'lr': 0.001, 'epochs': 5, 'dry_run': False, 'batch_maxnum': 0}, 'model_args': {'model': 'Perceptron', 'max_iter': 1000, 'tol': 0.001, 'n_features': 20, 'n_classes': 2}, 'command': 'train', 'model_url': 'http://localhost:8844/media/uploads/2021/09/07/my_model_a504950e-3b43-423c-89db-e2affa702964.py', 'params_url': 'http://localhost:8844/media/uploads/2021/09/07/my_model_82531fdc-7168-45c7-80ac-fb6e9b1b0fdf.pt', 'model_class': 'SkLearnTrainingPlan', 'training_data': {'client_31176b56-c503-4dcd-9c46-90f585a631ef': ['dataset_81c0addf-5fa0-4d08-a43f-6abe17d1d3ce']}}\n",
      "researcher_16d7a0f5-1751-4504-9c0e-30b5ee99cc13\n",
      "[ RESEARCHER ] Send message to client  client_c59e50c0-47cf-4e10-b592-06cac360a01c {'researcher_id': 'researcher_16d7a0f5-1751-4504-9c0e-30b5ee99cc13', 'job_id': '8b6b4a01-eae6-4c56-a254-3a788f5d2867', 'training_args': {'batch_size': None, 'lr': 0.001, 'epochs': 5, 'dry_run': False, 'batch_maxnum': 0}, 'model_args': {'model': 'Perceptron', 'max_iter': 1000, 'tol': 0.001, 'n_features': 20, 'n_classes': 2}, 'command': 'train', 'model_url': 'http://localhost:8844/media/uploads/2021/09/07/my_model_a504950e-3b43-423c-89db-e2affa702964.py', 'params_url': 'http://localhost:8844/media/uploads/2021/09/07/my_model_82531fdc-7168-45c7-80ac-fb6e9b1b0fdf.pt', 'model_class': 'SkLearnTrainingPlan', 'training_data': {'client_c59e50c0-47cf-4e10-b592-06cac360a01c': ['dataset_2399b259-ee94-4ec1-9c3e-3600f104bd81']}}\n",
      "researcher_16d7a0f5-1751-4504-9c0e-30b5ee99cc13\n",
      "2021-09-07 15:07:10.112697 [ RESEARCHER ] message received. {'researcher_id': 'researcher_16d7a0f5-1751-4504-9c0e-30b5ee99cc13', 'job_id': '8b6b4a01-eae6-4c56-a254-3a788f5d2867', 'success': True, 'client_id': 'client_c59e50c0-47cf-4e10-b592-06cac360a01c', 'dataset_id': 'dataset_2399b259-ee94-4ec1-9c3e-3600f104bd81', 'params_url': 'http://localhost:8844/media/uploads/2021/09/07/node_params_df3c7ee2-5976-43dc-8433-8660e0b1d42a.pt', 'timing': {'rtime_training': 0.004584516000250005, 'ptime_training': 0.0045705160000000244}, 'msg': '', 'command': 'train'}\n",
      "2021-09-07 15:07:10.175222 [ RESEARCHER ] message received. {'researcher_id': 'researcher_16d7a0f5-1751-4504-9c0e-30b5ee99cc13', 'job_id': '8b6b4a01-eae6-4c56-a254-3a788f5d2867', 'success': True, 'client_id': 'client_31176b56-c503-4dcd-9c46-90f585a631ef', 'dataset_id': 'dataset_81c0addf-5fa0-4d08-a43f-6abe17d1d3ce', 'params_url': 'http://localhost:8844/media/uploads/2021/09/07/node_params_70f6d68e-da06-474c-b166-ebbc796b233b.pt', 'timing': {'rtime_training': 0.004845610000302258, 'ptime_training': 0.004828343000000013}, 'msg': '', 'command': 'train'}\n",
      "Downloading model params after training on  client_c59e50c0-47cf-4e10-b592-06cac360a01c \n",
      "\t- from http://localhost:8844/media/uploads/2021/09/07/node_params_df3c7ee2-5976-43dc-8433-8660e0b1d42a.pt\n",
      "Downloading model params after training on  client_31176b56-c503-4dcd-9c46-90f585a631ef \n",
      "\t- from http://localhost:8844/media/uploads/2021/09/07/node_params_70f6d68e-da06-474c-b166-ebbc796b233b.pt\n",
      "Clients that successfully reply in round  0   ['client_c59e50c0-47cf-4e10-b592-06cac360a01c', 'client_31176b56-c503-4dcd-9c46-90f585a631ef']\n",
      "Sampled clients in round  1   ['client_31176b56-c503-4dcd-9c46-90f585a631ef', 'client_c59e50c0-47cf-4e10-b592-06cac360a01c']\n",
      "[ RESEARCHER ] Send message to client  client_31176b56-c503-4dcd-9c46-90f585a631ef {'researcher_id': 'researcher_16d7a0f5-1751-4504-9c0e-30b5ee99cc13', 'job_id': '8b6b4a01-eae6-4c56-a254-3a788f5d2867', 'training_args': {'batch_size': None, 'lr': 0.001, 'epochs': 5, 'dry_run': False, 'batch_maxnum': 0}, 'model_args': {'model': 'Perceptron', 'max_iter': 1000, 'tol': 0.001, 'n_features': 20, 'n_classes': 2}, 'command': 'train', 'model_url': 'http://localhost:8844/media/uploads/2021/09/07/my_model_a504950e-3b43-423c-89db-e2affa702964.py', 'params_url': 'http://localhost:8844/media/uploads/2021/09/07/researcher_params_79621298-f56e-40f2-97e3-d95fe524056b.pt', 'model_class': 'SkLearnTrainingPlan', 'training_data': {'client_31176b56-c503-4dcd-9c46-90f585a631ef': ['dataset_81c0addf-5fa0-4d08-a43f-6abe17d1d3ce']}}\n",
      "researcher_16d7a0f5-1751-4504-9c0e-30b5ee99cc13\n",
      "[ RESEARCHER ] Send message to client  client_c59e50c0-47cf-4e10-b592-06cac360a01c {'researcher_id': 'researcher_16d7a0f5-1751-4504-9c0e-30b5ee99cc13', 'job_id': '8b6b4a01-eae6-4c56-a254-3a788f5d2867', 'training_args': {'batch_size': None, 'lr': 0.001, 'epochs': 5, 'dry_run': False, 'batch_maxnum': 0}, 'model_args': {'model': 'Perceptron', 'max_iter': 1000, 'tol': 0.001, 'n_features': 20, 'n_classes': 2}, 'command': 'train', 'model_url': 'http://localhost:8844/media/uploads/2021/09/07/my_model_a504950e-3b43-423c-89db-e2affa702964.py', 'params_url': 'http://localhost:8844/media/uploads/2021/09/07/researcher_params_79621298-f56e-40f2-97e3-d95fe524056b.pt', 'model_class': 'SkLearnTrainingPlan', 'training_data': {'client_c59e50c0-47cf-4e10-b592-06cac360a01c': ['dataset_2399b259-ee94-4ec1-9c3e-3600f104bd81']}}\n",
      "researcher_16d7a0f5-1751-4504-9c0e-30b5ee99cc13\n",
      "2021-09-07 15:07:19.920447 [ RESEARCHER ] message received. {'researcher_id': 'researcher_16d7a0f5-1751-4504-9c0e-30b5ee99cc13', 'job_id': '8b6b4a01-eae6-4c56-a254-3a788f5d2867', 'success': True, 'client_id': 'client_c59e50c0-47cf-4e10-b592-06cac360a01c', 'dataset_id': 'dataset_2399b259-ee94-4ec1-9c3e-3600f104bd81', 'params_url': 'http://localhost:8844/media/uploads/2021/09/07/node_params_5d9f0e9d-2d32-43f1-8474-9af831b6c02a.pt', 'timing': {'rtime_training': 0.012549330999718222, 'ptime_training': 0.012413510000000016}, 'msg': '', 'command': 'train'}\n",
      "2021-09-07 15:07:20.017756 [ RESEARCHER ] message received. {'researcher_id': 'researcher_16d7a0f5-1751-4504-9c0e-30b5ee99cc13', 'job_id': '8b6b4a01-eae6-4c56-a254-3a788f5d2867', 'success': True, 'client_id': 'client_31176b56-c503-4dcd-9c46-90f585a631ef', 'dataset_id': 'dataset_81c0addf-5fa0-4d08-a43f-6abe17d1d3ce', 'params_url': 'http://localhost:8844/media/uploads/2021/09/07/node_params_8f296331-1624-4fdc-af06-9153610f0db8.pt', 'timing': {'rtime_training': 0.004208040999401419, 'ptime_training': 0.004188338000000014}, 'msg': '', 'command': 'train'}\n",
      "Downloading model params after training on  client_c59e50c0-47cf-4e10-b592-06cac360a01c \n",
      "\t- from http://localhost:8844/media/uploads/2021/09/07/node_params_5d9f0e9d-2d32-43f1-8474-9af831b6c02a.pt\n",
      "Downloading model params after training on  client_31176b56-c503-4dcd-9c46-90f585a631ef \n",
      "\t- from http://localhost:8844/media/uploads/2021/09/07/node_params_8f296331-1624-4fdc-af06-9153610f0db8.pt\n",
      "Clients that successfully reply in round  1   ['client_c59e50c0-47cf-4e10-b592-06cac360a01c', 'client_31176b56-c503-4dcd-9c46-90f585a631ef']\n",
      "Sampled clients in round  2   ['client_31176b56-c503-4dcd-9c46-90f585a631ef', 'client_c59e50c0-47cf-4e10-b592-06cac360a01c']\n",
      "[ RESEARCHER ] Send message to client  client_31176b56-c503-4dcd-9c46-90f585a631ef {'researcher_id': 'researcher_16d7a0f5-1751-4504-9c0e-30b5ee99cc13', 'job_id': '8b6b4a01-eae6-4c56-a254-3a788f5d2867', 'training_args': {'batch_size': None, 'lr': 0.001, 'epochs': 5, 'dry_run': False, 'batch_maxnum': 0}, 'model_args': {'model': 'Perceptron', 'max_iter': 1000, 'tol': 0.001, 'n_features': 20, 'n_classes': 2}, 'command': 'train', 'model_url': 'http://localhost:8844/media/uploads/2021/09/07/my_model_a504950e-3b43-423c-89db-e2affa702964.py', 'params_url': 'http://localhost:8844/media/uploads/2021/09/07/researcher_params_c266ec0d-237e-4614-b2a2-3d30f9b4febd.pt', 'model_class': 'SkLearnTrainingPlan', 'training_data': {'client_31176b56-c503-4dcd-9c46-90f585a631ef': ['dataset_81c0addf-5fa0-4d08-a43f-6abe17d1d3ce']}}\n",
      "researcher_16d7a0f5-1751-4504-9c0e-30b5ee99cc13\n",
      "[ RESEARCHER ] Send message to client  client_c59e50c0-47cf-4e10-b592-06cac360a01c {'researcher_id': 'researcher_16d7a0f5-1751-4504-9c0e-30b5ee99cc13', 'job_id': '8b6b4a01-eae6-4c56-a254-3a788f5d2867', 'training_args': {'batch_size': None, 'lr': 0.001, 'epochs': 5, 'dry_run': False, 'batch_maxnum': 0}, 'model_args': {'model': 'Perceptron', 'max_iter': 1000, 'tol': 0.001, 'n_features': 20, 'n_classes': 2}, 'command': 'train', 'model_url': 'http://localhost:8844/media/uploads/2021/09/07/my_model_a504950e-3b43-423c-89db-e2affa702964.py', 'params_url': 'http://localhost:8844/media/uploads/2021/09/07/researcher_params_c266ec0d-237e-4614-b2a2-3d30f9b4febd.pt', 'model_class': 'SkLearnTrainingPlan', 'training_data': {'client_c59e50c0-47cf-4e10-b592-06cac360a01c': ['dataset_2399b259-ee94-4ec1-9c3e-3600f104bd81']}}\n",
      "researcher_16d7a0f5-1751-4504-9c0e-30b5ee99cc13\n",
      "2021-09-07 15:07:29.942878 [ RESEARCHER ] message received. {'researcher_id': 'researcher_16d7a0f5-1751-4504-9c0e-30b5ee99cc13', 'job_id': '8b6b4a01-eae6-4c56-a254-3a788f5d2867', 'success': True, 'client_id': 'client_c59e50c0-47cf-4e10-b592-06cac360a01c', 'dataset_id': 'dataset_2399b259-ee94-4ec1-9c3e-3600f104bd81', 'params_url': 'http://localhost:8844/media/uploads/2021/09/07/node_params_21b45e32-100e-49b3-b4c1-64f22e58258d.pt', 'timing': {'rtime_training': 0.007152602999667579, 'ptime_training': 0.0071048099999999614}, 'msg': '', 'command': 'train'}\n",
      "2021-09-07 15:07:29.953430 [ RESEARCHER ] message received. {'researcher_id': 'researcher_16d7a0f5-1751-4504-9c0e-30b5ee99cc13', 'job_id': '8b6b4a01-eae6-4c56-a254-3a788f5d2867', 'success': True, 'client_id': 'client_31176b56-c503-4dcd-9c46-90f585a631ef', 'dataset_id': 'dataset_81c0addf-5fa0-4d08-a43f-6abe17d1d3ce', 'params_url': 'http://localhost:8844/media/uploads/2021/09/07/node_params_77a6ddbf-f16c-4165-9d9a-f4fffbe8619f.pt', 'timing': {'rtime_training': 0.01026326600003813, 'ptime_training': 0.01020167999999999}, 'msg': '', 'command': 'train'}\n"
     ]
    },
    {
     "name": "stdout",
     "output_type": "stream",
     "text": [
      "Downloading model params after training on  client_c59e50c0-47cf-4e10-b592-06cac360a01c \n",
      "\t- from http://localhost:8844/media/uploads/2021/09/07/node_params_21b45e32-100e-49b3-b4c1-64f22e58258d.pt\n",
      "Downloading model params after training on  client_31176b56-c503-4dcd-9c46-90f585a631ef \n",
      "\t- from http://localhost:8844/media/uploads/2021/09/07/node_params_77a6ddbf-f16c-4165-9d9a-f4fffbe8619f.pt\n",
      "Clients that successfully reply in round  2   ['client_c59e50c0-47cf-4e10-b592-06cac360a01c', 'client_31176b56-c503-4dcd-9c46-90f585a631ef']\n",
      "Sampled clients in round  3   ['client_31176b56-c503-4dcd-9c46-90f585a631ef', 'client_c59e50c0-47cf-4e10-b592-06cac360a01c']\n",
      "[ RESEARCHER ] Send message to client  client_31176b56-c503-4dcd-9c46-90f585a631ef {'researcher_id': 'researcher_16d7a0f5-1751-4504-9c0e-30b5ee99cc13', 'job_id': '8b6b4a01-eae6-4c56-a254-3a788f5d2867', 'training_args': {'batch_size': None, 'lr': 0.001, 'epochs': 5, 'dry_run': False, 'batch_maxnum': 0}, 'model_args': {'model': 'Perceptron', 'max_iter': 1000, 'tol': 0.001, 'n_features': 20, 'n_classes': 2}, 'command': 'train', 'model_url': 'http://localhost:8844/media/uploads/2021/09/07/my_model_a504950e-3b43-423c-89db-e2affa702964.py', 'params_url': 'http://localhost:8844/media/uploads/2021/09/07/researcher_params_84683715-85ab-492a-974a-3133500a44d1.pt', 'model_class': 'SkLearnTrainingPlan', 'training_data': {'client_31176b56-c503-4dcd-9c46-90f585a631ef': ['dataset_81c0addf-5fa0-4d08-a43f-6abe17d1d3ce']}}\n",
      "researcher_16d7a0f5-1751-4504-9c0e-30b5ee99cc13\n",
      "[ RESEARCHER ] Send message to client  client_c59e50c0-47cf-4e10-b592-06cac360a01c {'researcher_id': 'researcher_16d7a0f5-1751-4504-9c0e-30b5ee99cc13', 'job_id': '8b6b4a01-eae6-4c56-a254-3a788f5d2867', 'training_args': {'batch_size': None, 'lr': 0.001, 'epochs': 5, 'dry_run': False, 'batch_maxnum': 0}, 'model_args': {'model': 'Perceptron', 'max_iter': 1000, 'tol': 0.001, 'n_features': 20, 'n_classes': 2}, 'command': 'train', 'model_url': 'http://localhost:8844/media/uploads/2021/09/07/my_model_a504950e-3b43-423c-89db-e2affa702964.py', 'params_url': 'http://localhost:8844/media/uploads/2021/09/07/researcher_params_84683715-85ab-492a-974a-3133500a44d1.pt', 'model_class': 'SkLearnTrainingPlan', 'training_data': {'client_c59e50c0-47cf-4e10-b592-06cac360a01c': ['dataset_2399b259-ee94-4ec1-9c3e-3600f104bd81']}}\n",
      "researcher_16d7a0f5-1751-4504-9c0e-30b5ee99cc13\n",
      "2021-09-07 15:07:39.974465 [ RESEARCHER ] message received. {'researcher_id': 'researcher_16d7a0f5-1751-4504-9c0e-30b5ee99cc13', 'job_id': '8b6b4a01-eae6-4c56-a254-3a788f5d2867', 'success': True, 'client_id': 'client_c59e50c0-47cf-4e10-b592-06cac360a01c', 'dataset_id': 'dataset_2399b259-ee94-4ec1-9c3e-3600f104bd81', 'params_url': 'http://localhost:8844/media/uploads/2021/09/07/node_params_74baa1b2-afb2-4fd4-99f1-1cb388386d58.pt', 'timing': {'rtime_training': 0.004306455000005371, 'ptime_training': 0.004255813999999969}, 'msg': '', 'command': 'train'}\n",
      "2021-09-07 15:07:39.991395 [ RESEARCHER ] message received. {'researcher_id': 'researcher_16d7a0f5-1751-4504-9c0e-30b5ee99cc13', 'job_id': '8b6b4a01-eae6-4c56-a254-3a788f5d2867', 'success': True, 'client_id': 'client_31176b56-c503-4dcd-9c46-90f585a631ef', 'dataset_id': 'dataset_81c0addf-5fa0-4d08-a43f-6abe17d1d3ce', 'params_url': 'http://localhost:8844/media/uploads/2021/09/07/node_params_9ec377f3-78de-4914-a044-0027bda757e2.pt', 'timing': {'rtime_training': 0.004696547000094142, 'ptime_training': 0.0046518640000000056}, 'msg': '', 'command': 'train'}\n",
      "Downloading model params after training on  client_c59e50c0-47cf-4e10-b592-06cac360a01c \n",
      "\t- from http://localhost:8844/media/uploads/2021/09/07/node_params_74baa1b2-afb2-4fd4-99f1-1cb388386d58.pt\n",
      "Downloading model params after training on  client_31176b56-c503-4dcd-9c46-90f585a631ef \n",
      "\t- from http://localhost:8844/media/uploads/2021/09/07/node_params_9ec377f3-78de-4914-a044-0027bda757e2.pt\n",
      "Clients that successfully reply in round  3   ['client_c59e50c0-47cf-4e10-b592-06cac360a01c', 'client_31176b56-c503-4dcd-9c46-90f585a631ef']\n",
      "Sampled clients in round  4   ['client_31176b56-c503-4dcd-9c46-90f585a631ef', 'client_c59e50c0-47cf-4e10-b592-06cac360a01c']\n",
      "[ RESEARCHER ] Send message to client  client_31176b56-c503-4dcd-9c46-90f585a631ef {'researcher_id': 'researcher_16d7a0f5-1751-4504-9c0e-30b5ee99cc13', 'job_id': '8b6b4a01-eae6-4c56-a254-3a788f5d2867', 'training_args': {'batch_size': None, 'lr': 0.001, 'epochs': 5, 'dry_run': False, 'batch_maxnum': 0}, 'model_args': {'model': 'Perceptron', 'max_iter': 1000, 'tol': 0.001, 'n_features': 20, 'n_classes': 2}, 'command': 'train', 'model_url': 'http://localhost:8844/media/uploads/2021/09/07/my_model_a504950e-3b43-423c-89db-e2affa702964.py', 'params_url': 'http://localhost:8844/media/uploads/2021/09/07/researcher_params_3f9321fd-d33f-4f49-bd19-4993c6bcee2f.pt', 'model_class': 'SkLearnTrainingPlan', 'training_data': {'client_31176b56-c503-4dcd-9c46-90f585a631ef': ['dataset_81c0addf-5fa0-4d08-a43f-6abe17d1d3ce']}}\n",
      "researcher_16d7a0f5-1751-4504-9c0e-30b5ee99cc13\n",
      "[ RESEARCHER ] Send message to client  client_c59e50c0-47cf-4e10-b592-06cac360a01c {'researcher_id': 'researcher_16d7a0f5-1751-4504-9c0e-30b5ee99cc13', 'job_id': '8b6b4a01-eae6-4c56-a254-3a788f5d2867', 'training_args': {'batch_size': None, 'lr': 0.001, 'epochs': 5, 'dry_run': False, 'batch_maxnum': 0}, 'model_args': {'model': 'Perceptron', 'max_iter': 1000, 'tol': 0.001, 'n_features': 20, 'n_classes': 2}, 'command': 'train', 'model_url': 'http://localhost:8844/media/uploads/2021/09/07/my_model_a504950e-3b43-423c-89db-e2affa702964.py', 'params_url': 'http://localhost:8844/media/uploads/2021/09/07/researcher_params_3f9321fd-d33f-4f49-bd19-4993c6bcee2f.pt', 'model_class': 'SkLearnTrainingPlan', 'training_data': {'client_c59e50c0-47cf-4e10-b592-06cac360a01c': ['dataset_2399b259-ee94-4ec1-9c3e-3600f104bd81']}}\n",
      "researcher_16d7a0f5-1751-4504-9c0e-30b5ee99cc13\n",
      "2021-09-07 15:07:50.099293 [ RESEARCHER ] message received. {'researcher_id': 'researcher_16d7a0f5-1751-4504-9c0e-30b5ee99cc13', 'job_id': '8b6b4a01-eae6-4c56-a254-3a788f5d2867', 'success': True, 'client_id': 'client_31176b56-c503-4dcd-9c46-90f585a631ef', 'dataset_id': 'dataset_81c0addf-5fa0-4d08-a43f-6abe17d1d3ce', 'params_url': 'http://localhost:8844/media/uploads/2021/09/07/node_params_2ebd1024-a363-4ad1-9b05-9855e0d28d94.pt', 'timing': {'rtime_training': 0.014697093999529898, 'ptime_training': 0.014278131999999999}, 'msg': '', 'command': 'train'}\n",
      "2021-09-07 15:07:50.108437 [ RESEARCHER ] message received. {'researcher_id': 'researcher_16d7a0f5-1751-4504-9c0e-30b5ee99cc13', 'job_id': '8b6b4a01-eae6-4c56-a254-3a788f5d2867', 'success': True, 'client_id': 'client_c59e50c0-47cf-4e10-b592-06cac360a01c', 'dataset_id': 'dataset_2399b259-ee94-4ec1-9c3e-3600f104bd81', 'params_url': 'http://localhost:8844/media/uploads/2021/09/07/node_params_f40f7545-f1e5-4f0c-8a89-174b1b9d0fe3.pt', 'timing': {'rtime_training': 0.005693291999705252, 'ptime_training': 0.00565268200000002}, 'msg': '', 'command': 'train'}\n",
      "Downloading model params after training on  client_31176b56-c503-4dcd-9c46-90f585a631ef \n",
      "\t- from http://localhost:8844/media/uploads/2021/09/07/node_params_2ebd1024-a363-4ad1-9b05-9855e0d28d94.pt\n",
      "Downloading model params after training on  client_c59e50c0-47cf-4e10-b592-06cac360a01c \n",
      "\t- from http://localhost:8844/media/uploads/2021/09/07/node_params_f40f7545-f1e5-4f0c-8a89-174b1b9d0fe3.pt\n",
      "Clients that successfully reply in round  4   ['client_31176b56-c503-4dcd-9c46-90f585a631ef', 'client_c59e50c0-47cf-4e10-b592-06cac360a01c']\n",
      "Sampled clients in round  5   ['client_31176b56-c503-4dcd-9c46-90f585a631ef', 'client_c59e50c0-47cf-4e10-b592-06cac360a01c']\n",
      "[ RESEARCHER ] Send message to client  client_31176b56-c503-4dcd-9c46-90f585a631ef {'researcher_id': 'researcher_16d7a0f5-1751-4504-9c0e-30b5ee99cc13', 'job_id': '8b6b4a01-eae6-4c56-a254-3a788f5d2867', 'training_args': {'batch_size': None, 'lr': 0.001, 'epochs': 5, 'dry_run': False, 'batch_maxnum': 0}, 'model_args': {'model': 'Perceptron', 'max_iter': 1000, 'tol': 0.001, 'n_features': 20, 'n_classes': 2}, 'command': 'train', 'model_url': 'http://localhost:8844/media/uploads/2021/09/07/my_model_a504950e-3b43-423c-89db-e2affa702964.py', 'params_url': 'http://localhost:8844/media/uploads/2021/09/07/researcher_params_bc5393f1-eab9-432f-bcf9-59497c6c8edb.pt', 'model_class': 'SkLearnTrainingPlan', 'training_data': {'client_31176b56-c503-4dcd-9c46-90f585a631ef': ['dataset_81c0addf-5fa0-4d08-a43f-6abe17d1d3ce']}}\n",
      "researcher_16d7a0f5-1751-4504-9c0e-30b5ee99cc13\n",
      "[ RESEARCHER ] Send message to client  client_c59e50c0-47cf-4e10-b592-06cac360a01c {'researcher_id': 'researcher_16d7a0f5-1751-4504-9c0e-30b5ee99cc13', 'job_id': '8b6b4a01-eae6-4c56-a254-3a788f5d2867', 'training_args': {'batch_size': None, 'lr': 0.001, 'epochs': 5, 'dry_run': False, 'batch_maxnum': 0}, 'model_args': {'model': 'Perceptron', 'max_iter': 1000, 'tol': 0.001, 'n_features': 20, 'n_classes': 2}, 'command': 'train', 'model_url': 'http://localhost:8844/media/uploads/2021/09/07/my_model_a504950e-3b43-423c-89db-e2affa702964.py', 'params_url': 'http://localhost:8844/media/uploads/2021/09/07/researcher_params_bc5393f1-eab9-432f-bcf9-59497c6c8edb.pt', 'model_class': 'SkLearnTrainingPlan', 'training_data': {'client_c59e50c0-47cf-4e10-b592-06cac360a01c': ['dataset_2399b259-ee94-4ec1-9c3e-3600f104bd81']}}\n",
      "researcher_16d7a0f5-1751-4504-9c0e-30b5ee99cc13\n",
      "2021-09-07 15:08:00.231009 [ RESEARCHER ] message received. {'researcher_id': 'researcher_16d7a0f5-1751-4504-9c0e-30b5ee99cc13', 'job_id': '8b6b4a01-eae6-4c56-a254-3a788f5d2867', 'success': True, 'client_id': 'client_31176b56-c503-4dcd-9c46-90f585a631ef', 'dataset_id': 'dataset_81c0addf-5fa0-4d08-a43f-6abe17d1d3ce', 'params_url': 'http://localhost:8844/media/uploads/2021/09/07/node_params_99e8505f-a2a9-43fe-aec8-67a194012379.pt', 'timing': {'rtime_training': 0.010105870999723265, 'ptime_training': 0.010030994999999987}, 'msg': '', 'command': 'train'}\n"
     ]
    },
    {
     "name": "stdout",
     "output_type": "stream",
     "text": [
      "2021-09-07 15:08:00.240584 [ RESEARCHER ] message received. {'researcher_id': 'researcher_16d7a0f5-1751-4504-9c0e-30b5ee99cc13', 'job_id': '8b6b4a01-eae6-4c56-a254-3a788f5d2867', 'success': True, 'client_id': 'client_c59e50c0-47cf-4e10-b592-06cac360a01c', 'dataset_id': 'dataset_2399b259-ee94-4ec1-9c3e-3600f104bd81', 'params_url': 'http://localhost:8844/media/uploads/2021/09/07/node_params_efe81df7-fcf0-49b4-a818-b3699a8f63a5.pt', 'timing': {'rtime_training': 0.007740759999251168, 'ptime_training': 0.007674280000000033}, 'msg': '', 'command': 'train'}\n",
      "Downloading model params after training on  client_31176b56-c503-4dcd-9c46-90f585a631ef \n",
      "\t- from http://localhost:8844/media/uploads/2021/09/07/node_params_99e8505f-a2a9-43fe-aec8-67a194012379.pt\n",
      "Downloading model params after training on  client_c59e50c0-47cf-4e10-b592-06cac360a01c \n",
      "\t- from http://localhost:8844/media/uploads/2021/09/07/node_params_efe81df7-fcf0-49b4-a818-b3699a8f63a5.pt\n",
      "Clients that successfully reply in round  5   ['client_31176b56-c503-4dcd-9c46-90f585a631ef', 'client_c59e50c0-47cf-4e10-b592-06cac360a01c']\n",
      "Sampled clients in round  6   ['client_31176b56-c503-4dcd-9c46-90f585a631ef', 'client_c59e50c0-47cf-4e10-b592-06cac360a01c']\n",
      "[ RESEARCHER ] Send message to client  client_31176b56-c503-4dcd-9c46-90f585a631ef {'researcher_id': 'researcher_16d7a0f5-1751-4504-9c0e-30b5ee99cc13', 'job_id': '8b6b4a01-eae6-4c56-a254-3a788f5d2867', 'training_args': {'batch_size': None, 'lr': 0.001, 'epochs': 5, 'dry_run': False, 'batch_maxnum': 0}, 'model_args': {'model': 'Perceptron', 'max_iter': 1000, 'tol': 0.001, 'n_features': 20, 'n_classes': 2}, 'command': 'train', 'model_url': 'http://localhost:8844/media/uploads/2021/09/07/my_model_a504950e-3b43-423c-89db-e2affa702964.py', 'params_url': 'http://localhost:8844/media/uploads/2021/09/07/researcher_params_c1e60e11-0298-4414-bb43-b233e81db1aa.pt', 'model_class': 'SkLearnTrainingPlan', 'training_data': {'client_31176b56-c503-4dcd-9c46-90f585a631ef': ['dataset_81c0addf-5fa0-4d08-a43f-6abe17d1d3ce']}}\n",
      "researcher_16d7a0f5-1751-4504-9c0e-30b5ee99cc13\n",
      "[ RESEARCHER ] Send message to client  client_c59e50c0-47cf-4e10-b592-06cac360a01c {'researcher_id': 'researcher_16d7a0f5-1751-4504-9c0e-30b5ee99cc13', 'job_id': '8b6b4a01-eae6-4c56-a254-3a788f5d2867', 'training_args': {'batch_size': None, 'lr': 0.001, 'epochs': 5, 'dry_run': False, 'batch_maxnum': 0}, 'model_args': {'model': 'Perceptron', 'max_iter': 1000, 'tol': 0.001, 'n_features': 20, 'n_classes': 2}, 'command': 'train', 'model_url': 'http://localhost:8844/media/uploads/2021/09/07/my_model_a504950e-3b43-423c-89db-e2affa702964.py', 'params_url': 'http://localhost:8844/media/uploads/2021/09/07/researcher_params_c1e60e11-0298-4414-bb43-b233e81db1aa.pt', 'model_class': 'SkLearnTrainingPlan', 'training_data': {'client_c59e50c0-47cf-4e10-b592-06cac360a01c': ['dataset_2399b259-ee94-4ec1-9c3e-3600f104bd81']}}\n",
      "researcher_16d7a0f5-1751-4504-9c0e-30b5ee99cc13\n",
      "2021-09-07 15:08:10.272366 [ RESEARCHER ] message received. {'researcher_id': 'researcher_16d7a0f5-1751-4504-9c0e-30b5ee99cc13', 'job_id': '8b6b4a01-eae6-4c56-a254-3a788f5d2867', 'success': True, 'client_id': 'client_31176b56-c503-4dcd-9c46-90f585a631ef', 'dataset_id': 'dataset_81c0addf-5fa0-4d08-a43f-6abe17d1d3ce', 'params_url': 'http://localhost:8844/media/uploads/2021/09/07/node_params_4a1549a4-ccdf-4ee1-a77c-f721c3a42119.pt', 'timing': {'rtime_training': 0.005240558999503264, 'ptime_training': 0.005211113999999961}, 'msg': '', 'command': 'train'}\n",
      "2021-09-07 15:08:10.281807 [ RESEARCHER ] message received. {'researcher_id': 'researcher_16d7a0f5-1751-4504-9c0e-30b5ee99cc13', 'job_id': '8b6b4a01-eae6-4c56-a254-3a788f5d2867', 'success': True, 'client_id': 'client_c59e50c0-47cf-4e10-b592-06cac360a01c', 'dataset_id': 'dataset_2399b259-ee94-4ec1-9c3e-3600f104bd81', 'params_url': 'http://localhost:8844/media/uploads/2021/09/07/node_params_ecc0847b-1766-4846-a5ed-d54e09152346.pt', 'timing': {'rtime_training': 0.004814137999346713, 'ptime_training': 0.00478504099999999}, 'msg': '', 'command': 'train'}\n",
      "Downloading model params after training on  client_31176b56-c503-4dcd-9c46-90f585a631ef \n",
      "\t- from http://localhost:8844/media/uploads/2021/09/07/node_params_4a1549a4-ccdf-4ee1-a77c-f721c3a42119.pt\n",
      "Downloading model params after training on  client_c59e50c0-47cf-4e10-b592-06cac360a01c \n",
      "\t- from http://localhost:8844/media/uploads/2021/09/07/node_params_ecc0847b-1766-4846-a5ed-d54e09152346.pt\n",
      "Clients that successfully reply in round  6   ['client_31176b56-c503-4dcd-9c46-90f585a631ef', 'client_c59e50c0-47cf-4e10-b592-06cac360a01c']\n",
      "Sampled clients in round  7   ['client_31176b56-c503-4dcd-9c46-90f585a631ef', 'client_c59e50c0-47cf-4e10-b592-06cac360a01c']\n",
      "[ RESEARCHER ] Send message to client  client_31176b56-c503-4dcd-9c46-90f585a631ef {'researcher_id': 'researcher_16d7a0f5-1751-4504-9c0e-30b5ee99cc13', 'job_id': '8b6b4a01-eae6-4c56-a254-3a788f5d2867', 'training_args': {'batch_size': None, 'lr': 0.001, 'epochs': 5, 'dry_run': False, 'batch_maxnum': 0}, 'model_args': {'model': 'Perceptron', 'max_iter': 1000, 'tol': 0.001, 'n_features': 20, 'n_classes': 2}, 'command': 'train', 'model_url': 'http://localhost:8844/media/uploads/2021/09/07/my_model_a504950e-3b43-423c-89db-e2affa702964.py', 'params_url': 'http://localhost:8844/media/uploads/2021/09/07/researcher_params_eb0f943e-e4fc-49ec-a8ea-3038a65eb4f3.pt', 'model_class': 'SkLearnTrainingPlan', 'training_data': {'client_31176b56-c503-4dcd-9c46-90f585a631ef': ['dataset_81c0addf-5fa0-4d08-a43f-6abe17d1d3ce']}}\n",
      "researcher_16d7a0f5-1751-4504-9c0e-30b5ee99cc13\n",
      "[ RESEARCHER ] Send message to client  client_c59e50c0-47cf-4e10-b592-06cac360a01c {'researcher_id': 'researcher_16d7a0f5-1751-4504-9c0e-30b5ee99cc13', 'job_id': '8b6b4a01-eae6-4c56-a254-3a788f5d2867', 'training_args': {'batch_size': None, 'lr': 0.001, 'epochs': 5, 'dry_run': False, 'batch_maxnum': 0}, 'model_args': {'model': 'Perceptron', 'max_iter': 1000, 'tol': 0.001, 'n_features': 20, 'n_classes': 2}, 'command': 'train', 'model_url': 'http://localhost:8844/media/uploads/2021/09/07/my_model_a504950e-3b43-423c-89db-e2affa702964.py', 'params_url': 'http://localhost:8844/media/uploads/2021/09/07/researcher_params_eb0f943e-e4fc-49ec-a8ea-3038a65eb4f3.pt', 'model_class': 'SkLearnTrainingPlan', 'training_data': {'client_c59e50c0-47cf-4e10-b592-06cac360a01c': ['dataset_2399b259-ee94-4ec1-9c3e-3600f104bd81']}}\n",
      "researcher_16d7a0f5-1751-4504-9c0e-30b5ee99cc13\n",
      "2021-09-07 15:08:20.322808 [ RESEARCHER ] message received. {'researcher_id': 'researcher_16d7a0f5-1751-4504-9c0e-30b5ee99cc13', 'job_id': '8b6b4a01-eae6-4c56-a254-3a788f5d2867', 'success': True, 'client_id': 'client_31176b56-c503-4dcd-9c46-90f585a631ef', 'dataset_id': 'dataset_81c0addf-5fa0-4d08-a43f-6abe17d1d3ce', 'params_url': 'http://localhost:8844/media/uploads/2021/09/07/node_params_c71450c5-3a87-4a8f-948a-04a30fc90000.pt', 'timing': {'rtime_training': 0.004375956000330916, 'ptime_training': 0.004336736000000063}, 'msg': '', 'command': 'train'}\n",
      "2021-09-07 15:08:20.334442 [ RESEARCHER ] message received. {'researcher_id': 'researcher_16d7a0f5-1751-4504-9c0e-30b5ee99cc13', 'job_id': '8b6b4a01-eae6-4c56-a254-3a788f5d2867', 'success': True, 'client_id': 'client_c59e50c0-47cf-4e10-b592-06cac360a01c', 'dataset_id': 'dataset_2399b259-ee94-4ec1-9c3e-3600f104bd81', 'params_url': 'http://localhost:8844/media/uploads/2021/09/07/node_params_2e4a3071-bf91-4baf-94c3-2946528cbf9b.pt', 'timing': {'rtime_training': 0.004431979000401043, 'ptime_training': 0.004412358000000005}, 'msg': '', 'command': 'train'}\n",
      "Downloading model params after training on  client_31176b56-c503-4dcd-9c46-90f585a631ef \n",
      "\t- from http://localhost:8844/media/uploads/2021/09/07/node_params_c71450c5-3a87-4a8f-948a-04a30fc90000.pt\n",
      "Downloading model params after training on  client_c59e50c0-47cf-4e10-b592-06cac360a01c \n",
      "\t- from http://localhost:8844/media/uploads/2021/09/07/node_params_2e4a3071-bf91-4baf-94c3-2946528cbf9b.pt\n",
      "Clients that successfully reply in round  7   ['client_31176b56-c503-4dcd-9c46-90f585a631ef', 'client_c59e50c0-47cf-4e10-b592-06cac360a01c']\n"
     ]
    }
   ],
   "source": [
    "exp.run()"
   ]
  },
  {
   "cell_type": "markdown",
   "id": "88e2a782",
   "metadata": {},
   "source": [
    "## Lets validate the trained model with the test dataset c3.csv."
   ]
  },
  {
   "cell_type": "code",
   "execution_count": 7,
   "id": "ec4439e6",
   "metadata": {},
   "outputs": [],
   "source": [
    "import pandas as pd"
   ]
  },
  {
   "cell_type": "code",
   "execution_count": 8,
   "id": "6b970bd9",
   "metadata": {},
   "outputs": [],
   "source": [
    "data = pd.read_csv('== Path to c3.csv')"
   ]
  },
  {
   "cell_type": "code",
   "execution_count": 9,
   "id": "91f579d5",
   "metadata": {},
   "outputs": [],
   "source": [
    "X_test = data.iloc[:,:n_features]\n",
    "y_test = data.iloc[:,n_features]"
   ]
  },
  {
   "cell_type": "markdown",
   "id": "63e6d380",
   "metadata": {},
   "source": [
    "Accuracy computing with federated algorithm :"
   ]
  },
  {
   "cell_type": "code",
   "execution_count": 10,
   "id": "6edb32ed",
   "metadata": {},
   "outputs": [
    {
     "name": "stdout",
     "output_type": "stream",
     "text": [
      "Accuracy metric:  0.8727272727272727\n",
      "Accuracy metric:  0.830188679245283\n",
      "Accuracy metric:  0.8461538461538461\n",
      "Accuracy metric:  0.830188679245283\n",
      "Accuracy metric:  0.8679245283018867\n",
      "Accuracy metric:  0.8679245283018867\n",
      "Accuracy metric:  0.8679245283018867\n",
      "Accuracy metric:  0.8846153846153847\n"
     ]
    }
   ],
   "source": [
    "from sklearn.metrics import f1_score\n",
    "loss_metric = f1_score\n",
    "    \n",
    "testing_error = []\n",
    "\n",
    "for i in range(rounds):\n",
    "    fed_model = exp.model_instance.get_model()\n",
    "    fed_model.coef_ = exp.aggregated_params[i]['params']['coef_']\n",
    "    fed_model.intercept_ = exp.aggregated_params[i]['params']['intercept_']\n",
    "    metric = loss_metric(fed_model.predict(X_test),y_test.ravel())\n",
    "    print('Accuracy metric: ', metric, )\n",
    "    testing_error.append(metric)"
   ]
  },
  {
   "cell_type": "code",
   "execution_count": null,
   "id": "1393f942",
   "metadata": {},
   "outputs": [],
   "source": []
  }
 ],
 "metadata": {
  "kernelspec": {
   "display_name": "Python 3",
   "language": "python",
   "name": "python3"
  },
  "language_info": {
   "codemirror_mode": {
    "name": "ipython",
    "version": 3
   },
   "file_extension": ".py",
   "mimetype": "text/x-python",
   "name": "python",
   "nbconvert_exporter": "python",
   "pygments_lexer": "ipython3",
   "version": "3.8.8"
  }
 },
 "nbformat": 4,
 "nbformat_minor": 5
}

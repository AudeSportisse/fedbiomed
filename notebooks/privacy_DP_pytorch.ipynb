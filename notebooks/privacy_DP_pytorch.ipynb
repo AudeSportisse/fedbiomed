{
 "cells": [
  {
   "cell_type": "markdown",
   "metadata": {},
   "source": [
    "# Fedbiomed Researcher base example"
   ]
  },
  {
   "cell_type": "markdown",
   "metadata": {},
   "source": [
    "Use for developing (autoreloads changes made across packages)"
   ]
  },
  {
   "cell_type": "code",
   "execution_count": 18,
   "metadata": {},
   "outputs": [
    {
     "name": "stdout",
     "output_type": "stream",
     "text": [
      "The autoreload extension is already loaded. To reload it, use:\n",
      "  %reload_ext autoreload\n"
     ]
    }
   ],
   "source": [
    "%load_ext autoreload\n",
    "%autoreload 2"
   ]
  },
  {
   "cell_type": "markdown",
   "metadata": {},
   "source": [
    "## Start the network\n",
    "Before running this notebook, start the network with `./scripts/fedbiomed_run network`"
   ]
  },
  {
   "cell_type": "markdown",
   "metadata": {},
   "source": [
    "## Setting the node up\n",
    "It is necessary to previously configure a node:\n",
    "1. `./scripts/fedbiomed_run node add`\n",
    "  * Select option 2 (default) to add MNIST to the node\n",
    "  * Confirm default tags by hitting \"y\" and ENTER\n",
    "  * Pick the folder where MNIST is downloaded (this is due torch issue https://github.com/pytorch/vision/issues/3549)\n",
    "  * Data must have been added (if you get a warning saying that data must be unique is because it's been already added)\n",
    "  \n",
    "2. Check that your data has been added by executing `./scripts/fedbiomed_run node list`\n",
    "3. Run the node using `./scripts/fedbiomed_run node run`. Wait until you get `Starting task manager`. it means you are online."
   ]
  },
  {
   "cell_type": "markdown",
   "metadata": {},
   "source": [
    "## Define an experiment model and parameters\""
   ]
  },
  {
   "cell_type": "markdown",
   "metadata": {},
   "source": [
    "Declare a torch.nn MyTrainingPlan class to send for training on the node"
   ]
  },
  {
   "cell_type": "code",
   "execution_count": 19,
   "metadata": {},
   "outputs": [],
   "source": [
    "import torch\n",
    "import torch.nn as nn\n",
    "from fedbiomed.common.training_plans import TorchTrainingPlan\n",
    "from fedbiomed.common.data import DataManager\n",
    "from torchvision import datasets, transforms\n",
    "\n",
    "# Here we define the model to be used. \n",
    "# You can use any class name (here 'Net')\n",
    "class MyTrainingPlan(TorchTrainingPlan):\n",
    "    def __init__(self, model_args: dict = {}):\n",
    "        super(MyTrainingPlan, self).__init__(model_args)\n",
    "        \n",
    "        \n",
    "        self.model = self.make_model()\n",
    "        \n",
    "        # Here we define the custom dependencies that will be needed by our custom Dataloader\n",
    "        # In this case, we need the torch DataLoader classes\n",
    "        # Since we will train on MNIST, we need datasets and transform from torchvision\n",
    "        deps = [\"from torchvision import datasets, transforms\"]\n",
    "        \n",
    "        self.add_dependency(deps)\n",
    "\n",
    "    def make_model(self):\n",
    "        model = nn.Sequential(nn.Conv2d(1, 32, 3, 1),\n",
    "                                  nn.ReLU(),\n",
    "                                  nn.Conv2d(32, 64, 3, 1),\n",
    "                                  nn.ReLU(),\n",
    "                                  nn.MaxPool2d(2),\n",
    "                                  nn.Dropout(0.25),\n",
    "                                  nn.Flatten(),\n",
    "                                  nn.Linear(9216, 128),\n",
    "                                  nn.ReLU(),\n",
    "                                  nn.Dropout(0.5),\n",
    "                                  nn.Linear(128, 10),\n",
    "                                  nn.LogSoftmax(dim=1))\n",
    "        return model\n",
    "        \n",
    "        \n",
    "    def forward(self, x):\n",
    "\n",
    "        return self.model(x)\n",
    "\n",
    "    def training_data(self, batch_size = 48):\n",
    "        # Custom torch Dataloader for MNIST data\n",
    "        transform = transforms.Compose([transforms.ToTensor(),\n",
    "        transforms.Normalize((0.1307,), (0.3081,))])\n",
    "        dataset1 = datasets.MNIST(self.dataset_path, train=True, download=False, transform=transform)\n",
    "        train_kwargs = {'batch_size': batch_size, 'shuffle': True}\n",
    "        return DataManager(dataset=dataset1, **train_kwargs)\n",
    "    \n",
    "    def training_step(self, data, target):\n",
    "        output = self.forward(data)\n",
    "        loss   = torch.nn.functional.nll_loss(output, target)\n",
    "        return loss\n"
   ]
  },
  {
   "cell_type": "markdown",
   "metadata": {},
   "source": [
    "This group of arguments correspond respectively:\n",
    "* `model_args`: a dictionary with the arguments related to the model (e.g. number of layers, features, etc.). This will be passed to the model class on the node side.\n",
    "* `training_args`: a dictionary containing the arguments for the training routine (e.g. batch size, learning rate, epochs, etc.). This will be passed to the routine on the node side.\n",
    "\n",
    "**NOTE:** typos and/or lack of positional (required) arguments will raise error. 🤓"
   ]
  },
  {
   "cell_type": "code",
   "execution_count": 20,
   "metadata": {
    "pycharm": {
     "name": "#%%\n"
    }
   },
   "outputs": [],
   "source": [
    "model_args = {}\n",
    "\n",
    "training_args = {\n",
    "    'batch_size': 48, \n",
    "    'lr': 1e-3, \n",
    "    'epochs': 3, \n",
    "    'dry_run': False,  \n",
    "    'batch_maxnum': 100, # Fast pass for development : only use ( batch_maxnum * batch_size ) samples\n",
    "    'DP_args': {'type' : 'local', 'sigma': 1., 'clip': 1.},\n",
    "}"
   ]
  },
  {
   "cell_type": "markdown",
   "metadata": {},
   "source": [
    "## Dimensioning the training parameters for ldp"
   ]
  },
  {
   "cell_type": "code",
   "execution_count": 21,
   "metadata": {
    "scrolled": true
   },
   "outputs": [
    {
     "name": "stderr",
     "output_type": "stream",
     "text": [
      "2022-04-01 14:47:45,744 fedbiomed INFO - Listing available datasets in all nodes... \n",
      "04/01/2022 14:47:45:INFO:Listing available datasets in all nodes... \n",
      "2022-04-01 14:47:45,749 fedbiomed INFO - log from: node_65e33263-8be2-42a8-b7ba-41b0cd90557d / DEBUG - Message received: {'researcher_id': 'researcher_8e4448ff-612c-4c3a-bb07-338c5e251a9b', 'command': 'list'}\n",
      "04/01/2022 14:47:45:INFO:log from: node_65e33263-8be2-42a8-b7ba-41b0cd90557d / DEBUG - Message received: {'researcher_id': 'researcher_8e4448ff-612c-4c3a-bb07-338c5e251a9b', 'command': 'list'}\n"
     ]
    }
   ],
   "source": [
    "from fedbiomed.researcher.requests import Requests\n",
    "import numpy as np\n",
    "\n",
    "req = Requests()\n",
    "xx = req.list()\n",
    "min_dataset_size = np.min([xx[i][0]['shape'][0] for i in xx])\n",
    "q = training_args['batch_size']/min_dataset_size\n",
    "\n",
    "sigma = 1.\n",
    "delta = 1e-6\n",
    "max_epsilon = 1\n",
    "max_N = int(1e5)"
   ]
  },
  {
   "cell_type": "code",
   "execution_count": 30,
   "metadata": {},
   "outputs": [],
   "source": [
    "from fedbiomed.researcher.privacy.rdp_accountant import get_iterations\n",
    "\n",
    "N, eps_list = get_iterations(delta, sigma, q, max_epsilon, max_N)\n",
    "\n",
    "max_epochs = int(N*training_args['batch_size']/min_dataset_size)"
   ]
  },
  {
   "cell_type": "code",
   "execution_count": 35,
   "metadata": {},
   "outputs": [],
   "source": [
    "assert training_args['batch_size']<max_epochs, 'Number of epochs not compatible with privacy budget'"
   ]
  },
  {
   "cell_type": "markdown",
   "metadata": {},
   "source": [
    "## Dimensioning the training parameters for cdp"
   ]
  },
  {
   "cell_type": "code",
   "execution_count": 42,
   "metadata": {},
   "outputs": [],
   "source": [
    "q = 1 ## All clients selected\n",
    "sigma = 1.\n",
    "delta = 1e-6\n",
    "max_epsilon = 20\n",
    "max_N = int(50)\n",
    "\n",
    "N, eps_list = get_iterations(delta, sigma, q, max_epsilon, max_N)"
   ]
  },
  {
   "cell_type": "code",
   "execution_count": 43,
   "metadata": {},
   "outputs": [
    {
     "name": "stdout",
     "output_type": "stream",
     "text": [
      "10 [0, 5.2215396311544175, 7.766237903487095, 9.848401082073611, 11.68862679916635, 13.37637916335795, 14.950586874415979, 16.438090423375677, 17.86144010371158, 19.22988164567188]\n"
     ]
    }
   ],
   "source": [
    "print(N, eps_list)"
   ]
  },
  {
   "cell_type": "markdown",
   "metadata": {},
   "source": [
    "## Declare and run the experiment\n",
    "\n",
    "- search nodes serving data for these `tags`, optionally filter on a list of node ID with `nodes`\n",
    "- run a round of local training on nodes with model defined in `model_path` + federation with `aggregator`\n",
    "- run for `round_limit` rounds, applying the `node_selection_strategy` between the rounds"
   ]
  },
  {
   "cell_type": "code",
   "execution_count": 16,
   "metadata": {
    "pycharm": {
     "name": "#%%\n"
    },
    "scrolled": true
   },
   "outputs": [
    {
     "name": "stderr",
     "output_type": "stream",
     "text": [
      "2022-04-01 14:42:38,503 fedbiomed INFO - Searching dataset with data tags: ['#MNIST', '#dataset'] for all nodes\n",
      "04/01/2022 14:42:38:INFO:Searching dataset with data tags: ['#MNIST', '#dataset'] for all nodes\n",
      "2022-04-01 14:42:38,514 fedbiomed INFO - log from: node_65e33263-8be2-42a8-b7ba-41b0cd90557d / DEBUG - Message received: {'researcher_id': 'researcher_8e4448ff-612c-4c3a-bb07-338c5e251a9b', 'tags': ['#MNIST', '#dataset'], 'command': 'search'}\n",
      "04/01/2022 14:42:38:INFO:log from: node_65e33263-8be2-42a8-b7ba-41b0cd90557d / DEBUG - Message received: {'researcher_id': 'researcher_8e4448ff-612c-4c3a-bb07-338c5e251a9b', 'tags': ['#MNIST', '#dataset'], 'command': 'search'}\n",
      "2022-04-01 14:42:48,516 fedbiomed INFO - Node selected for training -> node_65e33263-8be2-42a8-b7ba-41b0cd90557d\n",
      "04/01/2022 14:42:48:INFO:Node selected for training -> node_65e33263-8be2-42a8-b7ba-41b0cd90557d\n",
      "2022-04-01 14:42:48,529 fedbiomed DEBUG - Model file has been saved: /Users/mlorenzi/works/temp/fedbiomed/var/experiments/Experiment_0007/my_model_213386a4-dc56-44b6-873b-3c688a1e4081.py\n",
      "04/01/2022 14:42:48:DEBUG:Model file has been saved: /Users/mlorenzi/works/temp/fedbiomed/var/experiments/Experiment_0007/my_model_213386a4-dc56-44b6-873b-3c688a1e4081.py\n",
      "2022-04-01 14:42:48,595 fedbiomed DEBUG - upload (HTTP POST request) of file /Users/mlorenzi/works/temp/fedbiomed/var/experiments/Experiment_0007/my_model_213386a4-dc56-44b6-873b-3c688a1e4081.py successful, with status code 201\n",
      "04/01/2022 14:42:48:DEBUG:upload (HTTP POST request) of file /Users/mlorenzi/works/temp/fedbiomed/var/experiments/Experiment_0007/my_model_213386a4-dc56-44b6-873b-3c688a1e4081.py successful, with status code 201\n",
      "2022-04-01 14:42:49,123 fedbiomed DEBUG - upload (HTTP POST request) of file /Users/mlorenzi/works/temp/fedbiomed/var/experiments/Experiment_0007/aggregated_params_init_0551782d-1682-46b7-a656-ffb6b317e9ae.pt successful, with status code 201\n",
      "04/01/2022 14:42:49:DEBUG:upload (HTTP POST request) of file /Users/mlorenzi/works/temp/fedbiomed/var/experiments/Experiment_0007/aggregated_params_init_0551782d-1682-46b7-a656-ffb6b317e9ae.pt successful, with status code 201\n"
     ]
    }
   ],
   "source": [
    "from fedbiomed.researcher.experiment import Experiment\n",
    "from fedbiomed.researcher.aggregators.fedavg import FedAverage\n",
    "\n",
    "tags =  ['#MNIST', '#dataset']\n",
    "rounds = 2\n",
    "\n",
    "exp = Experiment(tags=tags,\n",
    "                 model_args=model_args,\n",
    "                 model_class=MyTrainingPlan,\n",
    "                 training_args=training_args,\n",
    "                 round_limit=rounds,\n",
    "                 aggregator=FedAverage(),\n",
    "                 node_selection_strategy=None)"
   ]
  },
  {
   "cell_type": "markdown",
   "metadata": {
    "pycharm": {
     "name": "#%% md\n"
    }
   },
   "source": [
    "Let's start the experiment.\n",
    "\n",
    "By default, this function doesn't stop until all the `round_limit` rounds are done for all the nodes"
   ]
  },
  {
   "cell_type": "code",
   "execution_count": 17,
   "metadata": {
    "pycharm": {
     "name": "#%%\n"
    },
    "scrolled": true
   },
   "outputs": [
    {
     "name": "stderr",
     "output_type": "stream",
     "text": [
      "2022-04-01 14:42:49,179 fedbiomed INFO - Sampled nodes in round 0 ['node_65e33263-8be2-42a8-b7ba-41b0cd90557d']\n",
      "04/01/2022 14:42:49:INFO:Sampled nodes in round 0 ['node_65e33263-8be2-42a8-b7ba-41b0cd90557d']\n",
      "2022-04-01 14:42:49,181 fedbiomed INFO - Send message to node node_65e33263-8be2-42a8-b7ba-41b0cd90557d - {'researcher_id': 'researcher_8e4448ff-612c-4c3a-bb07-338c5e251a9b', 'job_id': 'c18c371d-6c02-4982-9038-183fc3f0d4e1', 'training_args': {'test_ratio': 0.0, 'test_on_local_updates': False, 'test_on_global_updates': False, 'test_metric': None, 'test_metric_args': {}, 'batch_size': 48, 'lr': 0.001, 'epochs': 3, 'dry_run': False, 'batch_maxnum': 100, 'DP_args': {'type': 'local', 'sigma': 1.0, 'clip': 1.0}}, 'training': True, 'model_args': {}, 'command': 'train', 'model_url': 'http://localhost:8844/media/uploads/2022/04/01/my_model_213386a4-dc56-44b6-873b-3c688a1e4081.py', 'params_url': 'http://localhost:8844/media/uploads/2022/04/01/aggregated_params_init_0551782d-1682-46b7-a656-ffb6b317e9ae.pt', 'model_class': 'MyTrainingPlan', 'training_data': {'node_65e33263-8be2-42a8-b7ba-41b0cd90557d': ['dataset_2fe7d813-044f-4648-b5dd-1f539110deb2']}}\n",
      "04/01/2022 14:42:49:INFO:Send message to node node_65e33263-8be2-42a8-b7ba-41b0cd90557d - {'researcher_id': 'researcher_8e4448ff-612c-4c3a-bb07-338c5e251a9b', 'job_id': 'c18c371d-6c02-4982-9038-183fc3f0d4e1', 'training_args': {'test_ratio': 0.0, 'test_on_local_updates': False, 'test_on_global_updates': False, 'test_metric': None, 'test_metric_args': {}, 'batch_size': 48, 'lr': 0.001, 'epochs': 3, 'dry_run': False, 'batch_maxnum': 100, 'DP_args': {'type': 'local', 'sigma': 1.0, 'clip': 1.0}}, 'training': True, 'model_args': {}, 'command': 'train', 'model_url': 'http://localhost:8844/media/uploads/2022/04/01/my_model_213386a4-dc56-44b6-873b-3c688a1e4081.py', 'params_url': 'http://localhost:8844/media/uploads/2022/04/01/aggregated_params_init_0551782d-1682-46b7-a656-ffb6b317e9ae.pt', 'model_class': 'MyTrainingPlan', 'training_data': {'node_65e33263-8be2-42a8-b7ba-41b0cd90557d': ['dataset_2fe7d813-044f-4648-b5dd-1f539110deb2']}}\n",
      "2022-04-01 14:42:49,182 fedbiomed DEBUG - researcher_8e4448ff-612c-4c3a-bb07-338c5e251a9b\n",
      "04/01/2022 14:42:49:DEBUG:researcher_8e4448ff-612c-4c3a-bb07-338c5e251a9b\n",
      "2022-04-01 14:42:49,194 fedbiomed INFO - log from: node_65e33263-8be2-42a8-b7ba-41b0cd90557d / DEBUG - Message received: {'researcher_id': 'researcher_8e4448ff-612c-4c3a-bb07-338c5e251a9b', 'job_id': 'c18c371d-6c02-4982-9038-183fc3f0d4e1', 'training_args': {'test_ratio': 0.0, 'test_on_local_updates': False, 'test_on_global_updates': False, 'test_metric': None, 'test_metric_args': {}, 'batch_size': 48, 'lr': 0.001, 'epochs': 3, 'dry_run': False, 'batch_maxnum': 100, 'DP_args': {'type': 'local', 'sigma': 1.0, 'clip': 1.0}}, 'training': True, 'model_args': {}, 'command': 'train', 'model_url': 'http://localhost:8844/media/uploads/2022/04/01/my_model_213386a4-dc56-44b6-873b-3c688a1e4081.py', 'params_url': 'http://localhost:8844/media/uploads/2022/04/01/aggregated_params_init_0551782d-1682-46b7-a656-ffb6b317e9ae.pt', 'model_class': 'MyTrainingPlan', 'training_data': {'node_65e33263-8be2-42a8-b7ba-41b0cd90557d': ['dataset_2fe7d813-044f-4648-b5dd-1f539110deb2']}}\n",
      "04/01/2022 14:42:49:INFO:log from: node_65e33263-8be2-42a8-b7ba-41b0cd90557d / DEBUG - Message received: {'researcher_id': 'researcher_8e4448ff-612c-4c3a-bb07-338c5e251a9b', 'job_id': 'c18c371d-6c02-4982-9038-183fc3f0d4e1', 'training_args': {'test_ratio': 0.0, 'test_on_local_updates': False, 'test_on_global_updates': False, 'test_metric': None, 'test_metric_args': {}, 'batch_size': 48, 'lr': 0.001, 'epochs': 3, 'dry_run': False, 'batch_maxnum': 100, 'DP_args': {'type': 'local', 'sigma': 1.0, 'clip': 1.0}}, 'training': True, 'model_args': {}, 'command': 'train', 'model_url': 'http://localhost:8844/media/uploads/2022/04/01/my_model_213386a4-dc56-44b6-873b-3c688a1e4081.py', 'params_url': 'http://localhost:8844/media/uploads/2022/04/01/aggregated_params_init_0551782d-1682-46b7-a656-ffb6b317e9ae.pt', 'model_class': 'MyTrainingPlan', 'training_data': {'node_65e33263-8be2-42a8-b7ba-41b0cd90557d': ['dataset_2fe7d813-044f-4648-b5dd-1f539110deb2']}}\n",
      "2022-04-01 14:42:49,196 fedbiomed INFO - log from: node_65e33263-8be2-42a8-b7ba-41b0cd90557d / DEBUG - [TASKS QUEUE] Item:{'researcher_id': 'researcher_8e4448ff-612c-4c3a-bb07-338c5e251a9b', 'job_id': 'c18c371d-6c02-4982-9038-183fc3f0d4e1', 'params_url': 'http://localhost:8844/media/uploads/2022/04/01/aggregated_params_init_0551782d-1682-46b7-a656-ffb6b317e9ae.pt', 'training_args': {'test_ratio': 0.0, 'test_on_local_updates': False, 'test_on_global_updates': False, 'test_metric': None, 'test_metric_args': {}, 'batch_size': 48, 'lr': 0.001, 'epochs': 3, 'dry_run': False, 'batch_maxnum': 100, 'DP_args': {'type': 'local', 'sigma': 1.0, 'clip': 1.0}}, 'training_data': {'node_65e33263-8be2-42a8-b7ba-41b0cd90557d': ['dataset_2fe7d813-044f-4648-b5dd-1f539110deb2']}, 'training': True, 'model_args': {}, 'model_url': 'http://localhost:8844/media/uploads/2022/04/01/my_model_213386a4-dc56-44b6-873b-3c688a1e4081.py', 'model_class': 'MyTrainingPlan', 'command': 'train'}\n",
      "04/01/2022 14:42:49:INFO:log from: node_65e33263-8be2-42a8-b7ba-41b0cd90557d / DEBUG - [TASKS QUEUE] Item:{'researcher_id': 'researcher_8e4448ff-612c-4c3a-bb07-338c5e251a9b', 'job_id': 'c18c371d-6c02-4982-9038-183fc3f0d4e1', 'params_url': 'http://localhost:8844/media/uploads/2022/04/01/aggregated_params_init_0551782d-1682-46b7-a656-ffb6b317e9ae.pt', 'training_args': {'test_ratio': 0.0, 'test_on_local_updates': False, 'test_on_global_updates': False, 'test_metric': None, 'test_metric_args': {}, 'batch_size': 48, 'lr': 0.001, 'epochs': 3, 'dry_run': False, 'batch_maxnum': 100, 'DP_args': {'type': 'local', 'sigma': 1.0, 'clip': 1.0}}, 'training_data': {'node_65e33263-8be2-42a8-b7ba-41b0cd90557d': ['dataset_2fe7d813-044f-4648-b5dd-1f539110deb2']}, 'training': True, 'model_args': {}, 'model_url': 'http://localhost:8844/media/uploads/2022/04/01/my_model_213386a4-dc56-44b6-873b-3c688a1e4081.py', 'model_class': 'MyTrainingPlan', 'command': 'train'}\n",
      "2022-04-01 14:42:49,214 fedbiomed INFO - log from: node_65e33263-8be2-42a8-b7ba-41b0cd90557d / DEBUG - upload (HTTP GET request) of file my_model_1bae8005cc8e44e89a81104564766fee.py successful, with status code 200\n",
      "04/01/2022 14:42:49:INFO:log from: node_65e33263-8be2-42a8-b7ba-41b0cd90557d / DEBUG - upload (HTTP GET request) of file my_model_1bae8005cc8e44e89a81104564766fee.py successful, with status code 200\n",
      "2022-04-01 14:42:49,388 fedbiomed INFO - log from: node_65e33263-8be2-42a8-b7ba-41b0cd90557d / DEBUG - upload (HTTP GET request) of file my_model_48566350-871b-4f7e-b9d8-a35abb72fb53.pt successful, with status code 200\n",
      "04/01/2022 14:42:49:INFO:log from: node_65e33263-8be2-42a8-b7ba-41b0cd90557d / DEBUG - upload (HTTP GET request) of file my_model_48566350-871b-4f7e-b9d8-a35abb72fb53.pt successful, with status code 200\n",
      "2022-04-01 14:42:49,409 fedbiomed INFO - log from: node_65e33263-8be2-42a8-b7ba-41b0cd90557d / DEBUG - Dataset path has been set as/Users/mlorenzi/works/temp/MNIST\n",
      "04/01/2022 14:42:49:INFO:log from: node_65e33263-8be2-42a8-b7ba-41b0cd90557d / DEBUG - Dataset path has been set as/Users/mlorenzi/works/temp/MNIST\n",
      "2022-04-01 14:42:49,429 fedbiomed INFO - log from: node_65e33263-8be2-42a8-b7ba-41b0cd90557d / INFO - training with arguments {'history_monitor': <fedbiomed.node.history_monitor.HistoryMonitor object at 0x142858700>, 'node_args': {'gpu': False, 'gpu_num': None, 'gpu_only': False}, 'test_ratio': 0.0, 'test_on_local_updates': False, 'test_on_global_updates': False, 'test_metric': None, 'test_metric_args': {}, 'batch_size': 48, 'lr': 0.001, 'epochs': 3, 'dry_run': False, 'batch_maxnum': 100, 'DP_args': {'type': 'local', 'sigma': 1.0, 'clip': 1.0}}\n",
      "04/01/2022 14:42:49:INFO:log from: node_65e33263-8be2-42a8-b7ba-41b0cd90557d / INFO - training with arguments {'history_monitor': <fedbiomed.node.history_monitor.HistoryMonitor object at 0x142858700>, 'node_args': {'gpu': False, 'gpu_num': None, 'gpu_only': False}, 'test_ratio': 0.0, 'test_on_local_updates': False, 'test_on_global_updates': False, 'test_metric': None, 'test_metric_args': {}, 'batch_size': 48, 'lr': 0.001, 'epochs': 3, 'dry_run': False, 'batch_maxnum': 100, 'DP_args': {'type': 'local', 'sigma': 1.0, 'clip': 1.0}}\n"
     ]
    },
    {
     "name": "stderr",
     "output_type": "stream",
     "text": [
      "2022-04-01 14:42:49,431 fedbiomed INFO - log from: node_65e33263-8be2-42a8-b7ba-41b0cd90557d / DEBUG - Using device cpu for training (cuda_available=False, gpu=False, gpu_only=False, use_gpu=False, gpu_num=None)\n",
      "04/01/2022 14:42:49:INFO:log from: node_65e33263-8be2-42a8-b7ba-41b0cd90557d / DEBUG - Using device cpu for training (cuda_available=False, gpu=False, gpu_only=False, use_gpu=False, gpu_num=None)\n",
      "2022-04-01 14:42:49,811 fedbiomed INFO - log from: node_65e33263-8be2-42a8-b7ba-41b0cd90557d / INFO - Train Epoch: 1 [0/60000 (0%)]\tLoss: 2.339324\n",
      "04/01/2022 14:42:49:INFO:log from: node_65e33263-8be2-42a8-b7ba-41b0cd90557d / INFO - Train Epoch: 1 [0/60000 (0%)]\tLoss: 2.339324\n",
      "2022-04-01 14:42:54,244 fedbiomed INFO - log from: node_65e33263-8be2-42a8-b7ba-41b0cd90557d / INFO - Train Epoch: 1 [430/60000 (1%)]\tLoss: 2.298193\n",
      "04/01/2022 14:42:54:INFO:log from: node_65e33263-8be2-42a8-b7ba-41b0cd90557d / INFO - Train Epoch: 1 [430/60000 (1%)]\tLoss: 2.298193\n",
      "2022-04-01 14:42:59,108 fedbiomed INFO - log from: node_65e33263-8be2-42a8-b7ba-41b0cd90557d / INFO - Train Epoch: 1 [1080/60000 (2%)]\tLoss: 2.246236\n",
      "04/01/2022 14:42:59:INFO:log from: node_65e33263-8be2-42a8-b7ba-41b0cd90557d / INFO - Train Epoch: 1 [1080/60000 (2%)]\tLoss: 2.246236\n",
      "2022-04-01 14:43:03,329 fedbiomed INFO - log from: node_65e33263-8be2-42a8-b7ba-41b0cd90557d / INFO - Train Epoch: 1 [1230/60000 (2%)]\tLoss: 2.252598\n",
      "04/01/2022 14:43:03:INFO:log from: node_65e33263-8be2-42a8-b7ba-41b0cd90557d / INFO - Train Epoch: 1 [1230/60000 (2%)]\tLoss: 2.252598\n",
      "2022-04-01 14:43:07,588 fedbiomed INFO - log from: node_65e33263-8be2-42a8-b7ba-41b0cd90557d / INFO - Train Epoch: 1 [2280/60000 (3%)]\tLoss: 2.212608\n",
      "04/01/2022 14:43:07:INFO:log from: node_65e33263-8be2-42a8-b7ba-41b0cd90557d / INFO - Train Epoch: 1 [2280/60000 (3%)]\tLoss: 2.212608\n",
      "2022-04-01 14:43:11,310 fedbiomed INFO - log from: node_65e33263-8be2-42a8-b7ba-41b0cd90557d / INFO - Train Epoch: 1 [2450/60000 (4%)]\tLoss: 2.180339\n",
      "04/01/2022 14:43:11:INFO:log from: node_65e33263-8be2-42a8-b7ba-41b0cd90557d / INFO - Train Epoch: 1 [2450/60000 (4%)]\tLoss: 2.180339\n",
      "2022-04-01 14:43:15,674 fedbiomed INFO - log from: node_65e33263-8be2-42a8-b7ba-41b0cd90557d / INFO - Train Epoch: 1 [3660/60000 (5%)]\tLoss: 2.138931\n",
      "04/01/2022 14:43:15:INFO:log from: node_65e33263-8be2-42a8-b7ba-41b0cd90557d / INFO - Train Epoch: 1 [3660/60000 (5%)]\tLoss: 2.138931\n",
      "2022-04-01 14:43:19,187 fedbiomed INFO - log from: node_65e33263-8be2-42a8-b7ba-41b0cd90557d / INFO - Train Epoch: 1 [2730/60000 (6%)]\tLoss: 2.126996\n",
      "04/01/2022 14:43:19:INFO:log from: node_65e33263-8be2-42a8-b7ba-41b0cd90557d / INFO - Train Epoch: 1 [2730/60000 (6%)]\tLoss: 2.126996\n",
      "2022-04-01 14:43:22,634 fedbiomed INFO - log from: node_65e33263-8be2-42a8-b7ba-41b0cd90557d / INFO - Train Epoch: 1 [3680/60000 (6%)]\tLoss: 2.183187\n",
      "04/01/2022 14:43:22:INFO:log from: node_65e33263-8be2-42a8-b7ba-41b0cd90557d / INFO - Train Epoch: 1 [3680/60000 (6%)]\tLoss: 2.183187\n",
      "2022-04-01 14:43:26,272 fedbiomed INFO - log from: node_65e33263-8be2-42a8-b7ba-41b0cd90557d / INFO - Train Epoch: 1 [3330/60000 (7%)]\tLoss: 2.041314\n",
      "04/01/2022 14:43:26:INFO:log from: node_65e33263-8be2-42a8-b7ba-41b0cd90557d / INFO - Train Epoch: 1 [3330/60000 (7%)]\tLoss: 2.041314\n",
      "2022-04-01 14:43:29,974 fedbiomed INFO - log from: node_65e33263-8be2-42a8-b7ba-41b0cd90557d / DEBUG - Reached 100 batches for this epoch, ignore remaining data\n",
      "04/01/2022 14:43:29:INFO:log from: node_65e33263-8be2-42a8-b7ba-41b0cd90557d / DEBUG - Reached 100 batches for this epoch, ignore remaining data\n",
      "2022-04-01 14:43:30,338 fedbiomed INFO - log from: node_65e33263-8be2-42a8-b7ba-41b0cd90557d / INFO - Train Epoch: 2 [0/60000 (0%)]\tLoss: 2.057985\n",
      "04/01/2022 14:43:30:INFO:log from: node_65e33263-8be2-42a8-b7ba-41b0cd90557d / INFO - Train Epoch: 2 [0/60000 (0%)]\tLoss: 2.057985\n",
      "2022-04-01 14:43:33,985 fedbiomed INFO - log from: node_65e33263-8be2-42a8-b7ba-41b0cd90557d / INFO - Train Epoch: 2 [580/60000 (1%)]\tLoss: 2.033130\n",
      "04/01/2022 14:43:33:INFO:log from: node_65e33263-8be2-42a8-b7ba-41b0cd90557d / INFO - Train Epoch: 2 [580/60000 (1%)]\tLoss: 2.033130\n",
      "2022-04-01 14:43:37,513 fedbiomed INFO - log from: node_65e33263-8be2-42a8-b7ba-41b0cd90557d / INFO - Train Epoch: 2 [1020/60000 (2%)]\tLoss: 1.975988\n",
      "04/01/2022 14:43:37:INFO:log from: node_65e33263-8be2-42a8-b7ba-41b0cd90557d / INFO - Train Epoch: 2 [1020/60000 (2%)]\tLoss: 1.975988\n",
      "2022-04-01 14:43:41,268 fedbiomed INFO - log from: node_65e33263-8be2-42a8-b7ba-41b0cd90557d / INFO - Train Epoch: 2 [1560/60000 (2%)]\tLoss: 2.010644\n",
      "04/01/2022 14:43:41:INFO:log from: node_65e33263-8be2-42a8-b7ba-41b0cd90557d / INFO - Train Epoch: 2 [1560/60000 (2%)]\tLoss: 2.010644\n",
      "2022-04-01 14:43:45,193 fedbiomed INFO - log from: node_65e33263-8be2-42a8-b7ba-41b0cd90557d / INFO - Train Epoch: 2 [2400/60000 (3%)]\tLoss: 1.844500\n",
      "04/01/2022 14:43:45:INFO:log from: node_65e33263-8be2-42a8-b7ba-41b0cd90557d / INFO - Train Epoch: 2 [2400/60000 (3%)]\tLoss: 1.844500\n",
      "2022-04-01 14:43:49,108 fedbiomed INFO - log from: node_65e33263-8be2-42a8-b7ba-41b0cd90557d / INFO - Train Epoch: 2 [2350/60000 (4%)]\tLoss: 1.865206\n",
      "04/01/2022 14:43:49:INFO:log from: node_65e33263-8be2-42a8-b7ba-41b0cd90557d / INFO - Train Epoch: 2 [2350/60000 (4%)]\tLoss: 1.865206\n",
      "2022-04-01 14:43:53,264 fedbiomed INFO - log from: node_65e33263-8be2-42a8-b7ba-41b0cd90557d / INFO - Train Epoch: 2 [3180/60000 (5%)]\tLoss: 1.620736\n",
      "04/01/2022 14:43:53:INFO:log from: node_65e33263-8be2-42a8-b7ba-41b0cd90557d / INFO - Train Epoch: 2 [3180/60000 (5%)]\tLoss: 1.620736\n",
      "2022-04-01 14:43:56,891 fedbiomed INFO - log from: node_65e33263-8be2-42a8-b7ba-41b0cd90557d / INFO - Train Epoch: 2 [2450/60000 (6%)]\tLoss: 1.807394\n",
      "04/01/2022 14:43:56:INFO:log from: node_65e33263-8be2-42a8-b7ba-41b0cd90557d / INFO - Train Epoch: 2 [2450/60000 (6%)]\tLoss: 1.807394\n",
      "2022-04-01 14:44:00,869 fedbiomed INFO - log from: node_65e33263-8be2-42a8-b7ba-41b0cd90557d / INFO - Train Epoch: 2 [6000/60000 (6%)]\tLoss: 1.700732\n",
      "04/01/2022 14:44:00:INFO:log from: node_65e33263-8be2-42a8-b7ba-41b0cd90557d / INFO - Train Epoch: 2 [6000/60000 (6%)]\tLoss: 1.700732\n",
      "2022-04-01 14:44:04,574 fedbiomed INFO - log from: node_65e33263-8be2-42a8-b7ba-41b0cd90557d / INFO - Train Epoch: 2 [4320/60000 (7%)]\tLoss: 1.790678\n",
      "04/01/2022 14:44:04:INFO:log from: node_65e33263-8be2-42a8-b7ba-41b0cd90557d / INFO - Train Epoch: 2 [4320/60000 (7%)]\tLoss: 1.790678\n",
      "2022-04-01 14:44:08,220 fedbiomed INFO - log from: node_65e33263-8be2-42a8-b7ba-41b0cd90557d / DEBUG - Reached 100 batches for this epoch, ignore remaining data\n",
      "04/01/2022 14:44:08:INFO:log from: node_65e33263-8be2-42a8-b7ba-41b0cd90557d / DEBUG - Reached 100 batches for this epoch, ignore remaining data\n",
      "2022-04-01 14:44:08,610 fedbiomed INFO - log from: node_65e33263-8be2-42a8-b7ba-41b0cd90557d / INFO - Train Epoch: 3 [0/60000 (0%)]\tLoss: 1.634308\n",
      "04/01/2022 14:44:08:INFO:log from: node_65e33263-8be2-42a8-b7ba-41b0cd90557d / INFO - Train Epoch: 3 [0/60000 (0%)]\tLoss: 1.634308\n",
      "2022-04-01 14:44:12,366 fedbiomed INFO - log from: node_65e33263-8be2-42a8-b7ba-41b0cd90557d / INFO - Train Epoch: 3 [540/60000 (1%)]\tLoss: 1.643565\n",
      "04/01/2022 14:44:12:INFO:log from: node_65e33263-8be2-42a8-b7ba-41b0cd90557d / INFO - Train Epoch: 3 [540/60000 (1%)]\tLoss: 1.643565\n",
      "2022-04-01 14:44:16,095 fedbiomed INFO - log from: node_65e33263-8be2-42a8-b7ba-41b0cd90557d / INFO - Train Epoch: 3 [860/60000 (2%)]\tLoss: 1.442932\n",
      "04/01/2022 14:44:16:INFO:log from: node_65e33263-8be2-42a8-b7ba-41b0cd90557d / INFO - Train Epoch: 3 [860/60000 (2%)]\tLoss: 1.442932\n",
      "2022-04-01 14:44:19,773 fedbiomed INFO - log from: node_65e33263-8be2-42a8-b7ba-41b0cd90557d / INFO - Train Epoch: 3 [1500/60000 (2%)]\tLoss: 1.628973\n",
      "04/01/2022 14:44:19:INFO:log from: node_65e33263-8be2-42a8-b7ba-41b0cd90557d / INFO - Train Epoch: 3 [1500/60000 (2%)]\tLoss: 1.628973\n",
      "2022-04-01 14:44:23,342 fedbiomed INFO - log from: node_65e33263-8be2-42a8-b7ba-41b0cd90557d / INFO - Train Epoch: 3 [1840/60000 (3%)]\tLoss: 1.653689\n",
      "04/01/2022 14:44:23:INFO:log from: node_65e33263-8be2-42a8-b7ba-41b0cd90557d / INFO - Train Epoch: 3 [1840/60000 (3%)]\tLoss: 1.653689\n",
      "2022-04-01 14:44:26,945 fedbiomed INFO - log from: node_65e33263-8be2-42a8-b7ba-41b0cd90557d / INFO - Train Epoch: 3 [2550/60000 (4%)]\tLoss: 1.305423\n"
     ]
    },
    {
     "name": "stderr",
     "output_type": "stream",
     "text": [
      "04/01/2022 14:44:26:INFO:log from: node_65e33263-8be2-42a8-b7ba-41b0cd90557d / INFO - Train Epoch: 3 [2550/60000 (4%)]\tLoss: 1.305423\n",
      "2022-04-01 14:44:30,698 fedbiomed INFO - log from: node_65e33263-8be2-42a8-b7ba-41b0cd90557d / INFO - Train Epoch: 3 [2940/60000 (5%)]\tLoss: 1.584770\n",
      "04/01/2022 14:44:30:INFO:log from: node_65e33263-8be2-42a8-b7ba-41b0cd90557d / INFO - Train Epoch: 3 [2940/60000 (5%)]\tLoss: 1.584770\n",
      "2022-04-01 14:44:34,346 fedbiomed INFO - log from: node_65e33263-8be2-42a8-b7ba-41b0cd90557d / INFO - Train Epoch: 3 [3850/60000 (6%)]\tLoss: 1.404939\n",
      "04/01/2022 14:44:34:INFO:log from: node_65e33263-8be2-42a8-b7ba-41b0cd90557d / INFO - Train Epoch: 3 [3850/60000 (6%)]\tLoss: 1.404939\n",
      "2022-04-01 14:44:38,117 fedbiomed INFO - log from: node_65e33263-8be2-42a8-b7ba-41b0cd90557d / INFO - Train Epoch: 3 [3920/60000 (6%)]\tLoss: 1.414484\n",
      "04/01/2022 14:44:38:INFO:log from: node_65e33263-8be2-42a8-b7ba-41b0cd90557d / INFO - Train Epoch: 3 [3920/60000 (6%)]\tLoss: 1.414484\n",
      "2022-04-01 14:44:41,606 fedbiomed INFO - log from: node_65e33263-8be2-42a8-b7ba-41b0cd90557d / INFO - Train Epoch: 3 [4230/60000 (7%)]\tLoss: 1.432253\n",
      "04/01/2022 14:44:41:INFO:log from: node_65e33263-8be2-42a8-b7ba-41b0cd90557d / INFO - Train Epoch: 3 [4230/60000 (7%)]\tLoss: 1.432253\n",
      "2022-04-01 14:44:45,246 fedbiomed INFO - log from: node_65e33263-8be2-42a8-b7ba-41b0cd90557d / DEBUG - Reached 100 batches for this epoch, ignore remaining data\n",
      "04/01/2022 14:44:45:INFO:log from: node_65e33263-8be2-42a8-b7ba-41b0cd90557d / DEBUG - Reached 100 batches for this epoch, ignore remaining data\n",
      "2022-04-01 14:44:45,247 fedbiomed INFO - log from: node_65e33263-8be2-42a8-b7ba-41b0cd90557d / DEBUG - running model.postprocess() method\n",
      "04/01/2022 14:44:45:INFO:log from: node_65e33263-8be2-42a8-b7ba-41b0cd90557d / DEBUG - running model.postprocess() method\n",
      "2022-04-01 14:44:45,249 fedbiomed INFO - log from: node_65e33263-8be2-42a8-b7ba-41b0cd90557d / DEBUG - model.postprocess() method not provided\n",
      "04/01/2022 14:44:45:INFO:log from: node_65e33263-8be2-42a8-b7ba-41b0cd90557d / DEBUG - model.postprocess() method not provided\n",
      "2022-04-01 14:44:45,656 fedbiomed INFO - log from: node_65e33263-8be2-42a8-b7ba-41b0cd90557d / DEBUG - upload (HTTP POST request) of file /Users/mlorenzi/works/temp/fedbiomed/var/tmp/node_params_4e4770ac-ce3d-4754-bcfb-11a80dc5d97d.pt successful, with status code 201\n",
      "04/01/2022 14:44:45:INFO:log from: node_65e33263-8be2-42a8-b7ba-41b0cd90557d / DEBUG - upload (HTTP POST request) of file /Users/mlorenzi/works/temp/fedbiomed/var/tmp/node_params_4e4770ac-ce3d-4754-bcfb-11a80dc5d97d.pt successful, with status code 201\n",
      "2022-04-01 14:44:45,658 fedbiomed INFO - log from: node_65e33263-8be2-42a8-b7ba-41b0cd90557d / INFO - results uploaded successfully \n",
      "04/01/2022 14:44:45:INFO:log from: node_65e33263-8be2-42a8-b7ba-41b0cd90557d / INFO - results uploaded successfully \n",
      "2022-04-01 14:44:54,259 fedbiomed INFO - Downloading model params after training on node_65e33263-8be2-42a8-b7ba-41b0cd90557d - from http://localhost:8844/media/uploads/2022/04/01/node_params_4e4770ac-ce3d-4754-bcfb-11a80dc5d97d.pt\n",
      "04/01/2022 14:44:54:INFO:Downloading model params after training on node_65e33263-8be2-42a8-b7ba-41b0cd90557d - from http://localhost:8844/media/uploads/2022/04/01/node_params_4e4770ac-ce3d-4754-bcfb-11a80dc5d97d.pt\n",
      "2022-04-01 14:44:54,403 fedbiomed DEBUG - upload (HTTP GET request) of file node_params_8a42346e-0678-4930-8eee-4c526ce72856.pt successful, with status code 200\n",
      "04/01/2022 14:44:54:DEBUG:upload (HTTP GET request) of file node_params_8a42346e-0678-4930-8eee-4c526ce72856.pt successful, with status code 200\n",
      "2022-04-01 14:44:54,416 fedbiomed INFO - Nodes that successfully reply in round 0 ['node_65e33263-8be2-42a8-b7ba-41b0cd90557d']\n",
      "04/01/2022 14:44:54:INFO:Nodes that successfully reply in round 0 ['node_65e33263-8be2-42a8-b7ba-41b0cd90557d']\n",
      "2022-04-01 14:44:54,827 fedbiomed DEBUG - upload (HTTP POST request) of file /Users/mlorenzi/works/temp/fedbiomed/var/experiments/Experiment_0007/aggregated_params_96436496-26a9-4ecb-8d68-e50833ede6fe.pt successful, with status code 201\n",
      "04/01/2022 14:44:54:DEBUG:upload (HTTP POST request) of file /Users/mlorenzi/works/temp/fedbiomed/var/experiments/Experiment_0007/aggregated_params_96436496-26a9-4ecb-8d68-e50833ede6fe.pt successful, with status code 201\n",
      "2022-04-01 14:44:54,829 fedbiomed INFO - Saved aggregated params for round 0 in /Users/mlorenzi/works/temp/fedbiomed/var/experiments/Experiment_0007/aggregated_params_96436496-26a9-4ecb-8d68-e50833ede6fe.pt\n",
      "04/01/2022 14:44:54:INFO:Saved aggregated params for round 0 in /Users/mlorenzi/works/temp/fedbiomed/var/experiments/Experiment_0007/aggregated_params_96436496-26a9-4ecb-8d68-e50833ede6fe.pt\n",
      "2022-04-01 14:44:54,832 fedbiomed INFO - Sampled nodes in round 1 ['node_65e33263-8be2-42a8-b7ba-41b0cd90557d']\n",
      "04/01/2022 14:44:54:INFO:Sampled nodes in round 1 ['node_65e33263-8be2-42a8-b7ba-41b0cd90557d']\n",
      "2022-04-01 14:44:54,834 fedbiomed INFO - Send message to node node_65e33263-8be2-42a8-b7ba-41b0cd90557d - {'researcher_id': 'researcher_8e4448ff-612c-4c3a-bb07-338c5e251a9b', 'job_id': 'c18c371d-6c02-4982-9038-183fc3f0d4e1', 'training_args': {'test_ratio': 0.0, 'test_on_local_updates': False, 'test_on_global_updates': False, 'test_metric': None, 'test_metric_args': {}, 'batch_size': 48, 'lr': 0.001, 'epochs': 3, 'dry_run': False, 'batch_maxnum': 100, 'DP_args': {'type': 'local', 'sigma': 1.0, 'clip': 1.0}}, 'training': True, 'model_args': {}, 'command': 'train', 'model_url': 'http://localhost:8844/media/uploads/2022/04/01/my_model_213386a4-dc56-44b6-873b-3c688a1e4081.py', 'params_url': 'http://localhost:8844/media/uploads/2022/04/01/aggregated_params_96436496-26a9-4ecb-8d68-e50833ede6fe.pt', 'model_class': 'MyTrainingPlan', 'training_data': {'node_65e33263-8be2-42a8-b7ba-41b0cd90557d': ['dataset_2fe7d813-044f-4648-b5dd-1f539110deb2']}}\n",
      "04/01/2022 14:44:54:INFO:Send message to node node_65e33263-8be2-42a8-b7ba-41b0cd90557d - {'researcher_id': 'researcher_8e4448ff-612c-4c3a-bb07-338c5e251a9b', 'job_id': 'c18c371d-6c02-4982-9038-183fc3f0d4e1', 'training_args': {'test_ratio': 0.0, 'test_on_local_updates': False, 'test_on_global_updates': False, 'test_metric': None, 'test_metric_args': {}, 'batch_size': 48, 'lr': 0.001, 'epochs': 3, 'dry_run': False, 'batch_maxnum': 100, 'DP_args': {'type': 'local', 'sigma': 1.0, 'clip': 1.0}}, 'training': True, 'model_args': {}, 'command': 'train', 'model_url': 'http://localhost:8844/media/uploads/2022/04/01/my_model_213386a4-dc56-44b6-873b-3c688a1e4081.py', 'params_url': 'http://localhost:8844/media/uploads/2022/04/01/aggregated_params_96436496-26a9-4ecb-8d68-e50833ede6fe.pt', 'model_class': 'MyTrainingPlan', 'training_data': {'node_65e33263-8be2-42a8-b7ba-41b0cd90557d': ['dataset_2fe7d813-044f-4648-b5dd-1f539110deb2']}}\n",
      "2022-04-01 14:44:54,838 fedbiomed DEBUG - researcher_8e4448ff-612c-4c3a-bb07-338c5e251a9b\n",
      "04/01/2022 14:44:54:DEBUG:researcher_8e4448ff-612c-4c3a-bb07-338c5e251a9b\n",
      "2022-04-01 14:44:54,849 fedbiomed INFO - log from: node_65e33263-8be2-42a8-b7ba-41b0cd90557d / DEBUG - Message received: {'researcher_id': 'researcher_8e4448ff-612c-4c3a-bb07-338c5e251a9b', 'job_id': 'c18c371d-6c02-4982-9038-183fc3f0d4e1', 'training_args': {'test_ratio': 0.0, 'test_on_local_updates': False, 'test_on_global_updates': False, 'test_metric': None, 'test_metric_args': {}, 'batch_size': 48, 'lr': 0.001, 'epochs': 3, 'dry_run': False, 'batch_maxnum': 100, 'DP_args': {'type': 'local', 'sigma': 1.0, 'clip': 1.0}}, 'training': True, 'model_args': {}, 'command': 'train', 'model_url': 'http://localhost:8844/media/uploads/2022/04/01/my_model_213386a4-dc56-44b6-873b-3c688a1e4081.py', 'params_url': 'http://localhost:8844/media/uploads/2022/04/01/aggregated_params_96436496-26a9-4ecb-8d68-e50833ede6fe.pt', 'model_class': 'MyTrainingPlan', 'training_data': {'node_65e33263-8be2-42a8-b7ba-41b0cd90557d': ['dataset_2fe7d813-044f-4648-b5dd-1f539110deb2']}}\n",
      "04/01/2022 14:44:54:INFO:log from: node_65e33263-8be2-42a8-b7ba-41b0cd90557d / DEBUG - Message received: {'researcher_id': 'researcher_8e4448ff-612c-4c3a-bb07-338c5e251a9b', 'job_id': 'c18c371d-6c02-4982-9038-183fc3f0d4e1', 'training_args': {'test_ratio': 0.0, 'test_on_local_updates': False, 'test_on_global_updates': False, 'test_metric': None, 'test_metric_args': {}, 'batch_size': 48, 'lr': 0.001, 'epochs': 3, 'dry_run': False, 'batch_maxnum': 100, 'DP_args': {'type': 'local', 'sigma': 1.0, 'clip': 1.0}}, 'training': True, 'model_args': {}, 'command': 'train', 'model_url': 'http://localhost:8844/media/uploads/2022/04/01/my_model_213386a4-dc56-44b6-873b-3c688a1e4081.py', 'params_url': 'http://localhost:8844/media/uploads/2022/04/01/aggregated_params_96436496-26a9-4ecb-8d68-e50833ede6fe.pt', 'model_class': 'MyTrainingPlan', 'training_data': {'node_65e33263-8be2-42a8-b7ba-41b0cd90557d': ['dataset_2fe7d813-044f-4648-b5dd-1f539110deb2']}}\n"
     ]
    },
    {
     "name": "stderr",
     "output_type": "stream",
     "text": [
      "2022-04-01 14:44:54,853 fedbiomed INFO - log from: node_65e33263-8be2-42a8-b7ba-41b0cd90557d / DEBUG - [TASKS QUEUE] Item:{'researcher_id': 'researcher_8e4448ff-612c-4c3a-bb07-338c5e251a9b', 'job_id': 'c18c371d-6c02-4982-9038-183fc3f0d4e1', 'params_url': 'http://localhost:8844/media/uploads/2022/04/01/aggregated_params_96436496-26a9-4ecb-8d68-e50833ede6fe.pt', 'training_args': {'test_ratio': 0.0, 'test_on_local_updates': False, 'test_on_global_updates': False, 'test_metric': None, 'test_metric_args': {}, 'batch_size': 48, 'lr': 0.001, 'epochs': 3, 'dry_run': False, 'batch_maxnum': 100, 'DP_args': {'type': 'local', 'sigma': 1.0, 'clip': 1.0}}, 'training_data': {'node_65e33263-8be2-42a8-b7ba-41b0cd90557d': ['dataset_2fe7d813-044f-4648-b5dd-1f539110deb2']}, 'training': True, 'model_args': {}, 'model_url': 'http://localhost:8844/media/uploads/2022/04/01/my_model_213386a4-dc56-44b6-873b-3c688a1e4081.py', 'model_class': 'MyTrainingPlan', 'command': 'train'}\n",
      "04/01/2022 14:44:54:INFO:log from: node_65e33263-8be2-42a8-b7ba-41b0cd90557d / DEBUG - [TASKS QUEUE] Item:{'researcher_id': 'researcher_8e4448ff-612c-4c3a-bb07-338c5e251a9b', 'job_id': 'c18c371d-6c02-4982-9038-183fc3f0d4e1', 'params_url': 'http://localhost:8844/media/uploads/2022/04/01/aggregated_params_96436496-26a9-4ecb-8d68-e50833ede6fe.pt', 'training_args': {'test_ratio': 0.0, 'test_on_local_updates': False, 'test_on_global_updates': False, 'test_metric': None, 'test_metric_args': {}, 'batch_size': 48, 'lr': 0.001, 'epochs': 3, 'dry_run': False, 'batch_maxnum': 100, 'DP_args': {'type': 'local', 'sigma': 1.0, 'clip': 1.0}}, 'training_data': {'node_65e33263-8be2-42a8-b7ba-41b0cd90557d': ['dataset_2fe7d813-044f-4648-b5dd-1f539110deb2']}, 'training': True, 'model_args': {}, 'model_url': 'http://localhost:8844/media/uploads/2022/04/01/my_model_213386a4-dc56-44b6-873b-3c688a1e4081.py', 'model_class': 'MyTrainingPlan', 'command': 'train'}\n",
      "2022-04-01 14:44:54,877 fedbiomed INFO - log from: node_65e33263-8be2-42a8-b7ba-41b0cd90557d / DEBUG - upload (HTTP GET request) of file my_model_07bc833142904109afbe10acaa373f1b.py successful, with status code 200\n",
      "04/01/2022 14:44:54:INFO:log from: node_65e33263-8be2-42a8-b7ba-41b0cd90557d / DEBUG - upload (HTTP GET request) of file my_model_07bc833142904109afbe10acaa373f1b.py successful, with status code 200\n",
      "2022-04-01 14:44:55,026 fedbiomed INFO - log from: node_65e33263-8be2-42a8-b7ba-41b0cd90557d / DEBUG - upload (HTTP GET request) of file my_model_a21d974f-777a-4d73-9f31-1a7c552be9b3.pt successful, with status code 200\n",
      "04/01/2022 14:44:55:INFO:log from: node_65e33263-8be2-42a8-b7ba-41b0cd90557d / DEBUG - upload (HTTP GET request) of file my_model_a21d974f-777a-4d73-9f31-1a7c552be9b3.pt successful, with status code 200\n",
      "2022-04-01 14:44:55,045 fedbiomed INFO - log from: node_65e33263-8be2-42a8-b7ba-41b0cd90557d / DEBUG - Dataset path has been set as/Users/mlorenzi/works/temp/MNIST\n",
      "04/01/2022 14:44:55:INFO:log from: node_65e33263-8be2-42a8-b7ba-41b0cd90557d / DEBUG - Dataset path has been set as/Users/mlorenzi/works/temp/MNIST\n",
      "2022-04-01 14:44:55,069 fedbiomed INFO - log from: node_65e33263-8be2-42a8-b7ba-41b0cd90557d / INFO - training with arguments {'history_monitor': <fedbiomed.node.history_monitor.HistoryMonitor object at 0x1469d86d0>, 'node_args': {'gpu': False, 'gpu_num': None, 'gpu_only': False}, 'test_ratio': 0.0, 'test_on_local_updates': False, 'test_on_global_updates': False, 'test_metric': None, 'test_metric_args': {}, 'batch_size': 48, 'lr': 0.001, 'epochs': 3, 'dry_run': False, 'batch_maxnum': 100, 'DP_args': {'type': 'local', 'sigma': 1.0, 'clip': 1.0}}\n",
      "04/01/2022 14:44:55:INFO:log from: node_65e33263-8be2-42a8-b7ba-41b0cd90557d / INFO - training with arguments {'history_monitor': <fedbiomed.node.history_monitor.HistoryMonitor object at 0x1469d86d0>, 'node_args': {'gpu': False, 'gpu_num': None, 'gpu_only': False}, 'test_ratio': 0.0, 'test_on_local_updates': False, 'test_on_global_updates': False, 'test_metric': None, 'test_metric_args': {}, 'batch_size': 48, 'lr': 0.001, 'epochs': 3, 'dry_run': False, 'batch_maxnum': 100, 'DP_args': {'type': 'local', 'sigma': 1.0, 'clip': 1.0}}\n",
      "2022-04-01 14:44:55,071 fedbiomed INFO - log from: node_65e33263-8be2-42a8-b7ba-41b0cd90557d / DEBUG - Using device cpu for training (cuda_available=False, gpu=False, gpu_only=False, use_gpu=False, gpu_num=None)\n",
      "04/01/2022 14:44:55:INFO:log from: node_65e33263-8be2-42a8-b7ba-41b0cd90557d / DEBUG - Using device cpu for training (cuda_available=False, gpu=False, gpu_only=False, use_gpu=False, gpu_num=None)\n",
      "2022-04-01 14:44:55,465 fedbiomed INFO - log from: node_65e33263-8be2-42a8-b7ba-41b0cd90557d / INFO - Train Epoch: 1 [0/60000 (0%)]\tLoss: 1.488293\n",
      "04/01/2022 14:44:55:INFO:log from: node_65e33263-8be2-42a8-b7ba-41b0cd90557d / INFO - Train Epoch: 1 [0/60000 (0%)]\tLoss: 1.488293\n",
      "2022-04-01 14:44:59,061 fedbiomed INFO - log from: node_65e33263-8be2-42a8-b7ba-41b0cd90557d / INFO - Train Epoch: 1 [420/60000 (1%)]\tLoss: 1.652307\n",
      "04/01/2022 14:44:59:INFO:log from: node_65e33263-8be2-42a8-b7ba-41b0cd90557d / INFO - Train Epoch: 1 [420/60000 (1%)]\tLoss: 1.652307\n",
      "2022-04-01 14:45:02,862 fedbiomed INFO - log from: node_65e33263-8be2-42a8-b7ba-41b0cd90557d / INFO - Train Epoch: 1 [860/60000 (2%)]\tLoss: 1.181026\n",
      "04/01/2022 14:45:02:INFO:log from: node_65e33263-8be2-42a8-b7ba-41b0cd90557d / INFO - Train Epoch: 1 [860/60000 (2%)]\tLoss: 1.181026\n",
      "2022-04-01 14:45:06,495 fedbiomed INFO - log from: node_65e33263-8be2-42a8-b7ba-41b0cd90557d / INFO - Train Epoch: 1 [1680/60000 (2%)]\tLoss: 1.273611\n",
      "04/01/2022 14:45:06:INFO:log from: node_65e33263-8be2-42a8-b7ba-41b0cd90557d / INFO - Train Epoch: 1 [1680/60000 (2%)]\tLoss: 1.273611\n",
      "2022-04-01 14:45:10,225 fedbiomed INFO - log from: node_65e33263-8be2-42a8-b7ba-41b0cd90557d / INFO - Train Epoch: 1 [1840/60000 (3%)]\tLoss: 1.570233\n",
      "04/01/2022 14:45:10:INFO:log from: node_65e33263-8be2-42a8-b7ba-41b0cd90557d / INFO - Train Epoch: 1 [1840/60000 (3%)]\tLoss: 1.570233\n",
      "2022-04-01 14:45:13,927 fedbiomed INFO - log from: node_65e33263-8be2-42a8-b7ba-41b0cd90557d / INFO - Train Epoch: 1 [2300/60000 (4%)]\tLoss: 1.280687\n",
      "04/01/2022 14:45:13:INFO:log from: node_65e33263-8be2-42a8-b7ba-41b0cd90557d / INFO - Train Epoch: 1 [2300/60000 (4%)]\tLoss: 1.280687\n",
      "2022-04-01 14:45:17,630 fedbiomed INFO - log from: node_65e33263-8be2-42a8-b7ba-41b0cd90557d / INFO - Train Epoch: 1 [3420/60000 (5%)]\tLoss: 1.421591\n",
      "04/01/2022 14:45:17:INFO:log from: node_65e33263-8be2-42a8-b7ba-41b0cd90557d / INFO - Train Epoch: 1 [3420/60000 (5%)]\tLoss: 1.421591\n",
      "2022-04-01 14:45:21,150 fedbiomed INFO - log from: node_65e33263-8be2-42a8-b7ba-41b0cd90557d / INFO - Train Epoch: 1 [3150/60000 (6%)]\tLoss: 1.289766\n",
      "04/01/2022 14:45:21:INFO:log from: node_65e33263-8be2-42a8-b7ba-41b0cd90557d / INFO - Train Epoch: 1 [3150/60000 (6%)]\tLoss: 1.289766\n",
      "2022-04-01 14:45:24,971 fedbiomed INFO - log from: node_65e33263-8be2-42a8-b7ba-41b0cd90557d / INFO - Train Epoch: 1 [4000/60000 (6%)]\tLoss: 1.573214\n",
      "04/01/2022 14:45:24:INFO:log from: node_65e33263-8be2-42a8-b7ba-41b0cd90557d / INFO - Train Epoch: 1 [4000/60000 (6%)]\tLoss: 1.573214\n",
      "2022-04-01 14:45:28,818 fedbiomed INFO - log from: node_65e33263-8be2-42a8-b7ba-41b0cd90557d / INFO - Train Epoch: 1 [4410/60000 (7%)]\tLoss: 1.486714\n",
      "04/01/2022 14:45:28:INFO:log from: node_65e33263-8be2-42a8-b7ba-41b0cd90557d / INFO - Train Epoch: 1 [4410/60000 (7%)]\tLoss: 1.486714\n",
      "2022-04-01 14:45:32,769 fedbiomed INFO - log from: node_65e33263-8be2-42a8-b7ba-41b0cd90557d / DEBUG - Reached 100 batches for this epoch, ignore remaining data\n",
      "04/01/2022 14:45:32:INFO:log from: node_65e33263-8be2-42a8-b7ba-41b0cd90557d / DEBUG - Reached 100 batches for this epoch, ignore remaining data\n",
      "2022-04-01 14:45:33,179 fedbiomed INFO - log from: node_65e33263-8be2-42a8-b7ba-41b0cd90557d / INFO - Train Epoch: 2 [0/60000 (0%)]\tLoss: 1.808299\n",
      "04/01/2022 14:45:33:INFO:log from: node_65e33263-8be2-42a8-b7ba-41b0cd90557d / INFO - Train Epoch: 2 [0/60000 (0%)]\tLoss: 1.808299\n",
      "2022-04-01 14:45:36,785 fedbiomed INFO - log from: node_65e33263-8be2-42a8-b7ba-41b0cd90557d / INFO - Train Epoch: 2 [560/60000 (1%)]\tLoss: 1.080110\n",
      "04/01/2022 14:45:36:INFO:log from: node_65e33263-8be2-42a8-b7ba-41b0cd90557d / INFO - Train Epoch: 2 [560/60000 (1%)]\tLoss: 1.080110\n"
     ]
    },
    {
     "name": "stderr",
     "output_type": "stream",
     "text": [
      "2022-04-01 14:45:40,490 fedbiomed INFO - log from: node_65e33263-8be2-42a8-b7ba-41b0cd90557d / INFO - Train Epoch: 2 [1020/60000 (2%)]\tLoss: 1.380336\n",
      "04/01/2022 14:45:40:INFO:log from: node_65e33263-8be2-42a8-b7ba-41b0cd90557d / INFO - Train Epoch: 2 [1020/60000 (2%)]\tLoss: 1.380336\n",
      "2022-04-01 14:45:44,132 fedbiomed INFO - log from: node_65e33263-8be2-42a8-b7ba-41b0cd90557d / INFO - Train Epoch: 2 [1230/60000 (2%)]\tLoss: 1.130834\n",
      "04/01/2022 14:45:44:INFO:log from: node_65e33263-8be2-42a8-b7ba-41b0cd90557d / INFO - Train Epoch: 2 [1230/60000 (2%)]\tLoss: 1.130834\n",
      "2022-04-01 14:45:47,536 fedbiomed INFO - log from: node_65e33263-8be2-42a8-b7ba-41b0cd90557d / INFO - Train Epoch: 2 [1680/60000 (3%)]\tLoss: 0.970879\n",
      "04/01/2022 14:45:47:INFO:log from: node_65e33263-8be2-42a8-b7ba-41b0cd90557d / INFO - Train Epoch: 2 [1680/60000 (3%)]\tLoss: 0.970879\n",
      "2022-04-01 14:45:51,360 fedbiomed INFO - log from: node_65e33263-8be2-42a8-b7ba-41b0cd90557d / INFO - Train Epoch: 2 [2950/60000 (4%)]\tLoss: 1.135932\n",
      "04/01/2022 14:45:51:INFO:log from: node_65e33263-8be2-42a8-b7ba-41b0cd90557d / INFO - Train Epoch: 2 [2950/60000 (4%)]\tLoss: 1.135932\n",
      "2022-04-01 14:45:55,123 fedbiomed INFO - log from: node_65e33263-8be2-42a8-b7ba-41b0cd90557d / INFO - Train Epoch: 2 [3300/60000 (5%)]\tLoss: 0.978799\n",
      "04/01/2022 14:45:55:INFO:log from: node_65e33263-8be2-42a8-b7ba-41b0cd90557d / INFO - Train Epoch: 2 [3300/60000 (5%)]\tLoss: 0.978799\n",
      "2022-04-01 14:45:58,763 fedbiomed INFO - log from: node_65e33263-8be2-42a8-b7ba-41b0cd90557d / INFO - Train Epoch: 2 [3710/60000 (6%)]\tLoss: 0.821611\n",
      "04/01/2022 14:45:58:INFO:log from: node_65e33263-8be2-42a8-b7ba-41b0cd90557d / INFO - Train Epoch: 2 [3710/60000 (6%)]\tLoss: 0.821611\n",
      "2022-04-01 14:46:02,057 fedbiomed CRITICAL - Fed-BioMed researcher stopped due to keyboard interrupt\n",
      "04/01/2022 14:46:02:CRITICAL:Fed-BioMed researcher stopped due to keyboard interrupt\n"
     ]
    },
    {
     "name": "stdout",
     "output_type": "stream",
     "text": [
      "\n",
      "--------------------\n",
      "Fed-BioMed researcher stopped due to keyboard interrupt\n",
      "--------------------\n"
     ]
    }
   ],
   "source": [
    "exp.run()"
   ]
  },
  {
   "cell_type": "markdown",
   "metadata": {},
   "source": [
    "Local training results for each round and each node are available via `exp.training_replies()` (index 0 to (`rounds` - 1) ).\n",
    "\n",
    "For example you can view the training results for the last round below.\n",
    "\n",
    "Different timings (in seconds) are reported for each dataset of a node participating in a round :\n",
    "- `rtime_training` real time (clock time) spent in the training function on the node\n",
    "- `ptime_training` process time (user and system CPU) spent in the training function on the node\n",
    "- `rtime_total` real time (clock time) spent in the researcher between sending the request and handling the response, at the `Job()` layer"
   ]
  },
  {
   "cell_type": "code",
   "execution_count": null,
   "metadata": {
    "pycharm": {
     "name": "#%%\n"
    },
    "scrolled": true
   },
   "outputs": [],
   "source": [
    "print(\"\\nList the training rounds : \", exp.training_replies().keys())\n",
    "\n",
    "print(\"\\nList the nodes for the last training round and their timings : \")\n",
    "round_data = exp.training_replies()[rounds - 1].data()\n",
    "for c in range(len(round_data)):\n",
    "    print(\"\\t- {id} :\\\n",
    "    \\n\\t\\trtime_training={rtraining:.2f} seconds\\\n",
    "    \\n\\t\\tptime_training={ptraining:.2f} seconds\\\n",
    "    \\n\\t\\trtime_total={rtotal:.2f} seconds\".format(id = round_data[c]['node_id'],\n",
    "        rtraining = round_data[c]['timing']['rtime_training'],\n",
    "        ptraining = round_data[c]['timing']['ptime_training'],\n",
    "        rtotal = round_data[c]['timing']['rtime_total']))\n",
    "print('\\n')\n",
    "    \n",
    "exp.training_replies()[rounds - 1].dataframe()"
   ]
  },
  {
   "cell_type": "markdown",
   "metadata": {},
   "source": [
    "Federated parameters for each round are available via `exp.aggregated_params()` (index 0 to (`rounds` - 1) ).\n",
    "\n",
    "For example you can view the federated parameters for the last round of the experiment :"
   ]
  },
  {
   "cell_type": "code",
   "execution_count": null,
   "metadata": {},
   "outputs": [],
   "source": [
    "print(\"\\nList the training rounds : \", exp.aggregated_params().keys())\n",
    "\n",
    "print(\"\\nAccess the federated params for the last training round :\")\n",
    "print(\"\\t- params_path: \", exp.aggregated_params()[rounds - 1]['params_path'])\n",
    "print(\"\\t- parameter data: \", exp.aggregated_params()[rounds - 1]['params'].keys())\n"
   ]
  },
  {
   "cell_type": "markdown",
   "metadata": {
    "pycharm": {
     "name": "#%% md\n"
    }
   },
   "source": [
    "Feel free to run other sample notebooks or try your own models :D"
   ]
  }
 ],
 "metadata": {
  "kernelspec": {
   "display_name": "Python 3 (ipykernel)",
   "language": "python",
   "name": "python3"
  },
  "language_info": {
   "codemirror_mode": {
    "name": "ipython",
    "version": 3
   },
   "file_extension": ".py",
   "mimetype": "text/x-python",
   "name": "python",
   "nbconvert_exporter": "python",
   "pygments_lexer": "ipython3",
   "version": "3.9.9"
  }
 },
 "nbformat": 4,
 "nbformat_minor": 4
}

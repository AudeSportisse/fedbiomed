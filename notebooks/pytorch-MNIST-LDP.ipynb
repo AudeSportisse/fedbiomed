{
 "cells": [
  {
   "cell_type": "markdown",
   "metadata": {},
   "source": [
    "# Fedbiomed Researcher POC with LDP"
   ]
  },
  {
   "cell_type": "code",
   "execution_count": 1,
   "metadata": {},
   "outputs": [],
   "source": [
    "%load_ext autoreload\n",
    "%autoreload 2"
   ]
  },
  {
   "cell_type": "markdown",
   "metadata": {},
   "source": [
    "## Start the network\n",
    "Before running this notebook, start the network with `./scripts/fedbiomed_run network`"
   ]
  },
  {
   "cell_type": "markdown",
   "metadata": {},
   "source": [
    "## Setting the nodes up\n",
    "It is necessary to previously configure a node:\n",
    "1. `./scripts/fedbiomed_run node add`\n",
    "  * Select option 2 (default) to add MNIST to the node\n",
    "  * Confirm default tags by hitting \"y\" and ENTER\n",
    "  * Pick the folder where MNIST is downloaded (this is due torch issue https://github.com/pytorch/vision/issues/3549)\n",
    "  * Data must have been added (if you get a warning saying that data must be unique is because it's been already added)\n",
    "  \n",
    "2. Check that your data has been added by executing `./scripts/fedbiomed_run node list`\n",
    "3. Run the node using `./scripts/fedbiomed_run node start`. Wait until you get `Starting task manager`. it means you are online.\n",
    "4. Following the same procedure, you can create a second node for client 2."
   ]
  },
  {
   "cell_type": "markdown",
   "metadata": {},
   "source": [
    "Check available clients:"
   ]
  },
  {
   "cell_type": "code",
   "execution_count": 2,
   "metadata": {},
   "outputs": [
    {
     "name": "stderr",
     "output_type": "stream",
     "text": [
      "2022-03-03 23:14:54,254 fedbiomed INFO - Component environment:\n",
      "2022-03-03 23:14:54,255 fedbiomed INFO - type = ComponentType.RESEARCHER\n",
      "2022-03-03 23:14:54,738 fedbiomed INFO - Messaging researcher_939c8feb-35dd-42ba-ae62-221123361b5f successfully connected to the message broker, object = <fedbiomed.common.messaging.Messaging object at 0x108e86c70>\n",
      "2022-03-03 23:14:54,835 fedbiomed INFO - Listing available datasets in all nodes... \n",
      "2022-03-03 23:14:54,840 fedbiomed INFO - log from: node_583b7f60-63bb-4d67-9f85-66b65b24179f / DEBUG - Message received: {'researcher_id': 'researcher_939c8feb-35dd-42ba-ae62-221123361b5f', 'command': 'list'}\n",
      "2022-03-03 23:15:04,843 fedbiomed INFO - \n",
      " Node: node_583b7f60-63bb-4d67-9f85-66b65b24179f | Number of Datasets: 1 \n",
      "+--------+-------------+------------------------+----------------+--------------------+\n",
      "| name   | data_type   | tags                   | description    | shape              |\n",
      "+========+=============+========================+================+====================+\n",
      "| MNIST  | default     | ['#MNIST', '#dataset'] | MNIST database | [60000, 1, 28, 28] |\n",
      "+--------+-------------+------------------------+----------------+--------------------+\n",
      "\n"
     ]
    },
    {
     "data": {
      "text/plain": [
       "{'node_583b7f60-63bb-4d67-9f85-66b65b24179f': [{'name': 'MNIST',\n",
       "   'data_type': 'default',\n",
       "   'tags': ['#MNIST', '#dataset'],\n",
       "   'description': 'MNIST database',\n",
       "   'shape': [60000, 1, 28, 28]}]}"
      ]
     },
     "execution_count": 2,
     "metadata": {},
     "output_type": "execute_result"
    }
   ],
   "source": [
    "from fedbiomed.researcher.requests import Requests\n",
    "req = Requests()\n",
    "req.list(verbose=True)"
   ]
  },
  {
   "cell_type": "markdown",
   "metadata": {},
   "source": [
    "## Define an experiment model and parameters"
   ]
  },
  {
   "cell_type": "markdown",
   "metadata": {},
   "source": [
    "Declare a torch.nn MyTrainingPlan class to send for training on the node"
   ]
  },
  {
   "cell_type": "markdown",
   "metadata": {},
   "source": [
    "Note : write **only** the code to export in the following cell"
   ]
  },
  {
   "cell_type": "code",
   "execution_count": 3,
   "metadata": {},
   "outputs": [],
   "source": [
    "import torch\n",
    "import torch.nn as nn\n",
    "from fedbiomed.common.training_plans import TorchTrainingPlan\n",
    "from torch.utils.data import DataLoader\n",
    "from torchvision import datasets, transforms\n",
    "\n",
    "# Here we define the model to be used. \n",
    "# You can use any class name (here 'Net')\n",
    "class MyTrainingPlan(TorchTrainingPlan):\n",
    "    def __init__(self, model_args: dict = {}):\n",
    "        super(MyTrainingPlan, self).__init__(model_args)\n",
    "        self.conv1 = nn.Conv2d(1, 32, 3, 1)\n",
    "        self.conv2 = nn.Conv2d(32, 64, 3, 1)\n",
    "        self.dropout1 = nn.Dropout(0.25)\n",
    "        self.dropout2 = nn.Dropout(0.5)\n",
    "        self.fc1 = nn.Linear(9216, 128)\n",
    "        self.fc2 = nn.Linear(128, 10)\n",
    "        self.C = model_args['DP']['C']\n",
    "        self.sigma = model_args['DP']['sigma']\n",
    "        \n",
    "        # Here we define the custom dependencies that will be needed by our custom Dataloader\n",
    "        # In this case, we need the torch DataLoader classes\n",
    "        # Since we will train on MNIST, we need datasets and transform from torchvision\n",
    "        deps = [\"from torchvision import datasets, transforms\",\n",
    "               \"from torch.utils.data import DataLoader\",\n",
    "               \"import torch\"]\n",
    "        self.add_dependency(deps)\n",
    "\n",
    "    def forward(self, x):\n",
    "        x = self.conv1(x)\n",
    "        x = F.relu(x)\n",
    "        x = self.conv2(x)\n",
    "        x = F.relu(x)\n",
    "        x = F.max_pool2d(x, 2)\n",
    "        x = self.dropout1(x)\n",
    "        x = torch.flatten(x, 1)\n",
    "        x = self.fc1(x)\n",
    "        x = F.relu(x)\n",
    "        x = self.dropout2(x)\n",
    "        x = self.fc2(x)      \n",
    "        \n",
    "        output = F.log_softmax(x, dim=1)\n",
    "        return output\n",
    "\n",
    "    def training_data(self, batch_size = 48):\n",
    "        # Custom torch Dataloader for MNIST data\n",
    "        transform = transforms.Compose([transforms.ToTensor(),\n",
    "        transforms.Normalize((0.1307,), (0.3081,))])\n",
    "        dataset1 = datasets.MNIST(self.dataset_path, train=True, download=False, transform=transform)\n",
    "        train_kwargs = {'batch_size': batch_size, 'shuffle': True}\n",
    "        data_loader = torch.utils.data.DataLoader(dataset1, **train_kwargs)\n",
    "        return data_loader\n",
    "    \n",
    "    def training_step(self, data, target):\n",
    "        output = self.forward(data)\n",
    "        loss   = torch.nn.functional.nll_loss(output, target)\n",
    "        return loss\n",
    "    \n",
    "    def postprocess(self, params):\n",
    "        for name, param in params.items():\n",
    "            \n",
    "            ###\n",
    "            ### Extracting the update\n",
    "            ###\n",
    "            delta_theta = params[name] - self.init_params[name]\n",
    "            \n",
    "            ###\n",
    "            ### DP on update (L2 norm + noise)\n",
    "            ###\n",
    "            delta_theta_tilde = torch.clamp(delta_theta, -self.C, self.C) \\\n",
    "                            + torch.sqrt(torch.tensor([2]))*self.sigma*self.C * torch.randn_like(delta_theta)\n",
    "            \n",
    "            ###\n",
    "            ### Other kind of perturbation models are possible\n",
    "            ### torch.distributions.laplace.Laplace(torch.tensor([loc]), torch.tensor([scale]))\n",
    "            ###\n",
    "            params[name] = self.init_params[name] + delta_theta_tilde\n",
    "            \n",
    "        return params"
   ]
  },
  {
   "cell_type": "markdown",
   "metadata": {},
   "source": [
    "This group of arguments correspond respectively:\n",
    "* `model_args`: a dictionary with the arguments related to the model (e.g. number of layers, features, etc.). This will be passed to the model class on the node side. \n",
    "* `training_args`: a dictionary containing the arguments for the training routine (e.g. batch size, learning rate, epochs, etc.). This will be passed to the routine on the node side.\n",
    "If FedProx optimisation is requested, `fedprox_mu` parameter must be defined here. It also must be a float between XX and YY.\n",
    "\n",
    "**NOTE:** typos and/or lack of positional (required) arguments will raise error. 🤓"
   ]
  },
  {
   "cell_type": "code",
   "execution_count": 14,
   "metadata": {
    "pycharm": {
     "name": "#%%\n"
    }
   },
   "outputs": [],
   "source": [
    "model_args = {'DP': {'C' : 5e-3, 'sigma' : 5e-3}}\n",
    "\n",
    "training_args = {\n",
    "    'batch_size': 48, \n",
    "    'lr': 1e-3, \n",
    "    'fedprox_mu': 0.01, \n",
    "    'epochs': 1, \n",
    "    'dry_run': False,  \n",
    "    'batch_maxnum': 100 # Fast pass for development : only use ( batch_maxnum * batch_size ) samples\n",
    "}"
   ]
  },
  {
   "cell_type": "markdown",
   "metadata": {},
   "source": [
    "## Declare and run the experiment\n",
    "\n",
    "- search nodes serving data for these `tags`, optionally filter on a list of node ID with `nodes`\n",
    "- run a round of local training on nodes with model defined in `model_path` + federation with `aggregator`\n",
    "- run for `round_limit` rounds, applying the `node_selection_strategy` between the rounds"
   ]
  },
  {
   "cell_type": "code",
   "execution_count": 15,
   "metadata": {
    "pycharm": {
     "name": "#%%\n"
    },
    "scrolled": true
   },
   "outputs": [
    {
     "name": "stderr",
     "output_type": "stream",
     "text": [
      "2022-03-03 23:18:48,324 fedbiomed INFO - Searching dataset with data tags: ['#MNIST', '#dataset'] for all nodes\n",
      "2022-03-03 23:18:48,329 fedbiomed INFO - log from: node_583b7f60-63bb-4d67-9f85-66b65b24179f / DEBUG - Message received: {'researcher_id': 'researcher_939c8feb-35dd-42ba-ae62-221123361b5f', 'tags': ['#MNIST', '#dataset'], 'command': 'search'}\n",
      "2022-03-03 23:18:58,332 fedbiomed INFO - Node selected for training -> node_583b7f60-63bb-4d67-9f85-66b65b24179f\n",
      "2022-03-03 23:18:58,345 fedbiomed DEBUG - Model file has been saved: /Users/mlorenzi/works/temp/fedbiomed/var/experiments/Experiment_0027/my_model_d61dca64-7189-4092-bc21-c7847a618fad.py\n",
      "2022-03-03 23:18:58,405 fedbiomed DEBUG - upload (HTTP POST request) of file /Users/mlorenzi/works/temp/fedbiomed/var/experiments/Experiment_0027/my_model_d61dca64-7189-4092-bc21-c7847a618fad.py successful, with status code 201\n",
      "2022-03-03 23:18:58,815 fedbiomed DEBUG - upload (HTTP POST request) of file /Users/mlorenzi/works/temp/fedbiomed/var/experiments/Experiment_0027/aggregated_params_init_ece0914f-9c80-42a4-a262-ac793c83cafb.pt successful, with status code 201\n"
     ]
    }
   ],
   "source": [
    "from fedbiomed.researcher.experiment import Experiment\n",
    "from fedbiomed.researcher.aggregators.fedavg import FedAverage\n",
    "\n",
    "tags =  ['#MNIST', '#dataset']\n",
    "rounds = 3\n",
    "\n",
    "exp = Experiment(tags=tags,\n",
    "                 model_args=model_args,\n",
    "                 model_class=MyTrainingPlan,\n",
    "                 training_args=training_args,\n",
    "                 round_limit=rounds,\n",
    "                 aggregator=FedAverage(),\n",
    "                 node_selection_strategy=None)"
   ]
  },
  {
   "cell_type": "markdown",
   "metadata": {
    "pycharm": {
     "name": "#%% md\n"
    }
   },
   "source": [
    "Let's start the experiment.\n",
    "\n",
    "By default, this function doesn't stop until all the `round_limit` rounds are done for all the nodes"
   ]
  },
  {
   "cell_type": "code",
   "execution_count": 16,
   "metadata": {
    "pycharm": {
     "name": "#%%\n"
    },
    "scrolled": true
   },
   "outputs": [
    {
     "name": "stderr",
     "output_type": "stream",
     "text": [
      "2022-03-03 23:18:58,873 fedbiomed INFO - Sampled nodes in round 0 ['node_583b7f60-63bb-4d67-9f85-66b65b24179f']\n",
      "2022-03-03 23:18:58,873 fedbiomed INFO - Send message to node node_583b7f60-63bb-4d67-9f85-66b65b24179f - {'researcher_id': 'researcher_939c8feb-35dd-42ba-ae62-221123361b5f', 'job_id': 'dfa14066-9e15-40d0-9b71-db12e29e0b3a', 'training_args': {'batch_size': 48, 'lr': 0.001, 'fedprox_mu': 0.01, 'epochs': 1, 'dry_run': False, 'batch_maxnum': 100}, 'model_args': {'DP': {'C': 0.005, 'sigma': 0.005}}, 'command': 'train', 'model_url': 'http://localhost:8844/media/uploads/2022/03/03/my_model_d61dca64-7189-4092-bc21-c7847a618fad.py', 'params_url': 'http://localhost:8844/media/uploads/2022/03/03/aggregated_params_init_ece0914f-9c80-42a4-a262-ac793c83cafb.pt', 'model_class': 'MyTrainingPlan', 'training_data': {'node_583b7f60-63bb-4d67-9f85-66b65b24179f': ['dataset_2e82a5a5-a186-447a-8dc8-54d4baa018df']}}\n",
      "2022-03-03 23:18:58,874 fedbiomed DEBUG - researcher_939c8feb-35dd-42ba-ae62-221123361b5f\n",
      "2022-03-03 23:18:58,881 fedbiomed INFO - log from: node_583b7f60-63bb-4d67-9f85-66b65b24179f / DEBUG - Message received: {'researcher_id': 'researcher_939c8feb-35dd-42ba-ae62-221123361b5f', 'job_id': 'dfa14066-9e15-40d0-9b71-db12e29e0b3a', 'training_args': {'batch_size': 48, 'lr': 0.001, 'fedprox_mu': 0.01, 'epochs': 1, 'dry_run': False, 'batch_maxnum': 100}, 'model_args': {'DP': {'C': 0.005, 'sigma': 0.005}}, 'command': 'train', 'model_url': 'http://localhost:8844/media/uploads/2022/03/03/my_model_d61dca64-7189-4092-bc21-c7847a618fad.py', 'params_url': 'http://localhost:8844/media/uploads/2022/03/03/aggregated_params_init_ece0914f-9c80-42a4-a262-ac793c83cafb.pt', 'model_class': 'MyTrainingPlan', 'training_data': {'node_583b7f60-63bb-4d67-9f85-66b65b24179f': ['dataset_2e82a5a5-a186-447a-8dc8-54d4baa018df']}}\n",
      "2022-03-03 23:18:58,883 fedbiomed INFO - log from: node_583b7f60-63bb-4d67-9f85-66b65b24179f / DEBUG - [TASKS QUEUE] Item:{'researcher_id': 'researcher_939c8feb-35dd-42ba-ae62-221123361b5f', 'job_id': 'dfa14066-9e15-40d0-9b71-db12e29e0b3a', 'params_url': 'http://localhost:8844/media/uploads/2022/03/03/aggregated_params_init_ece0914f-9c80-42a4-a262-ac793c83cafb.pt', 'training_args': {'batch_size': 48, 'lr': 0.001, 'fedprox_mu': 0.01, 'epochs': 1, 'dry_run': False, 'batch_maxnum': 100}, 'training_data': {'node_583b7f60-63bb-4d67-9f85-66b65b24179f': ['dataset_2e82a5a5-a186-447a-8dc8-54d4baa018df']}, 'model_args': {'DP': {'C': 0.005, 'sigma': 0.005}}, 'model_url': 'http://localhost:8844/media/uploads/2022/03/03/my_model_d61dca64-7189-4092-bc21-c7847a618fad.py', 'model_class': 'MyTrainingPlan', 'command': 'train'}\n",
      "2022-03-03 23:18:58,896 fedbiomed INFO - log from: node_583b7f60-63bb-4d67-9f85-66b65b24179f / DEBUG - upload (HTTP GET request) of file my_model_4fd642a50443441aa8ac308dace110d2.py successful, with status code 200\n",
      "2022-03-03 23:18:59,028 fedbiomed INFO - log from: node_583b7f60-63bb-4d67-9f85-66b65b24179f / DEBUG - upload (HTTP GET request) of file my_model_b152b18c-225a-43ab-9086-859888813fa7.pt successful, with status code 200\n",
      "2022-03-03 23:18:59,053 fedbiomed INFO - log from: node_583b7f60-63bb-4d67-9f85-66b65b24179f / INFO - training with arguments {'monitor': <fedbiomed.node.history_monitor.HistoryMonitor object at 0x14075e970>, 'node_args': {'gpu': False, 'gpu_num': None, 'gpu_only': False}, 'batch_size': 48, 'lr': 0.001, 'fedprox_mu': 0.01, 'epochs': 1, 'dry_run': False, 'batch_maxnum': 100}\n",
      "2022-03-03 23:18:59,055 fedbiomed INFO - log from: node_583b7f60-63bb-4d67-9f85-66b65b24179f / DEBUG - Dataset path has been set as/Users/mlorenzi/works/test\n",
      "2022-03-03 23:18:59,056 fedbiomed INFO - log from: node_583b7f60-63bb-4d67-9f85-66b65b24179f / DEBUG - Using device cpu for training (cuda_available=False, gpu=False, gpu_only=False, use_gpu=False, gpu_num=None)\n",
      "2022-03-03 23:18:59,167 fedbiomed INFO - log from: node_583b7f60-63bb-4d67-9f85-66b65b24179f / INFO - Train Epoch: 1 [0/60000 (0%)]\tLoss: 2.332264\n",
      "2022-03-03 23:18:59,974 fedbiomed INFO - log from: node_583b7f60-63bb-4d67-9f85-66b65b24179f / INFO - Train Epoch: 1 [480/60000 (1%)]\tLoss: 1.373362\n",
      "2022-03-03 23:19:00,731 fedbiomed INFO - log from: node_583b7f60-63bb-4d67-9f85-66b65b24179f / INFO - Train Epoch: 1 [960/60000 (2%)]\tLoss: 0.966908\n",
      "2022-03-03 23:19:01,482 fedbiomed INFO - log from: node_583b7f60-63bb-4d67-9f85-66b65b24179f / INFO - Train Epoch: 1 [1440/60000 (2%)]\tLoss: 1.125158\n",
      "2022-03-03 23:19:02,240 fedbiomed INFO - log from: node_583b7f60-63bb-4d67-9f85-66b65b24179f / INFO - Train Epoch: 1 [1920/60000 (3%)]\tLoss: 0.929387\n",
      "2022-03-03 23:19:02,991 fedbiomed INFO - log from: node_583b7f60-63bb-4d67-9f85-66b65b24179f / INFO - Train Epoch: 1 [2400/60000 (4%)]\tLoss: 0.916149\n",
      "2022-03-03 23:19:03,736 fedbiomed INFO - log from: node_583b7f60-63bb-4d67-9f85-66b65b24179f / INFO - Train Epoch: 1 [2880/60000 (5%)]\tLoss: 0.766677\n",
      "2022-03-03 23:19:04,505 fedbiomed INFO - log from: node_583b7f60-63bb-4d67-9f85-66b65b24179f / INFO - Train Epoch: 1 [3360/60000 (6%)]\tLoss: 0.999356\n",
      "2022-03-03 23:19:05,272 fedbiomed INFO - log from: node_583b7f60-63bb-4d67-9f85-66b65b24179f / INFO - Train Epoch: 1 [3840/60000 (6%)]\tLoss: 0.826231\n",
      "2022-03-03 23:19:06,041 fedbiomed INFO - log from: node_583b7f60-63bb-4d67-9f85-66b65b24179f / INFO - Train Epoch: 1 [4320/60000 (7%)]\tLoss: 0.946567\n",
      "2022-03-03 23:19:06,808 fedbiomed INFO - log from: node_583b7f60-63bb-4d67-9f85-66b65b24179f / DEBUG - Reached 100 batches for this epoch, ignore remaining data\n",
      "2022-03-03 23:19:06,809 fedbiomed INFO - log from: node_583b7f60-63bb-4d67-9f85-66b65b24179f / DEBUG - running model.postprocess() method\n",
      "2022-03-03 23:19:07,239 fedbiomed INFO - log from: node_583b7f60-63bb-4d67-9f85-66b65b24179f / DEBUG - upload (HTTP POST request) of file /Users/mlorenzi/works/temp/fedbiomed/var/tmp/node_params_97771778-39af-4bbd-92c7-8ae459729f00.pt successful, with status code 201\n",
      "2022-03-03 23:19:07,247 fedbiomed INFO - log from: node_583b7f60-63bb-4d67-9f85-66b65b24179f / INFO - results uploaded successfully \n",
      "2022-03-03 23:19:13,887 fedbiomed INFO - Downloading model params after training on node_583b7f60-63bb-4d67-9f85-66b65b24179f - from http://localhost:8844/media/uploads/2022/03/03/node_params_97771778-39af-4bbd-92c7-8ae459729f00.pt\n",
      "2022-03-03 23:19:14,015 fedbiomed DEBUG - upload (HTTP GET request) of file node_params_3825b52e-5a65-47c8-b34d-69e6f818337b.pt successful, with status code 200\n",
      "2022-03-03 23:19:14,030 fedbiomed INFO - Nodes that successfully reply in round 0 ['node_583b7f60-63bb-4d67-9f85-66b65b24179f']\n",
      "2022-03-03 23:19:14,470 fedbiomed DEBUG - upload (HTTP POST request) of file /Users/mlorenzi/works/temp/fedbiomed/var/experiments/Experiment_0027/aggregated_params_025820ce-c142-4bae-8ac0-5652f5709609.pt successful, with status code 201\n",
      "2022-03-03 23:19:14,471 fedbiomed INFO - Saved aggregated params for round 0 in /Users/mlorenzi/works/temp/fedbiomed/var/experiments/Experiment_0027/aggregated_params_025820ce-c142-4bae-8ac0-5652f5709609.pt\n",
      "2022-03-03 23:19:14,473 fedbiomed INFO - Sampled nodes in round 1 ['node_583b7f60-63bb-4d67-9f85-66b65b24179f']\n",
      "2022-03-03 23:19:14,474 fedbiomed INFO - Send message to node node_583b7f60-63bb-4d67-9f85-66b65b24179f - {'researcher_id': 'researcher_939c8feb-35dd-42ba-ae62-221123361b5f', 'job_id': 'dfa14066-9e15-40d0-9b71-db12e29e0b3a', 'training_args': {'batch_size': 48, 'lr': 0.001, 'fedprox_mu': 0.01, 'epochs': 1, 'dry_run': False, 'batch_maxnum': 100}, 'model_args': {'DP': {'C': 0.005, 'sigma': 0.005}}, 'command': 'train', 'model_url': 'http://localhost:8844/media/uploads/2022/03/03/my_model_d61dca64-7189-4092-bc21-c7847a618fad.py', 'params_url': 'http://localhost:8844/media/uploads/2022/03/03/aggregated_params_025820ce-c142-4bae-8ac0-5652f5709609.pt', 'model_class': 'MyTrainingPlan', 'training_data': {'node_583b7f60-63bb-4d67-9f85-66b65b24179f': ['dataset_2e82a5a5-a186-447a-8dc8-54d4baa018df']}}\n",
      "2022-03-03 23:19:14,475 fedbiomed DEBUG - researcher_939c8feb-35dd-42ba-ae62-221123361b5f\n",
      "2022-03-03 23:19:14,483 fedbiomed INFO - log from: node_583b7f60-63bb-4d67-9f85-66b65b24179f / DEBUG - Message received: {'researcher_id': 'researcher_939c8feb-35dd-42ba-ae62-221123361b5f', 'job_id': 'dfa14066-9e15-40d0-9b71-db12e29e0b3a', 'training_args': {'batch_size': 48, 'lr': 0.001, 'fedprox_mu': 0.01, 'epochs': 1, 'dry_run': False, 'batch_maxnum': 100}, 'model_args': {'DP': {'C': 0.005, 'sigma': 0.005}}, 'command': 'train', 'model_url': 'http://localhost:8844/media/uploads/2022/03/03/my_model_d61dca64-7189-4092-bc21-c7847a618fad.py', 'params_url': 'http://localhost:8844/media/uploads/2022/03/03/aggregated_params_025820ce-c142-4bae-8ac0-5652f5709609.pt', 'model_class': 'MyTrainingPlan', 'training_data': {'node_583b7f60-63bb-4d67-9f85-66b65b24179f': ['dataset_2e82a5a5-a186-447a-8dc8-54d4baa018df']}}\n"
     ]
    },
    {
     "name": "stderr",
     "output_type": "stream",
     "text": [
      "2022-03-03 23:19:14,485 fedbiomed INFO - log from: node_583b7f60-63bb-4d67-9f85-66b65b24179f / DEBUG - [TASKS QUEUE] Item:{'researcher_id': 'researcher_939c8feb-35dd-42ba-ae62-221123361b5f', 'job_id': 'dfa14066-9e15-40d0-9b71-db12e29e0b3a', 'params_url': 'http://localhost:8844/media/uploads/2022/03/03/aggregated_params_025820ce-c142-4bae-8ac0-5652f5709609.pt', 'training_args': {'batch_size': 48, 'lr': 0.001, 'fedprox_mu': 0.01, 'epochs': 1, 'dry_run': False, 'batch_maxnum': 100}, 'training_data': {'node_583b7f60-63bb-4d67-9f85-66b65b24179f': ['dataset_2e82a5a5-a186-447a-8dc8-54d4baa018df']}, 'model_args': {'DP': {'C': 0.005, 'sigma': 0.005}}, 'model_url': 'http://localhost:8844/media/uploads/2022/03/03/my_model_d61dca64-7189-4092-bc21-c7847a618fad.py', 'model_class': 'MyTrainingPlan', 'command': 'train'}\n",
      "2022-03-03 23:19:14,503 fedbiomed INFO - log from: node_583b7f60-63bb-4d67-9f85-66b65b24179f / DEBUG - upload (HTTP GET request) of file my_model_07a1c26d96224f579f13689f006adee4.py successful, with status code 200\n",
      "2022-03-03 23:19:14,627 fedbiomed INFO - log from: node_583b7f60-63bb-4d67-9f85-66b65b24179f / DEBUG - upload (HTTP GET request) of file my_model_315cd813-df67-44cc-83f6-3450286add8e.pt successful, with status code 200\n",
      "2022-03-03 23:19:14,643 fedbiomed INFO - log from: node_583b7f60-63bb-4d67-9f85-66b65b24179f / INFO - training with arguments {'monitor': <fedbiomed.node.history_monitor.HistoryMonitor object at 0x140741400>, 'node_args': {'gpu': False, 'gpu_num': None, 'gpu_only': False}, 'batch_size': 48, 'lr': 0.001, 'fedprox_mu': 0.01, 'epochs': 1, 'dry_run': False, 'batch_maxnum': 100}\n",
      "2022-03-03 23:19:14,644 fedbiomed INFO - log from: node_583b7f60-63bb-4d67-9f85-66b65b24179f / DEBUG - Dataset path has been set as/Users/mlorenzi/works/test\n",
      "2022-03-03 23:19:14,645 fedbiomed INFO - log from: node_583b7f60-63bb-4d67-9f85-66b65b24179f / DEBUG - Using device cpu for training (cuda_available=False, gpu=False, gpu_only=False, use_gpu=False, gpu_num=None)\n",
      "2022-03-03 23:19:14,753 fedbiomed INFO - log from: node_583b7f60-63bb-4d67-9f85-66b65b24179f / INFO - Train Epoch: 1 [0/60000 (0%)]\tLoss: 1.357622\n",
      "2022-03-03 23:19:15,599 fedbiomed INFO - log from: node_583b7f60-63bb-4d67-9f85-66b65b24179f / INFO - Train Epoch: 1 [480/60000 (1%)]\tLoss: 0.682583\n",
      "2022-03-03 23:19:16,354 fedbiomed INFO - log from: node_583b7f60-63bb-4d67-9f85-66b65b24179f / INFO - Train Epoch: 1 [960/60000 (2%)]\tLoss: 0.721758\n",
      "2022-03-03 23:19:17,188 fedbiomed INFO - log from: node_583b7f60-63bb-4d67-9f85-66b65b24179f / INFO - Train Epoch: 1 [1440/60000 (2%)]\tLoss: 0.305580\n",
      "2022-03-03 23:19:18,021 fedbiomed INFO - log from: node_583b7f60-63bb-4d67-9f85-66b65b24179f / INFO - Train Epoch: 1 [1920/60000 (3%)]\tLoss: 0.772780\n",
      "2022-03-03 23:19:18,838 fedbiomed INFO - log from: node_583b7f60-63bb-4d67-9f85-66b65b24179f / INFO - Train Epoch: 1 [2400/60000 (4%)]\tLoss: 0.507281\n",
      "2022-03-03 23:19:19,641 fedbiomed INFO - log from: node_583b7f60-63bb-4d67-9f85-66b65b24179f / INFO - Train Epoch: 1 [2880/60000 (5%)]\tLoss: 0.794388\n",
      "2022-03-03 23:19:20,401 fedbiomed INFO - log from: node_583b7f60-63bb-4d67-9f85-66b65b24179f / INFO - Train Epoch: 1 [3360/60000 (6%)]\tLoss: 0.431649\n",
      "2022-03-03 23:19:21,198 fedbiomed INFO - log from: node_583b7f60-63bb-4d67-9f85-66b65b24179f / INFO - Train Epoch: 1 [3840/60000 (6%)]\tLoss: 0.606699\n",
      "2022-03-03 23:19:21,998 fedbiomed INFO - log from: node_583b7f60-63bb-4d67-9f85-66b65b24179f / INFO - Train Epoch: 1 [4320/60000 (7%)]\tLoss: 0.386905\n",
      "2022-03-03 23:19:22,818 fedbiomed INFO - log from: node_583b7f60-63bb-4d67-9f85-66b65b24179f / DEBUG - Reached 100 batches for this epoch, ignore remaining data\n",
      "2022-03-03 23:19:22,819 fedbiomed INFO - log from: node_583b7f60-63bb-4d67-9f85-66b65b24179f / DEBUG - running model.postprocess() method\n",
      "2022-03-03 23:19:23,207 fedbiomed INFO - log from: node_583b7f60-63bb-4d67-9f85-66b65b24179f / DEBUG - upload (HTTP POST request) of file /Users/mlorenzi/works/temp/fedbiomed/var/tmp/node_params_9448bdf5-556f-4774-9fe2-ef78f658a2a0.pt successful, with status code 201\n",
      "2022-03-03 23:19:23,208 fedbiomed INFO - log from: node_583b7f60-63bb-4d67-9f85-66b65b24179f / INFO - results uploaded successfully \n",
      "2022-03-03 23:19:29,481 fedbiomed INFO - Downloading model params after training on node_583b7f60-63bb-4d67-9f85-66b65b24179f - from http://localhost:8844/media/uploads/2022/03/03/node_params_9448bdf5-556f-4774-9fe2-ef78f658a2a0.pt\n",
      "2022-03-03 23:19:29,621 fedbiomed DEBUG - upload (HTTP GET request) of file node_params_b9f5f035-a1e2-407e-8d82-00eb7254ab3a.pt successful, with status code 200\n",
      "2022-03-03 23:19:29,634 fedbiomed INFO - Nodes that successfully reply in round 1 ['node_583b7f60-63bb-4d67-9f85-66b65b24179f']\n",
      "2022-03-03 23:19:30,091 fedbiomed DEBUG - upload (HTTP POST request) of file /Users/mlorenzi/works/temp/fedbiomed/var/experiments/Experiment_0027/aggregated_params_3487798a-7779-43ff-9008-aab19c5e884c.pt successful, with status code 201\n",
      "2022-03-03 23:19:30,093 fedbiomed INFO - Saved aggregated params for round 1 in /Users/mlorenzi/works/temp/fedbiomed/var/experiments/Experiment_0027/aggregated_params_3487798a-7779-43ff-9008-aab19c5e884c.pt\n",
      "2022-03-03 23:19:30,093 fedbiomed INFO - Sampled nodes in round 2 ['node_583b7f60-63bb-4d67-9f85-66b65b24179f']\n",
      "2022-03-03 23:19:30,094 fedbiomed INFO - Send message to node node_583b7f60-63bb-4d67-9f85-66b65b24179f - {'researcher_id': 'researcher_939c8feb-35dd-42ba-ae62-221123361b5f', 'job_id': 'dfa14066-9e15-40d0-9b71-db12e29e0b3a', 'training_args': {'batch_size': 48, 'lr': 0.001, 'fedprox_mu': 0.01, 'epochs': 1, 'dry_run': False, 'batch_maxnum': 100}, 'model_args': {'DP': {'C': 0.005, 'sigma': 0.005}}, 'command': 'train', 'model_url': 'http://localhost:8844/media/uploads/2022/03/03/my_model_d61dca64-7189-4092-bc21-c7847a618fad.py', 'params_url': 'http://localhost:8844/media/uploads/2022/03/03/aggregated_params_3487798a-7779-43ff-9008-aab19c5e884c.pt', 'model_class': 'MyTrainingPlan', 'training_data': {'node_583b7f60-63bb-4d67-9f85-66b65b24179f': ['dataset_2e82a5a5-a186-447a-8dc8-54d4baa018df']}}\n",
      "2022-03-03 23:19:30,094 fedbiomed DEBUG - researcher_939c8feb-35dd-42ba-ae62-221123361b5f\n",
      "2022-03-03 23:19:30,104 fedbiomed INFO - log from: node_583b7f60-63bb-4d67-9f85-66b65b24179f / DEBUG - Message received: {'researcher_id': 'researcher_939c8feb-35dd-42ba-ae62-221123361b5f', 'job_id': 'dfa14066-9e15-40d0-9b71-db12e29e0b3a', 'training_args': {'batch_size': 48, 'lr': 0.001, 'fedprox_mu': 0.01, 'epochs': 1, 'dry_run': False, 'batch_maxnum': 100}, 'model_args': {'DP': {'C': 0.005, 'sigma': 0.005}}, 'command': 'train', 'model_url': 'http://localhost:8844/media/uploads/2022/03/03/my_model_d61dca64-7189-4092-bc21-c7847a618fad.py', 'params_url': 'http://localhost:8844/media/uploads/2022/03/03/aggregated_params_3487798a-7779-43ff-9008-aab19c5e884c.pt', 'model_class': 'MyTrainingPlan', 'training_data': {'node_583b7f60-63bb-4d67-9f85-66b65b24179f': ['dataset_2e82a5a5-a186-447a-8dc8-54d4baa018df']}}\n",
      "2022-03-03 23:19:30,108 fedbiomed INFO - log from: node_583b7f60-63bb-4d67-9f85-66b65b24179f / DEBUG - [TASKS QUEUE] Item:{'researcher_id': 'researcher_939c8feb-35dd-42ba-ae62-221123361b5f', 'job_id': 'dfa14066-9e15-40d0-9b71-db12e29e0b3a', 'params_url': 'http://localhost:8844/media/uploads/2022/03/03/aggregated_params_3487798a-7779-43ff-9008-aab19c5e884c.pt', 'training_args': {'batch_size': 48, 'lr': 0.001, 'fedprox_mu': 0.01, 'epochs': 1, 'dry_run': False, 'batch_maxnum': 100}, 'training_data': {'node_583b7f60-63bb-4d67-9f85-66b65b24179f': ['dataset_2e82a5a5-a186-447a-8dc8-54d4baa018df']}, 'model_args': {'DP': {'C': 0.005, 'sigma': 0.005}}, 'model_url': 'http://localhost:8844/media/uploads/2022/03/03/my_model_d61dca64-7189-4092-bc21-c7847a618fad.py', 'model_class': 'MyTrainingPlan', 'command': 'train'}\n",
      "2022-03-03 23:19:30,116 fedbiomed INFO - log from: node_583b7f60-63bb-4d67-9f85-66b65b24179f / DEBUG - upload (HTTP GET request) of file my_model_07567072b81e4c25acd54b5087a36c10.py successful, with status code 200\n",
      "2022-03-03 23:19:30,238 fedbiomed INFO - log from: node_583b7f60-63bb-4d67-9f85-66b65b24179f / DEBUG - upload (HTTP GET request) of file my_model_1a4583cd-192e-48ae-a002-c1bb05fa2958.pt successful, with status code 200\n"
     ]
    },
    {
     "name": "stderr",
     "output_type": "stream",
     "text": [
      "2022-03-03 23:19:30,254 fedbiomed INFO - log from: node_583b7f60-63bb-4d67-9f85-66b65b24179f / INFO - training with arguments {'monitor': <fedbiomed.node.history_monitor.HistoryMonitor object at 0x140741f70>, 'node_args': {'gpu': False, 'gpu_num': None, 'gpu_only': False}, 'batch_size': 48, 'lr': 0.001, 'fedprox_mu': 0.01, 'epochs': 1, 'dry_run': False, 'batch_maxnum': 100}\n",
      "2022-03-03 23:19:30,255 fedbiomed INFO - log from: node_583b7f60-63bb-4d67-9f85-66b65b24179f / DEBUG - Dataset path has been set as/Users/mlorenzi/works/test\n",
      "2022-03-03 23:19:30,257 fedbiomed INFO - log from: node_583b7f60-63bb-4d67-9f85-66b65b24179f / DEBUG - Using device cpu for training (cuda_available=False, gpu=False, gpu_only=False, use_gpu=False, gpu_num=None)\n",
      "2022-03-03 23:19:30,355 fedbiomed INFO - log from: node_583b7f60-63bb-4d67-9f85-66b65b24179f / INFO - Train Epoch: 1 [0/60000 (0%)]\tLoss: 0.623416\n",
      "2022-03-03 23:19:31,143 fedbiomed INFO - log from: node_583b7f60-63bb-4d67-9f85-66b65b24179f / INFO - Train Epoch: 1 [480/60000 (1%)]\tLoss: 0.383188\n",
      "2022-03-03 23:19:32,000 fedbiomed INFO - log from: node_583b7f60-63bb-4d67-9f85-66b65b24179f / INFO - Train Epoch: 1 [960/60000 (2%)]\tLoss: 0.258988\n",
      "2022-03-03 23:19:32,823 fedbiomed INFO - log from: node_583b7f60-63bb-4d67-9f85-66b65b24179f / INFO - Train Epoch: 1 [1440/60000 (2%)]\tLoss: 0.525944\n",
      "2022-03-03 23:19:33,586 fedbiomed INFO - log from: node_583b7f60-63bb-4d67-9f85-66b65b24179f / INFO - Train Epoch: 1 [1920/60000 (3%)]\tLoss: 0.492090\n",
      "2022-03-03 23:19:34,341 fedbiomed INFO - log from: node_583b7f60-63bb-4d67-9f85-66b65b24179f / INFO - Train Epoch: 1 [2400/60000 (4%)]\tLoss: 0.515453\n",
      "2022-03-03 23:19:35,139 fedbiomed INFO - log from: node_583b7f60-63bb-4d67-9f85-66b65b24179f / INFO - Train Epoch: 1 [2880/60000 (5%)]\tLoss: 0.339598\n",
      "2022-03-03 23:19:35,945 fedbiomed INFO - log from: node_583b7f60-63bb-4d67-9f85-66b65b24179f / INFO - Train Epoch: 1 [3360/60000 (6%)]\tLoss: 0.320745\n",
      "2022-03-03 23:19:36,702 fedbiomed INFO - log from: node_583b7f60-63bb-4d67-9f85-66b65b24179f / INFO - Train Epoch: 1 [3840/60000 (6%)]\tLoss: 0.576398\n",
      "2022-03-03 23:19:37,518 fedbiomed INFO - log from: node_583b7f60-63bb-4d67-9f85-66b65b24179f / INFO - Train Epoch: 1 [4320/60000 (7%)]\tLoss: 0.417879\n",
      "2022-03-03 23:19:38,333 fedbiomed INFO - log from: node_583b7f60-63bb-4d67-9f85-66b65b24179f / DEBUG - Reached 100 batches for this epoch, ignore remaining data\n",
      "2022-03-03 23:19:38,335 fedbiomed INFO - log from: node_583b7f60-63bb-4d67-9f85-66b65b24179f / DEBUG - running model.postprocess() method\n",
      "2022-03-03 23:19:38,777 fedbiomed INFO - log from: node_583b7f60-63bb-4d67-9f85-66b65b24179f / DEBUG - upload (HTTP POST request) of file /Users/mlorenzi/works/temp/fedbiomed/var/tmp/node_params_551e0184-1ad1-4f08-bdbe-9e84b3ce60bf.pt successful, with status code 201\n",
      "2022-03-03 23:19:38,778 fedbiomed INFO - log from: node_583b7f60-63bb-4d67-9f85-66b65b24179f / INFO - results uploaded successfully \n",
      "2022-03-03 23:19:45,105 fedbiomed INFO - Downloading model params after training on node_583b7f60-63bb-4d67-9f85-66b65b24179f - from http://localhost:8844/media/uploads/2022/03/03/node_params_551e0184-1ad1-4f08-bdbe-9e84b3ce60bf.pt\n",
      "2022-03-03 23:19:45,233 fedbiomed DEBUG - upload (HTTP GET request) of file node_params_105f768f-2a88-44ac-aaa7-e37fcfdef245.pt successful, with status code 200\n",
      "2022-03-03 23:19:45,249 fedbiomed INFO - Nodes that successfully reply in round 2 ['node_583b7f60-63bb-4d67-9f85-66b65b24179f']\n",
      "2022-03-03 23:19:45,735 fedbiomed DEBUG - upload (HTTP POST request) of file /Users/mlorenzi/works/temp/fedbiomed/var/experiments/Experiment_0027/aggregated_params_0cabb653-df9e-4b7b-a63b-9530d1e26a25.pt successful, with status code 201\n",
      "2022-03-03 23:19:45,736 fedbiomed INFO - Saved aggregated params for round 2 in /Users/mlorenzi/works/temp/fedbiomed/var/experiments/Experiment_0027/aggregated_params_0cabb653-df9e-4b7b-a63b-9530d1e26a25.pt\n"
     ]
    },
    {
     "data": {
      "text/plain": [
       "3"
      ]
     },
     "execution_count": 16,
     "metadata": {},
     "output_type": "execute_result"
    }
   ],
   "source": [
    "exp.run()"
   ]
  },
  {
   "cell_type": "markdown",
   "metadata": {},
   "source": [
    "Local training results for each round and each node are available via `exp.training_replies()` (index 0 to (`rounds` - 1) ).\n",
    "\n",
    "For example you can view the training results for the last round below.\n",
    "\n",
    "Different timings (in seconds) are reported for each dataset of a node participating in a round :\n",
    "- `rtime_training` real time (clock time) spent in the training function on the node\n",
    "- `ptime_training` process time (user and system CPU) spent in the training function on the node\n",
    "- `rtime_total` real time (clock time) spent in the researcher between sending the request and handling the response, at the `Job()` layer"
   ]
  },
  {
   "cell_type": "code",
   "execution_count": 10,
   "metadata": {
    "pycharm": {
     "name": "#%%\n"
    },
    "scrolled": true
   },
   "outputs": [
    {
     "name": "stdout",
     "output_type": "stream",
     "text": [
      "\n",
      "List the training rounds :  dict_keys([0, 1, 2])\n",
      "\n",
      "List the nodes for the last training round and their timings : \n",
      "\t- node_583b7f60-63bb-4d67-9f85-66b65b24179f :    \n",
      "\t\trtime_training=8.19 seconds    \n",
      "\t\tptime_training=11.03 seconds    \n",
      "\t\trtime_total=15.01 seconds\n",
      "\n",
      "\n"
     ]
    },
    {
     "data": {
      "text/html": [
       "<div>\n",
       "<style scoped>\n",
       "    .dataframe tbody tr th:only-of-type {\n",
       "        vertical-align: middle;\n",
       "    }\n",
       "\n",
       "    .dataframe tbody tr th {\n",
       "        vertical-align: top;\n",
       "    }\n",
       "\n",
       "    .dataframe thead th {\n",
       "        text-align: right;\n",
       "    }\n",
       "</style>\n",
       "<table border=\"1\" class=\"dataframe\">\n",
       "  <thead>\n",
       "    <tr style=\"text-align: right;\">\n",
       "      <th></th>\n",
       "      <th>success</th>\n",
       "      <th>msg</th>\n",
       "      <th>dataset_id</th>\n",
       "      <th>node_id</th>\n",
       "      <th>params_path</th>\n",
       "      <th>params</th>\n",
       "      <th>timing</th>\n",
       "    </tr>\n",
       "  </thead>\n",
       "  <tbody>\n",
       "    <tr>\n",
       "      <th>0</th>\n",
       "      <td>True</td>\n",
       "      <td></td>\n",
       "      <td>dataset_2e82a5a5-a186-447a-8dc8-54d4baa018df</td>\n",
       "      <td>node_583b7f60-63bb-4d67-9f85-66b65b24179f</td>\n",
       "      <td>/Users/mlorenzi/works/temp/fedbiomed/var/exper...</td>\n",
       "      <td>{'conv1.weight': [[tensor([[ 0.1881, -0.0455, ...</td>\n",
       "      <td>{'rtime_training': 8.194219430999965, 'ptime_t...</td>\n",
       "    </tr>\n",
       "  </tbody>\n",
       "</table>\n",
       "</div>"
      ],
      "text/plain": [
       "   success msg                                    dataset_id  \\\n",
       "0     True      dataset_2e82a5a5-a186-447a-8dc8-54d4baa018df   \n",
       "\n",
       "                                     node_id  \\\n",
       "0  node_583b7f60-63bb-4d67-9f85-66b65b24179f   \n",
       "\n",
       "                                         params_path  \\\n",
       "0  /Users/mlorenzi/works/temp/fedbiomed/var/exper...   \n",
       "\n",
       "                                              params  \\\n",
       "0  {'conv1.weight': [[tensor([[ 0.1881, -0.0455, ...   \n",
       "\n",
       "                                              timing  \n",
       "0  {'rtime_training': 8.194219430999965, 'ptime_t...  "
      ]
     },
     "execution_count": 10,
     "metadata": {},
     "output_type": "execute_result"
    }
   ],
   "source": [
    "print(\"\\nList the training rounds : \", exp.training_replies().keys())\n",
    "\n",
    "print(\"\\nList the nodes for the last training round and their timings : \")\n",
    "round_data = exp.training_replies()[rounds - 1].data()\n",
    "for c in range(len(round_data)):\n",
    "    print(\"\\t- {id} :\\\n",
    "    \\n\\t\\trtime_training={rtraining:.2f} seconds\\\n",
    "    \\n\\t\\tptime_training={ptraining:.2f} seconds\\\n",
    "    \\n\\t\\trtime_total={rtotal:.2f} seconds\".format(id = round_data[c]['node_id'],\n",
    "        rtraining = round_data[c]['timing']['rtime_training'],\n",
    "        ptraining = round_data[c]['timing']['ptime_training'],\n",
    "        rtotal = round_data[c]['timing']['rtime_total']))\n",
    "print('\\n')\n",
    "    \n",
    "exp.training_replies()[rounds - 1].dataframe()"
   ]
  },
  {
   "cell_type": "markdown",
   "metadata": {},
   "source": [
    "Federated parameters for each round are available via `exp.aggregated_params()` (index 0 to (`rounds` - 1) ).\n",
    "\n",
    "For example you can view the federated parameters for the last round of the experiment :"
   ]
  },
  {
   "cell_type": "code",
   "execution_count": null,
   "metadata": {},
   "outputs": [],
   "source": [
    "print(\"\\nList the training rounds : \", exp.aggregated_params().keys())\n",
    "\n",
    "print(\"\\nAccess the federated params for the last training round :\")\n",
    "print(\"\\t- params_path: \", exp.aggregated_params()[rounds - 1]['params_path'])\n",
    "print(\"\\t- parameter data: \", exp.aggregated_params()[rounds - 1]['params'].keys())\n"
   ]
  },
  {
   "cell_type": "markdown",
   "metadata": {
    "pycharm": {
     "name": "#%% md\n"
    }
   },
   "source": [
    "Feel free to run other sample notebooks or try your own models :D"
   ]
  }
 ],
 "metadata": {
  "kernelspec": {
   "display_name": "Python 3 (ipykernel)",
   "language": "python",
   "name": "python3"
  },
  "language_info": {
   "codemirror_mode": {
    "name": "ipython",
    "version": 3
   },
   "file_extension": ".py",
   "mimetype": "text/x-python",
   "name": "python",
   "nbconvert_exporter": "python",
   "pygments_lexer": "ipython3",
   "version": "3.9.9"
  }
 },
 "nbformat": 4,
 "nbformat_minor": 4
}

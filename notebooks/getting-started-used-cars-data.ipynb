{
 "cells": [
  {
   "cell_type": "markdown",
   "metadata": {},
   "source": [
    "# Data Preprocessing : Download Used Cars Dataset \n",
    "https://www.kaggle.com/adityadesai13/used-car-dataset-ford-and-mercedes"
   ]
  },
  {
   "cell_type": "code",
   "execution_count": null,
   "metadata": {},
   "outputs": [],
   "source": [
    "import pandas as pd"
   ]
  },
  {
   "cell_type": "markdown",
   "metadata": {},
   "source": [
    "# Dataset Details\n",
    "The data consists of used cars listings. 100,000 listings, which have been separated into files corresponding to each car manufacturer. Each file will simulate data for each node."
   ]
  },
  {
   "cell_type": "code",
   "execution_count": null,
   "metadata": {},
   "outputs": [],
   "source": [
    "audi = pd.read_csv(\"___PATH to audi.csv___\")\n",
    "bmw = pd.read_csv(\"___PATH to bmw.csv___\")\n",
    "ford = pd.read_csv(\"___PATH to ford.csv___\")\n",
    "cclass = pd.read_csv(\"___PATH to cclass.csv___\")\n",
    "focus = pd.read_csv(\"___PATH to focus.csv___\")\n",
    "hyundai = pd.read_csv(\"___PATH to huyndai.csv___\")\n",
    "merc = pd.read_csv(\"___PATH to merc.csv___\")\n",
    "skoda = pd.read_csv(\"___PATH to skoda.csv___\")\n",
    "toyata = pd.read_csv(\"___PATH to toyata.csv___\")\n",
    "vauxhall = pd.read_csv(\"___PATH to vauxhall.csv___\")\n",
    "vw = pd.read_csv(\"__PATH to vw.csv___\")"
   ]
  },
  {
   "cell_type": "markdown",
   "metadata": {},
   "source": [
    "Drop columns model & fuelType as labels are not consistent across files. A better solution could be vertical federated learning"
   ]
  },
  {
   "cell_type": "code",
   "execution_count": null,
   "metadata": {},
   "outputs": [],
   "source": [
    "audi.drop(columns = ['model','fuelType'],inplace = True)\n",
    "bmw.drop(columns = ['model','fuelType'],inplace = True)\n",
    "ford.drop(columns = ['model','fuelType'],inplace = True)\n",
    "cclass.drop(columns = ['model','fuelType'],inplace = True)\n",
    "focus.drop(columns = ['model','fuelType'],inplace = True)\n",
    "hyundai.drop(columns = ['model','fuelType'],inplace = True)\n",
    "merc.drop(columns = ['model','fuelType'],inplace = True)\n",
    "skoda.drop(columns = ['model','fuelType'],inplace = True)\n",
    "toyata.drop(columns = ['model','fuelType'],inplace = True)\n",
    "vauxhall.drop(columns = ['model','fuelType'],inplace = True)\n",
    "vw.drop(columns = ['model','fuelType'],inplace = True)"
   ]
  },
  {
   "cell_type": "markdown",
   "metadata": {},
   "source": [
    "# Fedbiomed Researcher to train a model on a Used Cars dataset"
   ]
  },
  {
   "cell_type": "markdown",
   "metadata": {},
   "source": [
    "Use for developing (autoreloads changes made across packages)"
   ]
  },
  {
   "cell_type": "code",
   "execution_count": 1,
   "metadata": {},
   "outputs": [],
   "source": [
    "%load_ext autoreload\n",
    "%autoreload 2"
   ]
  },
  {
   "cell_type": "markdown",
   "metadata": {},
   "source": [
    "## Start the network and setting the client up\n",
    "Before running this notebook, you shoud start the network from fedbiomed-network, as detailed in https://gitlab.inria.fr/fedbiomed/fedbiomed-network\n",
    "Therefore, it is necessary to previously configure a node:\n",
    "Also ensure that you have run data-preprocessing-used-cars-dataset.ipynb notebook to preprocess the used cars dataset\n",
    "1. `./scripts/fedbiomed_run node add`\n",
    "  * Select option 1 to add a csv file to the client\n",
    "  * Choose the name, tags and description of the dataset\n",
    "  * Run the Data Preprcess Used Cars notebook for generating csv files\n",
    "  * Spin as many nodes as you want(max nodes 11 for 11 csv files in used cars dataset). Hold out one file for testing.\n",
    "  * Load the .csv file generated using above mentioned notebook to individual nodes\n",
    "2. Check that your data has been added by executing `./scripts/fedbiomed_run node list`\n",
    "3. Run the node using `./scripts/fedbiomed_run node start`. Wait until you get `Connected with result code 0`. it means you are online."
   ]
  },
  {
   "cell_type": "markdown",
   "metadata": {},
   "source": [
    "## Create an experiment to train a model on the data found"
   ]
  },
  {
   "cell_type": "markdown",
   "metadata": {},
   "source": [
    "Declare a torch.nn MyTrainingPlan class to send for training on the node"
   ]
  },
  {
   "cell_type": "code",
   "execution_count": 2,
   "metadata": {},
   "outputs": [],
   "source": [
    "from fedbiomed.researcher.environ import TMP_DIR\n",
    "import tempfile\n",
    "tmp_dir_model = tempfile.TemporaryDirectory(dir=TMP_DIR+'/')\n",
    "model_file = tmp_dir_model.name + '/class_export_csv.py'"
   ]
  },
  {
   "cell_type": "markdown",
   "metadata": {},
   "source": [
    "Note : write **only** the code to export in the following cell"
   ]
  },
  {
   "cell_type": "code",
   "execution_count": 3,
   "metadata": {},
   "outputs": [
    {
     "name": "stdout",
     "output_type": "stream",
     "text": [
      "Writing /home/fedbiomed/var/tmp/tmpqzvqfnt8/class_export_csv.py\n"
     ]
    }
   ],
   "source": [
    "%%writefile \"$model_file\"\n",
    "\n",
    "import torch\n",
    "import torch.nn as nn\n",
    "from fedbiomed.common.torchnn import TorchTrainingPlan\n",
    "import torch.nn.functional as F\n",
    "from torch.utils.data import Dataset, DataLoader\n",
    "import pandas as pd\n",
    "\n",
    "# Here we define the model to be used. \n",
    "# You can use any class name (here 'MyTrainingPlan')\n",
    "class MyTrainingPlan(TorchTrainingPlan):       \n",
    "    def __init__(self, kwargs):\n",
    "        super(MyTrainingPlan, self).__init__()\n",
    "        # kwargs should match the model arguments to be passed below to the experiment class\n",
    "        self.in_features = kwargs['in_features']\n",
    "        self.out_features = kwargs['out_features']\n",
    "        self.fc1 = nn.Linear(self.in_features, 64)\n",
    "        self.fc2 = nn.Linear(64, 32)\n",
    "        self.fc3 = nn.Linear(32, 16)\n",
    "        self.fc4 = nn.Linear(16, 8)\n",
    "        self.fc5 = nn.Linear(8, 4)\n",
    "        self.fc6 = nn.Linear(4, self.out_features)\n",
    "        \n",
    "        # Here we define the custom dependencies that will be needed by our custom Dataloader\n",
    "        # In this case, we need the torch Dataset and DataLoader classes\n",
    "        # We need pandas to read the local .csv file at the client side\n",
    "        deps = [\"from torch.utils.data import Dataset, DataLoader\",\n",
    "                \"import pandas as pd\"]\n",
    "        self.add_dependency(deps)\n",
    "\n",
    "    def forward(self, x):\n",
    "        x = self.fc1(x)\n",
    "        x = F.relu(x)\n",
    "        x = self.fc2(x)\n",
    "        x = F.relu(x)\n",
    "        x = self.fc3(x)\n",
    "        x = F.relu(x)\n",
    "        x = self.fc4(x)\n",
    "        x = F.relu(x)\n",
    "        x = self.fc5(x)\n",
    "        x = F.relu(x)\n",
    "        x = self.fc6(x)\n",
    "        return x\n",
    "\n",
    "    def training_step(self, data, target):\n",
    "        output = self.forward(data).float()\n",
    "        criterion = torch.nn.MSELoss()\n",
    "        loss   = torch.sqrt(criterion(output, target.unsqueeze(1)))\n",
    "        return loss\n",
    "\n",
    "    class csv_Dataset(Dataset):\n",
    "    # Here we define a custom Dataset class inherited from the general torch Dataset class\n",
    "    # This class takes as argument a .csv file path and creates a torch Dataset \n",
    "        def __init__(self, dataset_path, x_dim):\n",
    "            self.input_file = pd.read_csv(dataset_path,sep=',',index_col=False)\n",
    "            x_train = self.input_file.loc[:,('year','transmission','mileage','tax','mpg','engineSize')].values\n",
    "            y_train = self.input_file.loc[:,'price'].values\n",
    "            self.X_train = torch.from_numpy(x_train).float()\n",
    "            self.Y_train = torch.from_numpy(y_train).float()\n",
    "\n",
    "        def __len__(self):            \n",
    "            return len(self.Y_train)\n",
    "\n",
    "        def __getitem__(self, idx):\n",
    "\n",
    "            return (self.X_train[idx], self.Y_train[idx])\n",
    "        \n",
    "    def training_data(self,  batch_size = 48):\n",
    "    # The training_data creates the Dataloader to be used for training in the general class TorchTrainingPlan of fedbiomed\n",
    "        dataset = self.csv_Dataset(self.dataset_path, self.in_features)\n",
    "        train_kwargs = {'batch_size': batch_size, 'shuffle': True}\n",
    "        data_loader = DataLoader(dataset, **train_kwargs)\n",
    "        return data_loader"
   ]
  },
  {
   "cell_type": "code",
   "execution_count": 4,
   "metadata": {
    "pycharm": {
     "name": "#%%\n"
    }
   },
   "outputs": [],
   "source": [
    "# model parameters \n",
    "model_args = {\n",
    "    'in_features': 6, \n",
    "    'out_features': 1\n",
    "}\n",
    "\n",
    "# training parameters \n",
    "training_args = {\n",
    "    'batch_size': 20, \n",
    "    'lr': 1e-3, \n",
    "    'epochs': 10, \n",
    "    'dry_run': False,  \n",
    "    #'batch_maxnum': 100 # Fast pass for development : only use ( batch_maxnum * batch_size ) samples\n",
    "}"
   ]
  },
  {
   "cell_type": "markdown",
   "metadata": {},
   "source": [
    "Define an experiment\n",
    "- search nodes serving data for these `tags`, optionally filter on a list of client ID with `clients`\n",
    "- run a round of local training on nodes with model defined in `model_path` + federation with `aggregator`\n",
    "- run for `rounds` rounds, applying the `client_selection_strategy` between the rounds"
   ]
  },
  {
   "cell_type": "code",
   "execution_count": 5,
   "metadata": {
    "pycharm": {
     "name": "#%%\n"
    },
    "scrolled": true
   },
   "outputs": [
    {
     "name": "stdout",
     "output_type": "stream",
     "text": [
      "Messaging researcher_482350d3-a296-42f1-8f84-66c8c12dcd9d connected with result code 0\n",
      "Searching for clients with data tags: ['UsedCars'] ...\n",
      "2021-09-03 07:00:54.504172 [ RESEARCHER ] message received. {'researcher_id': 'researcher_482350d3-a296-42f1-8f84-66c8c12dcd9d', 'success': True, 'databases': [{'name': 'temp', 'data_type': 'csv', 'tags': ['UsedCars'], 'description': 'temp', 'shape': [10668, 6], 'dataset_id': 'dataset_87a505c6-48a6-40a4-bdf6-d7a178daf7f7'}], 'count': 1, 'client_id': 'client_5c0bb3c3-adb2-4fe8-9ed1-00c64110c8e5', 'command': 'search'}\n",
      "2021-09-03 07:00:54.542004 [ RESEARCHER ] message received. {'researcher_id': 'researcher_482350d3-a296-42f1-8f84-66c8c12dcd9d', 'success': True, 'databases': [{'name': 'temp', 'data_type': 'csv', 'tags': ['UsedCars'], 'description': 'temp', 'shape': [10781, 6], 'dataset_id': 'dataset_ec752b95-24fc-4106-bacd-70dc5b665b4a'}], 'count': 1, 'client_id': 'client_9335c64d-df9b-4a9e-b9c7-f262369cb07a', 'command': 'search'}\n"
     ]
    }
   ],
   "source": [
    "from fedbiomed.researcher.experiment import Experiment\n",
    "from fedbiomed.researcher.aggregators.fedavg import FedAverage\n",
    "\n",
    "# Calling the training data with specified tags. Change the following tag accordingly\n",
    "tags =  ['UsedCars']\n",
    "rounds = 5\n",
    "\n",
    "exp = Experiment(tags=tags,\n",
    "                 #clients=None,\n",
    "                 model_path=model_file,\n",
    "                 model_class='MyTrainingPlan',\n",
    "                 model_args=model_args,\n",
    "                 training_args=training_args,\n",
    "                 rounds=rounds,\n",
    "                 aggregator=FedAverage(),\n",
    "                 client_selection_strategy=None)"
   ]
  },
  {
   "cell_type": "markdown",
   "metadata": {
    "pycharm": {
     "name": "#%% md\n"
    }
   },
   "source": [
    "Let's start the experiment.\n",
    "\n",
    "By default, this function doesn't stop until all the `rounds` are done for all the clients"
   ]
  },
  {
   "cell_type": "code",
   "execution_count": 6,
   "metadata": {
    "pycharm": {
     "name": "#%%\n"
    },
    "scrolled": true
   },
   "outputs": [
    {
     "name": "stdout",
     "output_type": "stream",
     "text": [
      "Sampled clients in round  0   ['client_5c0bb3c3-adb2-4fe8-9ed1-00c64110c8e5', 'client_9335c64d-df9b-4a9e-b9c7-f262369cb07a']\n",
      "[ RESEARCHER ] Send message to client  client_5c0bb3c3-adb2-4fe8-9ed1-00c64110c8e5 {'researcher_id': 'researcher_482350d3-a296-42f1-8f84-66c8c12dcd9d', 'job_id': 'c3fb2c54-5f75-43c0-b93f-ea3c620fcad0', 'training_args': {'batch_size': 20, 'lr': 0.001, 'epochs': 10, 'dry_run': False}, 'model_args': {'in_features': 6, 'out_features': 1}, 'command': 'train', 'model_url': 'http://localhost:8844/media/uploads/2021/09/03/my_model_tP1OyDI.py', 'params_url': 'http://localhost:8844/media/uploads/2021/09/03/my_model_mO38dIx.pt', 'model_class': 'MyTrainingPlan', 'training_data': {'client_5c0bb3c3-adb2-4fe8-9ed1-00c64110c8e5': ['dataset_87a505c6-48a6-40a4-bdf6-d7a178daf7f7']}}\n",
      "researcher_482350d3-a296-42f1-8f84-66c8c12dcd9d\n",
      "[ RESEARCHER ] Send message to client  client_9335c64d-df9b-4a9e-b9c7-f262369cb07a {'researcher_id': 'researcher_482350d3-a296-42f1-8f84-66c8c12dcd9d', 'job_id': 'c3fb2c54-5f75-43c0-b93f-ea3c620fcad0', 'training_args': {'batch_size': 20, 'lr': 0.001, 'epochs': 10, 'dry_run': False}, 'model_args': {'in_features': 6, 'out_features': 1}, 'command': 'train', 'model_url': 'http://localhost:8844/media/uploads/2021/09/03/my_model_tP1OyDI.py', 'params_url': 'http://localhost:8844/media/uploads/2021/09/03/my_model_mO38dIx.pt', 'model_class': 'MyTrainingPlan', 'training_data': {'client_9335c64d-df9b-4a9e-b9c7-f262369cb07a': ['dataset_ec752b95-24fc-4106-bacd-70dc5b665b4a']}}\n",
      "researcher_482350d3-a296-42f1-8f84-66c8c12dcd9d\n",
      "2021-09-03 07:01:30.195632 [ RESEARCHER ] message received. {'researcher_id': 'researcher_482350d3-a296-42f1-8f84-66c8c12dcd9d', 'job_id': 'c3fb2c54-5f75-43c0-b93f-ea3c620fcad0', 'success': True, 'client_id': 'client_5c0bb3c3-adb2-4fe8-9ed1-00c64110c8e5', 'dataset_id': 'dataset_87a505c6-48a6-40a4-bdf6-d7a178daf7f7', 'params_url': 'http://localhost:8844/media/uploads/2021/09/03/node_params_725e63ae-2742-4f35-bb03-50dc471169ca.pt', 'timing': {'rtime_training': 9.520508000001428, 'ptime_training': 9.573363400000005}, 'msg': '', 'command': 'train'}\n",
      "2021-09-03 07:01:30.436011 [ RESEARCHER ] message received. {'researcher_id': 'researcher_482350d3-a296-42f1-8f84-66c8c12dcd9d', 'job_id': 'c3fb2c54-5f75-43c0-b93f-ea3c620fcad0', 'success': True, 'client_id': 'client_9335c64d-df9b-4a9e-b9c7-f262369cb07a', 'dataset_id': 'dataset_ec752b95-24fc-4106-bacd-70dc5b665b4a', 'params_url': 'http://localhost:8844/media/uploads/2021/09/03/node_params_2954addc-2624-442d-84b6-b632239dc145.pt', 'timing': {'rtime_training': 9.750604699998803, 'ptime_training': 9.803634200000005}, 'msg': '', 'command': 'train'}\n",
      "Downloading model params after training on  client_5c0bb3c3-adb2-4fe8-9ed1-00c64110c8e5 \n",
      "\t- from http://localhost:8844/media/uploads/2021/09/03/node_params_725e63ae-2742-4f35-bb03-50dc471169ca.pt\n",
      "Downloading model params after training on  client_9335c64d-df9b-4a9e-b9c7-f262369cb07a \n",
      "\t- from http://localhost:8844/media/uploads/2021/09/03/node_params_2954addc-2624-442d-84b6-b632239dc145.pt\n",
      "Clients that successfully reply in round  0   ['client_5c0bb3c3-adb2-4fe8-9ed1-00c64110c8e5', 'client_9335c64d-df9b-4a9e-b9c7-f262369cb07a']\n",
      "Sampled clients in round  1   ['client_5c0bb3c3-adb2-4fe8-9ed1-00c64110c8e5', 'client_9335c64d-df9b-4a9e-b9c7-f262369cb07a']\n",
      "[ RESEARCHER ] Send message to client  client_5c0bb3c3-adb2-4fe8-9ed1-00c64110c8e5 {'researcher_id': 'researcher_482350d3-a296-42f1-8f84-66c8c12dcd9d', 'job_id': 'c3fb2c54-5f75-43c0-b93f-ea3c620fcad0', 'training_args': {'batch_size': 20, 'lr': 0.001, 'epochs': 10, 'dry_run': False}, 'model_args': {'in_features': 6, 'out_features': 1}, 'command': 'train', 'model_url': 'http://localhost:8844/media/uploads/2021/09/03/my_model_tP1OyDI.py', 'params_url': 'http://localhost:8844/media/uploads/2021/09/03/researcher_params_ea83b0f0-1de0-44c1-95cf-1d332673f86d.pt', 'model_class': 'MyTrainingPlan', 'training_data': {'client_5c0bb3c3-adb2-4fe8-9ed1-00c64110c8e5': ['dataset_87a505c6-48a6-40a4-bdf6-d7a178daf7f7']}}\n",
      "researcher_482350d3-a296-42f1-8f84-66c8c12dcd9d\n",
      "[ RESEARCHER ] Send message to client  client_9335c64d-df9b-4a9e-b9c7-f262369cb07a {'researcher_id': 'researcher_482350d3-a296-42f1-8f84-66c8c12dcd9d', 'job_id': 'c3fb2c54-5f75-43c0-b93f-ea3c620fcad0', 'training_args': {'batch_size': 20, 'lr': 0.001, 'epochs': 10, 'dry_run': False}, 'model_args': {'in_features': 6, 'out_features': 1}, 'command': 'train', 'model_url': 'http://localhost:8844/media/uploads/2021/09/03/my_model_tP1OyDI.py', 'params_url': 'http://localhost:8844/media/uploads/2021/09/03/researcher_params_ea83b0f0-1de0-44c1-95cf-1d332673f86d.pt', 'model_class': 'MyTrainingPlan', 'training_data': {'client_9335c64d-df9b-4a9e-b9c7-f262369cb07a': ['dataset_ec752b95-24fc-4106-bacd-70dc5b665b4a']}}\n",
      "researcher_482350d3-a296-42f1-8f84-66c8c12dcd9d\n",
      "2021-09-03 07:02:03.945230 [ RESEARCHER ] message received. {'researcher_id': 'researcher_482350d3-a296-42f1-8f84-66c8c12dcd9d', 'job_id': 'c3fb2c54-5f75-43c0-b93f-ea3c620fcad0', 'success': True, 'client_id': 'client_5c0bb3c3-adb2-4fe8-9ed1-00c64110c8e5', 'dataset_id': 'dataset_87a505c6-48a6-40a4-bdf6-d7a178daf7f7', 'params_url': 'http://localhost:8844/media/uploads/2021/09/03/node_params_f0c666ac-83f7-4fbb-a317-53974939c5ce.pt', 'timing': {'rtime_training': 12.171690499999386, 'ptime_training': 12.2349332}, 'msg': '', 'command': 'train'}\n",
      "2021-09-03 07:02:05.457945 [ RESEARCHER ] message received. {'researcher_id': 'researcher_482350d3-a296-42f1-8f84-66c8c12dcd9d', 'job_id': 'c3fb2c54-5f75-43c0-b93f-ea3c620fcad0', 'success': True, 'client_id': 'client_9335c64d-df9b-4a9e-b9c7-f262369cb07a', 'dataset_id': 'dataset_ec752b95-24fc-4106-bacd-70dc5b665b4a', 'params_url': 'http://localhost:8844/media/uploads/2021/09/03/node_params_2ec58b9b-e383-4380-9920-e1d7b2023d49.pt', 'timing': {'rtime_training': 12.558685000003607, 'ptime_training': 12.620626999999999}, 'msg': '', 'command': 'train'}\n",
      "Downloading model params after training on  client_5c0bb3c3-adb2-4fe8-9ed1-00c64110c8e5 \n",
      "\t- from http://localhost:8844/media/uploads/2021/09/03/node_params_f0c666ac-83f7-4fbb-a317-53974939c5ce.pt\n",
      "Downloading model params after training on  client_9335c64d-df9b-4a9e-b9c7-f262369cb07a \n",
      "\t- from http://localhost:8844/media/uploads/2021/09/03/node_params_2ec58b9b-e383-4380-9920-e1d7b2023d49.pt\n",
      "Clients that successfully reply in round  1   ['client_5c0bb3c3-adb2-4fe8-9ed1-00c64110c8e5', 'client_9335c64d-df9b-4a9e-b9c7-f262369cb07a']\n",
      "Sampled clients in round  2   ['client_5c0bb3c3-adb2-4fe8-9ed1-00c64110c8e5', 'client_9335c64d-df9b-4a9e-b9c7-f262369cb07a']\n",
      "[ RESEARCHER ] Send message to client  client_5c0bb3c3-adb2-4fe8-9ed1-00c64110c8e5 {'researcher_id': 'researcher_482350d3-a296-42f1-8f84-66c8c12dcd9d', 'job_id': 'c3fb2c54-5f75-43c0-b93f-ea3c620fcad0', 'training_args': {'batch_size': 20, 'lr': 0.001, 'epochs': 10, 'dry_run': False}, 'model_args': {'in_features': 6, 'out_features': 1}, 'command': 'train', 'model_url': 'http://localhost:8844/media/uploads/2021/09/03/my_model_tP1OyDI.py', 'params_url': 'http://localhost:8844/media/uploads/2021/09/03/researcher_params_b13c2e29-79aa-4f4a-b9db-37fad789759b.pt', 'model_class': 'MyTrainingPlan', 'training_data': {'client_5c0bb3c3-adb2-4fe8-9ed1-00c64110c8e5': ['dataset_87a505c6-48a6-40a4-bdf6-d7a178daf7f7']}}\n",
      "researcher_482350d3-a296-42f1-8f84-66c8c12dcd9d\n",
      "[ RESEARCHER ] Send message to client  client_9335c64d-df9b-4a9e-b9c7-f262369cb07a {'researcher_id': 'researcher_482350d3-a296-42f1-8f84-66c8c12dcd9d', 'job_id': 'c3fb2c54-5f75-43c0-b93f-ea3c620fcad0', 'training_args': {'batch_size': 20, 'lr': 0.001, 'epochs': 10, 'dry_run': False}, 'model_args': {'in_features': 6, 'out_features': 1}, 'command': 'train', 'model_url': 'http://localhost:8844/media/uploads/2021/09/03/my_model_tP1OyDI.py', 'params_url': 'http://localhost:8844/media/uploads/2021/09/03/researcher_params_b13c2e29-79aa-4f4a-b9db-37fad789759b.pt', 'model_class': 'MyTrainingPlan', 'training_data': {'client_9335c64d-df9b-4a9e-b9c7-f262369cb07a': ['dataset_ec752b95-24fc-4106-bacd-70dc5b665b4a']}}\n",
      "researcher_482350d3-a296-42f1-8f84-66c8c12dcd9d\n",
      "2021-09-03 07:02:37.913557 [ RESEARCHER ] message received. {'researcher_id': 'researcher_482350d3-a296-42f1-8f84-66c8c12dcd9d', 'job_id': 'c3fb2c54-5f75-43c0-b93f-ea3c620fcad0', 'success': True, 'client_id': 'client_9335c64d-df9b-4a9e-b9c7-f262369cb07a', 'dataset_id': 'dataset_ec752b95-24fc-4106-bacd-70dc5b665b4a', 'params_url': 'http://localhost:8844/media/uploads/2021/09/03/node_params_423bf1d6-c6c4-4610-932f-e8c6710f9384.pt', 'timing': {'rtime_training': 10.014772299997276, 'ptime_training': 10.068843099999995}, 'msg': '', 'command': 'train'}\n"
     ]
    },
    {
     "name": "stdout",
     "output_type": "stream",
     "text": [
      "2021-09-03 07:02:40.414120 [ RESEARCHER ] message received. {'researcher_id': 'researcher_482350d3-a296-42f1-8f84-66c8c12dcd9d', 'job_id': 'c3fb2c54-5f75-43c0-b93f-ea3c620fcad0', 'success': True, 'client_id': 'client_5c0bb3c3-adb2-4fe8-9ed1-00c64110c8e5', 'dataset_id': 'dataset_87a505c6-48a6-40a4-bdf6-d7a178daf7f7', 'params_url': 'http://localhost:8844/media/uploads/2021/09/03/node_params_110bd5f7-e7f9-4124-a85c-ebf21a8d643d.pt', 'timing': {'rtime_training': 9.53348030000052, 'ptime_training': 9.593045499999988}, 'msg': '', 'command': 'train'}\n",
      "Downloading model params after training on  client_9335c64d-df9b-4a9e-b9c7-f262369cb07a \n",
      "\t- from http://localhost:8844/media/uploads/2021/09/03/node_params_423bf1d6-c6c4-4610-932f-e8c6710f9384.pt\n",
      "Downloading model params after training on  client_5c0bb3c3-adb2-4fe8-9ed1-00c64110c8e5 \n",
      "\t- from http://localhost:8844/media/uploads/2021/09/03/node_params_110bd5f7-e7f9-4124-a85c-ebf21a8d643d.pt\n",
      "Clients that successfully reply in round  2   ['client_9335c64d-df9b-4a9e-b9c7-f262369cb07a', 'client_5c0bb3c3-adb2-4fe8-9ed1-00c64110c8e5']\n",
      "Sampled clients in round  3   ['client_5c0bb3c3-adb2-4fe8-9ed1-00c64110c8e5', 'client_9335c64d-df9b-4a9e-b9c7-f262369cb07a']\n",
      "[ RESEARCHER ] Send message to client  client_5c0bb3c3-adb2-4fe8-9ed1-00c64110c8e5 {'researcher_id': 'researcher_482350d3-a296-42f1-8f84-66c8c12dcd9d', 'job_id': 'c3fb2c54-5f75-43c0-b93f-ea3c620fcad0', 'training_args': {'batch_size': 20, 'lr': 0.001, 'epochs': 10, 'dry_run': False}, 'model_args': {'in_features': 6, 'out_features': 1}, 'command': 'train', 'model_url': 'http://localhost:8844/media/uploads/2021/09/03/my_model_tP1OyDI.py', 'params_url': 'http://localhost:8844/media/uploads/2021/09/03/researcher_params_4ddcb29b-94d7-4dac-a708-e5300464b737.pt', 'model_class': 'MyTrainingPlan', 'training_data': {'client_5c0bb3c3-adb2-4fe8-9ed1-00c64110c8e5': ['dataset_87a505c6-48a6-40a4-bdf6-d7a178daf7f7']}}\n",
      "researcher_482350d3-a296-42f1-8f84-66c8c12dcd9d\n",
      "[ RESEARCHER ] Send message to client  client_9335c64d-df9b-4a9e-b9c7-f262369cb07a {'researcher_id': 'researcher_482350d3-a296-42f1-8f84-66c8c12dcd9d', 'job_id': 'c3fb2c54-5f75-43c0-b93f-ea3c620fcad0', 'training_args': {'batch_size': 20, 'lr': 0.001, 'epochs': 10, 'dry_run': False}, 'model_args': {'in_features': 6, 'out_features': 1}, 'command': 'train', 'model_url': 'http://localhost:8844/media/uploads/2021/09/03/my_model_tP1OyDI.py', 'params_url': 'http://localhost:8844/media/uploads/2021/09/03/researcher_params_4ddcb29b-94d7-4dac-a708-e5300464b737.pt', 'model_class': 'MyTrainingPlan', 'training_data': {'client_9335c64d-df9b-4a9e-b9c7-f262369cb07a': ['dataset_ec752b95-24fc-4106-bacd-70dc5b665b4a']}}\n",
      "researcher_482350d3-a296-42f1-8f84-66c8c12dcd9d\n",
      "2021-09-03 07:03:08.369421 [ RESEARCHER ] message received. {'researcher_id': 'researcher_482350d3-a296-42f1-8f84-66c8c12dcd9d', 'job_id': 'c3fb2c54-5f75-43c0-b93f-ea3c620fcad0', 'success': True, 'client_id': 'client_5c0bb3c3-adb2-4fe8-9ed1-00c64110c8e5', 'dataset_id': 'dataset_87a505c6-48a6-40a4-bdf6-d7a178daf7f7', 'params_url': 'http://localhost:8844/media/uploads/2021/09/03/node_params_1b7830ee-feda-414d-b77c-29411cc22d34.pt', 'timing': {'rtime_training': 9.420142499999201, 'ptime_training': 9.470592300000007}, 'msg': '', 'command': 'train'}\n",
      "2021-09-03 07:03:13.725524 [ RESEARCHER ] message received. {'researcher_id': 'researcher_482350d3-a296-42f1-8f84-66c8c12dcd9d', 'job_id': 'c3fb2c54-5f75-43c0-b93f-ea3c620fcad0', 'success': True, 'client_id': 'client_9335c64d-df9b-4a9e-b9c7-f262369cb07a', 'dataset_id': 'dataset_ec752b95-24fc-4106-bacd-70dc5b665b4a', 'params_url': 'http://localhost:8844/media/uploads/2021/09/03/node_params_fdf80df1-2399-41a0-b292-dcfeca957911.pt', 'timing': {'rtime_training': 12.677779700003157, 'ptime_training': 12.739203500000002}, 'msg': '', 'command': 'train'}\n",
      "Downloading model params after training on  client_5c0bb3c3-adb2-4fe8-9ed1-00c64110c8e5 \n",
      "\t- from http://localhost:8844/media/uploads/2021/09/03/node_params_1b7830ee-feda-414d-b77c-29411cc22d34.pt\n",
      "Downloading model params after training on  client_9335c64d-df9b-4a9e-b9c7-f262369cb07a \n",
      "\t- from http://localhost:8844/media/uploads/2021/09/03/node_params_fdf80df1-2399-41a0-b292-dcfeca957911.pt\n",
      "Clients that successfully reply in round  3   ['client_5c0bb3c3-adb2-4fe8-9ed1-00c64110c8e5', 'client_9335c64d-df9b-4a9e-b9c7-f262369cb07a']\n",
      "Sampled clients in round  4   ['client_5c0bb3c3-adb2-4fe8-9ed1-00c64110c8e5', 'client_9335c64d-df9b-4a9e-b9c7-f262369cb07a']\n",
      "[ RESEARCHER ] Send message to client  client_5c0bb3c3-adb2-4fe8-9ed1-00c64110c8e5 {'researcher_id': 'researcher_482350d3-a296-42f1-8f84-66c8c12dcd9d', 'job_id': 'c3fb2c54-5f75-43c0-b93f-ea3c620fcad0', 'training_args': {'batch_size': 20, 'lr': 0.001, 'epochs': 10, 'dry_run': False}, 'model_args': {'in_features': 6, 'out_features': 1}, 'command': 'train', 'model_url': 'http://localhost:8844/media/uploads/2021/09/03/my_model_tP1OyDI.py', 'params_url': 'http://localhost:8844/media/uploads/2021/09/03/researcher_params_923db485-4900-42f2-991c-46df87fd44e1.pt', 'model_class': 'MyTrainingPlan', 'training_data': {'client_5c0bb3c3-adb2-4fe8-9ed1-00c64110c8e5': ['dataset_87a505c6-48a6-40a4-bdf6-d7a178daf7f7']}}\n",
      "researcher_482350d3-a296-42f1-8f84-66c8c12dcd9d\n",
      "[ RESEARCHER ] Send message to client  client_9335c64d-df9b-4a9e-b9c7-f262369cb07a {'researcher_id': 'researcher_482350d3-a296-42f1-8f84-66c8c12dcd9d', 'job_id': 'c3fb2c54-5f75-43c0-b93f-ea3c620fcad0', 'training_args': {'batch_size': 20, 'lr': 0.001, 'epochs': 10, 'dry_run': False}, 'model_args': {'in_features': 6, 'out_features': 1}, 'command': 'train', 'model_url': 'http://localhost:8844/media/uploads/2021/09/03/my_model_tP1OyDI.py', 'params_url': 'http://localhost:8844/media/uploads/2021/09/03/researcher_params_923db485-4900-42f2-991c-46df87fd44e1.pt', 'model_class': 'MyTrainingPlan', 'training_data': {'client_9335c64d-df9b-4a9e-b9c7-f262369cb07a': ['dataset_ec752b95-24fc-4106-bacd-70dc5b665b4a']}}\n",
      "researcher_482350d3-a296-42f1-8f84-66c8c12dcd9d\n",
      "2021-09-03 07:03:43.672050 [ RESEARCHER ] message received. {'researcher_id': 'researcher_482350d3-a296-42f1-8f84-66c8c12dcd9d', 'job_id': 'c3fb2c54-5f75-43c0-b93f-ea3c620fcad0', 'success': True, 'client_id': 'client_5c0bb3c3-adb2-4fe8-9ed1-00c64110c8e5', 'dataset_id': 'dataset_87a505c6-48a6-40a4-bdf6-d7a178daf7f7', 'params_url': 'http://localhost:8844/media/uploads/2021/09/03/node_params_58b6ae7e-80dc-41c2-a047-29890fd47027.pt', 'timing': {'rtime_training': 8.515194999999949, 'ptime_training': 8.567722299999986}, 'msg': '', 'command': 'train'}\n",
      "2021-09-03 07:03:48.732208 [ RESEARCHER ] message received. {'researcher_id': 'researcher_482350d3-a296-42f1-8f84-66c8c12dcd9d', 'job_id': 'c3fb2c54-5f75-43c0-b93f-ea3c620fcad0', 'success': True, 'client_id': 'client_9335c64d-df9b-4a9e-b9c7-f262369cb07a', 'dataset_id': 'dataset_ec752b95-24fc-4106-bacd-70dc5b665b4a', 'params_url': 'http://localhost:8844/media/uploads/2021/09/03/node_params_5ea97bab-c946-40bb-b84e-543a208bb7bb.pt', 'timing': {'rtime_training': 9.602519799998845, 'ptime_training': 9.657537900000008}, 'msg': '', 'command': 'train'}\n",
      "Downloading model params after training on  client_5c0bb3c3-adb2-4fe8-9ed1-00c64110c8e5 \n",
      "\t- from http://localhost:8844/media/uploads/2021/09/03/node_params_58b6ae7e-80dc-41c2-a047-29890fd47027.pt\n",
      "Downloading model params after training on  client_9335c64d-df9b-4a9e-b9c7-f262369cb07a \n",
      "\t- from http://localhost:8844/media/uploads/2021/09/03/node_params_5ea97bab-c946-40bb-b84e-543a208bb7bb.pt\n",
      "Clients that successfully reply in round  4   ['client_5c0bb3c3-adb2-4fe8-9ed1-00c64110c8e5', 'client_9335c64d-df9b-4a9e-b9c7-f262369cb07a']\n"
     ]
    }
   ],
   "source": [
    "exp.run()"
   ]
  },
  {
   "cell_type": "markdown",
   "metadata": {},
   "source": [
    "Local training results for each round and each node are available in `exp.training_replies` (index 0 to (`rounds` - 1) ).\n",
    "\n",
    "For example you can view the training results for the last round below.\n",
    "\n",
    "Different timings (in seconds) are reported for each dataset of a node participating in a round :\n",
    "- `rtime_training` real time (clock time) spent in the training function on the node\n",
    "- `ptime_training` process time (user and system CPU) spent in the training function on the node\n",
    "- `rtime_total` real time (clock time) spent in the researcher between sending the request and handling the response, at the `Job()` layer"
   ]
  },
  {
   "cell_type": "code",
   "execution_count": 7,
   "metadata": {
    "pycharm": {
     "name": "#%%\n"
    },
    "scrolled": true
   },
   "outputs": [
    {
     "name": "stdout",
     "output_type": "stream",
     "text": [
      "\n",
      "List the training rounds :  dict_keys([0, 1, 2, 3, 4])\n",
      "\n",
      "List the clients for the last training round and their timings : \n",
      "\t- client_5c0bb3c3-adb2-4fe8-9ed1-00c64110c8e5 :    \n",
      "\t\trtime_training=8.52 seconds    \n",
      "\t\tptime_training=8.57 seconds    \n",
      "\t\trtime_total=25.03 seconds\n",
      "\t- client_9335c64d-df9b-4a9e-b9c7-f262369cb07a :    \n",
      "\t\trtime_training=9.60 seconds    \n",
      "\t\tptime_training=9.66 seconds    \n",
      "\t\trtime_total=26.04 seconds\n",
      "\n",
      "\n"
     ]
    },
    {
     "data": {
      "text/html": [
       "<div>\n",
       "<style scoped>\n",
       "    .dataframe tbody tr th:only-of-type {\n",
       "        vertical-align: middle;\n",
       "    }\n",
       "\n",
       "    .dataframe tbody tr th {\n",
       "        vertical-align: top;\n",
       "    }\n",
       "\n",
       "    .dataframe thead th {\n",
       "        text-align: right;\n",
       "    }\n",
       "</style>\n",
       "<table border=\"1\" class=\"dataframe\">\n",
       "  <thead>\n",
       "    <tr style=\"text-align: right;\">\n",
       "      <th></th>\n",
       "      <th>success</th>\n",
       "      <th>msg</th>\n",
       "      <th>dataset_id</th>\n",
       "      <th>client_id</th>\n",
       "      <th>params_path</th>\n",
       "      <th>params</th>\n",
       "      <th>timing</th>\n",
       "    </tr>\n",
       "  </thead>\n",
       "  <tbody>\n",
       "    <tr>\n",
       "      <th>0</th>\n",
       "      <td>True</td>\n",
       "      <td></td>\n",
       "      <td>dataset_87a505c6-48a6-40a4-bdf6-d7a178daf7f7</td>\n",
       "      <td>client_5c0bb3c3-adb2-4fe8-9ed1-00c64110c8e5</td>\n",
       "      <td>/home/fedbiomed/var/tmp/my_model_e37770e1-e111...</td>\n",
       "      <td>{'fc1.weight': [[tensor(-0.1343), tensor(0.021...</td>\n",
       "      <td>{'rtime_training': 8.515194999999949, 'ptime_t...</td>\n",
       "    </tr>\n",
       "    <tr>\n",
       "      <th>1</th>\n",
       "      <td>True</td>\n",
       "      <td></td>\n",
       "      <td>dataset_ec752b95-24fc-4106-bacd-70dc5b665b4a</td>\n",
       "      <td>client_9335c64d-df9b-4a9e-b9c7-f262369cb07a</td>\n",
       "      <td>/home/fedbiomed/var/tmp/my_model_4fb6bbc3-b413...</td>\n",
       "      <td>{'fc1.weight': [[tensor(-0.1343), tensor(0.021...</td>\n",
       "      <td>{'rtime_training': 9.602519799998845, 'ptime_t...</td>\n",
       "    </tr>\n",
       "  </tbody>\n",
       "</table>\n",
       "</div>"
      ],
      "text/plain": [
       "   success msg                                    dataset_id  \\\n",
       "0     True      dataset_87a505c6-48a6-40a4-bdf6-d7a178daf7f7   \n",
       "1     True      dataset_ec752b95-24fc-4106-bacd-70dc5b665b4a   \n",
       "\n",
       "                                     client_id  \\\n",
       "0  client_5c0bb3c3-adb2-4fe8-9ed1-00c64110c8e5   \n",
       "1  client_9335c64d-df9b-4a9e-b9c7-f262369cb07a   \n",
       "\n",
       "                                         params_path  \\\n",
       "0  /home/fedbiomed/var/tmp/my_model_e37770e1-e111...   \n",
       "1  /home/fedbiomed/var/tmp/my_model_4fb6bbc3-b413...   \n",
       "\n",
       "                                              params  \\\n",
       "0  {'fc1.weight': [[tensor(-0.1343), tensor(0.021...   \n",
       "1  {'fc1.weight': [[tensor(-0.1343), tensor(0.021...   \n",
       "\n",
       "                                              timing  \n",
       "0  {'rtime_training': 8.515194999999949, 'ptime_t...  \n",
       "1  {'rtime_training': 9.602519799998845, 'ptime_t...  "
      ]
     },
     "execution_count": 7,
     "metadata": {},
     "output_type": "execute_result"
    }
   ],
   "source": [
    "print(\"\\nList the training rounds : \", exp.training_replies.keys())\n",
    "\n",
    "print(\"\\nList the clients for the last training round and their timings : \")\n",
    "round_data = exp.training_replies[rounds - 1].data\n",
    "for c in range(len(round_data)):\n",
    "    print(\"\\t- {id} :\\\n",
    "    \\n\\t\\trtime_training={rtraining:.2f} seconds\\\n",
    "    \\n\\t\\tptime_training={ptraining:.2f} seconds\\\n",
    "    \\n\\t\\trtime_total={rtotal:.2f} seconds\".format(id = round_data[c]['client_id'],\n",
    "        rtraining = round_data[c]['timing']['rtime_training'],\n",
    "        ptraining = round_data[c]['timing']['ptime_training'],\n",
    "        rtotal = round_data[c]['timing']['rtime_total']))\n",
    "print('\\n')\n",
    "    \n",
    "exp.training_replies[rounds - 1].dataframe"
   ]
  },
  {
   "cell_type": "markdown",
   "metadata": {},
   "source": [
    "Federated parameters for each round are available in `exp.aggregated_params` (index 0 to (`rounds` - 1) ).\n",
    "\n",
    "For example you can view the federated parameters for the last round of the experiment :"
   ]
  },
  {
   "cell_type": "code",
   "execution_count": 8,
   "metadata": {},
   "outputs": [
    {
     "name": "stdout",
     "output_type": "stream",
     "text": [
      "\n",
      "List the training rounds :  dict_keys([0, 1, 2, 3, 4])\n",
      "\n",
      "Access the federated params for the last training round :\n",
      "\t- params_path:  /home/fedbiomed/var/tmp/researcher_params_e2687e7e-375c-471b-9d3a-21d6e6d978bd.pt\n",
      "\t- parameter data:  odict_keys(['fc1.weight', 'fc1.bias', 'fc2.weight', 'fc2.bias', 'fc3.weight', 'fc3.bias', 'fc4.weight', 'fc4.bias', 'fc5.weight', 'fc5.bias', 'fc6.weight', 'fc6.bias'])\n"
     ]
    }
   ],
   "source": [
    "print(\"\\nList the training rounds : \", exp.aggregated_params.keys())\n",
    "\n",
    "print(\"\\nAccess the federated params for the last training round :\")\n",
    "print(\"\\t- params_path: \", exp.aggregated_params[rounds - 1]['params_path'])\n",
    "print(\"\\t- parameter data: \", exp.aggregated_params[rounds - 1]['params'].keys())\n"
   ]
  },
  {
   "cell_type": "markdown",
   "metadata": {},
   "source": [
    "# Test Function"
   ]
  },
  {
   "cell_type": "code",
   "execution_count": 9,
   "metadata": {},
   "outputs": [
    {
     "data": {
      "text/plain": [
       "<All keys matched successfully>"
      ]
     },
     "execution_count": 9,
     "metadata": {},
     "output_type": "execute_result"
    }
   ],
   "source": [
    "fed_model = exp.model_instance\n",
    "fed_model.load_state_dict(exp.aggregated_params[rounds - 1]['params'])"
   ]
  },
  {
   "cell_type": "code",
   "execution_count": 10,
   "metadata": {},
   "outputs": [
    {
     "data": {
      "text/plain": [
       "MyTrainingPlan(\n",
       "  (fc1): Linear(in_features=6, out_features=64, bias=True)\n",
       "  (fc2): Linear(in_features=64, out_features=32, bias=True)\n",
       "  (fc3): Linear(in_features=32, out_features=16, bias=True)\n",
       "  (fc4): Linear(in_features=16, out_features=8, bias=True)\n",
       "  (fc5): Linear(in_features=8, out_features=4, bias=True)\n",
       "  (fc6): Linear(in_features=4, out_features=1, bias=True)\n",
       ")"
      ]
     },
     "execution_count": 10,
     "metadata": {},
     "output_type": "execute_result"
    }
   ],
   "source": [
    " fed_model"
   ]
  },
  {
   "cell_type": "code",
   "execution_count": 23,
   "metadata": {},
   "outputs": [],
   "source": [
    "# Hold one file for testing the fed model\n",
    "test_dataset_path =\"__PATH to Test File__\""
   ]
  },
  {
   "cell_type": "code",
   "execution_count": 24,
   "metadata": {},
   "outputs": [],
   "source": [
    "import numpy as np\n",
    "import torch\n",
    "import torch.nn as nn\n",
    "import torch.nn.functional as F\n",
    "from torch.utils.data import Dataset, DataLoader\n",
    "import pandas as pd\n",
    "\n",
    "def cal_rmse(actual, prediction):\n",
    "    return ((actual- prediction)**2).mean()**0.5\n",
    "\n",
    "def testing_rmse(model, data_loader):\n",
    "    model.eval()\n",
    "    test_loss = 0\n",
    "    correct = 0\n",
    "    device = 'cpu'\n",
    "    preds = []\n",
    "    with torch.no_grad():\n",
    "        for data, target in data_loader:\n",
    "            data, target = data.to(device), target.to(device)\n",
    "            output = model(data)\n",
    "            preds.append(output.numpy().flatten())\n",
    "    rmse = cal_rmse(data_loader.dataset.Y_train.numpy(),np.hstack(preds))\n",
    "    return rmse"
   ]
  },
  {
   "cell_type": "code",
   "execution_count": 25,
   "metadata": {},
   "outputs": [],
   "source": [
    "class csv_Dataset(Dataset):\n",
    "        def __init__(self, dataset_path):\n",
    "            self.input_file = pd.read_csv(dataset_path,sep=',',index_col=False)\n",
    "            x_train = self.input_file.loc[:,('year','transmission','mileage','tax','mpg','engineSize')].values\n",
    "            y_train = self.input_file.loc[:,'price'].values\n",
    "            self.X_train = torch.from_numpy(x_train).float()\n",
    "            self.Y_train = torch.from_numpy(y_train).float()\n",
    "\n",
    "        def __len__(self):            \n",
    "            return len(self.Y_train)\n",
    "\n",
    "        def __getitem__(self, idx):\n",
    "\n",
    "            return (self.X_train[idx], self.Y_train[idx])"
   ]
  },
  {
   "cell_type": "code",
   "execution_count": 26,
   "metadata": {},
   "outputs": [],
   "source": [
    "dataset = csv_Dataset(test_dataset_path)\n",
    "train_kwargs = {'batch_size': 64, 'shuffle': True}\n",
    "data_loader = DataLoader(dataset, **train_kwargs)"
   ]
  },
  {
   "cell_type": "code",
   "execution_count": 27,
   "metadata": {},
   "outputs": [],
   "source": [
    "rmse = testing_rmse(fed_model, data_loader)"
   ]
  },
  {
   "cell_type": "code",
   "execution_count": 28,
   "metadata": {},
   "outputs": [
    {
     "data": {
      "text/plain": [
       "13138.38589781865"
      ]
     },
     "execution_count": 28,
     "metadata": {},
     "output_type": "execute_result"
    }
   ],
   "source": [
    "rmse"
   ]
  },
  {
   "cell_type": "code",
   "execution_count": null,
   "metadata": {},
   "outputs": [],
   "source": []
  }
 ],
 "metadata": {
  "interpreter": {
   "hash": "aee8b7b246df8f9039afb4144a1f6fd8d2ca17a180786b69acc140d282b71a49"
  },
  "kernelspec": {
   "display_name": "Python 3 (ipykernel)",
   "language": "python",
   "name": "python3"
  },
  "language_info": {
   "codemirror_mode": {
    "name": "ipython",
    "version": 3
   },
   "file_extension": ".py",
   "mimetype": "text/x-python",
   "name": "python",
   "nbconvert_exporter": "python",
   "pygments_lexer": "ipython3",
   "version": "3.9.6"
  }
 },
 "nbformat": 4,
 "nbformat_minor": 1
}

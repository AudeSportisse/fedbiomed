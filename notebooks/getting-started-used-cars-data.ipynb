{
 "cells": [
  {
   "cell_type": "markdown",
   "source": [
    "# Fedbiomed Researcher to train a model on a Used Cars dataset"
   ],
   "metadata": {}
  },
  {
   "cell_type": "markdown",
   "source": [
    "Use for developing (autoreloads changes made across packages)"
   ],
   "metadata": {}
  },
  {
   "cell_type": "code",
   "execution_count": 1,
   "source": [
    "%load_ext autoreload\n",
    "%autoreload 2"
   ],
   "outputs": [],
   "metadata": {}
  },
  {
   "cell_type": "markdown",
   "source": [
    "## Start the network and setting the client up\n",
    "Before running this notebook, you shoud start the network from fedbiomed-network, as detailed in https://gitlab.inria.fr/fedbiomed/fedbiomed-network\n",
    "Therefore, it is necessary to previously configure a node:\n",
    "Also ensure that you have run data-preprocessing-used-cars-dataset.ipynb notebook to preprocess the used cars dataset\n",
    "1. `./scripts/fedbiomed_run node add`\n",
    "  * Select option 1 to add a csv file to the client\n",
    "  * Choose the name, tags and description of the dataset\n",
    "  * Run the Data Preprcess Used Cars notebook for generating csv files\n",
    "  * Spin as many nodes as you want(max nodes 11 for 11 csv files in used cars dataset). Hold out one file for testing.\n",
    "  * Load the .csv file generated using above mentioned notebook to individual nodes\n",
    "2. Check that your data has been added by executing `./scripts/fedbiomed_run node list`\n",
    "3. Run the node using `./scripts/fedbiomed_run node start`. Wait until you get `Connected with result code 0`. it means you are online."
   ],
   "metadata": {}
  },
  {
   "cell_type": "markdown",
   "source": [
    "## Create an experiment to train a model on the data found"
   ],
   "metadata": {}
  },
  {
   "cell_type": "markdown",
   "source": [
    "Declare a torch.nn MyTrainingPlan class to send for training on the node"
   ],
   "metadata": {}
  },
  {
   "cell_type": "code",
   "execution_count": 2,
   "source": [
    "from fedbiomed.researcher.environ import TMP_DIR\n",
    "import tempfile\n",
    "tmp_dir_model = tempfile.TemporaryDirectory(dir=TMP_DIR+'/')\n",
    "model_file = tmp_dir_model.name + '/class_export_csv.py'"
   ],
   "outputs": [],
   "metadata": {}
  },
  {
   "cell_type": "markdown",
   "source": [
    "Note : write **only** the code to export in the following cell"
   ],
   "metadata": {}
  },
  {
   "cell_type": "code",
   "execution_count": 3,
   "source": [
    "%%writefile \"$model_file\"\n",
    "\n",
    "import torch\n",
    "import torch.nn as nn\n",
    "from fedbiomed.common.torchnn import TorchTrainingPlan\n",
    "import torch.nn.functional as F\n",
    "from torch.utils.data import Dataset, DataLoader\n",
    "import pandas as pd\n",
    "\n",
    "# Here we define the model to be used. \n",
    "# You can use any class name (here 'MyTrainingPlan')\n",
    "class MyTrainingPlan(TorchTrainingPlan):       \n",
    "    def __init__(self, kwargs):\n",
    "        super(MyTrainingPlan, self).__init__()\n",
    "        # kwargs should match the model arguments to be passed below to the experiment class\n",
    "        self.in_features = kwargs['in_features']\n",
    "        self.out_features = kwargs['out_features']\n",
    "        self.fc1 = nn.Linear(self.in_features, 64)\n",
    "        self.fc2 = nn.Linear(64, 32)\n",
    "        self.fc3 = nn.Linear(32, 16)\n",
    "        self.fc4 = nn.Linear(16, 8)\n",
    "        self.fc5 = nn.Linear(8, 4)\n",
    "        self.fc6 = nn.Linear(4, self.out_features)\n",
    "        \n",
    "        # Here we define the custom dependencies that will be needed by our custom Dataloader\n",
    "        # In this case, we need the torch Dataset and DataLoader classes\n",
    "        # We need pandas to read the local .csv file at the client side\n",
    "        deps = [\"from torch.utils.data import Dataset, DataLoader\",\n",
    "                \"import pandas as pd\"]\n",
    "        self.add_dependency(deps)\n",
    "\n",
    "    def forward(self, x):\n",
    "        x = self.fc1(x)\n",
    "        x = F.relu(x)\n",
    "        x = self.fc2(x)\n",
    "        x = F.relu(x)\n",
    "        x = self.fc3(x)\n",
    "        x = F.relu(x)\n",
    "        x = self.fc4(x)\n",
    "        x = F.relu(x)\n",
    "        x = self.fc5(x)\n",
    "        x = F.relu(x)\n",
    "        x = self.fc6(x)\n",
    "        return x\n",
    "\n",
    "    def training_step(self, data, target):\n",
    "        output = self.forward(data).float()\n",
    "        criterion = torch.nn.MSELoss()\n",
    "        loss   = torch.sqrt(criterion(output, target.unsqueeze(1)))\n",
    "        return loss\n",
    "\n",
    "    class csv_Dataset(Dataset):\n",
    "    # Here we define a custom Dataset class inherited from the general torch Dataset class\n",
    "    # This class takes as argument a .csv file path and creates a torch Dataset \n",
    "        def __init__(self, dataset_path, x_dim):\n",
    "            self.input_file = pd.read_csv(dataset_path,sep=',',index_col=False)\n",
    "            x_train = self.input_file.loc[:,('year','transmission','mileage','tax','mpg','engineSize')].values\n",
    "            y_train = self.input_file.loc[:,'price'].values\n",
    "            self.X_train = torch.from_numpy(x_train).float()\n",
    "            self.Y_train = torch.from_numpy(y_train).float()\n",
    "\n",
    "        def __len__(self):            \n",
    "            return len(self.Y_train)\n",
    "\n",
    "        def __getitem__(self, idx):\n",
    "\n",
    "            return (self.X_train[idx], self.Y_train[idx])\n",
    "        \n",
    "    def training_data(self,  batch_size = 48):\n",
    "    # The training_data creates the Dataloader to be used for training in the general class TorchTrainingPlan of fedbiomed\n",
    "        dataset = self.csv_Dataset(self.dataset_path, self.in_features)\n",
    "        train_kwargs = {'batch_size': batch_size, 'shuffle': True}\n",
    "        data_loader = DataLoader(dataset, **train_kwargs)\n",
    "        return data_loader"
   ],
   "outputs": [
    {
     "output_type": "stream",
     "name": "stdout",
     "text": [
      "Writing /home/fedbiomed/var/tmp/tmpi195whcm/class_export_csv.py\n"
     ]
    }
   ],
   "metadata": {}
  },
  {
   "cell_type": "code",
   "execution_count": 4,
   "source": [
    "# model parameters \n",
    "model_args = {\n",
    "    'in_features': 6, \n",
    "    'out_features': 1\n",
    "}\n",
    "\n",
    "# training parameters \n",
    "training_args = {\n",
    "    'batch_size': 20, \n",
    "    'lr': 1e-3, \n",
    "    'epochs': 10, \n",
    "    'dry_run': False,  \n",
    "    #'batch_maxnum': 100 # Fast pass for development : only use ( batch_maxnum * batch_size ) samples\n",
    "}"
   ],
   "outputs": [],
   "metadata": {
    "pycharm": {
     "name": "#%%\n"
    }
   }
  },
  {
   "cell_type": "markdown",
   "source": [
    "Define an experiment\n",
    "- search nodes serving data for these `tags`, optionally filter on a list of client ID with `clients`\n",
    "- run a round of local training on nodes with model defined in `model_path` + federation with `aggregator`\n",
    "- run for `rounds` rounds, applying the `client_selection_strategy` between the rounds"
   ],
   "metadata": {}
  },
  {
   "cell_type": "code",
   "execution_count": 5,
   "source": [
    "from fedbiomed.researcher.experiment import Experiment\n",
    "from fedbiomed.researcher.aggregators.fedavg import FedAverage\n",
    "\n",
    "# Calling the training data with specified tags. Change the following tag accordingly\n",
    "tags =  ['Used Cars']\n",
    "rounds = 5\n",
    "\n",
    "exp = Experiment(tags=tags,\n",
    "                 #clients=None,\n",
    "                 model_path=model_file,\n",
    "                 model_class='MyTrainingPlan',\n",
    "                 model_args=model_args,\n",
    "                 training_args=training_args,\n",
    "                 rounds=rounds,\n",
    "                 aggregator=FedAverage(),\n",
    "                 client_selection_strategy=None)"
   ],
   "outputs": [
    {
     "output_type": "stream",
     "name": "stdout",
     "text": [
      "Messaging researcher_29ea7a60-e31b-4844-a500-463fcb280200 connected with result code 0\n",
      "Searching for clients with data tags: ['temp'] ...\n",
      "2021-08-24 13:51:37.550277 [ RESEARCHER ] message received. {'researcher_id': 'researcher_29ea7a60-e31b-4844-a500-463fcb280200', 'success': True, 'databases': [{'name': 'temp', 'data_type': 'csv', 'tags': ['temp'], 'description': 'temp', 'shape': [10781, 6], 'dataset_id': 'dataset_22286dde-8444-45af-942a-7f68f21c8fb6'}], 'count': 1, 'client_id': 'client_211cbe8b-d1d2-40bc-b74c-c3c88ac9607f', 'command': 'search'}\n",
      "2021-08-24 13:51:37.597177 [ RESEARCHER ] message received. {'researcher_id': 'researcher_29ea7a60-e31b-4844-a500-463fcb280200', 'success': True, 'databases': [{'name': 'temp', 'data_type': 'csv', 'tags': ['temp'], 'description': 'temp', 'shape': [10668, 6], 'dataset_id': 'dataset_77963639-76de-4a10-8cd7-292196916c0a'}], 'count': 1, 'client_id': 'client_14ca5ee3-0826-44c6-9f62-91686f90e7be', 'command': 'search'}\n"
     ]
    }
   ],
   "metadata": {
    "pycharm": {
     "name": "#%%\n"
    },
    "scrolled": true
   }
  },
  {
   "cell_type": "markdown",
   "source": [
    "Let's start the experiment.\n",
    "\n",
    "By default, this function doesn't stop until all the `rounds` are done for all the clients"
   ],
   "metadata": {
    "pycharm": {
     "name": "#%% md\n"
    }
   }
  },
  {
   "cell_type": "code",
   "execution_count": 6,
   "source": [
    "exp.run()"
   ],
   "outputs": [
    {
     "output_type": "stream",
     "name": "stdout",
     "text": [
      "Sampled clients in round  0   ['client_211cbe8b-d1d2-40bc-b74c-c3c88ac9607f', 'client_14ca5ee3-0826-44c6-9f62-91686f90e7be']\n",
      "[ RESEARCHER ] Send message to client  client_211cbe8b-d1d2-40bc-b74c-c3c88ac9607f {'researcher_id': 'researcher_29ea7a60-e31b-4844-a500-463fcb280200', 'job_id': '3d85d85f-47ba-472d-af3c-566dd7c659f7', 'training_args': {'batch_size': 20, 'lr': 0.001, 'epochs': 10, 'dry_run': False}, 'model_args': {'in_features': 6, 'out_features': 1}, 'command': 'train', 'model_url': 'http://localhost:8844/media/uploads/2021/08/24/my_model.py', 'params_url': 'http://localhost:8844/media/uploads/2021/08/24/my_model.pt', 'model_class': 'MyTrainingPlan', 'training_data': {'client_211cbe8b-d1d2-40bc-b74c-c3c88ac9607f': ['dataset_22286dde-8444-45af-942a-7f68f21c8fb6']}}\n",
      "researcher_29ea7a60-e31b-4844-a500-463fcb280200\n",
      "[ RESEARCHER ] Send message to client  client_14ca5ee3-0826-44c6-9f62-91686f90e7be {'researcher_id': 'researcher_29ea7a60-e31b-4844-a500-463fcb280200', 'job_id': '3d85d85f-47ba-472d-af3c-566dd7c659f7', 'training_args': {'batch_size': 20, 'lr': 0.001, 'epochs': 10, 'dry_run': False}, 'model_args': {'in_features': 6, 'out_features': 1}, 'command': 'train', 'model_url': 'http://localhost:8844/media/uploads/2021/08/24/my_model.py', 'params_url': 'http://localhost:8844/media/uploads/2021/08/24/my_model.pt', 'model_class': 'MyTrainingPlan', 'training_data': {'client_14ca5ee3-0826-44c6-9f62-91686f90e7be': ['dataset_77963639-76de-4a10-8cd7-292196916c0a']}}\n",
      "researcher_29ea7a60-e31b-4844-a500-463fcb280200\n",
      "2021-08-24 13:52:14.609717 [ RESEARCHER ] message received. {'researcher_id': 'researcher_29ea7a60-e31b-4844-a500-463fcb280200', 'job_id': '3d85d85f-47ba-472d-af3c-566dd7c659f7', 'success': True, 'client_id': 'client_211cbe8b-d1d2-40bc-b74c-c3c88ac9607f', 'dataset_id': 'dataset_22286dde-8444-45af-942a-7f68f21c8fb6', 'params_url': 'http://localhost:8844/media/uploads/2021/08/24/node_params_cdc58646-7080-4bf8-9a1d-29fe00fc5784.pt', 'timing': {'rtime_training': 16.240502300000003, 'ptime_training': 16.2350281}, 'msg': '', 'command': 'train'}\n",
      "2021-08-24 13:52:18.395462 [ RESEARCHER ] message received. {'researcher_id': 'researcher_29ea7a60-e31b-4844-a500-463fcb280200', 'job_id': '3d85d85f-47ba-472d-af3c-566dd7c659f7', 'success': True, 'client_id': 'client_14ca5ee3-0826-44c6-9f62-91686f90e7be', 'dataset_id': 'dataset_77963639-76de-4a10-8cd7-292196916c0a', 'params_url': 'http://localhost:8844/media/uploads/2021/08/24/node_params_e61d7e70-fad7-46b5-a54c-32a826a0b1bc.pt', 'timing': {'rtime_training': 16.296733599999925, 'ptime_training': 16.3529445}, 'msg': '', 'command': 'train'}\n",
      "Downloading model params after training on  client_211cbe8b-d1d2-40bc-b74c-c3c88ac9607f \n",
      "\t- from http://localhost:8844/media/uploads/2021/08/24/node_params_cdc58646-7080-4bf8-9a1d-29fe00fc5784.pt\n",
      "Downloading model params after training on  client_14ca5ee3-0826-44c6-9f62-91686f90e7be \n",
      "\t- from http://localhost:8844/media/uploads/2021/08/24/node_params_e61d7e70-fad7-46b5-a54c-32a826a0b1bc.pt\n",
      "Clients that successfully reply in round  0   ['client_211cbe8b-d1d2-40bc-b74c-c3c88ac9607f', 'client_14ca5ee3-0826-44c6-9f62-91686f90e7be']\n",
      "Sampled clients in round  1   ['client_211cbe8b-d1d2-40bc-b74c-c3c88ac9607f', 'client_14ca5ee3-0826-44c6-9f62-91686f90e7be']\n",
      "[ RESEARCHER ] Send message to client  client_211cbe8b-d1d2-40bc-b74c-c3c88ac9607f {'researcher_id': 'researcher_29ea7a60-e31b-4844-a500-463fcb280200', 'job_id': '3d85d85f-47ba-472d-af3c-566dd7c659f7', 'training_args': {'batch_size': 20, 'lr': 0.001, 'epochs': 10, 'dry_run': False}, 'model_args': {'in_features': 6, 'out_features': 1}, 'command': 'train', 'model_url': 'http://localhost:8844/media/uploads/2021/08/24/my_model.py', 'params_url': 'http://localhost:8844/media/uploads/2021/08/24/researcher_params_e611981a-5e2f-48a7-8c38-a6d7222393a1.pt', 'model_class': 'MyTrainingPlan', 'training_data': {'client_211cbe8b-d1d2-40bc-b74c-c3c88ac9607f': ['dataset_22286dde-8444-45af-942a-7f68f21c8fb6']}}\n",
      "researcher_29ea7a60-e31b-4844-a500-463fcb280200\n",
      "[ RESEARCHER ] Send message to client  client_14ca5ee3-0826-44c6-9f62-91686f90e7be {'researcher_id': 'researcher_29ea7a60-e31b-4844-a500-463fcb280200', 'job_id': '3d85d85f-47ba-472d-af3c-566dd7c659f7', 'training_args': {'batch_size': 20, 'lr': 0.001, 'epochs': 10, 'dry_run': False}, 'model_args': {'in_features': 6, 'out_features': 1}, 'command': 'train', 'model_url': 'http://localhost:8844/media/uploads/2021/08/24/my_model.py', 'params_url': 'http://localhost:8844/media/uploads/2021/08/24/researcher_params_e611981a-5e2f-48a7-8c38-a6d7222393a1.pt', 'model_class': 'MyTrainingPlan', 'training_data': {'client_14ca5ee3-0826-44c6-9f62-91686f90e7be': ['dataset_77963639-76de-4a10-8cd7-292196916c0a']}}\n",
      "researcher_29ea7a60-e31b-4844-a500-463fcb280200\n",
      "2021-08-24 13:52:50.891649 [ RESEARCHER ] message received. {'researcher_id': 'researcher_29ea7a60-e31b-4844-a500-463fcb280200', 'job_id': '3d85d85f-47ba-472d-af3c-566dd7c659f7', 'success': True, 'client_id': 'client_211cbe8b-d1d2-40bc-b74c-c3c88ac9607f', 'dataset_id': 'dataset_22286dde-8444-45af-942a-7f68f21c8fb6', 'params_url': 'http://localhost:8844/media/uploads/2021/08/24/node_params_92ae3e45-9c00-4ed0-9fe2-f9d42b7751f5.pt', 'timing': {'rtime_training': 10.664543999999978, 'ptime_training': 10.7203017}, 'msg': '', 'command': 'train'}\n",
      "2021-08-24 13:52:54.881419 [ RESEARCHER ] message received. {'researcher_id': 'researcher_29ea7a60-e31b-4844-a500-463fcb280200', 'job_id': '3d85d85f-47ba-472d-af3c-566dd7c659f7', 'success': True, 'client_id': 'client_14ca5ee3-0826-44c6-9f62-91686f90e7be', 'dataset_id': 'dataset_77963639-76de-4a10-8cd7-292196916c0a', 'params_url': 'http://localhost:8844/media/uploads/2021/08/24/node_params_d5a71695-c268-4502-8ed6-434efe4317f2.pt', 'timing': {'rtime_training': 10.64527309999994, 'ptime_training': 10.7008513}, 'msg': '', 'command': 'train'}\n",
      "Downloading model params after training on  client_211cbe8b-d1d2-40bc-b74c-c3c88ac9607f \n",
      "\t- from http://localhost:8844/media/uploads/2021/08/24/node_params_92ae3e45-9c00-4ed0-9fe2-f9d42b7751f5.pt\n",
      "Downloading model params after training on  client_14ca5ee3-0826-44c6-9f62-91686f90e7be \n",
      "\t- from http://localhost:8844/media/uploads/2021/08/24/node_params_d5a71695-c268-4502-8ed6-434efe4317f2.pt\n",
      "Clients that successfully reply in round  1   ['client_211cbe8b-d1d2-40bc-b74c-c3c88ac9607f', 'client_14ca5ee3-0826-44c6-9f62-91686f90e7be']\n",
      "Sampled clients in round  2   ['client_211cbe8b-d1d2-40bc-b74c-c3c88ac9607f', 'client_14ca5ee3-0826-44c6-9f62-91686f90e7be']\n",
      "[ RESEARCHER ] Send message to client  client_211cbe8b-d1d2-40bc-b74c-c3c88ac9607f {'researcher_id': 'researcher_29ea7a60-e31b-4844-a500-463fcb280200', 'job_id': '3d85d85f-47ba-472d-af3c-566dd7c659f7', 'training_args': {'batch_size': 20, 'lr': 0.001, 'epochs': 10, 'dry_run': False}, 'model_args': {'in_features': 6, 'out_features': 1}, 'command': 'train', 'model_url': 'http://localhost:8844/media/uploads/2021/08/24/my_model.py', 'params_url': 'http://localhost:8844/media/uploads/2021/08/24/researcher_params_5ad4b323-9182-423e-8edc-630f17934f3e.pt', 'model_class': 'MyTrainingPlan', 'training_data': {'client_211cbe8b-d1d2-40bc-b74c-c3c88ac9607f': ['dataset_22286dde-8444-45af-942a-7f68f21c8fb6']}}\n",
      "researcher_29ea7a60-e31b-4844-a500-463fcb280200\n",
      "[ RESEARCHER ] Send message to client  client_14ca5ee3-0826-44c6-9f62-91686f90e7be {'researcher_id': 'researcher_29ea7a60-e31b-4844-a500-463fcb280200', 'job_id': '3d85d85f-47ba-472d-af3c-566dd7c659f7', 'training_args': {'batch_size': 20, 'lr': 0.001, 'epochs': 10, 'dry_run': False}, 'model_args': {'in_features': 6, 'out_features': 1}, 'command': 'train', 'model_url': 'http://localhost:8844/media/uploads/2021/08/24/my_model.py', 'params_url': 'http://localhost:8844/media/uploads/2021/08/24/researcher_params_5ad4b323-9182-423e-8edc-630f17934f3e.pt', 'model_class': 'MyTrainingPlan', 'training_data': {'client_14ca5ee3-0826-44c6-9f62-91686f90e7be': ['dataset_77963639-76de-4a10-8cd7-292196916c0a']}}\n",
      "researcher_29ea7a60-e31b-4844-a500-463fcb280200\n",
      "2021-08-24 13:53:24.172526 [ RESEARCHER ] message received. {'researcher_id': 'researcher_29ea7a60-e31b-4844-a500-463fcb280200', 'job_id': '3d85d85f-47ba-472d-af3c-566dd7c659f7', 'success': True, 'client_id': 'client_211cbe8b-d1d2-40bc-b74c-c3c88ac9607f', 'dataset_id': 'dataset_22286dde-8444-45af-942a-7f68f21c8fb6', 'params_url': 'http://localhost:8844/media/uploads/2021/08/24/node_params_accfe646-fbfb-46b1-a507-7527ecb9e620.pt', 'timing': {'rtime_training': 9.882745599999907, 'ptime_training': 9.933167300000001}, 'msg': '', 'command': 'train'}\n"
     ]
    },
    {
     "output_type": "stream",
     "name": "stdout",
     "text": [
      "2021-08-24 13:53:28.759567 [ RESEARCHER ] message received. {'researcher_id': 'researcher_29ea7a60-e31b-4844-a500-463fcb280200', 'job_id': '3d85d85f-47ba-472d-af3c-566dd7c659f7', 'success': True, 'client_id': 'client_14ca5ee3-0826-44c6-9f62-91686f90e7be', 'dataset_id': 'dataset_77963639-76de-4a10-8cd7-292196916c0a', 'params_url': 'http://localhost:8844/media/uploads/2021/08/24/node_params_821e847a-ec5f-4fe1-890b-9dc3bbfa43ad.pt', 'timing': {'rtime_training': 9.454629700000169, 'ptime_training': 9.504719999999995}, 'msg': '', 'command': 'train'}\n",
      "Downloading model params after training on  client_211cbe8b-d1d2-40bc-b74c-c3c88ac9607f \n",
      "\t- from http://localhost:8844/media/uploads/2021/08/24/node_params_accfe646-fbfb-46b1-a507-7527ecb9e620.pt\n",
      "Downloading model params after training on  client_14ca5ee3-0826-44c6-9f62-91686f90e7be \n",
      "\t- from http://localhost:8844/media/uploads/2021/08/24/node_params_821e847a-ec5f-4fe1-890b-9dc3bbfa43ad.pt\n",
      "Clients that successfully reply in round  2   ['client_211cbe8b-d1d2-40bc-b74c-c3c88ac9607f', 'client_14ca5ee3-0826-44c6-9f62-91686f90e7be']\n",
      "Sampled clients in round  3   ['client_211cbe8b-d1d2-40bc-b74c-c3c88ac9607f', 'client_14ca5ee3-0826-44c6-9f62-91686f90e7be']\n",
      "[ RESEARCHER ] Send message to client  client_211cbe8b-d1d2-40bc-b74c-c3c88ac9607f {'researcher_id': 'researcher_29ea7a60-e31b-4844-a500-463fcb280200', 'job_id': '3d85d85f-47ba-472d-af3c-566dd7c659f7', 'training_args': {'batch_size': 20, 'lr': 0.001, 'epochs': 10, 'dry_run': False}, 'model_args': {'in_features': 6, 'out_features': 1}, 'command': 'train', 'model_url': 'http://localhost:8844/media/uploads/2021/08/24/my_model.py', 'params_url': 'http://localhost:8844/media/uploads/2021/08/24/researcher_params_052e591f-1e95-4e7e-8147-94dcb8660474.pt', 'model_class': 'MyTrainingPlan', 'training_data': {'client_211cbe8b-d1d2-40bc-b74c-c3c88ac9607f': ['dataset_22286dde-8444-45af-942a-7f68f21c8fb6']}}\n",
      "researcher_29ea7a60-e31b-4844-a500-463fcb280200\n",
      "[ RESEARCHER ] Send message to client  client_14ca5ee3-0826-44c6-9f62-91686f90e7be {'researcher_id': 'researcher_29ea7a60-e31b-4844-a500-463fcb280200', 'job_id': '3d85d85f-47ba-472d-af3c-566dd7c659f7', 'training_args': {'batch_size': 20, 'lr': 0.001, 'epochs': 10, 'dry_run': False}, 'model_args': {'in_features': 6, 'out_features': 1}, 'command': 'train', 'model_url': 'http://localhost:8844/media/uploads/2021/08/24/my_model.py', 'params_url': 'http://localhost:8844/media/uploads/2021/08/24/researcher_params_052e591f-1e95-4e7e-8147-94dcb8660474.pt', 'model_class': 'MyTrainingPlan', 'training_data': {'client_14ca5ee3-0826-44c6-9f62-91686f90e7be': ['dataset_77963639-76de-4a10-8cd7-292196916c0a']}}\n",
      "researcher_29ea7a60-e31b-4844-a500-463fcb280200\n",
      "2021-08-24 13:54:03.159273 [ RESEARCHER ] message received. {'researcher_id': 'researcher_29ea7a60-e31b-4844-a500-463fcb280200', 'job_id': '3d85d85f-47ba-472d-af3c-566dd7c659f7', 'success': True, 'client_id': 'client_14ca5ee3-0826-44c6-9f62-91686f90e7be', 'dataset_id': 'dataset_77963639-76de-4a10-8cd7-292196916c0a', 'params_url': 'http://localhost:8844/media/uploads/2021/08/24/node_params_fda48947-9995-49df-a7f9-ed3347a44ba1.pt', 'timing': {'rtime_training': 8.782096299999921, 'ptime_training': 8.8317586}, 'msg': '', 'command': 'train'}\n",
      "2021-08-24 13:54:07.794066 [ RESEARCHER ] message received. {'researcher_id': 'researcher_29ea7a60-e31b-4844-a500-463fcb280200', 'job_id': '3d85d85f-47ba-472d-af3c-566dd7c659f7', 'success': True, 'client_id': 'client_211cbe8b-d1d2-40bc-b74c-c3c88ac9607f', 'dataset_id': 'dataset_22286dde-8444-45af-942a-7f68f21c8fb6', 'params_url': 'http://localhost:8844/media/uploads/2021/08/24/node_params_a6c82ff1-c17b-4ded-8c55-d08e94644ae2.pt', 'timing': {'rtime_training': 9.405949500000133, 'ptime_training': 9.453655300000001}, 'msg': '', 'command': 'train'}\n",
      "Downloading model params after training on  client_14ca5ee3-0826-44c6-9f62-91686f90e7be \n",
      "\t- from http://localhost:8844/media/uploads/2021/08/24/node_params_fda48947-9995-49df-a7f9-ed3347a44ba1.pt\n",
      "Downloading model params after training on  client_211cbe8b-d1d2-40bc-b74c-c3c88ac9607f \n",
      "\t- from http://localhost:8844/media/uploads/2021/08/24/node_params_a6c82ff1-c17b-4ded-8c55-d08e94644ae2.pt\n",
      "Clients that successfully reply in round  3   ['client_14ca5ee3-0826-44c6-9f62-91686f90e7be', 'client_211cbe8b-d1d2-40bc-b74c-c3c88ac9607f']\n",
      "Sampled clients in round  4   ['client_211cbe8b-d1d2-40bc-b74c-c3c88ac9607f', 'client_14ca5ee3-0826-44c6-9f62-91686f90e7be']\n",
      "[ RESEARCHER ] Send message to client  client_211cbe8b-d1d2-40bc-b74c-c3c88ac9607f {'researcher_id': 'researcher_29ea7a60-e31b-4844-a500-463fcb280200', 'job_id': '3d85d85f-47ba-472d-af3c-566dd7c659f7', 'training_args': {'batch_size': 20, 'lr': 0.001, 'epochs': 10, 'dry_run': False}, 'model_args': {'in_features': 6, 'out_features': 1}, 'command': 'train', 'model_url': 'http://localhost:8844/media/uploads/2021/08/24/my_model.py', 'params_url': 'http://localhost:8844/media/uploads/2021/08/24/researcher_params_a597817a-c3b7-48b5-9a00-0ae36967ce40.pt', 'model_class': 'MyTrainingPlan', 'training_data': {'client_211cbe8b-d1d2-40bc-b74c-c3c88ac9607f': ['dataset_22286dde-8444-45af-942a-7f68f21c8fb6']}}\n",
      "researcher_29ea7a60-e31b-4844-a500-463fcb280200\n",
      "[ RESEARCHER ] Send message to client  client_14ca5ee3-0826-44c6-9f62-91686f90e7be {'researcher_id': 'researcher_29ea7a60-e31b-4844-a500-463fcb280200', 'job_id': '3d85d85f-47ba-472d-af3c-566dd7c659f7', 'training_args': {'batch_size': 20, 'lr': 0.001, 'epochs': 10, 'dry_run': False}, 'model_args': {'in_features': 6, 'out_features': 1}, 'command': 'train', 'model_url': 'http://localhost:8844/media/uploads/2021/08/24/my_model.py', 'params_url': 'http://localhost:8844/media/uploads/2021/08/24/researcher_params_a597817a-c3b7-48b5-9a00-0ae36967ce40.pt', 'model_class': 'MyTrainingPlan', 'training_data': {'client_14ca5ee3-0826-44c6-9f62-91686f90e7be': ['dataset_77963639-76de-4a10-8cd7-292196916c0a']}}\n",
      "researcher_29ea7a60-e31b-4844-a500-463fcb280200\n",
      "2021-08-24 13:54:42.232203 [ RESEARCHER ] message received. {'researcher_id': 'researcher_29ea7a60-e31b-4844-a500-463fcb280200', 'job_id': '3d85d85f-47ba-472d-af3c-566dd7c659f7', 'success': True, 'client_id': 'client_14ca5ee3-0826-44c6-9f62-91686f90e7be', 'dataset_id': 'dataset_77963639-76de-4a10-8cd7-292196916c0a', 'params_url': 'http://localhost:8844/media/uploads/2021/08/24/node_params_8f27a107-63ae-4bf9-b75b-109f6cbe7ce0.pt', 'timing': {'rtime_training': 9.771191699999918, 'ptime_training': 9.8228723}, 'msg': '', 'command': 'train'}\n",
      "2021-08-24 13:54:45.646562 [ RESEARCHER ] message received. {'researcher_id': 'researcher_29ea7a60-e31b-4844-a500-463fcb280200', 'job_id': '3d85d85f-47ba-472d-af3c-566dd7c659f7', 'success': True, 'client_id': 'client_211cbe8b-d1d2-40bc-b74c-c3c88ac9607f', 'dataset_id': 'dataset_22286dde-8444-45af-942a-7f68f21c8fb6', 'params_url': 'http://localhost:8844/media/uploads/2021/08/24/node_params_11fce6d4-40d2-4dc6-8172-f5dcb3cd0142.pt', 'timing': {'rtime_training': 10.190303600000107, 'ptime_training': 10.241199600000002}, 'msg': '', 'command': 'train'}\n",
      "Downloading model params after training on  client_14ca5ee3-0826-44c6-9f62-91686f90e7be \n",
      "\t- from http://localhost:8844/media/uploads/2021/08/24/node_params_8f27a107-63ae-4bf9-b75b-109f6cbe7ce0.pt\n",
      "Downloading model params after training on  client_211cbe8b-d1d2-40bc-b74c-c3c88ac9607f \n",
      "\t- from http://localhost:8844/media/uploads/2021/08/24/node_params_11fce6d4-40d2-4dc6-8172-f5dcb3cd0142.pt\n",
      "Clients that successfully reply in round  4   ['client_14ca5ee3-0826-44c6-9f62-91686f90e7be', 'client_211cbe8b-d1d2-40bc-b74c-c3c88ac9607f']\n"
     ]
    }
   ],
   "metadata": {
    "pycharm": {
     "name": "#%%\n"
    },
    "scrolled": true
   }
  },
  {
   "cell_type": "markdown",
   "source": [
    "Local training results for each round and each node are available in `exp.training_replies` (index 0 to (`rounds` - 1) ).\n",
    "\n",
    "For example you can view the training results for the last round below.\n",
    "\n",
    "Different timings (in seconds) are reported for each dataset of a node participating in a round :\n",
    "- `rtime_training` real time (clock time) spent in the training function on the node\n",
    "- `ptime_training` process time (user and system CPU) spent in the training function on the node\n",
    "- `rtime_total` real time (clock time) spent in the researcher between sending the request and handling the response, at the `Job()` layer"
   ],
   "metadata": {}
  },
  {
   "cell_type": "code",
   "execution_count": 7,
   "source": [
    "print(\"\\nList the training rounds : \", exp.training_replies.keys())\n",
    "\n",
    "print(\"\\nList the clients for the last training round and their timings : \")\n",
    "round_data = exp.training_replies[rounds - 1].data\n",
    "for c in range(len(round_data)):\n",
    "    print(\"\\t- {id} :\\\n",
    "    \\n\\t\\trtime_training={rtraining:.2f} seconds\\\n",
    "    \\n\\t\\tptime_training={ptraining:.2f} seconds\\\n",
    "    \\n\\t\\trtime_total={rtotal:.2f} seconds\".format(id = round_data[c]['client_id'],\n",
    "        rtraining = round_data[c]['timing']['rtime_training'],\n",
    "        ptraining = round_data[c]['timing']['ptime_training'],\n",
    "        rtotal = round_data[c]['timing']['rtime_total']))\n",
    "print('\\n')\n",
    "    \n",
    "exp.training_replies[rounds - 1].dataframe"
   ],
   "outputs": [
    {
     "output_type": "stream",
     "name": "stdout",
     "text": [
      "\n",
      "List the training rounds :  dict_keys([0, 1, 2, 3, 4])\n",
      "\n",
      "List the clients for the last training round and their timings : \n",
      "\t- client_14ca5ee3-0826-44c6-9f62-91686f90e7be :    \n",
      "\t\trtime_training=9.77 seconds    \n",
      "\t\tptime_training=9.82 seconds    \n",
      "\t\trtime_total=30.03 seconds\n",
      "\t- client_211cbe8b-d1d2-40bc-b74c-c3c88ac9607f :    \n",
      "\t\trtime_training=10.19 seconds    \n",
      "\t\tptime_training=10.24 seconds    \n",
      "\t\trtime_total=33.04 seconds\n",
      "\n",
      "\n"
     ]
    },
    {
     "output_type": "execute_result",
     "data": {
      "text/plain": [
       "   success msg                                    dataset_id  \\\n",
       "0     True      dataset_77963639-76de-4a10-8cd7-292196916c0a   \n",
       "1     True      dataset_22286dde-8444-45af-942a-7f68f21c8fb6   \n",
       "\n",
       "                                     client_id  \\\n",
       "0  client_14ca5ee3-0826-44c6-9f62-91686f90e7be   \n",
       "1  client_211cbe8b-d1d2-40bc-b74c-c3c88ac9607f   \n",
       "\n",
       "                                         params_path  \\\n",
       "0  /home/fedbiomed/var/tmp/my_model_d4fd0c8e-9f24...   \n",
       "1  /home/fedbiomed/var/tmp/my_model_26dfaace-fd7e...   \n",
       "\n",
       "                                              params  \\\n",
       "0  {'fc1.weight': [[tensor(0.5589), tensor(0.6521...   \n",
       "1  {'fc1.weight': [[tensor(0.5853), tensor(1.1543...   \n",
       "\n",
       "                                              timing  \n",
       "0  {'rtime_training': 9.771191699999918, 'ptime_t...  \n",
       "1  {'rtime_training': 10.190303600000107, 'ptime_...  "
      ],
      "text/html": [
       "<div>\n",
       "<style scoped>\n",
       "    .dataframe tbody tr th:only-of-type {\n",
       "        vertical-align: middle;\n",
       "    }\n",
       "\n",
       "    .dataframe tbody tr th {\n",
       "        vertical-align: top;\n",
       "    }\n",
       "\n",
       "    .dataframe thead th {\n",
       "        text-align: right;\n",
       "    }\n",
       "</style>\n",
       "<table border=\"1\" class=\"dataframe\">\n",
       "  <thead>\n",
       "    <tr style=\"text-align: right;\">\n",
       "      <th></th>\n",
       "      <th>success</th>\n",
       "      <th>msg</th>\n",
       "      <th>dataset_id</th>\n",
       "      <th>client_id</th>\n",
       "      <th>params_path</th>\n",
       "      <th>params</th>\n",
       "      <th>timing</th>\n",
       "    </tr>\n",
       "  </thead>\n",
       "  <tbody>\n",
       "    <tr>\n",
       "      <th>0</th>\n",
       "      <td>True</td>\n",
       "      <td></td>\n",
       "      <td>dataset_77963639-76de-4a10-8cd7-292196916c0a</td>\n",
       "      <td>client_14ca5ee3-0826-44c6-9f62-91686f90e7be</td>\n",
       "      <td>/home/fedbiomed/var/tmp/my_model_d4fd0c8e-9f24...</td>\n",
       "      <td>{'fc1.weight': [[tensor(0.5589), tensor(0.6521...</td>\n",
       "      <td>{'rtime_training': 9.771191699999918, 'ptime_t...</td>\n",
       "    </tr>\n",
       "    <tr>\n",
       "      <th>1</th>\n",
       "      <td>True</td>\n",
       "      <td></td>\n",
       "      <td>dataset_22286dde-8444-45af-942a-7f68f21c8fb6</td>\n",
       "      <td>client_211cbe8b-d1d2-40bc-b74c-c3c88ac9607f</td>\n",
       "      <td>/home/fedbiomed/var/tmp/my_model_26dfaace-fd7e...</td>\n",
       "      <td>{'fc1.weight': [[tensor(0.5853), tensor(1.1543...</td>\n",
       "      <td>{'rtime_training': 10.190303600000107, 'ptime_...</td>\n",
       "    </tr>\n",
       "  </tbody>\n",
       "</table>\n",
       "</div>"
      ]
     },
     "metadata": {},
     "execution_count": 7
    }
   ],
   "metadata": {
    "pycharm": {
     "name": "#%%\n"
    },
    "scrolled": true
   }
  },
  {
   "cell_type": "markdown",
   "source": [
    "Federated parameters for each round are available in `exp.aggregated_params` (index 0 to (`rounds` - 1) ).\n",
    "\n",
    "For example you can view the federated parameters for the last round of the experiment :"
   ],
   "metadata": {}
  },
  {
   "cell_type": "code",
   "execution_count": 8,
   "source": [
    "print(\"\\nList the training rounds : \", exp.aggregated_params.keys())\n",
    "\n",
    "print(\"\\nAccess the federated params for the last training round :\")\n",
    "print(\"\\t- params_path: \", exp.aggregated_params[rounds - 1]['params_path'])\n",
    "print(\"\\t- parameter data: \", exp.aggregated_params[rounds - 1]['params'].keys())\n"
   ],
   "outputs": [
    {
     "output_type": "stream",
     "name": "stdout",
     "text": [
      "\n",
      "List the training rounds :  dict_keys([0, 1, 2, 3, 4])\n",
      "\n",
      "Access the federated params for the last training round :\n",
      "\t- params_path:  /home/fedbiomed/var/tmp/researcher_params_4643ad85-4260-4835-bcd9-75b9d8b99509.pt\n",
      "\t- parameter data:  odict_keys(['fc1.weight', 'fc1.bias', 'fc2.weight', 'fc2.bias', 'fc3.weight', 'fc3.bias', 'fc4.weight', 'fc4.bias', 'fc5.weight', 'fc5.bias', 'fc6.weight', 'fc6.bias'])\n"
     ]
    }
   ],
   "metadata": {}
  },
  {
   "cell_type": "markdown",
   "source": [
    "# Test Function"
   ],
   "metadata": {}
  },
  {
   "cell_type": "code",
   "execution_count": 9,
   "source": [
    "fed_model = exp.model_instance\n",
    "fed_model.load_state_dict(exp.aggregated_params[rounds - 1]['params'])"
   ],
   "outputs": [
    {
     "output_type": "execute_result",
     "data": {
      "text/plain": [
       "<All keys matched successfully>"
      ]
     },
     "metadata": {},
     "execution_count": 9
    }
   ],
   "metadata": {}
  },
  {
   "cell_type": "code",
   "execution_count": 10,
   "source": [
    " fed_model"
   ],
   "outputs": [
    {
     "output_type": "execute_result",
     "data": {
      "text/plain": [
       "MyTrainingPlan(\n",
       "  (fc1): Linear(in_features=6, out_features=64, bias=True)\n",
       "  (fc2): Linear(in_features=64, out_features=32, bias=True)\n",
       "  (fc3): Linear(in_features=32, out_features=16, bias=True)\n",
       "  (fc4): Linear(in_features=16, out_features=8, bias=True)\n",
       "  (fc5): Linear(in_features=8, out_features=4, bias=True)\n",
       "  (fc6): Linear(in_features=4, out_features=1, bias=True)\n",
       ")"
      ]
     },
     "metadata": {},
     "execution_count": 10
    }
   ],
   "metadata": {}
  },
  {
   "cell_type": "code",
   "execution_count": 11,
   "source": [
    "# Hold one file for testing the fed model\n",
    "test_dataset_path =\"__PATH to Test File__\""
   ],
   "outputs": [],
   "metadata": {}
  },
  {
   "cell_type": "code",
   "execution_count": 12,
   "source": [
    "import numpy as np\n",
    "import torch\n",
    "import torch.nn as nn\n",
    "import torch.nn.functional as F\n",
    "from torch.utils.data import Dataset, DataLoader\n",
    "import pandas as pd\n",
    "\n",
    "def cal_rmse(actual, prediction):\n",
    "    return ((actual- prediction)**2).mean()**0.5\n",
    "\n",
    "def testing_rmse(model, data_loader):\n",
    "    model.eval()\n",
    "    test_loss = 0\n",
    "    correct = 0\n",
    "    device = 'cpu'\n",
    "    preds = []\n",
    "    with torch.no_grad():\n",
    "        for data, target in data_loader:\n",
    "            data, target = data.to(device), target.to(device)\n",
    "            output = model(data)\n",
    "            preds.append(output.numpy().flatten())\n",
    "    rmse = cal_rmse(data_loader.dataset.Y_train.numpy(),np.hstack(preds))\n",
    "    return rmse"
   ],
   "outputs": [],
   "metadata": {}
  },
  {
   "cell_type": "code",
   "execution_count": 13,
   "source": [
    "class csv_Dataset(Dataset):\n",
    "        def __init__(self, dataset_path):\n",
    "            self.input_file = pd.read_csv(dataset_path,sep=',',index_col=False)\n",
    "            x_train = self.input_file.loc[:,('year','transmission','mileage','tax','mpg','engineSize')].values\n",
    "            y_train = self.input_file.loc[:,'price'].values\n",
    "            self.X_train = torch.from_numpy(x_train).float()\n",
    "            self.Y_train = torch.from_numpy(y_train).float()\n",
    "\n",
    "        def __len__(self):            \n",
    "            return len(self.Y_train)\n",
    "\n",
    "        def __getitem__(self, idx):\n",
    "\n",
    "            return (self.X_train[idx], self.Y_train[idx])"
   ],
   "outputs": [],
   "metadata": {}
  },
  {
   "cell_type": "code",
   "execution_count": 14,
   "source": [
    "dataset = csv_Dataset(test_dataset_path)\n",
    "train_kwargs = {'batch_size': 64, 'shuffle': True}\n",
    "data_loader = DataLoader(dataset, **train_kwargs)"
   ],
   "outputs": [],
   "metadata": {}
  },
  {
   "cell_type": "code",
   "execution_count": 15,
   "source": [
    "rmse = testing_rmse(fed_model, data_loader)"
   ],
   "outputs": [],
   "metadata": {}
  },
  {
   "cell_type": "code",
   "execution_count": 16,
   "source": [
    "rmse"
   ],
   "outputs": [
    {
     "output_type": "execute_result",
     "data": {
      "text/plain": [
       "9677.594742496713"
      ]
     },
     "metadata": {},
     "execution_count": 16
    }
   ],
   "metadata": {}
  },
  {
   "cell_type": "code",
   "execution_count": null,
   "source": [],
   "outputs": [],
   "metadata": {}
  }
 ],
 "metadata": {
  "interpreter": {
   "hash": "aee8b7b246df8f9039afb4144a1f6fd8d2ca17a180786b69acc140d282b71a49"
  },
  "kernelspec": {
   "display_name": "Python 3 (ipykernel)",
   "language": "python",
   "name": "python3"
  },
  "language_info": {
   "codemirror_mode": {
    "name": "ipython",
    "version": 3
   },
   "file_extension": ".py",
   "mimetype": "text/x-python",
   "name": "python",
   "nbconvert_exporter": "python",
   "pygments_lexer": "ipython3",
   "version": "3.9.6"
  }
 },
 "nbformat": 4,
 "nbformat_minor": 1
}
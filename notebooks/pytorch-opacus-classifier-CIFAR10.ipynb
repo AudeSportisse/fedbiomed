{
 "cells": [
  {
   "cell_type": "markdown",
   "metadata": {},
   "source": [
    "# Fedbiomed Image Classifier with Differential Privacy with CIFAR10"
   ]
  },
  {
   "cell_type": "markdown",
   "metadata": {},
   "source": [
    "In this tutorial we will show how an Image classifier with "
   ]
  },
  {
   "cell_type": "code",
   "execution_count": 1,
   "metadata": {},
   "outputs": [],
   "source": [
    "%load_ext autoreload\n",
    "%autoreload 2"
   ]
  },
  {
   "cell_type": "code",
   "execution_count": 2,
   "metadata": {},
   "outputs": [
    {
     "name": "stderr",
     "output_type": "stream",
     "text": [
      "2022-01-19 15:37:17,917 fedbiomed INFO - Component environment:\n",
      "2022-01-19 15:37:17,919 fedbiomed INFO - - type = ComponentType.RESEARCHER\n",
      "2022-01-19 15:37:19,672 fedbiomed INFO - Messaging researcher_7b720652-ae3f-487c-9395-4cbebdc044b9 successfully connected to the message broker, object = <fedbiomed.common.messaging.Messaging object at 0x10adbaa30>\n",
      "2022-01-19 15:37:19,741 fedbiomed INFO - Listing available datasets in all nodes... \n",
      "2022-01-19 15:37:19,779 fedbiomed INFO - log from: node_7db84ba7-4c77-42e2-9811-3520b0777bdd / DEBUG - Message received: {'researcher_id': 'researcher_7b720652-ae3f-487c-9395-4cbebdc044b9', 'command': 'list'}\n",
      "2022-01-19 15:37:19,790 fedbiomed INFO - log from: node_60254e5d-4cc9-4627-a768-b0710d5c4b7d / DEBUG - Message received: {'researcher_id': 'researcher_7b720652-ae3f-487c-9395-4cbebdc044b9', 'command': 'list'}\n",
      "2022-01-19 15:37:29,797 fedbiomed INFO - \n",
      " Node: node_7db84ba7-4c77-42e2-9811-3520b0777bdd | Number of Datasets: 1 \n",
      "+---------+-------------+--------------------------+------------------+--------------------+\n",
      "| name    | data_type   | tags                     | description      | shape              |\n",
      "+=========+=============+==========================+==================+====================+\n",
      "| CIFAR10 | default     | ['#CIFAR10', '#dataset'] | CIFAR10 database | [50000, 3, 32, 32] |\n",
      "+---------+-------------+--------------------------+------------------+--------------------+\n",
      "\n",
      "2022-01-19 15:37:29,798 fedbiomed INFO - \n",
      " Node: node_60254e5d-4cc9-4627-a768-b0710d5c4b7d | Number of Datasets: 1 \n",
      "+---------+-------------+--------------------------+------------------+--------------------+\n",
      "| name    | data_type   | tags                     | description      | shape              |\n",
      "+=========+=============+==========================+==================+====================+\n",
      "| CIFAR10 | default     | ['#CIFAR10', '#dataset'] | CIFAR10 database | [50000, 3, 32, 32] |\n",
      "+---------+-------------+--------------------------+------------------+--------------------+\n",
      "\n"
     ]
    },
    {
     "data": {
      "text/plain": [
       "{'node_7db84ba7-4c77-42e2-9811-3520b0777bdd': [{'name': 'CIFAR10',\n",
       "   'data_type': 'default',\n",
       "   'tags': ['#CIFAR10', '#dataset'],\n",
       "   'description': 'CIFAR10 database',\n",
       "   'shape': [50000, 3, 32, 32]}],\n",
       " 'node_60254e5d-4cc9-4627-a768-b0710d5c4b7d': [{'name': 'CIFAR10',\n",
       "   'data_type': 'default',\n",
       "   'tags': ['#CIFAR10', '#dataset'],\n",
       "   'description': 'CIFAR10 database',\n",
       "   'shape': [50000, 3, 32, 32]}]}"
      ]
     },
     "execution_count": 2,
     "metadata": {},
     "output_type": "execute_result"
    }
   ],
   "source": [
    "from fedbiomed.researcher.requests import Requests\n",
    "req = Requests()\n",
    "req.list(verbose=True)"
   ]
  },
  {
   "cell_type": "markdown",
   "metadata": {},
   "source": [
    "## Start the network\n",
    "Before running this notebook, start the network with `./scripts/fedbiomed_run network`"
   ]
  },
  {
   "cell_type": "markdown",
   "metadata": {},
   "source": [
    "## Setting the node up\n",
    "It is necessary to previously configure a node:\n",
    "1. `./scripts/fedbiomed_run node add`\n",
    "  * Select option 2 (default), and write CIFAR10 to add CIFAR to the node through `torchvision.datasets.CIFAR10`\n",
    "  * Confirm default tags by hitting \"y\" and ENTER\n",
    "  * Pick the folder where CIFAR is downloaded\n",
    "  * Data must have been added (if you get a warning saying that data must be unique is because it's been already added)\n",
    "  \n",
    "2. Check that your data has been added by executing `./scripts/fedbiomed_run node list`\n",
    "3. Run the node using `./scripts/fedbiomed_run node run`. Wait until you get `Starting task manager`. it means you are online."
   ]
  },
  {
   "cell_type": "markdown",
   "metadata": {},
   "source": [
    "## Create an experiment to train a model on the data found"
   ]
  },
  {
   "cell_type": "markdown",
   "metadata": {},
   "source": [
    "Declare a TorchTrainingPlan Net class to send for training on the node"
   ]
  },
  {
   "cell_type": "code",
   "execution_count": 3,
   "metadata": {},
   "outputs": [],
   "source": [
    "from fedbiomed.researcher.environ import environ\n",
    "import tempfile\n",
    "tmp_dir_model = tempfile.TemporaryDirectory(dir=environ['TMP_DIR']+'/')\n",
    "model_file = tmp_dir_model.name + '/Cifar_opacus.py'"
   ]
  },
  {
   "cell_type": "markdown",
   "metadata": {},
   "source": [
    "In the cell below, we are going to define the model using opacus for differential privacy. For this example, we are going to use the `ModuleValidator` function to validate and/or correct models to be compatible with the `opacus` engine, and the function `make_private_with_epsilon` from `opacus.privacy_engine`. \n",
    "\n",
    "To train a model with `make_private_with_epsilon` from Opacus library, there are three privacy-specific hyper-parameters that must be tuned for better performance:\n",
    "\n",
    "* `max_grad_norm`: The maximum L2 norm of per-sample gradients before they are aggregated by the averaging step.\n",
    "* `noise_multiplier`: The amount of noise sampled and added to the average of the gradients in a batch.\n",
    "* `target_epsilon` and `target_delta`: The target ϵ and δ of the (ϵ,δ)-differential privacy guarantee. \n",
    "\n",
    "It is worth noting that in order to use the opacus `PrivacyEngine` class we need to properly define as training plan attributes a `model`, a `dataloader` and an `optimizer`."
   ]
  },
  {
   "cell_type": "code",
   "execution_count": 4,
   "metadata": {},
   "outputs": [
    {
     "name": "stdout",
     "output_type": "stream",
     "text": [
      "Writing /Users/balelli/ownCloud/INRIA_EPIONE/FedBioMed/fedbiomed/var/tmp/tmpsfuj28gd/Cifar_opacus.py\n"
     ]
    }
   ],
   "source": [
    "%%writefile \"$model_file\"\n",
    "\n",
    "import torch\n",
    "import torch.nn as nn\n",
    "from fedbiomed.common.torchnn import TorchTrainingPlan\n",
    "from fedbiomed.common.logger import logger\n",
    "from torch.utils.data import DataLoader\n",
    "import torch.optim as optim\n",
    "from torchvision import datasets, transforms, models\n",
    "from opacus import PrivacyEngine \n",
    "from opacus.validators import ModuleValidator\n",
    "from typing import Union, List\n",
    "from tqdm import tqdm\n",
    "\n",
    "# Here we define the model to be used. \n",
    "# You can use any class name (here 'Net')\n",
    "class CIFAR10DPPlan(TorchTrainingPlan):\n",
    "    def __init__(self, model_args):\n",
    "        super(CIFAR10DPPlan, self).__init__()\n",
    "        \n",
    "        # Here we define the custom dependencies that will be needed by our custom Dataloader\n",
    "        # In this case, we need the torch DataLoader classes\n",
    "        # Since we will train on MNIST, we need datasets and transform from torchvision\n",
    "        deps = [\"from torchvision import datasets, transforms, models\",\n",
    "                \"from torch.utils.data import DataLoader\",\n",
    "                \"import torch.optim as optim\",\n",
    "                \"from fedbiomed.common.logger import logger\",\n",
    "                \"from typing import Union, List\",\n",
    "                \"from tqdm import tqdm\",\n",
    "                \"from opacus import PrivacyEngine\",\n",
    "                \"from opacus.validators import ModuleValidator\",]\n",
    "        self.add_dependency(deps)\n",
    "        \n",
    "        self.model = models.resnet18(num_classes=model_args['num_classes'])\n",
    "        self.model = ModuleValidator.fix(self.model)\n",
    "        ModuleValidator.validate(self.model, strict=False)\n",
    "        \n",
    "        self.loss = nn.CrossEntropyLoss()\n",
    "        \n",
    "        self.max_grad_norm = model_args['max_grad_norm']\n",
    "        self.epsilon = model_args['target_epsilon']\n",
    "        self.delta = model_args['target_delta']\n",
    "\n",
    "    def forward(self, x):\n",
    "        return self.model(x)\n",
    "\n",
    "    def training_data(self, batch_size = 48):\n",
    "        CIFAR10_MEAN = (0.4914, 0.4822, 0.4465)\n",
    "        CIFAR10_STD_DEV = (0.2023, 0.1994, 0.2010)\n",
    "        # Custom torch Dataloader for CIFAR data\n",
    "        transform = transforms.Compose([transforms.ToTensor(),\n",
    "                                        transforms.Normalize(CIFAR10_MEAN, CIFAR10_STD_DEV),\n",
    "                                       ])\n",
    "        dataset1 = datasets.CIFAR10(self.dataset_path, train=True, download=False, transform=transform)\n",
    "        train_kwargs = {'batch_size': batch_size, 'shuffle': True}\n",
    "        data_loader = torch.utils.data.DataLoader(dataset1, **train_kwargs)\n",
    "        return data_loader\n",
    "    \n",
    "    def training_step(self, data, target):\n",
    "        output = self.forward(data)\n",
    "        loss   = self.loss(output, target)\n",
    "        return loss\n",
    "    \n",
    "    def training_routine(self,\n",
    "                         epochs: int = 2,\n",
    "                         log_interval: int = 10,\n",
    "                         lr: Union[int, float] = 1e-3,\n",
    "                         batch_size: int = 48,\n",
    "                         batch_maxnum: int = 0,\n",
    "                         dry_run: bool = False,\n",
    "                         monitor=None):\n",
    "        \n",
    "        self.device = torch.device(\"cuda\" if torch.cuda.is_available() else \"cpu\")\n",
    "        \n",
    "        self.optimizer = optim.RMSprop(self.model.parameters(), lr=lr)\n",
    "        \n",
    "        training_data = self.training_data(batch_size=batch_size)\n",
    "        \n",
    "        # enter PrivacyEngine\n",
    "        privacy_engine = PrivacyEngine()\n",
    "        self.model, self.optimizer, training_data = privacy_engine.make_private_with_epsilon(\n",
    "                                                                    module=self.model,\n",
    "                                                                    optimizer=self.optimizer,\n",
    "                                                                    data_loader=training_data,\n",
    "                                                                    epochs=epochs,\n",
    "                                                                    target_epsilon=self.epsilon,\n",
    "                                                                    target_delta=self.delta,\n",
    "                                                                    max_grad_norm=self.max_grad_norm,\n",
    "                                                                )\n",
    "\n",
    "        for epoch in range(1, epochs + 1):\n",
    "            self.model.train()\n",
    "            # (below) sampling data (with `training_data` method defined on\n",
    "            # researcher's notebook)\n",
    "            for batch_idx, (data, target) in enumerate(tqdm(training_data)):\n",
    "                #self.model.train()  # model training\n",
    "                data, target = data.to(self.device), target.to(self.device)\n",
    "                self.optimizer.zero_grad()\n",
    "                # (below) calling method `training_step` defined on\n",
    "                # researcher's notebook\n",
    "                res = self.training_step(data, target)\n",
    "                res.backward()\n",
    "                self.optimizer.step()\n",
    "\n",
    "                # do not take into account more than batch_maxnum\n",
    "                # batches from the dataset\n",
    "                if (batch_maxnum > 0) and (batch_idx >= batch_maxnum):\n",
    "                    #print('Reached {} batches for this epoch, ignore remaining data'.format(batch_maxnum))\n",
    "                    logger.debug('Reached {} batches for this epoch, ignore remaining data'.format(batch_maxnum))\n",
    "                    break\n",
    "\n",
    "                if batch_idx % log_interval == 0:\n",
    "                    logger.info('Train Epoch: {} [{}/{} ({:.0f}%)]\\tLoss: {:.6f}'.format(\n",
    "                        epoch,\n",
    "                        batch_idx * len(data),\n",
    "                        len(training_data.dataset),\n",
    "                        100 * batch_idx / len(training_data),\n",
    "                        res.item()))\n",
    "                    eps = privacy_engine.get_epsilon(self.delta)\n",
    "                    logger.info('Epsilon={:.2f}, Delta={}'.format(eps,self.delta))\n",
    "\n",
    "                    # Send scalar values via general/feedback topic\n",
    "                    if monitor is not None:\n",
    "                        monitor.add_scalar('Loss', res.item(), batch_idx, epoch)\n",
    "\n",
    "                    if dry_run:\n",
    "                        return\n",
    "\n",
    "    def save(self, filename, params: dict = None) -> None:\n",
    "        if params is not None:\n",
    "\n",
    "            # params keys are changed by the privacy engine (as _module.param_key): should be re-named\n",
    "            params_keys = list(params.keys())\n",
    "            for key in params_keys:\n",
    "                if '_module' in key:\n",
    "                    newkey = key.replace('_module.', '')\n",
    "                    params[newkey] = params.pop(key)\n",
    "                    \n",
    "            return(torch.save(params, filename))\n",
    "        else:\n",
    "            return torch.save(self.state_dict(), filename)"
   ]
  },
  {
   "cell_type": "markdown",
   "metadata": {},
   "source": [
    "This group of arguments correspond respectively:\n",
    "* `model_args`: a dictionary with the arguments related to the model (e.g. number of layers, features, etc.). This will be passed to the model class on the node side. For instance, the privacy parameters should be passed here.\n",
    "* `training_args`: a dictionary containing the arguments for the training routine (e.g. batch size, learning rate, epochs, etc.). This will be passed to the routine on the node side.\n",
    "\n",
    "**NOTE:** typos and/or lack of positional (required) arguments will raise error. 🤓"
   ]
  },
  {
   "cell_type": "code",
   "execution_count": 5,
   "metadata": {
    "pycharm": {
     "name": "#%%\n"
    }
   },
   "outputs": [],
   "source": [
    "model_args = {'num_classes': 10, 'max_grad_norm': 1.2, 'target_epsilon': 50.0, 'target_delta': 1e-5}\n",
    "\n",
    "training_args = {\n",
    "    'batch_size': 48, \n",
    "    'lr': 1e-3, \n",
    "    'epochs': 1, \n",
    "    'dry_run': False,  \n",
    "    'batch_maxnum': 100 # Fast pass for development : only use ( batch_maxnum * batch_size ) samples\n",
    "}"
   ]
  },
  {
   "cell_type": "markdown",
   "metadata": {},
   "source": [
    "# Train the federated model"
   ]
  },
  {
   "cell_type": "markdown",
   "metadata": {},
   "source": [
    "Define an experiment\n",
    "- search nodes serving data for these `tags`, optionally filter on a list of node ID with `nodes`\n",
    "- run a round of local training on nodes with model defined in `model_path` + federation with `aggregator`\n",
    "- run for `rounds` rounds, applying the `node_selection_strategy` between the rounds"
   ]
  },
  {
   "cell_type": "code",
   "execution_count": 6,
   "metadata": {
    "pycharm": {
     "name": "#%%\n"
    },
    "scrolled": true
   },
   "outputs": [
    {
     "name": "stderr",
     "output_type": "stream",
     "text": [
      "2022-01-19 15:38:07,078 fedbiomed INFO - Searching dataset with data tags: ['#CIFAR10', '#dataset'] for all nodes\n",
      "2022-01-19 15:38:07,096 fedbiomed INFO - log from: node_60254e5d-4cc9-4627-a768-b0710d5c4b7d / DEBUG - Message received: {'researcher_id': 'researcher_7b720652-ae3f-487c-9395-4cbebdc044b9', 'tags': ['#CIFAR10', '#dataset'], 'command': 'search'}\n",
      "2022-01-19 15:38:07,101 fedbiomed INFO - log from: node_7db84ba7-4c77-42e2-9811-3520b0777bdd / DEBUG - Message received: {'researcher_id': 'researcher_7b720652-ae3f-487c-9395-4cbebdc044b9', 'tags': ['#CIFAR10', '#dataset'], 'command': 'search'}\n",
      "2022-01-19 15:38:17,085 fedbiomed INFO - Node selected for training -> node_60254e5d-4cc9-4627-a768-b0710d5c4b7d\n",
      "2022-01-19 15:38:17,087 fedbiomed INFO - Node selected for training -> node_7db84ba7-4c77-42e2-9811-3520b0777bdd\n",
      "2022-01-19 15:38:17,089 fedbiomed INFO - Checking data quality of federated datasets...\n",
      "2022-01-19 15:38:18,589 fedbiomed DEBUG - torchnn saved model filename: /Users/balelli/ownCloud/INRIA_EPIONE/FedBioMed/fedbiomed/var/experiments/Experiment_0000/my_model_824834d9-5723-4162-b1dd-441be5880e51.py\n",
      "01/19/2022 15:38:18:DEBUG:torchnn saved model filename: /Users/balelli/ownCloud/INRIA_EPIONE/FedBioMed/fedbiomed/var/experiments/Experiment_0000/my_model_824834d9-5723-4162-b1dd-441be5880e51.py\n"
     ]
    }
   ],
   "source": [
    "from fedbiomed.researcher.experiment import Experiment\n",
    "from fedbiomed.researcher.aggregators.fedavg import FedAverage\n",
    "\n",
    "tags =  ['#CIFAR10', '#dataset']\n",
    "rounds = 2\n",
    "\n",
    "exp = Experiment(tags=tags,\n",
    "                 #nodes=None,\n",
    "                 model_path=model_file,\n",
    "                 model_args=model_args,\n",
    "                 model_class='CIFAR10DPPlan',\n",
    "                 training_args=training_args,\n",
    "                 rounds=rounds,\n",
    "                 aggregator=FedAverage(),\n",
    "                 node_selection_strategy=None)"
   ]
  },
  {
   "cell_type": "markdown",
   "metadata": {
    "pycharm": {
     "name": "#%% md\n"
    }
   },
   "source": [
    "Let's start the experiment.\n",
    "\n",
    "By default, this function doesn't stop until all the `rounds` are done for all the nodes"
   ]
  },
  {
   "cell_type": "code",
   "execution_count": 7,
   "metadata": {
    "pycharm": {
     "name": "#%%\n"
    },
    "scrolled": true
   },
   "outputs": [
    {
     "name": "stderr",
     "output_type": "stream",
     "text": [
      "2022-01-19 15:38:29,083 fedbiomed INFO - Sampled nodes in round 0 ['node_60254e5d-4cc9-4627-a768-b0710d5c4b7d', 'node_7db84ba7-4c77-42e2-9811-3520b0777bdd']\n",
      "01/19/2022 15:38:29:INFO:Sampled nodes in round 0 ['node_60254e5d-4cc9-4627-a768-b0710d5c4b7d', 'node_7db84ba7-4c77-42e2-9811-3520b0777bdd']\n",
      "2022-01-19 15:38:29,085 fedbiomed INFO - Send message to node node_60254e5d-4cc9-4627-a768-b0710d5c4b7d - {'researcher_id': 'researcher_7b720652-ae3f-487c-9395-4cbebdc044b9', 'job_id': '1fc15b9f-1853-4f9f-adc0-f14f55a98ffa', 'training_args': {'batch_size': 48, 'lr': 0.001, 'epochs': 1, 'dry_run': False, 'batch_maxnum': 100}, 'model_args': {'num_classes': 10, 'max_grad_norm': 1.2, 'target_epsilon': 50.0, 'target_delta': 1e-05}, 'command': 'train', 'model_url': 'http://localhost:8844/media/uploads/2022/01/19/my_model_824834d9-5723-4162-b1dd-441be5880e51.py', 'params_url': 'http://localhost:8844/media/uploads/2022/01/19/aggregated_params_init_d899660b-3e10-48bc-9594-b817e992efc1.pt', 'model_class': 'CIFAR10DPPlan', 'training_data': {'node_60254e5d-4cc9-4627-a768-b0710d5c4b7d': ['dataset_a4477319-fa6b-4a85-b848-5021109c02a5']}}\n",
      "01/19/2022 15:38:29:INFO:Send message to node node_60254e5d-4cc9-4627-a768-b0710d5c4b7d - {'researcher_id': 'researcher_7b720652-ae3f-487c-9395-4cbebdc044b9', 'job_id': '1fc15b9f-1853-4f9f-adc0-f14f55a98ffa', 'training_args': {'batch_size': 48, 'lr': 0.001, 'epochs': 1, 'dry_run': False, 'batch_maxnum': 100}, 'model_args': {'num_classes': 10, 'max_grad_norm': 1.2, 'target_epsilon': 50.0, 'target_delta': 1e-05}, 'command': 'train', 'model_url': 'http://localhost:8844/media/uploads/2022/01/19/my_model_824834d9-5723-4162-b1dd-441be5880e51.py', 'params_url': 'http://localhost:8844/media/uploads/2022/01/19/aggregated_params_init_d899660b-3e10-48bc-9594-b817e992efc1.pt', 'model_class': 'CIFAR10DPPlan', 'training_data': {'node_60254e5d-4cc9-4627-a768-b0710d5c4b7d': ['dataset_a4477319-fa6b-4a85-b848-5021109c02a5']}}\n",
      "2022-01-19 15:38:29,089 fedbiomed DEBUG - researcher_7b720652-ae3f-487c-9395-4cbebdc044b9\n",
      "01/19/2022 15:38:29:DEBUG:researcher_7b720652-ae3f-487c-9395-4cbebdc044b9\n",
      "2022-01-19 15:38:29,092 fedbiomed INFO - Send message to node node_7db84ba7-4c77-42e2-9811-3520b0777bdd - {'researcher_id': 'researcher_7b720652-ae3f-487c-9395-4cbebdc044b9', 'job_id': '1fc15b9f-1853-4f9f-adc0-f14f55a98ffa', 'training_args': {'batch_size': 48, 'lr': 0.001, 'epochs': 1, 'dry_run': False, 'batch_maxnum': 100}, 'model_args': {'num_classes': 10, 'max_grad_norm': 1.2, 'target_epsilon': 50.0, 'target_delta': 1e-05}, 'command': 'train', 'model_url': 'http://localhost:8844/media/uploads/2022/01/19/my_model_824834d9-5723-4162-b1dd-441be5880e51.py', 'params_url': 'http://localhost:8844/media/uploads/2022/01/19/aggregated_params_init_d899660b-3e10-48bc-9594-b817e992efc1.pt', 'model_class': 'CIFAR10DPPlan', 'training_data': {'node_7db84ba7-4c77-42e2-9811-3520b0777bdd': ['dataset_a8713194-9f39-4e93-9b6d-b0d527b0dea6']}}\n",
      "01/19/2022 15:38:29:INFO:Send message to node node_7db84ba7-4c77-42e2-9811-3520b0777bdd - {'researcher_id': 'researcher_7b720652-ae3f-487c-9395-4cbebdc044b9', 'job_id': '1fc15b9f-1853-4f9f-adc0-f14f55a98ffa', 'training_args': {'batch_size': 48, 'lr': 0.001, 'epochs': 1, 'dry_run': False, 'batch_maxnum': 100}, 'model_args': {'num_classes': 10, 'max_grad_norm': 1.2, 'target_epsilon': 50.0, 'target_delta': 1e-05}, 'command': 'train', 'model_url': 'http://localhost:8844/media/uploads/2022/01/19/my_model_824834d9-5723-4162-b1dd-441be5880e51.py', 'params_url': 'http://localhost:8844/media/uploads/2022/01/19/aggregated_params_init_d899660b-3e10-48bc-9594-b817e992efc1.pt', 'model_class': 'CIFAR10DPPlan', 'training_data': {'node_7db84ba7-4c77-42e2-9811-3520b0777bdd': ['dataset_a8713194-9f39-4e93-9b6d-b0d527b0dea6']}}\n",
      "2022-01-19 15:38:29,100 fedbiomed DEBUG - researcher_7b720652-ae3f-487c-9395-4cbebdc044b9\n",
      "01/19/2022 15:38:29:DEBUG:researcher_7b720652-ae3f-487c-9395-4cbebdc044b9\n",
      "2022-01-19 15:38:29,119 fedbiomed INFO - log from: node_60254e5d-4cc9-4627-a768-b0710d5c4b7d / DEBUG - Message received: {'researcher_id': 'researcher_7b720652-ae3f-487c-9395-4cbebdc044b9', 'job_id': '1fc15b9f-1853-4f9f-adc0-f14f55a98ffa', 'training_args': {'batch_size': 48, 'lr': 0.001, 'epochs': 1, 'dry_run': False, 'batch_maxnum': 100}, 'model_args': {'num_classes': 10, 'max_grad_norm': 1.2, 'target_epsilon': 50.0, 'target_delta': 1e-05}, 'command': 'train', 'model_url': 'http://localhost:8844/media/uploads/2022/01/19/my_model_824834d9-5723-4162-b1dd-441be5880e51.py', 'params_url': 'http://localhost:8844/media/uploads/2022/01/19/aggregated_params_init_d899660b-3e10-48bc-9594-b817e992efc1.pt', 'model_class': 'CIFAR10DPPlan', 'training_data': {'node_60254e5d-4cc9-4627-a768-b0710d5c4b7d': ['dataset_a4477319-fa6b-4a85-b848-5021109c02a5']}}\n",
      "01/19/2022 15:38:29:INFO:log from: node_60254e5d-4cc9-4627-a768-b0710d5c4b7d / DEBUG - Message received: {'researcher_id': 'researcher_7b720652-ae3f-487c-9395-4cbebdc044b9', 'job_id': '1fc15b9f-1853-4f9f-adc0-f14f55a98ffa', 'training_args': {'batch_size': 48, 'lr': 0.001, 'epochs': 1, 'dry_run': False, 'batch_maxnum': 100}, 'model_args': {'num_classes': 10, 'max_grad_norm': 1.2, 'target_epsilon': 50.0, 'target_delta': 1e-05}, 'command': 'train', 'model_url': 'http://localhost:8844/media/uploads/2022/01/19/my_model_824834d9-5723-4162-b1dd-441be5880e51.py', 'params_url': 'http://localhost:8844/media/uploads/2022/01/19/aggregated_params_init_d899660b-3e10-48bc-9594-b817e992efc1.pt', 'model_class': 'CIFAR10DPPlan', 'training_data': {'node_60254e5d-4cc9-4627-a768-b0710d5c4b7d': ['dataset_a4477319-fa6b-4a85-b848-5021109c02a5']}}\n",
      "2022-01-19 15:38:29,134 fedbiomed INFO - log from: node_7db84ba7-4c77-42e2-9811-3520b0777bdd / DEBUG - Message received: {'researcher_id': 'researcher_7b720652-ae3f-487c-9395-4cbebdc044b9', 'job_id': '1fc15b9f-1853-4f9f-adc0-f14f55a98ffa', 'training_args': {'batch_size': 48, 'lr': 0.001, 'epochs': 1, 'dry_run': False, 'batch_maxnum': 100}, 'model_args': {'num_classes': 10, 'max_grad_norm': 1.2, 'target_epsilon': 50.0, 'target_delta': 1e-05}, 'command': 'train', 'model_url': 'http://localhost:8844/media/uploads/2022/01/19/my_model_824834d9-5723-4162-b1dd-441be5880e51.py', 'params_url': 'http://localhost:8844/media/uploads/2022/01/19/aggregated_params_init_d899660b-3e10-48bc-9594-b817e992efc1.pt', 'model_class': 'CIFAR10DPPlan', 'training_data': {'node_7db84ba7-4c77-42e2-9811-3520b0777bdd': ['dataset_a8713194-9f39-4e93-9b6d-b0d527b0dea6']}}\n",
      "01/19/2022 15:38:29:INFO:log from: node_7db84ba7-4c77-42e2-9811-3520b0777bdd / DEBUG - Message received: {'researcher_id': 'researcher_7b720652-ae3f-487c-9395-4cbebdc044b9', 'job_id': '1fc15b9f-1853-4f9f-adc0-f14f55a98ffa', 'training_args': {'batch_size': 48, 'lr': 0.001, 'epochs': 1, 'dry_run': False, 'batch_maxnum': 100}, 'model_args': {'num_classes': 10, 'max_grad_norm': 1.2, 'target_epsilon': 50.0, 'target_delta': 1e-05}, 'command': 'train', 'model_url': 'http://localhost:8844/media/uploads/2022/01/19/my_model_824834d9-5723-4162-b1dd-441be5880e51.py', 'params_url': 'http://localhost:8844/media/uploads/2022/01/19/aggregated_params_init_d899660b-3e10-48bc-9594-b817e992efc1.pt', 'model_class': 'CIFAR10DPPlan', 'training_data': {'node_7db84ba7-4c77-42e2-9811-3520b0777bdd': ['dataset_a8713194-9f39-4e93-9b6d-b0d527b0dea6']}}\n",
      "2022-01-19 15:38:29,151 fedbiomed INFO - log from: node_60254e5d-4cc9-4627-a768-b0710d5c4b7d / DEBUG - [TASKS QUEUE] Item:{'researcher_id': 'researcher_7b720652-ae3f-487c-9395-4cbebdc044b9', 'job_id': '1fc15b9f-1853-4f9f-adc0-f14f55a98ffa', 'params_url': 'http://localhost:8844/media/uploads/2022/01/19/aggregated_params_init_d899660b-3e10-48bc-9594-b817e992efc1.pt', 'training_args': {'batch_size': 48, 'lr': 0.001, 'epochs': 1, 'dry_run': False, 'batch_maxnum': 100}, 'training_data': {'node_60254e5d-4cc9-4627-a768-b0710d5c4b7d': ['dataset_a4477319-fa6b-4a85-b848-5021109c02a5']}, 'model_args': {'num_classes': 10, 'max_grad_norm': 1.2, 'target_epsilon': 50.0, 'target_delta': 1e-05}, 'model_url': 'http://localhost:8844/media/uploads/2022/01/19/my_model_824834d9-5723-4162-b1dd-441be5880e51.py', 'model_class': 'CIFAR10DPPlan', 'command': 'train'}\n",
      "01/19/2022 15:38:29:INFO:log from: node_60254e5d-4cc9-4627-a768-b0710d5c4b7d / DEBUG - [TASKS QUEUE] Item:{'researcher_id': 'researcher_7b720652-ae3f-487c-9395-4cbebdc044b9', 'job_id': '1fc15b9f-1853-4f9f-adc0-f14f55a98ffa', 'params_url': 'http://localhost:8844/media/uploads/2022/01/19/aggregated_params_init_d899660b-3e10-48bc-9594-b817e992efc1.pt', 'training_args': {'batch_size': 48, 'lr': 0.001, 'epochs': 1, 'dry_run': False, 'batch_maxnum': 100}, 'training_data': {'node_60254e5d-4cc9-4627-a768-b0710d5c4b7d': ['dataset_a4477319-fa6b-4a85-b848-5021109c02a5']}, 'model_args': {'num_classes': 10, 'max_grad_norm': 1.2, 'target_epsilon': 50.0, 'target_delta': 1e-05}, 'model_url': 'http://localhost:8844/media/uploads/2022/01/19/my_model_824834d9-5723-4162-b1dd-441be5880e51.py', 'model_class': 'CIFAR10DPPlan', 'command': 'train'}\n"
     ]
    },
    {
     "name": "stderr",
     "output_type": "stream",
     "text": [
      "2022-01-19 15:38:29,159 fedbiomed INFO - log from: node_7db84ba7-4c77-42e2-9811-3520b0777bdd / DEBUG - [TASKS QUEUE] Item:{'researcher_id': 'researcher_7b720652-ae3f-487c-9395-4cbebdc044b9', 'job_id': '1fc15b9f-1853-4f9f-adc0-f14f55a98ffa', 'params_url': 'http://localhost:8844/media/uploads/2022/01/19/aggregated_params_init_d899660b-3e10-48bc-9594-b817e992efc1.pt', 'training_args': {'batch_size': 48, 'lr': 0.001, 'epochs': 1, 'dry_run': False, 'batch_maxnum': 100}, 'training_data': {'node_7db84ba7-4c77-42e2-9811-3520b0777bdd': ['dataset_a8713194-9f39-4e93-9b6d-b0d527b0dea6']}, 'model_args': {'num_classes': 10, 'max_grad_norm': 1.2, 'target_epsilon': 50.0, 'target_delta': 1e-05}, 'model_url': 'http://localhost:8844/media/uploads/2022/01/19/my_model_824834d9-5723-4162-b1dd-441be5880e51.py', 'model_class': 'CIFAR10DPPlan', 'command': 'train'}\n",
      "01/19/2022 15:38:29:INFO:log from: node_7db84ba7-4c77-42e2-9811-3520b0777bdd / DEBUG - [TASKS QUEUE] Item:{'researcher_id': 'researcher_7b720652-ae3f-487c-9395-4cbebdc044b9', 'job_id': '1fc15b9f-1853-4f9f-adc0-f14f55a98ffa', 'params_url': 'http://localhost:8844/media/uploads/2022/01/19/aggregated_params_init_d899660b-3e10-48bc-9594-b817e992efc1.pt', 'training_args': {'batch_size': 48, 'lr': 0.001, 'epochs': 1, 'dry_run': False, 'batch_maxnum': 100}, 'training_data': {'node_7db84ba7-4c77-42e2-9811-3520b0777bdd': ['dataset_a8713194-9f39-4e93-9b6d-b0d527b0dea6']}, 'model_args': {'num_classes': 10, 'max_grad_norm': 1.2, 'target_epsilon': 50.0, 'target_delta': 1e-05}, 'model_url': 'http://localhost:8844/media/uploads/2022/01/19/my_model_824834d9-5723-4162-b1dd-441be5880e51.py', 'model_class': 'CIFAR10DPPlan', 'command': 'train'}\n",
      "2022-01-19 15:38:36,594 fedbiomed INFO - log from: node_60254e5d-4cc9-4627-a768-b0710d5c4b7d / INFO - {'monitor': <fedbiomed.node.history_monitor.HistoryMonitor object at 0x1328ae910>, 'batch_size': 48, 'lr': 0.001, 'epochs': 1, 'dry_run': False, 'batch_maxnum': 100}\n",
      "01/19/2022 15:38:36:INFO:log from: node_60254e5d-4cc9-4627-a768-b0710d5c4b7d / INFO - {'monitor': <fedbiomed.node.history_monitor.HistoryMonitor object at 0x1328ae910>, 'batch_size': 48, 'lr': 0.001, 'epochs': 1, 'dry_run': False, 'batch_maxnum': 100}\n",
      "2022-01-19 15:38:36,597 fedbiomed INFO - log from: node_60254e5d-4cc9-4627-a768-b0710d5c4b7d / DEBUG - Dataset_path/Users/balelli/data\n",
      "01/19/2022 15:38:36:INFO:log from: node_60254e5d-4cc9-4627-a768-b0710d5c4b7d / DEBUG - Dataset_path/Users/balelli/data\n",
      "2022-01-19 15:38:36,612 fedbiomed INFO - log from: node_7db84ba7-4c77-42e2-9811-3520b0777bdd / INFO - {'monitor': <fedbiomed.node.history_monitor.HistoryMonitor object at 0x1272c98e0>, 'batch_size': 48, 'lr': 0.001, 'epochs': 1, 'dry_run': False, 'batch_maxnum': 100}\n",
      "01/19/2022 15:38:36:INFO:log from: node_7db84ba7-4c77-42e2-9811-3520b0777bdd / INFO - {'monitor': <fedbiomed.node.history_monitor.HistoryMonitor object at 0x1272c98e0>, 'batch_size': 48, 'lr': 0.001, 'epochs': 1, 'dry_run': False, 'batch_maxnum': 100}\n",
      "2022-01-19 15:38:36,621 fedbiomed INFO - log from: node_7db84ba7-4c77-42e2-9811-3520b0777bdd / DEBUG - Dataset_path/Users/balelli/data\n",
      "01/19/2022 15:38:36:INFO:log from: node_7db84ba7-4c77-42e2-9811-3520b0777bdd / DEBUG - Dataset_path/Users/balelli/data\n",
      "2022-01-19 15:38:56,792 fedbiomed INFO - log from: node_60254e5d-4cc9-4627-a768-b0710d5c4b7d / INFO - Train Epoch: 1 [0/50000 (0%)]\tLoss: 2.727126\n",
      "01/19/2022 15:38:56:INFO:log from: node_60254e5d-4cc9-4627-a768-b0710d5c4b7d / INFO - Train Epoch: 1 [0/50000 (0%)]\tLoss: 2.727126\n",
      "2022-01-19 15:38:57,054 fedbiomed INFO - log from: node_60254e5d-4cc9-4627-a768-b0710d5c4b7d / INFO - Epsilon=14.04, Delta=1e-05\n",
      "01/19/2022 15:38:57:INFO:log from: node_60254e5d-4cc9-4627-a768-b0710d5c4b7d / INFO - Epsilon=14.04, Delta=1e-05\n",
      "2022-01-19 15:39:02,185 fedbiomed INFO - log from: node_7db84ba7-4c77-42e2-9811-3520b0777bdd / INFO - Train Epoch: 1 [0/50000 (0%)]\tLoss: 2.326601\n",
      "01/19/2022 15:39:02:INFO:log from: node_7db84ba7-4c77-42e2-9811-3520b0777bdd / INFO - Train Epoch: 1 [0/50000 (0%)]\tLoss: 2.326601\n",
      "2022-01-19 15:39:02,396 fedbiomed INFO - log from: node_7db84ba7-4c77-42e2-9811-3520b0777bdd / INFO - Epsilon=14.04, Delta=1e-05\n",
      "01/19/2022 15:39:02:INFO:log from: node_7db84ba7-4c77-42e2-9811-3520b0777bdd / INFO - Epsilon=14.04, Delta=1e-05\n",
      "2022-01-19 15:40:26,421 fedbiomed INFO - log from: node_60254e5d-4cc9-4627-a768-b0710d5c4b7d / INFO - Train Epoch: 1 [520/50000 (1%)]\tLoss: 2.352474\n",
      "01/19/2022 15:40:26:INFO:log from: node_60254e5d-4cc9-4627-a768-b0710d5c4b7d / INFO - Train Epoch: 1 [520/50000 (1%)]\tLoss: 2.352474\n",
      "2022-01-19 15:40:26,514 fedbiomed INFO - log from: node_60254e5d-4cc9-4627-a768-b0710d5c4b7d / INFO - Epsilon=19.02, Delta=1e-05\n",
      "01/19/2022 15:40:26:INFO:log from: node_60254e5d-4cc9-4627-a768-b0710d5c4b7d / INFO - Epsilon=19.02, Delta=1e-05\n",
      "2022-01-19 15:40:32,057 fedbiomed INFO - log from: node_7db84ba7-4c77-42e2-9811-3520b0777bdd / INFO - Train Epoch: 1 [480/50000 (1%)]\tLoss: 3.019404\n",
      "01/19/2022 15:40:32:INFO:log from: node_7db84ba7-4c77-42e2-9811-3520b0777bdd / INFO - Train Epoch: 1 [480/50000 (1%)]\tLoss: 3.019404\n",
      "2022-01-19 15:40:32,183 fedbiomed INFO - log from: node_7db84ba7-4c77-42e2-9811-3520b0777bdd / INFO - Epsilon=19.02, Delta=1e-05\n",
      "01/19/2022 15:40:32:INFO:log from: node_7db84ba7-4c77-42e2-9811-3520b0777bdd / INFO - Epsilon=19.02, Delta=1e-05\n",
      "2022-01-19 15:41:18,589 fedbiomed INFO - log from: node_60254e5d-4cc9-4627-a768-b0710d5c4b7d / INFO - Train Epoch: 1 [780/50000 (2%)]\tLoss: 2.481306\n",
      "01/19/2022 15:41:18:INFO:log from: node_60254e5d-4cc9-4627-a768-b0710d5c4b7d / INFO - Train Epoch: 1 [780/50000 (2%)]\tLoss: 2.481306\n",
      "2022-01-19 15:41:18,870 fedbiomed INFO - log from: node_60254e5d-4cc9-4627-a768-b0710d5c4b7d / INFO - Epsilon=20.47, Delta=1e-05\n",
      "01/19/2022 15:41:18:INFO:log from: node_60254e5d-4cc9-4627-a768-b0710d5c4b7d / INFO - Epsilon=20.47, Delta=1e-05\n",
      "2022-01-19 15:41:22,647 fedbiomed INFO - log from: node_7db84ba7-4c77-42e2-9811-3520b0777bdd / INFO - Train Epoch: 1 [800/50000 (2%)]\tLoss: 2.278859\n",
      "01/19/2022 15:41:22:INFO:log from: node_7db84ba7-4c77-42e2-9811-3520b0777bdd / INFO - Train Epoch: 1 [800/50000 (2%)]\tLoss: 2.278859\n",
      "2022-01-19 15:41:22,803 fedbiomed INFO - log from: node_7db84ba7-4c77-42e2-9811-3520b0777bdd / INFO - Epsilon=20.47, Delta=1e-05\n",
      "01/19/2022 15:41:22:INFO:log from: node_7db84ba7-4c77-42e2-9811-3520b0777bdd / INFO - Epsilon=20.47, Delta=1e-05\n",
      "2022-01-19 15:43:15,092 fedbiomed INFO - log from: node_7db84ba7-4c77-42e2-9811-3520b0777bdd / INFO - Train Epoch: 1 [1830/50000 (3%)]\tLoss: 2.266462\n",
      "01/19/2022 15:43:15:INFO:log from: node_7db84ba7-4c77-42e2-9811-3520b0777bdd / INFO - Train Epoch: 1 [1830/50000 (3%)]\tLoss: 2.266462\n",
      "2022-01-19 15:43:15,665 fedbiomed INFO - log from: node_7db84ba7-4c77-42e2-9811-3520b0777bdd / INFO - Epsilon=21.92, Delta=1e-05\n",
      "01/19/2022 15:43:15:INFO:log from: node_7db84ba7-4c77-42e2-9811-3520b0777bdd / INFO - Epsilon=21.92, Delta=1e-05\n",
      "2022-01-19 15:43:25,506 fedbiomed INFO - log from: node_60254e5d-4cc9-4627-a768-b0710d5c4b7d / INFO - Train Epoch: 1 [1440/50000 (3%)]\tLoss: 2.286427\n",
      "01/19/2022 15:43:25:INFO:log from: node_60254e5d-4cc9-4627-a768-b0710d5c4b7d / INFO - Train Epoch: 1 [1440/50000 (3%)]\tLoss: 2.286427\n",
      "2022-01-19 15:43:25,636 fedbiomed INFO - log from: node_60254e5d-4cc9-4627-a768-b0710d5c4b7d / INFO - Epsilon=21.92, Delta=1e-05\n",
      "01/19/2022 15:43:25:INFO:log from: node_60254e5d-4cc9-4627-a768-b0710d5c4b7d / INFO - Epsilon=21.92, Delta=1e-05\n",
      "2022-01-19 15:44:29,418 fedbiomed INFO - log from: node_7db84ba7-4c77-42e2-9811-3520b0777bdd / INFO - Train Epoch: 1 [1720/50000 (4%)]\tLoss: 2.195694\n",
      "01/19/2022 15:44:29:INFO:log from: node_7db84ba7-4c77-42e2-9811-3520b0777bdd / INFO - Train Epoch: 1 [1720/50000 (4%)]\tLoss: 2.195694\n",
      "2022-01-19 15:44:29,586 fedbiomed INFO - log from: node_7db84ba7-4c77-42e2-9811-3520b0777bdd / INFO - Epsilon=23.25, Delta=1e-05\n",
      "01/19/2022 15:44:29:INFO:log from: node_7db84ba7-4c77-42e2-9811-3520b0777bdd / INFO - Epsilon=23.25, Delta=1e-05\n",
      "2022-01-19 15:44:46,231 fedbiomed INFO - log from: node_60254e5d-4cc9-4627-a768-b0710d5c4b7d / INFO - Train Epoch: 1 [1880/50000 (4%)]\tLoss: 2.326129\n",
      "01/19/2022 15:44:46:INFO:log from: node_60254e5d-4cc9-4627-a768-b0710d5c4b7d / INFO - Train Epoch: 1 [1880/50000 (4%)]\tLoss: 2.326129\n"
     ]
    },
    {
     "name": "stderr",
     "output_type": "stream",
     "text": [
      "2022-01-19 15:44:46,345 fedbiomed INFO - log from: node_60254e5d-4cc9-4627-a768-b0710d5c4b7d / INFO - Epsilon=23.25, Delta=1e-05\n",
      "01/19/2022 15:44:46:INFO:log from: node_60254e5d-4cc9-4627-a768-b0710d5c4b7d / INFO - Epsilon=23.25, Delta=1e-05\n",
      "2022-01-19 15:46:14,271 fedbiomed INFO - log from: node_7db84ba7-4c77-42e2-9811-3520b0777bdd / INFO - Train Epoch: 1 [2150/50000 (5%)]\tLoss: 2.132012\n",
      "01/19/2022 15:46:14:INFO:log from: node_7db84ba7-4c77-42e2-9811-3520b0777bdd / INFO - Train Epoch: 1 [2150/50000 (5%)]\tLoss: 2.132012\n",
      "2022-01-19 15:46:14,611 fedbiomed INFO - log from: node_7db84ba7-4c77-42e2-9811-3520b0777bdd / INFO - Epsilon=23.77, Delta=1e-05\n",
      "01/19/2022 15:46:14:INFO:log from: node_7db84ba7-4c77-42e2-9811-3520b0777bdd / INFO - Epsilon=23.77, Delta=1e-05\n",
      "2022-01-19 15:46:46,353 fedbiomed INFO - log from: node_60254e5d-4cc9-4627-a768-b0710d5c4b7d / INFO - Train Epoch: 1 [3000/50000 (5%)]\tLoss: 2.148087\n",
      "01/19/2022 15:46:46:INFO:log from: node_60254e5d-4cc9-4627-a768-b0710d5c4b7d / INFO - Train Epoch: 1 [3000/50000 (5%)]\tLoss: 2.148087\n",
      "2022-01-19 15:46:46,621 fedbiomed INFO - log from: node_60254e5d-4cc9-4627-a768-b0710d5c4b7d / INFO - Epsilon=23.77, Delta=1e-05\n",
      "01/19/2022 15:46:46:INFO:log from: node_60254e5d-4cc9-4627-a768-b0710d5c4b7d / INFO - Epsilon=23.77, Delta=1e-05\n",
      "2022-01-19 15:48:09,091 fedbiomed INFO - log from: node_7db84ba7-4c77-42e2-9811-3520b0777bdd / INFO - Train Epoch: 1 [2580/50000 (6%)]\tLoss: 2.151644\n",
      "01/19/2022 15:48:09:INFO:log from: node_7db84ba7-4c77-42e2-9811-3520b0777bdd / INFO - Train Epoch: 1 [2580/50000 (6%)]\tLoss: 2.151644\n",
      "2022-01-19 15:48:09,169 fedbiomed INFO - log from: node_7db84ba7-4c77-42e2-9811-3520b0777bdd / INFO - Epsilon=24.29, Delta=1e-05\n",
      "01/19/2022 15:48:09:INFO:log from: node_7db84ba7-4c77-42e2-9811-3520b0777bdd / INFO - Epsilon=24.29, Delta=1e-05\n",
      "2022-01-19 15:48:36,361 fedbiomed INFO - log from: node_60254e5d-4cc9-4627-a768-b0710d5c4b7d / INFO - Train Epoch: 1 [3300/50000 (6%)]\tLoss: 2.089523\n",
      "01/19/2022 15:48:36:INFO:log from: node_60254e5d-4cc9-4627-a768-b0710d5c4b7d / INFO - Train Epoch: 1 [3300/50000 (6%)]\tLoss: 2.089523\n",
      "2022-01-19 15:48:36,573 fedbiomed INFO - log from: node_60254e5d-4cc9-4627-a768-b0710d5c4b7d / INFO - Epsilon=24.29, Delta=1e-05\n",
      "01/19/2022 15:48:36:INFO:log from: node_60254e5d-4cc9-4627-a768-b0710d5c4b7d / INFO - Epsilon=24.29, Delta=1e-05\n",
      "2022-01-19 15:49:24,214 fedbiomed INFO - log from: node_7db84ba7-4c77-42e2-9811-3520b0777bdd / INFO - Train Epoch: 1 [4200/50000 (7%)]\tLoss: 2.151272\n",
      "01/19/2022 15:49:24:INFO:log from: node_7db84ba7-4c77-42e2-9811-3520b0777bdd / INFO - Train Epoch: 1 [4200/50000 (7%)]\tLoss: 2.151272\n",
      "2022-01-19 15:49:24,361 fedbiomed INFO - log from: node_7db84ba7-4c77-42e2-9811-3520b0777bdd / INFO - Epsilon=24.80, Delta=1e-05\n",
      "01/19/2022 15:49:24:INFO:log from: node_7db84ba7-4c77-42e2-9811-3520b0777bdd / INFO - Epsilon=24.80, Delta=1e-05\n",
      "2022-01-19 15:49:54,493 fedbiomed INFO - log from: node_60254e5d-4cc9-4627-a768-b0710d5c4b7d / INFO - Train Epoch: 1 [4200/50000 (7%)]\tLoss: 2.038764\n",
      "01/19/2022 15:49:54:INFO:log from: node_60254e5d-4cc9-4627-a768-b0710d5c4b7d / INFO - Train Epoch: 1 [4200/50000 (7%)]\tLoss: 2.038764\n",
      "2022-01-19 15:49:54,607 fedbiomed INFO - log from: node_60254e5d-4cc9-4627-a768-b0710d5c4b7d / INFO - Epsilon=24.80, Delta=1e-05\n",
      "01/19/2022 15:49:54:INFO:log from: node_60254e5d-4cc9-4627-a768-b0710d5c4b7d / INFO - Epsilon=24.80, Delta=1e-05\n",
      "2022-01-19 15:50:43,011 fedbiomed INFO - log from: node_7db84ba7-4c77-42e2-9811-3520b0777bdd / INFO - Train Epoch: 1 [4560/50000 (8%)]\tLoss: 2.191836\n",
      "01/19/2022 15:50:43:INFO:log from: node_7db84ba7-4c77-42e2-9811-3520b0777bdd / INFO - Train Epoch: 1 [4560/50000 (8%)]\tLoss: 2.191836\n",
      "2022-01-19 15:50:43,325 fedbiomed INFO - log from: node_7db84ba7-4c77-42e2-9811-3520b0777bdd / INFO - Epsilon=25.32, Delta=1e-05\n",
      "01/19/2022 15:50:43:INFO:log from: node_7db84ba7-4c77-42e2-9811-3520b0777bdd / INFO - Epsilon=25.32, Delta=1e-05\n",
      "2022-01-19 15:51:27,594 fedbiomed INFO - log from: node_60254e5d-4cc9-4627-a768-b0710d5c4b7d / INFO - Train Epoch: 1 [3440/50000 (8%)]\tLoss: 1.857030\n",
      "01/19/2022 15:51:27:INFO:log from: node_60254e5d-4cc9-4627-a768-b0710d5c4b7d / INFO - Train Epoch: 1 [3440/50000 (8%)]\tLoss: 1.857030\n",
      "2022-01-19 15:51:27,753 fedbiomed INFO - log from: node_60254e5d-4cc9-4627-a768-b0710d5c4b7d / INFO - Epsilon=25.32, Delta=1e-05\n",
      "01/19/2022 15:51:27:INFO:log from: node_60254e5d-4cc9-4627-a768-b0710d5c4b7d / INFO - Epsilon=25.32, Delta=1e-05\n",
      "2022-01-19 15:52:17,582 fedbiomed INFO - log from: node_7db84ba7-4c77-42e2-9811-3520b0777bdd / INFO - Train Epoch: 1 [4860/50000 (9%)]\tLoss: 2.157281\n",
      "01/19/2022 15:52:17:INFO:log from: node_7db84ba7-4c77-42e2-9811-3520b0777bdd / INFO - Train Epoch: 1 [4860/50000 (9%)]\tLoss: 2.157281\n",
      "2022-01-19 15:52:17,717 fedbiomed INFO - log from: node_7db84ba7-4c77-42e2-9811-3520b0777bdd / INFO - Epsilon=25.84, Delta=1e-05\n",
      "01/19/2022 15:52:17:INFO:log from: node_7db84ba7-4c77-42e2-9811-3520b0777bdd / INFO - Epsilon=25.84, Delta=1e-05\n",
      "2022-01-19 15:53:04,076 fedbiomed INFO - log from: node_60254e5d-4cc9-4627-a768-b0710d5c4b7d / INFO - Train Epoch: 1 [4410/50000 (9%)]\tLoss: 2.162148\n",
      "01/19/2022 15:53:04:INFO:log from: node_60254e5d-4cc9-4627-a768-b0710d5c4b7d / INFO - Train Epoch: 1 [4410/50000 (9%)]\tLoss: 2.162148\n",
      "2022-01-19 15:53:04,197 fedbiomed INFO - log from: node_60254e5d-4cc9-4627-a768-b0710d5c4b7d / INFO - Epsilon=25.84, Delta=1e-05\n",
      "01/19/2022 15:53:04:INFO:log from: node_60254e5d-4cc9-4627-a768-b0710d5c4b7d / INFO - Epsilon=25.84, Delta=1e-05\n",
      "2022-01-19 15:53:37,664 fedbiomed INFO - log from: node_7db84ba7-4c77-42e2-9811-3520b0777bdd / DEBUG - Reached 100 batches for this epoch, ignore remaining data\n",
      "01/19/2022 15:53:37:INFO:log from: node_7db84ba7-4c77-42e2-9811-3520b0777bdd / DEBUG - Reached 100 batches for this epoch, ignore remaining data\n",
      "2022-01-19 15:53:48,669 fedbiomed INFO - log from: node_7db84ba7-4c77-42e2-9811-3520b0777bdd / INFO - results uploaded successfully \n",
      "01/19/2022 15:53:48:INFO:log from: node_7db84ba7-4c77-42e2-9811-3520b0777bdd / INFO - results uploaded successfully \n",
      "2022-01-19 15:53:56,025 fedbiomed INFO - Downloading model params after training on node_7db84ba7-4c77-42e2-9811-3520b0777bdd - from http://localhost:8844/media/uploads/2022/01/19/node_params_0f886eb5-ad20-4391-81f1-0df4faac86d9.pt\n",
      "01/19/2022 15:53:56:INFO:Downloading model params after training on node_7db84ba7-4c77-42e2-9811-3520b0777bdd - from http://localhost:8844/media/uploads/2022/01/19/node_params_0f886eb5-ad20-4391-81f1-0df4faac86d9.pt\n",
      "2022-01-19 15:54:09,989 fedbiomed INFO - log from: node_60254e5d-4cc9-4627-a768-b0710d5c4b7d / DEBUG - Reached 100 batches for this epoch, ignore remaining data\n",
      "01/19/2022 15:54:09:INFO:log from: node_60254e5d-4cc9-4627-a768-b0710d5c4b7d / DEBUG - Reached 100 batches for this epoch, ignore remaining data\n",
      "2022-01-19 15:54:16,472 fedbiomed INFO - log from: node_60254e5d-4cc9-4627-a768-b0710d5c4b7d / INFO - results uploaded successfully \n",
      "01/19/2022 15:54:16:INFO:log from: node_60254e5d-4cc9-4627-a768-b0710d5c4b7d / INFO - results uploaded successfully \n",
      "2022-01-19 15:54:24,455 fedbiomed INFO - Downloading model params after training on node_60254e5d-4cc9-4627-a768-b0710d5c4b7d - from http://localhost:8844/media/uploads/2022/01/19/node_params_8d541942-abc9-41a3-b44f-56437a3b31b7.pt\n",
      "01/19/2022 15:54:24:INFO:Downloading model params after training on node_60254e5d-4cc9-4627-a768-b0710d5c4b7d - from http://localhost:8844/media/uploads/2022/01/19/node_params_8d541942-abc9-41a3-b44f-56437a3b31b7.pt\n",
      "2022-01-19 15:54:26,579 fedbiomed INFO - Nodes that successfully reply in round 0 ['node_7db84ba7-4c77-42e2-9811-3520b0777bdd', 'node_60254e5d-4cc9-4627-a768-b0710d5c4b7d']\n",
      "01/19/2022 15:54:26:INFO:Nodes that successfully reply in round 0 ['node_7db84ba7-4c77-42e2-9811-3520b0777bdd', 'node_60254e5d-4cc9-4627-a768-b0710d5c4b7d']\n",
      "2022-01-19 15:54:32,348 fedbiomed INFO - Saved aggregated params for round 0 in /Users/balelli/ownCloud/INRIA_EPIONE/FedBioMed/fedbiomed/var/experiments/Experiment_0000/aggregated_params_dd8b9bda-13e6-4792-9dae-fb906d0d76ee.pt\n",
      "01/19/2022 15:54:32:INFO:Saved aggregated params for round 0 in /Users/balelli/ownCloud/INRIA_EPIONE/FedBioMed/fedbiomed/var/experiments/Experiment_0000/aggregated_params_dd8b9bda-13e6-4792-9dae-fb906d0d76ee.pt\n"
     ]
    },
    {
     "name": "stderr",
     "output_type": "stream",
     "text": [
      "2022-01-19 15:54:32,350 fedbiomed INFO - Sampled nodes in round 1 ['node_60254e5d-4cc9-4627-a768-b0710d5c4b7d', 'node_7db84ba7-4c77-42e2-9811-3520b0777bdd']\n",
      "01/19/2022 15:54:32:INFO:Sampled nodes in round 1 ['node_60254e5d-4cc9-4627-a768-b0710d5c4b7d', 'node_7db84ba7-4c77-42e2-9811-3520b0777bdd']\n",
      "2022-01-19 15:54:32,354 fedbiomed INFO - Send message to node node_60254e5d-4cc9-4627-a768-b0710d5c4b7d - {'researcher_id': 'researcher_7b720652-ae3f-487c-9395-4cbebdc044b9', 'job_id': '1fc15b9f-1853-4f9f-adc0-f14f55a98ffa', 'training_args': {'batch_size': 48, 'lr': 0.001, 'epochs': 1, 'dry_run': False, 'batch_maxnum': 100}, 'model_args': {'num_classes': 10, 'max_grad_norm': 1.2, 'target_epsilon': 50.0, 'target_delta': 1e-05}, 'command': 'train', 'model_url': 'http://localhost:8844/media/uploads/2022/01/19/my_model_824834d9-5723-4162-b1dd-441be5880e51.py', 'params_url': 'http://localhost:8844/media/uploads/2022/01/19/aggregated_params_dd8b9bda-13e6-4792-9dae-fb906d0d76ee.pt', 'model_class': 'CIFAR10DPPlan', 'training_data': {'node_60254e5d-4cc9-4627-a768-b0710d5c4b7d': ['dataset_a4477319-fa6b-4a85-b848-5021109c02a5']}}\n",
      "01/19/2022 15:54:32:INFO:Send message to node node_60254e5d-4cc9-4627-a768-b0710d5c4b7d - {'researcher_id': 'researcher_7b720652-ae3f-487c-9395-4cbebdc044b9', 'job_id': '1fc15b9f-1853-4f9f-adc0-f14f55a98ffa', 'training_args': {'batch_size': 48, 'lr': 0.001, 'epochs': 1, 'dry_run': False, 'batch_maxnum': 100}, 'model_args': {'num_classes': 10, 'max_grad_norm': 1.2, 'target_epsilon': 50.0, 'target_delta': 1e-05}, 'command': 'train', 'model_url': 'http://localhost:8844/media/uploads/2022/01/19/my_model_824834d9-5723-4162-b1dd-441be5880e51.py', 'params_url': 'http://localhost:8844/media/uploads/2022/01/19/aggregated_params_dd8b9bda-13e6-4792-9dae-fb906d0d76ee.pt', 'model_class': 'CIFAR10DPPlan', 'training_data': {'node_60254e5d-4cc9-4627-a768-b0710d5c4b7d': ['dataset_a4477319-fa6b-4a85-b848-5021109c02a5']}}\n",
      "2022-01-19 15:54:32,360 fedbiomed DEBUG - researcher_7b720652-ae3f-487c-9395-4cbebdc044b9\n",
      "01/19/2022 15:54:32:DEBUG:researcher_7b720652-ae3f-487c-9395-4cbebdc044b9\n",
      "2022-01-19 15:54:32,403 fedbiomed INFO - Send message to node node_7db84ba7-4c77-42e2-9811-3520b0777bdd - {'researcher_id': 'researcher_7b720652-ae3f-487c-9395-4cbebdc044b9', 'job_id': '1fc15b9f-1853-4f9f-adc0-f14f55a98ffa', 'training_args': {'batch_size': 48, 'lr': 0.001, 'epochs': 1, 'dry_run': False, 'batch_maxnum': 100}, 'model_args': {'num_classes': 10, 'max_grad_norm': 1.2, 'target_epsilon': 50.0, 'target_delta': 1e-05}, 'command': 'train', 'model_url': 'http://localhost:8844/media/uploads/2022/01/19/my_model_824834d9-5723-4162-b1dd-441be5880e51.py', 'params_url': 'http://localhost:8844/media/uploads/2022/01/19/aggregated_params_dd8b9bda-13e6-4792-9dae-fb906d0d76ee.pt', 'model_class': 'CIFAR10DPPlan', 'training_data': {'node_7db84ba7-4c77-42e2-9811-3520b0777bdd': ['dataset_a8713194-9f39-4e93-9b6d-b0d527b0dea6']}}\n",
      "01/19/2022 15:54:32:INFO:Send message to node node_7db84ba7-4c77-42e2-9811-3520b0777bdd - {'researcher_id': 'researcher_7b720652-ae3f-487c-9395-4cbebdc044b9', 'job_id': '1fc15b9f-1853-4f9f-adc0-f14f55a98ffa', 'training_args': {'batch_size': 48, 'lr': 0.001, 'epochs': 1, 'dry_run': False, 'batch_maxnum': 100}, 'model_args': {'num_classes': 10, 'max_grad_norm': 1.2, 'target_epsilon': 50.0, 'target_delta': 1e-05}, 'command': 'train', 'model_url': 'http://localhost:8844/media/uploads/2022/01/19/my_model_824834d9-5723-4162-b1dd-441be5880e51.py', 'params_url': 'http://localhost:8844/media/uploads/2022/01/19/aggregated_params_dd8b9bda-13e6-4792-9dae-fb906d0d76ee.pt', 'model_class': 'CIFAR10DPPlan', 'training_data': {'node_7db84ba7-4c77-42e2-9811-3520b0777bdd': ['dataset_a8713194-9f39-4e93-9b6d-b0d527b0dea6']}}\n",
      "2022-01-19 15:54:32,412 fedbiomed DEBUG - researcher_7b720652-ae3f-487c-9395-4cbebdc044b9\n",
      "01/19/2022 15:54:32:DEBUG:researcher_7b720652-ae3f-487c-9395-4cbebdc044b9\n",
      "2022-01-19 15:54:32,448 fedbiomed INFO - log from: node_7db84ba7-4c77-42e2-9811-3520b0777bdd / DEBUG - Message received: {'researcher_id': 'researcher_7b720652-ae3f-487c-9395-4cbebdc044b9', 'job_id': '1fc15b9f-1853-4f9f-adc0-f14f55a98ffa', 'training_args': {'batch_size': 48, 'lr': 0.001, 'epochs': 1, 'dry_run': False, 'batch_maxnum': 100}, 'model_args': {'num_classes': 10, 'max_grad_norm': 1.2, 'target_epsilon': 50.0, 'target_delta': 1e-05}, 'command': 'train', 'model_url': 'http://localhost:8844/media/uploads/2022/01/19/my_model_824834d9-5723-4162-b1dd-441be5880e51.py', 'params_url': 'http://localhost:8844/media/uploads/2022/01/19/aggregated_params_dd8b9bda-13e6-4792-9dae-fb906d0d76ee.pt', 'model_class': 'CIFAR10DPPlan', 'training_data': {'node_7db84ba7-4c77-42e2-9811-3520b0777bdd': ['dataset_a8713194-9f39-4e93-9b6d-b0d527b0dea6']}}\n",
      "01/19/2022 15:54:32:INFO:log from: node_7db84ba7-4c77-42e2-9811-3520b0777bdd / DEBUG - Message received: {'researcher_id': 'researcher_7b720652-ae3f-487c-9395-4cbebdc044b9', 'job_id': '1fc15b9f-1853-4f9f-adc0-f14f55a98ffa', 'training_args': {'batch_size': 48, 'lr': 0.001, 'epochs': 1, 'dry_run': False, 'batch_maxnum': 100}, 'model_args': {'num_classes': 10, 'max_grad_norm': 1.2, 'target_epsilon': 50.0, 'target_delta': 1e-05}, 'command': 'train', 'model_url': 'http://localhost:8844/media/uploads/2022/01/19/my_model_824834d9-5723-4162-b1dd-441be5880e51.py', 'params_url': 'http://localhost:8844/media/uploads/2022/01/19/aggregated_params_dd8b9bda-13e6-4792-9dae-fb906d0d76ee.pt', 'model_class': 'CIFAR10DPPlan', 'training_data': {'node_7db84ba7-4c77-42e2-9811-3520b0777bdd': ['dataset_a8713194-9f39-4e93-9b6d-b0d527b0dea6']}}\n",
      "2022-01-19 15:54:32,453 fedbiomed INFO - log from: node_60254e5d-4cc9-4627-a768-b0710d5c4b7d / DEBUG - Message received: {'researcher_id': 'researcher_7b720652-ae3f-487c-9395-4cbebdc044b9', 'job_id': '1fc15b9f-1853-4f9f-adc0-f14f55a98ffa', 'training_args': {'batch_size': 48, 'lr': 0.001, 'epochs': 1, 'dry_run': False, 'batch_maxnum': 100}, 'model_args': {'num_classes': 10, 'max_grad_norm': 1.2, 'target_epsilon': 50.0, 'target_delta': 1e-05}, 'command': 'train', 'model_url': 'http://localhost:8844/media/uploads/2022/01/19/my_model_824834d9-5723-4162-b1dd-441be5880e51.py', 'params_url': 'http://localhost:8844/media/uploads/2022/01/19/aggregated_params_dd8b9bda-13e6-4792-9dae-fb906d0d76ee.pt', 'model_class': 'CIFAR10DPPlan', 'training_data': {'node_60254e5d-4cc9-4627-a768-b0710d5c4b7d': ['dataset_a4477319-fa6b-4a85-b848-5021109c02a5']}}\n",
      "01/19/2022 15:54:32:INFO:log from: node_60254e5d-4cc9-4627-a768-b0710d5c4b7d / DEBUG - Message received: {'researcher_id': 'researcher_7b720652-ae3f-487c-9395-4cbebdc044b9', 'job_id': '1fc15b9f-1853-4f9f-adc0-f14f55a98ffa', 'training_args': {'batch_size': 48, 'lr': 0.001, 'epochs': 1, 'dry_run': False, 'batch_maxnum': 100}, 'model_args': {'num_classes': 10, 'max_grad_norm': 1.2, 'target_epsilon': 50.0, 'target_delta': 1e-05}, 'command': 'train', 'model_url': 'http://localhost:8844/media/uploads/2022/01/19/my_model_824834d9-5723-4162-b1dd-441be5880e51.py', 'params_url': 'http://localhost:8844/media/uploads/2022/01/19/aggregated_params_dd8b9bda-13e6-4792-9dae-fb906d0d76ee.pt', 'model_class': 'CIFAR10DPPlan', 'training_data': {'node_60254e5d-4cc9-4627-a768-b0710d5c4b7d': ['dataset_a4477319-fa6b-4a85-b848-5021109c02a5']}}\n",
      "2022-01-19 15:54:32,472 fedbiomed INFO - log from: node_60254e5d-4cc9-4627-a768-b0710d5c4b7d / DEBUG - [TASKS QUEUE] Item:{'researcher_id': 'researcher_7b720652-ae3f-487c-9395-4cbebdc044b9', 'job_id': '1fc15b9f-1853-4f9f-adc0-f14f55a98ffa', 'params_url': 'http://localhost:8844/media/uploads/2022/01/19/aggregated_params_dd8b9bda-13e6-4792-9dae-fb906d0d76ee.pt', 'training_args': {'batch_size': 48, 'lr': 0.001, 'epochs': 1, 'dry_run': False, 'batch_maxnum': 100}, 'training_data': {'node_60254e5d-4cc9-4627-a768-b0710d5c4b7d': ['dataset_a4477319-fa6b-4a85-b848-5021109c02a5']}, 'model_args': {'num_classes': 10, 'max_grad_norm': 1.2, 'target_epsilon': 50.0, 'target_delta': 1e-05}, 'model_url': 'http://localhost:8844/media/uploads/2022/01/19/my_model_824834d9-5723-4162-b1dd-441be5880e51.py', 'model_class': 'CIFAR10DPPlan', 'command': 'train'}\n",
      "01/19/2022 15:54:32:INFO:log from: node_60254e5d-4cc9-4627-a768-b0710d5c4b7d / DEBUG - [TASKS QUEUE] Item:{'researcher_id': 'researcher_7b720652-ae3f-487c-9395-4cbebdc044b9', 'job_id': '1fc15b9f-1853-4f9f-adc0-f14f55a98ffa', 'params_url': 'http://localhost:8844/media/uploads/2022/01/19/aggregated_params_dd8b9bda-13e6-4792-9dae-fb906d0d76ee.pt', 'training_args': {'batch_size': 48, 'lr': 0.001, 'epochs': 1, 'dry_run': False, 'batch_maxnum': 100}, 'training_data': {'node_60254e5d-4cc9-4627-a768-b0710d5c4b7d': ['dataset_a4477319-fa6b-4a85-b848-5021109c02a5']}, 'model_args': {'num_classes': 10, 'max_grad_norm': 1.2, 'target_epsilon': 50.0, 'target_delta': 1e-05}, 'model_url': 'http://localhost:8844/media/uploads/2022/01/19/my_model_824834d9-5723-4162-b1dd-441be5880e51.py', 'model_class': 'CIFAR10DPPlan', 'command': 'train'}\n"
     ]
    },
    {
     "name": "stderr",
     "output_type": "stream",
     "text": [
      "2022-01-19 15:54:32,477 fedbiomed INFO - log from: node_7db84ba7-4c77-42e2-9811-3520b0777bdd / DEBUG - [TASKS QUEUE] Item:{'researcher_id': 'researcher_7b720652-ae3f-487c-9395-4cbebdc044b9', 'job_id': '1fc15b9f-1853-4f9f-adc0-f14f55a98ffa', 'params_url': 'http://localhost:8844/media/uploads/2022/01/19/aggregated_params_dd8b9bda-13e6-4792-9dae-fb906d0d76ee.pt', 'training_args': {'batch_size': 48, 'lr': 0.001, 'epochs': 1, 'dry_run': False, 'batch_maxnum': 100}, 'training_data': {'node_7db84ba7-4c77-42e2-9811-3520b0777bdd': ['dataset_a8713194-9f39-4e93-9b6d-b0d527b0dea6']}, 'model_args': {'num_classes': 10, 'max_grad_norm': 1.2, 'target_epsilon': 50.0, 'target_delta': 1e-05}, 'model_url': 'http://localhost:8844/media/uploads/2022/01/19/my_model_824834d9-5723-4162-b1dd-441be5880e51.py', 'model_class': 'CIFAR10DPPlan', 'command': 'train'}\n",
      "01/19/2022 15:54:32:INFO:log from: node_7db84ba7-4c77-42e2-9811-3520b0777bdd / DEBUG - [TASKS QUEUE] Item:{'researcher_id': 'researcher_7b720652-ae3f-487c-9395-4cbebdc044b9', 'job_id': '1fc15b9f-1853-4f9f-adc0-f14f55a98ffa', 'params_url': 'http://localhost:8844/media/uploads/2022/01/19/aggregated_params_dd8b9bda-13e6-4792-9dae-fb906d0d76ee.pt', 'training_args': {'batch_size': 48, 'lr': 0.001, 'epochs': 1, 'dry_run': False, 'batch_maxnum': 100}, 'training_data': {'node_7db84ba7-4c77-42e2-9811-3520b0777bdd': ['dataset_a8713194-9f39-4e93-9b6d-b0d527b0dea6']}, 'model_args': {'num_classes': 10, 'max_grad_norm': 1.2, 'target_epsilon': 50.0, 'target_delta': 1e-05}, 'model_url': 'http://localhost:8844/media/uploads/2022/01/19/my_model_824834d9-5723-4162-b1dd-441be5880e51.py', 'model_class': 'CIFAR10DPPlan', 'command': 'train'}\n",
      "2022-01-19 15:54:37,260 fedbiomed INFO - log from: node_60254e5d-4cc9-4627-a768-b0710d5c4b7d / INFO - {'monitor': <fedbiomed.node.history_monitor.HistoryMonitor object at 0x13bd54850>, 'batch_size': 48, 'lr': 0.001, 'epochs': 1, 'dry_run': False, 'batch_maxnum': 100}\n",
      "01/19/2022 15:54:37:INFO:log from: node_60254e5d-4cc9-4627-a768-b0710d5c4b7d / INFO - {'monitor': <fedbiomed.node.history_monitor.HistoryMonitor object at 0x13bd54850>, 'batch_size': 48, 'lr': 0.001, 'epochs': 1, 'dry_run': False, 'batch_maxnum': 100}\n",
      "2022-01-19 15:54:37,266 fedbiomed INFO - log from: node_60254e5d-4cc9-4627-a768-b0710d5c4b7d / DEBUG - Dataset_path/Users/balelli/data\n",
      "01/19/2022 15:54:37:INFO:log from: node_60254e5d-4cc9-4627-a768-b0710d5c4b7d / DEBUG - Dataset_path/Users/balelli/data\n",
      "2022-01-19 15:54:37,291 fedbiomed INFO - log from: node_7db84ba7-4c77-42e2-9811-3520b0777bdd / INFO - {'monitor': <fedbiomed.node.history_monitor.HistoryMonitor object at 0x13076c160>, 'batch_size': 48, 'lr': 0.001, 'epochs': 1, 'dry_run': False, 'batch_maxnum': 100}\n",
      "01/19/2022 15:54:37:INFO:log from: node_7db84ba7-4c77-42e2-9811-3520b0777bdd / INFO - {'monitor': <fedbiomed.node.history_monitor.HistoryMonitor object at 0x13076c160>, 'batch_size': 48, 'lr': 0.001, 'epochs': 1, 'dry_run': False, 'batch_maxnum': 100}\n",
      "2022-01-19 15:54:37,300 fedbiomed INFO - log from: node_7db84ba7-4c77-42e2-9811-3520b0777bdd / DEBUG - Dataset_path/Users/balelli/data\n",
      "01/19/2022 15:54:37:INFO:log from: node_7db84ba7-4c77-42e2-9811-3520b0777bdd / DEBUG - Dataset_path/Users/balelli/data\n",
      "2022-01-19 15:55:05,019 fedbiomed INFO - log from: node_60254e5d-4cc9-4627-a768-b0710d5c4b7d / INFO - Train Epoch: 1 [0/50000 (0%)]\tLoss: 2.241551\n",
      "01/19/2022 15:55:05:INFO:log from: node_60254e5d-4cc9-4627-a768-b0710d5c4b7d / INFO - Train Epoch: 1 [0/50000 (0%)]\tLoss: 2.241551\n",
      "2022-01-19 15:55:05,298 fedbiomed INFO - log from: node_60254e5d-4cc9-4627-a768-b0710d5c4b7d / INFO - Epsilon=14.04, Delta=1e-05\n",
      "01/19/2022 15:55:05:INFO:log from: node_60254e5d-4cc9-4627-a768-b0710d5c4b7d / INFO - Epsilon=14.04, Delta=1e-05\n",
      "2022-01-19 15:55:14,054 fedbiomed INFO - log from: node_7db84ba7-4c77-42e2-9811-3520b0777bdd / INFO - Train Epoch: 1 [0/50000 (0%)]\tLoss: 2.205333\n",
      "01/19/2022 15:55:14:INFO:log from: node_7db84ba7-4c77-42e2-9811-3520b0777bdd / INFO - Train Epoch: 1 [0/50000 (0%)]\tLoss: 2.205333\n",
      "2022-01-19 15:55:14,332 fedbiomed INFO - log from: node_7db84ba7-4c77-42e2-9811-3520b0777bdd / INFO - Epsilon=14.04, Delta=1e-05\n",
      "01/19/2022 15:55:14:INFO:log from: node_7db84ba7-4c77-42e2-9811-3520b0777bdd / INFO - Epsilon=14.04, Delta=1e-05\n",
      "2022-01-19 15:56:36,665 fedbiomed INFO - log from: node_60254e5d-4cc9-4627-a768-b0710d5c4b7d / INFO - Train Epoch: 1 [440/50000 (1%)]\tLoss: 2.444614\n",
      "01/19/2022 15:56:36:INFO:log from: node_60254e5d-4cc9-4627-a768-b0710d5c4b7d / INFO - Train Epoch: 1 [440/50000 (1%)]\tLoss: 2.444614\n",
      "2022-01-19 15:56:36,815 fedbiomed INFO - log from: node_60254e5d-4cc9-4627-a768-b0710d5c4b7d / INFO - Epsilon=19.02, Delta=1e-05\n",
      "01/19/2022 15:56:36:INFO:log from: node_60254e5d-4cc9-4627-a768-b0710d5c4b7d / INFO - Epsilon=19.02, Delta=1e-05\n",
      "2022-01-19 15:56:46,520 fedbiomed INFO - log from: node_7db84ba7-4c77-42e2-9811-3520b0777bdd / INFO - Train Epoch: 1 [520/50000 (1%)]\tLoss: 2.498093\n",
      "01/19/2022 15:56:46:INFO:log from: node_7db84ba7-4c77-42e2-9811-3520b0777bdd / INFO - Train Epoch: 1 [520/50000 (1%)]\tLoss: 2.498093\n",
      "2022-01-19 15:56:46,638 fedbiomed INFO - log from: node_7db84ba7-4c77-42e2-9811-3520b0777bdd / INFO - Epsilon=19.02, Delta=1e-05\n",
      "01/19/2022 15:56:46:INFO:log from: node_7db84ba7-4c77-42e2-9811-3520b0777bdd / INFO - Epsilon=19.02, Delta=1e-05\n",
      "2022-01-19 15:57:46,498 fedbiomed INFO - log from: node_60254e5d-4cc9-4627-a768-b0710d5c4b7d / INFO - Train Epoch: 1 [840/50000 (2%)]\tLoss: 2.213251\n",
      "01/19/2022 15:57:46:INFO:log from: node_60254e5d-4cc9-4627-a768-b0710d5c4b7d / INFO - Train Epoch: 1 [840/50000 (2%)]\tLoss: 2.213251\n",
      "2022-01-19 15:57:46,640 fedbiomed INFO - log from: node_60254e5d-4cc9-4627-a768-b0710d5c4b7d / INFO - Epsilon=20.47, Delta=1e-05\n",
      "01/19/2022 15:57:46:INFO:log from: node_60254e5d-4cc9-4627-a768-b0710d5c4b7d / INFO - Epsilon=20.47, Delta=1e-05\n",
      "2022-01-19 15:57:50,665 fedbiomed INFO - log from: node_7db84ba7-4c77-42e2-9811-3520b0777bdd / INFO - Train Epoch: 1 [1000/50000 (2%)]\tLoss: 2.316336\n",
      "01/19/2022 15:57:50:INFO:log from: node_7db84ba7-4c77-42e2-9811-3520b0777bdd / INFO - Train Epoch: 1 [1000/50000 (2%)]\tLoss: 2.316336\n",
      "2022-01-19 15:57:50,811 fedbiomed INFO - log from: node_7db84ba7-4c77-42e2-9811-3520b0777bdd / INFO - Epsilon=20.47, Delta=1e-05\n",
      "01/19/2022 15:57:50:INFO:log from: node_7db84ba7-4c77-42e2-9811-3520b0777bdd / INFO - Epsilon=20.47, Delta=1e-05\n",
      "2022-01-19 15:58:55,862 fedbiomed INFO - log from: node_60254e5d-4cc9-4627-a768-b0710d5c4b7d / INFO - Train Epoch: 1 [1500/50000 (3%)]\tLoss: 2.152169\n",
      "01/19/2022 15:58:55:INFO:log from: node_60254e5d-4cc9-4627-a768-b0710d5c4b7d / INFO - Train Epoch: 1 [1500/50000 (3%)]\tLoss: 2.152169\n",
      "2022-01-19 15:58:56,101 fedbiomed INFO - log from: node_60254e5d-4cc9-4627-a768-b0710d5c4b7d / INFO - Epsilon=21.92, Delta=1e-05\n",
      "01/19/2022 15:58:56:INFO:log from: node_60254e5d-4cc9-4627-a768-b0710d5c4b7d / INFO - Epsilon=21.92, Delta=1e-05\n",
      "2022-01-19 15:59:04,748 fedbiomed INFO - log from: node_7db84ba7-4c77-42e2-9811-3520b0777bdd / INFO - Train Epoch: 1 [1380/50000 (3%)]\tLoss: 2.388288\n",
      "01/19/2022 15:59:04:INFO:log from: node_7db84ba7-4c77-42e2-9811-3520b0777bdd / INFO - Train Epoch: 1 [1380/50000 (3%)]\tLoss: 2.388288\n",
      "2022-01-19 15:59:04,908 fedbiomed INFO - log from: node_7db84ba7-4c77-42e2-9811-3520b0777bdd / INFO - Epsilon=21.92, Delta=1e-05\n",
      "01/19/2022 15:59:04:INFO:log from: node_7db84ba7-4c77-42e2-9811-3520b0777bdd / INFO - Epsilon=21.92, Delta=1e-05\n",
      "2022-01-19 15:59:59,164 fedbiomed INFO - log from: node_60254e5d-4cc9-4627-a768-b0710d5c4b7d / INFO - Train Epoch: 1 [1800/50000 (4%)]\tLoss: 2.137782\n",
      "01/19/2022 15:59:59:INFO:log from: node_60254e5d-4cc9-4627-a768-b0710d5c4b7d / INFO - Train Epoch: 1 [1800/50000 (4%)]\tLoss: 2.137782\n",
      "2022-01-19 15:59:59,532 fedbiomed INFO - log from: node_60254e5d-4cc9-4627-a768-b0710d5c4b7d / INFO - Epsilon=23.25, Delta=1e-05\n",
      "01/19/2022 15:59:59:INFO:log from: node_60254e5d-4cc9-4627-a768-b0710d5c4b7d / INFO - Epsilon=23.25, Delta=1e-05\n",
      "2022-01-19 16:00:09,503 fedbiomed INFO - log from: node_7db84ba7-4c77-42e2-9811-3520b0777bdd / INFO - Train Epoch: 1 [1920/50000 (4%)]\tLoss: 2.240365\n",
      "01/19/2022 16:00:09:INFO:log from: node_7db84ba7-4c77-42e2-9811-3520b0777bdd / INFO - Train Epoch: 1 [1920/50000 (4%)]\tLoss: 2.240365\n"
     ]
    },
    {
     "name": "stderr",
     "output_type": "stream",
     "text": [
      "2022-01-19 16:00:09,621 fedbiomed INFO - log from: node_7db84ba7-4c77-42e2-9811-3520b0777bdd / INFO - Epsilon=23.25, Delta=1e-05\n",
      "01/19/2022 16:00:09:INFO:log from: node_7db84ba7-4c77-42e2-9811-3520b0777bdd / INFO - Epsilon=23.25, Delta=1e-05\n",
      "2022-01-19 16:01:01,026 fedbiomed INFO - log from: node_60254e5d-4cc9-4627-a768-b0710d5c4b7d / INFO - Train Epoch: 1 [2100/50000 (5%)]\tLoss: 2.103039\n",
      "01/19/2022 16:01:01:INFO:log from: node_60254e5d-4cc9-4627-a768-b0710d5c4b7d / INFO - Train Epoch: 1 [2100/50000 (5%)]\tLoss: 2.103039\n",
      "2022-01-19 16:01:01,181 fedbiomed INFO - log from: node_60254e5d-4cc9-4627-a768-b0710d5c4b7d / INFO - Epsilon=23.77, Delta=1e-05\n",
      "01/19/2022 16:01:01:INFO:log from: node_60254e5d-4cc9-4627-a768-b0710d5c4b7d / INFO - Epsilon=23.77, Delta=1e-05\n",
      "2022-01-19 16:01:26,142 fedbiomed INFO - log from: node_7db84ba7-4c77-42e2-9811-3520b0777bdd / INFO - Train Epoch: 1 [1900/50000 (5%)]\tLoss: 1.971644\n",
      "01/19/2022 16:01:26:INFO:log from: node_7db84ba7-4c77-42e2-9811-3520b0777bdd / INFO - Train Epoch: 1 [1900/50000 (5%)]\tLoss: 1.971644\n",
      "2022-01-19 16:01:26,266 fedbiomed INFO - log from: node_7db84ba7-4c77-42e2-9811-3520b0777bdd / INFO - Epsilon=23.77, Delta=1e-05\n",
      "01/19/2022 16:01:26:INFO:log from: node_7db84ba7-4c77-42e2-9811-3520b0777bdd / INFO - Epsilon=23.77, Delta=1e-05\n",
      "2022-01-19 16:02:15,709 fedbiomed INFO - log from: node_60254e5d-4cc9-4627-a768-b0710d5c4b7d / INFO - Train Epoch: 1 [2820/50000 (6%)]\tLoss: 1.962198\n",
      "01/19/2022 16:02:15:INFO:log from: node_60254e5d-4cc9-4627-a768-b0710d5c4b7d / INFO - Train Epoch: 1 [2820/50000 (6%)]\tLoss: 1.962198\n",
      "2022-01-19 16:02:15,885 fedbiomed INFO - log from: node_60254e5d-4cc9-4627-a768-b0710d5c4b7d / INFO - Epsilon=24.29, Delta=1e-05\n",
      "01/19/2022 16:02:15:INFO:log from: node_60254e5d-4cc9-4627-a768-b0710d5c4b7d / INFO - Epsilon=24.29, Delta=1e-05\n",
      "2022-01-19 16:02:41,712 fedbiomed INFO - log from: node_7db84ba7-4c77-42e2-9811-3520b0777bdd / INFO - Train Epoch: 1 [3300/50000 (6%)]\tLoss: 2.230431\n",
      "01/19/2022 16:02:41:INFO:log from: node_7db84ba7-4c77-42e2-9811-3520b0777bdd / INFO - Train Epoch: 1 [3300/50000 (6%)]\tLoss: 2.230431\n",
      "2022-01-19 16:02:41,821 fedbiomed INFO - log from: node_7db84ba7-4c77-42e2-9811-3520b0777bdd / INFO - Epsilon=24.29, Delta=1e-05\n",
      "01/19/2022 16:02:41:INFO:log from: node_7db84ba7-4c77-42e2-9811-3520b0777bdd / INFO - Epsilon=24.29, Delta=1e-05\n",
      "2022-01-19 16:03:31,607 fedbiomed INFO - log from: node_60254e5d-4cc9-4627-a768-b0710d5c4b7d / INFO - Train Epoch: 1 [3640/50000 (7%)]\tLoss: 2.143230\n",
      "01/19/2022 16:03:31:INFO:log from: node_60254e5d-4cc9-4627-a768-b0710d5c4b7d / INFO - Train Epoch: 1 [3640/50000 (7%)]\tLoss: 2.143230\n",
      "2022-01-19 16:03:31,749 fedbiomed INFO - log from: node_60254e5d-4cc9-4627-a768-b0710d5c4b7d / INFO - Epsilon=24.80, Delta=1e-05\n",
      "01/19/2022 16:03:31:INFO:log from: node_60254e5d-4cc9-4627-a768-b0710d5c4b7d / INFO - Epsilon=24.80, Delta=1e-05\n",
      "2022-01-19 16:03:51,514 fedbiomed INFO - log from: node_7db84ba7-4c77-42e2-9811-3520b0777bdd / INFO - Train Epoch: 1 [3920/50000 (7%)]\tLoss: 2.173188\n",
      "01/19/2022 16:03:51:INFO:log from: node_7db84ba7-4c77-42e2-9811-3520b0777bdd / INFO - Train Epoch: 1 [3920/50000 (7%)]\tLoss: 2.173188\n",
      "2022-01-19 16:03:51,661 fedbiomed INFO - log from: node_7db84ba7-4c77-42e2-9811-3520b0777bdd / INFO - Epsilon=24.80, Delta=1e-05\n",
      "01/19/2022 16:03:51:INFO:log from: node_7db84ba7-4c77-42e2-9811-3520b0777bdd / INFO - Epsilon=24.80, Delta=1e-05\n",
      "2022-01-19 16:04:37,858 fedbiomed INFO - log from: node_60254e5d-4cc9-4627-a768-b0710d5c4b7d / INFO - Train Epoch: 1 [3920/50000 (8%)]\tLoss: 1.987341\n",
      "01/19/2022 16:04:37:INFO:log from: node_60254e5d-4cc9-4627-a768-b0710d5c4b7d / INFO - Train Epoch: 1 [3920/50000 (8%)]\tLoss: 1.987341\n",
      "2022-01-19 16:04:38,008 fedbiomed INFO - log from: node_60254e5d-4cc9-4627-a768-b0710d5c4b7d / INFO - Epsilon=25.32, Delta=1e-05\n",
      "01/19/2022 16:04:38:INFO:log from: node_60254e5d-4cc9-4627-a768-b0710d5c4b7d / INFO - Epsilon=25.32, Delta=1e-05\n",
      "2022-01-19 16:04:57,948 fedbiomed INFO - log from: node_7db84ba7-4c77-42e2-9811-3520b0777bdd / INFO - Train Epoch: 1 [3920/50000 (8%)]\tLoss: 2.291312\n",
      "01/19/2022 16:04:57:INFO:log from: node_7db84ba7-4c77-42e2-9811-3520b0777bdd / INFO - Train Epoch: 1 [3920/50000 (8%)]\tLoss: 2.291312\n",
      "2022-01-19 16:04:58,062 fedbiomed INFO - log from: node_7db84ba7-4c77-42e2-9811-3520b0777bdd / INFO - Epsilon=25.32, Delta=1e-05\n",
      "01/19/2022 16:04:58:INFO:log from: node_7db84ba7-4c77-42e2-9811-3520b0777bdd / INFO - Epsilon=25.32, Delta=1e-05\n",
      "2022-01-19 16:05:43,264 fedbiomed INFO - log from: node_60254e5d-4cc9-4627-a768-b0710d5c4b7d / INFO - Train Epoch: 1 [4590/50000 (9%)]\tLoss: 2.184008\n",
      "01/19/2022 16:05:43:INFO:log from: node_60254e5d-4cc9-4627-a768-b0710d5c4b7d / INFO - Train Epoch: 1 [4590/50000 (9%)]\tLoss: 2.184008\n",
      "2022-01-19 16:05:43,411 fedbiomed INFO - log from: node_60254e5d-4cc9-4627-a768-b0710d5c4b7d / INFO - Epsilon=25.84, Delta=1e-05\n",
      "01/19/2022 16:05:43:INFO:log from: node_60254e5d-4cc9-4627-a768-b0710d5c4b7d / INFO - Epsilon=25.84, Delta=1e-05\n",
      "2022-01-19 16:06:06,029 fedbiomed INFO - log from: node_7db84ba7-4c77-42e2-9811-3520b0777bdd / INFO - Train Epoch: 1 [4230/50000 (9%)]\tLoss: 2.105886\n",
      "01/19/2022 16:06:06:INFO:log from: node_7db84ba7-4c77-42e2-9811-3520b0777bdd / INFO - Train Epoch: 1 [4230/50000 (9%)]\tLoss: 2.105886\n",
      "2022-01-19 16:06:06,260 fedbiomed INFO - log from: node_7db84ba7-4c77-42e2-9811-3520b0777bdd / INFO - Epsilon=25.84, Delta=1e-05\n",
      "01/19/2022 16:06:06:INFO:log from: node_7db84ba7-4c77-42e2-9811-3520b0777bdd / INFO - Epsilon=25.84, Delta=1e-05\n",
      "2022-01-19 16:07:01,174 fedbiomed INFO - log from: node_60254e5d-4cc9-4627-a768-b0710d5c4b7d / DEBUG - Reached 100 batches for this epoch, ignore remaining data\n",
      "01/19/2022 16:07:01:INFO:log from: node_60254e5d-4cc9-4627-a768-b0710d5c4b7d / DEBUG - Reached 100 batches for this epoch, ignore remaining data\n",
      "2022-01-19 16:07:13,422 fedbiomed INFO - log from: node_60254e5d-4cc9-4627-a768-b0710d5c4b7d / INFO - results uploaded successfully \n",
      "01/19/2022 16:07:13:INFO:log from: node_60254e5d-4cc9-4627-a768-b0710d5c4b7d / INFO - results uploaded successfully \n",
      "2022-01-19 16:07:18,723 fedbiomed INFO - Downloading model params after training on node_60254e5d-4cc9-4627-a768-b0710d5c4b7d - from http://localhost:8844/media/uploads/2022/01/19/node_params_c5e3224c-c17a-4e52-8207-587acdb67970.pt\n",
      "01/19/2022 16:07:18:INFO:Downloading model params after training on node_60254e5d-4cc9-4627-a768-b0710d5c4b7d - from http://localhost:8844/media/uploads/2022/01/19/node_params_c5e3224c-c17a-4e52-8207-587acdb67970.pt\n",
      "2022-01-19 16:07:22,960 fedbiomed INFO - log from: node_7db84ba7-4c77-42e2-9811-3520b0777bdd / DEBUG - Reached 100 batches for this epoch, ignore remaining data\n",
      "01/19/2022 16:07:22:INFO:log from: node_7db84ba7-4c77-42e2-9811-3520b0777bdd / DEBUG - Reached 100 batches for this epoch, ignore remaining data\n",
      "2022-01-19 16:07:29,097 fedbiomed INFO - log from: node_7db84ba7-4c77-42e2-9811-3520b0777bdd / INFO - results uploaded successfully \n",
      "01/19/2022 16:07:29:INFO:log from: node_7db84ba7-4c77-42e2-9811-3520b0777bdd / INFO - results uploaded successfully \n",
      "2022-01-19 16:07:38,218 fedbiomed INFO - Downloading model params after training on node_7db84ba7-4c77-42e2-9811-3520b0777bdd - from http://localhost:8844/media/uploads/2022/01/19/node_params_adca6165-fbf3-40e6-9c61-f1c8306e89d4.pt\n",
      "01/19/2022 16:07:38:INFO:Downloading model params after training on node_7db84ba7-4c77-42e2-9811-3520b0777bdd - from http://localhost:8844/media/uploads/2022/01/19/node_params_adca6165-fbf3-40e6-9c61-f1c8306e89d4.pt\n",
      "2022-01-19 16:07:40,752 fedbiomed INFO - Nodes that successfully reply in round 1 ['node_60254e5d-4cc9-4627-a768-b0710d5c4b7d', 'node_7db84ba7-4c77-42e2-9811-3520b0777bdd']\n",
      "01/19/2022 16:07:40:INFO:Nodes that successfully reply in round 1 ['node_60254e5d-4cc9-4627-a768-b0710d5c4b7d', 'node_7db84ba7-4c77-42e2-9811-3520b0777bdd']\n",
      "2022-01-19 16:07:47,392 fedbiomed INFO - Saved aggregated params for round 1 in /Users/balelli/ownCloud/INRIA_EPIONE/FedBioMed/fedbiomed/var/experiments/Experiment_0000/aggregated_params_75e6f6d0-804a-42b9-bf5b-56879d6edf33.pt\n",
      "01/19/2022 16:07:47:INFO:Saved aggregated params for round 1 in /Users/balelli/ownCloud/INRIA_EPIONE/FedBioMed/fedbiomed/var/experiments/Experiment_0000/aggregated_params_75e6f6d0-804a-42b9-bf5b-56879d6edf33.pt\n"
     ]
    }
   ],
   "source": [
    "exp.run()"
   ]
  },
  {
   "cell_type": "markdown",
   "metadata": {},
   "source": [
    "Different timings (in seconds) are reported for each dataset of a node participating in a round :\n",
    "- `rtime_training` real time (clock time) spent in the training function on the node\n",
    "- `ptime_training` process time (user and system CPU) spent in the training function on the node\n",
    "- `rtime_total` real time (clock time) spent in the researcher between sending the request and handling the response, at the `Job()` layer"
   ]
  },
  {
   "cell_type": "code",
   "execution_count": 8,
   "metadata": {},
   "outputs": [
    {
     "name": "stdout",
     "output_type": "stream",
     "text": [
      "\n",
      "List the training rounds :  dict_keys([0, 1])\n",
      "\n",
      "List the nodes for the last training round and their timings : \n",
      "\t- node_60254e5d-4cc9-4627-a768-b0710d5c4b7d :    \n",
      "\t\trtime_training=743.95 seconds    \n",
      "\t\tptime_training=789.76 seconds    \n",
      "\t\trtime_total=766.36 seconds\n",
      "\t- node_7db84ba7-4c77-42e2-9811-3520b0777bdd :    \n",
      "\t\trtime_training=765.06 seconds    \n",
      "\t\tptime_training=806.46 seconds    \n",
      "\t\trtime_total=785.81 seconds\n",
      "\n",
      "\n"
     ]
    }
   ],
   "source": [
    "print(\"\\nList the training rounds : \", exp.training_replies.keys())\n",
    "\n",
    "print(\"\\nList the nodes for the last training round and their timings : \")\n",
    "round_data = exp.training_replies[rounds - 1].data\n",
    "for c in range(len(round_data)):\n",
    "    print(\"\\t- {id} :\\\n",
    "    \\n\\t\\trtime_training={rtraining:.2f} seconds\\\n",
    "    \\n\\t\\tptime_training={ptraining:.2f} seconds\\\n",
    "    \\n\\t\\trtime_total={rtotal:.2f} seconds\".format(id = round_data[c]['node_id'],\n",
    "        rtraining = round_data[c]['timing']['rtime_training'],\n",
    "        ptraining = round_data[c]['timing']['ptime_training'],\n",
    "        rtotal = round_data[c]['timing']['rtime_total']))\n",
    "print('\\n')"
   ]
  },
  {
   "cell_type": "markdown",
   "metadata": {},
   "source": [
    "# Test Model"
   ]
  },
  {
   "cell_type": "markdown",
   "metadata": {},
   "source": [
    "We define a little testing routine to extract the accuracy metrics on the testing dataset\n",
    "## Important\n",
    "This is done to test the model because it can be accessed in a developpement environment  \n",
    "In production, the data wont be accessible on the nodes, need a test dataset on the server or accessible from the server."
   ]
  },
  {
   "cell_type": "code",
   "execution_count": 9,
   "metadata": {},
   "outputs": [],
   "source": [
    "\n",
    "import torch\n",
    "import torch.nn as nn\n",
    "\n",
    "import torch.nn.functional as F\n",
    "from torch.utils.data import DataLoader\n",
    "from torchvision import transforms\n",
    "from torch.utils.data import Dataset, DataLoader\n",
    "import pandas as pd\n",
    "import numpy as np\n",
    "from PIL import Image\n",
    "import os\n",
    "\n",
    "def testing_Accuracy(model, data_loader):\n",
    "    model.eval()\n",
    "    test_loss = 0\n",
    "    correct = 0\n",
    "    \n",
    "    device = \"cpu\"\n",
    "\n",
    "    correct = 0\n",
    "    \n",
    "    loader_size = len(data_loader)\n",
    "    with torch.no_grad():\n",
    "        for idx, (data, target) in enumerate(data_loader):\n",
    "            data, target = data.to(device), target.to(device)\n",
    "            output = model(data)\n",
    "            test_loss += F.nll_loss(output, target, reduction='sum').item()  # sum up batch loss\n",
    "            pred = output.argmax(dim=1, keepdim=True)  # get the index of the max log-probability\n",
    "            correct += pred.eq(target.view_as(pred)).sum().item()\n",
    "            \n",
    "            #only uses 10% of the dataset, results are similar but faster\n",
    "            if idx >= loader_size / 10:\n",
    "                pass\n",
    "                break\n",
    "\n",
    "    \n",
    "        pred = output.argmax(dim=1, keepdim=True)\n",
    "\n",
    "    test_loss /= len(data_loader.dataset)\n",
    "    accuracy = 100* correct/(data_loader.batch_size * idx)\n",
    "\n",
    "    return(test_loss, accuracy)"
   ]
  },
  {
   "cell_type": "markdown",
   "metadata": {},
   "source": [
    "Test dataset"
   ]
  },
  {
   "cell_type": "code",
   "execution_count": 12,
   "metadata": {},
   "outputs": [
    {
     "name": "stdout",
     "output_type": "stream",
     "text": [
      "Files already downloaded and verified\n"
     ]
    }
   ],
   "source": [
    "import torch\n",
    "import torchvision\n",
    "import torchvision.transforms as transforms\n",
    "from torchvision.datasets import CIFAR10\n",
    "import os\n",
    "\n",
    "# These values, specific to the CIFAR10 dataset, are assumed to be known.\n",
    "# If necessary, they can be computed with modest privacy budget.\n",
    "CIFAR10_MEAN = (0.4914, 0.4822, 0.4465)\n",
    "CIFAR10_STD_DEV = (0.2023, 0.1994, 0.2010)\n",
    "\n",
    "transform = transforms.Compose([\n",
    "    transforms.ToTensor(),\n",
    "    transforms.Normalize(CIFAR10_MEAN, CIFAR10_STD_DEV),\n",
    "])\n",
    "\n",
    "base_dir = tmp_dir_model.name \n",
    "if not os.path.isdir(os.path.join(base_dir, \"cifar10\")):\n",
    "    os.makedirs(os.path.join(base_dir, \"cifar10\"))\n",
    "test_data_dir = os.path.join(base_dir, \"cifar10\")\n",
    "\n",
    "test_dataset = CIFAR10(\n",
    "    root=test_data_dir, train=False, download=True, transform=transform)\n",
    "\n",
    "test_loader = torch.utils.data.DataLoader(\n",
    "    test_dataset,\n",
    "    batch_size=48,\n",
    "    shuffle=False,\n",
    ")"
   ]
  },
  {
   "cell_type": "markdown",
   "metadata": {},
   "source": [
    "We define a util function to calculate the accuracy:"
   ]
  },
  {
   "cell_type": "code",
   "execution_count": 13,
   "metadata": {},
   "outputs": [],
   "source": [
    "def accuracy(preds, labels):\n",
    "    return (preds == labels).mean()"
   ]
  },
  {
   "cell_type": "markdown",
   "metadata": {},
   "source": [
    "We define the model, and we assign to it the model parameters estimated at the last federated optimization round."
   ]
  },
  {
   "cell_type": "code",
   "execution_count": 14,
   "metadata": {},
   "outputs": [],
   "source": [
    "from torchvision import models\n",
    "from opacus.validators import ModuleValidator\n",
    "\n",
    "model = models.resnet18(num_classes=10)\n",
    "model = ModuleValidator.fix(model)\n",
    "ModuleValidator.validate(model, strict=False)\n",
    "\n",
    "model = exp.model_instance\n",
    "model.load_state_dict(exp.aggregated_params[rounds - 1]['params'])\n",
    "\n",
    "device = torch.device(\"cuda\" if torch.cuda.is_available() else \"cpu\")\n",
    "model = model.to(device)"
   ]
  },
  {
   "cell_type": "markdown",
   "metadata": {},
   "source": [
    "We define a function to validate our model on our test dataset."
   ]
  },
  {
   "cell_type": "code",
   "execution_count": 15,
   "metadata": {},
   "outputs": [],
   "source": [
    "def test(model, test_loader, device):\n",
    "    model.eval()\n",
    "    criterion = nn.CrossEntropyLoss()\n",
    "    losses = []\n",
    "    top1_acc = []\n",
    "\n",
    "    with torch.no_grad():\n",
    "        for images, target in test_loader:\n",
    "            images = images.to(device)\n",
    "            target = target.to(device)\n",
    "\n",
    "            output = model(images)\n",
    "            loss = criterion(output, target)\n",
    "            preds = np.argmax(output.detach().cpu().numpy(), axis=1)\n",
    "            labels = target.detach().cpu().numpy()\n",
    "            acc = accuracy(preds, labels)\n",
    "\n",
    "            losses.append(loss.item())\n",
    "            top1_acc.append(acc)\n",
    "\n",
    "    top1_avg = np.mean(top1_acc)\n",
    "\n",
    "    print(\n",
    "        f\"\\tTest set:\"\n",
    "        f\"Loss: {np.mean(losses):.6f} \"\n",
    "        f\"Acc: {top1_avg * 100:.6f} \"\n",
    "    )\n",
    "    return np.mean(top1_acc)"
   ]
  },
  {
   "cell_type": "markdown",
   "metadata": {},
   "source": [
    "And we finally test our model!"
   ]
  },
  {
   "cell_type": "code",
   "execution_count": 16,
   "metadata": {},
   "outputs": [
    {
     "name": "stdout",
     "output_type": "stream",
     "text": [
      "\tTest set:Loss: 2.196303 Acc: 18.042265 \n"
     ]
    }
   ],
   "source": [
    "top1_acc = test(model, test_loader, device)"
   ]
  },
  {
   "cell_type": "code",
   "execution_count": null,
   "metadata": {},
   "outputs": [],
   "source": []
  }
 ],
 "metadata": {
  "interpreter": {
   "hash": "e89561e616b27d96972869796636c18d9df047835da4fde0d47d1d63cf19e486"
  },
  "kernelspec": {
   "display_name": "Python 3 (ipykernel)",
   "language": "python",
   "name": "python3"
  },
  "language_info": {
   "codemirror_mode": {
    "name": "ipython",
    "version": 3
   },
   "file_extension": ".py",
   "mimetype": "text/x-python",
   "name": "python",
   "nbconvert_exporter": "python",
   "pygments_lexer": "ipython3",
   "version": "3.9.9"
  }
 },
 "nbformat": 4,
 "nbformat_minor": 1
}

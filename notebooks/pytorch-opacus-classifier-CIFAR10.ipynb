{
 "cells": [
  {
   "cell_type": "markdown",
   "metadata": {},
   "source": [
    "# Fedbiomed Image Classifier with Differential Privacy with CIFAR10"
   ]
  },
  {
   "cell_type": "markdown",
   "metadata": {},
   "source": [
    "In this tutorial we will show how an Image classifier with Opacus (https://opacus.ai/) differential privacy engine can be trained with Fed-BioMed. We refer to the Opacus tutorial available here:\n",
    "https://opacus.ai/tutorials/building_image_classifier"
   ]
  },
  {
   "cell_type": "code",
   "execution_count": 1,
   "metadata": {},
   "outputs": [],
   "source": [
    "%load_ext autoreload\n",
    "%autoreload 2"
   ]
  },
  {
   "cell_type": "code",
   "execution_count": 2,
   "metadata": {},
   "outputs": [
    {
     "name": "stderr",
     "output_type": "stream",
     "text": [
      "2022-01-19 18:44:51,891 fedbiomed INFO - Component environment:\n",
      "2022-01-19 18:44:51,892 fedbiomed INFO - - type = ComponentType.RESEARCHER\n",
      "2022-01-19 18:44:52,933 fedbiomed INFO - Messaging researcher_24bd8fc8-05ae-4d8a-914e-7eb6b2591345 successfully connected to the message broker, object = <fedbiomed.common.messaging.Messaging object at 0x10fb9f9d0>\n",
      "2022-01-19 18:44:52,979 fedbiomed INFO - Listing available datasets in all nodes... \n",
      "2022-01-19 18:44:53,016 fedbiomed INFO - log from: node_8c851678-c66f-41b1-a309-80263ab6cab1 / DEBUG - Message received: {'researcher_id': 'researcher_24bd8fc8-05ae-4d8a-914e-7eb6b2591345', 'command': 'list'}\n",
      "2022-01-19 18:44:53,092 fedbiomed INFO - log from: node_558e6d2e-b8c0-4f8f-bf9a-ad27cc58f787 / DEBUG - Message received: {'researcher_id': 'researcher_24bd8fc8-05ae-4d8a-914e-7eb6b2591345', 'command': 'list'}\n",
      "2022-01-19 18:45:03,104 fedbiomed INFO - \n",
      " Node: node_8c851678-c66f-41b1-a309-80263ab6cab1 | Number of Datasets: 1 \n",
      "+---------+-------------+--------------------------+----------------------------------+--------------------+\n",
      "| name    | data_type   | tags                     | description                      | shape              |\n",
      "+=========+=============+==========================+==================================+====================+\n",
      "| CIFAR10 | default     | ['#CIFAR10', '#dataset'] | 50.0 percent of CIFAR10 database | [25000, 3, 32, 32] |\n",
      "+---------+-------------+--------------------------+----------------------------------+--------------------+\n",
      "\n",
      "2022-01-19 18:45:03,106 fedbiomed INFO - \n",
      " Node: node_558e6d2e-b8c0-4f8f-bf9a-ad27cc58f787 | Number of Datasets: 1 \n",
      "+---------+-------------+--------------------------+----------------------------------+--------------------+\n",
      "| name    | data_type   | tags                     | description                      | shape              |\n",
      "+=========+=============+==========================+==================================+====================+\n",
      "| CIFAR10 | default     | ['#CIFAR10', '#dataset'] | 50.0 percent of CIFAR10 database | [25000, 3, 32, 32] |\n",
      "+---------+-------------+--------------------------+----------------------------------+--------------------+\n",
      "\n"
     ]
    },
    {
     "data": {
      "text/plain": [
       "{'node_8c851678-c66f-41b1-a309-80263ab6cab1': [{'name': 'CIFAR10',\n",
       "   'data_type': 'default',\n",
       "   'tags': ['#CIFAR10', '#dataset'],\n",
       "   'description': '50.0 percent of CIFAR10 database',\n",
       "   'shape': [25000, 3, 32, 32]}],\n",
       " 'node_558e6d2e-b8c0-4f8f-bf9a-ad27cc58f787': [{'name': 'CIFAR10',\n",
       "   'data_type': 'default',\n",
       "   'tags': ['#CIFAR10', '#dataset'],\n",
       "   'description': '50.0 percent of CIFAR10 database',\n",
       "   'shape': [25000, 3, 32, 32]}]}"
      ]
     },
     "execution_count": 2,
     "metadata": {},
     "output_type": "execute_result"
    }
   ],
   "source": [
    "from fedbiomed.researcher.requests import Requests\n",
    "req = Requests()\n",
    "req.list(verbose=True)"
   ]
  },
  {
   "cell_type": "markdown",
   "metadata": {},
   "source": [
    "## Start the network\n",
    "Before running this notebook, start the network with `./scripts/fedbiomed_run network`"
   ]
  },
  {
   "cell_type": "markdown",
   "metadata": {},
   "source": [
    "## Setting the node up\n",
    "It is necessary to previously configure a node:\n",
    "1. `./scripts/fedbiomed_run node add`\n",
    "  * Select option 2 (default), and write CIFAR10 to add CIFAR to the node through `torchvision.datasets.CIFAR10`\n",
    "  * Confirm default tags by hitting \"y\" and ENTER\n",
    "  * Pick the folder where CIFAR is downloaded\n",
    "  * Data must have been added (if you get a warning saying that data must be unique is because it's been already added)\n",
    "  \n",
    "2. Check that your data has been added by executing `./scripts/fedbiomed_run node list`\n",
    "3. Run the node using `./scripts/fedbiomed_run node run`. Wait until you get `Starting task manager`. it means you are online."
   ]
  },
  {
   "cell_type": "markdown",
   "metadata": {},
   "source": [
    "## Create an experiment to train a model on the data found"
   ]
  },
  {
   "cell_type": "markdown",
   "metadata": {},
   "source": [
    "Declare a TorchTrainingPlan Net class to send for training on the node"
   ]
  },
  {
   "cell_type": "code",
   "execution_count": 3,
   "metadata": {},
   "outputs": [],
   "source": [
    "from fedbiomed.researcher.environ import environ\n",
    "import tempfile\n",
    "tmp_dir_model = tempfile.TemporaryDirectory(dir=environ['TMP_DIR']+'/')\n",
    "model_file = tmp_dir_model.name + '/Cifar_opacus.py'"
   ]
  },
  {
   "cell_type": "markdown",
   "metadata": {},
   "source": [
    "In the cell below, we are going to define the model using opacus for differential privacy. For this example, we are going to use the `ModuleValidator` function to validate and/or correct models to be compatible with the `opacus` engine, and the function `make_private_with_epsilon` from `opacus.privacy_engine`. \n",
    "\n",
    "To train a model with `make_private_with_epsilon` from Opacus library, there are three privacy-specific hyper-parameters that must be tuned for better performance:\n",
    "\n",
    "* `max_grad_norm`: The maximum L2 norm of per-sample gradients before they are aggregated by the averaging step.\n",
    "* `noise_multiplier`: The amount of noise sampled and added to the average of the gradients in a batch.\n",
    "* `target_epsilon` and `target_delta`: The target ϵ and δ of the (ϵ,δ)-differential privacy guarantee. \n",
    "\n",
    "It is worth noting that in order to use the opacus `PrivacyEngine` class we need to properly define as training plan attributes a `model`, a `dataloader` and an `optimizer`."
   ]
  },
  {
   "cell_type": "code",
   "execution_count": 4,
   "metadata": {},
   "outputs": [
    {
     "name": "stdout",
     "output_type": "stream",
     "text": [
      "Writing /Users/balelli/ownCloud/INRIA_EPIONE/FedBioMed/fedbiomed/var/tmp/tmp2jx06stj/Cifar_opacus.py\n"
     ]
    }
   ],
   "source": [
    "%%writefile \"$model_file\"\n",
    "\n",
    "import torch\n",
    "import torch.nn as nn\n",
    "from fedbiomed.common.torchnn import TorchTrainingPlan\n",
    "from fedbiomed.common.logger import logger\n",
    "from torch.utils.data import DataLoader\n",
    "import torch.optim as optim\n",
    "from torchvision import datasets, transforms, models\n",
    "from opacus import PrivacyEngine \n",
    "from opacus.validators import ModuleValidator\n",
    "from opacus.utils.batch_memory_manager import BatchMemoryManager\n",
    "from typing import Union, List\n",
    "from tqdm import tqdm\n",
    "\n",
    "# Here we define the model to be used. \n",
    "# You can use any class name (here 'Net')\n",
    "class CIFAR10DPPlan(TorchTrainingPlan):\n",
    "    def __init__(self, model_args):\n",
    "        super(CIFAR10DPPlan, self).__init__()\n",
    "        \n",
    "        # Here we define the custom dependencies that will be needed by our custom Dataloader\n",
    "        # In this case, we need the torch DataLoader classes\n",
    "        # Since we will train on MNIST, we need datasets and transform from torchvision\n",
    "        deps = [\"from torchvision import datasets, transforms, models\",\n",
    "                \"from torch.utils.data import DataLoader\",\n",
    "                \"import torch.optim as optim\",\n",
    "                \"from fedbiomed.common.logger import logger\",\n",
    "                \"from typing import Union, List\",\n",
    "                \"from tqdm import tqdm\",\n",
    "                \"from opacus import PrivacyEngine\",\n",
    "                \"from opacus.validators import ModuleValidator\",\n",
    "                \"from opacus.utils.batch_memory_manager import BatchMemoryManager\",]\n",
    "        self.add_dependency(deps)\n",
    "        \n",
    "        self.model = models.resnet18(num_classes=model_args['num_classes'])\n",
    "        self.model = ModuleValidator.fix(self.model)\n",
    "        ModuleValidator.validate(self.model, strict=False)\n",
    "        \n",
    "        self.loss = nn.CrossEntropyLoss()\n",
    "        \n",
    "        self.max_grad_norm = model_args['max_grad_norm']\n",
    "        self.epsilon = model_args['target_epsilon']\n",
    "        self.delta = model_args['target_delta']\n",
    "        self.max_physical_batch_size = model_args['max_physical_batch_size']\n",
    "\n",
    "    def forward(self, x):\n",
    "        return self.model(x)\n",
    "\n",
    "    def training_data(self, batch_size = 48):\n",
    "        CIFAR10_MEAN = (0.4914, 0.4822, 0.4465)\n",
    "        CIFAR10_STD_DEV = (0.2023, 0.1994, 0.2010)\n",
    "        # Custom torch Dataloader for CIFAR data\n",
    "        transform = transforms.Compose([transforms.ToTensor(),\n",
    "                                        transforms.Normalize(CIFAR10_MEAN, CIFAR10_STD_DEV),\n",
    "                                       ])\n",
    "        dataset1 = datasets.CIFAR10(self.dataset_path, train=True, download=False, transform=transform)\n",
    "        train_kwargs = {'batch_size': batch_size, 'shuffle': True}\n",
    "        data_loader = torch.utils.data.DataLoader(dataset1, **train_kwargs)\n",
    "        return data_loader\n",
    "    \n",
    "    def training_step(self, data, target):\n",
    "        output = self.forward(data)\n",
    "        loss   = self.loss(output, target)\n",
    "        return loss\n",
    "    \n",
    "    def training_routine(self,\n",
    "                         epochs: int = 2,\n",
    "                         log_interval: int = 10,\n",
    "                         lr: Union[int, float] = 1e-3,\n",
    "                         batch_size: int = 48,\n",
    "                         batch_maxnum: int = 0,\n",
    "                         dry_run: bool = False,\n",
    "                         monitor=None):\n",
    "        \n",
    "        self.device = torch.device(\"cuda\" if torch.cuda.is_available() else \"cpu\")\n",
    "        \n",
    "        self.optimizer = optim.RMSprop(self.model.parameters(), lr=lr)\n",
    "        \n",
    "        training_data = self.training_data(batch_size=batch_size)\n",
    "        \n",
    "        # enter PrivacyEngine\n",
    "        privacy_engine = PrivacyEngine()\n",
    "        self.model, self.optimizer, training_data = privacy_engine.make_private_with_epsilon(\n",
    "                                                                    module=self.model,\n",
    "                                                                    optimizer=self.optimizer,\n",
    "                                                                    data_loader=training_data,\n",
    "                                                                    epochs=epochs,\n",
    "                                                                    target_epsilon=self.epsilon,\n",
    "                                                                    target_delta=self.delta,\n",
    "                                                                    max_grad_norm=self.max_grad_norm,\n",
    "                                                                )\n",
    "\n",
    "        for epoch in range(1, epochs + 1):\n",
    "            self.model.train()\n",
    "            # (below) sampling data (with `training_data` method defined on\n",
    "            # researcher's notebook)\n",
    "            #for batch_idx, (data, target) in enumerate(tqdm(training_data)):\n",
    "            \n",
    "            # \n",
    "            with BatchMemoryManager(data_loader=training_data, \n",
    "                                    max_physical_batch_size=self.max_physical_batch_size, \n",
    "                                    optimizer=self.optimizer\n",
    "                                    ) as memory_safe_data_loader:\n",
    "\n",
    "                for batch_idx, (data, target) in enumerate(memory_safe_data_loader):\n",
    "            \n",
    "                    #self.model.train()  # model training\n",
    "                    data, target = data.to(self.device), target.to(self.device)\n",
    "                    self.optimizer.zero_grad()\n",
    "                    # (below) calling method `training_step` defined on\n",
    "                    # researcher's notebook\n",
    "                    res = self.training_step(data, target)\n",
    "                    res.backward()\n",
    "                    self.optimizer.step()\n",
    "\n",
    "                    # do not take into account more than batch_maxnum\n",
    "                    # batches from the dataset\n",
    "                    if (batch_maxnum > 0) and (batch_idx >= batch_maxnum):\n",
    "                        #print('Reached {} batches for this epoch, ignore remaining data'.format(batch_maxnum))\n",
    "                        logger.debug('Reached {} batches for this epoch, ignore remaining data'.format(batch_maxnum))\n",
    "                        break\n",
    "\n",
    "                    if batch_idx % log_interval == 0:\n",
    "                        logger.info('Train Epoch: {} [{}/{} ({:.0f}%)]\\tLoss: {:.6f}'.format(\n",
    "                            epoch,\n",
    "                            batch_idx * len(data),\n",
    "                            len(training_data.dataset),\n",
    "                            100 * batch_idx / len(training_data),\n",
    "                            res.item()))\n",
    "                        eps = privacy_engine.get_epsilon(self.delta)\n",
    "                        logger.info('Epsilon={:.2f}, Delta={}'.format(eps,self.delta))\n",
    "\n",
    "                        # Send scalar values via general/feedback topic\n",
    "                        if monitor is not None:\n",
    "                            monitor.add_scalar('Loss', res.item(), batch_idx, epoch)\n",
    "\n",
    "                        if dry_run:\n",
    "                            return\n",
    "\n",
    "    def save(self, filename, params: dict = None) -> None:\n",
    "        if params is not None:\n",
    "\n",
    "            # params keys are changed by the privacy engine (as _module.param_key): should be re-named\n",
    "            params_keys = list(params.keys())\n",
    "            for key in params_keys:\n",
    "                if '_module' in key:\n",
    "                    newkey = key.replace('_module.', '')\n",
    "                    params[newkey] = params.pop(key)\n",
    "                    \n",
    "            return(torch.save(params, filename))\n",
    "        else:\n",
    "            return torch.save(self.state_dict(), filename)"
   ]
  },
  {
   "cell_type": "markdown",
   "metadata": {},
   "source": [
    "This group of arguments correspond respectively:\n",
    "* `model_args`: a dictionary with the arguments related to the model (e.g. number of layers, features, etc.). This will be passed to the model class on the node side. For instance, the privacy parameters should be passed here.\n",
    "* `training_args`: a dictionary containing the arguments for the training routine (e.g. batch size, learning rate, epochs, etc.). This will be passed to the routine on the node side.\n",
    "\n",
    "**NOTE:** typos and/or lack of positional (required) arguments will raise error. 🤓"
   ]
  },
  {
   "cell_type": "code",
   "execution_count": 5,
   "metadata": {
    "pycharm": {
     "name": "#%%\n"
    }
   },
   "outputs": [],
   "source": [
    "model_args = {'num_classes': 10, 'max_grad_norm': 1.2, \n",
    "              'target_epsilon': 50.0, 'target_delta': 1e-5,\n",
    "              'max_physical_batch_size': 100}\n",
    "\n",
    "training_args = {\n",
    "    'batch_size': 50, \n",
    "    'lr': 1e-3, \n",
    "    'epochs': 1, \n",
    "    'dry_run': False,  \n",
    "    'batch_maxnum': 100 # Fast pass for development : only use ( batch_maxnum * batch_size ) samples\n",
    "}"
   ]
  },
  {
   "cell_type": "markdown",
   "metadata": {},
   "source": [
    "# Train the federated model"
   ]
  },
  {
   "cell_type": "markdown",
   "metadata": {},
   "source": [
    "Define an experiment\n",
    "- search nodes serving data for these `tags`, optionally filter on a list of node ID with `nodes`\n",
    "- run a round of local training on nodes with model defined in `model_path` + federation with `aggregator`\n",
    "- run for `rounds` rounds, applying the `node_selection_strategy` between the rounds"
   ]
  },
  {
   "cell_type": "code",
   "execution_count": 6,
   "metadata": {
    "pycharm": {
     "name": "#%%\n"
    },
    "scrolled": true
   },
   "outputs": [
    {
     "name": "stderr",
     "output_type": "stream",
     "text": [
      "2022-01-19 18:46:17,430 fedbiomed INFO - Searching dataset with data tags: ['#CIFAR10', '#dataset'] for all nodes\n",
      "2022-01-19 18:46:17,441 fedbiomed INFO - log from: node_558e6d2e-b8c0-4f8f-bf9a-ad27cc58f787 / DEBUG - Message received: {'researcher_id': 'researcher_24bd8fc8-05ae-4d8a-914e-7eb6b2591345', 'tags': ['#CIFAR10', '#dataset'], 'command': 'search'}\n",
      "2022-01-19 18:46:17,442 fedbiomed INFO - log from: node_8c851678-c66f-41b1-a309-80263ab6cab1 / DEBUG - Message received: {'researcher_id': 'researcher_24bd8fc8-05ae-4d8a-914e-7eb6b2591345', 'tags': ['#CIFAR10', '#dataset'], 'command': 'search'}\n",
      "2022-01-19 18:46:27,452 fedbiomed INFO - Node selected for training -> node_558e6d2e-b8c0-4f8f-bf9a-ad27cc58f787\n",
      "2022-01-19 18:46:27,453 fedbiomed INFO - Node selected for training -> node_8c851678-c66f-41b1-a309-80263ab6cab1\n",
      "2022-01-19 18:46:27,456 fedbiomed INFO - Checking data quality of federated datasets...\n",
      "2022-01-19 18:46:28,501 fedbiomed DEBUG - torchnn saved model filename: /Users/balelli/ownCloud/INRIA_EPIONE/FedBioMed/fedbiomed/var/experiments/Experiment_0000/my_model_d4cc67e5-d4a5-4174-b28a-5e1850a51a1e.py\n",
      "01/19/2022 18:46:28:DEBUG:torchnn saved model filename: /Users/balelli/ownCloud/INRIA_EPIONE/FedBioMed/fedbiomed/var/experiments/Experiment_0000/my_model_d4cc67e5-d4a5-4174-b28a-5e1850a51a1e.py\n"
     ]
    }
   ],
   "source": [
    "from fedbiomed.researcher.experiment import Experiment\n",
    "from fedbiomed.researcher.aggregators.fedavg import FedAverage\n",
    "\n",
    "tags =  ['#CIFAR10', '#dataset']\n",
    "rounds = 2\n",
    "\n",
    "exp = Experiment(tags=tags,\n",
    "                 #nodes=None,\n",
    "                 model_path=model_file,\n",
    "                 model_args=model_args,\n",
    "                 model_class='CIFAR10DPPlan',\n",
    "                 training_args=training_args,\n",
    "                 rounds=rounds,\n",
    "                 aggregator=FedAverage(),\n",
    "                 node_selection_strategy=None)"
   ]
  },
  {
   "cell_type": "markdown",
   "metadata": {
    "pycharm": {
     "name": "#%% md\n"
    }
   },
   "source": [
    "Let's start the experiment.\n",
    "\n",
    "By default, this function doesn't stop until all the `rounds` are done for all the nodes"
   ]
  },
  {
   "cell_type": "code",
   "execution_count": 7,
   "metadata": {
    "pycharm": {
     "name": "#%%\n"
    },
    "scrolled": true
   },
   "outputs": [
    {
     "name": "stderr",
     "output_type": "stream",
     "text": [
      "2022-01-19 18:46:42,832 fedbiomed INFO - Sampled nodes in round 0 ['node_558e6d2e-b8c0-4f8f-bf9a-ad27cc58f787', 'node_8c851678-c66f-41b1-a309-80263ab6cab1']\n",
      "01/19/2022 18:46:42:INFO:Sampled nodes in round 0 ['node_558e6d2e-b8c0-4f8f-bf9a-ad27cc58f787', 'node_8c851678-c66f-41b1-a309-80263ab6cab1']\n",
      "2022-01-19 18:46:42,834 fedbiomed INFO - Send message to node node_558e6d2e-b8c0-4f8f-bf9a-ad27cc58f787 - {'researcher_id': 'researcher_24bd8fc8-05ae-4d8a-914e-7eb6b2591345', 'job_id': '012184b0-7525-4aff-b000-037246f1a1d2', 'training_args': {'batch_size': 50, 'lr': 0.001, 'epochs': 1, 'dry_run': False, 'batch_maxnum': 100}, 'model_args': {'num_classes': 10, 'max_grad_norm': 1.2, 'target_epsilon': 50.0, 'target_delta': 1e-05, 'max_physical_batch_size': 100}, 'command': 'train', 'model_url': 'http://localhost:8844/media/uploads/2022/01/19/my_model_d4cc67e5-d4a5-4174-b28a-5e1850a51a1e.py', 'params_url': 'http://localhost:8844/media/uploads/2022/01/19/aggregated_params_init_180d65d5-ecfc-473c-bcde-25795617a769.pt', 'model_class': 'CIFAR10DPPlan', 'training_data': {'node_558e6d2e-b8c0-4f8f-bf9a-ad27cc58f787': ['dataset_ebb64353-c02f-4f63-9862-578c29bb89db']}}\n",
      "01/19/2022 18:46:42:INFO:Send message to node node_558e6d2e-b8c0-4f8f-bf9a-ad27cc58f787 - {'researcher_id': 'researcher_24bd8fc8-05ae-4d8a-914e-7eb6b2591345', 'job_id': '012184b0-7525-4aff-b000-037246f1a1d2', 'training_args': {'batch_size': 50, 'lr': 0.001, 'epochs': 1, 'dry_run': False, 'batch_maxnum': 100}, 'model_args': {'num_classes': 10, 'max_grad_norm': 1.2, 'target_epsilon': 50.0, 'target_delta': 1e-05, 'max_physical_batch_size': 100}, 'command': 'train', 'model_url': 'http://localhost:8844/media/uploads/2022/01/19/my_model_d4cc67e5-d4a5-4174-b28a-5e1850a51a1e.py', 'params_url': 'http://localhost:8844/media/uploads/2022/01/19/aggregated_params_init_180d65d5-ecfc-473c-bcde-25795617a769.pt', 'model_class': 'CIFAR10DPPlan', 'training_data': {'node_558e6d2e-b8c0-4f8f-bf9a-ad27cc58f787': ['dataset_ebb64353-c02f-4f63-9862-578c29bb89db']}}\n",
      "2022-01-19 18:46:42,838 fedbiomed DEBUG - researcher_24bd8fc8-05ae-4d8a-914e-7eb6b2591345\n",
      "01/19/2022 18:46:42:DEBUG:researcher_24bd8fc8-05ae-4d8a-914e-7eb6b2591345\n",
      "2022-01-19 18:46:42,842 fedbiomed INFO - Send message to node node_8c851678-c66f-41b1-a309-80263ab6cab1 - {'researcher_id': 'researcher_24bd8fc8-05ae-4d8a-914e-7eb6b2591345', 'job_id': '012184b0-7525-4aff-b000-037246f1a1d2', 'training_args': {'batch_size': 50, 'lr': 0.001, 'epochs': 1, 'dry_run': False, 'batch_maxnum': 100}, 'model_args': {'num_classes': 10, 'max_grad_norm': 1.2, 'target_epsilon': 50.0, 'target_delta': 1e-05, 'max_physical_batch_size': 100}, 'command': 'train', 'model_url': 'http://localhost:8844/media/uploads/2022/01/19/my_model_d4cc67e5-d4a5-4174-b28a-5e1850a51a1e.py', 'params_url': 'http://localhost:8844/media/uploads/2022/01/19/aggregated_params_init_180d65d5-ecfc-473c-bcde-25795617a769.pt', 'model_class': 'CIFAR10DPPlan', 'training_data': {'node_8c851678-c66f-41b1-a309-80263ab6cab1': ['dataset_2e3575d8-40a3-421a-9194-a217e0bc92c1']}}\n",
      "01/19/2022 18:46:42:INFO:Send message to node node_8c851678-c66f-41b1-a309-80263ab6cab1 - {'researcher_id': 'researcher_24bd8fc8-05ae-4d8a-914e-7eb6b2591345', 'job_id': '012184b0-7525-4aff-b000-037246f1a1d2', 'training_args': {'batch_size': 50, 'lr': 0.001, 'epochs': 1, 'dry_run': False, 'batch_maxnum': 100}, 'model_args': {'num_classes': 10, 'max_grad_norm': 1.2, 'target_epsilon': 50.0, 'target_delta': 1e-05, 'max_physical_batch_size': 100}, 'command': 'train', 'model_url': 'http://localhost:8844/media/uploads/2022/01/19/my_model_d4cc67e5-d4a5-4174-b28a-5e1850a51a1e.py', 'params_url': 'http://localhost:8844/media/uploads/2022/01/19/aggregated_params_init_180d65d5-ecfc-473c-bcde-25795617a769.pt', 'model_class': 'CIFAR10DPPlan', 'training_data': {'node_8c851678-c66f-41b1-a309-80263ab6cab1': ['dataset_2e3575d8-40a3-421a-9194-a217e0bc92c1']}}\n",
      "2022-01-19 18:46:42,849 fedbiomed DEBUG - researcher_24bd8fc8-05ae-4d8a-914e-7eb6b2591345\n",
      "01/19/2022 18:46:42:DEBUG:researcher_24bd8fc8-05ae-4d8a-914e-7eb6b2591345\n",
      "2022-01-19 18:46:42,863 fedbiomed INFO - log from: node_558e6d2e-b8c0-4f8f-bf9a-ad27cc58f787 / DEBUG - Message received: {'researcher_id': 'researcher_24bd8fc8-05ae-4d8a-914e-7eb6b2591345', 'job_id': '012184b0-7525-4aff-b000-037246f1a1d2', 'training_args': {'batch_size': 50, 'lr': 0.001, 'epochs': 1, 'dry_run': False, 'batch_maxnum': 100}, 'model_args': {'num_classes': 10, 'max_grad_norm': 1.2, 'target_epsilon': 50.0, 'target_delta': 1e-05, 'max_physical_batch_size': 100}, 'command': 'train', 'model_url': 'http://localhost:8844/media/uploads/2022/01/19/my_model_d4cc67e5-d4a5-4174-b28a-5e1850a51a1e.py', 'params_url': 'http://localhost:8844/media/uploads/2022/01/19/aggregated_params_init_180d65d5-ecfc-473c-bcde-25795617a769.pt', 'model_class': 'CIFAR10DPPlan', 'training_data': {'node_558e6d2e-b8c0-4f8f-bf9a-ad27cc58f787': ['dataset_ebb64353-c02f-4f63-9862-578c29bb89db']}}\n",
      "01/19/2022 18:46:42:INFO:log from: node_558e6d2e-b8c0-4f8f-bf9a-ad27cc58f787 / DEBUG - Message received: {'researcher_id': 'researcher_24bd8fc8-05ae-4d8a-914e-7eb6b2591345', 'job_id': '012184b0-7525-4aff-b000-037246f1a1d2', 'training_args': {'batch_size': 50, 'lr': 0.001, 'epochs': 1, 'dry_run': False, 'batch_maxnum': 100}, 'model_args': {'num_classes': 10, 'max_grad_norm': 1.2, 'target_epsilon': 50.0, 'target_delta': 1e-05, 'max_physical_batch_size': 100}, 'command': 'train', 'model_url': 'http://localhost:8844/media/uploads/2022/01/19/my_model_d4cc67e5-d4a5-4174-b28a-5e1850a51a1e.py', 'params_url': 'http://localhost:8844/media/uploads/2022/01/19/aggregated_params_init_180d65d5-ecfc-473c-bcde-25795617a769.pt', 'model_class': 'CIFAR10DPPlan', 'training_data': {'node_558e6d2e-b8c0-4f8f-bf9a-ad27cc58f787': ['dataset_ebb64353-c02f-4f63-9862-578c29bb89db']}}\n",
      "2022-01-19 18:46:42,881 fedbiomed INFO - log from: node_558e6d2e-b8c0-4f8f-bf9a-ad27cc58f787 / DEBUG - [TASKS QUEUE] Item:{'researcher_id': 'researcher_24bd8fc8-05ae-4d8a-914e-7eb6b2591345', 'job_id': '012184b0-7525-4aff-b000-037246f1a1d2', 'params_url': 'http://localhost:8844/media/uploads/2022/01/19/aggregated_params_init_180d65d5-ecfc-473c-bcde-25795617a769.pt', 'training_args': {'batch_size': 50, 'lr': 0.001, 'epochs': 1, 'dry_run': False, 'batch_maxnum': 100}, 'training_data': {'node_558e6d2e-b8c0-4f8f-bf9a-ad27cc58f787': ['dataset_ebb64353-c02f-4f63-9862-578c29bb89db']}, 'model_args': {'num_classes': 10, 'max_grad_norm': 1.2, 'target_epsilon': 50.0, 'target_delta': 1e-05, 'max_physical_batch_size': 100}, 'model_url': 'http://localhost:8844/media/uploads/2022/01/19/my_model_d4cc67e5-d4a5-4174-b28a-5e1850a51a1e.py', 'model_class': 'CIFAR10DPPlan', 'command': 'train'}\n",
      "01/19/2022 18:46:42:INFO:log from: node_558e6d2e-b8c0-4f8f-bf9a-ad27cc58f787 / DEBUG - [TASKS QUEUE] Item:{'researcher_id': 'researcher_24bd8fc8-05ae-4d8a-914e-7eb6b2591345', 'job_id': '012184b0-7525-4aff-b000-037246f1a1d2', 'params_url': 'http://localhost:8844/media/uploads/2022/01/19/aggregated_params_init_180d65d5-ecfc-473c-bcde-25795617a769.pt', 'training_args': {'batch_size': 50, 'lr': 0.001, 'epochs': 1, 'dry_run': False, 'batch_maxnum': 100}, 'training_data': {'node_558e6d2e-b8c0-4f8f-bf9a-ad27cc58f787': ['dataset_ebb64353-c02f-4f63-9862-578c29bb89db']}, 'model_args': {'num_classes': 10, 'max_grad_norm': 1.2, 'target_epsilon': 50.0, 'target_delta': 1e-05, 'max_physical_batch_size': 100}, 'model_url': 'http://localhost:8844/media/uploads/2022/01/19/my_model_d4cc67e5-d4a5-4174-b28a-5e1850a51a1e.py', 'model_class': 'CIFAR10DPPlan', 'command': 'train'}\n",
      "2022-01-19 18:46:42,887 fedbiomed INFO - log from: node_8c851678-c66f-41b1-a309-80263ab6cab1 / DEBUG - Message received: {'researcher_id': 'researcher_24bd8fc8-05ae-4d8a-914e-7eb6b2591345', 'job_id': '012184b0-7525-4aff-b000-037246f1a1d2', 'training_args': {'batch_size': 50, 'lr': 0.001, 'epochs': 1, 'dry_run': False, 'batch_maxnum': 100}, 'model_args': {'num_classes': 10, 'max_grad_norm': 1.2, 'target_epsilon': 50.0, 'target_delta': 1e-05, 'max_physical_batch_size': 100}, 'command': 'train', 'model_url': 'http://localhost:8844/media/uploads/2022/01/19/my_model_d4cc67e5-d4a5-4174-b28a-5e1850a51a1e.py', 'params_url': 'http://localhost:8844/media/uploads/2022/01/19/aggregated_params_init_180d65d5-ecfc-473c-bcde-25795617a769.pt', 'model_class': 'CIFAR10DPPlan', 'training_data': {'node_8c851678-c66f-41b1-a309-80263ab6cab1': ['dataset_2e3575d8-40a3-421a-9194-a217e0bc92c1']}}\n"
     ]
    },
    {
     "name": "stderr",
     "output_type": "stream",
     "text": [
      "01/19/2022 18:46:42:INFO:log from: node_8c851678-c66f-41b1-a309-80263ab6cab1 / DEBUG - Message received: {'researcher_id': 'researcher_24bd8fc8-05ae-4d8a-914e-7eb6b2591345', 'job_id': '012184b0-7525-4aff-b000-037246f1a1d2', 'training_args': {'batch_size': 50, 'lr': 0.001, 'epochs': 1, 'dry_run': False, 'batch_maxnum': 100}, 'model_args': {'num_classes': 10, 'max_grad_norm': 1.2, 'target_epsilon': 50.0, 'target_delta': 1e-05, 'max_physical_batch_size': 100}, 'command': 'train', 'model_url': 'http://localhost:8844/media/uploads/2022/01/19/my_model_d4cc67e5-d4a5-4174-b28a-5e1850a51a1e.py', 'params_url': 'http://localhost:8844/media/uploads/2022/01/19/aggregated_params_init_180d65d5-ecfc-473c-bcde-25795617a769.pt', 'model_class': 'CIFAR10DPPlan', 'training_data': {'node_8c851678-c66f-41b1-a309-80263ab6cab1': ['dataset_2e3575d8-40a3-421a-9194-a217e0bc92c1']}}\n",
      "2022-01-19 18:46:42,919 fedbiomed INFO - log from: node_8c851678-c66f-41b1-a309-80263ab6cab1 / DEBUG - [TASKS QUEUE] Item:{'researcher_id': 'researcher_24bd8fc8-05ae-4d8a-914e-7eb6b2591345', 'job_id': '012184b0-7525-4aff-b000-037246f1a1d2', 'params_url': 'http://localhost:8844/media/uploads/2022/01/19/aggregated_params_init_180d65d5-ecfc-473c-bcde-25795617a769.pt', 'training_args': {'batch_size': 50, 'lr': 0.001, 'epochs': 1, 'dry_run': False, 'batch_maxnum': 100}, 'training_data': {'node_8c851678-c66f-41b1-a309-80263ab6cab1': ['dataset_2e3575d8-40a3-421a-9194-a217e0bc92c1']}, 'model_args': {'num_classes': 10, 'max_grad_norm': 1.2, 'target_epsilon': 50.0, 'target_delta': 1e-05, 'max_physical_batch_size': 100}, 'model_url': 'http://localhost:8844/media/uploads/2022/01/19/my_model_d4cc67e5-d4a5-4174-b28a-5e1850a51a1e.py', 'model_class': 'CIFAR10DPPlan', 'command': 'train'}\n",
      "01/19/2022 18:46:42:INFO:log from: node_8c851678-c66f-41b1-a309-80263ab6cab1 / DEBUG - [TASKS QUEUE] Item:{'researcher_id': 'researcher_24bd8fc8-05ae-4d8a-914e-7eb6b2591345', 'job_id': '012184b0-7525-4aff-b000-037246f1a1d2', 'params_url': 'http://localhost:8844/media/uploads/2022/01/19/aggregated_params_init_180d65d5-ecfc-473c-bcde-25795617a769.pt', 'training_args': {'batch_size': 50, 'lr': 0.001, 'epochs': 1, 'dry_run': False, 'batch_maxnum': 100}, 'training_data': {'node_8c851678-c66f-41b1-a309-80263ab6cab1': ['dataset_2e3575d8-40a3-421a-9194-a217e0bc92c1']}, 'model_args': {'num_classes': 10, 'max_grad_norm': 1.2, 'target_epsilon': 50.0, 'target_delta': 1e-05, 'max_physical_batch_size': 100}, 'model_url': 'http://localhost:8844/media/uploads/2022/01/19/my_model_d4cc67e5-d4a5-4174-b28a-5e1850a51a1e.py', 'model_class': 'CIFAR10DPPlan', 'command': 'train'}\n",
      "2022-01-19 18:46:49,703 fedbiomed INFO - log from: node_8c851678-c66f-41b1-a309-80263ab6cab1 / INFO - {'monitor': <fedbiomed.node.history_monitor.HistoryMonitor object at 0x12e19ab20>, 'batch_size': 50, 'lr': 0.001, 'epochs': 1, 'dry_run': False, 'batch_maxnum': 100}\n",
      "01/19/2022 18:46:49:INFO:log from: node_8c851678-c66f-41b1-a309-80263ab6cab1 / INFO - {'monitor': <fedbiomed.node.history_monitor.HistoryMonitor object at 0x12e19ab20>, 'batch_size': 50, 'lr': 0.001, 'epochs': 1, 'dry_run': False, 'batch_maxnum': 100}\n",
      "2022-01-19 18:46:49,706 fedbiomed INFO - log from: node_8c851678-c66f-41b1-a309-80263ab6cab1 / DEBUG - Dataset_path/Users/balelli/data\n",
      "01/19/2022 18:46:49:INFO:log from: node_8c851678-c66f-41b1-a309-80263ab6cab1 / DEBUG - Dataset_path/Users/balelli/data\n",
      "2022-01-19 18:46:49,744 fedbiomed INFO - log from: node_558e6d2e-b8c0-4f8f-bf9a-ad27cc58f787 / INFO - {'monitor': <fedbiomed.node.history_monitor.HistoryMonitor object at 0x12668a850>, 'batch_size': 50, 'lr': 0.001, 'epochs': 1, 'dry_run': False, 'batch_maxnum': 100}\n",
      "01/19/2022 18:46:49:INFO:log from: node_558e6d2e-b8c0-4f8f-bf9a-ad27cc58f787 / INFO - {'monitor': <fedbiomed.node.history_monitor.HistoryMonitor object at 0x12668a850>, 'batch_size': 50, 'lr': 0.001, 'epochs': 1, 'dry_run': False, 'batch_maxnum': 100}\n",
      "2022-01-19 18:46:49,747 fedbiomed INFO - log from: node_558e6d2e-b8c0-4f8f-bf9a-ad27cc58f787 / DEBUG - Dataset_path/Users/balelli/data\n",
      "01/19/2022 18:46:49:INFO:log from: node_558e6d2e-b8c0-4f8f-bf9a-ad27cc58f787 / DEBUG - Dataset_path/Users/balelli/data\n",
      "2022-01-19 18:47:10,368 fedbiomed INFO - log from: node_558e6d2e-b8c0-4f8f-bf9a-ad27cc58f787 / INFO - Train Epoch: 1 [0/50000 (0%)]\tLoss: 2.424293\n",
      "01/19/2022 18:47:10:INFO:log from: node_558e6d2e-b8c0-4f8f-bf9a-ad27cc58f787 / INFO - Train Epoch: 1 [0/50000 (0%)]\tLoss: 2.424293\n",
      "2022-01-19 18:47:10,618 fedbiomed INFO - log from: node_558e6d2e-b8c0-4f8f-bf9a-ad27cc58f787 / INFO - Epsilon=14.12, Delta=1e-05\n",
      "01/19/2022 18:47:10:INFO:log from: node_558e6d2e-b8c0-4f8f-bf9a-ad27cc58f787 / INFO - Epsilon=14.12, Delta=1e-05\n",
      "2022-01-19 18:47:22,598 fedbiomed INFO - log from: node_8c851678-c66f-41b1-a309-80263ab6cab1 / INFO - Train Epoch: 1 [0/50000 (0%)]\tLoss: 2.411250\n",
      "01/19/2022 18:47:22:INFO:log from: node_8c851678-c66f-41b1-a309-80263ab6cab1 / INFO - Train Epoch: 1 [0/50000 (0%)]\tLoss: 2.411250\n",
      "2022-01-19 18:47:22,732 fedbiomed INFO - log from: node_8c851678-c66f-41b1-a309-80263ab6cab1 / INFO - Epsilon=14.12, Delta=1e-05\n",
      "01/19/2022 18:47:22:INFO:log from: node_8c851678-c66f-41b1-a309-80263ab6cab1 / INFO - Epsilon=14.12, Delta=1e-05\n",
      "2022-01-19 18:48:24,026 fedbiomed INFO - log from: node_558e6d2e-b8c0-4f8f-bf9a-ad27cc58f787 / INFO - Train Epoch: 1 [470/50000 (1%)]\tLoss: 3.089907\n",
      "01/19/2022 18:48:24:INFO:log from: node_558e6d2e-b8c0-4f8f-bf9a-ad27cc58f787 / INFO - Train Epoch: 1 [470/50000 (1%)]\tLoss: 3.089907\n",
      "2022-01-19 18:48:24,155 fedbiomed INFO - log from: node_558e6d2e-b8c0-4f8f-bf9a-ad27cc58f787 / INFO - Epsilon=19.12, Delta=1e-05\n",
      "01/19/2022 18:48:24:INFO:log from: node_558e6d2e-b8c0-4f8f-bf9a-ad27cc58f787 / INFO - Epsilon=19.12, Delta=1e-05\n",
      "2022-01-19 18:48:34,008 fedbiomed INFO - log from: node_8c851678-c66f-41b1-a309-80263ab6cab1 / INFO - Train Epoch: 1 [560/50000 (1%)]\tLoss: 2.312353\n",
      "01/19/2022 18:48:34:INFO:log from: node_8c851678-c66f-41b1-a309-80263ab6cab1 / INFO - Train Epoch: 1 [560/50000 (1%)]\tLoss: 2.312353\n",
      "2022-01-19 18:48:34,223 fedbiomed INFO - log from: node_8c851678-c66f-41b1-a309-80263ab6cab1 / INFO - Epsilon=19.12, Delta=1e-05\n",
      "01/19/2022 18:48:34:INFO:log from: node_8c851678-c66f-41b1-a309-80263ab6cab1 / INFO - Epsilon=19.12, Delta=1e-05\n",
      "2022-01-19 18:49:34,684 fedbiomed INFO - log from: node_558e6d2e-b8c0-4f8f-bf9a-ad27cc58f787 / INFO - Train Epoch: 1 [1080/50000 (2%)]\tLoss: 2.342206\n",
      "01/19/2022 18:49:34:INFO:log from: node_558e6d2e-b8c0-4f8f-bf9a-ad27cc58f787 / INFO - Train Epoch: 1 [1080/50000 (2%)]\tLoss: 2.342206\n",
      "2022-01-19 18:49:34,861 fedbiomed INFO - log from: node_558e6d2e-b8c0-4f8f-bf9a-ad27cc58f787 / INFO - Epsilon=20.67, Delta=1e-05\n",
      "01/19/2022 18:49:34:INFO:log from: node_558e6d2e-b8c0-4f8f-bf9a-ad27cc58f787 / INFO - Epsilon=20.67, Delta=1e-05\n",
      "2022-01-19 18:49:36,216 fedbiomed INFO - log from: node_8c851678-c66f-41b1-a309-80263ab6cab1 / INFO - Train Epoch: 1 [800/50000 (2%)]\tLoss: 2.400397\n",
      "01/19/2022 18:49:36:INFO:log from: node_8c851678-c66f-41b1-a309-80263ab6cab1 / INFO - Train Epoch: 1 [800/50000 (2%)]\tLoss: 2.400397\n",
      "2022-01-19 18:49:36,360 fedbiomed INFO - log from: node_8c851678-c66f-41b1-a309-80263ab6cab1 / INFO - Epsilon=20.67, Delta=1e-05\n",
      "01/19/2022 18:49:36:INFO:log from: node_8c851678-c66f-41b1-a309-80263ab6cab1 / INFO - Epsilon=20.67, Delta=1e-05\n",
      "2022-01-19 18:50:29,894 fedbiomed INFO - log from: node_558e6d2e-b8c0-4f8f-bf9a-ad27cc58f787 / INFO - Train Epoch: 1 [1530/50000 (3%)]\tLoss: 2.101825\n",
      "01/19/2022 18:50:29:INFO:log from: node_558e6d2e-b8c0-4f8f-bf9a-ad27cc58f787 / INFO - Train Epoch: 1 [1530/50000 (3%)]\tLoss: 2.101825\n",
      "2022-01-19 18:50:30,013 fedbiomed INFO - log from: node_558e6d2e-b8c0-4f8f-bf9a-ad27cc58f787 / INFO - Epsilon=22.21, Delta=1e-05\n",
      "01/19/2022 18:50:30:INFO:log from: node_558e6d2e-b8c0-4f8f-bf9a-ad27cc58f787 / INFO - Epsilon=22.21, Delta=1e-05\n",
      "2022-01-19 18:50:35,388 fedbiomed INFO - log from: node_8c851678-c66f-41b1-a309-80263ab6cab1 / INFO - Train Epoch: 1 [1770/50000 (3%)]\tLoss: 2.345031\n",
      "01/19/2022 18:50:35:INFO:log from: node_8c851678-c66f-41b1-a309-80263ab6cab1 / INFO - Train Epoch: 1 [1770/50000 (3%)]\tLoss: 2.345031\n",
      "2022-01-19 18:50:35,530 fedbiomed INFO - log from: node_8c851678-c66f-41b1-a309-80263ab6cab1 / INFO - Epsilon=22.21, Delta=1e-05\n"
     ]
    },
    {
     "name": "stderr",
     "output_type": "stream",
     "text": [
      "01/19/2022 18:50:35:INFO:log from: node_8c851678-c66f-41b1-a309-80263ab6cab1 / INFO - Epsilon=22.21, Delta=1e-05\n",
      "2022-01-19 18:51:33,491 fedbiomed INFO - log from: node_8c851678-c66f-41b1-a309-80263ab6cab1 / INFO - Train Epoch: 1 [2120/50000 (4%)]\tLoss: 2.180702\n",
      "01/19/2022 18:51:33:INFO:log from: node_8c851678-c66f-41b1-a309-80263ab6cab1 / INFO - Train Epoch: 1 [2120/50000 (4%)]\tLoss: 2.180702\n",
      "2022-01-19 18:51:33,643 fedbiomed INFO - log from: node_8c851678-c66f-41b1-a309-80263ab6cab1 / INFO - Epsilon=23.38, Delta=1e-05\n",
      "01/19/2022 18:51:33:INFO:log from: node_8c851678-c66f-41b1-a309-80263ab6cab1 / INFO - Epsilon=23.38, Delta=1e-05\n",
      "2022-01-19 18:51:40,177 fedbiomed INFO - log from: node_558e6d2e-b8c0-4f8f-bf9a-ad27cc58f787 / INFO - Train Epoch: 1 [2080/50000 (4%)]\tLoss: 2.218732\n",
      "01/19/2022 18:51:40:INFO:log from: node_558e6d2e-b8c0-4f8f-bf9a-ad27cc58f787 / INFO - Train Epoch: 1 [2080/50000 (4%)]\tLoss: 2.218732\n",
      "2022-01-19 18:51:40,352 fedbiomed INFO - log from: node_558e6d2e-b8c0-4f8f-bf9a-ad27cc58f787 / INFO - Epsilon=23.38, Delta=1e-05\n",
      "01/19/2022 18:51:40:INFO:log from: node_558e6d2e-b8c0-4f8f-bf9a-ad27cc58f787 / INFO - Epsilon=23.38, Delta=1e-05\n",
      "2022-01-19 19:00:12,617 fedbiomed INFO - log from: node_8c851678-c66f-41b1-a309-80263ab6cab1 / INFO - Train Epoch: 1 [2500/50000 (5%)]\tLoss: 2.261610\n",
      "01/19/2022 19:00:12:INFO:log from: node_8c851678-c66f-41b1-a309-80263ab6cab1 / INFO - Train Epoch: 1 [2500/50000 (5%)]\tLoss: 2.261610\n",
      "2022-01-19 19:00:12,891 fedbiomed INFO - log from: node_8c851678-c66f-41b1-a309-80263ab6cab1 / INFO - Epsilon=23.93, Delta=1e-05\n",
      "01/19/2022 19:00:12:INFO:log from: node_8c851678-c66f-41b1-a309-80263ab6cab1 / INFO - Epsilon=23.93, Delta=1e-05\n",
      "2022-01-19 19:00:18,279 fedbiomed INFO - log from: node_558e6d2e-b8c0-4f8f-bf9a-ad27cc58f787 / INFO - Train Epoch: 1 [2600/50000 (5%)]\tLoss: 2.036313\n",
      "01/19/2022 19:00:18:INFO:log from: node_558e6d2e-b8c0-4f8f-bf9a-ad27cc58f787 / INFO - Train Epoch: 1 [2600/50000 (5%)]\tLoss: 2.036313\n",
      "2022-01-19 19:00:18,395 fedbiomed INFO - log from: node_558e6d2e-b8c0-4f8f-bf9a-ad27cc58f787 / INFO - Epsilon=23.93, Delta=1e-05\n",
      "01/19/2022 19:00:18:INFO:log from: node_558e6d2e-b8c0-4f8f-bf9a-ad27cc58f787 / INFO - Epsilon=23.93, Delta=1e-05\n",
      "2022-01-19 19:01:16,827 fedbiomed INFO - log from: node_558e6d2e-b8c0-4f8f-bf9a-ad27cc58f787 / INFO - Train Epoch: 1 [3420/50000 (6%)]\tLoss: 2.214902\n",
      "01/19/2022 19:01:16:INFO:log from: node_558e6d2e-b8c0-4f8f-bf9a-ad27cc58f787 / INFO - Train Epoch: 1 [3420/50000 (6%)]\tLoss: 2.214902\n",
      "2022-01-19 19:01:16,966 fedbiomed INFO - log from: node_558e6d2e-b8c0-4f8f-bf9a-ad27cc58f787 / INFO - Epsilon=24.49, Delta=1e-05\n",
      "01/19/2022 19:01:16:INFO:log from: node_558e6d2e-b8c0-4f8f-bf9a-ad27cc58f787 / INFO - Epsilon=24.49, Delta=1e-05\n",
      "2022-01-19 19:01:18,445 fedbiomed INFO - log from: node_8c851678-c66f-41b1-a309-80263ab6cab1 / INFO - Train Epoch: 1 [2340/50000 (6%)]\tLoss: 2.178496\n",
      "01/19/2022 19:01:18:INFO:log from: node_8c851678-c66f-41b1-a309-80263ab6cab1 / INFO - Train Epoch: 1 [2340/50000 (6%)]\tLoss: 2.178496\n",
      "2022-01-19 19:01:18,600 fedbiomed INFO - log from: node_8c851678-c66f-41b1-a309-80263ab6cab1 / INFO - Epsilon=24.49, Delta=1e-05\n",
      "01/19/2022 19:01:18:INFO:log from: node_8c851678-c66f-41b1-a309-80263ab6cab1 / INFO - Epsilon=24.49, Delta=1e-05\n",
      "2022-01-19 19:02:14,051 fedbiomed INFO - log from: node_558e6d2e-b8c0-4f8f-bf9a-ad27cc58f787 / INFO - Train Epoch: 1 [3710/50000 (7%)]\tLoss: 2.086469\n",
      "01/19/2022 19:02:14:INFO:log from: node_558e6d2e-b8c0-4f8f-bf9a-ad27cc58f787 / INFO - Train Epoch: 1 [3710/50000 (7%)]\tLoss: 2.086469\n",
      "2022-01-19 19:02:14,160 fedbiomed INFO - log from: node_558e6d2e-b8c0-4f8f-bf9a-ad27cc58f787 / INFO - Epsilon=25.04, Delta=1e-05\n",
      "01/19/2022 19:02:14:INFO:log from: node_558e6d2e-b8c0-4f8f-bf9a-ad27cc58f787 / INFO - Epsilon=25.04, Delta=1e-05\n",
      "2022-01-19 19:02:16,634 fedbiomed INFO - log from: node_8c851678-c66f-41b1-a309-80263ab6cab1 / INFO - Train Epoch: 1 [3640/50000 (7%)]\tLoss: 2.154606\n",
      "01/19/2022 19:02:16:INFO:log from: node_8c851678-c66f-41b1-a309-80263ab6cab1 / INFO - Train Epoch: 1 [3640/50000 (7%)]\tLoss: 2.154606\n",
      "2022-01-19 19:02:16,787 fedbiomed INFO - log from: node_8c851678-c66f-41b1-a309-80263ab6cab1 / INFO - Epsilon=25.04, Delta=1e-05\n",
      "01/19/2022 19:02:16:INFO:log from: node_8c851678-c66f-41b1-a309-80263ab6cab1 / INFO - Epsilon=25.04, Delta=1e-05\n",
      "2022-01-19 19:03:54,127 fedbiomed INFO - log from: node_558e6d2e-b8c0-4f8f-bf9a-ad27cc58f787 / INFO - Train Epoch: 1 [3200/50000 (8%)]\tLoss: 2.146483\n",
      "01/19/2022 19:03:54:INFO:log from: node_558e6d2e-b8c0-4f8f-bf9a-ad27cc58f787 / INFO - Train Epoch: 1 [3200/50000 (8%)]\tLoss: 2.146483\n",
      "2022-01-19 19:03:54,369 fedbiomed INFO - log from: node_558e6d2e-b8c0-4f8f-bf9a-ad27cc58f787 / INFO - Epsilon=25.59, Delta=1e-05\n",
      "01/19/2022 19:03:54:INFO:log from: node_558e6d2e-b8c0-4f8f-bf9a-ad27cc58f787 / INFO - Epsilon=25.59, Delta=1e-05\n",
      "2022-01-19 19:03:59,908 fedbiomed INFO - log from: node_8c851678-c66f-41b1-a309-80263ab6cab1 / INFO - Train Epoch: 1 [3760/50000 (8%)]\tLoss: 2.004544\n",
      "01/19/2022 19:03:59:INFO:log from: node_8c851678-c66f-41b1-a309-80263ab6cab1 / INFO - Train Epoch: 1 [3760/50000 (8%)]\tLoss: 2.004544\n",
      "2022-01-19 19:04:00,137 fedbiomed INFO - log from: node_8c851678-c66f-41b1-a309-80263ab6cab1 / INFO - Epsilon=25.59, Delta=1e-05\n",
      "01/19/2022 19:04:00:INFO:log from: node_8c851678-c66f-41b1-a309-80263ab6cab1 / INFO - Epsilon=25.59, Delta=1e-05\n",
      "2022-01-19 19:05:07,369 fedbiomed INFO - log from: node_558e6d2e-b8c0-4f8f-bf9a-ad27cc58f787 / INFO - Train Epoch: 1 [4770/50000 (9%)]\tLoss: 2.177105\n",
      "01/19/2022 19:05:07:INFO:log from: node_558e6d2e-b8c0-4f8f-bf9a-ad27cc58f787 / INFO - Train Epoch: 1 [4770/50000 (9%)]\tLoss: 2.177105\n",
      "2022-01-19 19:05:07,507 fedbiomed INFO - log from: node_558e6d2e-b8c0-4f8f-bf9a-ad27cc58f787 / INFO - Epsilon=26.14, Delta=1e-05\n",
      "01/19/2022 19:05:07:INFO:log from: node_558e6d2e-b8c0-4f8f-bf9a-ad27cc58f787 / INFO - Epsilon=26.14, Delta=1e-05\n",
      "2022-01-19 19:05:28,266 fedbiomed INFO - log from: node_8c851678-c66f-41b1-a309-80263ab6cab1 / INFO - Train Epoch: 1 [4860/50000 (9%)]\tLoss: 2.026357\n",
      "01/19/2022 19:05:28:INFO:log from: node_8c851678-c66f-41b1-a309-80263ab6cab1 / INFO - Train Epoch: 1 [4860/50000 (9%)]\tLoss: 2.026357\n",
      "2022-01-19 19:05:28,438 fedbiomed INFO - log from: node_8c851678-c66f-41b1-a309-80263ab6cab1 / INFO - Epsilon=26.14, Delta=1e-05\n",
      "01/19/2022 19:05:28:INFO:log from: node_8c851678-c66f-41b1-a309-80263ab6cab1 / INFO - Epsilon=26.14, Delta=1e-05\n",
      "2022-01-19 19:06:10,284 fedbiomed INFO - log from: node_558e6d2e-b8c0-4f8f-bf9a-ad27cc58f787 / DEBUG - Reached 100 batches for this epoch, ignore remaining data\n",
      "01/19/2022 19:06:10:INFO:log from: node_558e6d2e-b8c0-4f8f-bf9a-ad27cc58f787 / DEBUG - Reached 100 batches for this epoch, ignore remaining data\n",
      "2022-01-19 19:06:21,033 fedbiomed INFO - log from: node_558e6d2e-b8c0-4f8f-bf9a-ad27cc58f787 / INFO - results uploaded successfully \n",
      "01/19/2022 19:06:21:INFO:log from: node_558e6d2e-b8c0-4f8f-bf9a-ad27cc58f787 / INFO - results uploaded successfully \n",
      "2022-01-19 19:06:28,506 fedbiomed INFO - Downloading model params after training on node_558e6d2e-b8c0-4f8f-bf9a-ad27cc58f787 - from http://localhost:8844/media/uploads/2022/01/19/node_params_ea1b6303-975a-433b-aa3c-d98a65c21809.pt\n",
      "01/19/2022 19:06:28:INFO:Downloading model params after training on node_558e6d2e-b8c0-4f8f-bf9a-ad27cc58f787 - from http://localhost:8844/media/uploads/2022/01/19/node_params_ea1b6303-975a-433b-aa3c-d98a65c21809.pt\n",
      "2022-01-19 19:06:30,626 fedbiomed INFO - log from: node_8c851678-c66f-41b1-a309-80263ab6cab1 / DEBUG - Reached 100 batches for this epoch, ignore remaining data\n",
      "01/19/2022 19:06:30:INFO:log from: node_8c851678-c66f-41b1-a309-80263ab6cab1 / DEBUG - Reached 100 batches for this epoch, ignore remaining data\n",
      "2022-01-19 19:06:39,132 fedbiomed INFO - log from: node_8c851678-c66f-41b1-a309-80263ab6cab1 / INFO - results uploaded successfully \n",
      "01/19/2022 19:06:39:INFO:log from: node_8c851678-c66f-41b1-a309-80263ab6cab1 / INFO - results uploaded successfully \n",
      "2022-01-19 19:06:44,220 fedbiomed INFO - Downloading model params after training on node_8c851678-c66f-41b1-a309-80263ab6cab1 - from http://localhost:8844/media/uploads/2022/01/19/node_params_780f1f5d-341c-476e-b28e-d2b66ebddd81.pt\n"
     ]
    },
    {
     "name": "stderr",
     "output_type": "stream",
     "text": [
      "01/19/2022 19:06:44:INFO:Downloading model params after training on node_8c851678-c66f-41b1-a309-80263ab6cab1 - from http://localhost:8844/media/uploads/2022/01/19/node_params_780f1f5d-341c-476e-b28e-d2b66ebddd81.pt\n",
      "2022-01-19 19:06:46,350 fedbiomed INFO - Nodes that successfully reply in round 0 ['node_558e6d2e-b8c0-4f8f-bf9a-ad27cc58f787', 'node_8c851678-c66f-41b1-a309-80263ab6cab1']\n",
      "01/19/2022 19:06:46:INFO:Nodes that successfully reply in round 0 ['node_558e6d2e-b8c0-4f8f-bf9a-ad27cc58f787', 'node_8c851678-c66f-41b1-a309-80263ab6cab1']\n",
      "2022-01-19 19:06:53,199 fedbiomed INFO - Saved aggregated params for round 0 in /Users/balelli/ownCloud/INRIA_EPIONE/FedBioMed/fedbiomed/var/experiments/Experiment_0000/aggregated_params_815fc09e-ca28-4dd5-93b7-743d596774ec.pt\n",
      "01/19/2022 19:06:53:INFO:Saved aggregated params for round 0 in /Users/balelli/ownCloud/INRIA_EPIONE/FedBioMed/fedbiomed/var/experiments/Experiment_0000/aggregated_params_815fc09e-ca28-4dd5-93b7-743d596774ec.pt\n",
      "2022-01-19 19:06:53,202 fedbiomed INFO - Sampled nodes in round 1 ['node_558e6d2e-b8c0-4f8f-bf9a-ad27cc58f787', 'node_8c851678-c66f-41b1-a309-80263ab6cab1']\n",
      "01/19/2022 19:06:53:INFO:Sampled nodes in round 1 ['node_558e6d2e-b8c0-4f8f-bf9a-ad27cc58f787', 'node_8c851678-c66f-41b1-a309-80263ab6cab1']\n",
      "2022-01-19 19:06:53,213 fedbiomed INFO - Send message to node node_558e6d2e-b8c0-4f8f-bf9a-ad27cc58f787 - {'researcher_id': 'researcher_24bd8fc8-05ae-4d8a-914e-7eb6b2591345', 'job_id': '012184b0-7525-4aff-b000-037246f1a1d2', 'training_args': {'batch_size': 50, 'lr': 0.001, 'epochs': 1, 'dry_run': False, 'batch_maxnum': 100}, 'model_args': {'num_classes': 10, 'max_grad_norm': 1.2, 'target_epsilon': 50.0, 'target_delta': 1e-05, 'max_physical_batch_size': 100}, 'command': 'train', 'model_url': 'http://localhost:8844/media/uploads/2022/01/19/my_model_d4cc67e5-d4a5-4174-b28a-5e1850a51a1e.py', 'params_url': 'http://localhost:8844/media/uploads/2022/01/19/aggregated_params_815fc09e-ca28-4dd5-93b7-743d596774ec.pt', 'model_class': 'CIFAR10DPPlan', 'training_data': {'node_558e6d2e-b8c0-4f8f-bf9a-ad27cc58f787': ['dataset_ebb64353-c02f-4f63-9862-578c29bb89db']}}\n",
      "01/19/2022 19:06:53:INFO:Send message to node node_558e6d2e-b8c0-4f8f-bf9a-ad27cc58f787 - {'researcher_id': 'researcher_24bd8fc8-05ae-4d8a-914e-7eb6b2591345', 'job_id': '012184b0-7525-4aff-b000-037246f1a1d2', 'training_args': {'batch_size': 50, 'lr': 0.001, 'epochs': 1, 'dry_run': False, 'batch_maxnum': 100}, 'model_args': {'num_classes': 10, 'max_grad_norm': 1.2, 'target_epsilon': 50.0, 'target_delta': 1e-05, 'max_physical_batch_size': 100}, 'command': 'train', 'model_url': 'http://localhost:8844/media/uploads/2022/01/19/my_model_d4cc67e5-d4a5-4174-b28a-5e1850a51a1e.py', 'params_url': 'http://localhost:8844/media/uploads/2022/01/19/aggregated_params_815fc09e-ca28-4dd5-93b7-743d596774ec.pt', 'model_class': 'CIFAR10DPPlan', 'training_data': {'node_558e6d2e-b8c0-4f8f-bf9a-ad27cc58f787': ['dataset_ebb64353-c02f-4f63-9862-578c29bb89db']}}\n",
      "2022-01-19 19:06:53,216 fedbiomed DEBUG - researcher_24bd8fc8-05ae-4d8a-914e-7eb6b2591345\n",
      "01/19/2022 19:06:53:DEBUG:researcher_24bd8fc8-05ae-4d8a-914e-7eb6b2591345\n",
      "2022-01-19 19:06:53,234 fedbiomed INFO - Send message to node node_8c851678-c66f-41b1-a309-80263ab6cab1 - {'researcher_id': 'researcher_24bd8fc8-05ae-4d8a-914e-7eb6b2591345', 'job_id': '012184b0-7525-4aff-b000-037246f1a1d2', 'training_args': {'batch_size': 50, 'lr': 0.001, 'epochs': 1, 'dry_run': False, 'batch_maxnum': 100}, 'model_args': {'num_classes': 10, 'max_grad_norm': 1.2, 'target_epsilon': 50.0, 'target_delta': 1e-05, 'max_physical_batch_size': 100}, 'command': 'train', 'model_url': 'http://localhost:8844/media/uploads/2022/01/19/my_model_d4cc67e5-d4a5-4174-b28a-5e1850a51a1e.py', 'params_url': 'http://localhost:8844/media/uploads/2022/01/19/aggregated_params_815fc09e-ca28-4dd5-93b7-743d596774ec.pt', 'model_class': 'CIFAR10DPPlan', 'training_data': {'node_8c851678-c66f-41b1-a309-80263ab6cab1': ['dataset_2e3575d8-40a3-421a-9194-a217e0bc92c1']}}\n",
      "01/19/2022 19:06:53:INFO:Send message to node node_8c851678-c66f-41b1-a309-80263ab6cab1 - {'researcher_id': 'researcher_24bd8fc8-05ae-4d8a-914e-7eb6b2591345', 'job_id': '012184b0-7525-4aff-b000-037246f1a1d2', 'training_args': {'batch_size': 50, 'lr': 0.001, 'epochs': 1, 'dry_run': False, 'batch_maxnum': 100}, 'model_args': {'num_classes': 10, 'max_grad_norm': 1.2, 'target_epsilon': 50.0, 'target_delta': 1e-05, 'max_physical_batch_size': 100}, 'command': 'train', 'model_url': 'http://localhost:8844/media/uploads/2022/01/19/my_model_d4cc67e5-d4a5-4174-b28a-5e1850a51a1e.py', 'params_url': 'http://localhost:8844/media/uploads/2022/01/19/aggregated_params_815fc09e-ca28-4dd5-93b7-743d596774ec.pt', 'model_class': 'CIFAR10DPPlan', 'training_data': {'node_8c851678-c66f-41b1-a309-80263ab6cab1': ['dataset_2e3575d8-40a3-421a-9194-a217e0bc92c1']}}\n",
      "2022-01-19 19:06:53,245 fedbiomed DEBUG - researcher_24bd8fc8-05ae-4d8a-914e-7eb6b2591345\n",
      "01/19/2022 19:06:53:DEBUG:researcher_24bd8fc8-05ae-4d8a-914e-7eb6b2591345\n",
      "2022-01-19 19:06:53,287 fedbiomed INFO - log from: node_8c851678-c66f-41b1-a309-80263ab6cab1 / DEBUG - Message received: {'researcher_id': 'researcher_24bd8fc8-05ae-4d8a-914e-7eb6b2591345', 'job_id': '012184b0-7525-4aff-b000-037246f1a1d2', 'training_args': {'batch_size': 50, 'lr': 0.001, 'epochs': 1, 'dry_run': False, 'batch_maxnum': 100}, 'model_args': {'num_classes': 10, 'max_grad_norm': 1.2, 'target_epsilon': 50.0, 'target_delta': 1e-05, 'max_physical_batch_size': 100}, 'command': 'train', 'model_url': 'http://localhost:8844/media/uploads/2022/01/19/my_model_d4cc67e5-d4a5-4174-b28a-5e1850a51a1e.py', 'params_url': 'http://localhost:8844/media/uploads/2022/01/19/aggregated_params_815fc09e-ca28-4dd5-93b7-743d596774ec.pt', 'model_class': 'CIFAR10DPPlan', 'training_data': {'node_8c851678-c66f-41b1-a309-80263ab6cab1': ['dataset_2e3575d8-40a3-421a-9194-a217e0bc92c1']}}\n",
      "01/19/2022 19:06:53:INFO:log from: node_8c851678-c66f-41b1-a309-80263ab6cab1 / DEBUG - Message received: {'researcher_id': 'researcher_24bd8fc8-05ae-4d8a-914e-7eb6b2591345', 'job_id': '012184b0-7525-4aff-b000-037246f1a1d2', 'training_args': {'batch_size': 50, 'lr': 0.001, 'epochs': 1, 'dry_run': False, 'batch_maxnum': 100}, 'model_args': {'num_classes': 10, 'max_grad_norm': 1.2, 'target_epsilon': 50.0, 'target_delta': 1e-05, 'max_physical_batch_size': 100}, 'command': 'train', 'model_url': 'http://localhost:8844/media/uploads/2022/01/19/my_model_d4cc67e5-d4a5-4174-b28a-5e1850a51a1e.py', 'params_url': 'http://localhost:8844/media/uploads/2022/01/19/aggregated_params_815fc09e-ca28-4dd5-93b7-743d596774ec.pt', 'model_class': 'CIFAR10DPPlan', 'training_data': {'node_8c851678-c66f-41b1-a309-80263ab6cab1': ['dataset_2e3575d8-40a3-421a-9194-a217e0bc92c1']}}\n",
      "2022-01-19 19:06:53,290 fedbiomed INFO - log from: node_8c851678-c66f-41b1-a309-80263ab6cab1 / DEBUG - [TASKS QUEUE] Item:{'researcher_id': 'researcher_24bd8fc8-05ae-4d8a-914e-7eb6b2591345', 'job_id': '012184b0-7525-4aff-b000-037246f1a1d2', 'params_url': 'http://localhost:8844/media/uploads/2022/01/19/aggregated_params_815fc09e-ca28-4dd5-93b7-743d596774ec.pt', 'training_args': {'batch_size': 50, 'lr': 0.001, 'epochs': 1, 'dry_run': False, 'batch_maxnum': 100}, 'training_data': {'node_8c851678-c66f-41b1-a309-80263ab6cab1': ['dataset_2e3575d8-40a3-421a-9194-a217e0bc92c1']}, 'model_args': {'num_classes': 10, 'max_grad_norm': 1.2, 'target_epsilon': 50.0, 'target_delta': 1e-05, 'max_physical_batch_size': 100}, 'model_url': 'http://localhost:8844/media/uploads/2022/01/19/my_model_d4cc67e5-d4a5-4174-b28a-5e1850a51a1e.py', 'model_class': 'CIFAR10DPPlan', 'command': 'train'}\n",
      "01/19/2022 19:06:53:INFO:log from: node_8c851678-c66f-41b1-a309-80263ab6cab1 / DEBUG - [TASKS QUEUE] Item:{'researcher_id': 'researcher_24bd8fc8-05ae-4d8a-914e-7eb6b2591345', 'job_id': '012184b0-7525-4aff-b000-037246f1a1d2', 'params_url': 'http://localhost:8844/media/uploads/2022/01/19/aggregated_params_815fc09e-ca28-4dd5-93b7-743d596774ec.pt', 'training_args': {'batch_size': 50, 'lr': 0.001, 'epochs': 1, 'dry_run': False, 'batch_maxnum': 100}, 'training_data': {'node_8c851678-c66f-41b1-a309-80263ab6cab1': ['dataset_2e3575d8-40a3-421a-9194-a217e0bc92c1']}, 'model_args': {'num_classes': 10, 'max_grad_norm': 1.2, 'target_epsilon': 50.0, 'target_delta': 1e-05, 'max_physical_batch_size': 100}, 'model_url': 'http://localhost:8844/media/uploads/2022/01/19/my_model_d4cc67e5-d4a5-4174-b28a-5e1850a51a1e.py', 'model_class': 'CIFAR10DPPlan', 'command': 'train'}\n"
     ]
    },
    {
     "name": "stderr",
     "output_type": "stream",
     "text": [
      "2022-01-19 19:06:53,313 fedbiomed INFO - log from: node_558e6d2e-b8c0-4f8f-bf9a-ad27cc58f787 / DEBUG - Message received: {'researcher_id': 'researcher_24bd8fc8-05ae-4d8a-914e-7eb6b2591345', 'job_id': '012184b0-7525-4aff-b000-037246f1a1d2', 'training_args': {'batch_size': 50, 'lr': 0.001, 'epochs': 1, 'dry_run': False, 'batch_maxnum': 100}, 'model_args': {'num_classes': 10, 'max_grad_norm': 1.2, 'target_epsilon': 50.0, 'target_delta': 1e-05, 'max_physical_batch_size': 100}, 'command': 'train', 'model_url': 'http://localhost:8844/media/uploads/2022/01/19/my_model_d4cc67e5-d4a5-4174-b28a-5e1850a51a1e.py', 'params_url': 'http://localhost:8844/media/uploads/2022/01/19/aggregated_params_815fc09e-ca28-4dd5-93b7-743d596774ec.pt', 'model_class': 'CIFAR10DPPlan', 'training_data': {'node_558e6d2e-b8c0-4f8f-bf9a-ad27cc58f787': ['dataset_ebb64353-c02f-4f63-9862-578c29bb89db']}}\n",
      "01/19/2022 19:06:53:INFO:log from: node_558e6d2e-b8c0-4f8f-bf9a-ad27cc58f787 / DEBUG - Message received: {'researcher_id': 'researcher_24bd8fc8-05ae-4d8a-914e-7eb6b2591345', 'job_id': '012184b0-7525-4aff-b000-037246f1a1d2', 'training_args': {'batch_size': 50, 'lr': 0.001, 'epochs': 1, 'dry_run': False, 'batch_maxnum': 100}, 'model_args': {'num_classes': 10, 'max_grad_norm': 1.2, 'target_epsilon': 50.0, 'target_delta': 1e-05, 'max_physical_batch_size': 100}, 'command': 'train', 'model_url': 'http://localhost:8844/media/uploads/2022/01/19/my_model_d4cc67e5-d4a5-4174-b28a-5e1850a51a1e.py', 'params_url': 'http://localhost:8844/media/uploads/2022/01/19/aggregated_params_815fc09e-ca28-4dd5-93b7-743d596774ec.pt', 'model_class': 'CIFAR10DPPlan', 'training_data': {'node_558e6d2e-b8c0-4f8f-bf9a-ad27cc58f787': ['dataset_ebb64353-c02f-4f63-9862-578c29bb89db']}}\n",
      "2022-01-19 19:06:53,315 fedbiomed INFO - log from: node_558e6d2e-b8c0-4f8f-bf9a-ad27cc58f787 / DEBUG - [TASKS QUEUE] Item:{'researcher_id': 'researcher_24bd8fc8-05ae-4d8a-914e-7eb6b2591345', 'job_id': '012184b0-7525-4aff-b000-037246f1a1d2', 'params_url': 'http://localhost:8844/media/uploads/2022/01/19/aggregated_params_815fc09e-ca28-4dd5-93b7-743d596774ec.pt', 'training_args': {'batch_size': 50, 'lr': 0.001, 'epochs': 1, 'dry_run': False, 'batch_maxnum': 100}, 'training_data': {'node_558e6d2e-b8c0-4f8f-bf9a-ad27cc58f787': ['dataset_ebb64353-c02f-4f63-9862-578c29bb89db']}, 'model_args': {'num_classes': 10, 'max_grad_norm': 1.2, 'target_epsilon': 50.0, 'target_delta': 1e-05, 'max_physical_batch_size': 100}, 'model_url': 'http://localhost:8844/media/uploads/2022/01/19/my_model_d4cc67e5-d4a5-4174-b28a-5e1850a51a1e.py', 'model_class': 'CIFAR10DPPlan', 'command': 'train'}\n",
      "01/19/2022 19:06:53:INFO:log from: node_558e6d2e-b8c0-4f8f-bf9a-ad27cc58f787 / DEBUG - [TASKS QUEUE] Item:{'researcher_id': 'researcher_24bd8fc8-05ae-4d8a-914e-7eb6b2591345', 'job_id': '012184b0-7525-4aff-b000-037246f1a1d2', 'params_url': 'http://localhost:8844/media/uploads/2022/01/19/aggregated_params_815fc09e-ca28-4dd5-93b7-743d596774ec.pt', 'training_args': {'batch_size': 50, 'lr': 0.001, 'epochs': 1, 'dry_run': False, 'batch_maxnum': 100}, 'training_data': {'node_558e6d2e-b8c0-4f8f-bf9a-ad27cc58f787': ['dataset_ebb64353-c02f-4f63-9862-578c29bb89db']}, 'model_args': {'num_classes': 10, 'max_grad_norm': 1.2, 'target_epsilon': 50.0, 'target_delta': 1e-05, 'max_physical_batch_size': 100}, 'model_url': 'http://localhost:8844/media/uploads/2022/01/19/my_model_d4cc67e5-d4a5-4174-b28a-5e1850a51a1e.py', 'model_class': 'CIFAR10DPPlan', 'command': 'train'}\n",
      "2022-01-19 19:07:00,068 fedbiomed INFO - log from: node_558e6d2e-b8c0-4f8f-bf9a-ad27cc58f787 / INFO - {'monitor': <fedbiomed.node.history_monitor.HistoryMonitor object at 0x12fb32fa0>, 'batch_size': 50, 'lr': 0.001, 'epochs': 1, 'dry_run': False, 'batch_maxnum': 100}\n",
      "01/19/2022 19:07:00:INFO:log from: node_558e6d2e-b8c0-4f8f-bf9a-ad27cc58f787 / INFO - {'monitor': <fedbiomed.node.history_monitor.HistoryMonitor object at 0x12fb32fa0>, 'batch_size': 50, 'lr': 0.001, 'epochs': 1, 'dry_run': False, 'batch_maxnum': 100}\n",
      "2022-01-19 19:07:00,075 fedbiomed INFO - log from: node_558e6d2e-b8c0-4f8f-bf9a-ad27cc58f787 / DEBUG - Dataset_path/Users/balelli/data\n",
      "01/19/2022 19:07:00:INFO:log from: node_558e6d2e-b8c0-4f8f-bf9a-ad27cc58f787 / DEBUG - Dataset_path/Users/balelli/data\n",
      "2022-01-19 19:07:00,132 fedbiomed INFO - log from: node_8c851678-c66f-41b1-a309-80263ab6cab1 / INFO - {'monitor': <fedbiomed.node.history_monitor.HistoryMonitor object at 0x137638fd0>, 'batch_size': 50, 'lr': 0.001, 'epochs': 1, 'dry_run': False, 'batch_maxnum': 100}\n",
      "01/19/2022 19:07:00:INFO:log from: node_8c851678-c66f-41b1-a309-80263ab6cab1 / INFO - {'monitor': <fedbiomed.node.history_monitor.HistoryMonitor object at 0x137638fd0>, 'batch_size': 50, 'lr': 0.001, 'epochs': 1, 'dry_run': False, 'batch_maxnum': 100}\n",
      "2022-01-19 19:07:00,140 fedbiomed INFO - log from: node_8c851678-c66f-41b1-a309-80263ab6cab1 / DEBUG - Dataset_path/Users/balelli/data\n",
      "01/19/2022 19:07:00:INFO:log from: node_8c851678-c66f-41b1-a309-80263ab6cab1 / DEBUG - Dataset_path/Users/balelli/data\n",
      "2022-01-19 19:07:27,398 fedbiomed INFO - log from: node_8c851678-c66f-41b1-a309-80263ab6cab1 / INFO - Train Epoch: 1 [0/50000 (0%)]\tLoss: 2.211048\n",
      "01/19/2022 19:07:27:INFO:log from: node_8c851678-c66f-41b1-a309-80263ab6cab1 / INFO - Train Epoch: 1 [0/50000 (0%)]\tLoss: 2.211048\n",
      "2022-01-19 19:07:27,495 fedbiomed INFO - log from: node_8c851678-c66f-41b1-a309-80263ab6cab1 / INFO - Epsilon=14.12, Delta=1e-05\n",
      "01/19/2022 19:07:27:INFO:log from: node_8c851678-c66f-41b1-a309-80263ab6cab1 / INFO - Epsilon=14.12, Delta=1e-05\n",
      "2022-01-19 19:07:36,532 fedbiomed INFO - log from: node_558e6d2e-b8c0-4f8f-bf9a-ad27cc58f787 / INFO - Train Epoch: 1 [0/50000 (0%)]\tLoss: 2.260768\n",
      "01/19/2022 19:07:36:INFO:log from: node_558e6d2e-b8c0-4f8f-bf9a-ad27cc58f787 / INFO - Train Epoch: 1 [0/50000 (0%)]\tLoss: 2.260768\n",
      "2022-01-19 19:07:36,700 fedbiomed INFO - log from: node_558e6d2e-b8c0-4f8f-bf9a-ad27cc58f787 / INFO - Epsilon=14.12, Delta=1e-05\n",
      "01/19/2022 19:07:36:INFO:log from: node_558e6d2e-b8c0-4f8f-bf9a-ad27cc58f787 / INFO - Epsilon=14.12, Delta=1e-05\n",
      "2022-01-19 19:10:26,339 fedbiomed INFO - log from: node_8c851678-c66f-41b1-a309-80263ab6cab1 / INFO - Train Epoch: 1 [440/50000 (1%)]\tLoss: 3.275073\n",
      "01/19/2022 19:10:26:INFO:log from: node_8c851678-c66f-41b1-a309-80263ab6cab1 / INFO - Train Epoch: 1 [440/50000 (1%)]\tLoss: 3.275073\n",
      "2022-01-19 19:10:26,463 fedbiomed INFO - log from: node_8c851678-c66f-41b1-a309-80263ab6cab1 / INFO - Epsilon=19.12, Delta=1e-05\n",
      "01/19/2022 19:10:26:INFO:log from: node_8c851678-c66f-41b1-a309-80263ab6cab1 / INFO - Epsilon=19.12, Delta=1e-05\n",
      "2022-01-19 19:10:30,083 fedbiomed INFO - log from: node_558e6d2e-b8c0-4f8f-bf9a-ad27cc58f787 / INFO - Train Epoch: 1 [540/50000 (1%)]\tLoss: 2.191186\n",
      "01/19/2022 19:10:30:INFO:log from: node_558e6d2e-b8c0-4f8f-bf9a-ad27cc58f787 / INFO - Train Epoch: 1 [540/50000 (1%)]\tLoss: 2.191186\n",
      "2022-01-19 19:10:30,202 fedbiomed INFO - log from: node_558e6d2e-b8c0-4f8f-bf9a-ad27cc58f787 / INFO - Epsilon=19.12, Delta=1e-05\n",
      "01/19/2022 19:10:30:INFO:log from: node_558e6d2e-b8c0-4f8f-bf9a-ad27cc58f787 / INFO - Epsilon=19.12, Delta=1e-05\n",
      "2022-01-19 19:11:21,927 fedbiomed INFO - log from: node_8c851678-c66f-41b1-a309-80263ab6cab1 / INFO - Train Epoch: 1 [1020/50000 (2%)]\tLoss: 2.405947\n",
      "01/19/2022 19:11:21:INFO:log from: node_8c851678-c66f-41b1-a309-80263ab6cab1 / INFO - Train Epoch: 1 [1020/50000 (2%)]\tLoss: 2.405947\n",
      "2022-01-19 19:11:22,039 fedbiomed INFO - log from: node_8c851678-c66f-41b1-a309-80263ab6cab1 / INFO - Epsilon=20.67, Delta=1e-05\n",
      "01/19/2022 19:11:22:INFO:log from: node_8c851678-c66f-41b1-a309-80263ab6cab1 / INFO - Epsilon=20.67, Delta=1e-05\n",
      "2022-01-19 19:11:26,282 fedbiomed INFO - log from: node_558e6d2e-b8c0-4f8f-bf9a-ad27cc58f787 / INFO - Train Epoch: 1 [940/50000 (2%)]\tLoss: 2.259674\n",
      "01/19/2022 19:11:26:INFO:log from: node_558e6d2e-b8c0-4f8f-bf9a-ad27cc58f787 / INFO - Train Epoch: 1 [940/50000 (2%)]\tLoss: 2.259674\n",
      "2022-01-19 19:11:26,445 fedbiomed INFO - log from: node_558e6d2e-b8c0-4f8f-bf9a-ad27cc58f787 / INFO - Epsilon=20.67, Delta=1e-05\n",
      "01/19/2022 19:11:26:INFO:log from: node_558e6d2e-b8c0-4f8f-bf9a-ad27cc58f787 / INFO - Epsilon=20.67, Delta=1e-05\n",
      "2022-01-19 19:12:23,881 fedbiomed INFO - log from: node_8c851678-c66f-41b1-a309-80263ab6cab1 / INFO - Train Epoch: 1 [1620/50000 (3%)]\tLoss: 2.188330\n"
     ]
    },
    {
     "name": "stderr",
     "output_type": "stream",
     "text": [
      "01/19/2022 19:12:23:INFO:log from: node_8c851678-c66f-41b1-a309-80263ab6cab1 / INFO - Train Epoch: 1 [1620/50000 (3%)]\tLoss: 2.188330\n",
      "2022-01-19 19:12:24,106 fedbiomed INFO - log from: node_8c851678-c66f-41b1-a309-80263ab6cab1 / INFO - Epsilon=22.21, Delta=1e-05\n",
      "01/19/2022 19:12:24:INFO:log from: node_8c851678-c66f-41b1-a309-80263ab6cab1 / INFO - Epsilon=22.21, Delta=1e-05\n",
      "2022-01-19 19:12:27,139 fedbiomed INFO - log from: node_558e6d2e-b8c0-4f8f-bf9a-ad27cc58f787 / INFO - Train Epoch: 1 [1620/50000 (3%)]\tLoss: 2.343717\n",
      "01/19/2022 19:12:27:INFO:log from: node_558e6d2e-b8c0-4f8f-bf9a-ad27cc58f787 / INFO - Train Epoch: 1 [1620/50000 (3%)]\tLoss: 2.343717\n",
      "2022-01-19 19:12:27,285 fedbiomed INFO - log from: node_558e6d2e-b8c0-4f8f-bf9a-ad27cc58f787 / INFO - Epsilon=22.21, Delta=1e-05\n",
      "01/19/2022 19:12:27:INFO:log from: node_558e6d2e-b8c0-4f8f-bf9a-ad27cc58f787 / INFO - Epsilon=22.21, Delta=1e-05\n",
      "2022-01-19 19:13:16,616 fedbiomed INFO - log from: node_8c851678-c66f-41b1-a309-80263ab6cab1 / INFO - Train Epoch: 1 [1880/50000 (4%)]\tLoss: 2.078727\n",
      "01/19/2022 19:13:16:INFO:log from: node_8c851678-c66f-41b1-a309-80263ab6cab1 / INFO - Train Epoch: 1 [1880/50000 (4%)]\tLoss: 2.078727\n",
      "2022-01-19 19:13:16,720 fedbiomed INFO - log from: node_8c851678-c66f-41b1-a309-80263ab6cab1 / INFO - Epsilon=23.38, Delta=1e-05\n",
      "01/19/2022 19:13:16:INFO:log from: node_8c851678-c66f-41b1-a309-80263ab6cab1 / INFO - Epsilon=23.38, Delta=1e-05\n",
      "2022-01-19 19:13:16,877 fedbiomed INFO - log from: node_558e6d2e-b8c0-4f8f-bf9a-ad27cc58f787 / INFO - Train Epoch: 1 [2000/50000 (4%)]\tLoss: 2.141416\n",
      "01/19/2022 19:13:16:INFO:log from: node_558e6d2e-b8c0-4f8f-bf9a-ad27cc58f787 / INFO - Train Epoch: 1 [2000/50000 (4%)]\tLoss: 2.141416\n",
      "2022-01-19 19:13:16,977 fedbiomed INFO - log from: node_558e6d2e-b8c0-4f8f-bf9a-ad27cc58f787 / INFO - Epsilon=23.38, Delta=1e-05\n",
      "01/19/2022 19:13:16:INFO:log from: node_558e6d2e-b8c0-4f8f-bf9a-ad27cc58f787 / INFO - Epsilon=23.38, Delta=1e-05\n",
      "2022-01-19 19:14:11,722 fedbiomed INFO - log from: node_558e6d2e-b8c0-4f8f-bf9a-ad27cc58f787 / INFO - Train Epoch: 1 [2550/50000 (5%)]\tLoss: 2.005211\n",
      "01/19/2022 19:14:11:INFO:log from: node_558e6d2e-b8c0-4f8f-bf9a-ad27cc58f787 / INFO - Train Epoch: 1 [2550/50000 (5%)]\tLoss: 2.005211\n",
      "2022-01-19 19:14:11,909 fedbiomed INFO - log from: node_558e6d2e-b8c0-4f8f-bf9a-ad27cc58f787 / INFO - Epsilon=23.93, Delta=1e-05\n",
      "01/19/2022 19:14:11:INFO:log from: node_558e6d2e-b8c0-4f8f-bf9a-ad27cc58f787 / INFO - Epsilon=23.93, Delta=1e-05\n",
      "2022-01-19 19:14:13,233 fedbiomed INFO - log from: node_8c851678-c66f-41b1-a309-80263ab6cab1 / INFO - Train Epoch: 1 [2700/50000 (5%)]\tLoss: 2.102517\n",
      "01/19/2022 19:14:13:INFO:log from: node_8c851678-c66f-41b1-a309-80263ab6cab1 / INFO - Train Epoch: 1 [2700/50000 (5%)]\tLoss: 2.102517\n",
      "2022-01-19 19:14:13,342 fedbiomed INFO - log from: node_8c851678-c66f-41b1-a309-80263ab6cab1 / INFO - Epsilon=23.93, Delta=1e-05\n",
      "01/19/2022 19:14:13:INFO:log from: node_8c851678-c66f-41b1-a309-80263ab6cab1 / INFO - Epsilon=23.93, Delta=1e-05\n",
      "2022-01-19 19:15:02,219 fedbiomed INFO - log from: node_558e6d2e-b8c0-4f8f-bf9a-ad27cc58f787 / INFO - Train Epoch: 1 [3120/50000 (6%)]\tLoss: 2.035412\n",
      "01/19/2022 19:15:02:INFO:log from: node_558e6d2e-b8c0-4f8f-bf9a-ad27cc58f787 / INFO - Train Epoch: 1 [3120/50000 (6%)]\tLoss: 2.035412\n",
      "2022-01-19 19:15:02,325 fedbiomed INFO - log from: node_558e6d2e-b8c0-4f8f-bf9a-ad27cc58f787 / INFO - Epsilon=24.49, Delta=1e-05\n",
      "01/19/2022 19:15:02:INFO:log from: node_558e6d2e-b8c0-4f8f-bf9a-ad27cc58f787 / INFO - Epsilon=24.49, Delta=1e-05\n",
      "2022-01-19 19:15:03,535 fedbiomed INFO - log from: node_8c851678-c66f-41b1-a309-80263ab6cab1 / INFO - Train Epoch: 1 [2460/50000 (6%)]\tLoss: 2.060730\n",
      "01/19/2022 19:15:03:INFO:log from: node_8c851678-c66f-41b1-a309-80263ab6cab1 / INFO - Train Epoch: 1 [2460/50000 (6%)]\tLoss: 2.060730\n",
      "2022-01-19 19:15:03,635 fedbiomed INFO - log from: node_8c851678-c66f-41b1-a309-80263ab6cab1 / INFO - Epsilon=24.49, Delta=1e-05\n",
      "01/19/2022 19:15:03:INFO:log from: node_8c851678-c66f-41b1-a309-80263ab6cab1 / INFO - Epsilon=24.49, Delta=1e-05\n",
      "2022-01-19 19:15:55,875 fedbiomed INFO - log from: node_558e6d2e-b8c0-4f8f-bf9a-ad27cc58f787 / INFO - Train Epoch: 1 [3360/50000 (7%)]\tLoss: 2.111287\n",
      "01/19/2022 19:15:55:INFO:log from: node_558e6d2e-b8c0-4f8f-bf9a-ad27cc58f787 / INFO - Train Epoch: 1 [3360/50000 (7%)]\tLoss: 2.111287\n",
      "2022-01-19 19:15:55,979 fedbiomed INFO - log from: node_558e6d2e-b8c0-4f8f-bf9a-ad27cc58f787 / INFO - Epsilon=25.04, Delta=1e-05\n",
      "01/19/2022 19:15:55:INFO:log from: node_558e6d2e-b8c0-4f8f-bf9a-ad27cc58f787 / INFO - Epsilon=25.04, Delta=1e-05\n",
      "2022-01-19 19:15:58,837 fedbiomed INFO - log from: node_8c851678-c66f-41b1-a309-80263ab6cab1 / INFO - Train Epoch: 1 [2730/50000 (7%)]\tLoss: 1.938865\n",
      "01/19/2022 19:15:58:INFO:log from: node_8c851678-c66f-41b1-a309-80263ab6cab1 / INFO - Train Epoch: 1 [2730/50000 (7%)]\tLoss: 1.938865\n",
      "2022-01-19 19:15:58,949 fedbiomed INFO - log from: node_8c851678-c66f-41b1-a309-80263ab6cab1 / INFO - Epsilon=25.04, Delta=1e-05\n",
      "01/19/2022 19:15:58:INFO:log from: node_8c851678-c66f-41b1-a309-80263ab6cab1 / INFO - Epsilon=25.04, Delta=1e-05\n",
      "2022-01-19 19:16:54,095 fedbiomed INFO - log from: node_558e6d2e-b8c0-4f8f-bf9a-ad27cc58f787 / INFO - Train Epoch: 1 [4480/50000 (8%)]\tLoss: 1.865170\n",
      "01/19/2022 19:16:54:INFO:log from: node_558e6d2e-b8c0-4f8f-bf9a-ad27cc58f787 / INFO - Train Epoch: 1 [4480/50000 (8%)]\tLoss: 1.865170\n",
      "2022-01-19 19:16:54,230 fedbiomed INFO - log from: node_558e6d2e-b8c0-4f8f-bf9a-ad27cc58f787 / INFO - Epsilon=25.59, Delta=1e-05\n",
      "01/19/2022 19:16:54:INFO:log from: node_558e6d2e-b8c0-4f8f-bf9a-ad27cc58f787 / INFO - Epsilon=25.59, Delta=1e-05\n",
      "2022-01-19 19:17:02,838 fedbiomed INFO - log from: node_8c851678-c66f-41b1-a309-80263ab6cab1 / INFO - Train Epoch: 1 [4960/50000 (8%)]\tLoss: 2.115191\n",
      "01/19/2022 19:17:02:INFO:log from: node_8c851678-c66f-41b1-a309-80263ab6cab1 / INFO - Train Epoch: 1 [4960/50000 (8%)]\tLoss: 2.115191\n",
      "2022-01-19 19:17:03,006 fedbiomed INFO - log from: node_8c851678-c66f-41b1-a309-80263ab6cab1 / INFO - Epsilon=25.59, Delta=1e-05\n",
      "01/19/2022 19:17:03:INFO:log from: node_8c851678-c66f-41b1-a309-80263ab6cab1 / INFO - Epsilon=25.59, Delta=1e-05\n",
      "2022-01-19 19:17:54,948 fedbiomed INFO - log from: node_558e6d2e-b8c0-4f8f-bf9a-ad27cc58f787 / INFO - Train Epoch: 1 [3870/50000 (9%)]\tLoss: 2.060402\n",
      "01/19/2022 19:17:54:INFO:log from: node_558e6d2e-b8c0-4f8f-bf9a-ad27cc58f787 / INFO - Train Epoch: 1 [3870/50000 (9%)]\tLoss: 2.060402\n",
      "2022-01-19 19:17:55,142 fedbiomed INFO - log from: node_558e6d2e-b8c0-4f8f-bf9a-ad27cc58f787 / INFO - Epsilon=26.14, Delta=1e-05\n",
      "01/19/2022 19:17:55:INFO:log from: node_558e6d2e-b8c0-4f8f-bf9a-ad27cc58f787 / INFO - Epsilon=26.14, Delta=1e-05\n",
      "2022-01-19 19:18:04,330 fedbiomed INFO - log from: node_8c851678-c66f-41b1-a309-80263ab6cab1 / INFO - Train Epoch: 1 [4320/50000 (9%)]\tLoss: 2.052345\n",
      "01/19/2022 19:18:04:INFO:log from: node_8c851678-c66f-41b1-a309-80263ab6cab1 / INFO - Train Epoch: 1 [4320/50000 (9%)]\tLoss: 2.052345\n",
      "2022-01-19 19:18:04,524 fedbiomed INFO - log from: node_8c851678-c66f-41b1-a309-80263ab6cab1 / INFO - Epsilon=26.14, Delta=1e-05\n",
      "01/19/2022 19:18:04:INFO:log from: node_8c851678-c66f-41b1-a309-80263ab6cab1 / INFO - Epsilon=26.14, Delta=1e-05\n",
      "2022-01-19 19:18:49,903 fedbiomed INFO - log from: node_558e6d2e-b8c0-4f8f-bf9a-ad27cc58f787 / DEBUG - Reached 100 batches for this epoch, ignore remaining data\n",
      "01/19/2022 19:18:49:INFO:log from: node_558e6d2e-b8c0-4f8f-bf9a-ad27cc58f787 / DEBUG - Reached 100 batches for this epoch, ignore remaining data\n",
      "2022-01-19 19:18:57,978 fedbiomed INFO - log from: node_8c851678-c66f-41b1-a309-80263ab6cab1 / DEBUG - Reached 100 batches for this epoch, ignore remaining data\n",
      "01/19/2022 19:18:57:INFO:log from: node_8c851678-c66f-41b1-a309-80263ab6cab1 / DEBUG - Reached 100 batches for this epoch, ignore remaining data\n",
      "2022-01-19 19:19:00,714 fedbiomed INFO - log from: node_558e6d2e-b8c0-4f8f-bf9a-ad27cc58f787 / INFO - results uploaded successfully \n",
      "01/19/2022 19:19:00:INFO:log from: node_558e6d2e-b8c0-4f8f-bf9a-ad27cc58f787 / INFO - results uploaded successfully \n",
      "2022-01-19 19:19:07,051 fedbiomed INFO - Downloading model params after training on node_558e6d2e-b8c0-4f8f-bf9a-ad27cc58f787 - from http://localhost:8844/media/uploads/2022/01/19/node_params_1483a8a7-6461-4cdb-9f29-dda639d2f1df.pt\n"
     ]
    },
    {
     "name": "stderr",
     "output_type": "stream",
     "text": [
      "01/19/2022 19:19:07:INFO:Downloading model params after training on node_558e6d2e-b8c0-4f8f-bf9a-ad27cc58f787 - from http://localhost:8844/media/uploads/2022/01/19/node_params_1483a8a7-6461-4cdb-9f29-dda639d2f1df.pt\n",
      "2022-01-19 19:19:10,079 fedbiomed INFO - log from: node_8c851678-c66f-41b1-a309-80263ab6cab1 / INFO - results uploaded successfully \n",
      "01/19/2022 19:19:10:INFO:log from: node_8c851678-c66f-41b1-a309-80263ab6cab1 / INFO - results uploaded successfully \n",
      "2022-01-19 19:19:21,873 fedbiomed INFO - Downloading model params after training on node_8c851678-c66f-41b1-a309-80263ab6cab1 - from http://localhost:8844/media/uploads/2022/01/19/node_params_2f0486f0-3312-468c-86d0-503f8cad45d0.pt\n",
      "01/19/2022 19:19:21:INFO:Downloading model params after training on node_8c851678-c66f-41b1-a309-80263ab6cab1 - from http://localhost:8844/media/uploads/2022/01/19/node_params_2f0486f0-3312-468c-86d0-503f8cad45d0.pt\n",
      "2022-01-19 19:19:24,136 fedbiomed INFO - Nodes that successfully reply in round 1 ['node_558e6d2e-b8c0-4f8f-bf9a-ad27cc58f787', 'node_8c851678-c66f-41b1-a309-80263ab6cab1']\n",
      "01/19/2022 19:19:24:INFO:Nodes that successfully reply in round 1 ['node_558e6d2e-b8c0-4f8f-bf9a-ad27cc58f787', 'node_8c851678-c66f-41b1-a309-80263ab6cab1']\n",
      "2022-01-19 19:19:31,061 fedbiomed INFO - Saved aggregated params for round 1 in /Users/balelli/ownCloud/INRIA_EPIONE/FedBioMed/fedbiomed/var/experiments/Experiment_0000/aggregated_params_49b30429-d02a-4bba-8dcc-bd0ac14d3d40.pt\n",
      "01/19/2022 19:19:31:INFO:Saved aggregated params for round 1 in /Users/balelli/ownCloud/INRIA_EPIONE/FedBioMed/fedbiomed/var/experiments/Experiment_0000/aggregated_params_49b30429-d02a-4bba-8dcc-bd0ac14d3d40.pt\n"
     ]
    }
   ],
   "source": [
    "exp.run()"
   ]
  },
  {
   "cell_type": "markdown",
   "metadata": {},
   "source": [
    "Different timings (in seconds) are reported for each dataset of a node participating in a round :\n",
    "- `rtime_training` real time (clock time) spent in the training function on the node\n",
    "- `ptime_training` process time (user and system CPU) spent in the training function on the node\n",
    "- `rtime_total` real time (clock time) spent in the researcher between sending the request and handling the response, at the `Job()` layer"
   ]
  },
  {
   "cell_type": "code",
   "execution_count": 8,
   "metadata": {},
   "outputs": [
    {
     "name": "stdout",
     "output_type": "stream",
     "text": [
      "\n",
      "List the training rounds :  dict_keys([0, 1])\n",
      "\n",
      "List the nodes for the last training round and their timings : \n",
      "\t- node_558e6d2e-b8c0-4f8f-bf9a-ad27cc58f787 :    \n",
      "\t\trtime_training=626.72 seconds    \n",
      "\t\tptime_training=769.41 seconds    \n",
      "\t\trtime_total=650.74 seconds\n",
      "\t- node_8c851678-c66f-41b1-a309-80263ab6cab1 :    \n",
      "\t\trtime_training=634.77 seconds    \n",
      "\t\tptime_training=785.68 seconds    \n",
      "\t\trtime_total=665.53 seconds\n",
      "\n",
      "\n"
     ]
    }
   ],
   "source": [
    "print(\"\\nList the training rounds : \", exp.training_replies.keys())\n",
    "\n",
    "print(\"\\nList the nodes for the last training round and their timings : \")\n",
    "round_data = exp.training_replies[rounds - 1].data\n",
    "for c in range(len(round_data)):\n",
    "    print(\"\\t- {id} :\\\n",
    "    \\n\\t\\trtime_training={rtraining:.2f} seconds\\\n",
    "    \\n\\t\\tptime_training={ptraining:.2f} seconds\\\n",
    "    \\n\\t\\trtime_total={rtotal:.2f} seconds\".format(id = round_data[c]['node_id'],\n",
    "        rtraining = round_data[c]['timing']['rtime_training'],\n",
    "        ptraining = round_data[c]['timing']['ptime_training'],\n",
    "        rtotal = round_data[c]['timing']['rtime_total']))\n",
    "print('\\n')"
   ]
  },
  {
   "cell_type": "markdown",
   "metadata": {},
   "source": [
    "# Test Model"
   ]
  },
  {
   "cell_type": "markdown",
   "metadata": {},
   "source": [
    "We define a little testing routine to extract the accuracy metrics on the testing dataset\n",
    "## Important\n",
    "This is done to test the model because it can be accessed in a developpement environment  \n",
    "In production, the data wont be accessible on the nodes, need a test dataset on the server or accessible from the server."
   ]
  },
  {
   "cell_type": "code",
   "execution_count": 9,
   "metadata": {},
   "outputs": [],
   "source": [
    "\n",
    "import torch\n",
    "import torch.nn as nn\n",
    "\n",
    "import torch.nn.functional as F\n",
    "from torch.utils.data import DataLoader\n",
    "from torchvision import transforms\n",
    "from torch.utils.data import Dataset, DataLoader\n",
    "import pandas as pd\n",
    "import numpy as np\n",
    "from PIL import Image\n",
    "import os\n",
    "\n",
    "def testing_Accuracy(model, data_loader):\n",
    "    model.eval()\n",
    "    test_loss = 0\n",
    "    correct = 0\n",
    "    \n",
    "    device = \"cpu\"\n",
    "\n",
    "    correct = 0\n",
    "    \n",
    "    loader_size = len(data_loader)\n",
    "    with torch.no_grad():\n",
    "        for idx, (data, target) in enumerate(data_loader):\n",
    "            data, target = data.to(device), target.to(device)\n",
    "            output = model(data)\n",
    "            test_loss += F.nll_loss(output, target, reduction='sum').item()  # sum up batch loss\n",
    "            pred = output.argmax(dim=1, keepdim=True)  # get the index of the max log-probability\n",
    "            correct += pred.eq(target.view_as(pred)).sum().item()\n",
    "            \n",
    "            #only uses 10% of the dataset, results are similar but faster\n",
    "            if idx >= loader_size / 10:\n",
    "                pass\n",
    "                break\n",
    "\n",
    "    \n",
    "        pred = output.argmax(dim=1, keepdim=True)\n",
    "\n",
    "    test_loss /= len(data_loader.dataset)\n",
    "    accuracy = 100* correct/(data_loader.batch_size * idx)\n",
    "\n",
    "    return(test_loss, accuracy)"
   ]
  },
  {
   "cell_type": "markdown",
   "metadata": {},
   "source": [
    "Test dataset"
   ]
  },
  {
   "cell_type": "code",
   "execution_count": 10,
   "metadata": {},
   "outputs": [
    {
     "name": "stdout",
     "output_type": "stream",
     "text": [
      "Downloading https://www.cs.toronto.edu/~kriz/cifar-10-python.tar.gz to /Users/balelli/ownCloud/INRIA_EPIONE/FedBioMed/fedbiomed/var/tmp/tmp2jx06stj/cifar10/cifar-10-python.tar.gz\n"
     ]
    },
    {
     "data": {
      "application/vnd.jupyter.widget-view+json": {
       "model_id": "6035005a98fc4a78b2434178b6d5674e",
       "version_major": 2,
       "version_minor": 0
      },
      "text/plain": [
       "  0%|          | 0/170498071 [00:00<?, ?it/s]"
      ]
     },
     "metadata": {},
     "output_type": "display_data"
    },
    {
     "name": "stdout",
     "output_type": "stream",
     "text": [
      "Extracting /Users/balelli/ownCloud/INRIA_EPIONE/FedBioMed/fedbiomed/var/tmp/tmp2jx06stj/cifar10/cifar-10-python.tar.gz to /Users/balelli/ownCloud/INRIA_EPIONE/FedBioMed/fedbiomed/var/tmp/tmp2jx06stj/cifar10\n"
     ]
    }
   ],
   "source": [
    "import torch\n",
    "import torchvision\n",
    "import torchvision.transforms as transforms\n",
    "from torchvision.datasets import CIFAR10\n",
    "import os\n",
    "\n",
    "# These values, specific to the CIFAR10 dataset, are assumed to be known.\n",
    "# If necessary, they can be computed with modest privacy budget.\n",
    "CIFAR10_MEAN = (0.4914, 0.4822, 0.4465)\n",
    "CIFAR10_STD_DEV = (0.2023, 0.1994, 0.2010)\n",
    "\n",
    "transform = transforms.Compose([\n",
    "    transforms.ToTensor(),\n",
    "    transforms.Normalize(CIFAR10_MEAN, CIFAR10_STD_DEV),\n",
    "])\n",
    "\n",
    "base_dir = tmp_dir_model.name \n",
    "if not os.path.isdir(os.path.join(base_dir, \"cifar10\")):\n",
    "    os.makedirs(os.path.join(base_dir, \"cifar10\"))\n",
    "test_data_dir = os.path.join(base_dir, \"cifar10\")\n",
    "\n",
    "test_dataset = CIFAR10(\n",
    "    root=test_data_dir, train=False, download=True, transform=transform)\n",
    "\n",
    "test_loader = torch.utils.data.DataLoader(\n",
    "    test_dataset,\n",
    "    batch_size=48,\n",
    "    shuffle=False,\n",
    ")"
   ]
  },
  {
   "cell_type": "markdown",
   "metadata": {},
   "source": [
    "We define a util function to calculate the accuracy:"
   ]
  },
  {
   "cell_type": "code",
   "execution_count": 11,
   "metadata": {},
   "outputs": [],
   "source": [
    "def accuracy(preds, labels):\n",
    "    return (preds == labels).mean()"
   ]
  },
  {
   "cell_type": "markdown",
   "metadata": {},
   "source": [
    "We define the model, and we assign to it the model parameters estimated at the last federated optimization round."
   ]
  },
  {
   "cell_type": "code",
   "execution_count": 12,
   "metadata": {},
   "outputs": [],
   "source": [
    "from torchvision import models\n",
    "from opacus.validators import ModuleValidator\n",
    "\n",
    "model = models.resnet18(num_classes=10)\n",
    "model = ModuleValidator.fix(model)\n",
    "ModuleValidator.validate(model, strict=False)\n",
    "\n",
    "model = exp.model_instance\n",
    "model.load_state_dict(exp.aggregated_params[rounds - 1]['params'])\n",
    "\n",
    "device = torch.device(\"cuda\" if torch.cuda.is_available() else \"cpu\")\n",
    "model = model.to(device)"
   ]
  },
  {
   "cell_type": "markdown",
   "metadata": {},
   "source": [
    "We define a function to validate our model on our test dataset."
   ]
  },
  {
   "cell_type": "code",
   "execution_count": 13,
   "metadata": {},
   "outputs": [],
   "source": [
    "def test(model, test_loader, device):\n",
    "    model.eval()\n",
    "    criterion = nn.CrossEntropyLoss()\n",
    "    losses = []\n",
    "    top1_acc = []\n",
    "\n",
    "    with torch.no_grad():\n",
    "        for images, target in test_loader:\n",
    "            images = images.to(device)\n",
    "            target = target.to(device)\n",
    "\n",
    "            output = model(images)\n",
    "            loss = criterion(output, target)\n",
    "            preds = np.argmax(output.detach().cpu().numpy(), axis=1)\n",
    "            labels = target.detach().cpu().numpy()\n",
    "            acc = accuracy(preds, labels)\n",
    "\n",
    "            losses.append(loss.item())\n",
    "            top1_acc.append(acc)\n",
    "\n",
    "    top1_avg = np.mean(top1_acc)\n",
    "\n",
    "    print(\n",
    "        f\"\\tTest set:\"\n",
    "        f\"Loss: {np.mean(losses):.6f} \"\n",
    "        f\"Acc: {top1_avg * 100:.6f} \"\n",
    "    )\n",
    "    return np.mean(top1_acc)"
   ]
  },
  {
   "cell_type": "markdown",
   "metadata": {},
   "source": [
    "And we finally test our model!"
   ]
  },
  {
   "cell_type": "code",
   "execution_count": 14,
   "metadata": {},
   "outputs": [
    {
     "name": "stdout",
     "output_type": "stream",
     "text": [
      "\tTest set:Loss: 2.189102 Acc: 17.663477 \n"
     ]
    }
   ],
   "source": [
    "top1_acc = test(model, test_loader, device)"
   ]
  },
  {
   "cell_type": "code",
   "execution_count": null,
   "metadata": {},
   "outputs": [],
   "source": []
  }
 ],
 "metadata": {
  "interpreter": {
   "hash": "e89561e616b27d96972869796636c18d9df047835da4fde0d47d1d63cf19e486"
  },
  "kernelspec": {
   "display_name": "Python 3 (ipykernel)",
   "language": "python",
   "name": "python3"
  },
  "language_info": {
   "codemirror_mode": {
    "name": "ipython",
    "version": 3
   },
   "file_extension": ".py",
   "mimetype": "text/x-python",
   "name": "python",
   "nbconvert_exporter": "python",
   "pygments_lexer": "ipython3",
   "version": "3.9.9"
  }
 },
 "nbformat": 4,
 "nbformat_minor": 1
}

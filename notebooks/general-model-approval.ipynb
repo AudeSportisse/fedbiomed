{
 "cells": [
  {
   "cell_type": "markdown",
   "metadata": {},
   "source": [
    "# Training Process for Approved Models "
   ]
  },
  {
   "cell_type": "markdown",
   "metadata": {},
   "source": [
    "Fed-BioMed offers a feature to run only the pre-approved models on the nodes. The nodes which receive your model might require approved models. Therefore, if the node accepts only the approved model, the model files that are sent by a researcher with the training request should be approved by the node side in advance. In this workflow, the approval process is done by a real user/person who reviews the code contained in the model file. The reviewer makes sure the model doesn't contain any code that might cause privacy issues or harm the node.\n",
    "\n",
    "In this tutorial, we will be creating a node with activated model approval option.  "
   ]
  },
  {
   "cell_type": "markdown",
   "metadata": {},
   "source": [
    "## Start the network\n",
    "Before running this notebook, start the network with `./scripts/fedbiomed_run network`"
   ]
  },
  {
   "cell_type": "markdown",
   "metadata": {},
   "source": [
    "## Setting Up a Node\n",
    "\n",
    "\n",
    "Enabling model approval can be done both from config file or Fed-BioMed CLI while starting the node. The process of creating and starting a node with model approval option is not so different from setting up a normal node. By default, if no option is specified in the CLI when the node is launched for the first time, the node disables model approval in the security section of the config file. It then looks like the snippet below :\n",
    "\n",
    "```shell\n",
    "[security]\n",
    "hashing_algorithm = SHA256\n",
    "allow_default_models = True\n",
    "model_approval = False\n",
    "```\n",
    "The Fed-BioMed CLI has two optional extra parameters `--enable-model-approval` and `--allow-default-models` to activate model approval. They choose the config file options, when the node is launched for the first time. They enable one-time override of the config file options at each launch of the node.\n",
    "\n",
    "* `--enable-model-approval` : This parameter enables model approval for the node. If there isn't a config file for the node while running CLI, it creates a new config file with enabled model approval mode `model_approval = True`. \n",
    "* `--allow-default-models`  : This parameter allows default models for train requests. These are the models that come for Fed-BioMed tutorials. For example, the model for MNIST dataset that we will be using for this tutorial. If the default models are enabled, node updates/registers model files which are located in `envs/common/default_models` directory during the starting process of the node. This option has no effect if model approval is not enabled.\n",
    "\n",
    "\n",
    "### Adding MNIST Dataset to The Node. \n",
    "\n",
    "In this section we will add MNIST dataset to the node. While adding the dataset through CLI we'll also specify `--enable-model-approval` and `--allow-default-models` options. This will create new `config-n1.ini` file with following configuration. \n",
    "\n",
    "```\n",
    "[security]\n",
    "hashing_algorithm = SHA256\n",
    "allow_default_models = True\n",
    "model_approval = True\n",
    "\n",
    "```\n",
    "Now, let's run the following command. \n",
    "\n",
    "```shell\n",
    "$ ${FEDBIOMED_DIR}/scripts/fedbiomed_run node config config-n1.ini --enable-model-approval --allow-default-models add \n",
    "```\n",
    "\n",
    "The CLI will ask you to select the dataset type. Since we will be working on MNIST dataset, please select `2` (default) and continue by typing `y` for the next prompt and select folder that you want to store MNIST dataset. Afterward, if you go to `etc` directory of fedbiomed, you can see `config-n1.ini` file. \n",
    "\n",
    "### Starting the Node\n",
    "\n",
    "Now you can start your node by running following command; \n",
    "\n",
    "```\n",
    "$ ${FEDBIOMED_DIR}/scripts/fedbiomed_run node config config-n1.ini start\n",
    "```\n",
    "\n",
    "Since config file has been configured to enable model approval mode, you do not need to specify any extra parameter while starting the node. But it is also possible to start node with `--enable-model-approval`, `--allow-default-models` or `--disable-model-approval`, `--disable-default-models`. If you start your node with `--disable-model-approval` it will disable model approval even it is enabled in the config file.  \n"
   ]
  },
  {
   "cell_type": "markdown",
   "metadata": {},
   "source": [
    "## Creating An Experiment\n",
    "\n",
    "In this section we will be using default MNIST model which has been already registered by the node."
   ]
  },
  {
   "cell_type": "markdown",
   "metadata": {},
   "source": [
    "The following model is the model that will be sent to the node for training. Since the model files are processed by the Experiment to configure dependencies, import part of the final file might be different from this one."
   ]
  },
  {
   "cell_type": "code",
   "execution_count": 3,
   "metadata": {},
   "outputs": [],
   "source": [
    "import torch\n",
    "import torch.nn as nn\n",
    "from fedbiomed.common.training_plans import TorchTrainingPlan\n",
    "from fedbiomed.common.data import DataManager\n",
    "from torchvision import datasets, transforms\n",
    "\n",
    "# Here we define the model to be used. \n",
    "# You can use any class name (here 'Net')\n",
    "class MyTrainingPlan(TorchTrainingPlan):\n",
    "    def __init__(self, model_args: dict = {}):\n",
    "        super(MyTrainingPlan, self).__init__(model_args)\n",
    "        self.conv1 = nn.Conv2d(1, 32, 3, 1)\n",
    "        self.conv2 = nn.Conv2d(32, 64, 3, 1)\n",
    "        self.dropout1 = nn.Dropout(0.25)\n",
    "        self.dropout2 = nn.Dropout(0.5)\n",
    "        self.fc1 = nn.Linear(9216, 128)\n",
    "        self.fc2 = nn.Linear(128, 10)\n",
    "        \n",
    "        # Here we define the custom dependencies that will be needed by our custom Dataloader\n",
    "        # In this case, we need the torch DataLoader classes\n",
    "        # Since we will train on MNIST, we need datasets and transform from torchvision\n",
    "        deps = [\"from torchvision import datasets, transforms\"]\n",
    "        \n",
    "        self.add_dependency(deps)\n",
    "\n",
    "    def forward(self, x):\n",
    "        x = self.conv1(x)\n",
    "        x = F.relu(x)\n",
    "        x = self.conv2(x)\n",
    "        x = F.relu(x)\n",
    "        x = F.max_pool2d(x, 2)\n",
    "        x = self.dropout1(x)\n",
    "        x = torch.flatten(x, 1)\n",
    "        x = self.fc1(x)\n",
    "        x = F.relu(x)\n",
    "        x = self.dropout2(x)\n",
    "        x = self.fc2(x)\n",
    "        \n",
    "        \n",
    "        output = F.log_softmax(x, dim=1)\n",
    "        return output\n",
    "\n",
    "    def training_data(self, batch_size = 48):\n",
    "        # Custom torch Dataloader for MNIST data\n",
    "        transform = transforms.Compose([transforms.ToTensor(),\n",
    "        transforms.Normalize((0.1307,), (0.3081,))])\n",
    "        dataset1 = datasets.MNIST(self.dataset_path, train=True, download=False, transform=transform)\n",
    "        train_kwargs = {'batch_size': batch_size, 'shuffle': True}\n",
    "        return DataManager(dataset=dataset1, **train_kwargs)\n",
    "    \n",
    "    def training_step(self, data, target):\n",
    "        output = self.forward(data)\n",
    "        loss   = torch.nn.functional.nll_loss(output, target)\n",
    "        return loss\n"
   ]
  },
  {
   "cell_type": "markdown",
   "metadata": {},
   "source": [
    "To be able to get/see the final model file we need to initialize the experiment. "
   ]
  },
  {
   "cell_type": "code",
   "execution_count": 4,
   "metadata": {
    "pycharm": {
     "name": "#%%\n"
    },
    "scrolled": true
   },
   "outputs": [
    {
     "name": "stderr",
     "output_type": "stream",
     "text": [
      "2022-06-08 16:46:35,093 fedbiomed INFO - Searching dataset with data tags: ['#MNIST', '#dataset'] for all nodes\n",
      "2022-06-08 16:46:45,132 fedbiomed INFO - Node selected for training -> node_e41c42b1-c1c4-47d7-8c53-9ac60e4d3d61\n",
      "2022-06-08 16:46:45,175 fedbiomed DEBUG - Model file has been saved: /home/scansiz/Desktop/Inria/development/fedbiomed/var/experiments/Experiment_0002/my_model_26a455e7-6c9d-413c-8b86-69f4858c3cde.py\n",
      "2022-06-08 16:46:45,399 fedbiomed DEBUG - upload (HTTP POST request) of file /home/scansiz/Desktop/Inria/development/fedbiomed/var/experiments/Experiment_0002/my_model_26a455e7-6c9d-413c-8b86-69f4858c3cde.py successful, with status code 201\n",
      "2022-06-08 16:46:45,546 fedbiomed DEBUG - upload (HTTP POST request) of file /home/scansiz/Desktop/Inria/development/fedbiomed/var/experiments/Experiment_0002/aggregated_params_init_630c040b-0739-430b-a7fe-59617cd747e0.pt successful, with status code 201\n"
     ]
    }
   ],
   "source": [
    "from fedbiomed.researcher.experiment import Experiment\n",
    "from fedbiomed.researcher.aggregators.fedavg import FedAverage\n",
    "\n",
    "tags =  ['#MNIST', '#dataset']\n",
    "rounds = 2\n",
    "\n",
    "model_args = {}\n",
    "\n",
    "training_args = {\n",
    "    'batch_size': 48, \n",
    "    'lr': 1e-3, \n",
    "    'epochs': 1, \n",
    "    'dry_run': False,  \n",
    "    'batch_maxnum': 100 # Fast pass for development : only use ( batch_maxnum * batch_size ) samples\n",
    "}\n",
    "\n",
    "exp = Experiment(tags=tags,\n",
    "                 model_args=model_args,\n",
    "                 model_class=MyTrainingPlan,\n",
    "                 training_args=training_args,\n",
    "                 round_limit=rounds,\n",
    "                 aggregator=FedAverage(),\n",
    "                 node_selection_strategy=None)"
   ]
  },
  {
   "cell_type": "markdown",
   "metadata": {},
   "source": [
    "### Getting Final Model File From Experiment\n",
    "\n",
    "`model_file()` displays the model file that will be sent to the nodes.  "
   ]
  },
  {
   "cell_type": "code",
   "execution_count": null,
   "metadata": {},
   "outputs": [],
   "source": [
    "exp.model_file(display = True)"
   ]
  },
  {
   "cell_type": "markdown",
   "metadata": {},
   "source": [
    "The `exp.check_model_status()` sends request to the nodes to check whether the model is approved or not. The nodes that will receive the requests are the nodes that have been found after searching datasets. "
   ]
  },
  {
   "cell_type": "code",
   "execution_count": 5,
   "metadata": {},
   "outputs": [
    {
     "name": "stderr",
     "output_type": "stream",
     "text": [
      "2022-06-08 16:46:45,551 fedbiomed INFO - Sending request to node node_e41c42b1-c1c4-47d7-8c53-9ac60e4d3d61 to check model is approved or not\n",
      "2022-06-08 16:46:45,552 fedbiomed DEBUG - researcher_689b06d4-53ff-40bd-9ea5-ff74754f6ef4\n",
      "2022-06-08 16:46:55,589 fedbiomed INFO - Model has been approved by the node: node_e41c42b1-c1c4-47d7-8c53-9ac60e4d3d61\n"
     ]
    }
   ],
   "source": [
    "status = exp.check_model_status()"
   ]
  },
  {
   "cell_type": "code",
   "execution_count": 6,
   "metadata": {},
   "outputs": [
    {
     "data": {
      "text/plain": [
       "[{'researcher_id': 'researcher_689b06d4-53ff-40bd-9ea5-ff74754f6ef4', 'node_id': 'node_e41c42b1-c1c4-47d7-8c53-9ac60e4d3d61', 'job_id': '6ce6ec9a-c831-4d3f-8fd6-4ba7d573c39d', 'success': True, 'approval_obligation': True, 'status': 'Approved', 'msg': 'Model has been approved by the node, training can start', 'model_url': 'http://localhost:8844/media/uploads/2022/06/08/my_model_26a455e7-6c9d-413c-8b86-69f4858c3cde.py', 'command': 'model-status'}]"
      ]
     },
     "execution_count": 6,
     "metadata": {},
     "output_type": "execute_result"
    }
   ],
   "source": [
    "status"
   ]
  },
  {
   "cell_type": "code",
   "execution_count": 7,
   "metadata": {},
   "outputs": [
    {
     "name": "stderr",
     "output_type": "stream",
     "text": [
      "2022-06-08 16:46:58,642 fedbiomed INFO - Sampled nodes in round 0 ['node_e41c42b1-c1c4-47d7-8c53-9ac60e4d3d61']\n",
      "2022-06-08 16:46:58,644 fedbiomed INFO - \u001b[1mSending request\u001b[0m \n",
      "\t\t\t\t\t\u001b[1m To\u001b[0m: node_e41c42b1-c1c4-47d7-8c53-9ac60e4d3d61 \n",
      "\t\t\t\t\t\u001b[1m Request: \u001b[0m: Perform training with the arguments: {'researcher_id': 'researcher_689b06d4-53ff-40bd-9ea5-ff74754f6ef4', 'job_id': '6ce6ec9a-c831-4d3f-8fd6-4ba7d573c39d', 'training_args': scheme:\n",
      "{'lr': {'rules': [<class 'float'>, <function TrainingArgs._lr_hook at 0x7fd8b543e280>], 'required': False}, 'batch_size': {'rules': [<class 'int'>], 'required': False}, 'epochs': {'rules': [<class 'int'>], 'required': False}, 'dry_run': {'rules': [<class 'bool'>], 'required': False}, 'batch_maxnum': {'rules': [<class 'int'>], 'required': False}, 'test_ratio': {'rules': [<class 'float'>, <function TrainingArgs._test_ratio_hook at 0x7fd8b543e160>], 'required': False, 'default': 0.0}, 'test_on_local_updates': {'rules': [<class 'bool'>], 'required': False, 'default': False}, 'test_on_global_updates': {'rules': [<class 'bool'>], 'required': False, 'default': False}, 'test_metric': {'rules': [<function TrainingArgs._metric_validation_hook at 0x7fd8b543e040>], 'required': False, 'default': None}, 'test_metric_args': {'rules': [<class 'dict'>], 'required': False, 'default': {}}}\n",
      "value:\n",
      "{'batch_size': 48, 'lr': 0.001, 'epochs': 1, 'dry_run': False, 'batch_maxnum': 100, 'test_ratio': 0.0, 'test_on_local_updates': False, 'test_on_global_updates': False, 'test_metric': None, 'test_metric_args': {}}, 'training': True, 'model_args': {}, 'command': 'train', 'model_url': 'http://localhost:8844/media/uploads/2022/06/08/my_model_26a455e7-6c9d-413c-8b86-69f4858c3cde.py', 'params_url': 'http://localhost:8844/media/uploads/2022/06/08/aggregated_params_init_630c040b-0739-430b-a7fe-59617cd747e0.pt', 'model_class': 'MyTrainingPlan', 'training_data': {'node_e41c42b1-c1c4-47d7-8c53-9ac60e4d3d61': ['dataset_a039160d-88f3-49ac-8f11-31f27ea62d80']}} \n",
      " -----------------------------------------------------------------\n",
      "2022-06-08 16:46:58,645 fedbiomed DEBUG - researcher_689b06d4-53ff-40bd-9ea5-ff74754f6ef4\n",
      "2022-06-08 16:46:58,709 fedbiomed INFO - \u001b[1mINFO\u001b[0m\n",
      "\t\t\t\t\t\u001b[1m NODE\u001b[0m node_e41c42b1-c1c4-47d7-8c53-9ac60e4d3d61\n",
      "\t\t\t\t\t\u001b[1m MESSAGE:\u001b[0m Model has been approved by the node pytorch-mnist.txt\u001b[0m\n",
      "-----------------------------------------------------------------\n",
      "2022-06-08 16:46:58,817 fedbiomed INFO - \u001b[1mWARNING\u001b[0m\n",
      "\t\t\t\t\t\u001b[1m NODE\u001b[0m node_e41c42b1-c1c4-47d7-8c53-9ac60e4d3d61\n",
      "\t\t\t\t\t\u001b[1m MESSAGE:\u001b[0m There is no test activated for the round. Please set flag for `test_on_global_updates`, `test_on_local_updates`, or both. Splitting dataset for testing will be ignored\u001b[0m\n",
      "-----------------------------------------------------------------\n",
      "2022-06-08 16:46:58,849 fedbiomed INFO - \u001b[1mINFO\u001b[0m\n",
      "\t\t\t\t\t\u001b[1m NODE\u001b[0m node_e41c42b1-c1c4-47d7-8c53-9ac60e4d3d61\n",
      "\t\t\t\t\t\u001b[1m MESSAGE:\u001b[0m training with arguments {'history_monitor': <fedbiomed.node.history_monitor.HistoryMonitor object at 0x7f3bb4858610>, 'node_args': {'gpu': False, 'gpu_num': None, 'gpu_only': False}, 'lr': 0.001, 'epochs': 1, 'dry_run': False, 'batch_maxnum': 100}\u001b[0m\n",
      "-----------------------------------------------------------------\n",
      "2022-06-08 16:46:59,905 fedbiomed INFO - \u001b[1mTRAINING\u001b[0m \n",
      "\t\t\t\t\t NODE_ID: node_e41c42b1-c1c4-47d7-8c53-9ac60e4d3d61 \n",
      "\t\t\t\t\t Epoch: 1 | Completed: 480/60000 (1%) \n",
      " \t\t\t\t\t Loss: \u001b[1m1.475006\u001b[0m \n",
      "\t\t\t\t\t ---------\n",
      "2022-06-08 16:47:00,524 fedbiomed INFO - \u001b[1mTRAINING\u001b[0m \n",
      "\t\t\t\t\t NODE_ID: node_e41c42b1-c1c4-47d7-8c53-9ac60e4d3d61 \n",
      "\t\t\t\t\t Epoch: 1 | Completed: 960/60000 (2%) \n",
      " \t\t\t\t\t Loss: \u001b[1m0.818434\u001b[0m \n",
      "\t\t\t\t\t ---------\n",
      "2022-06-08 16:47:01,424 fedbiomed INFO - \u001b[1mTRAINING\u001b[0m \n",
      "\t\t\t\t\t NODE_ID: node_e41c42b1-c1c4-47d7-8c53-9ac60e4d3d61 \n",
      "\t\t\t\t\t Epoch: 1 | Completed: 1440/60000 (2%) \n",
      " \t\t\t\t\t Loss: \u001b[1m0.640447\u001b[0m \n",
      "\t\t\t\t\t ---------\n",
      "2022-06-08 16:47:02,165 fedbiomed INFO - \u001b[1mTRAINING\u001b[0m \n",
      "\t\t\t\t\t NODE_ID: node_e41c42b1-c1c4-47d7-8c53-9ac60e4d3d61 \n",
      "\t\t\t\t\t Epoch: 1 | Completed: 1920/60000 (3%) \n",
      " \t\t\t\t\t Loss: \u001b[1m0.544446\u001b[0m \n",
      "\t\t\t\t\t ---------\n",
      "2022-06-08 16:47:03,103 fedbiomed INFO - \u001b[1mTRAINING\u001b[0m \n",
      "\t\t\t\t\t NODE_ID: node_e41c42b1-c1c4-47d7-8c53-9ac60e4d3d61 \n",
      "\t\t\t\t\t Epoch: 1 | Completed: 2400/60000 (4%) \n",
      " \t\t\t\t\t Loss: \u001b[1m0.442466\u001b[0m \n",
      "\t\t\t\t\t ---------\n",
      "2022-06-08 16:47:03,712 fedbiomed INFO - \u001b[1mTRAINING\u001b[0m \n",
      "\t\t\t\t\t NODE_ID: node_e41c42b1-c1c4-47d7-8c53-9ac60e4d3d61 \n",
      "\t\t\t\t\t Epoch: 1 | Completed: 2880/60000 (5%) \n",
      " \t\t\t\t\t Loss: \u001b[1m0.614988\u001b[0m \n",
      "\t\t\t\t\t ---------\n",
      "2022-06-08 16:47:04,534 fedbiomed INFO - \u001b[1mTRAINING\u001b[0m \n",
      "\t\t\t\t\t NODE_ID: node_e41c42b1-c1c4-47d7-8c53-9ac60e4d3d61 \n",
      "\t\t\t\t\t Epoch: 1 | Completed: 3360/60000 (6%) \n",
      " \t\t\t\t\t Loss: \u001b[1m0.397742\u001b[0m \n",
      "\t\t\t\t\t ---------\n",
      "2022-06-08 16:47:05,098 fedbiomed INFO - \u001b[1mTRAINING\u001b[0m \n",
      "\t\t\t\t\t NODE_ID: node_e41c42b1-c1c4-47d7-8c53-9ac60e4d3d61 \n",
      "\t\t\t\t\t Epoch: 1 | Completed: 3840/60000 (6%) \n",
      " \t\t\t\t\t Loss: \u001b[1m0.607449\u001b[0m \n",
      "\t\t\t\t\t ---------\n",
      "2022-06-08 16:47:05,653 fedbiomed INFO - \u001b[1mTRAINING\u001b[0m \n",
      "\t\t\t\t\t NODE_ID: node_e41c42b1-c1c4-47d7-8c53-9ac60e4d3d61 \n",
      "\t\t\t\t\t Epoch: 1 | Completed: 4320/60000 (7%) \n",
      " \t\t\t\t\t Loss: \u001b[1m0.290768\u001b[0m \n",
      "\t\t\t\t\t ---------\n",
      "2022-06-08 16:47:06,321 fedbiomed INFO - \u001b[1mINFO\u001b[0m\n",
      "\t\t\t\t\t\u001b[1m NODE\u001b[0m node_e41c42b1-c1c4-47d7-8c53-9ac60e4d3d61\n",
      "\t\t\t\t\t\u001b[1m MESSAGE:\u001b[0m Reached 100 batches for this epoch, ignore remaining data\u001b[0m\n",
      "-----------------------------------------------------------------\n",
      "2022-06-08 16:47:06,528 fedbiomed INFO - \u001b[1mINFO\u001b[0m\n",
      "\t\t\t\t\t\u001b[1m NODE\u001b[0m node_e41c42b1-c1c4-47d7-8c53-9ac60e4d3d61\n",
      "\t\t\t\t\t\u001b[1m MESSAGE:\u001b[0m results uploaded successfully \u001b[0m\n",
      "-----------------------------------------------------------------\n",
      "2022-06-08 16:47:13,718 fedbiomed INFO - Downloading model params after training on node_e41c42b1-c1c4-47d7-8c53-9ac60e4d3d61 - from http://localhost:8844/media/uploads/2022/06/08/node_params_48d50867-8258-4946-9062-1b74cd922a86.pt\n",
      "2022-06-08 16:47:13,779 fedbiomed DEBUG - upload (HTTP GET request) of file node_params_7db3d385-2c8c-43e5-bfa9-598f4c77d31a.pt successful, with status code 200\n",
      "2022-06-08 16:47:13,802 fedbiomed INFO - Nodes that successfully reply in round 0 ['node_e41c42b1-c1c4-47d7-8c53-9ac60e4d3d61']\n",
      "2022-06-08 16:47:14,058 fedbiomed DEBUG - upload (HTTP POST request) of file /home/scansiz/Desktop/Inria/development/fedbiomed/var/experiments/Experiment_0002/aggregated_params_16b93b1f-963c-43a9-b8a9-4b1ea4325ddf.pt successful, with status code 201\n",
      "2022-06-08 16:47:14,059 fedbiomed INFO - Saved aggregated params for round 0 in /home/scansiz/Desktop/Inria/development/fedbiomed/var/experiments/Experiment_0002/aggregated_params_16b93b1f-963c-43a9-b8a9-4b1ea4325ddf.pt\n"
     ]
    },
    {
     "data": {
      "text/plain": [
       "1"
      ]
     },
     "execution_count": 7,
     "metadata": {},
     "output_type": "execute_result"
    }
   ],
   "source": [
    "exp.run_once()"
   ]
  },
  {
   "cell_type": "markdown",
   "metadata": {},
   "source": [
    "The logs should indicate that the model is approved. You can also get status object from the result of the `check_model_status()`. It returns a list of status objects each for different node. Since we have only launched a single node, it returns only one status object. \n",
    "\n",
    "* `approval_obligation` : Indicates whether the model approval is enabled in the node.  \n",
    "* `status`         : Indicates model status."
   ]
  },
  {
   "cell_type": "markdown",
   "metadata": {},
   "source": [
    "## Changing Model And Testing Model Approval Status\n",
    "\n",
    "Let's change the model codes and test whether it is approved or not. We will be changing the network structure."
   ]
  },
  {
   "cell_type": "code",
   "execution_count": 8,
   "metadata": {},
   "outputs": [],
   "source": [
    "import torch\n",
    "import torch.nn as nn\n",
    "import torch.nn.functional as F\n",
    "from fedbiomed.common.training_plans import TorchTrainingPlan\n",
    "from fedbiomed.common.data import DataManager\n",
    "from torchvision import datasets, transforms\n",
    "\n",
    "class MyTrainingPlan(TorchTrainingPlan):\n",
    "    def __init__(self, model_args: dict = {}):\n",
    "        super(MyTrainingPlan, self).__init__(model_args)\n",
    "        self.conv1 = nn.Conv2d(1, 16, 5, 1, 2)\n",
    "        self.conv2 = nn.Conv2d(16, 32, 5, 1, 2)\n",
    "        self.fc1 = nn.Linear(32 * 7 * 7, 10)\n",
    "        deps = [\"from torchvision import datasets, transforms\"]\n",
    "        \n",
    "        self.add_dependency(deps)\n",
    "        \n",
    "    def forward(self, x):\n",
    "        x = self.conv1(x)\n",
    "        x = F.relu(x)\n",
    "        x = F.max_pool2d(x, 2)\n",
    "        x = self.conv2(x)\n",
    "        x = F.relu(x)\n",
    "        x = F.max_pool2d(x, 2)\n",
    "        x = torch.flatten(x, 1)\n",
    "        x = self.fc1(x)\n",
    "\n",
    "        output = F.log_softmax(x, dim=1)\n",
    "        return output\n",
    "\n",
    "    def training_data(self, batch_size = 48):\n",
    "        # Custom torch Dataloader for MNIST data\n",
    "        \n",
    "        transform = transforms.Compose([transforms.ToTensor(),\n",
    "        transforms.Normalize((0.1307,), (0.3081,))])\n",
    "        dataset1 = datasets.MNIST(self.dataset_path, train=True, download=False, transform=transform)\n",
    "        train_kwargs = {'batch_size': batch_size, 'shuffle': True}        \n",
    "        return DataManager(dataset1, **train_kwargs)\n",
    "    \n",
    "    def training_step(self, data, target):\n",
    "        output = self.forward(data)\n",
    "        loss   = torch.nn.functional.nll_loss(output, target)\n",
    "        loss += 1\n",
    "        return loss\n"
   ]
  },
  {
   "cell_type": "markdown",
   "metadata": {},
   "source": [
    "Update model path using `set_model_path`."
   ]
  },
  {
   "cell_type": "code",
   "execution_count": 9,
   "metadata": {
    "pycharm": {
     "name": "#%%\n"
    },
    "scrolled": true
   },
   "outputs": [
    {
     "name": "stderr",
     "output_type": "stream",
     "text": [
      "2022-06-08 16:47:19,697 fedbiomed DEBUG - Experimentation model_class changed, you may need to update `job`\n",
      "2022-06-08 16:47:19,699 fedbiomed DEBUG - Experimentation `job` changed after running {self._round_current} rounds, may give inconsistent results\n",
      "2022-06-08 16:47:19,702 fedbiomed DEBUG - Model file has been saved: /home/scansiz/Desktop/Inria/development/fedbiomed/var/experiments/Experiment_0002/my_model_39dff6ad-176e-4b54-85bb-ec278fa87f92.py\n",
      "2022-06-08 16:47:19,745 fedbiomed DEBUG - upload (HTTP POST request) of file /home/scansiz/Desktop/Inria/development/fedbiomed/var/experiments/Experiment_0002/my_model_39dff6ad-176e-4b54-85bb-ec278fa87f92.py successful, with status code 201\n",
      "2022-06-08 16:47:19,784 fedbiomed DEBUG - upload (HTTP POST request) of file /home/scansiz/Desktop/Inria/development/fedbiomed/var/experiments/Experiment_0002/aggregated_params_init_b539988c-7710-4b4a-9c55-f9d315f29b57.pt successful, with status code 201\n"
     ]
    },
    {
     "data": {
      "text/plain": [
       "<fedbiomed.researcher.job.Job at 0x7fd8b45ce460>"
      ]
     },
     "execution_count": 9,
     "metadata": {},
     "output_type": "execute_result"
    }
   ],
   "source": [
    "exp.set_model_class(MyTrainingPlan)\n",
    "# update job since model_path has been changed\n",
    "exp.set_job()"
   ]
  },
  {
   "cell_type": "markdown",
   "metadata": {},
   "source": [
    "Since we changed the model code, the output of the following method should say that the model is not approved by the node and `is_approved` key of the result object should be equal to `False`."
   ]
  },
  {
   "cell_type": "code",
   "execution_count": 10,
   "metadata": {},
   "outputs": [
    {
     "name": "stderr",
     "output_type": "stream",
     "text": [
      "2022-06-08 16:47:28,696 fedbiomed INFO - Sending request to node node_e41c42b1-c1c4-47d7-8c53-9ac60e4d3d61 to check model is approved or not\n",
      "2022-06-08 16:47:28,697 fedbiomed DEBUG - researcher_689b06d4-53ff-40bd-9ea5-ff74754f6ef4\n",
      "2022-06-08 16:47:38,736 fedbiomed WARNING - Model has NOT been approved by the node: node_e41c42b1-c1c4-47d7-8c53-9ac60e4d3d61.Model status : Not Registered\n"
     ]
    }
   ],
   "source": [
    "status = exp.check_model_status()"
   ]
  },
  {
   "cell_type": "code",
   "execution_count": 11,
   "metadata": {},
   "outputs": [
    {
     "name": "stdout",
     "output_type": "stream",
     "text": [
      "import torch\n",
      "import torch.nn as nn\n",
      "import torch.nn.functional as F\n",
      "from fedbiomed.common.training_plans import TorchTrainingPlan\n",
      "from fedbiomed.common.data import DataManager\n",
      "from fedbiomed.common.constants import ProcessTypes\n",
      "from torch.utils.data import DataLoader\n",
      "from torchvision import datasets, transforms\n",
      "from torchvision import datasets, transforms\n",
      "\n",
      "class MyTrainingPlan(TorchTrainingPlan):\n",
      "    def __init__(self, model_args: dict = {}):\n",
      "        super(MyTrainingPlan, self).__init__(model_args)\n",
      "        self.conv1 = nn.Conv2d(1, 16, 5, 1, 2)\n",
      "        self.conv2 = nn.Conv2d(16, 32, 5, 1, 2)\n",
      "        self.fc1 = nn.Linear(32 * 7 * 7, 10)\n",
      "        deps = [\"from torchvision import datasets, transforms\"]\n",
      "        \n",
      "        self.add_dependency(deps)\n",
      "        \n",
      "    def forward(self, x):\n",
      "        x = self.conv1(x)\n",
      "        x = F.relu(x)\n",
      "        x = F.max_pool2d(x, 2)\n",
      "        x = self.conv2(x)\n",
      "        x = F.relu(x)\n",
      "        x = F.max_pool2d(x, 2)\n",
      "        x = torch.flatten(x, 1)\n",
      "        x = self.fc1(x)\n",
      "\n",
      "        output = F.log_softmax(x, dim=1)\n",
      "        return output\n",
      "\n",
      "    def training_data(self, batch_size = 48):\n",
      "        # Custom torch Dataloader for MNIST data\n",
      "        \n",
      "        transform = transforms.Compose([transforms.ToTensor(),\n",
      "        transforms.Normalize((0.1307,), (0.3081,))])\n",
      "        dataset1 = datasets.MNIST(self.dataset_path, train=True, download=False, transform=transform)\n",
      "        train_kwargs = {'batch_size': batch_size, 'shuffle': True}        \n",
      "        return DataManager(dataset1, **train_kwargs)\n",
      "    \n",
      "    def training_step(self, data, target):\n",
      "        output = self.forward(data)\n",
      "        loss   = torch.nn.functional.nll_loss(output, target)\n",
      "        loss += 1\n",
      "        return loss\n",
      "\n"
     ]
    },
    {
     "data": {
      "text/plain": [
       "'/home/scansiz/Desktop/Inria/development/fedbiomed/var/experiments/Experiment_0002/my_model_39dff6ad-176e-4b54-85bb-ec278fa87f92.py'"
      ]
     },
     "execution_count": 11,
     "metadata": {},
     "output_type": "execute_result"
    }
   ],
   "source": [
    "exp.model_file()"
   ]
  },
  {
   "cell_type": "code",
   "execution_count": 12,
   "metadata": {},
   "outputs": [
    {
     "data": {
      "text/plain": [
       "[{'researcher_id': 'researcher_689b06d4-53ff-40bd-9ea5-ff74754f6ef4', 'node_id': 'node_e41c42b1-c1c4-47d7-8c53-9ac60e4d3d61', 'job_id': 'f5fdc922-68a8-4478-80bd-a052f5d8e3aa', 'success': True, 'approval_obligation': True, 'status': 'Not Registered', 'msg': 'Unknown model / model not in database (status Not Registered)', 'model_url': 'http://localhost:8844/media/uploads/2022/06/08/my_model_39dff6ad-176e-4b54-85bb-ec278fa87f92.py', 'command': 'model-status'}]"
      ]
     },
     "execution_count": 12,
     "metadata": {},
     "output_type": "execute_result"
    }
   ],
   "source": [
    "status"
   ]
  },
  {
   "cell_type": "markdown",
   "metadata": {},
   "source": [
    "Since the model is not approved, you won't be able to train your model in the node and experiment will return an error. "
   ]
  },
  {
   "cell_type": "code",
   "execution_count": 13,
   "metadata": {},
   "outputs": [
    {
     "name": "stderr",
     "output_type": "stream",
     "text": [
      "2022-06-08 16:47:55,649 fedbiomed INFO - Sampled nodes in round 1 ['node_e41c42b1-c1c4-47d7-8c53-9ac60e4d3d61']\n",
      "2022-06-08 16:47:55,650 fedbiomed INFO - \u001b[1mSending request\u001b[0m \n",
      "\t\t\t\t\t\u001b[1m To\u001b[0m: node_e41c42b1-c1c4-47d7-8c53-9ac60e4d3d61 \n",
      "\t\t\t\t\t\u001b[1m Request: \u001b[0m: Perform training with the arguments: {'researcher_id': 'researcher_689b06d4-53ff-40bd-9ea5-ff74754f6ef4', 'job_id': 'f5fdc922-68a8-4478-80bd-a052f5d8e3aa', 'training_args': scheme:\n",
      "{'lr': {'rules': [<class 'float'>, <function TrainingArgs._lr_hook at 0x7fd8b543e280>], 'required': False}, 'batch_size': {'rules': [<class 'int'>], 'required': False}, 'epochs': {'rules': [<class 'int'>], 'required': False}, 'dry_run': {'rules': [<class 'bool'>], 'required': False}, 'batch_maxnum': {'rules': [<class 'int'>], 'required': False}, 'test_ratio': {'rules': [<class 'float'>, <function TrainingArgs._test_ratio_hook at 0x7fd8b543e160>], 'required': False, 'default': 0.0}, 'test_on_local_updates': {'rules': [<class 'bool'>], 'required': False, 'default': False}, 'test_on_global_updates': {'rules': [<class 'bool'>], 'required': False, 'default': False}, 'test_metric': {'rules': [<function TrainingArgs._metric_validation_hook at 0x7fd8b543e040>], 'required': False, 'default': None}, 'test_metric_args': {'rules': [<class 'dict'>], 'required': False, 'default': {}}}\n",
      "value:\n",
      "{'batch_size': 48, 'lr': 0.001, 'epochs': 1, 'dry_run': False, 'batch_maxnum': 100, 'test_ratio': 0.0, 'test_on_local_updates': False, 'test_on_global_updates': False, 'test_metric': None, 'test_metric_args': {}}, 'training': True, 'model_args': {}, 'command': 'train', 'model_url': 'http://localhost:8844/media/uploads/2022/06/08/my_model_39dff6ad-176e-4b54-85bb-ec278fa87f92.py', 'params_url': 'http://localhost:8844/media/uploads/2022/06/08/aggregated_params_init_b539988c-7710-4b4a-9c55-f9d315f29b57.pt', 'model_class': 'MyTrainingPlan', 'training_data': {'node_e41c42b1-c1c4-47d7-8c53-9ac60e4d3d61': ['dataset_a039160d-88f3-49ac-8f11-31f27ea62d80']}} \n",
      " -----------------------------------------------------------------\n",
      "2022-06-08 16:47:55,651 fedbiomed DEBUG - researcher_689b06d4-53ff-40bd-9ea5-ff74754f6ef4\n",
      "2022-06-08 16:47:55,704 fedbiomed INFO - \u001b[1mERROR\u001b[0m\n",
      "\t\t\t\t\t\u001b[1m NODE\u001b[0m node_e41c42b1-c1c4-47d7-8c53-9ac60e4d3d61\n",
      "\t\t\t\t\t\u001b[1m MESSAGE:\u001b[0m Requested model is not approved by the node: node_e41c42b1-c1c4-47d7-8c53-9ac60e4d3d61\u001b[0m\n",
      "-----------------------------------------------------------------\n",
      "2022-06-08 16:48:05,691 fedbiomed INFO - Downloading model params after training on node_e41c42b1-c1c4-47d7-8c53-9ac60e4d3d61 - from \n",
      "2022-06-08 16:48:05,692 fedbiomed ERROR - FB604: repository error : bad URL when downloading file node_params_84b7b5a6-8bfc-4734-9c5a-f7e5de48172a.pt(details :Invalid URL '': No scheme supplied. Perhaps you meant http://? )\n",
      "2022-06-08 16:48:05,692 fedbiomed ERROR - Cannot download model parameter from node node_e41c42b1-c1c4-47d7-8c53-9ac60e4d3d61, probably because Node stops working (details: FB604: repository error : bad URL when downloading file node_params_84b7b5a6-8bfc-4734-9c5a-f7e5de48172a.pt(details :Invalid URL '': No scheme supplied. Perhaps you meant http://? ))\n",
      "2022-06-08 16:48:05,693 fedbiomed ERROR - FB408: node did not answer during training (node = node_e41c42b1-c1c4-47d7-8c53-9ac60e4d3d61)\n",
      "2022-06-08 16:48:05,693 fedbiomed CRITICAL - FB407: list of nodes became empty when training (no node has answered)\n"
     ]
    },
    {
     "name": "stdout",
     "output_type": "stream",
     "text": [
      "\n",
      "--------------------\n",
      "Fed-BioMed researcher stopped due to exception:\n",
      "FB407: list of nodes became empty when training (no node has answered)\n",
      "--------------------\n"
     ]
    },
    {
     "ename": "FedbiomedSilentTerminationError",
     "evalue": "",
     "output_type": "error",
     "traceback": []
    }
   ],
   "source": [
    "exp.run_once(increase=True)"
   ]
  },
  {
   "cell_type": "markdown",
   "metadata": {},
   "source": [
    "## Registering/Approving the Model \n",
    "\n",
    "To register/approve the model that has been created in the previous section, we can use Fed-BioMed CLI.\n",
    "In Fed-Biomed, there are two ways of approving a model: \n",
    " 1. By sending an `ApprovalRequest` to the `Node`\n",
    " 2. By adding it directly to the `Node` through model registration facility\n",
    "\n",
    " \n",
    "### 1. Approving a Model through an `ApprovalRequest`\n",
    "\n",
    "Fed-BioMed 's `Experiment` interface provides a method to submit a model to the `Node`, for approval. `Node` can then review the code and approve the model using cli or gui.\n",
    "\n",
    "The method of `Experiment` sending such request is `model_approve`"
   ]
  },
  {
   "cell_type": "code",
   "execution_count": 14,
   "metadata": {
    "scrolled": false
   },
   "outputs": [
    {
     "name": "stderr",
     "output_type": "stream",
     "text": [
      "2022-06-08 16:48:05,882 fedbiomed DEBUG - Model file has been saved: /home/scansiz/Desktop/Inria/development/fedbiomed/var/tmp/model_9811dab0-e2db-476d-87f9-b7de9a7d9246.py\n",
      "2022-06-08 16:48:05,934 fedbiomed DEBUG - upload (HTTP POST request) of file /home/scansiz/Desktop/Inria/development/fedbiomed/var/tmp/model_9811dab0-e2db-476d-87f9-b7de9a7d9246.py successful, with status code 201\n",
      "2022-06-08 16:48:05,936 fedbiomed DEBUG - model_approve: upload_status = {'url': 'http://localhost:8844/upload/8ae67210-70aa-4963-893a-8f3b62bb0ffd/', 'file': 'http://localhost:8844/media/uploads/2022/06/08/model_9811dab0-e2db-476d-87f9-b7de9a7d9246.py', 'created_at': '2022-06-08T14:48:05.914731Z'}\n",
      "2022-06-08 16:48:15,948 fedbiomed INFO - node (node_e41c42b1-c1c4-47d7-8c53-9ac60e4d3d61) has correctly downloaded the model\n"
     ]
    },
    {
     "data": {
      "text/plain": [
       "{'node_e41c42b1-c1c4-47d7-8c53-9ac60e4d3d61': True}"
      ]
     },
     "execution_count": 14,
     "metadata": {},
     "output_type": "execute_result"
    }
   ],
   "source": [
    "exp.model_approve(MyTrainingPlan, description=\"my new training plan\")"
   ]
  },
  {
   "cell_type": "markdown",
   "metadata": {},
   "source": [
    "Once the model has been sent, we need to approve it (or reject it) on `Node` side.\n",
    "\n",
    "Before approving, optionally list models known to the node with their status (`Approved`, `Pending`, `Rejected`). Your new model should appear with `Pending` status and name `my new training plan`.\n",
    "\n",
    "```bash\n",
    "$ ${FEDBIOMED_DIR}/scripts/fedbiomed_run node config config-n1.ini --list-models\n",
    "```\n",
    "\n",
    "Then approve the model, using the following command on a new terminal:\n",
    "\n",
    "```shell\n",
    "$ ${FEDBIOMED_DIR}/scripts/fedbiomed_run node config config-n1.ini --approve-model\n",
    "```\n",
    "\n",
    "Models with both `Pending` or `Rejected` status will be displayed. Select the model you have sent to approve it. You might see a message explaining that model has successfully been approved.\n",
    "\n",
    "Optionally list again models known to the node with their status. Your model should now appear with `Approved` status.\n",
    "\n",
    "```bash\n",
    "$ ${FEDBIOMED_DIR}/scripts/fedbiomed_run node config config-n1.ini --list-models\n",
    "```"
   ]
  },
  {
   "cell_type": "markdown",
   "metadata": {},
   "source": [
    "Back on the `Researcher` side, let's check it status by running the `check_model_status` command:"
   ]
  },
  {
   "cell_type": "code",
   "execution_count": 18,
   "metadata": {},
   "outputs": [
    {
     "name": "stderr",
     "output_type": "stream",
     "text": [
      "2022-06-08 16:52:53,565 fedbiomed INFO - Sending request to node node_e41c42b1-c1c4-47d7-8c53-9ac60e4d3d61 to check model is approved or not\n",
      "2022-06-08 16:52:53,566 fedbiomed DEBUG - researcher_689b06d4-53ff-40bd-9ea5-ff74754f6ef4\n",
      "2022-06-08 16:53:03,578 fedbiomed WARNING - Model has NOT been approved by the node: node_e41c42b1-c1c4-47d7-8c53-9ac60e4d3d61.Model status : Rejected\n"
     ]
    },
    {
     "data": {
      "text/plain": [
       "[{'researcher_id': 'researcher_689b06d4-53ff-40bd-9ea5-ff74754f6ef4', 'node_id': 'node_e41c42b1-c1c4-47d7-8c53-9ac60e4d3d61', 'job_id': 'f5fdc922-68a8-4478-80bd-a052f5d8e3aa', 'success': True, 'approval_obligation': True, 'status': 'Rejected', 'msg': 'Model has been rejected by the node, training is not possible', 'model_url': 'http://localhost:8844/media/uploads/2022/06/08/my_model_39dff6ad-176e-4b54-85bb-ec278fa87f92.py', 'command': 'model-status'}]"
      ]
     },
     "execution_count": 18,
     "metadata": {},
     "output_type": "execute_result"
    }
   ],
   "source": [
    "exp.check_model_status()"
   ]
  },
  {
   "cell_type": "markdown",
   "metadata": {},
   "source": [
    "Model's status must have changed from `Pending` status to `Approved`, which means model can be trained from now on on the `Node`. `Researcher` can now run an `Experiment` on the `Node`!"
   ]
  },
  {
   "cell_type": "code",
   "execution_count": 19,
   "metadata": {},
   "outputs": [
    {
     "name": "stderr",
     "output_type": "stream",
     "text": [
      "2022-06-08 16:53:07,476 fedbiomed DEBUG - Auto increasing total rounds for experiment from 2 to 3\n",
      "2022-06-08 16:53:07,477 fedbiomed INFO - Sampled nodes in round 2 ['node_e41c42b1-c1c4-47d7-8c53-9ac60e4d3d61']\n",
      "2022-06-08 16:53:07,477 fedbiomed INFO - \u001b[1mSending request\u001b[0m \n",
      "\t\t\t\t\t\u001b[1m To\u001b[0m: node_e41c42b1-c1c4-47d7-8c53-9ac60e4d3d61 \n",
      "\t\t\t\t\t\u001b[1m Request: \u001b[0m: Perform training with the arguments: {'researcher_id': 'researcher_689b06d4-53ff-40bd-9ea5-ff74754f6ef4', 'job_id': 'f5fdc922-68a8-4478-80bd-a052f5d8e3aa', 'training_args': scheme:\n",
      "{'lr': {'rules': [<class 'float'>, <function TrainingArgs._lr_hook at 0x7fd8b543e280>], 'required': False}, 'batch_size': {'rules': [<class 'int'>], 'required': False}, 'epochs': {'rules': [<class 'int'>], 'required': False}, 'dry_run': {'rules': [<class 'bool'>], 'required': False}, 'batch_maxnum': {'rules': [<class 'int'>], 'required': False}, 'test_ratio': {'rules': [<class 'float'>, <function TrainingArgs._test_ratio_hook at 0x7fd8b543e160>], 'required': False, 'default': 0.0}, 'test_on_local_updates': {'rules': [<class 'bool'>], 'required': False, 'default': False}, 'test_on_global_updates': {'rules': [<class 'bool'>], 'required': False, 'default': False}, 'test_metric': {'rules': [<function TrainingArgs._metric_validation_hook at 0x7fd8b543e040>], 'required': False, 'default': None}, 'test_metric_args': {'rules': [<class 'dict'>], 'required': False, 'default': {}}}\n",
      "value:\n",
      "{'batch_size': 48, 'lr': 0.001, 'epochs': 1, 'dry_run': False, 'batch_maxnum': 100, 'test_ratio': 0.0, 'test_on_local_updates': False, 'test_on_global_updates': False, 'test_metric': None, 'test_metric_args': {}}, 'training': True, 'model_args': {}, 'command': 'train', 'model_url': 'http://localhost:8844/media/uploads/2022/06/08/my_model_39dff6ad-176e-4b54-85bb-ec278fa87f92.py', 'params_url': 'http://localhost:8844/media/uploads/2022/06/08/aggregated_params_ae324f05-15fb-44a6-b69f-d84e165ea8a7.pt', 'model_class': 'MyTrainingPlan', 'training_data': {'node_e41c42b1-c1c4-47d7-8c53-9ac60e4d3d61': ['dataset_a039160d-88f3-49ac-8f11-31f27ea62d80']}} \n",
      " -----------------------------------------------------------------\n",
      "2022-06-08 16:53:07,478 fedbiomed DEBUG - researcher_689b06d4-53ff-40bd-9ea5-ff74754f6ef4\n",
      "2022-06-08 16:53:07,514 fedbiomed INFO - \u001b[1mERROR\u001b[0m\n",
      "\t\t\t\t\t\u001b[1m NODE\u001b[0m node_e41c42b1-c1c4-47d7-8c53-9ac60e4d3d61\n",
      "\t\t\t\t\t\u001b[1m MESSAGE:\u001b[0m Requested model is not approved by the node: node_e41c42b1-c1c4-47d7-8c53-9ac60e4d3d61\u001b[0m\n",
      "-----------------------------------------------------------------\n",
      "2022-06-08 16:53:17,492 fedbiomed INFO - Downloading model params after training on node_e41c42b1-c1c4-47d7-8c53-9ac60e4d3d61 - from \n",
      "2022-06-08 16:53:17,495 fedbiomed ERROR - FB604: repository error : bad URL when downloading file node_params_da969a10-58d2-4ba3-a7b1-8da87745baa6.pt(details :Invalid URL '': No scheme supplied. Perhaps you meant http://? )\n",
      "2022-06-08 16:53:17,496 fedbiomed ERROR - Cannot download model parameter from node node_e41c42b1-c1c4-47d7-8c53-9ac60e4d3d61, probably because Node stops working (details: FB604: repository error : bad URL when downloading file node_params_da969a10-58d2-4ba3-a7b1-8da87745baa6.pt(details :Invalid URL '': No scheme supplied. Perhaps you meant http://? ))\n",
      "2022-06-08 16:53:17,498 fedbiomed ERROR - FB408: node did not answer during training (node = node_e41c42b1-c1c4-47d7-8c53-9ac60e4d3d61)\n",
      "2022-06-08 16:53:17,500 fedbiomed CRITICAL - FB407: list of nodes became empty when training (no node has answered)\n"
     ]
    },
    {
     "name": "stdout",
     "output_type": "stream",
     "text": [
      "\n",
      "--------------------\n",
      "Fed-BioMed researcher stopped due to exception:\n",
      "FB407: list of nodes became empty when training (no node has answered)\n",
      "--------------------\n"
     ]
    },
    {
     "ename": "FedbiomedSilentTerminationError",
     "evalue": "",
     "output_type": "error",
     "traceback": []
    }
   ],
   "source": [
    "exp.run_once(increase=True)"
   ]
  },
  {
   "cell_type": "markdown",
   "metadata": {},
   "source": [
    "### 2. Registering a Model through Node interface\n",
    "\n",
    "You do not need to stop your node to register new models, you can perfom registration process in a different terminal window. However, first we need to get final model from `exp` object"
   ]
  },
  {
   "cell_type": "code",
   "execution_count": null,
   "metadata": {},
   "outputs": [],
   "source": [
    "exp.model_file()"
   ]
  },
  {
   "cell_type": "markdown",
   "metadata": {},
   "source": [
    "The output of the `exp.model_file()` is a file path that shows where the final model is saved. It also prints the content of the model file. You can either get the content of model from the output cell or the path where it is save. Anyway, you need to create a new `txt` file and copy the model content in it. You can create new directory in Fed-BioMed called `models` and inside it, you can create new `my-model.txt` file and copy the model content into it.\n",
    "\n",
    "\n",
    "```shell\n",
    "$ mkdir ${FEDBIOMED_DIR}/my_approved_model\n",
    "$ cp <model_path_file> ${FEDBIOMED_DIR}/my_approved_model/my_model.txt\n",
    "```\n",
    "Where `<model_path_file>` is the path of the model that is returned by `exp.model_file(display=False)`\n"
   ]
  },
  {
   "cell_type": "markdown",
   "metadata": {},
   "source": [
    "Then model needs to be approved on the `Node` side. First copy the saved model file `my_model.txt` on the node.\n",
    "\n",
    "Afterward, please run the following command in other terminal to register model file.\n",
    "\n",
    "```shell\n",
    "$ ${FEDBIOMED_DIR}/scripts/fedbiomed_run node config config-n1.ini --register-model\n",
    "```\n",
    "\n",
    "You should type a unique name for your model e.g. 'MyTestModel-1' and a description. The CLI will ask you select model file you want to register. Select the file that you saved and continue.\n",
    "\n",
    "Optionally list again models known to the node with their status. Your model should now appear with `Approved` status.\n",
    "\n",
    "```bash\n",
    "$ ${FEDBIOMED_DIR}/scripts/fedbiomed_run node config config-n1.ini --list-models\n",
    "```\n"
   ]
  },
  {
   "cell_type": "markdown",
   "metadata": {},
   "source": [
    "Back on the `Researcher` side, you should now be able to train your model."
   ]
  },
  {
   "cell_type": "code",
   "execution_count": null,
   "metadata": {},
   "outputs": [],
   "source": [
    "exp.check_model_status()"
   ]
  },
  {
   "cell_type": "code",
   "execution_count": null,
   "metadata": {
    "pycharm": {
     "name": "#%%\n"
    }
   },
   "outputs": [],
   "source": [
    "exp.run_once(increase=True)"
   ]
  },
  {
   "cell_type": "markdown",
   "metadata": {},
   "source": [
    "## Rejecting model\n",
    "\n",
    "On `Node` side, it is possible to reject a Model using cli or GUI. Every type of model can be `Rejected`, even `Default` models. In Fed-BioMed, `Rejected` means that model cannot be trained on the `Node` (but model is still `Registered` into the database).\n",
    "\n",
    "Using cli, `Node` can run:\n",
    "\n",
    "```shell\n",
    "$ ${FEDBIOMED_DIR}/scripts/fedbiomed_run node config config-n1.ini --reject-model\n",
    "```\n",
    "\n",
    "and select the model to be `Rejected`. \n"
   ]
  },
  {
   "cell_type": "code",
   "execution_count": null,
   "metadata": {},
   "outputs": [],
   "source": [
    "exp.check_model_status()"
   ]
  },
  {
   "cell_type": "code",
   "execution_count": null,
   "metadata": {},
   "outputs": [],
   "source": [
    "exp.run_once(increase=True)"
   ]
  }
 ],
 "metadata": {
  "kernelspec": {
   "display_name": "Python 3 (ipykernel)",
   "language": "python",
   "name": "python3"
  },
  "language_info": {
   "codemirror_mode": {
    "name": "ipython",
    "version": 3
   },
   "file_extension": ".py",
   "mimetype": "text/x-python",
   "name": "python",
   "nbconvert_exporter": "python",
   "pygments_lexer": "ipython3",
   "version": "3.9.7"
  }
 },
 "nbformat": 4,
 "nbformat_minor": 4
}

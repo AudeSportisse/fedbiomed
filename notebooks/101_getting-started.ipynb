{
 "cells": [
  {
   "cell_type": "markdown",
   "metadata": {},
   "source": [
    "# Fedbiomed Researcher base example"
   ]
  },
  {
   "cell_type": "markdown",
   "metadata": {},
   "source": [
    "Use for developing (autoreloads changes made across packages)"
   ]
  },
  {
   "cell_type": "code",
   "execution_count": 1,
   "metadata": {},
   "outputs": [],
   "source": [
    "%load_ext autoreload\n",
    "%autoreload 2"
   ]
  },
  {
   "cell_type": "markdown",
   "metadata": {},
   "source": [
    "## Start the network\n",
    "Before running this notebook, start the network with `./scripts/fedbiomed_run network`"
   ]
  },
  {
   "cell_type": "markdown",
   "metadata": {},
   "source": [
    "## Setting the node up\n",
    "It is necessary to previously configure a node:\n",
    "1. `./scripts/fedbiomed_run node add`\n",
    "  * Select option 2 (default) to add MNIST to the node\n",
    "  * Confirm default tags by hitting \"y\" and ENTER\n",
    "  * Pick the folder where MNIST is downloaded (this is due torch issue https://github.com/pytorch/vision/issues/3549)\n",
    "  * Data must have been added (if you get a warning saying that data must be unique is because it's been already added)\n",
    "  \n",
    "2. Check that your data has been added by executing `./scripts/fedbiomed_run node list`\n",
    "3. Run the node using `./scripts/fedbiomed_run node run`. Wait until you get `Starting task manager`. it means you are online."
   ]
  },
  {
   "cell_type": "markdown",
   "metadata": {},
   "source": [
    "## Define an experiment model and parameters\""
   ]
  },
  {
   "cell_type": "markdown",
   "metadata": {},
   "source": [
    "Declare a torch.nn MyTrainingPlan class to send for training on the node"
   ]
  },
  {
   "cell_type": "code",
   "execution_count": 2,
   "metadata": {},
   "outputs": [
    {
     "name": "stderr",
     "output_type": "stream",
     "text": [
      "2022-01-07 11:41:33,230 fedbiomed INFO - Component environment:\n",
      "2022-01-07 11:41:33,231 fedbiomed INFO - - type = ComponentType.RESEARCHER\n"
     ]
    }
   ],
   "source": [
    "from fedbiomed.researcher.environ import environ\n",
    "import tempfile\n",
    "tmp_dir_model = tempfile.TemporaryDirectory(dir=environ['TMP_DIR']+'/')\n",
    "model_file = tmp_dir_model.name + '/class_export_mnist.py'"
   ]
  },
  {
   "cell_type": "markdown",
   "metadata": {},
   "source": [
    "Note : write **only** the code to export in the following cell"
   ]
  },
  {
   "cell_type": "code",
   "execution_count": 3,
   "metadata": {},
   "outputs": [
    {
     "name": "stdout",
     "output_type": "stream",
     "text": [
      "Writing /home/scansiz/Desktop/Inria/development/fedbiomed/var/tmp/tmpyfqfd_u3/class_export_mnist.py\n"
     ]
    }
   ],
   "source": [
    "%%writefile \"$model_file\"\n",
    "\n",
    "import torch\n",
    "import torch.nn as nn\n",
    "from fedbiomed.common.torchnn import TorchTrainingPlan\n",
    "from torch.utils.data import DataLoader\n",
    "from torchvision import datasets, transforms\n",
    "\n",
    "# Here we define the model to be used. \n",
    "# You can use any class name (here 'Net')\n",
    "class MyTrainingPlan(TorchTrainingPlan):\n",
    "    def __init__(self):\n",
    "        super(MyTrainingPlan, self).__init__()\n",
    "        self.conv1 = nn.Conv2d(1, 32, 3, 1)\n",
    "        self.conv2 = nn.Conv2d(32, 64, 3, 1)\n",
    "        self.dropout1 = nn.Dropout(0.25)\n",
    "        self.dropout2 = nn.Dropout(0.5)\n",
    "        self.fc1 = nn.Linear(9216, 128)\n",
    "        self.fc2 = nn.Linear(128, 10)\n",
    "        \n",
    "        # Here we define the custom dependencies that will be needed by our custom Dataloader\n",
    "        # In this case, we need the torch DataLoader classes\n",
    "        # Since we will train on MNIST, we need datasets and transform from torchvision\n",
    "        deps = [\"from torchvision import datasets, transforms\",\n",
    "               \"from torch.utils.data import DataLoader\"]\n",
    "        self.add_dependency(deps)\n",
    "\n",
    "    def forward(self, x):\n",
    "        x = self.conv1(x)\n",
    "        x = F.relu(x)\n",
    "        x = self.conv2(x)\n",
    "        x = F.relu(x)\n",
    "        x = F.max_pool2d(x, 2)\n",
    "        x = self.dropout1(x)\n",
    "        x = torch.flatten(x, 1)\n",
    "        x = self.fc1(x)\n",
    "        x = F.relu(x)\n",
    "        x = self.dropout2(x)\n",
    "        x = self.fc2(x)\n",
    "        \n",
    "        \n",
    "        output = F.log_softmax(x, dim=1)\n",
    "        return output\n",
    "\n",
    "    def training_data(self, batch_size = 48):\n",
    "        # Custom torch Dataloader for MNIST data\n",
    "        transform = transforms.Compose([transforms.ToTensor(),\n",
    "        transforms.Normalize((0.1307,), (0.3081,))])\n",
    "        dataset1 = datasets.MNIST(self.dataset_path, train=True, download=False, transform=transform)\n",
    "        train_kwargs = {'batch_size': batch_size, 'shuffle': True}\n",
    "        data_loader = torch.utils.data.DataLoader(dataset1, **train_kwargs)\n",
    "        return data_loader\n",
    "    \n",
    "    def training_step(self, data, target):\n",
    "        output = self.forward(data)\n",
    "        loss   = torch.nn.functional.nll_loss(output, target)\n",
    "        return loss\n"
   ]
  },
  {
   "cell_type": "markdown",
   "metadata": {},
   "source": [
    "This group of arguments correspond respectively:\n",
    "* `model_args`: a dictionary with the arguments related to the model (e.g. number of layers, features, etc.). This will be passed to the model class on the node side.\n",
    "* `training_args`: a dictionary containing the arguments for the training routine (e.g. batch size, learning rate, epochs, etc.). This will be passed to the routine on the node side.\n",
    "\n",
    "**NOTE:** typos and/or lack of positional (required) arguments will raise error. 🤓"
   ]
  },
  {
   "cell_type": "code",
   "execution_count": 4,
   "metadata": {
    "pycharm": {
     "name": "#%%\n"
    }
   },
   "outputs": [],
   "source": [
    "model_args = {}\n",
    "\n",
    "training_args = {\n",
    "    'batch_size': 48, \n",
    "    'lr': 1e-3, \n",
    "    'epochs': 1, \n",
    "    'dry_run': False,  \n",
    "    'batch_maxnum': 100 # Fast pass for development : only use ( batch_maxnum * batch_size ) samples\n",
    "}"
   ]
  },
  {
   "cell_type": "markdown",
   "metadata": {},
   "source": [
    "## Declare and run the experiment\n",
    "\n",
    "- search nodes serving data for these `tags`, optionally filter on a list of node ID with `nodes`\n",
    "- run a round of local training on nodes with model defined in `model_path` + federation with `aggregator`\n",
    "- run for `rounds` rounds, applying the `node_selection_strategy` between the rounds"
   ]
  },
  {
   "cell_type": "code",
   "execution_count": 5,
   "metadata": {
    "pycharm": {
     "name": "#%%\n"
    },
    "scrolled": true
   },
   "outputs": [
    {
     "name": "stderr",
     "output_type": "stream",
     "text": [
      "2022-01-07 11:41:38,332 fedbiomed INFO - Messaging researcher_f3bdbaa1-ecdd-4103-9433-736433398173 successfully connected to the message broker, object = <fedbiomed.common.messaging.Messaging object at 0x7f025d282400>\n",
      "2022-01-07 11:41:38,348 fedbiomed INFO - Searching dataset with data tags: ['#MNIST', '#dataset'] for all nodes\n",
      "2022-01-07 11:41:38,350 fedbiomed INFO - log from: node_d97aa17a-485a-4125-bc0d-fd4599cabc85 / DEBUG - Message received: {'researcher_id': 'researcher_f3bdbaa1-ecdd-4103-9433-736433398173', 'tags': ['#MNIST', '#dataset'], 'command': 'search'}\n",
      "2022-01-07 11:41:48,359 fedbiomed INFO - Node selected for training -> node_d97aa17a-485a-4125-bc0d-fd4599cabc85\n",
      "2022-01-07 11:41:48,480 fedbiomed DEBUG - torchnn saved model filename: /home/scansiz/Desktop/Inria/development/fedbiomed/var/experiments/Experiment_0000/my_model_837f6a65-8980-4e3d-a98a-60fdc3bdf825.py\n"
     ]
    }
   ],
   "source": [
    "from fedbiomed.researcher.experiment import Experiment\n",
    "from fedbiomed.researcher.aggregators.fedavg import FedAverage\n",
    "\n",
    "tags =  ['#MNIST', '#dataset']\n",
    "rounds = 2\n",
    "\n",
    "exp = Experiment(tags=tags,\n",
    "                 #nodes=None,\n",
    "                 model_path=model_file,\n",
    "                 model_args=model_args,\n",
    "                 model_class='MyTrainingPlan',\n",
    "                 training_args=training_args,\n",
    "                 rounds=rounds,\n",
    "                 aggregator=FedAverage(),\n",
    "                 node_selection_strategy=None)"
   ]
  },
  {
   "cell_type": "markdown",
   "metadata": {
    "pycharm": {
     "name": "#%% md\n"
    }
   },
   "source": [
    "Let's start the experiment.\n",
    "\n",
    "By default, this function doesn't stop until all the `rounds` are done for all the nodes"
   ]
  },
  {
   "cell_type": "code",
   "execution_count": 6,
   "metadata": {
    "pycharm": {
     "name": "#%%\n"
    },
    "scrolled": true
   },
   "outputs": [
    {
     "name": "stderr",
     "output_type": "stream",
     "text": [
      "2022-01-07 11:41:53,791 fedbiomed INFO - Sampled nodes in round 0 ['node_d97aa17a-485a-4125-bc0d-fd4599cabc85']\n",
      "2022-01-07 11:41:53,793 fedbiomed INFO - Send message to node node_d97aa17a-485a-4125-bc0d-fd4599cabc85 - {'researcher_id': 'researcher_f3bdbaa1-ecdd-4103-9433-736433398173', 'job_id': '2dd42d23-bd1e-4a4d-bdca-8dc448ab29cf', 'training_args': {'batch_size': 48, 'lr': 0.001, 'epochs': 1, 'dry_run': False, 'batch_maxnum': 100}, 'model_args': {}, 'command': 'train', 'model_url': 'http://localhost:8844/media/uploads/2022/01/07/my_model_837f6a65-8980-4e3d-a98a-60fdc3bdf825.py', 'params_url': 'http://localhost:8844/media/uploads/2022/01/07/aggregated_params_init_8602615f-ff51-4d05-9e50-b894d84ced9b.pt', 'model_class': 'MyTrainingPlan', 'training_data': {'node_d97aa17a-485a-4125-bc0d-fd4599cabc85': ['dataset_55d371d4-09a2-45a8-84a3-a0dbf9ecb486']}}\n",
      "2022-01-07 11:41:53,793 fedbiomed DEBUG - researcher_f3bdbaa1-ecdd-4103-9433-736433398173\n",
      "2022-01-07 11:41:53,801 fedbiomed INFO - log from: node_d97aa17a-485a-4125-bc0d-fd4599cabc85 / DEBUG - Message received: {'researcher_id': 'researcher_f3bdbaa1-ecdd-4103-9433-736433398173', 'job_id': '2dd42d23-bd1e-4a4d-bdca-8dc448ab29cf', 'training_args': {'batch_size': 48, 'lr': 0.001, 'epochs': 1, 'dry_run': False, 'batch_maxnum': 100}, 'model_args': {}, 'command': 'train', 'model_url': 'http://localhost:8844/media/uploads/2022/01/07/my_model_837f6a65-8980-4e3d-a98a-60fdc3bdf825.py', 'params_url': 'http://localhost:8844/media/uploads/2022/01/07/aggregated_params_init_8602615f-ff51-4d05-9e50-b894d84ced9b.pt', 'model_class': 'MyTrainingPlan', 'training_data': {'node_d97aa17a-485a-4125-bc0d-fd4599cabc85': ['dataset_55d371d4-09a2-45a8-84a3-a0dbf9ecb486']}}\n",
      "2022-01-07 11:41:53,804 fedbiomed INFO - log from: node_d97aa17a-485a-4125-bc0d-fd4599cabc85 / DEBUG - [TASKS QUEUE] Item:{'researcher_id': 'researcher_f3bdbaa1-ecdd-4103-9433-736433398173', 'job_id': '2dd42d23-bd1e-4a4d-bdca-8dc448ab29cf', 'params_url': 'http://localhost:8844/media/uploads/2022/01/07/aggregated_params_init_8602615f-ff51-4d05-9e50-b894d84ced9b.pt', 'training_args': {'batch_size': 48, 'lr': 0.001, 'epochs': 1, 'dry_run': False, 'batch_maxnum': 100}, 'training_data': {'node_d97aa17a-485a-4125-bc0d-fd4599cabc85': ['dataset_55d371d4-09a2-45a8-84a3-a0dbf9ecb486']}, 'model_args': {}, 'model_url': 'http://localhost:8844/media/uploads/2022/01/07/my_model_837f6a65-8980-4e3d-a98a-60fdc3bdf825.py', 'model_class': 'MyTrainingPlan', 'command': 'train'}\n",
      "2022-01-07 11:41:54,031 fedbiomed INFO - log from: node_d97aa17a-485a-4125-bc0d-fd4599cabc85 / INFO - {'monitor': <fedbiomed.node.history_monitor.HistoryMonitor object at 0x7fca8fc87e20>, 'batch_size': 48, 'lr': 0.001, 'epochs': 1, 'dry_run': False, 'batch_maxnum': 100}\n",
      "2022-01-07 11:41:54,033 fedbiomed INFO - log from: node_d97aa17a-485a-4125-bc0d-fd4599cabc85 / DEBUG - Dataset_path../data\n",
      "2022-01-07 11:41:54,169 fedbiomed INFO - log from: node_d97aa17a-485a-4125-bc0d-fd4599cabc85 / INFO - Train Epoch: 1 [0/60000 (0%)]\tLoss: 2.297211\n",
      "2022-01-07 11:41:54,665 fedbiomed INFO - log from: node_d97aa17a-485a-4125-bc0d-fd4599cabc85 / INFO - Train Epoch: 1 [480/60000 (1%)]\tLoss: 1.283034\n",
      "2022-01-07 11:41:55,238 fedbiomed INFO - log from: node_d97aa17a-485a-4125-bc0d-fd4599cabc85 / INFO - Train Epoch: 1 [960/60000 (2%)]\tLoss: 0.885637\n",
      "2022-01-07 11:41:55,719 fedbiomed INFO - log from: node_d97aa17a-485a-4125-bc0d-fd4599cabc85 / INFO - Train Epoch: 1 [1440/60000 (2%)]\tLoss: 0.946679\n",
      "2022-01-07 11:41:56,238 fedbiomed INFO - log from: node_d97aa17a-485a-4125-bc0d-fd4599cabc85 / INFO - Train Epoch: 1 [1920/60000 (3%)]\tLoss: 0.554627\n",
      "2022-01-07 11:41:56,680 fedbiomed INFO - log from: node_d97aa17a-485a-4125-bc0d-fd4599cabc85 / INFO - Train Epoch: 1 [2400/60000 (4%)]\tLoss: 0.437657\n",
      "2022-01-07 11:41:57,189 fedbiomed INFO - log from: node_d97aa17a-485a-4125-bc0d-fd4599cabc85 / INFO - Train Epoch: 1 [2880/60000 (5%)]\tLoss: 0.336052\n",
      "2022-01-07 11:41:57,698 fedbiomed INFO - log from: node_d97aa17a-485a-4125-bc0d-fd4599cabc85 / INFO - Train Epoch: 1 [3360/60000 (6%)]\tLoss: 0.181661\n",
      "2022-01-07 11:41:58,218 fedbiomed INFO - log from: node_d97aa17a-485a-4125-bc0d-fd4599cabc85 / INFO - Train Epoch: 1 [3840/60000 (6%)]\tLoss: 0.191211\n",
      "2022-01-07 11:41:58,704 fedbiomed INFO - log from: node_d97aa17a-485a-4125-bc0d-fd4599cabc85 / INFO - Train Epoch: 1 [4320/60000 (7%)]\tLoss: 0.118990\n",
      "2022-01-07 11:41:59,234 fedbiomed INFO - log from: node_d97aa17a-485a-4125-bc0d-fd4599cabc85 / DEBUG - Reached 100 batches for this epoch, ignore remaining data\n",
      "2022-01-07 11:41:59,493 fedbiomed INFO - log from: node_d97aa17a-485a-4125-bc0d-fd4599cabc85 / INFO - results uploaded successfully \n",
      "2022-01-07 11:42:08,816 fedbiomed INFO - Downloading model params after training on node_d97aa17a-485a-4125-bc0d-fd4599cabc85 - from http://localhost:8844/media/uploads/2022/01/07/node_params_acb514ed-509a-4cb0-9199-9b28969a4bdf.pt\n",
      "2022-01-07 11:42:08,883 fedbiomed INFO - Nodes that successfully reply in round 0 ['node_d97aa17a-485a-4125-bc0d-fd4599cabc85']\n",
      "2022-01-07 11:42:09,072 fedbiomed INFO - Saved aggregated params for round 0 in /home/scansiz/Desktop/Inria/development/fedbiomed/var/experiments/Experiment_0000/aggregated_params_b6eeaf0d-a229-46e9-84b6-70cfe5da7fcd.pt\n",
      "2022-01-07 11:42:09,074 fedbiomed INFO - Sampled nodes in round 1 ['node_d97aa17a-485a-4125-bc0d-fd4599cabc85']\n",
      "2022-01-07 11:42:09,076 fedbiomed INFO - Send message to node node_d97aa17a-485a-4125-bc0d-fd4599cabc85 - {'researcher_id': 'researcher_f3bdbaa1-ecdd-4103-9433-736433398173', 'job_id': '2dd42d23-bd1e-4a4d-bdca-8dc448ab29cf', 'training_args': {'batch_size': 48, 'lr': 0.001, 'epochs': 1, 'dry_run': False, 'batch_maxnum': 100}, 'model_args': {}, 'command': 'train', 'model_url': 'http://localhost:8844/media/uploads/2022/01/07/my_model_837f6a65-8980-4e3d-a98a-60fdc3bdf825.py', 'params_url': 'http://localhost:8844/media/uploads/2022/01/07/aggregated_params_b6eeaf0d-a229-46e9-84b6-70cfe5da7fcd.pt', 'model_class': 'MyTrainingPlan', 'training_data': {'node_d97aa17a-485a-4125-bc0d-fd4599cabc85': ['dataset_55d371d4-09a2-45a8-84a3-a0dbf9ecb486']}}\n",
      "2022-01-07 11:42:09,078 fedbiomed DEBUG - researcher_f3bdbaa1-ecdd-4103-9433-736433398173\n",
      "2022-01-07 11:42:09,090 fedbiomed INFO - log from: node_d97aa17a-485a-4125-bc0d-fd4599cabc85 / DEBUG - Message received: {'researcher_id': 'researcher_f3bdbaa1-ecdd-4103-9433-736433398173', 'job_id': '2dd42d23-bd1e-4a4d-bdca-8dc448ab29cf', 'training_args': {'batch_size': 48, 'lr': 0.001, 'epochs': 1, 'dry_run': False, 'batch_maxnum': 100}, 'model_args': {}, 'command': 'train', 'model_url': 'http://localhost:8844/media/uploads/2022/01/07/my_model_837f6a65-8980-4e3d-a98a-60fdc3bdf825.py', 'params_url': 'http://localhost:8844/media/uploads/2022/01/07/aggregated_params_b6eeaf0d-a229-46e9-84b6-70cfe5da7fcd.pt', 'model_class': 'MyTrainingPlan', 'training_data': {'node_d97aa17a-485a-4125-bc0d-fd4599cabc85': ['dataset_55d371d4-09a2-45a8-84a3-a0dbf9ecb486']}}\n",
      "2022-01-07 11:42:09,092 fedbiomed INFO - log from: node_d97aa17a-485a-4125-bc0d-fd4599cabc85 / DEBUG - [TASKS QUEUE] Item:{'researcher_id': 'researcher_f3bdbaa1-ecdd-4103-9433-736433398173', 'job_id': '2dd42d23-bd1e-4a4d-bdca-8dc448ab29cf', 'params_url': 'http://localhost:8844/media/uploads/2022/01/07/aggregated_params_b6eeaf0d-a229-46e9-84b6-70cfe5da7fcd.pt', 'training_args': {'batch_size': 48, 'lr': 0.001, 'epochs': 1, 'dry_run': False, 'batch_maxnum': 100}, 'training_data': {'node_d97aa17a-485a-4125-bc0d-fd4599cabc85': ['dataset_55d371d4-09a2-45a8-84a3-a0dbf9ecb486']}, 'model_args': {}, 'model_url': 'http://localhost:8844/media/uploads/2022/01/07/my_model_837f6a65-8980-4e3d-a98a-60fdc3bdf825.py', 'model_class': 'MyTrainingPlan', 'command': 'train'}\n",
      "2022-01-07 11:42:09,134 fedbiomed INFO - log from: node_d97aa17a-485a-4125-bc0d-fd4599cabc85 / INFO - {'monitor': <fedbiomed.node.history_monitor.HistoryMonitor object at 0x7fca8fc87f10>, 'batch_size': 48, 'lr': 0.001, 'epochs': 1, 'dry_run': False, 'batch_maxnum': 100}\n",
      "2022-01-07 11:42:09,135 fedbiomed INFO - log from: node_d97aa17a-485a-4125-bc0d-fd4599cabc85 / DEBUG - Dataset_path../data\n",
      "2022-01-07 11:42:09,242 fedbiomed INFO - log from: node_d97aa17a-485a-4125-bc0d-fd4599cabc85 / INFO - Train Epoch: 1 [0/60000 (0%)]\tLoss: 0.237345\n"
     ]
    },
    {
     "name": "stderr",
     "output_type": "stream",
     "text": [
      "2022-01-07 11:42:09,836 fedbiomed INFO - log from: node_d97aa17a-485a-4125-bc0d-fd4599cabc85 / INFO - Train Epoch: 1 [480/60000 (1%)]\tLoss: 0.362050\n",
      "2022-01-07 11:42:10,322 fedbiomed INFO - log from: node_d97aa17a-485a-4125-bc0d-fd4599cabc85 / INFO - Train Epoch: 1 [960/60000 (2%)]\tLoss: 0.139370\n",
      "2022-01-07 11:42:10,835 fedbiomed INFO - log from: node_d97aa17a-485a-4125-bc0d-fd4599cabc85 / INFO - Train Epoch: 1 [1440/60000 (2%)]\tLoss: 0.254562\n",
      "2022-01-07 11:42:11,265 fedbiomed INFO - log from: node_d97aa17a-485a-4125-bc0d-fd4599cabc85 / INFO - Train Epoch: 1 [1920/60000 (3%)]\tLoss: 0.248777\n",
      "2022-01-07 11:42:11,765 fedbiomed INFO - log from: node_d97aa17a-485a-4125-bc0d-fd4599cabc85 / INFO - Train Epoch: 1 [2400/60000 (4%)]\tLoss: 0.119405\n",
      "2022-01-07 11:42:12,215 fedbiomed INFO - log from: node_d97aa17a-485a-4125-bc0d-fd4599cabc85 / INFO - Train Epoch: 1 [2880/60000 (5%)]\tLoss: 0.140399\n",
      "2022-01-07 11:42:12,683 fedbiomed INFO - log from: node_d97aa17a-485a-4125-bc0d-fd4599cabc85 / INFO - Train Epoch: 1 [3360/60000 (6%)]\tLoss: 0.313894\n",
      "2022-01-07 11:42:13,175 fedbiomed INFO - log from: node_d97aa17a-485a-4125-bc0d-fd4599cabc85 / INFO - Train Epoch: 1 [3840/60000 (6%)]\tLoss: 0.237634\n",
      "2022-01-07 11:42:13,628 fedbiomed INFO - log from: node_d97aa17a-485a-4125-bc0d-fd4599cabc85 / INFO - Train Epoch: 1 [4320/60000 (7%)]\tLoss: 0.173988\n",
      "2022-01-07 11:42:14,107 fedbiomed INFO - log from: node_d97aa17a-485a-4125-bc0d-fd4599cabc85 / DEBUG - Reached 100 batches for this epoch, ignore remaining data\n",
      "2022-01-07 11:42:14,274 fedbiomed INFO - log from: node_d97aa17a-485a-4125-bc0d-fd4599cabc85 / INFO - results uploaded successfully \n",
      "2022-01-07 11:42:24,098 fedbiomed INFO - Downloading model params after training on node_d97aa17a-485a-4125-bc0d-fd4599cabc85 - from http://localhost:8844/media/uploads/2022/01/07/node_params_08a063ca-7971-4f0c-9642-2866ae60dc23.pt\n",
      "2022-01-07 11:42:24,154 fedbiomed INFO - Nodes that successfully reply in round 1 ['node_d97aa17a-485a-4125-bc0d-fd4599cabc85']\n",
      "2022-01-07 11:42:24,338 fedbiomed INFO - Saved aggregated params for round 1 in /home/scansiz/Desktop/Inria/development/fedbiomed/var/experiments/Experiment_0000/aggregated_params_c7c515b1-854a-42ab-b9f4-ff2523fdb624.pt\n"
     ]
    }
   ],
   "source": [
    "exp.run()"
   ]
  },
  {
   "cell_type": "markdown",
   "metadata": {},
   "source": [
    "Local training results for each round and each node are available in `exp.training_replies` (index 0 to (`rounds` - 1) ).\n",
    "\n",
    "For example you can view the training results for the last round below.\n",
    "\n",
    "Different timings (in seconds) are reported for each dataset of a node participating in a round :\n",
    "- `rtime_training` real time (clock time) spent in the training function on the node\n",
    "- `ptime_training` process time (user and system CPU) spent in the training function on the node\n",
    "- `rtime_total` real time (clock time) spent in the researcher between sending the request and handling the response, at the `Job()` layer"
   ]
  },
  {
   "cell_type": "code",
   "execution_count": null,
   "metadata": {
    "pycharm": {
     "name": "#%%\n"
    },
    "scrolled": true
   },
   "outputs": [],
   "source": [
    "print(\"\\nList the training rounds : \", exp.training_replies.keys())\n",
    "\n",
    "print(\"\\nList the nodes for the last training round and their timings : \")\n",
    "round_data = exp.training_replies[rounds - 1].data\n",
    "for c in range(len(round_data)):\n",
    "    print(\"\\t- {id} :\\\n",
    "    \\n\\t\\trtime_training={rtraining:.2f} seconds\\\n",
    "    \\n\\t\\tptime_training={ptraining:.2f} seconds\\\n",
    "    \\n\\t\\trtime_total={rtotal:.2f} seconds\".format(id = round_data[c]['node_id'],\n",
    "        rtraining = round_data[c]['timing']['rtime_training'],\n",
    "        ptraining = round_data[c]['timing']['ptime_training'],\n",
    "        rtotal = round_data[c]['timing']['rtime_total']))\n",
    "print('\\n')\n",
    "    \n",
    "exp.training_replies[rounds - 1].dataframe"
   ]
  },
  {
   "cell_type": "markdown",
   "metadata": {},
   "source": [
    "Federated parameters for each round are available in `exp.aggregated_params` (index 0 to (`rounds` - 1) ).\n",
    "\n",
    "For example you can view the federated parameters for the last round of the experiment :"
   ]
  },
  {
   "cell_type": "code",
   "execution_count": null,
   "metadata": {},
   "outputs": [],
   "source": [
    "print(\"\\nList the training rounds : \", exp.aggregated_params.keys())\n",
    "\n",
    "print(\"\\nAccess the federated params for the last training round :\")\n",
    "print(\"\\t- params_path: \", exp.aggregated_params[rounds - 1]['params_path'])\n",
    "print(\"\\t- parameter data: \", exp.aggregated_params[rounds - 1]['params'].keys())\n"
   ]
  },
  {
   "cell_type": "markdown",
   "metadata": {
    "pycharm": {
     "name": "#%%\n"
    }
   },
   "source": [
    "Feel free to run other sample notebooks or try your own models :D"
   ]
  }
 ],
 "metadata": {
  "kernelspec": {
   "display_name": "Python 3 (ipykernel)",
   "language": "python",
   "name": "python3"
  },
  "language_info": {
   "codemirror_mode": {
    "name": "ipython",
    "version": 3
   },
   "file_extension": ".py",
   "mimetype": "text/x-python",
   "name": "python",
   "nbconvert_exporter": "python",
   "pygments_lexer": "ipython3",
   "version": "3.9.7"
  }
 },
 "nbformat": 4,
 "nbformat_minor": 4
}

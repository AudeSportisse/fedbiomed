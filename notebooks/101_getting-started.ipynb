{
 "cells": [
  {
   "cell_type": "markdown",
   "metadata": {},
   "source": [
    "# Fedbiomed Researcher base example"
   ]
  },
  {
   "cell_type": "markdown",
   "metadata": {},
   "source": [
    "Use for developing (autoreloads changes made across packages)"
   ]
  },
  {
   "cell_type": "code",
   "execution_count": 1,
   "metadata": {},
   "outputs": [],
   "source": [
    "%load_ext autoreload\n",
    "%autoreload 2"
   ]
  },
  {
   "cell_type": "markdown",
   "metadata": {},
   "source": [
    "## Start the network\n",
    "Before running this notebook, start the network with `./scripts/fedbiomed_run network`"
   ]
  },
  {
   "cell_type": "markdown",
   "metadata": {},
   "source": [
    "## Setting the node up\n",
    "It is necessary to previously configure a node:\n",
    "1. `./scripts/fedbiomed_run node add`\n",
    "  * Select option 2 (default) to add MNIST to the node\n",
    "  * Confirm default tags by hitting \"y\" and ENTER\n",
    "  * Pick the folder where MNIST is downloaded (this is due torch issue https://github.com/pytorch/vision/issues/3549)\n",
    "  * Data must have been added (if you get a warning saying that data must be unique is because it's been already added)\n",
    "  \n",
    "2. Check that your data has been added by executing `./scripts/fedbiomed_run node list`\n",
    "3. Run the node using `./scripts/fedbiomed_run node run`. Wait until you get `Starting task manager`. it means you are online."
   ]
  },
  {
   "cell_type": "markdown",
   "metadata": {},
   "source": [
    "## Define an experiment model and parameters\""
   ]
  },
  {
   "cell_type": "markdown",
   "metadata": {},
   "source": [
    "Declare a torch.nn MyTrainingPlan class to send for training on the node"
   ]
  },
  {
   "cell_type": "code",
   "execution_count": 6,
   "metadata": {},
   "outputs": [],
   "source": [
    "import torch\n",
    "import torch.nn as nn\n",
    "from fedbiomed.common.training_plans import TorchTrainingPlan\n",
    "from fedbiomed.common.data import DataManager\n",
    "from torchvision import datasets, transforms\n",
    "\n",
    "# Here we define the model to be used. \n",
    "# You can use any class name (here 'Net')\n",
    "class MyTrainingPlan(TorchTrainingPlan):\n",
    "    def __init__(self, model_args: dict = {}):\n",
    "        super(MyTrainingPlan, self).__init__(model_args)\n",
    "        \n",
    "        \n",
    "        self.model = self.make_model()\n",
    "        \n",
    "        # Here we define the custom dependencies that will be needed by our custom Dataloader\n",
    "        # In this case, we need the torch DataLoader classes\n",
    "        # Since we will train on MNIST, we need datasets and transform from torchvision\n",
    "        deps = [\"from torchvision import datasets, transforms\"]\n",
    "        \n",
    "        self.add_dependency(deps)\n",
    "\n",
    "    def make_model(self):\n",
    "        model = nn.Sequential(nn.Conv2d(1, 32, 3, 1),\n",
    "                                  nn.ReLU(),\n",
    "                                  nn.Conv2d(32, 64, 3, 1),\n",
    "                                  nn.ReLU(),\n",
    "                                  nn.MaxPool2d(2),\n",
    "                                  nn.Dropout(0.25),\n",
    "                                  nn.Flatten(),\n",
    "                                  nn.Linear(9216, 128),\n",
    "                                  nn.ReLU(),\n",
    "                                  nn.Dropout(0.5),\n",
    "                                  nn.Linear(128, 10),\n",
    "                                  nn.LogSoftmax(dim=1))\n",
    "        return model\n",
    "        \n",
    "        \n",
    "    def forward(self, x):\n",
    "\n",
    "        return self.model(x)\n",
    "\n",
    "    def training_data(self, batch_size = 48):\n",
    "        # Custom torch Dataloader for MNIST data\n",
    "        transform = transforms.Compose([transforms.ToTensor(),\n",
    "        transforms.Normalize((0.1307,), (0.3081,))])\n",
    "        dataset1 = datasets.MNIST(self.dataset_path, train=True, download=False, transform=transform)\n",
    "        train_kwargs = {'batch_size': batch_size, 'shuffle': True}\n",
    "        return DataManager(dataset=dataset1, **train_kwargs)\n",
    "    \n",
    "    def training_step(self, data, target):\n",
    "        output = self.forward(data)\n",
    "        loss   = torch.nn.functional.nll_loss(output, target)\n",
    "        return loss\n"
   ]
  },
  {
   "cell_type": "markdown",
   "metadata": {},
   "source": [
    "This group of arguments correspond respectively:\n",
    "* `model_args`: a dictionary with the arguments related to the model (e.g. number of layers, features, etc.). This will be passed to the model class on the node side.\n",
    "* `training_args`: a dictionary containing the arguments for the training routine (e.g. batch size, learning rate, epochs, etc.). This will be passed to the routine on the node side.\n",
    "\n",
    "**NOTE:** typos and/or lack of positional (required) arguments will raise error. 🤓"
   ]
  },
  {
   "cell_type": "code",
   "execution_count": 7,
   "metadata": {
    "pycharm": {
     "name": "#%%\n"
    }
   },
   "outputs": [],
   "source": [
    "model_args = {}\n",
    "\n",
    "training_args = {\n",
    "    'batch_size': 48, \n",
    "    'lr': 1e-3, \n",
    "    'epochs': 1, \n",
    "    'dry_run': False,  \n",
    "    'batch_maxnum': 100, # Fast pass for development : only use ( batch_maxnum * batch_size ) samples\n",
    "    'DP_args': {'type' : 'local', 'sigma': 0.1, 'clip': 1.},\n",
    "}"
   ]
  },
  {
   "cell_type": "markdown",
   "metadata": {},
   "source": [
    "## Declare and run the experiment\n",
    "\n",
    "- search nodes serving data for these `tags`, optionally filter on a list of node ID with `nodes`\n",
    "- run a round of local training on nodes with model defined in `model_path` + federation with `aggregator`\n",
    "- run for `round_limit` rounds, applying the `node_selection_strategy` between the rounds"
   ]
  },
  {
   "cell_type": "code",
   "execution_count": 8,
   "metadata": {
    "pycharm": {
     "name": "#%%\n"
    },
    "scrolled": true
   },
   "outputs": [
    {
     "name": "stderr",
     "output_type": "stream",
     "text": [
      "2022-04-01 10:52:06,486 fedbiomed INFO - Searching dataset with data tags: ['#MNIST', '#dataset'] for all nodes\n",
      "04/01/2022 10:52:06:INFO:Searching dataset with data tags: ['#MNIST', '#dataset'] for all nodes\n",
      "2022-04-01 10:52:06,494 fedbiomed INFO - log from: node_4084c19b-0f4d-474c-9d11-ddfd8f7f84dc / DEBUG - Message received: {'researcher_id': 'researcher_024bc6ca-055d-406b-bdf2-68d99ef76a7c', 'tags': ['#MNIST', '#dataset'], 'command': 'search'}\n",
      "04/01/2022 10:52:06:INFO:log from: node_4084c19b-0f4d-474c-9d11-ddfd8f7f84dc / DEBUG - Message received: {'researcher_id': 'researcher_024bc6ca-055d-406b-bdf2-68d99ef76a7c', 'tags': ['#MNIST', '#dataset'], 'command': 'search'}\n",
      "2022-04-01 10:52:16,492 fedbiomed INFO - Node selected for training -> node_4084c19b-0f4d-474c-9d11-ddfd8f7f84dc\n",
      "04/01/2022 10:52:16:INFO:Node selected for training -> node_4084c19b-0f4d-474c-9d11-ddfd8f7f84dc\n",
      "2022-04-01 10:52:16,506 fedbiomed DEBUG - Model file has been saved: /Users/mlorenzi/works/temp/fedbiomed/var/experiments/Experiment_0001/my_model_5c771152-4ce5-414b-b348-42855fa62795.py\n",
      "04/01/2022 10:52:16:DEBUG:Model file has been saved: /Users/mlorenzi/works/temp/fedbiomed/var/experiments/Experiment_0001/my_model_5c771152-4ce5-414b-b348-42855fa62795.py\n",
      "2022-04-01 10:52:16,699 fedbiomed DEBUG - upload (HTTP POST request) of file /Users/mlorenzi/works/temp/fedbiomed/var/experiments/Experiment_0001/my_model_5c771152-4ce5-414b-b348-42855fa62795.py successful, with status code 201\n",
      "04/01/2022 10:52:16:DEBUG:upload (HTTP POST request) of file /Users/mlorenzi/works/temp/fedbiomed/var/experiments/Experiment_0001/my_model_5c771152-4ce5-414b-b348-42855fa62795.py successful, with status code 201\n",
      "2022-04-01 10:52:17,122 fedbiomed DEBUG - upload (HTTP POST request) of file /Users/mlorenzi/works/temp/fedbiomed/var/experiments/Experiment_0001/aggregated_params_init_fae5d2a0-f86a-4eb1-b96a-dc29256e0d9e.pt successful, with status code 201\n",
      "04/01/2022 10:52:17:DEBUG:upload (HTTP POST request) of file /Users/mlorenzi/works/temp/fedbiomed/var/experiments/Experiment_0001/aggregated_params_init_fae5d2a0-f86a-4eb1-b96a-dc29256e0d9e.pt successful, with status code 201\n"
     ]
    }
   ],
   "source": [
    "from fedbiomed.researcher.experiment import Experiment\n",
    "from fedbiomed.researcher.aggregators.fedavg import FedAverage\n",
    "\n",
    "tags =  ['#MNIST', '#dataset']\n",
    "rounds = 2\n",
    "\n",
    "exp = Experiment(tags=tags,\n",
    "                 model_args=model_args,\n",
    "                 model_class=MyTrainingPlan,\n",
    "                 training_args=training_args,\n",
    "                 round_limit=rounds,\n",
    "                 aggregator=FedAverage(),\n",
    "                 node_selection_strategy=None)"
   ]
  },
  {
   "cell_type": "markdown",
   "metadata": {
    "pycharm": {
     "name": "#%% md\n"
    }
   },
   "source": [
    "Let's start the experiment.\n",
    "\n",
    "By default, this function doesn't stop until all the `round_limit` rounds are done for all the nodes"
   ]
  },
  {
   "cell_type": "code",
   "execution_count": 9,
   "metadata": {
    "pycharm": {
     "name": "#%%\n"
    },
    "scrolled": true
   },
   "outputs": [
    {
     "name": "stderr",
     "output_type": "stream",
     "text": [
      "2022-04-01 10:52:26,289 fedbiomed INFO - Sampled nodes in round 0 ['node_4084c19b-0f4d-474c-9d11-ddfd8f7f84dc']\n",
      "04/01/2022 10:52:26:INFO:Sampled nodes in round 0 ['node_4084c19b-0f4d-474c-9d11-ddfd8f7f84dc']\n",
      "2022-04-01 10:52:26,290 fedbiomed INFO - Send message to node node_4084c19b-0f4d-474c-9d11-ddfd8f7f84dc - {'researcher_id': 'researcher_024bc6ca-055d-406b-bdf2-68d99ef76a7c', 'job_id': '0c52cbb9-2071-4c83-87ff-bc01c2e74001', 'training_args': {'test_ratio': 0.0, 'test_on_local_updates': False, 'test_on_global_updates': False, 'test_metric': None, 'test_metric_args': {}, 'batch_size': 48, 'lr': 0.001, 'epochs': 1, 'dry_run': False, 'batch_maxnum': 100, 'DP_args': {'type': 'local', 'sigma': 0.1, 'clip': 1.0}}, 'training': True, 'model_args': {}, 'command': 'train', 'model_url': 'http://localhost:8844/media/uploads/2022/04/01/my_model_5c771152-4ce5-414b-b348-42855fa62795.py', 'params_url': 'http://localhost:8844/media/uploads/2022/04/01/aggregated_params_init_fae5d2a0-f86a-4eb1-b96a-dc29256e0d9e.pt', 'model_class': 'MyTrainingPlan', 'training_data': {'node_4084c19b-0f4d-474c-9d11-ddfd8f7f84dc': ['dataset_c85070b0-ab39-4ee4-8078-d51fc85c44ce']}}\n",
      "04/01/2022 10:52:26:INFO:Send message to node node_4084c19b-0f4d-474c-9d11-ddfd8f7f84dc - {'researcher_id': 'researcher_024bc6ca-055d-406b-bdf2-68d99ef76a7c', 'job_id': '0c52cbb9-2071-4c83-87ff-bc01c2e74001', 'training_args': {'test_ratio': 0.0, 'test_on_local_updates': False, 'test_on_global_updates': False, 'test_metric': None, 'test_metric_args': {}, 'batch_size': 48, 'lr': 0.001, 'epochs': 1, 'dry_run': False, 'batch_maxnum': 100, 'DP_args': {'type': 'local', 'sigma': 0.1, 'clip': 1.0}}, 'training': True, 'model_args': {}, 'command': 'train', 'model_url': 'http://localhost:8844/media/uploads/2022/04/01/my_model_5c771152-4ce5-414b-b348-42855fa62795.py', 'params_url': 'http://localhost:8844/media/uploads/2022/04/01/aggregated_params_init_fae5d2a0-f86a-4eb1-b96a-dc29256e0d9e.pt', 'model_class': 'MyTrainingPlan', 'training_data': {'node_4084c19b-0f4d-474c-9d11-ddfd8f7f84dc': ['dataset_c85070b0-ab39-4ee4-8078-d51fc85c44ce']}}\n",
      "2022-04-01 10:52:26,291 fedbiomed DEBUG - researcher_024bc6ca-055d-406b-bdf2-68d99ef76a7c\n",
      "04/01/2022 10:52:26:DEBUG:researcher_024bc6ca-055d-406b-bdf2-68d99ef76a7c\n",
      "2022-04-01 10:52:26,299 fedbiomed INFO - log from: node_4084c19b-0f4d-474c-9d11-ddfd8f7f84dc / DEBUG - Message received: {'researcher_id': 'researcher_024bc6ca-055d-406b-bdf2-68d99ef76a7c', 'job_id': '0c52cbb9-2071-4c83-87ff-bc01c2e74001', 'training_args': {'test_ratio': 0.0, 'test_on_local_updates': False, 'test_on_global_updates': False, 'test_metric': None, 'test_metric_args': {}, 'batch_size': 48, 'lr': 0.001, 'epochs': 1, 'dry_run': False, 'batch_maxnum': 100, 'DP_args': {'type': 'local', 'sigma': 0.1, 'clip': 1.0}}, 'training': True, 'model_args': {}, 'command': 'train', 'model_url': 'http://localhost:8844/media/uploads/2022/04/01/my_model_5c771152-4ce5-414b-b348-42855fa62795.py', 'params_url': 'http://localhost:8844/media/uploads/2022/04/01/aggregated_params_init_fae5d2a0-f86a-4eb1-b96a-dc29256e0d9e.pt', 'model_class': 'MyTrainingPlan', 'training_data': {'node_4084c19b-0f4d-474c-9d11-ddfd8f7f84dc': ['dataset_c85070b0-ab39-4ee4-8078-d51fc85c44ce']}}\n",
      "04/01/2022 10:52:26:INFO:log from: node_4084c19b-0f4d-474c-9d11-ddfd8f7f84dc / DEBUG - Message received: {'researcher_id': 'researcher_024bc6ca-055d-406b-bdf2-68d99ef76a7c', 'job_id': '0c52cbb9-2071-4c83-87ff-bc01c2e74001', 'training_args': {'test_ratio': 0.0, 'test_on_local_updates': False, 'test_on_global_updates': False, 'test_metric': None, 'test_metric_args': {}, 'batch_size': 48, 'lr': 0.001, 'epochs': 1, 'dry_run': False, 'batch_maxnum': 100, 'DP_args': {'type': 'local', 'sigma': 0.1, 'clip': 1.0}}, 'training': True, 'model_args': {}, 'command': 'train', 'model_url': 'http://localhost:8844/media/uploads/2022/04/01/my_model_5c771152-4ce5-414b-b348-42855fa62795.py', 'params_url': 'http://localhost:8844/media/uploads/2022/04/01/aggregated_params_init_fae5d2a0-f86a-4eb1-b96a-dc29256e0d9e.pt', 'model_class': 'MyTrainingPlan', 'training_data': {'node_4084c19b-0f4d-474c-9d11-ddfd8f7f84dc': ['dataset_c85070b0-ab39-4ee4-8078-d51fc85c44ce']}}\n",
      "2022-04-01 10:52:26,301 fedbiomed INFO - log from: node_4084c19b-0f4d-474c-9d11-ddfd8f7f84dc / DEBUG - [TASKS QUEUE] Item:{'researcher_id': 'researcher_024bc6ca-055d-406b-bdf2-68d99ef76a7c', 'job_id': '0c52cbb9-2071-4c83-87ff-bc01c2e74001', 'params_url': 'http://localhost:8844/media/uploads/2022/04/01/aggregated_params_init_fae5d2a0-f86a-4eb1-b96a-dc29256e0d9e.pt', 'training_args': {'test_ratio': 0.0, 'test_on_local_updates': False, 'test_on_global_updates': False, 'test_metric': None, 'test_metric_args': {}, 'batch_size': 48, 'lr': 0.001, 'epochs': 1, 'dry_run': False, 'batch_maxnum': 100, 'DP_args': {'type': 'local', 'sigma': 0.1, 'clip': 1.0}}, 'training_data': {'node_4084c19b-0f4d-474c-9d11-ddfd8f7f84dc': ['dataset_c85070b0-ab39-4ee4-8078-d51fc85c44ce']}, 'training': True, 'model_args': {}, 'model_url': 'http://localhost:8844/media/uploads/2022/04/01/my_model_5c771152-4ce5-414b-b348-42855fa62795.py', 'model_class': 'MyTrainingPlan', 'command': 'train'}\n",
      "04/01/2022 10:52:26:INFO:log from: node_4084c19b-0f4d-474c-9d11-ddfd8f7f84dc / DEBUG - [TASKS QUEUE] Item:{'researcher_id': 'researcher_024bc6ca-055d-406b-bdf2-68d99ef76a7c', 'job_id': '0c52cbb9-2071-4c83-87ff-bc01c2e74001', 'params_url': 'http://localhost:8844/media/uploads/2022/04/01/aggregated_params_init_fae5d2a0-f86a-4eb1-b96a-dc29256e0d9e.pt', 'training_args': {'test_ratio': 0.0, 'test_on_local_updates': False, 'test_on_global_updates': False, 'test_metric': None, 'test_metric_args': {}, 'batch_size': 48, 'lr': 0.001, 'epochs': 1, 'dry_run': False, 'batch_maxnum': 100, 'DP_args': {'type': 'local', 'sigma': 0.1, 'clip': 1.0}}, 'training_data': {'node_4084c19b-0f4d-474c-9d11-ddfd8f7f84dc': ['dataset_c85070b0-ab39-4ee4-8078-d51fc85c44ce']}, 'training': True, 'model_args': {}, 'model_url': 'http://localhost:8844/media/uploads/2022/04/01/my_model_5c771152-4ce5-414b-b348-42855fa62795.py', 'model_class': 'MyTrainingPlan', 'command': 'train'}\n",
      "2022-04-01 10:52:26,318 fedbiomed INFO - log from: node_4084c19b-0f4d-474c-9d11-ddfd8f7f84dc / DEBUG - upload (HTTP GET request) of file my_model_2ae9e94158de41848a8045ec4c39d4d2.py successful, with status code 200\n",
      "04/01/2022 10:52:26:INFO:log from: node_4084c19b-0f4d-474c-9d11-ddfd8f7f84dc / DEBUG - upload (HTTP GET request) of file my_model_2ae9e94158de41848a8045ec4c39d4d2.py successful, with status code 200\n",
      "2022-04-01 10:52:26,451 fedbiomed INFO - log from: node_4084c19b-0f4d-474c-9d11-ddfd8f7f84dc / DEBUG - upload (HTTP GET request) of file my_model_2c8cab75-8df9-42f1-98ea-f74015e4032c.pt successful, with status code 200\n",
      "04/01/2022 10:52:26:INFO:log from: node_4084c19b-0f4d-474c-9d11-ddfd8f7f84dc / DEBUG - upload (HTTP GET request) of file my_model_2c8cab75-8df9-42f1-98ea-f74015e4032c.pt successful, with status code 200\n",
      "2022-04-01 10:52:26,467 fedbiomed INFO - log from: node_4084c19b-0f4d-474c-9d11-ddfd8f7f84dc / DEBUG - Dataset path has been set as/Users/mlorenzi/works/temp/MNIST\n",
      "04/01/2022 10:52:26:INFO:log from: node_4084c19b-0f4d-474c-9d11-ddfd8f7f84dc / DEBUG - Dataset path has been set as/Users/mlorenzi/works/temp/MNIST\n",
      "2022-04-01 10:52:26,490 fedbiomed INFO - log from: node_4084c19b-0f4d-474c-9d11-ddfd8f7f84dc / INFO - training with arguments {'history_monitor': <fedbiomed.node.history_monitor.HistoryMonitor object at 0x13c45cbb0>, 'node_args': {'gpu': False, 'gpu_num': None, 'gpu_only': False}, 'test_ratio': 0.0, 'test_on_local_updates': False, 'test_on_global_updates': False, 'test_metric': None, 'test_metric_args': {}, 'batch_size': 48, 'lr': 0.001, 'epochs': 1, 'dry_run': False, 'batch_maxnum': 100, 'DP_args': {'type': 'local', 'sigma': 0.1, 'clip': 1.0}}\n",
      "04/01/2022 10:52:26:INFO:log from: node_4084c19b-0f4d-474c-9d11-ddfd8f7f84dc / INFO - training with arguments {'history_monitor': <fedbiomed.node.history_monitor.HistoryMonitor object at 0x13c45cbb0>, 'node_args': {'gpu': False, 'gpu_num': None, 'gpu_only': False}, 'test_ratio': 0.0, 'test_on_local_updates': False, 'test_on_global_updates': False, 'test_metric': None, 'test_metric_args': {}, 'batch_size': 48, 'lr': 0.001, 'epochs': 1, 'dry_run': False, 'batch_maxnum': 100, 'DP_args': {'type': 'local', 'sigma': 0.1, 'clip': 1.0}}\n"
     ]
    },
    {
     "name": "stderr",
     "output_type": "stream",
     "text": [
      "2022-04-01 10:52:26,492 fedbiomed INFO - log from: node_4084c19b-0f4d-474c-9d11-ddfd8f7f84dc / DEBUG - Using device cpu for training (cuda_available=False, gpu=False, gpu_only=False, use_gpu=False, gpu_num=None)\n",
      "04/01/2022 10:52:26:INFO:log from: node_4084c19b-0f4d-474c-9d11-ddfd8f7f84dc / DEBUG - Using device cpu for training (cuda_available=False, gpu=False, gpu_only=False, use_gpu=False, gpu_num=None)\n",
      "2022-04-01 10:52:26,855 fedbiomed INFO - log from: node_4084c19b-0f4d-474c-9d11-ddfd8f7f84dc / INFO - Train Epoch: 1 [0/60000 (0%)]\tLoss: 2.266146\n",
      "04/01/2022 10:52:26:INFO:log from: node_4084c19b-0f4d-474c-9d11-ddfd8f7f84dc / INFO - Train Epoch: 1 [0/60000 (0%)]\tLoss: 2.266146\n",
      "2022-04-01 10:52:26,856 fedbiomed INFO - Monitor: node_id=node_4084c19b-0f4d-474c-9d11-ddfd8f7f84dc epoch=1 iteration=0 Loss:2.266146421432495\n",
      "04/01/2022 10:52:26:INFO:Monitor: node_id=node_4084c19b-0f4d-474c-9d11-ddfd8f7f84dc epoch=1 iteration=0 Loss:2.266146421432495\n",
      "2022-04-01 10:52:30,174 fedbiomed INFO - log from: node_4084c19b-0f4d-474c-9d11-ddfd8f7f84dc / INFO - Train Epoch: 1 [510/60000 (1%)]\tLoss: 1.627833\n",
      "04/01/2022 10:52:30:INFO:log from: node_4084c19b-0f4d-474c-9d11-ddfd8f7f84dc / INFO - Train Epoch: 1 [510/60000 (1%)]\tLoss: 1.627833\n",
      "2022-04-01 10:52:30,176 fedbiomed INFO - Monitor: node_id=node_4084c19b-0f4d-474c-9d11-ddfd8f7f84dc epoch=1 iteration=10 Loss:1.6278332471847534\n",
      "04/01/2022 10:52:30:INFO:Monitor: node_id=node_4084c19b-0f4d-474c-9d11-ddfd8f7f84dc epoch=1 iteration=10 Loss:1.6278332471847534\n",
      "2022-04-01 10:52:33,287 fedbiomed INFO - log from: node_4084c19b-0f4d-474c-9d11-ddfd8f7f84dc / INFO - Train Epoch: 1 [860/60000 (2%)]\tLoss: 1.101985\n",
      "04/01/2022 10:52:33:INFO:log from: node_4084c19b-0f4d-474c-9d11-ddfd8f7f84dc / INFO - Train Epoch: 1 [860/60000 (2%)]\tLoss: 1.101985\n",
      "2022-04-01 10:52:33,289 fedbiomed INFO - Monitor: node_id=node_4084c19b-0f4d-474c-9d11-ddfd8f7f84dc epoch=1 iteration=20 Loss:1.1019845008850098\n",
      "04/01/2022 10:52:33:INFO:Monitor: node_id=node_4084c19b-0f4d-474c-9d11-ddfd8f7f84dc epoch=1 iteration=20 Loss:1.1019845008850098\n",
      "2022-04-01 10:52:36,619 fedbiomed INFO - log from: node_4084c19b-0f4d-474c-9d11-ddfd8f7f84dc / INFO - Train Epoch: 1 [1440/60000 (2%)]\tLoss: 1.179690\n",
      "04/01/2022 10:52:36:INFO:log from: node_4084c19b-0f4d-474c-9d11-ddfd8f7f84dc / INFO - Train Epoch: 1 [1440/60000 (2%)]\tLoss: 1.179690\n",
      "2022-04-01 10:52:36,622 fedbiomed INFO - Monitor: node_id=node_4084c19b-0f4d-474c-9d11-ddfd8f7f84dc epoch=1 iteration=30 Loss:1.1796900033950806\n",
      "04/01/2022 10:52:36:INFO:Monitor: node_id=node_4084c19b-0f4d-474c-9d11-ddfd8f7f84dc epoch=1 iteration=30 Loss:1.1796900033950806\n",
      "2022-04-01 10:52:39,941 fedbiomed INFO - log from: node_4084c19b-0f4d-474c-9d11-ddfd8f7f84dc / INFO - Train Epoch: 1 [1680/60000 (3%)]\tLoss: 1.417422\n",
      "04/01/2022 10:52:39:INFO:log from: node_4084c19b-0f4d-474c-9d11-ddfd8f7f84dc / INFO - Train Epoch: 1 [1680/60000 (3%)]\tLoss: 1.417422\n",
      "2022-04-01 10:52:39,943 fedbiomed INFO - Monitor: node_id=node_4084c19b-0f4d-474c-9d11-ddfd8f7f84dc epoch=1 iteration=40 Loss:1.4174220561981201\n",
      "04/01/2022 10:52:39:INFO:Monitor: node_id=node_4084c19b-0f4d-474c-9d11-ddfd8f7f84dc epoch=1 iteration=40 Loss:1.4174220561981201\n",
      "2022-04-01 10:52:43,342 fedbiomed INFO - log from: node_4084c19b-0f4d-474c-9d11-ddfd8f7f84dc / INFO - Train Epoch: 1 [2500/60000 (4%)]\tLoss: 0.849168\n",
      "04/01/2022 10:52:43:INFO:log from: node_4084c19b-0f4d-474c-9d11-ddfd8f7f84dc / INFO - Train Epoch: 1 [2500/60000 (4%)]\tLoss: 0.849168\n",
      "2022-04-01 10:52:43,343 fedbiomed INFO - Monitor: node_id=node_4084c19b-0f4d-474c-9d11-ddfd8f7f84dc epoch=1 iteration=50 Loss:0.8491684794425964\n",
      "04/01/2022 10:52:43:INFO:Monitor: node_id=node_4084c19b-0f4d-474c-9d11-ddfd8f7f84dc epoch=1 iteration=50 Loss:0.8491684794425964\n",
      "2022-04-01 10:52:47,017 fedbiomed INFO - log from: node_4084c19b-0f4d-474c-9d11-ddfd8f7f84dc / INFO - Train Epoch: 1 [3120/60000 (5%)]\tLoss: 0.328584\n",
      "04/01/2022 10:52:47:INFO:log from: node_4084c19b-0f4d-474c-9d11-ddfd8f7f84dc / INFO - Train Epoch: 1 [3120/60000 (5%)]\tLoss: 0.328584\n",
      "2022-04-01 10:52:47,018 fedbiomed INFO - Monitor: node_id=node_4084c19b-0f4d-474c-9d11-ddfd8f7f84dc epoch=1 iteration=60 Loss:0.3285842537879944\n",
      "04/01/2022 10:52:47:INFO:Monitor: node_id=node_4084c19b-0f4d-474c-9d11-ddfd8f7f84dc epoch=1 iteration=60 Loss:0.3285842537879944\n",
      "2022-04-01 10:52:50,320 fedbiomed INFO - log from: node_4084c19b-0f4d-474c-9d11-ddfd8f7f84dc / INFO - Train Epoch: 1 [2940/60000 (6%)]\tLoss: 0.886184\n",
      "04/01/2022 10:52:50:INFO:log from: node_4084c19b-0f4d-474c-9d11-ddfd8f7f84dc / INFO - Train Epoch: 1 [2940/60000 (6%)]\tLoss: 0.886184\n",
      "2022-04-01 10:52:50,322 fedbiomed INFO - Monitor: node_id=node_4084c19b-0f4d-474c-9d11-ddfd8f7f84dc epoch=1 iteration=70 Loss:0.8861843943595886\n",
      "04/01/2022 10:52:50:INFO:Monitor: node_id=node_4084c19b-0f4d-474c-9d11-ddfd8f7f84dc epoch=1 iteration=70 Loss:0.8861843943595886\n",
      "2022-04-01 10:52:53,599 fedbiomed INFO - log from: node_4084c19b-0f4d-474c-9d11-ddfd8f7f84dc / INFO - Train Epoch: 1 [3840/60000 (6%)]\tLoss: 0.562678\n",
      "04/01/2022 10:52:53:INFO:log from: node_4084c19b-0f4d-474c-9d11-ddfd8f7f84dc / INFO - Train Epoch: 1 [3840/60000 (6%)]\tLoss: 0.562678\n",
      "2022-04-01 10:52:53,601 fedbiomed INFO - Monitor: node_id=node_4084c19b-0f4d-474c-9d11-ddfd8f7f84dc epoch=1 iteration=80 Loss:0.5626784563064575\n",
      "04/01/2022 10:52:53:INFO:Monitor: node_id=node_4084c19b-0f4d-474c-9d11-ddfd8f7f84dc epoch=1 iteration=80 Loss:0.5626784563064575\n",
      "2022-04-01 10:52:56,975 fedbiomed INFO - log from: node_4084c19b-0f4d-474c-9d11-ddfd8f7f84dc / INFO - Train Epoch: 1 [4860/60000 (7%)]\tLoss: 1.355652\n",
      "04/01/2022 10:52:56:INFO:log from: node_4084c19b-0f4d-474c-9d11-ddfd8f7f84dc / INFO - Train Epoch: 1 [4860/60000 (7%)]\tLoss: 1.355652\n",
      "2022-04-01 10:52:56,979 fedbiomed INFO - Monitor: node_id=node_4084c19b-0f4d-474c-9d11-ddfd8f7f84dc epoch=1 iteration=90 Loss:1.3556524515151978\n",
      "04/01/2022 10:52:56:INFO:Monitor: node_id=node_4084c19b-0f4d-474c-9d11-ddfd8f7f84dc epoch=1 iteration=90 Loss:1.3556524515151978\n",
      "2022-04-01 10:53:00,248 fedbiomed INFO - log from: node_4084c19b-0f4d-474c-9d11-ddfd8f7f84dc / DEBUG - Reached 100 batches for this epoch, ignore remaining data\n",
      "04/01/2022 10:53:00:INFO:log from: node_4084c19b-0f4d-474c-9d11-ddfd8f7f84dc / DEBUG - Reached 100 batches for this epoch, ignore remaining data\n",
      "2022-04-01 10:53:00,250 fedbiomed INFO - log from: node_4084c19b-0f4d-474c-9d11-ddfd8f7f84dc / DEBUG - running model.postprocess() method\n",
      "04/01/2022 10:53:00:INFO:log from: node_4084c19b-0f4d-474c-9d11-ddfd8f7f84dc / DEBUG - running model.postprocess() method\n",
      "2022-04-01 10:53:00,251 fedbiomed INFO - log from: node_4084c19b-0f4d-474c-9d11-ddfd8f7f84dc / DEBUG - model.postprocess() method not provided\n",
      "04/01/2022 10:53:00:INFO:log from: node_4084c19b-0f4d-474c-9d11-ddfd8f7f84dc / DEBUG - model.postprocess() method not provided\n",
      "2022-04-01 10:53:00,673 fedbiomed INFO - log from: node_4084c19b-0f4d-474c-9d11-ddfd8f7f84dc / DEBUG - upload (HTTP POST request) of file /Users/mlorenzi/works/temp/fedbiomed/var/tmp/node_params_9bceb518-68e1-4d00-8bf6-f99a76aa4e57.pt successful, with status code 201\n",
      "04/01/2022 10:53:00:INFO:log from: node_4084c19b-0f4d-474c-9d11-ddfd8f7f84dc / DEBUG - upload (HTTP POST request) of file /Users/mlorenzi/works/temp/fedbiomed/var/tmp/node_params_9bceb518-68e1-4d00-8bf6-f99a76aa4e57.pt successful, with status code 201\n",
      "2022-04-01 10:53:00,681 fedbiomed INFO - log from: node_4084c19b-0f4d-474c-9d11-ddfd8f7f84dc / INFO - results uploaded successfully \n",
      "04/01/2022 10:53:00:INFO:log from: node_4084c19b-0f4d-474c-9d11-ddfd8f7f84dc / INFO - results uploaded successfully \n",
      "2022-04-01 10:53:06,323 fedbiomed INFO - Downloading model params after training on node_4084c19b-0f4d-474c-9d11-ddfd8f7f84dc - from http://localhost:8844/media/uploads/2022/04/01/node_params_9bceb518-68e1-4d00-8bf6-f99a76aa4e57.pt\n",
      "04/01/2022 10:53:06:INFO:Downloading model params after training on node_4084c19b-0f4d-474c-9d11-ddfd8f7f84dc - from http://localhost:8844/media/uploads/2022/04/01/node_params_9bceb518-68e1-4d00-8bf6-f99a76aa4e57.pt\n",
      "2022-04-01 10:53:06,462 fedbiomed DEBUG - upload (HTTP GET request) of file node_params_89b0b2b8-5321-48d9-89ff-d37f7f8194c1.pt successful, with status code 200\n",
      "04/01/2022 10:53:06:DEBUG:upload (HTTP GET request) of file node_params_89b0b2b8-5321-48d9-89ff-d37f7f8194c1.pt successful, with status code 200\n"
     ]
    },
    {
     "name": "stderr",
     "output_type": "stream",
     "text": [
      "2022-04-01 10:53:06,482 fedbiomed INFO - Nodes that successfully reply in round 0 ['node_4084c19b-0f4d-474c-9d11-ddfd8f7f84dc']\n",
      "04/01/2022 10:53:06:INFO:Nodes that successfully reply in round 0 ['node_4084c19b-0f4d-474c-9d11-ddfd8f7f84dc']\n",
      "2022-04-01 10:53:06,916 fedbiomed DEBUG - upload (HTTP POST request) of file /Users/mlorenzi/works/temp/fedbiomed/var/experiments/Experiment_0001/aggregated_params_13c2879b-877f-4612-b6a6-abbd44145545.pt successful, with status code 201\n",
      "04/01/2022 10:53:06:DEBUG:upload (HTTP POST request) of file /Users/mlorenzi/works/temp/fedbiomed/var/experiments/Experiment_0001/aggregated_params_13c2879b-877f-4612-b6a6-abbd44145545.pt successful, with status code 201\n",
      "2022-04-01 10:53:06,918 fedbiomed INFO - Saved aggregated params for round 0 in /Users/mlorenzi/works/temp/fedbiomed/var/experiments/Experiment_0001/aggregated_params_13c2879b-877f-4612-b6a6-abbd44145545.pt\n",
      "04/01/2022 10:53:06:INFO:Saved aggregated params for round 0 in /Users/mlorenzi/works/temp/fedbiomed/var/experiments/Experiment_0001/aggregated_params_13c2879b-877f-4612-b6a6-abbd44145545.pt\n",
      "2022-04-01 10:53:06,919 fedbiomed INFO - Sampled nodes in round 1 ['node_4084c19b-0f4d-474c-9d11-ddfd8f7f84dc']\n",
      "04/01/2022 10:53:06:INFO:Sampled nodes in round 1 ['node_4084c19b-0f4d-474c-9d11-ddfd8f7f84dc']\n",
      "2022-04-01 10:53:06,920 fedbiomed INFO - Send message to node node_4084c19b-0f4d-474c-9d11-ddfd8f7f84dc - {'researcher_id': 'researcher_024bc6ca-055d-406b-bdf2-68d99ef76a7c', 'job_id': '0c52cbb9-2071-4c83-87ff-bc01c2e74001', 'training_args': {'test_ratio': 0.0, 'test_on_local_updates': False, 'test_on_global_updates': False, 'test_metric': None, 'test_metric_args': {}, 'batch_size': 48, 'lr': 0.001, 'epochs': 1, 'dry_run': False, 'batch_maxnum': 100, 'DP_args': {'type': 'local', 'sigma': 0.1, 'clip': 1.0}}, 'training': True, 'model_args': {}, 'command': 'train', 'model_url': 'http://localhost:8844/media/uploads/2022/04/01/my_model_5c771152-4ce5-414b-b348-42855fa62795.py', 'params_url': 'http://localhost:8844/media/uploads/2022/04/01/aggregated_params_13c2879b-877f-4612-b6a6-abbd44145545.pt', 'model_class': 'MyTrainingPlan', 'training_data': {'node_4084c19b-0f4d-474c-9d11-ddfd8f7f84dc': ['dataset_c85070b0-ab39-4ee4-8078-d51fc85c44ce']}}\n",
      "04/01/2022 10:53:06:INFO:Send message to node node_4084c19b-0f4d-474c-9d11-ddfd8f7f84dc - {'researcher_id': 'researcher_024bc6ca-055d-406b-bdf2-68d99ef76a7c', 'job_id': '0c52cbb9-2071-4c83-87ff-bc01c2e74001', 'training_args': {'test_ratio': 0.0, 'test_on_local_updates': False, 'test_on_global_updates': False, 'test_metric': None, 'test_metric_args': {}, 'batch_size': 48, 'lr': 0.001, 'epochs': 1, 'dry_run': False, 'batch_maxnum': 100, 'DP_args': {'type': 'local', 'sigma': 0.1, 'clip': 1.0}}, 'training': True, 'model_args': {}, 'command': 'train', 'model_url': 'http://localhost:8844/media/uploads/2022/04/01/my_model_5c771152-4ce5-414b-b348-42855fa62795.py', 'params_url': 'http://localhost:8844/media/uploads/2022/04/01/aggregated_params_13c2879b-877f-4612-b6a6-abbd44145545.pt', 'model_class': 'MyTrainingPlan', 'training_data': {'node_4084c19b-0f4d-474c-9d11-ddfd8f7f84dc': ['dataset_c85070b0-ab39-4ee4-8078-d51fc85c44ce']}}\n",
      "2022-04-01 10:53:06,922 fedbiomed DEBUG - researcher_024bc6ca-055d-406b-bdf2-68d99ef76a7c\n",
      "04/01/2022 10:53:06:DEBUG:researcher_024bc6ca-055d-406b-bdf2-68d99ef76a7c\n",
      "2022-04-01 10:53:06,933 fedbiomed INFO - log from: node_4084c19b-0f4d-474c-9d11-ddfd8f7f84dc / DEBUG - Message received: {'researcher_id': 'researcher_024bc6ca-055d-406b-bdf2-68d99ef76a7c', 'job_id': '0c52cbb9-2071-4c83-87ff-bc01c2e74001', 'training_args': {'test_ratio': 0.0, 'test_on_local_updates': False, 'test_on_global_updates': False, 'test_metric': None, 'test_metric_args': {}, 'batch_size': 48, 'lr': 0.001, 'epochs': 1, 'dry_run': False, 'batch_maxnum': 100, 'DP_args': {'type': 'local', 'sigma': 0.1, 'clip': 1.0}}, 'training': True, 'model_args': {}, 'command': 'train', 'model_url': 'http://localhost:8844/media/uploads/2022/04/01/my_model_5c771152-4ce5-414b-b348-42855fa62795.py', 'params_url': 'http://localhost:8844/media/uploads/2022/04/01/aggregated_params_13c2879b-877f-4612-b6a6-abbd44145545.pt', 'model_class': 'MyTrainingPlan', 'training_data': {'node_4084c19b-0f4d-474c-9d11-ddfd8f7f84dc': ['dataset_c85070b0-ab39-4ee4-8078-d51fc85c44ce']}}\n",
      "04/01/2022 10:53:06:INFO:log from: node_4084c19b-0f4d-474c-9d11-ddfd8f7f84dc / DEBUG - Message received: {'researcher_id': 'researcher_024bc6ca-055d-406b-bdf2-68d99ef76a7c', 'job_id': '0c52cbb9-2071-4c83-87ff-bc01c2e74001', 'training_args': {'test_ratio': 0.0, 'test_on_local_updates': False, 'test_on_global_updates': False, 'test_metric': None, 'test_metric_args': {}, 'batch_size': 48, 'lr': 0.001, 'epochs': 1, 'dry_run': False, 'batch_maxnum': 100, 'DP_args': {'type': 'local', 'sigma': 0.1, 'clip': 1.0}}, 'training': True, 'model_args': {}, 'command': 'train', 'model_url': 'http://localhost:8844/media/uploads/2022/04/01/my_model_5c771152-4ce5-414b-b348-42855fa62795.py', 'params_url': 'http://localhost:8844/media/uploads/2022/04/01/aggregated_params_13c2879b-877f-4612-b6a6-abbd44145545.pt', 'model_class': 'MyTrainingPlan', 'training_data': {'node_4084c19b-0f4d-474c-9d11-ddfd8f7f84dc': ['dataset_c85070b0-ab39-4ee4-8078-d51fc85c44ce']}}\n",
      "2022-04-01 10:53:06,934 fedbiomed INFO - log from: node_4084c19b-0f4d-474c-9d11-ddfd8f7f84dc / DEBUG - [TASKS QUEUE] Item:{'researcher_id': 'researcher_024bc6ca-055d-406b-bdf2-68d99ef76a7c', 'job_id': '0c52cbb9-2071-4c83-87ff-bc01c2e74001', 'params_url': 'http://localhost:8844/media/uploads/2022/04/01/aggregated_params_13c2879b-877f-4612-b6a6-abbd44145545.pt', 'training_args': {'test_ratio': 0.0, 'test_on_local_updates': False, 'test_on_global_updates': False, 'test_metric': None, 'test_metric_args': {}, 'batch_size': 48, 'lr': 0.001, 'epochs': 1, 'dry_run': False, 'batch_maxnum': 100, 'DP_args': {'type': 'local', 'sigma': 0.1, 'clip': 1.0}}, 'training_data': {'node_4084c19b-0f4d-474c-9d11-ddfd8f7f84dc': ['dataset_c85070b0-ab39-4ee4-8078-d51fc85c44ce']}, 'training': True, 'model_args': {}, 'model_url': 'http://localhost:8844/media/uploads/2022/04/01/my_model_5c771152-4ce5-414b-b348-42855fa62795.py', 'model_class': 'MyTrainingPlan', 'command': 'train'}\n",
      "04/01/2022 10:53:06:INFO:log from: node_4084c19b-0f4d-474c-9d11-ddfd8f7f84dc / DEBUG - [TASKS QUEUE] Item:{'researcher_id': 'researcher_024bc6ca-055d-406b-bdf2-68d99ef76a7c', 'job_id': '0c52cbb9-2071-4c83-87ff-bc01c2e74001', 'params_url': 'http://localhost:8844/media/uploads/2022/04/01/aggregated_params_13c2879b-877f-4612-b6a6-abbd44145545.pt', 'training_args': {'test_ratio': 0.0, 'test_on_local_updates': False, 'test_on_global_updates': False, 'test_metric': None, 'test_metric_args': {}, 'batch_size': 48, 'lr': 0.001, 'epochs': 1, 'dry_run': False, 'batch_maxnum': 100, 'DP_args': {'type': 'local', 'sigma': 0.1, 'clip': 1.0}}, 'training_data': {'node_4084c19b-0f4d-474c-9d11-ddfd8f7f84dc': ['dataset_c85070b0-ab39-4ee4-8078-d51fc85c44ce']}, 'training': True, 'model_args': {}, 'model_url': 'http://localhost:8844/media/uploads/2022/04/01/my_model_5c771152-4ce5-414b-b348-42855fa62795.py', 'model_class': 'MyTrainingPlan', 'command': 'train'}\n",
      "2022-04-01 10:53:06,955 fedbiomed INFO - log from: node_4084c19b-0f4d-474c-9d11-ddfd8f7f84dc / DEBUG - upload (HTTP GET request) of file my_model_a5b570f80eff44d5b4d965f191c7f37a.py successful, with status code 200\n",
      "04/01/2022 10:53:06:INFO:log from: node_4084c19b-0f4d-474c-9d11-ddfd8f7f84dc / DEBUG - upload (HTTP GET request) of file my_model_a5b570f80eff44d5b4d965f191c7f37a.py successful, with status code 200\n",
      "2022-04-01 10:53:07,096 fedbiomed INFO - log from: node_4084c19b-0f4d-474c-9d11-ddfd8f7f84dc / DEBUG - upload (HTTP GET request) of file my_model_00b83f1b-a242-45a4-ae2b-c9c733b8901e.pt successful, with status code 200\n",
      "04/01/2022 10:53:07:INFO:log from: node_4084c19b-0f4d-474c-9d11-ddfd8f7f84dc / DEBUG - upload (HTTP GET request) of file my_model_00b83f1b-a242-45a4-ae2b-c9c733b8901e.pt successful, with status code 200\n",
      "2022-04-01 10:53:07,114 fedbiomed INFO - log from: node_4084c19b-0f4d-474c-9d11-ddfd8f7f84dc / ERROR - Cannot initialize model parameters:Error(s) in loading state_dict for MyTrainingPlan:\n",
      "\tMissing key(s) in state_dict: \"model.0.weight\", \"model.0.bias\", \"model.2.weight\", \"model.2.bias\", \"model.7.weight\", \"model.7.bias\", \"model.10.weight\", \"model.10.bias\". \n",
      "\tUnexpected key(s) in state_dict: \"model._module.0.weight\", \"model._module.0.bias\", \"model._module.2.weight\", \"model._module.2.bias\", \"model._module.7.weight\", \"model._module.7.bias\", \"model._module.10.weight\", \"model._module.10.bias\". \n"
     ]
    },
    {
     "name": "stderr",
     "output_type": "stream",
     "text": [
      "04/01/2022 10:53:07:INFO:log from: node_4084c19b-0f4d-474c-9d11-ddfd8f7f84dc / ERROR - Cannot initialize model parameters:Error(s) in loading state_dict for MyTrainingPlan:\n",
      "\tMissing key(s) in state_dict: \"model.0.weight\", \"model.0.bias\", \"model.2.weight\", \"model.2.bias\", \"model.7.weight\", \"model.7.bias\", \"model.10.weight\", \"model.10.bias\". \n",
      "\tUnexpected key(s) in state_dict: \"model._module.0.weight\", \"model._module.0.bias\", \"model._module.2.weight\", \"model._module.2.bias\", \"model._module.7.weight\", \"model._module.7.bias\", \"model._module.10.weight\", \"model._module.10.bias\". \n",
      "2022-04-01 10:53:16,934 fedbiomed INFO - Downloading model params after training on node_4084c19b-0f4d-474c-9d11-ddfd8f7f84dc - from \n",
      "04/01/2022 10:53:16:INFO:Downloading model params after training on node_4084c19b-0f4d-474c-9d11-ddfd8f7f84dc - from \n",
      "2022-04-01 10:53:16,937 fedbiomed ERROR - FB604: repository error : bad URL when downloading file node_params_c265624a-714d-42ab-b58a-badf0c8a8e81.pt(details :Invalid URL '': No scheme supplied. Perhaps you meant http://? )\n",
      "04/01/2022 10:53:16:ERROR:FB604: repository error : bad URL when downloading file node_params_c265624a-714d-42ab-b58a-badf0c8a8e81.pt(details :Invalid URL '': No scheme supplied. Perhaps you meant http://? )\n",
      "2022-04-01 10:53:16,939 fedbiomed CRITICAL - Fed-BioMed researcher stopped due to exception:\n",
      "FB604: repository error : bad URL when downloading file node_params_c265624a-714d-42ab-b58a-badf0c8a8e81.pt(details :Invalid URL '': No scheme supplied. Perhaps you meant http://? )\n",
      "04/01/2022 10:53:16:CRITICAL:Fed-BioMed researcher stopped due to exception:\n",
      "FB604: repository error : bad URL when downloading file node_params_c265624a-714d-42ab-b58a-badf0c8a8e81.pt(details :Invalid URL '': No scheme supplied. Perhaps you meant http://? )\n"
     ]
    },
    {
     "name": "stdout",
     "output_type": "stream",
     "text": [
      "\n",
      "--------------------\n",
      "Fed-BioMed researcher stopped due to exception:\n",
      "FB604: repository error : bad URL when downloading file node_params_c265624a-714d-42ab-b58a-badf0c8a8e81.pt(details :Invalid URL '': No scheme supplied. Perhaps you meant http://? )\n",
      "--------------------\n"
     ]
    }
   ],
   "source": [
    "exp.run()"
   ]
  },
  {
   "cell_type": "markdown",
   "metadata": {},
   "source": [
    "Local training results for each round and each node are available via `exp.training_replies()` (index 0 to (`rounds` - 1) ).\n",
    "\n",
    "For example you can view the training results for the last round below.\n",
    "\n",
    "Different timings (in seconds) are reported for each dataset of a node participating in a round :\n",
    "- `rtime_training` real time (clock time) spent in the training function on the node\n",
    "- `ptime_training` process time (user and system CPU) spent in the training function on the node\n",
    "- `rtime_total` real time (clock time) spent in the researcher between sending the request and handling the response, at the `Job()` layer"
   ]
  },
  {
   "cell_type": "code",
   "execution_count": null,
   "metadata": {
    "pycharm": {
     "name": "#%%\n"
    },
    "scrolled": true
   },
   "outputs": [],
   "source": [
    "print(\"\\nList the training rounds : \", exp.training_replies().keys())\n",
    "\n",
    "print(\"\\nList the nodes for the last training round and their timings : \")\n",
    "round_data = exp.training_replies()[rounds - 1].data()\n",
    "for c in range(len(round_data)):\n",
    "    print(\"\\t- {id} :\\\n",
    "    \\n\\t\\trtime_training={rtraining:.2f} seconds\\\n",
    "    \\n\\t\\tptime_training={ptraining:.2f} seconds\\\n",
    "    \\n\\t\\trtime_total={rtotal:.2f} seconds\".format(id = round_data[c]['node_id'],\n",
    "        rtraining = round_data[c]['timing']['rtime_training'],\n",
    "        ptraining = round_data[c]['timing']['ptime_training'],\n",
    "        rtotal = round_data[c]['timing']['rtime_total']))\n",
    "print('\\n')\n",
    "    \n",
    "exp.training_replies()[rounds - 1].dataframe()"
   ]
  },
  {
   "cell_type": "markdown",
   "metadata": {},
   "source": [
    "Federated parameters for each round are available via `exp.aggregated_params()` (index 0 to (`rounds` - 1) ).\n",
    "\n",
    "For example you can view the federated parameters for the last round of the experiment :"
   ]
  },
  {
   "cell_type": "code",
   "execution_count": null,
   "metadata": {},
   "outputs": [],
   "source": [
    "print(\"\\nList the training rounds : \", exp.aggregated_params().keys())\n",
    "\n",
    "print(\"\\nAccess the federated params for the last training round :\")\n",
    "print(\"\\t- params_path: \", exp.aggregated_params()[rounds - 1]['params_path'])\n",
    "print(\"\\t- parameter data: \", exp.aggregated_params()[rounds - 1]['params'].keys())\n"
   ]
  },
  {
   "cell_type": "markdown",
   "metadata": {
    "pycharm": {
     "name": "#%% md\n"
    }
   },
   "source": [
    "Feel free to run other sample notebooks or try your own models :D"
   ]
  }
 ],
 "metadata": {
  "kernelspec": {
   "display_name": "Python 3 (ipykernel)",
   "language": "python",
   "name": "python3"
  },
  "language_info": {
   "codemirror_mode": {
    "name": "ipython",
    "version": 3
   },
   "file_extension": ".py",
   "mimetype": "text/x-python",
   "name": "python",
   "nbconvert_exporter": "python",
   "pygments_lexer": "ipython3",
   "version": "3.9.9"
  }
 },
 "nbformat": 4,
 "nbformat_minor": 4
}

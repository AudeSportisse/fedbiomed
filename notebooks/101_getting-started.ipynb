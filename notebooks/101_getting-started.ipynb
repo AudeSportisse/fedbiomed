{
 "cells": [
  {
   "cell_type": "markdown",
   "metadata": {},
   "source": [
    "# Fed-BioMed Researcher base example"
   ]
  },
  {
   "cell_type": "markdown",
   "metadata": {},
   "source": [
    "Use for developing (autoreloads changes made across packages)"
   ]
  },
  {
   "cell_type": "code",
   "execution_count": 1,
   "metadata": {},
   "outputs": [],
   "source": [
    "%load_ext autoreload\n",
    "%autoreload 2"
   ]
  },
  {
   "cell_type": "markdown",
   "metadata": {},
   "source": [
    "## Start the network\n",
    "Before running this notebook, start the network with `./scripts/fedbiomed_run network`"
   ]
  },
  {
   "cell_type": "markdown",
   "metadata": {},
   "source": [
    "## Setting the node up\n",
    "It is necessary to previously configure a node:\n",
    "1. `./scripts/fedbiomed_run node add`\n",
    "  * Select option 2 (default) to add MNIST to the node\n",
    "  * Confirm default tags by hitting \"y\" and ENTER\n",
    "  * Pick the folder where MNIST is downloaded (this is due to a pytorch issue https://github.com/pytorch/vision/issues/3549)\n",
    "  * Data must have been added (if you get a warning saying that data must be unique is because it's been already added)\n",
    "  \n",
    "2. Check that your data has been added by executing `./scripts/fedbiomed_run node list`\n",
    "3. Run the node using `./scripts/fedbiomed_run node run`. Wait until you get `Starting task manager`. it means you are online."
   ]
  },
  {
   "cell_type": "markdown",
   "metadata": {},
   "source": [
    "## Define an experiment model and parameters\""
   ]
  },
  {
   "cell_type": "markdown",
   "metadata": {},
   "source": [
    "Declare a torch.nn MyTrainingPlan class to send for training on the node"
   ]
  },
  {
   "cell_type": "code",
   "execution_count": 2,
   "metadata": {},
   "outputs": [],
   "source": [
    "import torch\n",
    "import torch.nn as nn\n",
    "from fedbiomed.common.training_plans import TorchTrainingPlan\n",
    "from fedbiomed.common.data import DataManager\n",
    "from torchvision import datasets, transforms\n",
    "\n",
    "            # Here we define the custom dependencies that will be needed by our custom Dataloader\n",
    "            # In this case, we need the torch DataLoader classes\n",
    "            # Since we will train on MNIST, we need datasets and transform from torchvision\n",
    "            #deps = [\"from torchvision import datasets, transforms\"]\n",
    "\n",
    "            #self.add_dependency(deps)\n",
    "\n",
    "# Here we define the model to be used. \n",
    "# You can use any class name (here 'Net')\n",
    "class MyTrainingPlan(TorchTrainingPlan):\n",
    "    \n",
    "    \n",
    "    def declare_model(self, model_args):\n",
    "        return self.Net(model_args = model_args)\n",
    "    \n",
    "#     def build_optimizer(self, optimizer_args):\n",
    "#         return torch.optim.Adam(self.model.parameters(), lr = optimizer_args[\"lr\"])\n",
    "    \n",
    "    def declare_dependencies(self):\n",
    "        deps = [\"from torchvision import datasets, transforms\"]\n",
    "        return deps\n",
    "    \n",
    "    class Net(nn.Module):\n",
    "        def __init__(self, model_args):\n",
    "            super().__init__()\n",
    "            self.conv1 = nn.Conv2d(1, 32, 3, 1)\n",
    "            self.conv2 = nn.Conv2d(32, 64, 3, 1)\n",
    "            self.dropout1 = nn.Dropout(0.25)\n",
    "            self.dropout2 = nn.Dropout(0.5)\n",
    "            self.fc1 = nn.Linear(9216, 128)\n",
    "            self.fc2 = nn.Linear(128, 10)\n",
    "\n",
    "        def forward(self, x):\n",
    "            x = self.conv1(x)\n",
    "            x = F.relu(x)\n",
    "            x = self.conv2(x)\n",
    "            x = F.relu(x)\n",
    "            x = F.max_pool2d(x, 2)\n",
    "            x = self.dropout1(x)\n",
    "            x = torch.flatten(x, 1)\n",
    "            x = self.fc1(x)\n",
    "            x = F.relu(x)\n",
    "            x = self.dropout2(x)\n",
    "            x = self.fc2(x)\n",
    "\n",
    "\n",
    "            output = F.log_softmax(x, dim=1)\n",
    "            return output\n",
    "\n",
    "    def training_data(self, batch_size = 48):\n",
    "        # Custom torch Dataloader for MNIST data\n",
    "        transform = transforms.Compose([transforms.ToTensor(),\n",
    "        transforms.Normalize((0.1307,), (0.3081,))])\n",
    "        dataset1 = datasets.MNIST(self.dataset_path, train=True, download=False, transform=transform)\n",
    "        train_kwargs = {'batch_size': batch_size, 'shuffle': True}\n",
    "        return DataManager(dataset=dataset1, **train_kwargs)\n",
    "    \n",
    "    def training_step(self, data, target):\n",
    "        output = self.model.forward(data)\n",
    "        loss   = torch.nn.functional.nll_loss(output, target)\n",
    "        return loss\n"
   ]
  },
  {
   "cell_type": "markdown",
   "metadata": {},
   "source": [
    "This group of arguments correspond respectively:\n",
    "* `model_args`: a dictionary with the arguments related to the model (e.g. number of layers, features, etc.). This will be passed to the model class on the node side.\n",
    "* `training_args`: a dictionary containing the arguments for the training routine (e.g. batch size, learning rate, epochs, etc.). This will be passed to the routine on the node side.\n",
    "\n",
    "**NOTE:** typos and/or lack of positional (required) arguments will raise error. 🤓"
   ]
  },
  {
   "cell_type": "code",
   "execution_count": 3,
   "metadata": {
    "pycharm": {
     "name": "#%%\n"
    }
   },
   "outputs": [],
   "source": [
    "model_args = {}\n",
    "\n",
    "training_args = {\n",
    "    'batch_size': 48, \n",
    "    'optimizer_args': {\n",
    "        \"lr\" : 1e-3\n",
    "    },\n",
    "    'epochs': 1, \n",
    "    'dry_run': False,  \n",
    "    'batch_maxnum': 100 # Fast pass for development : only use ( batch_maxnum * batch_size ) samples\n",
    "}"
   ]
  },
  {
   "cell_type": "markdown",
   "metadata": {},
   "source": [
    "## Declare and run the experiment\n",
    "\n",
    "- search nodes serving data for these `tags`, optionally filter on a list of node ID with `nodes`\n",
    "- run a round of local training on nodes with model defined in `model_path` + federation with `aggregator`\n",
    "- run for `round_limit` rounds, applying the `node_selection_strategy` between the rounds"
   ]
  },
  {
   "cell_type": "code",
   "execution_count": 4,
   "metadata": {
    "pycharm": {
     "name": "#%%\n"
    },
    "scrolled": true
   },
   "outputs": [
    {
     "name": "stderr",
     "output_type": "stream",
     "text": [
      "2022-09-12 15:02:40,577 fedbiomed INFO - Component environment:\n",
      "2022-09-12 15:02:40,579 fedbiomed INFO - type = ComponentType.RESEARCHER\n",
      "2022-09-12 15:02:40,725 fedbiomed INFO - Messaging researcher_de1cf39f-f3cc-4399-938c-9e97b8312127 successfully connected to the message broker, object = <fedbiomed.common.messaging.Messaging object at 0x7f0744361b80>\n",
      "2022-09-12 15:02:40,769 fedbiomed INFO - Searching dataset with data tags: ['#MNIST', '#dataset'] for all nodes\n",
      "2022-09-12 15:02:50,782 fedbiomed INFO - Node selected for training -> node_6ef13f5b-dc01-42c1-b2cc-c93106987bff\n",
      "2022-09-12 15:02:50,783 fedbiomed INFO - {'batch_maxnum': 100, 'fedprox_mu': None, 'log_interval': 10, 'dry_run': False, 'epochs': 1}\n",
      "2022-09-12 15:02:50,795 fedbiomed DEBUG - Model file has been saved: /home/scansiz/projects/fedbiomed-dev/fedbiomed/var/experiments/Experiment_0022/my_model_6ebfca0a-3ced-4808-92fd-a03331bfe77c.py\n",
      "2022-09-12 15:02:50,820 fedbiomed DEBUG - upload (HTTP POST request) of file /home/scansiz/projects/fedbiomed-dev/fedbiomed/var/experiments/Experiment_0022/my_model_6ebfca0a-3ced-4808-92fd-a03331bfe77c.py successful, with status code 201\n",
      "2022-09-12 15:02:51,075 fedbiomed DEBUG - upload (HTTP POST request) of file /home/scansiz/projects/fedbiomed-dev/fedbiomed/var/experiments/Experiment_0022/aggregated_params_init_39f91d65-ddca-4b81-a604-255f22a039b8.pt successful, with status code 201\n"
     ]
    }
   ],
   "source": [
    "from fedbiomed.researcher.experiment import Experiment\n",
    "from fedbiomed.researcher.aggregators.fedavg import FedAverage\n",
    "\n",
    "tags =  ['#MNIST', '#dataset']\n",
    "rounds = 2\n",
    "\n",
    "exp = Experiment(tags=tags,\n",
    "                 model_args=model_args,\n",
    "                 training_plan=MyTrainingPlan,\n",
    "                 training_args=training_args,\n",
    "                 round_limit=rounds,\n",
    "                 aggregator=FedAverage(),\n",
    "                 node_selection_strategy=None)"
   ]
  },
  {
   "cell_type": "markdown",
   "metadata": {
    "pycharm": {
     "name": "#%% md\n"
    }
   },
   "source": [
    "Let's start the experiment.\n",
    "\n",
    "By default, this function doesn't stop until all the `round_limit` rounds are done for all the nodes"
   ]
  },
  {
   "cell_type": "code",
   "execution_count": 6,
   "metadata": {},
   "outputs": [
    {
     "name": "stderr",
     "output_type": "stream",
     "text": [
      "2022-09-12 15:03:12,152 fedbiomed INFO - Sampled nodes in round 1 ['node_6ef13f5b-dc01-42c1-b2cc-c93106987bff']\n",
      "2022-09-12 15:03:12,153 fedbiomed INFO - \u001b[1mSending request\u001b[0m \n",
      "\t\t\t\t\t\u001b[1m To\u001b[0m: node_6ef13f5b-dc01-42c1-b2cc-c93106987bff \n",
      "\t\t\t\t\t\u001b[1m Request: \u001b[0m: Perform training with the arguments: {'researcher_id': 'researcher_de1cf39f-f3cc-4399-938c-9e97b8312127', 'job_id': '25c9d153-d307-488a-b72a-149b0eef2fea', 'training_args': scheme:\n",
      "{'optimizer_args': {'rules': [<class 'dict'>], 'required': True, 'default': {}}, 'batch_size': {'rules': [<class 'int'>], 'required': True, 'default': 48}, 'epochs': {'rules': [<class 'int'>], 'required': True, 'default': 1}, 'dry_run': {'rules': [<class 'bool'>], 'required': True, 'default': False}, 'batch_maxnum': {'rules': [<class 'int'>], 'required': True, 'default': 100}, 'test_ratio': {'rules': [<class 'float'>, <function TrainingArgs._test_ratio_hook at 0x7f07444a2ca0>], 'required': False, 'default': 0.0}, 'test_on_local_updates': {'rules': [<class 'bool'>], 'required': False, 'default': False}, 'test_on_global_updates': {'rules': [<class 'bool'>], 'required': False, 'default': False}, 'test_metric': {'rules': [<function TrainingArgs._metric_validation_hook at 0x7f07444a2a60>], 'required': False, 'default': None}, 'test_metric_args': {'rules': [<class 'dict'>], 'required': False, 'default': {}}, 'log_interval': {'rules': [<class 'int'>], 'required': False, 'default': 10}, 'fedprox_mu': {'rules': [<function TrainingArgs._fedprox_mu_validator at 0x7f07444a2b80>], 'required': False, 'default': None}, 'use_gpu': {'rules': [<class 'bool'>], 'required': False, 'default': False}}\n",
      "value:\n",
      "{'batch_size': 48, 'optimizer_args': {'lr': 0.001}, 'epochs': 1, 'dry_run': False, 'batch_maxnum': 100, 'test_ratio': 0.0, 'test_on_local_updates': False, 'test_on_global_updates': False, 'test_metric': None, 'test_metric_args': {}, 'log_interval': 10, 'fedprox_mu': None, 'use_gpu': False}, 'training': True, 'model_args': {}, 'command': 'train', 'training_plan_url': 'http://localhost:8844/media/uploads/2022/09/12/my_model_6ebfca0a-3ced-4808-92fd-a03331bfe77c.py', 'params_url': 'http://localhost:8844/media/uploads/2022/09/12/aggregated_params_44fd4c65-aebb-4b42-969b-7e6e6ef529a8.pt', 'training_plan_class': 'MyTrainingPlan', 'training_data': {'node_6ef13f5b-dc01-42c1-b2cc-c93106987bff': ['dataset_a5458c58-6d08-4755-80f9-74d80bad598b']}} \n",
      " -----------------------------------------------------------------\n",
      "2022-09-12 15:03:12,154 fedbiomed DEBUG - researcher_de1cf39f-f3cc-4399-938c-9e97b8312127\n",
      "2022-09-12 15:03:12,230 fedbiomed INFO - \u001b[1mINFO\u001b[0m\n",
      "\t\t\t\t\t\u001b[1m NODE\u001b[0m node_6ef13f5b-dc01-42c1-b2cc-c93106987bff\n",
      "\t\t\t\t\t\u001b[1m MESSAGE:\u001b[0m {'batch_maxnum': 100, 'fedprox_mu': None, 'log_interval': 10, 'dry_run': False, 'epochs': 1}\u001b[0m\n",
      "-----------------------------------------------------------------\n",
      "2022-09-12 15:03:12,254 fedbiomed INFO - \u001b[1mWARNING\u001b[0m\n",
      "\t\t\t\t\t\u001b[1m NODE\u001b[0m node_6ef13f5b-dc01-42c1-b2cc-c93106987bff\n",
      "\t\t\t\t\t\u001b[1m MESSAGE:\u001b[0m There is no validation activated for the round. Please set flag for `test_on_global_updates`, `test_on_local_updates`, or both. Splitting dataset for validation will be ignored\u001b[0m\n",
      "-----------------------------------------------------------------\n",
      "2022-09-12 15:03:13,130 fedbiomed INFO - \u001b[1mTRAINING\u001b[0m \n",
      "\t\t\t\t\t NODE_ID: node_6ef13f5b-dc01-42c1-b2cc-c93106987bff \n",
      "\t\t\t\t\t Epoch: 1 | Completed: 480/60000 (1%) \n",
      " \t\t\t\t\t Loss: \u001b[1m0.218450\u001b[0m \n",
      "\t\t\t\t\t ---------\n",
      "2022-09-12 15:03:13,715 fedbiomed INFO - \u001b[1mTRAINING\u001b[0m \n",
      "\t\t\t\t\t NODE_ID: node_6ef13f5b-dc01-42c1-b2cc-c93106987bff \n",
      "\t\t\t\t\t Epoch: 1 | Completed: 960/60000 (2%) \n",
      " \t\t\t\t\t Loss: \u001b[1m0.372139\u001b[0m \n",
      "\t\t\t\t\t ---------\n",
      "2022-09-12 15:03:14,251 fedbiomed INFO - \u001b[1mTRAINING\u001b[0m \n",
      "\t\t\t\t\t NODE_ID: node_6ef13f5b-dc01-42c1-b2cc-c93106987bff \n",
      "\t\t\t\t\t Epoch: 1 | Completed: 1440/60000 (2%) \n",
      " \t\t\t\t\t Loss: \u001b[1m0.282007\u001b[0m \n",
      "\t\t\t\t\t ---------\n",
      "2022-09-12 15:03:14,757 fedbiomed INFO - \u001b[1mTRAINING\u001b[0m \n",
      "\t\t\t\t\t NODE_ID: node_6ef13f5b-dc01-42c1-b2cc-c93106987bff \n",
      "\t\t\t\t\t Epoch: 1 | Completed: 1920/60000 (3%) \n",
      " \t\t\t\t\t Loss: \u001b[1m0.457958\u001b[0m \n",
      "\t\t\t\t\t ---------\n",
      "2022-09-12 15:03:15,255 fedbiomed INFO - \u001b[1mTRAINING\u001b[0m \n",
      "\t\t\t\t\t NODE_ID: node_6ef13f5b-dc01-42c1-b2cc-c93106987bff \n",
      "\t\t\t\t\t Epoch: 1 | Completed: 2400/60000 (4%) \n",
      " \t\t\t\t\t Loss: \u001b[1m0.181298\u001b[0m \n",
      "\t\t\t\t\t ---------\n",
      "2022-09-12 15:03:15,788 fedbiomed INFO - \u001b[1mTRAINING\u001b[0m \n",
      "\t\t\t\t\t NODE_ID: node_6ef13f5b-dc01-42c1-b2cc-c93106987bff \n",
      "\t\t\t\t\t Epoch: 1 | Completed: 2880/60000 (5%) \n",
      " \t\t\t\t\t Loss: \u001b[1m0.361701\u001b[0m \n",
      "\t\t\t\t\t ---------\n",
      "2022-09-12 15:03:16,283 fedbiomed INFO - \u001b[1mTRAINING\u001b[0m \n",
      "\t\t\t\t\t NODE_ID: node_6ef13f5b-dc01-42c1-b2cc-c93106987bff \n",
      "\t\t\t\t\t Epoch: 1 | Completed: 3360/60000 (6%) \n",
      " \t\t\t\t\t Loss: \u001b[1m0.249116\u001b[0m \n",
      "\t\t\t\t\t ---------\n",
      "2022-09-12 15:03:16,788 fedbiomed INFO - \u001b[1mTRAINING\u001b[0m \n",
      "\t\t\t\t\t NODE_ID: node_6ef13f5b-dc01-42c1-b2cc-c93106987bff \n",
      "\t\t\t\t\t Epoch: 1 | Completed: 3840/60000 (6%) \n",
      " \t\t\t\t\t Loss: \u001b[1m0.103293\u001b[0m \n",
      "\t\t\t\t\t ---------\n",
      "2022-09-12 15:03:17,315 fedbiomed INFO - \u001b[1mTRAINING\u001b[0m \n",
      "\t\t\t\t\t NODE_ID: node_6ef13f5b-dc01-42c1-b2cc-c93106987bff \n",
      "\t\t\t\t\t Epoch: 1 | Completed: 4320/60000 (7%) \n",
      " \t\t\t\t\t Loss: \u001b[1m0.284317\u001b[0m \n",
      "\t\t\t\t\t ---------\n",
      "2022-09-12 15:03:17,813 fedbiomed INFO - \u001b[1mTRAINING\u001b[0m \n",
      "\t\t\t\t\t NODE_ID: node_6ef13f5b-dc01-42c1-b2cc-c93106987bff \n",
      "\t\t\t\t\t Epoch: 1 | Completed: 4800/60000 (8%) \n",
      " \t\t\t\t\t Loss: \u001b[1m0.178600\u001b[0m \n",
      "\t\t\t\t\t ---------\n",
      "2022-09-12 15:03:17,814 fedbiomed INFO - \u001b[1mINFO\u001b[0m\n",
      "\t\t\t\t\t\u001b[1m NODE\u001b[0m node_6ef13f5b-dc01-42c1-b2cc-c93106987bff\n",
      "\t\t\t\t\t\u001b[1m MESSAGE:\u001b[0m Reached 100 batches for this epoch, ignore remaining data\u001b[0m\n",
      "-----------------------------------------------------------------\n",
      "2022-09-12 15:03:18,111 fedbiomed INFO - \u001b[1mINFO\u001b[0m\n",
      "\t\t\t\t\t\u001b[1m NODE\u001b[0m node_6ef13f5b-dc01-42c1-b2cc-c93106987bff\n",
      "\t\t\t\t\t\u001b[1m MESSAGE:\u001b[0m results uploaded successfully \u001b[0m\n",
      "-----------------------------------------------------------------\n",
      "2022-09-12 15:03:27,173 fedbiomed INFO - Downloading model params after training on node_6ef13f5b-dc01-42c1-b2cc-c93106987bff - from http://localhost:8844/media/uploads/2022/09/12/node_params_9d2cb236-fbfa-482b-80f2-831f31eba7a8.pt\n",
      "2022-09-12 15:03:27,220 fedbiomed DEBUG - upload (HTTP GET request) of file node_params_f3d0666f-b9e6-4ae7-8e49-3dc17d8aa4ef.pt successful, with status code 200\n",
      "2022-09-12 15:03:27,243 fedbiomed INFO - Nodes that successfully reply in round 1 ['node_6ef13f5b-dc01-42c1-b2cc-c93106987bff']\n",
      "2022-09-12 15:03:27,536 fedbiomed DEBUG - upload (HTTP POST request) of file /home/scansiz/projects/fedbiomed-dev/fedbiomed/var/experiments/Experiment_0022/aggregated_params_c1d5ab0d-b787-4cc5-937f-f8c3b613e775.pt successful, with status code 201\n",
      "2022-09-12 15:03:27,538 fedbiomed INFO - Saved aggregated params for round 1 in /home/scansiz/projects/fedbiomed-dev/fedbiomed/var/experiments/Experiment_0022/aggregated_params_c1d5ab0d-b787-4cc5-937f-f8c3b613e775.pt\n"
     ]
    },
    {
     "data": {
      "text/plain": [
       "1"
      ]
     },
     "execution_count": 6,
     "metadata": {},
     "output_type": "execute_result"
    }
   ],
   "source": [
    "exp.run_once(increase=True)"
   ]
  },
  {
   "cell_type": "code",
   "execution_count": null,
   "metadata": {
    "pycharm": {
     "name": "#%%\n"
    },
    "scrolled": true
   },
   "outputs": [],
   "source": [
    "exp.run(rounds=8, increase=True)"
   ]
  },
  {
   "cell_type": "markdown",
   "metadata": {},
   "source": [
    "Local training results for each round and each node are available via `exp.training_replies()` (index 0 to (`rounds` - 1) ).\n",
    "\n",
    "For example you can view the training results for the last round below.\n",
    "\n",
    "Different timings (in seconds) are reported for each dataset of a node participating in a round :\n",
    "- `rtime_training` real time (clock time) spent in the training function on the node\n",
    "- `ptime_training` process time (user and system CPU) spent in the training function on the node\n",
    "- `rtime_total` real time (clock time) spent in the researcher between sending the request and handling the response, at the `Job()` layer"
   ]
  },
  {
   "cell_type": "code",
   "execution_count": null,
   "metadata": {
    "pycharm": {
     "name": "#%%\n"
    },
    "scrolled": true
   },
   "outputs": [],
   "source": [
    "print(\"\\nList the training rounds : \", exp.training_replies().keys())\n",
    "\n",
    "print(\"\\nList the nodes for the last training round and their timings : \")\n",
    "round_data = exp.training_replies()[rounds - 1].data()\n",
    "for c in range(len(round_data)):\n",
    "    print(\"\\t- {id} :\\\n",
    "    \\n\\t\\trtime_training={rtraining:.2f} seconds\\\n",
    "    \\n\\t\\tptime_training={ptraining:.2f} seconds\\\n",
    "    \\n\\t\\trtime_total={rtotal:.2f} seconds\".format(id = round_data[c]['node_id'],\n",
    "        rtraining = round_data[c]['timing']['rtime_training'],\n",
    "        ptraining = round_data[c]['timing']['ptime_training'],\n",
    "        rtotal = round_data[c]['timing']['rtime_total']))\n",
    "print('\\n')\n",
    "    \n",
    "exp.training_replies()[rounds - 1].dataframe()"
   ]
  },
  {
   "cell_type": "markdown",
   "metadata": {},
   "source": [
    "Federated parameters for each round are available via `exp.aggregated_params()` (index 0 to (`rounds` - 1) ).\n",
    "\n",
    "For example you can view the federated parameters for the last round of the experiment :"
   ]
  },
  {
   "cell_type": "code",
   "execution_count": null,
   "metadata": {},
   "outputs": [],
   "source": [
    "print(\"\\nList the training rounds : \", exp.aggregated_params().keys())\n",
    "\n",
    "print(\"\\nAccess the federated params for the last training round :\")\n",
    "print(\"\\t- params_path: \", exp.aggregated_params()[rounds - 1]['params_path'])\n",
    "print(\"\\t- parameter data: \", exp.aggregated_params()[rounds - 1]['params'].keys())\n"
   ]
  },
  {
   "cell_type": "markdown",
   "metadata": {
    "pycharm": {
     "name": "#%% md\n"
    }
   },
   "source": [
    "Feel free to run other sample notebooks or try your own models :D"
   ]
  }
 ],
 "metadata": {
  "kernelspec": {
   "display_name": "Python 3 (ipykernel)",
   "language": "python",
   "name": "python3"
  },
  "language_info": {
   "codemirror_mode": {
    "name": "ipython",
    "version": 3
   },
   "file_extension": ".py",
   "mimetype": "text/x-python",
   "name": "python",
   "nbconvert_exporter": "python",
   "pygments_lexer": "ipython3",
   "version": "3.9.7"
  }
 },
 "nbformat": 4,
 "nbformat_minor": 4
}

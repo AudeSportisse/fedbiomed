{
 "cells": [
  {
   "cell_type": "markdown",
   "metadata": {},
   "source": [
    "# Fedbiomed Researcher base example"
   ]
  },
  {
   "cell_type": "markdown",
   "metadata": {},
   "source": [
    "Use for developing (autoreloads changes made across packages)"
   ]
  },
  {
   "cell_type": "code",
   "execution_count": 1,
   "metadata": {},
   "outputs": [],
   "source": [
    "%load_ext autoreload\n",
    "%autoreload 2"
   ]
  },
  {
   "cell_type": "markdown",
   "metadata": {},
   "source": [
    "## Start the network\n",
    "Before running this notebook, start the network with `./scripts/fedbiomed_run network`"
   ]
  },
  {
   "cell_type": "markdown",
   "metadata": {},
   "source": [
    "## Setting the node up\n",
    "It is necessary to previously configure a node:\n",
    "1. `./scripts/fedbiomed_run node add`\n",
    "  * Select option 2 (default) to add MNIST to the node\n",
    "  * Confirm default tags by hitting \"y\" and ENTER\n",
    "  * Pick the folder where MNIST is downloaded (this is due torch issue https://github.com/pytorch/vision/issues/3549)\n",
    "  * Data must have been added (if you get a warning saying that data must be unique is because it's been already added)\n",
    "  \n",
    "2. Check that your data has been added by executing `./scripts/fedbiomed_run node list`\n",
    "3. Run the node using `./scripts/fedbiomed_run node run`. Wait until you get `Starting task manager`. it means you are online."
   ]
  },
  {
   "cell_type": "markdown",
   "metadata": {},
   "source": [
    "## Define an experiment model and parameters\""
   ]
  },
  {
   "cell_type": "markdown",
   "metadata": {},
   "source": [
    "Declare a torch.nn MyTrainingPlan class to send for training on the node"
   ]
  },
  {
   "cell_type": "code",
   "execution_count": 2,
   "metadata": {},
   "outputs": [],
   "source": [
    "import torch\n",
    "import torch.nn as nn\n",
    "from fedbiomed.common.training_plans import TorchTrainingPlan\n",
    "from fedbiomed.common.data import DataManager\n",
    "from torchvision import datasets, transforms\n",
    "\n",
    "# Here we define the model to be used. \n",
    "# You can use any class name (here 'Net')\n",
    "class MyTrainingPlan(TorchTrainingPlan):\n",
    "    def __init__(self, model_args: dict = {}):\n",
    "        super(MyTrainingPlan, self).__init__(model_args)\n",
    "        self.conv1 = nn.Conv2d(1, 32, 3, 1)\n",
    "        self.conv2 = nn.Conv2d(32, 64, 3, 1)\n",
    "        self.dropout1 = nn.Dropout(0.25)\n",
    "        self.dropout2 = nn.Dropout(0.5)\n",
    "        self.fc1 = nn.Linear(9216, 128)\n",
    "        self.fc2 = nn.Linear(128, 10)\n",
    "        \n",
    "        # Here we define the custom dependencies that will be needed by our custom Dataloader\n",
    "        # In this case, we need the torch DataLoader classes\n",
    "        # Since we will train on MNIST, we need datasets and transform from torchvision\n",
    "        deps = [\"from torchvision import datasets, transforms\"]\n",
    "        \n",
    "        self.add_dependency(deps)\n",
    "\n",
    "    def forward(self, x):\n",
    "        x = self.conv1(x)\n",
    "        x = F.relu(x)\n",
    "        x = self.conv2(x)\n",
    "        x = F.relu(x)\n",
    "        x = F.max_pool2d(x, 2)\n",
    "        x = self.dropout1(x)\n",
    "        x = torch.flatten(x, 1)\n",
    "        x = self.fc1(x)\n",
    "        x = F.relu(x)\n",
    "        x = self.dropout2(x)\n",
    "        x = self.fc2(x)\n",
    "        \n",
    "        \n",
    "        output = F.log_softmax(x, dim=1)\n",
    "        return output\n",
    "\n",
    "    def training_data(self, batch_size = 48):\n",
    "        # Custom torch Dataloader for MNIST data\n",
    "        transform = transforms.Compose([transforms.ToTensor(),\n",
    "        transforms.Normalize((0.1307,), (0.3081,))])\n",
    "        dataset1 = datasets.MNIST(self.dataset_path, train=True, download=False, transform=transform)\n",
    "        train_kwargs = {'batch_size': batch_size, 'shuffle': True}\n",
    "        return DataManager(dataset=dataset1, **train_kwargs)\n",
    "    \n",
    "    def training_step(self, data, target):\n",
    "        output = self.forward(data)\n",
    "        loss   = torch.nn.functional.nll_loss(output, target)\n",
    "        return loss\n"
   ]
  },
  {
   "cell_type": "markdown",
   "metadata": {},
   "source": [
    "This group of arguments correspond respectively:\n",
    "* `model_args`: a dictionary with the arguments related to the model (e.g. number of layers, features, etc.). This will be passed to the model class on the node side.\n",
    "* `training_args`: a dictionary containing the arguments for the training routine (e.g. batch size, learning rate, epochs, etc.). This will be passed to the routine on the node side.\n",
    "\n",
    "**NOTE:** typos and/or lack of positional (required) arguments will raise error. 🤓"
   ]
  },
  {
   "cell_type": "code",
   "execution_count": 3,
   "metadata": {
    "pycharm": {
     "name": "#%%\n"
    }
   },
   "outputs": [],
   "source": [
    "model_args = {}\n",
    "\n",
    "training_args = {\n",
    "    'batch_size': 48, \n",
    "    'lr': 1e-3, \n",
    "    'epochs': 1, \n",
    "    'dry_run': False,  \n",
    "    'batch_maxnum': 100, # Fast pass for development : only use ( batch_maxnum * batch_size ) samples\n",
    "    'DP_args': {'type' : 'local', 'sigma': 0.1, 'clip': 1.},\n",
    "}"
   ]
  },
  {
   "cell_type": "markdown",
   "metadata": {},
   "source": [
    "## Declare and run the experiment\n",
    "\n",
    "- search nodes serving data for these `tags`, optionally filter on a list of node ID with `nodes`\n",
    "- run a round of local training on nodes with model defined in `model_path` + federation with `aggregator`\n",
    "- run for `round_limit` rounds, applying the `node_selection_strategy` between the rounds"
   ]
  },
  {
   "cell_type": "code",
   "execution_count": 4,
   "metadata": {
    "pycharm": {
     "name": "#%%\n"
    },
    "scrolled": true
   },
   "outputs": [
    {
     "name": "stderr",
     "output_type": "stream",
     "text": [
      "2022-03-31 20:42:14,959 fedbiomed INFO - Component environment:\n",
      "03/31/2022 20:42:14:INFO:Component environment:\n",
      "2022-03-31 20:42:14,960 fedbiomed INFO - type = ComponentType.RESEARCHER\n",
      "03/31/2022 20:42:14:INFO:type = ComponentType.RESEARCHER\n",
      "2022-03-31 20:42:15,341 fedbiomed INFO - Messaging researcher_25a08309-32d0-4add-838c-c926440bc379 successfully connected to the message broker, object = <fedbiomed.common.messaging.Messaging object at 0x14292b760>\n",
      "03/31/2022 20:42:15:INFO:Messaging researcher_25a08309-32d0-4add-838c-c926440bc379 successfully connected to the message broker, object = <fedbiomed.common.messaging.Messaging object at 0x14292b760>\n",
      "2022-03-31 20:42:15,389 fedbiomed INFO - Searching dataset with data tags: ['#MNIST', '#dataset'] for all nodes\n",
      "03/31/2022 20:42:15:INFO:Searching dataset with data tags: ['#MNIST', '#dataset'] for all nodes\n",
      "2022-03-31 20:42:15,398 fedbiomed INFO - log from: node_2ce8d860-36ff-4f0c-9b96-42bb194a03a3 / DEBUG - Message received: {'researcher_id': 'researcher_25a08309-32d0-4add-838c-c926440bc379', 'tags': ['#MNIST', '#dataset'], 'command': 'search'}\n",
      "03/31/2022 20:42:15:INFO:log from: node_2ce8d860-36ff-4f0c-9b96-42bb194a03a3 / DEBUG - Message received: {'researcher_id': 'researcher_25a08309-32d0-4add-838c-c926440bc379', 'tags': ['#MNIST', '#dataset'], 'command': 'search'}\n",
      "2022-03-31 20:42:25,397 fedbiomed INFO - Node selected for training -> node_2ce8d860-36ff-4f0c-9b96-42bb194a03a3\n",
      "03/31/2022 20:42:25:INFO:Node selected for training -> node_2ce8d860-36ff-4f0c-9b96-42bb194a03a3\n",
      "2022-03-31 20:42:25,414 fedbiomed DEBUG - Model file has been saved: /Users/mlorenzi/works/temp/fedbiomed/var/experiments/Experiment_0000/my_model_d0d1d940-0d05-41f2-bb8f-4a5dfd87e0b1.py\n",
      "03/31/2022 20:42:25:DEBUG:Model file has been saved: /Users/mlorenzi/works/temp/fedbiomed/var/experiments/Experiment_0000/my_model_d0d1d940-0d05-41f2-bb8f-4a5dfd87e0b1.py\n",
      "2022-03-31 20:42:25,613 fedbiomed DEBUG - upload (HTTP POST request) of file /Users/mlorenzi/works/temp/fedbiomed/var/experiments/Experiment_0000/my_model_d0d1d940-0d05-41f2-bb8f-4a5dfd87e0b1.py successful, with status code 201\n",
      "03/31/2022 20:42:25:DEBUG:upload (HTTP POST request) of file /Users/mlorenzi/works/temp/fedbiomed/var/experiments/Experiment_0000/my_model_d0d1d940-0d05-41f2-bb8f-4a5dfd87e0b1.py successful, with status code 201\n",
      "2022-03-31 20:42:26,219 fedbiomed DEBUG - upload (HTTP POST request) of file /Users/mlorenzi/works/temp/fedbiomed/var/experiments/Experiment_0000/aggregated_params_init_a59b81a7-fa53-44c1-a5d8-6123132df17a.pt successful, with status code 201\n",
      "03/31/2022 20:42:26:DEBUG:upload (HTTP POST request) of file /Users/mlorenzi/works/temp/fedbiomed/var/experiments/Experiment_0000/aggregated_params_init_a59b81a7-fa53-44c1-a5d8-6123132df17a.pt successful, with status code 201\n"
     ]
    }
   ],
   "source": [
    "from fedbiomed.researcher.experiment import Experiment\n",
    "from fedbiomed.researcher.aggregators.fedavg import FedAverage\n",
    "\n",
    "tags =  ['#MNIST', '#dataset']\n",
    "rounds = 2\n",
    "\n",
    "exp = Experiment(tags=tags,\n",
    "                 model_args=model_args,\n",
    "                 model_class=MyTrainingPlan,\n",
    "                 training_args=training_args,\n",
    "                 round_limit=rounds,\n",
    "                 aggregator=FedAverage(),\n",
    "                 node_selection_strategy=None)"
   ]
  },
  {
   "cell_type": "markdown",
   "metadata": {
    "pycharm": {
     "name": "#%% md\n"
    }
   },
   "source": [
    "Let's start the experiment.\n",
    "\n",
    "By default, this function doesn't stop until all the `round_limit` rounds are done for all the nodes"
   ]
  },
  {
   "cell_type": "code",
   "execution_count": 5,
   "metadata": {
    "pycharm": {
     "name": "#%%\n"
    },
    "scrolled": true
   },
   "outputs": [
    {
     "name": "stderr",
     "output_type": "stream",
     "text": [
      "2022-03-31 20:42:26,278 fedbiomed INFO - Sampled nodes in round 0 ['node_2ce8d860-36ff-4f0c-9b96-42bb194a03a3']\n",
      "03/31/2022 20:42:26:INFO:Sampled nodes in round 0 ['node_2ce8d860-36ff-4f0c-9b96-42bb194a03a3']\n",
      "2022-03-31 20:42:26,280 fedbiomed INFO - Send message to node node_2ce8d860-36ff-4f0c-9b96-42bb194a03a3 - {'researcher_id': 'researcher_25a08309-32d0-4add-838c-c926440bc379', 'job_id': 'c9a25f57-caa5-442b-89ea-15c064552580', 'training_args': {'test_ratio': 0.0, 'test_on_local_updates': False, 'test_on_global_updates': False, 'test_metric': None, 'test_metric_args': {}, 'batch_size': 48, 'lr': 0.001, 'epochs': 1, 'dry_run': False, 'batch_maxnum': 100, 'DP_args': {'type': 'local', 'sigma': 0.1, 'clip': 1.0}}, 'training': True, 'model_args': {}, 'command': 'train', 'model_url': 'http://localhost:8844/media/uploads/2022/03/31/my_model_d0d1d940-0d05-41f2-bb8f-4a5dfd87e0b1.py', 'params_url': 'http://localhost:8844/media/uploads/2022/03/31/aggregated_params_init_a59b81a7-fa53-44c1-a5d8-6123132df17a.pt', 'model_class': 'MyTrainingPlan', 'training_data': {'node_2ce8d860-36ff-4f0c-9b96-42bb194a03a3': ['dataset_b9765832-3604-48ab-a9f5-101b6eccd065']}}\n",
      "03/31/2022 20:42:26:INFO:Send message to node node_2ce8d860-36ff-4f0c-9b96-42bb194a03a3 - {'researcher_id': 'researcher_25a08309-32d0-4add-838c-c926440bc379', 'job_id': 'c9a25f57-caa5-442b-89ea-15c064552580', 'training_args': {'test_ratio': 0.0, 'test_on_local_updates': False, 'test_on_global_updates': False, 'test_metric': None, 'test_metric_args': {}, 'batch_size': 48, 'lr': 0.001, 'epochs': 1, 'dry_run': False, 'batch_maxnum': 100, 'DP_args': {'type': 'local', 'sigma': 0.1, 'clip': 1.0}}, 'training': True, 'model_args': {}, 'command': 'train', 'model_url': 'http://localhost:8844/media/uploads/2022/03/31/my_model_d0d1d940-0d05-41f2-bb8f-4a5dfd87e0b1.py', 'params_url': 'http://localhost:8844/media/uploads/2022/03/31/aggregated_params_init_a59b81a7-fa53-44c1-a5d8-6123132df17a.pt', 'model_class': 'MyTrainingPlan', 'training_data': {'node_2ce8d860-36ff-4f0c-9b96-42bb194a03a3': ['dataset_b9765832-3604-48ab-a9f5-101b6eccd065']}}\n",
      "2022-03-31 20:42:26,281 fedbiomed DEBUG - researcher_25a08309-32d0-4add-838c-c926440bc379\n",
      "03/31/2022 20:42:26:DEBUG:researcher_25a08309-32d0-4add-838c-c926440bc379\n",
      "2022-03-31 20:42:26,291 fedbiomed INFO - log from: node_2ce8d860-36ff-4f0c-9b96-42bb194a03a3 / DEBUG - Message received: {'researcher_id': 'researcher_25a08309-32d0-4add-838c-c926440bc379', 'job_id': 'c9a25f57-caa5-442b-89ea-15c064552580', 'training_args': {'test_ratio': 0.0, 'test_on_local_updates': False, 'test_on_global_updates': False, 'test_metric': None, 'test_metric_args': {}, 'batch_size': 48, 'lr': 0.001, 'epochs': 1, 'dry_run': False, 'batch_maxnum': 100, 'DP_args': {'type': 'local', 'sigma': 0.1, 'clip': 1.0}}, 'training': True, 'model_args': {}, 'command': 'train', 'model_url': 'http://localhost:8844/media/uploads/2022/03/31/my_model_d0d1d940-0d05-41f2-bb8f-4a5dfd87e0b1.py', 'params_url': 'http://localhost:8844/media/uploads/2022/03/31/aggregated_params_init_a59b81a7-fa53-44c1-a5d8-6123132df17a.pt', 'model_class': 'MyTrainingPlan', 'training_data': {'node_2ce8d860-36ff-4f0c-9b96-42bb194a03a3': ['dataset_b9765832-3604-48ab-a9f5-101b6eccd065']}}\n",
      "03/31/2022 20:42:26:INFO:log from: node_2ce8d860-36ff-4f0c-9b96-42bb194a03a3 / DEBUG - Message received: {'researcher_id': 'researcher_25a08309-32d0-4add-838c-c926440bc379', 'job_id': 'c9a25f57-caa5-442b-89ea-15c064552580', 'training_args': {'test_ratio': 0.0, 'test_on_local_updates': False, 'test_on_global_updates': False, 'test_metric': None, 'test_metric_args': {}, 'batch_size': 48, 'lr': 0.001, 'epochs': 1, 'dry_run': False, 'batch_maxnum': 100, 'DP_args': {'type': 'local', 'sigma': 0.1, 'clip': 1.0}}, 'training': True, 'model_args': {}, 'command': 'train', 'model_url': 'http://localhost:8844/media/uploads/2022/03/31/my_model_d0d1d940-0d05-41f2-bb8f-4a5dfd87e0b1.py', 'params_url': 'http://localhost:8844/media/uploads/2022/03/31/aggregated_params_init_a59b81a7-fa53-44c1-a5d8-6123132df17a.pt', 'model_class': 'MyTrainingPlan', 'training_data': {'node_2ce8d860-36ff-4f0c-9b96-42bb194a03a3': ['dataset_b9765832-3604-48ab-a9f5-101b6eccd065']}}\n",
      "2022-03-31 20:42:26,293 fedbiomed INFO - log from: node_2ce8d860-36ff-4f0c-9b96-42bb194a03a3 / DEBUG - [TASKS QUEUE] Item:{'researcher_id': 'researcher_25a08309-32d0-4add-838c-c926440bc379', 'job_id': 'c9a25f57-caa5-442b-89ea-15c064552580', 'params_url': 'http://localhost:8844/media/uploads/2022/03/31/aggregated_params_init_a59b81a7-fa53-44c1-a5d8-6123132df17a.pt', 'training_args': {'test_ratio': 0.0, 'test_on_local_updates': False, 'test_on_global_updates': False, 'test_metric': None, 'test_metric_args': {}, 'batch_size': 48, 'lr': 0.001, 'epochs': 1, 'dry_run': False, 'batch_maxnum': 100, 'DP_args': {'type': 'local', 'sigma': 0.1, 'clip': 1.0}}, 'training_data': {'node_2ce8d860-36ff-4f0c-9b96-42bb194a03a3': ['dataset_b9765832-3604-48ab-a9f5-101b6eccd065']}, 'training': True, 'model_args': {}, 'model_url': 'http://localhost:8844/media/uploads/2022/03/31/my_model_d0d1d940-0d05-41f2-bb8f-4a5dfd87e0b1.py', 'model_class': 'MyTrainingPlan', 'command': 'train'}\n",
      "03/31/2022 20:42:26:INFO:log from: node_2ce8d860-36ff-4f0c-9b96-42bb194a03a3 / DEBUG - [TASKS QUEUE] Item:{'researcher_id': 'researcher_25a08309-32d0-4add-838c-c926440bc379', 'job_id': 'c9a25f57-caa5-442b-89ea-15c064552580', 'params_url': 'http://localhost:8844/media/uploads/2022/03/31/aggregated_params_init_a59b81a7-fa53-44c1-a5d8-6123132df17a.pt', 'training_args': {'test_ratio': 0.0, 'test_on_local_updates': False, 'test_on_global_updates': False, 'test_metric': None, 'test_metric_args': {}, 'batch_size': 48, 'lr': 0.001, 'epochs': 1, 'dry_run': False, 'batch_maxnum': 100, 'DP_args': {'type': 'local', 'sigma': 0.1, 'clip': 1.0}}, 'training_data': {'node_2ce8d860-36ff-4f0c-9b96-42bb194a03a3': ['dataset_b9765832-3604-48ab-a9f5-101b6eccd065']}, 'training': True, 'model_args': {}, 'model_url': 'http://localhost:8844/media/uploads/2022/03/31/my_model_d0d1d940-0d05-41f2-bb8f-4a5dfd87e0b1.py', 'model_class': 'MyTrainingPlan', 'command': 'train'}\n",
      "2022-03-31 20:42:26,466 fedbiomed INFO - log from: node_2ce8d860-36ff-4f0c-9b96-42bb194a03a3 / DEBUG - upload (HTTP GET request) of file my_model_f8781d0f7b194ba780ab60c00e91d064.py successful, with status code 200\n",
      "03/31/2022 20:42:26:INFO:log from: node_2ce8d860-36ff-4f0c-9b96-42bb194a03a3 / DEBUG - upload (HTTP GET request) of file my_model_f8781d0f7b194ba780ab60c00e91d064.py successful, with status code 200\n",
      "2022-03-31 20:42:26,728 fedbiomed INFO - log from: node_2ce8d860-36ff-4f0c-9b96-42bb194a03a3 / DEBUG - upload (HTTP GET request) of file my_model_2752eec8-b53c-4255-adc4-90ce4e0e2881.pt successful, with status code 200\n",
      "03/31/2022 20:42:26:INFO:log from: node_2ce8d860-36ff-4f0c-9b96-42bb194a03a3 / DEBUG - upload (HTTP GET request) of file my_model_2752eec8-b53c-4255-adc4-90ce4e0e2881.pt successful, with status code 200\n",
      "2022-03-31 20:42:27,163 fedbiomed INFO - log from: node_2ce8d860-36ff-4f0c-9b96-42bb194a03a3 / DEBUG - Dataset path has been set as/Users/mlorenzi/works/temp/MNIST\n",
      "03/31/2022 20:42:27:INFO:log from: node_2ce8d860-36ff-4f0c-9b96-42bb194a03a3 / DEBUG - Dataset path has been set as/Users/mlorenzi/works/temp/MNIST\n",
      "2022-03-31 20:42:27,206 fedbiomed INFO - log from: node_2ce8d860-36ff-4f0c-9b96-42bb194a03a3 / INFO - training with arguments {'history_monitor': <fedbiomed.node.history_monitor.HistoryMonitor object at 0x141758a30>, 'node_args': {'gpu': False, 'gpu_num': None, 'gpu_only': False}, 'test_ratio': 0.0, 'test_on_local_updates': False, 'test_on_global_updates': False, 'test_metric': None, 'test_metric_args': {}, 'batch_size': 48, 'lr': 0.001, 'epochs': 1, 'dry_run': False, 'batch_maxnum': 100, 'DP_args': {'type': 'local', 'sigma': 0.1, 'clip': 1.0}}\n",
      "03/31/2022 20:42:27:INFO:log from: node_2ce8d860-36ff-4f0c-9b96-42bb194a03a3 / INFO - training with arguments {'history_monitor': <fedbiomed.node.history_monitor.HistoryMonitor object at 0x141758a30>, 'node_args': {'gpu': False, 'gpu_num': None, 'gpu_only': False}, 'test_ratio': 0.0, 'test_on_local_updates': False, 'test_on_global_updates': False, 'test_metric': None, 'test_metric_args': {}, 'batch_size': 48, 'lr': 0.001, 'epochs': 1, 'dry_run': False, 'batch_maxnum': 100, 'DP_args': {'type': 'local', 'sigma': 0.1, 'clip': 1.0}}\n"
     ]
    },
    {
     "name": "stderr",
     "output_type": "stream",
     "text": [
      "2022-03-31 20:42:27,210 fedbiomed INFO - log from: node_2ce8d860-36ff-4f0c-9b96-42bb194a03a3 / DEBUG - Using device cpu for training (cuda_available=False, gpu=False, gpu_only=False, use_gpu=False, gpu_num=None)\n",
      "03/31/2022 20:42:27:INFO:log from: node_2ce8d860-36ff-4f0c-9b96-42bb194a03a3 / DEBUG - Using device cpu for training (cuda_available=False, gpu=False, gpu_only=False, use_gpu=False, gpu_num=None)\n",
      "2022-03-31 20:42:27,212 fedbiomed INFO - log from: node_2ce8d860-36ff-4f0c-9b96-42bb194a03a3 / ERROR - Cannot train model in round: FB605: training plan error: Error while running process method -> `__preprocess_ldp`: 'MyTrainingPlan' object has no attribute 'preprocess'`\n",
      "03/31/2022 20:42:27:INFO:log from: node_2ce8d860-36ff-4f0c-9b96-42bb194a03a3 / ERROR - Cannot train model in round: FB605: training plan error: Error while running process method -> `__preprocess_ldp`: 'MyTrainingPlan' object has no attribute 'preprocess'`\n",
      "2022-03-31 20:42:36,287 fedbiomed INFO - Downloading model params after training on node_2ce8d860-36ff-4f0c-9b96-42bb194a03a3 - from \n",
      "03/31/2022 20:42:36:INFO:Downloading model params after training on node_2ce8d860-36ff-4f0c-9b96-42bb194a03a3 - from \n",
      "2022-03-31 20:42:36,291 fedbiomed ERROR - FB604: repository error : bad URL when downloading file node_params_4ca8daf3-a43d-42b0-aabb-51a5214d85e7.pt(details :Invalid URL '': No scheme supplied. Perhaps you meant http://? )\n",
      "03/31/2022 20:42:36:ERROR:FB604: repository error : bad URL when downloading file node_params_4ca8daf3-a43d-42b0-aabb-51a5214d85e7.pt(details :Invalid URL '': No scheme supplied. Perhaps you meant http://? )\n",
      "2022-03-31 20:42:36,293 fedbiomed CRITICAL - Fed-BioMed researcher stopped due to exception:\n",
      "FB604: repository error : bad URL when downloading file node_params_4ca8daf3-a43d-42b0-aabb-51a5214d85e7.pt(details :Invalid URL '': No scheme supplied. Perhaps you meant http://? )\n",
      "03/31/2022 20:42:36:CRITICAL:Fed-BioMed researcher stopped due to exception:\n",
      "FB604: repository error : bad URL when downloading file node_params_4ca8daf3-a43d-42b0-aabb-51a5214d85e7.pt(details :Invalid URL '': No scheme supplied. Perhaps you meant http://? )\n"
     ]
    },
    {
     "name": "stdout",
     "output_type": "stream",
     "text": [
      "\n",
      "--------------------\n",
      "Fed-BioMed researcher stopped due to exception:\n",
      "FB604: repository error : bad URL when downloading file node_params_4ca8daf3-a43d-42b0-aabb-51a5214d85e7.pt(details :Invalid URL '': No scheme supplied. Perhaps you meant http://? )\n",
      "--------------------\n"
     ]
    }
   ],
   "source": [
    "exp.run()"
   ]
  },
  {
   "cell_type": "markdown",
   "metadata": {},
   "source": [
    "Local training results for each round and each node are available via `exp.training_replies()` (index 0 to (`rounds` - 1) ).\n",
    "\n",
    "For example you can view the training results for the last round below.\n",
    "\n",
    "Different timings (in seconds) are reported for each dataset of a node participating in a round :\n",
    "- `rtime_training` real time (clock time) spent in the training function on the node\n",
    "- `ptime_training` process time (user and system CPU) spent in the training function on the node\n",
    "- `rtime_total` real time (clock time) spent in the researcher between sending the request and handling the response, at the `Job()` layer"
   ]
  },
  {
   "cell_type": "code",
   "execution_count": null,
   "metadata": {
    "pycharm": {
     "name": "#%%\n"
    },
    "scrolled": true
   },
   "outputs": [],
   "source": [
    "print(\"\\nList the training rounds : \", exp.training_replies().keys())\n",
    "\n",
    "print(\"\\nList the nodes for the last training round and their timings : \")\n",
    "round_data = exp.training_replies()[rounds - 1].data()\n",
    "for c in range(len(round_data)):\n",
    "    print(\"\\t- {id} :\\\n",
    "    \\n\\t\\trtime_training={rtraining:.2f} seconds\\\n",
    "    \\n\\t\\tptime_training={ptraining:.2f} seconds\\\n",
    "    \\n\\t\\trtime_total={rtotal:.2f} seconds\".format(id = round_data[c]['node_id'],\n",
    "        rtraining = round_data[c]['timing']['rtime_training'],\n",
    "        ptraining = round_data[c]['timing']['ptime_training'],\n",
    "        rtotal = round_data[c]['timing']['rtime_total']))\n",
    "print('\\n')\n",
    "    \n",
    "exp.training_replies()[rounds - 1].dataframe()"
   ]
  },
  {
   "cell_type": "markdown",
   "metadata": {},
   "source": [
    "Federated parameters for each round are available via `exp.aggregated_params()` (index 0 to (`rounds` - 1) ).\n",
    "\n",
    "For example you can view the federated parameters for the last round of the experiment :"
   ]
  },
  {
   "cell_type": "code",
   "execution_count": null,
   "metadata": {},
   "outputs": [],
   "source": [
    "print(\"\\nList the training rounds : \", exp.aggregated_params().keys())\n",
    "\n",
    "print(\"\\nAccess the federated params for the last training round :\")\n",
    "print(\"\\t- params_path: \", exp.aggregated_params()[rounds - 1]['params_path'])\n",
    "print(\"\\t- parameter data: \", exp.aggregated_params()[rounds - 1]['params'].keys())\n"
   ]
  },
  {
   "cell_type": "markdown",
   "metadata": {
    "pycharm": {
     "name": "#%% md\n"
    }
   },
   "source": [
    "Feel free to run other sample notebooks or try your own models :D"
   ]
  }
 ],
 "metadata": {
  "kernelspec": {
   "display_name": "Python 3 (ipykernel)",
   "language": "python",
   "name": "python3"
  },
  "language_info": {
   "codemirror_mode": {
    "name": "ipython",
    "version": 3
   },
   "file_extension": ".py",
   "mimetype": "text/x-python",
   "name": "python",
   "nbconvert_exporter": "python",
   "pygments_lexer": "ipython3",
   "version": "3.9.9"
  }
 },
 "nbformat": 4,
 "nbformat_minor": 4
}

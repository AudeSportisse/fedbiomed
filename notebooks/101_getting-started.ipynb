{
 "cells": [
  {
   "cell_type": "markdown",
   "metadata": {},
   "source": [
    "# Fed-BioMed Researcher base example"
   ]
  },
  {
   "cell_type": "markdown",
   "metadata": {},
   "source": [
    "Use for developing (autoreloads changes made across packages)"
   ]
  },
  {
   "cell_type": "code",
   "execution_count": 14,
   "metadata": {},
   "outputs": [
    {
     "name": "stderr",
     "output_type": "stream",
     "text": [
      "2022-09-01 16:47:15,410 fedbiomed INFO - Component environment:\n",
      "2022-09-01 16:47:15,410 fedbiomed INFO - Component environment:\n",
      "2022-09-01 16:47:15,412 fedbiomed INFO - type = ComponentType.RESEARCHER\n",
      "2022-09-01 16:47:15,412 fedbiomed INFO - type = ComponentType.RESEARCHER\n"
     ]
    },
    {
     "name": "stdout",
     "output_type": "stream",
     "text": [
      "The autoreload extension is already loaded. To reload it, use:\n",
      "  %reload_ext autoreload\n"
     ]
    }
   ],
   "source": [
    "%load_ext autoreload\n",
    "%autoreload 2"
   ]
  },
  {
   "cell_type": "markdown",
   "metadata": {},
   "source": [
    "## Start the network\n",
    "Before running this notebook, start the network with `./scripts/fedbiomed_run network`"
   ]
  },
  {
   "cell_type": "markdown",
   "metadata": {},
   "source": [
    "## Setting the node up\n",
    "It is necessary to previously configure a node:\n",
    "1. `./scripts/fedbiomed_run node add`\n",
    "  * Select option 2 (default) to add MNIST to the node\n",
    "  * Confirm default tags by hitting \"y\" and ENTER\n",
    "  * Pick the folder where MNIST is downloaded (this is due torch issue https://github.com/pytorch/vision/issues/3549)\n",
    "  * Data must have been added (if you get a warning saying that data must be unique is because it's been already added)\n",
    "  \n",
    "2. Check that your data has been added by executing `./scripts/fedbiomed_run node list`\n",
    "3. Run the node using `./scripts/fedbiomed_run node run`. Wait until you get `Starting task manager`. it means you are online."
   ]
  },
  {
   "cell_type": "markdown",
   "metadata": {},
   "source": [
    "## Define an experiment model and parameters\""
   ]
  },
  {
   "cell_type": "markdown",
   "metadata": {},
   "source": [
    "Declare a torch.nn MyTrainingPlan class to send for training on the node"
   ]
  },
  {
   "cell_type": "code",
   "execution_count": 15,
   "metadata": {},
   "outputs": [],
   "source": [
    "import torch\n",
    "import torch.nn as nn\n",
    "from fedbiomed.common.training_plans import TorchTrainingPlan\n",
    "from fedbiomed.common.data import DataManager\n",
    "from torchvision import datasets, transforms\n",
    "\n",
    "# Here we define the model to be used. \n",
    "# You can use any class name (here 'Net')\n",
    "class MyTrainingPlan(TorchTrainingPlan):\n",
    "    def __init__(self, model_args: dict = {}):\n",
    "        super(MyTrainingPlan, self).__init__(model_args)\n",
    "        self.conv1 = nn.Conv2d(1, 32, 3, 1)\n",
    "        self.conv2 = nn.Conv2d(32, 64, 3, 1)\n",
    "        self.dropout1 = nn.Dropout(0.25)\n",
    "        self.dropout2 = nn.Dropout(0.5)\n",
    "        self.fc1 = nn.Linear(9216, 128)\n",
    "        self.fc2 = nn.Linear(128, 10)\n",
    "        \n",
    "        # Here we define the custom dependencies that will be needed by our custom Dataloader\n",
    "        # In this case, we need the torch DataLoader classes\n",
    "        # Since we will train on MNIST, we need datasets and transform from torchvision\n",
    "        deps = [\"from torchvision import datasets, transforms\"]\n",
    "        \n",
    "        self.add_dependency(deps)\n",
    "\n",
    "    def forward(self, x):\n",
    "        x = self.conv1(x)\n",
    "        x = F.relu(x)\n",
    "        x = self.conv2(x)\n",
    "        x = F.relu(x)\n",
    "        x = F.max_pool2d(x, 2)\n",
    "        x = self.dropout1(x)\n",
    "        x = torch.flatten(x, 1)\n",
    "        x = self.fc1(x)\n",
    "        x = F.relu(x)\n",
    "        x = self.dropout2(x)\n",
    "        x = self.fc2(x)\n",
    "        \n",
    "        \n",
    "        output = F.log_softmax(x, dim=1)\n",
    "        return output\n",
    "\n",
    "    def training_data(self, batch_size = 48):\n",
    "        # Custom torch Dataloader for MNIST data\n",
    "        transform = transforms.Compose([transforms.ToTensor(),\n",
    "        transforms.Normalize((0.1307,), (0.3081,))])\n",
    "        dataset1 = datasets.MNIST(self.dataset_path, train=True, download=False, transform=transform)\n",
    "        train_kwargs = {'batch_size': batch_size, 'shuffle': True}\n",
    "        return DataManager(dataset=dataset1, **train_kwargs)\n",
    "    \n",
    "    def training_step(self, data, target):\n",
    "        output = self.forward(data)\n",
    "        loss   = torch.nn.functional.nll_loss(output, target)\n",
    "        return loss\n"
   ]
  },
  {
   "cell_type": "markdown",
   "metadata": {},
   "source": [
    "This group of arguments correspond respectively:\n",
    "* `model_args`: a dictionary with the arguments related to the model (e.g. number of layers, features, etc.). This will be passed to the model class on the node side.\n",
    "* `training_args`: a dictionary containing the arguments for the training routine (e.g. batch size, learning rate, epochs, etc.). This will be passed to the routine on the node side.\n",
    "\n",
    "**NOTE:** typos and/or lack of positional (required) arguments will raise error. 🤓"
   ]
  },
  {
   "cell_type": "code",
   "execution_count": 16,
   "metadata": {
    "pycharm": {
     "name": "#%%\n"
    }
   },
   "outputs": [],
   "source": [
    "model_args = {}\n",
    "\n",
    "training_args = {\n",
    "    'batch_size': 48, \n",
    "    'lr': 1e-3, \n",
    "    'epochs': 1, \n",
    "    'dry_run': False,  \n",
    "    'batch_maxnum': 100 # Fast pass for development : only use ( batch_maxnum * batch_size ) samples\n",
    "}"
   ]
  },
  {
   "cell_type": "markdown",
   "metadata": {},
   "source": [
    "## Declare and run the experiment\n",
    "\n",
    "- search nodes serving data for these `tags`, optionally filter on a list of node ID with `nodes`\n",
    "- run a round of local training on nodes with model defined in `model_path` + federation with `aggregator`\n",
    "- run for `round_limit` rounds, applying the `node_selection_strategy` between the rounds"
   ]
  },
  {
   "cell_type": "code",
   "execution_count": 17,
   "metadata": {
    "pycharm": {
     "name": "#%%\n"
    },
    "scrolled": true
   },
   "outputs": [
    {
     "name": "stderr",
     "output_type": "stream",
     "text": [
      "2022-09-01 16:47:17,931 fedbiomed INFO - Messaging researcher_01a63b2d-c3ed-4064-afba-f31ce5a5848e successfully connected to the message broker, object = <fedbiomed.common.messaging.Messaging object at 0x7f080e50a340>\n",
      "2022-09-01 16:47:17,931 fedbiomed INFO - Messaging researcher_01a63b2d-c3ed-4064-afba-f31ce5a5848e successfully connected to the message broker, object = <fedbiomed.common.messaging.Messaging object at 0x7f080e50a340>\n",
      "2022-09-01 16:47:17,953 fedbiomed INFO - Searching dataset with data tags: ['#MNIST', '#dataset'] for all nodes\n",
      "2022-09-01 16:47:17,953 fedbiomed INFO - Searching dataset with data tags: ['#MNIST', '#dataset'] for all nodes\n",
      "2022-09-01 16:47:27,968 fedbiomed INFO - Node selected for training -> node_a789b8be-7b7e-4923-9086-a06ab22dc5e1\n",
      "2022-09-01 16:47:27,968 fedbiomed INFO - Node selected for training -> node_a789b8be-7b7e-4923-9086-a06ab22dc5e1\n",
      "2022-09-01 16:47:27,986 fedbiomed DEBUG - Model file has been saved: /workspaces/PycharmProjects/fedbiomed/var/experiments/Experiment_0005/my_model_84d1f5de-cf15-4f9c-8e09-f1c6350ee2ce.py\n",
      "2022-09-01 16:47:27,986 fedbiomed DEBUG - Model file has been saved: /workspaces/PycharmProjects/fedbiomed/var/experiments/Experiment_0005/my_model_84d1f5de-cf15-4f9c-8e09-f1c6350ee2ce.py\n",
      "2022-09-01 16:47:28,003 fedbiomed DEBUG - upload (HTTP POST request) of file /workspaces/PycharmProjects/fedbiomed/var/experiments/Experiment_0005/my_model_84d1f5de-cf15-4f9c-8e09-f1c6350ee2ce.py successful, with status code 201\n",
      "2022-09-01 16:47:28,003 fedbiomed DEBUG - upload (HTTP POST request) of file /workspaces/PycharmProjects/fedbiomed/var/experiments/Experiment_0005/my_model_84d1f5de-cf15-4f9c-8e09-f1c6350ee2ce.py successful, with status code 201\n",
      "2022-09-01 16:47:28,108 fedbiomed DEBUG - upload (HTTP POST request) of file /workspaces/PycharmProjects/fedbiomed/var/experiments/Experiment_0005/aggregated_params_init_cb14456c-8e55-4f4a-8bbf-2482abc7f96d.pt successful, with status code 201\n",
      "2022-09-01 16:47:28,108 fedbiomed DEBUG - upload (HTTP POST request) of file /workspaces/PycharmProjects/fedbiomed/var/experiments/Experiment_0005/aggregated_params_init_cb14456c-8e55-4f4a-8bbf-2482abc7f96d.pt successful, with status code 201\n"
     ]
    }
   ],
   "source": [
    "from fedbiomed.researcher.experiment import Experiment\n",
    "from fedbiomed.researcher.aggregators.fedavg import FedAverage\n",
    "\n",
    "tags =  ['#MNIST', '#dataset']\n",
    "rounds = 2\n",
    "\n",
    "exp = Experiment(tags=tags,\n",
    "                 model_args=model_args,\n",
    "                 model_class=MyTrainingPlan,\n",
    "                 training_args=training_args,\n",
    "                 round_limit=rounds,\n",
    "                 aggregator=FedAverage(),\n",
    "                 node_selection_strategy=None)"
   ]
  },
  {
   "cell_type": "markdown",
   "metadata": {
    "pycharm": {
     "name": "#%% md\n"
    }
   },
   "source": [
    "Let's start the experiment.\n",
    "\n",
    "By default, this function doesn't stop until all the `round_limit` rounds are done for all the nodes"
   ]
  },
  {
   "cell_type": "code",
   "execution_count": null,
   "metadata": {},
   "outputs": [],
   "source": [
    "exp.run_once(increase=True)"
   ]
  },
  {
   "cell_type": "code",
   "execution_count": 18,
   "metadata": {
    "pycharm": {
     "name": "#%%\n"
    },
    "scrolled": true
   },
   "outputs": [
    {
     "name": "stderr",
     "output_type": "stream",
     "text": [
      "2022-09-01 16:47:35,204 fedbiomed DEBUG - Auto increasing total rounds for experiment from 2 to 3\n",
      "2022-09-01 16:47:35,204 fedbiomed DEBUG - Auto increasing total rounds for experiment from 2 to 3\n",
      "2022-09-01 16:47:35,206 fedbiomed INFO - Sampled nodes in round 0 ['node_a789b8be-7b7e-4923-9086-a06ab22dc5e1']\n",
      "2022-09-01 16:47:35,206 fedbiomed INFO - Sampled nodes in round 0 ['node_a789b8be-7b7e-4923-9086-a06ab22dc5e1']\n",
      "2022-09-01 16:47:35,207 fedbiomed INFO - \u001b[1mSending request\u001b[0m \n",
      "\t\t\t\t\t\u001b[1m To\u001b[0m: node_a789b8be-7b7e-4923-9086-a06ab22dc5e1 \n",
      "\t\t\t\t\t\u001b[1m Request: \u001b[0m: Perform training with the arguments: {'researcher_id': 'researcher_01a63b2d-c3ed-4064-afba-f31ce5a5848e', 'job_id': '94e9c32d-cd17-49cf-be14-3fad0ba69d64', 'training_args': scheme:\n",
      "{'lr': {'rules': [<class 'float'>, <function TrainingArgs._lr_hook at 0x7f080f2a0430>], 'required': False}, 'batch_size': {'rules': [<class 'int'>], 'required': False}, 'epochs': {'rules': [<class 'int'>], 'required': False}, 'dry_run': {'rules': [<class 'bool'>], 'required': False}, 'batch_maxnum': {'rules': [<class 'int'>], 'required': False}, 'test_ratio': {'rules': [<class 'float'>, <function TrainingArgs._test_ratio_hook at 0x7f080f2a0310>], 'required': False, 'default': 0.0}, 'test_on_local_updates': {'rules': [<class 'bool'>], 'required': False, 'default': False}, 'test_on_global_updates': {'rules': [<class 'bool'>], 'required': False, 'default': False}, 'test_metric': {'rules': [<function TrainingArgs._metric_validation_hook at 0x7f080f2a01f0>], 'required': False, 'default': None}, 'test_metric_args': {'rules': [<class 'dict'>], 'required': False, 'default': {}}, 'log_interval': {'rules': [<class 'int'>], 'required': False}}\n",
      "value:\n",
      "{'batch_size': 48, 'lr': 0.001, 'epochs': 1, 'dry_run': False, 'batch_maxnum': 100, 'test_ratio': 0.0, 'test_on_local_updates': False, 'test_on_global_updates': False, 'test_metric': None, 'test_metric_args': {}}, 'training': True, 'model_args': {}, 'command': 'train', 'model_url': 'http://localhost:8844/media/uploads/2022/09/01/my_model_84d1f5de-cf15-4f9c-8e09-f1c6350ee2ce.py', 'params_url': 'http://localhost:8844/media/uploads/2022/09/01/aggregated_params_init_cb14456c-8e55-4f4a-8bbf-2482abc7f96d.pt', 'model_class': 'MyTrainingPlan', 'training_data': {'node_a789b8be-7b7e-4923-9086-a06ab22dc5e1': ['dataset_3f1f6589-d2f1-47fb-bc5f-2f64d11d4269']}} \n",
      " -----------------------------------------------------------------\n",
      "2022-09-01 16:47:35,207 fedbiomed INFO - \u001b[1mSending request\u001b[0m \n",
      "\t\t\t\t\t\u001b[1m To\u001b[0m: node_a789b8be-7b7e-4923-9086-a06ab22dc5e1 \n",
      "\t\t\t\t\t\u001b[1m Request: \u001b[0m: Perform training with the arguments: {'researcher_id': 'researcher_01a63b2d-c3ed-4064-afba-f31ce5a5848e', 'job_id': '94e9c32d-cd17-49cf-be14-3fad0ba69d64', 'training_args': scheme:\n",
      "{'lr': {'rules': [<class 'float'>, <function TrainingArgs._lr_hook at 0x7f080f2a0430>], 'required': False}, 'batch_size': {'rules': [<class 'int'>], 'required': False}, 'epochs': {'rules': [<class 'int'>], 'required': False}, 'dry_run': {'rules': [<class 'bool'>], 'required': False}, 'batch_maxnum': {'rules': [<class 'int'>], 'required': False}, 'test_ratio': {'rules': [<class 'float'>, <function TrainingArgs._test_ratio_hook at 0x7f080f2a0310>], 'required': False, 'default': 0.0}, 'test_on_local_updates': {'rules': [<class 'bool'>], 'required': False, 'default': False}, 'test_on_global_updates': {'rules': [<class 'bool'>], 'required': False, 'default': False}, 'test_metric': {'rules': [<function TrainingArgs._metric_validation_hook at 0x7f080f2a01f0>], 'required': False, 'default': None}, 'test_metric_args': {'rules': [<class 'dict'>], 'required': False, 'default': {}}, 'log_interval': {'rules': [<class 'int'>], 'required': False}}\n",
      "value:\n",
      "{'batch_size': 48, 'lr': 0.001, 'epochs': 1, 'dry_run': False, 'batch_maxnum': 100, 'test_ratio': 0.0, 'test_on_local_updates': False, 'test_on_global_updates': False, 'test_metric': None, 'test_metric_args': {}}, 'training': True, 'model_args': {}, 'command': 'train', 'model_url': 'http://localhost:8844/media/uploads/2022/09/01/my_model_84d1f5de-cf15-4f9c-8e09-f1c6350ee2ce.py', 'params_url': 'http://localhost:8844/media/uploads/2022/09/01/aggregated_params_init_cb14456c-8e55-4f4a-8bbf-2482abc7f96d.pt', 'model_class': 'MyTrainingPlan', 'training_data': {'node_a789b8be-7b7e-4923-9086-a06ab22dc5e1': ['dataset_3f1f6589-d2f1-47fb-bc5f-2f64d11d4269']}} \n",
      " -----------------------------------------------------------------\n",
      "2022-09-01 16:47:35,208 fedbiomed DEBUG - researcher_01a63b2d-c3ed-4064-afba-f31ce5a5848e\n",
      "2022-09-01 16:47:35,208 fedbiomed DEBUG - researcher_01a63b2d-c3ed-4064-afba-f31ce5a5848e\n",
      "2022-09-01 16:47:35,213 fedbiomed INFO - \u001b[1mERROR\u001b[0m\n",
      "\t\t\t\t\t\u001b[1m NODE\u001b[0m node_a789b8be-7b7e-4923-9086-a06ab22dc5e1\n",
      "\t\t\t\t\t\u001b[1m MESSAGE:\u001b[0m FB601: message error: bad number of parameters: __init__() got an unexpected keyword argument 'current_round'\u001b[0m\n",
      "-----------------------------------------------------------------\n",
      "2022-09-01 16:47:35,213 fedbiomed INFO - \u001b[1mERROR\u001b[0m\n",
      "\t\t\t\t\t\u001b[1m NODE\u001b[0m node_a789b8be-7b7e-4923-9086-a06ab22dc5e1\n",
      "\t\t\t\t\t\u001b[1m MESSAGE:\u001b[0m FB601: message error: bad number of parameters: __init__() got an unexpected keyword argument 'current_round'\u001b[0m\n",
      "-----------------------------------------------------------------\n",
      "2022-09-01 16:47:35,213 fedbiomed INFO - \u001b[1mERROR\u001b[0m\n",
      "\t\t\t\t\t\u001b[1m NODE\u001b[0m node_a789b8be-7b7e-4923-9086-a06ab22dc5e1\n",
      "\t\t\t\t\t\u001b[1m MESSAGE:\u001b[0m FB601: message error: bad number of parameters: __init__() got an unexpected keyword argument 'current_round'\u001b[0m\n",
      "-----------------------------------------------------------------\n",
      "2022-09-01 16:47:35,213 fedbiomed INFO - \u001b[1mERROR\u001b[0m\n",
      "\t\t\t\t\t\u001b[1m NODE\u001b[0m node_a789b8be-7b7e-4923-9086-a06ab22dc5e1\n",
      "\t\t\t\t\t\u001b[1m MESSAGE:\u001b[0m FB601: message error: bad number of parameters: __init__() got an unexpected keyword argument 'current_round'\u001b[0m\n",
      "-----------------------------------------------------------------\n",
      "2022-09-01 16:47:35,213 fedbiomed INFO - \u001b[1mERROR\u001b[0m\n",
      "\t\t\t\t\t\u001b[1m NODE\u001b[0m node_a789b8be-7b7e-4923-9086-a06ab22dc5e1\n",
      "\t\t\t\t\t\u001b[1m MESSAGE:\u001b[0m FB601: message error: bad number of parameters: __init__() got an unexpected keyword argument 'current_round'\u001b[0m\n",
      "-----------------------------------------------------------------\n",
      "2022-09-01 16:47:35,213 fedbiomed INFO - \u001b[1mERROR\u001b[0m\n",
      "\t\t\t\t\t\u001b[1m NODE\u001b[0m node_a789b8be-7b7e-4923-9086-a06ab22dc5e1\n",
      "\t\t\t\t\t\u001b[1m MESSAGE:\u001b[0m FB601: message error: bad number of parameters: __init__() got an unexpected keyword argument 'current_round'\u001b[0m\n",
      "-----------------------------------------------------------------\n",
      "2022-09-01 16:47:35,220 fedbiomed INFO - \u001b[1mERROR\u001b[0m\n",
      "\t\t\t\t\t\u001b[1m NODE\u001b[0m node_a789b8be-7b7e-4923-9086-a06ab22dc5e1\n",
      "\t\t\t\t\t\u001b[1m MESSAGE:\u001b[0m FB601: message error: bad number of parameters: __init__() got an unexpected keyword argument 'current_round'\u001b[0m\n",
      "-----------------------------------------------------------------\n",
      "2022-09-01 16:47:35,220 fedbiomed INFO - \u001b[1mERROR\u001b[0m\n",
      "\t\t\t\t\t\u001b[1m NODE\u001b[0m node_a789b8be-7b7e-4923-9086-a06ab22dc5e1\n",
      "\t\t\t\t\t\u001b[1m MESSAGE:\u001b[0m FB601: message error: bad number of parameters: __init__() got an unexpected keyword argument 'current_round'\u001b[0m\n",
      "-----------------------------------------------------------------\n",
      "2022-09-01 16:47:35,220 fedbiomed INFO - \u001b[1mERROR\u001b[0m\n",
      "\t\t\t\t\t\u001b[1m NODE\u001b[0m node_a789b8be-7b7e-4923-9086-a06ab22dc5e1\n",
      "\t\t\t\t\t\u001b[1m MESSAGE:\u001b[0m FB601: message error: bad number of parameters: __init__() got an unexpected keyword argument 'current_round'\u001b[0m\n",
      "-----------------------------------------------------------------\n",
      "2022-09-01 16:47:35,220 fedbiomed INFO - \u001b[1mERROR\u001b[0m\n",
      "\t\t\t\t\t\u001b[1m NODE\u001b[0m node_a789b8be-7b7e-4923-9086-a06ab22dc5e1\n",
      "\t\t\t\t\t\u001b[1m MESSAGE:\u001b[0m FB601: message error: bad number of parameters: __init__() got an unexpected keyword argument 'current_round'\u001b[0m\n",
      "-----------------------------------------------------------------\n",
      "2022-09-01 16:47:35,224 fedbiomed INFO - \u001b[1mERROR\u001b[0m\n",
      "\t\t\t\t\t\u001b[1m NODE\u001b[0m node_a789b8be-7b7e-4923-9086-a06ab22dc5e1\n",
      "\t\t\t\t\t\u001b[1m MESSAGE:\u001b[0m FB601: message error: bad number of parameters: __init__() got an unexpected keyword argument 'current_round'\u001b[0m\n",
      "-----------------------------------------------------------------\n",
      "2022-09-01 16:47:35,224 fedbiomed INFO - \u001b[1mERROR\u001b[0m\n",
      "\t\t\t\t\t\u001b[1m NODE\u001b[0m node_a789b8be-7b7e-4923-9086-a06ab22dc5e1\n",
      "\t\t\t\t\t\u001b[1m MESSAGE:\u001b[0m FB601: message error: bad number of parameters: __init__() got an unexpected keyword argument 'current_round'\u001b[0m\n",
      "-----------------------------------------------------------------\n"
     ]
    },
    {
     "name": "stderr",
     "output_type": "stream",
     "text": [
      "2022-09-01 16:47:45,222 fedbiomed INFO - Error message received during training: FB300: undetermined node error - FB601: message error: bad number of parameters: __init__() got an unexpected keyword argument 'current_round'\n",
      "2022-09-01 16:47:45,222 fedbiomed INFO - Error message received during training: FB300: undetermined node error - FB601: message error: bad number of parameters: __init__() got an unexpected keyword argument 'current_round'\n",
      "2022-09-01 16:47:45,228 fedbiomed ERROR - FB408: node did not answer during training (node = node_a789b8be-7b7e-4923-9086-a06ab22dc5e1)\n",
      "2022-09-01 16:47:45,228 fedbiomed ERROR - FB408: node did not answer during training (node = node_a789b8be-7b7e-4923-9086-a06ab22dc5e1)\n",
      "2022-09-01 16:47:45,231 fedbiomed CRITICAL - FB407: list of nodes became empty when training (no node has answered)\n",
      "2022-09-01 16:47:45,231 fedbiomed CRITICAL - FB407: list of nodes became empty when training (no node has answered)\n"
     ]
    },
    {
     "name": "stdout",
     "output_type": "stream",
     "text": [
      "\n",
      "--------------------\n",
      "Fed-BioMed researcher stopped due to exception:\n",
      "FB407: list of nodes became empty when training (no node has answered)\n",
      "--------------------\n"
     ]
    },
    {
     "ename": "FedbiomedSilentTerminationError",
     "evalue": "",
     "output_type": "error",
     "traceback": []
    }
   ],
   "source": [
    "exp.run(rounds=3, increase=True)"
   ]
  },
  {
   "cell_type": "markdown",
   "metadata": {},
   "source": [
    "Local training results for each round and each node are available via `exp.training_replies()` (index 0 to (`rounds` - 1) ).\n",
    "\n",
    "For example you can view the training results for the last round below.\n",
    "\n",
    "Different timings (in seconds) are reported for each dataset of a node participating in a round :\n",
    "- `rtime_training` real time (clock time) spent in the training function on the node\n",
    "- `ptime_training` process time (user and system CPU) spent in the training function on the node\n",
    "- `rtime_total` real time (clock time) spent in the researcher between sending the request and handling the response, at the `Job()` layer"
   ]
  },
  {
   "cell_type": "code",
   "execution_count": null,
   "metadata": {
    "pycharm": {
     "name": "#%%\n"
    },
    "scrolled": true
   },
   "outputs": [],
   "source": [
    "print(\"\\nList the training rounds : \", exp.training_replies().keys())\n",
    "\n",
    "print(\"\\nList the nodes for the last training round and their timings : \")\n",
    "round_data = exp.training_replies()[rounds - 1].data()\n",
    "for c in range(len(round_data)):\n",
    "    print(\"\\t- {id} :\\\n",
    "    \\n\\t\\trtime_training={rtraining:.2f} seconds\\\n",
    "    \\n\\t\\tptime_training={ptraining:.2f} seconds\\\n",
    "    \\n\\t\\trtime_total={rtotal:.2f} seconds\".format(id = round_data[c]['node_id'],\n",
    "        rtraining = round_data[c]['timing']['rtime_training'],\n",
    "        ptraining = round_data[c]['timing']['ptime_training'],\n",
    "        rtotal = round_data[c]['timing']['rtime_total']))\n",
    "print('\\n')\n",
    "    \n",
    "exp.training_replies()[rounds - 1].dataframe()"
   ]
  },
  {
   "cell_type": "markdown",
   "metadata": {},
   "source": [
    "Federated parameters for each round are available via `exp.aggregated_params()` (index 0 to (`rounds` - 1) ).\n",
    "\n",
    "For example you can view the federated parameters for the last round of the experiment :"
   ]
  },
  {
   "cell_type": "code",
   "execution_count": null,
   "metadata": {},
   "outputs": [],
   "source": [
    "print(\"\\nList the training rounds : \", exp.aggregated_params().keys())\n",
    "\n",
    "print(\"\\nAccess the federated params for the last training round :\")\n",
    "print(\"\\t- params_path: \", exp.aggregated_params()[rounds - 1]['params_path'])\n",
    "print(\"\\t- parameter data: \", exp.aggregated_params()[rounds - 1]['params'].keys())\n"
   ]
  },
  {
   "cell_type": "markdown",
   "metadata": {
    "pycharm": {
     "name": "#%% md\n"
    }
   },
   "source": [
    "Feel free to run other sample notebooks or try your own models :D"
   ]
  }
 ],
 "metadata": {
  "kernelspec": {
   "display_name": "Python 3 (ipykernel)",
   "language": "python",
   "name": "python3"
  },
  "language_info": {
   "codemirror_mode": {
    "name": "ipython",
    "version": 3
   },
   "file_extension": ".py",
   "mimetype": "text/x-python",
   "name": "python",
   "nbconvert_exporter": "python",
   "pygments_lexer": "ipython3",
   "version": "3.9.13"
  }
 },
 "nbformat": 4,
 "nbformat_minor": 4
}

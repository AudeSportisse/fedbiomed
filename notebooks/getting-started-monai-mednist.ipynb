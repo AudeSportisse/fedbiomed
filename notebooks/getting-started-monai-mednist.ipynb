{
 "cells": [
  {
   "cell_type": "markdown",
   "metadata": {},
   "source": [
    "# Federated 2d image classification with MONAI"
   ]
  },
  {
   "cell_type": "markdown",
   "metadata": {},
   "source": [
    "## Introduction\n",
    "\n",
    "This tutorial shows how to deploy in Fed-BioMed the 2d image classification example provided in the project MONAI (https://monai.io/):\n",
    "\n",
    "https://github.com/Project-MONAI/tutorials/blob/master/2d_classification/mednist_tutorial.ipynb\n",
    "\n",
    "Being MONAI based on PyTorch, the deployment within Fed-BioMed follows seamlessy the same general structure of general PyTorch models. \n",
    "\n",
    "Following the MONAI example, this tutorial is based on the MedNIST dataset:\n",
    "\n",
    "https://github.com/Project-MONAI/MONAI/blob/master/examples/notebooks/mednist_tutorial.ipynb.\n",
    "\n",
    "## Creating MedNIST nodes\n",
    "\n",
    "MedNIST provides an artificial 2d classification dataset created by gathering different medical imaging datasets from TCIA, the RSNA Bone Age Challenge, and the NIH Chest X-ray dataset. The dataset is kindly made available by Dr. Bradley J. Erickson M.D., Ph.D. (Department of Radiology, Mayo Clinic) under the Creative Commons CC BY-SA 4.0 license.\n",
    "\n",
    "To proceed with the tutorial, we created an iid partitioning of the MedNIST dataset between 3 clients. Each client has 3000 image samples for each class. The training partitions are availables at the following link:\n",
    "\n",
    "https://drive.google.com/file/d/1vLIcBdtdAhh6K-vrgCFy_0Y55dxOWZwf/view\n",
    "\n",
    "The dataset owned by each client has structure:\n",
    "\n",
    "\n",
    "└── client_*/\n",
    "\n",
    "    ├── AbdomenCT/\n",
    "    \n",
    "    └── BreastMRI/\n",
    "    \n",
    "    └── CXR/\n",
    "    \n",
    "    └── ChestCT/\n",
    "    \n",
    "    └── Hand/\n",
    "    \n",
    "    └── HeadCT/   \n",
    "\n",
    "To create the federated dataset, we follow the standard procedure for node creation/population of Fed-BioMed. \n",
    "After activating the fedbiomed network with the commands\n",
    "\n",
    "`source ./scripts/fedbiomed_environment network`\n",
    "\n",
    "and \n",
    "\n",
    "`./scripts/fedbiomed_run network`\n",
    "\n",
    "we create a first node by using the commands\n",
    "\n",
    "`source ./scripts/fedbiomed_environment node`\n",
    "\n",
    "`./scripts/fedbiomed_run node start`\n",
    "\n",
    "We then poulate the node with the data of first client:\n",
    "\n",
    "`./scripts/fedbiomed_run node add`\n",
    "\n",
    "We select option 3 (images) to add MedNIST partition of client 1, by just picking the folder of client 1. \n",
    "We can further check that the data has been added by executing `./scripts/fedbiomed_run node list`\n",
    "\n",
    "Following the same procedure, we create the other two nodes with the datasets of client 2 and client 3 respectively.\n"
   ]
  },
  {
   "cell_type": "markdown",
   "metadata": {},
   "source": [
    "## Running Fed-BioMed Researcher"
   ]
  },
  {
   "cell_type": "markdown",
   "metadata": {},
   "source": [
    "We are now ready to start the reseracher enviroment with the command `source ./scripts/fedbiomed_environment researcher`, and open the Jupyter notebook. "
   ]
  },
  {
   "cell_type": "code",
   "execution_count": 1,
   "metadata": {},
   "outputs": [],
   "source": [
    "%load_ext autoreload\n",
    "%autoreload 2"
   ]
  },
  {
   "cell_type": "markdown",
   "metadata": {},
   "source": [
    "We can first quesry the network for the mednist dataset. In this case, the nodes are sharing the respective partitions unsing the same tag `mednist`:"
   ]
  },
  {
   "cell_type": "code",
   "execution_count": 2,
   "metadata": {},
   "outputs": [
    {
     "name": "stderr",
     "output_type": "stream",
     "text": [
      "2021-12-27 23:30:10,754 fedbiomed INFO - Component environment:\n",
      "2021-12-27 23:30:10,755 fedbiomed INFO - - type = ComponentType.RESEARCHER\n",
      "2021-12-27 23:30:13,232 fedbiomed INFO - Messaging researcher_3f89ab24-0886-42c3-b625-d0ade13b2a44 successfully connected to the message broker, object = <fedbiomed.common.messaging.Messaging object at 0x1069dd820>\n",
      "2021-12-27 23:30:13,317 fedbiomed INFO - Listing available datasets in all nodes... \n",
      "2021-12-27 23:30:13,332 fedbiomed INFO - log from: node_5ef29a9f-9647-4c43-b45a-37a67ce9b237 / DEBUG - Message received: {'researcher_id': 'researcher_3f89ab24-0886-42c3-b625-d0ade13b2a44', 'command': 'list'}\n",
      "2021-12-27 23:30:13,345 fedbiomed INFO - log from: node_9261632d-ca98-4d57-81a1-8c109560d8bd / DEBUG - Message received: {'researcher_id': 'researcher_3f89ab24-0886-42c3-b625-d0ade13b2a44', 'command': 'list'}\n",
      "2021-12-27 23:30:13,346 fedbiomed INFO - log from: node_84ef4966-1dae-4d55-aff3-d2bf17c3d68a / DEBUG - Message received: {'researcher_id': 'researcher_3f89ab24-0886-42c3-b625-d0ade13b2a44', 'command': 'list'}\n",
      "2021-12-27 23:30:23,326 fedbiomed INFO - \n",
      " Node: node_5ef29a9f-9647-4c43-b45a-37a67ce9b237 | Number of Datasets: 1 \n",
      "+---------+-------------+-------------+---------------+--------------------+\n",
      "| name    | data_type   | tags        | description   | shape              |\n",
      "+=========+=============+=============+===============+====================+\n",
      "| mednist | images      | ['mednist'] | bla           | [18000, 3, 64, 64] |\n",
      "+---------+-------------+-------------+---------------+--------------------+\n",
      "\n",
      "2021-12-27 23:30:23,328 fedbiomed INFO - \n",
      " Node: node_9261632d-ca98-4d57-81a1-8c109560d8bd | Number of Datasets: 1 \n",
      "+---------+-------------+-------------+---------------+--------------------+\n",
      "| name    | data_type   | tags        | description   | shape              |\n",
      "+=========+=============+=============+===============+====================+\n",
      "| mednist | images      | ['mednist'] | bla           | [16954, 3, 64, 64] |\n",
      "+---------+-------------+-------------+---------------+--------------------+\n",
      "\n",
      "2021-12-27 23:30:23,329 fedbiomed INFO - \n",
      " Node: node_84ef4966-1dae-4d55-aff3-d2bf17c3d68a | Number of Datasets: 1 \n",
      "+---------+-------------+-------------+---------------+--------------------+\n",
      "| name    | data_type   | tags        | description   | shape              |\n",
      "+=========+=============+=============+===============+====================+\n",
      "| mednist | images      | ['mednist'] | bla           | [18000, 3, 64, 64] |\n",
      "+---------+-------------+-------------+---------------+--------------------+\n",
      "\n"
     ]
    },
    {
     "data": {
      "text/plain": [
       "{'node_5ef29a9f-9647-4c43-b45a-37a67ce9b237': [{'name': 'mednist',\n",
       "   'data_type': 'images',\n",
       "   'tags': ['mednist'],\n",
       "   'description': 'bla',\n",
       "   'shape': [18000, 3, 64, 64]}],\n",
       " 'node_9261632d-ca98-4d57-81a1-8c109560d8bd': [{'name': 'mednist',\n",
       "   'data_type': 'images',\n",
       "   'tags': ['mednist'],\n",
       "   'description': 'bla',\n",
       "   'shape': [16954, 3, 64, 64]}],\n",
       " 'node_84ef4966-1dae-4d55-aff3-d2bf17c3d68a': [{'name': 'mednist',\n",
       "   'data_type': 'images',\n",
       "   'tags': ['mednist'],\n",
       "   'description': 'bla',\n",
       "   'shape': [18000, 3, 64, 64]}]}"
      ]
     },
     "execution_count": 2,
     "metadata": {},
     "output_type": "execute_result"
    }
   ],
   "source": [
    "from fedbiomed.researcher.requests import Requests\n",
    "req = Requests()\n",
    "req.list(verbose=True)"
   ]
  },
  {
   "cell_type": "markdown",
   "metadata": {},
   "source": [
    "## Create an experiment to train a model on the data found"
   ]
  },
  {
   "cell_type": "markdown",
   "metadata": {},
   "source": [
    "The code for network and data loader of the MONAI tutorial can now be deployed in Fed-BioMed.\n",
    "We first import the necessary modules from `fedbiomed` and `monai` libraries:"
   ]
  },
  {
   "cell_type": "code",
   "execution_count": 3,
   "metadata": {},
   "outputs": [],
   "source": [
    "from fedbiomed.researcher.environ import environ\n",
    "import tempfile\n",
    "tmp_dir_model = tempfile.TemporaryDirectory(dir=environ['TMP_DIR']+'/')\n",
    "model_file = tmp_dir_model.name + '/class_export_mnist.py'"
   ]
  },
  {
   "cell_type": "code",
   "execution_count": 4,
   "metadata": {},
   "outputs": [],
   "source": [
    "from monai.apps import download_and_extract\n",
    "from monai.config import print_config\n",
    "from monai.data import decollate_batch\n",
    "from monai.metrics import ROCAUCMetric\n",
    "from monai.networks.nets import DenseNet121\n",
    "from monai.transforms import (\n",
    "    Activations,\n",
    "    AddChannel,\n",
    "    AsDiscrete,\n",
    "    Compose,\n",
    "    LoadImage,\n",
    "    RandFlip,\n",
    "    RandRotate,\n",
    "    RandZoom,\n",
    "    ScaleIntensity,\n",
    "    EnsureType,\n",
    ")\n",
    "from monai.utils import set_determinism"
   ]
  },
  {
   "cell_type": "markdown",
   "metadata": {},
   "source": [
    "We can now define the training plan. Note that we can simply use the standard `TorchTrainingPlan` natively provided in Fed-BioMed. We reuse the `MedNISTDataset` data loader defined in the original MONAI tutorial, which is returned by the method `training_data`, which also implements the data parsing from the nodes `dataset_path`. Following the MONAI tutorial, the model is the `DenseNet121`."
   ]
  },
  {
   "cell_type": "code",
   "execution_count": 5,
   "metadata": {},
   "outputs": [
    {
     "name": "stdout",
     "output_type": "stream",
     "text": [
      "Writing /Users/mlorenzi/works/temp/fedbiomed/var/tmp/tmphi8wza9t/class_export_mnist.py\n"
     ]
    }
   ],
   "source": [
    "%%writefile \"$model_file\"\n",
    "\n",
    "import os\n",
    "import numpy as np\n",
    "import torch\n",
    "import torch.nn as nn\n",
    "from fedbiomed.common.torchnn import TorchTrainingPlan\n",
    "from torch.utils.data import DataLoader\n",
    "from torchvision import datasets, transforms\n",
    "\n",
    "from monai.apps import download_and_extract\n",
    "from monai.config import print_config\n",
    "from monai.data import decollate_batch\n",
    "from monai.metrics import ROCAUCMetric\n",
    "from monai.networks.nets import DenseNet121\n",
    "from monai.transforms import (\n",
    "    Activations,\n",
    "    AddChannel,\n",
    "    AsDiscrete,\n",
    "    Compose,\n",
    "    LoadImage,\n",
    "    RandFlip,\n",
    "    RandRotate,\n",
    "    RandZoom,\n",
    "    ScaleIntensity,\n",
    "    EnsureType,\n",
    ")\n",
    "from monai.utils import set_determinism\n",
    "\n",
    "\n",
    "# Here we define the model to be used. \n",
    "# You can use any class name (here 'Net')\n",
    "class MyTrainingPlan(TorchTrainingPlan):\n",
    "    def __init__(self, kwargs):\n",
    "        super(MyTrainingPlan, self).__init__()\n",
    "        \n",
    "        # Here we define the custom dependencies that will be needed by our custom Dataloader\n",
    "        # In this case, we need the torch DataLoader classes\n",
    "        # Since we will train on MNIST, we need datasets and transform from torchvision\n",
    "        deps = [\"import numpy as np\",\n",
    "                \"import os\",\n",
    "                \"from torch.utils.data import DataLoader\",\n",
    "                \"from monai.apps import download_and_extract\",\n",
    "                \"from monai.config import print_config\",\n",
    "                \"from monai.data import decollate_batch\",\n",
    "                \"from monai.metrics import ROCAUCMetric\",\n",
    "                \"from monai.networks.nets import DenseNet121\",\n",
    "                \"from monai.transforms import ( Activations, AddChannel, AsDiscrete, Compose, LoadImage, RandFlip, RandRotate, RandZoom, ScaleIntensity, EnsureType, )\",\n",
    "                \"from monai.utils import set_determinism\",]\n",
    "        self.add_dependency(deps)\n",
    "         \n",
    "        self.num_class =  kwargs['num_class']  \n",
    "        self.model = DenseNet121(spatial_dims=2, in_channels=1,\n",
    "                    out_channels = self.num_class)\n",
    "        \n",
    "        self.loss_function = torch.nn.CrossEntropyLoss()\n",
    "\n",
    "    def forward(self, x):\n",
    "        return self.model(x)\n",
    "\n",
    "    class MedNISTDataset(torch.utils.data.Dataset):\n",
    "            def __init__(self, image_files, labels, transforms):\n",
    "                self.image_files = image_files\n",
    "                self.labels = labels\n",
    "                self.transforms = transforms\n",
    "\n",
    "            def __len__(self):\n",
    "                return len(self.image_files)\n",
    "\n",
    "            def __getitem__(self, index):\n",
    "                return self.transforms(self.image_files[index]), self.labels[index]\n",
    "    \n",
    "    def parse_data(self, path):\n",
    "        print(self.dataset_path)\n",
    "        class_names = sorted(x for x in os.listdir(path)\n",
    "                     if os.path.isdir(os.path.join(path, x)))\n",
    "        num_class = len(class_names)\n",
    "        image_files = [\n",
    "                        [\n",
    "                            os.path.join(path, class_names[i], x)\n",
    "                            for x in os.listdir(os.path.join(path, class_names[i]))\n",
    "                        ]\n",
    "                        for i in range(num_class)\n",
    "                      ]\n",
    "        \n",
    "        return image_files, num_class\n",
    "    \n",
    "    def training_data(self, batch_size = 48):\n",
    "        self.image_files, num_class = self.parse_data(self.dataset_path)\n",
    "        \n",
    "        if self.num_class!=num_class:\n",
    "                raise Exception('number of available classes does not match declared classes')\n",
    "        \n",
    "        num_each = [len(self.image_files[i]) for i in range(self.num_class)]\n",
    "        image_files_list = []\n",
    "        image_class = []\n",
    "        \n",
    "        for i in range(self.num_class):\n",
    "            image_files_list.extend(self.image_files[i])\n",
    "            image_class.extend([i] * num_each[i])\n",
    "        num_total = len(image_class)\n",
    "        \n",
    "        \n",
    "        length = len(image_files_list)\n",
    "        indices = np.arange(length)\n",
    "        np.random.shuffle(indices)\n",
    "\n",
    "        val_split = int(1. * length) \n",
    "        train_indices = indices[:val_split]\n",
    "\n",
    "        train_x = [image_files_list[i] for i in train_indices]\n",
    "        train_y = [image_class[i] for i in train_indices]\n",
    "\n",
    "\n",
    "        train_transforms = Compose(\n",
    "            [\n",
    "                LoadImage(image_only=True),\n",
    "                AddChannel(),\n",
    "                ScaleIntensity(),\n",
    "                RandRotate(range_x=np.pi / 12, prob=0.5, keep_size=True),\n",
    "                RandFlip(spatial_axis=0, prob=0.5),\n",
    "                RandZoom(min_zoom=0.9, max_zoom=1.1, prob=0.5),\n",
    "                EnsureType(),\n",
    "            ]\n",
    "        )\n",
    "\n",
    "        val_transforms = Compose(\n",
    "            [LoadImage(image_only=True), AddChannel(), ScaleIntensity(), EnsureType()])\n",
    "\n",
    "        y_pred_trans = Compose([EnsureType(), Activations(softmax=True)])\n",
    "        y_trans = Compose([EnsureType(), AsDiscrete(to_onehot=num_class)])\n",
    "\n",
    "        print(\n",
    "            f\"Training count: {len(train_x)}\")\n",
    "        \n",
    "        \n",
    "        train_ds = self.MedNISTDataset(train_x, train_y, train_transforms)\n",
    "        train_loader = torch.utils.data.DataLoader(\n",
    "            train_ds, batch_size, shuffle=True)\n",
    "        \n",
    "        return train_loader\n",
    "    \n",
    "    def training_step(self, data, target):\n",
    "        output = self.forward(data)\n",
    "        loss   = self.loss_function(output, target)\n",
    "        return loss\n"
   ]
  },
  {
   "cell_type": "markdown",
   "metadata": {},
   "source": [
    "We now set the model and training parameters. Note that we use only 1 epoch for this experiment, and perform the training on ~26% of the locally available training data."
   ]
  },
  {
   "cell_type": "code",
   "execution_count": 6,
   "metadata": {
    "pycharm": {
     "name": "#%%\n"
    }
   },
   "outputs": [],
   "source": [
    "model_args = {'num_class':6,}\n",
    "\n",
    "training_args = {\n",
    "    'batch_size': 20, \n",
    "    'lr': 1e-5, \n",
    "    'epochs': 1, \n",
    "    'dry_run': False,  \n",
    "    'batch_maxnum':250 # Fast pass for development : only use ( batch_maxnum * batch_size ) samples\n",
    "}"
   ]
  },
  {
   "cell_type": "markdown",
   "metadata": {},
   "source": [
    "The experiment can be now defined, by providing the `mednist` tag, and running the local training on nodes with model defined in `model_path`, standard `aggregator` (FedAvg) and `client_selection_strategy` (all nodes used). Federated learning is going to be perfomed through 3 optimization rounds."
   ]
  },
  {
   "cell_type": "code",
   "execution_count": 7,
   "metadata": {
    "pycharm": {
     "name": "#%%\n"
    },
    "scrolled": true
   },
   "outputs": [
    {
     "name": "stderr",
     "output_type": "stream",
     "text": [
      "2021-12-27 23:46:02,136 fedbiomed INFO - Searching dataset with data tags: ['mednist'] for all nodes\n",
      "2021-12-27 23:46:02,148 fedbiomed INFO - log from: node_5ef29a9f-9647-4c43-b45a-37a67ce9b237 / DEBUG - Message received: {'researcher_id': 'researcher_3f89ab24-0886-42c3-b625-d0ade13b2a44', 'tags': ['mednist'], 'command': 'search'}\n",
      "2021-12-27 23:46:02,151 fedbiomed INFO - log from: node_9261632d-ca98-4d57-81a1-8c109560d8bd / DEBUG - Message received: {'researcher_id': 'researcher_3f89ab24-0886-42c3-b625-d0ade13b2a44', 'tags': ['mednist'], 'command': 'search'}\n",
      "2021-12-27 23:46:02,153 fedbiomed INFO - log from: node_84ef4966-1dae-4d55-aff3-d2bf17c3d68a / DEBUG - Message received: {'researcher_id': 'researcher_3f89ab24-0886-42c3-b625-d0ade13b2a44', 'tags': ['mednist'], 'command': 'search'}\n",
      "2021-12-27 23:46:12,141 fedbiomed INFO - Node selected for training -> node_5ef29a9f-9647-4c43-b45a-37a67ce9b237\n",
      "2021-12-27 23:46:12,142 fedbiomed INFO - Node selected for training -> node_9261632d-ca98-4d57-81a1-8c109560d8bd\n",
      "2021-12-27 23:46:12,143 fedbiomed INFO - Node selected for training -> node_84ef4966-1dae-4d55-aff3-d2bf17c3d68a\n",
      "2021-12-27 23:46:12,144 fedbiomed INFO - Checking data quality of federated datasets...\n",
      "2021-12-27 23:46:12,306 fedbiomed DEBUG - torchnn saved model filename: /Users/mlorenzi/works/temp/fedbiomed/var/tmps3o6i7ne/my_model_888c15bc-65b5-44c1-ba00-39ee4bd10208.py\n"
     ]
    }
   ],
   "source": [
    "from fedbiomed.researcher.experiment import Experiment\n",
    "from fedbiomed.researcher.aggregators.fedavg import FedAverage\n",
    "\n",
    "tags =  ['mednist']\n",
    "rounds = 3\n",
    "\n",
    "exp = Experiment(tags=tags,\n",
    "                 #clients=None,\n",
    "                 model_path=model_file,\n",
    "                 model_args=model_args,\n",
    "                 model_class='MyTrainingPlan',\n",
    "                 training_args=training_args,\n",
    "                 rounds=rounds,\n",
    "                 aggregator=FedAverage(),\n",
    "                 node_selection_strategy=None\n",
    "                )"
   ]
  },
  {
   "cell_type": "markdown",
   "metadata": {
    "pycharm": {
     "name": "#%% md\n"
    }
   },
   "source": [
    "Let's start the experiment.\n",
    "\n",
    "By default, this function doesn't stop until all the `rounds` are done for all the clients"
   ]
  },
  {
   "cell_type": "code",
   "execution_count": 8,
   "metadata": {
    "pycharm": {
     "name": "#%%\n"
    },
    "scrolled": true
   },
   "outputs": [
    {
     "name": "stderr",
     "output_type": "stream",
     "text": [
      "2021-12-27 23:47:13,582 fedbiomed INFO - Sampled nodes in round 0 ['node_5ef29a9f-9647-4c43-b45a-37a67ce9b237', 'node_9261632d-ca98-4d57-81a1-8c109560d8bd', 'node_84ef4966-1dae-4d55-aff3-d2bf17c3d68a']\n",
      "2021-12-27 23:47:13,584 fedbiomed INFO - Send message to node node_5ef29a9f-9647-4c43-b45a-37a67ce9b237 - {'researcher_id': 'researcher_3f89ab24-0886-42c3-b625-d0ade13b2a44', 'job_id': '98eecdb1-ff88-4cbc-ba53-54b4dffef130', 'training_args': {'batch_size': 20, 'lr': 1e-05, 'epochs': 1, 'dry_run': False, 'batch_maxnum': 250}, 'model_args': {'num_class': 6}, 'command': 'train', 'model_url': 'http://localhost:8844/media/uploads/2021/12/27/my_model_888c15bc-65b5-44c1-ba00-39ee4bd10208.py', 'params_url': 'http://localhost:8844/media/uploads/2021/12/27/my_model_e087b56f-3868-4353-bb0e-5873114129a9.pt', 'model_class': 'MyTrainingPlan', 'training_data': {'node_5ef29a9f-9647-4c43-b45a-37a67ce9b237': ['dataset_f07755c7-cde0-474d-8a87-7ae542957c4b']}}\n",
      "2021-12-27 23:47:13,584 fedbiomed DEBUG - researcher_3f89ab24-0886-42c3-b625-d0ade13b2a44\n",
      "2021-12-27 23:47:13,585 fedbiomed INFO - Send message to node node_9261632d-ca98-4d57-81a1-8c109560d8bd - {'researcher_id': 'researcher_3f89ab24-0886-42c3-b625-d0ade13b2a44', 'job_id': '98eecdb1-ff88-4cbc-ba53-54b4dffef130', 'training_args': {'batch_size': 20, 'lr': 1e-05, 'epochs': 1, 'dry_run': False, 'batch_maxnum': 250}, 'model_args': {'num_class': 6}, 'command': 'train', 'model_url': 'http://localhost:8844/media/uploads/2021/12/27/my_model_888c15bc-65b5-44c1-ba00-39ee4bd10208.py', 'params_url': 'http://localhost:8844/media/uploads/2021/12/27/my_model_e087b56f-3868-4353-bb0e-5873114129a9.pt', 'model_class': 'MyTrainingPlan', 'training_data': {'node_9261632d-ca98-4d57-81a1-8c109560d8bd': ['dataset_132eb8e2-aa42-45db-b35e-cfc490157683']}}\n",
      "2021-12-27 23:47:13,586 fedbiomed DEBUG - researcher_3f89ab24-0886-42c3-b625-d0ade13b2a44\n",
      "2021-12-27 23:47:13,587 fedbiomed INFO - Send message to node node_84ef4966-1dae-4d55-aff3-d2bf17c3d68a - {'researcher_id': 'researcher_3f89ab24-0886-42c3-b625-d0ade13b2a44', 'job_id': '98eecdb1-ff88-4cbc-ba53-54b4dffef130', 'training_args': {'batch_size': 20, 'lr': 1e-05, 'epochs': 1, 'dry_run': False, 'batch_maxnum': 250}, 'model_args': {'num_class': 6}, 'command': 'train', 'model_url': 'http://localhost:8844/media/uploads/2021/12/27/my_model_888c15bc-65b5-44c1-ba00-39ee4bd10208.py', 'params_url': 'http://localhost:8844/media/uploads/2021/12/27/my_model_e087b56f-3868-4353-bb0e-5873114129a9.pt', 'model_class': 'MyTrainingPlan', 'training_data': {'node_84ef4966-1dae-4d55-aff3-d2bf17c3d68a': ['dataset_b6fecfe7-8211-4319-b669-7a8abad28173']}}\n",
      "2021-12-27 23:47:13,588 fedbiomed DEBUG - researcher_3f89ab24-0886-42c3-b625-d0ade13b2a44\n",
      "2021-12-27 23:47:13,598 fedbiomed INFO - log from: node_5ef29a9f-9647-4c43-b45a-37a67ce9b237 / DEBUG - Message received: {'researcher_id': 'researcher_3f89ab24-0886-42c3-b625-d0ade13b2a44', 'job_id': '98eecdb1-ff88-4cbc-ba53-54b4dffef130', 'training_args': {'batch_size': 20, 'lr': 1e-05, 'epochs': 1, 'dry_run': False, 'batch_maxnum': 250}, 'model_args': {'num_class': 6}, 'command': 'train', 'model_url': 'http://localhost:8844/media/uploads/2021/12/27/my_model_888c15bc-65b5-44c1-ba00-39ee4bd10208.py', 'params_url': 'http://localhost:8844/media/uploads/2021/12/27/my_model_e087b56f-3868-4353-bb0e-5873114129a9.pt', 'model_class': 'MyTrainingPlan', 'training_data': {'node_5ef29a9f-9647-4c43-b45a-37a67ce9b237': ['dataset_f07755c7-cde0-474d-8a87-7ae542957c4b']}}\n",
      "2021-12-27 23:47:13,600 fedbiomed INFO - log from: node_9261632d-ca98-4d57-81a1-8c109560d8bd / DEBUG - Message received: {'researcher_id': 'researcher_3f89ab24-0886-42c3-b625-d0ade13b2a44', 'job_id': '98eecdb1-ff88-4cbc-ba53-54b4dffef130', 'training_args': {'batch_size': 20, 'lr': 1e-05, 'epochs': 1, 'dry_run': False, 'batch_maxnum': 250}, 'model_args': {'num_class': 6}, 'command': 'train', 'model_url': 'http://localhost:8844/media/uploads/2021/12/27/my_model_888c15bc-65b5-44c1-ba00-39ee4bd10208.py', 'params_url': 'http://localhost:8844/media/uploads/2021/12/27/my_model_e087b56f-3868-4353-bb0e-5873114129a9.pt', 'model_class': 'MyTrainingPlan', 'training_data': {'node_9261632d-ca98-4d57-81a1-8c109560d8bd': ['dataset_132eb8e2-aa42-45db-b35e-cfc490157683']}}\n",
      "2021-12-27 23:47:13,603 fedbiomed INFO - log from: node_5ef29a9f-9647-4c43-b45a-37a67ce9b237 / DEBUG - [TASKS QUEUE] Item:{'researcher_id': 'researcher_3f89ab24-0886-42c3-b625-d0ade13b2a44', 'job_id': '98eecdb1-ff88-4cbc-ba53-54b4dffef130', 'params_url': 'http://localhost:8844/media/uploads/2021/12/27/my_model_e087b56f-3868-4353-bb0e-5873114129a9.pt', 'training_args': {'batch_size': 20, 'lr': 1e-05, 'epochs': 1, 'dry_run': False, 'batch_maxnum': 250}, 'training_data': {'node_5ef29a9f-9647-4c43-b45a-37a67ce9b237': ['dataset_f07755c7-cde0-474d-8a87-7ae542957c4b']}, 'model_args': {'num_class': 6}, 'model_url': 'http://localhost:8844/media/uploads/2021/12/27/my_model_888c15bc-65b5-44c1-ba00-39ee4bd10208.py', 'model_class': 'MyTrainingPlan', 'command': 'train'}\n",
      "2021-12-27 23:47:13,604 fedbiomed INFO - log from: node_84ef4966-1dae-4d55-aff3-d2bf17c3d68a / DEBUG - Message received: {'researcher_id': 'researcher_3f89ab24-0886-42c3-b625-d0ade13b2a44', 'job_id': '98eecdb1-ff88-4cbc-ba53-54b4dffef130', 'training_args': {'batch_size': 20, 'lr': 1e-05, 'epochs': 1, 'dry_run': False, 'batch_maxnum': 250}, 'model_args': {'num_class': 6}, 'command': 'train', 'model_url': 'http://localhost:8844/media/uploads/2021/12/27/my_model_888c15bc-65b5-44c1-ba00-39ee4bd10208.py', 'params_url': 'http://localhost:8844/media/uploads/2021/12/27/my_model_e087b56f-3868-4353-bb0e-5873114129a9.pt', 'model_class': 'MyTrainingPlan', 'training_data': {'node_84ef4966-1dae-4d55-aff3-d2bf17c3d68a': ['dataset_b6fecfe7-8211-4319-b669-7a8abad28173']}}\n",
      "2021-12-27 23:47:13,606 fedbiomed INFO - log from: node_9261632d-ca98-4d57-81a1-8c109560d8bd / DEBUG - [TASKS QUEUE] Item:{'researcher_id': 'researcher_3f89ab24-0886-42c3-b625-d0ade13b2a44', 'job_id': '98eecdb1-ff88-4cbc-ba53-54b4dffef130', 'params_url': 'http://localhost:8844/media/uploads/2021/12/27/my_model_e087b56f-3868-4353-bb0e-5873114129a9.pt', 'training_args': {'batch_size': 20, 'lr': 1e-05, 'epochs': 1, 'dry_run': False, 'batch_maxnum': 250}, 'training_data': {'node_9261632d-ca98-4d57-81a1-8c109560d8bd': ['dataset_132eb8e2-aa42-45db-b35e-cfc490157683']}, 'model_args': {'num_class': 6}, 'model_url': 'http://localhost:8844/media/uploads/2021/12/27/my_model_888c15bc-65b5-44c1-ba00-39ee4bd10208.py', 'model_class': 'MyTrainingPlan', 'command': 'train'}\n",
      "2021-12-27 23:47:13,607 fedbiomed INFO - log from: node_84ef4966-1dae-4d55-aff3-d2bf17c3d68a / DEBUG - [TASKS QUEUE] Item:{'researcher_id': 'researcher_3f89ab24-0886-42c3-b625-d0ade13b2a44', 'job_id': '98eecdb1-ff88-4cbc-ba53-54b4dffef130', 'params_url': 'http://localhost:8844/media/uploads/2021/12/27/my_model_e087b56f-3868-4353-bb0e-5873114129a9.pt', 'training_args': {'batch_size': 20, 'lr': 1e-05, 'epochs': 1, 'dry_run': False, 'batch_maxnum': 250}, 'training_data': {'node_84ef4966-1dae-4d55-aff3-d2bf17c3d68a': ['dataset_b6fecfe7-8211-4319-b669-7a8abad28173']}, 'model_args': {'num_class': 6}, 'model_url': 'http://localhost:8844/media/uploads/2021/12/27/my_model_888c15bc-65b5-44c1-ba00-39ee4bd10208.py', 'model_class': 'MyTrainingPlan', 'command': 'train'}\n",
      "2021-12-27 23:47:16,648 fedbiomed INFO - log from: node_9261632d-ca98-4d57-81a1-8c109560d8bd / INFO - {'monitor': <fedbiomed.node.history_monitor.HistoryMonitor object at 0x131366940>, 'batch_size': 20, 'lr': 1e-05, 'epochs': 1, 'dry_run': False, 'batch_maxnum': 250}\n",
      "2021-12-27 23:47:16,649 fedbiomed INFO - log from: node_9261632d-ca98-4d57-81a1-8c109560d8bd / DEBUG - Dataset_path/Users/mlorenzi/works/temp/MedNIST/client_3\n",
      "2021-12-27 23:47:16,650 fedbiomed INFO - log from: node_5ef29a9f-9647-4c43-b45a-37a67ce9b237 / INFO - {'monitor': <fedbiomed.node.history_monitor.HistoryMonitor object at 0x12ead79d0>, 'batch_size': 20, 'lr': 1e-05, 'epochs': 1, 'dry_run': False, 'batch_maxnum': 250}\n",
      "2021-12-27 23:47:16,652 fedbiomed INFO - log from: node_5ef29a9f-9647-4c43-b45a-37a67ce9b237 / DEBUG - Dataset_path/Users/mlorenzi/works/temp/MedNIST/client_2\n",
      "2021-12-27 23:47:16,654 fedbiomed INFO - log from: node_84ef4966-1dae-4d55-aff3-d2bf17c3d68a / INFO - {'monitor': <fedbiomed.node.history_monitor.HistoryMonitor object at 0x136bd58b0>, 'batch_size': 20, 'lr': 1e-05, 'epochs': 1, 'dry_run': False, 'batch_maxnum': 250}\n"
     ]
    },
    {
     "name": "stderr",
     "output_type": "stream",
     "text": [
      "2021-12-27 23:47:16,655 fedbiomed INFO - log from: node_84ef4966-1dae-4d55-aff3-d2bf17c3d68a / DEBUG - Dataset_path/Users/mlorenzi/works/temp/MedNIST/client_1\n",
      "2021-12-27 23:47:18,172 fedbiomed INFO - log from: node_9261632d-ca98-4d57-81a1-8c109560d8bd / INFO - Train Epoch: 1 [0/16954 (0%)]\tLoss: 1.850204\n",
      "2021-12-27 23:47:18,179 fedbiomed INFO - log from: node_5ef29a9f-9647-4c43-b45a-37a67ce9b237 / INFO - Train Epoch: 1 [0/18000 (0%)]\tLoss: 1.787554\n",
      "2021-12-27 23:47:18,208 fedbiomed INFO - log from: node_84ef4966-1dae-4d55-aff3-d2bf17c3d68a / INFO - Train Epoch: 1 [0/18000 (0%)]\tLoss: 1.793108\n",
      "2021-12-27 23:47:29,897 fedbiomed INFO - log from: node_5ef29a9f-9647-4c43-b45a-37a67ce9b237 / INFO - Train Epoch: 1 [200/18000 (1%)]\tLoss: 1.787182\n",
      "2021-12-27 23:47:29,903 fedbiomed INFO - log from: node_84ef4966-1dae-4d55-aff3-d2bf17c3d68a / INFO - Train Epoch: 1 [200/18000 (1%)]\tLoss: 1.687304\n",
      "2021-12-27 23:47:29,909 fedbiomed INFO - log from: node_9261632d-ca98-4d57-81a1-8c109560d8bd / INFO - Train Epoch: 1 [200/16954 (1%)]\tLoss: 1.671844\n",
      "2021-12-27 23:47:39,851 fedbiomed INFO - log from: node_9261632d-ca98-4d57-81a1-8c109560d8bd / INFO - Train Epoch: 1 [400/16954 (2%)]\tLoss: 1.683462\n",
      "2021-12-27 23:47:39,968 fedbiomed INFO - log from: node_84ef4966-1dae-4d55-aff3-d2bf17c3d68a / INFO - Train Epoch: 1 [400/18000 (2%)]\tLoss: 1.612314\n",
      "2021-12-27 23:47:39,970 fedbiomed INFO - log from: node_5ef29a9f-9647-4c43-b45a-37a67ce9b237 / INFO - Train Epoch: 1 [400/18000 (2%)]\tLoss: 1.570665\n",
      "2021-12-27 23:47:50,293 fedbiomed INFO - log from: node_9261632d-ca98-4d57-81a1-8c109560d8bd / INFO - Train Epoch: 1 [600/16954 (4%)]\tLoss: 1.565837\n",
      "2021-12-27 23:47:50,523 fedbiomed INFO - log from: node_5ef29a9f-9647-4c43-b45a-37a67ce9b237 / INFO - Train Epoch: 1 [600/18000 (3%)]\tLoss: 1.601431\n",
      "2021-12-27 23:47:50,524 fedbiomed INFO - log from: node_84ef4966-1dae-4d55-aff3-d2bf17c3d68a / INFO - Train Epoch: 1 [600/18000 (3%)]\tLoss: 1.499379\n",
      "2021-12-27 23:48:01,326 fedbiomed INFO - log from: node_9261632d-ca98-4d57-81a1-8c109560d8bd / INFO - Train Epoch: 1 [800/16954 (5%)]\tLoss: 1.391496\n",
      "2021-12-27 23:48:01,526 fedbiomed INFO - log from: node_84ef4966-1dae-4d55-aff3-d2bf17c3d68a / INFO - Train Epoch: 1 [800/18000 (4%)]\tLoss: 1.480798\n",
      "2021-12-27 23:48:01,634 fedbiomed INFO - log from: node_5ef29a9f-9647-4c43-b45a-37a67ce9b237 / INFO - Train Epoch: 1 [800/18000 (4%)]\tLoss: 1.295124\n",
      "2021-12-27 23:48:12,513 fedbiomed INFO - log from: node_9261632d-ca98-4d57-81a1-8c109560d8bd / INFO - Train Epoch: 1 [1000/16954 (6%)]\tLoss: 1.318391\n",
      "2021-12-27 23:48:12,695 fedbiomed INFO - log from: node_84ef4966-1dae-4d55-aff3-d2bf17c3d68a / INFO - Train Epoch: 1 [1000/18000 (6%)]\tLoss: 1.473253\n",
      "2021-12-27 23:48:12,858 fedbiomed INFO - log from: node_5ef29a9f-9647-4c43-b45a-37a67ce9b237 / INFO - Train Epoch: 1 [1000/18000 (6%)]\tLoss: 1.219025\n",
      "2021-12-27 23:48:24,308 fedbiomed INFO - log from: node_9261632d-ca98-4d57-81a1-8c109560d8bd / INFO - Train Epoch: 1 [1200/16954 (7%)]\tLoss: 1.219750\n",
      "2021-12-27 23:48:24,467 fedbiomed INFO - log from: node_84ef4966-1dae-4d55-aff3-d2bf17c3d68a / INFO - Train Epoch: 1 [1200/18000 (7%)]\tLoss: 1.194438\n",
      "2021-12-27 23:48:24,770 fedbiomed INFO - log from: node_5ef29a9f-9647-4c43-b45a-37a67ce9b237 / INFO - Train Epoch: 1 [1200/18000 (7%)]\tLoss: 1.266959\n",
      "2021-12-27 23:48:35,364 fedbiomed INFO - log from: node_9261632d-ca98-4d57-81a1-8c109560d8bd / INFO - Train Epoch: 1 [1400/16954 (8%)]\tLoss: 1.228891\n",
      "2021-12-27 23:48:35,490 fedbiomed INFO - log from: node_84ef4966-1dae-4d55-aff3-d2bf17c3d68a / INFO - Train Epoch: 1 [1400/18000 (8%)]\tLoss: 1.278995\n",
      "2021-12-27 23:48:35,939 fedbiomed INFO - log from: node_5ef29a9f-9647-4c43-b45a-37a67ce9b237 / INFO - Train Epoch: 1 [1400/18000 (8%)]\tLoss: 1.138926\n",
      "2021-12-27 23:48:46,398 fedbiomed INFO - log from: node_9261632d-ca98-4d57-81a1-8c109560d8bd / INFO - Train Epoch: 1 [1600/16954 (9%)]\tLoss: 0.920593\n",
      "2021-12-27 23:48:46,536 fedbiomed INFO - log from: node_84ef4966-1dae-4d55-aff3-d2bf17c3d68a / INFO - Train Epoch: 1 [1600/18000 (9%)]\tLoss: 1.071332\n",
      "2021-12-27 23:48:47,107 fedbiomed INFO - log from: node_5ef29a9f-9647-4c43-b45a-37a67ce9b237 / INFO - Train Epoch: 1 [1600/18000 (9%)]\tLoss: 1.081755\n",
      "2021-12-27 23:48:58,626 fedbiomed INFO - log from: node_9261632d-ca98-4d57-81a1-8c109560d8bd / INFO - Train Epoch: 1 [1800/16954 (11%)]\tLoss: 1.055387\n",
      "2021-12-27 23:48:58,711 fedbiomed INFO - log from: node_84ef4966-1dae-4d55-aff3-d2bf17c3d68a / INFO - Train Epoch: 1 [1800/18000 (10%)]\tLoss: 1.081767\n",
      "2021-12-27 23:48:59,519 fedbiomed INFO - log from: node_5ef29a9f-9647-4c43-b45a-37a67ce9b237 / INFO - Train Epoch: 1 [1800/18000 (10%)]\tLoss: 1.137141\n",
      "2021-12-27 23:49:09,696 fedbiomed INFO - log from: node_9261632d-ca98-4d57-81a1-8c109560d8bd / INFO - Train Epoch: 1 [2000/16954 (12%)]\tLoss: 0.960339\n",
      "2021-12-27 23:49:09,864 fedbiomed INFO - log from: node_84ef4966-1dae-4d55-aff3-d2bf17c3d68a / INFO - Train Epoch: 1 [2000/18000 (11%)]\tLoss: 1.013658\n",
      "2021-12-27 23:49:10,612 fedbiomed INFO - log from: node_5ef29a9f-9647-4c43-b45a-37a67ce9b237 / INFO - Train Epoch: 1 [2000/18000 (11%)]\tLoss: 1.088033\n",
      "2021-12-27 23:49:21,726 fedbiomed INFO - log from: node_9261632d-ca98-4d57-81a1-8c109560d8bd / INFO - Train Epoch: 1 [2200/16954 (13%)]\tLoss: 0.974685\n",
      "2021-12-27 23:49:21,928 fedbiomed INFO - log from: node_84ef4966-1dae-4d55-aff3-d2bf17c3d68a / INFO - Train Epoch: 1 [2200/18000 (12%)]\tLoss: 0.885626\n",
      "2021-12-27 23:49:22,631 fedbiomed INFO - log from: node_5ef29a9f-9647-4c43-b45a-37a67ce9b237 / INFO - Train Epoch: 1 [2200/18000 (12%)]\tLoss: 0.899456\n",
      "2021-12-27 23:49:33,679 fedbiomed INFO - log from: node_9261632d-ca98-4d57-81a1-8c109560d8bd / INFO - Train Epoch: 1 [2400/16954 (14%)]\tLoss: 1.019156\n",
      "2021-12-27 23:49:33,921 fedbiomed INFO - log from: node_84ef4966-1dae-4d55-aff3-d2bf17c3d68a / INFO - Train Epoch: 1 [2400/18000 (13%)]\tLoss: 0.932473\n",
      "2021-12-27 23:49:34,604 fedbiomed INFO - log from: node_5ef29a9f-9647-4c43-b45a-37a67ce9b237 / INFO - Train Epoch: 1 [2400/18000 (13%)]\tLoss: 0.832226\n",
      "2021-12-27 23:49:44,693 fedbiomed INFO - log from: node_9261632d-ca98-4d57-81a1-8c109560d8bd / INFO - Train Epoch: 1 [2600/16954 (15%)]\tLoss: 0.977685\n",
      "2021-12-27 23:49:44,923 fedbiomed INFO - log from: node_84ef4966-1dae-4d55-aff3-d2bf17c3d68a / INFO - Train Epoch: 1 [2600/18000 (14%)]\tLoss: 0.958099\n",
      "2021-12-27 23:49:45,436 fedbiomed INFO - log from: node_5ef29a9f-9647-4c43-b45a-37a67ce9b237 / INFO - Train Epoch: 1 [2600/18000 (14%)]\tLoss: 0.920620\n",
      "2021-12-27 23:49:55,733 fedbiomed INFO - log from: node_9261632d-ca98-4d57-81a1-8c109560d8bd / INFO - Train Epoch: 1 [2800/16954 (17%)]\tLoss: 0.926426\n",
      "2021-12-27 23:49:56,115 fedbiomed INFO - log from: node_84ef4966-1dae-4d55-aff3-d2bf17c3d68a / INFO - Train Epoch: 1 [2800/18000 (16%)]\tLoss: 0.838715\n",
      "2021-12-27 23:49:56,719 fedbiomed INFO - log from: node_5ef29a9f-9647-4c43-b45a-37a67ce9b237 / INFO - Train Epoch: 1 [2800/18000 (16%)]\tLoss: 0.809223\n",
      "2021-12-27 23:50:07,495 fedbiomed INFO - log from: node_9261632d-ca98-4d57-81a1-8c109560d8bd / INFO - Train Epoch: 1 [3000/16954 (18%)]\tLoss: 0.789000\n",
      "2021-12-27 23:50:07,847 fedbiomed INFO - log from: node_84ef4966-1dae-4d55-aff3-d2bf17c3d68a / INFO - Train Epoch: 1 [3000/18000 (17%)]\tLoss: 0.852902\n",
      "2021-12-27 23:50:08,167 fedbiomed INFO - log from: node_5ef29a9f-9647-4c43-b45a-37a67ce9b237 / INFO - Train Epoch: 1 [3000/18000 (17%)]\tLoss: 0.914856\n",
      "2021-12-27 23:50:19,097 fedbiomed INFO - log from: node_9261632d-ca98-4d57-81a1-8c109560d8bd / INFO - Train Epoch: 1 [3200/16954 (19%)]\tLoss: 0.723965\n",
      "2021-12-27 23:50:19,516 fedbiomed INFO - log from: node_84ef4966-1dae-4d55-aff3-d2bf17c3d68a / INFO - Train Epoch: 1 [3200/18000 (18%)]\tLoss: 0.705101\n",
      "2021-12-27 23:50:19,832 fedbiomed INFO - log from: node_5ef29a9f-9647-4c43-b45a-37a67ce9b237 / INFO - Train Epoch: 1 [3200/18000 (18%)]\tLoss: 0.700687\n",
      "2021-12-27 23:50:30,320 fedbiomed INFO - log from: node_9261632d-ca98-4d57-81a1-8c109560d8bd / INFO - Train Epoch: 1 [3400/16954 (20%)]\tLoss: 0.741807\n",
      "2021-12-27 23:50:30,777 fedbiomed INFO - log from: node_84ef4966-1dae-4d55-aff3-d2bf17c3d68a / INFO - Train Epoch: 1 [3400/18000 (19%)]\tLoss: 0.626644\n",
      "2021-12-27 23:50:31,057 fedbiomed INFO - log from: node_5ef29a9f-9647-4c43-b45a-37a67ce9b237 / INFO - Train Epoch: 1 [3400/18000 (19%)]\tLoss: 0.646968\n"
     ]
    },
    {
     "name": "stderr",
     "output_type": "stream",
     "text": [
      "2021-12-27 23:50:42,061 fedbiomed INFO - log from: node_9261632d-ca98-4d57-81a1-8c109560d8bd / INFO - Train Epoch: 1 [3600/16954 (21%)]\tLoss: 0.821983\n",
      "2021-12-27 23:50:42,537 fedbiomed INFO - log from: node_84ef4966-1dae-4d55-aff3-d2bf17c3d68a / INFO - Train Epoch: 1 [3600/18000 (20%)]\tLoss: 0.551728\n",
      "2021-12-27 23:50:42,728 fedbiomed INFO - log from: node_5ef29a9f-9647-4c43-b45a-37a67ce9b237 / INFO - Train Epoch: 1 [3600/18000 (20%)]\tLoss: 0.772152\n",
      "2021-12-27 23:50:53,264 fedbiomed INFO - log from: node_9261632d-ca98-4d57-81a1-8c109560d8bd / INFO - Train Epoch: 1 [3800/16954 (22%)]\tLoss: 0.557703\n",
      "2021-12-27 23:50:53,643 fedbiomed INFO - log from: node_84ef4966-1dae-4d55-aff3-d2bf17c3d68a / INFO - Train Epoch: 1 [3800/18000 (21%)]\tLoss: 0.558325\n",
      "2021-12-27 23:50:53,833 fedbiomed INFO - log from: node_5ef29a9f-9647-4c43-b45a-37a67ce9b237 / INFO - Train Epoch: 1 [3800/18000 (21%)]\tLoss: 0.613698\n",
      "2021-12-27 23:51:05,675 fedbiomed INFO - log from: node_9261632d-ca98-4d57-81a1-8c109560d8bd / INFO - Train Epoch: 1 [4000/16954 (24%)]\tLoss: 0.668817\n",
      "2021-12-27 23:51:06,333 fedbiomed INFO - log from: node_84ef4966-1dae-4d55-aff3-d2bf17c3d68a / INFO - Train Epoch: 1 [4000/18000 (22%)]\tLoss: 0.637082\n",
      "2021-12-27 23:51:06,548 fedbiomed INFO - log from: node_5ef29a9f-9647-4c43-b45a-37a67ce9b237 / INFO - Train Epoch: 1 [4000/18000 (22%)]\tLoss: 0.789326\n",
      "2021-12-27 23:51:17,345 fedbiomed INFO - log from: node_9261632d-ca98-4d57-81a1-8c109560d8bd / INFO - Train Epoch: 1 [4200/16954 (25%)]\tLoss: 0.650400\n",
      "2021-12-27 23:51:17,721 fedbiomed INFO - log from: node_84ef4966-1dae-4d55-aff3-d2bf17c3d68a / INFO - Train Epoch: 1 [4200/18000 (23%)]\tLoss: 0.690344\n",
      "2021-12-27 23:51:17,927 fedbiomed INFO - log from: node_5ef29a9f-9647-4c43-b45a-37a67ce9b237 / INFO - Train Epoch: 1 [4200/18000 (23%)]\tLoss: 0.500961\n",
      "2021-12-27 23:51:29,249 fedbiomed INFO - log from: node_9261632d-ca98-4d57-81a1-8c109560d8bd / INFO - Train Epoch: 1 [4400/16954 (26%)]\tLoss: 0.468500\n",
      "2021-12-27 23:51:29,828 fedbiomed INFO - log from: node_84ef4966-1dae-4d55-aff3-d2bf17c3d68a / INFO - Train Epoch: 1 [4400/18000 (24%)]\tLoss: 0.498321\n",
      "2021-12-27 23:51:30,123 fedbiomed INFO - log from: node_5ef29a9f-9647-4c43-b45a-37a67ce9b237 / INFO - Train Epoch: 1 [4400/18000 (24%)]\tLoss: 0.613246\n",
      "2021-12-27 23:51:41,933 fedbiomed INFO - log from: node_9261632d-ca98-4d57-81a1-8c109560d8bd / INFO - Train Epoch: 1 [4600/16954 (27%)]\tLoss: 0.450978\n",
      "2021-12-27 23:51:42,346 fedbiomed INFO - log from: node_84ef4966-1dae-4d55-aff3-d2bf17c3d68a / INFO - Train Epoch: 1 [4600/18000 (26%)]\tLoss: 0.468786\n",
      "2021-12-27 23:51:42,481 fedbiomed INFO - log from: node_5ef29a9f-9647-4c43-b45a-37a67ce9b237 / INFO - Train Epoch: 1 [4600/18000 (26%)]\tLoss: 0.453640\n",
      "2021-12-27 23:51:54,483 fedbiomed INFO - log from: node_9261632d-ca98-4d57-81a1-8c109560d8bd / INFO - Train Epoch: 1 [4800/16954 (28%)]\tLoss: 0.586553\n",
      "2021-12-27 23:51:54,889 fedbiomed INFO - log from: node_84ef4966-1dae-4d55-aff3-d2bf17c3d68a / INFO - Train Epoch: 1 [4800/18000 (27%)]\tLoss: 0.537908\n",
      "2021-12-27 23:51:55,068 fedbiomed INFO - log from: node_5ef29a9f-9647-4c43-b45a-37a67ce9b237 / INFO - Train Epoch: 1 [4800/18000 (27%)]\tLoss: 0.478533\n",
      "2021-12-27 23:52:07,257 fedbiomed INFO - log from: node_9261632d-ca98-4d57-81a1-8c109560d8bd / DEBUG - Reached 250 batches for this epoch, ignore remaining data\n",
      "2021-12-27 23:52:07,866 fedbiomed INFO - log from: node_84ef4966-1dae-4d55-aff3-d2bf17c3d68a / DEBUG - Reached 250 batches for this epoch, ignore remaining data\n",
      "2021-12-27 23:52:08,032 fedbiomed INFO - log from: node_5ef29a9f-9647-4c43-b45a-37a67ce9b237 / DEBUG - Reached 250 batches for this epoch, ignore remaining data\n",
      "2021-12-27 23:52:15,146 fedbiomed INFO - log from: node_9261632d-ca98-4d57-81a1-8c109560d8bd / INFO - results uploaded successfully \n",
      "2021-12-27 23:52:15,313 fedbiomed INFO - log from: node_5ef29a9f-9647-4c43-b45a-37a67ce9b237 / INFO - results uploaded successfully \n",
      "2021-12-27 23:52:15,718 fedbiomed INFO - log from: node_84ef4966-1dae-4d55-aff3-d2bf17c3d68a / INFO - results uploaded successfully \n",
      "2021-12-27 23:52:23,762 fedbiomed INFO - Downloading model params after training on node_9261632d-ca98-4d57-81a1-8c109560d8bd - from http://localhost:8844/media/uploads/2021/12/27/node_params_c59874d7-1142-44d8-a947-7453cef24414.pt\n",
      "2021-12-27 23:52:24,793 fedbiomed INFO - Downloading model params after training on node_5ef29a9f-9647-4c43-b45a-37a67ce9b237 - from http://localhost:8844/media/uploads/2021/12/27/node_params_0c0e4739-3a1b-411f-b2c7-8cc0351ddef0.pt\n",
      "2021-12-27 23:52:25,702 fedbiomed INFO - Downloading model params after training on node_84ef4966-1dae-4d55-aff3-d2bf17c3d68a - from http://localhost:8844/media/uploads/2021/12/27/node_params_fd73c283-97ce-4663-9767-5c1646b87206.pt\n",
      "2021-12-27 23:52:27,097 fedbiomed INFO - Nodes that successfully reply in round 0 ['node_9261632d-ca98-4d57-81a1-8c109560d8bd', 'node_5ef29a9f-9647-4c43-b45a-37a67ce9b237', 'node_84ef4966-1dae-4d55-aff3-d2bf17c3d68a']\n",
      "2021-12-27 23:52:29,604 fedbiomed INFO - Sampled nodes in round 1 ['node_5ef29a9f-9647-4c43-b45a-37a67ce9b237', 'node_9261632d-ca98-4d57-81a1-8c109560d8bd', 'node_84ef4966-1dae-4d55-aff3-d2bf17c3d68a']\n",
      "2021-12-27 23:52:29,605 fedbiomed INFO - Send message to node node_5ef29a9f-9647-4c43-b45a-37a67ce9b237 - {'researcher_id': 'researcher_3f89ab24-0886-42c3-b625-d0ade13b2a44', 'job_id': '98eecdb1-ff88-4cbc-ba53-54b4dffef130', 'training_args': {'batch_size': 20, 'lr': 1e-05, 'epochs': 1, 'dry_run': False, 'batch_maxnum': 250}, 'model_args': {'num_class': 6}, 'command': 'train', 'model_url': 'http://localhost:8844/media/uploads/2021/12/27/my_model_888c15bc-65b5-44c1-ba00-39ee4bd10208.py', 'params_url': 'http://localhost:8844/media/uploads/2021/12/27/researcher_params_ffa275b2-59f1-4b92-9d6f-7771c51e69e5.pt', 'model_class': 'MyTrainingPlan', 'training_data': {'node_5ef29a9f-9647-4c43-b45a-37a67ce9b237': ['dataset_f07755c7-cde0-474d-8a87-7ae542957c4b']}}\n",
      "2021-12-27 23:52:29,606 fedbiomed DEBUG - researcher_3f89ab24-0886-42c3-b625-d0ade13b2a44\n",
      "2021-12-27 23:52:29,607 fedbiomed INFO - Send message to node node_9261632d-ca98-4d57-81a1-8c109560d8bd - {'researcher_id': 'researcher_3f89ab24-0886-42c3-b625-d0ade13b2a44', 'job_id': '98eecdb1-ff88-4cbc-ba53-54b4dffef130', 'training_args': {'batch_size': 20, 'lr': 1e-05, 'epochs': 1, 'dry_run': False, 'batch_maxnum': 250}, 'model_args': {'num_class': 6}, 'command': 'train', 'model_url': 'http://localhost:8844/media/uploads/2021/12/27/my_model_888c15bc-65b5-44c1-ba00-39ee4bd10208.py', 'params_url': 'http://localhost:8844/media/uploads/2021/12/27/researcher_params_ffa275b2-59f1-4b92-9d6f-7771c51e69e5.pt', 'model_class': 'MyTrainingPlan', 'training_data': {'node_9261632d-ca98-4d57-81a1-8c109560d8bd': ['dataset_132eb8e2-aa42-45db-b35e-cfc490157683']}}\n",
      "2021-12-27 23:52:29,608 fedbiomed DEBUG - researcher_3f89ab24-0886-42c3-b625-d0ade13b2a44\n",
      "2021-12-27 23:52:29,609 fedbiomed INFO - Send message to node node_84ef4966-1dae-4d55-aff3-d2bf17c3d68a - {'researcher_id': 'researcher_3f89ab24-0886-42c3-b625-d0ade13b2a44', 'job_id': '98eecdb1-ff88-4cbc-ba53-54b4dffef130', 'training_args': {'batch_size': 20, 'lr': 1e-05, 'epochs': 1, 'dry_run': False, 'batch_maxnum': 250}, 'model_args': {'num_class': 6}, 'command': 'train', 'model_url': 'http://localhost:8844/media/uploads/2021/12/27/my_model_888c15bc-65b5-44c1-ba00-39ee4bd10208.py', 'params_url': 'http://localhost:8844/media/uploads/2021/12/27/researcher_params_ffa275b2-59f1-4b92-9d6f-7771c51e69e5.pt', 'model_class': 'MyTrainingPlan', 'training_data': {'node_84ef4966-1dae-4d55-aff3-d2bf17c3d68a': ['dataset_b6fecfe7-8211-4319-b669-7a8abad28173']}}\n",
      "2021-12-27 23:52:29,611 fedbiomed DEBUG - researcher_3f89ab24-0886-42c3-b625-d0ade13b2a44\n",
      "2021-12-27 23:52:29,625 fedbiomed INFO - log from: node_9261632d-ca98-4d57-81a1-8c109560d8bd / DEBUG - Message received: {'researcher_id': 'researcher_3f89ab24-0886-42c3-b625-d0ade13b2a44', 'job_id': '98eecdb1-ff88-4cbc-ba53-54b4dffef130', 'training_args': {'batch_size': 20, 'lr': 1e-05, 'epochs': 1, 'dry_run': False, 'batch_maxnum': 250}, 'model_args': {'num_class': 6}, 'command': 'train', 'model_url': 'http://localhost:8844/media/uploads/2021/12/27/my_model_888c15bc-65b5-44c1-ba00-39ee4bd10208.py', 'params_url': 'http://localhost:8844/media/uploads/2021/12/27/researcher_params_ffa275b2-59f1-4b92-9d6f-7771c51e69e5.pt', 'model_class': 'MyTrainingPlan', 'training_data': {'node_9261632d-ca98-4d57-81a1-8c109560d8bd': ['dataset_132eb8e2-aa42-45db-b35e-cfc490157683']}}\n"
     ]
    },
    {
     "name": "stderr",
     "output_type": "stream",
     "text": [
      "2021-12-27 23:52:29,627 fedbiomed INFO - log from: node_9261632d-ca98-4d57-81a1-8c109560d8bd / DEBUG - [TASKS QUEUE] Item:{'researcher_id': 'researcher_3f89ab24-0886-42c3-b625-d0ade13b2a44', 'job_id': '98eecdb1-ff88-4cbc-ba53-54b4dffef130', 'params_url': 'http://localhost:8844/media/uploads/2021/12/27/researcher_params_ffa275b2-59f1-4b92-9d6f-7771c51e69e5.pt', 'training_args': {'batch_size': 20, 'lr': 1e-05, 'epochs': 1, 'dry_run': False, 'batch_maxnum': 250}, 'training_data': {'node_9261632d-ca98-4d57-81a1-8c109560d8bd': ['dataset_132eb8e2-aa42-45db-b35e-cfc490157683']}, 'model_args': {'num_class': 6}, 'model_url': 'http://localhost:8844/media/uploads/2021/12/27/my_model_888c15bc-65b5-44c1-ba00-39ee4bd10208.py', 'model_class': 'MyTrainingPlan', 'command': 'train'}\n",
      "2021-12-27 23:52:29,632 fedbiomed INFO - log from: node_5ef29a9f-9647-4c43-b45a-37a67ce9b237 / DEBUG - Message received: {'researcher_id': 'researcher_3f89ab24-0886-42c3-b625-d0ade13b2a44', 'job_id': '98eecdb1-ff88-4cbc-ba53-54b4dffef130', 'training_args': {'batch_size': 20, 'lr': 1e-05, 'epochs': 1, 'dry_run': False, 'batch_maxnum': 250}, 'model_args': {'num_class': 6}, 'command': 'train', 'model_url': 'http://localhost:8844/media/uploads/2021/12/27/my_model_888c15bc-65b5-44c1-ba00-39ee4bd10208.py', 'params_url': 'http://localhost:8844/media/uploads/2021/12/27/researcher_params_ffa275b2-59f1-4b92-9d6f-7771c51e69e5.pt', 'model_class': 'MyTrainingPlan', 'training_data': {'node_5ef29a9f-9647-4c43-b45a-37a67ce9b237': ['dataset_f07755c7-cde0-474d-8a87-7ae542957c4b']}}\n",
      "2021-12-27 23:52:29,635 fedbiomed INFO - log from: node_5ef29a9f-9647-4c43-b45a-37a67ce9b237 / DEBUG - [TASKS QUEUE] Item:{'researcher_id': 'researcher_3f89ab24-0886-42c3-b625-d0ade13b2a44', 'job_id': '98eecdb1-ff88-4cbc-ba53-54b4dffef130', 'params_url': 'http://localhost:8844/media/uploads/2021/12/27/researcher_params_ffa275b2-59f1-4b92-9d6f-7771c51e69e5.pt', 'training_args': {'batch_size': 20, 'lr': 1e-05, 'epochs': 1, 'dry_run': False, 'batch_maxnum': 250}, 'training_data': {'node_5ef29a9f-9647-4c43-b45a-37a67ce9b237': ['dataset_f07755c7-cde0-474d-8a87-7ae542957c4b']}, 'model_args': {'num_class': 6}, 'model_url': 'http://localhost:8844/media/uploads/2021/12/27/my_model_888c15bc-65b5-44c1-ba00-39ee4bd10208.py', 'model_class': 'MyTrainingPlan', 'command': 'train'}\n",
      "2021-12-27 23:52:29,644 fedbiomed INFO - log from: node_84ef4966-1dae-4d55-aff3-d2bf17c3d68a / DEBUG - Message received: {'researcher_id': 'researcher_3f89ab24-0886-42c3-b625-d0ade13b2a44', 'job_id': '98eecdb1-ff88-4cbc-ba53-54b4dffef130', 'training_args': {'batch_size': 20, 'lr': 1e-05, 'epochs': 1, 'dry_run': False, 'batch_maxnum': 250}, 'model_args': {'num_class': 6}, 'command': 'train', 'model_url': 'http://localhost:8844/media/uploads/2021/12/27/my_model_888c15bc-65b5-44c1-ba00-39ee4bd10208.py', 'params_url': 'http://localhost:8844/media/uploads/2021/12/27/researcher_params_ffa275b2-59f1-4b92-9d6f-7771c51e69e5.pt', 'model_class': 'MyTrainingPlan', 'training_data': {'node_84ef4966-1dae-4d55-aff3-d2bf17c3d68a': ['dataset_b6fecfe7-8211-4319-b669-7a8abad28173']}}\n",
      "2021-12-27 23:52:29,646 fedbiomed INFO - log from: node_84ef4966-1dae-4d55-aff3-d2bf17c3d68a / DEBUG - [TASKS QUEUE] Item:{'researcher_id': 'researcher_3f89ab24-0886-42c3-b625-d0ade13b2a44', 'job_id': '98eecdb1-ff88-4cbc-ba53-54b4dffef130', 'params_url': 'http://localhost:8844/media/uploads/2021/12/27/researcher_params_ffa275b2-59f1-4b92-9d6f-7771c51e69e5.pt', 'training_args': {'batch_size': 20, 'lr': 1e-05, 'epochs': 1, 'dry_run': False, 'batch_maxnum': 250}, 'training_data': {'node_84ef4966-1dae-4d55-aff3-d2bf17c3d68a': ['dataset_b6fecfe7-8211-4319-b669-7a8abad28173']}, 'model_args': {'num_class': 6}, 'model_url': 'http://localhost:8844/media/uploads/2021/12/27/my_model_888c15bc-65b5-44c1-ba00-39ee4bd10208.py', 'model_class': 'MyTrainingPlan', 'command': 'train'}\n",
      "2021-12-27 23:52:32,359 fedbiomed INFO - log from: node_5ef29a9f-9647-4c43-b45a-37a67ce9b237 / INFO - {'monitor': <fedbiomed.node.history_monitor.HistoryMonitor object at 0x1327326a0>, 'batch_size': 20, 'lr': 1e-05, 'epochs': 1, 'dry_run': False, 'batch_maxnum': 250}\n",
      "2021-12-27 23:52:32,362 fedbiomed INFO - log from: node_5ef29a9f-9647-4c43-b45a-37a67ce9b237 / DEBUG - Dataset_path/Users/mlorenzi/works/temp/MedNIST/client_2\n",
      "2021-12-27 23:52:32,382 fedbiomed INFO - log from: node_9261632d-ca98-4d57-81a1-8c109560d8bd / INFO - {'monitor': <fedbiomed.node.history_monitor.HistoryMonitor object at 0x134fc1850>, 'batch_size': 20, 'lr': 1e-05, 'epochs': 1, 'dry_run': False, 'batch_maxnum': 250}\n",
      "2021-12-27 23:52:32,383 fedbiomed INFO - log from: node_9261632d-ca98-4d57-81a1-8c109560d8bd / DEBUG - Dataset_path/Users/mlorenzi/works/temp/MedNIST/client_3\n",
      "2021-12-27 23:52:32,431 fedbiomed INFO - log from: node_84ef4966-1dae-4d55-aff3-d2bf17c3d68a / INFO - {'monitor': <fedbiomed.node.history_monitor.HistoryMonitor object at 0x136bf7910>, 'batch_size': 20, 'lr': 1e-05, 'epochs': 1, 'dry_run': False, 'batch_maxnum': 250}\n",
      "2021-12-27 23:52:32,432 fedbiomed INFO - log from: node_84ef4966-1dae-4d55-aff3-d2bf17c3d68a / DEBUG - Dataset_path/Users/mlorenzi/works/temp/MedNIST/client_1\n",
      "2021-12-27 23:52:33,758 fedbiomed INFO - log from: node_5ef29a9f-9647-4c43-b45a-37a67ce9b237 / INFO - Train Epoch: 1 [0/18000 (0%)]\tLoss: 0.585022\n",
      "2021-12-27 23:52:33,822 fedbiomed INFO - log from: node_9261632d-ca98-4d57-81a1-8c109560d8bd / INFO - Train Epoch: 1 [0/16954 (0%)]\tLoss: 0.486251\n",
      "2021-12-27 23:52:33,904 fedbiomed INFO - log from: node_84ef4966-1dae-4d55-aff3-d2bf17c3d68a / INFO - Train Epoch: 1 [0/18000 (0%)]\tLoss: 0.498413\n",
      "2021-12-27 23:52:45,715 fedbiomed INFO - log from: node_9261632d-ca98-4d57-81a1-8c109560d8bd / INFO - Train Epoch: 1 [200/16954 (1%)]\tLoss: 0.762348\n",
      "2021-12-27 23:52:45,740 fedbiomed INFO - log from: node_5ef29a9f-9647-4c43-b45a-37a67ce9b237 / INFO - Train Epoch: 1 [200/18000 (1%)]\tLoss: 0.991212\n",
      "2021-12-27 23:52:45,948 fedbiomed INFO - log from: node_84ef4966-1dae-4d55-aff3-d2bf17c3d68a / INFO - Train Epoch: 1 [200/18000 (1%)]\tLoss: 0.316176\n",
      "2021-12-27 23:52:56,748 fedbiomed INFO - log from: node_5ef29a9f-9647-4c43-b45a-37a67ce9b237 / INFO - Train Epoch: 1 [400/18000 (2%)]\tLoss: 0.367916\n",
      "2021-12-27 23:52:56,763 fedbiomed INFO - log from: node_9261632d-ca98-4d57-81a1-8c109560d8bd / INFO - Train Epoch: 1 [400/16954 (2%)]\tLoss: 0.348925\n",
      "2021-12-27 23:52:57,020 fedbiomed INFO - log from: node_84ef4966-1dae-4d55-aff3-d2bf17c3d68a / INFO - Train Epoch: 1 [400/18000 (2%)]\tLoss: 0.578131\n",
      "2021-12-27 23:53:08,251 fedbiomed INFO - log from: node_5ef29a9f-9647-4c43-b45a-37a67ce9b237 / INFO - Train Epoch: 1 [600/18000 (3%)]\tLoss: 0.383172\n",
      "2021-12-27 23:53:08,253 fedbiomed INFO - log from: node_9261632d-ca98-4d57-81a1-8c109560d8bd / INFO - Train Epoch: 1 [600/16954 (4%)]\tLoss: 0.550292\n",
      "2021-12-27 23:53:08,593 fedbiomed INFO - log from: node_84ef4966-1dae-4d55-aff3-d2bf17c3d68a / INFO - Train Epoch: 1 [600/18000 (3%)]\tLoss: 0.424453\n",
      "2021-12-27 23:53:20,001 fedbiomed INFO - log from: node_9261632d-ca98-4d57-81a1-8c109560d8bd / INFO - Train Epoch: 1 [800/16954 (5%)]\tLoss: 0.640265\n",
      "2021-12-27 23:53:20,129 fedbiomed INFO - log from: node_5ef29a9f-9647-4c43-b45a-37a67ce9b237 / INFO - Train Epoch: 1 [800/18000 (4%)]\tLoss: 0.507498\n",
      "2021-12-27 23:53:20,525 fedbiomed INFO - log from: node_84ef4966-1dae-4d55-aff3-d2bf17c3d68a / INFO - Train Epoch: 1 [800/18000 (4%)]\tLoss: 0.433650\n",
      "2021-12-27 23:53:31,804 fedbiomed INFO - log from: node_9261632d-ca98-4d57-81a1-8c109560d8bd / INFO - Train Epoch: 1 [1000/16954 (6%)]\tLoss: 0.305630\n",
      "2021-12-27 23:53:31,877 fedbiomed INFO - log from: node_5ef29a9f-9647-4c43-b45a-37a67ce9b237 / INFO - Train Epoch: 1 [1000/18000 (6%)]\tLoss: 0.440003\n",
      "2021-12-27 23:53:32,276 fedbiomed INFO - log from: node_84ef4966-1dae-4d55-aff3-d2bf17c3d68a / INFO - Train Epoch: 1 [1000/18000 (6%)]\tLoss: 0.292772\n",
      "2021-12-27 23:53:43,224 fedbiomed INFO - log from: node_9261632d-ca98-4d57-81a1-8c109560d8bd / INFO - Train Epoch: 1 [1200/16954 (7%)]\tLoss: 0.393879\n",
      "2021-12-27 23:53:43,296 fedbiomed INFO - log from: node_5ef29a9f-9647-4c43-b45a-37a67ce9b237 / INFO - Train Epoch: 1 [1200/18000 (7%)]\tLoss: 0.722259\n",
      "2021-12-27 23:53:43,798 fedbiomed INFO - log from: node_84ef4966-1dae-4d55-aff3-d2bf17c3d68a / INFO - Train Epoch: 1 [1200/18000 (7%)]\tLoss: 0.635612\n"
     ]
    },
    {
     "name": "stderr",
     "output_type": "stream",
     "text": [
      "2021-12-27 23:53:54,284 fedbiomed INFO - log from: node_9261632d-ca98-4d57-81a1-8c109560d8bd / INFO - Train Epoch: 1 [1400/16954 (8%)]\tLoss: 0.279816\n",
      "2021-12-27 23:53:54,393 fedbiomed INFO - log from: node_5ef29a9f-9647-4c43-b45a-37a67ce9b237 / INFO - Train Epoch: 1 [1400/18000 (8%)]\tLoss: 0.425501\n",
      "2021-12-27 23:53:55,043 fedbiomed INFO - log from: node_84ef4966-1dae-4d55-aff3-d2bf17c3d68a / INFO - Train Epoch: 1 [1400/18000 (8%)]\tLoss: 0.284614\n",
      "2021-12-27 23:54:05,050 fedbiomed INFO - log from: node_9261632d-ca98-4d57-81a1-8c109560d8bd / INFO - Train Epoch: 1 [1600/16954 (9%)]\tLoss: 0.352958\n",
      "2021-12-27 23:54:05,101 fedbiomed INFO - log from: node_5ef29a9f-9647-4c43-b45a-37a67ce9b237 / INFO - Train Epoch: 1 [1600/18000 (9%)]\tLoss: 0.227871\n",
      "2021-12-27 23:54:05,795 fedbiomed INFO - log from: node_84ef4966-1dae-4d55-aff3-d2bf17c3d68a / INFO - Train Epoch: 1 [1600/18000 (9%)]\tLoss: 0.415638\n",
      "2021-12-27 23:54:17,434 fedbiomed INFO - log from: node_5ef29a9f-9647-4c43-b45a-37a67ce9b237 / INFO - Train Epoch: 1 [1800/18000 (10%)]\tLoss: 0.504489\n",
      "2021-12-27 23:54:17,447 fedbiomed INFO - log from: node_9261632d-ca98-4d57-81a1-8c109560d8bd / INFO - Train Epoch: 1 [1800/16954 (11%)]\tLoss: 0.321741\n",
      "2021-12-27 23:54:18,275 fedbiomed INFO - log from: node_84ef4966-1dae-4d55-aff3-d2bf17c3d68a / INFO - Train Epoch: 1 [1800/18000 (10%)]\tLoss: 0.208315\n",
      "2021-12-27 23:54:29,817 fedbiomed INFO - log from: node_9261632d-ca98-4d57-81a1-8c109560d8bd / INFO - Train Epoch: 1 [2000/16954 (12%)]\tLoss: 0.351562\n",
      "2021-12-27 23:54:29,821 fedbiomed INFO - log from: node_5ef29a9f-9647-4c43-b45a-37a67ce9b237 / INFO - Train Epoch: 1 [2000/18000 (11%)]\tLoss: 0.197955\n",
      "2021-12-27 23:54:30,650 fedbiomed INFO - log from: node_84ef4966-1dae-4d55-aff3-d2bf17c3d68a / INFO - Train Epoch: 1 [2000/18000 (11%)]\tLoss: 0.249412\n",
      "2021-12-27 23:54:40,736 fedbiomed INFO - log from: node_5ef29a9f-9647-4c43-b45a-37a67ce9b237 / INFO - Train Epoch: 1 [2200/18000 (12%)]\tLoss: 0.471584\n",
      "2021-12-27 23:54:40,745 fedbiomed INFO - log from: node_9261632d-ca98-4d57-81a1-8c109560d8bd / INFO - Train Epoch: 1 [2200/16954 (13%)]\tLoss: 0.189350\n",
      "2021-12-27 23:54:41,530 fedbiomed INFO - log from: node_84ef4966-1dae-4d55-aff3-d2bf17c3d68a / INFO - Train Epoch: 1 [2200/18000 (12%)]\tLoss: 0.416687\n",
      "2021-12-27 23:54:51,494 fedbiomed INFO - log from: node_9261632d-ca98-4d57-81a1-8c109560d8bd / INFO - Train Epoch: 1 [2400/16954 (14%)]\tLoss: 0.306483\n",
      "2021-12-27 23:54:51,541 fedbiomed INFO - log from: node_5ef29a9f-9647-4c43-b45a-37a67ce9b237 / INFO - Train Epoch: 1 [2400/18000 (13%)]\tLoss: 0.396648\n",
      "2021-12-27 23:54:52,360 fedbiomed INFO - log from: node_84ef4966-1dae-4d55-aff3-d2bf17c3d68a / INFO - Train Epoch: 1 [2400/18000 (13%)]\tLoss: 0.287466\n",
      "2021-12-27 23:55:02,552 fedbiomed INFO - log from: node_5ef29a9f-9647-4c43-b45a-37a67ce9b237 / INFO - Train Epoch: 1 [2600/18000 (14%)]\tLoss: 0.192948\n",
      "2021-12-27 23:55:02,560 fedbiomed INFO - log from: node_9261632d-ca98-4d57-81a1-8c109560d8bd / INFO - Train Epoch: 1 [2600/16954 (15%)]\tLoss: 0.325381\n",
      "2021-12-27 23:55:03,358 fedbiomed INFO - log from: node_84ef4966-1dae-4d55-aff3-d2bf17c3d68a / INFO - Train Epoch: 1 [2600/18000 (14%)]\tLoss: 0.511384\n",
      "2021-12-27 23:55:13,388 fedbiomed INFO - log from: node_5ef29a9f-9647-4c43-b45a-37a67ce9b237 / INFO - Train Epoch: 1 [2800/18000 (16%)]\tLoss: 0.322090\n",
      "2021-12-27 23:55:13,400 fedbiomed INFO - log from: node_9261632d-ca98-4d57-81a1-8c109560d8bd / INFO - Train Epoch: 1 [2800/16954 (17%)]\tLoss: 0.329501\n",
      "2021-12-27 23:55:14,214 fedbiomed INFO - log from: node_84ef4966-1dae-4d55-aff3-d2bf17c3d68a / INFO - Train Epoch: 1 [2800/18000 (16%)]\tLoss: 0.224894\n",
      "2021-12-27 23:55:25,208 fedbiomed INFO - log from: node_9261632d-ca98-4d57-81a1-8c109560d8bd / INFO - Train Epoch: 1 [3000/16954 (18%)]\tLoss: 0.396305\n",
      "2021-12-27 23:55:25,293 fedbiomed INFO - log from: node_5ef29a9f-9647-4c43-b45a-37a67ce9b237 / INFO - Train Epoch: 1 [3000/18000 (17%)]\tLoss: 0.158358\n",
      "2021-12-27 23:55:26,108 fedbiomed INFO - log from: node_84ef4966-1dae-4d55-aff3-d2bf17c3d68a / INFO - Train Epoch: 1 [3000/18000 (17%)]\tLoss: 0.169133\n",
      "2021-12-27 23:55:36,586 fedbiomed INFO - log from: node_9261632d-ca98-4d57-81a1-8c109560d8bd / INFO - Train Epoch: 1 [3200/16954 (19%)]\tLoss: 0.131440\n",
      "2021-12-27 23:55:36,797 fedbiomed INFO - log from: node_5ef29a9f-9647-4c43-b45a-37a67ce9b237 / INFO - Train Epoch: 1 [3200/18000 (18%)]\tLoss: 0.210196\n",
      "2021-12-27 23:55:37,498 fedbiomed INFO - log from: node_84ef4966-1dae-4d55-aff3-d2bf17c3d68a / INFO - Train Epoch: 1 [3200/18000 (18%)]\tLoss: 0.179682\n",
      "2021-12-27 23:55:47,504 fedbiomed INFO - log from: node_9261632d-ca98-4d57-81a1-8c109560d8bd / INFO - Train Epoch: 1 [3400/16954 (20%)]\tLoss: 0.302614\n",
      "2021-12-27 23:55:47,687 fedbiomed INFO - log from: node_5ef29a9f-9647-4c43-b45a-37a67ce9b237 / INFO - Train Epoch: 1 [3400/18000 (19%)]\tLoss: 0.656345\n",
      "2021-12-27 23:55:48,488 fedbiomed INFO - log from: node_84ef4966-1dae-4d55-aff3-d2bf17c3d68a / INFO - Train Epoch: 1 [3400/18000 (19%)]\tLoss: 0.274705\n",
      "2021-12-27 23:55:58,774 fedbiomed INFO - log from: node_9261632d-ca98-4d57-81a1-8c109560d8bd / INFO - Train Epoch: 1 [3600/16954 (21%)]\tLoss: 0.194889\n",
      "2021-12-27 23:55:59,251 fedbiomed INFO - log from: node_5ef29a9f-9647-4c43-b45a-37a67ce9b237 / INFO - Train Epoch: 1 [3600/18000 (20%)]\tLoss: 0.265975\n",
      "2021-12-27 23:55:59,825 fedbiomed INFO - log from: node_84ef4966-1dae-4d55-aff3-d2bf17c3d68a / INFO - Train Epoch: 1 [3600/18000 (20%)]\tLoss: 0.125519\n",
      "2021-12-27 23:56:09,965 fedbiomed INFO - log from: node_9261632d-ca98-4d57-81a1-8c109560d8bd / INFO - Train Epoch: 1 [3800/16954 (22%)]\tLoss: 0.107786\n",
      "2021-12-27 23:56:10,648 fedbiomed INFO - log from: node_5ef29a9f-9647-4c43-b45a-37a67ce9b237 / INFO - Train Epoch: 1 [3800/18000 (21%)]\tLoss: 0.194412\n",
      "2021-12-27 23:56:11,262 fedbiomed INFO - log from: node_84ef4966-1dae-4d55-aff3-d2bf17c3d68a / INFO - Train Epoch: 1 [3800/18000 (21%)]\tLoss: 0.339458\n",
      "2021-12-27 23:56:21,700 fedbiomed INFO - log from: node_9261632d-ca98-4d57-81a1-8c109560d8bd / INFO - Train Epoch: 1 [4000/16954 (24%)]\tLoss: 0.377179\n",
      "2021-12-27 23:56:22,227 fedbiomed INFO - log from: node_5ef29a9f-9647-4c43-b45a-37a67ce9b237 / INFO - Train Epoch: 1 [4000/18000 (22%)]\tLoss: 0.176318\n",
      "2021-12-27 23:56:22,733 fedbiomed INFO - log from: node_84ef4966-1dae-4d55-aff3-d2bf17c3d68a / INFO - Train Epoch: 1 [4000/18000 (22%)]\tLoss: 0.139980\n",
      "2021-12-27 23:56:33,366 fedbiomed INFO - log from: node_9261632d-ca98-4d57-81a1-8c109560d8bd / INFO - Train Epoch: 1 [4200/16954 (25%)]\tLoss: 0.245287\n",
      "2021-12-27 23:56:34,017 fedbiomed INFO - log from: node_5ef29a9f-9647-4c43-b45a-37a67ce9b237 / INFO - Train Epoch: 1 [4200/18000 (23%)]\tLoss: 0.269547\n",
      "2021-12-27 23:56:34,488 fedbiomed INFO - log from: node_84ef4966-1dae-4d55-aff3-d2bf17c3d68a / INFO - Train Epoch: 1 [4200/18000 (23%)]\tLoss: 0.212192\n",
      "2021-12-27 23:56:44,714 fedbiomed INFO - log from: node_9261632d-ca98-4d57-81a1-8c109560d8bd / INFO - Train Epoch: 1 [4400/16954 (26%)]\tLoss: 0.242870\n",
      "2021-12-27 23:56:45,477 fedbiomed INFO - log from: node_5ef29a9f-9647-4c43-b45a-37a67ce9b237 / INFO - Train Epoch: 1 [4400/18000 (24%)]\tLoss: 0.154663\n",
      "2021-12-27 23:56:45,986 fedbiomed INFO - log from: node_84ef4966-1dae-4d55-aff3-d2bf17c3d68a / INFO - Train Epoch: 1 [4400/18000 (24%)]\tLoss: 0.136440\n",
      "2021-12-27 23:56:56,086 fedbiomed INFO - log from: node_9261632d-ca98-4d57-81a1-8c109560d8bd / INFO - Train Epoch: 1 [4600/16954 (27%)]\tLoss: 0.204273\n",
      "2021-12-27 23:56:56,747 fedbiomed INFO - log from: node_5ef29a9f-9647-4c43-b45a-37a67ce9b237 / INFO - Train Epoch: 1 [4600/18000 (26%)]\tLoss: 0.152752\n",
      "2021-12-27 23:56:57,334 fedbiomed INFO - log from: node_84ef4966-1dae-4d55-aff3-d2bf17c3d68a / INFO - Train Epoch: 1 [4600/18000 (26%)]\tLoss: 0.331514\n",
      "2021-12-27 23:57:06,985 fedbiomed INFO - log from: node_9261632d-ca98-4d57-81a1-8c109560d8bd / INFO - Train Epoch: 1 [4800/16954 (28%)]\tLoss: 0.361368\n",
      "2021-12-27 23:57:07,648 fedbiomed INFO - log from: node_5ef29a9f-9647-4c43-b45a-37a67ce9b237 / INFO - Train Epoch: 1 [4800/18000 (27%)]\tLoss: 0.216788\n",
      "2021-12-27 23:57:08,194 fedbiomed INFO - log from: node_84ef4966-1dae-4d55-aff3-d2bf17c3d68a / INFO - Train Epoch: 1 [4800/18000 (27%)]\tLoss: 0.154541\n",
      "2021-12-27 23:57:17,948 fedbiomed INFO - log from: node_9261632d-ca98-4d57-81a1-8c109560d8bd / DEBUG - Reached 250 batches for this epoch, ignore remaining data\n"
     ]
    },
    {
     "name": "stderr",
     "output_type": "stream",
     "text": [
      "2021-12-27 23:57:18,811 fedbiomed INFO - log from: node_5ef29a9f-9647-4c43-b45a-37a67ce9b237 / DEBUG - Reached 250 batches for this epoch, ignore remaining data\n",
      "2021-12-27 23:57:19,471 fedbiomed INFO - log from: node_84ef4966-1dae-4d55-aff3-d2bf17c3d68a / DEBUG - Reached 250 batches for this epoch, ignore remaining data\n",
      "2021-12-27 23:57:21,543 fedbiomed INFO - log from: node_9261632d-ca98-4d57-81a1-8c109560d8bd / INFO - results uploaded successfully \n",
      "2021-12-27 23:57:22,179 fedbiomed INFO - log from: node_5ef29a9f-9647-4c43-b45a-37a67ce9b237 / INFO - results uploaded successfully \n",
      "2021-12-27 23:57:22,842 fedbiomed INFO - log from: node_84ef4966-1dae-4d55-aff3-d2bf17c3d68a / INFO - results uploaded successfully \n",
      "2021-12-27 23:57:29,800 fedbiomed INFO - Downloading model params after training on node_9261632d-ca98-4d57-81a1-8c109560d8bd - from http://localhost:8844/media/uploads/2021/12/27/node_params_99adbdaf-542b-4231-a098-488e449b40c4.pt\n",
      "2021-12-27 23:57:30,657 fedbiomed INFO - Downloading model params after training on node_5ef29a9f-9647-4c43-b45a-37a67ce9b237 - from http://localhost:8844/media/uploads/2021/12/27/node_params_7d90d868-d735-4851-8207-6ad3feba5b11.pt\n",
      "2021-12-27 23:57:31,710 fedbiomed INFO - Downloading model params after training on node_84ef4966-1dae-4d55-aff3-d2bf17c3d68a - from http://localhost:8844/media/uploads/2021/12/27/node_params_2439554e-a3df-4457-8325-ac1cc6cafb51.pt\n",
      "2021-12-27 23:57:32,798 fedbiomed INFO - Nodes that successfully reply in round 1 ['node_9261632d-ca98-4d57-81a1-8c109560d8bd', 'node_5ef29a9f-9647-4c43-b45a-37a67ce9b237', 'node_84ef4966-1dae-4d55-aff3-d2bf17c3d68a']\n",
      "2021-12-27 23:57:35,238 fedbiomed INFO - Sampled nodes in round 2 ['node_5ef29a9f-9647-4c43-b45a-37a67ce9b237', 'node_9261632d-ca98-4d57-81a1-8c109560d8bd', 'node_84ef4966-1dae-4d55-aff3-d2bf17c3d68a']\n",
      "2021-12-27 23:57:35,239 fedbiomed INFO - Send message to node node_5ef29a9f-9647-4c43-b45a-37a67ce9b237 - {'researcher_id': 'researcher_3f89ab24-0886-42c3-b625-d0ade13b2a44', 'job_id': '98eecdb1-ff88-4cbc-ba53-54b4dffef130', 'training_args': {'batch_size': 20, 'lr': 1e-05, 'epochs': 1, 'dry_run': False, 'batch_maxnum': 250}, 'model_args': {'num_class': 6}, 'command': 'train', 'model_url': 'http://localhost:8844/media/uploads/2021/12/27/my_model_888c15bc-65b5-44c1-ba00-39ee4bd10208.py', 'params_url': 'http://localhost:8844/media/uploads/2021/12/27/researcher_params_c75073d3-0568-4a64-9b43-59c1e05c7ab2.pt', 'model_class': 'MyTrainingPlan', 'training_data': {'node_5ef29a9f-9647-4c43-b45a-37a67ce9b237': ['dataset_f07755c7-cde0-474d-8a87-7ae542957c4b']}}\n",
      "2021-12-27 23:57:35,240 fedbiomed DEBUG - researcher_3f89ab24-0886-42c3-b625-d0ade13b2a44\n",
      "2021-12-27 23:57:35,240 fedbiomed INFO - Send message to node node_9261632d-ca98-4d57-81a1-8c109560d8bd - {'researcher_id': 'researcher_3f89ab24-0886-42c3-b625-d0ade13b2a44', 'job_id': '98eecdb1-ff88-4cbc-ba53-54b4dffef130', 'training_args': {'batch_size': 20, 'lr': 1e-05, 'epochs': 1, 'dry_run': False, 'batch_maxnum': 250}, 'model_args': {'num_class': 6}, 'command': 'train', 'model_url': 'http://localhost:8844/media/uploads/2021/12/27/my_model_888c15bc-65b5-44c1-ba00-39ee4bd10208.py', 'params_url': 'http://localhost:8844/media/uploads/2021/12/27/researcher_params_c75073d3-0568-4a64-9b43-59c1e05c7ab2.pt', 'model_class': 'MyTrainingPlan', 'training_data': {'node_9261632d-ca98-4d57-81a1-8c109560d8bd': ['dataset_132eb8e2-aa42-45db-b35e-cfc490157683']}}\n",
      "2021-12-27 23:57:35,241 fedbiomed DEBUG - researcher_3f89ab24-0886-42c3-b625-d0ade13b2a44\n",
      "2021-12-27 23:57:35,242 fedbiomed INFO - Send message to node node_84ef4966-1dae-4d55-aff3-d2bf17c3d68a - {'researcher_id': 'researcher_3f89ab24-0886-42c3-b625-d0ade13b2a44', 'job_id': '98eecdb1-ff88-4cbc-ba53-54b4dffef130', 'training_args': {'batch_size': 20, 'lr': 1e-05, 'epochs': 1, 'dry_run': False, 'batch_maxnum': 250}, 'model_args': {'num_class': 6}, 'command': 'train', 'model_url': 'http://localhost:8844/media/uploads/2021/12/27/my_model_888c15bc-65b5-44c1-ba00-39ee4bd10208.py', 'params_url': 'http://localhost:8844/media/uploads/2021/12/27/researcher_params_c75073d3-0568-4a64-9b43-59c1e05c7ab2.pt', 'model_class': 'MyTrainingPlan', 'training_data': {'node_84ef4966-1dae-4d55-aff3-d2bf17c3d68a': ['dataset_b6fecfe7-8211-4319-b669-7a8abad28173']}}\n",
      "2021-12-27 23:57:35,244 fedbiomed DEBUG - researcher_3f89ab24-0886-42c3-b625-d0ade13b2a44\n",
      "2021-12-27 23:57:35,250 fedbiomed INFO - log from: node_5ef29a9f-9647-4c43-b45a-37a67ce9b237 / DEBUG - Message received: {'researcher_id': 'researcher_3f89ab24-0886-42c3-b625-d0ade13b2a44', 'job_id': '98eecdb1-ff88-4cbc-ba53-54b4dffef130', 'training_args': {'batch_size': 20, 'lr': 1e-05, 'epochs': 1, 'dry_run': False, 'batch_maxnum': 250}, 'model_args': {'num_class': 6}, 'command': 'train', 'model_url': 'http://localhost:8844/media/uploads/2021/12/27/my_model_888c15bc-65b5-44c1-ba00-39ee4bd10208.py', 'params_url': 'http://localhost:8844/media/uploads/2021/12/27/researcher_params_c75073d3-0568-4a64-9b43-59c1e05c7ab2.pt', 'model_class': 'MyTrainingPlan', 'training_data': {'node_5ef29a9f-9647-4c43-b45a-37a67ce9b237': ['dataset_f07755c7-cde0-474d-8a87-7ae542957c4b']}}\n",
      "2021-12-27 23:57:35,252 fedbiomed INFO - log from: node_9261632d-ca98-4d57-81a1-8c109560d8bd / DEBUG - Message received: {'researcher_id': 'researcher_3f89ab24-0886-42c3-b625-d0ade13b2a44', 'job_id': '98eecdb1-ff88-4cbc-ba53-54b4dffef130', 'training_args': {'batch_size': 20, 'lr': 1e-05, 'epochs': 1, 'dry_run': False, 'batch_maxnum': 250}, 'model_args': {'num_class': 6}, 'command': 'train', 'model_url': 'http://localhost:8844/media/uploads/2021/12/27/my_model_888c15bc-65b5-44c1-ba00-39ee4bd10208.py', 'params_url': 'http://localhost:8844/media/uploads/2021/12/27/researcher_params_c75073d3-0568-4a64-9b43-59c1e05c7ab2.pt', 'model_class': 'MyTrainingPlan', 'training_data': {'node_9261632d-ca98-4d57-81a1-8c109560d8bd': ['dataset_132eb8e2-aa42-45db-b35e-cfc490157683']}}\n",
      "2021-12-27 23:57:35,275 fedbiomed INFO - log from: node_84ef4966-1dae-4d55-aff3-d2bf17c3d68a / DEBUG - Message received: {'researcher_id': 'researcher_3f89ab24-0886-42c3-b625-d0ade13b2a44', 'job_id': '98eecdb1-ff88-4cbc-ba53-54b4dffef130', 'training_args': {'batch_size': 20, 'lr': 1e-05, 'epochs': 1, 'dry_run': False, 'batch_maxnum': 250}, 'model_args': {'num_class': 6}, 'command': 'train', 'model_url': 'http://localhost:8844/media/uploads/2021/12/27/my_model_888c15bc-65b5-44c1-ba00-39ee4bd10208.py', 'params_url': 'http://localhost:8844/media/uploads/2021/12/27/researcher_params_c75073d3-0568-4a64-9b43-59c1e05c7ab2.pt', 'model_class': 'MyTrainingPlan', 'training_data': {'node_84ef4966-1dae-4d55-aff3-d2bf17c3d68a': ['dataset_b6fecfe7-8211-4319-b669-7a8abad28173']}}\n",
      "2021-12-27 23:57:35,276 fedbiomed INFO - log from: node_9261632d-ca98-4d57-81a1-8c109560d8bd / DEBUG - [TASKS QUEUE] Item:{'researcher_id': 'researcher_3f89ab24-0886-42c3-b625-d0ade13b2a44', 'job_id': '98eecdb1-ff88-4cbc-ba53-54b4dffef130', 'params_url': 'http://localhost:8844/media/uploads/2021/12/27/researcher_params_c75073d3-0568-4a64-9b43-59c1e05c7ab2.pt', 'training_args': {'batch_size': 20, 'lr': 1e-05, 'epochs': 1, 'dry_run': False, 'batch_maxnum': 250}, 'training_data': {'node_9261632d-ca98-4d57-81a1-8c109560d8bd': ['dataset_132eb8e2-aa42-45db-b35e-cfc490157683']}, 'model_args': {'num_class': 6}, 'model_url': 'http://localhost:8844/media/uploads/2021/12/27/my_model_888c15bc-65b5-44c1-ba00-39ee4bd10208.py', 'model_class': 'MyTrainingPlan', 'command': 'train'}\n",
      "2021-12-27 23:57:35,278 fedbiomed INFO - log from: node_5ef29a9f-9647-4c43-b45a-37a67ce9b237 / DEBUG - [TASKS QUEUE] Item:{'researcher_id': 'researcher_3f89ab24-0886-42c3-b625-d0ade13b2a44', 'job_id': '98eecdb1-ff88-4cbc-ba53-54b4dffef130', 'params_url': 'http://localhost:8844/media/uploads/2021/12/27/researcher_params_c75073d3-0568-4a64-9b43-59c1e05c7ab2.pt', 'training_args': {'batch_size': 20, 'lr': 1e-05, 'epochs': 1, 'dry_run': False, 'batch_maxnum': 250}, 'training_data': {'node_5ef29a9f-9647-4c43-b45a-37a67ce9b237': ['dataset_f07755c7-cde0-474d-8a87-7ae542957c4b']}, 'model_args': {'num_class': 6}, 'model_url': 'http://localhost:8844/media/uploads/2021/12/27/my_model_888c15bc-65b5-44c1-ba00-39ee4bd10208.py', 'model_class': 'MyTrainingPlan', 'command': 'train'}\n"
     ]
    },
    {
     "name": "stderr",
     "output_type": "stream",
     "text": [
      "2021-12-27 23:57:35,279 fedbiomed INFO - log from: node_84ef4966-1dae-4d55-aff3-d2bf17c3d68a / DEBUG - [TASKS QUEUE] Item:{'researcher_id': 'researcher_3f89ab24-0886-42c3-b625-d0ade13b2a44', 'job_id': '98eecdb1-ff88-4cbc-ba53-54b4dffef130', 'params_url': 'http://localhost:8844/media/uploads/2021/12/27/researcher_params_c75073d3-0568-4a64-9b43-59c1e05c7ab2.pt', 'training_args': {'batch_size': 20, 'lr': 1e-05, 'epochs': 1, 'dry_run': False, 'batch_maxnum': 250}, 'training_data': {'node_84ef4966-1dae-4d55-aff3-d2bf17c3d68a': ['dataset_b6fecfe7-8211-4319-b669-7a8abad28173']}, 'model_args': {'num_class': 6}, 'model_url': 'http://localhost:8844/media/uploads/2021/12/27/my_model_888c15bc-65b5-44c1-ba00-39ee4bd10208.py', 'model_class': 'MyTrainingPlan', 'command': 'train'}\n",
      "2021-12-27 23:57:37,179 fedbiomed INFO - log from: node_9261632d-ca98-4d57-81a1-8c109560d8bd / INFO - {'monitor': <fedbiomed.node.history_monitor.HistoryMonitor object at 0x1370e0a30>, 'batch_size': 20, 'lr': 1e-05, 'epochs': 1, 'dry_run': False, 'batch_maxnum': 250}\n",
      "2021-12-27 23:57:37,181 fedbiomed INFO - log from: node_9261632d-ca98-4d57-81a1-8c109560d8bd / DEBUG - Dataset_path/Users/mlorenzi/works/temp/MedNIST/client_3\n",
      "2021-12-27 23:57:37,207 fedbiomed INFO - log from: node_5ef29a9f-9647-4c43-b45a-37a67ce9b237 / INFO - {'monitor': <fedbiomed.node.history_monitor.HistoryMonitor object at 0x134850940>, 'batch_size': 20, 'lr': 1e-05, 'epochs': 1, 'dry_run': False, 'batch_maxnum': 250}\n",
      "2021-12-27 23:57:37,208 fedbiomed INFO - log from: node_5ef29a9f-9647-4c43-b45a-37a67ce9b237 / DEBUG - Dataset_path/Users/mlorenzi/works/temp/MedNIST/client_2\n",
      "2021-12-27 23:57:37,209 fedbiomed INFO - log from: node_84ef4966-1dae-4d55-aff3-d2bf17c3d68a / INFO - {'monitor': <fedbiomed.node.history_monitor.HistoryMonitor object at 0x13c94fc70>, 'batch_size': 20, 'lr': 1e-05, 'epochs': 1, 'dry_run': False, 'batch_maxnum': 250}\n",
      "2021-12-27 23:57:37,211 fedbiomed INFO - log from: node_84ef4966-1dae-4d55-aff3-d2bf17c3d68a / DEBUG - Dataset_path/Users/mlorenzi/works/temp/MedNIST/client_1\n",
      "2021-12-27 23:57:38,492 fedbiomed INFO - log from: node_9261632d-ca98-4d57-81a1-8c109560d8bd / INFO - Train Epoch: 1 [0/16954 (0%)]\tLoss: 0.208851\n",
      "2021-12-27 23:57:38,530 fedbiomed INFO - log from: node_84ef4966-1dae-4d55-aff3-d2bf17c3d68a / INFO - Train Epoch: 1 [0/18000 (0%)]\tLoss: 0.098857\n",
      "2021-12-27 23:57:38,531 fedbiomed INFO - log from: node_5ef29a9f-9647-4c43-b45a-37a67ce9b237 / INFO - Train Epoch: 1 [0/18000 (0%)]\tLoss: 0.252668\n",
      "2021-12-27 23:57:48,970 fedbiomed INFO - log from: node_9261632d-ca98-4d57-81a1-8c109560d8bd / INFO - Train Epoch: 1 [200/16954 (1%)]\tLoss: 0.241222\n",
      "2021-12-27 23:57:48,988 fedbiomed INFO - log from: node_5ef29a9f-9647-4c43-b45a-37a67ce9b237 / INFO - Train Epoch: 1 [200/18000 (1%)]\tLoss: 0.300418\n",
      "2021-12-27 23:57:49,046 fedbiomed INFO - log from: node_84ef4966-1dae-4d55-aff3-d2bf17c3d68a / INFO - Train Epoch: 1 [200/18000 (1%)]\tLoss: 0.330596\n",
      "2021-12-27 23:57:58,838 fedbiomed INFO - log from: node_9261632d-ca98-4d57-81a1-8c109560d8bd / INFO - Train Epoch: 1 [400/16954 (2%)]\tLoss: 0.078284\n",
      "2021-12-27 23:57:58,965 fedbiomed INFO - log from: node_84ef4966-1dae-4d55-aff3-d2bf17c3d68a / INFO - Train Epoch: 1 [400/18000 (2%)]\tLoss: 0.213307\n",
      "2021-12-27 23:57:58,972 fedbiomed INFO - log from: node_5ef29a9f-9647-4c43-b45a-37a67ce9b237 / INFO - Train Epoch: 1 [400/18000 (2%)]\tLoss: 0.138637\n",
      "2021-12-27 23:58:08,743 fedbiomed INFO - log from: node_9261632d-ca98-4d57-81a1-8c109560d8bd / INFO - Train Epoch: 1 [600/16954 (4%)]\tLoss: 0.547368\n",
      "2021-12-27 23:58:08,913 fedbiomed INFO - log from: node_5ef29a9f-9647-4c43-b45a-37a67ce9b237 / INFO - Train Epoch: 1 [600/18000 (3%)]\tLoss: 0.252101\n",
      "2021-12-27 23:58:08,980 fedbiomed INFO - log from: node_84ef4966-1dae-4d55-aff3-d2bf17c3d68a / INFO - Train Epoch: 1 [600/18000 (3%)]\tLoss: 0.254367\n",
      "2021-12-27 23:58:19,119 fedbiomed INFO - log from: node_9261632d-ca98-4d57-81a1-8c109560d8bd / INFO - Train Epoch: 1 [800/16954 (5%)]\tLoss: 0.272691\n",
      "2021-12-27 23:58:19,215 fedbiomed INFO - log from: node_5ef29a9f-9647-4c43-b45a-37a67ce9b237 / INFO - Train Epoch: 1 [800/18000 (4%)]\tLoss: 0.113728\n",
      "2021-12-27 23:58:19,336 fedbiomed INFO - log from: node_84ef4966-1dae-4d55-aff3-d2bf17c3d68a / INFO - Train Epoch: 1 [800/18000 (4%)]\tLoss: 0.290462\n",
      "2021-12-27 23:58:29,679 fedbiomed INFO - log from: node_9261632d-ca98-4d57-81a1-8c109560d8bd / INFO - Train Epoch: 1 [1000/16954 (6%)]\tLoss: 0.189265\n",
      "2021-12-27 23:58:29,764 fedbiomed INFO - log from: node_5ef29a9f-9647-4c43-b45a-37a67ce9b237 / INFO - Train Epoch: 1 [1000/18000 (6%)]\tLoss: 0.203718\n",
      "2021-12-27 23:58:29,944 fedbiomed INFO - log from: node_84ef4966-1dae-4d55-aff3-d2bf17c3d68a / INFO - Train Epoch: 1 [1000/18000 (6%)]\tLoss: 0.337093\n",
      "2021-12-27 23:58:41,349 fedbiomed INFO - log from: node_5ef29a9f-9647-4c43-b45a-37a67ce9b237 / INFO - Train Epoch: 1 [1200/18000 (7%)]\tLoss: 0.218469\n",
      "2021-12-27 23:58:41,366 fedbiomed INFO - log from: node_9261632d-ca98-4d57-81a1-8c109560d8bd / INFO - Train Epoch: 1 [1200/16954 (7%)]\tLoss: 0.245517\n",
      "2021-12-27 23:58:41,671 fedbiomed INFO - log from: node_84ef4966-1dae-4d55-aff3-d2bf17c3d68a / INFO - Train Epoch: 1 [1200/18000 (7%)]\tLoss: 0.121351\n",
      "2021-12-27 23:58:52,465 fedbiomed INFO - log from: node_9261632d-ca98-4d57-81a1-8c109560d8bd / INFO - Train Epoch: 1 [1400/16954 (8%)]\tLoss: 0.135246\n",
      "2021-12-27 23:58:52,549 fedbiomed INFO - log from: node_5ef29a9f-9647-4c43-b45a-37a67ce9b237 / INFO - Train Epoch: 1 [1400/18000 (8%)]\tLoss: 0.247177\n",
      "2021-12-27 23:58:53,031 fedbiomed INFO - log from: node_84ef4966-1dae-4d55-aff3-d2bf17c3d68a / INFO - Train Epoch: 1 [1400/18000 (8%)]\tLoss: 0.162024\n",
      "2021-12-27 23:59:03,416 fedbiomed INFO - log from: node_9261632d-ca98-4d57-81a1-8c109560d8bd / INFO - Train Epoch: 1 [1600/16954 (9%)]\tLoss: 0.133582\n",
      "2021-12-27 23:59:03,452 fedbiomed INFO - log from: node_5ef29a9f-9647-4c43-b45a-37a67ce9b237 / INFO - Train Epoch: 1 [1600/18000 (9%)]\tLoss: 0.102977\n",
      "2021-12-27 23:59:04,065 fedbiomed INFO - log from: node_84ef4966-1dae-4d55-aff3-d2bf17c3d68a / INFO - Train Epoch: 1 [1600/18000 (9%)]\tLoss: 0.292365\n",
      "2021-12-27 23:59:14,776 fedbiomed INFO - log from: node_9261632d-ca98-4d57-81a1-8c109560d8bd / INFO - Train Epoch: 1 [1800/16954 (11%)]\tLoss: 0.168045\n",
      "2021-12-27 23:59:14,791 fedbiomed INFO - log from: node_5ef29a9f-9647-4c43-b45a-37a67ce9b237 / INFO - Train Epoch: 1 [1800/18000 (10%)]\tLoss: 0.074061\n",
      "2021-12-27 23:59:15,489 fedbiomed INFO - log from: node_84ef4966-1dae-4d55-aff3-d2bf17c3d68a / INFO - Train Epoch: 1 [1800/18000 (10%)]\tLoss: 0.425397\n",
      "2021-12-27 23:59:26,044 fedbiomed INFO - log from: node_9261632d-ca98-4d57-81a1-8c109560d8bd / INFO - Train Epoch: 1 [2000/16954 (12%)]\tLoss: 0.202662\n",
      "2021-12-27 23:59:26,098 fedbiomed INFO - log from: node_5ef29a9f-9647-4c43-b45a-37a67ce9b237 / INFO - Train Epoch: 1 [2000/18000 (11%)]\tLoss: 0.105407\n",
      "2021-12-27 23:59:26,872 fedbiomed INFO - log from: node_84ef4966-1dae-4d55-aff3-d2bf17c3d68a / INFO - Train Epoch: 1 [2000/18000 (11%)]\tLoss: 0.075767\n",
      "2021-12-27 23:59:36,758 fedbiomed INFO - log from: node_9261632d-ca98-4d57-81a1-8c109560d8bd / INFO - Train Epoch: 1 [2200/16954 (13%)]\tLoss: 0.280369\n",
      "2021-12-27 23:59:36,923 fedbiomed INFO - log from: node_5ef29a9f-9647-4c43-b45a-37a67ce9b237 / INFO - Train Epoch: 1 [2200/18000 (12%)]\tLoss: 0.058877\n",
      "2021-12-27 23:59:37,628 fedbiomed INFO - log from: node_84ef4966-1dae-4d55-aff3-d2bf17c3d68a / INFO - Train Epoch: 1 [2200/18000 (12%)]\tLoss: 0.118891\n",
      "2021-12-27 23:59:48,373 fedbiomed INFO - log from: node_9261632d-ca98-4d57-81a1-8c109560d8bd / INFO - Train Epoch: 1 [2400/16954 (14%)]\tLoss: 0.167537\n",
      "2021-12-27 23:59:48,620 fedbiomed INFO - log from: node_5ef29a9f-9647-4c43-b45a-37a67ce9b237 / INFO - Train Epoch: 1 [2400/18000 (13%)]\tLoss: 0.441936\n",
      "2021-12-27 23:59:49,380 fedbiomed INFO - log from: node_84ef4966-1dae-4d55-aff3-d2bf17c3d68a / INFO - Train Epoch: 1 [2400/18000 (13%)]\tLoss: 0.096277\n",
      "2021-12-27 23:59:59,239 fedbiomed INFO - log from: node_9261632d-ca98-4d57-81a1-8c109560d8bd / INFO - Train Epoch: 1 [2600/16954 (15%)]\tLoss: 0.118677\n",
      "2021-12-27 23:59:59,665 fedbiomed INFO - log from: node_5ef29a9f-9647-4c43-b45a-37a67ce9b237 / INFO - Train Epoch: 1 [2600/18000 (14%)]\tLoss: 0.493333\n"
     ]
    },
    {
     "name": "stderr",
     "output_type": "stream",
     "text": [
      "2021-12-28 00:00:00,346 fedbiomed INFO - log from: node_84ef4966-1dae-4d55-aff3-d2bf17c3d68a / INFO - Train Epoch: 1 [2600/18000 (14%)]\tLoss: 0.113238\n",
      "2021-12-28 00:00:10,535 fedbiomed INFO - log from: node_9261632d-ca98-4d57-81a1-8c109560d8bd / INFO - Train Epoch: 1 [2800/16954 (17%)]\tLoss: 0.148327\n",
      "2021-12-28 00:00:11,128 fedbiomed INFO - log from: node_5ef29a9f-9647-4c43-b45a-37a67ce9b237 / INFO - Train Epoch: 1 [2800/18000 (16%)]\tLoss: 0.231049\n",
      "2021-12-28 00:00:11,702 fedbiomed INFO - log from: node_84ef4966-1dae-4d55-aff3-d2bf17c3d68a / INFO - Train Epoch: 1 [2800/18000 (16%)]\tLoss: 0.101238\n",
      "2021-12-28 00:00:21,692 fedbiomed INFO - log from: node_9261632d-ca98-4d57-81a1-8c109560d8bd / INFO - Train Epoch: 1 [3000/16954 (18%)]\tLoss: 0.168530\n",
      "2021-12-28 00:00:22,406 fedbiomed INFO - log from: node_5ef29a9f-9647-4c43-b45a-37a67ce9b237 / INFO - Train Epoch: 1 [3000/18000 (17%)]\tLoss: 0.100855\n",
      "2021-12-28 00:00:22,922 fedbiomed INFO - log from: node_84ef4966-1dae-4d55-aff3-d2bf17c3d68a / INFO - Train Epoch: 1 [3000/18000 (17%)]\tLoss: 0.062463\n",
      "2021-12-28 00:00:33,384 fedbiomed INFO - log from: node_9261632d-ca98-4d57-81a1-8c109560d8bd / INFO - Train Epoch: 1 [3200/16954 (19%)]\tLoss: 0.078088\n",
      "2021-12-28 00:00:34,223 fedbiomed INFO - log from: node_5ef29a9f-9647-4c43-b45a-37a67ce9b237 / INFO - Train Epoch: 1 [3200/18000 (18%)]\tLoss: 0.091644\n",
      "2021-12-28 00:00:34,690 fedbiomed INFO - log from: node_84ef4966-1dae-4d55-aff3-d2bf17c3d68a / INFO - Train Epoch: 1 [3200/18000 (18%)]\tLoss: 0.220261\n",
      "2021-12-28 00:00:44,135 fedbiomed INFO - log from: node_9261632d-ca98-4d57-81a1-8c109560d8bd / INFO - Train Epoch: 1 [3400/16954 (20%)]\tLoss: 0.360789\n",
      "2021-12-28 00:00:45,032 fedbiomed INFO - log from: node_5ef29a9f-9647-4c43-b45a-37a67ce9b237 / INFO - Train Epoch: 1 [3400/18000 (19%)]\tLoss: 0.095609\n",
      "2021-12-28 00:00:45,731 fedbiomed INFO - log from: node_84ef4966-1dae-4d55-aff3-d2bf17c3d68a / INFO - Train Epoch: 1 [3400/18000 (19%)]\tLoss: 0.125476\n",
      "2021-12-28 00:00:56,212 fedbiomed INFO - log from: node_9261632d-ca98-4d57-81a1-8c109560d8bd / INFO - Train Epoch: 1 [3600/16954 (21%)]\tLoss: 0.133772\n",
      "2021-12-28 00:00:56,932 fedbiomed INFO - log from: node_5ef29a9f-9647-4c43-b45a-37a67ce9b237 / INFO - Train Epoch: 1 [3600/18000 (20%)]\tLoss: 0.138134\n",
      "2021-12-28 00:00:57,507 fedbiomed INFO - log from: node_84ef4966-1dae-4d55-aff3-d2bf17c3d68a / INFO - Train Epoch: 1 [3600/18000 (20%)]\tLoss: 0.150823\n",
      "2021-12-28 00:01:07,014 fedbiomed INFO - log from: node_9261632d-ca98-4d57-81a1-8c109560d8bd / INFO - Train Epoch: 1 [3800/16954 (22%)]\tLoss: 0.147597\n",
      "2021-12-28 00:01:07,852 fedbiomed INFO - log from: node_5ef29a9f-9647-4c43-b45a-37a67ce9b237 / INFO - Train Epoch: 1 [3800/18000 (21%)]\tLoss: 0.127020\n",
      "2021-12-28 00:01:08,510 fedbiomed INFO - log from: node_84ef4966-1dae-4d55-aff3-d2bf17c3d68a / INFO - Train Epoch: 1 [3800/18000 (21%)]\tLoss: 0.130630\n",
      "2021-12-28 00:01:18,605 fedbiomed INFO - log from: node_9261632d-ca98-4d57-81a1-8c109560d8bd / INFO - Train Epoch: 1 [4000/16954 (24%)]\tLoss: 0.089235\n",
      "2021-12-28 00:01:19,679 fedbiomed INFO - log from: node_5ef29a9f-9647-4c43-b45a-37a67ce9b237 / INFO - Train Epoch: 1 [4000/18000 (22%)]\tLoss: 0.094383\n",
      "2021-12-28 00:01:20,326 fedbiomed INFO - log from: node_84ef4966-1dae-4d55-aff3-d2bf17c3d68a / INFO - Train Epoch: 1 [4000/18000 (22%)]\tLoss: 0.064154\n",
      "2021-12-28 00:01:31,557 fedbiomed INFO - log from: node_9261632d-ca98-4d57-81a1-8c109560d8bd / INFO - Train Epoch: 1 [4200/16954 (25%)]\tLoss: 0.123235\n",
      "2021-12-28 00:01:32,838 fedbiomed INFO - log from: node_5ef29a9f-9647-4c43-b45a-37a67ce9b237 / INFO - Train Epoch: 1 [4200/18000 (23%)]\tLoss: 0.369039\n",
      "2021-12-28 00:01:33,709 fedbiomed INFO - log from: node_84ef4966-1dae-4d55-aff3-d2bf17c3d68a / INFO - Train Epoch: 1 [4200/18000 (23%)]\tLoss: 0.291581\n",
      "2021-12-28 00:01:43,917 fedbiomed INFO - log from: node_9261632d-ca98-4d57-81a1-8c109560d8bd / INFO - Train Epoch: 1 [4400/16954 (26%)]\tLoss: 0.100552\n",
      "2021-12-28 00:01:45,126 fedbiomed INFO - log from: node_5ef29a9f-9647-4c43-b45a-37a67ce9b237 / INFO - Train Epoch: 1 [4400/18000 (24%)]\tLoss: 0.104724\n",
      "2021-12-28 00:01:45,969 fedbiomed INFO - log from: node_84ef4966-1dae-4d55-aff3-d2bf17c3d68a / INFO - Train Epoch: 1 [4400/18000 (24%)]\tLoss: 0.074342\n",
      "2021-12-28 00:01:59,010 fedbiomed INFO - log from: node_5ef29a9f-9647-4c43-b45a-37a67ce9b237 / INFO - Train Epoch: 1 [4600/18000 (26%)]\tLoss: 0.067885\n",
      "2021-12-28 00:01:59,314 fedbiomed INFO - log from: node_84ef4966-1dae-4d55-aff3-d2bf17c3d68a / INFO - Train Epoch: 1 [4600/18000 (26%)]\tLoss: 0.068917\n",
      "2021-12-28 00:02:00,190 fedbiomed INFO - log from: node_9261632d-ca98-4d57-81a1-8c109560d8bd / INFO - Train Epoch: 1 [4600/16954 (27%)]\tLoss: 0.093443\n",
      "2021-12-28 00:02:12,223 fedbiomed INFO - log from: node_5ef29a9f-9647-4c43-b45a-37a67ce9b237 / INFO - Train Epoch: 1 [4800/18000 (27%)]\tLoss: 0.063289\n",
      "2021-12-28 00:02:13,280 fedbiomed INFO - log from: node_84ef4966-1dae-4d55-aff3-d2bf17c3d68a / INFO - Train Epoch: 1 [4800/18000 (27%)]\tLoss: 0.047012\n",
      "2021-12-28 00:02:16,163 fedbiomed INFO - log from: node_9261632d-ca98-4d57-81a1-8c109560d8bd / INFO - Train Epoch: 1 [4800/16954 (28%)]\tLoss: 0.118663\n",
      "2021-12-28 00:02:24,244 fedbiomed INFO - log from: node_5ef29a9f-9647-4c43-b45a-37a67ce9b237 / DEBUG - Reached 250 batches for this epoch, ignore remaining data\n",
      "2021-12-28 00:02:25,768 fedbiomed INFO - log from: node_84ef4966-1dae-4d55-aff3-d2bf17c3d68a / DEBUG - Reached 250 batches for this epoch, ignore remaining data\n",
      "2021-12-28 00:02:28,643 fedbiomed INFO - log from: node_9261632d-ca98-4d57-81a1-8c109560d8bd / DEBUG - Reached 250 batches for this epoch, ignore remaining data\n",
      "2021-12-28 00:02:29,925 fedbiomed INFO - log from: node_84ef4966-1dae-4d55-aff3-d2bf17c3d68a / INFO - results uploaded successfully \n",
      "2021-12-28 00:02:31,596 fedbiomed INFO - log from: node_9261632d-ca98-4d57-81a1-8c109560d8bd / INFO - results uploaded successfully \n",
      "2021-12-28 00:02:40,411 fedbiomed INFO - Downloading model params after training on node_84ef4966-1dae-4d55-aff3-d2bf17c3d68a - from http://localhost:8844/media/uploads/2021/12/27/node_params_127e9825-3d79-4f91-ba48-bc22b779363d.pt\n",
      "2021-12-28 00:02:56,959 fedbiomed INFO - Downloading model params after training on node_9261632d-ca98-4d57-81a1-8c109560d8bd - from http://localhost:8844/media/uploads/2021/12/27/node_params_5347a719-c312-4b94-b673-9b7a076c3b28.pt\n",
      "2021-12-28 00:03:04,552 fedbiomed INFO - log from: node_5ef29a9f-9647-4c43-b45a-37a67ce9b237 / INFO - results uploaded successfully \n",
      "2021-12-28 00:03:12,953 fedbiomed INFO - Downloading model params after training on node_5ef29a9f-9647-4c43-b45a-37a67ce9b237 - from http://localhost:8844/media/uploads/2021/12/27/node_params_a3277892-1ae1-4ad8-b583-a9bb1ec1ab3a.pt\n",
      "2021-12-28 00:03:14,050 fedbiomed INFO - Nodes that successfully reply in round 2 ['node_84ef4966-1dae-4d55-aff3-d2bf17c3d68a', 'node_9261632d-ca98-4d57-81a1-8c109560d8bd', 'node_5ef29a9f-9647-4c43-b45a-37a67ce9b237']\n"
     ]
    }
   ],
   "source": [
    "exp.run()"
   ]
  },
  {
   "cell_type": "markdown",
   "metadata": {
    "pycharm": {
     "name": "#%% md\n"
    }
   },
   "source": [
    "## Testing\n"
   ]
  },
  {
   "cell_type": "markdown",
   "metadata": {},
   "source": [
    "Once the federated model is obtained, it is possible to test it locally on an independent testing partition.\n",
    "The test dataset is available at this link:\n",
    "\n",
    "https://drive.google.com/file/d/1YbwA0WitMoucoIa_Qao7IC1haPfDp-XD/"
   ]
  },
  {
   "cell_type": "code",
   "execution_count": 27,
   "metadata": {
    "pycharm": {
     "name": "#%% md\n"
    }
   },
   "outputs": [
    {
     "name": "stdout",
     "output_type": "stream",
     "text": [
      "MONAI version: 0.8.0\n",
      "Numpy version: 1.19.1\n",
      "Pytorch version: 1.10.0\n",
      "MONAI flags: HAS_EXT = False, USE_COMPILED = False\n",
      "MONAI rev id: 714d00dffe6653e21260160666c4c201ab66511b\n",
      "\n",
      "Optional dependencies:\n",
      "Pytorch Ignite version: NOT INSTALLED or UNKNOWN VERSION.\n",
      "Nibabel version: NOT INSTALLED or UNKNOWN VERSION.\n",
      "scikit-image version: NOT INSTALLED or UNKNOWN VERSION.\n",
      "Pillow version: 8.4.0\n",
      "Tensorboard version: 2.7.0\n",
      "gdown version: 4.2.0\n",
      "TorchVision version: 0.11.1\n",
      "tqdm version: 4.62.3\n",
      "lmdb version: NOT INSTALLED or UNKNOWN VERSION.\n",
      "psutil version: NOT INSTALLED or UNKNOWN VERSION.\n",
      "pandas version: 1.3.4\n",
      "einops version: NOT INSTALLED or UNKNOWN VERSION.\n",
      "transformers version: NOT INSTALLED or UNKNOWN VERSION.\n",
      "mlflow version: NOT INSTALLED or UNKNOWN VERSION.\n",
      "\n",
      "For details about installing the optional dependencies, please visit:\n",
      "    https://docs.monai.io/en/latest/installation.html#installing-the-recommended-dependencies\n",
      "\n"
     ]
    }
   ],
   "source": [
    "import os\n",
    "import shutil\n",
    "import tempfile\n",
    "import PIL\n",
    "import torch\n",
    "import numpy as np\n",
    "from sklearn.metrics import classification_report\n",
    "\n",
    "from monai.config import print_config\n",
    "from monai.data import decollate_batch\n",
    "from monai.metrics import ROCAUCMetric\n",
    "from monai.networks.nets import DenseNet121\n",
    "import zipfile\n",
    "from monai.transforms import (\n",
    "    Activations,\n",
    "    AddChannel,\n",
    "    AsDiscrete,\n",
    "    Compose,\n",
    "    LoadImage,\n",
    "    RandFlip,\n",
    "    RandRotate,\n",
    "    RandZoom,\n",
    "    ScaleIntensity,\n",
    "    EnsureType,\n",
    ")\n",
    "from monai.utils import set_determinism\n",
    "\n",
    "print_config()"
   ]
  },
  {
   "cell_type": "markdown",
   "metadata": {},
   "source": [
    "Download the testing dataset on the local temporary folder."
   ]
  },
  {
   "cell_type": "code",
   "execution_count": 46,
   "metadata": {},
   "outputs": [
    {
     "name": "stderr",
     "output_type": "stream",
     "text": [
      "Downloading...\n",
      "From: https://drive.google.com/uc?id=1YbwA0WitMoucoIa_Qao7IC1haPfDp-XD\n",
      "To: /Users/mlorenzi/works/temp/fedbiomed/var/tmp/tmphi8wza9t/MedNIST_testing.zip\n",
      "100%|███████████████████████████████████████████████████████████████████████████████████████████████████████████████████████████████████████████| 9.50M/9.50M [00:33<00:00, 283kB/s]\n"
     ]
    }
   ],
   "source": [
    "import gdown\n",
    "import zipfile\n",
    "\n",
    "resource = \"https://drive.google.com/uc?id=1YbwA0WitMoucoIa_Qao7IC1haPfDp-XD\"\n",
    "base_dir = tmp_dir_model.name \n",
    "test_file = base_dir  + '/MedNIST_testing.zip'\n",
    "\n",
    "data_dir = tmp_dir_model.name + '/MedNIST_testing'\n",
    "\n",
    "if not os.path.exists(data_dir):\n",
    "    os.mkdir(data_dir)\n",
    "\n",
    "gdown.download(resource, test_file, quiet=False)\n",
    "\n",
    "zf = zipfile.ZipFile(test_file)\n",
    "\n",
    "for file in zf.infolist():\n",
    "    zf.extract(file, data_dir)"
   ]
  },
  {
   "cell_type": "markdown",
   "metadata": {},
   "source": [
    "Parse the data and create the testing data loader:"
   ]
  },
  {
   "cell_type": "code",
   "execution_count": 60,
   "metadata": {},
   "outputs": [
    {
     "name": "stdout",
     "output_type": "stream",
     "text": [
      "Total image count: 6000\n",
      "Image dimensions: 64 x 64\n",
      "Label names: ['AbdomenCT', 'BreastMRI', 'CXR', 'ChestCT', 'Hand', 'HeadCT']\n",
      "Label counts: [1000, 1000, 1000, 1000, 1000, 1000]\n"
     ]
    }
   ],
   "source": [
    "class_names = sorted(x for x in os.listdir(data_dir)\n",
    "                     if os.path.isdir(os.path.join(data_dir, x)))\n",
    "num_class = len(class_names)\n",
    "image_files = [\n",
    "    [\n",
    "        os.path.join(data_dir, class_names[i], x)\n",
    "        for x in os.listdir(os.path.join(data_dir, class_names[i]))\n",
    "    ]\n",
    "    for i in range(num_class)\n",
    "]\n",
    "\n",
    "num_each = [len(image_files[i]) for i in range(num_class)]\n",
    "image_files_list = []\n",
    "\n",
    "image_class = []\n",
    "for i in range(num_class):\n",
    "    image_files_list.extend(image_files[i])\n",
    "    image_class.extend([i] * num_each[i])\n",
    "num_total = len(image_class)\n",
    "image_width, image_height = PIL.Image.open(image_files_list[0]).size\n",
    "\n",
    "print(f\"Total image count: {num_total}\")\n",
    "print(f\"Image dimensions: {image_width} x {image_height}\")\n",
    "print(f\"Label names: {class_names}\")\n",
    "print(f\"Label counts: {num_each}\")"
   ]
  },
  {
   "cell_type": "code",
   "execution_count": 61,
   "metadata": {},
   "outputs": [],
   "source": [
    "length = len(image_files_list)\n",
    "indices = np.arange(length)\n",
    "np.random.shuffle(indices)\n",
    "\n",
    "\n",
    "test_split = int(0.1 * length)\n",
    "test_indices = indices[:test_split]\n",
    "\n",
    "test_x = [image_files_list[i] for i in test_indices]\n",
    "test_y = [image_class[i] for i in test_indices]\n",
    "\n",
    "val_transforms = Compose(\n",
    "    [LoadImage(image_only=True), AddChannel(), ScaleIntensity(), EnsureType()])\n",
    "\n",
    "y_pred_trans = Compose([EnsureType(), Activations(softmax=True)])\n",
    "y_trans = Compose([EnsureType(), AsDiscrete(to_onehot=num_class)])"
   ]
  },
  {
   "cell_type": "code",
   "execution_count": 62,
   "metadata": {},
   "outputs": [],
   "source": [
    "class MedNISTDataset(torch.utils.data.Dataset):\n",
    "    def __init__(self, image_files, labels, transforms):\n",
    "        self.image_files = image_files\n",
    "        self.labels = labels\n",
    "        self.transforms = transforms\n",
    "\n",
    "    def __len__(self):\n",
    "        return len(self.image_files)\n",
    "\n",
    "    def __getitem__(self, index):\n",
    "        return self.transforms(self.image_files[index]), self.labels[index]\n",
    "\n",
    "\n",
    "test_ds = MedNISTDataset(test_x, test_y, val_transforms)\n",
    "test_loader = torch.utils.data.DataLoader(\n",
    "    test_ds, batch_size=300)"
   ]
  },
  {
   "cell_type": "markdown",
   "metadata": {},
   "source": [
    "Define testing metric:"
   ]
  },
  {
   "cell_type": "code",
   "execution_count": 63,
   "metadata": {},
   "outputs": [],
   "source": [
    "auc_metric = ROCAUCMetric()"
   ]
  },
  {
   "cell_type": "markdown",
   "metadata": {},
   "source": [
    "To test the federated model we need to create a model instance and assign to it the model parameters estimated at the last federated optimization round."
   ]
  },
  {
   "cell_type": "code",
   "execution_count": 64,
   "metadata": {},
   "outputs": [
    {
     "data": {
      "text/plain": [
       "<All keys matched successfully>"
      ]
     },
     "execution_count": 64,
     "metadata": {},
     "output_type": "execute_result"
    }
   ],
   "source": [
    "model = exp.model_instance\n",
    "model.load_state_dict(exp.aggregated_params[rounds - 1]['params'])"
   ]
  },
  {
   "cell_type": "markdown",
   "metadata": {},
   "source": [
    "Compute the testing performance:"
   ]
  },
  {
   "cell_type": "code",
   "execution_count": 66,
   "metadata": {},
   "outputs": [],
   "source": [
    "device = torch.device(\"cuda\" if torch.cuda.is_available() else \"cpu\")\n",
    "\n",
    "y_true = []\n",
    "y_pred = []\n",
    "with torch.no_grad():\n",
    "    for test_data in test_loader:\n",
    "        test_images, test_labels = (\n",
    "            test_data[0].to(device),\n",
    "            test_data[1].to(device),\n",
    "        )\n",
    "        pred = model(test_images).argmax(dim=1)\n",
    "        for i in range(len(pred)):\n",
    "            y_true.append(test_labels[i].item())\n",
    "            y_pred.append(pred[i].item())\n"
   ]
  },
  {
   "cell_type": "code",
   "execution_count": 67,
   "metadata": {},
   "outputs": [
    {
     "name": "stdout",
     "output_type": "stream",
     "text": [
      "              precision    recall  f1-score   support\n",
      "\n",
      "   AbdomenCT     1.0000    1.0000    1.0000        97\n",
      "   BreastMRI     1.0000    1.0000    1.0000       108\n",
      "         CXR     1.0000    0.9899    0.9949        99\n",
      "     ChestCT     1.0000    1.0000    1.0000        92\n",
      "        Hand     0.9904    1.0000    0.9952       103\n",
      "      HeadCT     1.0000    1.0000    1.0000       101\n",
      "\n",
      "    accuracy                         0.9983       600\n",
      "   macro avg     0.9984    0.9983    0.9983       600\n",
      "weighted avg     0.9983    0.9983    0.9983       600\n",
      "\n"
     ]
    },
    {
     "name": "stderr",
     "output_type": "stream",
     "text": [
      "2021-12-28 14:52:49,345 fedbiomed INFO - log from: node_84ef4966-1dae-4d55-aff3-d2bf17c3d68a / CRITICAL - Node stopped in signal_handler, probably by user decision (Ctrl C)\n",
      "2021-12-28 14:52:50,814 fedbiomed INFO - log from: node_9261632d-ca98-4d57-81a1-8c109560d8bd / CRITICAL - Node stopped in signal_handler, probably by user decision (Ctrl C)\n"
     ]
    }
   ],
   "source": [
    "print(classification_report(\n",
    "    y_true, y_pred, target_names=class_names, digits=4))"
   ]
  },
  {
   "cell_type": "markdown",
   "metadata": {},
   "source": [
    "In spite of the relatively small training performed on the data shared in the 3 nodes, the performance of the federated model seems pretty good. Well done! "
   ]
  }
 ],
 "metadata": {
  "kernelspec": {
   "display_name": "Python 3 (ipykernel)",
   "language": "python",
   "name": "python3"
  },
  "language_info": {
   "codemirror_mode": {
    "name": "ipython",
    "version": 3
   },
   "file_extension": ".py",
   "mimetype": "text/x-python",
   "name": "python",
   "nbconvert_exporter": "python",
   "pygments_lexer": "ipython3",
   "version": "3.8.12"
  }
 },
 "nbformat": 4,
 "nbformat_minor": 4
}

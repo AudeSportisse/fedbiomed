{
 "cells": [
  {
   "cell_type": "markdown",
   "metadata": {},
   "source": [
    "# Missing data imputation with Fedbiomed using MIWAE"
   ]
  },
  {
   "cell_type": "markdown",
   "metadata": {},
   "source": [
    "In this notebook we show how to impute missing not at random (MAR) data in a federated setting using MIWAE (https://arxiv.org/abs/2006.12871). "
   ]
  },
  {
   "cell_type": "code",
   "execution_count": 1,
   "metadata": {},
   "outputs": [],
   "source": [
    "%load_ext autoreload\n",
    "%autoreload 2"
   ]
  },
  {
   "cell_type": "markdown",
   "metadata": {},
   "source": [
    "## Prepare the data"
   ]
  },
  {
   "cell_type": "markdown",
   "metadata": {},
   "source": [
    "For this experiment we will use the breast cancer data from sklearn."
   ]
  },
  {
   "cell_type": "code",
   "execution_count": 2,
   "metadata": {},
   "outputs": [],
   "source": [
    "import pandas as pd\n",
    "import numpy as np\n",
    "\n",
    "data_url = \"http://lib.stat.cmu.edu/datasets/boston\"\n",
    "raw_df = pd.read_csv(data_url, sep=\"\\s+\", skiprows=22, header=None)\n",
    "data = np.hstack([raw_df.values[::2, :], raw_df.values[1::2, :2]])\n",
    "target = raw_df.values[1::2, 2]"
   ]
  },
  {
   "cell_type": "code",
   "execution_count": 3,
   "metadata": {},
   "outputs": [
    {
     "name": "stderr",
     "output_type": "stream",
     "text": [
      "/var/folders/_y/9jdpr0nx7vd24rm0cndt_ntm0000gp/T/ipykernel_17099/1867364508.py:23: DeprecationWarning: `np.int` is a deprecated alias for the builtin `int`. To silence this warning, use `int` by itself. Doing this will not modify any behavior and is safe. When replacing `np.int`, you may wish to use e.g. `np.int64` or `np.int32` to specify the precision. If you wish to review your current use, check the release note link for additional information.\n",
      "Deprecated in NumPy 1.20; for more details and guidance: https://numpy.org/devdocs/release/1.20.0-notes.html#deprecations\n",
      "  miss_pattern = np.random.choice(n*p, np.floor(n*p*perc_miss).astype(np.int), replace=False)\n"
     ]
    }
   ],
   "source": [
    "from sklearn.model_selection import train_test_split\n",
    "\n",
    "data_train, data_test, labels_train, labels_test = train_test_split(data, target, test_size=0.20, random_state=42)\n",
    "df_data_train = pd.DataFrame(data_train)\n",
    "N_train = len(df_data_train)\n",
    "client_1, client_2, client_3 = np.split(df_data_train.sample(frac=1), \\\n",
    "                                        [int(.33*N_train), int(.66*len(df_data_train))])\n",
    "\n",
    "Clients_data=[client_1, client_2, client_3]\n",
    "\n",
    "# from each dataset we will remove randomly 50% of data\n",
    "np.random.seed(1234)\n",
    "\n",
    "perc_miss = 0.5 # 50% of missing data\n",
    "\n",
    "Clients_missing = []\n",
    "for c in Clients_data:\n",
    "    n = c.shape[0] # number of observations\n",
    "    p = c.shape[1] # number of features\n",
    "    xmiss = np.copy(c)\n",
    "    xmiss = (xmiss - np.mean(xmiss,0))/np.std(xmiss,0)\n",
    "    xmiss_flat = xmiss.flatten()\n",
    "    miss_pattern = np.random.choice(n*p, np.floor(n*p*perc_miss).astype(np.int),\\\n",
    "                                    replace=False)\n",
    "    xmiss_flat[miss_pattern] = np.nan \n",
    "    xmiss = xmiss_flat.reshape([n,p]) # in xmiss, the missing values are represented by nans\n",
    "    mask = np.isfinite(xmiss) # binary mask that indicates which values are missing\n",
    "    Clients_missing.append(xmiss)\n",
    "\n",
    "import os \n",
    "os.makedirs('clients_data', exist_ok=True) \n",
    "for i in range(len(Clients_missing)):\n",
    "    pd.DataFrame(Clients_missing[i]).to_csv('clients_data/client_'+str(i+1)+'.csv')"
   ]
  },
  {
   "cell_type": "markdown",
   "metadata": {},
   "source": [
    "## Start the network\n",
    "Before running this notebook, start the network with `./scripts/fedbiomed_run network`"
   ]
  },
  {
   "cell_type": "markdown",
   "metadata": {},
   "source": [
    "## Setting the nodes up\n",
    "It is necessary to previously configure a node:\n",
    "1. `./scripts/fedbiomed_run node add`\n",
    "  * Select option 1 (csv) to add client_1 dataset to the first node\n",
    "  * Provide the correct tag by entering:  breast_cancer\n",
    "  * Pick the folder where client_1 dataset has been saved\n",
    "  * Data must have been added (if you get a warning saying that data must be unique is because it's been already added)\n",
    "  \n",
    "2. Check that your data has been added by executing `./scripts/fedbiomed_run node list`\n",
    "3. Run the node using `./scripts/fedbiomed_run node start`. Wait until you get `Starting task manager`. it means you are online.\n",
    "4. Following the same procedure, you can create additional nodes for clients 2 and 3."
   ]
  },
  {
   "cell_type": "markdown",
   "metadata": {},
   "source": [
    "Check available clients:"
   ]
  },
  {
   "cell_type": "code",
   "execution_count": 4,
   "metadata": {},
   "outputs": [
    {
     "name": "stderr",
     "output_type": "stream",
     "text": [
      "2022-04-15 14:20:57,824 fedbiomed INFO - Component environment:\n",
      "2022-04-15 14:20:57,825 fedbiomed INFO - type = ComponentType.RESEARCHER\n",
      "2022-04-15 14:20:57,865 fedbiomed INFO - Messaging researcher_cda2fb34-f12f-41cc-9c23-d61d107b97f4 successfully connected to the message broker, object = <fedbiomed.common.messaging.Messaging object at 0x11b3c5f70>\n",
      "2022-04-15 14:20:57,915 fedbiomed INFO - Listing available datasets in all nodes... \n",
      "2022-04-15 14:21:07,941 fedbiomed INFO - \n",
      " Node: node_0fe17841-14d6-4f76-b61d-7b2708b6d95d | Number of Datasets: 1 \n",
      "+---------------+-------------+-------------------+---------------+-----------+\n",
      "| name          | data_type   | tags              | description   | shape     |\n",
      "+===============+=============+===================+===============+===========+\n",
      "| breast_cancer | csv         | ['breast_cancer'] | breast_cancer | [133, 14] |\n",
      "+---------------+-------------+-------------------+---------------+-----------+\n",
      "\n",
      "2022-04-15 14:21:07,942 fedbiomed INFO - \n",
      " Node: node_d1b08824-64cd-43a6-a4e5-e0ef62d3d764 | Number of Datasets: 1 \n",
      "+---------------+-------------+-------------------+---------------+-----------+\n",
      "| name          | data_type   | tags              | description   | shape     |\n",
      "+===============+=============+===================+===============+===========+\n",
      "| breast_cancer | csv         | ['breast_cancer'] | breast_cancer | [138, 14] |\n",
      "+---------------+-------------+-------------------+---------------+-----------+\n",
      "\n",
      "2022-04-15 14:21:07,944 fedbiomed INFO - \n",
      " Node: node_bc08b50a-1b46-407a-8341-2bf317f2506d | Number of Datasets: 1 \n",
      "+---------------+-------------+-------------------+---------------+-----------+\n",
      "| name          | data_type   | tags              | description   | shape     |\n",
      "+===============+=============+===================+===============+===========+\n",
      "| breast_cancer | csv         | ['breast_cancer'] | breast_cancer | [133, 14] |\n",
      "+---------------+-------------+-------------------+---------------+-----------+\n",
      "\n"
     ]
    },
    {
     "data": {
      "text/plain": [
       "{'node_0fe17841-14d6-4f76-b61d-7b2708b6d95d': [{'name': 'breast_cancer',\n",
       "   'data_type': 'csv',\n",
       "   'tags': ['breast_cancer'],\n",
       "   'description': 'breast_cancer',\n",
       "   'shape': [133, 14]}],\n",
       " 'node_d1b08824-64cd-43a6-a4e5-e0ef62d3d764': [{'name': 'breast_cancer',\n",
       "   'data_type': 'csv',\n",
       "   'tags': ['breast_cancer'],\n",
       "   'description': 'breast_cancer',\n",
       "   'shape': [138, 14]}],\n",
       " 'node_bc08b50a-1b46-407a-8341-2bf317f2506d': [{'name': 'breast_cancer',\n",
       "   'data_type': 'csv',\n",
       "   'tags': ['breast_cancer'],\n",
       "   'description': 'breast_cancer',\n",
       "   'shape': [133, 14]}]}"
      ]
     },
     "execution_count": 4,
     "metadata": {},
     "output_type": "execute_result"
    }
   ],
   "source": [
    "from fedbiomed.researcher.requests import Requests\n",
    "req = Requests()\n",
    "req.list(verbose=True)"
   ]
  },
  {
   "cell_type": "markdown",
   "metadata": {},
   "source": [
    "## Define an experiment model and parameters"
   ]
  },
  {
   "cell_type": "markdown",
   "metadata": {},
   "source": [
    "Declare a torch.nn MIWAETrainingPlan class to send for training on the node"
   ]
  },
  {
   "cell_type": "markdown",
   "metadata": {},
   "source": [
    "Note : write **only** the code to export in the following cell"
   ]
  },
  {
   "cell_type": "code",
   "execution_count": 59,
   "metadata": {},
   "outputs": [],
   "source": [
    "import torch\n",
    "import torch.nn as nn\n",
    "#from torch.nn import functional as F\n",
    "import torchvision\n",
    "from torchvision import datasets, transforms\n",
    "import numpy as np\n",
    "#import scipy.stats\n",
    "#import scipy.io\n",
    "#import scipy.sparse\n",
    "#from scipy.io import loadmat\n",
    "import torch.distributions as td\n",
    "import pandas as pd\n",
    "\n",
    "from fedbiomed.common.training_plans import TorchTrainingPlan\n",
    "from fedbiomed.common.data import DataManager\n",
    "from fedbiomed.common.constants import ProcessTypes\n",
    "\n",
    "# Here we define the model to be used. \n",
    "# You can use any class name (here 'Net')\n",
    "class MIWAETrainingPlan(TorchTrainingPlan):\n",
    "    def __init__(self, model_args: dict = {}):\n",
    "        super(MIWAETrainingPlan, self).__init__(model_args)\n",
    "        \n",
    "        # Here we define the custom dependencies that will be needed by our custom Dataloader\n",
    "        deps = [\"from torchvision import datasets, transforms\",\n",
    "               \"import torch.distributions as td\",\n",
    "               \"import pandas as pd\",\n",
    "               \"import numpy as np\"]\n",
    "        \n",
    "        self.n_features=model_args['n_features']\n",
    "        self.n_latent=model_args['n_latent']\n",
    "        self.n_hidden=model_args['n_hidden']\n",
    "        self.n_samples=model_args['n_samples']\n",
    "        \n",
    "        self.add_dependency(deps)\n",
    "        \n",
    "        # the encoder will output both the mean and the diagonal covariance\n",
    "        self.encoder=nn.Sequential(\n",
    "                        torch.nn.Linear(self.n_features, self.n_hidden),\n",
    "                        torch.nn.ReLU(),\n",
    "                        torch.nn.Linear(self.n_hidden, self.n_hidden),\n",
    "                        torch.nn.ReLU(),\n",
    "                        torch.nn.Linear(self.n_hidden, 2*self.n_latent),  \n",
    "                        )\n",
    "        # the decoder will output both the mean, the scale, \n",
    "        # and the number of degrees of freedoms (hence the 3*p)\n",
    "        self.decoder = nn.Sequential(\n",
    "                        torch.nn.Linear(self.n_latent, self.n_hidden),\n",
    "                        torch.nn.ReLU(),\n",
    "                        torch.nn.Linear(self.n_hidden, self.n_hidden),\n",
    "                        torch.nn.ReLU(),\n",
    "                        torch.nn.Linear(self.n_hidden, 3*self.n_features),  \n",
    "                        )\n",
    "        \n",
    "        self.optimizer = torch.optim.Adam(list(self.encoder.parameters()) \\\n",
    "                                    + list(self.decoder.parameters()),lr=1e-3)\n",
    "    \n",
    "    def miwae_loss(self,iota_x,mask):\n",
    "        batch_size = iota_x.shape[0]\n",
    "        out_encoder = self.encoder(iota_x)\n",
    "        # prior\n",
    "        p_z = td.Independent(td.Normal(loc=torch.zeros(self.n_latent).to(self.device)\\\n",
    "                                       ,scale=torch.ones(self.n_latent).to(self.device)),1)\n",
    "        \n",
    "        q_zgivenxobs = td.Independent(td.Normal(loc=out_encoder[..., :self.n_latent],\\\n",
    "                                                scale=torch.nn.Softplus()\\\n",
    "                                                (out_encoder[..., self.n_latent:\\\n",
    "                                                             (2*self.n_latent)])),1)\n",
    "\n",
    "        zgivenx = q_zgivenxobs.rsample([self.n_samples])\n",
    "        zgivenx_flat = zgivenx.reshape([self.n_samples*batch_size,self.n_latent])\n",
    "\n",
    "        out_decoder = self.decoder(zgivenx_flat)\n",
    "        all_means_obs_model = out_decoder[..., :self.n_features]\n",
    "        all_scales_obs_model = torch.nn.Softplus()(out_decoder[..., self.n_features:\\\n",
    "                                                               (2*self.n_features)]) + 0.001\n",
    "        all_degfreedom_obs_model = torch.nn.Softplus()\\\n",
    "        (out_decoder[..., (2*self.n_features):(3*self.n_features)]) + 3\n",
    "\n",
    "        data_flat = torch.Tensor.repeat(iota_x,[self.n_samples,1]).reshape([-1,1])\n",
    "        tiledmask = torch.Tensor.repeat(mask,[self.n_samples,1])\n",
    "\n",
    "        all_log_pxgivenz_flat = torch.distributions.StudentT\\\n",
    "        (loc=all_means_obs_model.reshape([-1,1]),\\\n",
    "         scale=all_scales_obs_model.reshape([-1,1]),\\\n",
    "         df=all_degfreedom_obs_model.reshape([-1,1])).log_prob(data_flat)\n",
    "        all_log_pxgivenz = all_log_pxgivenz_flat.reshape([self.n_samples*batch_size,self.n_features])\n",
    "\n",
    "        logpxobsgivenz = torch.sum(all_log_pxgivenz*tiledmask,1).reshape([self.n_samples,batch_size])\n",
    "        logpz = p_z.log_prob(zgivenx)\n",
    "        logq = q_zgivenxobs.log_prob(zgivenx)\n",
    "\n",
    "        neg_bound = -torch.mean(torch.logsumexp(logpxobsgivenz + logpz - logq,0))\n",
    "\n",
    "        return neg_bound\n",
    "\n",
    "    def training_data(self,  batch_size = 48):\n",
    "        \n",
    "        df = pd.read_csv(self.dataset_path, sep=',', index_col=False)\n",
    "        x_train = df.values\n",
    "        x_mask = np.isfinite(x_train)\n",
    "        xhat_0 = np.copy(x_train)\n",
    "        xhat_0[np.isnan(x_train)] = 0\n",
    "        print(x_train[0])\n",
    "        print(x_mask[0])\n",
    "        print(xhat_0[0])\n",
    "        train_kwargs = {'batch_size': batch_size, 'shuffle': True}\n",
    "        \n",
    "        data_manager = DataManager(dataset=xhat_0 , target=x_mask , **train_kwargs)\n",
    "        \n",
    "        return data_manager\n",
    "    \n",
    "    def training_step(self, data, mask):\n",
    "        self.encoder.zero_grad()\n",
    "        self.decoder.zero_grad()\n",
    "        loss = self.miwae_loss(iota_x = data,mask = mask)\n",
    "        return loss"
   ]
  },
  {
   "cell_type": "markdown",
   "metadata": {},
   "source": [
    "This group of arguments correspond respectively:\n",
    "* `model_args`: a dictionary with the arguments related to the model (e.g. number of layers, features, etc.). This will be passed to the model class on the node side. \n",
    "* `training_args`: a dictionary containing the arguments for the training routine (e.g. batch size, learning rate, epochs, etc.). This will be passed to the routine on the node side.\n",
    "If FedProx optimisation is requested, `fedprox_mu` parameter must be defined here. It also must be a float between XX and YY.\n",
    "\n",
    "**NOTE:** typos and/or lack of positional (required) arguments will raise error. 🤓"
   ]
  },
  {
   "cell_type": "code",
   "execution_count": 60,
   "metadata": {
    "pycharm": {
     "name": "#%%\n"
    }
   },
   "outputs": [],
   "source": [
    "model_args = {'n_features':14, 'n_latent':10,'n_hidden':128,'n_samples':20}\n",
    "\n",
    "training_args = {\n",
    "    'batch_size': 64, \n",
    "    'lr': 1e-3, \n",
    "    #'fedprox_mu': 0.01, \n",
    "    'epochs': 5, \n",
    "    'dry_run': False,  \n",
    "    'batch_maxnum': 100 # Fast pass for development : only use ( batch_maxnum * batch_size ) samples\n",
    "}"
   ]
  },
  {
   "cell_type": "markdown",
   "metadata": {},
   "source": [
    "## Declare and run the experiment\n",
    "\n",
    "- search nodes serving data for these `tags`, optionally filter on a list of node ID with `nodes`\n",
    "- run a round of local training on nodes with model defined in `model_path` + federation with `aggregator`\n",
    "- run for `round_limit` rounds, applying the `node_selection_strategy` between the rounds"
   ]
  },
  {
   "cell_type": "code",
   "execution_count": 61,
   "metadata": {
    "pycharm": {
     "name": "#%%\n"
    },
    "scrolled": true
   },
   "outputs": [
    {
     "name": "stderr",
     "output_type": "stream",
     "text": [
      "2022-04-15 16:16:39,597 fedbiomed INFO - Searching dataset with data tags: ['breast_cancer'] for all nodes\n",
      "2022-04-15 16:16:49,619 fedbiomed INFO - Node selected for training -> node_d1b08824-64cd-43a6-a4e5-e0ef62d3d764\n",
      "2022-04-15 16:16:49,622 fedbiomed INFO - Node selected for training -> node_bc08b50a-1b46-407a-8341-2bf317f2506d\n",
      "2022-04-15 16:16:49,623 fedbiomed INFO - Node selected for training -> node_0fe17841-14d6-4f76-b61d-7b2708b6d95d\n",
      "2022-04-15 16:16:49,638 fedbiomed INFO - Checking data quality of federated datasets...\n",
      "2022-04-15 16:16:49,653 fedbiomed DEBUG - Model file has been saved: /Users/balelli/ownCloud/INRIA_EPIONE/FedBioMed/fedbiomed/var/experiments/Experiment_0015/my_model_f2898798-9ca7-488b-8f17-06f63d214d0e.py\n",
      "2022-04-15 16:16:50,104 fedbiomed DEBUG - upload (HTTP POST request) of file /Users/balelli/ownCloud/INRIA_EPIONE/FedBioMed/fedbiomed/var/experiments/Experiment_0015/my_model_f2898798-9ca7-488b-8f17-06f63d214d0e.py successful, with status code 201\n",
      "2022-04-15 16:16:50,919 fedbiomed DEBUG - upload (HTTP POST request) of file /Users/balelli/ownCloud/INRIA_EPIONE/FedBioMed/fedbiomed/var/experiments/Experiment_0015/aggregated_params_init_45b557d2-369d-4cd0-aea7-d0f9d5e2cf5d.pt successful, with status code 201\n"
     ]
    }
   ],
   "source": [
    "from fedbiomed.researcher.experiment import Experiment\n",
    "from fedbiomed.researcher.aggregators.fedavg import FedAverage\n",
    "\n",
    "tags =  ['breast_cancer']\n",
    "rounds = 3\n",
    "\n",
    "exp = Experiment(tags=tags,\n",
    "                 model_args=model_args,\n",
    "                 model_class=MIWAETrainingPlan,\n",
    "                 training_args=training_args,\n",
    "                 round_limit=rounds,\n",
    "                 aggregator=FedAverage(),\n",
    "                 node_selection_strategy=None)"
   ]
  },
  {
   "cell_type": "markdown",
   "metadata": {
    "pycharm": {
     "name": "#%% md\n"
    }
   },
   "source": [
    "Let's start the experiment.\n",
    "\n",
    "By default, this function doesn't stop until all the `round_limit` rounds are done for all the nodes"
   ]
  },
  {
   "cell_type": "code",
   "execution_count": 62,
   "metadata": {
    "pycharm": {
     "name": "#%%\n"
    },
    "scrolled": true
   },
   "outputs": [
    {
     "name": "stderr",
     "output_type": "stream",
     "text": [
      "2022-04-15 16:16:51,031 fedbiomed INFO - Sampled nodes in round 0 ['node_d1b08824-64cd-43a6-a4e5-e0ef62d3d764', 'node_bc08b50a-1b46-407a-8341-2bf317f2506d', 'node_0fe17841-14d6-4f76-b61d-7b2708b6d95d']\n",
      "2022-04-15 16:16:51,033 fedbiomed INFO - \u001b[1mSending request\u001b[0m \n",
      "\t\t\t\t\t\u001b[1m To\u001b[0m: node_d1b08824-64cd-43a6-a4e5-e0ef62d3d764 \n",
      "\t\t\t\t\t\u001b[1m Request: \u001b[0m: Perform training with the arguments: {'researcher_id': 'researcher_cda2fb34-f12f-41cc-9c23-d61d107b97f4', 'job_id': 'c5dcaa30-9128-46bc-92ea-c7133cb1492f', 'training_args': {'test_ratio': 0.0, 'test_on_local_updates': False, 'test_on_global_updates': False, 'test_metric': None, 'test_metric_args': {}, 'batch_size': 64, 'lr': 0.001, 'epochs': 5, 'dry_run': False, 'batch_maxnum': 100}, 'training': True, 'model_args': {'n_features': 14, 'n_latent': 10, 'n_hidden': 128, 'n_samples': 20}, 'command': 'train', 'model_url': 'http://localhost:8844/media/uploads/2022/04/15/my_model_f2898798-9ca7-488b-8f17-06f63d214d0e.py', 'params_url': 'http://localhost:8844/media/uploads/2022/04/15/aggregated_params_init_45b557d2-369d-4cd0-aea7-d0f9d5e2cf5d.pt', 'model_class': 'MIWAETrainingPlan', 'training_data': {'node_d1b08824-64cd-43a6-a4e5-e0ef62d3d764': ['dataset_7d188ba5-0398-489c-92fb-005643ba5cd8']}} \n",
      " -----------------------------------------------------------------\n",
      "2022-04-15 16:16:51,035 fedbiomed DEBUG - researcher_cda2fb34-f12f-41cc-9c23-d61d107b97f4\n",
      "2022-04-15 16:16:51,039 fedbiomed INFO - \u001b[1mSending request\u001b[0m \n",
      "\t\t\t\t\t\u001b[1m To\u001b[0m: node_bc08b50a-1b46-407a-8341-2bf317f2506d \n",
      "\t\t\t\t\t\u001b[1m Request: \u001b[0m: Perform training with the arguments: {'researcher_id': 'researcher_cda2fb34-f12f-41cc-9c23-d61d107b97f4', 'job_id': 'c5dcaa30-9128-46bc-92ea-c7133cb1492f', 'training_args': {'test_ratio': 0.0, 'test_on_local_updates': False, 'test_on_global_updates': False, 'test_metric': None, 'test_metric_args': {}, 'batch_size': 64, 'lr': 0.001, 'epochs': 5, 'dry_run': False, 'batch_maxnum': 100}, 'training': True, 'model_args': {'n_features': 14, 'n_latent': 10, 'n_hidden': 128, 'n_samples': 20}, 'command': 'train', 'model_url': 'http://localhost:8844/media/uploads/2022/04/15/my_model_f2898798-9ca7-488b-8f17-06f63d214d0e.py', 'params_url': 'http://localhost:8844/media/uploads/2022/04/15/aggregated_params_init_45b557d2-369d-4cd0-aea7-d0f9d5e2cf5d.pt', 'model_class': 'MIWAETrainingPlan', 'training_data': {'node_bc08b50a-1b46-407a-8341-2bf317f2506d': ['dataset_04e1d4c6-ec4b-4175-8873-bdbbd0293f6d']}} \n",
      " -----------------------------------------------------------------\n",
      "2022-04-15 16:16:51,046 fedbiomed DEBUG - researcher_cda2fb34-f12f-41cc-9c23-d61d107b97f4\n",
      "2022-04-15 16:16:51,056 fedbiomed INFO - \u001b[1mSending request\u001b[0m \n",
      "\t\t\t\t\t\u001b[1m To\u001b[0m: node_0fe17841-14d6-4f76-b61d-7b2708b6d95d \n",
      "\t\t\t\t\t\u001b[1m Request: \u001b[0m: Perform training with the arguments: {'researcher_id': 'researcher_cda2fb34-f12f-41cc-9c23-d61d107b97f4', 'job_id': 'c5dcaa30-9128-46bc-92ea-c7133cb1492f', 'training_args': {'test_ratio': 0.0, 'test_on_local_updates': False, 'test_on_global_updates': False, 'test_metric': None, 'test_metric_args': {}, 'batch_size': 64, 'lr': 0.001, 'epochs': 5, 'dry_run': False, 'batch_maxnum': 100}, 'training': True, 'model_args': {'n_features': 14, 'n_latent': 10, 'n_hidden': 128, 'n_samples': 20}, 'command': 'train', 'model_url': 'http://localhost:8844/media/uploads/2022/04/15/my_model_f2898798-9ca7-488b-8f17-06f63d214d0e.py', 'params_url': 'http://localhost:8844/media/uploads/2022/04/15/aggregated_params_init_45b557d2-369d-4cd0-aea7-d0f9d5e2cf5d.pt', 'model_class': 'MIWAETrainingPlan', 'training_data': {'node_0fe17841-14d6-4f76-b61d-7b2708b6d95d': ['dataset_94c0396b-5784-4b8c-9fb5-f2ede90c4e1e']}} \n",
      " -----------------------------------------------------------------\n",
      "2022-04-15 16:16:51,060 fedbiomed DEBUG - researcher_cda2fb34-f12f-41cc-9c23-d61d107b97f4\n",
      "2022-04-15 16:16:51,362 fedbiomed INFO - \u001b[1mWARNING\u001b[0m\n",
      "\t\t\t\t\t\u001b[1m NODE\u001b[0m node_bc08b50a-1b46-407a-8341-2bf317f2506d\n",
      "\t\t\t\t\t\u001b[1m MESSAGE:\u001b[0m There is no test activated for the round. Please set flag for `test_on_global_updates`, `test_on_local_updates`, or both. Splitting dataset for testing will be ignored\u001b[0m\n",
      "-----------------------------------------------------------------\n",
      "2022-04-15 16:16:51,504 fedbiomed INFO - \u001b[1mINFO\u001b[0m\n",
      "\t\t\t\t\t\u001b[1m NODE\u001b[0m node_bc08b50a-1b46-407a-8341-2bf317f2506d\n",
      "\t\t\t\t\t\u001b[1m MESSAGE:\u001b[0m training with arguments {'history_monitor': <fedbiomed.node.history_monitor.HistoryMonitor object at 0x1332bad60>, 'node_args': {'gpu': False, 'gpu_num': None, 'gpu_only': False}, 'batch_size': 64, 'lr': 0.001, 'epochs': 5, 'dry_run': False, 'batch_maxnum': 100}\u001b[0m\n",
      "-----------------------------------------------------------------\n",
      "2022-04-15 16:16:52,526 fedbiomed INFO - \u001b[1mWARNING\u001b[0m\n",
      "\t\t\t\t\t\u001b[1m NODE\u001b[0m node_0fe17841-14d6-4f76-b61d-7b2708b6d95d\n",
      "\t\t\t\t\t\u001b[1m MESSAGE:\u001b[0m There is no test activated for the round. Please set flag for `test_on_global_updates`, `test_on_local_updates`, or both. Splitting dataset for testing will be ignored\u001b[0m\n",
      "-----------------------------------------------------------------\n",
      "2022-04-15 16:16:52,625 fedbiomed INFO - \u001b[1mINFO\u001b[0m\n",
      "\t\t\t\t\t\u001b[1m NODE\u001b[0m node_bc08b50a-1b46-407a-8341-2bf317f2506d\n",
      "\t\t\t\t\t\u001b[1m MESSAGE:\u001b[0m results uploaded successfully \u001b[0m\n",
      "-----------------------------------------------------------------\n",
      "2022-04-15 16:16:52,635 fedbiomed INFO - \u001b[1mWARNING\u001b[0m\n",
      "\t\t\t\t\t\u001b[1m NODE\u001b[0m node_d1b08824-64cd-43a6-a4e5-e0ef62d3d764\n",
      "\t\t\t\t\t\u001b[1m MESSAGE:\u001b[0m There is no test activated for the round. Please set flag for `test_on_global_updates`, `test_on_local_updates`, or both. Splitting dataset for testing will be ignored\u001b[0m\n",
      "-----------------------------------------------------------------\n",
      "2022-04-15 16:16:52,720 fedbiomed INFO - \u001b[1mINFO\u001b[0m\n",
      "\t\t\t\t\t\u001b[1m NODE\u001b[0m node_0fe17841-14d6-4f76-b61d-7b2708b6d95d\n",
      "\t\t\t\t\t\u001b[1m MESSAGE:\u001b[0m training with arguments {'history_monitor': <fedbiomed.node.history_monitor.HistoryMonitor object at 0x13064bd00>, 'node_args': {'gpu': False, 'gpu_num': None, 'gpu_only': False}, 'batch_size': 64, 'lr': 0.001, 'epochs': 5, 'dry_run': False, 'batch_maxnum': 100}\u001b[0m\n",
      "-----------------------------------------------------------------\n",
      "2022-04-15 16:16:52,722 fedbiomed INFO - \u001b[1mINFO\u001b[0m\n",
      "\t\t\t\t\t\u001b[1m NODE\u001b[0m node_d1b08824-64cd-43a6-a4e5-e0ef62d3d764\n",
      "\t\t\t\t\t\u001b[1m MESSAGE:\u001b[0m training with arguments {'history_monitor': <fedbiomed.node.history_monitor.HistoryMonitor object at 0x134744d90>, 'node_args': {'gpu': False, 'gpu_num': None, 'gpu_only': False}, 'batch_size': 64, 'lr': 0.001, 'epochs': 5, 'dry_run': False, 'batch_maxnum': 100}\u001b[0m\n",
      "-----------------------------------------------------------------\n",
      "2022-04-15 16:16:53,553 fedbiomed INFO - \u001b[1mINFO\u001b[0m\n",
      "\t\t\t\t\t\u001b[1m NODE\u001b[0m node_0fe17841-14d6-4f76-b61d-7b2708b6d95d\n",
      "\t\t\t\t\t\u001b[1m MESSAGE:\u001b[0m results uploaded successfully \u001b[0m\n",
      "-----------------------------------------------------------------\n",
      "2022-04-15 16:16:53,840 fedbiomed INFO - \u001b[1mINFO\u001b[0m\n",
      "\t\t\t\t\t\u001b[1m NODE\u001b[0m node_d1b08824-64cd-43a6-a4e5-e0ef62d3d764\n",
      "\t\t\t\t\t\u001b[1m MESSAGE:\u001b[0m results uploaded successfully \u001b[0m\n",
      "-----------------------------------------------------------------\n",
      "2022-04-15 16:17:01,084 fedbiomed INFO - Downloading model params after training on node_bc08b50a-1b46-407a-8341-2bf317f2506d - from http://localhost:8844/media/uploads/2022/04/15/node_params_9e2caa09-2717-46d2-84e8-c59e7f89c824.pt\n",
      "2022-04-15 16:17:01,135 fedbiomed DEBUG - upload (HTTP GET request) of file node_params_ec0ec6bd-b3e9-4801-a1e7-df542da3ef26.pt successful, with status code 200\n",
      "2022-04-15 16:17:01,145 fedbiomed INFO - Downloading model params after training on node_0fe17841-14d6-4f76-b61d-7b2708b6d95d - from http://localhost:8844/media/uploads/2022/04/15/node_params_9e6d6f41-04e5-48c1-be45-b3d4b5460044.pt\n",
      "2022-04-15 16:17:01,192 fedbiomed DEBUG - upload (HTTP GET request) of file node_params_369681de-282e-4138-ac31-36e34523eb26.pt successful, with status code 200\n",
      "2022-04-15 16:17:01,202 fedbiomed INFO - Downloading model params after training on node_d1b08824-64cd-43a6-a4e5-e0ef62d3d764 - from http://localhost:8844/media/uploads/2022/04/15/node_params_d4c29931-78a1-41cc-9c9b-c32b597ffa34.pt\n",
      "2022-04-15 16:17:01,243 fedbiomed DEBUG - upload (HTTP GET request) of file node_params_71f019d2-58bd-4d5f-9a1d-0c27ccc788de.pt successful, with status code 200\n"
     ]
    },
    {
     "name": "stderr",
     "output_type": "stream",
     "text": [
      "2022-04-15 16:17:01,252 fedbiomed INFO - Nodes that successfully reply in round 0 ['node_bc08b50a-1b46-407a-8341-2bf317f2506d', 'node_0fe17841-14d6-4f76-b61d-7b2708b6d95d', 'node_d1b08824-64cd-43a6-a4e5-e0ef62d3d764']\n",
      "2022-04-15 16:17:01,393 fedbiomed DEBUG - upload (HTTP POST request) of file /Users/balelli/ownCloud/INRIA_EPIONE/FedBioMed/fedbiomed/var/experiments/Experiment_0015/aggregated_params_82db454f-d3b3-4324-abbc-eaaf19efccac.pt successful, with status code 201\n",
      "2022-04-15 16:17:01,395 fedbiomed INFO - Saved aggregated params for round 0 in /Users/balelli/ownCloud/INRIA_EPIONE/FedBioMed/fedbiomed/var/experiments/Experiment_0015/aggregated_params_82db454f-d3b3-4324-abbc-eaaf19efccac.pt\n",
      "2022-04-15 16:17:01,398 fedbiomed INFO - Sampled nodes in round 1 ['node_d1b08824-64cd-43a6-a4e5-e0ef62d3d764', 'node_bc08b50a-1b46-407a-8341-2bf317f2506d', 'node_0fe17841-14d6-4f76-b61d-7b2708b6d95d']\n",
      "2022-04-15 16:17:01,399 fedbiomed INFO - \u001b[1mSending request\u001b[0m \n",
      "\t\t\t\t\t\u001b[1m To\u001b[0m: node_d1b08824-64cd-43a6-a4e5-e0ef62d3d764 \n",
      "\t\t\t\t\t\u001b[1m Request: \u001b[0m: Perform training with the arguments: {'researcher_id': 'researcher_cda2fb34-f12f-41cc-9c23-d61d107b97f4', 'job_id': 'c5dcaa30-9128-46bc-92ea-c7133cb1492f', 'training_args': {'test_ratio': 0.0, 'test_on_local_updates': False, 'test_on_global_updates': False, 'test_metric': None, 'test_metric_args': {}, 'batch_size': 64, 'lr': 0.001, 'epochs': 5, 'dry_run': False, 'batch_maxnum': 100}, 'training': True, 'model_args': {'n_features': 14, 'n_latent': 10, 'n_hidden': 128, 'n_samples': 20}, 'command': 'train', 'model_url': 'http://localhost:8844/media/uploads/2022/04/15/my_model_f2898798-9ca7-488b-8f17-06f63d214d0e.py', 'params_url': 'http://localhost:8844/media/uploads/2022/04/15/aggregated_params_82db454f-d3b3-4324-abbc-eaaf19efccac.pt', 'model_class': 'MIWAETrainingPlan', 'training_data': {'node_d1b08824-64cd-43a6-a4e5-e0ef62d3d764': ['dataset_7d188ba5-0398-489c-92fb-005643ba5cd8']}} \n",
      " -----------------------------------------------------------------\n",
      "2022-04-15 16:17:01,400 fedbiomed DEBUG - researcher_cda2fb34-f12f-41cc-9c23-d61d107b97f4\n",
      "2022-04-15 16:17:01,402 fedbiomed INFO - \u001b[1mSending request\u001b[0m \n",
      "\t\t\t\t\t\u001b[1m To\u001b[0m: node_bc08b50a-1b46-407a-8341-2bf317f2506d \n",
      "\t\t\t\t\t\u001b[1m Request: \u001b[0m: Perform training with the arguments: {'researcher_id': 'researcher_cda2fb34-f12f-41cc-9c23-d61d107b97f4', 'job_id': 'c5dcaa30-9128-46bc-92ea-c7133cb1492f', 'training_args': {'test_ratio': 0.0, 'test_on_local_updates': False, 'test_on_global_updates': False, 'test_metric': None, 'test_metric_args': {}, 'batch_size': 64, 'lr': 0.001, 'epochs': 5, 'dry_run': False, 'batch_maxnum': 100}, 'training': True, 'model_args': {'n_features': 14, 'n_latent': 10, 'n_hidden': 128, 'n_samples': 20}, 'command': 'train', 'model_url': 'http://localhost:8844/media/uploads/2022/04/15/my_model_f2898798-9ca7-488b-8f17-06f63d214d0e.py', 'params_url': 'http://localhost:8844/media/uploads/2022/04/15/aggregated_params_82db454f-d3b3-4324-abbc-eaaf19efccac.pt', 'model_class': 'MIWAETrainingPlan', 'training_data': {'node_bc08b50a-1b46-407a-8341-2bf317f2506d': ['dataset_04e1d4c6-ec4b-4175-8873-bdbbd0293f6d']}} \n",
      " -----------------------------------------------------------------\n",
      "2022-04-15 16:17:01,404 fedbiomed DEBUG - researcher_cda2fb34-f12f-41cc-9c23-d61d107b97f4\n",
      "2022-04-15 16:17:01,407 fedbiomed INFO - \u001b[1mSending request\u001b[0m \n",
      "\t\t\t\t\t\u001b[1m To\u001b[0m: node_0fe17841-14d6-4f76-b61d-7b2708b6d95d \n",
      "\t\t\t\t\t\u001b[1m Request: \u001b[0m: Perform training with the arguments: {'researcher_id': 'researcher_cda2fb34-f12f-41cc-9c23-d61d107b97f4', 'job_id': 'c5dcaa30-9128-46bc-92ea-c7133cb1492f', 'training_args': {'test_ratio': 0.0, 'test_on_local_updates': False, 'test_on_global_updates': False, 'test_metric': None, 'test_metric_args': {}, 'batch_size': 64, 'lr': 0.001, 'epochs': 5, 'dry_run': False, 'batch_maxnum': 100}, 'training': True, 'model_args': {'n_features': 14, 'n_latent': 10, 'n_hidden': 128, 'n_samples': 20}, 'command': 'train', 'model_url': 'http://localhost:8844/media/uploads/2022/04/15/my_model_f2898798-9ca7-488b-8f17-06f63d214d0e.py', 'params_url': 'http://localhost:8844/media/uploads/2022/04/15/aggregated_params_82db454f-d3b3-4324-abbc-eaaf19efccac.pt', 'model_class': 'MIWAETrainingPlan', 'training_data': {'node_0fe17841-14d6-4f76-b61d-7b2708b6d95d': ['dataset_94c0396b-5784-4b8c-9fb5-f2ede90c4e1e']}} \n",
      " -----------------------------------------------------------------\n",
      "2022-04-15 16:17:01,409 fedbiomed DEBUG - researcher_cda2fb34-f12f-41cc-9c23-d61d107b97f4\n",
      "2022-04-15 16:17:01,574 fedbiomed INFO - \u001b[1mWARNING\u001b[0m\n",
      "\t\t\t\t\t\u001b[1m NODE\u001b[0m node_bc08b50a-1b46-407a-8341-2bf317f2506d\n",
      "\t\t\t\t\t\u001b[1m MESSAGE:\u001b[0m There is no test activated for the round. Please set flag for `test_on_global_updates`, `test_on_local_updates`, or both. Splitting dataset for testing will be ignored\u001b[0m\n",
      "-----------------------------------------------------------------\n",
      "2022-04-15 16:17:01,590 fedbiomed INFO - \u001b[1mWARNING\u001b[0m\n",
      "\t\t\t\t\t\u001b[1m NODE\u001b[0m node_d1b08824-64cd-43a6-a4e5-e0ef62d3d764\n",
      "\t\t\t\t\t\u001b[1m MESSAGE:\u001b[0m There is no test activated for the round. Please set flag for `test_on_global_updates`, `test_on_local_updates`, or both. Splitting dataset for testing will be ignored\u001b[0m\n",
      "-----------------------------------------------------------------\n",
      "2022-04-15 16:17:01,616 fedbiomed INFO - \u001b[1mINFO\u001b[0m\n",
      "\t\t\t\t\t\u001b[1m NODE\u001b[0m node_bc08b50a-1b46-407a-8341-2bf317f2506d\n",
      "\t\t\t\t\t\u001b[1m MESSAGE:\u001b[0m training with arguments {'history_monitor': <fedbiomed.node.history_monitor.HistoryMonitor object at 0x13326ea60>, 'node_args': {'gpu': False, 'gpu_num': None, 'gpu_only': False}, 'batch_size': 64, 'lr': 0.001, 'epochs': 5, 'dry_run': False, 'batch_maxnum': 100}\u001b[0m\n",
      "-----------------------------------------------------------------\n",
      "2022-04-15 16:17:01,623 fedbiomed INFO - \u001b[1mWARNING\u001b[0m\n",
      "\t\t\t\t\t\u001b[1m NODE\u001b[0m node_0fe17841-14d6-4f76-b61d-7b2708b6d95d\n",
      "\t\t\t\t\t\u001b[1m MESSAGE:\u001b[0m There is no test activated for the round. Please set flag for `test_on_global_updates`, `test_on_local_updates`, or both. Splitting dataset for testing will be ignored\u001b[0m\n",
      "-----------------------------------------------------------------\n",
      "2022-04-15 16:17:01,770 fedbiomed INFO - \u001b[1mINFO\u001b[0m\n",
      "\t\t\t\t\t\u001b[1m NODE\u001b[0m node_d1b08824-64cd-43a6-a4e5-e0ef62d3d764\n",
      "\t\t\t\t\t\u001b[1m MESSAGE:\u001b[0m training with arguments {'history_monitor': <fedbiomed.node.history_monitor.HistoryMonitor object at 0x135602520>, 'node_args': {'gpu': False, 'gpu_num': None, 'gpu_only': False}, 'batch_size': 64, 'lr': 0.001, 'epochs': 5, 'dry_run': False, 'batch_maxnum': 100}\u001b[0m\n",
      "-----------------------------------------------------------------\n",
      "2022-04-15 16:17:01,819 fedbiomed INFO - \u001b[1mINFO\u001b[0m\n",
      "\t\t\t\t\t\u001b[1m NODE\u001b[0m node_0fe17841-14d6-4f76-b61d-7b2708b6d95d\n",
      "\t\t\t\t\t\u001b[1m MESSAGE:\u001b[0m training with arguments {'history_monitor': <fedbiomed.node.history_monitor.HistoryMonitor object at 0x130654190>, 'node_args': {'gpu': False, 'gpu_num': None, 'gpu_only': False}, 'batch_size': 64, 'lr': 0.001, 'epochs': 5, 'dry_run': False, 'batch_maxnum': 100}\u001b[0m\n",
      "-----------------------------------------------------------------\n",
      "2022-04-15 16:17:02,251 fedbiomed INFO - \u001b[1mINFO\u001b[0m\n",
      "\t\t\t\t\t\u001b[1m NODE\u001b[0m node_bc08b50a-1b46-407a-8341-2bf317f2506d\n",
      "\t\t\t\t\t\u001b[1m MESSAGE:\u001b[0m results uploaded successfully \u001b[0m\n",
      "-----------------------------------------------------------------\n",
      "2022-04-15 16:17:02,534 fedbiomed INFO - \u001b[1mINFO\u001b[0m\n",
      "\t\t\t\t\t\u001b[1m NODE\u001b[0m node_0fe17841-14d6-4f76-b61d-7b2708b6d95d\n",
      "\t\t\t\t\t\u001b[1m MESSAGE:\u001b[0m results uploaded successfully \u001b[0m\n",
      "-----------------------------------------------------------------\n",
      "2022-04-15 16:17:02,617 fedbiomed INFO - \u001b[1mINFO\u001b[0m\n",
      "\t\t\t\t\t\u001b[1m NODE\u001b[0m node_d1b08824-64cd-43a6-a4e5-e0ef62d3d764\n",
      "\t\t\t\t\t\u001b[1m MESSAGE:\u001b[0m results uploaded successfully \u001b[0m\n",
      "-----------------------------------------------------------------\n",
      "2022-04-15 16:17:11,418 fedbiomed INFO - Downloading model params after training on node_bc08b50a-1b46-407a-8341-2bf317f2506d - from http://localhost:8844/media/uploads/2022/04/15/node_params_c79baa8b-62e0-49fb-9473-1a9176eb7df2.pt\n",
      "2022-04-15 16:17:11,458 fedbiomed DEBUG - upload (HTTP GET request) of file node_params_49f1eee5-4dca-470e-a548-645bf0799a05.pt successful, with status code 200\n",
      "2022-04-15 16:17:11,467 fedbiomed INFO - Downloading model params after training on node_0fe17841-14d6-4f76-b61d-7b2708b6d95d - from http://localhost:8844/media/uploads/2022/04/15/node_params_0f9f461f-33b7-431b-a1eb-a4505661328d.pt\n"
     ]
    },
    {
     "name": "stderr",
     "output_type": "stream",
     "text": [
      "2022-04-15 16:17:11,534 fedbiomed DEBUG - upload (HTTP GET request) of file node_params_a1dadf27-5b67-4a51-b424-fff1b61086fb.pt successful, with status code 200\n",
      "2022-04-15 16:17:11,543 fedbiomed INFO - Downloading model params after training on node_d1b08824-64cd-43a6-a4e5-e0ef62d3d764 - from http://localhost:8844/media/uploads/2022/04/15/node_params_df8c0b10-ecda-4700-8272-ada65f0f38c4.pt\n",
      "2022-04-15 16:17:11,573 fedbiomed DEBUG - upload (HTTP GET request) of file node_params_8eaac61e-97bb-4800-aa60-75b9161b43ba.pt successful, with status code 200\n",
      "2022-04-15 16:17:11,580 fedbiomed INFO - Nodes that successfully reply in round 1 ['node_bc08b50a-1b46-407a-8341-2bf317f2506d', 'node_0fe17841-14d6-4f76-b61d-7b2708b6d95d', 'node_d1b08824-64cd-43a6-a4e5-e0ef62d3d764']\n",
      "2022-04-15 16:17:11,915 fedbiomed DEBUG - upload (HTTP POST request) of file /Users/balelli/ownCloud/INRIA_EPIONE/FedBioMed/fedbiomed/var/experiments/Experiment_0015/aggregated_params_7812a501-da99-480e-ba49-f100f3dd834f.pt successful, with status code 201\n",
      "2022-04-15 16:17:11,916 fedbiomed INFO - Saved aggregated params for round 1 in /Users/balelli/ownCloud/INRIA_EPIONE/FedBioMed/fedbiomed/var/experiments/Experiment_0015/aggregated_params_7812a501-da99-480e-ba49-f100f3dd834f.pt\n",
      "2022-04-15 16:17:11,918 fedbiomed INFO - Sampled nodes in round 2 ['node_d1b08824-64cd-43a6-a4e5-e0ef62d3d764', 'node_bc08b50a-1b46-407a-8341-2bf317f2506d', 'node_0fe17841-14d6-4f76-b61d-7b2708b6d95d']\n",
      "2022-04-15 16:17:11,920 fedbiomed INFO - \u001b[1mSending request\u001b[0m \n",
      "\t\t\t\t\t\u001b[1m To\u001b[0m: node_d1b08824-64cd-43a6-a4e5-e0ef62d3d764 \n",
      "\t\t\t\t\t\u001b[1m Request: \u001b[0m: Perform training with the arguments: {'researcher_id': 'researcher_cda2fb34-f12f-41cc-9c23-d61d107b97f4', 'job_id': 'c5dcaa30-9128-46bc-92ea-c7133cb1492f', 'training_args': {'test_ratio': 0.0, 'test_on_local_updates': False, 'test_on_global_updates': False, 'test_metric': None, 'test_metric_args': {}, 'batch_size': 64, 'lr': 0.001, 'epochs': 5, 'dry_run': False, 'batch_maxnum': 100}, 'training': True, 'model_args': {'n_features': 14, 'n_latent': 10, 'n_hidden': 128, 'n_samples': 20}, 'command': 'train', 'model_url': 'http://localhost:8844/media/uploads/2022/04/15/my_model_f2898798-9ca7-488b-8f17-06f63d214d0e.py', 'params_url': 'http://localhost:8844/media/uploads/2022/04/15/aggregated_params_7812a501-da99-480e-ba49-f100f3dd834f.pt', 'model_class': 'MIWAETrainingPlan', 'training_data': {'node_d1b08824-64cd-43a6-a4e5-e0ef62d3d764': ['dataset_7d188ba5-0398-489c-92fb-005643ba5cd8']}} \n",
      " -----------------------------------------------------------------\n",
      "2022-04-15 16:17:11,922 fedbiomed DEBUG - researcher_cda2fb34-f12f-41cc-9c23-d61d107b97f4\n",
      "2022-04-15 16:17:11,925 fedbiomed INFO - \u001b[1mSending request\u001b[0m \n",
      "\t\t\t\t\t\u001b[1m To\u001b[0m: node_bc08b50a-1b46-407a-8341-2bf317f2506d \n",
      "\t\t\t\t\t\u001b[1m Request: \u001b[0m: Perform training with the arguments: {'researcher_id': 'researcher_cda2fb34-f12f-41cc-9c23-d61d107b97f4', 'job_id': 'c5dcaa30-9128-46bc-92ea-c7133cb1492f', 'training_args': {'test_ratio': 0.0, 'test_on_local_updates': False, 'test_on_global_updates': False, 'test_metric': None, 'test_metric_args': {}, 'batch_size': 64, 'lr': 0.001, 'epochs': 5, 'dry_run': False, 'batch_maxnum': 100}, 'training': True, 'model_args': {'n_features': 14, 'n_latent': 10, 'n_hidden': 128, 'n_samples': 20}, 'command': 'train', 'model_url': 'http://localhost:8844/media/uploads/2022/04/15/my_model_f2898798-9ca7-488b-8f17-06f63d214d0e.py', 'params_url': 'http://localhost:8844/media/uploads/2022/04/15/aggregated_params_7812a501-da99-480e-ba49-f100f3dd834f.pt', 'model_class': 'MIWAETrainingPlan', 'training_data': {'node_bc08b50a-1b46-407a-8341-2bf317f2506d': ['dataset_04e1d4c6-ec4b-4175-8873-bdbbd0293f6d']}} \n",
      " -----------------------------------------------------------------\n",
      "2022-04-15 16:17:11,926 fedbiomed DEBUG - researcher_cda2fb34-f12f-41cc-9c23-d61d107b97f4\n",
      "2022-04-15 16:17:11,929 fedbiomed INFO - \u001b[1mSending request\u001b[0m \n",
      "\t\t\t\t\t\u001b[1m To\u001b[0m: node_0fe17841-14d6-4f76-b61d-7b2708b6d95d \n",
      "\t\t\t\t\t\u001b[1m Request: \u001b[0m: Perform training with the arguments: {'researcher_id': 'researcher_cda2fb34-f12f-41cc-9c23-d61d107b97f4', 'job_id': 'c5dcaa30-9128-46bc-92ea-c7133cb1492f', 'training_args': {'test_ratio': 0.0, 'test_on_local_updates': False, 'test_on_global_updates': False, 'test_metric': None, 'test_metric_args': {}, 'batch_size': 64, 'lr': 0.001, 'epochs': 5, 'dry_run': False, 'batch_maxnum': 100}, 'training': True, 'model_args': {'n_features': 14, 'n_latent': 10, 'n_hidden': 128, 'n_samples': 20}, 'command': 'train', 'model_url': 'http://localhost:8844/media/uploads/2022/04/15/my_model_f2898798-9ca7-488b-8f17-06f63d214d0e.py', 'params_url': 'http://localhost:8844/media/uploads/2022/04/15/aggregated_params_7812a501-da99-480e-ba49-f100f3dd834f.pt', 'model_class': 'MIWAETrainingPlan', 'training_data': {'node_0fe17841-14d6-4f76-b61d-7b2708b6d95d': ['dataset_94c0396b-5784-4b8c-9fb5-f2ede90c4e1e']}} \n",
      " -----------------------------------------------------------------\n",
      "2022-04-15 16:17:11,932 fedbiomed DEBUG - researcher_cda2fb34-f12f-41cc-9c23-d61d107b97f4\n",
      "2022-04-15 16:17:12,087 fedbiomed INFO - \u001b[1mWARNING\u001b[0m\n",
      "\t\t\t\t\t\u001b[1m NODE\u001b[0m node_0fe17841-14d6-4f76-b61d-7b2708b6d95d\n",
      "\t\t\t\t\t\u001b[1m MESSAGE:\u001b[0m There is no test activated for the round. Please set flag for `test_on_global_updates`, `test_on_local_updates`, or both. Splitting dataset for testing will be ignored\u001b[0m\n",
      "-----------------------------------------------------------------\n",
      "2022-04-15 16:17:12,137 fedbiomed INFO - \u001b[1mINFO\u001b[0m\n",
      "\t\t\t\t\t\u001b[1m NODE\u001b[0m node_0fe17841-14d6-4f76-b61d-7b2708b6d95d\n",
      "\t\t\t\t\t\u001b[1m MESSAGE:\u001b[0m training with arguments {'history_monitor': <fedbiomed.node.history_monitor.HistoryMonitor object at 0x1302a5d00>, 'node_args': {'gpu': False, 'gpu_num': None, 'gpu_only': False}, 'batch_size': 64, 'lr': 0.001, 'epochs': 5, 'dry_run': False, 'batch_maxnum': 100}\u001b[0m\n",
      "-----------------------------------------------------------------\n",
      "2022-04-15 16:17:12,145 fedbiomed INFO - \u001b[1mWARNING\u001b[0m\n",
      "\t\t\t\t\t\u001b[1m NODE\u001b[0m node_d1b08824-64cd-43a6-a4e5-e0ef62d3d764\n",
      "\t\t\t\t\t\u001b[1m MESSAGE:\u001b[0m There is no test activated for the round. Please set flag for `test_on_global_updates`, `test_on_local_updates`, or both. Splitting dataset for testing will be ignored\u001b[0m\n",
      "-----------------------------------------------------------------\n",
      "2022-04-15 16:17:12,169 fedbiomed INFO - \u001b[1mWARNING\u001b[0m\n",
      "\t\t\t\t\t\u001b[1m NODE\u001b[0m node_bc08b50a-1b46-407a-8341-2bf317f2506d\n",
      "\t\t\t\t\t\u001b[1m MESSAGE:\u001b[0m There is no test activated for the round. Please set flag for `test_on_global_updates`, `test_on_local_updates`, or both. Splitting dataset for testing will be ignored\u001b[0m\n",
      "-----------------------------------------------------------------\n",
      "2022-04-15 16:17:12,181 fedbiomed INFO - \u001b[1mINFO\u001b[0m\n",
      "\t\t\t\t\t\u001b[1m NODE\u001b[0m node_bc08b50a-1b46-407a-8341-2bf317f2506d\n",
      "\t\t\t\t\t\u001b[1m MESSAGE:\u001b[0m training with arguments {'history_monitor': <fedbiomed.node.history_monitor.HistoryMonitor object at 0x133660cd0>, 'node_args': {'gpu': False, 'gpu_num': None, 'gpu_only': False}, 'batch_size': 64, 'lr': 0.001, 'epochs': 5, 'dry_run': False, 'batch_maxnum': 100}\u001b[0m\n",
      "-----------------------------------------------------------------\n",
      "2022-04-15 16:17:12,276 fedbiomed INFO - \u001b[1mINFO\u001b[0m\n",
      "\t\t\t\t\t\u001b[1m NODE\u001b[0m node_d1b08824-64cd-43a6-a4e5-e0ef62d3d764\n",
      "\t\t\t\t\t\u001b[1m MESSAGE:\u001b[0m training with arguments {'history_monitor': <fedbiomed.node.history_monitor.HistoryMonitor object at 0x134744d90>, 'node_args': {'gpu': False, 'gpu_num': None, 'gpu_only': False}, 'batch_size': 64, 'lr': 0.001, 'epochs': 5, 'dry_run': False, 'batch_maxnum': 100}\u001b[0m\n",
      "-----------------------------------------------------------------\n",
      "2022-04-15 16:17:12,757 fedbiomed INFO - \u001b[1mINFO\u001b[0m\n",
      "\t\t\t\t\t\u001b[1m NODE\u001b[0m node_0fe17841-14d6-4f76-b61d-7b2708b6d95d\n",
      "\t\t\t\t\t\u001b[1m MESSAGE:\u001b[0m results uploaded successfully \u001b[0m\n",
      "-----------------------------------------------------------------\n",
      "2022-04-15 16:17:12,865 fedbiomed INFO - \u001b[1mINFO\u001b[0m\n",
      "\t\t\t\t\t\u001b[1m NODE\u001b[0m node_bc08b50a-1b46-407a-8341-2bf317f2506d\n",
      "\t\t\t\t\t\u001b[1m MESSAGE:\u001b[0m results uploaded successfully \u001b[0m\n",
      "-----------------------------------------------------------------\n",
      "2022-04-15 16:17:12,994 fedbiomed INFO - \u001b[1mINFO\u001b[0m\n",
      "\t\t\t\t\t\u001b[1m NODE\u001b[0m node_d1b08824-64cd-43a6-a4e5-e0ef62d3d764\n",
      "\t\t\t\t\t\u001b[1m MESSAGE:\u001b[0m results uploaded successfully \u001b[0m\n",
      "-----------------------------------------------------------------\n"
     ]
    },
    {
     "name": "stderr",
     "output_type": "stream",
     "text": [
      "2022-04-15 16:17:21,952 fedbiomed INFO - Downloading model params after training on node_0fe17841-14d6-4f76-b61d-7b2708b6d95d - from http://localhost:8844/media/uploads/2022/04/15/node_params_71ad15ba-a8e8-4be0-9789-f4d37e5367e9.pt\n",
      "2022-04-15 16:17:22,015 fedbiomed DEBUG - upload (HTTP GET request) of file node_params_7b5b4161-67e0-4413-a591-2c3f8c267cad.pt successful, with status code 200\n",
      "2022-04-15 16:17:22,032 fedbiomed INFO - Downloading model params after training on node_bc08b50a-1b46-407a-8341-2bf317f2506d - from http://localhost:8844/media/uploads/2022/04/15/node_params_f010b2b3-a2cf-4428-bfe4-66e0c7ad11bc.pt\n",
      "2022-04-15 16:17:22,076 fedbiomed DEBUG - upload (HTTP GET request) of file node_params_e2ce8f1d-fce7-4c88-9cb2-de7ef2af16d4.pt successful, with status code 200\n",
      "2022-04-15 16:17:22,081 fedbiomed INFO - Downloading model params after training on node_d1b08824-64cd-43a6-a4e5-e0ef62d3d764 - from http://localhost:8844/media/uploads/2022/04/15/node_params_07ee8476-79c6-4040-94bd-3c9f104d2076.pt\n",
      "2022-04-15 16:17:22,128 fedbiomed DEBUG - upload (HTTP GET request) of file node_params_b6763e4a-1ab8-4430-8ed5-c25770e2de12.pt successful, with status code 200\n",
      "2022-04-15 16:17:22,136 fedbiomed INFO - Nodes that successfully reply in round 2 ['node_0fe17841-14d6-4f76-b61d-7b2708b6d95d', 'node_bc08b50a-1b46-407a-8341-2bf317f2506d', 'node_d1b08824-64cd-43a6-a4e5-e0ef62d3d764']\n",
      "2022-04-15 16:17:22,281 fedbiomed DEBUG - upload (HTTP POST request) of file /Users/balelli/ownCloud/INRIA_EPIONE/FedBioMed/fedbiomed/var/experiments/Experiment_0015/aggregated_params_be7ed1df-1702-4395-ba71-aa126704ee97.pt successful, with status code 201\n",
      "2022-04-15 16:17:22,284 fedbiomed INFO - Saved aggregated params for round 2 in /Users/balelli/ownCloud/INRIA_EPIONE/FedBioMed/fedbiomed/var/experiments/Experiment_0015/aggregated_params_be7ed1df-1702-4395-ba71-aa126704ee97.pt\n"
     ]
    },
    {
     "data": {
      "text/plain": [
       "3"
      ]
     },
     "execution_count": 62,
     "metadata": {},
     "output_type": "execute_result"
    }
   ],
   "source": [
    "exp.run()"
   ]
  },
  {
   "cell_type": "markdown",
   "metadata": {},
   "source": [
    "Local training results for each round and each node are available via `exp.training_replies()` (index 0 to (`rounds` - 1) ).\n",
    "\n",
    "For example you can view the training results for the last round below.\n",
    "\n",
    "Different timings (in seconds) are reported for each dataset of a node participating in a round :\n",
    "- `rtime_training` real time (clock time) spent in the training function on the node\n",
    "- `ptime_training` process time (user and system CPU) spent in the training function on the node\n",
    "- `rtime_total` real time (clock time) spent in the researcher between sending the request and handling the response, at the `Job()` layer"
   ]
  },
  {
   "cell_type": "code",
   "execution_count": 63,
   "metadata": {
    "pycharm": {
     "name": "#%%\n"
    },
    "scrolled": true
   },
   "outputs": [
    {
     "name": "stdout",
     "output_type": "stream",
     "text": [
      "\n",
      "List the training rounds :  dict_keys([0, 1, 2])\n",
      "\n",
      "List the nodes for the last training round and their timings : \n",
      "\t- node_0fe17841-14d6-4f76-b61d-7b2708b6d95d :    \n",
      "\t\trtime_training=0.43 seconds    \n",
      "\t\tptime_training=0.31 seconds    \n",
      "\t\trtime_total=10.02 seconds\n",
      "\t- node_bc08b50a-1b46-407a-8341-2bf317f2506d :    \n",
      "\t\trtime_training=0.38 seconds    \n",
      "\t\tptime_training=0.31 seconds    \n",
      "\t\trtime_total=10.11 seconds\n",
      "\t- node_d1b08824-64cd-43a6-a4e5-e0ef62d3d764 :    \n",
      "\t\trtime_training=0.43 seconds    \n",
      "\t\tptime_training=0.35 seconds    \n",
      "\t\trtime_total=10.16 seconds\n",
      "\n",
      "\n"
     ]
    },
    {
     "data": {
      "text/html": [
       "<div>\n",
       "<style scoped>\n",
       "    .dataframe tbody tr th:only-of-type {\n",
       "        vertical-align: middle;\n",
       "    }\n",
       "\n",
       "    .dataframe tbody tr th {\n",
       "        vertical-align: top;\n",
       "    }\n",
       "\n",
       "    .dataframe thead th {\n",
       "        text-align: right;\n",
       "    }\n",
       "</style>\n",
       "<table border=\"1\" class=\"dataframe\">\n",
       "  <thead>\n",
       "    <tr style=\"text-align: right;\">\n",
       "      <th></th>\n",
       "      <th>success</th>\n",
       "      <th>msg</th>\n",
       "      <th>dataset_id</th>\n",
       "      <th>node_id</th>\n",
       "      <th>params_path</th>\n",
       "      <th>params</th>\n",
       "      <th>timing</th>\n",
       "    </tr>\n",
       "  </thead>\n",
       "  <tbody>\n",
       "    <tr>\n",
       "      <th>0</th>\n",
       "      <td>True</td>\n",
       "      <td></td>\n",
       "      <td>dataset_94c0396b-5784-4b8c-9fb5-f2ede90c4e1e</td>\n",
       "      <td>node_0fe17841-14d6-4f76-b61d-7b2708b6d95d</td>\n",
       "      <td>/Users/balelli/ownCloud/INRIA_EPIONE/FedBioMed...</td>\n",
       "      <td>{'encoder.0.weight': [[tensor(-0.0412), tensor...</td>\n",
       "      <td>{'rtime_training': 0.4267892830002893, 'ptime_...</td>\n",
       "    </tr>\n",
       "    <tr>\n",
       "      <th>1</th>\n",
       "      <td>True</td>\n",
       "      <td></td>\n",
       "      <td>dataset_04e1d4c6-ec4b-4175-8873-bdbbd0293f6d</td>\n",
       "      <td>node_bc08b50a-1b46-407a-8341-2bf317f2506d</td>\n",
       "      <td>/Users/balelli/ownCloud/INRIA_EPIONE/FedBioMed...</td>\n",
       "      <td>{'encoder.0.weight': [[tensor(-0.0469), tensor...</td>\n",
       "      <td>{'rtime_training': 0.381567835000169, 'ptime_t...</td>\n",
       "    </tr>\n",
       "    <tr>\n",
       "      <th>2</th>\n",
       "      <td>True</td>\n",
       "      <td></td>\n",
       "      <td>dataset_7d188ba5-0398-489c-92fb-005643ba5cd8</td>\n",
       "      <td>node_d1b08824-64cd-43a6-a4e5-e0ef62d3d764</td>\n",
       "      <td>/Users/balelli/ownCloud/INRIA_EPIONE/FedBioMed...</td>\n",
       "      <td>{'encoder.0.weight': [[tensor(-0.0374), tensor...</td>\n",
       "      <td>{'rtime_training': 0.4315536129997781, 'ptime_...</td>\n",
       "    </tr>\n",
       "  </tbody>\n",
       "</table>\n",
       "</div>"
      ],
      "text/plain": [
       "   success msg                                    dataset_id  \\\n",
       "0     True      dataset_94c0396b-5784-4b8c-9fb5-f2ede90c4e1e   \n",
       "1     True      dataset_04e1d4c6-ec4b-4175-8873-bdbbd0293f6d   \n",
       "2     True      dataset_7d188ba5-0398-489c-92fb-005643ba5cd8   \n",
       "\n",
       "                                     node_id  \\\n",
       "0  node_0fe17841-14d6-4f76-b61d-7b2708b6d95d   \n",
       "1  node_bc08b50a-1b46-407a-8341-2bf317f2506d   \n",
       "2  node_d1b08824-64cd-43a6-a4e5-e0ef62d3d764   \n",
       "\n",
       "                                         params_path  \\\n",
       "0  /Users/balelli/ownCloud/INRIA_EPIONE/FedBioMed...   \n",
       "1  /Users/balelli/ownCloud/INRIA_EPIONE/FedBioMed...   \n",
       "2  /Users/balelli/ownCloud/INRIA_EPIONE/FedBioMed...   \n",
       "\n",
       "                                              params  \\\n",
       "0  {'encoder.0.weight': [[tensor(-0.0412), tensor...   \n",
       "1  {'encoder.0.weight': [[tensor(-0.0469), tensor...   \n",
       "2  {'encoder.0.weight': [[tensor(-0.0374), tensor...   \n",
       "\n",
       "                                              timing  \n",
       "0  {'rtime_training': 0.4267892830002893, 'ptime_...  \n",
       "1  {'rtime_training': 0.381567835000169, 'ptime_t...  \n",
       "2  {'rtime_training': 0.4315536129997781, 'ptime_...  "
      ]
     },
     "execution_count": 63,
     "metadata": {},
     "output_type": "execute_result"
    }
   ],
   "source": [
    "print(\"\\nList the training rounds : \", exp.training_replies().keys())\n",
    "\n",
    "print(\"\\nList the nodes for the last training round and their timings : \")\n",
    "round_data = exp.training_replies()[rounds - 1].data()\n",
    "for c in range(len(round_data)):\n",
    "    print(\"\\t- {id} :\\\n",
    "    \\n\\t\\trtime_training={rtraining:.2f} seconds\\\n",
    "    \\n\\t\\tptime_training={ptraining:.2f} seconds\\\n",
    "    \\n\\t\\trtime_total={rtotal:.2f} seconds\".format(id = round_data[c]['node_id'],\n",
    "        rtraining = round_data[c]['timing']['rtime_training'],\n",
    "        ptraining = round_data[c]['timing']['ptime_training'],\n",
    "        rtotal = round_data[c]['timing']['rtime_total']))\n",
    "print('\\n')\n",
    "    \n",
    "exp.training_replies()[rounds - 1].dataframe()"
   ]
  },
  {
   "cell_type": "markdown",
   "metadata": {},
   "source": [
    "Federated parameters for each round are available via `exp.aggregated_params()` (index 0 to (`rounds` - 1) ).\n",
    "\n",
    "For example you can view the federated parameters for the last round of the experiment :"
   ]
  },
  {
   "cell_type": "code",
   "execution_count": 64,
   "metadata": {},
   "outputs": [
    {
     "name": "stdout",
     "output_type": "stream",
     "text": [
      "\n",
      "List the training rounds :  dict_keys([0, 1, 2])\n",
      "\n",
      "Access the federated params for the last training round :\n",
      "\t- params_path:  /Users/balelli/ownCloud/INRIA_EPIONE/FedBioMed/fedbiomed/var/experiments/Experiment_0015/aggregated_params_be7ed1df-1702-4395-ba71-aa126704ee97.pt\n",
      "\t- parameter data:  odict_keys(['encoder.0.weight', 'encoder.0.bias', 'encoder.2.weight', 'encoder.2.bias', 'encoder.4.weight', 'encoder.4.bias', 'decoder.0.weight', 'decoder.0.bias', 'decoder.2.weight', 'decoder.2.bias', 'decoder.4.weight', 'decoder.4.bias'])\n"
     ]
    }
   ],
   "source": [
    "print(\"\\nList the training rounds : \", exp.aggregated_params().keys())\n",
    "\n",
    "print(\"\\nAccess the federated params for the last training round :\")\n",
    "print(\"\\t- params_path: \", exp.aggregated_params()[rounds - 1]['params_path'])\n",
    "print(\"\\t- parameter data: \", exp.aggregated_params()[rounds - 1]['params'].keys())\n"
   ]
  }
 ],
 "metadata": {
  "kernelspec": {
   "display_name": "Python 3 (ipykernel)",
   "language": "python",
   "name": "python3"
  },
  "language_info": {
   "codemirror_mode": {
    "name": "ipython",
    "version": 3
   },
   "file_extension": ".py",
   "mimetype": "text/x-python",
   "name": "python",
   "nbconvert_exporter": "python",
   "pygments_lexer": "ipython3",
   "version": "3.9.12"
  }
 },
 "nbformat": 4,
 "nbformat_minor": 4
}

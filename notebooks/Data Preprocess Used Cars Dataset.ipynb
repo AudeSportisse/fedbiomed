{
 "cells": [
  {
   "cell_type": "markdown",
   "metadata": {},
   "source": [
    "# Download Used Cars Dataset \n",
    "https://www.kaggle.com/adityadesai13/used-car-dataset-ford-and-mercedes"
   ]
  },
  {
   "cell_type": "code",
   "execution_count": 1,
   "metadata": {},
   "outputs": [],
   "source": [
    "import pandas as pd"
   ]
  },
  {
   "cell_type": "markdown",
   "metadata": {},
   "source": [
    "# Dataset Details\n",
    "The data consists of used cars listings. 100,000 listings, which have been separated into files corresponding to each car manufacturer. Each file will simulate data for each node."
   ]
  },
  {
   "cell_type": "code",
   "execution_count": 2,
   "metadata": {},
   "outputs": [],
   "source": [
    "audi = pd.read_csv(\"___PATH to audi.csv___\")\n",
    "bmw = pd.read_csv(\"___PATH to bmw.csv___\")\n",
    "ford = pd.read_csv(\"___PATH to ford.csv___\")\n",
    "cclass = pd.read_csv(\"___PATH to cclass.csv___\")\n",
    "focus pd.read_csv(\"___PATH to focus.csv___\")\n",
    "hyundai = pd.read_csv(\"___PATH to huyndai.csv___\")\n",
    "merc = pd.read_csv(\"___PATH to merc.csv___\")\n",
    "skoda = pd.read_csv(\"___PATH to skoda.csv___\")\n",
    "toyata = pd.read_csv(\"___PATH to toyata.csv___\")\n",
    "vauxhall = pd.read_csv(\"___PATH to vauxhall.csv___\")\n",
    "vw = pd.read_csv(\"__PATH to vw.csv___\")"
   ]
  },
  {
   "cell_type": "markdown",
   "metadata": {},
   "source": [
    "Drop columns model & fuelType as labels are not consistent across files. A better solution could be vertical federated learning"
   ]
  },
  {
   "cell_type": "code",
   "execution_count": 3,
   "metadata": {},
   "outputs": [],
   "source": [
    "audi.drop(columns = ['model','fuelType'],inplace = True)\n",
    "bmw.drop(columns = ['model','fuelType'],inplace = True)\n",
    "ford.drop(columns = ['model','fuelType'],inplace = True)\n",
    "cclass.drop(columns = ['model','fuelType'],inplace = True)\n",
    "focus.drop(columns = ['model','fuelType'],inplace = True)\n",
    "hyundai.drop(columns = ['model','fuelType'],inplace = True)\n",
    "merc.drop(columns = ['model','fuelType'],inplace = True)\n",
    "skoda.drop(columns = ['model','fuelType'],inplace = True)\n",
    "toyata.drop(columns = ['model','fuelType'],inplace = True)\n",
    "vauxhall.drop(columns = ['model','fuelType'],inplace = True)\n",
    "vw.drop(columns = ['model','fuelType'],inplace = True)"
   ]
  },
  {
   "cell_type": "code",
   "execution_count": 4,
   "metadata": {},
   "outputs": [],
   "source": [
    "audi.to_csv('audi_transformed.csv',header = True,index= False)\n",
    "bmw.to_csv('bmw_transformed.csv',header = True,index= False)\n",
    "ford.to_csv('ford_transformed.csv',header = True,index= False)\n",
    "cclass.to_csv('cclass_transformed.csv',header = True,index= False)\n",
    "focus.to_csv('focus_transformed.csv',header = True,index= False)\n",
    "hyundai.to_csv('huydai_transformed.csv',header = True,index= False)\n",
    "merc.to_csv('merc_transformed.csv',header = True,index= False)\n",
    "skoda.to_csv('skoda_transformed.csv',header = True,index= False)\n",
    "toyata.to_csv('toyata_transformed.csv',header = True,index= False)\n",
    "vauxhall.to_csv('vaxhall_transformed.csv',header = True,index= False)\n",
    "vw.to_csv('vw_transformed.csv',header = True,index= False)"
   ]
  },
  {
   "cell_type": "markdown",
   "metadata": {},
   "source": [
    "Use the transformed files for loading on to nodes"
   ]
  },
  {
   "cell_type": "code",
   "execution_count": null,
   "metadata": {},
   "outputs": [],
   "source": []
  }
 ],
 "metadata": {
  "kernelspec": {
   "display_name": "Python 3",
   "language": "python",
   "name": "python3"
  },
  "language_info": {
   "codemirror_mode": {
    "name": "ipython",
    "version": 3
   },
   "file_extension": ".py",
   "mimetype": "text/x-python",
   "name": "python",
   "nbconvert_exporter": "python",
   "pygments_lexer": "ipython3",
   "version": "3.8.5"
  }
 },
 "nbformat": 4,
 "nbformat_minor": 4
}

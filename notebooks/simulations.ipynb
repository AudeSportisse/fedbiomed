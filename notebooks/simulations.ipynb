{
 "cells": [
  {
   "cell_type": "markdown",
   "id": "a41711b7",
   "metadata": {},
   "source": [
    "## Case 1. DP on local dataset entries: local training with DP-SGD"
   ]
  },
  {
   "cell_type": "markdown",
   "id": "8b911d81",
   "metadata": {},
   "source": [
    "Models are clipped by costant $C$, minibatch of size $\\mbox{batch_size} = q*N$, the variance of the perturbation noise is $\\frac{(C\\sigma)^2}{\\sqrt{q*N}}$."
   ]
  },
  {
   "cell_type": "code",
   "execution_count": 12,
   "id": "6b5b0461",
   "metadata": {},
   "outputs": [],
   "source": [
    "from fedbiomed.researcher.privacy.rdp_accountant import compute_rdp, get_privacy_spent\n",
    "import matplotlib.pyplot as plt\n",
    "import numpy as np\n",
    "\n",
    "max_data_size = 1000\n",
    "\n",
    "target_delta = .1/max_data_size\n",
    "max_eps = 20\n",
    "sigma = 1\n",
    "\n",
    "\n",
    "orders = [1 + x / 10. for x in range(1, 100)] + list(range(12, 64))\n",
    "rdp = compute_rdp(q=0.1,\n",
    "                  noise_multiplier = sigma,\n",
    "                  steps=1,\n",
    "                  orders=orders)"
   ]
  },
  {
   "cell_type": "code",
   "execution_count": 13,
   "id": "da30c921",
   "metadata": {},
   "outputs": [],
   "source": [
    "rounds = range(1,2000)\n",
    "epsilon_range = np.array([get_privacy_spent(orders, i*rdp, target_delta=target_delta)[0] for i in rounds])\n",
    "\n",
    "max_training_steps = int(np.sum(epsilon_range<max_eps))"
   ]
  },
  {
   "cell_type": "code",
   "execution_count": 14,
   "id": "b2ef9cfd",
   "metadata": {},
   "outputs": [
    {
     "data": {
      "text/plain": [
       "714"
      ]
     },
     "execution_count": 14,
     "metadata": {},
     "output_type": "execute_result"
    }
   ],
   "source": [
    "max_training_steps"
   ]
  },
  {
   "cell_type": "markdown",
   "id": "ac07bae7",
   "metadata": {},
   "source": [
    "At this point each client's model is differentially private $DP(\\epsilon,\\delta)$, with $\\epsilon<\\mbox{max_eps}$ and $\\delta = \\mbox{target_delta}$."
   ]
  },
  {
   "cell_type": "markdown",
   "id": "ad7e112c",
   "metadata": {},
   "source": [
    "## Case 2. DP on clients' models: LDP with perturbation on trained clients' models\n",
    "\n",
    "Models are trained with clipping by costant $C$, and the variance of the perturbation noise is $(C\\sigma)^2$."
   ]
  },
  {
   "cell_type": "code",
   "execution_count": 27,
   "id": "af5e67e0",
   "metadata": {},
   "outputs": [],
   "source": [
    "n_clients = 5\n",
    "\n",
    "# Is this an acceptable delta?\n",
    "target_delta = .01/n_clients\n",
    "max_eps = 20\n",
    "sigma = 1\n",
    "\n",
    "\n",
    "orders = [1 + x / 10. for x in range(1, 100)] + list(range(12, 64))\n",
    "rdp = compute_rdp(q=1,\n",
    "                  noise_multiplier = sigma,\n",
    "                  steps=1,\n",
    "                  orders=orders)"
   ]
  },
  {
   "cell_type": "code",
   "execution_count": 28,
   "id": "83b9b074",
   "metadata": {},
   "outputs": [],
   "source": [
    "rounds = range(1,2000)\n",
    "epsilon_range = np.array([get_privacy_spent(orders, i*rdp, target_delta=target_delta)[0] for i in rounds])\n",
    "\n",
    "max_training_steps = int(np.sum(epsilon_range<max_eps))"
   ]
  },
  {
   "cell_type": "code",
   "execution_count": 29,
   "id": "0b748af4",
   "metadata": {},
   "outputs": [
    {
     "data": {
      "text/plain": [
       "15"
      ]
     },
     "execution_count": 29,
     "metadata": {},
     "output_type": "execute_result"
    }
   ],
   "source": [
    "max_training_steps"
   ]
  },
  {
   "cell_type": "code",
   "execution_count": 37,
   "id": "e00787a5",
   "metadata": {},
   "outputs": [
    {
     "data": {
      "text/plain": [
       "9"
      ]
     },
     "execution_count": 37,
     "metadata": {},
     "output_type": "execute_result"
    }
   ],
   "source": [
    "# Lower delta\n",
    "\n",
    "target_delta = 1e-5/n_clients\n",
    "\n",
    "orders = [1 + x / 10. for x in range(1, 100)] + list(range(12, 64))\n",
    "rdp = compute_rdp(q=1,\n",
    "                  noise_multiplier = sigma,\n",
    "                  steps=1,\n",
    "                  orders=orders)\n",
    "\n",
    "rounds = range(1,2000)\n",
    "epsilon_range = np.array([get_privacy_spent(orders, i*rdp, target_delta=target_delta)[0] for i in rounds])\n",
    "\n",
    "max_training_steps = int(np.sum(epsilon_range<max_eps))\n",
    "max_training_steps"
   ]
  },
  {
   "cell_type": "markdown",
   "id": "39772b4a",
   "metadata": {},
   "source": [
    "At this point the aggregated model is differentially private $DP(\\epsilon,\\delta)$, with $\\epsilon<\\mbox{max_eps}$ and $\\delta = \\mbox{target_delta}$."
   ]
  },
  {
   "cell_type": "markdown",
   "id": "4136aafe",
   "metadata": {},
   "source": [
    "## Case 3. DP on clients' aggregation (McMahan et al.)\n",
    "\n",
    "\n",
    "Models are clipped by costant $C$, and the variance of the perturbation noise is $\\frac{(C\\sigma)^2}{\\sqrt{n_{clients}}}$."
   ]
  },
  {
   "cell_type": "code",
   "execution_count": 34,
   "id": "e6dd0c05",
   "metadata": {},
   "outputs": [],
   "source": [
    "n_clients = 5\n",
    "\n",
    "# Is this an acceptable delta?\n",
    "target_delta = .01/n_clients\n",
    "max_eps = 20\n",
    "sigma = 1\n",
    "\n",
    "\n",
    "orders = [1 + x / 10. for x in range(1, 100)] + list(range(12, 64))\n",
    "rdp = compute_rdp(q=1,\n",
    "                  noise_multiplier = sigma,\n",
    "                  steps=1,\n",
    "                  orders=orders)"
   ]
  },
  {
   "cell_type": "code",
   "execution_count": 35,
   "id": "97f2a975",
   "metadata": {},
   "outputs": [],
   "source": [
    "rounds = range(1,2000)\n",
    "epsilon_range = np.array([get_privacy_spent(orders, i*rdp, target_delta=target_delta)[0] for i in rounds])\n",
    "\n",
    "max_training_steps = int(np.sum(epsilon_range<max_eps))"
   ]
  },
  {
   "cell_type": "code",
   "execution_count": 36,
   "id": "da26f1b9",
   "metadata": {},
   "outputs": [
    {
     "data": {
      "text/plain": [
       "15"
      ]
     },
     "execution_count": 36,
     "metadata": {},
     "output_type": "execute_result"
    }
   ],
   "source": [
    "max_training_steps"
   ]
  },
  {
   "cell_type": "code",
   "execution_count": null,
   "id": "a60abd31",
   "metadata": {},
   "outputs": [],
   "source": []
  }
 ],
 "metadata": {
  "kernelspec": {
   "display_name": "Python 3 (ipykernel)",
   "language": "python",
   "name": "python3"
  },
  "language_info": {
   "codemirror_mode": {
    "name": "ipython",
    "version": 3
   },
   "file_extension": ".py",
   "mimetype": "text/x-python",
   "name": "python",
   "nbconvert_exporter": "python",
   "pygments_lexer": "ipython3",
   "version": "3.9.9"
  }
 },
 "nbformat": 4,
 "nbformat_minor": 5
}

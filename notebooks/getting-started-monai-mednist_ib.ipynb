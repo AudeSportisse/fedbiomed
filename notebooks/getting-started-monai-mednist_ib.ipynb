{
 "cells": [
  {
   "cell_type": "markdown",
   "metadata": {},
   "source": [
    "# Federated 2d image classification with MONAI"
   ]
  },
  {
   "cell_type": "markdown",
   "metadata": {},
   "source": [
    "## Introduction\n",
    "\n",
    "This tutorial shows how to deploy in Fed-BioMed the 2d image classification example provided in the project MONAI (https://monai.io/):\n",
    "\n",
    "https://github.com/Project-MONAI/tutorials/blob/master/2d_classification/mednist_tutorial.ipynb\n",
    "\n",
    "Being MONAI based on PyTorch, the deployment within Fed-BioMed follows seamlessy the same general structure of general PyTorch models. \n",
    "\n",
    "Following the MONAI example, this tutorial is based on the MedNIST dataset:\n",
    "\n",
    "https://github.com/Project-MONAI/MONAI/blob/master/examples/notebooks/mednist_tutorial.ipynb.\n",
    "\n",
    "## Creating MedNIST nodes\n",
    "\n",
    "MedNIST provides an artificial 2d classification dataset created by gathering different medical imaging datasets from TCIA, the RSNA Bone Age Challenge, and the NIH Chest X-ray dataset. The dataset is kindly made available by Dr. Bradley J. Erickson M.D., Ph.D. (Department of Radiology, Mayo Clinic) under the Creative Commons CC BY-SA 4.0 license.\n",
    "\n",
    "To proceed with the tutorial, we created an iid partitioning of the MedNIST dataset between 3 clients. Each client has 3000 image samples for each class. The training partitions are availables at the following link:\n",
    "\n",
    "https://drive.google.com/file/d/1vLIcBdtdAhh6K-vrgCFy_0Y55dxOWZwf/view\n",
    "\n",
    "The dataset owned by each client has structure:\n",
    "\n",
    "\n",
    "└── client_*/\n",
    "\n",
    "    ├── AbdomenCT/\n",
    "    \n",
    "    └── BreastMRI/\n",
    "    \n",
    "    └── CXR/\n",
    "    \n",
    "    └── ChestCT/\n",
    "    \n",
    "    └── Hand/\n",
    "    \n",
    "    └── HeadCT/   \n",
    "\n",
    "To create the federated dataset, we follow the standard procedure for node creation/population of Fed-BioMed. \n",
    "After activating the fedbiomed network with the commands\n",
    "\n",
    "`source ./scripts/fedbiomed_environment network`\n",
    "\n",
    "and \n",
    "\n",
    "`./scripts/fedbiomed_run network`\n",
    "\n",
    "we create a first node by using the commands\n",
    "\n",
    "`source ./scripts/fedbiomed_environment node`\n",
    "\n",
    "`./scripts/fedbiomed_run node start`\n",
    "\n",
    "We then poulate the node with the data of first client:\n",
    "\n",
    "`./scripts/fedbiomed_run node add`\n",
    "\n",
    "We select option 3 (images) to add MedNIST partition of client 1, by just picking the folder of client 1. We use `mednist` as tag to save the selected dataset. We can further check that the data has been added by executing `./scripts/fedbiomed_run node list`\n",
    "\n",
    "Following the same procedure, we create the other two nodes with the datasets of client 2 and client 3 respectively.\n"
   ]
  },
  {
   "cell_type": "markdown",
   "metadata": {},
   "source": [
    "## Running Fed-BioMed Researcher"
   ]
  },
  {
   "cell_type": "markdown",
   "metadata": {},
   "source": [
    "We are now ready to start the reseracher enviroment with the command `source ./scripts/fedbiomed_environment researcher`, and open the Jupyter notebook. "
   ]
  },
  {
   "cell_type": "code",
   "execution_count": 1,
   "metadata": {},
   "outputs": [],
   "source": [
    "%load_ext autoreload\n",
    "%autoreload 2"
   ]
  },
  {
   "cell_type": "markdown",
   "metadata": {},
   "source": [
    "We can first query the network for the mednist dataset. In this case, the nodes are sharing the respective partitions unsing the same tag `mednist`:"
   ]
  },
  {
   "cell_type": "code",
   "execution_count": 2,
   "metadata": {},
   "outputs": [
    {
     "name": "stderr",
     "output_type": "stream",
     "text": [
      "2022-01-04 13:38:58,848 fedbiomed INFO - Component environment:\n",
      "2022-01-04 13:38:58,849 fedbiomed INFO - - type = ComponentType.RESEARCHER\n",
      "2022-01-04 13:38:59,859 fedbiomed INFO - Messaging researcher_2f6f9985-2136-4ced-b2b9-ba6cb4a5ecfc successfully connected to the message broker, object = <fedbiomed.common.messaging.Messaging object at 0x10462d5e0>\n",
      "2022-01-04 13:38:59,951 fedbiomed INFO - Listing available datasets in all nodes... \n",
      "2022-01-04 13:39:00,019 fedbiomed INFO - log from: node_15981cb3-39ef-4c54-9e72-2432d023491f / DEBUG - Message received: {'researcher_id': 'researcher_2f6f9985-2136-4ced-b2b9-ba6cb4a5ecfc', 'command': 'list'}\n",
      "2022-01-04 13:39:00,068 fedbiomed INFO - log from: node_d1557b63-00bd-49f8-83e2-ba59f8ef89e6 / DEBUG - Message received: {'researcher_id': 'researcher_2f6f9985-2136-4ced-b2b9-ba6cb4a5ecfc', 'command': 'list'}\n",
      "2022-01-04 13:39:00,073 fedbiomed INFO - log from: node_6db91b12-7507-4dd4-b3ea-788da19cc6ed / DEBUG - Message received: {'researcher_id': 'researcher_2f6f9985-2136-4ced-b2b9-ba6cb4a5ecfc', 'command': 'list'}\n",
      "2022-01-04 13:39:10,002 fedbiomed INFO - \n",
      " Node: node_15981cb3-39ef-4c54-9e72-2432d023491f | Number of Datasets: 1 \n",
      "+---------+-------------+-------------+---------------+--------------------+\n",
      "| name    | data_type   | tags        | description   | shape              |\n",
      "+=========+=============+=============+===============+====================+\n",
      "| mednist | images      | ['mednist'] | mednist       | [16954, 3, 64, 64] |\n",
      "+---------+-------------+-------------+---------------+--------------------+\n",
      "\n",
      "2022-01-04 13:39:10,003 fedbiomed INFO - \n",
      " Node: node_d1557b63-00bd-49f8-83e2-ba59f8ef89e6 | Number of Datasets: 1 \n",
      "+---------+-------------+-------------+---------------+--------------------+\n",
      "| name    | data_type   | tags        | description   | shape              |\n",
      "+=========+=============+=============+===============+====================+\n",
      "| mednist | images      | ['mednist'] | mednist       | [18000, 3, 64, 64] |\n",
      "+---------+-------------+-------------+---------------+--------------------+\n",
      "\n",
      "2022-01-04 13:39:10,004 fedbiomed INFO - \n",
      " Node: node_6db91b12-7507-4dd4-b3ea-788da19cc6ed | Number of Datasets: 1 \n",
      "+---------+-------------+-------------+---------------+--------------------+\n",
      "| name    | data_type   | tags        | description   | shape              |\n",
      "+=========+=============+=============+===============+====================+\n",
      "| mednist | images      | ['mednist'] | mednist       | [18000, 3, 64, 64] |\n",
      "+---------+-------------+-------------+---------------+--------------------+\n",
      "\n"
     ]
    },
    {
     "data": {
      "text/plain": [
       "{'node_15981cb3-39ef-4c54-9e72-2432d023491f': [{'name': 'mednist',\n",
       "   'data_type': 'images',\n",
       "   'tags': ['mednist'],\n",
       "   'description': 'mednist',\n",
       "   'shape': [16954, 3, 64, 64]}],\n",
       " 'node_d1557b63-00bd-49f8-83e2-ba59f8ef89e6': [{'name': 'mednist',\n",
       "   'data_type': 'images',\n",
       "   'tags': ['mednist'],\n",
       "   'description': 'mednist',\n",
       "   'shape': [18000, 3, 64, 64]}],\n",
       " 'node_6db91b12-7507-4dd4-b3ea-788da19cc6ed': [{'name': 'mednist',\n",
       "   'data_type': 'images',\n",
       "   'tags': ['mednist'],\n",
       "   'description': 'mednist',\n",
       "   'shape': [18000, 3, 64, 64]}]}"
      ]
     },
     "execution_count": 2,
     "metadata": {},
     "output_type": "execute_result"
    }
   ],
   "source": [
    "from fedbiomed.researcher.requests import Requests\n",
    "req = Requests()\n",
    "req.list(verbose=True)"
   ]
  },
  {
   "cell_type": "markdown",
   "metadata": {},
   "source": [
    "## Create an experiment to train a model on the data found"
   ]
  },
  {
   "cell_type": "markdown",
   "metadata": {},
   "source": [
    "The code for network and data loader of the MONAI tutorial can now be deployed in Fed-BioMed.\n",
    "We first import the necessary modules from `fedbiomed` and `monai` libraries:"
   ]
  },
  {
   "cell_type": "code",
   "execution_count": 3,
   "metadata": {},
   "outputs": [],
   "source": [
    "from fedbiomed.researcher.environ import environ\n",
    "import tempfile\n",
    "tmp_dir_model = tempfile.TemporaryDirectory(dir=environ['TMP_DIR']+'/')\n",
    "model_file = tmp_dir_model.name + '/class_export_mnist.py'"
   ]
  },
  {
   "cell_type": "code",
   "execution_count": 4,
   "metadata": {},
   "outputs": [],
   "source": [
    "from monai.apps import download_and_extract\n",
    "from monai.config import print_config\n",
    "from monai.data import decollate_batch\n",
    "from monai.metrics import ROCAUCMetric\n",
    "from monai.networks.nets import DenseNet121\n",
    "from monai.transforms import (\n",
    "    Activations,\n",
    "    AddChannel,\n",
    "    AsDiscrete,\n",
    "    Compose,\n",
    "    LoadImage,\n",
    "    RandFlip,\n",
    "    RandRotate,\n",
    "    RandZoom,\n",
    "    ScaleIntensity,\n",
    "    EnsureType,\n",
    ")\n",
    "from monai.utils import set_determinism"
   ]
  },
  {
   "cell_type": "markdown",
   "metadata": {},
   "source": [
    "We can now define the training plan. Note that we can simply use the standard `TorchTrainingPlan` natively provided in Fed-BioMed. We reuse the `MedNISTDataset` data loader defined in the original MONAI tutorial, which is returned by the method `training_data`, which also implements the data parsing from the nodes `dataset_path`. Following the MONAI tutorial, the model is the `DenseNet121`."
   ]
  },
  {
   "cell_type": "code",
   "execution_count": 5,
   "metadata": {},
   "outputs": [
    {
     "name": "stdout",
     "output_type": "stream",
     "text": [
      "Writing /Users/balelli/ownCloud/INRIA_EPIONE/FedBioMed/fedbiomed/var/tmp/tmp8u4dn2cz/class_export_mnist.py\n"
     ]
    }
   ],
   "source": [
    "%%writefile \"$model_file\"\n",
    "\n",
    "import os\n",
    "import numpy as np\n",
    "import torch\n",
    "import torch.nn as nn\n",
    "from fedbiomed.common.torchnn import TorchTrainingPlan\n",
    "from torch.utils.data import DataLoader\n",
    "from torchvision import datasets, transforms\n",
    "\n",
    "from monai.apps import download_and_extract\n",
    "from monai.config import print_config\n",
    "from monai.data import decollate_batch\n",
    "from monai.metrics import ROCAUCMetric\n",
    "from monai.networks.nets import DenseNet121\n",
    "from monai.transforms import (\n",
    "    Activations,\n",
    "    AddChannel,\n",
    "    AsDiscrete,\n",
    "    Compose,\n",
    "    LoadImage,\n",
    "    RandFlip,\n",
    "    RandRotate,\n",
    "    RandZoom,\n",
    "    ScaleIntensity,\n",
    "    EnsureType,\n",
    ")\n",
    "from monai.utils import set_determinism\n",
    "\n",
    "\n",
    "# Here we define the model to be used. \n",
    "# You can use any class name (here 'Net')\n",
    "class MyTrainingPlan(TorchTrainingPlan):\n",
    "    def __init__(self, kwargs):\n",
    "        super(MyTrainingPlan, self).__init__()\n",
    "        \n",
    "        # Here we define the custom dependencies that will be needed by our custom Dataloader\n",
    "        # In this case, we need the torch DataLoader classes\n",
    "        # Since we will train on MNIST, we need datasets and transform from torchvision\n",
    "        deps = [\"import numpy as np\",\n",
    "                \"import os\",\n",
    "                \"from torch.utils.data import DataLoader\",\n",
    "                \"from monai.apps import download_and_extract\",\n",
    "                \"from monai.config import print_config\",\n",
    "                \"from monai.data import decollate_batch\",\n",
    "                \"from monai.metrics import ROCAUCMetric\",\n",
    "                \"from monai.networks.nets import DenseNet121\",\n",
    "                \"from monai.transforms import ( Activations, AddChannel, AsDiscrete, Compose, LoadImage, RandFlip, RandRotate, RandZoom, ScaleIntensity, EnsureType, )\",\n",
    "                \"from monai.utils import set_determinism\",]\n",
    "        self.add_dependency(deps)\n",
    "         \n",
    "        self.num_class =  kwargs['num_class']  \n",
    "        self.model = DenseNet121(spatial_dims=2, in_channels=1,\n",
    "                    out_channels = self.num_class)\n",
    "        \n",
    "        self.loss_function = torch.nn.CrossEntropyLoss()\n",
    "\n",
    "    def forward(self, x):\n",
    "        return self.model(x)\n",
    "\n",
    "    class MedNISTDataset(torch.utils.data.Dataset):\n",
    "            def __init__(self, image_files, labels, transforms):\n",
    "                self.image_files = image_files\n",
    "                self.labels = labels\n",
    "                self.transforms = transforms\n",
    "\n",
    "            def __len__(self):\n",
    "                return len(self.image_files)\n",
    "\n",
    "            def __getitem__(self, index):\n",
    "                return self.transforms(self.image_files[index]), self.labels[index]\n",
    "    \n",
    "    def parse_data(self, path):\n",
    "        print(self.dataset_path)\n",
    "        class_names = sorted(x for x in os.listdir(path)\n",
    "                     if os.path.isdir(os.path.join(path, x)))\n",
    "        num_class = len(class_names)\n",
    "        image_files = [\n",
    "                        [\n",
    "                            os.path.join(path, class_names[i], x)\n",
    "                            for x in os.listdir(os.path.join(path, class_names[i]))\n",
    "                        ]\n",
    "                        for i in range(num_class)\n",
    "                      ]\n",
    "        \n",
    "        return image_files, num_class\n",
    "    \n",
    "    def training_data(self, batch_size = 48):\n",
    "        self.image_files, num_class = self.parse_data(self.dataset_path)\n",
    "        \n",
    "        if self.num_class!=num_class:\n",
    "                raise Exception('number of available classes does not match declared classes')\n",
    "        \n",
    "        num_each = [len(self.image_files[i]) for i in range(self.num_class)]\n",
    "        image_files_list = []\n",
    "        image_class = []\n",
    "        \n",
    "        for i in range(self.num_class):\n",
    "            image_files_list.extend(self.image_files[i])\n",
    "            image_class.extend([i] * num_each[i])\n",
    "        num_total = len(image_class)\n",
    "        \n",
    "        \n",
    "        length = len(image_files_list)\n",
    "        indices = np.arange(length)\n",
    "        np.random.shuffle(indices)\n",
    "\n",
    "        val_split = int(1. * length) \n",
    "        train_indices = indices[:val_split]\n",
    "\n",
    "        train_x = [image_files_list[i] for i in train_indices]\n",
    "        train_y = [image_class[i] for i in train_indices]\n",
    "\n",
    "\n",
    "        train_transforms = Compose(\n",
    "            [\n",
    "                LoadImage(image_only=True),\n",
    "                AddChannel(),\n",
    "                ScaleIntensity(),\n",
    "                RandRotate(range_x=np.pi / 12, prob=0.5, keep_size=True),\n",
    "                RandFlip(spatial_axis=0, prob=0.5),\n",
    "                RandZoom(min_zoom=0.9, max_zoom=1.1, prob=0.5),\n",
    "                EnsureType(),\n",
    "            ]\n",
    "        )\n",
    "\n",
    "        val_transforms = Compose(\n",
    "            [LoadImage(image_only=True), AddChannel(), ScaleIntensity(), EnsureType()])\n",
    "\n",
    "        y_pred_trans = Compose([EnsureType(), Activations(softmax=True)])\n",
    "        y_trans = Compose([EnsureType(), AsDiscrete(to_onehot=num_class)])\n",
    "\n",
    "        print(\n",
    "            f\"Training count: {len(train_x)}\")\n",
    "        \n",
    "        \n",
    "        train_ds = self.MedNISTDataset(train_x, train_y, train_transforms)\n",
    "        train_loader = torch.utils.data.DataLoader(\n",
    "            train_ds, batch_size, shuffle=True)\n",
    "        \n",
    "        return train_loader\n",
    "    \n",
    "    def training_step(self, data, target):\n",
    "        output = self.forward(data)\n",
    "        loss   = self.loss_function(output, target)\n",
    "        return loss\n"
   ]
  },
  {
   "cell_type": "markdown",
   "metadata": {},
   "source": [
    "We now set the model and training parameters. Note that we use only 1 epoch for this experiment, and perform the training on ~26% of the locally available training data."
   ]
  },
  {
   "cell_type": "code",
   "execution_count": 6,
   "metadata": {
    "pycharm": {
     "name": "#%%\n"
    }
   },
   "outputs": [],
   "source": [
    "model_args = {'num_class':6,}\n",
    "\n",
    "training_args = {\n",
    "    'batch_size': 20, \n",
    "    'lr': 1e-5, \n",
    "    'epochs': 1, \n",
    "    'dry_run': False,  \n",
    "    'batch_maxnum':250 # Fast pass for development : only use ( batch_maxnum * batch_size ) samples\n",
    "}"
   ]
  },
  {
   "cell_type": "markdown",
   "metadata": {},
   "source": [
    "The experiment can be now defined, by providing the `mednist` tag, and running the local training on nodes with model defined in `model_path`, standard `aggregator` (FedAvg) and `client_selection_strategy` (all nodes used). Federated learning is going to be perfomed through 3 optimization rounds."
   ]
  },
  {
   "cell_type": "code",
   "execution_count": 7,
   "metadata": {
    "pycharm": {
     "name": "#%%\n"
    },
    "scrolled": true
   },
   "outputs": [
    {
     "name": "stderr",
     "output_type": "stream",
     "text": [
      "2022-01-04 13:50:55,179 fedbiomed INFO - Searching dataset with data tags: ['mednist'] for all nodes\n",
      "2022-01-04 13:50:55,243 fedbiomed INFO - log from: node_6db91b12-7507-4dd4-b3ea-788da19cc6ed / DEBUG - Message received: {'researcher_id': 'researcher_2f6f9985-2136-4ced-b2b9-ba6cb4a5ecfc', 'tags': ['mednist'], 'command': 'search'}\n",
      "2022-01-04 13:50:55,259 fedbiomed INFO - log from: node_d1557b63-00bd-49f8-83e2-ba59f8ef89e6 / DEBUG - Message received: {'researcher_id': 'researcher_2f6f9985-2136-4ced-b2b9-ba6cb4a5ecfc', 'tags': ['mednist'], 'command': 'search'}\n",
      "2022-01-04 13:50:55,283 fedbiomed INFO - log from: node_15981cb3-39ef-4c54-9e72-2432d023491f / DEBUG - Message received: {'researcher_id': 'researcher_2f6f9985-2136-4ced-b2b9-ba6cb4a5ecfc', 'tags': ['mednist'], 'command': 'search'}\n",
      "2022-01-04 13:51:05,202 fedbiomed INFO - Node selected for training -> node_6db91b12-7507-4dd4-b3ea-788da19cc6ed\n",
      "2022-01-04 13:51:05,203 fedbiomed INFO - Node selected for training -> node_d1557b63-00bd-49f8-83e2-ba59f8ef89e6\n",
      "2022-01-04 13:51:05,204 fedbiomed INFO - Node selected for training -> node_15981cb3-39ef-4c54-9e72-2432d023491f\n",
      "2022-01-04 13:51:05,206 fedbiomed INFO - Checking data quality of federated datasets...\n",
      "2022-01-04 13:51:05,507 fedbiomed DEBUG - torchnn saved model filename: /Users/balelli/ownCloud/INRIA_EPIONE/FedBioMed/fedbiomed/var/tmp8jpoe8e2/my_model_10cd9997-5c9f-418b-b68f-f259c83e44bf.py\n"
     ]
    }
   ],
   "source": [
    "from fedbiomed.researcher.experiment import Experiment\n",
    "from fedbiomed.researcher.aggregators.fedavg import FedAverage\n",
    "\n",
    "tags =  ['mednist']\n",
    "rounds = 3\n",
    "\n",
    "exp = Experiment(tags=tags,\n",
    "                 #clients=None,\n",
    "                 model_path=model_file,\n",
    "                 model_args=model_args,\n",
    "                 model_class='MyTrainingPlan',\n",
    "                 training_args=training_args,\n",
    "                 rounds=rounds,\n",
    "                 aggregator=FedAverage(),\n",
    "                 node_selection_strategy=None\n",
    "                )"
   ]
  },
  {
   "cell_type": "markdown",
   "metadata": {
    "pycharm": {
     "name": "#%% md\n"
    }
   },
   "source": [
    "Let's start the experiment.\n",
    "\n",
    "By default, this function doesn't stop until all the `rounds` are done for all the clients"
   ]
  },
  {
   "cell_type": "code",
   "execution_count": 8,
   "metadata": {
    "pycharm": {
     "name": "#%%\n"
    },
    "scrolled": true
   },
   "outputs": [
    {
     "name": "stderr",
     "output_type": "stream",
     "text": [
      "2022-01-04 13:51:15,682 fedbiomed INFO - Sampled nodes in round 0 ['node_6db91b12-7507-4dd4-b3ea-788da19cc6ed', 'node_d1557b63-00bd-49f8-83e2-ba59f8ef89e6', 'node_15981cb3-39ef-4c54-9e72-2432d023491f']\n",
      "2022-01-04 13:51:15,683 fedbiomed INFO - Send message to node node_6db91b12-7507-4dd4-b3ea-788da19cc6ed - {'researcher_id': 'researcher_2f6f9985-2136-4ced-b2b9-ba6cb4a5ecfc', 'job_id': '4cd2c2de-fb63-4bd4-9782-f86cd7cd4a80', 'training_args': {'batch_size': 20, 'lr': 1e-05, 'epochs': 1, 'dry_run': False, 'batch_maxnum': 250}, 'model_args': {'num_class': 6}, 'command': 'train', 'model_url': 'http://localhost:8844/media/uploads/2022/01/04/my_model_10cd9997-5c9f-418b-b68f-f259c83e44bf.py', 'params_url': 'http://localhost:8844/media/uploads/2022/01/04/my_model_06726a87-a08c-47f3-afd1-44dd49beb4a5.pt', 'model_class': 'MyTrainingPlan', 'training_data': {'node_6db91b12-7507-4dd4-b3ea-788da19cc6ed': ['dataset_4d619920-dd9c-4f6a-a308-055ba0c6eed1']}}\n",
      "2022-01-04 13:51:15,684 fedbiomed DEBUG - researcher_2f6f9985-2136-4ced-b2b9-ba6cb4a5ecfc\n",
      "2022-01-04 13:51:15,685 fedbiomed INFO - Send message to node node_d1557b63-00bd-49f8-83e2-ba59f8ef89e6 - {'researcher_id': 'researcher_2f6f9985-2136-4ced-b2b9-ba6cb4a5ecfc', 'job_id': '4cd2c2de-fb63-4bd4-9782-f86cd7cd4a80', 'training_args': {'batch_size': 20, 'lr': 1e-05, 'epochs': 1, 'dry_run': False, 'batch_maxnum': 250}, 'model_args': {'num_class': 6}, 'command': 'train', 'model_url': 'http://localhost:8844/media/uploads/2022/01/04/my_model_10cd9997-5c9f-418b-b68f-f259c83e44bf.py', 'params_url': 'http://localhost:8844/media/uploads/2022/01/04/my_model_06726a87-a08c-47f3-afd1-44dd49beb4a5.pt', 'model_class': 'MyTrainingPlan', 'training_data': {'node_d1557b63-00bd-49f8-83e2-ba59f8ef89e6': ['dataset_b0a51271-2d4c-47ac-9d3a-e2e38848e63e']}}\n",
      "2022-01-04 13:51:15,693 fedbiomed DEBUG - researcher_2f6f9985-2136-4ced-b2b9-ba6cb4a5ecfc\n",
      "2022-01-04 13:51:15,698 fedbiomed INFO - Send message to node node_15981cb3-39ef-4c54-9e72-2432d023491f - {'researcher_id': 'researcher_2f6f9985-2136-4ced-b2b9-ba6cb4a5ecfc', 'job_id': '4cd2c2de-fb63-4bd4-9782-f86cd7cd4a80', 'training_args': {'batch_size': 20, 'lr': 1e-05, 'epochs': 1, 'dry_run': False, 'batch_maxnum': 250}, 'model_args': {'num_class': 6}, 'command': 'train', 'model_url': 'http://localhost:8844/media/uploads/2022/01/04/my_model_10cd9997-5c9f-418b-b68f-f259c83e44bf.py', 'params_url': 'http://localhost:8844/media/uploads/2022/01/04/my_model_06726a87-a08c-47f3-afd1-44dd49beb4a5.pt', 'model_class': 'MyTrainingPlan', 'training_data': {'node_15981cb3-39ef-4c54-9e72-2432d023491f': ['dataset_e71735f5-f5c7-4e1e-9d38-712989883da9']}}\n",
      "2022-01-04 13:51:15,701 fedbiomed DEBUG - researcher_2f6f9985-2136-4ced-b2b9-ba6cb4a5ecfc\n",
      "2022-01-04 13:51:15,794 fedbiomed INFO - log from: node_15981cb3-39ef-4c54-9e72-2432d023491f / DEBUG - Message received: {'researcher_id': 'researcher_2f6f9985-2136-4ced-b2b9-ba6cb4a5ecfc', 'job_id': '4cd2c2de-fb63-4bd4-9782-f86cd7cd4a80', 'training_args': {'batch_size': 20, 'lr': 1e-05, 'epochs': 1, 'dry_run': False, 'batch_maxnum': 250}, 'model_args': {'num_class': 6}, 'command': 'train', 'model_url': 'http://localhost:8844/media/uploads/2022/01/04/my_model_10cd9997-5c9f-418b-b68f-f259c83e44bf.py', 'params_url': 'http://localhost:8844/media/uploads/2022/01/04/my_model_06726a87-a08c-47f3-afd1-44dd49beb4a5.pt', 'model_class': 'MyTrainingPlan', 'training_data': {'node_15981cb3-39ef-4c54-9e72-2432d023491f': ['dataset_e71735f5-f5c7-4e1e-9d38-712989883da9']}}\n",
      "2022-01-04 13:51:15,805 fedbiomed INFO - log from: node_6db91b12-7507-4dd4-b3ea-788da19cc6ed / DEBUG - Message received: {'researcher_id': 'researcher_2f6f9985-2136-4ced-b2b9-ba6cb4a5ecfc', 'job_id': '4cd2c2de-fb63-4bd4-9782-f86cd7cd4a80', 'training_args': {'batch_size': 20, 'lr': 1e-05, 'epochs': 1, 'dry_run': False, 'batch_maxnum': 250}, 'model_args': {'num_class': 6}, 'command': 'train', 'model_url': 'http://localhost:8844/media/uploads/2022/01/04/my_model_10cd9997-5c9f-418b-b68f-f259c83e44bf.py', 'params_url': 'http://localhost:8844/media/uploads/2022/01/04/my_model_06726a87-a08c-47f3-afd1-44dd49beb4a5.pt', 'model_class': 'MyTrainingPlan', 'training_data': {'node_6db91b12-7507-4dd4-b3ea-788da19cc6ed': ['dataset_4d619920-dd9c-4f6a-a308-055ba0c6eed1']}}\n",
      "2022-01-04 13:51:15,839 fedbiomed INFO - log from: node_15981cb3-39ef-4c54-9e72-2432d023491f / DEBUG - [TASKS QUEUE] Item:{'researcher_id': 'researcher_2f6f9985-2136-4ced-b2b9-ba6cb4a5ecfc', 'job_id': '4cd2c2de-fb63-4bd4-9782-f86cd7cd4a80', 'params_url': 'http://localhost:8844/media/uploads/2022/01/04/my_model_06726a87-a08c-47f3-afd1-44dd49beb4a5.pt', 'training_args': {'batch_size': 20, 'lr': 1e-05, 'epochs': 1, 'dry_run': False, 'batch_maxnum': 250}, 'training_data': {'node_15981cb3-39ef-4c54-9e72-2432d023491f': ['dataset_e71735f5-f5c7-4e1e-9d38-712989883da9']}, 'model_args': {'num_class': 6}, 'model_url': 'http://localhost:8844/media/uploads/2022/01/04/my_model_10cd9997-5c9f-418b-b68f-f259c83e44bf.py', 'model_class': 'MyTrainingPlan', 'command': 'train'}\n",
      "2022-01-04 13:51:15,841 fedbiomed INFO - log from: node_d1557b63-00bd-49f8-83e2-ba59f8ef89e6 / DEBUG - Message received: {'researcher_id': 'researcher_2f6f9985-2136-4ced-b2b9-ba6cb4a5ecfc', 'job_id': '4cd2c2de-fb63-4bd4-9782-f86cd7cd4a80', 'training_args': {'batch_size': 20, 'lr': 1e-05, 'epochs': 1, 'dry_run': False, 'batch_maxnum': 250}, 'model_args': {'num_class': 6}, 'command': 'train', 'model_url': 'http://localhost:8844/media/uploads/2022/01/04/my_model_10cd9997-5c9f-418b-b68f-f259c83e44bf.py', 'params_url': 'http://localhost:8844/media/uploads/2022/01/04/my_model_06726a87-a08c-47f3-afd1-44dd49beb4a5.pt', 'model_class': 'MyTrainingPlan', 'training_data': {'node_d1557b63-00bd-49f8-83e2-ba59f8ef89e6': ['dataset_b0a51271-2d4c-47ac-9d3a-e2e38848e63e']}}\n",
      "2022-01-04 13:51:15,848 fedbiomed INFO - log from: node_6db91b12-7507-4dd4-b3ea-788da19cc6ed / DEBUG - [TASKS QUEUE] Item:{'researcher_id': 'researcher_2f6f9985-2136-4ced-b2b9-ba6cb4a5ecfc', 'job_id': '4cd2c2de-fb63-4bd4-9782-f86cd7cd4a80', 'params_url': 'http://localhost:8844/media/uploads/2022/01/04/my_model_06726a87-a08c-47f3-afd1-44dd49beb4a5.pt', 'training_args': {'batch_size': 20, 'lr': 1e-05, 'epochs': 1, 'dry_run': False, 'batch_maxnum': 250}, 'training_data': {'node_6db91b12-7507-4dd4-b3ea-788da19cc6ed': ['dataset_4d619920-dd9c-4f6a-a308-055ba0c6eed1']}, 'model_args': {'num_class': 6}, 'model_url': 'http://localhost:8844/media/uploads/2022/01/04/my_model_10cd9997-5c9f-418b-b68f-f259c83e44bf.py', 'model_class': 'MyTrainingPlan', 'command': 'train'}\n",
      "2022-01-04 13:51:15,883 fedbiomed INFO - log from: node_d1557b63-00bd-49f8-83e2-ba59f8ef89e6 / DEBUG - [TASKS QUEUE] Item:{'researcher_id': 'researcher_2f6f9985-2136-4ced-b2b9-ba6cb4a5ecfc', 'job_id': '4cd2c2de-fb63-4bd4-9782-f86cd7cd4a80', 'params_url': 'http://localhost:8844/media/uploads/2022/01/04/my_model_06726a87-a08c-47f3-afd1-44dd49beb4a5.pt', 'training_args': {'batch_size': 20, 'lr': 1e-05, 'epochs': 1, 'dry_run': False, 'batch_maxnum': 250}, 'training_data': {'node_d1557b63-00bd-49f8-83e2-ba59f8ef89e6': ['dataset_b0a51271-2d4c-47ac-9d3a-e2e38848e63e']}, 'model_args': {'num_class': 6}, 'model_url': 'http://localhost:8844/media/uploads/2022/01/04/my_model_10cd9997-5c9f-418b-b68f-f259c83e44bf.py', 'model_class': 'MyTrainingPlan', 'command': 'train'}\n",
      "2022-01-04 13:51:23,539 fedbiomed INFO - log from: node_d1557b63-00bd-49f8-83e2-ba59f8ef89e6 / INFO - {'monitor': <fedbiomed.node.history_monitor.HistoryMonitor object at 0x15c60d820>, 'batch_size': 20, 'lr': 1e-05, 'epochs': 1, 'dry_run': False, 'batch_maxnum': 250}\n",
      "2022-01-04 13:51:23,574 fedbiomed INFO - log from: node_d1557b63-00bd-49f8-83e2-ba59f8ef89e6 / DEBUG - Dataset_path/Users/balelli/Downloads/MedNIST_clients/client_1\n",
      "2022-01-04 13:51:24,715 fedbiomed INFO - log from: node_6db91b12-7507-4dd4-b3ea-788da19cc6ed / INFO - {'monitor': <fedbiomed.node.history_monitor.HistoryMonitor object at 0x107e59460>, 'batch_size': 20, 'lr': 1e-05, 'epochs': 1, 'dry_run': False, 'batch_maxnum': 250}\n",
      "2022-01-04 13:51:24,728 fedbiomed INFO - log from: node_6db91b12-7507-4dd4-b3ea-788da19cc6ed / DEBUG - Dataset_path/Users/balelli/Downloads/MedNIST_clients/client_2\n",
      "2022-01-04 13:51:25,020 fedbiomed INFO - log from: node_15981cb3-39ef-4c54-9e72-2432d023491f / INFO - {'monitor': <fedbiomed.node.history_monitor.HistoryMonitor object at 0x103df22b0>, 'batch_size': 20, 'lr': 1e-05, 'epochs': 1, 'dry_run': False, 'batch_maxnum': 250}\n"
     ]
    },
    {
     "name": "stderr",
     "output_type": "stream",
     "text": [
      "2022-01-04 13:51:25,026 fedbiomed INFO - log from: node_15981cb3-39ef-4c54-9e72-2432d023491f / DEBUG - Dataset_path/Users/balelli/Downloads/MedNIST_clients/client_3\n",
      "2022-01-04 13:51:28,929 fedbiomed INFO - log from: node_d1557b63-00bd-49f8-83e2-ba59f8ef89e6 / INFO - Train Epoch: 1 [0/18000 (0%)]\tLoss: 1.828339\n",
      "2022-01-04 13:51:29,365 fedbiomed INFO - log from: node_6db91b12-7507-4dd4-b3ea-788da19cc6ed / INFO - Train Epoch: 1 [0/18000 (0%)]\tLoss: 1.793562\n",
      "2022-01-04 13:51:29,556 fedbiomed INFO - log from: node_15981cb3-39ef-4c54-9e72-2432d023491f / INFO - Train Epoch: 1 [0/16954 (0%)]\tLoss: 1.846336\n",
      "2022-01-04 13:51:58,597 fedbiomed INFO - log from: node_d1557b63-00bd-49f8-83e2-ba59f8ef89e6 / INFO - Train Epoch: 1 [200/18000 (1%)]\tLoss: 1.695278\n",
      "2022-01-04 13:51:59,055 fedbiomed INFO - log from: node_6db91b12-7507-4dd4-b3ea-788da19cc6ed / INFO - Train Epoch: 1 [200/18000 (1%)]\tLoss: 1.676721\n",
      "2022-01-04 13:51:59,089 fedbiomed INFO - log from: node_15981cb3-39ef-4c54-9e72-2432d023491f / INFO - Train Epoch: 1 [200/16954 (1%)]\tLoss: 1.649902\n",
      "2022-01-04 13:52:27,035 fedbiomed INFO - log from: node_d1557b63-00bd-49f8-83e2-ba59f8ef89e6 / INFO - Train Epoch: 1 [400/18000 (2%)]\tLoss: 1.600723\n",
      "2022-01-04 13:52:27,449 fedbiomed INFO - log from: node_6db91b12-7507-4dd4-b3ea-788da19cc6ed / INFO - Train Epoch: 1 [400/18000 (2%)]\tLoss: 1.615696\n",
      "2022-01-04 13:52:27,528 fedbiomed INFO - log from: node_15981cb3-39ef-4c54-9e72-2432d023491f / INFO - Train Epoch: 1 [400/16954 (2%)]\tLoss: 1.680255\n",
      "2022-01-04 13:52:56,706 fedbiomed INFO - log from: node_d1557b63-00bd-49f8-83e2-ba59f8ef89e6 / INFO - Train Epoch: 1 [600/18000 (3%)]\tLoss: 1.446283\n",
      "2022-01-04 13:52:57,271 fedbiomed INFO - log from: node_15981cb3-39ef-4c54-9e72-2432d023491f / INFO - Train Epoch: 1 [600/16954 (4%)]\tLoss: 1.438421\n",
      "2022-01-04 13:52:57,316 fedbiomed INFO - log from: node_6db91b12-7507-4dd4-b3ea-788da19cc6ed / INFO - Train Epoch: 1 [600/18000 (3%)]\tLoss: 1.572361\n",
      "2022-01-04 13:53:27,600 fedbiomed INFO - log from: node_d1557b63-00bd-49f8-83e2-ba59f8ef89e6 / INFO - Train Epoch: 1 [800/18000 (4%)]\tLoss: 1.403970\n",
      "2022-01-04 13:53:28,559 fedbiomed INFO - log from: node_6db91b12-7507-4dd4-b3ea-788da19cc6ed / INFO - Train Epoch: 1 [800/18000 (4%)]\tLoss: 1.266559\n",
      "2022-01-04 13:53:28,582 fedbiomed INFO - log from: node_15981cb3-39ef-4c54-9e72-2432d023491f / INFO - Train Epoch: 1 [800/16954 (5%)]\tLoss: 1.203897\n",
      "2022-01-04 13:53:57,341 fedbiomed INFO - log from: node_d1557b63-00bd-49f8-83e2-ba59f8ef89e6 / INFO - Train Epoch: 1 [1000/18000 (6%)]\tLoss: 1.270161\n",
      "2022-01-04 13:53:57,933 fedbiomed INFO - log from: node_6db91b12-7507-4dd4-b3ea-788da19cc6ed / INFO - Train Epoch: 1 [1000/18000 (6%)]\tLoss: 1.244004\n",
      "2022-01-04 13:53:57,937 fedbiomed INFO - log from: node_15981cb3-39ef-4c54-9e72-2432d023491f / INFO - Train Epoch: 1 [1000/16954 (6%)]\tLoss: 1.463066\n",
      "2022-01-04 13:54:25,732 fedbiomed INFO - log from: node_d1557b63-00bd-49f8-83e2-ba59f8ef89e6 / INFO - Train Epoch: 1 [1200/18000 (7%)]\tLoss: 1.218549\n",
      "2022-01-04 13:54:26,537 fedbiomed INFO - log from: node_15981cb3-39ef-4c54-9e72-2432d023491f / INFO - Train Epoch: 1 [1200/16954 (7%)]\tLoss: 1.255345\n",
      "2022-01-04 13:54:26,548 fedbiomed INFO - log from: node_6db91b12-7507-4dd4-b3ea-788da19cc6ed / INFO - Train Epoch: 1 [1200/18000 (7%)]\tLoss: 1.141654\n",
      "2022-01-04 13:54:54,072 fedbiomed INFO - log from: node_d1557b63-00bd-49f8-83e2-ba59f8ef89e6 / INFO - Train Epoch: 1 [1400/18000 (8%)]\tLoss: 1.174699\n",
      "2022-01-04 13:54:54,991 fedbiomed INFO - log from: node_15981cb3-39ef-4c54-9e72-2432d023491f / INFO - Train Epoch: 1 [1400/16954 (8%)]\tLoss: 1.286168\n",
      "2022-01-04 13:54:55,125 fedbiomed INFO - log from: node_6db91b12-7507-4dd4-b3ea-788da19cc6ed / INFO - Train Epoch: 1 [1400/18000 (8%)]\tLoss: 1.219289\n",
      "2022-01-04 13:55:22,376 fedbiomed INFO - log from: node_d1557b63-00bd-49f8-83e2-ba59f8ef89e6 / INFO - Train Epoch: 1 [1600/18000 (9%)]\tLoss: 1.078986\n",
      "2022-01-04 13:55:23,213 fedbiomed INFO - log from: node_15981cb3-39ef-4c54-9e72-2432d023491f / INFO - Train Epoch: 1 [1600/16954 (9%)]\tLoss: 1.140965\n",
      "2022-01-04 13:55:23,441 fedbiomed INFO - log from: node_6db91b12-7507-4dd4-b3ea-788da19cc6ed / INFO - Train Epoch: 1 [1600/18000 (9%)]\tLoss: 1.043478\n",
      "2022-01-04 13:55:53,059 fedbiomed INFO - log from: node_d1557b63-00bd-49f8-83e2-ba59f8ef89e6 / INFO - Train Epoch: 1 [1800/18000 (10%)]\tLoss: 1.162964\n",
      "2022-01-04 13:55:54,113 fedbiomed INFO - log from: node_15981cb3-39ef-4c54-9e72-2432d023491f / INFO - Train Epoch: 1 [1800/16954 (11%)]\tLoss: 0.985187\n",
      "2022-01-04 13:55:54,276 fedbiomed INFO - log from: node_6db91b12-7507-4dd4-b3ea-788da19cc6ed / INFO - Train Epoch: 1 [1800/18000 (10%)]\tLoss: 1.132220\n",
      "2022-01-04 13:56:32,171 fedbiomed INFO - log from: node_d1557b63-00bd-49f8-83e2-ba59f8ef89e6 / INFO - Train Epoch: 1 [2000/18000 (11%)]\tLoss: 0.999961\n",
      "2022-01-04 13:56:33,267 fedbiomed INFO - log from: node_15981cb3-39ef-4c54-9e72-2432d023491f / INFO - Train Epoch: 1 [2000/16954 (12%)]\tLoss: 1.153021\n",
      "2022-01-04 13:56:33,351 fedbiomed INFO - log from: node_6db91b12-7507-4dd4-b3ea-788da19cc6ed / INFO - Train Epoch: 1 [2000/18000 (11%)]\tLoss: 0.906198\n",
      "2022-01-04 13:57:08,275 fedbiomed INFO - log from: node_d1557b63-00bd-49f8-83e2-ba59f8ef89e6 / INFO - Train Epoch: 1 [2200/18000 (12%)]\tLoss: 1.005547\n",
      "2022-01-04 13:57:08,559 fedbiomed INFO - log from: node_15981cb3-39ef-4c54-9e72-2432d023491f / INFO - Train Epoch: 1 [2200/16954 (13%)]\tLoss: 0.973639\n",
      "2022-01-04 13:57:08,865 fedbiomed INFO - log from: node_6db91b12-7507-4dd4-b3ea-788da19cc6ed / INFO - Train Epoch: 1 [2200/18000 (12%)]\tLoss: 0.943793\n",
      "2022-01-04 13:57:44,731 fedbiomed INFO - log from: node_15981cb3-39ef-4c54-9e72-2432d023491f / INFO - Train Epoch: 1 [2400/16954 (14%)]\tLoss: 1.003953\n",
      "2022-01-04 13:57:44,734 fedbiomed INFO - log from: node_d1557b63-00bd-49f8-83e2-ba59f8ef89e6 / INFO - Train Epoch: 1 [2400/18000 (13%)]\tLoss: 0.776082\n",
      "2022-01-04 13:57:45,061 fedbiomed INFO - log from: node_6db91b12-7507-4dd4-b3ea-788da19cc6ed / INFO - Train Epoch: 1 [2400/18000 (13%)]\tLoss: 0.836217\n",
      "2022-01-04 13:58:19,034 fedbiomed INFO - log from: node_d1557b63-00bd-49f8-83e2-ba59f8ef89e6 / INFO - Train Epoch: 1 [2600/18000 (14%)]\tLoss: 0.837694\n",
      "2022-01-04 13:58:19,086 fedbiomed INFO - log from: node_15981cb3-39ef-4c54-9e72-2432d023491f / INFO - Train Epoch: 1 [2600/16954 (15%)]\tLoss: 0.836166\n",
      "2022-01-04 13:58:19,330 fedbiomed INFO - log from: node_6db91b12-7507-4dd4-b3ea-788da19cc6ed / INFO - Train Epoch: 1 [2600/18000 (14%)]\tLoss: 0.828717\n",
      "2022-01-04 13:58:49,946 fedbiomed INFO - log from: node_15981cb3-39ef-4c54-9e72-2432d023491f / INFO - Train Epoch: 1 [2800/16954 (17%)]\tLoss: 0.686154\n",
      "2022-01-04 13:58:50,107 fedbiomed INFO - log from: node_d1557b63-00bd-49f8-83e2-ba59f8ef89e6 / INFO - Train Epoch: 1 [2800/18000 (16%)]\tLoss: 1.084900\n",
      "2022-01-04 13:58:50,261 fedbiomed INFO - log from: node_6db91b12-7507-4dd4-b3ea-788da19cc6ed / INFO - Train Epoch: 1 [2800/18000 (16%)]\tLoss: 0.843319\n",
      "2022-01-04 13:59:20,789 fedbiomed INFO - log from: node_15981cb3-39ef-4c54-9e72-2432d023491f / INFO - Train Epoch: 1 [3000/16954 (18%)]\tLoss: 0.859413\n",
      "2022-01-04 13:59:21,006 fedbiomed INFO - log from: node_6db91b12-7507-4dd4-b3ea-788da19cc6ed / INFO - Train Epoch: 1 [3000/18000 (17%)]\tLoss: 0.813813\n",
      "2022-01-04 13:59:21,070 fedbiomed INFO - log from: node_d1557b63-00bd-49f8-83e2-ba59f8ef89e6 / INFO - Train Epoch: 1 [3000/18000 (17%)]\tLoss: 0.909507\n",
      "2022-01-04 13:59:58,885 fedbiomed INFO - log from: node_15981cb3-39ef-4c54-9e72-2432d023491f / INFO - Train Epoch: 1 [3200/16954 (19%)]\tLoss: 0.678680\n",
      "2022-01-04 13:59:59,004 fedbiomed INFO - log from: node_6db91b12-7507-4dd4-b3ea-788da19cc6ed / INFO - Train Epoch: 1 [3200/18000 (18%)]\tLoss: 0.687956\n",
      "2022-01-04 13:59:59,160 fedbiomed INFO - log from: node_d1557b63-00bd-49f8-83e2-ba59f8ef89e6 / INFO - Train Epoch: 1 [3200/18000 (18%)]\tLoss: 0.609224\n",
      "2022-01-04 14:00:36,352 fedbiomed INFO - log from: node_6db91b12-7507-4dd4-b3ea-788da19cc6ed / INFO - Train Epoch: 1 [3400/18000 (19%)]\tLoss: 0.663508\n",
      "2022-01-04 14:00:36,461 fedbiomed INFO - log from: node_d1557b63-00bd-49f8-83e2-ba59f8ef89e6 / INFO - Train Epoch: 1 [3400/18000 (19%)]\tLoss: 0.665753\n",
      "2022-01-04 14:00:36,534 fedbiomed INFO - log from: node_15981cb3-39ef-4c54-9e72-2432d023491f / INFO - Train Epoch: 1 [3400/16954 (20%)]\tLoss: 0.778519\n"
     ]
    },
    {
     "name": "stderr",
     "output_type": "stream",
     "text": [
      "2022-01-04 14:01:10,306 fedbiomed INFO - log from: node_15981cb3-39ef-4c54-9e72-2432d023491f / INFO - Train Epoch: 1 [3600/16954 (21%)]\tLoss: 0.617849\n",
      "2022-01-04 14:01:10,402 fedbiomed INFO - log from: node_d1557b63-00bd-49f8-83e2-ba59f8ef89e6 / INFO - Train Epoch: 1 [3600/18000 (20%)]\tLoss: 0.571927\n",
      "2022-01-04 14:01:10,454 fedbiomed INFO - log from: node_6db91b12-7507-4dd4-b3ea-788da19cc6ed / INFO - Train Epoch: 1 [3600/18000 (20%)]\tLoss: 0.447446\n",
      "2022-01-04 14:01:45,942 fedbiomed INFO - log from: node_6db91b12-7507-4dd4-b3ea-788da19cc6ed / INFO - Train Epoch: 1 [3800/18000 (21%)]\tLoss: 0.460049\n",
      "2022-01-04 14:01:45,974 fedbiomed INFO - log from: node_15981cb3-39ef-4c54-9e72-2432d023491f / INFO - Train Epoch: 1 [3800/16954 (22%)]\tLoss: 0.578661\n",
      "2022-01-04 14:01:46,136 fedbiomed INFO - log from: node_d1557b63-00bd-49f8-83e2-ba59f8ef89e6 / INFO - Train Epoch: 1 [3800/18000 (21%)]\tLoss: 0.506750\n",
      "2022-01-04 14:02:20,769 fedbiomed INFO - log from: node_15981cb3-39ef-4c54-9e72-2432d023491f / INFO - Train Epoch: 1 [4000/16954 (24%)]\tLoss: 0.517500\n",
      "2022-01-04 14:02:20,842 fedbiomed INFO - log from: node_6db91b12-7507-4dd4-b3ea-788da19cc6ed / INFO - Train Epoch: 1 [4000/18000 (22%)]\tLoss: 0.487231\n",
      "2022-01-04 14:02:21,166 fedbiomed INFO - log from: node_d1557b63-00bd-49f8-83e2-ba59f8ef89e6 / INFO - Train Epoch: 1 [4000/18000 (22%)]\tLoss: 0.667894\n",
      "2022-01-04 14:03:04,018 fedbiomed INFO - log from: node_15981cb3-39ef-4c54-9e72-2432d023491f / INFO - Train Epoch: 1 [4200/16954 (25%)]\tLoss: 0.703724\n",
      "2022-01-04 14:03:04,136 fedbiomed INFO - log from: node_6db91b12-7507-4dd4-b3ea-788da19cc6ed / INFO - Train Epoch: 1 [4200/18000 (23%)]\tLoss: 0.443428\n",
      "2022-01-04 14:03:04,383 fedbiomed INFO - log from: node_d1557b63-00bd-49f8-83e2-ba59f8ef89e6 / INFO - Train Epoch: 1 [4200/18000 (23%)]\tLoss: 0.488299\n",
      "2022-01-04 14:03:51,508 fedbiomed INFO - log from: node_6db91b12-7507-4dd4-b3ea-788da19cc6ed / INFO - Train Epoch: 1 [4400/18000 (24%)]\tLoss: 0.627268\n",
      "2022-01-04 14:03:51,736 fedbiomed INFO - log from: node_15981cb3-39ef-4c54-9e72-2432d023491f / INFO - Train Epoch: 1 [4400/16954 (26%)]\tLoss: 0.699364\n",
      "2022-01-04 14:03:52,027 fedbiomed INFO - log from: node_d1557b63-00bd-49f8-83e2-ba59f8ef89e6 / INFO - Train Epoch: 1 [4400/18000 (24%)]\tLoss: 0.414987\n",
      "2022-01-04 14:04:37,726 fedbiomed INFO - log from: node_6db91b12-7507-4dd4-b3ea-788da19cc6ed / INFO - Train Epoch: 1 [4600/18000 (26%)]\tLoss: 0.464129\n",
      "2022-01-04 14:04:37,905 fedbiomed INFO - log from: node_15981cb3-39ef-4c54-9e72-2432d023491f / INFO - Train Epoch: 1 [4600/16954 (27%)]\tLoss: 0.785726\n",
      "2022-01-04 14:04:38,267 fedbiomed INFO - log from: node_d1557b63-00bd-49f8-83e2-ba59f8ef89e6 / INFO - Train Epoch: 1 [4600/18000 (26%)]\tLoss: 0.719695\n",
      "2022-01-04 14:05:15,905 fedbiomed INFO - log from: node_6db91b12-7507-4dd4-b3ea-788da19cc6ed / INFO - Train Epoch: 1 [4800/18000 (27%)]\tLoss: 0.452252\n",
      "2022-01-04 14:05:15,910 fedbiomed INFO - log from: node_15981cb3-39ef-4c54-9e72-2432d023491f / INFO - Train Epoch: 1 [4800/16954 (28%)]\tLoss: 0.412170\n",
      "2022-01-04 14:05:16,149 fedbiomed INFO - log from: node_d1557b63-00bd-49f8-83e2-ba59f8ef89e6 / INFO - Train Epoch: 1 [4800/18000 (27%)]\tLoss: 0.511970\n",
      "2022-01-04 14:06:00,642 fedbiomed INFO - log from: node_6db91b12-7507-4dd4-b3ea-788da19cc6ed / DEBUG - Reached 250 batches for this epoch, ignore remaining data\n",
      "2022-01-04 14:06:00,782 fedbiomed INFO - log from: node_d1557b63-00bd-49f8-83e2-ba59f8ef89e6 / DEBUG - Reached 250 batches for this epoch, ignore remaining data\n",
      "2022-01-04 14:06:00,937 fedbiomed INFO - log from: node_15981cb3-39ef-4c54-9e72-2432d023491f / DEBUG - Reached 250 batches for this epoch, ignore remaining data\n",
      "2022-01-04 14:06:17,353 fedbiomed INFO - log from: node_6db91b12-7507-4dd4-b3ea-788da19cc6ed / INFO - results uploaded successfully \n",
      "2022-01-04 14:06:17,716 fedbiomed INFO - log from: node_15981cb3-39ef-4c54-9e72-2432d023491f / INFO - results uploaded successfully \n",
      "2022-01-04 14:06:17,861 fedbiomed INFO - log from: node_d1557b63-00bd-49f8-83e2-ba59f8ef89e6 / INFO - results uploaded successfully \n",
      "2022-01-04 14:06:26,423 fedbiomed INFO - Downloading model params after training on node_6db91b12-7507-4dd4-b3ea-788da19cc6ed - from http://localhost:8844/media/uploads/2022/01/04/node_params_64dfb57f-5bfd-4740-9b2f-481d7802a0fb.pt\n",
      "2022-01-04 14:06:29,916 fedbiomed INFO - Downloading model params after training on node_15981cb3-39ef-4c54-9e72-2432d023491f - from http://localhost:8844/media/uploads/2022/01/04/node_params_73db8bd3-7b69-4fa7-b6df-48bedf49b0ab.pt\n",
      "2022-01-04 14:06:31,912 fedbiomed INFO - Downloading model params after training on node_d1557b63-00bd-49f8-83e2-ba59f8ef89e6 - from http://localhost:8844/media/uploads/2022/01/04/node_params_c84fc74c-c9da-40cf-ba53-79a62dcec17c.pt\n",
      "2022-01-04 14:06:33,601 fedbiomed INFO - Nodes that successfully reply in round 0 ['node_6db91b12-7507-4dd4-b3ea-788da19cc6ed', 'node_15981cb3-39ef-4c54-9e72-2432d023491f', 'node_d1557b63-00bd-49f8-83e2-ba59f8ef89e6']\n",
      "2022-01-04 14:06:38,208 fedbiomed INFO - Sampled nodes in round 1 ['node_6db91b12-7507-4dd4-b3ea-788da19cc6ed', 'node_d1557b63-00bd-49f8-83e2-ba59f8ef89e6', 'node_15981cb3-39ef-4c54-9e72-2432d023491f']\n",
      "2022-01-04 14:06:38,210 fedbiomed INFO - Send message to node node_6db91b12-7507-4dd4-b3ea-788da19cc6ed - {'researcher_id': 'researcher_2f6f9985-2136-4ced-b2b9-ba6cb4a5ecfc', 'job_id': '4cd2c2de-fb63-4bd4-9782-f86cd7cd4a80', 'training_args': {'batch_size': 20, 'lr': 1e-05, 'epochs': 1, 'dry_run': False, 'batch_maxnum': 250}, 'model_args': {'num_class': 6}, 'command': 'train', 'model_url': 'http://localhost:8844/media/uploads/2022/01/04/my_model_10cd9997-5c9f-418b-b68f-f259c83e44bf.py', 'params_url': 'http://localhost:8844/media/uploads/2022/01/04/researcher_params_1106a220-74eb-4a92-aa4d-97a3883361ef.pt', 'model_class': 'MyTrainingPlan', 'training_data': {'node_6db91b12-7507-4dd4-b3ea-788da19cc6ed': ['dataset_4d619920-dd9c-4f6a-a308-055ba0c6eed1']}}\n",
      "2022-01-04 14:06:38,212 fedbiomed DEBUG - researcher_2f6f9985-2136-4ced-b2b9-ba6cb4a5ecfc\n",
      "2022-01-04 14:06:38,221 fedbiomed INFO - Send message to node node_d1557b63-00bd-49f8-83e2-ba59f8ef89e6 - {'researcher_id': 'researcher_2f6f9985-2136-4ced-b2b9-ba6cb4a5ecfc', 'job_id': '4cd2c2de-fb63-4bd4-9782-f86cd7cd4a80', 'training_args': {'batch_size': 20, 'lr': 1e-05, 'epochs': 1, 'dry_run': False, 'batch_maxnum': 250}, 'model_args': {'num_class': 6}, 'command': 'train', 'model_url': 'http://localhost:8844/media/uploads/2022/01/04/my_model_10cd9997-5c9f-418b-b68f-f259c83e44bf.py', 'params_url': 'http://localhost:8844/media/uploads/2022/01/04/researcher_params_1106a220-74eb-4a92-aa4d-97a3883361ef.pt', 'model_class': 'MyTrainingPlan', 'training_data': {'node_d1557b63-00bd-49f8-83e2-ba59f8ef89e6': ['dataset_b0a51271-2d4c-47ac-9d3a-e2e38848e63e']}}\n",
      "2022-01-04 14:06:38,224 fedbiomed DEBUG - researcher_2f6f9985-2136-4ced-b2b9-ba6cb4a5ecfc\n",
      "2022-01-04 14:06:38,236 fedbiomed INFO - Send message to node node_15981cb3-39ef-4c54-9e72-2432d023491f - {'researcher_id': 'researcher_2f6f9985-2136-4ced-b2b9-ba6cb4a5ecfc', 'job_id': '4cd2c2de-fb63-4bd4-9782-f86cd7cd4a80', 'training_args': {'batch_size': 20, 'lr': 1e-05, 'epochs': 1, 'dry_run': False, 'batch_maxnum': 250}, 'model_args': {'num_class': 6}, 'command': 'train', 'model_url': 'http://localhost:8844/media/uploads/2022/01/04/my_model_10cd9997-5c9f-418b-b68f-f259c83e44bf.py', 'params_url': 'http://localhost:8844/media/uploads/2022/01/04/researcher_params_1106a220-74eb-4a92-aa4d-97a3883361ef.pt', 'model_class': 'MyTrainingPlan', 'training_data': {'node_15981cb3-39ef-4c54-9e72-2432d023491f': ['dataset_e71735f5-f5c7-4e1e-9d38-712989883da9']}}\n",
      "2022-01-04 14:06:38,241 fedbiomed DEBUG - researcher_2f6f9985-2136-4ced-b2b9-ba6cb4a5ecfc\n",
      "2022-01-04 14:06:38,239 fedbiomed INFO - log from: node_6db91b12-7507-4dd4-b3ea-788da19cc6ed / DEBUG - Message received: {'researcher_id': 'researcher_2f6f9985-2136-4ced-b2b9-ba6cb4a5ecfc', 'job_id': '4cd2c2de-fb63-4bd4-9782-f86cd7cd4a80', 'training_args': {'batch_size': 20, 'lr': 1e-05, 'epochs': 1, 'dry_run': False, 'batch_maxnum': 250}, 'model_args': {'num_class': 6}, 'command': 'train', 'model_url': 'http://localhost:8844/media/uploads/2022/01/04/my_model_10cd9997-5c9f-418b-b68f-f259c83e44bf.py', 'params_url': 'http://localhost:8844/media/uploads/2022/01/04/researcher_params_1106a220-74eb-4a92-aa4d-97a3883361ef.pt', 'model_class': 'MyTrainingPlan', 'training_data': {'node_6db91b12-7507-4dd4-b3ea-788da19cc6ed': ['dataset_4d619920-dd9c-4f6a-a308-055ba0c6eed1']}}\n"
     ]
    },
    {
     "name": "stderr",
     "output_type": "stream",
     "text": [
      "2022-01-04 14:06:38,263 fedbiomed INFO - log from: node_d1557b63-00bd-49f8-83e2-ba59f8ef89e6 / DEBUG - Message received: {'researcher_id': 'researcher_2f6f9985-2136-4ced-b2b9-ba6cb4a5ecfc', 'job_id': '4cd2c2de-fb63-4bd4-9782-f86cd7cd4a80', 'training_args': {'batch_size': 20, 'lr': 1e-05, 'epochs': 1, 'dry_run': False, 'batch_maxnum': 250}, 'model_args': {'num_class': 6}, 'command': 'train', 'model_url': 'http://localhost:8844/media/uploads/2022/01/04/my_model_10cd9997-5c9f-418b-b68f-f259c83e44bf.py', 'params_url': 'http://localhost:8844/media/uploads/2022/01/04/researcher_params_1106a220-74eb-4a92-aa4d-97a3883361ef.pt', 'model_class': 'MyTrainingPlan', 'training_data': {'node_d1557b63-00bd-49f8-83e2-ba59f8ef89e6': ['dataset_b0a51271-2d4c-47ac-9d3a-e2e38848e63e']}}\n",
      "2022-01-04 14:06:38,276 fedbiomed INFO - log from: node_15981cb3-39ef-4c54-9e72-2432d023491f / DEBUG - Message received: {'researcher_id': 'researcher_2f6f9985-2136-4ced-b2b9-ba6cb4a5ecfc', 'job_id': '4cd2c2de-fb63-4bd4-9782-f86cd7cd4a80', 'training_args': {'batch_size': 20, 'lr': 1e-05, 'epochs': 1, 'dry_run': False, 'batch_maxnum': 250}, 'model_args': {'num_class': 6}, 'command': 'train', 'model_url': 'http://localhost:8844/media/uploads/2022/01/04/my_model_10cd9997-5c9f-418b-b68f-f259c83e44bf.py', 'params_url': 'http://localhost:8844/media/uploads/2022/01/04/researcher_params_1106a220-74eb-4a92-aa4d-97a3883361ef.pt', 'model_class': 'MyTrainingPlan', 'training_data': {'node_15981cb3-39ef-4c54-9e72-2432d023491f': ['dataset_e71735f5-f5c7-4e1e-9d38-712989883da9']}}\n",
      "2022-01-04 14:06:38,332 fedbiomed INFO - log from: node_d1557b63-00bd-49f8-83e2-ba59f8ef89e6 / DEBUG - [TASKS QUEUE] Item:{'researcher_id': 'researcher_2f6f9985-2136-4ced-b2b9-ba6cb4a5ecfc', 'job_id': '4cd2c2de-fb63-4bd4-9782-f86cd7cd4a80', 'params_url': 'http://localhost:8844/media/uploads/2022/01/04/researcher_params_1106a220-74eb-4a92-aa4d-97a3883361ef.pt', 'training_args': {'batch_size': 20, 'lr': 1e-05, 'epochs': 1, 'dry_run': False, 'batch_maxnum': 250}, 'training_data': {'node_d1557b63-00bd-49f8-83e2-ba59f8ef89e6': ['dataset_b0a51271-2d4c-47ac-9d3a-e2e38848e63e']}, 'model_args': {'num_class': 6}, 'model_url': 'http://localhost:8844/media/uploads/2022/01/04/my_model_10cd9997-5c9f-418b-b68f-f259c83e44bf.py', 'model_class': 'MyTrainingPlan', 'command': 'train'}\n",
      "2022-01-04 14:06:38,337 fedbiomed INFO - log from: node_15981cb3-39ef-4c54-9e72-2432d023491f / DEBUG - [TASKS QUEUE] Item:{'researcher_id': 'researcher_2f6f9985-2136-4ced-b2b9-ba6cb4a5ecfc', 'job_id': '4cd2c2de-fb63-4bd4-9782-f86cd7cd4a80', 'params_url': 'http://localhost:8844/media/uploads/2022/01/04/researcher_params_1106a220-74eb-4a92-aa4d-97a3883361ef.pt', 'training_args': {'batch_size': 20, 'lr': 1e-05, 'epochs': 1, 'dry_run': False, 'batch_maxnum': 250}, 'training_data': {'node_15981cb3-39ef-4c54-9e72-2432d023491f': ['dataset_e71735f5-f5c7-4e1e-9d38-712989883da9']}, 'model_args': {'num_class': 6}, 'model_url': 'http://localhost:8844/media/uploads/2022/01/04/my_model_10cd9997-5c9f-418b-b68f-f259c83e44bf.py', 'model_class': 'MyTrainingPlan', 'command': 'train'}\n",
      "2022-01-04 14:06:38,343 fedbiomed INFO - log from: node_6db91b12-7507-4dd4-b3ea-788da19cc6ed / DEBUG - [TASKS QUEUE] Item:{'researcher_id': 'researcher_2f6f9985-2136-4ced-b2b9-ba6cb4a5ecfc', 'job_id': '4cd2c2de-fb63-4bd4-9782-f86cd7cd4a80', 'params_url': 'http://localhost:8844/media/uploads/2022/01/04/researcher_params_1106a220-74eb-4a92-aa4d-97a3883361ef.pt', 'training_args': {'batch_size': 20, 'lr': 1e-05, 'epochs': 1, 'dry_run': False, 'batch_maxnum': 250}, 'training_data': {'node_6db91b12-7507-4dd4-b3ea-788da19cc6ed': ['dataset_4d619920-dd9c-4f6a-a308-055ba0c6eed1']}, 'model_args': {'num_class': 6}, 'model_url': 'http://localhost:8844/media/uploads/2022/01/04/my_model_10cd9997-5c9f-418b-b68f-f259c83e44bf.py', 'model_class': 'MyTrainingPlan', 'command': 'train'}\n",
      "2022-01-04 14:06:44,013 fedbiomed INFO - log from: node_d1557b63-00bd-49f8-83e2-ba59f8ef89e6 / INFO - {'monitor': <fedbiomed.node.history_monitor.HistoryMonitor object at 0x15a416e20>, 'batch_size': 20, 'lr': 1e-05, 'epochs': 1, 'dry_run': False, 'batch_maxnum': 250}\n",
      "2022-01-04 14:06:44,021 fedbiomed INFO - log from: node_d1557b63-00bd-49f8-83e2-ba59f8ef89e6 / DEBUG - Dataset_path/Users/balelli/Downloads/MedNIST_clients/client_1\n",
      "2022-01-04 14:06:44,307 fedbiomed INFO - log from: node_15981cb3-39ef-4c54-9e72-2432d023491f / INFO - {'monitor': <fedbiomed.node.history_monitor.HistoryMonitor object at 0x14e4810a0>, 'batch_size': 20, 'lr': 1e-05, 'epochs': 1, 'dry_run': False, 'batch_maxnum': 250}\n",
      "2022-01-04 14:06:44,336 fedbiomed INFO - log from: node_15981cb3-39ef-4c54-9e72-2432d023491f / DEBUG - Dataset_path/Users/balelli/Downloads/MedNIST_clients/client_3\n",
      "2022-01-04 14:06:44,400 fedbiomed INFO - log from: node_6db91b12-7507-4dd4-b3ea-788da19cc6ed / INFO - {'monitor': <fedbiomed.node.history_monitor.HistoryMonitor object at 0x15204eb50>, 'batch_size': 20, 'lr': 1e-05, 'epochs': 1, 'dry_run': False, 'batch_maxnum': 250}\n",
      "2022-01-04 14:06:44,402 fedbiomed INFO - log from: node_6db91b12-7507-4dd4-b3ea-788da19cc6ed / DEBUG - Dataset_path/Users/balelli/Downloads/MedNIST_clients/client_2\n",
      "2022-01-04 14:06:52,683 fedbiomed INFO - log from: node_d1557b63-00bd-49f8-83e2-ba59f8ef89e6 / INFO - Train Epoch: 1 [0/18000 (0%)]\tLoss: 0.391611\n",
      "2022-01-04 14:06:52,910 fedbiomed INFO - log from: node_15981cb3-39ef-4c54-9e72-2432d023491f / INFO - Train Epoch: 1 [0/16954 (0%)]\tLoss: 0.452920\n",
      "2022-01-04 14:06:52,954 fedbiomed INFO - log from: node_6db91b12-7507-4dd4-b3ea-788da19cc6ed / INFO - Train Epoch: 1 [0/18000 (0%)]\tLoss: 0.420127\n",
      "2022-01-04 14:07:35,557 fedbiomed INFO - log from: node_15981cb3-39ef-4c54-9e72-2432d023491f / INFO - Train Epoch: 1 [200/16954 (1%)]\tLoss: 0.538908\n",
      "2022-01-04 14:07:35,610 fedbiomed INFO - log from: node_d1557b63-00bd-49f8-83e2-ba59f8ef89e6 / INFO - Train Epoch: 1 [200/18000 (1%)]\tLoss: 0.478351\n",
      "2022-01-04 14:07:35,811 fedbiomed INFO - log from: node_6db91b12-7507-4dd4-b3ea-788da19cc6ed / INFO - Train Epoch: 1 [200/18000 (1%)]\tLoss: 0.404262\n",
      "2022-01-04 14:08:10,645 fedbiomed INFO - log from: node_15981cb3-39ef-4c54-9e72-2432d023491f / INFO - Train Epoch: 1 [400/16954 (2%)]\tLoss: 0.463405\n",
      "2022-01-04 14:08:10,730 fedbiomed INFO - log from: node_6db91b12-7507-4dd4-b3ea-788da19cc6ed / INFO - Train Epoch: 1 [400/18000 (2%)]\tLoss: 0.295199\n",
      "2022-01-04 14:08:10,820 fedbiomed INFO - log from: node_d1557b63-00bd-49f8-83e2-ba59f8ef89e6 / INFO - Train Epoch: 1 [400/18000 (2%)]\tLoss: 0.586626\n",
      "2022-01-04 14:08:46,197 fedbiomed INFO - log from: node_15981cb3-39ef-4c54-9e72-2432d023491f / INFO - Train Epoch: 1 [600/16954 (4%)]\tLoss: 0.307513\n",
      "2022-01-04 14:08:46,309 fedbiomed INFO - log from: node_6db91b12-7507-4dd4-b3ea-788da19cc6ed / INFO - Train Epoch: 1 [600/18000 (3%)]\tLoss: 0.358959\n",
      "2022-01-04 14:08:46,506 fedbiomed INFO - log from: node_d1557b63-00bd-49f8-83e2-ba59f8ef89e6 / INFO - Train Epoch: 1 [600/18000 (3%)]\tLoss: 0.377083\n",
      "2022-01-04 14:09:23,023 fedbiomed INFO - log from: node_15981cb3-39ef-4c54-9e72-2432d023491f / INFO - Train Epoch: 1 [800/16954 (5%)]\tLoss: 0.305455\n",
      "2022-01-04 14:09:23,297 fedbiomed INFO - log from: node_6db91b12-7507-4dd4-b3ea-788da19cc6ed / INFO - Train Epoch: 1 [800/18000 (4%)]\tLoss: 0.340030\n",
      "2022-01-04 14:09:23,507 fedbiomed INFO - log from: node_d1557b63-00bd-49f8-83e2-ba59f8ef89e6 / INFO - Train Epoch: 1 [800/18000 (4%)]\tLoss: 0.471485\n",
      "2022-01-04 14:10:04,164 fedbiomed INFO - log from: node_15981cb3-39ef-4c54-9e72-2432d023491f / INFO - Train Epoch: 1 [1000/16954 (6%)]\tLoss: 0.219234\n",
      "2022-01-04 14:10:04,470 fedbiomed INFO - log from: node_6db91b12-7507-4dd4-b3ea-788da19cc6ed / INFO - Train Epoch: 1 [1000/18000 (6%)]\tLoss: 0.292268\n",
      "2022-01-04 14:10:04,969 fedbiomed INFO - log from: node_d1557b63-00bd-49f8-83e2-ba59f8ef89e6 / INFO - Train Epoch: 1 [1000/18000 (6%)]\tLoss: 0.330823\n",
      "2022-01-04 14:10:39,981 fedbiomed INFO - log from: node_15981cb3-39ef-4c54-9e72-2432d023491f / INFO - Train Epoch: 1 [1200/16954 (7%)]\tLoss: 0.270982\n",
      "2022-01-04 14:10:40,356 fedbiomed INFO - log from: node_6db91b12-7507-4dd4-b3ea-788da19cc6ed / INFO - Train Epoch: 1 [1200/18000 (7%)]\tLoss: 0.293039\n",
      "2022-01-04 14:10:41,074 fedbiomed INFO - log from: node_d1557b63-00bd-49f8-83e2-ba59f8ef89e6 / INFO - Train Epoch: 1 [1200/18000 (7%)]\tLoss: 0.442446\n"
     ]
    },
    {
     "name": "stderr",
     "output_type": "stream",
     "text": [
      "2022-01-04 14:11:16,763 fedbiomed INFO - log from: node_15981cb3-39ef-4c54-9e72-2432d023491f / INFO - Train Epoch: 1 [1400/16954 (8%)]\tLoss: 0.382757\n",
      "2022-01-04 14:11:17,704 fedbiomed INFO - log from: node_6db91b12-7507-4dd4-b3ea-788da19cc6ed / INFO - Train Epoch: 1 [1400/18000 (8%)]\tLoss: 0.295625\n",
      "2022-01-04 14:11:19,205 fedbiomed INFO - log from: node_d1557b63-00bd-49f8-83e2-ba59f8ef89e6 / INFO - Train Epoch: 1 [1400/18000 (8%)]\tLoss: 0.305437\n",
      "2022-01-04 14:11:54,904 fedbiomed INFO - log from: node_15981cb3-39ef-4c54-9e72-2432d023491f / INFO - Train Epoch: 1 [1600/16954 (9%)]\tLoss: 0.613600\n",
      "2022-01-04 14:11:55,720 fedbiomed INFO - log from: node_6db91b12-7507-4dd4-b3ea-788da19cc6ed / INFO - Train Epoch: 1 [1600/18000 (9%)]\tLoss: 0.258277\n",
      "2022-01-04 14:11:57,105 fedbiomed INFO - log from: node_d1557b63-00bd-49f8-83e2-ba59f8ef89e6 / INFO - Train Epoch: 1 [1600/18000 (9%)]\tLoss: 0.528238\n",
      "2022-01-04 14:12:32,013 fedbiomed INFO - log from: node_15981cb3-39ef-4c54-9e72-2432d023491f / INFO - Train Epoch: 1 [1800/16954 (11%)]\tLoss: 0.272561\n",
      "2022-01-04 14:12:32,611 fedbiomed INFO - log from: node_6db91b12-7507-4dd4-b3ea-788da19cc6ed / INFO - Train Epoch: 1 [1800/18000 (10%)]\tLoss: 0.296526\n",
      "2022-01-04 14:12:34,578 fedbiomed INFO - log from: node_d1557b63-00bd-49f8-83e2-ba59f8ef89e6 / INFO - Train Epoch: 1 [1800/18000 (10%)]\tLoss: 0.269558\n",
      "2022-01-04 14:13:20,130 fedbiomed INFO - log from: node_15981cb3-39ef-4c54-9e72-2432d023491f / INFO - Train Epoch: 1 [2000/16954 (12%)]\tLoss: 0.362457\n",
      "2022-01-04 14:13:21,184 fedbiomed INFO - log from: node_6db91b12-7507-4dd4-b3ea-788da19cc6ed / INFO - Train Epoch: 1 [2000/18000 (11%)]\tLoss: 0.422826\n",
      "2022-01-04 14:13:23,891 fedbiomed INFO - log from: node_d1557b63-00bd-49f8-83e2-ba59f8ef89e6 / INFO - Train Epoch: 1 [2000/18000 (11%)]\tLoss: 0.495190\n",
      "2022-01-04 14:14:12,090 fedbiomed INFO - log from: node_15981cb3-39ef-4c54-9e72-2432d023491f / INFO - Train Epoch: 1 [2200/16954 (13%)]\tLoss: 0.282646\n",
      "2022-01-04 14:14:14,003 fedbiomed INFO - log from: node_6db91b12-7507-4dd4-b3ea-788da19cc6ed / INFO - Train Epoch: 1 [2200/18000 (12%)]\tLoss: 0.145966\n",
      "2022-01-04 14:14:16,643 fedbiomed INFO - log from: node_d1557b63-00bd-49f8-83e2-ba59f8ef89e6 / INFO - Train Epoch: 1 [2200/18000 (12%)]\tLoss: 0.258265\n",
      "2022-01-04 14:14:54,645 fedbiomed INFO - log from: node_15981cb3-39ef-4c54-9e72-2432d023491f / INFO - Train Epoch: 1 [2400/16954 (14%)]\tLoss: 0.196093\n",
      "2022-01-04 14:14:56,855 fedbiomed INFO - log from: node_6db91b12-7507-4dd4-b3ea-788da19cc6ed / INFO - Train Epoch: 1 [2400/18000 (13%)]\tLoss: 0.211393\n",
      "2022-01-04 14:14:58,391 fedbiomed INFO - log from: node_d1557b63-00bd-49f8-83e2-ba59f8ef89e6 / INFO - Train Epoch: 1 [2400/18000 (13%)]\tLoss: 0.157715\n",
      "2022-01-04 14:15:34,106 fedbiomed INFO - log from: node_15981cb3-39ef-4c54-9e72-2432d023491f / INFO - Train Epoch: 1 [2600/16954 (15%)]\tLoss: 0.231742\n",
      "2022-01-04 14:15:36,594 fedbiomed INFO - log from: node_6db91b12-7507-4dd4-b3ea-788da19cc6ed / INFO - Train Epoch: 1 [2600/18000 (14%)]\tLoss: 0.266029\n",
      "2022-01-04 14:15:38,098 fedbiomed INFO - log from: node_d1557b63-00bd-49f8-83e2-ba59f8ef89e6 / INFO - Train Epoch: 1 [2600/18000 (14%)]\tLoss: 0.171820\n",
      "2022-01-04 14:16:07,013 fedbiomed INFO - log from: node_15981cb3-39ef-4c54-9e72-2432d023491f / INFO - Train Epoch: 1 [2800/16954 (17%)]\tLoss: 0.294110\n",
      "2022-01-04 14:16:09,584 fedbiomed INFO - log from: node_6db91b12-7507-4dd4-b3ea-788da19cc6ed / INFO - Train Epoch: 1 [2800/18000 (16%)]\tLoss: 0.214463\n",
      "2022-01-04 14:16:10,709 fedbiomed INFO - log from: node_d1557b63-00bd-49f8-83e2-ba59f8ef89e6 / INFO - Train Epoch: 1 [2800/18000 (16%)]\tLoss: 0.429030\n",
      "2022-01-04 14:16:41,096 fedbiomed INFO - log from: node_15981cb3-39ef-4c54-9e72-2432d023491f / INFO - Train Epoch: 1 [3000/16954 (18%)]\tLoss: 0.272198\n",
      "2022-01-04 14:16:44,421 fedbiomed INFO - log from: node_6db91b12-7507-4dd4-b3ea-788da19cc6ed / INFO - Train Epoch: 1 [3000/18000 (17%)]\tLoss: 0.517816\n",
      "2022-01-04 14:16:45,366 fedbiomed INFO - log from: node_d1557b63-00bd-49f8-83e2-ba59f8ef89e6 / INFO - Train Epoch: 1 [3000/18000 (17%)]\tLoss: 0.231814\n",
      "2022-01-04 14:17:14,950 fedbiomed INFO - log from: node_15981cb3-39ef-4c54-9e72-2432d023491f / INFO - Train Epoch: 1 [3200/16954 (19%)]\tLoss: 0.202278\n",
      "2022-01-04 14:17:18,013 fedbiomed INFO - log from: node_6db91b12-7507-4dd4-b3ea-788da19cc6ed / INFO - Train Epoch: 1 [3200/18000 (18%)]\tLoss: 0.235375\n",
      "2022-01-04 14:17:19,169 fedbiomed INFO - log from: node_d1557b63-00bd-49f8-83e2-ba59f8ef89e6 / INFO - Train Epoch: 1 [3200/18000 (18%)]\tLoss: 0.336495\n",
      "2022-01-04 14:17:52,702 fedbiomed INFO - log from: node_15981cb3-39ef-4c54-9e72-2432d023491f / INFO - Train Epoch: 1 [3400/16954 (20%)]\tLoss: 0.288605\n",
      "2022-01-04 14:17:56,189 fedbiomed INFO - log from: node_6db91b12-7507-4dd4-b3ea-788da19cc6ed / INFO - Train Epoch: 1 [3400/18000 (19%)]\tLoss: 0.251039\n",
      "2022-01-04 14:17:58,382 fedbiomed INFO - log from: node_d1557b63-00bd-49f8-83e2-ba59f8ef89e6 / INFO - Train Epoch: 1 [3400/18000 (19%)]\tLoss: 0.200182\n",
      "2022-01-04 14:18:26,595 fedbiomed INFO - log from: node_15981cb3-39ef-4c54-9e72-2432d023491f / INFO - Train Epoch: 1 [3600/16954 (21%)]\tLoss: 0.245581\n",
      "2022-01-04 14:18:29,528 fedbiomed INFO - log from: node_6db91b12-7507-4dd4-b3ea-788da19cc6ed / INFO - Train Epoch: 1 [3600/18000 (20%)]\tLoss: 0.259156\n",
      "2022-01-04 14:18:31,531 fedbiomed INFO - log from: node_d1557b63-00bd-49f8-83e2-ba59f8ef89e6 / INFO - Train Epoch: 1 [3600/18000 (20%)]\tLoss: 0.229735\n",
      "2022-01-04 14:18:56,970 fedbiomed INFO - log from: node_15981cb3-39ef-4c54-9e72-2432d023491f / INFO - Train Epoch: 1 [3800/16954 (22%)]\tLoss: 0.261689\n",
      "2022-01-04 14:19:00,139 fedbiomed INFO - log from: node_6db91b12-7507-4dd4-b3ea-788da19cc6ed / INFO - Train Epoch: 1 [3800/18000 (21%)]\tLoss: 0.188838\n",
      "2022-01-04 14:19:02,348 fedbiomed INFO - log from: node_d1557b63-00bd-49f8-83e2-ba59f8ef89e6 / INFO - Train Epoch: 1 [3800/18000 (21%)]\tLoss: 0.227867\n",
      "2022-01-04 14:19:31,519 fedbiomed INFO - log from: node_15981cb3-39ef-4c54-9e72-2432d023491f / INFO - Train Epoch: 1 [4000/16954 (24%)]\tLoss: 0.405853\n",
      "2022-01-04 14:19:34,890 fedbiomed INFO - log from: node_6db91b12-7507-4dd4-b3ea-788da19cc6ed / INFO - Train Epoch: 1 [4000/18000 (22%)]\tLoss: 0.390925\n",
      "2022-01-04 14:19:37,025 fedbiomed INFO - log from: node_d1557b63-00bd-49f8-83e2-ba59f8ef89e6 / INFO - Train Epoch: 1 [4000/18000 (22%)]\tLoss: 0.114561\n",
      "2022-01-04 14:20:02,230 fedbiomed INFO - log from: node_15981cb3-39ef-4c54-9e72-2432d023491f / INFO - Train Epoch: 1 [4200/16954 (25%)]\tLoss: 0.247359\n",
      "2022-01-04 14:20:05,256 fedbiomed INFO - log from: node_6db91b12-7507-4dd4-b3ea-788da19cc6ed / INFO - Train Epoch: 1 [4200/18000 (23%)]\tLoss: 0.218504\n",
      "2022-01-04 14:20:07,330 fedbiomed INFO - log from: node_d1557b63-00bd-49f8-83e2-ba59f8ef89e6 / INFO - Train Epoch: 1 [4200/18000 (23%)]\tLoss: 0.188213\n",
      "2022-01-04 14:20:33,254 fedbiomed INFO - log from: node_15981cb3-39ef-4c54-9e72-2432d023491f / INFO - Train Epoch: 1 [4400/16954 (26%)]\tLoss: 0.115200\n",
      "2022-01-04 14:20:36,521 fedbiomed INFO - log from: node_6db91b12-7507-4dd4-b3ea-788da19cc6ed / INFO - Train Epoch: 1 [4400/18000 (24%)]\tLoss: 0.151816\n",
      "2022-01-04 14:20:39,761 fedbiomed INFO - log from: node_d1557b63-00bd-49f8-83e2-ba59f8ef89e6 / INFO - Train Epoch: 1 [4400/18000 (24%)]\tLoss: 0.232649\n",
      "2022-01-04 14:21:15,355 fedbiomed INFO - log from: node_15981cb3-39ef-4c54-9e72-2432d023491f / INFO - Train Epoch: 1 [4600/16954 (27%)]\tLoss: 0.191236\n",
      "2022-01-04 14:21:18,777 fedbiomed INFO - log from: node_6db91b12-7507-4dd4-b3ea-788da19cc6ed / INFO - Train Epoch: 1 [4600/18000 (26%)]\tLoss: 0.144324\n",
      "2022-01-04 14:21:22,959 fedbiomed INFO - log from: node_d1557b63-00bd-49f8-83e2-ba59f8ef89e6 / INFO - Train Epoch: 1 [4600/18000 (26%)]\tLoss: 0.384132\n",
      "2022-01-04 14:22:08,223 fedbiomed INFO - log from: node_15981cb3-39ef-4c54-9e72-2432d023491f / INFO - Train Epoch: 1 [4800/16954 (28%)]\tLoss: 0.123216\n",
      "2022-01-04 14:22:14,465 fedbiomed INFO - log from: node_6db91b12-7507-4dd4-b3ea-788da19cc6ed / INFO - Train Epoch: 1 [4800/18000 (27%)]\tLoss: 0.138294\n",
      "2022-01-04 14:22:20,837 fedbiomed INFO - log from: node_d1557b63-00bd-49f8-83e2-ba59f8ef89e6 / INFO - Train Epoch: 1 [4800/18000 (27%)]\tLoss: 0.085279\n",
      "2022-01-04 14:23:06,186 fedbiomed INFO - log from: node_15981cb3-39ef-4c54-9e72-2432d023491f / DEBUG - Reached 250 batches for this epoch, ignore remaining data\n"
     ]
    },
    {
     "name": "stderr",
     "output_type": "stream",
     "text": [
      "2022-01-04 14:23:11,819 fedbiomed INFO - log from: node_6db91b12-7507-4dd4-b3ea-788da19cc6ed / DEBUG - Reached 250 batches for this epoch, ignore remaining data\n",
      "2022-01-04 14:23:15,887 fedbiomed INFO - log from: node_d1557b63-00bd-49f8-83e2-ba59f8ef89e6 / DEBUG - Reached 250 batches for this epoch, ignore remaining data\n",
      "2022-01-04 14:23:19,202 fedbiomed INFO - log from: node_15981cb3-39ef-4c54-9e72-2432d023491f / INFO - results uploaded successfully \n",
      "2022-01-04 14:23:27,576 fedbiomed INFO - log from: node_6db91b12-7507-4dd4-b3ea-788da19cc6ed / INFO - results uploaded successfully \n",
      "2022-01-04 14:23:30,110 fedbiomed INFO - log from: node_d1557b63-00bd-49f8-83e2-ba59f8ef89e6 / INFO - results uploaded successfully \n",
      "2022-01-04 14:23:39,002 fedbiomed INFO - Downloading model params after training on node_15981cb3-39ef-4c54-9e72-2432d023491f - from http://localhost:8844/media/uploads/2022/01/04/node_params_d089d089-d882-479e-afbc-9373da06dbf2.pt\n",
      "2022-01-04 14:23:40,468 fedbiomed INFO - Downloading model params after training on node_6db91b12-7507-4dd4-b3ea-788da19cc6ed - from http://localhost:8844/media/uploads/2022/01/04/node_params_4711eb7b-3797-4b7d-9586-5a32be8faea2.pt\n",
      "2022-01-04 14:23:42,062 fedbiomed INFO - Downloading model params after training on node_d1557b63-00bd-49f8-83e2-ba59f8ef89e6 - from http://localhost:8844/media/uploads/2022/01/04/node_params_2e74d202-5040-4454-b68f-fa8a135445f8.pt\n",
      "2022-01-04 14:23:43,612 fedbiomed INFO - Nodes that successfully reply in round 1 ['node_15981cb3-39ef-4c54-9e72-2432d023491f', 'node_6db91b12-7507-4dd4-b3ea-788da19cc6ed', 'node_d1557b63-00bd-49f8-83e2-ba59f8ef89e6']\n",
      "2022-01-04 14:23:49,369 fedbiomed INFO - Sampled nodes in round 2 ['node_6db91b12-7507-4dd4-b3ea-788da19cc6ed', 'node_d1557b63-00bd-49f8-83e2-ba59f8ef89e6', 'node_15981cb3-39ef-4c54-9e72-2432d023491f']\n",
      "2022-01-04 14:23:49,370 fedbiomed INFO - Send message to node node_6db91b12-7507-4dd4-b3ea-788da19cc6ed - {'researcher_id': 'researcher_2f6f9985-2136-4ced-b2b9-ba6cb4a5ecfc', 'job_id': '4cd2c2de-fb63-4bd4-9782-f86cd7cd4a80', 'training_args': {'batch_size': 20, 'lr': 1e-05, 'epochs': 1, 'dry_run': False, 'batch_maxnum': 250}, 'model_args': {'num_class': 6}, 'command': 'train', 'model_url': 'http://localhost:8844/media/uploads/2022/01/04/my_model_10cd9997-5c9f-418b-b68f-f259c83e44bf.py', 'params_url': 'http://localhost:8844/media/uploads/2022/01/04/researcher_params_bcafc404-37ba-4810-8766-88f92bee96bd.pt', 'model_class': 'MyTrainingPlan', 'training_data': {'node_6db91b12-7507-4dd4-b3ea-788da19cc6ed': ['dataset_4d619920-dd9c-4f6a-a308-055ba0c6eed1']}}\n",
      "2022-01-04 14:23:49,371 fedbiomed DEBUG - researcher_2f6f9985-2136-4ced-b2b9-ba6cb4a5ecfc\n",
      "2022-01-04 14:23:49,373 fedbiomed INFO - Send message to node node_d1557b63-00bd-49f8-83e2-ba59f8ef89e6 - {'researcher_id': 'researcher_2f6f9985-2136-4ced-b2b9-ba6cb4a5ecfc', 'job_id': '4cd2c2de-fb63-4bd4-9782-f86cd7cd4a80', 'training_args': {'batch_size': 20, 'lr': 1e-05, 'epochs': 1, 'dry_run': False, 'batch_maxnum': 250}, 'model_args': {'num_class': 6}, 'command': 'train', 'model_url': 'http://localhost:8844/media/uploads/2022/01/04/my_model_10cd9997-5c9f-418b-b68f-f259c83e44bf.py', 'params_url': 'http://localhost:8844/media/uploads/2022/01/04/researcher_params_bcafc404-37ba-4810-8766-88f92bee96bd.pt', 'model_class': 'MyTrainingPlan', 'training_data': {'node_d1557b63-00bd-49f8-83e2-ba59f8ef89e6': ['dataset_b0a51271-2d4c-47ac-9d3a-e2e38848e63e']}}\n",
      "2022-01-04 14:23:49,376 fedbiomed DEBUG - researcher_2f6f9985-2136-4ced-b2b9-ba6cb4a5ecfc\n",
      "2022-01-04 14:23:49,378 fedbiomed INFO - Send message to node node_15981cb3-39ef-4c54-9e72-2432d023491f - {'researcher_id': 'researcher_2f6f9985-2136-4ced-b2b9-ba6cb4a5ecfc', 'job_id': '4cd2c2de-fb63-4bd4-9782-f86cd7cd4a80', 'training_args': {'batch_size': 20, 'lr': 1e-05, 'epochs': 1, 'dry_run': False, 'batch_maxnum': 250}, 'model_args': {'num_class': 6}, 'command': 'train', 'model_url': 'http://localhost:8844/media/uploads/2022/01/04/my_model_10cd9997-5c9f-418b-b68f-f259c83e44bf.py', 'params_url': 'http://localhost:8844/media/uploads/2022/01/04/researcher_params_bcafc404-37ba-4810-8766-88f92bee96bd.pt', 'model_class': 'MyTrainingPlan', 'training_data': {'node_15981cb3-39ef-4c54-9e72-2432d023491f': ['dataset_e71735f5-f5c7-4e1e-9d38-712989883da9']}}\n",
      "2022-01-04 14:23:49,381 fedbiomed DEBUG - researcher_2f6f9985-2136-4ced-b2b9-ba6cb4a5ecfc\n",
      "2022-01-04 14:23:49,457 fedbiomed INFO - log from: node_6db91b12-7507-4dd4-b3ea-788da19cc6ed / DEBUG - Message received: {'researcher_id': 'researcher_2f6f9985-2136-4ced-b2b9-ba6cb4a5ecfc', 'job_id': '4cd2c2de-fb63-4bd4-9782-f86cd7cd4a80', 'training_args': {'batch_size': 20, 'lr': 1e-05, 'epochs': 1, 'dry_run': False, 'batch_maxnum': 250}, 'model_args': {'num_class': 6}, 'command': 'train', 'model_url': 'http://localhost:8844/media/uploads/2022/01/04/my_model_10cd9997-5c9f-418b-b68f-f259c83e44bf.py', 'params_url': 'http://localhost:8844/media/uploads/2022/01/04/researcher_params_bcafc404-37ba-4810-8766-88f92bee96bd.pt', 'model_class': 'MyTrainingPlan', 'training_data': {'node_6db91b12-7507-4dd4-b3ea-788da19cc6ed': ['dataset_4d619920-dd9c-4f6a-a308-055ba0c6eed1']}}\n",
      "2022-01-04 14:23:49,487 fedbiomed INFO - log from: node_6db91b12-7507-4dd4-b3ea-788da19cc6ed / DEBUG - [TASKS QUEUE] Item:{'researcher_id': 'researcher_2f6f9985-2136-4ced-b2b9-ba6cb4a5ecfc', 'job_id': '4cd2c2de-fb63-4bd4-9782-f86cd7cd4a80', 'params_url': 'http://localhost:8844/media/uploads/2022/01/04/researcher_params_bcafc404-37ba-4810-8766-88f92bee96bd.pt', 'training_args': {'batch_size': 20, 'lr': 1e-05, 'epochs': 1, 'dry_run': False, 'batch_maxnum': 250}, 'training_data': {'node_6db91b12-7507-4dd4-b3ea-788da19cc6ed': ['dataset_4d619920-dd9c-4f6a-a308-055ba0c6eed1']}, 'model_args': {'num_class': 6}, 'model_url': 'http://localhost:8844/media/uploads/2022/01/04/my_model_10cd9997-5c9f-418b-b68f-f259c83e44bf.py', 'model_class': 'MyTrainingPlan', 'command': 'train'}\n",
      "2022-01-04 14:23:49,501 fedbiomed INFO - log from: node_d1557b63-00bd-49f8-83e2-ba59f8ef89e6 / DEBUG - Message received: {'researcher_id': 'researcher_2f6f9985-2136-4ced-b2b9-ba6cb4a5ecfc', 'job_id': '4cd2c2de-fb63-4bd4-9782-f86cd7cd4a80', 'training_args': {'batch_size': 20, 'lr': 1e-05, 'epochs': 1, 'dry_run': False, 'batch_maxnum': 250}, 'model_args': {'num_class': 6}, 'command': 'train', 'model_url': 'http://localhost:8844/media/uploads/2022/01/04/my_model_10cd9997-5c9f-418b-b68f-f259c83e44bf.py', 'params_url': 'http://localhost:8844/media/uploads/2022/01/04/researcher_params_bcafc404-37ba-4810-8766-88f92bee96bd.pt', 'model_class': 'MyTrainingPlan', 'training_data': {'node_d1557b63-00bd-49f8-83e2-ba59f8ef89e6': ['dataset_b0a51271-2d4c-47ac-9d3a-e2e38848e63e']}}\n",
      "2022-01-04 14:23:49,512 fedbiomed INFO - log from: node_15981cb3-39ef-4c54-9e72-2432d023491f / DEBUG - Message received: {'researcher_id': 'researcher_2f6f9985-2136-4ced-b2b9-ba6cb4a5ecfc', 'job_id': '4cd2c2de-fb63-4bd4-9782-f86cd7cd4a80', 'training_args': {'batch_size': 20, 'lr': 1e-05, 'epochs': 1, 'dry_run': False, 'batch_maxnum': 250}, 'model_args': {'num_class': 6}, 'command': 'train', 'model_url': 'http://localhost:8844/media/uploads/2022/01/04/my_model_10cd9997-5c9f-418b-b68f-f259c83e44bf.py', 'params_url': 'http://localhost:8844/media/uploads/2022/01/04/researcher_params_bcafc404-37ba-4810-8766-88f92bee96bd.pt', 'model_class': 'MyTrainingPlan', 'training_data': {'node_15981cb3-39ef-4c54-9e72-2432d023491f': ['dataset_e71735f5-f5c7-4e1e-9d38-712989883da9']}}\n",
      "2022-01-04 14:23:49,523 fedbiomed INFO - log from: node_d1557b63-00bd-49f8-83e2-ba59f8ef89e6 / DEBUG - [TASKS QUEUE] Item:{'researcher_id': 'researcher_2f6f9985-2136-4ced-b2b9-ba6cb4a5ecfc', 'job_id': '4cd2c2de-fb63-4bd4-9782-f86cd7cd4a80', 'params_url': 'http://localhost:8844/media/uploads/2022/01/04/researcher_params_bcafc404-37ba-4810-8766-88f92bee96bd.pt', 'training_args': {'batch_size': 20, 'lr': 1e-05, 'epochs': 1, 'dry_run': False, 'batch_maxnum': 250}, 'training_data': {'node_d1557b63-00bd-49f8-83e2-ba59f8ef89e6': ['dataset_b0a51271-2d4c-47ac-9d3a-e2e38848e63e']}, 'model_args': {'num_class': 6}, 'model_url': 'http://localhost:8844/media/uploads/2022/01/04/my_model_10cd9997-5c9f-418b-b68f-f259c83e44bf.py', 'model_class': 'MyTrainingPlan', 'command': 'train'}\n"
     ]
    },
    {
     "name": "stderr",
     "output_type": "stream",
     "text": [
      "2022-01-04 14:23:49,525 fedbiomed INFO - log from: node_15981cb3-39ef-4c54-9e72-2432d023491f / DEBUG - [TASKS QUEUE] Item:{'researcher_id': 'researcher_2f6f9985-2136-4ced-b2b9-ba6cb4a5ecfc', 'job_id': '4cd2c2de-fb63-4bd4-9782-f86cd7cd4a80', 'params_url': 'http://localhost:8844/media/uploads/2022/01/04/researcher_params_bcafc404-37ba-4810-8766-88f92bee96bd.pt', 'training_args': {'batch_size': 20, 'lr': 1e-05, 'epochs': 1, 'dry_run': False, 'batch_maxnum': 250}, 'training_data': {'node_15981cb3-39ef-4c54-9e72-2432d023491f': ['dataset_e71735f5-f5c7-4e1e-9d38-712989883da9']}, 'model_args': {'num_class': 6}, 'model_url': 'http://localhost:8844/media/uploads/2022/01/04/my_model_10cd9997-5c9f-418b-b68f-f259c83e44bf.py', 'model_class': 'MyTrainingPlan', 'command': 'train'}\n",
      "2022-01-04 14:23:55,225 fedbiomed INFO - log from: node_6db91b12-7507-4dd4-b3ea-788da19cc6ed / INFO - {'monitor': <fedbiomed.node.history_monitor.HistoryMonitor object at 0x107e3fd30>, 'batch_size': 20, 'lr': 1e-05, 'epochs': 1, 'dry_run': False, 'batch_maxnum': 250}\n",
      "2022-01-04 14:23:55,236 fedbiomed INFO - log from: node_6db91b12-7507-4dd4-b3ea-788da19cc6ed / DEBUG - Dataset_path/Users/balelli/Downloads/MedNIST_clients/client_2\n",
      "2022-01-04 14:23:55,252 fedbiomed INFO - log from: node_d1557b63-00bd-49f8-83e2-ba59f8ef89e6 / INFO - {'monitor': <fedbiomed.node.history_monitor.HistoryMonitor object at 0x15a3e3df0>, 'batch_size': 20, 'lr': 1e-05, 'epochs': 1, 'dry_run': False, 'batch_maxnum': 250}\n",
      "2022-01-04 14:23:55,254 fedbiomed INFO - log from: node_d1557b63-00bd-49f8-83e2-ba59f8ef89e6 / DEBUG - Dataset_path/Users/balelli/Downloads/MedNIST_clients/client_1\n",
      "2022-01-04 14:23:55,273 fedbiomed INFO - log from: node_15981cb3-39ef-4c54-9e72-2432d023491f / INFO - {'monitor': <fedbiomed.node.history_monitor.HistoryMonitor object at 0x103df22b0>, 'batch_size': 20, 'lr': 1e-05, 'epochs': 1, 'dry_run': False, 'batch_maxnum': 250}\n",
      "2022-01-04 14:23:55,288 fedbiomed INFO - log from: node_15981cb3-39ef-4c54-9e72-2432d023491f / DEBUG - Dataset_path/Users/balelli/Downloads/MedNIST_clients/client_3\n",
      "2022-01-04 14:24:00,201 fedbiomed INFO - log from: node_15981cb3-39ef-4c54-9e72-2432d023491f / INFO - Train Epoch: 1 [0/16954 (0%)]\tLoss: 0.170346\n",
      "2022-01-04 14:24:00,240 fedbiomed INFO - log from: node_6db91b12-7507-4dd4-b3ea-788da19cc6ed / INFO - Train Epoch: 1 [0/18000 (0%)]\tLoss: 0.247990\n",
      "2022-01-04 14:24:00,284 fedbiomed INFO - log from: node_d1557b63-00bd-49f8-83e2-ba59f8ef89e6 / INFO - Train Epoch: 1 [0/18000 (0%)]\tLoss: 0.177398\n",
      "2022-01-04 14:24:33,375 fedbiomed INFO - log from: node_15981cb3-39ef-4c54-9e72-2432d023491f / INFO - Train Epoch: 1 [200/16954 (1%)]\tLoss: 0.227330\n",
      "2022-01-04 14:24:33,445 fedbiomed INFO - log from: node_6db91b12-7507-4dd4-b3ea-788da19cc6ed / INFO - Train Epoch: 1 [200/18000 (1%)]\tLoss: 0.084145\n",
      "2022-01-04 14:24:33,694 fedbiomed INFO - log from: node_d1557b63-00bd-49f8-83e2-ba59f8ef89e6 / INFO - Train Epoch: 1 [200/18000 (1%)]\tLoss: 0.247260\n",
      "2022-01-04 14:25:03,293 fedbiomed INFO - log from: node_15981cb3-39ef-4c54-9e72-2432d023491f / INFO - Train Epoch: 1 [400/16954 (2%)]\tLoss: 0.120646\n",
      "2022-01-04 14:25:03,377 fedbiomed INFO - log from: node_6db91b12-7507-4dd4-b3ea-788da19cc6ed / INFO - Train Epoch: 1 [400/18000 (2%)]\tLoss: 0.198420\n",
      "2022-01-04 14:25:03,694 fedbiomed INFO - log from: node_d1557b63-00bd-49f8-83e2-ba59f8ef89e6 / INFO - Train Epoch: 1 [400/18000 (2%)]\tLoss: 0.137869\n",
      "2022-01-04 14:25:34,049 fedbiomed INFO - log from: node_15981cb3-39ef-4c54-9e72-2432d023491f / INFO - Train Epoch: 1 [600/16954 (4%)]\tLoss: 0.327026\n",
      "2022-01-04 14:25:34,284 fedbiomed INFO - log from: node_6db91b12-7507-4dd4-b3ea-788da19cc6ed / INFO - Train Epoch: 1 [600/18000 (3%)]\tLoss: 0.129640\n",
      "2022-01-04 14:25:35,436 fedbiomed INFO - log from: node_d1557b63-00bd-49f8-83e2-ba59f8ef89e6 / INFO - Train Epoch: 1 [600/18000 (3%)]\tLoss: 0.074400\n",
      "2022-01-04 14:26:11,553 fedbiomed INFO - log from: node_15981cb3-39ef-4c54-9e72-2432d023491f / INFO - Train Epoch: 1 [800/16954 (5%)]\tLoss: 0.160537\n",
      "2022-01-04 14:26:11,643 fedbiomed INFO - log from: node_6db91b12-7507-4dd4-b3ea-788da19cc6ed / INFO - Train Epoch: 1 [800/18000 (4%)]\tLoss: 0.241817\n",
      "2022-01-04 14:26:14,323 fedbiomed INFO - log from: node_d1557b63-00bd-49f8-83e2-ba59f8ef89e6 / INFO - Train Epoch: 1 [800/18000 (4%)]\tLoss: 0.098763\n",
      "2022-01-04 14:26:47,818 fedbiomed INFO - log from: node_15981cb3-39ef-4c54-9e72-2432d023491f / INFO - Train Epoch: 1 [1000/16954 (6%)]\tLoss: 0.171499\n",
      "2022-01-04 14:26:48,199 fedbiomed INFO - log from: node_6db91b12-7507-4dd4-b3ea-788da19cc6ed / INFO - Train Epoch: 1 [1000/18000 (6%)]\tLoss: 0.135398\n",
      "2022-01-04 14:26:51,706 fedbiomed INFO - log from: node_d1557b63-00bd-49f8-83e2-ba59f8ef89e6 / INFO - Train Epoch: 1 [1000/18000 (6%)]\tLoss: 0.085259\n",
      "2022-01-04 14:27:21,334 fedbiomed INFO - log from: node_15981cb3-39ef-4c54-9e72-2432d023491f / INFO - Train Epoch: 1 [1200/16954 (7%)]\tLoss: 0.180919\n",
      "2022-01-04 14:27:21,659 fedbiomed INFO - log from: node_6db91b12-7507-4dd4-b3ea-788da19cc6ed / INFO - Train Epoch: 1 [1200/18000 (7%)]\tLoss: 0.122399\n",
      "2022-01-04 14:27:23,876 fedbiomed INFO - log from: node_d1557b63-00bd-49f8-83e2-ba59f8ef89e6 / INFO - Train Epoch: 1 [1200/18000 (7%)]\tLoss: 0.168716\n",
      "2022-01-04 14:27:55,267 fedbiomed INFO - log from: node_15981cb3-39ef-4c54-9e72-2432d023491f / INFO - Train Epoch: 1 [1400/16954 (8%)]\tLoss: 0.141852\n",
      "2022-01-04 14:27:55,594 fedbiomed INFO - log from: node_6db91b12-7507-4dd4-b3ea-788da19cc6ed / INFO - Train Epoch: 1 [1400/18000 (8%)]\tLoss: 0.080179\n",
      "2022-01-04 14:27:57,912 fedbiomed INFO - log from: node_d1557b63-00bd-49f8-83e2-ba59f8ef89e6 / INFO - Train Epoch: 1 [1400/18000 (8%)]\tLoss: 0.099365\n",
      "2022-01-04 14:28:28,666 fedbiomed INFO - log from: node_15981cb3-39ef-4c54-9e72-2432d023491f / INFO - Train Epoch: 1 [1600/16954 (9%)]\tLoss: 0.174794\n",
      "2022-01-04 14:28:30,745 fedbiomed INFO - log from: node_6db91b12-7507-4dd4-b3ea-788da19cc6ed / INFO - Train Epoch: 1 [1600/18000 (9%)]\tLoss: 0.214338\n",
      "2022-01-04 14:28:34,046 fedbiomed INFO - log from: node_d1557b63-00bd-49f8-83e2-ba59f8ef89e6 / INFO - Train Epoch: 1 [1600/18000 (9%)]\tLoss: 0.212144\n",
      "2022-01-04 14:29:03,213 fedbiomed INFO - log from: node_15981cb3-39ef-4c54-9e72-2432d023491f / INFO - Train Epoch: 1 [1800/16954 (11%)]\tLoss: 0.195074\n",
      "2022-01-04 14:29:04,395 fedbiomed INFO - log from: node_6db91b12-7507-4dd4-b3ea-788da19cc6ed / INFO - Train Epoch: 1 [1800/18000 (10%)]\tLoss: 0.243115\n",
      "2022-01-04 14:29:06,385 fedbiomed INFO - log from: node_d1557b63-00bd-49f8-83e2-ba59f8ef89e6 / INFO - Train Epoch: 1 [1800/18000 (10%)]\tLoss: 0.168968\n",
      "2022-01-04 14:29:35,562 fedbiomed INFO - log from: node_15981cb3-39ef-4c54-9e72-2432d023491f / INFO - Train Epoch: 1 [2000/16954 (12%)]\tLoss: 0.085088\n",
      "2022-01-04 14:29:37,077 fedbiomed INFO - log from: node_6db91b12-7507-4dd4-b3ea-788da19cc6ed / INFO - Train Epoch: 1 [2000/18000 (11%)]\tLoss: 0.351966\n",
      "2022-01-04 14:29:38,798 fedbiomed INFO - log from: node_d1557b63-00bd-49f8-83e2-ba59f8ef89e6 / INFO - Train Epoch: 1 [2000/18000 (11%)]\tLoss: 0.185652\n",
      "2022-01-04 14:30:09,175 fedbiomed INFO - log from: node_15981cb3-39ef-4c54-9e72-2432d023491f / INFO - Train Epoch: 1 [2200/16954 (13%)]\tLoss: 0.341877\n",
      "2022-01-04 14:30:12,218 fedbiomed INFO - log from: node_6db91b12-7507-4dd4-b3ea-788da19cc6ed / INFO - Train Epoch: 1 [2200/18000 (12%)]\tLoss: 0.108082\n",
      "2022-01-04 14:30:13,746 fedbiomed INFO - log from: node_d1557b63-00bd-49f8-83e2-ba59f8ef89e6 / INFO - Train Epoch: 1 [2200/18000 (12%)]\tLoss: 0.179147\n",
      "2022-01-04 14:30:52,575 fedbiomed INFO - log from: node_15981cb3-39ef-4c54-9e72-2432d023491f / INFO - Train Epoch: 1 [2400/16954 (14%)]\tLoss: 0.147463\n",
      "2022-01-04 14:30:56,233 fedbiomed INFO - log from: node_6db91b12-7507-4dd4-b3ea-788da19cc6ed / INFO - Train Epoch: 1 [2400/18000 (13%)]\tLoss: 0.161662\n",
      "2022-01-04 14:30:57,482 fedbiomed INFO - log from: node_d1557b63-00bd-49f8-83e2-ba59f8ef89e6 / INFO - Train Epoch: 1 [2400/18000 (13%)]\tLoss: 0.146839\n",
      "2022-01-04 14:31:43,750 fedbiomed INFO - log from: node_15981cb3-39ef-4c54-9e72-2432d023491f / INFO - Train Epoch: 1 [2600/16954 (15%)]\tLoss: 0.233930\n",
      "2022-01-04 14:31:47,523 fedbiomed INFO - log from: node_6db91b12-7507-4dd4-b3ea-788da19cc6ed / INFO - Train Epoch: 1 [2600/18000 (14%)]\tLoss: 0.079513\n"
     ]
    },
    {
     "name": "stderr",
     "output_type": "stream",
     "text": [
      "2022-01-04 14:31:48,386 fedbiomed INFO - log from: node_d1557b63-00bd-49f8-83e2-ba59f8ef89e6 / INFO - Train Epoch: 1 [2600/18000 (14%)]\tLoss: 0.058584\n",
      "2022-01-04 14:32:27,895 fedbiomed INFO - log from: node_15981cb3-39ef-4c54-9e72-2432d023491f / INFO - Train Epoch: 1 [2800/16954 (17%)]\tLoss: 0.105295\n",
      "2022-01-04 14:32:33,159 fedbiomed INFO - log from: node_6db91b12-7507-4dd4-b3ea-788da19cc6ed / INFO - Train Epoch: 1 [2800/18000 (16%)]\tLoss: 0.363350\n",
      "2022-01-04 14:32:33,752 fedbiomed INFO - log from: node_d1557b63-00bd-49f8-83e2-ba59f8ef89e6 / INFO - Train Epoch: 1 [2800/18000 (16%)]\tLoss: 0.125017\n",
      "2022-01-04 14:33:12,093 fedbiomed INFO - log from: node_15981cb3-39ef-4c54-9e72-2432d023491f / INFO - Train Epoch: 1 [3000/16954 (18%)]\tLoss: 0.051409\n",
      "2022-01-04 14:33:15,964 fedbiomed INFO - log from: node_6db91b12-7507-4dd4-b3ea-788da19cc6ed / INFO - Train Epoch: 1 [3000/18000 (17%)]\tLoss: 0.168204\n",
      "2022-01-04 14:33:16,752 fedbiomed INFO - log from: node_d1557b63-00bd-49f8-83e2-ba59f8ef89e6 / INFO - Train Epoch: 1 [3000/18000 (17%)]\tLoss: 0.037485\n",
      "2022-01-04 14:33:50,571 fedbiomed INFO - log from: node_15981cb3-39ef-4c54-9e72-2432d023491f / INFO - Train Epoch: 1 [3200/16954 (19%)]\tLoss: 0.130879\n",
      "2022-01-04 14:33:54,033 fedbiomed INFO - log from: node_6db91b12-7507-4dd4-b3ea-788da19cc6ed / INFO - Train Epoch: 1 [3200/18000 (18%)]\tLoss: 0.139780\n",
      "2022-01-04 14:33:55,089 fedbiomed INFO - log from: node_d1557b63-00bd-49f8-83e2-ba59f8ef89e6 / INFO - Train Epoch: 1 [3200/18000 (18%)]\tLoss: 0.129253\n",
      "2022-01-04 14:34:37,858 fedbiomed INFO - log from: node_15981cb3-39ef-4c54-9e72-2432d023491f / INFO - Train Epoch: 1 [3400/16954 (20%)]\tLoss: 0.155839\n",
      "2022-01-04 14:34:42,030 fedbiomed INFO - log from: node_6db91b12-7507-4dd4-b3ea-788da19cc6ed / INFO - Train Epoch: 1 [3400/18000 (19%)]\tLoss: 0.294522\n",
      "2022-01-04 14:34:43,352 fedbiomed INFO - log from: node_d1557b63-00bd-49f8-83e2-ba59f8ef89e6 / INFO - Train Epoch: 1 [3400/18000 (19%)]\tLoss: 0.193342\n",
      "2022-01-04 14:35:16,988 fedbiomed INFO - log from: node_15981cb3-39ef-4c54-9e72-2432d023491f / INFO - Train Epoch: 1 [3600/16954 (21%)]\tLoss: 0.197351\n",
      "2022-01-04 14:35:20,815 fedbiomed INFO - log from: node_6db91b12-7507-4dd4-b3ea-788da19cc6ed / INFO - Train Epoch: 1 [3600/18000 (20%)]\tLoss: 0.312057\n",
      "2022-01-04 14:35:22,636 fedbiomed INFO - log from: node_d1557b63-00bd-49f8-83e2-ba59f8ef89e6 / INFO - Train Epoch: 1 [3600/18000 (20%)]\tLoss: 0.156673\n",
      "2022-01-04 14:35:57,162 fedbiomed INFO - log from: node_15981cb3-39ef-4c54-9e72-2432d023491f / INFO - Train Epoch: 1 [3800/16954 (22%)]\tLoss: 0.073766\n",
      "2022-01-04 14:36:00,756 fedbiomed INFO - log from: node_6db91b12-7507-4dd4-b3ea-788da19cc6ed / INFO - Train Epoch: 1 [3800/18000 (21%)]\tLoss: 0.071787\n",
      "2022-01-04 14:36:03,244 fedbiomed INFO - log from: node_d1557b63-00bd-49f8-83e2-ba59f8ef89e6 / INFO - Train Epoch: 1 [3800/18000 (21%)]\tLoss: 0.058019\n",
      "2022-01-04 14:36:34,877 fedbiomed INFO - log from: node_15981cb3-39ef-4c54-9e72-2432d023491f / INFO - Train Epoch: 1 [4000/16954 (24%)]\tLoss: 0.226080\n",
      "2022-01-04 14:36:40,626 fedbiomed INFO - log from: node_6db91b12-7507-4dd4-b3ea-788da19cc6ed / INFO - Train Epoch: 1 [4000/18000 (22%)]\tLoss: 0.135463\n",
      "2022-01-04 14:36:43,626 fedbiomed INFO - log from: node_d1557b63-00bd-49f8-83e2-ba59f8ef89e6 / INFO - Train Epoch: 1 [4000/18000 (22%)]\tLoss: 0.156351\n",
      "2022-01-04 14:37:11,929 fedbiomed INFO - log from: node_15981cb3-39ef-4c54-9e72-2432d023491f / INFO - Train Epoch: 1 [4200/16954 (25%)]\tLoss: 0.266124\n",
      "2022-01-04 14:37:15,750 fedbiomed INFO - log from: node_6db91b12-7507-4dd4-b3ea-788da19cc6ed / INFO - Train Epoch: 1 [4200/18000 (23%)]\tLoss: 0.167729\n",
      "2022-01-04 14:37:18,324 fedbiomed INFO - log from: node_d1557b63-00bd-49f8-83e2-ba59f8ef89e6 / INFO - Train Epoch: 1 [4200/18000 (23%)]\tLoss: 0.158914\n",
      "2022-01-04 14:37:53,200 fedbiomed INFO - log from: node_15981cb3-39ef-4c54-9e72-2432d023491f / INFO - Train Epoch: 1 [4400/16954 (26%)]\tLoss: 0.107086\n",
      "2022-01-04 14:37:56,870 fedbiomed INFO - log from: node_6db91b12-7507-4dd4-b3ea-788da19cc6ed / INFO - Train Epoch: 1 [4400/18000 (24%)]\tLoss: 0.209661\n",
      "2022-01-04 14:38:00,166 fedbiomed INFO - log from: node_d1557b63-00bd-49f8-83e2-ba59f8ef89e6 / INFO - Train Epoch: 1 [4400/18000 (24%)]\tLoss: 0.079704\n",
      "2022-01-04 14:38:31,033 fedbiomed INFO - log from: node_15981cb3-39ef-4c54-9e72-2432d023491f / INFO - Train Epoch: 1 [4600/16954 (27%)]\tLoss: 0.085651\n",
      "2022-01-04 14:38:36,946 fedbiomed INFO - log from: node_6db91b12-7507-4dd4-b3ea-788da19cc6ed / INFO - Train Epoch: 1 [4600/18000 (26%)]\tLoss: 0.325236\n",
      "2022-01-04 14:38:41,457 fedbiomed INFO - log from: node_d1557b63-00bd-49f8-83e2-ba59f8ef89e6 / INFO - Train Epoch: 1 [4600/18000 (26%)]\tLoss: 0.049531\n",
      "2022-01-04 14:39:13,834 fedbiomed INFO - log from: node_15981cb3-39ef-4c54-9e72-2432d023491f / INFO - Train Epoch: 1 [4800/16954 (28%)]\tLoss: 0.033728\n",
      "2022-01-04 14:39:17,759 fedbiomed INFO - log from: node_6db91b12-7507-4dd4-b3ea-788da19cc6ed / INFO - Train Epoch: 1 [4800/18000 (27%)]\tLoss: 0.068789\n",
      "2022-01-04 14:39:21,387 fedbiomed INFO - log from: node_d1557b63-00bd-49f8-83e2-ba59f8ef89e6 / INFO - Train Epoch: 1 [4800/18000 (27%)]\tLoss: 0.092964\n",
      "2022-01-04 14:39:51,349 fedbiomed INFO - log from: node_15981cb3-39ef-4c54-9e72-2432d023491f / DEBUG - Reached 250 batches for this epoch, ignore remaining data\n",
      "2022-01-04 14:39:55,267 fedbiomed INFO - log from: node_6db91b12-7507-4dd4-b3ea-788da19cc6ed / DEBUG - Reached 250 batches for this epoch, ignore remaining data\n",
      "2022-01-04 14:39:59,718 fedbiomed INFO - log from: node_d1557b63-00bd-49f8-83e2-ba59f8ef89e6 / DEBUG - Reached 250 batches for this epoch, ignore remaining data\n",
      "2022-01-04 14:40:04,071 fedbiomed INFO - log from: node_15981cb3-39ef-4c54-9e72-2432d023491f / INFO - results uploaded successfully \n",
      "2022-01-04 14:40:10,130 fedbiomed INFO - Downloading model params after training on node_15981cb3-39ef-4c54-9e72-2432d023491f - from http://localhost:8844/media/uploads/2022/01/04/node_params_ec33c915-5523-4e74-9d95-b5e2c7006b0c.pt\n",
      "2022-01-04 14:40:13,872 fedbiomed INFO - log from: node_6db91b12-7507-4dd4-b3ea-788da19cc6ed / INFO - results uploaded successfully \n",
      "2022-01-04 14:40:15,350 fedbiomed INFO - log from: node_d1557b63-00bd-49f8-83e2-ba59f8ef89e6 / INFO - results uploaded successfully \n",
      "2022-01-04 14:40:23,763 fedbiomed INFO - Downloading model params after training on node_6db91b12-7507-4dd4-b3ea-788da19cc6ed - from http://localhost:8844/media/uploads/2022/01/04/node_params_949b5b89-4305-4532-ab7c-4f5e1f45542b.pt\n",
      "2022-01-04 14:40:25,369 fedbiomed INFO - Downloading model params after training on node_d1557b63-00bd-49f8-83e2-ba59f8ef89e6 - from http://localhost:8844/media/uploads/2022/01/04/node_params_4475aa44-8c99-4c77-b6f2-ce37c9536e6c.pt\n",
      "2022-01-04 14:40:27,152 fedbiomed INFO - Nodes that successfully reply in round 2 ['node_15981cb3-39ef-4c54-9e72-2432d023491f', 'node_6db91b12-7507-4dd4-b3ea-788da19cc6ed', 'node_d1557b63-00bd-49f8-83e2-ba59f8ef89e6']\n"
     ]
    }
   ],
   "source": [
    "exp.run()"
   ]
  },
  {
   "cell_type": "markdown",
   "metadata": {
    "pycharm": {
     "name": "#%% md\n"
    }
   },
   "source": [
    "## Testing\n"
   ]
  },
  {
   "cell_type": "markdown",
   "metadata": {},
   "source": [
    "Once the federated model is obtained, it is possible to test it locally on an independent testing partition.\n",
    "The test dataset is available at this link:\n",
    "\n",
    "https://drive.google.com/file/d/1YbwA0WitMoucoIa_Qao7IC1haPfDp-XD/"
   ]
  },
  {
   "cell_type": "code",
   "execution_count": 9,
   "metadata": {
    "pycharm": {
     "name": "#%% md\n"
    }
   },
   "outputs": [
    {
     "name": "stdout",
     "output_type": "stream",
     "text": [
      "MONAI version: 0.8.0\n",
      "Numpy version: 1.21.2\n",
      "Pytorch version: 1.8.1\n",
      "MONAI flags: HAS_EXT = False, USE_COMPILED = False\n",
      "MONAI rev id: 714d00dffe6653e21260160666c4c201ab66511b\n",
      "\n",
      "Optional dependencies:\n",
      "Pytorch Ignite version: NOT INSTALLED or UNKNOWN VERSION.\n",
      "Nibabel version: NOT INSTALLED or UNKNOWN VERSION.\n",
      "scikit-image version: NOT INSTALLED or UNKNOWN VERSION.\n",
      "Pillow version: 8.2.0\n",
      "Tensorboard version: 2.7.0\n",
      "gdown version: 4.2.0\n",
      "TorchVision version: 0.9.1\n",
      "tqdm version: 4.62.3\n",
      "lmdb version: NOT INSTALLED or UNKNOWN VERSION.\n",
      "psutil version: NOT INSTALLED or UNKNOWN VERSION.\n",
      "pandas version: 1.3.5\n",
      "einops version: NOT INSTALLED or UNKNOWN VERSION.\n",
      "transformers version: NOT INSTALLED or UNKNOWN VERSION.\n",
      "mlflow version: NOT INSTALLED or UNKNOWN VERSION.\n",
      "\n",
      "For details about installing the optional dependencies, please visit:\n",
      "    https://docs.monai.io/en/latest/installation.html#installing-the-recommended-dependencies\n",
      "\n"
     ]
    }
   ],
   "source": [
    "import os\n",
    "import shutil\n",
    "import tempfile\n",
    "import PIL\n",
    "import torch\n",
    "import numpy as np\n",
    "from sklearn.metrics import classification_report\n",
    "\n",
    "from monai.config import print_config\n",
    "from monai.data import decollate_batch\n",
    "from monai.metrics import ROCAUCMetric\n",
    "from monai.networks.nets import DenseNet121\n",
    "import zipfile\n",
    "from monai.transforms import (\n",
    "    Activations,\n",
    "    AddChannel,\n",
    "    AsDiscrete,\n",
    "    Compose,\n",
    "    LoadImage,\n",
    "    RandFlip,\n",
    "    RandRotate,\n",
    "    RandZoom,\n",
    "    ScaleIntensity,\n",
    "    EnsureType,\n",
    ")\n",
    "from monai.utils import set_determinism\n",
    "\n",
    "print_config()"
   ]
  },
  {
   "cell_type": "markdown",
   "metadata": {},
   "source": [
    "Download the testing dataset on the local temporary folder."
   ]
  },
  {
   "cell_type": "code",
   "execution_count": 11,
   "metadata": {},
   "outputs": [
    {
     "name": "stderr",
     "output_type": "stream",
     "text": [
      "Downloading...\n",
      "From: https://drive.google.com/uc?id=1YbwA0WitMoucoIa_Qao7IC1haPfDp-XD\n",
      "To: /Users/balelli/ownCloud/INRIA_EPIONE/FedBioMed/fedbiomed/var/tmp/tmp8u4dn2cz/MedNIST_testing.zip\n",
      "100%|██████████| 9.50M/9.50M [00:09<00:00, 1.02MB/s]\n"
     ]
    },
    {
     "name": "stdout",
     "output_type": "stream",
     "text": [
      "/Users/balelli/ownCloud/INRIA_EPIONE/FedBioMed/fedbiomed/var/tmp/tmp8u4dn2cz/MedNIST_testing\n"
     ]
    }
   ],
   "source": [
    "import gdown\n",
    "import zipfile\n",
    "resource = \"https://drive.google.com/uc?id=1YbwA0WitMoucoIa_Qao7IC1haPfDp-XD\"\n",
    "base_dir = tmp_dir_model.name \n",
    "\n",
    "test_file = os.path.join(base_dir, \"MedNIST_testing.zip\")\n",
    "\n",
    "gdown.download(resource, test_file, quiet=False)\n",
    "\n",
    "zf = zipfile.ZipFile(test_file)\n",
    "\n",
    "for file in zf.infolist():\n",
    "    zf.extract(file, base_dir)\n",
    "data_dir = os.path.join(base_dir, \"MedNIST_testing\")\n",
    "print(data_dir)"
   ]
  },
  {
   "cell_type": "markdown",
   "metadata": {},
   "source": [
    "Parse the data and create the testing data loader:"
   ]
  },
  {
   "cell_type": "code",
   "execution_count": 12,
   "metadata": {},
   "outputs": [
    {
     "name": "stdout",
     "output_type": "stream",
     "text": [
      "Total image count: 6000\n",
      "Image dimensions: 64 x 64\n",
      "Label names: ['AbdomenCT', 'BreastMRI', 'CXR', 'ChestCT', 'Hand', 'HeadCT']\n",
      "Label counts: [1000, 1000, 1000, 1000, 1000, 1000]\n"
     ]
    }
   ],
   "source": [
    "class_names = sorted(x for x in os.listdir(data_dir)\n",
    "                     if os.path.isdir(os.path.join(data_dir, x)))\n",
    "num_class = len(class_names)\n",
    "image_files = [\n",
    "    [\n",
    "        os.path.join(data_dir, class_names[i], x)\n",
    "        for x in os.listdir(os.path.join(data_dir, class_names[i]))\n",
    "    ]\n",
    "    for i in range(num_class)\n",
    "]\n",
    "\n",
    "num_each = [len(image_files[i]) for i in range(num_class)]\n",
    "image_files_list = []\n",
    "\n",
    "image_class = []\n",
    "for i in range(num_class):\n",
    "    image_files_list.extend(image_files[i])\n",
    "    image_class.extend([i] * num_each[i])\n",
    "num_total = len(image_class)\n",
    "image_width, image_height = PIL.Image.open(image_files_list[0]).size\n",
    "\n",
    "print(f\"Total image count: {num_total}\")\n",
    "print(f\"Image dimensions: {image_width} x {image_height}\")\n",
    "print(f\"Label names: {class_names}\")\n",
    "print(f\"Label counts: {num_each}\")"
   ]
  },
  {
   "cell_type": "code",
   "execution_count": 13,
   "metadata": {},
   "outputs": [],
   "source": [
    "length = len(image_files_list)\n",
    "indices = np.arange(length)\n",
    "np.random.shuffle(indices)\n",
    "\n",
    "\n",
    "test_split = int(0.1 * length)\n",
    "test_indices = indices[:test_split]\n",
    "\n",
    "test_x = [image_files_list[i] for i in test_indices]\n",
    "test_y = [image_class[i] for i in test_indices]\n",
    "\n",
    "val_transforms = Compose(\n",
    "    [LoadImage(image_only=True), AddChannel(), ScaleIntensity(), EnsureType()])\n",
    "\n",
    "y_pred_trans = Compose([EnsureType(), Activations(softmax=True)])\n",
    "y_trans = Compose([EnsureType(), AsDiscrete(to_onehot=num_class)])"
   ]
  },
  {
   "cell_type": "code",
   "execution_count": 14,
   "metadata": {},
   "outputs": [],
   "source": [
    "class MedNISTDataset(torch.utils.data.Dataset):\n",
    "    def __init__(self, image_files, labels, transforms):\n",
    "        self.image_files = image_files\n",
    "        self.labels = labels\n",
    "        self.transforms = transforms\n",
    "\n",
    "    def __len__(self):\n",
    "        return len(self.image_files)\n",
    "\n",
    "    def __getitem__(self, index):\n",
    "        return self.transforms(self.image_files[index]), self.labels[index]\n",
    "\n",
    "\n",
    "test_ds = MedNISTDataset(test_x, test_y, val_transforms)\n",
    "test_loader = torch.utils.data.DataLoader(\n",
    "    test_ds, batch_size=300)"
   ]
  },
  {
   "cell_type": "markdown",
   "metadata": {},
   "source": [
    "Define testing metric:"
   ]
  },
  {
   "cell_type": "code",
   "execution_count": 15,
   "metadata": {},
   "outputs": [],
   "source": [
    "auc_metric = ROCAUCMetric()"
   ]
  },
  {
   "cell_type": "markdown",
   "metadata": {},
   "source": [
    "To test the federated model we need to create a model instance and assign to it the model parameters estimated at the last federated optimization round."
   ]
  },
  {
   "cell_type": "code",
   "execution_count": 16,
   "metadata": {},
   "outputs": [
    {
     "data": {
      "text/plain": [
       "<All keys matched successfully>"
      ]
     },
     "execution_count": 16,
     "metadata": {},
     "output_type": "execute_result"
    }
   ],
   "source": [
    "model = exp.model_instance\n",
    "model.load_state_dict(exp.aggregated_params[rounds - 1]['params'])"
   ]
  },
  {
   "cell_type": "markdown",
   "metadata": {},
   "source": [
    "Compute the testing performance:"
   ]
  },
  {
   "cell_type": "code",
   "execution_count": 17,
   "metadata": {},
   "outputs": [],
   "source": [
    "device = torch.device(\"cuda\" if torch.cuda.is_available() else \"cpu\")\n",
    "\n",
    "y_true = []\n",
    "y_pred = []\n",
    "with torch.no_grad():\n",
    "    for test_data in test_loader:\n",
    "        test_images, test_labels = (\n",
    "            test_data[0].to(device),\n",
    "            test_data[1].to(device),\n",
    "        )\n",
    "        pred = model(test_images).argmax(dim=1)\n",
    "        for i in range(len(pred)):\n",
    "            y_true.append(test_labels[i].item())\n",
    "            y_pred.append(pred[i].item())\n"
   ]
  },
  {
   "cell_type": "code",
   "execution_count": 18,
   "metadata": {},
   "outputs": [
    {
     "name": "stdout",
     "output_type": "stream",
     "text": [
      "              precision    recall  f1-score   support\n",
      "\n",
      "   AbdomenCT     0.9619    1.0000    0.9806       101\n",
      "   BreastMRI     1.0000    0.9817    0.9907       109\n",
      "         CXR     0.9895    0.9895    0.9895        95\n",
      "     ChestCT     0.9811    1.0000    0.9905       104\n",
      "        Hand     0.9875    0.9875    0.9875        80\n",
      "      HeadCT     1.0000    0.9640    0.9817       111\n",
      "\n",
      "    accuracy                         0.9867       600\n",
      "   macro avg     0.9867    0.9871    0.9867       600\n",
      "weighted avg     0.9870    0.9867    0.9867       600\n",
      "\n"
     ]
    }
   ],
   "source": [
    "print(classification_report(\n",
    "    y_true, y_pred, target_names=class_names, digits=4))"
   ]
  },
  {
   "cell_type": "markdown",
   "metadata": {},
   "source": [
    "In spite of the relatively small training performed on the data shared in the 3 nodes, the performance of the federated model seems pretty good. Well done! "
   ]
  }
 ],
 "metadata": {
  "kernelspec": {
   "display_name": "Python 3",
   "language": "python",
   "name": "python3"
  },
  "language_info": {
   "codemirror_mode": {
    "name": "ipython",
    "version": 3
   },
   "file_extension": ".py",
   "mimetype": "text/x-python",
   "name": "python",
   "nbconvert_exporter": "python",
   "pygments_lexer": "ipython3",
   "version": "3.9.5"
  }
 },
 "nbformat": 4,
 "nbformat_minor": 4
}

{
 "cells": [
  {
   "cell_type": "markdown",
   "metadata": {},
   "source": [
    "# Data Preprocessing : Download Used Cars Dataset \n",
    "https://www.kaggle.com/adityadesai13/used-car-dataset-ford-and-mercedes"
   ]
  },
  {
   "cell_type": "code",
   "execution_count": null,
   "metadata": {},
   "outputs": [],
   "source": [
    "# change here with the directory where you downloaded the dataset\n",
    "data_dir = './data'"
   ]
  },
  {
   "cell_type": "code",
   "execution_count": null,
   "metadata": {},
   "outputs": [],
   "source": [
    "import pandas as pd"
   ]
  },
  {
   "cell_type": "markdown",
   "metadata": {},
   "source": [
    "# Dataset Details\n",
    "The data consists of used cars listings. 100,000 listings, which have been separated into files corresponding to each car manufacturer. Each file will simulate data for each node.\n",
    "\n",
    "# Goal\n",
    "\n",
    "The goal of this tutorial is to build a federated regression model on Non-IID dataset and generate the best model by performing validation on hold out dataset and tuning hyperparameters.The metric used to decide best model is RMSE."
   ]
  },
  {
   "cell_type": "code",
   "execution_count": null,
   "metadata": {},
   "outputs": [],
   "source": [
    "import os\n",
    "\n",
    "# Use audi and bmw for training on 2 nodes\n",
    "audi = pd.read_csv(os.path.join(data_dir, \"audi.csv\"))\n",
    "bmw = pd.read_csv(os.path.join(data_dir, \"bmw.csv\"))\n",
    "\n",
    "# Use Ford for final validation at central researcher (test dataset)\n",
    "ford = pd.read_csv(os.path.join(data_dir, \"ford.csv\"))\n",
    "\n",
    "# Use the following csvs if you want to run more than 2 nodes. Uncomment Corresponding lines in the following cell blocks\n",
    "# cclass = pd.read_csv(os.path.join(data_dir, \"cclass.csv\"))\n",
    "# focus = pd.read_csv(os.path.join(data_dir, \"focus.csv\"))\n",
    "# hyundai = pd.read_csv(os.path.join(\"data_dir, \"huyndai.csv\"))\n",
    "# merc = pd.read_csv(os.path.join(data_dir, \"merc.csv\"))\n",
    "# skoda = pd.read_csv(os.path.join(data_dir, \"skoda.csv\"))\n",
    "# toyota = pd.read_csv(os.path.join(data_dir, \"toyota.csv\"))\n",
    "# vauxhall = pd.read_csv(os.path.join(data_dir, \"vauxhall.csv\"))\n",
    "# vw = pd.read_csv(os.path.join(data_dir, \"vw.csv\"))"
   ]
  },
  {
   "cell_type": "markdown",
   "metadata": {},
   "source": [
    "Drop columns model & fuelType as labels are not consistent across files. A better solution could be vertical federated learning"
   ]
  },
  {
   "cell_type": "code",
   "execution_count": null,
   "metadata": {},
   "outputs": [],
   "source": [
    "audi.drop(columns = ['model','fuelType'],inplace = True)\n",
    "bmw.drop(columns = ['model','fuelType'],inplace = True)\n",
    "ford.drop(columns = ['model','fuelType'],inplace = True)\n",
    "\n",
    "# cclass.drop(columns = ['model','fuelType'],inplace = True)\n",
    "# focus.drop(columns = ['model','fuelType'],inplace = True)\n",
    "# hyundai.drop(columns = ['model','fuelType'],inplace = True)\n",
    "# merc.drop(columns = ['model','fuelType'],inplace = True)\n",
    "# skoda.drop(columns = ['model','fuelType'],inplace = True)\n",
    "# toyata.drop(columns = ['model','fuelType'],inplace = True)\n",
    "# vauxhall.drop(columns = ['model','fuelType'],inplace = True)\n",
    "# vw.drop(columns = ['model','fuelType'],inplace = True)"
   ]
  },
  {
   "cell_type": "markdown",
   "metadata": {},
   "source": [
    "Label encode transmission column"
   ]
  },
  {
   "cell_type": "code",
   "execution_count": null,
   "metadata": {},
   "outputs": [],
   "source": [
    "audi['transmission'] = audi['transmission'].map({'Automatic':0,'Manual':1,'Semi-Auto':2,'Other':3})\n",
    "bmw['transmission'] = bmw['transmission'].map({'Automatic':0,'Manual':1,'Semi-Auto':2,'Other':3})\n",
    "ford['transmission'] = ford['transmission'].map({'Automatic':0,'Manual':1,'Semi-Auto':2,'Other':3})\n",
    "\n",
    "# cclass['transmission'] = cclass['transmission'].map({'Automatic':0,'Manual':1,'Semi-Auto':2,'Other':3})\n",
    "# focus['transmission'] = focus['transmission'].map({'Automatic':0,'Manual':1,'Semi-Auto':2,'Other':3})\n",
    "# hyundai['transmission'] = hyundai['transmission'].map({'Automatic':0,'Manual':1,'Semi-Auto':2,'Other':3})\n",
    "# merc['transmission'] = merc['transmission'].map({'Automatic':0,'Manual':1,'Semi-Auto':2,'Other':3})\n",
    "# skoda['transmission'] = skoda['transmission'].map({'Automatic':0,'Manual':1,'Semi-Auto':2,'Other':3})\n",
    "# toyata['transmission'] = toyata['transmission'].map({'Automatic':0,'Manual':1,'Semi-Auto':2,'Other':3})\n",
    "# vauxhall['transmission'] = vauxhall['transmission'].map({'Automatic':0,'Manual':1,'Semi-Auto':2,'Other':3})\n",
    "# vw['transmission'] = vw['transmission'].map({'Automatic':0,'Manual':1,'Semi-Auto':2,'Other':3})"
   ]
  },
  {
   "cell_type": "code",
   "execution_count": null,
   "metadata": {},
   "outputs": [],
   "source": [
    "audi.to_csv(os.path.join(data_dir, 'audi_transformed.csv'),header = True,index= False)\n",
    "bmw.to_csv(os.path.join(data_dir, 'bmw_transformed.csv'),header = True,index= False)\n",
    "ford.to_csv(os.path.join(data_dir, 'ford_transformed.csv'),header = True,index= False)\n",
    "\n",
    "# cclass.to_csv('cclass_transformed.csv',header = True,index= False)\n",
    "# focus.to_csv('focus_transformed.csv',header = True,index= False)\n",
    "# hyundai.to_csv('huydai_transformed.csv',header = True,index= False)\n",
    "# merc.to_csv('merc_transformed.csv',header = True,index= False)\n",
    "# skoda.to_csv('skoda_transformed.csv',header = True,index= False)\n",
    "# toyata.to_csv('toyata_transformed.csv',header = True,index= False)\n",
    "# vauxhall.to_csv('vaxhall_transformed.csv',header = True,index= False)\n",
    "# vw.to_csv('vw_transformed.csv',header = True,index= False)"
   ]
  },
  {
   "cell_type": "markdown",
   "metadata": {},
   "source": [
    "# Fedbiomed Researcher to train a model on a Used Cars dataset"
   ]
  },
  {
   "cell_type": "markdown",
   "metadata": {},
   "source": [
    "Use for developing (autoreloads changes made across packages)"
   ]
  },
  {
   "cell_type": "code",
   "execution_count": null,
   "metadata": {},
   "outputs": [],
   "source": [
    "%load_ext autoreload\n",
    "%autoreload 2"
   ]
  },
  {
   "cell_type": "markdown",
   "metadata": {},
   "source": [
    "## Start the network\n",
    "Before running this notebook, start the network with `./scripts/fedbiomed_run network`"
   ]
  },
  {
   "cell_type": "markdown",
   "metadata": {},
   "source": [
    "## Setting the nodes up\n",
    "It is necessary to previously configure 2 nodes:\n",
    "1. `./scripts/fedbiomed_run node config config1.ini add` (node1) and `./scripts/fedbiomed_run node config config2.ini add` (node2)\n",
    "  * Select option 1 to add a csv file to the node\n",
    "    * use the `audi_transformed.csv` file (node 1) and `bmw_transformed.csv` file (node 2)\n",
    "  * Choose the name, tags and description of the dataset\n",
    "    * choose tag `UsedCars` (or modify the used tag in this notebook)\n",
    "  * Spin as many nodes as you want(max nodes 11 for 11 csv files in used cars dataset). Hold out one file for testing.\n",
    "  * Load the .csv file generated using above mentioned notebook to individual nodes\n",
    "2. Check that your data has been added by executing `./scripts/fedbiomed_run node config config1.ini list` (node1) and `./scripts/fedbiomed_run node config config2.ini list` (node2)\n",
    "3. Run the node using `./scripts/fedbiomed_run node config config1.ini start` (node1) and `./scripts/fedbiomed_run node config config2.ini start` (node2). Wait until you get `Starting task manager`. it means you are online."
   ]
  },
  {
   "cell_type": "markdown",
   "metadata": {},
   "source": [
    "## Create an experiment to train a model on the data found"
   ]
  },
  {
   "cell_type": "markdown",
   "metadata": {},
   "source": [
    "Declare a torch.nn MyTrainingPlan class to send for training on the node"
   ]
  },
  {
   "cell_type": "code",
   "execution_count": 6,
   "metadata": {},
   "outputs": [],
   "source": [
    "import pandas as pd\n",
    "import torch\n",
    "import torch.nn as nn\n",
    "import torch.nn.functional as F\n",
    "\n",
    "from torch.utils.data import Dataset\n",
    "from fedbiomed.common.training_plans import TorchTrainingPlan\n",
    "from fedbiomed.common.data import DataManager \n",
    "\n",
    "\n",
    "# Here we define the model to be used. \n",
    "# You can use any class name (here 'MyTrainingPlan')\n",
    "class MyTrainingPlan(TorchTrainingPlan):\n",
    "    def __init__(self, model_args: dict = {}):\n",
    "        super(MyTrainingPlan, self).__init__(model_args)\n",
    "        # should match the model arguments passed below to the experiment class\n",
    "        self.in_features = model_args['in_features']\n",
    "        self.out_features = model_args['out_features']\n",
    "        self.fc1 = nn.Linear(self.in_features, 5)\n",
    "        self.fc2 = nn.Linear(5, self.out_features)\n",
    "        \n",
    "        # Here we define the custom dependencies that will be needed by our custom Dataloader\n",
    "        # In this case, we need the torch Dataset and DataLoader classes\n",
    "        # We need pandas to read the local .csv file at the node side\n",
    "        deps = [\"from torch.utils.data import Dataset, DataLoader\",\n",
    "                \"import pandas as pd\"]\n",
    "        self.add_dependency(deps)\n",
    "\n",
    "    def forward(self, x):\n",
    "        x = self.fc1(x)\n",
    "        x = F.relu(x)\n",
    "        x = self.fc2(x)\n",
    "        return x\n",
    "\n",
    "    def training_step(self, data, target):\n",
    "        output = self.forward(data).float()\n",
    "        criterion = torch.nn.MSELoss()\n",
    "        loss   = torch.sqrt(criterion(output, target.unsqueeze(1)))\n",
    "        return loss\n",
    "\n",
    "    class csv_Dataset(Dataset):\n",
    "    # Here we define a custom Dataset class inherited from the general torch Dataset class\n",
    "    # This class takes as argument a .csv file path and creates a torch Dataset \n",
    "        def __init__(self, dataset_path, x_dim):\n",
    "            self.input_file = pd.read_csv(dataset_path,sep=',',index_col=False)\n",
    "            x_train = self.input_file.loc[:,('year','transmission','mileage','tax','mpg','engineSize')].values\n",
    "            y_train = self.input_file.loc[:,'price'].values\n",
    "            self.X_train = torch.from_numpy(x_train).float()\n",
    "            self.Y_train = torch.from_numpy(y_train).float()\n",
    "\n",
    "        def __len__(self):            \n",
    "            return len(self.Y_train)\n",
    "\n",
    "        def __getitem__(self, idx):\n",
    "\n",
    "            return (self.X_train[idx], self.Y_train[idx])\n",
    "        \n",
    "    def training_data(self,  batch_size = 48):\n",
    "    # The training_data creates the Dataloader to be used for training in the general class TorchTrainingPlan of fedbiomed\n",
    "        dataset = self.csv_Dataset(self.dataset_path, self.in_features)\n",
    "        train_kwargs = {'batch_size': batch_size, 'shuffle': True}\n",
    "        data_manager = DataManager(dataset=dataset , **train_kwargs)\n",
    "        return data_manager\n",
    "    \n",
    "    "
   ]
  },
  {
   "cell_type": "code",
   "execution_count": 7,
   "metadata": {
    "pycharm": {
     "name": "#%%\n"
    }
   },
   "outputs": [],
   "source": [
    "# model parameters \n",
    "model_args = {\n",
    "    'in_features': 6, \n",
    "    'out_features': 1\n",
    "}\n",
    "\n",
    "# training parameters \n",
    "training_args = {\n",
    "    'batch_size': 40, \n",
    "    'lr': 1e-3, \n",
    "    'epochs': 2, \n",
    "    'dry_run': False,  \n",
    "    #'batch_maxnum': 100 # Fast pass for development : only use ( batch_maxnum * batch_size ) samples\n",
    "}"
   ]
  },
  {
   "cell_type": "markdown",
   "metadata": {},
   "source": [
    "Define an experiment\n",
    "- search nodes serving data for these `tags`, optionally filter on a list of node ID with `nodes`\n",
    "- run a round of local training on nodes with model defined in `model_path` + federation with `aggregator`\n",
    "- run for `round_limit` rounds, applying the `node_selection_strategy` between the rounds"
   ]
  },
  {
   "cell_type": "code",
   "execution_count": 8,
   "metadata": {
    "pycharm": {
     "name": "#%%\n"
    },
    "scrolled": true
   },
   "outputs": [
    {
     "name": "stderr",
     "output_type": "stream",
     "text": [
      "2022-03-08 13:31:23,067 fedbiomed INFO - Searching dataset with data tags: ['UsedCars'] for all nodes\n",
      "2022-03-08 13:31:23,073 fedbiomed INFO - log from: node_bd90cc6f-67c4-4f81-aaa5-588c9c26c6e0 / DEBUG - Message received: {'researcher_id': 'researcher_420cfc13-37cb-447c-af20-f7ac5cb2b6ab', 'tags': ['UsedCars'], 'command': 'search'}\n",
      "2022-03-08 13:31:33,109 fedbiomed INFO - Node selected for training -> node_bd90cc6f-67c4-4f81-aaa5-588c9c26c6e0\n",
      "2022-03-08 13:31:33,144 fedbiomed DEBUG - Model file has been saved: /home/scansiz/Desktop/Inria/development/fedbiomed/var/experiments/Experiment_0080/my_model_b29b3ca2-e574-489b-9723-2c36546be344.py\n",
      "2022-03-08 13:31:33,188 fedbiomed DEBUG - upload (HTTP POST request) of file /home/scansiz/Desktop/Inria/development/fedbiomed/var/experiments/Experiment_0080/my_model_b29b3ca2-e574-489b-9723-2c36546be344.py successful, with status code 201\n",
      "2022-03-08 13:31:33,221 fedbiomed DEBUG - upload (HTTP POST request) of file /home/scansiz/Desktop/Inria/development/fedbiomed/var/experiments/Experiment_0080/aggregated_params_init_9335614a-d2e5-4feb-9710-2f0c5ea861ce.pt successful, with status code 201\n"
     ]
    }
   ],
   "source": [
    "from fedbiomed.researcher.experiment import Experiment\n",
    "from fedbiomed.researcher.aggregators.fedavg import FedAverage\n",
    "\n",
    "# Calling the training data with specified tags. Change the following tag accordingly\n",
    "tags =  ['UsedCars']\n",
    "rounds = 3\n",
    "\n",
    "exp = Experiment(tags=tags,\n",
    "                 model_class=MyTrainingPlan,\n",
    "                 model_args=model_args,\n",
    "                 training_args=training_args,\n",
    "                 round_limit=rounds,\n",
    "                 aggregator=FedAverage(),\n",
    "                 node_selection_strategy=None)"
   ]
  },
  {
   "cell_type": "markdown",
   "metadata": {
    "pycharm": {
     "name": "#%% md\n"
    }
   },
   "source": [
    "Let's start the experiment.\n",
    "\n",
    "By default, this function doesn't stop until all the `round_limit` rounds are done for all the nodes"
   ]
  },
  {
   "cell_type": "code",
   "execution_count": 9,
   "metadata": {
    "pycharm": {
     "name": "#%%\n"
    },
    "scrolled": false
   },
   "outputs": [
    {
     "name": "stderr",
     "output_type": "stream",
     "text": [
      "2022-03-08 13:31:33,228 fedbiomed INFO - Sampled nodes in round 0 ['node_bd90cc6f-67c4-4f81-aaa5-588c9c26c6e0']\n",
      "2022-03-08 13:31:33,230 fedbiomed INFO - Send message to node node_bd90cc6f-67c4-4f81-aaa5-588c9c26c6e0 - {'researcher_id': 'researcher_420cfc13-37cb-447c-af20-f7ac5cb2b6ab', 'job_id': 'eea9cb40-2008-4dea-95cf-8b3fc8058361', 'training_args': {'batch_size': 40, 'lr': 0.001, 'epochs': 2, 'dry_run': False}, 'model_args': {'in_features': 6, 'out_features': 1}, 'command': 'train', 'model_url': 'http://localhost:8844/media/uploads/2022/03/08/my_model_b29b3ca2-e574-489b-9723-2c36546be344.py', 'params_url': 'http://localhost:8844/media/uploads/2022/03/08/aggregated_params_init_9335614a-d2e5-4feb-9710-2f0c5ea861ce.pt', 'model_class': 'MyTrainingPlan', 'training_data': {'node_bd90cc6f-67c4-4f81-aaa5-588c9c26c6e0': ['dataset_5ed4224a-ae70-4661-b0ef-588f589522a3']}}\n",
      "2022-03-08 13:31:33,231 fedbiomed DEBUG - researcher_420cfc13-37cb-447c-af20-f7ac5cb2b6ab\n",
      "2022-03-08 13:31:33,237 fedbiomed INFO - log from: node_bd90cc6f-67c4-4f81-aaa5-588c9c26c6e0 / DEBUG - Message received: {'researcher_id': 'researcher_420cfc13-37cb-447c-af20-f7ac5cb2b6ab', 'job_id': 'eea9cb40-2008-4dea-95cf-8b3fc8058361', 'training_args': {'batch_size': 40, 'lr': 0.001, 'epochs': 2, 'dry_run': False}, 'model_args': {'in_features': 6, 'out_features': 1}, 'command': 'train', 'model_url': 'http://localhost:8844/media/uploads/2022/03/08/my_model_b29b3ca2-e574-489b-9723-2c36546be344.py', 'params_url': 'http://localhost:8844/media/uploads/2022/03/08/aggregated_params_init_9335614a-d2e5-4feb-9710-2f0c5ea861ce.pt', 'model_class': 'MyTrainingPlan', 'training_data': {'node_bd90cc6f-67c4-4f81-aaa5-588c9c26c6e0': ['dataset_5ed4224a-ae70-4661-b0ef-588f589522a3']}}\n",
      "2022-03-08 13:31:33,238 fedbiomed INFO - log from: node_bd90cc6f-67c4-4f81-aaa5-588c9c26c6e0 / DEBUG - [TASKS QUEUE] Item:{'researcher_id': 'researcher_420cfc13-37cb-447c-af20-f7ac5cb2b6ab', 'job_id': 'eea9cb40-2008-4dea-95cf-8b3fc8058361', 'params_url': 'http://localhost:8844/media/uploads/2022/03/08/aggregated_params_init_9335614a-d2e5-4feb-9710-2f0c5ea861ce.pt', 'training_args': {'batch_size': 40, 'lr': 0.001, 'epochs': 2, 'dry_run': False}, 'training_data': {'node_bd90cc6f-67c4-4f81-aaa5-588c9c26c6e0': ['dataset_5ed4224a-ae70-4661-b0ef-588f589522a3']}, 'model_args': {'in_features': 6, 'out_features': 1}, 'model_url': 'http://localhost:8844/media/uploads/2022/03/08/my_model_b29b3ca2-e574-489b-9723-2c36546be344.py', 'model_class': 'MyTrainingPlan', 'command': 'train'}\n",
      "2022-03-08 13:31:33,244 fedbiomed INFO - log from: node_bd90cc6f-67c4-4f81-aaa5-588c9c26c6e0 / DEBUG - upload (HTTP GET request) of file my_model_0e691ee54652466b90514fa9624a23de.py successful, with status code 200\n",
      "2022-03-08 13:31:33,251 fedbiomed INFO - log from: node_bd90cc6f-67c4-4f81-aaa5-588c9c26c6e0 / DEBUG - upload (HTTP GET request) of file my_model_648addf6-c9e2-433b-a068-eb42b58b8bf8.pt successful, with status code 200\n",
      "2022-03-08 13:31:33,256 fedbiomed INFO - log from: node_bd90cc6f-67c4-4f81-aaa5-588c9c26c6e0 / DEBUG - Dataset path has been set as/home/scansiz/Desktop/Inria/development/data/used-cars/processed/audi_transformed.csv\n",
      "2022-03-08 13:31:33,271 fedbiomed INFO - log from: node_bd90cc6f-67c4-4f81-aaa5-588c9c26c6e0 / INFO - training with arguments {'monitor': <fedbiomed.node.history_monitor.HistoryMonitor object at 0x7f624854b700>, 'node_args': {'gpu': False, 'gpu_num': None, 'gpu_only': False}, 'training_data': <torch.utils.data.dataloader.DataLoader object at 0x7f62e145e7c0>, 'batch_size': 40, 'lr': 0.001, 'epochs': 2, 'dry_run': False}\n",
      "2022-03-08 13:31:33,273 fedbiomed INFO - log from: node_bd90cc6f-67c4-4f81-aaa5-588c9c26c6e0 / DEBUG - Using device cpu for training (cuda_available=False, gpu=False, gpu_only=False, use_gpu=False, gpu_num=None)\n",
      "2022-03-08 13:31:33,281 fedbiomed INFO - log from: node_bd90cc6f-67c4-4f81-aaa5-588c9c26c6e0 / INFO - Train Epoch: 1 [0/10668 (0%)]\tLoss: 20505.175781\n",
      "2022-03-08 13:31:33,298 fedbiomed INFO - log from: node_bd90cc6f-67c4-4f81-aaa5-588c9c26c6e0 / INFO - Train Epoch: 1 [400/10668 (4%)]\tLoss: 25945.392578\n",
      "2022-03-08 13:31:33,313 fedbiomed INFO - log from: node_bd90cc6f-67c4-4f81-aaa5-588c9c26c6e0 / INFO - Train Epoch: 1 [800/10668 (7%)]\tLoss: 24883.537109\n",
      "2022-03-08 13:31:33,327 fedbiomed INFO - log from: node_bd90cc6f-67c4-4f81-aaa5-588c9c26c6e0 / INFO - Train Epoch: 1 [1200/10668 (11%)]\tLoss: 18734.242188\n",
      "2022-03-08 13:31:33,344 fedbiomed INFO - log from: node_bd90cc6f-67c4-4f81-aaa5-588c9c26c6e0 / INFO - Train Epoch: 1 [1600/10668 (15%)]\tLoss: 21443.291016\n",
      "2022-03-08 13:31:33,369 fedbiomed INFO - log from: node_bd90cc6f-67c4-4f81-aaa5-588c9c26c6e0 / INFO - Train Epoch: 1 [2000/10668 (19%)]\tLoss: 21638.966797\n",
      "2022-03-08 13:31:33,384 fedbiomed INFO - log from: node_bd90cc6f-67c4-4f81-aaa5-588c9c26c6e0 / INFO - Train Epoch: 1 [2400/10668 (22%)]\tLoss: 21061.984375\n",
      "2022-03-08 13:31:33,408 fedbiomed INFO - log from: node_bd90cc6f-67c4-4f81-aaa5-588c9c26c6e0 / INFO - Train Epoch: 1 [2800/10668 (26%)]\tLoss: 23079.771484\n",
      "2022-03-08 13:31:33,430 fedbiomed INFO - log from: node_bd90cc6f-67c4-4f81-aaa5-588c9c26c6e0 / INFO - Train Epoch: 1 [3200/10668 (30%)]\tLoss: 21781.851562\n",
      "2022-03-08 13:31:33,446 fedbiomed INFO - log from: node_bd90cc6f-67c4-4f81-aaa5-588c9c26c6e0 / INFO - Train Epoch: 1 [3600/10668 (34%)]\tLoss: 29669.628906\n",
      "2022-03-08 13:31:33,459 fedbiomed INFO - log from: node_bd90cc6f-67c4-4f81-aaa5-588c9c26c6e0 / INFO - Train Epoch: 1 [4000/10668 (37%)]\tLoss: 26808.396484\n",
      "2022-03-08 13:31:33,470 fedbiomed INFO - log from: node_bd90cc6f-67c4-4f81-aaa5-588c9c26c6e0 / INFO - Train Epoch: 1 [4400/10668 (41%)]\tLoss: 25856.025391\n",
      "2022-03-08 13:31:33,483 fedbiomed INFO - log from: node_bd90cc6f-67c4-4f81-aaa5-588c9c26c6e0 / INFO - Train Epoch: 1 [4800/10668 (45%)]\tLoss: 36507.570312\n",
      "2022-03-08 13:31:33,497 fedbiomed INFO - log from: node_bd90cc6f-67c4-4f81-aaa5-588c9c26c6e0 / INFO - Train Epoch: 1 [5200/10668 (49%)]\tLoss: 25120.277344\n",
      "2022-03-08 13:31:33,512 fedbiomed INFO - log from: node_bd90cc6f-67c4-4f81-aaa5-588c9c26c6e0 / INFO - Train Epoch: 1 [5600/10668 (52%)]\tLoss: 22325.410156\n",
      "2022-03-08 13:31:33,524 fedbiomed INFO - log from: node_bd90cc6f-67c4-4f81-aaa5-588c9c26c6e0 / INFO - Train Epoch: 1 [6000/10668 (56%)]\tLoss: 19201.136719\n",
      "2022-03-08 13:31:33,534 fedbiomed INFO - log from: node_bd90cc6f-67c4-4f81-aaa5-588c9c26c6e0 / INFO - Train Epoch: 1 [6400/10668 (60%)]\tLoss: 23224.656250\n",
      "2022-03-08 13:31:33,545 fedbiomed INFO - log from: node_bd90cc6f-67c4-4f81-aaa5-588c9c26c6e0 / INFO - Train Epoch: 1 [6800/10668 (64%)]\tLoss: 19588.716797\n",
      "2022-03-08 13:31:33,557 fedbiomed INFO - log from: node_bd90cc6f-67c4-4f81-aaa5-588c9c26c6e0 / INFO - Train Epoch: 1 [7200/10668 (67%)]\tLoss: 18783.273438\n",
      "2022-03-08 13:31:33,569 fedbiomed INFO - log from: node_bd90cc6f-67c4-4f81-aaa5-588c9c26c6e0 / INFO - Train Epoch: 1 [7600/10668 (71%)]\tLoss: 20309.712891\n",
      "2022-03-08 13:31:33,585 fedbiomed INFO - log from: node_bd90cc6f-67c4-4f81-aaa5-588c9c26c6e0 / INFO - Train Epoch: 1 [8000/10668 (75%)]\tLoss: 22310.750000\n",
      "2022-03-08 13:31:33,599 fedbiomed INFO - log from: node_bd90cc6f-67c4-4f81-aaa5-588c9c26c6e0 / INFO - Train Epoch: 1 [8400/10668 (79%)]\tLoss: 23772.632812\n",
      "2022-03-08 13:31:33,612 fedbiomed INFO - log from: node_bd90cc6f-67c4-4f81-aaa5-588c9c26c6e0 / INFO - Train Epoch: 1 [8800/10668 (82%)]\tLoss: 21763.166016\n",
      "2022-03-08 13:31:33,625 fedbiomed INFO - log from: node_bd90cc6f-67c4-4f81-aaa5-588c9c26c6e0 / INFO - Train Epoch: 1 [9200/10668 (86%)]\tLoss: 23456.402344\n",
      "2022-03-08 13:31:33,640 fedbiomed INFO - log from: node_bd90cc6f-67c4-4f81-aaa5-588c9c26c6e0 / INFO - Train Epoch: 1 [9600/10668 (90%)]\tLoss: 18020.171875\n",
      "2022-03-08 13:31:33,653 fedbiomed INFO - log from: node_bd90cc6f-67c4-4f81-aaa5-588c9c26c6e0 / INFO - Train Epoch: 1 [10000/10668 (94%)]\tLoss: 18074.865234\n",
      "2022-03-08 13:31:33,668 fedbiomed INFO - log from: node_bd90cc6f-67c4-4f81-aaa5-588c9c26c6e0 / INFO - Train Epoch: 1 [10400/10668 (97%)]\tLoss: 19358.863281\n",
      "2022-03-08 13:31:33,681 fedbiomed INFO - log from: node_bd90cc6f-67c4-4f81-aaa5-588c9c26c6e0 / INFO - Train Epoch: 2 [0/10668 (0%)]\tLoss: 28669.580078\n",
      "2022-03-08 13:31:33,695 fedbiomed INFO - log from: node_bd90cc6f-67c4-4f81-aaa5-588c9c26c6e0 / INFO - Train Epoch: 2 [400/10668 (4%)]\tLoss: 24339.804688\n"
     ]
    },
    {
     "name": "stderr",
     "output_type": "stream",
     "text": [
      "2022-03-08 13:31:33,708 fedbiomed INFO - log from: node_bd90cc6f-67c4-4f81-aaa5-588c9c26c6e0 / INFO - Train Epoch: 2 [800/10668 (7%)]\tLoss: 18927.615234\n",
      "2022-03-08 13:31:33,718 fedbiomed INFO - log from: node_bd90cc6f-67c4-4f81-aaa5-588c9c26c6e0 / INFO - Train Epoch: 2 [1200/10668 (11%)]\tLoss: 17242.564453\n",
      "2022-03-08 13:31:33,731 fedbiomed INFO - log from: node_bd90cc6f-67c4-4f81-aaa5-588c9c26c6e0 / INFO - Train Epoch: 2 [1600/10668 (15%)]\tLoss: 15634.718750\n",
      "2022-03-08 13:31:33,742 fedbiomed INFO - log from: node_bd90cc6f-67c4-4f81-aaa5-588c9c26c6e0 / INFO - Train Epoch: 2 [2000/10668 (19%)]\tLoss: 25114.986328\n",
      "2022-03-08 13:31:33,756 fedbiomed INFO - log from: node_bd90cc6f-67c4-4f81-aaa5-588c9c26c6e0 / INFO - Train Epoch: 2 [2400/10668 (22%)]\tLoss: 17359.197266\n",
      "2022-03-08 13:31:33,769 fedbiomed INFO - log from: node_bd90cc6f-67c4-4f81-aaa5-588c9c26c6e0 / INFO - Train Epoch: 2 [2800/10668 (26%)]\tLoss: 17099.570312\n",
      "2022-03-08 13:31:33,783 fedbiomed INFO - log from: node_bd90cc6f-67c4-4f81-aaa5-588c9c26c6e0 / INFO - Train Epoch: 2 [3200/10668 (30%)]\tLoss: 21475.003906\n",
      "2022-03-08 13:31:33,794 fedbiomed INFO - log from: node_bd90cc6f-67c4-4f81-aaa5-588c9c26c6e0 / INFO - Train Epoch: 2 [3600/10668 (34%)]\tLoss: 20228.666016\n",
      "2022-03-08 13:31:33,808 fedbiomed INFO - log from: node_bd90cc6f-67c4-4f81-aaa5-588c9c26c6e0 / INFO - Train Epoch: 2 [4000/10668 (37%)]\tLoss: 21504.578125\n",
      "2022-03-08 13:31:33,821 fedbiomed INFO - log from: node_bd90cc6f-67c4-4f81-aaa5-588c9c26c6e0 / INFO - Train Epoch: 2 [4400/10668 (41%)]\tLoss: 15254.224609\n",
      "2022-03-08 13:31:33,837 fedbiomed INFO - log from: node_bd90cc6f-67c4-4f81-aaa5-588c9c26c6e0 / INFO - Train Epoch: 2 [4800/10668 (45%)]\tLoss: 15912.857422\n",
      "2022-03-08 13:31:33,855 fedbiomed INFO - log from: node_bd90cc6f-67c4-4f81-aaa5-588c9c26c6e0 / INFO - Train Epoch: 2 [5200/10668 (49%)]\tLoss: 22149.123047\n",
      "2022-03-08 13:31:33,867 fedbiomed INFO - log from: node_bd90cc6f-67c4-4f81-aaa5-588c9c26c6e0 / INFO - Train Epoch: 2 [5600/10668 (52%)]\tLoss: 22220.806641\n",
      "2022-03-08 13:31:33,881 fedbiomed INFO - log from: node_bd90cc6f-67c4-4f81-aaa5-588c9c26c6e0 / INFO - Train Epoch: 2 [6000/10668 (56%)]\tLoss: 21507.490234\n",
      "2022-03-08 13:31:33,893 fedbiomed INFO - log from: node_bd90cc6f-67c4-4f81-aaa5-588c9c26c6e0 / INFO - Train Epoch: 2 [6400/10668 (60%)]\tLoss: 20476.978516\n",
      "2022-03-08 13:31:33,905 fedbiomed INFO - log from: node_bd90cc6f-67c4-4f81-aaa5-588c9c26c6e0 / INFO - Train Epoch: 2 [6800/10668 (64%)]\tLoss: 16060.804688\n",
      "2022-03-08 13:31:33,917 fedbiomed INFO - log from: node_bd90cc6f-67c4-4f81-aaa5-588c9c26c6e0 / INFO - Train Epoch: 2 [7200/10668 (67%)]\tLoss: 26685.257812\n",
      "2022-03-08 13:31:33,930 fedbiomed INFO - log from: node_bd90cc6f-67c4-4f81-aaa5-588c9c26c6e0 / INFO - Train Epoch: 2 [7600/10668 (71%)]\tLoss: 18576.580078\n",
      "2022-03-08 13:31:33,954 fedbiomed INFO - log from: node_bd90cc6f-67c4-4f81-aaa5-588c9c26c6e0 / INFO - Train Epoch: 2 [8000/10668 (75%)]\tLoss: 21058.998047\n",
      "2022-03-08 13:31:33,974 fedbiomed INFO - log from: node_bd90cc6f-67c4-4f81-aaa5-588c9c26c6e0 / INFO - Train Epoch: 2 [8400/10668 (79%)]\tLoss: 16841.402344\n",
      "2022-03-08 13:31:33,993 fedbiomed INFO - log from: node_bd90cc6f-67c4-4f81-aaa5-588c9c26c6e0 / INFO - Train Epoch: 2 [8800/10668 (82%)]\tLoss: 21290.292969\n",
      "2022-03-08 13:31:34,013 fedbiomed INFO - log from: node_bd90cc6f-67c4-4f81-aaa5-588c9c26c6e0 / INFO - Train Epoch: 2 [9200/10668 (86%)]\tLoss: 16644.240234\n",
      "2022-03-08 13:31:34,032 fedbiomed INFO - log from: node_bd90cc6f-67c4-4f81-aaa5-588c9c26c6e0 / INFO - Train Epoch: 2 [9600/10668 (90%)]\tLoss: 20362.763672\n",
      "2022-03-08 13:31:34,055 fedbiomed INFO - log from: node_bd90cc6f-67c4-4f81-aaa5-588c9c26c6e0 / INFO - Train Epoch: 2 [10000/10668 (94%)]\tLoss: 24301.566406\n",
      "2022-03-08 13:31:34,075 fedbiomed INFO - log from: node_bd90cc6f-67c4-4f81-aaa5-588c9c26c6e0 / INFO - Train Epoch: 2 [10400/10668 (97%)]\tLoss: 17716.500000\n",
      "2022-03-08 13:31:34,088 fedbiomed INFO - log from: node_bd90cc6f-67c4-4f81-aaa5-588c9c26c6e0 / DEBUG - running model.postprocess() method\n",
      "2022-03-08 13:31:34,090 fedbiomed INFO - log from: node_bd90cc6f-67c4-4f81-aaa5-588c9c26c6e0 / DEBUG - model.postprocess() method not provided\n",
      "2022-03-08 13:31:34,141 fedbiomed INFO - log from: node_bd90cc6f-67c4-4f81-aaa5-588c9c26c6e0 / DEBUG - upload (HTTP POST request) of file /home/scansiz/Desktop/Inria/development/fedbiomed/var/tmp/node_params_14bbc5ad-da2a-405b-98f0-01e4c016211a.pt successful, with status code 201\n",
      "2022-03-08 13:31:34,143 fedbiomed INFO - log from: node_bd90cc6f-67c4-4f81-aaa5-588c9c26c6e0 / INFO - results uploaded successfully \n",
      "2022-03-08 13:31:43,244 fedbiomed INFO - Downloading model params after training on node_bd90cc6f-67c4-4f81-aaa5-588c9c26c6e0 - from http://localhost:8844/media/uploads/2022/03/08/node_params_14bbc5ad-da2a-405b-98f0-01e4c016211a.pt\n",
      "2022-03-08 13:31:43,261 fedbiomed DEBUG - upload (HTTP GET request) of file node_params_8343604d-687e-48de-b48a-f416fbefc46c.pt successful, with status code 200\n",
      "2022-03-08 13:31:43,271 fedbiomed INFO - Nodes that successfully reply in round 0 ['node_bd90cc6f-67c4-4f81-aaa5-588c9c26c6e0']\n",
      "2022-03-08 13:31:43,329 fedbiomed DEBUG - upload (HTTP POST request) of file /home/scansiz/Desktop/Inria/development/fedbiomed/var/experiments/Experiment_0080/aggregated_params_dc36d166-bc11-42d2-bd54-e4a2b0f77d2c.pt successful, with status code 201\n",
      "2022-03-08 13:31:43,331 fedbiomed INFO - Saved aggregated params for round 0 in /home/scansiz/Desktop/Inria/development/fedbiomed/var/experiments/Experiment_0080/aggregated_params_dc36d166-bc11-42d2-bd54-e4a2b0f77d2c.pt\n",
      "2022-03-08 13:31:43,333 fedbiomed INFO - Sampled nodes in round 1 ['node_bd90cc6f-67c4-4f81-aaa5-588c9c26c6e0']\n",
      "2022-03-08 13:31:43,334 fedbiomed INFO - Send message to node node_bd90cc6f-67c4-4f81-aaa5-588c9c26c6e0 - {'researcher_id': 'researcher_420cfc13-37cb-447c-af20-f7ac5cb2b6ab', 'job_id': 'eea9cb40-2008-4dea-95cf-8b3fc8058361', 'training_args': {'batch_size': 40, 'lr': 0.001, 'epochs': 2, 'dry_run': False}, 'model_args': {'in_features': 6, 'out_features': 1}, 'command': 'train', 'model_url': 'http://localhost:8844/media/uploads/2022/03/08/my_model_b29b3ca2-e574-489b-9723-2c36546be344.py', 'params_url': 'http://localhost:8844/media/uploads/2022/03/08/aggregated_params_dc36d166-bc11-42d2-bd54-e4a2b0f77d2c.pt', 'model_class': 'MyTrainingPlan', 'training_data': {'node_bd90cc6f-67c4-4f81-aaa5-588c9c26c6e0': ['dataset_5ed4224a-ae70-4661-b0ef-588f589522a3']}}\n",
      "2022-03-08 13:31:43,336 fedbiomed DEBUG - researcher_420cfc13-37cb-447c-af20-f7ac5cb2b6ab\n",
      "2022-03-08 13:31:43,347 fedbiomed INFO - log from: node_bd90cc6f-67c4-4f81-aaa5-588c9c26c6e0 / DEBUG - Message received: {'researcher_id': 'researcher_420cfc13-37cb-447c-af20-f7ac5cb2b6ab', 'job_id': 'eea9cb40-2008-4dea-95cf-8b3fc8058361', 'training_args': {'batch_size': 40, 'lr': 0.001, 'epochs': 2, 'dry_run': False}, 'model_args': {'in_features': 6, 'out_features': 1}, 'command': 'train', 'model_url': 'http://localhost:8844/media/uploads/2022/03/08/my_model_b29b3ca2-e574-489b-9723-2c36546be344.py', 'params_url': 'http://localhost:8844/media/uploads/2022/03/08/aggregated_params_dc36d166-bc11-42d2-bd54-e4a2b0f77d2c.pt', 'model_class': 'MyTrainingPlan', 'training_data': {'node_bd90cc6f-67c4-4f81-aaa5-588c9c26c6e0': ['dataset_5ed4224a-ae70-4661-b0ef-588f589522a3']}}\n",
      "2022-03-08 13:31:43,350 fedbiomed INFO - log from: node_bd90cc6f-67c4-4f81-aaa5-588c9c26c6e0 / DEBUG - [TASKS QUEUE] Item:{'researcher_id': 'researcher_420cfc13-37cb-447c-af20-f7ac5cb2b6ab', 'job_id': 'eea9cb40-2008-4dea-95cf-8b3fc8058361', 'params_url': 'http://localhost:8844/media/uploads/2022/03/08/aggregated_params_dc36d166-bc11-42d2-bd54-e4a2b0f77d2c.pt', 'training_args': {'batch_size': 40, 'lr': 0.001, 'epochs': 2, 'dry_run': False}, 'training_data': {'node_bd90cc6f-67c4-4f81-aaa5-588c9c26c6e0': ['dataset_5ed4224a-ae70-4661-b0ef-588f589522a3']}, 'model_args': {'in_features': 6, 'out_features': 1}, 'model_url': 'http://localhost:8844/media/uploads/2022/03/08/my_model_b29b3ca2-e574-489b-9723-2c36546be344.py', 'model_class': 'MyTrainingPlan', 'command': 'train'}\n",
      "2022-03-08 13:31:43,359 fedbiomed INFO - log from: node_bd90cc6f-67c4-4f81-aaa5-588c9c26c6e0 / DEBUG - upload (HTTP GET request) of file my_model_6e7bd12582b346538a6112ce5fadaf57.py successful, with status code 200\n"
     ]
    },
    {
     "name": "stderr",
     "output_type": "stream",
     "text": [
      "2022-03-08 13:31:43,367 fedbiomed INFO - log from: node_bd90cc6f-67c4-4f81-aaa5-588c9c26c6e0 / DEBUG - upload (HTTP GET request) of file my_model_7ed61878-5be4-47e4-900b-c84ea3fa5812.pt successful, with status code 200\n",
      "2022-03-08 13:31:43,372 fedbiomed INFO - log from: node_bd90cc6f-67c4-4f81-aaa5-588c9c26c6e0 / DEBUG - Dataset path has been set as/home/scansiz/Desktop/Inria/development/data/used-cars/processed/audi_transformed.csv\n",
      "2022-03-08 13:31:43,389 fedbiomed INFO - log from: node_bd90cc6f-67c4-4f81-aaa5-588c9c26c6e0 / INFO - training with arguments {'monitor': <fedbiomed.node.history_monitor.HistoryMonitor object at 0x7f62e22d9490>, 'node_args': {'gpu': False, 'gpu_num': None, 'gpu_only': False}, 'training_data': <torch.utils.data.dataloader.DataLoader object at 0x7f62e141bb20>, 'batch_size': 40, 'lr': 0.001, 'epochs': 2, 'dry_run': False}\n",
      "2022-03-08 13:31:43,390 fedbiomed INFO - log from: node_bd90cc6f-67c4-4f81-aaa5-588c9c26c6e0 / DEBUG - Using device cpu for training (cuda_available=False, gpu=False, gpu_only=False, use_gpu=False, gpu_num=None)\n",
      "2022-03-08 13:31:43,392 fedbiomed INFO - log from: node_bd90cc6f-67c4-4f81-aaa5-588c9c26c6e0 / INFO - Train Epoch: 1 [0/10668 (0%)]\tLoss: 21218.132812\n",
      "2022-03-08 13:31:43,417 fedbiomed INFO - log from: node_bd90cc6f-67c4-4f81-aaa5-588c9c26c6e0 / INFO - Train Epoch: 1 [400/10668 (4%)]\tLoss: 22737.447266\n",
      "2022-03-08 13:31:43,434 fedbiomed INFO - log from: node_bd90cc6f-67c4-4f81-aaa5-588c9c26c6e0 / INFO - Train Epoch: 1 [800/10668 (7%)]\tLoss: 18622.539062\n",
      "2022-03-08 13:31:43,449 fedbiomed INFO - log from: node_bd90cc6f-67c4-4f81-aaa5-588c9c26c6e0 / INFO - Train Epoch: 1 [1200/10668 (11%)]\tLoss: 17407.332031\n",
      "2022-03-08 13:31:43,463 fedbiomed INFO - log from: node_bd90cc6f-67c4-4f81-aaa5-588c9c26c6e0 / INFO - Train Epoch: 1 [1600/10668 (15%)]\tLoss: 17303.914062\n",
      "2022-03-08 13:31:43,480 fedbiomed INFO - log from: node_bd90cc6f-67c4-4f81-aaa5-588c9c26c6e0 / INFO - Train Epoch: 1 [2000/10668 (19%)]\tLoss: 17939.533203\n",
      "2022-03-08 13:31:43,495 fedbiomed INFO - log from: node_bd90cc6f-67c4-4f81-aaa5-588c9c26c6e0 / INFO - Train Epoch: 1 [2400/10668 (22%)]\tLoss: 19175.187500\n",
      "2022-03-08 13:31:43,507 fedbiomed INFO - log from: node_bd90cc6f-67c4-4f81-aaa5-588c9c26c6e0 / INFO - Train Epoch: 1 [2800/10668 (26%)]\tLoss: 21396.757812\n",
      "2022-03-08 13:31:43,522 fedbiomed INFO - log from: node_bd90cc6f-67c4-4f81-aaa5-588c9c26c6e0 / INFO - Train Epoch: 1 [3200/10668 (30%)]\tLoss: 23930.759766\n",
      "2022-03-08 13:31:43,534 fedbiomed INFO - log from: node_bd90cc6f-67c4-4f81-aaa5-588c9c26c6e0 / INFO - Train Epoch: 1 [3600/10668 (34%)]\tLoss: 18907.009766\n",
      "2022-03-08 13:31:43,546 fedbiomed INFO - log from: node_bd90cc6f-67c4-4f81-aaa5-588c9c26c6e0 / INFO - Train Epoch: 1 [4000/10668 (37%)]\tLoss: 18957.574219\n",
      "2022-03-08 13:31:43,558 fedbiomed INFO - log from: node_bd90cc6f-67c4-4f81-aaa5-588c9c26c6e0 / INFO - Train Epoch: 1 [4400/10668 (41%)]\tLoss: 16395.437500\n",
      "2022-03-08 13:31:43,570 fedbiomed INFO - log from: node_bd90cc6f-67c4-4f81-aaa5-588c9c26c6e0 / INFO - Train Epoch: 1 [4800/10668 (45%)]\tLoss: 18488.166016\n",
      "2022-03-08 13:31:43,583 fedbiomed INFO - log from: node_bd90cc6f-67c4-4f81-aaa5-588c9c26c6e0 / INFO - Train Epoch: 1 [5200/10668 (49%)]\tLoss: 17152.984375\n",
      "2022-03-08 13:31:43,598 fedbiomed INFO - log from: node_bd90cc6f-67c4-4f81-aaa5-588c9c26c6e0 / INFO - Train Epoch: 1 [5600/10668 (52%)]\tLoss: 16738.515625\n",
      "2022-03-08 13:31:43,612 fedbiomed INFO - log from: node_bd90cc6f-67c4-4f81-aaa5-588c9c26c6e0 / INFO - Train Epoch: 1 [6000/10668 (56%)]\tLoss: 15658.016602\n",
      "2022-03-08 13:31:43,623 fedbiomed INFO - log from: node_bd90cc6f-67c4-4f81-aaa5-588c9c26c6e0 / INFO - Train Epoch: 1 [6400/10668 (60%)]\tLoss: 19364.500000\n",
      "2022-03-08 13:31:43,638 fedbiomed INFO - log from: node_bd90cc6f-67c4-4f81-aaa5-588c9c26c6e0 / INFO - Train Epoch: 1 [6800/10668 (64%)]\tLoss: 17339.787109\n",
      "2022-03-08 13:31:43,648 fedbiomed INFO - log from: node_bd90cc6f-67c4-4f81-aaa5-588c9c26c6e0 / INFO - Train Epoch: 1 [7200/10668 (67%)]\tLoss: 16535.085938\n",
      "2022-03-08 13:31:43,659 fedbiomed INFO - log from: node_bd90cc6f-67c4-4f81-aaa5-588c9c26c6e0 / INFO - Train Epoch: 1 [7600/10668 (71%)]\tLoss: 12906.474609\n",
      "2022-03-08 13:31:43,674 fedbiomed INFO - log from: node_bd90cc6f-67c4-4f81-aaa5-588c9c26c6e0 / INFO - Train Epoch: 1 [8000/10668 (75%)]\tLoss: 17117.759766\n",
      "2022-03-08 13:31:43,691 fedbiomed INFO - log from: node_bd90cc6f-67c4-4f81-aaa5-588c9c26c6e0 / INFO - Train Epoch: 1 [8400/10668 (79%)]\tLoss: 18870.320312\n",
      "2022-03-08 13:31:43,710 fedbiomed INFO - log from: node_bd90cc6f-67c4-4f81-aaa5-588c9c26c6e0 / INFO - Train Epoch: 1 [8800/10668 (82%)]\tLoss: 17748.410156\n",
      "2022-03-08 13:31:43,723 fedbiomed INFO - log from: node_bd90cc6f-67c4-4f81-aaa5-588c9c26c6e0 / INFO - Train Epoch: 1 [9200/10668 (86%)]\tLoss: 20914.691406\n",
      "2022-03-08 13:31:43,736 fedbiomed INFO - log from: node_bd90cc6f-67c4-4f81-aaa5-588c9c26c6e0 / INFO - Train Epoch: 1 [9600/10668 (90%)]\tLoss: 19116.285156\n",
      "2022-03-08 13:31:43,749 fedbiomed INFO - log from: node_bd90cc6f-67c4-4f81-aaa5-588c9c26c6e0 / INFO - Train Epoch: 1 [10000/10668 (94%)]\tLoss: 17883.351562\n",
      "2022-03-08 13:31:43,761 fedbiomed INFO - log from: node_bd90cc6f-67c4-4f81-aaa5-588c9c26c6e0 / INFO - Train Epoch: 1 [10400/10668 (97%)]\tLoss: 17021.363281\n",
      "2022-03-08 13:31:43,773 fedbiomed INFO - log from: node_bd90cc6f-67c4-4f81-aaa5-588c9c26c6e0 / INFO - Train Epoch: 2 [0/10668 (0%)]\tLoss: 15411.599609\n",
      "2022-03-08 13:31:43,788 fedbiomed INFO - log from: node_bd90cc6f-67c4-4f81-aaa5-588c9c26c6e0 / INFO - Train Epoch: 2 [400/10668 (4%)]\tLoss: 15279.545898\n",
      "2022-03-08 13:31:43,804 fedbiomed INFO - log from: node_bd90cc6f-67c4-4f81-aaa5-588c9c26c6e0 / INFO - Train Epoch: 2 [800/10668 (7%)]\tLoss: 23276.320312\n",
      "2022-03-08 13:31:43,821 fedbiomed INFO - log from: node_bd90cc6f-67c4-4f81-aaa5-588c9c26c6e0 / INFO - Train Epoch: 2 [1200/10668 (11%)]\tLoss: 15043.530273\n",
      "2022-03-08 13:31:43,836 fedbiomed INFO - log from: node_bd90cc6f-67c4-4f81-aaa5-588c9c26c6e0 / INFO - Train Epoch: 2 [1600/10668 (15%)]\tLoss: 18948.216797\n",
      "2022-03-08 13:31:43,848 fedbiomed INFO - log from: node_bd90cc6f-67c4-4f81-aaa5-588c9c26c6e0 / INFO - Train Epoch: 2 [2000/10668 (19%)]\tLoss: 18805.494141\n",
      "2022-03-08 13:31:43,861 fedbiomed INFO - log from: node_bd90cc6f-67c4-4f81-aaa5-588c9c26c6e0 / INFO - Train Epoch: 2 [2400/10668 (22%)]\tLoss: 20084.240234\n",
      "2022-03-08 13:31:43,877 fedbiomed INFO - log from: node_bd90cc6f-67c4-4f81-aaa5-588c9c26c6e0 / INFO - Train Epoch: 2 [2800/10668 (26%)]\tLoss: 18374.669922\n",
      "2022-03-08 13:31:43,894 fedbiomed INFO - log from: node_bd90cc6f-67c4-4f81-aaa5-588c9c26c6e0 / INFO - Train Epoch: 2 [3200/10668 (30%)]\tLoss: 17151.666016\n",
      "2022-03-08 13:31:43,905 fedbiomed INFO - log from: node_bd90cc6f-67c4-4f81-aaa5-588c9c26c6e0 / INFO - Train Epoch: 2 [3600/10668 (34%)]\tLoss: 16723.240234\n",
      "2022-03-08 13:31:43,918 fedbiomed INFO - log from: node_bd90cc6f-67c4-4f81-aaa5-588c9c26c6e0 / INFO - Train Epoch: 2 [4000/10668 (37%)]\tLoss: 23515.787109\n",
      "2022-03-08 13:31:43,934 fedbiomed INFO - log from: node_bd90cc6f-67c4-4f81-aaa5-588c9c26c6e0 / INFO - Train Epoch: 2 [4400/10668 (41%)]\tLoss: 15281.557617\n",
      "2022-03-08 13:31:43,949 fedbiomed INFO - log from: node_bd90cc6f-67c4-4f81-aaa5-588c9c26c6e0 / INFO - Train Epoch: 2 [4800/10668 (45%)]\tLoss: 16375.077148\n",
      "2022-03-08 13:31:43,961 fedbiomed INFO - log from: node_bd90cc6f-67c4-4f81-aaa5-588c9c26c6e0 / INFO - Train Epoch: 2 [5200/10668 (49%)]\tLoss: 19148.863281\n",
      "2022-03-08 13:31:43,973 fedbiomed INFO - log from: node_bd90cc6f-67c4-4f81-aaa5-588c9c26c6e0 / INFO - Train Epoch: 2 [5600/10668 (52%)]\tLoss: 9788.210938\n",
      "2022-03-08 13:31:43,984 fedbiomed INFO - log from: node_bd90cc6f-67c4-4f81-aaa5-588c9c26c6e0 / INFO - Train Epoch: 2 [6000/10668 (56%)]\tLoss: 17183.539062\n",
      "2022-03-08 13:31:43,995 fedbiomed INFO - log from: node_bd90cc6f-67c4-4f81-aaa5-588c9c26c6e0 / INFO - Train Epoch: 2 [6400/10668 (60%)]\tLoss: 16619.933594\n",
      "2022-03-08 13:31:44,007 fedbiomed INFO - log from: node_bd90cc6f-67c4-4f81-aaa5-588c9c26c6e0 / INFO - Train Epoch: 2 [6800/10668 (64%)]\tLoss: 15247.392578\n",
      "2022-03-08 13:31:44,017 fedbiomed INFO - log from: node_bd90cc6f-67c4-4f81-aaa5-588c9c26c6e0 / INFO - Train Epoch: 2 [7200/10668 (67%)]\tLoss: 16211.733398\n",
      "2022-03-08 13:31:44,028 fedbiomed INFO - log from: node_bd90cc6f-67c4-4f81-aaa5-588c9c26c6e0 / INFO - Train Epoch: 2 [7600/10668 (71%)]\tLoss: 13141.957031\n"
     ]
    },
    {
     "name": "stderr",
     "output_type": "stream",
     "text": [
      "2022-03-08 13:31:44,042 fedbiomed INFO - log from: node_bd90cc6f-67c4-4f81-aaa5-588c9c26c6e0 / INFO - Train Epoch: 2 [8000/10668 (75%)]\tLoss: 15203.846680\n",
      "2022-03-08 13:31:44,056 fedbiomed INFO - log from: node_bd90cc6f-67c4-4f81-aaa5-588c9c26c6e0 / INFO - Train Epoch: 2 [8400/10668 (79%)]\tLoss: 31231.083984\n",
      "2022-03-08 13:31:44,069 fedbiomed INFO - log from: node_bd90cc6f-67c4-4f81-aaa5-588c9c26c6e0 / INFO - Train Epoch: 2 [8800/10668 (82%)]\tLoss: 15301.529297\n",
      "2022-03-08 13:31:44,082 fedbiomed INFO - log from: node_bd90cc6f-67c4-4f81-aaa5-588c9c26c6e0 / INFO - Train Epoch: 2 [9200/10668 (86%)]\tLoss: 12253.433594\n",
      "2022-03-08 13:31:44,096 fedbiomed INFO - log from: node_bd90cc6f-67c4-4f81-aaa5-588c9c26c6e0 / INFO - Train Epoch: 2 [9600/10668 (90%)]\tLoss: 12480.955078\n",
      "2022-03-08 13:31:44,112 fedbiomed INFO - log from: node_bd90cc6f-67c4-4f81-aaa5-588c9c26c6e0 / INFO - Train Epoch: 2 [10000/10668 (94%)]\tLoss: 14383.698242\n",
      "2022-03-08 13:31:44,124 fedbiomed INFO - log from: node_bd90cc6f-67c4-4f81-aaa5-588c9c26c6e0 / INFO - Train Epoch: 2 [10400/10668 (97%)]\tLoss: 12126.559570\n",
      "2022-03-08 13:31:44,134 fedbiomed INFO - log from: node_bd90cc6f-67c4-4f81-aaa5-588c9c26c6e0 / DEBUG - running model.postprocess() method\n",
      "2022-03-08 13:31:44,136 fedbiomed INFO - log from: node_bd90cc6f-67c4-4f81-aaa5-588c9c26c6e0 / DEBUG - model.postprocess() method not provided\n",
      "2022-03-08 13:31:44,185 fedbiomed INFO - log from: node_bd90cc6f-67c4-4f81-aaa5-588c9c26c6e0 / DEBUG - upload (HTTP POST request) of file /home/scansiz/Desktop/Inria/development/fedbiomed/var/tmp/node_params_3786ed6d-a094-4efc-b80f-f4b9df0ba50d.pt successful, with status code 201\n",
      "2022-03-08 13:31:44,186 fedbiomed INFO - log from: node_bd90cc6f-67c4-4f81-aaa5-588c9c26c6e0 / INFO - results uploaded successfully \n",
      "2022-03-08 13:31:53,354 fedbiomed INFO - Downloading model params after training on node_bd90cc6f-67c4-4f81-aaa5-588c9c26c6e0 - from http://localhost:8844/media/uploads/2022/03/08/node_params_3786ed6d-a094-4efc-b80f-f4b9df0ba50d.pt\n",
      "2022-03-08 13:31:53,365 fedbiomed DEBUG - upload (HTTP GET request) of file node_params_90f3e85b-6f28-4b1b-9ac6-4ec31bef5fef.pt successful, with status code 200\n",
      "2022-03-08 13:31:53,369 fedbiomed INFO - Nodes that successfully reply in round 1 ['node_bd90cc6f-67c4-4f81-aaa5-588c9c26c6e0']\n",
      "2022-03-08 13:31:53,423 fedbiomed DEBUG - upload (HTTP POST request) of file /home/scansiz/Desktop/Inria/development/fedbiomed/var/experiments/Experiment_0080/aggregated_params_cdef9528-4844-42c6-b333-1230a0d5c4a2.pt successful, with status code 201\n",
      "2022-03-08 13:31:53,425 fedbiomed INFO - Saved aggregated params for round 1 in /home/scansiz/Desktop/Inria/development/fedbiomed/var/experiments/Experiment_0080/aggregated_params_cdef9528-4844-42c6-b333-1230a0d5c4a2.pt\n",
      "2022-03-08 13:31:53,427 fedbiomed INFO - Sampled nodes in round 2 ['node_bd90cc6f-67c4-4f81-aaa5-588c9c26c6e0']\n",
      "2022-03-08 13:31:53,429 fedbiomed INFO - Send message to node node_bd90cc6f-67c4-4f81-aaa5-588c9c26c6e0 - {'researcher_id': 'researcher_420cfc13-37cb-447c-af20-f7ac5cb2b6ab', 'job_id': 'eea9cb40-2008-4dea-95cf-8b3fc8058361', 'training_args': {'batch_size': 40, 'lr': 0.001, 'epochs': 2, 'dry_run': False}, 'model_args': {'in_features': 6, 'out_features': 1}, 'command': 'train', 'model_url': 'http://localhost:8844/media/uploads/2022/03/08/my_model_b29b3ca2-e574-489b-9723-2c36546be344.py', 'params_url': 'http://localhost:8844/media/uploads/2022/03/08/aggregated_params_cdef9528-4844-42c6-b333-1230a0d5c4a2.pt', 'model_class': 'MyTrainingPlan', 'training_data': {'node_bd90cc6f-67c4-4f81-aaa5-588c9c26c6e0': ['dataset_5ed4224a-ae70-4661-b0ef-588f589522a3']}}\n",
      "2022-03-08 13:31:53,431 fedbiomed DEBUG - researcher_420cfc13-37cb-447c-af20-f7ac5cb2b6ab\n",
      "2022-03-08 13:31:53,443 fedbiomed INFO - log from: node_bd90cc6f-67c4-4f81-aaa5-588c9c26c6e0 / DEBUG - Message received: {'researcher_id': 'researcher_420cfc13-37cb-447c-af20-f7ac5cb2b6ab', 'job_id': 'eea9cb40-2008-4dea-95cf-8b3fc8058361', 'training_args': {'batch_size': 40, 'lr': 0.001, 'epochs': 2, 'dry_run': False}, 'model_args': {'in_features': 6, 'out_features': 1}, 'command': 'train', 'model_url': 'http://localhost:8844/media/uploads/2022/03/08/my_model_b29b3ca2-e574-489b-9723-2c36546be344.py', 'params_url': 'http://localhost:8844/media/uploads/2022/03/08/aggregated_params_cdef9528-4844-42c6-b333-1230a0d5c4a2.pt', 'model_class': 'MyTrainingPlan', 'training_data': {'node_bd90cc6f-67c4-4f81-aaa5-588c9c26c6e0': ['dataset_5ed4224a-ae70-4661-b0ef-588f589522a3']}}\n",
      "2022-03-08 13:31:53,483 fedbiomed INFO - log from: node_bd90cc6f-67c4-4f81-aaa5-588c9c26c6e0 / DEBUG - [TASKS QUEUE] Item:{'researcher_id': 'researcher_420cfc13-37cb-447c-af20-f7ac5cb2b6ab', 'job_id': 'eea9cb40-2008-4dea-95cf-8b3fc8058361', 'params_url': 'http://localhost:8844/media/uploads/2022/03/08/aggregated_params_cdef9528-4844-42c6-b333-1230a0d5c4a2.pt', 'training_args': {'batch_size': 40, 'lr': 0.001, 'epochs': 2, 'dry_run': False}, 'training_data': {'node_bd90cc6f-67c4-4f81-aaa5-588c9c26c6e0': ['dataset_5ed4224a-ae70-4661-b0ef-588f589522a3']}, 'model_args': {'in_features': 6, 'out_features': 1}, 'model_url': 'http://localhost:8844/media/uploads/2022/03/08/my_model_b29b3ca2-e574-489b-9723-2c36546be344.py', 'model_class': 'MyTrainingPlan', 'command': 'train'}\n",
      "2022-03-08 13:31:53,485 fedbiomed INFO - log from: node_bd90cc6f-67c4-4f81-aaa5-588c9c26c6e0 / DEBUG - upload (HTTP GET request) of file my_model_c5a51add6bc0401dbc9f9c91151ce3b6.py successful, with status code 200\n",
      "2022-03-08 13:31:53,488 fedbiomed INFO - log from: node_bd90cc6f-67c4-4f81-aaa5-588c9c26c6e0 / DEBUG - upload (HTTP GET request) of file my_model_ab407c29-2066-4d28-b9a7-98eec2627fb5.pt successful, with status code 200\n",
      "2022-03-08 13:31:53,491 fedbiomed INFO - log from: node_bd90cc6f-67c4-4f81-aaa5-588c9c26c6e0 / DEBUG - Dataset path has been set as/home/scansiz/Desktop/Inria/development/data/used-cars/processed/audi_transformed.csv\n",
      "2022-03-08 13:31:53,493 fedbiomed INFO - log from: node_bd90cc6f-67c4-4f81-aaa5-588c9c26c6e0 / INFO - training with arguments {'monitor': <fedbiomed.node.history_monitor.HistoryMonitor object at 0x7f62e141bca0>, 'node_args': {'gpu': False, 'gpu_num': None, 'gpu_only': False}, 'training_data': <torch.utils.data.dataloader.DataLoader object at 0x7f62e1412eb0>, 'batch_size': 40, 'lr': 0.001, 'epochs': 2, 'dry_run': False}\n",
      "2022-03-08 13:31:53,495 fedbiomed INFO - log from: node_bd90cc6f-67c4-4f81-aaa5-588c9c26c6e0 / DEBUG - Using device cpu for training (cuda_available=False, gpu=False, gpu_only=False, use_gpu=False, gpu_num=None)\n",
      "2022-03-08 13:31:53,497 fedbiomed INFO - log from: node_bd90cc6f-67c4-4f81-aaa5-588c9c26c6e0 / INFO - Train Epoch: 1 [0/10668 (0%)]\tLoss: 13824.218750\n",
      "2022-03-08 13:31:53,523 fedbiomed INFO - log from: node_bd90cc6f-67c4-4f81-aaa5-588c9c26c6e0 / INFO - Train Epoch: 1 [400/10668 (4%)]\tLoss: 12563.334961\n",
      "2022-03-08 13:31:53,537 fedbiomed INFO - log from: node_bd90cc6f-67c4-4f81-aaa5-588c9c26c6e0 / INFO - Train Epoch: 1 [800/10668 (7%)]\tLoss: 11886.534180\n",
      "2022-03-08 13:31:53,554 fedbiomed INFO - log from: node_bd90cc6f-67c4-4f81-aaa5-588c9c26c6e0 / INFO - Train Epoch: 1 [1200/10668 (11%)]\tLoss: 13652.426758\n",
      "2022-03-08 13:31:53,580 fedbiomed INFO - log from: node_bd90cc6f-67c4-4f81-aaa5-588c9c26c6e0 / INFO - Train Epoch: 1 [1600/10668 (15%)]\tLoss: 14086.065430\n",
      "2022-03-08 13:31:53,594 fedbiomed INFO - log from: node_bd90cc6f-67c4-4f81-aaa5-588c9c26c6e0 / INFO - Train Epoch: 1 [2000/10668 (19%)]\tLoss: 13074.375000\n",
      "2022-03-08 13:31:53,606 fedbiomed INFO - log from: node_bd90cc6f-67c4-4f81-aaa5-588c9c26c6e0 / INFO - Train Epoch: 1 [2400/10668 (22%)]\tLoss: 17769.974609\n",
      "2022-03-08 13:31:53,617 fedbiomed INFO - log from: node_bd90cc6f-67c4-4f81-aaa5-588c9c26c6e0 / INFO - Train Epoch: 1 [2800/10668 (26%)]\tLoss: 10462.379883\n",
      "2022-03-08 13:31:53,631 fedbiomed INFO - log from: node_bd90cc6f-67c4-4f81-aaa5-588c9c26c6e0 / INFO - Train Epoch: 1 [3200/10668 (30%)]\tLoss: 10716.485352\n",
      "2022-03-08 13:31:53,645 fedbiomed INFO - log from: node_bd90cc6f-67c4-4f81-aaa5-588c9c26c6e0 / INFO - Train Epoch: 1 [3600/10668 (34%)]\tLoss: 13588.349609\n",
      "2022-03-08 13:31:53,662 fedbiomed INFO - log from: node_bd90cc6f-67c4-4f81-aaa5-588c9c26c6e0 / INFO - Train Epoch: 1 [4000/10668 (37%)]\tLoss: 16358.780273\n"
     ]
    },
    {
     "name": "stderr",
     "output_type": "stream",
     "text": [
      "2022-03-08 13:31:53,677 fedbiomed INFO - log from: node_bd90cc6f-67c4-4f81-aaa5-588c9c26c6e0 / INFO - Train Epoch: 1 [4400/10668 (41%)]\tLoss: 14929.597656\n",
      "2022-03-08 13:31:53,692 fedbiomed INFO - log from: node_bd90cc6f-67c4-4f81-aaa5-588c9c26c6e0 / INFO - Train Epoch: 1 [4800/10668 (45%)]\tLoss: 12553.824219\n",
      "2022-03-08 13:31:53,704 fedbiomed INFO - log from: node_bd90cc6f-67c4-4f81-aaa5-588c9c26c6e0 / INFO - Train Epoch: 1 [5200/10668 (49%)]\tLoss: 14089.590820\n",
      "2022-03-08 13:31:53,715 fedbiomed INFO - log from: node_bd90cc6f-67c4-4f81-aaa5-588c9c26c6e0 / INFO - Train Epoch: 1 [5600/10668 (52%)]\tLoss: 14440.661133\n",
      "2022-03-08 13:31:53,728 fedbiomed INFO - log from: node_bd90cc6f-67c4-4f81-aaa5-588c9c26c6e0 / INFO - Train Epoch: 1 [6000/10668 (56%)]\tLoss: 10989.940430\n",
      "2022-03-08 13:31:53,747 fedbiomed INFO - log from: node_bd90cc6f-67c4-4f81-aaa5-588c9c26c6e0 / INFO - Train Epoch: 1 [6400/10668 (60%)]\tLoss: 19015.132812\n",
      "2022-03-08 13:31:53,761 fedbiomed INFO - log from: node_bd90cc6f-67c4-4f81-aaa5-588c9c26c6e0 / INFO - Train Epoch: 1 [6800/10668 (64%)]\tLoss: 10151.414062\n",
      "2022-03-08 13:31:53,773 fedbiomed INFO - log from: node_bd90cc6f-67c4-4f81-aaa5-588c9c26c6e0 / INFO - Train Epoch: 1 [7200/10668 (67%)]\tLoss: 10365.449219\n",
      "2022-03-08 13:31:53,788 fedbiomed INFO - log from: node_bd90cc6f-67c4-4f81-aaa5-588c9c26c6e0 / INFO - Train Epoch: 1 [7600/10668 (71%)]\tLoss: 10965.278320\n",
      "2022-03-08 13:31:53,805 fedbiomed INFO - log from: node_bd90cc6f-67c4-4f81-aaa5-588c9c26c6e0 / INFO - Train Epoch: 1 [8000/10668 (75%)]\tLoss: 9698.287109\n",
      "2022-03-08 13:31:53,825 fedbiomed INFO - log from: node_bd90cc6f-67c4-4f81-aaa5-588c9c26c6e0 / INFO - Train Epoch: 1 [8400/10668 (79%)]\tLoss: 12495.082031\n",
      "2022-03-08 13:31:53,847 fedbiomed INFO - log from: node_bd90cc6f-67c4-4f81-aaa5-588c9c26c6e0 / INFO - Train Epoch: 1 [8800/10668 (82%)]\tLoss: 22081.679688\n",
      "2022-03-08 13:31:53,868 fedbiomed INFO - log from: node_bd90cc6f-67c4-4f81-aaa5-588c9c26c6e0 / INFO - Train Epoch: 1 [9200/10668 (86%)]\tLoss: 10967.745117\n",
      "2022-03-08 13:31:53,885 fedbiomed INFO - log from: node_bd90cc6f-67c4-4f81-aaa5-588c9c26c6e0 / INFO - Train Epoch: 1 [9600/10668 (90%)]\tLoss: 9250.675781\n",
      "2022-03-08 13:31:53,902 fedbiomed INFO - log from: node_bd90cc6f-67c4-4f81-aaa5-588c9c26c6e0 / INFO - Train Epoch: 1 [10000/10668 (94%)]\tLoss: 21695.341797\n",
      "2022-03-08 13:31:53,919 fedbiomed INFO - log from: node_bd90cc6f-67c4-4f81-aaa5-588c9c26c6e0 / INFO - Train Epoch: 1 [10400/10668 (97%)]\tLoss: 10472.600586\n",
      "2022-03-08 13:31:53,936 fedbiomed INFO - log from: node_bd90cc6f-67c4-4f81-aaa5-588c9c26c6e0 / INFO - Train Epoch: 2 [0/10668 (0%)]\tLoss: 13563.573242\n",
      "2022-03-08 13:31:53,953 fedbiomed INFO - log from: node_bd90cc6f-67c4-4f81-aaa5-588c9c26c6e0 / INFO - Train Epoch: 2 [400/10668 (4%)]\tLoss: 12336.896484\n",
      "2022-03-08 13:31:53,970 fedbiomed INFO - log from: node_bd90cc6f-67c4-4f81-aaa5-588c9c26c6e0 / INFO - Train Epoch: 2 [800/10668 (7%)]\tLoss: 11386.309570\n",
      "2022-03-08 13:31:53,986 fedbiomed INFO - log from: node_bd90cc6f-67c4-4f81-aaa5-588c9c26c6e0 / INFO - Train Epoch: 2 [1200/10668 (11%)]\tLoss: 12945.578125\n",
      "2022-03-08 13:31:53,999 fedbiomed INFO - log from: node_bd90cc6f-67c4-4f81-aaa5-588c9c26c6e0 / INFO - Train Epoch: 2 [1600/10668 (15%)]\tLoss: 11853.384766\n",
      "2022-03-08 13:31:54,016 fedbiomed INFO - log from: node_bd90cc6f-67c4-4f81-aaa5-588c9c26c6e0 / INFO - Train Epoch: 2 [2000/10668 (19%)]\tLoss: 7008.296875\n",
      "2022-03-08 13:31:54,033 fedbiomed INFO - log from: node_bd90cc6f-67c4-4f81-aaa5-588c9c26c6e0 / INFO - Train Epoch: 2 [2400/10668 (22%)]\tLoss: 12021.099609\n",
      "2022-03-08 13:31:54,050 fedbiomed INFO - log from: node_bd90cc6f-67c4-4f81-aaa5-588c9c26c6e0 / INFO - Train Epoch: 2 [2800/10668 (26%)]\tLoss: 14356.954102\n",
      "2022-03-08 13:31:54,066 fedbiomed INFO - log from: node_bd90cc6f-67c4-4f81-aaa5-588c9c26c6e0 / INFO - Train Epoch: 2 [3200/10668 (30%)]\tLoss: 11483.871094\n",
      "2022-03-08 13:31:54,080 fedbiomed INFO - log from: node_bd90cc6f-67c4-4f81-aaa5-588c9c26c6e0 / INFO - Train Epoch: 2 [3600/10668 (34%)]\tLoss: 11437.246094\n",
      "2022-03-08 13:31:54,100 fedbiomed INFO - log from: node_bd90cc6f-67c4-4f81-aaa5-588c9c26c6e0 / INFO - Train Epoch: 2 [4000/10668 (37%)]\tLoss: 11060.524414\n",
      "2022-03-08 13:31:54,115 fedbiomed INFO - log from: node_bd90cc6f-67c4-4f81-aaa5-588c9c26c6e0 / INFO - Train Epoch: 2 [4400/10668 (41%)]\tLoss: 10128.371094\n",
      "2022-03-08 13:31:54,127 fedbiomed INFO - log from: node_bd90cc6f-67c4-4f81-aaa5-588c9c26c6e0 / INFO - Train Epoch: 2 [4800/10668 (45%)]\tLoss: 11762.977539\n",
      "2022-03-08 13:31:54,143 fedbiomed INFO - log from: node_bd90cc6f-67c4-4f81-aaa5-588c9c26c6e0 / INFO - Train Epoch: 2 [5200/10668 (49%)]\tLoss: 8345.101562\n",
      "2022-03-08 13:31:54,157 fedbiomed INFO - log from: node_bd90cc6f-67c4-4f81-aaa5-588c9c26c6e0 / INFO - Train Epoch: 2 [5600/10668 (52%)]\tLoss: 9253.775391\n",
      "2022-03-08 13:31:54,171 fedbiomed INFO - log from: node_bd90cc6f-67c4-4f81-aaa5-588c9c26c6e0 / INFO - Train Epoch: 2 [6000/10668 (56%)]\tLoss: 11369.007812\n",
      "2022-03-08 13:31:54,187 fedbiomed INFO - log from: node_bd90cc6f-67c4-4f81-aaa5-588c9c26c6e0 / INFO - Train Epoch: 2 [6400/10668 (60%)]\tLoss: 9939.418945\n",
      "2022-03-08 13:31:54,198 fedbiomed INFO - log from: node_bd90cc6f-67c4-4f81-aaa5-588c9c26c6e0 / INFO - Train Epoch: 2 [6800/10668 (64%)]\tLoss: 10190.361328\n",
      "2022-03-08 13:31:54,213 fedbiomed INFO - log from: node_bd90cc6f-67c4-4f81-aaa5-588c9c26c6e0 / INFO - Train Epoch: 2 [7200/10668 (67%)]\tLoss: 14082.823242\n",
      "2022-03-08 13:31:54,231 fedbiomed INFO - log from: node_bd90cc6f-67c4-4f81-aaa5-588c9c26c6e0 / INFO - Train Epoch: 2 [7600/10668 (71%)]\tLoss: 5806.390625\n",
      "2022-03-08 13:31:54,249 fedbiomed INFO - log from: node_bd90cc6f-67c4-4f81-aaa5-588c9c26c6e0 / INFO - Train Epoch: 2 [8000/10668 (75%)]\tLoss: 13417.144531\n",
      "2022-03-08 13:31:54,261 fedbiomed INFO - log from: node_bd90cc6f-67c4-4f81-aaa5-588c9c26c6e0 / INFO - Train Epoch: 2 [8400/10668 (79%)]\tLoss: 12047.129883\n",
      "2022-03-08 13:31:54,274 fedbiomed INFO - log from: node_bd90cc6f-67c4-4f81-aaa5-588c9c26c6e0 / INFO - Train Epoch: 2 [8800/10668 (82%)]\tLoss: 10972.406250\n",
      "2022-03-08 13:31:54,288 fedbiomed INFO - log from: node_bd90cc6f-67c4-4f81-aaa5-588c9c26c6e0 / INFO - Train Epoch: 2 [9200/10668 (86%)]\tLoss: 12147.658203\n",
      "2022-03-08 13:31:54,300 fedbiomed INFO - log from: node_bd90cc6f-67c4-4f81-aaa5-588c9c26c6e0 / INFO - Train Epoch: 2 [9600/10668 (90%)]\tLoss: 9538.521484\n",
      "2022-03-08 13:31:54,313 fedbiomed INFO - log from: node_bd90cc6f-67c4-4f81-aaa5-588c9c26c6e0 / INFO - Train Epoch: 2 [10000/10668 (94%)]\tLoss: 6999.943359\n",
      "2022-03-08 13:31:54,324 fedbiomed INFO - log from: node_bd90cc6f-67c4-4f81-aaa5-588c9c26c6e0 / INFO - Train Epoch: 2 [10400/10668 (97%)]\tLoss: 4964.392090\n",
      "2022-03-08 13:31:54,333 fedbiomed INFO - log from: node_bd90cc6f-67c4-4f81-aaa5-588c9c26c6e0 / DEBUG - running model.postprocess() method\n",
      "2022-03-08 13:31:54,334 fedbiomed INFO - log from: node_bd90cc6f-67c4-4f81-aaa5-588c9c26c6e0 / DEBUG - model.postprocess() method not provided\n",
      "2022-03-08 13:31:54,390 fedbiomed INFO - log from: node_bd90cc6f-67c4-4f81-aaa5-588c9c26c6e0 / DEBUG - upload (HTTP POST request) of file /home/scansiz/Desktop/Inria/development/fedbiomed/var/tmp/node_params_179ba7e0-0426-4d4e-9363-e376dc5a8621.pt successful, with status code 201\n",
      "2022-03-08 13:31:54,393 fedbiomed INFO - log from: node_bd90cc6f-67c4-4f81-aaa5-588c9c26c6e0 / INFO - results uploaded successfully \n",
      "2022-03-08 13:32:03,449 fedbiomed INFO - Downloading model params after training on node_bd90cc6f-67c4-4f81-aaa5-588c9c26c6e0 - from http://localhost:8844/media/uploads/2022/03/08/node_params_179ba7e0-0426-4d4e-9363-e376dc5a8621.pt\n",
      "2022-03-08 13:32:03,468 fedbiomed DEBUG - upload (HTTP GET request) of file node_params_9d0d7aed-6975-46ea-947e-1b15fdd6b7c1.pt successful, with status code 200\n",
      "2022-03-08 13:32:03,476 fedbiomed INFO - Nodes that successfully reply in round 2 ['node_bd90cc6f-67c4-4f81-aaa5-588c9c26c6e0']\n",
      "2022-03-08 13:32:03,538 fedbiomed DEBUG - upload (HTTP POST request) of file /home/scansiz/Desktop/Inria/development/fedbiomed/var/experiments/Experiment_0080/aggregated_params_f1ac2465-d9c1-4a9a-9a6b-cc4db843134d.pt successful, with status code 201\n",
      "2022-03-08 13:32:03,540 fedbiomed INFO - Saved aggregated params for round 2 in /home/scansiz/Desktop/Inria/development/fedbiomed/var/experiments/Experiment_0080/aggregated_params_f1ac2465-d9c1-4a9a-9a6b-cc4db843134d.pt\n"
     ]
    },
    {
     "data": {
      "text/plain": [
       "3"
      ]
     },
     "execution_count": 9,
     "metadata": {},
     "output_type": "execute_result"
    },
    {
     "name": "stderr",
     "output_type": "stream",
     "text": [
      "2022-03-08 13:38:15,806 fedbiomed INFO - log from: node_bd90cc6f-67c4-4f81-aaa5-588c9c26c6e0 / CRITICAL - Node stopped in signal_handler, probably by user decision (Ctrl C)\n",
      "2022-03-08 13:38:39,535 fedbiomed INFO - log from: test_logger_node_cc4aafec-a371-4265-8fdb-bbabe6ef094f / ERROR - mqtt+console ERROR message\n",
      "2022-03-08 13:38:48,687 fedbiomed INFO - log from: node_1234 / INFO - Messaging mock_researcher_XXX successfully connected to the message broker, object = <fedbiomed.common.messaging.Messaging object at 0x7fe639cb6ac0>\n",
      "2022-03-08 13:38:50,733 fedbiomed INFO - log from: node_1234 / INFO - Controlling Models Dir\n",
      "2022-03-08 13:38:50,735 fedbiomed INFO - log from: node_1234 / INFO - /tmp/_nod_/default_models\n",
      "2022-03-08 13:38:51,370 fedbiomed INFO - log from: node_1234 / INFO - {'name': 'variational-autoencoder.txt', 'description': 'Default model', 'hash': '2677f2ee0c098d6b3417f66a314e95df13632d504492550745eb8ca52e51fad2', 'model_path': '/tmp/_nod_/default_models/variational-autoencoder.txt', 'model_id': 'model_d7d1e03b-f666-4328-9218-15ece72806da', 'model_type': 'default', 'algorithm': 'SHA256', 'date_created': '08-03-2022 13:38:24.808987', 'date_modified': '08-03-2022 13:38:24.808987', 'date_registered': '08-03-2022 13:38:51.210575'}\n",
      "2022-03-08 13:38:51,371 fedbiomed INFO - log from: node_1234 / INFO - Recreating hashing for : variational-autoencoder.txt \t model_d7d1e03b-f666-4328-9218-15ece72806da\n",
      "2022-03-08 13:38:51,385 fedbiomed INFO - log from: node_1234 / INFO - Recreating hashing for : sklearn-perceptron.txt \t model_c20a3130-4534-4262-a7ec-488e417547db\n",
      "2022-03-08 13:38:51,400 fedbiomed INFO - log from: node_1234 / INFO - Recreating hashing for : pytorch-csv.txt \t model_76b917c0-da54-49eb-a90c-43ccaa6b99e2\n",
      "2022-03-08 13:38:51,401 fedbiomed INFO - log from: node_1234 / INFO - Recreating hashing for : sklearn-sgdregressor.txt \t model_b3b5e5b3-0c3d-4dcd-9424-f797dff7122f\n",
      "2022-03-08 13:38:51,416 fedbiomed INFO - log from: node_1234 / INFO - Recreating hashing for : pytorch-mnist.txt \t model_951063d1-14e2-4998-8f16-aeda885e13da\n",
      "2022-03-08 13:38:51,417 fedbiomed INFO - log from: node_1234 / INFO - Recreating hashing for : pytorch-celaba.txt \t model_56eaa8c1-fb07-474e-8fe6-dc54d2136c61\n",
      "2022-03-08 13:38:51,433 fedbiomed INFO - log from: node_1234 / INFO - Recreating hashing for : pytorch-usedcars.txt \t model_5318dc8a-266b-48a6-9f04-e8911c1c7526\n",
      "2022-03-08 13:38:51,448 fedbiomed INFO - log from: node_1234 / INFO - {'name': 'variational-autoencoder.txt', 'description': 'Default model', 'hash': '2b67079831fd408a809c93360379bc0e926a4bf0919067d560744face8e22f5f047c517121f0a100427fa759d0b9411b', 'model_path': '/tmp/_nod_/default_models/variational-autoencoder.txt', 'model_id': 'model_d7d1e03b-f666-4328-9218-15ece72806da', 'model_type': 'default', 'algorithm': 'SHA384', 'date_created': '08-03-2022 13:38:24.808987', 'date_modified': '08-03-2022 13:38:24.808987', 'date_registered': '08-03-2022 13:38:51.210575'}\n",
      "2022-03-08 13:38:51,448 fedbiomed INFO - log from: node_1234 / INFO - Recreating hashing for : variational-autoencoder.txt \t model_d7d1e03b-f666-4328-9218-15ece72806da\n",
      "2022-03-08 13:38:51,471 fedbiomed INFO - log from: node_1234 / INFO - Recreating hashing for : sklearn-perceptron.txt \t model_c20a3130-4534-4262-a7ec-488e417547db\n",
      "2022-03-08 13:38:51,472 fedbiomed INFO - log from: node_1234 / INFO - Recreating hashing for : pytorch-csv.txt \t model_76b917c0-da54-49eb-a90c-43ccaa6b99e2\n",
      "2022-03-08 13:38:51,489 fedbiomed INFO - log from: node_1234 / INFO - Recreating hashing for : sklearn-sgdregressor.txt \t model_b3b5e5b3-0c3d-4dcd-9424-f797dff7122f\n",
      "2022-03-08 13:38:51,490 fedbiomed INFO - log from: node_1234 / INFO - Recreating hashing for : pytorch-mnist.txt \t model_951063d1-14e2-4998-8f16-aeda885e13da\n",
      "2022-03-08 13:38:51,503 fedbiomed INFO - log from: node_1234 / INFO - Recreating hashing for : pytorch-celaba.txt \t model_56eaa8c1-fb07-474e-8fe6-dc54d2136c61\n",
      "2022-03-08 13:38:51,531 fedbiomed INFO - log from: node_1234 / INFO - Recreating hashing for : pytorch-usedcars.txt \t model_5318dc8a-266b-48a6-9f04-e8911c1c7526\n",
      "2022-03-08 13:38:51,538 fedbiomed INFO - log from: node_1234 / INFO - {'name': 'variational-autoencoder.txt', 'description': 'Default model', 'hash': 'a0c1ca832ae9f010db1da3aace70b1190d887c88fdce4b8a49efef69d06646c353e5524adcaebaa6e08e105526ca4341ab9171b3642d274423e9887d53211613', 'model_path': '/tmp/_nod_/default_models/variational-autoencoder.txt', 'model_id': 'model_d7d1e03b-f666-4328-9218-15ece72806da', 'model_type': 'default', 'algorithm': 'SHA512', 'date_created': '08-03-2022 13:38:24.808987', 'date_modified': '08-03-2022 13:38:24.808987', 'date_registered': '08-03-2022 13:38:51.210575'}\n",
      "2022-03-08 13:38:51,579 fedbiomed INFO - log from: node_1234 / INFO - Recreating hashing for : variational-autoencoder.txt \t model_d7d1e03b-f666-4328-9218-15ece72806da\n",
      "2022-03-08 13:38:51,580 fedbiomed INFO - log from: node_1234 / INFO - Recreating hashing for : sklearn-perceptron.txt \t model_c20a3130-4534-4262-a7ec-488e417547db\n",
      "2022-03-08 13:38:51,581 fedbiomed INFO - log from: node_1234 / INFO - Recreating hashing for : pytorch-csv.txt \t model_76b917c0-da54-49eb-a90c-43ccaa6b99e2\n",
      "2022-03-08 13:38:51,582 fedbiomed INFO - log from: node_1234 / INFO - Recreating hashing for : sklearn-sgdregressor.txt \t model_b3b5e5b3-0c3d-4dcd-9424-f797dff7122f\n",
      "2022-03-08 13:38:51,582 fedbiomed INFO - log from: node_1234 / INFO - Recreating hashing for : pytorch-mnist.txt \t model_951063d1-14e2-4998-8f16-aeda885e13da\n",
      "2022-03-08 13:38:51,621 fedbiomed INFO - log from: node_1234 / INFO - Recreating hashing for : pytorch-celaba.txt \t model_56eaa8c1-fb07-474e-8fe6-dc54d2136c61\n",
      "2022-03-08 13:38:51,622 fedbiomed INFO - log from: node_1234 / INFO - Recreating hashing for : pytorch-usedcars.txt \t model_5318dc8a-266b-48a6-9f04-e8911c1c7526\n",
      "2022-03-08 13:38:51,624 fedbiomed INFO - log from: node_1234 / INFO - {'name': 'variational-autoencoder.txt', 'description': 'Default model', 'hash': 'ea2f73c0e6f9ae76b8a60b5a3e18b463a48dce12b066fc62d4697adfec3d4bfa', 'model_path': '/tmp/_nod_/default_models/variational-autoencoder.txt', 'model_id': 'model_d7d1e03b-f666-4328-9218-15ece72806da', 'model_type': 'default', 'algorithm': 'SHA3_256', 'date_created': '08-03-2022 13:38:24.808987', 'date_modified': '08-03-2022 13:38:24.808987', 'date_registered': '08-03-2022 13:38:51.210575'}\n",
      "2022-03-08 13:38:51,625 fedbiomed INFO - log from: node_1234 / INFO - Recreating hashing for : variational-autoencoder.txt \t model_d7d1e03b-f666-4328-9218-15ece72806da\n",
      "2022-03-08 13:38:51,661 fedbiomed INFO - log from: node_1234 / INFO - Recreating hashing for : sklearn-perceptron.txt \t model_c20a3130-4534-4262-a7ec-488e417547db\n",
      "2022-03-08 13:38:51,662 fedbiomed INFO - log from: node_1234 / INFO - Recreating hashing for : pytorch-csv.txt \t model_76b917c0-da54-49eb-a90c-43ccaa6b99e2\n",
      "2022-03-08 13:38:51,663 fedbiomed INFO - log from: node_1234 / INFO - Recreating hashing for : sklearn-sgdregressor.txt \t model_b3b5e5b3-0c3d-4dcd-9424-f797dff7122f\n",
      "2022-03-08 13:38:51,664 fedbiomed INFO - log from: node_1234 / INFO - Recreating hashing for : pytorch-mnist.txt \t model_951063d1-14e2-4998-8f16-aeda885e13da\n",
      "2022-03-08 13:38:51,666 fedbiomed INFO - log from: node_1234 / INFO - Recreating hashing for : pytorch-celaba.txt \t model_56eaa8c1-fb07-474e-8fe6-dc54d2136c61\n",
      "2022-03-08 13:38:51,687 fedbiomed INFO - log from: node_1234 / INFO - Recreating hashing for : pytorch-usedcars.txt \t model_5318dc8a-266b-48a6-9f04-e8911c1c7526\n",
      "2022-03-08 13:38:51,706 fedbiomed INFO - log from: node_1234 / INFO - {'name': 'variational-autoencoder.txt', 'description': 'Default model', 'hash': '9fcb1845278e91dc17648edd275a8169006dd7147836fe0d8eef126f00c401c521230e0142f6f0eabead539a2a580119', 'model_path': '/tmp/_nod_/default_models/variational-autoencoder.txt', 'model_id': 'model_d7d1e03b-f666-4328-9218-15ece72806da', 'model_type': 'default', 'algorithm': 'SHA3_384', 'date_created': '08-03-2022 13:38:24.808987', 'date_modified': '08-03-2022 13:38:24.808987', 'date_registered': '08-03-2022 13:38:51.210575'}\n",
      "2022-03-08 13:38:51,708 fedbiomed INFO - log from: node_1234 / INFO - Recreating hashing for : variational-autoencoder.txt \t model_d7d1e03b-f666-4328-9218-15ece72806da\n"
     ]
    },
    {
     "name": "stderr",
     "output_type": "stream",
     "text": [
      "2022-03-08 13:38:51,724 fedbiomed INFO - log from: node_1234 / INFO - Recreating hashing for : sklearn-perceptron.txt \t model_c20a3130-4534-4262-a7ec-488e417547db\n",
      "2022-03-08 13:38:51,736 fedbiomed INFO - log from: node_1234 / INFO - Recreating hashing for : pytorch-csv.txt \t model_76b917c0-da54-49eb-a90c-43ccaa6b99e2\n",
      "2022-03-08 13:38:51,748 fedbiomed INFO - log from: node_1234 / INFO - Recreating hashing for : sklearn-sgdregressor.txt \t model_b3b5e5b3-0c3d-4dcd-9424-f797dff7122f\n",
      "2022-03-08 13:38:51,755 fedbiomed INFO - log from: node_1234 / INFO - Recreating hashing for : pytorch-mnist.txt \t model_951063d1-14e2-4998-8f16-aeda885e13da\n",
      "2022-03-08 13:38:51,775 fedbiomed INFO - log from: node_1234 / INFO - Recreating hashing for : pytorch-celaba.txt \t model_56eaa8c1-fb07-474e-8fe6-dc54d2136c61\n",
      "2022-03-08 13:38:51,797 fedbiomed INFO - log from: node_1234 / INFO - Recreating hashing for : pytorch-usedcars.txt \t model_5318dc8a-266b-48a6-9f04-e8911c1c7526\n",
      "2022-03-08 13:38:51,808 fedbiomed INFO - log from: node_1234 / INFO - {'name': 'variational-autoencoder.txt', 'description': 'Default model', 'hash': 'a627251d007047589fd08074374567949a1337fe06a0c27682a9a6072e9ebf4de1b9fdb384461a887d94d9570b377cf5094496d0d49fc8ee42b671b4b81b70c1', 'model_path': '/tmp/_nod_/default_models/variational-autoencoder.txt', 'model_id': 'model_d7d1e03b-f666-4328-9218-15ece72806da', 'model_type': 'default', 'algorithm': 'SHA3_512', 'date_created': '08-03-2022 13:38:24.808987', 'date_modified': '08-03-2022 13:38:24.808987', 'date_registered': '08-03-2022 13:38:51.210575'}\n",
      "2022-03-08 13:38:51,810 fedbiomed INFO - log from: node_1234 / INFO - Recreating hashing for : variational-autoencoder.txt \t model_d7d1e03b-f666-4328-9218-15ece72806da\n",
      "2022-03-08 13:38:51,830 fedbiomed INFO - log from: node_1234 / INFO - Recreating hashing for : sklearn-perceptron.txt \t model_c20a3130-4534-4262-a7ec-488e417547db\n",
      "2022-03-08 13:38:51,832 fedbiomed INFO - log from: node_1234 / INFO - Recreating hashing for : pytorch-csv.txt \t model_76b917c0-da54-49eb-a90c-43ccaa6b99e2\n",
      "2022-03-08 13:38:51,842 fedbiomed INFO - log from: node_1234 / INFO - Recreating hashing for : sklearn-sgdregressor.txt \t model_b3b5e5b3-0c3d-4dcd-9424-f797dff7122f\n",
      "2022-03-08 13:38:51,848 fedbiomed INFO - log from: node_1234 / INFO - Recreating hashing for : pytorch-mnist.txt \t model_951063d1-14e2-4998-8f16-aeda885e13da\n",
      "2022-03-08 13:38:51,872 fedbiomed INFO - log from: node_1234 / INFO - Recreating hashing for : pytorch-celaba.txt \t model_56eaa8c1-fb07-474e-8fe6-dc54d2136c61\n",
      "2022-03-08 13:38:51,891 fedbiomed INFO - log from: node_1234 / INFO - Recreating hashing for : pytorch-usedcars.txt \t model_5318dc8a-266b-48a6-9f04-e8911c1c7526\n",
      "2022-03-08 13:38:51,898 fedbiomed INFO - log from: node_1234 / INFO - {'name': 'variational-autoencoder.txt', 'description': 'Default model', 'hash': 'af487e5f42bec88f762355463944730e491e6f2e13118f4d3bbae71c158d5a1c', 'model_path': '/tmp/_nod_/default_models/variational-autoencoder.txt', 'model_id': 'model_d7d1e03b-f666-4328-9218-15ece72806da', 'model_type': 'default', 'algorithm': 'BLAKE2B', 'date_created': '08-03-2022 13:38:24.808987', 'date_modified': '08-03-2022 13:38:24.808987', 'date_registered': '08-03-2022 13:38:51.210575'}\n",
      "2022-03-08 13:38:51,900 fedbiomed INFO - log from: node_1234 / INFO - Recreating hashing for : variational-autoencoder.txt \t model_d7d1e03b-f666-4328-9218-15ece72806da\n",
      "2022-03-08 13:38:51,915 fedbiomed INFO - log from: node_1234 / INFO - Recreating hashing for : sklearn-perceptron.txt \t model_c20a3130-4534-4262-a7ec-488e417547db\n",
      "2022-03-08 13:38:51,926 fedbiomed INFO - log from: node_1234 / INFO - Recreating hashing for : pytorch-csv.txt \t model_76b917c0-da54-49eb-a90c-43ccaa6b99e2\n",
      "2022-03-08 13:38:51,938 fedbiomed INFO - log from: node_1234 / INFO - Recreating hashing for : sklearn-sgdregressor.txt \t model_b3b5e5b3-0c3d-4dcd-9424-f797dff7122f\n",
      "2022-03-08 13:38:51,952 fedbiomed INFO - log from: node_1234 / INFO - Recreating hashing for : pytorch-mnist.txt \t model_951063d1-14e2-4998-8f16-aeda885e13da\n",
      "2022-03-08 13:38:51,964 fedbiomed INFO - log from: node_1234 / INFO - Recreating hashing for : pytorch-celaba.txt \t model_56eaa8c1-fb07-474e-8fe6-dc54d2136c61\n",
      "2022-03-08 13:38:51,986 fedbiomed INFO - log from: node_1234 / INFO - Recreating hashing for : pytorch-usedcars.txt \t model_5318dc8a-266b-48a6-9f04-e8911c1c7526\n",
      "2022-03-08 13:38:52,000 fedbiomed INFO - log from: node_1234 / INFO - {'name': 'variational-autoencoder.txt', 'description': 'Default model', 'hash': 'af487e5f42bec88f762355463944730e491e6f2e13118f4d3bbae71c158d5a1c', 'model_path': '/tmp/_nod_/default_models/variational-autoencoder.txt', 'model_id': 'model_d7d1e03b-f666-4328-9218-15ece72806da', 'model_type': 'default', 'algorithm': 'BLAKE2S', 'date_created': '08-03-2022 13:38:24.808987', 'date_modified': '08-03-2022 13:38:24.808987', 'date_registered': '08-03-2022 13:38:51.210575'}\n",
      "2022-03-08 13:38:52,068 fedbiomed INFO - log from: node_1234 / INFO - Removed default model file has been detected, it will be removed from DB as well: test-model\n",
      "2022-03-08 13:38:52,126 fedbiomed INFO - log from: node_1234 / INFO - Modified default model file has been detected. Hashing will be updated for: sklearn-sgdregressor.txt\n",
      "2022-03-08 13:38:52,132 fedbiomed INFO - log from: node_1234 / INFO - Modified default model file has been detected. Hashing will be updated for: pytorch-mnist.txt\n",
      "2022-03-08 13:38:52,149 fedbiomed INFO - log from: node_1234 / INFO - Modified default model file has been detected. Hashing will be updated for: pytorch-usedcars.txt\n",
      "2022-03-08 13:38:52,160 fedbiomed INFO - log from: node_1234 / INFO - Modified default model file has been detected. Hashing will be updated for: sklearn-perceptron.txt\n",
      "2022-03-08 13:38:52,164 fedbiomed INFO - log from: node_1234 / INFO - Modified default model file has been detected. Hashing will be updated for: variational-autoencoder.txt\n",
      "2022-03-08 13:38:52,193 fedbiomed INFO - log from: node_1234 / INFO - Modified default model file has been detected. Hashing will be updated for: pytorch-celaba.txt\n",
      "2022-03-08 13:38:52,210 fedbiomed INFO - log from: node_1234 / INFO - Modified default model file has been detected. Hashing will be updated for: pytorch-csv.txt\n",
      "2022-03-08 13:38:52,283 fedbiomed INFO - log from: node_1234 / INFO - Checking hashes for registered models...\n",
      "2022-03-08 13:38:52,284 fedbiomed INFO - log from: node_1234 / INFO - There is no models registered\n",
      "2022-03-08 13:38:52,287 fedbiomed INFO - log from: node_1234 / INFO - Checking hashes for registered models...\n",
      "2022-03-08 13:38:52,288 fedbiomed INFO - log from: node_1234 / INFO - Recreating hashing for : test-model \t test-model-id\n",
      "2022-03-08 13:38:52,289 fedbiomed INFO - log from: node_1234 / INFO - Checking hashes for registered models...\n",
      "2022-03-08 13:38:52,289 fedbiomed INFO - log from: node_1234 / INFO - Model : test-model could not found in : /home/scansiz/Desktop/Inria/development/fedbiomed/tests/test-model/copied-test-model-1.txt, will be removed\n",
      "2022-03-08 13:38:52,527 fedbiomed INFO - log from: node_1234 / CRITICAL - researcher_id: '<class 'bool'>' instead of '<class 'str'>'\n",
      "2022-03-08 13:38:52,528 fedbiomed INFO - log from: node_1234 / CRITICAL - FB601: message error: bad input value for message: ModelStatusReply(researcher_id=True, node_id='mock_node_XXX', job_id='xxx', success=True, approval_obligation=True, is_approved=True, msg='Model is approved by the node', model_url='file://tmp/_nod_/default_models/sklearn-sgdregressor.txt', command='model-status')\n",
      "2022-03-08 13:38:52,534 fedbiomed INFO - log from: node_1234 / INFO - Removing tensorboard logs from previous experiment\n",
      "2022-03-08 13:38:52,564 fedbiomed INFO - log from: node_1234 / DEBUG - Message received: {'command': 'train'}\n",
      "2022-03-08 13:38:52,565 fedbiomed INFO - log from: node_1234 / DEBUG - Message received: {'command': 'ping', 'researcher_id': 'researcher_id_1234', 'sequence': 1234}\n",
      "2022-03-08 13:38:52,574 fedbiomed INFO - log from: node_1234 / DEBUG - Message received: {'command': 'search', 'researcher_id': 'researcher_id_1234', 'tags': ['#some_tags']}\n",
      "2022-03-08 13:38:52,575 fedbiomed INFO - log from: node_1234 / DEBUG - Message received: {'command': 'list', 'researcher_id': 'researcher_id_1234'}\n"
     ]
    },
    {
     "name": "stderr",
     "output_type": "stream",
     "text": [
      "2022-03-08 13:38:52,584 fedbiomed INFO - log from: node_1234 / DEBUG - Message received: {'command': 'model-status', 'researcher_id': 'researcher_id_1234'}\n",
      "2022-03-08 13:38:52,585 fedbiomed INFO - log from: node_1234 / DEBUG - Message received: {'command': 'unknown', 'researcher_id': 'researcher_id_1234'}\n",
      "2022-03-08 13:38:52,704 fedbiomed INFO - log from: node_1234 / DEBUG - Message received: {'command': 'ping', 'researcher_id': 'researcher_id_1234', 'sequence': 1234}\n",
      "2022-03-08 13:38:52,705 fedbiomed INFO - log from: node_1234 / DEBUG - Message received: {'researcher_id': 'researcher_id_1234', 'sequence': 1234}\n",
      "2022-03-08 13:38:52,706 fedbiomed INFO - log from: node_1234 / DEBUG - Message received: {'command': 'ping', 'researcher_id': 'researcher_id_1234', 'sequence': 1234}\n",
      "2022-03-08 13:38:52,727 fedbiomed INFO - log from: node_1234 / ERROR - Did not found proper data in local datasets on node=mock_node_XXX\n",
      "2022-03-08 13:38:52,756 fedbiomed INFO - log from: node_1234 / DEBUG - [TASKS QUEUE] Item:None\n",
      "2022-03-08 13:38:52,762 fedbiomed INFO - log from: node_1234 / DEBUG - [TASKS QUEUE] Item:None\n",
      "2022-03-08 13:38:52,776 fedbiomed INFO - log from: node_1234 / DEBUG - [TASKS QUEUE] Item:None\n",
      "2022-03-08 13:38:52,778 fedbiomed INFO - log from: node_1234 / DEBUG - [TASKS QUEUE] Item:None\n",
      "2022-03-08 13:38:52,801 fedbiomed INFO - log from: node_1234 / ERROR - FB604: repository error: File /a/file/that/should/not/be/found/on/your/computer not found, cannot upload it\n",
      "2022-03-08 13:38:52,801 fedbiomed INFO - log from: node_1234 / ERROR - FB604: repository error: Unable to read /a/file/to/upload due to unsatisfactory privileges, cannot upload it\n",
      "2022-03-08 13:38:52,802 fedbiomed INFO - log from: node_1234 / ERROR - FB604: repository error: Cannot read file another/file/to/upload when uploading\n",
      "2022-03-08 13:38:52,803 fedbiomed INFO - log from: node_1234 / ERROR - Unable to deserialize JSON from HTTP POST request (when uploading file)\n",
      "2022-03-08 13:38:52,806 fedbiomed INFO - log from: node_1234 / ERROR - FB604: repository errorMimicking case where directory is not exisiting, cannot save the downloaded content into it\n",
      "2022-03-08 13:38:52,808 fedbiomed INFO - log from: node_1234 / ERROR - FB604: repository error: Unable to read /a/path/to/a/file/on/which/downloaded/content/will/be/saved due to unsatisfactory privileges\n",
      "2022-03-08 13:38:52,841 fedbiomed INFO - log from: node_1234 / ERROR - FB604: repository error : cannot write on /a/path/to/a/file/on/which/downloaded/content/will/be/saved: out of memory!\n",
      "2022-03-08 13:38:52,844 fedbiomed INFO - log from: node_1234 / ERROR - FB604: repository error: Cannot open file /a/path/to/a/file/on/which/downloaded/content/will/be/saved after downloading\n",
      "2022-03-08 13:38:52,845 fedbiomed INFO - log from: node_1234 / DEBUG - upload (HTTP some http requests request) of file /a/file/on/my/computer successful, with status code 200\n",
      "2022-03-08 13:38:52,846 fedbiomed INFO - log from: node_1234 / ERROR - FB202: server returns 404 error when issing a HTTP request my/file/to/upload\n",
      "2022-03-08 13:38:52,847 fedbiomed INFO - log from: node_1234 / DEBUG - Details of exception: mimicking an HTTP error\n",
      "2022-03-08 13:38:52,848 fedbiomed INFO - log from: node_1234 / ERROR - FB203: server returns other 4xx or 500 error when issing a HTTP request my/other/file/to/upload(status code: 500)\n",
      "2022-03-08 13:38:52,850 fedbiomed INFO - log from: node_1234 / DEBUG - Details of exception: mimicking an HTTP error\n",
      "2022-03-08 13:38:52,851 fedbiomed INFO - log from: node_1234 / ERROR - FB201: server not reachable : CALLABLE_RAISING_TIMEOUT_EXCEPTION HTTP request time exceeds Timeout\n",
      "2022-03-08 13:38:52,852 fedbiomed INFO - log from: node_1234 / ERROR - FB201: server not reachable : CALLABLE_RAISING_TOO_MANY_REDIRECTION_ERRORS HTTP request exceeds max number of redirection\n",
      "2022-03-08 13:38:52,853 fedbiomed INFO - log from: node_1234 / ERROR - FB604: repository error : bad URL when issuing a unknwon HTTP request a/file/path(details :Invalid URL 'a/file/to/upload': No scheme supplied. Perhaps you meant http://a/file/to/upload? )\n",
      "2022-03-08 13:38:53,413 fedbiomed INFO - log from: node_1234 / ERROR - FB201: server not reachable when issuing a unknwon HTTP request a/file/path to http://a.fake.url: name or service not known\n",
      "2022-03-08 13:38:53,416 fedbiomed INFO - log from: node_1234 / ERROR - FB200: undetermined repository server error: when issuing a unknwon HTTP request a/file/path (HTTP CALLABLE_RAISING_REQUESTS_ERROR request failed). Details: Mimicking a unknown RequestException\n",
      "2022-03-08 13:38:54,086 fedbiomed INFO - log from: node_1234 / ERROR - Incorrect message received:{}\n"
     ]
    }
   ],
   "source": [
    "exp.run()"
   ]
  },
  {
   "cell_type": "markdown",
   "metadata": {},
   "source": [
    "Local training results for each round and each node are available via `exp.training_replies()` (index 0 to (`rounds` - 1) ).\n",
    "\n",
    "For example you can view the training results for the last round below.\n",
    "\n",
    "Different timings (in seconds) are reported for each dataset of a node participating in a round :\n",
    "- `rtime_training` real time (clock time) spent in the training function on the node\n",
    "- `ptime_training` process time (user and system CPU) spent in the training function on the node\n",
    "- `rtime_total` real time (clock time) spent in the researcher between sending the request and handling the response, at the `Job()` layer"
   ]
  },
  {
   "cell_type": "code",
   "execution_count": null,
   "metadata": {
    "pycharm": {
     "name": "#%%\n"
    },
    "scrolled": true
   },
   "outputs": [],
   "source": [
    "print(\"\\nList the training rounds : \", exp.training_replies().keys())\n",
    "\n",
    "print(\"\\nList the nodes for the last training round and their timings : \")\n",
    "round_data = exp.training_replies()[rounds - 1].data()\n",
    "for c in range(len(round_data)):\n",
    "    print(\"\\t- {id} :\\\n",
    "    \\n\\t\\trtime_training={rtraining:.2f} seconds\\\n",
    "    \\n\\t\\tptime_training={ptraining:.2f} seconds\\\n",
    "    \\n\\t\\trtime_total={rtotal:.2f} seconds\".format(id = round_data[c]['node_id'],\n",
    "        rtraining = round_data[c]['timing']['rtime_training'],\n",
    "        ptraining = round_data[c]['timing']['ptime_training'],\n",
    "        rtotal = round_data[c]['timing']['rtime_total']))\n",
    "print('\\n')\n",
    "    \n",
    "exp.training_replies()[rounds - 1].dataframe()"
   ]
  },
  {
   "cell_type": "markdown",
   "metadata": {},
   "source": [
    "Federated parameters for each round are available via `exp.aggregated_params()` (index 0 to (`rounds` - 1) ).\n",
    "\n",
    "For example you can view the federated parameters for the last round of the experiment :"
   ]
  },
  {
   "cell_type": "code",
   "execution_count": null,
   "metadata": {},
   "outputs": [],
   "source": [
    "print(\"\\nList the training rounds : \", exp.aggregated_params().keys())\n",
    "\n",
    "print(\"\\nAccess the federated params for the last training round :\")\n",
    "print(\"\\t- params_path: \", exp.aggregated_params()[rounds - 1]['params_path'])\n",
    "print(\"\\t- parameter data: \", exp.aggregated_params()[rounds - 1]['params'].keys())\n"
   ]
  },
  {
   "cell_type": "markdown",
   "metadata": {},
   "source": [
    "# Test Function"
   ]
  },
  {
   "cell_type": "code",
   "execution_count": null,
   "metadata": {},
   "outputs": [],
   "source": [
    "fed_model = exp.model_instance()\n",
    "fed_model.load_state_dict(exp.aggregated_params()[rounds - 1]['params'])"
   ]
  },
  {
   "cell_type": "code",
   "execution_count": null,
   "metadata": {},
   "outputs": [],
   "source": [
    " fed_model"
   ]
  },
  {
   "cell_type": "code",
   "execution_count": null,
   "metadata": {},
   "outputs": [],
   "source": [
    "# Hold one file for testing the fed model\n",
    "test_dataset_path = os.path.join(data_dir, \"ford_transformed.csv\")"
   ]
  },
  {
   "cell_type": "code",
   "execution_count": null,
   "metadata": {},
   "outputs": [],
   "source": [
    "import numpy as np\n",
    "import torch\n",
    "import torch.nn as nn\n",
    "import torch.nn.functional as F\n",
    "from torch.utils.data import Dataset, DataLoader\n",
    "import pandas as pd\n",
    "\n",
    "def cal_rmse(actual, prediction):\n",
    "    return ((actual- prediction)**2).mean()**0.5\n",
    "\n",
    "def testing_rmse(model, data_loader):\n",
    "    model.eval()\n",
    "    test_loss = 0\n",
    "    correct = 0\n",
    "    device = 'cpu'\n",
    "    preds = []\n",
    "    with torch.no_grad():\n",
    "        for data, target in data_loader:\n",
    "            data, target = data.to(device), target.to(device)\n",
    "            output = model(data)\n",
    "            preds.append(output.numpy().flatten())\n",
    "    rmse = cal_rmse(data_loader.dataset.Y_train.numpy(),np.hstack(preds))\n",
    "    return rmse"
   ]
  },
  {
   "cell_type": "code",
   "execution_count": null,
   "metadata": {},
   "outputs": [],
   "source": [
    "class csv_Dataset(Dataset):\n",
    "        def __init__(self, dataset_path):\n",
    "            self.input_file = pd.read_csv(dataset_path,sep=',',index_col=False)\n",
    "            x_train = self.input_file.loc[:,('year','transmission','mileage','tax','mpg','engineSize')].values\n",
    "            y_train = self.input_file.loc[:,'price'].values\n",
    "            self.X_train = torch.from_numpy(x_train).float()\n",
    "            self.Y_train = torch.from_numpy(y_train).float()\n",
    "\n",
    "        def __len__(self):            \n",
    "            return len(self.Y_train)\n",
    "\n",
    "        def __getitem__(self, idx):\n",
    "\n",
    "            return (self.X_train[idx], self.Y_train[idx])"
   ]
  },
  {
   "cell_type": "code",
   "execution_count": null,
   "metadata": {},
   "outputs": [],
   "source": [
    "dataset = csv_Dataset(test_dataset_path)\n",
    "train_kwargs = {'batch_size': 64, 'shuffle': True}\n",
    "data_loader = DataLoader(dataset, **train_kwargs)"
   ]
  },
  {
   "cell_type": "code",
   "execution_count": null,
   "metadata": {},
   "outputs": [],
   "source": [
    "rmse = testing_rmse(fed_model, data_loader)"
   ]
  },
  {
   "cell_type": "code",
   "execution_count": null,
   "metadata": {},
   "outputs": [],
   "source": [
    "rmse"
   ]
  },
  {
   "cell_type": "code",
   "execution_count": null,
   "metadata": {},
   "outputs": [],
   "source": []
  }
 ],
 "metadata": {
  "interpreter": {
   "hash": "e416aa0399b226346633f35c0f9bb77d7e7cf1619eb46cae5c1dd017cab61cfc"
  },
  "kernelspec": {
   "display_name": "Python 3 (ipykernel)",
   "language": "python",
   "name": "python3"
  },
  "language_info": {
   "codemirror_mode": {
    "name": "ipython",
    "version": 3
   },
   "file_extension": ".py",
   "mimetype": "text/x-python",
   "name": "python",
   "nbconvert_exporter": "python",
   "pygments_lexer": "ipython3",
   "version": "3.9.7"
  }
 },
 "nbformat": 4,
 "nbformat_minor": 1
}

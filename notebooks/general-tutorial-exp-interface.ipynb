{
 "cells": [
  {
   "cell_type": "markdown",
   "metadata": {},
   "source": [
    "# In Depth Experiment Configuration"
   ]
  },
  {
   "cell_type": "markdown",
   "metadata": {},
   "source": [
    "The experiment class provides an interface that you can manage your experiment with backward compatibility. It means that even your Experiment has been built/defined you will be able to configure its parameters. This feature will provide more control over your experiment even after your running your experiment for several rounds. In this tutorial, detailed experiment interface will be explained using MNIST basic example."
   ]
  },
  {
   "cell_type": "markdown",
   "metadata": {},
   "source": [
    "## Configuring Environment\n",
    "Before running this notebook, you need to configure your environment by completing following steps:\n",
    "\n",
    "### Starting the Network Component\n",
    "Please run following command to start Network component that provided communication between your notebook and the node;\n",
    "```shell\n",
    "{FEDBIOMED_DIR}/scripts/fedbiomed_run network\n",
    "```\n",
    "<div class=\"note\">\n",
    "<p>This command will launch docker containers. Therefore, please make sure that your Docker engine is up and running.</p>\n",
    "</div>\n",
    "\n",
    "### Deploying MNIST Dataset in the None\n",
    "Please run following command to add MNIST dataset into your Node. This command will deploy MNIST dataset in your default node whose config file is located in `{FEDBIOMED_DIR}/etc` directory as `config_node.ini`\n",
    "\n",
    "After running following command, please select data type `2) default`, use default `tags` and select the folder where MNIST dataset will be saved.\n",
    "\n",
    "```shell\n",
    "{FEDBIOMED_DIR}/scripts/fedbiomed_run node add\n",
    "```\n",
    "\n",
    "### Starting the Node\n",
    " After you have successfully completed previous step, please run following command to start your node.\n",
    "\n",
    "```shell\n",
    "{FEDBIOMED_DIR}/scripts/fedbiomed_run node start\n",
    "```"
   ]
  },
  {
   "cell_type": "markdown",
   "metadata": {},
   "source": [
    "## Creating a Model\n",
    "\n",
    "Before declaring an experiment, the model that will be used for federated training should be defined. The model that is goıng to be used is exactly the same model that has been created in the Basic MNIST tutorial. We recommend you to follow Basic MNIST tutorial on PyTorch Framework to understand following steps."
   ]
  },
  {
   "cell_type": "code",
   "execution_count": 1,
   "metadata": {},
   "outputs": [],
   "source": [
    "import torch\n",
    "import torch.nn as nn\n",
    "from fedbiomed.common.training_plans import TorchTrainingPlan\n",
    "from fedbiomed.common.data import DataManager\n",
    "from torchvision import datasets, transforms\n",
    "\n",
    "\n",
    "# Here we define the model to be used. \n",
    "# You can use any class name (here 'Net')\n",
    "class MyTrainingPlan(TorchTrainingPlan):\n",
    "    \n",
    "    # Defines and return model \n",
    "    def init_model(self, model_args):\n",
    "        return self.Net(model_args = model_args)\n",
    "    \n",
    "    # Defines and return optimizer\n",
    "    def init_optimizer(self, optimizer_args):\n",
    "        return torch.optim.Adam(self.model().parameters(), lr = optimizer_args[\"lr\"])\n",
    "    \n",
    "    # Declares and return dependencies\n",
    "    def init_dependencies(self):\n",
    "        deps = [\"from torchvision import datasets, transforms\"]\n",
    "        return deps\n",
    "    \n",
    "    class Net(nn.Module):\n",
    "        def __init__(self, model_args):\n",
    "            super().__init__()\n",
    "            self.conv1 = nn.Conv2d(1, 32, 3, 1)\n",
    "            self.conv2 = nn.Conv2d(32, 64, 3, 1)\n",
    "            self.dropout1 = nn.Dropout(0.25)\n",
    "            self.dropout2 = nn.Dropout(0.5)\n",
    "            self.fc1 = nn.Linear(9216, 128)\n",
    "            self.fc2 = nn.Linear(128, 10)\n",
    "\n",
    "        def forward(self, x):\n",
    "            x = self.conv1(x)\n",
    "            x = F.relu(x)\n",
    "            x = self.conv2(x)\n",
    "            x = F.relu(x)\n",
    "            x = F.max_pool2d(x, 2)\n",
    "            x = self.dropout1(x)\n",
    "            x = torch.flatten(x, 1)\n",
    "            x = self.fc1(x)\n",
    "            x = F.relu(x)\n",
    "            x = self.dropout2(x)\n",
    "            x = self.fc2(x)\n",
    "\n",
    "\n",
    "            output = F.log_softmax(x, dim=1)\n",
    "            return output\n",
    "\n",
    "    def training_data(self, batch_size = 48):\n",
    "        # Custom torch Dataloader for MNIST data\n",
    "        transform = transforms.Compose([transforms.ToTensor(),\n",
    "        transforms.Normalize((0.1307,), (0.3081,))])\n",
    "        dataset1 = datasets.MNIST(self.dataset_path, train=True, download=False, transform=transform)\n",
    "        train_kwargs = {'batch_size': batch_size, 'shuffle': True}\n",
    "        return DataManager(dataset=dataset1, **train_kwargs)\n",
    "    \n",
    "    def training_step(self, data, target):\n",
    "        output = self.model().forward(data)\n",
    "        loss   = torch.nn.functional.nll_loss(output, target)\n",
    "        return loss\n"
   ]
  },
  {
   "cell_type": "markdown",
   "metadata": {},
   "source": [
    "After running the cells above, your model codes will be saved in path which is defined in the variable `model_file`. This path will be used while declaring an experiment."
   ]
  },
  {
   "cell_type": "markdown",
   "metadata": {},
   "source": [
    "## Creating an Experiment Step by Step  \n",
    "\n",
    "The experiment class can be created without passing any argument. This will just build an empty experiment object. Afterwards, you will be able to define your arguments using setters of the experiment object.\n",
    "\n",
    "\n",
    "<div class=\"note\"><p>It is always possible to create a fully configured experiment by passing all arguments during the initialization. You can also create your experiment with some of the arguments and set the other arguments after.</p></div>\n",
    "\n",
    "### Building an Empty Experiment\n"
   ]
  },
  {
   "cell_type": "markdown",
   "metadata": {},
   "source": [
    "After building an empty experiment you won't be able to perform federated training, since it is not fully configured. That's why the output of the initialization will always remind you that the experiment is not fully configured."
   ]
  },
  {
   "cell_type": "code",
   "execution_count": 2,
   "metadata": {},
   "outputs": [
    {
     "name": "stderr",
     "output_type": "stream",
     "text": [
      "2022-09-13 11:19:22,087 fedbiomed INFO - Component environment:\n",
      "2022-09-13 11:19:22,088 fedbiomed INFO - type = ComponentType.RESEARCHER\n",
      "2022-09-13 11:19:22,200 fedbiomed INFO - Messaging researcher_2e0d74d9-4e02-4710-ad66-38fae6b2f290 successfully connected to the message broker, object = <fedbiomed.common.messaging.Messaging object at 0x7f9c935f9dc0>\n",
      "2022-09-13 11:19:22,216 fedbiomed DEBUG - Experiment not fully configured yet: no training data\n",
      "2022-09-13 11:19:22,217 fedbiomed DEBUG - Experiment not fully configured yet: no node selection strategy\n",
      "2022-09-13 11:19:22,218 fedbiomed DEBUG - Experiment not fully configured yet: no valid training plan, training_plan_class=None training_plan_class_path=None\n",
      "2022-09-13 11:19:22,218 fedbiomed DEBUG - Experiment not fully configured yet: no valid training plan, training_plan=None training_plan_path=None\n",
      "2022-09-13 11:19:22,219 fedbiomed DEBUG - Experiment not fully configured yet: no job. Missing proper training plan definition (training_plan=None training_plan_path=None)\n",
      "2022-09-13 11:19:22,220 fedbiomed INFO - Removing tensorboard logs from previous experiment\n"
     ]
    }
   ],
   "source": [
    "from fedbiomed.researcher.experiment import Experiment\n",
    "exp = Experiment()"
   ]
  },
  {
   "cell_type": "markdown",
   "metadata": {},
   "source": [
    "### Displaying Current Status of Experiment\n",
    "As an addition to output of the initialization, to find out more about the current status of the experiment, you can call the `info()` method of your experiment object. This method will print the information about your experiment and what you should complete to be able to start your federated training."
   ]
  },
  {
   "cell_type": "code",
   "execution_count": 3,
   "metadata": {},
   "outputs": [
    {
     "name": "stdout",
     "output_type": "stream",
     "text": [
      "Arguments            Values\n",
      "-------------------  ------------------------------------------------------------\n",
      "Tags                 None\n",
      "Nodes filter         None\n",
      "Training Data        None\n",
      "Aggregator           FedAverage\n",
      "Strategy             None\n",
      "Job                  None\n",
      "Training Plan Path   None\n",
      "Training Plan Class  None\n",
      "Model Arguments      {}\n",
      "Training Arguments   {'optimizer_args': {}, 'batch_size': 48, 'epochs': 1, 'dry_r\n",
      "                     un': False, 'batch_maxnum': 100, 'test_ratio': 0.0, 'test_on\n",
      "                     _local_updates': False, 'test_on_global_updates': False, 'te\n",
      "                     st_metric': None, 'test_metric_args': {}, 'log_interval': 10\n",
      "                     , 'fedprox_mu': None, 'use_gpu': False}\n",
      "Rounds already run   0\n",
      "Rounds total         None\n",
      "Experiment folder    Experiment_0013\n",
      "Experiment Path      /home/scansiz/projects/fedbiomed-dev/fedbiomed/var/experimen\n",
      "                     ts/Experiment_0013\n",
      "Breakpoint State     False\n",
      "\n",
      "Experiment cannot be run (not fully defined), missing :\n",
      "- Training Data\n",
      "- Strategy\n",
      "- Training Plan\n",
      "- Job\n",
      "\n"
     ]
    }
   ],
   "source": [
    "exp.info()"
   ]
  },
  {
   "cell_type": "markdown",
   "metadata": {},
   "source": [
    "Based on the output, some arguments are defined with default values, while others are not. Model arguments, training arguments, tags, round limit, training data etc. have no default value, and they are required to be set. However, these arguments are related to each other. For example, to be able to define your federated training data you need to define the `tags` first, and then while setting your training data argument, experiment will be able to send search request to the nodes to receive information about the datasets. These relations between the arguments will be explained in the following steps."
   ]
  },
  {
   "cell_type": "markdown",
   "metadata": {},
   "source": [
    "### Setting Model for The Experiment\n",
    "\n",
    "The model that is going to be used for training can be set in the experiment using the method `set_model_class`."
   ]
  },
  {
   "cell_type": "code",
   "execution_count": 5,
   "metadata": {},
   "outputs": [
    {
     "data": {
      "text/plain": [
       "__main__.MyTrainingPlan"
      ]
     },
     "execution_count": 5,
     "metadata": {},
     "output_type": "execute_result"
    }
   ],
   "source": [
    "exp.set_training_plan_class(training_plan_class=MyTrainingPlan)\n",
    "#exp.set_training_plan_path(training_plan_path=model_file)"
   ]
  },
  {
   "cell_type": "markdown",
   "metadata": {},
   "source": [
    "<div class=\"note\">\n",
    "    <p>If you set your model path first, setter will log a debug message which will inform you about the model is not defined yet. This is because the model class has not been set yet</p>\n",
    "</div>"
   ]
  },
  {
   "cell_type": "markdown",
   "metadata": {
    "pycharm": {
     "name": "#%% md\n"
    }
   },
   "source": [
    "### Setting The Argument Model Path (Special Case)\n",
    "The `model_path` is the path your model is saved as a python script. This argument should be used if your model class is defined in different directory as python script. However, the experiment also need to now your class name. You can set your class name as a `string` with `set_model_class`. Since it is a python script (module), class name will be used for importing operation at the back-end.\n",
    "\n",
    "```python\n",
    "exp.set_model_path(model_path='path/to/your/script.py')\n",
    "exp.set_model_class(model_class='ModelClassAsString')\n",
    "```"
   ]
  },
  {
   "cell_type": "markdown",
   "metadata": {},
   "source": [
    "### Setting Model and Training Arguments\n",
    "In the previous step, the model has been defined for your experiment. Now, you can define your model arguments and training arguments that will be used respectively for building your model class and training your model on the node side. The methods `set_model_args` and `set_training_args` of the experiment class will allow you to set these arguments.\n",
    "\n",
    "<div class=\"\">\n",
    "    <p>There isn't any requirement on the order of defining model class and mode/training arguments. It is also possible to\n",
    "        define model/training arguments first and model class after. \n",
    "    </p>    \n",
    "<div>\n"
   ]
  },
  {
   "cell_type": "code",
   "execution_count": 7,
   "metadata": {
    "pycharm": {
     "name": "#%%\n"
    },
    "scrolled": true
   },
   "outputs": [
    {
     "data": {
      "text/plain": [
       "scheme:\n",
       "{'optimizer_args': {'rules': [<class 'dict'>], 'required': True, 'default': {}}, 'batch_size': {'rules': [<class 'int'>], 'required': True, 'default': 48}, 'epochs': {'rules': [<class 'int'>], 'required': True, 'default': 1}, 'dry_run': {'rules': [<class 'bool'>], 'required': True, 'default': False}, 'batch_maxnum': {'rules': [<class 'int'>], 'required': True, 'default': 100}, 'test_ratio': {'rules': [<class 'float'>, <function TrainingArgs._test_ratio_hook at 0x7f9c9373baf0>], 'required': False, 'default': 0.0}, 'test_on_local_updates': {'rules': [<class 'bool'>], 'required': False, 'default': False}, 'test_on_global_updates': {'rules': [<class 'bool'>], 'required': False, 'default': False}, 'test_metric': {'rules': [<function TrainingArgs._metric_validation_hook at 0x7f9c9373b8b0>], 'required': False, 'default': None}, 'test_metric_args': {'rules': [<class 'dict'>], 'required': False, 'default': {}}, 'log_interval': {'rules': [<class 'int'>], 'required': False, 'default': 10}, 'fedprox_mu': {'rules': [<function TrainingArgs._fedprox_mu_validator at 0x7f9c9373b9d0>], 'required': False, 'default': None}, 'use_gpu': {'rules': [<class 'bool'>], 'required': False, 'default': False}}\n",
       "value:\n",
       "{'batch_size': 48, 'optimizer_args': {'lr': 0.001}, 'epochs': 1, 'dry_run': False, 'batch_maxnum': 100, 'test_ratio': 0.0, 'test_on_local_updates': False, 'test_on_global_updates': False, 'test_metric': None, 'test_metric_args': {}, 'log_interval': 10, 'fedprox_mu': None, 'use_gpu': False}"
      ]
     },
     "execution_count": 7,
     "metadata": {},
     "output_type": "execute_result"
    }
   ],
   "source": [
    "# Model arguments should be an empty Dict, since our model does not require \n",
    "# any argument for initialization\n",
    "model_args = {}\n",
    "\n",
    "# Training Arguments\n",
    "training_args = {\n",
    "    'batch_size': 48, \n",
    "    'optimizer_args': {\n",
    "        'lr': 1e-3, \n",
    "    },\n",
    "    'epochs': 1, \n",
    "    'dry_run': False,  \n",
    "    'batch_maxnum': 100 # Fast pass for development : only use ( batch_maxnum * batch_size ) samples\n",
    "}\n",
    "\n",
    "exp.set_model_args(model_args=model_args)\n",
    "exp.set_training_args(training_args=training_args)"
   ]
  },
  {
   "cell_type": "markdown",
   "metadata": {},
   "source": [
    "### Setting Tags"
   ]
  },
  {
   "cell_type": "markdown",
   "metadata": {},
   "source": [
    "The tags for the dataset search request can be set using `set_tags` method of experiment object. \n",
    "\n",
    "<br><div class=\"note\"><p>Setting tags does not mean sending dataset search request. Search request is sent while setting training data. `tags` is the argument that is required for the search request.</p></div>\n",
    "\n",
    "The arguments `tags` of `set_tags` method should be an array of tags which are in `string` type or just a tag in `string` type."
   ]
  },
  {
   "cell_type": "code",
   "execution_count": 8,
   "metadata": {},
   "outputs": [
    {
     "data": {
      "text/plain": [
       "['#MNIST', '#dataset']"
      ]
     },
     "execution_count": 8,
     "metadata": {},
     "output_type": "execute_result"
    }
   ],
   "source": [
    "tags = ['#MNIST', '#dataset']\n",
    "exp.set_tags(tags = tags)"
   ]
  },
  {
   "cell_type": "markdown",
   "metadata": {},
   "source": [
    "To see the tags that are set, you can run `tags()` method of experiment object. "
   ]
  },
  {
   "cell_type": "code",
   "execution_count": 9,
   "metadata": {},
   "outputs": [
    {
     "data": {
      "text/plain": [
       "['#MNIST', '#dataset']"
      ]
     },
     "execution_count": 9,
     "metadata": {},
     "output_type": "execute_result"
    }
   ],
   "source": [
    "exp.tags()"
   ]
  },
  {
   "cell_type": "markdown",
   "metadata": {},
   "source": [
    "### Setting Nodes\n",
    "The `nodes` arguments indicates the nodes that are going to be used for the experiment. By default, it is equal to `None` which means every node up and running will be part of the experiment as long as they have the dataset that is going to be used for training. If the `nodes` has been set in advance, the search request for the dataset search will be sent only the nodes that are indicated. You can set nodes using the method `set_nodes(noes=nodes)`. This method takes `nodes` argument which should be an array of node ids which are in `string` type or just a single node id as `string`.\n",
    "\n",
    "Since the node ids can change randomly, to make this notebook runnable in all environments, we won't be setting nodes for the experiment.\n"
   ]
  },
  {
   "cell_type": "markdown",
   "metadata": {},
   "source": [
    "### Setting Training Data\n",
    "Training data is a `FederatedDataset` instance which comes from the module `fedbiomed.researcher.datasets`. There are several ways to define your training data.\n",
    "\n",
    "1. You can run `set_training_data(training_data=None, from_tags=True)`. This will send search request to the nodes to get dataset information by using the `tags` which are defined before.\n",
    "2. You can provide `training_data` argument which is an instance of `FederatedDataSet`. \n",
    "3. You can provide `training_data` argument as python `dict` and setter will create a `FederatedDataSet` object by itself.\n",
    "\n",
    "<div class=\"note\"><p>While using the last option please make sure that your `dict` object is configured as coherent to `FederatedDataSet` schema. Otherwise, you might get error while running your experiment. </p></div>\n",
    "\n",
    "If you run `set_training_data(training_data=None)`. No training data is defined yet for the experiment (`training_data` is set to `None`).\n"
   ]
  },
  {
   "cell_type": "code",
   "execution_count": 10,
   "metadata": {},
   "outputs": [
    {
     "name": "stderr",
     "output_type": "stream",
     "text": [
      "2022-09-13 11:20:56,681 fedbiomed INFO - Searching dataset with data tags: ['#MNIST', '#dataset'] for all nodes\n",
      "2022-09-13 11:21:06,695 fedbiomed INFO - Node selected for training -> node_97621f4d-cef4-4a50-83e9-873c100efeb2\n"
     ]
    }
   ],
   "source": [
    "training_data = exp.set_training_data(training_data=None, from_tags=True)"
   ]
  },
  {
   "cell_type": "markdown",
   "metadata": {},
   "source": [
    "Since it will send search request to the nodes, the output will inform you about selected nodes for training. It means that those nodes have the dataset and able to train your model.\n",
    "\n",
    "`set_training_data` will return a `FederatedDataSet` object. You can either use the return value of the setter or the getter for training data which is `training_data()`."
   ]
  },
  {
   "cell_type": "code",
   "execution_count": 11,
   "metadata": {},
   "outputs": [],
   "source": [
    "training_data = exp.training_data()"
   ]
  },
  {
   "cell_type": "markdown",
   "metadata": {},
   "source": [
    "To inspect the result in detail you can call the method `data()` of the `FederatedDataSet` object. This will return a python dictionary that includes information about the datasets that has been found in the nodes. "
   ]
  },
  {
   "cell_type": "code",
   "execution_count": 12,
   "metadata": {},
   "outputs": [
    {
     "data": {
      "text/plain": [
       "{'node_97621f4d-cef4-4a50-83e9-873c100efeb2': [{'name': 'MNIST',\n",
       "   'data_type': 'default',\n",
       "   'tags': ['#MNIST', '#dataset'],\n",
       "   'description': 'MNIST database',\n",
       "   'shape': [60000, 1, 28, 28],\n",
       "   'dataset_id': 'dataset_22766be6-bee9-49fb-bddb-75c783b838ce',\n",
       "   'dtypes': [],\n",
       "   'dataset_parameters': None}]}"
      ]
     },
     "execution_count": 12,
     "metadata": {},
     "output_type": "execute_result"
    }
   ],
   "source": [
    "training_data.data()"
   ]
  },
  {
   "cell_type": "markdown",
   "metadata": {},
   "source": [
    "As it is mentioned before, setting training data once doesn't mean that you can't change it. You can create a new `FederatedDataSet` with a `dict` that includes the information about the datasets. This will allow you to select the datasets that will be used for federated training.\n",
    "\n",
    "<div class=\"note\"><p>Since the dataset information will be provided, there will be no need to send request to the nodes</p></div>"
   ]
  },
  {
   "cell_type": "code",
   "execution_count": 13,
   "metadata": {},
   "outputs": [
    {
     "data": {
      "text/plain": [
       "<fedbiomed.researcher.datasets.FederatedDataSet at 0x7f9c93603e50>"
      ]
     },
     "execution_count": 13,
     "metadata": {},
     "output_type": "execute_result"
    }
   ],
   "source": [
    "from fedbiomed.researcher.datasets import FederatedDataSet \n",
    "\n",
    "tr_data = training_data.data()\n",
    "federated_dataset = FederatedDataSet(tr_data)\n",
    "exp.set_training_data(training_data = federated_dataset)"
   ]
  },
  {
   "cell_type": "markdown",
   "metadata": {},
   "source": [
    "Or, you can directly use `tr_data` in `set_training_data()`"
   ]
  },
  {
   "cell_type": "code",
   "execution_count": 14,
   "metadata": {},
   "outputs": [
    {
     "data": {
      "text/plain": [
       "<fedbiomed.researcher.datasets.FederatedDataSet at 0x7f9d5847c640>"
      ]
     },
     "execution_count": 14,
     "metadata": {},
     "output_type": "execute_result"
    }
   ],
   "source": [
    "exp.set_training_data(training_data = tr_data)"
   ]
  },
  {
   "cell_type": "markdown",
   "metadata": {},
   "source": [
    "<div class=\"note\">\n",
    "    <p>\n",
    "        If you change the tags for the dataset by using <code>set_tags</code> and if there is already a defined training data in your experiment object, you have to update your training data by running <code>exp.set_training_data(training_data=None)</code>.  \n",
    "    </p>\n",
    "</div>"
   ]
  },
  {
   "cell_type": "markdown",
   "metadata": {},
   "source": [
    "### Setting an Aggregator  \n",
    "\n",
    "An aggregator is one of the required arguments for the experiment. It is used for aggregating model parameters that are received from the nodes after every round. By default, when the experiment is initialized without passing any aggregator, it will automatically use the default `FedAverage` aggregator class. However, it is also possible to set a different aggregation algorithm with the method `set_aggregator`. Currently, Fed-BioMed has only `FedAverage` but it is possible to create a custom aggregator classes.\n",
    "\n",
    "You can see the current aggregator by running `exp.aggregator()`. It will return the aggregator object that will be used for aggregation. "
   ]
  },
  {
   "cell_type": "code",
   "execution_count": 15,
   "metadata": {},
   "outputs": [
    {
     "data": {
      "text/plain": [
       "<fedbiomed.researcher.aggregators.fedavg.FedAverage at 0x7f9c935f9be0>"
      ]
     },
     "execution_count": 15,
     "metadata": {},
     "output_type": "execute_result"
    }
   ],
   "source": [
    "exp.aggregator()"
   ]
  },
  {
   "cell_type": "markdown",
   "metadata": {},
   "source": [
    "If we supposed that you have created your own aggregator, you can set it as follows,"
   ]
  },
  {
   "cell_type": "code",
   "execution_count": 16,
   "metadata": {},
   "outputs": [
    {
     "data": {
      "text/plain": [
       "<fedbiomed.researcher.aggregators.fedavg.FedAverage at 0x7f9d5847c040>"
      ]
     },
     "execution_count": 16,
     "metadata": {},
     "output_type": "execute_result"
    }
   ],
   "source": [
    "from fedbiomed.researcher.aggregators.fedavg import FedAverage\n",
    "exp.set_aggregator(aggregator=FedAverage)"
   ]
  },
  {
   "cell_type": "markdown",
   "metadata": {},
   "source": [
    "If your aggregator class needs initialization parameters, you can build your class and pass as an object ."
   ]
  },
  {
   "cell_type": "code",
   "execution_count": 17,
   "metadata": {},
   "outputs": [
    {
     "data": {
      "text/plain": [
       "<fedbiomed.researcher.aggregators.fedavg.FedAverage at 0x7f9c93603a00>"
      ]
     },
     "execution_count": 17,
     "metadata": {},
     "output_type": "execute_result"
    }
   ],
   "source": [
    "fed_average = FedAverage()\n",
    "exp.set_aggregator(aggregator=fed_average)"
   ]
  },
  {
   "cell_type": "markdown",
   "metadata": {},
   "source": [
    "### Setting Node Selection Strategy\n",
    "\n",
    "Node selection Strategy is also one of the required arguments for the experiment. It is used for selecting nodes before each round of training. Since the strategy will be used for selecting nodes, before setting the strategy, training data should be already set. Then, strategy will be able to which nodes are current with their dataset.\n",
    "\n",
    "By default, `set_strategy(node_selection_strategy=None)` will use the default `DefaultStrategy` class. It is default strategy that selects all the nodes available with their datasets at the moment. However, it is also possible to set different strategies. Currently, Fed-BioMed has only `DefaultStrategy` but you can create your custom strategy classes.\n",
    "\n"
   ]
  },
  {
   "cell_type": "code",
   "execution_count": 18,
   "metadata": {},
   "outputs": [
    {
     "data": {
      "text/plain": [
       "<fedbiomed.researcher.strategies.default_strategy.DefaultStrategy at 0x7f9d5847c2b0>"
      ]
     },
     "execution_count": 18,
     "metadata": {},
     "output_type": "execute_result"
    }
   ],
   "source": [
    "exp.set_strategy(node_selection_strategy=None)"
   ]
  },
  {
   "cell_type": "markdown",
   "metadata": {},
   "source": [
    "Or, you can directly pass `DefaultStrategy`"
   ]
  },
  {
   "cell_type": "code",
   "execution_count": 19,
   "metadata": {},
   "outputs": [
    {
     "data": {
      "text/plain": [
       "<fedbiomed.researcher.strategies.default_strategy.DefaultStrategy at 0x7f9d5847cd90>"
      ]
     },
     "execution_count": 19,
     "metadata": {},
     "output_type": "execute_result"
    }
   ],
   "source": [
    "from fedbiomed.researcher.strategies.default_strategy import DefaultStrategy\n",
    "exp.set_strategy(node_selection_strategy=DefaultStrategy)\n",
    "\n",
    "# To make the strategy has been set\n",
    "exp.strategy()"
   ]
  },
  {
   "cell_type": "markdown",
   "metadata": {},
   "source": [
    "### Setting Round Limit\n",
    "\n",
    "Round limit is the limit that indicates max number of rounds of the training. By default, it is `None` and it needs to be set before running your experiment. You can set the round limit with the method `set_round_limit`. Round limit can  be changed after running one or several rounds of training. You can always execute `exp.round_limit()` to see current round limit."
   ]
  },
  {
   "cell_type": "code",
   "execution_count": 20,
   "metadata": {},
   "outputs": [
    {
     "data": {
      "text/plain": [
       "2"
      ]
     },
     "execution_count": 20,
     "metadata": {},
     "output_type": "execute_result"
    }
   ],
   "source": [
    "exp.set_round_limit(round_limit=2)\n",
    "exp.round_limit()"
   ]
  },
  {
   "cell_type": "markdown",
   "metadata": {},
   "source": [
    "### Setting Job to Manage Federated Training Rounds\n",
    "\n",
    "Job is a class that manages federated training rounds. Before setting job, strategy for selecting nodes, model and training data should be set. Therefore, please make sure that they all defined before setting job.  The method `set_job` creates the Job instance and it does not take any argument. "
   ]
  },
  {
   "cell_type": "code",
   "execution_count": 21,
   "metadata": {},
   "outputs": [
    {
     "name": "stderr",
     "output_type": "stream",
     "text": [
      "2022-09-13 11:21:35,417 fedbiomed INFO - {'batch_maxnum': 100, 'fedprox_mu': None, 'log_interval': 10, 'dry_run': False, 'epochs': 1}\n",
      "2022-09-13 11:21:35,468 fedbiomed DEBUG - Model file has been saved: /home/scansiz/projects/fedbiomed-dev/fedbiomed/var/experiments/Experiment_0013/my_model_2f9794d9-7635-450f-9ea2-1940a86985f2.py\n",
      "2022-09-13 11:21:35,489 fedbiomed DEBUG - upload (HTTP POST request) of file /home/scansiz/projects/fedbiomed-dev/fedbiomed/var/experiments/Experiment_0013/my_model_2f9794d9-7635-450f-9ea2-1940a86985f2.py successful, with status code 201\n",
      "2022-09-13 11:21:35,673 fedbiomed DEBUG - upload (HTTP POST request) of file /home/scansiz/projects/fedbiomed-dev/fedbiomed/var/experiments/Experiment_0013/aggregated_params_init_d1834688-f35b-43cd-b5d5-d6a367f4ff02.pt successful, with status code 201\n"
     ]
    },
    {
     "data": {
      "text/plain": [
       "<fedbiomed.researcher.job.Job at 0x7f9c93603ac0>"
      ]
     },
     "execution_count": 21,
     "metadata": {},
     "output_type": "execute_result"
    }
   ],
   "source": [
    "exp.set_job()\n",
    "exp.job()"
   ]
  },
  {
   "cell_type": "markdown",
   "metadata": {},
   "source": [
    "### Controlling Experiment Status Before Starting Training Rounds\n",
    "Now, let's see if our experiment is ready for the training."
   ]
  },
  {
   "cell_type": "code",
   "execution_count": 22,
   "metadata": {},
   "outputs": [
    {
     "name": "stdout",
     "output_type": "stream",
     "text": [
      "Arguments            Values\n",
      "-------------------  ------------------------------------------------------------\n",
      "Tags                 ['#MNIST', '#dataset']\n",
      "Nodes filter         None\n",
      "Training Data        <fedbiomed.researcher.datasets.FederatedDataSet object at 0x\n",
      "                     7f9d5847c640>\n",
      "Aggregator           FedAverage\n",
      "Strategy             <fedbiomed.researcher.strategies.default_strategy.DefaultStr\n",
      "                     ategy object at 0x7f9d5847cd90>\n",
      "Job                  <fedbiomed.researcher.job.Job object at 0x7f9c93603ac0>\n",
      "Training Plan Path   None\n",
      "Training Plan Class  <class '__main__.MyTrainingPlan'>\n",
      "Model Arguments      {}\n",
      "Training Arguments   {'batch_size': 48, 'optimizer_args': {'lr': 0.001}, 'epochs'\n",
      "                     : 1, 'dry_run': False, 'batch_maxnum': 100, 'test_ratio': 0.\n",
      "                     0, 'test_on_local_updates': False, 'test_on_global_updates':\n",
      "                      False, 'test_metric': None, 'test_metric_args': {}, 'log_in\n",
      "                     terval': 10, 'fedprox_mu': None, 'use_gpu': False}\n",
      "Rounds already run   0\n",
      "Rounds total         2\n",
      "Experiment folder    Experiment_0013\n",
      "Experiment Path      /home/scansiz/projects/fedbiomed-dev/fedbiomed/var/experimen\n",
      "                     ts/Experiment_0013\n",
      "Breakpoint State     False\n",
      "\n",
      "Experiment can be run now (fully defined)\n"
     ]
    }
   ],
   "source": [
    "exp.info()"
   ]
  },
  {
   "cell_type": "markdown",
   "metadata": {},
   "source": [
    "If the experiment is ready, you will see the message that says `Experiment can be run now (fully defined)` at the bottom of the output. So now, we can run the experiment"
   ]
  },
  {
   "cell_type": "markdown",
   "metadata": {},
   "source": [
    "## Running The Experiment"
   ]
  },
  {
   "cell_type": "markdown",
   "metadata": {},
   "source": [
    "As long as `info()` says that the experiment is fully defined you will be able to run your experiment. Experiment has two methods  as `run()` and `run_once()` for running training rounds.\n",
    "\n",
    " - `run()` runs the experiment rounds from current round to round limit. If the round limit is reached it will indicate that the round limit has been reach. However, the method `run` takes to arguments as `round` and `increase`. \n",
    "    - `round` is an integer that indicates number of rounds that are going to be run. If the experiment is at round `0`, the round limit is `4`, and if you pass `round` as 3, it will run the experiment only for `3` rounds.\n",
    "    - `increase` is a boolean that indicates whether round limit should be increased if the given `round` pass over the round limit. For example, if the current round is `3`, the round limit is `4`, and the `round` argument is `2`, the experiment will increase round limit to `5`\n",
    "    \n",
    " - `run_once()` runs the experiment for single round of training. If the round limit is reached it will indicate that the round limit has been reach. However, if it is executed as `run_once(increase=True)` when the round limit is reach, it increases the round limit for one round."
   ]
  },
  {
   "cell_type": "code",
   "execution_count": 23,
   "metadata": {},
   "outputs": [
    {
     "name": "stderr",
     "output_type": "stream",
     "text": [
      "2022-09-13 11:21:45,977 fedbiomed INFO - Sampled nodes in round 0 ['node_97621f4d-cef4-4a50-83e9-873c100efeb2']\n",
      "2022-09-13 11:21:45,979 fedbiomed INFO - \u001b[1mSending request\u001b[0m \n",
      "\t\t\t\t\t\u001b[1m To\u001b[0m: node_97621f4d-cef4-4a50-83e9-873c100efeb2 \n",
      "\t\t\t\t\t\u001b[1m Request: \u001b[0m: Perform training with the arguments: {'researcher_id': 'researcher_2e0d74d9-4e02-4710-ad66-38fae6b2f290', 'job_id': '7e9a5c20-7b63-4c60-93c2-7116958829fa', 'training_args': scheme:\n",
      "{'optimizer_args': {'rules': [<class 'dict'>], 'required': True, 'default': {}}, 'batch_size': {'rules': [<class 'int'>], 'required': True, 'default': 48}, 'epochs': {'rules': [<class 'int'>], 'required': True, 'default': 1}, 'dry_run': {'rules': [<class 'bool'>], 'required': True, 'default': False}, 'batch_maxnum': {'rules': [<class 'int'>], 'required': True, 'default': 100}, 'test_ratio': {'rules': [<class 'float'>, <function TrainingArgs._test_ratio_hook at 0x7f9c9373baf0>], 'required': False, 'default': 0.0}, 'test_on_local_updates': {'rules': [<class 'bool'>], 'required': False, 'default': False}, 'test_on_global_updates': {'rules': [<class 'bool'>], 'required': False, 'default': False}, 'test_metric': {'rules': [<function TrainingArgs._metric_validation_hook at 0x7f9c9373b8b0>], 'required': False, 'default': None}, 'test_metric_args': {'rules': [<class 'dict'>], 'required': False, 'default': {}}, 'log_interval': {'rules': [<class 'int'>], 'required': False, 'default': 10}, 'fedprox_mu': {'rules': [<function TrainingArgs._fedprox_mu_validator at 0x7f9c9373b9d0>], 'required': False, 'default': None}, 'use_gpu': {'rules': [<class 'bool'>], 'required': False, 'default': False}}\n",
      "value:\n",
      "{'batch_size': 48, 'optimizer_args': {'lr': 0.001}, 'epochs': 1, 'dry_run': False, 'batch_maxnum': 100, 'test_ratio': 0.0, 'test_on_local_updates': False, 'test_on_global_updates': False, 'test_metric': None, 'test_metric_args': {}, 'log_interval': 10, 'fedprox_mu': None, 'use_gpu': False}, 'training': True, 'model_args': {}, 'command': 'train', 'training_plan_url': 'http://localhost:8844/media/uploads/2022/09/13/my_model_2f9794d9-7635-450f-9ea2-1940a86985f2.py', 'params_url': 'http://localhost:8844/media/uploads/2022/09/13/aggregated_params_init_d1834688-f35b-43cd-b5d5-d6a367f4ff02.pt', 'training_plan_class': 'MyTrainingPlan', 'training_data': {'node_97621f4d-cef4-4a50-83e9-873c100efeb2': ['dataset_22766be6-bee9-49fb-bddb-75c783b838ce']}} \n",
      " -----------------------------------------------------------------\n",
      "2022-09-13 11:21:45,979 fedbiomed DEBUG - researcher_2e0d74d9-4e02-4710-ad66-38fae6b2f290\n",
      "2022-09-13 11:21:46,013 fedbiomed INFO - \u001b[1mINFO\u001b[0m\n",
      "\t\t\t\t\t\u001b[1m NODE\u001b[0m node_97621f4d-cef4-4a50-83e9-873c100efeb2\n",
      "\t\t\t\t\t\u001b[1m MESSAGE:\u001b[0m {'batch_maxnum': 100, 'fedprox_mu': None, 'log_interval': 10, 'dry_run': False, 'epochs': 1}\u001b[0m\n",
      "-----------------------------------------------------------------\n",
      "2022-09-13 11:21:46,023 fedbiomed INFO - \u001b[1mWARNING\u001b[0m\n",
      "\t\t\t\t\t\u001b[1m NODE\u001b[0m node_97621f4d-cef4-4a50-83e9-873c100efeb2\n",
      "\t\t\t\t\t\u001b[1m MESSAGE:\u001b[0m There is no validation activated for the round. Please set flag for `test_on_global_updates`, `test_on_local_updates`, or both. Splitting dataset for validation will be ignored\u001b[0m\n",
      "-----------------------------------------------------------------\n",
      "2022-09-13 11:21:46,804 fedbiomed INFO - \u001b[1mTRAINING\u001b[0m \n",
      "\t\t\t\t\t NODE_ID: node_97621f4d-cef4-4a50-83e9-873c100efeb2 \n",
      "\t\t\t\t\t Epoch: 1 | Completed: 480/60000 (1%) \n",
      " \t\t\t\t\t Loss: \u001b[1m1.374584\u001b[0m \n",
      "\t\t\t\t\t ---------\n",
      "2022-09-13 11:21:47,382 fedbiomed INFO - \u001b[1mTRAINING\u001b[0m \n",
      "\t\t\t\t\t NODE_ID: node_97621f4d-cef4-4a50-83e9-873c100efeb2 \n",
      "\t\t\t\t\t Epoch: 1 | Completed: 960/60000 (2%) \n",
      " \t\t\t\t\t Loss: \u001b[1m1.118988\u001b[0m \n",
      "\t\t\t\t\t ---------\n",
      "2022-09-13 11:21:48,061 fedbiomed INFO - \u001b[1mTRAINING\u001b[0m \n",
      "\t\t\t\t\t NODE_ID: node_97621f4d-cef4-4a50-83e9-873c100efeb2 \n",
      "\t\t\t\t\t Epoch: 1 | Completed: 1440/60000 (2%) \n",
      " \t\t\t\t\t Loss: \u001b[1m0.524349\u001b[0m \n",
      "\t\t\t\t\t ---------\n",
      "2022-09-13 11:21:48,714 fedbiomed INFO - \u001b[1mTRAINING\u001b[0m \n",
      "\t\t\t\t\t NODE_ID: node_97621f4d-cef4-4a50-83e9-873c100efeb2 \n",
      "\t\t\t\t\t Epoch: 1 | Completed: 1920/60000 (3%) \n",
      " \t\t\t\t\t Loss: \u001b[1m0.471408\u001b[0m \n",
      "\t\t\t\t\t ---------\n",
      "2022-09-13 11:21:49,232 fedbiomed INFO - \u001b[1mTRAINING\u001b[0m \n",
      "\t\t\t\t\t NODE_ID: node_97621f4d-cef4-4a50-83e9-873c100efeb2 \n",
      "\t\t\t\t\t Epoch: 1 | Completed: 2400/60000 (4%) \n",
      " \t\t\t\t\t Loss: \u001b[1m0.321693\u001b[0m \n",
      "\t\t\t\t\t ---------\n",
      "2022-09-13 11:21:49,716 fedbiomed INFO - \u001b[1mTRAINING\u001b[0m \n",
      "\t\t\t\t\t NODE_ID: node_97621f4d-cef4-4a50-83e9-873c100efeb2 \n",
      "\t\t\t\t\t Epoch: 1 | Completed: 2880/60000 (5%) \n",
      " \t\t\t\t\t Loss: \u001b[1m0.232996\u001b[0m \n",
      "\t\t\t\t\t ---------\n",
      "2022-09-13 11:21:50,381 fedbiomed INFO - \u001b[1mTRAINING\u001b[0m \n",
      "\t\t\t\t\t NODE_ID: node_97621f4d-cef4-4a50-83e9-873c100efeb2 \n",
      "\t\t\t\t\t Epoch: 1 | Completed: 3360/60000 (6%) \n",
      " \t\t\t\t\t Loss: \u001b[1m0.472947\u001b[0m \n",
      "\t\t\t\t\t ---------\n",
      "2022-09-13 11:21:50,963 fedbiomed INFO - \u001b[1mTRAINING\u001b[0m \n",
      "\t\t\t\t\t NODE_ID: node_97621f4d-cef4-4a50-83e9-873c100efeb2 \n",
      "\t\t\t\t\t Epoch: 1 | Completed: 3840/60000 (6%) \n",
      " \t\t\t\t\t Loss: \u001b[1m0.321301\u001b[0m \n",
      "\t\t\t\t\t ---------\n",
      "2022-09-13 11:21:51,511 fedbiomed INFO - \u001b[1mTRAINING\u001b[0m \n",
      "\t\t\t\t\t NODE_ID: node_97621f4d-cef4-4a50-83e9-873c100efeb2 \n",
      "\t\t\t\t\t Epoch: 1 | Completed: 4320/60000 (7%) \n",
      " \t\t\t\t\t Loss: \u001b[1m0.365438\u001b[0m \n",
      "\t\t\t\t\t ---------\n",
      "2022-09-13 11:21:52,165 fedbiomed INFO - \u001b[1mTRAINING\u001b[0m \n",
      "\t\t\t\t\t NODE_ID: node_97621f4d-cef4-4a50-83e9-873c100efeb2 \n",
      "\t\t\t\t\t Epoch: 1 | Completed: 4800/60000 (8%) \n",
      " \t\t\t\t\t Loss: \u001b[1m0.334444\u001b[0m \n",
      "\t\t\t\t\t ---------\n",
      "2022-09-13 11:21:52,167 fedbiomed INFO - \u001b[1mINFO\u001b[0m\n",
      "\t\t\t\t\t\u001b[1m NODE\u001b[0m node_97621f4d-cef4-4a50-83e9-873c100efeb2\n",
      "\t\t\t\t\t\u001b[1m MESSAGE:\u001b[0m Reached 100 batches for this epoch, ignore remaining data\u001b[0m\n",
      "-----------------------------------------------------------------\n",
      "2022-09-13 11:21:52,377 fedbiomed INFO - \u001b[1mINFO\u001b[0m\n",
      "\t\t\t\t\t\u001b[1m NODE\u001b[0m node_97621f4d-cef4-4a50-83e9-873c100efeb2\n",
      "\t\t\t\t\t\u001b[1m MESSAGE:\u001b[0m results uploaded successfully \u001b[0m\n",
      "-----------------------------------------------------------------\n",
      "2022-09-13 11:22:00,997 fedbiomed INFO - Downloading model params after training on node_97621f4d-cef4-4a50-83e9-873c100efeb2 - from http://localhost:8844/media/uploads/2022/09/13/node_params_66cae443-e652-4b93-afc8-84430d341678.pt\n",
      "2022-09-13 11:22:01,036 fedbiomed DEBUG - upload (HTTP GET request) of file node_params_48c3a42f-b371-4cc5-b0a0-8942668af0df.pt successful, with status code 200\n",
      "2022-09-13 11:22:01,048 fedbiomed INFO - Nodes that successfully reply in round 0 ['node_97621f4d-cef4-4a50-83e9-873c100efeb2']\n",
      "2022-09-13 11:22:01,279 fedbiomed DEBUG - upload (HTTP POST request) of file /home/scansiz/projects/fedbiomed-dev/fedbiomed/var/experiments/Experiment_0013/aggregated_params_dce52315-23d4-46db-a084-01aa8834b51c.pt successful, with status code 201\n",
      "2022-09-13 11:22:01,280 fedbiomed INFO - Saved aggregated params for round 0 in /home/scansiz/projects/fedbiomed-dev/fedbiomed/var/experiments/Experiment_0013/aggregated_params_dce52315-23d4-46db-a084-01aa8834b51c.pt\n"
     ]
    },
    {
     "data": {
      "text/plain": [
       "1"
      ]
     },
     "execution_count": 23,
     "metadata": {},
     "output_type": "execute_result"
    }
   ],
   "source": [
    "exp.run_once()"
   ]
  },
  {
   "cell_type": "markdown",
   "metadata": {},
   "source": [
    "After running the experiment for once, you can check the current round. It returns `1` which means only one round has been run."
   ]
  },
  {
   "cell_type": "code",
   "execution_count": 24,
   "metadata": {
    "scrolled": true
   },
   "outputs": [
    {
     "data": {
      "text/plain": [
       "1"
      ]
     },
     "execution_count": 24,
     "metadata": {},
     "output_type": "execute_result"
    }
   ],
   "source": [
    "exp.round_current()"
   ]
  },
  {
   "cell_type": "markdown",
   "metadata": {},
   "source": [
    "Now, let's run the experiment with `run_once()` again. "
   ]
  },
  {
   "cell_type": "code",
   "execution_count": 25,
   "metadata": {
    "pycharm": {
     "name": "#%%\n"
    },
    "scrolled": false
   },
   "outputs": [
    {
     "name": "stderr",
     "output_type": "stream",
     "text": [
      "2022-09-13 11:22:01,300 fedbiomed INFO - Sampled nodes in round 1 ['node_97621f4d-cef4-4a50-83e9-873c100efeb2']\n",
      "2022-09-13 11:22:01,301 fedbiomed INFO - \u001b[1mSending request\u001b[0m \n",
      "\t\t\t\t\t\u001b[1m To\u001b[0m: node_97621f4d-cef4-4a50-83e9-873c100efeb2 \n",
      "\t\t\t\t\t\u001b[1m Request: \u001b[0m: Perform training with the arguments: {'researcher_id': 'researcher_2e0d74d9-4e02-4710-ad66-38fae6b2f290', 'job_id': '7e9a5c20-7b63-4c60-93c2-7116958829fa', 'training_args': scheme:\n",
      "{'optimizer_args': {'rules': [<class 'dict'>], 'required': True, 'default': {}}, 'batch_size': {'rules': [<class 'int'>], 'required': True, 'default': 48}, 'epochs': {'rules': [<class 'int'>], 'required': True, 'default': 1}, 'dry_run': {'rules': [<class 'bool'>], 'required': True, 'default': False}, 'batch_maxnum': {'rules': [<class 'int'>], 'required': True, 'default': 100}, 'test_ratio': {'rules': [<class 'float'>, <function TrainingArgs._test_ratio_hook at 0x7f9c9373baf0>], 'required': False, 'default': 0.0}, 'test_on_local_updates': {'rules': [<class 'bool'>], 'required': False, 'default': False}, 'test_on_global_updates': {'rules': [<class 'bool'>], 'required': False, 'default': False}, 'test_metric': {'rules': [<function TrainingArgs._metric_validation_hook at 0x7f9c9373b8b0>], 'required': False, 'default': None}, 'test_metric_args': {'rules': [<class 'dict'>], 'required': False, 'default': {}}, 'log_interval': {'rules': [<class 'int'>], 'required': False, 'default': 10}, 'fedprox_mu': {'rules': [<function TrainingArgs._fedprox_mu_validator at 0x7f9c9373b9d0>], 'required': False, 'default': None}, 'use_gpu': {'rules': [<class 'bool'>], 'required': False, 'default': False}}\n",
      "value:\n",
      "{'batch_size': 48, 'optimizer_args': {'lr': 0.001}, 'epochs': 1, 'dry_run': False, 'batch_maxnum': 100, 'test_ratio': 0.0, 'test_on_local_updates': False, 'test_on_global_updates': False, 'test_metric': None, 'test_metric_args': {}, 'log_interval': 10, 'fedprox_mu': None, 'use_gpu': False}, 'training': True, 'model_args': {}, 'command': 'train', 'training_plan_url': 'http://localhost:8844/media/uploads/2022/09/13/my_model_2f9794d9-7635-450f-9ea2-1940a86985f2.py', 'params_url': 'http://localhost:8844/media/uploads/2022/09/13/aggregated_params_dce52315-23d4-46db-a084-01aa8834b51c.pt', 'training_plan_class': 'MyTrainingPlan', 'training_data': {'node_97621f4d-cef4-4a50-83e9-873c100efeb2': ['dataset_22766be6-bee9-49fb-bddb-75c783b838ce']}} \n",
      " -----------------------------------------------------------------\n",
      "2022-09-13 11:22:01,301 fedbiomed DEBUG - researcher_2e0d74d9-4e02-4710-ad66-38fae6b2f290\n",
      "2022-09-13 11:22:01,334 fedbiomed INFO - \u001b[1mINFO\u001b[0m\n",
      "\t\t\t\t\t\u001b[1m NODE\u001b[0m node_97621f4d-cef4-4a50-83e9-873c100efeb2\n",
      "\t\t\t\t\t\u001b[1m MESSAGE:\u001b[0m {'batch_maxnum': 100, 'fedprox_mu': None, 'log_interval': 10, 'dry_run': False, 'epochs': 1}\u001b[0m\n",
      "-----------------------------------------------------------------\n",
      "2022-09-13 11:22:01,352 fedbiomed INFO - \u001b[1mWARNING\u001b[0m\n",
      "\t\t\t\t\t\u001b[1m NODE\u001b[0m node_97621f4d-cef4-4a50-83e9-873c100efeb2\n",
      "\t\t\t\t\t\u001b[1m MESSAGE:\u001b[0m There is no validation activated for the round. Please set flag for `test_on_global_updates`, `test_on_local_updates`, or both. Splitting dataset for validation will be ignored\u001b[0m\n",
      "-----------------------------------------------------------------\n",
      "2022-09-13 11:22:01,896 fedbiomed INFO - \u001b[1mTRAINING\u001b[0m \n",
      "\t\t\t\t\t NODE_ID: node_97621f4d-cef4-4a50-83e9-873c100efeb2 \n",
      "\t\t\t\t\t Epoch: 1 | Completed: 480/60000 (1%) \n",
      " \t\t\t\t\t Loss: \u001b[1m0.532452\u001b[0m \n",
      "\t\t\t\t\t ---------\n",
      "2022-09-13 11:22:02,500 fedbiomed INFO - \u001b[1mTRAINING\u001b[0m \n",
      "\t\t\t\t\t NODE_ID: node_97621f4d-cef4-4a50-83e9-873c100efeb2 \n",
      "\t\t\t\t\t Epoch: 1 | Completed: 960/60000 (2%) \n",
      " \t\t\t\t\t Loss: \u001b[1m0.343436\u001b[0m \n",
      "\t\t\t\t\t ---------\n",
      "2022-09-13 11:22:03,143 fedbiomed INFO - \u001b[1mTRAINING\u001b[0m \n",
      "\t\t\t\t\t NODE_ID: node_97621f4d-cef4-4a50-83e9-873c100efeb2 \n",
      "\t\t\t\t\t Epoch: 1 | Completed: 1440/60000 (2%) \n",
      " \t\t\t\t\t Loss: \u001b[1m0.314555\u001b[0m \n",
      "\t\t\t\t\t ---------\n",
      "2022-09-13 11:22:03,739 fedbiomed INFO - \u001b[1mTRAINING\u001b[0m \n",
      "\t\t\t\t\t NODE_ID: node_97621f4d-cef4-4a50-83e9-873c100efeb2 \n",
      "\t\t\t\t\t Epoch: 1 | Completed: 1920/60000 (3%) \n",
      " \t\t\t\t\t Loss: \u001b[1m0.338980\u001b[0m \n",
      "\t\t\t\t\t ---------\n",
      "2022-09-13 11:22:04,328 fedbiomed INFO - \u001b[1mTRAINING\u001b[0m \n",
      "\t\t\t\t\t NODE_ID: node_97621f4d-cef4-4a50-83e9-873c100efeb2 \n",
      "\t\t\t\t\t Epoch: 1 | Completed: 2400/60000 (4%) \n",
      " \t\t\t\t\t Loss: \u001b[1m0.165427\u001b[0m \n",
      "\t\t\t\t\t ---------\n",
      "2022-09-13 11:22:04,915 fedbiomed INFO - \u001b[1mTRAINING\u001b[0m \n",
      "\t\t\t\t\t NODE_ID: node_97621f4d-cef4-4a50-83e9-873c100efeb2 \n",
      "\t\t\t\t\t Epoch: 1 | Completed: 2880/60000 (5%) \n",
      " \t\t\t\t\t Loss: \u001b[1m0.212394\u001b[0m \n",
      "\t\t\t\t\t ---------\n",
      "2022-09-13 11:22:05,453 fedbiomed INFO - \u001b[1mTRAINING\u001b[0m \n",
      "\t\t\t\t\t NODE_ID: node_97621f4d-cef4-4a50-83e9-873c100efeb2 \n",
      "\t\t\t\t\t Epoch: 1 | Completed: 3360/60000 (6%) \n",
      " \t\t\t\t\t Loss: \u001b[1m0.157731\u001b[0m \n",
      "\t\t\t\t\t ---------\n",
      "2022-09-13 11:22:06,063 fedbiomed INFO - \u001b[1mTRAINING\u001b[0m \n",
      "\t\t\t\t\t NODE_ID: node_97621f4d-cef4-4a50-83e9-873c100efeb2 \n",
      "\t\t\t\t\t Epoch: 1 | Completed: 3840/60000 (6%) \n",
      " \t\t\t\t\t Loss: \u001b[1m0.128871\u001b[0m \n",
      "\t\t\t\t\t ---------\n",
      "2022-09-13 11:22:06,577 fedbiomed INFO - \u001b[1mTRAINING\u001b[0m \n",
      "\t\t\t\t\t NODE_ID: node_97621f4d-cef4-4a50-83e9-873c100efeb2 \n",
      "\t\t\t\t\t Epoch: 1 | Completed: 4320/60000 (7%) \n",
      " \t\t\t\t\t Loss: \u001b[1m0.048681\u001b[0m \n",
      "\t\t\t\t\t ---------\n",
      "2022-09-13 11:22:07,084 fedbiomed INFO - \u001b[1mTRAINING\u001b[0m \n",
      "\t\t\t\t\t NODE_ID: node_97621f4d-cef4-4a50-83e9-873c100efeb2 \n",
      "\t\t\t\t\t Epoch: 1 | Completed: 4800/60000 (8%) \n",
      " \t\t\t\t\t Loss: \u001b[1m0.507469\u001b[0m \n",
      "\t\t\t\t\t ---------\n",
      "2022-09-13 11:22:07,085 fedbiomed INFO - \u001b[1mINFO\u001b[0m\n",
      "\t\t\t\t\t\u001b[1m NODE\u001b[0m node_97621f4d-cef4-4a50-83e9-873c100efeb2\n",
      "\t\t\t\t\t\u001b[1m MESSAGE:\u001b[0m Reached 100 batches for this epoch, ignore remaining data\u001b[0m\n",
      "-----------------------------------------------------------------\n",
      "2022-09-13 11:22:07,259 fedbiomed INFO - \u001b[1mINFO\u001b[0m\n",
      "\t\t\t\t\t\u001b[1m NODE\u001b[0m node_97621f4d-cef4-4a50-83e9-873c100efeb2\n",
      "\t\t\t\t\t\u001b[1m MESSAGE:\u001b[0m results uploaded successfully \u001b[0m\n",
      "-----------------------------------------------------------------\n",
      "2022-09-13 11:22:16,318 fedbiomed INFO - Downloading model params after training on node_97621f4d-cef4-4a50-83e9-873c100efeb2 - from http://localhost:8844/media/uploads/2022/09/13/node_params_887221ec-6668-43dd-b366-68e2cd102697.pt\n",
      "2022-09-13 11:22:16,346 fedbiomed DEBUG - upload (HTTP GET request) of file node_params_a0f72034-694f-4706-8364-d1b7202c9256.pt successful, with status code 200\n",
      "2022-09-13 11:22:16,355 fedbiomed INFO - Nodes that successfully reply in round 1 ['node_97621f4d-cef4-4a50-83e9-873c100efeb2']\n",
      "2022-09-13 11:22:16,580 fedbiomed DEBUG - upload (HTTP POST request) of file /home/scansiz/projects/fedbiomed-dev/fedbiomed/var/experiments/Experiment_0013/aggregated_params_a1cba9bd-ca1d-4936-91b0-55041d147cb5.pt successful, with status code 201\n",
      "2022-09-13 11:22:16,581 fedbiomed INFO - Saved aggregated params for round 1 in /home/scansiz/projects/fedbiomed-dev/fedbiomed/var/experiments/Experiment_0013/aggregated_params_a1cba9bd-ca1d-4936-91b0-55041d147cb5.pt\n"
     ]
    },
    {
     "data": {
      "text/plain": [
       "1"
      ]
     },
     "execution_count": 25,
     "metadata": {},
     "output_type": "execute_result"
    }
   ],
   "source": [
    "exp.run_once()"
   ]
  },
  {
   "cell_type": "markdown",
   "metadata": {},
   "source": [
    "Since the round limit has been set to `2` the round limit had been reached. If you try to run `run()` or `run_once()` the experiment will indicate that the round limit has been reached."
   ]
  },
  {
   "cell_type": "code",
   "execution_count": 26,
   "metadata": {},
   "outputs": [
    {
     "name": "stderr",
     "output_type": "stream",
     "text": [
      "2022-09-13 11:22:16,588 fedbiomed WARNING - Round limit of 2 was reached, do nothing\n"
     ]
    },
    {
     "data": {
      "text/plain": [
       "0"
      ]
     },
     "execution_count": 26,
     "metadata": {},
     "output_type": "execute_result"
    }
   ],
   "source": [
    "exp.run_once()"
   ]
  },
  {
   "cell_type": "code",
   "execution_count": 27,
   "metadata": {},
   "outputs": [
    {
     "name": "stderr",
     "output_type": "stream",
     "text": [
      "2022-09-13 11:22:16,641 fedbiomed WARNING - Round limit of 2 already reached for this experiment, do nothing.\n"
     ]
    },
    {
     "data": {
      "text/plain": [
       "0"
      ]
     },
     "execution_count": 27,
     "metadata": {},
     "output_type": "execute_result"
    }
   ],
   "source": [
    "exp.run()"
   ]
  },
  {
   "cell_type": "markdown",
   "metadata": {},
   "source": [
    "After this point, if you would like to run the experiment you can increase round limit with `set_round_limit(round)`"
   ]
  },
  {
   "cell_type": "code",
   "execution_count": 28,
   "metadata": {},
   "outputs": [
    {
     "name": "stdout",
     "output_type": "stream",
     "text": [
      "Round Limit    :  4\n",
      "Current Round  :  2\n"
     ]
    }
   ],
   "source": [
    "exp.set_round_limit(4)\n",
    "print('Round Limit    : ' , exp.round_limit())\n",
    "print('Current Round  : ' , exp.round_current())"
   ]
  },
  {
   "cell_type": "markdown",
   "metadata": {},
   "source": [
    "The round limit of the experiment has been set to `4` and the completed number of rounds is `2`. It means if you run the experiment with method `run()` without passing any argument, it will run the experiment for `2` rounds."
   ]
  },
  {
   "cell_type": "code",
   "execution_count": 29,
   "metadata": {},
   "outputs": [
    {
     "name": "stderr",
     "output_type": "stream",
     "text": [
      "2022-09-13 11:22:16,695 fedbiomed INFO - Sampled nodes in round 2 ['node_97621f4d-cef4-4a50-83e9-873c100efeb2']\n",
      "2022-09-13 11:22:16,696 fedbiomed INFO - \u001b[1mSending request\u001b[0m \n",
      "\t\t\t\t\t\u001b[1m To\u001b[0m: node_97621f4d-cef4-4a50-83e9-873c100efeb2 \n",
      "\t\t\t\t\t\u001b[1m Request: \u001b[0m: Perform training with the arguments: {'researcher_id': 'researcher_2e0d74d9-4e02-4710-ad66-38fae6b2f290', 'job_id': '7e9a5c20-7b63-4c60-93c2-7116958829fa', 'training_args': scheme:\n",
      "{'optimizer_args': {'rules': [<class 'dict'>], 'required': True, 'default': {}}, 'batch_size': {'rules': [<class 'int'>], 'required': True, 'default': 48}, 'epochs': {'rules': [<class 'int'>], 'required': True, 'default': 1}, 'dry_run': {'rules': [<class 'bool'>], 'required': True, 'default': False}, 'batch_maxnum': {'rules': [<class 'int'>], 'required': True, 'default': 100}, 'test_ratio': {'rules': [<class 'float'>, <function TrainingArgs._test_ratio_hook at 0x7f9c9373baf0>], 'required': False, 'default': 0.0}, 'test_on_local_updates': {'rules': [<class 'bool'>], 'required': False, 'default': False}, 'test_on_global_updates': {'rules': [<class 'bool'>], 'required': False, 'default': False}, 'test_metric': {'rules': [<function TrainingArgs._metric_validation_hook at 0x7f9c9373b8b0>], 'required': False, 'default': None}, 'test_metric_args': {'rules': [<class 'dict'>], 'required': False, 'default': {}}, 'log_interval': {'rules': [<class 'int'>], 'required': False, 'default': 10}, 'fedprox_mu': {'rules': [<function TrainingArgs._fedprox_mu_validator at 0x7f9c9373b9d0>], 'required': False, 'default': None}, 'use_gpu': {'rules': [<class 'bool'>], 'required': False, 'default': False}}\n",
      "value:\n",
      "{'batch_size': 48, 'optimizer_args': {'lr': 0.001}, 'epochs': 1, 'dry_run': False, 'batch_maxnum': 100, 'test_ratio': 0.0, 'test_on_local_updates': False, 'test_on_global_updates': False, 'test_metric': None, 'test_metric_args': {}, 'log_interval': 10, 'fedprox_mu': None, 'use_gpu': False}, 'training': True, 'model_args': {}, 'command': 'train', 'training_plan_url': 'http://localhost:8844/media/uploads/2022/09/13/my_model_2f9794d9-7635-450f-9ea2-1940a86985f2.py', 'params_url': 'http://localhost:8844/media/uploads/2022/09/13/aggregated_params_a1cba9bd-ca1d-4936-91b0-55041d147cb5.pt', 'training_plan_class': 'MyTrainingPlan', 'training_data': {'node_97621f4d-cef4-4a50-83e9-873c100efeb2': ['dataset_22766be6-bee9-49fb-bddb-75c783b838ce']}} \n",
      " -----------------------------------------------------------------\n",
      "2022-09-13 11:22:16,697 fedbiomed DEBUG - researcher_2e0d74d9-4e02-4710-ad66-38fae6b2f290\n",
      "2022-09-13 11:22:16,722 fedbiomed INFO - \u001b[1mINFO\u001b[0m\n",
      "\t\t\t\t\t\u001b[1m NODE\u001b[0m node_97621f4d-cef4-4a50-83e9-873c100efeb2\n",
      "\t\t\t\t\t\u001b[1m MESSAGE:\u001b[0m {'batch_maxnum': 100, 'fedprox_mu': None, 'log_interval': 10, 'dry_run': False, 'epochs': 1}\u001b[0m\n",
      "-----------------------------------------------------------------\n",
      "2022-09-13 11:22:16,735 fedbiomed INFO - \u001b[1mWARNING\u001b[0m\n",
      "\t\t\t\t\t\u001b[1m NODE\u001b[0m node_97621f4d-cef4-4a50-83e9-873c100efeb2\n",
      "\t\t\t\t\t\u001b[1m MESSAGE:\u001b[0m There is no validation activated for the round. Please set flag for `test_on_global_updates`, `test_on_local_updates`, or both. Splitting dataset for validation will be ignored\u001b[0m\n",
      "-----------------------------------------------------------------\n",
      "2022-09-13 11:22:17,598 fedbiomed INFO - \u001b[1mTRAINING\u001b[0m \n",
      "\t\t\t\t\t NODE_ID: node_97621f4d-cef4-4a50-83e9-873c100efeb2 \n",
      "\t\t\t\t\t Epoch: 1 | Completed: 480/60000 (1%) \n",
      " \t\t\t\t\t Loss: \u001b[1m0.247001\u001b[0m \n",
      "\t\t\t\t\t ---------\n",
      "2022-09-13 11:22:18,138 fedbiomed INFO - \u001b[1mTRAINING\u001b[0m \n",
      "\t\t\t\t\t NODE_ID: node_97621f4d-cef4-4a50-83e9-873c100efeb2 \n",
      "\t\t\t\t\t Epoch: 1 | Completed: 960/60000 (2%) \n",
      " \t\t\t\t\t Loss: \u001b[1m0.448851\u001b[0m \n",
      "\t\t\t\t\t ---------\n",
      "2022-09-13 11:22:18,633 fedbiomed INFO - \u001b[1mTRAINING\u001b[0m \n",
      "\t\t\t\t\t NODE_ID: node_97621f4d-cef4-4a50-83e9-873c100efeb2 \n",
      "\t\t\t\t\t Epoch: 1 | Completed: 1440/60000 (2%) \n",
      " \t\t\t\t\t Loss: \u001b[1m0.277886\u001b[0m \n",
      "\t\t\t\t\t ---------\n",
      "2022-09-13 11:22:19,097 fedbiomed INFO - \u001b[1mTRAINING\u001b[0m \n",
      "\t\t\t\t\t NODE_ID: node_97621f4d-cef4-4a50-83e9-873c100efeb2 \n",
      "\t\t\t\t\t Epoch: 1 | Completed: 1920/60000 (3%) \n",
      " \t\t\t\t\t Loss: \u001b[1m0.193520\u001b[0m \n",
      "\t\t\t\t\t ---------\n",
      "2022-09-13 11:22:19,608 fedbiomed INFO - \u001b[1mTRAINING\u001b[0m \n",
      "\t\t\t\t\t NODE_ID: node_97621f4d-cef4-4a50-83e9-873c100efeb2 \n",
      "\t\t\t\t\t Epoch: 1 | Completed: 2400/60000 (4%) \n",
      " \t\t\t\t\t Loss: \u001b[1m0.207746\u001b[0m \n",
      "\t\t\t\t\t ---------\n",
      "2022-09-13 11:22:20,109 fedbiomed INFO - \u001b[1mTRAINING\u001b[0m \n",
      "\t\t\t\t\t NODE_ID: node_97621f4d-cef4-4a50-83e9-873c100efeb2 \n",
      "\t\t\t\t\t Epoch: 1 | Completed: 2880/60000 (5%) \n",
      " \t\t\t\t\t Loss: \u001b[1m0.185311\u001b[0m \n",
      "\t\t\t\t\t ---------\n",
      "2022-09-13 11:22:20,800 fedbiomed INFO - \u001b[1mTRAINING\u001b[0m \n",
      "\t\t\t\t\t NODE_ID: node_97621f4d-cef4-4a50-83e9-873c100efeb2 \n",
      "\t\t\t\t\t Epoch: 1 | Completed: 3360/60000 (6%) \n",
      " \t\t\t\t\t Loss: \u001b[1m0.390597\u001b[0m \n",
      "\t\t\t\t\t ---------\n",
      "2022-09-13 11:22:21,294 fedbiomed INFO - \u001b[1mTRAINING\u001b[0m \n",
      "\t\t\t\t\t NODE_ID: node_97621f4d-cef4-4a50-83e9-873c100efeb2 \n",
      "\t\t\t\t\t Epoch: 1 | Completed: 3840/60000 (6%) \n",
      " \t\t\t\t\t Loss: \u001b[1m0.134693\u001b[0m \n",
      "\t\t\t\t\t ---------\n",
      "2022-09-13 11:22:21,946 fedbiomed INFO - \u001b[1mTRAINING\u001b[0m \n",
      "\t\t\t\t\t NODE_ID: node_97621f4d-cef4-4a50-83e9-873c100efeb2 \n",
      "\t\t\t\t\t Epoch: 1 | Completed: 4320/60000 (7%) \n",
      " \t\t\t\t\t Loss: \u001b[1m0.053839\u001b[0m \n",
      "\t\t\t\t\t ---------\n",
      "2022-09-13 11:22:22,426 fedbiomed INFO - \u001b[1mTRAINING\u001b[0m \n",
      "\t\t\t\t\t NODE_ID: node_97621f4d-cef4-4a50-83e9-873c100efeb2 \n",
      "\t\t\t\t\t Epoch: 1 | Completed: 4800/60000 (8%) \n",
      " \t\t\t\t\t Loss: \u001b[1m0.077757\u001b[0m \n",
      "\t\t\t\t\t ---------\n",
      "2022-09-13 11:22:22,427 fedbiomed INFO - \u001b[1mINFO\u001b[0m\n",
      "\t\t\t\t\t\u001b[1m NODE\u001b[0m node_97621f4d-cef4-4a50-83e9-873c100efeb2\n",
      "\t\t\t\t\t\u001b[1m MESSAGE:\u001b[0m Reached 100 batches for this epoch, ignore remaining data\u001b[0m\n",
      "-----------------------------------------------------------------\n",
      "2022-09-13 11:22:22,598 fedbiomed INFO - \u001b[1mINFO\u001b[0m\n",
      "\t\t\t\t\t\u001b[1m NODE\u001b[0m node_97621f4d-cef4-4a50-83e9-873c100efeb2\n",
      "\t\t\t\t\t\u001b[1m MESSAGE:\u001b[0m results uploaded successfully \u001b[0m\n",
      "-----------------------------------------------------------------\n",
      "2022-09-13 11:22:31,745 fedbiomed INFO - Downloading model params after training on node_97621f4d-cef4-4a50-83e9-873c100efeb2 - from http://localhost:8844/media/uploads/2022/09/13/node_params_1d39c8bd-0394-4065-95e1-8664e926b452.pt\n",
      "2022-09-13 11:22:31,781 fedbiomed DEBUG - upload (HTTP GET request) of file node_params_87ac83cb-2738-4a1c-b2e0-719ddb73388a.pt successful, with status code 200\n",
      "2022-09-13 11:22:31,790 fedbiomed INFO - Nodes that successfully reply in round 2 ['node_97621f4d-cef4-4a50-83e9-873c100efeb2']\n",
      "2022-09-13 11:22:32,019 fedbiomed DEBUG - upload (HTTP POST request) of file /home/scansiz/projects/fedbiomed-dev/fedbiomed/var/experiments/Experiment_0013/aggregated_params_1acd4ff5-c448-477b-93df-da5100e10c8a.pt successful, with status code 201\n",
      "2022-09-13 11:22:32,022 fedbiomed INFO - Saved aggregated params for round 2 in /home/scansiz/projects/fedbiomed-dev/fedbiomed/var/experiments/Experiment_0013/aggregated_params_1acd4ff5-c448-477b-93df-da5100e10c8a.pt\n",
      "2022-09-13 11:22:32,025 fedbiomed INFO - Sampled nodes in round 3 ['node_97621f4d-cef4-4a50-83e9-873c100efeb2']\n",
      "2022-09-13 11:22:32,028 fedbiomed INFO - \u001b[1mSending request\u001b[0m \n",
      "\t\t\t\t\t\u001b[1m To\u001b[0m: node_97621f4d-cef4-4a50-83e9-873c100efeb2 \n",
      "\t\t\t\t\t\u001b[1m Request: \u001b[0m: Perform training with the arguments: {'researcher_id': 'researcher_2e0d74d9-4e02-4710-ad66-38fae6b2f290', 'job_id': '7e9a5c20-7b63-4c60-93c2-7116958829fa', 'training_args': scheme:\n",
      "{'optimizer_args': {'rules': [<class 'dict'>], 'required': True, 'default': {}}, 'batch_size': {'rules': [<class 'int'>], 'required': True, 'default': 48}, 'epochs': {'rules': [<class 'int'>], 'required': True, 'default': 1}, 'dry_run': {'rules': [<class 'bool'>], 'required': True, 'default': False}, 'batch_maxnum': {'rules': [<class 'int'>], 'required': True, 'default': 100}, 'test_ratio': {'rules': [<class 'float'>, <function TrainingArgs._test_ratio_hook at 0x7f9c9373baf0>], 'required': False, 'default': 0.0}, 'test_on_local_updates': {'rules': [<class 'bool'>], 'required': False, 'default': False}, 'test_on_global_updates': {'rules': [<class 'bool'>], 'required': False, 'default': False}, 'test_metric': {'rules': [<function TrainingArgs._metric_validation_hook at 0x7f9c9373b8b0>], 'required': False, 'default': None}, 'test_metric_args': {'rules': [<class 'dict'>], 'required': False, 'default': {}}, 'log_interval': {'rules': [<class 'int'>], 'required': False, 'default': 10}, 'fedprox_mu': {'rules': [<function TrainingArgs._fedprox_mu_validator at 0x7f9c9373b9d0>], 'required': False, 'default': None}, 'use_gpu': {'rules': [<class 'bool'>], 'required': False, 'default': False}}\n",
      "value:\n",
      "{'batch_size': 48, 'optimizer_args': {'lr': 0.001}, 'epochs': 1, 'dry_run': False, 'batch_maxnum': 100, 'test_ratio': 0.0, 'test_on_local_updates': False, 'test_on_global_updates': False, 'test_metric': None, 'test_metric_args': {}, 'log_interval': 10, 'fedprox_mu': None, 'use_gpu': False}, 'training': True, 'model_args': {}, 'command': 'train', 'training_plan_url': 'http://localhost:8844/media/uploads/2022/09/13/my_model_2f9794d9-7635-450f-9ea2-1940a86985f2.py', 'params_url': 'http://localhost:8844/media/uploads/2022/09/13/aggregated_params_1acd4ff5-c448-477b-93df-da5100e10c8a.pt', 'training_plan_class': 'MyTrainingPlan', 'training_data': {'node_97621f4d-cef4-4a50-83e9-873c100efeb2': ['dataset_22766be6-bee9-49fb-bddb-75c783b838ce']}} \n",
      " -----------------------------------------------------------------\n"
     ]
    },
    {
     "name": "stderr",
     "output_type": "stream",
     "text": [
      "2022-09-13 11:22:32,031 fedbiomed DEBUG - researcher_2e0d74d9-4e02-4710-ad66-38fae6b2f290\n",
      "2022-09-13 11:22:32,076 fedbiomed INFO - \u001b[1mINFO\u001b[0m\n",
      "\t\t\t\t\t\u001b[1m NODE\u001b[0m node_97621f4d-cef4-4a50-83e9-873c100efeb2\n",
      "\t\t\t\t\t\u001b[1m MESSAGE:\u001b[0m {'batch_maxnum': 100, 'fedprox_mu': None, 'log_interval': 10, 'dry_run': False, 'epochs': 1}\u001b[0m\n",
      "-----------------------------------------------------------------\n",
      "2022-09-13 11:22:32,091 fedbiomed INFO - \u001b[1mWARNING\u001b[0m\n",
      "\t\t\t\t\t\u001b[1m NODE\u001b[0m node_97621f4d-cef4-4a50-83e9-873c100efeb2\n",
      "\t\t\t\t\t\u001b[1m MESSAGE:\u001b[0m There is no validation activated for the round. Please set flag for `test_on_global_updates`, `test_on_local_updates`, or both. Splitting dataset for validation will be ignored\u001b[0m\n",
      "-----------------------------------------------------------------\n",
      "2022-09-13 11:22:32,663 fedbiomed INFO - \u001b[1mTRAINING\u001b[0m \n",
      "\t\t\t\t\t NODE_ID: node_97621f4d-cef4-4a50-83e9-873c100efeb2 \n",
      "\t\t\t\t\t Epoch: 1 | Completed: 480/60000 (1%) \n",
      " \t\t\t\t\t Loss: \u001b[1m0.177765\u001b[0m \n",
      "\t\t\t\t\t ---------\n",
      "2022-09-13 11:22:33,328 fedbiomed INFO - \u001b[1mTRAINING\u001b[0m \n",
      "\t\t\t\t\t NODE_ID: node_97621f4d-cef4-4a50-83e9-873c100efeb2 \n",
      "\t\t\t\t\t Epoch: 1 | Completed: 960/60000 (2%) \n",
      " \t\t\t\t\t Loss: \u001b[1m0.205161\u001b[0m \n",
      "\t\t\t\t\t ---------\n",
      "2022-09-13 11:22:33,907 fedbiomed INFO - \u001b[1mTRAINING\u001b[0m \n",
      "\t\t\t\t\t NODE_ID: node_97621f4d-cef4-4a50-83e9-873c100efeb2 \n",
      "\t\t\t\t\t Epoch: 1 | Completed: 1440/60000 (2%) \n",
      " \t\t\t\t\t Loss: \u001b[1m0.230150\u001b[0m \n",
      "\t\t\t\t\t ---------\n",
      "2022-09-13 11:22:34,688 fedbiomed INFO - \u001b[1mTRAINING\u001b[0m \n",
      "\t\t\t\t\t NODE_ID: node_97621f4d-cef4-4a50-83e9-873c100efeb2 \n",
      "\t\t\t\t\t Epoch: 1 | Completed: 1920/60000 (3%) \n",
      " \t\t\t\t\t Loss: \u001b[1m0.125594\u001b[0m \n",
      "\t\t\t\t\t ---------\n",
      "2022-09-13 11:22:35,334 fedbiomed INFO - \u001b[1mTRAINING\u001b[0m \n",
      "\t\t\t\t\t NODE_ID: node_97621f4d-cef4-4a50-83e9-873c100efeb2 \n",
      "\t\t\t\t\t Epoch: 1 | Completed: 2400/60000 (4%) \n",
      " \t\t\t\t\t Loss: \u001b[1m0.095606\u001b[0m \n",
      "\t\t\t\t\t ---------\n",
      "2022-09-13 11:22:35,973 fedbiomed INFO - \u001b[1mTRAINING\u001b[0m \n",
      "\t\t\t\t\t NODE_ID: node_97621f4d-cef4-4a50-83e9-873c100efeb2 \n",
      "\t\t\t\t\t Epoch: 1 | Completed: 2880/60000 (5%) \n",
      " \t\t\t\t\t Loss: \u001b[1m0.282519\u001b[0m \n",
      "\t\t\t\t\t ---------\n",
      "2022-09-13 11:22:36,559 fedbiomed INFO - \u001b[1mTRAINING\u001b[0m \n",
      "\t\t\t\t\t NODE_ID: node_97621f4d-cef4-4a50-83e9-873c100efeb2 \n",
      "\t\t\t\t\t Epoch: 1 | Completed: 3360/60000 (6%) \n",
      " \t\t\t\t\t Loss: \u001b[1m0.150598\u001b[0m \n",
      "\t\t\t\t\t ---------\n",
      "2022-09-13 11:22:37,148 fedbiomed INFO - \u001b[1mTRAINING\u001b[0m \n",
      "\t\t\t\t\t NODE_ID: node_97621f4d-cef4-4a50-83e9-873c100efeb2 \n",
      "\t\t\t\t\t Epoch: 1 | Completed: 3840/60000 (6%) \n",
      " \t\t\t\t\t Loss: \u001b[1m0.163054\u001b[0m \n",
      "\t\t\t\t\t ---------\n",
      "2022-09-13 11:22:37,711 fedbiomed INFO - \u001b[1mTRAINING\u001b[0m \n",
      "\t\t\t\t\t NODE_ID: node_97621f4d-cef4-4a50-83e9-873c100efeb2 \n",
      "\t\t\t\t\t Epoch: 1 | Completed: 4320/60000 (7%) \n",
      " \t\t\t\t\t Loss: \u001b[1m0.183723\u001b[0m \n",
      "\t\t\t\t\t ---------\n",
      "2022-09-13 11:22:38,223 fedbiomed INFO - \u001b[1mTRAINING\u001b[0m \n",
      "\t\t\t\t\t NODE_ID: node_97621f4d-cef4-4a50-83e9-873c100efeb2 \n",
      "\t\t\t\t\t Epoch: 1 | Completed: 4800/60000 (8%) \n",
      " \t\t\t\t\t Loss: \u001b[1m0.119681\u001b[0m \n",
      "\t\t\t\t\t ---------\n",
      "2022-09-13 11:22:38,224 fedbiomed INFO - \u001b[1mINFO\u001b[0m\n",
      "\t\t\t\t\t\u001b[1m NODE\u001b[0m node_97621f4d-cef4-4a50-83e9-873c100efeb2\n",
      "\t\t\t\t\t\u001b[1m MESSAGE:\u001b[0m Reached 100 batches for this epoch, ignore remaining data\u001b[0m\n",
      "-----------------------------------------------------------------\n",
      "2022-09-13 11:22:38,393 fedbiomed INFO - \u001b[1mINFO\u001b[0m\n",
      "\t\t\t\t\t\u001b[1m NODE\u001b[0m node_97621f4d-cef4-4a50-83e9-873c100efeb2\n",
      "\t\t\t\t\t\u001b[1m MESSAGE:\u001b[0m results uploaded successfully \u001b[0m\n",
      "-----------------------------------------------------------------\n",
      "2022-09-13 11:22:47,079 fedbiomed INFO - Downloading model params after training on node_97621f4d-cef4-4a50-83e9-873c100efeb2 - from http://localhost:8844/media/uploads/2022/09/13/node_params_2c6d0c94-748a-46c8-99c9-ea435d706f4b.pt\n",
      "2022-09-13 11:22:47,134 fedbiomed DEBUG - upload (HTTP GET request) of file node_params_8194f47c-9678-4fe2-a7d7-98525fbc5ed1.pt successful, with status code 200\n",
      "2022-09-13 11:22:47,144 fedbiomed INFO - Nodes that successfully reply in round 3 ['node_97621f4d-cef4-4a50-83e9-873c100efeb2']\n",
      "2022-09-13 11:22:47,325 fedbiomed DEBUG - upload (HTTP POST request) of file /home/scansiz/projects/fedbiomed-dev/fedbiomed/var/experiments/Experiment_0013/aggregated_params_3c259a13-fa76-47b2-bdfb-adfc66b1271f.pt successful, with status code 201\n",
      "2022-09-13 11:22:47,328 fedbiomed INFO - Saved aggregated params for round 3 in /home/scansiz/projects/fedbiomed-dev/fedbiomed/var/experiments/Experiment_0013/aggregated_params_3c259a13-fa76-47b2-bdfb-adfc66b1271f.pt\n"
     ]
    },
    {
     "data": {
      "text/plain": [
       "2"
      ]
     },
     "execution_count": 29,
     "metadata": {},
     "output_type": "execute_result"
    }
   ],
   "source": [
    "exp.run()"
   ]
  },
  {
   "cell_type": "markdown",
   "metadata": {},
   "source": [
    "Let's check the current round status of the experiment. "
   ]
  },
  {
   "cell_type": "code",
   "execution_count": 30,
   "metadata": {},
   "outputs": [
    {
     "name": "stdout",
     "output_type": "stream",
     "text": [
      "Round Limit    :  4\n",
      "Current Round  :  4\n"
     ]
    }
   ],
   "source": [
    "print('Round Limit    : ' , exp.round_limit())\n",
    "print('Current Round  : ' , exp.round_current())"
   ]
  },
  {
   "cell_type": "markdown",
   "metadata": {},
   "source": [
    "Another way to run our experiment if the round limit is reached is passing `rounds` to the method `run()`. For example, following cell will run the experiment for `2` more rounds."
   ]
  },
  {
   "cell_type": "code",
   "execution_count": null,
   "metadata": {},
   "outputs": [
    {
     "name": "stderr",
     "output_type": "stream",
     "text": [
      "2022-09-13 11:22:47,364 fedbiomed DEBUG - Auto increasing total rounds for experiment from 4 to 6\n",
      "2022-09-13 11:22:47,366 fedbiomed INFO - Sampled nodes in round 4 ['node_97621f4d-cef4-4a50-83e9-873c100efeb2']\n",
      "2022-09-13 11:22:47,367 fedbiomed INFO - \u001b[1mSending request\u001b[0m \n",
      "\t\t\t\t\t\u001b[1m To\u001b[0m: node_97621f4d-cef4-4a50-83e9-873c100efeb2 \n",
      "\t\t\t\t\t\u001b[1m Request: \u001b[0m: Perform training with the arguments: {'researcher_id': 'researcher_2e0d74d9-4e02-4710-ad66-38fae6b2f290', 'job_id': '7e9a5c20-7b63-4c60-93c2-7116958829fa', 'training_args': scheme:\n",
      "{'optimizer_args': {'rules': [<class 'dict'>], 'required': True, 'default': {}}, 'batch_size': {'rules': [<class 'int'>], 'required': True, 'default': 48}, 'epochs': {'rules': [<class 'int'>], 'required': True, 'default': 1}, 'dry_run': {'rules': [<class 'bool'>], 'required': True, 'default': False}, 'batch_maxnum': {'rules': [<class 'int'>], 'required': True, 'default': 100}, 'test_ratio': {'rules': [<class 'float'>, <function TrainingArgs._test_ratio_hook at 0x7f9c9373baf0>], 'required': False, 'default': 0.0}, 'test_on_local_updates': {'rules': [<class 'bool'>], 'required': False, 'default': False}, 'test_on_global_updates': {'rules': [<class 'bool'>], 'required': False, 'default': False}, 'test_metric': {'rules': [<function TrainingArgs._metric_validation_hook at 0x7f9c9373b8b0>], 'required': False, 'default': None}, 'test_metric_args': {'rules': [<class 'dict'>], 'required': False, 'default': {}}, 'log_interval': {'rules': [<class 'int'>], 'required': False, 'default': 10}, 'fedprox_mu': {'rules': [<function TrainingArgs._fedprox_mu_validator at 0x7f9c9373b9d0>], 'required': False, 'default': None}, 'use_gpu': {'rules': [<class 'bool'>], 'required': False, 'default': False}}\n",
      "value:\n",
      "{'batch_size': 48, 'optimizer_args': {'lr': 0.001}, 'epochs': 1, 'dry_run': False, 'batch_maxnum': 100, 'test_ratio': 0.0, 'test_on_local_updates': False, 'test_on_global_updates': False, 'test_metric': None, 'test_metric_args': {}, 'log_interval': 10, 'fedprox_mu': None, 'use_gpu': False}, 'training': True, 'model_args': {}, 'command': 'train', 'training_plan_url': 'http://localhost:8844/media/uploads/2022/09/13/my_model_2f9794d9-7635-450f-9ea2-1940a86985f2.py', 'params_url': 'http://localhost:8844/media/uploads/2022/09/13/aggregated_params_3c259a13-fa76-47b2-bdfb-adfc66b1271f.pt', 'training_plan_class': 'MyTrainingPlan', 'training_data': {'node_97621f4d-cef4-4a50-83e9-873c100efeb2': ['dataset_22766be6-bee9-49fb-bddb-75c783b838ce']}} \n",
      " -----------------------------------------------------------------\n",
      "2022-09-13 11:22:47,369 fedbiomed DEBUG - researcher_2e0d74d9-4e02-4710-ad66-38fae6b2f290\n",
      "2022-09-13 11:22:47,399 fedbiomed INFO - \u001b[1mINFO\u001b[0m\n",
      "\t\t\t\t\t\u001b[1m NODE\u001b[0m node_97621f4d-cef4-4a50-83e9-873c100efeb2\n",
      "\t\t\t\t\t\u001b[1m MESSAGE:\u001b[0m {'batch_maxnum': 100, 'fedprox_mu': None, 'log_interval': 10, 'dry_run': False, 'epochs': 1}\u001b[0m\n",
      "-----------------------------------------------------------------\n",
      "2022-09-13 11:22:47,415 fedbiomed INFO - \u001b[1mWARNING\u001b[0m\n",
      "\t\t\t\t\t\u001b[1m NODE\u001b[0m node_97621f4d-cef4-4a50-83e9-873c100efeb2\n",
      "\t\t\t\t\t\u001b[1m MESSAGE:\u001b[0m There is no validation activated for the round. Please set flag for `test_on_global_updates`, `test_on_local_updates`, or both. Splitting dataset for validation will be ignored\u001b[0m\n",
      "-----------------------------------------------------------------\n",
      "2022-09-13 11:22:47,983 fedbiomed INFO - \u001b[1mTRAINING\u001b[0m \n",
      "\t\t\t\t\t NODE_ID: node_97621f4d-cef4-4a50-83e9-873c100efeb2 \n",
      "\t\t\t\t\t Epoch: 1 | Completed: 480/60000 (1%) \n",
      " \t\t\t\t\t Loss: \u001b[1m0.139617\u001b[0m \n",
      "\t\t\t\t\t ---------\n",
      "2022-09-13 11:22:48,515 fedbiomed INFO - \u001b[1mTRAINING\u001b[0m \n",
      "\t\t\t\t\t NODE_ID: node_97621f4d-cef4-4a50-83e9-873c100efeb2 \n",
      "\t\t\t\t\t Epoch: 1 | Completed: 960/60000 (2%) \n",
      " \t\t\t\t\t Loss: \u001b[1m0.280963\u001b[0m \n",
      "\t\t\t\t\t ---------\n",
      "2022-09-13 11:22:49,113 fedbiomed INFO - \u001b[1mTRAINING\u001b[0m \n",
      "\t\t\t\t\t NODE_ID: node_97621f4d-cef4-4a50-83e9-873c100efeb2 \n",
      "\t\t\t\t\t Epoch: 1 | Completed: 1440/60000 (2%) \n",
      " \t\t\t\t\t Loss: \u001b[1m0.059960\u001b[0m \n",
      "\t\t\t\t\t ---------\n",
      "2022-09-13 11:22:49,810 fedbiomed INFO - \u001b[1mTRAINING\u001b[0m \n",
      "\t\t\t\t\t NODE_ID: node_97621f4d-cef4-4a50-83e9-873c100efeb2 \n",
      "\t\t\t\t\t Epoch: 1 | Completed: 1920/60000 (3%) \n",
      " \t\t\t\t\t Loss: \u001b[1m0.149443\u001b[0m \n",
      "\t\t\t\t\t ---------\n",
      "2022-09-13 11:22:50,302 fedbiomed INFO - \u001b[1mTRAINING\u001b[0m \n",
      "\t\t\t\t\t NODE_ID: node_97621f4d-cef4-4a50-83e9-873c100efeb2 \n",
      "\t\t\t\t\t Epoch: 1 | Completed: 2400/60000 (4%) \n",
      " \t\t\t\t\t Loss: \u001b[1m0.210759\u001b[0m \n",
      "\t\t\t\t\t ---------\n",
      "2022-09-13 11:22:50,799 fedbiomed INFO - \u001b[1mTRAINING\u001b[0m \n",
      "\t\t\t\t\t NODE_ID: node_97621f4d-cef4-4a50-83e9-873c100efeb2 \n",
      "\t\t\t\t\t Epoch: 1 | Completed: 2880/60000 (5%) \n",
      " \t\t\t\t\t Loss: \u001b[1m0.072101\u001b[0m \n",
      "\t\t\t\t\t ---------\n",
      "2022-09-13 11:22:51,316 fedbiomed INFO - \u001b[1mTRAINING\u001b[0m \n",
      "\t\t\t\t\t NODE_ID: node_97621f4d-cef4-4a50-83e9-873c100efeb2 \n",
      "\t\t\t\t\t Epoch: 1 | Completed: 3360/60000 (6%) \n",
      " \t\t\t\t\t Loss: \u001b[1m0.130560\u001b[0m \n",
      "\t\t\t\t\t ---------\n",
      "2022-09-13 11:22:51,820 fedbiomed INFO - \u001b[1mTRAINING\u001b[0m \n",
      "\t\t\t\t\t NODE_ID: node_97621f4d-cef4-4a50-83e9-873c100efeb2 \n",
      "\t\t\t\t\t Epoch: 1 | Completed: 3840/60000 (6%) \n",
      " \t\t\t\t\t Loss: \u001b[1m0.126737\u001b[0m \n",
      "\t\t\t\t\t ---------\n",
      "2022-09-13 11:22:52,567 fedbiomed INFO - \u001b[1mTRAINING\u001b[0m \n",
      "\t\t\t\t\t NODE_ID: node_97621f4d-cef4-4a50-83e9-873c100efeb2 \n",
      "\t\t\t\t\t Epoch: 1 | Completed: 4320/60000 (7%) \n",
      " \t\t\t\t\t Loss: \u001b[1m0.026930\u001b[0m \n",
      "\t\t\t\t\t ---------\n",
      "2022-09-13 11:22:53,201 fedbiomed INFO - \u001b[1mTRAINING\u001b[0m \n",
      "\t\t\t\t\t NODE_ID: node_97621f4d-cef4-4a50-83e9-873c100efeb2 \n",
      "\t\t\t\t\t Epoch: 1 | Completed: 4800/60000 (8%) \n",
      " \t\t\t\t\t Loss: \u001b[1m0.078407\u001b[0m \n",
      "\t\t\t\t\t ---------\n",
      "2022-09-13 11:22:53,202 fedbiomed INFO - \u001b[1mINFO\u001b[0m\n",
      "\t\t\t\t\t\u001b[1m NODE\u001b[0m node_97621f4d-cef4-4a50-83e9-873c100efeb2\n",
      "\t\t\t\t\t\u001b[1m MESSAGE:\u001b[0m Reached 100 batches for this epoch, ignore remaining data\u001b[0m\n",
      "-----------------------------------------------------------------\n",
      "2022-09-13 11:22:53,380 fedbiomed INFO - \u001b[1mINFO\u001b[0m\n",
      "\t\t\t\t\t\u001b[1m NODE\u001b[0m node_97621f4d-cef4-4a50-83e9-873c100efeb2\n",
      "\t\t\t\t\t\u001b[1m MESSAGE:\u001b[0m results uploaded successfully \u001b[0m\n",
      "-----------------------------------------------------------------\n"
     ]
    }
   ],
   "source": [
    "exp.run(rounds=2, increase=True) # increase is True by default"
   ]
  },
  {
   "cell_type": "markdown",
   "metadata": {},
   "source": [
    "If the argument `increase` is `False`, it will not increase the round limit automatically. "
   ]
  },
  {
   "cell_type": "code",
   "execution_count": null,
   "metadata": {},
   "outputs": [],
   "source": [
    "exp.run(rounds=2, increase=False)"
   ]
  },
  {
   "cell_type": "code",
   "execution_count": null,
   "metadata": {},
   "outputs": [],
   "source": [
    "print('Round Limit    : ' , exp.round_limit())\n",
    "print('Current Round  : ' , exp.round_current())"
   ]
  },
  {
   "cell_type": "markdown",
   "metadata": {},
   "source": [
    "It is also possible to increase number of rounds while running the experiment with `run_once()` by passing `increase` argument as `True`"
   ]
  },
  {
   "cell_type": "code",
   "execution_count": null,
   "metadata": {},
   "outputs": [],
   "source": [
    "exp.run_once(increase=True)"
   ]
  },
  {
   "cell_type": "code",
   "execution_count": null,
   "metadata": {},
   "outputs": [],
   "source": [
    "print('Round Limit    : ' , exp.round_limit())\n",
    "print('Current Round  : ' , exp.round_current())"
   ]
  },
  {
   "cell_type": "markdown",
   "metadata": {},
   "source": [
    "### Changing Training Arguments for the Next Round\n",
    "\n",
    "The method `set_training_args()` allows you to change the training arguments even you've already run your experiment several times. Thanks to the method `set_training_args()` you will be able to configure your training from one round to another. For example, we can change our `batch_size` to `64` and `batch_maxnum` to `50` for the next round.\n"
   ]
  },
  {
   "cell_type": "code",
   "execution_count": null,
   "metadata": {},
   "outputs": [],
   "source": [
    "# Training Arguments\n",
    "training_args = {\n",
    "    'batch_size': 64, \n",
    "    'optimizer_args': {\n",
    "        'lr': 1e-3\n",
    "    },\n",
    "    'epochs': 1, \n",
    "    'dry_run': False,  \n",
    "    'batch_maxnum': 50\n",
    "}\n",
    "\n",
    "exp.set_training_args(training_args=training_args)"
   ]
  },
  {
   "cell_type": "code",
   "execution_count": null,
   "metadata": {},
   "outputs": [],
   "source": [
    "exp.run_once(increase=True)"
   ]
  },
  {
   "cell_type": "markdown",
   "metadata": {
    "pycharm": {
     "name": "#%% md\n"
    }
   },
   "source": [
    "### Conclusions \n",
    "The experiment class is the interface and the orchestrator of the whole processes behind federated training on the researcher side. It allows you to manage your federated training experiment easily. It has been extended with setter and getter methods to ease its declaration. This also provides more control before, during or after the training rounds. The purpose of the experiment class is to provide a robust interface for end-user to make them able to easily perform their federated training on Fed-BioMed nodes."
   ]
  }
 ],
 "metadata": {
  "kernelspec": {
   "display_name": "Python 3 (ipykernel)",
   "language": "python",
   "name": "python3"
  },
  "language_info": {
   "codemirror_mode": {
    "name": "ipython",
    "version": 3
   },
   "file_extension": ".py",
   "mimetype": "text/x-python",
   "name": "python",
   "nbconvert_exporter": "python",
   "pygments_lexer": "ipython3",
   "version": "3.9.7"
  }
 },
 "nbformat": 4,
 "nbformat_minor": 4
}

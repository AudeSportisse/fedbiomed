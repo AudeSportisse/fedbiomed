{
 "cells": [
  {
   "cell_type": "markdown",
   "metadata": {},
   "source": [
    "# Fedbiomed Researcher Listing Datasets and Selecting Particular Nodes"
   ]
  },
  {
   "cell_type": "markdown",
   "metadata": {},
   "source": [
    "Use for developing (autoreloads changes made across packages)"
   ]
  },
  {
   "cell_type": "code",
   "execution_count": null,
   "metadata": {},
   "outputs": [],
   "source": [
    "%load_ext autoreload\n",
    "%autoreload 2"
   ]
  },
  {
   "cell_type": "markdown",
   "metadata": {},
   "source": [
    "## Setting the client up\n",
    "It is necessary to previously configure multiple node:\n",
    "1. `./scripts/fedbiomed_run node config config-n1.ini add`\n",
    "  * Select option 2 (default) to add MNIST to the client\n",
    "  * Confirm default tags by hitting \"y\" and ENTER\n",
    "  * Pick the folder where MNIST is downloaded (this is due torch issue https://github.com/pytorch/vision/issues/3549)\n",
    "  * Data must have been added (if you get a warning saying that data must be unique is because it's been already added)\n",
    "  * Start node with `./scripts/fedbiomed_run node config config-n1.ini start`\n",
    "  \n",
    "2. Add data to seconda node: \n",
    "    * Open new terminal create new node by indicating the MNIST dataset that you already dowloaded\n",
    "    `./scripts/fedbiomed_run node config config-n2.ini --add-mnist path/to/your/mnist/data`\n",
    "    * Start node: `./scripts/fedbiomed_run node config config-n2.ini start`\n",
    "3. Add a third node by following same instructions of step 2.  "
   ]
  },
  {
   "cell_type": "markdown",
   "metadata": {},
   "source": [
    "## Create a Model and an Experiment"
   ]
  },
  {
   "cell_type": "markdown",
   "metadata": {},
   "source": [
    "Declare a torch.nn MyTrainingPlan class to send for training on the node"
   ]
  },
  {
   "cell_type": "code",
   "execution_count": 1,
   "metadata": {},
   "outputs": [],
   "source": [
    "from fedbiomed.researcher.environ import TMP_DIR\n",
    "import tempfile\n",
    "tmp_dir_model = tempfile.TemporaryDirectory(dir=TMP_DIR+'/')\n",
    "model_file = tmp_dir_model.name + '/class_export_mnist.py'"
   ]
  },
  {
   "cell_type": "markdown",
   "metadata": {},
   "source": [
    "Note : write **only** the code to export in the following cell"
   ]
  },
  {
   "cell_type": "code",
   "execution_count": 2,
   "metadata": {},
   "outputs": [
    {
     "name": "stdout",
     "output_type": "stream",
     "text": [
      "Writing /home/scansiz/Desktop/Inria/development/fedbiomed/var/tmp/tmp31ushc4w/class_export_mnist.py\n"
     ]
    }
   ],
   "source": [
    "%%writefile \"$model_file\"\n",
    "\n",
    "import torch\n",
    "import torch.nn as nn\n",
    "from fedbiomed.common.torchnn import TorchTrainingPlan\n",
    "from torch.utils.data import DataLoader\n",
    "from torchvision import datasets, transforms\n",
    "\n",
    "# Here we define the model to be used. \n",
    "# You can use any class name (here 'Net')\n",
    "class MyTrainingPlan(TorchTrainingPlan):\n",
    "    def __init__(self):\n",
    "        super(MyTrainingPlan, self).__init__()\n",
    "        self.conv1 = nn.Conv2d(1, 32, 3, 1)\n",
    "        self.conv2 = nn.Conv2d(32, 64, 3, 1)\n",
    "        self.dropout1 = nn.Dropout(0.25)\n",
    "        self.dropout2 = nn.Dropout(0.5)\n",
    "        self.fc1 = nn.Linear(9216, 128)\n",
    "        self.fc2 = nn.Linear(128, 10)\n",
    "        \n",
    "        # Here we define the custom dependencies that will be needed by our custom Dataloader\n",
    "        # In this case, we need the torch DataLoader classes\n",
    "        # Since we will train on MNIST, we need datasets and transform from torchvision\n",
    "        deps = [\"from torchvision import datasets, transforms\",\n",
    "               \"from torch.utils.data import DataLoader\"]\n",
    "        self.add_dependency(deps)\n",
    "\n",
    "    def forward(self, x):\n",
    "        x = self.conv1(x)\n",
    "        x = F.relu(x)\n",
    "        x = self.conv2(x)\n",
    "        x = F.relu(x)\n",
    "        x = F.max_pool2d(x, 2)\n",
    "        x = self.dropout1(x)\n",
    "        x = torch.flatten(x, 1)\n",
    "        x = self.fc1(x)\n",
    "        x = F.relu(x)\n",
    "        x = self.dropout2(x)\n",
    "        x = self.fc2(x)\n",
    "        output = F.log_softmax(x, dim=1)\n",
    "        return output\n",
    "\n",
    "    def training_data(self, batch_size = 48):\n",
    "        # Custom torch Dataloader for MNIST data\n",
    "        transform = transforms.Compose([transforms.ToTensor(),\n",
    "        transforms.Normalize((0.1307,), (0.3081,))])\n",
    "        dataset1 = datasets.MNIST(self.dataset_path, train=True, download=False, transform=transform)\n",
    "        train_kwargs = {'batch_size': batch_size, 'shuffle': True}\n",
    "        data_loader = torch.utils.data.DataLoader(dataset1, **train_kwargs)\n",
    "        return data_loader\n",
    "    \n",
    "    def training_step(self, data, target):\n",
    "        output = self.forward(data)\n",
    "        loss   = torch.nn.functional.nll_loss(output, target)\n",
    "        return loss\n"
   ]
  },
  {
   "cell_type": "markdown",
   "metadata": {},
   "source": [
    "### List Dataset Available in Nodes\n",
    "\n",
    "You can easly list dataset located in online nodes using `list()` method of `Request` class. \n",
    "\n",
    "**Arguments**\n",
    " `verbose` : Prints list of datasets in table format \n",
    " `client`  : Array includes client ids. Gets list of dataset only given client ides  \n",
    " \n",
    " "
   ]
  },
  {
   "cell_type": "code",
   "execution_count": 4,
   "metadata": {},
   "outputs": [
    {
     "name": "stderr",
     "output_type": "stream",
     "text": [
      "2021-10-15 16:39:27,054 fedbiomed INFO - Messaging researcher_8e2ef743-72d6-49da-a496-b4ca24495c50 successfully connected to the message broker, object = <fedbiomed.common.messaging.Messaging object at 0x7f73c8575880>\n",
      "2021-10-15 16:39:27,086 fedbiomed INFO - Listing avaialbe dataset in nodes: \n",
      "2021-10-15 16:39:27,088 fedbiomed INFO - log from: client_f55bd856-ff6c-4fd0-b3d1-50910564ff4b - DEBUG Message received: {'researcher_id': 'researcher_8e2ef743-72d6-49da-a496-b4ca24495c50', 'command': 'list'}\n",
      "2021-10-15 16:39:27,089 fedbiomed INFO - log from: client_9c1defaa-9967-4919-9277-7a6ccffc19f2 - DEBUG Message received: {'researcher_id': 'researcher_8e2ef743-72d6-49da-a496-b4ca24495c50', 'command': 'list'}\n",
      "2021-10-15 16:39:27,089 fedbiomed INFO - log from: client_40369a72-c962-455d-ba8a-a88fb7d10154 - DEBUG Message received: {'researcher_id': 'researcher_8e2ef743-72d6-49da-a496-b4ca24495c50', 'command': 'list'}\n",
      "2021-10-15 16:39:27,090 fedbiomed INFO - log from: client_32f6445c-b1fa-4eb4-845a-5102418a9165 - DEBUG Message received: {'researcher_id': 'researcher_8e2ef743-72d6-49da-a496-b4ca24495c50', 'command': 'list'}\n"
     ]
    },
    {
     "name": "stdout",
     "output_type": "stream",
     "text": [
      "\n",
      " Node: client_40369a72-c962-455d-ba8a-a88fb7d10154 | Number of Datasets: 1\n",
      "+--------+-------------+------------------------+----------------+--------------------+\n",
      "| name   | data_type   | tags                   | description    | shape              |\n",
      "+========+=============+========================+================+====================+\n",
      "| MNIST  | default     | ['#MNIST', '#dataset'] | MNIST database | [60000, 1, 28, 28] |\n",
      "+--------+-------------+------------------------+----------------+--------------------+\n",
      "\n",
      " Node: client_f55bd856-ff6c-4fd0-b3d1-50910564ff4b | Number of Datasets: 0\n",
      " No data has been set up for this node.\n",
      "\n",
      " Node: client_9c1defaa-9967-4919-9277-7a6ccffc19f2 | Number of Datasets: 1\n",
      "+--------+-------------+------------------------+----------------+--------------------+\n",
      "| name   | data_type   | tags                   | description    | shape              |\n",
      "+========+=============+========================+================+====================+\n",
      "| MNIST  | default     | ['#MNIST', '#dataset'] | MNIST database | [60000, 1, 28, 28] |\n",
      "+--------+-------------+------------------------+----------------+--------------------+\n",
      "\n",
      " Node: client_32f6445c-b1fa-4eb4-845a-5102418a9165 | Number of Datasets: 1\n",
      "+--------+-------------+------------------------+----------------+--------------------+\n",
      "| name   | data_type   | tags                   | description    | shape              |\n",
      "+========+=============+========================+================+====================+\n",
      "| MNIST  | default     | ['#MNIST', '#dataset'] | MNIST database | [60000, 1, 28, 28] |\n",
      "+--------+-------------+------------------------+----------------+--------------------+\n"
     ]
    }
   ],
   "source": [
    "from fedbiomed.researcher.requests import Requests\n",
    "\n",
    "req = Requests()\n",
    "datasets = req.list(verbose=True)\n"
   ]
  },
  {
   "cell_type": "markdown",
   "metadata": {},
   "source": [
    "You can also access these information from return object of `list()` method. "
   ]
  },
  {
   "cell_type": "code",
   "execution_count": 8,
   "metadata": {},
   "outputs": [
    {
     "name": "stdout",
     "output_type": "stream",
     "text": [
      "Datasets -----------------------------  \n",
      "{'client_40369a72-c962-455d-ba8a-a88fb7d10154': [{'name': 'MNIST', 'data_type': 'default', 'tags': ['#MNIST', '#dataset'], 'description': 'MNIST database', 'shape': [60000, 1, 28, 28]}], 'client_f55bd856-ff6c-4fd0-b3d1-50910564ff4b': [], 'client_9c1defaa-9967-4919-9277-7a6ccffc19f2': [{'name': 'MNIST', 'data_type': 'default', 'tags': ['#MNIST', '#dataset'], 'description': 'MNIST database', 'shape': [60000, 1, 28, 28]}], 'client_32f6445c-b1fa-4eb4-845a-5102418a9165': [{'name': 'MNIST', 'data_type': 'default', 'tags': ['#MNIST', '#dataset'], 'description': 'MNIST database', 'shape': [60000, 1, 28, 28]}]}\n",
      "Node ids -----------------------------  \n",
      "dict_keys(['client_40369a72-c962-455d-ba8a-a88fb7d10154', 'client_f55bd856-ff6c-4fd0-b3d1-50910564ff4b', 'client_9c1defaa-9967-4919-9277-7a6ccffc19f2', 'client_32f6445c-b1fa-4eb4-845a-5102418a9165'])\n"
     ]
    }
   ],
   "source": [
    "print('Datasets -----------------------------  ')\n",
    "print(datasets)\n",
    "print('Node ids -----------------------------  ')\n",
    "print(datasets.keys())\n"
   ]
  },
  {
   "cell_type": "markdown",
   "metadata": {},
   "source": [
    "You can create a list that contains nodes ids that you want run your experiment. After that you need to initialize your Experiment with the node (client) id list. "
   ]
  },
  {
   "cell_type": "code",
   "execution_count": 9,
   "metadata": {},
   "outputs": [],
   "source": [
    "# WARNING: Please change values based on your listing result\n",
    "clients = ['client_40369a72-c962-455d-ba8a-a88fb7d10154', 'client_9c1defaa-9967-4919-9277-7a6ccffc19f2']"
   ]
  },
  {
   "cell_type": "markdown",
   "metadata": {},
   "source": [
    "This group of arguments correspond respectively:\n",
    "* `model_args`: a dictionary with the arguments related to the model (e.g. number of layers, features, etc.). This will be passed to the model class on the client side.\n",
    "* `training_args`: a dictionary containing the arguments for the training routine (e.g. batch size, learning rate, epochs, etc.). This will be passed to the routine on the client side.\n",
    "\n",
    "**NOTE:** typos and/or lack of positional (required) arguments will raise error. 🤓"
   ]
  },
  {
   "cell_type": "code",
   "execution_count": 10,
   "metadata": {
    "pycharm": {
     "name": "#%%\n"
    }
   },
   "outputs": [],
   "source": [
    "model_args = {}\n",
    "\n",
    "training_args = {\n",
    "    'batch_size': 48, \n",
    "    'lr': 1e-3, \n",
    "    'epochs': 1, \n",
    "    'dry_run': False,  \n",
    "    'batch_maxnum': 100 # Fast pass for development : only use ( batch_maxnum * batch_size ) samples\n",
    "}"
   ]
  },
  {
   "cell_type": "markdown",
   "metadata": {},
   "source": [
    "Define an experiment\n",
    "- search nodes serving data for these `tags`, optionally filter on a list of client ID with `clients`\n",
    "- run a round of local training on nodes with model defined in `model_path` + federation with `aggregator`\n",
    "- run for `rounds` rounds, applying the `client_selection_strategy` between the rounds"
   ]
  },
  {
   "cell_type": "code",
   "execution_count": 11,
   "metadata": {
    "pycharm": {
     "name": "#%%\n"
    },
    "scrolled": true
   },
   "outputs": [
    {
     "name": "stderr",
     "output_type": "stream",
     "text": [
      "2021-10-15 16:50:12,611 fedbiomed INFO - Searching for clients with data tags: ['#MNIST', '#dataset']\n",
      "2021-10-15 16:50:12,614 fedbiomed INFO - log from: client_f55bd856-ff6c-4fd0-b3d1-50910564ff4b - DEBUG Message received: {'researcher_id': 'researcher_8e2ef743-72d6-49da-a496-b4ca24495c50', 'tags': ['#MNIST', '#dataset'], 'command': 'search'}\n",
      "2021-10-15 16:50:12,616 fedbiomed INFO - log from: client_9c1defaa-9967-4919-9277-7a6ccffc19f2 - DEBUG Message received: {'researcher_id': 'researcher_8e2ef743-72d6-49da-a496-b4ca24495c50', 'tags': ['#MNIST', '#dataset'], 'command': 'search'}\n",
      "2021-10-15 16:50:12,617 fedbiomed INFO - log from: client_32f6445c-b1fa-4eb4-845a-5102418a9165 - DEBUG Message received: {'researcher_id': 'researcher_8e2ef743-72d6-49da-a496-b4ca24495c50', 'tags': ['#MNIST', '#dataset'], 'command': 'search'}\n",
      "2021-10-15 16:50:12,617 fedbiomed INFO - log from: client_40369a72-c962-455d-ba8a-a88fb7d10154 - DEBUG Message received: {'researcher_id': 'researcher_8e2ef743-72d6-49da-a496-b4ca24495c50', 'tags': ['#MNIST', '#dataset'], 'command': 'search'}\n",
      "2021-10-15 16:50:22,654 fedbiomed INFO - Node selected client_9c1defaa-9967-4919-9277-7a6ccffc19f2\n",
      "2021-10-15 16:50:22,657 fedbiomed INFO - Node selected client_40369a72-c962-455d-ba8a-a88fb7d10154\n"
     ]
    }
   ],
   "source": [
    "from fedbiomed.researcher.experiment import Experiment\n",
    "from fedbiomed.researcher.aggregators.fedavg import FedAverage\n",
    "\n",
    "tags =  ['#MNIST', '#dataset']\n",
    "rounds = 2\n",
    "\n",
    "exp = Experiment(tags=tags,\n",
    "                 clients=clients,\n",
    "                 model_path=model_file,\n",
    "                 model_args=model_args,\n",
    "                 model_class='MyTrainingPlan',\n",
    "                 training_args=training_args,\n",
    "                 rounds=rounds,\n",
    "                 aggregator=FedAverage(),\n",
    "                 client_selection_strategy=None)"
   ]
  },
  {
   "cell_type": "markdown",
   "metadata": {
    "pycharm": {
     "name": "#%% md\n"
    }
   },
   "source": [
    "Let's start the experiment.\n",
    "\n",
    "By default, this function doesn't stop until all the `rounds` are done for all the clients"
   ]
  },
  {
   "cell_type": "code",
   "execution_count": 12,
   "metadata": {
    "pycharm": {
     "name": "#%%\n"
    },
    "scrolled": true
   },
   "outputs": [
    {
     "name": "stderr",
     "output_type": "stream",
     "text": [
      "2021-10-15 16:50:27,290 fedbiomed INFO - Sampled clients in round 0 ['client_9c1defaa-9967-4919-9277-7a6ccffc19f2', 'client_40369a72-c962-455d-ba8a-a88fb7d10154']\n",
      "2021-10-15 16:50:27,293 fedbiomed INFO - Send message to client client_9c1defaa-9967-4919-9277-7a6ccffc19f2 - {'researcher_id': 'researcher_8e2ef743-72d6-49da-a496-b4ca24495c50', 'job_id': 'ef13c92d-743c-4343-8c8a-ed67b3348945', 'training_args': {'batch_size': 48, 'lr': 0.001, 'epochs': 1, 'dry_run': False, 'batch_maxnum': 100}, 'model_args': {}, 'command': 'train', 'model_url': 'http://localhost:8844/media/uploads/2021/10/15/my_model_253c24ea-e357-4376-8f4e-607b6f3cf532.py', 'params_url': 'http://localhost:8844/media/uploads/2021/10/15/my_model_d36ad93c-14e9-474f-989a-f6587a0889b7.pt', 'model_class': 'MyTrainingPlan', 'training_data': {'client_9c1defaa-9967-4919-9277-7a6ccffc19f2': ['dataset_2f7087c6-61e7-4219-8765-7dde9a58363c']}}\n",
      "2021-10-15 16:50:27,295 fedbiomed DEBUG - researcher_8e2ef743-72d6-49da-a496-b4ca24495c50\n",
      "2021-10-15 16:50:27,297 fedbiomed INFO - Send message to client client_40369a72-c962-455d-ba8a-a88fb7d10154 - {'researcher_id': 'researcher_8e2ef743-72d6-49da-a496-b4ca24495c50', 'job_id': 'ef13c92d-743c-4343-8c8a-ed67b3348945', 'training_args': {'batch_size': 48, 'lr': 0.001, 'epochs': 1, 'dry_run': False, 'batch_maxnum': 100}, 'model_args': {}, 'command': 'train', 'model_url': 'http://localhost:8844/media/uploads/2021/10/15/my_model_253c24ea-e357-4376-8f4e-607b6f3cf532.py', 'params_url': 'http://localhost:8844/media/uploads/2021/10/15/my_model_d36ad93c-14e9-474f-989a-f6587a0889b7.pt', 'model_class': 'MyTrainingPlan', 'training_data': {'client_40369a72-c962-455d-ba8a-a88fb7d10154': ['dataset_16c17801-ce59-4e55-9f8a-e42b9a1198cd']}}\n",
      "2021-10-15 16:50:27,298 fedbiomed DEBUG - researcher_8e2ef743-72d6-49da-a496-b4ca24495c50\n",
      "2021-10-15 16:50:27,304 fedbiomed INFO - log from: client_9c1defaa-9967-4919-9277-7a6ccffc19f2 - DEBUG Message received: {'researcher_id': 'researcher_8e2ef743-72d6-49da-a496-b4ca24495c50', 'job_id': 'ef13c92d-743c-4343-8c8a-ed67b3348945', 'training_args': {'batch_size': 48, 'lr': 0.001, 'epochs': 1, 'dry_run': False, 'batch_maxnum': 100}, 'model_args': {}, 'command': 'train', 'model_url': 'http://localhost:8844/media/uploads/2021/10/15/my_model_253c24ea-e357-4376-8f4e-607b6f3cf532.py', 'params_url': 'http://localhost:8844/media/uploads/2021/10/15/my_model_d36ad93c-14e9-474f-989a-f6587a0889b7.pt', 'model_class': 'MyTrainingPlan', 'training_data': {'client_9c1defaa-9967-4919-9277-7a6ccffc19f2': ['dataset_2f7087c6-61e7-4219-8765-7dde9a58363c']}}\n",
      "2021-10-15 16:50:27,305 fedbiomed INFO - log from: client_9c1defaa-9967-4919-9277-7a6ccffc19f2 - DEBUG [TASKS QUEUE] Item:{'researcher_id': 'researcher_8e2ef743-72d6-49da-a496-b4ca24495c50', 'job_id': 'ef13c92d-743c-4343-8c8a-ed67b3348945', 'params_url': 'http://localhost:8844/media/uploads/2021/10/15/my_model_d36ad93c-14e9-474f-989a-f6587a0889b7.pt', 'training_args': {'batch_size': 48, 'lr': 0.001, 'epochs': 1, 'dry_run': False, 'batch_maxnum': 100}, 'training_data': {'client_9c1defaa-9967-4919-9277-7a6ccffc19f2': ['dataset_2f7087c6-61e7-4219-8765-7dde9a58363c']}, 'model_args': {}, 'model_url': 'http://localhost:8844/media/uploads/2021/10/15/my_model_253c24ea-e357-4376-8f4e-607b6f3cf532.py', 'model_class': 'MyTrainingPlan', 'command': 'train'}\n",
      "2021-10-15 16:50:27,306 fedbiomed INFO - log from: client_40369a72-c962-455d-ba8a-a88fb7d10154 - DEBUG Message received: {'researcher_id': 'researcher_8e2ef743-72d6-49da-a496-b4ca24495c50', 'job_id': 'ef13c92d-743c-4343-8c8a-ed67b3348945', 'training_args': {'batch_size': 48, 'lr': 0.001, 'epochs': 1, 'dry_run': False, 'batch_maxnum': 100}, 'model_args': {}, 'command': 'train', 'model_url': 'http://localhost:8844/media/uploads/2021/10/15/my_model_253c24ea-e357-4376-8f4e-607b6f3cf532.py', 'params_url': 'http://localhost:8844/media/uploads/2021/10/15/my_model_d36ad93c-14e9-474f-989a-f6587a0889b7.pt', 'model_class': 'MyTrainingPlan', 'training_data': {'client_40369a72-c962-455d-ba8a-a88fb7d10154': ['dataset_16c17801-ce59-4e55-9f8a-e42b9a1198cd']}}\n",
      "2021-10-15 16:50:27,310 fedbiomed INFO - log from: client_40369a72-c962-455d-ba8a-a88fb7d10154 - DEBUG [TASKS QUEUE] Item:{'researcher_id': 'researcher_8e2ef743-72d6-49da-a496-b4ca24495c50', 'job_id': 'ef13c92d-743c-4343-8c8a-ed67b3348945', 'params_url': 'http://localhost:8844/media/uploads/2021/10/15/my_model_d36ad93c-14e9-474f-989a-f6587a0889b7.pt', 'training_args': {'batch_size': 48, 'lr': 0.001, 'epochs': 1, 'dry_run': False, 'batch_maxnum': 100}, 'training_data': {'client_40369a72-c962-455d-ba8a-a88fb7d10154': ['dataset_16c17801-ce59-4e55-9f8a-e42b9a1198cd']}, 'model_args': {}, 'model_url': 'http://localhost:8844/media/uploads/2021/10/15/my_model_253c24ea-e357-4376-8f4e-607b6f3cf532.py', 'model_class': 'MyTrainingPlan', 'command': 'train'}\n",
      "2021-10-15 16:50:27,359 fedbiomed INFO - log from: client_9c1defaa-9967-4919-9277-7a6ccffc19f2 - INFO {'monitor': <fedbiomed.node.history_monitor.HistoryMonitor object at 0x7f47839a8e80>, 'batch_size': 48, 'lr': 0.001, 'epochs': 1, 'dry_run': False, 'batch_maxnum': 100}\n",
      "2021-10-15 16:50:27,362 fedbiomed INFO - log from: client_9c1defaa-9967-4919-9277-7a6ccffc19f2 - DEBUG Dataset_path../data\n",
      "2021-10-15 16:50:27,388 fedbiomed INFO - log from: client_40369a72-c962-455d-ba8a-a88fb7d10154 - INFO {'monitor': <fedbiomed.node.history_monitor.HistoryMonitor object at 0x7f5e83bcbe80>, 'batch_size': 48, 'lr': 0.001, 'epochs': 1, 'dry_run': False, 'batch_maxnum': 100}\n",
      "2021-10-15 16:50:27,392 fedbiomed INFO - log from: client_40369a72-c962-455d-ba8a-a88fb7d10154 - DEBUG Dataset_path../data\n",
      "2021-10-15 16:50:27,574 fedbiomed INFO - log from: client_9c1defaa-9967-4919-9277-7a6ccffc19f2 - INFO Train Epoch: 1 [0/60000 (0%)]\tLoss: 2.301212\n",
      "2021-10-15 16:50:27,588 fedbiomed INFO - log from: client_40369a72-c962-455d-ba8a-a88fb7d10154 - INFO Train Epoch: 1 [0/60000 (0%)]\tLoss: 2.303914\n",
      "2021-10-15 16:50:28,571 fedbiomed INFO - log from: client_40369a72-c962-455d-ba8a-a88fb7d10154 - INFO Train Epoch: 1 [480/60000 (1%)]\tLoss: 1.098757\n",
      "2021-10-15 16:50:28,759 fedbiomed INFO - log from: client_9c1defaa-9967-4919-9277-7a6ccffc19f2 - INFO Train Epoch: 1 [480/60000 (1%)]\tLoss: 1.161142\n",
      "2021-10-15 16:50:29,528 fedbiomed INFO - log from: client_40369a72-c962-455d-ba8a-a88fb7d10154 - INFO Train Epoch: 1 [960/60000 (2%)]\tLoss: 0.791952\n",
      "2021-10-15 16:50:29,674 fedbiomed INFO - log from: client_9c1defaa-9967-4919-9277-7a6ccffc19f2 - INFO Train Epoch: 1 [960/60000 (2%)]\tLoss: 1.017485\n",
      "2021-10-15 16:50:30,455 fedbiomed INFO - log from: client_40369a72-c962-455d-ba8a-a88fb7d10154 - INFO Train Epoch: 1 [1440/60000 (2%)]\tLoss: 0.490751\n",
      "2021-10-15 16:50:30,639 fedbiomed INFO - log from: client_9c1defaa-9967-4919-9277-7a6ccffc19f2 - INFO Train Epoch: 1 [1440/60000 (2%)]\tLoss: 0.688610\n",
      "2021-10-15 16:50:31,406 fedbiomed INFO - log from: client_40369a72-c962-455d-ba8a-a88fb7d10154 - INFO Train Epoch: 1 [1920/60000 (3%)]\tLoss: 0.501819\n",
      "2021-10-15 16:50:31,703 fedbiomed INFO - log from: client_9c1defaa-9967-4919-9277-7a6ccffc19f2 - INFO Train Epoch: 1 [1920/60000 (3%)]\tLoss: 0.774550\n",
      "2021-10-15 16:50:32,440 fedbiomed INFO - log from: client_40369a72-c962-455d-ba8a-a88fb7d10154 - INFO Train Epoch: 1 [2400/60000 (4%)]\tLoss: 0.575841\n",
      "2021-10-15 16:50:32,575 fedbiomed INFO - log from: client_9c1defaa-9967-4919-9277-7a6ccffc19f2 - INFO Train Epoch: 1 [2400/60000 (4%)]\tLoss: 0.850597\n",
      "2021-10-15 16:50:33,766 fedbiomed INFO - log from: client_40369a72-c962-455d-ba8a-a88fb7d10154 - INFO Train Epoch: 1 [2880/60000 (5%)]\tLoss: 0.447666\n",
      "2021-10-15 16:50:33,799 fedbiomed INFO - log from: client_9c1defaa-9967-4919-9277-7a6ccffc19f2 - INFO Train Epoch: 1 [2880/60000 (5%)]\tLoss: 0.295446\n",
      "2021-10-15 16:50:34,555 fedbiomed INFO - log from: client_40369a72-c962-455d-ba8a-a88fb7d10154 - INFO Train Epoch: 1 [3360/60000 (6%)]\tLoss: 0.250360\n",
      "2021-10-15 16:50:34,606 fedbiomed INFO - log from: client_9c1defaa-9967-4919-9277-7a6ccffc19f2 - INFO Train Epoch: 1 [3360/60000 (6%)]\tLoss: 0.558390\n",
      "2021-10-15 16:50:35,338 fedbiomed INFO - log from: client_40369a72-c962-455d-ba8a-a88fb7d10154 - INFO Train Epoch: 1 [3840/60000 (6%)]\tLoss: 0.405999\n",
      "2021-10-15 16:50:35,368 fedbiomed INFO - log from: client_9c1defaa-9967-4919-9277-7a6ccffc19f2 - INFO Train Epoch: 1 [3840/60000 (6%)]\tLoss: 0.235894\n"
     ]
    },
    {
     "name": "stderr",
     "output_type": "stream",
     "text": [
      "2021-10-15 16:50:36,173 fedbiomed INFO - log from: client_40369a72-c962-455d-ba8a-a88fb7d10154 - INFO Train Epoch: 1 [4320/60000 (7%)]\tLoss: 0.488368\n",
      "2021-10-15 16:50:36,174 fedbiomed INFO - log from: client_9c1defaa-9967-4919-9277-7a6ccffc19f2 - INFO Train Epoch: 1 [4320/60000 (7%)]\tLoss: 0.440244\n",
      "2021-10-15 16:50:36,931 fedbiomed INFO - log from: client_40369a72-c962-455d-ba8a-a88fb7d10154 - DEBUG Reached 100 batches for this epoch, ignore remaining data\n",
      "2021-10-15 16:50:37,020 fedbiomed INFO - log from: client_9c1defaa-9967-4919-9277-7a6ccffc19f2 - DEBUG Reached 100 batches for this epoch, ignore remaining data\n",
      "2021-10-15 16:50:37,170 fedbiomed INFO - log from: client_40369a72-c962-455d-ba8a-a88fb7d10154 - INFO results uploaded successfully \n",
      "2021-10-15 16:50:37,188 fedbiomed INFO - log from: client_9c1defaa-9967-4919-9277-7a6ccffc19f2 - INFO results uploaded successfully \n",
      "2021-10-15 16:50:42,344 fedbiomed INFO - Downloading model params after training on client_40369a72-c962-455d-ba8a-a88fb7d10154 - from http://localhost:8844/media/uploads/2021/10/15/node_params_0fb68f49-390b-4dcc-805f-91452862fc36.pt\n",
      "2021-10-15 16:50:42,402 fedbiomed INFO - Downloading model params after training on client_9c1defaa-9967-4919-9277-7a6ccffc19f2 - from http://localhost:8844/media/uploads/2021/10/15/node_params_96e59064-4d3f-4828-9102-30ced4b8dc92.pt\n",
      "2021-10-15 16:50:42,424 fedbiomed INFO - Clients that successfully reply in round 0 ['client_40369a72-c962-455d-ba8a-a88fb7d10154', 'client_9c1defaa-9967-4919-9277-7a6ccffc19f2']\n",
      "2021-10-15 16:50:42,593 fedbiomed INFO - Sampled clients in round 1 ['client_9c1defaa-9967-4919-9277-7a6ccffc19f2', 'client_40369a72-c962-455d-ba8a-a88fb7d10154']\n",
      "2021-10-15 16:50:42,593 fedbiomed INFO - Send message to client client_9c1defaa-9967-4919-9277-7a6ccffc19f2 - {'researcher_id': 'researcher_8e2ef743-72d6-49da-a496-b4ca24495c50', 'job_id': 'ef13c92d-743c-4343-8c8a-ed67b3348945', 'training_args': {'batch_size': 48, 'lr': 0.001, 'epochs': 1, 'dry_run': False, 'batch_maxnum': 100}, 'model_args': {}, 'command': 'train', 'model_url': 'http://localhost:8844/media/uploads/2021/10/15/my_model_253c24ea-e357-4376-8f4e-607b6f3cf532.py', 'params_url': 'http://localhost:8844/media/uploads/2021/10/15/researcher_params_7f571d41-9f8f-4832-affa-729b0cc948b2.pt', 'model_class': 'MyTrainingPlan', 'training_data': {'client_9c1defaa-9967-4919-9277-7a6ccffc19f2': ['dataset_2f7087c6-61e7-4219-8765-7dde9a58363c']}}\n",
      "2021-10-15 16:50:42,593 fedbiomed DEBUG - researcher_8e2ef743-72d6-49da-a496-b4ca24495c50\n",
      "2021-10-15 16:50:42,594 fedbiomed INFO - Send message to client client_40369a72-c962-455d-ba8a-a88fb7d10154 - {'researcher_id': 'researcher_8e2ef743-72d6-49da-a496-b4ca24495c50', 'job_id': 'ef13c92d-743c-4343-8c8a-ed67b3348945', 'training_args': {'batch_size': 48, 'lr': 0.001, 'epochs': 1, 'dry_run': False, 'batch_maxnum': 100}, 'model_args': {}, 'command': 'train', 'model_url': 'http://localhost:8844/media/uploads/2021/10/15/my_model_253c24ea-e357-4376-8f4e-607b6f3cf532.py', 'params_url': 'http://localhost:8844/media/uploads/2021/10/15/researcher_params_7f571d41-9f8f-4832-affa-729b0cc948b2.pt', 'model_class': 'MyTrainingPlan', 'training_data': {'client_40369a72-c962-455d-ba8a-a88fb7d10154': ['dataset_16c17801-ce59-4e55-9f8a-e42b9a1198cd']}}\n",
      "2021-10-15 16:50:42,595 fedbiomed DEBUG - researcher_8e2ef743-72d6-49da-a496-b4ca24495c50\n",
      "2021-10-15 16:50:42,597 fedbiomed INFO - log from: client_9c1defaa-9967-4919-9277-7a6ccffc19f2 - DEBUG Message received: {'researcher_id': 'researcher_8e2ef743-72d6-49da-a496-b4ca24495c50', 'job_id': 'ef13c92d-743c-4343-8c8a-ed67b3348945', 'training_args': {'batch_size': 48, 'lr': 0.001, 'epochs': 1, 'dry_run': False, 'batch_maxnum': 100}, 'model_args': {}, 'command': 'train', 'model_url': 'http://localhost:8844/media/uploads/2021/10/15/my_model_253c24ea-e357-4376-8f4e-607b6f3cf532.py', 'params_url': 'http://localhost:8844/media/uploads/2021/10/15/researcher_params_7f571d41-9f8f-4832-affa-729b0cc948b2.pt', 'model_class': 'MyTrainingPlan', 'training_data': {'client_9c1defaa-9967-4919-9277-7a6ccffc19f2': ['dataset_2f7087c6-61e7-4219-8765-7dde9a58363c']}}\n",
      "2021-10-15 16:50:42,598 fedbiomed INFO - log from: client_9c1defaa-9967-4919-9277-7a6ccffc19f2 - DEBUG [TASKS QUEUE] Item:{'researcher_id': 'researcher_8e2ef743-72d6-49da-a496-b4ca24495c50', 'job_id': 'ef13c92d-743c-4343-8c8a-ed67b3348945', 'params_url': 'http://localhost:8844/media/uploads/2021/10/15/researcher_params_7f571d41-9f8f-4832-affa-729b0cc948b2.pt', 'training_args': {'batch_size': 48, 'lr': 0.001, 'epochs': 1, 'dry_run': False, 'batch_maxnum': 100}, 'training_data': {'client_9c1defaa-9967-4919-9277-7a6ccffc19f2': ['dataset_2f7087c6-61e7-4219-8765-7dde9a58363c']}, 'model_args': {}, 'model_url': 'http://localhost:8844/media/uploads/2021/10/15/my_model_253c24ea-e357-4376-8f4e-607b6f3cf532.py', 'model_class': 'MyTrainingPlan', 'command': 'train'}\n",
      "2021-10-15 16:50:42,599 fedbiomed INFO - log from: client_40369a72-c962-455d-ba8a-a88fb7d10154 - DEBUG Message received: {'researcher_id': 'researcher_8e2ef743-72d6-49da-a496-b4ca24495c50', 'job_id': 'ef13c92d-743c-4343-8c8a-ed67b3348945', 'training_args': {'batch_size': 48, 'lr': 0.001, 'epochs': 1, 'dry_run': False, 'batch_maxnum': 100}, 'model_args': {}, 'command': 'train', 'model_url': 'http://localhost:8844/media/uploads/2021/10/15/my_model_253c24ea-e357-4376-8f4e-607b6f3cf532.py', 'params_url': 'http://localhost:8844/media/uploads/2021/10/15/researcher_params_7f571d41-9f8f-4832-affa-729b0cc948b2.pt', 'model_class': 'MyTrainingPlan', 'training_data': {'client_40369a72-c962-455d-ba8a-a88fb7d10154': ['dataset_16c17801-ce59-4e55-9f8a-e42b9a1198cd']}}\n",
      "2021-10-15 16:50:42,640 fedbiomed INFO - log from: client_40369a72-c962-455d-ba8a-a88fb7d10154 - DEBUG [TASKS QUEUE] Item:{'researcher_id': 'researcher_8e2ef743-72d6-49da-a496-b4ca24495c50', 'job_id': 'ef13c92d-743c-4343-8c8a-ed67b3348945', 'params_url': 'http://localhost:8844/media/uploads/2021/10/15/researcher_params_7f571d41-9f8f-4832-affa-729b0cc948b2.pt', 'training_args': {'batch_size': 48, 'lr': 0.001, 'epochs': 1, 'dry_run': False, 'batch_maxnum': 100}, 'training_data': {'client_40369a72-c962-455d-ba8a-a88fb7d10154': ['dataset_16c17801-ce59-4e55-9f8a-e42b9a1198cd']}, 'model_args': {}, 'model_url': 'http://localhost:8844/media/uploads/2021/10/15/my_model_253c24ea-e357-4376-8f4e-607b6f3cf532.py', 'model_class': 'MyTrainingPlan', 'command': 'train'}\n",
      "2021-10-15 16:50:42,641 fedbiomed INFO - log from: client_40369a72-c962-455d-ba8a-a88fb7d10154 - INFO {'monitor': <fedbiomed.node.history_monitor.HistoryMonitor object at 0x7f5e83bcbfa0>, 'batch_size': 48, 'lr': 0.001, 'epochs': 1, 'dry_run': False, 'batch_maxnum': 100}\n",
      "2021-10-15 16:50:42,642 fedbiomed INFO - log from: client_40369a72-c962-455d-ba8a-a88fb7d10154 - DEBUG Dataset_path../data\n",
      "2021-10-15 16:50:42,647 fedbiomed INFO - log from: client_9c1defaa-9967-4919-9277-7a6ccffc19f2 - INFO {'monitor': <fedbiomed.node.history_monitor.HistoryMonitor object at 0x7f47839a8c70>, 'batch_size': 48, 'lr': 0.001, 'epochs': 1, 'dry_run': False, 'batch_maxnum': 100}\n",
      "2021-10-15 16:50:42,663 fedbiomed INFO - log from: client_9c1defaa-9967-4919-9277-7a6ccffc19f2 - DEBUG Dataset_path../data\n",
      "2021-10-15 16:50:42,814 fedbiomed INFO - log from: client_40369a72-c962-455d-ba8a-a88fb7d10154 - INFO Train Epoch: 1 [0/60000 (0%)]\tLoss: 0.214860\n",
      "2021-10-15 16:50:42,832 fedbiomed INFO - log from: client_9c1defaa-9967-4919-9277-7a6ccffc19f2 - INFO Train Epoch: 1 [0/60000 (0%)]\tLoss: 0.233172\n",
      "2021-10-15 16:50:43,766 fedbiomed INFO - log from: client_9c1defaa-9967-4919-9277-7a6ccffc19f2 - INFO Train Epoch: 1 [480/60000 (1%)]\tLoss: 0.691613\n",
      "2021-10-15 16:50:44,706 fedbiomed INFO - log from: client_9c1defaa-9967-4919-9277-7a6ccffc19f2 - INFO Train Epoch: 1 [960/60000 (2%)]\tLoss: 0.183332\n",
      "2021-10-15 16:50:44,737 fedbiomed INFO - log from: client_40369a72-c962-455d-ba8a-a88fb7d10154 - INFO Train Epoch: 1 [480/60000 (1%)]\tLoss: 0.695190\n",
      "2021-10-15 16:50:45,505 fedbiomed INFO - log from: client_9c1defaa-9967-4919-9277-7a6ccffc19f2 - INFO Train Epoch: 1 [1440/60000 (2%)]\tLoss: 0.400047\n",
      "2021-10-15 16:50:45,607 fedbiomed INFO - log from: client_40369a72-c962-455d-ba8a-a88fb7d10154 - INFO Train Epoch: 1 [960/60000 (2%)]\tLoss: 0.503595\n"
     ]
    },
    {
     "name": "stderr",
     "output_type": "stream",
     "text": [
      "2021-10-15 16:50:46,349 fedbiomed INFO - log from: client_9c1defaa-9967-4919-9277-7a6ccffc19f2 - INFO Train Epoch: 1 [1920/60000 (3%)]\tLoss: 0.096202\n",
      "2021-10-15 16:50:46,521 fedbiomed INFO - log from: client_40369a72-c962-455d-ba8a-a88fb7d10154 - INFO Train Epoch: 1 [1440/60000 (2%)]\tLoss: 0.300014\n",
      "2021-10-15 16:50:47,154 fedbiomed INFO - log from: client_9c1defaa-9967-4919-9277-7a6ccffc19f2 - INFO Train Epoch: 1 [2400/60000 (4%)]\tLoss: 0.309307\n",
      "2021-10-15 16:50:47,399 fedbiomed INFO - log from: client_40369a72-c962-455d-ba8a-a88fb7d10154 - INFO Train Epoch: 1 [1920/60000 (3%)]\tLoss: 0.210286\n",
      "2021-10-15 16:50:47,986 fedbiomed INFO - log from: client_9c1defaa-9967-4919-9277-7a6ccffc19f2 - INFO Train Epoch: 1 [2880/60000 (5%)]\tLoss: 0.207374\n",
      "2021-10-15 16:50:48,209 fedbiomed INFO - log from: client_40369a72-c962-455d-ba8a-a88fb7d10154 - INFO Train Epoch: 1 [2400/60000 (4%)]\tLoss: 0.223970\n",
      "2021-10-15 16:50:48,862 fedbiomed INFO - log from: client_9c1defaa-9967-4919-9277-7a6ccffc19f2 - INFO Train Epoch: 1 [3360/60000 (6%)]\tLoss: 0.075573\n",
      "2021-10-15 16:50:49,021 fedbiomed INFO - log from: client_40369a72-c962-455d-ba8a-a88fb7d10154 - INFO Train Epoch: 1 [2880/60000 (5%)]\tLoss: 0.313628\n",
      "2021-10-15 16:50:49,764 fedbiomed INFO - log from: client_9c1defaa-9967-4919-9277-7a6ccffc19f2 - INFO Train Epoch: 1 [3840/60000 (6%)]\tLoss: 0.177470\n",
      "2021-10-15 16:50:49,867 fedbiomed INFO - log from: client_40369a72-c962-455d-ba8a-a88fb7d10154 - INFO Train Epoch: 1 [3360/60000 (6%)]\tLoss: 0.090937\n",
      "2021-10-15 16:50:50,605 fedbiomed INFO - log from: client_9c1defaa-9967-4919-9277-7a6ccffc19f2 - INFO Train Epoch: 1 [4320/60000 (7%)]\tLoss: 0.234029\n",
      "2021-10-15 16:50:50,702 fedbiomed INFO - log from: client_40369a72-c962-455d-ba8a-a88fb7d10154 - INFO Train Epoch: 1 [3840/60000 (6%)]\tLoss: 0.438339\n",
      "2021-10-15 16:50:51,519 fedbiomed INFO - log from: client_9c1defaa-9967-4919-9277-7a6ccffc19f2 - DEBUG Reached 100 batches for this epoch, ignore remaining data\n",
      "2021-10-15 16:50:51,563 fedbiomed INFO - log from: client_40369a72-c962-455d-ba8a-a88fb7d10154 - INFO Train Epoch: 1 [4320/60000 (7%)]\tLoss: 0.490165\n",
      "2021-10-15 16:50:51,724 fedbiomed INFO - log from: client_9c1defaa-9967-4919-9277-7a6ccffc19f2 - INFO results uploaded successfully \n",
      "2021-10-15 16:50:52,094 fedbiomed INFO - log from: client_40369a72-c962-455d-ba8a-a88fb7d10154 - DEBUG Reached 100 batches for this epoch, ignore remaining data\n",
      "2021-10-15 16:50:52,259 fedbiomed INFO - log from: client_40369a72-c962-455d-ba8a-a88fb7d10154 - INFO results uploaded successfully \n",
      "2021-10-15 16:50:57,641 fedbiomed INFO - Downloading model params after training on client_9c1defaa-9967-4919-9277-7a6ccffc19f2 - from http://localhost:8844/media/uploads/2021/10/15/node_params_05f1e5c9-ee0f-4140-9251-6a65f2273416.pt\n",
      "2021-10-15 16:50:57,704 fedbiomed INFO - Downloading model params after training on client_40369a72-c962-455d-ba8a-a88fb7d10154 - from http://localhost:8844/media/uploads/2021/10/15/node_params_0828003a-7883-46ec-b963-dc529f2fd5d3.pt\n",
      "2021-10-15 16:50:57,741 fedbiomed INFO - Clients that successfully reply in round 1 ['client_9c1defaa-9967-4919-9277-7a6ccffc19f2', 'client_40369a72-c962-455d-ba8a-a88fb7d10154']\n"
     ]
    }
   ],
   "source": [
    "exp.run()"
   ]
  },
  {
   "cell_type": "markdown",
   "metadata": {},
   "source": [
    "Local training results for each round and each node are available in `exp.training_replies` (index 0 to (`rounds` - 1) ).\n",
    "\n",
    "For example you can view the training results for the last round below.\n",
    "\n",
    "Different timings (in seconds) are reported for each dataset of a node participating in a round :\n",
    "- `rtime_training` real time (clock time) spent in the training function on the node\n",
    "- `ptime_training` process time (user and system CPU) spent in the training function on the node\n",
    "- `rtime_total` real time (clock time) spent in the researcher between sending the request and handling the response, at the `Job()` layer"
   ]
  },
  {
   "cell_type": "code",
   "execution_count": null,
   "metadata": {
    "pycharm": {
     "name": "#%%\n"
    },
    "scrolled": true
   },
   "outputs": [],
   "source": [
    "print(\"\\nList the training rounds : \", exp.training_replies.keys())\n",
    "\n",
    "print(\"\\nList the clients for the last training round and their timings : \")\n",
    "round_data = exp.training_replies[rounds - 1].data\n",
    "for c in range(len(round_data)):\n",
    "    print(\"\\t- {id} :\\\n",
    "    \\n\\t\\trtime_training={rtraining:.2f} seconds\\\n",
    "    \\n\\t\\tptime_training={ptraining:.2f} seconds\\\n",
    "    \\n\\t\\trtime_total={rtotal:.2f} seconds\".format(id = round_data[c]['client_id'],\n",
    "        rtraining = round_data[c]['timing']['rtime_training'],\n",
    "        ptraining = round_data[c]['timing']['ptime_training'],\n",
    "        rtotal = round_data[c]['timing']['rtime_total']))\n",
    "print('\\n')\n",
    "    \n",
    "exp.training_replies[rounds - 1].dataframe"
   ]
  },
  {
   "cell_type": "markdown",
   "metadata": {},
   "source": [
    "Federated parameters for each round are available in `exp.aggregated_params` (index 0 to (`rounds` - 1) ).\n",
    "\n",
    "For example you can view the federated parameters for the last round of the experiment :"
   ]
  },
  {
   "cell_type": "code",
   "execution_count": null,
   "metadata": {},
   "outputs": [],
   "source": [
    "print(\"\\nList the training rounds : \", exp.aggregated_params.keys())\n",
    "\n",
    "print(\"\\nAccess the federated params for the last training round :\")\n",
    "print(\"\\t- params_path: \", exp.aggregated_params[rounds - 1]['params_path'])\n",
    "print(\"\\t- parameter data: \", exp.aggregated_params[rounds - 1]['params'].keys())\n"
   ]
  },
  {
   "cell_type": "markdown",
   "metadata": {},
   "source": [
    "## Optional : searching the data"
   ]
  },
  {
   "cell_type": "code",
   "execution_count": null,
   "metadata": {},
   "outputs": [],
   "source": [
    "from fedbiomed.researcher.requests import Requests\n",
    "\n",
    "r = Requests()\n",
    "data = r.search(tags)\n",
    "\n",
    "import pandas as pd\n",
    "for client_id in data.keys():\n",
    "    print('\\n','Data for ', client_id, '\\n\\n', pd.DataFrame(data[client_id]))"
   ]
  },
  {
   "cell_type": "markdown",
   "metadata": {
    "pycharm": {
     "name": "#%% md\n"
    }
   },
   "source": [
    "## Optional : clean file repository (do not run unless necessary)\n",
    "Clean all the files in the repo via the rest API."
   ]
  },
  {
   "cell_type": "code",
   "execution_count": null,
   "metadata": {
    "pycharm": {
     "name": "#%% md\n"
    }
   },
   "outputs": [],
   "source": [
    "# import requests\n",
    "# from fedbiomed.researcher.environ import UPLOADS_URL\n",
    "\n",
    "# uploaded_models = requests.get(UPLOADS_URL).json()\n",
    "# for m in uploaded_models:\n",
    "#   requests.delete(m['url'])"
   ]
  },
  {
   "cell_type": "markdown",
   "metadata": {
    "pycharm": {
     "name": "#%%\n"
    }
   },
   "source": [
    "Feel free to try your own models :D"
   ]
  }
 ],
 "metadata": {
  "kernelspec": {
   "display_name": "Python 3 (ipykernel)",
   "language": "python",
   "name": "python3"
  },
  "language_info": {
   "codemirror_mode": {
    "name": "ipython",
    "version": 3
   },
   "file_extension": ".py",
   "mimetype": "text/x-python",
   "name": "python",
   "nbconvert_exporter": "python",
   "pygments_lexer": "ipython3",
   "version": "3.9.7"
  }
 },
 "nbformat": 4,
 "nbformat_minor": 4
}

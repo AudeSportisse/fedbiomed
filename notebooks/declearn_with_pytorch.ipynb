{
 "cells": [
  {
   "cell_type": "markdown",
   "metadata": {},
   "source": [
    "# Fed-BioMed Researcher base example"
   ]
  },
  {
   "cell_type": "markdown",
   "metadata": {},
   "source": [
    "Use for developing (autoreloads changes made across packages)"
   ]
  },
  {
   "cell_type": "code",
   "execution_count": null,
   "metadata": {},
   "outputs": [],
   "source": [
    "%load_ext autoreload\n",
    "%autoreload 2"
   ]
  },
  {
   "cell_type": "markdown",
   "metadata": {},
   "source": [
    "## Start the network\n",
    "Before running this notebook, start the network with `./scripts/fedbiomed_run network`"
   ]
  },
  {
   "cell_type": "markdown",
   "metadata": {},
   "source": [
    "## Setting the node up\n",
    "It is necessary to previously configure a node:\n",
    "1. `./scripts/fedbiomed_run node add`\n",
    "  * Select option 2 (default) to add MNIST to the node\n",
    "  * Confirm default tags by hitting \"y\" and ENTER\n",
    "  * Pick the folder where MNIST is downloaded (this is due to a pytorch issue https://github.com/pytorch/vision/issues/3549)\n",
    "  * Data must have been added (if you get a warning saying that data must be unique is because it's been already added)\n",
    "  \n",
    "2. Check that your data has been added by executing `./scripts/fedbiomed_run node list`\n",
    "3. Run the node using `./scripts/fedbiomed_run node start`. Wait until you get `Starting task manager`. it means you are online."
   ]
  },
  {
   "cell_type": "markdown",
   "metadata": {},
   "source": [
    "## Define an experiment model and parameters\""
   ]
  },
  {
   "cell_type": "markdown",
   "metadata": {},
   "source": [
    "Declare a torch training plan MyTrainingPlan class to send for training on the node"
   ]
  },
  {
   "cell_type": "code",
   "execution_count": 1,
   "metadata": {},
   "outputs": [],
   "source": [
    "import torch\n",
    "import torch.nn as nn\n",
    "from fedbiomed.common.training_plans import TorchTrainingPlan\n",
    "from fedbiomed.common.data import DataManager\n",
    "from torchvision import datasets, transforms\n",
    "from declearn.optimizer import Optimizer\n",
    "from declearn.optimizer.modules import AdamModule\n",
    "\n",
    "\n",
    "# Here we define the model to be used. \n",
    "# You can use any class name (here 'Net')\n",
    "class MyTrainingPlan(TorchTrainingPlan):\n",
    "    \n",
    "    # Defines and return model \n",
    "    def init_model(self, model_args):\n",
    "        return self.Net(model_args = model_args)\n",
    "    \n",
    "    # Defines and return optimizer\n",
    "    def init_optimizer(self, optimizer_args):\n",
    "        return Optimizer(lrate=.1 ,modules=[AdamModule()])\n",
    "    \n",
    "    # Declares and return dependencies\n",
    "    def init_dependencies(self):\n",
    "        deps = [\"from torchvision import datasets, transforms\",\n",
    "                \"from declearn.optimizer import Optimizer\",\n",
    "                \"from declearn.optimizer.modules import AdamModule\"]\n",
    "        return deps\n",
    "    \n",
    "    class Net(nn.Module):\n",
    "        def __init__(self, model_args):\n",
    "            super().__init__()\n",
    "            self.conv1 = nn.Conv2d(1, 32, 3, 1)\n",
    "            self.conv2 = nn.Conv2d(32, 64, 3, 1)\n",
    "            self.dropout1 = nn.Dropout(0.25)\n",
    "            self.dropout2 = nn.Dropout(0.5)\n",
    "            self.fc1 = nn.Linear(9216, 128)\n",
    "            self.fc2 = nn.Linear(128, 10)\n",
    "\n",
    "        def forward(self, x):\n",
    "            x = self.conv1(x)\n",
    "            x = F.relu(x)\n",
    "            x = self.conv2(x)\n",
    "            x = F.relu(x)\n",
    "            x = F.max_pool2d(x, 2)\n",
    "            x = self.dropout1(x)\n",
    "            x = torch.flatten(x, 1)\n",
    "            x = self.fc1(x)\n",
    "            x = F.relu(x)\n",
    "            x = self.dropout2(x)\n",
    "            x = self.fc2(x)\n",
    "\n",
    "\n",
    "            output = F.log_softmax(x, dim=1)\n",
    "            return output\n",
    "\n",
    "    def training_data(self, batch_size = 48):\n",
    "        # Custom torch Dataloader for MNIST data\n",
    "        transform = transforms.Compose([transforms.ToTensor(),\n",
    "        transforms.Normalize((0.1307,), (0.3081,))])\n",
    "        dataset1 = datasets.MNIST(self.dataset_path, train=True, download=False, transform=transform)\n",
    "        train_kwargs = {'batch_size': batch_size, 'shuffle': True}\n",
    "        return DataManager(dataset=dataset1, **train_kwargs)\n",
    "    \n",
    "    def training_step(self, data, target):\n",
    "        output = self.model().forward(data)\n",
    "        loss   = torch.nn.functional.nll_loss(output, target)\n",
    "        return loss\n"
   ]
  },
  {
   "cell_type": "markdown",
   "metadata": {},
   "source": [
    "This group of arguments correspond respectively:\n",
    "* `model_args`: a dictionary with the arguments related to the model (e.g. number of layers, features, etc.). This will be passed to the model class on the node side.\n",
    "* `training_args`: a dictionary containing the arguments for the training routine (e.g. batch size, learning rate, epochs, etc.). This will be passed to the routine on the node side.\n",
    "\n",
    "**NOTE:** typos and/or lack of positional (required) arguments will raise error. 🤓"
   ]
  },
  {
   "cell_type": "code",
   "execution_count": 2,
   "metadata": {
    "pycharm": {
     "name": "#%%\n"
    }
   },
   "outputs": [],
   "source": [
    "model_args = {}\n",
    "\n",
    "training_args = {\n",
    "    'batch_size': 48, \n",
    "    'optimizer_args': {\n",
    "        \"lr\" : 1e-3\n",
    "    },\n",
    "    'epochs': 1, \n",
    "    'dry_run': False,  \n",
    "    'batch_maxnum': 100 # Fast pass for development : only use ( batch_maxnum * batch_size ) samples\n",
    "}"
   ]
  },
  {
   "cell_type": "markdown",
   "metadata": {},
   "source": [
    "## Declare and run the experiment\n",
    "\n",
    "- search nodes serving data for these `tags`, optionally filter on a list of node ID with `nodes`\n",
    "- run a round of local training on nodes with model defined in `model_path` + federation with `aggregator`\n",
    "- run for `round_limit` rounds, applying the `node_selection_strategy` between the rounds"
   ]
  },
  {
   "cell_type": "code",
   "execution_count": 3,
   "metadata": {
    "pycharm": {
     "name": "#%%\n"
    },
    "scrolled": false
   },
   "outputs": [
    {
     "name": "stderr",
     "output_type": "stream",
     "text": [
      "2023-03-07 17:53:06,788 fedbiomed INFO - Messaging researcher_cdac117b-3411-4777-9eb7-bb3c477c3f29 successfully connected to the message broker, object = <fedbiomed.common.messaging.Messaging object at 0x7f0490647d00>\n",
      "2023-03-07 17:53:06,809 fedbiomed INFO - Searching dataset with data tags: ['#MNIST', '#dataset'] for all nodes\n",
      "2023-03-07 17:53:16,824 fedbiomed INFO - Node selected for training -> node_57b462ee-4d35-4dd9-b3cb-ea964a889e92\n",
      "2023-03-07 17:53:16,826 fedbiomed INFO - Node selected for training -> node_f2b2d532-f811-424d-966f-4b21c0bfd618\n",
      "2023-03-07 17:53:16,830 fedbiomed INFO - Checking data quality of federated datasets...\n",
      "Secure RNG turned off. This is perfectly fine for experimentation as it allows for much faster training performance, but remember to turn it on and retrain one last time before production with ``secure_mode`` turned on.\n",
      "2023-03-07 17:53:16,860 fedbiomed DEBUG - Model file has been saved: /home/ybouilla/fedbiomed_2/fedbiomed/var/experiments/Experiment_0017/my_model_a6951f6d-7c76-4787-9bdd-d52e1e2229ef.py\n",
      "2023-03-07 17:53:16,881 fedbiomed DEBUG - upload (HTTP POST request) of file /home/ybouilla/fedbiomed_2/fedbiomed/var/experiments/Experiment_0017/my_model_a6951f6d-7c76-4787-9bdd-d52e1e2229ef.py successful, with status code 201\n",
      "2023-03-07 17:53:17,021 fedbiomed DEBUG - upload (HTTP POST request) of file /home/ybouilla/fedbiomed_2/fedbiomed/var/experiments/Experiment_0017/aggregated_params_init_3d1537d3-a229-462b-8c0e-e50ba58f505c.pt successful, with status code 201\n"
     ]
    }
   ],
   "source": [
    "from fedbiomed.researcher.experiment import Experiment\n",
    "from fedbiomed.researcher.aggregators.fedavg import FedAverage\n",
    "\n",
    "tags =  ['#MNIST', '#dataset']\n",
    "rounds = 2\n",
    "\n",
    "exp = Experiment(tags=tags,\n",
    "                 model_args=model_args,\n",
    "                 training_plan_class=MyTrainingPlan,\n",
    "                 training_args=training_args,\n",
    "                 round_limit=rounds,\n",
    "                 aggregator=FedAverage(),\n",
    "                 node_selection_strategy=None)"
   ]
  },
  {
   "cell_type": "markdown",
   "metadata": {
    "pycharm": {
     "name": "#%% md\n"
    }
   },
   "source": [
    "Let's start the experiment.\n",
    "\n",
    "By default, this function doesn't stop until all the `round_limit` rounds are done for all the nodes"
   ]
  },
  {
   "cell_type": "code",
   "execution_count": 4,
   "metadata": {
    "pycharm": {
     "name": "#%%\n"
    },
    "scrolled": true
   },
   "outputs": [
    {
     "name": "stderr",
     "output_type": "stream",
     "text": [
      "2023-03-07 17:53:17,031 fedbiomed INFO - Sampled nodes in round 0 ['node_57b462ee-4d35-4dd9-b3cb-ea964a889e92', 'node_f2b2d532-f811-424d-966f-4b21c0bfd618']\n",
      "2023-03-07 17:53:17,033 fedbiomed INFO - \u001b[1mSending request\u001b[0m \n",
      "\t\t\t\t\t\u001b[1m To\u001b[0m: node_57b462ee-4d35-4dd9-b3cb-ea964a889e92 \n",
      "\t\t\t\t\t\u001b[1m Request: \u001b[0m: Perform training with the arguments: {'researcher_id': 'researcher_cdac117b-3411-4777-9eb7-bb3c477c3f29', 'job_id': 'c5670aa9-7ebb-4cb4-9145-19751098f9db', 'training_args': {'batch_size': 48, 'optimizer_args': {'lr': 0.001}, 'epochs': 1, 'dry_run': False, 'batch_maxnum': 100, 'num_updates': None, 'test_ratio': 0.0, 'test_on_local_updates': False, 'test_on_global_updates': False, 'test_metric': None, 'test_metric_args': {}, 'log_interval': 10, 'fedprox_mu': None, 'use_gpu': False, 'dp_args': None}, 'training': True, 'model_args': {}, 'command': 'train', 'training_plan_url': 'http://localhost:8844/media/uploads/2023/03/07/my_model_a6951f6d-7c76-4787-9bdd-d52e1e2229ef.py', 'params_url': 'http://localhost:8844/media/uploads/2023/03/07/aggregated_params_init_3d1537d3-a229-462b-8c0e-e50ba58f505c.pt', 'training_plan_class': 'MyTrainingPlan', 'dataset_id': 'dataset_8fe79723-3516-4134-a3d1-16a2eaa366c8'} \n",
      " -----------------------------------------------------------------\n",
      "2023-03-07 17:53:17,034 fedbiomed DEBUG - researcher_cdac117b-3411-4777-9eb7-bb3c477c3f29\n",
      "2023-03-07 17:53:17,036 fedbiomed INFO - \u001b[1mSending request\u001b[0m \n",
      "\t\t\t\t\t\u001b[1m To\u001b[0m: node_f2b2d532-f811-424d-966f-4b21c0bfd618 \n",
      "\t\t\t\t\t\u001b[1m Request: \u001b[0m: Perform training with the arguments: {'researcher_id': 'researcher_cdac117b-3411-4777-9eb7-bb3c477c3f29', 'job_id': 'c5670aa9-7ebb-4cb4-9145-19751098f9db', 'training_args': {'batch_size': 48, 'optimizer_args': {'lr': 0.001}, 'epochs': 1, 'dry_run': False, 'batch_maxnum': 100, 'num_updates': None, 'test_ratio': 0.0, 'test_on_local_updates': False, 'test_on_global_updates': False, 'test_metric': None, 'test_metric_args': {}, 'log_interval': 10, 'fedprox_mu': None, 'use_gpu': False, 'dp_args': None}, 'training': True, 'model_args': {}, 'command': 'train', 'training_plan_url': 'http://localhost:8844/media/uploads/2023/03/07/my_model_a6951f6d-7c76-4787-9bdd-d52e1e2229ef.py', 'params_url': 'http://localhost:8844/media/uploads/2023/03/07/aggregated_params_init_3d1537d3-a229-462b-8c0e-e50ba58f505c.pt', 'training_plan_class': 'MyTrainingPlan', 'dataset_id': 'dataset_5eee3fc2-f1d2-47ac-874f-cf50900f0963'} \n",
      " -----------------------------------------------------------------\n",
      "2023-03-07 17:53:17,037 fedbiomed DEBUG - researcher_cdac117b-3411-4777-9eb7-bb3c477c3f29\n",
      "2023-03-07 17:53:17,099 fedbiomed INFO - \u001b[1mWARNING\u001b[0m\n",
      "\t\t\t\t\t\u001b[1m NODE\u001b[0m node_57b462ee-4d35-4dd9-b3cb-ea964a889e92\n",
      "\t\t\t\t\t\u001b[1m MESSAGE:\u001b[0m There is no validation activated for the round. Please set flag for `test_on_global_updates`, `test_on_local_updates`, or both. Splitting dataset for validation will be ignored\u001b[0m\n",
      "-----------------------------------------------------------------\n",
      "2023-03-07 17:53:17,254 fedbiomed INFO - \u001b[1mTRAINING\u001b[0m \n",
      "\t\t\t\t\t NODE_ID: node_57b462ee-4d35-4dd9-b3cb-ea964a889e92 \n",
      "\t\t\t\t\t Round 1 Epoch: 1 | Iteration: 1/100 (1%) | Samples: 48/4800\n",
      " \t\t\t\t\t Loss: \u001b[1m2.311368\u001b[0m \n",
      "\t\t\t\t\t ---------\n",
      "2023-03-07 17:53:17,377 fedbiomed INFO - \u001b[1mWARNING\u001b[0m\n",
      "\t\t\t\t\t\u001b[1m NODE\u001b[0m node_f2b2d532-f811-424d-966f-4b21c0bfd618\n",
      "\t\t\t\t\t\u001b[1m MESSAGE:\u001b[0m There is no validation activated for the round. Please set flag for `test_on_global_updates`, `test_on_local_updates`, or both. Splitting dataset for validation will be ignored\u001b[0m\n",
      "-----------------------------------------------------------------\n",
      "2023-03-07 17:53:17,781 fedbiomed INFO - \u001b[1mTRAINING\u001b[0m \n",
      "\t\t\t\t\t NODE_ID: node_f2b2d532-f811-424d-966f-4b21c0bfd618 \n",
      "\t\t\t\t\t Round 1 Epoch: 1 | Iteration: 1/100 (1%) | Samples: 48/4800\n",
      " \t\t\t\t\t Loss: \u001b[1m2.303913\u001b[0m \n",
      "\t\t\t\t\t ---------\n",
      "2023-03-07 17:53:17,866 fedbiomed INFO - \u001b[1mTRAINING\u001b[0m \n",
      "\t\t\t\t\t NODE_ID: node_57b462ee-4d35-4dd9-b3cb-ea964a889e92 \n",
      "\t\t\t\t\t Round 1 Epoch: 1 | Iteration: 10/100 (10%) | Samples: 480/4800\n",
      " \t\t\t\t\t Loss: \u001b[1m2.302533\u001b[0m \n",
      "\t\t\t\t\t ---------\n",
      "2023-03-07 17:53:18,835 fedbiomed INFO - \u001b[1mTRAINING\u001b[0m \n",
      "\t\t\t\t\t NODE_ID: node_57b462ee-4d35-4dd9-b3cb-ea964a889e92 \n",
      "\t\t\t\t\t Round 1 Epoch: 1 | Iteration: 20/100 (20%) | Samples: 960/4800\n",
      " \t\t\t\t\t Loss: \u001b[1m2.302917\u001b[0m \n",
      "\t\t\t\t\t ---------\n",
      "2023-03-07 17:53:19,032 fedbiomed INFO - \u001b[1mTRAINING\u001b[0m \n",
      "\t\t\t\t\t NODE_ID: node_f2b2d532-f811-424d-966f-4b21c0bfd618 \n",
      "\t\t\t\t\t Round 1 Epoch: 1 | Iteration: 10/100 (10%) | Samples: 480/4800\n",
      " \t\t\t\t\t Loss: \u001b[1m2.290898\u001b[0m \n",
      "\t\t\t\t\t ---------\n",
      "2023-03-07 17:53:19,942 fedbiomed INFO - \u001b[1mTRAINING\u001b[0m \n",
      "\t\t\t\t\t NODE_ID: node_57b462ee-4d35-4dd9-b3cb-ea964a889e92 \n",
      "\t\t\t\t\t Round 1 Epoch: 1 | Iteration: 30/100 (30%) | Samples: 1440/4800\n",
      " \t\t\t\t\t Loss: \u001b[1m2.295260\u001b[0m \n",
      "\t\t\t\t\t ---------\n",
      "2023-03-07 17:53:20,839 fedbiomed INFO - \u001b[1mTRAINING\u001b[0m \n",
      "\t\t\t\t\t NODE_ID: node_57b462ee-4d35-4dd9-b3cb-ea964a889e92 \n",
      "\t\t\t\t\t Round 1 Epoch: 1 | Iteration: 40/100 (40%) | Samples: 1920/4800\n",
      " \t\t\t\t\t Loss: \u001b[1m2.321873\u001b[0m \n",
      "\t\t\t\t\t ---------\n",
      "2023-03-07 17:53:20,842 fedbiomed INFO - \u001b[1mTRAINING\u001b[0m \n",
      "\t\t\t\t\t NODE_ID: node_f2b2d532-f811-424d-966f-4b21c0bfd618 \n",
      "\t\t\t\t\t Round 1 Epoch: 1 | Iteration: 20/100 (20%) | Samples: 960/4800\n",
      " \t\t\t\t\t Loss: \u001b[1m2.309005\u001b[0m \n",
      "\t\t\t\t\t ---------\n",
      "2023-03-07 17:53:21,463 fedbiomed INFO - \u001b[1mTRAINING\u001b[0m \n",
      "\t\t\t\t\t NODE_ID: node_57b462ee-4d35-4dd9-b3cb-ea964a889e92 \n",
      "\t\t\t\t\t Round 1 Epoch: 1 | Iteration: 50/100 (50%) | Samples: 2400/4800\n",
      " \t\t\t\t\t Loss: \u001b[1m2.320775\u001b[0m \n",
      "\t\t\t\t\t ---------\n",
      "2023-03-07 17:53:21,545 fedbiomed INFO - \u001b[1mTRAINING\u001b[0m \n",
      "\t\t\t\t\t NODE_ID: node_f2b2d532-f811-424d-966f-4b21c0bfd618 \n",
      "\t\t\t\t\t Round 1 Epoch: 1 | Iteration: 30/100 (30%) | Samples: 1440/4800\n",
      " \t\t\t\t\t Loss: \u001b[1m2.285025\u001b[0m \n",
      "\t\t\t\t\t ---------\n",
      "2023-03-07 17:53:22,250 fedbiomed INFO - \u001b[1mTRAINING\u001b[0m \n",
      "\t\t\t\t\t NODE_ID: node_57b462ee-4d35-4dd9-b3cb-ea964a889e92 \n",
      "\t\t\t\t\t Round 1 Epoch: 1 | Iteration: 60/100 (60%) | Samples: 2880/4800\n",
      " \t\t\t\t\t Loss: \u001b[1m2.296052\u001b[0m \n",
      "\t\t\t\t\t ---------\n",
      "2023-03-07 17:53:22,349 fedbiomed INFO - \u001b[1mTRAINING\u001b[0m \n",
      "\t\t\t\t\t NODE_ID: node_f2b2d532-f811-424d-966f-4b21c0bfd618 \n",
      "\t\t\t\t\t Round 1 Epoch: 1 | Iteration: 40/100 (40%) | Samples: 1920/4800\n",
      " \t\t\t\t\t Loss: \u001b[1m2.310812\u001b[0m \n",
      "\t\t\t\t\t ---------\n",
      "2023-03-07 17:53:22,935 fedbiomed INFO - \u001b[1mTRAINING\u001b[0m \n",
      "\t\t\t\t\t NODE_ID: node_f2b2d532-f811-424d-966f-4b21c0bfd618 \n",
      "\t\t\t\t\t Round 1 Epoch: 1 | Iteration: 50/100 (50%) | Samples: 2400/4800\n",
      " \t\t\t\t\t Loss: \u001b[1m2.301204\u001b[0m \n",
      "\t\t\t\t\t ---------\n",
      "2023-03-07 17:53:23,002 fedbiomed INFO - \u001b[1mTRAINING\u001b[0m \n",
      "\t\t\t\t\t NODE_ID: node_57b462ee-4d35-4dd9-b3cb-ea964a889e92 \n",
      "\t\t\t\t\t Round 1 Epoch: 1 | Iteration: 70/100 (70%) | Samples: 3360/4800\n",
      " \t\t\t\t\t Loss: \u001b[1m2.311208\u001b[0m \n",
      "\t\t\t\t\t ---------\n",
      "2023-03-07 17:53:23,730 fedbiomed INFO - \u001b[1mTRAINING\u001b[0m \n",
      "\t\t\t\t\t NODE_ID: node_f2b2d532-f811-424d-966f-4b21c0bfd618 \n",
      "\t\t\t\t\t Round 1 Epoch: 1 | Iteration: 60/100 (60%) | Samples: 2880/4800\n",
      " \t\t\t\t\t Loss: \u001b[1m2.293560\u001b[0m \n",
      "\t\t\t\t\t ---------\n",
      "2023-03-07 17:53:23,822 fedbiomed INFO - \u001b[1mTRAINING\u001b[0m \n",
      "\t\t\t\t\t NODE_ID: node_57b462ee-4d35-4dd9-b3cb-ea964a889e92 \n",
      "\t\t\t\t\t Round 1 Epoch: 1 | Iteration: 80/100 (80%) | Samples: 3840/4800\n",
      " \t\t\t\t\t Loss: \u001b[1m2.293563\u001b[0m \n",
      "\t\t\t\t\t ---------\n",
      "2023-03-07 17:53:24,373 fedbiomed INFO - \u001b[1mTRAINING\u001b[0m \n",
      "\t\t\t\t\t NODE_ID: node_f2b2d532-f811-424d-966f-4b21c0bfd618 \n",
      "\t\t\t\t\t Round 1 Epoch: 1 | Iteration: 70/100 (70%) | Samples: 3360/4800\n",
      " \t\t\t\t\t Loss: \u001b[1m2.292862\u001b[0m \n",
      "\t\t\t\t\t ---------\n",
      "2023-03-07 17:53:24,480 fedbiomed INFO - \u001b[1mTRAINING\u001b[0m \n",
      "\t\t\t\t\t NODE_ID: node_57b462ee-4d35-4dd9-b3cb-ea964a889e92 \n",
      "\t\t\t\t\t Round 1 Epoch: 1 | Iteration: 90/100 (90%) | Samples: 4320/4800\n",
      " \t\t\t\t\t Loss: \u001b[1m2.312552\u001b[0m \n",
      "\t\t\t\t\t ---------\n",
      "2023-03-07 17:53:24,960 fedbiomed INFO - \u001b[1mTRAINING\u001b[0m \n",
      "\t\t\t\t\t NODE_ID: node_f2b2d532-f811-424d-966f-4b21c0bfd618 \n",
      "\t\t\t\t\t Round 1 Epoch: 1 | Iteration: 80/100 (80%) | Samples: 3840/4800\n",
      " \t\t\t\t\t Loss: \u001b[1m2.303989\u001b[0m \n",
      "\t\t\t\t\t ---------\n",
      "2023-03-07 17:53:25,129 fedbiomed INFO - \u001b[1mTRAINING\u001b[0m \n",
      "\t\t\t\t\t NODE_ID: node_57b462ee-4d35-4dd9-b3cb-ea964a889e92 \n",
      "\t\t\t\t\t Round 1 Epoch: 1 | Iteration: 100/100 (100%) | Samples: 4800/4800\n",
      " \t\t\t\t\t Loss: \u001b[1m2.308747\u001b[0m \n",
      "\t\t\t\t\t ---------\n",
      "2023-03-07 17:53:25,288 fedbiomed INFO - \u001b[1mINFO\u001b[0m\n",
      "\t\t\t\t\t\u001b[1m NODE\u001b[0m node_57b462ee-4d35-4dd9-b3cb-ea964a889e92\n",
      "\t\t\t\t\t\u001b[1m MESSAGE:\u001b[0m results uploaded successfully \u001b[0m\n",
      "-----------------------------------------------------------------\n"
     ]
    },
    {
     "name": "stderr",
     "output_type": "stream",
     "text": [
      "2023-03-07 17:53:25,518 fedbiomed INFO - \u001b[1mTRAINING\u001b[0m \n",
      "\t\t\t\t\t NODE_ID: node_f2b2d532-f811-424d-966f-4b21c0bfd618 \n",
      "\t\t\t\t\t Round 1 Epoch: 1 | Iteration: 90/100 (90%) | Samples: 4320/4800\n",
      " \t\t\t\t\t Loss: \u001b[1m2.298864\u001b[0m \n",
      "\t\t\t\t\t ---------\n",
      "2023-03-07 17:53:25,912 fedbiomed INFO - \u001b[1mTRAINING\u001b[0m \n",
      "\t\t\t\t\t NODE_ID: node_f2b2d532-f811-424d-966f-4b21c0bfd618 \n",
      "\t\t\t\t\t Round 1 Epoch: 1 | Iteration: 100/100 (100%) | Samples: 4800/4800\n",
      " \t\t\t\t\t Loss: \u001b[1m2.317614\u001b[0m \n",
      "\t\t\t\t\t ---------\n",
      "2023-03-07 17:53:26,038 fedbiomed INFO - \u001b[1mINFO\u001b[0m\n",
      "\t\t\t\t\t\u001b[1m NODE\u001b[0m node_f2b2d532-f811-424d-966f-4b21c0bfd618\n",
      "\t\t\t\t\t\u001b[1m MESSAGE:\u001b[0m results uploaded successfully \u001b[0m\n",
      "-----------------------------------------------------------------\n",
      "2023-03-07 17:53:32,056 fedbiomed INFO - Downloading model params after training on node_57b462ee-4d35-4dd9-b3cb-ea964a889e92 - from http://localhost:8844/media/uploads/2023/03/07/node_params_1390398f-936f-46b9-b8cc-7333dcb452db.pt\n",
      "2023-03-07 17:53:32,094 fedbiomed DEBUG - upload (HTTP GET request) of file node_params_7e025801-ffb2-4b5d-ad13-2811dcc51e3a.pt successful, with status code 200\n",
      "2023-03-07 17:53:32,106 fedbiomed INFO - Downloading model params after training on node_f2b2d532-f811-424d-966f-4b21c0bfd618 - from http://localhost:8844/media/uploads/2023/03/07/node_params_0b3638b9-b226-432a-9316-eab9b30ef38e.pt\n",
      "2023-03-07 17:53:32,129 fedbiomed DEBUG - upload (HTTP GET request) of file node_params_8278da45-59a2-4617-a129-43ca52e34728.pt successful, with status code 200\n",
      "2023-03-07 17:53:32,140 fedbiomed INFO - Nodes that successfully reply in round 0 ['node_57b462ee-4d35-4dd9-b3cb-ea964a889e92', 'node_f2b2d532-f811-424d-966f-4b21c0bfd618']\n",
      "2023-03-07 17:53:32,293 fedbiomed DEBUG - upload (HTTP POST request) of file /home/ybouilla/fedbiomed_2/fedbiomed/var/experiments/Experiment_0017/aggregated_paramsc2833f59-8066-490b-8f20-5da5a172b845.pt successful, with status code 201\n",
      "2023-03-07 17:53:32,294 fedbiomed INFO - Saved aggregated params for round 0 in /home/ybouilla/fedbiomed_2/fedbiomed/var/experiments/Experiment_0017/aggregated_paramsc2833f59-8066-490b-8f20-5da5a172b845.pt\n",
      "2023-03-07 17:53:32,296 fedbiomed INFO - Sampled nodes in round 1 ['node_57b462ee-4d35-4dd9-b3cb-ea964a889e92', 'node_f2b2d532-f811-424d-966f-4b21c0bfd618']\n",
      "2023-03-07 17:53:32,297 fedbiomed INFO - \u001b[1mSending request\u001b[0m \n",
      "\t\t\t\t\t\u001b[1m To\u001b[0m: node_57b462ee-4d35-4dd9-b3cb-ea964a889e92 \n",
      "\t\t\t\t\t\u001b[1m Request: \u001b[0m: Perform training with the arguments: {'researcher_id': 'researcher_cdac117b-3411-4777-9eb7-bb3c477c3f29', 'job_id': 'c5670aa9-7ebb-4cb4-9145-19751098f9db', 'training_args': {'batch_size': 48, 'optimizer_args': {'lr': 0.001}, 'epochs': 1, 'dry_run': False, 'batch_maxnum': 100, 'num_updates': None, 'test_ratio': 0.0, 'test_on_local_updates': False, 'test_on_global_updates': False, 'test_metric': None, 'test_metric_args': {}, 'log_interval': 10, 'fedprox_mu': None, 'use_gpu': False, 'dp_args': None}, 'training': True, 'model_args': {}, 'command': 'train', 'training_plan_url': 'http://localhost:8844/media/uploads/2023/03/07/my_model_a6951f6d-7c76-4787-9bdd-d52e1e2229ef.py', 'params_url': 'http://localhost:8844/media/uploads/2023/03/07/aggregated_paramsc2833f59-8066-490b-8f20-5da5a172b845.pt', 'training_plan_class': 'MyTrainingPlan', 'dataset_id': 'dataset_8fe79723-3516-4134-a3d1-16a2eaa366c8'} \n",
      " -----------------------------------------------------------------\n",
      "2023-03-07 17:53:32,298 fedbiomed DEBUG - researcher_cdac117b-3411-4777-9eb7-bb3c477c3f29\n",
      "2023-03-07 17:53:32,299 fedbiomed INFO - \u001b[1mSending request\u001b[0m \n",
      "\t\t\t\t\t\u001b[1m To\u001b[0m: node_f2b2d532-f811-424d-966f-4b21c0bfd618 \n",
      "\t\t\t\t\t\u001b[1m Request: \u001b[0m: Perform training with the arguments: {'researcher_id': 'researcher_cdac117b-3411-4777-9eb7-bb3c477c3f29', 'job_id': 'c5670aa9-7ebb-4cb4-9145-19751098f9db', 'training_args': {'batch_size': 48, 'optimizer_args': {'lr': 0.001}, 'epochs': 1, 'dry_run': False, 'batch_maxnum': 100, 'num_updates': None, 'test_ratio': 0.0, 'test_on_local_updates': False, 'test_on_global_updates': False, 'test_metric': None, 'test_metric_args': {}, 'log_interval': 10, 'fedprox_mu': None, 'use_gpu': False, 'dp_args': None}, 'training': True, 'model_args': {}, 'command': 'train', 'training_plan_url': 'http://localhost:8844/media/uploads/2023/03/07/my_model_a6951f6d-7c76-4787-9bdd-d52e1e2229ef.py', 'params_url': 'http://localhost:8844/media/uploads/2023/03/07/aggregated_paramsc2833f59-8066-490b-8f20-5da5a172b845.pt', 'training_plan_class': 'MyTrainingPlan', 'dataset_id': 'dataset_5eee3fc2-f1d2-47ac-874f-cf50900f0963'} \n",
      " -----------------------------------------------------------------\n",
      "2023-03-07 17:53:32,300 fedbiomed DEBUG - researcher_cdac117b-3411-4777-9eb7-bb3c477c3f29\n",
      "2023-03-07 17:53:32,365 fedbiomed INFO - \u001b[1mWARNING\u001b[0m\n",
      "\t\t\t\t\t\u001b[1m NODE\u001b[0m node_f2b2d532-f811-424d-966f-4b21c0bfd618\n",
      "\t\t\t\t\t\u001b[1m MESSAGE:\u001b[0m There is no validation activated for the round. Please set flag for `test_on_global_updates`, `test_on_local_updates`, or both. Splitting dataset for validation will be ignored\u001b[0m\n",
      "-----------------------------------------------------------------\n",
      "2023-03-07 17:53:32,385 fedbiomed INFO - \u001b[1mWARNING\u001b[0m\n",
      "\t\t\t\t\t\u001b[1m NODE\u001b[0m node_57b462ee-4d35-4dd9-b3cb-ea964a889e92\n",
      "\t\t\t\t\t\u001b[1m MESSAGE:\u001b[0m There is no validation activated for the round. Please set flag for `test_on_global_updates`, `test_on_local_updates`, or both. Splitting dataset for validation will be ignored\u001b[0m\n",
      "-----------------------------------------------------------------\n",
      "2023-03-07 17:53:32,523 fedbiomed INFO - \u001b[1mTRAINING\u001b[0m \n",
      "\t\t\t\t\t NODE_ID: node_f2b2d532-f811-424d-966f-4b21c0bfd618 \n",
      "\t\t\t\t\t Round 2 Epoch: 1 | Iteration: 1/100 (1%) | Samples: 48/4800\n",
      " \t\t\t\t\t Loss: \u001b[1m2.295406\u001b[0m \n",
      "\t\t\t\t\t ---------\n",
      "2023-03-07 17:53:32,542 fedbiomed INFO - \u001b[1mTRAINING\u001b[0m \n",
      "\t\t\t\t\t NODE_ID: node_57b462ee-4d35-4dd9-b3cb-ea964a889e92 \n",
      "\t\t\t\t\t Round 2 Epoch: 1 | Iteration: 1/100 (1%) | Samples: 48/4800\n",
      " \t\t\t\t\t Loss: \u001b[1m2.301929\u001b[0m \n",
      "\t\t\t\t\t ---------\n",
      "2023-03-07 17:53:33,335 fedbiomed INFO - \u001b[1mTRAINING\u001b[0m \n",
      "\t\t\t\t\t NODE_ID: node_f2b2d532-f811-424d-966f-4b21c0bfd618 \n",
      "\t\t\t\t\t Round 2 Epoch: 1 | Iteration: 10/100 (10%) | Samples: 480/4800\n",
      " \t\t\t\t\t Loss: \u001b[1m2.294534\u001b[0m \n",
      "\t\t\t\t\t ---------\n",
      "2023-03-07 17:53:34,337 fedbiomed INFO - \u001b[1mTRAINING\u001b[0m \n",
      "\t\t\t\t\t NODE_ID: node_57b462ee-4d35-4dd9-b3cb-ea964a889e92 \n",
      "\t\t\t\t\t Round 2 Epoch: 1 | Iteration: 10/100 (10%) | Samples: 480/4800\n",
      " \t\t\t\t\t Loss: \u001b[1m2.307202\u001b[0m \n",
      "\t\t\t\t\t ---------\n",
      "2023-03-07 17:53:34,872 fedbiomed INFO - \u001b[1mTRAINING\u001b[0m \n",
      "\t\t\t\t\t NODE_ID: node_f2b2d532-f811-424d-966f-4b21c0bfd618 \n",
      "\t\t\t\t\t Round 2 Epoch: 1 | Iteration: 20/100 (20%) | Samples: 960/4800\n",
      " \t\t\t\t\t Loss: \u001b[1m2.303916\u001b[0m \n",
      "\t\t\t\t\t ---------\n",
      "2023-03-07 17:53:35,664 fedbiomed INFO - \u001b[1mTRAINING\u001b[0m \n",
      "\t\t\t\t\t NODE_ID: node_f2b2d532-f811-424d-966f-4b21c0bfd618 \n",
      "\t\t\t\t\t Round 2 Epoch: 1 | Iteration: 30/100 (30%) | Samples: 1440/4800\n",
      " \t\t\t\t\t Loss: \u001b[1m2.315890\u001b[0m \n",
      "\t\t\t\t\t ---------\n",
      "2023-03-07 17:53:36,568 fedbiomed INFO - \u001b[1mTRAINING\u001b[0m \n",
      "\t\t\t\t\t NODE_ID: node_57b462ee-4d35-4dd9-b3cb-ea964a889e92 \n",
      "\t\t\t\t\t Round 2 Epoch: 1 | Iteration: 20/100 (20%) | Samples: 960/4800\n",
      " \t\t\t\t\t Loss: \u001b[1m2.300142\u001b[0m \n",
      "\t\t\t\t\t ---------\n",
      "2023-03-07 17:53:36,655 fedbiomed INFO - \u001b[1mTRAINING\u001b[0m \n",
      "\t\t\t\t\t NODE_ID: node_f2b2d532-f811-424d-966f-4b21c0bfd618 \n",
      "\t\t\t\t\t Round 2 Epoch: 1 | Iteration: 40/100 (40%) | Samples: 1920/4800\n",
      " \t\t\t\t\t Loss: \u001b[1m2.287916\u001b[0m \n",
      "\t\t\t\t\t ---------\n",
      "2023-03-07 17:53:37,188 fedbiomed INFO - \u001b[1mTRAINING\u001b[0m \n",
      "\t\t\t\t\t NODE_ID: node_57b462ee-4d35-4dd9-b3cb-ea964a889e92 \n",
      "\t\t\t\t\t Round 2 Epoch: 1 | Iteration: 30/100 (30%) | Samples: 1440/4800\n",
      " \t\t\t\t\t Loss: \u001b[1m2.292338\u001b[0m \n",
      "\t\t\t\t\t ---------\n",
      "2023-03-07 17:53:37,322 fedbiomed INFO - \u001b[1mTRAINING\u001b[0m \n",
      "\t\t\t\t\t NODE_ID: node_f2b2d532-f811-424d-966f-4b21c0bfd618 \n",
      "\t\t\t\t\t Round 2 Epoch: 1 | Iteration: 50/100 (50%) | Samples: 2400/4800\n",
      " \t\t\t\t\t Loss: \u001b[1m2.303467\u001b[0m \n",
      "\t\t\t\t\t ---------\n",
      "2023-03-07 17:53:37,835 fedbiomed INFO - \u001b[1mTRAINING\u001b[0m \n",
      "\t\t\t\t\t NODE_ID: node_57b462ee-4d35-4dd9-b3cb-ea964a889e92 \n",
      "\t\t\t\t\t Round 2 Epoch: 1 | Iteration: 40/100 (40%) | Samples: 1920/4800\n",
      " \t\t\t\t\t Loss: \u001b[1m2.310945\u001b[0m \n",
      "\t\t\t\t\t ---------\n",
      "2023-03-07 17:53:37,979 fedbiomed INFO - \u001b[1mTRAINING\u001b[0m \n",
      "\t\t\t\t\t NODE_ID: node_f2b2d532-f811-424d-966f-4b21c0bfd618 \n",
      "\t\t\t\t\t Round 2 Epoch: 1 | Iteration: 60/100 (60%) | Samples: 2880/4800\n",
      " \t\t\t\t\t Loss: \u001b[1m2.292224\u001b[0m \n",
      "\t\t\t\t\t ---------\n"
     ]
    },
    {
     "name": "stderr",
     "output_type": "stream",
     "text": [
      "2023-03-07 17:53:38,481 fedbiomed INFO - \u001b[1mTRAINING\u001b[0m \n",
      "\t\t\t\t\t NODE_ID: node_57b462ee-4d35-4dd9-b3cb-ea964a889e92 \n",
      "\t\t\t\t\t Round 2 Epoch: 1 | Iteration: 50/100 (50%) | Samples: 2400/4800\n",
      " \t\t\t\t\t Loss: \u001b[1m2.302878\u001b[0m \n",
      "\t\t\t\t\t ---------\n",
      "2023-03-07 17:53:38,586 fedbiomed INFO - \u001b[1mTRAINING\u001b[0m \n",
      "\t\t\t\t\t NODE_ID: node_f2b2d532-f811-424d-966f-4b21c0bfd618 \n",
      "\t\t\t\t\t Round 2 Epoch: 1 | Iteration: 70/100 (70%) | Samples: 3360/4800\n",
      " \t\t\t\t\t Loss: \u001b[1m2.303962\u001b[0m \n",
      "\t\t\t\t\t ---------\n",
      "2023-03-07 17:53:39,106 fedbiomed INFO - \u001b[1mTRAINING\u001b[0m \n",
      "\t\t\t\t\t NODE_ID: node_57b462ee-4d35-4dd9-b3cb-ea964a889e92 \n",
      "\t\t\t\t\t Round 2 Epoch: 1 | Iteration: 60/100 (60%) | Samples: 2880/4800\n",
      " \t\t\t\t\t Loss: \u001b[1m2.300400\u001b[0m \n",
      "\t\t\t\t\t ---------\n",
      "2023-03-07 17:53:39,212 fedbiomed INFO - \u001b[1mTRAINING\u001b[0m \n",
      "\t\t\t\t\t NODE_ID: node_f2b2d532-f811-424d-966f-4b21c0bfd618 \n",
      "\t\t\t\t\t Round 2 Epoch: 1 | Iteration: 80/100 (80%) | Samples: 3840/4800\n",
      " \t\t\t\t\t Loss: \u001b[1m2.309898\u001b[0m \n",
      "\t\t\t\t\t ---------\n",
      "2023-03-07 17:53:39,743 fedbiomed INFO - \u001b[1mTRAINING\u001b[0m \n",
      "\t\t\t\t\t NODE_ID: node_57b462ee-4d35-4dd9-b3cb-ea964a889e92 \n",
      "\t\t\t\t\t Round 2 Epoch: 1 | Iteration: 70/100 (70%) | Samples: 3360/4800\n",
      " \t\t\t\t\t Loss: \u001b[1m2.305571\u001b[0m \n",
      "\t\t\t\t\t ---------\n",
      "2023-03-07 17:53:39,877 fedbiomed INFO - \u001b[1mTRAINING\u001b[0m \n",
      "\t\t\t\t\t NODE_ID: node_f2b2d532-f811-424d-966f-4b21c0bfd618 \n",
      "\t\t\t\t\t Round 2 Epoch: 1 | Iteration: 90/100 (90%) | Samples: 4320/4800\n",
      " \t\t\t\t\t Loss: \u001b[1m2.314108\u001b[0m \n",
      "\t\t\t\t\t ---------\n",
      "2023-03-07 17:53:40,377 fedbiomed INFO - \u001b[1mTRAINING\u001b[0m \n",
      "\t\t\t\t\t NODE_ID: node_57b462ee-4d35-4dd9-b3cb-ea964a889e92 \n",
      "\t\t\t\t\t Round 2 Epoch: 1 | Iteration: 80/100 (80%) | Samples: 3840/4800\n",
      " \t\t\t\t\t Loss: \u001b[1m2.290209\u001b[0m \n",
      "\t\t\t\t\t ---------\n",
      "2023-03-07 17:53:40,495 fedbiomed INFO - \u001b[1mTRAINING\u001b[0m \n",
      "\t\t\t\t\t NODE_ID: node_f2b2d532-f811-424d-966f-4b21c0bfd618 \n",
      "\t\t\t\t\t Round 2 Epoch: 1 | Iteration: 100/100 (100%) | Samples: 4800/4800\n",
      " \t\t\t\t\t Loss: \u001b[1m2.310064\u001b[0m \n",
      "\t\t\t\t\t ---------\n",
      "2023-03-07 17:53:40,664 fedbiomed INFO - \u001b[1mINFO\u001b[0m\n",
      "\t\t\t\t\t\u001b[1m NODE\u001b[0m node_f2b2d532-f811-424d-966f-4b21c0bfd618\n",
      "\t\t\t\t\t\u001b[1m MESSAGE:\u001b[0m results uploaded successfully \u001b[0m\n",
      "-----------------------------------------------------------------\n",
      "2023-03-07 17:53:40,896 fedbiomed INFO - \u001b[1mTRAINING\u001b[0m \n",
      "\t\t\t\t\t NODE_ID: node_57b462ee-4d35-4dd9-b3cb-ea964a889e92 \n",
      "\t\t\t\t\t Round 2 Epoch: 1 | Iteration: 90/100 (90%) | Samples: 4320/4800\n",
      " \t\t\t\t\t Loss: \u001b[1m2.290269\u001b[0m \n",
      "\t\t\t\t\t ---------\n",
      "2023-03-07 17:53:41,277 fedbiomed INFO - \u001b[1mTRAINING\u001b[0m \n",
      "\t\t\t\t\t NODE_ID: node_57b462ee-4d35-4dd9-b3cb-ea964a889e92 \n",
      "\t\t\t\t\t Round 2 Epoch: 1 | Iteration: 100/100 (100%) | Samples: 4800/4800\n",
      " \t\t\t\t\t Loss: \u001b[1m2.301562\u001b[0m \n",
      "\t\t\t\t\t ---------\n",
      "2023-03-07 17:53:41,407 fedbiomed INFO - \u001b[1mINFO\u001b[0m\n",
      "\t\t\t\t\t\u001b[1m NODE\u001b[0m node_57b462ee-4d35-4dd9-b3cb-ea964a889e92\n",
      "\t\t\t\t\t\u001b[1m MESSAGE:\u001b[0m results uploaded successfully \u001b[0m\n",
      "-----------------------------------------------------------------\n",
      "2023-03-07 17:53:47,322 fedbiomed INFO - Downloading model params after training on node_f2b2d532-f811-424d-966f-4b21c0bfd618 - from http://localhost:8844/media/uploads/2023/03/07/node_params_55a16e18-7dff-42c0-856a-fc7e6b71ac90.pt\n",
      "2023-03-07 17:53:47,354 fedbiomed DEBUG - upload (HTTP GET request) of file node_params_1f7b2cd6-0132-405d-8e79-a3cf1aac5634.pt successful, with status code 200\n",
      "2023-03-07 17:53:47,360 fedbiomed INFO - Downloading model params after training on node_57b462ee-4d35-4dd9-b3cb-ea964a889e92 - from http://localhost:8844/media/uploads/2023/03/07/node_params_3e4fcb97-2035-41e3-9150-def943a629c1.pt\n",
      "2023-03-07 17:53:47,381 fedbiomed DEBUG - upload (HTTP GET request) of file node_params_dc0a6fd2-79d2-4eb7-b7c9-d96970872c7a.pt successful, with status code 200\n",
      "2023-03-07 17:53:47,394 fedbiomed INFO - Nodes that successfully reply in round 1 ['node_f2b2d532-f811-424d-966f-4b21c0bfd618', 'node_57b462ee-4d35-4dd9-b3cb-ea964a889e92']\n",
      "2023-03-07 17:53:47,538 fedbiomed DEBUG - upload (HTTP POST request) of file /home/ybouilla/fedbiomed_2/fedbiomed/var/experiments/Experiment_0017/aggregated_params41c673be-5bee-4b63-b690-7189c8a94c0c.pt successful, with status code 201\n",
      "2023-03-07 17:53:47,539 fedbiomed INFO - Saved aggregated params for round 1 in /home/ybouilla/fedbiomed_2/fedbiomed/var/experiments/Experiment_0017/aggregated_params41c673be-5bee-4b63-b690-7189c8a94c0c.pt\n"
     ]
    },
    {
     "data": {
      "text/plain": [
       "2"
      ]
     },
     "execution_count": 4,
     "metadata": {},
     "output_type": "execute_result"
    }
   ],
   "source": [
    "exp.run()"
   ]
  },
  {
   "cell_type": "markdown",
   "metadata": {},
   "source": [
    "Local training results for each round and each node are available via `exp.training_replies()` (index 0 to (`rounds` - 1) ).\n",
    "\n",
    "For example you can view the training results for the last round below.\n",
    "\n",
    "Different timings (in seconds) are reported for each dataset of a node participating in a round :\n",
    "- `rtime_training` real time (clock time) spent in the training function on the node\n",
    "- `ptime_training` process time (user and system CPU) spent in the training function on the node\n",
    "- `rtime_total` real time (clock time) spent in the researcher between sending the request and handling the response, at the `Job()` layer"
   ]
  },
  {
   "cell_type": "code",
   "execution_count": null,
   "metadata": {
    "pycharm": {
     "name": "#%%\n"
    },
    "scrolled": true
   },
   "outputs": [],
   "source": [
    "print(\"\\nList the training rounds : \", exp.training_replies().keys())\n",
    "\n",
    "print(\"\\nList the nodes for the last training round and their timings : \")\n",
    "round_data = exp.training_replies()[rounds - 1].data()\n",
    "for c in range(len(round_data)):\n",
    "    print(\"\\t- {id} :\\\n",
    "    \\n\\t\\trtime_training={rtraining:.2f} seconds\\\n",
    "    \\n\\t\\tptime_training={ptraining:.2f} seconds\\\n",
    "    \\n\\t\\trtime_total={rtotal:.2f} seconds\".format(id = round_data[c]['node_id'],\n",
    "        rtraining = round_data[c]['timing']['rtime_training'],\n",
    "        ptraining = round_data[c]['timing']['ptime_training'],\n",
    "        rtotal = round_data[c]['timing']['rtime_total']))\n",
    "print('\\n')\n",
    "    \n",
    "exp.training_replies()[rounds - 1].dataframe()"
   ]
  },
  {
   "cell_type": "markdown",
   "metadata": {},
   "source": [
    "Federated parameters for each round are available via `exp.aggregated_params()` (index 0 to (`rounds` - 1) ).\n",
    "\n",
    "For example you can view the federated parameters for the last round of the experiment :"
   ]
  },
  {
   "cell_type": "code",
   "execution_count": null,
   "metadata": {},
   "outputs": [],
   "source": [
    "print(\"\\nList the training rounds : \", exp.aggregated_params().keys())\n",
    "\n",
    "print(\"\\nAccess the federated params for the last training round :\")\n",
    "print(\"\\t- params_path: \", exp.aggregated_params()[rounds - 1]['params_path'])\n",
    "print(\"\\t- parameter data: \", exp.aggregated_params()[rounds - 1]['params'].keys())\n"
   ]
  },
  {
   "cell_type": "markdown",
   "metadata": {
    "pycharm": {
     "name": "#%% md\n"
    }
   },
   "source": [
    "Feel free to run other sample notebooks or try your own models :D"
   ]
  }
 ],
 "metadata": {
  "kernelspec": {
   "display_name": "Python 3 (ipykernel)",
   "language": "python",
   "name": "python3"
  },
  "language_info": {
   "codemirror_mode": {
    "name": "ipython",
    "version": 3
   },
   "file_extension": ".py",
   "mimetype": "text/x-python",
   "name": "python",
   "nbconvert_exporter": "python",
   "pygments_lexer": "ipython3",
   "version": "3.9.16"
  }
 },
 "nbformat": 4,
 "nbformat_minor": 4
}

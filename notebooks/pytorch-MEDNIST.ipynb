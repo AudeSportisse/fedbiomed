{
 "cells": [
  {
   "cell_type": "markdown",
   "metadata": {},
   "source": [
    "# Fedbiomed Researcher base example"
   ]
  },
  {
   "cell_type": "markdown",
   "metadata": {},
   "source": [
    "## Introduction\n",
    "\n",
    "This tutorial shows how to do 2d image classification example on MedNIST dataset using pretrained PyTorch model Densnet121 https://pytorch.org/vision/main/generated/torchvision.models.densenet121.html.\n",
    "\n",
    "\n",
    "## Load MedNIST to the node\n",
    "### About MedNIST\n",
    "\n",
    "MedNIST provides an artificial 2d classification dataset created by gathering different medical imaging datasets from TCIA, the RSNA Bone Age Challenge, and the NIH Chest X-ray dataset. The dataset is kindly made available by Dr. Bradley J. Erickson M.D., Ph.D. (Department of Radiology, Mayo Clinic) under the Creative Commons CC BY-SA 4.0 license.\n",
    "\n",
    "MedNIST dataset is downloaded from the resources provided by the project MONAI:\n",
    "https://github.com/Project-MONAI/MONAI-extra-test-data/releases/download/0.8.1/MedNIST.tar.gz\n",
    "\n",
    "The dataset MedNIST has 58954 images of size (3, 64, 64) distributed into 6 classes (10000 images per class except for BreastMRI class which has 8954 images). It has the structure:\n",
    "\n",
    "\n",
    "└── MedNIST/\n",
    "\n",
    "    ├── AbdomenCT/\n",
    "    \n",
    "    └── BreastMRI/\n",
    "    \n",
    "    └── CXR/\n",
    "    \n",
    "    └── ChestCT/\n",
    "    \n",
    "    └── Hand/\n",
    "    \n",
    "    └── HeadCT/   \n",
    "\n",
    "\n",
    "### Start the network\n",
    "\n",
    "Before running this notebook, start the network with `./scripts/fedbiomed_run network`\n",
    "\n",
    "### Setup the node\n",
    "\n",
    "1. Populate the node with MedNIST dataset`./scripts/fedbiomed_run node add`\n",
    "  * Select option 3 (mednist) to add MedNIST to the node\n",
    "  * Confirm mednist tags tags ['#MEDNIST', '#dataset'] by hitting \"y\" and ENTER\n",
    "  * Select the folder where MedNIST is downloaded (It will be downloaded if it is not found in the selected path)\n",
    "  * Data must have been added (if you get a warning saying that data must be unique is because it's been already added)\n",
    "  \n",
    "2. Check that your data has been added by executing `./scripts/fedbiomed_run node list`\n",
    "3. Start the node using `./scripts/fedbiomed_run node run`. Wait until you get `Starting task manager`. it means you are online.\n",
    "\n"
   ]
  },
  {
   "cell_type": "markdown",
   "metadata": {},
   "source": [
    "## Start Fed-Biomed Researcher\n",
    "\n",
    "We are now ready to start the researcher environment with the command source ./scripts/fedbiomed_environment researcher, and open the Jupyter notebook.\n",
    "\n",
    "To make sure that MedNIST dataset is loaded in the node we can send a request to the network to list the available dataset in the node. The list command should output an entry for mednist data."
   ]
  },
  {
   "cell_type": "code",
   "execution_count": 1,
   "metadata": {},
   "outputs": [
    {
     "name": "stderr",
     "output_type": "stream",
     "text": [
      "2022-04-15 17:11:54,650 fedbiomed INFO - Component environment:\n",
      "2022-04-15 17:11:54,651 fedbiomed INFO - type = ComponentType.RESEARCHER\n",
      "2022-04-15 17:11:54,783 fedbiomed INFO - Messaging researcher_994d2281-2f1b-4f9e-84fe-61a703e1bdfe successfully connected to the message broker, object = <fedbiomed.common.messaging.Messaging object at 0x7f71f4e00190>\n",
      "2022-04-15 17:11:54,836 fedbiomed INFO - Listing available datasets in all nodes... \n",
      "2022-04-15 17:12:04,845 fedbiomed INFO - \n",
      " Node: node_658efe2a-5e4b-4daf-9931-32eb6ecefc32 | Number of Datasets: 1 \n",
      "+---------+-------------+--------------------------+-----------------+--------------------+\n",
      "| name    | data_type   | tags                     | description     | shape              |\n",
      "+=========+=============+==========================+=================+====================+\n",
      "| MEDNIST | mednist     | ['#MEDNIST', '#dataset'] | MEDNIST dataset | [58954, 3, 64, 64] |\n",
      "+---------+-------------+--------------------------+-----------------+--------------------+\n",
      "\n"
     ]
    },
    {
     "data": {
      "text/plain": [
       "{'node_658efe2a-5e4b-4daf-9931-32eb6ecefc32': [{'name': 'MEDNIST',\n",
       "   'data_type': 'mednist',\n",
       "   'tags': ['#MEDNIST', '#dataset'],\n",
       "   'description': 'MEDNIST dataset',\n",
       "   'shape': [58954, 3, 64, 64]}]}"
      ]
     },
     "execution_count": 1,
     "metadata": {},
     "output_type": "execute_result"
    }
   ],
   "source": [
    "from fedbiomed.researcher.requests import Requests\n",
    "req = Requests()\n",
    "req.list(verbose=True)"
   ]
  },
  {
   "cell_type": "markdown",
   "metadata": {},
   "source": [
    "Use for developing (autoreloads changes made across packages)"
   ]
  },
  {
   "cell_type": "code",
   "execution_count": 2,
   "metadata": {},
   "outputs": [],
   "source": [
    "%load_ext autoreload\n",
    "%autoreload 2"
   ]
  },
  {
   "cell_type": "markdown",
   "metadata": {},
   "source": [
    "## Define an experiment to train a model on the data"
   ]
  },
  {
   "cell_type": "markdown",
   "metadata": {},
   "source": [
    "Declare a torch.nn MyTrainingPlan class to send for training on the node"
   ]
  },
  {
   "cell_type": "code",
   "execution_count": 3,
   "metadata": {},
   "outputs": [],
   "source": [
    "import torch\n",
    "import torch.nn as nn\n",
    "from fedbiomed.common.training_plans import TorchTrainingPlan\n",
    "from fedbiomed.common.data import DataManager\n",
    "from torchvision import datasets, transforms\n",
    "from torchvision.models import densenet121\n",
    "\n",
    "# Here we define the model to be used. \n",
    "# You can use any class name (here 'Net')\n",
    "class MyTrainingPlan(TorchTrainingPlan):\n",
    "    def __init__(self, model_args: dict = {}):\n",
    "        super(MyTrainingPlan, self).__init__(model_args)\n",
    "        \n",
    "        # Here we define the custom dependencies that will be needed by our custom Dataloader\n",
    "        # In this case, we need the torch DataLoader classes\n",
    "        # Since we will train on MedNIST, we need datasets and transform from torchvision\n",
    "        deps = [\"from torchvision import datasets, transforms\",\n",
    "                \"from torchvision.models import densenet121\"]\n",
    "        \n",
    "        self.add_dependency(deps)\n",
    "        \n",
    "        self.model =  densenet121(pretrained=True)\n",
    "        # We re-define the final fully-connected the layer\n",
    "        self.model.classifier =nn.Sequential(nn.Linear(1024,512), nn.ReLU())\n",
    "        self.loss_function = torch.nn.CrossEntropyLoss()\n",
    "\n",
    "        \n",
    "    def forward(self, x):\n",
    "        return self.model(x)\n",
    "\n",
    "    def training_data(self, batch_size = 48):\n",
    "        # Custom torch Dataloader for MedNIST data\n",
    "        preprocess = transforms.Compose([transforms.ToTensor(),\n",
    "        transforms.Normalize(mean=[0.485, 0.456, 0.406], std=[0.229, 0.224, 0.225])])\n",
    "        train_data = datasets.ImageFolder(self.dataset_path,transform = preprocess)\n",
    "        train_kwargs = {'batch_size': batch_size, 'shuffle': True}\n",
    "        return DataManager(dataset=train_data, **train_kwargs)\n",
    "    \n",
    "    def training_step(self, data, target):\n",
    "        output = self.forward(data)\n",
    "        loss   = self.loss_function(output, target)\n",
    "        return loss\n"
   ]
  },
  {
   "cell_type": "markdown",
   "metadata": {},
   "source": [
    "This group of arguments correspond respectively:\n",
    "* `model_args`: a dictionary with the arguments related to the model (e.g. number of layers, features, etc.). This will be passed to the model class on the node side.\n",
    "* `training_args`: a dictionary containing the arguments for the training routine (e.g. batch size, learning rate, epochs, etc.). This will be passed to the routine on the node side.\n",
    "\n",
    "**NOTE:** typos and/or lack of positional (required) arguments will raise error. 🤓"
   ]
  },
  {
   "cell_type": "code",
   "execution_count": 4,
   "metadata": {
    "pycharm": {
     "name": "#%%\n"
    }
   },
   "outputs": [],
   "source": [
    "model_args = {}\n",
    "\n",
    "training_args = {\n",
    "    'batch_size': 48, \n",
    "    'lr': 1e-3, \n",
    "    'epochs': 1, \n",
    "    'dry_run': False,  \n",
    "    'batch_maxnum': 100 # Fast pass for development : only use ( batch_maxnum * batch_size ) samples\n",
    "}"
   ]
  },
  {
   "cell_type": "markdown",
   "metadata": {},
   "source": [
    "## Declare and run the experiment\n",
    "\n",
    "- search nodes serving data for these `tags`, optionally filter on a list of node ID with `nodes`\n",
    "- run a round of local training on nodes with model defined in `model_path` + federation with `aggregator`\n",
    "- run for `round_limit` rounds, applying the `node_selection_strategy` between the rounds"
   ]
  },
  {
   "cell_type": "code",
   "execution_count": 6,
   "metadata": {
    "pycharm": {
     "name": "#%%\n"
    },
    "scrolled": true
   },
   "outputs": [
    {
     "name": "stderr",
     "output_type": "stream",
     "text": [
      "2022-04-15 17:12:34,246 fedbiomed INFO - Searching dataset with data tags: ['#MEDNIST', '#dataset'] for all nodes\n",
      "2022-04-15 17:12:44,258 fedbiomed INFO - Node selected for training -> node_658efe2a-5e4b-4daf-9931-32eb6ecefc32\n",
      "2022-04-15 17:12:44,421 fedbiomed DEBUG - Model file has been saved: /home/gentoo/Projects/Fedbiomed/fedbiomed/var/experiments/Experiment_0001/my_model_954e4dbd-ec2a-4758-a97d-6c0b7fc18331.py\n",
      "2022-04-15 17:12:44,524 fedbiomed DEBUG - upload (HTTP POST request) of file /home/gentoo/Projects/Fedbiomed/fedbiomed/var/experiments/Experiment_0001/my_model_954e4dbd-ec2a-4758-a97d-6c0b7fc18331.py successful, with status code 201\n",
      "2022-04-15 17:12:45,151 fedbiomed DEBUG - upload (HTTP POST request) of file /home/gentoo/Projects/Fedbiomed/fedbiomed/var/experiments/Experiment_0001/aggregated_params_init_42889b9b-03ca-49b3-9d35-3e10e889b867.pt successful, with status code 201\n"
     ]
    }
   ],
   "source": [
    "from fedbiomed.researcher.experiment import Experiment\n",
    "from fedbiomed.researcher.aggregators.fedavg import FedAverage\n",
    "\n",
    "tags =  ['#MEDNIST', '#dataset']\n",
    "rounds = 3\n",
    "\n",
    "exp = Experiment(tags=tags,\n",
    "                 model_args=model_args,\n",
    "                 model_class=MyTrainingPlan,\n",
    "                 training_args=training_args,\n",
    "                 round_limit=rounds,\n",
    "                 aggregator=FedAverage(),\n",
    "                 node_selection_strategy=None)"
   ]
  },
  {
   "cell_type": "markdown",
   "metadata": {
    "pycharm": {
     "name": "#%% md\n"
    }
   },
   "source": [
    "Let's start the experiment.\n",
    "\n",
    "By default, this function doesn't stop until all the `round_limit` rounds are done for all the nodes"
   ]
  },
  {
   "cell_type": "code",
   "execution_count": 7,
   "metadata": {
    "pycharm": {
     "name": "#%%\n"
    },
    "scrolled": false
   },
   "outputs": [
    {
     "name": "stderr",
     "output_type": "stream",
     "text": [
      "2022-04-15 17:12:46,510 fedbiomed INFO - Sampled nodes in round 0 ['node_658efe2a-5e4b-4daf-9931-32eb6ecefc32']\n",
      "2022-04-15 17:12:46,511 fedbiomed INFO - \u001b[1mSending request\u001b[0m \n",
      "\t\t\t\t\t\u001b[1m To\u001b[0m: node_658efe2a-5e4b-4daf-9931-32eb6ecefc32 \n",
      "\t\t\t\t\t\u001b[1m Request: \u001b[0m: Perform training with the arguments: {'researcher_id': 'researcher_994d2281-2f1b-4f9e-84fe-61a703e1bdfe', 'job_id': 'a2f22654-d063-4d32-adad-7e663b36b2f3', 'training_args': {'test_ratio': 0.0, 'test_on_local_updates': False, 'test_on_global_updates': False, 'test_metric': None, 'test_metric_args': {}, 'batch_size': 48, 'lr': 0.001, 'epochs': 1, 'dry_run': False, 'batch_maxnum': 100}, 'training': True, 'model_args': {}, 'command': 'train', 'model_url': 'http://localhost:8844/media/uploads/2022/04/15/my_model_954e4dbd-ec2a-4758-a97d-6c0b7fc18331.py', 'params_url': 'http://localhost:8844/media/uploads/2022/04/15/aggregated_params_init_42889b9b-03ca-49b3-9d35-3e10e889b867.pt', 'model_class': 'MyTrainingPlan', 'training_data': {'node_658efe2a-5e4b-4daf-9931-32eb6ecefc32': ['dataset_dc12133b-dd09-4159-a6d6-757efc056c84']}} \n",
      " -----------------------------------------------------------------\n",
      "2022-04-15 17:12:46,512 fedbiomed DEBUG - researcher_994d2281-2f1b-4f9e-84fe-61a703e1bdfe\n",
      "2022-04-15 17:12:46,904 fedbiomed INFO - \u001b[1mWARNING\u001b[0m\n",
      "\t\t\t\t\t\u001b[1m NODE\u001b[0m node_658efe2a-5e4b-4daf-9931-32eb6ecefc32\n",
      "\t\t\t\t\t\u001b[1m MESSAGE:\u001b[0m There is no test activated for the round. Please set flag for `test_on_global_updates`, `test_on_local_updates`, or both. Splitting dataset for testing will be ignored\u001b[0m\n",
      "-----------------------------------------------------------------\n",
      "2022-04-15 17:12:47,171 fedbiomed INFO - \u001b[1mINFO\u001b[0m\n",
      "\t\t\t\t\t\u001b[1m NODE\u001b[0m node_658efe2a-5e4b-4daf-9931-32eb6ecefc32\n",
      "\t\t\t\t\t\u001b[1m MESSAGE:\u001b[0m training with arguments {'history_monitor': <fedbiomed.node.history_monitor.HistoryMonitor object at 0x7f03392ccb80>, 'node_args': {'gpu': False, 'gpu_num': None, 'gpu_only': False}, 'batch_size': 48, 'lr': 0.001, 'epochs': 1, 'dry_run': False, 'batch_maxnum': 100}\u001b[0m\n",
      "-----------------------------------------------------------------\n",
      "2022-04-15 17:12:52,876 fedbiomed INFO - \u001b[1mTRAINING\u001b[0m \n",
      "\t\t\t\t\t NODE_ID: node_658efe2a-5e4b-4daf-9931-32eb6ecefc32 \n",
      "\t\t\t\t\t Epoch: 1 | Completed: 480/111909 (0%) \n",
      " \t\t\t\t\t Loss: \u001b[1m1.947540\u001b[0m \n",
      "\t\t\t\t\t ---------\n",
      "2022-04-15 17:12:58,491 fedbiomed INFO - \u001b[1mTRAINING\u001b[0m \n",
      "\t\t\t\t\t NODE_ID: node_658efe2a-5e4b-4daf-9931-32eb6ecefc32 \n",
      "\t\t\t\t\t Epoch: 1 | Completed: 960/111909 (1%) \n",
      " \t\t\t\t\t Loss: \u001b[1m1.507946\u001b[0m \n",
      "\t\t\t\t\t ---------\n",
      "2022-04-15 17:13:04,371 fedbiomed INFO - \u001b[1mTRAINING\u001b[0m \n",
      "\t\t\t\t\t NODE_ID: node_658efe2a-5e4b-4daf-9931-32eb6ecefc32 \n",
      "\t\t\t\t\t Epoch: 1 | Completed: 1440/111909 (1%) \n",
      " \t\t\t\t\t Loss: \u001b[1m1.196664\u001b[0m \n",
      "\t\t\t\t\t ---------\n",
      "2022-04-15 17:13:10,472 fedbiomed INFO - \u001b[1mTRAINING\u001b[0m \n",
      "\t\t\t\t\t NODE_ID: node_658efe2a-5e4b-4daf-9931-32eb6ecefc32 \n",
      "\t\t\t\t\t Epoch: 1 | Completed: 1920/111909 (2%) \n",
      " \t\t\t\t\t Loss: \u001b[1m0.842284\u001b[0m \n",
      "\t\t\t\t\t ---------\n",
      "2022-04-15 17:13:16,489 fedbiomed INFO - \u001b[1mTRAINING\u001b[0m \n",
      "\t\t\t\t\t NODE_ID: node_658efe2a-5e4b-4daf-9931-32eb6ecefc32 \n",
      "\t\t\t\t\t Epoch: 1 | Completed: 2400/111909 (2%) \n",
      " \t\t\t\t\t Loss: \u001b[1m0.760272\u001b[0m \n",
      "\t\t\t\t\t ---------\n",
      "2022-04-15 17:13:22,356 fedbiomed INFO - \u001b[1mTRAINING\u001b[0m \n",
      "\t\t\t\t\t NODE_ID: node_658efe2a-5e4b-4daf-9931-32eb6ecefc32 \n",
      "\t\t\t\t\t Epoch: 1 | Completed: 2880/111909 (3%) \n",
      " \t\t\t\t\t Loss: \u001b[1m0.765098\u001b[0m \n",
      "\t\t\t\t\t ---------\n",
      "2022-04-15 17:13:28,233 fedbiomed INFO - \u001b[1mTRAINING\u001b[0m \n",
      "\t\t\t\t\t NODE_ID: node_658efe2a-5e4b-4daf-9931-32eb6ecefc32 \n",
      "\t\t\t\t\t Epoch: 1 | Completed: 3360/111909 (3%) \n",
      " \t\t\t\t\t Loss: \u001b[1m0.769747\u001b[0m \n",
      "\t\t\t\t\t ---------\n",
      "2022-04-15 17:13:34,242 fedbiomed INFO - \u001b[1mTRAINING\u001b[0m \n",
      "\t\t\t\t\t NODE_ID: node_658efe2a-5e4b-4daf-9931-32eb6ecefc32 \n",
      "\t\t\t\t\t Epoch: 1 | Completed: 3840/111909 (3%) \n",
      " \t\t\t\t\t Loss: \u001b[1m0.778734\u001b[0m \n",
      "\t\t\t\t\t ---------\n",
      "2022-04-15 17:13:40,179 fedbiomed INFO - \u001b[1mTRAINING\u001b[0m \n",
      "\t\t\t\t\t NODE_ID: node_658efe2a-5e4b-4daf-9931-32eb6ecefc32 \n",
      "\t\t\t\t\t Epoch: 1 | Completed: 4320/111909 (4%) \n",
      " \t\t\t\t\t Loss: \u001b[1m0.727098\u001b[0m \n",
      "\t\t\t\t\t ---------\n",
      "2022-04-15 17:13:46,160 fedbiomed INFO - \u001b[1mINFO\u001b[0m\n",
      "\t\t\t\t\t\u001b[1m NODE\u001b[0m node_658efe2a-5e4b-4daf-9931-32eb6ecefc32\n",
      "\t\t\t\t\t\u001b[1m MESSAGE:\u001b[0m Reached 100 batches for this epoch, ignore remaining data\u001b[0m\n",
      "-----------------------------------------------------------------\n",
      "2022-04-15 17:13:46,861 fedbiomed INFO - \u001b[1mINFO\u001b[0m\n",
      "\t\t\t\t\t\u001b[1m NODE\u001b[0m node_658efe2a-5e4b-4daf-9931-32eb6ecefc32\n",
      "\t\t\t\t\t\u001b[1m MESSAGE:\u001b[0m results uploaded successfully \u001b[0m\n",
      "-----------------------------------------------------------------\n",
      "2022-04-15 17:13:56,574 fedbiomed INFO - Downloading model params after training on node_658efe2a-5e4b-4daf-9931-32eb6ecefc32 - from http://localhost:8844/media/uploads/2022/04/15/node_params_fa8bce4c-0519-4ae2-98be-bc059f8d005c.pt\n",
      "2022-04-15 17:13:56,625 fedbiomed DEBUG - upload (HTTP GET request) of file node_params_538301c8-dfb8-4359-a9b2-b1c4668edbff.pt successful, with status code 200\n",
      "2022-04-15 17:13:56,658 fedbiomed INFO - Nodes that successfully reply in round 0 ['node_658efe2a-5e4b-4daf-9931-32eb6ecefc32']\n",
      "2022-04-15 17:13:57,281 fedbiomed DEBUG - upload (HTTP POST request) of file /home/gentoo/Projects/Fedbiomed/fedbiomed/var/experiments/Experiment_0001/aggregated_params_c476e751-2e63-4aa9-8e7e-da35ec4e7a04.pt successful, with status code 201\n",
      "2022-04-15 17:13:57,283 fedbiomed INFO - Saved aggregated params for round 0 in /home/gentoo/Projects/Fedbiomed/fedbiomed/var/experiments/Experiment_0001/aggregated_params_c476e751-2e63-4aa9-8e7e-da35ec4e7a04.pt\n",
      "2022-04-15 17:13:57,283 fedbiomed INFO - Sampled nodes in round 1 ['node_658efe2a-5e4b-4daf-9931-32eb6ecefc32']\n",
      "2022-04-15 17:13:57,284 fedbiomed INFO - \u001b[1mSending request\u001b[0m \n",
      "\t\t\t\t\t\u001b[1m To\u001b[0m: node_658efe2a-5e4b-4daf-9931-32eb6ecefc32 \n",
      "\t\t\t\t\t\u001b[1m Request: \u001b[0m: Perform training with the arguments: {'researcher_id': 'researcher_994d2281-2f1b-4f9e-84fe-61a703e1bdfe', 'job_id': 'a2f22654-d063-4d32-adad-7e663b36b2f3', 'training_args': {'test_ratio': 0.0, 'test_on_local_updates': False, 'test_on_global_updates': False, 'test_metric': None, 'test_metric_args': {}, 'batch_size': 48, 'lr': 0.001, 'epochs': 1, 'dry_run': False, 'batch_maxnum': 100}, 'training': True, 'model_args': {}, 'command': 'train', 'model_url': 'http://localhost:8844/media/uploads/2022/04/15/my_model_954e4dbd-ec2a-4758-a97d-6c0b7fc18331.py', 'params_url': 'http://localhost:8844/media/uploads/2022/04/15/aggregated_params_c476e751-2e63-4aa9-8e7e-da35ec4e7a04.pt', 'model_class': 'MyTrainingPlan', 'training_data': {'node_658efe2a-5e4b-4daf-9931-32eb6ecefc32': ['dataset_dc12133b-dd09-4159-a6d6-757efc056c84']}} \n",
      " -----------------------------------------------------------------\n",
      "2022-04-15 17:13:57,284 fedbiomed DEBUG - researcher_994d2281-2f1b-4f9e-84fe-61a703e1bdfe\n",
      "2022-04-15 17:13:57,632 fedbiomed INFO - \u001b[1mWARNING\u001b[0m\n",
      "\t\t\t\t\t\u001b[1m NODE\u001b[0m node_658efe2a-5e4b-4daf-9931-32eb6ecefc32\n",
      "\t\t\t\t\t\u001b[1m MESSAGE:\u001b[0m There is no test activated for the round. Please set flag for `test_on_global_updates`, `test_on_local_updates`, or both. Splitting dataset for testing will be ignored\u001b[0m\n",
      "-----------------------------------------------------------------\n",
      "2022-04-15 17:13:57,874 fedbiomed INFO - \u001b[1mINFO\u001b[0m\n",
      "\t\t\t\t\t\u001b[1m NODE\u001b[0m node_658efe2a-5e4b-4daf-9931-32eb6ecefc32\n",
      "\t\t\t\t\t\u001b[1m MESSAGE:\u001b[0m training with arguments {'history_monitor': <fedbiomed.node.history_monitor.HistoryMonitor object at 0x7f033936a040>, 'node_args': {'gpu': False, 'gpu_num': None, 'gpu_only': False}, 'batch_size': 48, 'lr': 0.001, 'epochs': 1, 'dry_run': False, 'batch_maxnum': 100}\u001b[0m\n",
      "-----------------------------------------------------------------\n",
      "2022-04-15 17:14:03,753 fedbiomed INFO - \u001b[1mTRAINING\u001b[0m \n",
      "\t\t\t\t\t NODE_ID: node_658efe2a-5e4b-4daf-9931-32eb6ecefc32 \n",
      "\t\t\t\t\t Epoch: 1 | Completed: 480/111909 (0%) \n",
      " \t\t\t\t\t Loss: \u001b[1m0.807357\u001b[0m \n",
      "\t\t\t\t\t ---------\n",
      "2022-04-15 17:14:10,005 fedbiomed INFO - \u001b[1mTRAINING\u001b[0m \n",
      "\t\t\t\t\t NODE_ID: node_658efe2a-5e4b-4daf-9931-32eb6ecefc32 \n",
      "\t\t\t\t\t Epoch: 1 | Completed: 960/111909 (1%) \n",
      " \t\t\t\t\t Loss: \u001b[1m0.677571\u001b[0m \n",
      "\t\t\t\t\t ---------\n",
      "2022-04-15 17:14:16,129 fedbiomed INFO - \u001b[1mTRAINING\u001b[0m \n",
      "\t\t\t\t\t NODE_ID: node_658efe2a-5e4b-4daf-9931-32eb6ecefc32 \n",
      "\t\t\t\t\t Epoch: 1 | Completed: 1440/111909 (1%) \n",
      " \t\t\t\t\t Loss: \u001b[1m0.721950\u001b[0m \n",
      "\t\t\t\t\t ---------\n"
     ]
    },
    {
     "name": "stderr",
     "output_type": "stream",
     "text": [
      "2022-04-15 17:14:22,934 fedbiomed INFO - \u001b[1mTRAINING\u001b[0m \n",
      "\t\t\t\t\t NODE_ID: node_658efe2a-5e4b-4daf-9931-32eb6ecefc32 \n",
      "\t\t\t\t\t Epoch: 1 | Completed: 1920/111909 (2%) \n",
      " \t\t\t\t\t Loss: \u001b[1m0.716596\u001b[0m \n",
      "\t\t\t\t\t ---------\n",
      "2022-04-15 17:14:29,343 fedbiomed INFO - \u001b[1mTRAINING\u001b[0m \n",
      "\t\t\t\t\t NODE_ID: node_658efe2a-5e4b-4daf-9931-32eb6ecefc32 \n",
      "\t\t\t\t\t Epoch: 1 | Completed: 2400/111909 (2%) \n",
      " \t\t\t\t\t Loss: \u001b[1m0.717845\u001b[0m \n",
      "\t\t\t\t\t ---------\n",
      "2022-04-15 17:14:35,698 fedbiomed INFO - \u001b[1mTRAINING\u001b[0m \n",
      "\t\t\t\t\t NODE_ID: node_658efe2a-5e4b-4daf-9931-32eb6ecefc32 \n",
      "\t\t\t\t\t Epoch: 1 | Completed: 2880/111909 (3%) \n",
      " \t\t\t\t\t Loss: \u001b[1m0.708892\u001b[0m \n",
      "\t\t\t\t\t ---------\n",
      "2022-04-15 17:14:41,999 fedbiomed INFO - \u001b[1mTRAINING\u001b[0m \n",
      "\t\t\t\t\t NODE_ID: node_658efe2a-5e4b-4daf-9931-32eb6ecefc32 \n",
      "\t\t\t\t\t Epoch: 1 | Completed: 3360/111909 (3%) \n",
      " \t\t\t\t\t Loss: \u001b[1m0.738068\u001b[0m \n",
      "\t\t\t\t\t ---------\n",
      "2022-04-15 17:14:48,328 fedbiomed INFO - \u001b[1mTRAINING\u001b[0m \n",
      "\t\t\t\t\t NODE_ID: node_658efe2a-5e4b-4daf-9931-32eb6ecefc32 \n",
      "\t\t\t\t\t Epoch: 1 | Completed: 3840/111909 (3%) \n",
      " \t\t\t\t\t Loss: \u001b[1m0.696952\u001b[0m \n",
      "\t\t\t\t\t ---------\n",
      "2022-04-15 17:14:54,645 fedbiomed INFO - \u001b[1mTRAINING\u001b[0m \n",
      "\t\t\t\t\t NODE_ID: node_658efe2a-5e4b-4daf-9931-32eb6ecefc32 \n",
      "\t\t\t\t\t Epoch: 1 | Completed: 4320/111909 (4%) \n",
      " \t\t\t\t\t Loss: \u001b[1m0.719256\u001b[0m \n",
      "\t\t\t\t\t ---------\n",
      "2022-04-15 17:15:00,862 fedbiomed INFO - \u001b[1mINFO\u001b[0m\n",
      "\t\t\t\t\t\u001b[1m NODE\u001b[0m node_658efe2a-5e4b-4daf-9931-32eb6ecefc32\n",
      "\t\t\t\t\t\u001b[1m MESSAGE:\u001b[0m Reached 100 batches for this epoch, ignore remaining data\u001b[0m\n",
      "-----------------------------------------------------------------\n",
      "2022-04-15 17:15:01,517 fedbiomed INFO - \u001b[1mINFO\u001b[0m\n",
      "\t\t\t\t\t\u001b[1m NODE\u001b[0m node_658efe2a-5e4b-4daf-9931-32eb6ecefc32\n",
      "\t\t\t\t\t\u001b[1m MESSAGE:\u001b[0m results uploaded successfully \u001b[0m\n",
      "-----------------------------------------------------------------\n",
      "2022-04-15 17:15:07,342 fedbiomed INFO - Downloading model params after training on node_658efe2a-5e4b-4daf-9931-32eb6ecefc32 - from http://localhost:8844/media/uploads/2022/04/15/node_params_6d6173e9-ce6a-4491-9429-9a3fca971213.pt\n",
      "2022-04-15 17:15:07,417 fedbiomed DEBUG - upload (HTTP GET request) of file node_params_4e4d84c0-c572-479c-8c26-494dea69f806.pt successful, with status code 200\n",
      "2022-04-15 17:15:07,448 fedbiomed INFO - Nodes that successfully reply in round 1 ['node_658efe2a-5e4b-4daf-9931-32eb6ecefc32']\n",
      "2022-04-15 17:15:08,102 fedbiomed DEBUG - upload (HTTP POST request) of file /home/gentoo/Projects/Fedbiomed/fedbiomed/var/experiments/Experiment_0001/aggregated_params_7a46019e-ccbd-4e50-85d4-68e1e4d7011b.pt successful, with status code 201\n",
      "2022-04-15 17:15:08,103 fedbiomed INFO - Saved aggregated params for round 1 in /home/gentoo/Projects/Fedbiomed/fedbiomed/var/experiments/Experiment_0001/aggregated_params_7a46019e-ccbd-4e50-85d4-68e1e4d7011b.pt\n",
      "2022-04-15 17:15:08,104 fedbiomed INFO - Sampled nodes in round 2 ['node_658efe2a-5e4b-4daf-9931-32eb6ecefc32']\n",
      "2022-04-15 17:15:08,104 fedbiomed INFO - \u001b[1mSending request\u001b[0m \n",
      "\t\t\t\t\t\u001b[1m To\u001b[0m: node_658efe2a-5e4b-4daf-9931-32eb6ecefc32 \n",
      "\t\t\t\t\t\u001b[1m Request: \u001b[0m: Perform training with the arguments: {'researcher_id': 'researcher_994d2281-2f1b-4f9e-84fe-61a703e1bdfe', 'job_id': 'a2f22654-d063-4d32-adad-7e663b36b2f3', 'training_args': {'test_ratio': 0.0, 'test_on_local_updates': False, 'test_on_global_updates': False, 'test_metric': None, 'test_metric_args': {}, 'batch_size': 48, 'lr': 0.001, 'epochs': 1, 'dry_run': False, 'batch_maxnum': 100}, 'training': True, 'model_args': {}, 'command': 'train', 'model_url': 'http://localhost:8844/media/uploads/2022/04/15/my_model_954e4dbd-ec2a-4758-a97d-6c0b7fc18331.py', 'params_url': 'http://localhost:8844/media/uploads/2022/04/15/aggregated_params_7a46019e-ccbd-4e50-85d4-68e1e4d7011b.pt', 'model_class': 'MyTrainingPlan', 'training_data': {'node_658efe2a-5e4b-4daf-9931-32eb6ecefc32': ['dataset_dc12133b-dd09-4159-a6d6-757efc056c84']}} \n",
      " -----------------------------------------------------------------\n",
      "2022-04-15 17:15:08,104 fedbiomed DEBUG - researcher_994d2281-2f1b-4f9e-84fe-61a703e1bdfe\n",
      "2022-04-15 17:15:08,381 fedbiomed INFO - \u001b[1mWARNING\u001b[0m\n",
      "\t\t\t\t\t\u001b[1m NODE\u001b[0m node_658efe2a-5e4b-4daf-9931-32eb6ecefc32\n",
      "\t\t\t\t\t\u001b[1m MESSAGE:\u001b[0m There is no test activated for the round. Please set flag for `test_on_global_updates`, `test_on_local_updates`, or both. Splitting dataset for testing will be ignored\u001b[0m\n",
      "-----------------------------------------------------------------\n",
      "2022-04-15 17:15:08,627 fedbiomed INFO - \u001b[1mINFO\u001b[0m\n",
      "\t\t\t\t\t\u001b[1m NODE\u001b[0m node_658efe2a-5e4b-4daf-9931-32eb6ecefc32\n",
      "\t\t\t\t\t\u001b[1m MESSAGE:\u001b[0m training with arguments {'history_monitor': <fedbiomed.node.history_monitor.HistoryMonitor object at 0x7f03f53520d0>, 'node_args': {'gpu': False, 'gpu_num': None, 'gpu_only': False}, 'batch_size': 48, 'lr': 0.001, 'epochs': 1, 'dry_run': False, 'batch_maxnum': 100}\u001b[0m\n",
      "-----------------------------------------------------------------\n",
      "2022-04-15 17:15:14,965 fedbiomed INFO - \u001b[1mTRAINING\u001b[0m \n",
      "\t\t\t\t\t NODE_ID: node_658efe2a-5e4b-4daf-9931-32eb6ecefc32 \n",
      "\t\t\t\t\t Epoch: 1 | Completed: 480/111909 (0%) \n",
      " \t\t\t\t\t Loss: \u001b[1m0.712947\u001b[0m \n",
      "\t\t\t\t\t ---------\n",
      "2022-04-15 17:15:21,592 fedbiomed INFO - \u001b[1mTRAINING\u001b[0m \n",
      "\t\t\t\t\t NODE_ID: node_658efe2a-5e4b-4daf-9931-32eb6ecefc32 \n",
      "\t\t\t\t\t Epoch: 1 | Completed: 960/111909 (1%) \n",
      " \t\t\t\t\t Loss: \u001b[1m0.708442\u001b[0m \n",
      "\t\t\t\t\t ---------\n",
      "2022-04-15 17:15:27,807 fedbiomed INFO - \u001b[1mTRAINING\u001b[0m \n",
      "\t\t\t\t\t NODE_ID: node_658efe2a-5e4b-4daf-9931-32eb6ecefc32 \n",
      "\t\t\t\t\t Epoch: 1 | Completed: 1440/111909 (1%) \n",
      " \t\t\t\t\t Loss: \u001b[1m0.731746\u001b[0m \n",
      "\t\t\t\t\t ---------\n",
      "2022-04-15 17:15:34,083 fedbiomed INFO - \u001b[1mTRAINING\u001b[0m \n",
      "\t\t\t\t\t NODE_ID: node_658efe2a-5e4b-4daf-9931-32eb6ecefc32 \n",
      "\t\t\t\t\t Epoch: 1 | Completed: 1920/111909 (2%) \n",
      " \t\t\t\t\t Loss: \u001b[1m0.749300\u001b[0m \n",
      "\t\t\t\t\t ---------\n",
      "2022-04-15 17:15:40,504 fedbiomed INFO - \u001b[1mTRAINING\u001b[0m \n",
      "\t\t\t\t\t NODE_ID: node_658efe2a-5e4b-4daf-9931-32eb6ecefc32 \n",
      "\t\t\t\t\t Epoch: 1 | Completed: 2400/111909 (2%) \n",
      " \t\t\t\t\t Loss: \u001b[1m0.692047\u001b[0m \n",
      "\t\t\t\t\t ---------\n",
      "2022-04-15 17:15:47,225 fedbiomed INFO - \u001b[1mTRAINING\u001b[0m \n",
      "\t\t\t\t\t NODE_ID: node_658efe2a-5e4b-4daf-9931-32eb6ecefc32 \n",
      "\t\t\t\t\t Epoch: 1 | Completed: 2880/111909 (3%) \n",
      " \t\t\t\t\t Loss: \u001b[1m0.745386\u001b[0m \n",
      "\t\t\t\t\t ---------\n",
      "2022-04-15 17:15:53,501 fedbiomed INFO - \u001b[1mTRAINING\u001b[0m \n",
      "\t\t\t\t\t NODE_ID: node_658efe2a-5e4b-4daf-9931-32eb6ecefc32 \n",
      "\t\t\t\t\t Epoch: 1 | Completed: 3360/111909 (3%) \n",
      " \t\t\t\t\t Loss: \u001b[1m0.707439\u001b[0m \n",
      "\t\t\t\t\t ---------\n",
      "2022-04-15 17:15:59,970 fedbiomed INFO - \u001b[1mTRAINING\u001b[0m \n",
      "\t\t\t\t\t NODE_ID: node_658efe2a-5e4b-4daf-9931-32eb6ecefc32 \n",
      "\t\t\t\t\t Epoch: 1 | Completed: 3840/111909 (3%) \n",
      " \t\t\t\t\t Loss: \u001b[1m0.688460\u001b[0m \n",
      "\t\t\t\t\t ---------\n",
      "2022-04-15 17:16:06,389 fedbiomed INFO - \u001b[1mTRAINING\u001b[0m \n",
      "\t\t\t\t\t NODE_ID: node_658efe2a-5e4b-4daf-9931-32eb6ecefc32 \n",
      "\t\t\t\t\t Epoch: 1 | Completed: 4320/111909 (4%) \n",
      " \t\t\t\t\t Loss: \u001b[1m0.708724\u001b[0m \n",
      "\t\t\t\t\t ---------\n",
      "2022-04-15 17:16:12,836 fedbiomed INFO - \u001b[1mINFO\u001b[0m\n",
      "\t\t\t\t\t\u001b[1m NODE\u001b[0m node_658efe2a-5e4b-4daf-9931-32eb6ecefc32\n",
      "\t\t\t\t\t\u001b[1m MESSAGE:\u001b[0m Reached 100 batches for this epoch, ignore remaining data\u001b[0m\n",
      "-----------------------------------------------------------------\n",
      "2022-04-15 17:16:13,499 fedbiomed INFO - \u001b[1mINFO\u001b[0m\n",
      "\t\t\t\t\t\u001b[1m NODE\u001b[0m node_658efe2a-5e4b-4daf-9931-32eb6ecefc32\n",
      "\t\t\t\t\t\u001b[1m MESSAGE:\u001b[0m results uploaded successfully \u001b[0m\n",
      "-----------------------------------------------------------------\n",
      "2022-04-15 17:16:23,166 fedbiomed INFO - Downloading model params after training on node_658efe2a-5e4b-4daf-9931-32eb6ecefc32 - from http://localhost:8844/media/uploads/2022/04/15/node_params_4c31e024-cef0-4704-8569-fb855c42009d.pt\n",
      "2022-04-15 17:16:23,223 fedbiomed DEBUG - upload (HTTP GET request) of file node_params_9314a069-4df1-4910-8354-627386731e41.pt successful, with status code 200\n",
      "2022-04-15 17:16:23,256 fedbiomed INFO - Nodes that successfully reply in round 2 ['node_658efe2a-5e4b-4daf-9931-32eb6ecefc32']\n",
      "2022-04-15 17:16:23,919 fedbiomed DEBUG - upload (HTTP POST request) of file /home/gentoo/Projects/Fedbiomed/fedbiomed/var/experiments/Experiment_0001/aggregated_params_1c082e80-7a8c-469b-92bc-b42d9493adba.pt successful, with status code 201\n",
      "2022-04-15 17:16:23,920 fedbiomed INFO - Saved aggregated params for round 2 in /home/gentoo/Projects/Fedbiomed/fedbiomed/var/experiments/Experiment_0001/aggregated_params_1c082e80-7a8c-469b-92bc-b42d9493adba.pt\n"
     ]
    },
    {
     "data": {
      "text/plain": [
       "3"
      ]
     },
     "execution_count": 7,
     "metadata": {},
     "output_type": "execute_result"
    }
   ],
   "source": [
    "exp.run(rounds=rounds, increase=True)"
   ]
  },
  {
   "cell_type": "markdown",
   "metadata": {},
   "source": [
    "Local training results for each round and each node are available via `exp.training_replies()` (index 0 to (`rounds` - 1) ).\n",
    "\n",
    "For example you can view the training results for the last round below.\n",
    "\n",
    "Different timings (in seconds) are reported for each dataset of a node participating in a round :\n",
    "- `rtime_training` real time (clock time) spent in the training function on the node\n",
    "- `ptime_training` process time (user and system CPU) spent in the training function on the node\n",
    "- `rtime_total` real time (clock time) spent in the researcher between sending the request and handling the response, at the `Job()` layer"
   ]
  },
  {
   "cell_type": "code",
   "execution_count": 8,
   "metadata": {
    "pycharm": {
     "name": "#%%\n"
    },
    "scrolled": true
   },
   "outputs": [
    {
     "name": "stdout",
     "output_type": "stream",
     "text": [
      "\n",
      "List the training rounds :  dict_keys([0, 1, 2])\n",
      "\n",
      "List the nodes for the last training round and their timings : \n",
      "\t- node_658efe2a-5e4b-4daf-9931-32eb6ecefc32 :    \n",
      "\t\trtime_training=64.22 seconds    \n",
      "\t\tptime_training=380.02 seconds    \n",
      "\t\trtime_total=75.06 seconds\n",
      "\n",
      "\n"
     ]
    },
    {
     "data": {
      "text/html": [
       "<div>\n",
       "<style scoped>\n",
       "    .dataframe tbody tr th:only-of-type {\n",
       "        vertical-align: middle;\n",
       "    }\n",
       "\n",
       "    .dataframe tbody tr th {\n",
       "        vertical-align: top;\n",
       "    }\n",
       "\n",
       "    .dataframe thead th {\n",
       "        text-align: right;\n",
       "    }\n",
       "</style>\n",
       "<table border=\"1\" class=\"dataframe\">\n",
       "  <thead>\n",
       "    <tr style=\"text-align: right;\">\n",
       "      <th></th>\n",
       "      <th>success</th>\n",
       "      <th>msg</th>\n",
       "      <th>dataset_id</th>\n",
       "      <th>node_id</th>\n",
       "      <th>params_path</th>\n",
       "      <th>params</th>\n",
       "      <th>timing</th>\n",
       "    </tr>\n",
       "  </thead>\n",
       "  <tbody>\n",
       "    <tr>\n",
       "      <th>0</th>\n",
       "      <td>True</td>\n",
       "      <td></td>\n",
       "      <td>dataset_dc12133b-dd09-4159-a6d6-757efc056c84</td>\n",
       "      <td>node_658efe2a-5e4b-4daf-9931-32eb6ecefc32</td>\n",
       "      <td>/home/gentoo/Projects/Fedbiomed/fedbiomed/var/...</td>\n",
       "      <td>{'model.features.conv0.weight': [[tensor([[ 0....</td>\n",
       "      <td>{'rtime_training': 64.2163345709996, 'ptime_tr...</td>\n",
       "    </tr>\n",
       "  </tbody>\n",
       "</table>\n",
       "</div>"
      ],
      "text/plain": [
       "   success msg                                    dataset_id  \\\n",
       "0     True      dataset_dc12133b-dd09-4159-a6d6-757efc056c84   \n",
       "\n",
       "                                     node_id  \\\n",
       "0  node_658efe2a-5e4b-4daf-9931-32eb6ecefc32   \n",
       "\n",
       "                                         params_path  \\\n",
       "0  /home/gentoo/Projects/Fedbiomed/fedbiomed/var/...   \n",
       "\n",
       "                                              params  \\\n",
       "0  {'model.features.conv0.weight': [[tensor([[ 0....   \n",
       "\n",
       "                                              timing  \n",
       "0  {'rtime_training': 64.2163345709996, 'ptime_tr...  "
      ]
     },
     "execution_count": 8,
     "metadata": {},
     "output_type": "execute_result"
    }
   ],
   "source": [
    "print(\"\\nList the training rounds : \", exp.training_replies().keys())\n",
    "\n",
    "print(\"\\nList the nodes for the last training round and their timings : \")\n",
    "round_data = exp.training_replies()[rounds - 1].data()\n",
    "for c in range(len(round_data)):\n",
    "    print(\"\\t- {id} :\\\n",
    "    \\n\\t\\trtime_training={rtraining:.2f} seconds\\\n",
    "    \\n\\t\\tptime_training={ptraining:.2f} seconds\\\n",
    "    \\n\\t\\trtime_total={rtotal:.2f} seconds\".format(id = round_data[c]['node_id'],\n",
    "        rtraining = round_data[c]['timing']['rtime_training'],\n",
    "        ptraining = round_data[c]['timing']['ptime_training'],\n",
    "        rtotal = round_data[c]['timing']['rtime_total']))\n",
    "print('\\n')\n",
    "    \n",
    "exp.training_replies()[rounds - 1].dataframe()"
   ]
  },
  {
   "cell_type": "markdown",
   "metadata": {},
   "source": [
    "Federated parameters for each round are available via `exp.aggregated_params()` (index 0 to (`rounds` - 1) ).\n",
    "\n",
    "For example you can view the federated parameters for the last round of the experiment :"
   ]
  },
  {
   "cell_type": "code",
   "execution_count": 9,
   "metadata": {},
   "outputs": [
    {
     "name": "stdout",
     "output_type": "stream",
     "text": [
      "\n",
      "List the training rounds :  dict_keys([0, 1, 2])\n",
      "\n",
      "Access the federated params for the last training round :\n",
      "\t- params_path:  /home/gentoo/Projects/Fedbiomed/fedbiomed/var/experiments/Experiment_0001/aggregated_params_1c082e80-7a8c-469b-92bc-b42d9493adba.pt\n",
      "\t- parameter data:  odict_keys(['model.features.conv0.weight', 'model.features.norm0.weight', 'model.features.norm0.bias', 'model.features.norm0.running_mean', 'model.features.norm0.running_var', 'model.features.norm0.num_batches_tracked', 'model.features.denseblock1.denselayer1.norm1.weight', 'model.features.denseblock1.denselayer1.norm1.bias', 'model.features.denseblock1.denselayer1.norm1.running_mean', 'model.features.denseblock1.denselayer1.norm1.running_var', 'model.features.denseblock1.denselayer1.norm1.num_batches_tracked', 'model.features.denseblock1.denselayer1.conv1.weight', 'model.features.denseblock1.denselayer1.norm2.weight', 'model.features.denseblock1.denselayer1.norm2.bias', 'model.features.denseblock1.denselayer1.norm2.running_mean', 'model.features.denseblock1.denselayer1.norm2.running_var', 'model.features.denseblock1.denselayer1.norm2.num_batches_tracked', 'model.features.denseblock1.denselayer1.conv2.weight', 'model.features.denseblock1.denselayer2.norm1.weight', 'model.features.denseblock1.denselayer2.norm1.bias', 'model.features.denseblock1.denselayer2.norm1.running_mean', 'model.features.denseblock1.denselayer2.norm1.running_var', 'model.features.denseblock1.denselayer2.norm1.num_batches_tracked', 'model.features.denseblock1.denselayer2.conv1.weight', 'model.features.denseblock1.denselayer2.norm2.weight', 'model.features.denseblock1.denselayer2.norm2.bias', 'model.features.denseblock1.denselayer2.norm2.running_mean', 'model.features.denseblock1.denselayer2.norm2.running_var', 'model.features.denseblock1.denselayer2.norm2.num_batches_tracked', 'model.features.denseblock1.denselayer2.conv2.weight', 'model.features.denseblock1.denselayer3.norm1.weight', 'model.features.denseblock1.denselayer3.norm1.bias', 'model.features.denseblock1.denselayer3.norm1.running_mean', 'model.features.denseblock1.denselayer3.norm1.running_var', 'model.features.denseblock1.denselayer3.norm1.num_batches_tracked', 'model.features.denseblock1.denselayer3.conv1.weight', 'model.features.denseblock1.denselayer3.norm2.weight', 'model.features.denseblock1.denselayer3.norm2.bias', 'model.features.denseblock1.denselayer3.norm2.running_mean', 'model.features.denseblock1.denselayer3.norm2.running_var', 'model.features.denseblock1.denselayer3.norm2.num_batches_tracked', 'model.features.denseblock1.denselayer3.conv2.weight', 'model.features.denseblock1.denselayer4.norm1.weight', 'model.features.denseblock1.denselayer4.norm1.bias', 'model.features.denseblock1.denselayer4.norm1.running_mean', 'model.features.denseblock1.denselayer4.norm1.running_var', 'model.features.denseblock1.denselayer4.norm1.num_batches_tracked', 'model.features.denseblock1.denselayer4.conv1.weight', 'model.features.denseblock1.denselayer4.norm2.weight', 'model.features.denseblock1.denselayer4.norm2.bias', 'model.features.denseblock1.denselayer4.norm2.running_mean', 'model.features.denseblock1.denselayer4.norm2.running_var', 'model.features.denseblock1.denselayer4.norm2.num_batches_tracked', 'model.features.denseblock1.denselayer4.conv2.weight', 'model.features.denseblock1.denselayer5.norm1.weight', 'model.features.denseblock1.denselayer5.norm1.bias', 'model.features.denseblock1.denselayer5.norm1.running_mean', 'model.features.denseblock1.denselayer5.norm1.running_var', 'model.features.denseblock1.denselayer5.norm1.num_batches_tracked', 'model.features.denseblock1.denselayer5.conv1.weight', 'model.features.denseblock1.denselayer5.norm2.weight', 'model.features.denseblock1.denselayer5.norm2.bias', 'model.features.denseblock1.denselayer5.norm2.running_mean', 'model.features.denseblock1.denselayer5.norm2.running_var', 'model.features.denseblock1.denselayer5.norm2.num_batches_tracked', 'model.features.denseblock1.denselayer5.conv2.weight', 'model.features.denseblock1.denselayer6.norm1.weight', 'model.features.denseblock1.denselayer6.norm1.bias', 'model.features.denseblock1.denselayer6.norm1.running_mean', 'model.features.denseblock1.denselayer6.norm1.running_var', 'model.features.denseblock1.denselayer6.norm1.num_batches_tracked', 'model.features.denseblock1.denselayer6.conv1.weight', 'model.features.denseblock1.denselayer6.norm2.weight', 'model.features.denseblock1.denselayer6.norm2.bias', 'model.features.denseblock1.denselayer6.norm2.running_mean', 'model.features.denseblock1.denselayer6.norm2.running_var', 'model.features.denseblock1.denselayer6.norm2.num_batches_tracked', 'model.features.denseblock1.denselayer6.conv2.weight', 'model.features.transition1.norm.weight', 'model.features.transition1.norm.bias', 'model.features.transition1.norm.running_mean', 'model.features.transition1.norm.running_var', 'model.features.transition1.norm.num_batches_tracked', 'model.features.transition1.conv.weight', 'model.features.denseblock2.denselayer1.norm1.weight', 'model.features.denseblock2.denselayer1.norm1.bias', 'model.features.denseblock2.denselayer1.norm1.running_mean', 'model.features.denseblock2.denselayer1.norm1.running_var', 'model.features.denseblock2.denselayer1.norm1.num_batches_tracked', 'model.features.denseblock2.denselayer1.conv1.weight', 'model.features.denseblock2.denselayer1.norm2.weight', 'model.features.denseblock2.denselayer1.norm2.bias', 'model.features.denseblock2.denselayer1.norm2.running_mean', 'model.features.denseblock2.denselayer1.norm2.running_var', 'model.features.denseblock2.denselayer1.norm2.num_batches_tracked', 'model.features.denseblock2.denselayer1.conv2.weight', 'model.features.denseblock2.denselayer2.norm1.weight', 'model.features.denseblock2.denselayer2.norm1.bias', 'model.features.denseblock2.denselayer2.norm1.running_mean', 'model.features.denseblock2.denselayer2.norm1.running_var', 'model.features.denseblock2.denselayer2.norm1.num_batches_tracked', 'model.features.denseblock2.denselayer2.conv1.weight', 'model.features.denseblock2.denselayer2.norm2.weight', 'model.features.denseblock2.denselayer2.norm2.bias', 'model.features.denseblock2.denselayer2.norm2.running_mean', 'model.features.denseblock2.denselayer2.norm2.running_var', 'model.features.denseblock2.denselayer2.norm2.num_batches_tracked', 'model.features.denseblock2.denselayer2.conv2.weight', 'model.features.denseblock2.denselayer3.norm1.weight', 'model.features.denseblock2.denselayer3.norm1.bias', 'model.features.denseblock2.denselayer3.norm1.running_mean', 'model.features.denseblock2.denselayer3.norm1.running_var', 'model.features.denseblock2.denselayer3.norm1.num_batches_tracked', 'model.features.denseblock2.denselayer3.conv1.weight', 'model.features.denseblock2.denselayer3.norm2.weight', 'model.features.denseblock2.denselayer3.norm2.bias', 'model.features.denseblock2.denselayer3.norm2.running_mean', 'model.features.denseblock2.denselayer3.norm2.running_var', 'model.features.denseblock2.denselayer3.norm2.num_batches_tracked', 'model.features.denseblock2.denselayer3.conv2.weight', 'model.features.denseblock2.denselayer4.norm1.weight', 'model.features.denseblock2.denselayer4.norm1.bias', 'model.features.denseblock2.denselayer4.norm1.running_mean', 'model.features.denseblock2.denselayer4.norm1.running_var', 'model.features.denseblock2.denselayer4.norm1.num_batches_tracked', 'model.features.denseblock2.denselayer4.conv1.weight', 'model.features.denseblock2.denselayer4.norm2.weight', 'model.features.denseblock2.denselayer4.norm2.bias', 'model.features.denseblock2.denselayer4.norm2.running_mean', 'model.features.denseblock2.denselayer4.norm2.running_var', 'model.features.denseblock2.denselayer4.norm2.num_batches_tracked', 'model.features.denseblock2.denselayer4.conv2.weight', 'model.features.denseblock2.denselayer5.norm1.weight', 'model.features.denseblock2.denselayer5.norm1.bias', 'model.features.denseblock2.denselayer5.norm1.running_mean', 'model.features.denseblock2.denselayer5.norm1.running_var', 'model.features.denseblock2.denselayer5.norm1.num_batches_tracked', 'model.features.denseblock2.denselayer5.conv1.weight', 'model.features.denseblock2.denselayer5.norm2.weight', 'model.features.denseblock2.denselayer5.norm2.bias', 'model.features.denseblock2.denselayer5.norm2.running_mean', 'model.features.denseblock2.denselayer5.norm2.running_var', 'model.features.denseblock2.denselayer5.norm2.num_batches_tracked', 'model.features.denseblock2.denselayer5.conv2.weight', 'model.features.denseblock2.denselayer6.norm1.weight', 'model.features.denseblock2.denselayer6.norm1.bias', 'model.features.denseblock2.denselayer6.norm1.running_mean', 'model.features.denseblock2.denselayer6.norm1.running_var', 'model.features.denseblock2.denselayer6.norm1.num_batches_tracked', 'model.features.denseblock2.denselayer6.conv1.weight', 'model.features.denseblock2.denselayer6.norm2.weight', 'model.features.denseblock2.denselayer6.norm2.bias', 'model.features.denseblock2.denselayer6.norm2.running_mean', 'model.features.denseblock2.denselayer6.norm2.running_var', 'model.features.denseblock2.denselayer6.norm2.num_batches_tracked', 'model.features.denseblock2.denselayer6.conv2.weight', 'model.features.denseblock2.denselayer7.norm1.weight', 'model.features.denseblock2.denselayer7.norm1.bias', 'model.features.denseblock2.denselayer7.norm1.running_mean', 'model.features.denseblock2.denselayer7.norm1.running_var', 'model.features.denseblock2.denselayer7.norm1.num_batches_tracked', 'model.features.denseblock2.denselayer7.conv1.weight', 'model.features.denseblock2.denselayer7.norm2.weight', 'model.features.denseblock2.denselayer7.norm2.bias', 'model.features.denseblock2.denselayer7.norm2.running_mean', 'model.features.denseblock2.denselayer7.norm2.running_var', 'model.features.denseblock2.denselayer7.norm2.num_batches_tracked', 'model.features.denseblock2.denselayer7.conv2.weight', 'model.features.denseblock2.denselayer8.norm1.weight', 'model.features.denseblock2.denselayer8.norm1.bias', 'model.features.denseblock2.denselayer8.norm1.running_mean', 'model.features.denseblock2.denselayer8.norm1.running_var', 'model.features.denseblock2.denselayer8.norm1.num_batches_tracked', 'model.features.denseblock2.denselayer8.conv1.weight', 'model.features.denseblock2.denselayer8.norm2.weight', 'model.features.denseblock2.denselayer8.norm2.bias', 'model.features.denseblock2.denselayer8.norm2.running_mean', 'model.features.denseblock2.denselayer8.norm2.running_var', 'model.features.denseblock2.denselayer8.norm2.num_batches_tracked', 'model.features.denseblock2.denselayer8.conv2.weight', 'model.features.denseblock2.denselayer9.norm1.weight', 'model.features.denseblock2.denselayer9.norm1.bias', 'model.features.denseblock2.denselayer9.norm1.running_mean', 'model.features.denseblock2.denselayer9.norm1.running_var', 'model.features.denseblock2.denselayer9.norm1.num_batches_tracked', 'model.features.denseblock2.denselayer9.conv1.weight', 'model.features.denseblock2.denselayer9.norm2.weight', 'model.features.denseblock2.denselayer9.norm2.bias', 'model.features.denseblock2.denselayer9.norm2.running_mean', 'model.features.denseblock2.denselayer9.norm2.running_var', 'model.features.denseblock2.denselayer9.norm2.num_batches_tracked', 'model.features.denseblock2.denselayer9.conv2.weight', 'model.features.denseblock2.denselayer10.norm1.weight', 'model.features.denseblock2.denselayer10.norm1.bias', 'model.features.denseblock2.denselayer10.norm1.running_mean', 'model.features.denseblock2.denselayer10.norm1.running_var', 'model.features.denseblock2.denselayer10.norm1.num_batches_tracked', 'model.features.denseblock2.denselayer10.conv1.weight', 'model.features.denseblock2.denselayer10.norm2.weight', 'model.features.denseblock2.denselayer10.norm2.bias', 'model.features.denseblock2.denselayer10.norm2.running_mean', 'model.features.denseblock2.denselayer10.norm2.running_var', 'model.features.denseblock2.denselayer10.norm2.num_batches_tracked', 'model.features.denseblock2.denselayer10.conv2.weight', 'model.features.denseblock2.denselayer11.norm1.weight', 'model.features.denseblock2.denselayer11.norm1.bias', 'model.features.denseblock2.denselayer11.norm1.running_mean', 'model.features.denseblock2.denselayer11.norm1.running_var', 'model.features.denseblock2.denselayer11.norm1.num_batches_tracked', 'model.features.denseblock2.denselayer11.conv1.weight', 'model.features.denseblock2.denselayer11.norm2.weight', 'model.features.denseblock2.denselayer11.norm2.bias', 'model.features.denseblock2.denselayer11.norm2.running_mean', 'model.features.denseblock2.denselayer11.norm2.running_var', 'model.features.denseblock2.denselayer11.norm2.num_batches_tracked', 'model.features.denseblock2.denselayer11.conv2.weight', 'model.features.denseblock2.denselayer12.norm1.weight', 'model.features.denseblock2.denselayer12.norm1.bias', 'model.features.denseblock2.denselayer12.norm1.running_mean', 'model.features.denseblock2.denselayer12.norm1.running_var', 'model.features.denseblock2.denselayer12.norm1.num_batches_tracked', 'model.features.denseblock2.denselayer12.conv1.weight', 'model.features.denseblock2.denselayer12.norm2.weight', 'model.features.denseblock2.denselayer12.norm2.bias', 'model.features.denseblock2.denselayer12.norm2.running_mean', 'model.features.denseblock2.denselayer12.norm2.running_var', 'model.features.denseblock2.denselayer12.norm2.num_batches_tracked', 'model.features.denseblock2.denselayer12.conv2.weight', 'model.features.transition2.norm.weight', 'model.features.transition2.norm.bias', 'model.features.transition2.norm.running_mean', 'model.features.transition2.norm.running_var', 'model.features.transition2.norm.num_batches_tracked', 'model.features.transition2.conv.weight', 'model.features.denseblock3.denselayer1.norm1.weight', 'model.features.denseblock3.denselayer1.norm1.bias', 'model.features.denseblock3.denselayer1.norm1.running_mean', 'model.features.denseblock3.denselayer1.norm1.running_var', 'model.features.denseblock3.denselayer1.norm1.num_batches_tracked', 'model.features.denseblock3.denselayer1.conv1.weight', 'model.features.denseblock3.denselayer1.norm2.weight', 'model.features.denseblock3.denselayer1.norm2.bias', 'model.features.denseblock3.denselayer1.norm2.running_mean', 'model.features.denseblock3.denselayer1.norm2.running_var', 'model.features.denseblock3.denselayer1.norm2.num_batches_tracked', 'model.features.denseblock3.denselayer1.conv2.weight', 'model.features.denseblock3.denselayer2.norm1.weight', 'model.features.denseblock3.denselayer2.norm1.bias', 'model.features.denseblock3.denselayer2.norm1.running_mean', 'model.features.denseblock3.denselayer2.norm1.running_var', 'model.features.denseblock3.denselayer2.norm1.num_batches_tracked', 'model.features.denseblock3.denselayer2.conv1.weight', 'model.features.denseblock3.denselayer2.norm2.weight', 'model.features.denseblock3.denselayer2.norm2.bias', 'model.features.denseblock3.denselayer2.norm2.running_mean', 'model.features.denseblock3.denselayer2.norm2.running_var', 'model.features.denseblock3.denselayer2.norm2.num_batches_tracked', 'model.features.denseblock3.denselayer2.conv2.weight', 'model.features.denseblock3.denselayer3.norm1.weight', 'model.features.denseblock3.denselayer3.norm1.bias', 'model.features.denseblock3.denselayer3.norm1.running_mean', 'model.features.denseblock3.denselayer3.norm1.running_var', 'model.features.denseblock3.denselayer3.norm1.num_batches_tracked', 'model.features.denseblock3.denselayer3.conv1.weight', 'model.features.denseblock3.denselayer3.norm2.weight', 'model.features.denseblock3.denselayer3.norm2.bias', 'model.features.denseblock3.denselayer3.norm2.running_mean', 'model.features.denseblock3.denselayer3.norm2.running_var', 'model.features.denseblock3.denselayer3.norm2.num_batches_tracked', 'model.features.denseblock3.denselayer3.conv2.weight', 'model.features.denseblock3.denselayer4.norm1.weight', 'model.features.denseblock3.denselayer4.norm1.bias', 'model.features.denseblock3.denselayer4.norm1.running_mean', 'model.features.denseblock3.denselayer4.norm1.running_var', 'model.features.denseblock3.denselayer4.norm1.num_batches_tracked', 'model.features.denseblock3.denselayer4.conv1.weight', 'model.features.denseblock3.denselayer4.norm2.weight', 'model.features.denseblock3.denselayer4.norm2.bias', 'model.features.denseblock3.denselayer4.norm2.running_mean', 'model.features.denseblock3.denselayer4.norm2.running_var', 'model.features.denseblock3.denselayer4.norm2.num_batches_tracked', 'model.features.denseblock3.denselayer4.conv2.weight', 'model.features.denseblock3.denselayer5.norm1.weight', 'model.features.denseblock3.denselayer5.norm1.bias', 'model.features.denseblock3.denselayer5.norm1.running_mean', 'model.features.denseblock3.denselayer5.norm1.running_var', 'model.features.denseblock3.denselayer5.norm1.num_batches_tracked', 'model.features.denseblock3.denselayer5.conv1.weight', 'model.features.denseblock3.denselayer5.norm2.weight', 'model.features.denseblock3.denselayer5.norm2.bias', 'model.features.denseblock3.denselayer5.norm2.running_mean', 'model.features.denseblock3.denselayer5.norm2.running_var', 'model.features.denseblock3.denselayer5.norm2.num_batches_tracked', 'model.features.denseblock3.denselayer5.conv2.weight', 'model.features.denseblock3.denselayer6.norm1.weight', 'model.features.denseblock3.denselayer6.norm1.bias', 'model.features.denseblock3.denselayer6.norm1.running_mean', 'model.features.denseblock3.denselayer6.norm1.running_var', 'model.features.denseblock3.denselayer6.norm1.num_batches_tracked', 'model.features.denseblock3.denselayer6.conv1.weight', 'model.features.denseblock3.denselayer6.norm2.weight', 'model.features.denseblock3.denselayer6.norm2.bias', 'model.features.denseblock3.denselayer6.norm2.running_mean', 'model.features.denseblock3.denselayer6.norm2.running_var', 'model.features.denseblock3.denselayer6.norm2.num_batches_tracked', 'model.features.denseblock3.denselayer6.conv2.weight', 'model.features.denseblock3.denselayer7.norm1.weight', 'model.features.denseblock3.denselayer7.norm1.bias', 'model.features.denseblock3.denselayer7.norm1.running_mean', 'model.features.denseblock3.denselayer7.norm1.running_var', 'model.features.denseblock3.denselayer7.norm1.num_batches_tracked', 'model.features.denseblock3.denselayer7.conv1.weight', 'model.features.denseblock3.denselayer7.norm2.weight', 'model.features.denseblock3.denselayer7.norm2.bias', 'model.features.denseblock3.denselayer7.norm2.running_mean', 'model.features.denseblock3.denselayer7.norm2.running_var', 'model.features.denseblock3.denselayer7.norm2.num_batches_tracked', 'model.features.denseblock3.denselayer7.conv2.weight', 'model.features.denseblock3.denselayer8.norm1.weight', 'model.features.denseblock3.denselayer8.norm1.bias', 'model.features.denseblock3.denselayer8.norm1.running_mean', 'model.features.denseblock3.denselayer8.norm1.running_var', 'model.features.denseblock3.denselayer8.norm1.num_batches_tracked', 'model.features.denseblock3.denselayer8.conv1.weight', 'model.features.denseblock3.denselayer8.norm2.weight', 'model.features.denseblock3.denselayer8.norm2.bias', 'model.features.denseblock3.denselayer8.norm2.running_mean', 'model.features.denseblock3.denselayer8.norm2.running_var', 'model.features.denseblock3.denselayer8.norm2.num_batches_tracked', 'model.features.denseblock3.denselayer8.conv2.weight', 'model.features.denseblock3.denselayer9.norm1.weight', 'model.features.denseblock3.denselayer9.norm1.bias', 'model.features.denseblock3.denselayer9.norm1.running_mean', 'model.features.denseblock3.denselayer9.norm1.running_var', 'model.features.denseblock3.denselayer9.norm1.num_batches_tracked', 'model.features.denseblock3.denselayer9.conv1.weight', 'model.features.denseblock3.denselayer9.norm2.weight', 'model.features.denseblock3.denselayer9.norm2.bias', 'model.features.denseblock3.denselayer9.norm2.running_mean', 'model.features.denseblock3.denselayer9.norm2.running_var', 'model.features.denseblock3.denselayer9.norm2.num_batches_tracked', 'model.features.denseblock3.denselayer9.conv2.weight', 'model.features.denseblock3.denselayer10.norm1.weight', 'model.features.denseblock3.denselayer10.norm1.bias', 'model.features.denseblock3.denselayer10.norm1.running_mean', 'model.features.denseblock3.denselayer10.norm1.running_var', 'model.features.denseblock3.denselayer10.norm1.num_batches_tracked', 'model.features.denseblock3.denselayer10.conv1.weight', 'model.features.denseblock3.denselayer10.norm2.weight', 'model.features.denseblock3.denselayer10.norm2.bias', 'model.features.denseblock3.denselayer10.norm2.running_mean', 'model.features.denseblock3.denselayer10.norm2.running_var', 'model.features.denseblock3.denselayer10.norm2.num_batches_tracked', 'model.features.denseblock3.denselayer10.conv2.weight', 'model.features.denseblock3.denselayer11.norm1.weight', 'model.features.denseblock3.denselayer11.norm1.bias', 'model.features.denseblock3.denselayer11.norm1.running_mean', 'model.features.denseblock3.denselayer11.norm1.running_var', 'model.features.denseblock3.denselayer11.norm1.num_batches_tracked', 'model.features.denseblock3.denselayer11.conv1.weight', 'model.features.denseblock3.denselayer11.norm2.weight', 'model.features.denseblock3.denselayer11.norm2.bias', 'model.features.denseblock3.denselayer11.norm2.running_mean', 'model.features.denseblock3.denselayer11.norm2.running_var', 'model.features.denseblock3.denselayer11.norm2.num_batches_tracked', 'model.features.denseblock3.denselayer11.conv2.weight', 'model.features.denseblock3.denselayer12.norm1.weight', 'model.features.denseblock3.denselayer12.norm1.bias', 'model.features.denseblock3.denselayer12.norm1.running_mean', 'model.features.denseblock3.denselayer12.norm1.running_var', 'model.features.denseblock3.denselayer12.norm1.num_batches_tracked', 'model.features.denseblock3.denselayer12.conv1.weight', 'model.features.denseblock3.denselayer12.norm2.weight', 'model.features.denseblock3.denselayer12.norm2.bias', 'model.features.denseblock3.denselayer12.norm2.running_mean', 'model.features.denseblock3.denselayer12.norm2.running_var', 'model.features.denseblock3.denselayer12.norm2.num_batches_tracked', 'model.features.denseblock3.denselayer12.conv2.weight', 'model.features.denseblock3.denselayer13.norm1.weight', 'model.features.denseblock3.denselayer13.norm1.bias', 'model.features.denseblock3.denselayer13.norm1.running_mean', 'model.features.denseblock3.denselayer13.norm1.running_var', 'model.features.denseblock3.denselayer13.norm1.num_batches_tracked', 'model.features.denseblock3.denselayer13.conv1.weight', 'model.features.denseblock3.denselayer13.norm2.weight', 'model.features.denseblock3.denselayer13.norm2.bias', 'model.features.denseblock3.denselayer13.norm2.running_mean', 'model.features.denseblock3.denselayer13.norm2.running_var', 'model.features.denseblock3.denselayer13.norm2.num_batches_tracked', 'model.features.denseblock3.denselayer13.conv2.weight', 'model.features.denseblock3.denselayer14.norm1.weight', 'model.features.denseblock3.denselayer14.norm1.bias', 'model.features.denseblock3.denselayer14.norm1.running_mean', 'model.features.denseblock3.denselayer14.norm1.running_var', 'model.features.denseblock3.denselayer14.norm1.num_batches_tracked', 'model.features.denseblock3.denselayer14.conv1.weight', 'model.features.denseblock3.denselayer14.norm2.weight', 'model.features.denseblock3.denselayer14.norm2.bias', 'model.features.denseblock3.denselayer14.norm2.running_mean', 'model.features.denseblock3.denselayer14.norm2.running_var', 'model.features.denseblock3.denselayer14.norm2.num_batches_tracked', 'model.features.denseblock3.denselayer14.conv2.weight', 'model.features.denseblock3.denselayer15.norm1.weight', 'model.features.denseblock3.denselayer15.norm1.bias', 'model.features.denseblock3.denselayer15.norm1.running_mean', 'model.features.denseblock3.denselayer15.norm1.running_var', 'model.features.denseblock3.denselayer15.norm1.num_batches_tracked', 'model.features.denseblock3.denselayer15.conv1.weight', 'model.features.denseblock3.denselayer15.norm2.weight', 'model.features.denseblock3.denselayer15.norm2.bias', 'model.features.denseblock3.denselayer15.norm2.running_mean', 'model.features.denseblock3.denselayer15.norm2.running_var', 'model.features.denseblock3.denselayer15.norm2.num_batches_tracked', 'model.features.denseblock3.denselayer15.conv2.weight', 'model.features.denseblock3.denselayer16.norm1.weight', 'model.features.denseblock3.denselayer16.norm1.bias', 'model.features.denseblock3.denselayer16.norm1.running_mean', 'model.features.denseblock3.denselayer16.norm1.running_var', 'model.features.denseblock3.denselayer16.norm1.num_batches_tracked', 'model.features.denseblock3.denselayer16.conv1.weight', 'model.features.denseblock3.denselayer16.norm2.weight', 'model.features.denseblock3.denselayer16.norm2.bias', 'model.features.denseblock3.denselayer16.norm2.running_mean', 'model.features.denseblock3.denselayer16.norm2.running_var', 'model.features.denseblock3.denselayer16.norm2.num_batches_tracked', 'model.features.denseblock3.denselayer16.conv2.weight', 'model.features.denseblock3.denselayer17.norm1.weight', 'model.features.denseblock3.denselayer17.norm1.bias', 'model.features.denseblock3.denselayer17.norm1.running_mean', 'model.features.denseblock3.denselayer17.norm1.running_var', 'model.features.denseblock3.denselayer17.norm1.num_batches_tracked', 'model.features.denseblock3.denselayer17.conv1.weight', 'model.features.denseblock3.denselayer17.norm2.weight', 'model.features.denseblock3.denselayer17.norm2.bias', 'model.features.denseblock3.denselayer17.norm2.running_mean', 'model.features.denseblock3.denselayer17.norm2.running_var', 'model.features.denseblock3.denselayer17.norm2.num_batches_tracked', 'model.features.denseblock3.denselayer17.conv2.weight', 'model.features.denseblock3.denselayer18.norm1.weight', 'model.features.denseblock3.denselayer18.norm1.bias', 'model.features.denseblock3.denselayer18.norm1.running_mean', 'model.features.denseblock3.denselayer18.norm1.running_var', 'model.features.denseblock3.denselayer18.norm1.num_batches_tracked', 'model.features.denseblock3.denselayer18.conv1.weight', 'model.features.denseblock3.denselayer18.norm2.weight', 'model.features.denseblock3.denselayer18.norm2.bias', 'model.features.denseblock3.denselayer18.norm2.running_mean', 'model.features.denseblock3.denselayer18.norm2.running_var', 'model.features.denseblock3.denselayer18.norm2.num_batches_tracked', 'model.features.denseblock3.denselayer18.conv2.weight', 'model.features.denseblock3.denselayer19.norm1.weight', 'model.features.denseblock3.denselayer19.norm1.bias', 'model.features.denseblock3.denselayer19.norm1.running_mean', 'model.features.denseblock3.denselayer19.norm1.running_var', 'model.features.denseblock3.denselayer19.norm1.num_batches_tracked', 'model.features.denseblock3.denselayer19.conv1.weight', 'model.features.denseblock3.denselayer19.norm2.weight', 'model.features.denseblock3.denselayer19.norm2.bias', 'model.features.denseblock3.denselayer19.norm2.running_mean', 'model.features.denseblock3.denselayer19.norm2.running_var', 'model.features.denseblock3.denselayer19.norm2.num_batches_tracked', 'model.features.denseblock3.denselayer19.conv2.weight', 'model.features.denseblock3.denselayer20.norm1.weight', 'model.features.denseblock3.denselayer20.norm1.bias', 'model.features.denseblock3.denselayer20.norm1.running_mean', 'model.features.denseblock3.denselayer20.norm1.running_var', 'model.features.denseblock3.denselayer20.norm1.num_batches_tracked', 'model.features.denseblock3.denselayer20.conv1.weight', 'model.features.denseblock3.denselayer20.norm2.weight', 'model.features.denseblock3.denselayer20.norm2.bias', 'model.features.denseblock3.denselayer20.norm2.running_mean', 'model.features.denseblock3.denselayer20.norm2.running_var', 'model.features.denseblock3.denselayer20.norm2.num_batches_tracked', 'model.features.denseblock3.denselayer20.conv2.weight', 'model.features.denseblock3.denselayer21.norm1.weight', 'model.features.denseblock3.denselayer21.norm1.bias', 'model.features.denseblock3.denselayer21.norm1.running_mean', 'model.features.denseblock3.denselayer21.norm1.running_var', 'model.features.denseblock3.denselayer21.norm1.num_batches_tracked', 'model.features.denseblock3.denselayer21.conv1.weight', 'model.features.denseblock3.denselayer21.norm2.weight', 'model.features.denseblock3.denselayer21.norm2.bias', 'model.features.denseblock3.denselayer21.norm2.running_mean', 'model.features.denseblock3.denselayer21.norm2.running_var', 'model.features.denseblock3.denselayer21.norm2.num_batches_tracked', 'model.features.denseblock3.denselayer21.conv2.weight', 'model.features.denseblock3.denselayer22.norm1.weight', 'model.features.denseblock3.denselayer22.norm1.bias', 'model.features.denseblock3.denselayer22.norm1.running_mean', 'model.features.denseblock3.denselayer22.norm1.running_var', 'model.features.denseblock3.denselayer22.norm1.num_batches_tracked', 'model.features.denseblock3.denselayer22.conv1.weight', 'model.features.denseblock3.denselayer22.norm2.weight', 'model.features.denseblock3.denselayer22.norm2.bias', 'model.features.denseblock3.denselayer22.norm2.running_mean', 'model.features.denseblock3.denselayer22.norm2.running_var', 'model.features.denseblock3.denselayer22.norm2.num_batches_tracked', 'model.features.denseblock3.denselayer22.conv2.weight', 'model.features.denseblock3.denselayer23.norm1.weight', 'model.features.denseblock3.denselayer23.norm1.bias', 'model.features.denseblock3.denselayer23.norm1.running_mean', 'model.features.denseblock3.denselayer23.norm1.running_var', 'model.features.denseblock3.denselayer23.norm1.num_batches_tracked', 'model.features.denseblock3.denselayer23.conv1.weight', 'model.features.denseblock3.denselayer23.norm2.weight', 'model.features.denseblock3.denselayer23.norm2.bias', 'model.features.denseblock3.denselayer23.norm2.running_mean', 'model.features.denseblock3.denselayer23.norm2.running_var', 'model.features.denseblock3.denselayer23.norm2.num_batches_tracked', 'model.features.denseblock3.denselayer23.conv2.weight', 'model.features.denseblock3.denselayer24.norm1.weight', 'model.features.denseblock3.denselayer24.norm1.bias', 'model.features.denseblock3.denselayer24.norm1.running_mean', 'model.features.denseblock3.denselayer24.norm1.running_var', 'model.features.denseblock3.denselayer24.norm1.num_batches_tracked', 'model.features.denseblock3.denselayer24.conv1.weight', 'model.features.denseblock3.denselayer24.norm2.weight', 'model.features.denseblock3.denselayer24.norm2.bias', 'model.features.denseblock3.denselayer24.norm2.running_mean', 'model.features.denseblock3.denselayer24.norm2.running_var', 'model.features.denseblock3.denselayer24.norm2.num_batches_tracked', 'model.features.denseblock3.denselayer24.conv2.weight', 'model.features.transition3.norm.weight', 'model.features.transition3.norm.bias', 'model.features.transition3.norm.running_mean', 'model.features.transition3.norm.running_var', 'model.features.transition3.norm.num_batches_tracked', 'model.features.transition3.conv.weight', 'model.features.denseblock4.denselayer1.norm1.weight', 'model.features.denseblock4.denselayer1.norm1.bias', 'model.features.denseblock4.denselayer1.norm1.running_mean', 'model.features.denseblock4.denselayer1.norm1.running_var', 'model.features.denseblock4.denselayer1.norm1.num_batches_tracked', 'model.features.denseblock4.denselayer1.conv1.weight', 'model.features.denseblock4.denselayer1.norm2.weight', 'model.features.denseblock4.denselayer1.norm2.bias', 'model.features.denseblock4.denselayer1.norm2.running_mean', 'model.features.denseblock4.denselayer1.norm2.running_var', 'model.features.denseblock4.denselayer1.norm2.num_batches_tracked', 'model.features.denseblock4.denselayer1.conv2.weight', 'model.features.denseblock4.denselayer2.norm1.weight', 'model.features.denseblock4.denselayer2.norm1.bias', 'model.features.denseblock4.denselayer2.norm1.running_mean', 'model.features.denseblock4.denselayer2.norm1.running_var', 'model.features.denseblock4.denselayer2.norm1.num_batches_tracked', 'model.features.denseblock4.denselayer2.conv1.weight', 'model.features.denseblock4.denselayer2.norm2.weight', 'model.features.denseblock4.denselayer2.norm2.bias', 'model.features.denseblock4.denselayer2.norm2.running_mean', 'model.features.denseblock4.denselayer2.norm2.running_var', 'model.features.denseblock4.denselayer2.norm2.num_batches_tracked', 'model.features.denseblock4.denselayer2.conv2.weight', 'model.features.denseblock4.denselayer3.norm1.weight', 'model.features.denseblock4.denselayer3.norm1.bias', 'model.features.denseblock4.denselayer3.norm1.running_mean', 'model.features.denseblock4.denselayer3.norm1.running_var', 'model.features.denseblock4.denselayer3.norm1.num_batches_tracked', 'model.features.denseblock4.denselayer3.conv1.weight', 'model.features.denseblock4.denselayer3.norm2.weight', 'model.features.denseblock4.denselayer3.norm2.bias', 'model.features.denseblock4.denselayer3.norm2.running_mean', 'model.features.denseblock4.denselayer3.norm2.running_var', 'model.features.denseblock4.denselayer3.norm2.num_batches_tracked', 'model.features.denseblock4.denselayer3.conv2.weight', 'model.features.denseblock4.denselayer4.norm1.weight', 'model.features.denseblock4.denselayer4.norm1.bias', 'model.features.denseblock4.denselayer4.norm1.running_mean', 'model.features.denseblock4.denselayer4.norm1.running_var', 'model.features.denseblock4.denselayer4.norm1.num_batches_tracked', 'model.features.denseblock4.denselayer4.conv1.weight', 'model.features.denseblock4.denselayer4.norm2.weight', 'model.features.denseblock4.denselayer4.norm2.bias', 'model.features.denseblock4.denselayer4.norm2.running_mean', 'model.features.denseblock4.denselayer4.norm2.running_var', 'model.features.denseblock4.denselayer4.norm2.num_batches_tracked', 'model.features.denseblock4.denselayer4.conv2.weight', 'model.features.denseblock4.denselayer5.norm1.weight', 'model.features.denseblock4.denselayer5.norm1.bias', 'model.features.denseblock4.denselayer5.norm1.running_mean', 'model.features.denseblock4.denselayer5.norm1.running_var', 'model.features.denseblock4.denselayer5.norm1.num_batches_tracked', 'model.features.denseblock4.denselayer5.conv1.weight', 'model.features.denseblock4.denselayer5.norm2.weight', 'model.features.denseblock4.denselayer5.norm2.bias', 'model.features.denseblock4.denselayer5.norm2.running_mean', 'model.features.denseblock4.denselayer5.norm2.running_var', 'model.features.denseblock4.denselayer5.norm2.num_batches_tracked', 'model.features.denseblock4.denselayer5.conv2.weight', 'model.features.denseblock4.denselayer6.norm1.weight', 'model.features.denseblock4.denselayer6.norm1.bias', 'model.features.denseblock4.denselayer6.norm1.running_mean', 'model.features.denseblock4.denselayer6.norm1.running_var', 'model.features.denseblock4.denselayer6.norm1.num_batches_tracked', 'model.features.denseblock4.denselayer6.conv1.weight', 'model.features.denseblock4.denselayer6.norm2.weight', 'model.features.denseblock4.denselayer6.norm2.bias', 'model.features.denseblock4.denselayer6.norm2.running_mean', 'model.features.denseblock4.denselayer6.norm2.running_var', 'model.features.denseblock4.denselayer6.norm2.num_batches_tracked', 'model.features.denseblock4.denselayer6.conv2.weight', 'model.features.denseblock4.denselayer7.norm1.weight', 'model.features.denseblock4.denselayer7.norm1.bias', 'model.features.denseblock4.denselayer7.norm1.running_mean', 'model.features.denseblock4.denselayer7.norm1.running_var', 'model.features.denseblock4.denselayer7.norm1.num_batches_tracked', 'model.features.denseblock4.denselayer7.conv1.weight', 'model.features.denseblock4.denselayer7.norm2.weight', 'model.features.denseblock4.denselayer7.norm2.bias', 'model.features.denseblock4.denselayer7.norm2.running_mean', 'model.features.denseblock4.denselayer7.norm2.running_var', 'model.features.denseblock4.denselayer7.norm2.num_batches_tracked', 'model.features.denseblock4.denselayer7.conv2.weight', 'model.features.denseblock4.denselayer8.norm1.weight', 'model.features.denseblock4.denselayer8.norm1.bias', 'model.features.denseblock4.denselayer8.norm1.running_mean', 'model.features.denseblock4.denselayer8.norm1.running_var', 'model.features.denseblock4.denselayer8.norm1.num_batches_tracked', 'model.features.denseblock4.denselayer8.conv1.weight', 'model.features.denseblock4.denselayer8.norm2.weight', 'model.features.denseblock4.denselayer8.norm2.bias', 'model.features.denseblock4.denselayer8.norm2.running_mean', 'model.features.denseblock4.denselayer8.norm2.running_var', 'model.features.denseblock4.denselayer8.norm2.num_batches_tracked', 'model.features.denseblock4.denselayer8.conv2.weight', 'model.features.denseblock4.denselayer9.norm1.weight', 'model.features.denseblock4.denselayer9.norm1.bias', 'model.features.denseblock4.denselayer9.norm1.running_mean', 'model.features.denseblock4.denselayer9.norm1.running_var', 'model.features.denseblock4.denselayer9.norm1.num_batches_tracked', 'model.features.denseblock4.denselayer9.conv1.weight', 'model.features.denseblock4.denselayer9.norm2.weight', 'model.features.denseblock4.denselayer9.norm2.bias', 'model.features.denseblock4.denselayer9.norm2.running_mean', 'model.features.denseblock4.denselayer9.norm2.running_var', 'model.features.denseblock4.denselayer9.norm2.num_batches_tracked', 'model.features.denseblock4.denselayer9.conv2.weight', 'model.features.denseblock4.denselayer10.norm1.weight', 'model.features.denseblock4.denselayer10.norm1.bias', 'model.features.denseblock4.denselayer10.norm1.running_mean', 'model.features.denseblock4.denselayer10.norm1.running_var', 'model.features.denseblock4.denselayer10.norm1.num_batches_tracked', 'model.features.denseblock4.denselayer10.conv1.weight', 'model.features.denseblock4.denselayer10.norm2.weight', 'model.features.denseblock4.denselayer10.norm2.bias', 'model.features.denseblock4.denselayer10.norm2.running_mean', 'model.features.denseblock4.denselayer10.norm2.running_var', 'model.features.denseblock4.denselayer10.norm2.num_batches_tracked', 'model.features.denseblock4.denselayer10.conv2.weight', 'model.features.denseblock4.denselayer11.norm1.weight', 'model.features.denseblock4.denselayer11.norm1.bias', 'model.features.denseblock4.denselayer11.norm1.running_mean', 'model.features.denseblock4.denselayer11.norm1.running_var', 'model.features.denseblock4.denselayer11.norm1.num_batches_tracked', 'model.features.denseblock4.denselayer11.conv1.weight', 'model.features.denseblock4.denselayer11.norm2.weight', 'model.features.denseblock4.denselayer11.norm2.bias', 'model.features.denseblock4.denselayer11.norm2.running_mean', 'model.features.denseblock4.denselayer11.norm2.running_var', 'model.features.denseblock4.denselayer11.norm2.num_batches_tracked', 'model.features.denseblock4.denselayer11.conv2.weight', 'model.features.denseblock4.denselayer12.norm1.weight', 'model.features.denseblock4.denselayer12.norm1.bias', 'model.features.denseblock4.denselayer12.norm1.running_mean', 'model.features.denseblock4.denselayer12.norm1.running_var', 'model.features.denseblock4.denselayer12.norm1.num_batches_tracked', 'model.features.denseblock4.denselayer12.conv1.weight', 'model.features.denseblock4.denselayer12.norm2.weight', 'model.features.denseblock4.denselayer12.norm2.bias', 'model.features.denseblock4.denselayer12.norm2.running_mean', 'model.features.denseblock4.denselayer12.norm2.running_var', 'model.features.denseblock4.denselayer12.norm2.num_batches_tracked', 'model.features.denseblock4.denselayer12.conv2.weight', 'model.features.denseblock4.denselayer13.norm1.weight', 'model.features.denseblock4.denselayer13.norm1.bias', 'model.features.denseblock4.denselayer13.norm1.running_mean', 'model.features.denseblock4.denselayer13.norm1.running_var', 'model.features.denseblock4.denselayer13.norm1.num_batches_tracked', 'model.features.denseblock4.denselayer13.conv1.weight', 'model.features.denseblock4.denselayer13.norm2.weight', 'model.features.denseblock4.denselayer13.norm2.bias', 'model.features.denseblock4.denselayer13.norm2.running_mean', 'model.features.denseblock4.denselayer13.norm2.running_var', 'model.features.denseblock4.denselayer13.norm2.num_batches_tracked', 'model.features.denseblock4.denselayer13.conv2.weight', 'model.features.denseblock4.denselayer14.norm1.weight', 'model.features.denseblock4.denselayer14.norm1.bias', 'model.features.denseblock4.denselayer14.norm1.running_mean', 'model.features.denseblock4.denselayer14.norm1.running_var', 'model.features.denseblock4.denselayer14.norm1.num_batches_tracked', 'model.features.denseblock4.denselayer14.conv1.weight', 'model.features.denseblock4.denselayer14.norm2.weight', 'model.features.denseblock4.denselayer14.norm2.bias', 'model.features.denseblock4.denselayer14.norm2.running_mean', 'model.features.denseblock4.denselayer14.norm2.running_var', 'model.features.denseblock4.denselayer14.norm2.num_batches_tracked', 'model.features.denseblock4.denselayer14.conv2.weight', 'model.features.denseblock4.denselayer15.norm1.weight', 'model.features.denseblock4.denselayer15.norm1.bias', 'model.features.denseblock4.denselayer15.norm1.running_mean', 'model.features.denseblock4.denselayer15.norm1.running_var', 'model.features.denseblock4.denselayer15.norm1.num_batches_tracked', 'model.features.denseblock4.denselayer15.conv1.weight', 'model.features.denseblock4.denselayer15.norm2.weight', 'model.features.denseblock4.denselayer15.norm2.bias', 'model.features.denseblock4.denselayer15.norm2.running_mean', 'model.features.denseblock4.denselayer15.norm2.running_var', 'model.features.denseblock4.denselayer15.norm2.num_batches_tracked', 'model.features.denseblock4.denselayer15.conv2.weight', 'model.features.denseblock4.denselayer16.norm1.weight', 'model.features.denseblock4.denselayer16.norm1.bias', 'model.features.denseblock4.denselayer16.norm1.running_mean', 'model.features.denseblock4.denselayer16.norm1.running_var', 'model.features.denseblock4.denselayer16.norm1.num_batches_tracked', 'model.features.denseblock4.denselayer16.conv1.weight', 'model.features.denseblock4.denselayer16.norm2.weight', 'model.features.denseblock4.denselayer16.norm2.bias', 'model.features.denseblock4.denselayer16.norm2.running_mean', 'model.features.denseblock4.denselayer16.norm2.running_var', 'model.features.denseblock4.denselayer16.norm2.num_batches_tracked', 'model.features.denseblock4.denselayer16.conv2.weight', 'model.features.norm5.weight', 'model.features.norm5.bias', 'model.features.norm5.running_mean', 'model.features.norm5.running_var', 'model.features.norm5.num_batches_tracked', 'model.classifier.0.weight', 'model.classifier.0.bias'])\n"
     ]
    }
   ],
   "source": [
    "print(\"\\nList the training rounds : \", exp.aggregated_params().keys())\n",
    "\n",
    "print(\"\\nAccess the federated params for the last training round :\")\n",
    "print(\"\\t- params_path: \", exp.aggregated_params()[rounds - 1]['params_path'])\n",
    "print(\"\\t- parameter data: \", exp.aggregated_params()[rounds - 1]['params'].keys())\n"
   ]
  },
  {
   "cell_type": "markdown",
   "metadata": {
    "pycharm": {
     "name": "#%% md\n"
    }
   },
   "source": [
    "Feel free to run other sample notebooks or try your own models :D"
   ]
  }
 ],
 "metadata": {
  "kernelspec": {
   "display_name": "Python 3 (ipykernel)",
   "language": "python",
   "name": "python3"
  },
  "language_info": {
   "codemirror_mode": {
    "name": "ipython",
    "version": 3
   },
   "file_extension": ".py",
   "mimetype": "text/x-python",
   "name": "python",
   "nbconvert_exporter": "python",
   "pygments_lexer": "ipython3",
   "version": "3.9.12"
  }
 },
 "nbformat": 4,
 "nbformat_minor": 4
}

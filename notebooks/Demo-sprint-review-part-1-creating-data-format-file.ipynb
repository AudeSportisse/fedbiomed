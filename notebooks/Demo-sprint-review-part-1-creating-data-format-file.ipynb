{
 "cells": [
  {
   "cell_type": "markdown",
   "id": "ee99bdb4",
   "metadata": {},
   "source": [
    "Related to user story: [SP11-Item04: General Data Wrapper PoC](https://gitlab.inria.fr/fedbiomed/fedbiomed/-/issues/164)\n",
    "\n",
    "## Tabular dataset\n",
    "\n",
    "Workflow of data pre processing:\n",
    "\n",
    "1. Columns name should be shared with the researcher\n",
    "2. Data format file to be filled by clinicians.\n",
    "3. Specify if missing data are allowed for a given columns (Exception). The file will be used for data verification during FL pre-processing,\n",
    "4. Outlier verification for quantitative data, continuous and discrete, and for dates (Critical warning),\n",
    "5. Missing data imputation by local mean (or optional NN), or majority voting for discrete labels. Give warnings when missing data are found (for verification a posteriori).\n",
    "6. Give critical warning when too many missing are found (>50%),\n",
    "7. Verify that number of available data is greater then minimum required (Error)\n",
    "\n",
    "Critical warnings have different levels of disclosure to the researcher (1) only the warning, 2) type of warning, 3) type of warning and column affected)."
   ]
  },
  {
   "cell_type": "markdown",
   "id": "32aeb287",
   "metadata": {},
   "source": [
    "# 1. What is a `data_format_ref` file\n",
    "\n",
    "\n",
    "A `data_format_ref_file` is a JSON file containing all the skeleton of the data. \n",
    "It should be created by a clinician and sent to nodes, in order to check nodes dataset integrity.\n",
    "In case there is a mismatch between nodes dataset and `data_format_ref_file` \n",
    "\n",
    "Structure of a `data_format_file_ref`:\n",
    "\n",
    "\n",
    "\n",
    "# 2. Creating a `data_format_ref` file using by loading a dataset\n",
    "\n",
    "In this notebook, we provide a way to create `data_fromat_ref_file` using an existing dataset. \n",
    "Then, user can edit it (ie change `data_format_file_ref` file, and complete information already contained into the file)\n",
    "\n",
    "## 2.1 Loading tabular dataset\n",
    "\n",
    "For that, we provide a `load_tabular_datasets` function able to load every kind of tabular dataset `*.csv`, `.xls`, folder of `*.csv`."
   ]
  },
  {
   "cell_type": "code",
   "execution_count": 1,
   "id": "b8c51343",
   "metadata": {},
   "outputs": [],
   "source": [
    "from fedbiomed.common.data_tool.utils import load_tabular_datasets\n",
    "\n",
    "from fedbiomed.common.data_tool.data_format_ref_cli import get_from_user_multi_view_dataset_fromat_file, edit_format_file_ref"
   ]
  },
  {
   "cell_type": "code",
   "execution_count": 3,
   "id": "1d6750dd",
   "metadata": {},
   "outputs": [
    {
     "name": "stdout",
     "output_type": "stream",
     "text": [
      "file found\n",
      "err 'utf-8' codec can't decode byte 0x8c in position 15: invalid start byte in file ../../Exceltest.xlsx\n"
     ]
    },
    {
     "data": {
      "text/plain": [
       "{'Exceltest.xlsx':    ID   Age Eligibility\n",
       " 0    1   45           Y\n",
       " 1    2   45           Y\n",
       " 2    3   33           N\n",
       " 3    4   54           Y\n",
       " 4    5   45           Y\n",
       " 5    6   54         NaN\n",
       " 6    7   34           N\n",
       " 7    8   54         NaN\n",
       " 8    9   45         NaN\n",
       " 9   10   44           Y}"
      ]
     },
     "execution_count": 3,
     "metadata": {},
     "output_type": "execute_result"
    }
   ],
   "source": [
    "# it can load excel files\n",
    "load_tabular_datasets(r'../../Exceltest.xlsx')"
   ]
  },
  {
   "cell_type": "code",
   "execution_count": 4,
   "id": "470a1d98",
   "metadata": {},
   "outputs": [
    {
     "name": "stdout",
     "output_type": "stream",
     "text": [
      "file found\n"
     ]
    }
   ],
   "source": [
    "# simple csv dataset\n",
    "\n",
    "single_view_dataset = load_tabular_datasets(r'/user/ybouilla/home/Documents/data/pseudo_adni_mod/pseudo_adni_mod.csv')"
   ]
  },
  {
   "cell_type": "code",
   "execution_count": 5,
   "id": "6fb2107a",
   "metadata": {},
   "outputs": [
    {
     "data": {
      "text/plain": [
       "{'pseudo_adni_mod.csv':      CDRSB.bl  ADAS11.bl  MMSE.bl  RAVLT.immediate.bl  RAVLT.learning.bl  \\\n",
       " 0           1          8     27.0           23.739439                4.0   \n",
       " 1           0          0     30.0           64.933800                9.0   \n",
       " 2           0          8     24.0           36.987722                3.0   \n",
       " 3           0          3     29.0           50.314425                5.0   \n",
       " 4           0          0     30.0           57.217830                9.0   \n",
       " ..        ...        ...      ...                 ...                ...   \n",
       " 995         1          2     29.0           61.896022                8.0   \n",
       " 996         0          1     29.0           62.083170                8.0   \n",
       " 997         3         14     24.0           22.289059                2.0   \n",
       " 998         0         13     26.0           31.650504                2.0   \n",
       " 999         0         15     28.0           29.089863                3.0   \n",
       " \n",
       "      RAVLT.forgetting.bl  FAQ.bl  WholeBrain.bl  Ventricles.bl  \\\n",
       " 0               5.821573       3       0.684331       0.012699   \n",
       " 1               4.001653       0       0.735892       0.012803   \n",
       " 2               6.876316       0       0.738731       0.030492   \n",
       " 3               4.733481       3       0.696179       0.032797   \n",
       " 4               7.225401       0       0.841806       0.004030   \n",
       " ..                   ...     ...            ...            ...   \n",
       " 995             1.663102       0       0.767153       0.011417   \n",
       " 996             5.241477       1       0.695168       0.011908   \n",
       " 997             5.437600       7       0.628691       0.041537   \n",
       " 998             1.669603       4       0.714763       0.020461   \n",
       " 999             7.703384       4       0.691858       0.030349   \n",
       " \n",
       "      Hippocampus.bl  MidTemp.bl  Entorhinal.bl  ABETA.MEDIAN.bl  \\\n",
       " 0          0.003786    0.012678       0.002214       154.016065   \n",
       " 1          0.004866    0.015071       0.003041       211.573206   \n",
       " 2          0.004300    0.012419       0.002316       163.637668   \n",
       " 3          0.004720    0.012312       0.002593       182.256297   \n",
       " 4          0.006820    0.016948       0.002896       247.997479   \n",
       " ..              ...         ...            ...              ...   \n",
       " 995        0.005209    0.012879       0.002208       231.706787   \n",
       " 996        0.004641    0.012534       0.002197       146.949187   \n",
       " 997        0.003478    0.010870       0.001939       181.805672   \n",
       " 998        0.004713    0.013989       0.001981       178.824412   \n",
       " 999        0.004237    0.011439       0.002419       180.781989   \n",
       " \n",
       "      PTAU.MEDIAN.bl  TAU.MEDIAN.bl   AGE  \n",
       " 0         67.970509     132.571916  75.0  \n",
       " 1          5.451168      33.787719  67.0  \n",
       " 2         66.704378     110.049924  63.0  \n",
       " 3         47.091893     138.690457  75.0  \n",
       " 4         -5.997140     -61.573234  65.0  \n",
       " ..              ...            ...   ...  \n",
       " 995       24.632786      87.065806  76.0  \n",
       " 996       57.588115     121.985248  77.0  \n",
       " 997       55.052669     157.229102  74.0  \n",
       " 998       69.412821     103.238647  64.0  \n",
       " 999       32.978001      54.780563  65.0  \n",
       " \n",
       " [1000 rows x 16 columns]}"
      ]
     },
     "execution_count": 5,
     "metadata": {},
     "output_type": "execute_result"
    }
   ],
   "source": [
    "single_view_dataset"
   ]
  },
  {
   "cell_type": "code",
   "execution_count": 7,
   "id": "eb4fb3c5",
   "metadata": {},
   "outputs": [
    {
     "name": "stdout",
     "output_type": "stream",
     "text": [
      "\u001b[01;34mdemo_poc_data_wrapper/data/test7\u001b[0m\r\n",
      "├── contatct\r\n",
      "├── file1\r\n",
      "└── file2\r\n",
      "\r\n",
      "0 directories, 3 files\r\n"
     ]
    }
   ],
   "source": [
    "!tree demo_poc_data_wrapper/data/test7"
   ]
  },
  {
   "cell_type": "code",
   "execution_count": 2,
   "id": "ed673dcb",
   "metadata": {},
   "outputs": [
    {
     "name": "stdout",
     "output_type": "stream",
     "text": [
      "directory found\n"
     ]
    }
   ],
   "source": [
    "# folder of dataset\n",
    "multi_view_dataframe =  load_tabular_datasets('demo_poc_data_wrapper/data/test7')\n"
   ]
  },
  {
   "cell_type": "markdown",
   "id": "81839f87",
   "metadata": {},
   "source": [
    "## 2.2 create the `data_format_ref` file from the loaded dataset\n",
    "\n",
    "Let's assume the loaded dataset is a reference dataset, and we want to create from this  dataset a `data_format_ref`. \n",
    "\n",
    "\n",
    "### workflow\n",
    "\n",
    "```\n",
    "for each view:\n",
    "    for each feature whithin view:\n",
    "        ask user to select one type within all type present in `Enum` class `DataType` (if user wants to add this feature inside`data_format_ref`)\n",
    "        ask user to indicate if variable can have missing data or not\n",
    "        ask user to indicate which data imputation method he wants to select\n",
    "        (imputation methods are given from the one specified in `Enum` class `ImputationMethods`\n",
    "        \n",
    "```\n",
    "\n",
    "**Default DataType**:\n",
    "1) KEY \n",
    "2) QUANTITATIVE \n",
    "3) CATEGORICAL \n",
    "4) DATETIME \n",
    "5) UNKNOWN \n",
    "\n",
    "\n",
    "**Data Imputation Methods**\n",
    "\n",
    "1) MEAN_IMPUTATION\n",
    "2) MODE_IMPUTATION\n",
    "3) KNN_IMPUTATION\n",
    "4) LINEAR_INTERPOLATION_IMPUTATION"
   ]
  },
  {
   "cell_type": "code",
   "execution_count": null,
   "id": "378635d6",
   "metadata": {},
   "outputs": [],
   "source": []
  },
  {
   "cell_type": "code",
   "execution_count": 3,
   "id": "6380f157",
   "metadata": {},
   "outputs": [
    {
     "name": "stdout",
     "output_type": "stream",
     "text": [
      "++++++++++++++++++++++++++++++++++++++++++++++++++++++\n",
      "+++++++ Now parsing view: file1 +++++++\n",
      "++++++++++++++++++++++++++++++++++++++++++++++++++++++\n",
      "displaying first 10 values of feature a (n_feature: 1/18)\n",
      "0    48\n",
      "1    87\n",
      "2    46\n",
      "3    84\n",
      "4    94\n",
      "5    18\n",
      "6    15\n",
      "7    30\n",
      "8    54\n",
      "9    46\n",
      "Name: a, dtype: int64\n",
      "number of differents samples: 57 / total of samples: 100\n",
      "specify data type for a:\n",
      "1) KEY \n",
      "2) QUANTITATIVE \n",
      "3) CATEGORICAL \n",
      "4) DATETIME \n",
      "5) CUSTOM \n",
      "6) UNKNOWN \n",
      "7) ignore this column\n",
      "2\n",
      "QuantitativeDataType.DISCRETE int64\n",
      "QuantitativeDataType.DISCRETE | [dtype('int64')]\n",
      "Allow a to have missing values:\n",
      "1) YES\n",
      "2) NO\n",
      "1\n",
      "Please select the following method for filling missing values (if some are found)\n",
      "1) MEAN_IMPUTATION\n",
      "2) MODE_IMPUTATION\n",
      "3) KNN_IMPUTATION\n",
      "4) LINEAR_INTERPOLATION_IMPUTATION\n",
      "5) No method\n",
      "3\n",
      "Selected: KNN_IMPUTATION\n",
      "\n",
      "please specify k value:\n",
      "2\n",
      "imput param {'k': '2'}\n",
      "Please select view that contained desired feature:\n",
      "1) file1 \n",
      "2) contatct \n",
      "3) file2 \n",
      "4) select all views\n",
      "1\n",
      "Please select a feature in file1\n"
     ]
    },
    {
     "ename": "KeyboardInterrupt",
     "evalue": "Interrupted by user",
     "output_type": "error",
     "traceback": [
      "\u001b[0;31m---------------------------------------------------------------------------\u001b[0m",
      "\u001b[0;31mKeyboardInterrupt\u001b[0m                         Traceback (most recent call last)",
      "\u001b[0;32m/tmp/ipykernel_17843/3598209826.py\u001b[0m in \u001b[0;36m<module>\u001b[0;34m\u001b[0m\n\u001b[0;32m----> 1\u001b[0;31m \u001b[0mmulti_data_format_file_test\u001b[0m \u001b[0;34m=\u001b[0m \u001b[0mget_from_user_multi_view_dataset_fromat_file\u001b[0m\u001b[0;34m(\u001b[0m\u001b[0mmulti_view_dataframe\u001b[0m\u001b[0;34m)\u001b[0m\u001b[0;34m\u001b[0m\u001b[0;34m\u001b[0m\u001b[0m\n\u001b[0m",
      "\u001b[0;32m/home/ybouilla/fedbiomed/fedbiomed/common/data_tool/data_format_ref_cli.py\u001b[0m in \u001b[0;36mget_from_user_multi_view_dataset_fromat_file\u001b[0;34m(datasets)\u001b[0m\n\u001b[1;32m    285\u001b[0m         \u001b[0mprint\u001b[0m\u001b[0;34m(\u001b[0m\u001b[0;34mf\"+++++++ Now parsing view: {tabular_data_file} +++++++\"\u001b[0m\u001b[0;34m)\u001b[0m\u001b[0;34m\u001b[0m\u001b[0;34m\u001b[0m\u001b[0m\n\u001b[1;32m    286\u001b[0m         \u001b[0mprint\u001b[0m\u001b[0;34m(\u001b[0m\u001b[0;34m\"++++++++++++++++++++++++++++++++++++++++++++++++++++++\"\u001b[0m\u001b[0;34m)\u001b[0m\u001b[0;34m\u001b[0m\u001b[0;34m\u001b[0m\u001b[0m\n\u001b[0;32m--> 287\u001b[0;31m         data_format_file = get_from_user_dataframe_format_file(datasets[tabular_data_file],\n\u001b[0m\u001b[1;32m    288\u001b[0m                                                                view_feature_name)\n\u001b[1;32m    289\u001b[0m         \u001b[0;32mif\u001b[0m \u001b[0mdata_format_file\u001b[0m\u001b[0;34m:\u001b[0m\u001b[0;34m\u001b[0m\u001b[0;34m\u001b[0m\u001b[0m\n",
      "\u001b[0;32m/home/ybouilla/fedbiomed/fedbiomed/common/data_tool/data_format_ref_cli.py\u001b[0m in \u001b[0;36mget_from_user_dataframe_format_file\u001b[0;34m(dataset, view_feature_names)\u001b[0m\n\u001b[1;32m    244\u001b[0m \u001b[0;34m\u001b[0m\u001b[0m\n\u001b[1;32m    245\u001b[0m                     \u001b[0;32mif\u001b[0m \u001b[0mimputation_method_selected\u001b[0m\u001b[0;34m.\u001b[0m\u001b[0mask_variable_to_perform_imputation\u001b[0m\u001b[0;34m:\u001b[0m\u001b[0;34m\u001b[0m\u001b[0;34m\u001b[0m\u001b[0m\n\u001b[0;32m--> 246\u001b[0;31m                         \u001b[0mselected_variables\u001b[0m \u001b[0;34m=\u001b[0m \u001b[0mask_for_variable_to_apply_data_imputation\u001b[0m\u001b[0;34m(\u001b[0m\u001b[0mview_feature_names\u001b[0m\u001b[0;34m)\u001b[0m\u001b[0;34m\u001b[0m\u001b[0;34m\u001b[0m\u001b[0m\n\u001b[0m\u001b[1;32m    247\u001b[0m \u001b[0;34m\u001b[0m\u001b[0m\n\u001b[1;32m    248\u001b[0m \u001b[0;34m\u001b[0m\u001b[0m\n",
      "\u001b[0;32m/home/ybouilla/fedbiomed/fedbiomed/common/data_tool/data_format_ref_cli.py\u001b[0m in \u001b[0;36mask_for_variable_to_apply_data_imputation\u001b[0;34m(view_feature_names)\u001b[0m\n\u001b[1;32m    133\u001b[0m     \u001b[0mresume_msg\u001b[0m \u001b[0;34m+=\u001b[0m \u001b[0mget_yes_no_msg\u001b[0m\u001b[0;34m(\u001b[0m\u001b[0;34m)\u001b[0m\u001b[0;34m\u001b[0m\u001b[0;34m\u001b[0m\u001b[0m\n\u001b[1;32m    134\u001b[0m     \u001b[0;32mwhile\u001b[0m \u001b[0;32mnot\u001b[0m \u001b[0m_is_finished\u001b[0m\u001b[0;34m:\u001b[0m\u001b[0;34m\u001b[0m\u001b[0;34m\u001b[0m\u001b[0m\n\u001b[0;32m--> 135\u001b[0;31m         ask_select_variable_msg(view_feature_names,\n\u001b[0m\u001b[1;32m    136\u001b[0m                                 \u001b[0mselected_view_idx\u001b[0m\u001b[0;34m,\u001b[0m\u001b[0;34m\u001b[0m\u001b[0;34m\u001b[0m\u001b[0m\n\u001b[1;32m    137\u001b[0m                                 selected_views_features)\n",
      "\u001b[0;32m/home/ybouilla/fedbiomed/fedbiomed/common/data_tool/data_format_ref_cli.py\u001b[0m in \u001b[0;36mask_select_variable_msg\u001b[0;34m(view_feature_names, selected_views_idx, selected_views_features)\u001b[0m\n\u001b[1;32m     77\u001b[0m                                                \u001b[0minter_msg_idx\u001b[0m\u001b[0;34m=\u001b[0m\u001b[0mselected_feature_names\u001b[0m\u001b[0;34m,\u001b[0m\u001b[0;34m\u001b[0m\u001b[0;34m\u001b[0m\u001b[0m\n\u001b[1;32m     78\u001b[0m                                                final_msg='select all features')\n\u001b[0;32m---> 79\u001b[0;31m         \u001b[0m_answer\u001b[0m \u001b[0;34m=\u001b[0m \u001b[0mint\u001b[0m\u001b[0;34m(\u001b[0m\u001b[0mget_user_input\u001b[0m\u001b[0;34m(\u001b[0m\u001b[0mfeature_msg\u001b[0m\u001b[0;34m,\u001b[0m \u001b[0mlast_key\u001b[0m\u001b[0;34m)\u001b[0m\u001b[0;34m)\u001b[0m\u001b[0;34m\u001b[0m\u001b[0;34m\u001b[0m\u001b[0m\n\u001b[0m\u001b[1;32m     80\u001b[0m \u001b[0;34m\u001b[0m\u001b[0m\n\u001b[1;32m     81\u001b[0m         \u001b[0;32mif\u001b[0m \u001b[0m_answer\u001b[0m \u001b[0;34m==\u001b[0m \u001b[0mlast_key\u001b[0m\u001b[0;34m:\u001b[0m\u001b[0;34m\u001b[0m\u001b[0;34m\u001b[0m\u001b[0m\n",
      "\u001b[0;32m/home/ybouilla/fedbiomed/fedbiomed/common/data_tool/data_format_ref_cli.py\u001b[0m in \u001b[0;36mget_user_input\u001b[0;34m(msg, n_answers)\u001b[0m\n\u001b[1;32m    263\u001b[0m     \u001b[0;32mwhile\u001b[0m \u001b[0;32mnot\u001b[0m \u001b[0mis_column_parsed\u001b[0m\u001b[0;34m:\u001b[0m\u001b[0;34m\u001b[0m\u001b[0;34m\u001b[0m\u001b[0m\n\u001b[1;32m    264\u001b[0m         \u001b[0;31m#data_format_id = input(f'specify data type for {feature}:\\n' + msg )\u001b[0m\u001b[0;34m\u001b[0m\u001b[0;34m\u001b[0m\u001b[0m\n\u001b[0;32m--> 265\u001b[0;31m         \u001b[0mresp\u001b[0m \u001b[0;34m=\u001b[0m \u001b[0minput\u001b[0m\u001b[0;34m(\u001b[0m\u001b[0mmsg\u001b[0m\u001b[0;34m)\u001b[0m\u001b[0;34m\u001b[0m\u001b[0;34m\u001b[0m\u001b[0m\n\u001b[0m\u001b[1;32m    266\u001b[0m         \u001b[0;32mif\u001b[0m \u001b[0mresp\u001b[0m\u001b[0;34m.\u001b[0m\u001b[0misdigit\u001b[0m\u001b[0;34m(\u001b[0m\u001b[0;34m)\u001b[0m \u001b[0;32mand\u001b[0m \u001b[0mint\u001b[0m\u001b[0;34m(\u001b[0m\u001b[0mresp\u001b[0m\u001b[0;34m)\u001b[0m \u001b[0;34m<=\u001b[0m \u001b[0mn_answers\u001b[0m \u001b[0;32mand\u001b[0m \u001b[0mint\u001b[0m\u001b[0;34m(\u001b[0m\u001b[0mresp\u001b[0m\u001b[0;34m)\u001b[0m\u001b[0;34m>\u001b[0m\u001b[0;36m0\u001b[0m\u001b[0;34m:\u001b[0m\u001b[0;34m\u001b[0m\u001b[0;34m\u001b[0m\u001b[0m\n\u001b[1;32m    267\u001b[0m             \u001b[0;31m# check if value passed by user is correct (if it is integer,\u001b[0m\u001b[0;34m\u001b[0m\u001b[0;34m\u001b[0m\u001b[0m\n",
      "\u001b[0;32m~/.conda/envs/fedbiomed-researcher/lib/python3.9/site-packages/ipykernel/kernelbase.py\u001b[0m in \u001b[0;36mraw_input\u001b[0;34m(self, prompt)\u001b[0m\n\u001b[1;32m   1004\u001b[0m                 \u001b[0;34m\"raw_input was called, but this frontend does not support input requests.\"\u001b[0m\u001b[0;34m\u001b[0m\u001b[0;34m\u001b[0m\u001b[0m\n\u001b[1;32m   1005\u001b[0m             )\n\u001b[0;32m-> 1006\u001b[0;31m         return self._input_request(\n\u001b[0m\u001b[1;32m   1007\u001b[0m             \u001b[0mstr\u001b[0m\u001b[0;34m(\u001b[0m\u001b[0mprompt\u001b[0m\u001b[0;34m)\u001b[0m\u001b[0;34m,\u001b[0m\u001b[0;34m\u001b[0m\u001b[0;34m\u001b[0m\u001b[0m\n\u001b[1;32m   1008\u001b[0m             \u001b[0mself\u001b[0m\u001b[0;34m.\u001b[0m\u001b[0m_parent_ident\u001b[0m\u001b[0;34m[\u001b[0m\u001b[0;34m\"shell\"\u001b[0m\u001b[0;34m]\u001b[0m\u001b[0;34m,\u001b[0m\u001b[0;34m\u001b[0m\u001b[0;34m\u001b[0m\u001b[0m\n",
      "\u001b[0;32m~/.conda/envs/fedbiomed-researcher/lib/python3.9/site-packages/ipykernel/kernelbase.py\u001b[0m in \u001b[0;36m_input_request\u001b[0;34m(self, prompt, ident, parent, password)\u001b[0m\n\u001b[1;32m   1049\u001b[0m             \u001b[0;32mexcept\u001b[0m \u001b[0mKeyboardInterrupt\u001b[0m\u001b[0;34m:\u001b[0m\u001b[0;34m\u001b[0m\u001b[0;34m\u001b[0m\u001b[0m\n\u001b[1;32m   1050\u001b[0m                 \u001b[0;31m# re-raise KeyboardInterrupt, to truncate traceback\u001b[0m\u001b[0;34m\u001b[0m\u001b[0;34m\u001b[0m\u001b[0m\n\u001b[0;32m-> 1051\u001b[0;31m                 \u001b[0;32mraise\u001b[0m \u001b[0mKeyboardInterrupt\u001b[0m\u001b[0;34m(\u001b[0m\u001b[0;34m\"Interrupted by user\"\u001b[0m\u001b[0;34m)\u001b[0m \u001b[0;32mfrom\u001b[0m \u001b[0;32mNone\u001b[0m\u001b[0;34m\u001b[0m\u001b[0;34m\u001b[0m\u001b[0m\n\u001b[0m\u001b[1;32m   1052\u001b[0m             \u001b[0;32mexcept\u001b[0m \u001b[0mException\u001b[0m\u001b[0;34m:\u001b[0m\u001b[0;34m\u001b[0m\u001b[0;34m\u001b[0m\u001b[0m\n\u001b[1;32m   1053\u001b[0m                 \u001b[0mself\u001b[0m\u001b[0;34m.\u001b[0m\u001b[0mlog\u001b[0m\u001b[0;34m.\u001b[0m\u001b[0mwarning\u001b[0m\u001b[0;34m(\u001b[0m\u001b[0;34m\"Invalid Message:\"\u001b[0m\u001b[0;34m,\u001b[0m \u001b[0mexc_info\u001b[0m\u001b[0;34m=\u001b[0m\u001b[0;32mTrue\u001b[0m\u001b[0;34m)\u001b[0m\u001b[0;34m\u001b[0m\u001b[0;34m\u001b[0m\u001b[0m\n",
      "\u001b[0;31mKeyboardInterrupt\u001b[0m: Interrupted by user"
     ]
    }
   ],
   "source": [
    "multi_data_format_file_test = get_from_user_multi_view_dataset_fromat_file(multi_view_dataframe)"
   ]
  },
  {
   "cell_type": "code",
   "execution_count": 5,
   "id": "1268c7f3",
   "metadata": {},
   "outputs": [
    {
     "data": {
      "text/plain": [
       "{'file1': {'o': {'data_format': 'QUANTITATIVE',\n",
       "   'data_type': 'DISCRETE',\n",
       "   'values': 'int64',\n",
       "   'is_missing_values': True,\n",
       "   'data_imputation_method': None,\n",
       "   'data_imputation_parameters': None},\n",
       "  '0': {'data_format': 'CATEGORICAL',\n",
       "   'data_type': 'BOOLEAN',\n",
       "   'values': 'bool',\n",
       "   'is_missing_values': False,\n",
       "   'data_imputation_method': None,\n",
       "   'data_imputation_parameters': None},\n",
       "  '3': {'data_format': 'UNKNOWN',\n",
       "   'data_type': 'UNKNOWN',\n",
       "   'values': 'bool',\n",
       "   'is_missing_values': False,\n",
       "   'data_imputation_method': None,\n",
       "   'data_imputation_parameters': None},\n",
       "  'time': {'data_format': 'DATETIME',\n",
       "   'data_type': 'DATETIME',\n",
       "   'values': 'object',\n",
       "   'is_missing_values': False,\n",
       "   'data_imputation_method': None,\n",
       "   'data_imputation_parameters': None},\n",
       "  'pressure': {'data_format': 'QUANTITATIVE',\n",
       "   'data_type': 'CONTINUOUS',\n",
       "   'values': 'float64',\n",
       "   'is_missing_values': True,\n",
       "   'data_imputation_method': 'LINEAR_INTERPOLATION_IMPUTATION',\n",
       "   'data_imputation_parameters': None},\n",
       "  'gender': {'data_format': 'CATEGORICAL',\n",
       "   'data_type': 'CHARACTER',\n",
       "   'values': 'object',\n",
       "   'is_missing_values': True,\n",
       "   'data_imputation_method': 'MODE_IMPUTATION',\n",
       "   'data_imputation_parameters': None},\n",
       "  'blood type': {'data_format': 'CATEGORICAL',\n",
       "   'data_type': 'CHARACTER',\n",
       "   'values': 'object',\n",
       "   'is_missing_values': False,\n",
       "   'data_imputation_method': None,\n",
       "   'data_imputation_parameters': None},\n",
       "  'pkey': {'data_format': 'KEY',\n",
       "   'data_type': 'DATETIME',\n",
       "   'values': 'object',\n",
       "   'is_missing_values': False,\n",
       "   'data_imputation_method': None,\n",
       "   'data_imputation_parameters': None}},\n",
       " 'contatct': {'city': {'data_format': 'CATEGORICAL',\n",
       "   'data_type': 'CHARACTER',\n",
       "   'values': 'object',\n",
       "   'is_missing_values': False,\n",
       "   'data_imputation_method': None,\n",
       "   'data_imputation_parameters': None},\n",
       "  'pkey': {'data_format': 'KEY',\n",
       "   'data_type': 'DATETIME',\n",
       "   'values': 'object',\n",
       "   'is_missing_values': False,\n",
       "   'data_imputation_method': None,\n",
       "   'data_imputation_parameters': None}},\n",
       " 'file2': {'0': {'data_format': 'UNKNOWN',\n",
       "   'data_type': 'UNKNOWN',\n",
       "   'values': 'bool',\n",
       "   'is_missing_values': True,\n",
       "   'data_imputation_method': 'MODE_IMPUTATION',\n",
       "   'data_imputation_parameters': None},\n",
       "  'time': {'data_format': 'DATETIME',\n",
       "   'data_type': 'DATETIME',\n",
       "   'values': 'object',\n",
       "   'is_missing_values': False,\n",
       "   'data_imputation_method': None,\n",
       "   'data_imputation_parameters': None},\n",
       "  'pH': {'data_format': 'QUANTITATIVE',\n",
       "   'data_type': 'CONTINUOUS',\n",
       "   'values': 'float64',\n",
       "   'is_missing_values': True,\n",
       "   'data_imputation_method': 'MEAN_IMPUTATION',\n",
       "   'data_imputation_parameters': None},\n",
       "  'pkey': {'data_format': 'KEY',\n",
       "   'data_type': 'DATETIME',\n",
       "   'values': 'object',\n",
       "   'is_missing_values': False,\n",
       "   'data_imputation_method': None,\n",
       "   'data_imputation_parameters': None}}}"
      ]
     },
     "execution_count": 5,
     "metadata": {},
     "output_type": "execute_result"
    }
   ],
   "source": [
    "multi_data_format_file_test"
   ]
  },
  {
   "cell_type": "markdown",
   "id": "4d533e99",
   "metadata": {},
   "source": [
    "Data format file to be filled by clinicians (step 2 int he workflow):\n",
    "\n",
    "Data format file will be a dictionary specifying the type: \n",
    "\n",
    "\n",
    "```\n",
    "{<view_name>: {<feature_name>: {'data_format' : <data_fomat>,\n",
    "                                   'data_type': <data_type>,\n",
    "                                   'type':<values_taken>,\n",
    "                                   'is_missing_values': <True/False>,\n",
    "                                   'data_imputation_method': <name_of_dta_imputation_method> ,\n",
    "                                   'data_imputation_parameters': <parameter_of_iputation_method>,\n",
    "                                   'lower_bound': <float>,\n",
    "                                   'upper_bound': <float>,\n",
    "                                   'categorical_value': <List[values]>}\n",
    "                                   }\n",
    "                   }\n",
    "    }\n",
    "```\n",
    "\n",
    "where\n",
    "* `<view_name>` is the name of the view\n",
    "* `<feature_name>` is the name of the feature\n",
    "* `<data_type>` can be categorical or continuous or missing_data or datetime\n",
    "* `<value_taken>` is the type of the value (eg int, str, float, ...)\n"
   ]
  },
  {
   "cell_type": "code",
   "execution_count": 9,
   "id": "cd352995",
   "metadata": {},
   "outputs": [
    {
     "name": "stdout",
     "output_type": "stream",
     "text": [
      "Model successfully saved at multi_data_format_file_test.json\n"
     ]
    }
   ],
   "source": [
    "from typing import Any, Dict\n",
    "import json\n",
    "\n",
    "def save_format_file_ref(format_file_ref: Dict[str, Dict[str, Any]], path: str):\n",
    "    # save `format_file_ref` into a JSON file\n",
    "    with open(path, \"w\") as format_file:\n",
    "        json.dump(format_file_ref, format_file)\n",
    "    print(f\"Model successfully saved at {path}\")\n",
    "    \n",
    "    \n",
    "save_format_file_ref(multi_data_format_file_test, 'multi_data_format_file_test.json')"
   ]
  },
  {
   "cell_type": "code",
   "execution_count": null,
   "id": "d0a2e8c3",
   "metadata": {},
   "outputs": [],
   "source": []
  },
  {
   "cell_type": "markdown",
   "id": "c8b173a3",
   "metadata": {},
   "source": [
    "## 2.3 edit   `data_format_ref` file from an existing  `data_format_ref` file\n",
    "\n",
    "CLI `edit_format_file_ref` allows to specify additional information for checking, including:\n",
    " - lower and upper bounds\n",
    " - catgorical_value (eg MALE, FEMALE)\n",
    " - data_type (not inferred anymore)\n",
    " - data imputation method (not inferred anymore)"
   ]
  },
  {
   "cell_type": "code",
   "execution_count": 13,
   "id": "fc0f354b",
   "metadata": {},
   "outputs": [
    {
     "name": "stdout",
     "output_type": "stream",
     "text": [
      "Now editing format file ref\n",
      "Edit file: file1?\n",
      "1) YES\n",
      "2) NO\n",
      "1\n",
      "Edit variable: e?\n",
      "1) YES\n",
      "2) NO\n",
      "1\n",
      "Which field should be modified?\n",
      "1) data_type\n",
      "2) lower bound\n",
      "3)upper bound\n",
      "4) Data Value amputation method\n",
      "5) Cancel Operation\n",
      "4\n",
      "action 4 5 {'1': <function ask_for_data_type at 0x7f931e5edca0>, '2': <function ask_for_lower_bound at 0x7f931e5edaf0>, '3': <function ask_for_upper_bound at 0x7f931e5edb80>, '4': <function ask_for_data_amputation_method at 0x7f931e5edd30>, '5': <function cancel_operation at 0x7f931e5eda60>}\n",
      "Please select the following method for filling missing values (if some are found)\n",
      "1) MEAN_IMPUTATION\n",
      "2) MODE_IMPUTATION\n",
      "3) KNN_IMPUTATION\n",
      "4) LINEAR_INTERPOLATION_IMPUTATION\n",
      "5) No method\n",
      "4\n",
      "Continue Editing variable: e?\n",
      "1) YES\n",
      "2) NO\n",
      "1\n",
      "Which field should be modified?\n",
      "1) data_type\n",
      "2) lower bound\n",
      "3)upper bound\n",
      "4) Data Value amputation method\n",
      "5) Cancel Operation\n",
      "4\n",
      "action 4 5 {'1': <function ask_for_data_type at 0x7f931e5edca0>, '2': <function ask_for_lower_bound at 0x7f931e5edaf0>, '3': <function ask_for_upper_bound at 0x7f931e5edb80>, '4': <function ask_for_data_amputation_method at 0x7f931e5edd30>, '5': <function cancel_operation at 0x7f931e5eda60>}\n",
      "Please select the following method for filling missing values (if some are found)\n",
      "1) MEAN_IMPUTATION\n",
      "2) MODE_IMPUTATION\n",
      "3) KNN_IMPUTATION\n",
      "4) LINEAR_INTERPOLATION_IMPUTATION\n",
      "5) No method\n",
      "3\n",
      "Method amputation selected: KNN_IMPUTATION\n",
      "\n",
      "please specify k value:\n",
      "6\n",
      "amput param {'k': '6'}\n"
     ]
    },
    {
     "ename": "KeyboardInterrupt",
     "evalue": "Interrupted by user",
     "output_type": "error",
     "traceback": [
      "\u001b[0;31m---------------------------------------------------------------------------\u001b[0m",
      "\u001b[0;31mKeyboardInterrupt\u001b[0m                         Traceback (most recent call last)",
      "\u001b[0;32m/tmp/ipykernel_7110/3824477224.py\u001b[0m in \u001b[0;36m<module>\u001b[0;34m\u001b[0m\n\u001b[1;32m      5\u001b[0m \u001b[0mmulti_data_format_file_test\u001b[0m \u001b[0;34m=\u001b[0m \u001b[0mutils\u001b[0m\u001b[0;34m.\u001b[0m\u001b[0mload_format_file_ref\u001b[0m\u001b[0;34m(\u001b[0m\u001b[0;34m'multi_format_file'\u001b[0m\u001b[0;34m)\u001b[0m\u001b[0;34m\u001b[0m\u001b[0;34m\u001b[0m\u001b[0m\n\u001b[1;32m      6\u001b[0m \u001b[0;34m\u001b[0m\u001b[0m\n\u001b[0;32m----> 7\u001b[0;31m \u001b[0medit_multi_view_format_file_test\u001b[0m \u001b[0;34m=\u001b[0m \u001b[0medit_format_file_ref\u001b[0m\u001b[0;34m(\u001b[0m\u001b[0mmulti_data_format_file_test\u001b[0m\u001b[0;34m)\u001b[0m\u001b[0;34m\u001b[0m\u001b[0;34m\u001b[0m\u001b[0m\n\u001b[0m",
      "\u001b[0;32m/home/ybouilla/fedbiomed/fedbiomed/common/data_tool/data_format_ref_cli.py\u001b[0m in \u001b[0;36medit_format_file_ref\u001b[0;34m(format_file_ref)\u001b[0m\n\u001b[1;32m    233\u001b[0m                     \u001b[0mimputation_method\u001b[0m \u001b[0;34m=\u001b[0m \u001b[0mimputation_method_selected\u001b[0m\u001b[0;34m.\u001b[0m\u001b[0mname\u001b[0m\u001b[0;34m\u001b[0m\u001b[0;34m\u001b[0m\u001b[0m\n\u001b[1;32m    234\u001b[0m                     \u001b[0;32mif\u001b[0m \u001b[0mimputation_method_selected\u001b[0m\u001b[0;34m.\u001b[0m\u001b[0mparameters_to_ask_user\u001b[0m \u001b[0;32mis\u001b[0m \u001b[0;32mnot\u001b[0m \u001b[0;32mNone\u001b[0m\u001b[0;34m:\u001b[0m\u001b[0;34m\u001b[0m\u001b[0;34m\u001b[0m\u001b[0m\n\u001b[0;32m--> 235\u001b[0;31m                         \u001b[0mprint\u001b[0m\u001b[0;34m(\u001b[0m\u001b[0;34mf'Selected: {imputation_method}\\n'\u001b[0m\u001b[0;34m)\u001b[0m\u001b[0;34m\u001b[0m\u001b[0;34m\u001b[0m\u001b[0m\n\u001b[0m\u001b[1;32m    236\u001b[0m                         \u001b[0mimputation_method_parameters\u001b[0m \u001b[0;34m=\u001b[0m \u001b[0mask_for_data_imputation_parameters\u001b[0m\u001b[0;34m(\u001b[0m\u001b[0mimputation_method_selected\u001b[0m\u001b[0;34m.\u001b[0m\u001b[0mparameters_to_ask_user\u001b[0m\u001b[0;34m)\u001b[0m\u001b[0;34m\u001b[0m\u001b[0;34m\u001b[0m\u001b[0m\n\u001b[1;32m    237\u001b[0m                         \u001b[0mprint\u001b[0m\u001b[0;34m(\u001b[0m\u001b[0;34m'imput param'\u001b[0m\u001b[0;34m,\u001b[0m \u001b[0mimputation_method_parameters\u001b[0m\u001b[0;34m)\u001b[0m\u001b[0;34m\u001b[0m\u001b[0;34m\u001b[0m\u001b[0m\n",
      "\u001b[0;32m/home/ybouilla/fedbiomed/fedbiomed/common/data_tool/data_format_ref_cli.py\u001b[0m in \u001b[0;36medit_feature_format_file_ref\u001b[0;34m(feature_content, feature_name, available_categorical_data_type, messages, ignore_keystroke)\u001b[0m\n\u001b[1;32m    490\u001b[0m     \u001b[0m_imputation_method_parameters\u001b[0m \u001b[0;34m=\u001b[0m \u001b[0;32mNone\u001b[0m\u001b[0;34m\u001b[0m\u001b[0;34m\u001b[0m\u001b[0m\n\u001b[1;32m    491\u001b[0m \u001b[0;34m\u001b[0m\u001b[0m\n\u001b[0;32m--> 492\u001b[0;31m     \u001b[0;31m# get user message + dictionary mapping user responses to data amputation methods\u001b[0m\u001b[0;34m\u001b[0m\u001b[0;34m\u001b[0m\u001b[0m\n\u001b[0m\u001b[1;32m    493\u001b[0m     \u001b[0m_msg_data_imputation_methods\u001b[0m\u001b[0;34m,\u001b[0m \u001b[0m_data_imputation_methods\u001b[0m \u001b[0;34m=\u001b[0m \u001b[0mget_data_imputation_methods_msg\u001b[0m\u001b[0;34m(\u001b[0m\u001b[0md_type\u001b[0m\u001b[0;34m)\u001b[0m\u001b[0;34m\u001b[0m\u001b[0;34m\u001b[0m\u001b[0m\n\u001b[1;32m    494\u001b[0m \u001b[0;34m\u001b[0m\u001b[0m\n",
      "\u001b[0;32m/home/ybouilla/fedbiomed/fedbiomed/common/data_tool/data_format_ref_cli.py\u001b[0m in \u001b[0;36mget_user_input\u001b[0;34m(msg, n_answers)\u001b[0m\n\u001b[1;32m    161\u001b[0m     \u001b[0;31m# to not use specific method\u001b[0m\u001b[0;34m\u001b[0m\u001b[0;34m\u001b[0m\u001b[0m\n\u001b[1;32m    162\u001b[0m     \u001b[0mselect_action\u001b[0m\u001b[0;34m[\u001b[0m\u001b[0mstr\u001b[0m\u001b[0;34m(\u001b[0m\u001b[0mi\u001b[0m\u001b[0;34m)\u001b[0m\u001b[0;34m]\u001b[0m \u001b[0;34m=\u001b[0m \u001b[0;32mNone\u001b[0m\u001b[0;34m\u001b[0m\u001b[0;34m\u001b[0m\u001b[0m\n\u001b[0;32m--> 163\u001b[0;31m     \u001b[0;32mreturn\u001b[0m \u001b[0mmsg\u001b[0m\u001b[0;34m,\u001b[0m \u001b[0mselect_action\u001b[0m\u001b[0;34m\u001b[0m\u001b[0;34m\u001b[0m\u001b[0m\n\u001b[0m\u001b[1;32m    164\u001b[0m \u001b[0;34m\u001b[0m\u001b[0m\n\u001b[1;32m    165\u001b[0m \u001b[0;32mdef\u001b[0m \u001b[0mno_methods\u001b[0m\u001b[0;34m(\u001b[0m\u001b[0;34m*\u001b[0m\u001b[0mkwargs\u001b[0m\u001b[0;34m)\u001b[0m\u001b[0;34m:\u001b[0m\u001b[0;34m\u001b[0m\u001b[0;34m\u001b[0m\u001b[0m\n",
      "\u001b[0;32m~/.conda/envs/fedbiomed-researcher/lib/python3.9/site-packages/ipykernel/kernelbase.py\u001b[0m in \u001b[0;36mraw_input\u001b[0;34m(self, prompt)\u001b[0m\n\u001b[1;32m   1004\u001b[0m                 \u001b[0;34m\"raw_input was called, but this frontend does not support input requests.\"\u001b[0m\u001b[0;34m\u001b[0m\u001b[0;34m\u001b[0m\u001b[0m\n\u001b[1;32m   1005\u001b[0m             )\n\u001b[0;32m-> 1006\u001b[0;31m         return self._input_request(\n\u001b[0m\u001b[1;32m   1007\u001b[0m             \u001b[0mstr\u001b[0m\u001b[0;34m(\u001b[0m\u001b[0mprompt\u001b[0m\u001b[0;34m)\u001b[0m\u001b[0;34m,\u001b[0m\u001b[0;34m\u001b[0m\u001b[0;34m\u001b[0m\u001b[0m\n\u001b[1;32m   1008\u001b[0m             \u001b[0mself\u001b[0m\u001b[0;34m.\u001b[0m\u001b[0m_parent_ident\u001b[0m\u001b[0;34m[\u001b[0m\u001b[0;34m\"shell\"\u001b[0m\u001b[0;34m]\u001b[0m\u001b[0;34m,\u001b[0m\u001b[0;34m\u001b[0m\u001b[0;34m\u001b[0m\u001b[0m\n",
      "\u001b[0;32m~/.conda/envs/fedbiomed-researcher/lib/python3.9/site-packages/ipykernel/kernelbase.py\u001b[0m in \u001b[0;36m_input_request\u001b[0;34m(self, prompt, ident, parent, password)\u001b[0m\n\u001b[1;32m   1049\u001b[0m             \u001b[0;32mexcept\u001b[0m \u001b[0mKeyboardInterrupt\u001b[0m\u001b[0;34m:\u001b[0m\u001b[0;34m\u001b[0m\u001b[0;34m\u001b[0m\u001b[0m\n\u001b[1;32m   1050\u001b[0m                 \u001b[0;31m# re-raise KeyboardInterrupt, to truncate traceback\u001b[0m\u001b[0;34m\u001b[0m\u001b[0;34m\u001b[0m\u001b[0m\n\u001b[0;32m-> 1051\u001b[0;31m                 \u001b[0;32mraise\u001b[0m \u001b[0mKeyboardInterrupt\u001b[0m\u001b[0;34m(\u001b[0m\u001b[0;34m\"Interrupted by user\"\u001b[0m\u001b[0;34m)\u001b[0m \u001b[0;32mfrom\u001b[0m \u001b[0;32mNone\u001b[0m\u001b[0;34m\u001b[0m\u001b[0;34m\u001b[0m\u001b[0m\n\u001b[0m\u001b[1;32m   1052\u001b[0m             \u001b[0;32mexcept\u001b[0m \u001b[0mException\u001b[0m\u001b[0;34m:\u001b[0m\u001b[0;34m\u001b[0m\u001b[0;34m\u001b[0m\u001b[0m\n\u001b[1;32m   1053\u001b[0m                 \u001b[0mself\u001b[0m\u001b[0;34m.\u001b[0m\u001b[0mlog\u001b[0m\u001b[0;34m.\u001b[0m\u001b[0mwarning\u001b[0m\u001b[0;34m(\u001b[0m\u001b[0;34m\"Invalid Message:\"\u001b[0m\u001b[0;34m,\u001b[0m \u001b[0mexc_info\u001b[0m\u001b[0;34m=\u001b[0m\u001b[0;32mTrue\u001b[0m\u001b[0;34m)\u001b[0m\u001b[0;34m\u001b[0m\u001b[0;34m\u001b[0m\u001b[0m\n",
      "\u001b[0;31mKeyboardInterrupt\u001b[0m: Interrupted by user"
     ]
    }
   ],
   "source": [
    "from fedbiomed.common.data_tool.data_format_ref_cli import get_from_user_multi_view_dataset_fromat_file, edit_format_file_ref\n",
    "from  fedbiomed.common.data_tool import utils\n",
    "\n",
    "\n",
    "multi_data_format_file_test = utils.load_format_file_ref('multi_format_file')\n",
    "\n",
    "edit_multi_view_format_file_test = edit_format_file_ref(multi_data_format_file_test)"
   ]
  },
  {
   "cell_type": "markdown",
   "id": "955447d2",
   "metadata": {},
   "source": [
    "## 2.4 create custom DataType\n",
    "\n",
    "This may be re work because depends on a third party package `aenum`"
   ]
  },
  {
   "cell_type": "code",
   "execution_count": 4,
   "id": "25c57f6b",
   "metadata": {},
   "outputs": [],
   "source": [
    "from demo_poc_data_wrapper.data_type import extend_data_type_properties, extend_data_type\n",
    "\n",
    "\n",
    "extend_data_type_properties('MYDATATYPE', (False, False, False, False, False))\n",
    "\n",
    "extend_data_type('MYDATATYPE', 'datatype')"
   ]
  },
  {
   "cell_type": "code",
   "execution_count": 5,
   "id": "b84824ed",
   "metadata": {},
   "outputs": [
    {
     "name": "stdout",
     "output_type": "stream",
     "text": [
      "++++++++++++++++++++++++++++++++++++++++++++++++++++++\n",
      "+++++++ Now parsing view: file1 +++++++\n",
      "++++++++++++++++++++++++++++++++++++++++++++++++++++++\n",
      "displaying first 10 values of feature a (n_feature: 1/18)\n",
      "0    48\n",
      "1    87\n",
      "2    46\n",
      "3    84\n",
      "4    94\n",
      "5    18\n",
      "6    15\n",
      "7    30\n",
      "8    54\n",
      "9    46\n",
      "Name: a, dtype: int64\n",
      "number of differents samples: 57 / total of samples: 100\n"
     ]
    },
    {
     "ename": "KeyboardInterrupt",
     "evalue": "Interrupted by user",
     "output_type": "error",
     "traceback": [
      "\u001b[0;31m---------------------------------------------------------------------------\u001b[0m",
      "\u001b[0;31mKeyboardInterrupt\u001b[0m                         Traceback (most recent call last)",
      "\u001b[0;32m/tmp/ipykernel_20017/3598209826.py\u001b[0m in \u001b[0;36m<module>\u001b[0;34m\u001b[0m\n\u001b[0;32m----> 1\u001b[0;31m \u001b[0mmulti_data_format_file_test\u001b[0m \u001b[0;34m=\u001b[0m \u001b[0mget_from_user_multi_view_dataset_fromat_file\u001b[0m\u001b[0;34m(\u001b[0m\u001b[0mmulti_view_dataframe\u001b[0m\u001b[0;34m)\u001b[0m\u001b[0;34m\u001b[0m\u001b[0;34m\u001b[0m\u001b[0m\n\u001b[0m",
      "\u001b[0;32m/home/ybouilla/fedbiomed/notebooks/demo_poc_data_wrapper/data_format_ref_cli.py\u001b[0m in \u001b[0;36mget_from_user_multi_view_dataset_fromat_file\u001b[0;34m(datasets)\u001b[0m\n\u001b[1;32m    183\u001b[0m         \u001b[0mprint\u001b[0m\u001b[0;34m(\u001b[0m\u001b[0;34mf\"+++++++ Now parsing view: {tabular_data_file} +++++++\"\u001b[0m\u001b[0;34m)\u001b[0m\u001b[0;34m\u001b[0m\u001b[0;34m\u001b[0m\u001b[0m\n\u001b[1;32m    184\u001b[0m         \u001b[0mprint\u001b[0m\u001b[0;34m(\u001b[0m\u001b[0;34m\"++++++++++++++++++++++++++++++++++++++++++++++++++++++\"\u001b[0m\u001b[0;34m)\u001b[0m\u001b[0;34m\u001b[0m\u001b[0;34m\u001b[0m\u001b[0m\n\u001b[0;32m--> 185\u001b[0;31m         \u001b[0mdata_format_file\u001b[0m \u001b[0;34m=\u001b[0m \u001b[0mget_from_user_dataframe_format_file\u001b[0m\u001b[0;34m(\u001b[0m\u001b[0mdatasets\u001b[0m\u001b[0;34m[\u001b[0m\u001b[0mtabular_data_file\u001b[0m\u001b[0;34m]\u001b[0m\u001b[0;34m)\u001b[0m\u001b[0;34m\u001b[0m\u001b[0;34m\u001b[0m\u001b[0m\n\u001b[0m\u001b[1;32m    186\u001b[0m         \u001b[0;32mif\u001b[0m \u001b[0mdata_format_file\u001b[0m\u001b[0;34m:\u001b[0m\u001b[0;34m\u001b[0m\u001b[0;34m\u001b[0m\u001b[0m\n\u001b[1;32m    187\u001b[0m             \u001b[0;31m# (above condition avoids adding empty views)\u001b[0m\u001b[0;34m\u001b[0m\u001b[0;34m\u001b[0m\u001b[0m\n",
      "\u001b[0;32m/home/ybouilla/fedbiomed/notebooks/demo_poc_data_wrapper/data_format_ref_cli.py\u001b[0m in \u001b[0;36mget_from_user_dataframe_format_file\u001b[0;34m(dataset)\u001b[0m\n\u001b[1;32m     96\u001b[0m \u001b[0;34m\u001b[0m\u001b[0m\n\u001b[1;32m     97\u001b[0m         \u001b[0;31m# ask user about data type\u001b[0m\u001b[0;34m\u001b[0m\u001b[0;34m\u001b[0m\u001b[0m\n\u001b[0;32m---> 98\u001b[0;31m         data_format_id = get_user_input(msg_data_type_selection,\n\u001b[0m\u001b[1;32m     99\u001b[0m \u001b[0;34m\u001b[0m\u001b[0m\n\u001b[1;32m    100\u001b[0m                                        n_answers=ignoring_id)\n",
      "\u001b[0;32m/home/ybouilla/fedbiomed/notebooks/demo_poc_data_wrapper/data_format_ref_cli.py\u001b[0m in \u001b[0;36mget_user_input\u001b[0;34m(msg, n_answers)\u001b[0m\n\u001b[1;32m    161\u001b[0m     \u001b[0;32mwhile\u001b[0m \u001b[0;32mnot\u001b[0m \u001b[0mis_column_parsed\u001b[0m\u001b[0;34m:\u001b[0m\u001b[0;34m\u001b[0m\u001b[0;34m\u001b[0m\u001b[0m\n\u001b[1;32m    162\u001b[0m         \u001b[0;31m#data_format_id = input(f'specify data type for {feature}:\\n' + msg )\u001b[0m\u001b[0;34m\u001b[0m\u001b[0;34m\u001b[0m\u001b[0m\n\u001b[0;32m--> 163\u001b[0;31m         \u001b[0mresp\u001b[0m \u001b[0;34m=\u001b[0m \u001b[0minput\u001b[0m\u001b[0;34m(\u001b[0m\u001b[0mmsg\u001b[0m\u001b[0;34m)\u001b[0m\u001b[0;34m\u001b[0m\u001b[0;34m\u001b[0m\u001b[0m\n\u001b[0m\u001b[1;32m    164\u001b[0m         \u001b[0;32mif\u001b[0m \u001b[0mresp\u001b[0m\u001b[0;34m.\u001b[0m\u001b[0misdigit\u001b[0m\u001b[0;34m(\u001b[0m\u001b[0;34m)\u001b[0m \u001b[0;32mand\u001b[0m \u001b[0mint\u001b[0m\u001b[0;34m(\u001b[0m\u001b[0mresp\u001b[0m\u001b[0;34m)\u001b[0m \u001b[0;34m<=\u001b[0m \u001b[0mn_answers\u001b[0m \u001b[0;32mand\u001b[0m \u001b[0mint\u001b[0m\u001b[0;34m(\u001b[0m\u001b[0mresp\u001b[0m\u001b[0;34m)\u001b[0m\u001b[0;34m>\u001b[0m\u001b[0;36m0\u001b[0m\u001b[0;34m:\u001b[0m\u001b[0;34m\u001b[0m\u001b[0;34m\u001b[0m\u001b[0m\n\u001b[1;32m    165\u001b[0m             \u001b[0;31m# check if value passed by user is correct (if it is integer,\u001b[0m\u001b[0;34m\u001b[0m\u001b[0;34m\u001b[0m\u001b[0m\n",
      "\u001b[0;32m~/.conda/envs/fedbiomed-researcher/lib/python3.9/site-packages/ipykernel/kernelbase.py\u001b[0m in \u001b[0;36mraw_input\u001b[0;34m(self, prompt)\u001b[0m\n\u001b[1;32m   1004\u001b[0m                 \u001b[0;34m\"raw_input was called, but this frontend does not support input requests.\"\u001b[0m\u001b[0;34m\u001b[0m\u001b[0;34m\u001b[0m\u001b[0m\n\u001b[1;32m   1005\u001b[0m             )\n\u001b[0;32m-> 1006\u001b[0;31m         return self._input_request(\n\u001b[0m\u001b[1;32m   1007\u001b[0m             \u001b[0mstr\u001b[0m\u001b[0;34m(\u001b[0m\u001b[0mprompt\u001b[0m\u001b[0;34m)\u001b[0m\u001b[0;34m,\u001b[0m\u001b[0;34m\u001b[0m\u001b[0;34m\u001b[0m\u001b[0m\n\u001b[1;32m   1008\u001b[0m             \u001b[0mself\u001b[0m\u001b[0;34m.\u001b[0m\u001b[0m_parent_ident\u001b[0m\u001b[0;34m[\u001b[0m\u001b[0;34m\"shell\"\u001b[0m\u001b[0;34m]\u001b[0m\u001b[0;34m,\u001b[0m\u001b[0;34m\u001b[0m\u001b[0;34m\u001b[0m\u001b[0m\n",
      "\u001b[0;32m~/.conda/envs/fedbiomed-researcher/lib/python3.9/site-packages/ipykernel/kernelbase.py\u001b[0m in \u001b[0;36m_input_request\u001b[0;34m(self, prompt, ident, parent, password)\u001b[0m\n\u001b[1;32m   1049\u001b[0m             \u001b[0;32mexcept\u001b[0m \u001b[0mKeyboardInterrupt\u001b[0m\u001b[0;34m:\u001b[0m\u001b[0;34m\u001b[0m\u001b[0;34m\u001b[0m\u001b[0m\n\u001b[1;32m   1050\u001b[0m                 \u001b[0;31m# re-raise KeyboardInterrupt, to truncate traceback\u001b[0m\u001b[0;34m\u001b[0m\u001b[0;34m\u001b[0m\u001b[0m\n\u001b[0;32m-> 1051\u001b[0;31m                 \u001b[0;32mraise\u001b[0m \u001b[0mKeyboardInterrupt\u001b[0m\u001b[0;34m(\u001b[0m\u001b[0;34m\"Interrupted by user\"\u001b[0m\u001b[0;34m)\u001b[0m \u001b[0;32mfrom\u001b[0m \u001b[0;32mNone\u001b[0m\u001b[0;34m\u001b[0m\u001b[0;34m\u001b[0m\u001b[0m\n\u001b[0m\u001b[1;32m   1052\u001b[0m             \u001b[0;32mexcept\u001b[0m \u001b[0mException\u001b[0m\u001b[0;34m:\u001b[0m\u001b[0;34m\u001b[0m\u001b[0;34m\u001b[0m\u001b[0m\n\u001b[1;32m   1053\u001b[0m                 \u001b[0mself\u001b[0m\u001b[0;34m.\u001b[0m\u001b[0mlog\u001b[0m\u001b[0;34m.\u001b[0m\u001b[0mwarning\u001b[0m\u001b[0;34m(\u001b[0m\u001b[0;34m\"Invalid Message:\"\u001b[0m\u001b[0;34m,\u001b[0m \u001b[0mexc_info\u001b[0m\u001b[0;34m=\u001b[0m\u001b[0;32mTrue\u001b[0m\u001b[0;34m)\u001b[0m\u001b[0;34m\u001b[0m\u001b[0;34m\u001b[0m\u001b[0m\n",
      "\u001b[0;31mKeyboardInterrupt\u001b[0m: Interrupted by user"
     ]
    }
   ],
   "source": [
    "multi_data_format_file_test = get_from_user_multi_view_dataset_fromat_file(multi_view_dataframe)"
   ]
  },
  {
   "cell_type": "code",
   "execution_count": null,
   "id": "e6feb48e",
   "metadata": {},
   "outputs": [],
   "source": []
  }
 ],
 "metadata": {
  "kernelspec": {
   "display_name": "Python 3 (ipykernel)",
   "language": "python",
   "name": "python3"
  },
  "language_info": {
   "codemirror_mode": {
    "name": "ipython",
    "version": 3
   },
   "file_extension": ".py",
   "mimetype": "text/x-python",
   "name": "python",
   "nbconvert_exporter": "python",
   "pygments_lexer": "ipython3",
   "version": "3.9.7"
  }
 },
 "nbformat": 4,
 "nbformat_minor": 5
}
